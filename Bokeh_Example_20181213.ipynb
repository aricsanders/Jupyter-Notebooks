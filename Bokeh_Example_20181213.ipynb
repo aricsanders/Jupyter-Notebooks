{
 "cells": [
  {
   "cell_type": "code",
   "execution_count": null,
   "metadata": {
    "collapsed": false
   },
   "outputs": [],
   "source": [
    "from pyMez import *"
   ]
  },
  {
   "cell_type": "code",
   "execution_count": 2,
   "metadata": {
    "collapsed": true
   },
   "outputs": [],
   "source": [
    "from bokeh.plotting import figure, output_file, show\n",
    "\n",
    "# prepare some data\n",
    "x = [0.1, 0.5, 1.0, 1.5, 2.0, 2.5, 3.0]\n",
    "y0 = [i**2 for i in x]\n",
    "y1 = [10**i for i in x]\n",
    "y2 = [10**(i**2) for i in x]\n",
    "\n",
    "# output to static HTML file\n",
    "output_file(\"log_lines.html\")\n",
    "\n",
    "# create a new plot\n",
    "p = figure(\n",
    "   tools=\"pan,box_zoom,reset,save\",\n",
    "   y_axis_type=\"log\", y_range=[0.001, 10**11], title=\"log axis example\",\n",
    "   x_axis_label='sections', y_axis_label='particles'\n",
    ")\n",
    "\n",
    "# add some renderers\n",
    "p.line(x, x, legend=\"y=x\")\n",
    "p.circle(x, x, legend=\"y=x\", fill_color=\"white\", size=8)\n",
    "p.line(x, y0, legend=\"y=x^2\", line_width=3)\n",
    "p.line(x, y1, legend=\"y=10^x\", line_color=\"red\")\n",
    "p.circle(x, y1, legend=\"y=10^x\", fill_color=\"red\", line_color=\"red\", size=6)\n",
    "p.line(x, y2, legend=\"y=10^x^2\", line_color=\"orange\", line_dash=\"4 4\")\n",
    "\n",
    "# show the results\n",
    "show(p)"
   ]
  },
  {
   "cell_type": "code",
   "execution_count": 3,
   "metadata": {
    "collapsed": true
   },
   "outputs": [],
   "source": [
    "from bokeh.plotting import figure\n",
    "from bokeh.resources import CDN\n",
    "from bokeh.embed import file_html\n",
    "\n",
    "plot = figure()\n",
    "plot.circle([1,2], [3,4])\n",
    "\n",
    "html = file_html(plot, CDN, \"my plot\")"
   ]
  },
  {
   "cell_type": "code",
   "execution_count": 4,
   "metadata": {
    "collapsed": false
   },
   "outputs": [
    {
     "name": "stdout",
     "output_type": "stream",
     "text": [
      "file://c:/users/sandersa/appdata/local/temp/1/tmpiskjdj.html\n"
     ]
    }
   ],
   "source": [
    "html_plot=HTMLBase(html_text=html)\n",
    "html_plot.show()"
   ]
  },
  {
   "cell_type": "code",
   "execution_count": 5,
   "metadata": {
    "collapsed": true
   },
   "outputs": [],
   "source": [
    "from pyMez.Code.Analysis.Reports import *"
   ]
  },
  {
   "cell_type": "code",
   "execution_count": null,
   "metadata": {
    "collapsed": true
   },
   "outputs": [],
   "source": [
    "{\"*\":\"asterisk\",\n",
    " \"o\":\"circle\",\n",
    " \"o+\":\"circle_cross\",\n",
    " \"ox\":\"circle_x\",\n",
    " \"+\":\"cross\",\n",
    " \"--\":\"dash\",\n",
    " \"d\":\"diamond\",\n",
    " \"d+\":\"diamond_cross\",\n",
    " \"v\":\"inverted_triangle\",\n",
    " \"sq\":\"square\",\n",
    " \"sq+\":\"square_cross\",\n",
    " \"sqx\":\"square_x\",\n",
    " \"^\":\"triangle\",\n",
    " \"x\":\"x\"}"
   ]
  },
  {
   "cell_type": "code",
   "execution_count": 7,
   "metadata": {
    "collapsed": true
   },
   "outputs": [],
   "source": [
    "style_dictionary={\"*\":\"asterisk\",\n",
    "                 \"o\":\"circle\",\n",
    "                 \"o+\":\"circle_cross\",\n",
    "                 \"ox\":\"circle_x\",\n",
    "                 \"+\":\"cross\",\n",
    "                 \"--\":\"dash\",\n",
    "                 \"d\":\"diamond\",\n",
    "                 \"d+\":\"diamond_cross\",\n",
    "                 \"v\":\"inverted_triangle\",\n",
    "                 \"sq\":\"square\",\n",
    "                 \"sq+\":\"square_cross\",\n",
    "                 \"sqx\":\"square_x\",\n",
    "                 \"^\":\"triangle\",\n",
    "                 \"x\":\"x\",\n",
    "                 \"-\":\"line\"}\n",
    "color_dictionary={\"r\":\"red\",\"b\":\"blue\",\"k\":\"black\",\"w\":\"white\",\"g\":\"green\",\"c\":\"cyan\",\"m\":\"magenta\",\"y\":\"yellow\"}\n"
   ]
  },
  {
   "cell_type": "code",
   "execution_count": 15,
   "metadata": {
    "collapsed": false
   },
   "outputs": [
    {
     "data": {
      "text/plain": [
       "[]"
      ]
     },
     "execution_count": 15,
     "metadata": {},
     "output_type": "execute_result"
    }
   ],
   "source": [
    "styles"
   ]
  },
  {
   "cell_type": "code",
   "execution_count": 16,
   "metadata": {
    "collapsed": false
   },
   "outputs": [
    {
     "data": {
      "text/plain": [
       "'red'"
      ]
     },
     "execution_count": 16,
     "metadata": {},
     "output_type": "execute_result"
    }
   ],
   "source": [
    "color"
   ]
  },
  {
   "cell_type": "code",
   "execution_count": 17,
   "metadata": {
    "collapsed": false
   },
   "outputs": [
    {
     "data": {
      "text/plain": [
       "'-x'"
      ]
     },
     "execution_count": 17,
     "metadata": {},
     "output_type": "execute_result"
    }
   ],
   "source": [
    "remaining_code"
   ]
  },
  {
   "cell_type": "code",
   "execution_count": 19,
   "metadata": {
    "collapsed": false
   },
   "outputs": [
    {
     "data": {
      "text/plain": [
       "'*'"
      ]
     },
     "execution_count": 19,
     "metadata": {},
     "output_type": "execute_result"
    }
   ],
   "source": [
    "style_key"
   ]
  },
  {
   "cell_type": "code",
   "execution_count": 23,
   "metadata": {
    "collapsed": false
   },
   "outputs": [
    {
     "name": "stdout",
     "output_type": "stream",
     "text": [
      "['dash', 'asterisk', 'square']\n"
     ]
    }
   ],
   "source": [
    "format_code=\"r--sq*\"\n",
    "remaining_code=format_code\n",
    "for color_code in color_dictionary.keys():\n",
    "        if re.match(color_code,remaining_code):\n",
    "            color=color_dictionary[color_code]\n",
    "            remaining_code=remaining_code.replace(color_code,\"\")\n",
    "styles=[]\n",
    "if \"--\" in remaining_code:\n",
    "    style=\"dash\"\n",
    "    styles.append(style)\n",
    "    remaining_code=remaining_code.replace(\"--\",\"\")\n",
    "\n",
    "i=0\n",
    "sorted_style_keys=sorted(style_dictionary.keys())\n",
    "while ((remaining_code!=\"\") or (i<len(style_dictionary.keys())-1)):\n",
    "    style_key=sorted_style_keys[i]\n",
    "    \n",
    "    if re.search(re.escape(style_key),remaining_code):\n",
    "        styles.append(style_dictionary[style_key])\n",
    "        remaining_code=remaining_code.replace(style_key,\"\")\n",
    "    i+=1\n",
    "print(styles)\n",
    "        "
   ]
  },
  {
   "cell_type": "code",
   "execution_count": 70,
   "metadata": {
    "collapsed": true
   },
   "outputs": [],
   "source": [
    "def parse_format_string(format_string):\n",
    "    \"\"\"Returns a string with color and a list with string styles [color,[style1,style2..]]to be given to bokeh plot\"\"\"\n",
    "    style_dictionary={\"*\":\"asterisk\",\n",
    "                     \"o\":\"circle\",\n",
    "                     \"o+\":\"circle_cross\",\n",
    "                     \"ox\":\"circle_x\",\n",
    "                     \"+\":\"cross\",\n",
    "                     \"--\":\"dash\",\n",
    "                     \"d\":\"diamond\",\n",
    "                     \"d+\":\"diamond_cross\",\n",
    "                     \"v\":\"inverted_triangle\",\n",
    "                     \"sq\":\"square\",\n",
    "                     \"sq+\":\"square_cross\",\n",
    "                     \"sqx\":\"square_x\",\n",
    "                     \"^\":\"triangle\",\n",
    "                     \"x\":\"x\",\n",
    "                     \"-\":\"line\"}\n",
    "    color_dictionary={\"r\":\"red\",\n",
    "                      \"b\":\"blue\",\n",
    "                      \"k\":\"black\",\n",
    "                      \"w\":\"white\",\n",
    "                      \"g\":\"green\",\n",
    "                      \"c\":\"cyan\",\n",
    "                      \"m\":\"magenta\",\n",
    "                      \"y\":\"yellow\"}\n",
    "    remaining_code=format_string\n",
    "    color=\"blue\"\n",
    "    for color_code in color_dictionary.keys():\n",
    "        if re.match(color_code,remaining_code):\n",
    "            color=color_dictionary[color_code]\n",
    "            remaining_code=remaining_code.replace(color_code,\"\")\n",
    "    styles=[]\n",
    "    if \"--\" in remaining_code:\n",
    "        style=\"dash\"\n",
    "        styles.append(style)\n",
    "        remaining_code=remaining_code.replace(\"--\",\"\")\n",
    "\n",
    "    i=0\n",
    "    sorted_style_keys=sorted(style_dictionary.keys())\n",
    "    while ((remaining_code!=\"\") or (i<len(style_dictionary.keys())-1)):\n",
    "        style_key=sorted_style_keys[i]\n",
    "\n",
    "        if re.search(re.escape(style_key),remaining_code):\n",
    "            styles.append(style_dictionary[style_key])\n",
    "            remaining_code=remaining_code.replace(style_key,\"\")\n",
    "        i+=1\n",
    "    return [color,styles]"
   ]
  },
  {
   "cell_type": "code",
   "execution_count": 25,
   "metadata": {
    "collapsed": true
   },
   "outputs": [],
   "source": [
    "from bokeh.plotting import figure\n",
    "from bokeh.embed import components"
   ]
  },
  {
   "cell_type": "code",
   "execution_count": 71,
   "metadata": {
    "collapsed": true
   },
   "outputs": [],
   "source": [
    "cdn_script_string=\"\"\"<script src=\"https://cdn.pydata.org/bokeh/release/bokeh-0.13.0.min.js\"></script>\"\"\"\n",
    "cdn_css_string=\"\"\"<link href=\"https://cdn.pydata.org/bokeh/release/bokeh-0.13.0.min.css\" rel=\"stylesheet\" type=\"text/css\">\"\"\"\n",
    "style_dictionary={\"*\":\"asterisk\",\n",
    "                 \"o\":\"circle\",\n",
    "                 \"o+\":\"circle_cross\",\n",
    "                 \"ox\":\"circle_x\",\n",
    "                 \"+\":\"cross\",\n",
    "                 \"--\":\"dash\",\n",
    "                 \"d\":\"diamond\",\n",
    "                 \"d+\":\"diamond_cross\",\n",
    "                 \"v\":\"inverted_triangle\",\n",
    "                 \"sq\":\"square\",\n",
    "                 \"sq+\":\"square_cross\",\n",
    "                 \"sqx\":\"square_x\",\n",
    "                 \"^\":\"triangle\",\n",
    "                 \"x\":\"x\",\n",
    "                 \"-\":\"line\"}\n",
    "class BokehReport(HTMLReport):\n",
    "    def __init__(self):\n",
    "        HTMLReport.__init__(self)\n",
    "        self.add_head()\n",
    "        self.add_body()\n",
    "        self.append_to_head(cdn_css_string)\n",
    "        self.append_to_head(cdn_script_string)\n",
    "        self.plot_ids=[]\n",
    "\n",
    "    def plot(self,x_data,y_data,format=\"\",**options):\n",
    "        \"\"\"Creates an interactive plot using bokeh and appends to the body\"\"\"\n",
    "        defaults={\"tools\":\"pan,box_zoom,reset,save\",\n",
    "                  \"title\":None,\n",
    "                  \"plot_width\":400, \n",
    "                  \"plot_height\":400}\n",
    "        self.plot_options={}\n",
    "        for key,value in defaults.items():\n",
    "            self.plot_options[key]=value\n",
    "        for key,value in options.items():\n",
    "            self.plot_options[key]=value,\n",
    "            \n",
    "        plot=figure(**self.plot_options)\n",
    "        if format:\n",
    "            [color,styles]=parse_format_string(format)\n",
    "            for style in styles:\n",
    "                plotter=getattr(plot,style)\n",
    "                plotter(x_data,y_data)\n",
    "        \n",
    "        else:\n",
    "            plot.line(x_data,y_data)\n",
    "        plot.line(x_data,y_data)\n",
    "        script,div=components(fig)\n",
    "        self.append_to_head(str(script))\n",
    "        self.append_to_body(str(div))\n",
    "        "
   ]
  },
  {
   "cell_type": "code",
   "execution_count": 72,
   "metadata": {
    "collapsed": true
   },
   "outputs": [],
   "source": [
    "report=BokehReport()"
   ]
  },
  {
   "cell_type": "code",
   "execution_count": 73,
   "metadata": {
    "collapsed": false
   },
   "outputs": [],
   "source": [
    "report.plot(np.linspace(-10,10).tolist(),(np.linspace(-10,10)**2).tolist(),\"r-o\")"
   ]
  },
  {
   "cell_type": "code",
   "execution_count": 74,
   "metadata": {
    "collapsed": false
   },
   "outputs": [
    {
     "name": "stdout",
     "output_type": "stream",
     "text": [
      "file://c:/users/sandersa/appdata/local/temp/1/tmpkcwimo.html\n"
     ]
    }
   ],
   "source": [
    "report.show()"
   ]
  },
  {
   "cell_type": "code",
   "execution_count": 42,
   "metadata": {
    "collapsed": false
   },
   "outputs": [
    {
     "name": "stdout",
     "output_type": "stream",
     "text": [
      "Help on method append_to_body in module Code.DataHandlers.HTMLModels:\n",
      "\n",
      "append_to_body(self, element) unbound __main__.BokehReport method\n",
      "    Appends the element to the body of the model, if it is a string it parses first, if it is a\n",
      "    dictionary it assumes it has the form {\"tag\":tag_name,\"text\":text_text,\n",
      "    \"attribute_dictionary\":{\"attribute_name\":\"attribute_value\"}, and if it is a\n",
      "    lxml.html.HtmlElement it appends it\n",
      "\n"
     ]
    }
   ],
   "source": [
    "help(BokehReport.append_to_body)"
   ]
  },
  {
   "cell_type": "code",
   "execution_count": null,
   "metadata": {
    "collapsed": true
   },
   "outputs": [],
   "source": []
  }
 ],
 "metadata": {
  "kernelspec": {
   "display_name": "Python 2",
   "language": "python",
   "name": "python2"
  },
  "language_info": {
   "codemirror_mode": {
    "name": "ipython",
    "version": 2
   },
   "file_extension": ".py",
   "mimetype": "text/x-python",
   "name": "python",
   "nbconvert_exporter": "python",
   "pygments_lexer": "ipython2",
   "version": "2.7.13"
  }
 },
 "nbformat": 4,
 "nbformat_minor": 2
}
