{
 "cells": [
  {
   "cell_type": "code",
   "execution_count": 1,
   "metadata": {},
   "outputs": [
    {
     "name": "stdout",
     "output_type": "stream",
     "text": [
      "Importing pyMez...\n",
      "The module smithplot was not found,please put it on the python path\n"
     ]
    }
   ],
   "source": [
    "from pyMez import *"
   ]
  },
  {
   "cell_type": "code",
   "execution_count": 2,
   "metadata": {},
   "outputs": [],
   "source": [
    "from bokeh.plotting import figure, output_file, show\n",
    "\n",
    "# prepare some data\n",
    "x = [0.1, 0.5, 1.0, 1.5, 2.0, 2.5, 3.0]\n",
    "y0 = [i**2 for i in x]\n",
    "y1 = [10**i for i in x]\n",
    "y2 = [10**(i**2) for i in x]\n",
    "\n",
    "# output to static HTML file\n",
    "output_file(\"log_lines.html\")\n",
    "\n",
    "# create a new plot\n",
    "p = figure(\n",
    "   tools=\"pan,box_zoom,reset,save\",\n",
    "   y_axis_type=\"log\", y_range=[0.001, 10**11], title=\"log axis example\",\n",
    "   x_axis_label='sections', y_axis_label='particles'\n",
    ")\n",
    "\n",
    "# add some renderers\n",
    "p.line(x, x, legend=\"y=x\")\n",
    "p.circle(x, x, legend=\"y=x\", fill_color=\"white\", size=8)\n",
    "p.line(x, y0, legend=\"y=x^2\", line_width=3)\n",
    "p.line(x, y1, legend=\"y=10^x\", line_color=\"red\")\n",
    "p.circle(x, y1, legend=\"y=10^x\", fill_color=\"red\", line_color=\"red\", size=6)\n",
    "p.line(x, y2, legend=\"y=10^x^2\", line_color=\"orange\", line_dash=\"4 4\")\n",
    "\n",
    "# show the results\n",
    "show(p)"
   ]
  },
  {
   "cell_type": "code",
   "execution_count": 3,
   "metadata": {},
   "outputs": [],
   "source": [
    "from bokeh.plotting import figure\n",
    "from bokeh.resources import CDN\n",
    "from bokeh.embed import file_html\n",
    "\n",
    "plot = figure()\n",
    "plot.circle([1,2], [3,4])\n",
    "\n",
    "html = file_html(plot, CDN, \"my plot\")"
   ]
  },
  {
   "cell_type": "code",
   "execution_count": 4,
   "metadata": {},
   "outputs": [
    {
     "name": "stdout",
     "output_type": "stream",
     "text": [
      "file://C:/Users/sandersa/AppData/Local/Temp/1/tmp9lt2ysnf.html\n"
     ]
    }
   ],
   "source": [
    "html_plot=HTMLBase(html_text=html)\n",
    "html_plot.show()"
   ]
  },
  {
   "cell_type": "code",
   "execution_count": 5,
   "metadata": {},
   "outputs": [
    {
     "name": "stderr",
     "output_type": "stream",
     "text": [
      "C:\\Users\\sandersa\\AppData\\Local\\Continuum\\anaconda3\\lib\\site-packages\\odo\\backends\\pandas.py:102: FutureWarning: pandas.tslib is deprecated and will be removed in a future version.\n",
      "You can access NaTType as type(pandas.NaT)\n",
      "  @convert.register((pd.Timestamp, pd.Timedelta), (pd.tslib.NaTType, type(None)))\n"
     ]
    }
   ],
   "source": [
    "from pyMez.Code.Analysis.Reports import *"
   ]
  },
  {
   "cell_type": "code",
   "execution_count": 6,
   "metadata": {},
   "outputs": [
    {
     "data": {
      "text/plain": [
       "{'*': 'asterisk',\n",
       " 'o': 'circle',\n",
       " 'o+': 'circle_cross',\n",
       " 'ox': 'circle_x',\n",
       " '+': 'cross',\n",
       " '--': 'dash',\n",
       " 'd': 'diamond',\n",
       " 'd+': 'diamond_cross',\n",
       " 'v': 'inverted_triangle',\n",
       " 'sq': 'square',\n",
       " 'sq+': 'square_cross',\n",
       " 'sqx': 'square_x',\n",
       " '^': 'triangle',\n",
       " 'x': 'x'}"
      ]
     },
     "execution_count": 6,
     "metadata": {},
     "output_type": "execute_result"
    }
   ],
   "source": [
    "{\"*\":\"asterisk\",\n",
    " \"o\":\"circle\",\n",
    " \"o+\":\"circle_cross\",\n",
    " \"ox\":\"circle_x\",\n",
    " \"+\":\"cross\",\n",
    " \"--\":\"dash\",\n",
    " \"d\":\"diamond\",\n",
    " \"d+\":\"diamond_cross\",\n",
    " \"v\":\"inverted_triangle\",\n",
    " \"sq\":\"square\",\n",
    " \"sq+\":\"square_cross\",\n",
    " \"sqx\":\"square_x\",\n",
    " \"^\":\"triangle\",\n",
    " \"x\":\"x\"}"
   ]
  },
  {
   "cell_type": "code",
   "execution_count": 7,
   "metadata": {},
   "outputs": [],
   "source": [
    "style_dictionary={\"*\":\"asterisk\",\n",
    "                 \"o\":\"circle\",\n",
    "                 \"o+\":\"circle_cross\",\n",
    "                 \"ox\":\"circle_x\",\n",
    "                 \"+\":\"cross\",\n",
    "                 \"--\":\"dash\",\n",
    "                 \"d\":\"diamond\",\n",
    "                 \"d+\":\"diamond_cross\",\n",
    "                 \"v\":\"inverted_triangle\",\n",
    "                 \"sq\":\"square\",\n",
    "                 \"sq+\":\"square_cross\",\n",
    "                 \"sqx\":\"square_x\",\n",
    "                 \"^\":\"triangle\",\n",
    "                 \"x\":\"x\",\n",
    "                 \"-\":\"line\"}\n",
    "color_dictionary={\"r\":\"red\",\"b\":\"blue\",\"k\":\"black\",\"w\":\"white\",\"g\":\"green\",\"c\":\"cyan\",\"m\":\"magenta\",\"y\":\"yellow\"}\n"
   ]
  },
  {
   "cell_type": "code",
   "execution_count": 239,
   "metadata": {},
   "outputs": [
    {
     "data": {
      "text/plain": [
       "['x',\n",
       " 'v',\n",
       " 'sqx',\n",
       " 'sq+',\n",
       " 'sq',\n",
       " 'ox',\n",
       " 'o+',\n",
       " 'o',\n",
       " 'd+',\n",
       " 'd',\n",
       " '^',\n",
       " '--',\n",
       " '-',\n",
       " '+',\n",
       " '*']"
      ]
     },
     "execution_count": 239,
     "metadata": {},
     "output_type": "execute_result"
    }
   ],
   "source": [
    "sorted(style_dictionary.keys())[::-1]"
   ]
  },
  {
   "cell_type": "code",
   "execution_count": 15,
   "metadata": {},
   "outputs": [
    {
     "data": {
      "text/plain": [
       "[]"
      ]
     },
     "execution_count": 15,
     "metadata": {},
     "output_type": "execute_result"
    }
   ],
   "source": [
    "styles"
   ]
  },
  {
   "cell_type": "code",
   "execution_count": 16,
   "metadata": {},
   "outputs": [
    {
     "data": {
      "text/plain": [
       "'red'"
      ]
     },
     "execution_count": 16,
     "metadata": {},
     "output_type": "execute_result"
    }
   ],
   "source": [
    "color"
   ]
  },
  {
   "cell_type": "code",
   "execution_count": 17,
   "metadata": {},
   "outputs": [
    {
     "data": {
      "text/plain": [
       "'-x'"
      ]
     },
     "execution_count": 17,
     "metadata": {},
     "output_type": "execute_result"
    }
   ],
   "source": [
    "remaining_code"
   ]
  },
  {
   "cell_type": "code",
   "execution_count": 19,
   "metadata": {},
   "outputs": [
    {
     "data": {
      "text/plain": [
       "'*'"
      ]
     },
     "execution_count": 19,
     "metadata": {},
     "output_type": "execute_result"
    }
   ],
   "source": [
    "style_key"
   ]
  },
  {
   "cell_type": "code",
   "execution_count": 8,
   "metadata": {},
   "outputs": [
    {
     "name": "stdout",
     "output_type": "stream",
     "text": [
      "['dash', 'asterisk', 'square']\n"
     ]
    }
   ],
   "source": [
    "format_code=\"r--sq*\"\n",
    "remaining_code=format_code\n",
    "for color_code in color_dictionary.keys():\n",
    "        if re.match(color_code,remaining_code):\n",
    "            color=color_dictionary[color_code]\n",
    "            remaining_code=remaining_code.replace(color_code,\"\")\n",
    "styles=[]\n",
    "if \"--\" in remaining_code:\n",
    "    style=\"dash\"\n",
    "    styles.append(style)\n",
    "    remaining_code=remaining_code.replace(\"--\",\"\")\n",
    "\n",
    "i=0\n",
    "sorted_style_keys=sorted(style_dictionary.keys())\n",
    "while ((remaining_code!=\"\") or (i<len(style_dictionary.keys())-1)):\n",
    "    style_key=sorted_style_keys[i]\n",
    "    \n",
    "    if re.search(re.escape(style_key),remaining_code):\n",
    "        styles.append(style_dictionary[style_key])\n",
    "        remaining_code=remaining_code.replace(style_key,\"\")\n",
    "    i+=1\n",
    "print(styles)\n",
    "        "
   ]
  },
  {
   "cell_type": "code",
   "execution_count": 240,
   "metadata": {},
   "outputs": [],
   "source": [
    "def parse_format_string(format_string):\n",
    "    \"\"\"Returns a string with color and a list with string styles [color,[style1,style2..]]to be given to bokeh plot\"\"\"\n",
    "    style_dictionary={\"*\":\"asterisk\",\n",
    "                     \"o\":\"circle\",\n",
    "                     \"o+\":\"circle_cross\",\n",
    "                     \"ox\":\"circle_x\",\n",
    "                     \"+\":\"cross\",\n",
    "                     \"--\":\"dash\",\n",
    "                     \"d\":\"diamond\",\n",
    "                     \"d+\":\"diamond_cross\",\n",
    "                     \"v\":\"inverted_triangle\",\n",
    "                     \"sq\":\"square\",\n",
    "                     \"sq+\":\"square_cross\",\n",
    "                     \"sqx\":\"square_x\",\n",
    "                     \"^\":\"triangle\",\n",
    "                     \"x\":\"x\",\n",
    "                     \"-\":\"line\"}\n",
    "    color_dictionary={\"r\":\"red\",\n",
    "                      \"b\":\"blue\",\n",
    "                      \"k\":\"black\",\n",
    "                      \"w\":\"white\",\n",
    "                      \"g\":\"green\",\n",
    "                      \"c\":\"cyan\",\n",
    "                      \"m\":\"magenta\",\n",
    "                      \"y\":\"yellow\"}\n",
    "    remaining_code=format_string\n",
    "    color=\"blue\"\n",
    "    for color_code in color_dictionary.keys():\n",
    "        if re.match(color_code,remaining_code):\n",
    "            color=color_dictionary[color_code]\n",
    "            remaining_code=remaining_code.replace(color_code,\"\")\n",
    "    styles=[]\n",
    "    if \"--\" in remaining_code:\n",
    "        style=\"dash\"\n",
    "        styles.append(style)\n",
    "        remaining_code=remaining_code.replace(\"--\",\"\")\n",
    "\n",
    "    i=0\n",
    "    sorted_style_keys=sorted(style_dictionary.keys())[::-1]\n",
    "    while ((remaining_code!=\"\") or (i<len(style_dictionary.keys())-1)):\n",
    "        style_key=sorted_style_keys[i]\n",
    "\n",
    "        if re.search(re.escape(style_key),remaining_code):\n",
    "            styles.append(style_dictionary[style_key])\n",
    "            remaining_code=remaining_code.replace(style_key,\"\")\n",
    "        i+=1\n",
    "    return [color,styles]"
   ]
  },
  {
   "cell_type": "code",
   "execution_count": 14,
   "metadata": {},
   "outputs": [],
   "source": [
    "from bokeh.plotting import figure\n",
    "from bokeh.embed import components"
   ]
  },
  {
   "cell_type": "code",
   "execution_count": 241,
   "metadata": {},
   "outputs": [],
   "source": [
    "cdn_script_string=\"\"\"<script src=\"https://cdn.pydata.org/bokeh/release/bokeh-0.13.0.min.js\"></script>\"\"\"\n",
    "cdn_css_string=\"\"\"<link href=\"https://cdn.pydata.org/bokeh/release/bokeh-0.13.0.min.css\" rel=\"stylesheet\" type=\"text/css\">\"\"\"\n",
    "style_dictionary={\"*\":\"asterisk\",\n",
    "                 \"o\":\"circle\",\n",
    "                 \"o+\":\"circle_cross\",\n",
    "                 \"ox\":\"circle_x\",\n",
    "                 \"+\":\"cross\",\n",
    "                 \"--\":\"dash\",\n",
    "                 \"d\":\"diamond\",\n",
    "                 \"d+\":\"diamond_cross\",\n",
    "                 \"v\":\"inverted_triangle\",\n",
    "                 \"sq\":\"square\",\n",
    "                 \"sq+\":\"square_cross\",\n",
    "                 \"sqx\":\"square_x\",\n",
    "                 \"^\":\"triangle\",\n",
    "                 \"x\":\"x\",\n",
    "                 \"-\":\"line\"}\n",
    "class BokehReport(HTMLReport):\n",
    "    def __init__(self):\n",
    "        HTMLReport.__init__(self)\n",
    "        self.add_head()\n",
    "        self.add_body()\n",
    "        self.append_to_head(cdn_css_string)\n",
    "        self.append_to_head(cdn_script_string)\n",
    "        self.figures=[]\n",
    "        self.div_elements=[]\n",
    "        self.script_elements=[]\n",
    "\n",
    "    def plot(self,x_data,y_data,format=\"\",**options):\n",
    "        \"\"\"Creates an interactive plot using bokeh and appends to the body\"\"\"\n",
    "        defaults={\"tools\":\"pan,box_zoom,reset,save\",\n",
    "                  \"title\":None,\n",
    "                  \"plot_width\":400, \n",
    "                  \"plot_height\":400,\n",
    "                  \"styles\":[\"line\"],\n",
    "                  \"color\":\"gray\",\n",
    "                  \"figure_index\":False,\n",
    "                  \"glyph_options\":{}}\n",
    "        self.plot_options={}\n",
    "        for key,value in defaults.items():\n",
    "            self.plot_options[key]=value\n",
    "        for key,value in options.items():\n",
    "            self.plot_options[key]=value\n",
    "        figure_option_keys=[\"tools\",\"title\",\"plot_width\",\"plot_height\",\"active_drag\",\"active_inspect\",\n",
    "                           \"active_scroll\",\"active_tap\",\"tooltips\"]\n",
    "        figure_options={}\n",
    "        for key in self.plot_options.keys():\n",
    "            if key in figure_option_keys:\n",
    "                figure_options[key]=self.plot_options[key] \n",
    "                \n",
    "        if self.plot_options[\"figure_index\"] is not False:\n",
    "            plot=self.figures[self.plot_options[\"figure_index\"]]\n",
    "        else:\n",
    "            plot=figure(**figure_options)\n",
    "            self.figures.append(plot)\n",
    "        if format:\n",
    "            [color,styles]=parse_format_string(format)\n",
    "        else:\n",
    "            [color,styles]=[self.plot_options[\"color\"],self.plot_options[\"styles\"]]\n",
    "        for style in styles:\n",
    "            if style in [\"line\"]:\n",
    "                plotter=getattr(plot,style)\n",
    "                plotter(x_data,y_data,line_color=color,**self.plot_options[\"glyph_options\"])\n",
    "            elif style is \"dash\":\n",
    "                plot.line(x_data,y_data,line_dash=\"dashed\")\n",
    "            else:\n",
    "                plotter=getattr(plot,style)\n",
    "                plotter(x_data,y_data,fill_color=color,line_color=color,**self.plot_options[\"glyph_options\"])\n",
    "        \n",
    "        script,div=components(plot)\n",
    "        \n",
    "        if self.plot_options[\"figure_index\"] is not False:\n",
    "            figure_index=self.plot_options[\"figure_index\"]\n",
    "            self.root.head.remove(self.script_elements[figure_index])\n",
    "            self.append_to_head(str(script))\n",
    "            self.script_elements[figure_index]=self.root.head.getchildren()[-1]\n",
    "            new_div_element=lxml.etree.fromstring(str(div))\n",
    "            self.div_elements[figure_index].attrib[\"id\"]=new_div_element.attrib[\"id\"]\n",
    "        else:\n",
    "            self.append_to_head(str(script))\n",
    "            self.append_to_body(str(div))\n",
    "            self.div_elements.append(self.root.body.getchildren()[-1])\n",
    "            self.script_elements.append(self.root.head.getchildren()[-1])"
   ]
  },
  {
   "cell_type": "code",
   "execution_count": 242,
   "metadata": {},
   "outputs": [],
   "source": [
    "report=BokehReport()\n"
   ]
  },
  {
   "cell_type": "code",
   "execution_count": 249,
   "metadata": {},
   "outputs": [],
   "source": [
    "report.plot(np.linspace(-10,10).tolist(),(np.linspace(-10,10)**3).tolist(),\"d+\",glyph_options={\"size\":10,\"fill_alpha\":.2})"
   ]
  },
  {
   "cell_type": "code",
   "execution_count": 221,
   "metadata": {},
   "outputs": [],
   "source": [
    "\n",
    "report.plot(np.linspace(-10,10).tolist(),(np.linspace(-10,10)**2).tolist(),\"b--d+\",figure_index=0)\n",
    "report.plot(np.linspace(-10,10).tolist(),(10*np.linspace(-10,10)**2).tolist(),\"r-x\",figure_index=0)"
   ]
  },
  {
   "cell_type": "code",
   "execution_count": 231,
   "metadata": {},
   "outputs": [],
   "source": [
    "report.plot(np.linspace(-10,10),(10*np.linspace(-10,10)**3),figure_index=2,title=\"This is a new Plot\")"
   ]
  },
  {
   "cell_type": "code",
   "execution_count": 250,
   "metadata": {},
   "outputs": [
    {
     "name": "stdout",
     "output_type": "stream",
     "text": [
      "file://C:/Users/sandersa/AppData/Local/Temp/1/tmp_k5evel_.html\n"
     ]
    }
   ],
   "source": [
    "report.show()"
   ]
  },
  {
   "cell_type": "code",
   "execution_count": 182,
   "metadata": {},
   "outputs": [
    {
     "data": {
      "text/plain": [
       "[<Element script at 0xb7dec28>]"
      ]
     },
     "execution_count": 182,
     "metadata": {},
     "output_type": "execute_result"
    }
   ],
   "source": [
    "report.script_elements"
   ]
  },
  {
   "cell_type": "code",
   "execution_count": 45,
   "metadata": {},
   "outputs": [
    {
     "data": {
      "text/plain": [
       "'0.13.0'"
      ]
     },
     "execution_count": 45,
     "metadata": {},
     "output_type": "execute_result"
    }
   ],
   "source": [
    "import bokeh\n",
    "bokeh.__version__"
   ]
  },
  {
   "cell_type": "code",
   "execution_count": 118,
   "metadata": {},
   "outputs": [
    {
     "data": {
      "text/plain": [
       "2"
      ]
     },
     "execution_count": 118,
     "metadata": {},
     "output_type": "execute_result"
    }
   ],
   "source": [
    "len(report.figures)"
   ]
  },
  {
   "cell_type": "code",
   "execution_count": 126,
   "metadata": {},
   "outputs": [],
   "source": [
    "fig=report.figures[0]"
   ]
  },
  {
   "cell_type": "code",
   "execution_count": 134,
   "metadata": {},
   "outputs": [
    {
     "ename": "TypeError",
     "evalue": "'set' object is not subscriptable",
     "output_type": "error",
     "traceback": [
      "\u001b[1;31m---------------------------------------------------------------------------\u001b[0m",
      "\u001b[1;31mTypeError\u001b[0m                                 Traceback (most recent call last)",
      "\u001b[1;32m<ipython-input-134-fd7230f47592>\u001b[0m in \u001b[0;36m<module>\u001b[1;34m()\u001b[0m\n\u001b[1;32m----> 1\u001b[1;33m \u001b[0mfig\u001b[0m\u001b[1;33m.\u001b[0m\u001b[0mproperties\u001b[0m\u001b[1;33m(\u001b[0m\u001b[1;33m)\u001b[0m\u001b[1;33m[\u001b[0m\u001b[1;34m\"hidpi\"\u001b[0m\u001b[1;33m]\u001b[0m\u001b[1;33m\u001b[0m\u001b[0m\n\u001b[0m",
      "\u001b[1;31mTypeError\u001b[0m: 'set' object is not subscriptable"
     ]
    }
   ],
   "source": [
    "fig.properties()"
   ]
  },
  {
   "cell_type": "code",
   "execution_count": 169,
   "metadata": {},
   "outputs": [],
   "source": [
    "report.root.head.remove(report.script_elements[0])"
   ]
  },
  {
   "cell_type": "code",
   "execution_count": 170,
   "metadata": {},
   "outputs": [
    {
     "name": "stdout",
     "output_type": "stream",
     "text": [
      "file://C:/Users/sandersa/AppData/Local/Temp/1/tmp9kfq7w08.html\n"
     ]
    }
   ],
   "source": [
    "report.show()"
   ]
  },
  {
   "cell_type": "code",
   "execution_count": 193,
   "metadata": {},
   "outputs": [
    {
     "name": "stdout",
     "output_type": "stream",
     "text": [
      "Help on function make_html_element in module Code.DataHandlers.HTMLModels:\n",
      "\n",
      "make_html_element(tag, text=None, **attribute_dictionary)\n",
      "    Creates an lxml.html.HtmlElement given a tag, text and attribute dictionary\n",
      "    <tag key1=\"value2\" key2=\"value2\">text</tag>\n",
      "\n"
     ]
    }
   ],
   "source": [
    "help(make_html_element)"
   ]
  },
  {
   "cell_type": "code",
   "execution_count": 200,
   "metadata": {},
   "outputs": [],
   "source": [
    "test=lxml.etree.fromstring(etree.tostring(report.div_elements[0]))"
   ]
  },
  {
   "cell_type": "code",
   "execution_count": 208,
   "metadata": {},
   "outputs": [
    {
     "data": {
      "text/plain": [
       "'45e38c79-c48d-4faf-9928-b8f9df831f80'"
      ]
     },
     "execution_count": 208,
     "metadata": {},
     "output_type": "execute_result"
    }
   ],
   "source": [
    "test.attrib[\"id\"]"
   ]
  },
  {
   "cell_type": "code",
   "execution_count": 235,
   "metadata": {},
   "outputs": [
    {
     "data": {
      "text/plain": [
       "['__cached_all__overridden_defaults__',\n",
       " '__cached_all__properties__',\n",
       " '__cached_all__properties_with_refs__',\n",
       " '__class__',\n",
       " '__container_props__',\n",
       " '__dataspecs__',\n",
       " '__delattr__',\n",
       " '__dict__',\n",
       " '__dir__',\n",
       " '__doc__',\n",
       " '__eq__',\n",
       " '__format__',\n",
       " '__ge__',\n",
       " '__getattribute__',\n",
       " '__gt__',\n",
       " '__hash__',\n",
       " '__init__',\n",
       " '__init_subclass__',\n",
       " '__le__',\n",
       " '__lt__',\n",
       " '__module__',\n",
       " '__ne__',\n",
       " '__new__',\n",
       " '__overridden_defaults__',\n",
       " '__properties__',\n",
       " '__properties_with_refs__',\n",
       " '__reduce__',\n",
       " '__reduce_ex__',\n",
       " '__repr__',\n",
       " '__setattr__',\n",
       " '__sizeof__',\n",
       " '__str__',\n",
       " '__subclasshook__',\n",
       " '__view_model__',\n",
       " '__weakref__',\n",
       " '_attach_document',\n",
       " '_callbacks',\n",
       " '_clear_extensions',\n",
       " '_clone',\n",
       " '_detach_document',\n",
       " '_document',\n",
       " '_event_callbacks',\n",
       " '_id',\n",
       " '_overridden_defaults',\n",
       " '_property_values',\n",
       " '_repr_html_',\n",
       " '_repr_pretty_',\n",
       " '_to_json_like',\n",
       " '_trigger_event',\n",
       " '_unstable_default_values',\n",
       " '_unstable_themed_values',\n",
       " '_update_event_callbacks',\n",
       " 'apply_theme',\n",
       " 'axis_label',\n",
       " 'axis_label_standoff',\n",
       " 'axis_label_text_align',\n",
       " 'axis_label_text_alpha',\n",
       " 'axis_label_text_baseline',\n",
       " 'axis_label_text_color',\n",
       " 'axis_label_text_font',\n",
       " 'axis_label_text_font_size',\n",
       " 'axis_label_text_font_style',\n",
       " 'axis_label_text_line_height',\n",
       " 'axis_line_alpha',\n",
       " 'axis_line_cap',\n",
       " 'axis_line_color',\n",
       " 'axis_line_dash',\n",
       " 'axis_line_dash_offset',\n",
       " 'axis_line_join',\n",
       " 'axis_line_width',\n",
       " 'bounds',\n",
       " 'dataspecs',\n",
       " 'dataspecs_with_props',\n",
       " 'document',\n",
       " 'equals',\n",
       " 'fixed_location',\n",
       " 'formatter',\n",
       " 'js_event_callbacks',\n",
       " 'js_on_change',\n",
       " 'js_on_event',\n",
       " 'js_property_callbacks',\n",
       " 'layout',\n",
       " 'level',\n",
       " 'lookup',\n",
       " 'major_label_orientation',\n",
       " 'major_label_overrides',\n",
       " 'major_label_standoff',\n",
       " 'major_label_text_align',\n",
       " 'major_label_text_alpha',\n",
       " 'major_label_text_baseline',\n",
       " 'major_label_text_color',\n",
       " 'major_label_text_font',\n",
       " 'major_label_text_font_size',\n",
       " 'major_label_text_font_style',\n",
       " 'major_label_text_line_height',\n",
       " 'major_tick_in',\n",
       " 'major_tick_line_alpha',\n",
       " 'major_tick_line_cap',\n",
       " 'major_tick_line_color',\n",
       " 'major_tick_line_dash',\n",
       " 'major_tick_line_dash_offset',\n",
       " 'major_tick_line_join',\n",
       " 'major_tick_line_width',\n",
       " 'major_tick_out',\n",
       " 'minor_tick_in',\n",
       " 'minor_tick_line_alpha',\n",
       " 'minor_tick_line_cap',\n",
       " 'minor_tick_line_color',\n",
       " 'minor_tick_line_dash',\n",
       " 'minor_tick_line_dash_offset',\n",
       " 'minor_tick_line_join',\n",
       " 'minor_tick_line_width',\n",
       " 'minor_tick_out',\n",
       " 'name',\n",
       " 'on_change',\n",
       " 'on_event',\n",
       " 'plot',\n",
       " 'pprint',\n",
       " 'pretty',\n",
       " 'properties',\n",
       " 'properties_containers',\n",
       " 'properties_with_refs',\n",
       " 'properties_with_values',\n",
       " 'query_properties_with_values',\n",
       " 'ref',\n",
       " 'references',\n",
       " 'remove_on_change',\n",
       " 'select',\n",
       " 'select_one',\n",
       " 'set_from_json',\n",
       " 'set_select',\n",
       " 'subscribed_events',\n",
       " 'tags',\n",
       " 'themed_values',\n",
       " 'ticker',\n",
       " 'to_json',\n",
       " 'to_json_string',\n",
       " 'trigger',\n",
       " 'unapply_theme',\n",
       " 'update',\n",
       " 'update_from_json',\n",
       " 'visible',\n",
       " 'x_range_name',\n",
       " 'y_range_name']"
      ]
     },
     "execution_count": 235,
     "metadata": {},
     "output_type": "execute_result"
    }
   ],
   "source": [
    "dir(report.figures[0].xaxis)"
   ]
  },
  {
   "cell_type": "code",
   "execution_count": null,
   "metadata": {},
   "outputs": [],
   "source": []
  }
 ],
 "metadata": {
  "kernelspec": {
   "display_name": "Python 3",
   "language": "python",
   "name": "python3"
  },
  "language_info": {
   "codemirror_mode": {
    "name": "ipython",
    "version": 3
   },
   "file_extension": ".py",
   "mimetype": "text/x-python",
   "name": "python",
   "nbconvert_exporter": "python",
   "pygments_lexer": "ipython3",
   "version": "3.7.0"
  }
 },
 "nbformat": 4,
 "nbformat_minor": 2
}
