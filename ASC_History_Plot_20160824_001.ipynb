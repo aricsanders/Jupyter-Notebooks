{
 "cells": [
  {
   "cell_type": "markdown",
   "metadata": {},
   "source": [
    "# Plotting an .asc file against its history\n",
    "In order to plot an outputed file against its history, \n",
    "1. We must import the file and determine what model applies to it\n",
    "2. Read in the history file that applies to that model\n",
    "3. Read device_id and select all historical data sets\n",
    "4. Filter by last n measurement dates\n",
    "5. plot all of the above\n",
    "\n",
    "## This has been almost entirely added to pyMeasure"
   ]
  },
  {
   "cell_type": "code",
   "execution_count": 1,
   "metadata": {
    "collapsed": false
   },
   "outputs": [
    {
     "name": "stderr",
     "output_type": "stream",
     "text": [
      "C:\\python27\\lib\\site-packages\\matplotlib\\__init__.py:1350: UserWarning:  This call to matplotlib.use() has no effect\n",
      "because the backend has already been chosen;\n",
      "matplotlib.use() must be called *before* pylab, matplotlib.pyplot,\n",
      "or matplotlib.backends is imported for the first time.\n",
      "\n",
      "  warnings.warn(_use_error_msg)\n"
     ]
    }
   ],
   "source": [
    "# Imports\n",
    "from pyMeasure import *\n",
    "import pandas\n",
    "import os,re\n"
   ]
  },
  {
   "cell_type": "code",
   "execution_count": 4,
   "metadata": {
    "collapsed": true
   },
   "outputs": [],
   "source": [
    "# Still need to input the data sources, these are close to needing to be updated\n",
    "ONE_PORT_CALREP_CSV=r\"E:\\Share\\Converted_DUT\\One_Port_DUT.csv\"\n",
    "TWO_PORT_CALREP_CSV=r\"E:\\Share\\Converted_DUT\\Two_Port_DUT.csv\"\n",
    "POWER_3TERM_CALREP_CSV=r\"E:\\Share\\Converted_DUT\\Power_3Term_DUT.csv\"\n",
    "POWER_4TERM_CALREP_CSV=r\"E:\\Share\\Converted_DUT\\Power_4Term_DUT.csv\""
   ]
  },
  {
   "cell_type": "code",
   "execution_count": 5,
   "metadata": {
    "collapsed": false
   },
   "outputs": [],
   "source": [
    "# define the history dictionary for ASC type Duts\n",
    "history_dict={'1-port calrep':pandas.read_csv(ONE_PORT_CALREP_CSV),\n",
    "         '2-port calrep':pandas.read_csv(TWO_PORT_CALREP_CSV),\n",
    "         'power 3term calrep':pandas.read_csv(POWER_3TERM_CALREP_CSV),\n",
    "         'power 4term calrep':pandas.read_csv(POWER_4TERM_CALREP_CSV)}"
   ]
  },
  {
   "cell_type": "code",
   "execution_count": 6,
   "metadata": {
    "collapsed": false
   },
   "outputs": [
    {
     "name": "stdout",
     "output_type": "stream",
     "text": [
      "['69329.dut', '700083.ASC', '700196.asc', '700437.asc', '813462.ASC', '922729.asc', '952489.asc', 'N205RV.asc']\n"
     ]
    }
   ],
   "source": [
    "# now we need to select a few .asc files and test them\n",
    "\n",
    "os.chdir(TESTS_DIRECTORY)\n",
    "file_names=[]\n",
    "for file_name in os.listdir(TESTS_DIRECTORY):\n",
    "    if re.search('\\.asc|\\.dut',file_name,re.IGNORECASE):\n",
    "        file_names.append(file_name)\n",
    "print file_names"
   ]
  },
  {
   "cell_type": "code",
   "execution_count": 7,
   "metadata": {
    "collapsed": false
   },
   "outputs": [
    {
     "name": "stdout",
     "output_type": "stream",
     "text": [
      "OnePortDUTModel\n",
      "PowerCalrepModel\n",
      "PowerCalrepModel\n",
      "OnePortCalrepModel\n",
      "PowerCalrepModel\n",
      "TwoPortCalrepModel\n",
      "TwoPortCalrepModel\n",
      "TwoPortCalrepModel\n"
     ]
    }
   ],
   "source": [
    "# Now we identify all the types\n",
    "for file_name in file_names:\n",
    "    print sparameter_power_type(file_name) #this function is in pyMeasure.Code.DataHandlers.NISTModels"
   ]
  },
  {
   "cell_type": "code",
   "execution_count": 12,
   "metadata": {
    "collapsed": false
   },
   "outputs": [],
   "source": [
    "# Let's pick one and walk it through\n",
    "file_path=file_names[0]\n",
    "model=sparameter_power_type(file_path)\n",
    "calrep_model=globals()[model](file_path)\n"
   ]
  },
  {
   "cell_type": "code",
   "execution_count": 13,
   "metadata": {
    "collapsed": false
   },
   "outputs": [
    {
     "name": "stdout",
     "output_type": "stream",
     "text": [
      " This device's id is 69329 and its anaysis date is 17 Sep 2014\n"
     ]
    }
   ],
   "source": [
    "print(\" This device's id is {0} and its anaysis date is {1}\".format(calrep_model.metadata[\"Device_Id\"],\n",
    "                                                                    calrep_model.metadata[\"Analysis_Date\"]))"
   ]
  },
  {
   "cell_type": "code",
   "execution_count": 16,
   "metadata": {
    "collapsed": false
   },
   "outputs": [
    {
     "name": "stdout",
     "output_type": "stream",
     "text": [
      "This device occurs in 1-port calrep, 1 times.\n",
      "This device occurs in 2-port calrep, 0 times.\n",
      "This device occurs in power 4term calrep, 0 times.\n",
      "This device occurs in power 3term calrep, 1 times.\n"
     ]
    }
   ],
   "source": [
    "# Now I want to see if this device ID is any of the history files\n",
    "device_id=calrep_model.metadata[\"Device_Id\"]\n",
    "for key in history_dict.keys():\n",
    "    history_frame=history_dict[key]\n",
    "    device_history=history_frame[history_frame[\"Device_Id\"]==calrep_model.metadata[\"Device_Id\"]]\n",
    "    unique_analysis_dates=sorted(device_history[\"Analysis_Date\"].unique().tolist())\n",
    "    print(\"This device occurs in {0}, {1} times.\".format(key,len(unique_analysis_dates)))"
   ]
  },
  {
   "cell_type": "code",
   "execution_count": null,
   "metadata": {
    "collapsed": true
   },
   "outputs": [],
   "source": []
  }
 ],
 "metadata": {
  "kernelspec": {
   "display_name": "Python 2",
   "language": "python",
   "name": "python2"
  },
  "language_info": {
   "codemirror_mode": {
    "name": "ipython",
    "version": 2
   },
   "file_extension": ".py",
   "mimetype": "text/x-python",
   "name": "python",
   "nbconvert_exporter": "python",
   "pygments_lexer": "ipython2",
   "version": "2.7.11"
  }
 },
 "nbformat": 4,
 "nbformat_minor": 0
}
