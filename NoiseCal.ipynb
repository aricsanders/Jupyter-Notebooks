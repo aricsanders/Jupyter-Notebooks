{
 "cells": [
  {
   "cell_type": "markdown",
   "metadata": {},
   "source": [
    "# Conversion of Noise Power Reports and Data to XML\n",
    "\n",
    "Written by AWS 12/2015\n",
    "Data Provided By Dazhen"
   ]
  },
  {
   "cell_type": "code",
   "execution_count": 2,
   "metadata": {
    "collapsed": false
   },
   "outputs": [],
   "source": [
    "import os,re\n",
    "# Create a file object that opens the current format\n",
    "input_directory=r'F:\\Share\\CTL\\Data For Playing\\NoiseCal'\n",
    "os.chdir(input_directory)\n",
    "file_names=os.listdir(os.getcwd())\n",
    "input_file_path=r'F:\\Share\\CTL\\Data For Playing\\NoiseCal\\Raw_15Mar11_11.10-1.txt'"
   ]
  },
  {
   "cell_type": "code",
   "execution_count": 3,
   "metadata": {
    "collapsed": false
   },
   "outputs": [
    {
     "data": {
      "text/plain": [
       "['Cal_15Mar11_14.25.txt',\n",
       " 'Meas_15Mar11_11.10-1.txt',\n",
       " 'Meas_15Mar11_12.52-2.txt',\n",
       " 'Meas_15Mar11_14.25-3.txt',\n",
       " 'Raw_15Mar11_11.10-1.txt',\n",
       " 'Raw_15Mar11_12.52-2.txt',\n",
       " 'Raw_15Mar11_14.25-3.txt']"
      ]
     },
     "execution_count": 3,
     "metadata": {},
     "output_type": "execute_result"
    }
   ],
   "source": [
    "file_names"
   ]
  },
  {
   "cell_type": "code",
   "execution_count": 4,
   "metadata": {
    "collapsed": true
   },
   "outputs": [],
   "source": [
    "input_file=open(input_file_path)\n",
    "file_line_list=[]\n",
    "for line in input_file:\n",
    "    file_line_list.append(line)"
   ]
  },
  {
   "cell_type": "code",
   "execution_count": 5,
   "metadata": {
    "collapsed": false
   },
   "outputs": [
    {
     "data": {
      "text/plain": [
       "'Date of test: 2015 March 11 8.0 - 12.0 GHz\\n'"
      ]
     },
     "execution_count": 5,
     "metadata": {},
     "output_type": "execute_result"
    }
   ],
   "source": [
    "file_line_list[0] # Clearly an erroneous entry, do I fix in parsing?"
   ]
  },
  {
   "cell_type": "code",
   "execution_count": 6,
   "metadata": {
    "collapsed": false
   },
   "outputs": [
    {
     "data": {
      "text/plain": [
       "'Device temperature \\n'"
      ]
     },
     "execution_count": 6,
     "metadata": {},
     "output_type": "execute_result"
    }
   ],
   "source": [
    "file_line_list[90]"
   ]
  },
  {
   "cell_type": "code",
   "execution_count": 7,
   "metadata": {
    "collapsed": true
   },
   "outputs": [],
   "source": [
    "raw_header_list=['Date of test:','Directory:','File name:','Frequency list (GHz):','Customer:',\n",
    "                 'Address:','DUT:','Operator:','Remarks:','Amb Std:','Cryo Std:','Chk Std:','DUT 2:']"
   ]
  },
  {
   "cell_type": "code",
   "execution_count": 8,
   "metadata": {
    "collapsed": false
   },
   "outputs": [
    {
     "name": "stdout",
     "output_type": "stream",
     "text": [
      "Date of test: 2015 March 11 8.0 - 12.0 GHz\n",
      "\n",
      "Directory:  N:\\artifact\\X1\\x12zhz.137\\Calibrations\\2015 March 11 8.0 - 12.0 GHz\n",
      "\n",
      "File name:  Raw_15Mar11_11.10-1.txt\n",
      "\n",
      "\n",
      "\n",
      "Frequency list (GHz):  8.000\t9.000\t10.000\t11.000\t12.000\n",
      "\n",
      "\n",
      "\n",
      "Customer: Northrup Grumman Space Tech\n",
      "\n",
      "Address:  2477 Manhattan Beach Blvd\n",
      "\n",
      "Redondo Beach, CA 90278\n",
      "\n",
      "\n",
      "\n",
      "DUT:  x12zhz.137\n",
      "\n",
      "Operator: DG\n",
      "\n",
      "Remarks: DUT 811454 Cal #1\n",
      "\n",
      "\n",
      "\n",
      "Amb Std: THTZ.010 on port 1\n",
      "\n",
      "Cryo Std: PS2ZCZ.200 on port 2\n",
      "\n",
      "Chk Std: x12zhz.137 on port 5\n",
      "\n",
      "DUT 2: 811454 on port 4\n",
      "\n",
      "\n",
      "\n",
      "\n",
      "\n",
      "\n",
      "\n",
      "++++++++++++++++++++++++++++++++++++\n",
      "\n",
      "DUT 1: x12zhz.137 on port 5\n",
      "\n",
      "++++++++++++++++++++++++++++++++++++\n",
      "\n",
      "\n",
      "\n",
      "\n",
      "\n",
      "Cryo temp \n",
      "\n",
      " 84.32      84.62      84.91      85.18      85.43\n",
      "\n",
      " 84.32      84.62      84.91      85.18      85.43\n",
      "\n",
      " 84.32      84.62      84.91      85.18      85.43\n",
      "\n",
      "\n",
      "\n",
      "Ambient temp \n",
      "\n",
      "296.34     296.32     296.29     296.27     296.24\n",
      "\n",
      "296.34     296.31     296.29     296.26     296.24\n",
      "\n",
      "296.33     296.31     296.28     296.26     296.23\n",
      "\n",
      "\n",
      "\n",
      "Device power \n",
      "\n",
      " 8.957      6.936      5.922      5.352      6.622\n",
      "\n",
      " 8.947      6.932      5.926      5.347      6.618\n",
      "\n",
      " 8.950      6.931      5.926      5.349      6.621\n",
      "\n",
      " 8.960      6.940      5.926      5.353      6.625\n",
      "\n",
      " 8.957      6.938      5.926      5.353      6.625\n",
      "\n",
      " 8.967      6.942      5.927      5.357      6.634\n",
      "\n",
      " 8.965      6.946      5.931      5.362      6.638\n",
      "\n",
      " 8.973      6.948      5.928      5.356      6.631\n",
      "\n",
      " 8.958      6.946      5.925      5.357      6.632\n",
      "\n",
      " 8.977      6.950      5.931      5.360      6.633\n",
      "\n",
      " 8.972      6.943      5.930      5.355      6.630\n",
      "\n",
      " 8.969      6.948      5.931      5.356      6.632\n",
      "\n",
      " 8.945      6.925      5.913      5.354      6.630\n",
      "\n",
      " 8.964      6.945      5.929      5.356      6.639\n",
      "\n",
      " 8.971      6.948      5.922      5.353      6.630\n",
      "\n",
      " 8.971      6.914      5.932      5.355      6.632\n",
      "\n",
      " 8.972      6.946      5.932      5.359      6.610\n",
      "\n",
      " 8.960      6.946      5.932      5.361      6.632\n",
      "\n",
      " 8.968      6.934      5.934      5.357      6.633\n",
      "\n",
      " 8.945      6.952      5.936      5.360      6.638\n",
      "\n",
      " 8.951      6.952      5.932      5.355      6.634\n",
      "\n",
      " 8.947      6.949      5.932      5.358      6.616\n",
      "\n",
      " 8.970      6.949      5.932      5.353      6.631\n",
      "\n",
      " 8.970      6.944      5.925      5.355      6.627\n",
      "\n",
      " 8.972      6.948      5.932      5.357      6.631\n",
      "\n",
      " 8.947      6.925      5.927      5.340      6.616\n",
      "\n",
      " 4.498      3.460      2.963      2.699      3.353\n",
      "\n",
      " 4.496      3.447      2.955      2.692      3.343\n",
      "\n",
      " 4.502      3.461      2.963      2.699      3.354\n",
      "\n",
      " 4.498      3.460      2.963      2.701      3.355\n",
      "\n",
      " 4.501      3.458      2.962      2.699      3.353\n",
      "\n",
      " 4.498      3.458      2.963      2.699      3.353\n",
      "\n",
      " 4.489      3.445      2.954      2.699      3.338\n",
      "\n",
      " 4.472      3.443      2.962      2.687      3.348\n",
      "\n",
      " 4.498      3.460      2.952      2.700      3.353\n",
      "\n",
      " 4.474      3.451      2.958      2.692      3.356\n",
      "\n",
      " 4.490      3.442      2.962      2.700      3.355\n",
      "\n",
      " 4.477      3.449      2.961      2.701      3.352\n",
      "\n",
      " 4.499      3.458      2.963      2.700      3.351\n",
      "\n",
      " 4.484      3.459      2.950      2.699      3.352\n",
      "\n",
      " 4.503      3.461      2.963      2.699      3.353\n",
      "\n",
      " 4.481      3.456      2.957      2.702      3.353\n",
      "\n",
      " 4.500      3.461      2.961      2.701      3.354\n",
      "\n",
      " 4.498      3.458      2.952      2.700      3.346\n",
      "\n",
      " 4.498      3.461      2.949      2.700      3.354\n",
      "\n",
      " 4.478      3.462      2.963      2.701      3.353\n",
      "\n",
      " 4.500      3.461      2.965      2.695      3.356\n",
      "\n",
      " 4.501      3.445      2.964      2.701      3.354\n",
      "\n",
      " 4.484      3.459      2.964      2.701      3.353\n",
      "\n",
      " 4.498      3.460      2.961      2.702      3.355\n",
      "\n",
      " 4.499      3.462      2.964      2.693      3.355\n",
      "\n",
      " 4.500      3.459      2.963      2.691      3.336\n",
      "\n",
      "\n",
      "\n",
      "Device temperature \n",
      "\n",
      " 9818.74     10087.34     10279.80     10404.81     10535.17\n",
      "\n",
      " 9806.66      9997.67     10274.51     10325.67     10531.27\n",
      "\n",
      " 9808.46     10047.84     10264.52     10439.39     10520.24\n",
      "\n",
      " 9836.14     10101.44     10241.27     10361.96     10551.02\n",
      "\n",
      " 9802.34     10047.58     10279.00     10349.80     10536.36\n",
      "\n",
      " 9847.45     10055.83     10277.02     10346.14     10516.38\n",
      "\n",
      " 9818.10      9985.54     10256.05     10335.13     10547.57\n",
      "\n",
      " 9833.95     10039.89     10302.95     10418.81     10543.74\n",
      "\n",
      " 9800.40     10000.44     10308.98     10433.56     10536.32\n",
      "\n",
      " 9852.97     10069.72     10300.86     10444.93     10554.97\n",
      "\n",
      " 9827.28     10084.45     10243.47     10388.35     10478.11\n",
      "\n",
      " 9802.29     10017.82     10227.96     10365.73     10492.57\n",
      "\n",
      " 9794.51     10103.25     10267.48     10452.55     10557.33\n",
      "\n",
      " 9826.55     10055.73     10294.00     10288.64     10532.03\n",
      "\n",
      " 9831.13     10019.24     10243.27     10447.77     10521.71\n",
      "\n",
      " 9806.96     10034.71     10256.15     10443.70     10494.02\n",
      "\n",
      " 9826.71     10033.37     10280.42     10311.62     10518.45\n",
      "\n",
      " 9844.30     10012.73     10319.36     10360.90     10475.40\n",
      "\n",
      " 9811.29     10058.04     10213.87     10450.89     10468.84\n",
      "\n",
      " 9791.68      9983.20     10287.65     10337.61     10584.55\n",
      "\n",
      " 9813.73     10055.70     10224.30     10378.60     10529.64\n",
      "\n",
      " 9818.47     10080.60     10220.07     10311.23     10573.11\n",
      "\n",
      " 9803.58     10018.46     10244.52     10352.02     10521.32\n",
      "\n",
      " 9834.68     10014.59     10292.64     10350.77     10581.15\n",
      "\n",
      " 9774.54     10058.60     10307.93     10386.16     10516.56\n",
      "\n",
      " 9794.54      9997.37     10265.63     10456.16     10519.86\n",
      "\n",
      " 9753.41     10033.57     10205.64     10405.60     10446.07\n",
      "\n",
      " 9792.01     10046.89     10247.25     10367.62     10557.12\n",
      "\n",
      " 9818.20     10044.35     10263.47     10359.19     10559.20\n",
      "\n",
      " 9829.50     10066.81     10277.32     10350.56     10587.92\n",
      "\n",
      " 9807.97     10032.05     10278.96     10359.03     10466.28\n",
      "\n",
      " 9824.43     10062.89     10293.90     10389.25     10545.68\n",
      "\n",
      " 9794.18      9988.98     10244.52     10356.54     10519.46\n",
      "\n",
      " 9820.59     10079.48     10250.14     10387.67     10605.12\n",
      "\n",
      " 9809.72     10036.91     10258.25     10339.72     10495.38\n",
      "\n",
      " 9803.36     10001.40     10215.76     10452.57     10496.35\n",
      "\n",
      " 9803.16     10036.95     10211.47     10367.09     10526.58\n",
      "\n",
      " 9808.23     10023.79     10207.42     10357.37     10500.75\n",
      "\n",
      " 9851.94     10062.96     10276.18     10412.79     10563.37\n",
      "\n",
      " 9809.95      9995.07     10264.16     10324.29     10507.37\n",
      "\n",
      " 9820.19     10063.84     10274.72     10333.08     10584.87\n",
      "\n",
      " 9787.30     10003.73     10292.21     10344.04     10567.46\n",
      "\n",
      " 9851.19     10067.99     10254.87     10309.24     10575.14\n",
      "\n",
      " 9807.36     10070.77     10294.72     10310.30     10545.77\n",
      "\n",
      " 9812.11     10036.95     10239.43     10418.01     10541.10\n",
      "\n",
      " 9802.94     10079.72     10252.04     10397.74     10540.71\n",
      "\n",
      " 9850.54     10033.82     10218.73     10258.13     10564.54\n",
      "\n",
      " 9840.94     10065.87     10226.15     10345.68     10509.97\n",
      "\n",
      " 9787.14     10084.31     10262.20     10367.50     10578.92\n",
      "\n",
      " 9808.51     10006.53     10252.51     10400.19     10529.54\n",
      "\n",
      " 9812.72     10055.27     10268.35     10402.20     10497.68\n",
      "\n",
      " 9779.23     10003.47     10276.89     10385.21     10510.07\n",
      "\n",
      "\n",
      "\n",
      "Ambient power \n",
      "\n",
      " 0.589      0.497      0.412      0.388      0.496\n",
      "\n",
      " 0.589      0.497      0.412      0.388      0.496\n",
      "\n",
      " 0.589      0.497      0.412      0.388      0.496\n",
      "\n",
      " 0.590      0.497      0.412      0.388      0.496\n",
      "\n",
      " 0.590      0.498      0.413      0.389      0.497\n",
      "\n",
      " 0.590      0.498      0.413      0.389      0.497\n",
      "\n",
      " 0.590      0.499      0.412      0.388      0.496\n",
      "\n",
      " 0.591      0.498      0.413      0.389      0.497\n",
      "\n",
      " 0.590      0.498      0.413      0.389      0.497\n",
      "\n",
      " 0.590      0.498      0.413      0.388      0.497\n",
      "\n",
      " 0.591      0.498      0.413      0.389      0.497\n",
      "\n",
      " 0.591      0.499      0.413      0.389      0.497\n",
      "\n",
      " 0.589      0.496      0.412      0.388      0.496\n",
      "\n",
      " 0.590      0.498      0.412      0.389      0.497\n",
      "\n",
      " 0.590      0.497      0.412      0.388      0.496\n",
      "\n",
      " 0.591      0.496      0.413      0.388      0.497\n",
      "\n",
      " 0.589      0.497      0.411      0.389      0.496\n",
      "\n",
      " 0.589      0.497      0.411      0.388      0.496\n",
      "\n",
      " 0.590      0.497      0.413      0.388      0.498\n",
      "\n",
      " 0.589      0.497      0.412      0.387      0.496\n",
      "\n",
      " 0.590      0.498      0.413      0.389      0.497\n",
      "\n",
      " 0.589      0.496      0.412      0.388      0.495\n",
      "\n",
      " 0.590      0.498      0.412      0.389      0.497\n",
      "\n",
      " 0.589      0.496      0.411      0.388      0.495\n",
      "\n",
      " 0.588      0.497      0.410      0.388      0.495\n",
      "\n",
      " 0.589      0.497      0.413      0.387      0.496\n",
      "\n",
      " 0.297      0.248      0.207      0.196      0.252\n",
      "\n",
      " 0.297      0.248      0.206      0.196      0.251\n",
      "\n",
      " 0.297      0.249      0.207      0.197      0.252\n",
      "\n",
      " 0.297      0.248      0.207      0.197      0.252\n",
      "\n",
      " 0.297      0.249      0.207      0.197      0.252\n",
      "\n",
      " 0.297      0.249      0.207      0.197      0.252\n",
      "\n",
      " 0.296      0.248      0.207      0.198      0.251\n",
      "\n",
      " 0.296      0.248      0.206      0.196      0.252\n",
      "\n",
      " 0.296      0.248      0.206      0.196      0.252\n",
      "\n",
      " 0.296      0.249      0.207      0.196      0.252\n",
      "\n",
      " 0.297      0.248      0.207      0.196      0.252\n",
      "\n",
      " 0.296      0.249      0.207      0.197      0.252\n",
      "\n",
      " 0.297      0.248      0.207      0.197      0.252\n",
      "\n",
      " 0.296      0.249      0.206      0.197      0.252\n",
      "\n",
      " 0.297      0.249      0.207      0.197      0.252\n",
      "\n",
      " 0.295      0.249      0.207      0.197      0.252\n",
      "\n",
      " 0.297      0.248      0.207      0.197      0.252\n",
      "\n",
      " 0.296      0.248      0.206      0.197      0.252\n",
      "\n",
      " 0.296      0.248      0.206      0.197      0.251\n",
      "\n",
      " 0.296      0.248      0.207      0.197      0.252\n",
      "\n",
      " 0.297      0.249      0.207      0.197      0.252\n",
      "\n",
      " 0.297      0.248      0.207      0.197      0.252\n",
      "\n",
      " 0.296      0.249      0.207      0.197      0.252\n",
      "\n",
      " 0.297      0.249      0.207      0.197      0.252\n",
      "\n",
      " 0.296      0.248      0.207      0.196      0.252\n",
      "\n",
      " 0.297      0.249      0.207      0.196      0.251\n",
      "\n",
      "\n",
      "\n",
      "Cryo power \n",
      "\n",
      " 0.415      0.363      0.301      0.293      0.376\n",
      "\n",
      " 0.415      0.362      0.302      0.292      0.376\n",
      "\n",
      " 0.415      0.363      0.302      0.293      0.376\n",
      "\n",
      " 0.416      0.363      0.301      0.292      0.376\n",
      "\n",
      " 0.416      0.363      0.302      0.293      0.377\n",
      "\n",
      " 0.416      0.363      0.302      0.293      0.377\n",
      "\n",
      " 0.416      0.363      0.302      0.292      0.376\n",
      "\n",
      " 0.417      0.363      0.303      0.294      0.377\n",
      "\n",
      " 0.416      0.363      0.302      0.293      0.377\n",
      "\n",
      " 0.416      0.363      0.303      0.293      0.377\n",
      "\n",
      " 0.417      0.364      0.302      0.293      0.377\n",
      "\n",
      " 0.417      0.364      0.302      0.293      0.377\n",
      "\n",
      " 0.415      0.362      0.302      0.293      0.377\n",
      "\n",
      " 0.416      0.363      0.302      0.292      0.377\n",
      "\n",
      " 0.416      0.361      0.302      0.293      0.376\n",
      "\n",
      " 0.416      0.361      0.302      0.293      0.377\n",
      "\n",
      " 0.415      0.362      0.301      0.292      0.377\n",
      "\n",
      " 0.415      0.361      0.301      0.292      0.376\n",
      "\n",
      " 0.416      0.363      0.302      0.293      0.377\n",
      "\n",
      " 0.415      0.361      0.301      0.291      0.377\n",
      "\n",
      " 0.416      0.363      0.302      0.293      0.377\n",
      "\n",
      " 0.415      0.362      0.300      0.292      0.376\n",
      "\n",
      " 0.416      0.363      0.301      0.293      0.377\n",
      "\n",
      " 0.415      0.361      0.301      0.292      0.376\n",
      "\n",
      " 0.413      0.362      0.300      0.293      0.375\n",
      "\n",
      " 0.415      0.362      0.302      0.293      0.376\n",
      "\n",
      " 0.209      0.181      0.151      0.148      0.191\n",
      "\n",
      " 0.209      0.181      0.151      0.148      0.190\n",
      "\n",
      " 0.209      0.181      0.152      0.148      0.191\n",
      "\n",
      " 0.209      0.181      0.151      0.148      0.192\n",
      "\n",
      " 0.209      0.181      0.152      0.149      0.191\n",
      "\n",
      " 0.210      0.182      0.151      0.149      0.191\n",
      "\n",
      " 0.209      0.181      0.151      0.149      0.191\n",
      "\n",
      " 0.209      0.181      0.151      0.148      0.191\n",
      "\n",
      " 0.209      0.181      0.151      0.148      0.191\n",
      "\n",
      " 0.209      0.182      0.152      0.149      0.191\n",
      "\n",
      " 0.209      0.181      0.152      0.148      0.191\n",
      "\n",
      " 0.209      0.181      0.151      0.148      0.191\n",
      "\n",
      " 0.210      0.181      0.152      0.149      0.191\n",
      "\n",
      " 0.209      0.182      0.151      0.149      0.191\n",
      "\n",
      " 0.210      0.182      0.152      0.149      0.192\n",
      "\n",
      " 0.208      0.181      0.152      0.148      0.191\n",
      "\n",
      " 0.209      0.181      0.152      0.148      0.191\n",
      "\n",
      " 0.209      0.181      0.151      0.148      0.191\n",
      "\n",
      " 0.209      0.180      0.151      0.149      0.191\n",
      "\n",
      " 0.209      0.181      0.152      0.148      0.191\n",
      "\n",
      " 0.210      0.181      0.151      0.148      0.191\n",
      "\n",
      " 0.209      0.181      0.152      0.148      0.191\n",
      "\n",
      " 0.209      0.182      0.152      0.149      0.192\n",
      "\n",
      " 0.209      0.181      0.151      0.149      0.191\n",
      "\n",
      " 0.209      0.181      0.151      0.148      0.191\n",
      "\n",
      " 0.209      0.181      0.152      0.148      0.191\n",
      "\n"
     ]
    }
   ],
   "source": [
    "for line in file_line_list:\n",
    "    print line"
   ]
  },
  {
   "cell_type": "code",
   "execution_count": 9,
   "metadata": {
    "collapsed": true
   },
   "outputs": [],
   "source": [
    "header_pattern=re.compile('(?P<header_name>^.*?):(?P<header_value>.*)')"
   ]
  },
  {
   "cell_type": "code",
   "execution_count": 10,
   "metadata": {
    "collapsed": true
   },
   "outputs": [],
   "source": [
    "matches=re.search(header_pattern,file_line_list[0])"
   ]
  },
  {
   "cell_type": "code",
   "execution_count": 11,
   "metadata": {
    "collapsed": false
   },
   "outputs": [
    {
     "data": {
      "text/plain": [
       "'Date of test: 2015 March 11 8.0 - 12.0 GHz'"
      ]
     },
     "execution_count": 11,
     "metadata": {},
     "output_type": "execute_result"
    }
   ],
   "source": [
    "matches.group(0)"
   ]
  },
  {
   "cell_type": "code",
   "execution_count": 12,
   "metadata": {
    "collapsed": true
   },
   "outputs": [],
   "source": [
    "key=matches.group('header_name')"
   ]
  },
  {
   "cell_type": "code",
   "execution_count": 13,
   "metadata": {
    "collapsed": false
   },
   "outputs": [
    {
     "data": {
      "text/plain": [
       "' 2015 March 11 8.0 - 12.0 GHz'"
      ]
     },
     "execution_count": 13,
     "metadata": {},
     "output_type": "execute_result"
    }
   ],
   "source": [
    "matches.group('header_value')"
   ]
  },
  {
   "cell_type": "code",
   "execution_count": 14,
   "metadata": {
    "collapsed": false
   },
   "outputs": [
    {
     "data": {
      "text/plain": [
       "'Date_of_test'"
      ]
     },
     "execution_count": 14,
     "metadata": {},
     "output_type": "execute_result"
    }
   ],
   "source": [
    "key.replace(' ','_')"
   ]
  },
  {
   "cell_type": "code",
   "execution_count": 15,
   "metadata": {
    "collapsed": true
   },
   "outputs": [],
   "source": [
    "header_pattern=re.compile('(?P<header_name>^.*?):(?P<header_value>.*)')\n",
    "header_dictionary={}\n",
    "for i,line in enumerate(file_line_list):\n",
    "    try:\n",
    "        match_list=re.search(header_pattern,line)\n",
    "        if match_list:\n",
    "            key=match_list.group('header_name').replace(' ','_')\n",
    "            key=key.translate(None,'()~!#$%^&*{}[]<>?;')\n",
    "            key=key.strip()\n",
    "            value=match_list.group('header_value')\n",
    "            if re.match('Address',key):\n",
    "                value=value+', '+file_line_list[i+1]\n",
    "            header_dictionary[key]=value\n",
    "    except:\n",
    "        pass"
   ]
  },
  {
   "cell_type": "code",
   "execution_count": 88,
   "metadata": {
    "collapsed": false
   },
   "outputs": [
    {
     "data": {
      "text/plain": [
       "{'Address': '  2477 Manhattan Beach Blvd, Redondo Beach, CA 90278\\n',\n",
       " 'Amb_Std': ' THTZ.010 on port 1',\n",
       " 'Chk_Std': ' x12zhz.137 on port 5',\n",
       " 'Cryo_Std': ' PS2ZCZ.200 on port 2',\n",
       " 'Customer': ' Northrup Grumman Space Tech',\n",
       " 'DUT': '  x12zhz.137',\n",
       " 'DUT_1': ' x12zhz.137 on port 5',\n",
       " 'DUT_2': ' 811454 on port 4',\n",
       " 'Date_of_test': ' 2015 March 11 8.0 - 12.0 GHz',\n",
       " 'Directory': '  N:\\\\artifact\\\\X1\\\\x12zhz.137\\\\Calibrations\\\\2015 March 11 8.0 - 12.0 GHz',\n",
       " 'File_name': '  Raw_15Mar11_11.10-1.txt',\n",
       " 'Frequency_list_GHz': '  8.000\\t9.000\\t10.000\\t11.000\\t12.000',\n",
       " 'Operator': ' DG',\n",
       " 'Remarks': ' DUT 811454 Cal #1'}"
      ]
     },
     "execution_count": 88,
     "metadata": {},
     "output_type": "execute_result"
    }
   ],
   "source": [
    "header_dictionary"
   ]
  },
  {
   "cell_type": "code",
   "execution_count": 16,
   "metadata": {
    "collapsed": true
   },
   "outputs": [],
   "source": [
    "test='(a test_string)'"
   ]
  },
  {
   "cell_type": "code",
   "execution_count": 17,
   "metadata": {
    "collapsed": false
   },
   "outputs": [
    {
     "data": {
      "text/plain": [
       "'a test_string'"
      ]
     },
     "execution_count": 17,
     "metadata": {},
     "output_type": "execute_result"
    }
   ],
   "source": [
    "test.translate(None,'()!^$%&#@')"
   ]
  },
  {
   "cell_type": "code",
   "execution_count": 18,
   "metadata": {
    "collapsed": true
   },
   "outputs": [],
   "source": [
    "import numpy as np\n",
    "table_list=['Cryo temp','Ambient temp','Device power','Device temperature',\n",
    "'Ambient power','Cryo power']\n",
    "table_dictionary={}\n",
    "data_start=0\n",
    "start_list=[]\n",
    "for table in table_list:\n",
    "    for i,line in enumerate(file_line_list):\n",
    "        if re.match(table,line):\n",
    "            data_start=i+1\n",
    "            table_dictionary[table]={'data_start':data_start}\n",
    "            start_list.append(data_start)"
   ]
  },
  {
   "cell_type": "code",
   "execution_count": 19,
   "metadata": {
    "collapsed": false
   },
   "outputs": [
    {
     "data": {
      "text/plain": [
       "{'Ambient power': {'data_start': 145},\n",
       " 'Ambient temp': {'data_start': 32},\n",
       " 'Cryo power': {'data_start': 199},\n",
       " 'Cryo temp': {'data_start': 27},\n",
       " 'Device power': {'data_start': 37},\n",
       " 'Device temperature': {'data_start': 91}}"
      ]
     },
     "execution_count": 19,
     "metadata": {},
     "output_type": "execute_result"
    }
   ],
   "source": [
    "table_dictionary"
   ]
  },
  {
   "cell_type": "code",
   "execution_count": 96,
   "metadata": {
    "collapsed": false
   },
   "outputs": [
    {
     "data": {
      "text/plain": [
       "[27, 32, 37, 91, 145, 199]"
      ]
     },
     "execution_count": 96,
     "metadata": {},
     "output_type": "execute_result"
    }
   ],
   "source": [
    "start_list"
   ]
  },
  {
   "cell_type": "code",
   "execution_count": 20,
   "metadata": {
    "collapsed": true
   },
   "outputs": [],
   "source": [
    "start_list.sort()"
   ]
  },
  {
   "cell_type": "code",
   "execution_count": 21,
   "metadata": {
    "collapsed": true
   },
   "outputs": [],
   "source": [
    "stop_list=[]\n",
    "for start in start_list:\n",
    "    try: \n",
    "        stop=start_list[start_list.index(start)+1]-2\n",
    "        stop_list.append(stop)\n",
    "    except:\n",
    "        stop=len(file_line_list)\n",
    "        stop_list.append(stop)"
   ]
  },
  {
   "cell_type": "code",
   "execution_count": 101,
   "metadata": {
    "collapsed": false
   },
   "outputs": [
    {
     "data": {
      "text/plain": [
       "[30, 35, 89, 143, 197, 251]"
      ]
     },
     "execution_count": 101,
     "metadata": {},
     "output_type": "execute_result"
    }
   ],
   "source": [
    "stop_list"
   ]
  },
  {
   "cell_type": "code",
   "execution_count": null,
   "metadata": {
    "collapsed": true
   },
   "outputs": [],
   "source": []
  },
  {
   "cell_type": "code",
   "execution_count": 22,
   "metadata": {
    "collapsed": false
   },
   "outputs": [
    {
     "data": {
      "text/plain": [
       "array([[ 84.32,  84.62,  84.91,  85.18,  85.43],\n",
       "       [ 84.32,  84.62,  84.91,  85.18,  85.43],\n",
       "       [ 84.32,  84.62,  84.91,  85.18,  85.43]])"
      ]
     },
     "execution_count": 22,
     "metadata": {},
     "output_type": "execute_result"
    }
   ],
   "source": [
    "np.loadtxt(file_line_list[27:30])"
   ]
  },
  {
   "cell_type": "code",
   "execution_count": 60,
   "metadata": {
    "collapsed": false
   },
   "outputs": [
    {
     "name": "stdout",
     "output_type": "stream",
     "text": [
      "{32: 'Ambient temp', 27: 'Cryo temp', 37: 'Device power', 199: 'Cryo power', 145: 'Ambient power', 91: 'Device temperature'}\n",
      "[30, 35, 89, 143, 197, 251]\n"
     ]
    }
   ],
   "source": [
    "table_list=['Cryo temp','Ambient temp','Device power','Device temperature',\n",
    "'Ambient power','Cryo power']\n",
    "table_dictionary={}\n",
    "data_table_dictionary={}\n",
    "data_start=0\n",
    "start_list=[]\n",
    "stop_list=[]\n",
    "for table in table_list:\n",
    "    for i,line in enumerate(file_line_list):\n",
    "        if re.match(table,line):\n",
    "            data_start=i+1\n",
    "            table_dictionary[data_start]=table\n",
    "            start_list.append(data_start)\n",
    "start_list.sort()\n",
    "for start in start_list:\n",
    "    try: \n",
    "        stop=start_list[start_list.index(start)+1]-2\n",
    "        stop_list.append(stop)\n",
    "        data_table_dictionary[table_dictionary[start]]=np.loadtxt(file_line_list[start:stop])\n",
    "    except:\n",
    "        stop=len(file_line_list)\n",
    "        stop_list.append(stop)\n",
    "        data_table_dictionary[table_dictionary[start]]=np.loadtxt(file_line_list[start:stop])\n",
    "print table_dictionary\n",
    "print stop_list"
   ]
  },
  {
   "cell_type": "code",
   "execution_count": 25,
   "metadata": {
    "collapsed": false
   },
   "outputs": [
    {
     "data": {
      "text/plain": [
       "array([[ 296.34,  296.32,  296.29,  296.27,  296.24],\n",
       "       [ 296.34,  296.31,  296.29,  296.26,  296.24],\n",
       "       [ 296.33,  296.31,  296.28,  296.26,  296.23]])"
      ]
     },
     "execution_count": 25,
     "metadata": {},
     "output_type": "execute_result"
    }
   ],
   "source": [
    "data_table_dictionary[table_list[1]]"
   ]
  },
  {
   "cell_type": "markdown",
   "metadata": {},
   "source": [
    "# Problem getting the data into format\n",
    "There is an issue with this data. It should be (index,frequency,value) format. Index is row, Frequency is column"
   ]
  },
  {
   "cell_type": "code",
   "execution_count": 38,
   "metadata": {
    "collapsed": false
   },
   "outputs": [],
   "source": [
    "shape=data_table_dictionary[table_list[1]].shape"
   ]
  },
  {
   "cell_type": "code",
   "execution_count": 44,
   "metadata": {
    "collapsed": true
   },
   "outputs": [],
   "source": [
    "table_attributes=[table.replace(' ','_').strip().translate(None,'()~!#$%^&*{}[]<>?;') for table in table_list]"
   ]
  },
  {
   "cell_type": "code",
   "execution_count": 33,
   "metadata": {
    "collapsed": false
   },
   "outputs": [],
   "source": [
    "import io\n",
    "text=io.StringIO(unicode(header_dictionary['Frequency_list_GHz']))\n",
    "freq_list=np.loadtxt(text)"
   ]
  },
  {
   "cell_type": "code",
   "execution_count": 42,
   "metadata": {
    "collapsed": false
   },
   "outputs": [],
   "source": [
    "freq_list\n",
    "\n",
    "tuple_list=[(i,freq_list[j],data_table_dictionary[table_list[1]][i,j]) for i in range(shape[0]) for j in range(shape[1])]"
   ]
  },
  {
   "cell_type": "code",
   "execution_count": 51,
   "metadata": {
    "collapsed": false
   },
   "outputs": [],
   "source": [
    "column_heads=['Index','Frequency',table_attributes[1]]\n",
    "data=[]\n",
    "for row in tuple_list:\n",
    "    dictionary_data={column_heads[i]:item for i,item in enumerate(row) }\n",
    "    data.append(dictionary_data)"
   ]
  },
  {
   "cell_type": "code",
   "execution_count": 52,
   "metadata": {
    "collapsed": false
   },
   "outputs": [
    {
     "data": {
      "text/plain": [
       "[{'Ambient_temp': 296.33999999999997, 'Frequency': 8.0, 'Index': 0},\n",
       " {'Ambient_temp': 296.31999999999999, 'Frequency': 9.0, 'Index': 0},\n",
       " {'Ambient_temp': 296.29000000000002, 'Frequency': 10.0, 'Index': 0},\n",
       " {'Ambient_temp': 296.26999999999998, 'Frequency': 11.0, 'Index': 0},\n",
       " {'Ambient_temp': 296.24000000000001, 'Frequency': 12.0, 'Index': 0},\n",
       " {'Ambient_temp': 296.33999999999997, 'Frequency': 8.0, 'Index': 1},\n",
       " {'Ambient_temp': 296.31, 'Frequency': 9.0, 'Index': 1},\n",
       " {'Ambient_temp': 296.29000000000002, 'Frequency': 10.0, 'Index': 1},\n",
       " {'Ambient_temp': 296.25999999999999, 'Frequency': 11.0, 'Index': 1},\n",
       " {'Ambient_temp': 296.24000000000001, 'Frequency': 12.0, 'Index': 1},\n",
       " {'Ambient_temp': 296.32999999999998, 'Frequency': 8.0, 'Index': 2},\n",
       " {'Ambient_temp': 296.31, 'Frequency': 9.0, 'Index': 2},\n",
       " {'Ambient_temp': 296.27999999999997, 'Frequency': 10.0, 'Index': 2},\n",
       " {'Ambient_temp': 296.25999999999999, 'Frequency': 11.0, 'Index': 2},\n",
       " {'Ambient_temp': 296.23000000000002, 'Frequency': 12.0, 'Index': 2}]"
      ]
     },
     "execution_count": 52,
     "metadata": {},
     "output_type": "execute_result"
    }
   ],
   "source": [
    "data"
   ]
  },
  {
   "cell_type": "code",
   "execution_count": 54,
   "metadata": {
    "collapsed": false
   },
   "outputs": [
    {
     "name": "stdout",
     "output_type": "stream",
     "text": [
      "<?xml version=\"1.0\" ?><?xml-stylesheet type=\"text/xsl\" href=\"DEFAULT_MEASUREMENT_STYLE.XSL\"?><Data_Table><Data_Description><Index>The order it was measured</Index><Frequency>Frequency in GHZ</Frequency><Ambient_temp>Ambient temperature measured in Kelvin</Ambient_temp></Data_Description><Data><Tuple Ambient_temp=\"296.34\" Frequency=\"8.0\" Index=\"0\"/><Tuple Ambient_temp=\"296.32\" Frequency=\"9.0\" Index=\"0\"/><Tuple Ambient_temp=\"296.29\" Frequency=\"10.0\" Index=\"0\"/><Tuple Ambient_temp=\"296.27\" Frequency=\"11.0\" Index=\"0\"/><Tuple Ambient_temp=\"296.24\" Frequency=\"12.0\" Index=\"0\"/><Tuple Ambient_temp=\"296.34\" Frequency=\"8.0\" Index=\"1\"/><Tuple Ambient_temp=\"296.31\" Frequency=\"9.0\" Index=\"1\"/><Tuple Ambient_temp=\"296.29\" Frequency=\"10.0\" Index=\"1\"/><Tuple Ambient_temp=\"296.26\" Frequency=\"11.0\" Index=\"1\"/><Tuple Ambient_temp=\"296.24\" Frequency=\"12.0\" Index=\"1\"/><Tuple Ambient_temp=\"296.33\" Frequency=\"8.0\" Index=\"2\"/><Tuple Ambient_temp=\"296.31\" Frequency=\"9.0\" Index=\"2\"/><Tuple Ambient_temp=\"296.28\" Frequency=\"10.0\" Index=\"2\"/><Tuple Ambient_temp=\"296.26\" Frequency=\"11.0\" Index=\"2\"/><Tuple Ambient_temp=\"296.23\" Frequency=\"12.0\" Index=\"2\"/></Data></Data_Table>\n"
     ]
    }
   ],
   "source": [
    "#now a single data table looks like \n",
    "data_table={'Data_Description':{'Index':'The order it was measured','Frequency':'Frequency in GHZ',\n",
    "                               'Ambient_temp':'Ambient temperature measured in Kelvin'},'Data':\"\"}\n",
    "data_table['Data']=data\n",
    "\n",
    "import pyMeasure.Code.DataHandlers.Measurements as M\n",
    "new_table=M.DataTable(**data_table)\n",
    "new_table.save()\n",
    "print new_table"
   ]
  },
  {
   "cell_type": "code",
   "execution_count": 61,
   "metadata": {
    "collapsed": false
   },
   "outputs": [],
   "source": [
    "#Now lets iterate over all the tables\n",
    "data_table_list=[]\n",
    "for k,table in enumerate(table_attributes):\n",
    "    column_heads=['Index','Frequency',table]\n",
    "    data_table={'Data_Description':{'Index':'The order it was measured','Frequency':'Frequency in GHZ',\n",
    "                               table:\"\"},'Data':\"\"}\n",
    "    data=[]\n",
    "    shape=data_table_dictionary[table_list[k]].shape\n",
    "    tuple_list=[(i,freq_list[j],data_table_dictionary[table_list[k]][i,j]) for i in range(shape[0]) for j in range(shape[1])]\n",
    "    for row in tuple_list:\n",
    "        dictionary_data={column_heads[i]:item for i,item in enumerate(row) }\n",
    "        data.append(dictionary_data)\n",
    "    data_table['Data']=data\n",
    "    new_table=M.DataTable(**data_table)\n",
    "    new_table.save()\n",
    "    data_table_list.append(new_table)"
   ]
  },
  {
   "cell_type": "code",
   "execution_count": 66,
   "metadata": {
    "collapsed": false
   },
   "outputs": [
    {
     "name": "stdout",
     "output_type": "stream",
     "text": [
      "<?xml version=\"1.0\" ?><?xml-stylesheet type=\"text/xsl\" href=\"DEFAULT_MEASUREMENT_STYLE.XSL\"?><Data_Table><Data_Description><Index>The order it was measured</Index><Frequency>Frequency in GHZ</Frequency><Ambient_temp></Ambient_temp></Data_Description><Data><Tuple Ambient_temp=\"296.34\" Frequency=\"8.0\" Index=\"0\"/><Tuple Ambient_temp=\"296.32\" Frequency=\"9.0\" Index=\"0\"/><Tuple Ambient_temp=\"296.29\" Frequency=\"10.0\" Index=\"0\"/><Tuple Ambient_temp=\"296.27\" Frequency=\"11.0\" Index=\"0\"/><Tuple Ambient_temp=\"296.24\" Frequency=\"12.0\" Index=\"0\"/><Tuple Ambient_temp=\"296.34\" Frequency=\"8.0\" Index=\"1\"/><Tuple Ambient_temp=\"296.31\" Frequency=\"9.0\" Index=\"1\"/><Tuple Ambient_temp=\"296.29\" Frequency=\"10.0\" Index=\"1\"/><Tuple Ambient_temp=\"296.26\" Frequency=\"11.0\" Index=\"1\"/><Tuple Ambient_temp=\"296.24\" Frequency=\"12.0\" Index=\"1\"/><Tuple Ambient_temp=\"296.33\" Frequency=\"8.0\" Index=\"2\"/><Tuple Ambient_temp=\"296.31\" Frequency=\"9.0\" Index=\"2\"/><Tuple Ambient_temp=\"296.28\" Frequency=\"10.0\" Index=\"2\"/><Tuple Ambient_temp=\"296.26\" Frequency=\"11.0\" Index=\"2\"/><Tuple Ambient_temp=\"296.23\" Frequency=\"12.0\" Index=\"2\"/></Data></Data_Table>\n"
     ]
    },
    {
     "data": {
      "text/plain": [
       "'<Data_Table><Data_Description><Index>The order it was measured</Index><Frequency>Frequency in GHZ</Frequency><Cryo_temp></Cryo_temp></Data_Description><Data><Tuple Cryo_temp=\"84.32\" Frequency=\"8.0\" Index=\"0\"/><Tuple Cryo_temp=\"84.62\" Frequency=\"9.0\" Index=\"0\"/><Tuple Cryo_temp=\"84.91\" Frequency=\"10.0\" Index=\"0\"/><Tuple Cryo_temp=\"85.18\" Frequency=\"11.0\" Index=\"0\"/><Tuple Cryo_temp=\"85.43\" Frequency=\"12.0\" Index=\"0\"/><Tuple Cryo_temp=\"84.32\" Frequency=\"8.0\" Index=\"1\"/><Tuple Cryo_temp=\"84.62\" Frequency=\"9.0\" Index=\"1\"/><Tuple Cryo_temp=\"84.91\" Frequency=\"10.0\" Index=\"1\"/><Tuple Cryo_temp=\"85.18\" Frequency=\"11.0\" Index=\"1\"/><Tuple Cryo_temp=\"85.43\" Frequency=\"12.0\" Index=\"1\"/><Tuple Cryo_temp=\"84.32\" Frequency=\"8.0\" Index=\"2\"/><Tuple Cryo_temp=\"84.62\" Frequency=\"9.0\" Index=\"2\"/><Tuple Cryo_temp=\"84.91\" Frequency=\"10.0\" Index=\"2\"/><Tuple Cryo_temp=\"85.18\" Frequency=\"11.0\" Index=\"2\"/><Tuple Cryo_temp=\"85.43\" Frequency=\"12.0\" Index=\"2\"/></Data></Data_Table>'"
      ]
     },
     "execution_count": 66,
     "metadata": {},
     "output_type": "execute_result"
    }
   ],
   "source": [
    "# Now lets make a single report by creating a series of tables \n",
    "print data_table_list[1]\n",
    "processing_instructions='<?xml version=\"1.0\" ?><?xml-stylesheet type=\"text/xsl\" href=\"DEFAULT_MEASUREMENT_STYLE.XSL\"?>'\n",
    "str(data_table_list[0]).replace(processing_instructions,'')"
   ]
  },
  {
   "cell_type": "code",
   "execution_count": 75,
   "metadata": {
    "collapsed": false
   },
   "outputs": [
    {
     "data": {
      "text/plain": [
       "['0',\n",
       " '0',\n",
       " '0',\n",
       " '0',\n",
       " '0',\n",
       " '1',\n",
       " '1',\n",
       " '1',\n",
       " '1',\n",
       " '1',\n",
       " '2',\n",
       " '2',\n",
       " '2',\n",
       " '2',\n",
       " '2',\n",
       " '3',\n",
       " '3',\n",
       " '3',\n",
       " '3',\n",
       " '3',\n",
       " '4',\n",
       " '4',\n",
       " '4',\n",
       " '4',\n",
       " '4',\n",
       " '5',\n",
       " '5',\n",
       " '5',\n",
       " '5',\n",
       " '5',\n",
       " '6',\n",
       " '6',\n",
       " '6',\n",
       " '6',\n",
       " '6',\n",
       " '7',\n",
       " '7',\n",
       " '7',\n",
       " '7',\n",
       " '7',\n",
       " '8',\n",
       " '8',\n",
       " '8',\n",
       " '8',\n",
       " '8',\n",
       " '9',\n",
       " '9',\n",
       " '9',\n",
       " '9',\n",
       " '9',\n",
       " '10',\n",
       " '10',\n",
       " '10',\n",
       " '10',\n",
       " '10',\n",
       " '11',\n",
       " '11',\n",
       " '11',\n",
       " '11',\n",
       " '11',\n",
       " '12',\n",
       " '12',\n",
       " '12',\n",
       " '12',\n",
       " '12',\n",
       " '13',\n",
       " '13',\n",
       " '13',\n",
       " '13',\n",
       " '13',\n",
       " '14',\n",
       " '14',\n",
       " '14',\n",
       " '14',\n",
       " '14',\n",
       " '15',\n",
       " '15',\n",
       " '15',\n",
       " '15',\n",
       " '15',\n",
       " '16',\n",
       " '16',\n",
       " '16',\n",
       " '16',\n",
       " '16',\n",
       " '17',\n",
       " '17',\n",
       " '17',\n",
       " '17',\n",
       " '17',\n",
       " '18',\n",
       " '18',\n",
       " '18',\n",
       " '18',\n",
       " '18',\n",
       " '19',\n",
       " '19',\n",
       " '19',\n",
       " '19',\n",
       " '19',\n",
       " '20',\n",
       " '20',\n",
       " '20',\n",
       " '20',\n",
       " '20',\n",
       " '21',\n",
       " '21',\n",
       " '21',\n",
       " '21',\n",
       " '21',\n",
       " '22',\n",
       " '22',\n",
       " '22',\n",
       " '22',\n",
       " '22',\n",
       " '23',\n",
       " '23',\n",
       " '23',\n",
       " '23',\n",
       " '23',\n",
       " '24',\n",
       " '24',\n",
       " '24',\n",
       " '24',\n",
       " '24',\n",
       " '25',\n",
       " '25',\n",
       " '25',\n",
       " '25',\n",
       " '25',\n",
       " '26',\n",
       " '26',\n",
       " '26',\n",
       " '26',\n",
       " '26',\n",
       " '27',\n",
       " '27',\n",
       " '27',\n",
       " '27',\n",
       " '27',\n",
       " '28',\n",
       " '28',\n",
       " '28',\n",
       " '28',\n",
       " '28',\n",
       " '29',\n",
       " '29',\n",
       " '29',\n",
       " '29',\n",
       " '29',\n",
       " '30',\n",
       " '30',\n",
       " '30',\n",
       " '30',\n",
       " '30',\n",
       " '31',\n",
       " '31',\n",
       " '31',\n",
       " '31',\n",
       " '31',\n",
       " '32',\n",
       " '32',\n",
       " '32',\n",
       " '32',\n",
       " '32',\n",
       " '33',\n",
       " '33',\n",
       " '33',\n",
       " '33',\n",
       " '33',\n",
       " '34',\n",
       " '34',\n",
       " '34',\n",
       " '34',\n",
       " '34',\n",
       " '35',\n",
       " '35',\n",
       " '35',\n",
       " '35',\n",
       " '35',\n",
       " '36',\n",
       " '36',\n",
       " '36',\n",
       " '36',\n",
       " '36',\n",
       " '37',\n",
       " '37',\n",
       " '37',\n",
       " '37',\n",
       " '37',\n",
       " '38',\n",
       " '38',\n",
       " '38',\n",
       " '38',\n",
       " '38',\n",
       " '39',\n",
       " '39',\n",
       " '39',\n",
       " '39',\n",
       " '39',\n",
       " '40',\n",
       " '40',\n",
       " '40',\n",
       " '40',\n",
       " '40',\n",
       " '41',\n",
       " '41',\n",
       " '41',\n",
       " '41',\n",
       " '41',\n",
       " '42',\n",
       " '42',\n",
       " '42',\n",
       " '42',\n",
       " '42',\n",
       " '43',\n",
       " '43',\n",
       " '43',\n",
       " '43',\n",
       " '43',\n",
       " '44',\n",
       " '44',\n",
       " '44',\n",
       " '44',\n",
       " '44',\n",
       " '45',\n",
       " '45',\n",
       " '45',\n",
       " '45',\n",
       " '45',\n",
       " '46',\n",
       " '46',\n",
       " '46',\n",
       " '46',\n",
       " '46',\n",
       " '47',\n",
       " '47',\n",
       " '47',\n",
       " '47',\n",
       " '47',\n",
       " '48',\n",
       " '48',\n",
       " '48',\n",
       " '48',\n",
       " '48',\n",
       " '49',\n",
       " '49',\n",
       " '49',\n",
       " '49',\n",
       " '49',\n",
       " '50',\n",
       " '50',\n",
       " '50',\n",
       " '50',\n",
       " '50',\n",
       " '51',\n",
       " '51',\n",
       " '51',\n",
       " '51',\n",
       " '51']"
      ]
     },
     "execution_count": 75,
     "metadata": {},
     "output_type": "execute_result"
    }
   ],
   "source": [
    "data_table_list[3].to_list('Index')"
   ]
  },
  {
   "cell_type": "code",
   "execution_count": 89,
   "metadata": {
    "collapsed": true
   },
   "outputs": [],
   "source": [
    "# so we can put all of these into a single text file \n",
    "output_data=''\n",
    "processing_instructions='<?xml version=\"1.0\" ?><?xml-stylesheet type=\"text/xsl\" href=\"DEFAULT_MEASUREMENT_STYLE.XSL\"?>'\n",
    "for table in data_table_list:\n",
    "    output_data=output_data+str(table).replace(processing_instructions,'')+'\\n'"
   ]
  },
  {
   "cell_type": "code",
   "execution_count": 90,
   "metadata": {
    "collapsed": false
   },
   "outputs": [
    {
     "data": {
      "text/plain": [
       "'<Data_Table><Data_Description><Index>The order it was measured</Index><Frequency>Frequency in GHZ</Frequency><Cryo_temp></Cryo_temp></Data_Description><Data><Tuple Cryo_temp=\"84.32\" Frequency=\"8.0\" Index=\"0\"/><Tuple Cryo_temp=\"84.62\" Frequency=\"9.0\" Index=\"0\"/><Tuple Cryo_temp=\"84.91\" Frequency=\"10.0\" Index=\"0\"/><Tuple Cryo_temp=\"85.18\" Frequency=\"11.0\" Index=\"0\"/><Tuple Cryo_temp=\"85.43\" Frequency=\"12.0\" Index=\"0\"/><Tuple Cryo_temp=\"84.32\" Frequency=\"8.0\" Index=\"1\"/><Tuple Cryo_temp=\"84.62\" Frequency=\"9.0\" Index=\"1\"/><Tuple Cryo_temp=\"84.91\" Frequency=\"10.0\" Index=\"1\"/><Tuple Cryo_temp=\"85.18\" Frequency=\"11.0\" Index=\"1\"/><Tuple Cryo_temp=\"85.43\" Frequency=\"12.0\" Index=\"1\"/><Tuple Cryo_temp=\"84.32\" Frequency=\"8.0\" Index=\"2\"/><Tuple Cryo_temp=\"84.62\" Frequency=\"9.0\" Index=\"2\"/><Tuple Cryo_temp=\"84.91\" Frequency=\"10.0\" Index=\"2\"/><Tuple Cryo_temp=\"85.18\" Frequency=\"11.0\" Index=\"2\"/><Tuple Cryo_temp=\"85.43\" Frequency=\"12.0\" Index=\"2\"/></Data></Data_Table>\\n<Data_Table><Data_Description><Index>The order it was measured</Index><Frequency>Frequency in GHZ</Frequency><Ambient_temp></Ambient_temp></Data_Description><Data><Tuple Ambient_temp=\"296.34\" Frequency=\"8.0\" Index=\"0\"/><Tuple Ambient_temp=\"296.32\" Frequency=\"9.0\" Index=\"0\"/><Tuple Ambient_temp=\"296.29\" Frequency=\"10.0\" Index=\"0\"/><Tuple Ambient_temp=\"296.27\" Frequency=\"11.0\" Index=\"0\"/><Tuple Ambient_temp=\"296.24\" Frequency=\"12.0\" Index=\"0\"/><Tuple Ambient_temp=\"296.34\" Frequency=\"8.0\" Index=\"1\"/><Tuple Ambient_temp=\"296.31\" Frequency=\"9.0\" Index=\"1\"/><Tuple Ambient_temp=\"296.29\" Frequency=\"10.0\" Index=\"1\"/><Tuple Ambient_temp=\"296.26\" Frequency=\"11.0\" Index=\"1\"/><Tuple Ambient_temp=\"296.24\" Frequency=\"12.0\" Index=\"1\"/><Tuple Ambient_temp=\"296.33\" Frequency=\"8.0\" Index=\"2\"/><Tuple Ambient_temp=\"296.31\" Frequency=\"9.0\" Index=\"2\"/><Tuple Ambient_temp=\"296.28\" Frequency=\"10.0\" Index=\"2\"/><Tuple Ambient_temp=\"296.26\" Frequency=\"11.0\" Index=\"2\"/><Tuple Ambient_temp=\"296.23\" Frequency=\"12.0\" Index=\"2\"/></Data></Data_Table>\\n<Data_Table><Data_Description><Index>The order it was measured</Index><Frequency>Frequency in GHZ</Frequency><Device_power></Device_power></Data_Description><Data><Tuple Device_power=\"8.957\" Frequency=\"8.0\" Index=\"0\"/><Tuple Device_power=\"6.936\" Frequency=\"9.0\" Index=\"0\"/><Tuple Device_power=\"5.922\" Frequency=\"10.0\" Index=\"0\"/><Tuple Device_power=\"5.352\" Frequency=\"11.0\" Index=\"0\"/><Tuple Device_power=\"6.622\" Frequency=\"12.0\" Index=\"0\"/><Tuple Device_power=\"8.947\" Frequency=\"8.0\" Index=\"1\"/><Tuple Device_power=\"6.932\" Frequency=\"9.0\" Index=\"1\"/><Tuple Device_power=\"5.926\" Frequency=\"10.0\" Index=\"1\"/><Tuple Device_power=\"5.347\" Frequency=\"11.0\" Index=\"1\"/><Tuple Device_power=\"6.618\" Frequency=\"12.0\" Index=\"1\"/><Tuple Device_power=\"8.95\" Frequency=\"8.0\" Index=\"2\"/><Tuple Device_power=\"6.931\" Frequency=\"9.0\" Index=\"2\"/><Tuple Device_power=\"5.926\" Frequency=\"10.0\" Index=\"2\"/><Tuple Device_power=\"5.349\" Frequency=\"11.0\" Index=\"2\"/><Tuple Device_power=\"6.621\" Frequency=\"12.0\" Index=\"2\"/><Tuple Device_power=\"8.96\" Frequency=\"8.0\" Index=\"3\"/><Tuple Device_power=\"6.94\" Frequency=\"9.0\" Index=\"3\"/><Tuple Device_power=\"5.926\" Frequency=\"10.0\" Index=\"3\"/><Tuple Device_power=\"5.353\" Frequency=\"11.0\" Index=\"3\"/><Tuple Device_power=\"6.625\" Frequency=\"12.0\" Index=\"3\"/><Tuple Device_power=\"8.957\" Frequency=\"8.0\" Index=\"4\"/><Tuple Device_power=\"6.938\" Frequency=\"9.0\" Index=\"4\"/><Tuple Device_power=\"5.926\" Frequency=\"10.0\" Index=\"4\"/><Tuple Device_power=\"5.353\" Frequency=\"11.0\" Index=\"4\"/><Tuple Device_power=\"6.625\" Frequency=\"12.0\" Index=\"4\"/><Tuple Device_power=\"8.967\" Frequency=\"8.0\" Index=\"5\"/><Tuple Device_power=\"6.942\" Frequency=\"9.0\" Index=\"5\"/><Tuple Device_power=\"5.927\" Frequency=\"10.0\" Index=\"5\"/><Tuple Device_power=\"5.357\" Frequency=\"11.0\" Index=\"5\"/><Tuple Device_power=\"6.634\" Frequency=\"12.0\" Index=\"5\"/><Tuple Device_power=\"8.965\" Frequency=\"8.0\" Index=\"6\"/><Tuple Device_power=\"6.946\" Frequency=\"9.0\" Index=\"6\"/><Tuple Device_power=\"5.931\" Frequency=\"10.0\" Index=\"6\"/><Tuple Device_power=\"5.362\" Frequency=\"11.0\" Index=\"6\"/><Tuple Device_power=\"6.638\" Frequency=\"12.0\" Index=\"6\"/><Tuple Device_power=\"8.973\" Frequency=\"8.0\" Index=\"7\"/><Tuple Device_power=\"6.948\" Frequency=\"9.0\" Index=\"7\"/><Tuple Device_power=\"5.928\" Frequency=\"10.0\" Index=\"7\"/><Tuple Device_power=\"5.356\" Frequency=\"11.0\" Index=\"7\"/><Tuple Device_power=\"6.631\" Frequency=\"12.0\" Index=\"7\"/><Tuple Device_power=\"8.958\" Frequency=\"8.0\" Index=\"8\"/><Tuple Device_power=\"6.946\" Frequency=\"9.0\" Index=\"8\"/><Tuple Device_power=\"5.925\" Frequency=\"10.0\" Index=\"8\"/><Tuple Device_power=\"5.357\" Frequency=\"11.0\" Index=\"8\"/><Tuple Device_power=\"6.632\" Frequency=\"12.0\" Index=\"8\"/><Tuple Device_power=\"8.977\" Frequency=\"8.0\" Index=\"9\"/><Tuple Device_power=\"6.95\" Frequency=\"9.0\" Index=\"9\"/><Tuple Device_power=\"5.931\" Frequency=\"10.0\" Index=\"9\"/><Tuple Device_power=\"5.36\" Frequency=\"11.0\" Index=\"9\"/><Tuple Device_power=\"6.633\" Frequency=\"12.0\" Index=\"9\"/><Tuple Device_power=\"8.972\" Frequency=\"8.0\" Index=\"10\"/><Tuple Device_power=\"6.943\" Frequency=\"9.0\" Index=\"10\"/><Tuple Device_power=\"5.93\" Frequency=\"10.0\" Index=\"10\"/><Tuple Device_power=\"5.355\" Frequency=\"11.0\" Index=\"10\"/><Tuple Device_power=\"6.63\" Frequency=\"12.0\" Index=\"10\"/><Tuple Device_power=\"8.969\" Frequency=\"8.0\" Index=\"11\"/><Tuple Device_power=\"6.948\" Frequency=\"9.0\" Index=\"11\"/><Tuple Device_power=\"5.931\" Frequency=\"10.0\" Index=\"11\"/><Tuple Device_power=\"5.356\" Frequency=\"11.0\" Index=\"11\"/><Tuple Device_power=\"6.632\" Frequency=\"12.0\" Index=\"11\"/><Tuple Device_power=\"8.945\" Frequency=\"8.0\" Index=\"12\"/><Tuple Device_power=\"6.925\" Frequency=\"9.0\" Index=\"12\"/><Tuple Device_power=\"5.913\" Frequency=\"10.0\" Index=\"12\"/><Tuple Device_power=\"5.354\" Frequency=\"11.0\" Index=\"12\"/><Tuple Device_power=\"6.63\" Frequency=\"12.0\" Index=\"12\"/><Tuple Device_power=\"8.964\" Frequency=\"8.0\" Index=\"13\"/><Tuple Device_power=\"6.945\" Frequency=\"9.0\" Index=\"13\"/><Tuple Device_power=\"5.929\" Frequency=\"10.0\" Index=\"13\"/><Tuple Device_power=\"5.356\" Frequency=\"11.0\" Index=\"13\"/><Tuple Device_power=\"6.639\" Frequency=\"12.0\" Index=\"13\"/><Tuple Device_power=\"8.971\" Frequency=\"8.0\" Index=\"14\"/><Tuple Device_power=\"6.948\" Frequency=\"9.0\" Index=\"14\"/><Tuple Device_power=\"5.922\" Frequency=\"10.0\" Index=\"14\"/><Tuple Device_power=\"5.353\" Frequency=\"11.0\" Index=\"14\"/><Tuple Device_power=\"6.63\" Frequency=\"12.0\" Index=\"14\"/><Tuple Device_power=\"8.971\" Frequency=\"8.0\" Index=\"15\"/><Tuple Device_power=\"6.914\" Frequency=\"9.0\" Index=\"15\"/><Tuple Device_power=\"5.932\" Frequency=\"10.0\" Index=\"15\"/><Tuple Device_power=\"5.355\" Frequency=\"11.0\" Index=\"15\"/><Tuple Device_power=\"6.632\" Frequency=\"12.0\" Index=\"15\"/><Tuple Device_power=\"8.972\" Frequency=\"8.0\" Index=\"16\"/><Tuple Device_power=\"6.946\" Frequency=\"9.0\" Index=\"16\"/><Tuple Device_power=\"5.932\" Frequency=\"10.0\" Index=\"16\"/><Tuple Device_power=\"5.359\" Frequency=\"11.0\" Index=\"16\"/><Tuple Device_power=\"6.61\" Frequency=\"12.0\" Index=\"16\"/><Tuple Device_power=\"8.96\" Frequency=\"8.0\" Index=\"17\"/><Tuple Device_power=\"6.946\" Frequency=\"9.0\" Index=\"17\"/><Tuple Device_power=\"5.932\" Frequency=\"10.0\" Index=\"17\"/><Tuple Device_power=\"5.361\" Frequency=\"11.0\" Index=\"17\"/><Tuple Device_power=\"6.632\" Frequency=\"12.0\" Index=\"17\"/><Tuple Device_power=\"8.968\" Frequency=\"8.0\" Index=\"18\"/><Tuple Device_power=\"6.934\" Frequency=\"9.0\" Index=\"18\"/><Tuple Device_power=\"5.934\" Frequency=\"10.0\" Index=\"18\"/><Tuple Device_power=\"5.357\" Frequency=\"11.0\" Index=\"18\"/><Tuple Device_power=\"6.633\" Frequency=\"12.0\" Index=\"18\"/><Tuple Device_power=\"8.945\" Frequency=\"8.0\" Index=\"19\"/><Tuple Device_power=\"6.952\" Frequency=\"9.0\" Index=\"19\"/><Tuple Device_power=\"5.936\" Frequency=\"10.0\" Index=\"19\"/><Tuple Device_power=\"5.36\" Frequency=\"11.0\" Index=\"19\"/><Tuple Device_power=\"6.638\" Frequency=\"12.0\" Index=\"19\"/><Tuple Device_power=\"8.951\" Frequency=\"8.0\" Index=\"20\"/><Tuple Device_power=\"6.952\" Frequency=\"9.0\" Index=\"20\"/><Tuple Device_power=\"5.932\" Frequency=\"10.0\" Index=\"20\"/><Tuple Device_power=\"5.355\" Frequency=\"11.0\" Index=\"20\"/><Tuple Device_power=\"6.634\" Frequency=\"12.0\" Index=\"20\"/><Tuple Device_power=\"8.947\" Frequency=\"8.0\" Index=\"21\"/><Tuple Device_power=\"6.949\" Frequency=\"9.0\" Index=\"21\"/><Tuple Device_power=\"5.932\" Frequency=\"10.0\" Index=\"21\"/><Tuple Device_power=\"5.358\" Frequency=\"11.0\" Index=\"21\"/><Tuple Device_power=\"6.616\" Frequency=\"12.0\" Index=\"21\"/><Tuple Device_power=\"8.97\" Frequency=\"8.0\" Index=\"22\"/><Tuple Device_power=\"6.949\" Frequency=\"9.0\" Index=\"22\"/><Tuple Device_power=\"5.932\" Frequency=\"10.0\" Index=\"22\"/><Tuple Device_power=\"5.353\" Frequency=\"11.0\" Index=\"22\"/><Tuple Device_power=\"6.631\" Frequency=\"12.0\" Index=\"22\"/><Tuple Device_power=\"8.97\" Frequency=\"8.0\" Index=\"23\"/><Tuple Device_power=\"6.944\" Frequency=\"9.0\" Index=\"23\"/><Tuple Device_power=\"5.925\" Frequency=\"10.0\" Index=\"23\"/><Tuple Device_power=\"5.355\" Frequency=\"11.0\" Index=\"23\"/><Tuple Device_power=\"6.627\" Frequency=\"12.0\" Index=\"23\"/><Tuple Device_power=\"8.972\" Frequency=\"8.0\" Index=\"24\"/><Tuple Device_power=\"6.948\" Frequency=\"9.0\" Index=\"24\"/><Tuple Device_power=\"5.932\" Frequency=\"10.0\" Index=\"24\"/><Tuple Device_power=\"5.357\" Frequency=\"11.0\" Index=\"24\"/><Tuple Device_power=\"6.631\" Frequency=\"12.0\" Index=\"24\"/><Tuple Device_power=\"8.947\" Frequency=\"8.0\" Index=\"25\"/><Tuple Device_power=\"6.925\" Frequency=\"9.0\" Index=\"25\"/><Tuple Device_power=\"5.927\" Frequency=\"10.0\" Index=\"25\"/><Tuple Device_power=\"5.34\" Frequency=\"11.0\" Index=\"25\"/><Tuple Device_power=\"6.616\" Frequency=\"12.0\" Index=\"25\"/><Tuple Device_power=\"4.498\" Frequency=\"8.0\" Index=\"26\"/><Tuple Device_power=\"3.46\" Frequency=\"9.0\" Index=\"26\"/><Tuple Device_power=\"2.963\" Frequency=\"10.0\" Index=\"26\"/><Tuple Device_power=\"2.699\" Frequency=\"11.0\" Index=\"26\"/><Tuple Device_power=\"3.353\" Frequency=\"12.0\" Index=\"26\"/><Tuple Device_power=\"4.496\" Frequency=\"8.0\" Index=\"27\"/><Tuple Device_power=\"3.447\" Frequency=\"9.0\" Index=\"27\"/><Tuple Device_power=\"2.955\" Frequency=\"10.0\" Index=\"27\"/><Tuple Device_power=\"2.692\" Frequency=\"11.0\" Index=\"27\"/><Tuple Device_power=\"3.343\" Frequency=\"12.0\" Index=\"27\"/><Tuple Device_power=\"4.502\" Frequency=\"8.0\" Index=\"28\"/><Tuple Device_power=\"3.461\" Frequency=\"9.0\" Index=\"28\"/><Tuple Device_power=\"2.963\" Frequency=\"10.0\" Index=\"28\"/><Tuple Device_power=\"2.699\" Frequency=\"11.0\" Index=\"28\"/><Tuple Device_power=\"3.354\" Frequency=\"12.0\" Index=\"28\"/><Tuple Device_power=\"4.498\" Frequency=\"8.0\" Index=\"29\"/><Tuple Device_power=\"3.46\" Frequency=\"9.0\" Index=\"29\"/><Tuple Device_power=\"2.963\" Frequency=\"10.0\" Index=\"29\"/><Tuple Device_power=\"2.701\" Frequency=\"11.0\" Index=\"29\"/><Tuple Device_power=\"3.355\" Frequency=\"12.0\" Index=\"29\"/><Tuple Device_power=\"4.501\" Frequency=\"8.0\" Index=\"30\"/><Tuple Device_power=\"3.458\" Frequency=\"9.0\" Index=\"30\"/><Tuple Device_power=\"2.962\" Frequency=\"10.0\" Index=\"30\"/><Tuple Device_power=\"2.699\" Frequency=\"11.0\" Index=\"30\"/><Tuple Device_power=\"3.353\" Frequency=\"12.0\" Index=\"30\"/><Tuple Device_power=\"4.498\" Frequency=\"8.0\" Index=\"31\"/><Tuple Device_power=\"3.458\" Frequency=\"9.0\" Index=\"31\"/><Tuple Device_power=\"2.963\" Frequency=\"10.0\" Index=\"31\"/><Tuple Device_power=\"2.699\" Frequency=\"11.0\" Index=\"31\"/><Tuple Device_power=\"3.353\" Frequency=\"12.0\" Index=\"31\"/><Tuple Device_power=\"4.489\" Frequency=\"8.0\" Index=\"32\"/><Tuple Device_power=\"3.445\" Frequency=\"9.0\" Index=\"32\"/><Tuple Device_power=\"2.954\" Frequency=\"10.0\" Index=\"32\"/><Tuple Device_power=\"2.699\" Frequency=\"11.0\" Index=\"32\"/><Tuple Device_power=\"3.338\" Frequency=\"12.0\" Index=\"32\"/><Tuple Device_power=\"4.472\" Frequency=\"8.0\" Index=\"33\"/><Tuple Device_power=\"3.443\" Frequency=\"9.0\" Index=\"33\"/><Tuple Device_power=\"2.962\" Frequency=\"10.0\" Index=\"33\"/><Tuple Device_power=\"2.687\" Frequency=\"11.0\" Index=\"33\"/><Tuple Device_power=\"3.348\" Frequency=\"12.0\" Index=\"33\"/><Tuple Device_power=\"4.498\" Frequency=\"8.0\" Index=\"34\"/><Tuple Device_power=\"3.46\" Frequency=\"9.0\" Index=\"34\"/><Tuple Device_power=\"2.952\" Frequency=\"10.0\" Index=\"34\"/><Tuple Device_power=\"2.7\" Frequency=\"11.0\" Index=\"34\"/><Tuple Device_power=\"3.353\" Frequency=\"12.0\" Index=\"34\"/><Tuple Device_power=\"4.474\" Frequency=\"8.0\" Index=\"35\"/><Tuple Device_power=\"3.451\" Frequency=\"9.0\" Index=\"35\"/><Tuple Device_power=\"2.958\" Frequency=\"10.0\" Index=\"35\"/><Tuple Device_power=\"2.692\" Frequency=\"11.0\" Index=\"35\"/><Tuple Device_power=\"3.356\" Frequency=\"12.0\" Index=\"35\"/><Tuple Device_power=\"4.49\" Frequency=\"8.0\" Index=\"36\"/><Tuple Device_power=\"3.442\" Frequency=\"9.0\" Index=\"36\"/><Tuple Device_power=\"2.962\" Frequency=\"10.0\" Index=\"36\"/><Tuple Device_power=\"2.7\" Frequency=\"11.0\" Index=\"36\"/><Tuple Device_power=\"3.355\" Frequency=\"12.0\" Index=\"36\"/><Tuple Device_power=\"4.477\" Frequency=\"8.0\" Index=\"37\"/><Tuple Device_power=\"3.449\" Frequency=\"9.0\" Index=\"37\"/><Tuple Device_power=\"2.961\" Frequency=\"10.0\" Index=\"37\"/><Tuple Device_power=\"2.701\" Frequency=\"11.0\" Index=\"37\"/><Tuple Device_power=\"3.352\" Frequency=\"12.0\" Index=\"37\"/><Tuple Device_power=\"4.499\" Frequency=\"8.0\" Index=\"38\"/><Tuple Device_power=\"3.458\" Frequency=\"9.0\" Index=\"38\"/><Tuple Device_power=\"2.963\" Frequency=\"10.0\" Index=\"38\"/><Tuple Device_power=\"2.7\" Frequency=\"11.0\" Index=\"38\"/><Tuple Device_power=\"3.351\" Frequency=\"12.0\" Index=\"38\"/><Tuple Device_power=\"4.484\" Frequency=\"8.0\" Index=\"39\"/><Tuple Device_power=\"3.459\" Frequency=\"9.0\" Index=\"39\"/><Tuple Device_power=\"2.95\" Frequency=\"10.0\" Index=\"39\"/><Tuple Device_power=\"2.699\" Frequency=\"11.0\" Index=\"39\"/><Tuple Device_power=\"3.352\" Frequency=\"12.0\" Index=\"39\"/><Tuple Device_power=\"4.503\" Frequency=\"8.0\" Index=\"40\"/><Tuple Device_power=\"3.461\" Frequency=\"9.0\" Index=\"40\"/><Tuple Device_power=\"2.963\" Frequency=\"10.0\" Index=\"40\"/><Tuple Device_power=\"2.699\" Frequency=\"11.0\" Index=\"40\"/><Tuple Device_power=\"3.353\" Frequency=\"12.0\" Index=\"40\"/><Tuple Device_power=\"4.481\" Frequency=\"8.0\" Index=\"41\"/><Tuple Device_power=\"3.456\" Frequency=\"9.0\" Index=\"41\"/><Tuple Device_power=\"2.957\" Frequency=\"10.0\" Index=\"41\"/><Tuple Device_power=\"2.702\" Frequency=\"11.0\" Index=\"41\"/><Tuple Device_power=\"3.353\" Frequency=\"12.0\" Index=\"41\"/><Tuple Device_power=\"4.5\" Frequency=\"8.0\" Index=\"42\"/><Tuple Device_power=\"3.461\" Frequency=\"9.0\" Index=\"42\"/><Tuple Device_power=\"2.961\" Frequency=\"10.0\" Index=\"42\"/><Tuple Device_power=\"2.701\" Frequency=\"11.0\" Index=\"42\"/><Tuple Device_power=\"3.354\" Frequency=\"12.0\" Index=\"42\"/><Tuple Device_power=\"4.498\" Frequency=\"8.0\" Index=\"43\"/><Tuple Device_power=\"3.458\" Frequency=\"9.0\" Index=\"43\"/><Tuple Device_power=\"2.952\" Frequency=\"10.0\" Index=\"43\"/><Tuple Device_power=\"2.7\" Frequency=\"11.0\" Index=\"43\"/><Tuple Device_power=\"3.346\" Frequency=\"12.0\" Index=\"43\"/><Tuple Device_power=\"4.498\" Frequency=\"8.0\" Index=\"44\"/><Tuple Device_power=\"3.461\" Frequency=\"9.0\" Index=\"44\"/><Tuple Device_power=\"2.949\" Frequency=\"10.0\" Index=\"44\"/><Tuple Device_power=\"2.7\" Frequency=\"11.0\" Index=\"44\"/><Tuple Device_power=\"3.354\" Frequency=\"12.0\" Index=\"44\"/><Tuple Device_power=\"4.478\" Frequency=\"8.0\" Index=\"45\"/><Tuple Device_power=\"3.462\" Frequency=\"9.0\" Index=\"45\"/><Tuple Device_power=\"2.963\" Frequency=\"10.0\" Index=\"45\"/><Tuple Device_power=\"2.701\" Frequency=\"11.0\" Index=\"45\"/><Tuple Device_power=\"3.353\" Frequency=\"12.0\" Index=\"45\"/><Tuple Device_power=\"4.5\" Frequency=\"8.0\" Index=\"46\"/><Tuple Device_power=\"3.461\" Frequency=\"9.0\" Index=\"46\"/><Tuple Device_power=\"2.965\" Frequency=\"10.0\" Index=\"46\"/><Tuple Device_power=\"2.695\" Frequency=\"11.0\" Index=\"46\"/><Tuple Device_power=\"3.356\" Frequency=\"12.0\" Index=\"46\"/><Tuple Device_power=\"4.501\" Frequency=\"8.0\" Index=\"47\"/><Tuple Device_power=\"3.445\" Frequency=\"9.0\" Index=\"47\"/><Tuple Device_power=\"2.964\" Frequency=\"10.0\" Index=\"47\"/><Tuple Device_power=\"2.701\" Frequency=\"11.0\" Index=\"47\"/><Tuple Device_power=\"3.354\" Frequency=\"12.0\" Index=\"47\"/><Tuple Device_power=\"4.484\" Frequency=\"8.0\" Index=\"48\"/><Tuple Device_power=\"3.459\" Frequency=\"9.0\" Index=\"48\"/><Tuple Device_power=\"2.964\" Frequency=\"10.0\" Index=\"48\"/><Tuple Device_power=\"2.701\" Frequency=\"11.0\" Index=\"48\"/><Tuple Device_power=\"3.353\" Frequency=\"12.0\" Index=\"48\"/><Tuple Device_power=\"4.498\" Frequency=\"8.0\" Index=\"49\"/><Tuple Device_power=\"3.46\" Frequency=\"9.0\" Index=\"49\"/><Tuple Device_power=\"2.961\" Frequency=\"10.0\" Index=\"49\"/><Tuple Device_power=\"2.702\" Frequency=\"11.0\" Index=\"49\"/><Tuple Device_power=\"3.355\" Frequency=\"12.0\" Index=\"49\"/><Tuple Device_power=\"4.499\" Frequency=\"8.0\" Index=\"50\"/><Tuple Device_power=\"3.462\" Frequency=\"9.0\" Index=\"50\"/><Tuple Device_power=\"2.964\" Frequency=\"10.0\" Index=\"50\"/><Tuple Device_power=\"2.693\" Frequency=\"11.0\" Index=\"50\"/><Tuple Device_power=\"3.355\" Frequency=\"12.0\" Index=\"50\"/><Tuple Device_power=\"4.5\" Frequency=\"8.0\" Index=\"51\"/><Tuple Device_power=\"3.459\" Frequency=\"9.0\" Index=\"51\"/><Tuple Device_power=\"2.963\" Frequency=\"10.0\" Index=\"51\"/><Tuple Device_power=\"2.691\" Frequency=\"11.0\" Index=\"51\"/><Tuple Device_power=\"3.336\" Frequency=\"12.0\" Index=\"51\"/></Data></Data_Table>\\n<Data_Table><Data_Description><Index>The order it was measured</Index><Device_temperature></Device_temperature><Frequency>Frequency in GHZ</Frequency></Data_Description><Data><Tuple Device_temperature=\"9818.74\" Frequency=\"8.0\" Index=\"0\"/><Tuple Device_temperature=\"10087.34\" Frequency=\"9.0\" Index=\"0\"/><Tuple Device_temperature=\"10279.8\" Frequency=\"10.0\" Index=\"0\"/><Tuple Device_temperature=\"10404.81\" Frequency=\"11.0\" Index=\"0\"/><Tuple Device_temperature=\"10535.17\" Frequency=\"12.0\" Index=\"0\"/><Tuple Device_temperature=\"9806.66\" Frequency=\"8.0\" Index=\"1\"/><Tuple Device_temperature=\"9997.67\" Frequency=\"9.0\" Index=\"1\"/><Tuple Device_temperature=\"10274.51\" Frequency=\"10.0\" Index=\"1\"/><Tuple Device_temperature=\"10325.67\" Frequency=\"11.0\" Index=\"1\"/><Tuple Device_temperature=\"10531.27\" Frequency=\"12.0\" Index=\"1\"/><Tuple Device_temperature=\"9808.46\" Frequency=\"8.0\" Index=\"2\"/><Tuple Device_temperature=\"10047.84\" Frequency=\"9.0\" Index=\"2\"/><Tuple Device_temperature=\"10264.52\" Frequency=\"10.0\" Index=\"2\"/><Tuple Device_temperature=\"10439.39\" Frequency=\"11.0\" Index=\"2\"/><Tuple Device_temperature=\"10520.24\" Frequency=\"12.0\" Index=\"2\"/><Tuple Device_temperature=\"9836.14\" Frequency=\"8.0\" Index=\"3\"/><Tuple Device_temperature=\"10101.44\" Frequency=\"9.0\" Index=\"3\"/><Tuple Device_temperature=\"10241.27\" Frequency=\"10.0\" Index=\"3\"/><Tuple Device_temperature=\"10361.96\" Frequency=\"11.0\" Index=\"3\"/><Tuple Device_temperature=\"10551.02\" Frequency=\"12.0\" Index=\"3\"/><Tuple Device_temperature=\"9802.34\" Frequency=\"8.0\" Index=\"4\"/><Tuple Device_temperature=\"10047.58\" Frequency=\"9.0\" Index=\"4\"/><Tuple Device_temperature=\"10279.0\" Frequency=\"10.0\" Index=\"4\"/><Tuple Device_temperature=\"10349.8\" Frequency=\"11.0\" Index=\"4\"/><Tuple Device_temperature=\"10536.36\" Frequency=\"12.0\" Index=\"4\"/><Tuple Device_temperature=\"9847.45\" Frequency=\"8.0\" Index=\"5\"/><Tuple Device_temperature=\"10055.83\" Frequency=\"9.0\" Index=\"5\"/><Tuple Device_temperature=\"10277.02\" Frequency=\"10.0\" Index=\"5\"/><Tuple Device_temperature=\"10346.14\" Frequency=\"11.0\" Index=\"5\"/><Tuple Device_temperature=\"10516.38\" Frequency=\"12.0\" Index=\"5\"/><Tuple Device_temperature=\"9818.1\" Frequency=\"8.0\" Index=\"6\"/><Tuple Device_temperature=\"9985.54\" Frequency=\"9.0\" Index=\"6\"/><Tuple Device_temperature=\"10256.05\" Frequency=\"10.0\" Index=\"6\"/><Tuple Device_temperature=\"10335.13\" Frequency=\"11.0\" Index=\"6\"/><Tuple Device_temperature=\"10547.57\" Frequency=\"12.0\" Index=\"6\"/><Tuple Device_temperature=\"9833.95\" Frequency=\"8.0\" Index=\"7\"/><Tuple Device_temperature=\"10039.89\" Frequency=\"9.0\" Index=\"7\"/><Tuple Device_temperature=\"10302.95\" Frequency=\"10.0\" Index=\"7\"/><Tuple Device_temperature=\"10418.81\" Frequency=\"11.0\" Index=\"7\"/><Tuple Device_temperature=\"10543.74\" Frequency=\"12.0\" Index=\"7\"/><Tuple Device_temperature=\"9800.4\" Frequency=\"8.0\" Index=\"8\"/><Tuple Device_temperature=\"10000.44\" Frequency=\"9.0\" Index=\"8\"/><Tuple Device_temperature=\"10308.98\" Frequency=\"10.0\" Index=\"8\"/><Tuple Device_temperature=\"10433.56\" Frequency=\"11.0\" Index=\"8\"/><Tuple Device_temperature=\"10536.32\" Frequency=\"12.0\" Index=\"8\"/><Tuple Device_temperature=\"9852.97\" Frequency=\"8.0\" Index=\"9\"/><Tuple Device_temperature=\"10069.72\" Frequency=\"9.0\" Index=\"9\"/><Tuple Device_temperature=\"10300.86\" Frequency=\"10.0\" Index=\"9\"/><Tuple Device_temperature=\"10444.93\" Frequency=\"11.0\" Index=\"9\"/><Tuple Device_temperature=\"10554.97\" Frequency=\"12.0\" Index=\"9\"/><Tuple Device_temperature=\"9827.28\" Frequency=\"8.0\" Index=\"10\"/><Tuple Device_temperature=\"10084.45\" Frequency=\"9.0\" Index=\"10\"/><Tuple Device_temperature=\"10243.47\" Frequency=\"10.0\" Index=\"10\"/><Tuple Device_temperature=\"10388.35\" Frequency=\"11.0\" Index=\"10\"/><Tuple Device_temperature=\"10478.11\" Frequency=\"12.0\" Index=\"10\"/><Tuple Device_temperature=\"9802.29\" Frequency=\"8.0\" Index=\"11\"/><Tuple Device_temperature=\"10017.82\" Frequency=\"9.0\" Index=\"11\"/><Tuple Device_temperature=\"10227.96\" Frequency=\"10.0\" Index=\"11\"/><Tuple Device_temperature=\"10365.73\" Frequency=\"11.0\" Index=\"11\"/><Tuple Device_temperature=\"10492.57\" Frequency=\"12.0\" Index=\"11\"/><Tuple Device_temperature=\"9794.51\" Frequency=\"8.0\" Index=\"12\"/><Tuple Device_temperature=\"10103.25\" Frequency=\"9.0\" Index=\"12\"/><Tuple Device_temperature=\"10267.48\" Frequency=\"10.0\" Index=\"12\"/><Tuple Device_temperature=\"10452.55\" Frequency=\"11.0\" Index=\"12\"/><Tuple Device_temperature=\"10557.33\" Frequency=\"12.0\" Index=\"12\"/><Tuple Device_temperature=\"9826.55\" Frequency=\"8.0\" Index=\"13\"/><Tuple Device_temperature=\"10055.73\" Frequency=\"9.0\" Index=\"13\"/><Tuple Device_temperature=\"10294.0\" Frequency=\"10.0\" Index=\"13\"/><Tuple Device_temperature=\"10288.64\" Frequency=\"11.0\" Index=\"13\"/><Tuple Device_temperature=\"10532.03\" Frequency=\"12.0\" Index=\"13\"/><Tuple Device_temperature=\"9831.13\" Frequency=\"8.0\" Index=\"14\"/><Tuple Device_temperature=\"10019.24\" Frequency=\"9.0\" Index=\"14\"/><Tuple Device_temperature=\"10243.27\" Frequency=\"10.0\" Index=\"14\"/><Tuple Device_temperature=\"10447.77\" Frequency=\"11.0\" Index=\"14\"/><Tuple Device_temperature=\"10521.71\" Frequency=\"12.0\" Index=\"14\"/><Tuple Device_temperature=\"9806.96\" Frequency=\"8.0\" Index=\"15\"/><Tuple Device_temperature=\"10034.71\" Frequency=\"9.0\" Index=\"15\"/><Tuple Device_temperature=\"10256.15\" Frequency=\"10.0\" Index=\"15\"/><Tuple Device_temperature=\"10443.7\" Frequency=\"11.0\" Index=\"15\"/><Tuple Device_temperature=\"10494.02\" Frequency=\"12.0\" Index=\"15\"/><Tuple Device_temperature=\"9826.71\" Frequency=\"8.0\" Index=\"16\"/><Tuple Device_temperature=\"10033.37\" Frequency=\"9.0\" Index=\"16\"/><Tuple Device_temperature=\"10280.42\" Frequency=\"10.0\" Index=\"16\"/><Tuple Device_temperature=\"10311.62\" Frequency=\"11.0\" Index=\"16\"/><Tuple Device_temperature=\"10518.45\" Frequency=\"12.0\" Index=\"16\"/><Tuple Device_temperature=\"9844.3\" Frequency=\"8.0\" Index=\"17\"/><Tuple Device_temperature=\"10012.73\" Frequency=\"9.0\" Index=\"17\"/><Tuple Device_temperature=\"10319.36\" Frequency=\"10.0\" Index=\"17\"/><Tuple Device_temperature=\"10360.9\" Frequency=\"11.0\" Index=\"17\"/><Tuple Device_temperature=\"10475.4\" Frequency=\"12.0\" Index=\"17\"/><Tuple Device_temperature=\"9811.29\" Frequency=\"8.0\" Index=\"18\"/><Tuple Device_temperature=\"10058.04\" Frequency=\"9.0\" Index=\"18\"/><Tuple Device_temperature=\"10213.87\" Frequency=\"10.0\" Index=\"18\"/><Tuple Device_temperature=\"10450.89\" Frequency=\"11.0\" Index=\"18\"/><Tuple Device_temperature=\"10468.84\" Frequency=\"12.0\" Index=\"18\"/><Tuple Device_temperature=\"9791.68\" Frequency=\"8.0\" Index=\"19\"/><Tuple Device_temperature=\"9983.2\" Frequency=\"9.0\" Index=\"19\"/><Tuple Device_temperature=\"10287.65\" Frequency=\"10.0\" Index=\"19\"/><Tuple Device_temperature=\"10337.61\" Frequency=\"11.0\" Index=\"19\"/><Tuple Device_temperature=\"10584.55\" Frequency=\"12.0\" Index=\"19\"/><Tuple Device_temperature=\"9813.73\" Frequency=\"8.0\" Index=\"20\"/><Tuple Device_temperature=\"10055.7\" Frequency=\"9.0\" Index=\"20\"/><Tuple Device_temperature=\"10224.3\" Frequency=\"10.0\" Index=\"20\"/><Tuple Device_temperature=\"10378.6\" Frequency=\"11.0\" Index=\"20\"/><Tuple Device_temperature=\"10529.64\" Frequency=\"12.0\" Index=\"20\"/><Tuple Device_temperature=\"9818.47\" Frequency=\"8.0\" Index=\"21\"/><Tuple Device_temperature=\"10080.6\" Frequency=\"9.0\" Index=\"21\"/><Tuple Device_temperature=\"10220.07\" Frequency=\"10.0\" Index=\"21\"/><Tuple Device_temperature=\"10311.23\" Frequency=\"11.0\" Index=\"21\"/><Tuple Device_temperature=\"10573.11\" Frequency=\"12.0\" Index=\"21\"/><Tuple Device_temperature=\"9803.58\" Frequency=\"8.0\" Index=\"22\"/><Tuple Device_temperature=\"10018.46\" Frequency=\"9.0\" Index=\"22\"/><Tuple Device_temperature=\"10244.52\" Frequency=\"10.0\" Index=\"22\"/><Tuple Device_temperature=\"10352.02\" Frequency=\"11.0\" Index=\"22\"/><Tuple Device_temperature=\"10521.32\" Frequency=\"12.0\" Index=\"22\"/><Tuple Device_temperature=\"9834.68\" Frequency=\"8.0\" Index=\"23\"/><Tuple Device_temperature=\"10014.59\" Frequency=\"9.0\" Index=\"23\"/><Tuple Device_temperature=\"10292.64\" Frequency=\"10.0\" Index=\"23\"/><Tuple Device_temperature=\"10350.77\" Frequency=\"11.0\" Index=\"23\"/><Tuple Device_temperature=\"10581.15\" Frequency=\"12.0\" Index=\"23\"/><Tuple Device_temperature=\"9774.54\" Frequency=\"8.0\" Index=\"24\"/><Tuple Device_temperature=\"10058.6\" Frequency=\"9.0\" Index=\"24\"/><Tuple Device_temperature=\"10307.93\" Frequency=\"10.0\" Index=\"24\"/><Tuple Device_temperature=\"10386.16\" Frequency=\"11.0\" Index=\"24\"/><Tuple Device_temperature=\"10516.56\" Frequency=\"12.0\" Index=\"24\"/><Tuple Device_temperature=\"9794.54\" Frequency=\"8.0\" Index=\"25\"/><Tuple Device_temperature=\"9997.37\" Frequency=\"9.0\" Index=\"25\"/><Tuple Device_temperature=\"10265.63\" Frequency=\"10.0\" Index=\"25\"/><Tuple Device_temperature=\"10456.16\" Frequency=\"11.0\" Index=\"25\"/><Tuple Device_temperature=\"10519.86\" Frequency=\"12.0\" Index=\"25\"/><Tuple Device_temperature=\"9753.41\" Frequency=\"8.0\" Index=\"26\"/><Tuple Device_temperature=\"10033.57\" Frequency=\"9.0\" Index=\"26\"/><Tuple Device_temperature=\"10205.64\" Frequency=\"10.0\" Index=\"26\"/><Tuple Device_temperature=\"10405.6\" Frequency=\"11.0\" Index=\"26\"/><Tuple Device_temperature=\"10446.07\" Frequency=\"12.0\" Index=\"26\"/><Tuple Device_temperature=\"9792.01\" Frequency=\"8.0\" Index=\"27\"/><Tuple Device_temperature=\"10046.89\" Frequency=\"9.0\" Index=\"27\"/><Tuple Device_temperature=\"10247.25\" Frequency=\"10.0\" Index=\"27\"/><Tuple Device_temperature=\"10367.62\" Frequency=\"11.0\" Index=\"27\"/><Tuple Device_temperature=\"10557.12\" Frequency=\"12.0\" Index=\"27\"/><Tuple Device_temperature=\"9818.2\" Frequency=\"8.0\" Index=\"28\"/><Tuple Device_temperature=\"10044.35\" Frequency=\"9.0\" Index=\"28\"/><Tuple Device_temperature=\"10263.47\" Frequency=\"10.0\" Index=\"28\"/><Tuple Device_temperature=\"10359.19\" Frequency=\"11.0\" Index=\"28\"/><Tuple Device_temperature=\"10559.2\" Frequency=\"12.0\" Index=\"28\"/><Tuple Device_temperature=\"9829.5\" Frequency=\"8.0\" Index=\"29\"/><Tuple Device_temperature=\"10066.81\" Frequency=\"9.0\" Index=\"29\"/><Tuple Device_temperature=\"10277.32\" Frequency=\"10.0\" Index=\"29\"/><Tuple Device_temperature=\"10350.56\" Frequency=\"11.0\" Index=\"29\"/><Tuple Device_temperature=\"10587.92\" Frequency=\"12.0\" Index=\"29\"/><Tuple Device_temperature=\"9807.97\" Frequency=\"8.0\" Index=\"30\"/><Tuple Device_temperature=\"10032.05\" Frequency=\"9.0\" Index=\"30\"/><Tuple Device_temperature=\"10278.96\" Frequency=\"10.0\" Index=\"30\"/><Tuple Device_temperature=\"10359.03\" Frequency=\"11.0\" Index=\"30\"/><Tuple Device_temperature=\"10466.28\" Frequency=\"12.0\" Index=\"30\"/><Tuple Device_temperature=\"9824.43\" Frequency=\"8.0\" Index=\"31\"/><Tuple Device_temperature=\"10062.89\" Frequency=\"9.0\" Index=\"31\"/><Tuple Device_temperature=\"10293.9\" Frequency=\"10.0\" Index=\"31\"/><Tuple Device_temperature=\"10389.25\" Frequency=\"11.0\" Index=\"31\"/><Tuple Device_temperature=\"10545.68\" Frequency=\"12.0\" Index=\"31\"/><Tuple Device_temperature=\"9794.18\" Frequency=\"8.0\" Index=\"32\"/><Tuple Device_temperature=\"9988.98\" Frequency=\"9.0\" Index=\"32\"/><Tuple Device_temperature=\"10244.52\" Frequency=\"10.0\" Index=\"32\"/><Tuple Device_temperature=\"10356.54\" Frequency=\"11.0\" Index=\"32\"/><Tuple Device_temperature=\"10519.46\" Frequency=\"12.0\" Index=\"32\"/><Tuple Device_temperature=\"9820.59\" Frequency=\"8.0\" Index=\"33\"/><Tuple Device_temperature=\"10079.48\" Frequency=\"9.0\" Index=\"33\"/><Tuple Device_temperature=\"10250.14\" Frequency=\"10.0\" Index=\"33\"/><Tuple Device_temperature=\"10387.67\" Frequency=\"11.0\" Index=\"33\"/><Tuple Device_temperature=\"10605.12\" Frequency=\"12.0\" Index=\"33\"/><Tuple Device_temperature=\"9809.72\" Frequency=\"8.0\" Index=\"34\"/><Tuple Device_temperature=\"10036.91\" Frequency=\"9.0\" Index=\"34\"/><Tuple Device_temperature=\"10258.25\" Frequency=\"10.0\" Index=\"34\"/><Tuple Device_temperature=\"10339.72\" Frequency=\"11.0\" Index=\"34\"/><Tuple Device_temperature=\"10495.38\" Frequency=\"12.0\" Index=\"34\"/><Tuple Device_temperature=\"9803.36\" Frequency=\"8.0\" Index=\"35\"/><Tuple Device_temperature=\"10001.4\" Frequency=\"9.0\" Index=\"35\"/><Tuple Device_temperature=\"10215.76\" Frequency=\"10.0\" Index=\"35\"/><Tuple Device_temperature=\"10452.57\" Frequency=\"11.0\" Index=\"35\"/><Tuple Device_temperature=\"10496.35\" Frequency=\"12.0\" Index=\"35\"/><Tuple Device_temperature=\"9803.16\" Frequency=\"8.0\" Index=\"36\"/><Tuple Device_temperature=\"10036.95\" Frequency=\"9.0\" Index=\"36\"/><Tuple Device_temperature=\"10211.47\" Frequency=\"10.0\" Index=\"36\"/><Tuple Device_temperature=\"10367.09\" Frequency=\"11.0\" Index=\"36\"/><Tuple Device_temperature=\"10526.58\" Frequency=\"12.0\" Index=\"36\"/><Tuple Device_temperature=\"9808.23\" Frequency=\"8.0\" Index=\"37\"/><Tuple Device_temperature=\"10023.79\" Frequency=\"9.0\" Index=\"37\"/><Tuple Device_temperature=\"10207.42\" Frequency=\"10.0\" Index=\"37\"/><Tuple Device_temperature=\"10357.37\" Frequency=\"11.0\" Index=\"37\"/><Tuple Device_temperature=\"10500.75\" Frequency=\"12.0\" Index=\"37\"/><Tuple Device_temperature=\"9851.94\" Frequency=\"8.0\" Index=\"38\"/><Tuple Device_temperature=\"10062.96\" Frequency=\"9.0\" Index=\"38\"/><Tuple Device_temperature=\"10276.18\" Frequency=\"10.0\" Index=\"38\"/><Tuple Device_temperature=\"10412.79\" Frequency=\"11.0\" Index=\"38\"/><Tuple Device_temperature=\"10563.37\" Frequency=\"12.0\" Index=\"38\"/><Tuple Device_temperature=\"9809.95\" Frequency=\"8.0\" Index=\"39\"/><Tuple Device_temperature=\"9995.07\" Frequency=\"9.0\" Index=\"39\"/><Tuple Device_temperature=\"10264.16\" Frequency=\"10.0\" Index=\"39\"/><Tuple Device_temperature=\"10324.29\" Frequency=\"11.0\" Index=\"39\"/><Tuple Device_temperature=\"10507.37\" Frequency=\"12.0\" Index=\"39\"/><Tuple Device_temperature=\"9820.19\" Frequency=\"8.0\" Index=\"40\"/><Tuple Device_temperature=\"10063.84\" Frequency=\"9.0\" Index=\"40\"/><Tuple Device_temperature=\"10274.72\" Frequency=\"10.0\" Index=\"40\"/><Tuple Device_temperature=\"10333.08\" Frequency=\"11.0\" Index=\"40\"/><Tuple Device_temperature=\"10584.87\" Frequency=\"12.0\" Index=\"40\"/><Tuple Device_temperature=\"9787.3\" Frequency=\"8.0\" Index=\"41\"/><Tuple Device_temperature=\"10003.73\" Frequency=\"9.0\" Index=\"41\"/><Tuple Device_temperature=\"10292.21\" Frequency=\"10.0\" Index=\"41\"/><Tuple Device_temperature=\"10344.04\" Frequency=\"11.0\" Index=\"41\"/><Tuple Device_temperature=\"10567.46\" Frequency=\"12.0\" Index=\"41\"/><Tuple Device_temperature=\"9851.19\" Frequency=\"8.0\" Index=\"42\"/><Tuple Device_temperature=\"10067.99\" Frequency=\"9.0\" Index=\"42\"/><Tuple Device_temperature=\"10254.87\" Frequency=\"10.0\" Index=\"42\"/><Tuple Device_temperature=\"10309.24\" Frequency=\"11.0\" Index=\"42\"/><Tuple Device_temperature=\"10575.14\" Frequency=\"12.0\" Index=\"42\"/><Tuple Device_temperature=\"9807.36\" Frequency=\"8.0\" Index=\"43\"/><Tuple Device_temperature=\"10070.77\" Frequency=\"9.0\" Index=\"43\"/><Tuple Device_temperature=\"10294.72\" Frequency=\"10.0\" Index=\"43\"/><Tuple Device_temperature=\"10310.3\" Frequency=\"11.0\" Index=\"43\"/><Tuple Device_temperature=\"10545.77\" Frequency=\"12.0\" Index=\"43\"/><Tuple Device_temperature=\"9812.11\" Frequency=\"8.0\" Index=\"44\"/><Tuple Device_temperature=\"10036.95\" Frequency=\"9.0\" Index=\"44\"/><Tuple Device_temperature=\"10239.43\" Frequency=\"10.0\" Index=\"44\"/><Tuple Device_temperature=\"10418.01\" Frequency=\"11.0\" Index=\"44\"/><Tuple Device_temperature=\"10541.1\" Frequency=\"12.0\" Index=\"44\"/><Tuple Device_temperature=\"9802.94\" Frequency=\"8.0\" Index=\"45\"/><Tuple Device_temperature=\"10079.72\" Frequency=\"9.0\" Index=\"45\"/><Tuple Device_temperature=\"10252.04\" Frequency=\"10.0\" Index=\"45\"/><Tuple Device_temperature=\"10397.74\" Frequency=\"11.0\" Index=\"45\"/><Tuple Device_temperature=\"10540.71\" Frequency=\"12.0\" Index=\"45\"/><Tuple Device_temperature=\"9850.54\" Frequency=\"8.0\" Index=\"46\"/><Tuple Device_temperature=\"10033.82\" Frequency=\"9.0\" Index=\"46\"/><Tuple Device_temperature=\"10218.73\" Frequency=\"10.0\" Index=\"46\"/><Tuple Device_temperature=\"10258.13\" Frequency=\"11.0\" Index=\"46\"/><Tuple Device_temperature=\"10564.54\" Frequency=\"12.0\" Index=\"46\"/><Tuple Device_temperature=\"9840.94\" Frequency=\"8.0\" Index=\"47\"/><Tuple Device_temperature=\"10065.87\" Frequency=\"9.0\" Index=\"47\"/><Tuple Device_temperature=\"10226.15\" Frequency=\"10.0\" Index=\"47\"/><Tuple Device_temperature=\"10345.68\" Frequency=\"11.0\" Index=\"47\"/><Tuple Device_temperature=\"10509.97\" Frequency=\"12.0\" Index=\"47\"/><Tuple Device_temperature=\"9787.14\" Frequency=\"8.0\" Index=\"48\"/><Tuple Device_temperature=\"10084.31\" Frequency=\"9.0\" Index=\"48\"/><Tuple Device_temperature=\"10262.2\" Frequency=\"10.0\" Index=\"48\"/><Tuple Device_temperature=\"10367.5\" Frequency=\"11.0\" Index=\"48\"/><Tuple Device_temperature=\"10578.92\" Frequency=\"12.0\" Index=\"48\"/><Tuple Device_temperature=\"9808.51\" Frequency=\"8.0\" Index=\"49\"/><Tuple Device_temperature=\"10006.53\" Frequency=\"9.0\" Index=\"49\"/><Tuple Device_temperature=\"10252.51\" Frequency=\"10.0\" Index=\"49\"/><Tuple Device_temperature=\"10400.19\" Frequency=\"11.0\" Index=\"49\"/><Tuple Device_temperature=\"10529.54\" Frequency=\"12.0\" Index=\"49\"/><Tuple Device_temperature=\"9812.72\" Frequency=\"8.0\" Index=\"50\"/><Tuple Device_temperature=\"10055.27\" Frequency=\"9.0\" Index=\"50\"/><Tuple Device_temperature=\"10268.35\" Frequency=\"10.0\" Index=\"50\"/><Tuple Device_temperature=\"10402.2\" Frequency=\"11.0\" Index=\"50\"/><Tuple Device_temperature=\"10497.68\" Frequency=\"12.0\" Index=\"50\"/><Tuple Device_temperature=\"9779.23\" Frequency=\"8.0\" Index=\"51\"/><Tuple Device_temperature=\"10003.47\" Frequency=\"9.0\" Index=\"51\"/><Tuple Device_temperature=\"10276.89\" Frequency=\"10.0\" Index=\"51\"/><Tuple Device_temperature=\"10385.21\" Frequency=\"11.0\" Index=\"51\"/><Tuple Device_temperature=\"10510.07\" Frequency=\"12.0\" Index=\"51\"/></Data></Data_Table>\\n<Data_Table><Data_Description><Index>The order it was measured</Index><Frequency>Frequency in GHZ</Frequency><Ambient_power></Ambient_power></Data_Description><Data><Tuple Ambient_power=\"0.589\" Frequency=\"8.0\" Index=\"0\"/><Tuple Ambient_power=\"0.497\" Frequency=\"9.0\" Index=\"0\"/><Tuple Ambient_power=\"0.412\" Frequency=\"10.0\" Index=\"0\"/><Tuple Ambient_power=\"0.388\" Frequency=\"11.0\" Index=\"0\"/><Tuple Ambient_power=\"0.496\" Frequency=\"12.0\" Index=\"0\"/><Tuple Ambient_power=\"0.589\" Frequency=\"8.0\" Index=\"1\"/><Tuple Ambient_power=\"0.497\" Frequency=\"9.0\" Index=\"1\"/><Tuple Ambient_power=\"0.412\" Frequency=\"10.0\" Index=\"1\"/><Tuple Ambient_power=\"0.388\" Frequency=\"11.0\" Index=\"1\"/><Tuple Ambient_power=\"0.496\" Frequency=\"12.0\" Index=\"1\"/><Tuple Ambient_power=\"0.589\" Frequency=\"8.0\" Index=\"2\"/><Tuple Ambient_power=\"0.497\" Frequency=\"9.0\" Index=\"2\"/><Tuple Ambient_power=\"0.412\" Frequency=\"10.0\" Index=\"2\"/><Tuple Ambient_power=\"0.388\" Frequency=\"11.0\" Index=\"2\"/><Tuple Ambient_power=\"0.496\" Frequency=\"12.0\" Index=\"2\"/><Tuple Ambient_power=\"0.59\" Frequency=\"8.0\" Index=\"3\"/><Tuple Ambient_power=\"0.497\" Frequency=\"9.0\" Index=\"3\"/><Tuple Ambient_power=\"0.412\" Frequency=\"10.0\" Index=\"3\"/><Tuple Ambient_power=\"0.388\" Frequency=\"11.0\" Index=\"3\"/><Tuple Ambient_power=\"0.496\" Frequency=\"12.0\" Index=\"3\"/><Tuple Ambient_power=\"0.59\" Frequency=\"8.0\" Index=\"4\"/><Tuple Ambient_power=\"0.498\" Frequency=\"9.0\" Index=\"4\"/><Tuple Ambient_power=\"0.413\" Frequency=\"10.0\" Index=\"4\"/><Tuple Ambient_power=\"0.389\" Frequency=\"11.0\" Index=\"4\"/><Tuple Ambient_power=\"0.497\" Frequency=\"12.0\" Index=\"4\"/><Tuple Ambient_power=\"0.59\" Frequency=\"8.0\" Index=\"5\"/><Tuple Ambient_power=\"0.498\" Frequency=\"9.0\" Index=\"5\"/><Tuple Ambient_power=\"0.413\" Frequency=\"10.0\" Index=\"5\"/><Tuple Ambient_power=\"0.389\" Frequency=\"11.0\" Index=\"5\"/><Tuple Ambient_power=\"0.497\" Frequency=\"12.0\" Index=\"5\"/><Tuple Ambient_power=\"0.59\" Frequency=\"8.0\" Index=\"6\"/><Tuple Ambient_power=\"0.499\" Frequency=\"9.0\" Index=\"6\"/><Tuple Ambient_power=\"0.412\" Frequency=\"10.0\" Index=\"6\"/><Tuple Ambient_power=\"0.388\" Frequency=\"11.0\" Index=\"6\"/><Tuple Ambient_power=\"0.496\" Frequency=\"12.0\" Index=\"6\"/><Tuple Ambient_power=\"0.591\" Frequency=\"8.0\" Index=\"7\"/><Tuple Ambient_power=\"0.498\" Frequency=\"9.0\" Index=\"7\"/><Tuple Ambient_power=\"0.413\" Frequency=\"10.0\" Index=\"7\"/><Tuple Ambient_power=\"0.389\" Frequency=\"11.0\" Index=\"7\"/><Tuple Ambient_power=\"0.497\" Frequency=\"12.0\" Index=\"7\"/><Tuple Ambient_power=\"0.59\" Frequency=\"8.0\" Index=\"8\"/><Tuple Ambient_power=\"0.498\" Frequency=\"9.0\" Index=\"8\"/><Tuple Ambient_power=\"0.413\" Frequency=\"10.0\" Index=\"8\"/><Tuple Ambient_power=\"0.389\" Frequency=\"11.0\" Index=\"8\"/><Tuple Ambient_power=\"0.497\" Frequency=\"12.0\" Index=\"8\"/><Tuple Ambient_power=\"0.59\" Frequency=\"8.0\" Index=\"9\"/><Tuple Ambient_power=\"0.498\" Frequency=\"9.0\" Index=\"9\"/><Tuple Ambient_power=\"0.413\" Frequency=\"10.0\" Index=\"9\"/><Tuple Ambient_power=\"0.388\" Frequency=\"11.0\" Index=\"9\"/><Tuple Ambient_power=\"0.497\" Frequency=\"12.0\" Index=\"9\"/><Tuple Ambient_power=\"0.591\" Frequency=\"8.0\" Index=\"10\"/><Tuple Ambient_power=\"0.498\" Frequency=\"9.0\" Index=\"10\"/><Tuple Ambient_power=\"0.413\" Frequency=\"10.0\" Index=\"10\"/><Tuple Ambient_power=\"0.389\" Frequency=\"11.0\" Index=\"10\"/><Tuple Ambient_power=\"0.497\" Frequency=\"12.0\" Index=\"10\"/><Tuple Ambient_power=\"0.591\" Frequency=\"8.0\" Index=\"11\"/><Tuple Ambient_power=\"0.499\" Frequency=\"9.0\" Index=\"11\"/><Tuple Ambient_power=\"0.413\" Frequency=\"10.0\" Index=\"11\"/><Tuple Ambient_power=\"0.389\" Frequency=\"11.0\" Index=\"11\"/><Tuple Ambient_power=\"0.497\" Frequency=\"12.0\" Index=\"11\"/><Tuple Ambient_power=\"0.589\" Frequency=\"8.0\" Index=\"12\"/><Tuple Ambient_power=\"0.496\" Frequency=\"9.0\" Index=\"12\"/><Tuple Ambient_power=\"0.412\" Frequency=\"10.0\" Index=\"12\"/><Tuple Ambient_power=\"0.388\" Frequency=\"11.0\" Index=\"12\"/><Tuple Ambient_power=\"0.496\" Frequency=\"12.0\" Index=\"12\"/><Tuple Ambient_power=\"0.59\" Frequency=\"8.0\" Index=\"13\"/><Tuple Ambient_power=\"0.498\" Frequency=\"9.0\" Index=\"13\"/><Tuple Ambient_power=\"0.412\" Frequency=\"10.0\" Index=\"13\"/><Tuple Ambient_power=\"0.389\" Frequency=\"11.0\" Index=\"13\"/><Tuple Ambient_power=\"0.497\" Frequency=\"12.0\" Index=\"13\"/><Tuple Ambient_power=\"0.59\" Frequency=\"8.0\" Index=\"14\"/><Tuple Ambient_power=\"0.497\" Frequency=\"9.0\" Index=\"14\"/><Tuple Ambient_power=\"0.412\" Frequency=\"10.0\" Index=\"14\"/><Tuple Ambient_power=\"0.388\" Frequency=\"11.0\" Index=\"14\"/><Tuple Ambient_power=\"0.496\" Frequency=\"12.0\" Index=\"14\"/><Tuple Ambient_power=\"0.591\" Frequency=\"8.0\" Index=\"15\"/><Tuple Ambient_power=\"0.496\" Frequency=\"9.0\" Index=\"15\"/><Tuple Ambient_power=\"0.413\" Frequency=\"10.0\" Index=\"15\"/><Tuple Ambient_power=\"0.388\" Frequency=\"11.0\" Index=\"15\"/><Tuple Ambient_power=\"0.497\" Frequency=\"12.0\" Index=\"15\"/><Tuple Ambient_power=\"0.589\" Frequency=\"8.0\" Index=\"16\"/><Tuple Ambient_power=\"0.497\" Frequency=\"9.0\" Index=\"16\"/><Tuple Ambient_power=\"0.411\" Frequency=\"10.0\" Index=\"16\"/><Tuple Ambient_power=\"0.389\" Frequency=\"11.0\" Index=\"16\"/><Tuple Ambient_power=\"0.496\" Frequency=\"12.0\" Index=\"16\"/><Tuple Ambient_power=\"0.589\" Frequency=\"8.0\" Index=\"17\"/><Tuple Ambient_power=\"0.497\" Frequency=\"9.0\" Index=\"17\"/><Tuple Ambient_power=\"0.411\" Frequency=\"10.0\" Index=\"17\"/><Tuple Ambient_power=\"0.388\" Frequency=\"11.0\" Index=\"17\"/><Tuple Ambient_power=\"0.496\" Frequency=\"12.0\" Index=\"17\"/><Tuple Ambient_power=\"0.59\" Frequency=\"8.0\" Index=\"18\"/><Tuple Ambient_power=\"0.497\" Frequency=\"9.0\" Index=\"18\"/><Tuple Ambient_power=\"0.413\" Frequency=\"10.0\" Index=\"18\"/><Tuple Ambient_power=\"0.388\" Frequency=\"11.0\" Index=\"18\"/><Tuple Ambient_power=\"0.498\" Frequency=\"12.0\" Index=\"18\"/><Tuple Ambient_power=\"0.589\" Frequency=\"8.0\" Index=\"19\"/><Tuple Ambient_power=\"0.497\" Frequency=\"9.0\" Index=\"19\"/><Tuple Ambient_power=\"0.412\" Frequency=\"10.0\" Index=\"19\"/><Tuple Ambient_power=\"0.387\" Frequency=\"11.0\" Index=\"19\"/><Tuple Ambient_power=\"0.496\" Frequency=\"12.0\" Index=\"19\"/><Tuple Ambient_power=\"0.59\" Frequency=\"8.0\" Index=\"20\"/><Tuple Ambient_power=\"0.498\" Frequency=\"9.0\" Index=\"20\"/><Tuple Ambient_power=\"0.413\" Frequency=\"10.0\" Index=\"20\"/><Tuple Ambient_power=\"0.389\" Frequency=\"11.0\" Index=\"20\"/><Tuple Ambient_power=\"0.497\" Frequency=\"12.0\" Index=\"20\"/><Tuple Ambient_power=\"0.589\" Frequency=\"8.0\" Index=\"21\"/><Tuple Ambient_power=\"0.496\" Frequency=\"9.0\" Index=\"21\"/><Tuple Ambient_power=\"0.412\" Frequency=\"10.0\" Index=\"21\"/><Tuple Ambient_power=\"0.388\" Frequency=\"11.0\" Index=\"21\"/><Tuple Ambient_power=\"0.495\" Frequency=\"12.0\" Index=\"21\"/><Tuple Ambient_power=\"0.59\" Frequency=\"8.0\" Index=\"22\"/><Tuple Ambient_power=\"0.498\" Frequency=\"9.0\" Index=\"22\"/><Tuple Ambient_power=\"0.412\" Frequency=\"10.0\" Index=\"22\"/><Tuple Ambient_power=\"0.389\" Frequency=\"11.0\" Index=\"22\"/><Tuple Ambient_power=\"0.497\" Frequency=\"12.0\" Index=\"22\"/><Tuple Ambient_power=\"0.589\" Frequency=\"8.0\" Index=\"23\"/><Tuple Ambient_power=\"0.496\" Frequency=\"9.0\" Index=\"23\"/><Tuple Ambient_power=\"0.411\" Frequency=\"10.0\" Index=\"23\"/><Tuple Ambient_power=\"0.388\" Frequency=\"11.0\" Index=\"23\"/><Tuple Ambient_power=\"0.495\" Frequency=\"12.0\" Index=\"23\"/><Tuple Ambient_power=\"0.588\" Frequency=\"8.0\" Index=\"24\"/><Tuple Ambient_power=\"0.497\" Frequency=\"9.0\" Index=\"24\"/><Tuple Ambient_power=\"0.41\" Frequency=\"10.0\" Index=\"24\"/><Tuple Ambient_power=\"0.388\" Frequency=\"11.0\" Index=\"24\"/><Tuple Ambient_power=\"0.495\" Frequency=\"12.0\" Index=\"24\"/><Tuple Ambient_power=\"0.589\" Frequency=\"8.0\" Index=\"25\"/><Tuple Ambient_power=\"0.497\" Frequency=\"9.0\" Index=\"25\"/><Tuple Ambient_power=\"0.413\" Frequency=\"10.0\" Index=\"25\"/><Tuple Ambient_power=\"0.387\" Frequency=\"11.0\" Index=\"25\"/><Tuple Ambient_power=\"0.496\" Frequency=\"12.0\" Index=\"25\"/><Tuple Ambient_power=\"0.297\" Frequency=\"8.0\" Index=\"26\"/><Tuple Ambient_power=\"0.248\" Frequency=\"9.0\" Index=\"26\"/><Tuple Ambient_power=\"0.207\" Frequency=\"10.0\" Index=\"26\"/><Tuple Ambient_power=\"0.196\" Frequency=\"11.0\" Index=\"26\"/><Tuple Ambient_power=\"0.252\" Frequency=\"12.0\" Index=\"26\"/><Tuple Ambient_power=\"0.297\" Frequency=\"8.0\" Index=\"27\"/><Tuple Ambient_power=\"0.248\" Frequency=\"9.0\" Index=\"27\"/><Tuple Ambient_power=\"0.206\" Frequency=\"10.0\" Index=\"27\"/><Tuple Ambient_power=\"0.196\" Frequency=\"11.0\" Index=\"27\"/><Tuple Ambient_power=\"0.251\" Frequency=\"12.0\" Index=\"27\"/><Tuple Ambient_power=\"0.297\" Frequency=\"8.0\" Index=\"28\"/><Tuple Ambient_power=\"0.249\" Frequency=\"9.0\" Index=\"28\"/><Tuple Ambient_power=\"0.207\" Frequency=\"10.0\" Index=\"28\"/><Tuple Ambient_power=\"0.197\" Frequency=\"11.0\" Index=\"28\"/><Tuple Ambient_power=\"0.252\" Frequency=\"12.0\" Index=\"28\"/><Tuple Ambient_power=\"0.297\" Frequency=\"8.0\" Index=\"29\"/><Tuple Ambient_power=\"0.248\" Frequency=\"9.0\" Index=\"29\"/><Tuple Ambient_power=\"0.207\" Frequency=\"10.0\" Index=\"29\"/><Tuple Ambient_power=\"0.197\" Frequency=\"11.0\" Index=\"29\"/><Tuple Ambient_power=\"0.252\" Frequency=\"12.0\" Index=\"29\"/><Tuple Ambient_power=\"0.297\" Frequency=\"8.0\" Index=\"30\"/><Tuple Ambient_power=\"0.249\" Frequency=\"9.0\" Index=\"30\"/><Tuple Ambient_power=\"0.207\" Frequency=\"10.0\" Index=\"30\"/><Tuple Ambient_power=\"0.197\" Frequency=\"11.0\" Index=\"30\"/><Tuple Ambient_power=\"0.252\" Frequency=\"12.0\" Index=\"30\"/><Tuple Ambient_power=\"0.297\" Frequency=\"8.0\" Index=\"31\"/><Tuple Ambient_power=\"0.249\" Frequency=\"9.0\" Index=\"31\"/><Tuple Ambient_power=\"0.207\" Frequency=\"10.0\" Index=\"31\"/><Tuple Ambient_power=\"0.197\" Frequency=\"11.0\" Index=\"31\"/><Tuple Ambient_power=\"0.252\" Frequency=\"12.0\" Index=\"31\"/><Tuple Ambient_power=\"0.296\" Frequency=\"8.0\" Index=\"32\"/><Tuple Ambient_power=\"0.248\" Frequency=\"9.0\" Index=\"32\"/><Tuple Ambient_power=\"0.207\" Frequency=\"10.0\" Index=\"32\"/><Tuple Ambient_power=\"0.198\" Frequency=\"11.0\" Index=\"32\"/><Tuple Ambient_power=\"0.251\" Frequency=\"12.0\" Index=\"32\"/><Tuple Ambient_power=\"0.296\" Frequency=\"8.0\" Index=\"33\"/><Tuple Ambient_power=\"0.248\" Frequency=\"9.0\" Index=\"33\"/><Tuple Ambient_power=\"0.206\" Frequency=\"10.0\" Index=\"33\"/><Tuple Ambient_power=\"0.196\" Frequency=\"11.0\" Index=\"33\"/><Tuple Ambient_power=\"0.252\" Frequency=\"12.0\" Index=\"33\"/><Tuple Ambient_power=\"0.296\" Frequency=\"8.0\" Index=\"34\"/><Tuple Ambient_power=\"0.248\" Frequency=\"9.0\" Index=\"34\"/><Tuple Ambient_power=\"0.206\" Frequency=\"10.0\" Index=\"34\"/><Tuple Ambient_power=\"0.196\" Frequency=\"11.0\" Index=\"34\"/><Tuple Ambient_power=\"0.252\" Frequency=\"12.0\" Index=\"34\"/><Tuple Ambient_power=\"0.296\" Frequency=\"8.0\" Index=\"35\"/><Tuple Ambient_power=\"0.249\" Frequency=\"9.0\" Index=\"35\"/><Tuple Ambient_power=\"0.207\" Frequency=\"10.0\" Index=\"35\"/><Tuple Ambient_power=\"0.196\" Frequency=\"11.0\" Index=\"35\"/><Tuple Ambient_power=\"0.252\" Frequency=\"12.0\" Index=\"35\"/><Tuple Ambient_power=\"0.297\" Frequency=\"8.0\" Index=\"36\"/><Tuple Ambient_power=\"0.248\" Frequency=\"9.0\" Index=\"36\"/><Tuple Ambient_power=\"0.207\" Frequency=\"10.0\" Index=\"36\"/><Tuple Ambient_power=\"0.196\" Frequency=\"11.0\" Index=\"36\"/><Tuple Ambient_power=\"0.252\" Frequency=\"12.0\" Index=\"36\"/><Tuple Ambient_power=\"0.296\" Frequency=\"8.0\" Index=\"37\"/><Tuple Ambient_power=\"0.249\" Frequency=\"9.0\" Index=\"37\"/><Tuple Ambient_power=\"0.207\" Frequency=\"10.0\" Index=\"37\"/><Tuple Ambient_power=\"0.197\" Frequency=\"11.0\" Index=\"37\"/><Tuple Ambient_power=\"0.252\" Frequency=\"12.0\" Index=\"37\"/><Tuple Ambient_power=\"0.297\" Frequency=\"8.0\" Index=\"38\"/><Tuple Ambient_power=\"0.248\" Frequency=\"9.0\" Index=\"38\"/><Tuple Ambient_power=\"0.207\" Frequency=\"10.0\" Index=\"38\"/><Tuple Ambient_power=\"0.197\" Frequency=\"11.0\" Index=\"38\"/><Tuple Ambient_power=\"0.252\" Frequency=\"12.0\" Index=\"38\"/><Tuple Ambient_power=\"0.296\" Frequency=\"8.0\" Index=\"39\"/><Tuple Ambient_power=\"0.249\" Frequency=\"9.0\" Index=\"39\"/><Tuple Ambient_power=\"0.206\" Frequency=\"10.0\" Index=\"39\"/><Tuple Ambient_power=\"0.197\" Frequency=\"11.0\" Index=\"39\"/><Tuple Ambient_power=\"0.252\" Frequency=\"12.0\" Index=\"39\"/><Tuple Ambient_power=\"0.297\" Frequency=\"8.0\" Index=\"40\"/><Tuple Ambient_power=\"0.249\" Frequency=\"9.0\" Index=\"40\"/><Tuple Ambient_power=\"0.207\" Frequency=\"10.0\" Index=\"40\"/><Tuple Ambient_power=\"0.197\" Frequency=\"11.0\" Index=\"40\"/><Tuple Ambient_power=\"0.252\" Frequency=\"12.0\" Index=\"40\"/><Tuple Ambient_power=\"0.295\" Frequency=\"8.0\" Index=\"41\"/><Tuple Ambient_power=\"0.249\" Frequency=\"9.0\" Index=\"41\"/><Tuple Ambient_power=\"0.207\" Frequency=\"10.0\" Index=\"41\"/><Tuple Ambient_power=\"0.197\" Frequency=\"11.0\" Index=\"41\"/><Tuple Ambient_power=\"0.252\" Frequency=\"12.0\" Index=\"41\"/><Tuple Ambient_power=\"0.297\" Frequency=\"8.0\" Index=\"42\"/><Tuple Ambient_power=\"0.248\" Frequency=\"9.0\" Index=\"42\"/><Tuple Ambient_power=\"0.207\" Frequency=\"10.0\" Index=\"42\"/><Tuple Ambient_power=\"0.197\" Frequency=\"11.0\" Index=\"42\"/><Tuple Ambient_power=\"0.252\" Frequency=\"12.0\" Index=\"42\"/><Tuple Ambient_power=\"0.296\" Frequency=\"8.0\" Index=\"43\"/><Tuple Ambient_power=\"0.248\" Frequency=\"9.0\" Index=\"43\"/><Tuple Ambient_power=\"0.206\" Frequency=\"10.0\" Index=\"43\"/><Tuple Ambient_power=\"0.197\" Frequency=\"11.0\" Index=\"43\"/><Tuple Ambient_power=\"0.252\" Frequency=\"12.0\" Index=\"43\"/><Tuple Ambient_power=\"0.296\" Frequency=\"8.0\" Index=\"44\"/><Tuple Ambient_power=\"0.248\" Frequency=\"9.0\" Index=\"44\"/><Tuple Ambient_power=\"0.206\" Frequency=\"10.0\" Index=\"44\"/><Tuple Ambient_power=\"0.197\" Frequency=\"11.0\" Index=\"44\"/><Tuple Ambient_power=\"0.251\" Frequency=\"12.0\" Index=\"44\"/><Tuple Ambient_power=\"0.296\" Frequency=\"8.0\" Index=\"45\"/><Tuple Ambient_power=\"0.248\" Frequency=\"9.0\" Index=\"45\"/><Tuple Ambient_power=\"0.207\" Frequency=\"10.0\" Index=\"45\"/><Tuple Ambient_power=\"0.197\" Frequency=\"11.0\" Index=\"45\"/><Tuple Ambient_power=\"0.252\" Frequency=\"12.0\" Index=\"45\"/><Tuple Ambient_power=\"0.297\" Frequency=\"8.0\" Index=\"46\"/><Tuple Ambient_power=\"0.249\" Frequency=\"9.0\" Index=\"46\"/><Tuple Ambient_power=\"0.207\" Frequency=\"10.0\" Index=\"46\"/><Tuple Ambient_power=\"0.197\" Frequency=\"11.0\" Index=\"46\"/><Tuple Ambient_power=\"0.252\" Frequency=\"12.0\" Index=\"46\"/><Tuple Ambient_power=\"0.297\" Frequency=\"8.0\" Index=\"47\"/><Tuple Ambient_power=\"0.248\" Frequency=\"9.0\" Index=\"47\"/><Tuple Ambient_power=\"0.207\" Frequency=\"10.0\" Index=\"47\"/><Tuple Ambient_power=\"0.197\" Frequency=\"11.0\" Index=\"47\"/><Tuple Ambient_power=\"0.252\" Frequency=\"12.0\" Index=\"47\"/><Tuple Ambient_power=\"0.296\" Frequency=\"8.0\" Index=\"48\"/><Tuple Ambient_power=\"0.249\" Frequency=\"9.0\" Index=\"48\"/><Tuple Ambient_power=\"0.207\" Frequency=\"10.0\" Index=\"48\"/><Tuple Ambient_power=\"0.197\" Frequency=\"11.0\" Index=\"48\"/><Tuple Ambient_power=\"0.252\" Frequency=\"12.0\" Index=\"48\"/><Tuple Ambient_power=\"0.297\" Frequency=\"8.0\" Index=\"49\"/><Tuple Ambient_power=\"0.249\" Frequency=\"9.0\" Index=\"49\"/><Tuple Ambient_power=\"0.207\" Frequency=\"10.0\" Index=\"49\"/><Tuple Ambient_power=\"0.197\" Frequency=\"11.0\" Index=\"49\"/><Tuple Ambient_power=\"0.252\" Frequency=\"12.0\" Index=\"49\"/><Tuple Ambient_power=\"0.296\" Frequency=\"8.0\" Index=\"50\"/><Tuple Ambient_power=\"0.248\" Frequency=\"9.0\" Index=\"50\"/><Tuple Ambient_power=\"0.207\" Frequency=\"10.0\" Index=\"50\"/><Tuple Ambient_power=\"0.196\" Frequency=\"11.0\" Index=\"50\"/><Tuple Ambient_power=\"0.252\" Frequency=\"12.0\" Index=\"50\"/><Tuple Ambient_power=\"0.297\" Frequency=\"8.0\" Index=\"51\"/><Tuple Ambient_power=\"0.249\" Frequency=\"9.0\" Index=\"51\"/><Tuple Ambient_power=\"0.207\" Frequency=\"10.0\" Index=\"51\"/><Tuple Ambient_power=\"0.196\" Frequency=\"11.0\" Index=\"51\"/><Tuple Ambient_power=\"0.251\" Frequency=\"12.0\" Index=\"51\"/></Data></Data_Table>\\n<Data_Table><Data_Description><Index>The order it was measured</Index><Frequency>Frequency in GHZ</Frequency><Cryo_power></Cryo_power></Data_Description><Data><Tuple Cryo_power=\"0.415\" Frequency=\"8.0\" Index=\"0\"/><Tuple Cryo_power=\"0.363\" Frequency=\"9.0\" Index=\"0\"/><Tuple Cryo_power=\"0.301\" Frequency=\"10.0\" Index=\"0\"/><Tuple Cryo_power=\"0.293\" Frequency=\"11.0\" Index=\"0\"/><Tuple Cryo_power=\"0.376\" Frequency=\"12.0\" Index=\"0\"/><Tuple Cryo_power=\"0.415\" Frequency=\"8.0\" Index=\"1\"/><Tuple Cryo_power=\"0.362\" Frequency=\"9.0\" Index=\"1\"/><Tuple Cryo_power=\"0.302\" Frequency=\"10.0\" Index=\"1\"/><Tuple Cryo_power=\"0.292\" Frequency=\"11.0\" Index=\"1\"/><Tuple Cryo_power=\"0.376\" Frequency=\"12.0\" Index=\"1\"/><Tuple Cryo_power=\"0.415\" Frequency=\"8.0\" Index=\"2\"/><Tuple Cryo_power=\"0.363\" Frequency=\"9.0\" Index=\"2\"/><Tuple Cryo_power=\"0.302\" Frequency=\"10.0\" Index=\"2\"/><Tuple Cryo_power=\"0.293\" Frequency=\"11.0\" Index=\"2\"/><Tuple Cryo_power=\"0.376\" Frequency=\"12.0\" Index=\"2\"/><Tuple Cryo_power=\"0.416\" Frequency=\"8.0\" Index=\"3\"/><Tuple Cryo_power=\"0.363\" Frequency=\"9.0\" Index=\"3\"/><Tuple Cryo_power=\"0.301\" Frequency=\"10.0\" Index=\"3\"/><Tuple Cryo_power=\"0.292\" Frequency=\"11.0\" Index=\"3\"/><Tuple Cryo_power=\"0.376\" Frequency=\"12.0\" Index=\"3\"/><Tuple Cryo_power=\"0.416\" Frequency=\"8.0\" Index=\"4\"/><Tuple Cryo_power=\"0.363\" Frequency=\"9.0\" Index=\"4\"/><Tuple Cryo_power=\"0.302\" Frequency=\"10.0\" Index=\"4\"/><Tuple Cryo_power=\"0.293\" Frequency=\"11.0\" Index=\"4\"/><Tuple Cryo_power=\"0.377\" Frequency=\"12.0\" Index=\"4\"/><Tuple Cryo_power=\"0.416\" Frequency=\"8.0\" Index=\"5\"/><Tuple Cryo_power=\"0.363\" Frequency=\"9.0\" Index=\"5\"/><Tuple Cryo_power=\"0.302\" Frequency=\"10.0\" Index=\"5\"/><Tuple Cryo_power=\"0.293\" Frequency=\"11.0\" Index=\"5\"/><Tuple Cryo_power=\"0.377\" Frequency=\"12.0\" Index=\"5\"/><Tuple Cryo_power=\"0.416\" Frequency=\"8.0\" Index=\"6\"/><Tuple Cryo_power=\"0.363\" Frequency=\"9.0\" Index=\"6\"/><Tuple Cryo_power=\"0.302\" Frequency=\"10.0\" Index=\"6\"/><Tuple Cryo_power=\"0.292\" Frequency=\"11.0\" Index=\"6\"/><Tuple Cryo_power=\"0.376\" Frequency=\"12.0\" Index=\"6\"/><Tuple Cryo_power=\"0.417\" Frequency=\"8.0\" Index=\"7\"/><Tuple Cryo_power=\"0.363\" Frequency=\"9.0\" Index=\"7\"/><Tuple Cryo_power=\"0.303\" Frequency=\"10.0\" Index=\"7\"/><Tuple Cryo_power=\"0.294\" Frequency=\"11.0\" Index=\"7\"/><Tuple Cryo_power=\"0.377\" Frequency=\"12.0\" Index=\"7\"/><Tuple Cryo_power=\"0.416\" Frequency=\"8.0\" Index=\"8\"/><Tuple Cryo_power=\"0.363\" Frequency=\"9.0\" Index=\"8\"/><Tuple Cryo_power=\"0.302\" Frequency=\"10.0\" Index=\"8\"/><Tuple Cryo_power=\"0.293\" Frequency=\"11.0\" Index=\"8\"/><Tuple Cryo_power=\"0.377\" Frequency=\"12.0\" Index=\"8\"/><Tuple Cryo_power=\"0.416\" Frequency=\"8.0\" Index=\"9\"/><Tuple Cryo_power=\"0.363\" Frequency=\"9.0\" Index=\"9\"/><Tuple Cryo_power=\"0.303\" Frequency=\"10.0\" Index=\"9\"/><Tuple Cryo_power=\"0.293\" Frequency=\"11.0\" Index=\"9\"/><Tuple Cryo_power=\"0.377\" Frequency=\"12.0\" Index=\"9\"/><Tuple Cryo_power=\"0.417\" Frequency=\"8.0\" Index=\"10\"/><Tuple Cryo_power=\"0.364\" Frequency=\"9.0\" Index=\"10\"/><Tuple Cryo_power=\"0.302\" Frequency=\"10.0\" Index=\"10\"/><Tuple Cryo_power=\"0.293\" Frequency=\"11.0\" Index=\"10\"/><Tuple Cryo_power=\"0.377\" Frequency=\"12.0\" Index=\"10\"/><Tuple Cryo_power=\"0.417\" Frequency=\"8.0\" Index=\"11\"/><Tuple Cryo_power=\"0.364\" Frequency=\"9.0\" Index=\"11\"/><Tuple Cryo_power=\"0.302\" Frequency=\"10.0\" Index=\"11\"/><Tuple Cryo_power=\"0.293\" Frequency=\"11.0\" Index=\"11\"/><Tuple Cryo_power=\"0.377\" Frequency=\"12.0\" Index=\"11\"/><Tuple Cryo_power=\"0.415\" Frequency=\"8.0\" Index=\"12\"/><Tuple Cryo_power=\"0.362\" Frequency=\"9.0\" Index=\"12\"/><Tuple Cryo_power=\"0.302\" Frequency=\"10.0\" Index=\"12\"/><Tuple Cryo_power=\"0.293\" Frequency=\"11.0\" Index=\"12\"/><Tuple Cryo_power=\"0.377\" Frequency=\"12.0\" Index=\"12\"/><Tuple Cryo_power=\"0.416\" Frequency=\"8.0\" Index=\"13\"/><Tuple Cryo_power=\"0.363\" Frequency=\"9.0\" Index=\"13\"/><Tuple Cryo_power=\"0.302\" Frequency=\"10.0\" Index=\"13\"/><Tuple Cryo_power=\"0.292\" Frequency=\"11.0\" Index=\"13\"/><Tuple Cryo_power=\"0.377\" Frequency=\"12.0\" Index=\"13\"/><Tuple Cryo_power=\"0.416\" Frequency=\"8.0\" Index=\"14\"/><Tuple Cryo_power=\"0.361\" Frequency=\"9.0\" Index=\"14\"/><Tuple Cryo_power=\"0.302\" Frequency=\"10.0\" Index=\"14\"/><Tuple Cryo_power=\"0.293\" Frequency=\"11.0\" Index=\"14\"/><Tuple Cryo_power=\"0.376\" Frequency=\"12.0\" Index=\"14\"/><Tuple Cryo_power=\"0.416\" Frequency=\"8.0\" Index=\"15\"/><Tuple Cryo_power=\"0.361\" Frequency=\"9.0\" Index=\"15\"/><Tuple Cryo_power=\"0.302\" Frequency=\"10.0\" Index=\"15\"/><Tuple Cryo_power=\"0.293\" Frequency=\"11.0\" Index=\"15\"/><Tuple Cryo_power=\"0.377\" Frequency=\"12.0\" Index=\"15\"/><Tuple Cryo_power=\"0.415\" Frequency=\"8.0\" Index=\"16\"/><Tuple Cryo_power=\"0.362\" Frequency=\"9.0\" Index=\"16\"/><Tuple Cryo_power=\"0.301\" Frequency=\"10.0\" Index=\"16\"/><Tuple Cryo_power=\"0.292\" Frequency=\"11.0\" Index=\"16\"/><Tuple Cryo_power=\"0.377\" Frequency=\"12.0\" Index=\"16\"/><Tuple Cryo_power=\"0.415\" Frequency=\"8.0\" Index=\"17\"/><Tuple Cryo_power=\"0.361\" Frequency=\"9.0\" Index=\"17\"/><Tuple Cryo_power=\"0.301\" Frequency=\"10.0\" Index=\"17\"/><Tuple Cryo_power=\"0.292\" Frequency=\"11.0\" Index=\"17\"/><Tuple Cryo_power=\"0.376\" Frequency=\"12.0\" Index=\"17\"/><Tuple Cryo_power=\"0.416\" Frequency=\"8.0\" Index=\"18\"/><Tuple Cryo_power=\"0.363\" Frequency=\"9.0\" Index=\"18\"/><Tuple Cryo_power=\"0.302\" Frequency=\"10.0\" Index=\"18\"/><Tuple Cryo_power=\"0.293\" Frequency=\"11.0\" Index=\"18\"/><Tuple Cryo_power=\"0.377\" Frequency=\"12.0\" Index=\"18\"/><Tuple Cryo_power=\"0.415\" Frequency=\"8.0\" Index=\"19\"/><Tuple Cryo_power=\"0.361\" Frequency=\"9.0\" Index=\"19\"/><Tuple Cryo_power=\"0.301\" Frequency=\"10.0\" Index=\"19\"/><Tuple Cryo_power=\"0.291\" Frequency=\"11.0\" Index=\"19\"/><Tuple Cryo_power=\"0.377\" Frequency=\"12.0\" Index=\"19\"/><Tuple Cryo_power=\"0.416\" Frequency=\"8.0\" Index=\"20\"/><Tuple Cryo_power=\"0.363\" Frequency=\"9.0\" Index=\"20\"/><Tuple Cryo_power=\"0.302\" Frequency=\"10.0\" Index=\"20\"/><Tuple Cryo_power=\"0.293\" Frequency=\"11.0\" Index=\"20\"/><Tuple Cryo_power=\"0.377\" Frequency=\"12.0\" Index=\"20\"/><Tuple Cryo_power=\"0.415\" Frequency=\"8.0\" Index=\"21\"/><Tuple Cryo_power=\"0.362\" Frequency=\"9.0\" Index=\"21\"/><Tuple Cryo_power=\"0.3\" Frequency=\"10.0\" Index=\"21\"/><Tuple Cryo_power=\"0.292\" Frequency=\"11.0\" Index=\"21\"/><Tuple Cryo_power=\"0.376\" Frequency=\"12.0\" Index=\"21\"/><Tuple Cryo_power=\"0.416\" Frequency=\"8.0\" Index=\"22\"/><Tuple Cryo_power=\"0.363\" Frequency=\"9.0\" Index=\"22\"/><Tuple Cryo_power=\"0.301\" Frequency=\"10.0\" Index=\"22\"/><Tuple Cryo_power=\"0.293\" Frequency=\"11.0\" Index=\"22\"/><Tuple Cryo_power=\"0.377\" Frequency=\"12.0\" Index=\"22\"/><Tuple Cryo_power=\"0.415\" Frequency=\"8.0\" Index=\"23\"/><Tuple Cryo_power=\"0.361\" Frequency=\"9.0\" Index=\"23\"/><Tuple Cryo_power=\"0.301\" Frequency=\"10.0\" Index=\"23\"/><Tuple Cryo_power=\"0.292\" Frequency=\"11.0\" Index=\"23\"/><Tuple Cryo_power=\"0.376\" Frequency=\"12.0\" Index=\"23\"/><Tuple Cryo_power=\"0.413\" Frequency=\"8.0\" Index=\"24\"/><Tuple Cryo_power=\"0.362\" Frequency=\"9.0\" Index=\"24\"/><Tuple Cryo_power=\"0.3\" Frequency=\"10.0\" Index=\"24\"/><Tuple Cryo_power=\"0.293\" Frequency=\"11.0\" Index=\"24\"/><Tuple Cryo_power=\"0.375\" Frequency=\"12.0\" Index=\"24\"/><Tuple Cryo_power=\"0.415\" Frequency=\"8.0\" Index=\"25\"/><Tuple Cryo_power=\"0.362\" Frequency=\"9.0\" Index=\"25\"/><Tuple Cryo_power=\"0.302\" Frequency=\"10.0\" Index=\"25\"/><Tuple Cryo_power=\"0.293\" Frequency=\"11.0\" Index=\"25\"/><Tuple Cryo_power=\"0.376\" Frequency=\"12.0\" Index=\"25\"/><Tuple Cryo_power=\"0.209\" Frequency=\"8.0\" Index=\"26\"/><Tuple Cryo_power=\"0.181\" Frequency=\"9.0\" Index=\"26\"/><Tuple Cryo_power=\"0.151\" Frequency=\"10.0\" Index=\"26\"/><Tuple Cryo_power=\"0.148\" Frequency=\"11.0\" Index=\"26\"/><Tuple Cryo_power=\"0.191\" Frequency=\"12.0\" Index=\"26\"/><Tuple Cryo_power=\"0.209\" Frequency=\"8.0\" Index=\"27\"/><Tuple Cryo_power=\"0.181\" Frequency=\"9.0\" Index=\"27\"/><Tuple Cryo_power=\"0.151\" Frequency=\"10.0\" Index=\"27\"/><Tuple Cryo_power=\"0.148\" Frequency=\"11.0\" Index=\"27\"/><Tuple Cryo_power=\"0.19\" Frequency=\"12.0\" Index=\"27\"/><Tuple Cryo_power=\"0.209\" Frequency=\"8.0\" Index=\"28\"/><Tuple Cryo_power=\"0.181\" Frequency=\"9.0\" Index=\"28\"/><Tuple Cryo_power=\"0.152\" Frequency=\"10.0\" Index=\"28\"/><Tuple Cryo_power=\"0.148\" Frequency=\"11.0\" Index=\"28\"/><Tuple Cryo_power=\"0.191\" Frequency=\"12.0\" Index=\"28\"/><Tuple Cryo_power=\"0.209\" Frequency=\"8.0\" Index=\"29\"/><Tuple Cryo_power=\"0.181\" Frequency=\"9.0\" Index=\"29\"/><Tuple Cryo_power=\"0.151\" Frequency=\"10.0\" Index=\"29\"/><Tuple Cryo_power=\"0.148\" Frequency=\"11.0\" Index=\"29\"/><Tuple Cryo_power=\"0.192\" Frequency=\"12.0\" Index=\"29\"/><Tuple Cryo_power=\"0.209\" Frequency=\"8.0\" Index=\"30\"/><Tuple Cryo_power=\"0.181\" Frequency=\"9.0\" Index=\"30\"/><Tuple Cryo_power=\"0.152\" Frequency=\"10.0\" Index=\"30\"/><Tuple Cryo_power=\"0.149\" Frequency=\"11.0\" Index=\"30\"/><Tuple Cryo_power=\"0.191\" Frequency=\"12.0\" Index=\"30\"/><Tuple Cryo_power=\"0.21\" Frequency=\"8.0\" Index=\"31\"/><Tuple Cryo_power=\"0.182\" Frequency=\"9.0\" Index=\"31\"/><Tuple Cryo_power=\"0.151\" Frequency=\"10.0\" Index=\"31\"/><Tuple Cryo_power=\"0.149\" Frequency=\"11.0\" Index=\"31\"/><Tuple Cryo_power=\"0.191\" Frequency=\"12.0\" Index=\"31\"/><Tuple Cryo_power=\"0.209\" Frequency=\"8.0\" Index=\"32\"/><Tuple Cryo_power=\"0.181\" Frequency=\"9.0\" Index=\"32\"/><Tuple Cryo_power=\"0.151\" Frequency=\"10.0\" Index=\"32\"/><Tuple Cryo_power=\"0.149\" Frequency=\"11.0\" Index=\"32\"/><Tuple Cryo_power=\"0.191\" Frequency=\"12.0\" Index=\"32\"/><Tuple Cryo_power=\"0.209\" Frequency=\"8.0\" Index=\"33\"/><Tuple Cryo_power=\"0.181\" Frequency=\"9.0\" Index=\"33\"/><Tuple Cryo_power=\"0.151\" Frequency=\"10.0\" Index=\"33\"/><Tuple Cryo_power=\"0.148\" Frequency=\"11.0\" Index=\"33\"/><Tuple Cryo_power=\"0.191\" Frequency=\"12.0\" Index=\"33\"/><Tuple Cryo_power=\"0.209\" Frequency=\"8.0\" Index=\"34\"/><Tuple Cryo_power=\"0.181\" Frequency=\"9.0\" Index=\"34\"/><Tuple Cryo_power=\"0.151\" Frequency=\"10.0\" Index=\"34\"/><Tuple Cryo_power=\"0.148\" Frequency=\"11.0\" Index=\"34\"/><Tuple Cryo_power=\"0.191\" Frequency=\"12.0\" Index=\"34\"/><Tuple Cryo_power=\"0.209\" Frequency=\"8.0\" Index=\"35\"/><Tuple Cryo_power=\"0.182\" Frequency=\"9.0\" Index=\"35\"/><Tuple Cryo_power=\"0.152\" Frequency=\"10.0\" Index=\"35\"/><Tuple Cryo_power=\"0.149\" Frequency=\"11.0\" Index=\"35\"/><Tuple Cryo_power=\"0.191\" Frequency=\"12.0\" Index=\"35\"/><Tuple Cryo_power=\"0.209\" Frequency=\"8.0\" Index=\"36\"/><Tuple Cryo_power=\"0.181\" Frequency=\"9.0\" Index=\"36\"/><Tuple Cryo_power=\"0.152\" Frequency=\"10.0\" Index=\"36\"/><Tuple Cryo_power=\"0.148\" Frequency=\"11.0\" Index=\"36\"/><Tuple Cryo_power=\"0.191\" Frequency=\"12.0\" Index=\"36\"/><Tuple Cryo_power=\"0.209\" Frequency=\"8.0\" Index=\"37\"/><Tuple Cryo_power=\"0.181\" Frequency=\"9.0\" Index=\"37\"/><Tuple Cryo_power=\"0.151\" Frequency=\"10.0\" Index=\"37\"/><Tuple Cryo_power=\"0.148\" Frequency=\"11.0\" Index=\"37\"/><Tuple Cryo_power=\"0.191\" Frequency=\"12.0\" Index=\"37\"/><Tuple Cryo_power=\"0.21\" Frequency=\"8.0\" Index=\"38\"/><Tuple Cryo_power=\"0.181\" Frequency=\"9.0\" Index=\"38\"/><Tuple Cryo_power=\"0.152\" Frequency=\"10.0\" Index=\"38\"/><Tuple Cryo_power=\"0.149\" Frequency=\"11.0\" Index=\"38\"/><Tuple Cryo_power=\"0.191\" Frequency=\"12.0\" Index=\"38\"/><Tuple Cryo_power=\"0.209\" Frequency=\"8.0\" Index=\"39\"/><Tuple Cryo_power=\"0.182\" Frequency=\"9.0\" Index=\"39\"/><Tuple Cryo_power=\"0.151\" Frequency=\"10.0\" Index=\"39\"/><Tuple Cryo_power=\"0.149\" Frequency=\"11.0\" Index=\"39\"/><Tuple Cryo_power=\"0.191\" Frequency=\"12.0\" Index=\"39\"/><Tuple Cryo_power=\"0.21\" Frequency=\"8.0\" Index=\"40\"/><Tuple Cryo_power=\"0.182\" Frequency=\"9.0\" Index=\"40\"/><Tuple Cryo_power=\"0.152\" Frequency=\"10.0\" Index=\"40\"/><Tuple Cryo_power=\"0.149\" Frequency=\"11.0\" Index=\"40\"/><Tuple Cryo_power=\"0.192\" Frequency=\"12.0\" Index=\"40\"/><Tuple Cryo_power=\"0.208\" Frequency=\"8.0\" Index=\"41\"/><Tuple Cryo_power=\"0.181\" Frequency=\"9.0\" Index=\"41\"/><Tuple Cryo_power=\"0.152\" Frequency=\"10.0\" Index=\"41\"/><Tuple Cryo_power=\"0.148\" Frequency=\"11.0\" Index=\"41\"/><Tuple Cryo_power=\"0.191\" Frequency=\"12.0\" Index=\"41\"/><Tuple Cryo_power=\"0.209\" Frequency=\"8.0\" Index=\"42\"/><Tuple Cryo_power=\"0.181\" Frequency=\"9.0\" Index=\"42\"/><Tuple Cryo_power=\"0.152\" Frequency=\"10.0\" Index=\"42\"/><Tuple Cryo_power=\"0.148\" Frequency=\"11.0\" Index=\"42\"/><Tuple Cryo_power=\"0.191\" Frequency=\"12.0\" Index=\"42\"/><Tuple Cryo_power=\"0.209\" Frequency=\"8.0\" Index=\"43\"/><Tuple Cryo_power=\"0.181\" Frequency=\"9.0\" Index=\"43\"/><Tuple Cryo_power=\"0.151\" Frequency=\"10.0\" Index=\"43\"/><Tuple Cryo_power=\"0.148\" Frequency=\"11.0\" Index=\"43\"/><Tuple Cryo_power=\"0.191\" Frequency=\"12.0\" Index=\"43\"/><Tuple Cryo_power=\"0.209\" Frequency=\"8.0\" Index=\"44\"/><Tuple Cryo_power=\"0.18\" Frequency=\"9.0\" Index=\"44\"/><Tuple Cryo_power=\"0.151\" Frequency=\"10.0\" Index=\"44\"/><Tuple Cryo_power=\"0.149\" Frequency=\"11.0\" Index=\"44\"/><Tuple Cryo_power=\"0.191\" Frequency=\"12.0\" Index=\"44\"/><Tuple Cryo_power=\"0.209\" Frequency=\"8.0\" Index=\"45\"/><Tuple Cryo_power=\"0.181\" Frequency=\"9.0\" Index=\"45\"/><Tuple Cryo_power=\"0.152\" Frequency=\"10.0\" Index=\"45\"/><Tuple Cryo_power=\"0.148\" Frequency=\"11.0\" Index=\"45\"/><Tuple Cryo_power=\"0.191\" Frequency=\"12.0\" Index=\"45\"/><Tuple Cryo_power=\"0.21\" Frequency=\"8.0\" Index=\"46\"/><Tuple Cryo_power=\"0.181\" Frequency=\"9.0\" Index=\"46\"/><Tuple Cryo_power=\"0.151\" Frequency=\"10.0\" Index=\"46\"/><Tuple Cryo_power=\"0.148\" Frequency=\"11.0\" Index=\"46\"/><Tuple Cryo_power=\"0.191\" Frequency=\"12.0\" Index=\"46\"/><Tuple Cryo_power=\"0.209\" Frequency=\"8.0\" Index=\"47\"/><Tuple Cryo_power=\"0.181\" Frequency=\"9.0\" Index=\"47\"/><Tuple Cryo_power=\"0.152\" Frequency=\"10.0\" Index=\"47\"/><Tuple Cryo_power=\"0.148\" Frequency=\"11.0\" Index=\"47\"/><Tuple Cryo_power=\"0.191\" Frequency=\"12.0\" Index=\"47\"/><Tuple Cryo_power=\"0.209\" Frequency=\"8.0\" Index=\"48\"/><Tuple Cryo_power=\"0.182\" Frequency=\"9.0\" Index=\"48\"/><Tuple Cryo_power=\"0.152\" Frequency=\"10.0\" Index=\"48\"/><Tuple Cryo_power=\"0.149\" Frequency=\"11.0\" Index=\"48\"/><Tuple Cryo_power=\"0.192\" Frequency=\"12.0\" Index=\"48\"/><Tuple Cryo_power=\"0.209\" Frequency=\"8.0\" Index=\"49\"/><Tuple Cryo_power=\"0.181\" Frequency=\"9.0\" Index=\"49\"/><Tuple Cryo_power=\"0.151\" Frequency=\"10.0\" Index=\"49\"/><Tuple Cryo_power=\"0.149\" Frequency=\"11.0\" Index=\"49\"/><Tuple Cryo_power=\"0.191\" Frequency=\"12.0\" Index=\"49\"/><Tuple Cryo_power=\"0.209\" Frequency=\"8.0\" Index=\"50\"/><Tuple Cryo_power=\"0.181\" Frequency=\"9.0\" Index=\"50\"/><Tuple Cryo_power=\"0.151\" Frequency=\"10.0\" Index=\"50\"/><Tuple Cryo_power=\"0.148\" Frequency=\"11.0\" Index=\"50\"/><Tuple Cryo_power=\"0.191\" Frequency=\"12.0\" Index=\"50\"/><Tuple Cryo_power=\"0.209\" Frequency=\"8.0\" Index=\"51\"/><Tuple Cryo_power=\"0.181\" Frequency=\"9.0\" Index=\"51\"/><Tuple Cryo_power=\"0.152\" Frequency=\"10.0\" Index=\"51\"/><Tuple Cryo_power=\"0.148\" Frequency=\"11.0\" Index=\"51\"/><Tuple Cryo_power=\"0.191\" Frequency=\"12.0\" Index=\"51\"/></Data></Data_Table>\\n'"
      ]
     },
     "execution_count": 90,
     "metadata": {},
     "output_type": "execute_result"
    }
   ],
   "source": [
    "output_data"
   ]
  },
  {
   "cell_type": "code",
   "execution_count": 91,
   "metadata": {
    "collapsed": true
   },
   "outputs": [],
   "source": [
    "processing_instructions='<?xml version=\"1.0\" ?><?xml-stylesheet type=\"text/xsl\" href=\"DEFAULT_REPORT_STYLE_2.XSL\"?>'\n",
    "output_data=processing_instructions+'<Report>'+output_data+'</Report>'"
   ]
  },
  {
   "cell_type": "code",
   "execution_count": 92,
   "metadata": {
    "collapsed": true
   },
   "outputs": [],
   "source": [
    "\n",
    "path=r'F:\\Share\\pyMeasure\\Data\\Measurements\\Data_Table_120415_17.xml'       \n",
    "\n",
    "file_out=open(path,'w')\n",
    "file_out.write(output_data)\n",
    "file_out.close()"
   ]
  },
  {
   "cell_type": "code",
   "execution_count": 97,
   "metadata": {
    "collapsed": false
   },
   "outputs": [],
   "source": [
    "processing_instructions='<?xml version=\"1.0\" ?><?xml-stylesheet type=\"text/xsl\" href=\"DEFAULT_MEASUREMENT_STYLE.XSL\"?>'\n",
    "data_table={'Data_Description':header_dictionary,'Data':\"\"}\n",
    "new_table=M.DataTable(**data_table)\n",
    "output_data=str(new_table).replace(processing_instructions,'')+'\\n'\n",
    "\n",
    "for table in data_table_list:\n",
    "    output_data=output_data+str(table).replace(processing_instructions,'')+'\\n'\n",
    "    \n",
    "    \n",
    "processing_instructions='<?xml version=\"1.0\" ?><?xml-stylesheet type=\"text/xsl\" href=\"DEFAULT_REPORT_STYLE_3.XSL\"?>'\n",
    "output_data=processing_instructions+'<Report>'+output_data+'</Report>'\n",
    "\n",
    "path=r'F:\\Share\\pyMeasure\\Data\\Measurements\\Data_Table_120415_19.xml'       \n",
    "\n",
    "file_out=open(path,'w')\n",
    "file_out.write(output_data)\n",
    "file_out.close()"
   ]
  },
  {
   "cell_type": "markdown",
   "metadata": {},
   "source": [
    "# Right here it is clear that I need a report or other container that can accept DataTable Class Structures\n",
    "\n",
    "Report.add_data_table(data_table) like this or something. It would also be nice to have a dictionary to xml writer. \n",
    "This in text is just $f: (key:value) -> \"<key>value</key>\" $"
   ]
  },
  {
   "cell_type": "code",
   "execution_count": 106,
   "metadata": {
    "collapsed": true
   },
   "outputs": [],
   "source": [
    "def dictionary_to_xml(dictionary=None,char_between='\\n'):\n",
    "    string_output=''\n",
    "    for key,value in dictionary.iteritems():\n",
    "        xml_open=\"<\"+str(key)+\">\"\n",
    "        xml_close=\"</\"+str(key)+\">\"\n",
    "        string_output=string_output+xml_open+str(value)+xml_close+char_between\n",
    "        \n",
    "    return string_output"
   ]
  },
  {
   "cell_type": "code",
   "execution_count": 114,
   "metadata": {
    "collapsed": false
   },
   "outputs": [
    {
     "name": "stdout",
     "output_type": "stream",
     "text": [
      "<Customer> Northrup Grumman Space Tech</Customer>\n",
      "<Frequency_list_GHz>  8.000\t9.000\t10.000\t11.000\t12.000</Frequency_list_GHz>\n",
      "<Chk_Std> x12zhz.137 on port 5</Chk_Std>\n",
      "<Cryo_Std> PS2ZCZ.200 on port 2</Cryo_Std>\n",
      "<Amb_Std> THTZ.010 on port 1</Amb_Std>\n",
      "<File_name>  Raw_15Mar11_11.10-1.txt</File_name>\n",
      "<Remarks> DUT 811454 Cal #1</Remarks>\n",
      "<Operator> DG</Operator>\n",
      "<DUT_1> x12zhz.137 on port 5</DUT_1>\n",
      "<Address>  2477 Manhattan Beach Blvd, Redondo Beach, CA 90278\n",
      "</Address>\n",
      "<Directory>  N:\\artifact\\X1\\x12zhz.137\\Calibrations\\2015 March 11 8.0 - 12.0 GHz</Directory>\n",
      "<DUT>  x12zhz.137</DUT>\n",
      "<DUT_2> 811454 on port 4</DUT_2>\n",
      "<Date_of_test> 2015 March 11 8.0 - 12.0 GHz</Date_of_test>\n",
      "\n"
     ]
    }
   ],
   "source": [
    "print dictionary_to_xml(header_dictionary,'\\n')"
   ]
  },
  {
   "cell_type": "code",
   "execution_count": 122,
   "metadata": {
    "collapsed": false
   },
   "outputs": [],
   "source": [
    "\n",
    "test_list=[1,2,3]\n",
    "test=M.DataTable(None,test_list)"
   ]
  },
  {
   "cell_type": "code",
   "execution_count": 123,
   "metadata": {
    "collapsed": false
   },
   "outputs": [
    {
     "name": "stdout",
     "output_type": "stream",
     "text": [
      "<?xml version=\"1.0\" ?><?xml-stylesheet type=\"text/xsl\" href=\"DEFAULT_MEASUREMENT_STYLE.XSL\"?><Data_Table><Data><Tuple X0=\"1\" X1=\"2\" X2=\"3\"/></Data></Data_Table>\n"
     ]
    }
   ],
   "source": [
    "print test"
   ]
  },
  {
   "cell_type": "code",
   "execution_count": 128,
   "metadata": {
    "collapsed": false
   },
   "outputs": [],
   "source": [
    "test=M.DataTable(None,data_table_dictionary[table_list[1]].tolist())"
   ]
  },
  {
   "cell_type": "code",
   "execution_count": 129,
   "metadata": {
    "collapsed": false
   },
   "outputs": [
    {
     "name": "stdout",
     "output_type": "stream",
     "text": [
      "<?xml version=\"1.0\" ?><?xml-stylesheet type=\"text/xsl\" href=\"DEFAULT_MEASUREMENT_STYLE.XSL\"?><Data_Table><Data><Tuple X0=\"[296.34, 296.32, 296.29, 296.27, 296.24]\" X1=\"[296.34, 296.31, 296.29, 296.26, 296.24]\" X2=\"[296.33, 296.31, 296.28, 296.26, 296.23]\"/></Data></Data_Table>\n"
     ]
    }
   ],
   "source": [
    "print test"
   ]
  },
  {
   "cell_type": "code",
   "execution_count": null,
   "metadata": {
    "collapsed": true
   },
   "outputs": [],
   "source": []
  }
 ],
 "metadata": {
  "kernelspec": {
   "display_name": "Python 2",
   "language": "python",
   "name": "python2"
  },
  "language_info": {
   "codemirror_mode": {
    "name": "ipython",
    "version": 2
   },
   "file_extension": ".py",
   "mimetype": "text/x-python",
   "name": "python",
   "nbconvert_exporter": "python",
   "pygments_lexer": "ipython2",
   "version": "2.7.12"
  }
 },
 "nbformat": 4,
 "nbformat_minor": 0
}
