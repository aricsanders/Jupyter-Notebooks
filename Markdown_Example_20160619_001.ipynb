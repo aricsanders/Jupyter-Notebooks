{
 "cells": [
  {
   "cell_type": "markdown",
   "metadata": {},
   "source": [
    "# Jupyter's Markdown Cell \n",
    "Jupyter notebooks come out of the package with three types of cells; Raw NbConvert, Markdown, and Code. The Markdown cells proivide a very nice way to create structured and formatted comments. The markdown cell has all the power of HTML, Markdown (a quick syntax), Latex including a lot of little extras. This notebook intends to display some of the functionality.  "
   ]
  },
  {
   "cell_type": "markdown",
   "metadata": {},
   "source": [
    "<h2 id=\"top\" style=\"color:black\">HTML In Markdown Cells</h2>"
   ]
  },
  {
   "cell_type": "markdown",
   "metadata": {},
   "source": [
    "<h3 id='top'> Markdown cells handle all the tags found in standard html </h3>\n",
    "<hr/>"
   ]
  },
  {
   "cell_type": "markdown",
   "metadata": {},
   "source": [
    "Example One: __Heading with styles__ when the following html is executed in the Markdown cell -\n",
    "\n",
    "```html\n",
    "<h3 style=\"color:red;font-weight:bold;text-decoration: underline;\"> A h3 heading with styles applied </h3>\n",
    "``` \n",
    "<br/>\n",
    "It will be displayed as:\n",
    "<h3 style=\"color:red;font-weight:bold;text-decoration: underline;\">A h3 heading with styles applied</h3>"
   ]
  },
  {
   "cell_type": "markdown",
   "metadata": {},
   "source": [
    "Example Two: __Table with hyper links__\n",
    "when the following html is excuted in the Markdown cell - \n",
    "```html\n",
    "<table><tr><td>Row 1 Column 1: <a href=\"http://www.jupyter.org\">Goto Jupyter Website</a></td>\n",
    "<td>Row 1 Column 2: <span style=\"font-family:serif;\">Not a link</span></td>\n",
    "</tr><tr><td>Row 2 Column 1: <a href=\"http://www.jupyter.org\">Goto Jupyter Website</a></td>\n",
    "<td>Row 2 Column 2: <span style=\"font-family:serif;color:Chartreuse\">Not a link</span></td>\n",
    "</tr></table>\n",
    "```\n",
    "It will be displayed as:\n",
    "<table><tr><td>Row 1 Column 1: <a href=\"http://www.jupyter.org\">Goto Jupyter Website</a></td>\n",
    "<td>Row 1 Column 2: <span style=\"font-family:serif;\">Not a link</span></td>\n",
    "</tr><tr><td>Row 2 Column 1: <a href=\"http://www.jupyter.org\">Goto Jupyter Website</a></td>\n",
    "<td>Row 2 Column 2: <span style=\"font-family:serif;color:Chartreuse\">Not a link</span></td>\n",
    "</tr></table>"
   ]
  },
  {
   "cell_type": "markdown",
   "metadata": {},
   "source": [
    "```python \n",
    "def f(x):.\n",
    "return x\n",
    "```"
   ]
  },
  {
   "cell_type": "markdown",
   "metadata": {},
   "source": [
    "```python\n",
    "def f(x):\n",
    "    return(x)\n",
    "    ```\n",
    "    \n",
    "$F(k) = \\int_{-\\infty}^{\\infty} f(x) e^{2\\pi i k} dx$\n",
    "```python\n",
    "def function(n):\n",
    "    return n + 1\n",
    "```"
   ]
  },
  {
   "cell_type": "markdown",
   "metadata": {},
   "source": [
    "![title](xml-badge.png)"
   ]
  },
  {
   "cell_type": "markdown",
   "metadata": {},
   "source": [
    "<img src='xml-badge.png' />"
   ]
  },
  {
   "cell_type": "markdown",
   "metadata": {},
   "source": [
    "This is an [xml] [xml]\n",
    "1. list element1\n",
    "+ list element2 \n",
    "\n",
    "[xml]:http://www.w3schools.com/xml/"
   ]
  },
  {
   "cell_type": "code",
   "execution_count": 1,
   "metadata": {
    "collapsed": true
   },
   "outputs": [],
   "source": [
    "import pdoc"
   ]
  },
  {
   "cell_type": "code",
   "execution_count": 9,
   "metadata": {
    "collapsed": false
   },
   "outputs": [
    {
     "ename": "SyntaxError",
     "evalue": "invalid syntax (<ipython-input-9-7e67ca012cf6>, line 2)",
     "output_type": "error",
     "traceback": [
      "\u001b[1;36m  File \u001b[1;32m\"<ipython-input-9-7e67ca012cf6>\"\u001b[1;36m, line \u001b[1;32m2\u001b[0m\n\u001b[1;33m    %%html doc\u001b[0m\n\u001b[1;37m    ^\u001b[0m\n\u001b[1;31mSyntaxError\u001b[0m\u001b[1;31m:\u001b[0m invalid syntax\n"
     ]
    }
   ],
   "source": [
    "doc=pdoc.html('os')\n"
   ]
  },
  {
   "cell_type": "markdown",
   "metadata": {},
   "source": [
    "<p >\n",
    "<hr style=\"height:1px;border:none;color:#333;background-color:#333;\" />\n",
    "<h1 style=\"color:red;\"> 1.1 </h1>\n",
    "<hr style=\"height:1px;border:none;color:#333;background-color:#333;\" />\n",
    "</p>"
   ]
  },
  {
   "cell_type": "markdown",
   "metadata": {},
   "source": [
    "<hr style=\"height:1px;border:none;color:#333;background-color:#333;\" />"
   ]
  },
  {
   "cell_type": "markdown",
   "metadata": {},
   "source": [
    "<a href=\"http://stackoverflow.com/questions/4151743/how-i-change-the-thickness-of-my-hr-tag\"><img src=\"test_link.svg\"></a>"
   ]
  },
  {
   "cell_type": "code",
   "execution_count": 11,
   "metadata": {
    "collapsed": true
   },
   "outputs": [],
   "source": [
    "import wx"
   ]
  },
  {
   "cell_type": "code",
   "execution_count": 12,
   "metadata": {
    "collapsed": true
   },
   "outputs": [],
   "source": [
    "import pyMeasure.Code.Development.XMLEditPanel"
   ]
  },
  {
   "cell_type": "code",
   "execution_count": 13,
   "metadata": {
    "collapsed": false
   },
   "outputs": [
    {
     "name": "stderr",
     "output_type": "stream",
     "text": [
      "C:\\Anaconda2\\lib\\site-packages\\pyMeasure\\Code\\Development\\XMLEditPanel.py:243: wxPyDeprecationWarning: Using deprecated class PySimpleApp. \n",
      "  app = wx.PySimpleApp()\n"
     ]
    }
   ],
   "source": [
    "pyMeasure.Code.Development.XMLEditPanel.test_XMLEditPanel()"
   ]
  },
  {
   "cell_type": "markdown",
   "metadata": {
    "collapsed": true
   },
   "source": [
    "$F(k) = \\int_{-\\infty}^{\\infty} f(x) e^{2\\pi i k} dx$"
   ]
  },
  {
   "cell_type": "code",
   "execution_count": null,
   "metadata": {
    "collapsed": true
   },
   "outputs": [],
   "source": []
  }
 ],
 "metadata": {
  "kernelspec": {
   "display_name": "Python 2",
   "language": "python",
   "name": "python2"
  },
  "language_info": {
   "codemirror_mode": {
    "name": "ipython",
    "version": 2
   },
   "file_extension": ".py",
   "mimetype": "text/x-python",
   "name": "python",
   "nbconvert_exporter": "python",
   "pygments_lexer": "ipython2",
   "version": "2.7.11"
  }
 },
 "nbformat": 4,
 "nbformat_minor": 0
}
