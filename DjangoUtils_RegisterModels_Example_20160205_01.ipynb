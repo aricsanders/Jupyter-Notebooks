{
 "cells": [
  {
   "cell_type": "markdown",
   "metadata": {},
   "source": [
    "# Example of the register_all_models function for django admin registering\n",
    "    \n",
    "   Written by <a href=\"mailto:aric.sanders@nist.gov\"> Aric Sanders </a>, 02/2016\n",
    "   \n",
    "   Note this template noteably leaves The admin model out of registering. I think that should be put in the models file and checked for and then registered as admin.site.register(subclass(models.Model),subclass(admin.ModelAdmin)).__I have  added the ability to handle this case along with in module class inheritance.__"
   ]
  },
  {
   "cell_type": "code",
   "execution_count": 36,
   "metadata": {
    "collapsed": false
   },
   "outputs": [
    {
     "ename": "NameError",
     "evalue": "name '__file__' is not defined",
     "output_type": "error",
     "traceback": [
      "\u001b[1;31m---------------------------------------------------------------------------\u001b[0m",
      "\u001b[1;31mNameError\u001b[0m                                 Traceback (most recent call last)",
      "\u001b[1;32m<ipython-input-36-0f49429cd66d>\u001b[0m in \u001b[0;36m<module>\u001b[1;34m()\u001b[0m\n\u001b[0;32m     42\u001b[0m                         \u001b[1;32mexec\u001b[0m\u001b[1;33m(\u001b[0m\u001b[1;34m'admin.site.register(%s)'\u001b[0m\u001b[1;33m%\u001b[0m\u001b[0mmodel\u001b[0m\u001b[1;33m)\u001b[0m\u001b[1;33m\u001b[0m\u001b[0m\n\u001b[0;32m     43\u001b[0m                 \u001b[1;32mexcept\u001b[0m\u001b[1;33m:\u001b[0m\u001b[1;32mraise\u001b[0m\u001b[1;33m\u001b[0m\u001b[0m\n\u001b[1;32m---> 44\u001b[1;33m \u001b[0mregister_all_models\u001b[0m\u001b[1;33m(\u001b[0m\u001b[1;33m)\u001b[0m\u001b[1;33m\u001b[0m\u001b[0m\n\u001b[0m",
      "\u001b[1;32m<ipython-input-36-0f49429cd66d>\u001b[0m in \u001b[0;36mregister_all_models\u001b[1;34m(module, path)\u001b[0m\n\u001b[0;32m     13\u001b[0m         \u001b[0mmodule\u001b[0m\u001b[1;33m=\u001b[0m\u001b[1;34m'models'\u001b[0m\u001b[1;33m\u001b[0m\u001b[0m\n\u001b[0;32m     14\u001b[0m     \u001b[1;32mif\u001b[0m \u001b[0mpath\u001b[0m \u001b[1;32mis\u001b[0m \u001b[0mNone\u001b[0m\u001b[1;33m:\u001b[0m\u001b[1;33m\u001b[0m\u001b[0m\n\u001b[1;32m---> 15\u001b[1;33m         \u001b[0mpath\u001b[0m\u001b[1;33m=\u001b[0m\u001b[0mos\u001b[0m\u001b[1;33m.\u001b[0m\u001b[0mpath\u001b[0m\u001b[1;33m.\u001b[0m\u001b[0mdirname\u001b[0m\u001b[1;33m(\u001b[0m\u001b[0mos\u001b[0m\u001b[1;33m.\u001b[0m\u001b[0mpath\u001b[0m\u001b[1;33m.\u001b[0m\u001b[0mabspath\u001b[0m\u001b[1;33m(\u001b[0m\u001b[0m__file__\u001b[0m\u001b[1;33m)\u001b[0m\u001b[1;33m)\u001b[0m\u001b[1;33m\u001b[0m\u001b[0m\n\u001b[0m\u001b[0;32m     16\u001b[0m         \u001b[0mclasses\u001b[0m \u001b[1;33m=\u001b[0m \u001b[0mpyclbr\u001b[0m\u001b[1;33m.\u001b[0m\u001b[0mreadmodule\u001b[0m\u001b[1;33m(\u001b[0m\u001b[0mmodule\u001b[0m\u001b[1;33m,\u001b[0m\u001b[1;33m[\u001b[0m\u001b[0mpath\u001b[0m\u001b[1;33m]\u001b[0m\u001b[1;33m)\u001b[0m\u001b[1;33m\u001b[0m\u001b[0m\n\u001b[0;32m     17\u001b[0m     \u001b[1;32melif\u001b[0m \u001b[0mtype\u001b[0m\u001b[1;33m(\u001b[0m\u001b[0mpath\u001b[0m\u001b[1;33m)\u001b[0m \u001b[1;32mis\u001b[0m \u001b[0mstr\u001b[0m\u001b[1;33m:\u001b[0m\u001b[1;33m\u001b[0m\u001b[0m\n",
      "\u001b[1;31mNameError\u001b[0m: name '__file__' is not defined"
     ]
    }
   ],
   "source": [
    "# class functions from the standard library\n",
    "import pyclbr #python class library, for determing classes inside a module\n",
    "import re # python regular exprressions module\n",
    "import os # python operating system module\n",
    "from django.contrib import admin # django specific module for the admin site\n",
    "def register_all_models(module=None,path=None):\n",
    "    \"\"\" This function registers all modules in models with the django admin. \n",
    "    The module name should be a string, and defaults to 'models' and the path can be a string, list or tuple\n",
    "    If you include the admin.ModelAdmin in the models.py module with the same name + Admin\n",
    "    then it will register them too. Example if the model class is Pizza, then the admin model\n",
    "    class would be PizzaAdmin. It can also deal with single class inheritance with in the models module. \"\"\"\n",
    "    \n",
    "    # Assign the default module name if the value is None\n",
    "    if module is None:\n",
    "        module='models'\n",
    "    # Assign the default path name if it is None\n",
    "    if path is None:\n",
    "        path=os.path.dirname(os.path.abspath(__file__)) #this is the robust way of getting the path of the module that is executing\n",
    "        classes = pyclbr.readmodule(module,[path])  #note the pyclbr.readmodule requires a list or tuple as a path\n",
    "    elif type(path) is str:\n",
    "        classes = pyclbr.readmodule(module,[path])\n",
    "    else:\n",
    "        classes = pyclbr.readmodule(module,path)\n",
    "    # first make a list of string only parents, this handles the casses in which pyclbr returns an object\n",
    "    for model in classes:\n",
    "        if classes[model].super[0] in classes.values():\n",
    "            classes[model].super=classes[model].super[0].super\n",
    "\n",
    "    # make a list of admin classes\n",
    "    admin_classes=[]\n",
    "    for model in classes:\n",
    "        for superclass in classes[model].super:\n",
    "            try:\n",
    "                if re.search('admin.ModelAdmin',superclass):\n",
    "                    admin_classes.append(model)\n",
    "            except:pass\n",
    "    for model in classes:\n",
    "        # now the dirty part, check that the models are classes that inherit from models.Model\n",
    "        # if this inhertance is not explicit in the class call in the module it will not be registered\n",
    "        for superclass in classes[model].super:\n",
    "            try:\n",
    "                if re.search('models.Model',superclass):\n",
    "                    try:\n",
    "                        # Check to see if the modelNameAdmin is in the list of admin classes\n",
    "                        test_name=model+'Admin'\n",
    "                        if test_name in admin_classes:\n",
    "                            exec('from %s import %s,%s'%(module,model,test_name))\n",
    "                            exec('admin.site.register(%s,%s)'%(model,test_name))\n",
    "                        else:\n",
    "                        # this could be a from module import * above this loop\n",
    "                            exec('from %s import %s'%(module,model))\n",
    "                            exec('admin.site.register(%s)'%model)\n",
    "                    except:raise\n",
    "            except:pass\n",
    "    # TODO: Check that models that inherit from another module work, check that 2 or more inheritace steps work\n",
    "#register_all_models() # Comment to run in notebook"
   ]
  },
  {
   "cell_type": "code",
   "execution_count": 25,
   "metadata": {
    "collapsed": false
   },
   "outputs": [
    {
     "name": "stdout",
     "output_type": "stream",
     "text": [
      "['# class functions from the standard library\\n', 'import pyclbr\\n', 'import re\\n', 'import os\\n', 'from django.contrib import admin\\n', '\\n', 'def register_all_models(module=None,path=None):\\n', '    \"\"\" This function registers all modules in with the django admin. \\n', \"    The module name should be a string, and defaults to 'models' and the path can be a string, list or tuple\\n\", '    If you include the admin.ModelAdmin in the models.py module with the same name + Admin\\n', '    then it will register them too. Example if the model class is Pizza, then the admin model\\n', '    class would be PizzaAdmin \"\"\"\\n', '    if module is None:\\n', \"        module='models'\\n\", '    if path is None:\\n', '        path=os.path.dirname(os.path.abspath(__file__))\\n', '        classes = pyclbr.readmodule(module,[path])\\n', '    elif type(path) is str:\\n', '        classes = pyclbr.readmodule(module,[path])\\n', '    else:\\n', '        classes = pyclbr.readmodule(module,path)\\n', '    # first make a list of string only parents\\n', '    for model in classes:\\n', '        if classes[model].super[0] in classes.values():\\n', '            classes[model].super=classes[model].super[0].super\\n', '\\n', '    # make a list of admin classes\\n', '    admin_classes=[]\\n', '    for model in classes:\\n', '        for superclass in classes[model].super:\\n', '            try:\\n', \"                if re.search('admin.ModelAdmin',superclass):\\n\", '                    admin_classes.append(model)\\n', '            except:pass\\n', '    for model in classes:\\n', '        # now the dirty part, check that the models are classes that inherit from models.Model\\n', '        # if this inhertance is not explicit in the class call it will not be registered\\n', '        for superclass in classes[model].super:\\n', '            try:\\n', \"                if re.search('models.Model',superclass):\\n\", '                    try:\\n', '                        # Check to see if the modelNameAdmin is in the list of admin classes\\n', \"                        test_name=model+'Admin'\\n\", '                        if test_name in admin_classes:\\n', \"                            exec('from %s import %s,%s'%(module,model,test_name))\\n\", \"                            exec('admin.site.register(%s,%s)'%(model,test_name))\\n\", '                        else:\\n', '                        # this could be a from module import * above this loop\\n', \"                            exec('from %s import %s'%(module,model))\\n\", \"                            exec('admin.site.register(%s)'%model)\\n\", '                    except:raise\\n', '            except:pass\\n', 'register_all_models()']\n"
     ]
    }
   ],
   "source": [
    "# This is kind of silly but I want to read the a file version of it in and write it to check that it works\n",
    "# TODO: make test_admin a call to a test folder, can do this when I add it to pyMeasure.Code.Utils.DajngoUtils\n",
    "test_admin=r'C:\\Users\\sandersa\\Test_Site\\Test_App\\admin.py'\n",
    "in_file=open(test_admin,'r')\n",
    "in_file_lines=[]\n",
    "for line in in_file:\n",
    "    in_file_lines.append(line)\n",
    "in_file.close()\n",
    "print in_file_lines"
   ]
  },
  {
   "cell_type": "code",
   "execution_count": 3,
   "metadata": {
    "collapsed": true
   },
   "outputs": [],
   "source": [
    "admin_file_template=['# class functions from the standard library\\n', 'import pyclbr\\n', 'import re\\n', \n",
    "                     'import os\\n', 'from django.contrib import admin\\n', '\\n', \n",
    "                     'def register_all_models(module=None,path=None):\\n', \n",
    "                     '    \"\"\" This function registers all modules in with the django admin. \\n',\n",
    "                     \"    The module name should be a string, and defaults to 'models' and the path can be a string, list or tuple\\n\", '    If you include the admin.ModelAdmin in the models.py module with the same name + Admin\\n', '    then it will register them too. Example if the model class is Pizza, then the admin model\\n',\n",
    "                     '    class would be PizzaAdmin \"\"\"\\n', '    if module is None:\\n', \"        module='models'\\n\", \n",
    "                     '    if path is None:\\n', '        path=os.path.dirname(os.path.abspath(__file__))\\n',\n",
    "                     '        classes = pyclbr.readmodule(module,[path])\\n', '    elif type(path) is str:\\n', \n",
    "                     '        classes = pyclbr.readmodule(module,[path])\\n', '    else:\\n', \n",
    "                     '        classes = pyclbr.readmodule(module,path)\\n', '    # first make a list of string only parents\\n',\n",
    "                     '    for model in classes:\\n', '        if classes[model].super[0] in classes.values():\\n', \n",
    "                     '            classes[model].super=classes[model].super[0].super\\n', '\\n', \n",
    "                     '    # make a list of admin classes\\n', '    admin_classes=[]\\n', '    for model in classes:\\n', \n",
    "                     '        for superclass in classes[model].super:\\n', '            try:\\n', \n",
    "                     \"                if re.search('admin.ModelAdmin',superclass):\\n\", \n",
    "                     '                    admin_classes.append(model)\\n', \n",
    "                     '            except:pass\\n', '    for model in classes:\\n', \n",
    "                     '        # now the dirty part, check that the models are classes that inherit from models.Model\\n',\n",
    "                     '        # if this inhertance is not explicit in the class call it will not be registered\\n',\n",
    "                     '        for superclass in classes[model].super:\\n', '            try:\\n',\n",
    "                     \"                if re.search('models.Model',superclass):\\n\", \n",
    "                     '                    try:\\n',\n",
    "                     '                        # Check to see if the modelNameAdmin is in the list of admin classes\\n',\n",
    "                     \"                        test_name=model+'Admin'\\n\", \n",
    "                     '                        if test_name in admin_classes:\\n', \n",
    "                     \"                            exec('from %s import %s,%s'%(module,model,test_name))\\n\", \n",
    "                     \"                            exec('admin.site.register(%s,%s)'%(model,test_name))\\n\", \n",
    "                     '                        else:\\n', \n",
    "                     '                        # this could be a from module import * above this loop\\n',\n",
    "                     \"                            exec('from %s import %s'%(module,model))\\n\", \n",
    "                     \"                            exec('admin.site.register(%s)'%model)\\n\", '                    except:raise\\n', \n",
    "                     '            except:pass\\n', 'register_all_models()']\n"
   ]
  },
  {
   "cell_type": "code",
   "execution_count": 4,
   "metadata": {
    "collapsed": true
   },
   "outputs": [],
   "source": [
    "test_admin2=r'C:\\Users\\sandersa\\Test_Site\\Test_App\\admin2.py'\n",
    "out_file=open(test_admin2,'w')\n",
    "\n",
    "for line in file_template:\n",
    "    out_file.write(line)\n",
    "out_file.close()\n"
   ]
  },
  {
   "cell_type": "code",
   "execution_count": 5,
   "metadata": {
    "collapsed": true
   },
   "outputs": [],
   "source": [
    "import os\n",
    "def write_admin_file(directory=None):\n",
    "    \"\"\"Writes an admin file in specified directory, defaults to the current directory\"\"\"\n",
    "    if directory is not None:\n",
    "        os.chdir(directory)\n",
    "    admin_file_template=['# class functions from the standard library\\n', 'import pyclbr\\n', 'import re\\n', \n",
    "                     'import os\\n', 'from django.contrib import admin\\n', '\\n', \n",
    "                     'def register_all_models(module=None,path=None):\\n', \n",
    "                     '    \"\"\" This function registers all modules in with the django admin. \\n',\n",
    "                     \"    The module name should be a string, and defaults to 'models' and the path can be a string, list or tuple\\n\", '    If you include the admin.ModelAdmin in the models.py module with the same name + Admin\\n', '    then it will register them too. Example if the model class is Pizza, then the admin model\\n',\n",
    "                     '    class would be PizzaAdmin \"\"\"\\n', '    if module is None:\\n', \"        module='models'\\n\", \n",
    "                     '    if path is None:\\n', '        path=os.path.dirname(os.path.abspath(__file__))\\n',\n",
    "                     '        classes = pyclbr.readmodule(module,[path])\\n', '    elif type(path) is str:\\n', \n",
    "                     '        classes = pyclbr.readmodule(module,[path])\\n', '    else:\\n', \n",
    "                     '        classes = pyclbr.readmodule(module,path)\\n', '    # first make a list of string only parents\\n',\n",
    "                     '    for model in classes:\\n', '        if classes[model].super[0] in classes.values():\\n', \n",
    "                     '            classes[model].super=classes[model].super[0].super\\n', '\\n', \n",
    "                     '    # make a list of admin classes\\n', '    admin_classes=[]\\n', '    for model in classes:\\n', \n",
    "                     '        for superclass in classes[model].super:\\n', '            try:\\n', \n",
    "                     \"                if re.search('admin.ModelAdmin',superclass):\\n\", \n",
    "                     '                    admin_classes.append(model)\\n', \n",
    "                     '            except:pass\\n', '    for model in classes:\\n', \n",
    "                     '        # now the dirty part, check that the models are classes that inherit from models.Model\\n',\n",
    "                     '        # if this inhertance is not explicit in the class call it will not be registered\\n',\n",
    "                     '        for superclass in classes[model].super:\\n', '            try:\\n',\n",
    "                     \"                if re.search('models.Model',superclass):\\n\", \n",
    "                     '                    try:\\n',\n",
    "                     '                        # Check to see if the modelNameAdmin is in the list of admin classes\\n',\n",
    "                     \"                        test_name=model+'Admin'\\n\", \n",
    "                     '                        if test_name in admin_classes:\\n', \n",
    "                     \"                            exec('from %s import %s,%s'%(module,model,test_name))\\n\", \n",
    "                     \"                            exec('admin.site.register(%s,%s)'%(model,test_name))\\n\", \n",
    "                     '                        else:\\n', \n",
    "                     '                        # this could be a from module import * above this loop\\n',\n",
    "                     \"                            exec('from %s import %s'%(module,model))\\n\", \n",
    "                     \"                            exec('admin.site.register(%s)'%model)\\n\", '                    except:raise\\n', \n",
    "                     '            except:pass\\n', 'register_all_models()']\n",
    "\n",
    "    for line in admin_file_template:\n",
    "        out_file.write(line)\n",
    "    out_file.close()"
   ]
  },
  {
   "cell_type": "code",
   "execution_count": 8,
   "metadata": {
    "collapsed": false
   },
   "outputs": [],
   "source": [
    "write_admin_file('c:\\Users\\Sandersa')"
   ]
  },
  {
   "cell_type": "code",
   "execution_count": 1,
   "metadata": {
    "collapsed": false
   },
   "outputs": [
    {
     "name": "stdout",
     "output_type": "stream",
     "text": [
      "{'ProjectGroups': <pyclbr.Class instance at 0x00000000038EDAC8>, 'UserExtensionOnetoOne': <pyclbr.Class instance at 0x00000000038ED748>, 'ProjectGroups2': <pyclbr.Class instance at 0x00000000038ED3C8>, 'ProjectGroupsAdmin': <pyclbr.Class instance at 0x00000000038EDBC8>, 'UserExtension2': <pyclbr.Class instance at 0x00000000038ED608>, 'ProjectG3': <pyclbr.Class instance at 0x00000000038EDC48>}\n"
     ]
    }
   ],
   "source": [
    "import pyclbr\n",
    "classes = pyclbr.readmodule('models',[r'C:\\Users\\sandersa\\Test_Site\\Test_App'])\n",
    "print classes\n"
   ]
  },
  {
   "cell_type": "code",
   "execution_count": 27,
   "metadata": {
    "collapsed": false
   },
   "outputs": [
    {
     "name": "stdout",
     "output_type": "stream",
     "text": [
      "True\n",
      "True\n",
      "True\n",
      "True\n",
      "{'UserExtension2': <pyclbr.Class instance at 0x000000000391F748>, 'ProjectGroups': <pyclbr.Class instance at 0x000000000391F3C8>, 'UserExtensionOnetoOne': <pyclbr.Class instance at 0x000000000391FAC8>, 'ProjectGroupsAdmin': <pyclbr.Class instance at 0x000000000391F608>}\n",
      "['', 'C:\\\\python27\\\\python27.zip', 'C:\\\\python27\\\\DLLs', 'C:\\\\python27\\\\lib', 'C:\\\\python27\\\\lib\\\\plat-win', 'C:\\\\python27\\\\lib\\\\lib-tk', 'C:\\\\python27', 'c:\\\\python27\\\\lib\\\\site-packages\\\\sphinx-1.3.1-py2.7.egg', 'c:\\\\python27\\\\lib\\\\site-packages\\\\setuptools-18.5-py2.7.egg', 'C:\\\\python27\\\\lib\\\\site-packages', 'C:\\\\python27\\\\lib\\\\site-packages\\\\cryptography-1.0.2-py2.7-win-amd64.egg', 'C:\\\\python27\\\\lib\\\\site-packages\\\\win32', 'C:\\\\python27\\\\lib\\\\site-packages\\\\win32\\\\lib', 'C:\\\\python27\\\\lib\\\\site-packages\\\\Pythonwin', 'C:\\\\python27\\\\lib\\\\site-packages\\\\wx-3.0-msw', 'C:\\\\python27\\\\lib\\\\site-packages\\\\IPython\\\\extensions', 'C:\\\\Users\\\\sandersa\\\\.ipython']\n"
     ]
    }
   ],
   "source": [
    "for key in classes.keys():\n",
    "    print(key==classes[key].name)\n",
    "classes = pyclbr.readmodule('models',[r'C:\\Users\\sandersa\\Test_Site\\Test_App'])\n",
    "print classes\n",
    "import sys\n",
    "print sys.path\n"
   ]
  },
  {
   "cell_type": "code",
   "execution_count": 17,
   "metadata": {
    "collapsed": false
   },
   "outputs": [
    {
     "data": {
      "text/plain": [
       "{'ProjectG3': <pyclbr.Class instance at 0x00000000038EDC48>,\n",
       " 'ProjectGroups': <pyclbr.Class instance at 0x00000000038EDAC8>,\n",
       " 'ProjectGroups2': <pyclbr.Class instance at 0x00000000038ED3C8>,\n",
       " 'ProjectGroupsAdmin': <pyclbr.Class instance at 0x00000000038EDBC8>,\n",
       " 'UserExtension2': <pyclbr.Class instance at 0x00000000038ED608>,\n",
       " 'UserExtensionOnetoOne': <pyclbr.Class instance at 0x00000000038ED748>}"
      ]
     },
     "execution_count": 17,
     "metadata": {},
     "output_type": "execute_result"
    }
   ],
   "source": [
    "classes = pyclbr.readmodule('models',[r'C:\\Users\\sandersa\\Test_Site\\Test_Appp'])\n",
    "classes"
   ]
  },
  {
   "cell_type": "code",
   "execution_count": 23,
   "metadata": {
    "collapsed": false
   },
   "outputs": [
    {
     "name": "stdout",
     "output_type": "stream",
     "text": [
      "<type 'str'>\n",
      "<type 'str'>\n",
      "<type 'str'>\n",
      "<type 'str'>\n",
      "<type 'str'>\n",
      "<type 'str'>\n"
     ]
    },
    {
     "data": {
      "text/plain": [
       "True"
      ]
     },
     "execution_count": 23,
     "metadata": {},
     "output_type": "execute_result"
    }
   ],
   "source": [
    "for item in classes:\n",
    "    print type(str(classes[item].super[0]))\n",
    "\n",
    "\n",
    "\n",
    "classes['ProjectG3'].super[0]==classes['ProjectGroups2']"
   ]
  },
  {
   "cell_type": "code",
   "execution_count": 37,
   "metadata": {
    "collapsed": false
   },
   "outputs": [],
   "source": [
    "import re\n",
    "admin_classes=[]\n",
    "for model in classes:\n",
    "    for superclass in classes[model].super:\n",
    "        if re.search('admin.ModelAdmin',superclass):\n",
    "            admin_classes.append(model)\n",
    "\n",
    "admin=filter(lambda x: re.search('%sAdmin'%classes[model].name,x),admin_classes_names)"
   ]
  },
  {
   "cell_type": "code",
   "execution_count": 38,
   "metadata": {
    "collapsed": false
   },
   "outputs": [
    {
     "data": {
      "text/plain": [
       "'ProjectGroups'"
      ]
     },
     "execution_count": 38,
     "metadata": {},
     "output_type": "execute_result"
    }
   ],
   "source": [
    "classes[admin_classes[0].replace('Admin','')].name"
   ]
  },
  {
   "cell_type": "code",
   "execution_count": 24,
   "metadata": {
    "collapsed": false
   },
   "outputs": [
    {
     "data": {
      "text/plain": [
       "['models.Model']"
      ]
     },
     "execution_count": 24,
     "metadata": {},
     "output_type": "execute_result"
    }
   ],
   "source": [
    "classes['ProjectG3'].super[0].super"
   ]
  },
  {
   "cell_type": "code",
   "execution_count": null,
   "metadata": {
    "collapsed": true
   },
   "outputs": [],
   "source": []
  }
 ],
 "metadata": {
  "kernelspec": {
   "display_name": "Python 2",
   "language": "python",
   "name": "python2"
  },
  "language_info": {
   "codemirror_mode": {
    "name": "ipython",
    "version": 2
   },
   "file_extension": ".py",
   "mimetype": "text/x-python",
   "name": "python",
   "nbconvert_exporter": "python",
   "pygments_lexer": "ipython2",
   "version": "2.7.11"
  }
 },
 "nbformat": 4,
 "nbformat_minor": 0
}
