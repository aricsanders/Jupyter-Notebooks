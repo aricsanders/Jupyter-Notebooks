{
 "cells": [
  {
   "cell_type": "markdown",
   "metadata": {},
   "source": [
    "# Example of data translation using a bijective graph\n",
    "The graph method creates a series of interlocking nodes that have transformations between themselves. There are a few basic rules:\n",
    "1. Any node has an edge into and out of itself\n",
    "2. Any path that results in the same end location creates the same node \n",
    "\n",
    "## This example is one of a rectangular table, a set of column modeled data. \n",
    "### This graph has the folowing nodes, and hence transformations between all of them\n",
    "1. n1, 'Pandas Data Frame', in memory \n",
    "2. n2, 'AsciiDataTable', in memory\n",
    "3. n3, 'HDF File', on disk\n",
    "4. n4, 'XML Data Table',in memory\n",
    "5. n5, 'Excel File', on disk\n",
    "6. n6, 'HTML String',in memory\n",
    "7. 'JSON File', on disk\n",
    "8. 'JSON String',in memory\n",
    "9. 'CSV File', on disk\n",
    "10. 'Matlab File', on disk"
   ]
  },
  {
   "cell_type": "code",
   "execution_count": 2,
   "metadata": {
    "collapsed": false
   },
   "outputs": [
    {
     "name": "stdout",
     "output_type": "stream",
     "text": [
      "Importing Code.Utils.Names\n",
      "Importing Code.DataHandlers.NISTModels\n",
      "Importing Code.DataHandlers.GeneralModels\n",
      "Importing Code.DataHandlers.TouchstoneModels\n",
      "Importing Code.DataHandlers.XMLModels\n",
      "Importing Code.DataHandlers.RadiCALModels\n",
      "Importing Code.DataHandlers.ZipModels\n",
      "Importing Code.DataHandlers.Translations\n",
      "Importing Code.DataHandlers.StatistiCALModels\n",
      "Importing Code.DataHandlers.MUFModels\n",
      "Importing Code.Analysis.SParameter\n",
      "Importing Code.InstrumentControl.Instruments\n",
      "Importing Code.InstrumentControl.Experiments\n"
     ]
    }
   ],
   "source": [
    "from pyMeasure import *\n",
    "import pandas\n",
    "from scipy.io import savemat,loadmat"
   ]
  },
  {
   "cell_type": "code",
   "execution_count": 3,
   "metadata": {
    "collapsed": true
   },
   "outputs": [],
   "source": [
    "import re\n",
    "import datetime\n",
    "import numpy as np\n",
    "\n",
    "def edge_1_to_2(in_string):\n",
    "    return in_string.splitlines()\n",
    "    \n",
    "def edge_2_to_1(string_list):\n",
    "    return string_list_collapse(string_list)\n",
    "\n",
    "class Graph():\n",
    "    def __init__(self,**options):\n",
    "        \"\"\"Initializes the graph. The first 2 nodes and two edges forming a bijection between them are required\"\"\"\n",
    "        defaults={\"graph_name\":\"Graph\",\n",
    "                  \"node_names\":['n1','n2'],\n",
    "                  \"node_descriptions\":{'n1':\"A plain string\",\n",
    "                                       'n2':\"A list of strings with no \\\\n, created with string.splitlines()\"},\n",
    "                  \"current_node\":'n1',\n",
    "                  \"state\":[1,0],\n",
    "                  \"data\":\"This is a test string\\n it has to have multiple lines \\n and many characters 34%6\\n^\",\n",
    "                  \"edge_2_to_1\":edge_2_to_1,\n",
    "                  \"edge_1_to_2\":edge_1_to_2\n",
    "                 }\n",
    "        self.options={}\n",
    "        for key,value in defaults.iteritems():\n",
    "            self.options[key]=value\n",
    "        for key,value in options.iteritems():\n",
    "            self.options[key]=value\n",
    "        self.elements=['graph_name','node_names','node_descriptions','current_node','state','data']\n",
    "        for element in self.elements:\n",
    "            self.__dict__[element]=self.options[element]\n",
    "        self.edges=[]\n",
    "        self.edge_matrices=[]\n",
    "        self.state_matrix=np.matrix(self.state).T\n",
    "        # Add the first 2 edges, required to intialize the graph properly\n",
    "        self.add_edge(self.node_names[0],self.node_names[1],self.options[\"edge_1_to_2\"])\n",
    "        self.add_edge(self.node_names[1],self.node_names[0],self.options[\"edge_2_to_1\"])\n",
    "        \n",
    "    def set_state(self,node_name,node_data):\n",
    "        \"\"\"Sets the graph state to be the state specified by node_name, and node_data\"\"\"\n",
    "        try:\n",
    "            current_node_state_position=self.node_names.index(node_name)\n",
    "            self.current_node=node_name\n",
    "            self.data=node_data\n",
    "            self.state=[0 for i in range(len(self.node_names))]\n",
    "            self.state[current_node_state_position]=1\n",
    "            self.state_matrix=np.matrix(self.state).T\n",
    "        except:\n",
    "            print(\"Could not set the state of graph: {0}\".format(self.graph_name))\n",
    "            raise\n",
    "            \n",
    "    def add_edge(self,begin_node=None,end_node=None,edge_function=None):\n",
    "        \"\"\"Adds an edge mapping one node to another, required input is begin_node (it's name)\n",
    "        end_node, and the edge function\"\"\"\n",
    "        # check to see if edge is defined if it is increment a number\n",
    "        edge_match=re.compile(\"edge_{0}_{1}\".format(begin_node,end_node))\n",
    "        keys=self.__dict__.keys()\n",
    "        #print keys\n",
    "        iterator=0\n",
    "        for key in keys:\n",
    "            if re.match(edge_match,key):\n",
    "                iterator+=1\n",
    "        edge_name=\"edge_{0}_{1}_{2:0>3d}\".format(begin_node,end_node,iterator)\n",
    "        self.__dict__[edge_name]=edge_function\n",
    "        self.edges.append(edge_name)\n",
    "        edge_matrix=np.zeros((len(self.state),len(self.state)))\n",
    "        begin_position=self.node_names.index(begin_node)\n",
    "        end_position=self.node_names.index(end_node)\n",
    "        edge_matrix[end_position][begin_position]=1\n",
    "        edge_matrix=np.matrix(edge_matrix)\n",
    "        self.edge_matrices.append(edge_matrix)\n",
    "        \n",
    "    def move_to(self,path):\n",
    "        \"\"\"Changes the state of the graph by moving along the path specified\"\"\"\n",
    "        #print path\n",
    "        for index,edge in enumerate(path):\n",
    "            #print edge\n",
    "            edge_pattern='edge_(?P<begin_node>\\w+)_(?P<end_node>\\w+)_(?P<iterator>\\w+)'\n",
    "            match=re.match(edge_pattern,edge)\n",
    "            begin_node=match.groupdict()['begin_node']\n",
    "            end_node=match.groupdict()['end_node']\n",
    "            print(\"moving {0} -> {1}\".format(begin_node,end_node))\n",
    "            #print self.data\n",
    "            self.data=self.__dict__[edge](self.data)\n",
    "            #print self.data\n",
    "            self.current_node=match.groupdict()['end_node']\n",
    "            self.state=[0 for i in range(len(self.node_names))]\n",
    "            position=self.node_names.index(self.current_node)\n",
    "            self.state[position]=1\n",
    "            self.state_matrix=np.matrix(self.state).T\n",
    "            #print self.state\n",
    "            #print self.current_node\n",
    "            \n",
    "    def virtual_move_to(self,path):\n",
    "        \"\"\"virtual_move_to simulates moving but does not change the state of the graph\"\"\"\n",
    "        #print path\n",
    "        temp_state=self.state\n",
    "        temp_data=self.data\n",
    "        temp_current_node=self.current_node\n",
    "        temp_node_names=self.node_names\n",
    "        for index,edge in enumerate(path):\n",
    "            #print edge\n",
    "            edge_pattern='edge_(?P<begin_node>\\w+)_(?P<end_node>\\w+)_(?P<iterator>\\w+)'\n",
    "            match=re.match(edge_pattern,edge)\n",
    "            begin_node=match.groupdict()['begin_node']\n",
    "            end_node=match.groupdict()['end_node']\n",
    "            #print(\"moving {0} -> {1}\".format(begin_node,end_node))\n",
    "            #print self.data\n",
    "            temp_data=self.__dict__[edge](temp_data)\n",
    "            #print self.data\n",
    "            temp_current_node=match.groupdict()['end_node']\n",
    "            temp_state=[0 for i in range(len(temp_node_names))]\n",
    "            position=temp_node_names.index(temp_current_node)\n",
    "            temp_state[position]=1\n",
    "            #print temp_state\n",
    "            #print self.state\n",
    "            #print self.current_node  \n",
    "            \n",
    "    def __str__(self):\n",
    "        return str(self.data)\n",
    "    \n",
    "    def add_node(self,node_name,edge_into_node_begin,edge_into_node_function,edge_out_node_end,\n",
    "                 edge_out_node_function):\n",
    "        \"\"\"Adds a node to the graph. Required input is node_name (a string with no spaces), \n",
    "        a reference to an entering node,the function mapping the entering node to the new node, \n",
    "        a reference to an exiting node and the function mapping the\n",
    "        new node to the exiting node.\"\"\"\n",
    "        # first check if node into and out of node is good\n",
    "        self.node_names.append(node_name)\n",
    "        self.state.append(0)\n",
    "        self.state_matrix=np.matrix(self.state).T\n",
    "        for index,matrix in enumerate(self.edge_matrices):\n",
    "            pad_row=np.zeros((1,len(matrix)))\n",
    "            new_matrix=np.concatenate((matrix, pad_row), axis=0)\n",
    "            pad_column=np.zeros((1,len(self.node_names)))\n",
    "            new_matrix=np.concatenate((new_matrix, pad_column.T), axis=1)\n",
    "            #print(\"New matrix is :\\n{0}\".format(new_matrix))\n",
    "            self.edge_matrices[index]=new_matrix\n",
    "        self.add_edge(begin_node=node_name,end_node=edge_out_node_end,edge_function=edge_out_node_function)\n",
    "        self.add_edge(begin_node=edge_into_node_begin,end_node=node_name,edge_function=edge_into_node_function)\n",
    "    \n",
    "    def path_length(self,path,num_repeats=10):\n",
    "        \"\"\"Determines the length of a given path, currently the metric is based on the time to move to.\"\"\"\n",
    "        begin_time=datetime.datetime.now()\n",
    "        #num_repeats=100\n",
    "        for i in range(num_repeats):\n",
    "            self.virtual_move_to(path)\n",
    "        end_time=datetime.datetime.now()\n",
    "        delta_t=end_time-begin_time\n",
    "        path_length=delta_t.total_seconds()/float(num_repeats)\n",
    "        if path_length ==0.0:\n",
    "            print(\"Warning the path length is less than 1 microsecond,\" \n",
    "                  \"make sure num_repeats is high enough to measure it.\")\n",
    "        return path_length\n",
    "                \n",
    "    def is_path_valid(self,path):\n",
    "        \"\"\"Returns True if the path is valid from the current node position or False otherwise\"\"\"\n",
    "        null_state=[0 for i in range(len(self.node_names))]\n",
    "        null_state_matrix=np.matrix(null_state).T\n",
    "        new_state=np.matrix(self.state).T\n",
    "        for index,edge in enumerate(path):\n",
    "            #print index\n",
    "            #print edge\n",
    "            edge_position=self.edges.index(edge)\n",
    "            move_matrix=self.edge_matrices[edge_position]\n",
    "            #print move_matrix\n",
    "            new_state=move_matrix*new_state\n",
    "            if new_state.any()==null_state_matrix.any():\n",
    "                #print new_state\n",
    "                #print null_state_matrix\n",
    "                return False\n",
    "        return True\n",
    "            \n",
    "            \n",
    "    def get_entering_nodes(self,node): \n",
    "        \"\"\"Returns all nodes that have an edge that enter the specificed node\"\"\"\n",
    "        enter_edge_pattern=re.compile('edge_(?P<begin_node>\\w+)_{0}_(?P<iterator>\\w+)'.format(node))\n",
    "        enter_nodes=[]\n",
    "        for index,edge in enumerate(self.edges):\n",
    "            enter_match=re.match(enter_edge_pattern,edge)\n",
    "            if enter_match:\n",
    "                enter_node=enter_match.groupdict()['begin_node']\n",
    "                enter_nodes.append(enter_node)\n",
    "        return enter_nodes\n",
    "    \n",
    "    def get_entering_edges(self,node): \n",
    "        \"\"\"Returns all edges that enter the specificed node\"\"\"\n",
    "        enter_edge_pattern=re.compile('edge_(?P<begin_node>\\w+)_{0}_(?P<iterator>\\w+)'.format(node))\n",
    "        enter_edges=[]\n",
    "        for index,edge in enumerate(self.edges):\n",
    "            if re.match(enter_edge_pattern,edge):\n",
    "                enter_edges.append(edge)\n",
    "        return enter_edges\n",
    "    \n",
    "    def get_exiting_edges(self,node):\n",
    "        \"\"\"Returns all edges that exit the specificed node\"\"\"\n",
    "        exit_edge_pattern=re.compile('edge_{0}_(?P<end_node>\\w+)_(?P<iterator>\\w+)'.format(node))\n",
    "        exit_edges=[]\n",
    "        for index,edge in enumerate(self.edges):\n",
    "            if re.match(exit_edge_pattern,edge):\n",
    "                exit_edges.append(edge)\n",
    "        return exit_edges \n",
    "    \n",
    "    def get_exiting_nodes(self,node): \n",
    "        \"\"\"Returns all nodes that have an edge leaving the specificed node\"\"\"\n",
    "        exit_edge_pattern=re.compile('edge_{0}_(?P<end_node>\\w+)_(?P<iterator>\\w+)'.format(node))\n",
    "        exit_nodes=[]\n",
    "        for index,edge in enumerate(self.edges):\n",
    "            exit_match=re.match(exit_edge_pattern,edge)\n",
    "            if exit_match:\n",
    "                exit_node=exit_match.groupdict()['end_node']\n",
    "                exit_nodes.append(exit_node)\n",
    "        return exit_nodes\n",
    "    \n",
    "    def get_path(self,first_node,last_node):\n",
    "        \"\"\"Returns the first path found between first node and last node\"\"\"\n",
    "        edge_pattern=re.compile('edge_(?P<begin_node>\\w+)_(?P<end_node>\\w+)_(?P<iterator>\\w+)')\n",
    "        exit_paths=self.get_exiting_edges(first_node)\n",
    "        next_nodes=self.get_exiting_nodes(first_node)\n",
    "        #be careful here using the wrong assignment statement breaks this function \n",
    "        possible_paths=[]\n",
    "        for exit_path in exit_paths:\n",
    "            possible_paths.append([exit_path])\n",
    "        #print(\"{0} is {1}\".format('possible_paths',possible_paths))\n",
    "        for i in range(len(self.node_names)):\n",
    "            for index,path in enumerate(possible_paths):\n",
    "                last_edge=path[-1]\n",
    "                match=re.match(edge_pattern,last_edge)\n",
    "                begin_node=match.groupdict()['begin_node']\n",
    "                end_node=match.groupdict()['end_node']\n",
    "                #print next_node\n",
    "                if end_node==last_node:\n",
    "                    #print(\"The path found is {0}\".format(path))\n",
    "                    return path\n",
    "                next_possible_paths=[]\n",
    "                next_edges=self.get_exiting_edges(end_node)\n",
    "                next_nodes=self.get_exiting_nodes(end_node)\n",
    "                #print(\"{0} is {1}\".format('next_edges',next_edges))\n",
    "                for index,next_edge in enumerate(next_edges):\n",
    "                    #be careful here using the wrong assignment statement breaks this function \n",
    "                    #next_path=path is a deal breaker!! \n",
    "                    next_path=[]\n",
    "                    for edge in path:\n",
    "                        next_path.append(edge)\n",
    "                    #print(\"{0} is {1}\".format('next_path',next_path))\n",
    "                    #print(\"{0} is {1}\".format('next_edge',next_edge))\n",
    "                    #next_node=next_nodes[index]\n",
    "                    #print next_node\n",
    "                    next_match=re.match(edge_pattern,next_edge)\n",
    "                    next_node=next_match.groupdict()[\"end_node\"]\n",
    "                    begin_node_next_edge=next_match.groupdict()[\"begin_node\"]\n",
    "                    #print(\"{0} is {1}\".format('next_node',next_node))\n",
    "                    #print(\"{0} is {1}\".format('begin_node_next_edge',begin_node_next_edge))\n",
    "                    \n",
    "                    if next_node==last_node and begin_node_next_edge==end_node:\n",
    "                        next_path.append(next_edge)\n",
    "                        #print(\"The path found is {0}\".format(next_path))\n",
    "                        return next_path\n",
    "                    elif begin_node_next_edge==end_node:\n",
    "                        next_path.append(next_edge)\n",
    "                        next_possible_paths.append(next_path)\n",
    "                        #print(\"{0} is {1}\".format('next_possible_paths',next_possible_paths))\n",
    "                    else:\n",
    "                        pass\n",
    "                    #print(\"{0} is {1}\".format('next_possible_paths',next_possible_paths))\n",
    "                possible_paths=next_possible_paths\n",
    "                #print(\"{0} is {1}\".format('possible_paths',possible_paths))\n",
    "    \n",
    "    def move_to_node(self,node):\n",
    "        \"\"\"Moves from current_node to the specified node\"\"\"\n",
    "        path=self.get_path(self.current_node,node)\n",
    "        self.move_to(path)\n",
    "            \n",
    "    def check_closed_path(self):\n",
    "        \"\"\"Checks that data is not changed for the first closed path found. Returns True if data==data after\n",
    "        moving around the closed path, False otherwise. Starting point is current_node \"\"\"\n",
    "        temp_data=self.data\n",
    "        path=self.get_path(self.current_node,self.current_node)\n",
    "        if self.is_path_valid(path):\n",
    "            pass\n",
    "        else:\n",
    "            print(\"Path is not valid, graph definition is broken\")\n",
    "            raise\n",
    "        out=temp_data==self.data\n",
    "        out_list=[self.current_node,path,out]\n",
    "        print(\"The assertion that the data remains unchanged,\\n\" \n",
    "              \"for node {0} following path {1} is {2}\".format(*out_list))\n",
    "        return out \n",
    "    \n",
    "    def is_graph_isomorphic(self):\n",
    "        \"\"\"Returns True if all nodes have closed paths that preserve the data, False otherwise\"\"\"\n",
    "        out=True\n",
    "        for node in self.node_names:\n",
    "            self.move_to_node(node)\n",
    "            if not self.check_closed_path:\n",
    "                out=False\n",
    "        return out\n",
    "            \n",
    "            \n"
   ]
  },
  {
   "cell_type": "code",
   "execution_count": 4,
   "metadata": {
    "collapsed": false
   },
   "outputs": [
    {
     "name": "stdout",
     "output_type": "stream",
     "text": [
      "The self.metadata[\"Device_Id\"] variable is 700437\n"
     ]
    }
   ],
   "source": [
    "options={}\n",
    "options[\"data\"]=[[1,2,3],[4,5,6]]\n",
    "options[\"column_names\"]=['a','b','c']\n",
    "table=AsciiDataTable(None,**options)\n",
    "table=OnePortCalrepModel(os.path.join(TESTS_DIRECTORY,'700437.asc'))\n",
    "table=SNP(os.path.join(TESTS_DIRECTORY,'Solution_0.s4p'))\n",
    "data_frame=AsciiDataTable_to_DataFrame(table)"
   ]
  },
  {
   "cell_type": "code",
   "execution_count": 19,
   "metadata": {
    "collapsed": true
   },
   "outputs": [],
   "source": [
    "graph_options={\"graph_name\":\"Rectangular Graph\",\n",
    "                  \"node_names\":['n1','n2'],\n",
    "                  \"node_descriptions\":[\"Pandas Data Frame\",\"AsciiDataTable\"],\n",
    "                  \"current_node\":'n1',\n",
    "                  \"state\":[1,0],\n",
    "                  \"data\":data_frame,\n",
    "                  \"edge_2_to_1\":AsciiDataTable_to_DataFrame,\n",
    "                  \"edge_1_to_2\":DataFrame_to_AsciiDataTable\n",
    "                 }\n",
    "rect_graph=Graph(**graph_options)"
   ]
  },
  {
   "cell_type": "code",
   "execution_count": 61,
   "metadata": {
    "collapsed": false
   },
   "outputs": [
    {
     "name": "stdout",
     "output_type": "stream",
     "text": [
      "moving n1 -> n2\n",
      "moving n2 -> n1\n",
      "moving n1 -> n2\n"
     ]
    },
    {
     "data": {
      "text/plain": [
       "True"
      ]
     },
     "execution_count": 61,
     "metadata": {},
     "output_type": "execute_result"
    }
   ],
   "source": [
    "rect_graph.is_graph_isomorphic()"
   ]
  },
  {
   "cell_type": "code",
   "execution_count": 6,
   "metadata": {
    "collapsed": false
   },
   "outputs": [
    {
     "name": "stdout",
     "output_type": "stream",
     "text": [
      "moving n2 -> n1\n",
      "moving n1 -> n2\n"
     ]
    }
   ],
   "source": [
    "rect_graph.move_to_node(\"n2\")"
   ]
  },
  {
   "cell_type": "code",
   "execution_count": 7,
   "metadata": {
    "collapsed": false
   },
   "outputs": [
    {
     "name": "stdout",
     "output_type": "stream",
     "text": [
      "a,b,c\n",
      "1,2,3\n",
      "4,5,6\n"
     ]
    }
   ],
   "source": [
    "print rect_graph.data"
   ]
  },
  {
   "cell_type": "code",
   "execution_count": 20,
   "metadata": {
    "collapsed": false
   },
   "outputs": [],
   "source": [
    "def edge_1_to_3(pandas_data_frame):\n",
    "    pandas_data_frame.to_hdf(\"Test.hdf\",\"table\")\n",
    "    return \"Test.hdf\"\n",
    "def edge_3_to_1(hdf_file_name):\n",
    "    df=pandas.read_hdf(hdf_file_name,\"table\")\n",
    "    return df\n",
    "\n",
    "rect_graph.add_node(\"n3\",\"n1\",edge_1_to_3,\"n1\",edge_3_to_1)\n",
    "rect_graph.node_descriptions.append(\"HDF File\")\n",
    "\n",
    "def edge_4_to_2(xml_table):\n",
    "    \n",
    "    table=AsciiDataTable(None,\n",
    "                         column_names=xml_table.attribute_names,\n",
    "                         data=xml_table.data)\n",
    "    return table\n",
    "\n",
    "def edge_2_to_4(data_table):\n",
    "    xml=AsciiDataTable_to_XMLDataTable(data_table)\n",
    "    return xml\n",
    "\n",
    "rect_graph.add_node(\"n4\",\"n2\",edge_2_to_4,\"n2\",edge_4_to_2)\n",
    "rect_graph.node_descriptions.append(\"XML Data Table\")\n",
    "\n",
    "# Need to add XML File and Html File using save and save_HTML()\n",
    "\n",
    "\n",
    "def edge_1_to_5(pandas_data_frame,file_name=\"Test.xlsx\"):\n",
    "    pandas_data_frame.to_excel(file_name,index=False)\n",
    "    return file_name\n",
    "\n",
    "def edge_5_to_1(excel_file_name):\n",
    "    df=pandas.read_excel(excel_file_name)\n",
    "    return df\n",
    "\n",
    "rect_graph.add_node(\"n5\",\"n1\",edge_1_to_5,\"n1\",edge_5_to_1)\n",
    "rect_graph.node_descriptions.append(\"Excel File\")\n",
    "\n",
    "def edge_1_to_6(pandas_data_frame):\n",
    "    html=pandas_data_frame.to_html(index=False)\n",
    "    return html\n",
    "\n",
    "def edge_6_to_1(html_string):\n",
    "    list_df=pandas.read_html(html_string)\n",
    "    return list_df[0]\n",
    "\n",
    "rect_graph.add_node(\"n6\",\"n1\",edge_1_to_6,\"n1\",edge_6_to_1)\n",
    "rect_graph.node_descriptions.append(\"HTML String\")\n",
    "\n",
    "# Note a lot of the pandas reading and writing cause float64 round off errors\n",
    "# applymap(lambda x: np.around(x,10) any all float fields will fix this\n",
    "# also the column names move about in order\n",
    "\n",
    "def edge_1_to_7(pandas_data_frame):\n",
    "    json=pandas_data_frame.to_json(\"test.json\",orient='records')\n",
    "    return \"test.json\"\n",
    "\n",
    "def edge_7_to_1(json_file_name):\n",
    "    data_frame=pandas.read_json(json_file_name,orient='records')\n",
    "    return data_frame\n",
    "\n",
    "rect_graph.add_node(\"n7\",\"n1\",edge_1_to_7,\"n1\",edge_7_to_1)\n",
    "rect_graph.node_descriptions.append(\"JSON File\")\n",
    "\n",
    "def edge_1_to_8(pandas_data_frame):\n",
    "    json=pandas_data_frame.to_json(orient='records')\n",
    "    return json\n",
    "\n",
    "def edge_8_to_1(json_string):\n",
    "    data_frame=pandas.read_json(json_string,orient='records')\n",
    "    return data_frame\n",
    "\n",
    "rect_graph.add_node(\"n8\",\"n1\",edge_1_to_8,\"n1\",edge_8_to_1)\n",
    "rect_graph.node_descriptions.append(\"JSON String\")\n",
    "\n",
    "def edge_1_to_9(pandas_data_frame,file_name=\"test.csv\"):\n",
    "    json=pandas_data_frame.to_csv(file_name,index=False)\n",
    "    return file_name\n",
    "\n",
    "def edge_9_to_1(csv_file_name):\n",
    "    data_frame=pandas.read_csv(csv_file_name)\n",
    "    return data_frame\n",
    "\n",
    "rect_graph.add_node(\"n9\",\"n1\",edge_1_to_9,\"n1\",edge_9_to_1)\n",
    "rect_graph.node_descriptions.append(\"CSV File\")\n",
    "\n",
    "def edge_2_to_10(ascii_data_table,file_name=\"test.mat\"):\n",
    "    matlab_data_dictionary={\"data\":ascii_data_table.data,\"column_names\":ascii_data_table.column_names}\n",
    "    savemat(file_name,matlab_data_dictionary)\n",
    "    return file_name\n",
    "\n",
    "def edge_10_to_2(matlab_file_name):\n",
    "    matlab_data_dictionary=loadmat(matlab_file_name)\n",
    "    ascii_data_table=AsciiDataTable(None,\n",
    "                                    column_names=map(lambda x: x.rstrip().lstrip(),\n",
    "                                                     data[\"column_names\"].tolist()),\n",
    "                                     data=data[\"data\"].tolist())\n",
    "    return ascii_data_table\n",
    "\n",
    "rect_graph.add_node(\"n10\",\"n2\",edge_2_to_10,\"n2\",edge_10_to_2)\n",
    "rect_graph.node_descriptions.append(\"Matlab File\")\n",
    "\n",
    "def edge_7_to_4(json_file_string):\n",
    "    data_dictionary_list=json.load(open(json_file_string,'r'))\n",
    "    xml=DataTable(None,data_dictionary={\"data\":data_dictionary_list})\n",
    "    return xml\n",
    "rect_graph.add_edge(\"n7\",\"n4\",edge_7_to_4)"
   ]
  },
  {
   "cell_type": "code",
   "execution_count": 21,
   "metadata": {
    "collapsed": false
   },
   "outputs": [
    {
     "name": "stdout",
     "output_type": "stream",
     "text": [
      "moving n1 -> n2\n",
      "moving n2 -> n1\n",
      "moving n1 -> n2\n",
      "moving n2 -> n1\n",
      "moving n1 -> n3\n",
      "moving n3 -> n1\n",
      "moving n1 -> n2\n",
      "moving n2 -> n4\n",
      "moving n4 -> n2\n",
      "moving n2 -> n1\n",
      "moving n1 -> n5\n",
      "moving n5 -> n1\n",
      "moving n1 -> n6\n",
      "moving n6 -> n1\n",
      "moving n1 -> n7\n",
      "moving n7 -> n1\n",
      "moving n1 -> n8\n",
      "moving n8 -> n1\n",
      "moving n1 -> n9\n",
      "moving n9 -> n1\n",
      "moving n1 -> n2\n",
      "moving n2 -> n10\n"
     ]
    },
    {
     "data": {
      "text/plain": [
       "True"
      ]
     },
     "execution_count": 21,
     "metadata": {},
     "output_type": "execute_result"
    }
   ],
   "source": [
    "rect_graph.is_graph_isomorphic()"
   ]
  },
  {
   "cell_type": "code",
   "execution_count": 102,
   "metadata": {
    "collapsed": false
   },
   "outputs": [],
   "source": [
    "#print rect_graph.data"
   ]
  },
  {
   "cell_type": "code",
   "execution_count": null,
   "metadata": {
    "collapsed": false
   },
   "outputs": [],
   "source": [
    "path=rect_graph.get_path(\"n3\",\"n2\")"
   ]
  },
  {
   "cell_type": "code",
   "execution_count": null,
   "metadata": {
    "collapsed": false
   },
   "outputs": [],
   "source": [
    "rect_graph.move_to(path)"
   ]
  },
  {
   "cell_type": "code",
   "execution_count": 101,
   "metadata": {
    "collapsed": false
   },
   "outputs": [
    {
     "name": "stdout",
     "output_type": "stream",
     "text": [
      "moving n6 -> n1\n"
     ]
    }
   ],
   "source": [
    "rect_graph.move_to_node(\"n1\")"
   ]
  },
  {
   "cell_type": "code",
   "execution_count": 9,
   "metadata": {
    "collapsed": true
   },
   "outputs": [],
   "source": [
    "xml=AsciiDataTable_to_XMLDataTable(table)"
   ]
  },
  {
   "cell_type": "code",
   "execution_count": null,
   "metadata": {
    "collapsed": false
   },
   "outputs": [],
   "source": [
    "xml.to_tuple_list(xml.get_attribute_names())"
   ]
  },
  {
   "cell_type": "code",
   "execution_count": null,
   "metadata": {
    "collapsed": false
   },
   "outputs": [],
   "source": [
    "xml.to_list(\"a\")"
   ]
  },
  {
   "cell_type": "code",
   "execution_count": 10,
   "metadata": {
    "collapsed": false
   },
   "outputs": [
    {
     "data": {
      "text/plain": [
       "['a', 'b', 'c']"
      ]
     },
     "execution_count": 10,
     "metadata": {},
     "output_type": "execute_result"
    }
   ],
   "source": [
    "xml.attribute_names"
   ]
  },
  {
   "cell_type": "code",
   "execution_count": 11,
   "metadata": {
    "collapsed": false
   },
   "outputs": [
    {
     "data": {
      "text/plain": [
       "[['1', '2', '3'], ['4', '5', '6']]"
      ]
     },
     "execution_count": 11,
     "metadata": {},
     "output_type": "execute_result"
    }
   ],
   "source": [
    "xml.data"
   ]
  },
  {
   "cell_type": "code",
   "execution_count": 103,
   "metadata": {
    "collapsed": false
   },
   "outputs": [
    {
     "data": {
      "text/plain": [
       "[1, 0, 0, 0, 0, 0, 0, 0, 0]"
      ]
     },
     "execution_count": 103,
     "metadata": {},
     "output_type": "execute_result"
    }
   ],
   "source": [
    "rect_graph.state"
   ]
  },
  {
   "cell_type": "code",
   "execution_count": 64,
   "metadata": {
    "collapsed": false
   },
   "outputs": [],
   "source": [
    "path=rect_graph.get_path(\"n5\",\"n1\")"
   ]
  },
  {
   "cell_type": "code",
   "execution_count": 65,
   "metadata": {
    "collapsed": false
   },
   "outputs": [
    {
     "data": {
      "text/plain": [
       "0.051000000000000004"
      ]
     },
     "execution_count": 65,
     "metadata": {},
     "output_type": "execute_result"
    }
   ],
   "source": [
    "rect_graph.path_length(path)"
   ]
  },
  {
   "cell_type": "code",
   "execution_count": 176,
   "metadata": {
    "collapsed": false
   },
   "outputs": [
    {
     "name": "stdout",
     "output_type": "stream",
     "text": [
      "moving n1 -> n2\n",
      "moving n2 -> n1\n"
     ]
    }
   ],
   "source": [
    "rect_graph.move_to_node(\"n1\")"
   ]
  },
  {
   "cell_type": "code",
   "execution_count": 25,
   "metadata": {
    "collapsed": false
   },
   "outputs": [
    {
     "name": "stdout",
     "output_type": "stream",
     "text": [
      "moving n1 -> n2\n",
      "moving n2 -> n1\n",
      "The length of the path n1-> n1 in s is 0.018\n",
      "The length of the path n1-> n2 in s is 0.012\n",
      "The length of the path n1-> n3 in s is 0.012\n",
      "The length of the path n1-> n4 in s is 0.057\n",
      "The length of the path n1-> n5 in s is 0.163\n",
      "The length of the path n1-> n6 in s is 0.113\n",
      "The length of the path n1-> n7 in s is 0.006\n",
      "Warning the path length is less than 1 microsecond,make sure num_repeats is high enough to measure it.\n",
      "The length of the path n1-> n8 in s is 0.0\n",
      "The length of the path n1-> n9 in s is 0.006\n",
      "The length of the path n1-> n10 in s is 0.016\n"
     ]
    }
   ],
   "source": [
    "rect_graph.move_to_node(\"n1\")\n",
    "for node in rect_graph.node_names:\n",
    "    path=rect_graph.get_path(\"n1\",node)\n",
    "    print(\"The length of the path n1-> {0} in s is {1}\".format(node,rect_graph.path_length(path)))"
   ]
  },
  {
   "cell_type": "code",
   "execution_count": 125,
   "metadata": {
    "collapsed": false
   },
   "outputs": [
    {
     "data": {
      "text/plain": [
       "[1, 0, 0, 0, 0, 0]"
      ]
     },
     "execution_count": 125,
     "metadata": {},
     "output_type": "execute_result"
    }
   ],
   "source": [
    "rect_graph.state"
   ]
  },
  {
   "cell_type": "code",
   "execution_count": 126,
   "metadata": {
    "collapsed": false
   },
   "outputs": [
    {
     "name": "stdout",
     "output_type": "stream",
     "text": [
      "moving n1 -> n2\n",
      "moving n2 -> n1\n"
     ]
    }
   ],
   "source": [
    "rect_graph.move_to_node(\"n1\")"
   ]
  },
  {
   "cell_type": "code",
   "execution_count": 90,
   "metadata": {
    "collapsed": false
   },
   "outputs": [],
   "source": [
    "html=rect_graph.data.to_html(index=False)"
   ]
  },
  {
   "cell_type": "code",
   "execution_count": 91,
   "metadata": {
    "collapsed": true
   },
   "outputs": [],
   "source": [
    "df=pandas.read_html(html)"
   ]
  },
  {
   "cell_type": "code",
   "execution_count": 24,
   "metadata": {
    "collapsed": false
   },
   "outputs": [
    {
     "data": {
      "text/plain": [
       "['edge_n1_n2_000',\n",
       " 'edge_n2_n1_000',\n",
       " 'edge_n3_n1_000',\n",
       " 'edge_n1_n3_000',\n",
       " 'edge_n4_n2_000',\n",
       " 'edge_n2_n4_000',\n",
       " 'edge_n5_n1_000',\n",
       " 'edge_n1_n5_000',\n",
       " 'edge_n6_n1_000',\n",
       " 'edge_n1_n6_000',\n",
       " 'edge_n7_n1_000',\n",
       " 'edge_n1_n7_000',\n",
       " 'edge_n8_n1_000',\n",
       " 'edge_n1_n8_000',\n",
       " 'edge_n9_n1_000',\n",
       " 'edge_n1_n9_000',\n",
       " 'edge_n10_n2_000',\n",
       " 'edge_n2_n10_000',\n",
       " 'edge_n7_n4_000']"
      ]
     },
     "execution_count": 24,
     "metadata": {},
     "output_type": "execute_result"
    }
   ],
   "source": [
    "rect_graph.edges"
   ]
  },
  {
   "cell_type": "code",
   "execution_count": 111,
   "metadata": {
    "collapsed": false
   },
   "outputs": [
    {
     "name": "stdout",
     "output_type": "stream",
     "text": [
      "The self.metadata[\"Device_Id\"] variable is 700437\n"
     ]
    }
   ],
   "source": [
    "table=OnePortCalrepModel(os.path.join(TESTS_DIRECTORY,'700437.asc'))\n",
    "rect_graph.set_state(\"n2\",table)"
   ]
  },
  {
   "cell_type": "code",
   "execution_count": 116,
   "metadata": {
    "collapsed": false
   },
   "outputs": [
    {
     "name": "stdout",
     "output_type": "stream",
     "text": [
      "moving n3 -> n1\n"
     ]
    }
   ],
   "source": [
    "rect_graph.move_to_node(\"n1\")"
   ]
  },
  {
   "cell_type": "code",
   "execution_count": 114,
   "metadata": {
    "collapsed": false
   },
   "outputs": [
    {
     "name": "stdout",
     "output_type": "stream",
     "text": [
      "Test.hdf\n"
     ]
    }
   ],
   "source": [
    "print rect_graph.data"
   ]
  },
  {
   "cell_type": "code",
   "execution_count": 8,
   "metadata": {
    "collapsed": true
   },
   "outputs": [],
   "source": [
    "from ipywidgets import *\n"
   ]
  },
  {
   "cell_type": "code",
   "execution_count": 23,
   "metadata": {
    "collapsed": false,
    "scrolled": true
   },
   "outputs": [
    {
     "name": "stdout",
     "output_type": "stream",
     "text": [
      "moving n3 -> n1\n",
      "moving n1 -> n2\n",
      "********************************************************************************\n",
      "AsciiDataTable [0, 1, 0, 0, 0, 0, 0, 0, 0, 0]\n",
      "********************************************************************************\n",
      "Frequency,imS11,imS12,imS13,imS14,imS21,imS22,imS23,imS24,imS31,imS32,imS33,imS34,imS41,imS42,imS43,imS44,reS11,reS12,reS13,reS14,reS21,reS22,reS23,reS24,reS31,reS32,reS33,reS34,reS41,reS42,reS43,reS44\n",
      "1.0,-0.008622,0,0.13116,0,0,0.011407,0,-0.183539,0.13116,0,0.041095,0,0,0.896714,0,-0.001502,-0.002222,0,0.952784,0,0,-0.015465,0,-0.949271,0.952784,0,0.004453,0,0,0.169317,0,0.002838\n",
      "1.1,0.008366,0,-0.962076,0,0,0.03435,0,-0.387847,-0.962076,0,0.001709,0,0,-0.549641,0,0.025274,-0.001188,0,0.145232,0,0,-0.012758,0,0.876401,0.145232,0,0.001075,0,0,0.723761,0,0.034554\n",
      "1.2,-0.00689,0,0.140074,0,0,0.063693,0,-0.810093,0.140074,0,-0.006566,0,0,0.386759,0,0.065747,0.003945,0,0.973279,0,0,0.008635,0,0.49787,0.973279,0,0.050593,0,0,0.825344,0,0.074783\n",
      "1.3,0.004074,0,-0.95789,0,0,0.018874,0,0.95195,-0.95789,0,0.008255,0,0,-0.917421,0,-0.019739,-0.005539,0,0.137618,0,0,0.016611,0,0.044376,0.137618,0,-0.056476,0,0,-0.060348,0,0.036372\n",
      "1.4,-0.00071,0,0.160782,0,0,-0.043452,0,0.759596,0.160782,0,0.005255,0,0,-0.472207,0,-0.037937,0.005938,0,0.943128,0,0,-0.012321,0,0.579086,0.943128,0,0.016079,0,0,0.771395,0,0.020301\n",
      "1.5,-0.00243,0,-0.945235,0,0,-0.055556,0,-0.274175,-0.945235,0,-0.038346,0,0,-0.461446,0,0.002451,-0.004851,0,0.192647,0,0,-0.037199,0,-0.915458,0.192647,0,0.025737,0,0,-0.769378,0,0.060435\n",
      "1.6,0.004581,0,0.210461,0,0,-0.018436,0,0.313367,0.210461,0,-0.017389,0,0,-0.902901,0,0.026681,0.002489,0,0.962741,0,0,-0.035785,0,-0.902641,0.962741,0,-0.057092,0,0,0.053951,0,0.044428\n",
      "1.7,-0.005258,0,-0.968628,0,0,0.008048,0,-0.762043,-0.968628,0,0.006041,0,0,0.38146,0,-0.048433,0.000538,0,0.199133,0,0,0.015067,0,0.566116,0.199133,0,-0.001359,0,0,-0.823912,0,-0.012108\n",
      "1.8,0.00411,0,0.197117,0,0,0.038998,0,-0.938628,0.197117,0,0.064091,0,0,-0.534469,0,-0.037593,-0.003596,0,0.943797,0,0,0.044383,0,0.056608,0.943797,0,0.017892,0,0,-0.729412,0,-0.022724\n",
      "1.9,-0.001388,0,-0.924348,0,0,-0.003499,0,0.810254,-0.924348,0,0.008228,0,0,0.882641,0,-0.030841,0.006018,0,0.224128,0,0,0.05241,0,0.484545,0.224128,0,0.010689,0,0,-0.124192,0,0.034867\n",
      "2.0,-0.002398,0,0.2505,0,0,-0.005537,0,0.377577,0.2505,0,-0.01977,0,0,0.304455,0,0.046888,-0.007043,0,0.925331,0,0,0.015045,0,0.870246,0.925331,0,-0.055937,0,0,-0.829657,0,-0.034203\n",
      "2.1,0.006482,0,-0.935034,0,0,0.008029,0,0.182114,-0.935034,0,0.003101,0,0,0.593777,0,0.006942,0.006323,0,0.259225,0,0,-0.03,0,-0.925372,0.259225,0,0.072881,0,0,0.660814,0,0.007712\n",
      "2.2,-0.010131,0,0.265594,0,0,0.017101,0,0.668441,0.265594,0,-0.010694,0,0,0.864524,0,-0.043175,-0.003569,0,0.938357,0,0,-0.048583,0,-0.65036,0.938357,0,0.012381,0,0,-0.22225,0,-0.006192\n",
      "2.3,0.012373,0,-0.931518,0,0,0.019338,0,-0.907601,-0.931518,0,-0.038893,0,0,-0.213281,0,-0.062713,-0.000961,0,0.27319,0,0,-0.030675,0,0.154594,0.27319,0,0.050603,0,0,0.860889,0,0.050603\n",
      "2.4,-0.012556,0,0.281186,0,0,0.001338,0,-0.840181,0.281186,0,0.040872,0,0,0.652211,0,-0.045712,0.00642,0,0.923112,0,0,-0.000275,0,-0.386252,0.923112,0,-0.08832,0,0,0.594297,0,-0.049233\n",
      "2.5,0.010398,0,-0.916206,0,0,-0.035749,0,0.484728,-0.916206,0,-0.02063,0,0,-0.81256,0,-0.011217,-0.012109,0,0.293744,0,0,0.01958,0,0.799726,0.293744,0,-0.013696,0,0,0.310644,0,-0.001845\n",
      "2.6,-0.006,0,0.303714,0,0,-0.039744,0,-0.074301,0.303714,0,-0.030813,0,0,-0.076828,0,-0.063221,0.01685,0,0.913181,0,0,0.018322,0,0.929307,0.913181,0,0.00048,0,0,0.86427,0,0.001489\n",
      "2.7,-0.000316,0,-0.91073,0,0,-0.010705,0,0.584465,-0.91073,0,-0.010613,0,0,-0.743595,0,0.027098,-0.019812,0,0.315896,0,0,0.021277,0,-0.701329,0.315896,0,0.004464,0,0,-0.469094,0,0.004868\n",
      "2.8,0.007644,0,0.32542,0,0,0.01207,0,0.858198,0.32542,0,0.062882,0,0,-0.781779,0,-0.008298,0.019968,0,0.904158,0,0,0.009807,0,-0.26228,0.904158,0,0.028325,0,0,0.412907,0,-0.068215\n",
      "2.9,-0.014903,0,-0.890956,0,0,0.037023,0,-0.86769,-0.890956,0,0.051375,0,0,0.006163,0,0.052823,-0.016923,0,0.337809,0,0,0.000468,0,-0.242292,0.337809,0,-0.034578,0,0,-0.871285,0,-0.031399\n",
      "3.0,0.021357,0,0.35923,0,0,0.02929,0,-0.583953,0.35923,0,-0.012151,0,0,-0.761777,0,-0.046799,0.011114,0,0.887995,0,0,-0.009217,0,-0.716001,0.887995,0,-0.005378,0,0,-0.404741,0,0.07476\n",
      "3.1,-0.025111,0,-0.883158,0,0,0.012205,0,0.042653,-0.883158,0,-0.071586,0,0,0.711303,0,0.064193,-0.002935,0,0.378313,0,0,-0.018555,0,0.921219,0.378313,0,0.022658,0,0,-0.502292,0,0.040402\n",
      "3.2,0.02619,0,0.39561,0,0,-0.005334,0,-0.475522,0.39561,0,0.025632,0,0,-0.116267,0,0.047399,-0.006237,0,0.888296,0,0,-0.017098,0,0.775218,0.888296,0,0.015818,0,0,-0.873511,0,0.036449\n",
      "3.3,-0.023409,0,-0.888642,0,0,-0.022364,0,0.823606,-0.888642,0,0.002569,0,0,0.826313,0,0.081572,0.014944,0,0.401395,0,0,-0.002071,0,-0.377239,0.401395,0,0.073458,0,0,0.322425,0,-0.073511\n",
      "3.4,0.016931,0,0.405396,0,0,-0.038717,0,0.8962,0.405396,0,0.049374,0,0,0.669356,0,0.038572,-0.02207,0,0.875826,0,0,-0.005431,0,0.166587,0.875826,0,-0.098322,0,0,-0.579022,0,-0.018677\n",
      "3.5,-0.008441,0,-0.870722,0,0,-0.029085,0,-0.626462,-0.870722,0,-0.046757,0,0,0.195314,0,-0.015879,0.026776,0,0.417336,0,0,0.007347,0,-0.67036,0.417336,0,-0.024274,0,0,0.836716,0,-0.109475\n",
      "3.6,-0.000768,0,0.421193,0,0,0.002186,0,-0.143005,0.421193,0,0.06724,0,0,0.838448,0,-0.009014,-0.028204,0,0.868578,0,0,0.019073,0,-0.906038,0.868578,0,-0.002019,0,0,0.214715,0,-0.053776\n",
      "3.7,0.010614,0,-0.853756,0,0,0.034423,0,-0.374488,-0.853756,0,-0.0419,0,0,-0.574885,0,-0.023034,0.025514,0,0.438323,0,0,0.012881,0,0.828181,0.438323,0,0.119202,0,0,0.654283,0,-0.055013\n",
      "3.8,-0.018791,0,0.454524,0,0,0.048336,0,-0.76513,0.454524,0,0.026077,0,0,0.294436,0,0.053586,-0.019956,0,0.853565,0,0,0.014015,0,0.451568,0.853565,0,-0.008139,0,0,0.818049,0,0.031034\n",
      "3.9,0.023494,0,-0.855785,0,0,0.014286,0,0.880248,-0.855785,0,0.077643,0,0,-0.858318,0,-0.009556,0.012321,0,0.454211,0,0,0.011166,0,0.078501,0.454211,0,0.02839,0,0,-0.141142,0,-0.024041\n",
      "4.0,-0.02459,0,0.461369,0,0,-0.013012,0,0.679926,0.461369,0,-0.092719,0,0,-0.524188,0,-0.006961,-0.002905,0,0.842015,0,0,-0.015471,0,0.567929,0.842015,0,0.021404,0,0,0.673727,0,0.008051\n",
      "4.1,0.022104,0,-0.832823,0,0,-0.035243,0,-0.250126,-0.832823,0,-0.115801,0,0,-0.366903,0,-0.08622,-0.005801,0,0.465613,0,0,-0.039491,0,-0.853471,0.465613,0,-0.019549,0,0,-0.760693,0,0.011379\n",
      "4.2,-0.016854,0,0.474511,0,0,-0.015186,0,0.274794,0.474511,0,0.02832,0,0,-0.847679,0,0.040372,0.01291,0,0.832421,0,0,-0.046505,0,-0.844992,0.832421,0,-0.024703,0,0,-0.018069,0,-0.004792\n",
      "4.3,0.009197,0,-0.830295,0,0,0.007255,0,-0.697186,-0.830295,0,0.061236,0,0,0.414522,0,0.000986,-0.017182,0,0.479854,0,0,-0.006059,0,0.539887,0.479854,0,0.022914,0,0,-0.748593,0,0.014455\n",
      "4.4,-0.000275,0,0.488328,0,0,0.005703,0,-0.883286,0.488328,0,-0.049207,0,0,-0.444467,0,0.005141,0.017759,0,0.818999,0,0,0.037181,0,0.059144,0.818999,0,-0.019957,0,0,-0.715274,0,0.03221\n",
      "4.5,-0.007965,0,-0.805415,0,0,-0.001843,0,0.765366,-0.805415,0,0.042379,0,0,0.828652,0,-0.045499,-0.014487,0,0.495995,0,0,0.063166,0,0.449534,0.495995,0,-0.031196,0,0,-0.073076,0,0.094599\n",
      "4.6,0.014258,0,0.511525,0,0,-0.023241,0,0.365119,0.511525,0,0.010263,0,0,0.318878,0,0.018827,0.007992,0,0.793935,0,0,0.045679,0,0.818672,0.793935,0,0.003214,0,0,-0.765485,0,0.077558\n",
      "4.7,-0.017499,0,-0.794715,0,0,-0.006181,0,0.163112,-0.794715,0,-0.050187,0,0,0.546233,0,-0.066429,0.000376,0,0.525671,0,0,-0.025401,0,-0.875859,0.525671,0,0.048976,0,0,0.634083,0,0.076831\n",
      "4.8,0.017215,0,0.536341,0,0,0.031334,0,0.606103,0.536341,0,-0.044373,0,0,0.82467,0,-0.071447,-0.009604,0,0.802534,0,0,-0.060263,0,-0.631421,0.802534,0,0.036504,0,0,-0.200679,0,0.006706\n",
      "4.9,-0.012752,0,-0.799145,0,0,0.055918,0,-0.85796,-0.799145,0,0.014025,0,0,-0.222741,0,-0.010213,0.018049,0,0.541283,0,0,-0.041385,0,0.178091,0.541283,0,-0.085676,0,0,0.81378,0,0.081115\n",
      "5.0,0.005304,0,0.536183,0,0,0.018653,0,-0.807537,0.536183,0,0.059118,0,0,0.60921,0,0.014128,-0.02364,0,0.790283,0,0,-0.000359,0,-0.350413,0.790283,0,-0.02185,0,0,0.572762,0,-0.040819\n",
      "5.1,0.003888,0,-0.782895,0,0,-0.034491,0,0.460419,-0.782895,0,-0.023256,0,0,-0.777865,0,0.033827,0.026046,0,0.53527,0,0,0.040416,0,0.74289,0.53527,0,-0.041756,0,0,0.271579,0,-0.068788\n",
      "5.2,-0.01468,0,0.553825,0,0,-0.074791,0,-0.037584,0.553825,0,0.001191,0,0,-0.121141,0,-0.057084,-0.024625,0,0.769268,0,0,0.018412,0,0.872503,0.769268,0,0.042346,0,0,0.821926,0,-0.044687\n",
      "5.3,0.02432,0,-0.764613,0,0,-0.041211,0,0.531792,-0.764613,0,0.041598,0,0,-0.671227,0,-0.025287,0.019164,0,0.571801,0,0,-0.012164,0,-0.691877,0.571801,0,-0.016036,0,0,-0.488608,0,0.036046\n",
      "5.4,-0.030622,0,0.575558,0,0,0.015303,0,0.834352,0.575558,0,0.039192,0,0,-0.74193,0,-0.022781,-0.010735,0,0.760777,0,0,-0.031435,0,-0.269231,0.760777,0,0.104821,0,0,0.371627,0,0.000454\n",
      "5.5,0.033645,0,-0.766071,0,0,0.061989,0,-0.841628,-0.766071,0,-0.014954,0,0,0.029179,0,-0.022302,0.000776,0,0.58081,0,0,0.021252,0,-0.243611,0.58081,0,-0.022664,0,0,-0.828934,0,-0.036609\n",
      "5.6,-0.032139,0,0.586842,0,0,0.058678,0,-0.539334,0.586842,0,-0.087292,0,0,-0.719055,0,-0.093761,0.010261,0,0.757678,0,0,0.040106,0,-0.67124,0.757678,0,-0.060817,0,0,-0.398957,0,-0.068985\n",
      "5.7,0.026776,0,-0.754307,0,0,-0.00679,0,0.069107,-0.754307,0,0.053867,0,0,0.698728,0,0.005872,-0.020546,0,0.598894,0,0,0.018981,0,0.862279,0.598894,0,0.020444,0,0,-0.46429,0,-0.067463\n",
      "5.8,-0.017661,0,0.600464,0,0,-0.033868,0,-0.420947,0.600464,0,-0.051702,0,0,-0.059381,0,-0.019736,0.027144,0,0.741003,0,0,-0.023304,0,0.755702,0.741003,0,0.034681,0,0,-0.831218,0,-0.059777\n",
      "5.9,0.006393,0,-0.727912,0,0,-0.03092,0,0.770572,-0.727912,0,0.083581,0,0,0.75124,0,-0.024875,-0.030139,0,0.614127,0,0,-0.057447,0,-0.387903,0.614127,0,-0.029586,0,0,0.343568,0,-0.075987\n",
      "6.0,0.00483,0,0.629342,0,0,0.002301,0,0.855058,0.629342,0,0.026082,0,0,0.638567,0,-0.096479,0.028909,0,0.719173,0,0,-0.034575,0,0.144891,0.719173,0,0.017593,0,0,-0.507915,0,0.016216\n",
      "6.1,-0.0142,0,-0.708669,0,0,0.010092,0,-0.618182,-0.708669,0,-0.101705,0,0,0.177865,0,-0.029851,-0.023151,0,0.639604,0,0,0.015729,0,-0.611258,0.639604,0,0.023548,0,0,0.811647,0,-0.030693\n",
      "6.2,0.02011,0,0.650403,0,0,-0.014033,0,-0.177537,0.650403,0,0.003776,0,0,0.788444,0,0.054782,0.014256,0,0.6979,0,0,0.039358,0,-0.847309,0.6979,0,0.005059,0,0,0.23911,0,-0.006064\n",
      "6.3,-0.021937,0,-0.692463,0,0,-0.012063,0,-0.32363,-0.692463,0,0.031281,0,0,-0.583472,0,-0.009785,-0.004082,0,0.660965,0,0,0.044397,0,0.802535,0.660965,0,-0.01702,0,0,0.58647,0,0.013632\n",
      "6.4,0.019514,0,0.669222,0,0,0.008828,0,-0.728188,0.669222,0,-0.052215,0,0,0.259833,0,-0.05233,-0.005651,0,0.694616,0,0,0.012207,0,0.460864,0.694616,0,-0.016984,0,0,0.785027,0,0.046229\n",
      "6.5,-0.013096,0,-0.693346,0,0,0.024383,0,0.86846,-0.693346,0,0.005738,0,0,-0.809176,0,-0.033595,0.013316,0,0.672615,0,0,-0.014681,0,0.031587,0.672615,0,0.005704,0,0,-0.121974,0,0.06032\n",
      "6.6,0.003894,0,0.670657,0,0,0.02658,0,0.711052,0.670657,0,0.049088,0,0,-0.484781,0,-0.010402,-0.017423,0,0.68581,0,0,-0.013699,0,0.503162,0.68581,0,-0.042752,0,0,0.656019,0,0.074425\n",
      "6.7,0.00635,0,-0.672558,0,0,-0.000481,0,-0.289126,-0.672558,0,0.032546,0,0,-0.362363,0,-0.005525,0.01723,0,0.674604,0,0,-0.029806,0,-0.815431,0.674604,0,0.026372,0,0,-0.736981,0,0.055403\n",
      "6.8,-0.015766,0,0.683762,0,0,-0.015225,0,0.237061,0.683762,0,-0.050066,0,0,-0.815571,0,0.090594,-0.012276,0,0.652673,0,0,-0.029526,0,-0.819527,0.652673,0,0.09529,0,0,-0.03326,0,0.067949\n",
      "6.9,0.02265,0,-0.642891,0,0,-0.019692,0,-0.650302,-0.642891,0,-0.04628,0,0,0.405546,0,0.098746,0.003459,0,0.704766,0,0,-0.017881,0,0.54529,0.704766,0,-0.102769,0,0,-0.702349,0,0.079137\n",
      "7.0,-0.025932,0,0.718759,0,0,-0.004362,0,-0.848088,0.718759,0,0.015788,0,0,-0.426587,0,0.064578,0.007287,0,0.652476,0,0,0.018716,0,0.092413,0.652476,0,0.019267,0,0,-0.694375,0,0.006\n",
      "7.1,0.023879,0,-0.656405,0,0,-0.011232,0,0.749507,-0.656405,0,0.0714,0,0,0.817833,0,0.048139,-0.018049,0,0.711103,0,0,0.061212,0,0.404771,0.711103,0,0.063226,0,0,-0.059647,0,0.011065\n",
      "7.2,-0.016577,0,0.710952,0,0,-0.01388,0,0.38841,0.710952,0,-0.09655,0,0,0.318754,0,0.028561,0.027775,0,0.641534,0,0,0.042442,0,0.763291,0.641534,0,-0.050364,0,0,-0.748152,0,0.034556\n",
      "7.3,0.005575,0,-0.632681,0,0,-0.009944,0,0.117858,-0.632681,0,0.045047,0,0,0.518574,0,-0.028002,-0.034341,0,0.714018,0,0,-0.018591,0,-0.849139,0.714018,0,-0.064492,0,0,0.620943,0,-0.000312\n",
      "7.4,0.008069,0,0.723012,0,0,0.033064,0,0.565894,0.723012,0,0.058723,0,0,0.787666,0,-0.070709,0.036677,0,0.62603,0,0,-0.056487,0,-0.628536,0.62603,0,0.058892,0,0,-0.180148,0,-0.036248\n",
      "7.5,-0.022061,0,-0.625317,0,0,0.068846,0,-0.813632,-0.625317,0,-0.057967,0,0,-0.226489,0,-0.041061,-0.033962,0,0.7298,0,0,-0.031502,0,0.198773,0.7298,0,0.139229,0,0,0.788573,0,0.002925\n",
      "7.6,0.034219,0,0.733332,0,0,0.025429,0,-0.791366,0.733332,0,-0.107502,0,0,0.575661,0,-0.028796,0.026095,0,0.620954,0,0,0.017244,0,-0.291403,0.620954,0,-0.087432,0,0,0.56569,0,0.020783\n",
      "7.7,-0.041547,0,-0.599449,0,0,-0.046775,0,0.488988,-0.599449,0,0.132991,0,0,-0.758379,0,-0.070171,-0.012594,0,0.730788,0,0,0.034271,0,0.692158,0.730788,0,-0.091233,0,0,0.248657,0,-0.011521\n",
      "7.8,0.044586,0,0.743562,0,0,-0.08626,0,0.012764,0.743562,0,-0.06648,0,0,-0.134076,0,-0.103054,-0.004196,0,0.581072,0,0,0.009527,0,0.84231,0.581072,0,0.099354,0,0,0.775758,0,-0.020129\n",
      "7.9,-0.042385,0,-0.572319,0,0,-0.044854,0,0.473326,-0.572319,0,-0.061932,0,0,-0.637309,0,-0.077062,0.020706,0,0.759616,0,0,-0.039059,0,-0.697913,0.759616,0,-0.0647,0,0,-0.477522,0,0.004338\n",
      "8.0,0.034727,0,0.774451,0,0,0.028517,0,0.787925,0.774451,0,0.061225,0,0,-0.725442,0,-0.046125,-0.035032,0,0.571605,0,0,-0.02749,0,-0.290052,0.571605,0,-0.057632,0,0,0.353678,0,0.012772\n",
      "8.1,-0.021634,0,-0.566166,0,0,0.080655,0,-0.799644,-0.566166,0,0.081138,0,0,0.025181,0,-0.07142,0.044809,0,0.780903,0,0,0.031127,0,-0.215444,0.780903,0,0.098856,0,0,-0.815002,0,-0.025808\n",
      "8.2,0.005877,0,0.783507,0,0,0.056066,0,-0.542345,0.783507,0,-0.068611,0,0,-0.695512,0,-0.079143,-0.049375,0,0.565893,0,0,0.075623,0,-0.625946,0.565893,0,-0.014124,0,0,-0.418708,0,0.011905\n",
      "8.3,0.010817,0,-0.552276,0,0,-0.015762,0,0.099533,-0.552276,0,0.01885,0,0,0.682062,0,-0.051438,0.047095,0,0.782684,0,0,0.037811,0,0.826061,0.782684,0,-0.04356,0,0,-0.429488,0,0.055863\n",
      "8.4,-0.025668,0,0.789659,0,0,-0.056699,0,-0.386337,0.789659,0,-0.009015,0,0,-0.062993,0,0.06056,-0.039122,0,0.540428,0,0,-0.053344,0,0.739151,0.540428,0,-0.053109,0,0,-0.799666,0,0.037056\n",
      "8.5,0.036583,0,-0.525573,0,0,-0.019669,0,0.740267,-0.525573,0,0.007734,0,0,0.738489,0,0.008908,0.026477,0,0.799331,0,0,-0.091928,0,-0.395714,0.799331,0,0.107488,0,0,0.322964,0,0.02858\n",
      "8.6,-0.041256,0,0.801621,0,0,0.017013,0,0.840459,0.801621,0,0.02306,0,0,0.635393,0,0.023825,-0.011679,0,0.526148,0,0,-0.061996,0,0.075078,0.526148,0,-0.044065,0,0,-0.487638,0,-0.02607\n",
      "8.7,0.039368,0,-0.511725,0,0,0.02947,0,-0.651078,-0.511725,0,0.071391,0,0,0.139532,0,0.093255,-0.004318,0,0.800284,0,0,0.03031,0,-0.537707,0.800284,0,-0.031392,0,0,0.775198,0,0.034157\n",
      "8.8,-0.032652,0,0.817359,0,0,-0.025771,0,-0.214955,0.817359,0,0.037871,0,0,0.75546,0,0.110009,0.019069,0,0.499245,0,0,0.078277,0,-0.811591,0.499245,0,0.053614,0,0,0.236947,0,-0.042476\n",
      "8.9,0.021023,0,-0.4938,0,0,-0.046082,0,-0.294885,-0.4938,0,-0.095782,0,0,-0.560555,0,0.06453,-0.029184,0,0.827264,0,0,0.065186,0,0.783071,0.827264,0,0.066489,0,0,0.575405,0,-0.047066\n",
      "9.0,-0.007558,0,0.824077,0,0,-0.02042,0,-0.679037,0.824077,0,-0.036881,0,0,0.245946,0,0.014412,0.033355,0,0.504234,0,0,0.013259,0,0.49548,0.504234,0,-0.045403,0,0,0.75684,0,-0.040782\n",
      "9.1,-0.007279,0,-0.494831,0,0,0.0217,0,0.839915,-0.494831,0,0.094118,0,0,-0.782839,0,0.075841,-0.031439,0,0.815727,0,0,-0.037422,0,-0.022268,0.815727,0,0.060367,0,0,-0.143759,0,0.024731\n",
      "9.2,0.021092,0,0.822754,0,0,0.075833,0,0.686662,0.822754,0,-0.074854,0,0,-0.487627,0,0.114759,0.023799,0,0.46703,0,0,-0.041616,0,0.478256,0.46703,0,0.044698,0,0,0.612174,0,0.002511\n",
      "9.3,-0.030633,0,-0.441194,0,0,0.050533,0,-0.286597,-0.441194,0,-0.06875,0,0,-0.316425,0,0.078193,-0.011243,0,0.839319,0,0,-0.012929,0,-0.782682,0.839319,0,-0.088123,0,0,-0.7218,0,-0.016506\n",
      "9.4,0.034443,0,0.855904,0,0,-0.00519,0,0.197888,0.855904,0,0.053238,0,0,-0.787316,0,-0.012059,-0.003071,0,0.435499,0,0,0.007243,0,-0.805174,0.435499,0,-0.079543,0,0,-0.062765,0,-0.029557\n",
      "9.5,-0.032161,0,-0.438833,0,0,-0.054702,0,-0.613042,-0.438833,0,-0.045116,0,0,0.440217,0,0.050799,0.017197,0,0.863651,0,0,-0.006118,0,0.544913,0.863651,0,0.10708,0,0,-0.662974,0,0.016747\n",
      "9.6,0.024148,0,0.86013,0,0,-0.05107,0,-0.822945,0.86013,0,-0.0524,0,0,-0.385292,0,-0.004938,-0.028846,0,0.434192,0,0,-0.01164,0,0.078397,0.434192,0,0.004912,0,0,-0.688391,0,0.024419\n",
      "9.7,-0.010116,0,-0.400699,0,0,-0.032342,0,0.720874,-0.400699,0,0.015527,0,0,0.794349,0,-0.010116,0.036684,0,0.861175,0,0,-0.0058,0,0.403824,0.861175,0,-0.17313,0,0,-0.027376,0,-0.016158\n",
      "9.8,-0.004705,0,0.875277,0,0,0.005968,0,0.39156,0.875277,0,0.154893,0,0,0.347259,0,-0.061593,-0.03919,0,0.386173,0,0,0.011709,0,0.726012,0.386173,0,0.012535,0,0,-0.705818,0,0.041688\n",
      "9.9,0.018962,0,-0.380381,0,0,0.032492,0,0.07625,-0.380381,0,-0.121494,0,0,0.453311,0,-0.046315,0.035521,0,0.886082,0,0,0.035079,0,-0.821936,0.886082,0,0.059287,0,0,0.649583,0,0.050909\n",
      "10.0,-0.030459,0,0.8857,0,0,0.039974,0,0.558251,0.8857,0,-0.020634,0,0,0.774518,0,-0.092072,-0.026464,0,0.371891,0,0,0.019012,0,-0.61104,0.371891,0,-0.119878,0,0,-0.102843,0,0.072444\n"
     ]
    }
   ],
   "source": [
    "def move_and_print(end_node_number):\n",
    "    node=rect_graph.node_names[end_node_number]\n",
    "    rect_graph.move_to_node(node)\n",
    "    print(\"*\"*80)\n",
    "    print(\"{0}\".format(rect_graph.node_descriptions[end_node_number])+\" {0}\".format(rect_graph.state))\n",
    "    print(\"*\"*80)\n",
    "    print rect_graph.data\n",
    "    \n",
    "interact(move_and_print,end_node_number=(0,len(rect_graph.node_names)-1,1))"
   ]
  },
  {
   "cell_type": "code",
   "execution_count": 140,
   "metadata": {
    "collapsed": true
   },
   "outputs": [],
   "source": [
    "json=data_frame.to_json(\"test.json\",orient='records')"
   ]
  },
  {
   "cell_type": "code",
   "execution_count": 153,
   "metadata": {
    "collapsed": true
   },
   "outputs": [],
   "source": [
    "json_string=data_frame.to_json(orient='records')"
   ]
  },
  {
   "cell_type": "code",
   "execution_count": 155,
   "metadata": {
    "collapsed": false
   },
   "outputs": [],
   "source": [
    "new_df=pandas.read_json(json_string,orient='records')"
   ]
  },
  {
   "cell_type": "code",
   "execution_count": 141,
   "metadata": {
    "collapsed": false
   },
   "outputs": [],
   "source": [
    "new_df=pandas.read_json(\"test.json\",orient='records')"
   ]
  },
  {
   "cell_type": "code",
   "execution_count": 152,
   "metadata": {
    "collapsed": false
   },
   "outputs": [],
   "source": [
    "#str(table.get_data_dictionary_list())\n",
    "json"
   ]
  },
  {
   "cell_type": "code",
   "execution_count": 43,
   "metadata": {
    "collapsed": false
   },
   "outputs": [
    {
     "data": {
      "text/plain": [
       "['Pandas Data Frame',\n",
       " 'AsciiDataTable',\n",
       " 'HDF File',\n",
       " 'XML Data Table',\n",
       " 'Excel File',\n",
       " 'HTML String',\n",
       " 'JSON File',\n",
       " 'JSON String',\n",
       " 'CSV File',\n",
       " 'Matlab File']"
      ]
     },
     "execution_count": 43,
     "metadata": {},
     "output_type": "execute_result"
    }
   ],
   "source": [
    "rect_graph.node_descriptions\n"
   ]
  },
  {
   "cell_type": "code",
   "execution_count": 161,
   "metadata": {
    "collapsed": false
   },
   "outputs": [],
   "source": [
    "import json\n",
    "test_list=json.load(open(\"test.json\",'r'))"
   ]
  },
  {
   "cell_type": "code",
   "execution_count": 166,
   "metadata": {
    "collapsed": false
   },
   "outputs": [],
   "source": [
    "text_xml=DataTable(None,**{\"data_dictionary\":{\"data\":test_list}})"
   ]
  },
  {
   "cell_type": "code",
   "execution_count": 181,
   "metadata": {
    "collapsed": false
   },
   "outputs": [],
   "source": [
    "#print text_xml"
   ]
  },
  {
   "cell_type": "code",
   "execution_count": 182,
   "metadata": {
    "collapsed": false
   },
   "outputs": [
    {
     "data": {
      "text/plain": [
       "['edge_n1_n2_000',\n",
       " 'edge_n2_n1_000',\n",
       " 'edge_n3_n1_000',\n",
       " 'edge_n1_n3_000',\n",
       " 'edge_n4_n2_000',\n",
       " 'edge_n2_n4_000',\n",
       " 'edge_n5_n1_000',\n",
       " 'edge_n1_n5_000',\n",
       " 'edge_n6_n1_000',\n",
       " 'edge_n1_n6_000',\n",
       " 'edge_n7_n1_000',\n",
       " 'edge_n1_n7_000',\n",
       " 'edge_n8_n1_000',\n",
       " 'edge_n1_n8_000',\n",
       " 'edge_n7_n4_000']"
      ]
     },
     "execution_count": 182,
     "metadata": {},
     "output_type": "execute_result"
    }
   ],
   "source": [
    "rect_graph.edges"
   ]
  },
  {
   "cell_type": "code",
   "execution_count": 184,
   "metadata": {
    "collapsed": false
   },
   "outputs": [
    {
     "name": "stdout",
     "output_type": "stream",
     "text": [
      "moving n7 -> n1\n",
      "moving n1 -> n7\n"
     ]
    }
   ],
   "source": [
    "rect_graph.move_to_node(\"n7\")"
   ]
  },
  {
   "cell_type": "code",
   "execution_count": 185,
   "metadata": {
    "collapsed": false
   },
   "outputs": [
    {
     "name": "stdout",
     "output_type": "stream",
     "text": [
      "moving n7 -> n4\n"
     ]
    }
   ],
   "source": [
    "rect_graph.move_to_node(\"n4\")"
   ]
  },
  {
   "cell_type": "code",
   "execution_count": 189,
   "metadata": {
    "collapsed": false
   },
   "outputs": [],
   "source": [
    "#print rect_graph.data"
   ]
  },
  {
   "cell_type": "code",
   "execution_count": 10,
   "metadata": {
    "collapsed": true
   },
   "outputs": [],
   "source": [
    "from scipy.io import savemat,loadmat"
   ]
  },
  {
   "cell_type": "code",
   "execution_count": 11,
   "metadata": {
    "collapsed": false
   },
   "outputs": [],
   "source": [
    "savemat(\"data.mat\",{\"data\":table.data,\"column_names\":table.column_names})"
   ]
  },
  {
   "cell_type": "code",
   "execution_count": 12,
   "metadata": {
    "collapsed": false
   },
   "outputs": [],
   "source": [
    "data=loadmat(\"data.mat\")"
   ]
  },
  {
   "cell_type": "code",
   "execution_count": 13,
   "metadata": {
    "collapsed": false
   },
   "outputs": [],
   "source": [
    "new_table=AsciiDataTable(None,column_names=map(lambda x: x.rstrip().lstrip(),data[\"column_names\"].tolist()),\n",
    "                         data=data[\"data\"].tolist())"
   ]
  },
  {
   "cell_type": "code",
   "execution_count": 26,
   "metadata": {
    "collapsed": false
   },
   "outputs": [
    {
     "name": "stdout",
     "output_type": "stream",
     "text": [
      "moving n10 -> n2\n",
      "moving n2 -> n4\n"
     ]
    }
   ],
   "source": [
    "rect_graph.move_to_node(\"n4\")\n",
    "xml=rect_graph.data"
   ]
  },
  {
   "cell_type": "code",
   "execution_count": 34,
   "metadata": {
    "collapsed": true
   },
   "outputs": [],
   "source": [
    "import sqlite3\n",
    "import odo"
   ]
  },
  {
   "cell_type": "code",
   "execution_count": 39,
   "metadata": {
    "collapsed": false
   },
   "outputs": [
    {
     "data": {
      "text/plain": [
       "dtype('float64')"
      ]
     },
     "execution_count": 39,
     "metadata": {},
     "output_type": "execute_result"
    }
   ],
   "source": [
    "data_frame.dtypes[0]"
   ]
  },
  {
   "cell_type": "code",
   "execution_count": 42,
   "metadata": {
    "collapsed": false
   },
   "outputs": [
    {
     "ename": "OperationalError",
     "evalue": "near \"data\": syntax error",
     "output_type": "error",
     "traceback": [
      "\u001b[1;31m---------------------------------------------------------------------------\u001b[0m",
      "\u001b[1;31mOperationalError\u001b[0m                          Traceback (most recent call last)",
      "\u001b[1;32m<ipython-input-42-ad10e84d143b>\u001b[0m in \u001b[0;36m<module>\u001b[1;34m()\u001b[0m\n\u001b[0;32m      1\u001b[0m \u001b[0mconn\u001b[0m \u001b[1;33m=\u001b[0m \u001b[0msqlite3\u001b[0m\u001b[1;33m.\u001b[0m\u001b[0mconnect\u001b[0m\u001b[1;33m(\u001b[0m\u001b[1;34m\"test.db\"\u001b[0m\u001b[1;33m)\u001b[0m\u001b[1;33m\u001b[0m\u001b[0m\n\u001b[1;32m----> 2\u001b[1;33m \u001b[0mconn\u001b[0m\u001b[1;33m.\u001b[0m\u001b[0mexecute\u001b[0m\u001b[1;33m(\u001b[0m\u001b[1;34m\"create table data\"\u001b[0m\u001b[1;33m)\u001b[0m\u001b[1;33m\u001b[0m\u001b[0m\n\u001b[0m\u001b[0;32m      3\u001b[0m \u001b[0modo\u001b[0m\u001b[1;33m.\u001b[0m\u001b[0modo\u001b[0m\u001b[1;33m(\u001b[0m\u001b[0mdata_frame\u001b[0m\u001b[1;33m,\u001b[0m\u001b[1;34m'sqlite:///test.db::data'\u001b[0m\u001b[1;33m)\u001b[0m\u001b[1;33m\u001b[0m\u001b[0m\n",
      "\u001b[1;31mOperationalError\u001b[0m: near \"data\": syntax error"
     ]
    }
   ],
   "source": [
    "conn = sqlite3.connect(\"test.db\")\n",
    "conn.execute(\"create table data\")\n",
    "odo.odo(data_frame,'sqlite:///test.db::data')"
   ]
  },
  {
   "cell_type": "code",
   "execution_count": null,
   "metadata": {
    "collapsed": true
   },
   "outputs": [],
   "source": []
  }
 ],
 "metadata": {
  "kernelspec": {
   "display_name": "Python 2",
   "language": "python",
   "name": "python2"
  },
  "language_info": {
   "codemirror_mode": {
    "name": "ipython",
    "version": 2
   },
   "file_extension": ".py",
   "mimetype": "text/x-python",
   "name": "python",
   "nbconvert_exporter": "python",
   "pygments_lexer": "ipython2",
   "version": "2.7.12"
  }
 },
 "nbformat": 4,
 "nbformat_minor": 0
}
