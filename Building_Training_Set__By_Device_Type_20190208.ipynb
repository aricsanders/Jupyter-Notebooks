{
 "cells": [
  {
   "cell_type": "markdown",
   "metadata": {},
   "source": [
    "# Creating A Training Set From s2p data\n"
   ]
  },
  {
   "cell_type": "markdown",
   "metadata": {},
   "source": [
    "## Import pyMez and pyMez.Code.Analysis.SParameter  "
   ]
  },
  {
   "cell_type": "code",
   "execution_count": 1,
   "metadata": {
    "collapsed": false,
    "scrolled": true
   },
   "outputs": [
    {
     "name": "stdout",
     "output_type": "stream",
     "text": [
      "Importing pyMez, this should take roughly 30 seconds\n",
      "Importing Code.DataHandlers.GeneralModels\n",
      "It took 4.591 s to import Code.DataHandlers.GeneralModels\n",
      "Importing Code.DataHandlers.HTMLModels\n",
      "It took 0.653 s to import Code.DataHandlers.HTMLModels\n",
      "Importing Code.DataHandlers.NISTModels\n",
      "It took 13.81 s to import Code.DataHandlers.NISTModels\n",
      "Importing Code.DataHandlers.TouchstoneModels\n",
      "It took 0.017 s to import Code.DataHandlers.TouchstoneModels\n",
      "Importing Code.DataHandlers.XMLModels\n",
      "It took 0.495 s to import Code.DataHandlers.XMLModels\n",
      "Importing Code.DataHandlers.ZipModels\n",
      "It took 0.04 s to import Code.DataHandlers.ZipModels\n",
      "Importing Code.InstrumentControl.Experiments\n",
      "It took 2.344 s to import Code.InstrumentControl.Experiments\n",
      "Importing Code.InstrumentControl.Instruments\n",
      "It took 0.129 s to import Code.InstrumentControl.Instruments\n",
      "Importing Code.Utils.Names\n",
      "It took 0.013 s to import Code.Utils.Names\n",
      "It took 22.093 s to import all of the active modules\n"
     ]
    }
   ],
   "source": [
    "import os\n",
    "from pyMez import *\n",
    "from pyMez.Code.Analysis.SParameter import *\n",
    "from pyMez.Code.DataHandlers.NISTModels import *\n",
    "from pyMez.Code.DataHandlers.Translations import *\n",
    "import sys\n",
    "sys.path.insert(0, '..')\n",
    "#from Machine_Learning import *\n",
    "from sklearn.discriminant_analysis import QuadraticDiscriminantAnalysis\n"
   ]
  },
  {
   "cell_type": "code",
   "execution_count": 148,
   "metadata": {
    "collapsed": false
   },
   "outputs": [
    {
     "name": "stderr",
     "output_type": "stream",
     "text": [
      "C:\\ProgramData\\Anaconda2\\lib\\site-packages\\sklearn\\ensemble\\weight_boosting.py:29: DeprecationWarning: numpy.core.umath_tests is an internal NumPy module and should not be imported. It will be removed in a future NumPy release.\n",
      "  from numpy.core.umath_tests import inner1d\n"
     ]
    }
   ],
   "source": [
    "from sklearn.discriminant_analysis import QuadraticDiscriminantAnalysis\n",
    "from sklearn.naive_bayes import GaussianNB, BernoulliNB, MultinomialNB\n",
    "from sklearn.tree import DecisionTreeClassifier\n",
    "from sklearn.ensemble import RandomForestClassifier\n",
    "from sklearn.linear_model import RidgeClassifier, SGDClassifier, PassiveAggressiveClassifier, Perceptron\n",
    "from sklearn.svm import SVC\n",
    "classifier_dict = {\"QDA\": QuadraticDiscriminantAnalysis,\n",
    "                   \"Bernoulli Naive Bayes\": BernoulliNB,\n",
    "                   \"Decision Tree\": DecisionTreeClassifier,\n",
    "                   \"Random Forest\": RandomForestClassifier,\n",
    "                   \"Ridge\": RidgeClassifier,\n",
    "                   \"SGD\": SGDClassifier,\n",
    "                   \"Passive Aggressive\": PassiveAggressiveClassifier,\n",
    "                   \"Perceptron\": Perceptron}"
   ]
  },
  {
   "cell_type": "markdown",
   "metadata": {},
   "source": [
    "## Define the files to be imported"
   ]
  },
  {
   "cell_type": "code",
   "execution_count": 78,
   "metadata": {
    "collapsed": true
   },
   "outputs": [],
   "source": [
    "# A little different way of doing it \n",
    "# Read all the folders and create a dictionary\n",
    "pretrain_folder=r\"C:\\Share\\Scattering Parameter ML Training Set\\TypeN_20190208\\PreTrain\"\n",
    "pretrain_folders=os.listdir(pretrain_folder)\n",
    "device_type_dictionary={index:value for index,value in enumerate(pretrain_folders)}\n",
    "device_type_dictionary_inverse={value:index for index,value in enumerate(pretrain_folders)}\n",
    "pretrain_folders=map(lambda x:os.path.join(pretrain_folder,x),pretrain_folders)"
   ]
  },
  {
   "cell_type": "code",
   "execution_count": 58,
   "metadata": {
    "collapsed": false
   },
   "outputs": [
    {
     "name": "stdout",
     "output_type": "stream",
     "text": [
      "{0: 'Load', 1: 'Load_Position_10', 2: 'Load_Position_4', 3: 'Load_Position_5', 4: 'Load_Position_6', 5: 'Load_Position_7', 6: 'Load_Position_8', 7: 'Load_Position_9', 8: 'Open', 9: 'Open_Position_4', 10: 'Open_Position_5', 11: 'Open_Position_6', 12: 'Open_Position_7', 13: 'Short', 14: 'Short_Position_10', 15: 'Short_Position_4', 16: 'Short_Position_5', 17: 'Short_Position_6', 18: 'Short_Position_7', 19: 'Short_Position_8', 20: 'Short_Position_9', 21: 'Thru', 22: 'Thru_Position_10', 23: 'Thru_Position_4', 24: 'Thru_Position_5', 25: 'Thru_Position_6', 26: 'Thru_Position_7', 27: 'Thru_Position_8', 28: 'Thru_Position_9'}\n"
     ]
    }
   ],
   "source": [
    "print(device_type_dictionary)"
   ]
  },
  {
   "cell_type": "code",
   "execution_count": 118,
   "metadata": {
    "collapsed": false
   },
   "outputs": [],
   "source": [
    "def create_s2p_training_set(pretrain_folder,number_training_sets=1000,expansion_factor=1.0):\n",
    "    \"\"\"Given a directory containing multiple measurements this creates a list of np.arrays to \n",
    "    train a classifier\"\"\"\n",
    "    pretrain_files=os.listdir(pretrain_folder)\n",
    "    #print(\"The number of pretrain files is {0}, \\nthe pretrain folder is {1}\".format(len(pretrain_files), pretrain_folder))\n",
    "    pretrain_files=map(lambda x:os.path.join(pretrain_folder,x),pretrain_files)\n",
    "    # now open the files convert them to AsciiData Tables and find the mean and standard deviation\n",
    "    first_file=Snp_to_AsciiDataTable(SNP(pretrain_files[0]))\n",
    "    joined_file=first_file.copy()\n",
    "    for file_name in pretrain_files[1:]:\n",
    "        joined_file=joined_file+Snp_to_AsciiDataTable(SNP(file_name))\n",
    "    mean_file=frequency_model_collapse_multiple_measurements(joined_file)\n",
    "    std_file=frequency_model_collapse_multiple_measurements(joined_file,method=\"std\")\n",
    "    mean_array=AsciiDataTable_to_NumpyArray(mean_file,exclude_columns=\"Frequency\")\n",
    "    std_array=AsciiDataTable_to_NumpyArray(std_file,exclude_columns=\"Frequency\")\n",
    "    \n",
    "    training_arrays=np.array([np.random.normal(loc=mean_value,scale=expansion_factor*std_array[index],\n",
    "                                               size=number_training_sets) for index,\n",
    "                              mean_value in enumerate(mean_array)])\n",
    "\n",
    "    training_arrays=[[training_arrays[i][j] \n",
    "                      for i in range(len(mean_array))] for j in range(number_training_sets)]\n",
    "    return training_arrays\n",
    "\n",
    "def percent_correct(target_list,prediction_list):\n",
    "    \"\"\"Calculates the number of correct predictions\"\"\"\n",
    "    number_correct=0\n",
    "    for index,value in enumerate(target_list):\n",
    "        if prediction_list[index]==value:\n",
    "            number_correct+=1\n",
    "    return 100*float(number_correct)/float(len(target_list))\n",
    "\n",
    "\n"
   ]
  },
  {
   "cell_type": "code",
   "execution_count": 37,
   "metadata": {
    "collapsed": false
   },
   "outputs": [
    {
     "data": {
      "text/plain": [
       "['C:\\\\Share\\\\Scattering Parameter ML Training Set\\\\TypeN_20190208\\\\PreTrain\\\\Load',\n",
       " 'C:\\\\Share\\\\Scattering Parameter ML Training Set\\\\TypeN_20190208\\\\PreTrain\\\\Load_Position_10',\n",
       " 'C:\\\\Share\\\\Scattering Parameter ML Training Set\\\\TypeN_20190208\\\\PreTrain\\\\Load_Position_4',\n",
       " 'C:\\\\Share\\\\Scattering Parameter ML Training Set\\\\TypeN_20190208\\\\PreTrain\\\\Load_Position_5',\n",
       " 'C:\\\\Share\\\\Scattering Parameter ML Training Set\\\\TypeN_20190208\\\\PreTrain\\\\Load_Position_6',\n",
       " 'C:\\\\Share\\\\Scattering Parameter ML Training Set\\\\TypeN_20190208\\\\PreTrain\\\\Load_Position_7',\n",
       " 'C:\\\\Share\\\\Scattering Parameter ML Training Set\\\\TypeN_20190208\\\\PreTrain\\\\Load_Position_8',\n",
       " 'C:\\\\Share\\\\Scattering Parameter ML Training Set\\\\TypeN_20190208\\\\PreTrain\\\\Load_Position_9',\n",
       " 'C:\\\\Share\\\\Scattering Parameter ML Training Set\\\\TypeN_20190208\\\\PreTrain\\\\Open',\n",
       " 'C:\\\\Share\\\\Scattering Parameter ML Training Set\\\\TypeN_20190208\\\\PreTrain\\\\Open_Position_4',\n",
       " 'C:\\\\Share\\\\Scattering Parameter ML Training Set\\\\TypeN_20190208\\\\PreTrain\\\\Open_Position_5',\n",
       " 'C:\\\\Share\\\\Scattering Parameter ML Training Set\\\\TypeN_20190208\\\\PreTrain\\\\Open_Position_6',\n",
       " 'C:\\\\Share\\\\Scattering Parameter ML Training Set\\\\TypeN_20190208\\\\PreTrain\\\\Open_Position_7',\n",
       " 'C:\\\\Share\\\\Scattering Parameter ML Training Set\\\\TypeN_20190208\\\\PreTrain\\\\Open_Position_8',\n",
       " 'C:\\\\Share\\\\Scattering Parameter ML Training Set\\\\TypeN_20190208\\\\PreTrain\\\\Short',\n",
       " 'C:\\\\Share\\\\Scattering Parameter ML Training Set\\\\TypeN_20190208\\\\PreTrain\\\\Short_Position_10',\n",
       " 'C:\\\\Share\\\\Scattering Parameter ML Training Set\\\\TypeN_20190208\\\\PreTrain\\\\Short_Position_4',\n",
       " 'C:\\\\Share\\\\Scattering Parameter ML Training Set\\\\TypeN_20190208\\\\PreTrain\\\\Short_Position_5',\n",
       " 'C:\\\\Share\\\\Scattering Parameter ML Training Set\\\\TypeN_20190208\\\\PreTrain\\\\Short_Position_6',\n",
       " 'C:\\\\Share\\\\Scattering Parameter ML Training Set\\\\TypeN_20190208\\\\PreTrain\\\\Short_Position_7',\n",
       " 'C:\\\\Share\\\\Scattering Parameter ML Training Set\\\\TypeN_20190208\\\\PreTrain\\\\Short_Position_8',\n",
       " 'C:\\\\Share\\\\Scattering Parameter ML Training Set\\\\TypeN_20190208\\\\PreTrain\\\\Short_Position_9',\n",
       " 'C:\\\\Share\\\\Scattering Parameter ML Training Set\\\\TypeN_20190208\\\\PreTrain\\\\Thru',\n",
       " 'C:\\\\Share\\\\Scattering Parameter ML Training Set\\\\TypeN_20190208\\\\PreTrain\\\\Thru_Position_10',\n",
       " 'C:\\\\Share\\\\Scattering Parameter ML Training Set\\\\TypeN_20190208\\\\PreTrain\\\\Thru_Position_4',\n",
       " 'C:\\\\Share\\\\Scattering Parameter ML Training Set\\\\TypeN_20190208\\\\PreTrain\\\\Thru_Position_5',\n",
       " 'C:\\\\Share\\\\Scattering Parameter ML Training Set\\\\TypeN_20190208\\\\PreTrain\\\\Thru_Position_6',\n",
       " 'C:\\\\Share\\\\Scattering Parameter ML Training Set\\\\TypeN_20190208\\\\PreTrain\\\\Thru_Position_7',\n",
       " 'C:\\\\Share\\\\Scattering Parameter ML Training Set\\\\TypeN_20190208\\\\PreTrain\\\\Thru_Position_8',\n",
       " 'C:\\\\Share\\\\Scattering Parameter ML Training Set\\\\TypeN_20190208\\\\PreTrain\\\\Thru_Position_9']"
      ]
     },
     "execution_count": 37,
     "metadata": {},
     "output_type": "execute_result"
    }
   ],
   "source": [
    "pretrain_folders"
   ]
  },
  {
   "cell_type": "code",
   "execution_count": 142,
   "metadata": {
    "collapsed": false
   },
   "outputs": [
    {
     "name": "stdout",
     "output_type": "stream",
     "text": [
      "Working on 0\n",
      "Working on 1\n",
      "Working on 2\n",
      "Working on 3\n",
      "Working on 4\n",
      "Working on 5\n",
      "Working on 6\n",
      "Working on 7\n",
      "Working on 8\n",
      "Working on 9\n",
      "Working on 10\n",
      "Working on 11\n",
      "Working on 12\n",
      "Working on 13\n",
      "Working on 14\n",
      "Working on 15\n",
      "Working on 16\n",
      "Working on 17\n",
      "Working on 18\n",
      "Working on 19\n",
      "Working on 20\n",
      "Working on 21\n",
      "Working on 22\n",
      "Working on 23\n",
      "Working on 24\n",
      "Working on 25\n",
      "Working on 26\n",
      "Working on 27\n",
      "Working on 28\n"
     ]
    }
   ],
   "source": [
    "number_training_sets=1000\n",
    "expansion_factor=3\n",
    "sorted_device_keys=sorted(device_type_dictionary.keys())\n",
    "training_array=[]\n",
    "for key in sorted_device_keys:\n",
    "    print(\"Working on {0}\".format(key))\n",
    "    training_array=training_array+create_s2p_training_set(os.path.join(pretrain_folder,\n",
    "                                                               \"{0}\".format(device_type_dictionary[key])),\n",
    "                                                              number_training_sets,expansion_factor=expansion_factor)\n",
    "target_array=[]\n",
    "for key_index,key in enumerate(sorted_device_keys):\n",
    "    target_array=target_array+[key for i in range(number_training_sets)]\n"
   ]
  },
  {
   "cell_type": "code",
   "execution_count": 60,
   "metadata": {
    "collapsed": false
   },
   "outputs": [
    {
     "data": {
      "text/plain": [
       "29000"
      ]
     },
     "execution_count": 60,
     "metadata": {},
     "output_type": "execute_result"
    }
   ],
   "source": [
    "len(target_array)"
   ]
  },
  {
   "cell_type": "code",
   "execution_count": 143,
   "metadata": {
    "collapsed": false
   },
   "outputs": [
    {
     "data": {
      "text/plain": [
       "QuadraticDiscriminantAnalysis(priors=None, reg_param=0.0,\n",
       "               store_covariances=False, tol=0.0001)"
      ]
     },
     "execution_count": 143,
     "metadata": {},
     "output_type": "execute_result"
    }
   ],
   "source": [
    "classifier=QuadraticDiscriminantAnalysis()\n",
    "classifier.fit(training_array,target_array)\n"
   ]
  },
  {
   "cell_type": "code",
   "execution_count": 144,
   "metadata": {
    "collapsed": false
   },
   "outputs": [
    {
     "name": "stdout",
     "output_type": "stream",
     "text": [
      "The correct percentage is 100.0\n"
     ]
    }
   ],
   "source": [
    "base_predictions=classifier.predict(training_array)\n",
    "base_correct=percent_correct(target_array,base_predictions)\n",
    "print(\"The correct percentage is {0}\".format(base_correct))"
   ]
  },
  {
   "cell_type": "code",
   "execution_count": 145,
   "metadata": {
    "collapsed": false
   },
   "outputs": [
    {
     "data": {
      "image/png": "[encoded data removed]",
      "text/plain": [
       "<matplotlib.figure.Figure at 0xcc9b3eb8>"
      ]
     },
     "metadata": {},
     "output_type": "display_data"
    }
   ],
   "source": [
    "plt.plot(target_array,base_predictions,\"rx\")\n",
    "plt.xlabel(\"Device Trained\")\n",
    "plt.ylabel(\"Device Predicted\")\n",
    "plt.title(\"QDA\")\n",
    "plt.show()"
   ]
  },
  {
   "cell_type": "code",
   "execution_count": 150,
   "metadata": {
    "collapsed": false
   },
   "outputs": [
    {
     "name": "stdout",
     "output_type": "stream",
     "text": [
      "The correct percentage is 100.0\n"
     ]
    },
    {
     "data": {
      "image/png": "[encoded data removed]",
      "text/plain": [
       "<matplotlib.figure.Figure at 0x1cc5d7be0>"
      ]
     },
     "metadata": {},
     "output_type": "display_data"
    }
   ],
   "source": [
    "two_port_classifier=DecisionTreeClassifier()\n",
    "two_port_classifier.fit(training_array, target_array)\n",
    "d_base_predictions=two_port_classifier.predict(training_array)\n",
    "d_base_correct=percent_correct(target_array,d_base_predictions)\n",
    "print(\"The correct percentage is {0}\".format(d_base_correct))\n",
    "plt.plot(target_array,d_base_predictions,\"rx\")\n",
    "plt.xlabel(\"Device Trained\")\n",
    "plt.ylabel(\"Device Predicted\")\n",
    "plt.title(\"Decision Tree \")\n",
    "plt.show()"
   ]
  },
  {
   "cell_type": "code",
   "execution_count": 66,
   "metadata": {
    "collapsed": false
   },
   "outputs": [],
   "source": [
    "#Build a test folder from the training folders\n",
    "test_folder=r\"C:\\Share\\Scattering Parameter ML Training Set\\TypeN_20190208\\Test\"\n",
    "test_target_dictionary={}\n",
    "for folder in pretrain_folders:\n",
    "    device_type=folder.split(\"\\\\\")[-1]\n",
    "    for s2p_name in os.listdir(folder):\n",
    "        s2p_path=os.path.join(folder,s2p_name)\n",
    "        if os.path.isfile(s2p_path):\n",
    "            s2p=S2PV1(s2p_path)\n",
    "            s2p.save(os.path.join(test_folder,device_type+\"_\"+s2p_name))\n",
    "            test_target_dictionary[device_type+\"_\"+s2p_name]=device_type"
   ]
  },
  {
   "cell_type": "code",
   "execution_count": 122,
   "metadata": {
    "collapsed": false
   },
   "outputs": [],
   "source": [
    "#test_folder=r\"C:\\Share\\Scattering Parameter ML Training Set\\Test Set 1\"\n",
    "test_files=os.listdir(test_folder)\n",
    "#test_target_list=[list(device_type_dictionary.keys())[list(device_type_dictionary.values()).index(test_target_dictionary[key])] for key in test_files]\n",
    "test_files=map(lambda x:os.path.join(test_folder,x),test_files)"
   ]
  },
  {
   "cell_type": "code",
   "execution_count": 22,
   "metadata": {
    "collapsed": false
   },
   "outputs": [
    {
     "data": {
      "text/plain": [
       "55"
      ]
     },
     "execution_count": 22,
     "metadata": {},
     "output_type": "execute_result"
    }
   ],
   "source": [
    "len(test_files)"
   ]
  },
  {
   "cell_type": "code",
   "execution_count": 151,
   "metadata": {
    "collapsed": false
   },
   "outputs": [],
   "source": [
    "test_array=[]\n",
    "#test_target_list=[]\n",
    "for file_name in test_files:\n",
    "    test_array=test_array+[AsciiDataTable_to_NumpyArray(Snp_to_AsciiDataTable(SNP(file_name)),exclude_columns=\"Frequency\")]\n",
    "    #test_target_list.append(device_type_dictionary_inverse[test_target_dictionary[os.path.basename(file_name)]])\n",
    "predictions=two_port_classifier.predict(test_array)\n",
    "file_name_predictions={test_files[index]:device_type_dictionary[key] for index,key in enumerate(predictions.tolist())}"
   ]
  },
  {
   "cell_type": "code",
   "execution_count": null,
   "metadata": {
    "collapsed": false
   },
   "outputs": [],
   "source": [
    "for key,value in file_name_predictions.iteritems():\n",
    "    print(\"{0} is type {1}\".format(os.path.basename(key),value))"
   ]
  },
  {
   "cell_type": "code",
   "execution_count": 94,
   "metadata": {
    "collapsed": false
   },
   "outputs": [
    {
     "data": {
      "text/plain": [
       "array([ 2,  2,  2,  2,  3,  3,  3,  4,  3,  1,  1,  5,  6,  6,  5,  1,  1,\n",
       "        1,  7,  7,  5,  7,  1,  1,  1,  2,  2,  2,  3,  3,  3,  4,  4,  4,\n",
       "        5,  5,  5,  6,  1,  6,  7,  7,  7,  8,  8, 10,  8,  8, 11,  8,  8,\n",
       "       11,  8, 12, 10,  8,  8,  8,  9,  9,  9, 10, 10, 10, 11, 11, 11, 12,\n",
       "       12, 12, 14, 14, 14, 15, 15, 15, 16, 16, 16, 17, 17, 17, 18, 18, 18,\n",
       "       19, 19, 19, 20, 20, 20, 17, 17, 19, 18, 16, 16, 20, 17, 14, 18, 17,\n",
       "       17, 14, 13, 20, 20, 14, 13, 17, 17, 17, 22, 22, 22, 23, 23, 23, 24,\n",
       "       28, 23, 25, 22, 25, 26, 26, 26, 27, 27, 27, 28, 28, 28, 23, 23, 23,\n",
       "       21, 23, 27, 27, 23, 23, 23, 23, 23, 23, 23, 23, 23, 23, 23, 23, 23,\n",
       "       23])"
      ]
     },
     "execution_count": 94,
     "metadata": {},
     "output_type": "execute_result"
    }
   ],
   "source": [
    "predictions"
   ]
  },
  {
   "cell_type": "code",
   "execution_count": 152,
   "metadata": {
    "collapsed": false
   },
   "outputs": [
    {
     "name": "stdout",
     "output_type": "stream",
     "text": [
      "The accuracy is 94.1558441558\n",
      "The device_type_accuracy is 100.0\n"
     ]
    }
   ],
   "source": [
    "accuracy=0\n",
    "device_type_accuracy=0\n",
    "sorted_keys=sorted(file_name_predictions.keys())\n",
    "sorted_values=[file_name_predictions[key] for key in sorted_keys]\n",
    "\n",
    "for index,test_name in enumerate(sorted_keys):\n",
    "    device_type=sorted_values[index]\n",
    "    base_device_type=device_type.split(\"_\")[0]\n",
    "    if re.search(device_type,test_name):\n",
    "        accuracy+=1\n",
    "    if re.search(base_device_type,test_name):\n",
    "        device_type_accuracy+=1\n",
    "    else:\n",
    "        print(\"{0} is not of type {1}\".format(test_name,base_device_type))\n",
    "    #print(\"The device_type is {0}, the base_device_type is {1} and the  test_name is {2}\".format(device_type,base_device_type,test_name))\n",
    "print(\"The accuracy is {0}\".format(100*accuracy/float(len(sorted_keys))))\n",
    "print(\"The device_type_accuracy is {0}\".format(100*device_type_accuracy/float(len(sorted_keys))))"
   ]
  },
  {
   "cell_type": "code",
   "execution_count": 108,
   "metadata": {
    "collapsed": false
   },
   "outputs": [
    {
     "name": "stdout",
     "output_type": "stream",
     "text": [
      "There are 2 of Short\n"
     ]
    }
   ],
   "source": [
    "device_key=13\n",
    "print(\"There are {0} of {1}\".format(predictions.tolist().count(device_key),device_type_dictionary[device_key]))"
   ]
  },
  {
   "cell_type": "code",
   "execution_count": null,
   "metadata": {
    "collapsed": true
   },
   "outputs": [],
   "source": [
    "two_port_classifier=DecisionTreeClassifier()\n",
    "two_port_classifier.fit(training_list, target_list)"
   ]
  },
  {
   "cell_type": "code",
   "execution_count": 8,
   "metadata": {
    "collapsed": false
   },
   "outputs": [
    {
     "name": "stderr",
     "output_type": "stream",
     "text": [
      "C:\\ProgramData\\Anaconda2\\lib\\site-packages\\sklearn\\ensemble\\weight_boosting.py:29: DeprecationWarning: numpy.core.umath_tests is an internal NumPy module and should not be imported. It will be removed in a future NumPy release.\n",
      "  from numpy.core.umath_tests import inner1d\n"
     ]
    }
   ],
   "source": [
    "from sklearn.discriminant_analysis import QuadraticDiscriminantAnalysis\n",
    "from sklearn.naive_bayes import GaussianNB, BernoulliNB, MultinomialNB\n",
    "from sklearn.tree import DecisionTreeClassifier\n",
    "from sklearn.ensemble import RandomForestClassifier\n",
    "from sklearn.linear_model import RidgeClassifier, SGDClassifier, PassiveAggressiveClassifier, Perceptron\n",
    "from sklearn.svm import SVC\n",
    "classifier_dict = {\"QDA\": QuadraticDiscriminantAnalysis,\n",
    "                   \"Gaussian Naive Bayes\": GaussianNB,\n",
    "                   \"Bernoulli Naive Bayes\": BernoulliNB,\n",
    "                   \"Multinomial Naive Bayes\": MultinomialNB,\n",
    "                   \"Decision Tree\": DecisionTreeClassifier,\n",
    "                   \"Random Forest\": RandomForestClassifier,\n",
    "                   \"Ridge\": RidgeClassifier,\n",
    "                   \"SGD\": SGDClassifier,\n",
    "                   \"Passive Aggressive\": PassiveAggressiveClassifier,\n",
    "                   \"Perceptron\": Perceptron,\n",
    "                   \"SVC\": SVC}"
   ]
  },
  {
   "cell_type": "code",
   "execution_count": null,
   "metadata": {
    "collapsed": false
   },
   "outputs": [],
   "source": [
    "# Now train the classifier\n",
    "classifier_keys=sorted(classifier_dict.keys())[10:11]\n",
    "two_port_classifier_list=[]\n",
    "two_port_prediction_list=[]\n",
    "for key_index,key in enumerate(classifier_keys):\n",
    "    two_port_classifier_list.append(classifier_dict[key]())\n",
    "    try:\n",
    "        two_port_classifier_list[key_index].fit(training_list, target_list)\n",
    "        two_port_prediction_list.append(two_port_classifier_list[key_index].predict(training_list))\n",
    "    except:\n",
    "        raise\n",
    "        print(\"{0} did not work\".format(key))\n",
    "for key_index,key in enumerate(classifier_keys):\n",
    "    try:\n",
    "        plt.close()\n",
    "        plt.plot(target_list,two_port_prediction_list[key_index].tolist(),\"rx\")\n",
    "        plt.xlabel(\"Device Trained\")\n",
    "        plt.ylabel(\"Device Predicted\")\n",
    "        plt.title(key)\n",
    "        plt.show()\n",
    "    except:pass"
   ]
  }
 ],
 "metadata": {
  "kernelspec": {
   "display_name": "Python 2",
   "language": "python",
   "name": "python2"
  },
  "language_info": {
   "codemirror_mode": {
    "name": "ipython",
    "version": 2
   },
   "file_extension": ".py",
   "mimetype": "text/x-python",
   "name": "python",
   "nbconvert_exporter": "python",
   "pygments_lexer": "ipython2",
   "version": "2.7.13"
  }
 },
 "nbformat": 4,
 "nbformat_minor": 2
}
