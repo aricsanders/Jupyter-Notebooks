{
 "cells": [
  {
   "cell_type": "code",
   "execution_count": 1,
   "metadata": {
    "collapsed": false
   },
   "outputs": [
    {
     "name": "stdout",
     "output_type": "stream",
     "text": [
      "Importing pyMez, this should take roughly 30 seconds\n",
      "Importing Code.DataHandlers.GeneralModels\n",
      "It took 2.258 s to import Code.DataHandlers.GeneralModels\n",
      "Importing Code.DataHandlers.HTMLModels\n",
      "It took 0.407 s to import Code.DataHandlers.HTMLModels\n",
      "Importing Code.DataHandlers.NISTModels\n",
      "It took 11.193 s to import Code.DataHandlers.NISTModels\n",
      "Importing Code.DataHandlers.TouchstoneModels\n",
      "It took 0.016 s to import Code.DataHandlers.TouchstoneModels\n",
      "Importing Code.DataHandlers.XMLModels\n",
      "It took 0.454 s to import Code.DataHandlers.XMLModels\n",
      "Importing Code.DataHandlers.ZipModels\n",
      "It took 0.062 s to import Code.DataHandlers.ZipModels\n",
      "Importing Code.InstrumentControl.Experiments\n",
      "It took 2.072 s to import Code.InstrumentControl.Experiments\n",
      "Importing Code.InstrumentControl.Instruments\n",
      "It took 0.018 s to import Code.InstrumentControl.Instruments\n",
      "Importing Code.Utils.Names\n",
      "It took 0.013 s to import Code.Utils.Names\n",
      "It took 16.494 s to import all of the active modules\n"
     ]
    }
   ],
   "source": [
    "from pyMez import *"
   ]
  },
  {
   "cell_type": "code",
   "execution_count": 6,
   "metadata": {
    "collapsed": false
   },
   "outputs": [],
   "source": [
    "scope_data_options={\"data_delimiter\":\"\\t\",\"column_names_delimiter\":\",\",\"data_begin_line\":1,\n",
    "                    \"column_names_begin_line\":0,\"column_types\":[\"float\" for i in range(5)]}\n",
    "scope_data=AsciiDataTable(r\"C:\\Share\\AWG_Phase_Calibration\\Schroeder_Phase_20181022\\Multisine_Measurements\\11_Tones_10000KHz_Spacing\\Calibration_Phase_Reference_Scope_Measurement.txt\",\n",
    "                          **scope_data_options)"
   ]
  },
  {
   "cell_type": "code",
   "execution_count": 7,
   "metadata": {
    "collapsed": false
   },
   "outputs": [
    {
     "data": {
      "text/plain": [
       "['Time', 'CHAN1', 'CHAN2', 'CHAN3', 'CHAN4']"
      ]
     },
     "execution_count": 7,
     "metadata": {},
     "output_type": "execute_result"
    }
   ],
   "source": [
    "scope_data.column_names"
   ]
  },
  {
   "cell_type": "code",
   "execution_count": 12,
   "metadata": {
    "collapsed": false
   },
   "outputs": [
    {
     "data": {
      "image/png": "[encoded data removed]",
      "text/plain": [
       "<matplotlib.figure.Figure at 0xb575358>"
      ]
     },
     "metadata": {},
     "output_type": "display_data"
    }
   ],
   "source": [
    "plt.plot(abs(np.fft.ifft(scope_data[\"CHAN2\"]))[0:len(scope_data[\"CHAN2\"])//2])\n",
    "plt.show()"
   ]
  },
  {
   "cell_type": "code",
   "execution_count": 17,
   "metadata": {
    "collapsed": false
   },
   "outputs": [
    {
     "data": {
      "image/png": "[encoded data removed]",
      "text/plain": [
       "<matplotlib.figure.Figure at 0xb1f32e8>"
      ]
     },
     "metadata": {},
     "output_type": "display_data"
    }
   ],
   "source": [
    "plt.plot(scope_data[\"CHAN2\"])\n",
    "plt.show()"
   ]
  },
  {
   "cell_type": "code",
   "execution_count": 15,
   "metadata": {
    "collapsed": true
   },
   "outputs": [],
   "source": [
    "vna_measurement=AsciiDataTable(r\"C:\\Share\\AWG_Phase_Calibration\\Schroeder_Phase_20181022\\Phase_Calibration_Measurement\\11_Tones_10000KHz_Spacing\\Calibration_Phase_Reference_Vna_Reciever_Values_20181022_001.txt\")"
   ]
  },
  {
   "cell_type": "code",
   "execution_count": 16,
   "metadata": {
    "collapsed": false
   },
   "outputs": [
    {
     "data": {
      "text/plain": [
       "['Frequency',\n",
       " 'reA1_Div_A4',\n",
       " 'imA1_Div_A4',\n",
       " 'reA1',\n",
       " 'imA1',\n",
       " 'reB1',\n",
       " 'imB1',\n",
       " 'reA4',\n",
       " 'imA4',\n",
       " 'reA1_Div_B2',\n",
       " 'imA1_Div_B2',\n",
       " 'reB2',\n",
       " 'imB2',\n",
       " 'reB3',\n",
       " 'imB3']"
      ]
     },
     "execution_count": 16,
     "metadata": {},
     "output_type": "execute_result"
    }
   ],
   "source": [
    "vna_measurement.column_names\n"
   ]
  },
  {
   "cell_type": "code",
   "execution_count": null,
   "metadata": {
    "collapsed": true
   },
   "outputs": [],
   "source": [
    "def vna_measurement_to_time_signal(f_list,error_adapter,gamma_dut,a_1):\n",
    "    \"\"\"Creates a time signal based on a calibrated reciever measurement\"\"\""
   ]
  },
  {
   "cell_type": "code",
   "execution_count": 18,
   "metadata": {
    "collapsed": true
   },
   "outputs": [],
   "source": [
    "def get_path(wildcard='*.*'):\n",
    "    \"\"\"Creates a file dialog and returns the selected file\"\"\"\n",
    "    app = wx.App(None)\n",
    "    style = wx.FD_OPEN | wx.FD_FILE_MUST_EXIST\n",
    "    dialog = wx.FileDialog(None, 'Open',wildcard=wildcard, style=style)\n",
    "    if dialog.ShowModal() == wx.ID_OK:\n",
    "        path = dialog.GetPath()\n",
    "    else:\n",
    "        path = None\n",
    "    dialog.Destroy()\n",
    "    return path"
   ]
  },
  {
   "cell_type": "code",
   "execution_count": 21,
   "metadata": {
    "collapsed": false
   },
   "outputs": [
    {
     "data": {
      "text/plain": [
       "u'C:\\\\ProgramData\\\\Anaconda2\\\\Lib\\\\site-packages\\\\pyMez\\\\Code\\\\FrontEnds\\\\EndOfDayDialog.py'"
      ]
     },
     "execution_count": 21,
     "metadata": {},
     "output_type": "execute_result"
    }
   ],
   "source": [
    "import wx\n",
    "get_path()"
   ]
  },
  {
   "cell_type": "code",
   "execution_count": 2,
   "metadata": {
    "collapsed": false
   },
   "outputs": [
    {
     "name": "stdout",
     "output_type": "stream",
     "text": [
      "Table before add row\n",
      "********************************************************************************\n",
      "Hello There\n",
      "My Darling\n",
      "!a,b,c\n",
      "0\t1\t2\n",
      "2\t3\t4\n",
      "Add the row 0,1,3\n",
      "********************************************************************************\n",
      "Hello There\n",
      "My Darling\n",
      "!a,b,c\n",
      "0\t1\t2\n",
      "2\t3\t4\n",
      "0\t1\t3\n",
      "Add an index\n",
      "********************************************************************************\n",
      "Hello There\n",
      "My Darling\n",
      "!index,a,b,c\n",
      "0\t0\t1\t2\n",
      "1\t2\t3\t4\n",
      "2\t0\t1\t3\n",
      "Now Get the index column\n",
      "[0, 1, 2]\n"
     ]
    }
   ],
   "source": [
    "test_add_index()"
   ]
  },
  {
   "cell_type": "code",
   "execution_count": 3,
   "metadata": {
    "collapsed": true
   },
   "outputs": [],
   "source": [
    "test_list=[1,1,1]"
   ]
  },
  {
   "cell_type": "code",
   "execution_count": 4,
   "metadata": {
    "collapsed": false
   },
   "outputs": [
    {
     "data": {
      "text/plain": [
       "True"
      ]
     },
     "execution_count": 4,
     "metadata": {},
     "output_type": "execute_result"
    }
   ],
   "source": [
    "isinstance(test_list,list)"
   ]
  },
  {
   "cell_type": "code",
   "execution_count": 5,
   "metadata": {
    "collapsed": false
   },
   "outputs": [
    {
     "data": {
      "text/plain": [
       "list"
      ]
     },
     "execution_count": 5,
     "metadata": {},
     "output_type": "execute_result"
    }
   ],
   "source": [
    "type(test_list)"
   ]
  },
  {
   "cell_type": "code",
   "execution_count": null,
   "metadata": {
    "collapsed": true
   },
   "outputs": [],
   "source": []
  }
 ],
 "metadata": {
  "kernelspec": {
   "display_name": "Python 2",
   "language": "python",
   "name": "python2"
  },
  "language_info": {
   "codemirror_mode": {
    "name": "ipython",
    "version": 2
   },
   "file_extension": ".py",
   "mimetype": "text/x-python",
   "name": "python",
   "nbconvert_exporter": "python",
   "pygments_lexer": "ipython2",
   "version": "2.7.13"
  }
 },
 "nbformat": 4,
 "nbformat_minor": 2
}
