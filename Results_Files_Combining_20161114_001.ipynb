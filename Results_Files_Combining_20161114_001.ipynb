{
 "cells": [
  {
   "cell_type": "markdown",
   "metadata": {},
   "source": [
    "# This notebook finds and comines the results files (resfiles) for check standard into 3 seperate csv files. \n",
    "\n",
    "## Process Flow\n",
    "1. Open and read all the results files\n",
    "2. Seperate and combine based on type \n",
    "3. save combined file\n"
   ]
  },
  {
   "cell_type": "code",
   "execution_count": 1,
   "metadata": {
    "collapsed": false
   },
   "outputs": [
    {
     "name": "stdout",
     "output_type": "stream",
     "text": [
      "Importing Code.Utils.Names\n",
      "Importing Code.DataHandlers.NISTModels\n",
      "Importing Code.DataHandlers.GeneralModels\n",
      "Importing Code.DataHandlers.TouchstoneModels\n",
      "Importing Code.DataHandlers.XMLModels\n",
      "Importing Code.DataHandlers.RadiCALModels\n",
      "Importing Code.DataHandlers.ZipModels\n",
      "Importing Code.DataHandlers.Translations\n",
      "Importing Code.DataHandlers.StatistiCALModels\n",
      "Importing Code.DataHandlers.MUFModels\n",
      "Importing Code.Analysis.SParameter\n",
      "Importing Code.InstrumentControl.Instruments\n",
      "Importing Code.InstrumentControl.Experiments\n"
     ]
    }
   ],
   "source": [
    "# basic imports\n",
    "import os\n",
    "import sys\n",
    "import pandas\n",
    "from pyMeasure import *"
   ]
  },
  {
   "cell_type": "code",
   "execution_count": 2,
   "metadata": {
    "collapsed": true
   },
   "outputs": [],
   "source": [
    "# Script Constants\n",
    "RESFILES_DIRECTORY=r'C:\\Users\\sandersa\\Desktop\\resfiles'\n",
    "RESULTS_FILE_ONE_PORT_COLUMN_NAMES=[\"Device_Id\",\"Frequency\",\"Number_Measurements\",\"magS11\",\"argS11\"]\n",
    "RESULTS_FILE_TWO_PORT_COLUMN_NAMES=[\"Device_Id\",\"Frequency\",\"Number_Measurements\",\"magS11\",\"argS11\",\n",
    "                                    \"dbS21\",\"argS21\",\"magS22\",\"argS22\"]\n",
    "RESULTS_FILE_POWER_COLUMN_NAMES=[\"Device_Id\",\"Frequency\",\"Number_Measurements\",\"magS11\",\"argS11\",\"Efficiency\"]\n"
   ]
  },
  {
   "cell_type": "code",
   "execution_count": 3,
   "metadata": {
    "collapsed": true
   },
   "outputs": [],
   "source": [
    "file_names=os.listdir(RESFILES_DIRECTORY)"
   ]
  },
  {
   "cell_type": "code",
   "execution_count": 4,
   "metadata": {
    "collapsed": false
   },
   "outputs": [],
   "source": [
    "options={\"data_begin_line\":0,\"data_end_line\":-1,\"data_delimiter\":'[\\s]+',\n",
    "          \"row_end_token\":\"\\n\"}\n",
    "new_table=AsciiDataTable(os.path.join(RESFILES_DIRECTORY,file_names[0]),**options)\n",
    "new_table.options['data_delimiter']=','\n",
    "new_table.column_names=RESULTS_FILE_ONE_PORT_COLUMN_NAMES\n",
    "new_table.options['column_types']=['String','float','int','float','float']\n",
    "new_table.update_model()"
   ]
  },
  {
   "cell_type": "code",
   "execution_count": 5,
   "metadata": {
    "collapsed": false
   },
   "outputs": [],
   "source": [
    "table_2=AsciiDataTable(os.path.join(RESFILES_DIRECTORY,file_names[0]),**options)\n",
    "table_2.options['data_delimiter']=','\n",
    "table_2.column_names=RESULTS_FILE_ONE_PORT_COLUMN_NAMES\n",
    "table_2.options['column_types']=['String','float','int','float','float']\n",
    "table_2.update_model()\n"
   ]
  },
  {
   "cell_type": "code",
   "execution_count": 23,
   "metadata": {
    "collapsed": false
   },
   "outputs": [],
   "source": [
    "new_table+table_2"
   ]
  },
  {
   "cell_type": "code",
   "execution_count": 26,
   "metadata": {
    "collapsed": false
   },
   "outputs": [
    {
     "data": {
      "text/plain": [
       "True"
      ]
     },
     "execution_count": 26,
     "metadata": {},
     "output_type": "execute_result"
    }
   ],
   "source": [
    "new_table.column_names is table_2.column_names"
   ]
  },
  {
   "cell_type": "code",
   "execution_count": 13,
   "metadata": {
    "collapsed": true
   },
   "outputs": [],
   "source": [
    "t=table3+table_2"
   ]
  },
  {
   "cell_type": "code",
   "execution_count": 14,
   "metadata": {
    "collapsed": true
   },
   "outputs": [],
   "source": [
    "t"
   ]
  },
  {
   "cell_type": "code",
   "execution_count": 15,
   "metadata": {
    "collapsed": false
   },
   "outputs": [
    {
     "data": {
      "text/plain": [
       "<Code.DataHandlers.GeneralModels.AsciiDataTable instance at 0x000000001FA0E688>"
      ]
     },
     "execution_count": 15,
     "metadata": {},
     "output_type": "execute_result"
    }
   ],
   "source": [
    "table3"
   ]
  },
  {
   "cell_type": "code",
   "execution_count": 19,
   "metadata": {
    "collapsed": false
   },
   "outputs": [],
   "source": [
    "table3+table_2\n",
    "table_4=ascii_data_table_join('Frequency',table3,table_2)"
   ]
  },
  {
   "cell_type": "code",
   "execution_count": 20,
   "metadata": {
    "collapsed": false
   },
   "outputs": [
    {
     "name": "stdout",
     "output_type": "stream",
     "text": [
      "Device_Id,Frequency,Number_Measurements,magS11,argS11,Device_Id,Number_Measurements,magS11,argS11\n",
      "C07101,0.01,42,0.19919,179.301,C07101,42,0.19919,179.301\n",
      "C07101,0.02,42,0.19829,178.952,C07101,42,0.19829,178.952\n",
      "C07101,0.03,42,0.19882,177.679,C07101,42,0.19882,177.679\n",
      "C07101,0.04,42,0.19856,176.972,C07101,42,0.19856,176.972\n",
      "C07101,0.05,42,0.19863,176.112,C07101,42,0.19863,176.112\n",
      "C07101,0.06,42,0.19853,175.358,C07101,42,0.19853,175.358\n",
      "C07101,0.07,42,0.19844,174.615,C07101,42,0.19844,174.615\n",
      "C07101,0.08,42,0.1984,173.855,C07101,42,0.1984,173.855\n",
      "C07101,0.09,42,0.19834,173.094,C07101,42,0.19834,173.094\n",
      "C07101,0.1,72,0.19895,172.536,C07101,72,0.19895,172.536\n",
      "C07101,0.109,18,0.19934,171.733,C07101,18,0.19934,171.733\n",
      "C07101,0.151,18,0.19916,168.559,C07101,18,0.19916,168.559\n",
      "C07101,0.2,72,0.19851,164.985,C07101,72,0.19851,164.985\n",
      "C07101,0.3,72,0.19835,157.577,C07101,72,0.19835,157.577\n",
      "C07101,0.4,72,0.19811,150.28,C07101,72,0.19811,150.28\n",
      "C07101,0.5,72,0.19749,142.957,C07101,72,0.19749,142.957\n",
      "C07101,0.6,72,0.19714,135.448,C07101,72,0.19714,135.448\n",
      "C07101,0.7,72,0.19746,128.121,C07101,72,0.19746,128.121\n",
      "C07101,0.8,72,0.19821,121.024,C07101,72,0.19821,121.024\n",
      "C07101,0.9,72,0.1973,113.623,C07101,72,0.1973,113.623\n",
      "C07101,1.0,72,0.19621,106.378,C07101,72,0.19621,106.378\n",
      "C07101,2.0,18,0.19882,34.244,C07101,18,0.19882,34.244\n",
      "C07101,3.0,18,0.20109,-38.024,C07101,18,0.20109,-38.024\n",
      "C07101,4.0,18,0.20302,-109.789,C07101,18,0.20302,-109.789\n",
      "C07101,5.0,18,0.20385,178.392,C07101,18,0.20385,178.392\n",
      "C07101,6.0,18,0.2029,106.728,C07101,18,0.2029,106.728\n",
      "C07101,7.0,18,0.19795,34.532,C07101,18,0.19795,34.532\n",
      "C07101,8.0,24,0.19078,-39.626,C07101,24,0.19078,-39.626\n",
      "C07101,8.2,6,0.19013,-55.025,C07101,6,0.19013,-55.025\n",
      "C07101,8.4,6,0.1891,-70.174,C07101,6,0.1891,-70.174\n",
      "C07101,8.6,6,0.18774,-85.34,C07101,6,0.18774,-85.34\n",
      "C07101,8.8,6,0.18676,-100.714,C07101,6,0.18676,-100.714\n",
      "C07101,9.0,24,0.1859,-115.951,C07101,24,0.1859,-115.951\n",
      "C07101,9.2,6,0.18671,-131.419,C07101,6,0.18671,-131.419\n",
      "C07101,9.4,6,0.18669,-146.791,C07101,6,0.18669,-146.791\n",
      "C07101,9.6,6,0.1875,-162.351,C07101,6,0.1875,-162.351\n",
      "C07101,9.8,6,0.18929,-177.662,C07101,6,0.18929,-177.662\n",
      "C07101,10.0,24,0.19012,167.122,C07101,24,0.19012,167.122\n",
      "C07101,10.2,6,0.19247,152.082,C07101,6,0.19247,152.082\n",
      "C07101,10.4,6,0.19457,137.059,C07101,6,0.19457,137.059\n",
      "C07101,10.6,6,0.19739,122.304,C07101,6,0.19739,122.304\n",
      "C07101,10.8,6,0.19884,107.67,C07101,6,0.19884,107.67\n",
      "C07101,11.0,24,0.19971,92.635,C07101,24,0.19971,92.635\n",
      "C07101,11.2,6,0.20279,78.321,C07101,6,0.20279,78.321\n",
      "C07101,11.4,6,0.20426,63.986,C07101,6,0.20426,63.986\n",
      "C07101,11.6,6,0.20487,49.638,C07101,6,0.20487,49.638\n",
      "C07101,11.8,6,0.20534,35.069,C07101,6,0.20534,35.069\n",
      "C07101,12.0,24,0.20484,20.532,C07101,24,0.20484,20.532\n",
      "C07101,12.2,6,0.20539,6.657,C07101,6,0.20539,6.657\n",
      "C07101,12.4,6,0.2033,-7.767,C07101,6,0.2033,-7.767\n",
      "C07101,12.75,6,0.20046,-32.988,C07101,6,0.20046,-32.988\n",
      "C07101,13.0,24,0.1966,-50.937,C07101,24,0.1966,-50.937\n",
      "C07101,13.25,6,0.19222,-69.269,C07101,6,0.19222,-69.269\n",
      "C07101,13.5,6,0.18783,-87.809,C07101,6,0.18783,-87.809\n",
      "C07101,13.75,6,0.18225,-106.531,C07101,6,0.18225,-106.531\n",
      "C07101,14.0,24,0.17747,-125.772,C07101,24,0.17747,-125.772\n",
      "C07101,14.25,6,0.17324,-145.611,C07101,6,0.17324,-145.611\n",
      "C07101,14.5,6,0.16943,-165.629,C07101,6,0.16943,-165.629\n",
      "C07101,14.75,6,0.16663,173.897,C07101,6,0.16663,173.897\n",
      "C07101,15.0,24,0.16403,153.619,C07101,24,0.16403,153.619\n",
      "C07101,15.25,6,0.16414,132.566,C07101,6,0.16414,132.566\n",
      "C07101,15.5,6,0.16557,111.565,C07101,6,0.16557,111.565\n",
      "C07101,15.75,6,0.16841,90.992,C07101,6,0.16841,90.992\n",
      "C07101,16.0,24,0.17032,70.389,C07101,24,0.17032,70.389\n",
      "C07101,16.25,6,0.1768,50.069,C07101,6,0.1768,50.069\n",
      "C07101,16.5,6,0.1839,30.613,C07101,6,0.1839,30.613\n",
      "C07101,16.75,6,0.18889,11.457,C07101,6,0.18889,11.457\n",
      "C07101,17.0,24,0.1948,-7.496,C07101,24,0.1948,-7.496\n",
      "C07101,17.25,6,0.20295,-25.688,C07101,6,0.20295,-25.688\n",
      "C07101,17.5,6,0.20862,-43.666,C07101,6,0.20862,-43.666\n",
      "C07101,17.75,6,0.21506,-61.211,C07101,6,0.21506,-61.211\n"
     ]
    }
   ],
   "source": [
    "print table_4"
   ]
  },
  {
   "cell_type": "code",
   "execution_count": null,
   "metadata": {
    "collapsed": true
   },
   "outputs": [],
   "source": []
  }
 ],
 "metadata": {
  "kernelspec": {
   "display_name": "Python 2",
   "language": "python",
   "name": "python2"
  },
  "language_info": {
   "codemirror_mode": {
    "name": "ipython",
    "version": 2
   },
   "file_extension": ".py",
   "mimetype": "text/x-python",
   "name": "python",
   "nbconvert_exporter": "python",
   "pygments_lexer": "ipython2",
   "version": "2.7.12"
  }
 },
 "nbformat": 4,
 "nbformat_minor": 1
}
