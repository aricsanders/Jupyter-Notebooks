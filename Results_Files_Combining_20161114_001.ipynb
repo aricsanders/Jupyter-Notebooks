{
 "cells": [
  {
   "cell_type": "markdown",
   "metadata": {},
   "source": [
    "# This notebook finds and comines the results files (resfiles) for check standard into 3 seperate csv files. \n",
    "\n",
    "## Process Flow\n",
    "1. Open and read all the results files\n",
    "2. Seperate and combine based on type \n",
    "3. save combined file\n"
   ]
  },
  {
   "cell_type": "code",
   "execution_count": 1,
   "metadata": {
    "collapsed": false
   },
   "outputs": [
    {
     "name": "stdout",
     "output_type": "stream",
     "text": [
      "Importing Code.Utils.Names\n",
      "Importing Code.DataHandlers.NISTModels\n",
      "Importing Code.DataHandlers.GeneralModels\n",
      "Importing Code.DataHandlers.TouchstoneModels\n",
      "Importing Code.DataHandlers.XMLModels\n",
      "Importing Code.DataHandlers.RadiCALModels\n",
      "Importing Code.DataHandlers.ZipModels\n",
      "Importing Code.DataHandlers.Translations\n",
      "Importing Code.DataHandlers.StatistiCALModels\n",
      "Importing Code.DataHandlers.MUFModels\n",
      "Importing Code.Analysis.SParameter\n",
      "Importing Code.InstrumentControl.Instruments\n",
      "Importing Code.InstrumentControl.Experiments\n"
     ]
    }
   ],
   "source": [
    "# basic imports\n",
    "import os\n",
    "import sys\n",
    "import pandas\n",
    "from pyMeasure import *"
   ]
  },
  {
   "cell_type": "code",
   "execution_count": 2,
   "metadata": {
    "collapsed": true
   },
   "outputs": [],
   "source": [
    "# Script Constants\n",
    "RESFILES_DIRECTORY=r'C:\\Users\\sandersa\\Desktop\\resfiles'\n",
    "RESULTS_FILE_ONE_PORT_COLUMN_NAMES=[\"Device_Id\",\"Frequency\",\"Number_Measurements\",\"magS11\",\"argS11\"]\n",
    "RESULTS_FILE_TWO_PORT_COLUMN_NAMES=[\"Device_Id\",\"Frequency\",\"Number_Measurements\",\"magS11\",\"argS11\",\n",
    "                                    \"dbS21\",\"argS21\",\"magS22\",\"argS22\"]\n",
    "RESULTS_FILE_POWER_COLUMN_NAMES=[\"Device_Id\",\"Frequency\",\"Number_Measurements\",\"magS11\",\"argS11\",\"Efficiency\"]\n"
   ]
  },
  {
   "cell_type": "markdown",
   "metadata": {},
   "source": [
    "### Get all the files in the folder. If you need filtering here do it with glob or similar, but since the file names are a little ambigous I just seperated out all files without an extension"
   ]
  },
  {
   "cell_type": "code",
   "execution_count": 22,
   "metadata": {
    "collapsed": false
   },
   "outputs": [],
   "source": [
    "file_names=os.listdir(RESFILES_DIRECTORY)"
   ]
  },
  {
   "cell_type": "markdown",
   "metadata": {},
   "source": [
    "### Now read all the tables in, ones with errors are typically blank. After tinkering I added this as ResultFileModel in pyMeasure.Code.DataHandlers.NISTModels As a general note S21 is set to be converted to Magnitude from db. "
   ]
  },
  {
   "cell_type": "code",
   "execution_count": 20,
   "metadata": {
    "collapsed": false
   },
   "outputs": [
    {
     "name": "stdout",
     "output_type": "stream",
     "text": [
      "File C14105 had an error\n",
      "File C14106 had an error\n",
      "File C14107 had an error\n",
      "File C14108 had an error\n",
      "File C15101 had an error\n",
      "File C15102 had an error\n",
      "File C15204 had an error\n",
      "File C15205 had an error\n",
      "File C35208 had an error\n",
      "File C35P14 had an error\n",
      "File C35P15 had an error\n",
      "File C35P16 had an error\n"
     ]
    }
   ],
   "source": [
    "tables=[]\n",
    "for file_name in file_names:\n",
    "    try:\n",
    "        new_table=ResultFileModel(os.path.join(RESFILES_DIRECTORY,file_name))\n",
    "        tables.append(new_table)\n",
    "    except:\n",
    "        print(\"File {0} had an error\".format(file_name))\n",
    "                                  "
   ]
  },
  {
   "cell_type": "markdown",
   "metadata": {},
   "source": [
    "### Now we need a seed and a destination file path for each of the three types of res files. The res files have less metadata than their Raw counterparts, I am not sure how this is resolved in CALREP. For instance the system or measurement type. "
   ]
  },
  {
   "cell_type": "code",
   "execution_count": null,
   "metadata": {
    "collapsed": true
   },
   "outputs": [],
   "source": []
  }
 ],
 "metadata": {
  "kernelspec": {
   "display_name": "Python 2",
   "language": "python",
   "name": "python2"
  },
  "language_info": {
   "codemirror_mode": {
    "name": "ipython",
    "version": 2
   },
   "file_extension": ".py",
   "mimetype": "text/x-python",
   "name": "python",
   "nbconvert_exporter": "python",
   "pygments_lexer": "ipython2",
   "version": "2.7.12"
  }
 },
 "nbformat": 4,
 "nbformat_minor": 1
}
