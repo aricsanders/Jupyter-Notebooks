{
 "cells": [
  {
   "cell_type": "markdown",
   "metadata": {},
   "source": [
    "# Two port electrical parameters\n",
    "For two port electrical systems there are a family of related parameters to characterize the system. For radio-frequency applications s-parameters are a common choice to indicate the electrical response of the system. This family of electrical parameters are chosen based on what type of analysis is required, they effectively encode much of the same information so that they may be interchanged in many instances. \n",
    "1. S-parameters\n",
    "2. Z-parameters\n",
    "3. Y-parameters\n",
    "4. T-parameters\n",
    "5. ABCD-parameters\n",
    "6. H-parameters\n",
    "\n",
    "## Creating a graph that connects the parameters. \n",
    "As can be seen a set of parameters may be chosen based on the analysis needed, by creating a \"content\" graph we can have any set of parameters given one set. To do this we must first determine which information is required.\n",
    "\n",
    "## Basic data model\n",
    "Each of the parameters for the two-port can be represented by a matrix, each of these matrix representations are frequency dependent. This lends it self to a data model that is a python list [[fi,m11,m12,m21,m22],...  or a list of matrices with a frequency list. [[f,matrix()]..], if a matrix determinant of inverse is required then use matrix form otherwise use the list form. The port and load impedance must be specified to use all of the transforms and frequency units should be specified."
   ]
  },
  {
   "cell_type": "code",
   "execution_count": 7,
   "metadata": {
    "collapsed": false
   },
   "outputs": [
    {
     "name": "stdout",
     "output_type": "stream",
     "text": [
      "Importing Code.Utils.Names\n",
      "Importing Code.DataHandlers.NISTModels\n",
      "Importing Code.DataHandlers.GeneralModels\n",
      "Importing Code.DataHandlers.TouchstoneModels\n",
      "Importing Code.DataHandlers.XMLModels\n",
      "Importing Code.DataHandlers.RadiCALModels\n",
      "Importing Code.DataHandlers.ZipModels\n",
      "Importing Code.DataHandlers.Translations\n",
      "Importing Code.DataHandlers.StatistiCALModels\n",
      "Importing Code.DataHandlers.MUFModels\n",
      "Importing Code.Analysis.SParameter\n",
      "Importing Code.InstrumentControl.Instruments\n",
      "Importing Code.InstrumentControl.Experiments\n"
     ]
    }
   ],
   "source": [
    "import numpy as np\n",
    "from pyMeasure import *\n",
    "from pyMeasure.Code.DataHandlers.GraphModels import *"
   ]
  },
  {
   "cell_type": "code",
   "execution_count": 66,
   "metadata": {
    "collapsed": true
   },
   "outputs": [],
   "source": [
    "# first we define matrix to list conversions\n",
    "def FrequencyList_to_FrequencyMatrixList(frequency_list):\n",
    "    \"\"\"Converts a list of form [f,m11,m12,m21,m22] to a list of form [f,np.matrix([[m11,m12],[m12,m22]])]\n",
    "    inverse of FrequencyMatrixList_to_FrequencyList \"\"\"\n",
    "    matrix_list=[]\n",
    "    for row in frequency_list[:]:\n",
    "        frequency=row[0]\n",
    "        [m11,m12,m21,m22]=row[1:]\n",
    "        matrix=np.matrix([[m11,m12],[m21,m22]])\n",
    "        matrix_list.append([frequency,matrix])\n",
    "    return matrix_list\n",
    "\n",
    "def FrequencyMatrixList_to_FrequencyList(frequency_matrix_list):\n",
    "    \"\"\"Converts a list of form [f,np.matrix([[m11,m12],[m12,m22]])] to a list of form [f,m11,m12,m21,m22]\n",
    "    inverse of FrequencyList_to_FrequencyMatrixList\"\"\"\n",
    "    frequency_list=[]\n",
    "    for row in frequency_matrix_list[:]:\n",
    "        frequency=row[0]\n",
    "        matrix=row[1]\n",
    "        [m11,m12,m21,m22]=[matrix[0,0],matrix[1,0],matrix[0,1],matrix[1,1]]\n",
    "        frequency_list.append([frequency,m11,m12,m21,m22])\n",
    "    return frequency_list\n",
    "\n",
    "# now for each set of parameters we need a single conversion into and out of the format\n",
    "\n",
    "# This was copied and needs to be refactored to be consitent with the other tranforms\n",
    "def SFrequencyMatrixList_to_TFrequencyMatrixList(S_list):\n",
    "    \"\"\"Converts S-parameters into a T Matrix. Input form should be in frequency, np.matrix([[S11,S12],[S21,S22]])\n",
    "    format. Returns a list in [frequency, np.matrix] format.\n",
    "    Is the inverse of TFrequencyMatrixList_to_SFrequencyMatrixList\"\"\"\n",
    "    t_complex_list=[]\n",
    "    t_matrix=[]\n",
    "    for row in S_list:\n",
    "        frequency=row[0]\n",
    "        m=row[1]\n",
    "        T11=-np.linalg.det(m)/m[1,0]\n",
    "        T12=m[0,0]/m[1,0]\n",
    "        T21=-m[1,1]/m[1,0]\n",
    "        T22=1/m[1,0]\n",
    "        t_matrix.append([frequency,np.matrix([[T11,T12],[T21,T22]])])\n",
    "        t_complex_list.append([frequency,T11,T12,T21,T22])\n",
    "    return t_matrix\n",
    "\n",
    "def TFrequencyMatrixList_to_SFrequencyMatrixList(T_list):\n",
    "    \"\"\"Converts T Matrix into S parameters. Input form should be in frequency, np.matrix([[T11,T12],[T21,T22]])\n",
    "    format. Returns a list in [frequency, np.matrix] format. \n",
    "    Is the inverse of SFrequencyMatrixList_to_TFrequencyMatrixList\"\"\"\n",
    "    S_list=[]\n",
    "    for row in T_list:\n",
    "        frequency=row[0]\n",
    "        m=row[1]\n",
    "        S11=m[0,1]/m[1,1]\n",
    "        S12=np.linalg.det(m)/m[1,1]\n",
    "        S21=1/m[1,1]\n",
    "        S22=-m[1,0]/m[1,1]\n",
    "        S_list.append([frequency,np.matrix([[S11,S12],[S21,S22]])])\n",
    "    return S_list\n",
    "\n",
    "def SFrequencyList_to_ZFrequencyList(s_frequency_list,Z01=complex(50,0),Z02=complex(50,0)):\n",
    "    \"\"\" Converts s parameters into z-parameters. S-parameters should be in the form [[f,S11,S12,S21,S22],...]\n",
    "    the port 1 (Z01) and port 2 (Z01) impedances can be specified, default is 50. Returns data in the form\n",
    "    [[f,Z11,Z12,Z21,Z22],...]\n",
    "    \"\"\"\n",
    "    z_frequency_list=[]\n",
    "    for row in s_frequency_list[:]:\n",
    "        [frequency,S11,S12,S21,S22]=row\n",
    "        denominator=-1*((1-S11)*(1-S22)-S12*S21)\n",
    "        Z11=((Z01.conjugate()+S11*Z01)*(1-S22)+S12*S21*Z01)/denominator\n",
    "        Z12=(2*S12*(Z01.real*Z02.real)**(.5))/denominator\n",
    "        Z21=(2*S21*(Z01.real*Z02.real)**(.5))/denominator\n",
    "        Z22=((1-S11)*(Z02.conjugate()+S22*Z02+S21*S12*Z02))/denominator\n",
    "        z_frequency_list.append([frequency,Z11,Z12,Z21,Z22])\n",
    "    return z_frequency_list\n",
    "\n",
    "def SFrequencyList_to_ABCDFrequencyList(s_frequency_list,Z01=complex(50,0),Z02=complex(50,0)):\n",
    "    \"\"\" Converts s parameters into ABCD-parameters. S-parameters should be in the form [[f,S11,S12,S21,S22],...]\n",
    "    the port 1 (Z01) and port 2 (Z01) impedances can be specified, default is 50. Returns data in the form\n",
    "    [[f,A,B,C,D],...]\n",
    "    \"\"\"\n",
    "    ABCD_frequency_list=[]\n",
    "    for row in s_frequency_list[:]:\n",
    "        [frequency,S11,S12,S21,S22]=row\n",
    "        denominator=2*S21*(Z01.real*Z02.real)**(.5)\n",
    "        A= ((Z01.conjugate()+S11*Z01)*(1-S22)+S12*S21*Z01)/denominator\n",
    "        B=((Z01.conjugate()+S11*Z01)*(Z02.conjugate()+S22*Z02)-S12*S21*Z01*Z02)/denominator\n",
    "        C=((1-S11)*(1-S22)-S12*S21)/denominator\n",
    "        D=((1-S11)*(Z02.conjugate()+S22*Z02)+S12*S21*Z02)/denominator\n",
    "        ABCD_frequency_list.append([frequency,A,B,C,D])\n",
    "    return ABCD_frequency_list\n",
    "\n",
    "def ZFrequencyList_to_TFrequencyList(Z_frequency_list,Z01=complex(50,0),Z02=complex(50,0)):\n",
    "    \"\"\" Converts z parameters into T parameters. Z-parameters should be in the form [[f,Z11,Z12,Z21,Z22],...]\n",
    "    the port 1 (Z01) and port 2 (Z01) impedances can be specified, default is 50. Returns data in the form\n",
    "    [[f,T11,T12,T21,T22],...]\n",
    "    \"\"\"  \n",
    "    t_frequency_list=[]\n",
    "    for row in Z_frequency_list[:]:\n",
    "        [frequency,Z11,Z12,Z21,Z22]=row\n",
    "        denominator=2*Z21*(Z01.real*Z02.real)**(.5)\n",
    "        T11= ((Z11+Z01)*(Z22+Z02)-Z12*Z21)/denominator\n",
    "        T12=((Z11+Z01)*(Z02.conjugate()-Z22)+Z12*Z21)/denominator\n",
    "        T21=((Z11-Z01.conjugate())*(Z22+Z02)-Z12*Z21)/denominator\n",
    "        T22=((Z01.conjugate()-Z11)*(Z22-Z02.conjugate())+Z12*Z21)/denominator\n",
    "        t_frequency_list.append([frequency,T11,T12,T21,T22])\n",
    "    return t_frequency_list    \n",
    "\n",
    "def ABCDFrequencyList_to_TFrequencyList(ABCD_frequency_list,Z01=complex(50,0),Z02=complex(50,0)):\n",
    "    \"\"\" Converts ABCD parameters into T parameters. ABCD-parameters should be in the form [[f,A,B,C,D],...]\n",
    "    the port 1 (Z01) and port 2 (Z01) impedances can be specified, default is 50. Returns data in the form\n",
    "    [[f,T11,T12,T21,T22],...]\n",
    "    \"\"\"  \n",
    "    t_frequency_list=[]\n",
    "    for row in ABCD_frequency_list[:]:\n",
    "        [frequency,A,B,C,D]=row\n",
    "        denominator=2*(Z01.real*Z02.real)**(.5)\n",
    "        T11= (A*Z02+B+C*Z01*Z02+D*Z01)/denominator\n",
    "        T12=(A*Z02.conjugate()-B+B*Z01*Z02-D*Z01)/denominator\n",
    "        T21=(A*Z02+B+C*Z01.conjugate()*Z02+D*Z01)/denominator\n",
    "        T22=(A*Z02.conjugate()-B-C*Z01.conjugate()*Z02.conjugate()+D*Z01.conjugate())/denominator\n",
    "        t_frequency_list.append([frequency,T11,T12,T21,T22])\n",
    "    return t_frequency_list\n",
    "\n",
    "def ABCDFrequencyList_to_YFrequencyList(ABCD_frequency_list):\n",
    "    \"\"\" Converts ABCD parameters into Y-parameters. ABCD-parameters should be in the form [[f,A,B,C,D],...]\n",
    "    Returns data in the form\n",
    "    [[f,Y11,Y12,Y21,Y22],...]\n",
    "    \"\"\"  \n",
    "    y_frequency_list=[]\n",
    "    for row in ABCD_frequency_list[:]:\n",
    "        [frequency,A,B,C,D]=row\n",
    "        Y11=D/B\n",
    "        Y12=(B*C-A*D)/B\n",
    "        Y21=-1/B\n",
    "        Y22=A/B\n",
    "        y_frequency_list.append([frequency,Y11,Y12,Y21,Y22])\n",
    "    return y_frequency_list \n",
    "\n",
    "def YFrequencyList_to_HFrequencyList(y_frequency_list):\n",
    "    \"\"\" Converts Y parameters into h-parameters. ABCD-parameters should be in the form [[f,Y11,Y12,Y21,Y22],...]\n",
    "    Returns data in the form\n",
    "    [[f,h11,h12,h21,h22],...]\n",
    "    \"\"\"  \n",
    "    h_frequency_list=[]\n",
    "    for row in y_frequency_list[:]:\n",
    "        [frequency,Y11,Y12,Y21,Y22]=row\n",
    "        h11=1/Y11\n",
    "        h12=-1*Y12/Y11\n",
    "        h21=Y21/Y11\n",
    "        h22=(Y11*Y22-Y12*Y21)/Y11\n",
    "        h_frequency_list.append([frequency,h11,h12,h21,h22])\n",
    "    return h_frequency_list \n",
    "\n",
    "def ABCDFrequencyList_to_HFrequencyList(ABCD_frequency_list):\n",
    "    \"\"\" Converts ABCD parameters into h-parameters. ABCD-parameters should be in the form [[f,A,B,C,D],...]\n",
    "    Returns data in the form\n",
    "    [[f,h11,h12,h21,h22],...]\n",
    "    \"\"\"  \n",
    "    h_frequency_list=[]\n",
    "    for row in ABCD_frequency_list[:]:\n",
    "        [frequency,A,B,C,D]=row\n",
    "        h11=D/B\n",
    "        h12=(A*D-B*C)/D\n",
    "        h21=-1/D\n",
    "        h22=C/D\n",
    "        h_frequency_list.append([frequency,h11,h12,h21,h22])\n",
    "    return h_frequency_list    \n",
    "\n",
    "def HFrequencyList_to_ZFrequencyList(h_frequency_list):\n",
    "    \"\"\" Converts h parameters into Z-parameters. h-parameters should be in the form [[f,h11,h12,h21,h22],...]\n",
    "    Returns data in the form\n",
    "    [[f,Z11,Z12,Z21,Z22],...]\n",
    "    \"\"\"  \n",
    "    z_frequency_list=[]\n",
    "    for row in h_frequency_list[:]:\n",
    "        [frequency,h11,h12,h21,h22]=row\n",
    "        Z11=(h11*h22-h12*h21)/h22\n",
    "        Z12=h12/h22\n",
    "        Z21=-1*h21/h22\n",
    "        Z22=1/h22\n",
    "        z_frequency_list.append([frequency,h11,h12,h21,h22])\n",
    "    return z_frequency_list "
   ]
  },
  {
   "cell_type": "markdown",
   "metadata": {},
   "source": [
    "## Creating a content graph for the parameters\n",
    "1. Begin with SParameterFrequencyList <-> SParameterFrequencyMatrixList\n",
    "2. Add SParameterFrequencyMatrixList <-> TParameterFrequencyMatrixList\n",
    "3. Add TParameterFrequencyMatrixList <-> TParameterFrequencyList\n",
    "4. Add SParameterFrequencyList -> ZParameterFrequencyList and ZParameterFrequencyList -> TParameterFrequencyList\n",
    "5. Add ZParameterFrequencyList <-> ZParameterFrequencyMatrixList\n",
    "6. Add SParameterFrequencyList -> ABCDParameterFrequencyList and ABCDParameterFrequencyList -> TParameterFrequencyList\n",
    "7. Add ABCDParameterFrequencyList <-> ABCDParameterFrequencyMatrixList\n",
    "8. Add ABCDParameterFrequencyList -> HParameterFrequencyList and HParameterFrequencyList -> ZParameterFrequencyList\n",
    "9. Add HParameterFrequencyList <-> HParameterFrequencyMatrixList\n",
    "10. Add ABCDParameterFrequencyList -> YParameterFrequencyList and YParameterFrequencyList -> HParameterFrequencyList\n",
    "11. Add YParameterFrequencyList <-> YParameterFrequencyMatrixList\n",
    "\n",
    "\n"
   ]
  },
  {
   "cell_type": "code",
   "execution_count": 135,
   "metadata": {
    "collapsed": true
   },
   "outputs": [],
   "source": [
    "# We begin with the basic graph setup \n",
    "graph_options={\"graph_name\":\"Two Port Parameter Graph\",\n",
    "                  \"node_names\":[\"SFrequencyList\",'SFrequencyMatrixList'],\n",
    "                  \"node_descriptions\":[\"S Parameters\",\"S Parameters in a Matrix\"],\n",
    "                  \"current_node\":'SFrequencyList',\n",
    "                  \"state\":[1,0],\n",
    "                  \"data\":[[1.0,0.0001,.999,.999,.0001]],\n",
    "                  \"edge_2_to_1\":FrequencyMatrixList_to_FrequencyList,\n",
    "                  \"edge_1_to_2\":FrequencyList_to_FrequencyMatrixList,\n",
    "                  \"frequency_units\":\"GHz\",\n",
    "                  \"Z01\":50,\n",
    "                  \"Z02\":50 }\n",
    "two_port_parameter_graph=Graph(**graph_options)"
   ]
  },
  {
   "cell_type": "code",
   "execution_count": 28,
   "metadata": {
    "collapsed": false
   },
   "outputs": [
    {
     "data": {
      "text/plain": [
       "<matplotlib.figure.Figure at 0x114aff60>"
      ]
     },
     "execution_count": 28,
     "metadata": {},
     "output_type": "execute_result"
    }
   ],
   "source": [
    "two_port_parameter_graph.show()"
   ]
  },
  {
   "cell_type": "code",
   "execution_count": 136,
   "metadata": {
    "collapsed": false
   },
   "outputs": [],
   "source": [
    "# now we add the nodes\n",
    "two_port_parameter_graph.add_node(\"TFrequencyMatrixList\",\n",
    "                                  \"SFrequencyMatrixList\",SFrequencyMatrixList_to_TFrequencyMatrixList,\n",
    "                                  \"SFrequencyMatrixList\",TFrequencyMatrixList_to_SFrequencyMatrixList,\n",
    "                                  \"T Parameters in a Matrix\")\n",
    "\n",
    "two_port_parameter_graph.add_node(\"TFrequencyList\",\n",
    "                                  \"TFrequencyMatrixList\",FrequencyMatrixList_to_FrequencyList,\n",
    "                                  \"TFrequencyMatrixList\",FrequencyList_to_FrequencyMatrixList,\n",
    "                                  \"T Parameters\")\n",
    "\n",
    "two_port_parameter_graph.add_node(\"ZFrequencyList\",\n",
    "                                  \"SFrequencyList\",SFrequencyList_to_ZFrequencyList,\n",
    "                                  \"TFrequencyList\",ZFrequencyList_to_TFrequencyList,\n",
    "                                  \"Z Parameters\")\n",
    "\n",
    "two_port_parameter_graph.add_node(\"ZFrequencyMatrixList\",\n",
    "                                  \"ZFrequencyList\",FrequencyList_to_FrequencyMatrixList,\n",
    "                                  \"ZFrequencyList\",FrequencyMatrixList_to_FrequencyList,\n",
    "                                  \"Z Parameters in a matrix\")\n",
    "\n",
    "two_port_parameter_graph.add_node(\"ABCDFrequencyList\",\n",
    "                                  \"SFrequencyList\",SFrequencyList_to_ABCDFrequencyList,\n",
    "                                  \"TFrequencyList\",ABCDFrequencyList_to_TFrequencyList,\n",
    "                                  \"ABCD Parameters\")\n",
    "\n",
    "two_port_parameter_graph.add_node(\"ABCDFrequencyMatrixList\",\n",
    "                                  \"ABCDFrequencyList\",FrequencyList_to_FrequencyMatrixList,\n",
    "                                  \"ABCDFrequencyList\",FrequencyMatrixList_to_FrequencyList,\n",
    "                                  \"ABCD Parameters in a matrix\")\n",
    "\n",
    "two_port_parameter_graph.add_node(\"HFrequencyList\",\n",
    "                                  \"ABCDFrequencyList\",ABCDFrequencyList_to_HFrequencyList,\n",
    "                                  \"ZFrequencyList\",HFrequencyList_to_ZFrequencyList,\n",
    "                                  \"h Parameters\")\n",
    "\n",
    "two_port_parameter_graph.add_node(\"HFrequencyMatrixList\",\n",
    "                                  \"HFrequencyList\",FrequencyList_to_FrequencyMatrixList,\n",
    "                                  \"HFrequencyList\",FrequencyMatrixList_to_FrequencyList,\n",
    "                                  \"H Parameters in a matrix\")\n",
    "\n",
    "two_port_parameter_graph.add_node(\"YFrequencyList\",\n",
    "                                  \"ABCDFrequencyList\",ABCDFrequencyList_to_YFrequencyList,\n",
    "                                  \"HFrequencyList\",YFrequencyList_to_HFrequencyList,\n",
    "                                  \"Y Parameters\")\n",
    "\n",
    "two_port_parameter_graph.add_node(\"YFrequencyMatrixList\",\n",
    "                                  \"YFrequencyList\",FrequencyList_to_FrequencyMatrixList,\n",
    "                                  \"YFrequencyList\",FrequencyMatrixList_to_FrequencyList,\n",
    "                                  \"Y Parameters in a matrix\")\n"
   ]
  },
  {
   "cell_type": "code",
   "execution_count": 137,
   "metadata": {
    "collapsed": false
   },
   "outputs": [
    {
     "name": "stdout",
     "output_type": "stream",
     "text": [
      "['edge_SFrequencyList_ZFrequencyList_000']\n",
      "moving SFrequencyList -> ZFrequencyList\n"
     ]
    }
   ],
   "source": [
    "two_port_parameter_graph.move_to_node(\"ZFrequencyList\")"
   ]
  },
  {
   "cell_type": "code",
   "execution_count": 35,
   "metadata": {
    "collapsed": false
   },
   "outputs": [
    {
     "data": {
      "text/plain": [
       "1.0"
      ]
     },
     "execution_count": 35,
     "metadata": {},
     "output_type": "execute_result"
    }
   ],
   "source": [
    "((1)**(.5))"
   ]
  },
  {
   "cell_type": "code",
   "execution_count": 138,
   "metadata": {
    "collapsed": false
   },
   "outputs": [
    {
     "data": {
      "text/plain": [
       "[[1.0,\n",
       "  (-55530.56931312082-0j),\n",
       "  -55530.5417979875,\n",
       "  -55530.5417979875,\n",
       "  (-55527.79556255801-0j)]]"
      ]
     },
     "execution_count": 138,
     "metadata": {},
     "output_type": "execute_result"
    }
   ],
   "source": [
    "two_port_parameter_graph.data"
   ]
  },
  {
   "cell_type": "code",
   "execution_count": 139,
   "metadata": {
    "collapsed": false
   },
   "outputs": [
    {
     "name": "stdout",
     "output_type": "stream",
     "text": [
      "['edge_ZFrequencyList_TFrequencyList_000']\n",
      "moving ZFrequencyList -> TFrequencyList\n"
     ]
    }
   ],
   "source": [
    "two_port_parameter_graph.move_to_node(\"TFrequencyList\")"
   ]
  },
  {
   "cell_type": "code",
   "execution_count": 140,
   "metadata": {
    "collapsed": false
   },
   "outputs": [
    {
     "data": {
      "text/plain": [
       "[[1.0,\n",
       "  (1.0267125343619605+0j),\n",
       "  (-0.02761244427187025-0j),\n",
       "  (0.0276623942718677+0j),\n",
       "  (0.9732385066290336-0j)]]"
      ]
     },
     "execution_count": 140,
     "metadata": {},
     "output_type": "execute_result"
    }
   ],
   "source": [
    "two_port_parameter_graph.data"
   ]
  },
  {
   "cell_type": "code",
   "execution_count": 133,
   "metadata": {
    "collapsed": false
   },
   "outputs": [
    {
     "name": "stdout",
     "output_type": "stream",
     "text": [
      "['edge_TFrequencyList_TFrequencyMatrixList_000', 'edge_TFrequencyMatrixList_SFrequencyMatrixList_000', 'edge_SFrequencyMatrixList_SFrequencyList_000']\n",
      "moving TFrequencyList -> TFrequencyMatrixList\n",
      "moving TFrequencyMatrixList -> SFrequencyMatrixList\n",
      "moving SFrequencyMatrixList -> SFrequencyList\n"
     ]
    }
   ],
   "source": [
    "two_port_parameter_graph.move_to_node(\"SFrequencyList\")"
   ]
  },
  {
   "cell_type": "code",
   "execution_count": 134,
   "metadata": {
    "collapsed": false
   },
   "outputs": [
    {
     "data": {
      "text/plain": [
       "[[1.0,\n",
       "  (0.2001120007205843+0j),\n",
       "  (0.80000800047957665+0j),\n",
       "  (0.80000800047990905+0j),\n",
       "  (0.20007200032066033-0j)]]"
      ]
     },
     "execution_count": 134,
     "metadata": {},
     "output_type": "execute_result"
    }
   ],
   "source": [
    "two_port_parameter_graph.data"
   ]
  },
  {
   "cell_type": "code",
   "execution_count": 123,
   "metadata": {
    "collapsed": false
   },
   "outputs": [
    {
     "name": "stdout",
     "output_type": "stream",
     "text": [
      "['edge_SFrequencyList_ABCDFrequencyList_000']\n",
      "moving SFrequencyList -> ABCDFrequencyList\n"
     ]
    }
   ],
   "source": [
    "two_port_parameter_graph.move_to_node(\"ABCDFrequencyList\")"
   ]
  },
  {
   "cell_type": "code",
   "execution_count": 124,
   "metadata": {
    "collapsed": false
   },
   "outputs": [
    {
     "data": {
      "text/plain": [
       "[[1.0,\n",
       "  (0.050000000000000017+0j),\n",
       "  (999.9999999999684+0j),\n",
       "  (-0.0010000000000000005+0j),\n",
       "  (4.4408920985004861e-16+0j)]]"
      ]
     },
     "execution_count": 124,
     "metadata": {},
     "output_type": "execute_result"
    }
   ],
   "source": [
    "two_port_parameter_graph.data"
   ]
  },
  {
   "cell_type": "code",
   "execution_count": 125,
   "metadata": {
    "collapsed": false
   },
   "outputs": [
    {
     "name": "stdout",
     "output_type": "stream",
     "text": [
      "equality_list is [False, True, False, True, False, False, False, False, False, False, False, False, False]\n",
      "equality_list is [False, True, False, True, False, False, False, False, False, False, False, False, False]\n",
      "equality_list is [False, False, False, False, True, False, True, False, False, False, False, False, False]\n",
      "equality_list is [False, False, False, False, True, False, True, False, False, False, False, False, False]\n",
      "equality_list is [False, False, False, False, False, False, False, True, False, True, False, False, False]\n",
      "equality_list is [False, False, False, False, False, False, False, True, False, True, False, False, False]\n",
      "['edge_ABCDFrequencyList_YFrequencyList_000', 'edge_YFrequencyList_HFrequencyList_000', 'edge_HFrequencyList_ZFrequencyList_000', 'edge_ZFrequencyList_TFrequencyList_000', 'edge_TFrequencyList_TFrequencyMatrixList_000', 'edge_TFrequencyMatrixList_SFrequencyMatrixList_000', 'edge_SFrequencyMatrixList_SFrequencyList_000']\n",
      "moving ABCDFrequencyList -> YFrequencyList\n",
      "moving YFrequencyList -> HFrequencyList\n",
      "moving HFrequencyList -> ZFrequencyList\n",
      "moving ZFrequencyList -> TFrequencyList\n",
      "moving TFrequencyList -> TFrequencyMatrixList\n",
      "moving TFrequencyMatrixList -> SFrequencyMatrixList\n",
      "moving SFrequencyMatrixList -> SFrequencyList\n"
     ]
    }
   ],
   "source": [
    "two_port_parameter_graph.move_to_node(\"SFrequencyList\")"
   ]
  },
  {
   "cell_type": "code",
   "execution_count": 126,
   "metadata": {
    "collapsed": false
   },
   "outputs": [
    {
     "data": {
      "text/plain": [
       "[[1.0, (1-0j), (-0.0020000000000000634-0j), (-0-0j), (-1.0000050000000003-0j)]]"
      ]
     },
     "execution_count": 126,
     "metadata": {},
     "output_type": "execute_result"
    }
   ],
   "source": [
    "two_port_parameter_graph.data"
   ]
  },
  {
   "cell_type": "code",
   "execution_count": null,
   "metadata": {
    "collapsed": true
   },
   "outputs": [],
   "source": []
  }
 ],
 "metadata": {
  "kernelspec": {
   "display_name": "Python 2",
   "language": "python",
   "name": "python2"
  },
  "language_info": {
   "codemirror_mode": {
    "name": "ipython",
    "version": 2
   },
   "file_extension": ".py",
   "mimetype": "text/x-python",
   "name": "python",
   "nbconvert_exporter": "python",
   "pygments_lexer": "ipython2",
   "version": "2.7.12"
  }
 },
 "nbformat": 4,
 "nbformat_minor": 0
}
