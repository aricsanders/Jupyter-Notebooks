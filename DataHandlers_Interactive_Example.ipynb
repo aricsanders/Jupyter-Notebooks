{
 "cells": [
  {
   "cell_type": "markdown",
   "metadata": {},
   "source": [
    "<a id=\"top\"></a>\n",
    "# Interactive Examples of Data Handlers\n",
    "<hr style=\"border-top: 3px double #8c8b8b;\"/>\n",
    "<ol>\n",
    "<li> <h3><a href=\"#Ascii\">General Ascii</a> </h3></li>\n",
    "<li> <h3><a href=\"#group\">Assorted Sparameter and Power Formats</a> </h3></li>\n",
    "<li> <h3><a href=\"#correction\">Error Correction </a> </h3></li>\n",
    "\n",
    "\n",
    "</ol>\n",
    "<hr style=\"border-top: 3px double #8c8b8b;\"/>"
   ]
  },
  {
   "cell_type": "code",
   "execution_count": 1,
   "metadata": {
    "collapsed": false
   },
   "outputs": [
    {
     "name": "stdout",
     "output_type": "stream",
     "text": [
      "Importing Code.Utils.Names\n",
      "Importing Code.DataHandlers.NISTModels\n",
      "Importing Code.DataHandlers.GeneralModels\n",
      "Importing Code.DataHandlers.TouchstoneModels\n",
      "Importing Code.DataHandlers.XMLModels\n",
      "Importing Code.DataHandlers.RadiCALModels\n",
      "Importing Code.DataHandlers.Translations\n",
      "Importing Code.DataHandlers.StatistiCALModels\n",
      "Importing Code.DataHandlers.MUFModels\n",
      "Importing Code.Analysis.SParameter\n",
      "Importing Code.InstrumentControl.Instruments\n",
      "Importing Code.InstrumentControl.Experiments\n"
     ]
    }
   ],
   "source": [
    "# import libraries\n",
    "from pyMeasure import *\n",
    "import random\n",
    "import os\n",
    "import re\n",
    "import ipywidgets as widgets\n",
    "from ipywidgets import interact, interactive, fixed"
   ]
  },
  {
   "cell_type": "markdown",
   "metadata": {},
   "source": [
    " <a href=\"#top\"> <em>back to top</em></a>\n",
    " <hr style=\"border-top: 2px double #8c8b8b;\"/>\n",
    " <h3><a id=\"Ascii\">General Ascii</a> </h3>"
   ]
  },
  {
   "cell_type": "code",
   "execution_count": 2,
   "metadata": {
    "collapsed": false
   },
   "outputs": [],
   "source": [
    "# Define a data table with a header, data and a footer\n",
    "data=[[i+j*10 for i in range(5) ] for j in range(20)]\n",
    "new_table=AsciiDataTable(None,data=data,header=[\"My header Line 1\", \"My Header Line 2\"],footer=[\"footer\"])\n"
   ]
  },
  {
   "cell_type": "code",
   "execution_count": 9,
   "metadata": {
    "collapsed": false,
    "scrolled": true
   },
   "outputs": [
    {
     "name": "stdout",
     "output_type": "stream",
     "text": [
      "**My header Line 1\n",
      "**My Header Line 2\n",
      "\n",
      "--$--\n",
      "(*x0 x1 x2 x3 x4*)\n",
      "--$--\n",
      "{0 1 2 3 4}\n",
      "{10 11 12 13 14}\n",
      "{20 21 22 23 24}\n",
      "{30 31 32 33 34}\n",
      "{40 41 42 43 44}\n",
      "{50 51 52 53 54}\n",
      "{60 61 62 63 64}\n",
      "{70 71 72 73 74}\n",
      "{80 81 82 83 84}\n",
      "{90 91 92 93 94}\n",
      "{100 101 102 103 104}\n",
      "{110 111 112 113 114}\n",
      "{120 121 122 123 124}\n",
      "{130 131 132 133 134}\n",
      "{140 141 142 143 144}\n",
      "{150 151 152 153 154}\n",
      "{160 161 162 163 164}\n",
      "{170 171 172 173 174}\n",
      "{180 181 182 183 184}\n",
      "{190 191 192 193 194}\n",
      "--$--\n",
      "**footer\n",
      "\n"
     ]
    }
   ],
   "source": [
    "def shuffle_format(x):\n",
    "    random.seed(x)\n",
    "    comment_characters=[\"#\",\"!\",\"/*\",\"**\",\"//\",\"^\",\"%\",\"%%\",\"\",\"@\",\"$\",\"&\",\"?\"]\n",
    "    section_seperators=[\"\",\"*\"*80,\"--Section--\",\"-\"*80,\"\\n\",\"--$--\"]\n",
    "    data_delimiters=[\",\",\".\",\":\",\";\",\"-\",\" \",\"\\t\",\"::\",\"~\",\" | \",\",\",\" \",\"+\"]\n",
    "    begin_end_pairs=[[\"<\",\">\"],[\"(*\",\"*)\"],\n",
    "                     [\"[\",\"]\"],[\"/*\",\"*/\"],[\"(\",\")\"],[\"<\",\"/>\"],[\"#\",\"\"],[\"{\",\"}\"],[\"\",\"\"],\n",
    "                    [\"(\",\")\"],[\"\\`\",\"\\'\"]]\n",
    "    random.shuffle(comment_characters)\n",
    "    random.shuffle(data_delimiters)\n",
    "    random.shuffle(begin_end_pairs)\n",
    "    random.shuffle(section_seperators)\n",
    "    new_table.options[\"data_table_element_separator\"]=\"\\n\"+section_seperators[0]+\"\\n\"\n",
    "    new_table.options[\"column_names_begin_token\"]=begin_end_pairs[0][0]\n",
    "    new_table.options[\"column_names_end_token\"]=begin_end_pairs[0][1]\n",
    "    new_table.options[\"data_delimiter\"]=data_delimiters[0]\n",
    "    new_table.options[\"comment_begin\"]=comment_characters[0]\n",
    "    new_table.options[\"comment_end\"]=\"\\n\"\n",
    "    random.shuffle(data_delimiters)\n",
    "    random.shuffle(begin_end_pairs)\n",
    "    new_table.options[\"column_names_delimiter\"]=data_delimiters[0]\n",
    "    new_table.options[\"row_begin_token\"]=begin_end_pairs[0][0]\n",
    "    new_table.options[\"row_end_token\"]=begin_end_pairs[0][1]+\"\\n\"\n",
    "    print new_table\n",
    "interact(shuffle_format,x=(0,1000,1))\n",
    "    "
   ]
  },
  {
   "cell_type": "markdown",
   "metadata": {},
   "source": [
    " <a href=\"#top\"> <em>back to top</em></a>\n",
    " <hr style=\"border-top: 2px double #8c8b8b;\"/>\n",
    " <h3><a id=\"group\">Assorted Sparameter and Power Formats</a> </h3>"
   ]
  },
  {
   "cell_type": "code",
   "execution_count": 4,
   "metadata": {
    "collapsed": false
   },
   "outputs": [
    {
     "data": {
      "image/png": "[encoded data removed]",
      "text/plain": [
       "<matplotlib.figure.Figure at 0x19aa8630>"
      ]
     },
     "metadata": {},
     "output_type": "display_data"
    }
   ],
   "source": [
    "%matplotlib inline\n",
    "os.chdir(TESTS_DIRECTORY)\n",
    "file_names=[\"700083.asc\",\"700196.asc\",\"CTN208.A1_011613\",\"CTN106.D4_091799\",\"952489.asc\",\n",
    "            \"N205RV.asc\",\"ftest6_L1_g5_HF_air\",\"QuartzRefExample_L1_g10_HF\",\n",
    "            \"filtern5_narrow.s2p\",\"thru.s2p\",\"setup20101028.s4p\",\n",
    "            \"B7_baseline_50ohm_OR2_10n0_4p0_REV2_EVB1_01new.s3p\",\n",
    "            \"One_Port_Raw_Sparameter_20160307_001.xml\",\n",
    "            \"Resource_Registry_20160518_001_Metadata.xml\",\n",
    "            \"open.meas\",\"Example_HD5.mat\"]\n",
    "file_paths=map(lambda x:os.path.join(TESTS_DIRECTORY,x),file_names)\n",
    "def model_selector(file_path):\n",
    "    \"Selects the appropriate pyMeasure model given a file_path or file_name\"\n",
    "    extension=file_path.split(\".\")[-1]\n",
    "    print(\"file path is {0} and extension is {1}\".format(file_path,extension))\n",
    "    if re.search(\"asc\",extension,re.IGNORECASE):\n",
    "        out=sparameter_power_type(file_path)\n",
    "            \n",
    "    elif file_path==extension:\n",
    "        out='JBSparameter'\n",
    "        \n",
    "    elif re.search(\"(.)+_(.)+\",extension):\n",
    "        out=sparameter_power_type(file_path)\n",
    "\n",
    "        \n",
    "    elif re.search(EXTENSION_PATTERN,extension,re.IGNORECASE):\n",
    "        match=re.match(EXTENSION_PATTERN,extension,re.IGNORECASE)\n",
    "        n_ports=match.groupdict()[\"Number_Ports\"]\n",
    "        print n_ports\n",
    "        if n_ports=='1':\n",
    "            out='S1PV1'\n",
    "        elif n_ports=='2':\n",
    "            out='S2PV1'\n",
    "        else:\n",
    "            out='SNP'\n",
    "    elif re.search(\"xml|meas\",extension,re.IGNORECASE):\n",
    "        out='XMLBase'\n",
    "    elif re.search(\"mat\",extension,re.IGNORECASE):\n",
    "        out='RadicalDataModel'\n",
    "    else:\n",
    "        print(\"Could not find model for {0}\".format(file_path))\n",
    "        out='JBSparameter'\n",
    "        \n",
    "    #print(\"Model is {0}\".format(out))\n",
    "    return out\n",
    "models=map(model_selector,file_paths)\n",
    "pyMeasure_model_data={}\n",
    "for index,model in enumerate(models):\n",
    "    #print index\n",
    "    pyMeasure_model_data[file_names[index]]=globals()[model](file_paths[index])\n",
    "    \n",
    "interact(lambda file_name: pyMeasure_model_data[file_name].show(),file_name=file_names)    "
   ]
  },
  {
   "cell_type": "markdown",
   "metadata": {},
   "source": [
    " <a href=\"#top\"> <em>back to top</em></a>\n",
    " <hr style=\"border-top: 2px double #8c8b8b;\"/>\n",
    " <h3><a id=\"correction\">Error Correction</a> </h3>"
   ]
  },
  {
   "cell_type": "code",
   "execution_count": null,
   "metadata": {
    "collapsed": true
   },
   "outputs": [],
   "source": []
  }
 ],
 "metadata": {
  "kernelspec": {
   "display_name": "Python 2",
   "language": "python",
   "name": "python2"
  },
  "language_info": {
   "codemirror_mode": {
    "name": "ipython",
    "version": 2
   },
   "file_extension": ".py",
   "mimetype": "text/x-python",
   "name": "python",
   "nbconvert_exporter": "python",
   "pygments_lexer": "ipython2",
   "version": "2.7.12"
  }
 },
 "nbformat": 4,
 "nbformat_minor": 0
}
