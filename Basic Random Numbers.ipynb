{
 "cells": [
  {
   "cell_type": "markdown",
   "metadata": {},
   "source": [
    "<p id=\"random\">\n",
    "<h2>Basic Random Number Generation and Printing in Python</h2>\n",
    "<a href=\"https://docs.python.org/2/library/random.html\">Uses the random library</a><br/>\n",
    "<a href=\"http://docs.scipy.org/doc/numpy/reference/routines.statistics.html\"> Also uses numpy for stats</a><br/>\n",
    "</p>"
   ]
  },
  {
   "cell_type": "code",
   "execution_count": 1,
   "metadata": {},
   "outputs": [
    {
     "name": "stdout",
     "output_type": "stream",
     "text": [
      "[ 0.93373726  1.02356969  1.1077139   1.0967065   0.90022678  0.95878067\n",
      "  1.14516549  1.01209582  0.92718236  0.97843633]\n",
      "****************************************************************************************************\n",
      "[ 0.93  1.02  1.11  1.1   0.9   0.96  1.15  1.01  0.93  0.98]\n",
      "____________________________________________________________________________________________________\n",
      "[0.93, 1.02, 1.11, 1.1, 0.9, 0.96, 1.15, 1.01, 0.93, 0.98]\n",
      "----------------------------------------------------------------------------------------------------\n",
      "////////////////////////////////////////////////////////////////////////////////////////////////////\n"
     ]
    }
   ],
   "source": [
    "import random\n",
    "import numpy as np\n",
    "random_list=np.array([random.gauss(1,.1) for i in range(10)])\n",
    "print random_list #raw print, notice it sucks for cut and paste\n",
    "print '*'*100 #simple way to make a line of characters\n",
    "print np.array_str(random_list, precision=2)# printing without commas, but with a specified precision\n",
    "print '_'*100\n",
    "print(map(lambda x:float(\"{:.2f}\".format(x)),random_list))#printing with commas for cut and paste  with a specific format\n",
    "print '-'*100\n",
    "print '/'*100"
   ]
  },
  {
   "cell_type": "code",
   "execution_count": null,
   "metadata": {},
   "outputs": [],
   "source": [
    ""
   ]
  }
 ],
 "metadata": {
  "kernelspec": {
   "display_name": "Python 2",
   "language": "python",
   "name": "python2"
  },
  "language_info": {
   "codemirror_mode": {
    "name": "ipython",
    "version": 2.0
   },
   "file_extension": ".py",
   "mimetype": "text/x-python",
   "name": "python",
   "nbconvert_exporter": "python",
   "pygments_lexer": "ipython2",
   "version": "2.7.2"
  }
 },
 "nbformat": 4,
 "nbformat_minor": 0
}