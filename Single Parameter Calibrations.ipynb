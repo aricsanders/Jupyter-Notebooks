{
 "cells": [
  {
   "cell_type": "markdown",
   "metadata": {},
   "source": [
    "# Creating an uncertainity model for a scalar calibrated measurement\n",
    "\n",
    "**Model**: A prediction of outcome.<br/>\n",
    "**Uncertainity**: A range that something could be true. <br/>\n",
    "**Measurement**: An assignment of a number to a characteristic of an object or event, which can be compared with other objects or events.<br/>\n",
    "**Measurement Probability Distribution**: The likely hood that a measurement will be between two numbers A and B.<br/>\n",
    "<a href=\"#random\">How to Generate Random Numbers in Python</a>"
   ]
  },
  {
   "cell_type": "markdown",
   "metadata": {},
   "source": [
    "<p id=\"random\">\n",
    "<h2>Basic Random Number Generation and Printing in Python</h2>\n",
    "<a href=\"https://docs.python.org/2/library/random.html\">Uses the random library</a><br/>\n",
    "<a href=\"http://docs.scipy.org/doc/numpy/reference/routines.statistics.html\"> Also uses numpy for stats</a><br/>\n",
    "</p>"
   ]
  },
  {
   "cell_type": "code",
   "execution_count": 14,
   "metadata": {
    "collapsed": false
   },
   "outputs": [
    {
     "name": "stdout",
     "output_type": "stream",
     "text": [
      "[ 0.8554234   1.08904304  1.02454474  0.96985476  0.93121219  1.00590039\n",
      "  0.90221547  0.96440459  0.99084621  0.87158879]\n",
      "****************************************************************************************************\n",
      "[ 0.86  1.09  1.02  0.97  0.93  1.01  0.9   0.96  0.99  0.87]\n",
      "____________________________________________________________________________________________________\n",
      "[0.86, 1.09, 1.02, 0.97, 0.93, 1.01, 0.9, 0.96, 0.99, 0.87]\n",
      "----------------------------------------------------------------------------------------------------\n",
      "////////////////////////////////////////////////////////////////////////////////////////////////////\n"
     ]
    }
   ],
   "source": [
    "import random\n",
    "import numpy as np\n",
    "random_list=np.array([random.gauss(1,.1) for i in range(10)])\n",
    "print random_list #raw print, notice it sucks for cut and paste\n",
    "print '*'*100 #simple way to make a line of characters\n",
    "print np.array_str(random_list, precision=2)# printing without commas, but with a specified precision\n",
    "print '_'*100\n",
    "print(map(lambda x:float(\"{:.2f}\".format(x)),random_list))#printing with commas for cut and paste  with a specific format\n",
    "print '-'*100\n",
    "print '/'*100"
   ]
  },
  {
   "cell_type": "code",
   "execution_count": null,
   "metadata": {
    "collapsed": true
   },
   "outputs": [],
   "source": []
  }
 ],
 "metadata": {
  "kernelspec": {
   "display_name": "Python 2",
   "language": "python",
   "name": "python2"
  },
  "language_info": {
   "codemirror_mode": {
    "name": "ipython",
    "version": 2
   },
   "file_extension": ".py",
   "mimetype": "text/x-python",
   "name": "python",
   "nbconvert_exporter": "python",
   "pygments_lexer": "ipython2",
   "version": "2.7.2"
  }
 },
 "nbformat": 4,
 "nbformat_minor": 0
}
