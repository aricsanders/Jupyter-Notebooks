{
 "cells": [
  {
   "cell_type": "code",
   "execution_count": 1,
   "metadata": {
    "collapsed": true
   },
   "outputs": [],
   "source": [
    "import sympy\n",
    "import math\n",
    "import numpy as np\n",
    "import re"
   ]
  },
  {
   "cell_type": "code",
   "execution_count": 2,
   "metadata": {
    "collapsed": false
   },
   "outputs": [
    {
     "name": "stdout",
     "output_type": "stream",
     "text": [
      "a*sin(omega*t + phi - 2*pi*x/lamda) + c\n"
     ]
    }
   ],
   "source": [
    "[a,omega,t,lamda,x,phi,c]=sympy.symbols('a omega t lamda x phi c')\n",
    "sine_wave=a*sympy.sin(omega*t-(2*sympy.pi/lamda)*x+phi)+c\n",
    "sympy.init_printing()\n",
    "print(sine_wave)"
   ]
  },
  {
   "cell_type": "code",
   "execution_count": 3,
   "metadata": {
    "collapsed": false
   },
   "outputs": [
    {
     "name": "stdout",
     "output_type": "stream",
     "text": [
      "a omega lamda phi c x t z\n"
     ]
    }
   ],
   "source": [
    "string_list=re.split(\"[\\s|,]+\",\"a omega lamda phi c x t z\")\n",
    "string=\"\"\n",
    "for index,piece in enumerate(string_list):\n",
    "    if index ==0:\n",
    "        string+=piece\n",
    "    else:\n",
    "        string+=\" \"+piece\n",
    "print string"
   ]
  },
  {
   "cell_type": "code",
   "execution_count": 4,
   "metadata": {
    "collapsed": false
   },
   "outputs": [],
   "source": [
    "for parameter in string_list:\n",
    "    globals()[parameter]=sympy.symbols(parameter)"
   ]
  },
  {
   "cell_type": "code",
   "execution_count": 5,
   "metadata": {
    "collapsed": true
   },
   "outputs": [],
   "source": [
    "equation=a*sympy.sin(omega*t-(2*sympy.pi/lamda)*x+phi)+c"
   ]
  },
  {
   "cell_type": "code",
   "execution_count": 6,
   "metadata": {
    "collapsed": false
   },
   "outputs": [
    {
     "data": {
      "image/png": "[encoded data removed]",
      "text/latex": [
       "$$- \\frac{2 \\pi}{\\lambda} a \\cos{\\left (\\omega t + \\phi - \\frac{2 \\pi}{\\lambda} x \\right )}$$"
      ],
      "text/plain": [
       "          ⎛          2⋅π⋅x⎞ \n",
       "-2⋅π⋅a⋅cos⎜ω⋅t + φ - ─────⎟ \n",
       "          ⎝            λ  ⎠ \n",
       "────────────────────────────\n",
       "             λ              "
      ]
     },
     "execution_count": 6,
     "metadata": {},
     "output_type": "execute_result"
    }
   ],
   "source": [
    "sympy.diff(equation,x)"
   ]
  },
  {
   "cell_type": "code",
   "execution_count": 7,
   "metadata": {
    "collapsed": false
   },
   "outputs": [
    {
     "data": {
      "image/png": "[encoded data removed]",
      "text/latex": [
       "$$\\sqrt{x}$$"
      ],
      "text/plain": [
       "  ___\n",
       "╲╱ x "
      ]
     },
     "execution_count": 7,
     "metadata": {},
     "output_type": "execute_result"
    }
   ],
   "source": [
    "# a simple sqrt\n",
    "sympy.sqrt(x)"
   ]
  },
  {
   "cell_type": "code",
   "execution_count": 8,
   "metadata": {
    "collapsed": false
   },
   "outputs": [
    {
     "data": {
      "image/png": "[encoded data removed]",
      "text/latex": [
       "$$\\frac{2 \\pi}{\\lambda} a \\omega \\sin{\\left (\\omega t + \\phi - \\frac{2 \\pi}{\\lambda} x \\right )}$$"
      ],
      "text/plain": [
       "           ⎛          2⋅π⋅x⎞\n",
       "2⋅π⋅a⋅ω⋅sin⎜ω⋅t + φ - ─────⎟\n",
       "           ⎝            λ  ⎠\n",
       "────────────────────────────\n",
       "             λ              "
      ]
     },
     "execution_count": 8,
     "metadata": {},
     "output_type": "execute_result"
    }
   ],
   "source": [
    "# a derivative\n",
    "sympy.diff(sympy.diff(sine_wave,'t'),x)"
   ]
  },
  {
   "cell_type": "code",
   "execution_count": 9,
   "metadata": {
    "collapsed": false
   },
   "outputs": [
    {
     "data": {
      "image/png": "[encoded data removed]",
      "text/latex": [
       "$$10.0500416527801$$"
      ],
      "text/plain": [
       "10.0500416527801"
      ]
     },
     "execution_count": 9,
     "metadata": {},
     "output_type": "execute_result"
    }
   ],
   "source": [
    "sine_wave.evalf(subs={a:10,omega:10**-1,t:1,x:1,lamda:10**-3,phi:math.pi/2,c:.1})"
   ]
  },
  {
   "cell_type": "code",
   "execution_count": 10,
   "metadata": {
    "collapsed": true
   },
   "outputs": [],
   "source": [
    "sine_function=sympy.lambdify(x,sine_wave.subs({a:10,omega:10**-1,t:1,lamda:10**-3,phi:math.pi/2,c:.1}),'numpy')"
   ]
  },
  {
   "cell_type": "code",
   "execution_count": 11,
   "metadata": {
    "collapsed": false
   },
   "outputs": [
    {
     "data": {
      "image/png": "[encoded data removed]",
      "text/latex": [
       "$$10.0500416528$$"
      ],
      "text/plain": [
       "10.0500416528"
      ]
     },
     "execution_count": 11,
     "metadata": {},
     "output_type": "execute_result"
    }
   ],
   "source": [
    "sine_function(1)"
   ]
  },
  {
   "cell_type": "code",
   "execution_count": 12,
   "metadata": {
    "collapsed": false
   },
   "outputs": [
    {
     "data": {
      "text/plain": [
       "array([ 10.05004165,   4.00768164,  -7.52950106,  -8.33839027,\n",
       "         2.71844104,  10.09332727,   3.41600392,  -7.92414901,\n",
       "        -7.98107059,   3.32527998,  10.09637328,   2.81097383,\n",
       "        -8.28648654,  -7.59121129,   3.91913186,  10.05916742,\n",
       "         2.1950276 ,  -8.61505466,  -7.1703822 ,   4.49760543,\n",
       "         9.98185951,   1.57064544,  -8.90853032,  -6.72027785,\n",
       "         5.05837141,   9.86476084,   0.9403415 ,  -9.16573182,\n",
       "        -6.24271064,   5.59917177,   9.70834293,   0.30665381,\n",
       "        -9.38562348,  -5.73960358,   6.11782891,   9.51323561,\n",
       "        -0.327866  ,  -9.56731988,  -5.21298249,   6.61225437,\n",
       "         9.28022451,  -0.96066295,  -9.7100894 ,  -4.6649679 ,\n",
       "         7.08045728,   9.01024789,  -1.58918899,  -9.81335715,\n",
       "        -4.09776646,   7.52055236,   8.70439285,  -2.21091325,\n",
       "        -9.87670731,  -3.5136621 ,   7.93076749,   8.36389095,\n",
       "        -2.82333229,  -9.89988479,  -2.9150068 ,   8.30945089,\n",
       "         7.99011328,  -3.42398009,  -9.88279626,  -2.30421113,\n",
       "         8.65507772,   7.58456491,  -4.01043808,  -9.82551054,\n",
       "        -1.68373455,   8.96625627,   7.14887884,  -4.58034478,\n",
       "        -9.72825829,  -1.0560755 ,   9.24173354,   6.68480942,\n",
       "        -5.13140538,  -9.59143111,  -0.42376135,   9.48040028,\n",
       "         6.19422529,  -5.66140096,  -9.41557996,   0.21066181,\n",
       "         9.68129545,   5.67910187,  -6.16819741,  -9.20141293,\n",
       "         0.84463937,   9.84361013,   5.14151338,  -6.64975404,\n",
       "        -8.94979239,   1.47561854,   9.96669073,   4.5836245 ,\n",
       "        -7.1041318 ,  -8.66173153,   2.10105857,  10.05004165])"
      ]
     },
     "execution_count": 12,
     "metadata": {},
     "output_type": "execute_result"
    }
   ],
   "source": [
    "sine_function((np.linspace(-1,1,100)))"
   ]
  },
  {
   "cell_type": "code",
   "execution_count": 13,
   "metadata": {
    "collapsed": true
   },
   "outputs": [],
   "source": [
    "import matplotlib.pyplot as plt\n",
    "x_data=np.linspace(-1,1,100)\n",
    "plt.plot(x_data,sine_function(x_data))\n",
    "plt.title('${0}$'.format(sympy.latex(sine_wave.subs({a:10,omega:10**-1,t:1,lamda:10**-3,phi:math.pi/2,c:.1}))))\n",
    "plt.show()"
   ]
  },
  {
   "cell_type": "code",
   "execution_count": 14,
   "metadata": {
    "collapsed": false
   },
   "outputs": [
    {
     "name": "stdout",
     "output_type": "stream",
     "text": [
      "a \\sin{\\left (\\omega t + \\phi - \\frac{2 \\pi}{\\lambda} x \\right )} + c\n"
     ]
    }
   ],
   "source": [
    "print(sympy.latex(sine_wave))"
   ]
  },
  {
   "cell_type": "code",
   "execution_count": 15,
   "metadata": {
    "collapsed": false
   },
   "outputs": [
    {
     "name": "stdout",
     "output_type": "stream",
     "text": [
      "Importing Code.Utils.Names\n",
      "Importing Code.DataHandlers.NISTModels\n",
      "Importing Code.DataHandlers.GeneralModels\n",
      "Importing Code.DataHandlers.TouchstoneModels\n",
      "Importing Code.DataHandlers.XMLModels\n",
      "Importing Code.DataHandlers.RadiCALModels\n",
      "Importing Code.DataHandlers.ZipModels\n",
      "Importing Code.DataHandlers.Translations\n",
      "Importing Code.DataHandlers.StatistiCALModels\n",
      "Importing Code.DataHandlers.MUFModels\n",
      "Importing Code.Analysis.SParameter\n",
      "Importing Code.InstrumentControl.Instruments\n",
      "Importing Code.InstrumentControl.Experiments\n"
     ]
    }
   ],
   "source": [
    "from pyMeasure import *"
   ]
  },
  {
   "cell_type": "code",
   "execution_count": 16,
   "metadata": {
    "collapsed": true
   },
   "outputs": [],
   "source": [
    "from pyMeasure.Code.Analysis.Fitting import *"
   ]
  },
  {
   "cell_type": "code",
   "execution_count": 17,
   "metadata": {
    "collapsed": false
   },
   "outputs": [],
   "source": [
    "[m,x,b]=sympy.symbols(\"m x b\")\n",
    "sympy_line_function=m*x+b\n",
    "x_data=np.linspace(-1,2,100)\n",
    "y_data=[2*x+1 for x in x_data]\n",
    "results=least_squares_fit(line_function,x_data,y_data,[0,0])\n",
    "sub={m:results[1],b:results[0]}\n",
    "sympy_line_function.subs(sub)\n",
    "line=sympy.lambdify('x',sympy_line_function.subs(sub),'numpy')\n"
   ]
  },
  {
   "cell_type": "code",
   "execution_count": 18,
   "metadata": {
    "collapsed": false
   },
   "outputs": [],
   "source": [
    "plt.plot(x_data,line(x_data))\n",
    "plt.title(\"${0}$\".format(sympy.latex(sympy_line_function.subs(sub))))\n",
    "plt.show()"
   ]
  },
  {
   "cell_type": "markdown",
   "metadata": {},
   "source": [
    "The idea would be to build a class that uses the sympy function as a fitting function. This allows display of the function in latex, etc. \n",
    "What do we need f(x,*parameters):\n"
   ]
  },
  {
   "cell_type": "code",
   "execution_count": 19,
   "metadata": {
    "collapsed": true
   },
   "outputs": [],
   "source": [
    "# import needed libraries\n",
    "import numpy as np\n",
    "import scipy.optimize as so\n",
    "import matplotlib.pyplot as plt\n",
    "from ipywidgets import *\n",
    "import random\n",
    "from types import *\n",
    "import math\n",
    "import sympy\n",
    "\n",
    "# Define Constants\n",
    "# Constants that determine the span of the line in the x-axis\n",
    "X_MIN=-10\n",
    "X_MAX=10\n",
    "\n",
    "# Define Functions\n",
    "\n",
    "# Define a function that finds the optimized least squared fit to a function\n",
    "def fit(function,xdata,ydata,a0):\n",
    "    \"Fit returns a least square fit \"\n",
    "    error_function=lambda a, xdata, ydata:function(a,xdata)-ydata\n",
    "    a,success=so.leastsq(error_function, a0,args=(xdata,ydata))\n",
    "    return a\n",
    "\n",
    "# Define a linear function\n",
    "def line_function(a,x):\n",
    "    \"line function (y=a[1]x+a[0])\"\n",
    "    return a[1]*x+a[0]\n",
    "[m,x,b]=sympy.symbols(\"m x b\")\n",
    "sympy_line=m*x+b\n",
    "\n",
    "\n",
    "# Define a function that finds residuals given a fit function and fit parameters and an original data set\n",
    "def find_residuals(fit_function,fit_parameters,x_data,y_data):\n",
    "    \"\"\"Returns the residuals for a fit\"\"\"\n",
    "    if type(x_data) in [np.ndarray,ListType]:\n",
    "        output=map(lambda x:fit_function(fit_parameters,x),x_data)\n",
    "        if type(y_data) is not ListType:\n",
    "            raise \n",
    "        output=[f_x-y_data[index] for index,f_x in enumerate(output)]\n",
    "    elif type(x_data) is FloatType:\n",
    "        output=fit_function(fit_parameters,x_data)-y_data\n",
    "    else:\n",
    "        output=None\n",
    "    return output\n",
    "\n",
    "# Define a function to plot a line and a fit through that line\n",
    "def plot_line(noise_magnitude,number_points,slope,intercept):\n",
    "    \"A function to plot a line with noise\"\n",
    "    data_list=np.linspace(X_MIN,X_MAX,number_points)\n",
    "    y_data=[slope*x+intercept+random.gauss(0,noise_magnitude) for x in data_list]\n",
    "    results=fit(line_function,data_list,y_data,[1,0])\n",
    "    y_fit=[line_function(results,x) for x in data_list]\n",
    "    #plot the data\n",
    "    plt.plot(data_list,y_data,'ob')\n",
    "    #plot the fit\n",
    "    plt.plot(data_list,y_fit,'r-',linewidth=5)\n",
    "    ax=plt.gca()\n",
    "    ax.set_ylim(-300,300)\n",
    "    ax.set_title('y = {0:3.2f} x + {1:3.2f}'.format(results[1],results[0]))\n",
    "    plt.show()\n",
    "def plot_sympy_line(noise_magnitude,number_points,slope,intercept):\n",
    "    \"A function to plot a line with noise\"\n",
    "    data_list=np.linspace(X_MIN,X_MAX,number_points)\n",
    "    y_data=[slope*x+intercept+random.gauss(0,noise_magnitude) for x in data_list]\n",
    "    results=fit(line_function,data_list,y_data,[1,0])\n",
    "    sub={m:results[1],b:results[0]}\n",
    "    line=sympy.lambdify('x',sympy_line.subs(sub),'numpy')\n",
    "    y_fit=line(data_list)\n",
    "    #plot the data\n",
    "    plt.plot(data_list,y_data,'ob')\n",
    "    #plot the fit\n",
    "    plt.plot(data_list,y_fit,'r-',linewidth=5)\n",
    "    ax=plt.gca()\n",
    "    ax.set_ylim(-300,300)\n",
    "    ax.set_title(\"${0}$\".format(sympy.latex(sympy_line_function.subs(sub))))\n",
    "    plt.show()\n",
    "# Define a plotting function that shows a line, a fit through that line, the residuals of the fit and a histogram \n",
    "# of those residuals\n",
    "def plot_residuals(noise_magnitude,number_points,slope,intercept):\n",
    "    \"A function to plot a line with noise and the residuals of that fit including a histogram of those residuals\"\n",
    "    data_list=np.linspace(X_MIN,X_MAX,number_points)\n",
    "    y_data=[slope*x+intercept+random.gauss(0,noise_magnitude) for x in data_list]\n",
    "    results=fit(line_function,data_list,y_data,[1,0])\n",
    "    y_fit=[line_function(results,x) for x in data_list]\n",
    "    #plot the data\n",
    "    # Comment this line to change the plot layout\n",
    "    fig, (ax0, ax1, ax2) = plt.subplots(nrows=3)\n",
    "    \n",
    "    # Uncomment these lines to change the laytout\n",
    "#     fig = plt.figure()\n",
    "#     ax0 = plt.subplot(221)\n",
    "#     ax1 = plt.subplot(223)\n",
    "#     ax2 = plt.subplot(122)\n",
    "\n",
    "    ax0.plot(data_list,y_data,'ob')\n",
    "    # plot the fit\n",
    "    ax0.plot(data_list,y_fit,'r-',linewidth=5)\n",
    "    ax0.set_ylim(-300,300)\n",
    "    ax0.set_title('y = {0:3.2f} x + {1:3.2f}'.format(results[1],results[0]))\n",
    "    # find the residuals\n",
    "    residuals=find_residuals(line_function,results,data_list,y_data)\n",
    "    # plot the residuals\n",
    "    ax1.plot(data_list,residuals,'r^')\n",
    "    ax1.set_ylim(-100,100)\n",
    "    # plot a histogram of the residuals\n",
    "    ax2.hist(residuals,bins=int(math.floor(math.sqrt(number_points))))\n",
    "    ax2.set_ylim(0,100)\n",
    "    ax2.set_xlim(-200,200)\n",
    "    # set the plot titles\n",
    "    ax1.set_title('Residuals')\n",
    "    ax2.set_title('Residual Distrubution')\n",
    "    # display\n",
    "    plt.tight_layout()\n",
    "    plt.show()\n",
    "    \n",
    "\n",
    "# define scripts calling these create interactive plots \n",
    "def interact_with_plot():\n",
    "    %matplotlib inline\n",
    "    interact(plot_sympy_line,noise_magnitude=(0,100,1),number_points=(10,1000,10),slope=(-30,30,.1),intercept=(-200,200,1))\n",
    "\n",
    "# Test the find_residuals function\n",
    "def residual_script():\n",
    "    data_list=np.linspace(X_MIN,X_MAX,1000)\n",
    "    y_data=[5*x+10+random.gauss(0,5) for x in data_list]\n",
    "    results=fit(line_function,data_list,y_data,[1,0])\n",
    "    print find_residuals(line_function,results,data_list,y_data)\n",
    "    \n",
    "def interact_with_residuals():\n",
    "    %matplotlib inline\n",
    "    interact(plot_residuals,noise_magnitude=(0,100,1),\n",
    "             number_points=(10,1000,10),slope=(-30,30,.1),intercept=(-200,200,1))"
   ]
  },
  {
   "cell_type": "code",
   "execution_count": 20,
   "metadata": {
    "collapsed": false
   },
   "outputs": [],
   "source": [
    "plot_sympy_line(1,100,3,2)"
   ]
  },
  {
   "cell_type": "code",
   "execution_count": 21,
   "metadata": {
    "collapsed": false
   },
   "outputs": [
    {
     "data": {
      "image/png": "[encoded data removed]",
      "text/plain": [
       "<matplotlib.figure.Figure at 0x115dc0b8>"
      ]
     },
     "metadata": {},
     "output_type": "display_data"
    }
   ],
   "source": [
    "interact_with_plot()"
   ]
  },
  {
   "cell_type": "code",
   "execution_count": 22,
   "metadata": {
    "collapsed": false
   },
   "outputs": [
    {
     "ename": "IndentationError",
     "evalue": "expected an indented block (<ipython-input-22-61010c4cab39>, line 5)",
     "output_type": "error",
     "traceback": [
      "\u001b[1;36m  File \u001b[1;32m\"<ipython-input-22-61010c4cab39>\"\u001b[1;36m, line \u001b[1;32m5\u001b[0m\n\u001b[1;33m    \u001b[0m\n\u001b[1;37m    ^\u001b[0m\n\u001b[1;31mIndentationError\u001b[0m\u001b[1;31m:\u001b[0m expected an indented block\n"
     ]
    }
   ],
   "source": [
    "class FitFunction():\n",
    "    def __init__(self):\n",
    "        pass\n",
    "    def __str__(self):\n",
    "        "
   ]
  },
  {
   "cell_type": "code",
   "execution_count": null,
   "metadata": {
    "collapsed": true
   },
   "outputs": [],
   "source": [
    "class FunctionalModel(object):\n",
    "    def __intit__(self,file_path=None,**options):\n",
    "        defaults={\"parameters\":None,\"variables\":None,\"equation\":None}\n",
    "        self.options\n",
    "        for key,value in defaults.iteritems():\n",
    "            \n",
    "    def set_parameters(**parameter_dictionary):\n",
    "        \"\"\"Sets the parameters to the value specified by the dictionary\"\"\"\n",
    "        \n",
    "    def fit_data(self,x_data,y_data,**options):\n",
    "        \n",
    "    "
   ]
  },
  {
   "cell_type": "code",
   "execution_count": null,
   "metadata": {
    "collapsed": false
   },
   "outputs": [],
   "source": [
    "re.split(\"\\s+\",\"x pi lamda omega\")"
   ]
  },
  {
   "cell_type": "code",
   "execution_count": null,
   "metadata": {
    "collapsed": false
   },
   "outputs": [],
   "source": [
    "sympy.symbols(\"m x b\")"
   ]
  },
  {
   "cell_type": "code",
   "execution_count": null,
   "metadata": {
    "collapsed": true
   },
   "outputs": [],
   "source": [
    "# for parameter in se\n",
    "parameters=re.split(\"\\s+\",\"m b\")\n",
    "varaibles=re.split(\"\\s+\",\"x\")\n",
    "parameter_symbols=sympy.symbols(parameters)\n",
    "variable_symbols=sympy.symbols(varaibles)"
   ]
  },
  {
   "cell_type": "code",
   "execution_count": null,
   "metadata": {
    "collapsed": false
   },
   "outputs": [],
   "source": [
    "parameter_symbols[0]"
   ]
  },
  {
   "cell_type": "code",
   "execution_count": null,
   "metadata": {
    "collapsed": false
   },
   "outputs": [],
   "source": [
    "variable_symbols"
   ]
  },
  {
   "cell_type": "code",
   "execution_count": null,
   "metadata": {
    "collapsed": false
   },
   "outputs": [],
   "source": [
    "for index,parameter in enumerate(parameters):\n",
    "    globals()[parameter]=parameter_symbols[index]\n",
    "equation=m*x+b"
   ]
  },
  {
   "cell_type": "code",
   "execution_count": null,
   "metadata": {
    "collapsed": false
   },
   "outputs": [],
   "source": [
    "equation"
   ]
  },
  {
   "cell_type": "code",
   "execution_count": null,
   "metadata": {
    "collapsed": true
   },
   "outputs": [],
   "source": [
    "expanded_uncertainty=[]\n",
    "for parameter in parameter_symbols:\n",
    "    expanded_uncertainty.append(sympy.diff(equation,parameter))"
   ]
  },
  {
   "cell_type": "code",
   "execution_count": null,
   "metadata": {
    "collapsed": false
   },
   "outputs": [],
   "source": [
    "expanded_uncertainty"
   ]
  },
  {
   "cell_type": "markdown",
   "metadata": {},
   "source": [
    "# How to set the equation ...\n"
   ]
  },
  {
   "cell_type": "code",
   "execution_count": null,
   "metadata": {
    "collapsed": false
   },
   "outputs": [],
   "source": [
    "exec(\"equation2=m*x+b\")"
   ]
  },
  {
   "cell_type": "code",
   "execution_count": null,
   "metadata": {
    "collapsed": false
   },
   "outputs": [],
   "source": [
    "globals()[\"equation2\"]"
   ]
  },
  {
   "cell_type": "code",
   "execution_count": 78,
   "metadata": {
    "collapsed": false
   },
   "outputs": [],
   "source": [
    "class FunctionalModel(object):\n",
    "    def __init__(self,**options):\n",
    "        defaults= {\"parameters\":None,\"variables\":None,\"equation\":None,\"parameter_values\":{}}\n",
    "        self.options={}\n",
    "        for key,value in defaults.iteritems():\n",
    "            self.options[key]=value\n",
    "        for key,value in options.iteritems():\n",
    "            self.options[key]=value\n",
    "        # fix any lists \n",
    "        for item in [\"parameters\",\"variables\"]:\n",
    "            if type(self.options[item]) is StringType:\n",
    "                self.options[item]=re.split(\"\\s+\",self.options[item])\n",
    "            self.__dict__[item]=self.options[item]\n",
    "            self.__dict__[item+\"_symbols\"]=sympy.symbols(self.options[item])\n",
    "            # this creates the python variables in the global namespace, may back fire with lots of variables\n",
    "            for index,symbol in enumerate(self.__dict__[item+\"_symbols\"][:]):\n",
    "                globals()[item[index]]=symbol\n",
    "            self.options[item]=None\n",
    "        self.equation=sympy.sympify(self.options[\"equation\"])\n",
    "        self.function=sympy.lambdify(self.parameters+self.variables,self.equation,'numpy')\n",
    "        self.parameter_values=self.options[\"parameter_values\"]\n",
    "        self.options[\"parameter_values\"]={}\n",
    "        \n",
    "    def set_parameters(self,parameter_dictionary):\n",
    "        \"\"\"Sets the parameters to values in dictionary\"\"\"\n",
    "        self.parameter_values=parameter_dictionary\n",
    "        self.function=sympy.lambdify(self.variables,self.equation.subs(self.parameter_values),'numpy')\n",
    "        \n",
    "            \n",
    "    def clear_parameters(self):\n",
    "        \"\"\"Clears the parmeters specified by set_parameters\"\"\"\n",
    "        self.function=sympy.lambdify(self.parameters+self.variables,self.equation,'numpy')\n",
    "        self.parameter_values={}\n",
    "        \n",
    "    def fit_data(self,x_data,y_data,**options):\n",
    "        defaults= {\"initial_guess\":{parameter:0 for parameter in self.parameters},\"fixed_parameters\":None}\n",
    "        self.fit_options={}\n",
    "        for key,value in defaults.iteritems():\n",
    "            self.fit_options[key]=value\n",
    "        for key,value in options.iteritems():\n",
    "            self.fit_options[key]=value\n",
    "        \n",
    "        def fit_f(a,x):\n",
    "            self.clear_parameters()\n",
    "            input_list=[]\n",
    "            for parameter in a:\n",
    "                input_list.append(parameter)\n",
    "            input_list.append(x)\n",
    "            return self.function(*input_list)\n",
    "        # this needs to be reflected in fit_parameters\n",
    "        a0=[]\n",
    "        for key in self.parameters[:]:\n",
    "            a0.append(self.fit_options[\"initial_guess\"][key])\n",
    "        result=fit(fit_f,x_list,y_data,a0)\n",
    "        fit_parameters=result.tolist()\n",
    "        fit_parameter_dictionary={parameter:fit_parameters[index] for index,parameter in enumerate(self.parameters)}\n",
    "        self.set_parameters(fit_parameter_dictionary)\n",
    "        \n",
    "    "
   ]
  },
  {
   "cell_type": "code",
   "execution_count": 79,
   "metadata": {
    "collapsed": false
   },
   "outputs": [],
   "source": [
    "f=FunctionalModel(variables=\"x\",parameters=\"m b\", equation=\"m*x+b\")"
   ]
  },
  {
   "cell_type": "code",
   "execution_count": 62,
   "metadata": {
    "collapsed": false
   },
   "outputs": [],
   "source": [
    "globals()[\"x\"]=1"
   ]
  },
  {
   "cell_type": "code",
   "execution_count": 80,
   "metadata": {
    "collapsed": false
   },
   "outputs": [
    {
     "data": {
      "text/plain": [
       "array([  2.55,   6.55,  10.55,  14.55])"
      ]
     },
     "execution_count": 80,
     "metadata": {},
     "output_type": "execute_result"
    }
   ],
   "source": [
    "f.function(m=4,b=2.55,x=np.array([0,1,2,3]))\n",
    "\n"
   ]
  },
  {
   "cell_type": "code",
   "execution_count": 46,
   "metadata": {
    "collapsed": false
   },
   "outputs": [
    {
     "data": {
      "image/png": "[encoded data removed]",
      "text/latex": [
       "$$\\left [ x\\right ]$$"
      ],
      "text/plain": [
       "[x]"
      ]
     },
     "execution_count": 46,
     "metadata": {},
     "output_type": "execute_result"
    }
   ],
   "source": [
    "f.variables_symbols"
   ]
  },
  {
   "cell_type": "code",
   "execution_count": 65,
   "metadata": {
    "collapsed": false
   },
   "outputs": [],
   "source": [
    "#f.function(*[4,2.55,np.array([0,1,2,3])])\n",
    "def fit_f(a,x):\n",
    "    f.clear_parameters()\n",
    "    input_list=[]\n",
    "    for parameter in a:\n",
    "        input_list.append(parameter)\n",
    "    input_list.append(x)\n",
    "    return f.function(*input_list)\n"
   ]
  },
  {
   "cell_type": "code",
   "execution_count": 26,
   "metadata": {
    "collapsed": true
   },
   "outputs": [],
   "source": [
    "f.set_parameters({\"m\":2.67,\"b\":5.1})"
   ]
  },
  {
   "cell_type": "code",
   "execution_count": null,
   "metadata": {
    "collapsed": true
   },
   "outputs": [],
   "source": []
  },
  {
   "cell_type": "code",
   "execution_count": 27,
   "metadata": {
    "collapsed": false
   },
   "outputs": [
    {
     "data": {
      "text/plain": [
       "array([  5.1 ,   7.77,  10.44,  13.11])"
      ]
     },
     "execution_count": 27,
     "metadata": {},
     "output_type": "execute_result"
    }
   ],
   "source": [
    "f.function(x=np.array([0,1,2,3]))"
   ]
  },
  {
   "cell_type": "code",
   "execution_count": null,
   "metadata": {
    "collapsed": false
   },
   "outputs": [],
   "source": [
    "f.function"
   ]
  },
  {
   "cell_type": "code",
   "execution_count": null,
   "metadata": {
    "collapsed": false
   },
   "outputs": [],
   "source": [
    "f.parameter_values"
   ]
  },
  {
   "cell_type": "code",
   "execution_count": null,
   "metadata": {
    "collapsed": false
   },
   "outputs": [],
   "source": [
    "f.parameters"
   ]
  },
  {
   "cell_type": "code",
   "execution_count": null,
   "metadata": {
    "collapsed": false
   },
   "outputs": [],
   "source": [
    "f.variables"
   ]
  },
  {
   "cell_type": "code",
   "execution_count": 81,
   "metadata": {
    "collapsed": false
   },
   "outputs": [],
   "source": [
    "def fit(function,xdata,ydata,a0):\n",
    "    \"Fit returns a least square fit \"\n",
    "    error_function=lambda a, xdata, ydata:function(a,xdata)-ydata\n",
    "    a,success=so.leastsq(error_function, a0,args=(xdata,ydata))\n",
    "    return a\n",
    "\n",
    "# Define a linear function\n",
    "def line_function(a,x):\n",
    "    \"line function (y=a[1]x+a[0])\"\n",
    "    return a[1]*x+a[0]\n",
    "x_list=np.linspace(-100,100,1000)\n",
    "y_data=[2.67*x+5.1+random.gauss(0,20) for x in x_list]\n",
    "results=fit(line_function,x_list,y_data,[1,0])\n",
    "results2=fit(fit_f,x_list,y_data,[1,0])"
   ]
  },
  {
   "cell_type": "code",
   "execution_count": null,
   "metadata": {
    "collapsed": false
   },
   "outputs": [],
   "source": [
    "results"
   ]
  },
  {
   "cell_type": "code",
   "execution_count": 68,
   "metadata": {
    "collapsed": false
   },
   "outputs": [
    {
     "data": {
      "text/plain": [
       "array([ 2.65484064,  6.20910762])"
      ]
     },
     "execution_count": 68,
     "metadata": {},
     "output_type": "execute_result"
    }
   ],
   "source": [
    "results2"
   ]
  },
  {
   "cell_type": "code",
   "execution_count": null,
   "metadata": {
    "collapsed": false
   },
   "outputs": [],
   "source": [
    "fit_parameter=results2.tolist()"
   ]
  },
  {
   "cell_type": "code",
   "execution_count": null,
   "metadata": {
    "collapsed": false
   },
   "outputs": [],
   "source": [
    "parameter_dictionary={parameter:fit_parameter[index] for index,parameter in enumerate(f.parameters)}"
   ]
  },
  {
   "cell_type": "code",
   "execution_count": null,
   "metadata": {
    "collapsed": false
   },
   "outputs": [],
   "source": [
    "parameter_dictionary"
   ]
  },
  {
   "cell_type": "code",
   "execution_count": null,
   "metadata": {
    "collapsed": false
   },
   "outputs": [],
   "source": [
    "f.set_parameters(parameter_dictionary)"
   ]
  },
  {
   "cell_type": "code",
   "execution_count": null,
   "metadata": {
    "collapsed": false
   },
   "outputs": [],
   "source": [
    "f.function(x_data)"
   ]
  },
  {
   "cell_type": "code",
   "execution_count": 84,
   "metadata": {
    "collapsed": false
   },
   "outputs": [
    {
     "data": {
      "image/png": "[encoded data removed]",
      "text/plain": [
       "<matplotlib.figure.Figure at 0x11633828>"
      ]
     },
     "metadata": {},
     "output_type": "display_data"
    }
   ],
   "source": [
    "import matplotlib.pyplot as plt\n",
    "plt.plot(x_list,np.array(y_data),label=\"raw data\")\n",
    "plt.plot(x_list,f.function(x_list),label=\"fit\")\n",
    "plt.legend()\n",
    "plt.show()"
   ]
  },
  {
   "cell_type": "code",
   "execution_count": null,
   "metadata": {
    "collapsed": false
   },
   "outputs": [],
   "source": [
    "len(y_data)"
   ]
  },
  {
   "cell_type": "code",
   "execution_count": null,
   "metadata": {
    "collapsed": false
   },
   "outputs": [],
   "source": [
    "len(x_data)"
   ]
  },
  {
   "cell_type": "code",
   "execution_count": 82,
   "metadata": {
    "collapsed": false
   },
   "outputs": [],
   "source": [
    "f.fit_data(x_list,y_data)"
   ]
  },
  {
   "cell_type": "code",
   "execution_count": 85,
   "metadata": {
    "collapsed": false
   },
   "outputs": [
    {
     "data": {
      "text/plain": [
       "{'b': 4.188287308395738, 'm': 2.6599657222134083}"
      ]
     },
     "execution_count": 85,
     "metadata": {},
     "output_type": "execute_result"
    }
   ],
   "source": [
    "f.parameter_values"
   ]
  },
  {
   "cell_type": "code",
   "execution_count": 76,
   "metadata": {
    "collapsed": false
   },
   "outputs": [
    {
     "data": {
      "text/plain": [
       "['m', 'b']"
      ]
     },
     "execution_count": 76,
     "metadata": {},
     "output_type": "execute_result"
    }
   ],
   "source": [
    "f.parameters"
   ]
  },
  {
   "cell_type": "code",
   "execution_count": 77,
   "metadata": {
    "collapsed": false
   },
   "outputs": [
    {
     "data": {
      "text/plain": [
       "{'b': 5.316336207445554, 'm': 2.672140205648869}"
      ]
     },
     "execution_count": 77,
     "metadata": {},
     "output_type": "execute_result"
    }
   ],
   "source": [
    "f.parameter_values"
   ]
  },
  {
   "cell_type": "code",
   "execution_count": 86,
   "metadata": {
    "collapsed": false
   },
   "outputs": [
    {
     "name": "stdout",
     "output_type": "stream",
     "text": [
      "b + m*x\n"
     ]
    }
   ],
   "source": [
    "print f.equation"
   ]
  },
  {
   "cell_type": "code",
   "execution_count": 88,
   "metadata": {
    "collapsed": false
   },
   "outputs": [
    {
     "data": {
      "image/png": "[encoded data removed]",
      "text/latex": [
       "$$b + m x$$"
      ],
      "text/plain": [
       "b + m⋅x"
      ]
     },
     "execution_count": 88,
     "metadata": {},
     "output_type": "execute_result"
    }
   ],
   "source": [
    "f.equation"
   ]
  },
  {
   "cell_type": "code",
   "execution_count": 89,
   "metadata": {
    "collapsed": false
   },
   "outputs": [
    {
     "data": {
      "text/plain": [
       "sympy.core.add.Add"
      ]
     },
     "execution_count": 89,
     "metadata": {},
     "output_type": "execute_result"
    }
   ],
   "source": [
    "type(f.equation)"
   ]
  },
  {
   "cell_type": "code",
   "execution_count": null,
   "metadata": {
    "collapsed": true
   },
   "outputs": [],
   "source": []
  }
 ],
 "metadata": {
  "kernelspec": {
   "display_name": "Python 2",
   "language": "python",
   "name": "python2"
  },
  "language_info": {
   "codemirror_mode": {
    "name": "ipython",
    "version": 2
   },
   "file_extension": ".py",
   "mimetype": "text/x-python",
   "name": "python",
   "nbconvert_exporter": "python",
   "pygments_lexer": "ipython2",
   "version": "2.7.12"
  }
 },
 "nbformat": 4,
 "nbformat_minor": 0
}
