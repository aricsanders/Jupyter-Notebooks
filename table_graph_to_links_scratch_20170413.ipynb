{
 "cells": [
  {
   "cell_type": "code",
   "execution_count": 1,
   "metadata": {
    "collapsed": false
   },
   "outputs": [
    {
     "name": "stdout",
     "output_type": "stream",
     "text": [
      "Importing Code.Analysis.Fitting\n",
      "It took 10.681 s to import Code.Analysis.Fitting\n",
      "Importing Code.DataHandlers.GeneralModels\n",
      "It took 0.105 s to import Code.DataHandlers.GeneralModels\n",
      "Importing Code.DataHandlers.GraphModels\n",
      "The module smithplot was not found,please put it on the python path\n",
      "It took 12.691 s to import Code.DataHandlers.GraphModels\n",
      "Importing Code.DataHandlers.HTMLModels\n",
      "It took 0.005 s to import Code.DataHandlers.HTMLModels\n",
      "Importing Code.DataHandlers.MUFModels\n",
      "It took 0.005 s to import Code.DataHandlers.MUFModels\n",
      "Importing Code.DataHandlers.NISTModels\n",
      "It took 0.005 s to import Code.DataHandlers.NISTModels\n",
      "Importing Code.DataHandlers.StatistiCALModels\n",
      "It took 0.005 s to import Code.DataHandlers.StatistiCALModels\n",
      "Importing Code.DataHandlers.TouchstoneModels\n",
      "The module smithplot was not found,please put it on the python path\n",
      "It took 0.036 s to import Code.DataHandlers.TouchstoneModels\n",
      "Importing Code.DataHandlers.Translations\n",
      "It took 0.012 s to import Code.DataHandlers.Translations\n",
      "Importing Code.DataHandlers.XMLModels\n",
      "It took 0.005 s to import Code.DataHandlers.XMLModels\n",
      "Importing Code.DataHandlers.ZipModels\n",
      "It took 0.008 s to import Code.DataHandlers.ZipModels\n",
      "Importing Code.InstrumentControl.Experiments\n",
      "It took 0.252 s to import Code.InstrumentControl.Experiments\n",
      "Importing Code.InstrumentControl.Instruments\n",
      "It took 0.008 s to import Code.InstrumentControl.Instruments\n",
      "Importing Code.Utils.Names\n",
      "It took 0.007 s to import Code.Utils.Names\n",
      "It took 23.825 s to import all of the active modules\n"
     ]
    }
   ],
   "source": [
    "from pyMeasure import *"
   ]
  },
  {
   "cell_type": "code",
   "execution_count": 2,
   "metadata": {
    "collapsed": true
   },
   "outputs": [],
   "source": [
    "table_graph=TableGraph()"
   ]
  },
  {
   "cell_type": "code",
   "execution_count": 3,
   "metadata": {
    "collapsed": false
   },
   "outputs": [
    {
     "data": {
      "text/plain": [
       "['DataFrame',\n",
       " 'AsciiDataTable',\n",
       " 'HdfFile',\n",
       " 'XmlDataTable',\n",
       " 'ExcelFile',\n",
       " 'OdsFile',\n",
       " 'HtmlString',\n",
       " 'JsonFile',\n",
       " 'JsonString',\n",
       " 'CsvFile',\n",
       " 'MatFile',\n",
       " 'XmlFile',\n",
       " 'HtmlFile']"
      ]
     },
     "execution_count": 3,
     "metadata": {},
     "output_type": "execute_result"
    }
   ],
   "source": [
    "table_graph.node_names"
   ]
  },
  {
   "cell_type": "code",
   "execution_count": 15,
   "metadata": {
    "collapsed": false
   },
   "outputs": [],
   "source": [
    "def TableGraph_to_Links(table_graph,**options):\n",
    "    \"\"\"Converts a table graph to a set of download links with embedded data in them\"\"\"\n",
    "    defaults={\"base_name\":None,\n",
    "             \"nodes\":['XmlFile','CsvFile','ExcelFile','OdsFile','MatFile','HtmlFile','JsonFile'],\n",
    "             \"extensions\":['xml','csv','xlsx','ods','mat','html','json'],\n",
    "             \"mime_types\":['application/xml','text/plain','application/vnd.openxmlformats-officedocument.spreadsheetml.sheet',\n",
    "                'application/vnd.oasis.opendocument.spreadsheet',\n",
    "               'application/x-matlab-data','text/html','application/json']}\n",
    "    conversion_options={}\n",
    "    for key,value in defaults.iteritems():\n",
    "        conversion_options[key]=value\n",
    "    for key,value in options.iteritems():\n",
    "        conversion_options[key]=value\n",
    "    if conversion_options[\"base_name\"] is None:\n",
    "        base_name='test.txt'\n",
    "    else:\n",
    "        base_name=conversion_options[\"base_name\"]\n",
    "        \n",
    "    nodes=conversion_options[\"nodes\"]\n",
    "    extensions=conversion_options[\"extensions\"]\n",
    "    mime_types=conversion_options[\"mime_types\"]\n",
    "        \n",
    "    out_links=\"\"\n",
    "    for node_index,node in enumerate(nodes):\n",
    "        table_graph.move_to_node(node)\n",
    "        file_path=table_graph.data\n",
    "        in_file=open(file_path,'rb')\n",
    "        content_string=in_file.read()\n",
    "        link=String_to_DownloadLink(content_string,\n",
    "                                    suggested_name=change_extension(base_name,extensions[node_index]),\n",
    "                                   mime_type=mime_types[node_index],\n",
    "                                   text=extensions[node_index])\n",
    "        if node_index==len(nodes)-1:\n",
    "            out_links=out_links+link\n",
    "        else:\n",
    "            out_links=out_links+link+\" | \"\n",
    "    return out_links\n"
   ]
  },
  {
   "cell_type": "code",
   "execution_count": 16,
   "metadata": {
    "collapsed": false
   },
   "outputs": [
    {
     "name": "stdout",
     "output_type": "stream",
     "text": [
      "equality_list is [False, True, False, False, True, False, True, False, True, False, False]\n",
      "equality_list is [False, True, False, False, True, False, True, False, True, False, False]\n",
      "equality_list is [False, True, False, False, True, False, True, False, True, False, False]\n",
      "equality_list is [False, True, False, False, True, False, True, False, True, False, False]\n",
      "['edge_HdfFile_DataFrame_000', 'edge_DataFrame_JsonFile_000', 'edge_JsonFile_XmlDataTable_000', 'edge_XmlDataTable_XmlFile_000']\n",
      "moving HdfFile -> DataFrame\n",
      "moving DataFrame -> JsonFile\n",
      "moving JsonFile -> XmlDataTable\n",
      "moving XmlDataTable -> XmlFile\n",
      "['edge_XmlFile_XmlDataTable_000', 'edge_XmlDataTable_AsciiDataTable_000', 'edge_AsciiDataTable_DataFrame_000', 'edge_DataFrame_CsvFile_000']\n",
      "moving XmlFile -> XmlDataTable\n",
      "moving XmlDataTable -> AsciiDataTable\n",
      "moving AsciiDataTable -> DataFrame\n",
      "moving DataFrame -> CsvFile\n",
      "['edge_CsvFile_DataFrame_000', 'edge_DataFrame_ExcelFile_000']\n",
      "moving CsvFile -> DataFrame\n",
      "moving DataFrame -> ExcelFile\n",
      "['edge_ExcelFile_OdsFile_000']\n",
      "moving ExcelFile -> OdsFile\n",
      "['edge_OdsFile_ExcelFile_000', 'edge_ExcelFile_DataFrame_000', 'edge_DataFrame_AsciiDataTable_000', 'edge_AsciiDataTable_MatFile_000']\n",
      "moving OdsFile -> ExcelFile\n",
      "moving ExcelFile -> DataFrame\n",
      "moving DataFrame -> AsciiDataTable\n",
      "moving AsciiDataTable -> MatFile\n",
      "['edge_MatFile_AsciiDataTable_000', 'edge_AsciiDataTable_DataFrame_000', 'edge_DataFrame_HtmlFile_000']\n",
      "moving MatFile -> AsciiDataTable\n",
      "moving AsciiDataTable -> DataFrame\n",
      "moving DataFrame -> HtmlFile\n",
      "['edge_HtmlFile_HtmlString_000', 'edge_HtmlString_DataFrame_000', 'edge_DataFrame_JsonFile_000']\n",
      "moving HtmlFile -> HtmlString\n",
      "moving HtmlString -> DataFrame\n",
      "moving DataFrame -> JsonFile\n",
      "file://c:/users/sandersa/appdata/local/temp/1/tmpe9ckmo.html\n"
     ]
    }
   ],
   "source": [
    "links=TableGraph_to_Links(table_graph=table_graph)\n",
    "html=HTMLBase(html_text=links)\n",
    "html.add_body()\n",
    "html.show()"
   ]
  },
  {
   "cell_type": "code",
   "execution_count": null,
   "metadata": {
    "collapsed": true
   },
   "outputs": [],
   "source": []
  }
 ],
 "metadata": {
  "kernelspec": {
   "display_name": "Python 2",
   "language": "python",
   "name": "python2"
  },
  "language_info": {
   "codemirror_mode": {
    "name": "ipython",
    "version": 2
   },
   "file_extension": ".py",
   "mimetype": "text/x-python",
   "name": "python",
   "nbconvert_exporter": "python",
   "pygments_lexer": "ipython2",
   "version": "2.7.13"
  }
 },
 "nbformat": 4,
 "nbformat_minor": 2
}
