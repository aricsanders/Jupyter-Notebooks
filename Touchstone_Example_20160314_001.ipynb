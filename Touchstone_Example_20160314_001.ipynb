{
 "cells": [
  {
   "cell_type": "markdown",
   "metadata": {},
   "source": [
    "# Documenting the touchstone format\n",
    "[Touchstone][touchstone] is a series of formats for saving s-parameters and related data for network analyzer measurements. It is an ascii based format that can have several extensions associated with it. For a number of given number of ports it may have the file extension .snp where n is the number of ports. The most common extension is s2p, but other port numbers can exist and .ts can also represent a touchstone file of unknown port number.\n",
    "\n",
    "From the app-note on touchstone:\n",
    ">\"Touchstone files are ASCII text files in which frequency dependent data appears line by line, one line per data point, in increasing order of frequency. Each frequency line consists of a frequency value and one or more pairs of values for the magnitude and phase of each S-parameter at that frequency. Values are separated by one or more spaces, tabs or commands. Comments are preceded by an exclamation mark (!). Comments can appear on separate lines, or after the data on any line or lines. Extra spaces are ignored.\" \n",
    "\n",
    "\n",
    "\n",
    "[touchstone]:http://cp.literature.agilent.com/litweb/pdf/genesys200801/sim/linear_sim/sparams/touchstone_file_format.htm"
   ]
  },
  {
   "cell_type": "markdown",
   "metadata": {},
   "source": [
    "## Extracting a Data Row Using Regular Expressions\n",
    "\n",
    "for a 2 port row we would have something like:"
   ]
  },
  {
   "cell_type": "code",
   "execution_count": 6,
   "metadata": {
    "collapsed": false
   },
   "outputs": [
    {
     "name": "stdout",
     "output_type": "stream",
     "text": [
      "{'argS12': '-0.0021', 'argS11': '-0.1211', 'magS11': '0.3926', 'argS22': '-0.1211', 'argS21': '-0.0021', 'magS12': '-0.0003', 'Frequency': '1.0000', 'magS21': '-0.0003', 'magS22': '0.3926'}\n",
      "['10.0e10', '.1', '.001', '.9', '180.00', '.9', '180.00', '.1', '.001', '']\n"
     ]
    }
   ],
   "source": [
    "import re\n",
    "test_row_string='10.0e10  .1 .001 .9 180.00 .9 180.00\\t.1 .001\\n'\n",
    "test_row_string_2=' 1.0000  0.3926  -0.1211  -0.0003  -0.0021  -0.0003  -0.0021  0.3926  -0.1211\\n'\n",
    "num_match=r'[+-]?(\\d+(\\.\\d*)?|\\.\\d+)([eE][+-]?\\d+)?'\n",
    "names=[\"Frequency\",\"magS11\",\"argS11\",\"magS21\",\"argS21\",\"magS12\",\"argS12\",\"magS22\",\"argS22\"]\n",
    "row_regex=\"[\\s|.]+\"\n",
    "for index,name in enumerate(names):\n",
    "    if index == len(names)-1:\n",
    "        row_regex=row_regex+'(?P<%s>{0})'%name\n",
    "    else:\n",
    "        row_regex=row_regex+'(?P<%s>{0})[\\s]+'%name\n",
    "row_regex=row_regex.format(num_match)\n",
    "#print row_regex\n",
    "row_match=re.compile(row_regex)\n",
    "match=re.match(row_match,test_row_string_2)\n",
    "row_data=match.groupdict()\n",
    "print match.groupdict()\n",
    "data_list=re.split('[\\s]+',test_row_string)\n",
    "print data_list"
   ]
  },
  {
   "cell_type": "code",
   "execution_count": 2,
   "metadata": {
    "collapsed": false
   },
   "outputs": [
    {
     "data": {
      "text/plain": [
       "1.0"
      ]
     },
     "execution_count": 2,
     "metadata": {},
     "output_type": "execute_result"
    }
   ],
   "source": [
    "float(match.groupdict()['Frequency'])"
   ]
  },
  {
   "cell_type": "markdown",
   "metadata": {},
   "source": [
    "Now this matches a single row of data in the MA format. A similar formatter string can be used to match the DB and RI types."
   ]
  },
  {
   "cell_type": "markdown",
   "metadata": {},
   "source": [
    "## Extracting a comment using regular expressions"
   ]
  },
  {
   "cell_type": "code",
   "execution_count": 3,
   "metadata": {
    "collapsed": false
   },
   "outputs": [
    {
     "name": "stdout",
     "output_type": "stream",
     "text": [
      "{'Comment': ' This is a comment'}\n",
      "{'Comment': ' This is also a comment'}\n"
     ]
    }
   ],
   "source": [
    "COMMENT_PATTERN=\"!(?P<Comment>.+)\\n\"\n",
    "test_comment=\"! This is a comment\\n\"\n",
    "match=re.search(COMMENT_PATTERN,test_comment)\n",
    "print match.groupdict()\n",
    "test_comment_2=test_row_string+\"! This is also a comment\\n\"\n",
    "match=re.search(COMMENT_PATTERN,test_comment_2)\n",
    "print match.groupdict()"
   ]
  },
  {
   "cell_type": "markdown",
   "metadata": {},
   "source": [
    "## Extracting the option row values using regular expressions"
   ]
  },
  {
   "cell_type": "code",
   "execution_count": 4,
   "metadata": {
    "collapsed": false
   },
   "outputs": [
    {
     "name": "stdout",
     "output_type": "stream",
     "text": [
      "{'Reference_Resistance': '50.0', 'Parameter': 'S', 'Frequency_Units': 'GHZ', 'Format': 'RI'}\n"
     ]
    }
   ],
   "source": [
    "OPTION_LINE_PATTERN=\"\"\"#[\\s]+(?P<Frequency_Units>\\w+)[\\s]+(?P<Parameter>\\w+)[\\s]+(?P<Format>\\w+)[\\s]+R[\\s]+(?P<Reference_Resistance>[+-]?(\\d+(\\.\\d*)?|\\.\\d+)([eE][+-]?\\d+)?)\"\"\"\n",
    "test_option_line=\"# GHZ S RI R 50.0 \"\n",
    "match=re.search(OPTION_LINE_PATTERN,test_option_line)\n",
    "print match.groupdict()"
   ]
  },
  {
   "cell_type": "markdown",
   "metadata": {},
   "source": [
    "## Converting the columns of sparameters to complex numbers\n"
   ]
  },
  {
   "cell_type": "code",
   "execution_count": 7,
   "metadata": {
    "collapsed": false
   },
   "outputs": [],
   "source": [
    "data_dictionary={key:float(value) for key,value in row_data.iteritems()}\n"
   ]
  },
  {
   "cell_type": "code",
   "execution_count": 9,
   "metadata": {
    "collapsed": false
   },
   "outputs": [
    {
     "data": {
      "text/plain": [
       "3.141592653589793"
      ]
     },
     "execution_count": 9,
     "metadata": {},
     "output_type": "execute_result"
    }
   ],
   "source": [
    "import cmath,math\n",
    "math.pi"
   ]
  },
  {
   "cell_type": "code",
   "execution_count": 10,
   "metadata": {
    "collapsed": true
   },
   "outputs": [],
   "source": [
    "clist=[data_dictionary[\"Frequency\"],cmath.rect(data_dictionary[\"magS11\"],(math.pi/180)*data_dictionary[\"argS11\"])]"
   ]
  },
  {
   "cell_type": "code",
   "execution_count": 12,
   "metadata": {
    "collapsed": false
   },
   "outputs": [
    {
     "data": {
      "text/plain": [
       "(0.3925991230735705-0.0008297962782850733j)"
      ]
     },
     "execution_count": 12,
     "metadata": {},
     "output_type": "execute_result"
    }
   ],
   "source": [
    "clist[1]"
   ]
  },
  {
   "cell_type": "markdown",
   "metadata": {
    "collapsed": true
   },
   "source": [
    "# My issues with snp formats:\n",
    "1. The order of 2 ports should be S11 S12 S21 S22\n",
    "2. Line comments and inline comments are mixed. \n",
    "    + Line Comments can appear in any line including data lines, header lines, lines before and lines after data\n",
    "    + Inline comments are allowed at the ends of data lines but still only have ! and \"\\n\" as delimiters\n",
    "3. The matrix format seems to be formated for display and not content purposes. Wrapping the matrix after 4 S parameters is an arbitrary choice most likely driven by the 80 character line limit. This does not make sense in a world with 24 bit depth values\n",
    "4. The column_names are implicitly given by an optional line\n",
    "5. Data delimiter can be any combination of spaces, tabs, or command statements. This can be handled on read by a regex, but keeping the original delimiter is hard and stupid\n",
    "6. There is no record or row terminator. It in practice is an endline before a frequency value\n",
    "7. All types of snp file are a single data table except s2p which can be two data tables (Sparameter and Noise Parameter) end to end. This is fundementally a different data type and a second file should be generated.\n",
    "8. No idenitifed method for handling switch terms"
   ]
  },
  {
   "cell_type": "code",
   "execution_count": null,
   "metadata": {
    "collapsed": true
   },
   "outputs": [],
   "source": []
  }
 ],
 "metadata": {
  "kernelspec": {
   "display_name": "Python 2",
   "language": "python",
   "name": "python2"
  },
  "language_info": {
   "codemirror_mode": {
    "name": "ipython",
    "version": 2
   },
   "file_extension": ".py",
   "mimetype": "text/x-python",
   "name": "python",
   "nbconvert_exporter": "python",
   "pygments_lexer": "ipython2",
   "version": "2.7.13"
  }
 },
 "nbformat": 4,
 "nbformat_minor": 0
}
