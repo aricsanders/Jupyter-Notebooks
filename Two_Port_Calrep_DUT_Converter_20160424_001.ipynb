{
 "cells": [
  {
   "cell_type": "markdown",
   "metadata": {},
   "source": [
    "# Conversion of all DUT Calrep files in the ascii.dut folder\n",
    "Written by Aric Sanders 04/2016\n"
   ]
  },
  {
   "cell_type": "markdown",
   "metadata": {},
   "source": [
    "## First we import the important libraries"
   ]
  },
  {
   "cell_type": "code",
   "execution_count": null,
   "metadata": {
    "collapsed": false
   },
   "outputs": [],
   "source": [
    "import fnmatch\n",
    "import os\n",
    "import re\n",
    "from pyMeasure.Code.DataHandlers.NISTModels import *"
   ]
  },
  {
   "cell_type": "markdown",
   "metadata": {},
   "source": [
    "## Next we set the constants, top directory and file name patterns we need"
   ]
  },
  {
   "cell_type": "code",
   "execution_count": null,
   "metadata": {
    "collapsed": true
   },
   "outputs": [],
   "source": [
    "TOP_DIRECTORY=r'C:\\Share\\ascii.dut'\n",
    "# This pattern will find any names that have c in them\n",
    "TWO_PORT_PATTERN=re.compile('(?P<two_port_name>\\w+)c',re.IGNORECASE)\n"
   ]
  },
  {
   "cell_type": "code",
   "execution_count": null,
   "metadata": {
    "collapsed": false
   },
   "outputs": [],
   "source": [
    "# now we test the os.walk function\n",
    "# This has a memory leak I am not sure but I suspect it is jupyter's fault\n",
    "for root,directory,file_names in os.walk(TOP_DIRECTORY):\n",
    "    #print file_names\n",
    "    for file_name in file_names:\n",
    "        file_name=file_name.split('.')[0]\n",
    "        match=re.search(TWO_PORT_PATTERN,file_name)\n",
    "        try:\n",
    "            if match:\n",
    "                asc_file_name=match.groupdict()[\"two_port_name\"]+\".asc\"\n",
    "                print asc_file_name\n",
    "                converted_file=TwoPortCalrep(os.path.join(root,asc_file_name))\n",
    "                print converted_file.joined_table.header\n",
    "                del converted_file\n",
    "        except:\n",
    "            pass"
   ]
  },
  {
   "cell_type": "code",
   "execution_count": null,
   "metadata": {
    "collapsed": true
   },
   "outputs": [],
   "source": []
  }
 ],
 "metadata": {
  "kernelspec": {
   "display_name": "Python 2",
   "language": "python",
   "name": "python2"
  },
  "language_info": {
   "codemirror_mode": {
    "name": "ipython",
    "version": 2
   },
   "file_extension": ".py",
   "mimetype": "text/x-python",
   "name": "python",
   "nbconvert_exporter": "python",
   "pygments_lexer": "ipython2",
   "version": "2.7.11"
  }
 },
 "nbformat": 4,
 "nbformat_minor": 0
}
