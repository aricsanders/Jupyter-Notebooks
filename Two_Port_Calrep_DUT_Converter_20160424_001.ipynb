{
 "cells": [
  {
   "cell_type": "markdown",
   "metadata": {},
   "source": [
    "# Conversion of all DUT Calrep files in the ascii.dut folder\n",
    "Written by Aric Sanders 04/2016\n"
   ]
  },
  {
   "cell_type": "markdown",
   "metadata": {},
   "source": [
    "## First we import the important libraries"
   ]
  },
  {
   "cell_type": "code",
   "execution_count": 1,
   "metadata": {
    "collapsed": false
   },
   "outputs": [
    {
     "name": "stdout",
     "output_type": "stream",
     "text": [
      "The module smithplot was not found,please put it on the python path\n"
     ]
    }
   ],
   "source": [
    "import datetime\n",
    "import os\n",
    "import re\n",
    "import gc\n",
    "from pyMeasure.Code.DataHandlers.NISTModels import *"
   ]
  },
  {
   "cell_type": "markdown",
   "metadata": {},
   "source": [
    "## Next we set the constants, top directory and file name patterns we need"
   ]
  },
  {
   "cell_type": "code",
   "execution_count": 2,
   "metadata": {
    "collapsed": false
   },
   "outputs": [],
   "source": [
    "TOP_DIRECTORY=r'C:\\Share\\ascii.dut'\n",
    "# This pattern will find any names that have c in them\n",
    "TWO_PORT_PATTERN=re.compile('(?P<two_port_name>\\w+)c',re.IGNORECASE)\n",
    "EXCLUDE=[]#['2003','2004','2005','2007','2006','ascii.old']\n"
   ]
  },
  {
   "cell_type": "code",
   "execution_count": 3,
   "metadata": {
    "collapsed": false
   },
   "outputs": [],
   "source": [
    "# now we test the os.walk function\n",
    "# This has a memory leak I am not sure but I suspect it is jupyter's fault\n",
    "two_port_files=[]\n",
    "for root,directory,file_names in os.walk(TOP_DIRECTORY):\n",
    "    #print file_names\n",
    "    for file_name in file_names:\n",
    "        file_name=file_name.split('.')[0]\n",
    "        match=re.search(TWO_PORT_PATTERN,file_name)\n",
    "        \n",
    "        try:\n",
    "            for item in EXCLUDE:\n",
    "                if re.search(item,root):raise\n",
    "            if match:\n",
    "                asc_file_name=match.groupdict()[\"two_port_name\"]+\".asc\"\n",
    "#                 if asc_file_name in ['700633.asc','as.asc',\n",
    "#                                      'de.asc','00.asc','dir.asc','IL.asc',\"L2.asc\",\"L1.asc\",\"IS000.asc\"]:raise\n",
    "                if os.path.exists(os.path.join(root,asc_file_name)):\n",
    "                    two_port_files.append(os.path.join(root,asc_file_name))\n",
    "                else:\n",
    "                    pass\n",
    "                # WARNING: DON'T CONVERT IN THIS LOOP -it would be fine turned out to bad table joins...\n",
    "                #converted_file=TwoPortCalrep(os.path.join(root,asc_file_name))\n",
    "                #del converted_file\n",
    "                #gc.collect()\n",
    "        except:\n",
    "            pass"
   ]
  },
  {
   "cell_type": "code",
   "execution_count": 4,
   "metadata": {
    "collapsed": false
   },
   "outputs": [
    {
     "name": "stdout",
     "output_type": "stream",
     "text": [
      "10 loops, best of 3: 119 ms per loop\n"
     ]
    }
   ],
   "source": [
    "%timeit table=TwoPortCalrepModel(two_port_files[0])"
   ]
  },
  {
   "cell_type": "code",
   "execution_count": 5,
   "metadata": {
    "collapsed": false
   },
   "outputs": [
    {
     "data": {
      "text/plain": [
       "'20160129'"
      ]
     },
     "execution_count": 5,
     "metadata": {},
     "output_type": "execute_result"
    }
   ],
   "source": [
    "'29 Jan 2016'\n",
    "new=datetime.datetime.strptime('29 Jan 2016', '%d %b %Y')\n",
    "new.strftime('%Y%m%d')"
   ]
  },
  {
   "cell_type": "code",
   "execution_count": 6,
   "metadata": {
    "collapsed": false
   },
   "outputs": [
    {
     "ename": "SyntaxError",
     "evalue": "invalid syntax (<ipython-input-6-0d4553fee8ef>, line 9)",
     "output_type": "error",
     "traceback": [
      "\u001b[1;36m  File \u001b[1;32m\"<ipython-input-6-0d4553fee8ef>\"\u001b[1;36m, line \u001b[1;32m9\u001b[0m\n\u001b[1;33m    outfile=\u001b[0m\n\u001b[1;37m            ^\u001b[0m\n\u001b[1;31mSyntaxError\u001b[0m\u001b[1;31m:\u001b[0m invalid syntax\n"
     ]
    }
   ],
   "source": [
    "# now we can try the conversion one by one:\n",
    "for index,file_name in enumerate(two_port_files[:]):\n",
    "        print index,file_name\n",
    "        try:\n",
    "            lines=[]\n",
    "            infile=open(file_name,'r')\n",
    "            for line in infile:\n",
    "                lines.append(line)\n",
    "            outfile=\n",
    "            infile.close()\n",
    "            #table=TwoPortCalrepModel(file_name)\n",
    "            #print table.joined_table.header[1]\n",
    "            #date=datetime.datetime.strptime(table.joined_table.header[1], '%d %b %Y')\n",
    "            #new_file_name=table.joined_table.header[0]+\"_\"+date.strftime('%Y_%m_%d')+\".csv\"\n",
    "            print(\"%s works\"%file_name)\n",
    "        except:\n",
    "            print(\"%s,%s is a broken file\"%(index,file_name))\n",
    "            pass"
   ]
  },
  {
   "cell_type": "code",
   "execution_count": null,
   "metadata": {
    "collapsed": false
   },
   "outputs": [],
   "source": [
    "# now we can try the conversion one by one:\n",
    "for index,file_name in enumerate(two_port_files[:]):\n",
    "        print index,file_name\n",
    "        try:\n",
    "            table=TwoPortCalrepModel(file_name)\n",
    "            #print table.joined_table.header[1]\n",
    "            date=datetime.datetime.strptime(table.joined_table.header[1], '%d %b %Y')\n",
    "            new_file_name=table.joined_table.header[0]+\"_\"+date.strftime('%Y_%m_%d')+\".csv\"\n",
    "            new_path=os.path.join(r'C:\\Share\\Converted Two Ports',new_file_name)\n",
    "            print new_path\n",
    "            table.joined_table.header=None\n",
    "            table.joined_table.column_names=None\n",
    "            #table.joined_table.path=new_path\n",
    "            table.joined_table.save(new_path)\n",
    "            #print new_file_name\n",
    "        except:\n",
    "            #raise\n",
    "            print(\"%s,%s is a broken file\"%(index,file_name))\n",
    "            pass\n"
   ]
  },
  {
   "cell_type": "code",
   "execution_count": null,
   "metadata": {
    "collapsed": true
   },
   "outputs": [],
   "source": []
  }
 ],
 "metadata": {
  "kernelspec": {
   "display_name": "Python 2",
   "language": "python",
   "name": "python2"
  },
  "language_info": {
   "codemirror_mode": {
    "name": "ipython",
    "version": 2
   },
   "file_extension": ".py",
   "mimetype": "text/x-python",
   "name": "python",
   "nbconvert_exporter": "python",
   "pygments_lexer": "ipython2",
   "version": "2.7.11"
  }
 },
 "nbformat": 4,
 "nbformat_minor": 0
}
