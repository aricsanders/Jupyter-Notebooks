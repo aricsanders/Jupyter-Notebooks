{
 "cells": [
  {
   "cell_type": "markdown",
   "metadata": {},
   "source": [
    "# Button Links Test\n",
    "This notebook was inspired by a comment from Arpita Bhutani, she noted that the help / documentation was not easy to navigate. So this is a test to make it better"
   ]
  },
  {
   "cell_type": "markdown",
   "metadata": {},
   "source": [
    "<table>\n",
    "<tr><td> <a href='https://aricsanders.github.io/pyMez/index.html'>Index</a> </td></tr>\n",
    "</table>"
   ]
  },
  {
   "cell_type": "markdown",
   "metadata": {},
   "source": [
    "<a href='https://aricsanders.github.io/pyMez/index.html'>\n",
    "    <button type=\"button\">Index</button>\n",
    "</a>"
   ]
  },
  {
   "cell_type": "markdown",
   "metadata": {},
   "source": [
    "<table style=>\n",
    "<tr><td><a href='https://aricsanders.github.io/pyMez/index.html'>\n",
    "    <button type=\"button\"><h1>Index</h1></button>\n",
    "</a> </td>\n",
    "<td><a href='https://aricsanders.github.io/pyMez/index.html'>\n",
    "    <button type=\"button\">Index</button>\n",
    "</a> </td>\n",
    "<td><a href='https://aricsanders.github.io/pyMez/index.html'>\n",
    "    <button type=\"button\">Index</button>\n",
    "</a> </td>\n",
    "\n",
    "\n",
    "\n",
    "\n",
    "</tr>\n",
    "</table>"
   ]
  },
  {
   "cell_type": "markdown",
   "metadata": {},
   "source": [
    "<style>\n",
    "ul {\n",
    "    list-style-type: none;\n",
    "    margin: 0;\n",
    "    padding: 0;\n",
    "    overflow: hidden;\n",
    "    background-color: #333;\n",
    "}\n",
    "\n",
    "li {\n",
    "    float: left;\n",
    "}\n",
    "\n",
    "li a {\n",
    "    display: block;\n",
    "    color: white;\n",
    "    text-align: center;\n",
    "    padding: 14px 16px;\n",
    "    text-decoration: none;\n",
    "}\n",
    "\n",
    "/* Change the link color to #111 (black) on hover */\n",
    "li a:hover {\n",
    "    background-color: #111;\n",
    "}\n",
    "</style>\n",
    "<ul>\n",
    "  <li><a href=\"#home\">Home</a></li>\n",
    "  <li><a href=\"#news\">News</a></li>\n",
    "  <li><a href=\"#contact\">Contact</a></li>\n",
    "  <li style=\"float:right\"><a class=\"active\" href=\"#about\">About</a></li>\n",
    "</ul>"
   ]
  },
  {
   "cell_type": "markdown",
   "metadata": {},
   "source": [
    "<a class=\"btn\" href=\"https://aricsanders.github.io/pyMez/index.html\">Link</a>\n",
    "<button class=\"btn\" type=\"submit\">Button</button>\n",
    "<input class=\"btn\" type=\"button\" value=\"Input\">\n",
    "<input class=\"btn\" type=\"submit\" value=\"Submit\">"
   ]
  },
  {
   "cell_type": "markdown",
   "metadata": {},
   "source": [
    "<a href=\"../../pyMez_Documentation.html\">Documentation Home </a> |\n",
    "        <a href=\"../../pyMez/index.html\">API Documentation </a> |\n",
    "        <a href=\"./Examples_Home.html\">Examples</a> |\n",
    "        <a href=\"../../Reference_Index.html\">Index </a>"
   ]
  },
  {
   "cell_type": "markdown",
   "metadata": {},
   "source": [
    "<a href=\"../../pyMez_Documentation.html\"><button type=\"button\" class='btn-default'>Documentation Home</button></a>|\n",
    "        <a href=\"../../pyMez/index.html\"><button type=\"button\" class='btn btn-primary'>API Documentation</button></a>|\n",
    "        <a href=\"./Examples_Home.html\"><button type=\"button\">Examples</button></a> |\n",
    "        <a href=\"../../Reference_Index.html\"><button type=\"button\">Index</button> </a>"
   ]
  },
  {
   "cell_type": "markdown",
   "metadata": {},
   "source": [
    "\n",
    "<table style=\"border-style:none;font-size:large;\">\n",
    "<tr style=\"border-style:none;\"><td style=\"border-style:none;font-size:large;\"><a href='https://aricsanders.github.io/pyMez/index.html'>\n",
    "    <button type=\"button\" class='btn btn-primary'><span style=\"font-size:50px\">Index</span></button>\n",
    "</a> </td>\n",
    "<td style=\"border-style:none;\"><a href='https://aricsanders.github.io/pyMez/index.html'>\n",
    "    <button type=\"button\" class='btn btn-primary'>Index</button>\n",
    "</a> </td>\n",
    "<td style=\"border-style:none;\"><a href='https://aricsanders.github.io/pyMez/index.html'>\n",
    "    <button type=\"button\" class='btn btn-primary btn-lg'>Index</button>\n",
    "</a> </td>\n",
    "</tr>\n",
    "<tr style=\"border-style:none;\"><td style=\"border-style:none;font-size:large;\"><a href='https://aricsanders.github.io/pyMez/index.html'>\n",
    "    <button type=\"button\" class='btn btn-primary'><span style=\"font-size:25px\">Index</span></button>\n",
    "</a> </td>\n",
    "<td style=\"border-style:none;\"><a href='https://aricsanders.github.io/pyMez/index.html'>\n",
    "    <button type=\"button\" class='btn btn-primary'>Index</button>\n",
    "</a> </td>\n",
    "<td style=\"border-style:none;\"><a href='https://aricsanders.github.io/pyMez/index.html'>\n",
    "    <button type=\"button\" class='btn btn-primary btn-lg'>Index</button>\n",
    "</a> </td>\n",
    "</tr>\n",
    "</table>\n"
   ]
  },
  {
   "cell_type": "markdown",
   "metadata": {},
   "source": [
    "<div id=\"carouselExampleControls\" class=\"carousel slide\" data-ride=\"carousel\">\n",
    "  <div class=\"carousel-inner\">\n",
    "    <div class=\"carousel-item active\">\n",
    "      <img class=\"d-block w-100\" src=\"...\" alt=\"First slide\">\n",
    "    </div>\n",
    "    <div class=\"carousel-item\">\n",
    "      <img class=\"d-block w-100\" src=\"...\" alt=\"Second slide\">\n",
    "    </div>\n",
    "    <div class=\"carousel-item\">\n",
    "      <img class=\"d-block w-100\" src=\"...\" alt=\"Third slide\">\n",
    "    </div>\n",
    "  </div>\n",
    "  <a class=\"carousel-control-prev\" href=\"#carouselExampleControls\" role=\"button\" data-slide=\"prev\">\n",
    "    <span class=\"carousel-control-prev-icon\" aria-hidden=\"true\"></span>\n",
    "    <span class=\"sr-only\">Previous</span>\n",
    "  </a>\n",
    "  <a class=\"carousel-control-next\" href=\"#carouselExampleControls\" role=\"button\" data-slide=\"next\">\n",
    "    <span class=\"carousel-control-next-icon\" aria-hidden=\"true\"></span>\n",
    "    <span class=\"sr-only\">Next</span>\n",
    "  </a>\n",
    "</div>"
   ]
  },
  {
   "cell_type": "code",
   "execution_count": 1,
   "metadata": {
    "collapsed": true
   },
   "outputs": [],
   "source": [
    "import sys\n",
    "sys.path.append(r\"C:\\ProgramData\\Anaconda2\\Lib\\site-packages\\pyMez\")"
   ]
  },
  {
   "cell_type": "code",
   "execution_count": 2,
   "metadata": {
    "collapsed": true
   },
   "outputs": [],
   "source": [
    "from Code.Utils.HelpUtils import *"
   ]
  },
  {
   "cell_type": "code",
   "execution_count": 3,
   "metadata": {
    "collapsed": true
   },
   "outputs": [],
   "source": [
    "add_navigation_script(r\"C:\\Share\\pyMez_Documentation_scratch_20180712\\pyMez\")"
   ]
  },
  {
   "cell_type": "code",
   "execution_count": 27,
   "metadata": {
    "collapsed": true
   },
   "outputs": [],
   "source": [
    "def add_navigation_script(top_directory,navigation_style='button',**options):\n",
    "    \"\"\"Adds navigation links to the body tag of all html files in top_directory,\n",
    "    designed to add navigation to all files in Documentation/Examples/html\"\"\"\n",
    "    defaults={\"pages\":[\"Documentation Home\",\n",
    "                               \"API Documentation\",\n",
    "                               \"Examples\",\n",
    "                               \"Index\"],\n",
    "              \"page_locations\":[DOCUMENTATION_INDEX,API_INDEX,EXAMPLES_INDEX,REFERENCE_INDEX]}\n",
    "    navigation_options={}\n",
    "    \n",
    "    for key,value in defaults.iteritems():\n",
    "        navigation_options[key]=value\n",
    "    for key,value in options.iteritems():\n",
    "        navigation_options[key]=value\n",
    "        \n",
    "    simple_navigation_html=\"\"\"<a href='{Documentation Home}'>Documentation Home </a> |\n",
    "        <a href='{API Documentation}'>API Documentation </a> |\n",
    "        <a href='{Examples}'>Examples</a> |\n",
    "        <a href='{Index}'>Index </a>\"\"\"\n",
    "    button_navigation_html=\"\"\"<a id=\"top\"></a>\n",
    "        <table style='border-style:none;'>\n",
    "        <tr style=\"border-style:none;\">\n",
    "        <td style=\"border-style:none;\">\n",
    "        <a href='{Documentation Home}'><button type=\"button\" class='btn btn-primary'>\n",
    "        <span style=\"font-size:20px\">Documentation Home</span></button></a>\n",
    "        </td>\n",
    "        <td style=\"border-style:none;\">\n",
    "        <a href='{API Documentation}'><button type=\"button\" class='btn btn-primary'>\n",
    "        <span style=\"font-size:20px\">API Documentation</span></button></a>\n",
    "        </td>\n",
    "        <td style=\"border-style:none;\">\n",
    "        <a href='{Examples}'>\n",
    "        <button type=\"button\" class='btn btn-primary'>\n",
    "        <span style=\"font-size:20px\">Examples</span></button></a>\n",
    "        </td>\n",
    "        <td style=\"border-style:none;\">\n",
    "        <a href='{Index}'>\n",
    "        <button type=\"button\" class='btn btn-primary'>\n",
    "        <span style=\"font-size:20px\">Index</span></button></a>\n",
    "        </td>\n",
    "        </tr>\n",
    "        </table>\"\"\"\n",
    "    page_location_dictionary={}\n",
    "    if re.search('but|nav|bar',navigation_style,re.IGNORECASE):\n",
    "        navigation_html=button_navigation_html\n",
    "    else:\n",
    "        navigation_html = simple_navigation_html\n",
    "    file_names=os.listdir(top_directory)\n",
    "    for file_name in file_names:\n",
    "        extension=file_name.split(\".\")[-1]\n",
    "        if re.search('htm',extension,re.IGNORECASE):\n",
    "            in_file=open(os.path.join(top_directory,file_name),'r')\n",
    "            lines=[]\n",
    "            for line in in_file:\n",
    "                if re.search(\"\\<body\\>\",line,re.IGNORECASE):\n",
    "                    for page_index,page in enumerate(navigation_options[\"pages\"]):\n",
    "                        relative_path=os.path.relpath(navigation_options[\"page_locations\"][page_index],\n",
    "                                                      top_directory)\n",
    "                        \n",
    "                        page_location_dictionary[page]=relative_path.replace(\"\\\\\",\"/\")\n",
    "                        \n",
    "                    #print(page_location_dictionary)\n",
    "                    navigation_html=navigation_html.format(**page_location_dictionary)\n",
    "                    line=line+navigation_html\n",
    "                    lines.append(line)\n",
    "                else:\n",
    "                    lines.append(line)\n",
    "            in_file.close()\n",
    "            out_file=open(os.path.join(top_directory,file_name),'w')\n",
    "            out_file.writelines(lines)\n",
    "            out_file.close()\n"
   ]
  },
  {
   "cell_type": "code",
   "execution_count": 17,
   "metadata": {
    "collapsed": false
   },
   "outputs": [],
   "source": [
    "add_navigation_script(r\"C:\\Share\\pyMez_Documentation_scratch_20180712\\pyMez\")"
   ]
  },
  {
   "cell_type": "code",
   "execution_count": null,
   "metadata": {
    "collapsed": true
   },
   "outputs": [],
   "source": [
    "relative_paths={\"Documentation Home\":\"../../pyMez_Documentation.html\",\n",
    "                               \"API Documentation\":\"../../pyMez/index.html\",\n",
    "                               \"Examples\":\"./Examples_Home.html\",\n",
    "                               \"Index\":\"../../Reference_Index.html\"}"
   ]
  },
  {
   "cell_type": "code",
   "execution_count": 6,
   "metadata": {
    "collapsed": true
   },
   "outputs": [],
   "source": [
    "import os"
   ]
  },
  {
   "cell_type": "code",
   "execution_count": 24,
   "metadata": {
    "collapsed": false
   },
   "outputs": [
    {
     "data": {
      "text/plain": [
       "'..\\\\..\\\\..\\\\..\\\\ProgramData\\\\Anaconda2\\\\Lib\\\\site-packages\\\\pyMez\\\\Documentation\\\\pyMez_Documentation.html'"
      ]
     },
     "execution_count": 24,
     "metadata": {},
     "output_type": "execute_result"
    }
   ],
   "source": [
    "os.path.relpath(DOCUMENTATION_INDEX,\n",
    "                r\"C:\\Share\\pyMez_Documentation_scratch_20180712\\pyMez\\Code\")\n",
    "                "
   ]
  },
  {
   "cell_type": "code",
   "execution_count": 11,
   "metadata": {
    "collapsed": false
   },
   "outputs": [
    {
     "data": {
      "text/plain": [
       "'..\\\\pyMez_Documentation.html'"
      ]
     },
     "execution_count": 11,
     "metadata": {},
     "output_type": "execute_result"
    }
   ],
   "source": [
    "os.path.join(relative_path,\"pyMez_Documentation.html\")"
   ]
  },
  {
   "cell_type": "code",
   "execution_count": 12,
   "metadata": {
    "collapsed": true
   },
   "outputs": [],
   "source": [
    "DOCUMENTATION_INDEX=os.path.join(DOCUMENTATION_DIRECTORY,\"pyMez_Documentation.html\")\n",
    "EXAMPLES_INDEX=os.path.join(DOCUMENTATION_DIRECTORY,\"Examples/html\",\"Examples_Home.html\")\n",
    "API_INDEX=os.path.join(DOCUMENTATION_DIRECTORY,\"pyMez\",\"index.html\")\n",
    "REFERENCE_INDEX=os.path.join(DOCUMENTATION_DIRECTORY,\"Reference_Index.html\")"
   ]
  },
  {
   "cell_type": "code",
   "execution_count": 13,
   "metadata": {
    "collapsed": false
   },
   "outputs": [
    {
     "data": {
      "text/plain": [
       "'pyMez_Documentation.html'"
      ]
     },
     "execution_count": 13,
     "metadata": {},
     "output_type": "execute_result"
    }
   ],
   "source": [
    "os.path.basename(DOCUMENTATION_INDEX)"
   ]
  },
  {
   "cell_type": "code",
   "execution_count": 28,
   "metadata": {
    "collapsed": false
   },
   "outputs": [
    {
     "name": "stdout",
     "output_type": "stream",
     "text": [
      "{'Index': '../../../../ProgramData/Anaconda2/Lib/site-packages/pyMez/Documentation/Reference_Index.html', 'Documentation Home': '../../../../ProgramData/Anaconda2/Lib/site-packages/pyMez/Documentation/pyMez_Documentation.html', 'Examples': '../../../../ProgramData/Anaconda2/Lib/site-packages/pyMez/Documentation/Examples/html/Examples_Home.html', 'API Documentation': '../../../../ProgramData/Anaconda2/Lib/site-packages/pyMez/Documentation/pyMez/index.html'}\n"
     ]
    }
   ],
   "source": [
    "add_navigation_script(r\"C:\\Share\\pyMez_Documentation_scratch_20180712\\pyMez\\Code\")"
   ]
  },
  {
   "cell_type": "code",
   "execution_count": 23,
   "metadata": {
    "collapsed": false
   },
   "outputs": [
    {
     "data": {
      "text/plain": [
       "'C:\\\\ProgramData\\\\Anaconda2\\\\Lib\\\\site-packages\\\\pyMez\\\\Code\\\\Utils\\\\..\\\\..\\\\Documentation\\\\pyMez_Documentation.html'"
      ]
     },
     "execution_count": 23,
     "metadata": {},
     "output_type": "execute_result"
    }
   ],
   "source": [
    "DOCUMENTATION_INDEX"
   ]
  },
  {
   "cell_type": "code",
   "execution_count": 29,
   "metadata": {
    "collapsed": false
   },
   "outputs": [
    {
     "name": "stdout",
     "output_type": "stream",
     "text": [
      "{'Index': '../Reference_Index.html', 'Documentation Home': '../pyMez_Documentation.html', 'Examples': '../Examples/html/Examples_Home.html', 'API Documentation': 'index.html'}\n",
      "{'Index': '../../Reference_Index.html', 'Documentation Home': '../../pyMez_Documentation.html', 'Examples': '../../Examples/html/Examples_Home.html', 'API Documentation': '../index.html'}\n",
      "{'Index': '../../../Reference_Index.html', 'Documentation Home': '../../../pyMez_Documentation.html', 'Examples': '../../../Examples/html/Examples_Home.html', 'API Documentation': '../../index.html'}\n",
      "{'Index': '../../../Reference_Index.html', 'Documentation Home': '../../../pyMez_Documentation.html', 'Examples': '../../../Examples/html/Examples_Home.html', 'API Documentation': '../../index.html'}\n",
      "{'Index': '../../../Reference_Index.html', 'Documentation Home': '../../../pyMez_Documentation.html', 'Examples': '../../../Examples/html/Examples_Home.html', 'API Documentation': '../../index.html'}\n",
      "{'Index': '../../../Reference_Index.html', 'Documentation Home': '../../../pyMez_Documentation.html', 'Examples': '../../../Examples/html/Examples_Home.html', 'API Documentation': '../../index.html'}\n",
      "{'Index': '../../../Reference_Index.html', 'Documentation Home': '../../../pyMez_Documentation.html', 'Examples': '../../../Examples/html/Examples_Home.html', 'API Documentation': '../../index.html'}\n",
      "{'Index': '../../../Reference_Index.html', 'Documentation Home': '../../../pyMez_Documentation.html', 'Examples': '../../../Examples/html/Examples_Home.html', 'API Documentation': '../../index.html'}\n",
      "{'Index': '../../../Reference_Index.html', 'Documentation Home': '../../../pyMez_Documentation.html', 'Examples': '../../../Examples/html/Examples_Home.html', 'API Documentation': '../../index.html'}\n",
      "{'Index': '../../../Reference_Index.html', 'Documentation Home': '../../../pyMez_Documentation.html', 'Examples': '../../../Examples/html/Examples_Home.html', 'API Documentation': '../../index.html'}\n",
      "{'Index': '../../../Reference_Index.html', 'Documentation Home': '../../../pyMez_Documentation.html', 'Examples': '../../../Examples/html/Examples_Home.html', 'API Documentation': '../../index.html'}\n",
      "{'Index': '../../../Reference_Index.html', 'Documentation Home': '../../../pyMez_Documentation.html', 'Examples': '../../../Examples/html/Examples_Home.html', 'API Documentation': '../../index.html'}\n",
      "{'Index': '../../../Reference_Index.html', 'Documentation Home': '../../../pyMez_Documentation.html', 'Examples': '../../../Examples/html/Examples_Home.html', 'API Documentation': '../../index.html'}\n",
      "{'Index': '../../../Reference_Index.html', 'Documentation Home': '../../../pyMez_Documentation.html', 'Examples': '../../../Examples/html/Examples_Home.html', 'API Documentation': '../../index.html'}\n",
      "{'Index': '../../../Reference_Index.html', 'Documentation Home': '../../../pyMez_Documentation.html', 'Examples': '../../../Examples/html/Examples_Home.html', 'API Documentation': '../../index.html'}\n",
      "{'Index': '../../../Reference_Index.html', 'Documentation Home': '../../../pyMez_Documentation.html', 'Examples': '../../../Examples/html/Examples_Home.html', 'API Documentation': '../../index.html'}\n",
      "{'Index': '../../../Reference_Index.html', 'Documentation Home': '../../../pyMez_Documentation.html', 'Examples': '../../../Examples/html/Examples_Home.html', 'API Documentation': '../../index.html'}\n",
      "{'Index': '../../../Reference_Index.html', 'Documentation Home': '../../../pyMez_Documentation.html', 'Examples': '../../../Examples/html/Examples_Home.html', 'API Documentation': '../../index.html'}\n",
      "{'Index': '../../../Reference_Index.html', 'Documentation Home': '../../../pyMez_Documentation.html', 'Examples': '../../../Examples/html/Examples_Home.html', 'API Documentation': '../../index.html'}\n",
      "{'Index': '../../../Reference_Index.html', 'Documentation Home': '../../../pyMez_Documentation.html', 'Examples': '../../../Examples/html/Examples_Home.html', 'API Documentation': '../../index.html'}\n",
      "{'Index': '../../../Reference_Index.html', 'Documentation Home': '../../../pyMez_Documentation.html', 'Examples': '../../../Examples/html/Examples_Home.html', 'API Documentation': '../../index.html'}\n",
      "{'Index': '../../../Reference_Index.html', 'Documentation Home': '../../../pyMez_Documentation.html', 'Examples': '../../../Examples/html/Examples_Home.html', 'API Documentation': '../../index.html'}\n",
      "{'Index': '../../../Reference_Index.html', 'Documentation Home': '../../../pyMez_Documentation.html', 'Examples': '../../../Examples/html/Examples_Home.html', 'API Documentation': '../../index.html'}\n",
      "{'Index': '../../../Reference_Index.html', 'Documentation Home': '../../../pyMez_Documentation.html', 'Examples': '../../../Examples/html/Examples_Home.html', 'API Documentation': '../../index.html'}\n",
      "{'Index': '../../../Reference_Index.html', 'Documentation Home': '../../../pyMez_Documentation.html', 'Examples': '../../../Examples/html/Examples_Home.html', 'API Documentation': '../../index.html'}\n",
      "{'Index': '../../../Reference_Index.html', 'Documentation Home': '../../../pyMez_Documentation.html', 'Examples': '../../../Examples/html/Examples_Home.html', 'API Documentation': '../../index.html'}\n",
      "{'Index': '../../../Reference_Index.html', 'Documentation Home': '../../../pyMez_Documentation.html', 'Examples': '../../../Examples/html/Examples_Home.html', 'API Documentation': '../../index.html'}\n",
      "{'Index': '../../../Reference_Index.html', 'Documentation Home': '../../../pyMez_Documentation.html', 'Examples': '../../../Examples/html/Examples_Home.html', 'API Documentation': '../../index.html'}\n",
      "{'Index': '../../../Reference_Index.html', 'Documentation Home': '../../../pyMez_Documentation.html', 'Examples': '../../../Examples/html/Examples_Home.html', 'API Documentation': '../../index.html'}\n",
      "{'Index': '../../../Reference_Index.html', 'Documentation Home': '../../../pyMez_Documentation.html', 'Examples': '../../../Examples/html/Examples_Home.html', 'API Documentation': '../../index.html'}\n",
      "{'Index': '../../../Reference_Index.html', 'Documentation Home': '../../../pyMez_Documentation.html', 'Examples': '../../../Examples/html/Examples_Home.html', 'API Documentation': '../../index.html'}\n",
      "{'Index': '../../../Reference_Index.html', 'Documentation Home': '../../../pyMez_Documentation.html', 'Examples': '../../../Examples/html/Examples_Home.html', 'API Documentation': '../../index.html'}\n",
      "{'Index': '../../../Reference_Index.html', 'Documentation Home': '../../../pyMez_Documentation.html', 'Examples': '../../../Examples/html/Examples_Home.html', 'API Documentation': '../../index.html'}\n",
      "{'Index': '../../../Reference_Index.html', 'Documentation Home': '../../../pyMez_Documentation.html', 'Examples': '../../../Examples/html/Examples_Home.html', 'API Documentation': '../../index.html'}\n",
      "{'Index': '../../../Reference_Index.html', 'Documentation Home': '../../../pyMez_Documentation.html', 'Examples': '../../../Examples/html/Examples_Home.html', 'API Documentation': '../../index.html'}\n",
      "{'Index': '../../../Reference_Index.html', 'Documentation Home': '../../../pyMez_Documentation.html', 'Examples': '../../../Examples/html/Examples_Home.html', 'API Documentation': '../../index.html'}\n",
      "{'Index': '../../../Reference_Index.html', 'Documentation Home': '../../../pyMez_Documentation.html', 'Examples': '../../../Examples/html/Examples_Home.html', 'API Documentation': '../../index.html'}\n",
      "{'Index': '../../../Reference_Index.html', 'Documentation Home': '../../../pyMez_Documentation.html', 'Examples': '../../../Examples/html/Examples_Home.html', 'API Documentation': '../../index.html'}\n",
      "{'Index': '../../../Reference_Index.html', 'Documentation Home': '../../../pyMez_Documentation.html', 'Examples': '../../../Examples/html/Examples_Home.html', 'API Documentation': '../../index.html'}\n",
      "{'Index': '../../../Reference_Index.html', 'Documentation Home': '../../../pyMez_Documentation.html', 'Examples': '../../../Examples/html/Examples_Home.html', 'API Documentation': '../../index.html'}\n",
      "{'Index': '../../../Reference_Index.html', 'Documentation Home': '../../../pyMez_Documentation.html', 'Examples': '../../../Examples/html/Examples_Home.html', 'API Documentation': '../../index.html'}\n",
      "{'Index': '../../../Reference_Index.html', 'Documentation Home': '../../../pyMez_Documentation.html', 'Examples': '../../../Examples/html/Examples_Home.html', 'API Documentation': '../../index.html'}\n",
      "{'Index': '../../../Reference_Index.html', 'Documentation Home': '../../../pyMez_Documentation.html', 'Examples': '../../../Examples/html/Examples_Home.html', 'API Documentation': '../../index.html'}\n",
      "{'Index': '../../../Reference_Index.html', 'Documentation Home': '../../../pyMez_Documentation.html', 'Examples': '../../../Examples/html/Examples_Home.html', 'API Documentation': '../../index.html'}\n",
      "{'Index': '../../../Reference_Index.html', 'Documentation Home': '../../../pyMez_Documentation.html', 'Examples': '../../../Examples/html/Examples_Home.html', 'API Documentation': '../../index.html'}\n",
      "{'Index': '../../../Reference_Index.html', 'Documentation Home': '../../../pyMez_Documentation.html', 'Examples': '../../../Examples/html/Examples_Home.html', 'API Documentation': '../../index.html'}\n",
      "{'Index': '../../../Reference_Index.html', 'Documentation Home': '../../../pyMez_Documentation.html', 'Examples': '../../../Examples/html/Examples_Home.html', 'API Documentation': '../../index.html'}\n",
      "{'Index': '../../../Reference_Index.html', 'Documentation Home': '../../../pyMez_Documentation.html', 'Examples': '../../../Examples/html/Examples_Home.html', 'API Documentation': '../../index.html'}\n",
      "{'Index': '../../../Reference_Index.html', 'Documentation Home': '../../../pyMez_Documentation.html', 'Examples': '../../../Examples/html/Examples_Home.html', 'API Documentation': '../../index.html'}\n",
      "{'Index': '../../../Reference_Index.html', 'Documentation Home': '../../../pyMez_Documentation.html', 'Examples': '../../../Examples/html/Examples_Home.html', 'API Documentation': '../../index.html'}\n",
      "{'Index': '../../../Reference_Index.html', 'Documentation Home': '../../../pyMez_Documentation.html', 'Examples': '../../../Examples/html/Examples_Home.html', 'API Documentation': '../../index.html'}\n",
      "{'Index': '../../../Reference_Index.html', 'Documentation Home': '../../../pyMez_Documentation.html', 'Examples': '../../../Examples/html/Examples_Home.html', 'API Documentation': '../../index.html'}\n",
      "{'Index': '../../../Reference_Index.html', 'Documentation Home': '../../../pyMez_Documentation.html', 'Examples': '../../../Examples/html/Examples_Home.html', 'API Documentation': '../../index.html'}\n",
      "{'Index': '../../../Reference_Index.html', 'Documentation Home': '../../../pyMez_Documentation.html', 'Examples': '../../../Examples/html/Examples_Home.html', 'API Documentation': '../../index.html'}\n"
     ]
    }
   ],
   "source": [
    " for directory, dirnames, filenames in os.walk(r\"C:\\ProgramData\\Anaconda2\\Lib\\site-packages\\pyMez\\Documentation\\pyMez\"):\n",
    "    add_navigation_script(directory) \n"
   ]
  },
  {
   "cell_type": "code",
   "execution_count": null,
   "metadata": {
    "collapsed": true
   },
   "outputs": [],
   "source": []
  }
 ],
 "metadata": {
  "kernelspec": {
   "display_name": "Python 2",
   "language": "python",
   "name": "python2"
  },
  "language_info": {
   "codemirror_mode": {
    "name": "ipython",
    "version": 2
   },
   "file_extension": ".py",
   "mimetype": "text/x-python",
   "name": "python",
   "nbconvert_exporter": "python",
   "pygments_lexer": "ipython2",
   "version": "2.7.13"
  }
 },
 "nbformat": 4,
 "nbformat_minor": 2
}
