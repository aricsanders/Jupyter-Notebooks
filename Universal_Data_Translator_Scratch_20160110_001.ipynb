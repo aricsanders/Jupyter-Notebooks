{
 "cells": [
  {
   "cell_type": "markdown",
   "metadata": {},
   "source": [
    "# Universal Data Translator\n",
    "1. Accepts a resource, and then uses a graph and sets its state\n",
    "2. Has an output resource selector \n",
    "3. uses graph.move_to_node(output resource) or graph.jump_to_node(output resource)\n",
    "4. returns graph.data \n",
    "\n",
    "## Questions for development\n",
    "1. Is UDT a stateless function or a class?\n",
    "UDT(\"test.png\",\"test.jpg\",ImageGraph)\n",
    "    or\n",
    "UDT(\"test.png\",'Image',ImageGraph)\n",
    "\n"
   ]
  },
  {
   "cell_type": "code",
   "execution_count": null,
   "metadata": {
    "collapsed": true
   },
   "outputs": [],
   "source": [
    "class UDT(object):\n",
    "    \"\"\"UDT is a Universal Data Translator object\"\"\"\n",
    "    def __init__(self,**options):"
   ]
  }
 ],
 "metadata": {
  "kernelspec": {
   "display_name": "Python 2",
   "language": "python",
   "name": "python2"
  },
  "language_info": {
   "codemirror_mode": {
    "name": "ipython",
    "version": 2
   },
   "file_extension": ".py",
   "mimetype": "text/x-python",
   "name": "python",
   "nbconvert_exporter": "python",
   "pygments_lexer": "ipython2",
   "version": "2.7.13"
  }
 },
 "nbformat": 4,
 "nbformat_minor": 0
}
