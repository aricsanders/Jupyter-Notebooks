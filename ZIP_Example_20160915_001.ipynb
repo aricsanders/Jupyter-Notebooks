{
 "cells": [
  {
   "cell_type": "markdown",
   "metadata": {},
   "source": [
    "# Example of zipping all the files required to run a statistical file\n",
    "1. We input a statistical menu\n",
    "2. we find all the file names and add them to a zip file\n",
    "3. save the file\n",
    "4. unzip the file in a directory \n",
    " Uses zipfile library\n",
    " "
   ]
  },
  {
   "cell_type": "code",
   "execution_count": 29,
   "metadata": {
    "collapsed": false
   },
   "outputs": [
    {
     "name": "stdout",
     "output_type": "stream",
     "text": [
      "Importing Code.Utils.Names\n",
      "Importing Code.DataHandlers.NISTModels\n",
      "Importing Code.DataHandlers.GeneralModels\n",
      "Importing Code.DataHandlers.TouchstoneModels\n",
      "Importing Code.DataHandlers.XMLModels\n",
      "Importing Code.DataHandlers.Translations\n",
      "Importing Code.DataHandlers.StatistiCALModels\n",
      "Importing Code.DataHandlers.MUFModels\n",
      "Importing Code.Analysis.SParameter\n",
      "Importing Code.InstrumentControl.Instruments\n",
      "Importing Code.InstrumentControl.Experiments\n"
     ]
    }
   ],
   "source": [
    "import zipfile\n",
    "import os\n",
    "import shutil\n",
    "from pyMeasure.Code.Utils.Names import auto_name"
   ]
  },
  {
   "cell_type": "code",
   "execution_count": 25,
   "metadata": {
    "collapsed": false
   },
   "outputs": [],
   "source": [
    "TESTS_DIRECTORY=os.path.join(os.getcwd(),r'Zipfile_Example_Files')\n",
    "file_path=os.path.join(TESTS_DIRECTORY,'test_zip.zip')\n",
    "new_zip=zipfile.ZipFile(file_path,'w')\n"
   ]
  },
  {
   "cell_type": "code",
   "execution_count": 7,
   "metadata": {
    "collapsed": false
   },
   "outputs": [],
   "source": [
    "new_zip.write(r\"C:\\Users\\sandersa\\Desktop\\Solution_Plus.txt\",\"Solutions/Solution_Plus.txt\")"
   ]
  },
  {
   "cell_type": "code",
   "execution_count": 20,
   "metadata": {
    "collapsed": true
   },
   "outputs": [],
   "source": [
    "new_zip.close()"
   ]
  },
  {
   "cell_type": "code",
   "execution_count": 19,
   "metadata": {
    "collapsed": false
   },
   "outputs": [
    {
     "ename": "BadZipfile",
     "evalue": "File is not a zip file",
     "output_type": "error",
     "traceback": [
      "\u001b[1;31m---------------------------------------------------------------------------\u001b[0m",
      "\u001b[1;31mBadZipfile\u001b[0m                                Traceback (most recent call last)",
      "\u001b[1;32m<ipython-input-19-dc503f00d7d8>\u001b[0m in \u001b[0;36m<module>\u001b[1;34m()\u001b[0m\n\u001b[1;32m----> 1\u001b[1;33m \u001b[0mnew_zip\u001b[0m\u001b[1;33m=\u001b[0m\u001b[0mzipfile\u001b[0m\u001b[1;33m.\u001b[0m\u001b[0mZipFile\u001b[0m\u001b[1;33m(\u001b[0m\u001b[0mfile_path\u001b[0m\u001b[1;33m,\u001b[0m\u001b[1;34m'r'\u001b[0m\u001b[1;33m)\u001b[0m\u001b[1;33m\u001b[0m\u001b[0m\n\u001b[0m\u001b[0;32m      2\u001b[0m \u001b[0mnew_zip\u001b[0m\u001b[1;33m.\u001b[0m\u001b[0mextractall\u001b[0m\u001b[1;33m(\u001b[0m\u001b[0mTESTS_DIRECTORY\u001b[0m\u001b[1;33m)\u001b[0m\u001b[1;33m\u001b[0m\u001b[0m\n\u001b[0;32m      3\u001b[0m \u001b[0mnew_zip\u001b[0m\u001b[1;33m.\u001b[0m\u001b[0mclose\u001b[0m\u001b[1;33m(\u001b[0m\u001b[1;33m)\u001b[0m\u001b[1;33m\u001b[0m\u001b[0m\n",
      "\u001b[1;32mC:\\Anaconda2\\lib\\zipfile.pyc\u001b[0m in \u001b[0;36m__init__\u001b[1;34m(self, file, mode, compression, allowZip64)\u001b[0m\n\u001b[0;32m    768\u001b[0m         \u001b[1;32mtry\u001b[0m\u001b[1;33m:\u001b[0m\u001b[1;33m\u001b[0m\u001b[0m\n\u001b[0;32m    769\u001b[0m             \u001b[1;32mif\u001b[0m \u001b[0mkey\u001b[0m \u001b[1;33m==\u001b[0m \u001b[1;34m'r'\u001b[0m\u001b[1;33m:\u001b[0m\u001b[1;33m\u001b[0m\u001b[0m\n\u001b[1;32m--> 770\u001b[1;33m                 \u001b[0mself\u001b[0m\u001b[1;33m.\u001b[0m\u001b[0m_RealGetContents\u001b[0m\u001b[1;33m(\u001b[0m\u001b[1;33m)\u001b[0m\u001b[1;33m\u001b[0m\u001b[0m\n\u001b[0m\u001b[0;32m    771\u001b[0m             \u001b[1;32melif\u001b[0m \u001b[0mkey\u001b[0m \u001b[1;33m==\u001b[0m \u001b[1;34m'w'\u001b[0m\u001b[1;33m:\u001b[0m\u001b[1;33m\u001b[0m\u001b[0m\n\u001b[0;32m    772\u001b[0m                 \u001b[1;31m# set the modified flag so central directory gets written\u001b[0m\u001b[1;33m\u001b[0m\u001b[1;33m\u001b[0m\u001b[0m\n",
      "\u001b[1;32mC:\\Anaconda2\\lib\\zipfile.pyc\u001b[0m in \u001b[0;36m_RealGetContents\u001b[1;34m(self)\u001b[0m\n\u001b[0;32m    809\u001b[0m             \u001b[1;32mraise\u001b[0m \u001b[0mBadZipfile\u001b[0m\u001b[1;33m(\u001b[0m\u001b[1;34m\"File is not a zip file\"\u001b[0m\u001b[1;33m)\u001b[0m\u001b[1;33m\u001b[0m\u001b[0m\n\u001b[0;32m    810\u001b[0m         \u001b[1;32mif\u001b[0m \u001b[1;32mnot\u001b[0m \u001b[0mendrec\u001b[0m\u001b[1;33m:\u001b[0m\u001b[1;33m\u001b[0m\u001b[0m\n\u001b[1;32m--> 811\u001b[1;33m             \u001b[1;32mraise\u001b[0m \u001b[0mBadZipfile\u001b[0m\u001b[1;33m,\u001b[0m \u001b[1;34m\"File is not a zip file\"\u001b[0m\u001b[1;33m\u001b[0m\u001b[0m\n\u001b[0m\u001b[0;32m    812\u001b[0m         \u001b[1;32mif\u001b[0m \u001b[0mself\u001b[0m\u001b[1;33m.\u001b[0m\u001b[0mdebug\u001b[0m \u001b[1;33m>\u001b[0m \u001b[1;36m1\u001b[0m\u001b[1;33m:\u001b[0m\u001b[1;33m\u001b[0m\u001b[0m\n\u001b[0;32m    813\u001b[0m             \u001b[1;32mprint\u001b[0m \u001b[0mendrec\u001b[0m\u001b[1;33m\u001b[0m\u001b[0m\n",
      "\u001b[1;31mBadZipfile\u001b[0m: File is not a zip file"
     ]
    }
   ],
   "source": [
    "new_zip=zipfile.ZipFile(file_path,'r')\n",
    "new_zip.extractall(TESTS_DIRECTORY)\n",
    "new_zip.close()"
   ]
  },
  {
   "cell_type": "code",
   "execution_count": 10,
   "metadata": {
    "collapsed": false
   },
   "outputs": [
    {
     "data": {
      "text/plain": [
       "'Zipfile_Example_Files'"
      ]
     },
     "execution_count": 10,
     "metadata": {},
     "output_type": "execute_result"
    }
   ],
   "source": [
    "os.path.basename(TESTS_DIRECTORY)"
   ]
  },
  {
   "cell_type": "code",
   "execution_count": 37,
   "metadata": {
    "collapsed": true
   },
   "outputs": [],
   "source": [
    "def add_all_files(zipfile,top_directory):\n",
    "    \"\"\"Adds all of the files under top directory into the zipfile and closes the file\"\"\"\n",
    "    for directory, dirnames, filenames in os.walk(top_directory):\n",
    "        for filename in filenames:\n",
    "            zipfile.write(os.path.join(directory,filename),os.path.join(os.path.basename(directory),filename))\n",
    "    \n",
    "    \n",
    "def extract_all(zipfile,directory):\n",
    "    \"\"\"Extracts all files from the zip archive to the specified directory\"\"\"\n",
    "    zipfile.extractall(directory)\n",
    "new_zip.close()"
   ]
  },
  {
   "cell_type": "code",
   "execution_count": 22,
   "metadata": {
    "collapsed": false
   },
   "outputs": [],
   "source": [
    "TESTS_DIRECTORY=os.path.join(os.getcwd(),r'StatistiCAL_Files')\n",
    "new_zip=zipfile.ZipFile(file_path,'w')\n",
    "add_all_files(new_zip,TESTS_DIRECTORY)"
   ]
  },
  {
   "cell_type": "code",
   "execution_count": 40,
   "metadata": {
    "collapsed": false
   },
   "outputs": [],
   "source": [
    "class ZipArchive():\n",
    "    \"\"\"A container for  zipped files\"\"\"\n",
    "    def __init__(self,file_path=None,**options):\n",
    "        \" Initializes the ZipArchive class \"\n",
    "        # This is a general pattern for adding a lot of options some with defaults\n",
    "        defaults={\"specific_descriptor\":'Data',\n",
    "                  \"general_descriptor\":'Archive',\n",
    "                  \"directory\":None,\n",
    "                  \"extension\":'zip',\n",
    "                  \"temp_directory\":None,\n",
    "                  \"name\":None,\n",
    "                  \"path\":None,\n",
    "                  \"files\":None}\n",
    "        self.options={}\n",
    "        for key,value in defaults.iteritems():\n",
    "            self.options[key]=value\n",
    "        for key,value in options.iteritems():\n",
    "            self.options[key]=value\n",
    "        if file_path is None:\n",
    "            if self.options[\"path\"] is None:\n",
    "                self.name=auto_name(self.options[\"specific_descriptor\"],\n",
    "                                    self.options[\"general_descriptor\"],\n",
    "                                    self.options[\"directory\"],\n",
    "                                    self.options[\"extension\"])\n",
    "                if self.options['directory'] is None:\n",
    "                    self.path=self.name\n",
    "                else:\n",
    "                    self.path=os.path.join(self.options[\"directory\"],self.name)\n",
    "            else:\n",
    "                self.path=self.options[\"path\"]\n",
    "            self.zip_file=zipfile.ZipFile(self.path,'w')\n",
    "            if self.options[\"files\"] is not None:\n",
    "                for file_name in self.options[\"files\"]:\n",
    "                    self.zip_file.write(file_name,os.path.split(file_name)[1])        \n",
    "        else:\n",
    "            self.zip_file=zipfile.ZipFile(file_path,'a')\n",
    "        self.files=self.zip_file.namelist()\n",
    "\n",
    "    def save(self,path=None,**save_options):\n",
    "        \"\"\"Saves the file to path\"\"\"\n",
    "        if path is None:\n",
    "            pass\n",
    "        else:\n",
    "            temp_path=os.path.join(self.options[\"temp_directory\"],\"temp_file\")\n",
    "            temp_extracted=extract_all(self.zip_file,temp_path)\n",
    "            temp_zip=zipfile.ZipFile(path,'w')\n",
    "            add_all_files(temp_zip,temp_path)\n",
    "            # need to delete the temp folder\n",
    "            shutil.rmtree(temp_path)\n",
    "            temp_zip.close()\n",
    "            \n",
    "    def extract_all(self,destination_directory=None):\n",
    "        \"\"\"Extract all in the destination directory (default is current working directory)\"\"\"\n",
    "        if destination_directory is None:\n",
    "            destination_directory=os.getcwd()\n",
    "        extract_all(self.zip_file,destination_directory)\n",
    "        \n",
    "    def add_all_from_directory(self,directory=None):\n",
    "        \"\"\"Adds all files in the directory\"\"\"\n",
    "        if directory is None:\n",
    "            directory=os.getcwd()\n",
    "        add_all_files(self.zip_file,directory)\n",
    "        self.files=self.zip_file.namelist()\n",
    "        \n",
    "    def add_file(self,file_path,archive_name=None):\n",
    "        \"\"\"Adds the file specified by file_path to the zip archive\"\"\"\n",
    "        if archive_name is None:\n",
    "            archive_name=os.path.split(file_path)[1]\n",
    "        self.zip_file.write(file_path,archive_name)\n",
    "        self.files=self.zip_file.namelist()\n",
    "\n",
    "    def close(self):\n",
    "        \"Closes the archive\"\n",
    "        self.zip_file.close()\n",
    "    \n",
    "    def write_string(self,data_string,archive_file_name=None):\n",
    "        \"\"\"writes data string to the zipped file archive_name in the archive\"\"\"\n",
    "        self.zip_file.writestr(archive_file_name,bytes(data_string))\n",
    "        \n",
    "    def __del__(self):\n",
    "        \"Class Destructor\"\n",
    "        self.zip_file.close()\n",
    "        \n",
    "        \n",
    "            \n",
    "        "
   ]
  },
  {
   "cell_type": "code",
   "execution_count": 41,
   "metadata": {
    "collapsed": false
   },
   "outputs": [
    {
     "name": "stdout",
     "output_type": "stream",
     "text": [
      "['test_zip.zip', 'New_directory/file.txt', 'Radical_Correction_Files/Example_HD5.mat', 'Radical_Correction_Files/Matlab_Save_V73.PNG']\n"
     ]
    }
   ],
   "source": [
    "file_names=[file_path]\n",
    "test_string=\"A test string\"\n",
    "new_zip=ZipArchive(None,files=file_names)\n",
    "new_zip.add_file(file_path,archive_name=\"New_directory/file.txt\")\n",
    "new_zip.add_all_from_directory(r\"C:\\Users\\sandersa\\PyCharm Projects\\Jupyter-Notebooks\\Radical_Correction_Files\")\n",
    "new_zip.write_string(test_string,\"String_test.txt\")\n",
    "print new_zip.files\n",
    "new_zip.close()\n"
   ]
  },
  {
   "cell_type": "code",
   "execution_count": null,
   "metadata": {
    "collapsed": true
   },
   "outputs": [],
   "source": [
    "test_string=\"A test string\""
   ]
  }
 ],
 "metadata": {
  "kernelspec": {
   "display_name": "Python 2",
   "language": "python",
   "name": "python2"
  },
  "language_info": {
   "codemirror_mode": {
    "name": "ipython",
    "version": 2
   },
   "file_extension": ".py",
   "mimetype": "text/x-python",
   "name": "python",
   "nbconvert_exporter": "python",
   "pygments_lexer": "ipython2",
   "version": "2.7.12"
  }
 },
 "nbformat": 4,
 "nbformat_minor": 0
}
