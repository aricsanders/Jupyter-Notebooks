{
 "cells": [
  {
   "cell_type": "markdown",
   "metadata": {},
   "source": [
    "# S-parameter Correction and Manipulation\n",
    "Examples of how to apply a 12-term and 8-term correction model to s-parameter data. In addition the transformation between S and T matrices. "
   ]
  },
  {
   "cell_type": "code",
   "execution_count": 1,
   "metadata": {
    "collapsed": false
   },
   "outputs": [
    {
     "name": "stdout",
     "output_type": "stream",
     "text": [
      "Importing Code.Utils.Names\n",
      "Importing Code.DataHandlers.NISTModels\n",
      "Importing Code.DataHandlers.GeneralModels\n",
      "Importing Code.DataHandlers.TouchstoneModels\n",
      "Importing Code.DataHandlers.XMLModels\n",
      "Importing Code.DataHandlers.RadiCALModels\n",
      "Importing Code.DataHandlers.ZipModels\n",
      "Importing Code.DataHandlers.Translations\n",
      "Importing Code.DataHandlers.StatistiCALModels\n",
      "Importing Code.DataHandlers.MUFModels\n",
      "Importing Code.Analysis.SParameter\n",
      "Importing Code.InstrumentControl.Instruments\n",
      "Importing Code.InstrumentControl.Experiments\n"
     ]
    }
   ],
   "source": [
    "from pyMeasure import *\n",
    "import os\n",
    "import numpy as np"
   ]
  },
  {
   "cell_type": "code",
   "execution_count": 2,
   "metadata": {
    "collapsed": false
   },
   "outputs": [
    {
     "data": {
      "text/plain": [
       "<matplotlib.figure.Figure at 0xdc6a588>"
      ]
     },
     "execution_count": 2,
     "metadata": {},
     "output_type": "execute_result"
    }
   ],
   "source": [
    "# import an s-parameter file to play with\n",
    "STATISTICAL_TEST_DIRECTORY=r'C:\\Users\\sandersa\\PyCharm Projects\\Jupyter-Notebooks\\StatistiCAL_Files\\StatistiCAL_Tests'\n",
    "os.chdir(STATISTICAL_TEST_DIRECTORY)\n",
    "two_port=S2PV1(\"DY202.txt\")\n",
    "two_port.show()"
   ]
  },
  {
   "cell_type": "code",
   "execution_count": 3,
   "metadata": {
    "collapsed": false
   },
   "outputs": [],
   "source": [
    "file_path=r'C:\\Users\\sandersa\\PyCharm Projects\\Jupyter-Notebooks\\StatistiCAL_Files\\StatistiCAL_Tests\\CalCoefficients.txt'\n",
    "in_file=open(file_path,'r')\n",
    "lines=[]\n",
    "for line in in_file:\n",
    "    lines.append(map(lambda x:float(x),line.split(\" \")))\n",
    "in_file.close()\n",
    "\n",
    "TWELVE_TERM_ERROR_COLUMN_NAMES=[\"Frequency\",\"reEdf\",\"imEdf\",\"reEsf\",\"imEsf\",\n",
    "                                \"reErf\",\"imErf\",\"reExf\",\"imExf\",\"reElf\",\"imElf\",\"reEtf\",\"imEtf\",\n",
    "                                \"reEdr\",\"imEdr\",\"reEsr\",\"imEsr\",\"reErr\",\"imErr\",\"reExr\",\"imExr\",\n",
    "                                \"reElr\",\"imElr\",\"reEtr\",\"imEtr\"]\n",
    "#\"row_pattern\":make_row_match_string(TWELVE_TERM_ERROR_COLUMN_NAMES),\n",
    "options={\"data_delimiter\":\" \",\"row_end_token\":'\\n'}\n",
    "\n",
    "cal_coefficients=lines\n",
    "complex_cal_coefficients=[]\n",
    "for row in cal_coefficients:\n",
    "    frequency=[row[0]]\n",
    "    complex_numbers=row[1:]\n",
    "    #print np.array(complex_numbers[1::2])\n",
    "    complex_array=np.array(complex_numbers[0::2])+1.j*np.array(complex_numbers[1::2])\n",
    "    complex_cal_coefficients.append(frequency+complex_array.tolist())"
   ]
  },
  {
   "cell_type": "code",
   "execution_count": 4,
   "metadata": {
    "collapsed": false
   },
   "outputs": [
    {
     "name": "stdout",
     "output_type": "stream",
     "text": [
      "Could not correct sparameters\n"
     ]
    },
    {
     "ename": "TypeError",
     "evalue": "expected string or buffer",
     "output_type": "error",
     "traceback": [
      "\u001b[1;31m---------------------------------------------------------------------------\u001b[0m",
      "\u001b[1;31mTypeError\u001b[0m                                 Traceback (most recent call last)",
      "\u001b[1;32m<ipython-input-4-dc9e2f162f75>\u001b[0m in \u001b[0;36m<module>\u001b[1;34m()\u001b[0m\n\u001b[1;32m----> 1\u001b[1;33m \u001b[0mcorrected_s\u001b[0m\u001b[1;33m=\u001b[0m\u001b[0mcorrect_sparameters\u001b[0m\u001b[1;33m(\u001b[0m\u001b[0mtwo_port\u001b[0m\u001b[1;33m.\u001b[0m\u001b[0msparameter_complex\u001b[0m\u001b[1;33m,\u001b[0m\u001b[0mcomplex_cal_coefficients\u001b[0m\u001b[1;33m)\u001b[0m\u001b[1;33m\u001b[0m\u001b[0m\n\u001b[0m",
      "\u001b[1;32mC:\\Anaconda2\\lib\\site-packages\\pyMeasure\\Code\\Analysis\\SParameter.pyc\u001b[0m in \u001b[0;36mcorrect_sparameters\u001b[1;34m(sparameters, correction, **options)\u001b[0m\n\u001b[0;32m    525\u001b[0m             \u001b[0msparameters\u001b[0m\u001b[1;33m=\u001b[0m\u001b[0msparameters_table\u001b[0m\u001b[1;33m.\u001b[0m\u001b[0msparameter_complex\u001b[0m\u001b[1;33m\u001b[0m\u001b[0m\n\u001b[0;32m    526\u001b[0m             \u001b[0moutput_type\u001b[0m\u001b[1;33m=\u001b[0m\u001b[1;34m'file'\u001b[0m\u001b[1;33m\u001b[0m\u001b[0m\n\u001b[1;32m--> 527\u001b[1;33m         \u001b[1;32melif\u001b[0m \u001b[0mre\u001b[0m\u001b[1;33m.\u001b[0m\u001b[0msearch\u001b[0m\u001b[1;33m(\u001b[0m\u001b[1;34m'S2PV1'\u001b[0m\u001b[1;33m,\u001b[0m\u001b[0mtype\u001b[0m\u001b[1;33m(\u001b[0m\u001b[0msparameters\u001b[0m\u001b[1;33m)\u001b[0m\u001b[1;33m)\u001b[0m\u001b[1;33m:\u001b[0m\u001b[1;33m\u001b[0m\u001b[0m\n\u001b[0m\u001b[0;32m    528\u001b[0m             \u001b[0moutput_type\u001b[0m\u001b[1;33m=\u001b[0m\u001b[1;34m'S2PV1'\u001b[0m\u001b[1;33m\u001b[0m\u001b[0m\n\u001b[0;32m    529\u001b[0m             \u001b[0msparameters\u001b[0m\u001b[1;33m=\u001b[0m\u001b[0msparameters\u001b[0m\u001b[1;33m.\u001b[0m\u001b[0msparameter_complex\u001b[0m\u001b[1;33m\u001b[0m\u001b[0m\n",
      "\u001b[1;32mC:\\Anaconda2\\lib\\re.pyc\u001b[0m in \u001b[0;36msearch\u001b[1;34m(pattern, string, flags)\u001b[0m\n\u001b[0;32m    144\u001b[0m     \"\"\"Scan through string looking for a match to the pattern, returning\n\u001b[0;32m    145\u001b[0m     a match object, or None if no match was found.\"\"\"\n\u001b[1;32m--> 146\u001b[1;33m     \u001b[1;32mreturn\u001b[0m \u001b[0m_compile\u001b[0m\u001b[1;33m(\u001b[0m\u001b[0mpattern\u001b[0m\u001b[1;33m,\u001b[0m \u001b[0mflags\u001b[0m\u001b[1;33m)\u001b[0m\u001b[1;33m.\u001b[0m\u001b[0msearch\u001b[0m\u001b[1;33m(\u001b[0m\u001b[0mstring\u001b[0m\u001b[1;33m)\u001b[0m\u001b[1;33m\u001b[0m\u001b[0m\n\u001b[0m\u001b[0;32m    147\u001b[0m \u001b[1;33m\u001b[0m\u001b[0m\n\u001b[0;32m    148\u001b[0m \u001b[1;32mdef\u001b[0m \u001b[0msub\u001b[0m\u001b[1;33m(\u001b[0m\u001b[0mpattern\u001b[0m\u001b[1;33m,\u001b[0m \u001b[0mrepl\u001b[0m\u001b[1;33m,\u001b[0m \u001b[0mstring\u001b[0m\u001b[1;33m,\u001b[0m \u001b[0mcount\u001b[0m\u001b[1;33m=\u001b[0m\u001b[1;36m0\u001b[0m\u001b[1;33m,\u001b[0m \u001b[0mflags\u001b[0m\u001b[1;33m=\u001b[0m\u001b[1;36m0\u001b[0m\u001b[1;33m)\u001b[0m\u001b[1;33m:\u001b[0m\u001b[1;33m\u001b[0m\u001b[0m\n",
      "\u001b[1;31mTypeError\u001b[0m: expected string or buffer"
     ]
    }
   ],
   "source": [
    "corrected_s=correct_sparameters(two_port.sparameter_complex,complex_cal_coefficients)"
   ]
  },
  {
   "cell_type": "code",
   "execution_count": 5,
   "metadata": {
    "collapsed": false
   },
   "outputs": [
    {
     "ename": "NameError",
     "evalue": "name 'corrected_s' is not defined",
     "output_type": "error",
     "traceback": [
      "\u001b[1;31m---------------------------------------------------------------------------\u001b[0m",
      "\u001b[1;31mNameError\u001b[0m                                 Traceback (most recent call last)",
      "\u001b[1;32m<ipython-input-5-9016e9c00351>\u001b[0m in \u001b[0;36m<module>\u001b[1;34m()\u001b[0m\n\u001b[1;32m----> 1\u001b[1;33m \u001b[0mcorrect_two_port\u001b[0m\u001b[1;33m=\u001b[0m\u001b[0mS2PV1\u001b[0m\u001b[1;33m(\u001b[0m\u001b[1;33m**\u001b[0m\u001b[1;33m{\u001b[0m\u001b[1;34m\"sparameter_complex\"\u001b[0m\u001b[1;33m:\u001b[0m\u001b[0mcorrected_s\u001b[0m\u001b[1;33m,\u001b[0m\u001b[1;34m\"option_line\"\u001b[0m\u001b[1;33m:\u001b[0m\u001b[1;34m\"# GHz S RI R 50\"\u001b[0m\u001b[1;33m}\u001b[0m\u001b[1;33m)\u001b[0m\u001b[1;33m\u001b[0m\u001b[0m\n\u001b[0m",
      "\u001b[1;31mNameError\u001b[0m: name 'corrected_s' is not defined"
     ]
    }
   ],
   "source": [
    "correct_two_port=S2PV1(**{\"sparameter_complex\":corrected_s,\"option_line\":\"# GHz S RI R 50\"})"
   ]
  },
  {
   "cell_type": "code",
   "execution_count": 6,
   "metadata": {
    "collapsed": false
   },
   "outputs": [],
   "source": [
    "def compare_s2p_plots(list_S2PV1,**options):\n",
    "    \"\"\"compare_s2p_plot compares a list of s2p files ploting each on the same axis\"\"\"\n",
    "    defaults={\"format\":\"MA\",\n",
    "              \"display_legend\":True,\n",
    "              \"save_plot\":False,\n",
    "              \"directory\":None,\n",
    "              \"specific_descriptor\":\"Comparision_Plot\",\n",
    "              \"general_descriptor\":\"Plot\",\n",
    "              \"file_name\":None,\n",
    "              \"labels\":None}\n",
    "    comparision_plot_options={}\n",
    "    for key,value in defaults.iteritems():\n",
    "        comparision_plot_options[key]=value\n",
    "    for key,value in options.iteritems():\n",
    "        comparision_plot_options[key]=value\n",
    "    \n",
    "    # create a set of 6 subplots    \n",
    "    fig, compare_axes = plt.subplots(nrows=4, ncols=2, figsize=(8,6),dpi=80)\n",
    "    if comparision_plot_options[\"labels\"] is None:\n",
    "        labels=[s2p.path for s2p in list_S2PV1]\n",
    "    else:\n",
    "        labels=comparision_plot_options[\"labels\"]\n",
    "    for s2p_index,s2p in enumerate(list_S2PV1):\n",
    "        # start by changing the format of all the s2p\n",
    "        s2p.change_data_format(comparision_plot_options[\"format\"])\n",
    "        column_names=s2p.column_names[1:]\n",
    "        for index, ax in enumerate(compare_axes.flat):\n",
    "            #ax.xaxis.set_visible(False)\n",
    "            if re.search('arg',column_names[index]):\n",
    "                ax.set_ylabel('Phase(Degrees)',color='green')\n",
    "            elif re.search('mag',column_names[index]):\n",
    "                ax.set_ylabel(r'|${\\Gamma} $|',color='green')\n",
    "            ax.set_title(column_names[index])\n",
    "            # initial plot of\n",
    "            x=s2p.get_column('Frequency')\n",
    "            y=np.array(s2p.get_column(column_names[index]))\n",
    "            ax.plot(x,y,label=labels[s2p_index])\n",
    "            if comparision_plot_options[\"display_legend\"]:\n",
    "                ax.legend(loc=1,fontsize='8')\n",
    "            \n",
    "    compare_axes.flat[-2].set_xlabel('Frequency(GHz)',color='k')\n",
    "    compare_axes.flat[-1].set_xlabel('Frequency(GHz)',color='k')\n",
    "    fig.subplots_adjust(hspace=0)\n",
    "    plt.tight_layout()\n",
    "    # Dealing with the save option\n",
    "    if comparision_plot_options[\"file_name\"] is None:\n",
    "        file_name=auto_name(specific_descriptor=comparision_plot_options[\"specific_descriptor\"],\n",
    "                            general_descriptor=comparision_plot_options[\"general_descriptor\"],\n",
    "                            directory=comparision_plot_options[\"directory\"]\n",
    "                            ,extension='png',padding=3)\n",
    "    else:\n",
    "        file_name=comparision_plot_options[\"file_name\"]\n",
    "    if comparision_plot_options[\"save_plot\"]:\n",
    "        #print file_name\n",
    "        plt.savefig(os.path.join(comparision_plot_options[\"directory\"],file_name))\n",
    "    else:\n",
    "        plt.show()\n",
    "        "
   ]
  },
  {
   "cell_type": "code",
   "execution_count": null,
   "metadata": {
    "collapsed": false
   },
   "outputs": [],
   "source": [
    "compare_s2p_plots([two_port,correct_two_port])"
   ]
  },
  {
   "cell_type": "code",
   "execution_count": null,
   "metadata": {
    "collapsed": true
   },
   "outputs": [],
   "source": [
    "compare_s2p_plots([two_port,correct_two_port],**{\"format\":\"RI\",\"labels\":[\"uncorrected\",\"corrected\"]})"
   ]
  },
  {
   "cell_type": "code",
   "execution_count": null,
   "metadata": {
    "collapsed": true
   },
   "outputs": [],
   "source": [
    "compare_s2p_plots([two_port,correct_two_port],format=\"MA\",labels=[\"uncorrected\",\"corrected\"])"
   ]
  },
  {
   "cell_type": "code",
   "execution_count": null,
   "metadata": {
    "collapsed": true
   },
   "outputs": [],
   "source": [
    "compare_s2p_plots([two_port,correct_two_port],**{\"format\":\"DB\"})"
   ]
  },
  {
   "cell_type": "markdown",
   "metadata": {},
   "source": [
    "<img src=\"./Calibration_Example_Files/Twelve_Term_Correction.png\" />\n",
    "VNA Calibration Coefficients\n",
    "\n",
    "StatistiCAL stores VNA calibration coefficients in the following order:\n",
    "\n",
    "frequency  Edf  Esf  Erf  Exf  Elf  Etf  Edr  Esr  Err  Exr  Elr  Etr.\n",
    "\n",
    "The value of the frequency is in gigahertz. The other values are expressed as real/imaginary pairs.\n",
    "\n",
    "\n"
   ]
  }
 ],
 "metadata": {
  "kernelspec": {
   "display_name": "Python 2",
   "language": "python",
   "name": "python2"
  },
  "language_info": {
   "codemirror_mode": {
    "name": "ipython",
    "version": 2
   },
   "file_extension": ".py",
   "mimetype": "text/x-python",
   "name": "python",
   "nbconvert_exporter": "python",
   "pygments_lexer": "ipython2",
   "version": "2.7.12"
  }
 },
 "nbformat": 4,
 "nbformat_minor": 0
}
