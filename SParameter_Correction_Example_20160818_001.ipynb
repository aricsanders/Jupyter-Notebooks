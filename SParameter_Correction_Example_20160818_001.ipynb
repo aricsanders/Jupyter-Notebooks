{
 "cells": [
  {
   "cell_type": "markdown",
   "metadata": {},
   "source": [
    "# S-parameter Correction and Manipulation\n",
    "Examples of how to apply a 12-term and 8-term correction model to s-parameter data. In addition the transformation between S and T matrices. "
   ]
  },
  {
   "cell_type": "code",
   "execution_count": 1,
   "metadata": {
    "collapsed": false
   },
   "outputs": [
    {
     "name": "stdout",
     "output_type": "stream",
     "text": [
      "The module smithplot was not found,please put it on the python path\n",
      "['', 'C:\\\\Anaconda2\\\\python27.zip', 'C:\\\\Program Files\\\\FreeCAD 0.16\\\\bin', 'C:\\\\Anaconda2\\\\DLLs', 'C:\\\\Anaconda2\\\\lib', 'C:\\\\Anaconda2\\\\lib\\\\plat-win', 'C:\\\\Anaconda2\\\\lib\\\\lib-tk', 'C:\\\\Anaconda2', 'c:\\\\anaconda2\\\\lib\\\\site-packages\\\\sphinx-1.3.5-py2.7.egg', 'c:\\\\anaconda2\\\\lib\\\\site-packages\\\\setuptools-19.6.2-py2.7.egg', 'C:\\\\Anaconda2\\\\lib\\\\site-packages', 'C:\\\\Anaconda2\\\\lib\\\\site-packages\\\\cryptography-1.0.2-py2.7-win-amd64.egg', 'C:\\\\Anaconda2\\\\lib\\\\site-packages\\\\win32', 'C:\\\\Anaconda2\\\\lib\\\\site-packages\\\\win32\\\\lib', 'C:\\\\Anaconda2\\\\lib\\\\site-packages\\\\Pythonwin', 'C:\\\\Anaconda2\\\\lib\\\\site-packages\\\\wx-3.0-msw', 'C:\\\\Anaconda2\\\\lib\\\\site-packages\\\\IPython\\\\extensions', 'C:\\\\Users\\\\sandersa\\\\.ipython']\n"
     ]
    },
    {
     "name": "stderr",
     "output_type": "stream",
     "text": [
      "C:\\Anaconda2\\lib\\site-packages\\matplotlib\\__init__.py:1350: UserWarning:  This call to matplotlib.use() has no effect\n",
      "because the backend has already been chosen;\n",
      "matplotlib.use() must be called *before* pylab, matplotlib.pyplot,\n",
      "or matplotlib.backends is imported for the first time.\n",
      "\n",
      "  warnings.warn(_use_error_msg)\n"
     ]
    }
   ],
   "source": [
    "from pyMeasure import *\n",
    "import os\n",
    "import numpy as np"
   ]
  },
  {
   "cell_type": "code",
   "execution_count": 2,
   "metadata": {
    "collapsed": true
   },
   "outputs": [],
   "source": [
    "# import an s-parameter file to play with\n",
    "STATISTICAL_TEST_DIRECTORY=r'C:\\Users\\sandersa\\PyCharm Projects\\Jupyter-Notebooks\\StatistiCAL_Files\\StatistiCAL_Tests'\n",
    "os.chdir(STATISTICAL_TEST_DIRECTORY)\n",
    "two_port=S2PV1(\"DY202.txt\")\n",
    "two_port.show()"
   ]
  },
  {
   "cell_type": "code",
   "execution_count": 3,
   "metadata": {
    "collapsed": false
   },
   "outputs": [],
   "source": [
    "file_path=r'C:\\Users\\sandersa\\PyCharm Projects\\Jupyter-Notebooks\\StatistiCAL_Files\\StatistiCAL_Tests\\CalCoefficients.txt'\n",
    "in_file=open(file_path,'r')\n",
    "lines=[]\n",
    "for line in in_file:\n",
    "    lines.append(map(lambda x:float(x),line.split(\" \")))\n",
    "in_file.close()\n",
    "\n",
    "TWELVE_TERM_ERROR_COLUMN_NAMES=[\"Frequency\",\"reEdf\",\"imEdf\",\"reEsf\",\"imEsf\",\n",
    "                                \"reErf\",\"imErf\",\"reExf\",\"imExf\",\"reElf\",\"imElf\",\"reEtf\",\"imEtf\",\n",
    "                                \"reEdr\",\"imEdr\",\"reEsr\",\"imEsr\",\"reErr\",\"imErr\",\"reExr\",\"imExr\",\n",
    "                                \"reElr\",\"imElr\",\"reEtr\",\"imEtr\"]\n",
    "#\"row_pattern\":make_row_match_string(TWELVE_TERM_ERROR_COLUMN_NAMES),\n",
    "options={\"data_delimiter\":\" \",\"row_end_token\":'\\n'}\n",
    "\n",
    "cal_coefficients=lines\n",
    "complex_cal_coefficients=[]\n",
    "for row in cal_coefficients:\n",
    "    frequency=[row[0]]\n",
    "    complex_numbers=row[1:]\n",
    "    #print np.array(complex_numbers[1::2])\n",
    "    complex_array=np.array(complex_numbers[0::2])+1.j*np.array(complex_numbers[1::2])\n",
    "    complex_cal_coefficients.append(frequency+complex_array.tolist())"
   ]
  },
  {
   "cell_type": "code",
   "execution_count": 4,
   "metadata": {
    "collapsed": false
   },
   "outputs": [],
   "source": [
    "corrected_s=correct_sparameters(two_port.sparameter_complex,complex_cal_coefficients)"
   ]
  },
  {
   "cell_type": "code",
   "execution_count": 5,
   "metadata": {
    "collapsed": false
   },
   "outputs": [],
   "source": [
    "correct_two_port=S2PV1(**{\"sparameter_complex\":corrected_s,\"option_line\":\"# GHz S RI R 50\"})"
   ]
  },
  {
   "cell_type": "code",
   "execution_count": 6,
   "metadata": {
    "collapsed": false
   },
   "outputs": [],
   "source": [
    "def compare_s2p_plots(list_S2PV1,**options):\n",
    "    \"\"\"compare_s2p_plot compares a list of s2p files ploting each on the same axis\"\"\"\n",
    "    defaults={\"format\":\"MA\",\n",
    "              \"display_legend\":True,\n",
    "              \"save_plot\":False,\n",
    "              \"directory\":None,\n",
    "              \"specific_descriptor\":\"Comparision_Plot\",\n",
    "              \"general_descriptor\":\"Plot\",\n",
    "              \"file_name\":None,\n",
    "              \"labels\":None}\n",
    "    comparision_plot_options={}\n",
    "    for key,value in defaults.iteritems():\n",
    "        comparision_plot_options[key]=value\n",
    "    for key,value in options.iteritems():\n",
    "        comparision_plot_options[key]=value\n",
    "    \n",
    "    # create a set of 6 subplots    \n",
    "    fig, compare_axes = plt.subplots(nrows=4, ncols=2, figsize=(8,6),dpi=80)\n",
    "    if comparision_plot_options[\"labels\"] is None:\n",
    "        labels=[s2p.path for s2p in list_S2PV1]\n",
    "    else:\n",
    "        labels=comparision_plot_options[\"labels\"]\n",
    "    for s2p_index,s2p in enumerate(list_S2PV1):\n",
    "        # start by changing the format of all the s2p\n",
    "        s2p.change_data_format(comparision_plot_options[\"format\"])\n",
    "        column_names=s2p.column_names[1:]\n",
    "        for index, ax in enumerate(compare_axes.flat):\n",
    "            #ax.xaxis.set_visible(False)\n",
    "            if re.search('arg',column_names[index]):\n",
    "                ax.set_ylabel('Phase(Degrees)',color='green')\n",
    "            elif re.search('mag',column_names[index]):\n",
    "                ax.set_ylabel(r'|${\\Gamma} $|',color='green')\n",
    "            ax.set_title(column_names[index])\n",
    "            # initial plot of\n",
    "            x=s2p.get_column('Frequency')\n",
    "            y=np.array(s2p.get_column(column_names[index]))\n",
    "            ax.plot(x,y,label=labels[s2p_index])\n",
    "            if comparision_plot_options[\"display_legend\"]:\n",
    "                ax.legend(loc=1,fontsize='8')\n",
    "            \n",
    "    compare_axes.flat[-2].set_xlabel('Frequency(GHz)',color='k')\n",
    "    compare_axes.flat[-1].set_xlabel('Frequency(GHz)',color='k')\n",
    "    fig.subplots_adjust(hspace=0)\n",
    "    plt.tight_layout()\n",
    "    # Dealing with the save option\n",
    "    if comparision_plot_options[\"file_name\"] is None:\n",
    "        file_name=auto_name(specific_descriptor=comparision_plot_options[\"specific_descriptor\"],\n",
    "                            general_descriptor=comparision_plot_options[\"general_descriptor\"],\n",
    "                            directory=comparision_plot_options[\"directory\"]\n",
    "                            ,extension='png',padding=3)\n",
    "    else:\n",
    "        file_name=comparision_plot_options[\"file_name\"]\n",
    "    if comparision_plot_options[\"save_plot\"]:\n",
    "        #print file_name\n",
    "        plt.savefig(os.path.join(comparision_plot_options[\"directory\"],file_name))\n",
    "    else:\n",
    "        plt.show()\n",
    "        "
   ]
  },
  {
   "cell_type": "code",
   "execution_count": 7,
   "metadata": {
    "collapsed": false
   },
   "outputs": [],
   "source": [
    "compare_s2p_plots([two_port,correct_two_port])"
   ]
  },
  {
   "cell_type": "code",
   "execution_count": 8,
   "metadata": {
    "collapsed": true
   },
   "outputs": [],
   "source": [
    "compare_s2p_plots([two_port,correct_two_port],**{\"format\":\"RI\",\"labels\":[\"uncorrected\",\"corrected\"]})"
   ]
  },
  {
   "cell_type": "code",
   "execution_count": 9,
   "metadata": {
    "collapsed": true
   },
   "outputs": [],
   "source": [
    "compare_s2p_plots([two_port,correct_two_port],format=\"MA\",labels=[\"uncorrected\",\"corrected\"])"
   ]
  },
  {
   "cell_type": "code",
   "execution_count": 10,
   "metadata": {
    "collapsed": true
   },
   "outputs": [],
   "source": [
    "compare_s2p_plots([two_port,correct_two_port],**{\"format\":\"DB\"})"
   ]
  },
  {
   "cell_type": "markdown",
   "metadata": {},
   "source": [
    "<img src=\"./Calibration_Example_Files/Twelve_Term_Correction.png\" />\n",
    "VNA Calibration Coefficients\n",
    "\n",
    "StatistiCAL stores VNA calibration coefficients in the following order:\n",
    "\n",
    "frequency  Edf  Esf  Erf  Exf  Elf  Etf  Edr  Esr  Err  Exr  Elr  Etr.\n",
    "\n",
    "The value of the frequency is in gigahertz. The other values are expressed as real/imaginary pairs.\n",
    "\n",
    "\n"
   ]
  }
 ],
 "metadata": {
  "kernelspec": {
   "display_name": "Python 2",
   "language": "python",
   "name": "python2"
  },
  "language_info": {
   "codemirror_mode": {
    "name": "ipython",
    "version": 2
   },
   "file_extension": ".py",
   "mimetype": "text/x-python",
   "name": "python",
   "nbconvert_exporter": "python",
   "pygments_lexer": "ipython2",
   "version": "2.7.12"
  }
 },
 "nbformat": 4,
 "nbformat_minor": 0
}
