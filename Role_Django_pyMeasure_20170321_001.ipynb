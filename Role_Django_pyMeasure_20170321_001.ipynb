{
 "cells": [
  {
   "cell_type": "markdown",
   "metadata": {},
   "source": [
    "# The role of Django as a webservice in pyMeasure\n",
    "\n",
    "Given any function $f$ such that $f(a,b,c) -> y$ the site's database denoted DB can have a table (Model found in models.py) with columns a,b,c. These values can be input by the user and then saved to be recalled at a later time.  Each model has a corresponding form (found in forms.py) that maps the input of the a,b,c to a html form. These forms return to the server a dictionary through the HTTPRequest (usually request) a dictionary of with element_name:element_value. Where any string is in unicode (u'string'). In return the server responds with a HTTPResponse or rendered template. These templates are passed a context data dictionary. Elements of this dictionary can be called in the template using the key of the dictionary {{key}}. \n",
    "\n",
    "Django is a FrontEnd, its data layer (DB) records input for recall at a latter date, and sets the current state of the FrontEnd. There are several built-in data models for site administration such as user and groups. In addition, any model can be added to the admin interface for direct editing by a superuser. \n",
    "\n",
    "So now we can divide the FrontEnd action into groups\n",
    "1. User input destined for a response by the FrontEnd (a,b,c) gets input and the resulting y is displayed.\n",
    "2. A recorded action \n",
    "\n",
    "The response is created in HTML. This HTML can be transformed into something else.\n",
    "\n",
    "A file can be created and a link to that file\n",
    "`<a href=\"/images/myw3schoolsimage.jpg\" download=\"w3logo\">`\n",
    "\n",
    "This can be path from an in-memory (class) to an on-disk representation. The server saves the file at a statically served location Class.save(\"static location.extension\") then the response html points to this location. Or we can create a dataURL if that is better. \n",
    "\n",
    "\n",
    "\n"
   ]
  },
  {
   "cell_type": "code",
   "execution_count": null,
   "metadata": {
    "collapsed": true
   },
   "outputs": [],
   "source": []
  }
 ],
 "metadata": {
  "kernelspec": {
   "display_name": "Python 2",
   "language": "python",
   "name": "python2"
  },
  "language_info": {
   "codemirror_mode": {
    "name": "ipython",
    "version": 2
   },
   "file_extension": ".py",
   "mimetype": "text/x-python",
   "name": "python",
   "nbconvert_exporter": "python",
   "pygments_lexer": "ipython2",
   "version": "2.7.13"
  }
 },
 "nbformat": 4,
 "nbformat_minor": 2
}
