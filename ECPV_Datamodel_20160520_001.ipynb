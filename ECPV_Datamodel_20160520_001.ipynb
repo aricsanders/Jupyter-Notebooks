{
 "cells": [
  {
   "cell_type": "markdown",
   "metadata": {},
   "source": [
    "<h1 id=\"ECPV\" style=\"color:blue;text-align:center;\"> ECPV: a descriptive data model </h1>\n",
    "<h2 id=\"Abstract\">Abstract</h2>\n",
    "<p> In the realm of modern computation, the need to describe entities or objects is a pervasive one. Systems of data management, controlled vocabularies for data cataloging, and descriptive frameworks have all created solutions on varying scales. These solutions vary in scope and implementation, but can be thought of as knowledge systems for describing almost arbitrary objects. These knowledge systems can be encapsulated through a context, collection of properties, and obligate-contexts, or facts about these properties required by a specific person or program to make sense of them. By creating a data model in which arbitrary entities (or objects) can be defined using different knowledge systems we can extend a basic description of an entity so that it can be used by many different interpreting agents.</p>\n",
    "\n",
    "<h2 id=\"Introduction\">Introduction</h2>\n",
    "<p> Since long before the appearence of the internet, there have been attempts to create logical frameworks to describe entities in a systematic way. These logical frameworks have at thier basis a method or methods for categorizing information regarding a particular subject or group of subjects (definition of a knowledge system). Since the advent of modern computers, knowledge systems that are machine readable and parsable such as programing languanges, standardized data models, and character encoding systems have become common place. To create better descriptive data formats and interchangable systems of understanding for machine based technologies, we have developed a data model that is a derivative of the Entity-Attribute-Value model (also known as  also known as object–attribute–value model, vertical database model and open schema.) but provides the capability of supoorting both row and column modeled facts.</p> __Develop a Need and the solution to that need__\n",
    "\n",
    "<h2 id=\"Description_Of_ECPV\" > Description of the model </h2>\n",
    "<p> The entity-context-property-value model consists of:\n",
    "<ol>\n",
    "<li> One or more facts used to uniquely identify an entity inside of the entity containing the description</li>\n",
    "<li> A series of descriptions of that entity, formulated in a knowledge system, or collection of properties and descriptions of those properties </li>\n",
    "</ol>\n",
    "</p>\n",
    "<p> These two major components are further divided into logical sub-components </p>\n",
    "<ol>\n",
    "<li> <span>Entity</span> - The facts used to identify an entity, whether it is a computational resource, physical object or idea. In the absence of a declariative statement of these facts, the entity to be described is identified as the entity containing the description </li>\n",
    "<li> <span>Context</span> - An enumerated collection of potential descriptions, identified by a series of characters known as a property. In addition to this enumerated collection, every context can have 0,1, or many sets of rules regarding the potential descriptions. These rules or a single collection of these rules or descriptions of the context are known as obligate contexts. The collection made by a context and its obligate contexts is refered to as a knowledge system. A collection of knowledge systems is refered to as a universe.</li>\n",
    "<li><span>Property</span> - A series of characters that represents a property of an entity in a particular knowledge system </li>\n",
    "<li> <span>Value</span> - Any object that can be represented by a computer. This object is the description of the entity's property in a given knowledge system. </li>\n",
    "\n",
    "<h2 id=\"Characteristics\" > Characteristics of the ECPV system </h2>\n",
    "<p> Besides the logical subcomponents of the ECPV system, several notions are integral to the data model. These ideas help describe the logical behavior of the subcomponents.</p>  \n",
    "<ul>\n",
    "<li> <span>default</span> - a value assumed for any property from a context or obligate context when one is not explicitly provided </li>\n",
    "<li> <span>self</span> - the object or context that contains a property or description </li>\n",
    "<li> <span>interpreting agent</span> - something meant to interpret an ECPV description. This could be a human, machine operating on a human's behalf, software, etc. </li>\n",
    "<li> <span> alias</span> - Two things with different identifiers that represent the same entity. (don't like the use of entity here) </li>\n",
    "<li> <span> obligate context</span> - a context that provides information about another context in a knowledge system, or a metadata dictionary. </li>\n",
    "</ul>\n",
    "<p> The ECPV data model is a fact based data model. It is mapable to a single set of key - value facts. Every key is a composite composed of an entity reference, a context or knowledge system reference, and a property identifier (name). The sematics and syntax of this description are formed by the context and its obligate contexts and interpreted by an interpreting agent. For an interpreting agent to be a conforming processor (parser?), it must accept all descriptions and not enter an error state even if those descriptions are unexpected. </p>\n",
    "<h3> Inherited and derivative contexts </h3>\n",
    "<p> A knowledge system that is a proper subset, that is contains only elements contained in another knowledge system is known as a parent of that knowledge system. If a knowledge system provides different obligate contexts, or different definitions of properties but shares properties with another knowledge system it is known as a derivative knowledge system. </p>\n",
    "<h3> Logical Structure of Entities inside of a description (encyclopedia?) </h3>\n",
    "<p> If a entity provides identifiers for multiple other entities and provides descriptions of these entities it is known as ?(Virtual File System, Arbitrary Database?, Encyclopedia?). The collection of identifiers is collectively known as an entity list, object list or entity dictionary?. This list provides facts that identify the entities contained within. These facts are to be in the first normal form, that is:\n",
    "<ol>\n",
    "<li> Inside of an encyclopedia they must consist of any series of facts, the same number of facts should be recorded for every entity inside of the enclopedia. In addition, each entity must be uniquely identified by the series of facts recorded.</li>\n",
    "<li> Different encylopedias or files with self descriptions can utilize any knowledge system to form a description. </li>\n",
    "3. <li>All descriptions must be single valued in the encylopedia at a given instance, that is for any Entity-Context-Property combination there can only exist a single value at any given time. If two descriptions are conflicting, it is the role of the interpreting agent to determine precedence (time order) or if two descriptions of the same entity are provided by different sources, it is the role of the interpreting agent to determine precedence.</li>\n",
    "</ol>\n",
    "</p>\n",
    "\n",
    "\n",
    "\n"
   ]
  },
  {
   "cell_type": "markdown",
   "metadata": {},
   "source": [
    "<style>\n",
    "span #open {color:blue;}\n",
    "</style>\n",
    "<h2> Open, Closed and Abstract </h2>\n",
    "<p> A repository of ECPV facts is know as <span id=\"closed\" style=\"font-weight:bold;\">closed</span> if all of the enities defined within it are electronic and available to the current intrepreting agent. It is known as  <span id=\"open\" style=\"font-weight:bold;\">open</span> if all of the entities defined within it are electronically available resources. If the descriptions are not of electronic resources then it is known as <span id=\"abstract\" style=\"font-weight:bold;\">abstract</span>. \n",
    "</p>"
   ]
  },
  {
   "cell_type": "code",
   "execution_count": null,
   "metadata": {
    "collapsed": true
   },
   "outputs": [],
   "source": []
  }
 ],
 "metadata": {
  "kernelspec": {
   "display_name": "Python 2",
   "language": "python",
   "name": "python2"
  },
  "language_info": {
   "codemirror_mode": {
    "name": "ipython",
    "version": 2
   },
   "file_extension": ".py",
   "mimetype": "text/x-python",
   "name": "python",
   "nbconvert_exporter": "python",
   "pygments_lexer": "ipython2",
   "version": "2.7.13"
  }
 },
 "nbformat": 4,
 "nbformat_minor": 0
}
