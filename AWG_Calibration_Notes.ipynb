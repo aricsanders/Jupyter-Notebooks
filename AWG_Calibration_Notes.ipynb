{
 "cells": [
  {
   "cell_type": "markdown",
   "metadata": {},
   "source": [
    "# Absolute Receiver Calibration on an Arbitrary Frequency Grid Using an Arbitrary Waveform Generator\n",
    "\n",
    "## Goal: \n",
    "Calibrate the receiver of a VNA in both amplitude and absolute phase on an arbitrary frequency grid, with special attention to frequency spacings less than 625 KHz (smallest attainable using a frequency comb). \n",
    "\n",
    "## Procedure:\n",
    "Procedure for a single port.\n",
    "$$A1_{Calibrated} = C_{A1}*A1_{raw}$$\n",
    "\n",
    "$$A1_{raw} = |A1_{Reading}|*e^{-i*(\\phi_{reading}-\\phi_{measurement phase reference})}$$\n",
    "\n",
    "### 1. Scattering Parameter Calibration\n",
    "1. Measure S11 of each of the following, short, open and load, on the frequency grid of interest.\n",
    "2. Measure S11 of the oscilloscope and power meter to be used in the calibration\n",
    "3. Calculate the 2-port error adapter for the port,$\\begin{pmatrix} EA_{11} & EA_{12}\\\\ EA_{21} & EA_{22} \\end{pmatrix}$ and correct S11 of the oscilloscope and power meter.$\\Gamma_{scope},\\Gamma_{pm}$\n",
    "\n",
    "### 2. Power Calibration\n",
    "1. Measure the out going wave on port of interest (A1) at the same time as power meter reading for the frequencies of interest.\n",
    "$|C_{A1}| = |{ \\frac{ \\sqrt{2*Power Meter Reading*50*\\frac{1+\\Gamma_{pm}}{1-\\Gamma_{pm}}}*(1-\\Gamma_{pm}*EA_{22})}{A1_{raw}*EA_{21}}}|$\n",
    "\n",
    "### 3. Phase Calibration\n",
    "1. Establish a phase stable master clock, in this case we use a PSG creating a 10 GHz sine wave\n",
    "2. Use the AWG to create a multisine with components at all frequencies of interest (if this exceeds the sampling rate of the AWG (1/Clock Frequency) then a mixer step is required). Place a marker in the file to trigger the oscilloscope. This signal is now connected to at least one receiver in the VNA as the measurement phase reference. In this particular experiment it was A4, accessible through a back jumper on the PNA-x.\n",
    "3. Use a second channel routed through the port 1 back jumper to create a single sine with the frequency of interest (on of the points on the frequency grid). Measure $A1_{raw}$ , a waveform on the scope (~ 1 period).\n",
    "4. Fit the waveform on the scope to a sine (or cosine) with two free parameters amplitude and phase (frequency should be fixed by the AWG). The resultant complex number is $A_{scope}$\n",
    "5. Fit the phase of the 10 GHz IQ signal for an absolute offset\n",
    "\n",
    "Now the calibration phase is:\n",
    "$$ \\angle{C_{A1}} = \\angle{\\frac{A_{scope}*(1-\\Gamma_{scope}EA_{22})}{EA_{21}}}-\\angle{A1_{raw}} $$\n",
    "\n",
    "\n",
    "### Calibration of B receiver\n",
    "1. We may use the knowledge of $C_{A1}$,the error adapter,$\\begin{pmatrix} EA_{11} & EA_{12}\\\\ EA_{21} & EA_{22} \\end{pmatrix}$,\n",
    "the measurement of a known device (Load) \n",
    "for the load:\n",
    "$$C_{B1}=\\frac {C_{A1}*A1_{raw}*EA_{11}}{B1_{raw}}$$\n",
    "\n",
    "for any device with known gamma \n",
    "$$C_{B1}=\\frac{C_{A1}*A1_{raw}}{B1_{raw}}*\\begin{pmatrix} \\frac{EA_{11}-(EA_{11}EA_{22}-EA_{12}EA_{21})\\Gamma_{dut}}{1-EA_{22}\\Gamma_{dut}} \\end{pmatrix}$$\n",
    "\n",
    "use the $\\alpha$ version putting the coefficient into the Error Adapter instead $(\\alpha=C_{A1})$\n",
    "$\\begin{pmatrix} EA_{11} & EA_{12}*\\frac{1}{\\alpha}\\\\ EA_{21}*\\alpha & EA_{22} \\end{pmatrix}$"
   ]
  }
 ],
 "metadata": {
  "kernelspec": {
   "display_name": "Python 3",
   "language": "python",
   "name": "python3"
  },
  "language_info": {
   "codemirror_mode": {
    "name": "ipython",
    "version": 3
   },
   "file_extension": ".py",
   "mimetype": "text/x-python",
   "name": "python",
   "nbconvert_exporter": "python",
   "pygments_lexer": "ipython3",
   "version": "3.7.0"
  }
 },
 "nbformat": 4,
 "nbformat_minor": 2
}
