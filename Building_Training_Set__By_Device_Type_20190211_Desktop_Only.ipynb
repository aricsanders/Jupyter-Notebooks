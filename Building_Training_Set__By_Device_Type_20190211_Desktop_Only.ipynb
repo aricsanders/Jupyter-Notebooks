{
 "cells": [
  {
   "cell_type": "markdown",
   "metadata": {},
   "source": [
    "# Creating A Training Set From s2p data\n"
   ]
  },
  {
   "cell_type": "markdown",
   "metadata": {},
   "source": [
    "## Import pyMez and pyMez.Code.Analysis.SParameter  "
   ]
  },
  {
   "cell_type": "code",
   "execution_count": 1,
   "metadata": {
    "collapsed": false,
    "scrolled": true
   },
   "outputs": [
    {
     "name": "stdout",
     "output_type": "stream",
     "text": [
      "Importing pyMez, this should take roughly 30 seconds\n",
      "Importing Code.DataHandlers.GeneralModels\n",
      "It took 0.987 s to import Code.DataHandlers.GeneralModels\n",
      "Importing Code.DataHandlers.HTMLModels\n",
      "It took 0.152 s to import Code.DataHandlers.HTMLModels\n",
      "Importing Code.DataHandlers.NISTModels\n",
      "It took 1.638 s to import Code.DataHandlers.NISTModels\n",
      "Importing Code.DataHandlers.TouchstoneModels\n",
      "It took 0.0 s to import Code.DataHandlers.TouchstoneModels\n",
      "Importing Code.DataHandlers.XMLModels\n",
      "It took 0.1 s to import Code.DataHandlers.XMLModels\n",
      "Importing Code.DataHandlers.ZipModels\n",
      "It took 0.01 s to import Code.DataHandlers.ZipModels\n",
      "Importing Code.InstrumentControl.Experiments\n",
      "It took 1.92 s to import Code.InstrumentControl.Experiments\n",
      "Importing Code.InstrumentControl.Instruments\n",
      "It took 0.0 s to import Code.InstrumentControl.Instruments\n",
      "Importing Code.Utils.Names\n",
      "It took 0.0 s to import Code.Utils.Names\n",
      "It took 4.807 s to import all of the active modules\n"
     ]
    }
   ],
   "source": [
    "import os\n",
    "from pyMez import *\n",
    "from pyMez.Code.Analysis.SParameter import *\n",
    "from pyMez.Code.DataHandlers.NISTModels import *\n",
    "from pyMez.Code.DataHandlers.Translations import *\n",
    "import sys\n",
    "sys.path.insert(0, '..')\n",
    "#from Machine_Learning import *\n",
    "from sklearn.discriminant_analysis import QuadraticDiscriminantAnalysis\n"
   ]
  },
  {
   "cell_type": "code",
   "execution_count": 2,
   "metadata": {
    "collapsed": false
   },
   "outputs": [],
   "source": [
    "from sklearn.discriminant_analysis import QuadraticDiscriminantAnalysis\n",
    "from sklearn.naive_bayes import GaussianNB, BernoulliNB, MultinomialNB\n",
    "from sklearn.tree import DecisionTreeClassifier\n",
    "from sklearn.ensemble import RandomForestClassifier\n",
    "from sklearn.linear_model import RidgeClassifier, SGDClassifier, PassiveAggressiveClassifier, Perceptron\n",
    "from sklearn.svm import SVC\n",
    "classifier_dict = {\"QDA\": QuadraticDiscriminantAnalysis,\n",
    "                   \"Bernoulli Naive Bayes\": BernoulliNB,\n",
    "                   \"Decision Tree\": DecisionTreeClassifier,\n",
    "                   \"Random Forest\": RandomForestClassifier,\n",
    "                   \"Ridge\": RidgeClassifier,\n",
    "                   \"SGD\": SGDClassifier,\n",
    "                   \"Passive Aggressive\": PassiveAggressiveClassifier,\n",
    "                   \"Perceptron\": Perceptron}"
   ]
  },
  {
   "cell_type": "markdown",
   "metadata": {},
   "source": [
    "## Define the files to be imported"
   ]
  },
  {
   "cell_type": "code",
   "execution_count": 5,
   "metadata": {
    "collapsed": false
   },
   "outputs": [],
   "source": [
    "# A little different way of doing it \n",
    "# Read all the folders and create a dictionary\n",
    "pretrain_folder=r\"E:\\Share\\Scattering Parameter ML Training Set\\TypeN_20190211\\PreTrain\"\n",
    "pretrain_folders=os.listdir(pretrain_folder)\n",
    "device_type_dictionary={index:value for index,value in enumerate(pretrain_folders)}\n",
    "device_type_dictionary_inverse={value:index for index,value in enumerate(pretrain_folders)}\n",
    "pretrain_folders=map(lambda x:os.path.join(pretrain_folder,x),pretrain_folders)"
   ]
  },
  {
   "cell_type": "code",
   "execution_count": 6,
   "metadata": {
    "collapsed": false
   },
   "outputs": [
    {
     "name": "stdout",
     "output_type": "stream",
     "text": [
      "{0: 'Load', 1: 'Load_Position_10', 2: 'Load_Position_4', 3: 'Load_Position_5', 4: 'Load_Position_6', 5: 'Load_Position_7', 6: 'Load_Position_8', 7: 'Load_Position_9', 8: 'Open', 9: 'Open_Position_10', 10: 'Open_Position_4', 11: 'Open_Position_5', 12: 'Open_Position_6', 13: 'Open_Position_7', 14: 'Open_Position_8', 15: 'Open_Position_9', 16: 'Short', 17: 'Short_Position_10', 18: 'Short_Position_4', 19: 'Short_Position_5', 20: 'Short_Position_6', 21: 'Short_Position_7', 22: 'Short_Position_8', 23: 'Short_Position_9', 24: 'Thru', 25: 'Thru_Position_10', 26: 'Thru_Position_4', 27: 'Thru_Position_5', 28: 'Thru_Position_6', 29: 'Thru_Position_7', 30: 'Thru_Position_8', 31: 'Thru_Position_9'}\n"
     ]
    }
   ],
   "source": [
    "print(device_type_dictionary)"
   ]
  },
  {
   "cell_type": "code",
   "execution_count": 10,
   "metadata": {
    "collapsed": false
   },
   "outputs": [],
   "source": [
    "def create_s2p_training_set(pretrain_folder,number_training_sets=1000,expansion_factor=1.0,minimum_noise=1*10**-8):\n",
    "    \"\"\"Given a directory containing multiple measurements this creates a list of np.arrays to \n",
    "    train a classifier\"\"\"\n",
    "    pretrain_files=os.listdir(pretrain_folder)\n",
    "    #print(\"The number of pretrain files is {0}, \\nthe pretrain folder is {1}\".format(len(pretrain_files), pretrain_folder))\n",
    "    pretrain_files=map(lambda x:os.path.join(pretrain_folder,x),pretrain_files)\n",
    "    # now open the files convert them to AsciiData Tables and find the mean and standard deviation\n",
    "    first_file=Snp_to_AsciiDataTable(SNP(pretrain_files[0]))\n",
    "    joined_file=first_file.copy()\n",
    "    for file_name in pretrain_files[1:]:\n",
    "        joined_file=joined_file+Snp_to_AsciiDataTable(SNP(file_name))\n",
    "    mean_file=frequency_model_collapse_multiple_measurements(joined_file)\n",
    "    std_file=frequency_model_collapse_multiple_measurements(joined_file,method=\"std\")\n",
    "    mean_array=AsciiDataTable_to_NumpyArray(mean_file,exclude_columns=\"Frequency\")\n",
    "    std_array=AsciiDataTable_to_NumpyArray(std_file,exclude_columns=\"Frequency\")\n",
    "    \n",
    "    training_arrays=np.array([np.random.normal(loc=mean_value,scale=expansion_factor*std_array[index]+minimum_noise,\n",
    "                                               size=number_training_sets) for index,\n",
    "                              mean_value in enumerate(mean_array)])\n",
    "\n",
    "    training_arrays=[[training_arrays[i][j] \n",
    "                      for i in range(len(mean_array))] for j in range(number_training_sets)]\n",
    "    return training_arrays\n",
    "\n",
    "def percent_correct(target_list,prediction_list):\n",
    "    \"\"\"Calculates the number of correct predictions\"\"\"\n",
    "    number_correct=0\n",
    "    for index,value in enumerate(target_list):\n",
    "        if prediction_list[index]==value:\n",
    "            number_correct+=1\n",
    "    return 100*float(number_correct)/float(len(target_list))\n",
    "\n",
    "\n"
   ]
  },
  {
   "cell_type": "code",
   "execution_count": 8,
   "metadata": {
    "collapsed": false
   },
   "outputs": [
    {
     "data": {
      "text/plain": [
       "['E:\\\\Share\\\\Scattering Parameter ML Training Set\\\\TypeN_20190211\\\\PreTrain\\\\Load',\n",
       " 'E:\\\\Share\\\\Scattering Parameter ML Training Set\\\\TypeN_20190211\\\\PreTrain\\\\Load_Position_10',\n",
       " 'E:\\\\Share\\\\Scattering Parameter ML Training Set\\\\TypeN_20190211\\\\PreTrain\\\\Load_Position_4',\n",
       " 'E:\\\\Share\\\\Scattering Parameter ML Training Set\\\\TypeN_20190211\\\\PreTrain\\\\Load_Position_5',\n",
       " 'E:\\\\Share\\\\Scattering Parameter ML Training Set\\\\TypeN_20190211\\\\PreTrain\\\\Load_Position_6',\n",
       " 'E:\\\\Share\\\\Scattering Parameter ML Training Set\\\\TypeN_20190211\\\\PreTrain\\\\Load_Position_7',\n",
       " 'E:\\\\Share\\\\Scattering Parameter ML Training Set\\\\TypeN_20190211\\\\PreTrain\\\\Load_Position_8',\n",
       " 'E:\\\\Share\\\\Scattering Parameter ML Training Set\\\\TypeN_20190211\\\\PreTrain\\\\Load_Position_9',\n",
       " 'E:\\\\Share\\\\Scattering Parameter ML Training Set\\\\TypeN_20190211\\\\PreTrain\\\\Open',\n",
       " 'E:\\\\Share\\\\Scattering Parameter ML Training Set\\\\TypeN_20190211\\\\PreTrain\\\\Open_Position_10',\n",
       " 'E:\\\\Share\\\\Scattering Parameter ML Training Set\\\\TypeN_20190211\\\\PreTrain\\\\Open_Position_4',\n",
       " 'E:\\\\Share\\\\Scattering Parameter ML Training Set\\\\TypeN_20190211\\\\PreTrain\\\\Open_Position_5',\n",
       " 'E:\\\\Share\\\\Scattering Parameter ML Training Set\\\\TypeN_20190211\\\\PreTrain\\\\Open_Position_6',\n",
       " 'E:\\\\Share\\\\Scattering Parameter ML Training Set\\\\TypeN_20190211\\\\PreTrain\\\\Open_Position_7',\n",
       " 'E:\\\\Share\\\\Scattering Parameter ML Training Set\\\\TypeN_20190211\\\\PreTrain\\\\Open_Position_8',\n",
       " 'E:\\\\Share\\\\Scattering Parameter ML Training Set\\\\TypeN_20190211\\\\PreTrain\\\\Open_Position_9',\n",
       " 'E:\\\\Share\\\\Scattering Parameter ML Training Set\\\\TypeN_20190211\\\\PreTrain\\\\Short',\n",
       " 'E:\\\\Share\\\\Scattering Parameter ML Training Set\\\\TypeN_20190211\\\\PreTrain\\\\Short_Position_10',\n",
       " 'E:\\\\Share\\\\Scattering Parameter ML Training Set\\\\TypeN_20190211\\\\PreTrain\\\\Short_Position_4',\n",
       " 'E:\\\\Share\\\\Scattering Parameter ML Training Set\\\\TypeN_20190211\\\\PreTrain\\\\Short_Position_5',\n",
       " 'E:\\\\Share\\\\Scattering Parameter ML Training Set\\\\TypeN_20190211\\\\PreTrain\\\\Short_Position_6',\n",
       " 'E:\\\\Share\\\\Scattering Parameter ML Training Set\\\\TypeN_20190211\\\\PreTrain\\\\Short_Position_7',\n",
       " 'E:\\\\Share\\\\Scattering Parameter ML Training Set\\\\TypeN_20190211\\\\PreTrain\\\\Short_Position_8',\n",
       " 'E:\\\\Share\\\\Scattering Parameter ML Training Set\\\\TypeN_20190211\\\\PreTrain\\\\Short_Position_9',\n",
       " 'E:\\\\Share\\\\Scattering Parameter ML Training Set\\\\TypeN_20190211\\\\PreTrain\\\\Thru',\n",
       " 'E:\\\\Share\\\\Scattering Parameter ML Training Set\\\\TypeN_20190211\\\\PreTrain\\\\Thru_Position_10',\n",
       " 'E:\\\\Share\\\\Scattering Parameter ML Training Set\\\\TypeN_20190211\\\\PreTrain\\\\Thru_Position_4',\n",
       " 'E:\\\\Share\\\\Scattering Parameter ML Training Set\\\\TypeN_20190211\\\\PreTrain\\\\Thru_Position_5',\n",
       " 'E:\\\\Share\\\\Scattering Parameter ML Training Set\\\\TypeN_20190211\\\\PreTrain\\\\Thru_Position_6',\n",
       " 'E:\\\\Share\\\\Scattering Parameter ML Training Set\\\\TypeN_20190211\\\\PreTrain\\\\Thru_Position_7',\n",
       " 'E:\\\\Share\\\\Scattering Parameter ML Training Set\\\\TypeN_20190211\\\\PreTrain\\\\Thru_Position_8',\n",
       " 'E:\\\\Share\\\\Scattering Parameter ML Training Set\\\\TypeN_20190211\\\\PreTrain\\\\Thru_Position_9']"
      ]
     },
     "execution_count": 8,
     "metadata": {},
     "output_type": "execute_result"
    }
   ],
   "source": [
    "pretrain_folders"
   ]
  },
  {
   "cell_type": "code",
   "execution_count": 11,
   "metadata": {
    "collapsed": false
   },
   "outputs": [
    {
     "name": "stdout",
     "output_type": "stream",
     "text": [
      "Working on 0\n",
      "Working on 1\n",
      "Working on 2\n",
      "Working on 3\n",
      "Working on 4\n",
      "Working on 5\n",
      "Working on 6\n",
      "Working on 7\n",
      "Working on 8\n",
      "Working on 9\n",
      "Working on 10\n",
      "Working on 11\n",
      "Working on 12\n",
      "Working on 13\n",
      "Working on 14\n",
      "Working on 15\n",
      "Working on 16\n",
      "Working on 17\n",
      "Working on 18\n",
      "Working on 19\n",
      "Working on 20\n",
      "Working on 21\n",
      "Working on 22\n",
      "Working on 23\n",
      "Working on 24\n",
      "Working on 25\n",
      "Working on 26\n",
      "Working on 27\n",
      "Working on 28\n",
      "Working on 29\n",
      "Working on 30\n",
      "Working on 31\n"
     ]
    }
   ],
   "source": [
    "number_training_sets=1000\n",
    "expansion_factor=1\n",
    "sorted_device_keys=sorted(device_type_dictionary.keys())\n",
    "training_array=[]\n",
    "\n",
    "for key in sorted_device_keys:\n",
    "    print(\"Working on {0}\".format(key))\n",
    "    training_array=training_array+create_s2p_training_set(os.path.join(pretrain_folder,\n",
    "                                                               \"{0}\".format(device_type_dictionary[key])),\n",
    "                                                              number_training_sets,expansion_factor=expansion_factor)\n",
    "target_array=[]\n",
    "for key_index,key in enumerate(sorted_device_keys):\n",
    "    target_array=target_array+[key for i in range(number_training_sets)]\n"
   ]
  },
  {
   "cell_type": "code",
   "execution_count": 60,
   "metadata": {
    "collapsed": false
   },
   "outputs": [
    {
     "data": {
      "text/plain": [
       "29000"
      ]
     },
     "execution_count": 60,
     "metadata": {},
     "output_type": "execute_result"
    }
   ],
   "source": [
    "len(target_array)"
   ]
  },
  {
   "cell_type": "code",
   "execution_count": 12,
   "metadata": {
    "collapsed": false
   },
   "outputs": [
    {
     "name": "stderr",
     "output_type": "stream",
     "text": [
      "C:\\python27\\lib\\site-packages\\sklearn\\discriminant_analysis.py:688: UserWarning: Variables are collinear\n",
      "  warnings.warn(\"Variables are collinear\")\n"
     ]
    },
    {
     "data": {
      "text/plain": [
       "QuadraticDiscriminantAnalysis(priors=None, reg_param=0.0,\n",
       "               store_covariances=False, tol=0.0001)"
      ]
     },
     "execution_count": 12,
     "metadata": {},
     "output_type": "execute_result"
    }
   ],
   "source": [
    "classifier=QuadraticDiscriminantAnalysis()\n",
    "classifier.fit(training_array,target_array)\n"
   ]
  },
  {
   "cell_type": "code",
   "execution_count": 13,
   "metadata": {
    "collapsed": false
   },
   "outputs": [
    {
     "name": "stdout",
     "output_type": "stream",
     "text": [
      "The correct percentage is 100.0\n"
     ]
    }
   ],
   "source": [
    "base_predictions=classifier.predict(training_array)\n",
    "base_correct=percent_correct(target_array,base_predictions)\n",
    "print(\"The correct percentage is {0}\".format(base_correct))"
   ]
  },
  {
   "cell_type": "code",
   "execution_count": 14,
   "metadata": {
    "collapsed": false
   },
   "outputs": [
    {
     "data": {
      "image/png": "[encoded data removed]",
      "text/plain": [
       "<matplotlib.figure.Figure at 0x213657b8>"
      ]
     },
     "metadata": {},
     "output_type": "display_data"
    }
   ],
   "source": [
    "plt.plot(target_array,base_predictions,\"rx\")\n",
    "plt.xlabel(\"Device Trained\")\n",
    "plt.ylabel(\"Device Predicted\")\n",
    "plt.title(\"QDA\")\n",
    "plt.show()"
   ]
  },
  {
   "cell_type": "code",
   "execution_count": 15,
   "metadata": {
    "collapsed": false
   },
   "outputs": [
    {
     "name": "stdout",
     "output_type": "stream",
     "text": [
      "The correct percentage is 100.0\n"
     ]
    },
    {
     "data": {
      "image/png": "[encoded data removed]",
      "text/plain": [
       "<matplotlib.figure.Figure at 0x90e700f0>"
      ]
     },
     "metadata": {},
     "output_type": "display_data"
    }
   ],
   "source": [
    "two_port_classifier=DecisionTreeClassifier()\n",
    "two_port_classifier.fit(training_array, target_array)\n",
    "d_base_predictions=two_port_classifier.predict(training_array)\n",
    "d_base_correct=percent_correct(target_array,d_base_predictions)\n",
    "print(\"The correct percentage is {0}\".format(d_base_correct))\n",
    "plt.plot(target_array,d_base_predictions,\"rx\")\n",
    "plt.xlabel(\"Device Trained\")\n",
    "plt.ylabel(\"Device Predicted\")\n",
    "plt.title(\"Decision Tree \")\n",
    "plt.show()"
   ]
  },
  {
   "cell_type": "code",
   "execution_count": 20,
   "metadata": {
    "collapsed": false
   },
   "outputs": [
    {
     "name": "stdout",
     "output_type": "stream",
     "text": [
      "The correct percentage is 100.0\n"
     ]
    },
    {
     "data": {
      "image/png": "[encoded data removed]",
      "text/plain": [
       "<matplotlib.figure.Figure at 0x90b7d198>"
      ]
     },
     "metadata": {},
     "output_type": "display_data"
    }
   ],
   "source": [
    "BNB_classifier=BernoulliNB()\n",
    "BNB_classifier.fit(training_array, target_array)\n",
    "BNB_base_predictions=BNB_classifier.predict(training_array)\n",
    "BNB_base_correct=percent_correct(target_array,BNB_base_predictions)\n",
    "print(\"The correct percentage is {0}\".format(BNB_base_correct))\n",
    "plt.plot(target_array,BNB_base_predictions,\"rx\")\n",
    "plt.xlabel(\"Device Trained\")\n",
    "plt.ylabel(\"Device Predicted\")\n",
    "plt.title(\"Bernoulli Naive Bayes \")\n",
    "plt.show()"
   ]
  },
  {
   "cell_type": "code",
   "execution_count": 21,
   "metadata": {
    "collapsed": false
   },
   "outputs": [
    {
     "name": "stdout",
     "output_type": "stream",
     "text": [
      "The correct percentage is 100.0\n"
     ]
    },
    {
     "data": {
      "image/png": "[encoded data removed]",
      "text/plain": [
       "<matplotlib.figure.Figure at 0x90b583c8>"
      ]
     },
     "metadata": {},
     "output_type": "display_data"
    }
   ],
   "source": [
    "RF_classifier=RandomForestClassifier()\n",
    "RF_classifier.fit(training_array, target_array)\n",
    "RF_base_predictions=RF_classifier.predict(training_array)\n",
    "RF_base_correct=percent_correct(target_array,RF_base_predictions)\n",
    "print(\"The correct percentage is {0}\".format(RF_base_correct))\n",
    "plt.plot(target_array,RF_base_predictions,\"rx\")\n",
    "plt.xlabel(\"Device Trained\")\n",
    "plt.ylabel(\"Device Predicted\")\n",
    "plt.title(\"Random Forest \")\n",
    "plt.show()"
   ]
  },
  {
   "cell_type": "code",
   "execution_count": 23,
   "metadata": {
    "collapsed": false
   },
   "outputs": [
    {
     "name": "stdout",
     "output_type": "stream",
     "text": [
      "The correct percentage is 100.0\n"
     ]
    },
    {
     "data": {
      "image/png": "[encoded data removed]",
      "text/plain": [
       "<matplotlib.figure.Figure at 0x7332a20>"
      ]
     },
     "metadata": {},
     "output_type": "display_data"
    }
   ],
   "source": [
    "Ridge_classifier=RidgeClassifier()\n",
    "Ridge_classifier.fit(training_array, target_array)\n",
    "Ridge_base_predictions=Ridge_classifier.predict(training_array)\n",
    "Ridge_base_correct=percent_correct(target_array,Ridge_base_predictions)\n",
    "print(\"The correct percentage is {0}\".format(Ridge_base_correct))\n",
    "plt.plot(target_array,Ridge_base_predictions,\"rx\")\n",
    "plt.xlabel(\"Device Trained\")\n",
    "plt.ylabel(\"Device Predicted\")\n",
    "plt.title(\"Ridge\")\n",
    "plt.show()"
   ]
  },
  {
   "cell_type": "code",
   "execution_count": 24,
   "metadata": {
    "collapsed": false
   },
   "outputs": [
    {
     "name": "stdout",
     "output_type": "stream",
     "text": [
      "The correct percentage is 87.49375\n"
     ]
    },
    {
     "data": {
      "image/png": "[encoded data removed]",
      "text/plain": [
       "<matplotlib.figure.Figure at 0x91b61ba8>"
      ]
     },
     "metadata": {},
     "output_type": "display_data"
    }
   ],
   "source": [
    "SGD_classifier=SGDClassifier()\n",
    "SGD_classifier.fit(training_array, target_array)\n",
    "SGD_base_predictions=SGD_classifier.predict(training_array)\n",
    "SGD_base_correct=percent_correct(target_array,SGD_base_predictions)\n",
    "print(\"The correct percentage is {0}\".format(SGD_base_correct))\n",
    "plt.plot(target_array,SGD_base_predictions,\"rx\")\n",
    "plt.xlabel(\"Device Trained\")\n",
    "plt.ylabel(\"Device Predicted\")\n",
    "plt.title(\"SGD\")\n",
    "plt.show()"
   ]
  },
  {
   "cell_type": "code",
   "execution_count": 25,
   "metadata": {
    "collapsed": false
   },
   "outputs": [
    {
     "name": "stdout",
     "output_type": "stream",
     "text": [
      "The correct percentage is 93.815625\n"
     ]
    },
    {
     "data": {
      "image/png": "[encoded data removed]",
      "text/plain": [
       "<matplotlib.figure.Figure at 0x918b4860>"
      ]
     },
     "metadata": {},
     "output_type": "display_data"
    }
   ],
   "source": [
    "PA_classifier=PassiveAggressiveClassifier()\n",
    "PA_classifier.fit(training_array, target_array)\n",
    "PA_base_predictions=PA_classifier.predict(training_array)\n",
    "PA_base_correct=percent_correct(target_array,PA_base_predictions)\n",
    "print(\"The correct percentage is {0}\".format(PA_base_correct))\n",
    "plt.plot(target_array,PA_base_predictions,\"rx\")\n",
    "plt.xlabel(\"Device Trained\")\n",
    "plt.ylabel(\"Device Predicted\")\n",
    "plt.title(\"Passive Agressive\")\n",
    "plt.show()"
   ]
  },
  {
   "cell_type": "code",
   "execution_count": 27,
   "metadata": {
    "collapsed": false
   },
   "outputs": [
    {
     "name": "stdout",
     "output_type": "stream",
     "text": [
      "The correct percentage is 97.053125\n"
     ]
    },
    {
     "data": {
      "image/png": "[encoded data removed]",
      "text/plain": [
       "<matplotlib.figure.Figure at 0x916fc908>"
      ]
     },
     "metadata": {},
     "output_type": "display_data"
    }
   ],
   "source": [
    "Perceptron_classifier=Perceptron()\n",
    "Perceptron_classifier.fit(training_array, target_array)\n",
    "Perceptron_base_predictions=Perceptron_classifier.predict(training_array)\n",
    "Perceptron_base_correct=percent_correct(target_array,Perceptron_base_predictions)\n",
    "print(\"The correct percentage is {0}\".format(Perceptron_base_correct))\n",
    "plt.plot(target_array,Perceptron_base_predictions,\"rx\")\n",
    "plt.xlabel(\"Device Trained\")\n",
    "plt.ylabel(\"Device Predicted\")\n",
    "plt.title(\"Perceptron\")\n",
    "plt.show()"
   ]
  },
  {
   "cell_type": "code",
   "execution_count": 28,
   "metadata": {
    "collapsed": false
   },
   "outputs": [],
   "source": [
    "#Build a test folder from the training folders\n",
    "test_folder=r\"E:\\Share\\Scattering Parameter ML Training Set\\TypeN_20190211\\Test_Pretrain_Data\"\n",
    "test_target_dictionary={}\n",
    "for folder in pretrain_folders:\n",
    "    device_type=folder.split(\"\\\\\")[-1]\n",
    "    for s2p_name in os.listdir(folder):\n",
    "        s2p_path=os.path.join(folder,s2p_name)\n",
    "        if os.path.isfile(s2p_path):\n",
    "            s2p=S2PV1(s2p_path)\n",
    "            s2p.save(os.path.join(test_folder,device_type+\"_\"+s2p_name))\n",
    "            test_target_dictionary[device_type+\"_\"+s2p_name]=device_type"
   ]
  },
  {
   "cell_type": "code",
   "execution_count": 29,
   "metadata": {
    "collapsed": false
   },
   "outputs": [],
   "source": [
    "#test_folder=r\"C:\\Share\\Scattering Parameter ML Training Set\\Test Set 1\"\n",
    "test_files=os.listdir(test_folder)\n",
    "#test_target_list=[list(device_type_dictionary.keys())[list(device_type_dictionary.values()).index(test_target_dictionary[key])] for key in test_files]\n",
    "test_files=map(lambda x:os.path.join(test_folder,x),test_files)"
   ]
  },
  {
   "cell_type": "code",
   "execution_count": 30,
   "metadata": {
    "collapsed": false
   },
   "outputs": [
    {
     "data": {
      "text/plain": [
       "173"
      ]
     },
     "execution_count": 30,
     "metadata": {},
     "output_type": "execute_result"
    }
   ],
   "source": [
    "len(test_files)"
   ]
  },
  {
   "cell_type": "code",
   "execution_count": 31,
   "metadata": {
    "collapsed": false
   },
   "outputs": [],
   "source": [
    "test_array=[]\n",
    "#test_target_list=[]\n",
    "for file_name in test_files:\n",
    "    test_array=test_array+[AsciiDataTable_to_NumpyArray(Snp_to_AsciiDataTable(SNP(file_name)),exclude_columns=\"Frequency\")]\n",
    "    #test_target_list.append(device_type_dictionary_inverse[test_target_dictionary[os.path.basename(file_name)]])\n",
    "predictions=two_port_classifier.predict(test_array)\n",
    "file_name_predictions={test_files[index]:device_type_dictionary[key] for index,key in enumerate(predictions.tolist())}"
   ]
  },
  {
   "cell_type": "code",
   "execution_count": null,
   "metadata": {
    "collapsed": false
   },
   "outputs": [],
   "source": [
    "for key,value in file_name_predictions.iteritems():\n",
    "    print(\"{0} is type {1}\".format(os.path.basename(key),value))"
   ]
  },
  {
   "cell_type": "code",
   "execution_count": 94,
   "metadata": {
    "collapsed": false
   },
   "outputs": [
    {
     "data": {
      "text/plain": [
       "array([ 2,  2,  2,  2,  3,  3,  3,  4,  3,  1,  1,  5,  6,  6,  5,  1,  1,\n",
       "        1,  7,  7,  5,  7,  1,  1,  1,  2,  2,  2,  3,  3,  3,  4,  4,  4,\n",
       "        5,  5,  5,  6,  1,  6,  7,  7,  7,  8,  8, 10,  8,  8, 11,  8,  8,\n",
       "       11,  8, 12, 10,  8,  8,  8,  9,  9,  9, 10, 10, 10, 11, 11, 11, 12,\n",
       "       12, 12, 14, 14, 14, 15, 15, 15, 16, 16, 16, 17, 17, 17, 18, 18, 18,\n",
       "       19, 19, 19, 20, 20, 20, 17, 17, 19, 18, 16, 16, 20, 17, 14, 18, 17,\n",
       "       17, 14, 13, 20, 20, 14, 13, 17, 17, 17, 22, 22, 22, 23, 23, 23, 24,\n",
       "       28, 23, 25, 22, 25, 26, 26, 26, 27, 27, 27, 28, 28, 28, 23, 23, 23,\n",
       "       21, 23, 27, 27, 23, 23, 23, 23, 23, 23, 23, 23, 23, 23, 23, 23, 23,\n",
       "       23])"
      ]
     },
     "execution_count": 94,
     "metadata": {},
     "output_type": "execute_result"
    }
   ],
   "source": [
    "predictions"
   ]
  },
  {
   "cell_type": "code",
   "execution_count": 32,
   "metadata": {
    "collapsed": false
   },
   "outputs": [
    {
     "name": "stdout",
     "output_type": "stream",
     "text": [
      "The accuracy is 99.4219653179\n",
      "The device_type_accuracy is 100.0\n"
     ]
    }
   ],
   "source": [
    "accuracy=0\n",
    "device_type_accuracy=0\n",
    "sorted_keys=sorted(file_name_predictions.keys())\n",
    "sorted_values=[file_name_predictions[key] for key in sorted_keys]\n",
    "\n",
    "for index,test_name in enumerate(sorted_keys):\n",
    "    device_type=sorted_values[index]\n",
    "    base_device_type=device_type.split(\"_\")[0]\n",
    "    if re.search(device_type,test_name):\n",
    "        accuracy+=1\n",
    "    if re.search(base_device_type,test_name):\n",
    "        device_type_accuracy+=1\n",
    "    else:\n",
    "        print(\"{0} is not of type {1}\".format(test_name,base_device_type))\n",
    "    #print(\"The device_type is {0}, the base_device_type is {1} and the  test_name is {2}\".format(device_type,base_device_type,test_name))\n",
    "print(\"The accuracy is {0}\".format(100*accuracy/float(len(sorted_keys))))\n",
    "print(\"The device_type_accuracy is {0}\".format(100*device_type_accuracy/float(len(sorted_keys))))"
   ]
  },
  {
   "cell_type": "code",
   "execution_count": 33,
   "metadata": {
    "collapsed": false
   },
   "outputs": [
    {
     "name": "stdout",
     "output_type": "stream",
     "text": [
      "The total accuracy of Quadratic Discriminant is  64.7398843931\n",
      "The device_type_accuracy of Quadratic Discriminant is 100.0\n",
      "The total accuracy of Bernoulli Naive Bayes is  100.0\n",
      "The device_type_accuracy of Bernoulli Naive Bayes is 100.0\n",
      "The total accuracy of Decision Tree is  99.4219653179\n",
      "The device_type_accuracy of Decision Tree is 100.0\n",
      "The total accuracy of Random Forest is  100.0\n",
      "The device_type_accuracy of Random Forest is 100.0\n",
      "The total accuracy of Ridge is  99.4219653179\n",
      "The device_type_accuracy of Ridge is 100.0\n",
      "E:\\Share\\Scattering Parameter ML Training Set\\TypeN_20190211\\Test_Pretrain_Data\\Open_Position_4_Open_Position_4_Connect_20190208_001.s2p is not of type Load for SGD\n",
      "E:\\Share\\Scattering Parameter ML Training Set\\TypeN_20190211\\Test_Pretrain_Data\\Open_Position_5_Open_Position_5_Connect_20190208_003.s2p is not of type Load for SGD\n",
      "E:\\Share\\Scattering Parameter ML Training Set\\TypeN_20190211\\Test_Pretrain_Data\\Open_Position_7_Open_Position_7_Connect_20190208_002.s2p is not of type Load for SGD\n",
      "E:\\Share\\Scattering Parameter ML Training Set\\TypeN_20190211\\Test_Pretrain_Data\\Open_Position_7_Open_Position_7_Connect_20190208_003.s2p is not of type Load for SGD\n",
      "E:\\Share\\Scattering Parameter ML Training Set\\TypeN_20190211\\Test_Pretrain_Data\\Open_Position_8_Open_Position_8_Connect_20190208_001.s2p is not of type Load for SGD\n",
      "E:\\Share\\Scattering Parameter ML Training Set\\TypeN_20190211\\Test_Pretrain_Data\\Open_Position_8_Open_Position_8_Connect_20190208_003.s2p is not of type Load for SGD\n",
      "E:\\Share\\Scattering Parameter ML Training Set\\TypeN_20190211\\Test_Pretrain_Data\\Open_Position_9_Open_Position_9_Connect_20190208_001.s2p is not of type Load for SGD\n",
      "E:\\Share\\Scattering Parameter ML Training Set\\TypeN_20190211\\Test_Pretrain_Data\\Open_Position_9_Open_Position_9_Connect_20190208_003.s2p is not of type Load for SGD\n",
      "The total accuracy of SGD is  86.7052023121\n",
      "The device_type_accuracy of SGD is 95.3757225434\n",
      "E:\\Share\\Scattering Parameter ML Training Set\\TypeN_20190211\\Test_Pretrain_Data\\Open_Open_Connect_20190208_009.s2p is not of type Load for Passive Aggresive\n",
      "The total accuracy of Passive Aggresive is  95.3757225434\n",
      "The device_type_accuracy of Passive Aggresive is 99.4219653179\n",
      "E:\\Share\\Scattering Parameter ML Training Set\\TypeN_20190211\\Test_Pretrain_Data\\Open_Position_5_Open_Position_5_Connect_20190208_003.s2p is not of type Load for Perceptron\n",
      "E:\\Share\\Scattering Parameter ML Training Set\\TypeN_20190211\\Test_Pretrain_Data\\Open_Position_7_Open_Position_7_Connect_20190208_001.s2p is not of type Load for Perceptron\n",
      "E:\\Share\\Scattering Parameter ML Training Set\\TypeN_20190211\\Test_Pretrain_Data\\Open_Position_7_Open_Position_7_Connect_20190208_002.s2p is not of type Load for Perceptron\n",
      "E:\\Share\\Scattering Parameter ML Training Set\\TypeN_20190211\\Test_Pretrain_Data\\Open_Position_7_Open_Position_7_Connect_20190208_003.s2p is not of type Load for Perceptron\n",
      "E:\\Share\\Scattering Parameter ML Training Set\\TypeN_20190211\\Test_Pretrain_Data\\Open_Position_8_Open_Position_8_Connect_20190208_003.s2p is not of type Load for Perceptron\n",
      "E:\\Share\\Scattering Parameter ML Training Set\\TypeN_20190211\\Test_Pretrain_Data\\Open_Position_9_Open_Position_9_Connect_20190208_001.s2p is not of type Load for Perceptron\n",
      "E:\\Share\\Scattering Parameter ML Training Set\\TypeN_20190211\\Test_Pretrain_Data\\Open_Position_9_Open_Position_9_Connect_20190208_003.s2p is not of type Load for Perceptron\n",
      "The total accuracy of Perceptron is  83.8150289017\n",
      "The device_type_accuracy of Perceptron is 95.9537572254\n"
     ]
    }
   ],
   "source": [
    "classifer_list=[classifier,BNB_classifier,two_port_classifier,\n",
    "                RF_classifier,Ridge_classifier,SGD_classifier,PA_classifier,Perceptron_classifier]\n",
    "classifer_name_list=[\"Quadratic Discriminant\",\"Bernoulli Naive Bayes\",\"Decision Tree\",\n",
    "                     \"Random Forest\",\"Ridge\", \"SGD\",\"Passive Aggresive\",\"Perceptron\"]\n",
    "for classifier_index,new_classifier in enumerate(classifer_list):\n",
    "    predictions=new_classifier.predict(test_array)\n",
    "    file_name_predictions={test_files[index]:device_type_dictionary[key] for index,key in enumerate(predictions.tolist())}    \n",
    "    accuracy=0\n",
    "    device_type_accuracy=0\n",
    "    sorted_keys=sorted(file_name_predictions.keys())\n",
    "    sorted_values=[file_name_predictions[key] for key in sorted_keys]\n",
    "\n",
    "    for index,test_name in enumerate(sorted_keys):\n",
    "        device_type=sorted_values[index]\n",
    "        base_device_type=device_type.split(\"_\")[0]\n",
    "        if re.search(device_type,test_name):\n",
    "            accuracy+=1\n",
    "        if re.search(base_device_type,test_name):\n",
    "            device_type_accuracy+=1\n",
    "        else:\n",
    "            print(\"{0} is not of type {1} for {2}\".format(test_name,base_device_type,classifer_name_list[classifier_index]))\n",
    "        #print(\"The device_type is {0}, the base_device_type is {1} and the  test_name is {2}\".format(device_type,base_device_type,test_name))\n",
    "    print(\"The total accuracy of {0} is  {1}\".format(classifer_name_list[classifier_index],100*accuracy/float(len(sorted_keys))))\n",
    "    print(\"The device_type_accuracy of {0} is {1}\".format(classifer_name_list[classifier_index],100*device_type_accuracy/float(len(sorted_keys))))"
   ]
  },
  {
   "cell_type": "code",
   "execution_count": 108,
   "metadata": {
    "collapsed": false
   },
   "outputs": [
    {
     "name": "stdout",
     "output_type": "stream",
     "text": [
      "There are 2 of Short\n"
     ]
    }
   ],
   "source": [
    "device_key=13\n",
    "print(\"There are {0} of {1}\".format(predictions.tolist().count(device_key),device_type_dictionary[device_key]))"
   ]
  },
  {
   "cell_type": "code",
   "execution_count": 35,
   "metadata": {
    "collapsed": true
   },
   "outputs": [],
   "source": [
    "#Build a test folder from the training folders\n",
    "new_test_folder=r\"E:\\Share\\Scattering Parameter ML Training Set\\TypeN_20190211\\Test\"\n",
    "new_test_folders=os.listdir(new_test_folder)\n",
    "\n",
    "new_test_folders=map(lambda x:os.path.join(new_test_folder,x),new_test_folders)\n",
    "random_test_folder=r\"E:\\Share\\Scattering Parameter ML Training Set\\TypeN_20190211\\Test_Random_Data\"\n",
    "test_target_dictionary={}\n",
    "for folder in new_test_folders:\n",
    "    device_type=folder.split(\"\\\\\")[-1]\n",
    "    for s2p_name in os.listdir(folder):\n",
    "        s2p_path=os.path.join(folder,s2p_name)\n",
    "        if os.path.isfile(s2p_path):\n",
    "            s2p=S2PV1(s2p_path)\n",
    "            s2p.save(os.path.join(random_test_folder,device_type+\"_\"+s2p_name))\n",
    "            test_target_dictionary[device_type+\"_\"+s2p_name]=device_type"
   ]
  },
  {
   "cell_type": "code",
   "execution_count": 36,
   "metadata": {
    "collapsed": true
   },
   "outputs": [],
   "source": [
    "#test_folder=r\"C:\\Share\\Scattering Parameter ML Training Set\\Test Set 1\"\n",
    "random_test_files=os.listdir(random_test_folder)\n",
    "random_test_files=map(lambda x:os.path.join(random_test_folder,x),random_test_files)\n",
    "random_test_array=[]\n",
    "\n",
    "for file_name in random_test_files:\n",
    "    random_test_array=random_test_array+[AsciiDataTable_to_NumpyArray(Snp_to_AsciiDataTable(SNP(file_name)),exclude_columns=\"Frequency\")]\n",
    "\n"
   ]
  },
  {
   "cell_type": "code",
   "execution_count": 37,
   "metadata": {
    "collapsed": false
   },
   "outputs": [
    {
     "name": "stdout",
     "output_type": "stream",
     "text": [
      "The total accuracy of Quadratic Discriminant is  25.4901960784\n",
      "The device_type_accuracy of Quadratic Discriminant is 100.0\n",
      "The total accuracy of Bernoulli Naive Bayes is  96.0784313725\n",
      "The device_type_accuracy of Bernoulli Naive Bayes is 100.0\n",
      "The total accuracy of Decision Tree is  82.3529411765\n",
      "The device_type_accuracy of Decision Tree is 100.0\n",
      "The total accuracy of Random Forest is  74.5098039216\n",
      "The device_type_accuracy of Random Forest is 100.0\n",
      "E:\\Share\\Scattering Parameter ML Training Set\\TypeN_20190211\\Test_Random_Data\\Short_Position_4_Short_Position_4_Connect_20190208_003.s2p is not of type Load for Ridge\n",
      "E:\\Share\\Scattering Parameter ML Training Set\\TypeN_20190211\\Test_Random_Data\\Short_Position_5_Short_Position_5_Connect_20190208_001.s2p is not of type Load for Ridge\n",
      "E:\\Share\\Scattering Parameter ML Training Set\\TypeN_20190211\\Test_Random_Data\\Short_Position_5_Short_Position_5_Connect_20190208_003.s2p is not of type Load for Ridge\n",
      "The total accuracy of Ridge is  86.2745098039\n",
      "The device_type_accuracy of Ridge is 94.1176470588\n",
      "The total accuracy of SGD is  86.2745098039\n",
      "The device_type_accuracy of SGD is 100.0\n",
      "The total accuracy of Passive Aggresive is  86.2745098039\n",
      "The device_type_accuracy of Passive Aggresive is 100.0\n",
      "The total accuracy of Perceptron is  76.4705882353\n",
      "The device_type_accuracy of Perceptron is 100.0\n"
     ]
    }
   ],
   "source": [
    "classifer_list=[classifier,BNB_classifier,two_port_classifier,\n",
    "                RF_classifier,Ridge_classifier,SGD_classifier,PA_classifier,Perceptron_classifier]\n",
    "classifer_name_list=[\"Quadratic Discriminant\",\"Bernoulli Naive Bayes\",\"Decision Tree\",\n",
    "                     \"Random Forest\",\"Ridge\", \"SGD\",\"Passive Aggresive\",\"Perceptron\"]\n",
    "for classifier_index,new_classifier in enumerate(classifer_list):\n",
    "    predictions=new_classifier.predict(random_test_array)\n",
    "    file_name_predictions={random_test_files[index]:device_type_dictionary[key] for index,key in enumerate(predictions.tolist())}    \n",
    "    accuracy=0\n",
    "    device_type_accuracy=0\n",
    "    sorted_keys=sorted(file_name_predictions.keys())\n",
    "    sorted_values=[file_name_predictions[key] for key in sorted_keys]\n",
    "\n",
    "    for index,test_name in enumerate(sorted_keys):\n",
    "        device_type=sorted_values[index]\n",
    "        base_device_type=device_type.split(\"_\")[0]\n",
    "        if re.search(device_type,test_name):\n",
    "            accuracy+=1\n",
    "        if re.search(base_device_type,test_name):\n",
    "            device_type_accuracy+=1\n",
    "        else:\n",
    "            print(\"{0} is not of type {1} for {2}\".format(test_name,base_device_type,classifer_name_list[classifier_index]))\n",
    "        #print(\"The device_type is {0}, the base_device_type is {1} and the  test_name is {2}\".format(device_type,base_device_type,test_name))\n",
    "    print(\"The total accuracy of {0} is  {1}\".format(classifer_name_list[classifier_index],100*accuracy/float(len(sorted_keys))))\n",
    "    print(\"The device_type_accuracy of {0} is {1}\".format(classifer_name_list[classifier_index],100*device_type_accuracy/float(len(sorted_keys))))"
   ]
  },
  {
   "cell_type": "code",
   "execution_count": null,
   "metadata": {
    "collapsed": true
   },
   "outputs": [],
   "source": []
  }
 ],
 "metadata": {
  "kernelspec": {
   "display_name": "Python 2",
   "language": "python",
   "name": "python2"
  },
  "language_info": {
   "codemirror_mode": {
    "name": "ipython",
    "version": 2
   },
   "file_extension": ".py",
   "mimetype": "text/x-python",
   "name": "python",
   "nbconvert_exporter": "python",
   "pygments_lexer": "ipython2",
   "version": "2.7.12"
  }
 },
 "nbformat": 4,
 "nbformat_minor": 2
}
