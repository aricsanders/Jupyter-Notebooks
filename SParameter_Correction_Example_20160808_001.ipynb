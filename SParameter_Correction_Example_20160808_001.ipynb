{
 "cells": [
  {
   "cell_type": "markdown",
   "metadata": {},
   "source": [
    "# S-parameter Correction and Manipulation\n",
    "Examples of how to apply a 12-term and 8-term correction model to s-parameter data. In addition the transformation between S and T matrices. "
   ]
  },
  {
   "cell_type": "code",
   "execution_count": 1,
   "metadata": {
    "collapsed": false
   },
   "outputs": [
    {
     "name": "stdout",
     "output_type": "stream",
     "text": [
      "Importing Code.Utils.Names\n",
      "Importing Code.DataHandlers.NISTModels\n",
      "Importing Code.DataHandlers.GeneralModels\n",
      "Importing Code.DataHandlers.TouchstoneModels\n",
      "Importing Code.DataHandlers.XMLModels\n",
      "Importing Code.DataHandlers.RadiCALModels\n",
      "Importing Code.DataHandlers.ZipModels\n",
      "Importing Code.DataHandlers.Translations\n",
      "Importing Code.DataHandlers.StatistiCALModels\n",
      "Importing Code.DataHandlers.MUFModels\n",
      "Importing Code.Analysis.SParameter\n",
      "Importing Code.InstrumentControl.Instruments\n",
      "Importing Code.InstrumentControl.Experiments\n"
     ]
    }
   ],
   "source": [
    "from pyMeasure import *\n",
    "import os\n",
    "import numpy as np"
   ]
  },
  {
   "cell_type": "code",
   "execution_count": 2,
   "metadata": {
    "collapsed": false
   },
   "outputs": [
    {
     "data": {
      "text/plain": [
       "<matplotlib.figure.Figure at 0xdc22978>"
      ]
     },
     "execution_count": 2,
     "metadata": {},
     "output_type": "execute_result"
    }
   ],
   "source": [
    "# import an s-parameter file to play with\n",
    "STATISTICAL_TEST_DIRECTORY=r'C:\\Users\\sandersa\\PyCharm Projects\\Jupyter-Notebooks\\StatistiCAL_Files\\StatistiCAL_Tests'\n",
    "os.chdir(STATISTICAL_TEST_DIRECTORY)\n",
    "two_port=S2PV1(\"DY202.txt\")\n",
    "two_port.show()"
   ]
  },
  {
   "cell_type": "code",
   "execution_count": 3,
   "metadata": {
    "collapsed": false
   },
   "outputs": [],
   "source": [
    "# Now create a numpy matrix of sparameters to do T-matrix conversion, should be added to S2PV1 model\n",
    "matrix_form=[[row[0],np.matrix(row[1:]).reshape((2,2))] for row in two_port.sparameter_complex]"
   ]
  },
  {
   "cell_type": "code",
   "execution_count": 4,
   "metadata": {
    "collapsed": false
   },
   "outputs": [],
   "source": [
    "# Convert to T_matrix form, also should be added to S2PV1\n",
    "t_matrix=[]\n",
    "for row in matrix_form:\n",
    "    frequency=row[0]\n",
    "    m=row[1]\n",
    "    T11=-np.linalg.det(m)/m[1,0]\n",
    "    T12=m[0,0]/m[1,0]\n",
    "    T21=-m[1,1]/m[1,0]\n",
    "    T22=1/m[1,0]\n",
    "    t_matrix.append([frequency,np.matrix([[T11,T21],[T21,T22]])])"
   ]
  },
  {
   "cell_type": "code",
   "execution_count": 5,
   "metadata": {
    "collapsed": false
   },
   "outputs": [],
   "source": [
    "def S_to_T(S_list):\n",
    "    \"\"\"Converts S-parameters into a T Matrix. Input form should be in frequency, np.matrix([[S11,S12],[S21,S22]])\n",
    "    format. Returns a list in [frequency, np.matrix] format \"\"\"\n",
    "    t_matrix=[]\n",
    "    for row in S_list:\n",
    "        frequency=row[0]\n",
    "        m=row[1]\n",
    "        T11=-np.linalg.det(m)/m[1,0]\n",
    "        T12=m[0,0]/m[1,0]\n",
    "        T21=-m[1,1]/m[1,0]\n",
    "        T22=1/m[1,0]\n",
    "        t_matrix.append([frequency,np.matrix([[T11,T12],[T21,T22]])])\n",
    "    return t_matrix\n",
    "\n",
    "def T_to_S(T_list):\n",
    "    \"\"\"Converts T Matrix into S parameters. Input form should be in frequency, np.matrix([[T11,T12],[T21,T22]])\n",
    "    format. Returns a list in [frequency, np.matrix] format.\"\"\"\n",
    "    S_list=[]\n",
    "    for row in T_list:\n",
    "        frequency=row[0]\n",
    "        m=row[1]\n",
    "        S11=m[0,1]/m[1,1]\n",
    "        S12=np.linalg.det(m)/m[1,1]\n",
    "        S21=1/m[1,1]\n",
    "        S22=-m[1,0]/m[1,1]\n",
    "        S_list.append([frequency,np.matrix([[S11,S12],[S21,S22]])])\n",
    "    return S_list"
   ]
  },
  {
   "cell_type": "code",
   "execution_count": 6,
   "metadata": {
    "collapsed": false
   },
   "outputs": [
    {
     "name": "stdout",
     "output_type": "stream",
     "text": [
      "Before conversion to T the first row is [0.2, matrix([[ 0.0014908-0.0053344j, -0.0363140+0.0134182j],\n",
      "        [-0.0208168-0.0321827j,  0.0092726+0.0106483j]])]\n",
      "After the conversion to T the first row is [0.2, matrix([[ -0.03604906 +1.13950410e-02j,   0.09573550 +1.08247811e-01j],\n",
      "        [  0.36466513 -5.22466703e-02j, -14.17009810 +2.19069221e+01j]])]\n",
      "Converting back to S the first row is [0.2, matrix([[ 0.0014908-0.0053344j, -0.0363140+0.0134182j],\n",
      "        [-0.0208168-0.0321827j,  0.0092726+0.0106483j]])]\n",
      "The assertion S before is equal to S after is True \n"
     ]
    }
   ],
   "source": [
    "# now we try it on the matrix form\n",
    "t_matrix=S_to_T(matrix_form)\n",
    "s_again=T_to_S(t_matrix)\n",
    "\n",
    "# lets compare the results\n",
    "print(\"Before conversion to T the first row is {0}\".format(matrix_form[0]))\n",
    "print(\"After the conversion to T the first row is {0}\".format(t_matrix[0]))\n",
    "print(\"Converting back to S the first row is {0}\".format(s_again[0]))\n",
    "print(\"The assertion S before is equal to S after is {0} \".format(matrix_form[0][1].all()==s_again[0][1].all()))"
   ]
  },
  {
   "cell_type": "code",
   "execution_count": 7,
   "metadata": {
    "collapsed": false
   },
   "outputs": [],
   "source": [
    "def correct_sparameters(sparameters_complex,twelve_term_correction):\n",
    "    \"\"\"Applies the twelve term correction to sparameters and returns a new sparameter list.\"\"\"\n",
    "    if len(sparameters_complex) != len(twelve_term_correction):\n",
    "        raise TypeError(\"s parameter and twelve term correction must be the same length\")\n",
    "    s_parameter_out=[]\n",
    "    for index,row in enumerate(sparameters_complex):\n",
    "        frequency=row[0]\n",
    "        Sm=np.matrix(row[1:]).reshape((2,2))\n",
    "        [frequency,Edf,Esf,Erf,Exf,Elf,Etf,Edr,Esr,Err,Exr,Elr,Etr]=twelve_term_correction[index]\n",
    "#         print [frequency,Edf,Esf,Erf,Exf,Elf,Etf,Edr,Esr,Err,Exr,Elr,Etr]\n",
    "#         print Sm[0,0]\n",
    "        D =(1+(Sm[0,0]-Edf)*(Esf/Erf))*(1+(Sm[1,1]-Edr)*(Esr/Err))-(Sm[0,1]*Sm[1,0]*Elf*Elr)/(Etf*Etr)\n",
    "#         print D\n",
    "        S11 =(Sm[0,0]-Edf)/(D*Erf)*(1+(Sm[1,1]-Edr)*(Esr/Err))-(Sm[0,1]*Sm[1,0]*Elf)/(D*Etf*Etr)\n",
    "        S21 =(Sm[1,0]/(D*Etf))*(1+(Sm[1,1]-Edr)*(Esr-Elf)/Err)\n",
    "        S12 = (Sm[0,1]/(D*Etr))*(1+(Sm[0,0]-Edf)*(Esf-Elr)/Erf) \n",
    "        S22 = (Sm[1,1]-Edr)/(D*Err)*(1+(Sm[0,0]-Edf)*(Esf/Erf))-(Sm[0,1]*Sm[1,0]*Elr)/(D*Etf*Etr)\n",
    "        s_parameter_out.append([frequency,S11,S21,S12,S22])\n",
    "    return s_parameter_out"
   ]
  },
  {
   "cell_type": "code",
   "execution_count": 8,
   "metadata": {
    "collapsed": false
   },
   "outputs": [],
   "source": [
    "file_path=r'C:\\Users\\sandersa\\PyCharm Projects\\Jupyter-Notebooks\\StatistiCAL_Files\\StatistiCAL_Tests\\CalCoefficients.txt'\n",
    "in_file=open(file_path,'r')\n",
    "lines=[]\n",
    "for line in in_file:\n",
    "    lines.append(map(lambda x:float(x),line.split(\" \")))\n",
    "in_file.close()\n",
    "\n",
    "TWELVE_TERM_ERROR_COLUMN_NAMES=[\"Frequency\",\"reEdf\",\"imEdf\",\"reEsf\",\"imEsf\",\n",
    "                                \"reErf\",\"imErf\",\"reExf\",\"imExf\",\"reElf\",\"imElf\",\"reEtf\",\"imEtf\",\n",
    "                                \"reEdr\",\"imEdr\",\"reEsr\",\"imEsr\",\"reErr\",\"imErr\",\"reExr\",\"imExr\",\n",
    "                                \"reElr\",\"imElr\",\"reEtr\",\"imEtr\"]\n",
    "#\"row_pattern\":make_row_match_string(TWELVE_TERM_ERROR_COLUMN_NAMES),\n",
    "options={\"data_delimiter\":\" \",\"row_end_token\":'\\n'}\n",
    "\n",
    "cal_coefficients=lines\n",
    "complex_cal_coefficients=[]\n",
    "for row in cal_coefficients:\n",
    "    frequency=[row[0]]\n",
    "    complex_numbers=row[1:]\n",
    "    #print np.array(complex_numbers[1::2])\n",
    "    complex_array=np.array(complex_numbers[0::2])+1.j*np.array(complex_numbers[1::2])\n",
    "    complex_cal_coefficients.append(frequency+complex_array.tolist())"
   ]
  },
  {
   "cell_type": "code",
   "execution_count": 9,
   "metadata": {
    "collapsed": false
   },
   "outputs": [],
   "source": [
    "import pandas\n",
    "data_frame=pandas.read_csv(file_path)"
   ]
  },
  {
   "cell_type": "code",
   "execution_count": 10,
   "metadata": {
    "collapsed": false
   },
   "outputs": [],
   "source": [
    "corrected_s=correct_sparameters(two_port.sparameter_complex,complex_cal_coefficients)"
   ]
  },
  {
   "cell_type": "code",
   "execution_count": null,
   "metadata": {
    "collapsed": true
   },
   "outputs": [],
   "source": []
  },
  {
   "cell_type": "code",
   "execution_count": 13,
   "metadata": {
    "collapsed": false
   },
   "outputs": [],
   "source": [
    "correct_two_port=S2PV1(**{\"sparameter_complex\":corrected_s,\"option_line\":\"# GHz S RI R 50\"})\n",
    "#correct_two_port.data"
   ]
  },
  {
   "cell_type": "code",
   "execution_count": 14,
   "metadata": {
    "collapsed": false
   },
   "outputs": [],
   "source": [
    "two_port.change_data_format(\"MA\")\n",
    "correct_two_port.change_data_format(\"MA\")\n",
    "plt.plot(two_port.get_column('Frequency'),two_port.get_column('magS22'),label=\"Uncorrected\")\n",
    "plt.plot(correct_two_port.get_column('Frequency'),correct_two_port.get_column('magS22'),\n",
    "         label=\"Corrected\")\n",
    "plt.legend()\n",
    "plt.show()"
   ]
  },
  {
   "cell_type": "code",
   "execution_count": 15,
   "metadata": {
    "collapsed": false
   },
   "outputs": [],
   "source": [
    "def compare_s2p_plots(list_S2PV1,**options):\n",
    "    \"\"\"compare_s2p_plot compares a list of s2p files ploting each on the same axis\"\"\"\n",
    "    defaults={\"format\":\"MA\",\n",
    "              \"display_legend\":True,\n",
    "              \"save_plot\":False,\n",
    "              \"directory\":None,\n",
    "              \"specific_descriptor\":\"Comparision_Plot\",\n",
    "              \"general_descriptor\":\"Plot\",\n",
    "              \"file_name\":None,\n",
    "              \"labels\":None}\n",
    "    comparision_plot_options={}\n",
    "    for key,value in defaults.iteritems():\n",
    "        comparision_plot_options[key]=value\n",
    "    for key,value in options.iteritems():\n",
    "        comparision_plot_options[key]=value\n",
    "    \n",
    "    # create a set of 6 subplots    \n",
    "    fig, compare_axes = plt.subplots(nrows=4, ncols=2, figsize=(8,6),dpi=80)\n",
    "    if comparision_plot_options[\"labels\"] is None:\n",
    "        labels=[s2p.path for s2p in list_S2PV1]\n",
    "    else:\n",
    "        labels=comparision_plot_options[\"labels\"]\n",
    "    for s2p_index,s2p in enumerate(list_S2PV1):\n",
    "        # start by changing the format of all the s2p\n",
    "        s2p.change_data_format(comparision_plot_options[\"format\"])\n",
    "        column_names=s2p.column_names[1:]\n",
    "        for index, ax in enumerate(compare_axes.flat):\n",
    "            #ax.xaxis.set_visible(False)\n",
    "            if re.search('arg',column_names[index]):\n",
    "                ax.set_ylabel('Phase(Degrees)',color='green')\n",
    "            elif re.search('mag',column_names[index]):\n",
    "                ax.set_ylabel(r'|${\\Gamma} $|',color='green')\n",
    "            ax.set_title(column_names[index])\n",
    "            # initial plot of\n",
    "            x=s2p.get_column('Frequency')\n",
    "            y=np.array(s2p.get_column(column_names[index]))\n",
    "            ax.plot(x,y,label=labels[s2p_index])\n",
    "            if comparision_plot_options[\"display_legend\"]:\n",
    "                ax.legend(loc=1,fontsize='8')\n",
    "            \n",
    "    compare_axes.flat[-2].set_xlabel('Frequency(GHz)',color='k')\n",
    "    compare_axes.flat[-1].set_xlabel('Frequency(GHz)',color='k')\n",
    "    fig.subplots_adjust(hspace=0)\n",
    "    plt.tight_layout()\n",
    "    # Dealing with the save option\n",
    "    if comparision_plot_options[\"file_name\"] is None:\n",
    "        file_name=auto_name(specific_descriptor=comparision_plot_options[\"specific_descriptor\"],\n",
    "                            general_descriptor=comparision_plot_options[\"general_descriptor\"],\n",
    "                            directory=comparision_plot_options[\"directory\"]\n",
    "                            ,extension='png',padding=3)\n",
    "    else:\n",
    "        file_name=comparision_plot_options[\"file_name\"]\n",
    "    if comparision_plot_options[\"save_plot\"]:\n",
    "        #print file_name\n",
    "        plt.savefig(os.path.join(comparision_plot_options[\"directory\"],file_name))\n",
    "    else:\n",
    "        plt.show()\n",
    "        "
   ]
  },
  {
   "cell_type": "code",
   "execution_count": 16,
   "metadata": {
    "collapsed": false
   },
   "outputs": [],
   "source": [
    "compare_s2p_plots([two_port,correct_two_port])"
   ]
  },
  {
   "cell_type": "code",
   "execution_count": 17,
   "metadata": {
    "collapsed": true
   },
   "outputs": [],
   "source": [
    "compare_s2p_plots([two_port,correct_two_port],**{\"format\":\"RI\",\"labels\":[\"uncorrected\",\"corrected\"]})"
   ]
  },
  {
   "cell_type": "code",
   "execution_count": 18,
   "metadata": {
    "collapsed": true
   },
   "outputs": [],
   "source": [
    "compare_s2p_plots([two_port,correct_two_port],format=\"MA\",labels=[\"uncorrected\",\"corrected\"])"
   ]
  },
  {
   "cell_type": "code",
   "execution_count": 37,
   "metadata": {
    "collapsed": true
   },
   "outputs": [],
   "source": [
    "compare_s2p_plots([two_port,correct_two_port],**{\"format\":\"DB\"})"
   ]
  },
  {
   "cell_type": "markdown",
   "metadata": {},
   "source": [
    "<img src=\"./Calibration_Example_Files/Twelve_Term_Correction.png\" />\n",
    "VNA Calibration Coefficients\n",
    "\n",
    "StatistiCAL stores VNA calibration coefficients in the following order:\n",
    "\n",
    "frequency  Edf  Esf  Erf  Exf  Elf  Etf  Edr  Esr  Err  Exr  Elr  Etr.\n",
    "\n",
    "The value of the frequency is in gigahertz. The other values are expressed as real/imaginary pairs.\n",
    "\n",
    "\n"
   ]
  },
  {
   "cell_type": "code",
   "execution_count": 13,
   "metadata": {
    "collapsed": true
   },
   "outputs": [],
   "source": [
    "# Now we need to have a model for the error coefficients and a function that applies them to the s-parameters\n",
    "class TwelveTermErrorModel(AsciiDataTable):\n",
    "    \"\"\"TwevleTermErrorModel holds the error coefficients for a twelve term model. The VNA calibration coefficeients \n",
    "    are presumed to be stored in the following order frequency Edf Esf Erf Exf Elf Etf Edr Esr Err Exr Elr Etr, where\n",
    "    all coefficients are in Real-Imaginary format. \"\"\"\n",
    "    pass\n",
    "\n",
    "    "
   ]
  },
  {
   "cell_type": "code",
   "execution_count": 14,
   "metadata": {
    "collapsed": true
   },
   "outputs": [],
   "source": [
    "test_list=[1,2,3,4]"
   ]
  },
  {
   "cell_type": "code",
   "execution_count": 15,
   "metadata": {
    "collapsed": false
   },
   "outputs": [
    {
     "data": {
      "text/plain": [
       "4"
      ]
     },
     "execution_count": 15,
     "metadata": {},
     "output_type": "execute_result"
    }
   ],
   "source": [
    "len(test_list)"
   ]
  },
  {
   "cell_type": "code",
   "execution_count": 16,
   "metadata": {
    "collapsed": false
   },
   "outputs": [
    {
     "data": {
      "text/plain": [
       "[2, 4]"
      ]
     },
     "execution_count": 16,
     "metadata": {},
     "output_type": "execute_result"
    }
   ],
   "source": [
    "test_list[1::2]"
   ]
  },
  {
   "cell_type": "code",
   "execution_count": 17,
   "metadata": {
    "collapsed": false
   },
   "outputs": [
    {
     "data": {
      "text/plain": [
       "[1, 3]"
      ]
     },
     "execution_count": 17,
     "metadata": {},
     "output_type": "execute_result"
    }
   ],
   "source": [
    "test_list[0::2]"
   ]
  },
  {
   "cell_type": "code",
   "execution_count": 18,
   "metadata": {
    "collapsed": false
   },
   "outputs": [
    {
     "data": {
      "text/plain": [
       "array([ 1.+2.j,  3.+4.j])"
      ]
     },
     "execution_count": 18,
     "metadata": {},
     "output_type": "execute_result"
    }
   ],
   "source": [
    "np.array(test_list[0::2])+1j*np.array(test_list[1::2])"
   ]
  },
  {
   "cell_type": "code",
   "execution_count": null,
   "metadata": {
    "collapsed": true
   },
   "outputs": [],
   "source": []
  }
 ],
 "metadata": {
  "kernelspec": {
   "display_name": "Python 2",
   "language": "python",
   "name": "python2"
  },
  "language_info": {
   "codemirror_mode": {
    "name": "ipython",
    "version": 2
   },
   "file_extension": ".py",
   "mimetype": "text/x-python",
   "name": "python",
   "nbconvert_exporter": "python",
   "pygments_lexer": "ipython2",
   "version": "2.7.12"
  }
 },
 "nbformat": 4,
 "nbformat_minor": 0
}
