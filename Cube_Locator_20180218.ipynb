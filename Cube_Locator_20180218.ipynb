{
 "cells": [
  {
   "cell_type": "code",
   "execution_count": 1,
   "metadata": {
    "collapsed": false
   },
   "outputs": [
    {
     "name": "stdout",
     "output_type": "stream",
     "text": [
      "Importing pyMez, this should take roughly 30 seconds\n",
      "Importing Code.DataHandlers.GeneralModels\n",
      "It took 0.327 s to import Code.DataHandlers.GeneralModels\n",
      "Importing Code.DataHandlers.HTMLModels\n",
      "It took 0.696 s to import Code.DataHandlers.HTMLModels\n",
      "Importing Code.DataHandlers.NISTModels\n",
      "It took 13.406 s to import Code.DataHandlers.NISTModels\n",
      "Importing Code.DataHandlers.TouchstoneModels\n",
      "It took 0.017 s to import Code.DataHandlers.TouchstoneModels\n",
      "Importing Code.DataHandlers.XMLModels\n",
      "It took 0.49 s to import Code.DataHandlers.XMLModels\n",
      "Importing Code.DataHandlers.ZipModels\n",
      "It took 0.06 s to import Code.DataHandlers.ZipModels\n",
      "Importing Code.InstrumentControl.Experiments\n",
      "It took 1.968 s to import Code.InstrumentControl.Experiments\n",
      "Importing Code.InstrumentControl.Instruments\n",
      "It took 0.016 s to import Code.InstrumentControl.Instruments\n",
      "Importing Code.Utils.Names\n",
      "It took 0.013 s to import Code.Utils.Names\n",
      "It took 16.994 s to import all of the active modules\n"
     ]
    }
   ],
   "source": [
    "import PIL\n",
    "from cv2 import *\n",
    "from pyMez.Code.DataHandlers.Translations import *"
   ]
  },
  {
   "cell_type": "code",
   "execution_count": 7,
   "metadata": {
    "collapsed": true
   },
   "outputs": [],
   "source": [
    "camera_1=r\"C:\\Share\\CubeOfScience\\PlusX.jpg\"\n",
    "camera_2=r\"C:\\Share\\CubeOfScience\\MinusX.jpg\"\n",
    "camera_3=r\"C:\\Share\\CubeOfScience\\PlusY.jpg\"\n",
    "camera_4=r\"C:\\Share\\CubeOfScience\\MinusY.jpg\""
   ]
  },
  {
   "cell_type": "code",
   "execution_count": 8,
   "metadata": {
    "collapsed": false
   },
   "outputs": [],
   "source": [
    "image_list=[File_to_Image(camera) for camera in [camera_1,camera_2,camera_3,camera_4]]"
   ]
  },
  {
   "cell_type": "code",
   "execution_count": 13,
   "metadata": {
    "collapsed": false
   },
   "outputs": [],
   "source": [
    "image_list_2=[im.load() for im in image_list]"
   ]
  },
  {
   "cell_type": "code",
   "execution_count": 24,
   "metadata": {
    "collapsed": false
   },
   "outputs": [],
   "source": [
    "test=image_list[0]"
   ]
  },
  {
   "cell_type": "code",
   "execution_count": 31,
   "metadata": {
    "collapsed": false
   },
   "outputs": [
    {
     "data": {
      "text/plain": [
       "array([ 1.33603239,  0.95951417,  0.70445344])"
      ]
     },
     "execution_count": 31,
     "metadata": {},
     "output_type": "execute_result"
    }
   ],
   "source": [
    "np.array(test.getpixel((0,0)))/np.mean(test.getpixel((0,0)))"
   ]
  },
  {
   "cell_type": "code",
   "execution_count": null,
   "metadata": {
    "collapsed": true
   },
   "outputs": [],
   "source": [
    "test.putpixel()"
   ]
  },
  {
   "cell_type": "code",
   "execution_count": 70,
   "metadata": {
    "collapsed": true
   },
   "outputs": [],
   "source": [
    "def filter_by_color(image,r,g,b,delta_r,delta_g,delta_b):\n",
    "    \"\"\"Returns an image filtered by color \"\"\"\n",
    "    image=image.copy()\n",
    "    for i in range(image.size[0]):\n",
    "        for j in range(image.size[1]):\n",
    "            pixel_value=image.getpixel((i,j))\n",
    "            if abs(pixel_value[0]-r)<delta_r:\n",
    "                if abs(pixel_value[1]-g)<delta_g:\n",
    "                    if abs(pixel_value[2]-b)<delta_b:\n",
    "                        pass\n",
    "            else:\n",
    "                image.putpixel((i,j),(0,0,0))\n",
    "                \n",
    "    return image\n",
    "\n",
    "def green_filter(image,filter_constant=1):\n",
    "    \"\"\"Returns an image filtered by color \"\"\"\n",
    "    image=image.copy()\n",
    "    for i in range(image.size[0]):\n",
    "        for j in range(image.size[1]):\n",
    "            pixel_value=image.getpixel((i,j))\n",
    "            filter_array=map(lambda x: x/np.mean(pixel_value),pixel_value)\n",
    "            if filter_array[1]>filter_constant:\n",
    "                pass\n",
    "            else:\n",
    "                image.putpixel((i,j),(0,0,0))\n",
    "                \n",
    "    return image\n",
    "def green_filter_2(image,filter_constant=1):\n",
    "    \"\"\"Returns an image filtered by color \"\"\"\n",
    "    new_image=PIL.Image.new(mode=\"RGB\",size=image.size)\n",
    "    for i in range(image.size[0]):\n",
    "        for j in range(image.size[1]):\n",
    "            pixel_value=image.getpixel((i,j))\n",
    "            filter_array=map(lambda x: x/np.mean(pixel_value),pixel_value)\n",
    "            if filter_array[1]>filter_constant:\n",
    "                new_image.putpixel((i,j),pixel_value)\n",
    "            else:\n",
    "                pass\n",
    "                \n",
    "    return new_image\n",
    "               "
   ]
  },
  {
   "cell_type": "code",
   "execution_count": 47,
   "metadata": {
    "collapsed": false
   },
   "outputs": [],
   "source": [
    "filters=[1.0,1.1,1.2,1.3]\n",
    "names=[\"plus_x\",\"minus_x\",\"plus_y\",\"minus_y\"]\n",
    "directory=r\"C:\\Share\\FilterCube\"\n",
    "for name_index,image_name in enumerate(image_list):\n",
    "    for filter1 in filters:\n",
    "        file_name=os.path.join(directory,names[name_index]+str(filter1).replace(\".\",\"_\")+\".jpg\")\n",
    "        new_image=green_filter(image_name,filter1)\n",
    "        new_image.save(file_name)\n"
   ]
  },
  {
   "cell_type": "code",
   "execution_count": null,
   "metadata": {
    "collapsed": true
   },
   "outputs": [],
   "source": [
    "new_image."
   ]
  },
  {
   "cell_type": "code",
   "execution_count": 39,
   "metadata": {
    "collapsed": true
   },
   "outputs": [],
   "source": [
    "new_image.show()"
   ]
  },
  {
   "cell_type": "code",
   "execution_count": 43,
   "metadata": {
    "collapsed": false
   },
   "outputs": [],
   "source": [
    "size=image_list[0].size\n",
    "image=image_list_2[0]\n",
    "filter_constant=1.2\n",
    "for i in range(size[0]):\n",
    "    for j in range(size[1]):\n",
    "        pixel_value=image[i,j]\n",
    "        filter_array=np.array(pixel_value)/np.mean(pixel_value)\n",
    "        if filter_array[1]>filter_constant:\n",
    "            pass\n",
    "        else:\n",
    "            pixel_value=(0,0,0)"
   ]
  },
  {
   "cell_type": "code",
   "execution_count": 44,
   "metadata": {
    "collapsed": false
   },
   "outputs": [
    {
     "ename": "AttributeError",
     "evalue": "'PixelAccess' object has no attribute 'show'",
     "output_type": "error",
     "traceback": [
      "\u001b[0;31m---------------------------------------------------------------------------\u001b[0m",
      "\u001b[0;31mAttributeError\u001b[0m                            Traceback (most recent call last)",
      "\u001b[0;32m<ipython-input-44-9d685dbc656f>\u001b[0m in \u001b[0;36m<module>\u001b[0;34m()\u001b[0m\n\u001b[0;32m----> 1\u001b[0;31m \u001b[0mimage\u001b[0m\u001b[1;33m.\u001b[0m\u001b[0mshow\u001b[0m\u001b[1;33m(\u001b[0m\u001b[1;33m)\u001b[0m\u001b[1;33m\u001b[0m\u001b[0m\n\u001b[0m",
      "\u001b[0;31mAttributeError\u001b[0m: 'PixelAccess' object has no attribute 'show'"
     ]
    }
   ],
   "source": [
    "image.show()"
   ]
  },
  {
   "cell_type": "code",
   "execution_count": 50,
   "metadata": {
    "collapsed": true
   },
   "outputs": [],
   "source": [
    "size_reduction_ratio=8\n",
    "new_size=np.array(image_list[0].size)/size_reduction_ratio\n",
    "new_size=map(lambda x:int(x),new_size.tolist())\n",
    "resized_image_list=[]\n",
    "for image_name in image_list[:]:\n",
    "    resized_image_list.append(image_name.resize(new_size))"
   ]
  },
  {
   "cell_type": "code",
   "execution_count": 51,
   "metadata": {
    "collapsed": true
   },
   "outputs": [],
   "source": [
    "resized_image_list[0].show()"
   ]
  },
  {
   "cell_type": "code",
   "execution_count": 65,
   "metadata": {
    "collapsed": true
   },
   "outputs": [],
   "source": [
    "resized_filter_image_list=map(lambda x: green_filter(x,1.1),resized_image_list)"
   ]
  },
  {
   "cell_type": "code",
   "execution_count": 71,
   "metadata": {
    "collapsed": false
   },
   "outputs": [],
   "source": [
    "resized_filter_image_list_2=map(lambda x: green_filter_2(x,1.1),resized_image_list)"
   ]
  },
  {
   "cell_type": "code",
   "execution_count": 72,
   "metadata": {
    "collapsed": true
   },
   "outputs": [],
   "source": [
    "resized_filter_image_list_2[0].show()"
   ]
  },
  {
   "cell_type": "code",
   "execution_count": 66,
   "metadata": {
    "collapsed": true
   },
   "outputs": [],
   "source": [
    "rotations=[180,270,90,0]\n",
    "resized_rotated_filter_list=[]\n",
    "for image_index,image_name in enumerate(resized_filter_image_list):\n",
    "    resized_rotated_filter_list.append(image_name.rotate(rotations[image_index]))"
   ]
  },
  {
   "cell_type": "code",
   "execution_count": null,
   "metadata": {
    "collapsed": true
   },
   "outputs": [],
   "source": [
    "rotations=[180,270,90,0]\n",
    "resized_rotated_filter_list=[]\n",
    "for image_index,image_name in enumerate(resized_filter_image_list):\n",
    "    resized_rotated_filter_list.append(image_name.rotate(rotations[image_index]))"
   ]
  },
  {
   "cell_type": "code",
   "execution_count": 68,
   "metadata": {
    "collapsed": false
   },
   "outputs": [
    {
     "data": {
      "text/plain": [
       "(504, 378)"
      ]
     },
     "execution_count": 68,
     "metadata": {},
     "output_type": "execute_result"
    }
   ],
   "source": [
    "resized_rotated_filter_list[3].size"
   ]
  },
  {
   "cell_type": "code",
   "execution_count": null,
   "metadata": {
    "collapsed": true
   },
   "outputs": [],
   "source": [
    "locations=[(14,0,36),(-14,0,36),(0,12.5,36),(0,-12.5,0)]"
   ]
  },
  {
   "cell_type": "code",
   "execution_count": 108,
   "metadata": {
    "collapsed": true
   },
   "outputs": [],
   "source": [
    "directory=r\"C:\\Share\\FilterCube\\ReducedSizeFiltered\"\n",
    "names=[\"plus_x\",\"minus_x\",\"plus_y\",\"minus_y\"]\n",
    "for image_index,image_name in enumerate(resized_rotated_filter_list):\n",
    "    name=os.path.join(directory,names[image_index]+\".jpg\")\n",
    "    image_name.save(name)"
   ]
  },
  {
   "cell_type": "code",
   "execution_count": 114,
   "metadata": {
    "collapsed": true
   },
   "outputs": [],
   "source": [
    "centers=[(221,210),(262.25,211),(236,156.5),(311.75,187.25)]\n",
    "ideal_center=(504/2,378/2)\n",
    "translations=map(lambda x:np.array(x)-np.array(ideal_center),centers)"
   ]
  },
  {
   "cell_type": "code",
   "execution_count": 115,
   "metadata": {
    "collapsed": false
   },
   "outputs": [],
   "source": [
    "translations=map(lambda x: x.tolist(),translations)"
   ]
  },
  {
   "cell_type": "code",
   "execution_count": 111,
   "metadata": {
    "collapsed": false
   },
   "outputs": [
    {
     "data": {
      "text/plain": [
       "[[-186, 21], [10.25, 22.0], [-16.0, -32.5], [59.75, -1.75]]"
      ]
     },
     "execution_count": 111,
     "metadata": {},
     "output_type": "execute_result"
    }
   ],
   "source": [
    "translations"
   ]
  },
  {
   "cell_type": "code",
   "execution_count": 116,
   "metadata": {
    "collapsed": false
   },
   "outputs": [],
   "source": [
    "translated_image_list=[]\n",
    "for image_index,image_name in enumerate(resized_rotated_filter_list[:]):\n",
    "    if image_index in [0,3]:\n",
    "        move=1\n",
    "    else:\n",
    "        move=1\n",
    "    a = 1\n",
    "    b = 0\n",
    "    c = move*translations[image_index][0] #left/right (i.e. 5/-5)\n",
    "    d = 0\n",
    "    e = 1\n",
    "    f = move*translations[image_index][1] #up/down (i.e. 5/-5)\n",
    "    translated_image_list.append(image_name.transform(image_name.size,Image.AFFINE,(a, b, c, d, e, f)))"
   ]
  },
  {
   "cell_type": "code",
   "execution_count": 117,
   "metadata": {
    "collapsed": true
   },
   "outputs": [],
   "source": [
    "directory=r\"C:\\Share\\FilterCube\\Translated\"\n",
    "names=[\"plus_x\",\"minus_x\",\"plus_y\",\"minus_y\"]\n",
    "for image_index,image_name in enumerate(translated_image_list):\n",
    "    name=os.path.join(directory,names[image_index]+\".jpg\")\n",
    "    image_name.save(name)"
   ]
  },
  {
   "cell_type": "code",
   "execution_count": null,
   "metadata": {
    "collapsed": true
   },
   "outputs": [],
   "source": [
    "img = Image.new('RGB', (100, 100), 'red')\n",
    "a = 1\n",
    "b = 0\n",
    "c = 0 #left/right (i.e. 5/-5)\n",
    "d = 0\n",
    "e = 1\n",
    "f = 0 #up/down (i.e. 5/-5)\n",
    "img = img.transform(img.size, Image.AFFINE, (a, b, c, d, e, f))\n",
    "img.save('image.png')"
   ]
  },
  {
   "cell_type": "code",
   "execution_count": 122,
   "metadata": {
    "collapsed": true
   },
   "outputs": [],
   "source": [
    "def distance_from_size(size):\n",
    "    \"Returns the distance in inches from a phone camera given the size of a standard cube in pixels (cube is 1.75 inches)\"\n",
    "    return (np.exp(-1/1.075*np.log(size/7077.6)))"
   ]
  },
  {
   "cell_type": "code",
   "execution_count": 124,
   "metadata": {
    "collapsed": false
   },
   "outputs": [
    {
     "data": {
      "text/plain": [
       "33.376468373589759"
      ]
     },
     "execution_count": 124,
     "metadata": {},
     "output_type": "execute_result"
    }
   ],
   "source": [
    "distance_from_size(163)"
   ]
  },
  {
   "cell_type": "code",
   "execution_count": 2,
   "metadata": {
    "collapsed": true
   },
   "outputs": [],
   "source": [
    "position1_directory=r\"C:\\Share\\CubeOfScience_2_20180224\\Position1\"\n",
    "position2_directory=r\"C:\\Share\\CubeOfScience_2_20180224\\Position2\"\n",
    "position3_directory=r\"C:\\Share\\CubeOfScience_2_20180224\\Position3\""
   ]
  },
  {
   "cell_type": "code",
   "execution_count": 3,
   "metadata": {
    "collapsed": true
   },
   "outputs": [],
   "source": [
    "def distance_from_size_cube2(size):\n",
    "    \"Returns the distance in inches from a phone camera given the size of a standard cube in pixels (cube is 2 inches)\"\n",
    "    return (np.exp(-1/.995*np.log(size/6437.4)))\n"
   ]
  },
  {
   "cell_type": "code",
   "execution_count": 17,
   "metadata": {
    "collapsed": false
   },
   "outputs": [],
   "source": [
    "image_name_list=os.listdir(position2_directory)\n",
    "image_list=[File_to_Image(os.path.join(position2_directory,name)) for name in image_name_list]"
   ]
  },
  {
   "cell_type": "code",
   "execution_count": 23,
   "metadata": {
    "collapsed": true
   },
   "outputs": [],
   "source": [
    "rotations=[180,270,0,90]\n",
    "rotated_list=[]\n",
    "for image_index,image_name in enumerate(image_list[:]):\n",
    "    rotated_list.append(image_name.rotate(rotations[image_index]))"
   ]
  },
  {
   "cell_type": "code",
   "execution_count": 24,
   "metadata": {
    "collapsed": false
   },
   "outputs": [],
   "source": [
    "for image in rotated_list[:]:\n",
    "    image.show()"
   ]
  },
  {
   "cell_type": "code",
   "execution_count": 26,
   "metadata": {
    "collapsed": false
   },
   "outputs": [],
   "source": [
    "for image_index,image in enumerate(rotated_list[:]):\n",
    "    image.save(os.path.join(r\"C:\\Share\\CubeOfScience_2_20180224\\Positon2_Rotated\",image_name_list[image_index]))"
   ]
  },
  {
   "cell_type": "code",
   "execution_count": 28,
   "metadata": {
    "collapsed": false
   },
   "outputs": [
    {
     "name": "stdout",
     "output_type": "stream",
     "text": [
      "[[[71 73 98]]]\n",
      "[[[ 84 135 235]]]\n"
     ]
    }
   ],
   "source": [
    "#Blue Tape\n",
    "color = np.uint8([[[80,98,70 ]]])\n",
    "hsv_color = cv2.cvtColor(color,cv2.COLOR_BGR2HSV)\n",
    "print(hsv_color)\n",
    "#Green Cube\n",
    "color = np.uint8([[[211,235,111 ]]])\n",
    "hsv_color = cv2.cvtColor(color,cv2.COLOR_BGR2HSV)\n",
    "print(hsv_color)"
   ]
  },
  {
   "cell_type": "code",
   "execution_count": 30,
   "metadata": {
    "collapsed": false
   },
   "outputs": [
    {
     "name": "stdout",
     "output_type": "stream",
     "text": [
      "[ 0.96774194  1.18548387  0.84677419]\n",
      "[ 1.13644524  1.26570916  0.5978456 ]\n"
     ]
    }
   ],
   "source": [
    "#Blue_tape\n",
    "print np.array([80,98,70 ])/np.mean([80,98,70 ])\n",
    "#green_cube\n",
    "print np.array([211,235,111 ])/np.mean([211,235,111 ])"
   ]
  },
  {
   "cell_type": "code",
   "execution_count": null,
   "metadata": {
    "collapsed": true
   },
   "outputs": [],
   "source": [
    "import cv2\n",
    "import numpy as np\n",
    "cap = cv2.VideoCapture(0)\n",
    "while(1):\n",
    "    # Take each frame\n",
    "    _, frame = cap.read()\n",
    "    # Convert BGR to HSV\n",
    "    hsv = cv2.cvtColor(frame, cv2.COLOR_BGR2HSV)\n",
    "    # define range of blue color in HSV\n",
    "    lower_blue = np.array([110,50,50])\n",
    "    upper_blue = np.array([130,255,255])\n",
    "    # Threshold the HSV image to get only blue colors\n",
    "    mask = cv2.inRange(hsv, lower_blue, upper_blue)\n",
    "    # Bitwise-AND mask and original image\n",
    "    res = cv2.bitwise_and(frame,frame, mask= mask)\n",
    "    cv2.imshow('frame',frame)\n",
    "    cv2.imshow('mask',mask)\n",
    "    cv2.imshow('res',res)\n",
    "    k = cv2.waitKey(5) & 0xFF\n",
    "    if k == 27:\n",
    "        break\n",
    "cv2.destroyAllWindows()"
   ]
  }
 ],
 "metadata": {
  "kernelspec": {
   "display_name": "Python 2",
   "language": "python",
   "name": "python2"
  },
  "language_info": {
   "codemirror_mode": {
    "name": "ipython",
    "version": 2
   },
   "file_extension": ".py",
   "mimetype": "text/x-python",
   "name": "python",
   "nbconvert_exporter": "python",
   "pygments_lexer": "ipython2",
   "version": "2.7.13"
  }
 },
 "nbformat": 4,
 "nbformat_minor": 2
}
