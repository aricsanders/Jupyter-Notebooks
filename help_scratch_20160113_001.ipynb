{
 "cells": [
  {
   "cell_type": "markdown",
   "metadata": {},
   "source": [
    "$\\left( \\begin{array}{ccc}\n",
    "a & b & c \\\\\n",
    "d & e & f \\\\\n",
    "g & h & i \\end{array} \\right) $"
   ]
  },
  {
   "cell_type": "code",
   "execution_count": 1,
   "metadata": {
    "collapsed": false
   },
   "outputs": [
    {
     "name": "stdout",
     "output_type": "stream",
     "text": [
      "Importing Code.Utils.Names\n",
      "Importing Code.DataHandlers.NISTModels\n",
      "Importing Code.DataHandlers.GeneralModels\n",
      "Importing Code.DataHandlers.TouchstoneModels\n",
      "Importing Code.DataHandlers.XMLModels\n",
      "Importing Code.DataHandlers.RadiCALModels\n",
      "Importing Code.DataHandlers.ZipModels\n",
      "Importing Code.DataHandlers.Translations\n",
      "Importing Code.DataHandlers.StatistiCALModels\n",
      "Importing Code.DataHandlers.MUFModels\n",
      "Importing Code.Analysis.SParameter\n",
      "Importing Code.InstrumentControl.Instruments\n",
      "Importing Code.InstrumentControl.Experiments\n",
      "The module lxml.html.cssselect was not found or had an error. If it is not installedInstall it with pip install cssselect\n"
     ]
    }
   ],
   "source": [
    "from pyMeasure.Code.DataHandlers.HTMLModels import *"
   ]
  },
  {
   "cell_type": "code",
   "execution_count": 2,
   "metadata": {
    "collapsed": true
   },
   "outputs": [],
   "source": [
    "html=HTMLBase(r\"C:\\Users\\sandersa\\Desktop\\PNAGrabber_MUF_Example\\PNAGrabber_MUF_Example.html\")"
   ]
  },
  {
   "cell_type": "code",
   "execution_count": 7,
   "metadata": {
    "collapsed": false
   },
   "outputs": [
    {
     "name": "stdout",
     "output_type": "stream",
     "text": [
      "Loading pages (1/6)\r\n",
      "[>                                                           ] 0%\r",
      "[======>                                                     ] 10%\r",
      "[========================>                                   ] 40%\r",
      "Warning: Failed to load file:///C:/Users/sandersa/AppData/Local/Temp/1/custom.css (ignore)\r\n",
      "[=========================>                                  ] 42%\r",
      "[===========================>                                ] 45%\r",
      "[============================>                               ] 48%\r",
      "[============================>                               ] 48%\r",
      "[==========================================>                 ] 70%\r",
      "[==============================================>             ] 78%\r",
      "[==================================================>         ] 84%\r",
      "[===================================================>        ] 86%\r",
      "[====================================================>       ] 88%\r",
      "[======================================================>     ] 90%\r",
      "[======================================================>     ] 90%\r",
      "[============================================================] 100%\r",
      "Counting pages (2/6)                                               \r\n",
      "[============================================================] Object 1 of 1\r",
      "Resolving links (4/6)                                                       \r\n",
      "[============================================================] Object 1 of 1\r",
      "Loading headers and footers (5/6)                                           \r\n",
      "Printing pages (6/6)\r\n",
      "[>                                                           ] Preparing\r",
      "[======>                                                     ] Page 1 of 10\r",
      "[============>                                               ] Page 2 of 10\r",
      "[==================>                                         ] Page 3 of 10\r",
      "[========================>                                   ] Page 4 of 10\r",
      "[==============================>                             ] Page 5 of 10\r",
      "[====================================>                       ] Page 6 of 10\r",
      "[==========================================>                 ] Page 7 of 10\r",
      "[================================================>           ] Page 8 of 10\r",
      "[======================================================>     ] Page 9 of 10\r",
      "[============================================================] Page 10 of 10\r",
      "Done                                                                        \r\n"
     ]
    },
    {
     "data": {
      "text/plain": [
       "'C:\\\\Users\\\\sandersa\\\\Desktop\\\\PNAGrabber_MUF_Example\\\\PNAGrabber_MUF_Example.pdf'"
      ]
     },
     "execution_count": 7,
     "metadata": {},
     "output_type": "execute_result"
    }
   ],
   "source": [
    "html.to_pdf(r\"C:\\Users\\sandersa\\Desktop\\PNAGrabber_MUF_Example\\PNAGrabber_MUF_Example.pdf\")"
   ]
  },
  {
   "cell_type": "code",
   "execution_count": 5,
   "metadata": {
    "collapsed": false
   },
   "outputs": [],
   "source": [
    "import os\n",
    "os.chdir(r\"C:\\Users\\sandersa\\Desktop\\PNAGrabber_MUF_Example\")"
   ]
  },
  {
   "cell_type": "code",
   "execution_count": 8,
   "metadata": {
    "collapsed": true
   },
   "outputs": [],
   "source": [
    "from pyMeasure.Code.Utils.HelpUtils import *"
   ]
  },
  {
   "cell_type": "code",
   "execution_count": 14,
   "metadata": {
    "collapsed": true
   },
   "outputs": [],
   "source": [
    "os.chdir(r'C:\\Users\\sandersa\\PyCharm Projects\\Jupyter-Notebooks')\n",
    "create_examples_page(r'Current_Acquistion_Analysis_Routine_20160113_001.ipynb')"
   ]
  },
  {
   "cell_type": "code",
   "execution_count": 16,
   "metadata": {
    "collapsed": false
   },
   "outputs": [],
   "source": [
    "html=HTMLBase('Current_Acquistion_Analysis_Routine_20160113_001.html')"
   ]
  },
  {
   "cell_type": "code",
   "execution_count": 11,
   "metadata": {
    "collapsed": false
   },
   "outputs": [
    {
     "data": {
      "text/plain": [
       "'C:\\\\Users\\\\sandersa\\\\Desktop\\\\PNAGrabber_MUF_Example'"
      ]
     },
     "execution_count": 11,
     "metadata": {},
     "output_type": "execute_result"
    }
   ],
   "source": [
    "os.getcwd()"
   ]
  },
  {
   "cell_type": "code",
   "execution_count": 17,
   "metadata": {
    "collapsed": false
   },
   "outputs": [
    {
     "name": "stdout",
     "output_type": "stream",
     "text": [
      "Loading pages (1/6)\r\n",
      "[>                                                           ] 0%\r",
      "[======>                                                     ] 10%\r",
      "[========================>                                   ] 40%\r",
      "Warning: Failed to load file:///C:/Users/sandersa/AppData/Local/Temp/1/custom.css (ignore)\r\n",
      "[=========================>                                  ] 42%\r",
      "[===========================>                                ] 45%\r",
      "[============================>                               ] 48%\r",
      "[========================================>                   ] 67%\r",
      "[=============================================>              ] 75%\r",
      "[================================================>           ] 80%\r",
      "[==================================================>         ] 84%\r",
      "[============================================================] 100%\r",
      "Counting pages (2/6)                                               \r\n",
      "[============================================================] Object 1 of 1\r",
      "Resolving links (4/6)                                                       \r\n",
      "[============================================================] Object 1 of 1\r",
      "Loading headers and footers (5/6)                                           \r\n",
      "Printing pages (6/6)\r\n",
      "[>                                                           ] Preparing\r",
      "[===============>                                            ] Page 1 of 4\r",
      "[==============================>                             ] Page 2 of 4\r",
      "[=============================================>              ] Page 3 of 4\r",
      "[============================================================] Page 4 of 4\r",
      "Done                                                                      \r\n"
     ]
    },
    {
     "data": {
      "text/plain": [
       "'Current_Acquistion_Analysis_Routine_20160113_001.pdf'"
      ]
     },
     "execution_count": 17,
     "metadata": {},
     "output_type": "execute_result"
    }
   ],
   "source": [
    "html.to_pdf()"
   ]
  },
  {
   "cell_type": "code",
   "execution_count": 18,
   "metadata": {
    "collapsed": true
   },
   "outputs": [],
   "source": [
    "import pdfkit\n"
   ]
  },
  {
   "cell_type": "code",
   "execution_count": 20,
   "metadata": {
    "collapsed": false
   },
   "outputs": [
    {
     "ename": "TypeError",
     "evalue": "from_file() got an unexpected keyword argument 'javascriptdelay'",
     "output_type": "error",
     "traceback": [
      "\u001b[1;31m---------------------------------------------------------------------------\u001b[0m",
      "\u001b[1;31mTypeError\u001b[0m                                 Traceback (most recent call last)",
      "\u001b[1;32m<ipython-input-20-dcd879d98660>\u001b[0m in \u001b[0;36m<module>\u001b[1;34m()\u001b[0m\n\u001b[1;32m----> 1\u001b[1;33m \u001b[0mpdfkit\u001b[0m\u001b[1;33m.\u001b[0m\u001b[0mfrom_file\u001b[0m\u001b[1;33m(\u001b[0m\u001b[1;34m'Current_Acquistion_Analysis_Routine_20160113_001.html'\u001b[0m\u001b[1;33m,\u001b[0m\u001b[1;34m'test.pdf'\u001b[0m\u001b[1;33m,\u001b[0m\u001b[0mjavascriptdelay\u001b[0m\u001b[1;33m=\u001b[0m\u001b[1;36m1000\u001b[0m\u001b[1;33m)\u001b[0m\u001b[1;33m\u001b[0m\u001b[0m\n\u001b[0m",
      "\u001b[1;31mTypeError\u001b[0m: from_file() got an unexpected keyword argument 'javascriptdelay'"
     ]
    }
   ],
   "source": [
    "pdfkit.from_file('Current_Acquistion_Analysis_Routine_20160113_001.html','test.pdf',javascriptdelay=1000)"
   ]
  },
  {
   "cell_type": "code",
   "execution_count": null,
   "metadata": {
    "collapsed": true
   },
   "outputs": [],
   "source": []
  }
 ],
 "metadata": {
  "kernelspec": {
   "display_name": "Python 2",
   "language": "python",
   "name": "python2"
  },
  "language_info": {
   "codemirror_mode": {
    "name": "ipython",
    "version": 2
   },
   "file_extension": ".py",
   "mimetype": "text/x-python",
   "name": "python",
   "nbconvert_exporter": "python",
   "pygments_lexer": "ipython2",
   "version": "2.7.13"
  }
 },
 "nbformat": 4,
 "nbformat_minor": 1
}
