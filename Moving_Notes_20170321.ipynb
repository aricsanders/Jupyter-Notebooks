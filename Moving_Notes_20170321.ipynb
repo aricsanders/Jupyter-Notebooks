{
 "cells": [
  {
   "cell_type": "markdown",
   "metadata": {},
   "source": [
    "# Moving Notes:\n",
    "1. Catalog all equipment/calkits and systems\n",
    "2. 4635 more free access\n",
    "3. High value stuff in 4639?\n",
    "4. Check connectors by specifications in IEEE287 Standard\n",
    "5. Gray cabinets are storage for older equipment\n",
    "6. 2 excess piles tag/no tag \n"
   ]
  }
 ],
 "metadata": {
  "kernelspec": {
   "display_name": "Python 2",
   "language": "python",
   "name": "python2"
  },
  "language_info": {
   "codemirror_mode": {
    "name": "ipython",
    "version": 2
   },
   "file_extension": ".py",
   "mimetype": "text/x-python",
   "name": "python",
   "nbconvert_exporter": "python",
   "pygments_lexer": "ipython2",
   "version": "2.7.13"
  }
 },
 "nbformat": 4,
 "nbformat_minor": 2
}
