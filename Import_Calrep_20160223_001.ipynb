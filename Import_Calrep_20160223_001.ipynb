{
 "cells": [
  {
   "cell_type": "markdown",
   "metadata": {},
   "source": [
    "# Import of calrep files\n",
    "Written by Aric Sanders, 02/2016"
   ]
  },
  {
   "cell_type": "code",
   "execution_count": 1,
   "metadata": {
    "collapsed": true
   },
   "outputs": [],
   "source": [
    "file_path=r'C:\\Users\\sandersa\\PyCharm Projects\\pyMeasureNew\\pyMeasure\\Code\\DataHandlers\\Tests\\CTNP13_sm_112907.txt'\n",
    "# Todo: make this a relative path\n",
    "in_file=open(file_path,'r')\n",
    "lines=[]\n",
    "for line in in_file:\n",
    "    lines.append(line)"
   ]
  },
  {
   "cell_type": "code",
   "execution_count": 2,
   "metadata": {
    "collapsed": false
   },
   "outputs": [
    {
     "data": {
      "text/plain": [
       "'CALREP OF FILES   CTNP13.M8_112707  CTNP13.M9_112707                  \\n'"
      ]
     },
     "execution_count": 2,
     "metadata": {},
     "output_type": "execute_result"
    }
   ],
   "source": [
    "lines[0]"
   ]
  },
  {
   "cell_type": "code",
   "execution_count": 3,
   "metadata": {
    "collapsed": false
   },
   "outputs": [
    {
     "name": "stdout",
     "output_type": "stream",
     "text": [
      "21\n"
     ]
    }
   ],
   "source": [
    "import re\n",
    "block_end=re.compile('/')\n",
    "for index,line in enumerate(lines):\n",
    "    if re.match(block_end,line):\n",
    "        last_block_comment_line=index\n",
    "print last_block_comment_line"
   ]
  },
  {
   "cell_type": "code",
   "execution_count": 7,
   "metadata": {
    "collapsed": true
   },
   "outputs": [],
   "source": [
    "columns_line=last_block_comment_line+2"
   ]
  },
  {
   "cell_type": "code",
   "execution_count": 8,
   "metadata": {
    "collapsed": false
   },
   "outputs": [
    {
     "data": {
      "text/plain": [
       "'Fghz Eff Cf udc us ua upm uad Uc Gamma Arg Pdut Mgtb Mgsn Mgsc Mgt Agtb Agsn Agsc Agt\\n'"
      ]
     },
     "execution_count": 8,
     "metadata": {},
     "output_type": "execute_result"
    }
   ],
   "source": [
    "lines[columns_line]"
   ]
  },
  {
   "cell_type": "code",
   "execution_count": 9,
   "metadata": {
    "collapsed": false
   },
   "outputs": [
    {
     "data": {
      "text/plain": [
       "'/\\n'"
      ]
     },
     "execution_count": 9,
     "metadata": {},
     "output_type": "execute_result"
    }
   ],
   "source": [
    "lines[last_block_comment_line]"
   ]
  },
  {
   "cell_type": "code",
   "execution_count": 10,
   "metadata": {
    "collapsed": true
   },
   "outputs": [],
   "source": [
    "column_names=lines[columns_line].split(' ')"
   ]
  },
  {
   "cell_type": "code",
   "execution_count": 11,
   "metadata": {
    "collapsed": false
   },
   "outputs": [
    {
     "name": "stdout",
     "output_type": "stream",
     "text": [
      "['Fghz', 'Eff', 'Cf', 'udc', 'us', 'ua', 'upm', 'uad', 'Uc', 'Gamma', 'Arg', 'Pdut', 'Mgtb', 'Mgsn', 'Mgsc', 'Mgt', 'Agtb', 'Agsn', 'Agsc', 'Agt\\n']\n"
     ]
    }
   ],
   "source": [
    "print column_names"
   ]
  },
  {
   "cell_type": "code",
   "execution_count": 13,
   "metadata": {
    "collapsed": false
   },
   "outputs": [
    {
     "data": {
      "text/plain": [
       "['CALREP OF FILES   CTNP13.M8_112707  CTNP13.M9_112707                  \\n',\n",
       " 'SUMMARY FILE c:/hpbasic/customer/N/CTNP13.sm_112907\\n',\n",
       " ' \\n',\n",
       " 'Results for 3 connects, using calibration file C071126.M1\\n',\n",
       " 'Device = CTNP13 w/CN49 kps\\n',\n",
       " 'Device ID = CTNP13\\n',\n",
       " 'Measurements made 27 Nov 2007   14:37:31\\n',\n",
       " 'Connector Type - N  Operator = afm\\n',\n",
       " 'Coupler Used = 23931_P3:  Type N, 0.05-18 GHz, port 3\\n',\n",
       " 'DUT Detector = Thermistor   With 200 Ohms Resistor\\n',\n",
       " 'Monitor Detector = Thermistor   With 200 Ohms Resistor\\n',\n",
       " '/\\n',\n",
       " ' \\n',\n",
       " 'Results for 3 connects, using calibration file C071127.M1\\n',\n",
       " 'Device = CTNP13 w/CN47 Kps\\n',\n",
       " 'Device ID = CTNP13\\n',\n",
       " 'Measurements made 27 Nov 2007   16:11:41\\n',\n",
       " 'Connector Type - N  Operator = afm\\n',\n",
       " 'Coupler Used = 23931_P2:  Type N, 0.05-18 GHz, port 2\\n',\n",
       " 'DUT Detector = Thermistor   With 200 Ohms Resistor\\n',\n",
       " 'Monitor Detector = Thermistor   With 200 Ohms Resistor\\n',\n",
       " '/\\n']"
      ]
     },
     "execution_count": 13,
     "metadata": {},
     "output_type": "execute_result"
    }
   ],
   "source": [
    "lines[0:last_block_comment_line+1]"
   ]
  },
  {
   "cell_type": "code",
   "execution_count": 15,
   "metadata": {
    "collapsed": true
   },
   "outputs": [],
   "source": [
    "def calrep_to_benchmark(file_path):\n",
    "    \"\"\"Creates a benchmark list given a calrep file\"\"\"\n",
    "    in_file=open(file_path,'r')\n",
    "    lines=[]\n",
    "    for line in in_file:\n",
    "        lines.append(line)\n",
    "    block_end=re.compile('/')\n",
    "    for index,line in enumerate(lines):\n",
    "        if re.match(block_end,line):\n",
    "            last_block_comment_line=index \n",
    "    header=lines[0:last_block_comment_line+1]\n",
    "    columns_line=last_block_comment_line+2\n",
    "    column_names=lines[columns_line].split(' ')\n",
    "    data=lines[columns_line+1:-1]\n",
    "    return [header,column_names,data]\n"
   ]
  },
  {
   "cell_type": "code",
   "execution_count": 16,
   "metadata": {
    "collapsed": true
   },
   "outputs": [],
   "source": [
    "out=calrep_to_benchmark(file_path)"
   ]
  },
  {
   "cell_type": "code",
   "execution_count": 18,
   "metadata": {
    "collapsed": false
   },
   "outputs": [
    {
     "data": {
      "text/plain": [
       "['CALREP OF FILES   CTNP13.M8_112707  CTNP13.M9_112707                  \\n',\n",
       " 'SUMMARY FILE c:/hpbasic/customer/N/CTNP13.sm_112907\\n',\n",
       " ' \\n',\n",
       " 'Results for 3 connects, using calibration file C071126.M1\\n',\n",
       " 'Device = CTNP13 w/CN49 kps\\n',\n",
       " 'Device ID = CTNP13\\n',\n",
       " 'Measurements made 27 Nov 2007   14:37:31\\n',\n",
       " 'Connector Type - N  Operator = afm\\n',\n",
       " 'Coupler Used = 23931_P3:  Type N, 0.05-18 GHz, port 3\\n',\n",
       " 'DUT Detector = Thermistor   With 200 Ohms Resistor\\n',\n",
       " 'Monitor Detector = Thermistor   With 200 Ohms Resistor\\n',\n",
       " '/\\n',\n",
       " ' \\n',\n",
       " 'Results for 3 connects, using calibration file C071127.M1\\n',\n",
       " 'Device = CTNP13 w/CN47 Kps\\n',\n",
       " 'Device ID = CTNP13\\n',\n",
       " 'Measurements made 27 Nov 2007   16:11:41\\n',\n",
       " 'Connector Type - N  Operator = afm\\n',\n",
       " 'Coupler Used = 23931_P2:  Type N, 0.05-18 GHz, port 2\\n',\n",
       " 'DUT Detector = Thermistor   With 200 Ohms Resistor\\n',\n",
       " 'Monitor Detector = Thermistor   With 200 Ohms Resistor\\n',\n",
       " '/\\n']"
      ]
     },
     "execution_count": 18,
     "metadata": {},
     "output_type": "execute_result"
    }
   ],
   "source": [
    "out[0]"
   ]
  },
  {
   "cell_type": "code",
   "execution_count": null,
   "metadata": {
    "collapsed": true
   },
   "outputs": [],
   "source": []
  }
 ],
 "metadata": {
  "kernelspec": {
   "display_name": "Python 2",
   "language": "python",
   "name": "python2"
  },
  "language_info": {
   "codemirror_mode": {
    "name": "ipython",
    "version": 2
   },
   "file_extension": ".py",
   "mimetype": "text/x-python",
   "name": "python",
   "nbconvert_exporter": "python",
   "pygments_lexer": "ipython2",
   "version": "2.7.11"
  }
 },
 "nbformat": 4,
 "nbformat_minor": 0
}
