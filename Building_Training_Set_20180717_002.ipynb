{
 "cells": [
  {
   "cell_type": "markdown",
   "metadata": {},
   "source": [
    "# Creating A Training Set From A1_D1 data\n"
   ]
  },
  {
   "cell_type": "markdown",
   "metadata": {},
   "source": [
    "## Import pyMez and pyMez.Code.Analysis.SParameter  "
   ]
  },
  {
   "cell_type": "code",
   "execution_count": 1,
   "metadata": {
    "collapsed": false,
    "scrolled": true
   },
   "outputs": [
    {
     "name": "stdout",
     "output_type": "stream",
     "text": [
      "Importing pyMez, this should take roughly 30 seconds\n",
      "Importing Code.DataHandlers.GeneralModels\n",
      "It took 4.162 s to import Code.DataHandlers.GeneralModels\n",
      "Importing Code.DataHandlers.HTMLModels\n",
      "It took 0.607 s to import Code.DataHandlers.HTMLModels\n",
      "Importing Code.DataHandlers.NISTModels\n",
      "It took 11.567 s to import Code.DataHandlers.NISTModels\n",
      "Importing Code.DataHandlers.TouchstoneModels\n",
      "It took 0.013 s to import Code.DataHandlers.TouchstoneModels\n",
      "Importing Code.DataHandlers.XMLModels\n",
      "It took 0.42 s to import Code.DataHandlers.XMLModels\n",
      "Importing Code.DataHandlers.ZipModels\n",
      "It took 0.037 s to import Code.DataHandlers.ZipModels\n",
      "Importing Code.InstrumentControl.Experiments\n",
      "It took 2.932 s to import Code.InstrumentControl.Experiments\n",
      "Importing Code.InstrumentControl.Instruments\n",
      "It took 0.06 s to import Code.InstrumentControl.Instruments\n",
      "Importing Code.Utils.Names\n",
      "It took 0.011 s to import Code.Utils.Names\n",
      "It took 19.809 s to import all of the active modules\n"
     ]
    },
    {
     "ename": "ImportError",
     "evalue": "No module named Machine_Learning",
     "output_type": "error",
     "traceback": [
      "\u001b[0;31m---------------------------------------------------------------------------\u001b[0m",
      "\u001b[0;31mImportError\u001b[0m                               Traceback (most recent call last)",
      "\u001b[0;32m<ipython-input-1-7c3df0550363>\u001b[0m in \u001b[0;36m<module>\u001b[0;34m()\u001b[0m\n\u001b[1;32m      6\u001b[0m \u001b[1;32mimport\u001b[0m \u001b[0msys\u001b[0m\u001b[1;33m\u001b[0m\u001b[0m\n\u001b[1;32m      7\u001b[0m \u001b[0msys\u001b[0m\u001b[1;33m.\u001b[0m\u001b[0mpath\u001b[0m\u001b[1;33m.\u001b[0m\u001b[0minsert\u001b[0m\u001b[1;33m(\u001b[0m\u001b[1;36m0\u001b[0m\u001b[1;33m,\u001b[0m \u001b[1;34m'..'\u001b[0m\u001b[1;33m)\u001b[0m\u001b[1;33m\u001b[0m\u001b[0m\n\u001b[0;32m----> 8\u001b[0;31m \u001b[1;32mfrom\u001b[0m \u001b[0mMachine_Learning\u001b[0m \u001b[1;32mimport\u001b[0m \u001b[1;33m*\u001b[0m\u001b[1;33m\u001b[0m\u001b[0m\n\u001b[0m\u001b[1;32m      9\u001b[0m \u001b[1;32mfrom\u001b[0m \u001b[0msklearn\u001b[0m\u001b[1;33m.\u001b[0m\u001b[0mdiscriminant_analysis\u001b[0m \u001b[1;32mimport\u001b[0m \u001b[0mQuadraticDiscriminantAnalysis\u001b[0m\u001b[1;33m\u001b[0m\u001b[0m\n",
      "\u001b[0;31mImportError\u001b[0m: No module named Machine_Learning"
     ]
    }
   ],
   "source": [
    "import os\n",
    "from pyMez import *\n",
    "from pyMez.Code.Analysis.SParameter import *\n",
    "from pyMez.Code.Analysis.SParameter import *\n",
    "from pyMez.Code.DataHandlers.NISTModels import *\n",
    "import sys\n",
    "sys.path.insert(0, '..')\n",
    "from Machine_Learning import *\n",
    "from sklearn.discriminant_analysis import QuadraticDiscriminantAnalysis\n"
   ]
  },
  {
   "cell_type": "markdown",
   "metadata": {},
   "source": [
    "## Define the files to be imported"
   ]
  },
  {
   "cell_type": "code",
   "execution_count": 2,
   "metadata": {
    "collapsed": true
   },
   "outputs": [],
   "source": [
    "pretrain_folder=r\"C:\\Share\\WaveParameter Machine Learning\\Pretrain\"\n",
    "pretrain_files=os.listdir(pretrain_folder)\n",
    "pretrain_files=map(lambda x:os.path.join(pretrain_folder,x),pretrain_files)\n"
   ]
  },
  {
   "cell_type": "markdown",
   "metadata": {},
   "source": [
    "## Join all the files using the fact they are descendants of AsciiDataTable"
   ]
  },
  {
   "cell_type": "code",
   "execution_count": 3,
   "metadata": {
    "collapsed": false,
    "scrolled": true
   },
   "outputs": [
    {
     "name": "stdout",
     "output_type": "stream",
     "text": [
      "FAILED to import file!\n",
      "Moving to parsing unknown schema\n",
      "C:\\Share\\WaveParameter Machine Learning\\Pretrain\\iteration_1.w2p sucessfully parsed\n",
      "FAILED to import file!\n",
      "Moving to parsing unknown schema\n",
      "C:\\Share\\WaveParameter Machine Learning\\Pretrain\\iteration_10.w2p sucessfully parsed\n",
      "FAILED to import file!\n",
      "Moving to parsing unknown schema\n",
      "C:\\Share\\WaveParameter Machine Learning\\Pretrain\\iteration_100.w2p sucessfully parsed\n",
      "FAILED to import file!\n",
      "Moving to parsing unknown schema\n",
      "C:\\Share\\WaveParameter Machine Learning\\Pretrain\\iteration_11.w2p sucessfully parsed\n",
      "FAILED to import file!\n",
      "Moving to parsing unknown schema\n",
      "C:\\Share\\WaveParameter Machine Learning\\Pretrain\\iteration_12.w2p sucessfully parsed\n",
      "FAILED to import file!\n",
      "Moving to parsing unknown schema\n",
      "C:\\Share\\WaveParameter Machine Learning\\Pretrain\\iteration_13.w2p sucessfully parsed\n",
      "FAILED to import file!\n",
      "Moving to parsing unknown schema\n",
      "C:\\Share\\WaveParameter Machine Learning\\Pretrain\\iteration_14.w2p sucessfully parsed\n",
      "FAILED to import file!\n",
      "Moving to parsing unknown schema\n",
      "C:\\Share\\WaveParameter Machine Learning\\Pretrain\\iteration_15.w2p sucessfully parsed\n",
      "FAILED to import file!\n",
      "Moving to parsing unknown schema\n",
      "C:\\Share\\WaveParameter Machine Learning\\Pretrain\\iteration_16.w2p sucessfully parsed\n",
      "FAILED to import file!\n",
      "Moving to parsing unknown schema\n",
      "C:\\Share\\WaveParameter Machine Learning\\Pretrain\\iteration_17.w2p sucessfully parsed\n",
      "FAILED to import file!\n",
      "Moving to parsing unknown schema\n",
      "C:\\Share\\WaveParameter Machine Learning\\Pretrain\\iteration_18.w2p sucessfully parsed\n",
      "FAILED to import file!\n",
      "Moving to parsing unknown schema\n",
      "C:\\Share\\WaveParameter Machine Learning\\Pretrain\\iteration_19.w2p sucessfully parsed\n",
      "FAILED to import file!\n",
      "Moving to parsing unknown schema\n",
      "C:\\Share\\WaveParameter Machine Learning\\Pretrain\\iteration_2.w2p sucessfully parsed\n",
      "FAILED to import file!\n",
      "Moving to parsing unknown schema\n",
      "C:\\Share\\WaveParameter Machine Learning\\Pretrain\\iteration_20.w2p sucessfully parsed\n",
      "FAILED to import file!\n",
      "Moving to parsing unknown schema\n",
      "C:\\Share\\WaveParameter Machine Learning\\Pretrain\\iteration_21.w2p sucessfully parsed\n",
      "FAILED to import file!\n",
      "Moving to parsing unknown schema\n",
      "C:\\Share\\WaveParameter Machine Learning\\Pretrain\\iteration_22.w2p sucessfully parsed\n",
      "FAILED to import file!\n",
      "Moving to parsing unknown schema\n",
      "C:\\Share\\WaveParameter Machine Learning\\Pretrain\\iteration_23.w2p sucessfully parsed\n",
      "FAILED to import file!\n",
      "Moving to parsing unknown schema\n",
      "C:\\Share\\WaveParameter Machine Learning\\Pretrain\\iteration_24.w2p sucessfully parsed\n",
      "FAILED to import file!\n",
      "Moving to parsing unknown schema\n",
      "C:\\Share\\WaveParameter Machine Learning\\Pretrain\\iteration_25.w2p sucessfully parsed\n",
      "FAILED to import file!\n",
      "Moving to parsing unknown schema\n",
      "C:\\Share\\WaveParameter Machine Learning\\Pretrain\\iteration_26.w2p sucessfully parsed\n",
      "FAILED to import file!\n",
      "Moving to parsing unknown schema\n",
      "C:\\Share\\WaveParameter Machine Learning\\Pretrain\\iteration_27.w2p sucessfully parsed\n",
      "FAILED to import file!\n",
      "Moving to parsing unknown schema\n",
      "C:\\Share\\WaveParameter Machine Learning\\Pretrain\\iteration_28.w2p sucessfully parsed\n",
      "FAILED to import file!\n",
      "Moving to parsing unknown schema\n",
      "C:\\Share\\WaveParameter Machine Learning\\Pretrain\\iteration_29.w2p sucessfully parsed\n",
      "FAILED to import file!\n",
      "Moving to parsing unknown schema\n",
      "C:\\Share\\WaveParameter Machine Learning\\Pretrain\\iteration_3.w2p sucessfully parsed\n",
      "FAILED to import file!\n",
      "Moving to parsing unknown schema\n",
      "C:\\Share\\WaveParameter Machine Learning\\Pretrain\\iteration_30.w2p sucessfully parsed\n",
      "FAILED to import file!\n",
      "Moving to parsing unknown schema\n",
      "C:\\Share\\WaveParameter Machine Learning\\Pretrain\\iteration_31.w2p sucessfully parsed\n",
      "FAILED to import file!\n",
      "Moving to parsing unknown schema\n",
      "C:\\Share\\WaveParameter Machine Learning\\Pretrain\\iteration_32.w2p sucessfully parsed\n",
      "FAILED to import file!\n",
      "Moving to parsing unknown schema\n",
      "C:\\Share\\WaveParameter Machine Learning\\Pretrain\\iteration_33.w2p sucessfully parsed\n",
      "FAILED to import file!\n",
      "Moving to parsing unknown schema\n",
      "C:\\Share\\WaveParameter Machine Learning\\Pretrain\\iteration_34.w2p sucessfully parsed\n",
      "FAILED to import file!\n",
      "Moving to parsing unknown schema\n",
      "C:\\Share\\WaveParameter Machine Learning\\Pretrain\\iteration_35.w2p sucessfully parsed\n",
      "FAILED to import file!\n",
      "Moving to parsing unknown schema\n",
      "C:\\Share\\WaveParameter Machine Learning\\Pretrain\\iteration_36.w2p sucessfully parsed\n",
      "FAILED to import file!\n",
      "Moving to parsing unknown schema\n",
      "C:\\Share\\WaveParameter Machine Learning\\Pretrain\\iteration_37.w2p sucessfully parsed\n",
      "FAILED to import file!\n",
      "Moving to parsing unknown schema\n",
      "C:\\Share\\WaveParameter Machine Learning\\Pretrain\\iteration_38.w2p sucessfully parsed\n",
      "FAILED to import file!\n",
      "Moving to parsing unknown schema\n",
      "C:\\Share\\WaveParameter Machine Learning\\Pretrain\\iteration_39.w2p sucessfully parsed\n",
      "FAILED to import file!\n",
      "Moving to parsing unknown schema\n",
      "C:\\Share\\WaveParameter Machine Learning\\Pretrain\\iteration_4.w2p sucessfully parsed\n",
      "FAILED to import file!\n",
      "Moving to parsing unknown schema\n",
      "C:\\Share\\WaveParameter Machine Learning\\Pretrain\\iteration_40.w2p sucessfully parsed\n",
      "FAILED to import file!\n",
      "Moving to parsing unknown schema\n",
      "C:\\Share\\WaveParameter Machine Learning\\Pretrain\\iteration_41.w2p sucessfully parsed\n",
      "FAILED to import file!\n",
      "Moving to parsing unknown schema\n",
      "C:\\Share\\WaveParameter Machine Learning\\Pretrain\\iteration_42.w2p sucessfully parsed\n",
      "FAILED to import file!\n",
      "Moving to parsing unknown schema\n",
      "C:\\Share\\WaveParameter Machine Learning\\Pretrain\\iteration_43.w2p sucessfully parsed\n",
      "FAILED to import file!\n",
      "Moving to parsing unknown schema\n",
      "C:\\Share\\WaveParameter Machine Learning\\Pretrain\\iteration_44.w2p sucessfully parsed\n",
      "FAILED to import file!\n",
      "Moving to parsing unknown schema\n",
      "C:\\Share\\WaveParameter Machine Learning\\Pretrain\\iteration_45.w2p sucessfully parsed\n",
      "FAILED to import file!\n",
      "Moving to parsing unknown schema\n",
      "C:\\Share\\WaveParameter Machine Learning\\Pretrain\\iteration_46.w2p sucessfully parsed\n",
      "FAILED to import file!\n",
      "Moving to parsing unknown schema\n",
      "C:\\Share\\WaveParameter Machine Learning\\Pretrain\\iteration_47.w2p sucessfully parsed\n",
      "FAILED to import file!\n",
      "Moving to parsing unknown schema\n",
      "C:\\Share\\WaveParameter Machine Learning\\Pretrain\\iteration_48.w2p sucessfully parsed\n",
      "FAILED to import file!\n",
      "Moving to parsing unknown schema\n",
      "C:\\Share\\WaveParameter Machine Learning\\Pretrain\\iteration_49.w2p sucessfully parsed\n",
      "FAILED to import file!\n",
      "Moving to parsing unknown schema\n",
      "C:\\Share\\WaveParameter Machine Learning\\Pretrain\\iteration_5.w2p sucessfully parsed\n",
      "FAILED to import file!\n",
      "Moving to parsing unknown schema\n",
      "C:\\Share\\WaveParameter Machine Learning\\Pretrain\\iteration_50.w2p sucessfully parsed\n",
      "FAILED to import file!\n",
      "Moving to parsing unknown schema\n",
      "C:\\Share\\WaveParameter Machine Learning\\Pretrain\\iteration_51.w2p sucessfully parsed\n",
      "FAILED to import file!\n",
      "Moving to parsing unknown schema\n",
      "C:\\Share\\WaveParameter Machine Learning\\Pretrain\\iteration_52.w2p sucessfully parsed\n",
      "FAILED to import file!\n",
      "Moving to parsing unknown schema\n",
      "C:\\Share\\WaveParameter Machine Learning\\Pretrain\\iteration_53.w2p sucessfully parsed\n",
      "FAILED to import file!\n",
      "Moving to parsing unknown schema\n",
      "C:\\Share\\WaveParameter Machine Learning\\Pretrain\\iteration_54.w2p sucessfully parsed\n",
      "FAILED to import file!\n",
      "Moving to parsing unknown schema\n",
      "C:\\Share\\WaveParameter Machine Learning\\Pretrain\\iteration_55.w2p sucessfully parsed\n",
      "FAILED to import file!\n",
      "Moving to parsing unknown schema\n",
      "C:\\Share\\WaveParameter Machine Learning\\Pretrain\\iteration_56.w2p sucessfully parsed\n",
      "FAILED to import file!\n",
      "Moving to parsing unknown schema\n",
      "C:\\Share\\WaveParameter Machine Learning\\Pretrain\\iteration_57.w2p sucessfully parsed\n",
      "FAILED to import file!\n",
      "Moving to parsing unknown schema\n",
      "C:\\Share\\WaveParameter Machine Learning\\Pretrain\\iteration_58.w2p sucessfully parsed\n",
      "FAILED to import file!\n",
      "Moving to parsing unknown schema\n",
      "C:\\Share\\WaveParameter Machine Learning\\Pretrain\\iteration_59.w2p sucessfully parsed\n",
      "FAILED to import file!\n",
      "Moving to parsing unknown schema\n",
      "C:\\Share\\WaveParameter Machine Learning\\Pretrain\\iteration_6.w2p sucessfully parsed\n",
      "FAILED to import file!\n",
      "Moving to parsing unknown schema\n",
      "C:\\Share\\WaveParameter Machine Learning\\Pretrain\\iteration_60.w2p sucessfully parsed\n",
      "FAILED to import file!\n",
      "Moving to parsing unknown schema\n",
      "C:\\Share\\WaveParameter Machine Learning\\Pretrain\\iteration_61.w2p sucessfully parsed\n",
      "FAILED to import file!\n",
      "Moving to parsing unknown schema\n",
      "C:\\Share\\WaveParameter Machine Learning\\Pretrain\\iteration_62.w2p sucessfully parsed\n",
      "FAILED to import file!\n",
      "Moving to parsing unknown schema\n",
      "C:\\Share\\WaveParameter Machine Learning\\Pretrain\\iteration_63.w2p sucessfully parsed\n",
      "FAILED to import file!\n",
      "Moving to parsing unknown schema\n",
      "C:\\Share\\WaveParameter Machine Learning\\Pretrain\\iteration_64.w2p sucessfully parsed\n",
      "FAILED to import file!\n",
      "Moving to parsing unknown schema\n",
      "C:\\Share\\WaveParameter Machine Learning\\Pretrain\\iteration_65.w2p sucessfully parsed\n",
      "FAILED to import file!\n",
      "Moving to parsing unknown schema\n",
      "C:\\Share\\WaveParameter Machine Learning\\Pretrain\\iteration_66.w2p sucessfully parsed\n",
      "FAILED to import file!\n",
      "Moving to parsing unknown schema\n",
      "C:\\Share\\WaveParameter Machine Learning\\Pretrain\\iteration_67.w2p sucessfully parsed\n",
      "FAILED to import file!\n",
      "Moving to parsing unknown schema\n",
      "C:\\Share\\WaveParameter Machine Learning\\Pretrain\\iteration_68.w2p sucessfully parsed\n",
      "FAILED to import file!\n",
      "Moving to parsing unknown schema\n",
      "C:\\Share\\WaveParameter Machine Learning\\Pretrain\\iteration_69.w2p sucessfully parsed\n",
      "FAILED to import file!\n",
      "Moving to parsing unknown schema\n",
      "C:\\Share\\WaveParameter Machine Learning\\Pretrain\\iteration_7.w2p sucessfully parsed\n",
      "FAILED to import file!\n",
      "Moving to parsing unknown schema\n",
      "C:\\Share\\WaveParameter Machine Learning\\Pretrain\\iteration_70.w2p sucessfully parsed\n",
      "FAILED to import file!\n",
      "Moving to parsing unknown schema\n",
      "C:\\Share\\WaveParameter Machine Learning\\Pretrain\\iteration_71.w2p sucessfully parsed\n",
      "FAILED to import file!\n",
      "Moving to parsing unknown schema\n",
      "C:\\Share\\WaveParameter Machine Learning\\Pretrain\\iteration_72.w2p sucessfully parsed\n",
      "FAILED to import file!\n",
      "Moving to parsing unknown schema\n",
      "C:\\Share\\WaveParameter Machine Learning\\Pretrain\\iteration_73.w2p sucessfully parsed\n",
      "FAILED to import file!\n",
      "Moving to parsing unknown schema\n",
      "C:\\Share\\WaveParameter Machine Learning\\Pretrain\\iteration_74.w2p sucessfully parsed\n",
      "FAILED to import file!\n",
      "Moving to parsing unknown schema\n",
      "C:\\Share\\WaveParameter Machine Learning\\Pretrain\\iteration_75.w2p sucessfully parsed\n",
      "FAILED to import file!\n",
      "Moving to parsing unknown schema\n",
      "C:\\Share\\WaveParameter Machine Learning\\Pretrain\\iteration_76.w2p sucessfully parsed\n",
      "FAILED to import file!\n",
      "Moving to parsing unknown schema\n",
      "C:\\Share\\WaveParameter Machine Learning\\Pretrain\\iteration_77.w2p sucessfully parsed\n",
      "FAILED to import file!\n",
      "Moving to parsing unknown schema\n",
      "C:\\Share\\WaveParameter Machine Learning\\Pretrain\\iteration_78.w2p sucessfully parsed\n",
      "FAILED to import file!\n",
      "Moving to parsing unknown schema\n",
      "C:\\Share\\WaveParameter Machine Learning\\Pretrain\\iteration_79.w2p sucessfully parsed\n",
      "FAILED to import file!\n",
      "Moving to parsing unknown schema\n",
      "C:\\Share\\WaveParameter Machine Learning\\Pretrain\\iteration_8.w2p sucessfully parsed\n",
      "FAILED to import file!\n",
      "Moving to parsing unknown schema\n",
      "C:\\Share\\WaveParameter Machine Learning\\Pretrain\\iteration_80.w2p sucessfully parsed\n",
      "FAILED to import file!\n",
      "Moving to parsing unknown schema\n",
      "C:\\Share\\WaveParameter Machine Learning\\Pretrain\\iteration_81.w2p sucessfully parsed\n",
      "FAILED to import file!\n",
      "Moving to parsing unknown schema\n",
      "C:\\Share\\WaveParameter Machine Learning\\Pretrain\\iteration_82.w2p sucessfully parsed\n",
      "FAILED to import file!\n",
      "Moving to parsing unknown schema\n",
      "C:\\Share\\WaveParameter Machine Learning\\Pretrain\\iteration_83.w2p sucessfully parsed\n",
      "FAILED to import file!\n",
      "Moving to parsing unknown schema\n",
      "C:\\Share\\WaveParameter Machine Learning\\Pretrain\\iteration_84.w2p sucessfully parsed\n",
      "FAILED to import file!\n",
      "Moving to parsing unknown schema\n",
      "C:\\Share\\WaveParameter Machine Learning\\Pretrain\\iteration_85.w2p sucessfully parsed\n",
      "FAILED to import file!\n",
      "Moving to parsing unknown schema\n",
      "C:\\Share\\WaveParameter Machine Learning\\Pretrain\\iteration_86.w2p sucessfully parsed\n",
      "FAILED to import file!\n",
      "Moving to parsing unknown schema\n",
      "C:\\Share\\WaveParameter Machine Learning\\Pretrain\\iteration_87.w2p sucessfully parsed\n",
      "FAILED to import file!\n",
      "Moving to parsing unknown schema\n",
      "C:\\Share\\WaveParameter Machine Learning\\Pretrain\\iteration_88.w2p sucessfully parsed\n",
      "FAILED to import file!\n",
      "Moving to parsing unknown schema\n",
      "C:\\Share\\WaveParameter Machine Learning\\Pretrain\\iteration_89.w2p sucessfully parsed\n",
      "FAILED to import file!\n",
      "Moving to parsing unknown schema\n",
      "C:\\Share\\WaveParameter Machine Learning\\Pretrain\\iteration_9.w2p sucessfully parsed\n",
      "FAILED to import file!\n",
      "Moving to parsing unknown schema\n",
      "C:\\Share\\WaveParameter Machine Learning\\Pretrain\\iteration_90.w2p sucessfully parsed\n",
      "FAILED to import file!\n",
      "Moving to parsing unknown schema\n",
      "C:\\Share\\WaveParameter Machine Learning\\Pretrain\\iteration_91.w2p sucessfully parsed\n",
      "FAILED to import file!\n",
      "Moving to parsing unknown schema\n",
      "C:\\Share\\WaveParameter Machine Learning\\Pretrain\\iteration_92.w2p sucessfully parsed\n",
      "FAILED to import file!\n",
      "Moving to parsing unknown schema\n",
      "C:\\Share\\WaveParameter Machine Learning\\Pretrain\\iteration_93.w2p sucessfully parsed\n",
      "FAILED to import file!\n",
      "Moving to parsing unknown schema\n",
      "C:\\Share\\WaveParameter Machine Learning\\Pretrain\\iteration_94.w2p sucessfully parsed\n",
      "FAILED to import file!\n",
      "Moving to parsing unknown schema\n",
      "C:\\Share\\WaveParameter Machine Learning\\Pretrain\\iteration_95.w2p sucessfully parsed\n",
      "FAILED to import file!\n",
      "Moving to parsing unknown schema\n",
      "C:\\Share\\WaveParameter Machine Learning\\Pretrain\\iteration_96.w2p sucessfully parsed\n",
      "FAILED to import file!\n",
      "Moving to parsing unknown schema\n",
      "C:\\Share\\WaveParameter Machine Learning\\Pretrain\\iteration_97.w2p sucessfully parsed\n",
      "FAILED to import file!\n",
      "Moving to parsing unknown schema\n",
      "C:\\Share\\WaveParameter Machine Learning\\Pretrain\\iteration_98.w2p sucessfully parsed\n",
      "FAILED to import file!\n",
      "Moving to parsing unknown schema\n",
      "C:\\Share\\WaveParameter Machine Learning\\Pretrain\\iteration_99.w2p sucessfully parsed\n"
     ]
    }
   ],
   "source": [
    "first_file=W2P(pretrain_files[0])\n",
    "joined_file=first_file.copy()\n",
    "for file_name in pretrain_files[1:]:\n",
    "    joined_file=joined_file+W2P(file_name)"
   ]
  },
  {
   "cell_type": "markdown",
   "metadata": {},
   "source": [
    "## Creating a Mean and Standard Deviation w2p"
   ]
  },
  {
   "cell_type": "code",
   "execution_count": 4,
   "metadata": {
    "collapsed": true
   },
   "outputs": [],
   "source": [
    "mean_file=frequency_model_collapse_multiple_measurements(joined_file)"
   ]
  },
  {
   "cell_type": "code",
   "execution_count": 5,
   "metadata": {
    "collapsed": true
   },
   "outputs": [],
   "source": [
    "std_file=frequency_model_collapse_multiple_measurements(joined_file,method=\"std\")"
   ]
  },
  {
   "cell_type": "markdown",
   "metadata": {},
   "source": [
    "## Extracting the amplitudes"
   ]
  },
  {
   "cell_type": "code",
   "execution_count": 6,
   "metadata": {
    "collapsed": true
   },
   "outputs": [],
   "source": [
    "mean_A1_D1=[complex(re_A1_D1,mean_file[\"imA1_D1\"][index])\n",
    "            for index,re_A1_D1 in enumerate(mean_file[\"reA1_D1\"])]"
   ]
  },
  {
   "cell_type": "code",
   "execution_count": 7,
   "metadata": {
    "collapsed": false
   },
   "outputs": [
    {
     "data": {
      "image/png": "[encoded data removed]",
      "text/plain": [
       "<matplotlib.figure.Figure at 0x17fe30f0>"
      ]
     },
     "metadata": {},
     "output_type": "display_data"
    }
   ],
   "source": [
    "plt.plot(mean_file[\"Frequency\"],np.abs(np.array(mean_A1_D1)))\n",
    "plt.show()"
   ]
  },
  {
   "cell_type": "code",
   "execution_count": 8,
   "metadata": {
    "collapsed": true
   },
   "outputs": [],
   "source": [
    "std_A1_D1=np.abs(np.array([complex(re_A1_D1,std_file[\"imA1_D1\"][index]) for index,re_A1_D1 \n",
    "                           in enumerate(std_file[\"reA1_D1\"])]))"
   ]
  },
  {
   "cell_type": "code",
   "execution_count": 9,
   "metadata": {
    "collapsed": false
   },
   "outputs": [
    {
     "data": {
      "text/plain": [
       "array([1.10599624e-04, 4.45648730e-05, 1.20959027e-04, 2.44526386e-04,\n",
       "       5.96689057e-05, 7.60821506e-05, 2.25929476e-04, 7.69835803e-05,\n",
       "       1.10783209e-04, 1.10202421e-04, 2.99874012e-03, 3.18138408e-03,\n",
       "       3.13629845e-03, 3.02386536e-03, 3.11291727e-03, 3.12340561e-03,\n",
       "       3.15913795e-03, 3.08354194e-03, 3.17816992e-03, 3.34501964e-03,\n",
       "       3.28707399e-03, 1.31120365e-04, 3.83965449e-05, 6.92452537e-05,\n",
       "       2.55134696e-04, 1.25966495e-04, 8.18400500e-05, 1.97131253e-04,\n",
       "       7.81792250e-05, 9.03602214e-05, 1.11720817e-04])"
      ]
     },
     "execution_count": 9,
     "metadata": {},
     "output_type": "execute_result"
    }
   ],
   "source": [
    "std_A1_D1"
   ]
  },
  {
   "cell_type": "code",
   "execution_count": 17,
   "metadata": {
    "collapsed": false
   },
   "outputs": [],
   "source": [
    "plt.fill_between(mean_file[\"Frequency\"],np.abs(np.array(mean_A1_D1))-std_A1_D1,np.abs(np.array(mean_A1_D1))+std_A1_D1, \n",
    "                 edgecolor=(0, .0, .0, .25),\n",
    "                        facecolor=(.25, .25, .25, .25),\n",
    "                        linewidth=1)\n",
    "plt.plot(mean_file[\"Frequency\"],np.abs(np.array(mean_A1_D1)),'k')\n",
    "plt.show()"
   ]
  },
  {
   "cell_type": "markdown",
   "metadata": {},
   "source": [
    "## Building the Training Set"
   ]
  },
  {
   "cell_type": "code",
   "execution_count": 11,
   "metadata": {
    "collapsed": true
   },
   "outputs": [],
   "source": [
    "number_training_sets=1000\n",
    "training_arrays=np.array([np.random.normal(loc=a1_d1,scale=std_A1_D1[index],\n",
    "                                           size=number_training_sets) for index,\n",
    "                          a1_d1 in enumerate(np.abs(np.array(mean_A1_D1)))])\n",
    "\n",
    "training_arrays=[[training_arrays[i][j] for i in range(len(np.abs(np.array(mean_A1_D1))))] for j in range(number_training_sets)]"
   ]
  },
  {
   "cell_type": "code",
   "execution_count": 12,
   "metadata": {
    "collapsed": false,
    "scrolled": true
   },
   "outputs": [
    {
     "data": {
      "image/png": "[encoded data removed]",
      "text/plain": [
       "<matplotlib.figure.Figure at 0x1821add8>"
      ]
     },
     "metadata": {},
     "output_type": "display_data"
    }
   ],
   "source": [
    "# Don't do this step if number_training_sets is BIG!!!\n",
    "for training_array in training_arrays:\n",
    "    plt.plot(mean_file[\"Frequency\"],np.abs(training_array))\n",
    "\n",
    "plt.show()"
   ]
  },
  {
   "cell_type": "code",
   "execution_count": 25,
   "metadata": {
    "collapsed": false
   },
   "outputs": [],
   "source": [
    "%matplotlib wx\n",
    "plt.rcParams.update({'font.size': 18})\n",
    "for index,training_array in enumerate(training_arrays[0:5]):\n",
    "    plt.plot(mean_file[\"Frequency\"],np.abs(training_array), label=\"Training Set {0}\".format(index+1))\n",
    "\n",
    "plt.plot(mean_file[\"Frequency\"],np.abs(np.array(mean_A1_D1)),'k--',label=\"Mean Amplitude\")\n",
    "\n",
    "plt.fill_between(mean_file[\"Frequency\"],np.abs(np.array(mean_A1_D1))-std_A1_D1,np.abs(np.array(mean_A1_D1))+std_A1_D1, \n",
    "                 edgecolor=(0, .0, .0, .5),\n",
    "                        facecolor=(.25, .25, .25, .5),\n",
    "                        linewidth=1, label=\"$\\sigma_{a_{1}}$\")\n",
    "plt.legend()\n",
    "plt.ylabel(\"$|a_{1}| (arb.)$\")\n",
    "plt.xlabel(\"Frequency (GHz)\")\n",
    "plt.show()"
   ]
  },
  {
   "cell_type": "code",
   "execution_count": 463,
   "metadata": {
    "collapsed": true
   },
   "outputs": [],
   "source": [
    "def meanOfY(col,dataArray):\n",
    "    meanSet = []\n",
    "    for i in range(1, len(dataArray)):\n",
    "        y = dataArray[i][col]\n",
    "        meanSet.append(y)\n",
    "    return np.mean(meanSet)\n",
    "\n",
    "def generate_mean_curve(dataSet):\n",
    "    meanperFreq = []\n",
    "    for col in range(0, len(dataSet[0])):\n",
    "        meanperFreq.append(meanOfY(col, dataSet))\n",
    "    return meanperFreq\n",
    "        \n",
    "        "
   ]
  },
  {
   "cell_type": "code",
   "execution_count": 464,
   "metadata": {
    "collapsed": false
   },
   "outputs": [
    {
     "data": {
      "text/plain": [
       "[<matplotlib.lines.Line2D at 0x12af8320>]"
      ]
     },
     "execution_count": 464,
     "metadata": {},
     "output_type": "execute_result"
    },
    {
     "data": {
      "image/png": "[encoded data removed]",
      "text/plain": [
       "<Figure size 432x288 with 1 Axes>"
      ]
     },
     "metadata": {},
     "output_type": "display_data"
    }
   ],
   "source": [
    "listofFreq = mean_file[\"Frequency\"]\n",
    "plt.plot(listofFreq,generate_mean_curve(training_data))"
   ]
  },
  {
   "cell_type": "code",
   "execution_count": 465,
   "metadata": {
    "collapsed": true
   },
   "outputs": [],
   "source": [
    "def generatetoleranceplt(tolerance):\n",
    "    ymean = generate_mean_curve(training_data)\n",
    "    plt.plot(listofFreq, ymean)\n",
    "    t = tolerance\n",
    "    pTolerance = []\n",
    "    mTolerance = []\n",
    "    for i in range(0, len(ymean)):\n",
    "        pTolerance.append(ymean[i] + t)\n",
    "        mTolerance.append(ymean[i] - t)\n",
    "    plt.plot(freqs, pTolerance)\n",
    "    plt.plot(freqs, mTolerance)\n",
    "    plt.ylabel('wave parameter (dB)')\n",
    "    plt.xlabel('frequency (Hz)')\n",
    "    return [listofFreq, mTolerance, pTolerance]"
   ]
  },
  {
   "cell_type": "code",
   "execution_count": 466,
   "metadata": {
    "collapsed": false,
    "scrolled": true
   },
   "outputs": [
    {
     "data": {
      "text/plain": [
       "[[43.9625,\n",
       "  43.965,\n",
       "  43.9675,\n",
       "  43.97,\n",
       "  43.9725,\n",
       "  43.975,\n",
       "  43.9775,\n",
       "  43.98,\n",
       "  43.9825,\n",
       "  43.985,\n",
       "  43.9875,\n",
       "  43.99,\n",
       "  43.9925,\n",
       "  43.995,\n",
       "  43.9975,\n",
       "  44.0,\n",
       "  44.0025,\n",
       "  44.005,\n",
       "  44.0075,\n",
       "  44.01,\n",
       "  44.0125,\n",
       "  44.015,\n",
       "  44.0175,\n",
       "  44.02,\n",
       "  44.0225,\n",
       "  44.025,\n",
       "  44.0275,\n",
       "  44.03,\n",
       "  44.0325,\n",
       "  44.035,\n",
       "  44.0375],\n",
       " [-0.00029557735149612343,\n",
       "  -0.001622862081482968,\n",
       "  3.0004126369397727e-06,\n",
       "  0.0033059748828715195,\n",
       "  -0.0016114119222152333,\n",
       "  -0.0012512239065601343,\n",
       "  0.002676123578540938,\n",
       "  -0.0010811424536292095,\n",
       "  -0.000420426039355039,\n",
       "  -0.00035183648670179205,\n",
       "  0.06537331692929592,\n",
       "  0.06523412844346875,\n",
       "  0.07055175158881874,\n",
       "  0.06571759760884988,\n",
       "  0.07565457620556103,\n",
       "  0.06780230899267357,\n",
       "  0.07671823622522185,\n",
       "  0.07078011711234171,\n",
       "  0.07348575896569368,\n",
       "  0.07404217885321111,\n",
       "  0.07221553696946686,\n",
       "  0.000517777718854646,\n",
       "  -0.0018028890166868553,\n",
       "  -0.0011320513491058601,\n",
       "  0.0028019796734044056,\n",
       "  0.000180261917267202,\n",
       "  -0.0010532238701674926,\n",
       "  0.0015553358385678043,\n",
       "  -0.001044781868510292,\n",
       "  -0.0009031569970410318,\n",
       "  -0.00027529750055419345],\n",
       " [0.005085801647750066,\n",
       "  0.003758516917763222,\n",
       "  0.00538437941188313,\n",
       "  0.00868735388211771,\n",
       "  0.003769967077030957,\n",
       "  0.004130155092686056,\n",
       "  0.008057502577787128,\n",
       "  0.004300236545616981,\n",
       "  0.004960952959891151,\n",
       "  0.005029542512544398,\n",
       "  0.0707546959285421,\n",
       "  0.07061550744271493,\n",
       "  0.07593313058806492,\n",
       "  0.07109897660809605,\n",
       "  0.0810359552048072,\n",
       "  0.07318368799191975,\n",
       "  0.08209961522446803,\n",
       "  0.07616149611158789,\n",
       "  0.07886713796493985,\n",
       "  0.07942355785245729,\n",
       "  0.07759691596871304,\n",
       "  0.005899156718100837,\n",
       "  0.003578489982559335,\n",
       "  0.00424932765014033,\n",
       "  0.008183358672650597,\n",
       "  0.005561640916513393,\n",
       "  0.004328155129078698,\n",
       "  0.0069367148378139945,\n",
       "  0.004336597130735898,\n",
       "  0.004478222002205158,\n",
       "  0.005106081498691997]]"
      ]
     },
     "execution_count": 466,
     "metadata": {},
     "output_type": "execute_result"
    },
    {
     "data": {
      "image/png": "[encoded data removed]",
      "text/plain": [
       "<Figure size 432x288 with 1 Axes>"
      ]
     },
     "metadata": {},
     "output_type": "display_data"
    }
   ],
   "source": [
    "generatetoleranceplt(0.002690689499623095)"
   ]
  },
  {
   "cell_type": "markdown",
   "metadata": {},
   "source": [
    "# Training the Classifier"
   ]
  },
  {
   "cell_type": "code",
   "execution_count": 496,
   "metadata": {
    "collapsed": true
   },
   "outputs": [],
   "source": [
    "classifiers = {\n",
    "            \"quadraticdiscriminantanalysis\": QuadraticDiscriminantAnalysis(),\n",
    "        }"
   ]
  },
  {
   "cell_type": "code",
   "execution_count": 508,
   "metadata": {
    "collapsed": true
   },
   "outputs": [],
   "source": [
    "training_list = training_arrays \n",
    "target_list = []\n",
    "for i in range(0,1000):\n",
    "    x = 1\n",
    "    target_list.append(x)\n",
    "training_arr = np.array(training_list)\n",
    "target_arr = np.array(target_list)\n",
    "\n"
   ]
  },
  {
   "cell_type": "code",
   "execution_count": 509,
   "metadata": {
    "collapsed": true
   },
   "outputs": [],
   "source": [
    "QDA = QuadraticDiscriminantAnalysis()"
   ]
  },
  {
   "cell_type": "code",
   "execution_count": 511,
   "metadata": {
    "collapsed": false
   },
   "outputs": [
    {
     "ename": "ValueError",
     "evalue": "y has less than 2 classes",
     "output_type": "error",
     "traceback": [
      "\u001b[1;31m---------------------------------------------------------------------------\u001b[0m",
      "\u001b[1;31mValueError\u001b[0m                                Traceback (most recent call last)",
      "\u001b[1;32m<ipython-input-511-6b2f36781093>\u001b[0m in \u001b[0;36m<module>\u001b[1;34m()\u001b[0m\n\u001b[1;32m----> 1\u001b[1;33m \u001b[0mQDA\u001b[0m\u001b[1;33m.\u001b[0m\u001b[0mfit\u001b[0m\u001b[1;33m(\u001b[0m\u001b[0mtraining_arr\u001b[0m\u001b[1;33m,\u001b[0m \u001b[0mtarget_arr\u001b[0m\u001b[1;33m)\u001b[0m\u001b[1;33m\u001b[0m\u001b[0m\n\u001b[0m",
      "\u001b[1;32mC:\\Users\\msh7\\Anaconda\\lib\\site-packages\\sklearn\\discriminant_analysis.pyc\u001b[0m in \u001b[0;36mfit\u001b[1;34m(self, X, y)\u001b[0m\n\u001b[0;32m    651\u001b[0m         \u001b[0mn_classes\u001b[0m \u001b[1;33m=\u001b[0m \u001b[0mlen\u001b[0m\u001b[1;33m(\u001b[0m\u001b[0mself\u001b[0m\u001b[1;33m.\u001b[0m\u001b[0mclasses_\u001b[0m\u001b[1;33m)\u001b[0m\u001b[1;33m\u001b[0m\u001b[0m\n\u001b[0;32m    652\u001b[0m         \u001b[1;32mif\u001b[0m \u001b[0mn_classes\u001b[0m \u001b[1;33m<\u001b[0m \u001b[1;36m2\u001b[0m\u001b[1;33m:\u001b[0m\u001b[1;33m\u001b[0m\u001b[0m\n\u001b[1;32m--> 653\u001b[1;33m             \u001b[1;32mraise\u001b[0m \u001b[0mValueError\u001b[0m\u001b[1;33m(\u001b[0m\u001b[1;34m'y has less than 2 classes'\u001b[0m\u001b[1;33m)\u001b[0m\u001b[1;33m\u001b[0m\u001b[0m\n\u001b[0m\u001b[0;32m    654\u001b[0m         \u001b[1;32mif\u001b[0m \u001b[0mself\u001b[0m\u001b[1;33m.\u001b[0m\u001b[0mpriors\u001b[0m \u001b[1;32mis\u001b[0m \u001b[0mNone\u001b[0m\u001b[1;33m:\u001b[0m\u001b[1;33m\u001b[0m\u001b[0m\n\u001b[0;32m    655\u001b[0m             \u001b[0mself\u001b[0m\u001b[1;33m.\u001b[0m\u001b[0mpriors_\u001b[0m \u001b[1;33m=\u001b[0m \u001b[0mnp\u001b[0m\u001b[1;33m.\u001b[0m\u001b[0mbincount\u001b[0m\u001b[1;33m(\u001b[0m\u001b[0my\u001b[0m\u001b[1;33m)\u001b[0m \u001b[1;33m/\u001b[0m \u001b[0mfloat\u001b[0m\u001b[1;33m(\u001b[0m\u001b[0mn_samples\u001b[0m\u001b[1;33m)\u001b[0m\u001b[1;33m\u001b[0m\u001b[0m\n",
      "\u001b[1;31mValueError\u001b[0m: y has less than 2 classes"
     ]
    }
   ],
   "source": [
    "QDA.fit(training_arr, target_arr)\n"
   ]
  },
  {
   "cell_type": "code",
   "execution_count": 512,
   "metadata": {
    "collapsed": false
   },
   "outputs": [
    {
     "ename": "NameError",
     "evalue": "name 'data_dictionary' is not defined",
     "output_type": "error",
     "traceback": [
      "\u001b[1;31m---------------------------------------------------------------------------\u001b[0m",
      "\u001b[1;31mNameError\u001b[0m                                 Traceback (most recent call last)",
      "\u001b[1;32m<ipython-input-512-f12c84636f33>\u001b[0m in \u001b[0;36m<module>\u001b[1;34m()\u001b[0m\n\u001b[1;32m----> 1\u001b[1;33m \u001b[1;32mfor\u001b[0m \u001b[0mkey\u001b[0m\u001b[1;33m,\u001b[0m \u001b[0mvalue\u001b[0m \u001b[1;32min\u001b[0m \u001b[0mdata_dictionary\u001b[0m\u001b[1;33m.\u001b[0m\u001b[0miteritems\u001b[0m\u001b[1;33m(\u001b[0m\u001b[1;33m)\u001b[0m\u001b[1;33m:\u001b[0m\u001b[1;33m\u001b[0m\u001b[0m\n\u001b[0m\u001b[0;32m      2\u001b[0m        \u001b[1;31m# If the value at the current key is a numpy array, we just add all of it's values to the training list,\u001b[0m\u001b[1;33m\u001b[0m\u001b[1;33m\u001b[0m\u001b[0m\n\u001b[0;32m      3\u001b[0m        \u001b[1;31m# and it's key multiple times to the target list.\u001b[0m\u001b[1;33m\u001b[0m\u001b[1;33m\u001b[0m\u001b[0m\n\u001b[0;32m      4\u001b[0m        \u001b[1;32mif\u001b[0m \u001b[0misinstance\u001b[0m\u001b[1;33m(\u001b[0m\u001b[0mvalue\u001b[0m\u001b[1;33m,\u001b[0m \u001b[0mnp\u001b[0m\u001b[1;33m.\u001b[0m\u001b[0mndarray\u001b[0m\u001b[1;33m)\u001b[0m\u001b[1;33m:\u001b[0m\u001b[1;33m\u001b[0m\u001b[0m\n\u001b[0;32m      5\u001b[0m            \u001b[0mtraining_list\u001b[0m\u001b[1;33m.\u001b[0m\u001b[0mextend\u001b[0m\u001b[1;33m(\u001b[0m\u001b[0mvalue\u001b[0m\u001b[1;33m.\u001b[0m\u001b[0mtolist\u001b[0m\u001b[1;33m(\u001b[0m\u001b[1;33m)\u001b[0m\u001b[1;33m)\u001b[0m\u001b[1;33m\u001b[0m\u001b[0m\n",
      "\u001b[1;31mNameError\u001b[0m: name 'data_dictionary' is not defined"
     ]
    }
   ],
   "source": [
    " for key, value in data_dictionary.iteritems():\n",
    "        # If the value at the current key is a numpy array, we just add all of it's values to the training list,\n",
    "        # and it's key multiple times to the target list.\n",
    "        if isinstance(value, np.ndarray):\n",
    "            training_list.extend(value.tolist())\n",
    "            target_list.extend([key] * len(value))\n",
    "        # We do the same thing with the list.\n",
    "        elif isinstance(value, list):\n",
    "            training_list.extend(value)\n",
    "            target_list.extend([key] * len(value))\n",
    "        # If the value at the current key is another form of iterable, we convert it to a list and do the same thing.\n",
    "        elif isinstance(value, Iterable):\n",
    "            value_as_list = list(value)\n",
    "            training_list.extend(value_as_list)\n",
    "            target_list.extend([key] * len(value_as_list))\n",
    "        # If the value is not any type of iterable, we raise a ValueError.\n",
    "        else:\n",
    "            raise ValueError(\"keyword argument has been inputted that is not an array or iterable\")"
   ]
  },
  {
   "cell_type": "code",
   "execution_count": null,
   "metadata": {
    "collapsed": true
   },
   "outputs": [],
   "source": []
  }
 ],
 "metadata": {
  "kernelspec": {
   "display_name": "Python 2",
   "language": "python",
   "name": "python2"
  },
  "language_info": {
   "codemirror_mode": {
    "name": "ipython",
    "version": 2
   },
   "file_extension": ".py",
   "mimetype": "text/x-python",
   "name": "python",
   "nbconvert_exporter": "python",
   "pygments_lexer": "ipython2",
   "version": "2.7.13"
  }
 },
 "nbformat": 4,
 "nbformat_minor": 2
}
