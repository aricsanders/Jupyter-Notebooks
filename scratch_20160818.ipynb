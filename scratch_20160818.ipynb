{
 "cells": [
  {
   "cell_type": "code",
   "execution_count": 1,
   "metadata": {
    "collapsed": false
   },
   "outputs": [
    {
     "name": "stdout",
     "output_type": "stream",
     "text": [
      "The module smithplot was not found,please put it on the python path\n"
     ]
    }
   ],
   "source": [
    "from pyMeasure.Code.Utils.Names import *\n",
    "#from pyMeasure.Code.DataHandlers.NISTModels import *\n",
    "#from pyMeasure.Code.DataHandlers.GeneralModels import *\n",
    "# from pyMeasure.Code.DataHandlers.TouchstoneModels import *\n",
    "# from pyMeasure.Code.DataHandlers.XMLModels import *\n",
    "# from pyMeasure.Code.DataHandlers.Translations import *\n",
    "#from pyMeasure.Code.DataHandlers.StatistiCALModels import *\n",
    "#from pyMeasure.Code.DataHandlers.MUFModels import *\n",
    "#from pyMeasure.Code.Analysis.SParameter import *\n",
    "# from pyMeasure.Code.InstrumentControl.Instruments import *\n",
    "# from pyMeasure.Code.InstrumentControl.Experiments import *\n",
    "#from pyMeasure.Code.FrontEnds import AdvancedInterfaceFrame"
   ]
  },
  {
   "cell_type": "code",
   "execution_count": 1,
   "metadata": {
    "collapsed": false
   },
   "outputs": [
    {
     "name": "stderr",
     "output_type": "stream",
     "text": [
      "C:\\python27\\lib\\site-packages\\matplotlib\\__init__.py:1350: UserWarning:  This call to matplotlib.use() has no effect\n",
      "because the backend has already been chosen;\n",
      "matplotlib.use() must be called *before* pylab, matplotlib.pyplot,\n",
      "or matplotlib.backends is imported for the first time.\n",
      "\n",
      "  warnings.warn(_use_error_msg)\n"
     ]
    }
   ],
   "source": [
    "from pyMeasure import *"
   ]
  },
  {
   "cell_type": "code",
   "execution_count": 4,
   "metadata": {
    "collapsed": false,
    "scrolled": true
   },
   "outputs": [
    {
     "name": "stdout",
     "output_type": "stream",
     "text": [
      "Warning \\n is in the remove tokens\n"
     ]
    }
   ],
   "source": [
    "directory=r'Q:\\67201\\HighTC\\Data\\2016\\20160801_OSLT_SimCal_Azi'\n",
    "files_to_compare=[\"SA1_G1_g15_HF\"]#,\"SA1_G1_g15_HF_corrected\"]\n",
    "file_list=[JBSparameter_to_S2PV1(JBSparameter(os.path.join(directory,file_name),column_names=S2P_RI_COLUMN_NAMES)) for file_name in files_to_compare ]\n",
    "compare_s2p_plots(file_list,display_legend=False)\n",
    "                                "
   ]
  },
  {
   "cell_type": "code",
   "execution_count": 10,
   "metadata": {
    "collapsed": true
   },
   "outputs": [],
   "source": [
    "os.chdir(TESTS_DIRECTORY)\n",
    "in_file=open(\"69329.dut\",'r')\n",
    "lines=[]\n",
    "header=[]\n",
    "for line in in_file:\n",
    "    if re.match(\"!\",line):\n",
    "        header.append(line)\n",
    "    else:\n",
    "        lines.append(line)\n",
    "    \n",
    "in_file.close()\n"
   ]
  },
  {
   "cell_type": "code",
   "execution_count": null,
   "metadata": {
    "collapsed": true
   },
   "outputs": [],
   "source": []
  },
  {
   "cell_type": "code",
   "execution_count": 14,
   "metadata": {
    "collapsed": false
   },
   "outputs": [
    {
     "name": "stdout",
     "output_type": "stream",
     "text": [
      "Help on function strip_all_line_tokens in module pyMeasure.Code.DataHandlers.GeneralModels:\n",
      "\n",
      "strip_all_line_tokens(string_list, begin_token=None, end_token=None)\n",
      "    Strips all line tokens from a list of strings, meant  to reverse the action of line_list_comment_string\n",
      "    with block=false\n",
      "\n"
     ]
    }
   ],
   "source": [
    "help(strip_all_line_tokens)"
   ]
  },
  {
   "cell_type": "code",
   "execution_count": 26,
   "metadata": {
    "collapsed": false
   },
   "outputs": [
    {
     "data": {
      "text/plain": [
       "[' 69329   17 Sep 2014',\n",
       " ' Freq, |Gamma|, Arg(Gamma), Ub|G|, Un|G|, Uc|G|, Utot|G|, UbA(G), UnA(G), UcA(G), UtotA(G)']"
      ]
     },
     "execution_count": 26,
     "metadata": {},
     "output_type": "execute_result"
    }
   ],
   "source": [
    "strip_all_line_tokens(header,begin_token=\"!\")"
   ]
  },
  {
   "cell_type": "code",
   "execution_count": 28,
   "metadata": {
    "collapsed": false
   },
   "outputs": [],
   "source": [
    "DUT_COLUMN_NAMES=[\"Frequency\", \"mag\", \"arg\",\"uMb\", \"uMa\", \"uMd\", \"uMg\", \n",
    "                                    \"uAb\", \"uAa\", \"uAd\", \"uAg\"]\n",
    "row_pattern=make_row_match_string(DUT_COLUMN_NAMES)\n",
    "options={\"column_names\":DUT_COLUMN_NAMES,\"comment_begin\":\"!\",\"comment_end\":\"\\n\",\n",
    "         \"row_pattern\":row_pattern,\"column_types\":['float' for i in DUT_COLUMN_NAMES]}\n",
    "\n",
    "data=parsed_lines=parse_lines(lines,**options)\n",
    "\n",
    "options[\"header\"]=strip_all_line_tokens(header,begin_token=\"!\")\n",
    "options[\"data\"]=data"
   ]
  },
  {
   "cell_type": "code",
   "execution_count": 29,
   "metadata": {
    "collapsed": false
   },
   "outputs": [],
   "source": [
    "new_table=AsciiDataTable(None,**options)"
   ]
  },
  {
   "cell_type": "code",
   "execution_count": 30,
   "metadata": {
    "collapsed": false
   },
   "outputs": [
    {
     "name": "stdout",
     "output_type": "stream",
     "text": [
      "! 69329   17 Sep 2014\n",
      "! Freq, |Gamma|, Arg(Gamma), Ub|G|, Un|G|, Uc|G|, Utot|G|, UbA(G), UnA(G), UcA(G), UtotA(G)\n",
      "\n",
      "Frequency,mag,arg,uMb,uMa,uMd,uMg,uAb,uAa,uAd,uAg\n",
      "0.0001,0.20925,-75.234,0.00158,0.00047,2e-05,0.0033,0.433,0.027,0.012,0.869\n",
      "0.0002,0.10862,-81.421,0.00158,0.00047,2e-05,0.0033,0.834,0.027,0.011,1.668\n",
      "0.0003,0.07333,-83.476,0.00158,0.00047,1e-05,0.0033,1.235,0.027,0.012,2.47\n",
      "0.0004,0.05541,-84.415,0.00158,0.00047,1e-05,0.0033,1.634,0.027,0.014,3.268\n",
      "0.000455,0.04888,-84.695,0.00158,0.00047,1e-05,0.0033,1.852,0.027,0.018,3.704\n",
      "0.0005,0.04457,-84.905,0.00158,0.00047,1e-05,0.0033,2.031,0.027,0.021,4.061\n",
      "0.0006,0.03729,-85.132,0.00158,0.00047,0.0,0.0033,2.426,0.027,0.017,4.853\n",
      "0.0007,0.03209,-85.282,0.00158,0.00047,1e-05,0.0033,2.819,0.027,0.021,5.639\n",
      "0.0008,0.02818,-85.403,0.00158,0.00047,0.0,0.0033,3.21,0.027,0.018,6.42\n",
      "0.0009,0.0251,-85.405,0.00158,0.00047,0.0,0.0033,3.601,0.027,0.018,7.203\n",
      "0.001,0.02269,-85.422,0.00158,0.00047,0.0,0.0033,3.984,0.027,0.019,7.969\n",
      "0.00125,0.01826,-85.517,0.00158,0.00047,1e-05,0.0033,4.945,0.027,0.037,9.891\n",
      "0.002,0.01153,-85.137,0.00158,0.00047,0.0,0.0033,7.801,0.027,0.034,15.601\n",
      "0.003,0.00773,-84.64,0.00158,0.00047,0.0,0.0033,11.551,0.027,0.049,23.102\n",
      "0.004,0.00577,-84.1,0.00158,0.00047,0.0,0.0033,15.308,0.027,0.063,30.617\n",
      "0.005,0.00457,-83.323,0.00158,0.00047,0.0,0.0033,19.053,0.027,0.089,38.106\n",
      "0.006,0.00376,-82.697,0.00158,0.00047,0.0,0.0033,22.813,0.027,0.104,45.626\n",
      "0.007,0.00314,-81.974,0.00158,0.00047,0.0,0.0033,26.697,0.027,0.124,53.394\n",
      "0.008,0.00268,-81.053,0.00158,0.00047,0.0,0.0033,30.543,0.027,0.162,61.086\n",
      "0.009,0.00228,-80.02,0.00158,0.00047,0.0,0.0033,34.765,0.027,0.218,69.531\n",
      "0.01,0.00199,-79.2,0.00158,0.00047,0.0,0.0033,38.518,0.027,0.208,77.036\n",
      "0.015,0.00094,-70.854,0.00158,0.00047,0.0,0.0033,59.335,0.027,0.505,118.671\n",
      "0.02,0.00033,-41.159,0.00158,0.00047,1e-05,0.0033,78.074,0.027,1.247,156.151\n",
      "0.025,0.00043,51.56,0.00158,0.00047,0.0,0.0033,74.844,0.027,1.17,149.691\n",
      "0.03,0.00081,71.93,0.00158,0.00047,0.0,0.0033,62.729,0.027,0.631,125.459\n",
      "0.04,0.0016,79.953,0.00158,0.00047,1e-05,0.0033,44.694,0.027,0.358,89.388\n",
      "0.05,0.00231,81.656,0.00158,0.00047,1e-05,0.0033,34.372,0.027,0.258,68.744\n",
      "0.06,0.00294,83.052,0.00158,0.00047,1e-05,0.0033,28.222,0.027,0.194,56.445\n",
      "0.07,0.00358,83.543,0.00158,0.00047,1e-05,0.0033,23.807,0.027,0.155,47.613\n",
      "0.08,0.0042,83.225,0.00158,0.00047,1e-05,0.0033,20.607,0.027,0.141,41.215\n",
      "0.09,0.00482,83.221,0.00158,0.00048,1e-05,0.0033,18.15,0.027,0.12,36.3\n",
      "0.1,0.00543,82.788,0.00158,0.00048,1e-05,0.0033,16.214,0.027,0.131,32.428\n",
      "0.105,0.00576,82.859,0.00158,0.00048,2e-05,0.0033,15.33,0.027,0.108,30.66\n",
      "0.11,0.00606,82.705,0.00158,0.00048,2e-05,0.0033,14.617,0.027,0.098,29.234\n",
      "0.115,0.00636,82.637,0.00158,0.00048,2e-05,0.0033,13.959,0.027,0.094,27.917\n",
      "0.12,0.00668,82.249,0.00158,0.00048,2e-05,0.0033,13.298,0.027,0.097,26.597\n",
      "0.125,0.00699,81.995,0.00158,0.00048,2e-05,0.0033,12.744,0.027,0.101,25.487\n",
      "0.13,0.00731,81.706,0.00158,0.00048,2e-05,0.0033,12.202,0.027,0.085,24.403\n",
      "0.135,0.0076,81.46,0.00158,0.00048,2e-05,0.0033,11.746,0.027,0.09,23.493\n",
      "0.14,0.00794,81.377,0.00158,0.00048,2e-05,0.0033,11.255,0.027,0.086,22.511\n",
      "0.145,0.00823,81.051,0.00158,0.00048,2e-05,0.0033,10.866,0.027,0.103,21.732\n",
      "0.15,0.00855,80.945,0.00158,0.00048,2e-05,0.0033,10.475,0.027,0.089,20.949\n",
      "0.155,0.00887,80.464,0.00158,0.00048,2e-05,0.0033,10.103,0.027,0.077,20.205\n",
      "0.16,0.00918,80.302,0.00158,0.00048,2e-05,0.0033,9.763,0.027,0.076,19.527\n",
      "0.165,0.00951,79.835,0.00158,0.00048,2e-05,0.0033,9.432,0.027,0.089,18.863\n",
      "0.17,0.00982,79.571,0.00158,0.00048,2e-05,0.0033,9.138,0.027,0.081,18.276\n",
      "0.175,0.01013,79.346,0.00158,0.00048,3e-05,0.0033,8.867,0.027,0.082,17.735\n",
      "0.2,0.01175,77.652,0.00171,0.00048,3e-05,0.00355,8.168,0.028,0.083,16.336\n",
      "0.25,0.01499,74.164,0.0017,0.00048,3e-05,0.00354,6.418,0.028,0.094,12.835\n",
      "0.3,0.01831,70.565,0.0017,0.00049,3e-05,0.00353,5.258,0.028,0.097,10.517\n",
      "0.35,0.02171,66.854,0.00169,0.00049,3e-05,0.00353,4.436,0.028,0.095,8.872\n",
      "0.4,0.02518,63.028,0.00169,0.00049,4e-05,0.00352,3.826,0.028,0.108,7.652\n",
      "0.45,0.02881,59.149,0.00169,0.00049,3e-05,0.00352,3.345,0.028,0.105,6.69\n",
      "0.5,0.03245,55.13,0.00169,0.0005,3e-05,0.00352,2.97,0.028,0.112,5.941\n",
      "0.55,0.03617,51.092,0.00169,0.0005,2e-05,0.00352,2.665,0.029,0.116,5.331\n",
      "0.6,0.03997,47.077,0.00169,0.0005,2e-05,0.00353,2.412,0.029,0.113,4.825\n",
      "0.65,0.04384,42.924,0.00169,0.0005,1e-05,0.00353,2.199,0.029,0.117,4.4\n",
      "0.7,0.04776,38.87,0.00169,0.00051,2e-05,0.00353,2.019,0.029,0.106,4.04\n",
      "0.75,0.05175,34.816,0.00169,0.00051,2e-05,0.00353,1.864,0.029,0.109,3.73\n",
      "0.8,0.05585,30.666,0.00169,0.00051,4e-05,0.00353,1.728,0.029,0.101,3.457\n",
      "0.85,0.06,26.525,0.00169,0.00052,6e-05,0.00354,1.609,0.03,0.094,3.219\n",
      "0.9,0.06416,22.377,0.00169,0.00052,6e-05,0.00354,1.505,0.03,0.095,3.011\n",
      "0.95,0.06848,18.182,0.00169,0.00052,8e-05,0.00354,1.41,0.03,0.083,2.822\n",
      "1.0,0.07271,14.117,0.00169,0.00052,0.0001,0.00355,1.329,0.03,0.074,2.658\n",
      "1.03,0.07538,11.705,0.00169,0.00053,0.0001,0.00355,1.282,0.03,0.073,2.565\n",
      "1.06,0.07802,9.149,0.00169,0.00053,9e-05,0.00355,1.239,0.03,0.072,2.479\n",
      "1.09,0.08072,6.694,0.0017,0.00053,9e-05,0.00355,1.197,0.03,0.066,2.396\n",
      "1.134,0.08462,3.11,0.0017,0.00053,0.00012,0.00356,1.143,0.03,0.07,2.287\n",
      "1.15,0.08602,1.76,0.0017,0.00053,0.00012,0.00356,1.124,0.03,0.07,2.25\n",
      "1.214,0.09189,-3.495,0.0017,0.00054,0.00012,0.00356,1.053,0.031,0.059,2.107\n",
      "1.225,0.09289,-4.446,0.0017,0.00054,0.00014,0.00356,1.041,0.031,0.067,2.084\n",
      "1.25,0.09514,-6.567,0.0017,0.00054,0.00013,0.00356,1.017,0.031,0.064,2.036\n",
      "1.3,0.09985,-10.734,0.0017,0.00054,0.00012,0.00357,0.969,0.031,0.055,1.94\n"
     ]
    }
   ],
   "source": [
    "print new_table"
   ]
  },
  {
   "cell_type": "code",
   "execution_count": null,
   "metadata": {
    "collapsed": true
   },
   "outputs": [],
   "source": []
  }
 ],
 "metadata": {
  "kernelspec": {
   "display_name": "Python 2",
   "language": "python",
   "name": "python2"
  },
  "language_info": {
   "codemirror_mode": {
    "name": "ipython",
    "version": 2
   },
   "file_extension": ".py",
   "mimetype": "text/x-python",
   "name": "python",
   "nbconvert_exporter": "python",
   "pygments_lexer": "ipython2",
   "version": "2.7.11"
  }
 },
 "nbformat": 4,
 "nbformat_minor": 0
}
