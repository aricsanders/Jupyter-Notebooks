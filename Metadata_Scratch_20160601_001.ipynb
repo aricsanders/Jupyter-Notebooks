{
 "cells": [
  {
   "cell_type": "markdown",
   "metadata": {},
   "source": [
    "# User Profiles\n",
    "\n",
    "<ul>\n",
    "<li> "
   ]
  },
  {
   "cell_type": "code",
   "execution_count": 1,
   "metadata": {
    "collapsed": true
   },
   "outputs": [],
   "source": [
    "encyclopedia={'file1:DC:author:':'sandersa','file1:DC.type:author:':'string','self:metadata.type:keys':'string'}\n",
    "encyclopedia_csv='file1,DC,author,sandersa\\nfile1,DC-type,auhtor,string\\nself,metadata-type,keys,string'\n"
   ]
  },
  {
   "cell_type": "code",
   "execution_count": 2,
   "metadata": {
    "collapsed": false
   },
   "outputs": [
    {
     "name": "stdout",
     "output_type": "stream",
     "text": [
      "{'self:metadata.type:keys': 'string', 'file1:DC:author:': 'sandersa', 'file1:DC.type:author:': 'string'}\n"
     ]
    }
   ],
   "source": [
    "print encyclopedia"
   ]
  },
  {
   "cell_type": "code",
   "execution_count": 3,
   "metadata": {
    "collapsed": false
   },
   "outputs": [
    {
     "name": "stdout",
     "output_type": "stream",
     "text": [
      "['self:metadata.type:keys', 'file1:DC:author:', 'file1:DC.type:author:']\n"
     ]
    }
   ],
   "source": [
    "print encyclopedia.keys()"
   ]
  },
  {
   "cell_type": "code",
   "execution_count": 4,
   "metadata": {
    "collapsed": false
   },
   "outputs": [
    {
     "name": "stdout",
     "output_type": "stream",
     "text": [
      "file1,DC,author,sandersa\n",
      "file1,DC-type,auhtor,string\n",
      "self,metadata-type,keys,string\n"
     ]
    }
   ],
   "source": [
    "print encyclopedia_csv"
   ]
  },
  {
   "cell_type": "code",
   "execution_count": null,
   "metadata": {
    "collapsed": true
   },
   "outputs": [],
   "source": []
  }
 ],
 "metadata": {
  "kernelspec": {
   "display_name": "Python 2",
   "language": "python",
   "name": "python2"
  },
  "language_info": {
   "codemirror_mode": {
    "name": "ipython",
    "version": 2
   },
   "file_extension": ".py",
   "mimetype": "text/x-python",
   "name": "python",
   "nbconvert_exporter": "python",
   "pygments_lexer": "ipython2",
   "version": "2.7.12"
  }
 },
 "nbformat": 4,
 "nbformat_minor": 0
}
