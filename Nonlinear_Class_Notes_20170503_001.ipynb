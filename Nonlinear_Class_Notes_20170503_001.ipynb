{
 "cells": [
  {
   "cell_type": "markdown",
   "metadata": {},
   "source": [
    "# X-Parameter Class Notes \n",
    "\n",
    "## Class Materials \n",
    "1. <a href=\"https://www.safaribooksonline.com/library/view/x-parameters/9781107501522/\"><cite> X-Parameters, by  David Root, Jan Vespect, Jason Horn, and Mihai Marcu</cite></a>"
   ]
  },
  {
   "cell_type": "markdown",
   "metadata": {},
   "source": [
    "__Scattering Parameters__:\n",
    "Assumes that things are linear and time-invariant. This leads to a superposition principal."
   ]
  },
  {
   "cell_type": "markdown",
   "metadata": {},
   "source": []
  },
  {
   "cell_type": "code",
   "execution_count": null,
   "metadata": {
    "collapsed": true
   },
   "outputs": [],
   "source": [
    "def cascade(s1,s2):\n",
    "    \"\"\"Cascade returns the cascaded sparameters of s1 and s2. s1 and s2 should be in complex list form \n",
    "    [[f,S11,S12,S21,S22]...] and the returned sparameters will be in the same format\"\"\"\n",
    "    for row_index,row in enumerate(s1):\n",
    "        if r"
   ]
  }
 ],
 "metadata": {
  "kernelspec": {
   "display_name": "Python 2",
   "language": "python",
   "name": "python2"
  },
  "language_info": {
   "codemirror_mode": {
    "name": "ipython",
    "version": 2
   },
   "file_extension": ".py",
   "mimetype": "text/x-python",
   "name": "python",
   "nbconvert_exporter": "python",
   "pygments_lexer": "ipython2",
   "version": "2.7.13"
  }
 },
 "nbformat": 4,
 "nbformat_minor": 2
}
