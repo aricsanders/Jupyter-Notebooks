{
 "cells": [
  {
   "cell_type": "markdown",
   "metadata": {},
   "source": [
    "# Two-port Sparameter Graph"
   ]
  },
  {
   "cell_type": "markdown",
   "metadata": {},
   "source": [
    "## Models that fit into this \n",
    "1. S2P on disk \n",
    "2. SNP / S2PV1 Classes in Touchstone Models\n",
    "3. Jim Booth Format on Disk -> JBSparameter class\n",
    "4. TwoPortNRRawModel and TwoPortRawModel\n",
    "5. S2P on disk in different formats (AsciiDataTable)\n",
    "6. XMLDataTables\n",
    "7. XsltResultString an XslResultFile\n",
    "8. CITI\n",
    "9. VNATools\n",
    "\n",
    "## Issues\n",
    "1. When doing analysis the data must present a uniform format, i.e. units same, values are complex matrix or list\n",
    "2. Header or Metadata is removed for processing\n",
    "3. What is the result of a measurement or the result of a model or simulation\n",
    "\n",
    "## Common Analysis\n",
    "1. form a correction given a series of measured standards (requires more than one measurement, definition and some extra metadata)\n",
    "2. Apply a correction to a uncorrected DUT measurement\n",
    "3. Extract device parameters given the corrected DUT measurement, this assumes DUT fits a model\n",
    "4. Track or form Uncertainty estimates in 1-3\n",
    "\n"
   ]
  },
  {
   "cell_type": "code",
   "execution_count": 1,
   "metadata": {
    "collapsed": false
   },
   "outputs": [
    {
     "name": "stdout",
     "output_type": "stream",
     "text": [
      "Importing Code.Utils.Names\n",
      "Importing Code.DataHandlers.NISTModels\n",
      "Importing Code.DataHandlers.GeneralModels\n",
      "Importing Code.DataHandlers.TouchstoneModels\n",
      "Importing Code.DataHandlers.XMLModels\n",
      "Importing Code.DataHandlers.RadiCALModels\n",
      "Importing Code.DataHandlers.ZipModels\n",
      "Importing Code.DataHandlers.Translations\n",
      "Importing Code.DataHandlers.StatistiCALModels\n",
      "Importing Code.DataHandlers.MUFModels\n",
      "Importing Code.Analysis.SParameter\n",
      "Importing Code.InstrumentControl.Instruments\n",
      "Importing Code.InstrumentControl.Experiments\n"
     ]
    }
   ],
   "source": [
    "from pyMeasure import *\n",
    "from pyMeasure.Code.DataHandlers.GraphModels import *"
   ]
  },
  {
   "cell_type": "code",
   "execution_count": 2,
   "metadata": {
    "collapsed": true
   },
   "outputs": [],
   "source": [
    "def S2pFile_to_S2p(s2p_file_name):\n",
    "    \"\"\"Returns a S2p class given a S2p file name\"\"\"\n",
    "    return S2PV1(s2p_file_name)\n",
    "\n",
    "def S2p_to_S2pFile(s2p,s2p_file_name=\"test.s2p\"):\n",
    "    \"\"\"Saves the s2p class as file_name\"\"\"\n",
    "    s2p.save(s2p_file_name)\n",
    "    return s2p_file_name"
   ]
  },
  {
   "cell_type": "code",
   "execution_count": 3,
   "metadata": {
    "collapsed": false
   },
   "outputs": [],
   "source": [
    "graph_options={\"graph_name\":\"Two Port Graph\",\n",
    "                  \"node_names\":[\"S2pFile\",'S2pv1'],\n",
    "                  \"node_descriptions\":[\"S2P file on disk\",\"S2p class in Touchstone.Models\"],\n",
    "                  \"current_node\":'S2pFile',\n",
    "                  \"state\":[1,0],\n",
    "                  \"data\":\"test.s2p\",\n",
    "                  \"edge_2_to_1\":S2p_to_S2pFile,\n",
    "                  \"edge_1_to_2\":S2pFile_to_S2p}\n",
    "two_port_graph=Graph(**graph_options)"
   ]
  },
  {
   "cell_type": "code",
   "execution_count": 4,
   "metadata": {
    "collapsed": false
   },
   "outputs": [
    {
     "data": {
      "text/plain": [
       "<matplotlib.figure.Figure at 0xde00860>"
      ]
     },
     "execution_count": 4,
     "metadata": {},
     "output_type": "execute_result"
    }
   ],
   "source": [
    "two_port_graph.show()"
   ]
  },
  {
   "cell_type": "code",
   "execution_count": 5,
   "metadata": {
    "collapsed": false
   },
   "outputs": [
    {
     "name": "stdout",
     "output_type": "stream",
     "text": [
      "['edge_S2pFile_S2pv1_000']\n",
      "moving S2pFile -> S2pv1\n"
     ]
    }
   ],
   "source": [
    "two_port_graph.move_to_node(\"S2pv1\")\n",
    "s2p=two_port_graph.data"
   ]
  },
  {
   "cell_type": "code",
   "execution_count": 6,
   "metadata": {
    "collapsed": false
   },
   "outputs": [],
   "source": [
    "two_port_graph.data.options[\"data_delimiter\"]=\"  \""
   ]
  },
  {
   "cell_type": "code",
   "execution_count": 7,
   "metadata": {
    "collapsed": false
   },
   "outputs": [
    {
     "data": {
      "text/plain": [
       "['data', 'noiseparameter_data', 'comments', 'option_line']"
      ]
     },
     "execution_count": 7,
     "metadata": {},
     "output_type": "execute_result"
    }
   ],
   "source": [
    "s2p.elements"
   ]
  },
  {
   "cell_type": "code",
   "execution_count": 8,
   "metadata": {
    "collapsed": false
   },
   "outputs": [
    {
     "data": {
      "text/plain": [
       "<matplotlib.figure.Figure at 0xdec7da0>"
      ]
     },
     "execution_count": 8,
     "metadata": {},
     "output_type": "execute_result"
    }
   ],
   "source": [
    "two_port_graph.data.show()"
   ]
  },
  {
   "cell_type": "code",
   "execution_count": 43,
   "metadata": {
    "collapsed": false
   },
   "outputs": [],
   "source": [
    "def Model_to_File(model,file_path=None):\n",
    "    \"\"\"Uses the save method of a model to create file, default path is save default for the model\"\"\"\n",
    "    if file_path:\n",
    "        old_path=model.path\n",
    "        model.path=file_path\n",
    "        out=model.save()\n",
    "        model.path=old_path\n",
    "    else:\n",
    "        out=model.save()\n",
    "    return out\n",
    "\n",
    "def File_to_Model(file_path,model_class_name):\n",
    "    \"\"\"Uses a class to open the File and returns an object of type model_class_name\"\"\"\n",
    "    return globals()[model_class_name](file_path)\n",
    "def Snp_to_AsciiDataTable(snp_model):\n",
    "    \"\"\"Transforms an SNP model to an AsciiDataTable\"\"\"\n",
    "    # This translation can work for any subclass also...\n",
    "    # First Parse the comments into inline and header, might have to drop the inline comments\n",
    "    header=[]\n",
    "    inline_comments=[]\n",
    "    if snp_model.comments:\n",
    "        for comment in snp_model.comments[:]:\n",
    "            if comment[2]==0:\n",
    "                header.append(comment[0])\n",
    "            else:\n",
    "                inline_comments.append(comment)\n",
    "    column_units=[snp_model.frequency_units]+[None for i in range(len(snp_model.column_names)-1)]\n",
    "    column_types=[\"float\" for i in range(len(snp_model.column_names))]\n",
    "    new_table=AsciiDataTable(None,header=header,data=snp_model.data,\n",
    "                             column_names=snp_model.column_names,\n",
    "                            column_units=column_units,column_types=column_types)\n",
    "    return new_table\n",
    "\n",
    "def Snp_to_AsciiDataTableSubClass(snp_model,model=\"JBSparameter\"):\n",
    "    \"\"\"Transforms an SNP model to an AsciiDataTable\"\"\"\n",
    "    # This translation can work for any subclass also...\n",
    "    # First Parse the comments into inline and header, might have to drop the inline comments\n",
    "    if model in [\"JBSparameter\"]:\n",
    "        snp_model.change_data_format(\"RI\")\n",
    "        snp_model.change_frequency_units(\"Hz\")\n",
    "    header=[]\n",
    "    inline_comments=[]\n",
    "    if snp_model.comments:\n",
    "        for comment in snp_model.comments[:]:\n",
    "            if comment[2]==0:\n",
    "                header.append(comment[0])\n",
    "            else:\n",
    "                inline_comments.append(comment)\n",
    "    column_units=[snp_model.frequency_units]+[None for i in range(len(snp_model.column_names)-1)]\n",
    "    column_types=[\"float\" for i in range(len(snp_model.column_names))]\n",
    "    model_class=globals()[model]\n",
    "    new_table=model_class(None,header=header,data=snp_model.data,\n",
    "                             column_names=snp_model.column_names,\n",
    "                            column_units=column_units,column_types=column_types)\n",
    "\n",
    "    return new_table    \n"
   ]
  },
  {
   "cell_type": "code",
   "execution_count": null,
   "metadata": {
    "collapsed": true
   },
   "outputs": [],
   "source": [
    "s2p.change_data_format"
   ]
  },
  {
   "cell_type": "code",
   "execution_count": 33,
   "metadata": {
    "collapsed": false
   },
   "outputs": [],
   "source": [
    "table=Snp_to_AsciiDataTableSubClass(s2p)"
   ]
  },
  {
   "cell_type": "code",
   "execution_count": 11,
   "metadata": {
    "collapsed": false
   },
   "outputs": [
    {
     "data": {
      "text/plain": [
       "['header', 'column_names', 'data', 'footer', 'inline_comments', 'metadata']"
      ]
     },
     "execution_count": 11,
     "metadata": {},
     "output_type": "execute_result"
    }
   ],
   "source": [
    "table.elements"
   ]
  },
  {
   "cell_type": "code",
   "execution_count": 28,
   "metadata": {
    "collapsed": false
   },
   "outputs": [
    {
     "data": {
      "text/plain": [
       "<matplotlib.figure.Figure at 0x15f0a0f0>"
      ]
     },
     "execution_count": 28,
     "metadata": {},
     "output_type": "execute_result"
    }
   ],
   "source": [
    "table.show()"
   ]
  },
  {
   "cell_type": "code",
   "execution_count": 13,
   "metadata": {
    "collapsed": true
   },
   "outputs": [],
   "source": [
    "xml=AsciiDataTable_to_XmlDataTable(table,style_sheet=os.path.join(TESTS_DIRECTORY,\"../XSL/S2P_RI_STYLE.xsl\"))"
   ]
  },
  {
   "cell_type": "code",
   "execution_count": 14,
   "metadata": {
    "collapsed": false
   },
   "outputs": [],
   "source": [
    "xml.show()"
   ]
  },
  {
   "cell_type": "code",
   "execution_count": 17,
   "metadata": {
    "collapsed": false
   },
   "outputs": [],
   "source": [
    "html=xml.to_HTML()"
   ]
  },
  {
   "cell_type": "code",
   "execution_count": 18,
   "metadata": {
    "collapsed": false
   },
   "outputs": [
    {
     "name": "stdout",
     "output_type": "stream",
     "text": [
      "The module lxml.html.cssselect was not found or had an error. If it is not installedInstall it with pip install cssselect\n"
     ]
    }
   ],
   "source": [
    "from pyMeasure.Code.DataHandlers.HTMLModels import *"
   ]
  },
  {
   "cell_type": "code",
   "execution_count": 19,
   "metadata": {
    "collapsed": true
   },
   "outputs": [],
   "source": [
    "html_2=HTMLBase(None,html_content=html)"
   ]
  },
  {
   "cell_type": "code",
   "execution_count": 20,
   "metadata": {
    "collapsed": false
   },
   "outputs": [
    {
     "name": "stdout",
     "output_type": "stream",
     "text": [
      "Loading pages (1/6)\r\n",
      "[>                                                           ] 0%\r",
      "[======>                                                     ] 10%\r",
      "[===========================>                                ] 45%\r",
      "[===========================>                                ] 46%\r",
      "[=============================>                              ] 49%\r",
      "[=========================================>                  ] 69%\r",
      "[==========================================>                 ] 71%\r",
      "[===========================================>                ] 73%\r",
      "[==============================================>             ] 77%\r",
      "[===============================================>            ] 79%\r",
      "[================================================>           ] 81%\r",
      "[==================================================>         ] 84%\r",
      "[===================================================>        ] 86%\r",
      "[====================================================>       ] 88%\r",
      "[=====================================================>      ] 89%\r",
      "[=====================================================>      ] 89%\r",
      "[============================================================] 100%\r",
      "Counting pages (2/6)                                               \r\n",
      "[============================================================] Object 1 of 1\r",
      "Resolving links (4/6)                                                       \r\n",
      "[============================================================] Object 1 of 1\r",
      "Loading headers and footers (5/6)                                           \r\n",
      "Printing pages (6/6)\r\n",
      "[>                                                           ] Preparing\r",
      "[=>                                                          ] Page 1 of 40\r",
      "[===>                                                        ] Page 2 of 40\r",
      "[====>                                                       ] Page 3 of 40\r",
      "[======>                                                     ] Page 4 of 40\r",
      "[=======>                                                    ] Page 5 of 40\r",
      "[=========>                                                  ] Page 6 of 40\r",
      "[==========>                                                 ] Page 7 of 40\r",
      "[============>                                               ] Page 8 of 40\r",
      "[=============>                                              ] Page 9 of 40\r",
      "[===============>                                            ] Page 10 of 40\r",
      "[================>                                           ] Page 11 of 40\r",
      "[==================>                                         ] Page 12 of 40\r",
      "[===================>                                        ] Page 13 of 40\r",
      "[=====================>                                      ] Page 14 of 40\r",
      "[======================>                                     ] Page 15 of 40\r",
      "[========================>                                   ] Page 16 of 40\r",
      "[=========================>                                  ] Page 17 of 40\r",
      "[===========================>                                ] Page 18 of 40\r",
      "[============================>                               ] Page 19 of 40\r",
      "[==============================>                             ] Page 20 of 40\r",
      "[===============================>                            ] Page 21 of 40\r",
      "[=================================>                          ] Page 22 of 40\r",
      "[==================================>                         ] Page 23 of 40\r",
      "[====================================>                       ] Page 24 of 40\r",
      "[=====================================>                      ] Page 25 of 40\r",
      "[=======================================>                    ] Page 26 of 40\r",
      "[========================================>                   ] Page 27 of 40\r",
      "[==========================================>                 ] Page 28 of 40\r",
      "[===========================================>                ] Page 29 of 40\r",
      "[=============================================>              ] Page 30 of 40\r",
      "[==============================================>             ] Page 31 of 40\r",
      "[================================================>           ] Page 32 of 40\r",
      "[=================================================>          ] Page 33 of 40\r",
      "[===================================================>        ] Page 34 of 40\r",
      "[====================================================>       ] Page 35 of 40\r",
      "[======================================================>     ] Page 36 of 40\r",
      "[=======================================================>    ] Page 37 of 40\r",
      "[=========================================================>  ] Page 38 of 40\r",
      "[==========================================================> ] Page 39 of 40\r",
      "[============================================================] Page 40 of 40\r",
      "Done                                                                        \r\n"
     ]
    },
    {
     "data": {
      "text/plain": [
       "'HTML_Document_20161221_001.pdf'"
      ]
     },
     "execution_count": 20,
     "metadata": {},
     "output_type": "execute_result"
    }
   ],
   "source": [
    "html_2.to_pdf()"
   ]
  },
  {
   "cell_type": "code",
   "execution_count": 21,
   "metadata": {
    "collapsed": false
   },
   "outputs": [
    {
     "name": "stdout",
     "output_type": "stream",
     "text": [
      "file://c:/users/sandersa/appdata/local/temp/1/tmpowb0it.html\n"
     ]
    }
   ],
   "source": [
    "html_2.show()\n"
   ]
  },
  {
   "cell_type": "code",
   "execution_count": 55,
   "metadata": {
    "collapsed": false
   },
   "outputs": [
    {
     "name": "stdout",
     "output_type": "stream",
     "text": [
      "Warning \\n is in the remove tokens\n"
     ]
    }
   ],
   "source": [
    "jb_two_port=JBSparameter(os.path.join(TESTS_DIRECTORY,\"ftest6_L1_g5_HF_air\"))"
   ]
  },
  {
   "cell_type": "code",
   "execution_count": 56,
   "metadata": {
    "collapsed": false
   },
   "outputs": [
    {
     "data": {
      "text/plain": [
       "<matplotlib.figure.Figure at 0x1a6140b8>"
      ]
     },
     "execution_count": 56,
     "metadata": {},
     "output_type": "execute_result"
    }
   ],
   "source": [
    "jb_two_port.show()"
   ]
  },
  {
   "cell_type": "code",
   "execution_count": 57,
   "metadata": {
    "collapsed": true
   },
   "outputs": [],
   "source": [
    "s2p_2=JBSparameter_to_S2PV1(jb_two_port)"
   ]
  },
  {
   "cell_type": "code",
   "execution_count": 58,
   "metadata": {
    "collapsed": false
   },
   "outputs": [
    {
     "data": {
      "text/plain": [
       "<matplotlib.figure.Figure at 0x1a60a518>"
      ]
     },
     "execution_count": 58,
     "metadata": {},
     "output_type": "execute_result"
    }
   ],
   "source": [
    "s2p_2.show()"
   ]
  },
  {
   "cell_type": "code",
   "execution_count": 59,
   "metadata": {
    "collapsed": false
   },
   "outputs": [],
   "source": [
    "jb_two_port_2=Snp_to_AsciiDataTableSubClass(s2p_2)"
   ]
  },
  {
   "cell_type": "code",
   "execution_count": 47,
   "metadata": {
    "collapsed": false
   },
   "outputs": [
    {
     "data": {
      "text/plain": [
       "False"
      ]
     },
     "execution_count": 47,
     "metadata": {},
     "output_type": "execute_result"
    }
   ],
   "source": [
    "jb_two_port_2==jb_two_port"
   ]
  },
  {
   "cell_type": "code",
   "execution_count": 48,
   "metadata": {
    "collapsed": false
   },
   "outputs": [
    {
     "data": {
      "text/plain": [
       "<matplotlib.figure.Figure at 0x17ab84a8>"
      ]
     },
     "execution_count": 48,
     "metadata": {},
     "output_type": "execute_result"
    }
   ],
   "source": [
    "jb_two_port_2.show()"
   ]
  },
  {
   "cell_type": "code",
   "execution_count": 49,
   "metadata": {
    "collapsed": false
   },
   "outputs": [
    {
     "data": {
      "text/plain": [
       "<matplotlib.figure.Figure at 0x1997ddd8>"
      ]
     },
     "execution_count": 49,
     "metadata": {},
     "output_type": "execute_result"
    }
   ],
   "source": [
    "jb_two_port.show()"
   ]
  },
  {
   "cell_type": "code",
   "execution_count": 60,
   "metadata": {
    "collapsed": false
   },
   "outputs": [
    {
     "data": {
      "text/plain": [
       "['9/30/2015 5:10 PM DMM reading = 2.809244E+1; IFBW= 3.000000E+2 (Hz); Power= -2.000000E+1 (dBm);',\n",
       " 'Q26Ra_g5 and the Song wafer with the pdms roof and su8 microfluidics. NDO, 2015/II/pg111, -20db']"
      ]
     },
     "execution_count": 60,
     "metadata": {},
     "output_type": "execute_result"
    }
   ],
   "source": [
    "jb_two_port_2.header"
   ]
  },
  {
   "cell_type": "code",
   "execution_count": 61,
   "metadata": {
    "collapsed": false
   },
   "outputs": [
    {
     "data": {
      "text/plain": [
       "['9/30/2015 5:10 PM DMM reading = 2.809244E+1; IFBW= 3.000000E+2 (Hz); Power= -2.000000E+1 (dBm);',\n",
       " 'Q26Ra_g5 and the Song wafer with the pdms roof and su8 microfluidics. NDO, 2015/II/pg111, -20db']"
      ]
     },
     "execution_count": 61,
     "metadata": {},
     "output_type": "execute_result"
    }
   ],
   "source": [
    "jb_two_port.header"
   ]
  },
  {
   "cell_type": "code",
   "execution_count": 62,
   "metadata": {
    "collapsed": false
   },
   "outputs": [
    {
     "name": "stdout",
     "output_type": "stream",
     "text": [
      "['9/30/2015 5:10 PM DMM reading = 2.809244E+1; IFBW= 3.000000E+2 (Hz); Power= -2.000000E+1 (dBm);', 'Q26Ra_g5 and the Song wafer with the pdms roof and su8 microfluidics. NDO, 2015/II/pg111, -20db']\n"
     ]
    }
   ],
   "source": [
    "print jb_two_port.header"
   ]
  },
  {
   "cell_type": "code",
   "execution_count": null,
   "metadata": {
    "collapsed": false
   },
   "outputs": [],
   "source": []
  },
  {
   "cell_type": "code",
   "execution_count": 65,
   "metadata": {
    "collapsed": true
   },
   "outputs": [],
   "source": [
    "from pyMeasure.Code.Utils.HelpUtils import *"
   ]
  },
  {
   "cell_type": "code",
   "execution_count": 66,
   "metadata": {
    "collapsed": true
   },
   "outputs": [],
   "source": [
    "import pdoc\n"
   ]
  },
  {
   "cell_type": "code",
   "execution_count": 68,
   "metadata": {
    "collapsed": false
   },
   "outputs": [],
   "source": [
    "doc=pdoc.html('pyMeasure.Code.DataHandlers.GeneralModels')"
   ]
  },
  {
   "cell_type": "code",
   "execution_count": 69,
   "metadata": {
    "collapsed": true
   },
   "outputs": [],
   "source": [
    "html_3=HTMLBase(None,html_content=doc)"
   ]
  },
  {
   "cell_type": "code",
   "execution_count": 70,
   "metadata": {
    "collapsed": false
   },
   "outputs": [
    {
     "name": "stdout",
     "output_type": "stream",
     "text": [
      "Loading pages (1/6)\r\n",
      "[>                                                           ] 0%\r",
      "[======>                                                     ] 10%\r",
      "[=============================>                              ] 49%\r",
      "[=============================>                              ] 49%\r",
      "[=====================================>                      ] 63%\r",
      "[============================================>               ] 74%\r",
      "[============================================================] 100%\r",
      "Counting pages (2/6)                                               \r\n",
      "[============================================================] Object 1 of 1\r",
      "Resolving links (4/6)                                                       \r\n",
      "[============================================================] Object 1 of 1\r",
      "Loading headers and footers (5/6)                                           \r\n",
      "Printing pages (6/6)\r\n",
      "[>                                                           ] Preparing\r",
      "[======>                                                     ] Page 1 of 10\r",
      "[============>                                               ] Page 2 of 10\r",
      "[==================>                                         ] Page 3 of 10\r",
      "[========================>                                   ] Page 4 of 10\r",
      "[==============================>                             ] Page 5 of 10\r",
      "[====================================>                       ] Page 6 of 10\r",
      "[==========================================>                 ] Page 7 of 10\r",
      "[================================================>           ] Page 8 of 10\r",
      "[======================================================>     ] Page 9 of 10\r",
      "[============================================================] Page 10 of 10\r",
      "Done                                                                        \r\n"
     ]
    },
    {
     "data": {
      "text/plain": [
       "'HTML_Document_20161221_001.pdf'"
      ]
     },
     "execution_count": 70,
     "metadata": {},
     "output_type": "execute_result"
    }
   ],
   "source": [
    "html_3.to_pdf()"
   ]
  },
  {
   "cell_type": "code",
   "execution_count": 71,
   "metadata": {
    "collapsed": true
   },
   "outputs": [],
   "source": [
    "create_examples_page(r\"Image_Graph_Example_20161201_001.ipynb\")"
   ]
  },
  {
   "cell_type": "code",
   "execution_count": 72,
   "metadata": {
    "collapsed": true
   },
   "outputs": [],
   "source": [
    "html_4=HTMLBase(r\"Image_Graph_Example_20161201_001.html\")"
   ]
  },
  {
   "cell_type": "code",
   "execution_count": 73,
   "metadata": {
    "collapsed": false
   },
   "outputs": [
    {
     "name": "stdout",
     "output_type": "stream",
     "text": [
      "Loading pages (1/6)\r\n",
      "[>                                                           ] 0%\r",
      "[======>                                                     ] 10%\r",
      "[============================>                               ] 48%\r",
      "Warning: Failed to load file:///C:/Users/sandersa/AppData/Local/Temp/1/custom.css (ignore)\r\n",
      "[============================>                               ] 48%\r",
      "[=============================>                              ] 49%\r",
      "[=====================================>                      ] 63%\r",
      "Warning: Failed to load file:///C:/Users/sandersa/AppData/Local/Temp/1/test.png (ignore)\r\n",
      "[=======================================>                    ] 66%\r",
      "[=========================================>                  ] 69%\r",
      "[===========================================>                ] 73%\r",
      "[==============================================>             ] 77%\r",
      "[===============================================>            ] 79%\r",
      "[=================================================>          ] 82%\r",
      "[==================================================>         ] 84%\r",
      "[===================================================>        ] 86%\r",
      "[=====================================================>      ] 89%\r",
      "[============================================================] 100%\r",
      "Counting pages (2/6)                                               \r\n",
      "[============================================================] Object 1 of 1\r",
      "Resolving links (4/6)                                                       \r\n",
      "[============================================================] Object 1 of 1\r",
      "Loading headers and footers (5/6)                                           \r\n",
      "Printing pages (6/6)\r\n",
      "[>                                                           ] Preparing\r",
      "[===>                                                        ] Page 1 of 15\r",
      "[=======>                                                    ] Page 2 of 15\r",
      "[============>                                               ] Page 3 of 15\r",
      "[===============>                                            ] Page 4 of 15\r",
      "[===================>                                        ] Page 5 of 15\r",
      "[========================>                                   ] Page 6 of 15\r",
      "[===========================>                                ] Page 7 of 15\r",
      "[===============================>                            ] Page 8 of 15\r",
      "[====================================>                       ] Page 9 of 15\r",
      "[=======================================>                    ] Page 10 of 15\r",
      "[===========================================>                ] Page 11 of 15\r",
      "[================================================>           ] Page 12 of 15\r",
      "[===================================================>        ] Page 13 of 15\r",
      "[=======================================================>    ] Page 14 of 15\r",
      "Done                                                                        \r\n"
     ]
    },
    {
     "data": {
      "text/plain": [
       "'Image_Graph_Example_20161201_001.pdf'"
      ]
     },
     "execution_count": 73,
     "metadata": {},
     "output_type": "execute_result"
    }
   ],
   "source": [
    "html_4.to_pdf()"
   ]
  },
  {
   "cell_type": "code",
   "execution_count": 74,
   "metadata": {
    "collapsed": true
   },
   "outputs": [],
   "source": [
    "create_help_page('pyMeasure.Code.DataHandlers.XMLModels')"
   ]
  },
  {
   "cell_type": "code",
   "execution_count": null,
   "metadata": {
    "collapsed": true
   },
   "outputs": [],
   "source": []
  }
 ],
 "metadata": {
  "kernelspec": {
   "display_name": "Python 2",
   "language": "python",
   "name": "python2"
  },
  "language_info": {
   "codemirror_mode": {
    "name": "ipython",
    "version": 2
   },
   "file_extension": ".py",
   "mimetype": "text/x-python",
   "name": "python",
   "nbconvert_exporter": "python",
   "pygments_lexer": "ipython2",
   "version": "2.7.13"
  }
 },
 "nbformat": 4,
 "nbformat_minor": 1
}
