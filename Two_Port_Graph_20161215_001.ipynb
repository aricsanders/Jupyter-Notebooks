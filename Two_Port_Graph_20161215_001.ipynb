{
 "cells": [
  {
   "cell_type": "markdown",
   "metadata": {},
   "source": [
    "# Two-port Sparameter Graph"
   ]
  },
  {
   "cell_type": "markdown",
   "metadata": {},
   "source": [
    "## Models that fit into this \n",
    "1. S2P on disk \n",
    "2. SNP / S2PV1 Classes in Touchstone Models\n",
    "3. Jim Booth Format on Disk -> JBSparameter class\n",
    "4. TwoPortNRRawModel and TwoPortRawModel\n",
    "5. S2P on disk in different formats (AsciiDataTable)\n",
    "6. XMLDataTables\n",
    "7. XsltResultString an XslResultFile\n",
    "8. CITI\n",
    "9. VNATools\n",
    "\n",
    "## Issues\n",
    "1. When doing analysis the data must present a uniform format, i.e. units same, values are complex matrix or list\n",
    "2. Header or Metadata is removed for processing\n",
    "3. What is the result of a measurement or the result of a model or simulation\n",
    "\n",
    "## Common Analysis\n",
    "1. form a correction given a series of measured standards (requires more than one measurement, definition and some extra metadata)\n",
    "2. Apply a correction to a uncorrected DUT measurement\n",
    "3. Extract device parameters given the corrected DUT measurement, this assumes DUT fits a model\n",
    "4. Track or form Uncertainty estimates in 1-3\n",
    "\n"
   ]
  },
  {
   "cell_type": "code",
   "execution_count": null,
   "metadata": {
    "collapsed": true
   },
   "outputs": [],
   "source": [
    "graph_options={\"graph_name\":\"Two Port Graph\",\n",
    "                  \"node_names\":[\"S2pFile\",'S2pV1'],\n",
    "                  \"node_descriptions\":[\"S2P file on disk\",\"S2p class in Touchstone.Models\"],\n",
    "                  \"current_node\":'S2pFile'\n",
    "                  \"state\":[1,0],\n",
    "                  \"data\":\"test.s2p\"\n",
    "                  \"edge_2_to_1\":\n",
    "                  \"edge_1_to_2\":lambda x: Image_to_file_type(x,file_path=\"test\",extension=\"png\")}"
   ]
  }
 ],
 "metadata": {
  "kernelspec": {
   "display_name": "Python 2",
   "language": "python",
   "name": "python2"
  },
  "language_info": {
   "codemirror_mode": {
    "name": "ipython",
    "version": 2
   },
   "file_extension": ".py",
   "mimetype": "text/x-python",
   "name": "python",
   "nbconvert_exporter": "python",
   "pygments_lexer": "ipython2",
   "version": "2.7.12"
  }
 },
 "nbformat": 4,
 "nbformat_minor": 1
}
