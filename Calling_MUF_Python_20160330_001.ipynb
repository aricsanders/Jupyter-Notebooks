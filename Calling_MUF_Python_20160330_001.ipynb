{
 "cells": [
  {
   "cell_type": "markdown",
   "metadata": {},
   "source": [
    "# How to use python to call the .net assemblies for the microwave uncertainty framework\n",
    "Written by AWS 03/2016\n",
    "\n",
    "## This requires python (tested in 2.7) and [pythonnet] [pythonnet].\n",
    "\n",
    "[pythonnet]:https://pypi.python.org/pypi/pythonnet\n"
   ]
  },
  {
   "cell_type": "code",
   "execution_count": 1,
   "metadata": {
    "collapsed": false
   },
   "outputs": [
    {
     "ename": "FileNotFoundException",
     "evalue": "Unable to find assembly 'Measurement'.\n   at Python.Runtime.CLRModule.AddReference(String name)",
     "output_type": "error",
     "traceback": [
      "\u001b[1;31m---------------------------------------------------------------------------\u001b[0m",
      "\u001b[1;31mFileNotFoundException\u001b[0m                     Traceback (most recent call last)",
      "\u001b[1;32m<ipython-input-1-1fc0e022f44b>\u001b[0m in \u001b[0;36m<module>\u001b[1;34m()\u001b[0m\n\u001b[0;32m      6\u001b[0m \u001b[0msys\u001b[0m\u001b[1;33m.\u001b[0m\u001b[0mpath\u001b[0m\u001b[1;33m.\u001b[0m\u001b[0mappend\u001b[0m\u001b[1;33m(\u001b[0m\u001b[1;34mr'C:\\Share\\MUF_TEST_FILES\\UncertaintyCalculator\\VNAUncertainty\\bin\\Debug'\u001b[0m\u001b[1;33m)\u001b[0m\u001b[1;33m\u001b[0m\u001b[0m\n\u001b[0;32m      7\u001b[0m \u001b[1;31m# create a reference to them\u001b[0m\u001b[1;33m\u001b[0m\u001b[1;33m\u001b[0m\u001b[0m\n\u001b[1;32m----> 8\u001b[1;33m \u001b[0mclr\u001b[0m\u001b[1;33m.\u001b[0m\u001b[0mAddReference\u001b[0m\u001b[1;33m(\u001b[0m\u001b[1;34m\"Measurement\"\u001b[0m\u001b[1;33m)\u001b[0m\u001b[1;33m\u001b[0m\u001b[0m\n\u001b[0m\u001b[0;32m      9\u001b[0m \u001b[0mclr\u001b[0m\u001b[1;33m.\u001b[0m\u001b[0mAddReference\u001b[0m\u001b[1;33m(\u001b[0m\u001b[1;34m\"VNAUncertainty\"\u001b[0m\u001b[1;33m)\u001b[0m\u001b[1;33m\u001b[0m\u001b[0m\n\u001b[0;32m     10\u001b[0m \u001b[1;31m# Now they can be imported as python libraries\u001b[0m\u001b[1;33m\u001b[0m\u001b[1;33m\u001b[0m\u001b[0m\n",
      "\u001b[1;31mFileNotFoundException\u001b[0m: Unable to find assembly 'Measurement'.\n   at Python.Runtime.CLRModule.AddReference(String name)"
     ]
    }
   ],
   "source": [
    "# import pythonnet \n",
    "import clr\n",
    "# import sys for path\n",
    "import sys\n",
    "# add the file paths to the .net assemblies (either dll or .exe)\n",
    "sys.path.append(r'C:\\Share\\MUF_TEST_FILES\\UncertaintyCalculator\\VNAUncertainty\\bin\\Debug')\n",
    "# create a reference to them\n",
    "clr.AddReference(\"Measurement\")\n",
    "clr.AddReference(\"VNAUncertainty\")\n",
    "# Now they can be imported as python libraries\n",
    "import Measurement\n",
    "import VNAUncertainty\n",
    "# to use them them just call them as normal classes (they are namespaced)\n",
    "new_VNA=VNAUncertainty.VNAUncertainty()\n",
    "# now all of the public methods are given by dir(new_VNA), but for brevity we only call version and name info\n",
    "print new_VNA.get_Name()\n",
    "print new_VNA.CompanyName\n",
    "print new_VNA.Handle\n",
    "print \"*\"*80\n",
    "# Works for all of the assemblies in the folders added\n",
    "new_measurement=Measurement.Measurement()\n",
    "print new_measurement.get_Name()\n",
    "print new_measurement.CompanyName\n",
    "print new_measurement.Handle\n",
    "new_measurement.Finalize()\n",
    "new_VNA.Finalize()"
   ]
  },
  {
   "cell_type": "code",
   "execution_count": null,
   "metadata": {
    "collapsed": true
   },
   "outputs": [],
   "source": []
  }
 ],
 "metadata": {
  "kernelspec": {
   "display_name": "Python 2",
   "language": "python",
   "name": "python2"
  },
  "language_info": {
   "codemirror_mode": {
    "name": "ipython",
    "version": 2
   },
   "file_extension": ".py",
   "mimetype": "text/x-python",
   "name": "python",
   "nbconvert_exporter": "python",
   "pygments_lexer": "ipython2",
   "version": "2.7.11"
  }
 },
 "nbformat": 4,
 "nbformat_minor": 0
}
