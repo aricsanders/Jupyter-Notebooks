{
 "cells": [
  {
   "cell_type": "markdown",
   "metadata": {},
   "source": [
    "# How to use python to call the .net assemblies for the microwave uncertainty framework\n",
    "Written by AWS 03/2016\n",
    "\n",
    "## This requires python (tested in 2.7) and [pythonnet] [pythonnet].\n",
    "\n",
    "[pythonnet]:https://pypi.python.org/pypi/pythonnet\n"
   ]
  },
  {
   "cell_type": "code",
   "execution_count": 3,
   "metadata": {
    "collapsed": false
   },
   "outputs": [
    {
     "name": "stdout",
     "output_type": "stream",
     "text": [
      "VNAUncertainty\n",
      "Nat. Institute Standards and Technology\n",
      "396876\n",
      "********************************************************************************\n",
      "Measurement\n",
      "Nat. Institute Standards and Technology\n",
      "656610\n"
     ]
    }
   ],
   "source": [
    "# import pythonnet \n",
    "import clr\n",
    "# import sys for path\n",
    "import sys\n",
    "# add the file paths to the .net assemblies (either dll or .exe)\n",
    "sys.path.append(r'C:\\Share\\MUF_TEST_FILES\\UncertaintyCalculator\\VNAUncertainty\\bin\\Debug')\n",
    "# create a reference to them\n",
    "clr.AddReference(\"Measurement\")\n",
    "clr.AddReference(\"VNAUncertainty\")\n",
    "# Now they can be imported as python libraries\n",
    "import Measurement\n",
    "import VNAUncertainty\n",
    "# to use them them just call them as normal classes (they are namespaced)\n",
    "new_VNA=VNAUncertainty.VNAUncertainty()\n",
    "# now all of the public methods are given by dir(new_VNA), but for brevity we only call version and name info\n",
    "print new_VNA.get_Name()\n",
    "print new_VNA.CompanyName\n",
    "print new_VNA.Handle\n",
    "print \"*\"*80\n",
    "# Works for all of the assemblies in the folders added\n",
    "new_measurement=Measurement.Measurement()\n",
    "print new_measurement.get_Name()\n",
    "print new_measurement.CompanyName\n",
    "print new_measurement.Handle\n",
    "new_measurement.Finalize()\n",
    "new_VNA.Finalize()"
   ]
  }
 ],
 "metadata": {
  "kernelspec": {
   "display_name": "Python 2",
   "language": "python",
   "name": "python2"
  },
  "language_info": {
   "codemirror_mode": {
    "name": "ipython",
    "version": 2
   },
   "file_extension": ".py",
   "mimetype": "text/x-python",
   "name": "python",
   "nbconvert_exporter": "python",
   "pygments_lexer": "ipython2",
   "version": "2.7.11"
  }
 },
 "nbformat": 4,
 "nbformat_minor": 0
}
