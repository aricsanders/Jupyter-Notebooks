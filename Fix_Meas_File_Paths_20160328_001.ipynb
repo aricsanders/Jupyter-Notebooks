{
 "cells": [
  {
   "cell_type": "code",
   "execution_count": 1,
   "metadata": {
    "collapsed": false
   },
   "outputs": [
    {
     "name": "stdout",
     "output_type": "stream",
     "text": [
      "['dcal17j_Cs_g10_HF.meas', 'dcal17j_L1_g10_HF.meas', 'dcal17j_L2_g10_HF.meas', 'dcal17j_L3_g10_HF.meas', 'dcal17j_L4_g10_HF.meas', 'dcal17j_L5_g10_HF.meas', 'dcal17j_L6_g10_HF.meas', 'dcal17j_L7_g10_HF.meas', 'dcal17j_Rs_g10_HF.meas', 'dcal17j_S1_g10_HF.meas']\n"
     ]
    }
   ],
   "source": [
    "import os\n",
    "import fnmatch\n",
    "home_directory=r'C:\\Share\\Calibrated Meas Files\\CalEng_LS_vnauncert_Results\\DUTs'\n",
    "old_directory='Z:\\\\CTL Projects\\\\S-parameters\\\\MUF Calibration kits\\\\Series resistor cal\\\\CalEng_LS_vnauncert_Results\\\\DUTs'\n",
    "file_names=os.listdir(home_directory)\n",
    "file_names=fnmatch.filter(file_names,'*.meas')\n",
    "print file_names"
   ]
  },
  {
   "cell_type": "code",
   "execution_count": 46,
   "metadata": {
    "collapsed": false
   },
   "outputs": [
    {
     "name": "stdout",
     "output_type": "stream",
     "text": [
      "['dcal17j_Cs_g10_HF.meas', 'dcal17j_L1_g10_HF.meas', 'dcal17j_L2_g10_HF.meas', 'dcal17j_L3_g10_HF.meas', 'dcal17j_L4_g10_HF.meas', 'dcal17j_L5_g10_HF.meas', 'dcal17j_L6_g10_HF.meas', 'dcal17j_L7_g10_HF.meas', 'dcal17j_Rs_g10_HF.meas', 'dcal17j_S1_g10_HF.meas']\n",
      "dcal17j_Cs_g10_HF.meas\n",
      "dcal17j_L1_g10_HF.meas\n",
      "dcal17j_L2_g10_HF.meas\n",
      "dcal17j_L3_g10_HF.meas\n",
      "dcal17j_L4_g10_HF.meas\n",
      "dcal17j_L5_g10_HF.meas\n",
      "dcal17j_L6_g10_HF.meas\n",
      "dcal17j_L7_g10_HF.meas\n",
      "dcal17j_Rs_g10_HF.meas\n",
      "dcal17j_S1_g10_HF.meas\n"
     ]
    }
   ],
   "source": [
    "import os\n",
    "import fnmatch\n",
    "home_directory=r'C:\\Share\\Calibrated Meas Files'\n",
    "old_directory=r'C:\\share\\Calibrated Meas Files'\n",
    "file_names=os.listdir(home_directory)\n",
    "file_names=fnmatch.filter(file_names,'*.meas')\n",
    "print file_names\n",
    "os.chdir(home_directory)\n",
    "for file in file_names:\n",
    "    in_file=open(file,'r')\n",
    "    lines=[]\n",
    "    for line in in_file:\n",
    "        lines.append(line)\n",
    "    lines=[line.replace(old_directory,\".\") for line in lines]\n",
    "    #contents=in_file.read()\n",
    "    #print contents\n",
    "    #in_file.close()\n",
    "    #contents.replace(old_directory,home_directory)\n",
    "    #print contents\n",
    "    out_file=open(file,'w')\n",
    "    for line in lines:\n",
    "        out_file.write(line)\n",
    "    out_file.close()\n",
    "    print file"
   ]
  },
  {
   "cell_type": "code",
   "execution_count": 2,
   "metadata": {
    "collapsed": false
   },
   "outputs": [
    {
     "name": "stdout",
     "output_type": "stream",
     "text": [
      "dcal17j_Cs_g10_HF.meas\n",
      "dcal17j_L1_g10_HF.meas\n",
      "dcal17j_L2_g10_HF.meas\n",
      "dcal17j_L3_g10_HF.meas\n",
      "dcal17j_L4_g10_HF.meas\n",
      "dcal17j_L5_g10_HF.meas\n",
      "dcal17j_L6_g10_HF.meas\n",
      "dcal17j_L7_g10_HF.meas\n",
      "dcal17j_Rs_g10_HF.meas\n",
      "dcal17j_S1_g10_HF.meas\n"
     ]
    }
   ],
   "source": [
    "os.chdir(home_directory)\n",
    "for file in file_names:\n",
    "    in_file=open(file,'r')\n",
    "    lines=[]\n",
    "    for line in in_file:\n",
    "        lines.append(line)\n",
    "    lines=[line.replace(old_directory,home_directory) for line in lines]\n",
    "    #contents=in_file.read()\n",
    "    #print contents\n",
    "    #in_file.close()\n",
    "    #contents.replace(old_directory,home_directory)\n",
    "    #print contents\n",
    "    out_file=open(file,'w')\n",
    "    for line in lines:\n",
    "        out_file.write(line)\n",
    "    out_file.close()\n",
    "    print file"
   ]
  },
  {
   "cell_type": "code",
   "execution_count": null,
   "metadata": {
    "collapsed": true
   },
   "outputs": [],
   "source": [
    "\n",
    "import os\n",
    "import re\n",
    "import fnmatch\n",
    "MUF_FILE_EXTENSIONS=[\"vnauncert\",\"vnauncert_archive\",\"meas\",\"model\",\"parameter\"]\n",
    "DIRECTORY_MATCH='[.]+File=\"'\n",
    "def meas_paths_to_relative(home_directory=None):\n",
    "    \"\"\"Given a directory opens all the associated meas files and makes the paths relative ones based \n",
    "    on standard path structures\"\"\"\n",
    "    file_names=os.listdir(home_directory)\n",
    "    file_names=fnmatch.filter(file_names,'*.meas')\n",
    "    os.chdir(home_directory)\n",
    "    for file in file_names:\n",
    "        in_file=open(file,'r')\n",
    "        lines=[]\n",
    "        for line in in_file:\n",
    "            lines.append(line)\n",
    "        #Now we locate the current directory by looking for the match to \n",
    "        \n",
    "        lines=[line.replace(old_directory,'.') for line in lines]\n",
    "        #contents=in_file.read()\n",
    "        #print contents\n",
    "        #in_file.close()\n",
    "        #contents.replace(old_directory,home_directory)\n",
    "        #print contents\n",
    "        out_file=open(file,'w')\n",
    "        for line in lines:\n",
    "            out_file.write(line)\n",
    "        out_file.close()\n"
   ]
  },
  {
   "cell_type": "code",
   "execution_count": 11,
   "metadata": {
    "collapsed": false
   },
   "outputs": [
    {
     "name": "stdout",
     "output_type": "stream",
     "text": [
      "[.+]FileName\\=\\\"(?P<directory>\\w+)\\{0}\"[.+]\n",
      "[.+]FileName\\=\\\"(?P<directory>\\w+)\\Solution.meas\"[.+]\n"
     ]
    }
   ],
   "source": [
    "import re\n",
    "test_string=r'<CorrectedMeasurement FileName=\"C:\\share\\SOL\\Solution.meas\"'\n",
    "file_name='Solution.meas'\n",
    "directory_pattern=\"[.+]\"+re.escape(r'FileName=\"')+\"(?P<directory>\\w+)\"+\"\\\\\"+'{0}\\\"'+\"[.+]\"\n",
    "print directory_pattern\n",
    "directory_pattern=directory_pattern.format(file_name)\n",
    "print directory_pattern\n",
    "match=re.match(directory_pattern,test_string)\n",
    "if match:\n",
    "    print match.groupdict()['directory']"
   ]
  },
  {
   "cell_type": "code",
   "execution_count": 39,
   "metadata": {
    "collapsed": false
   },
   "outputs": [
    {
     "name": "stdout",
     "output_type": "stream",
     "text": [
      "C:\\share\\SOL\n",
      "<CorrectedMeasurement FileName=\".\\Solution.meas\" CreationTime=\"4/1/2016 9:26:27 AM\" AssemblyVersion=\"1.0.1.20267\" UserName=\"sandersa\">\n"
     ]
    }
   ],
   "source": [
    "test_string=r'<CorrectedMeasurement FileName=\"C:\\share\\SOL\\Solution.meas\" CreationTime=\"4/1/2016 9:26:27 AM\" AssemblyVersion=\"1.0.1.20267\" UserName=\"sandersa\">'\n",
    "#test_string=r'<CorrectedMeasurement FileName=Solution.meas'\n",
    "file_name='Solution.meas'\n",
    "directory_pattern=r'^.+FileName=\"(?P<directory>.+)\\\\'+re.escape(file_name)+'.+$'\n",
    "\n",
    "match=re.match(directory_pattern,test_string)\n",
    "if match:\n",
    "    print match.groupdict()['directory']\n",
    "    directory=match.groupdict()['directory']\n",
    "    print re.sub(re.escape(directory),\".\",test_string)"
   ]
  },
  {
   "cell_type": "code",
   "execution_count": null,
   "metadata": {
    "collapsed": true
   },
   "outputs": [],
   "source": []
  }
 ],
 "metadata": {
  "kernelspec": {
   "display_name": "Python 2",
   "language": "python",
   "name": "python2"
  },
  "language_info": {
   "codemirror_mode": {
    "name": "ipython",
    "version": 2
   },
   "file_extension": ".py",
   "mimetype": "text/x-python",
   "name": "python",
   "nbconvert_exporter": "python",
   "pygments_lexer": "ipython2",
   "version": "2.7.11"
  }
 },
 "nbformat": 4,
 "nbformat_minor": 0
}
