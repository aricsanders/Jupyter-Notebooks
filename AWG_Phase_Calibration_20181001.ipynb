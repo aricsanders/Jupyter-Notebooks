{
 "cells": [
  {
   "cell_type": "markdown",
   "metadata": {},
   "source": [
    "# AWG Phase Calibration\n",
    "The goal of this experiment is to demonstrate phase calibration of a VNA on an arbitrary frequency grid using a arbitrary waveform generator. We do this by creating a phase reference signal on one port (port 4), and a series of sine waves on port 1. We then measure those sine waves with a calibrated oscilloscope.   "
   ]
  },
  {
   "cell_type": "markdown",
   "metadata": {},
   "source": [
    "## Imports"
   ]
  },
  {
   "cell_type": "code",
   "execution_count": 1,
   "metadata": {
    "collapsed": false
   },
   "outputs": [
    {
     "name": "stdout",
     "output_type": "stream",
     "text": [
      "Importing pyMez, this should take roughly 30 seconds\n",
      "Importing Code.DataHandlers.GeneralModels\n",
      "It took 3.305 s to import Code.DataHandlers.GeneralModels\n",
      "Importing Code.DataHandlers.HTMLModels\n",
      "It took 0.484 s to import Code.DataHandlers.HTMLModels\n",
      "Importing Code.DataHandlers.NISTModels\n",
      "It took 12.402 s to import Code.DataHandlers.NISTModels\n",
      "Importing Code.DataHandlers.TouchstoneModels\n",
      "It took 0.008 s to import Code.DataHandlers.TouchstoneModels\n",
      "Importing Code.DataHandlers.XMLModels\n",
      "It took 0.255 s to import Code.DataHandlers.XMLModels\n",
      "Importing Code.DataHandlers.ZipModels\n",
      "It took 0.034 s to import Code.DataHandlers.ZipModels\n",
      "Importing Code.InstrumentControl.Experiments\n",
      "It took 1.333 s to import Code.InstrumentControl.Experiments\n",
      "Importing Code.InstrumentControl.Instruments\n",
      "It took 0.014 s to import Code.InstrumentControl.Instruments\n",
      "Importing Code.Utils.Names\n",
      "It took 0.01 s to import Code.Utils.Names\n",
      "It took 17.846 s to import all of the active modules\n"
     ]
    }
   ],
   "source": [
    "# import the pyMez packages default API\n",
    "from pyMez import *\n",
    "# import the Fitting module for Signal Generation and Fitting, note the namespace Code.Analysis.Fitting also works\n",
    "from pyMez.Code.Analysis.Fitting import *"
   ]
  },
  {
   "cell_type": "markdown",
   "metadata": {},
   "source": [
    "## Global Variable Declaration \n",
    "This experiment involves the PSG, VNA, AWG,power meter, Scope and 2 combs. The addresses of the instruments and the top level data directory are assumed to be fixed throughout the course of the experiment. "
   ]
  },
  {
   "cell_type": "code",
   "execution_count": 2,
   "metadata": {
    "collapsed": true
   },
   "outputs": [],
   "source": [
    "# none of these instruments have xml instrument sheets, need to add them\n",
    "psg_address=\"GPIB0::19\"\n",
    "vna_address=\"GPIB0::16\"\n",
    "awg_address=\"GPIB::10\"\n",
    "scope_address=\"GPIB::7\"\n",
    "pm_address=\"GPIB::13\"\n",
    "# this is local to the computer taking the data, the data should be copied to Q:\\public\\Aric\\AWG_Phase_Calibration_20180927\n",
    "data_directory=r'C:\\Share\\AWG_Phase_Calibration_20181001'\n"
   ]
  },
  {
   "cell_type": "code",
   "execution_count": 70,
   "metadata": {
    "collapsed": false
   },
   "outputs": [],
   "source": [
    "# Experimental variables\n",
    "\n",
    "# the psg frequency acts as the master clock\n",
    "psg_amplitude=12. #psg amplitude in dBm\n",
    "psg_frequency=10.*10.**9 # 10 GHz\n",
    "time_step=1./psg_frequency # time step for the awg\n",
    "\n",
    "# Calculation of the frequency grid of interest\n",
    "fundamental_frequency = 1.*10.**9 # Center of the passband or fundemental frequency in Hz\n",
    "number_tones = 7 # Number of tones in the modulation bandwidth including the fundamental, should be odd\n",
    "tone_spacing = 2.5*10**6 # Spacing of each tone. Combs can do 10 Mhz, 5 MHz, 2.5 MHz, 1.25 MHz and .625 MHz\n",
    "number_harmonics = 1 # Number of harmonics to use. The frequency grid will be n*(f-df), n*f, n*(f+df), etc\n",
    "# now calculate the frequency_list\n",
    "frequency_list=[]\n",
    "for harmonic in range(number_harmonics):\n",
    "    frequency_array=np.linspace((harmonic+1)*(fundamental_frequency-tone_spacing*(number_tones-1)/2),\n",
    "                                (harmonic+1)*(fundamental_frequency+tone_spacing*(number_tones-1)/2),number_tones)\n",
    "    frequency_list=frequency_list+frequency_array.tolist()\n",
    "multisine_phase=\"zero\"\n",
    "#multisine_phase=\"schroeder\"\n",
    "number_envelopes=10.\n",
    "time_max=number_envelopes/tone_spacing\n",
    "number_time_points=int(round(time_max/time_step))+1\n",
    "round_multisine_before_writing=True # Rounds the multisine to a desired bitdepth before writing to AWG\n",
    "bit_depth=8\n",
    "waveform_name=\"Calibration_Phase_Reference\""
   ]
  },
  {
   "cell_type": "code",
   "execution_count": 51,
   "metadata": {
    "collapsed": false
   },
   "outputs": [
    {
     "data": {
      "text/plain": [
       "[992500000.0,\n",
       " 995000000.0,\n",
       " 997500000.0,\n",
       " 1000000000.0,\n",
       " 1002500000.0,\n",
       " 1005000000.0,\n",
       " 1007500000.0]"
      ]
     },
     "execution_count": 51,
     "metadata": {},
     "output_type": "execute_result"
    }
   ],
   "source": [
    "frequency_list"
   ]
  },
  {
   "cell_type": "markdown",
   "metadata": {},
   "source": [
    "## Instrument Control Verification\n",
    "This verifies that the instruments are attached and responding properly"
   ]
  },
  {
   "cell_type": "code",
   "execution_count": null,
   "metadata": {
    "collapsed": true
   },
   "outputs": [],
   "source": [
    "whos_there()"
   ]
  },
  {
   "cell_type": "markdown",
   "metadata": {},
   "source": [
    "## PSG Setup\n",
    "The PSG is a vector signal generator manufactured by Agilent (model number 8267D). It is directly used as the clock for the AWG and inputs for IQ on the oscilloscope. It has to remain at the specified frequency for the duration of the experiment. In the first attempts we are using a 10 GHz sine wave with an amplitude of 12 dBm."
   ]
  },
  {
   "cell_type": "code",
   "execution_count": null,
   "metadata": {
    "collapsed": true
   },
   "outputs": [],
   "source": [
    "# first intialize a class to talk with the psg\n",
    "psg=VisaInstrument(psg_address)\n",
    "# verify that it is properly connected\n",
    "print(\"The psg IDN is {0}\".format(psg.query(\"*IDN?\")))\n",
    "# Make sure the mode is CW\n",
    "print(\"The psg is in the {0} mode\".format(psg.query(\"FREQ:MODE?\")))"
   ]
  },
  {
   "cell_type": "code",
   "execution_count": 4,
   "metadata": {
    "collapsed": true
   },
   "outputs": [],
   "source": []
  },
  {
   "cell_type": "code",
   "execution_count": null,
   "metadata": {
    "collapsed": true
   },
   "outputs": [],
   "source": [
    "# Only run this if the PSG was not already setup using the front panel\n",
    "# This can be done in a single step if there is a saved xml state by using psg.load_state(path_to_xml_state)\n",
    "# set the psg mode\n",
    "psg.write(\"FREQ:MODE CW\")\n",
    "# set the amplitude\n",
    "psg.write(\"POW:AMPL {0}\".format(psg_amplitude))\n",
    "# set the frequency\n",
    "psg.write(\"FREQ:CW {0}\".format(psg_frequency))\n",
    "# turn the output on\n",
    "psg.write(\"OUTP 1\")"
   ]
  },
  {
   "cell_type": "code",
   "execution_count": null,
   "metadata": {
    "collapsed": true
   },
   "outputs": [],
   "source": [
    "# Now get the state and save it\n",
    "# We can do this one at a time or all at once\n",
    "psg_state_name=auto_name(directory=data_directory,specific_descriptor=\"psg\",general_descriptor=\"state\",extension=\"xml\")\n",
    "psg_state_query_dictionary={\"FREQ:MODE\":\"FREQ:MODE?\",\"POW:AMPL\":\"POW:AMPL?\",\"FREQ:CW\":\"FREQ:CW?\",\"OUTP\":\"OUTP?\"}\n",
    "psg_state=psg.get_state(psg_state_query_dictionary)\n",
    "state_path=os.path.join(data_directory,psg_state_name)\n",
    "psg.save_state(state_path=state_path,psg_state)"
   ]
  },
  {
   "cell_type": "markdown",
   "metadata": {},
   "source": [
    "## AWG setup\n",
    "Now that the PSG or master clock has been set up we must now setup the AWG (Tektronix Model AWG67122B). First we calculate the multi-sine used as a reference on port 4 of the VNA. It should contain all of the frequency components we expect to measure during the course of the experiment. The number of points required to faithfully represent this signal depends on the frequency grid and the master clock frequency set by the PSG. The length of the waveform chunk to be written is limited to 650 M Bytes where data written in Real format takes up 5 bytes. The fifth byte is the marker data."
   ]
  },
  {
   "cell_type": "code",
   "execution_count": 71,
   "metadata": {
    "collapsed": false
   },
   "outputs": [],
   "source": [
    "# first create the multisine\n",
    "sine_function=FunctionalModel(parameters=[\"f\",\"phi\"],variables=[\"t\"],equation=\"sin(2*pi*f*t+phi)\")\n",
    "time_list=np.linspace(0,time_max,number_time_points)\n",
    "\n",
    "# calculate the phases \n",
    "phase_list = [0 for i in range(len(frequency_list))]\n",
    "if re.search(\"sch\",multisine_phase,re.IGNORECASE):\n",
    "    phase_list=[]\n",
    "    for frequency_index,frequency in enumerate(frequency_list):\n",
    "        k=(frequency_index+1)%number_tones\n",
    "        schroeder_phase=-k*(k-1)*np.pi/number_tones\n",
    "        phase_list.append(schroeder_phase)\n",
    "# initialize multisine to a set of zeros\n",
    "multisine=np.array([0 for i in range(number_time_points)])\n",
    "# add each component\n",
    "for frequency_index,frequency in enumerate(frequency_list):\n",
    "    sine_function.set_parameters({\"f\":frequency,\"phi\":phase_list[frequency_index]})\n",
    "    multisine_component=sine_function(time_list)\n",
    "    multisine=multisine+multisine_component\n",
    "    \n",
    "# substract the mean\n",
    "# multisine=multisine-np.mean(multisine)\n",
    "# normalize the multisine\n",
    "multisine=1/max(multisine)*multisine\n",
    "\n",
    "# round the multisine to the nearest bitdepth before writing\n",
    "if round_multisine_before_writing:\n",
    "    discrete_steps=np.linspace(min(multisine),max(multisine),2**bit_depth)\n",
    "    rounded_multisine=[]\n",
    "    for value in multisine:\n",
    "        difference_array=abs(discrete_steps-value)\n",
    "        minimum_location=np.argmin(difference_array)\n",
    "        rounded_multisine.append(discrete_steps[minimum_location])\n",
    "    multisine=rounded_multisine"
   ]
  },
  {
   "cell_type": "markdown",
   "metadata": {},
   "source": [
    "## Verify the Multisine before writing to the AWG"
   ]
  },
  {
   "cell_type": "code",
   "execution_count": 72,
   "metadata": {
    "collapsed": false
   },
   "outputs": [
    {
     "name": "stdout",
     "output_type": "stream",
     "text": [
      "Mean Value : 0.00063792522753\n",
      "Length of Waveform: 40001\n"
     ]
    },
    {
     "data": {
      "image/png": "[encoded data removed]",
      "text/plain": [
       "<matplotlib.figure.Figure at 0xd7c8278>"
      ]
     },
     "metadata": {},
     "output_type": "display_data"
    }
   ],
   "source": [
    "# Time Domain Plot\n",
    "plt.plot(time_list,multisine,label=\"Multisine\")\n",
    "plt.xlabel(\"Time (s)\")\n",
    "plt.ylabel(\"Amplitude (arb)\")\n",
    "plt.title(\"Reference Multisine\")\n",
    "print(\"Mean Value : {0}\".format(np.mean(multisine)))\n",
    "print(\"Length of Waveform: {0}\".format(len(multisine)))\n",
    "plt.show()"
   ]
  },
  {
   "cell_type": "code",
   "execution_count": 73,
   "metadata": {
    "collapsed": false
   },
   "outputs": [
    {
     "data": {
      "image/png": "[encoded data removed]",
      "text/plain": [
       "<matplotlib.figure.Figure at 0xe3047f0>"
      ]
     },
     "metadata": {},
     "output_type": "display_data"
    }
   ],
   "source": [
    "# Power Spectrum\n",
    "plt.close()\n",
    "multisine_fft=np.fft.fft(multisine)\n",
    "fft_frequency_list=np.linspace(0,1/(2*time_step),number_time_points//2)\n",
    "plt.plot(fft_frequency_list,abs(multisine_fft[0:number_time_points//2]))\n",
    "plt.xlabel(\"Frequency\")\n",
    "plt.ylabel(\"Intensity (arb)\")\n",
    "plt.title(\"Reference Multisine FFT\")\n",
    "plt.xlim([min(frequency_list)-2*tone_spacing,max(frequency_list)+2*tone_spacing])\n",
    "plt.show()"
   ]
  },
  {
   "cell_type": "markdown",
   "metadata": {},
   "source": [
    "## Write Measurement Phase Reference to the AWG"
   ]
  },
  {
   "cell_type": "code",
   "execution_count": null,
   "metadata": {
    "collapsed": true
   },
   "outputs": [],
   "source": [
    "# create a control class for the awg\n",
    "awg=VisaInstrument(awg_address)\n",
    "# verify it is connected and working properly\n",
    "awg.query(\"*IDN?\")"
   ]
  },
  {
   "cell_type": "code",
   "execution_count": null,
   "metadata": {
    "collapsed": true
   },
   "outputs": [],
   "source": [
    "# turn AWG's output 1 OFF\n",
    "awg.write(':OUTPUT2:STATE OFF')\n",
    "# wait...\n",
    "time.sleep(0.1)\n",
    "# UNRUN state\n",
    "awg.write('AWGCONTROL:STOP')\n",
    "# wait...\n",
    "time.sleep(0.5)\n",
    "\n",
    "# delete any older waveform with the same name\n",
    "awg.write('WLISt:WAVeform:DELete \"{0}\"'.format(waveform_name))\n",
    "time.sleep(0.05)\n",
    "\n",
    "# create new waveform\n",
    "awg.write('WLISt:WAVeform:NEW \"{0}\", {1}, INT'.format(waveform_name,len(multisine)))\n",
    "# download data\n",
    "awg.write_binary_values('WLISt:WAVeform:DATA \"{0}\",'.format(waveform_name), multisine, datatype='H', is_big_endian=False)\n",
    "time.sleep(0.1)\n",
    "# assign new waveform to channel 1\n",
    "awg.write('SOURce1:WAVeform \"{0}\"'.format(waveform_name))\n",
    "\n",
    "# check for errors\n",
    "error_str = awg.query('SYSTEM:ERROR:NEXT?')\n",
    "# wait...\n",
    "time.sleep(0.1)\n",
    "# AWG on RUN state\n",
    "awg.write('AWGCONTROL:RUN')\n",
    "# wait...\n",
    "time.sleep(0.5)\n",
    "# check if there is any errors on AWG's buffer\n",
    "error_str = awg.query('SYSTEM:ERROR:NEXT?')\n",
    "if error_str == '0,\"No error\"\\n':\n",
    "    # turn AWG's output 1 OFF\n",
    "    awg.write(':OUTPUT2:STATE ON')\n"
   ]
  }
 ],
 "metadata": {
  "kernelspec": {
   "display_name": "Python 2",
   "language": "python",
   "name": "python2"
  },
  "language_info": {
   "codemirror_mode": {
    "name": "ipython",
    "version": 2
   },
   "file_extension": ".py",
   "mimetype": "text/x-python",
   "name": "python",
   "nbconvert_exporter": "python",
   "pygments_lexer": "ipython2",
   "version": "2.7.13"
  }
 },
 "nbformat": 4,
 "nbformat_minor": 2
}
