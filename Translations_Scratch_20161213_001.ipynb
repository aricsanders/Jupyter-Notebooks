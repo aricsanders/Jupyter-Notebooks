{
 "cells": [
  {
   "cell_type": "code",
   "execution_count": 1,
   "metadata": {
    "collapsed": false
   },
   "outputs": [
    {
     "name": "stdout",
     "output_type": "stream",
     "text": [
      "Importing Code.Utils.Names\n",
      "Importing Code.DataHandlers.NISTModels\n",
      "Importing Code.DataHandlers.GeneralModels\n",
      "Importing Code.DataHandlers.TouchstoneModels\n",
      "Importing Code.DataHandlers.XMLModels\n",
      "Importing Code.DataHandlers.RadiCALModels\n",
      "Importing Code.DataHandlers.ZipModels\n",
      "Importing Code.DataHandlers.Translations\n",
      "Importing Code.DataHandlers.StatistiCALModels\n",
      "Importing Code.DataHandlers.MUFModels\n",
      "Importing Code.Analysis.SParameter\n",
      "Importing Code.InstrumentControl.Instruments\n",
      "Importing Code.InstrumentControl.Experiments\n"
     ]
    }
   ],
   "source": [
    "from pyMeasure import *\n",
    "import pdfkit"
   ]
  },
  {
   "cell_type": "code",
   "execution_count": 2,
   "metadata": {
    "collapsed": false
   },
   "outputs": [
    {
     "ename": "IOError",
     "evalue": "No wkhtmltopdf executable found: \"\"\nIf this file exists please check that this process can read it. Otherwise please install wkhtmltopdf - https://github.com/JazzCore/python-pdfkit/wiki/Installing-wkhtmltopdf",
     "output_type": "error",
     "traceback": [
      "\u001b[1;31m---------------------------------------------------------------------------\u001b[0m",
      "\u001b[1;31mIOError\u001b[0m                                   Traceback (most recent call last)",
      "\u001b[1;32m<ipython-input-2-40c1fffa2d83>\u001b[0m in \u001b[0;36m<module>\u001b[1;34m()\u001b[0m\n\u001b[1;32m----> 1\u001b[1;33m \u001b[0mpdfkit\u001b[0m\u001b[1;33m.\u001b[0m\u001b[0mfrom_file\u001b[0m\u001b[1;33m(\u001b[0m\u001b[0mos\u001b[0m\u001b[1;33m.\u001b[0m\u001b[0mpath\u001b[0m\u001b[1;33m.\u001b[0m\u001b[0mjoin\u001b[0m\u001b[1;33m(\u001b[0m\u001b[0mTESTS_DIRECTORY\u001b[0m\u001b[1;33m,\u001b[0m\u001b[1;34m\"One_Port_Sparameter_20160307_001.html\"\u001b[0m\u001b[1;33m)\u001b[0m\u001b[1;33m,\u001b[0m\u001b[1;34m\"test.pdf\"\u001b[0m\u001b[1;33m)\u001b[0m\u001b[1;33m\u001b[0m\u001b[0m\n\u001b[0m",
      "\u001b[1;32mC:\\Anaconda2\\lib\\site-packages\\pdfkit\\api.pyc\u001b[0m in \u001b[0;36mfrom_file\u001b[1;34m(input, output_path, options, toc, cover, css, configuration)\u001b[0m\n\u001b[0;32m     42\u001b[0m \u001b[1;33m\u001b[0m\u001b[0m\n\u001b[0;32m     43\u001b[0m     r = PDFKit(input, 'file', options=options, toc=toc, cover=cover, css=css,\n\u001b[1;32m---> 44\u001b[1;33m                configuration=configuration)\n\u001b[0m\u001b[0;32m     45\u001b[0m \u001b[1;33m\u001b[0m\u001b[0m\n\u001b[0;32m     46\u001b[0m     \u001b[1;32mreturn\u001b[0m \u001b[0mr\u001b[0m\u001b[1;33m.\u001b[0m\u001b[0mto_pdf\u001b[0m\u001b[1;33m(\u001b[0m\u001b[0moutput_path\u001b[0m\u001b[1;33m)\u001b[0m\u001b[1;33m\u001b[0m\u001b[0m\n",
      "\u001b[1;32mC:\\Anaconda2\\lib\\site-packages\\pdfkit\\pdfkit.pyc\u001b[0m in \u001b[0;36m__init__\u001b[1;34m(self, url_or_file, type_, options, toc, cover, css, configuration)\u001b[0m\n\u001b[0;32m     36\u001b[0m \u001b[1;33m\u001b[0m\u001b[0m\n\u001b[0;32m     37\u001b[0m         \u001b[0mself\u001b[0m\u001b[1;33m.\u001b[0m\u001b[0msource\u001b[0m \u001b[1;33m=\u001b[0m \u001b[0mSource\u001b[0m\u001b[1;33m(\u001b[0m\u001b[0murl_or_file\u001b[0m\u001b[1;33m,\u001b[0m \u001b[0mtype_\u001b[0m\u001b[1;33m)\u001b[0m\u001b[1;33m\u001b[0m\u001b[0m\n\u001b[1;32m---> 38\u001b[1;33m         self.configuration = (Configuration() if configuration is None\n\u001b[0m\u001b[0;32m     39\u001b[0m                               else configuration)\n\u001b[0;32m     40\u001b[0m         \u001b[0mself\u001b[0m\u001b[1;33m.\u001b[0m\u001b[0mwkhtmltopdf\u001b[0m \u001b[1;33m=\u001b[0m \u001b[0mself\u001b[0m\u001b[1;33m.\u001b[0m\u001b[0mconfiguration\u001b[0m\u001b[1;33m.\u001b[0m\u001b[0mwkhtmltopdf\u001b[0m\u001b[1;33m.\u001b[0m\u001b[0mdecode\u001b[0m\u001b[1;33m(\u001b[0m\u001b[1;34m'utf-8'\u001b[0m\u001b[1;33m)\u001b[0m\u001b[1;33m\u001b[0m\u001b[0m\n",
      "\u001b[1;32mC:\\Anaconda2\\lib\\site-packages\\pdfkit\\configuration.pyc\u001b[0m in \u001b[0;36m__init__\u001b[1;34m(self, wkhtmltopdf, meta_tag_prefix)\u001b[0m\n\u001b[0;32m     25\u001b[0m                           \u001b[1;34m'If this file exists please check that this process can '\u001b[0m\u001b[1;33m\u001b[0m\u001b[0m\n\u001b[0;32m     26\u001b[0m                           \u001b[1;34m'read it. Otherwise please install wkhtmltopdf - '\u001b[0m\u001b[1;33m\u001b[0m\u001b[0m\n\u001b[1;32m---> 27\u001b[1;33m                           'https://github.com/JazzCore/python-pdfkit/wiki/Installing-wkhtmltopdf' % self.wkhtmltopdf)\n\u001b[0m",
      "\u001b[1;31mIOError\u001b[0m: No wkhtmltopdf executable found: \"\"\nIf this file exists please check that this process can read it. Otherwise please install wkhtmltopdf - https://github.com/JazzCore/python-pdfkit/wiki/Installing-wkhtmltopdf"
     ]
    }
   ],
   "source": [
    "pdfkit.from_file(os.path.join(TESTS_DIRECTORY,\"One_Port_Sparameter_20160307_001.html\"),\"test.pdf\")"
   ]
  },
  {
   "cell_type": "code",
   "execution_count": 10,
   "metadata": {
    "collapsed": false
   },
   "outputs": [],
   "source": [
    "import os\n",
    "s2p=SNP(os.path.join(TESTS_DIRECTORY,\"Filter_n7_f0_2_35ghz.s2p\"),extension=\"s2p\",\n",
    "        metadata={\"Connector_Type_Measurement\":\"N\"},column_types=['float' for i in range(9)])"
   ]
  },
  {
   "cell_type": "code",
   "execution_count": 11,
   "metadata": {
    "collapsed": false
   },
   "outputs": [],
   "source": [
    "s2p.change_data_format(\"MA\")\n",
    "s2p.change_frequency_units(\"GHz\")\n",
    "s2p.options[\"column_names\"]=s2p.column_names\n",
    "calrep_file=calrep(s2p)"
   ]
  },
  {
   "cell_type": "code",
   "execution_count": 9,
   "metadata": {
    "collapsed": false
   },
   "outputs": [
    {
     "data": {
      "text/plain": [
       "0"
      ]
     },
     "execution_count": 9,
     "metadata": {},
     "output_type": "execute_result"
    }
   ],
   "source": [
    "s2p.column_names.index(\"Frequency\")"
   ]
  },
  {
   "cell_type": "code",
   "execution_count": 6,
   "metadata": {
    "collapsed": false
   },
   "outputs": [],
   "source": [
    "from pyMeasure.Code.Analysis.SParameter import *"
   ]
  },
  {
   "cell_type": "code",
   "execution_count": 5,
   "metadata": {
    "collapsed": true
   },
   "outputs": [],
   "source": [
    "mean=frequency_model_collapse_multiple_measurements(s2p)"
   ]
  },
  {
   "cell_type": "code",
   "execution_count": 10,
   "metadata": {
    "collapsed": false
   },
   "outputs": [
    {
     "data": {
      "text/plain": [
       "['Frequency',\n",
       " 'magS11',\n",
       " 'argS11',\n",
       " 'magS21',\n",
       " 'argS21',\n",
       " 'magS12',\n",
       " 'argS12',\n",
       " 'magS22',\n",
       " 'argS22']"
      ]
     },
     "execution_count": 10,
     "metadata": {},
     "output_type": "execute_result"
    }
   ],
   "source": [
    "s2p.column_names\n"
   ]
  },
  {
   "cell_type": "code",
   "execution_count": 11,
   "metadata": {
    "collapsed": false
   },
   "outputs": [
    {
     "data": {
      "text/plain": [
       "['data', 'noiseparameter_data', 'comments', 'option_line']"
      ]
     },
     "execution_count": 11,
     "metadata": {},
     "output_type": "execute_result"
    }
   ],
   "source": [
    "s2p.elements\n"
   ]
  },
  {
   "cell_type": "code",
   "execution_count": 6,
   "metadata": {
    "collapsed": false
   },
   "outputs": [
    {
     "name": "stdout",
     "output_type": "stream",
     "text": [
      "[1.0, 0.999831513, 118.32982500000001, 0.00345233876, -151.816779, 0.00345233876, -151.816779, 0.9999637389999999, 117.695965]\n",
      "['1.0', '0.999831513', '118.329825', '0.00345233876', '-151.816779', '0.00345233876', '-151.816779', '0.999963739', '117.695965']\n"
     ]
    }
   ],
   "source": [
    "mean.update_model()\n",
    "print s2p.data[0]\n",
    "print mean.data[0]"
   ]
  },
  {
   "cell_type": "code",
   "execution_count": 7,
   "metadata": {
    "collapsed": false
   },
   "outputs": [
    {
     "name": "stdout",
     "output_type": "stream",
     "text": [
      "inline_comments = None\n",
      "data_begin_line = 1\n",
      "column_names_begin_line = 0\n",
      "columnn_types = ['float', 'float', 'float', 'float', 'float', 'float', 'float', 'float', 'float']\n",
      "footer_line_types = None\n",
      "general_descriptor = Sparameter\n",
      "header_end_token = None\n",
      "header_end_line = None\n",
      "column_names_end_line = 1\n",
      "data_table_element_separator = \n",
      "\n",
      "escape_character = None\n",
      "data = None\n",
      "inline_comment_begin = !\n",
      "column_descriptions = None\n",
      "inline_comment_end = \n",
      "comments = [[' Created Mon Nov 30 18:22:43 2015', 0, 0], [' 2 Port Network Data from SP1.SP block', 2, 0], [' freq  magS11  angS11  magS21  angS21  magS12  angS12  magS22  angS22  ', 3, 0], ['     ', 4, 0]]\n",
      "data_begin_token = None\n",
      "comment_end = None\n",
      "header_begin_line = None\n",
      "row_end_token = None\n",
      "sparameter_complex = []\n",
      "number_ports = None\n",
      "column_names_end_token = None\n",
      "block_comment_begin = None\n",
      "method = mean\n",
      "header_begin_token = None\n",
      "metadata = None\n",
      "specific_descriptor = mean_Multiport\n",
      "option_line_line = 1\n",
      "empty_value = None\n",
      "column_names_begin_token = None\n",
      "noiseparameter_data = []\n",
      "footer_end_token = None\n",
      "footer_begin_token = None\n",
      "sparameter_row_formatter_string = None\n",
      "column_names = None\n",
      "metadata_key_value_delimiter = None\n",
      "column_types = None\n",
      "path = None\n",
      "comment_begin = None\n",
      "treat_header_as_comment = None\n",
      "option_line = # hz S MA R 50\n",
      "column_units = None\n",
      "column_names_delimiter = None\n",
      "treat_footer_as_comment = None\n",
      "extension = s2p\n",
      "header = None\n",
      "footer = None\n",
      "data_end_line = None\n",
      "block_comment_end = None\n",
      "footer_end_line = None\n",
      "data_delimiter = \t\n",
      "footer_begin_line = None\n",
      "data_end_token = None\n",
      "row_begin_token = None\n",
      "directory = None\n",
      "header_line_types = None\n",
      "row_formatter_string = None\n",
      "metadata_delimiter = None\n"
     ]
    }
   ],
   "source": [
    "mean.get_options()"
   ]
  },
  {
   "cell_type": "code",
   "execution_count": 13,
   "metadata": {
    "collapsed": false
   },
   "outputs": [
    {
     "name": "stdout",
     "output_type": "stream",
     "text": [
      "average_columns is ['magS11', 'argS11', 'magS21', 'argS21', 'magS12', 'argS12', 'magS22', 'argS22']\n",
      "Length of x is 11001, Length of y is 11001, Length of error is 11001\n",
      "Length of x is 11001, Length of y is 11001, Length of error is 11001\n",
      "Length of x is 11001, Length of y is 11001, Length of error is 11001\n",
      "Length of x is 11001, Length of y is 11001, Length of error is 11001\n"
     ]
    },
    {
     "data": {
      "text/plain": [
       "<matplotlib.figure.Figure at 0x10c287b8>"
      ]
     },
     "execution_count": 13,
     "metadata": {},
     "output_type": "execute_result"
    }
   ],
   "source": [
    "calrep_file.metadata[\"Device_Id\"]=\" Fake Device\"\n",
    "plot_calrep(calrep_file)"
   ]
  },
  {
   "cell_type": "code",
   "execution_count": 1,
   "metadata": {
    "collapsed": true
   },
   "outputs": [],
   "source": [
    "from win32com import client"
   ]
  },
  {
   "cell_type": "code",
   "execution_count": 2,
   "metadata": {
    "collapsed": false
   },
   "outputs": [],
   "source": [
    "word=client.DispatchEx(\"Word.Application\")"
   ]
  },
  {
   "cell_type": "code",
   "execution_count": 6,
   "metadata": {
    "collapsed": false
   },
   "outputs": [
    {
     "ename": "com_error",
     "evalue": "(-2147023170, 'The remote procedure call failed.', None, None)",
     "output_type": "error",
     "traceback": [
      "\u001b[1;31m---------------------------------------------------------------------------\u001b[0m",
      "\u001b[1;31mcom_error\u001b[0m                                 Traceback (most recent call last)",
      "\u001b[1;32m<ipython-input-6-f7ac52a25cc7>\u001b[0m in \u001b[0;36m<module>\u001b[1;34m()\u001b[0m\n\u001b[1;32m----> 1\u001b[1;33m \u001b[0mdoc\u001b[0m\u001b[1;33m=\u001b[0m\u001b[0mword\u001b[0m\u001b[1;33m.\u001b[0m\u001b[0mDocuments\u001b[0m\u001b[1;33m.\u001b[0m\u001b[0mOpen\u001b[0m\u001b[1;33m(\u001b[0m\u001b[1;34mr\"C:\\Share\\Aric-2016-05-11\\Aric\\Fab Resume Aric Sanders 2016.docx\"\u001b[0m\u001b[1;33m)\u001b[0m\u001b[1;33m\u001b[0m\u001b[0m\n\u001b[0m",
      "\u001b[1;32mC:\\Anaconda2\\lib\\site-packages\\win32com\\client\\dynamic.pyc\u001b[0m in \u001b[0;36mOpen\u001b[1;34m(self, FileName, ConfirmConversions, ReadOnly, AddToRecentFiles, PasswordDocument, PasswordTemplate, Revert, WritePasswordDocument, WritePasswordTemplate, Format, Encoding, Visible, OpenAndRepair, DocumentDirection, NoEncodingDialog, XMLTransform)\u001b[0m\n",
      "\u001b[1;31mcom_error\u001b[0m: (-2147023170, 'The remote procedure call failed.', None, None)"
     ]
    }
   ],
   "source": [
    "doc=word.Documents.Open(r\"C:\\Share\\Aric-2016-05-11\\Aric\\Fab Resume Aric Sanders 2016.docx\")"
   ]
  },
  {
   "cell_type": "code",
   "execution_count": 17,
   "metadata": {
    "collapsed": true
   },
   "outputs": [],
   "source": [
    "doc.SaveAs(\"test.pdf\",FileFormat=17)"
   ]
  },
  {
   "cell_type": "code",
   "execution_count": 18,
   "metadata": {
    "collapsed": true
   },
   "outputs": [],
   "source": [
    "doc.SaveAs(\"test.html\",FileFormat=10)"
   ]
  },
  {
   "cell_type": "code",
   "execution_count": 19,
   "metadata": {
    "collapsed": true
   },
   "outputs": [],
   "source": [
    "doc.SaveAs(\"test2.html\",FileFormat=8)"
   ]
  },
  {
   "cell_type": "code",
   "execution_count": 22,
   "metadata": {
    "collapsed": false
   },
   "outputs": [],
   "source": [
    "doc.SaveAs(\"test.odt\",FileFormat=23)"
   ]
  },
  {
   "cell_type": "code",
   "execution_count": null,
   "metadata": {
    "collapsed": true
   },
   "outputs": [],
   "source": [
    "doc.Close()"
   ]
  },
  {
   "cell_type": "code",
   "execution_count": 2,
   "metadata": {
    "collapsed": true
   },
   "outputs": [],
   "source": [
    "def doc_file_to_pdf_file(doc_file_name,pdf_file_name=\"test.pdf\"):\n",
    "    \"\"\"Converts a microsoft doc or docx file to a pdf using word. \n",
    "    Requires word and win32com to be installed. Returns the new file name\"\"\"\n",
    "    word=client.DispatchEx(\"Word.Application\")\n",
    "    doc=word.Documents.Open(doc_file_name)\n",
    "    doc.SaveAs(pdf_file_name,FileFormat=17)\n",
    "    doc.Close()\n",
    "    word.Quit()\n",
    "    return pdf_file_name\n",
    "\n",
    "def doc_file_to_html_file(doc_file_name,html_file_name=\"test.html\"):\n",
    "    \"\"\"Converts a microsoft doc or docx file to a filtered html file using word. \n",
    "    Requires word and win32com to be installed. Returns the new file name\"\"\"\n",
    "    word=client.DispatchEx(\"Word.Application\")\n",
    "    doc=word.Documents.Open(doc_file_name)\n",
    "    doc.SaveAs(html_file_name,FileFormat=10)\n",
    "    doc.Close()\n",
    "    word.Quit()\n",
    "    return html_file_name\n",
    "\n",
    "def doc_file_to_odt_file(doc_file_name,odt_file_name=\"test.odt\"):\n",
    "    \"\"\"Converts a microsoft doc or docx file to a open document format file using word. \n",
    "    Requires word and win32com to be installed. Returns the new file name\"\"\"\n",
    "    word=client.DispatchEx(\"Word.Application\")\n",
    "    doc=word.Documents.Open(doc_file_name)\n",
    "    doc.SaveAs(odt_file_name,FileFormat=23)\n",
    "    doc.Close()\n",
    "    word.Quit()\n",
    "    return odt_file_name\n",
    "\n",
    "def odt_file_to_doc_file(odt_file_name,doc_file_name=\"test.docx\"):\n",
    "    \"\"\"Converts a microsoft doc or docx file to a open document format file using word. \n",
    "    Requires word and win32com to be installed. Returns the new file name\"\"\"\n",
    "    word=client.DispatchEx(\"Word.Application\")\n",
    "    doc=word.Documents.Open(odt_file_name)\n",
    "    doc.SaveAs(doc_file_name,FileFormat=0)\n",
    "    doc.Close()\n",
    "    word.Quit()\n",
    "    return doc_file_name"
   ]
  },
  {
   "cell_type": "code",
   "execution_count": 8,
   "metadata": {
    "collapsed": false
   },
   "outputs": [
    {
     "data": {
      "text/plain": [
       "'test.pdf'"
      ]
     },
     "execution_count": 8,
     "metadata": {},
     "output_type": "execute_result"
    }
   ],
   "source": [
    "doc_file_to_pdf_file(r\"C:\\Share\\Aric-2016-05-11\\Aric\\CV 3i.odt\")"
   ]
  },
  {
   "cell_type": "code",
   "execution_count": 4,
   "metadata": {
    "collapsed": true
   },
   "outputs": [],
   "source": [
    "def excel_file_to_ods_file(excel_file_name,ods_file_name=\"test.ods\"):\n",
    "    \"\"\"Converts a microsoft xlsx or xls file to a open document spreadsheet file using excel. \n",
    "    Requires word and win32com to be installed. Returns the new file name\"\"\"\n",
    "    excel=client.DispatchEx(\"Excel.Application\")\n",
    "    workbook=excel.Workbooks.Open(excel_file_name)\n",
    "    workbook.SaveAs(ods_file_name,FileFormat=60)\n",
    "    workbook.Close()\n",
    "    excel.Quit()\n",
    "    return ods_file_name\n",
    "\n",
    "def ods_file_to_excel_file(ods_file_name,excel_file_name=\"test.xlsx\"):\n",
    "    \"\"\"Converts a microsoft doc or docx file to a open document format file using word. \n",
    "    Requires word and win32com to be installed. Returns the new file name\"\"\"\n",
    "    excel=client.DispatchEx(\"Excel.Application\")\n",
    "    workbook=excel.Workbooks.Open(ods_file_name)\n",
    "    workbook.SaveAs(excel_file_name,FileFormat=51)\n",
    "    workbook.Close()\n",
    "    excel.Quit()\n",
    "    return excel_file_name"
   ]
  },
  {
   "cell_type": "code",
   "execution_count": 18,
   "metadata": {
    "collapsed": true
   },
   "outputs": [],
   "source": [
    "def PptxFile_to_OdpFile(power_point_file_name,odp_file_name=\"test.odp\"):\n",
    "    power_point=client.DispatchEx(\"PowerPoint.Application\")\n",
    "    presentation=power_point.Presentations.Open(power_point_file_name)\n",
    "    presentation.SaveAs(odp_file_name,FileFormat=35)\n",
    "    presentation.Close()\n",
    "    power_point.Quit()\n",
    "    return odp_file_name\n",
    "\n",
    "def OdpFile_to_PptxFile(odp_file_name,power_point_file_name=\"test.pptx\"):\n",
    "    power_point=client.DispatchEx(\"PowerPoint.Application\")\n",
    "    presentation=power_point.Presentations.Open(odp_file_name)\n",
    "    presentation.SaveAs(power_point_file_name,FileFormat=11)\n",
    "    presentation.Close()\n",
    "    power_point.Quit()\n",
    "    return power_point_file_name"
   ]
  },
  {
   "cell_type": "code",
   "execution_count": 5,
   "metadata": {
    "collapsed": false
   },
   "outputs": [
    {
     "data": {
      "text/plain": [
       "'test.ods'"
      ]
     },
     "execution_count": 5,
     "metadata": {},
     "output_type": "execute_result"
    }
   ],
   "source": [
    "excel_file_to_ods_file(r'E:\\Share\\Administrative\\Tasks 01012012.xlsx')"
   ]
  },
  {
   "cell_type": "code",
   "execution_count": 6,
   "metadata": {
    "collapsed": false
   },
   "outputs": [
    {
     "data": {
      "text/plain": [
       "'test.xlsx'"
      ]
     },
     "execution_count": 6,
     "metadata": {},
     "output_type": "execute_result"
    }
   ],
   "source": [
    "ods_file_to_excel_file(\"test.ods\")"
   ]
  },
  {
   "cell_type": "code",
   "execution_count": 22,
   "metadata": {
    "collapsed": false
   },
   "outputs": [
    {
     "data": {
      "text/plain": [
       "'test.odp'"
      ]
     },
     "execution_count": 22,
     "metadata": {},
     "output_type": "execute_result"
    }
   ],
   "source": [
    "PptxFile_to_OdpFile(r\"test.pptx\")"
   ]
  },
  {
   "cell_type": "code",
   "execution_count": 25,
   "metadata": {
    "collapsed": false
   },
   "outputs": [
    {
     "data": {
      "text/plain": [
       "'test.pptx'"
      ]
     },
     "execution_count": 25,
     "metadata": {},
     "output_type": "execute_result"
    }
   ],
   "source": [
    "OdpFile_to_PptxFile(\"test.odp\")"
   ]
  },
  {
   "cell_type": "code",
   "execution_count": 9,
   "metadata": {
    "collapsed": true
   },
   "outputs": [],
   "source": [
    "power_point=client.DispatchEx(\"PowerPoint.Application\")\n",
    "#presentation=power_point.Presentations.Open(odp_file_name)\n",
    "#presentation.SaveAs(power_point_file_name,FileFormat=11)\n",
    "#presentation.Close()\n",
    "#power_point.Quit()"
   ]
  },
  {
   "cell_type": "code",
   "execution_count": 11,
   "metadata": {
    "collapsed": false
   },
   "outputs": [],
   "source": [
    "pres=power_point.Presentations.Open(\"E:\\Share\\S Parameter - Impedance 20161108.pptx\")"
   ]
  },
  {
   "cell_type": "code",
   "execution_count": 12,
   "metadata": {
    "collapsed": true
   },
   "outputs": [],
   "source": [
    "pres.SaveAs(\"test.odp\",FileFormat=35)"
   ]
  },
  {
   "cell_type": "code",
   "execution_count": 13,
   "metadata": {
    "collapsed": true
   },
   "outputs": [],
   "source": [
    "pres.Close()"
   ]
  },
  {
   "cell_type": "code",
   "execution_count": 15,
   "metadata": {
    "collapsed": false
   },
   "outputs": [
    {
     "ename": "com_error",
     "evalue": "(-2147417848, 'The object invoked has disconnected from its clients.', None, None)",
     "output_type": "error",
     "traceback": [
      "\u001b[0;31m---------------------------------------------------------------------------\u001b[0m",
      "\u001b[0;31mcom_error\u001b[0m                                 Traceback (most recent call last)",
      "\u001b[0;32m<ipython-input-15-c8515ac20906>\u001b[0m in \u001b[0;36m<module>\u001b[0;34m()\u001b[0m\n\u001b[0;32m----> 1\u001b[0;31m \u001b[0mpower_point\u001b[0m\u001b[1;33m.\u001b[0m\u001b[0mQuit\u001b[0m\u001b[1;33m(\u001b[0m\u001b[1;33m)\u001b[0m\u001b[1;33m\u001b[0m\u001b[0m\n\u001b[0m",
      "\u001b[0;32mC:\\python27\\lib\\site-packages\\win32com\\client\\dynamic.pyc\u001b[0m in \u001b[0;36mQuit\u001b[0;34m(self)\u001b[0m\n",
      "\u001b[0;31mcom_error\u001b[0m: (-2147417848, 'The object invoked has disconnected from its clients.', None, None)"
     ]
    }
   ],
   "source": [
    "power_point.Quit()"
   ]
  },
  {
   "cell_type": "code",
   "execution_count": 26,
   "metadata": {
    "collapsed": false
   },
   "outputs": [
    {
     "name": "stdout",
     "output_type": "stream",
     "text": [
      "Importing Code.Utils.Names\n",
      "Importing Code.DataHandlers.NISTModels\n",
      "Importing Code.DataHandlers.GeneralModels\n",
      "Importing Code.DataHandlers.TouchstoneModels\n",
      "Importing Code.DataHandlers.XMLModels\n",
      "Importing Code.DataHandlers.RadiCALModels\n",
      "Importing Code.DataHandlers.ZipModels\n",
      "Importing Code.DataHandlers.Translations\n",
      "Importing Code.DataHandlers.StatistiCALModels\n",
      "Importing Code.DataHandlers.MUFModels\n",
      "Importing Code.Analysis.SParameter\n",
      "Importing Code.InstrumentControl.Instruments\n",
      "Importing Code.InstrumentControl.Experiments\n"
     ]
    }
   ],
   "source": [
    "from pyMeasure import *"
   ]
  },
  {
   "cell_type": "code",
   "execution_count": 1,
   "metadata": {
    "collapsed": false
   },
   "outputs": [
    {
     "name": "stdout",
     "output_type": "stream",
     "text": [
      "Importing Code.Utils.Names\n",
      "Importing Code.DataHandlers.NISTModels\n",
      "Importing Code.DataHandlers.GeneralModels\n",
      "Importing Code.DataHandlers.TouchstoneModels\n",
      "Importing Code.DataHandlers.XMLModels\n",
      "Importing Code.DataHandlers.RadiCALModels\n",
      "Importing Code.DataHandlers.ZipModels\n",
      "Importing Code.DataHandlers.Translations\n",
      "Importing Code.DataHandlers.StatistiCALModels\n",
      "Importing Code.DataHandlers.MUFModels\n",
      "Importing Code.Analysis.SParameter\n",
      "Importing Code.InstrumentControl.Instruments\n",
      "Importing Code.InstrumentControl.Experiments\n"
     ]
    }
   ],
   "source": [
    "from pyMeasure.Code.DataHandlers.GraphModels import *"
   ]
  },
  {
   "cell_type": "code",
   "execution_count": 2,
   "metadata": {
    "collapsed": true
   },
   "outputs": [],
   "source": [
    "image_graph=ImageGraph()"
   ]
  },
  {
   "cell_type": "code",
   "execution_count": 3,
   "metadata": {
    "collapsed": false
   },
   "outputs": [
    {
     "data": {
      "text/plain": [
       "<matplotlib.figure.Figure at 0xde5bb00>"
      ]
     },
     "execution_count": 3,
     "metadata": {},
     "output_type": "execute_result"
    }
   ],
   "source": [
    "image_graph.show()"
   ]
  },
  {
   "cell_type": "code",
   "execution_count": 6,
   "metadata": {
    "collapsed": false
   },
   "outputs": [
    {
     "name": "stdout",
     "output_type": "stream",
     "text": [
      "['edge_Image_png_000', 'edge_png_Image_000']\n",
      "moving Image -> png\n",
      "pil_image.mode is RGBA\n",
      "moving png -> Image\n"
     ]
    },
    {
     "data": {
      "text/plain": [
       "'thumbnail_test.jpg'"
      ]
     },
     "execution_count": 6,
     "metadata": {},
     "output_type": "execute_result"
    }
   ],
   "source": [
    "image_graph.jump_to_external_node(\"thumbnail\",**{\"file_path\":\"thumbnail_test.jpg\"})"
   ]
  },
  {
   "cell_type": "code",
   "execution_count": 34,
   "metadata": {
    "collapsed": false
   },
   "outputs": [
    {
     "data": {
      "image/png": "[encoded data removed]",
      "text/plain": [
       "<matplotlib.figure.Figure at 0x20e33ac8>"
      ]
     },
     "metadata": {},
     "output_type": "display_data"
    },
    {
     "data": {
      "text/plain": [
       "<matplotlib.figure.Figure at 0x20fcfda0>"
      ]
     },
     "execution_count": 34,
     "metadata": {},
     "output_type": "execute_result"
    }
   ],
   "source": [
    "image_graph.show(descriptions=False,node_size=2500)"
   ]
  },
  {
   "cell_type": "code",
   "execution_count": 35,
   "metadata": {
    "collapsed": true
   },
   "outputs": [],
   "source": [
    "import networkx"
   ]
  },
  {
   "cell_type": "code",
   "execution_count": 50,
   "metadata": {
    "collapsed": false
   },
   "outputs": [],
   "source": [
    "networkx.draw_networkx(image_graph.display_graph,pos=image_graph.display_layout,\n",
    "                       labels={node:str(index+1) for index,node in enumerate(image_graph.node_names)})"
   ]
  },
  {
   "cell_type": "code",
   "execution_count": 53,
   "metadata": {
    "collapsed": false
   },
   "outputs": [
    {
     "data": {
      "application/javascript": [
       "/* Put everything inside the global mpl namespace */\n",
       "window.mpl = {};\n",
       "\n",
       "mpl.get_websocket_type = function() {\n",
       "    if (typeof(WebSocket) !== 'undefined') {\n",
       "        return WebSocket;\n",
       "    } else if (typeof(MozWebSocket) !== 'undefined') {\n",
       "        return MozWebSocket;\n",
       "    } else {\n",
       "        alert('Your browser does not have WebSocket support.' +\n",
       "              'Please try Chrome, Safari or Firefox ≥ 6. ' +\n",
       "              'Firefox 4 and 5 are also supported but you ' +\n",
       "              'have to enable WebSockets in about:config.');\n",
       "    };\n",
       "}\n",
       "\n",
       "mpl.figure = function(figure_id, websocket, ondownload, parent_element) {\n",
       "    this.id = figure_id;\n",
       "\n",
       "    this.ws = websocket;\n",
       "\n",
       "    this.supports_binary = (this.ws.binaryType != undefined);\n",
       "\n",
       "    if (!this.supports_binary) {\n",
       "        var warnings = document.getElementById(\"mpl-warnings\");\n",
       "        if (warnings) {\n",
       "            warnings.style.display = 'block';\n",
       "            warnings.textContent = (\n",
       "                \"This browser does not support binary websocket messages. \" +\n",
       "                    \"Performance may be slow.\");\n",
       "        }\n",
       "    }\n",
       "\n",
       "    this.imageObj = new Image();\n",
       "\n",
       "    this.context = undefined;\n",
       "    this.message = undefined;\n",
       "    this.canvas = undefined;\n",
       "    this.rubberband_canvas = undefined;\n",
       "    this.rubberband_context = undefined;\n",
       "    this.format_dropdown = undefined;\n",
       "\n",
       "    this.image_mode = 'full';\n",
       "\n",
       "    this.root = $('<div/>');\n",
       "    this._root_extra_style(this.root)\n",
       "    this.root.attr('style', 'display: inline-block');\n",
       "\n",
       "    $(parent_element).append(this.root);\n",
       "\n",
       "    this._init_header(this);\n",
       "    this._init_canvas(this);\n",
       "    this._init_toolbar(this);\n",
       "\n",
       "    var fig = this;\n",
       "\n",
       "    this.waiting = false;\n",
       "\n",
       "    this.ws.onopen =  function () {\n",
       "            fig.send_message(\"supports_binary\", {value: fig.supports_binary});\n",
       "            fig.send_message(\"send_image_mode\", {});\n",
       "            fig.send_message(\"refresh\", {});\n",
       "        }\n",
       "\n",
       "    this.imageObj.onload = function() {\n",
       "            if (fig.image_mode == 'full') {\n",
       "                // Full images could contain transparency (where diff images\n",
       "                // almost always do), so we need to clear the canvas so that\n",
       "                // there is no ghosting.\n",
       "                fig.context.clearRect(0, 0, fig.canvas.width, fig.canvas.height);\n",
       "            }\n",
       "            fig.context.drawImage(fig.imageObj, 0, 0);\n",
       "        };\n",
       "\n",
       "    this.imageObj.onunload = function() {\n",
       "        this.ws.close();\n",
       "    }\n",
       "\n",
       "    this.ws.onmessage = this._make_on_message_function(this);\n",
       "\n",
       "    this.ondownload = ondownload;\n",
       "}\n",
       "\n",
       "mpl.figure.prototype._init_header = function() {\n",
       "    var titlebar = $(\n",
       "        '<div class=\"ui-dialog-titlebar ui-widget-header ui-corner-all ' +\n",
       "        'ui-helper-clearfix\"/>');\n",
       "    var titletext = $(\n",
       "        '<div class=\"ui-dialog-title\" style=\"width: 100%; ' +\n",
       "        'text-align: center; padding: 3px;\"/>');\n",
       "    titlebar.append(titletext)\n",
       "    this.root.append(titlebar);\n",
       "    this.header = titletext[0];\n",
       "}\n",
       "\n",
       "\n",
       "\n",
       "mpl.figure.prototype._canvas_extra_style = function(canvas_div) {\n",
       "\n",
       "}\n",
       "\n",
       "\n",
       "mpl.figure.prototype._root_extra_style = function(canvas_div) {\n",
       "\n",
       "}\n",
       "\n",
       "mpl.figure.prototype._init_canvas = function() {\n",
       "    var fig = this;\n",
       "\n",
       "    var canvas_div = $('<div/>');\n",
       "\n",
       "    canvas_div.attr('style', 'position: relative; clear: both; outline: 0');\n",
       "\n",
       "    function canvas_keyboard_event(event) {\n",
       "        return fig.key_event(event, event['data']);\n",
       "    }\n",
       "\n",
       "    canvas_div.keydown('key_press', canvas_keyboard_event);\n",
       "    canvas_div.keyup('key_release', canvas_keyboard_event);\n",
       "    this.canvas_div = canvas_div\n",
       "    this._canvas_extra_style(canvas_div)\n",
       "    this.root.append(canvas_div);\n",
       "\n",
       "    var canvas = $('<canvas/>');\n",
       "    canvas.addClass('mpl-canvas');\n",
       "    canvas.attr('style', \"left: 0; top: 0; z-index: 0; outline: 0\")\n",
       "\n",
       "    this.canvas = canvas[0];\n",
       "    this.context = canvas[0].getContext(\"2d\");\n",
       "\n",
       "    var rubberband = $('<canvas/>');\n",
       "    rubberband.attr('style', \"position: absolute; left: 0; top: 0; z-index: 1;\")\n",
       "\n",
       "    var pass_mouse_events = true;\n",
       "\n",
       "    canvas_div.resizable({\n",
       "        start: function(event, ui) {\n",
       "            pass_mouse_events = false;\n",
       "        },\n",
       "        resize: function(event, ui) {\n",
       "            fig.request_resize(ui.size.width, ui.size.height);\n",
       "        },\n",
       "        stop: function(event, ui) {\n",
       "            pass_mouse_events = true;\n",
       "            fig.request_resize(ui.size.width, ui.size.height);\n",
       "        },\n",
       "    });\n",
       "\n",
       "    function mouse_event_fn(event) {\n",
       "        if (pass_mouse_events)\n",
       "            return fig.mouse_event(event, event['data']);\n",
       "    }\n",
       "\n",
       "    rubberband.mousedown('button_press', mouse_event_fn);\n",
       "    rubberband.mouseup('button_release', mouse_event_fn);\n",
       "    // Throttle sequential mouse events to 1 every 20ms.\n",
       "    rubberband.mousemove('motion_notify', mouse_event_fn);\n",
       "\n",
       "    rubberband.mouseenter('figure_enter', mouse_event_fn);\n",
       "    rubberband.mouseleave('figure_leave', mouse_event_fn);\n",
       "\n",
       "    canvas_div.on(\"wheel\", function (event) {\n",
       "        event = event.originalEvent;\n",
       "        event['data'] = 'scroll'\n",
       "        if (event.deltaY < 0) {\n",
       "            event.step = 1;\n",
       "        } else {\n",
       "            event.step = -1;\n",
       "        }\n",
       "        mouse_event_fn(event);\n",
       "    });\n",
       "\n",
       "    canvas_div.append(canvas);\n",
       "    canvas_div.append(rubberband);\n",
       "\n",
       "    this.rubberband = rubberband;\n",
       "    this.rubberband_canvas = rubberband[0];\n",
       "    this.rubberband_context = rubberband[0].getContext(\"2d\");\n",
       "    this.rubberband_context.strokeStyle = \"#000000\";\n",
       "\n",
       "    this._resize_canvas = function(width, height) {\n",
       "        // Keep the size of the canvas, canvas container, and rubber band\n",
       "        // canvas in synch.\n",
       "        canvas_div.css('width', width)\n",
       "        canvas_div.css('height', height)\n",
       "\n",
       "        canvas.attr('width', width);\n",
       "        canvas.attr('height', height);\n",
       "\n",
       "        rubberband.attr('width', width);\n",
       "        rubberband.attr('height', height);\n",
       "    }\n",
       "\n",
       "    // Set the figure to an initial 600x600px, this will subsequently be updated\n",
       "    // upon first draw.\n",
       "    this._resize_canvas(600, 600);\n",
       "\n",
       "    // Disable right mouse context menu.\n",
       "    $(this.rubberband_canvas).bind(\"contextmenu\",function(e){\n",
       "        return false;\n",
       "    });\n",
       "\n",
       "    function set_focus () {\n",
       "        canvas.focus();\n",
       "        canvas_div.focus();\n",
       "    }\n",
       "\n",
       "    window.setTimeout(set_focus, 100);\n",
       "}\n",
       "\n",
       "mpl.figure.prototype._init_toolbar = function() {\n",
       "    var fig = this;\n",
       "\n",
       "    var nav_element = $('<div/>')\n",
       "    nav_element.attr('style', 'width: 100%');\n",
       "    this.root.append(nav_element);\n",
       "\n",
       "    // Define a callback function for later on.\n",
       "    function toolbar_event(event) {\n",
       "        return fig.toolbar_button_onclick(event['data']);\n",
       "    }\n",
       "    function toolbar_mouse_event(event) {\n",
       "        return fig.toolbar_button_onmouseover(event['data']);\n",
       "    }\n",
       "\n",
       "    for(var toolbar_ind in mpl.toolbar_items) {\n",
       "        var name = mpl.toolbar_items[toolbar_ind][0];\n",
       "        var tooltip = mpl.toolbar_items[toolbar_ind][1];\n",
       "        var image = mpl.toolbar_items[toolbar_ind][2];\n",
       "        var method_name = mpl.toolbar_items[toolbar_ind][3];\n",
       "\n",
       "        if (!name) {\n",
       "            // put a spacer in here.\n",
       "            continue;\n",
       "        }\n",
       "        var button = $('<button/>');\n",
       "        button.addClass('ui-button ui-widget ui-state-default ui-corner-all ' +\n",
       "                        'ui-button-icon-only');\n",
       "        button.attr('role', 'button');\n",
       "        button.attr('aria-disabled', 'false');\n",
       "        button.click(method_name, toolbar_event);\n",
       "        button.mouseover(tooltip, toolbar_mouse_event);\n",
       "\n",
       "        var icon_img = $('<span/>');\n",
       "        icon_img.addClass('ui-button-icon-primary ui-icon');\n",
       "        icon_img.addClass(image);\n",
       "        icon_img.addClass('ui-corner-all');\n",
       "\n",
       "        var tooltip_span = $('<span/>');\n",
       "        tooltip_span.addClass('ui-button-text');\n",
       "        tooltip_span.html(tooltip);\n",
       "\n",
       "        button.append(icon_img);\n",
       "        button.append(tooltip_span);\n",
       "\n",
       "        nav_element.append(button);\n",
       "    }\n",
       "\n",
       "    var fmt_picker_span = $('<span/>');\n",
       "\n",
       "    var fmt_picker = $('<select/>');\n",
       "    fmt_picker.addClass('mpl-toolbar-option ui-widget ui-widget-content');\n",
       "    fmt_picker_span.append(fmt_picker);\n",
       "    nav_element.append(fmt_picker_span);\n",
       "    this.format_dropdown = fmt_picker[0];\n",
       "\n",
       "    for (var ind in mpl.extensions) {\n",
       "        var fmt = mpl.extensions[ind];\n",
       "        var option = $(\n",
       "            '<option/>', {selected: fmt === mpl.default_extension}).html(fmt);\n",
       "        fmt_picker.append(option)\n",
       "    }\n",
       "\n",
       "    // Add hover states to the ui-buttons\n",
       "    $( \".ui-button\" ).hover(\n",
       "        function() { $(this).addClass(\"ui-state-hover\");},\n",
       "        function() { $(this).removeClass(\"ui-state-hover\");}\n",
       "    );\n",
       "\n",
       "    var status_bar = $('<span class=\"mpl-message\"/>');\n",
       "    nav_element.append(status_bar);\n",
       "    this.message = status_bar[0];\n",
       "}\n",
       "\n",
       "mpl.figure.prototype.request_resize = function(x_pixels, y_pixels) {\n",
       "    // Request matplotlib to resize the figure. Matplotlib will then trigger a resize in the client,\n",
       "    // which will in turn request a refresh of the image.\n",
       "    this.send_message('resize', {'width': x_pixels, 'height': y_pixels});\n",
       "}\n",
       "\n",
       "mpl.figure.prototype.send_message = function(type, properties) {\n",
       "    properties['type'] = type;\n",
       "    properties['figure_id'] = this.id;\n",
       "    this.ws.send(JSON.stringify(properties));\n",
       "}\n",
       "\n",
       "mpl.figure.prototype.send_draw_message = function() {\n",
       "    if (!this.waiting) {\n",
       "        this.waiting = true;\n",
       "        this.ws.send(JSON.stringify({type: \"draw\", figure_id: this.id}));\n",
       "    }\n",
       "}\n",
       "\n",
       "\n",
       "mpl.figure.prototype.handle_save = function(fig, msg) {\n",
       "    var format_dropdown = fig.format_dropdown;\n",
       "    var format = format_dropdown.options[format_dropdown.selectedIndex].value;\n",
       "    fig.ondownload(fig, format);\n",
       "}\n",
       "\n",
       "\n",
       "mpl.figure.prototype.handle_resize = function(fig, msg) {\n",
       "    var size = msg['size'];\n",
       "    if (size[0] != fig.canvas.width || size[1] != fig.canvas.height) {\n",
       "        fig._resize_canvas(size[0], size[1]);\n",
       "        fig.send_message(\"refresh\", {});\n",
       "    };\n",
       "}\n",
       "\n",
       "mpl.figure.prototype.handle_rubberband = function(fig, msg) {\n",
       "    var x0 = msg['x0'];\n",
       "    var y0 = fig.canvas.height - msg['y0'];\n",
       "    var x1 = msg['x1'];\n",
       "    var y1 = fig.canvas.height - msg['y1'];\n",
       "    x0 = Math.floor(x0) + 0.5;\n",
       "    y0 = Math.floor(y0) + 0.5;\n",
       "    x1 = Math.floor(x1) + 0.5;\n",
       "    y1 = Math.floor(y1) + 0.5;\n",
       "    var min_x = Math.min(x0, x1);\n",
       "    var min_y = Math.min(y0, y1);\n",
       "    var width = Math.abs(x1 - x0);\n",
       "    var height = Math.abs(y1 - y0);\n",
       "\n",
       "    fig.rubberband_context.clearRect(\n",
       "        0, 0, fig.canvas.width, fig.canvas.height);\n",
       "\n",
       "    fig.rubberband_context.strokeRect(min_x, min_y, width, height);\n",
       "}\n",
       "\n",
       "mpl.figure.prototype.handle_figure_label = function(fig, msg) {\n",
       "    // Updates the figure title.\n",
       "    fig.header.textContent = msg['label'];\n",
       "}\n",
       "\n",
       "mpl.figure.prototype.handle_cursor = function(fig, msg) {\n",
       "    var cursor = msg['cursor'];\n",
       "    switch(cursor)\n",
       "    {\n",
       "    case 0:\n",
       "        cursor = 'pointer';\n",
       "        break;\n",
       "    case 1:\n",
       "        cursor = 'default';\n",
       "        break;\n",
       "    case 2:\n",
       "        cursor = 'crosshair';\n",
       "        break;\n",
       "    case 3:\n",
       "        cursor = 'move';\n",
       "        break;\n",
       "    }\n",
       "    fig.rubberband_canvas.style.cursor = cursor;\n",
       "}\n",
       "\n",
       "mpl.figure.prototype.handle_message = function(fig, msg) {\n",
       "    fig.message.textContent = msg['message'];\n",
       "}\n",
       "\n",
       "mpl.figure.prototype.handle_draw = function(fig, msg) {\n",
       "    // Request the server to send over a new figure.\n",
       "    fig.send_draw_message();\n",
       "}\n",
       "\n",
       "mpl.figure.prototype.handle_image_mode = function(fig, msg) {\n",
       "    fig.image_mode = msg['mode'];\n",
       "}\n",
       "\n",
       "mpl.figure.prototype.updated_canvas_event = function() {\n",
       "    // Called whenever the canvas gets updated.\n",
       "    this.send_message(\"ack\", {});\n",
       "}\n",
       "\n",
       "// A function to construct a web socket function for onmessage handling.\n",
       "// Called in the figure constructor.\n",
       "mpl.figure.prototype._make_on_message_function = function(fig) {\n",
       "    return function socket_on_message(evt) {\n",
       "        if (evt.data instanceof Blob) {\n",
       "            /* FIXME: We get \"Resource interpreted as Image but\n",
       "             * transferred with MIME type text/plain:\" errors on\n",
       "             * Chrome.  But how to set the MIME type?  It doesn't seem\n",
       "             * to be part of the websocket stream */\n",
       "            evt.data.type = \"image/png\";\n",
       "\n",
       "            /* Free the memory for the previous frames */\n",
       "            if (fig.imageObj.src) {\n",
       "                (window.URL || window.webkitURL).revokeObjectURL(\n",
       "                    fig.imageObj.src);\n",
       "            }\n",
       "\n",
       "            fig.imageObj.src = (window.URL || window.webkitURL).createObjectURL(\n",
       "                evt.data);\n",
       "            fig.updated_canvas_event();\n",
       "            fig.waiting = false;\n",
       "            return;\n",
       "        }\n",
       "        else if (typeof evt.data === 'string' && evt.data.slice(0, 21) == \"data:image/png;base64\") {\n",
       "            fig.imageObj.src = evt.data;\n",
       "            fig.updated_canvas_event();\n",
       "            fig.waiting = false;\n",
       "            return;\n",
       "        }\n",
       "\n",
       "        var msg = JSON.parse(evt.data);\n",
       "        var msg_type = msg['type'];\n",
       "\n",
       "        // Call the  \"handle_{type}\" callback, which takes\n",
       "        // the figure and JSON message as its only arguments.\n",
       "        try {\n",
       "            var callback = fig[\"handle_\" + msg_type];\n",
       "        } catch (e) {\n",
       "            console.log(\"No handler for the '\" + msg_type + \"' message type: \", msg);\n",
       "            return;\n",
       "        }\n",
       "\n",
       "        if (callback) {\n",
       "            try {\n",
       "                // console.log(\"Handling '\" + msg_type + \"' message: \", msg);\n",
       "                callback(fig, msg);\n",
       "            } catch (e) {\n",
       "                console.log(\"Exception inside the 'handler_\" + msg_type + \"' callback:\", e, e.stack, msg);\n",
       "            }\n",
       "        }\n",
       "    };\n",
       "}\n",
       "\n",
       "// from http://stackoverflow.com/questions/1114465/getting-mouse-location-in-canvas\n",
       "mpl.findpos = function(e) {\n",
       "    //this section is from http://www.quirksmode.org/js/events_properties.html\n",
       "    var targ;\n",
       "    if (!e)\n",
       "        e = window.event;\n",
       "    if (e.target)\n",
       "        targ = e.target;\n",
       "    else if (e.srcElement)\n",
       "        targ = e.srcElement;\n",
       "    if (targ.nodeType == 3) // defeat Safari bug\n",
       "        targ = targ.parentNode;\n",
       "\n",
       "    // jQuery normalizes the pageX and pageY\n",
       "    // pageX,Y are the mouse positions relative to the document\n",
       "    // offset() returns the position of the element relative to the document\n",
       "    var x = e.pageX - $(targ).offset().left;\n",
       "    var y = e.pageY - $(targ).offset().top;\n",
       "\n",
       "    return {\"x\": x, \"y\": y};\n",
       "};\n",
       "\n",
       "/*\n",
       " * return a copy of an object with only non-object keys\n",
       " * we need this to avoid circular references\n",
       " * http://stackoverflow.com/a/24161582/3208463\n",
       " */\n",
       "function simpleKeys (original) {\n",
       "  return Object.keys(original).reduce(function (obj, key) {\n",
       "    if (typeof original[key] !== 'object')\n",
       "        obj[key] = original[key]\n",
       "    return obj;\n",
       "  }, {});\n",
       "}\n",
       "\n",
       "mpl.figure.prototype.mouse_event = function(event, name) {\n",
       "    var canvas_pos = mpl.findpos(event)\n",
       "\n",
       "    if (name === 'button_press')\n",
       "    {\n",
       "        this.canvas.focus();\n",
       "        this.canvas_div.focus();\n",
       "    }\n",
       "\n",
       "    var x = canvas_pos.x;\n",
       "    var y = canvas_pos.y;\n",
       "\n",
       "    this.send_message(name, {x: x, y: y, button: event.button,\n",
       "                             step: event.step,\n",
       "                             guiEvent: simpleKeys(event)});\n",
       "\n",
       "    /* This prevents the web browser from automatically changing to\n",
       "     * the text insertion cursor when the button is pressed.  We want\n",
       "     * to control all of the cursor setting manually through the\n",
       "     * 'cursor' event from matplotlib */\n",
       "    event.preventDefault();\n",
       "    return false;\n",
       "}\n",
       "\n",
       "mpl.figure.prototype._key_event_extra = function(event, name) {\n",
       "    // Handle any extra behaviour associated with a key event\n",
       "}\n",
       "\n",
       "mpl.figure.prototype.key_event = function(event, name) {\n",
       "\n",
       "    // Prevent repeat events\n",
       "    if (name == 'key_press')\n",
       "    {\n",
       "        if (event.which === this._key)\n",
       "            return;\n",
       "        else\n",
       "            this._key = event.which;\n",
       "    }\n",
       "    if (name == 'key_release')\n",
       "        this._key = null;\n",
       "\n",
       "    var value = '';\n",
       "    if (event.ctrlKey && event.which != 17)\n",
       "        value += \"ctrl+\";\n",
       "    if (event.altKey && event.which != 18)\n",
       "        value += \"alt+\";\n",
       "    if (event.shiftKey && event.which != 16)\n",
       "        value += \"shift+\";\n",
       "\n",
       "    value += 'k';\n",
       "    value += event.which.toString();\n",
       "\n",
       "    this._key_event_extra(event, name);\n",
       "\n",
       "    this.send_message(name, {key: value,\n",
       "                             guiEvent: simpleKeys(event)});\n",
       "    return false;\n",
       "}\n",
       "\n",
       "mpl.figure.prototype.toolbar_button_onclick = function(name) {\n",
       "    if (name == 'download') {\n",
       "        this.handle_save(this, null);\n",
       "    } else {\n",
       "        this.send_message(\"toolbar_button\", {name: name});\n",
       "    }\n",
       "};\n",
       "\n",
       "mpl.figure.prototype.toolbar_button_onmouseover = function(tooltip) {\n",
       "    this.message.textContent = tooltip;\n",
       "};\n",
       "mpl.toolbar_items = [[\"Home\", \"Reset original view\", \"fa fa-home icon-home\", \"home\"], [\"Back\", \"Back to  previous view\", \"fa fa-arrow-left icon-arrow-left\", \"back\"], [\"Forward\", \"Forward to next view\", \"fa fa-arrow-right icon-arrow-right\", \"forward\"], [\"\", \"\", \"\", \"\"], [\"Pan\", \"Pan axes with left mouse, zoom with right\", \"fa fa-arrows icon-move\", \"pan\"], [\"Zoom\", \"Zoom to rectangle\", \"fa fa-square-o icon-check-empty\", \"zoom\"], [\"\", \"\", \"\", \"\"], [\"Download\", \"Download plot\", \"fa fa-floppy-o icon-save\", \"download\"]];\n",
       "\n",
       "mpl.extensions = [\"eps\", \"jpeg\", \"pdf\", \"png\", \"ps\", \"raw\", \"svg\", \"tif\"];\n",
       "\n",
       "mpl.default_extension = \"png\";var comm_websocket_adapter = function(comm) {\n",
       "    // Create a \"websocket\"-like object which calls the given IPython comm\n",
       "    // object with the appropriate methods. Currently this is a non binary\n",
       "    // socket, so there is still some room for performance tuning.\n",
       "    var ws = {};\n",
       "\n",
       "    ws.close = function() {\n",
       "        comm.close()\n",
       "    };\n",
       "    ws.send = function(m) {\n",
       "        //console.log('sending', m);\n",
       "        comm.send(m);\n",
       "    };\n",
       "    // Register the callback with on_msg.\n",
       "    comm.on_msg(function(msg) {\n",
       "        //console.log('receiving', msg['content']['data'], msg);\n",
       "        // Pass the mpl event to the overriden (by mpl) onmessage function.\n",
       "        ws.onmessage(msg['content']['data'])\n",
       "    });\n",
       "    return ws;\n",
       "}\n",
       "\n",
       "mpl.mpl_figure_comm = function(comm, msg) {\n",
       "    // This is the function which gets called when the mpl process\n",
       "    // starts-up an IPython Comm through the \"matplotlib\" channel.\n",
       "\n",
       "    var id = msg.content.data.id;\n",
       "    // Get hold of the div created by the display call when the Comm\n",
       "    // socket was opened in Python.\n",
       "    var element = $(\"#\" + id);\n",
       "    var ws_proxy = comm_websocket_adapter(comm)\n",
       "\n",
       "    function ondownload(figure, format) {\n",
       "        window.open(figure.imageObj.src);\n",
       "    }\n",
       "\n",
       "    var fig = new mpl.figure(id, ws_proxy,\n",
       "                           ondownload,\n",
       "                           element.get(0));\n",
       "\n",
       "    // Call onopen now - mpl needs it, as it is assuming we've passed it a real\n",
       "    // web socket which is closed, not our websocket->open comm proxy.\n",
       "    ws_proxy.onopen();\n",
       "\n",
       "    fig.parent_element = element.get(0);\n",
       "    fig.cell_info = mpl.find_output_cell(\"<div id='\" + id + \"'></div>\");\n",
       "    if (!fig.cell_info) {\n",
       "        console.error(\"Failed to find cell for figure\", id, fig);\n",
       "        return;\n",
       "    }\n",
       "\n",
       "    var output_index = fig.cell_info[2]\n",
       "    var cell = fig.cell_info[0];\n",
       "\n",
       "};\n",
       "\n",
       "mpl.figure.prototype.handle_close = function(fig, msg) {\n",
       "    fig.root.unbind('remove')\n",
       "\n",
       "    // Update the output cell to use the data from the current canvas.\n",
       "    fig.push_to_output();\n",
       "    var dataURL = fig.canvas.toDataURL();\n",
       "    // Re-enable the keyboard manager in IPython - without this line, in FF,\n",
       "    // the notebook keyboard shortcuts fail.\n",
       "    IPython.keyboard_manager.enable()\n",
       "    $(fig.parent_element).html('<img src=\"' + dataURL + '\">');\n",
       "    fig.close_ws(fig, msg);\n",
       "}\n",
       "\n",
       "mpl.figure.prototype.close_ws = function(fig, msg){\n",
       "    fig.send_message('closing', msg);\n",
       "    // fig.ws.close()\n",
       "}\n",
       "\n",
       "mpl.figure.prototype.push_to_output = function(remove_interactive) {\n",
       "    // Turn the data on the canvas into data in the output cell.\n",
       "    var dataURL = this.canvas.toDataURL();\n",
       "    this.cell_info[1]['text/html'] = '<img src=\"' + dataURL + '\">';\n",
       "}\n",
       "\n",
       "mpl.figure.prototype.updated_canvas_event = function() {\n",
       "    // Tell IPython that the notebook contents must change.\n",
       "    IPython.notebook.set_dirty(true);\n",
       "    this.send_message(\"ack\", {});\n",
       "    var fig = this;\n",
       "    // Wait a second, then push the new image to the DOM so\n",
       "    // that it is saved nicely (might be nice to debounce this).\n",
       "    setTimeout(function () { fig.push_to_output() }, 1000);\n",
       "}\n",
       "\n",
       "mpl.figure.prototype._init_toolbar = function() {\n",
       "    var fig = this;\n",
       "\n",
       "    var nav_element = $('<div/>')\n",
       "    nav_element.attr('style', 'width: 100%');\n",
       "    this.root.append(nav_element);\n",
       "\n",
       "    // Define a callback function for later on.\n",
       "    function toolbar_event(event) {\n",
       "        return fig.toolbar_button_onclick(event['data']);\n",
       "    }\n",
       "    function toolbar_mouse_event(event) {\n",
       "        return fig.toolbar_button_onmouseover(event['data']);\n",
       "    }\n",
       "\n",
       "    for(var toolbar_ind in mpl.toolbar_items){\n",
       "        var name = mpl.toolbar_items[toolbar_ind][0];\n",
       "        var tooltip = mpl.toolbar_items[toolbar_ind][1];\n",
       "        var image = mpl.toolbar_items[toolbar_ind][2];\n",
       "        var method_name = mpl.toolbar_items[toolbar_ind][3];\n",
       "\n",
       "        if (!name) { continue; };\n",
       "\n",
       "        var button = $('<button class=\"btn btn-default\" href=\"#\" title=\"' + name + '\"><i class=\"fa ' + image + ' fa-lg\"></i></button>');\n",
       "        button.click(method_name, toolbar_event);\n",
       "        button.mouseover(tooltip, toolbar_mouse_event);\n",
       "        nav_element.append(button);\n",
       "    }\n",
       "\n",
       "    // Add the status bar.\n",
       "    var status_bar = $('<span class=\"mpl-message\" style=\"text-align:right; float: right;\"/>');\n",
       "    nav_element.append(status_bar);\n",
       "    this.message = status_bar[0];\n",
       "\n",
       "    // Add the close button to the window.\n",
       "    var buttongrp = $('<div class=\"btn-group inline pull-right\"></div>');\n",
       "    var button = $('<button class=\"btn btn-mini btn-primary\" href=\"#\" title=\"Stop Interaction\"><i class=\"fa fa-power-off icon-remove icon-large\"></i></button>');\n",
       "    button.click(function (evt) { fig.handle_close(fig, {}); } );\n",
       "    button.mouseover('Stop Interaction', toolbar_mouse_event);\n",
       "    buttongrp.append(button);\n",
       "    var titlebar = this.root.find($('.ui-dialog-titlebar'));\n",
       "    titlebar.prepend(buttongrp);\n",
       "}\n",
       "\n",
       "mpl.figure.prototype._root_extra_style = function(el){\n",
       "    var fig = this\n",
       "    el.on(\"remove\", function(){\n",
       "\tfig.close_ws(fig, {});\n",
       "    });\n",
       "}\n",
       "\n",
       "mpl.figure.prototype._canvas_extra_style = function(el){\n",
       "    // this is important to make the div 'focusable\n",
       "    el.attr('tabindex', 0)\n",
       "    // reach out to IPython and tell the keyboard manager to turn it's self\n",
       "    // off when our div gets focus\n",
       "\n",
       "    // location in version 3\n",
       "    if (IPython.notebook.keyboard_manager) {\n",
       "        IPython.notebook.keyboard_manager.register_events(el);\n",
       "    }\n",
       "    else {\n",
       "        // location in version 2\n",
       "        IPython.keyboard_manager.register_events(el);\n",
       "    }\n",
       "\n",
       "}\n",
       "\n",
       "mpl.figure.prototype._key_event_extra = function(event, name) {\n",
       "    var manager = IPython.notebook.keyboard_manager;\n",
       "    if (!manager)\n",
       "        manager = IPython.keyboard_manager;\n",
       "\n",
       "    // Check for shift+enter\n",
       "    if (event.shiftKey && event.which == 13) {\n",
       "        this.canvas_div.blur();\n",
       "        event.shiftKey = false;\n",
       "        // Send a \"J\" for go to next cell\n",
       "        event.which = 74;\n",
       "        event.keyCode = 74;\n",
       "        manager.command_mode();\n",
       "        manager.handle_keydown(event);\n",
       "    }\n",
       "}\n",
       "\n",
       "mpl.figure.prototype.handle_save = function(fig, msg) {\n",
       "    fig.ondownload(fig, null);\n",
       "}\n",
       "\n",
       "\n",
       "mpl.find_output_cell = function(html_output) {\n",
       "    // Return the cell and output element which can be found *uniquely* in the notebook.\n",
       "    // Note - this is a bit hacky, but it is done because the \"notebook_saving.Notebook\"\n",
       "    // IPython event is triggered only after the cells have been serialised, which for\n",
       "    // our purposes (turning an active figure into a static one), is too late.\n",
       "    var cells = IPython.notebook.get_cells();\n",
       "    var ncells = cells.length;\n",
       "    for (var i=0; i<ncells; i++) {\n",
       "        var cell = cells[i];\n",
       "        if (cell.cell_type === 'code'){\n",
       "            for (var j=0; j<cell.output_area.outputs.length; j++) {\n",
       "                var data = cell.output_area.outputs[j];\n",
       "                if (data.data) {\n",
       "                    // IPython >= 3 moved mimebundle to data attribute of output\n",
       "                    data = data.data;\n",
       "                }\n",
       "                if (data['text/html'] == html_output) {\n",
       "                    return [cell, data, j];\n",
       "                }\n",
       "            }\n",
       "        }\n",
       "    }\n",
       "}\n",
       "\n",
       "// Register the function which deals with the matplotlib target/channel.\n",
       "// The kernel may be null if the page has been refreshed.\n",
       "if (IPython.notebook.kernel != null) {\n",
       "    IPython.notebook.kernel.comm_manager.register_target('matplotlib', mpl.mpl_figure_comm);\n",
       "}\n"
      ],
      "text/plain": [
       "<IPython.core.display.Javascript object>"
      ]
     },
     "metadata": {},
     "output_type": "display_data"
    },
    {
     "data": {
      "text/html": [
       "<img src=\"data:image/png;base64,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\">"
      ],
      "text/plain": [
       "<IPython.core.display.HTML object>"
      ]
     },
     "metadata": {},
     "output_type": "display_data"
    }
   ],
   "source": [
    "%matplotlib notebook\n",
    "networkx.draw_networkx(image_graph.display_graph,pos=image_graph.display_layout,\n",
    "                       labels={node:str(index+1) for index,node in enumerate(image_graph.node_names)})\n",
    "plt.show()"
   ]
  },
  {
   "cell_type": "code",
   "execution_count": 43,
   "metadata": {
    "collapsed": false
   },
   "outputs": [
    {
     "data": {
      "text/plain": [
       "['Image',\n",
       " 'png',\n",
       " 'jpg',\n",
       " 'tiff',\n",
       " 'gif',\n",
       " 'bmp',\n",
       " 'base64',\n",
       " 'embeddedHTML',\n",
       " 'ndarray',\n",
       " 'MatplotlibFigure']"
      ]
     },
     "execution_count": 43,
     "metadata": {},
     "output_type": "execute_result"
    }
   ],
   "source": [
    "image_graph.node_names"
   ]
  },
  {
   "cell_type": "code",
   "execution_count": 3,
   "metadata": {
    "collapsed": false
   },
   "outputs": [],
   "source": [
    "table_graph=TableGraph()"
   ]
  },
  {
   "cell_type": "code",
   "execution_count": 3,
   "metadata": {
    "collapsed": false
   },
   "outputs": [
    {
     "data": {
      "text/plain": [
       "<matplotlib.figure.Figure at 0xddd60b8>"
      ]
     },
     "execution_count": 3,
     "metadata": {},
     "output_type": "execute_result"
    }
   ],
   "source": [
    "\n",
    "table_graph.show()"
   ]
  },
  {
   "cell_type": "code",
   "execution_count": 4,
   "metadata": {
    "collapsed": true
   },
   "outputs": [],
   "source": [
    "meta_graph=MetadataGraph()"
   ]
  },
  {
   "cell_type": "code",
   "execution_count": 7,
   "metadata": {
    "collapsed": false
   },
   "outputs": [
    {
     "data": {
      "text/plain": [
       "<matplotlib.figure.Figure at 0xe411940>"
      ]
     },
     "execution_count": 7,
     "metadata": {},
     "output_type": "execute_result"
    }
   ],
   "source": [
    "plt.close()\n",
    "meta_graph.show()"
   ]
  },
  {
   "cell_type": "code",
   "execution_count": 61,
   "metadata": {
    "collapsed": false
   },
   "outputs": [],
   "source": [
    "import StringIO\n",
    "import cStringIO"
   ]
  },
  {
   "cell_type": "code",
   "execution_count": 62,
   "metadata": {
    "collapsed": true
   },
   "outputs": [],
   "source": [
    "test_string=\"A new String\\nAnother Line\""
   ]
  },
  {
   "cell_type": "code",
   "execution_count": 70,
   "metadata": {
    "collapsed": true
   },
   "outputs": [],
   "source": [
    "def String_to_StringIo(string):\n",
    "    \"\"\"Converts a string to a StringIO.StringIO object\"\"\"\n",
    "    return StringIO.StringIO(string)\n",
    "def StringIo_to_String(string_io_object):\n",
    "    \"\"\"Converts a StringIO.StringIO object to a string \"\"\"\n",
    "    return string_io_object.getvalue()\n",
    "def String_to_CStringIo(string):\n",
    "    \"\"\"Converts a string to a StringIO.StringIO object\"\"\"\n",
    "    return cStringIO.StringIO(string)\n",
    "def CStringIo_to_String(string_io_object):\n",
    "    \"\"\"Converts a StringIO.StringIO object to a string \"\"\"\n",
    "    return string_io_object.getvalue()"
   ]
  },
  {
   "cell_type": "code",
   "execution_count": 67,
   "metadata": {
    "collapsed": true
   },
   "outputs": [],
   "source": [
    "stio1=String_to_StringIo(test_string)"
   ]
  },
  {
   "cell_type": "code",
   "execution_count": 68,
   "metadata": {
    "collapsed": false
   },
   "outputs": [],
   "source": [
    "st2=StringIo_to_String(stio1)"
   ]
  },
  {
   "cell_type": "code",
   "execution_count": 69,
   "metadata": {
    "collapsed": false
   },
   "outputs": [
    {
     "data": {
      "text/plain": [
       "True"
      ]
     },
     "execution_count": 69,
     "metadata": {},
     "output_type": "execute_result"
    }
   ],
   "source": [
    "test_string==st2"
   ]
  },
  {
   "cell_type": "code",
   "execution_count": 71,
   "metadata": {
    "collapsed": true
   },
   "outputs": [],
   "source": [
    "cstio1=String_to_CStringIo(test_string)"
   ]
  },
  {
   "cell_type": "code",
   "execution_count": 72,
   "metadata": {
    "collapsed": true
   },
   "outputs": [],
   "source": [
    "st3=CStringIo_to_String(cstio1)"
   ]
  },
  {
   "cell_type": "code",
   "execution_count": 73,
   "metadata": {
    "collapsed": false
   },
   "outputs": [
    {
     "data": {
      "text/plain": [
       "True"
      ]
     },
     "execution_count": 73,
     "metadata": {},
     "output_type": "execute_result"
    }
   ],
   "source": [
    "test_string==st3"
   ]
  },
  {
   "cell_type": "code",
   "execution_count": 4,
   "metadata": {
    "collapsed": true
   },
   "outputs": [],
   "source": [
    "string_graph=StringGraph()"
   ]
  },
  {
   "cell_type": "code",
   "execution_count": 8,
   "metadata": {
    "collapsed": false
   },
   "outputs": [
    {
     "data": {
      "image/png": "[encoded data removed]",
      "text/plain": [
       "<matplotlib.figure.Figure at 0x209b5cf8>"
      ]
     },
     "metadata": {},
     "output_type": "display_data"
    },
    {
     "data": {
      "text/plain": [
       "<matplotlib.figure.Figure at 0x205e4128>"
      ]
     },
     "execution_count": 8,
     "metadata": {},
     "output_type": "execute_result"
    }
   ],
   "source": [
    "string_graph.show()"
   ]
  },
  {
   "cell_type": "code",
   "execution_count": null,
   "metadata": {
    "collapsed": false
   },
   "outputs": [],
   "source": []
  },
  {
   "cell_type": "code",
   "execution_count": 1,
   "metadata": {
    "collapsed": false
   },
   "outputs": [
    {
     "name": "stdout",
     "output_type": "stream",
     "text": [
      "Importing Code.Utils.Names\n",
      "Importing Code.DataHandlers.NISTModels\n",
      "Importing Code.DataHandlers.GeneralModels\n",
      "Importing Code.DataHandlers.TouchstoneModels\n",
      "Importing Code.DataHandlers.XMLModels\n",
      "Importing Code.DataHandlers.RadiCALModels\n",
      "Importing Code.DataHandlers.ZipModels\n",
      "Importing Code.DataHandlers.Translations\n",
      "Importing Code.DataHandlers.StatistiCALModels\n",
      "Importing Code.DataHandlers.MUFModels\n",
      "Importing Code.Analysis.SParameter\n",
      "Importing Code.InstrumentControl.Instruments\n",
      "Importing Code.InstrumentControl.Experiments\n"
     ]
    }
   ],
   "source": [
    "from pyMeasure import *\n",
    "from pyMeasure.Code.DataHandlers.GraphModels import *"
   ]
  },
  {
   "cell_type": "code",
   "execution_count": 2,
   "metadata": {
    "collapsed": false
   },
   "outputs": [],
   "source": [
    "from ipywidgets import *\n",
    "def move_and_show(end_node_number,graph):\n",
    "    node=graph.node_names[end_node_number]\n",
    "    graph.move_to_node(node)\n",
    "    print(\"*\"*80)\n",
    "    print(\"{0}\".format(graph.node_descriptions[end_node_number])+\" {0}\".format(graph.state))\n",
    "    print(\"*\"*80)\n",
    "    graph.show(descriptions=True)\n",
    "def interactive_move_and_show(graph):\n",
    "    interact(lambda end_node_number:move_and_show(end_node_number,graph),end_node_number=(0,len(graph.node_names)-1,1))"
   ]
  },
  {
   "cell_type": "code",
   "execution_count": 3,
   "metadata": {
    "collapsed": false
   },
   "outputs": [
    {
     "name": "stdout",
     "output_type": "stream",
     "text": [
      "['edge_OdsFile_ExcelFile_000']\n",
      "moving OdsFile -> ExcelFile\n",
      "********************************************************************************\n",
      "Excel File [0, 0, 0, 0, 1, 0, 0, 0, 0, 0, 0, 0, 0]\n",
      "********************************************************************************\n"
     ]
    },
    {
     "data": {
      "image/png": "[encoded data removed]",
      "text/plain": [
       "<matplotlib.figure.Figure at 0xe633f60>"
      ]
     },
     "metadata": {},
     "output_type": "display_data"
    },
    {
     "data": {
      "text/plain": [
       "<matplotlib.figure.Figure at 0x10900c88>"
      ]
     },
     "metadata": {},
     "output_type": "display_data"
    }
   ],
   "source": [
    "%matplotlib inline\n",
    "raw=TwoPortRawModel(os.path.join(r\"C:\\Share\\Ck_Std_raw_ascii\",'CTN208.L26_121399'))\n",
    "table_graph=TableGraph()\n",
    "table_graph.set_state(\"AsciiDataTable\",raw)\n",
    "interactive_move_and_show(table_graph)"
   ]
  },
  {
   "cell_type": "code",
   "execution_count": 4,
   "metadata": {
    "collapsed": false
   },
   "outputs": [
    {
     "name": "stdout",
     "output_type": "stream",
     "text": [
      "['edge_File_String_000', 'edge_String_StringList_000']\n",
      "moving File -> String\n",
      "moving String -> StringList\n",
      "********************************************************************************\n",
      "A list of strings with no \\n, created with string.splitlines() [0, 1, 0, 0, 0]\n",
      "********************************************************************************\n"
     ]
    },
    {
     "data": {
      "image/png": "[encoded data removed]",
      "text/plain": [
       "<matplotlib.figure.Figure at 0x1057a8d0>"
      ]
     },
     "metadata": {},
     "output_type": "display_data"
    },
    {
     "data": {
      "text/plain": [
       "<matplotlib.figure.Figure at 0x106c8c18>"
      ]
     },
     "metadata": {},
     "output_type": "display_data"
    }
   ],
   "source": [
    "%matplotlib inline\n",
    "string_graph=StringGraph()\n",
    "interactive_move_and_show(string_graph)"
   ]
  },
  {
   "cell_type": "code",
   "execution_count": 14,
   "metadata": {
    "collapsed": false
   },
   "outputs": [
    {
     "data": {
      "text/plain": [
       "'c://file\\\\name.txt'"
      ]
     },
     "execution_count": 14,
     "metadata": {},
     "output_type": "execute_result"
    }
   ],
   "source": [
    "import os\n",
    "os.path.join(*[\"c://file\",\"name.txt\"])"
   ]
  },
  {
   "cell_type": "code",
   "execution_count": 12,
   "metadata": {
    "collapsed": false
   },
   "outputs": [],
   "source": [
    "import html5lib "
   ]
  },
  {
   "cell_type": "code",
   "execution_count": 9,
   "metadata": {
    "collapsed": false
   },
   "outputs": [
    {
     "data": {
      "text/plain": [
       "['DataFrame',\n",
       " 'AsciiDataTable',\n",
       " 'HdfFile',\n",
       " 'XmlDataTable',\n",
       " 'ExcelFile',\n",
       " 'OdsFile',\n",
       " 'HtmlString',\n",
       " 'JsonFile',\n",
       " 'JsonString',\n",
       " 'CsvFile',\n",
       " 'MatFile',\n",
       " 'XmlFile',\n",
       " 'HtmlFile']"
      ]
     },
     "execution_count": 9,
     "metadata": {},
     "output_type": "execute_result"
    }
   ],
   "source": [
    "table_graph.node_names"
   ]
  },
  {
   "cell_type": "code",
   "execution_count": 2,
   "metadata": {
    "collapsed": true
   },
   "outputs": [],
   "source": [
    "import pandas\n",
    "df=pandas.DataFrame([[1,2],[3,4]],columns=[\"a\",\"b\"])"
   ]
  },
  {
   "cell_type": "code",
   "execution_count": null,
   "metadata": {
    "collapsed": true
   },
   "outputs": [],
   "source": []
  },
  {
   "cell_type": "code",
   "execution_count": 8,
   "metadata": {
    "collapsed": false
   },
   "outputs": [
    {
     "data": {
      "text/html": [
       "<div>\n",
       "<table border=\"1\" class=\"dataframe\">\n",
       "  <thead>\n",
       "    <tr style=\"text-align: right;\">\n",
       "      <th></th>\n",
       "      <th>a</th>\n",
       "      <th>b</th>\n",
       "    </tr>\n",
       "  </thead>\n",
       "  <tbody>\n",
       "    <tr>\n",
       "      <th>0</th>\n",
       "      <td>1</td>\n",
       "      <td>2</td>\n",
       "    </tr>\n",
       "    <tr>\n",
       "      <th>1</th>\n",
       "      <td>3</td>\n",
       "      <td>4</td>\n",
       "    </tr>\n",
       "  </tbody>\n",
       "</table>\n",
       "</div>"
      ],
      "text/plain": [
       "   a  b\n",
       "0  1  2\n",
       "1  3  4"
      ]
     },
     "execution_count": 8,
     "metadata": {},
     "output_type": "execute_result"
    }
   ],
   "source": [
    "df"
   ]
  },
  {
   "cell_type": "code",
   "execution_count": 3,
   "metadata": {
    "collapsed": false
   },
   "outputs": [],
   "source": [
    "html=DataFrame_to_HtmlString(df)"
   ]
  },
  {
   "cell_type": "code",
   "execution_count": 6,
   "metadata": {
    "collapsed": false
   },
   "outputs": [
    {
     "data": {
      "text/html": [
       "<div>\n",
       "<table border=\"1\" class=\"dataframe\">\n",
       "  <thead>\n",
       "    <tr style=\"text-align: right;\">\n",
       "      <th></th>\n",
       "      <th>a</th>\n",
       "      <th>b</th>\n",
       "    </tr>\n",
       "  </thead>\n",
       "  <tbody>\n",
       "    <tr>\n",
       "      <th>0</th>\n",
       "      <td>1</td>\n",
       "      <td>2</td>\n",
       "    </tr>\n",
       "    <tr>\n",
       "      <th>1</th>\n",
       "      <td>3</td>\n",
       "      <td>4</td>\n",
       "    </tr>\n",
       "  </tbody>\n",
       "</table>\n",
       "</div>"
      ],
      "text/plain": [
       "   a  b\n",
       "0  1  2\n",
       "1  3  4"
      ]
     },
     "execution_count": 6,
     "metadata": {},
     "output_type": "execute_result"
    }
   ],
   "source": [
    "df2=pandas.read_html(str(html))\n",
    "df2[0]"
   ]
  },
  {
   "cell_type": "code",
   "execution_count": 6,
   "metadata": {
    "collapsed": false
   },
   "outputs": [
    {
     "ename": "ImportError",
     "evalue": "lxml not found, please install it",
     "output_type": "error",
     "traceback": [
      "\u001b[1;31m---------------------------------------------------------------------------\u001b[0m",
      "\u001b[1;31mImportError\u001b[0m                               Traceback (most recent call last)",
      "\u001b[1;32m<ipython-input-6-5da95a16ae0e>\u001b[0m in \u001b[0;36m<module>\u001b[1;34m()\u001b[0m\n\u001b[0;32m      1\u001b[0m \u001b[1;32mimport\u001b[0m \u001b[0mStringIO\u001b[0m\u001b[1;33m\u001b[0m\u001b[0m\n\u001b[0;32m      2\u001b[0m \u001b[1;32mimport\u001b[0m \u001b[0mlxml\u001b[0m\u001b[1;33m\u001b[0m\u001b[0m\n\u001b[1;32m----> 3\u001b[1;33m \u001b[0mdf2\u001b[0m\u001b[1;33m=\u001b[0m\u001b[0mpandas\u001b[0m\u001b[1;33m.\u001b[0m\u001b[0mread_html\u001b[0m\u001b[1;33m(\u001b[0m\u001b[0mhtml\u001b[0m\u001b[1;33m)\u001b[0m\u001b[1;33m\u001b[0m\u001b[0m\n\u001b[0m",
      "\u001b[1;32mC:\\Anaconda2\\lib\\site-packages\\pandas\\io\\html.pyc\u001b[0m in \u001b[0;36mread_html\u001b[1;34m(io, match, flavor, header, index_col, skiprows, attrs, parse_dates, tupleize_cols, thousands, encoding)\u001b[0m\n\u001b[0;32m    868\u001b[0m     \u001b[0m_validate_header_arg\u001b[0m\u001b[1;33m(\u001b[0m\u001b[0mheader\u001b[0m\u001b[1;33m)\u001b[0m\u001b[1;33m\u001b[0m\u001b[0m\n\u001b[0;32m    869\u001b[0m     return _parse(flavor, io, match, header, index_col, skiprows,\n\u001b[1;32m--> 870\u001b[1;33m                   parse_dates, tupleize_cols, thousands, attrs, encoding)\n\u001b[0m",
      "\u001b[1;32mC:\\Anaconda2\\lib\\site-packages\\pandas\\io\\html.pyc\u001b[0m in \u001b[0;36m_parse\u001b[1;34m(flavor, io, match, header, index_col, skiprows, parse_dates, tupleize_cols, thousands, attrs, encoding)\u001b[0m\n\u001b[0;32m    720\u001b[0m     \u001b[0mretained\u001b[0m \u001b[1;33m=\u001b[0m \u001b[0mNone\u001b[0m\u001b[1;33m\u001b[0m\u001b[0m\n\u001b[0;32m    721\u001b[0m     \u001b[1;32mfor\u001b[0m \u001b[0mflav\u001b[0m \u001b[1;32min\u001b[0m \u001b[0mflavor\u001b[0m\u001b[1;33m:\u001b[0m\u001b[1;33m\u001b[0m\u001b[0m\n\u001b[1;32m--> 722\u001b[1;33m         \u001b[0mparser\u001b[0m \u001b[1;33m=\u001b[0m \u001b[0m_parser_dispatch\u001b[0m\u001b[1;33m(\u001b[0m\u001b[0mflav\u001b[0m\u001b[1;33m)\u001b[0m\u001b[1;33m\u001b[0m\u001b[0m\n\u001b[0m\u001b[0;32m    723\u001b[0m         \u001b[0mp\u001b[0m \u001b[1;33m=\u001b[0m \u001b[0mparser\u001b[0m\u001b[1;33m(\u001b[0m\u001b[0mio\u001b[0m\u001b[1;33m,\u001b[0m \u001b[0mcompiled_match\u001b[0m\u001b[1;33m,\u001b[0m \u001b[0mattrs\u001b[0m\u001b[1;33m,\u001b[0m \u001b[0mencoding\u001b[0m\u001b[1;33m)\u001b[0m\u001b[1;33m\u001b[0m\u001b[0m\n\u001b[0;32m    724\u001b[0m \u001b[1;33m\u001b[0m\u001b[0m\n",
      "\u001b[1;32mC:\\Anaconda2\\lib\\site-packages\\pandas\\io\\html.pyc\u001b[0m in \u001b[0;36m_parser_dispatch\u001b[1;34m(flavor)\u001b[0m\n\u001b[0;32m    679\u001b[0m     \u001b[1;32melse\u001b[0m\u001b[1;33m:\u001b[0m\u001b[1;33m\u001b[0m\u001b[0m\n\u001b[0;32m    680\u001b[0m         \u001b[1;32mif\u001b[0m \u001b[1;32mnot\u001b[0m \u001b[0m_HAS_LXML\u001b[0m\u001b[1;33m:\u001b[0m\u001b[1;33m\u001b[0m\u001b[0m\n\u001b[1;32m--> 681\u001b[1;33m             \u001b[1;32mraise\u001b[0m \u001b[0mImportError\u001b[0m\u001b[1;33m(\u001b[0m\u001b[1;34m\"lxml not found, please install it\"\u001b[0m\u001b[1;33m)\u001b[0m\u001b[1;33m\u001b[0m\u001b[0m\n\u001b[0m\u001b[0;32m    682\u001b[0m     \u001b[1;32mreturn\u001b[0m \u001b[0m_valid_parsers\u001b[0m\u001b[1;33m[\u001b[0m\u001b[0mflavor\u001b[0m\u001b[1;33m]\u001b[0m\u001b[1;33m\u001b[0m\u001b[0m\n\u001b[0;32m    683\u001b[0m \u001b[1;33m\u001b[0m\u001b[0m\n",
      "\u001b[1;31mImportError\u001b[0m: lxml not found, please install it"
     ]
    }
   ],
   "source": [
    "import StringIO\n",
    "import lxml\n",
    "df2=pandas.read_html(html)"
   ]
  },
  {
   "cell_type": "code",
   "execution_count": 4,
   "metadata": {
    "collapsed": true
   },
   "outputs": [],
   "source": [
    "import lxml"
   ]
  },
  {
   "cell_type": "code",
   "execution_count": 16,
   "metadata": {
    "collapsed": true
   },
   "outputs": [],
   "source": [
    "def HtmlFile_to_DataFrame(html_file_name):\n",
    "    in_file=open(html_file_name,'r')\n",
    "    pandas_data_frame=pandas.read_html(in_file)\n",
    "    return pandas_data_frame\n",
    "def HtmlString_to_DataFrame(html_string):\n",
    "    list_df=pandas.read_html(html_string)\n",
    "    return list_df[0]"
   ]
  },
  {
   "cell_type": "code",
   "execution_count": null,
   "metadata": {
    "collapsed": true
   },
   "outputs": [],
   "source": []
  }
 ],
 "metadata": {
  "kernelspec": {
   "display_name": "Python 2",
   "language": "python",
   "name": "python2"
  },
  "language_info": {
   "codemirror_mode": {
    "name": "ipython",
    "version": 2
   },
   "file_extension": ".py",
   "mimetype": "text/x-python",
   "name": "python",
   "nbconvert_exporter": "python",
   "pygments_lexer": "ipython2",
   "version": "2.7.12"
  }
 },
 "nbformat": 4,
 "nbformat_minor": 0
}
