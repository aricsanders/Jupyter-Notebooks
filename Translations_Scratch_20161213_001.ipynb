{
 "cells": [
  {
   "cell_type": "code",
   "execution_count": 1,
   "metadata": {
    "collapsed": false
   },
   "outputs": [
    {
     "name": "stdout",
     "output_type": "stream",
     "text": [
      "Importing Code.Utils.Names\n",
      "Importing Code.DataHandlers.NISTModels\n",
      "Importing Code.DataHandlers.GeneralModels\n",
      "Importing Code.DataHandlers.TouchstoneModels\n",
      "Importing Code.DataHandlers.XMLModels\n",
      "Importing Code.DataHandlers.RadiCALModels\n",
      "Importing Code.DataHandlers.ZipModels\n",
      "Importing Code.DataHandlers.Translations\n",
      "Importing Code.DataHandlers.StatistiCALModels\n",
      "Importing Code.DataHandlers.MUFModels\n",
      "Importing Code.Analysis.SParameter\n",
      "Importing Code.InstrumentControl.Instruments\n",
      "Importing Code.InstrumentControl.Experiments\n"
     ]
    }
   ],
   "source": [
    "from pyMeasure import *\n",
    "import pdfkit"
   ]
  },
  {
   "cell_type": "code",
   "execution_count": 2,
   "metadata": {
    "collapsed": false
   },
   "outputs": [
    {
     "ename": "IOError",
     "evalue": "No wkhtmltopdf executable found: \"\"\nIf this file exists please check that this process can read it. Otherwise please install wkhtmltopdf - https://github.com/JazzCore/python-pdfkit/wiki/Installing-wkhtmltopdf",
     "output_type": "error",
     "traceback": [
      "\u001b[1;31m---------------------------------------------------------------------------\u001b[0m",
      "\u001b[1;31mIOError\u001b[0m                                   Traceback (most recent call last)",
      "\u001b[1;32m<ipython-input-2-40c1fffa2d83>\u001b[0m in \u001b[0;36m<module>\u001b[1;34m()\u001b[0m\n\u001b[1;32m----> 1\u001b[1;33m \u001b[0mpdfkit\u001b[0m\u001b[1;33m.\u001b[0m\u001b[0mfrom_file\u001b[0m\u001b[1;33m(\u001b[0m\u001b[0mos\u001b[0m\u001b[1;33m.\u001b[0m\u001b[0mpath\u001b[0m\u001b[1;33m.\u001b[0m\u001b[0mjoin\u001b[0m\u001b[1;33m(\u001b[0m\u001b[0mTESTS_DIRECTORY\u001b[0m\u001b[1;33m,\u001b[0m\u001b[1;34m\"One_Port_Sparameter_20160307_001.html\"\u001b[0m\u001b[1;33m)\u001b[0m\u001b[1;33m,\u001b[0m\u001b[1;34m\"test.pdf\"\u001b[0m\u001b[1;33m)\u001b[0m\u001b[1;33m\u001b[0m\u001b[0m\n\u001b[0m",
      "\u001b[1;32mC:\\Anaconda2\\lib\\site-packages\\pdfkit\\api.pyc\u001b[0m in \u001b[0;36mfrom_file\u001b[1;34m(input, output_path, options, toc, cover, css, configuration)\u001b[0m\n\u001b[0;32m     42\u001b[0m \u001b[1;33m\u001b[0m\u001b[0m\n\u001b[0;32m     43\u001b[0m     r = PDFKit(input, 'file', options=options, toc=toc, cover=cover, css=css,\n\u001b[1;32m---> 44\u001b[1;33m                configuration=configuration)\n\u001b[0m\u001b[0;32m     45\u001b[0m \u001b[1;33m\u001b[0m\u001b[0m\n\u001b[0;32m     46\u001b[0m     \u001b[1;32mreturn\u001b[0m \u001b[0mr\u001b[0m\u001b[1;33m.\u001b[0m\u001b[0mto_pdf\u001b[0m\u001b[1;33m(\u001b[0m\u001b[0moutput_path\u001b[0m\u001b[1;33m)\u001b[0m\u001b[1;33m\u001b[0m\u001b[0m\n",
      "\u001b[1;32mC:\\Anaconda2\\lib\\site-packages\\pdfkit\\pdfkit.pyc\u001b[0m in \u001b[0;36m__init__\u001b[1;34m(self, url_or_file, type_, options, toc, cover, css, configuration)\u001b[0m\n\u001b[0;32m     36\u001b[0m \u001b[1;33m\u001b[0m\u001b[0m\n\u001b[0;32m     37\u001b[0m         \u001b[0mself\u001b[0m\u001b[1;33m.\u001b[0m\u001b[0msource\u001b[0m \u001b[1;33m=\u001b[0m \u001b[0mSource\u001b[0m\u001b[1;33m(\u001b[0m\u001b[0murl_or_file\u001b[0m\u001b[1;33m,\u001b[0m \u001b[0mtype_\u001b[0m\u001b[1;33m)\u001b[0m\u001b[1;33m\u001b[0m\u001b[0m\n\u001b[1;32m---> 38\u001b[1;33m         self.configuration = (Configuration() if configuration is None\n\u001b[0m\u001b[0;32m     39\u001b[0m                               else configuration)\n\u001b[0;32m     40\u001b[0m         \u001b[0mself\u001b[0m\u001b[1;33m.\u001b[0m\u001b[0mwkhtmltopdf\u001b[0m \u001b[1;33m=\u001b[0m \u001b[0mself\u001b[0m\u001b[1;33m.\u001b[0m\u001b[0mconfiguration\u001b[0m\u001b[1;33m.\u001b[0m\u001b[0mwkhtmltopdf\u001b[0m\u001b[1;33m.\u001b[0m\u001b[0mdecode\u001b[0m\u001b[1;33m(\u001b[0m\u001b[1;34m'utf-8'\u001b[0m\u001b[1;33m)\u001b[0m\u001b[1;33m\u001b[0m\u001b[0m\n",
      "\u001b[1;32mC:\\Anaconda2\\lib\\site-packages\\pdfkit\\configuration.pyc\u001b[0m in \u001b[0;36m__init__\u001b[1;34m(self, wkhtmltopdf, meta_tag_prefix)\u001b[0m\n\u001b[0;32m     25\u001b[0m                           \u001b[1;34m'If this file exists please check that this process can '\u001b[0m\u001b[1;33m\u001b[0m\u001b[0m\n\u001b[0;32m     26\u001b[0m                           \u001b[1;34m'read it. Otherwise please install wkhtmltopdf - '\u001b[0m\u001b[1;33m\u001b[0m\u001b[0m\n\u001b[1;32m---> 27\u001b[1;33m                           'https://github.com/JazzCore/python-pdfkit/wiki/Installing-wkhtmltopdf' % self.wkhtmltopdf)\n\u001b[0m",
      "\u001b[1;31mIOError\u001b[0m: No wkhtmltopdf executable found: \"\"\nIf this file exists please check that this process can read it. Otherwise please install wkhtmltopdf - https://github.com/JazzCore/python-pdfkit/wiki/Installing-wkhtmltopdf"
     ]
    }
   ],
   "source": [
    "pdfkit.from_file(os.path.join(TESTS_DIRECTORY,\"One_Port_Sparameter_20160307_001.html\"),\"test.pdf\")"
   ]
  },
  {
   "cell_type": "code",
   "execution_count": 8,
   "metadata": {
    "collapsed": false
   },
   "outputs": [],
   "source": [
    "import os\n",
    "s2p=SNP(os.path.join(TESTS_DIRECTORY,\"Filter_n7_f0_2_35ghz.s2p\"),extension=\"s2p\",\n",
    "        metadata={\"Connector_Type_Measurement\":\"N\"},column_types=['float' for i in range(9)])"
   ]
  },
  {
   "cell_type": "code",
   "execution_count": 9,
   "metadata": {
    "collapsed": false
   },
   "outputs": [],
   "source": [
    "s2p.change_data_format(\"MA\")\n",
    "s2p.change_frequency_units(\"GHz\")\n",
    "s2p.options[\"column_names\"]=s2p.column_names\n",
    "calrep_file=calrep(s2p)"
   ]
  },
  {
   "cell_type": "code",
   "execution_count": 9,
   "metadata": {
    "collapsed": false
   },
   "outputs": [
    {
     "data": {
      "text/plain": [
       "0"
      ]
     },
     "execution_count": 9,
     "metadata": {},
     "output_type": "execute_result"
    }
   ],
   "source": [
    "s2p.column_names.index(\"Frequency\")"
   ]
  },
  {
   "cell_type": "code",
   "execution_count": 3,
   "metadata": {
    "collapsed": false
   },
   "outputs": [],
   "source": [
    "from pyMeasure.Code.Analysis.SParameter import *"
   ]
  },
  {
   "cell_type": "code",
   "execution_count": 10,
   "metadata": {
    "collapsed": true
   },
   "outputs": [],
   "source": [
    "mean=frequency_model_collapse_multiple_measurements(s2p)"
   ]
  },
  {
   "cell_type": "code",
   "execution_count": 10,
   "metadata": {
    "collapsed": false
   },
   "outputs": [
    {
     "data": {
      "text/plain": [
       "['Frequency',\n",
       " 'magS11',\n",
       " 'argS11',\n",
       " 'magS21',\n",
       " 'argS21',\n",
       " 'magS12',\n",
       " 'argS12',\n",
       " 'magS22',\n",
       " 'argS22']"
      ]
     },
     "execution_count": 10,
     "metadata": {},
     "output_type": "execute_result"
    }
   ],
   "source": [
    "s2p.column_names\n"
   ]
  },
  {
   "cell_type": "code",
   "execution_count": 11,
   "metadata": {
    "collapsed": false
   },
   "outputs": [
    {
     "data": {
      "text/plain": [
       "['data', 'noiseparameter_data', 'comments', 'option_line']"
      ]
     },
     "execution_count": 11,
     "metadata": {},
     "output_type": "execute_result"
    }
   ],
   "source": [
    "s2p.elements\n"
   ]
  },
  {
   "cell_type": "code",
   "execution_count": 6,
   "metadata": {
    "collapsed": false
   },
   "outputs": [
    {
     "name": "stdout",
     "output_type": "stream",
     "text": [
      "[1.0, 0.999831513, 118.32982500000001, 0.00345233876, -151.816779, 0.00345233876, -151.816779, 0.9999637389999999, 117.695965]\n",
      "['1.0', '0.999831513', '118.329825', '0.00345233876', '-151.816779', '0.00345233876', '-151.816779', '0.999963739', '117.695965']\n"
     ]
    }
   ],
   "source": [
    "mean.update_model()\n",
    "print s2p.data[0]\n",
    "print mean.data[0]"
   ]
  },
  {
   "cell_type": "code",
   "execution_count": 7,
   "metadata": {
    "collapsed": false
   },
   "outputs": [
    {
     "name": "stdout",
     "output_type": "stream",
     "text": [
      "inline_comments = None\n",
      "data_begin_line = 1\n",
      "column_names_begin_line = 0\n",
      "columnn_types = ['float', 'float', 'float', 'float', 'float', 'float', 'float', 'float', 'float']\n",
      "footer_line_types = None\n",
      "general_descriptor = Sparameter\n",
      "header_end_token = None\n",
      "header_end_line = None\n",
      "column_names_end_line = 1\n",
      "data_table_element_separator = \n",
      "\n",
      "escape_character = None\n",
      "data = None\n",
      "inline_comment_begin = !\n",
      "column_descriptions = None\n",
      "inline_comment_end = \n",
      "comments = [[' Created Mon Nov 30 18:22:43 2015', 0, 0], [' 2 Port Network Data from SP1.SP block', 2, 0], [' freq  magS11  angS11  magS21  angS21  magS12  angS12  magS22  angS22  ', 3, 0], ['     ', 4, 0]]\n",
      "data_begin_token = None\n",
      "comment_end = None\n",
      "header_begin_line = None\n",
      "row_end_token = None\n",
      "sparameter_complex = []\n",
      "number_ports = None\n",
      "column_names_end_token = None\n",
      "block_comment_begin = None\n",
      "method = mean\n",
      "header_begin_token = None\n",
      "metadata = None\n",
      "specific_descriptor = mean_Multiport\n",
      "option_line_line = 1\n",
      "empty_value = None\n",
      "column_names_begin_token = None\n",
      "noiseparameter_data = []\n",
      "footer_end_token = None\n",
      "footer_begin_token = None\n",
      "sparameter_row_formatter_string = None\n",
      "column_names = None\n",
      "metadata_key_value_delimiter = None\n",
      "column_types = None\n",
      "path = None\n",
      "comment_begin = None\n",
      "treat_header_as_comment = None\n",
      "option_line = # hz S MA R 50\n",
      "column_units = None\n",
      "column_names_delimiter = None\n",
      "treat_footer_as_comment = None\n",
      "extension = s2p\n",
      "header = None\n",
      "footer = None\n",
      "data_end_line = None\n",
      "block_comment_end = None\n",
      "footer_end_line = None\n",
      "data_delimiter = \t\n",
      "footer_begin_line = None\n",
      "data_end_token = None\n",
      "row_begin_token = None\n",
      "directory = None\n",
      "header_line_types = None\n",
      "row_formatter_string = None\n",
      "metadata_delimiter = None\n"
     ]
    }
   ],
   "source": [
    "mean.get_options()"
   ]
  },
  {
   "cell_type": "code",
   "execution_count": 13,
   "metadata": {
    "collapsed": false
   },
   "outputs": [
    {
     "name": "stdout",
     "output_type": "stream",
     "text": [
      "average_columns is ['magS11', 'argS11', 'magS21', 'argS21', 'magS12', 'argS12', 'magS22', 'argS22']\n",
      "Length of x is 11001, Length of y is 11001, Length of error is 11001\n",
      "Length of x is 11001, Length of y is 11001, Length of error is 11001\n",
      "Length of x is 11001, Length of y is 11001, Length of error is 11001\n",
      "Length of x is 11001, Length of y is 11001, Length of error is 11001\n"
     ]
    },
    {
     "data": {
      "text/plain": [
       "<matplotlib.figure.Figure at 0x10c287b8>"
      ]
     },
     "execution_count": 13,
     "metadata": {},
     "output_type": "execute_result"
    }
   ],
   "source": [
    "calrep_file.metadata[\"Device_Id\"]=\" Fake Device\"\n",
    "plot_calrep(calrep_file)"
   ]
  },
  {
   "cell_type": "code",
   "execution_count": 1,
   "metadata": {
    "collapsed": true
   },
   "outputs": [],
   "source": [
    "from win32com import client"
   ]
  },
  {
   "cell_type": "code",
   "execution_count": 2,
   "metadata": {
    "collapsed": false
   },
   "outputs": [],
   "source": [
    "word=client.DispatchEx(\"Word.Application\")"
   ]
  },
  {
   "cell_type": "code",
   "execution_count": 6,
   "metadata": {
    "collapsed": false
   },
   "outputs": [
    {
     "ename": "com_error",
     "evalue": "(-2147023170, 'The remote procedure call failed.', None, None)",
     "output_type": "error",
     "traceback": [
      "\u001b[1;31m---------------------------------------------------------------------------\u001b[0m",
      "\u001b[1;31mcom_error\u001b[0m                                 Traceback (most recent call last)",
      "\u001b[1;32m<ipython-input-6-f7ac52a25cc7>\u001b[0m in \u001b[0;36m<module>\u001b[1;34m()\u001b[0m\n\u001b[1;32m----> 1\u001b[1;33m \u001b[0mdoc\u001b[0m\u001b[1;33m=\u001b[0m\u001b[0mword\u001b[0m\u001b[1;33m.\u001b[0m\u001b[0mDocuments\u001b[0m\u001b[1;33m.\u001b[0m\u001b[0mOpen\u001b[0m\u001b[1;33m(\u001b[0m\u001b[1;34mr\"C:\\Share\\Aric-2016-05-11\\Aric\\Fab Resume Aric Sanders 2016.docx\"\u001b[0m\u001b[1;33m)\u001b[0m\u001b[1;33m\u001b[0m\u001b[0m\n\u001b[0m",
      "\u001b[1;32mC:\\Anaconda2\\lib\\site-packages\\win32com\\client\\dynamic.pyc\u001b[0m in \u001b[0;36mOpen\u001b[1;34m(self, FileName, ConfirmConversions, ReadOnly, AddToRecentFiles, PasswordDocument, PasswordTemplate, Revert, WritePasswordDocument, WritePasswordTemplate, Format, Encoding, Visible, OpenAndRepair, DocumentDirection, NoEncodingDialog, XMLTransform)\u001b[0m\n",
      "\u001b[1;31mcom_error\u001b[0m: (-2147023170, 'The remote procedure call failed.', None, None)"
     ]
    }
   ],
   "source": [
    "doc=word.Documents.Open(r\"C:\\Share\\Aric-2016-05-11\\Aric\\Fab Resume Aric Sanders 2016.docx\")"
   ]
  },
  {
   "cell_type": "code",
   "execution_count": 17,
   "metadata": {
    "collapsed": true
   },
   "outputs": [],
   "source": [
    "doc.SaveAs(\"test.pdf\",FileFormat=17)"
   ]
  },
  {
   "cell_type": "code",
   "execution_count": 18,
   "metadata": {
    "collapsed": true
   },
   "outputs": [],
   "source": [
    "doc.SaveAs(\"test.html\",FileFormat=10)"
   ]
  },
  {
   "cell_type": "code",
   "execution_count": 19,
   "metadata": {
    "collapsed": true
   },
   "outputs": [],
   "source": [
    "doc.SaveAs(\"test2.html\",FileFormat=8)"
   ]
  },
  {
   "cell_type": "code",
   "execution_count": 22,
   "metadata": {
    "collapsed": false
   },
   "outputs": [],
   "source": [
    "doc.SaveAs(\"test.odt\",FileFormat=23)"
   ]
  },
  {
   "cell_type": "code",
   "execution_count": null,
   "metadata": {
    "collapsed": true
   },
   "outputs": [],
   "source": [
    "doc.Close()"
   ]
  },
  {
   "cell_type": "code",
   "execution_count": 2,
   "metadata": {
    "collapsed": true
   },
   "outputs": [],
   "source": [
    "def doc_file_to_pdf_file(doc_file_name,pdf_file_name=\"test.pdf\"):\n",
    "    \"\"\"Converts a microsoft doc or docx file to a pdf using word. \n",
    "    Requires word and win32com to be installed. Returns the new file name\"\"\"\n",
    "    word=client.DispatchEx(\"Word.Application\")\n",
    "    doc=word.Documents.Open(doc_file_name)\n",
    "    doc.SaveAs(pdf_file_name,FileFormat=17)\n",
    "    doc.Close()\n",
    "    word.Quit()\n",
    "    return pdf_file_name\n",
    "\n",
    "def doc_file_to_html_file(doc_file_name,html_file_name=\"test.html\"):\n",
    "    \"\"\"Converts a microsoft doc or docx file to a filtered html file using word. \n",
    "    Requires word and win32com to be installed. Returns the new file name\"\"\"\n",
    "    word=client.DispatchEx(\"Word.Application\")\n",
    "    doc=word.Documents.Open(doc_file_name)\n",
    "    doc.SaveAs(html_file_name,FileFormat=10)\n",
    "    doc.Close()\n",
    "    word.Quit()\n",
    "    return html_file_name\n",
    "\n",
    "def doc_file_to_odt_file(doc_file_name,odt_file_name=\"test.odt\"):\n",
    "    \"\"\"Converts a microsoft doc or docx file to a open document format file using word. \n",
    "    Requires word and win32com to be installed. Returns the new file name\"\"\"\n",
    "    word=client.DispatchEx(\"Word.Application\")\n",
    "    doc=word.Documents.Open(doc_file_name)\n",
    "    doc.SaveAs(odt_file_name,FileFormat=23)\n",
    "    doc.Close()\n",
    "    word.Quit()\n",
    "    return odt_file_name\n",
    "\n",
    "def odt_file_to_doc_file(odt_file_name,doc_file_name=\"test.docx\"):\n",
    "    \"\"\"Converts a microsoft doc or docx file to a open document format file using word. \n",
    "    Requires word and win32com to be installed. Returns the new file name\"\"\"\n",
    "    word=client.DispatchEx(\"Word.Application\")\n",
    "    doc=word.Documents.Open(odt_file_name)\n",
    "    doc.SaveAs(doc_file_name,FileFormat=0)\n",
    "    doc.Close()\n",
    "    word.Quit()\n",
    "    return doc_file_name"
   ]
  },
  {
   "cell_type": "code",
   "execution_count": 8,
   "metadata": {
    "collapsed": false
   },
   "outputs": [
    {
     "data": {
      "text/plain": [
       "'test.pdf'"
      ]
     },
     "execution_count": 8,
     "metadata": {},
     "output_type": "execute_result"
    }
   ],
   "source": [
    "doc_file_to_pdf_file(r\"C:\\Share\\Aric-2016-05-11\\Aric\\CV 3i.odt\")"
   ]
  },
  {
   "cell_type": "code",
   "execution_count": 4,
   "metadata": {
    "collapsed": true
   },
   "outputs": [],
   "source": [
    "def excel_file_to_ods_file(excel_file_name,ods_file_name=\"test.ods\"):\n",
    "    \"\"\"Converts a microsoft xlsx or xls file to a open document spreadsheet file using excel. \n",
    "    Requires word and win32com to be installed. Returns the new file name\"\"\"\n",
    "    excel=client.DispatchEx(\"Excel.Application\")\n",
    "    workbook=excel.Workbooks.Open(excel_file_name)\n",
    "    workbook.SaveAs(ods_file_name,FileFormat=60)\n",
    "    workbook.Close()\n",
    "    excel.Quit()\n",
    "    return ods_file_name\n",
    "\n",
    "def ods_file_to_excel_file(ods_file_name,excel_file_name=\"test.xlsx\"):\n",
    "    \"\"\"Converts a microsoft doc or docx file to a open document format file using word. \n",
    "    Requires word and win32com to be installed. Returns the new file name\"\"\"\n",
    "    excel=client.DispatchEx(\"Excel.Application\")\n",
    "    workbook=excel.Workbooks.Open(ods_file_name)\n",
    "    workbook.SaveAs(excel_file_name,FileFormat=51)\n",
    "    workbook.Close()\n",
    "    excel.Quit()\n",
    "    return excel_file_name"
   ]
  },
  {
   "cell_type": "code",
   "execution_count": 18,
   "metadata": {
    "collapsed": true
   },
   "outputs": [],
   "source": [
    "def PptxFile_to_OdpFile(power_point_file_name,odp_file_name=\"test.odp\"):\n",
    "    power_point=client.DispatchEx(\"PowerPoint.Application\")\n",
    "    presentation=power_point.Presentations.Open(power_point_file_name)\n",
    "    presentation.SaveAs(odp_file_name,FileFormat=35)\n",
    "    presentation.Close()\n",
    "    power_point.Quit()\n",
    "    return odp_file_name\n",
    "\n",
    "def OdpFile_to_PptxFile(odp_file_name,power_point_file_name=\"test.pptx\"):\n",
    "    power_point=client.DispatchEx(\"PowerPoint.Application\")\n",
    "    presentation=power_point.Presentations.Open(odp_file_name)\n",
    "    presentation.SaveAs(power_point_file_name,FileFormat=11)\n",
    "    presentation.Close()\n",
    "    power_point.Quit()\n",
    "    return power_point_file_name"
   ]
  },
  {
   "cell_type": "code",
   "execution_count": 5,
   "metadata": {
    "collapsed": false
   },
   "outputs": [
    {
     "data": {
      "text/plain": [
       "'test.ods'"
      ]
     },
     "execution_count": 5,
     "metadata": {},
     "output_type": "execute_result"
    }
   ],
   "source": [
    "excel_file_to_ods_file(r'E:\\Share\\Administrative\\Tasks 01012012.xlsx')"
   ]
  },
  {
   "cell_type": "code",
   "execution_count": 6,
   "metadata": {
    "collapsed": false
   },
   "outputs": [
    {
     "data": {
      "text/plain": [
       "'test.xlsx'"
      ]
     },
     "execution_count": 6,
     "metadata": {},
     "output_type": "execute_result"
    }
   ],
   "source": [
    "ods_file_to_excel_file(\"test.ods\")"
   ]
  },
  {
   "cell_type": "code",
   "execution_count": 22,
   "metadata": {
    "collapsed": false
   },
   "outputs": [
    {
     "data": {
      "text/plain": [
       "'test.odp'"
      ]
     },
     "execution_count": 22,
     "metadata": {},
     "output_type": "execute_result"
    }
   ],
   "source": [
    "PptxFile_to_OdpFile(r\"test.pptx\")"
   ]
  },
  {
   "cell_type": "code",
   "execution_count": 25,
   "metadata": {
    "collapsed": false
   },
   "outputs": [
    {
     "data": {
      "text/plain": [
       "'test.pptx'"
      ]
     },
     "execution_count": 25,
     "metadata": {},
     "output_type": "execute_result"
    }
   ],
   "source": [
    "OdpFile_to_PptxFile(\"test.odp\")"
   ]
  },
  {
   "cell_type": "code",
   "execution_count": 9,
   "metadata": {
    "collapsed": true
   },
   "outputs": [],
   "source": [
    "power_point=client.DispatchEx(\"PowerPoint.Application\")\n",
    "#presentation=power_point.Presentations.Open(odp_file_name)\n",
    "#presentation.SaveAs(power_point_file_name,FileFormat=11)\n",
    "#presentation.Close()\n",
    "#power_point.Quit()"
   ]
  },
  {
   "cell_type": "code",
   "execution_count": 11,
   "metadata": {
    "collapsed": false
   },
   "outputs": [],
   "source": [
    "pres=power_point.Presentations.Open(\"E:\\Share\\S Parameter - Impedance 20161108.pptx\")"
   ]
  },
  {
   "cell_type": "code",
   "execution_count": 12,
   "metadata": {
    "collapsed": true
   },
   "outputs": [],
   "source": [
    "pres.SaveAs(\"test.odp\",FileFormat=35)"
   ]
  },
  {
   "cell_type": "code",
   "execution_count": 13,
   "metadata": {
    "collapsed": true
   },
   "outputs": [],
   "source": [
    "pres.Close()"
   ]
  },
  {
   "cell_type": "code",
   "execution_count": 15,
   "metadata": {
    "collapsed": false
   },
   "outputs": [
    {
     "ename": "com_error",
     "evalue": "(-2147417848, 'The object invoked has disconnected from its clients.', None, None)",
     "output_type": "error",
     "traceback": [
      "\u001b[0;31m---------------------------------------------------------------------------\u001b[0m",
      "\u001b[0;31mcom_error\u001b[0m                                 Traceback (most recent call last)",
      "\u001b[0;32m<ipython-input-15-c8515ac20906>\u001b[0m in \u001b[0;36m<module>\u001b[0;34m()\u001b[0m\n\u001b[0;32m----> 1\u001b[0;31m \u001b[0mpower_point\u001b[0m\u001b[1;33m.\u001b[0m\u001b[0mQuit\u001b[0m\u001b[1;33m(\u001b[0m\u001b[1;33m)\u001b[0m\u001b[1;33m\u001b[0m\u001b[0m\n\u001b[0m",
      "\u001b[0;32mC:\\python27\\lib\\site-packages\\win32com\\client\\dynamic.pyc\u001b[0m in \u001b[0;36mQuit\u001b[0;34m(self)\u001b[0m\n",
      "\u001b[0;31mcom_error\u001b[0m: (-2147417848, 'The object invoked has disconnected from its clients.', None, None)"
     ]
    }
   ],
   "source": [
    "power_point.Quit()"
   ]
  },
  {
   "cell_type": "code",
   "execution_count": 26,
   "metadata": {
    "collapsed": false
   },
   "outputs": [
    {
     "name": "stdout",
     "output_type": "stream",
     "text": [
      "Importing Code.Utils.Names\n",
      "Importing Code.DataHandlers.NISTModels\n",
      "Importing Code.DataHandlers.GeneralModels\n",
      "Importing Code.DataHandlers.TouchstoneModels\n",
      "Importing Code.DataHandlers.XMLModels\n",
      "Importing Code.DataHandlers.RadiCALModels\n",
      "Importing Code.DataHandlers.ZipModels\n",
      "Importing Code.DataHandlers.Translations\n",
      "Importing Code.DataHandlers.StatistiCALModels\n",
      "Importing Code.DataHandlers.MUFModels\n",
      "Importing Code.Analysis.SParameter\n",
      "Importing Code.InstrumentControl.Instruments\n",
      "Importing Code.InstrumentControl.Experiments\n"
     ]
    }
   ],
   "source": [
    "from pyMeasure import *"
   ]
  },
  {
   "cell_type": "code",
   "execution_count": 1,
   "metadata": {
    "collapsed": false
   },
   "outputs": [
    {
     "name": "stdout",
     "output_type": "stream",
     "text": [
      "Importing Code.Utils.Names\n",
      "Importing Code.DataHandlers.NISTModels\n",
      "Importing Code.DataHandlers.GeneralModels\n",
      "Importing Code.DataHandlers.TouchstoneModels\n",
      "Importing Code.DataHandlers.XMLModels\n",
      "Importing Code.DataHandlers.RadiCALModels\n",
      "Importing Code.DataHandlers.ZipModels\n",
      "Importing Code.DataHandlers.Translations\n",
      "Importing Code.DataHandlers.StatistiCALModels\n",
      "Importing Code.DataHandlers.MUFModels\n",
      "Importing Code.Analysis.SParameter\n",
      "Importing Code.InstrumentControl.Instruments\n",
      "Importing Code.InstrumentControl.Experiments\n"
     ]
    }
   ],
   "source": [
    "from pyMeasure.Code.DataHandlers.GraphModels import *"
   ]
  },
  {
   "cell_type": "code",
   "execution_count": 2,
   "metadata": {
    "collapsed": true
   },
   "outputs": [],
   "source": [
    "image_graph=ImageGraph()"
   ]
  },
  {
   "cell_type": "code",
   "execution_count": 3,
   "metadata": {
    "collapsed": false
   },
   "outputs": [
    {
     "data": {
      "text/plain": [
       "<matplotlib.figure.Figure at 0xde5bb00>"
      ]
     },
     "execution_count": 3,
     "metadata": {},
     "output_type": "execute_result"
    }
   ],
   "source": [
    "image_graph.show()"
   ]
  },
  {
   "cell_type": "code",
   "execution_count": 6,
   "metadata": {
    "collapsed": false
   },
   "outputs": [
    {
     "name": "stdout",
     "output_type": "stream",
     "text": [
      "['edge_Image_png_000', 'edge_png_Image_000']\n",
      "moving Image -> png\n",
      "pil_image.mode is RGBA\n",
      "moving png -> Image\n"
     ]
    },
    {
     "data": {
      "text/plain": [
       "'thumbnail_test.jpg'"
      ]
     },
     "execution_count": 6,
     "metadata": {},
     "output_type": "execute_result"
    }
   ],
   "source": [
    "image_graph.jump_to_external_node(\"thumbnail\",**{\"file_path\":\"thumbnail_test.jpg\"})"
   ]
  },
  {
   "cell_type": "code",
   "execution_count": 34,
   "metadata": {
    "collapsed": false
   },
   "outputs": [
    {
     "data": {
      "image/png": "[encoded data removed]",
      "text/plain": [
       "<matplotlib.figure.Figure at 0x20e33ac8>"
      ]
     },
     "metadata": {},
     "output_type": "display_data"
    },
    {
     "data": {
      "text/plain": [
       "<matplotlib.figure.Figure at 0x20fcfda0>"
      ]
     },
     "execution_count": 34,
     "metadata": {},
     "output_type": "execute_result"
    }
   ],
   "source": [
    "image_graph.show(descriptions=False,node_size=2500)"
   ]
  },
  {
   "cell_type": "code",
   "execution_count": 35,
   "metadata": {
    "collapsed": true
   },
   "outputs": [],
   "source": [
    "import networkx"
   ]
  },
  {
   "cell_type": "code",
   "execution_count": 50,
   "metadata": {
    "collapsed": false
   },
   "outputs": [],
   "source": [
    "networkx.draw_networkx(image_graph.display_graph,pos=image_graph.display_layout,\n",
    "                       labels={node:str(index+1) for index,node in enumerate(image_graph.node_names)})"
   ]
  },
  {
   "cell_type": "code",
   "execution_count": 53,
   "metadata": {
    "collapsed": false
   },
   "outputs": [
    {
     "data": {
      "application/javascript": [
       "/* Put everything inside the global mpl namespace */\n",
       "window.mpl = {};\n",
       "\n",
       "mpl.get_websocket_type = function() {\n",
       "    if (typeof(WebSocket) !== 'undefined') {\n",
       "        return WebSocket;\n",
       "    } else if (typeof(MozWebSocket) !== 'undefined') {\n",
       "        return MozWebSocket;\n",
       "    } else {\n",
       "        alert('Your browser does not have WebSocket support.' +\n",
       "              'Please try Chrome, Safari or Firefox ≥ 6. ' +\n",
       "              'Firefox 4 and 5 are also supported but you ' +\n",
       "              'have to enable WebSockets in about:config.');\n",
       "    };\n",
       "}\n",
       "\n",
       "mpl.figure = function(figure_id, websocket, ondownload, parent_element) {\n",
       "    this.id = figure_id;\n",
       "\n",
       "    this.ws = websocket;\n",
       "\n",
       "    this.supports_binary = (this.ws.binaryType != undefined);\n",
       "\n",
       "    if (!this.supports_binary) {\n",
       "        var warnings = document.getElementById(\"mpl-warnings\");\n",
       "        if (warnings) {\n",
       "            warnings.style.display = 'block';\n",
       "            warnings.textContent = (\n",
       "                \"This browser does not support binary websocket messages. \" +\n",
       "                    \"Performance may be slow.\");\n",
       "        }\n",
       "    }\n",
       "\n",
       "    this.imageObj = new Image();\n",
       "\n",
       "    this.context = undefined;\n",
       "    this.message = undefined;\n",
       "    this.canvas = undefined;\n",
       "    this.rubberband_canvas = undefined;\n",
       "    this.rubberband_context = undefined;\n",
       "    this.format_dropdown = undefined;\n",
       "\n",
       "    this.image_mode = 'full';\n",
       "\n",
       "    this.root = $('<div/>');\n",
       "    this._root_extra_style(this.root)\n",
       "    this.root.attr('style', 'display: inline-block');\n",
       "\n",
       "    $(parent_element).append(this.root);\n",
       "\n",
       "    this._init_header(this);\n",
       "    this._init_canvas(this);\n",
       "    this._init_toolbar(this);\n",
       "\n",
       "    var fig = this;\n",
       "\n",
       "    this.waiting = false;\n",
       "\n",
       "    this.ws.onopen =  function () {\n",
       "            fig.send_message(\"supports_binary\", {value: fig.supports_binary});\n",
       "            fig.send_message(\"send_image_mode\", {});\n",
       "            fig.send_message(\"refresh\", {});\n",
       "        }\n",
       "\n",
       "    this.imageObj.onload = function() {\n",
       "            if (fig.image_mode == 'full') {\n",
       "                // Full images could contain transparency (where diff images\n",
       "                // almost always do), so we need to clear the canvas so that\n",
       "                // there is no ghosting.\n",
       "                fig.context.clearRect(0, 0, fig.canvas.width, fig.canvas.height);\n",
       "            }\n",
       "            fig.context.drawImage(fig.imageObj, 0, 0);\n",
       "        };\n",
       "\n",
       "    this.imageObj.onunload = function() {\n",
       "        this.ws.close();\n",
       "    }\n",
       "\n",
       "    this.ws.onmessage = this._make_on_message_function(this);\n",
       "\n",
       "    this.ondownload = ondownload;\n",
       "}\n",
       "\n",
       "mpl.figure.prototype._init_header = function() {\n",
       "    var titlebar = $(\n",
       "        '<div class=\"ui-dialog-titlebar ui-widget-header ui-corner-all ' +\n",
       "        'ui-helper-clearfix\"/>');\n",
       "    var titletext = $(\n",
       "        '<div class=\"ui-dialog-title\" style=\"width: 100%; ' +\n",
       "        'text-align: center; padding: 3px;\"/>');\n",
       "    titlebar.append(titletext)\n",
       "    this.root.append(titlebar);\n",
       "    this.header = titletext[0];\n",
       "}\n",
       "\n",
       "\n",
       "\n",
       "mpl.figure.prototype._canvas_extra_style = function(canvas_div) {\n",
       "\n",
       "}\n",
       "\n",
       "\n",
       "mpl.figure.prototype._root_extra_style = function(canvas_div) {\n",
       "\n",
       "}\n",
       "\n",
       "mpl.figure.prototype._init_canvas = function() {\n",
       "    var fig = this;\n",
       "\n",
       "    var canvas_div = $('<div/>');\n",
       "\n",
       "    canvas_div.attr('style', 'position: relative; clear: both; outline: 0');\n",
       "\n",
       "    function canvas_keyboard_event(event) {\n",
       "        return fig.key_event(event, event['data']);\n",
       "    }\n",
       "\n",
       "    canvas_div.keydown('key_press', canvas_keyboard_event);\n",
       "    canvas_div.keyup('key_release', canvas_keyboard_event);\n",
       "    this.canvas_div = canvas_div\n",
       "    this._canvas_extra_style(canvas_div)\n",
       "    this.root.append(canvas_div);\n",
       "\n",
       "    var canvas = $('<canvas/>');\n",
       "    canvas.addClass('mpl-canvas');\n",
       "    canvas.attr('style', \"left: 0; top: 0; z-index: 0; outline: 0\")\n",
       "\n",
       "    this.canvas = canvas[0];\n",
       "    this.context = canvas[0].getContext(\"2d\");\n",
       "\n",
       "    var rubberband = $('<canvas/>');\n",
       "    rubberband.attr('style', \"position: absolute; left: 0; top: 0; z-index: 1;\")\n",
       "\n",
       "    var pass_mouse_events = true;\n",
       "\n",
       "    canvas_div.resizable({\n",
       "        start: function(event, ui) {\n",
       "            pass_mouse_events = false;\n",
       "        },\n",
       "        resize: function(event, ui) {\n",
       "            fig.request_resize(ui.size.width, ui.size.height);\n",
       "        },\n",
       "        stop: function(event, ui) {\n",
       "            pass_mouse_events = true;\n",
       "            fig.request_resize(ui.size.width, ui.size.height);\n",
       "        },\n",
       "    });\n",
       "\n",
       "    function mouse_event_fn(event) {\n",
       "        if (pass_mouse_events)\n",
       "            return fig.mouse_event(event, event['data']);\n",
       "    }\n",
       "\n",
       "    rubberband.mousedown('button_press', mouse_event_fn);\n",
       "    rubberband.mouseup('button_release', mouse_event_fn);\n",
       "    // Throttle sequential mouse events to 1 every 20ms.\n",
       "    rubberband.mousemove('motion_notify', mouse_event_fn);\n",
       "\n",
       "    rubberband.mouseenter('figure_enter', mouse_event_fn);\n",
       "    rubberband.mouseleave('figure_leave', mouse_event_fn);\n",
       "\n",
       "    canvas_div.on(\"wheel\", function (event) {\n",
       "        event = event.originalEvent;\n",
       "        event['data'] = 'scroll'\n",
       "        if (event.deltaY < 0) {\n",
       "            event.step = 1;\n",
       "        } else {\n",
       "            event.step = -1;\n",
       "        }\n",
       "        mouse_event_fn(event);\n",
       "    });\n",
       "\n",
       "    canvas_div.append(canvas);\n",
       "    canvas_div.append(rubberband);\n",
       "\n",
       "    this.rubberband = rubberband;\n",
       "    this.rubberband_canvas = rubberband[0];\n",
       "    this.rubberband_context = rubberband[0].getContext(\"2d\");\n",
       "    this.rubberband_context.strokeStyle = \"#000000\";\n",
       "\n",
       "    this._resize_canvas = function(width, height) {\n",
       "        // Keep the size of the canvas, canvas container, and rubber band\n",
       "        // canvas in synch.\n",
       "        canvas_div.css('width', width)\n",
       "        canvas_div.css('height', height)\n",
       "\n",
       "        canvas.attr('width', width);\n",
       "        canvas.attr('height', height);\n",
       "\n",
       "        rubberband.attr('width', width);\n",
       "        rubberband.attr('height', height);\n",
       "    }\n",
       "\n",
       "    // Set the figure to an initial 600x600px, this will subsequently be updated\n",
       "    // upon first draw.\n",
       "    this._resize_canvas(600, 600);\n",
       "\n",
       "    // Disable right mouse context menu.\n",
       "    $(this.rubberband_canvas).bind(\"contextmenu\",function(e){\n",
       "        return false;\n",
       "    });\n",
       "\n",
       "    function set_focus () {\n",
       "        canvas.focus();\n",
       "        canvas_div.focus();\n",
       "    }\n",
       "\n",
       "    window.setTimeout(set_focus, 100);\n",
       "}\n",
       "\n",
       "mpl.figure.prototype._init_toolbar = function() {\n",
       "    var fig = this;\n",
       "\n",
       "    var nav_element = $('<div/>')\n",
       "    nav_element.attr('style', 'width: 100%');\n",
       "    this.root.append(nav_element);\n",
       "\n",
       "    // Define a callback function for later on.\n",
       "    function toolbar_event(event) {\n",
       "        return fig.toolbar_button_onclick(event['data']);\n",
       "    }\n",
       "    function toolbar_mouse_event(event) {\n",
       "        return fig.toolbar_button_onmouseover(event['data']);\n",
       "    }\n",
       "\n",
       "    for(var toolbar_ind in mpl.toolbar_items) {\n",
       "        var name = mpl.toolbar_items[toolbar_ind][0];\n",
       "        var tooltip = mpl.toolbar_items[toolbar_ind][1];\n",
       "        var image = mpl.toolbar_items[toolbar_ind][2];\n",
       "        var method_name = mpl.toolbar_items[toolbar_ind][3];\n",
       "\n",
       "        if (!name) {\n",
       "            // put a spacer in here.\n",
       "            continue;\n",
       "        }\n",
       "        var button = $('<button/>');\n",
       "        button.addClass('ui-button ui-widget ui-state-default ui-corner-all ' +\n",
       "                        'ui-button-icon-only');\n",
       "        button.attr('role', 'button');\n",
       "        button.attr('aria-disabled', 'false');\n",
       "        button.click(method_name, toolbar_event);\n",
       "        button.mouseover(tooltip, toolbar_mouse_event);\n",
       "\n",
       "        var icon_img = $('<span/>');\n",
       "        icon_img.addClass('ui-button-icon-primary ui-icon');\n",
       "        icon_img.addClass(image);\n",
       "        icon_img.addClass('ui-corner-all');\n",
       "\n",
       "        var tooltip_span = $('<span/>');\n",
       "        tooltip_span.addClass('ui-button-text');\n",
       "        tooltip_span.html(tooltip);\n",
       "\n",
       "        button.append(icon_img);\n",
       "        button.append(tooltip_span);\n",
       "\n",
       "        nav_element.append(button);\n",
       "    }\n",
       "\n",
       "    var fmt_picker_span = $('<span/>');\n",
       "\n",
       "    var fmt_picker = $('<select/>');\n",
       "    fmt_picker.addClass('mpl-toolbar-option ui-widget ui-widget-content');\n",
       "    fmt_picker_span.append(fmt_picker);\n",
       "    nav_element.append(fmt_picker_span);\n",
       "    this.format_dropdown = fmt_picker[0];\n",
       "\n",
       "    for (var ind in mpl.extensions) {\n",
       "        var fmt = mpl.extensions[ind];\n",
       "        var option = $(\n",
       "            '<option/>', {selected: fmt === mpl.default_extension}).html(fmt);\n",
       "        fmt_picker.append(option)\n",
       "    }\n",
       "\n",
       "    // Add hover states to the ui-buttons\n",
       "    $( \".ui-button\" ).hover(\n",
       "        function() { $(this).addClass(\"ui-state-hover\");},\n",
       "        function() { $(this).removeClass(\"ui-state-hover\");}\n",
       "    );\n",
       "\n",
       "    var status_bar = $('<span class=\"mpl-message\"/>');\n",
       "    nav_element.append(status_bar);\n",
       "    this.message = status_bar[0];\n",
       "}\n",
       "\n",
       "mpl.figure.prototype.request_resize = function(x_pixels, y_pixels) {\n",
       "    // Request matplotlib to resize the figure. Matplotlib will then trigger a resize in the client,\n",
       "    // which will in turn request a refresh of the image.\n",
       "    this.send_message('resize', {'width': x_pixels, 'height': y_pixels});\n",
       "}\n",
       "\n",
       "mpl.figure.prototype.send_message = function(type, properties) {\n",
       "    properties['type'] = type;\n",
       "    properties['figure_id'] = this.id;\n",
       "    this.ws.send(JSON.stringify(properties));\n",
       "}\n",
       "\n",
       "mpl.figure.prototype.send_draw_message = function() {\n",
       "    if (!this.waiting) {\n",
       "        this.waiting = true;\n",
       "        this.ws.send(JSON.stringify({type: \"draw\", figure_id: this.id}));\n",
       "    }\n",
       "}\n",
       "\n",
       "\n",
       "mpl.figure.prototype.handle_save = function(fig, msg) {\n",
       "    var format_dropdown = fig.format_dropdown;\n",
       "    var format = format_dropdown.options[format_dropdown.selectedIndex].value;\n",
       "    fig.ondownload(fig, format);\n",
       "}\n",
       "\n",
       "\n",
       "mpl.figure.prototype.handle_resize = function(fig, msg) {\n",
       "    var size = msg['size'];\n",
       "    if (size[0] != fig.canvas.width || size[1] != fig.canvas.height) {\n",
       "        fig._resize_canvas(size[0], size[1]);\n",
       "        fig.send_message(\"refresh\", {});\n",
       "    };\n",
       "}\n",
       "\n",
       "mpl.figure.prototype.handle_rubberband = function(fig, msg) {\n",
       "    var x0 = msg['x0'];\n",
       "    var y0 = fig.canvas.height - msg['y0'];\n",
       "    var x1 = msg['x1'];\n",
       "    var y1 = fig.canvas.height - msg['y1'];\n",
       "    x0 = Math.floor(x0) + 0.5;\n",
       "    y0 = Math.floor(y0) + 0.5;\n",
       "    x1 = Math.floor(x1) + 0.5;\n",
       "    y1 = Math.floor(y1) + 0.5;\n",
       "    var min_x = Math.min(x0, x1);\n",
       "    var min_y = Math.min(y0, y1);\n",
       "    var width = Math.abs(x1 - x0);\n",
       "    var height = Math.abs(y1 - y0);\n",
       "\n",
       "    fig.rubberband_context.clearRect(\n",
       "        0, 0, fig.canvas.width, fig.canvas.height);\n",
       "\n",
       "    fig.rubberband_context.strokeRect(min_x, min_y, width, height);\n",
       "}\n",
       "\n",
       "mpl.figure.prototype.handle_figure_label = function(fig, msg) {\n",
       "    // Updates the figure title.\n",
       "    fig.header.textContent = msg['label'];\n",
       "}\n",
       "\n",
       "mpl.figure.prototype.handle_cursor = function(fig, msg) {\n",
       "    var cursor = msg['cursor'];\n",
       "    switch(cursor)\n",
       "    {\n",
       "    case 0:\n",
       "        cursor = 'pointer';\n",
       "        break;\n",
       "    case 1:\n",
       "        cursor = 'default';\n",
       "        break;\n",
       "    case 2:\n",
       "        cursor = 'crosshair';\n",
       "        break;\n",
       "    case 3:\n",
       "        cursor = 'move';\n",
       "        break;\n",
       "    }\n",
       "    fig.rubberband_canvas.style.cursor = cursor;\n",
       "}\n",
       "\n",
       "mpl.figure.prototype.handle_message = function(fig, msg) {\n",
       "    fig.message.textContent = msg['message'];\n",
       "}\n",
       "\n",
       "mpl.figure.prototype.handle_draw = function(fig, msg) {\n",
       "    // Request the server to send over a new figure.\n",
       "    fig.send_draw_message();\n",
       "}\n",
       "\n",
       "mpl.figure.prototype.handle_image_mode = function(fig, msg) {\n",
       "    fig.image_mode = msg['mode'];\n",
       "}\n",
       "\n",
       "mpl.figure.prototype.updated_canvas_event = function() {\n",
       "    // Called whenever the canvas gets updated.\n",
       "    this.send_message(\"ack\", {});\n",
       "}\n",
       "\n",
       "// A function to construct a web socket function for onmessage handling.\n",
       "// Called in the figure constructor.\n",
       "mpl.figure.prototype._make_on_message_function = function(fig) {\n",
       "    return function socket_on_message(evt) {\n",
       "        if (evt.data instanceof Blob) {\n",
       "            /* FIXME: We get \"Resource interpreted as Image but\n",
       "             * transferred with MIME type text/plain:\" errors on\n",
       "             * Chrome.  But how to set the MIME type?  It doesn't seem\n",
       "             * to be part of the websocket stream */\n",
       "            evt.data.type = \"image/png\";\n",
       "\n",
       "            /* Free the memory for the previous frames */\n",
       "            if (fig.imageObj.src) {\n",
       "                (window.URL || window.webkitURL).revokeObjectURL(\n",
       "                    fig.imageObj.src);\n",
       "            }\n",
       "\n",
       "            fig.imageObj.src = (window.URL || window.webkitURL).createObjectURL(\n",
       "                evt.data);\n",
       "            fig.updated_canvas_event();\n",
       "            fig.waiting = false;\n",
       "            return;\n",
       "        }\n",
       "        else if (typeof evt.data === 'string' && evt.data.slice(0, 21) == \"data:image/png;base64\") {\n",
       "            fig.imageObj.src = evt.data;\n",
       "            fig.updated_canvas_event();\n",
       "            fig.waiting = false;\n",
       "            return;\n",
       "        }\n",
       "\n",
       "        var msg = JSON.parse(evt.data);\n",
       "        var msg_type = msg['type'];\n",
       "\n",
       "        // Call the  \"handle_{type}\" callback, which takes\n",
       "        // the figure and JSON message as its only arguments.\n",
       "        try {\n",
       "            var callback = fig[\"handle_\" + msg_type];\n",
       "        } catch (e) {\n",
       "            console.log(\"No handler for the '\" + msg_type + \"' message type: \", msg);\n",
       "            return;\n",
       "        }\n",
       "\n",
       "        if (callback) {\n",
       "            try {\n",
       "                // console.log(\"Handling '\" + msg_type + \"' message: \", msg);\n",
       "                callback(fig, msg);\n",
       "            } catch (e) {\n",
       "                console.log(\"Exception inside the 'handler_\" + msg_type + \"' callback:\", e, e.stack, msg);\n",
       "            }\n",
       "        }\n",
       "    };\n",
       "}\n",
       "\n",
       "// from http://stackoverflow.com/questions/1114465/getting-mouse-location-in-canvas\n",
       "mpl.findpos = function(e) {\n",
       "    //this section is from http://www.quirksmode.org/js/events_properties.html\n",
       "    var targ;\n",
       "    if (!e)\n",
       "        e = window.event;\n",
       "    if (e.target)\n",
       "        targ = e.target;\n",
       "    else if (e.srcElement)\n",
       "        targ = e.srcElement;\n",
       "    if (targ.nodeType == 3) // defeat Safari bug\n",
       "        targ = targ.parentNode;\n",
       "\n",
       "    // jQuery normalizes the pageX and pageY\n",
       "    // pageX,Y are the mouse positions relative to the document\n",
       "    // offset() returns the position of the element relative to the document\n",
       "    var x = e.pageX - $(targ).offset().left;\n",
       "    var y = e.pageY - $(targ).offset().top;\n",
       "\n",
       "    return {\"x\": x, \"y\": y};\n",
       "};\n",
       "\n",
       "/*\n",
       " * return a copy of an object with only non-object keys\n",
       " * we need this to avoid circular references\n",
       " * http://stackoverflow.com/a/24161582/3208463\n",
       " */\n",
       "function simpleKeys (original) {\n",
       "  return Object.keys(original).reduce(function (obj, key) {\n",
       "    if (typeof original[key] !== 'object')\n",
       "        obj[key] = original[key]\n",
       "    return obj;\n",
       "  }, {});\n",
       "}\n",
       "\n",
       "mpl.figure.prototype.mouse_event = function(event, name) {\n",
       "    var canvas_pos = mpl.findpos(event)\n",
       "\n",
       "    if (name === 'button_press')\n",
       "    {\n",
       "        this.canvas.focus();\n",
       "        this.canvas_div.focus();\n",
       "    }\n",
       "\n",
       "    var x = canvas_pos.x;\n",
       "    var y = canvas_pos.y;\n",
       "\n",
       "    this.send_message(name, {x: x, y: y, button: event.button,\n",
       "                             step: event.step,\n",
       "                             guiEvent: simpleKeys(event)});\n",
       "\n",
       "    /* This prevents the web browser from automatically changing to\n",
       "     * the text insertion cursor when the button is pressed.  We want\n",
       "     * to control all of the cursor setting manually through the\n",
       "     * 'cursor' event from matplotlib */\n",
       "    event.preventDefault();\n",
       "    return false;\n",
       "}\n",
       "\n",
       "mpl.figure.prototype._key_event_extra = function(event, name) {\n",
       "    // Handle any extra behaviour associated with a key event\n",
       "}\n",
       "\n",
       "mpl.figure.prototype.key_event = function(event, name) {\n",
       "\n",
       "    // Prevent repeat events\n",
       "    if (name == 'key_press')\n",
       "    {\n",
       "        if (event.which === this._key)\n",
       "            return;\n",
       "        else\n",
       "            this._key = event.which;\n",
       "    }\n",
       "    if (name == 'key_release')\n",
       "        this._key = null;\n",
       "\n",
       "    var value = '';\n",
       "    if (event.ctrlKey && event.which != 17)\n",
       "        value += \"ctrl+\";\n",
       "    if (event.altKey && event.which != 18)\n",
       "        value += \"alt+\";\n",
       "    if (event.shiftKey && event.which != 16)\n",
       "        value += \"shift+\";\n",
       "\n",
       "    value += 'k';\n",
       "    value += event.which.toString();\n",
       "\n",
       "    this._key_event_extra(event, name);\n",
       "\n",
       "    this.send_message(name, {key: value,\n",
       "                             guiEvent: simpleKeys(event)});\n",
       "    return false;\n",
       "}\n",
       "\n",
       "mpl.figure.prototype.toolbar_button_onclick = function(name) {\n",
       "    if (name == 'download') {\n",
       "        this.handle_save(this, null);\n",
       "    } else {\n",
       "        this.send_message(\"toolbar_button\", {name: name});\n",
       "    }\n",
       "};\n",
       "\n",
       "mpl.figure.prototype.toolbar_button_onmouseover = function(tooltip) {\n",
       "    this.message.textContent = tooltip;\n",
       "};\n",
       "mpl.toolbar_items = [[\"Home\", \"Reset original view\", \"fa fa-home icon-home\", \"home\"], [\"Back\", \"Back to  previous view\", \"fa fa-arrow-left icon-arrow-left\", \"back\"], [\"Forward\", \"Forward to next view\", \"fa fa-arrow-right icon-arrow-right\", \"forward\"], [\"\", \"\", \"\", \"\"], [\"Pan\", \"Pan axes with left mouse, zoom with right\", \"fa fa-arrows icon-move\", \"pan\"], [\"Zoom\", \"Zoom to rectangle\", \"fa fa-square-o icon-check-empty\", \"zoom\"], [\"\", \"\", \"\", \"\"], [\"Download\", \"Download plot\", \"fa fa-floppy-o icon-save\", \"download\"]];\n",
       "\n",
       "mpl.extensions = [\"eps\", \"jpeg\", \"pdf\", \"png\", \"ps\", \"raw\", \"svg\", \"tif\"];\n",
       "\n",
       "mpl.default_extension = \"png\";var comm_websocket_adapter = function(comm) {\n",
       "    // Create a \"websocket\"-like object which calls the given IPython comm\n",
       "    // object with the appropriate methods. Currently this is a non binary\n",
       "    // socket, so there is still some room for performance tuning.\n",
       "    var ws = {};\n",
       "\n",
       "    ws.close = function() {\n",
       "        comm.close()\n",
       "    };\n",
       "    ws.send = function(m) {\n",
       "        //console.log('sending', m);\n",
       "        comm.send(m);\n",
       "    };\n",
       "    // Register the callback with on_msg.\n",
       "    comm.on_msg(function(msg) {\n",
       "        //console.log('receiving', msg['content']['data'], msg);\n",
       "        // Pass the mpl event to the overriden (by mpl) onmessage function.\n",
       "        ws.onmessage(msg['content']['data'])\n",
       "    });\n",
       "    return ws;\n",
       "}\n",
       "\n",
       "mpl.mpl_figure_comm = function(comm, msg) {\n",
       "    // This is the function which gets called when the mpl process\n",
       "    // starts-up an IPython Comm through the \"matplotlib\" channel.\n",
       "\n",
       "    var id = msg.content.data.id;\n",
       "    // Get hold of the div created by the display call when the Comm\n",
       "    // socket was opened in Python.\n",
       "    var element = $(\"#\" + id);\n",
       "    var ws_proxy = comm_websocket_adapter(comm)\n",
       "\n",
       "    function ondownload(figure, format) {\n",
       "        window.open(figure.imageObj.src);\n",
       "    }\n",
       "\n",
       "    var fig = new mpl.figure(id, ws_proxy,\n",
       "                           ondownload,\n",
       "                           element.get(0));\n",
       "\n",
       "    // Call onopen now - mpl needs it, as it is assuming we've passed it a real\n",
       "    // web socket which is closed, not our websocket->open comm proxy.\n",
       "    ws_proxy.onopen();\n",
       "\n",
       "    fig.parent_element = element.get(0);\n",
       "    fig.cell_info = mpl.find_output_cell(\"<div id='\" + id + \"'></div>\");\n",
       "    if (!fig.cell_info) {\n",
       "        console.error(\"Failed to find cell for figure\", id, fig);\n",
       "        return;\n",
       "    }\n",
       "\n",
       "    var output_index = fig.cell_info[2]\n",
       "    var cell = fig.cell_info[0];\n",
       "\n",
       "};\n",
       "\n",
       "mpl.figure.prototype.handle_close = function(fig, msg) {\n",
       "    fig.root.unbind('remove')\n",
       "\n",
       "    // Update the output cell to use the data from the current canvas.\n",
       "    fig.push_to_output();\n",
       "    var dataURL = fig.canvas.toDataURL();\n",
       "    // Re-enable the keyboard manager in IPython - without this line, in FF,\n",
       "    // the notebook keyboard shortcuts fail.\n",
       "    IPython.keyboard_manager.enable()\n",
       "    $(fig.parent_element).html('<img src=\"' + dataURL + '\">');\n",
       "    fig.close_ws(fig, msg);\n",
       "}\n",
       "\n",
       "mpl.figure.prototype.close_ws = function(fig, msg){\n",
       "    fig.send_message('closing', msg);\n",
       "    // fig.ws.close()\n",
       "}\n",
       "\n",
       "mpl.figure.prototype.push_to_output = function(remove_interactive) {\n",
       "    // Turn the data on the canvas into data in the output cell.\n",
       "    var dataURL = this.canvas.toDataURL();\n",
       "    this.cell_info[1]['text/html'] = '<img src=\"' + dataURL + '\">';\n",
       "}\n",
       "\n",
       "mpl.figure.prototype.updated_canvas_event = function() {\n",
       "    // Tell IPython that the notebook contents must change.\n",
       "    IPython.notebook.set_dirty(true);\n",
       "    this.send_message(\"ack\", {});\n",
       "    var fig = this;\n",
       "    // Wait a second, then push the new image to the DOM so\n",
       "    // that it is saved nicely (might be nice to debounce this).\n",
       "    setTimeout(function () { fig.push_to_output() }, 1000);\n",
       "}\n",
       "\n",
       "mpl.figure.prototype._init_toolbar = function() {\n",
       "    var fig = this;\n",
       "\n",
       "    var nav_element = $('<div/>')\n",
       "    nav_element.attr('style', 'width: 100%');\n",
       "    this.root.append(nav_element);\n",
       "\n",
       "    // Define a callback function for later on.\n",
       "    function toolbar_event(event) {\n",
       "        return fig.toolbar_button_onclick(event['data']);\n",
       "    }\n",
       "    function toolbar_mouse_event(event) {\n",
       "        return fig.toolbar_button_onmouseover(event['data']);\n",
       "    }\n",
       "\n",
       "    for(var toolbar_ind in mpl.toolbar_items){\n",
       "        var name = mpl.toolbar_items[toolbar_ind][0];\n",
       "        var tooltip = mpl.toolbar_items[toolbar_ind][1];\n",
       "        var image = mpl.toolbar_items[toolbar_ind][2];\n",
       "        var method_name = mpl.toolbar_items[toolbar_ind][3];\n",
       "\n",
       "        if (!name) { continue; };\n",
       "\n",
       "        var button = $('<button class=\"btn btn-default\" href=\"#\" title=\"' + name + '\"><i class=\"fa ' + image + ' fa-lg\"></i></button>');\n",
       "        button.click(method_name, toolbar_event);\n",
       "        button.mouseover(tooltip, toolbar_mouse_event);\n",
       "        nav_element.append(button);\n",
       "    }\n",
       "\n",
       "    // Add the status bar.\n",
       "    var status_bar = $('<span class=\"mpl-message\" style=\"text-align:right; float: right;\"/>');\n",
       "    nav_element.append(status_bar);\n",
       "    this.message = status_bar[0];\n",
       "\n",
       "    // Add the close button to the window.\n",
       "    var buttongrp = $('<div class=\"btn-group inline pull-right\"></div>');\n",
       "    var button = $('<button class=\"btn btn-mini btn-primary\" href=\"#\" title=\"Stop Interaction\"><i class=\"fa fa-power-off icon-remove icon-large\"></i></button>');\n",
       "    button.click(function (evt) { fig.handle_close(fig, {}); } );\n",
       "    button.mouseover('Stop Interaction', toolbar_mouse_event);\n",
       "    buttongrp.append(button);\n",
       "    var titlebar = this.root.find($('.ui-dialog-titlebar'));\n",
       "    titlebar.prepend(buttongrp);\n",
       "}\n",
       "\n",
       "mpl.figure.prototype._root_extra_style = function(el){\n",
       "    var fig = this\n",
       "    el.on(\"remove\", function(){\n",
       "\tfig.close_ws(fig, {});\n",
       "    });\n",
       "}\n",
       "\n",
       "mpl.figure.prototype._canvas_extra_style = function(el){\n",
       "    // this is important to make the div 'focusable\n",
       "    el.attr('tabindex', 0)\n",
       "    // reach out to IPython and tell the keyboard manager to turn it's self\n",
       "    // off when our div gets focus\n",
       "\n",
       "    // location in version 3\n",
       "    if (IPython.notebook.keyboard_manager) {\n",
       "        IPython.notebook.keyboard_manager.register_events(el);\n",
       "    }\n",
       "    else {\n",
       "        // location in version 2\n",
       "        IPython.keyboard_manager.register_events(el);\n",
       "    }\n",
       "\n",
       "}\n",
       "\n",
       "mpl.figure.prototype._key_event_extra = function(event, name) {\n",
       "    var manager = IPython.notebook.keyboard_manager;\n",
       "    if (!manager)\n",
       "        manager = IPython.keyboard_manager;\n",
       "\n",
       "    // Check for shift+enter\n",
       "    if (event.shiftKey && event.which == 13) {\n",
       "        this.canvas_div.blur();\n",
       "        event.shiftKey = false;\n",
       "        // Send a \"J\" for go to next cell\n",
       "        event.which = 74;\n",
       "        event.keyCode = 74;\n",
       "        manager.command_mode();\n",
       "        manager.handle_keydown(event);\n",
       "    }\n",
       "}\n",
       "\n",
       "mpl.figure.prototype.handle_save = function(fig, msg) {\n",
       "    fig.ondownload(fig, null);\n",
       "}\n",
       "\n",
       "\n",
       "mpl.find_output_cell = function(html_output) {\n",
       "    // Return the cell and output element which can be found *uniquely* in the notebook.\n",
       "    // Note - this is a bit hacky, but it is done because the \"notebook_saving.Notebook\"\n",
       "    // IPython event is triggered only after the cells have been serialised, which for\n",
       "    // our purposes (turning an active figure into a static one), is too late.\n",
       "    var cells = IPython.notebook.get_cells();\n",
       "    var ncells = cells.length;\n",
       "    for (var i=0; i<ncells; i++) {\n",
       "        var cell = cells[i];\n",
       "        if (cell.cell_type === 'code'){\n",
       "            for (var j=0; j<cell.output_area.outputs.length; j++) {\n",
       "                var data = cell.output_area.outputs[j];\n",
       "                if (data.data) {\n",
       "                    // IPython >= 3 moved mimebundle to data attribute of output\n",
       "                    data = data.data;\n",
       "                }\n",
       "                if (data['text/html'] == html_output) {\n",
       "                    return [cell, data, j];\n",
       "                }\n",
       "            }\n",
       "        }\n",
       "    }\n",
       "}\n",
       "\n",
       "// Register the function which deals with the matplotlib target/channel.\n",
       "// The kernel may be null if the page has been refreshed.\n",
       "if (IPython.notebook.kernel != null) {\n",
       "    IPython.notebook.kernel.comm_manager.register_target('matplotlib', mpl.mpl_figure_comm);\n",
       "}\n"
      ],
      "text/plain": [
       "<IPython.core.display.Javascript object>"
      ]
     },
     "metadata": {},
     "output_type": "display_data"
    },
    {
     "data": {
      "text/html": [
       "<img src=\"data:image/png;base64,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\">"
      ],
      "text/plain": [
       "<IPython.core.display.HTML object>"
      ]
     },
     "metadata": {},
     "output_type": "display_data"
    }
   ],
   "source": [
    "%matplotlib notebook\n",
    "networkx.draw_networkx(image_graph.display_graph,pos=image_graph.display_layout,\n",
    "                       labels={node:str(index+1) for index,node in enumerate(image_graph.node_names)})\n",
    "plt.show()"
   ]
  },
  {
   "cell_type": "code",
   "execution_count": 43,
   "metadata": {
    "collapsed": false
   },
   "outputs": [
    {
     "data": {
      "text/plain": [
       "['Image',\n",
       " 'png',\n",
       " 'jpg',\n",
       " 'tiff',\n",
       " 'gif',\n",
       " 'bmp',\n",
       " 'base64',\n",
       " 'embeddedHTML',\n",
       " 'ndarray',\n",
       " 'MatplotlibFigure']"
      ]
     },
     "execution_count": 43,
     "metadata": {},
     "output_type": "execute_result"
    }
   ],
   "source": [
    "image_graph.node_names"
   ]
  },
  {
   "cell_type": "code",
   "execution_count": 3,
   "metadata": {
    "collapsed": false
   },
   "outputs": [],
   "source": [
    "table_graph=TableGraph()"
   ]
  },
  {
   "cell_type": "code",
   "execution_count": 3,
   "metadata": {
    "collapsed": false
   },
   "outputs": [
    {
     "data": {
      "text/plain": [
       "<matplotlib.figure.Figure at 0xddd60b8>"
      ]
     },
     "execution_count": 3,
     "metadata": {},
     "output_type": "execute_result"
    }
   ],
   "source": [
    "\n",
    "table_graph.show()"
   ]
  },
  {
   "cell_type": "code",
   "execution_count": 4,
   "metadata": {
    "collapsed": true
   },
   "outputs": [],
   "source": [
    "meta_graph=MetadataGraph()"
   ]
  },
  {
   "cell_type": "code",
   "execution_count": 7,
   "metadata": {
    "collapsed": false
   },
   "outputs": [
    {
     "data": {
      "text/plain": [
       "<matplotlib.figure.Figure at 0xe411940>"
      ]
     },
     "execution_count": 7,
     "metadata": {},
     "output_type": "execute_result"
    }
   ],
   "source": [
    "plt.close()\n",
    "meta_graph.show()"
   ]
  },
  {
   "cell_type": "code",
   "execution_count": 61,
   "metadata": {
    "collapsed": false
   },
   "outputs": [],
   "source": [
    "import StringIO\n",
    "import cStringIO"
   ]
  },
  {
   "cell_type": "code",
   "execution_count": 62,
   "metadata": {
    "collapsed": true
   },
   "outputs": [],
   "source": [
    "test_string=\"A new String\\nAnother Line\""
   ]
  },
  {
   "cell_type": "code",
   "execution_count": 70,
   "metadata": {
    "collapsed": true
   },
   "outputs": [],
   "source": [
    "def String_to_StringIo(string):\n",
    "    \"\"\"Converts a string to a StringIO.StringIO object\"\"\"\n",
    "    return StringIO.StringIO(string)\n",
    "def StringIo_to_String(string_io_object):\n",
    "    \"\"\"Converts a StringIO.StringIO object to a string \"\"\"\n",
    "    return string_io_object.getvalue()\n",
    "def String_to_CStringIo(string):\n",
    "    \"\"\"Converts a string to a StringIO.StringIO object\"\"\"\n",
    "    return cStringIO.StringIO(string)\n",
    "def CStringIo_to_String(string_io_object):\n",
    "    \"\"\"Converts a StringIO.StringIO object to a string \"\"\"\n",
    "    return string_io_object.getvalue()"
   ]
  },
  {
   "cell_type": "code",
   "execution_count": 67,
   "metadata": {
    "collapsed": true
   },
   "outputs": [],
   "source": [
    "stio1=String_to_StringIo(test_string)"
   ]
  },
  {
   "cell_type": "code",
   "execution_count": 68,
   "metadata": {
    "collapsed": false
   },
   "outputs": [],
   "source": [
    "st2=StringIo_to_String(stio1)"
   ]
  },
  {
   "cell_type": "code",
   "execution_count": 69,
   "metadata": {
    "collapsed": false
   },
   "outputs": [
    {
     "data": {
      "text/plain": [
       "True"
      ]
     },
     "execution_count": 69,
     "metadata": {},
     "output_type": "execute_result"
    }
   ],
   "source": [
    "test_string==st2"
   ]
  },
  {
   "cell_type": "code",
   "execution_count": 71,
   "metadata": {
    "collapsed": true
   },
   "outputs": [],
   "source": [
    "cstio1=String_to_CStringIo(test_string)"
   ]
  },
  {
   "cell_type": "code",
   "execution_count": 72,
   "metadata": {
    "collapsed": true
   },
   "outputs": [],
   "source": [
    "st3=CStringIo_to_String(cstio1)"
   ]
  },
  {
   "cell_type": "code",
   "execution_count": 73,
   "metadata": {
    "collapsed": false
   },
   "outputs": [
    {
     "data": {
      "text/plain": [
       "True"
      ]
     },
     "execution_count": 73,
     "metadata": {},
     "output_type": "execute_result"
    }
   ],
   "source": [
    "test_string==st3"
   ]
  },
  {
   "cell_type": "code",
   "execution_count": 7,
   "metadata": {
    "collapsed": true
   },
   "outputs": [],
   "source": [
    "string_graph=StringGraph()"
   ]
  },
  {
   "cell_type": "code",
   "execution_count": 11,
   "metadata": {
    "collapsed": false
   },
   "outputs": [
    {
     "data": {
      "application/javascript": [
       "/* Put everything inside the global mpl namespace */\n",
       "window.mpl = {};\n",
       "\n",
       "mpl.get_websocket_type = function() {\n",
       "    if (typeof(WebSocket) !== 'undefined') {\n",
       "        return WebSocket;\n",
       "    } else if (typeof(MozWebSocket) !== 'undefined') {\n",
       "        return MozWebSocket;\n",
       "    } else {\n",
       "        alert('Your browser does not have WebSocket support.' +\n",
       "              'Please try Chrome, Safari or Firefox ≥ 6. ' +\n",
       "              'Firefox 4 and 5 are also supported but you ' +\n",
       "              'have to enable WebSockets in about:config.');\n",
       "    };\n",
       "}\n",
       "\n",
       "mpl.figure = function(figure_id, websocket, ondownload, parent_element) {\n",
       "    this.id = figure_id;\n",
       "\n",
       "    this.ws = websocket;\n",
       "\n",
       "    this.supports_binary = (this.ws.binaryType != undefined);\n",
       "\n",
       "    if (!this.supports_binary) {\n",
       "        var warnings = document.getElementById(\"mpl-warnings\");\n",
       "        if (warnings) {\n",
       "            warnings.style.display = 'block';\n",
       "            warnings.textContent = (\n",
       "                \"This browser does not support binary websocket messages. \" +\n",
       "                    \"Performance may be slow.\");\n",
       "        }\n",
       "    }\n",
       "\n",
       "    this.imageObj = new Image();\n",
       "\n",
       "    this.context = undefined;\n",
       "    this.message = undefined;\n",
       "    this.canvas = undefined;\n",
       "    this.rubberband_canvas = undefined;\n",
       "    this.rubberband_context = undefined;\n",
       "    this.format_dropdown = undefined;\n",
       "\n",
       "    this.image_mode = 'full';\n",
       "\n",
       "    this.root = $('<div/>');\n",
       "    this._root_extra_style(this.root)\n",
       "    this.root.attr('style', 'display: inline-block');\n",
       "\n",
       "    $(parent_element).append(this.root);\n",
       "\n",
       "    this._init_header(this);\n",
       "    this._init_canvas(this);\n",
       "    this._init_toolbar(this);\n",
       "\n",
       "    var fig = this;\n",
       "\n",
       "    this.waiting = false;\n",
       "\n",
       "    this.ws.onopen =  function () {\n",
       "            fig.send_message(\"supports_binary\", {value: fig.supports_binary});\n",
       "            fig.send_message(\"send_image_mode\", {});\n",
       "            fig.send_message(\"refresh\", {});\n",
       "        }\n",
       "\n",
       "    this.imageObj.onload = function() {\n",
       "            if (fig.image_mode == 'full') {\n",
       "                // Full images could contain transparency (where diff images\n",
       "                // almost always do), so we need to clear the canvas so that\n",
       "                // there is no ghosting.\n",
       "                fig.context.clearRect(0, 0, fig.canvas.width, fig.canvas.height);\n",
       "            }\n",
       "            fig.context.drawImage(fig.imageObj, 0, 0);\n",
       "        };\n",
       "\n",
       "    this.imageObj.onunload = function() {\n",
       "        this.ws.close();\n",
       "    }\n",
       "\n",
       "    this.ws.onmessage = this._make_on_message_function(this);\n",
       "\n",
       "    this.ondownload = ondownload;\n",
       "}\n",
       "\n",
       "mpl.figure.prototype._init_header = function() {\n",
       "    var titlebar = $(\n",
       "        '<div class=\"ui-dialog-titlebar ui-widget-header ui-corner-all ' +\n",
       "        'ui-helper-clearfix\"/>');\n",
       "    var titletext = $(\n",
       "        '<div class=\"ui-dialog-title\" style=\"width: 100%; ' +\n",
       "        'text-align: center; padding: 3px;\"/>');\n",
       "    titlebar.append(titletext)\n",
       "    this.root.append(titlebar);\n",
       "    this.header = titletext[0];\n",
       "}\n",
       "\n",
       "\n",
       "\n",
       "mpl.figure.prototype._canvas_extra_style = function(canvas_div) {\n",
       "\n",
       "}\n",
       "\n",
       "\n",
       "mpl.figure.prototype._root_extra_style = function(canvas_div) {\n",
       "\n",
       "}\n",
       "\n",
       "mpl.figure.prototype._init_canvas = function() {\n",
       "    var fig = this;\n",
       "\n",
       "    var canvas_div = $('<div/>');\n",
       "\n",
       "    canvas_div.attr('style', 'position: relative; clear: both; outline: 0');\n",
       "\n",
       "    function canvas_keyboard_event(event) {\n",
       "        return fig.key_event(event, event['data']);\n",
       "    }\n",
       "\n",
       "    canvas_div.keydown('key_press', canvas_keyboard_event);\n",
       "    canvas_div.keyup('key_release', canvas_keyboard_event);\n",
       "    this.canvas_div = canvas_div\n",
       "    this._canvas_extra_style(canvas_div)\n",
       "    this.root.append(canvas_div);\n",
       "\n",
       "    var canvas = $('<canvas/>');\n",
       "    canvas.addClass('mpl-canvas');\n",
       "    canvas.attr('style', \"left: 0; top: 0; z-index: 0; outline: 0\")\n",
       "\n",
       "    this.canvas = canvas[0];\n",
       "    this.context = canvas[0].getContext(\"2d\");\n",
       "\n",
       "    var rubberband = $('<canvas/>');\n",
       "    rubberband.attr('style', \"position: absolute; left: 0; top: 0; z-index: 1;\")\n",
       "\n",
       "    var pass_mouse_events = true;\n",
       "\n",
       "    canvas_div.resizable({\n",
       "        start: function(event, ui) {\n",
       "            pass_mouse_events = false;\n",
       "        },\n",
       "        resize: function(event, ui) {\n",
       "            fig.request_resize(ui.size.width, ui.size.height);\n",
       "        },\n",
       "        stop: function(event, ui) {\n",
       "            pass_mouse_events = true;\n",
       "            fig.request_resize(ui.size.width, ui.size.height);\n",
       "        },\n",
       "    });\n",
       "\n",
       "    function mouse_event_fn(event) {\n",
       "        if (pass_mouse_events)\n",
       "            return fig.mouse_event(event, event['data']);\n",
       "    }\n",
       "\n",
       "    rubberband.mousedown('button_press', mouse_event_fn);\n",
       "    rubberband.mouseup('button_release', mouse_event_fn);\n",
       "    // Throttle sequential mouse events to 1 every 20ms.\n",
       "    rubberband.mousemove('motion_notify', mouse_event_fn);\n",
       "\n",
       "    rubberband.mouseenter('figure_enter', mouse_event_fn);\n",
       "    rubberband.mouseleave('figure_leave', mouse_event_fn);\n",
       "\n",
       "    canvas_div.on(\"wheel\", function (event) {\n",
       "        event = event.originalEvent;\n",
       "        event['data'] = 'scroll'\n",
       "        if (event.deltaY < 0) {\n",
       "            event.step = 1;\n",
       "        } else {\n",
       "            event.step = -1;\n",
       "        }\n",
       "        mouse_event_fn(event);\n",
       "    });\n",
       "\n",
       "    canvas_div.append(canvas);\n",
       "    canvas_div.append(rubberband);\n",
       "\n",
       "    this.rubberband = rubberband;\n",
       "    this.rubberband_canvas = rubberband[0];\n",
       "    this.rubberband_context = rubberband[0].getContext(\"2d\");\n",
       "    this.rubberband_context.strokeStyle = \"#000000\";\n",
       "\n",
       "    this._resize_canvas = function(width, height) {\n",
       "        // Keep the size of the canvas, canvas container, and rubber band\n",
       "        // canvas in synch.\n",
       "        canvas_div.css('width', width)\n",
       "        canvas_div.css('height', height)\n",
       "\n",
       "        canvas.attr('width', width);\n",
       "        canvas.attr('height', height);\n",
       "\n",
       "        rubberband.attr('width', width);\n",
       "        rubberband.attr('height', height);\n",
       "    }\n",
       "\n",
       "    // Set the figure to an initial 600x600px, this will subsequently be updated\n",
       "    // upon first draw.\n",
       "    this._resize_canvas(600, 600);\n",
       "\n",
       "    // Disable right mouse context menu.\n",
       "    $(this.rubberband_canvas).bind(\"contextmenu\",function(e){\n",
       "        return false;\n",
       "    });\n",
       "\n",
       "    function set_focus () {\n",
       "        canvas.focus();\n",
       "        canvas_div.focus();\n",
       "    }\n",
       "\n",
       "    window.setTimeout(set_focus, 100);\n",
       "}\n",
       "\n",
       "mpl.figure.prototype._init_toolbar = function() {\n",
       "    var fig = this;\n",
       "\n",
       "    var nav_element = $('<div/>')\n",
       "    nav_element.attr('style', 'width: 100%');\n",
       "    this.root.append(nav_element);\n",
       "\n",
       "    // Define a callback function for later on.\n",
       "    function toolbar_event(event) {\n",
       "        return fig.toolbar_button_onclick(event['data']);\n",
       "    }\n",
       "    function toolbar_mouse_event(event) {\n",
       "        return fig.toolbar_button_onmouseover(event['data']);\n",
       "    }\n",
       "\n",
       "    for(var toolbar_ind in mpl.toolbar_items) {\n",
       "        var name = mpl.toolbar_items[toolbar_ind][0];\n",
       "        var tooltip = mpl.toolbar_items[toolbar_ind][1];\n",
       "        var image = mpl.toolbar_items[toolbar_ind][2];\n",
       "        var method_name = mpl.toolbar_items[toolbar_ind][3];\n",
       "\n",
       "        if (!name) {\n",
       "            // put a spacer in here.\n",
       "            continue;\n",
       "        }\n",
       "        var button = $('<button/>');\n",
       "        button.addClass('ui-button ui-widget ui-state-default ui-corner-all ' +\n",
       "                        'ui-button-icon-only');\n",
       "        button.attr('role', 'button');\n",
       "        button.attr('aria-disabled', 'false');\n",
       "        button.click(method_name, toolbar_event);\n",
       "        button.mouseover(tooltip, toolbar_mouse_event);\n",
       "\n",
       "        var icon_img = $('<span/>');\n",
       "        icon_img.addClass('ui-button-icon-primary ui-icon');\n",
       "        icon_img.addClass(image);\n",
       "        icon_img.addClass('ui-corner-all');\n",
       "\n",
       "        var tooltip_span = $('<span/>');\n",
       "        tooltip_span.addClass('ui-button-text');\n",
       "        tooltip_span.html(tooltip);\n",
       "\n",
       "        button.append(icon_img);\n",
       "        button.append(tooltip_span);\n",
       "\n",
       "        nav_element.append(button);\n",
       "    }\n",
       "\n",
       "    var fmt_picker_span = $('<span/>');\n",
       "\n",
       "    var fmt_picker = $('<select/>');\n",
       "    fmt_picker.addClass('mpl-toolbar-option ui-widget ui-widget-content');\n",
       "    fmt_picker_span.append(fmt_picker);\n",
       "    nav_element.append(fmt_picker_span);\n",
       "    this.format_dropdown = fmt_picker[0];\n",
       "\n",
       "    for (var ind in mpl.extensions) {\n",
       "        var fmt = mpl.extensions[ind];\n",
       "        var option = $(\n",
       "            '<option/>', {selected: fmt === mpl.default_extension}).html(fmt);\n",
       "        fmt_picker.append(option)\n",
       "    }\n",
       "\n",
       "    // Add hover states to the ui-buttons\n",
       "    $( \".ui-button\" ).hover(\n",
       "        function() { $(this).addClass(\"ui-state-hover\");},\n",
       "        function() { $(this).removeClass(\"ui-state-hover\");}\n",
       "    );\n",
       "\n",
       "    var status_bar = $('<span class=\"mpl-message\"/>');\n",
       "    nav_element.append(status_bar);\n",
       "    this.message = status_bar[0];\n",
       "}\n",
       "\n",
       "mpl.figure.prototype.request_resize = function(x_pixels, y_pixels) {\n",
       "    // Request matplotlib to resize the figure. Matplotlib will then trigger a resize in the client,\n",
       "    // which will in turn request a refresh of the image.\n",
       "    this.send_message('resize', {'width': x_pixels, 'height': y_pixels});\n",
       "}\n",
       "\n",
       "mpl.figure.prototype.send_message = function(type, properties) {\n",
       "    properties['type'] = type;\n",
       "    properties['figure_id'] = this.id;\n",
       "    this.ws.send(JSON.stringify(properties));\n",
       "}\n",
       "\n",
       "mpl.figure.prototype.send_draw_message = function() {\n",
       "    if (!this.waiting) {\n",
       "        this.waiting = true;\n",
       "        this.ws.send(JSON.stringify({type: \"draw\", figure_id: this.id}));\n",
       "    }\n",
       "}\n",
       "\n",
       "\n",
       "mpl.figure.prototype.handle_save = function(fig, msg) {\n",
       "    var format_dropdown = fig.format_dropdown;\n",
       "    var format = format_dropdown.options[format_dropdown.selectedIndex].value;\n",
       "    fig.ondownload(fig, format);\n",
       "}\n",
       "\n",
       "\n",
       "mpl.figure.prototype.handle_resize = function(fig, msg) {\n",
       "    var size = msg['size'];\n",
       "    if (size[0] != fig.canvas.width || size[1] != fig.canvas.height) {\n",
       "        fig._resize_canvas(size[0], size[1]);\n",
       "        fig.send_message(\"refresh\", {});\n",
       "    };\n",
       "}\n",
       "\n",
       "mpl.figure.prototype.handle_rubberband = function(fig, msg) {\n",
       "    var x0 = msg['x0'];\n",
       "    var y0 = fig.canvas.height - msg['y0'];\n",
       "    var x1 = msg['x1'];\n",
       "    var y1 = fig.canvas.height - msg['y1'];\n",
       "    x0 = Math.floor(x0) + 0.5;\n",
       "    y0 = Math.floor(y0) + 0.5;\n",
       "    x1 = Math.floor(x1) + 0.5;\n",
       "    y1 = Math.floor(y1) + 0.5;\n",
       "    var min_x = Math.min(x0, x1);\n",
       "    var min_y = Math.min(y0, y1);\n",
       "    var width = Math.abs(x1 - x0);\n",
       "    var height = Math.abs(y1 - y0);\n",
       "\n",
       "    fig.rubberband_context.clearRect(\n",
       "        0, 0, fig.canvas.width, fig.canvas.height);\n",
       "\n",
       "    fig.rubberband_context.strokeRect(min_x, min_y, width, height);\n",
       "}\n",
       "\n",
       "mpl.figure.prototype.handle_figure_label = function(fig, msg) {\n",
       "    // Updates the figure title.\n",
       "    fig.header.textContent = msg['label'];\n",
       "}\n",
       "\n",
       "mpl.figure.prototype.handle_cursor = function(fig, msg) {\n",
       "    var cursor = msg['cursor'];\n",
       "    switch(cursor)\n",
       "    {\n",
       "    case 0:\n",
       "        cursor = 'pointer';\n",
       "        break;\n",
       "    case 1:\n",
       "        cursor = 'default';\n",
       "        break;\n",
       "    case 2:\n",
       "        cursor = 'crosshair';\n",
       "        break;\n",
       "    case 3:\n",
       "        cursor = 'move';\n",
       "        break;\n",
       "    }\n",
       "    fig.rubberband_canvas.style.cursor = cursor;\n",
       "}\n",
       "\n",
       "mpl.figure.prototype.handle_message = function(fig, msg) {\n",
       "    fig.message.textContent = msg['message'];\n",
       "}\n",
       "\n",
       "mpl.figure.prototype.handle_draw = function(fig, msg) {\n",
       "    // Request the server to send over a new figure.\n",
       "    fig.send_draw_message();\n",
       "}\n",
       "\n",
       "mpl.figure.prototype.handle_image_mode = function(fig, msg) {\n",
       "    fig.image_mode = msg['mode'];\n",
       "}\n",
       "\n",
       "mpl.figure.prototype.updated_canvas_event = function() {\n",
       "    // Called whenever the canvas gets updated.\n",
       "    this.send_message(\"ack\", {});\n",
       "}\n",
       "\n",
       "// A function to construct a web socket function for onmessage handling.\n",
       "// Called in the figure constructor.\n",
       "mpl.figure.prototype._make_on_message_function = function(fig) {\n",
       "    return function socket_on_message(evt) {\n",
       "        if (evt.data instanceof Blob) {\n",
       "            /* FIXME: We get \"Resource interpreted as Image but\n",
       "             * transferred with MIME type text/plain:\" errors on\n",
       "             * Chrome.  But how to set the MIME type?  It doesn't seem\n",
       "             * to be part of the websocket stream */\n",
       "            evt.data.type = \"image/png\";\n",
       "\n",
       "            /* Free the memory for the previous frames */\n",
       "            if (fig.imageObj.src) {\n",
       "                (window.URL || window.webkitURL).revokeObjectURL(\n",
       "                    fig.imageObj.src);\n",
       "            }\n",
       "\n",
       "            fig.imageObj.src = (window.URL || window.webkitURL).createObjectURL(\n",
       "                evt.data);\n",
       "            fig.updated_canvas_event();\n",
       "            fig.waiting = false;\n",
       "            return;\n",
       "        }\n",
       "        else if (typeof evt.data === 'string' && evt.data.slice(0, 21) == \"data:image/png;base64\") {\n",
       "            fig.imageObj.src = evt.data;\n",
       "            fig.updated_canvas_event();\n",
       "            fig.waiting = false;\n",
       "            return;\n",
       "        }\n",
       "\n",
       "        var msg = JSON.parse(evt.data);\n",
       "        var msg_type = msg['type'];\n",
       "\n",
       "        // Call the  \"handle_{type}\" callback, which takes\n",
       "        // the figure and JSON message as its only arguments.\n",
       "        try {\n",
       "            var callback = fig[\"handle_\" + msg_type];\n",
       "        } catch (e) {\n",
       "            console.log(\"No handler for the '\" + msg_type + \"' message type: \", msg);\n",
       "            return;\n",
       "        }\n",
       "\n",
       "        if (callback) {\n",
       "            try {\n",
       "                // console.log(\"Handling '\" + msg_type + \"' message: \", msg);\n",
       "                callback(fig, msg);\n",
       "            } catch (e) {\n",
       "                console.log(\"Exception inside the 'handler_\" + msg_type + \"' callback:\", e, e.stack, msg);\n",
       "            }\n",
       "        }\n",
       "    };\n",
       "}\n",
       "\n",
       "// from http://stackoverflow.com/questions/1114465/getting-mouse-location-in-canvas\n",
       "mpl.findpos = function(e) {\n",
       "    //this section is from http://www.quirksmode.org/js/events_properties.html\n",
       "    var targ;\n",
       "    if (!e)\n",
       "        e = window.event;\n",
       "    if (e.target)\n",
       "        targ = e.target;\n",
       "    else if (e.srcElement)\n",
       "        targ = e.srcElement;\n",
       "    if (targ.nodeType == 3) // defeat Safari bug\n",
       "        targ = targ.parentNode;\n",
       "\n",
       "    // jQuery normalizes the pageX and pageY\n",
       "    // pageX,Y are the mouse positions relative to the document\n",
       "    // offset() returns the position of the element relative to the document\n",
       "    var x = e.pageX - $(targ).offset().left;\n",
       "    var y = e.pageY - $(targ).offset().top;\n",
       "\n",
       "    return {\"x\": x, \"y\": y};\n",
       "};\n",
       "\n",
       "/*\n",
       " * return a copy of an object with only non-object keys\n",
       " * we need this to avoid circular references\n",
       " * http://stackoverflow.com/a/24161582/3208463\n",
       " */\n",
       "function simpleKeys (original) {\n",
       "  return Object.keys(original).reduce(function (obj, key) {\n",
       "    if (typeof original[key] !== 'object')\n",
       "        obj[key] = original[key]\n",
       "    return obj;\n",
       "  }, {});\n",
       "}\n",
       "\n",
       "mpl.figure.prototype.mouse_event = function(event, name) {\n",
       "    var canvas_pos = mpl.findpos(event)\n",
       "\n",
       "    if (name === 'button_press')\n",
       "    {\n",
       "        this.canvas.focus();\n",
       "        this.canvas_div.focus();\n",
       "    }\n",
       "\n",
       "    var x = canvas_pos.x;\n",
       "    var y = canvas_pos.y;\n",
       "\n",
       "    this.send_message(name, {x: x, y: y, button: event.button,\n",
       "                             step: event.step,\n",
       "                             guiEvent: simpleKeys(event)});\n",
       "\n",
       "    /* This prevents the web browser from automatically changing to\n",
       "     * the text insertion cursor when the button is pressed.  We want\n",
       "     * to control all of the cursor setting manually through the\n",
       "     * 'cursor' event from matplotlib */\n",
       "    event.preventDefault();\n",
       "    return false;\n",
       "}\n",
       "\n",
       "mpl.figure.prototype._key_event_extra = function(event, name) {\n",
       "    // Handle any extra behaviour associated with a key event\n",
       "}\n",
       "\n",
       "mpl.figure.prototype.key_event = function(event, name) {\n",
       "\n",
       "    // Prevent repeat events\n",
       "    if (name == 'key_press')\n",
       "    {\n",
       "        if (event.which === this._key)\n",
       "            return;\n",
       "        else\n",
       "            this._key = event.which;\n",
       "    }\n",
       "    if (name == 'key_release')\n",
       "        this._key = null;\n",
       "\n",
       "    var value = '';\n",
       "    if (event.ctrlKey && event.which != 17)\n",
       "        value += \"ctrl+\";\n",
       "    if (event.altKey && event.which != 18)\n",
       "        value += \"alt+\";\n",
       "    if (event.shiftKey && event.which != 16)\n",
       "        value += \"shift+\";\n",
       "\n",
       "    value += 'k';\n",
       "    value += event.which.toString();\n",
       "\n",
       "    this._key_event_extra(event, name);\n",
       "\n",
       "    this.send_message(name, {key: value,\n",
       "                             guiEvent: simpleKeys(event)});\n",
       "    return false;\n",
       "}\n",
       "\n",
       "mpl.figure.prototype.toolbar_button_onclick = function(name) {\n",
       "    if (name == 'download') {\n",
       "        this.handle_save(this, null);\n",
       "    } else {\n",
       "        this.send_message(\"toolbar_button\", {name: name});\n",
       "    }\n",
       "};\n",
       "\n",
       "mpl.figure.prototype.toolbar_button_onmouseover = function(tooltip) {\n",
       "    this.message.textContent = tooltip;\n",
       "};\n",
       "mpl.toolbar_items = [[\"Home\", \"Reset original view\", \"fa fa-home icon-home\", \"home\"], [\"Back\", \"Back to  previous view\", \"fa fa-arrow-left icon-arrow-left\", \"back\"], [\"Forward\", \"Forward to next view\", \"fa fa-arrow-right icon-arrow-right\", \"forward\"], [\"\", \"\", \"\", \"\"], [\"Pan\", \"Pan axes with left mouse, zoom with right\", \"fa fa-arrows icon-move\", \"pan\"], [\"Zoom\", \"Zoom to rectangle\", \"fa fa-square-o icon-check-empty\", \"zoom\"], [\"\", \"\", \"\", \"\"], [\"Download\", \"Download plot\", \"fa fa-floppy-o icon-save\", \"download\"]];\n",
       "\n",
       "mpl.extensions = [\"eps\", \"jpeg\", \"pdf\", \"png\", \"ps\", \"raw\", \"svg\", \"tif\"];\n",
       "\n",
       "mpl.default_extension = \"png\";var comm_websocket_adapter = function(comm) {\n",
       "    // Create a \"websocket\"-like object which calls the given IPython comm\n",
       "    // object with the appropriate methods. Currently this is a non binary\n",
       "    // socket, so there is still some room for performance tuning.\n",
       "    var ws = {};\n",
       "\n",
       "    ws.close = function() {\n",
       "        comm.close()\n",
       "    };\n",
       "    ws.send = function(m) {\n",
       "        //console.log('sending', m);\n",
       "        comm.send(m);\n",
       "    };\n",
       "    // Register the callback with on_msg.\n",
       "    comm.on_msg(function(msg) {\n",
       "        //console.log('receiving', msg['content']['data'], msg);\n",
       "        // Pass the mpl event to the overriden (by mpl) onmessage function.\n",
       "        ws.onmessage(msg['content']['data'])\n",
       "    });\n",
       "    return ws;\n",
       "}\n",
       "\n",
       "mpl.mpl_figure_comm = function(comm, msg) {\n",
       "    // This is the function which gets called when the mpl process\n",
       "    // starts-up an IPython Comm through the \"matplotlib\" channel.\n",
       "\n",
       "    var id = msg.content.data.id;\n",
       "    // Get hold of the div created by the display call when the Comm\n",
       "    // socket was opened in Python.\n",
       "    var element = $(\"#\" + id);\n",
       "    var ws_proxy = comm_websocket_adapter(comm)\n",
       "\n",
       "    function ondownload(figure, format) {\n",
       "        window.open(figure.imageObj.src);\n",
       "    }\n",
       "\n",
       "    var fig = new mpl.figure(id, ws_proxy,\n",
       "                           ondownload,\n",
       "                           element.get(0));\n",
       "\n",
       "    // Call onopen now - mpl needs it, as it is assuming we've passed it a real\n",
       "    // web socket which is closed, not our websocket->open comm proxy.\n",
       "    ws_proxy.onopen();\n",
       "\n",
       "    fig.parent_element = element.get(0);\n",
       "    fig.cell_info = mpl.find_output_cell(\"<div id='\" + id + \"'></div>\");\n",
       "    if (!fig.cell_info) {\n",
       "        console.error(\"Failed to find cell for figure\", id, fig);\n",
       "        return;\n",
       "    }\n",
       "\n",
       "    var output_index = fig.cell_info[2]\n",
       "    var cell = fig.cell_info[0];\n",
       "\n",
       "};\n",
       "\n",
       "mpl.figure.prototype.handle_close = function(fig, msg) {\n",
       "    fig.root.unbind('remove')\n",
       "\n",
       "    // Update the output cell to use the data from the current canvas.\n",
       "    fig.push_to_output();\n",
       "    var dataURL = fig.canvas.toDataURL();\n",
       "    // Re-enable the keyboard manager in IPython - without this line, in FF,\n",
       "    // the notebook keyboard shortcuts fail.\n",
       "    IPython.keyboard_manager.enable()\n",
       "    $(fig.parent_element).html('<img src=\"' + dataURL + '\">');\n",
       "    fig.close_ws(fig, msg);\n",
       "}\n",
       "\n",
       "mpl.figure.prototype.close_ws = function(fig, msg){\n",
       "    fig.send_message('closing', msg);\n",
       "    // fig.ws.close()\n",
       "}\n",
       "\n",
       "mpl.figure.prototype.push_to_output = function(remove_interactive) {\n",
       "    // Turn the data on the canvas into data in the output cell.\n",
       "    var dataURL = this.canvas.toDataURL();\n",
       "    this.cell_info[1]['text/html'] = '<img src=\"' + dataURL + '\">';\n",
       "}\n",
       "\n",
       "mpl.figure.prototype.updated_canvas_event = function() {\n",
       "    // Tell IPython that the notebook contents must change.\n",
       "    IPython.notebook.set_dirty(true);\n",
       "    this.send_message(\"ack\", {});\n",
       "    var fig = this;\n",
       "    // Wait a second, then push the new image to the DOM so\n",
       "    // that it is saved nicely (might be nice to debounce this).\n",
       "    setTimeout(function () { fig.push_to_output() }, 1000);\n",
       "}\n",
       "\n",
       "mpl.figure.prototype._init_toolbar = function() {\n",
       "    var fig = this;\n",
       "\n",
       "    var nav_element = $('<div/>')\n",
       "    nav_element.attr('style', 'width: 100%');\n",
       "    this.root.append(nav_element);\n",
       "\n",
       "    // Define a callback function for later on.\n",
       "    function toolbar_event(event) {\n",
       "        return fig.toolbar_button_onclick(event['data']);\n",
       "    }\n",
       "    function toolbar_mouse_event(event) {\n",
       "        return fig.toolbar_button_onmouseover(event['data']);\n",
       "    }\n",
       "\n",
       "    for(var toolbar_ind in mpl.toolbar_items){\n",
       "        var name = mpl.toolbar_items[toolbar_ind][0];\n",
       "        var tooltip = mpl.toolbar_items[toolbar_ind][1];\n",
       "        var image = mpl.toolbar_items[toolbar_ind][2];\n",
       "        var method_name = mpl.toolbar_items[toolbar_ind][3];\n",
       "\n",
       "        if (!name) { continue; };\n",
       "\n",
       "        var button = $('<button class=\"btn btn-default\" href=\"#\" title=\"' + name + '\"><i class=\"fa ' + image + ' fa-lg\"></i></button>');\n",
       "        button.click(method_name, toolbar_event);\n",
       "        button.mouseover(tooltip, toolbar_mouse_event);\n",
       "        nav_element.append(button);\n",
       "    }\n",
       "\n",
       "    // Add the status bar.\n",
       "    var status_bar = $('<span class=\"mpl-message\" style=\"text-align:right; float: right;\"/>');\n",
       "    nav_element.append(status_bar);\n",
       "    this.message = status_bar[0];\n",
       "\n",
       "    // Add the close button to the window.\n",
       "    var buttongrp = $('<div class=\"btn-group inline pull-right\"></div>');\n",
       "    var button = $('<button class=\"btn btn-mini btn-primary\" href=\"#\" title=\"Stop Interaction\"><i class=\"fa fa-power-off icon-remove icon-large\"></i></button>');\n",
       "    button.click(function (evt) { fig.handle_close(fig, {}); } );\n",
       "    button.mouseover('Stop Interaction', toolbar_mouse_event);\n",
       "    buttongrp.append(button);\n",
       "    var titlebar = this.root.find($('.ui-dialog-titlebar'));\n",
       "    titlebar.prepend(buttongrp);\n",
       "}\n",
       "\n",
       "mpl.figure.prototype._root_extra_style = function(el){\n",
       "    var fig = this\n",
       "    el.on(\"remove\", function(){\n",
       "\tfig.close_ws(fig, {});\n",
       "    });\n",
       "}\n",
       "\n",
       "mpl.figure.prototype._canvas_extra_style = function(el){\n",
       "    // this is important to make the div 'focusable\n",
       "    el.attr('tabindex', 0)\n",
       "    // reach out to IPython and tell the keyboard manager to turn it's self\n",
       "    // off when our div gets focus\n",
       "\n",
       "    // location in version 3\n",
       "    if (IPython.notebook.keyboard_manager) {\n",
       "        IPython.notebook.keyboard_manager.register_events(el);\n",
       "    }\n",
       "    else {\n",
       "        // location in version 2\n",
       "        IPython.keyboard_manager.register_events(el);\n",
       "    }\n",
       "\n",
       "}\n",
       "\n",
       "mpl.figure.prototype._key_event_extra = function(event, name) {\n",
       "    var manager = IPython.notebook.keyboard_manager;\n",
       "    if (!manager)\n",
       "        manager = IPython.keyboard_manager;\n",
       "\n",
       "    // Check for shift+enter\n",
       "    if (event.shiftKey && event.which == 13) {\n",
       "        this.canvas_div.blur();\n",
       "        event.shiftKey = false;\n",
       "        // Send a \"J\" for go to next cell\n",
       "        event.which = 74;\n",
       "        event.keyCode = 74;\n",
       "        manager.command_mode();\n",
       "        manager.handle_keydown(event);\n",
       "    }\n",
       "}\n",
       "\n",
       "mpl.figure.prototype.handle_save = function(fig, msg) {\n",
       "    fig.ondownload(fig, null);\n",
       "}\n",
       "\n",
       "\n",
       "mpl.find_output_cell = function(html_output) {\n",
       "    // Return the cell and output element which can be found *uniquely* in the notebook.\n",
       "    // Note - this is a bit hacky, but it is done because the \"notebook_saving.Notebook\"\n",
       "    // IPython event is triggered only after the cells have been serialised, which for\n",
       "    // our purposes (turning an active figure into a static one), is too late.\n",
       "    var cells = IPython.notebook.get_cells();\n",
       "    var ncells = cells.length;\n",
       "    for (var i=0; i<ncells; i++) {\n",
       "        var cell = cells[i];\n",
       "        if (cell.cell_type === 'code'){\n",
       "            for (var j=0; j<cell.output_area.outputs.length; j++) {\n",
       "                var data = cell.output_area.outputs[j];\n",
       "                if (data.data) {\n",
       "                    // IPython >= 3 moved mimebundle to data attribute of output\n",
       "                    data = data.data;\n",
       "                }\n",
       "                if (data['text/html'] == html_output) {\n",
       "                    return [cell, data, j];\n",
       "                }\n",
       "            }\n",
       "        }\n",
       "    }\n",
       "}\n",
       "\n",
       "// Register the function which deals with the matplotlib target/channel.\n",
       "// The kernel may be null if the page has been refreshed.\n",
       "if (IPython.notebook.kernel != null) {\n",
       "    IPython.notebook.kernel.comm_manager.register_target('matplotlib', mpl.mpl_figure_comm);\n",
       "}\n"
      ],
      "text/plain": [
       "<IPython.core.display.Javascript object>"
      ]
     },
     "metadata": {},
     "output_type": "display_data"
    },
    {
     "data": {
      "text/html": [
       "<img src=\"data:image/png;base64,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\">"
      ],
      "text/plain": [
       "<IPython.core.display.HTML object>"
      ]
     },
     "metadata": {},
     "output_type": "display_data"
    },
    {
     "data": {
      "text/plain": [
       "(-1.5, 1.5, -1.5, 1.5)"
      ]
     },
     "execution_count": 11,
     "metadata": {},
     "output_type": "execute_result"
    }
   ],
   "source": [
    "plt.close()\n",
    "string_graph.show()\n",
    "plt.axis('off')"
   ]
  },
  {
   "cell_type": "code",
   "execution_count": null,
   "metadata": {
    "collapsed": false
   },
   "outputs": [],
   "source": []
  },
  {
   "cell_type": "code",
   "execution_count": 1,
   "metadata": {
    "collapsed": false
   },
   "outputs": [
    {
     "name": "stdout",
     "output_type": "stream",
     "text": [
      "Importing Code.Utils.Names\n",
      "Importing Code.DataHandlers.NISTModels\n",
      "Importing Code.DataHandlers.GeneralModels\n",
      "Importing Code.DataHandlers.TouchstoneModels\n",
      "Importing Code.DataHandlers.XMLModels\n",
      "Importing Code.DataHandlers.RadiCALModels\n",
      "Importing Code.DataHandlers.ZipModels\n",
      "Importing Code.DataHandlers.Translations\n",
      "Importing Code.DataHandlers.StatistiCALModels\n",
      "Importing Code.DataHandlers.MUFModels\n",
      "Importing Code.Analysis.SParameter\n",
      "Importing Code.InstrumentControl.Instruments\n",
      "Importing Code.InstrumentControl.Experiments\n"
     ]
    }
   ],
   "source": [
    "from pyMeasure import *\n",
    "from pyMeasure.Code.DataHandlers.GraphModels import *"
   ]
  },
  {
   "cell_type": "code",
   "execution_count": 2,
   "metadata": {
    "collapsed": false
   },
   "outputs": [],
   "source": [
    "from ipywidgets import *\n",
    "def move_and_show(end_node_number,graph):\n",
    "    node=graph.node_names[end_node_number]\n",
    "    graph.move_to_node(node)\n",
    "    print(\"*\"*80)\n",
    "    print(\"{0}\".format(graph.node_descriptions[end_node_number])+\" {0}\".format(graph.state))\n",
    "    print(\"*\"*80)\n",
    "    graph.show(descriptions=False)\n",
    "def interactive_move_and_show(graph):\n",
    "    interact(lambda end_node_number:move_and_show(end_node_number,graph),end_node_number=(0,len(graph.node_names)-1,1))"
   ]
  },
  {
   "cell_type": "code",
   "execution_count": 3,
   "metadata": {
    "collapsed": false
   },
   "outputs": [
    {
     "name": "stdout",
     "output_type": "stream",
     "text": [
      "['edge_AsciiDataTable_DataFrame_000', 'edge_DataFrame_HtmlString_000']\n",
      "moving AsciiDataTable -> DataFrame\n",
      "moving DataFrame -> HtmlString\n",
      "********************************************************************************\n",
      "HTML String [0, 0, 0, 0, 0, 0, 1, 0, 0, 0, 0, 0, 0]\n",
      "********************************************************************************\n"
     ]
    },
    {
     "data": {
      "image/png": "[encoded data removed]",
      "text/plain": [
       "<matplotlib.figure.Figure at 0xde2ea90>"
      ]
     },
     "metadata": {},
     "output_type": "display_data"
    },
    {
     "data": {
      "text/plain": [
       "<matplotlib.figure.Figure at 0xe013f28>"
      ]
     },
     "metadata": {},
     "output_type": "display_data"
    }
   ],
   "source": [
    "%matplotlib inline\n",
    "raw=TwoPortRawModel(os.path.join(TESTS_DIRECTORY,'CTN208.A1_011613'))\n",
    "table_graph=TableGraph()\n",
    "table_graph.set_state(\"AsciiDataTable\",raw)\n",
    "interactive_move_and_show(table_graph)"
   ]
  },
  {
   "cell_type": "code",
   "execution_count": 6,
   "metadata": {
    "collapsed": false
   },
   "outputs": [
    {
     "data": {
      "application/javascript": [
       "/* Put everything inside the global mpl namespace */\n",
       "window.mpl = {};\n",
       "\n",
       "mpl.get_websocket_type = function() {\n",
       "    if (typeof(WebSocket) !== 'undefined') {\n",
       "        return WebSocket;\n",
       "    } else if (typeof(MozWebSocket) !== 'undefined') {\n",
       "        return MozWebSocket;\n",
       "    } else {\n",
       "        alert('Your browser does not have WebSocket support.' +\n",
       "              'Please try Chrome, Safari or Firefox ≥ 6. ' +\n",
       "              'Firefox 4 and 5 are also supported but you ' +\n",
       "              'have to enable WebSockets in about:config.');\n",
       "    };\n",
       "}\n",
       "\n",
       "mpl.figure = function(figure_id, websocket, ondownload, parent_element) {\n",
       "    this.id = figure_id;\n",
       "\n",
       "    this.ws = websocket;\n",
       "\n",
       "    this.supports_binary = (this.ws.binaryType != undefined);\n",
       "\n",
       "    if (!this.supports_binary) {\n",
       "        var warnings = document.getElementById(\"mpl-warnings\");\n",
       "        if (warnings) {\n",
       "            warnings.style.display = 'block';\n",
       "            warnings.textContent = (\n",
       "                \"This browser does not support binary websocket messages. \" +\n",
       "                    \"Performance may be slow.\");\n",
       "        }\n",
       "    }\n",
       "\n",
       "    this.imageObj = new Image();\n",
       "\n",
       "    this.context = undefined;\n",
       "    this.message = undefined;\n",
       "    this.canvas = undefined;\n",
       "    this.rubberband_canvas = undefined;\n",
       "    this.rubberband_context = undefined;\n",
       "    this.format_dropdown = undefined;\n",
       "\n",
       "    this.image_mode = 'full';\n",
       "\n",
       "    this.root = $('<div/>');\n",
       "    this._root_extra_style(this.root)\n",
       "    this.root.attr('style', 'display: inline-block');\n",
       "\n",
       "    $(parent_element).append(this.root);\n",
       "\n",
       "    this._init_header(this);\n",
       "    this._init_canvas(this);\n",
       "    this._init_toolbar(this);\n",
       "\n",
       "    var fig = this;\n",
       "\n",
       "    this.waiting = false;\n",
       "\n",
       "    this.ws.onopen =  function () {\n",
       "            fig.send_message(\"supports_binary\", {value: fig.supports_binary});\n",
       "            fig.send_message(\"send_image_mode\", {});\n",
       "            fig.send_message(\"refresh\", {});\n",
       "        }\n",
       "\n",
       "    this.imageObj.onload = function() {\n",
       "            if (fig.image_mode == 'full') {\n",
       "                // Full images could contain transparency (where diff images\n",
       "                // almost always do), so we need to clear the canvas so that\n",
       "                // there is no ghosting.\n",
       "                fig.context.clearRect(0, 0, fig.canvas.width, fig.canvas.height);\n",
       "            }\n",
       "            fig.context.drawImage(fig.imageObj, 0, 0);\n",
       "        };\n",
       "\n",
       "    this.imageObj.onunload = function() {\n",
       "        this.ws.close();\n",
       "    }\n",
       "\n",
       "    this.ws.onmessage = this._make_on_message_function(this);\n",
       "\n",
       "    this.ondownload = ondownload;\n",
       "}\n",
       "\n",
       "mpl.figure.prototype._init_header = function() {\n",
       "    var titlebar = $(\n",
       "        '<div class=\"ui-dialog-titlebar ui-widget-header ui-corner-all ' +\n",
       "        'ui-helper-clearfix\"/>');\n",
       "    var titletext = $(\n",
       "        '<div class=\"ui-dialog-title\" style=\"width: 100%; ' +\n",
       "        'text-align: center; padding: 3px;\"/>');\n",
       "    titlebar.append(titletext)\n",
       "    this.root.append(titlebar);\n",
       "    this.header = titletext[0];\n",
       "}\n",
       "\n",
       "\n",
       "\n",
       "mpl.figure.prototype._canvas_extra_style = function(canvas_div) {\n",
       "\n",
       "}\n",
       "\n",
       "\n",
       "mpl.figure.prototype._root_extra_style = function(canvas_div) {\n",
       "\n",
       "}\n",
       "\n",
       "mpl.figure.prototype._init_canvas = function() {\n",
       "    var fig = this;\n",
       "\n",
       "    var canvas_div = $('<div/>');\n",
       "\n",
       "    canvas_div.attr('style', 'position: relative; clear: both; outline: 0');\n",
       "\n",
       "    function canvas_keyboard_event(event) {\n",
       "        return fig.key_event(event, event['data']);\n",
       "    }\n",
       "\n",
       "    canvas_div.keydown('key_press', canvas_keyboard_event);\n",
       "    canvas_div.keyup('key_release', canvas_keyboard_event);\n",
       "    this.canvas_div = canvas_div\n",
       "    this._canvas_extra_style(canvas_div)\n",
       "    this.root.append(canvas_div);\n",
       "\n",
       "    var canvas = $('<canvas/>');\n",
       "    canvas.addClass('mpl-canvas');\n",
       "    canvas.attr('style', \"left: 0; top: 0; z-index: 0; outline: 0\")\n",
       "\n",
       "    this.canvas = canvas[0];\n",
       "    this.context = canvas[0].getContext(\"2d\");\n",
       "\n",
       "    var rubberband = $('<canvas/>');\n",
       "    rubberband.attr('style', \"position: absolute; left: 0; top: 0; z-index: 1;\")\n",
       "\n",
       "    var pass_mouse_events = true;\n",
       "\n",
       "    canvas_div.resizable({\n",
       "        start: function(event, ui) {\n",
       "            pass_mouse_events = false;\n",
       "        },\n",
       "        resize: function(event, ui) {\n",
       "            fig.request_resize(ui.size.width, ui.size.height);\n",
       "        },\n",
       "        stop: function(event, ui) {\n",
       "            pass_mouse_events = true;\n",
       "            fig.request_resize(ui.size.width, ui.size.height);\n",
       "        },\n",
       "    });\n",
       "\n",
       "    function mouse_event_fn(event) {\n",
       "        if (pass_mouse_events)\n",
       "            return fig.mouse_event(event, event['data']);\n",
       "    }\n",
       "\n",
       "    rubberband.mousedown('button_press', mouse_event_fn);\n",
       "    rubberband.mouseup('button_release', mouse_event_fn);\n",
       "    // Throttle sequential mouse events to 1 every 20ms.\n",
       "    rubberband.mousemove('motion_notify', mouse_event_fn);\n",
       "\n",
       "    rubberband.mouseenter('figure_enter', mouse_event_fn);\n",
       "    rubberband.mouseleave('figure_leave', mouse_event_fn);\n",
       "\n",
       "    canvas_div.on(\"wheel\", function (event) {\n",
       "        event = event.originalEvent;\n",
       "        event['data'] = 'scroll'\n",
       "        if (event.deltaY < 0) {\n",
       "            event.step = 1;\n",
       "        } else {\n",
       "            event.step = -1;\n",
       "        }\n",
       "        mouse_event_fn(event);\n",
       "    });\n",
       "\n",
       "    canvas_div.append(canvas);\n",
       "    canvas_div.append(rubberband);\n",
       "\n",
       "    this.rubberband = rubberband;\n",
       "    this.rubberband_canvas = rubberband[0];\n",
       "    this.rubberband_context = rubberband[0].getContext(\"2d\");\n",
       "    this.rubberband_context.strokeStyle = \"#000000\";\n",
       "\n",
       "    this._resize_canvas = function(width, height) {\n",
       "        // Keep the size of the canvas, canvas container, and rubber band\n",
       "        // canvas in synch.\n",
       "        canvas_div.css('width', width)\n",
       "        canvas_div.css('height', height)\n",
       "\n",
       "        canvas.attr('width', width);\n",
       "        canvas.attr('height', height);\n",
       "\n",
       "        rubberband.attr('width', width);\n",
       "        rubberband.attr('height', height);\n",
       "    }\n",
       "\n",
       "    // Set the figure to an initial 600x600px, this will subsequently be updated\n",
       "    // upon first draw.\n",
       "    this._resize_canvas(600, 600);\n",
       "\n",
       "    // Disable right mouse context menu.\n",
       "    $(this.rubberband_canvas).bind(\"contextmenu\",function(e){\n",
       "        return false;\n",
       "    });\n",
       "\n",
       "    function set_focus () {\n",
       "        canvas.focus();\n",
       "        canvas_div.focus();\n",
       "    }\n",
       "\n",
       "    window.setTimeout(set_focus, 100);\n",
       "}\n",
       "\n",
       "mpl.figure.prototype._init_toolbar = function() {\n",
       "    var fig = this;\n",
       "\n",
       "    var nav_element = $('<div/>')\n",
       "    nav_element.attr('style', 'width: 100%');\n",
       "    this.root.append(nav_element);\n",
       "\n",
       "    // Define a callback function for later on.\n",
       "    function toolbar_event(event) {\n",
       "        return fig.toolbar_button_onclick(event['data']);\n",
       "    }\n",
       "    function toolbar_mouse_event(event) {\n",
       "        return fig.toolbar_button_onmouseover(event['data']);\n",
       "    }\n",
       "\n",
       "    for(var toolbar_ind in mpl.toolbar_items) {\n",
       "        var name = mpl.toolbar_items[toolbar_ind][0];\n",
       "        var tooltip = mpl.toolbar_items[toolbar_ind][1];\n",
       "        var image = mpl.toolbar_items[toolbar_ind][2];\n",
       "        var method_name = mpl.toolbar_items[toolbar_ind][3];\n",
       "\n",
       "        if (!name) {\n",
       "            // put a spacer in here.\n",
       "            continue;\n",
       "        }\n",
       "        var button = $('<button/>');\n",
       "        button.addClass('ui-button ui-widget ui-state-default ui-corner-all ' +\n",
       "                        'ui-button-icon-only');\n",
       "        button.attr('role', 'button');\n",
       "        button.attr('aria-disabled', 'false');\n",
       "        button.click(method_name, toolbar_event);\n",
       "        button.mouseover(tooltip, toolbar_mouse_event);\n",
       "\n",
       "        var icon_img = $('<span/>');\n",
       "        icon_img.addClass('ui-button-icon-primary ui-icon');\n",
       "        icon_img.addClass(image);\n",
       "        icon_img.addClass('ui-corner-all');\n",
       "\n",
       "        var tooltip_span = $('<span/>');\n",
       "        tooltip_span.addClass('ui-button-text');\n",
       "        tooltip_span.html(tooltip);\n",
       "\n",
       "        button.append(icon_img);\n",
       "        button.append(tooltip_span);\n",
       "\n",
       "        nav_element.append(button);\n",
       "    }\n",
       "\n",
       "    var fmt_picker_span = $('<span/>');\n",
       "\n",
       "    var fmt_picker = $('<select/>');\n",
       "    fmt_picker.addClass('mpl-toolbar-option ui-widget ui-widget-content');\n",
       "    fmt_picker_span.append(fmt_picker);\n",
       "    nav_element.append(fmt_picker_span);\n",
       "    this.format_dropdown = fmt_picker[0];\n",
       "\n",
       "    for (var ind in mpl.extensions) {\n",
       "        var fmt = mpl.extensions[ind];\n",
       "        var option = $(\n",
       "            '<option/>', {selected: fmt === mpl.default_extension}).html(fmt);\n",
       "        fmt_picker.append(option)\n",
       "    }\n",
       "\n",
       "    // Add hover states to the ui-buttons\n",
       "    $( \".ui-button\" ).hover(\n",
       "        function() { $(this).addClass(\"ui-state-hover\");},\n",
       "        function() { $(this).removeClass(\"ui-state-hover\");}\n",
       "    );\n",
       "\n",
       "    var status_bar = $('<span class=\"mpl-message\"/>');\n",
       "    nav_element.append(status_bar);\n",
       "    this.message = status_bar[0];\n",
       "}\n",
       "\n",
       "mpl.figure.prototype.request_resize = function(x_pixels, y_pixels) {\n",
       "    // Request matplotlib to resize the figure. Matplotlib will then trigger a resize in the client,\n",
       "    // which will in turn request a refresh of the image.\n",
       "    this.send_message('resize', {'width': x_pixels, 'height': y_pixels});\n",
       "}\n",
       "\n",
       "mpl.figure.prototype.send_message = function(type, properties) {\n",
       "    properties['type'] = type;\n",
       "    properties['figure_id'] = this.id;\n",
       "    this.ws.send(JSON.stringify(properties));\n",
       "}\n",
       "\n",
       "mpl.figure.prototype.send_draw_message = function() {\n",
       "    if (!this.waiting) {\n",
       "        this.waiting = true;\n",
       "        this.ws.send(JSON.stringify({type: \"draw\", figure_id: this.id}));\n",
       "    }\n",
       "}\n",
       "\n",
       "\n",
       "mpl.figure.prototype.handle_save = function(fig, msg) {\n",
       "    var format_dropdown = fig.format_dropdown;\n",
       "    var format = format_dropdown.options[format_dropdown.selectedIndex].value;\n",
       "    fig.ondownload(fig, format);\n",
       "}\n",
       "\n",
       "\n",
       "mpl.figure.prototype.handle_resize = function(fig, msg) {\n",
       "    var size = msg['size'];\n",
       "    if (size[0] != fig.canvas.width || size[1] != fig.canvas.height) {\n",
       "        fig._resize_canvas(size[0], size[1]);\n",
       "        fig.send_message(\"refresh\", {});\n",
       "    };\n",
       "}\n",
       "\n",
       "mpl.figure.prototype.handle_rubberband = function(fig, msg) {\n",
       "    var x0 = msg['x0'];\n",
       "    var y0 = fig.canvas.height - msg['y0'];\n",
       "    var x1 = msg['x1'];\n",
       "    var y1 = fig.canvas.height - msg['y1'];\n",
       "    x0 = Math.floor(x0) + 0.5;\n",
       "    y0 = Math.floor(y0) + 0.5;\n",
       "    x1 = Math.floor(x1) + 0.5;\n",
       "    y1 = Math.floor(y1) + 0.5;\n",
       "    var min_x = Math.min(x0, x1);\n",
       "    var min_y = Math.min(y0, y1);\n",
       "    var width = Math.abs(x1 - x0);\n",
       "    var height = Math.abs(y1 - y0);\n",
       "\n",
       "    fig.rubberband_context.clearRect(\n",
       "        0, 0, fig.canvas.width, fig.canvas.height);\n",
       "\n",
       "    fig.rubberband_context.strokeRect(min_x, min_y, width, height);\n",
       "}\n",
       "\n",
       "mpl.figure.prototype.handle_figure_label = function(fig, msg) {\n",
       "    // Updates the figure title.\n",
       "    fig.header.textContent = msg['label'];\n",
       "}\n",
       "\n",
       "mpl.figure.prototype.handle_cursor = function(fig, msg) {\n",
       "    var cursor = msg['cursor'];\n",
       "    switch(cursor)\n",
       "    {\n",
       "    case 0:\n",
       "        cursor = 'pointer';\n",
       "        break;\n",
       "    case 1:\n",
       "        cursor = 'default';\n",
       "        break;\n",
       "    case 2:\n",
       "        cursor = 'crosshair';\n",
       "        break;\n",
       "    case 3:\n",
       "        cursor = 'move';\n",
       "        break;\n",
       "    }\n",
       "    fig.rubberband_canvas.style.cursor = cursor;\n",
       "}\n",
       "\n",
       "mpl.figure.prototype.handle_message = function(fig, msg) {\n",
       "    fig.message.textContent = msg['message'];\n",
       "}\n",
       "\n",
       "mpl.figure.prototype.handle_draw = function(fig, msg) {\n",
       "    // Request the server to send over a new figure.\n",
       "    fig.send_draw_message();\n",
       "}\n",
       "\n",
       "mpl.figure.prototype.handle_image_mode = function(fig, msg) {\n",
       "    fig.image_mode = msg['mode'];\n",
       "}\n",
       "\n",
       "mpl.figure.prototype.updated_canvas_event = function() {\n",
       "    // Called whenever the canvas gets updated.\n",
       "    this.send_message(\"ack\", {});\n",
       "}\n",
       "\n",
       "// A function to construct a web socket function for onmessage handling.\n",
       "// Called in the figure constructor.\n",
       "mpl.figure.prototype._make_on_message_function = function(fig) {\n",
       "    return function socket_on_message(evt) {\n",
       "        if (evt.data instanceof Blob) {\n",
       "            /* FIXME: We get \"Resource interpreted as Image but\n",
       "             * transferred with MIME type text/plain:\" errors on\n",
       "             * Chrome.  But how to set the MIME type?  It doesn't seem\n",
       "             * to be part of the websocket stream */\n",
       "            evt.data.type = \"image/png\";\n",
       "\n",
       "            /* Free the memory for the previous frames */\n",
       "            if (fig.imageObj.src) {\n",
       "                (window.URL || window.webkitURL).revokeObjectURL(\n",
       "                    fig.imageObj.src);\n",
       "            }\n",
       "\n",
       "            fig.imageObj.src = (window.URL || window.webkitURL).createObjectURL(\n",
       "                evt.data);\n",
       "            fig.updated_canvas_event();\n",
       "            fig.waiting = false;\n",
       "            return;\n",
       "        }\n",
       "        else if (typeof evt.data === 'string' && evt.data.slice(0, 21) == \"data:image/png;base64\") {\n",
       "            fig.imageObj.src = evt.data;\n",
       "            fig.updated_canvas_event();\n",
       "            fig.waiting = false;\n",
       "            return;\n",
       "        }\n",
       "\n",
       "        var msg = JSON.parse(evt.data);\n",
       "        var msg_type = msg['type'];\n",
       "\n",
       "        // Call the  \"handle_{type}\" callback, which takes\n",
       "        // the figure and JSON message as its only arguments.\n",
       "        try {\n",
       "            var callback = fig[\"handle_\" + msg_type];\n",
       "        } catch (e) {\n",
       "            console.log(\"No handler for the '\" + msg_type + \"' message type: \", msg);\n",
       "            return;\n",
       "        }\n",
       "\n",
       "        if (callback) {\n",
       "            try {\n",
       "                // console.log(\"Handling '\" + msg_type + \"' message: \", msg);\n",
       "                callback(fig, msg);\n",
       "            } catch (e) {\n",
       "                console.log(\"Exception inside the 'handler_\" + msg_type + \"' callback:\", e, e.stack, msg);\n",
       "            }\n",
       "        }\n",
       "    };\n",
       "}\n",
       "\n",
       "// from http://stackoverflow.com/questions/1114465/getting-mouse-location-in-canvas\n",
       "mpl.findpos = function(e) {\n",
       "    //this section is from http://www.quirksmode.org/js/events_properties.html\n",
       "    var targ;\n",
       "    if (!e)\n",
       "        e = window.event;\n",
       "    if (e.target)\n",
       "        targ = e.target;\n",
       "    else if (e.srcElement)\n",
       "        targ = e.srcElement;\n",
       "    if (targ.nodeType == 3) // defeat Safari bug\n",
       "        targ = targ.parentNode;\n",
       "\n",
       "    // jQuery normalizes the pageX and pageY\n",
       "    // pageX,Y are the mouse positions relative to the document\n",
       "    // offset() returns the position of the element relative to the document\n",
       "    var x = e.pageX - $(targ).offset().left;\n",
       "    var y = e.pageY - $(targ).offset().top;\n",
       "\n",
       "    return {\"x\": x, \"y\": y};\n",
       "};\n",
       "\n",
       "/*\n",
       " * return a copy of an object with only non-object keys\n",
       " * we need this to avoid circular references\n",
       " * http://stackoverflow.com/a/24161582/3208463\n",
       " */\n",
       "function simpleKeys (original) {\n",
       "  return Object.keys(original).reduce(function (obj, key) {\n",
       "    if (typeof original[key] !== 'object')\n",
       "        obj[key] = original[key]\n",
       "    return obj;\n",
       "  }, {});\n",
       "}\n",
       "\n",
       "mpl.figure.prototype.mouse_event = function(event, name) {\n",
       "    var canvas_pos = mpl.findpos(event)\n",
       "\n",
       "    if (name === 'button_press')\n",
       "    {\n",
       "        this.canvas.focus();\n",
       "        this.canvas_div.focus();\n",
       "    }\n",
       "\n",
       "    var x = canvas_pos.x;\n",
       "    var y = canvas_pos.y;\n",
       "\n",
       "    this.send_message(name, {x: x, y: y, button: event.button,\n",
       "                             step: event.step,\n",
       "                             guiEvent: simpleKeys(event)});\n",
       "\n",
       "    /* This prevents the web browser from automatically changing to\n",
       "     * the text insertion cursor when the button is pressed.  We want\n",
       "     * to control all of the cursor setting manually through the\n",
       "     * 'cursor' event from matplotlib */\n",
       "    event.preventDefault();\n",
       "    return false;\n",
       "}\n",
       "\n",
       "mpl.figure.prototype._key_event_extra = function(event, name) {\n",
       "    // Handle any extra behaviour associated with a key event\n",
       "}\n",
       "\n",
       "mpl.figure.prototype.key_event = function(event, name) {\n",
       "\n",
       "    // Prevent repeat events\n",
       "    if (name == 'key_press')\n",
       "    {\n",
       "        if (event.which === this._key)\n",
       "            return;\n",
       "        else\n",
       "            this._key = event.which;\n",
       "    }\n",
       "    if (name == 'key_release')\n",
       "        this._key = null;\n",
       "\n",
       "    var value = '';\n",
       "    if (event.ctrlKey && event.which != 17)\n",
       "        value += \"ctrl+\";\n",
       "    if (event.altKey && event.which != 18)\n",
       "        value += \"alt+\";\n",
       "    if (event.shiftKey && event.which != 16)\n",
       "        value += \"shift+\";\n",
       "\n",
       "    value += 'k';\n",
       "    value += event.which.toString();\n",
       "\n",
       "    this._key_event_extra(event, name);\n",
       "\n",
       "    this.send_message(name, {key: value,\n",
       "                             guiEvent: simpleKeys(event)});\n",
       "    return false;\n",
       "}\n",
       "\n",
       "mpl.figure.prototype.toolbar_button_onclick = function(name) {\n",
       "    if (name == 'download') {\n",
       "        this.handle_save(this, null);\n",
       "    } else {\n",
       "        this.send_message(\"toolbar_button\", {name: name});\n",
       "    }\n",
       "};\n",
       "\n",
       "mpl.figure.prototype.toolbar_button_onmouseover = function(tooltip) {\n",
       "    this.message.textContent = tooltip;\n",
       "};\n",
       "mpl.toolbar_items = [[\"Home\", \"Reset original view\", \"fa fa-home icon-home\", \"home\"], [\"Back\", \"Back to  previous view\", \"fa fa-arrow-left icon-arrow-left\", \"back\"], [\"Forward\", \"Forward to next view\", \"fa fa-arrow-right icon-arrow-right\", \"forward\"], [\"\", \"\", \"\", \"\"], [\"Pan\", \"Pan axes with left mouse, zoom with right\", \"fa fa-arrows icon-move\", \"pan\"], [\"Zoom\", \"Zoom to rectangle\", \"fa fa-square-o icon-check-empty\", \"zoom\"], [\"\", \"\", \"\", \"\"], [\"Download\", \"Download plot\", \"fa fa-floppy-o icon-save\", \"download\"]];\n",
       "\n",
       "mpl.extensions = [\"eps\", \"jpeg\", \"pdf\", \"png\", \"ps\", \"raw\", \"svg\", \"tif\"];\n",
       "\n",
       "mpl.default_extension = \"png\";var comm_websocket_adapter = function(comm) {\n",
       "    // Create a \"websocket\"-like object which calls the given IPython comm\n",
       "    // object with the appropriate methods. Currently this is a non binary\n",
       "    // socket, so there is still some room for performance tuning.\n",
       "    var ws = {};\n",
       "\n",
       "    ws.close = function() {\n",
       "        comm.close()\n",
       "    };\n",
       "    ws.send = function(m) {\n",
       "        //console.log('sending', m);\n",
       "        comm.send(m);\n",
       "    };\n",
       "    // Register the callback with on_msg.\n",
       "    comm.on_msg(function(msg) {\n",
       "        //console.log('receiving', msg['content']['data'], msg);\n",
       "        // Pass the mpl event to the overriden (by mpl) onmessage function.\n",
       "        ws.onmessage(msg['content']['data'])\n",
       "    });\n",
       "    return ws;\n",
       "}\n",
       "\n",
       "mpl.mpl_figure_comm = function(comm, msg) {\n",
       "    // This is the function which gets called when the mpl process\n",
       "    // starts-up an IPython Comm through the \"matplotlib\" channel.\n",
       "\n",
       "    var id = msg.content.data.id;\n",
       "    // Get hold of the div created by the display call when the Comm\n",
       "    // socket was opened in Python.\n",
       "    var element = $(\"#\" + id);\n",
       "    var ws_proxy = comm_websocket_adapter(comm)\n",
       "\n",
       "    function ondownload(figure, format) {\n",
       "        window.open(figure.imageObj.src);\n",
       "    }\n",
       "\n",
       "    var fig = new mpl.figure(id, ws_proxy,\n",
       "                           ondownload,\n",
       "                           element.get(0));\n",
       "\n",
       "    // Call onopen now - mpl needs it, as it is assuming we've passed it a real\n",
       "    // web socket which is closed, not our websocket->open comm proxy.\n",
       "    ws_proxy.onopen();\n",
       "\n",
       "    fig.parent_element = element.get(0);\n",
       "    fig.cell_info = mpl.find_output_cell(\"<div id='\" + id + \"'></div>\");\n",
       "    if (!fig.cell_info) {\n",
       "        console.error(\"Failed to find cell for figure\", id, fig);\n",
       "        return;\n",
       "    }\n",
       "\n",
       "    var output_index = fig.cell_info[2]\n",
       "    var cell = fig.cell_info[0];\n",
       "\n",
       "};\n",
       "\n",
       "mpl.figure.prototype.handle_close = function(fig, msg) {\n",
       "    fig.root.unbind('remove')\n",
       "\n",
       "    // Update the output cell to use the data from the current canvas.\n",
       "    fig.push_to_output();\n",
       "    var dataURL = fig.canvas.toDataURL();\n",
       "    // Re-enable the keyboard manager in IPython - without this line, in FF,\n",
       "    // the notebook keyboard shortcuts fail.\n",
       "    IPython.keyboard_manager.enable()\n",
       "    $(fig.parent_element).html('<img src=\"' + dataURL + '\">');\n",
       "    fig.close_ws(fig, msg);\n",
       "}\n",
       "\n",
       "mpl.figure.prototype.close_ws = function(fig, msg){\n",
       "    fig.send_message('closing', msg);\n",
       "    // fig.ws.close()\n",
       "}\n",
       "\n",
       "mpl.figure.prototype.push_to_output = function(remove_interactive) {\n",
       "    // Turn the data on the canvas into data in the output cell.\n",
       "    var dataURL = this.canvas.toDataURL();\n",
       "    this.cell_info[1]['text/html'] = '<img src=\"' + dataURL + '\">';\n",
       "}\n",
       "\n",
       "mpl.figure.prototype.updated_canvas_event = function() {\n",
       "    // Tell IPython that the notebook contents must change.\n",
       "    IPython.notebook.set_dirty(true);\n",
       "    this.send_message(\"ack\", {});\n",
       "    var fig = this;\n",
       "    // Wait a second, then push the new image to the DOM so\n",
       "    // that it is saved nicely (might be nice to debounce this).\n",
       "    setTimeout(function () { fig.push_to_output() }, 1000);\n",
       "}\n",
       "\n",
       "mpl.figure.prototype._init_toolbar = function() {\n",
       "    var fig = this;\n",
       "\n",
       "    var nav_element = $('<div/>')\n",
       "    nav_element.attr('style', 'width: 100%');\n",
       "    this.root.append(nav_element);\n",
       "\n",
       "    // Define a callback function for later on.\n",
       "    function toolbar_event(event) {\n",
       "        return fig.toolbar_button_onclick(event['data']);\n",
       "    }\n",
       "    function toolbar_mouse_event(event) {\n",
       "        return fig.toolbar_button_onmouseover(event['data']);\n",
       "    }\n",
       "\n",
       "    for(var toolbar_ind in mpl.toolbar_items){\n",
       "        var name = mpl.toolbar_items[toolbar_ind][0];\n",
       "        var tooltip = mpl.toolbar_items[toolbar_ind][1];\n",
       "        var image = mpl.toolbar_items[toolbar_ind][2];\n",
       "        var method_name = mpl.toolbar_items[toolbar_ind][3];\n",
       "\n",
       "        if (!name) { continue; };\n",
       "\n",
       "        var button = $('<button class=\"btn btn-default\" href=\"#\" title=\"' + name + '\"><i class=\"fa ' + image + ' fa-lg\"></i></button>');\n",
       "        button.click(method_name, toolbar_event);\n",
       "        button.mouseover(tooltip, toolbar_mouse_event);\n",
       "        nav_element.append(button);\n",
       "    }\n",
       "\n",
       "    // Add the status bar.\n",
       "    var status_bar = $('<span class=\"mpl-message\" style=\"text-align:right; float: right;\"/>');\n",
       "    nav_element.append(status_bar);\n",
       "    this.message = status_bar[0];\n",
       "\n",
       "    // Add the close button to the window.\n",
       "    var buttongrp = $('<div class=\"btn-group inline pull-right\"></div>');\n",
       "    var button = $('<button class=\"btn btn-mini btn-primary\" href=\"#\" title=\"Stop Interaction\"><i class=\"fa fa-power-off icon-remove icon-large\"></i></button>');\n",
       "    button.click(function (evt) { fig.handle_close(fig, {}); } );\n",
       "    button.mouseover('Stop Interaction', toolbar_mouse_event);\n",
       "    buttongrp.append(button);\n",
       "    var titlebar = this.root.find($('.ui-dialog-titlebar'));\n",
       "    titlebar.prepend(buttongrp);\n",
       "}\n",
       "\n",
       "mpl.figure.prototype._root_extra_style = function(el){\n",
       "    var fig = this\n",
       "    el.on(\"remove\", function(){\n",
       "\tfig.close_ws(fig, {});\n",
       "    });\n",
       "}\n",
       "\n",
       "mpl.figure.prototype._canvas_extra_style = function(el){\n",
       "    // this is important to make the div 'focusable\n",
       "    el.attr('tabindex', 0)\n",
       "    // reach out to IPython and tell the keyboard manager to turn it's self\n",
       "    // off when our div gets focus\n",
       "\n",
       "    // location in version 3\n",
       "    if (IPython.notebook.keyboard_manager) {\n",
       "        IPython.notebook.keyboard_manager.register_events(el);\n",
       "    }\n",
       "    else {\n",
       "        // location in version 2\n",
       "        IPython.keyboard_manager.register_events(el);\n",
       "    }\n",
       "\n",
       "}\n",
       "\n",
       "mpl.figure.prototype._key_event_extra = function(event, name) {\n",
       "    var manager = IPython.notebook.keyboard_manager;\n",
       "    if (!manager)\n",
       "        manager = IPython.keyboard_manager;\n",
       "\n",
       "    // Check for shift+enter\n",
       "    if (event.shiftKey && event.which == 13) {\n",
       "        this.canvas_div.blur();\n",
       "        event.shiftKey = false;\n",
       "        // Send a \"J\" for go to next cell\n",
       "        event.which = 74;\n",
       "        event.keyCode = 74;\n",
       "        manager.command_mode();\n",
       "        manager.handle_keydown(event);\n",
       "    }\n",
       "}\n",
       "\n",
       "mpl.figure.prototype.handle_save = function(fig, msg) {\n",
       "    fig.ondownload(fig, null);\n",
       "}\n",
       "\n",
       "\n",
       "mpl.find_output_cell = function(html_output) {\n",
       "    // Return the cell and output element which can be found *uniquely* in the notebook.\n",
       "    // Note - this is a bit hacky, but it is done because the \"notebook_saving.Notebook\"\n",
       "    // IPython event is triggered only after the cells have been serialised, which for\n",
       "    // our purposes (turning an active figure into a static one), is too late.\n",
       "    var cells = IPython.notebook.get_cells();\n",
       "    var ncells = cells.length;\n",
       "    for (var i=0; i<ncells; i++) {\n",
       "        var cell = cells[i];\n",
       "        if (cell.cell_type === 'code'){\n",
       "            for (var j=0; j<cell.output_area.outputs.length; j++) {\n",
       "                var data = cell.output_area.outputs[j];\n",
       "                if (data.data) {\n",
       "                    // IPython >= 3 moved mimebundle to data attribute of output\n",
       "                    data = data.data;\n",
       "                }\n",
       "                if (data['text/html'] == html_output) {\n",
       "                    return [cell, data, j];\n",
       "                }\n",
       "            }\n",
       "        }\n",
       "    }\n",
       "}\n",
       "\n",
       "// Register the function which deals with the matplotlib target/channel.\n",
       "// The kernel may be null if the page has been refreshed.\n",
       "if (IPython.notebook.kernel != null) {\n",
       "    IPython.notebook.kernel.comm_manager.register_target('matplotlib', mpl.mpl_figure_comm);\n",
       "}\n"
      ],
      "text/plain": [
       "<IPython.core.display.Javascript object>"
      ]
     },
     "metadata": {},
     "output_type": "display_data"
    },
    {
     "data": {
      "text/html": [
       "<img src=\"data:image/png;base64,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\">"
      ],
      "text/plain": [
       "<IPython.core.display.HTML object>"
      ]
     },
     "metadata": {},
     "output_type": "display_data"
    },
    {
     "data": {
      "text/plain": [
       "(-1.0, 0.60000000000000009, -1.5, 1.5)"
      ]
     },
     "execution_count": 6,
     "metadata": {},
     "output_type": "execute_result"
    }
   ],
   "source": [
    "%matplotlib notebook\n",
    "table_graph=TableGraph()\n",
    "table_graph.show(active_node=True)\n",
    "plt.axis('off')"
   ]
  },
  {
   "cell_type": "code",
   "execution_count": 4,
   "metadata": {
    "collapsed": false
   },
   "outputs": [
    {
     "name": "stdout",
     "output_type": "stream",
     "text": [
      "['edge_File_String_000', 'edge_String_StringList_000']\n",
      "moving File -> String\n",
      "moving String -> StringList\n",
      "********************************************************************************\n",
      "A list of strings with no \\n, created with string.splitlines() [0, 1, 0, 0, 0]\n",
      "********************************************************************************\n"
     ]
    },
    {
     "data": {
      "image/png": "[encoded data removed]",
      "text/plain": [
       "<matplotlib.figure.Figure at 0x1057a8d0>"
      ]
     },
     "metadata": {},
     "output_type": "display_data"
    },
    {
     "data": {
      "text/plain": [
       "<matplotlib.figure.Figure at 0x106c8c18>"
      ]
     },
     "metadata": {},
     "output_type": "display_data"
    }
   ],
   "source": [
    "%matplotlib inline\n",
    "string_graph=StringGraph()\n",
    "interactive_move_and_show(string_graph)"
   ]
  },
  {
   "cell_type": "code",
   "execution_count": 14,
   "metadata": {
    "collapsed": false
   },
   "outputs": [
    {
     "data": {
      "text/plain": [
       "'c://file\\\\name.txt'"
      ]
     },
     "execution_count": 14,
     "metadata": {},
     "output_type": "execute_result"
    }
   ],
   "source": [
    "import os\n",
    "os.path.join(*[\"c://file\",\"name.txt\"])"
   ]
  },
  {
   "cell_type": "code",
   "execution_count": 12,
   "metadata": {
    "collapsed": false
   },
   "outputs": [],
   "source": [
    "import html5lib "
   ]
  },
  {
   "cell_type": "code",
   "execution_count": 9,
   "metadata": {
    "collapsed": false
   },
   "outputs": [
    {
     "data": {
      "text/plain": [
       "['DataFrame',\n",
       " 'AsciiDataTable',\n",
       " 'HdfFile',\n",
       " 'XmlDataTable',\n",
       " 'ExcelFile',\n",
       " 'OdsFile',\n",
       " 'HtmlString',\n",
       " 'JsonFile',\n",
       " 'JsonString',\n",
       " 'CsvFile',\n",
       " 'MatFile',\n",
       " 'XmlFile',\n",
       " 'HtmlFile']"
      ]
     },
     "execution_count": 9,
     "metadata": {},
     "output_type": "execute_result"
    }
   ],
   "source": [
    "table_graph.node_names"
   ]
  },
  {
   "cell_type": "code",
   "execution_count": 2,
   "metadata": {
    "collapsed": true
   },
   "outputs": [],
   "source": [
    "import pandas\n",
    "df=pandas.DataFrame([[1,2],[3,4]],columns=[\"a\",\"b\"])"
   ]
  },
  {
   "cell_type": "code",
   "execution_count": null,
   "metadata": {
    "collapsed": true
   },
   "outputs": [],
   "source": []
  },
  {
   "cell_type": "code",
   "execution_count": 8,
   "metadata": {
    "collapsed": false
   },
   "outputs": [
    {
     "data": {
      "text/html": [
       "<div>\n",
       "<table border=\"1\" class=\"dataframe\">\n",
       "  <thead>\n",
       "    <tr style=\"text-align: right;\">\n",
       "      <th></th>\n",
       "      <th>a</th>\n",
       "      <th>b</th>\n",
       "    </tr>\n",
       "  </thead>\n",
       "  <tbody>\n",
       "    <tr>\n",
       "      <th>0</th>\n",
       "      <td>1</td>\n",
       "      <td>2</td>\n",
       "    </tr>\n",
       "    <tr>\n",
       "      <th>1</th>\n",
       "      <td>3</td>\n",
       "      <td>4</td>\n",
       "    </tr>\n",
       "  </tbody>\n",
       "</table>\n",
       "</div>"
      ],
      "text/plain": [
       "   a  b\n",
       "0  1  2\n",
       "1  3  4"
      ]
     },
     "execution_count": 8,
     "metadata": {},
     "output_type": "execute_result"
    }
   ],
   "source": [
    "df"
   ]
  },
  {
   "cell_type": "code",
   "execution_count": 3,
   "metadata": {
    "collapsed": false
   },
   "outputs": [],
   "source": [
    "html=DataFrame_to_HtmlString(df)"
   ]
  },
  {
   "cell_type": "code",
   "execution_count": 6,
   "metadata": {
    "collapsed": false
   },
   "outputs": [
    {
     "data": {
      "text/html": [
       "<div>\n",
       "<table border=\"1\" class=\"dataframe\">\n",
       "  <thead>\n",
       "    <tr style=\"text-align: right;\">\n",
       "      <th></th>\n",
       "      <th>a</th>\n",
       "      <th>b</th>\n",
       "    </tr>\n",
       "  </thead>\n",
       "  <tbody>\n",
       "    <tr>\n",
       "      <th>0</th>\n",
       "      <td>1</td>\n",
       "      <td>2</td>\n",
       "    </tr>\n",
       "    <tr>\n",
       "      <th>1</th>\n",
       "      <td>3</td>\n",
       "      <td>4</td>\n",
       "    </tr>\n",
       "  </tbody>\n",
       "</table>\n",
       "</div>"
      ],
      "text/plain": [
       "   a  b\n",
       "0  1  2\n",
       "1  3  4"
      ]
     },
     "execution_count": 6,
     "metadata": {},
     "output_type": "execute_result"
    }
   ],
   "source": [
    "df2=pandas.read_html(str(html))\n",
    "df2[0]"
   ]
  },
  {
   "cell_type": "code",
   "execution_count": 6,
   "metadata": {
    "collapsed": false
   },
   "outputs": [
    {
     "ename": "ImportError",
     "evalue": "lxml not found, please install it",
     "output_type": "error",
     "traceback": [
      "\u001b[1;31m---------------------------------------------------------------------------\u001b[0m",
      "\u001b[1;31mImportError\u001b[0m                               Traceback (most recent call last)",
      "\u001b[1;32m<ipython-input-6-5da95a16ae0e>\u001b[0m in \u001b[0;36m<module>\u001b[1;34m()\u001b[0m\n\u001b[0;32m      1\u001b[0m \u001b[1;32mimport\u001b[0m \u001b[0mStringIO\u001b[0m\u001b[1;33m\u001b[0m\u001b[0m\n\u001b[0;32m      2\u001b[0m \u001b[1;32mimport\u001b[0m \u001b[0mlxml\u001b[0m\u001b[1;33m\u001b[0m\u001b[0m\n\u001b[1;32m----> 3\u001b[1;33m \u001b[0mdf2\u001b[0m\u001b[1;33m=\u001b[0m\u001b[0mpandas\u001b[0m\u001b[1;33m.\u001b[0m\u001b[0mread_html\u001b[0m\u001b[1;33m(\u001b[0m\u001b[0mhtml\u001b[0m\u001b[1;33m)\u001b[0m\u001b[1;33m\u001b[0m\u001b[0m\n\u001b[0m",
      "\u001b[1;32mC:\\Anaconda2\\lib\\site-packages\\pandas\\io\\html.pyc\u001b[0m in \u001b[0;36mread_html\u001b[1;34m(io, match, flavor, header, index_col, skiprows, attrs, parse_dates, tupleize_cols, thousands, encoding)\u001b[0m\n\u001b[0;32m    868\u001b[0m     \u001b[0m_validate_header_arg\u001b[0m\u001b[1;33m(\u001b[0m\u001b[0mheader\u001b[0m\u001b[1;33m)\u001b[0m\u001b[1;33m\u001b[0m\u001b[0m\n\u001b[0;32m    869\u001b[0m     return _parse(flavor, io, match, header, index_col, skiprows,\n\u001b[1;32m--> 870\u001b[1;33m                   parse_dates, tupleize_cols, thousands, attrs, encoding)\n\u001b[0m",
      "\u001b[1;32mC:\\Anaconda2\\lib\\site-packages\\pandas\\io\\html.pyc\u001b[0m in \u001b[0;36m_parse\u001b[1;34m(flavor, io, match, header, index_col, skiprows, parse_dates, tupleize_cols, thousands, attrs, encoding)\u001b[0m\n\u001b[0;32m    720\u001b[0m     \u001b[0mretained\u001b[0m \u001b[1;33m=\u001b[0m \u001b[0mNone\u001b[0m\u001b[1;33m\u001b[0m\u001b[0m\n\u001b[0;32m    721\u001b[0m     \u001b[1;32mfor\u001b[0m \u001b[0mflav\u001b[0m \u001b[1;32min\u001b[0m \u001b[0mflavor\u001b[0m\u001b[1;33m:\u001b[0m\u001b[1;33m\u001b[0m\u001b[0m\n\u001b[1;32m--> 722\u001b[1;33m         \u001b[0mparser\u001b[0m \u001b[1;33m=\u001b[0m \u001b[0m_parser_dispatch\u001b[0m\u001b[1;33m(\u001b[0m\u001b[0mflav\u001b[0m\u001b[1;33m)\u001b[0m\u001b[1;33m\u001b[0m\u001b[0m\n\u001b[0m\u001b[0;32m    723\u001b[0m         \u001b[0mp\u001b[0m \u001b[1;33m=\u001b[0m \u001b[0mparser\u001b[0m\u001b[1;33m(\u001b[0m\u001b[0mio\u001b[0m\u001b[1;33m,\u001b[0m \u001b[0mcompiled_match\u001b[0m\u001b[1;33m,\u001b[0m \u001b[0mattrs\u001b[0m\u001b[1;33m,\u001b[0m \u001b[0mencoding\u001b[0m\u001b[1;33m)\u001b[0m\u001b[1;33m\u001b[0m\u001b[0m\n\u001b[0;32m    724\u001b[0m \u001b[1;33m\u001b[0m\u001b[0m\n",
      "\u001b[1;32mC:\\Anaconda2\\lib\\site-packages\\pandas\\io\\html.pyc\u001b[0m in \u001b[0;36m_parser_dispatch\u001b[1;34m(flavor)\u001b[0m\n\u001b[0;32m    679\u001b[0m     \u001b[1;32melse\u001b[0m\u001b[1;33m:\u001b[0m\u001b[1;33m\u001b[0m\u001b[0m\n\u001b[0;32m    680\u001b[0m         \u001b[1;32mif\u001b[0m \u001b[1;32mnot\u001b[0m \u001b[0m_HAS_LXML\u001b[0m\u001b[1;33m:\u001b[0m\u001b[1;33m\u001b[0m\u001b[0m\n\u001b[1;32m--> 681\u001b[1;33m             \u001b[1;32mraise\u001b[0m \u001b[0mImportError\u001b[0m\u001b[1;33m(\u001b[0m\u001b[1;34m\"lxml not found, please install it\"\u001b[0m\u001b[1;33m)\u001b[0m\u001b[1;33m\u001b[0m\u001b[0m\n\u001b[0m\u001b[0;32m    682\u001b[0m     \u001b[1;32mreturn\u001b[0m \u001b[0m_valid_parsers\u001b[0m\u001b[1;33m[\u001b[0m\u001b[0mflavor\u001b[0m\u001b[1;33m]\u001b[0m\u001b[1;33m\u001b[0m\u001b[0m\n\u001b[0;32m    683\u001b[0m \u001b[1;33m\u001b[0m\u001b[0m\n",
      "\u001b[1;31mImportError\u001b[0m: lxml not found, please install it"
     ]
    }
   ],
   "source": [
    "import StringIO\n",
    "import lxml\n",
    "df2=pandas.read_html(html)"
   ]
  },
  {
   "cell_type": "code",
   "execution_count": 4,
   "metadata": {
    "collapsed": true
   },
   "outputs": [],
   "source": [
    "import lxml"
   ]
  },
  {
   "cell_type": "code",
   "execution_count": 16,
   "metadata": {
    "collapsed": true
   },
   "outputs": [],
   "source": [
    "def HtmlFile_to_DataFrame(html_file_name):\n",
    "    in_file=open(html_file_name,'r')\n",
    "    pandas_data_frame=pandas.read_html(in_file)\n",
    "    return pandas_data_frame\n",
    "def HtmlString_to_DataFrame(html_string):\n",
    "    list_df=pandas.read_html(html_string)\n",
    "    return list_df[0]"
   ]
  },
  {
   "cell_type": "code",
   "execution_count": 28,
   "metadata": {
    "collapsed": false
   },
   "outputs": [],
   "source": [
    "mean.options[\"data_begin_token\"]=\"<tbody>\"\n",
    "mean.options[\"data_end_token\"]=\"</tbody></table>\"\n",
    "mean.options[\"data_delimiter\"]=\"</td><td>\"\n",
    "mean.options[\"row_begin_token\"]=\"<tr><td>\"\n",
    "mean.options[\"row_end_token\"]=\"</td></tr>\"\n",
    "mean.options[\"column_names_begin_token\"]=\"<table><thead><tr><th>\"\n",
    "mean.options[\"column_names_end_token\"]=\"</th></tr></thead>\"\n",
    "mean.options[\"column_names_delimiter\"]=\"</th><th>\"\n"
   ]
  },
  {
   "cell_type": "code",
   "execution_count": 29,
   "metadata": {
    "collapsed": false
   },
   "outputs": [
    {
     "data": {
      "text/plain": [
       "'<table><thead><tr><th>Frequency</th><th>magS11</th><th>argS11</th><th>magS21</th><th>argS21</th><th>magS12</th><th>argS12</th><th>magS22</th><th>argS22</th></tr></thead>\\n<tbody><tr><td>1.0</td><td>0.999831513</td><td>118.329825</td><td>0.00345233876</td><td>-151.816779</td><td>0.00345233876</td><td>-151.816779</td><td>0.999963739</td><td>117.695965</td></tr><tr><td>1.001</td><td>0.999830782</td><td>118.257259</td><td>0.00346286655</td><td>-151.89004</td><td>0.00346286655</td><td>-151.89004</td><td>0.999963575</td><td>117.621649</td></tr><tr><td>1.002</td><td>0.999830049</td><td>118.184659</td><td>0.00347341541</td><td>-151.963335</td><td>0.00347341541</td><td>-151.963335</td><td>0.999963411</td><td>117.547298</td></tr><tr><td>1.003</td><td>0.999829313</td><td>118.112026</td><td>0.00348398533</td><td>-152.036664</td><td>0.00348398533</td><td>-152.036664</td><td>0.999963246</td><td>117.47291</td></tr><tr><td>1.004</td><td>0.999828574</td><td>118.03936</td><td>0.00349457634</td><td>-152.1'"
      ]
     },
     "execution_count": 29,
     "metadata": {},
     "output_type": "execute_result"
    }
   ],
   "source": [
    "str(mean)[0:1000]"
   ]
  },
  {
   "cell_type": "code",
   "execution_count": 23,
   "metadata": {
    "collapsed": false
   },
   "outputs": [],
   "source": [
    "from IPython.display import display,HTML\n",
    "#display(HTML(str(mean)))"
   ]
  },
  {
   "cell_type": "code",
   "execution_count": 24,
   "metadata": {
    "collapsed": false
   },
   "outputs": [
    {
     "data": {
      "text/plain": [
       "11001"
      ]
     },
     "execution_count": 24,
     "metadata": {},
     "output_type": "execute_result"
    }
   ],
   "source": [
    "len(mean.data)"
   ]
  },
  {
   "cell_type": "code",
   "execution_count": 25,
   "metadata": {
    "collapsed": true
   },
   "outputs": [],
   "source": [
    "from pyMeasure.Code.DataHandlers.Translations import *"
   ]
  },
  {
   "cell_type": "code",
   "execution_count": 26,
   "metadata": {
    "collapsed": true
   },
   "outputs": [],
   "source": [
    "html=DataFrame_to_HtmlString(AsciiDataTable_to_DataFrame(mean))"
   ]
  },
  {
   "cell_type": "code",
   "execution_count": 30,
   "metadata": {
    "collapsed": false
   },
   "outputs": [
    {
     "name": "stdout",
     "output_type": "stream",
     "text": [
      "<table border=\"1\" class=\"dataframe\">\n",
      "  <thead>\n",
      "    <tr style=\"text-align: right;\">\n",
      "      <th>Frequency</th>\n",
      "      <th>magS11</th>\n",
      "      <th>argS11</th>\n",
      "      <th>magS21</th>\n",
      "      <th>argS21</th>\n",
      "      <th>magS12</th>\n",
      "      <th>argS12</th>\n",
      "      <th>magS22</th>\n",
      "      <th>argS22</th>\n",
      "    </tr>\n",
      "  </thead>\n",
      "  <tbody>\n",
      "    <tr>\n",
      "      <td>1.000</td>\n",
      "      <td>0.999832</td>\n",
      "      <td>118.329825</td>\n",
      "      <td>3.452339e-03</td>\n",
      "      <td>-151.816779</td>\n",
      "      <td>3.452339e-03</td>\n",
      "      <td>-151.816779</td>\n",
      "      <td>0.999964</td>\n",
      "      <td>117.695965</td>\n",
      "    </tr>\n",
      "    <tr>\n",
      "      <td>1.001</td>\n",
      "      <td>0.999831</td>\n",
      "      <td>118.257259</td>\n",
      "      <td>3.462867e-03</td>\n",
      "      <td>-151.890040</td>\n",
      "      <td>3.462867e-03</td>\n",
      "      <td>-151.890040</td>\n",
      "      <td>0.999964</td>\n",
      "      <td>117.621649</td>\n",
      "    </tr>\n",
      "    <tr>\n",
      "      <td>1.002</td>\n",
      "      <td>0.999830</td>\n",
      "      <td>118.184659</td>\n",
      "      <td>3.473415e-03</td>\n",
      "      <td>-151.963335</td>\n",
      "      <td>3.473415e-03</td>\n",
      "      <td>-151.963335<\n"
     ]
    }
   ],
   "source": [
    "print html[0:1000]"
   ]
  },
  {
   "cell_type": "code",
   "execution_count": null,
   "metadata": {
    "collapsed": true
   },
   "outputs": [],
   "source": []
  }
 ],
 "metadata": {
  "kernelspec": {
   "display_name": "Python 2",
   "language": "python",
   "name": "python2"
  },
  "language_info": {
   "codemirror_mode": {
    "name": "ipython",
    "version": 2
   },
   "file_extension": ".py",
   "mimetype": "text/x-python",
   "name": "python",
   "nbconvert_exporter": "python",
   "pygments_lexer": "ipython2",
   "version": "2.7.12"
  }
 },
 "nbformat": 4,
 "nbformat_minor": 0
}
