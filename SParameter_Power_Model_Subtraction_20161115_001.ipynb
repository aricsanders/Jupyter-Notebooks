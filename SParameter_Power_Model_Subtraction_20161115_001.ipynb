{
 "cells": [
  {
   "cell_type": "markdown",
   "metadata": {},
   "source": [
    "# Function for subtracting 2 models that have frequency, Sparameter or frequency,power data"
   ]
  },
  {
   "cell_type": "code",
   "execution_count": 1,
   "metadata": {
    "collapsed": false
   },
   "outputs": [
    {
     "name": "stdout",
     "output_type": "stream",
     "text": [
      "Importing Code.Utils.Names\n",
      "Importing Code.DataHandlers.NISTModels\n",
      "Importing Code.DataHandlers.GeneralModels\n",
      "Importing Code.DataHandlers.TouchstoneModels\n",
      "Importing Code.DataHandlers.XMLModels\n",
      "Importing Code.DataHandlers.RadiCALModels\n",
      "Importing Code.DataHandlers.ZipModels\n",
      "Importing Code.DataHandlers.Translations\n",
      "Importing Code.DataHandlers.StatistiCALModels\n",
      "Importing Code.DataHandlers.MUFModels\n",
      "Importing Code.Analysis.SParameter\n",
      "Importing Code.InstrumentControl.Instruments\n",
      "Importing Code.InstrumentControl.Experiments\n"
     ]
    }
   ],
   "source": [
    "import pandas \n",
    "import numpy as np\n",
    "import os\n",
    "from pyMeasure import *\n",
    "import re\n",
    "from scipy.stats.mstats import gmean"
   ]
  },
  {
   "cell_type": "code",
   "execution_count": 18,
   "metadata": {
    "collapsed": true
   },
   "outputs": [],
   "source": [
    "def frequency_model_collapse_multiple_measurements(model,**options):\n",
    "    \"\"\"Returns a model with a single set of frequencies. Default is to average values together\n",
    "    but geometric mean, std and median are options. Geometric means of odd number of negative values fails\"\"\"\n",
    "    defaults={\"method\":\"mean\"}\n",
    "    # load other options from model\n",
    "    for option,value in model.options.iteritems():\n",
    "        if not re.search('begin_line|end_line',option):\n",
    "            defaults[option]=value\n",
    "    defaults[\"header\"]=model.header\n",
    "    defaults[\"column_names\"]=model.column_names\n",
    "    defaults[\"footer\"]=model.footer\n",
    "    defaults[\"metadata\"]=model.metadata\n",
    "\n",
    "    collapse_options={}\n",
    "    for key,value in defaults.iteritems():\n",
    "        collapse_options[key]=value\n",
    "    for key,value in options.iteritems():\n",
    "        collapse_options[key]=value    \n",
    "    unique_frequency_list=sorted(list(set(model[\"Frequency\"])))\n",
    "    frequency_selector=model.column_names.index(\"Frequency\")\n",
    "    out_data=[]\n",
    "    for index, frequency in enumerate(unique_frequency_list):\n",
    "        data_row=filter(lambda x: x[frequency_selector]==frequency,model.data)\n",
    "        if re.search('mean|av',collapse_options[\"method\"],re.IGNORECASE):\n",
    "            new_row=np.mean(np.array(data_row),axis=0).tolist()\n",
    "        elif re.search('median',collapse_options[\"method\"],re.IGNORECASE):\n",
    "            new_row=np.median(np.array(data_row),axis=0).tolist()\n",
    "        elif re.search('geometric',collapse_options[\"method\"],re.IGNORECASE):\n",
    "            new_row=gmean(np.array(data_row),axis=0).tolist()\n",
    "        elif re.search('st',collapse_options[\"method\"],re.IGNORECASE):\n",
    "            new_row=np.std(np.array(data_row),axis=0).tolist()\n",
    "        \n",
    "        out_data.append(new_row)\n",
    "\n",
    "    collapse_options[\"data\"]=out_data\n",
    "\n",
    "    if collapse_options[\"specific_descriptor\"]:\n",
    "        collapse_options[\"specific_descriptor\"]=collapse_options[\"method\"]+\"_\"+\\\n",
    "        collapse_options[\"specific_descriptor\"]\n",
    "        \n",
    "    \n",
    "    resulting_model=AsciiDataTable(None,**collapse_options)\n",
    "    return resulting_model\n",
    "\n",
    "def frequency_model_difference(model_1,model_2,**options):\n",
    "    \"\"\"Takes the difference of two models that both have frequency and a similar set of columns. Returns an object that is \n",
    "    a list of [[frequency,column_1,..column_n],...] where columns are the same in the models. If  a particular subset of \n",
    "    columns is desired use columns=[\"Frequency\",\"magS11] models can be any subclass of AsciiDataTable, SNP, or \n",
    "    pandas.DataFrame, if a column is a non-numeric type it drops it. The frequency list should be unique \n",
    "    (no multiple frequencies) for at least one model\"\"\"\n",
    "    # Set up defaults and pass options\n",
    "    defaults={\"columns\":\"all\",\"interpolate\":False,\"average\":True}\n",
    "    difference_options={}\n",
    "    for key,value in defaults.iteritems():\n",
    "        difference_options[key]=value\n",
    "    for key,value in options.iteritems():\n",
    "        difference_options[key]=value\n",
    "        \n",
    "    # first check type, if it is a panadas data frame a little conversion is needed, else is for all other models\n",
    "    if type(model_1) in [pandas.DataFrame]:\n",
    "        model_1=DataFrame_to_AsciiDataTable(model_1)\n",
    "    if type(model_2) in [pandas.DataFrame]:\n",
    "        model_2=DataFrame_to_AsciiDataTable(model_2)\n",
    "    # now start with a set of frequencies (unique values from both)\n",
    "    frequency_set_1=set(model_1[\"Frequency\"])\n",
    "    frequency_set_2=set(model_2[\"Frequency\"])\n",
    "    model_2_frequency_selector=model_2.column_names.index('Frequency')\n",
    "    column_names_set_1=set(model_1.column_names)\n",
    "    column_names_set_2=set(model_2.column_names)\n",
    "    \n",
    "\n",
    "    # All points must be in the intersection to be used\n",
    "    frequency_intersection=list(frequency_set_1.intersection(frequency_set_2))\n",
    "    column_names_intersection=list(column_names_set_1.intersection(column_names_set_2))\n",
    "    \n",
    "    if not frequency_intersection:\n",
    "        print(\"The models do not have any frequency points in common\")\n",
    "        return None\n",
    "    \n",
    "    difference_data=[]\n",
    "    for row_index,frequency in enumerate(model_1[\"Frequency\"]):\n",
    "        new_row=[frequency]\n",
    "        new_column_names=[\"Frequency\"]\n",
    "        if frequency in frequency_intersection:\n",
    "            model_2_frequency_row=filter(lambda x: x[model_2_frequency_selector]==frequency,model_2.data)[0]\n",
    "            #print(\"{0} is {1}\".format(\"model_2_frequency_row\",model_2_frequency_row))\n",
    "            for column_index,column in enumerate(model_1.column_names):\n",
    "                if column in column_names_intersection and column not in [\"Frequency\"]:\n",
    "                    model_2_column_selector=model_2.column_names.index(column)\n",
    "                    if re.search('int|float',\n",
    "                                 model_1.options[\"column_types\"][column_index],\n",
    "                                 re.IGNORECASE) and re.search('int|float',\n",
    "                                                              model_2.options[\"column_types\"][model_2_column_selector],\n",
    "                                                              re.IGNORECASE):\n",
    "                        \n",
    "                        new_row.append(model_1.data[row_index][column_index]-model_2_frequency_row[model_2_column_selector])\n",
    "                        new_column_names.append(column)\n",
    "                    elif difference_options[\"columns\"] in [\"all\"]:\n",
    "                        new_row.append(model_1.data[row_index][column_index])\n",
    "                        new_column_names.append(column)\n",
    "            difference_data.append(new_row)\n",
    "    difference_options[\"column_names\"]=new_column_names\n",
    "    difference_options[\"data\"]=difference_data      \n",
    "    result=AsciiDataTable(None,**difference_options)\n",
    "    return result"
   ]
  },
  {
   "cell_type": "code",
   "execution_count": 3,
   "metadata": {
    "collapsed": false
   },
   "outputs": [],
   "source": [
    "# examples\n",
    "\n",
    "COMBINED_RESULTS_FILE_DIRECTORY=r\"C:\\Users\\sandersa\\Desktop\\Combined_Results_Files\"\n",
    "ONE_PORT_COMBINED_FILE_NAME='One_Port_Combined_Results_File.csv'\n",
    "\n",
    "model_1=pandas.read_csv(os.path.join(COMBINED_RESULTS_FILE_DIRECTORY,ONE_PORT_COMBINED_FILE_NAME))\n"
   ]
  },
  {
   "cell_type": "code",
   "execution_count": 4,
   "metadata": {
    "collapsed": true
   },
   "outputs": [],
   "source": [
    "raw_one_port=OnePortRawModel(os.path.join(TESTS_DIRECTORY,'OnePortRawTestFile.txt'))\n"
   ]
  },
  {
   "cell_type": "code",
   "execution_count": 5,
   "metadata": {
    "collapsed": true
   },
   "outputs": [],
   "source": [
    "res_dataframe=model_1[model_1[\"Device_Id\"]==raw_one_port.metadata[\"Device_Id\"]]"
   ]
  },
  {
   "cell_type": "code",
   "execution_count": 6,
   "metadata": {
    "collapsed": false
   },
   "outputs": [
    {
     "name": "stdout",
     "output_type": "stream",
     "text": [
      "model_2_frequency_row is ['CTN112', 0.01, 6, 0.9999600000000001, -0.413]\n",
      "model_2_frequency_row is ['CTN112', 0.01, 6, 0.9999600000000001, -0.413]\n",
      "model_2_frequency_row is ['CTN112', 0.01, 6, 0.9999600000000001, -0.413]\n",
      "model_2_frequency_row is ['CTN112', 0.05, 6, 1.00003, -2.266]\n",
      "model_2_frequency_row is ['CTN112', 0.05, 6, 1.00003, -2.266]\n",
      "model_2_frequency_row is ['CTN112', 0.05, 6, 1.00003, -2.266]\n",
      "model_2_frequency_row is ['CTN112', 0.1, 6, 1.00024, -4.5280000000000005]\n"
     ]
    }
   ],
   "source": [
    "difference=frequency_model_difference(raw_one_port,res_dataframe)"
   ]
  },
  {
   "cell_type": "code",
   "execution_count": 7,
   "metadata": {
    "collapsed": false
   },
   "outputs": [],
   "source": [
    "import matplotlib.pyplot as plt\n",
    "plt.plot(difference[\"Frequency\"],difference[\"magS11\"])\n",
    "plt.show()"
   ]
  },
  {
   "cell_type": "code",
   "execution_count": 8,
   "metadata": {
    "collapsed": false
   },
   "outputs": [
    {
     "name": "stdout",
     "output_type": "stream",
     "text": [
      "Frequency,magS11,argS11\n",
      "0.01,-0.00036,-0.057\n",
      "0.01,-0.00036,-0.067\n",
      "0.01,-0.00036,-0.067\n",
      "0.05,-0.00023,0.016\n",
      "0.05,-0.00023,0.016\n",
      "0.05,-0.00023,0.016\n",
      "0.1,-0.00044,0.038\n"
     ]
    }
   ],
   "source": [
    "print difference"
   ]
  },
  {
   "cell_type": "code",
   "execution_count": 19,
   "metadata": {
    "collapsed": false
   },
   "outputs": [],
   "source": [
    "diff_2=frequency_model_difference(res_dataframe,res_dataframe)"
   ]
  },
  {
   "cell_type": "code",
   "execution_count": 20,
   "metadata": {
    "collapsed": false
   },
   "outputs": [
    {
     "name": "stdout",
     "output_type": "stream",
     "text": [
      "Frequency,Device_Id,Number_Measurements,magS11,argS11\n",
      "0.01,CTN112,0,0.0,0.0\n",
      "0.05,CTN112,0,0.0,0.0\n",
      "0.1,CTN112,0,0.0,0.0\n",
      "0.2,CTN112,0,0.0,0.0\n",
      "0.4,CTN112,0,0.0,0.0\n",
      "0.6,CTN112,0,0.0,0.0\n",
      "0.8,CTN112,0,0.0,0.0\n",
      "1.0,CTN112,0,0.0,0.0\n",
      "1.2,CTN112,0,0.0,0.0\n",
      "1.4,CTN112,0,0.0,0.0\n",
      "1.6,CTN112,0,0.0,0.0\n",
      "1.8,CTN112,0,0.0,0.0\n",
      "2.0,CTN112,0,0.0,0.0\n",
      "2.2,CTN112,0,0.0,0.0\n",
      "2.4,CTN112,0,0.0,0.0\n",
      "2.6,CTN112,0,0.0,0.0\n",
      "2.8,CTN112,0,0.0,0.0\n",
      "3.0,CTN112,0,0.0,0.0\n",
      "3.2,CTN112,0,0.0,0.0\n",
      "3.4,CTN112,0,0.0,0.0\n",
      "3.6,CTN112,0,0.0,0.0\n",
      "3.8,CTN112,0,0.0,0.0\n",
      "4.0,CTN112,0,0.0,0.0\n",
      "4.2,CTN112,0,0.0,0.0\n",
      "4.4,CTN112,0,0.0,0.0\n",
      "4.6,CTN112,0,0.0,0.0\n",
      "4.8,CTN112,0,0.0,0.0\n",
      "5.0,CTN112,0,0.0,0.0\n",
      "5.2,CTN112,0,0.0,0.0\n",
      "5.4,CTN112,0,0.0,0.0\n",
      "5.6,CTN112,0,0.0,0.0\n",
      "5.8,CTN112,0,0.0,0.0\n",
      "6.0,CTN112,0,0.0,0.0\n",
      "6.2,CTN112,0,0.0,0.0\n",
      "6.4,CTN112,0,0.0,0.0\n",
      "6.6,CTN112,0,0.0,0.0\n",
      "6.8,CTN112,0,0.0,0.0\n",
      "7.0,CTN112,0,0.0,0.0\n",
      "7.2,CTN112,0,0.0,0.0\n",
      "7.4,CTN112,0,0.0,0.0\n",
      "7.6,CTN112,0,0.0,0.0\n",
      "7.8,CTN112,0,0.0,0.0\n",
      "8.0,CTN112,0,0.0,0.0\n",
      "8.2,CTN112,0,0.0,0.0\n",
      "8.4,CTN112,0,0.0,0.0\n",
      "8.6,CTN112,0,0.0,0.0\n",
      "8.8,CTN112,0,0.0,0.0\n",
      "9.0,CTN112,0,0.0,0.0\n",
      "9.2,CTN112,0,0.0,0.0\n",
      "9.4,CTN112,0,0.0,0.0\n",
      "9.6,CTN112,0,0.0,0.0\n",
      "9.8,CTN112,0,0.0,0.0\n",
      "10.0,CTN112,0,0.0,0.0\n",
      "10.2,CTN112,0,0.0,0.0\n",
      "10.4,CTN112,0,0.0,0.0\n",
      "10.6,CTN112,0,0.0,0.0\n",
      "10.8,CTN112,0,0.0,0.0\n",
      "11.0,CTN112,0,0.0,0.0\n",
      "11.2,CTN112,0,0.0,0.0\n",
      "11.4,CTN112,0,0.0,0.0\n",
      "11.6,CTN112,0,0.0,0.0\n",
      "11.8,CTN112,0,0.0,0.0\n",
      "12.0,CTN112,0,0.0,0.0\n",
      "12.2,CTN112,0,0.0,0.0\n",
      "12.4,CTN112,0,0.0,0.0\n",
      "12.6,CTN112,0,0.0,0.0\n",
      "12.8,CTN112,0,0.0,0.0\n",
      "13.0,CTN112,0,0.0,0.0\n",
      "13.2,CTN112,0,0.0,0.0\n",
      "13.4,CTN112,0,0.0,0.0\n",
      "13.6,CTN112,0,0.0,0.0\n",
      "13.8,CTN112,0,0.0,0.0\n",
      "14.0,CTN112,0,0.0,0.0\n",
      "14.2,CTN112,0,0.0,0.0\n",
      "14.4,CTN112,0,0.0,0.0\n",
      "14.6,CTN112,0,0.0,0.0\n",
      "14.8,CTN112,0,0.0,0.0\n",
      "15.0,CTN112,0,0.0,0.0\n",
      "15.2,CTN112,0,0.0,0.0\n",
      "15.4,CTN112,0,0.0,0.0\n",
      "15.6,CTN112,0,0.0,0.0\n",
      "15.8,CTN112,0,0.0,0.0\n",
      "16.0,CTN112,0,0.0,0.0\n",
      "16.2,CTN112,0,0.0,0.0\n",
      "16.4,CTN112,0,0.0,0.0\n",
      "16.6,CTN112,0,0.0,0.0\n",
      "16.8,CTN112,0,0.0,0.0\n",
      "17.0,CTN112,0,0.0,0.0\n",
      "17.2,CTN112,0,0.0,0.0\n",
      "17.4,CTN112,0,0.0,0.0\n",
      "17.6,CTN112,0,0.0,0.0\n",
      "17.8,CTN112,0,0.0,0.0\n"
     ]
    }
   ],
   "source": [
    "print diff_2"
   ]
  },
  {
   "cell_type": "code",
   "execution_count": 11,
   "metadata": {
    "collapsed": false
   },
   "outputs": [
    {
     "data": {
      "text/plain": [
       "['object', 'float64', 'int64', 'float64', 'float64']"
      ]
     },
     "execution_count": 11,
     "metadata": {},
     "output_type": "execute_result"
    }
   ],
   "source": [
    "map(lambda x:str(x),model_1.dtypes.tolist())"
   ]
  },
  {
   "cell_type": "code",
   "execution_count": 12,
   "metadata": {
    "collapsed": true
   },
   "outputs": [],
   "source": [
    "def pandas_to_ascii_data_table(pandas_data_frame,**options):\n",
    "    \"\"\"Converts a pandas.DataFrame to an AsciiDataTable\"\"\"\n",
    "    # Set up defaults and pass options\n",
    "    defaults={}\n",
    "    conversion_options={}\n",
    "    for key,value in defaults.iteritems():\n",
    "        conversion_options[key]=value\n",
    "    for key,value in options.iteritems():\n",
    "        conversion_options[key]=value\n",
    "        \n",
    "    conversion_options[\"column_names\"]=pandas_data_frame.columns.tolist()\n",
    "    conversion_options[\"data\"]=pandas_data_frame.as_matrix().tolist()\n",
    "    conversion_options[\"column_types\"]=map(lambda x:str(x),pandas_data_frame.dtypes.tolist())\n",
    "    \n",
    "    new_table=AsciiDataTable(None,conversion_options)\n",
    "    return new_table"
   ]
  },
  {
   "cell_type": "code",
   "execution_count": 13,
   "metadata": {
    "collapsed": true
   },
   "outputs": [],
   "source": [
    "def DataFrame_to_AsciiDataTable(pandas_data_frame,**options):\n",
    "    \"\"\"Converts a pandas.DataFrame to an AsciiDataTable\"\"\"\n",
    "    # Set up defaults and pass options\n",
    "    defaults={}\n",
    "    conversion_options={}\n",
    "    for key,value in defaults.iteritems():\n",
    "        conversion_options[key]=value\n",
    "    for key,value in options.iteritems():\n",
    "        conversion_options[key]=value\n",
    "        \n",
    "    conversion_options[\"column_names\"]=pandas_data_frame.columns.tolist()\n",
    "    conversion_options[\"data\"]=pandas_data_frame.as_matrix().tolist()\n",
    "    conversion_options[\"column_types\"]=map(lambda x:str(x),pandas_data_frame.dtypes.tolist())\n",
    "   \n",
    "    new_table=AsciiDataTable(None,**conversion_options)\n",
    "    return new_table"
   ]
  },
  {
   "cell_type": "code",
   "execution_count": 14,
   "metadata": {
    "collapsed": false
   },
   "outputs": [],
   "source": [
    "from pyMeasure import *"
   ]
  },
  {
   "cell_type": "code",
   "execution_count": 15,
   "metadata": {
    "collapsed": false
   },
   "outputs": [],
   "source": [
    "test_model=DataFrame_to_AsciiDataTable(model_1)"
   ]
  },
  {
   "cell_type": "code",
   "execution_count": 16,
   "metadata": {
    "collapsed": false
   },
   "outputs": [
    {
     "data": {
      "text/plain": [
       "True"
      ]
     },
     "execution_count": 16,
     "metadata": {},
     "output_type": "execute_result"
    }
   ],
   "source": [
    "test_model==DataFrame_to_AsciiDataTable(AsciiDataTable_to_DataFrame(test_model))"
   ]
  },
  {
   "cell_type": "code",
   "execution_count": 17,
   "metadata": {
    "collapsed": false
   },
   "outputs": [
    {
     "data": {
      "text/plain": [
       "'Data_Table_20161115_001.txt'"
      ]
     },
     "execution_count": 17,
     "metadata": {},
     "output_type": "execute_result"
    }
   ],
   "source": [
    "test_model.path"
   ]
  },
  {
   "cell_type": "code",
   "execution_count": null,
   "metadata": {
    "collapsed": true
   },
   "outputs": [],
   "source": []
  }
 ],
 "metadata": {
  "kernelspec": {
   "display_name": "Python 2",
   "language": "python",
   "name": "python2"
  },
  "language_info": {
   "codemirror_mode": {
    "name": "ipython",
    "version": 2
   },
   "file_extension": ".py",
   "mimetype": "text/x-python",
   "name": "python",
   "nbconvert_exporter": "python",
   "pygments_lexer": "ipython2",
   "version": "2.7.12"
  }
 },
 "nbformat": 4,
 "nbformat_minor": 1
}
