{
 "cells": [
  {
   "cell_type": "markdown",
   "metadata": {},
   "source": [
    "# Function for subtracting 2 models that have frequency, Sparameter or frequency,power data"
   ]
  },
  {
   "cell_type": "code",
   "execution_count": null,
   "metadata": {
    "collapsed": true
   },
   "outputs": [],
   "source": [
    "def frequency_model_collapse_multiple_measurements(model,**options):\n",
    "    \"\"\"Returns an\"\"\"\n",
    "\n",
    "\n",
    "\n",
    "def frequency_model_difference(model_1,model_2,**options):\n",
    "    \"\"\"Takes the difference of two models that both have frequency and a similar set of columns. Returns an object that is \n",
    "    a list of [[frequency,column_1,..column_n],...] where columns are the same in the models. If  a particular subset of \n",
    "    columns is desired use columns=[\"Frequency\",\"magS11] models can be any subclass of AsciiDataTable, SNP, or \n",
    "    pandas.DataFrame, if a column is a non-numeric type it drops it. The frequency list should be unique \n",
    "    (no multiple frequencies) for at least one model\"\"\"\n",
    "    # Set up defaults and pass options\n",
    "    defaults={\"columns\":\"all\",\"interpolate\":False,\"average\":True}\n",
    "    difference_options={}\n",
    "    for key,value in defaults.iteritems():\n",
    "        difference_options[key]=value\n",
    "    for key,value in options.iteritems():\n",
    "        difference_options[key]=value\n",
    "        \n",
    "    # first check type, if it is a panadas data frame a little conversion is needed, else is for all other models\n",
    "    if type(model_1) in [pd.DataFrame]:\n",
    "        model_1=DataFrame_to_AsciiDataTable(model_1)\n",
    "    if type(model_2) in [pd.DataFrame]:\n",
    "        model_2=DataFrame_to_AsciiDataTable(model_2)\n",
    "    # now start with a set of frequencies (unique values from both)\n",
    "    frequency_set_1=set(model_1[\"Frequency\"])\n",
    "    frequency_set_2=set(model_2[\"Frequency\"])\n",
    "    \n",
    "    column_names_set_1=set(model_1.column_names)\n",
    "    column_names_set_2=set(model_2.column_names)\n",
    "    \n",
    "    if list(frequency_set_1)!=model_1[\"Frequency\"] and list(frequency_set_2)!=model_2[\"Frequency\"]:\n",
    "        raise TypeException(\"The Frequency List of one of the models must be unique \")\n",
    "    # All points must be in the intersection to be used\n",
    "    frequency_intersection=list(frequency_set_1.intersection(frequency_set_2))\n",
    "    column_names_intersection=list(column_names_set_1.intersection(column_names_set_2))\n",
    "    \n",
    "    difference_data=[]\n",
    "    for row_index,frequency in enumerate(model_1[\"Frequency\"]):\n",
    "        new_row=[]\n",
    "        if frequency in frequency_intersection:\n",
    "            for \n",
    "        \n",
    "    \n",
    "    "
   ]
  },
  {
   "cell_type": "code",
   "execution_count": 1,
   "metadata": {
    "collapsed": true
   },
   "outputs": [],
   "source": [
    "# examples\n",
    "import pandas as pd\n",
    "import os\n",
    "COMBINED_RESULTS_FILE_DIRECTORY=r\"C:\\Users\\sandersa\\Desktop\\Combined_Results_Files\"\n",
    "ONE_PORT_COMBINED_FILE_NAME='One_Port_Combined_Results_File.csv'\n",
    "\n",
    "model_1=pd.read_csv(os.path.join(COMBINED_RESULTS_FILE_DIRECTORY,ONE_PORT_COMBINED_FILE_NAME))\n"
   ]
  },
  {
   "cell_type": "code",
   "execution_count": 10,
   "metadata": {
    "collapsed": false
   },
   "outputs": [
    {
     "data": {
      "text/plain": [
       "True"
      ]
     },
     "execution_count": 10,
     "metadata": {},
     "output_type": "execute_result"
    }
   ],
   "source": [
    "type(model_1) in [pd.DataFrame]"
   ]
  },
  {
   "cell_type": "code",
   "execution_count": 6,
   "metadata": {
    "collapsed": true
   },
   "outputs": [],
   "source": [
    "from types import *"
   ]
  },
  {
   "cell_type": "code",
   "execution_count": 32,
   "metadata": {
    "collapsed": false
   },
   "outputs": [
    {
     "ename": "TypeError",
     "evalue": "unsupported operand type(s) for -: 'str' and 'str'",
     "output_type": "error",
     "traceback": [
      "\u001b[0;31m---------------------------------------------------------------------------\u001b[0m",
      "\u001b[0;31mTypeError\u001b[0m                                 Traceback (most recent call last)",
      "\u001b[0;32m<ipython-input-32-44ee6b474450>\u001b[0m in \u001b[0;36m<module>\u001b[0;34m()\u001b[0m\n\u001b[0;32m----> 1\u001b[0;31m \u001b[1;34m\"c101\"\u001b[0m\u001b[1;33m-\u001b[0m\u001b[1;34m\"c101\"\u001b[0m\u001b[1;33m\u001b[0m\u001b[0m\n\u001b[0m",
      "\u001b[0;31mTypeError\u001b[0m: unsupported operand type(s) for -: 'str' and 'str'"
     ]
    }
   ],
   "source": [
    "\"c101\"-\"c101\""
   ]
  },
  {
   "cell_type": "code",
   "execution_count": 22,
   "metadata": {
    "collapsed": false
   },
   "outputs": [
    {
     "data": {
      "text/plain": [
       "['object', 'float64', 'int64', 'float64', 'float64']"
      ]
     },
     "execution_count": 22,
     "metadata": {},
     "output_type": "execute_result"
    }
   ],
   "source": [
    "map(lambda x:str(x),model_1.dtypes.tolist())"
   ]
  },
  {
   "cell_type": "code",
   "execution_count": 23,
   "metadata": {
    "collapsed": true
   },
   "outputs": [],
   "source": [
    "def pandas_to_ascii_data_table(pandas_data_frame,**options):\n",
    "    \"\"\"Converts a pandas.DataFrame to an AsciiDataTable\"\"\"\n",
    "    # Set up defaults and pass options\n",
    "    defaults={}\n",
    "    conversion_options={}\n",
    "    for key,value in defaults.iteritems():\n",
    "        conversion_options[key]=value\n",
    "    for key,value in options.iteritems():\n",
    "        conversion_options[key]=value\n",
    "        \n",
    "    conversion_options[\"column_names\"]=pandas_data_frame.columns.tolist()\n",
    "    conversion_options[\"data\"]=pandas_data_frame.as_matrix().tolist()\n",
    "    conversion_options[\"column_types\"]=map(lambda x:str(x),pandas_data_frame.dtypes.tolist())\n",
    "    \n",
    "    new_table=AsciiDataTable(None,conversion_options)\n",
    "    return new_table"
   ]
  },
  {
   "cell_type": "code",
   "execution_count": 27,
   "metadata": {
    "collapsed": true
   },
   "outputs": [],
   "source": [
    "def DataFrame_to_AsciiDataTable(pandas_data_frame,**options):\n",
    "    \"\"\"Converts a pandas.DataFrame to an AsciiDataTable\"\"\"\n",
    "    # Set up defaults and pass options\n",
    "    defaults={}\n",
    "    conversion_options={}\n",
    "    for key,value in defaults.iteritems():\n",
    "        conversion_options[key]=value\n",
    "    for key,value in options.iteritems():\n",
    "        conversion_options[key]=value\n",
    "        \n",
    "    conversion_options[\"column_names\"]=pandas_data_frame.columns.tolist()\n",
    "    conversion_options[\"data\"]=pandas_data_frame.as_matrix().tolist()\n",
    "    conversion_options[\"column_types\"]=map(lambda x:str(x),pandas_data_frame.dtypes.tolist())\n",
    "   \n",
    "    new_table=AsciiDataTable(None,**conversion_options)\n",
    "    return new_table"
   ]
  },
  {
   "cell_type": "code",
   "execution_count": 25,
   "metadata": {
    "collapsed": false
   },
   "outputs": [
    {
     "name": "stdout",
     "output_type": "stream",
     "text": [
      "Importing Code.Utils.Names\n",
      "Importing Code.DataHandlers.NISTModels\n",
      "Importing Code.DataHandlers.GeneralModels\n",
      "Importing Code.DataHandlers.TouchstoneModels\n",
      "Importing Code.DataHandlers.XMLModels\n",
      "Importing Code.DataHandlers.RadiCALModels\n",
      "Importing Code.DataHandlers.ZipModels\n",
      "Importing Code.DataHandlers.Translations\n",
      "Importing Code.DataHandlers.StatistiCALModels\n",
      "Importing Code.DataHandlers.MUFModels\n",
      "Importing Code.Analysis.SParameter\n",
      "Importing Code.InstrumentControl.Instruments\n",
      "Importing Code.InstrumentControl.Experiments\n"
     ]
    }
   ],
   "source": [
    "from pyMeasure import *"
   ]
  },
  {
   "cell_type": "code",
   "execution_count": 28,
   "metadata": {
    "collapsed": false
   },
   "outputs": [],
   "source": [
    "test_model=DataFrame_to_AsciiDataTable(model_1)"
   ]
  },
  {
   "cell_type": "code",
   "execution_count": 31,
   "metadata": {
    "collapsed": false
   },
   "outputs": [
    {
     "data": {
      "text/plain": [
       "True"
      ]
     },
     "execution_count": 31,
     "metadata": {},
     "output_type": "execute_result"
    }
   ],
   "source": [
    "test_model==DataFrame_to_AsciiDataTable(AsciiDataTable_to_DataFrame(test_model))"
   ]
  },
  {
   "cell_type": "code",
   "execution_count": 33,
   "metadata": {
    "collapsed": false
   },
   "outputs": [
    {
     "data": {
      "text/plain": [
       "'Data_Table_20161115_001.txt'"
      ]
     },
     "execution_count": 33,
     "metadata": {},
     "output_type": "execute_result"
    }
   ],
   "source": [
    "test_model.path"
   ]
  },
  {
   "cell_type": "code",
   "execution_count": null,
   "metadata": {
    "collapsed": true
   },
   "outputs": [],
   "source": []
  }
 ],
 "metadata": {
  "kernelspec": {
   "display_name": "Python 2",
   "language": "python",
   "name": "python2"
  },
  "language_info": {
   "codemirror_mode": {
    "name": "ipython",
    "version": 2
   },
   "file_extension": ".py",
   "mimetype": "text/x-python",
   "name": "python",
   "nbconvert_exporter": "python",
   "pygments_lexer": "ipython2",
   "version": "2.7.12"
  }
 },
 "nbformat": 4,
 "nbformat_minor": 1
}
