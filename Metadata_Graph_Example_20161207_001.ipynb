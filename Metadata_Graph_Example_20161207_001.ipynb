{
 "cells": [
  {
   "cell_type": "markdown",
   "metadata": {},
   "source": [
    "# This is an example of an Metadata graph\n",
    "## We assume all metadata can be mapped to effectively a python dictionary, that is a key:value pair\n",
    "1. Python Dictionary\n",
    "2. Two python lists \n",
    "3. HTML metadata pairs\n",
    "4. json\n",
    "5. xml\n",
    "6. pandas.DataFrame \n",
    "7. A header string \n",
    "8. pickled dictionary\n"
   ]
  },
  {
   "cell_type": "code",
   "execution_count": 1,
   "metadata": {
    "collapsed": false
   },
   "outputs": [
    {
     "name": "stdout",
     "output_type": "stream",
     "text": [
      "Importing Code.Utils.Names\n",
      "Importing Code.DataHandlers.NISTModels\n",
      "Importing Code.DataHandlers.GeneralModels\n",
      "Importing Code.DataHandlers.TouchstoneModels\n",
      "Importing Code.DataHandlers.XMLModels\n",
      "Importing Code.DataHandlers.RadiCALModels\n",
      "Importing Code.DataHandlers.ZipModels\n",
      "Importing Code.DataHandlers.Translations\n",
      "Importing Code.DataHandlers.StatistiCALModels\n",
      "Importing Code.DataHandlers.MUFModels\n",
      "Importing Code.Analysis.SParameter\n",
      "Importing Code.InstrumentControl.Instruments\n",
      "Importing Code.InstrumentControl.Experiments\n"
     ]
    }
   ],
   "source": [
    "from pyMeasure.Code.DataHandlers.GraphModels import Graph\n",
    "from pyMeasure import *\n",
    "import json\n",
    "import re\n",
    "import pickle\n",
    "import pandas\n",
    "from ipywidgets import *\n",
    "from scipy.io import savemat,loadmat\n"
   ]
  },
  {
   "cell_type": "code",
   "execution_count": 2,
   "metadata": {
    "collapsed": true
   },
   "outputs": [],
   "source": [
    "test_dictionary={\"1\":\"one\",\"2\":\"two\"}"
   ]
  },
  {
   "cell_type": "code",
   "execution_count": 3,
   "metadata": {
    "collapsed": true
   },
   "outputs": [],
   "source": [
    "def replace_None(string):\n",
    "    \"\"\"Replaces the string 'None' with the python value None\"\"\"\n",
    "    if string:\n",
    "        if re.match(\"None\",string):\n",
    "            return None\n",
    "        else:\n",
    "            return string\n",
    "    else:\n",
    "        return string\n",
    "    \n",
    "def dict_to_json_string(python_dictionary):\n",
    "    \"\"\"Uses json module to create a json string from a python dictionary\"\"\"\n",
    "    return json.dumps(python_dictionary)\n",
    "\n",
    "def json_string_to_dict(json_string):\n",
    "    \"\"\"Uses json module to return a python dictionary\"\"\"\n",
    "    out_dictionary=json.loads(json_string)\n",
    "    for key,value in out_dictionary.iteritems():\n",
    "        out_dictionary[key]=replace_None(value)\n",
    "    return out_dictionary\n",
    "\n",
    "def json_string_to_json_file(json_string,file_name=\"test.json\"):\n",
    "    out_file=open(file_name,'w')\n",
    "    out_file.write(json_string)\n",
    "    out_file.close()\n",
    "    return file_name\n",
    "\n",
    "def json_file_to_json_string(json_file_name):\n",
    "    in_file=open(json_file_name,'r')\n",
    "    json_string=in_file.read()\n",
    "    in_file.close()\n",
    "    return json_string\n",
    "\n",
    "def dictionary_to_xml(dictionary=None,char_between='\\n'):\n",
    "    string_output=''\n",
    "    for key,value in dictionary.iteritems():\n",
    "        xml_open=\"<\"+str(key)+\">\"\n",
    "        xml_close=\"</\"+str(key)+\">\"\n",
    "        string_output=string_output+xml_open+str(value)+xml_close+char_between\n",
    "    return string_output\n",
    "\n",
    "def xml_to_dictionary(xml_string):\n",
    "    \"\"\"XML string must be in the format <key>value</key>\\n<key2>.. to work\"\"\"\n",
    "    pattern='<(?P<XML_tag>.+)>(?P<XML_text>.+)</.+>'\n",
    "    lines=xml_string.splitlines()\n",
    "    out_dictionary={}\n",
    "    for line in lines:\n",
    "        match=re.search(pattern,line)\n",
    "        if match:\n",
    "            key=match.groupdict()[\"XML_tag\"].rstrip().lstrip().replace(\"\\'\",\"\")\n",
    "            value=match.groupdict()[\"XML_text\"].rstrip().lstrip().replace(\"\\'\",\"\")\n",
    "            out_dictionary[key]=value\n",
    "    return out_dictionary\n",
    "\n",
    "\n",
    "def dictionary_to_HTML_meta(python_dictionary):\n",
    "    \"\"\"Converts a python dictionary to meta tags for html\"\"\"\n",
    "    out_string=\"\"\n",
    "    for key,value in python_dictionary.iteritems():\n",
    "        out_string=out_string+\"<meta name=\"+'\"{0}\"'.format(key)+\" content=\"+'\"{0}\"'.format(value)+\" />\\n\"\n",
    "    return out_string\n",
    "\n",
    "def HTML_meta_to_dictionary(HTML_meta_tags_string):\n",
    "    \"\"\"Converts a python dictionary to meta tags for html\"\"\"\n",
    "    pattern='<meta name=\"(?P<key>.+)\" content=\"(?P<value>.+)\" />'\n",
    "    lines=HTML_meta_tags_string.splitlines()\n",
    "    out_dictionary={}\n",
    "    for line in lines:\n",
    "        match=re.search(pattern,line)\n",
    "        if match:\n",
    "            key=match.groupdict()[\"key\"]\n",
    "            value=match.groupdict()[\"value\"]\n",
    "            out_dictionary[key]=value\n",
    "    return out_dictionary\n",
    "\n",
    "def dictionary_to_tuple_line(python_dictionary):\n",
    "    \"\"\"transforms a python dictionary into a xml line in the form <Tuple key1=value1 key2=value2..keyN=valueN />\"\"\"\n",
    "    prefix=\"<Tuple \"\n",
    "    postfix=\" />\"\n",
    "    inner=\"\"\n",
    "    for key,value in python_dictionary.iteritems():\n",
    "        inner=inner+'{0}=\"{1}\" ' .format(key,value)\n",
    "        xml_out=prefix+inner+postfix\n",
    "    return xml_out\n",
    "\n",
    "def tuple_line_to_dictionary(tuple_line):\n",
    "    \"\"\"Takes a line in the form of <Tuple key1=value1 key2=Value2 ...KeyN=ValueN /> and returns a dictionary\"\"\"\n",
    "    stripped_string=tuple_line.replace(\"<Tuple\",\"\")\n",
    "    stripped_string=stripped_string.replace(\"/>\",\"\")\n",
    "    pattern=\"(?<=\\\")(?<!,|:)\\s+(?!,+)\"\n",
    "    lines=re.split(pattern,stripped_string)\n",
    "    out_dictionary={}\n",
    "    for line in lines:\n",
    "        split_line=line.split(\"=\")\n",
    "        print split_line\n",
    "        if len(split_line)==2:\n",
    "            key=split_line[0].rstrip().lstrip().replace(\"\\\"\",\"\")\n",
    "            value=split_line[1].rstrip().lstrip().replace(\"\\\"\",\"\")\n",
    "            out_dictionary[key]=value\n",
    "    return out_dictionary\n",
    "\n",
    "def dictionary_to_pickle(python_dictionary,file_name=\"dictionary.pkl\"):\n",
    "    \"\"\"Python Dictionary to pickled file\"\"\"\n",
    "    pickle.dump(python_dictionary,open(file_name,'wb'))\n",
    "    return file_name\n",
    "\n",
    "def pickle_to_python_dictionary(pickle_file_name):\n",
    "    \"\"\"open and read a pickled file with only a single python dictionary in it\"\"\"\n",
    "    dictionary_out=pickle.load(open(pickle_file_name,'rb'))\n",
    "    return dictionary_out\n",
    "\n",
    "def dictionary_to_list_list(python_dictionary):\n",
    "    \"\"\"Returns a list with two lists : [[key_list][item_list]]\"\"\"\n",
    "    key_list=[]\n",
    "    value_list=[]\n",
    "    for key,value in python_dictionary.iteritems():\n",
    "        key_list.append(key)\n",
    "        value_list.append(value)\n",
    "    out_list=[key_list,value_list]\n",
    "    return out_list\n",
    "\n",
    "def list_list_to_dictionary(list_list):\n",
    "    \"\"\"takes a list of [[keys],[items]] and returns a dictionary \"\"\"\n",
    "    keys=list_list[0]\n",
    "    items=list_list[1]\n",
    "    out_dictionary={}\n",
    "    for index,key in enumerate(keys):\n",
    "        out_dictionary[key]=items[index]\n",
    "    return out_dictionary\n",
    "\n",
    "def dictionary_to_DataFrame(python_dictionary):\n",
    "    \"\"\"Takes a python dictionary and maps it to a pandas dataframe\"\"\"\n",
    "    data_frame=pandas.DataFrame([[key,value] for key,value in python_dictionary.iteritems()], \n",
    "                                columns=[\"Property\",\"Value\"])\n",
    "    data_frame.fillna(\"None\")\n",
    "    return data_frame\n",
    "\n",
    "def DataFrame_to_dictionary(pandas_data_frame):\n",
    "    \"\"\"Takes a pandas.DataFrame with column names [\"Property\",\"Value\"] and returns a python dictionary\"\"\"\n",
    "    list_of_lists=pandas_data_frame.as_matrix().tolist()\n",
    "    dictionary={row[0]:replace_None(row[1]) for row in list_of_lists}\n",
    "    return dictionary\n",
    "\n",
    "def dict_to_header_list(python_dictionary):\n",
    "    \"Converts a python dictionary to a list of strings in the form ['key1=value1',..'keyN=valueN']\"\n",
    "    out_string=\"\"\n",
    "    out_list=[]\n",
    "    for key,value in python_dictionary.iteritems():\n",
    "        out_string=\"{0}={1}\".format(key,value)\n",
    "        out_list.append(out_string)\n",
    "    return out_list\n",
    "\n",
    "def header_list_to_dict(header_list):\n",
    "    out_dictionary={}\n",
    "    for item in header_list:\n",
    "        key_value_list=item.split(\"=\")\n",
    "        key=key_value_list[0].rstrip().lstrip()\n",
    "        value=key_value_list[1].rstrip().lstrip()\n",
    "        out_dictionary[key]=value\n",
    "    return out_dictionary"
   ]
  },
  {
   "cell_type": "code",
   "execution_count": 4,
   "metadata": {
    "collapsed": true
   },
   "outputs": [],
   "source": [
    "def DataFrame_to_hdf(pandas_data_frame):\n",
    "    pandas_data_frame.to_hdf(\"Test.hdf\",\"table\")\n",
    "    return \"Test.hdf\"\n",
    "\n",
    "def hdf_to_DataFrame(hdf_file_name):\n",
    "    df=pandas.read_hdf(hdf_file_name,\"table\")\n",
    "    return df\n",
    "\n",
    "def XMLDataTable_to_AsciiDataTable(xml_table):\n",
    "    \n",
    "    table=AsciiDataTable(None,\n",
    "                         column_names=xml_table.attribute_names,\n",
    "                         data=xml_table.data)\n",
    "    return table\n",
    "\n",
    "def AsciiDataTable_to_XMLDataTable_2(data_table):\n",
    "    xml=AsciiDataTable_to_XMLDataTable(data_table)\n",
    "    return xml\n",
    "\n",
    "def DataFrame_to_excel(pandas_data_frame,file_name=\"Test.xlsx\"):\n",
    "    pandas_data_frame.to_excel(file_name,index=False)\n",
    "    return file_name\n",
    "\n",
    "def excel_to_DataFrame(excel_file_name):\n",
    "    df=pandas.read_excel(excel_file_name)\n",
    "    return df\n",
    "\n",
    "def DataFrame_to_HTML_string(pandas_data_frame):\n",
    "    old_width = pandas.get_option('display.max_colwidth')\n",
    "    pandas.set_option('display.max_colwidth', -1)\n",
    "    html=pandas_data_frame.to_html(index=False)\n",
    "    pandas.set_option('display.max_colwidth', old_width)\n",
    "    return html\n",
    "\n",
    "def HTML_string_to_DataFrame(html_string):\n",
    "    list_df=pandas.read_html(html_string)\n",
    "    return list_df[0]\n",
    "\n",
    "def DataFrame_to_json(pandas_data_frame):\n",
    "    json=pandas_data_frame.to_json(\"test.json\",orient='records')\n",
    "    return \"test.json\"\n",
    "\n",
    "def json_to_DataFrame(json_file_name):\n",
    "    data_frame=pandas.read_json(json_file_name,orient='records')\n",
    "    return data_frame\n",
    "\n",
    "def DataFrame_to_json_string(pandas_data_frame):\n",
    "    json=pandas_data_frame.to_json(orient='records')\n",
    "    return json\n",
    "\n",
    "def json_string_to_DataFrame(json_string):\n",
    "    data_frame=pandas.read_json(json_string,orient='records')\n",
    "    return data_frame\n",
    "\n",
    "def DataFrame_to_csv(pandas_data_frame,file_name=\"test.csv\"):\n",
    "    csv=pandas_data_frame.to_csv(file_name,index=False)\n",
    "    return file_name\n",
    "\n",
    "def csv_to_DataFrame(csv_file_name):\n",
    "    data_frame=pandas.read_csv(csv_file_name)\n",
    "    return data_frame\n",
    "\n",
    "def AsciiDataTable_to_Matlab_key_value(ascii_data_table,file_name=\"test.mat\"):\n",
    "    matlab_data_dictionary={\"data\":ascii_data_table.data,\"column_names\":ascii_data_table.column_names}\n",
    "    #print matlab_data_dictionary\n",
    "    savemat(file_name,matlab_data_dictionary)\n",
    "    return file_name\n",
    "\n",
    "def Matlab_to_AsciiDataTable_key_value(matlab_file_name):\n",
    "    matlab_data_dictionary=loadmat(matlab_file_name)\n",
    "    #print matlab_data_dictionary\n",
    "    data=[map(lambda x: x.rstrip().lstrip(),row) for row in matlab_data_dictionary[\"data\"].tolist()]\n",
    "    column_names=map(lambda x: x.rstrip().lstrip(), matlab_data_dictionary[\"column_names\"].tolist())\n",
    "    ascii_data_table=AsciiDataTable(None,column_names=column_names,data=data)\n",
    "    return ascii_data_table\n",
    "\n",
    "def DataTable_to_XML(xml_data_table,file_name=\"test.xml\"):\n",
    "    xml_data_table.save(file_name)\n",
    "    return file_name\n",
    "\n",
    "def XML_to_DataTable(xml_file_name):\n",
    "    xml_data_table=DataTable(xml_file_name)\n",
    "    return xml_data_table\n",
    "\n",
    "def html_string_to_html_file(html_string,file_name=\"test.html\"):\n",
    "    out_file=open(file_name,'w')\n",
    "    out_file.write(html_string)\n",
    "    out_file.close()\n",
    "    return file_name\n",
    "# this is broken, something does not work properly\n",
    "\n",
    "def html_file_to_pandas(html_file_name):\n",
    "#     in_file=open(html_file_name,'r')\n",
    "    pandas_data_frame=pandas.read_html(html_file_name,thousands=None)\n",
    "    return pandas_data_frame[0]\n",
    "\n",
    "def html_file_to_html_string(html_file_name):\n",
    "    in_file=open(html_file_name,'r')\n",
    "    html_string=in_file.read()\n",
    "    return html_string\n",
    "\n",
    "def DataFrame_to_html_file(pandas_data_frame,file_name=\"test.html\"):\n",
    "    old_width = pandas.get_option('display.max_colwidth')\n",
    "    pandas.set_option('display.max_colwidth', -1)\n",
    "    out_file=open(file_name,'w')\n",
    "    pandas_data_frame.to_html(out_file,index=False)\n",
    "    pandas.set_option('display.max_colwidth', old_width)\n",
    "    return file_name\n",
    "\n",
    "def json_to_DataTable(json_file_name):\n",
    "    data_dictionary_list=json.load(open(json_file_name,'r'))\n",
    "    xml=DataTable(None,data_dictionary={\"data\":data_dictionary_list})\n",
    "    return xml\n",
    "\n",
    "def csv_to_AsciiDataTable(csv_file_name):\n",
    "    options={\"column_names_begin_line\":0,\"column_names_end_line\":1,\n",
    "             \"data_begin_line\":1,\"data_end_line\":-1,\"data_delimiter\":\",\",\"column_names_delimiter\":\",\"}\n",
    "    table=AsciiDataTable(csv_file_name,**options)\n",
    "    return table\n",
    "\n",
    "def DataFrame_to_sqlite(pandas_data_frame,file_name=\"test.db\",table_name=\"data\"):\n",
    "    \"\"\"Transforms a pandas.DataFrame to a table in an sqlite database\"\"\"\n",
    "#     connection=sqlite3.connect(file_name)\n",
    "#     connection.close()\n",
    "    sql_url=\"sqlite:///{0}::{1}\".format(file_name,table_name)\n",
    "    odo.odo(pandas_data_frame,sql_url)\n",
    "    return sql_url\n",
    "\n",
    "def sqlite_to_DataFrame(sqlite_url):\n",
    "    \"\"\"Creates a pandas.DataFrame from a table in an sqlite database (use sqlite:///file_name::table_name)\"\"\"\n",
    "    pandas_data_frame=odo.odo(sqlite_url,pandas.DataFrame)\n",
    "    return pandas_data_frame\n",
    "\n",
    "def identity(parameter):\n",
    "    return parameter"
   ]
  },
  {
   "cell_type": "code",
   "execution_count": 5,
   "metadata": {
    "collapsed": true
   },
   "outputs": [],
   "source": [
    "graph_options={\"graph_name\":\"Metadata Graph\",\n",
    "                  \"node_names\":['dict','json'],\n",
    "                  \"node_descriptions\":[\"Python Dictionary\",\"Json string\"],\n",
    "                  \"current_node\":'dict',\n",
    "                  \"state\":[1,0],\n",
    "                  \"data\":{\"a\":\"First\",\"b\":\"Second\"},\n",
    "                  \"edge_2_to_1\":json_string_to_dict,\n",
    "                  \"edge_1_to_2\":dict_to_json_string\n",
    "                 }\n",
    "metadata_graph=Graph(**graph_options)"
   ]
  },
  {
   "cell_type": "code",
   "execution_count": 6,
   "metadata": {
    "collapsed": false
   },
   "outputs": [],
   "source": [
    "metadata_graph.add_node(\"jsonFile\",\"json\",json_string_to_json_file,\n",
    "                     \"json\",json_file_to_json_string,node_description=\"JSON File\")\n",
    "metadata_graph.add_node(\"xml\",\"dict\",dictionary_to_xml,\n",
    "                     \"dict\",xml_to_dictionary,node_description=\"xml string\")\n",
    "metadata_graph.add_node(\"HTMLMetaTag\",\"dict\",dictionary_to_HTML_meta,\n",
    "                     \"dict\",HTML_meta_to_dictionary,node_description=\"HTML meta tags\")\n",
    "metadata_graph.add_node(\"XMLTupleLine\",\"dict\",dictionary_to_tuple_line,\n",
    "                     \"dict\",tuple_line_to_dictionary,node_description=\"Tuple Line\")\n",
    "metadata_graph.add_node(\"pickle\",\"dict\",dictionary_to_pickle,\n",
    "                     \"dict\",pickle_to_python_dictionary,node_description=\"Pickled File\")\n",
    "metadata_graph.add_node(\"listList\",\"dict\",dictionary_to_list_list,\n",
    "                     \"dict\",list_list_to_dictionary,node_description=\"List of lists\")\n",
    "metadata_graph.add_node(\"headerList\",\"dict\",dict_to_header_list,\n",
    "                     \"dict\",header_list_to_dict,node_description=\"Header List\")\n",
    "metadata_graph.add_node(\"DataFrame\",\"dict\",dictionary_to_DataFrame,\n",
    "                     \"dict\",DataFrame_to_dictionary,node_description=\"Pandas DataFrame\")\n",
    "metadata_graph.add_node(\"AsciiDataTable\",\"DataFrame\",DataFrame_to_AsciiDataTable,\n",
    "                     \"DataFrame\",AsciiDataTable_to_DataFrame,node_description=\"AsciiDataTable\")\n",
    "metadata_graph.add_node(\"matlab\",\"AsciiDataTable\",AsciiDataTable_to_Matlab_key_value,\n",
    "                     \"AsciiDataTable\",Matlab_to_AsciiDataTable_key_value,node_description=\"Matlab\")\n",
    "metadata_graph.add_node(\"excel\",\"DataFrame\",DataFrame_to_excel,\n",
    "                     \"DataFrame\",excel_to_DataFrame,node_description=\"excel\")\n",
    "metadata_graph.add_node(\"hdf\",\"DataFrame\",DataFrame_to_hdf,\n",
    "                     \"DataFrame\",hdf_to_DataFrame,node_description=\"hdf file\")\n",
    "metadata_graph.add_node(\"csv\",\"DataFrame\",DataFrame_to_csv,\n",
    "                     \"DataFrame\",csv_to_DataFrame,node_description=\"CSV File\")\n",
    "metadata_graph.add_node(\"htmlFile\",\"DataFrame\",DataFrame_to_html_file,\n",
    "                     \"DataFrame\",html_file_to_pandas,node_description=\"HTML Table File\")\n",
    "metadata_graph.add_node(\"htmlTableString\",\"htmlFile\",html_file_to_html_string,\n",
    "                     \"htmlFile\",html_string_to_html_file,node_description=\"HTML Table String\")\n",
    "\n"
   ]
  },
  {
   "cell_type": "code",
   "execution_count": 7,
   "metadata": {
    "collapsed": false
   },
   "outputs": [
    {
     "data": {
      "text/plain": [
       "<matplotlib.figure.Figure at 0xdea5b38>"
      ]
     },
     "execution_count": 7,
     "metadata": {},
     "output_type": "execute_result"
    }
   ],
   "source": [
    "metadata_graph.show(node_size=1500)"
   ]
  },
  {
   "cell_type": "code",
   "execution_count": 8,
   "metadata": {
    "collapsed": false
   },
   "outputs": [
    {
     "data": {
      "text/plain": [
       "['edge_xml_dict_000',\n",
       " 'edge_dict_DataFrame_000',\n",
       " 'edge_DataFrame_htmlFile_000',\n",
       " 'edge_htmlFile_htmlTableString_000']"
      ]
     },
     "execution_count": 8,
     "metadata": {},
     "output_type": "execute_result"
    }
   ],
   "source": [
    "metadata_graph.get_path(\"xml\",\"htmlTableString\")"
   ]
  },
  {
   "cell_type": "code",
   "execution_count": 9,
   "metadata": {
    "collapsed": false
   },
   "outputs": [
    {
     "name": "stdout",
     "output_type": "stream",
     "text": [
      "['edge_dict_headerList_000']\n",
      "moving dict -> headerList\n",
      "********************************************************************************\n",
      "Header List [0, 0, 0, 0, 0, 0, 0, 0, 1, 0, 0, 0, 0, 0, 0, 0, 0]\n",
      "********************************************************************************\n",
      "['a=First', 'b=Second']\n"
     ]
    },
    {
     "data": {
      "text/plain": [
       "<function __main__.move_and_print>"
      ]
     },
     "execution_count": 9,
     "metadata": {},
     "output_type": "execute_result"
    }
   ],
   "source": [
    "def move_and_print(end_node_number):\n",
    "    node=metadata_graph.node_names[end_node_number]\n",
    "    metadata_graph.move_to_node(node)\n",
    "    print(\"*\"*80)\n",
    "    print(\"{0}\".format(metadata_graph.node_descriptions[end_node_number])+\" {0}\".format(metadata_graph.state))\n",
    "    print(\"*\"*80)\n",
    "    print metadata_graph.data\n",
    "    \n",
    "interact(move_and_print,end_node_number=(0,len(metadata_graph.node_names)-1,1))"
   ]
  },
  {
   "cell_type": "code",
   "execution_count": 10,
   "metadata": {
    "collapsed": false
   },
   "outputs": [
    {
     "data": {
      "text/plain": [
       "['edge_dict_DataFrame_000', 'edge_DataFrame_excel_000']"
      ]
     },
     "execution_count": 10,
     "metadata": {},
     "output_type": "execute_result"
    }
   ],
   "source": [
    "metadata_graph.get_path(\"dict\",\"excel\")"
   ]
  },
  {
   "cell_type": "code",
   "execution_count": 11,
   "metadata": {
    "collapsed": true
   },
   "outputs": [],
   "source": [
    "def dict_to_header_list(python_dictionary):\n",
    "    \"Converts a python dictionary to a list of strings in the form ['key1=value1',..'keyN=valueN']\"\n",
    "    out_string=\"\"\n",
    "    out_list=[]\n",
    "    for key,value in python_dictionary.iteritems():\n",
    "        out_string=\"{0}={1}\".format(key,value)\n",
    "        out_list.append(out_string)\n",
    "    return out_list\n",
    "\n",
    "def header_list_to_dict(header_list):\n",
    "    out_dictionary={}\n",
    "    for item in header_list:\n",
    "        key_value_list=item.split(\"=\")\n",
    "        key=key_value_list[0]\n",
    "        value=key_value_list[1]\n",
    "        out_dictionary[key]=value\n",
    "    return out_dictionary\n",
    "    "
   ]
  },
  {
   "cell_type": "code",
   "execution_count": 12,
   "metadata": {
    "collapsed": false
   },
   "outputs": [
    {
     "name": "stdout",
     "output_type": "stream",
     "text": [
      "['edge_xml_dict_000']\n",
      "moving xml -> dict\n"
     ]
    },
    {
     "data": {
      "image/png": "[encoded data removed]",
      "text/plain": [
       "<matplotlib.figure.Figure at 0x11601898>"
      ]
     },
     "metadata": {},
     "output_type": "display_data"
    },
    {
     "data": {
      "text/plain": [
       "<matplotlib.figure.Figure at 0x11899da0>"
      ]
     },
     "metadata": {},
     "output_type": "display_data"
    }
   ],
   "source": [
    "%matplotlib inline\n",
    "def move_and_show(end_node_number):\n",
    "    node=metadata_graph.node_names[end_node_number]\n",
    "    metadata_graph.move_to_node(node)\n",
    "    #print(\"*\"*80)\n",
    "    #print(\"{0}\".format(metadata_graph.node_descriptions[end_node_number])+\" {0}\".format(metadata_graph.state))\n",
    "    #print(\"*\"*80)\n",
    "    metadata_graph.show(descriptions=False)\n",
    "    #print metadata_graph.data\n",
    "\n",
    "    \n",
    "interact(move_and_show,end_node_number=(0,len(metadata_graph.node_names)-1,1))"
   ]
  },
  {
   "cell_type": "code",
   "execution_count": 13,
   "metadata": {
    "collapsed": false
   },
   "outputs": [
    {
     "name": "stdout",
     "output_type": "stream",
     "text": [
      "['edge_headerList_dict_000', 'edge_dict_DataFrame_000']\n",
      "moving headerList -> dict\n",
      "moving dict -> DataFrame\n",
      "0     First\n",
      "1    Second\n",
      "Name: Value, dtype: object\n"
     ]
    }
   ],
   "source": [
    "metadata_graph.move_to_node(\"DataFrame\")\n",
    "df=metadata_graph.data\n",
    "html_file=DataFrame_to_html_file(df)\n",
    "df2=html_file_to_pandas(html_file)\n",
    "print df2[\"Value\"]"
   ]
  },
  {
   "cell_type": "code",
   "execution_count": 14,
   "metadata": {
    "collapsed": false
   },
   "outputs": [
    {
     "ename": "IndexError",
     "evalue": "list index out of range",
     "output_type": "error",
     "traceback": [
      "\u001b[1;31m---------------------------------------------------------------------------\u001b[0m",
      "\u001b[1;31mIndexError\u001b[0m                                Traceback (most recent call last)",
      "\u001b[1;32m<ipython-input-14-b6dca608910c>\u001b[0m in \u001b[0;36m<module>\u001b[1;34m()\u001b[0m\n\u001b[1;32m----> 1\u001b[1;33m \u001b[0mlen\u001b[0m\u001b[1;33m(\u001b[0m\u001b[0mdf2\u001b[0m\u001b[1;33m[\u001b[0m\u001b[1;34m\"Value\"\u001b[0m\u001b[1;33m]\u001b[0m\u001b[1;33m.\u001b[0m\u001b[0mtolist\u001b[0m\u001b[1;33m(\u001b[0m\u001b[1;33m)\u001b[0m\u001b[1;33m[\u001b[0m\u001b[1;36m11\u001b[0m\u001b[1;33m]\u001b[0m\u001b[1;33m)\u001b[0m\u001b[1;33m\u001b[0m\u001b[0m\n\u001b[0m",
      "\u001b[1;31mIndexError\u001b[0m: list index out of range"
     ]
    }
   ],
   "source": [
    "len(df2[\"Value\"].tolist()[11])"
   ]
  },
  {
   "cell_type": "code",
   "execution_count": null,
   "metadata": {
    "collapsed": false
   },
   "outputs": [],
   "source": [
    "raw=TwoPortRawModel(os.path.join(r\"C:\\Share\\Ck_Std_raw_ascii\",'CTN208.L26_121399'))\n",
    "metadata_graph.set_state(\"dict\",raw.options)\n",
    "interact(move_and_print,end_node_number=(0,len(metadata_graph.node_names)-1,1))"
   ]
  },
  {
   "cell_type": "code",
   "execution_count": null,
   "metadata": {
    "collapsed": true
   },
   "outputs": [],
   "source": [
    "test_dictionary={\"New\":\"Value\",\"old\":\"value\"}"
   ]
  },
  {
   "cell_type": "code",
   "execution_count": null,
   "metadata": {
    "collapsed": false
   },
   "outputs": [],
   "source": [
    "dictionary_to_list_list(test_dictionary)"
   ]
  },
  {
   "cell_type": "code",
   "execution_count": null,
   "metadata": {
    "collapsed": true
   },
   "outputs": [],
   "source": [
    "\n",
    "def dictionary_to_HTML_meta(python_dictionary):\n",
    "    \"\"\"Converts a python dictionary to meta tags for html\"\"\"\n",
    "    out_string=\"\"\n",
    "    for key,value in python_dictionary.iteritems():\n",
    "        out_string=out_string+\"<meta name=\"+'\"{0}\"'.format(key)+\" content=\"+'\"{0}\"'.format(value)+\" />\\n\"\n",
    "    return out_string\n",
    "\n",
    "def HTML_meta_to_dictionary(HTML_meta_tags_string):\n",
    "    \"\"\"Converts a python dictionary to meta tags for html\"\"\"\n",
    "    pattern='<meta name=\"(?P<key>.+)\" content=\"(?P<value>.+)\" />'\n",
    "    lines=HTML_meta_tags_string.splitlines()\n",
    "    out_dictionary={}\n",
    "    for line in lines:\n",
    "        match=re.search(pattern,line)\n",
    "        if match:\n",
    "            key=match.groupdict()[\"key\"]\n",
    "            value=match.groupdict()[\"value\"]\n",
    "            out_dictionary[key]=value\n",
    "    return out_dictionary"
   ]
  },
  {
   "cell_type": "code",
   "execution_count": null,
   "metadata": {
    "collapsed": false
   },
   "outputs": [],
   "source": [
    "html=dictionary_to_HTML_meta(test_dictionary)\n",
    "print html"
   ]
  },
  {
   "cell_type": "code",
   "execution_count": null,
   "metadata": {
    "collapsed": false
   },
   "outputs": [],
   "source": [
    "dictionary=HTML_meta_to_dictionary(html)\n",
    "print dictionary"
   ]
  },
  {
   "cell_type": "code",
   "execution_count": null,
   "metadata": {
    "collapsed": false
   },
   "outputs": [],
   "source": [
    "dictionary==test_dictionary"
   ]
  },
  {
   "cell_type": "code",
   "execution_count": null,
   "metadata": {
    "collapsed": false
   },
   "outputs": [],
   "source": [
    "def dictionary_to_tuple_line(python_dictionary):\n",
    "    \"\"\"transforms a python dictionary into a xml line in the form <Tuple key1=value1 key2=value2..keyN=valueN />\"\"\"\n",
    "    prefix=\"<Tuple \"\n",
    "    postfix=\" />\"\n",
    "    inner=\"\"\n",
    "    for key,value in python_dictionary.iteritems():\n",
    "        inner=inner+'{0}=\"{1}\" ' .format(key,value)\n",
    "        xml_out=prefix+inner+postfix\n",
    "    return xml_out\n",
    "\n",
    "def tuple_line_to_dictionary(tuple_line):\n",
    "    \"\"\"Takes a line in the form of <Tuple key1=value1 key2=Value2 ...KeyN=ValueN /> and returns a dictionary\"\"\"\n",
    "    stripped_string=tuple_line.replace(\"<Tuple\",\"\")\n",
    "    stripped_string=stripped_string.replace(\"/>\",\"\")\n",
    "    pattern=\"(?<=\\\")(?<!,|:)\\s+(?!,+)\"\n",
    "    lines=re.split(pattern,stripped_string)\n",
    "    out_dictionary={}\n",
    "    for line in lines:\n",
    "        split_line=line.split(\"=\")\n",
    "        print split_line\n",
    "        if len(split_line)==2:\n",
    "            key=split_line[0].rstrip().lstrip().replace(\"\\\"\",\"\")\n",
    "            value=split_line[1].rstrip().lstrip().replace(\"\\\"\",\"\")\n",
    "            out_dictionary[key]=value\n",
    "    return out_dictionary"
   ]
  },
  {
   "cell_type": "code",
   "execution_count": null,
   "metadata": {
    "collapsed": true
   },
   "outputs": [],
   "source": [
    "test_dictionary={\"column_types\":['float','float','int','string'],\"column_descriptions\":{\"a\":\"Column a\",\n",
    "                                                                                        \"b\":\"Column b\",\n",
    "                                                                                        \"c\":\"Column c\",\n",
    "                                                                                        \"d\":\"Column d\"}}"
   ]
  },
  {
   "cell_type": "code",
   "execution_count": null,
   "metadata": {
    "collapsed": true
   },
   "outputs": [],
   "source": [
    "tuple_line=dictionary_to_tuple_line(test_dictionary)"
   ]
  },
  {
   "cell_type": "code",
   "execution_count": null,
   "metadata": {
    "collapsed": false
   },
   "outputs": [],
   "source": [
    "print tuple_line"
   ]
  },
  {
   "cell_type": "code",
   "execution_count": null,
   "metadata": {
    "collapsed": false
   },
   "outputs": [],
   "source": [
    "dict_2=tuple_line_to_dictionary(tuple_line)"
   ]
  },
  {
   "cell_type": "code",
   "execution_count": null,
   "metadata": {
    "collapsed": false
   },
   "outputs": [],
   "source": [
    "dict_2"
   ]
  },
  {
   "cell_type": "code",
   "execution_count": null,
   "metadata": {
    "collapsed": false
   },
   "outputs": [],
   "source": [
    "raw=TwoPortRawModel(os.path.join(r\"C:\\Share\\Ck_Std_raw_ascii\",'CTN208.L26_121399'))\n",
    "metadata_graph.set_state(\"dict\",raw.options)\n",
    "metadata_graph.move_to_node(\"DataFrame\")\n",
    "df=metadata_graph.data\n",
    "print df"
   ]
  },
  {
   "cell_type": "code",
   "execution_count": null,
   "metadata": {
    "collapsed": false
   },
   "outputs": [],
   "source": [
    "df.dtypes"
   ]
  },
  {
   "cell_type": "code",
   "execution_count": null,
   "metadata": {
    "collapsed": false
   },
   "outputs": [],
   "source": [
    "python_dictionary=raw.options\n",
    "data_list=[[key,value] for key,value in python_dictionary.iteritems()]\n",
    "df3=pandas.DataFrame(data_list,columns=[\"Property\",\"Value\"])"
   ]
  },
  {
   "cell_type": "code",
   "execution_count": null,
   "metadata": {
    "collapsed": false
   },
   "outputs": [],
   "source": [
    "html_file=DataFrame_to_html_file(df3)"
   ]
  },
  {
   "cell_type": "code",
   "execution_count": null,
   "metadata": {
    "collapsed": true
   },
   "outputs": [],
   "source": [
    "def html_file_to_pandas(html_file_name):\n",
    "#     in_file=open(html_file_name,'r')\n",
    "    pandas_data_frame=pandas.read_html(html_file_name,thousands=None)\n",
    "    return pandas_data_frame[0]"
   ]
  },
  {
   "cell_type": "code",
   "execution_count": null,
   "metadata": {
    "collapsed": false
   },
   "outputs": [],
   "source": [
    "html=html_file_to_html_string(html_file)\n",
    "#print html"
   ]
  },
  {
   "cell_type": "code",
   "execution_count": null,
   "metadata": {
    "collapsed": false
   },
   "outputs": [],
   "source": [
    "df4=html_file_to_pandas(html_file)"
   ]
  },
  {
   "cell_type": "code",
   "execution_count": null,
   "metadata": {
    "collapsed": false
   },
   "outputs": [],
   "source": [
    "df4"
   ]
  },
  {
   "cell_type": "code",
   "execution_count": null,
   "metadata": {
    "collapsed": true
   },
   "outputs": [],
   "source": [
    "table=DataFrame_to_AsciiDataTable(df)"
   ]
  },
  {
   "cell_type": "code",
   "execution_count": null,
   "metadata": {
    "collapsed": false
   },
   "outputs": [],
   "source": [
    "csv=DataFrame_to_csv(df)"
   ]
  },
  {
   "cell_type": "code",
   "execution_count": null,
   "metadata": {
    "collapsed": true
   },
   "outputs": [],
   "source": [
    "df4=csv_to_DataFrame(\"test.csv\")"
   ]
  },
  {
   "cell_type": "code",
   "execution_count": null,
   "metadata": {
    "collapsed": false
   },
   "outputs": [],
   "source": [
    "df4[\"Value\"][45]"
   ]
  },
  {
   "cell_type": "code",
   "execution_count": null,
   "metadata": {
    "collapsed": true
   },
   "outputs": [],
   "source": [
    "hdf=DataFrame_to_hdf(df4)"
   ]
  },
  {
   "cell_type": "code",
   "execution_count": null,
   "metadata": {
    "collapsed": true
   },
   "outputs": [],
   "source": [
    "df5=hdf_to_DataFrame(hdf)"
   ]
  },
  {
   "cell_type": "code",
   "execution_count": null,
   "metadata": {
    "collapsed": false
   },
   "outputs": [],
   "source": [
    "df4[\"Value\"][12]"
   ]
  },
  {
   "cell_type": "code",
   "execution_count": null,
   "metadata": {
    "collapsed": true
   },
   "outputs": [],
   "source": [
    "def DataFrame_to_HTML_string(pandas_data_frame):\n",
    "    old_width = pandas.get_option('display.max_colwidth')\n",
    "    pandas.set_option('display.max_colwidth', -1)\n",
    "    html=pandas_data_frame.to_html(index=False)\n",
    "    pandas.set_option('display.max_colwidth', old_width)\n",
    "    return html"
   ]
  },
  {
   "cell_type": "code",
   "execution_count": null,
   "metadata": {
    "collapsed": false
   },
   "outputs": [],
   "source": [
    "html=DataFrame_to_HTML_string(df5)"
   ]
  },
  {
   "cell_type": "code",
   "execution_count": null,
   "metadata": {
    "collapsed": false
   },
   "outputs": [],
   "source": [
    "print html"
   ]
  },
  {
   "cell_type": "code",
   "execution_count": null,
   "metadata": {
    "collapsed": false
   },
   "outputs": [],
   "source": [
    "df6=HTML_string_to_DataFrame(html)"
   ]
  },
  {
   "cell_type": "code",
   "execution_count": null,
   "metadata": {
    "collapsed": false
   },
   "outputs": [],
   "source": [
    "df6[\"Value\"][12]"
   ]
  },
  {
   "cell_type": "code",
   "execution_count": null,
   "metadata": {
    "collapsed": false
   },
   "outputs": [],
   "source": [
    "print html"
   ]
  },
  {
   "cell_type": "code",
   "execution_count": null,
   "metadata": {
    "collapsed": false
   },
   "outputs": [],
   "source": [
    "df6.fillna(\"None\")"
   ]
  },
  {
   "cell_type": "code",
   "execution_count": null,
   "metadata": {
    "collapsed": true
   },
   "outputs": [],
   "source": [
    "a=\"\\n\".rstrip()"
   ]
  },
  {
   "cell_type": "code",
   "execution_count": null,
   "metadata": {
    "collapsed": false
   },
   "outputs": [],
   "source": [
    "a"
   ]
  },
  {
   "cell_type": "code",
   "execution_count": null,
   "metadata": {
    "collapsed": true
   },
   "outputs": [],
   "source": []
  }
 ],
 "metadata": {
  "kernelspec": {
   "display_name": "Python 2",
   "language": "python",
   "name": "python2"
  },
  "language_info": {
   "codemirror_mode": {
    "name": "ipython",
    "version": 2
   },
   "file_extension": ".py",
   "mimetype": "text/x-python",
   "name": "python",
   "nbconvert_exporter": "python",
   "pygments_lexer": "ipython2",
   "version": "2.7.12"
  }
 },
 "nbformat": 4,
 "nbformat_minor": 0
}
