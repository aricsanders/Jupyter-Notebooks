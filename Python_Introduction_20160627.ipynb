{
 "cells": [
  {
   "cell_type": "markdown",
   "metadata": {},
   "source": [
    "<a id=\"top\"></a>\n",
    "# Welcome to python using jupyter!\n",
    "This tutorial is aimed at people who wish to use python with jupyter and was given and developed on Windows 7( __not my choice__)\n",
    "\n",
    "\n",
    "## Table of Contents\n",
    "<hr style=\"border-top: 3px double #8c8b8b;\"/>\n",
    "<ol>\n",
    "<li> <h3><a href=\"#getting-started\">What you need to get started </a> </h3></li>\n",
    "<li> <h3><a href=\"#install\">Installing and Loading Python</a> </h3></li>\n",
    "<li><h3><a href=\"#jupyter-begin\">Begining a Jupyter Session</a></h3></li>\n",
    "<li><h3> <a href=\"#basic-syntax\">Basic Python Syntax </a> </h3></li>\n",
    "<li><h3> <a href=\"#file-io\">Opening and reading file </a> </h3></li>\n",
    "<li> <h3><a href=\"#function\">Defining A function</a></h3> </li>\n",
    "<li><h3> <a href=\"#class\">Creating a class</a> </h3></li>\n",
    "<li><h3> <a href=\"#plotting-basic\">Basic Plotting</a></h3> </li>\n",
    "<li><h3> <a href=\"#plotting-int\">Intermediate Plotting</a></h3> </li>\n",
    "<li><h3> <a href=\"#markdown\">Using Jupyter's Markdown Cells to Document Code</a></h3> </li>\n",
    "<li><h3> <a href=\"#fitting\">Basic Fitting</a></h3> </li>\n",
    "<li><h3> <a href=\"#fit-analysis\">Analysis of A Fit</a></h3> </li>\n",
    "<li> <h3> <a href=\"#repeat-pandas\">Repeating using pandas</a></h3> </li>\n",
    "<li> <h3> <a href=\"#basic-instrument\">Basic Instrument Control</a></h3> </li>\n",
    "</ol>\n",
    "<hr style=\"border-top: 3px double #8c8b8b;\"/>\n"
   ]
  },
  {
   "cell_type": "markdown",
   "metadata": {},
   "source": [
    " <a href=\"#top\"> <em>back to top</em></a>\n",
    " <hr style=\"border-top: 2px double #8c8b8b;\"/>\n",
    " <h3><a id=\"getting-started\">What you need to get started </a> </h3>"
   ]
  },
  {
   "cell_type": "markdown",
   "metadata": {},
   "source": [
    "1. A computer running a semi-modern os. It could be windows 7 or greater, mac os, or a unix flavor from the last 5 years\n",
    "2. An internet connection\n",
    "3. Some time and patience. It takes a little effort to move to a new syntax, but not that much."
   ]
  },
  {
   "cell_type": "markdown",
   "metadata": {},
   "source": [
    "<a href=\"#top\"> <em>back to top</em></a>\n",
    " <hr style=\"border-top: 2px double #8c8b8b;\"/>\n",
    "<h3><a id=\"install\">Installing and Loading Python</a> </h3>"
   ]
  },
  {
   "cell_type": "markdown",
   "metadata": {},
   "source": [
    "To install python, you can download just python from its [website][python] or you can download one of the many excellent free package distrubutions on the web. I personally believe the three best at the time this document was written (2016) are:\n",
    "1. [Anaconda][anaconda] (what we will use today)\n",
    "2. [Enthought][enthought] (there is a free version)\n",
    "3. [Python(x,y)][pythonxy]\n",
    "<br/>\n",
    "\n",
    "<p>Each one of these comes with a more tools then you will ever have time to explore. A key element of these is also a package installer for other python packages that they did not come with.pip is an example of such a package installer, on a command line you simply type `pip install django` and django is magically installed for the default version of python. I am currently sticking with python 2 and not upgrading to python 3, however I have tried to make things as compatible as possible. This choice is motivated by the fact that a large number of scientific based packages have not upgraded yet. Once you have installed one of these, you can call python from a command prompt by simply typing python, or start you favorite code editting tool. I use more than one at any given time and I think jupyter is great for explaining things. Currently I am using [PyCharm][pycharm] for large scale code collections.</p>\n",
    "\n",
    "For this tutorial, I suggest you download and install [Anaconda][anaconda] for python 2.7 the 64bit version, and you should have everything you need. \n",
    "\n",
    "\n",
    "[python]:https://www.python.org/\n",
    "[anaconda]:https://www.continuum.io/downloads\n",
    "[enthought]:https://www.enthought.com/canopy-subscriptions/\n",
    "[pythonxy]:https://python-xy.github.io/\n",
    "[pycharm]:https://www.jetbrains.com/pycharm/"
   ]
  },
  {
   "cell_type": "markdown",
   "metadata": {},
   "source": [
    "<a href=\"#top\"> <em>back to top</em></a>\n",
    " <hr style=\"border-top: 2px double #8c8b8b;\"/>\n",
    "<h3><a id=\"jupyter-begin\">Begining a Jupyter Session</a></h3>"
   ]
  },
  {
   "cell_type": "markdown",
   "metadata": {},
   "source": [
    "#### Begining a Jupyter Session on Windows\n",
    "To begin a jupyter notebook session, you open a cmd prompt and type jupyter notebook. This starts the server and then opens the web address http://localhost:8890/tree on the default web browser. Then click an existing notebook or open a new one. \n",
    "1. start a command prompt in windows <img src=\"./Python_Introduction_Images/Starting_Command_Prompt.PNG\" /><br/>\n",
    "2. at the command prompt type: jupyter notebook\n",
    "<img src=\"./Python_Introduction_Images/Command_Jupyter_Notebook.PNG\" /><br/>\n",
    "3. now the jupyter browser should automatically open in the default browser at http://localhost:8890/tree.\n",
    "<img src=\"./Python_Introduction_Images/Jupyter_Notebook_Home.PNG\" /><br/>\n",
    "4. now open a new notebook\n",
    "<img src=\"./Python_Introduction_Images/New_Python2_Jupyter.PNG\" /><br/>"
   ]
  },
  {
   "cell_type": "markdown",
   "metadata": {},
   "source": [
    "<a href=\"#top\"> <em>back to top</em></a>\n",
    " <hr style=\"border-top: 2px double #8c8b8b;\"/>\n",
    "<h3> <a id=\"basic-syntax\">Basic Python Syntax </a> </h3>"
   ]
  },
  {
   "cell_type": "markdown",
   "metadata": {},
   "source": [
    "The basics of python syntax and a few gotcha's for those of us coming from other languages  \n",
    "1. Whitespace is important! Every different level of code block is indented\n",
    "2. Flow commands and definitions of functions and classes have a colon (```:```) at the end\n",
    "3. Reserved parameters are denoted with double underscores before and after ```__``` as in ```__doc__```.\n",
    "4. Comments begin with ```#```\n",
    "5. Everything is zero indexed\n",
    "6. Power is ```**``` not ```^```\n",
    "\n",
    "Some examples, try them in a code cell: \n",
    "\n",
    "```python\n",
    "# my python code \n",
    "def my_function(variable_one):\n",
    "    \"\"\"This is a proper function definition\"\"\"\n",
    "    print(\"My function has executed and the value of variable_one is {0}\".format(variable_one))\n",
    "```\n",
    "```python\n",
    "# this is an if statement\n",
    "value=True\n",
    "if value:\n",
    "    print(\"True!\")\n",
    "else:\n",
    "    print(\"False!\")\n",
    "```\n",
    "\n",
    "    "
   ]
  },
  {
   "cell_type": "code",
   "execution_count": 17,
   "metadata": {
    "collapsed": false
   },
   "outputs": [
    {
     "ename": "IndentationError",
     "evalue": "expected an indented block (<ipython-input-17-24e95b6ead9f>, line 3)",
     "output_type": "error",
     "traceback": [
      "\u001b[1;36m  File \u001b[1;32m\"<ipython-input-17-24e95b6ead9f>\"\u001b[1;36m, line \u001b[1;32m3\u001b[0m\n\u001b[1;33m    \"\"\"This is an improper function definition\"\"\"\u001b[0m\n\u001b[1;37m                                                ^\u001b[0m\n\u001b[1;31mIndentationError\u001b[0m\u001b[1;31m:\u001b[0m expected an indented block\n"
     ]
    }
   ],
   "source": [
    "# my python code that has an error\n",
    "def my_function(variable_one):\n",
    "\"\"\"This is an improper function definition\"\"\"\n",
    "print(\"My function has executed and the value of variable_one is {0}\".format(variable_one))\n",
    "my_function('Hello There!')"
   ]
  },
  {
   "cell_type": "code",
   "execution_count": 23,
   "metadata": {
    "collapsed": false
   },
   "outputs": [
    {
     "name": "stdout",
     "output_type": "stream",
     "text": [
      "My function has executed and the value of variable_one is Hello There!\n",
      "This is a proper function definition\n"
     ]
    }
   ],
   "source": [
    "# my python code \n",
    "def my_function(variable_one):\n",
    "    \"\"\"This is a proper function definition\"\"\"\n",
    "    print(\"My function has executed and the value of variable_one is {0}\".format(variable_one))\n",
    "my_function('Hello There!')\n",
    "\n",
    "# The documentation string is stored in my_function.__doc__\n",
    "print(my_function.__doc__)"
   ]
  },
  {
   "cell_type": "code",
   "execution_count": 9,
   "metadata": {
    "collapsed": false
   },
   "outputs": [
    {
     "name": "stdout",
     "output_type": "stream",
     "text": [
      "True!\n"
     ]
    }
   ],
   "source": [
    "# this is an if statement\n",
    "value=True\n",
    "if value:\n",
    "    print(\"True!\")\n",
    "else:\n",
    "    print(\"False!\")\n",
    "    \n",
    "value=1\n",
    "if value==1:# equality test is == not =!\n",
    "    print(\"Value is 1\")\n",
    "elif value<0:\n",
    "    print(\"Value is negative\")\n"
   ]
  },
  {
   "cell_type": "code",
   "execution_count": 11,
   "metadata": {
    "collapsed": false
   },
   "outputs": [
    {
     "name": "stdout",
     "output_type": "stream",
     "text": [
      "The first element of test_list_1 is a\n",
      "The first element of test_list_2 is 0\n"
     ]
    }
   ],
   "source": [
    "# Lists always start at index = 0\n",
    "test_list_1=['a','b','c']\n",
    "print(\"The first element of test_list_1 is {0}\".format(test_list_1[0]))\n",
    "test_list_2=[i for i in range(100)]\n",
    "print(\"The first element of test_list_2 is {0}\".format(test_list_2[0]))\n",
    "\n"
   ]
  },
  {
   "cell_type": "code",
   "execution_count": 22,
   "metadata": {
    "collapsed": false
   },
   "outputs": [
    {
     "name": "stdout",
     "output_type": "stream",
     "text": [
      "--------------------------------------------------------------------------------\n",
      "test_list is : [0, 1, 2, 3, 4, 5, 6, 7, 8, 9]\n",
      "--------------------------------------------------------------------------------\n",
      "test_list_squared is : [0, 1, 4, 9, 16, 25, 36, 49, 64, 81]\n",
      "--------------------------------------------------------------------------------\n"
     ]
    },
    {
     "data": {
      "text/plain": [
       "1"
      ]
     },
     "execution_count": 22,
     "metadata": {},
     "output_type": "execute_result"
    }
   ],
   "source": [
    "# this is how to square a number\n",
    "10**2\n",
    "# so to square every number in a list\n",
    "test_list=[i for i in range(10)]\n",
    "test_list_squared=[x**2 for x in test_list]\n",
    "\n",
    "# Some text formatting for the output\n",
    "print(\"-\"*80)\n",
    "print(\"test_list is : {0}\".format(test_list))\n",
    "print(\"-\"*80)\n",
    "print(\"test_list_squared is : {0}\".format(test_list_squared))\n",
    "print(\"-\"*80)\n",
    "\n",
    "# As a side note the ^ operator is bitwise exclusive or for ints only. This seems weird to me but my Computer Science friends \n",
    "# assure me it's normal.\n",
    "int_1=1\n",
    "int_2=0\n",
    "int_1^int_2"
   ]
  },
  {
   "cell_type": "markdown",
   "metadata": {},
   "source": [
    "<a href=\"#top\"> <em>back to top</em></a>\n",
    " <hr style=\"border-top: 2px double #8c8b8b;\"/>\n",
    "<h3> <a id=\"file-io\">Opening and Reading Files </a> </h3>"
   ]
  },
  {
   "cell_type": "code",
   "execution_count": 24,
   "metadata": {
    "collapsed": false
   },
   "outputs": [
    {
     "data": {
      "text/plain": [
       "['.git',\n",
       " '.idea',\n",
       " '.ipynb_checkpoints',\n",
       " 'A story about calibration uncertainities.html',\n",
       " 'A story about calibration uncertainities.ipynb',\n",
       " 'AsciiDataTable_Example_20160226_001.ipynb',\n",
       " 'Basic Random Numbers.html',\n",
       " 'Basic Random Numbers.ipynb',\n",
       " 'Building_Calnet_Example_20160201_01.ipynb',\n",
       " 'Calling_MUF_Python_20160330_001.ipynb',\n",
       " 'Calling_MUF_Python_20160526_001.ipynb',\n",
       " 'Calnet',\n",
       " 'CheckStandard_History_Comparision__Plot_20160509_001.ipynb',\n",
       " 'Check_Standard_20160420_001.ipynb',\n",
       " 'COM_StatistiCAL_Example_20160525_001.ipynb',\n",
       " 'Convert_All_ASC_files_20160425_001.ipynb',\n",
       " 'Convert_All_Raw_SParameter_Power_20160427_001.ipynb',\n",
       " 'Data Overview.html',\n",
       " 'Data Overview.ipynb',\n",
       " 'Development_Stack_Installation_Example_20160130_01.html',\n",
       " 'Development_Stack_Installation_Example_20160130_01.ipynb',\n",
       " 'Development_Stack_Installation_Jennifer_20160412.ipynb',\n",
       " 'DjangoUtils_RegisterModels_Example_20160205_01.ipynb',\n",
       " 'Django_Notes_20160326_001.ipynb',\n",
       " 'ECPV_Datamodel_20160520_001.ipynb',\n",
       " 'ECPV_Example_20160518_001.ipynb',\n",
       " 'Example_AutoName_20160121_001.html',\n",
       " 'Example_AutoName_20160121_001.ipynb',\n",
       " 'Example_JBConversion_20160121_01.ipynb',\n",
       " 'Fix_Meas_File_Paths_20160328_001.ipynb',\n",
       " 'Git_Example_20160218_001.html',\n",
       " 'Git_Example_20160218_001.ipynb',\n",
       " 'HPBasic_Installation_20160218_001.ipynb',\n",
       " 'HTML_ASCII_Conversion_20160218_001.ipynb',\n",
       " 'Import_Calrep_20160223_001.ipynb',\n",
       " 'Import_JBSparameter_Format_Example_201603232016.ipynb',\n",
       " 'Markdown_Example_20160129_01.ipynb',\n",
       " 'Markdown_Example_20160619_001.ipynb',\n",
       " 'Montecarlo_20160408_001.ipynb',\n",
       " 'node_3.txt',\n",
       " 'NoiseCal.html',\n",
       " 'NoiseCal.ipynb',\n",
       " 'pdoc_Test_20160116.html',\n",
       " 'pdoc_Test_20160116.ipynb',\n",
       " 'plotly_example_20160316_001.ipynb',\n",
       " 'pyMeasure_Example_20160621_001.ipynb',\n",
       " 'Pythonnet_CLR_Example_20160328_001.ipynb',\n",
       " 'Python_Introduction_20160627.ipynb',\n",
       " 'Python_Introduction_Files',\n",
       " 'Python_Introduction_Images',\n",
       " 'README.md',\n",
       " 'Rectangular_Data_Table_Bijective_Example_20160328_001.ipynb',\n",
       " 'REGEX.html',\n",
       " 'REGEX.ipynb',\n",
       " 'Round_Robin_Example_20160507_001.ipynb',\n",
       " 'Single Parameter Calibrations.html',\n",
       " 'Single Parameter Calibrations.ipynb',\n",
       " 'Sparameter_Power_Data_Transformation_20160502_001.ipynb',\n",
       " 'Sparameter_Power_FileFormats_20160412_001.ipynb',\n",
       " 'String_Bijective_Network_Example_20160317_001.ipynb',\n",
       " 'Structured_Metadata_Example_20160325_001.ipynb',\n",
       " 'temp-plot.html',\n",
       " 'test_link.svg',\n",
       " 'Touchstone_Example_20160314_001.ipynb',\n",
       " 'TwoPort_Calrep_201604012016_001.ipynb',\n",
       " 'Two_Port_Calrep_DUT_Converter_20160424_001.ipynb',\n",
       " 'Uncertainity_Scratch_20151102_01.html',\n",
       " 'Uncertainity_Scratch_20151102_01.ipynb',\n",
       " 'Untitled.ipynb',\n",
       " 'untitled.txt',\n",
       " 'Untitled1.ipynb',\n",
       " 'untitled1.txt',\n",
       " 'urls.py',\n",
       " 'xml-badge.png']"
      ]
     },
     "execution_count": 24,
     "metadata": {},
     "output_type": "execute_result"
    }
   ],
   "source": [
    "# to open a file \n",
    "# first it is usefull to import os a library that deals with the operating system\n",
    "import os\n",
    "\n",
    "# this gives us the ability to look for files\n",
    "#os.listdir(os.getcwd()) #list all the files in the current working directory\n",
    "file_directory=os.path.join(os.getcwd(),'Python_Introduction_Files') # This should be the directory where the examples files are\n",
    "file_name='Example_File_1.txt'\n",
    "\n",
    "# to open the file we use the built in function open in the read mode\n",
    "in_file=open(os.path.join(file_directory,file_path),'r')\n",
    "\n",
    "# Now can either read the contents using read or I like to input things line by line\n",
    "lines=[]\n",
    "for line in in_file:\n",
    "    lines.append(line)\n",
    "    \n",
    "# Now the list named lines contains the file line by line. It is a list of strings.\n",
    "print(lines[0])\n",
    "\n",
    "# it is good practice to close in_file\n",
    "in_file.close()"
   ]
  },
  {
   "cell_type": "markdown",
   "metadata": {},
   "source": [
    "<a href=\"#top\"> <em>back to top</em></a>\n",
    " <hr style=\"border-top: 2px double #8c8b8b;\"/>\n",
    "<h3><a id=\"function\">Defining A function</a></h3> "
   ]
  },
  {
   "cell_type": "markdown",
   "metadata": {},
   "source": [
    "A function can have none, one or many arguments and can return a value or not. The big thing to remember is that it starts with the `def` keyword and has no spaces in the name (can't start with a number either) and ends when the indented block ends.\n",
    "```python\n",
    "def function_one(variable_one,variable_two='default value',*list_arguments,**keyword_arguments):\n",
    "    \"\"\"function_one is an example function that will take a positionial argument, a named argument or the \"packed\" arguments\n",
    "    in list_arguments or keyword arguments, it prints them out but does not return a value\"\"\"\n",
    "    print(\"{0}, is the value of variable_one and {1} is the value of variable_two\".format(variable_one,variable_two))\n",
    "    for index,item in enumerate(list_arguments):\n",
    "        print(\"Item number {0} in list_arguments is {1}\".format(index,item))\n",
    "    for key, value in keyword_arguments:\n",
    "        print(\"keyword_arguments[{0}]={1}\".format(key,value))\n",
    "```\n",
    "    "
   ]
  },
  {
   "cell_type": "code",
   "execution_count": 31,
   "metadata": {
    "collapsed": false
   },
   "outputs": [
    {
     "name": "stdout",
     "output_type": "stream",
     "text": [
      "Hello, is the value of variable_one and hi is the value of variable_two\n",
      "Item number 0 in list_arguments is a list\n",
      "Item number 1 in list_arguments is of\n",
      "Item number 2 in list_arguments is values\n",
      "Item number 3 in list_arguments is or\n",
      "Item number 4 in list_arguments is 123\n",
      "keyword_arguments[A Key]=A Value\n",
      "Hello again, is the value of variable_one and a list is the value of variable_two\n",
      "Item number 0 in list_arguments is of\n",
      "Item number 1 in list_arguments is values\n",
      "Item number 2 in list_arguments is or\n",
      "Item number 3 in list_arguments is 123\n",
      "keyword_arguments[A Key]=A Value\n",
      "a list, is the value of variable_one and of is the value of variable_two\n",
      "Item number 0 in list_arguments is values\n",
      "Item number 1 in list_arguments is or\n",
      "Item number 2 in list_arguments is 123\n",
      "keyword_arguments[A Key]=A Value\n",
      "1, is the value of variable_one and default value is the value of variable_two\n",
      "keyword_arguments[A Key]=A Value\n"
     ]
    }
   ],
   "source": [
    "def function_one(variable_one,variable_two='default value',*list_arguments,**keyword_arguments):\n",
    "    \"\"\"function_one is an example function that will take a positionial argument, a named argument or the \"packed\" arguments\n",
    "    in list_arguments or keyword arguments, it prints them out but does not return a value\"\"\"\n",
    "    \n",
    "    print(\"{0}, is the value of variable_one and {1} is the value of variable_two\".format(variable_one,variable_two))\n",
    "    for index,item in enumerate(list_arguments):\n",
    "        print(\"Item number {0} in list_arguments is {1}\".format(index,item))\n",
    "    for key, value in keyword_arguments.iteritems():\n",
    "        print(\"keyword_arguments[{0}]={1}\".format(key,value))\n",
    "        \n",
    "function_one('Hello',\"hi\",*['a list','of','values','or',123],**{'A Key':'A Value'})\n",
    "\n",
    "# or with it's default value\n",
    "function_one('Hello again',*['a list','of','values','or',123],**{'A Key':'A Value'})\n",
    "\n",
    "function_one(*['a list','of','values','or',123],**{'A Key':'A Value'})\n",
    "\n",
    "function_one(**{'A Key':'A Value','variable_one':1})"
   ]
  },
  {
   "cell_type": "code",
   "execution_count": null,
   "metadata": {
    "collapsed": true
   },
   "outputs": [],
   "source": [
    "# now use a function to do the same thing\n",
    "def process_data_file(file_path=r''):\n",
    "    \"\"\"process_data_file is a function that opens a data file and returns a 2-d list\"\"\"\n",
    "    in_file=open(file_path,'r')\n",
    "    out_data=[]\n",
    "    for line in in_file:\n",
    "        line_list=line.split()\n",
    "        line_list=map(lambda x:float(x),line_list)\n",
    "        out_data.append(line_list)\n",
    "    return out_data\n"
   ]
  },
  {
   "cell_type": "markdown",
   "metadata": {},
   "source": [
    "<a href=\"#top\"> <em>back to top</em></a>\n",
    " <hr style=\"border-top: 2px double #8c8b8b;\"/>\n",
    "<h3> <a id=\"class\">Creating a class</a> </h3>"
   ]
  },
  {
   "cell_type": "markdown",
   "metadata": {},
   "source": [
    "<a href=\"#top\"> <em>back to top</em></a>\n",
    " <hr style=\"border-top: 2px double #8c8b8b;\"/>\n",
    "<h3> <a id=\"plotting-basic\">Basic Plotting</a></h3>"
   ]
  },
  {
   "cell_type": "markdown",
   "metadata": {},
   "source": [
    "Basic plots that emmulate early matlab plots are easy to make in python using the library matplotlib ."
   ]
  },
  {
   "cell_type": "code",
   "execution_count": 19,
   "metadata": {
    "collapsed": true
   },
   "outputs": [],
   "source": [
    "# Basic Plotting with Matplotlib\n",
    "import matplotlib.pyplot as plt\n",
    "\n",
    "# Make a data set\n",
    "x=[i for i in range(-100,100)]\n",
    "y=[j**2 for j in x]\n",
    "\n",
    "# Basic Plot\n",
    "plt.plot(x,y)\n",
    "plt.show()"
   ]
  },
  {
   "cell_type": "markdown",
   "metadata": {},
   "source": [
    "<a href=\"#top\"> <em>back to top</em></a>\n",
    " <hr style=\"border-top: 2px double #8c8b8b;\"/>\n",
    "<h3> <a id=\"plotting-int\">Intermediate Plotting</a></h3>"
   ]
  },
  {
   "cell_type": "markdown",
   "metadata": {},
   "source": [
    "Now there are several things that we would want to change if we are making a publication quatlity plot, such as font size, markers, etc to suit our taste and/or our chosen subfield of science. In addition, it would be nice to have the plot actually inside of the notebook for reference, we can achieve this with the notebook \"magic\". There are a lot of functionalities hidden in jupyter (and its predecessor ipython) that we can access using magics. A magic is started by simply putting something like `%matplotlib notebook` at the begining of a cell. In this case it will cause the plot to live in the notebook and be interactive."
   ]
  },
  {
   "cell_type": "markdown",
   "metadata": {},
   "source": [
    "<a href=\"#top\"> <em>back to top</em></a>\n",
    " <hr style=\"border-top: 2px double #8c8b8b;\"/>\n",
    "<h3> <a id=\"markdown\">Using Jupyter's Markdown Cells to Document Code</a></h3>"
   ]
  },
  {
   "cell_type": "markdown",
   "metadata": {},
   "source": [
    "The Jupyter environment comes with a handy way of creating notes and documenting code, the markdown cell. A mark down cell handles traditional markdown (a html short hand), most html tags, and latex. This allows you to make your code pretty. \n",
    "\n",
    "In this section you will learn:\n",
    "1. How to create simple markdown cells with formated text inside\n",
    "2. How to add html for more complex formating\n",
    "3. How to highlight code for demonstration but not execution\n",
    "4. How to output simple formulae using latex (note: sometimes this is broken in Internet Explorer, use another browser such as Chrome)\n"
   ]
  },
  {
   "cell_type": "markdown",
   "metadata": {},
   "source": [
    "#### Creating a simple markdown cell with formated text inside\n",
    "1. Create a new cell, by executing the previous cell or Insert Cell <img src=\"./Python_Introduction_Images/Insert_Cell.PNG\"/><br/>\n",
    "2. Change the type of cell from Code to Markdown by escape+m or by changing the selection in the tool bar <img src=\"./Python_Introduction_Images/Cell_Type.PNG\" /><br/>\n",
    "3. In the new cell enter ```# My Heading```, execute the cell by pressing shift+enter. You should see something like\n",
    "# My Heading\n",
    "<br/>\n",
    "4. In the shorthand of Markdown you have the ability to apply a large number of simple styles such as bold, italic, tables, links, and the equivelent of the html heading tags. A more complete listing of the possibilities for Markdown can be found at :https://daringfireball.net/projects/markdown/syntax a more jupyter focused tutorial can be found [here][jupyter-markdown]\n",
    "\n",
    "My most used shorthand rules:\n",
    "+ Headings start with ```#``` . The level is given by the number of ```#'s``` , like ```## Heading 2```\n",
    "# Heading 1\n",
    "## Heading 2\n",
    "### Heading 3\n",
    "#### Heading 4\n",
    "<br/>\n",
    "+ Number lists are default for things that start with numbers like ```1. Numbered list element 1```\n",
    "    1. Numbered list element 1\n",
    "    2. Numbered list element 2\n",
    "<br/>\n",
    "+ Unordered or bulleted lists start with a symbol, I always use ```+``` like ```+ Bullet 1```\n",
    "    + Bullet 1\n",
    "    + Bullet 2\n",
    "<br/>\n",
    "+ Bold is two underscores before and after the word or phrase, like ```__my bolded text__``` and will be displayed as\n",
    "__my bolded text__\n",
    "<br/>\n",
    "+ Italics is an asterix before and after, like ```*italics is awesome*``` and will be displayed as *italics is awesome*\n",
    "<br/>\n",
    "+ Tables can be made with underscores and pipes such as ```| Tables        | Are           | Cool  |```\n",
    "| Tables        | Are           | Cool  |, I usually use the html version though.\n",
    "<br/>\n",
    "\n",
    "[jupyter-markdown]:http://nbviewer.jupyter.org/github/twistedhardware/mltutorial/blob/master/notebooks/jupyter/2.%20Markdown%20%26%20LaTeX.ipynb"
   ]
  },
  {
   "cell_type": "markdown",
   "metadata": {},
   "source": [
    "#### Adding HTML for more complex formatting\n",
    "In addition to handling the Markdown shorthand syntax, Jupyter's Markdown *Cells* handle most HTML tags properly, including the ability to add the style attribute. \n",
    "For example, if you wanted your heading to be red in a different font you could type ```<h1 style=\"color:red;font-family:serif\"> My Heading</h1>```, execute the cell and you should see something similar to \n",
    "<h1 style=\"color:red;font-family:serif\"> My Heading</h1><br/>\n",
    "or if you wanted a styled table such as ```<table style=\"color:blue;\"><tr><td style=\"border: 5px solid green;\">Table row 1 column 1 </td><td style=\"border: 5px solid blue;\">Table row 1 column 2 </td></tr></table>```\n",
    "<table style=\"color:blue;\"><tr><td style=\"border: 5px solid green;\">Table row 1 column 1 </td><td style=\"border: 5px solid blue;\">Table row 1 column 2 </td></tr></table>\n",
    "this works for a range of tags that include :```<h1></h1>...<h6></h6><p></p><table></table><img />```\n",
    "does not work for javascript or svg. To embed them you need to use the rich output methods in jupyter.\n"
   ]
  },
  {
   "cell_type": "markdown",
   "metadata": {},
   "source": [
    "#### Code highlighting for code not executed\n",
    "Markdown cells have a nice ability to include a code chunk in a couple of languanges properly highlighted. To do this, start by escaping the test with three \\` (backquoute, the character under ~ on most keyboards) followed by a language name. So it looks like \\`\\`\\`python \\`\\`\\`\n",
    "\n",
    "for example:<br/>\n",
    "\\`\\`\\`python <br/>\n",
    "\\# python comment <br/>\n",
    "\\`\\`\\` <br/>\n",
    "is rendered like\n",
    "```python\n",
    "# python comment\n",
    "```\n",
    "<br/>\n",
    "This works with html, javscript, python and a few others by changing the word directly after the three backquotes.<br/>\n",
    "html: <br/>\n",
    "```html\n",
    "<h3 style=\"color:red\"> Table </h3>\n",
    "<table> </table>\n",
    "```\n",
    "\n",
    "javascript: <br/>\n",
    "```javascript\n",
    "// A javascript comment\n",
    "function myJavascriptFunction(input){\n",
    "var longUnreadableName=null;\n",
    "document.getElementById('fake-id').innerHTML=input;\n",
    "}\n",
    "```\n",
    "<br/>\n",
    "Visual Basic:\n",
    "```vb\n",
    "dim Variable as integer\n",
    "```\n",
    "\n",
    "            "
   ]
  },
  {
   "cell_type": "markdown",
   "metadata": {},
   "source": [
    "#### Latex for equations and type setting\n",
    "In addition, jupyter markdown cells understand latex. You only need to wrap expressions with two \\$'s i.e ```$$your latex here$$``` for equations on their own line and one for inline```$your latex here$```. This is sometimes broken on Internet Explorer, but works fine in most other broswers. \n",
    "for example:<br/>\n",
    "the sum of xi from i=0 to i=100 <br/>\n",
    "`$\\sum\\limits_{i=100}^{0}x_{i}$`\n",
    "renders as :\n",
    "$\\sum\\limits_{i=100}^{0}x_i$\n",
    "<br/>\n",
    "or a gaussian is `$$f(x)=ae^{-{(x-x_0)}^2\\over{2\\sigma^2}}$$`:\n",
    "$$f(x)=ae^{-{(x-x_0)}^2\\over{2\\sigma^2}}$$"
   ]
  },
  {
   "cell_type": "markdown",
   "metadata": {},
   "source": [
    "<a href=\"#top\"> <em>back to top</em></a>\n",
    "<hr style=\"border-top: 2px double #8c8b8b;\"/>\n",
    "<h3> <a id=\"fitting\">Basic Fitting</a></h3>"
   ]
  },
  {
   "cell_type": "markdown",
   "metadata": {},
   "source": [
    "#### Fitting using scipy.\n",
    "As you might imagine there is more than one way to do a fit in python. We will use the library scipy and it's optimize package to do the job, really because I know how to use it. Scipy can be found at https://www.scipy.org/"
   ]
  },
  {
   "cell_type": "code",
   "execution_count": 39,
   "metadata": {
    "collapsed": false
   },
   "outputs": [],
   "source": [
    "# import scipy and some of its important modules\n",
    "import scipy\n",
    "import scipy.optimize\n",
    "import scipy.stats\n",
    "import numpy as np\n",
    "\n",
    "start=-10\n",
    "stop=10\n",
    "num=1000\n",
    "xdata=np.linspace(start,stop,num)\n",
    "ydata=.5*scipy.exp(-(xdata-.1)**2/(2.0*3.0**2))\n",
    "ydata_with_noise=[.5*scipy.exp(-(x-.1)**2/(2.0*3.0**2))+np.random.random() for x in xdata]\n",
    "\n",
    "def lorentzian_function(a,x):\n",
    "    \"a[0]=amplitude,a[1]=center,a[2]=FWHM\"\n",
    "    return a[0]*1/(1+(x-a[1])**2/(a[2]**2))\n",
    "\n",
    "def gaussian_function(a,x):\n",
    "    \" a[0]=amplitude, a[1]=center, a[2]=std deviation\"\n",
    "    return a[0]*scipy.exp(-(x-a[1])**2/(2.0*a[2]**2))\n",
    "\n",
    "def fit(function,xdata,ydata,a0):\n",
    "    fit_dictionary={}\n",
    "    error_function=lambda a, xdata, ydata:function(a,xdata)-ydata\n",
    "    a,succes=scipy.optimize.leastsq(error_function, a0,args=(xdata,ydata))\n",
    "    return a\n",
    "a0=[1,1,1]\n",
    "result=fit(gaussian_function,xdata,ydata_with_noise,a0)\n",
    "\n",
    "plt.plot(xdata,ydata_with_noise,'bo')\n",
    "plt.plot(xdata,[gaussian_function(result,x) for x in xdata],'r-')\n",
    "plt.show()"
   ]
  },
  {
   "cell_type": "markdown",
   "metadata": {},
   "source": [
    "<h3> <a id=\"fit-analysis\">Analysis of A Fit</a></h3> "
   ]
  },
  {
   "cell_type": "markdown",
   "metadata": {},
   "source": [
    "<h3> <a id=\"repeat-pandas\">Repeating using pandas</a></h3>"
   ]
  },
  {
   "cell_type": "markdown",
   "metadata": {},
   "source": [
    "<h3> <a id=\"basic-instrument\">Basic Instrument Control</a></h3> "
   ]
  },
  {
   "cell_type": "code",
   "execution_count": null,
   "metadata": {
    "collapsed": true
   },
   "outputs": [],
   "source": []
  }
 ],
 "metadata": {
  "kernelspec": {
   "display_name": "Python 2",
   "language": "python",
   "name": "python2"
  },
  "language_info": {
   "codemirror_mode": {
    "name": "ipython",
    "version": 2
   },
   "file_extension": ".py",
   "mimetype": "text/x-python",
   "name": "python",
   "nbconvert_exporter": "python",
   "pygments_lexer": "ipython2",
   "version": "2.7.11"
  }
 },
 "nbformat": 4,
 "nbformat_minor": 0
}
