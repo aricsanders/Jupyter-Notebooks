{
 "cells": [
  {
   "cell_type": "markdown",
   "metadata": {},
   "source": [
    "# DataTable Transformation Graph Example"
   ]
  },
  {
   "cell_type": "code",
   "execution_count": 19,
   "metadata": {
    "collapsed": false
   },
   "outputs": [],
   "source": [
    "from pyMez.Code.DataHandlers.Translations import *\n",
    "from pyMez.Code.DataHandlers.GraphModels import *\n",
    "from ipywidgets import *\n",
    "import h5py"
   ]
  },
  {
   "cell_type": "code",
   "execution_count": 42,
   "metadata": {
    "collapsed": false
   },
   "outputs": [],
   "source": [
    "options={}\n",
    "options[\"data\"]=[[1,2,3],[4,5,6]]\n",
    "options[\"column_names\"]=['a','b','c']\n",
    "options[\"header\"]=[\"The First Line\"]\n",
    "table=AsciiDataTable(None,**options)\n",
    "#table=OnePortCalrepModel(os.path.join(TESTS_DIRECTORY,'700437.asc'))\n",
    "table=TwoPortRawModel(os.path.join(TESTS_DIRECTORY,'TestFileTwoPortRaw.txt'))\n",
    "#table=SNP(os.path.join(TESTS_DIRECTORY,'Solution_0.s4p'))\n",
    "data_frame=AsciiDataTable_to_DataFrameDictionary(table)\n",
    "\n",
    "data_frame=AsciiDataTable_to_DataFrameDictionary(TwoPortRawModel(os.path.join(TESTS_DIRECTORY,'TestFileTwoPortRaw.txt')))"
   ]
  },
  {
   "cell_type": "code",
   "execution_count": 84,
   "metadata": {
    "collapsed": false
   },
   "outputs": [],
   "source": [
    "graph_options={\"graph_name\":\"Data Table Graph\",\n",
    "                  \"node_names\":['DataFrameDictionary','AsciiDataTable'],\n",
    "                  \"node_descriptions\":[\"Pandas Data Frame Dictionary\",\"AsciiDataTable\"],\n",
    "                  \"current_node\":'DataFrameDictionary',\n",
    "                  \"state\":[1,0],\n",
    "                  \"data\":data_frame,\n",
    "                  \"edge_2_to_1\":AsciiDataTable_to_DataFrameDictionary,\n",
    "                  \"edge_1_to_2\":DataFrameDictionary_to_AsciiDataTable\n",
    "                 }\n",
    "data_table_graph=Graph(**graph_options)"
   ]
  },
  {
   "cell_type": "code",
   "execution_count": 80,
   "metadata": {
    "collapsed": false
   },
   "outputs": [
    {
     "data": {
      "image/png": "[encoded data removed]",
      "text/plain": [
       "<matplotlib.figure.Figure at 0x11150a20>"
      ]
     },
     "metadata": {},
     "output_type": "display_data"
    },
    {
     "data": {
      "text/plain": [
       "<matplotlib.figure.Figure at 0x10bfc550>"
      ]
     },
     "execution_count": 80,
     "metadata": {},
     "output_type": "execute_result"
    },
    {
     "data": {
      "text/plain": [
       "<matplotlib.figure.Figure at 0x10bfc550>"
      ]
     },
     "metadata": {},
     "output_type": "display_data"
    }
   ],
   "source": [
    "data_table_graph.show()"
   ]
  },
  {
   "cell_type": "code",
   "execution_count": 25,
   "metadata": {
    "collapsed": false
   },
   "outputs": [
    {
     "name": "stdout",
     "output_type": "stream",
     "text": [
      "{'Header':                                   Header_Line_Content\n",
      "0                                        HP8510      \n",
      "1                                                  L \n",
      "2                                                    \n",
      "3                                             N      \n",
      "4                                     2-port         \n",
      "5                                      9 Sep 2015    \n",
      "6                                          10:31:55  \n",
      "7                                          MEASLP    \n",
      "8                                          150122    \n",
      "9                                          BFR       \n",
      "10                                    c050211.a2     \n",
      "11                                                   \n",
      "12                                                  1\n",
      "13                                                  3\n",
      "14                                                  1\n",
      "15                                                  4\n",
      "16                                                 53\n",
      "17                                                  7\n",
      "18  CHECK STANDARD 20 dB ATTEN                    ...\n",
      "19                               CTN208              , 'Data':      Frequency  Direction  Connect   magS11   argS11    magS21   argS21  \\\n",
      "0         0.10          1        1  0.01540  169.133  0.103906   -7.217   \n",
      "1         0.10          1        2  0.01540  169.077  0.103901   -7.214   \n",
      "2         0.10          1        3  0.01543  169.124  0.103912   -7.215   \n",
      "3         0.15          1        1  0.01481  168.127  0.103891  -10.792   \n",
      "4         0.15          1        2  0.01481  168.035  0.103883  -10.792   \n",
      "5         0.15          1        3  0.01484  168.094  0.103890  -10.792   \n",
      "6         0.20          1        1  0.01498  160.938  0.103875  -14.363   \n",
      "7         0.20          1        2  0.01499  160.904  0.103865  -14.364   \n",
      "8         0.20          1        3  0.01502  160.978  0.103872  -14.364   \n",
      "9         0.25          1        1  0.01483  158.350  0.103839  -17.919   \n",
      "10        0.25          1        2  0.01484  158.334  0.103831  -17.916   \n",
      "11        0.25          1        3  0.01487  158.418  0.103836  -17.918   \n",
      "12        0.30          1        1  0.01507  153.285  0.103837  -21.487   \n",
      "13        0.30          1        2  0.01508  153.323  0.103830  -21.487   \n",
      "14        0.30          1        3  0.01512  153.404  0.103837  -21.489   \n",
      "15        0.35          1        1  0.01517  149.579  0.103825  -25.053   \n",
      "16        0.35          1        2  0.01518  149.693  0.103816  -25.053   \n",
      "17        0.35          1        3  0.01521  149.789  0.103823  -25.056   \n",
      "18        0.40          1        1  0.01536  145.764  0.103808  -28.618   \n",
      "19        0.40          1        2  0.01535  145.919  0.103794  -28.616   \n",
      "20        0.40          1        3  0.01538  146.020  0.103804  -28.619   \n",
      "21        0.45          1        1  0.01541  141.848  0.103791  -32.176   \n",
      "22        0.45          1        2  0.01538  142.023  0.103783  -32.175   \n",
      "23        0.45          1        3  0.01541  142.132  0.103789  -32.179   \n",
      "24        0.50          1        1  0.01575  137.681  0.103780  -35.734   \n",
      "25        0.50          1        2  0.01569  137.846  0.103771  -35.735   \n",
      "26        0.50          1        3  0.01572  137.972  0.103778  -35.738   \n",
      "27        0.55          1        1  0.01588  134.263  0.103767  -39.296   \n",
      "28        0.55          1        2  0.01579  134.377  0.103761  -39.296   \n",
      "29        0.55          1        3  0.01583  134.503  0.103765  -39.300   \n",
      "..         ...        ...      ...      ...      ...       ...      ...   \n",
      "129      13.50          1        1  0.01055  173.776  0.102567  108.694   \n",
      "130      13.50          1        2  0.01104  176.999  0.102606  108.470   \n",
      "131      13.50          1        3  0.01096  176.329  0.102591  108.049   \n",
      "132      14.00          1        1  0.01182   41.131  0.102351   71.714   \n",
      "133      14.00          1        2  0.01249   30.811  0.102386   71.505   \n",
      "134      14.00          1        3  0.01270   27.661  0.102363   71.074   \n",
      "135      14.50          1        1  0.02984    5.952  0.102028   34.689   \n",
      "136      14.50          1        2  0.02858    2.667  0.102073   34.460   \n",
      "137      14.50          1        3  0.02831    1.204  0.102064   34.018   \n",
      "138      15.00          1        1  0.04484  -11.643  0.101760   -2.360   \n",
      "139      15.00          1        2  0.04517  -13.263  0.101799   -2.581   \n",
      "140      15.00          1        3  0.04451  -14.979  0.101792   -3.041   \n",
      "141      15.50          1        1  0.05667  -26.867  0.101636  -39.528   \n",
      "142      15.50          1        2  0.05633  -27.611  0.101680  -39.734   \n",
      "143      15.50          1        3  0.05643  -26.894  0.101666  -40.172   \n",
      "144      16.00          1        1  0.06235  -38.484  0.101513  -76.761   \n",
      "145      16.00          1        2  0.06418  -38.052  0.101561  -76.979   \n",
      "146      16.00          1        3  0.06614  -38.730  0.101552  -77.446   \n",
      "147      16.50          1        1  0.06523  -46.787  0.101454 -114.037   \n",
      "148      16.50          1        2  0.06593  -48.873  0.101526 -114.248   \n",
      "149      16.50          1        3  0.06652  -49.988  0.101527 -114.712   \n",
      "150      17.00          1        1  0.06519  -53.821  0.101431 -151.386   \n",
      "151      17.00          1        2  0.06489  -54.288  0.101514 -151.602   \n",
      "152      17.00          1        3  0.06514  -56.873  0.101547 -152.066   \n",
      "153      17.50          1        1  0.06375  -59.662  0.101523  171.246   \n",
      "154      17.50          1        2  0.06346  -62.110  0.101591  171.018   \n",
      "155      17.50          1        3  0.06077  -64.789  0.101609  170.515   \n",
      "156      18.00          1        1  0.06290  -64.162  0.101663  133.885   \n",
      "157      18.00          1        2  0.06094  -63.067  0.101753  133.700   \n",
      "158      18.00          1        3  0.05910  -61.947  0.101765  133.245   \n",
      "\n",
      "      magS22   argS22  \n",
      "0    0.00485  154.908  \n",
      "1    0.00485  155.141  \n",
      "2    0.00484  155.075  \n",
      "3    0.00478  134.684  \n",
      "4    0.00477  134.945  \n",
      "5    0.00477  134.925  \n",
      "6    0.00521  125.588  \n",
      "7    0.00520  125.781  \n",
      "8    0.00520  125.735  \n",
      "9    0.00557  118.262  \n",
      "10   0.00556  118.475  \n",
      "11   0.00556  118.471  \n",
      "12   0.00621  109.372  \n",
      "13   0.00620  109.614  \n",
      "14   0.00620  109.557  \n",
      "15   0.00687  102.455  \n",
      "16   0.00686  102.678  \n",
      "17   0.00685  102.649  \n",
      "18   0.00745   96.290  \n",
      "19   0.00744   96.505  \n",
      "20   0.00743   96.442  \n",
      "21   0.00812   90.733  \n",
      "22   0.00810   90.964  \n",
      "23   0.00810   90.914  \n",
      "24   0.00869   86.352  \n",
      "25   0.00867   86.598  \n",
      "26   0.00866   86.515  \n",
      "27   0.00935   81.012  \n",
      "28   0.00931   81.257  \n",
      "29   0.00931   81.163  \n",
      "..       ...      ...  \n",
      "129  0.03985   70.838  \n",
      "130  0.03957   71.116  \n",
      "131  0.03982   71.212  \n",
      "132  0.05068   29.685  \n",
      "133  0.05037   29.942  \n",
      "134  0.05052   30.169  \n",
      "135  0.06378   -6.738  \n",
      "136  0.06356   -6.606  \n",
      "137  0.06359   -6.408  \n",
      "138  0.07708  -36.187  \n",
      "139  0.07664  -36.008  \n",
      "140  0.07645  -35.952  \n",
      "141  0.08405  -64.904  \n",
      "142  0.08364  -64.687  \n",
      "143  0.08357  -64.770  \n",
      "144  0.08897  -93.983  \n",
      "145  0.08824  -93.715  \n",
      "146  0.08818  -93.800  \n",
      "147  0.09509 -121.541  \n",
      "148  0.09425 -121.315  \n",
      "149  0.09419 -121.413  \n",
      "150  0.09788 -146.594  \n",
      "151  0.09695 -146.506  \n",
      "152  0.09686 -146.720  \n",
      "153  0.10108 -170.504  \n",
      "154  0.10013 -170.285  \n",
      "155  0.10012 -170.468  \n",
      "156  0.10061  167.848  \n",
      "157  0.09941  167.886  \n",
      "158  0.09949  167.583  \n",
      "\n",
      "[159 rows x 9 columns], 'Metadata':                       Property                       Value\n",
      "0   Connector_Type_Calibration                            \n",
      "1              Number_Connects                           3\n",
      "2   Connector_Type_Measurement                           N\n",
      "3               Number_Repeats                           1\n",
      "4                     Operator                         BFR\n",
      "5           Number_Frequencies                          53\n",
      "6              Start_Frequency                           7\n",
      "7             Measurement_Date                  9 Sep 2015\n",
      "8                 Program_Used                      MEASLP\n",
      "9             Measurement_Type                      2-port\n",
      "10                   System_Id                      HP8510\n",
      "11                         Nbs                           4\n",
      "12                   Device_Id                      CTN208\n",
      "13            Measurement_Time                    10:31:55\n",
      "14            Program_Revision                      150122\n",
      "15                   Port_Used                           1\n",
      "16            Calibration_Date                            \n",
      "17          Device_Description  CHECK STANDARD 20 dB ATTEN\n",
      "18            Calibration_Name                  c050211.a2\n",
      "19               System_Letter                           L}\n",
      "!HP8510      \n",
      "!L \n",
      "!          \n",
      "!N      \n",
      "!2-port         \n",
      "! 9 Sep 2015    \n",
      "!10:31:55  \n",
      "!MEASLP    \n",
      "!150122    \n",
      "!BFR       \n",
      "!c050211.a2     \n",
      "!               \n",
      "! 1\n",
      "! 3\n",
      "! 1\n",
      "!  4\n",
      "!  53\n",
      "!  7\n",
      "!CHECK STANDARD 20 dB ATTEN                                  \n",
      "!CTN208              \n",
      "!Frequency,Direction,Connect,magS11,argS11,magS21,argS21,magS22,argS22\n",
      "0.1  1  1  0.0154  169.133  0.103905610881  -7.217  0.00485  154.908\n",
      "0.1  1  2  0.0154  169.077  0.103900586721  -7.214  0.00485  155.141\n",
      "0.1  1  3  0.01543  169.124  0.103912190506  -7.215  0.00484  155.075\n",
      "0.15  1  1  0.01481  168.127  0.103890658737  -10.792  0.00478  134.684\n",
      "0.15  1  2  0.01481  168.035  0.103882525675  -10.792  0.00477  134.945\n",
      "0.15  1  3  0.01484  168.094  0.103889941089  -10.792  0.00477  134.925\n",
      "0.2  1  1  0.01498  160.938  0.103875349972  -14.363  0.00521  125.588\n",
      "0.2  1  2  0.01499  160.904  0.103865185242  -14.364  0.0052  125.781\n",
      "0.2  1  3  0.01502  160.978  0.103871762307  -14.364  0.0052  125.735\n",
      "0.25  1  1  0.01483  158.35  0.103839478892  -17.919  0.00557  118.262\n",
      "0.25  1  2  0.01484  158.334  0.103831469377  -17.916  0.00556  118.475\n",
      "0.25  1  3  0.01487  158.418  0.103835892466  -17.918  0.00556  118.471\n",
      "0.3  1  1  0.01507  153.285  0.103836848834  -21.487  0.00621  109.372\n",
      "0.3  1  2  0.01508  153.323  0.103830034902  -21.487  0.0062  109.614\n",
      "0.3  1  3  0.01512  153.404  0.103836968381  -21.489  0.0062  109.557\n",
      "0.35  1  1  0.01517  149.579  0.103825372996  -25.053  0.00687  102.455\n",
      "0.35  1  2  0.01518  149.693  0.103816049811  -25.053  0.00686  102.678\n",
      "0.35  1  3  0.01521  149.789  0.103822982356  -25.056  0.00685  102.649\n",
      "0.4  1  1  0.01536  145.764  0.103807922589  -28.618  0.00745  96.29\n",
      "0.4  1  2  0.01535  145.919  0.103793701482  -28.616  0.00744  96.505\n",
      "0.4  1  3  0.01538  146.02  0.103804456762  -28.619  0.00743  96.442\n",
      "0.45  1  1  0.01541  141.848  0.103791072583  -32.176  0.00812  90.733\n",
      "0.45  1  2  0.01538  142.023  0.103782588864  -32.175  0.0081  90.964\n",
      "0.45  1  3  0.01541  142.132  0.103789160699  -32.179  0.0081  90.914\n",
      "0.5  1  1  0.01575  137.681  0.103780199209  -35.734  0.00869  86.352\n",
      "0.5  1  2  0.01569  137.846  0.103770521669  -35.735  0.00867  86.598\n",
      "0.5  1  3  0.01572  137.972  0.103777809609  -35.738  0.00866  86.515\n",
      "0.55  1  1  0.01588  134.263  0.10376741549  -39.296  0.00935  81.012\n",
      "0.55  1  2  0.01579  134.377  0.103761322869  -39.296  0.00931  81.257\n",
      "0.55  1  3  0.01583  134.503  0.10376454833  -39.3  0.00931  81.163\n",
      "0.6  1  1  0.01612  130.095  0.103755350059  -42.856  0.00995  76.857\n",
      "0.6  1  2  0.01603  130.136  0.103749138702  -42.856  0.00991  77.026\n",
      "0.6  1  3  0.01606  130.265  0.103750213718  -42.861  0.0099  76.963\n",
      "0.65  1  1  0.01635  127.111  0.103746033162  -46.406  0.01047  72.336\n",
      "0.65  1  2  0.01624  127.061  0.103738389154  -46.406  0.01043  72.505\n",
      "0.65  1  3  0.01627  127.194  0.103741852775  -46.395  0.01043  72.385\n",
      "0.7  1  1  0.01659  123.319  0.103729432048  -49.962  0.01118  68.649\n",
      "0.7  1  2  0.01648  123.155  0.103729193202  -49.942  0.01113  68.8\n",
      "0.7  1  3  0.01651  123.276  0.103722625165  -49.951  0.01113  68.704\n",
      "0.75  1  1  0.01689  119.735  0.103718565131  -53.502  0.01167  64.889\n",
      "0.75  1  2  0.0168  119.493  0.10370447566  -53.524  0.01162  65.008\n",
      "0.75  1  3  0.01682  119.625  0.10371116195  -53.491  0.01161  64.887\n",
      "0.8  1  1  0.01726  116.433  0.10369373074  -57.061  0.01227  60.801\n",
      "0.8  1  2  0.01719  116.134  0.103692298168  -57.064  0.01223  60.905\n",
      "0.8  1  3  0.01721  116.243  0.103693491976  -57.086  0.01223  60.779\n",
      "0.85  1  1  0.01737  113.299  0.103676063735  -60.616  0.01277  57.283\n",
      "0.85  1  2  0.01733  112.988  0.103669021647  -60.619  0.01272  57.373\n",
      "0.85  1  3  0.01735  113.09  0.103672960383  -60.624  0.01273  57.264\n",
      "0.9  1  1  0.01773  109.866  0.103666037856  -64.171  0.01321  53.186\n",
      "0.9  1  2  0.01771  109.588  0.103659354475  -64.172  0.01316  53.287\n",
      "0.9  1  3  0.01774  109.686  0.103661144624  -64.178  0.01318  53.18\n",
      "0.95  1  1  0.01804  106.742  0.103657803037  -67.728  0.01385  49.839\n",
      "0.95  1  2  0.01805  106.521  0.103649807535  -67.731  0.0138  49.937\n",
      "0.95  1  3  0.01808  106.615  0.103652432856  -67.736  0.01382  49.843\n",
      "1.0  1  1  0.01836  103.485  0.103647659595  -71.303  0.0143  46.076\n",
      "1.0  1  2  0.01839  103.349  0.103637636462  -71.305  0.01425  46.186\n",
      "1.0  1  3  0.01843  103.463  0.103640977399  -71.297  0.01428  46.097\n",
      "1.5  1  1  0.02102  73.872  0.10350778141  -106.84  0.01956  9.693\n",
      "1.5  1  2  0.02085  73.457  0.103503729786  -106.844  0.01947  9.834\n",
      "1.5  1  3  0.02084  73.547  0.103504087276  -106.856  0.01947  9.891\n",
      "2.0  1  1  0.02315  46.25  0.103355954006  -142.398  0.02483  -21.17\n",
      "2.0  1  2  0.02316  46.291  0.103350480476  -142.39  0.02474  -21.092\n",
      "2.0  1  3  0.02315  46.414  0.103351551361  -142.422  0.02471  -21.129\n",
      "2.5  1  1  0.0245  22.178  0.103229304186  -177.917  0.02788  -49.606\n",
      "2.5  1  2  0.02457  21.215  0.103227283804  -177.941  0.02775  -49.535\n",
      "2.5  1  3  0.02457  21.174  0.10322288664  -177.961  0.02772  -49.699\n",
      "3.0  1  1  0.02349  0.37  0.103150657361  146.51  0.02778  -81.146\n",
      "3.0  1  2  0.02328  -0.161  0.103148519765  146.496  0.02766  -81.0\n",
      "3.0  1  3  0.02324  -0.121  0.103147213478  146.464  0.02771  -81.153\n",
      "3.5  1  1  0.02157  -22.471  0.103102572156  110.974  0.02666  -113.076\n",
      "3.5  1  2  0.0219  -23.077  0.103104946208  110.942  0.02647  -112.912\n",
      "3.5  1  3  0.02193  -23.122  0.103103640473  110.908  0.0265  -113.012\n",
      "4.0  1  1  0.01823  -43.24  0.103105777139  75.413  0.02586  -143.72\n",
      "4.0  1  2  0.01819  -44.075  0.103113611961  75.38  0.02564  -143.531\n",
      "4.0  1  3  0.01815  -44.263  0.103102334754  75.333  0.02568  -143.633\n",
      "4.5  1  1  0.0134  -66.661  0.103112543541  39.747  0.02197  -170.982\n",
      "4.5  1  2  0.01387  -64.865  0.103110288024  39.732  0.02171  -170.765\n",
      "4.5  1  3  0.01392  -64.88  0.103114561677  39.649  0.02179  -170.971\n",
      "5.0  1  1  0.00848  -101.959  0.103140919781  4.102  0.01668  157.427\n",
      "5.0  1  2  0.00906  -104.174  0.103141513509  4.066  0.01636  157.696\n",
      "5.0  1  3  0.0092  -104.932  0.103134270254  3.99  0.0165  157.65\n",
      "5.5  1  1  0.0052  170.764  0.103181063527  -31.58  0.00971  119.802\n",
      "5.5  1  2  0.00479  170.814  0.10318427095  -31.597  0.00939  119.517\n",
      "5.5  1  3  0.00482  171.704  0.103177618628  -31.665  0.00958  120.02\n",
      "6.0  1  1  0.01225  101.966  0.103254146224  -67.351  0.00348  71.304\n",
      "6.0  1  2  0.01239  102.57  0.103256642645  -67.41  0.00314  68.528\n",
      "6.0  1  3  0.01233  103.369  0.103252838599  -67.49  0.00315  72.248\n",
      "6.5  1  1  0.02289  73.358  0.103289696185  -103.142  0.0043  -93.265\n",
      "6.5  1  2  0.02338  70.587  0.103296236809  -103.211  0.00467  -93.688\n",
      "6.5  1  3  0.02335  70.584  0.103289458352  -103.326  0.00456  -95.318\n",
      "7.0  1  1  0.03515  50.911  0.103303848237  -139.013  0.01328  -145.814\n",
      "7.0  1  2  0.03482  49.572  0.103310151876  -139.082  0.01365  -145.565\n",
      "7.0  1  3  0.03463  49.579  0.103309557177  -139.193  0.01367  -146.377\n",
      "7.5  1  1  0.04777  32.346  0.103271979123  -174.933  0.02323  -171.123\n",
      "7.5  1  2  0.04781  30.884  0.103273405888  -175.037  0.02359  -170.969\n",
      "7.5  1  3  0.04765  30.987  0.103271860227  -175.144  0.02362  -171.443\n",
      "8.0  1  1  0.06082  13.309  0.103233939328  149.074  0.02915  159.31\n",
      "8.0  1  2  0.05998  12.552  0.10324047642  148.963  0.02955  159.371\n",
      "8.0  1  3  0.0597  12.545  0.103221460573  148.852  0.02971  159.029\n",
      "8.5  1  1  0.07242  -5.957  0.103153863838  113.075  0.03276  122.813\n",
      "8.5  1  2  0.07292  -5.9  0.103156714124  112.924  0.03316  122.933\n",
      "8.5  1  3  0.07267  -5.867  0.103148757273  112.757  0.03335  122.862\n",
      "9.0  1  1  0.08152  -23.353  0.103071951788  76.987  0.03948  89.311\n",
      "9.0  1  2  0.08245  -24.828  0.103078597297  76.836  0.03998  89.462\n",
      "9.0  1  3  0.08226  -25.013  0.103063645505  76.64  0.04011  89.61\n",
      "9.5  1  1  0.08692  -40.412  0.102977892618  40.871  0.04174  57.408\n",
      "9.5  1  2  0.08721  -41.605  0.102995084916  40.682  0.04223  57.637\n",
      "9.5  1  3  0.08695  -41.806  0.102991527654  40.467  0.04219  57.783\n",
      "10.0  1  1  0.0891  -56.621  0.102894580288  4.658  0.0417  27.607\n",
      "10.0  1  2  0.08933  -59.176  0.102900740484  4.459  0.04227  27.972\n",
      "10.0  1  3  0.08903  -59.655  0.102896475694  4.166  0.04217  28.091\n",
      "10.5  1  1  0.08774  -72.924  0.102824474817  -31.617  0.03948  -7.695\n",
      "10.5  1  2  0.08654  -74.004  0.102842825518  -31.782  0.03985  -7.253\n",
      "10.5  1  3  0.08601  -74.326  0.102836195209  -32.095  0.03963  -7.266\n",
      "11.0  1  1  0.08331  -88.506  0.10279772418  -67.942  0.03588  -43.82\n",
      "11.0  1  2  0.0838  -88.772  0.102807429359  -68.119  0.0364  -43.092\n",
      "11.0  1  3  0.08351  -89.011  0.102790150043  -68.402  0.03622  -43.212\n",
      "11.5  1  1  0.07565  -103.476  0.102816898709  -104.354  0.03138  -82.025\n",
      "11.5  1  2  0.07439  -105.365  0.102837971143  -104.586  0.03165  -80.993\n",
      "11.5  1  3  0.07385  -105.953  0.102832525044  -104.955  0.03138  -81.47\n",
      "12.0  1  1  0.06278  -119.333  0.10280754772  -140.928  0.02473  -132.102\n",
      "12.0  1  2  0.06324  -118.705  0.10283335378  -141.15  0.02483  -130.714\n",
      "12.0  1  3  0.06313  -118.975  0.102812992497  -141.501  0.0249  -131.678\n",
      "12.5  1  1  0.04592  -135.385  0.102776778319  -177.616  0.02421  170.182\n",
      "12.5  1  2  0.04803  -139.255  0.102794173734  -177.806  0.02399  171.216\n",
      "12.5  1  3  0.0485  -140.79  0.102756309936  -178.148  0.02429  170.732\n",
      "13.0  1  1  0.02882  -151.881  0.102695638634  145.603  0.03222  112.966\n",
      "13.0  1  2  0.02693  -154.218  0.10273206077  145.42  0.03189  113.597\n",
      "13.0  1  3  0.02622  -156.798  0.102724964536  145.027  0.03215  113.727\n",
      "13.5  1  1  0.01055  173.776  0.102566963879  108.694  0.03985  70.838\n",
      "13.5  1  2  0.01104  176.999  0.102605821064  108.47  0.03957  71.116\n",
      "13.5  1  3  0.01096  176.329  0.102591174075  108.049  0.03982  71.212\n",
      "14.0  1  1  0.01182  41.131  0.102350743069  71.714  0.05068  29.685\n",
      "14.0  1  2  0.01249  30.811  0.102386099869  71.505  0.05037  29.942\n",
      "14.0  1  3  0.0127  27.661  0.10236335226  71.074  0.05052  30.169\n",
      "14.5  1  1  0.02984  5.952  0.102028499577  34.689  0.06378  -6.738\n",
      "14.5  1  2  0.02858  2.667  0.102072910878  34.46  0.06356  -6.606\n",
      "14.5  1  3  0.02831  1.204  0.102063862564  34.018  0.06359  -6.408\n",
      "15.0  1  1  0.04484  -11.643  0.101759742655  -2.36  0.07708  -36.187\n",
      "15.0  1  2  0.04517  -13.263  0.101799466031  -2.581  0.07664  -36.008\n",
      "15.0  1  3  0.04451  -14.979  0.101791613869  -3.041  0.07645  -35.952\n",
      "15.5  1  1  0.05667  -26.867  0.101636335929  -39.528  0.08405  -64.904\n",
      "15.5  1  2  0.05633  -27.611  0.101679991209  -39.734  0.08364  -64.687\n",
      "15.5  1  3  0.05643  -26.894  0.101666061617  -40.172  0.08357  -64.77\n",
      "16.0  1  1  0.06235  -38.484  0.101513429476  -76.761  0.08897  -93.983\n",
      "16.0  1  2  0.06418  -38.052  0.101561007386  -76.979  0.08824  -93.715\n",
      "16.0  1  3  0.06614  -38.73  0.101551770618  -77.446  0.08818  -93.8\n",
      "16.5  1  1  0.06523  -46.787  0.101454192838  -114.037  0.09509  -121.541\n",
      "16.5  1  2  0.06593  -48.873  0.1015260524  -114.248  0.09425  -121.315\n",
      "16.5  1  3  0.06652  -49.988  0.101527221268  -114.712  0.09419  -121.413\n",
      "17.0  1  1  0.06519  -53.821  0.101431068389  -151.386  0.09788  -146.594\n",
      "17.0  1  2  0.06489  -54.288  0.101514481327  -151.602  0.09695  -146.506\n",
      "17.0  1  3  0.06514  -56.873  0.101546860273  -152.066  0.09686  -146.72\n",
      "17.5  1  1  0.06375  -59.662  0.101523480936  171.246  0.10108  -170.504\n",
      "17.5  1  2  0.06346  -62.11  0.101591178886  171.018  0.10013  -170.285\n",
      "17.5  1  3  0.06077  -64.789  0.101608841557  170.515  0.10012  -170.468\n",
      "18.0  1  1  0.0629  -64.162  0.101663369563  133.885  0.10061  167.848\n",
      "18.0  1  2  0.06094  -63.067  0.101752830731  133.7  0.09941  167.886\n",
      "18.0  1  3  0.0591  -61.947  0.101765483424  133.245  0.09949  167.583\n"
     ]
    }
   ],
   "source": [
    "print(data_table_graph.data)\n",
    "data_table_graph.move_to_node(\"AsciiDataTable\")\n",
    "print(data_table_graph.data)"
   ]
  },
  {
   "cell_type": "code",
   "execution_count": 73,
   "metadata": {
    "collapsed": true
   },
   "outputs": [],
   "source": [
    "def DataFrameDictionary_to_AsciiDataTable(DataFrame_dict,**options):\n",
    "    \"\"\"Given a dictionary of pandas DataFrames returns an AsciiDataTable\"\"\"\n",
    "    defaults={\"comment_begin\":\"!\",\"comment_end\":\"\\n\",\n",
    "             \"column_names_begin_token\":\"!\",\"column_names_end_token\":\"\\n\",\n",
    "              \"data_delimiter\":\"  \",\"data_table_element_separator\":None}\n",
    "    #defaults={}\n",
    "    table_options={}\n",
    "    for key,value in defaults.iteritems():\n",
    "        table_options[key]=value\n",
    "    for key,value in options.iteritems():\n",
    "        table_options[key]=value\n",
    "    keys=DataFrame_dict.keys()\n",
    "    for key in keys:\n",
    "        table_key=key\n",
    "        if re.search(\"comments\",key,re.IGNORECASE):\n",
    "            table_key=\"inline_comments\"\n",
    "            table_options[table_key]=DataFrame_dict[key].as_matrix().tolist()\n",
    "            \n",
    "        elif key in [\"data\",\"Data\"]:\n",
    "            table_options[\"column_names\"]=DataFrame_dict[key].columns.tolist()\n",
    "            table_options[\"column_types\"]=map(lambda x: str(x),DataFrame_dict[key].dtypes.tolist())\n",
    "            table_options[\"data\"]=DataFrame_dict[key].as_matrix().tolist()\n",
    "            \n",
    "        elif re.search(\"footer\",key,re.IGNORECASE):\n",
    "            list_of_lists=DataFrame_dict[key].as_matrix().tolist()\n",
    "            list_of_strings=[str(row[0]) for row in list_of_lists]\n",
    "            table_options[\"footer\"]=list_of_strings\n",
    "            \n",
    "        elif re.search(\"header\",key,re.IGNORECASE):\n",
    "            table_options[\"treat_header_as_comment\"]=True\n",
    "            list_of_lists=DataFrame_dict[key].as_matrix().tolist()\n",
    "            list_of_strings=[str(row[0]) for row in list_of_lists]\n",
    "            #print(\"{0} is {1}\".format(\"list_of_lists\",list_of_lists))\n",
    "            table_options[\"header\"]=list_of_strings\n",
    "            \n",
    "        elif re.search(\"meta\",key,re.IGNORECASE):\n",
    "            list_of_lists=DataFrame_dict[key].as_matrix().tolist()\n",
    "            dictionary={str(row[0]):str(row[1]) for row in list_of_lists}\n",
    "            table_options[\"metadata\"]=dictionary            \n",
    "\n",
    "    new_table=AsciiDataTable(None,**table_options)\n",
    "    return new_table\n",
    "\n",
    "def DataFrameDictionary_to_ExcelFile(DataFrameDictionary,excel_file_name=\"Test.xlsx\"):\n",
    "    \"\"\"Converts a dictionary of pandas DataFrames to a single excel file with sheet names\n",
    "    determined by keys\"\"\"\n",
    "    # sort the keys so that they will display in the same order\n",
    "    writer = pandas.ExcelWriter(excel_file_name)\n",
    "    keys=sorted(DataFrameDictionary.keys())\n",
    "    for key in keys:\n",
    "        #print key\n",
    "        DataFrameDictionary[key].to_excel(writer,sheet_name=key,index=False)\n",
    "        #print(\"Writing {0}\".format(key))\n",
    "        \n",
    "    writer.close()\n",
    "    return excel_file_name\n",
    "\n",
    "def DataFrameDictionary_to_HdfFile(DataFrame_dict,hdf_file_name=\"Test.hd5\"):\n",
    "    \"\"\"Transforms a dictionary of pandas.DataFrames to a single HD5 file with groups determined by the keys\"\"\"\n",
    "    keys=sorted(DataFrame_dict.keys())\n",
    "    for key in keys:\n",
    "        DataFrame_dict[key].to_hdf(hdf_file_name,key)\n",
    "    print(\"{0} is {1}\".format('key',key))\n",
    "    return hdf_file_name\n",
    "\n",
    "def HdfFile_to_DataFrameDictionary(hdf_file_name):\n",
    "    \"\"\"Creates a dictionary of pandas.DataFrames given a hd5 file name, does this require the table names?\n",
    "    \"\"\"\n",
    "    hdf=h5py.File(hdf_file_name)\n",
    "    keys=hdf.keys()\n",
    "    pandas_dictionary={key:pandas.read_hdf(hdf_file_name,key) for key in keys}\n",
    "    return pandas_dictionary\n",
    "\n",
    "def AsciiDataTable_to_CsvFile(ascii_data_table,file_name=\"test.csv\",schema_file_name=\"schema_csv\"):\n",
    "    \"\"\"Converts an AsciiDataTable into an csv file by setting options and saving\"\"\"\n",
    "    original_options=ascii_data_table.options.copy()\n",
    "    ascii_data_table.options[\"column_names_begin_token\"]=\"\"\n",
    "    ascii_data_table.options[\"column_names_end_token\"]=\"\\n\"\n",
    "    ascii_data_table.options[\"data_table_element_separator\"]=None\n",
    "    ascii_data_table.options[\"data_begin_token\"]=None\n",
    "    ascii_data_table.options[\"data_end_token\"]=None\n",
    "    ascii_data_table.options[\"data_delimiter\"]=\",\"\n",
    "    ascii_data_table.options[\"column_names_delimiter\"]=\",\"\n",
    "    if ascii_data_table.header is not None:\n",
    "        ascii_data_table.options[\"comment_begin\"]=\"#\"\n",
    "        ascii_data_table.options[\"comment_end\"]=\"\\n\"\n",
    "        ascii_data_table.options[\"treat_header_as_comment\"]=True\n",
    "    if ascii_data_table.footer is not None:\n",
    "        ascii_data_table.options[\"comment_begin\"]=\"#\"\n",
    "        ascii_data_table.options[\"comment_end\"]=\"\\n\"       \n",
    "        ascii_data_table.options[\"treat_footer_as_comment\"]=True\n",
    "    #ascii_data_table.update_model()\n",
    "    ascii_data_table.save_schema(schema_file_name)\n",
    "    ascii_data_table.save(file_name)\n",
    "    ascii_data_table.options=original_options\n",
    "    return [file_name,schema_file_name]\n",
    "\n",
    "def AsciiDataTable_to_HpFile(ascii_data_table,file_name=\"test.txt\",schema_file_name=\"schema_hp\"):\n",
    "    \"\"\"Converts an AsciiDataTable into an csv file by setting options and saving\"\"\"\n",
    "    original_options=ascii_data_table.options.copy()\n",
    "    ascii_data_table.options[\"column_names_begin_token\"]=\"!\"\n",
    "    ascii_data_table.options[\"column_names_end_token\"]=\"\\n\"\n",
    "    ascii_data_table.options[\"data_table_element_separator\"]=None\n",
    "    ascii_data_table.options[\"data_begin_token\"]=None\n",
    "    ascii_data_table.options[\"data_end_token\"]=None\n",
    "    ascii_data_table.options[\"data_delimiter\"]=\"  \"\n",
    "    ascii_data_table.options[\"column_names_delimiter\"]=\"  \"\n",
    "    if ascii_data_table.header is not None:\n",
    "        ascii_data_table.options[\"comment_begin\"]=\"!\"\n",
    "        ascii_data_table.options[\"comment_end\"]=\"\\n\"\n",
    "        ascii_data_table.options[\"treat_header_as_comment\"]=True\n",
    "    if ascii_data_table.footer is not None:\n",
    "        ascii_data_table.options[\"comment_begin\"]=\"!\"\n",
    "        ascii_data_table.options[\"comment_end\"]=\"\\n\"\n",
    "        #ascii_data_table.options[\"treat_header_as_comment\"]=True\n",
    "        ascii_data_table.options[\"treat_footer_as_comment\"]=True\n",
    "    #ascii_data_table.update_model()\n",
    "    ascii_data_table.save_schema(schema_file_name)\n",
    "    ascii_data_table.save(file_name)\n",
    "    ascii_data_table.options=original_options\n",
    "    return [file_name,schema_file_name]\n",
    "\n",
    "def File_to_AsciiDataTable(paths):\n",
    "    [file_name,schema]=paths\n",
    "    options=read_schema(schema)\n",
    "    table=AsciiDataTable(file_name,**options)\n",
    "    print table\n",
    "    return table\n",
    "    \n",
    "def AsciiDataTable_to_File(ascii_data_table,file_name=\"Test.txt\",schema_file_name=\"schema\"):\n",
    "    paths=[file_name,schema_file_name]\n",
    "    ascii_data_table.save(file_name)\n",
    "    ascii_data_table.save_schema(schema_file_name)\n",
    "    return paths    \n"
   ]
  },
  {
   "cell_type": "code",
   "execution_count": 97,
   "metadata": {
    "collapsed": false
   },
   "outputs": [],
   "source": [
    "graph_options={\"graph_name\":\"Data Table Graph\",\n",
    "                  \"node_names\":['DataFrameDictionary','AsciiDataTable'],\n",
    "                  \"node_descriptions\":[\"Pandas Data Frame Dictionary\",\"AsciiDataTable\"],\n",
    "                  \"current_node\":'DataFrameDictionary',\n",
    "                  \"state\":[1,0],\n",
    "                  \"data\":data_frame,\n",
    "                  \"edge_2_to_1\":AsciiDataTable_to_DataFrameDictionary,\n",
    "                  \"edge_1_to_2\":DataFrameDictionary_to_AsciiDataTable\n",
    "                 }\n",
    "data_table_graph=Graph(**graph_options)\n",
    "data_table_graph.add_node(\"ExcelFile\",\"DataFrameDictionary\",DataFrameDictionary_to_ExcelFile,\n",
    "                    \"DataFrameDictionary\",ExcelFile_to_DataFrameDictionary,node_description=\"Excel Workbook\")\n",
    "data_table_graph.add_node(\"HdfFile\",\"DataFrameDictionary\",DataFrameDictionary_to_HdfFile,\n",
    "                    \"DataFrameDictionary\",HdfFile_to_DataFrameDictionary,node_description=\"HD5 File\")\n",
    "data_table_graph.add_node(\"CsvFile\",\"AsciiDataTable\",AsciiDataTable_to_CsvFile,\n",
    "                    \"AsciiDataTable\",File_to_AsciiDataTable,node_description=\"CSV File\")\n",
    "data_table_graph.add_node(\"HpFile\",\"AsciiDataTable\",AsciiDataTable_to_HpFile,\n",
    "                    \"AsciiDataTable\",File_to_AsciiDataTable,node_description=\"hp format File\")\n",
    "data_table_graph.add_external_node(external_node_name=\"XMLDataTable\",jump_into_node_begin=\"AsciiDataTable\",\n",
    "                                   jump_into_node_function=AsciiDataTable_to_XmlDataTable,\n",
    "                                   external_node_description=\"XMLDataTable\")\n",
    "                                  "
   ]
  },
  {
   "cell_type": "code",
   "execution_count": 103,
   "metadata": {
    "collapsed": false
   },
   "outputs": [
    {
     "data": {
      "image/png": "[encoded data removed]",
      "text/plain": [
       "<matplotlib.figure.Figure at 0x124a1fd0>"
      ]
     },
     "execution_count": 103,
     "metadata": {},
     "output_type": "execute_result"
    },
    {
     "data": {
      "image/png": "[encoded data removed]",
      "text/plain": [
       "<matplotlib.figure.Figure at 0x124a1fd0>"
      ]
     },
     "metadata": {},
     "output_type": "display_data"
    }
   ],
   "source": [
    "data_table_graph.show()"
   ]
  },
  {
   "cell_type": "code",
   "execution_count": 89,
   "metadata": {
    "collapsed": false
   },
   "outputs": [
    {
     "name": "stdout",
     "output_type": "stream",
     "text": [
      "********************************************************************************\n",
      "Excel Workbook [0, 0, 1, 0, 0, 0]\n",
      "********************************************************************************\n"
     ]
    },
    {
     "data": {
      "image/png": "[encoded data removed]",
      "text/plain": [
       "<matplotlib.figure.Figure at 0x11e42c88>"
      ]
     },
     "metadata": {},
     "output_type": "display_data"
    },
    {
     "name": "stdout",
     "output_type": "stream",
     "text": [
      "Test.xlsx\n"
     ]
    },
    {
     "data": {
      "text/plain": [
       "<matplotlib.figure.Figure at 0x1106e128>"
      ]
     },
     "metadata": {},
     "output_type": "display_data"
    }
   ],
   "source": [
    "%matplotlib inline\n",
    "history=[]\n",
    "def move_and_show(end_node_number):\n",
    "    node=data_table_graph.node_names[end_node_number]\n",
    "    data_table_graph.move_to_node(node)\n",
    "    print(\"*\"*80)\n",
    "    print(\"{0}\".format(data_table_graph.node_descriptions[end_node_number])+\" {0}\".format(data_table_graph.state))\n",
    "    print(\"*\"*80)\n",
    "    data_table_graph.show(descriptions=True)\n",
    "    print data_table_graph.data\n",
    "    history.append(node)\n",
    "    \n",
    "interact(move_and_show,end_node_number=(0,len(data_table_graph.node_names)-1,1))"
   ]
  },
  {
   "cell_type": "code",
   "execution_count": 61,
   "metadata": {
    "collapsed": false,
    "scrolled": true
   },
   "outputs": [
    {
     "name": "stdout",
     "output_type": "stream",
     "text": [
      "Writing Data\n",
      "Writing Header\n",
      "Writing Metadata\n"
     ]
    },
    {
     "data": {
      "text/plain": [
       "'NewExcel.xlsx'"
      ]
     },
     "execution_count": 61,
     "metadata": {},
     "output_type": "execute_result"
    }
   ],
   "source": [
    "DataFrameDictionary_to_ExcelFile(data_frame,excel_file_name=\"NewExcel.xlsx\")"
   ]
  },
  {
   "cell_type": "code",
   "execution_count": 52,
   "metadata": {
    "collapsed": false
   },
   "outputs": [
    {
     "data": {
      "text/plain": [
       "['Header', 'Data', 'Metadata']"
      ]
     },
     "execution_count": 52,
     "metadata": {},
     "output_type": "execute_result"
    }
   ],
   "source": [
    "data_frame.keys()"
   ]
  },
  {
   "cell_type": "code",
   "execution_count": 66,
   "metadata": {
    "collapsed": false
   },
   "outputs": [
    {
     "data": {
      "text/plain": [
       "'Converts a dictionary of pandas DataFrames to a single excel file with sheet names\\n    determined by keys'"
      ]
     },
     "execution_count": 66,
     "metadata": {},
     "output_type": "execute_result"
    }
   ],
   "source": [
    "DataFrameDictionary_to_ExcelFile.__doc__"
   ]
  },
  {
   "cell_type": "code",
   "execution_count": 90,
   "metadata": {
    "collapsed": true
   },
   "outputs": [],
   "source": [
    "data_table_graph.move_to_node(\"AsciiDataTable\")\n",
    "xml=AsciiDataTable_to_XmlDataTable(data_table_graph.data)"
   ]
  },
  {
   "cell_type": "code",
   "execution_count": 94,
   "metadata": {
    "collapsed": false
   },
   "outputs": [],
   "source": [
    "html=HTMLBase(None,html_text=xml.to_HTML(os.path.join(TESTS_DIRECTORY,\"../XSL/DEFAULT_MEASUREMENT_STYLE.xsl\")))"
   ]
  },
  {
   "cell_type": "code",
   "execution_count": 95,
   "metadata": {
    "collapsed": false
   },
   "outputs": [
    {
     "name": "stdout",
     "output_type": "stream",
     "text": [
      "file://c:/users/sandersa/appdata/local/temp/1/tmprydvif.html\n"
     ]
    }
   ],
   "source": [
    "html.show()"
   ]
  },
  {
   "cell_type": "code",
   "execution_count": 104,
   "metadata": {
    "collapsed": true
   },
   "outputs": [],
   "source": [
    "class DataTableGraph(Graph):\n",
    "    \"\"\"     Class that transforms a row modelled header and metadata to several different data types\n",
    "        #!python\n",
    "        defaults={\"graph_name\":\"Data Table Graph\",\n",
    "                  \"node_names\":['DataFrameDictionary','AsciiDataTable'],\n",
    "                  \"node_descriptions\":[\"Pandas Data Frame Dictionary\",\"AsciiDataTable\"],\n",
    "                  \"current_node\":'DataFrameDictionary',\n",
    "                  \"state\":[1,0],\n",
    "                  \"data\":AsciiDataTable_to_DataFrameDictionary(TwoPortRawModel(os.path.join(TESTS_DIRECTORY,'TestFileTwoPortRaw.txt'))),\n",
    "                  \"edge_2_to_1\":AsciiDataTable_to_DataFrameDictionary,\n",
    "                  \"edge_1_to_2\":DataFrameDictionary_to_AsciiDataTable\n",
    "                 }\n",
    "        \"\"\"\n",
    "    def __init__(self,**options):\n",
    "\n",
    "        defaults={\"graph_name\":\"Data Table Graph\",\n",
    "                  \"node_names\":['DataFrameDictionary','AsciiDataTable'],\n",
    "                  \"node_descriptions\":[\"Pandas Data Frame Dictionary\",\"AsciiDataTable\"],\n",
    "                  \"current_node\":'DataFrameDictionary',\n",
    "                  \"state\":[1,0],\n",
    "                  \"data\":AsciiDataTable_to_DataFrameDictionary(TwoPortRawModel(os.path.join(TESTS_DIRECTORY,'TestFileTwoPortRaw.txt'))),\n",
    "                  \"edge_2_to_1\":AsciiDataTable_to_DataFrameDictionary,\n",
    "                  \"edge_1_to_2\":DataFrameDictionary_to_AsciiDataTable\n",
    "                 }\n",
    "        graph_options={}\n",
    "        for key,value in defaults.iteritems():\n",
    "            graph_options[key]=value\n",
    "        for key,value in options.iteritems():\n",
    "            graph_options[key]=value\n",
    "        Graph.__init__(self, **graph_options)\n",
    "\n",
    "        self.add_node(\"ExcelFile\", \"DataFrameDictionary\", DataFrameDictionary_to_ExcelFile,\n",
    "                                  \"DataFrameDictionary\", ExcelFile_to_DataFrameDictionary,\n",
    "                                  node_description=\"Excel Workbook\")\n",
    "        self.add_node(\"HdfFile\", \"DataFrameDictionary\", DataFrameDictionary_to_HdfFile,\n",
    "                                  \"DataFrameDictionary\", HdfFile_to_DataFrameDictionary, node_description=\"HD5 File\")\n",
    "        self.add_node(\"CsvFile\", \"AsciiDataTable\", AsciiDataTable_to_CsvFile,\n",
    "                                  \"AsciiDataTable\", File_to_AsciiDataTable, node_description=\"CSV File\")\n",
    "        self.add_node(\"HpFile\", \"AsciiDataTable\", AsciiDataTable_to_HpFile,\n",
    "                                  \"AsciiDataTable\", File_to_AsciiDataTable, node_description=\"hp format File\")\n",
    "        self.add_external_node(external_node_name=\"XMLDataTable\", jump_into_node_begin=\"AsciiDataTable\",\n",
    "                                           jump_into_node_function=AsciiDataTable_to_XmlDataTable,\n",
    "                                           external_node_description=\"XMLDataTable\")\n"
   ]
  },
  {
   "cell_type": "code",
   "execution_count": 105,
   "metadata": {
    "collapsed": true
   },
   "outputs": [],
   "source": [
    "test_graph_2=DataTableGraph()"
   ]
  },
  {
   "cell_type": "code",
   "execution_count": 106,
   "metadata": {
    "collapsed": false
   },
   "outputs": [
    {
     "data": {
      "image/png": "[encoded data removed]",
      "text/plain": [
       "<matplotlib.figure.Figure at 0x124e04e0>"
      ]
     },
     "execution_count": 106,
     "metadata": {},
     "output_type": "execute_result"
    },
    {
     "data": {
      "image/png": "[encoded data removed]",
      "text/plain": [
       "<matplotlib.figure.Figure at 0x124e04e0>"
      ]
     },
     "metadata": {},
     "output_type": "display_data"
    }
   ],
   "source": [
    "test_graph_2.show()"
   ]
  },
  {
   "cell_type": "code",
   "execution_count": 107,
   "metadata": {
    "collapsed": false
   },
   "outputs": [
    {
     "name": "stdout",
     "output_type": "stream",
     "text": [
      "********************************************************************************\n",
      "AsciiDataTable [0, 1, 0, 0, 0, 0]\n",
      "********************************************************************************\n"
     ]
    },
    {
     "data": {
      "image/png": "[encoded data removed]",
      "text/plain": [
       "<matplotlib.figure.Figure at 0x164db9e8>"
      ]
     },
     "metadata": {},
     "output_type": "display_data"
    },
    {
     "name": "stdout",
     "output_type": "stream",
     "text": [
      "!HP8510      \n",
      "!L \n",
      "!N      \n",
      "!2-port         \n",
      "! 9 Sep 2015    \n",
      "!10:31:55  \n",
      "!MEASLP    \n",
      "!150122    \n",
      "!BFR       \n",
      "!c050211.a2     \n",
      "! 1\n",
      "! 3\n",
      "! 1\n",
      "!  4\n",
      "!  53\n",
      "!  7\n",
      "!CHECK STANDARD 20 dB ATTEN                                  \n",
      "!CTN208              \n",
      "!Frequency,Direction,Connect,magS11,argS11,magS21,argS21,magS22,argS22\n",
      "0.1  1  1  0.0154  169.133  0.103905610881  -7.217  0.00485  154.908\n",
      "0.1  1  2  0.0154  169.077  0.103900586721  -7.214  0.00485  155.141\n",
      "0.1  1  3  0.01543  169.124  0.103912190506  -7.215  0.00484  155.075\n",
      "0.15  1  1  0.01481  168.127  0.103890658737  -10.792  0.00478  134.684\n",
      "0.15  1  2  0.01481  168.035  0.103882525675  -10.792  0.00477  134.945\n",
      "0.15  1  3  0.01484  168.094  0.103889941089  -10.792  0.00477  134.925\n",
      "0.2  1  1  0.01498  160.938  0.103875349972  -14.363  0.00521  125.588\n",
      "0.2  1  2  0.01499  160.904  0.103865185242  -14.364  0.0052  125.781\n",
      "0.2  1  3  0.01502  160.978  0.103871762307  -14.364  0.0052  125.735\n",
      "0.25  1  1  0.01483  158.35  0.103839478892  -17.919  0.00557  118.262\n",
      "0.25  1  2  0.01484  158.334  0.103831469377  -17.916  0.00556  118.475\n",
      "0.25  1  3  0.01487  158.418  0.103835892466  -17.918  0.00556  118.471\n",
      "0.3  1  1  0.01507  153.285  0.103836848834  -21.487  0.00621  109.372\n",
      "0.3  1  2  0.01508  153.323  0.103830034902  -21.487  0.0062  109.614\n",
      "0.3  1  3  0.01512  153.404  0.103836968381  -21.489  0.0062  109.557\n",
      "0.35  1  1  0.01517  149.579  0.103825372996  -25.053  0.00687  102.455\n",
      "0.35  1  2  0.01518  149.693  0.103816049811  -25.053  0.00686  102.678\n",
      "0.35  1  3  0.01521  149.789  0.103822982356  -25.056  0.00685  102.649\n",
      "0.4  1  1  0.01536  145.764  0.103807922589  -28.618  0.00745  96.29\n",
      "0.4  1  2  0.01535  145.919  0.103793701482  -28.616  0.00744  96.505\n",
      "0.4  1  3  0.01538  146.02  0.103804456762  -28.619  0.00743  96.442\n",
      "0.45  1  1  0.01541  141.848  0.103791072583  -32.176  0.00812  90.733\n",
      "0.45  1  2  0.01538  142.023  0.103782588864  -32.175  0.0081  90.964\n",
      "0.45  1  3  0.01541  142.132  0.103789160699  -32.179  0.0081  90.914\n",
      "0.5  1  1  0.01575  137.681  0.103780199209  -35.734  0.00869  86.352\n",
      "0.5  1  2  0.01569  137.846  0.103770521669  -35.735  0.00867  86.598\n",
      "0.5  1  3  0.01572  137.972  0.103777809609  -35.738  0.00866  86.515\n",
      "0.55  1  1  0.01588  134.263  0.10376741549  -39.296  0.00935  81.012\n",
      "0.55  1  2  0.01579  134.377  0.103761322869  -39.296  0.00931  81.257\n",
      "0.55  1  3  0.01583  134.503  0.10376454833  -39.3  0.00931  81.163\n",
      "0.6  1  1  0.01612  130.095  0.103755350059  -42.856  0.00995  76.857\n",
      "0.6  1  2  0.01603  130.136  0.103749138702  -42.856  0.00991  77.026\n",
      "0.6  1  3  0.01606  130.265  0.103750213718  -42.861  0.0099  76.963\n",
      "0.65  1  1  0.01635  127.111  0.103746033162  -46.406  0.01047  72.336\n",
      "0.65  1  2  0.01624  127.061  0.103738389154  -46.406  0.01043  72.505\n",
      "0.65  1  3  0.01627  127.194  0.103741852775  -46.395  0.01043  72.385\n",
      "0.7  1  1  0.01659  123.319  0.103729432048  -49.962  0.01118  68.649\n",
      "0.7  1  2  0.01648  123.155  0.103729193202  -49.942  0.01113  68.8\n",
      "0.7  1  3  0.01651  123.276  0.103722625165  -49.951  0.01113  68.704\n",
      "0.75  1  1  0.01689  119.735  0.103718565131  -53.502  0.01167  64.889\n",
      "0.75  1  2  0.0168  119.493  0.10370447566  -53.524  0.01162  65.008\n",
      "0.75  1  3  0.01682  119.625  0.10371116195  -53.491  0.01161  64.887\n",
      "0.8  1  1  0.01726  116.433  0.10369373074  -57.061  0.01227  60.801\n",
      "0.8  1  2  0.01719  116.134  0.103692298168  -57.064  0.01223  60.905\n",
      "0.8  1  3  0.01721  116.243  0.103693491976  -57.086  0.01223  60.779\n",
      "0.85  1  1  0.01737  113.299  0.103676063735  -60.616  0.01277  57.283\n",
      "0.85  1  2  0.01733  112.988  0.103669021647  -60.619  0.01272  57.373\n",
      "0.85  1  3  0.01735  113.09  0.103672960383  -60.624  0.01273  57.264\n",
      "0.9  1  1  0.01773  109.866  0.103666037856  -64.171  0.01321  53.186\n",
      "0.9  1  2  0.01771  109.588  0.103659354475  -64.172  0.01316  53.287\n",
      "0.9  1  3  0.01774  109.686  0.103661144624  -64.178  0.01318  53.18\n",
      "0.95  1  1  0.01804  106.742  0.103657803037  -67.728  0.01385  49.839\n",
      "0.95  1  2  0.01805  106.521  0.103649807535  -67.731  0.0138  49.937\n",
      "0.95  1  3  0.01808  106.615  0.103652432856  -67.736  0.01382  49.843\n",
      "1.0  1  1  0.01836  103.485  0.103647659595  -71.303  0.0143  46.076\n",
      "1.0  1  2  0.01839  103.349  0.103637636462  -71.305  0.01425  46.186\n",
      "1.0  1  3  0.01843  103.463  0.103640977399  -71.297  0.01428  46.097\n",
      "1.5  1  1  0.02102  73.872  0.10350778141  -106.84  0.01956  9.693\n",
      "1.5  1  2  0.02085  73.457  0.103503729786  -106.844  0.01947  9.834\n",
      "1.5  1  3  0.02084  73.547  0.103504087276  -106.856  0.01947  9.891\n",
      "2.0  1  1  0.02315  46.25  0.103355954006  -142.398  0.02483  -21.17\n",
      "2.0  1  2  0.02316  46.291  0.103350480476  -142.39  0.02474  -21.092\n",
      "2.0  1  3  0.02315  46.414  0.103351551361  -142.422  0.02471  -21.129\n",
      "2.5  1  1  0.0245  22.178  0.103229304186  -177.917  0.02788  -49.606\n",
      "2.5  1  2  0.02457  21.215  0.103227283804  -177.941  0.02775  -49.535\n",
      "2.5  1  3  0.02457  21.174  0.10322288664  -177.961  0.02772  -49.699\n",
      "3.0  1  1  0.02349  0.37  0.103150657361  146.51  0.02778  -81.146\n",
      "3.0  1  2  0.02328  -0.161  0.103148519765  146.496  0.02766  -81.0\n",
      "3.0  1  3  0.02324  -0.121  0.103147213478  146.464  0.02771  -81.153\n",
      "3.5  1  1  0.02157  -22.471  0.103102572156  110.974  0.02666  -113.076\n",
      "3.5  1  2  0.0219  -23.077  0.103104946208  110.942  0.02647  -112.912\n",
      "3.5  1  3  0.02193  -23.122  0.103103640473  110.908  0.0265  -113.012\n",
      "4.0  1  1  0.01823  -43.24  0.103105777139  75.413  0.02586  -143.72\n",
      "4.0  1  2  0.01819  -44.075  0.103113611961  75.38  0.02564  -143.531\n",
      "4.0  1  3  0.01815  -44.263  0.103102334754  75.333  0.02568  -143.633\n",
      "4.5  1  1  0.0134  -66.661  0.103112543541  39.747  0.02197  -170.982\n",
      "4.5  1  2  0.01387  -64.865  0.103110288024  39.732  0.02171  -170.765\n",
      "4.5  1  3  0.01392  -64.88  0.103114561677  39.649  0.02179  -170.971\n",
      "5.0  1  1  0.00848  -101.959  0.103140919781  4.102  0.01668  157.427\n",
      "5.0  1  2  0.00906  -104.174  0.103141513509  4.066  0.01636  157.696\n",
      "5.0  1  3  0.0092  -104.932  0.103134270254  3.99  0.0165  157.65\n",
      "5.5  1  1  0.0052  170.764  0.103181063527  -31.58  0.00971  119.802\n",
      "5.5  1  2  0.00479  170.814  0.10318427095  -31.597  0.00939  119.517\n",
      "5.5  1  3  0.00482  171.704  0.103177618628  -31.665  0.00958  120.02\n",
      "6.0  1  1  0.01225  101.966  0.103254146224  -67.351  0.00348  71.304\n",
      "6.0  1  2  0.01239  102.57  0.103256642645  -67.41  0.00314  68.528\n",
      "6.0  1  3  0.01233  103.369  0.103252838599  -67.49  0.00315  72.248\n",
      "6.5  1  1  0.02289  73.358  0.103289696185  -103.142  0.0043  -93.265\n",
      "6.5  1  2  0.02338  70.587  0.103296236809  -103.211  0.00467  -93.688\n",
      "6.5  1  3  0.02335  70.584  0.103289458352  -103.326  0.00456  -95.318\n",
      "7.0  1  1  0.03515  50.911  0.103303848237  -139.013  0.01328  -145.814\n",
      "7.0  1  2  0.03482  49.572  0.103310151876  -139.082  0.01365  -145.565\n",
      "7.0  1  3  0.03463  49.579  0.103309557177  -139.193  0.01367  -146.377\n",
      "7.5  1  1  0.04777  32.346  0.103271979123  -174.933  0.02323  -171.123\n",
      "7.5  1  2  0.04781  30.884  0.103273405888  -175.037  0.02359  -170.969\n",
      "7.5  1  3  0.04765  30.987  0.103271860227  -175.144  0.02362  -171.443\n",
      "8.0  1  1  0.06082  13.309  0.103233939328  149.074  0.02915  159.31\n",
      "8.0  1  2  0.05998  12.552  0.10324047642  148.963  0.02955  159.371\n",
      "8.0  1  3  0.0597  12.545  0.103221460573  148.852  0.02971  159.029\n",
      "8.5  1  1  0.07242  -5.957  0.103153863838  113.075  0.03276  122.813\n",
      "8.5  1  2  0.07292  -5.9  0.103156714124  112.924  0.03316  122.933\n",
      "8.5  1  3  0.07267  -5.867  0.103148757273  112.757  0.03335  122.862\n",
      "9.0  1  1  0.08152  -23.353  0.103071951788  76.987  0.03948  89.311\n",
      "9.0  1  2  0.08245  -24.828  0.103078597297  76.836  0.03998  89.462\n",
      "9.0  1  3  0.08226  -25.013  0.103063645505  76.64  0.04011  89.61\n",
      "9.5  1  1  0.08692  -40.412  0.102977892618  40.871  0.04174  57.408\n",
      "9.5  1  2  0.08721  -41.605  0.102995084916  40.682  0.04223  57.637\n",
      "9.5  1  3  0.08695  -41.806  0.102991527654  40.467  0.04219  57.783\n",
      "10.0  1  1  0.0891  -56.621  0.102894580288  4.658  0.0417  27.607\n",
      "10.0  1  2  0.08933  -59.176  0.102900740484  4.459  0.04227  27.972\n",
      "10.0  1  3  0.08903  -59.655  0.102896475694  4.166  0.04217  28.091\n",
      "10.5  1  1  0.08774  -72.924  0.102824474817  -31.617  0.03948  -7.695\n",
      "10.5  1  2  0.08654  -74.004  0.102842825518  -31.782  0.03985  -7.253\n",
      "10.5  1  3  0.08601  -74.326  0.102836195209  -32.095  0.03963  -7.266\n",
      "11.0  1  1  0.08331  -88.506  0.10279772418  -67.942  0.03588  -43.82\n",
      "11.0  1  2  0.0838  -88.772  0.102807429359  -68.119  0.0364  -43.092\n",
      "11.0  1  3  0.08351  -89.011  0.102790150043  -68.402  0.03622  -43.212\n",
      "11.5  1  1  0.07565  -103.476  0.102816898709  -104.354  0.03138  -82.025\n",
      "11.5  1  2  0.07439  -105.365  0.102837971143  -104.586  0.03165  -80.993\n",
      "11.5  1  3  0.07385  -105.953  0.102832525044  -104.955  0.03138  -81.47\n",
      "12.0  1  1  0.06278  -119.333  0.10280754772  -140.928  0.02473  -132.102\n",
      "12.0  1  2  0.06324  -118.705  0.10283335378  -141.15  0.02483  -130.714\n",
      "12.0  1  3  0.06313  -118.975  0.102812992497  -141.501  0.0249  -131.678\n",
      "12.5  1  1  0.04592  -135.385  0.102776778319  -177.616  0.02421  170.182\n",
      "12.5  1  2  0.04803  -139.255  0.102794173734  -177.806  0.02399  171.216\n",
      "12.5  1  3  0.0485  -140.79  0.102756309936  -178.148  0.02429  170.732\n",
      "13.0  1  1  0.02882  -151.881  0.102695638634  145.603  0.03222  112.966\n",
      "13.0  1  2  0.02693  -154.218  0.10273206077  145.42  0.03189  113.597\n",
      "13.0  1  3  0.02622  -156.798  0.102724964536  145.027  0.03215  113.727\n",
      "13.5  1  1  0.01055  173.776  0.102566963879  108.694  0.03985  70.838\n",
      "13.5  1  2  0.01104  176.999  0.102605821064  108.47  0.03957  71.116\n",
      "13.5  1  3  0.01096  176.329  0.102591174075  108.049  0.03982  71.212\n",
      "14.0  1  1  0.01182  41.131  0.102350743069  71.714  0.05068  29.685\n",
      "14.0  1  2  0.01249  30.811  0.102386099869  71.505  0.05037  29.942\n",
      "14.0  1  3  0.0127  27.661  0.10236335226  71.074  0.05052  30.169\n",
      "14.5  1  1  0.02984  5.952  0.102028499577  34.689  0.06378  -6.738\n",
      "14.5  1  2  0.02858  2.667  0.102072910878  34.46  0.06356  -6.606\n",
      "14.5  1  3  0.02831  1.204  0.102063862564  34.018  0.06359  -6.408\n",
      "15.0  1  1  0.04484  -11.643  0.101759742655  -2.36  0.07708  -36.187\n",
      "15.0  1  2  0.04517  -13.263  0.101799466031  -2.581  0.07664  -36.008\n",
      "15.0  1  3  0.04451  -14.979  0.101791613869  -3.041  0.07645  -35.952\n",
      "15.5  1  1  0.05667  -26.867  0.101636335929  -39.528  0.08405  -64.904\n",
      "15.5  1  2  0.05633  -27.611  0.101679991209  -39.734  0.08364  -64.687\n",
      "15.5  1  3  0.05643  -26.894  0.101666061617  -40.172  0.08357  -64.77\n",
      "16.0  1  1  0.06235  -38.484  0.101513429476  -76.761  0.08897  -93.983\n",
      "16.0  1  2  0.06418  -38.052  0.101561007386  -76.979  0.08824  -93.715\n",
      "16.0  1  3  0.06614  -38.73  0.101551770618  -77.446  0.08818  -93.8\n",
      "16.5  1  1  0.06523  -46.787  0.101454192838  -114.037  0.09509  -121.541\n",
      "16.5  1  2  0.06593  -48.873  0.1015260524  -114.248  0.09425  -121.315\n",
      "16.5  1  3  0.06652  -49.988  0.101527221268  -114.712  0.09419  -121.413\n",
      "17.0  1  1  0.06519  -53.821  0.101431068389  -151.386  0.09788  -146.594\n",
      "17.0  1  2  0.06489  -54.288  0.101514481327  -151.602  0.09695  -146.506\n",
      "17.0  1  3  0.06514  -56.873  0.101546860273  -152.066  0.09686  -146.72\n",
      "17.5  1  1  0.06375  -59.662  0.101523480936  171.246  0.10108  -170.504\n",
      "17.5  1  2  0.06346  -62.11  0.101591178886  171.018  0.10013  -170.285\n",
      "17.5  1  3  0.06077  -64.789  0.101608841557  170.515  0.10012  -170.468\n",
      "18.0  1  1  0.0629  -64.162  0.101663369563  133.885  0.10061  167.848\n",
      "18.0  1  2  0.06094  -63.067  0.101752830731  133.7  0.09941  167.886\n",
      "18.0  1  3  0.0591  -61.947  0.101765483424  133.245  0.09949  167.583\n"
     ]
    },
    {
     "data": {
      "text/plain": [
       "<matplotlib.figure.Figure at 0x167ae5f8>"
      ]
     },
     "metadata": {},
     "output_type": "display_data"
    }
   ],
   "source": [
    "%matplotlib inline\n",
    "history=[]\n",
    "def move_and_show(end_node_number):\n",
    "    node=test_graph_2.node_names[end_node_number]\n",
    "    test_graph_2.move_to_node(node)\n",
    "    print(\"*\"*80)\n",
    "    print(\"{0}\".format(test_graph_2.node_descriptions[end_node_number])+\" {0}\".format(test_graph_2.state))\n",
    "    print(\"*\"*80)\n",
    "    test_graph_2.show(descriptions=True)\n",
    "    print test_graph_2.data\n",
    "    history.append(node)\n",
    "    \n",
    "interact(move_and_show,end_node_number=(0,len(test_graph_2.node_names)-1,1))"
   ]
  },
  {
   "cell_type": "code",
   "execution_count": 108,
   "metadata": {
    "collapsed": true
   },
   "outputs": [],
   "source": [
    "ks=KnowledgeSystem()"
   ]
  },
  {
   "cell_type": "code",
   "execution_count": 109,
   "metadata": {
    "collapsed": false
   },
   "outputs": [
    {
     "name": "stdout",
     "output_type": "stream",
     "text": [
      "Property\n",
      "Self\n",
      "Default\n"
     ]
    }
   ],
   "source": [
    "print ks"
   ]
  },
  {
   "cell_type": "code",
   "execution_count": 110,
   "metadata": {
    "collapsed": false
   },
   "outputs": [
    {
     "data": {
      "text/plain": [
       "<Code.DataHandlers.GeneralModels.KnowledgeSystem at 0x15ed7748>"
      ]
     },
     "execution_count": 110,
     "metadata": {},
     "output_type": "execute_result"
    }
   ],
   "source": [
    "ks"
   ]
  },
  {
   "cell_type": "code",
   "execution_count": null,
   "metadata": {
    "collapsed": true
   },
   "outputs": [],
   "source": []
  }
 ],
 "metadata": {
  "kernelspec": {
   "display_name": "Python 2",
   "language": "python",
   "name": "python2"
  },
  "language_info": {
   "codemirror_mode": {
    "name": "ipython",
    "version": 2
   },
   "file_extension": ".py",
   "mimetype": "text/x-python",
   "name": "python",
   "nbconvert_exporter": "python",
   "pygments_lexer": "ipython2",
   "version": "2.7.13"
  },
  "widgets": {
   "state": {
    "21e42407d23e465aa0917e74ce9ee8fe": {
     "views": [
      {
       "cell_index": 19
      }
     ]
    },
    "831afe199fb1429690b1c1e9d4a552b0": {
     "views": [
      {
       "cell_index": 9
      }
     ]
    }
   },
   "version": "1.2.0"
  }
 },
 "nbformat": 4,
 "nbformat_minor": 2
}
