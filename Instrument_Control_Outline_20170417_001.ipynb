{
 "cells": [
  {
   "cell_type": "markdown",
   "metadata": {},
   "source": [
    "# Instrument Control Outline\n",
    "\n",
    "1. The unique naming of instruments\n",
    "2. Definition of an InstrumentSheet\n",
    "3. Inherit from VisaInstrument\n",
    "4. The behavior of the method intialize()\n",
    "5. Configuration Settings (set/get)\n",
    "6. Measurement (measure)"
   ]
  },
  {
   "cell_type": "markdown",
   "metadata": {},
   "source": [
    "## Naming of Instruments\n",
    "\n",
    "Manufacturer_Model_RoomNumber_Iterator<br/>\n",
    "ex:<br/>\n",
    "RS_ZVA110_4639_001<br/>\n",
    "Keysight_E8361A_4639_001"
   ]
  },
  {
   "cell_type": "markdown",
   "metadata": {},
   "source": [
    "## Defining an InstrumentSheet\n"
   ]
  },
  {
   "cell_type": "markdown",
   "metadata": {},
   "source": [
    "## Inherit from VisaInstrument class\n",
    "```python\n",
    "class E8361A(VisaInstrument):\n",
    "    pass\n",
    "```\n",
    "\n",
    "This gives the methods\n",
    "+ set_state\n",
    "+ get_state\n",
    "+ load_state\n",
    "+ read\n",
    "+ write \n",
    "+ ask and query (same command)\n",
    "\n",
    "and automatically populates any static metadata fields from the InstrumentSheet\n"
   ]
  },
  {
   "cell_type": "markdown",
   "metadata": {},
   "source": [
    "## All specific instruments should have an intialize method\n",
    "```python\n",
    "vna=E8631(\"Keysight_E361A_4639_001\")\n",
    "vna.initialize()\n",
    "```"
   ]
  },
  {
   "cell_type": "markdown",
   "metadata": {},
   "source": [
    "## Configuration Commands\n",
    "Commands that change the state fo the instrument but do not take a measurement should be named set_configuration and ones that read it should be get_configuration. These commands should take either numeric types or strings, the units should be specified in the doc string of the method.\n",
    "\n",
    "```python\n",
    "vna.set_IFBW(10)\n",
    "vna.get_IFBW()\n",
    "vna.set_power('0')\n",
    "```"
   ]
  },
  {
   "cell_type": "markdown",
   "metadata": {},
   "source": [
    "## Measurement Commands\n",
    "Commands that take a measurement and return something should be named using measure_typeofmeasurement\n",
    "```python\n",
    "sparameters=vna.measure_sparameters()\n",
    "new_power_reading=power_meter.measure_power()\n",
    "```"
   ]
  },
  {
   "cell_type": "code",
   "execution_count": 1,
   "metadata": {
    "collapsed": false
   },
   "outputs": [
    {
     "name": "stdout",
     "output_type": "stream",
     "text": [
      "Importing Code.Analysis.Fitting\n",
      "It took 11.838 s to import Code.Analysis.Fitting\n",
      "Importing Code.DataHandlers.GeneralModels\n",
      "It took 0.108 s to import Code.DataHandlers.GeneralModels\n",
      "Importing Code.DataHandlers.GraphModels\n",
      "The module smithplot was not found,please put it on the python path\n",
      "It took 14.857 s to import Code.DataHandlers.GraphModels\n",
      "Importing Code.DataHandlers.HTMLModels\n",
      "It took 0.005 s to import Code.DataHandlers.HTMLModels\n",
      "Importing Code.DataHandlers.MUFModels\n",
      "It took 0.006 s to import Code.DataHandlers.MUFModels\n",
      "Importing Code.DataHandlers.NISTModels\n",
      "It took 0.005 s to import Code.DataHandlers.NISTModels\n",
      "Importing Code.DataHandlers.StatistiCALModels\n",
      "It took 0.004 s to import Code.DataHandlers.StatistiCALModels\n",
      "Importing Code.DataHandlers.TouchstoneModels\n",
      "The module smithplot was not found,please put it on the python path\n",
      "It took 0.036 s to import Code.DataHandlers.TouchstoneModels\n",
      "Importing Code.DataHandlers.Translations\n",
      "It took 0.012 s to import Code.DataHandlers.Translations\n",
      "Importing Code.DataHandlers.XMLModels\n",
      "It took 0.006 s to import Code.DataHandlers.XMLModels\n",
      "Importing Code.DataHandlers.ZipModels\n",
      "It took 0.013 s to import Code.DataHandlers.ZipModels\n",
      "Importing Code.InstrumentControl.Experiments\n",
      "It took 0.269 s to import Code.InstrumentControl.Experiments\n",
      "Importing Code.InstrumentControl.Instruments\n",
      "It took 0.008 s to import Code.InstrumentControl.Instruments\n",
      "Importing Code.Utils.Names\n",
      "It took 0.007 s to import Code.Utils.Names\n",
      "It took 27.175 s to import all of the active modules\n"
     ]
    }
   ],
   "source": [
    "from pyMeasure import *"
   ]
  },
  {
   "cell_type": "code",
   "execution_count": 65,
   "metadata": {
    "collapsed": true
   },
   "outputs": [],
   "source": [
    "import time"
   ]
  },
  {
   "cell_type": "code",
   "execution_count": 52,
   "metadata": {
    "collapsed": true
   },
   "outputs": [],
   "source": [
    "class VNA(VisaInstrument):\n",
    "    \"\"\"Control class for Keysight E8631A PNA \"\"\"\n",
    "    def __init__(self,resource_name=None,**options):\n",
    "        \"\"\"Initializes the E8631A control class\"\"\"\n",
    "        defaults={\"state_directory\":os.getcwd()}\n",
    "        self.options={}\n",
    "        for key,value in defaults.iteritems():\n",
    "            self.options[key]=value\n",
    "        for key,value in options.iteritems():\n",
    "            self.options[key]=value\n",
    "        VisaInstrument.__init__(self,resource_name,**self.options)\n",
    "        self.power=self.get_power()\n",
    "        self.IFBW=self.get_IFBW()\n",
    "        #this should be if SENS:SWE:TYPE? is LIN\n",
    "        start=float(self.query(\"SENS:FREQ:START?\").replace(\"\\n\",\"\"))\n",
    "        stop=float(self.query(\"SENS:FREQ:STOP?\").replace(\"\\n\",\"\"))\n",
    "        number_points=int(self.query(\"SENS:SWE:POIN?\").replace(\"\\n\",\"\"))\n",
    "        self.frequency_list=np.linspace(start,stop,number_points)\n",
    "\n",
    "    def initialize(self):\n",
    "        \"\"\"Intializes the system\"\"\"\n",
    "        self.write(\"SYST:FPRESET\")\n",
    "        self.write(\"DISPlay:WINDow1:STATE ON\")\n",
    "        self.write(\"CALCulate:PARameter:DEFine 'S11',S11\")\n",
    "        self.write(\"DISPlay:WINDow1:TRACe1:FEED 'S11'\")\n",
    "        self.write(\"CALCulate:PARameter:DEFine 'S12',S12\")\n",
    "        self.write(\"DISPlay:WINDow1:TRACe2:FEED 'S12'\")\n",
    "        self.write(\"CALCulate:PARameter:DEFine 'S21',S21\")\n",
    "        self.write(\"DISPlay:WINDow1:TRACe3:FEED 'S21'\")\n",
    "        self.write(\"CALCulate:PARameter:DEFine 'S22',S22\")\n",
    "        self.write(\"DISPlay:WINDow1:TRACe4:FEED 'S22'\")\n",
    "        start=float(self.query(\"SENS:FREQ:START?\").replace(\"\\n\",\"\"))\n",
    "        stop=float(self.query(\"SENS:FREQ:STOP?\").replace(\"\\n\",\"\"))\n",
    "        number_points=int(self.query(\"SENS:SWE:POIN?\").replace(\"\\n\",\"\"))\n",
    "        self.frequency_list=np.linspace(start,stop,number_points)\n",
    "\n",
    "        \n",
    "    def set_power(self,power):\n",
    "        \"\"\"Sets the power of the Instrument in dbm\"\"\"\n",
    "        self.write('SOUR:POW {0}'.format(power))\n",
    "    def get_power(self):\n",
    "        \"Returns the power of the instrument in dbm\"\n",
    "        return self.query('SOUR:POW?')\n",
    "    def set_IFBW(self,ifbw):\n",
    "        \"\"\"Sets the IF Bandwidth of the instrument in Hz\"\"\"\n",
    "        self.write('SENS:BAND {0}'.format(ifbw))\n",
    "    def get_IFBW(self):\n",
    "        \"\"\"Returns the IFBW of the instrument in Hz\"\"\"\n",
    "        return self.query('SENS:BAND?')\n",
    "    def set_frequency(self,start,stop=None,number_points=None,step=None,units='Hz'):\n",
    "        \"\"\"Sets the VNA to a linear mode and creates a single entry in the frequency table. If start is the only specified\n",
    "        parameter sets the entry to start=stop and number_points = 1. If step is specified calculates the number of points \n",
    "        and sets start, stop, number_points on the VNA. It also stores the value into the attribute frequency_list. \n",
    "        \"\"\"\n",
    "        if stop is None and number_points is None:\n",
    "            stop=start\n",
    "            number_points=1\n",
    "        if number_points is None and not step is None:\n",
    "            number_points = round((stop-start)/step) + 1\n",
    "        self.frequency_list=np.linspace(start,stop,number_points)\n",
    "        self.write('SWE:TYPE LIN')\n",
    "        self.write(\"SENS:FREQ:START {0}\".format(start))\n",
    "        self.write(\"SENS:FREQ:STOP {0}\".format(stop))\n",
    "        self.write(\"SENS:SWE:POIN {0}\".format(number_points))\n",
    "    def get_frequency(self):\n",
    "        \"Returns the frequency in python list format\"\n",
    "        return self.frequency_list\n",
    "    def is_busy(self):\n",
    "        \"\"\"Checks if the insturment is currently doing something\"\"\"\n",
    "        opc=bool(self.query(\"*OPC?\"))\n",
    "        return not opc\n",
    "    \n",
    "    def measure_sparameters(self,**options):\n",
    "        \"\"\"Triggers a single sparameter measurement for all 4 parameters and returns a SP2V1 object\"\"\"\n",
    "        defaults={}\n",
    "        self.measure_sparameter_options={}\n",
    "        for key,value in defaults.iteritems():\n",
    "            self.measure_sparameter_options[key]=value\n",
    "        for key,value in options:\n",
    "            self.measure_sparameter_options[key]=value\n",
    "        # wait for other functions to be completed\n",
    "        while self.is_busy():\n",
    "            time.sleep(.01)\n",
    "        # Set the format to ascii and set up sweep definitions\n",
    "        self.write('FORM:ASCII')\n",
    "        # First get the Sparameter lists\n",
    "        self.write('CALC:PAR:SEL S11')\n",
    "        self.write('CALC:FORM MLIN')\n",
    "        s11_string=self.query('CALC:DATA? SDATA')\n",
    "        self.write('CALC:PAR:SEL S12')\n",
    "        self.write('CALC:FORM MLIN')\n",
    "        s12_string=self.query('CALC:DATA? SDATA')\n",
    "        self.write('CALC:PAR:SEL S21')\n",
    "        self.write('CALC:FORM MLIN')\n",
    "        s21_string=self.query('CALC:DATA? SDATA')\n",
    "        self.write('CALC:PAR:SEL S22')\n",
    "        self.write('CALC:FORM MLIN')\n",
    "        s22_string=self.query('CALC:DATA? SDATA')\n",
    "        # String Parsing\n",
    "        s11_list=s11_string.replace(\"\\n\",\"\").split(\",\")\n",
    "        s12_list=s12_string.replace(\"\\n\",\"\").split(\",\")\n",
    "        s21_list=s21_string.replace(\"\\n\",\"\").split(\",\")\n",
    "        s22_list=s22_string.replace(\"\\n\",\"\").split(\",\")\n",
    "        # Construct a list of lists that is data in RI format\n",
    "        reS11=s11_list[0::2]\n",
    "        imS11=s11_list[1::2]\n",
    "        reS12=s12_list[0::2]\n",
    "        imS12=s12_list[1::2]\n",
    "        reS21=s21_list[0::2]\n",
    "        imS21=s21_list[1::2]\n",
    "        reS22=s22_list[0::2]\n",
    "        imS22=s22_list[1::2]\n",
    "        sparameter_data=[]\n",
    "        for index,frequency in enumerate(self.frequency_list[:]):\n",
    "            new_row=[frequency,\n",
    "                     reS11[index],imS11[index],\n",
    "                     reS21[index],imS21[index],\n",
    "                     reS12[index],imS12[index],\n",
    "                     reS22[index],imS22[index]]\n",
    "            sparameter_data.append(new_row)\n",
    "        option_line=\"# Hz S RI R 50\"\n",
    "        # add some options here about auto saving \n",
    "        # do we want comment options?\n",
    "        s2p=S2PV1(None,option_line=option_line,data=sparameter_data)\n",
    "        return s2p\n",
    "        \n",
    "            "
   ]
  },
  {
   "cell_type": "code",
   "execution_count": 63,
   "metadata": {
    "collapsed": false
   },
   "outputs": [],
   "source": [
    "vna=VNA(\"ZVA110\")"
   ]
  },
  {
   "cell_type": "code",
   "execution_count": 64,
   "metadata": {
    "collapsed": false
   },
   "outputs": [
    {
     "data": {
      "text/plain": [
       "{'SENS:AVER': u'0',\n",
       " 'SENS:BAND': u'10000',\n",
       " 'SENS:CORR:STAT': u'1',\n",
       " 'SENS:SWE:TYPE': u'LIN',\n",
       " 'SOUR:POW': u'-10',\n",
       " 'SOUR:POW:CORR:STAT': u'0',\n",
       " 'SOUR:POW:SLOP': u'0'}"
      ]
     },
     "execution_count": 64,
     "metadata": {},
     "output_type": "execute_result"
    }
   ],
   "source": [
    "vna.get_state()"
   ]
  },
  {
   "cell_type": "code",
   "execution_count": 60,
   "metadata": {
    "collapsed": false
   },
   "outputs": [
    {
     "name": "stdout",
     "output_type": "stream",
     "text": [
      "1\n",
      "\n"
     ]
    }
   ],
   "source": [
    "vna.set_frequency(3*10**8,50*10**9,1000)\n",
    "print vna.query(\"*OPC?\")\n",
    "s2p=vna.measure_sparameters()"
   ]
  },
  {
   "cell_type": "code",
   "execution_count": 62,
   "metadata": {
    "collapsed": true
   },
   "outputs": [],
   "source": [
    "vna.resource_manager.close()"
   ]
  },
  {
   "cell_type": "code",
   "execution_count": 23,
   "metadata": {
    "collapsed": false
   },
   "outputs": [
    {
     "data": {
      "text/plain": [
       "'Two_Port_Sparameter_20170424_001.s2p'"
      ]
     },
     "execution_count": 23,
     "metadata": {},
     "output_type": "execute_result"
    }
   ],
   "source": [
    "s2p.path"
   ]
  },
  {
   "cell_type": "code",
   "execution_count": 61,
   "metadata": {
    "collapsed": false
   },
   "outputs": [
    {
     "data": {
      "image/png": "[encoded data removed]",
      "text/plain": [
       "<matplotlib.figure.Figure at 0x13f73898>"
      ]
     },
     "metadata": {},
     "output_type": "display_data"
    }
   ],
   "source": [
    "s2p.show();"
   ]
  },
  {
   "cell_type": "code",
   "execution_count": 3,
   "metadata": {
    "collapsed": false
   },
   "outputs": [],
   "source": [
    "pna=VisaInstrument(\"E8361A\")"
   ]
  },
  {
   "cell_type": "code",
   "execution_count": 4,
   "metadata": {
    "collapsed": false
   },
   "outputs": [
    {
     "data": {
      "text/plain": [
       "{'SENS:AVER': u'0',\n",
       " 'SENS:BAND': u'+3.50000000000E+004',\n",
       " 'SENS:CORR:STAT': u'0',\n",
       " 'SENS:SWE:TYPE': u'SEGM',\n",
       " 'SOUR:POW': u'-2.00000000000E+001',\n",
       " 'SOUR:POW:CORR:STAT': u'0',\n",
       " 'SOUR:POW:SLOP': u'+0.00000000000E+000'}"
      ]
     },
     "execution_count": 4,
     "metadata": {},
     "output_type": "execute_result"
    }
   ],
   "source": [
    "pna.get_state()"
   ]
  },
  {
   "cell_type": "code",
   "execution_count": 5,
   "metadata": {
    "collapsed": false
   },
   "outputs": [
    {
     "data": {
      "text/plain": [
       "'Agilent Technologies,E8361A,US43140754,A.07.50.67'"
      ]
     },
     "execution_count": 5,
     "metadata": {},
     "output_type": "execute_result"
    }
   ],
   "source": [
    "pna.idn"
   ]
  },
  {
   "cell_type": "code",
   "execution_count": 11,
   "metadata": {
    "collapsed": false
   },
   "outputs": [
    {
     "data": {
      "text/plain": [
       "(35L, <StatusCode.success: 0>)"
      ]
     },
     "execution_count": 11,
     "metadata": {},
     "output_type": "execute_result"
    }
   ],
   "source": [
    "pna.write(\"SYST:FPRESET\")\n",
    "pna.write(\"DISPlay:WINDow1:STATE ON\")\n",
    "pna.write(\"CALCulate:PARameter:DEFine 'S11',S11\")\n",
    "pna.write(\"DISPlay:WINDow1:TRACe1:FEED 'S11'\")"
   ]
  },
  {
   "cell_type": "code",
   "execution_count": 12,
   "metadata": {
    "collapsed": false
   },
   "outputs": [
    {
     "data": {
      "text/plain": [
       "(35L, <StatusCode.success: 0>)"
      ]
     },
     "execution_count": 12,
     "metadata": {},
     "output_type": "execute_result"
    }
   ],
   "source": [
    "pna.write(\"CALCulate:PARameter:DEFine 'S21',S21\")\n",
    "pna.write(\"DISPlay:WINDow1:TRACe2:FEED 'S21'\")"
   ]
  },
  {
   "cell_type": "code",
   "execution_count": 8,
   "metadata": {
    "collapsed": false
   },
   "outputs": [
    {
     "data": {
      "text/plain": [
       "(35L, <StatusCode.success: 0>)"
      ]
     },
     "execution_count": 8,
     "metadata": {},
     "output_type": "execute_result"
    }
   ],
   "source": [
    "pna.write(\"DISPlay:WINDow3:STATE ON\")\n",
    "pna.write(\"CALCulate:PARameter:DEFine 'S12',S12\")\n",
    "pna.write(\"DISPlay:WINDow3:TRACe3:FEED 'S12'\")"
   ]
  },
  {
   "cell_type": "code",
   "execution_count": 9,
   "metadata": {
    "collapsed": false
   },
   "outputs": [
    {
     "data": {
      "text/plain": [
       "(35L, <StatusCode.success: 0>)"
      ]
     },
     "execution_count": 9,
     "metadata": {},
     "output_type": "execute_result"
    }
   ],
   "source": [
    "pna.write(\"DISPlay:WINDow4:STATE ON\")\n",
    "pna.write(\"CALCulate:PARameter:DEFine 'S22',S22\")\n",
    "pna.write(\"DISPlay:WINDow4:TRACe4:FEED 'S22'\")"
   ]
  },
  {
   "cell_type": "code",
   "execution_count": 15,
   "metadata": {
    "collapsed": false
   },
   "outputs": [
    {
     "data": {
      "text/plain": [
       "(35L, <StatusCode.success: 0>)"
      ]
     },
     "execution_count": 15,
     "metadata": {},
     "output_type": "execute_result"
    }
   ],
   "source": [
    "pna.write(\"SYST:FPRESET\")\n",
    "pna.write(\"DISPlay:WINDow1:STATE ON\")\n",
    "pna.write(\"CALCulate:PARameter:DEFine 'S11',S11\")\n",
    "pna.write(\"DISPlay:WINDow1:TRACe1:FEED 'S11'\")\n",
    "pna.write(\"CALCulate:PARameter:DEFine 'S12',S12\")\n",
    "pna.write(\"DISPlay:WINDow1:TRACe2:FEED 'S12'\")\n",
    "pna.write(\"CALCulate:PARameter:DEFine 'S21',S21\")\n",
    "pna.write(\"DISPlay:WINDow1:TRACe3:FEED 'S21'\")\n",
    "pna.write(\"CALCulate:PARameter:DEFine 'S22',S22\")\n",
    "pna.write(\"DISPlay:WINDow1:TRACe4:FEED 'S22'\")"
   ]
  },
  {
   "cell_type": "code",
   "execution_count": 21,
   "metadata": {
    "collapsed": false
   },
   "outputs": [
    {
     "data": {
      "text/plain": [
       "(23L, <StatusCode.success: 0>)"
      ]
     },
     "execution_count": 21,
     "metadata": {},
     "output_type": "execute_result"
    }
   ],
   "source": [
    "pna.write(\"SENS:SWE:MODE HOLD\")\n",
    "#pna.write(\"TRIG:SOUR MAN\")\n",
    "#pna.write(\"CONT:SIGN BNC,TILHIGH\")\n",
    "#pna.write('TRIG:SCOP ALL')\n",
    "pna.write(\"SENS1:SWE:MODE GROUPS\")"
   ]
  },
  {
   "cell_type": "code",
   "execution_count": 20,
   "metadata": {
    "collapsed": false
   },
   "outputs": [
    {
     "data": {
      "text/plain": [
       "(23L, <StatusCode.success: 0>)"
      ]
     },
     "execution_count": 20,
     "metadata": {},
     "output_type": "execute_result"
    }
   ],
   "source": [
    "pna.write(\"SENS:SWE:MODE HOLD\")\n",
    "pna.write(\"TRIG:SOUR MAN\")\n",
    "pna.write(\"CONT:SIGN BNC,TILHIGH\")"
   ]
  },
  {
   "cell_type": "markdown",
   "metadata": {},
   "source": [
    "```vb\n",
    "Private Sub ReadWrite_Click()\n",
    "Dim i As Integer\n",
    "Dim t As Integer\n",
    "Dim q As Integer\n",
    "Dim dat As String\n",
    "Dim cmd As String\n",
    "Dim datum() As Double\n",
    "GPIB.Configure\n",
    "GPIB.Write \"SYSTem:PRESet;*wai\"\n",
    "'Select the measurement\n",
    "GPIB.Write \"CALCulate:PARameter:SELect 'CH1_S11_1'\"\n",
    "'Read the number of data points\n",
    "GPIB.Write \"SENSe1:SWEep:POIN?\"\n",
    "numpts = GPIB.Read\n",
    "'Turn continuous sweep off\n",
    "GPIB.Write \"INITiate:CONTinuous OFF\"\n",
    "'Take a sweep\n",
    "GPIB.Write \"INITiate:IMMediate;*wai\"\n",
    "'Ask for the Data\n",
    "'PICK ONE OF THESE LOCATIONS TO READ\n",
    "'GPIB.Write \"CALCulate:DATA? FDATA\" 'Formatted Meas\n",
    "'GPIB.Write \"CALCulate:DATA? FMEM\" 'Formatted Memory\n",
    "GPIB.Write \"CALCulate:DATA? SDATA\" 'Corrected, Complex Meas\n",
    "'GPIB.Write \"CALCulate:DATA? SMEM\" 'Corrected, Complex Memory\n",
    "'GPIB.Write \"CALCulate:DATA? SCORR1\" 'Error-Term Directivity\n",
    "'Number of values returned per data point\n",
    "```"
   ]
  },
  {
   "cell_type": "code",
   "execution_count": 23,
   "metadata": {
    "collapsed": false
   },
   "outputs": [],
   "source": [
    "data=pna.query('CALC:DATA? SDATA')"
   ]
  },
  {
   "cell_type": "code",
   "execution_count": 24,
   "metadata": {
    "collapsed": false
   },
   "outputs": [
    {
     "data": {
      "text/plain": [
       "8040"
      ]
     },
     "execution_count": 24,
     "metadata": {},
     "output_type": "execute_result"
    }
   ],
   "source": [
    "len(data)"
   ]
  },
  {
   "cell_type": "code",
   "execution_count": 26,
   "metadata": {
    "collapsed": false
   },
   "outputs": [
    {
     "data": {
      "text/plain": [
       "402"
      ]
     },
     "execution_count": 26,
     "metadata": {},
     "output_type": "execute_result"
    }
   ],
   "source": [
    "len(data.split(','))"
   ]
  },
  {
   "cell_type": "code",
   "execution_count": 28,
   "metadata": {
    "collapsed": false
   },
   "outputs": [
    {
     "data": {
      "text/plain": [
       "u'+201\\n'"
      ]
     },
     "execution_count": 28,
     "metadata": {},
     "output_type": "execute_result"
    }
   ],
   "source": [
    "pna.ask('SENS:SWE:POIN?')"
   ]
  },
  {
   "cell_type": "code",
   "execution_count": 32,
   "metadata": {
    "collapsed": true
   },
   "outputs": [],
   "source": [
    "s11_string=pna.query('CALC:DATA? SDATA')\n",
    "pna.write('CALC:PAR:SEL S12')\n",
    "s12_string=pna.query('CALC:DATA? SDATA')"
   ]
  },
  {
   "cell_type": "code",
   "execution_count": 35,
   "metadata": {
    "collapsed": false
   },
   "outputs": [
    {
     "data": {
      "text/plain": [
       "402"
      ]
     },
     "execution_count": 35,
     "metadata": {},
     "output_type": "execute_result"
    }
   ],
   "source": [
    "len(s11_string.split(','))"
   ]
  },
  {
   "cell_type": "code",
   "execution_count": 36,
   "metadata": {
    "collapsed": false
   },
   "outputs": [
    {
     "data": {
      "text/plain": [
       "['DEFAULT_STATE_QUERY_DICTIONARY',\n",
       " 'STATE_BUFFER_MAX_LENGTH',\n",
       " '__doc__',\n",
       " '__init__',\n",
       " '__module__',\n",
       " '__str__',\n",
       " 'addEntry',\n",
       " 'add_entry',\n",
       " 'alias',\n",
       " 'ask',\n",
       " 'commands',\n",
       " 'current_state',\n",
       " 'description',\n",
       " 'document',\n",
       " 'getImagePath',\n",
       " 'getQueryDictionary',\n",
       " 'getState',\n",
       " 'get_image_path',\n",
       " 'get_query_dictionary',\n",
       " 'get_state',\n",
       " 'idn',\n",
       " 'image',\n",
       " 'info_found',\n",
       " 'info_path',\n",
       " 'instrument_address',\n",
       " 'instrument_type',\n",
       " 'loadState',\n",
       " 'load_state',\n",
       " 'location',\n",
       " 'name',\n",
       " 'nist_tag',\n",
       " 'options',\n",
       " 'path',\n",
       " 'query',\n",
       " 'read',\n",
       " 'resource',\n",
       " 'resource_manager',\n",
       " 'root',\n",
       " 'save',\n",
       " 'saveCurrentState',\n",
       " 'saveHtml',\n",
       " 'saveState',\n",
       " 'save_HTML',\n",
       " 'save_current_state',\n",
       " 'save_state',\n",
       " 'setState',\n",
       " 'set_state',\n",
       " 'show',\n",
       " 'state_buffer',\n",
       " 'toHtml',\n",
       " 'to_HTML',\n",
       " 'updateCurrentState',\n",
       " 'update_current_state',\n",
       " 'write']"
      ]
     },
     "execution_count": 36,
     "metadata": {},
     "output_type": "execute_result"
    }
   ],
   "source": [
    "dir(pna)"
   ]
  },
  {
   "cell_type": "code",
   "execution_count": 37,
   "metadata": {
    "collapsed": false
   },
   "outputs": [
    {
     "data": {
      "text/plain": [
       "'Building 81, D121'"
      ]
     },
     "execution_count": 37,
     "metadata": {},
     "output_type": "execute_result"
    }
   ],
   "source": [
    "pna.location"
   ]
  },
  {
   "cell_type": "code",
   "execution_count": 38,
   "metadata": {
    "collapsed": false
   },
   "outputs": [
    {
     "data": {
      "text/plain": [
       "'E8361A'"
      ]
     },
     "execution_count": 38,
     "metadata": {},
     "output_type": "execute_result"
    }
   ],
   "source": [
    "pna.name"
   ]
  },
  {
   "cell_type": "code",
   "execution_count": 39,
   "metadata": {
    "collapsed": false
   },
   "outputs": [
    {
     "data": {
      "text/plain": [
       "[]"
      ]
     },
     "execution_count": 39,
     "metadata": {},
     "output_type": "execute_result"
    }
   ],
   "source": [
    "pna.commands"
   ]
  },
  {
   "cell_type": "code",
   "execution_count": 12,
   "metadata": {
    "collapsed": false
   },
   "outputs": [
    {
     "ename": "VisaIOError",
     "evalue": "VI_ERROR_CONN_LOST (-1073807194): The connection for the given session has been lost.",
     "output_type": "error",
     "traceback": [
      "\u001b[0;31m---------------------------------------------------------------------------\u001b[0m",
      "\u001b[0;31mVisaIOError\u001b[0m                               Traceback (most recent call last)",
      "\u001b[0;32m<ipython-input-12-d5421d00eacf>\u001b[0m in \u001b[0;36m<module>\u001b[0;34m()\u001b[0m\n\u001b[0;32m----> 1\u001b[0;31m \u001b[0mzva\u001b[0m\u001b[1;33m=\u001b[0m\u001b[0mVisaInstrument\u001b[0m\u001b[1;33m(\u001b[0m\u001b[1;34m\"ZVA110\"\u001b[0m\u001b[1;33m)\u001b[0m\u001b[1;33m\u001b[0m\u001b[0m\n\u001b[0m",
      "\u001b[0;32mC:\\ProgramData\\Anaconda2\\lib\\site-packages\\pyMeasure\\Code\\InstrumentControl\\Instruments.pyc\u001b[0m in \u001b[0;36m__init__\u001b[0;34m(self, resource_name, **options)\u001b[0m\n\u001b[1;32m    195\u001b[0m         \u001b[0mself\u001b[0m\u001b[1;33m.\u001b[0m\u001b[0mresource_manager\u001b[0m\u001b[1;33m=\u001b[0m\u001b[0mvisa\u001b[0m\u001b[1;33m.\u001b[0m\u001b[0mResourceManager\u001b[0m\u001b[1;33m(\u001b[0m\u001b[1;33m)\u001b[0m\u001b[1;33m\u001b[0m\u001b[0m\n\u001b[1;32m    196\u001b[0m         \u001b[1;31m# Call the visa instrument class-- this gives ask,write,read\u001b[0m\u001b[1;33m\u001b[0m\u001b[1;33m\u001b[0m\u001b[0m\n\u001b[0;32m--> 197\u001b[0;31m         \u001b[0mself\u001b[0m\u001b[1;33m.\u001b[0m\u001b[0mresource\u001b[0m\u001b[1;33m=\u001b[0m\u001b[0mself\u001b[0m\u001b[1;33m.\u001b[0m\u001b[0mresource_manager\u001b[0m\u001b[1;33m.\u001b[0m\u001b[0mopen_resource\u001b[0m\u001b[1;33m(\u001b[0m\u001b[0mself\u001b[0m\u001b[1;33m.\u001b[0m\u001b[0minstrument_address\u001b[0m\u001b[1;33m)\u001b[0m\u001b[1;33m\u001b[0m\u001b[0m\n\u001b[0m\u001b[1;32m    198\u001b[0m         \u001b[0mself\u001b[0m\u001b[1;33m.\u001b[0m\u001b[0mcurrent_state\u001b[0m\u001b[1;33m=\u001b[0m\u001b[0mself\u001b[0m\u001b[1;33m.\u001b[0m\u001b[0mget_state\u001b[0m\u001b[1;33m(\u001b[0m\u001b[1;33m)\u001b[0m\u001b[1;33m\u001b[0m\u001b[0m\n\u001b[1;32m    199\u001b[0m \u001b[1;33m\u001b[0m\u001b[0m\n",
      "\u001b[0;32mC:\\ProgramData\\Anaconda2\\lib\\site-packages\\pyvisa\\highlevel.pyc\u001b[0m in \u001b[0;36mopen_resource\u001b[0;34m(self, resource_name, access_mode, open_timeout, resource_pyclass, **kwargs)\u001b[0m\n\u001b[1;32m   1642\u001b[0m                 \u001b[1;32mraise\u001b[0m \u001b[0mValueError\u001b[0m\u001b[1;33m(\u001b[0m\u001b[1;34m'%r is not a valid attribute for type %s'\u001b[0m \u001b[1;33m%\u001b[0m \u001b[1;33m(\u001b[0m\u001b[0mkey\u001b[0m\u001b[1;33m,\u001b[0m \u001b[0mres\u001b[0m\u001b[1;33m.\u001b[0m\u001b[0m__class__\u001b[0m\u001b[1;33m.\u001b[0m\u001b[0m__name__\u001b[0m\u001b[1;33m)\u001b[0m\u001b[1;33m)\u001b[0m\u001b[1;33m\u001b[0m\u001b[0m\n\u001b[1;32m   1643\u001b[0m \u001b[1;33m\u001b[0m\u001b[0m\n\u001b[0;32m-> 1644\u001b[0;31m         \u001b[0mres\u001b[0m\u001b[1;33m.\u001b[0m\u001b[0mopen\u001b[0m\u001b[1;33m(\u001b[0m\u001b[0maccess_mode\u001b[0m\u001b[1;33m,\u001b[0m \u001b[0mopen_timeout\u001b[0m\u001b[1;33m)\u001b[0m\u001b[1;33m\u001b[0m\u001b[0m\n\u001b[0m\u001b[1;32m   1645\u001b[0m \u001b[1;33m\u001b[0m\u001b[0m\n\u001b[1;32m   1646\u001b[0m         \u001b[1;32mfor\u001b[0m \u001b[0mkey\u001b[0m\u001b[1;33m,\u001b[0m \u001b[0mvalue\u001b[0m \u001b[1;32min\u001b[0m \u001b[0mkwargs\u001b[0m\u001b[1;33m.\u001b[0m\u001b[0mitems\u001b[0m\u001b[1;33m(\u001b[0m\u001b[1;33m)\u001b[0m\u001b[1;33m:\u001b[0m\u001b[1;33m\u001b[0m\u001b[0m\n",
      "\u001b[0;32mC:\\ProgramData\\Anaconda2\\lib\\site-packages\\pyvisa\\resources\\resource.pyc\u001b[0m in \u001b[0;36mopen\u001b[0;34m(self, access_mode, open_timeout)\u001b[0m\n\u001b[1;32m    201\u001b[0m         \u001b[0mlogger\u001b[0m\u001b[1;33m.\u001b[0m\u001b[0mdebug\u001b[0m\u001b[1;33m(\u001b[0m\u001b[1;34m'%s - opening ...'\u001b[0m\u001b[1;33m,\u001b[0m \u001b[0mself\u001b[0m\u001b[1;33m.\u001b[0m\u001b[0m_resource_name\u001b[0m\u001b[1;33m,\u001b[0m \u001b[0mextra\u001b[0m\u001b[1;33m=\u001b[0m\u001b[0mself\u001b[0m\u001b[1;33m.\u001b[0m\u001b[0m_logging_extra\u001b[0m\u001b[1;33m)\u001b[0m\u001b[1;33m\u001b[0m\u001b[0m\n\u001b[1;32m    202\u001b[0m         \u001b[1;32mwith\u001b[0m \u001b[0mself\u001b[0m\u001b[1;33m.\u001b[0m\u001b[0m_resource_manager\u001b[0m\u001b[1;33m.\u001b[0m\u001b[0mignore_warning\u001b[0m\u001b[1;33m(\u001b[0m\u001b[0mconstants\u001b[0m\u001b[1;33m.\u001b[0m\u001b[0mVI_SUCCESS_DEV_NPRESENT\u001b[0m\u001b[1;33m)\u001b[0m\u001b[1;33m:\u001b[0m\u001b[1;33m\u001b[0m\u001b[0m\n\u001b[0;32m--> 203\u001b[0;31m             \u001b[0mself\u001b[0m\u001b[1;33m.\u001b[0m\u001b[0msession\u001b[0m\u001b[1;33m,\u001b[0m \u001b[0mstatus\u001b[0m \u001b[1;33m=\u001b[0m \u001b[0mself\u001b[0m\u001b[1;33m.\u001b[0m\u001b[0m_resource_manager\u001b[0m\u001b[1;33m.\u001b[0m\u001b[0mopen_bare_resource\u001b[0m\u001b[1;33m(\u001b[0m\u001b[0mself\u001b[0m\u001b[1;33m.\u001b[0m\u001b[0m_resource_name\u001b[0m\u001b[1;33m,\u001b[0m \u001b[0maccess_mode\u001b[0m\u001b[1;33m,\u001b[0m \u001b[0mopen_timeout\u001b[0m\u001b[1;33m)\u001b[0m\u001b[1;33m\u001b[0m\u001b[0m\n\u001b[0m\u001b[1;32m    204\u001b[0m \u001b[1;33m\u001b[0m\u001b[0m\n\u001b[1;32m    205\u001b[0m             \u001b[1;32mif\u001b[0m \u001b[0mstatus\u001b[0m \u001b[1;33m==\u001b[0m \u001b[0mconstants\u001b[0m\u001b[1;33m.\u001b[0m\u001b[0mVI_SUCCESS_DEV_NPRESENT\u001b[0m\u001b[1;33m:\u001b[0m\u001b[1;33m\u001b[0m\u001b[0m\n",
      "\u001b[0;32mC:\\ProgramData\\Anaconda2\\lib\\site-packages\\pyvisa\\highlevel.pyc\u001b[0m in \u001b[0;36mopen_bare_resource\u001b[0;34m(self, resource_name, access_mode, open_timeout)\u001b[0m\n\u001b[1;32m   1599\u001b[0m         \u001b[1;33m:\u001b[0m\u001b[1;32mreturn\u001b[0m\u001b[1;33m:\u001b[0m \u001b[0mUnique\u001b[0m \u001b[0mlogical\u001b[0m \u001b[0midentifier\u001b[0m \u001b[0mreference\u001b[0m \u001b[0mto\u001b[0m \u001b[0ma\u001b[0m \u001b[0msession\u001b[0m\u001b[1;33m.\u001b[0m\u001b[1;33m\u001b[0m\u001b[0m\n\u001b[1;32m   1600\u001b[0m         \"\"\"\n\u001b[0;32m-> 1601\u001b[0;31m         \u001b[1;32mreturn\u001b[0m \u001b[0mself\u001b[0m\u001b[1;33m.\u001b[0m\u001b[0mvisalib\u001b[0m\u001b[1;33m.\u001b[0m\u001b[0mopen\u001b[0m\u001b[1;33m(\u001b[0m\u001b[0mself\u001b[0m\u001b[1;33m.\u001b[0m\u001b[0msession\u001b[0m\u001b[1;33m,\u001b[0m \u001b[0mresource_name\u001b[0m\u001b[1;33m,\u001b[0m \u001b[0maccess_mode\u001b[0m\u001b[1;33m,\u001b[0m \u001b[0mopen_timeout\u001b[0m\u001b[1;33m)\u001b[0m\u001b[1;33m\u001b[0m\u001b[0m\n\u001b[0m\u001b[1;32m   1602\u001b[0m \u001b[1;33m\u001b[0m\u001b[0m\n\u001b[1;32m   1603\u001b[0m     def open_resource(self, resource_name,\n",
      "\u001b[0;32mC:\\ProgramData\\Anaconda2\\lib\\site-packages\\pyvisa\\ctwrapper\\functions.pyc\u001b[0m in \u001b[0;36mopen\u001b[0;34m(library, session, resource_name, access_mode, open_timeout)\u001b[0m\n\u001b[1;32m   1209\u001b[0m     \u001b[1;31m# [ViSession, ViRsrc, ViAccessMode, ViUInt32, ViPSession]\u001b[0m\u001b[1;33m\u001b[0m\u001b[1;33m\u001b[0m\u001b[0m\n\u001b[1;32m   1210\u001b[0m     \u001b[1;31m# ViRsrc converts from (str, unicode, bytes) to bytes\u001b[0m\u001b[1;33m\u001b[0m\u001b[1;33m\u001b[0m\u001b[0m\n\u001b[0;32m-> 1211\u001b[0;31m     \u001b[0mret\u001b[0m \u001b[1;33m=\u001b[0m \u001b[0mlibrary\u001b[0m\u001b[1;33m.\u001b[0m\u001b[0mviOpen\u001b[0m\u001b[1;33m(\u001b[0m\u001b[0msession\u001b[0m\u001b[1;33m,\u001b[0m \u001b[0mresource_name\u001b[0m\u001b[1;33m,\u001b[0m \u001b[0maccess_mode\u001b[0m\u001b[1;33m,\u001b[0m \u001b[0mopen_timeout\u001b[0m\u001b[1;33m,\u001b[0m \u001b[0mbyref\u001b[0m\u001b[1;33m(\u001b[0m\u001b[0mout_session\u001b[0m\u001b[1;33m)\u001b[0m\u001b[1;33m)\u001b[0m\u001b[1;33m\u001b[0m\u001b[0m\n\u001b[0m\u001b[1;32m   1212\u001b[0m     \u001b[1;32mreturn\u001b[0m \u001b[0mout_session\u001b[0m\u001b[1;33m.\u001b[0m\u001b[0mvalue\u001b[0m\u001b[1;33m,\u001b[0m \u001b[0mret\u001b[0m\u001b[1;33m\u001b[0m\u001b[0m\n\u001b[1;32m   1213\u001b[0m \u001b[1;33m\u001b[0m\u001b[0m\n",
      "\u001b[0;32mC:\\ProgramData\\Anaconda2\\lib\\site-packages\\pyvisa\\ctwrapper\\highlevel.pyc\u001b[0m in \u001b[0;36m_return_handler\u001b[0;34m(self, ret_value, func, arguments)\u001b[0m\n\u001b[1;32m    186\u001b[0m \u001b[1;33m\u001b[0m\u001b[0m\n\u001b[1;32m    187\u001b[0m         \u001b[1;32mif\u001b[0m \u001b[0mret_value\u001b[0m \u001b[1;33m<\u001b[0m \u001b[1;36m0\u001b[0m\u001b[1;33m:\u001b[0m\u001b[1;33m\u001b[0m\u001b[0m\n\u001b[0;32m--> 188\u001b[0;31m             \u001b[1;32mraise\u001b[0m \u001b[0merrors\u001b[0m\u001b[1;33m.\u001b[0m\u001b[0mVisaIOError\u001b[0m\u001b[1;33m(\u001b[0m\u001b[0mret_value\u001b[0m\u001b[1;33m)\u001b[0m\u001b[1;33m\u001b[0m\u001b[0m\n\u001b[0m\u001b[1;32m    189\u001b[0m \u001b[1;33m\u001b[0m\u001b[0m\n\u001b[1;32m    190\u001b[0m         \u001b[1;32mif\u001b[0m \u001b[0mret_value\u001b[0m \u001b[1;32min\u001b[0m \u001b[0mself\u001b[0m\u001b[1;33m.\u001b[0m\u001b[0missue_warning_on\u001b[0m\u001b[1;33m:\u001b[0m\u001b[1;33m\u001b[0m\u001b[0m\n",
      "\u001b[0;31mVisaIOError\u001b[0m: VI_ERROR_CONN_LOST (-1073807194): The connection for the given session has been lost."
     ]
    }
   ],
   "source": [
    "zva=VisaInstrument(\"ZVA110\")"
   ]
  },
  {
   "cell_type": "code",
   "execution_count": 42,
   "metadata": {
    "collapsed": false
   },
   "outputs": [
    {
     "ename": "VisaIOError",
     "evalue": "VI_ERROR_CLOSING_FAILED (-1073807338): The VISA driver failed to properly close the session or object reference. This might be due to an error freeing internal or OS resources, a failed network connection, or a lower-level driver or OS error.",
     "output_type": "error",
     "traceback": [
      "\u001b[0;31m---------------------------------------------------------------------------\u001b[0m",
      "\u001b[0;31mVisaIOError\u001b[0m                               Traceback (most recent call last)",
      "\u001b[0;32m<ipython-input-42-ef434dee44a9>\u001b[0m in \u001b[0;36m<module>\u001b[0;34m()\u001b[0m\n\u001b[0;32m----> 1\u001b[0;31m \u001b[0mpna\u001b[0m\u001b[1;33m.\u001b[0m\u001b[0mresource_manager\u001b[0m\u001b[1;33m.\u001b[0m\u001b[0mclose\u001b[0m\u001b[1;33m(\u001b[0m\u001b[1;33m)\u001b[0m\u001b[1;33m\u001b[0m\u001b[0m\n\u001b[0m",
      "\u001b[0;32mC:\\ProgramData\\Anaconda2\\lib\\site-packages\\pyvisa\\highlevel.pyc\u001b[0m in \u001b[0;36mclose\u001b[0;34m(self)\u001b[0m\n\u001b[1;32m   1546\u001b[0m         \u001b[1;32mtry\u001b[0m\u001b[1;33m:\u001b[0m\u001b[1;33m\u001b[0m\u001b[0m\n\u001b[1;32m   1547\u001b[0m             \u001b[0mlogger\u001b[0m\u001b[1;33m.\u001b[0m\u001b[0mdebug\u001b[0m\u001b[1;33m(\u001b[0m\u001b[1;34m'Closing ResourceManager (session: %s)'\u001b[0m\u001b[1;33m,\u001b[0m \u001b[0mself\u001b[0m\u001b[1;33m.\u001b[0m\u001b[0msession\u001b[0m\u001b[1;33m)\u001b[0m\u001b[1;33m\u001b[0m\u001b[0m\n\u001b[0;32m-> 1548\u001b[0;31m             \u001b[0mself\u001b[0m\u001b[1;33m.\u001b[0m\u001b[0mvisalib\u001b[0m\u001b[1;33m.\u001b[0m\u001b[0mclose\u001b[0m\u001b[1;33m(\u001b[0m\u001b[0mself\u001b[0m\u001b[1;33m.\u001b[0m\u001b[0msession\u001b[0m\u001b[1;33m)\u001b[0m\u001b[1;33m\u001b[0m\u001b[0m\n\u001b[0m\u001b[1;32m   1549\u001b[0m             \u001b[0mself\u001b[0m\u001b[1;33m.\u001b[0m\u001b[0msession\u001b[0m \u001b[1;33m=\u001b[0m \u001b[0mNone\u001b[0m\u001b[1;33m\u001b[0m\u001b[0m\n\u001b[1;32m   1550\u001b[0m             \u001b[0mself\u001b[0m\u001b[1;33m.\u001b[0m\u001b[0mvisalib\u001b[0m\u001b[1;33m.\u001b[0m\u001b[0mresource_manager\u001b[0m \u001b[1;33m=\u001b[0m \u001b[0mNone\u001b[0m\u001b[1;33m\u001b[0m\u001b[0m\n",
      "\u001b[0;32mC:\\ProgramData\\Anaconda2\\lib\\site-packages\\pyvisa\\ctwrapper\\functions.pyc\u001b[0m in \u001b[0;36mclose\u001b[0;34m(library, session)\u001b[0m\n\u001b[1;32m    390\u001b[0m     \u001b[1;33m:\u001b[0m\u001b[0mrtype\u001b[0m\u001b[1;33m:\u001b[0m \u001b[1;33m:\u001b[0m\u001b[1;32mclass\u001b[0m\u001b[1;33m:\u001b[0m\u001b[1;33m`\u001b[0m\u001b[0mpyvisa\u001b[0m\u001b[1;33m.\u001b[0m\u001b[0mconstants\u001b[0m\u001b[1;33m.\u001b[0m\u001b[0mStatusCode\u001b[0m\u001b[1;33m`\u001b[0m\u001b[1;33m\u001b[0m\u001b[0m\n\u001b[1;32m    391\u001b[0m     \"\"\"\n\u001b[0;32m--> 392\u001b[0;31m     \u001b[1;32mreturn\u001b[0m \u001b[0mlibrary\u001b[0m\u001b[1;33m.\u001b[0m\u001b[0mviClose\u001b[0m\u001b[1;33m(\u001b[0m\u001b[0msession\u001b[0m\u001b[1;33m)\u001b[0m\u001b[1;33m\u001b[0m\u001b[0m\n\u001b[0m\u001b[1;32m    393\u001b[0m \u001b[1;33m\u001b[0m\u001b[0m\n\u001b[1;32m    394\u001b[0m \u001b[1;33m\u001b[0m\u001b[0m\n",
      "\u001b[0;32mC:\\ProgramData\\Anaconda2\\lib\\site-packages\\pyvisa\\ctwrapper\\highlevel.pyc\u001b[0m in \u001b[0;36m_return_handler\u001b[0;34m(self, ret_value, func, arguments)\u001b[0m\n\u001b[1;32m    186\u001b[0m \u001b[1;33m\u001b[0m\u001b[0m\n\u001b[1;32m    187\u001b[0m         \u001b[1;32mif\u001b[0m \u001b[0mret_value\u001b[0m \u001b[1;33m<\u001b[0m \u001b[1;36m0\u001b[0m\u001b[1;33m:\u001b[0m\u001b[1;33m\u001b[0m\u001b[0m\n\u001b[0;32m--> 188\u001b[0;31m             \u001b[1;32mraise\u001b[0m \u001b[0merrors\u001b[0m\u001b[1;33m.\u001b[0m\u001b[0mVisaIOError\u001b[0m\u001b[1;33m(\u001b[0m\u001b[0mret_value\u001b[0m\u001b[1;33m)\u001b[0m\u001b[1;33m\u001b[0m\u001b[0m\n\u001b[0m\u001b[1;32m    189\u001b[0m \u001b[1;33m\u001b[0m\u001b[0m\n\u001b[1;32m    190\u001b[0m         \u001b[1;32mif\u001b[0m \u001b[0mret_value\u001b[0m \u001b[1;32min\u001b[0m \u001b[0mself\u001b[0m\u001b[1;33m.\u001b[0m\u001b[0missue_warning_on\u001b[0m\u001b[1;33m:\u001b[0m\u001b[1;33m\u001b[0m\u001b[0m\n",
      "\u001b[0;31mVisaIOError\u001b[0m: VI_ERROR_CLOSING_FAILED (-1073807338): The VISA driver failed to properly close the session or object reference. This might be due to an error freeing internal or OS resources, a failed network connection, or a lower-level driver or OS error."
     ]
    }
   ],
   "source": [
    "pna.resource_manager.close()"
   ]
  },
  {
   "cell_type": "code",
   "execution_count": 4,
   "metadata": {
    "collapsed": false
   },
   "outputs": [
    {
     "data": {
      "text/plain": [
       "'Rohde&Schwarz,ZVA67-4Port,1312700403101122,3.80'"
      ]
     },
     "execution_count": 4,
     "metadata": {},
     "output_type": "execute_result"
    }
   ],
   "source": [
    "zva.idn"
   ]
  },
  {
   "cell_type": "code",
   "execution_count": 7,
   "metadata": {
    "collapsed": false
   },
   "outputs": [],
   "source": [
    "zva_2=VNA(\"ZVA\")"
   ]
  },
  {
   "cell_type": "code",
   "execution_count": 8,
   "metadata": {
    "collapsed": true
   },
   "outputs": [],
   "source": [
    "zva_2.initialize()"
   ]
  },
  {
   "cell_type": "code",
   "execution_count": 9,
   "metadata": {
    "collapsed": false
   },
   "outputs": [
    {
     "data": {
      "text/plain": [
       "{'SENS:AVER': u'0',\n",
       " 'SENS:BAND': u'10000',\n",
       " 'SENS:CORR:STAT': u'1',\n",
       " 'SENS:SWE:TYPE': u'LIN',\n",
       " 'SOUR:POW': u'-10',\n",
       " 'SOUR:POW:CORR:STAT': u'0',\n",
       " 'SOUR:POW:SLOP': u'0'}"
      ]
     },
     "execution_count": 9,
     "metadata": {},
     "output_type": "execute_result"
    }
   ],
   "source": [
    "zva.get_state()"
   ]
  },
  {
   "cell_type": "code",
   "execution_count": 11,
   "metadata": {
    "collapsed": true
   },
   "outputs": [],
   "source": [
    "zva.save_current_state()"
   ]
  },
  {
   "cell_type": "code",
   "execution_count": null,
   "metadata": {
    "collapsed": true
   },
   "outputs": [],
   "source": [
    "class InstrumentState(XMLBase):\n",
    "    \"\"\" An instrument state is an XML file with instrument setting information\"\"\"\n",
    "    def __init__(self,file_path=None,**options):\n",
    "        \"\"\" Intialize the InstrumentState class\"\"\"\n",
    "        defaults={\"root\":\"Instrument_State\",\n",
    "                  \"style_sheet\":os.path.join(XSLT_REPOSITORY,\n",
    "                                             'DEFAULT_STATE_STYLE.xsl').replace('\\\\','/'),\n",
    "                  \"specific_descriptor\":'Instrument',\n",
    "                  \"general_descriptor\":'State',\n",
    "                  \"directory\":None,\n",
    "                  \"extension\":'xml',\n",
    "                  \"date\":\"now\",\n",
    "                  \"state_dictionary\":None\n",
    "                  }\n",
    "        self.options={}\n",
    "        for key,value in defaults.iteritems():\n",
    "            self.options[key]=value\n",
    "        for key,value in options.iteritems():\n",
    "            self.options[key]=value\n",
    "\n",
    "\n",
    "        XMLBase.__init__(self,file_path,**self.options)\n",
    "        state_node=self.document.createElement('State')\n",
    "        self.document.documentElement.appendChild(state_node)\n",
    "        # This should be in State_Description as State_Timestamp?\n",
    "        if self.options[\"date\"] in ['now']:\n",
    "            # Add the Date attribute, this is the time when the state was created\n",
    "            date=datetime.datetime.utcnow().isoformat()\n",
    "            Date_attribute=self.document.createAttribute('Date')\n",
    "            state_node.setAttributeNode(Date_attribute)\n",
    "            state_node.setAttribute('Date',str(date))\n",
    "        if self.options[\"state_dictionary\"]:\n",
    "            for key,value in self.options[\"state_dictionary\"].iteritems():\n",
    "                new_entry=self.document.createElement('Tuple')\n",
    "                set_attribute=self.document.createAttribute('Set')\n",
    "                value_attribute=self.document.createAttribute('Value')\n",
    "                new_entry.setAttributeNode(set_attribute)\n",
    "                new_entry.setAttributeNode(value_attribute)\n",
    "                new_entry.setAttribute('Set',key)\n",
    "                new_entry.setAttribute('Value',str(value))\n",
    "                state_node.appendChild(new_entry)\n",
    "        # this is not the most direct way to define it but it is the most robust I think\n",
    "        self.state_node=self.document.getElementsByTagName('State')[0]\n",
    "        self.state_dictionary=dict([(str(node.getAttribute('Set')),\n",
    "        node.getAttribute('Value')) for node in \\\n",
    "        self.state_node.getElementsByTagName('Tuple')])\n",
    "\n",
    "    def add_state_description(self,description):\n",
    "        \"\"\"Adds the tag named State_Description and its information\n",
    "        Currently data can be entered as a dictionary of the form {'State_Description':{tag_name:tag_value}}\n",
    "        or as an element or as a string\"\"\"\n",
    "        try:\n",
    "            new_element=''\n",
    "            if type(description) is DictionaryType:\n",
    "                for key,value in description.iteritems():\n",
    "                    # This hanldes Tag:Text dictionaries\n",
    "                    if re.search('Description',key):\n",
    "                        new_element=self.document.createElement(key)\n",
    "                        for tag,element_text in value.iteritems():\n",
    "                            new_tag=self.document.createElement(tag)\n",
    "                            new_text=self.document.createTextNode(element_text)\n",
    "                            new_tag.appendChild(new_text)\n",
    "                            new_element.appendChild(new_tag)\n",
    "            elif type(description) is StringType:\n",
    "                new_element=self.document.createElement('State_Description')\n",
    "                new_text=self.document.createTextNode(str(description))\n",
    "                new_element.appendChild(new_text)\n",
    "            elif type(description) is InstanceType:\n",
    "                new_element=description\n",
    "            #first_child=self.document.documentElement.firstChild\n",
    "\n",
    "            self.document.documentElement.insertBefore(new_element,self.document.documentElement.childNodes[0])\n",
    "        except:\n",
    "            raise\n",
    "\n",
    "    def get_timestamp(self):\n",
    "        \"\"\"Tries to return the timestamp stored as an attribute date in the tag State\"\"\"\n",
    "        # Take the first thing called Image\n",
    "        state_node = self.document.getElementsByTagName('State')[0]\n",
    "        timestamp = state_node.getAttribute('Date')\n",
    "        return timestamp\n"
   ]
  },
  {
   "cell_type": "markdown",
   "metadata": {},
   "source": [
    "```xml\n",
    "<Instrument_State>\n",
    "<State_Description>\n",
    "<State_Timestamp></State_Timestamp>\n",
    "<Instrument_Sheet></Instrument_Sheet>\n",
    "</State_Description>\n",
    "<State>\n",
    "<Tuple Set=\"\" Query=\"\" Value=\"\"/>\n",
    "</State>\n",
    "</Instrument_State>\n",
    "```"
   ]
  },
  {
   "cell_type": "code",
   "execution_count": null,
   "metadata": {
    "collapsed": true
   },
   "outputs": [],
   "source": [
    "class DataTable(XMLBase):\n",
    "    \"\"\" This is a XML data table class with an optional description\"\"\"\n",
    "    def __init__(self,file_path=None,**options):\n",
    "        \"\"\" Intializes the DataTable Class. Passing **{'data_table':[mylist]} Returns a\n",
    "        table with x1 and x2 as column names. Passing **{'data_dictionary':{'Data_Description':{'Tag':'Text',etc},\n",
    "        'Data':[{'x':1,'y':2},{'x':2,'y':3}]\n",
    "         \"\"\"\n",
    "        # the general idea is <Data_Description/><Data><Tuple i=''/></Data>\n",
    "\n",
    "        # This is a general pattern for adding a lot of options\n",
    "        # The next more advanced thing to do is retrieve defaults from a settings file\n",
    "        defaults={\"root\":\"Data_Table\",\n",
    "                  \"style_sheet\":os.path.join(XSLT_REPOSITORY,'DEFAULT_MEASUREMENT_STYLE.xsl').replace('\\\\','/'),\n",
    "                  \"specific_descriptor\":'Data',\n",
    "                  \"general_descriptor\":'Table',\n",
    "                  \"directory\":None,\n",
    "                  \"extension\":'xml'\n",
    "                  }\n",
    "        self.options={}\n",
    "        for key,value in defaults.iteritems():\n",
    "            self.options[key]=value\n",
    "        for key,value in options.iteritems():\n",
    "            self.options[key]=value\n",
    "        XMLBase.__init__(self,file_path,**self.options)\n",
    "\n",
    "        try:\n",
    "            data_table=self.options['data_table']\n",
    "            if len(data_table)>0:\n",
    "                data_node=self.list_to_XML(data_table)\n",
    "                self.document.documentElement.appendChild(data_node)\n",
    "        except: pass\n",
    "        try:\n",
    "            data_dictionary=self.options['data_dictionary']\n",
    "            if len(data_dictionary)>0:\n",
    "                for key,value in data_dictionary.iteritems():\n",
    "                    # This hanldes Tag:Text dictionaries\n",
    "                    if re.search('description',key,re.IGNORECASE):\n",
    "                        #This is the flat dictionary handling code {\"Data_Description:{key:value}}\n",
    "                        #Need one that is {\"Data_Description\":{\"Context\":{key:value}}}\n",
    "                        new_entry=self.document.createElement(key)\n",
    "                        for tag,element_text in value.iteritems():\n",
    "                            if type(element_text) is DictionaryType:\n",
    "                                new_tag=self.document.createElement(tag)\n",
    "                                new_entry.appendChild(new_tag)\n",
    "                                for inner_tag,inner_element_text in element_text.iteritems():\n",
    "                                    new_inner_tag=self.document.createElement(inner_tag)\n",
    "                                    new_inner_text=self.document.createTextNode(inner_element_text)\n",
    "                                    new_inner_tag.appendChild(new_inner_text)\n",
    "                                    new_tag.appendChild(new_inner_tag)\n",
    "                            else:\n",
    "                                new_tag=self.document.createElement(tag)\n",
    "                                new_text=self.document.createTextNode(element_text)\n",
    "                                new_tag.appendChild(new_text)\n",
    "                                new_entry.appendChild(new_tag)\n",
    "                        self.document.documentElement.appendChild(new_entry)\n",
    "                    if re.search('data',key,re.IGNORECASE) and not re.search('Description',key,re.IGNORECASE):\n",
    "                        new_entry=self.list_to_XML(value)\n",
    "                        self.document.documentElement.appendChild(new_entry)\n",
    "        except:pass\n",
    "        self.attribute_names=self.get_attribute_names()\n",
    "        node_list=self.document.getElementsByTagName('Tuple')\n",
    "        self.data=[[node.getAttribute(attribute_name) for\n",
    "            attribute_name in self.attribute_names] for node in node_list]\n",
    "\n",
    "    def list_to_XML(self,data_list):\n",
    "        \"\"\" Converts a list to XML document\"\"\"\n",
    "        data_node=self.document.createElement('Data')\n",
    "        #self.document.documentElement.appendChild(data_node)\n",
    "        for row in data_list:\n",
    "            if type(row) in [ListType,TupleType]:\n",
    "                new_entry=self.document.createElement('Tuple')\n",
    "                for j,datum in enumerate(row):\n",
    "                    x_attribute=self.document.createAttribute('X%s'%j)\n",
    "                    new_entry.setAttributeNode(x_attribute)\n",
    "                    new_entry.setAttribute('X%s'%j,str(datum))\n",
    "                data_node.appendChild(new_entry)\n",
    "            elif type(row) is DictionaryType:\n",
    "                new_entry=self.document.createElement('Tuple')\n",
    "                for key,datum in row.iteritems():\n",
    "                    x_attribute=self.document.createAttribute(key)\n",
    "                    new_entry.setAttributeNode(x_attribute)\n",
    "                    new_entry.setAttribute(key,str(datum))\n",
    "                data_node.appendChild(new_entry)\n",
    "        return data_node\n",
    "\n",
    "    def get_attribute_names(self):\n",
    "        \"\"\" Returns the attribute names in the first tuple element in the 'data' element \"\"\"\n",
    "        attribute_names=[]\n",
    "        data_nodes=self.document.getElementsByTagName('Data')\n",
    "        first_tuple_node=data_nodes[0].childNodes[1]\n",
    "        text=first_tuple_node.toprettyxml()\n",
    "        text_list=text.split(' ')\n",
    "        #print text_list\n",
    "        for item in text_list:\n",
    "            try:\n",
    "                match=re.search('(?P<attribute_name>\\w+)=',item)\n",
    "                name=match.group('attribute_name')\n",
    "                #print name\n",
    "                attribute_names.append(name)\n",
    "            except:pass\n",
    "        return attribute_names\n",
    "\n",
    "    def to_list(self,attribute_name):\n",
    "        \"\"\" Outputs the data as a list given a data column (attribute) name\"\"\"\n",
    "        try:\n",
    "            node_list=self.document.getElementsByTagName('Tuple')\n",
    "            data_list=[node.getAttribute(attribute_name) for node in node_list]\n",
    "            return data_list\n",
    "        except:\n",
    "            return None\n",
    "\n",
    "    def to_tuple_list(self,attribute_names=None):\n",
    "        \"\"\" Returns a list of tuples for the specified list of attribute names\"\"\"\n",
    "        if not attribute_names:\n",
    "            attribute_names=self.get_attribute_names()\n",
    "        try:\n",
    "            node_list=self.document.getElementsByTagName('Tuple')\n",
    "            data_list=[tuple([node.getAttribute(attribute_name) for\n",
    "            attribute_name in attribute_names]) for node in node_list]\n",
    "            return data_list\n",
    "        except:\n",
    "            return None\n",
    "\n",
    "    def get_header(self,style='txt'):\n",
    "        \"\"\" Returns a header from the data description if there is one\"\"\"\n",
    "        try:\n",
    "            node_list=self.document.getElementsByTagName('Data_Description')\n",
    "            data_description=node_list[0]\n",
    "            out=''\n",
    "            if style in ['txt','text','ascii']:\n",
    "                for child in data_description.childNodes:\n",
    "                    try:\n",
    "                        out=out+'%s: %s'%(child.nodeName,child.firstChild.nodeValue)+'\\n'\n",
    "                    except:pass\n",
    "                return out\n",
    "            elif re.search('xml',style,flags=re.IGNORECASE):\n",
    "                out=data_description.toprettyxml()\n",
    "                return out\n",
    "        except:\n",
    "            raise\n"
   ]
  }
 ],
 "metadata": {
  "kernelspec": {
   "display_name": "Python 2",
   "language": "python",
   "name": "python2"
  },
  "language_info": {
   "codemirror_mode": {
    "name": "ipython",
    "version": 2
   },
   "file_extension": ".py",
   "mimetype": "text/x-python",
   "name": "python",
   "nbconvert_exporter": "python",
   "pygments_lexer": "ipython2",
   "version": "2.7.13"
  }
 },
 "nbformat": 4,
 "nbformat_minor": 2
}
