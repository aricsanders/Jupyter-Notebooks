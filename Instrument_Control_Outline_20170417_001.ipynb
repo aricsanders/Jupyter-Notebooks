{
 "cells": [
  {
   "cell_type": "markdown",
   "metadata": {},
   "source": [
    "# Instrument Control Outline\n",
    "\n",
    "1. The unique naming of instruments\n",
    "2. Definition of an InstrumentSheet\n",
    "3. Inherit from VisaInstrument\n",
    "4. The behavior of the method intialize()\n",
    "5. Configuration Settings (set/get)\n",
    "6. Measurement (measure)"
   ]
  },
  {
   "cell_type": "markdown",
   "metadata": {},
   "source": [
    "## Naming of Instruments\n",
    "\n",
    "Manufacturer_Model_RoomNumber_Iterator<br/>\n",
    "ex:<br/>\n",
    "RS_ZVA110_4639_001<br/>\n",
    "Keysight_E8361A_4639_001"
   ]
  },
  {
   "cell_type": "markdown",
   "metadata": {},
   "source": [
    "## Defining an InstrumentSheet\n"
   ]
  },
  {
   "cell_type": "markdown",
   "metadata": {},
   "source": [
    "## Inherit from VisaInstrument class\n",
    "```python\n",
    "class E8361A(VisaInstrument):\n",
    "    pass\n",
    "```\n",
    "\n",
    "This gives the methods\n",
    "+ set_state\n",
    "+ get_state\n",
    "+ load_state\n",
    "+ read\n",
    "+ write \n",
    "+ ask and query (same command)\n",
    "\n",
    "and automatically populates any static metadata fields from the InstrumentSheet\n"
   ]
  },
  {
   "cell_type": "markdown",
   "metadata": {},
   "source": [
    "## All specific instruments should have an intialize method\n",
    "```python\n",
    "vna=E8631(\"Keysight_E361A_4639_001\")\n",
    "vna.initialize()\n",
    "```"
   ]
  },
  {
   "cell_type": "markdown",
   "metadata": {},
   "source": [
    "## Configuration Commands\n",
    "Commands that change the state fo the instrument but do not take a measurement should be named set_configuration and ones that read it should be get_configuration. These commands should take either numeric types or strings, the units should be specified in the doc string of the method.\n",
    "\n",
    "```python\n",
    "vna.set_IFBW(10)\n",
    "vna.get_IFBW()\n",
    "vna.set_power('0')\n",
    "```"
   ]
  },
  {
   "cell_type": "markdown",
   "metadata": {},
   "source": [
    "## Measurement Commands\n",
    "Commands that take a measurement and return something should be named using measure_typeofmeasurement\n",
    "```python\n",
    "sparameters=vna.measure_sparameters()\n",
    "new_power_reading=power_meter.measure_power()\n",
    "```"
   ]
  },
  {
   "cell_type": "code",
   "execution_count": 1,
   "metadata": {
    "collapsed": false
   },
   "outputs": [
    {
     "name": "stdout",
     "output_type": "stream",
     "text": [
      "Importing Code.Analysis.Fitting\n",
      "It took 11.96 s to import Code.Analysis.Fitting\n",
      "Importing Code.Analysis.SParameter\n",
      "The module smithplot was not found,please put it on the python path\n",
      "It took 15.298 s to import Code.Analysis.SParameter\n",
      "Importing Code.DataHandlers.GeneralModels\n",
      "It took 0.013 s to import Code.DataHandlers.GeneralModels\n",
      "Importing Code.DataHandlers.GraphModels\n",
      "It took 0.013 s to import Code.DataHandlers.GraphModels\n",
      "Importing Code.DataHandlers.HTMLModels\n",
      "It took 0.004 s to import Code.DataHandlers.HTMLModels\n",
      "Importing Code.DataHandlers.MUFModels\n",
      "It took 0.006 s to import Code.DataHandlers.MUFModels\n",
      "Importing Code.DataHandlers.NISTModels\n",
      "It took 0.006 s to import Code.DataHandlers.NISTModels\n",
      "Importing Code.DataHandlers.StatistiCALModels\n",
      "It took 0.004 s to import Code.DataHandlers.StatistiCALModels\n",
      "Importing Code.DataHandlers.TouchstoneModels\n",
      "The module smithplot was not found,please put it on the python path\n",
      "It took 0.038 s to import Code.DataHandlers.TouchstoneModels\n",
      "Importing Code.DataHandlers.Translations\n",
      "It took 0.012 s to import Code.DataHandlers.Translations\n",
      "Importing Code.DataHandlers.XMLModels\n",
      "It took 0.007 s to import Code.DataHandlers.XMLModels\n",
      "Importing Code.DataHandlers.ZipModels\n",
      "It took 0.013 s to import Code.DataHandlers.ZipModels\n",
      "Importing Code.InstrumentControl.Experiments\n",
      "It took 0.24 s to import Code.InstrumentControl.Experiments\n",
      "Importing Code.InstrumentControl.Instruments\n",
      "It took 0.008 s to import Code.InstrumentControl.Instruments\n",
      "Importing Code.Utils.Names\n",
      "It took 0.008 s to import Code.Utils.Names\n",
      "It took 27.63 s to import all of the active modules\n"
     ]
    }
   ],
   "source": [
    "from pyMeasure import *"
   ]
  },
  {
   "cell_type": "code",
   "execution_count": 2,
   "metadata": {
    "collapsed": true
   },
   "outputs": [],
   "source": [
    "import time"
   ]
  },
  {
   "cell_type": "code",
   "execution_count": 118,
   "metadata": {
    "collapsed": true
   },
   "outputs": [],
   "source": [
    "class VNA(VisaInstrument):\n",
    "    \"\"\"Control class for Keysight E8631A PNA \"\"\"\n",
    "    def __init__(self,resource_name=None,**options):\n",
    "        \"\"\"Initializes the E8631A control class\"\"\"\n",
    "        defaults={\"state_directory\":os.getcwd()}\n",
    "        self.options={}\n",
    "        for key,value in defaults.iteritems():\n",
    "            self.options[key]=value\n",
    "        for key,value in options.iteritems():\n",
    "            self.options[key]=value\n",
    "        VisaInstrument.__init__(self,resource_name,**self.options)\n",
    "        self.power=self.get_power()\n",
    "        self.IFBW=self.get_IFBW()\n",
    "        #this should be if SENS:SWE:TYPE? is LIN or LOG\n",
    "        start=float(self.query(\"SENS:FREQ:START?\").replace(\"\\n\",\"\"))\n",
    "        stop=float(self.query(\"SENS:FREQ:STOP?\").replace(\"\\n\",\"\"))\n",
    "        number_points=int(self.query(\"SENS:SWE:POIN?\").replace(\"\\n\",\"\"))\n",
    "        self.frequency_list=np.linspace(start,stop,number_points).tolist()\n",
    "\n",
    "    def initialize(self):\n",
    "        \"\"\"Intializes the system\"\"\"\n",
    "        self.write(\"SYST:FPRESET\")\n",
    "        self.write(\"DISPlay:WINDow1:STATE ON\")\n",
    "        self.write(\"CALCulate:PARameter:DEFine 'S11',S11\")\n",
    "        self.write(\"DISPlay:WINDow1:TRACe1:FEED 'S11'\")\n",
    "        self.write(\"CALCulate:PARameter:DEFine 'S12',S12\")\n",
    "        self.write(\"DISPlay:WINDow1:TRACe2:FEED 'S12'\")\n",
    "        self.write(\"CALCulate:PARameter:DEFine 'S21',S21\")\n",
    "        self.write(\"DISPlay:WINDow1:TRACe3:FEED 'S21'\")\n",
    "        self.write(\"CALCulate:PARameter:DEFine 'S22',S22\")\n",
    "        self.write(\"DISPlay:WINDow1:TRACe4:FEED 'S22'\")\n",
    "        start=float(self.query(\"SENS:FREQ:START?\").replace(\"\\n\",\"\"))\n",
    "        stop=float(self.query(\"SENS:FREQ:STOP?\").replace(\"\\n\",\"\"))\n",
    "        number_points=int(self.query(\"SENS:SWE:POIN?\").replace(\"\\n\",\"\"))\n",
    "        self.frequency_list=np.linspace(start,stop,number_points).tolist()\n",
    "\n",
    "        \n",
    "    def set_power(self,power):\n",
    "        \"\"\"Sets the power of the Instrument in dbm\"\"\"\n",
    "        self.write('SOUR:POW {0}'.format(power))\n",
    "        \n",
    "    def get_power(self):\n",
    "        \"Returns the power of the instrument in dbm\"\n",
    "        return self.query('SOUR:POW?')\n",
    "    \n",
    "    def set_IFBW(self,ifbw):\n",
    "        \"\"\"Sets the IF Bandwidth of the instrument in Hz\"\"\"\n",
    "        self.write('SENS:BAND {0}'.format(ifbw))\n",
    "        self.IFBW=ifbw\n",
    "        \n",
    "    def get_IFBW(self):\n",
    "        \"\"\"Returns the IFBW of the instrument in Hz\"\"\"\n",
    "        ifbw=float(self.query('SENS:BAND?'))\n",
    "        self.IFBW=ifbw\n",
    "        return ifbw\n",
    "    \n",
    "    def set_frequency(self,start,stop=None,number_points=None,step=None,units='Hz'):\n",
    "        \"\"\"Sets the VNA to a linear mode and creates a single entry in the frequency table. If start is the only specified\n",
    "        parameter sets the entry to start=stop and number_points = 1. If step is specified calculates the number of points \n",
    "        and sets start, stop, number_points on the VNA. It also stores the value into the attribute frequency_list. \n",
    "        \"\"\"\n",
    "        if stop is None and number_points is None:\n",
    "            stop=start\n",
    "            number_points=1\n",
    "        if number_points is None and not step is None:\n",
    "            number_points = round((stop-start)/step) + 1\n",
    "        self.frequency_list=np.linspace(start,stop,number_points).tolist()\n",
    "        self.write('SWE:TYPE LIN')\n",
    "        self.write(\"SENS:FREQ:START {0}\".format(start))\n",
    "        self.write(\"SENS:FREQ:STOP {0}\".format(stop))\n",
    "        self.write(\"SENS:SWE:POIN {0}\".format(number_points))\n",
    "        \n",
    "    def get_frequency(self):\n",
    "        \"Returns the frequency in python list format\"\n",
    "        return self.frequency_list\n",
    "    \n",
    "    def is_busy(self):\n",
    "        \"\"\"Checks if the instrument is currently doing something and returns a boolean value\"\"\"\n",
    "        opc=bool(self.resource.query(\"*OPC?\"))\n",
    "        return not opc\n",
    "    \n",
    "    def measure_switch_terms(self,**options):\n",
    "        \"\"\"Measures switch terms and returns a table\"\"\"\n",
    "        defaults={}\n",
    "        self.measure_switch_term_options={}\n",
    "        for key,value in defaults.iteritems():\n",
    "            self.measure_switch_term_options[key]=value\n",
    "        for key,value in options:\n",
    "            self.measure_switch_term_options[key]=value\n",
    "        # this resets the traces to be based on swith terms\n",
    "        # Trace 1 This is port 2 or Forward Switch Terms \n",
    "        self.write(\":PAR1:DEF USR,A2,B2 Port1\")\n",
    "        self.write(\":PAR1:FORM REIM\")\n",
    "        # Trace 2 This is port 1 or Reverse Switch Terms \n",
    "        self.write(\":PAR2:DEF USR,A1,B1 Port2\")\n",
    "        self.write(\":PAR2:FORM REIM\")\n",
    "        # Select Channel\n",
    "        self.write(\"CALC1:SEL\")\n",
    "        \n",
    "        \n",
    "        \n",
    "    def measure_sparameters(self,**options):\n",
    "        \"\"\"Triggers a single sparameter measurement for all 4 parameters and returns a SP2V1 object\"\"\"\n",
    "        defaults={\"trigger\":\"single\"}\n",
    "        self.measure_sparameter_options={}\n",
    "        for key,value in defaults.iteritems():\n",
    "            self.measure_sparameter_options[key]=value\n",
    "        for key,value in options:\n",
    "            self.measure_sparameter_options[key]=value\n",
    "        if self.measure_sparameter_options[\"trigger\"] in [\"single\"]:\n",
    "            self.write(\"INITiate:CONTinuous OFF\")\n",
    "            self.write(\"ABORT;INITiate:IMMediate;*wai\")\n",
    "            # now go to sleep for the time to take the scan\n",
    "            time.sleep(len(self.frequency_list)*2/float(self.IFBW))\n",
    "            \n",
    "        # wait for other functions to be completed\n",
    "        while self.is_busy():\n",
    "            time.sleep(.01)\n",
    "        # Set the format to ascii and set up sweep definitions\n",
    "        self.write('FORM:ASCII')\n",
    "        # First get the Sparameter lists\n",
    "        self.write('CALC:PAR:SEL S11')\n",
    "        self.write('CALC:FORM MLIN')\n",
    "        while self.is_busy():\n",
    "            time.sleep(.01)\n",
    "        s11_string=self.query('CALC:DATA? SDATA')\n",
    "        \n",
    "        self.write('CALC:PAR:SEL S12')\n",
    "        self.write('CALC:FORM MLIN')\n",
    "        while self.is_busy():\n",
    "            time.sleep(.01)\n",
    "        s12_string=self.query('CALC:DATA? SDATA')\n",
    "        self.write('CALC:PAR:SEL S21')\n",
    "        self.write('CALC:FORM MLIN')\n",
    "        while self.is_busy():\n",
    "            time.sleep(.01)\n",
    "        s21_string=self.query('CALC:DATA? SDATA')\n",
    "        self.write('CALC:PAR:SEL S22')\n",
    "        self.write('CALC:FORM MLIN')\n",
    "        while self.is_busy():\n",
    "            time.sleep(.01)\n",
    "        s22_string=self.query('CALC:DATA? SDATA')\n",
    "        # String Parsing\n",
    "        s11_list=s11_string.replace(\"\\n\",\"\").split(\",\")\n",
    "        s12_list=s12_string.replace(\"\\n\",\"\").split(\",\")\n",
    "        s21_list=s21_string.replace(\"\\n\",\"\").split(\",\")\n",
    "        s22_list=s22_string.replace(\"\\n\",\"\").split(\",\")\n",
    "        # Construct a list of lists that is data in RI format\n",
    "        reS11=s11_list[0::2]\n",
    "        imS11=s11_list[1::2]\n",
    "        reS12=s12_list[0::2]\n",
    "        imS12=s12_list[1::2]\n",
    "        reS21=s21_list[0::2]\n",
    "        imS21=s21_list[1::2]\n",
    "        reS22=s22_list[0::2]\n",
    "        imS22=s22_list[1::2]\n",
    "        sparameter_data=[]\n",
    "        for index,frequency in enumerate(self.frequency_list[:]):\n",
    "            new_row=[frequency,\n",
    "                     reS11[index],imS11[index],\n",
    "                     reS21[index],imS21[index],\n",
    "                     reS12[index],imS12[index],\n",
    "                     reS22[index],imS22[index]]\n",
    "            sparameter_data.append(new_row)\n",
    "        option_line=\"# Hz S RI R 50\"\n",
    "        # add some options here about auto saving \n",
    "        # do we want comment options?\n",
    "        s2p=S2PV1(None,option_line=option_line,data=sparameter_data)\n",
    "        return s2p\n",
    "        \n",
    "            "
   ]
  },
  {
   "cell_type": "code",
   "execution_count": 63,
   "metadata": {
    "collapsed": false
   },
   "outputs": [],
   "source": [
    "vna=VNA(\"ZVA110\")"
   ]
  },
  {
   "cell_type": "code",
   "execution_count": 64,
   "metadata": {
    "collapsed": false
   },
   "outputs": [
    {
     "data": {
      "text/plain": [
       "{'SENS:AVER': u'0',\n",
       " 'SENS:BAND': u'10000',\n",
       " 'SENS:CORR:STAT': u'1',\n",
       " 'SENS:SWE:TYPE': u'LIN',\n",
       " 'SOUR:POW': u'-10',\n",
       " 'SOUR:POW:CORR:STAT': u'0',\n",
       " 'SOUR:POW:SLOP': u'0'}"
      ]
     },
     "execution_count": 64,
     "metadata": {},
     "output_type": "execute_result"
    }
   ],
   "source": [
    "vna.get_state()"
   ]
  },
  {
   "cell_type": "code",
   "execution_count": 60,
   "metadata": {
    "collapsed": false
   },
   "outputs": [
    {
     "name": "stdout",
     "output_type": "stream",
     "text": [
      "1\n",
      "\n"
     ]
    }
   ],
   "source": [
    "vna.set_frequency(3*10**8,50*10**9,1000)\n",
    "print vna.query(\"*OPC?\")\n",
    "s2p=vna.measure_sparameters()"
   ]
  },
  {
   "cell_type": "code",
   "execution_count": 62,
   "metadata": {
    "collapsed": true
   },
   "outputs": [],
   "source": [
    "vna.resource_manager.close()"
   ]
  },
  {
   "cell_type": "code",
   "execution_count": 133,
   "metadata": {
    "collapsed": false
   },
   "outputs": [],
   "source": [
    "s2p.change_frequency_units(\"GHz\")\n",
    "s2p.change_data_format(\"RI\")"
   ]
  },
  {
   "cell_type": "code",
   "execution_count": 134,
   "metadata": {
    "collapsed": false
   },
   "outputs": [
    {
     "name": "stdout",
     "output_type": "stream",
     "text": [
      "# GHz S RI R 50\n",
      "0.01  1.202  -0.275  -0.000646  0.0002206  0.0002091  -0.0005692  0.3152  -0.6769\n",
      "0.345  -0.7546  0.5605  -2.145e-06  8.914e-06  -8.751e-07  -1.778e-05  0.7707  -0.3937\n",
      "0.6799  0.5259  -0.7619  1.773e-06  9.839e-07  3.134e-08  -4.84e-06  0.8207  -0.2467\n",
      "1.015  -0.2701  0.8583  -1.464e-06  3.41e-06  1.238e-06  7.112e-06  0.7753  -0.178\n",
      "1.35  -0.1142  -0.9036  -1.744e-06  -7.52e-06  -1.256e-06  3.845e-06  0.809  -0.1248\n",
      "1.685  0.417  0.9095  4.476e-06  -3.479e-07  4.17e-06  -4.976e-06  0.7723  0.0857\n",
      "2.02  -0.6137  -0.7702  -2.824e-06  4.985e-06  9.882e-06  8.411e-07  0.8049  0.02751\n",
      "2.355  0.7654  0.4085  -4.326e-06  -9.09e-06  8.578e-06  -8.719e-06  0.774  0.2788\n",
      "2.69  -0.9692  -0.1269  -1.215e-05  5.203e-06  -1.563e-05  -2.606e-06  0.656  0.3802\n",
      "3.025  0.948  -0.1208  -1.249e-05  6.977e-06  1.233e-07  -5.719e-06  0.619  0.3754\n",
      "3.36  -0.8244  0.5959  1.621e-07  1.637e-06  -8.614e-06  3.403e-06  0.6088  0.4972\n",
      "3.694  0.7387  -0.6237  6.102e-06  7.623e-06  1.436e-06  -3.858e-06  0.5005  0.6423\n",
      "4.029  -0.4003  0.8815  9.008e-06  7.181e-06  -8.34e-06  -3.663e-07  0.4059  0.5737\n",
      "4.364  0.05095  -0.8828  6.648e-06  8.509e-06  1.067e-05  -3.371e-07  0.2686  0.6849\n",
      "4.699  0.2744  0.8115  3.124e-06  -3.594e-07  -1.028e-06  2.348e-06  0.1091  0.6015\n",
      "5.034  -0.6372  -0.6939  -1.328e-05  8.606e-06  -4.647e-06  -1.314e-05  0.1438  0.7115\n",
      "5.369  0.8504  0.4801  4.508e-07  -2.341e-06  -6.912e-06  7.158e-07  -0.1369  0.6905\n",
      "5.704  -0.9298  -0.1611  -2.848e-06  7.653e-06  8.033e-06  5.493e-06  -0.1699  0.616\n",
      "6.039  0.9593  -0.1447  1.933e-06  -4.372e-06  1.337e-05  4.338e-08  -0.2418  0.5708\n",
      "6.374  -0.8609  0.4835  2.95e-06  1.077e-05  -1.448e-06  -5.762e-06  -0.3895  0.5106\n",
      "6.709  0.5902  -0.6738  1.949e-06  2.068e-06  3.701e-06  -3.415e-06  -0.4735  0.5094\n",
      "7.044  -0.3243  0.9218  -5.617e-07  5.404e-06  -6.025e-06  -9.623e-07  -0.4865  0.3968\n",
      "7.379  -0.04242  -0.926  2.777e-06  3.035e-06  5.043e-06  -4.771e-06  -0.5943  0.2735\n",
      "7.714  0.3528  1  -6.27e-06  2.741e-06  -9.974e-06  -3.914e-06  -0.5652  0.1718\n",
      "8.049  -0.5666  -0.826  2.091e-06  6.756e-06  -1.017e-05  -8.711e-06  -0.6751  0.184\n",
      "8.384  0.7401  0.479  1.785e-05  1.071e-05  -1.428e-05  -2.666e-05  -0.6786  -0.06952\n",
      "8.719  -0.859  -0.2435  8.517e-06  -6.107e-06  -6.124e-06  9.98e-06  -0.6609  0.003881\n",
      "9.054  0.8256  -0.1625  1.605e-06  1.705e-05  5.059e-06  -3.349e-06  -0.6574  -0.1889\n",
      "9.389  -0.7425  0.5026  6.119e-06  7.845e-06  -7.917e-06  -5.194e-06  -0.5909  -0.2154\n",
      "9.724  0.4852  -0.826  -4.156e-06  3.323e-06  4.958e-06  -1.266e-05  -0.5891  -0.2454\n",
      "10.06  -0.2457  1.026  -1.146e-05  3.406e-06  -1.523e-05  -1.651e-05  -0.4903  -0.283\n",
      "10.39  0.06356  -1.053  -2.843e-06  -3.669e-07  -2.875e-06  -3.527e-06  -0.5013  -0.3565\n",
      "10.73  0.3183  1.048  9.792e-06  5.609e-06  -1.05e-06  -5.423e-06  -0.3309  -0.4382\n",
      "11.06  -0.4885  -0.8771  1.804e-05  -3.05e-06  1.416e-05  -1.004e-05  -0.303  -0.4956\n",
      "11.4  0.6904  0.4565  2.345e-05  -1.005e-05  -3.598e-06  -3.102e-05  -0.1233  -0.5326\n",
      "11.73  -0.755  -0.07732  2.797e-05  -4.682e-05  -7.123e-05  -1.666e-05  -0.0824  -0.5501\n",
      "12.07  0.8006  -0.2058  -4.527e-05  -5.343e-05  1.691e-05  7.592e-05  0.07999  -0.565\n",
      "12.4  -0.7412  0.6189  6.244e-06  -1.305e-05  -1.035e-06  2.044e-05  0.1096  -0.5094\n",
      "12.74  0.5877  -0.8718  1.581e-05  4.321e-06  -1.677e-05  2.574e-05  0.2098  -0.6166\n",
      "13.07  -0.5591  0.9472  4.872e-06  -5.64e-06  1.083e-05  -1.782e-06  0.3049  -0.5031\n",
      "13.41  0.0781  -0.9974  -3.369e-05  2.121e-05  -4.377e-05  -2.017e-05  0.3365  -0.5366\n",
      "13.74  0.1348  0.8674  -5.056e-05  5.849e-05  -9.138e-05  2.436e-05  0.4111  -0.4694\n",
      "14.08  -0.5709  -0.6142  -1.868e-05  3.771e-05  -3.865e-05  3.966e-05  0.4908  -0.4798\n",
      "14.41  0.8169  0.2567  -0.0001305  -2.179e-05  -0.0001361  4.456e-05  0.5023  -0.3226\n",
      "14.75  -0.7375  -0.1309  -0.00023  -4.213e-05  -0.0001055  0.0002231  0.4987  -0.3204\n",
      "15.08  1.009  -0.1209  -8.62e-05  3.114e-06  4.18e-05  9.378e-05  0.5874  -0.09405\n",
      "15.42  -0.9663  0.3399  -5.15e-05  -1.538e-05  2.219e-05  5.274e-05  0.4625  -0.115\n",
      "15.75  0.7282  -0.6444  -2.847e-05  -2.376e-05  2.263e-05  3.51e-05  0.566  -0.04124\n",
      "16.09  -0.3769  0.6988  -1.452e-05  -2.978e-05  1.919e-05  2.054e-05  0.4715  0.1139\n",
      "16.42  0.04467  -0.8346  -1.099e-05  -3.475e-05  2.963e-05  1.41e-05  0.4702  0.1643\n",
      "16.76  0.3698  0.817  -4.15e-06  -3.046e-05  2.838e-05  -5.713e-06  0.3792  0.2335\n",
      "17.09  -0.7162  -0.5731  2.088e-06  -2.196e-05  1.85e-05  -3.119e-05  0.4295  0.2513\n",
      "17.43  1.104  0.4307  1.031e-05  -1.728e-05  1.61e-05  -1.472e-05  0.2858  0.3805\n",
      "17.76  -1.163  -0.2524  2.597e-05  8.922e-06  3.785e-05  -4.281e-06  0.3046  0.3221\n",
      "18.1  1.107  0.04008  3.607e-05  2.661e-05  4.766e-05  8.113e-06  0.1324  0.5102\n",
      "18.43  -0.9039  0.2853  2.551e-05  6.376e-05  9.196e-05  -1.561e-05  0.105  0.3895\n",
      "18.77  0.6725  -0.5561  4.503e-05  0.0001353  5.633e-05  -6.578e-05  0.1446  0.4953\n",
      "19.1  -0.2891  0.7541  5.655e-05  0.0001113  1.559e-05  -0.0001274  -0.03803  0.4357\n",
      "19.44  -0.1048  -0.852  4.69e-05  8.577e-05  -4.442e-05  -4.544e-05  -0.08202  0.508\n",
      "19.77  0.56  0.7363  3.936e-05  -4.352e-05  1.728e-05  5.708e-05  -0.2107  0.4136\n",
      "20.11  -0.908  -0.7703  5.121e-05  -7.257e-05  7.056e-05  5.65e-05  -0.1993  0.4554\n",
      "20.44  0.9274  0.5661  5.176e-05  -2.111e-05  4.439e-05  4.78e-05  -0.3412  0.3763\n",
      "20.78  -0.9711  -0.1884  5.418e-05  4.374e-05  2.79e-05  6.603e-05  -0.2535  0.3651\n",
      "21.11  0.9326  -0.05496  -1.097e-05  7.31e-05  -1.06e-05  7.083e-05  -0.4458  0.2959\n",
      "21.45  -0.7496  0.4491  -3.581e-05  4.007e-05  2.031e-06  4.222e-05  -0.3337  0.2325\n",
      "21.78  0.5826  -0.7192  -2.513e-05  5.478e-06  -1.435e-05  1.899e-05  -0.4764  0.2279\n",
      "22.12  -0.3783  0.8863  4.658e-06  -2.857e-05  -3.143e-05  1.656e-05  -0.4189  0.01612\n",
      "22.45  0.047  -1.135  4.44e-06  -1.748e-05  -2.026e-05  1.611e-05  -0.5154  0.07911\n",
      "22.79  0.2957  1.01  -8.346e-06  1.901e-05  5.276e-07  -3.06e-05  -0.4664  -0.179\n",
      "23.12  -0.4473  -0.7922  -3.364e-05  2.473e-05  1.981e-05  -2.665e-05  -0.4635  -0.06382\n",
      "23.46  0.6839  0.5603  -7.138e-05  1.1e-05  1.774e-05  -5.191e-05  -0.4597  -0.2415\n",
      "23.79  -0.9358  -0.1078  -6.992e-05  1.277e-05  -1.952e-05  -8.336e-05  -0.4534  -0.1873\n",
      "24.13  0.7907  -0.3418  -7.245e-05  -6.042e-05  -3.23e-05  -0.0001089  -0.3681  -0.3932\n",
      "24.46  -0.62  0.6663  -7.652e-05  -0.0001007  -3.57e-05  -9.768e-05  -0.3458  -0.2845\n",
      "24.8  0.3951  -1.013  3.994e-06  -0.0001243  -7.18e-05  -0.0001049  -0.365  -0.5025\n",
      "25.13  -0.02835  1.147  5.131e-05  -0.0002248  -0.00018  -0.0001212  -0.1468  -0.3799\n",
      "25.47  -0.0572  -1.131  0.0001047  -6.714e-05  -3.499e-05  -0.0001497  -0.3294  -0.4029\n",
      "25.8  0.375  0.867  3.795e-05  6.674e-06  -5.91e-05  -8.702e-06  -0.06939  -0.4835\n",
      "26.14  -0.5553  -0.677  -3.419e-05  -9.248e-05  1.753e-05  0.0001027  -0.1393  -0.4146\n",
      "26.47  0.8188  0.3713  -5.669e-05  -0.0002913  0.0001889  0.0002907  0.02037  -0.4905\n",
      "26.81  -0.9257  0.1094  0.000182  -0.0004842  0.000372  0.0004492  0.04154  -0.4064\n",
      "27.14  0.6822  -0.3774  0.0003948  -0.0004561  0.0004816  0.0004974  0.1694  -0.4737\n",
      "27.48  -0.476  0.7993  0.0006566  -0.0002297  0.0005868  0.000447  0.1224  -0.3733\n",
      "27.81  0.3044  -0.8508  0.0005975  0.0004441  0.000331  0.0007675  0.24  -0.4866\n",
      "28.15  0.1264  0.9126  0.0002224  0.0008555  0.0004718  0.000739  0.2414  -0.2838\n",
      "28.48  -0.3676  -0.8276  -0.0003185  0.0005898  0.0003355  0.0007642  0.2227  -0.4222\n",
      "28.82  0.6066  0.638  -0.0005526  0.0001991  9.071e-05  0.0006451  0.3861  -0.273\n",
      "29.15  -0.8512  -0.4038  -0.0005868  -0.0002307  -9.502e-06  0.0006157  0.2767  -0.3639\n",
      "29.49  0.8471  0.1491  -0.0002781  -0.0004863  -6.163e-06  0.0006753  0.4722  -0.2153\n",
      "29.82  -0.9667  0.07127  0.0003187  -0.0009939  -0.0002916  0.0008792  0.313  -0.2265\n",
      "30.16  0.6457  -0.4757  0.0004967  -0.0001647  -0.0002252  0.0004065  0.4651  -0.2161\n",
      "30.49  -0.5315  0.6078  0.0002673  0.0005533  -0.0006408  7.331e-05  0.3407  -0.1598\n",
      "30.83  0.1105  -0.7357  0.0001749  0.001251  -0.001185  0.0006502  0.4835  -0.08571\n",
      "31.16  0.2661  0.6488  -0.0005112  0.001287  -0.001479  0.000686  0.3181  -0.03552\n",
      "31.5  -0.6578  -0.502  -0.001478  0.001567  -0.001508  0.001238  0.4661  -0.0784\n",
      "31.83  0.7814  0.1739  -0.002702  0.0001189  -0.001957  0.002005  0.3207  0.1704\n",
      "32.17  -0.8118  -0.0146  -0.001439  -0.001814  -0.002541  0.0006586  0.3989  -0.06681\n",
      "32.5  0.7459  -0.354  0.0005472  -0.00333  -0.003383  -0.000293  0.3838  0.2289\n",
      "32.84  -0.5261  0.4146  0.003573  -0.00144  -0.004039  -0.001373  0.2651  0.1143\n",
      "33.17  0.2713  -0.475  0.00389  0.002601  -0.003369  -0.003424  0.3851  0.09177\n",
      "33.51  0.03693  0.4759  0.002532  0.00686  -0.005688  -0.005317  0.3041  0.1187\n",
      "33.84  -0.2512  -0.3187  -0.00368  0.007833  -0.005354  -0.007724  0.2449  0.2461\n",
      "34.17  0.3217  0.09098  -0.006402  0.004218  -0.005388  -0.00604  0.2398  0.06674\n",
      "34.51  -0.327  0.07887  -0.007372  -0.0009427  -0.004089  -0.006811  0.2968  0.2752\n",
      "34.84  0.2337  -0.2215  -0.003481  -0.004382  -0.00171  -0.00562  0.0763  0.1469\n",
      "35.18  -0.09321  0.2522  0.002202  -0.00393  0.0008213  -0.004541  0.3079  0.1833\n",
      "35.51  -0.02006  -0.1776  0.005367  -0.001674  0.002381  -0.005605  0.06823  0.2283\n",
      "35.85  0.04164  0.04551  0.003522  0.001688  0.002273  -0.003342  0.2508  0.06074\n",
      "36.18  0.01765  0.0938  0.001739  0.002602  0.001434  -0.002922  0.08711  0.2289\n",
      "36.52  -0.1585  -0.1712  0.000144  0.0005348  0.0001512  -0.000772  0.1319  0.01658\n",
      "36.85  0.3127  0.1756  0.0002421  0.001227  -0.0004297  -0.001279  0.1273  0.1342\n",
      "37.19  -0.4371  -0.0688  -0.001498  0.001676  -0.0001433  -0.00232  0.09115  0.02406\n",
      "37.52  0.4568  -0.09401  -0.003583  0.002583  -0.002241  -0.004158  0.08045  0.0721\n",
      "37.86  -0.4394  0.2585  -0.003695  0.002667  -0.003843  -0.002668  0.1229  -0.04137\n",
      "38.19  0.2982  -0.4164  -0.002232  -0.0006277  -0.001736  -0.001858  0.1043  0.08285\n",
      "38.53  -0.08271  0.5097  0.001782  -0.001044  0.002006  -0.001165  0.01858  -0.1533\n",
      "38.86  -0.1734  -0.5177  0.004506  0.0007641  0.004424  -0.002486  0.2266  0.02466\n",
      "39.2  0.5135  0.3634  0.005616  0.003114  0.004808  -0.004826  -0.07666  -0.0764\n",
      "39.53  -0.6529  -0.184  0.001637  0.004914  0.004979  -0.003226  0.2233  -0.1592\n",
      "39.87  0.7754  -0.1701  -0.00207  0.003812  0.00409  -0.001678  0.00663  0.02602\n",
      "40.2  -0.6814  0.3514  -0.003587  -0.0004368  0.003917  0.000516  0.09564  -0.2075\n",
      "40.54  0.6618  -0.5283  -0.001887  -0.003603  0.003811  0.002182  0.1253  -0.04247\n",
      "40.87  -0.4104  0.6482  0.0009916  -0.003415  0.002753  0.002656  0.1247  -0.1257\n",
      "41.21  0.2775  -0.7388  0.003244  -0.0006651  0.0014  0.003088  0.06567  -0.08267\n",
      "41.54  0.1295  0.877  0.002916  0.001776  0.0006248  0.003537  0.1727  -0.1959\n",
      "41.88  -0.3947  -0.5877  0.0006345  0.002903  0.0002753  0.003501  0.1653  7.182e-05\n",
      "42.21  0.8201  0.3921  -0.00179  0.00264  -0.0004263  0.003349  0.1264  -0.2294\n",
      "42.55  -0.7561  -0.0003846  -0.002191  2.052e-05  -0.001004  0.002177  0.286  0.04912\n",
      "42.88  0.6277  -0.4857  -0.001365  -0.0007057  -0.0005881  0.001688  0.09581  -0.1075\n",
      "43.22  -0.4331  0.8019  -0.0002437  -0.001595  -0.001245  0.001081  0.3205  -0.04575\n",
      "43.55  0.1614  -0.884  0.0005108  -0.001018  -0.0006255  0.0008544  0.1166  0.007154\n",
      "43.89  0.2573  1.046  0.001104  3.633e-06  -0.001185  0.000439  0.2953  0.007837\n",
      "44.22  -0.5357  -0.7952  0.0006978  0.0002775  -0.000772  0.0002405  0.1672  0.09874\n",
      "44.56  0.8206  0.6179  -6.06e-05  0.0005211  -0.0004903  -5.128e-05  0.2848  0.01454\n",
      "44.89  -0.8511  -0.205  -0.0003636  0.0002494  -0.0004561  -0.0003351  0.1969  0.1372\n",
      "45.23  0.8328  -0.274  -0.0002514  -0.000452  -6.599e-05  -0.0005676  0.2617  0.06636\n",
      "45.56  -0.5504  0.6678  0.0006928  -0.0008858  0.0005751  -0.001111  0.1926  0.2144\n",
      "45.9  0.1479  -0.8557  0.001828  -0.0008895  0.000863  -0.002123  0.2602  0.04132\n",
      "46.23  0.3465  0.8088  0.002359  0.001041  0.001664  -0.002274  0.1907  0.3384\n",
      "46.57  -0.5633  -0.6032  0.001968  0.002316  0.001214  -0.003225  0.08744  0.1164\n",
      "46.9  0.6102  0.4082  -0.0002441  0.001579  0.001017  -0.001249  0.2782  0.2536\n",
      "47.24  -0.7127  -0.1191  -0.001302  0.0005439  0.001301  -0.000756  0.05424  0.3125\n",
      "47.57  0.7008  -0.1111  -0.0009105  -0.001081  0.001514  0.0003213  0.1848  0.2112\n",
      "47.91  -0.4722  0.3574  0.0005226  -0.001723  0.001624  0.00114  0.08495  0.3362\n",
      "48.24  0.2744  -0.474  0.002115  -0.001051  0.001554  0.001812  0.06985  0.2722\n",
      "48.58  -0.06937  0.4557  0.002279  0.0005642  0.001552  0.001938  0.002729  0.2634\n",
      "48.91  -0.08663  -0.4272  0.00188  0.0009678  0.001837  0.001188  0.06732  0.2946\n",
      "49.25  0.4388  0.399  0.0008964  0.001067  0.001324  0.000541  -0.1028  0.3767\n",
      "49.58  -0.5255  -0.07273  0.0003529  0.0009893  0.001102  9.39e-05  -0.03394  0.1897\n",
      "49.92  0.4128  -0.1785  -0.0001389  0.000758  0.0007773  -6.51e-05  -0.04945  0.4029\n",
      "50.25  -0.2414  0.3245  -0.0007752  -7.427e-05  0.0005339  0.0006263  -0.2075  0.2027\n",
      "50.59  0.0621  -0.3229  -0.001311  -0.001431  0.0009911  0.00169  -0.1159  0.3101\n",
      "50.92  0.04688  0.2644  -0.0004226  -0.002026  0.0009934  0.001768  -0.2849  0.2794\n",
      "51.26  -0.1171  -0.1889  0.001117  -0.0023  0.001302  0.002454  -0.1251  0.2683\n",
      "51.59  0.1413  0.1141  0.002628  -0.0006839  0.000455  0.002691  -0.2642  0.3001\n",
      "51.93  -0.1305  -0.05375  0.001744  0.002257  -0.0007581  0.002954  -0.2457  0.2043\n",
      "52.26  0.09231  0.009074  0.00052  0.002642  -0.001115  0.002586  -0.1932  0.2761\n",
      "52.6  -0.06733  0.01324  -0.001288  0.001614  -0.001096  0.001652  -0.2118  0.2786\n",
      "52.93  0.04197  -0.02267  -0.00155  -0.0007623  -0.001696  0.0006331  -0.2801  0.2468\n",
      "53.27  -0.02084  0.009008  -3.134e-06  -0.00168  -0.001743  -0.0002595  -0.2168  0.2113\n",
      "53.6  0.02175  -0.004399  0.001322  -0.00101  -0.001409  -0.0009667  -0.2376  0.2782\n",
      "53.94  -0.02832  0.005167  0.001226  0.0004139  -0.0006648  -0.00105  -0.2641  0.1522\n",
      "54.27  0.04795  -0.009913  -0.0004082  0.001272  0.0001782  -0.001278  -0.2038  0.2397\n",
      "54.61  -0.06125  0.02915  -0.001496  -5.428e-06  0.001283  -0.0009367  -0.276  0.1987\n",
      "54.94  0.06058  -0.09649  -0.001694  -0.001186  0.001862  -0.0009895  -0.1617  0.2123\n",
      "55.28  -0.0295  0.1418  2.734e-05  -0.00198  0.002069  -0.0003985  -0.2556  0.2185\n",
      "55.61  -0.0345  -0.1796  0.001918  -0.0009776  0.002259  0.0006196  -0.1939  0.1607\n",
      "55.95  0.1258  0.178  0.002394  -0.0006895  0.002604  -0.0001503  -0.1407  0.2377\n",
      "56.28  -0.2139  -0.14  0.002004  0.0001268  0.002451  -0.0008261  -0.1186  0.1682\n",
      "56.62  0.2946  0.0498  0.002293  0.001566  0.002844  -0.00123  -0.1955  0.2086\n",
      "56.95  -0.3232  0.07969  0.0008281  0.002772  0.003304  -0.0004979  -0.2166  0.1056\n",
      "57.29  0.283  -0.2125  -0.0003609  0.003376  0.002815  -0.000897  -0.1266  0.1612\n",
      "57.62  -0.1685  0.2894  -0.002926  0.002457  0.004237  -6.337e-05  -0.18  0.08552\n",
      "57.96  0.04041  -0.3738  -0.003488  -4.939e-05  0.00429  0.0004296  -0.09815  0.1157\n",
      "58.29  0.08341  0.362  -0.001947  -0.003987  0.003827  0.002372  -0.2688  0.08571\n",
      "58.63  -0.2582  -0.309  0.002645  -0.004471  0.003704  0.003682  -0.09382  0.0164\n",
      "58.96  0.4475  0.1543  0.005569  -0.002868  0.003129  0.004734  -0.1823  0.1465\n",
      "59.3  -0.4985  0.02974  0.005522  0.002076  0.002187  0.005381  -0.1741  -0.0358\n",
      "59.63  0.468  -0.211  0.002246  0.004984  0.0008555  0.005613  -0.1677  0.01764\n",
      "59.97  -0.4394  0.4351  -0.003257  0.004961  -0.001073  0.005441  -0.1724  -0.06396\n",
      "60.3  0.2809  -0.6227  -0.005438  0.001963  -0.0009147  0.004942  -0.1677  0.03399\n",
      "60.64  -0.117  0.6538  -0.003711  -0.00183  -0.003325  0.004062  -0.159  -0.1079\n",
      "60.97  -0.1479  -0.5584  -0.001508  -0.002436  -0.0009898  0.002513  -0.07777  0.0439\n",
      "61.31  0.3726  0.5571  0.0005275  -0.001928  -0.001042  0.001984  -0.236  -0.1063\n",
      "61.64  -0.5859  -0.3746  0.0001866  -0.001434  0.0002268  0.001625  -0.03265  -0.1242\n",
      "61.98  0.9262  -0.05664  -0.0003627  -0.001063  0.001063  0.000345  -0.1711  -0.0719\n",
      "62.31  -0.7381  0.3428  0.0006961  -0.00121  0.001325  0.0005765  -0.08746  -0.1477\n",
      "62.65  0.633  -0.5995  0.001558  -0.0007196  0.001549  0.0008678  -0.1178  -0.09369\n",
      "62.98  -0.4126  0.9207  0.001901  -3.958e-05  0.001738  0.0006446  -0.004347  -0.1622\n",
      "63.32  -0.08489  -1.091  0.001126  0.0003715  0.001198  0.0001084  -0.1283  -0.05627\n",
      "63.65  0.3949  0.7134  0.0006969  0.0002611  0.0007133  -0.0004471  -0.06855  -0.2629\n",
      "63.99  -0.5964  -0.6126  0.0008417  0.0004595  0.0006702  -0.000847  0.02619  -0.0471\n",
      "64.32  0.8727  0.3237  0.001138  0.001816  0.00112  -0.002064  -0.1032  -0.2029\n",
      "64.66  -0.8775  0.2714  0.0007058  0.003701  0.0008222  -0.00361  0.03426  -0.1547\n",
      "64.99  0.6305  -0.4236  -0.003159  0.002544  0.003043  -0.003015  -0.01852  -0.2173\n",
      "65.33  -0.4682  0.5373  -0.004534  -0.001012  0.00427  -0.002239  0.1135  -0.1215\n",
      "65.66  0.1612  -0.7565  -0.00333  -0.003685  0.005548  -0.001837  -0.03001  -0.1968\n",
      "66  0.1634  0.838  0.0008259  -0.004489  0.005018  -0.000668  0.1892  -0.2171\n",
      "66.33  -0.3468  -0.667  0.004645  -0.002165  0.004457  0.001294  0.04192  -0.0923\n",
      "66.67  0.4734  0.5033  0.0033  0.002046  0.003336  0.002431  0.1199  -0.249\n",
      "67  -0.6239  -0.4031  0.0001494  0.005361  0.00347  0.004736  0.07174  -0.1254\n"
     ]
    }
   ],
   "source": [
    "print s2p"
   ]
  },
  {
   "cell_type": "code",
   "execution_count": 135,
   "metadata": {
    "collapsed": false
   },
   "outputs": [
    {
     "data": {
      "text/plain": [
       "'Two_Port_Sparameter_20170425_001.s2p'"
      ]
     },
     "execution_count": 135,
     "metadata": {},
     "output_type": "execute_result"
    }
   ],
   "source": [
    "s2p.path"
   ]
  },
  {
   "cell_type": "code",
   "execution_count": 136,
   "metadata": {
    "collapsed": false
   },
   "outputs": [
    {
     "data": {
      "image/png": "[encoded data removed]",
      "text/plain": [
       "<matplotlib.figure.Figure at 0x13cc7160>"
      ]
     },
     "metadata": {},
     "output_type": "display_data"
    }
   ],
   "source": [
    "s2p.show();"
   ]
  },
  {
   "cell_type": "code",
   "execution_count": 69,
   "metadata": {
    "collapsed": false
   },
   "outputs": [],
   "source": [
    "from pyMeasure.Code.Analysis.SParameter import *"
   ]
  },
  {
   "cell_type": "code",
   "execution_count": 15,
   "metadata": {
    "collapsed": false
   },
   "outputs": [
    {
     "data": {
      "image/png": "[encoded data removed]",
      "text/plain": [
       "<matplotlib.figure.Figure at 0x11e1e048>"
      ]
     },
     "metadata": {},
     "output_type": "display_data"
    }
   ],
   "source": [
    "plot_frequency_model(s2p);"
   ]
  },
  {
   "cell_type": "code",
   "execution_count": 74,
   "metadata": {
    "collapsed": false
   },
   "outputs": [
    {
     "ename": "VisaIOError",
     "evalue": "VI_ERROR_CLOSING_FAILED (-1073807338): The VISA driver failed to properly close the session or object reference. This might be due to an error freeing internal or OS resources, a failed network connection, or a lower-level driver or OS error.",
     "output_type": "error",
     "traceback": [
      "\u001b[0;31m---------------------------------------------------------------------------\u001b[0m",
      "\u001b[0;31mVisaIOError\u001b[0m                               Traceback (most recent call last)",
      "\u001b[0;32m<ipython-input-74-c2679ab0e5f9>\u001b[0m in \u001b[0;36m<module>\u001b[0;34m()\u001b[0m\n\u001b[0;32m----> 1\u001b[0;31m \u001b[0mvna\u001b[0m\u001b[1;33m.\u001b[0m\u001b[0mresource_manager\u001b[0m\u001b[1;33m.\u001b[0m\u001b[0mclose\u001b[0m\u001b[1;33m(\u001b[0m\u001b[1;33m)\u001b[0m\u001b[1;33m\u001b[0m\u001b[0m\n\u001b[0m",
      "\u001b[0;32mC:\\ProgramData\\Anaconda2\\lib\\site-packages\\pyvisa\\highlevel.pyc\u001b[0m in \u001b[0;36mclose\u001b[0;34m(self)\u001b[0m\n\u001b[1;32m   1546\u001b[0m         \u001b[1;32mtry\u001b[0m\u001b[1;33m:\u001b[0m\u001b[1;33m\u001b[0m\u001b[0m\n\u001b[1;32m   1547\u001b[0m             \u001b[0mlogger\u001b[0m\u001b[1;33m.\u001b[0m\u001b[0mdebug\u001b[0m\u001b[1;33m(\u001b[0m\u001b[1;34m'Closing ResourceManager (session: %s)'\u001b[0m\u001b[1;33m,\u001b[0m \u001b[0mself\u001b[0m\u001b[1;33m.\u001b[0m\u001b[0msession\u001b[0m\u001b[1;33m)\u001b[0m\u001b[1;33m\u001b[0m\u001b[0m\n\u001b[0;32m-> 1548\u001b[0;31m             \u001b[0mself\u001b[0m\u001b[1;33m.\u001b[0m\u001b[0mvisalib\u001b[0m\u001b[1;33m.\u001b[0m\u001b[0mclose\u001b[0m\u001b[1;33m(\u001b[0m\u001b[0mself\u001b[0m\u001b[1;33m.\u001b[0m\u001b[0msession\u001b[0m\u001b[1;33m)\u001b[0m\u001b[1;33m\u001b[0m\u001b[0m\n\u001b[0m\u001b[1;32m   1549\u001b[0m             \u001b[0mself\u001b[0m\u001b[1;33m.\u001b[0m\u001b[0msession\u001b[0m \u001b[1;33m=\u001b[0m \u001b[0mNone\u001b[0m\u001b[1;33m\u001b[0m\u001b[0m\n\u001b[1;32m   1550\u001b[0m             \u001b[0mself\u001b[0m\u001b[1;33m.\u001b[0m\u001b[0mvisalib\u001b[0m\u001b[1;33m.\u001b[0m\u001b[0mresource_manager\u001b[0m \u001b[1;33m=\u001b[0m \u001b[0mNone\u001b[0m\u001b[1;33m\u001b[0m\u001b[0m\n",
      "\u001b[0;32mC:\\ProgramData\\Anaconda2\\lib\\site-packages\\pyvisa\\ctwrapper\\functions.pyc\u001b[0m in \u001b[0;36mclose\u001b[0;34m(library, session)\u001b[0m\n\u001b[1;32m    390\u001b[0m     \u001b[1;33m:\u001b[0m\u001b[0mrtype\u001b[0m\u001b[1;33m:\u001b[0m \u001b[1;33m:\u001b[0m\u001b[1;32mclass\u001b[0m\u001b[1;33m:\u001b[0m\u001b[1;33m`\u001b[0m\u001b[0mpyvisa\u001b[0m\u001b[1;33m.\u001b[0m\u001b[0mconstants\u001b[0m\u001b[1;33m.\u001b[0m\u001b[0mStatusCode\u001b[0m\u001b[1;33m`\u001b[0m\u001b[1;33m\u001b[0m\u001b[0m\n\u001b[1;32m    391\u001b[0m     \"\"\"\n\u001b[0;32m--> 392\u001b[0;31m     \u001b[1;32mreturn\u001b[0m \u001b[0mlibrary\u001b[0m\u001b[1;33m.\u001b[0m\u001b[0mviClose\u001b[0m\u001b[1;33m(\u001b[0m\u001b[0msession\u001b[0m\u001b[1;33m)\u001b[0m\u001b[1;33m\u001b[0m\u001b[0m\n\u001b[0m\u001b[1;32m    393\u001b[0m \u001b[1;33m\u001b[0m\u001b[0m\n\u001b[1;32m    394\u001b[0m \u001b[1;33m\u001b[0m\u001b[0m\n",
      "\u001b[0;32mC:\\ProgramData\\Anaconda2\\lib\\site-packages\\pyvisa\\ctwrapper\\highlevel.pyc\u001b[0m in \u001b[0;36m_return_handler\u001b[0;34m(self, ret_value, func, arguments)\u001b[0m\n\u001b[1;32m    186\u001b[0m \u001b[1;33m\u001b[0m\u001b[0m\n\u001b[1;32m    187\u001b[0m         \u001b[1;32mif\u001b[0m \u001b[0mret_value\u001b[0m \u001b[1;33m<\u001b[0m \u001b[1;36m0\u001b[0m\u001b[1;33m:\u001b[0m\u001b[1;33m\u001b[0m\u001b[0m\n\u001b[0;32m--> 188\u001b[0;31m             \u001b[1;32mraise\u001b[0m \u001b[0merrors\u001b[0m\u001b[1;33m.\u001b[0m\u001b[0mVisaIOError\u001b[0m\u001b[1;33m(\u001b[0m\u001b[0mret_value\u001b[0m\u001b[1;33m)\u001b[0m\u001b[1;33m\u001b[0m\u001b[0m\n\u001b[0m\u001b[1;32m    189\u001b[0m \u001b[1;33m\u001b[0m\u001b[0m\n\u001b[1;32m    190\u001b[0m         \u001b[1;32mif\u001b[0m \u001b[0mret_value\u001b[0m \u001b[1;32min\u001b[0m \u001b[0mself\u001b[0m\u001b[1;33m.\u001b[0m\u001b[0missue_warning_on\u001b[0m\u001b[1;33m:\u001b[0m\u001b[1;33m\u001b[0m\u001b[0m\n",
      "\u001b[0;31mVisaIOError\u001b[0m: VI_ERROR_CLOSING_FAILED (-1073807338): The VISA driver failed to properly close the session or object reference. This might be due to an error freeing internal or OS resources, a failed network connection, or a lower-level driver or OS error."
     ]
    }
   ],
   "source": [
    "vna.resource_manager.close()"
   ]
  },
  {
   "cell_type": "code",
   "execution_count": 62,
   "metadata": {
    "collapsed": false
   },
   "outputs": [],
   "source": [
    "pna=VisaInstrument(\"E8361A\")"
   ]
  },
  {
   "cell_type": "code",
   "execution_count": 63,
   "metadata": {
    "collapsed": false
   },
   "outputs": [
    {
     "data": {
      "text/plain": [
       "{'SENS:AVER': u'0',\n",
       " 'SENS:BAND': u'+1.00000000000E+001',\n",
       " 'SENS:CORR:STAT': u'0',\n",
       " 'SENS:SWE:TYPE': u'LIN',\n",
       " 'SOUR:POW': u'-1.70000000000E+001',\n",
       " 'SOUR:POW:CORR:STAT': u'0',\n",
       " 'SOUR:POW:SLOP': u'+0.00000000000E+000'}"
      ]
     },
     "execution_count": 63,
     "metadata": {},
     "output_type": "execute_result"
    }
   ],
   "source": [
    "pna.get_state()"
   ]
  },
  {
   "cell_type": "code",
   "execution_count": 6,
   "metadata": {
    "collapsed": false
   },
   "outputs": [
    {
     "data": {
      "text/plain": [
       "'Agilent Technologies,E8361A,US43140754,A.07.50.67'"
      ]
     },
     "execution_count": 6,
     "metadata": {},
     "output_type": "execute_result"
    }
   ],
   "source": [
    "pna.idn"
   ]
  },
  {
   "cell_type": "code",
   "execution_count": 119,
   "metadata": {
    "collapsed": true
   },
   "outputs": [],
   "source": [
    "pna=VNA(\"E8361A\")"
   ]
  },
  {
   "cell_type": "code",
   "execution_count": 120,
   "metadata": {
    "collapsed": true
   },
   "outputs": [],
   "source": [
    "pna.initialize()"
   ]
  },
  {
   "cell_type": "code",
   "execution_count": 78,
   "metadata": {
    "collapsed": false
   },
   "outputs": [
    {
     "data": {
      "text/plain": [
       "201"
      ]
     },
     "execution_count": 78,
     "metadata": {},
     "output_type": "execute_result"
    }
   ],
   "source": [
    "len(pna.frequency_list)"
   ]
  },
  {
   "cell_type": "code",
   "execution_count": 123,
   "metadata": {
    "collapsed": true
   },
   "outputs": [],
   "source": [
    "pna.set_IFBW(20)"
   ]
  },
  {
   "cell_type": "code",
   "execution_count": 86,
   "metadata": {
    "collapsed": true
   },
   "outputs": [],
   "source": [
    "while pna.is_busy():\n",
    "    time.sleep(.1)"
   ]
  },
  {
   "cell_type": "code",
   "execution_count": 124,
   "metadata": {
    "collapsed": false
   },
   "outputs": [],
   "source": [
    "\n",
    "#pna.set_frequency(10**6,40*10**9,201)\n",
    "s2p=pna.measure_sparameters()"
   ]
  },
  {
   "cell_type": "code",
   "execution_count": 125,
   "metadata": {
    "collapsed": false
   },
   "outputs": [
    {
     "data": {
      "image/png": "[encoded data removed]",
      "text/plain": [
       "<matplotlib.figure.Figure at 0x1204eef0>"
      ]
     },
     "metadata": {},
     "output_type": "display_data"
    }
   ],
   "source": [
    "s2p.change_frequency_units(\"GHz\")\n",
    "s2p.show();"
   ]
  },
  {
   "cell_type": "code",
   "execution_count": 11,
   "metadata": {
    "collapsed": false
   },
   "outputs": [
    {
     "data": {
      "text/plain": [
       "(35L, <StatusCode.success: 0>)"
      ]
     },
     "execution_count": 11,
     "metadata": {},
     "output_type": "execute_result"
    }
   ],
   "source": [
    "pna.write(\"SYST:FPRESET\")\n",
    "pna.write(\"DISPlay:WINDow1:STATE ON\")\n",
    "pna.write(\"CALCulate:PARameter:DEFine 'S11',S11\")\n",
    "pna.write(\"DISPlay:WINDow1:TRACe1:FEED 'S11'\")"
   ]
  },
  {
   "cell_type": "code",
   "execution_count": 12,
   "metadata": {
    "collapsed": false
   },
   "outputs": [
    {
     "data": {
      "text/plain": [
       "(35L, <StatusCode.success: 0>)"
      ]
     },
     "execution_count": 12,
     "metadata": {},
     "output_type": "execute_result"
    }
   ],
   "source": [
    "pna.write(\"CALCulate:PARameter:DEFine 'S21',S21\")\n",
    "pna.write(\"DISPlay:WINDow1:TRACe2:FEED 'S21'\")"
   ]
  },
  {
   "cell_type": "code",
   "execution_count": 8,
   "metadata": {
    "collapsed": false
   },
   "outputs": [
    {
     "data": {
      "text/plain": [
       "(35L, <StatusCode.success: 0>)"
      ]
     },
     "execution_count": 8,
     "metadata": {},
     "output_type": "execute_result"
    }
   ],
   "source": [
    "pna.write(\"DISPlay:WINDow3:STATE ON\")\n",
    "pna.write(\"CALCulate:PARameter:DEFine 'S12',S12\")\n",
    "pna.write(\"DISPlay:WINDow3:TRACe3:FEED 'S12'\")"
   ]
  },
  {
   "cell_type": "code",
   "execution_count": 9,
   "metadata": {
    "collapsed": false
   },
   "outputs": [
    {
     "data": {
      "text/plain": [
       "(35L, <StatusCode.success: 0>)"
      ]
     },
     "execution_count": 9,
     "metadata": {},
     "output_type": "execute_result"
    }
   ],
   "source": [
    "pna.write(\"DISPlay:WINDow4:STATE ON\")\n",
    "pna.write(\"CALCulate:PARameter:DEFine 'S22',S22\")\n",
    "pna.write(\"DISPlay:WINDow4:TRACe4:FEED 'S22'\")"
   ]
  },
  {
   "cell_type": "code",
   "execution_count": 15,
   "metadata": {
    "collapsed": false
   },
   "outputs": [
    {
     "data": {
      "text/plain": [
       "(35L, <StatusCode.success: 0>)"
      ]
     },
     "execution_count": 15,
     "metadata": {},
     "output_type": "execute_result"
    }
   ],
   "source": [
    "pna.write(\"SYST:FPRESET\")\n",
    "pna.write(\"DISPlay:WINDow1:STATE ON\")\n",
    "pna.write(\"CALCulate:PARameter:DEFine 'S11',S11\")\n",
    "pna.write(\"DISPlay:WINDow1:TRACe1:FEED 'S11'\")\n",
    "pna.write(\"CALCulate:PARameter:DEFine 'S12',S12\")\n",
    "pna.write(\"DISPlay:WINDow1:TRACe2:FEED 'S12'\")\n",
    "pna.write(\"CALCulate:PARameter:DEFine 'S21',S21\")\n",
    "pna.write(\"DISPlay:WINDow1:TRACe3:FEED 'S21'\")\n",
    "pna.write(\"CALCulate:PARameter:DEFine 'S22',S22\")\n",
    "pna.write(\"DISPlay:WINDow1:TRACe4:FEED 'S22'\")"
   ]
  },
  {
   "cell_type": "code",
   "execution_count": 21,
   "metadata": {
    "collapsed": false
   },
   "outputs": [
    {
     "data": {
      "text/plain": [
       "(23L, <StatusCode.success: 0>)"
      ]
     },
     "execution_count": 21,
     "metadata": {},
     "output_type": "execute_result"
    }
   ],
   "source": [
    "pna.write(\"SENS:SWE:MODE HOLD\")\n",
    "#pna.write(\"TRIG:SOUR MAN\")\n",
    "#pna.write(\"CONT:SIGN BNC,TILHIGH\")\n",
    "#pna.write('TRIG:SCOP ALL')\n",
    "pna.write(\"SENS1:SWE:MODE GROUPS\")"
   ]
  },
  {
   "cell_type": "code",
   "execution_count": 20,
   "metadata": {
    "collapsed": false
   },
   "outputs": [
    {
     "data": {
      "text/plain": [
       "(23L, <StatusCode.success: 0>)"
      ]
     },
     "execution_count": 20,
     "metadata": {},
     "output_type": "execute_result"
    }
   ],
   "source": [
    "pna.write(\"SENS:SWE:MODE HOLD\")\n",
    "pna.write(\"TRIG:SOUR MAN\")\n",
    "pna.write(\"CONT:SIGN BNC,TILHIGH\")"
   ]
  },
  {
   "cell_type": "markdown",
   "metadata": {},
   "source": [
    "```vb\n",
    "Private Sub ReadWrite_Click()\n",
    "Dim i As Integer\n",
    "Dim t As Integer\n",
    "Dim q As Integer\n",
    "Dim dat As String\n",
    "Dim cmd As String\n",
    "Dim datum() As Double\n",
    "GPIB.Configure\n",
    "GPIB.Write \"SYSTem:PRESet;*wai\"\n",
    "'Select the measurement\n",
    "GPIB.Write \"CALCulate:PARameter:SELect 'CH1_S11_1'\"\n",
    "'Read the number of data points\n",
    "GPIB.Write \"SENSe1:SWEep:POIN?\"\n",
    "numpts = GPIB.Read\n",
    "'Turn continuous sweep off\n",
    "GPIB.Write \"INITiate:CONTinuous OFF\"\n",
    "'Take a sweep\n",
    "GPIB.Write \"INITiate:IMMediate;*wai\"\n",
    "'Ask for the Data\n",
    "'PICK ONE OF THESE LOCATIONS TO READ\n",
    "'GPIB.Write \"CALCulate:DATA? FDATA\" 'Formatted Meas\n",
    "'GPIB.Write \"CALCulate:DATA? FMEM\" 'Formatted Memory\n",
    "GPIB.Write \"CALCulate:DATA? SDATA\" 'Corrected, Complex Meas\n",
    "'GPIB.Write \"CALCulate:DATA? SMEM\" 'Corrected, Complex Memory\n",
    "'GPIB.Write \"CALCulate:DATA? SCORR1\" 'Error-Term Directivity\n",
    "'Number of values returned per data point\n",
    "```"
   ]
  },
  {
   "cell_type": "code",
   "execution_count": 23,
   "metadata": {
    "collapsed": false
   },
   "outputs": [],
   "source": [
    "data=pna.query('CALC:DATA? SDATA')"
   ]
  },
  {
   "cell_type": "code",
   "execution_count": 112,
   "metadata": {
    "collapsed": false
   },
   "outputs": [
    {
     "data": {
      "text/plain": [
       "{'SENS:AVER': u'0',\n",
       " 'SENS:BAND': u'+5.00000000000E+001',\n",
       " 'SENS:CORR:STAT': u'0',\n",
       " 'SENS:SWE:TYPE': u'LIN',\n",
       " 'SOUR:POW': u'-1.70000000000E+001',\n",
       " 'SOUR:POW:CORR:STAT': u'0',\n",
       " 'SOUR:POW:SLOP': u'+0.00000000000E+000'}"
      ]
     },
     "execution_count": 112,
     "metadata": {},
     "output_type": "execute_result"
    }
   ],
   "source": [
    "pna.get_state()"
   ]
  },
  {
   "cell_type": "code",
   "execution_count": 24,
   "metadata": {
    "collapsed": false
   },
   "outputs": [
    {
     "data": {
      "text/plain": [
       "8040"
      ]
     },
     "execution_count": 24,
     "metadata": {},
     "output_type": "execute_result"
    }
   ],
   "source": [
    "len(data)"
   ]
  },
  {
   "cell_type": "code",
   "execution_count": 26,
   "metadata": {
    "collapsed": false
   },
   "outputs": [
    {
     "data": {
      "text/plain": [
       "402"
      ]
     },
     "execution_count": 26,
     "metadata": {},
     "output_type": "execute_result"
    }
   ],
   "source": [
    "len(data.split(','))"
   ]
  },
  {
   "cell_type": "code",
   "execution_count": 28,
   "metadata": {
    "collapsed": false
   },
   "outputs": [
    {
     "data": {
      "text/plain": [
       "u'+201\\n'"
      ]
     },
     "execution_count": 28,
     "metadata": {},
     "output_type": "execute_result"
    }
   ],
   "source": [
    "pna.ask('SENS:SWE:POIN?')"
   ]
  },
  {
   "cell_type": "code",
   "execution_count": 32,
   "metadata": {
    "collapsed": true
   },
   "outputs": [],
   "source": [
    "s11_string=pna.query('CALC:DATA? SDATA')\n",
    "pna.write('CALC:PAR:SEL S12')\n",
    "s12_string=pna.query('CALC:DATA? SDATA')"
   ]
  },
  {
   "cell_type": "code",
   "execution_count": 35,
   "metadata": {
    "collapsed": false
   },
   "outputs": [
    {
     "data": {
      "text/plain": [
       "402"
      ]
     },
     "execution_count": 35,
     "metadata": {},
     "output_type": "execute_result"
    }
   ],
   "source": [
    "len(s11_string.split(','))"
   ]
  },
  {
   "cell_type": "code",
   "execution_count": 36,
   "metadata": {
    "collapsed": false
   },
   "outputs": [
    {
     "data": {
      "text/plain": [
       "['DEFAULT_STATE_QUERY_DICTIONARY',\n",
       " 'STATE_BUFFER_MAX_LENGTH',\n",
       " '__doc__',\n",
       " '__init__',\n",
       " '__module__',\n",
       " '__str__',\n",
       " 'addEntry',\n",
       " 'add_entry',\n",
       " 'alias',\n",
       " 'ask',\n",
       " 'commands',\n",
       " 'current_state',\n",
       " 'description',\n",
       " 'document',\n",
       " 'getImagePath',\n",
       " 'getQueryDictionary',\n",
       " 'getState',\n",
       " 'get_image_path',\n",
       " 'get_query_dictionary',\n",
       " 'get_state',\n",
       " 'idn',\n",
       " 'image',\n",
       " 'info_found',\n",
       " 'info_path',\n",
       " 'instrument_address',\n",
       " 'instrument_type',\n",
       " 'loadState',\n",
       " 'load_state',\n",
       " 'location',\n",
       " 'name',\n",
       " 'nist_tag',\n",
       " 'options',\n",
       " 'path',\n",
       " 'query',\n",
       " 'read',\n",
       " 'resource',\n",
       " 'resource_manager',\n",
       " 'root',\n",
       " 'save',\n",
       " 'saveCurrentState',\n",
       " 'saveHtml',\n",
       " 'saveState',\n",
       " 'save_HTML',\n",
       " 'save_current_state',\n",
       " 'save_state',\n",
       " 'setState',\n",
       " 'set_state',\n",
       " 'show',\n",
       " 'state_buffer',\n",
       " 'toHtml',\n",
       " 'to_HTML',\n",
       " 'updateCurrentState',\n",
       " 'update_current_state',\n",
       " 'write']"
      ]
     },
     "execution_count": 36,
     "metadata": {},
     "output_type": "execute_result"
    }
   ],
   "source": [
    "dir(pna)"
   ]
  },
  {
   "cell_type": "code",
   "execution_count": 37,
   "metadata": {
    "collapsed": false
   },
   "outputs": [
    {
     "data": {
      "text/plain": [
       "'Building 81, D121'"
      ]
     },
     "execution_count": 37,
     "metadata": {},
     "output_type": "execute_result"
    }
   ],
   "source": [
    "pna.location"
   ]
  },
  {
   "cell_type": "code",
   "execution_count": 38,
   "metadata": {
    "collapsed": false
   },
   "outputs": [
    {
     "data": {
      "text/plain": [
       "'E8361A'"
      ]
     },
     "execution_count": 38,
     "metadata": {},
     "output_type": "execute_result"
    }
   ],
   "source": [
    "pna.name"
   ]
  },
  {
   "cell_type": "code",
   "execution_count": 39,
   "metadata": {
    "collapsed": false
   },
   "outputs": [
    {
     "data": {
      "text/plain": [
       "[]"
      ]
     },
     "execution_count": 39,
     "metadata": {},
     "output_type": "execute_result"
    }
   ],
   "source": [
    "pna.commands"
   ]
  },
  {
   "cell_type": "code",
   "execution_count": 12,
   "metadata": {
    "collapsed": false
   },
   "outputs": [
    {
     "ename": "VisaIOError",
     "evalue": "VI_ERROR_CONN_LOST (-1073807194): The connection for the given session has been lost.",
     "output_type": "error",
     "traceback": [
      "\u001b[0;31m---------------------------------------------------------------------------\u001b[0m",
      "\u001b[0;31mVisaIOError\u001b[0m                               Traceback (most recent call last)",
      "\u001b[0;32m<ipython-input-12-d5421d00eacf>\u001b[0m in \u001b[0;36m<module>\u001b[0;34m()\u001b[0m\n\u001b[0;32m----> 1\u001b[0;31m \u001b[0mzva\u001b[0m\u001b[1;33m=\u001b[0m\u001b[0mVisaInstrument\u001b[0m\u001b[1;33m(\u001b[0m\u001b[1;34m\"ZVA110\"\u001b[0m\u001b[1;33m)\u001b[0m\u001b[1;33m\u001b[0m\u001b[0m\n\u001b[0m",
      "\u001b[0;32mC:\\ProgramData\\Anaconda2\\lib\\site-packages\\pyMeasure\\Code\\InstrumentControl\\Instruments.pyc\u001b[0m in \u001b[0;36m__init__\u001b[0;34m(self, resource_name, **options)\u001b[0m\n\u001b[1;32m    195\u001b[0m         \u001b[0mself\u001b[0m\u001b[1;33m.\u001b[0m\u001b[0mresource_manager\u001b[0m\u001b[1;33m=\u001b[0m\u001b[0mvisa\u001b[0m\u001b[1;33m.\u001b[0m\u001b[0mResourceManager\u001b[0m\u001b[1;33m(\u001b[0m\u001b[1;33m)\u001b[0m\u001b[1;33m\u001b[0m\u001b[0m\n\u001b[1;32m    196\u001b[0m         \u001b[1;31m# Call the visa instrument class-- this gives ask,write,read\u001b[0m\u001b[1;33m\u001b[0m\u001b[1;33m\u001b[0m\u001b[0m\n\u001b[0;32m--> 197\u001b[0;31m         \u001b[0mself\u001b[0m\u001b[1;33m.\u001b[0m\u001b[0mresource\u001b[0m\u001b[1;33m=\u001b[0m\u001b[0mself\u001b[0m\u001b[1;33m.\u001b[0m\u001b[0mresource_manager\u001b[0m\u001b[1;33m.\u001b[0m\u001b[0mopen_resource\u001b[0m\u001b[1;33m(\u001b[0m\u001b[0mself\u001b[0m\u001b[1;33m.\u001b[0m\u001b[0minstrument_address\u001b[0m\u001b[1;33m)\u001b[0m\u001b[1;33m\u001b[0m\u001b[0m\n\u001b[0m\u001b[1;32m    198\u001b[0m         \u001b[0mself\u001b[0m\u001b[1;33m.\u001b[0m\u001b[0mcurrent_state\u001b[0m\u001b[1;33m=\u001b[0m\u001b[0mself\u001b[0m\u001b[1;33m.\u001b[0m\u001b[0mget_state\u001b[0m\u001b[1;33m(\u001b[0m\u001b[1;33m)\u001b[0m\u001b[1;33m\u001b[0m\u001b[0m\n\u001b[1;32m    199\u001b[0m \u001b[1;33m\u001b[0m\u001b[0m\n",
      "\u001b[0;32mC:\\ProgramData\\Anaconda2\\lib\\site-packages\\pyvisa\\highlevel.pyc\u001b[0m in \u001b[0;36mopen_resource\u001b[0;34m(self, resource_name, access_mode, open_timeout, resource_pyclass, **kwargs)\u001b[0m\n\u001b[1;32m   1642\u001b[0m                 \u001b[1;32mraise\u001b[0m \u001b[0mValueError\u001b[0m\u001b[1;33m(\u001b[0m\u001b[1;34m'%r is not a valid attribute for type %s'\u001b[0m \u001b[1;33m%\u001b[0m \u001b[1;33m(\u001b[0m\u001b[0mkey\u001b[0m\u001b[1;33m,\u001b[0m \u001b[0mres\u001b[0m\u001b[1;33m.\u001b[0m\u001b[0m__class__\u001b[0m\u001b[1;33m.\u001b[0m\u001b[0m__name__\u001b[0m\u001b[1;33m)\u001b[0m\u001b[1;33m)\u001b[0m\u001b[1;33m\u001b[0m\u001b[0m\n\u001b[1;32m   1643\u001b[0m \u001b[1;33m\u001b[0m\u001b[0m\n\u001b[0;32m-> 1644\u001b[0;31m         \u001b[0mres\u001b[0m\u001b[1;33m.\u001b[0m\u001b[0mopen\u001b[0m\u001b[1;33m(\u001b[0m\u001b[0maccess_mode\u001b[0m\u001b[1;33m,\u001b[0m \u001b[0mopen_timeout\u001b[0m\u001b[1;33m)\u001b[0m\u001b[1;33m\u001b[0m\u001b[0m\n\u001b[0m\u001b[1;32m   1645\u001b[0m \u001b[1;33m\u001b[0m\u001b[0m\n\u001b[1;32m   1646\u001b[0m         \u001b[1;32mfor\u001b[0m \u001b[0mkey\u001b[0m\u001b[1;33m,\u001b[0m \u001b[0mvalue\u001b[0m \u001b[1;32min\u001b[0m \u001b[0mkwargs\u001b[0m\u001b[1;33m.\u001b[0m\u001b[0mitems\u001b[0m\u001b[1;33m(\u001b[0m\u001b[1;33m)\u001b[0m\u001b[1;33m:\u001b[0m\u001b[1;33m\u001b[0m\u001b[0m\n",
      "\u001b[0;32mC:\\ProgramData\\Anaconda2\\lib\\site-packages\\pyvisa\\resources\\resource.pyc\u001b[0m in \u001b[0;36mopen\u001b[0;34m(self, access_mode, open_timeout)\u001b[0m\n\u001b[1;32m    201\u001b[0m         \u001b[0mlogger\u001b[0m\u001b[1;33m.\u001b[0m\u001b[0mdebug\u001b[0m\u001b[1;33m(\u001b[0m\u001b[1;34m'%s - opening ...'\u001b[0m\u001b[1;33m,\u001b[0m \u001b[0mself\u001b[0m\u001b[1;33m.\u001b[0m\u001b[0m_resource_name\u001b[0m\u001b[1;33m,\u001b[0m \u001b[0mextra\u001b[0m\u001b[1;33m=\u001b[0m\u001b[0mself\u001b[0m\u001b[1;33m.\u001b[0m\u001b[0m_logging_extra\u001b[0m\u001b[1;33m)\u001b[0m\u001b[1;33m\u001b[0m\u001b[0m\n\u001b[1;32m    202\u001b[0m         \u001b[1;32mwith\u001b[0m \u001b[0mself\u001b[0m\u001b[1;33m.\u001b[0m\u001b[0m_resource_manager\u001b[0m\u001b[1;33m.\u001b[0m\u001b[0mignore_warning\u001b[0m\u001b[1;33m(\u001b[0m\u001b[0mconstants\u001b[0m\u001b[1;33m.\u001b[0m\u001b[0mVI_SUCCESS_DEV_NPRESENT\u001b[0m\u001b[1;33m)\u001b[0m\u001b[1;33m:\u001b[0m\u001b[1;33m\u001b[0m\u001b[0m\n\u001b[0;32m--> 203\u001b[0;31m             \u001b[0mself\u001b[0m\u001b[1;33m.\u001b[0m\u001b[0msession\u001b[0m\u001b[1;33m,\u001b[0m \u001b[0mstatus\u001b[0m \u001b[1;33m=\u001b[0m \u001b[0mself\u001b[0m\u001b[1;33m.\u001b[0m\u001b[0m_resource_manager\u001b[0m\u001b[1;33m.\u001b[0m\u001b[0mopen_bare_resource\u001b[0m\u001b[1;33m(\u001b[0m\u001b[0mself\u001b[0m\u001b[1;33m.\u001b[0m\u001b[0m_resource_name\u001b[0m\u001b[1;33m,\u001b[0m \u001b[0maccess_mode\u001b[0m\u001b[1;33m,\u001b[0m \u001b[0mopen_timeout\u001b[0m\u001b[1;33m)\u001b[0m\u001b[1;33m\u001b[0m\u001b[0m\n\u001b[0m\u001b[1;32m    204\u001b[0m \u001b[1;33m\u001b[0m\u001b[0m\n\u001b[1;32m    205\u001b[0m             \u001b[1;32mif\u001b[0m \u001b[0mstatus\u001b[0m \u001b[1;33m==\u001b[0m \u001b[0mconstants\u001b[0m\u001b[1;33m.\u001b[0m\u001b[0mVI_SUCCESS_DEV_NPRESENT\u001b[0m\u001b[1;33m:\u001b[0m\u001b[1;33m\u001b[0m\u001b[0m\n",
      "\u001b[0;32mC:\\ProgramData\\Anaconda2\\lib\\site-packages\\pyvisa\\highlevel.pyc\u001b[0m in \u001b[0;36mopen_bare_resource\u001b[0;34m(self, resource_name, access_mode, open_timeout)\u001b[0m\n\u001b[1;32m   1599\u001b[0m         \u001b[1;33m:\u001b[0m\u001b[1;32mreturn\u001b[0m\u001b[1;33m:\u001b[0m \u001b[0mUnique\u001b[0m \u001b[0mlogical\u001b[0m \u001b[0midentifier\u001b[0m \u001b[0mreference\u001b[0m \u001b[0mto\u001b[0m \u001b[0ma\u001b[0m \u001b[0msession\u001b[0m\u001b[1;33m.\u001b[0m\u001b[1;33m\u001b[0m\u001b[0m\n\u001b[1;32m   1600\u001b[0m         \"\"\"\n\u001b[0;32m-> 1601\u001b[0;31m         \u001b[1;32mreturn\u001b[0m \u001b[0mself\u001b[0m\u001b[1;33m.\u001b[0m\u001b[0mvisalib\u001b[0m\u001b[1;33m.\u001b[0m\u001b[0mopen\u001b[0m\u001b[1;33m(\u001b[0m\u001b[0mself\u001b[0m\u001b[1;33m.\u001b[0m\u001b[0msession\u001b[0m\u001b[1;33m,\u001b[0m \u001b[0mresource_name\u001b[0m\u001b[1;33m,\u001b[0m \u001b[0maccess_mode\u001b[0m\u001b[1;33m,\u001b[0m \u001b[0mopen_timeout\u001b[0m\u001b[1;33m)\u001b[0m\u001b[1;33m\u001b[0m\u001b[0m\n\u001b[0m\u001b[1;32m   1602\u001b[0m \u001b[1;33m\u001b[0m\u001b[0m\n\u001b[1;32m   1603\u001b[0m     def open_resource(self, resource_name,\n",
      "\u001b[0;32mC:\\ProgramData\\Anaconda2\\lib\\site-packages\\pyvisa\\ctwrapper\\functions.pyc\u001b[0m in \u001b[0;36mopen\u001b[0;34m(library, session, resource_name, access_mode, open_timeout)\u001b[0m\n\u001b[1;32m   1209\u001b[0m     \u001b[1;31m# [ViSession, ViRsrc, ViAccessMode, ViUInt32, ViPSession]\u001b[0m\u001b[1;33m\u001b[0m\u001b[1;33m\u001b[0m\u001b[0m\n\u001b[1;32m   1210\u001b[0m     \u001b[1;31m# ViRsrc converts from (str, unicode, bytes) to bytes\u001b[0m\u001b[1;33m\u001b[0m\u001b[1;33m\u001b[0m\u001b[0m\n\u001b[0;32m-> 1211\u001b[0;31m     \u001b[0mret\u001b[0m \u001b[1;33m=\u001b[0m \u001b[0mlibrary\u001b[0m\u001b[1;33m.\u001b[0m\u001b[0mviOpen\u001b[0m\u001b[1;33m(\u001b[0m\u001b[0msession\u001b[0m\u001b[1;33m,\u001b[0m \u001b[0mresource_name\u001b[0m\u001b[1;33m,\u001b[0m \u001b[0maccess_mode\u001b[0m\u001b[1;33m,\u001b[0m \u001b[0mopen_timeout\u001b[0m\u001b[1;33m,\u001b[0m \u001b[0mbyref\u001b[0m\u001b[1;33m(\u001b[0m\u001b[0mout_session\u001b[0m\u001b[1;33m)\u001b[0m\u001b[1;33m)\u001b[0m\u001b[1;33m\u001b[0m\u001b[0m\n\u001b[0m\u001b[1;32m   1212\u001b[0m     \u001b[1;32mreturn\u001b[0m \u001b[0mout_session\u001b[0m\u001b[1;33m.\u001b[0m\u001b[0mvalue\u001b[0m\u001b[1;33m,\u001b[0m \u001b[0mret\u001b[0m\u001b[1;33m\u001b[0m\u001b[0m\n\u001b[1;32m   1213\u001b[0m \u001b[1;33m\u001b[0m\u001b[0m\n",
      "\u001b[0;32mC:\\ProgramData\\Anaconda2\\lib\\site-packages\\pyvisa\\ctwrapper\\highlevel.pyc\u001b[0m in \u001b[0;36m_return_handler\u001b[0;34m(self, ret_value, func, arguments)\u001b[0m\n\u001b[1;32m    186\u001b[0m \u001b[1;33m\u001b[0m\u001b[0m\n\u001b[1;32m    187\u001b[0m         \u001b[1;32mif\u001b[0m \u001b[0mret_value\u001b[0m \u001b[1;33m<\u001b[0m \u001b[1;36m0\u001b[0m\u001b[1;33m:\u001b[0m\u001b[1;33m\u001b[0m\u001b[0m\n\u001b[0;32m--> 188\u001b[0;31m             \u001b[1;32mraise\u001b[0m \u001b[0merrors\u001b[0m\u001b[1;33m.\u001b[0m\u001b[0mVisaIOError\u001b[0m\u001b[1;33m(\u001b[0m\u001b[0mret_value\u001b[0m\u001b[1;33m)\u001b[0m\u001b[1;33m\u001b[0m\u001b[0m\n\u001b[0m\u001b[1;32m    189\u001b[0m \u001b[1;33m\u001b[0m\u001b[0m\n\u001b[1;32m    190\u001b[0m         \u001b[1;32mif\u001b[0m \u001b[0mret_value\u001b[0m \u001b[1;32min\u001b[0m \u001b[0mself\u001b[0m\u001b[1;33m.\u001b[0m\u001b[0missue_warning_on\u001b[0m\u001b[1;33m:\u001b[0m\u001b[1;33m\u001b[0m\u001b[0m\n",
      "\u001b[0;31mVisaIOError\u001b[0m: VI_ERROR_CONN_LOST (-1073807194): The connection for the given session has been lost."
     ]
    }
   ],
   "source": [
    "zva=VisaInstrument(\"ZVA110\")"
   ]
  },
  {
   "cell_type": "code",
   "execution_count": 42,
   "metadata": {
    "collapsed": false
   },
   "outputs": [
    {
     "ename": "VisaIOError",
     "evalue": "VI_ERROR_CLOSING_FAILED (-1073807338): The VISA driver failed to properly close the session or object reference. This might be due to an error freeing internal or OS resources, a failed network connection, or a lower-level driver or OS error.",
     "output_type": "error",
     "traceback": [
      "\u001b[0;31m---------------------------------------------------------------------------\u001b[0m",
      "\u001b[0;31mVisaIOError\u001b[0m                               Traceback (most recent call last)",
      "\u001b[0;32m<ipython-input-42-ef434dee44a9>\u001b[0m in \u001b[0;36m<module>\u001b[0;34m()\u001b[0m\n\u001b[0;32m----> 1\u001b[0;31m \u001b[0mpna\u001b[0m\u001b[1;33m.\u001b[0m\u001b[0mresource_manager\u001b[0m\u001b[1;33m.\u001b[0m\u001b[0mclose\u001b[0m\u001b[1;33m(\u001b[0m\u001b[1;33m)\u001b[0m\u001b[1;33m\u001b[0m\u001b[0m\n\u001b[0m",
      "\u001b[0;32mC:\\ProgramData\\Anaconda2\\lib\\site-packages\\pyvisa\\highlevel.pyc\u001b[0m in \u001b[0;36mclose\u001b[0;34m(self)\u001b[0m\n\u001b[1;32m   1546\u001b[0m         \u001b[1;32mtry\u001b[0m\u001b[1;33m:\u001b[0m\u001b[1;33m\u001b[0m\u001b[0m\n\u001b[1;32m   1547\u001b[0m             \u001b[0mlogger\u001b[0m\u001b[1;33m.\u001b[0m\u001b[0mdebug\u001b[0m\u001b[1;33m(\u001b[0m\u001b[1;34m'Closing ResourceManager (session: %s)'\u001b[0m\u001b[1;33m,\u001b[0m \u001b[0mself\u001b[0m\u001b[1;33m.\u001b[0m\u001b[0msession\u001b[0m\u001b[1;33m)\u001b[0m\u001b[1;33m\u001b[0m\u001b[0m\n\u001b[0;32m-> 1548\u001b[0;31m             \u001b[0mself\u001b[0m\u001b[1;33m.\u001b[0m\u001b[0mvisalib\u001b[0m\u001b[1;33m.\u001b[0m\u001b[0mclose\u001b[0m\u001b[1;33m(\u001b[0m\u001b[0mself\u001b[0m\u001b[1;33m.\u001b[0m\u001b[0msession\u001b[0m\u001b[1;33m)\u001b[0m\u001b[1;33m\u001b[0m\u001b[0m\n\u001b[0m\u001b[1;32m   1549\u001b[0m             \u001b[0mself\u001b[0m\u001b[1;33m.\u001b[0m\u001b[0msession\u001b[0m \u001b[1;33m=\u001b[0m \u001b[0mNone\u001b[0m\u001b[1;33m\u001b[0m\u001b[0m\n\u001b[1;32m   1550\u001b[0m             \u001b[0mself\u001b[0m\u001b[1;33m.\u001b[0m\u001b[0mvisalib\u001b[0m\u001b[1;33m.\u001b[0m\u001b[0mresource_manager\u001b[0m \u001b[1;33m=\u001b[0m \u001b[0mNone\u001b[0m\u001b[1;33m\u001b[0m\u001b[0m\n",
      "\u001b[0;32mC:\\ProgramData\\Anaconda2\\lib\\site-packages\\pyvisa\\ctwrapper\\functions.pyc\u001b[0m in \u001b[0;36mclose\u001b[0;34m(library, session)\u001b[0m\n\u001b[1;32m    390\u001b[0m     \u001b[1;33m:\u001b[0m\u001b[0mrtype\u001b[0m\u001b[1;33m:\u001b[0m \u001b[1;33m:\u001b[0m\u001b[1;32mclass\u001b[0m\u001b[1;33m:\u001b[0m\u001b[1;33m`\u001b[0m\u001b[0mpyvisa\u001b[0m\u001b[1;33m.\u001b[0m\u001b[0mconstants\u001b[0m\u001b[1;33m.\u001b[0m\u001b[0mStatusCode\u001b[0m\u001b[1;33m`\u001b[0m\u001b[1;33m\u001b[0m\u001b[0m\n\u001b[1;32m    391\u001b[0m     \"\"\"\n\u001b[0;32m--> 392\u001b[0;31m     \u001b[1;32mreturn\u001b[0m \u001b[0mlibrary\u001b[0m\u001b[1;33m.\u001b[0m\u001b[0mviClose\u001b[0m\u001b[1;33m(\u001b[0m\u001b[0msession\u001b[0m\u001b[1;33m)\u001b[0m\u001b[1;33m\u001b[0m\u001b[0m\n\u001b[0m\u001b[1;32m    393\u001b[0m \u001b[1;33m\u001b[0m\u001b[0m\n\u001b[1;32m    394\u001b[0m \u001b[1;33m\u001b[0m\u001b[0m\n",
      "\u001b[0;32mC:\\ProgramData\\Anaconda2\\lib\\site-packages\\pyvisa\\ctwrapper\\highlevel.pyc\u001b[0m in \u001b[0;36m_return_handler\u001b[0;34m(self, ret_value, func, arguments)\u001b[0m\n\u001b[1;32m    186\u001b[0m \u001b[1;33m\u001b[0m\u001b[0m\n\u001b[1;32m    187\u001b[0m         \u001b[1;32mif\u001b[0m \u001b[0mret_value\u001b[0m \u001b[1;33m<\u001b[0m \u001b[1;36m0\u001b[0m\u001b[1;33m:\u001b[0m\u001b[1;33m\u001b[0m\u001b[0m\n\u001b[0;32m--> 188\u001b[0;31m             \u001b[1;32mraise\u001b[0m \u001b[0merrors\u001b[0m\u001b[1;33m.\u001b[0m\u001b[0mVisaIOError\u001b[0m\u001b[1;33m(\u001b[0m\u001b[0mret_value\u001b[0m\u001b[1;33m)\u001b[0m\u001b[1;33m\u001b[0m\u001b[0m\n\u001b[0m\u001b[1;32m    189\u001b[0m \u001b[1;33m\u001b[0m\u001b[0m\n\u001b[1;32m    190\u001b[0m         \u001b[1;32mif\u001b[0m \u001b[0mret_value\u001b[0m \u001b[1;32min\u001b[0m \u001b[0mself\u001b[0m\u001b[1;33m.\u001b[0m\u001b[0missue_warning_on\u001b[0m\u001b[1;33m:\u001b[0m\u001b[1;33m\u001b[0m\u001b[0m\n",
      "\u001b[0;31mVisaIOError\u001b[0m: VI_ERROR_CLOSING_FAILED (-1073807338): The VISA driver failed to properly close the session or object reference. This might be due to an error freeing internal or OS resources, a failed network connection, or a lower-level driver or OS error."
     ]
    }
   ],
   "source": [
    "pna.resource_manager.close()"
   ]
  },
  {
   "cell_type": "code",
   "execution_count": 4,
   "metadata": {
    "collapsed": false
   },
   "outputs": [
    {
     "data": {
      "text/plain": [
       "'Rohde&Schwarz,ZVA67-4Port,1312700403101122,3.80'"
      ]
     },
     "execution_count": 4,
     "metadata": {},
     "output_type": "execute_result"
    }
   ],
   "source": [
    "zva.idn"
   ]
  },
  {
   "cell_type": "code",
   "execution_count": 7,
   "metadata": {
    "collapsed": false
   },
   "outputs": [],
   "source": [
    "zva_2=VNA(\"ZVA\")"
   ]
  },
  {
   "cell_type": "code",
   "execution_count": 8,
   "metadata": {
    "collapsed": true
   },
   "outputs": [],
   "source": [
    "zva_2.initialize()"
   ]
  },
  {
   "cell_type": "code",
   "execution_count": 9,
   "metadata": {
    "collapsed": false
   },
   "outputs": [
    {
     "data": {
      "text/plain": [
       "{'SENS:AVER': u'0',\n",
       " 'SENS:BAND': u'10000',\n",
       " 'SENS:CORR:STAT': u'1',\n",
       " 'SENS:SWE:TYPE': u'LIN',\n",
       " 'SOUR:POW': u'-10',\n",
       " 'SOUR:POW:CORR:STAT': u'0',\n",
       " 'SOUR:POW:SLOP': u'0'}"
      ]
     },
     "execution_count": 9,
     "metadata": {},
     "output_type": "execute_result"
    }
   ],
   "source": [
    "zva.get_state()"
   ]
  },
  {
   "cell_type": "code",
   "execution_count": 11,
   "metadata": {
    "collapsed": true
   },
   "outputs": [],
   "source": [
    "zva.save_current_state()"
   ]
  },
  {
   "cell_type": "code",
   "execution_count": null,
   "metadata": {
    "collapsed": true
   },
   "outputs": [],
   "source": [
    "class InstrumentState(XMLBase):\n",
    "    \"\"\" An instrument state is an XML file with instrument setting information\"\"\"\n",
    "    def __init__(self,file_path=None,**options):\n",
    "        \"\"\" Intialize the InstrumentState class\"\"\"\n",
    "        defaults={\"root\":\"Instrument_State\",\n",
    "                  \"style_sheet\":os.path.join(XSLT_REPOSITORY,\n",
    "                                             'DEFAULT_STATE_STYLE.xsl').replace('\\\\','/'),\n",
    "                  \"specific_descriptor\":'Instrument',\n",
    "                  \"general_descriptor\":'State',\n",
    "                  \"directory\":None,\n",
    "                  \"extension\":'xml',\n",
    "                  \"date\":\"now\",\n",
    "                  \"state_dictionary\":None\n",
    "                  }\n",
    "        self.options={}\n",
    "        for key,value in defaults.iteritems():\n",
    "            self.options[key]=value\n",
    "        for key,value in options.iteritems():\n",
    "            self.options[key]=value\n",
    "\n",
    "\n",
    "        XMLBase.__init__(self,file_path,**self.options)\n",
    "        state_node=self.document.createElement('State')\n",
    "        self.document.documentElement.appendChild(state_node)\n",
    "        # This should be in State_Description as State_Timestamp?\n",
    "        if self.options[\"date\"] in ['now']:\n",
    "            # Add the Date attribute, this is the time when the state was created\n",
    "            date=datetime.datetime.utcnow().isoformat()\n",
    "            Date_attribute=self.document.createAttribute('Date')\n",
    "            state_node.setAttributeNode(Date_attribute)\n",
    "            state_node.setAttribute('Date',str(date))\n",
    "        if self.options[\"state_dictionary\"]:\n",
    "            for key,value in self.options[\"state_dictionary\"].iteritems():\n",
    "                new_entry=self.document.createElement('Tuple')\n",
    "                set_attribute=self.document.createAttribute('Set')\n",
    "                value_attribute=self.document.createAttribute('Value')\n",
    "                new_entry.setAttributeNode(set_attribute)\n",
    "                new_entry.setAttributeNode(value_attribute)\n",
    "                new_entry.setAttribute('Set',key)\n",
    "                new_entry.setAttribute('Value',str(value))\n",
    "                state_node.appendChild(new_entry)\n",
    "        # this is not the most direct way to define it but it is the most robust I think\n",
    "        self.state_node=self.document.getElementsByTagName('State')[0]\n",
    "        self.state_dictionary=dict([(str(node.getAttribute('Set')),\n",
    "        node.getAttribute('Value')) for node in \\\n",
    "        self.state_node.getElementsByTagName('Tuple')])\n",
    "\n",
    "    def add_state_description(self,description):\n",
    "        \"\"\"Adds the tag named State_Description and its information\n",
    "        Currently data can be entered as a dictionary of the form {'State_Description':{tag_name:tag_value}}\n",
    "        or as an element or as a string\"\"\"\n",
    "        try:\n",
    "            new_element=''\n",
    "            if type(description) is DictionaryType:\n",
    "                for key,value in description.iteritems():\n",
    "                    # This hanldes Tag:Text dictionaries\n",
    "                    if re.search('Description',key):\n",
    "                        new_element=self.document.createElement(key)\n",
    "                        for tag,element_text in value.iteritems():\n",
    "                            new_tag=self.document.createElement(tag)\n",
    "                            new_text=self.document.createTextNode(element_text)\n",
    "                            new_tag.appendChild(new_text)\n",
    "                            new_element.appendChild(new_tag)\n",
    "            elif type(description) is StringType:\n",
    "                new_element=self.document.createElement('State_Description')\n",
    "                new_text=self.document.createTextNode(str(description))\n",
    "                new_element.appendChild(new_text)\n",
    "            elif type(description) is InstanceType:\n",
    "                new_element=description\n",
    "            #first_child=self.document.documentElement.firstChild\n",
    "\n",
    "            self.document.documentElement.insertBefore(new_element,self.document.documentElement.childNodes[0])\n",
    "        except:\n",
    "            raise\n",
    "\n",
    "    def get_timestamp(self):\n",
    "        \"\"\"Tries to return the timestamp stored as an attribute date in the tag State\"\"\"\n",
    "        # Take the first thing called Image\n",
    "        state_node = self.document.getElementsByTagName('State')[0]\n",
    "        timestamp = state_node.getAttribute('Date')\n",
    "        return timestamp\n"
   ]
  },
  {
   "cell_type": "markdown",
   "metadata": {},
   "source": [
    "```xml\n",
    "<Instrument_State>\n",
    "<State_Description>\n",
    "<State_Timestamp></State_Timestamp>\n",
    "<Instrument_Sheet></Instrument_Sheet>\n",
    "</State_Description>\n",
    "<State>\n",
    "<Tuple Set=\"\" Query=\"\" Value=\"\"/>\n",
    "</State>\n",
    "</Instrument_State>\n",
    "```"
   ]
  },
  {
   "cell_type": "code",
   "execution_count": null,
   "metadata": {
    "collapsed": true
   },
   "outputs": [],
   "source": [
    "class DataTable(XMLBase):\n",
    "    \"\"\" This is a XML data table class with an optional description\"\"\"\n",
    "    def __init__(self,file_path=None,**options):\n",
    "        \"\"\" Intializes the DataTable Class. Passing **{'data_table':[mylist]} Returns a\n",
    "        table with x1 and x2 as column names. Passing **{'data_dictionary':{'Data_Description':{'Tag':'Text',etc},\n",
    "        'Data':[{'x':1,'y':2},{'x':2,'y':3}]\n",
    "         \"\"\"\n",
    "        # the general idea is <Data_Description/><Data><Tuple i=''/></Data>\n",
    "\n",
    "        # This is a general pattern for adding a lot of options\n",
    "        # The next more advanced thing to do is retrieve defaults from a settings file\n",
    "        defaults={\"root\":\"Data_Table\",\n",
    "                  \"style_sheet\":os.path.join(XSLT_REPOSITORY,'DEFAULT_MEASUREMENT_STYLE.xsl').replace('\\\\','/'),\n",
    "                  \"specific_descriptor\":'Data',\n",
    "                  \"general_descriptor\":'Table',\n",
    "                  \"directory\":None,\n",
    "                  \"extension\":'xml'\n",
    "                  }\n",
    "        self.options={}\n",
    "        for key,value in defaults.iteritems():\n",
    "            self.options[key]=value\n",
    "        for key,value in options.iteritems():\n",
    "            self.options[key]=value\n",
    "        XMLBase.__init__(self,file_path,**self.options)\n",
    "\n",
    "        try:\n",
    "            data_table=self.options['data_table']\n",
    "            if len(data_table)>0:\n",
    "                data_node=self.list_to_XML(data_table)\n",
    "                self.document.documentElement.appendChild(data_node)\n",
    "        except: pass\n",
    "        try:\n",
    "            data_dictionary=self.options['data_dictionary']\n",
    "            if len(data_dictionary)>0:\n",
    "                for key,value in data_dictionary.iteritems():\n",
    "                    # This hanldes Tag:Text dictionaries\n",
    "                    if re.search('description',key,re.IGNORECASE):\n",
    "                        #This is the flat dictionary handling code {\"Data_Description:{key:value}}\n",
    "                        #Need one that is {\"Data_Description\":{\"Context\":{key:value}}}\n",
    "                        new_entry=self.document.createElement(key)\n",
    "                        for tag,element_text in value.iteritems():\n",
    "                            if type(element_text) is DictionaryType:\n",
    "                                new_tag=self.document.createElement(tag)\n",
    "                                new_entry.appendChild(new_tag)\n",
    "                                for inner_tag,inner_element_text in element_text.iteritems():\n",
    "                                    new_inner_tag=self.document.createElement(inner_tag)\n",
    "                                    new_inner_text=self.document.createTextNode(inner_element_text)\n",
    "                                    new_inner_tag.appendChild(new_inner_text)\n",
    "                                    new_tag.appendChild(new_inner_tag)\n",
    "                            else:\n",
    "                                new_tag=self.document.createElement(tag)\n",
    "                                new_text=self.document.createTextNode(element_text)\n",
    "                                new_tag.appendChild(new_text)\n",
    "                                new_entry.appendChild(new_tag)\n",
    "                        self.document.documentElement.appendChild(new_entry)\n",
    "                    if re.search('data',key,re.IGNORECASE) and not re.search('Description',key,re.IGNORECASE):\n",
    "                        new_entry=self.list_to_XML(value)\n",
    "                        self.document.documentElement.appendChild(new_entry)\n",
    "        except:pass\n",
    "        self.attribute_names=self.get_attribute_names()\n",
    "        node_list=self.document.getElementsByTagName('Tuple')\n",
    "        self.data=[[node.getAttribute(attribute_name) for\n",
    "            attribute_name in self.attribute_names] for node in node_list]\n",
    "\n",
    "    def list_to_XML(self,data_list):\n",
    "        \"\"\" Converts a list to XML document\"\"\"\n",
    "        data_node=self.document.createElement('Data')\n",
    "        #self.document.documentElement.appendChild(data_node)\n",
    "        for row in data_list:\n",
    "            if type(row) in [ListType,TupleType]:\n",
    "                new_entry=self.document.createElement('Tuple')\n",
    "                for j,datum in enumerate(row):\n",
    "                    x_attribute=self.document.createAttribute('X%s'%j)\n",
    "                    new_entry.setAttributeNode(x_attribute)\n",
    "                    new_entry.setAttribute('X%s'%j,str(datum))\n",
    "                data_node.appendChild(new_entry)\n",
    "            elif type(row) is DictionaryType:\n",
    "                new_entry=self.document.createElement('Tuple')\n",
    "                for key,datum in row.iteritems():\n",
    "                    x_attribute=self.document.createAttribute(key)\n",
    "                    new_entry.setAttributeNode(x_attribute)\n",
    "                    new_entry.setAttribute(key,str(datum))\n",
    "                data_node.appendChild(new_entry)\n",
    "        return data_node\n",
    "\n",
    "    def get_attribute_names(self):\n",
    "        \"\"\" Returns the attribute names in the first tuple element in the 'data' element \"\"\"\n",
    "        attribute_names=[]\n",
    "        data_nodes=self.document.getElementsByTagName('Data')\n",
    "        first_tuple_node=data_nodes[0].childNodes[1]\n",
    "        text=first_tuple_node.toprettyxml()\n",
    "        text_list=text.split(' ')\n",
    "        #print text_list\n",
    "        for item in text_list:\n",
    "            try:\n",
    "                match=re.search('(?P<attribute_name>\\w+)=',item)\n",
    "                name=match.group('attribute_name')\n",
    "                #print name\n",
    "                attribute_names.append(name)\n",
    "            except:pass\n",
    "        return attribute_names\n",
    "\n",
    "    def to_list(self,attribute_name):\n",
    "        \"\"\" Outputs the data as a list given a data column (attribute) name\"\"\"\n",
    "        try:\n",
    "            node_list=self.document.getElementsByTagName('Tuple')\n",
    "            data_list=[node.getAttribute(attribute_name) for node in node_list]\n",
    "            return data_list\n",
    "        except:\n",
    "            return None\n",
    "\n",
    "    def to_tuple_list(self,attribute_names=None):\n",
    "        \"\"\" Returns a list of tuples for the specified list of attribute names\"\"\"\n",
    "        if not attribute_names:\n",
    "            attribute_names=self.get_attribute_names()\n",
    "        try:\n",
    "            node_list=self.document.getElementsByTagName('Tuple')\n",
    "            data_list=[tuple([node.getAttribute(attribute_name) for\n",
    "            attribute_name in attribute_names]) for node in node_list]\n",
    "            return data_list\n",
    "        except:\n",
    "            return None\n",
    "\n",
    "    def get_header(self,style='txt'):\n",
    "        \"\"\" Returns a header from the data description if there is one\"\"\"\n",
    "        try:\n",
    "            node_list=self.document.getElementsByTagName('Data_Description')\n",
    "            data_description=node_list[0]\n",
    "            out=''\n",
    "            if style in ['txt','text','ascii']:\n",
    "                for child in data_description.childNodes:\n",
    "                    try:\n",
    "                        out=out+'%s: %s'%(child.nodeName,child.firstChild.nodeValue)+'\\n'\n",
    "                    except:pass\n",
    "                return out\n",
    "            elif re.search('xml',style,flags=re.IGNORECASE):\n",
    "                out=data_description.toprettyxml()\n",
    "                return out\n",
    "        except:\n",
    "            raise\n"
   ]
  }
 ],
 "metadata": {
  "kernelspec": {
   "display_name": "Python 2",
   "language": "python",
   "name": "python2"
  },
  "language_info": {
   "codemirror_mode": {
    "name": "ipython",
    "version": 2
   },
   "file_extension": ".py",
   "mimetype": "text/x-python",
   "name": "python",
   "nbconvert_exporter": "python",
   "pygments_lexer": "ipython2",
   "version": "2.7.13"
  }
 },
 "nbformat": 4,
 "nbformat_minor": 2
}
