{
 "cells": [
  {
   "cell_type": "markdown",
   "metadata": {},
   "source": [
    "<title> Building Calnet Example</title>\n",
    "# How to build Calnet\n",
    "written by Aric Sanders, 02/2016\n",
    "\n",
    "A general description of how to build calnet. "
   ]
  },
  {
   "cell_type": "markdown",
   "metadata": {},
   "source": [
    "## 1. Make the skeleton \n",
    "\n",
    "   1. run \"django-admin startproject MyProject\" from a command prompt\n",
    "   2. move into the directory containing manage.py \n",
    "        + i.e. run \"cd MyProject\"\n",
    "   3. run \"python manage.py startapp AppName\" for each app\n",
    "        + if you have multiple python installs you can replace python with the path to the bin or exe\n",
    "   4. make some standard directories your favorite way\n",
    "        + django name spaces its static directories as AppName/static/AppName/ the same with template directories\n",
    "        \n",
    "<em>Here we use a python script to create the directories we need</em>"
   ]
  },
  {
   "cell_type": "code",
   "execution_count": 1,
   "metadata": {
    "collapsed": true
   },
   "outputs": [],
   "source": [
    "def write_project_urls(app_names):\n",
    "    \"\"\"Writes a basic urls.py for a django-project \n",
    "    given the app names\"\"\"\n",
    "    urls_imports=['from django.conf.urls import include, url\\n',\n",
    "                 'from django.contrib import admin\\n']\n",
    "    \n",
    "    url_pattern_lines=['urlpatterns= [\\n',\n",
    "                       \"  url(r'^admin/', admin.site.urls),\\n\"\n",
    "                      ]\n",
    "    for app_name in app_names:\n",
    "        url_pattern=\"  url(r'^%s/',include('%s.urls')),\\n\"%(app_name,app_name)\n",
    "        url_pattern_lines.append(url_pattern)\n",
    "    url_pattern_lines.append('  ]')\n",
    "\n",
    "    out_file=open('urls.py','w')\n",
    "    for line in urls_imports:\n",
    "        out_file.write(line)\n",
    "    for line in url_pattern_lines:\n",
    "        out_file.write(line)\n",
    "    out_file.close()\n",
    "    \n",
    "def write_app_urls(app_name):\n",
    "    \"\"\"Writes a basic urls.py for a django-app\"\"\"\n",
    "    # Write the import string\n",
    "    urls_imports=['from django.conf.urls import url\\n',\n",
    "                 'from . import views\\n']\n",
    "    # write the app_name = line\n",
    "    app_name_line=\"app_name= '%s'\\n\"%app_name\n",
    "    # write the url patterns\n",
    "    url_pattern_lines=['urlpatterns= [\\n',\n",
    "                       \"  url(r'^$',views.index,name='index'),\\n\",\n",
    "                      '  ]\\n']\n",
    "    # open the file and do the work\n",
    "    out_file=open('urls.py','w')\n",
    "    for line in urls_imports:\n",
    "        out_file.write(line)\n",
    "    out_file.write(app_name_line)\n",
    "    for line in url_pattern_lines:\n",
    "        out_file.write(line)\n",
    "    out_file.close()"
   ]
  },
  {
   "cell_type": "code",
   "execution_count": 3,
   "metadata": {
    "collapsed": false
   },
   "outputs": [],
   "source": [
    "import os\n",
    "try:\n",
    "    # set the top most directory\n",
    "    current_directory=os.getcwd() # Should change this if it needs to be\n",
    "    # name the project\n",
    "    project_name='Calnet'\n",
    "    #name the apps, use a general naming scheme. Here I have used CamelCase and Nouns\n",
    "    app_names=['Help','Repository','Preferences','ProjectTracker','CheckStandard',\n",
    "               'Uncertainties','Measurement']\n",
    "    # run a system command to create the project\n",
    "    os.system('django-admin startproject %s'%project_name)\n",
    "    # move into the directory with manage.py in it\n",
    "    os.chdir(os.path.join(current_directory,'%s'%project_name))\n",
    "    # keep the current directory\n",
    "    current_directory=os.getcwd()\n",
    "    manage_directory=os.getcwd() # we will want this directory for a lot of things\n",
    "    # write a urls for the project\n",
    "    os.chdir(os.path.join(manage_directory,'%s'%project_name))\n",
    "    write_project_urls(app_names)\n",
    "    os.chdir(manage_directory)\n",
    "    # loop through the apps creating them \n",
    "    for app in app_names:\n",
    "        os.system('python manage.py startapp %s'%app)   \n",
    "    # Now write the urls.py for each app\n",
    "    for app in app_names:\n",
    "        os.chdir(os.path.join(manage_directory,'%s'%app))\n",
    "        write_app_urls(app)\n",
    "    # Once the apps are made, make static and \n",
    "    # template directories in each app for {{ static files }}\n",
    "    # Note this could be combined with the 'startapp' loop\n",
    "    for app in app_names:\n",
    "        # static directory is redundant for makedirs, but retained for clarity\n",
    "        # These directories are in the location django will look for them\n",
    "        static_directory=os.path.join(current_directory,'%s'%app,'static','%s'%app)\n",
    "        template_directory=os.path.join(current_directory,'%s'%app,'templates','%s'%app)\n",
    "        # This could be a list of exec commands\n",
    "        img_directory=os.path.join(current_directory,'%s'%app,'static','%s'%app,'img')\n",
    "        js_directory=os.path.join(current_directory,'%s'%app,'static','%s'%app,'js')\n",
    "        css_directory=os.path.join(current_directory,'%s'%app,'static','%s'%app,'css')\n",
    "        # directories specific to my way of doing help or documentation\n",
    "        jupyter_directory=os.path.join(current_directory,'%s'%app,'static','%s'%app,'jupyter')\n",
    "        html_directory=os.path.join(current_directory,'%s'%app,'static','%s'%app,'html')\n",
    "        cache=os.path.join(current_directory,'%s'%app,'static','%s'%app,'cache')\n",
    "        # help application\n",
    "        if app in ['Help','help','doc','docs','documentation']:\n",
    "            os.makedirs(static_directory)\n",
    "            os.makedirs(template_directory)\n",
    "            os.makedirs(img_directory)\n",
    "            os.makedirs(js_directory)\n",
    "            os.makedirs(css_directory)\n",
    "            os.makedirs(cache)\n",
    "            os.makedirs(jupyter_directory)\n",
    "            os.makedirs(html_directory)\n",
    "            \n",
    "        else:\n",
    "            os.makedirs(static_directory)\n",
    "            os.makedirs(template_directory)\n",
    "            os.makedirs(img_directory)\n",
    "            os.makedirs(js_directory)\n",
    "            os.makedirs(css_directory)\n",
    "            os.makedirs(cache)\n",
    "except:raise"
   ]
  },
  {
   "cell_type": "code",
   "execution_count": 4,
   "metadata": {
    "collapsed": false
   },
   "outputs": [
    {
     "data": {
      "text/plain": [
       "'C:\\\\Users\\\\arics\\\\Jupyter-Notebooks\\\\Calnet'"
      ]
     },
     "execution_count": 4,
     "metadata": {},
     "output_type": "execute_result"
    }
   ],
   "source": [
    "manage_directory"
   ]
  },
  {
   "cell_type": "markdown",
   "metadata": {},
   "source": [
    "## 2. Define the models that you will need for each app\n",
    "+ If you don't know yet don't worry\n",
    "    1. Go to the App/models.py python file and add a model\n",
    "        + Each model is a class that is derived from models.Model\n",
    "        + Each model has Fields that are the columns\n",
    "        + By Adding the \\__str__ method you control how django displays the model\n",
    "        + If you want to define a general \"schema\" or model form then use an inner class Meta, with the attribute abstract = True, I think these will be at pyMeasure.Code.DataHandlers.AbstractDjangoModels\n",
    "        ```python\n",
    "        class LogSchema(django.db.models.Model):\n",
    "        \"\"\" A class schema that holds an index and a date \"\"\"\n",
    "        # This is an explicit replica of the auto generated field id\n",
    "        index=IntegerField('Entry Number')\n",
    "        # I use a date time field to time stamp entries\n",
    "        # if you want to fix it to the point the entry is added then use ,auto_now_add=True\n",
    "        date=DateTimeField('Date of entry')\n",
    "        \n",
    "        # The meta class is anything that is not a field. Setting proxy or abstract to True are special cases\n",
    "        class Meta:\n",
    "            abstract=True\n",
    "        def __str__(self):\n",
    "            \"\"\" A default setting override in new logs\"\"\"\n",
    "            string_text=\"Entry %s at %s\"%(self.index,str(self.date))\n",
    "            return string_text\n",
    "            ```\n",
    "        + Now the actual table is the class that inherits from it\n",
    "           ```python\n",
    "           class UserLog(LogSchema):\n",
    "           \"\"\" A Log that has a user and text field associated with it\"\"\"\n",
    "           # I am not sure if this is supposed to be user or settings.AUTH_USER_MODEL\n",
    "           user=models.ForeignKey(User,models.SET_NULL,blank=True,null=True,)\n",
    "           # Now a text area or char field your choice, could be a summernote area also\n",
    "           note=TextField('Note')\n",
    "           def __str__(self):\n",
    "               \"\"\" Display as a string, in this case Note number 1 left by user on date \"\"\"\n",
    "               # Todo replace with \"\".format()\n",
    "               string_text=\"Note number %s left by %s %s on %s\"%(str(self.index),User.first_name, User.last_name, str(self.date))\n",
    "               return string_text\n",
    "               ```\n",
    "               "
   ]
  },
  {
   "cell_type": "markdown",
   "metadata": {},
   "source": [
    "## 3. Register each model with App using the admin\n",
    "\n",
    "1. Go to each Calnet/Help/admin.py and register all the models\n",
    "\n",
    "```python\n",
    "from django.contrib import admin\n",
    "\n",
    "from .models import UserLog\n",
    "\n",
    "admin.site.register(UserLog)\n",
    "```"
   ]
  },
  {
   "cell_type": "markdown",
   "metadata": {},
   "source": [
    "## 4. Register the Apps with the site using settings.py\n",
    "\n",
    "1. Open Calnet/Calnet/settings.py and change INSTALLED_APPS as follows:\n",
    "\n",
    "```python\n",
    "\n",
    "    INSTALLED_APPS = [\n",
    "    'polls.apps.PollsConfig',\n",
    "    'django.contrib.admin',\n",
    "    'django.contrib.auth',\n",
    "    'django.contrib.contenttypes',\n",
    "    'django.contrib.sessions',\n",
    "    'django.contrib.messages',\n",
    "    'django.contrib.staticfiles',\n",
    "    'Help',\n",
    "    'Repository'\n",
    "    'Preferences'\n",
    "    'ProjectTracker'\n",
    "    'CheckStandard'\n",
    "    'Uncertainties',\n",
    "    'Measurement'\n",
    "    ]\n",
    "```"
   ]
  },
  {
   "cell_type": "markdown",
   "metadata": {},
   "source": [
    "## 5. Make Migrations\n",
    "\n",
    "1. In order to update the models in the database and with the admin site you have to run makemigrations and migrate."
   ]
  },
  {
   "cell_type": "code",
   "execution_count": null,
   "metadata": {
    "collapsed": true
   },
   "outputs": [],
   "source": [
    "# make sure you are in the manage_directory\n",
    "#import os if a different session from the skeleton generation\n",
    "os.chdir(manage_directory)\n",
    "os.system('python manage.py makemigrations')\n",
    "os.system('python manage.py migrate')"
   ]
  },
  {
   "cell_type": "markdown",
   "metadata": {},
   "source": [
    "## 6. Create a superuser account\n",
    "\n",
    "1. In order to create a super user account use the shell to run python manage.py createsuperuser\n",
    "\n",
    "```python\n",
    "# This should work, not sure if the shell will stop\n",
    "os.system('python manage.py createsuperuser')\n",
    "```\n"
   ]
  },
  {
   "cell_type": "markdown",
   "metadata": {},
   "source": [
    "## 7. Make urls.py in the site directory point to the App urls and admin\n",
    "\n",
    "1. Go to the MySite/urls.py and add each App\n",
    "\n",
    "```python\n",
    "from django.conf.urls import include, url\n",
    "from django.contrib import admin\n",
    "\n",
    "urlpatterns = [\n",
    "    url(r'^App/', include('App.urls')),\n",
    "    url(r'^admin/', admin.site.urls),\n",
    "]\n",
    "```"
   ]
  },
  {
   "cell_type": "markdown",
   "metadata": {},
   "source": [
    "## 8. Make the App urls point to views\n",
    "\n",
    "1. Open each App/urls.py and put a pattern that points to a view"
   ]
  },
  {
   "cell_type": "markdown",
   "metadata": {},
   "source": [
    "## 9. Define the views in App/view.py\n",
    "\n",
    "1. open each Calnet/App/views.py and add a function that returns a view, use templates."
   ]
  },
  {
   "cell_type": "markdown",
   "metadata": {},
   "source": [
    "## 10. Define the templates in App/templates/App"
   ]
  },
  {
   "cell_type": "markdown",
   "metadata": {},
   "source": [
    "## 11. Add all the needed javascript, images and css to App/static/App/"
   ]
  }
 ],
 "metadata": {
  "kernelspec": {
   "display_name": "Python 2",
   "language": "python",
   "name": "python2"
  },
  "language_info": {
   "codemirror_mode": {
    "name": "ipython",
    "version": 2
   },
   "file_extension": ".py",
   "mimetype": "text/x-python",
   "name": "python",
   "nbconvert_exporter": "python",
   "pygments_lexer": "ipython2",
   "version": "2.7.11"
  }
 },
 "nbformat": 4,
 "nbformat_minor": 0
}
