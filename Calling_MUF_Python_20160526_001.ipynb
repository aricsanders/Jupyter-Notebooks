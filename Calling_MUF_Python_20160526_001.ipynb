{
 "cells": [
  {
   "cell_type": "markdown",
   "metadata": {},
   "source": [
    "# How to use python to call the .net assemblies for the microwave uncertainty framework\n",
    "Written by AWS 03/2016\n",
    "\n",
    "## This requires python (tested in 2.7) and [pythonnet] [pythonnet].\n",
    "\n",
    "[pythonnet]:https://pypi.python.org/pypi/pythonnet\n"
   ]
  },
  {
   "cell_type": "code",
   "execution_count": 1,
   "metadata": {
    "collapsed": false
   },
   "outputs": [
    {
     "name": "stdout",
     "output_type": "stream",
     "text": [
      "VNAUncertainty\n",
      "Nat. Institute Standards and Technology\n",
      "920480\n",
      "********************************************************************************\n",
      "Measurement\n",
      "Nat. Institute Standards and Technology\n",
      "396266\n"
     ]
    }
   ],
   "source": [
    "# import pythonnet \n",
    "import clr\n",
    "# import sys for path\n",
    "import sys\n",
    "# add the file paths to the .net assemblies (either dll or .exe)\n",
    "sys.path.append(r'C:\\Share\\MUF_TEST_FILES\\UncertaintyCalculator\\VNAUncertainty\\bin\\Debug')\n",
    "# create a reference to them\n",
    "clr.AddReference(\"Measurement\")\n",
    "clr.AddReference(\"VNAUncertainty\")\n",
    "# Now they can be imported as python libraries\n",
    "import Measurement\n",
    "import VNAUncertainty\n",
    "# to use them them just call them as normal classes (they are namespaced)\n",
    "new_VNA=VNAUncertainty.VNAUncertainty()\n",
    "# now all of the public methods are given by dir(new_VNA), but for brevity we only call version and name info\n",
    "print new_VNA.get_Name()\n",
    "print new_VNA.CompanyName\n",
    "print new_VNA.Handle\n",
    "print \"*\"*80\n",
    "# Works for all of the assemblies in the folders added\n",
    "new_measurement=Measurement.Measurement()\n",
    "print new_measurement.get_Name()\n",
    "print new_measurement.CompanyName\n",
    "print new_measurement.Handle\n",
    "new_measurement.Finalize()\n",
    "new_VNA.Finalize()"
   ]
  },
  {
   "cell_type": "code",
   "execution_count": 2,
   "metadata": {
    "collapsed": false
   },
   "outputs": [
    {
     "data": {
      "text/plain": [
       "['FrameworkDriver',\n",
       " 'PostProcessorSupport',\n",
       " 'ToolStripDelegate',\n",
       " '__doc__',\n",
       " '__file__',\n",
       " '__name__']"
      ]
     },
     "execution_count": 2,
     "metadata": {},
     "output_type": "execute_result"
    }
   ],
   "source": [
    "clr.AddReference(\"UncertaintyFrameworkDriver\")\n",
    "import UncertaintyFrameworkDriver\n",
    "dir(UncertaintyFrameworkDriver)"
   ]
  },
  {
   "cell_type": "code",
   "execution_count": 3,
   "metadata": {
    "collapsed": false
   },
   "outputs": [
    {
     "data": {
      "text/plain": [
       "['CalculateCombineResult',\n",
       " 'CalculatePostProcessorResult',\n",
       " 'DriveUncertaintyCalculations',\n",
       " 'Equals',\n",
       " 'Finalize',\n",
       " 'GetHashCode',\n",
       " 'GetType',\n",
       " 'MemberwiseClone',\n",
       " 'Overloads',\n",
       " 'ReferenceEquals',\n",
       " 'SubtractRandom',\n",
       " 'ToString',\n",
       " '__call__',\n",
       " '__class__',\n",
       " '__cmp__',\n",
       " '__delattr__',\n",
       " '__delitem__',\n",
       " '__doc__',\n",
       " '__format__',\n",
       " '__getattribute__',\n",
       " '__getitem__',\n",
       " '__hash__',\n",
       " '__init__',\n",
       " '__iter__',\n",
       " '__module__',\n",
       " '__new__',\n",
       " '__overloads__',\n",
       " '__reduce__',\n",
       " '__reduce_ex__',\n",
       " '__repr__',\n",
       " '__setattr__',\n",
       " '__setitem__',\n",
       " '__sizeof__',\n",
       " '__str__',\n",
       " '__subclasshook__']"
      ]
     },
     "execution_count": 3,
     "metadata": {},
     "output_type": "execute_result"
    }
   ],
   "source": [
    "dir(UncertaintyFrameworkDriver.FrameworkDriver)"
   ]
  },
  {
   "cell_type": "code",
   "execution_count": 2,
   "metadata": {
    "collapsed": false
   },
   "outputs": [
    {
     "data": {
      "text/plain": [
       "['CallSubordinates',\n",
       " 'CascadeSupport',\n",
       " 'ConditionSupport',\n",
       " 'DirectoryTreeView',\n",
       " 'Evaluate',\n",
       " 'FLV_FixedDetailsList',\n",
       " 'FLV_References',\n",
       " 'FLV_VariableDetailsList',\n",
       " 'FLV_VariableDetailsListMeas',\n",
       " 'FLV_VariableDetailsList_Parameter',\n",
       " 'FLV_VariableIconList',\n",
       " 'FileHorizontalListView',\n",
       " 'FileListBox',\n",
       " 'FileListView',\n",
       " 'FileMeasurementSupport',\n",
       " 'InputPlots',\n",
       " 'MakeDelegate',\n",
       " 'MeasurementSupport',\n",
       " 'MechanismListModule',\n",
       " 'MechanismSuppport',\n",
       " 'MenuItemView',\n",
       " 'MenuModule',\n",
       " 'ModelModule',\n",
       " 'ModelSupport',\n",
       " 'PostProcessorModule',\n",
       " 'RandomNumbers',\n",
       " 'RealMatrixContainer',\n",
       " 'SumOfParametersSupport',\n",
       " 'UnPackModule',\n",
       " '__doc__',\n",
       " '__file__',\n",
       " '__name__']"
      ]
     },
     "execution_count": 2,
     "metadata": {},
     "output_type": "execute_result"
    }
   ],
   "source": [
    "clr.AddReference(\"CustomFormControls\")\n",
    "import CustomFormControls\n",
    "dir(CustomFormControls)"
   ]
  },
  {
   "cell_type": "code",
   "execution_count": 4,
   "metadata": {
    "collapsed": false
   },
   "outputs": [
    {
     "data": {
      "text/plain": [
       "['Equals',\n",
       " 'Finalize',\n",
       " 'GetHashCode',\n",
       " 'GetType',\n",
       " 'MemberwiseClone',\n",
       " 'Overloads',\n",
       " 'ReferenceEquals',\n",
       " 'SetFileExtensions',\n",
       " 'ToString',\n",
       " '__call__',\n",
       " '__class__',\n",
       " '__cmp__',\n",
       " '__delattr__',\n",
       " '__delitem__',\n",
       " '__doc__',\n",
       " '__format__',\n",
       " '__getattribute__',\n",
       " '__getitem__',\n",
       " '__hash__',\n",
       " '__init__',\n",
       " '__iter__',\n",
       " '__module__',\n",
       " '__new__',\n",
       " '__overloads__',\n",
       " '__reduce__',\n",
       " '__reduce_ex__',\n",
       " '__repr__',\n",
       " '__setattr__',\n",
       " '__setitem__',\n",
       " '__sizeof__',\n",
       " '__str__',\n",
       " '__subclasshook__',\n",
       " 'getAllMultipleMeasurementsAtOnce',\n",
       " 'getDescription',\n",
       " 'getMultipleMeasurements',\n",
       " 'getNameList',\n",
       " 'getPullDownList1',\n",
       " 'getPullDownList2',\n",
       " 'getPullDownList3',\n",
       " 'getRealMatrix',\n",
       " 'getResetOnPullDownSelect',\n",
       " 'getResultExtension',\n",
       " 'getTextBoxDescription',\n",
       " 'getTitle',\n",
       " 'get_SetFileExtensions',\n",
       " 'get_getAllMultipleMeasurementsAtOnce',\n",
       " 'get_getDescription',\n",
       " 'get_getMultipleMeasurements',\n",
       " 'get_getNameList',\n",
       " 'get_getPullDownList1',\n",
       " 'get_getPullDownList2',\n",
       " 'get_getPullDownList3',\n",
       " 'get_getResetOnPullDownSelect',\n",
       " 'get_getResultExtension',\n",
       " 'get_getTextBoxDescription',\n",
       " 'get_getTitle',\n",
       " 'get_setConditionLocations',\n",
       " 'get_setConditionNameList',\n",
       " 'get_setFrequencyList',\n",
       " 'get_setTimeList',\n",
       " 'setConditionLocations',\n",
       " 'setConditionNameList',\n",
       " 'setFrequencyList',\n",
       " 'setPullDownSelections',\n",
       " 'setTextBoxContents',\n",
       " 'setTimeList',\n",
       " 'set_setPullDownSelections',\n",
       " 'set_setTextBoxContents']"
      ]
     },
     "execution_count": 4,
     "metadata": {},
     "output_type": "execute_result"
    }
   ],
   "source": [
    "dir(CustomFormControls.PostProcessorModule.Post_AddUncertainties_Switch)"
   ]
  },
  {
   "cell_type": "code",
   "execution_count": 5,
   "metadata": {
    "collapsed": true
   },
   "outputs": [],
   "source": [
    "post=CustomFormControls.PostProcessorModule.Post_AddUncertainties_Switch()"
   ]
  },
  {
   "cell_type": "code",
   "execution_count": 18,
   "metadata": {
    "collapsed": false
   },
   "outputs": [
    {
     "data": {
      "text/plain": [
       "u''"
      ]
     },
     "execution_count": 18,
     "metadata": {},
     "output_type": "execute_result"
    }
   ],
   "source": [
    "post.get_getTextBoxDescription()"
   ]
  },
  {
   "cell_type": "code",
   "execution_count": 5,
   "metadata": {
    "collapsed": false
   },
   "outputs": [],
   "source": [
    "FL=CustomFormControls.MenuModule.FrequencyList(20*10**6,20*10^9,20*10**6)"
   ]
  },
  {
   "cell_type": "raw",
   "metadata": {
    "collapsed": true
   },
   "source": []
  },
  {
   "cell_type": "code",
   "execution_count": 18,
   "metadata": {
    "collapsed": false
   },
   "outputs": [
    {
     "ename": "TypeError",
     "evalue": "No method matches given arguments",
     "output_type": "error",
     "traceback": [
      "\u001b[1;31m---------------------------------------------------------------------------\u001b[0m",
      "\u001b[1;31mTypeError\u001b[0m                                 Traceback (most recent call last)",
      "\u001b[1;32m<ipython-input-18-c959f62331c4>\u001b[0m in \u001b[0;36m<module>\u001b[1;34m()\u001b[0m\n\u001b[1;32m----> 1\u001b[1;33m \u001b[0mFL\u001b[0m\u001b[1;33m.\u001b[0m\u001b[0mRead\u001b[0m\u001b[1;33m(\u001b[0m\u001b[1;33m)\u001b[0m\u001b[1;33m\u001b[0m\u001b[0m\n\u001b[0m",
      "\u001b[1;31mTypeError\u001b[0m: No method matches given arguments"
     ]
    }
   ],
   "source": [
    "FL.Read()"
   ]
  },
  {
   "cell_type": "code",
   "execution_count": 10,
   "metadata": {
    "collapsed": false
   },
   "outputs": [
    {
     "data": {
      "text/plain": [
       "['Calibrate',\n",
       " 'CascadeSParameters',\n",
       " 'DataType',\n",
       " 'Equals',\n",
       " 'Fill',\n",
       " 'FillDiagonal',\n",
       " 'Finalize',\n",
       " 'GetCouplingTerms',\n",
       " 'GetErrorBoxes',\n",
       " 'GetHashCode',\n",
       " 'GetMatrixFromParts',\n",
       " 'GetSplitParts',\n",
       " 'GetType',\n",
       " 'InitializeAsSParams',\n",
       " 'Invert',\n",
       " 'MemberwiseClone',\n",
       " 'NCols',\n",
       " 'NPorts',\n",
       " 'NRows',\n",
       " 'Overloads',\n",
       " 'PlotPhase',\n",
       " 'PlotdB',\n",
       " 'Rarray',\n",
       " 'ReDimension',\n",
       " 'Read',\n",
       " 'Read4x4SEfromSolutionVector',\n",
       " 'ReferenceEquals',\n",
       " 'ReversePorts',\n",
       " 'SavePNADefinition',\n",
       " 'SaveRSDefinition',\n",
       " 'SaveWinCalDefinition',\n",
       " 'SwitchTermCorrection',\n",
       " 'ToString',\n",
       " 'UnCalibrate',\n",
       " 'WnP_to_SnP',\n",
       " 'Write',\n",
       " '__call__',\n",
       " '__class__',\n",
       " '__cmp__',\n",
       " '__delattr__',\n",
       " '__delitem__',\n",
       " '__doc__',\n",
       " '__format__',\n",
       " '__getattribute__',\n",
       " '__getitem__',\n",
       " '__hash__',\n",
       " '__init__',\n",
       " '__iter__',\n",
       " '__module__',\n",
       " '__new__',\n",
       " '__overloads__',\n",
       " '__reduce__',\n",
       " '__reduce_ex__',\n",
       " '__repr__',\n",
       " '__setattr__',\n",
       " '__setitem__',\n",
       " '__sizeof__',\n",
       " '__str__',\n",
       " '__subclasshook__',\n",
       " 'get_ComplexVector',\n",
       " 'get_DataType',\n",
       " 'get_Element',\n",
       " 'get_NCols',\n",
       " 'get_NPorts',\n",
       " 'get_NRows',\n",
       " 'get_SMatrix',\n",
       " 'get_Vector',\n",
       " 'op_Addition',\n",
       " 'op_Division',\n",
       " 'op_Exponent',\n",
       " 'op_Implicit',\n",
       " 'op_Multiply',\n",
       " 'op_Subtraction',\n",
       " 'op_UnaryNegation',\n",
       " 'set_ComplexVector',\n",
       " 'set_DataType',\n",
       " 'set_Element',\n",
       " 'set_InterpolationFrequencyList',\n",
       " 'set_SMatrix',\n",
       " 'set_Vector']"
      ]
     },
     "execution_count": 10,
     "metadata": {},
     "output_type": "execute_result"
    }
   ],
   "source": [
    "dir(FL)"
   ]
  },
  {
   "cell_type": "code",
   "execution_count": 38,
   "metadata": {
    "collapsed": false
   },
   "outputs": [
    {
     "ename": "TypeError",
     "evalue": "No method matches given arguments",
     "output_type": "error",
     "traceback": [
      "\u001b[1;31m---------------------------------------------------------------------------\u001b[0m",
      "\u001b[1;31mTypeError\u001b[0m                                 Traceback (most recent call last)",
      "\u001b[1;32m<ipython-input-38-38e3499efaab>\u001b[0m in \u001b[0;36m<module>\u001b[1;34m()\u001b[0m\n\u001b[1;32m----> 1\u001b[1;33m \u001b[0mFL\u001b[0m\u001b[1;33m.\u001b[0m\u001b[0mset_Vector\u001b[0m\u001b[1;33m(\u001b[0m\u001b[1;33m[\u001b[0m\u001b[1;36m1\u001b[0m\u001b[1;33m,\u001b[0m\u001b[1;36m2\u001b[0m\u001b[1;33m,\u001b[0m\u001b[1;36m3\u001b[0m\u001b[1;33m]\u001b[0m\u001b[1;33m)\u001b[0m\u001b[1;33m\u001b[0m\u001b[0m\n\u001b[0m",
      "\u001b[1;31mTypeError\u001b[0m: No method matches given arguments"
     ]
    }
   ],
   "source": [
    "FL.set_Vector([1,2,3])\n"
   ]
  },
  {
   "cell_type": "code",
   "execution_count": null,
   "metadata": {
    "collapsed": true
   },
   "outputs": [],
   "source": []
  },
  {
   "cell_type": "code",
   "execution_count": null,
   "metadata": {
    "collapsed": true
   },
   "outputs": [],
   "source": []
  }
 ],
 "metadata": {
  "kernelspec": {
   "display_name": "Python 2",
   "language": "python",
   "name": "python2"
  },
  "language_info": {
   "codemirror_mode": {
    "name": "ipython",
    "version": 2
   },
   "file_extension": ".py",
   "mimetype": "text/x-python",
   "name": "python",
   "nbconvert_exporter": "python",
   "pygments_lexer": "ipython2",
   "version": "2.7.11"
  }
 },
 "nbformat": 4,
 "nbformat_minor": 0
}
