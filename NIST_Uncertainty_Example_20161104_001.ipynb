{
 "cells": [
  {
   "cell_type": "markdown",
   "metadata": {},
   "source": [
    "# NIST Uncertainty Example\n",
    "This notebook is a set of examples for adding SNIST and Type Uncertainties to Files and Plotting them\n",
    "Written by AWS 11/2016\n"
   ]
  },
  {
   "cell_type": "code",
   "execution_count": 1,
   "metadata": {
    "collapsed": false
   },
   "outputs": [
    {
     "name": "stdout",
     "output_type": "stream",
     "text": [
      "Importing Code.Utils.Names\n",
      "Importing Code.DataHandlers.NISTModels\n",
      "Importing Code.DataHandlers.GeneralModels\n",
      "Importing Code.DataHandlers.TouchstoneModels\n",
      "Importing Code.DataHandlers.XMLModels\n",
      "Importing Code.DataHandlers.RadiCALModels\n",
      "Importing Code.DataHandlers.ZipModels\n",
      "Importing Code.DataHandlers.Translations\n",
      "Importing Code.DataHandlers.StatistiCALModels\n",
      "Importing Code.DataHandlers.MUFModels\n",
      "Importing Code.Analysis.SParameter\n",
      "Importing Code.InstrumentControl.Instruments\n",
      "Importing Code.InstrumentControl.Experiments\n"
     ]
    }
   ],
   "source": [
    "# import \n",
    "import re\n",
    "import sys\n",
    "import os\n",
    "from pyMeasure import *\n",
    "from pyMeasure.Code.Analysis.NISTUncertainty import *\n",
    "import numpy as np"
   ]
  },
  {
   "cell_type": "code",
   "execution_count": 2,
   "metadata": {
    "collapsed": false
   },
   "outputs": [],
   "source": [
    "# import a raw data file \n",
    "raw_one_port=OnePortRawModel(os.path.join(TESTS_DIRECTORY,'OnePortRawTestFile.txt'))\n",
    "raw_one_port.show()"
   ]
  },
  {
   "cell_type": "code",
   "execution_count": 7,
   "metadata": {
    "collapsed": false
   },
   "outputs": [
    {
     "data": {
      "text/plain": [
       "{'Calibration_Date': '10 Aug 1998',\n",
       " 'Calibration_Name': 'C980810.a1',\n",
       " 'Connector_Type_Calibration': 'Type N Fem',\n",
       " 'Connector_Type_Measurement': 'Type N',\n",
       " 'Device_Description': 'n ck std open',\n",
       " 'Device_Id': 'CTN112',\n",
       " 'Measurement_Date': '8 Jun 2000',\n",
       " 'Measurement_Time': '16:27:53',\n",
       " 'Measurement_Type': '1-port',\n",
       " 'Nbs': '1',\n",
       " 'Number_Connects': '3',\n",
       " 'Number_Frequencies': '28',\n",
       " 'Number_Repeats': '1',\n",
       " 'Operator': 'afm',\n",
       " 'Port_Used': '1',\n",
       " 'Program_Revision': '960910.143',\n",
       " 'Program_Used': 'MEAS95',\n",
       " 'Start_Frequency': '7',\n",
       " 'System_Id': 'System I',\n",
       " 'System_Letter': 'A'}"
      ]
     },
     "execution_count": 7,
     "metadata": {},
     "output_type": "execute_result"
    }
   ],
   "source": [
    "raw_one_port.metadata"
   ]
  },
  {
   "cell_type": "code",
   "execution_count": 10,
   "metadata": {
    "collapsed": false
   },
   "outputs": [],
   "source": [
    "# now use the S_NIST function to create uncertainties\n",
    "uncertainty_list=[]\n",
    "uncertainty_mag=[]\n",
    "uncertainty_phase=[]\n",
    "for index,frequency in enumerate(raw_one_port.getColumn('Frequency')):\n",
    "    row=raw_one_port.data[index]\n",
    "    type_connector=raw_one_port.metadata[\"Connector_Type_Measurement\"]\n",
    "    arguments={'frequency':frequency,'parameter':'S11','magnitude':row[3],\n",
    "               'wr_connector_type':type_connector}\n",
    "    uncertainty=S_NIST(**arguments)\n",
    "    uncertainty_mag.append(uncertainty[0])\n",
    "    uncertainty_phase.append(uncertainty[1])\n",
    "    uncertainty_list.append(uncertainty)\n"
   ]
  },
  {
   "cell_type": "code",
   "execution_count": 15,
   "metadata": {
    "collapsed": true
   },
   "outputs": [],
   "source": [
    "import matplotlib.pyplot as plt\n",
    "frequency=raw_one_port.getColumn('Frequency')\n",
    "direct_calc=[10.0**(-3.327+.046*f) for f in frequency]\n",
    "plt.plot(frequency,uncertainty_mag)\n",
    "plt.plot(frequency,direct_calc)\n",
    "plt.show()\n"
   ]
  },
  {
   "cell_type": "code",
   "execution_count": 12,
   "metadata": {
    "collapsed": true
   },
   "outputs": [],
   "source": [
    "import matplotlib.pyplot as plt\n",
    "plt.plot(raw_one_port.getColumn('Frequency'),uncertainty_phase)\n",
    "plt.show()"
   ]
  },
  {
   "cell_type": "code",
   "execution_count": 21,
   "metadata": {
    "collapsed": false
   },
   "outputs": [],
   "source": [
    "# now use the S_NIST function to create uncertainties\n",
    "b_uncertainty_list=[]\n",
    "b_uncertainty_mag=[]\n",
    "b_uncertainty_phase=[]\n",
    "\n",
    "for index,frequency in enumerate(raw_one_port.getColumn('Frequency')):\n",
    "    row=raw_one_port.data[index]\n",
    "    type_connector=raw_one_port.metadata[\"Connector_Type_Measurement\"]\n",
    "    arguments={'frequency':frequency,'parameter':'S11','magnitude':row[3],\n",
    "               'wr_connector_type':type_connector}\n",
    "    uncertainty=type_b(**arguments)\n",
    "    b_uncertainty_mag.append(uncertainty[0])\n",
    "    b_uncertainty_phase.append(uncertainty[1])\n",
    "    b_uncertainty_list.append(uncertainty)\n",
    "frequency=raw_one_port.getColumn('Frequency')\n",
    "plt.plot(frequency,b_uncertainty_mag)\n",
    "plt.show()"
   ]
  },
  {
   "cell_type": "code",
   "execution_count": 20,
   "metadata": {
    "collapsed": false
   },
   "outputs": [
    {
     "ename": "TypeError",
     "evalue": "object of type 'float' has no len()",
     "output_type": "error",
     "traceback": [
      "\u001b[1;31m---------------------------------------------------------------------------\u001b[0m",
      "\u001b[1;31mTypeError\u001b[0m                                 Traceback (most recent call last)",
      "\u001b[1;32m<ipython-input-20-f045b4e5b3c1>\u001b[0m in \u001b[0;36m<module>\u001b[1;34m()\u001b[0m\n\u001b[1;32m----> 1\u001b[1;33m \u001b[0mlen\u001b[0m\u001b[1;33m(\u001b[0m\u001b[0mfrequency\u001b[0m\u001b[1;33m)\u001b[0m\u001b[1;33m\u001b[0m\u001b[0m\n\u001b[0m",
      "\u001b[1;31mTypeError\u001b[0m: object of type 'float' has no len()"
     ]
    }
   ],
   "source": [
    "len(frequency)"
   ]
  },
  {
   "cell_type": "code",
   "execution_count": 23,
   "metadata": {
    "collapsed": false
   },
   "outputs": [
    {
     "name": "stdout",
     "output_type": "stream",
     "text": [
      "#System I\n",
      "#A\n",
      "#Type N Fem\n",
      "#Type N\n",
      "#1-port\n",
      "#8 Jun 2000\n",
      "#16:27:53\n",
      "#MEAS95\n",
      "#960910.143\n",
      "#afm\n",
      "#C980810.a1\n",
      "#10 Aug 1998\n",
      "#1\n",
      "#3\n",
      "#1\n",
      "#1\n",
      "#28\n",
      "#7\n",
      "#n ck std open\n",
      "#CTN112\n",
      "Frequency,Direction,Connect,mag,arg\n",
      "0.01000,1,1,0.9996,-0.47\n",
      "0.01000,1,2,0.9996,-0.48\n",
      "0.01000,1,3,0.9996,-0.48\n",
      "0.02000,1,1,1.0001,-0.91\n",
      "0.02000,1,2,1.0001,-0.92\n",
      "0.02000,1,3,1.0001,-0.92\n",
      "0.03000,1,1,0.9998,-1.35\n",
      "0.03000,1,2,0.9998,-1.35\n",
      "0.03000,1,3,0.9998,-1.35\n",
      "0.04000,1,1,0.9997,-1.80\n",
      "0.04000,1,2,0.9997,-1.80\n",
      "0.04000,1,3,0.9997,-1.80\n",
      "0.05000,1,1,0.9998,-2.25\n",
      "0.05000,1,2,0.9998,-2.25\n",
      "0.05000,1,3,0.9998,-2.25\n",
      "0.06000,1,1,0.9999,-2.70\n",
      "0.06000,1,2,0.9999,-2.70\n",
      "0.06000,1,3,0.9999,-2.70\n",
      "0.07000,1,1,1.0000,-3.15\n",
      "0.07000,1,2,0.9999,-3.15\n",
      "0.07000,1,3,0.9999,-3.15\n",
      "0.08000,1,1,1.0000,-3.60\n",
      "0.08000,1,2,1.0000,-3.60\n",
      "0.08000,1,3,0.9999,-3.60\n",
      "0.09000,1,1,1.0001,-4.04\n",
      "0.09000,1,2,1.0000,-4.04\n",
      "0.09000,1,3,1.0000,-4.04\n",
      "0.10000,1,1,0.9998,-4.49\n"
     ]
    }
   ],
   "source": [
    "print raw_one_port"
   ]
  },
  {
   "cell_type": "code",
   "execution_count": 3,
   "metadata": {
    "collapsed": false
   },
   "outputs": [
    {
     "data": {
      "text/plain": [
       "[[0.08, 1, 1, 1.0, -3.6], [0.08, 1, 2, 1.0, -3.6], [0.08, 1, 3, 0.9999, -3.6]]"
      ]
     },
     "execution_count": 3,
     "metadata": {},
     "output_type": "execute_result"
    }
   ],
   "source": [
    "frequency=.08000\n",
    "filter(lambda x:x[0]==frequency,raw_one_port.data)\n"
   ]
  },
  {
   "cell_type": "code",
   "execution_count": 84,
   "metadata": {
    "collapsed": false
   },
   "outputs": [],
   "source": [
    "def frequency_model_collapse_multiple_measurements(model,**options):\n",
    "    \"\"\"Returns a model with a single set of frequencies. Default is to average values together\n",
    "    but geometric mean and median are options. Geometric means of odd number of negative values fails\"\"\"\n",
    "    defaults={\"method\":\"mean\"}\n",
    "    # load other options from model\n",
    "    for option,value in model.options.iteritems():\n",
    "        if not re.search('begin_line|end_line',option):\n",
    "            defaults[option]=value\n",
    "    defaults[\"header\"]=model.header\n",
    "    defaults[\"column_names\"]=model.column_names\n",
    "    defaults[\"footer\"]=model.footer\n",
    "    defaults[\"metadata\"]=model.metadata\n",
    "\n",
    "    collapse_options={}\n",
    "    for key,value in defaults.iteritems():\n",
    "        collapse_options[key]=value\n",
    "    for key,value in options.iteritems():\n",
    "        collapse_options[key]=value    \n",
    "    unique_frequency_list=list(set(model[\"Frequency\"]))\n",
    "    frequency_selector=model.column_names.index(\"Frequency\")\n",
    "    out_data=[]\n",
    "    for index, frequency in enumerate(unique_frequency_list):\n",
    "        data_row=filter(lambda x: x[frequency_selector]==frequency,model.data)\n",
    "        if re.search('mean|av',collapse_options[\"method\"],re.IGNORECASE):\n",
    "            new_row=np.mean(np.array(data_row),axis=0).tolist()\n",
    "        elif re.search('median',collapse_options[\"method\"],re.IGNORECASE):\n",
    "            new_row=np.median(np.array(data_row),axis=0).tolist()\n",
    "        elif re.search('geometric',collapse_options[\"method\"],re.IGNORECASE):\n",
    "            new_row=gmean(np.array(data_row),axis=0).tolist()\n",
    "        elif re.search('st',collapse_options[\"method\"],re.IGNORECASE):\n",
    "            new_row=np.std(np.array(data_row),axis=0).tolist()\n",
    "        \n",
    "        out_data.append(new_row)\n",
    "\n",
    "    collapse_options[\"data\"]=out_data\n",
    "\n",
    "    if collapse_options[\"specific_descriptor\"]:\n",
    "        collapse_options[\"specific_descriptor\"]=collapse_options[\"method\"]+\"_\"+\\\n",
    "        collapse_options[\"specific_descriptor\"]\n",
    "        \n",
    "    \n",
    "    resulting_model=AsciiDataTable(None,**collapse_options)\n",
    "    return resulting_model\n",
    "def frequency_model_difference(model_1,model_2,**options):\n",
    "    \"\"\"Takes the difference of two models that both have frequency and a similar set of columns. Returns an object that is \n",
    "    a list of [[frequency,column_1,..column_n],...] where columns are the same in the models. If  a particular subset of \n",
    "    columns is desired use columns=[\"Frequency\",\"magS11] models can be any subclass of AsciiDataTable, SNP, or \n",
    "    pandas.DataFrame, if a column is a non-numeric type it drops it. The frequency list should be unique \n",
    "    (no multiple frequencies) for at least one model\"\"\"\n",
    "    # Set up defaults and pass options\n",
    "    defaults={\"columns\":\"all\",\"interpolate\":False,\"average\":True}\n",
    "    difference_options={}\n",
    "    for key,value in defaults.iteritems():\n",
    "        difference_options[key]=value\n",
    "    for key,value in options.iteritems():\n",
    "        difference_options[key]=value\n",
    "        \n",
    "    # first check type, if it is a panadas data frame a little conversion is needed, else is for all other models\n",
    "    if type(model_1) in [pd.DataFrame]:\n",
    "        model_1=DataFrame_to_AsciiDataTable(model_1)\n",
    "    if type(model_2) in [pd.DataFrame]:\n",
    "        model_2=DataFrame_to_AsciiDataTable(model_2)\n",
    "    # now start with a set of frequencies (unique values from both)\n",
    "    frequency_set_1=set(model_1[\"Frequency\"])\n",
    "    frequency_set_2=set(model_2[\"Frequency\"])\n",
    "    model_2_frequency_selector=model_2.column_names.index('Frequency')\n",
    "    column_names_set_1=set(model_1.column_names)\n",
    "    column_names_set_2=set(model_2.column_names)\n",
    "    \n",
    "#     if list(frequency_set_1)!=model_1[\"Frequency\"] and list(frequency_set_2)!=model_2[\"Frequency\"]:\n",
    "#         raise TypeError(\"The Frequency List of one of the models must be unique \")\n",
    "    # All points must be in the intersection to be used\n",
    "    frequency_intersection=list(frequency_set_1.intersection(frequency_set_2))\n",
    "    column_names_intersection=list(column_names_set_1.intersection(column_names_set_2))\n",
    "    \n",
    "    difference_data=[]\n",
    "    for row_index,frequency in enumerate(model_1[\"Frequency\"]):\n",
    "        new_row=[frequency]\n",
    "        new_column_names=[\"Frequency\"]\n",
    "        if frequency in frequency_intersection:\n",
    "            model_2_frequency_row=filter(lambda x: x[model_2_frequency_selector]==frequency,model_2.data)[0]\n",
    "            print(\"{0} is {1}\".format(\"model_2_frequency_row\",model_2_frequency_row))\n",
    "            for column_index,column in enumerate(model_1.column_names):\n",
    "                if column in column_names_intersection and column not in [\"Frequency\"]:\n",
    "                    model_2_column_selector=model_2.column_names.index(column)\n",
    "                    if re.search('int|float',\n",
    "                                 model_1.options[\"column_types\"][column_index],\n",
    "                                 re.IGNORECASE) and re.search('int|float',\n",
    "                                                              model_2.options[\"column_types\"][model_2_column_selector],\n",
    "                                                              re.IGNORECASE):\n",
    "                        \n",
    "                        new_row.append(model_1.data[row_index][column_index]-model_2_frequency_row[model_2_column_selector])\n",
    "                        new_column_names.append(column)\n",
    "                    elif difference_options[\"columns\"] in [\"all\"]:\n",
    "                        new_row.append(model_1.data[row_index])\n",
    "                        new_column_names.append(column)\n",
    "            difference_data.append(new_row)\n",
    "    difference_options[\"column_names\"]=new_column_names\n",
    "    difference_options[\"data\"]=difference_data      \n",
    "    result=AsciiDataTable(None,**difference_options)\n",
    "    return result"
   ]
  },
  {
   "cell_type": "code",
   "execution_count": 4,
   "metadata": {
    "collapsed": false
   },
   "outputs": [
    {
     "data": {
      "text/plain": [
       "[0.08, 1.0, 2.0, 0.9999666666666668, -3.6]"
      ]
     },
     "execution_count": 4,
     "metadata": {},
     "output_type": "execute_result"
    }
   ],
   "source": [
    "np.mean(np.array(filter(lambda x:x[0]==frequency,raw_one_port.data)),axis=0).tolist()"
   ]
  },
  {
   "cell_type": "code",
   "execution_count": 50,
   "metadata": {
    "collapsed": false
   },
   "outputs": [],
   "source": [
    "collapsed_one_port=frequency_model_collapse_multiple_measurements(raw_one_port,method='average')"
   ]
  },
  {
   "cell_type": "code",
   "execution_count": 55,
   "metadata": {
    "collapsed": true
   },
   "outputs": [],
   "source": [
    "import pandas as pd"
   ]
  },
  {
   "cell_type": "code",
   "execution_count": null,
   "metadata": {
    "collapsed": true
   },
   "outputs": [],
   "source": []
  },
  {
   "cell_type": "code",
   "execution_count": 85,
   "metadata": {
    "collapsed": false
   },
   "outputs": [
    {
     "name": "stdout",
     "output_type": "stream",
     "text": [
      "model_2_frequency_row is [0.01, 1, 2, 0.9996, -0.4766666666666666]\n",
      "model_2_frequency_row is [0.01, 1, 2, 0.9996, -0.4766666666666666]\n",
      "model_2_frequency_row is [0.01, 1, 2, 0.9996, -0.4766666666666666]\n",
      "model_2_frequency_row is [0.02, 1, 2, 1.0001, -0.9166666666666666]\n",
      "model_2_frequency_row is [0.02, 1, 2, 1.0001, -0.9166666666666666]\n",
      "model_2_frequency_row is [0.02, 1, 2, 1.0001, -0.9166666666666666]\n",
      "model_2_frequency_row is [0.03, 1, 2, 0.9998, -1.3500000000000003]\n",
      "model_2_frequency_row is [0.03, 1, 2, 0.9998, -1.3500000000000003]\n",
      "model_2_frequency_row is [0.03, 1, 2, 0.9998, -1.3500000000000003]\n",
      "model_2_frequency_row is [0.04, 1, 2, 0.9997000000000001, -1.8]\n",
      "model_2_frequency_row is [0.04, 1, 2, 0.9997000000000001, -1.8]\n",
      "model_2_frequency_row is [0.04, 1, 2, 0.9997000000000001, -1.8]\n",
      "model_2_frequency_row is [0.06, 1, 2, 0.9998999999999999, -2.7000000000000006]\n",
      "model_2_frequency_row is [0.06, 1, 2, 0.9998999999999999, -2.7000000000000006]\n",
      "model_2_frequency_row is [0.06, 1, 2, 0.9998999999999999, -2.7000000000000006]\n",
      "model_2_frequency_row is [0.07, 1, 2, 0.9999333333333333, -3.15]\n",
      "model_2_frequency_row is [0.07, 1, 2, 0.9999333333333333, -3.15]\n",
      "model_2_frequency_row is [0.07, 1, 2, 0.9999333333333333, -3.15]\n",
      "model_2_frequency_row is [0.08, 1, 2, 0.9999666666666668, -3.6]\n",
      "model_2_frequency_row is [0.08, 1, 2, 0.9999666666666668, -3.6]\n",
      "model_2_frequency_row is [0.08, 1, 2, 0.9999666666666668, -3.6]\n",
      "model_2_frequency_row is [0.1, 1, 1, 0.9998, -4.49]\n"
     ]
    }
   ],
   "source": [
    "diff= frequency_model_difference(raw_one_port,collapsed_one_port)"
   ]
  },
  {
   "cell_type": "code",
   "execution_count": 86,
   "metadata": {
    "collapsed": false
   },
   "outputs": [
    {
     "name": "stdout",
     "output_type": "stream",
     "text": [
      "Frequency,Direction,Connect,mag,arg\n",
      "0.01,0,-1,0.0,0.00666666666667\n",
      "0.01,0,0,0.0,-0.00333333333333\n",
      "0.01,0,1,0.0,-0.00333333333333\n",
      "0.02,0,-1,0.0,0.00666666666667\n",
      "0.02,0,0,0.0,-0.00333333333333\n",
      "0.02,0,1,0.0,-0.00333333333333\n",
      "0.03,0,-1,0.0,2.22044604925e-16\n",
      "0.03,0,0,0.0,2.22044604925e-16\n",
      "0.03,0,1,0.0,2.22044604925e-16\n",
      "0.04,0,-1,-1.11022302463e-16,0.0\n",
      "0.04,0,0,-1.11022302463e-16,0.0\n",
      "0.04,0,1,-1.11022302463e-16,0.0\n",
      "0.06,0,-1,1.11022302463e-16,4.4408920985e-16\n",
      "0.06,0,0,1.11022302463e-16,4.4408920985e-16\n",
      "0.06,0,1,1.11022302463e-16,4.4408920985e-16\n",
      "0.07,0,-1,6.66666666667e-05,0.0\n",
      "0.07,0,0,-3.33333333333e-05,0.0\n",
      "0.07,0,1,-3.33333333333e-05,0.0\n",
      "0.08,0,-1,3.33333333332e-05,0.0\n",
      "0.08,0,0,3.33333333332e-05,0.0\n",
      "0.08,0,1,-6.66666666668e-05,0.0\n",
      "0.1,0,0,0.0,0.0\n"
     ]
    }
   ],
   "source": [
    "print diff"
   ]
  },
  {
   "cell_type": "code",
   "execution_count": 5,
   "metadata": {
    "collapsed": false
   },
   "outputs": [
    {
     "data": {
      "text/plain": [
       "[0.08, 1.0, 2.0, 1.0, -3.6]"
      ]
     },
     "execution_count": 5,
     "metadata": {},
     "output_type": "execute_result"
    }
   ],
   "source": [
    "np.median(np.array(filter(lambda x:x[0]==frequency,raw_one_port.data)),axis=0).tolist()"
   ]
  },
  {
   "cell_type": "code",
   "execution_count": 6,
   "metadata": {
    "collapsed": false
   },
   "outputs": [
    {
     "data": {
      "text/plain": [
       "[0.07999999999999999, 1.0, 1.8171205928321397, 0.9999666655554938, nan]"
      ]
     },
     "execution_count": 6,
     "metadata": {},
     "output_type": "execute_result"
    }
   ],
   "source": [
    "from scipy.stats.mstats import gmean\n",
    "gmean(np.array(filter(lambda x:x[0]==frequency,raw_one_port.data)),axis=0).tolist()"
   ]
  },
  {
   "cell_type": "code",
   "execution_count": 30,
   "metadata": {
    "collapsed": false
   },
   "outputs": [
    {
     "data": {
      "text/plain": [
       "[0.0, 0.0, 0.816496580927726, 4.714045207909797e-05, 0.0]"
      ]
     },
     "execution_count": 30,
     "metadata": {},
     "output_type": "execute_result"
    }
   ],
   "source": [
    "np.std(np.array(filter(lambda x:x[0]==frequency,raw_one_port.data)),axis=0).tolist()"
   ]
  },
  {
   "cell_type": "code",
   "execution_count": 33,
   "metadata": {
    "collapsed": true
   },
   "outputs": [],
   "source": [
    "unique_freq_list=sorted(list(set(raw_one_port.getColumn('Frequency'))))"
   ]
  },
  {
   "cell_type": "code",
   "execution_count": 34,
   "metadata": {
    "collapsed": false
   },
   "outputs": [
    {
     "data": {
      "text/plain": [
       "[0.01, 0.02, 0.03, 0.04, 0.05, 0.06, 0.07, 0.08, 0.09, 0.1]"
      ]
     },
     "execution_count": 34,
     "metadata": {},
     "output_type": "execute_result"
    }
   ],
   "source": [
    "unique_freq_list"
   ]
  },
  {
   "cell_type": "code",
   "execution_count": null,
   "metadata": {
    "collapsed": true
   },
   "outputs": [],
   "source": [
    "def calrep_raw_data(raw_model):\n",
    "    \"Creates a callrep type model\"\n",
    "    unique_frequency_list=sorted(list(set(raw_model.getColumn('Frequency'))))\n",
    "    mean_data=[]\n",
    "    for frequency in unique_frequency_list:\n",
    "        mean_row=np.mean(np.array(filter(lambda x:x[0]==frequency,raw_model.data)),axis=0).tolist()\n",
    "        new_row=[frequency,mean_row]\n",
    "        "
   ]
  }
 ],
 "metadata": {
  "kernelspec": {
   "display_name": "Python 2",
   "language": "python",
   "name": "python2"
  },
  "language_info": {
   "codemirror_mode": {
    "name": "ipython",
    "version": 2
   },
   "file_extension": ".py",
   "mimetype": "text/x-python",
   "name": "python",
   "nbconvert_exporter": "python",
   "pygments_lexer": "ipython2",
   "version": "2.7.12"
  }
 },
 "nbformat": 4,
 "nbformat_minor": 0
}
