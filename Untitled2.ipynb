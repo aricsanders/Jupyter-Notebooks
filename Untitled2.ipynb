{
 "cells": [
  {
   "cell_type": "markdown",
   "metadata": {},
   "source": [
    "# Example Data Transformation"
   ]
  },
  {
   "cell_type": "code",
   "execution_count": 1,
   "metadata": {
    "collapsed": false
   },
   "outputs": [
    {
     "name": "stdout",
     "output_type": "stream",
     "text": [
      "The module smithplot was not found,please put it on the python path\n"
     ]
    }
   ],
   "source": [
    "import pyMeasure\n",
    "import os\n",
    "\n",
    "directory=r\"C:\\Anaconda2\\Lib\\site-packages\\pyMeasure\\Code\\DataHandlers\\Tests\"\n",
    "file_name=\"TestFileTwoPortRaw.txt\"\n",
    "file_path=os.path.join(directory,file_name)\n",
    "data=pyMeasure.TwoPortRawModel(file_path)\n",
    "data.show()"
   ]
  },
  {
   "cell_type": "code",
   "execution_count": null,
   "metadata": {
    "collapsed": true
   },
   "outputs": [],
   "source": [
    "xml=pyMeasure.TwoPortRawModel_to_XML()"
   ]
  }
 ],
 "metadata": {
  "kernelspec": {
   "display_name": "Python 2",
   "language": "python",
   "name": "python2"
  },
  "language_info": {
   "codemirror_mode": {
    "name": "ipython",
    "version": 2
   },
   "file_extension": ".py",
   "mimetype": "text/x-python",
   "name": "python",
   "nbconvert_exporter": "python",
   "pygments_lexer": "ipython2",
   "version": "2.7.11"
  }
 },
 "nbformat": 4,
 "nbformat_minor": 0
}
