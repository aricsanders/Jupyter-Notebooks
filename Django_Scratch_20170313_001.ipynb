{
 "cells": [
  {
   "cell_type": "code",
   "execution_count": 1,
   "metadata": {
    "collapsed": true
   },
   "outputs": [],
   "source": [
    "from django.template import Template"
   ]
  },
  {
   "cell_type": "code",
   "execution_count": 5,
   "metadata": {
    "collapsed": false
   },
   "outputs": [
    {
     "ename": "ImproperlyConfigured",
     "evalue": "Requested setting TEMPLATES, but settings are not configured. You must either define the environment variable DJANGO_SETTINGS_MODULE or call settings.configure() before accessing settings.",
     "output_type": "error",
     "traceback": [
      "\u001b[0;31m---------------------------------------------------------------------------\u001b[0m",
      "\u001b[0;31mImproperlyConfigured\u001b[0m                      Traceback (most recent call last)",
      "\u001b[0;32m<ipython-input-5-07b5c06dff7b>\u001b[0m in \u001b[0;36m<module>\u001b[0;34m()\u001b[0m\n\u001b[1;32m      1\u001b[0m \u001b[1;32mimport\u001b[0m \u001b[0mos\u001b[0m\u001b[1;33m\u001b[0m\u001b[0m\n\u001b[1;32m      2\u001b[0m \u001b[0mos\u001b[0m\u001b[1;33m.\u001b[0m\u001b[0mputenv\u001b[0m\u001b[1;33m(\u001b[0m\u001b[1;34m'DJANGO_SETTINGS_MODULE'\u001b[0m\u001b[1;33m,\u001b[0m\u001b[1;34mr'C:\\Share\\DjangoScratch\\test_server_20170309_001\\test_server_20170309_001\\settings.py'\u001b[0m\u001b[1;33m)\u001b[0m\u001b[1;33m\u001b[0m\u001b[0m\n\u001b[0;32m----> 3\u001b[0;31m \u001b[0mnew_template\u001b[0m\u001b[1;33m=\u001b[0m\u001b[0mTemplate\u001b[0m\u001b[1;33m(\u001b[0m\u001b[1;34m\"My name is {{ my_name }}.\"\u001b[0m\u001b[1;33m)\u001b[0m\u001b[1;33m\u001b[0m\u001b[0m\n\u001b[0m",
      "\u001b[0;32mC:\\ProgramData\\Anaconda2\\lib\\site-packages\\django\\template\\base.pyc\u001b[0m in \u001b[0;36m__init__\u001b[0;34m(self, template_string, origin, name, engine)\u001b[0m\n\u001b[1;32m    182\u001b[0m         \u001b[1;32mif\u001b[0m \u001b[0mengine\u001b[0m \u001b[1;32mis\u001b[0m \u001b[0mNone\u001b[0m\u001b[1;33m:\u001b[0m\u001b[1;33m\u001b[0m\u001b[0m\n\u001b[1;32m    183\u001b[0m             \u001b[1;32mfrom\u001b[0m \u001b[1;33m.\u001b[0m\u001b[0mengine\u001b[0m \u001b[1;32mimport\u001b[0m \u001b[0mEngine\u001b[0m\u001b[1;33m\u001b[0m\u001b[0m\n\u001b[0;32m--> 184\u001b[0;31m             \u001b[0mengine\u001b[0m \u001b[1;33m=\u001b[0m \u001b[0mEngine\u001b[0m\u001b[1;33m.\u001b[0m\u001b[0mget_default\u001b[0m\u001b[1;33m(\u001b[0m\u001b[1;33m)\u001b[0m\u001b[1;33m\u001b[0m\u001b[0m\n\u001b[0m\u001b[1;32m    185\u001b[0m         \u001b[1;32mif\u001b[0m \u001b[0morigin\u001b[0m \u001b[1;32mis\u001b[0m \u001b[0mNone\u001b[0m\u001b[1;33m:\u001b[0m\u001b[1;33m\u001b[0m\u001b[0m\n\u001b[1;32m    186\u001b[0m             \u001b[0morigin\u001b[0m \u001b[1;33m=\u001b[0m \u001b[0mOrigin\u001b[0m\u001b[1;33m(\u001b[0m\u001b[0mUNKNOWN_SOURCE\u001b[0m\u001b[1;33m)\u001b[0m\u001b[1;33m\u001b[0m\u001b[0m\n",
      "\u001b[0;32mC:\\ProgramData\\Anaconda2\\lib\\site-packages\\django\\utils\\lru_cache.pyc\u001b[0m in \u001b[0;36mwrapper\u001b[0;34m(*args, **kwds)\u001b[0m\n\u001b[1;32m    122\u001b[0m                             \u001b[0mstats\u001b[0m\u001b[1;33m[\u001b[0m\u001b[0mHITS\u001b[0m\u001b[1;33m]\u001b[0m \u001b[1;33m+=\u001b[0m \u001b[1;36m1\u001b[0m\u001b[1;33m\u001b[0m\u001b[0m\n\u001b[1;32m    123\u001b[0m                             \u001b[1;32mreturn\u001b[0m \u001b[0mresult\u001b[0m\u001b[1;33m\u001b[0m\u001b[0m\n\u001b[0;32m--> 124\u001b[0;31m                     \u001b[0mresult\u001b[0m \u001b[1;33m=\u001b[0m \u001b[0muser_function\u001b[0m\u001b[1;33m(\u001b[0m\u001b[1;33m*\u001b[0m\u001b[0margs\u001b[0m\u001b[1;33m,\u001b[0m \u001b[1;33m**\u001b[0m\u001b[0mkwds\u001b[0m\u001b[1;33m)\u001b[0m\u001b[1;33m\u001b[0m\u001b[0m\n\u001b[0m\u001b[1;32m    125\u001b[0m                     \u001b[1;32mwith\u001b[0m \u001b[0mlock\u001b[0m\u001b[1;33m:\u001b[0m\u001b[1;33m\u001b[0m\u001b[0m\n\u001b[1;32m    126\u001b[0m                         \u001b[0mroot\u001b[0m\u001b[1;33m,\u001b[0m \u001b[1;33m=\u001b[0m \u001b[0mnonlocal_root\u001b[0m\u001b[1;33m\u001b[0m\u001b[0m\n",
      "\u001b[0;32mC:\\ProgramData\\Anaconda2\\lib\\site-packages\\django\\template\\engine.pyc\u001b[0m in \u001b[0;36mget_default\u001b[0;34m()\u001b[0m\n\u001b[1;32m     72\u001b[0m         \u001b[1;32mfrom\u001b[0m \u001b[0mdjango\u001b[0m\u001b[1;33m.\u001b[0m\u001b[0mtemplate\u001b[0m \u001b[1;32mimport\u001b[0m \u001b[0mengines\u001b[0m\u001b[1;33m\u001b[0m\u001b[0m\n\u001b[1;32m     73\u001b[0m         \u001b[1;32mfrom\u001b[0m \u001b[0mdjango\u001b[0m\u001b[1;33m.\u001b[0m\u001b[0mtemplate\u001b[0m\u001b[1;33m.\u001b[0m\u001b[0mbackends\u001b[0m\u001b[1;33m.\u001b[0m\u001b[0mdjango\u001b[0m \u001b[1;32mimport\u001b[0m \u001b[0mDjangoTemplates\u001b[0m\u001b[1;33m\u001b[0m\u001b[0m\n\u001b[0;32m---> 74\u001b[0;31m         django_engines = [engine for engine in engines.all()\n\u001b[0m\u001b[1;32m     75\u001b[0m                           if isinstance(engine, DjangoTemplates)]\n\u001b[1;32m     76\u001b[0m         \u001b[1;32mif\u001b[0m \u001b[0mlen\u001b[0m\u001b[1;33m(\u001b[0m\u001b[0mdjango_engines\u001b[0m\u001b[1;33m)\u001b[0m \u001b[1;33m==\u001b[0m \u001b[1;36m1\u001b[0m\u001b[1;33m:\u001b[0m\u001b[1;33m\u001b[0m\u001b[0m\n",
      "\u001b[0;32mC:\\ProgramData\\Anaconda2\\lib\\site-packages\\django\\template\\utils.pyc\u001b[0m in \u001b[0;36mall\u001b[0;34m(self)\u001b[0m\n\u001b[1;32m     87\u001b[0m \u001b[1;33m\u001b[0m\u001b[0m\n\u001b[1;32m     88\u001b[0m     \u001b[1;32mdef\u001b[0m \u001b[0mall\u001b[0m\u001b[1;33m(\u001b[0m\u001b[0mself\u001b[0m\u001b[1;33m)\u001b[0m\u001b[1;33m:\u001b[0m\u001b[1;33m\u001b[0m\u001b[0m\n\u001b[0;32m---> 89\u001b[0;31m         \u001b[1;32mreturn\u001b[0m \u001b[1;33m[\u001b[0m\u001b[0mself\u001b[0m\u001b[1;33m[\u001b[0m\u001b[0malias\u001b[0m\u001b[1;33m]\u001b[0m \u001b[1;32mfor\u001b[0m \u001b[0malias\u001b[0m \u001b[1;32min\u001b[0m \u001b[0mself\u001b[0m\u001b[1;33m]\u001b[0m\u001b[1;33m\u001b[0m\u001b[0m\n\u001b[0m\u001b[1;32m     90\u001b[0m \u001b[1;33m\u001b[0m\u001b[0m\n\u001b[1;32m     91\u001b[0m \u001b[1;33m\u001b[0m\u001b[0m\n",
      "\u001b[0;32mC:\\ProgramData\\Anaconda2\\lib\\site-packages\\django\\template\\utils.pyc\u001b[0m in \u001b[0;36m__iter__\u001b[0;34m(self)\u001b[0m\n\u001b[1;32m     84\u001b[0m \u001b[1;33m\u001b[0m\u001b[0m\n\u001b[1;32m     85\u001b[0m     \u001b[1;32mdef\u001b[0m \u001b[0m__iter__\u001b[0m\u001b[1;33m(\u001b[0m\u001b[0mself\u001b[0m\u001b[1;33m)\u001b[0m\u001b[1;33m:\u001b[0m\u001b[1;33m\u001b[0m\u001b[0m\n\u001b[0;32m---> 86\u001b[0;31m         \u001b[1;32mreturn\u001b[0m \u001b[0miter\u001b[0m\u001b[1;33m(\u001b[0m\u001b[0mself\u001b[0m\u001b[1;33m.\u001b[0m\u001b[0mtemplates\u001b[0m\u001b[1;33m)\u001b[0m\u001b[1;33m\u001b[0m\u001b[0m\n\u001b[0m\u001b[1;32m     87\u001b[0m \u001b[1;33m\u001b[0m\u001b[0m\n\u001b[1;32m     88\u001b[0m     \u001b[1;32mdef\u001b[0m \u001b[0mall\u001b[0m\u001b[1;33m(\u001b[0m\u001b[0mself\u001b[0m\u001b[1;33m)\u001b[0m\u001b[1;33m:\u001b[0m\u001b[1;33m\u001b[0m\u001b[0m\n",
      "\u001b[0;32mC:\\ProgramData\\Anaconda2\\lib\\site-packages\\django\\utils\\functional.pyc\u001b[0m in \u001b[0;36m__get__\u001b[0;34m(self, instance, cls)\u001b[0m\n\u001b[1;32m     33\u001b[0m         \u001b[1;32mif\u001b[0m \u001b[0minstance\u001b[0m \u001b[1;32mis\u001b[0m \u001b[0mNone\u001b[0m\u001b[1;33m:\u001b[0m\u001b[1;33m\u001b[0m\u001b[0m\n\u001b[1;32m     34\u001b[0m             \u001b[1;32mreturn\u001b[0m \u001b[0mself\u001b[0m\u001b[1;33m\u001b[0m\u001b[0m\n\u001b[0;32m---> 35\u001b[0;31m         \u001b[0mres\u001b[0m \u001b[1;33m=\u001b[0m \u001b[0minstance\u001b[0m\u001b[1;33m.\u001b[0m\u001b[0m__dict__\u001b[0m\u001b[1;33m[\u001b[0m\u001b[0mself\u001b[0m\u001b[1;33m.\u001b[0m\u001b[0mname\u001b[0m\u001b[1;33m]\u001b[0m \u001b[1;33m=\u001b[0m \u001b[0mself\u001b[0m\u001b[1;33m.\u001b[0m\u001b[0mfunc\u001b[0m\u001b[1;33m(\u001b[0m\u001b[0minstance\u001b[0m\u001b[1;33m)\u001b[0m\u001b[1;33m\u001b[0m\u001b[0m\n\u001b[0m\u001b[1;32m     36\u001b[0m         \u001b[1;32mreturn\u001b[0m \u001b[0mres\u001b[0m\u001b[1;33m\u001b[0m\u001b[0m\n\u001b[1;32m     37\u001b[0m \u001b[1;33m\u001b[0m\u001b[0m\n",
      "\u001b[0;32mC:\\ProgramData\\Anaconda2\\lib\\site-packages\\django\\template\\utils.pyc\u001b[0m in \u001b[0;36mtemplates\u001b[0;34m(self)\u001b[0m\n\u001b[1;32m     27\u001b[0m     \u001b[1;32mdef\u001b[0m \u001b[0mtemplates\u001b[0m\u001b[1;33m(\u001b[0m\u001b[0mself\u001b[0m\u001b[1;33m)\u001b[0m\u001b[1;33m:\u001b[0m\u001b[1;33m\u001b[0m\u001b[0m\n\u001b[1;32m     28\u001b[0m         \u001b[1;32mif\u001b[0m \u001b[0mself\u001b[0m\u001b[1;33m.\u001b[0m\u001b[0m_templates\u001b[0m \u001b[1;32mis\u001b[0m \u001b[0mNone\u001b[0m\u001b[1;33m:\u001b[0m\u001b[1;33m\u001b[0m\u001b[0m\n\u001b[0;32m---> 29\u001b[0;31m             \u001b[0mself\u001b[0m\u001b[1;33m.\u001b[0m\u001b[0m_templates\u001b[0m \u001b[1;33m=\u001b[0m \u001b[0msettings\u001b[0m\u001b[1;33m.\u001b[0m\u001b[0mTEMPLATES\u001b[0m\u001b[1;33m\u001b[0m\u001b[0m\n\u001b[0m\u001b[1;32m     30\u001b[0m \u001b[1;33m\u001b[0m\u001b[0m\n\u001b[1;32m     31\u001b[0m         \u001b[0mtemplates\u001b[0m \u001b[1;33m=\u001b[0m \u001b[0mOrderedDict\u001b[0m\u001b[1;33m(\u001b[0m\u001b[1;33m)\u001b[0m\u001b[1;33m\u001b[0m\u001b[0m\n",
      "\u001b[0;32mC:\\ProgramData\\Anaconda2\\lib\\site-packages\\django\\conf\\__init__.pyc\u001b[0m in \u001b[0;36m__getattr__\u001b[0;34m(self, name)\u001b[0m\n\u001b[1;32m     51\u001b[0m     \u001b[1;32mdef\u001b[0m \u001b[0m__getattr__\u001b[0m\u001b[1;33m(\u001b[0m\u001b[0mself\u001b[0m\u001b[1;33m,\u001b[0m \u001b[0mname\u001b[0m\u001b[1;33m)\u001b[0m\u001b[1;33m:\u001b[0m\u001b[1;33m\u001b[0m\u001b[0m\n\u001b[1;32m     52\u001b[0m         \u001b[1;32mif\u001b[0m \u001b[0mself\u001b[0m\u001b[1;33m.\u001b[0m\u001b[0m_wrapped\u001b[0m \u001b[1;32mis\u001b[0m \u001b[0mempty\u001b[0m\u001b[1;33m:\u001b[0m\u001b[1;33m\u001b[0m\u001b[0m\n\u001b[0;32m---> 53\u001b[0;31m             \u001b[0mself\u001b[0m\u001b[1;33m.\u001b[0m\u001b[0m_setup\u001b[0m\u001b[1;33m(\u001b[0m\u001b[0mname\u001b[0m\u001b[1;33m)\u001b[0m\u001b[1;33m\u001b[0m\u001b[0m\n\u001b[0m\u001b[1;32m     54\u001b[0m         \u001b[1;32mreturn\u001b[0m \u001b[0mgetattr\u001b[0m\u001b[1;33m(\u001b[0m\u001b[0mself\u001b[0m\u001b[1;33m.\u001b[0m\u001b[0m_wrapped\u001b[0m\u001b[1;33m,\u001b[0m \u001b[0mname\u001b[0m\u001b[1;33m)\u001b[0m\u001b[1;33m\u001b[0m\u001b[0m\n\u001b[1;32m     55\u001b[0m \u001b[1;33m\u001b[0m\u001b[0m\n",
      "\u001b[0;32mC:\\ProgramData\\Anaconda2\\lib\\site-packages\\django\\conf\\__init__.pyc\u001b[0m in \u001b[0;36m_setup\u001b[0;34m(self, name)\u001b[0m\n\u001b[1;32m     37\u001b[0m                 \u001b[1;34m\"You must either define the environment variable %s \"\u001b[0m\u001b[1;33m\u001b[0m\u001b[0m\n\u001b[1;32m     38\u001b[0m                 \u001b[1;34m\"or call settings.configure() before accessing settings.\"\u001b[0m\u001b[1;33m\u001b[0m\u001b[0m\n\u001b[0;32m---> 39\u001b[0;31m                 % (desc, ENVIRONMENT_VARIABLE))\n\u001b[0m\u001b[1;32m     40\u001b[0m \u001b[1;33m\u001b[0m\u001b[0m\n\u001b[1;32m     41\u001b[0m         \u001b[0mself\u001b[0m\u001b[1;33m.\u001b[0m\u001b[0m_wrapped\u001b[0m \u001b[1;33m=\u001b[0m \u001b[0mSettings\u001b[0m\u001b[1;33m(\u001b[0m\u001b[0msettings_module\u001b[0m\u001b[1;33m)\u001b[0m\u001b[1;33m\u001b[0m\u001b[0m\n",
      "\u001b[0;31mImproperlyConfigured\u001b[0m: Requested setting TEMPLATES, but settings are not configured. You must either define the environment variable DJANGO_SETTINGS_MODULE or call settings.configure() before accessing settings."
     ]
    }
   ],
   "source": [
    "import os\n",
    "os.putenv('DJANGO_SETTINGS_MODULE',r'C:\\Share\\DjangoScratch\\test_server_20170309_001\\test_server_20170309_001\\settings.py')\n",
    "new_template=Template(\"My name is {{ my_name }}.\")"
   ]
  },
  {
   "cell_type": "code",
   "execution_count": null,
   "metadata": {
    "collapsed": true
   },
   "outputs": [],
   "source": [
    "\n",
    "\n",
    "\n",
    "index_html_template=\"\"\"\n",
    "{% load i18n %}\n",
    "{% load staticfiles %}\n",
    "<!DOCTYPE html>\n",
    "<html lang=\"en\">\n",
    "\n",
    "<head>\n",
    "\n",
    "    <title>{% block title %}User test{% endblock %}</title>\n",
    "{% block headmeta %}{% endblock %}\n",
    "{% block sitehead %}\n",
    "    <meta name=\"viewport\" content=\"width=device-width, initial-scale=1\"/>\n",
    "    <!-- It is important to put the bootstrap scripts in the head -->\n",
    "  <link rel=\"stylesheet\" href=\"http://maxcdn.bootstrapcdn.com/bootstrap/3.3.5/css/bootstrap.min.css\"/>\n",
    "  <script src=\"https://ajax.googleapis.com/ajax/libs/jquery/1.11.3/jquery.min.js\"></script>\n",
    "  <script src=\"http://maxcdn.bootstrapcdn.com/bootstrap/3.3.5/js/bootstrap.min.js\"></script>\n",
    "\n",
    " {% endblock %}\n",
    " {% block pagehead %}\n",
    " {% endblock %}\n",
    "</head>\n",
    "\n",
    "<body>\n",
    "{% block nav %}\n",
    "\n",
    "\n",
    "<nav class=\"navbar navbar-inverse\" id=\"navbar\">\n",
    "  <div class=\"container-fluid\">\n",
    "    <div class=\"navbar-header\">\n",
    "      <a class=\"navbar-brand\" href=\"/\"><span class=\"badge\">Calnet</span></a>\n",
    "    </div>\n",
    "    <ul class=\"nav navbar-nav\">\n",
    "        <li><a href=\"/Test_App\">Home</a> </li>\n",
    "          <li><a href=\"/Test_App/Files\">Repository</a> </li>\n",
    "        <li><a href=\"/Test_App/Canvas2\">Canvas</a> </li>\n",
    "        <li><a href=\"/Test_App/CheckStandard\">Check Standard</a> </li>\n",
    "        <li><a href=\"/Test_App/Canvas\">Measurement</a> </li>\n",
    "        <li><a href=\"/Test_App/Canvas\">Uncertainities</a> </li>\n",
    "        <li><a href=\"/Test_App/Canvas\">Help</a> </li>\n",
    "\n",
    "        {% if user.is_authenticated %}\n",
    "            </ul>\n",
    "      <ul class=\"nav navbar-nav navbar-right\">\n",
    "      <li><a href=\"/accounts/user_info/\"><span class=\"glyphicon glyphicon-user\"></span> {% trans \"Logged in\" %}: {{ user.username }}</a></li>\n",
    "      <li><a href=\"{% url 'auth_logout' %}\"><span class=\"glyphicon glyphicon-log-out\"></span> Logout</a></li>\n",
    "    </ul>\n",
    "\n",
    "\n",
    "\t{% else %}\n",
    "          </ul>\n",
    "      <ul class=\"nav navbar-nav navbar-right\">\n",
    "      <li><a href=\"/accounts/register/\"><span class=\"glyphicon glyphicon-user\"></span> Sign Up</a></li>\n",
    "      <li><a href=\"{% url 'auth_login' %}\"><span class=\"glyphicon glyphicon-log-in\"></span> Login</a></li>\n",
    "    </ul>\n",
    "\n",
    "\t{% endif %}\n",
    "\n",
    "      <form class=\"navbar-form navbar-right\" role=\"search\">\n",
    "    <div class=\"form-group\">\n",
    "    <input type=\"text\" class=\"form-control\" placeholder=\"Search\">\n",
    "    </div>\n",
    "    <button type=\"submit\" class=\"btn btn-default\"><span class=\"glyphicon glyphicon-search\"></span></button>\n",
    "    </form>\n",
    "  </div>\n",
    "</nav>\n",
    "{% endblock %}\n",
    "\n",
    "      <div class=\"container-fluid \" id=\"content\">\n",
    "          <div class=\"row\">\n",
    "        {% block content %}\n",
    "          <div><h1> Welcome to a Test Site </h1>\n",
    "        <hr/>\n",
    "        <h2>This is a random science picture</h2>\n",
    "        <img src=\"{% static 'Test_App/img/zoom-in.png'%}\"/>\n",
    "\n",
    "        </div>\n",
    "        {% endblock %}\n",
    "        </div>\n",
    "        </div>\n",
    "        <div id=\"footer\">\n",
    "        {% block footer %}\n",
    "            <hr />\n",
    "        {% endblock %}\n",
    "        </div>\n",
    "{% block bodyscripts %}\n",
    "<!--\n",
    "<script>\n",
    "$(document).ready(function() {\n",
    "$(\"#navbar\").click(function(){$(\"#navbar\").removeClass().addClass(\"nav navbar-inverse\");})});\n",
    "</script>\n",
    "-->\n",
    "{% endblock %}\n",
    "</body>\n",
    "\n",
    "</html>\n",
    "\"\"\"\n",
    "\n",
    "    \n",
    "    \n",
    "    \n",
    "    "
   ]
  },
  {
   "cell_type": "code",
   "execution_count": 13,
   "metadata": {
    "collapsed": false
   },
   "outputs": [],
   "source": [
    "def create_nav_bar_string(**options):\n",
    "    \"\"\"Creates a django templated nav bar string for insertion into the {% block nav %} {% endblock %} template\n",
    "    tags\"\"\"\n",
    "    defaults={\"nav_class\":\"navbar navbar-inverse\",\n",
    "              \"site_name\":\"Calnet\",\n",
    "              \"apps\":[\"Home\",\"Help\"],\n",
    "              \"registration\":\"\"\"        \n",
    "              {% if user.is_authenticated %}\n",
    "                </ul>\n",
    "                  <ul class=\"nav navbar-nav navbar-right\">\n",
    "                  <li><a href=\"/accounts/user_info/\">\n",
    "                  <span class=\"glyphicon glyphicon-user\"></span> \n",
    "                  {% trans \"Logged in\" %}: {{ user.username }}</a></li>\n",
    "                  <li><a href=\"{% url 'auth_logout' %}\"><span class=\"glyphicon glyphicon-log-out\"></span> Logout</a></li>\n",
    "                 </ul>\n",
    "              {% else %}\n",
    "                  </ul>\n",
    "                  <ul class=\"nav navbar-nav navbar-right\">\n",
    "                  <li><a href=\"/accounts/register/\"><span class=\"glyphicon glyphicon-user\"></span> Sign Up</a></li>\n",
    "                  <li><a href=\"{% url 'auth_login' %}\"><span class=\"glyphicon glyphicon-log-in\"></span> Login</a></li>\n",
    "                </ul>\n",
    "              {% endif %}\"\"\",\n",
    "              \"search\":\"\"\"<form class=\"navbar-form navbar-right\" role=\"search\">\n",
    "                              <div class=\"form-group\">\n",
    "                              <input type=\"text\" class=\"form-control\" placeholder=\"Search\">\n",
    "                              </div>\n",
    "                             <button type=\"submit\" class=\"btn btn-default\">\n",
    "                             <span class=\"glyphicon glyphicon-search\"></span></button>\n",
    "                            </form>\"\"\"}\n",
    "    nav_bar_options={}\n",
    "    for key,value in defaults.iteritems():\n",
    "        nav_bar_options[key]=value\n",
    "    for key,value in options.iteritems():\n",
    "        nav_bar_options[key]=value\n",
    "    output_string=\"\"\n",
    "    string_template=\"\"\"\n",
    "    <nav class=\"{nav_class}\" id=\"navbar\">\n",
    "        <div class=\"container-fluid\">\n",
    "            <div class=\"navbar-header\">\n",
    "              <a class=\"navbar-brand\" href=\"/\"><span class=\"badge\">{site_name}</span></a>\n",
    "            </div>\n",
    "        <ul class=\"nav navbar-nav\">\n",
    "            {app_link_string}\n",
    "            {registration}\n",
    "        {search}  \n",
    "        </div>\n",
    "    </nav>\n",
    "    \"\"\"\n",
    "    app_link_string=\"\"\n",
    "    for app in nav_bar_options[\"apps\"]:\n",
    "        app_link_string=app_link_string+'<li><a href=\"/{0}\">{0}</a> </li>'.format(app)\n",
    "    nav_bar_options[\"app_link_string\"]=app_link_string\n",
    "    if not nav_bar_options[\"registration\"]:\n",
    "        nav_bar_options=\"</ol>\"\n",
    "    if not nav_bar_options[\"search\"]:\n",
    "        nav_bar_options[\"search\"]=\"\"\n",
    "    \n",
    "    return string_template.format(**nav_bar_options)\n",
    "        \n",
    "    "
   ]
  },
  {
   "cell_type": "code",
   "execution_count": 8,
   "metadata": {
    "collapsed": false
   },
   "outputs": [
    {
     "data": {
      "text/plain": [
       "' Calnet is one, navbar is another and a third is not used'"
      ]
     },
     "execution_count": 8,
     "metadata": {},
     "output_type": "execute_result"
    }
   ],
   "source": [
    "\" {site_name} is one, {class} is another and a third is not used\".format(**{\"site_name\":\"Calnet\",\"class\":\"navbar\",\"third\":\"not_used\"})"
   ]
  },
  {
   "cell_type": "code",
   "execution_count": 15,
   "metadata": {
    "collapsed": false
   },
   "outputs": [
    {
     "name": "stdout",
     "output_type": "stream",
     "text": [
      "\n",
      "    <nav class=\"navbar navbar-inverse\" id=\"navbar\">\n",
      "        <div class=\"container-fluid\">\n",
      "            <div class=\"navbar-header\">\n",
      "              <a class=\"navbar-brand\" href=\"/\"><span class=\"badge\">Calnet</span></a>\n",
      "            </div>\n",
      "        <ul class=\"nav navbar-nav\">\n",
      "            <li><a href=\"/Home\">Home</a> </li><li><a href=\"/Help\">Help</a> </li>\n",
      "                    \n",
      "              {% if user.is_authenticated %}\n",
      "                </ul>\n",
      "                  <ul class=\"nav navbar-nav navbar-right\">\n",
      "                  <li><a href=\"/accounts/user_info/\">\n",
      "                  <span class=\"glyphicon glyphicon-user\"></span> \n",
      "                  {% trans \"Logged in\" %}: {{ user.username }}</a></li>\n",
      "                  <li><a href=\"{% url 'auth_logout' %}\"><span class=\"glyphicon glyphicon-log-out\"></span> Logout</a></li>\n",
      "                 </ul>\n",
      "              {% else %}\n",
      "                  </ul>\n",
      "                  <ul class=\"nav navbar-nav navbar-right\">\n",
      "                  <li><a href=\"/accounts/register/\"><span class=\"glyphicon glyphicon-user\"></span> Sign Up</a></li>\n",
      "                  <li><a href=\"{% url 'auth_login' %}\"><span class=\"glyphicon glyphicon-log-in\"></span> Login</a></li>\n",
      "                </ul>\n",
      "              {% endif %}\n",
      "        <form class=\"navbar-form navbar-right\" role=\"search\">\n",
      "                              <div class=\"form-group\">\n",
      "                              <input type=\"text\" class=\"form-control\" placeholder=\"Search\">\n",
      "                              </div>\n",
      "                             <button type=\"submit\" class=\"btn btn-default\">\n",
      "                             <span class=\"glyphicon glyphicon-search\"></span></button>\n",
      "                            </form>  \n",
      "        </div>\n",
      "    </nav>\n",
      "    \n"
     ]
    }
   ],
   "source": [
    "print create_nav_bar_string()"
   ]
  },
  {
   "cell_type": "code",
   "execution_count": 16,
   "metadata": {
    "collapsed": false
   },
   "outputs": [
    {
     "data": {
      "text/plain": [
       "-0.5936409576060226"
      ]
     },
     "execution_count": 16,
     "metadata": {},
     "output_type": "execute_result"
    }
   ],
   "source": [
    "import numpy as np\n",
    "np.random.uniform(-1,1)"
   ]
  },
  {
   "cell_type": "code",
   "execution_count": null,
   "metadata": {
    "collapsed": true
   },
   "outputs": [],
   "source": []
  }
 ],
 "metadata": {
  "kernelspec": {
   "display_name": "Python 2",
   "language": "python",
   "name": "python2"
  },
  "language_info": {
   "codemirror_mode": {
    "name": "ipython",
    "version": 2
   },
   "file_extension": ".py",
   "mimetype": "text/x-python",
   "name": "python",
   "nbconvert_exporter": "python",
   "pygments_lexer": "ipython2",
   "version": "2.7.13"
  }
 },
 "nbformat": 4,
 "nbformat_minor": 2
}
