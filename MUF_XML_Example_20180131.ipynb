{
 "cells": [
  {
   "cell_type": "code",
   "execution_count": 1,
   "metadata": {
    "collapsed": false
   },
   "outputs": [
    {
     "name": "stdout",
     "output_type": "stream",
     "text": [
      "Importing pyMez, this should take roughly 30 seconds\n",
      "Importing Code.DataHandlers.GeneralModels\n",
      "It took 5.204 s to import Code.DataHandlers.GeneralModels\n",
      "Importing Code.DataHandlers.HTMLModels\n",
      "It took 0.8 s to import Code.DataHandlers.HTMLModels\n",
      "Importing Code.DataHandlers.NISTModels\n",
      "It took 14.729 s to import Code.DataHandlers.NISTModels\n",
      "Importing Code.DataHandlers.TouchstoneModels\n",
      "It took 0.018 s to import Code.DataHandlers.TouchstoneModels\n",
      "Importing Code.DataHandlers.XMLModels\n",
      "It took 0.575 s to import Code.DataHandlers.XMLModels\n",
      "Importing Code.DataHandlers.ZipModels\n",
      "It took 0.053 s to import Code.DataHandlers.ZipModels\n",
      "Importing Code.InstrumentControl.Experiments\n",
      "It took 2.74 s to import Code.InstrumentControl.Experiments\n",
      "Importing Code.InstrumentControl.Instruments\n",
      "It took 0.029 s to import Code.InstrumentControl.Instruments\n",
      "Importing Code.Utils.Names\n",
      "It took 0.023 s to import Code.Utils.Names\n",
      "It took 24.171 s to import all of the active modules\n"
     ]
    }
   ],
   "source": [
    "from pyMez import *"
   ]
  },
  {
   "cell_type": "code",
   "execution_count": 2,
   "metadata": {
    "collapsed": true
   },
   "outputs": [],
   "source": [
    "from Code.DataHandlers.MUFModels import *"
   ]
  },
  {
   "cell_type": "code",
   "execution_count": 4,
   "metadata": {
    "collapsed": false
   },
   "outputs": [],
   "source": [
    "vna=MUFVNAUncert(r\"C:\\Share\\MUF_FILES\\SOL_new.vnauncert_archive\")"
   ]
  },
  {
   "cell_type": "code",
   "execution_count": 5,
   "metadata": {
    "collapsed": false
   },
   "outputs": [
    {
     "data": {
      "text/plain": [
       "'C:\\\\Data\\\\UncertDemo\\\\UncertaintyAnalysis_SOL_OnePort'"
      ]
     },
     "execution_count": 5,
     "metadata": {},
     "output_type": "execute_result"
    }
   ],
   "source": [
    "vna.getResultsDirectory()"
   ]
  },
  {
   "cell_type": "code",
   "execution_count": 6,
   "metadata": {
    "collapsed": true
   },
   "outputs": [],
   "source": [
    "vna.setNumberMontecarlo(0)"
   ]
  },
  {
   "cell_type": "code",
   "execution_count": 7,
   "metadata": {
    "collapsed": false
   },
   "outputs": [
    {
     "data": {
      "text/plain": [
       "'0'"
      ]
     },
     "execution_count": 7,
     "metadata": {},
     "output_type": "execute_result"
    }
   ],
   "source": [
    "vna.getNumberMontecarlo()"
   ]
  },
  {
   "cell_type": "code",
   "execution_count": 23,
   "metadata": {
    "collapsed": false
   },
   "outputs": [
    {
     "data": {
      "text/plain": [
       "3"
      ]
     },
     "execution_count": 23,
     "metadata": {},
     "output_type": "execute_result"
    }
   ],
   "source": [
    "vna.get_number_standards()"
   ]
  },
  {
   "cell_type": "code",
   "execution_count": 9,
   "metadata": {
    "collapsed": false
   },
   "outputs": [
    {
     "name": "stdout",
     "output_type": "stream",
     "text": [
      "Help on method set_standard_location in module Code.DataHandlers.MUFModels:\n",
      "\n",
      "set_standard_location(self, standard_location=None, standard_number=1) method of Code.DataHandlers.MUFModels.MUFVNAUncert instance\n",
      "    Sets the location for the measurement of standard_number\n",
      "\n"
     ]
    }
   ],
   "source": [
    "help(vna.set_standard_location)"
   ]
  },
  {
   "cell_type": "code",
   "execution_count": 11,
   "metadata": {
    "collapsed": false
   },
   "outputs": [
    {
     "name": "stdout",
     "output_type": "stream",
     "text": [
      "<Item Count=\"11\" Index=\"0\" Text=\"load\">\n",
      "        <SubItem Index=\"0\" Text=\"load\"/>\n",
      "        <SubItem Index=\"1\" Text=\"C:\\Data\\UncertDemo\\load.model\">\n",
      "          <Model FileName=\"C:\\Data\\UncertDemo\\load.model\">\n",
      "            <MenuStripItems/>\n",
      "            <MenuStripTextBoxes>\n",
      "              <StartFrequency Enabled=\"True\" Text=\"1\"/>\n",
      "              <StopFrequency Enabled=\"True\" Text=\"50\"/>\n",
      "              <StepFrequency Enabled=\"True\" Text=\"1\"/>\n",
      "            </MenuStripTextBoxes>\n",
      "            <Controls>\n",
      "              <ModelDescription ControlText=\"Load in a 50 ohm system.  Authored by Dylan Williams.\" ControlType=\"System.Windows.Forms.TextBox\" Enabled=\"True\" FullName=\"Me_TableLayoutPanel1_GroupBox3_ModelDescription\"/>\n",
      "              <ModelOrigin ControlText=\"NIST\" ControlType=\"System.Windows.Forms.ComboBox\" Count=\"1\" Enabled=\"True\" FullName=\"Me_TableLayoutPanel1_GroupBox2_ModelOrigin\" SelectedIndex=\"0\">\n",
      "                <Item Index=\"0\" Text=\"NIST\"/>\n",
      "              </ModelOrigin>\n",
      "              <ModelType ControlText=\"Load\" ControlType=\"System.Windows.Forms.ComboBox\" Count=\"9\" Enabled=\"True\" FullName=\"Me_TableLayoutPanel1_GroupBox2_ModelType\" SelectedIndex=\"2\">\n",
      "                <Item Index=\"0\" Text=\"Short\"/>\n",
      "                <Item Index=\"1\" Text=\"Open\"/>\n",
      "                <Item Index=\"2\" Text=\"Load\"/>\n",
      "                <Item Index=\"3\" Text=\"Thru\"/>\n",
      "                <Item Index=\"4\" Text=\"Identity\"/>\n",
      "                <Item Index=\"5\" Text=\"Lossless TEM airline\"/>\n",
      "                <Item Index=\"6\" Text=\"Shunt capacitance\"/>\n",
      "                <Item Index=\"7\" Text=\"Series resistance and inductance\"/>\n",
      "                <Item Index=\"8\" Text=\"Impedance transformer\"/>\n",
      "              </ModelType>\n",
      "              <ModelName ControlText=\"Load\" ControlType=\"System.Windows.Forms.TextBox\" Enabled=\"True\" FullName=\"Me_TableLayoutPanel1_GroupBox2_ModelName\"/>\n",
      "              <ModelGroup ControlText=\"Generic\" ControlType=\"System.Windows.Forms.ComboBox\" Count=\"11\" Enabled=\"True\" FullName=\"Me_TableLayoutPanel1_GroupBox2_ModelGroup\" SelectedIndex=\"0\">\n",
      "                <Item Index=\"0\" Text=\"Generic\"/>\n",
      "                <Item Index=\"1\" Text=\"Coaxial transmission lines\"/>\n",
      "                <Item Index=\"2\" Text=\"Rectangular waveguide\"/>\n",
      "                <Item Index=\"3\" Text=\"Microstrip\"/>\n",
      "                <Item Index=\"4\" Text=\"Coplanar waveguide\"/>\n",
      "                <Item Index=\"5\" Text=\"Cables\"/>\n",
      "                <Item Index=\"6\" Text=\"Coupling\"/>\n",
      "                <Item Index=\"7\" Text=\"Antennas\"/>\n",
      "                <Item Index=\"8\" Text=\"Noise\"/>\n",
      "                <Item Index=\"9\" Text=\"Operators\"/>\n",
      "                <Item Index=\"10\" Text=\"User model\"/>\n",
      "              </ModelGroup>\n",
      "              <ModelMechanisms ControlText=\"List of the mechanisms used in the model\" ControlType=\"CustomFormControls.FLV_FixedDetailsList\" Count=\"4\" Enabled=\"True\" FullName=\"Me_TableLayoutPanel1_GroupBox1_Panel4_ModelMechanisms\">\n",
      "                <Item Count=\"3\" Index=\"0\" Text=\"Port 1 resistance\">\n",
      "                  <SubItem Index=\"0\" Text=\"Port 1 resistance\"/>\n",
      "                  <SubItem Index=\"1\" Text=\"C:\\Data\\UncertDemo\\50ohms.parameter\">\n",
      "                    <Parameter FileName=\"C:\\Data\\UncertDemo\\50ohms.parameter\">\n",
      "                      <MenuStripItems>\n",
      "                        <OverrideUniqueName Checked=\"False\" Enabled=\"True\"/>\n",
      "                      </MenuStripItems>\n",
      "                      <MenuStripTextBoxes>\n",
      "                        <UpperGaussianLimit Enabled=\"True\" Text=\"Infinite\"/>\n",
      "                        <LowerGaussianLimit Enabled=\"True\" Text=\"Infinity\"/>\n",
      "                        <SensitivityAnalysisScaleFactor Enabled=\"True\" Text=\"1.0\"/>\n",
      "                      </MenuStripTextBoxes>\n",
      "                      <Controls>\n",
      "                        <MakeMeRandom Checked=\"False\" ControlText=\"Parameter varies randomly between calibrations\" ControlType=\"System.Windows.Forms.CheckBox\" Enabled=\"True\" FullName=\"Me_MakeMeRandom\" Visible=\"True\"/>\n",
      "                        <AllowCalAlgToVary Checked=\"False\" ControlText=\"Ask calibration algorithm to optimize me\" ControlType=\"System.Windows.Forms.CheckBox\" Enabled=\"True\" FullName=\"Me_AllowCalAlgToVary\" Visible=\"True\"/>\n",
      "                        <StandardUncertainty ControlText=\"Standard Uncertainty: 1.73205080756888\" ControlType=\"System.Windows.Forms.Label\" Enabled=\"True\" FullName=\"Me_StandardUncertainty\" Visible=\"True\"/>\n",
      "                        <MechanismName ControlText=\"C:\\Data\\UncertDemo\\50ohms.parameter\" ControlType=\"System.Windows.Forms.TextBox\" Enabled=\"True\" FullName=\"Me_MechanismName\" Visible=\"False\"/>\n",
      "                        <DistributionType ControlText=\"Rectangular\" ControlType=\"System.Windows.Forms.ComboBox\" Count=\"4\" Enabled=\"True\" FullName=\"Me_GroupBox3_DistributionType\" SelectedIndex=\"0\" Visible=\"True\">\n",
      "                          <Item Index=\"0\" Text=\"Rectangular\"/>\n",
      "                          <Item Index=\"1\" Text=\"Arc-sine\"/>\n",
      "                          <Item Index=\"2\" Text=\"Binary\"/>\n",
      "                          <Item Index=\"3\" Text=\"Gaussian\"/>\n",
      "                        </DistributionType>\n",
      "                        <DistributionLimits ControlText=\"3\" ControlType=\"System.Windows.Forms.TextBox\" Enabled=\"True\" FullName=\"Me_GroupBox3_DistributionLimits\" Visible=\"True\"/>\n",
      "                        <Units ControlText=\"ohm\" ControlType=\"System.Windows.Forms.ComboBox\" Count=\"12\" Enabled=\"True\" FullName=\"Me_GroupBox2_Units\" SelectedIndex=\"7\" Visible=\"True\">\n",
      "                          <Item Index=\"0\" Text=\"Unitless\"/>\n",
      "                          <Item Index=\"1\" Text=\"cm\"/>\n",
      "                          <Item Index=\"2\" Text=\"mm\"/>\n",
      "                          <Item Index=\"3\" Text=\"um\"/>\n",
      "                          <Item Index=\"4\" Text=\"GHz\"/>\n",
      "                          <Item Index=\"5\" Text=\"pF\"/>\n",
      "                          <Item Index=\"6\" Text=\"nH\"/>\n",
      "                          <Item Index=\"7\" Text=\"ohm\"/>\n",
      "                          <Item Index=\"8\" Text=\"mho\"/>\n",
      "                          <Item Index=\"9\" Text=\"pF/cm\"/>\n",
      "                          <Item Index=\"10\" Text=\"ns\"/>\n",
      "                          <Item Index=\"11\" Text=\"ps\"/>\n",
      "                        </Units>\n",
      "                        <MechanismValue ControlText=\"50\" ControlType=\"System.Windows.Forms.TextBox\" Enabled=\"True\" FullName=\"Me_GroupBox2_MechanismValue\" Visible=\"True\"/>\n",
      "                        <DescriptiveName ControlText=\"Fifty ohms\" ControlType=\"System.Windows.Forms.TextBox\" Enabled=\"True\" FullName=\"Me_GroupBox1_DescriptiveName\" Visible=\"True\"/>\n",
      "                      </Controls>\n",
      "                    </Parameter>\n",
      "                  </SubItem>\n",
      "                  <SubItem Index=\"2\" Text=\"50  ohms\"/>\n",
      "                </Item>\n",
      "                <Item Count=\"3\" Index=\"1\" Text=\"Port 2 resistance\">\n",
      "                  <SubItem Index=\"0\" Text=\"Port 2 resistance\"/>\n",
      "                  <SubItem Index=\"1\" Text=\"C:\\Data\\UncertDemo\\50ohms.parameter\">\n",
      "                    <Parameter FileName=\"C:\\Data\\UncertDemo\\50ohms.parameter\">\n",
      "                      <MenuStripItems>\n",
      "                        <OverrideUniqueName Checked=\"False\" Enabled=\"True\"/>\n",
      "                      </MenuStripItems>\n",
      "                      <MenuStripTextBoxes>\n",
      "                        <UpperGaussianLimit Enabled=\"True\" Text=\"Infinite\"/>\n",
      "                        <LowerGaussianLimit Enabled=\"True\" Text=\"Infinity\"/>\n",
      "                        <SensitivityAnalysisScaleFactor Enabled=\"True\" Text=\"1.0\"/>\n",
      "                      </MenuStripTextBoxes>\n",
      "                      <Controls>\n",
      "                        <MakeMeRandom Checked=\"False\" ControlText=\"Parameter varies randomly between calibrations\" ControlType=\"System.Windows.Forms.CheckBox\" Enabled=\"True\" FullName=\"Me_MakeMeRandom\" Visible=\"True\"/>\n",
      "                        <AllowCalAlgToVary Checked=\"False\" ControlText=\"Ask calibration algorithm to optimize me\" ControlType=\"System.Windows.Forms.CheckBox\" Enabled=\"True\" FullName=\"Me_AllowCalAlgToVary\" Visible=\"True\"/>\n",
      "                        <StandardUncertainty ControlText=\"Standard Uncertainty: 1.73205080756888\" ControlType=\"System.Windows.Forms.Label\" Enabled=\"True\" FullName=\"Me_StandardUncertainty\" Visible=\"True\"/>\n",
      "                        <MechanismName ControlText=\"C:\\Data\\UncertDemo\\50ohms.parameter\" ControlType=\"System.Windows.Forms.TextBox\" Enabled=\"True\" FullName=\"Me_MechanismName\" Visible=\"False\"/>\n",
      "                        <DistributionType ControlText=\"Rectangular\" ControlType=\"System.Windows.Forms.ComboBox\" Count=\"4\" Enabled=\"True\" FullName=\"Me_GroupBox3_DistributionType\" SelectedIndex=\"0\" Visible=\"True\">\n",
      "                          <Item Index=\"0\" Text=\"Rectangular\"/>\n",
      "                          <Item Index=\"1\" Text=\"Arc-sine\"/>\n",
      "                          <Item Index=\"2\" Text=\"Binary\"/>\n",
      "                          <Item Index=\"3\" Text=\"Gaussian\"/>\n",
      "                        </DistributionType>\n",
      "                        <DistributionLimits ControlText=\"3\" ControlType=\"System.Windows.Forms.TextBox\" Enabled=\"True\" FullName=\"Me_GroupBox3_DistributionLimits\" Visible=\"True\"/>\n",
      "                        <Units ControlText=\"ohm\" ControlType=\"System.Windows.Forms.ComboBox\" Count=\"12\" Enabled=\"True\" FullName=\"Me_GroupBox2_Units\" SelectedIndex=\"7\" Visible=\"True\">\n",
      "                          <Item Index=\"0\" Text=\"Unitless\"/>\n",
      "                          <Item Index=\"1\" Text=\"cm\"/>\n",
      "                          <Item Index=\"2\" Text=\"mm\"/>\n",
      "                          <Item Index=\"3\" Text=\"um\"/>\n",
      "                          <Item Index=\"4\" Text=\"GHz\"/>\n",
      "                          <Item Index=\"5\" Text=\"pF\"/>\n",
      "                          <Item Index=\"6\" Text=\"nH\"/>\n",
      "                          <Item Index=\"7\" Text=\"ohm\"/>\n",
      "                          <Item Index=\"8\" Text=\"mho\"/>\n",
      "                          <Item Index=\"9\" Text=\"pF/cm\"/>\n",
      "                          <Item Index=\"10\" Text=\"ns\"/>\n",
      "                          <Item Index=\"11\" Text=\"ps\"/>\n",
      "                        </Units>\n",
      "                        <MechanismValue ControlText=\"50\" ControlType=\"System.Windows.Forms.TextBox\" Enabled=\"True\" FullName=\"Me_GroupBox2_MechanismValue\" Visible=\"True\"/>\n",
      "                        <DescriptiveName ControlText=\"Fifty ohms\" ControlType=\"System.Windows.Forms.TextBox\" Enabled=\"True\" FullName=\"Me_GroupBox1_DescriptiveName\" Visible=\"True\"/>\n",
      "                      </Controls>\n",
      "                    </Parameter>\n",
      "                  </SubItem>\n",
      "                  <SubItem Index=\"2\" Text=\"50  ohms\"/>\n",
      "                </Item>\n",
      "                <Item Count=\"3\" Index=\"2\" Text=\"Port 1 inductance\">\n",
      "                  <SubItem Index=\"0\" Text=\"Port 1 inductance\"/>\n",
      "                  <SubItem Index=\"1\" Text=\"C:\\Data\\UncertDemo\\inductance.parameter\">\n",
      "                    <Parameter FileName=\"C:\\Data\\UncertDemo\\inductance.parameter\">\n",
      "                      <MenuStripItems>\n",
      "                        <OverrideUniqueName Checked=\"False\" Enabled=\"True\"/>\n",
      "                      </MenuStripItems>\n",
      "                      <MenuStripTextBoxes>\n",
      "                        <UpperGaussianLimit Enabled=\"True\" Text=\"Infinite\"/>\n",
      "                        <LowerGaussianLimit Enabled=\"True\" Text=\"Infinity\"/>\n",
      "                        <SensitivityAnalysisScaleFactor Enabled=\"True\" Text=\"1.0\"/>\n",
      "                      </MenuStripTextBoxes>\n",
      "                      <Controls>\n",
      "                        <MakeMeRandom Checked=\"False\" ControlText=\"Random parameter\" ControlType=\"System.Windows.Forms.CheckBox\" Enabled=\"True\" FullName=\"Me_MakeMeRandom\"/>\n",
      "                        <MechanismName ControlText=\"C:\\Data\\UncertDemo\\inductance.parameter\" ControlType=\"System.Windows.Forms.TextBox\" Enabled=\"True\" FullName=\"Me_MechanismName\"/>\n",
      "                        <AllowCalAlgToVary Checked=\"False\" ControlText=\"Ask calibration algorithm to optimize me\" ControlType=\"System.Windows.Forms.CheckBox\" Enabled=\"True\" FullName=\"Me_AllowCalAlgToVary\"/>\n",
      "                        <StandardUncertainty ControlText=\"Standard Uncertainty: 0.000577350269189626\" ControlType=\"System.Windows.Forms.Label\" Enabled=\"True\" FullName=\"Me_StandardUncertainty\"/>\n",
      "                        <DistributionType ControlText=\"Rectangular\" ControlType=\"System.Windows.Forms.ComboBox\" Count=\"4\" Enabled=\"True\" FullName=\"Me_GroupBox3_DistributionType\" SelectedIndex=\"0\">\n",
      "                          <Item Index=\"0\" Text=\"Rectangular\"/>\n",
      "                          <Item Index=\"1\" Text=\"Arc-sine\"/>\n",
      "                          <Item Index=\"2\" Text=\"Binary\"/>\n",
      "                          <Item Index=\"3\" Text=\"Gaussian\"/>\n",
      "                        </DistributionType>\n",
      "                        <DistributionLimits ControlText=\"0.001\" ControlType=\"System.Windows.Forms.TextBox\" Enabled=\"True\" FullName=\"Me_GroupBox3_DistributionLimits\"/>\n",
      "                        <Units ControlText=\"nH\" ControlType=\"System.Windows.Forms.ComboBox\" Count=\"12\" Enabled=\"True\" FullName=\"Me_GroupBox2_Units\" SelectedIndex=\"6\">\n",
      "                          <Item Index=\"0\" Text=\"Unitless\"/>\n",
      "                          <Item Index=\"1\" Text=\"cm\"/>\n",
      "                          <Item Index=\"2\" Text=\"mm\"/>\n",
      "                          <Item Index=\"3\" Text=\"um\"/>\n",
      "                          <Item Index=\"4\" Text=\"GHz\"/>\n",
      "                          <Item Index=\"5\" Text=\"pF\"/>\n",
      "                          <Item Index=\"6\" Text=\"nH\"/>\n",
      "                          <Item Index=\"7\" Text=\"ohm\"/>\n",
      "                          <Item Index=\"8\" Text=\"mho\"/>\n",
      "                          <Item Index=\"9\" Text=\"pF/cm\"/>\n",
      "                          <Item Index=\"10\" Text=\"ns\"/>\n",
      "                          <Item Index=\"11\" Text=\"ps\"/>\n",
      "                        </Units>\n",
      "                        <MechanismValue ControlText=\"0\" ControlType=\"System.Windows.Forms.TextBox\" Enabled=\"True\" FullName=\"Me_GroupBox2_MechanismValue\"/>\n",
      "                        <DescriptiveName ControlText=\"\" ControlType=\"System.Windows.Forms.TextBox\" Enabled=\"True\" FullName=\"Me_GroupBox1_DescriptiveName\"/>\n",
      "                      </Controls>\n",
      "                    </Parameter>\n",
      "                  </SubItem>\n",
      "                  <SubItem Index=\"2\" Text=\"0  nH\"/>\n",
      "                </Item>\n",
      "                <Item Count=\"3\" Index=\"3\" Text=\"Port 2 inductance\">\n",
      "                  <SubItem Index=\"0\" Text=\"Port 2 inductance\"/>\n",
      "                  <SubItem Index=\"1\" Text=\"C:\\Data\\UncertDemo\\inductance.parameter\">\n",
      "                    <Parameter FileName=\"C:\\Data\\UncertDemo\\inductance.parameter\">\n",
      "                      <MenuStripItems>\n",
      "                        <OverrideUniqueName Checked=\"False\" Enabled=\"True\"/>\n",
      "                      </MenuStripItems>\n",
      "                      <MenuStripTextBoxes>\n",
      "                        <UpperGaussianLimit Enabled=\"True\" Text=\"Infinite\"/>\n",
      "                        <LowerGaussianLimit Enabled=\"True\" Text=\"Infinity\"/>\n",
      "                        <SensitivityAnalysisScaleFactor Enabled=\"True\" Text=\"1.0\"/>\n",
      "                      </MenuStripTextBoxes>\n",
      "                      <Controls>\n",
      "                        <MakeMeRandom Checked=\"False\" ControlText=\"Random parameter\" ControlType=\"System.Windows.Forms.CheckBox\" Enabled=\"True\" FullName=\"Me_MakeMeRandom\"/>\n",
      "                        <MechanismName ControlText=\"C:\\Data\\UncertDemo\\inductance.parameter\" ControlType=\"System.Windows.Forms.TextBox\" Enabled=\"True\" FullName=\"Me_MechanismName\"/>\n",
      "                        <AllowCalAlgToVary Checked=\"False\" ControlText=\"Ask calibration algorithm to optimize me\" ControlType=\"System.Windows.Forms.CheckBox\" Enabled=\"True\" FullName=\"Me_AllowCalAlgToVary\"/>\n",
      "                        <StandardUncertainty ControlText=\"Standard Uncertainty: 0.000577350269189626\" ControlType=\"System.Windows.Forms.Label\" Enabled=\"True\" FullName=\"Me_StandardUncertainty\"/>\n",
      "                        <DistributionType ControlText=\"Rectangular\" ControlType=\"System.Windows.Forms.ComboBox\" Count=\"4\" Enabled=\"True\" FullName=\"Me_GroupBox3_DistributionType\" SelectedIndex=\"0\">\n",
      "                          <Item Index=\"0\" Text=\"Rectangular\"/>\n",
      "                          <Item Index=\"1\" Text=\"Arc-sine\"/>\n",
      "                          <Item Index=\"2\" Text=\"Binary\"/>\n",
      "                          <Item Index=\"3\" Text=\"Gaussian\"/>\n",
      "                        </DistributionType>\n",
      "                        <DistributionLimits ControlText=\"0.001\" ControlType=\"System.Windows.Forms.TextBox\" Enabled=\"True\" FullName=\"Me_GroupBox3_DistributionLimits\"/>\n",
      "                        <Units ControlText=\"nH\" ControlType=\"System.Windows.Forms.ComboBox\" Count=\"12\" Enabled=\"True\" FullName=\"Me_GroupBox2_Units\" SelectedIndex=\"6\">\n",
      "                          <Item Index=\"0\" Text=\"Unitless\"/>\n",
      "                          <Item Index=\"1\" Text=\"cm\"/>\n",
      "                          <Item Index=\"2\" Text=\"mm\"/>\n",
      "                          <Item Index=\"3\" Text=\"um\"/>\n",
      "                          <Item Index=\"4\" Text=\"GHz\"/>\n",
      "                          <Item Index=\"5\" Text=\"pF\"/>\n",
      "                          <Item Index=\"6\" Text=\"nH\"/>\n",
      "                          <Item Index=\"7\" Text=\"ohm\"/>\n",
      "                          <Item Index=\"8\" Text=\"mho\"/>\n",
      "                          <Item Index=\"9\" Text=\"pF/cm\"/>\n",
      "                          <Item Index=\"10\" Text=\"ns\"/>\n",
      "                          <Item Index=\"11\" Text=\"ps\"/>\n",
      "                        </Units>\n",
      "                        <MechanismValue ControlText=\"0\" ControlType=\"System.Windows.Forms.TextBox\" Enabled=\"True\" FullName=\"Me_GroupBox2_MechanismValue\"/>\n",
      "                        <DescriptiveName ControlText=\"\" ControlType=\"System.Windows.Forms.TextBox\" Enabled=\"True\" FullName=\"Me_GroupBox1_DescriptiveName\"/>\n",
      "                      </Controls>\n",
      "                    </Parameter>\n",
      "                  </SubItem>\n",
      "                  <SubItem Index=\"2\" Text=\"0  nH\"/>\n",
      "                </Item>\n",
      "              </ModelMechanisms>\n",
      "            </Controls>\n",
      "          </Model>\n",
      "        </SubItem>\n",
      "        <SubItem Index=\"2\" Text=\"Termination on port 1\"/>\n",
      "        <SubItem Index=\"3\" Text=\"\"/>\n",
      "        <SubItem Index=\"4\" Text=\"\"/>\n",
      "        <SubItem Index=\"5\" Text=\"LoadGR3-105\"/>\n",
      "        <SubItem Index=\"6\" Text=\"C:\\Data\\UncertDemo\\OnePortMeas\\LoadGR3-105.s1p\">\n",
      "          <FileMeasurement Count=\"201\" FileName=\"C:\\Data\\UncertDemo\\OnePortMeas\\LoadGR3-105.s1p\" NCols=\"3\" NPorts=\"1\">\n",
      "            <Item Col0=\"500\" Col1=\"0.295076429843903\" Col2=\"0.0240811500698328\" Row=\"0\"/>\n",
      "            <Item Col0=\"501.25\" Col1=\"0.0515439249575138\" Col2=\"-0.24965563416481\" Row=\"1\"/>\n",
      "            <Item Col0=\"502.5\" Col1=\"-0.549139440059662\" Col2=\"0.11054265499115\" Row=\"2\"/>\n",
      "            <Item Col0=\"503.75\" Col1=\"-0.434196621179581\" Col2=\"0.0992799177765846\" Row=\"3\"/>\n",
      "            <Item Col0=\"505\" Col1=\"0.00896922312676907\" Col2=\"0.12980891764164\" Row=\"4\"/>\n",
      "            <Item Col0=\"506.25\" Col1=\"0.0400676988065243\" Col2=\"-0.0112513359636068\" Row=\"5\"/>\n",
      "            <Item Col0=\"507.5\" Col1=\"-0.105897441506386\" Col2=\"0.0165596678853035\" Row=\"6\"/>\n",
      "            <Item Col0=\"508.75\" Col1=\"0.0837510824203491\" Col2=\"0.113992035388947\" Row=\"7\"/>\n",
      "            <Item Col0=\"510\" Col1=\"1.25387823581696\" Col2=\"0.276247084140778\" Row=\"8\"/>\n",
      "            <Item Col0=\"511.25\" Col1=\"0.173832431435585\" Col2=\"0.36501207947731\" Row=\"9\"/>\n",
      "            <Item Col0=\"512.5\" Col1=\"0.189275741577148\" Col2=\"-0.193285152316093\" Row=\"10\"/>\n",
      "            <Item Col0=\"513.75\" Col1=\"-0.0932711735367775\" Col2=\"0.0507245734333992\" Row=\"11\"/>\n",
      "            <Item Col0=\"515\" Col1=\"0.0860419049859047\" Col2=\"0.0804774239659309\" Row=\"12\"/>\n",
      "            <Item Col0=\"516.25\" Col1=\"-0.0014698967570439\" Col2=\"-0.0336856655776501\" Row=\"13\"/>\n",
      "            <Item Col0=\"517.5\" Col1=\"-0.0632692947983742\" Col2=\"0.186418905854225\" Row=\"14\"/>\n",
      "            <Item Col0=\"518.75\" Col1=\"0.158932209014893\" Col2=\"0.173233643174171\" Row=\"15\"/>\n",
      "            <Item Col0=\"520\" Col1=\"0.159544840455055\" Col2=\"-0.206163182854652\" Row=\"16\"/>\n",
      "            <Item Col0=\"521.25\" Col1=\"-0.196771577000618\" Col2=\"-0.00737802544608712\" Row=\"17\"/>\n",
      "            <Item Col0=\"522.5\" Col1=\"0.0834895595908165\" Col2=\"0.17169027030468\" Row=\"18\"/>\n",
      "            <Item Col0=\"523.75\" Col1=\"0.0969585552811623\" Col2=\"0.0316396579146385\" Row=\"19\"/>\n",
      "            <Item Col0=\"525\" Col1=\"-0.0201678946614265\" Col2=\"0.0219708997756243\" Row=\"20\"/>\n",
      "            <Item Col0=\"526.25\" Col1=\"0.076043464243412\" Col2=\"0.0992604792118073\" Row=\"21\"/>\n",
      "            <Item Col0=\"527.5\" Col1=\"0.19470502436161\" Col2=\"0.139195054769516\" Row=\"22\"/>\n",
      "            <Item Col0=\"528.75\" Col1=\"0.101471140980721\" Col2=\"-0.112458549439907\" Row=\"23\"/>\n",
      "            <Item Col0=\"530\" Col1=\"-0.088422916829586\" Col2=\"-0.179113954305649\" Row=\"24\"/>\n",
      "            <Item Col0=\"531.25\" Col1=\"-0.0821348279714584\" Col2=\"0.0405857898294926\" Row=\"25\"/>\n",
      "            <Item Col0=\"532.5\" Col1=\"0.0587993003427982\" Col2=\"0.0569361783564091\" Row=\"26\"/>\n",
      "            <Item Col0=\"533.75\" Col1=\"-0.0368562303483486\" Col2=\"0.0257021673023701\" Row=\"27\"/>\n",
      "            <Item Col0=\"535\" Col1=\"-0.094284862279892\" Col2=\"0.0245299190282822\" Row=\"28\"/>\n",
      "            <Item Col0=\"536.25\" Col1=\"0.149604380130768\" Col2=\"0.0230950340628624\" Row=\"29\"/>\n",
      "            <Item Col0=\"537.5\" Col1=\"0.119267128407955\" Col2=\"-0.0924549400806427\" Row=\"30\"/>\n",
      "            <Item Col0=\"538.75\" Col1=\"-0.145232155919075\" Col2=\"-0.0631878972053528\" Row=\"31\"/>\n",
      "            <Item Col0=\"540\" Col1=\"-0.112071856856346\" Col2=\"0.0486706495285034\" Row=\"32\"/>\n",
      "            <Item Col0=\"541.25\" Col1=\"0.117522068321705\" Col2=\"-0.0218352917581797\" Row=\"33\"/>\n",
      "            <Item Col0=\"542.5\" Col1=\"0.0306493956595659\" Col2=\"-0.0120080783963203\" Row=\"34\"/>\n",
      "            <Item Col0=\"543.75\" Col1=\"-0.0338245183229446\" Col2=\"0.0358574129641056\" Row=\"35\"/>\n",
      "            <Item Col0=\"545\" Col1=\"0.0780807510018349\" Col2=\"-0.0264114905148745\" Row=\"36\"/>\n",
      "            <Item Col0=\"546.25\" Col1=\"0.013308641500771\" Col2=\"-0.131004810333252\" Row=\"37\"/>\n",
      "            <Item Col0=\"547.5\" Col1=\"-0.127865418791771\" Col2=\"-0.0480636209249496\" Row=\"38\"/>\n",
      "            <Item Col0=\"548.75\" Col1=\"-0.112100951373577\" Col2=\"0.0872576609253883\" Row=\"39\"/>\n",
      "            <Item Col0=\"550\" Col1=\"0.0248991157859564\" Col2=\"0.0652637779712677\" Row=\"40\"/>\n",
      "            <Item Col0=\"551.25\" Col1=\"0.0474153459072113\" Col2=\"0.0296142473816872\" Row=\"41\"/>\n",
      "            <Item Col0=\"552.5\" Col1=\"-0.0168113522231579\" Col2=\"0.0548949800431728\" Row=\"42\"/>\n",
      "            <Item Col0=\"553.75\" Col1=\"0.0796203166246414\" Col2=\"0.0698207542300224\" Row=\"43\"/>\n",
      "            <Item Col0=\"555\" Col1=\"0.166123375296593\" Col2=\"-0.00210673618130386\" Row=\"44\"/>\n",
      "            <Item Col0=\"556.25\" Col1=\"0.112159758806229\" Col2=\"-0.0921880155801773\" Row=\"45\"/>\n",
      "            <Item Col0=\"557.5\" Col1=\"-0.0327726863324642\" Col2=\"-0.129515737295151\" Row=\"46\"/>\n",
      "            <Item Col0=\"558.75\" Col1=\"-0.101188540458679\" Col2=\"-0.0321384221315384\" Row=\"47\"/>\n",
      "            <Item Col0=\"560\" Col1=\"-0.0060378978960216\" Col2=\"0.0599379576742649\" Row=\"48\"/>\n",
      "            <Item Col0=\"561.25\" Col1=\"-0.0312766283750534\" Col2=\"0.0159324053674936\" Row=\"49\"/>\n",
      "            <Item Col0=\"562.5\" Col1=\"-0.0173156727105379\" Col2=\"0.0726623013615608\" Row=\"50\"/>\n",
      "            <Item Col0=\"563.75\" Col1=\"0.123674698174\" Col2=\"0.0285916738212109\" Row=\"51\"/>\n",
      "            <Item Col0=\"565\" Col1=\"0.0934045240283012\" Col2=\"-0.0308419447392225\" Row=\"52\"/>\n",
      "            <Item Col0=\"566.25\" Col1=\"-0.00194795441348106\" Col2=\"-0.159112304449081\" Row=\"53\"/>\n",
      "            <Item Col0=\"567.5\" Col1=\"-0.0474388636648655\" Col2=\"-0.138384774327278\" Row=\"54\"/>\n",
      "            <Item Col0=\"568.75\" Col1=\"-0.092135064303875\" Col2=\"0.123998381197453\" Row=\"55\"/>\n",
      "            <Item Col0=\"570\" Col1=\"0.0181129593402147\" Col2=\"0.0703743174672127\" Row=\"56\"/>\n",
      "            <Item Col0=\"571.25\" Col1=\"0.0590460486710072\" Col2=\"-0.032013863325119\" Row=\"57\"/>\n",
      "            <Item Col0=\"572.5\" Col1=\"0.0460390485823154\" Col2=\"0.018885537981987\" Row=\"58\"/>\n",
      "            <Item Col0=\"573.75\" Col1=\"0.0357193201780319\" Col2=\"0.00737216044217348\" Row=\"59\"/>\n",
      "            <Item Col0=\"575\" Col1=\"-0.0510137677192688\" Col2=\"0.112226262688637\" Row=\"60\"/>\n",
      "            <Item Col0=\"576.25\" Col1=\"-0.0202641226351261\" Col2=\"-0.0940628498792648\" Row=\"61\"/>\n",
      "            <Item Col0=\"577.5\" Col1=\"-0.128905072808266\" Col2=\"0.0237384587526321\" Row=\"62\"/>\n",
      "            <Item Col0=\"578.75\" Col1=\"-0.0453516095876694\" Col2=\"0.0329718664288521\" Row=\"63\"/>\n",
      "            <Item Col0=\"580\" Col1=\"0.0228342600166798\" Col2=\"0.0263957865536213\" Row=\"64\"/>\n",
      "            <Item Col0=\"581.25\" Col1=\"-0.0383120179176331\" Col2=\"0.0807769298553467\" Row=\"65\"/>\n",
      "            <Item Col0=\"582.5\" Col1=\"-0.104083389043808\" Col2=\"0.0363927967846394\" Row=\"66\"/>\n",
      "            <Item Col0=\"583.75\" Col1=\"0.188586607575417\" Col2=\"0.0223603192716837\" Row=\"67\"/>\n",
      "            <Item Col0=\"585\" Col1=\"0.120475389063358\" Col2=\"-0.108155317604542\" Row=\"68\"/>\n",
      "            <Item Col0=\"586.25\" Col1=\"-0.0432662814855576\" Col2=\"-0.151517018675804\" Row=\"69\"/>\n",
      "            <Item Col0=\"587.5\" Col1=\"0.0113839777186513\" Col2=\"-0.0846076682209969\" Row=\"70\"/>\n",
      "            <Item Col0=\"588.75\" Col1=\"-0.0602916590869427\" Col2=\"0.0249474998563528\" Row=\"71\"/>\n",
      "            <Item Col0=\"590\" Col1=\"-0.0691074803471565\" Col2=\"-0.00675289379432797\" Row=\"72\"/>\n",
      "            <Item Col0=\"591.25\" Col1=\"-0.0579831004142761\" Col2=\"0.0523182898759842\" Row=\"73\"/>\n",
      "            <Item Col0=\"592.5\" Col1=\"0.0227823611348867\" Col2=\"0.14993342757225\" Row=\"74\"/>\n",
      "            <Item Col0=\"593.75\" Col1=\"0.139717638492584\" Col2=\"0.0285575464367867\" Row=\"75\"/>\n",
      "            <Item Col0=\"595\" Col1=\"0.0777403712272644\" Col2=\"-0.134102776646614\" Row=\"76\"/>\n",
      "            <Item Col0=\"596.25\" Col1=\"-0.0427947789430618\" Col2=\"-0.143368512392044\" Row=\"77\"/>\n",
      "            <Item Col0=\"597.5\" Col1=\"-0.158125936985016\" Col2=\"0.0461616218090057\" Row=\"78\"/>\n",
      "            <Item Col0=\"598.75\" Col1=\"-0.118108741939068\" Col2=\"0.0134741142392159\" Row=\"79\"/>\n",
      "            <Item Col0=\"600\" Col1=\"0.0466061159968376\" Col2=\"0.0322478674352169\" Row=\"80\"/>\n",
      "            <Item Col0=\"601.25\" Col1=\"0.0441348068416119\" Col2=\"0.0973694771528244\" Row=\"81\"/>\n",
      "            <Item Col0=\"602.5\" Col1=\"0.0665836036205292\" Col2=\"0.0018283132230863\" Row=\"82\"/>\n",
      "            <Item Col0=\"603.75\" Col1=\"0.153165832161903\" Col2=\"0.0231194645166397\" Row=\"83\"/>\n",
      "            <Item Col0=\"605\" Col1=\"0.0221268255263567\" Col2=\"-0.126055061817169\" Row=\"84\"/>\n",
      "            <Item Col0=\"606.25\" Col1=\"-0.174255192279816\" Col2=\"-0.0752981975674629\" Row=\"85\"/>\n",
      "            <Item Col0=\"607.5\" Col1=\"-0.0299261920154095\" Col2=\"0.067184180021286\" Row=\"86\"/>\n",
      "            <Item Col0=\"608.75\" Col1=\"-0.0114254485815763\" Col2=\"0.0852996557950974\" Row=\"87\"/>\n",
      "            <Item Col0=\"610\" Col1=\"0.000265335664153099\" Col2=\"0.0715124383568764\" Row=\"88\"/>\n",
      "            <Item Col0=\"611.25\" Col1=\"0.109397485852242\" Col2=\"-0.00324700865894556\" Row=\"89\"/>\n",
      "            <Item Col0=\"612.5\" Col1=\"0.0793802440166473\" Col2=\"-0.059660617262125\" Row=\"90\"/>\n",
      "            <Item Col0=\"613.75\" Col1=\"-0.0490711405873299\" Col2=\"-0.114946454763412\" Row=\"91\"/>\n",
      "            <Item Col0=\"615\" Col1=\"-0.104637049138546\" Col2=\"-0.0875519663095474\" Row=\"92\"/>\n",
      "            <Item Col0=\"616.25\" Col1=\"-0.119024656713009\" Col2=\"0.0478552021086216\" Row=\"93\"/>\n",
      "            <Item Col0=\"617.5\" Col1=\"-0.084137849509716\" Col2=\"0.110329434275627\" Row=\"94\"/>\n",
      "            <Item Col0=\"618.75\" Col1=\"0.10154040902853\" Col2=\"0.0987627282738686\" Row=\"95\"/>\n",
      "            <Item Col0=\"620\" Col1=\"0.145918324589729\" Col2=\"0.0111903036013246\" Row=\"96\"/>\n",
      "            <Item Col0=\"621.25\" Col1=\"0.0846143662929535\" Col2=\"-0.0877161920070648\" Row=\"97\"/>\n",
      "            <Item Col0=\"622.5\" Col1=\"0.0726294368505478\" Col2=\"-0.0784874632954597\" Row=\"98\"/>\n",
      "            <Item Col0=\"623.75\" Col1=\"0.0174536518752575\" Col2=\"-0.122909985482693\" Row=\"99\"/>\n",
      "            <Item Col0=\"625\" Col1=\"-0.0975912883877754\" Col2=\"-0.124267369508743\" Row=\"100\"/>\n",
      "            <Item Col0=\"626.25\" Col1=\"-0.134221524000168\" Col2=\"-0.0288929902017117\" Row=\"101\"/>\n",
      "            <Item Col0=\"627.5\" Col1=\"-0.104230508208275\" Col2=\"0.075644962489605\" Row=\"102\"/>\n",
      "            <Item Col0=\"628.75\" Col1=\"-0.0317812263965607\" Col2=\"0.103896602988243\" Row=\"103\"/>\n",
      "            <Item Col0=\"630\" Col1=\"0.0584791712462902\" Col2=\"0.0723559334874153\" Row=\"104\"/>\n",
      "            <Item Col0=\"631.25\" Col1=\"0.0372351109981537\" Col2=\"0.0245098453015089\" Row=\"105\"/>\n",
      "            <Item Col0=\"632.5\" Col1=\"0.0650463104248047\" Col2=\"0.021161112934351\" Row=\"106\"/>\n",
      "            <Item Col0=\"633.75\" Col1=\"0.122115679085255\" Col2=\"-0.0301911607384682\" Row=\"107\"/>\n",
      "            <Item Col0=\"635\" Col1=\"0.0257343184202909\" Col2=\"-0.0965561121702194\" Row=\"108\"/>\n",
      "            <Item Col0=\"636.25\" Col1=\"0.0335574671626091\" Col2=\"-0.095512181520462\" Row=\"109\"/>\n",
      "            <Item Col0=\"637.5\" Col1=\"-0.0981378480792046\" Col2=\"-0.0442573130130768\" Row=\"110\"/>\n",
      "            <Item Col0=\"638.75\" Col1=\"-0.117721401154995\" Col2=\"0.0944819897413254\" Row=\"111\"/>\n",
      "            <Item Col0=\"640\" Col1=\"0.0123759936541319\" Col2=\"0.0981747508049011\" Row=\"112\"/>\n",
      "            <Item Col0=\"641.25\" Col1=\"0.109392173588276\" Col2=\"0.133489936590195\" Row=\"113\"/>\n",
      "            <Item Col0=\"642.5\" Col1=\"0.139061897993088\" Col2=\"-0.0125609459355474\" Row=\"114\"/>\n",
      "            <Item Col0=\"643.75\" Col1=\"0.111834235489368\" Col2=\"-0.0949210152029991\" Row=\"115\"/>\n",
      "            <Item Col0=\"645\" Col1=\"0.0283091403543949\" Col2=\"-0.0699775069952011\" Row=\"116\"/>\n",
      "            <Item Col0=\"646.25\" Col1=\"-0.0189950056374073\" Col2=\"-0.173950672149658\" Row=\"117\"/>\n",
      "            <Item Col0=\"647.5\" Col1=\"-0.0826523676514626\" Col2=\"-0.0834564715623856\" Row=\"118\"/>\n",
      "            <Item Col0=\"648.75\" Col1=\"-0.13669390976429\" Col2=\"0.014271785505116\" Row=\"119\"/>\n",
      "            <Item Col0=\"650\" Col1=\"-0.0394384972751141\" Col2=\"0.04076062515378\" Row=\"120\"/>\n",
      "            <Item Col0=\"651.25\" Col1=\"0.0246404148638248\" Col2=\"0.130721598863602\" Row=\"121\"/>\n",
      "            <Item Col0=\"652.5\" Col1=\"0.0607467442750931\" Col2=\"-0.00583220133557916\" Row=\"122\"/>\n",
      "            <Item Col0=\"653.75\" Col1=\"0.0981194749474525\" Col2=\"-0.0243789777159691\" Row=\"123\"/>\n",
      "            <Item Col0=\"655\" Col1=\"0.0239481050521135\" Col2=\"-0.0557950027287006\" Row=\"124\"/>\n",
      "            <Item Col0=\"656.25\" Col1=\"0.00133370910771191\" Col2=\"-0.131977304816246\" Row=\"125\"/>\n",
      "            <Item Col0=\"657.5\" Col1=\"-0.0948483794927597\" Col2=\"0.0414654910564423\" Row=\"126\"/>\n",
      "            <Item Col0=\"658.75\" Col1=\"-0.0471533238887787\" Col2=\"0.0685816258192062\" Row=\"127\"/>\n",
      "            <Item Col0=\"660\" Col1=\"-0.00643386365845799\" Col2=\"0.0725533589720726\" Row=\"128\"/>\n",
      "            <Item Col0=\"661.25\" Col1=\"0.0646656453609467\" Col2=\"0.158020213246346\" Row=\"129\"/>\n",
      "            <Item Col0=\"662.5\" Col1=\"0.155931696295738\" Col2=\"0.0359574221074581\" Row=\"130\"/>\n",
      "            <Item Col0=\"663.75\" Col1=\"0.165896862745285\" Col2=\"-0.00559067679569125\" Row=\"131\"/>\n",
      "            <Item Col0=\"665\" Col1=\"0.0629658102989197\" Col2=\"-0.149141192436218\" Row=\"132\"/>\n",
      "            <Item Col0=\"666.25\" Col1=\"-0.0569471009075642\" Col2=\"-0.177432402968407\" Row=\"133\"/>\n",
      "            <Item Col0=\"667.5\" Col1=\"-0.172975242137909\" Col2=\"-0.0255611035972834\" Row=\"134\"/>\n",
      "            <Item Col0=\"668.75\" Col1=\"-0.128431722521782\" Col2=\"0.10124134272337\" Row=\"135\"/>\n",
      "            <Item Col0=\"670\" Col1=\"-0.0860346406698227\" Col2=\"0.198791816830635\" Row=\"136\"/>\n",
      "            <Item Col0=\"671.25\" Col1=\"0.0963313058018684\" Col2=\"0.2203409075737\" Row=\"137\"/>\n",
      "            <Item Col0=\"672.5\" Col1=\"0.16376605629921\" Col2=\"0.0947308614850044\" Row=\"138\"/>\n",
      "            <Item Col0=\"673.75\" Col1=\"0.129772275686264\" Col2=\"0.0785991474986076\" Row=\"139\"/>\n",
      "            <Item Col0=\"675\" Col1=\"0.188614204525948\" Col2=\"0.130634173750877\" Row=\"140\"/>\n",
      "            <Item Col0=\"676.25\" Col1=\"0.170334056019783\" Col2=\"-0.0515932962298393\" Row=\"141\"/>\n",
      "            <Item Col0=\"677.5\" Col1=\"0.049400582909584\" Col2=\"-0.11870614439249\" Row=\"142\"/>\n",
      "            <Item Col0=\"678.75\" Col1=\"-0.0995511338114738\" Col2=\"-0.0472628138959408\" Row=\"143\"/>\n",
      "            <Item Col0=\"680\" Col1=\"-0.139762923121452\" Col2=\"0.104385919868946\" Row=\"144\"/>\n",
      "            <Item Col0=\"681.25\" Col1=\"0.0584851168096066\" Col2=\"0.109137736260891\" Row=\"145\"/>\n",
      "            <Item Col0=\"682.5\" Col1=\"-0.0161253251135349\" Col2=\"0.108887322247028\" Row=\"146\"/>\n",
      "            <Item Col0=\"683.75\" Col1=\"0.113829232752323\" Col2=\"0.070786140859127\" Row=\"147\"/>\n",
      "            <Item Col0=\"685\" Col1=\"0.202531561255455\" Col2=\"-0.0292121917009354\" Row=\"148\"/>\n",
      "            <Item Col0=\"686.25\" Col1=\"-0.0548975095152855\" Col2=\"-0.179797977209091\" Row=\"149\"/>\n",
      "            <Item Col0=\"687.5\" Col1=\"-0.0271259136497974\" Col2=\"-0.0819883421063423\" Row=\"150\"/>\n",
      "            <Item Col0=\"688.75\" Col1=\"-0.155395835638046\" Col2=\"0.00435564108192921\" Row=\"151\"/>\n",
      "            <Item Col0=\"690\" Col1=\"-0.144820898771286\" Col2=\"0.045147217810154\" Row=\"152\"/>\n",
      "            <Item Col0=\"691.25\" Col1=\"0.0530542656779289\" Col2=\"0.210815161466599\" Row=\"153\"/>\n",
      "            <Item Col0=\"692.5\" Col1=\"-0.00381688354536891\" Col2=\"0.114436477422714\" Row=\"154\"/>\n",
      "            <Item Col0=\"693.75\" Col1=\"0.170626521110535\" Col2=\"0.167497843503952\" Row=\"155\"/>\n",
      "            <Item Col0=\"695\" Col1=\"0.149666786193848\" Col2=\"0.105202175676823\" Row=\"156\"/>\n",
      "            <Item Col0=\"696.25\" Col1=\"0.199598848819733\" Col2=\"-0.0860990285873413\" Row=\"157\"/>\n",
      "            <Item Col0=\"697.5\" Col1=\"0.0468100197613239\" Col2=\"-0.093018539249897\" Row=\"158\"/>\n",
      "            <Item Col0=\"698.75\" Col1=\"-0.156767681241035\" Col2=\"-0.153798118233681\" Row=\"159\"/>\n",
      "            <Item Col0=\"700\" Col1=\"-0.16924761235714\" Col2=\"0.0572306625545025\" Row=\"160\"/>\n",
      "            <Item Col0=\"701.25\" Col1=\"-0.176147520542145\" Col2=\"0.143988415598869\" Row=\"161\"/>\n",
      "            <Item Col0=\"702.5\" Col1=\"-0.0783472806215286\" Col2=\"0.0786290094256401\" Row=\"162\"/>\n",
      "            <Item Col0=\"703.75\" Col1=\"-0.149444222450256\" Col2=\"0.112443827092648\" Row=\"163\"/>\n",
      "            <Item Col0=\"705\" Col1=\"-0.031703058630228\" Col2=\"0.195245325565338\" Row=\"164\"/>\n",
      "            <Item Col0=\"706.25\" Col1=\"0.117266409099102\" Col2=\"0.11290980130434\" Row=\"165\"/>\n",
      "            <Item Col0=\"707.5\" Col1=\"0.144682288169861\" Col2=\"0.0414957255125046\" Row=\"166\"/>\n",
      "            <Item Col0=\"708.75\" Col1=\"0.168831706047058\" Col2=\"-0.0750977769494057\" Row=\"167\"/>\n",
      "            <Item Col0=\"710\" Col1=\"-0.0394241139292717\" Col2=\"-0.20136471092701\" Row=\"168\"/>\n",
      "            <Item Col0=\"711.25\" Col1=\"-0.109065935015678\" Col2=\"0.0895236954092979\" Row=\"169\"/>\n",
      "            <Item Col0=\"712.5\" Col1=\"-0.00614778324961662\" Col2=\"-0.0214701313525438\" Row=\"170\"/>\n",
      "            <Item Col0=\"713.75\" Col1=\"-0.038794819265604\" Col2=\"0.029347188770771\" Row=\"171\"/>\n",
      "            <Item Col0=\"715\" Col1=\"0.00352365896105766\" Col2=\"0.0934732854366302\" Row=\"172\"/>\n",
      "            <Item Col0=\"716.25\" Col1=\"0.0526800751686096\" Col2=\"-0.0476388111710548\" Row=\"173\"/>\n",
      "            <Item Col0=\"717.5\" Col1=\"0.0537282712757587\" Col2=\"0.0648485645651817\" Row=\"174\"/>\n",
      "            <Item Col0=\"718.75\" Col1=\"0.06008330732584\" Col2=\"-0.0875523537397385\" Row=\"175\"/>\n",
      "            <Item Col0=\"720\" Col1=\"0.0975065305829048\" Col2=\"-0.0839560553431511\" Row=\"176\"/>\n",
      "            <Item Col0=\"721.25\" Col1=\"-0.0566485822200775\" Col2=\"-0.0911943018436432\" Row=\"177\"/>\n",
      "            <Item Col0=\"722.5\" Col1=\"0.10542307049036\" Col2=\"-0.0786722227931023\" Row=\"178\"/>\n",
      "            <Item Col0=\"723.75\" Col1=\"-0.142508164048195\" Col2=\"-0.0133770015090704\" Row=\"179\"/>\n",
      "            <Item Col0=\"725\" Col1=\"-0.0675229802727699\" Col2=\"0.0572087503969669\" Row=\"180\"/>\n",
      "            <Item Col0=\"726.25\" Col1=\"0.111345797777176\" Col2=\"0.00160409929230809\" Row=\"181\"/>\n",
      "            <Item Col0=\"727.5\" Col1=\"0.168170005083084\" Col2=\"-0.0115865897387266\" Row=\"182\"/>\n",
      "            <Item Col0=\"728.75\" Col1=\"-0.180217549204826\" Col2=\"-0.251719981431961\" Row=\"183\"/>\n",
      "            <Item Col0=\"730\" Col1=\"-0.228509917855263\" Col2=\"-0.0749163031578064\" Row=\"184\"/>\n",
      "            <Item Col0=\"731.25\" Col1=\"-0.306783080101013\" Col2=\"0.0953765884041786\" Row=\"185\"/>\n",
      "            <Item Col0=\"732.5\" Col1=\"-0.183458179235458\" Col2=\"0.0590729564428329\" Row=\"186\"/>\n",
      "            <Item Col0=\"733.75\" Col1=\"-0.1553043872118\" Col2=\"0.222545221447945\" Row=\"187\"/>\n",
      "            <Item Col0=\"735\" Col1=\"-0.0531905703246593\" Col2=\"0.106278046965599\" Row=\"188\"/>\n",
      "            <Item Col0=\"736.25\" Col1=\"0.0153545737266541\" Col2=\"0.247276395559311\" Row=\"189\"/>\n",
      "            <Item Col0=\"737.5\" Col1=\"0.218985259532928\" Col2=\"0.275702208280563\" Row=\"190\"/>\n",
      "            <Item Col0=\"738.75\" Col1=\"0.641898453235626\" Col2=\"-0.0788030996918678\" Row=\"191\"/>\n",
      "            <Item Col0=\"740\" Col1=\"0.137681186199188\" Col2=\"-0.282454133033752\" Row=\"192\"/>\n",
      "            <Item Col0=\"741.25\" Col1=\"-0.0288366451859474\" Col2=\"-0.201855480670929\" Row=\"193\"/>\n",
      "            <Item Col0=\"742.5\" Col1=\"-0.116666927933693\" Col2=\"-0.0591549761593342\" Row=\"194\"/>\n",
      "            <Item Col0=\"743.75\" Col1=\"-0.267231225967407\" Col2=\"0.076873317360878\" Row=\"195\"/>\n",
      "            <Item Col0=\"745\" Col1=\"-0.122041836380959\" Col2=\"0.456198424100876\" Row=\"196\"/>\n",
      "            <Item Col0=\"746.25\" Col1=\"-0.16920031607151\" Col2=\"0.626378655433655\" Row=\"197\"/>\n",
      "            <Item Col0=\"747.5\" Col1=\"-0.558501183986664\" Col2=\"-0.528105974197388\" Row=\"198\"/>\n",
      "            <Item Col0=\"748.75\" Col1=\"-0.55100417137146\" Col2=\"-0.140072241425514\" Row=\"199\"/>\n",
      "            <Item Col0=\"750\" Col1=\"-0.336805552244186\" Col2=\"-0.158380836248398\" Row=\"200\"/>\n",
      "          </FileMeasurement>\n",
      "        </SubItem>\n",
      "        <SubItem Index=\"7\" Text=\"\"/>\n",
      "        <SubItem Index=\"8\" Text=\"\"/>\n",
      "        <SubItem Index=\"9\" Text=\"1\"/>\n",
      "        <SubItem Index=\"10\" Text=\"2\"/>\n",
      "      </Item>\n",
      "      \n"
     ]
    }
   ],
   "source": [
    "print vna.get_standard_definition()"
   ]
  },
  {
   "cell_type": "code",
   "execution_count": 12,
   "metadata": {
    "collapsed": false
   },
   "outputs": [
    {
     "data": {
      "text/plain": [
       "[{'location': 'C:\\\\Data\\\\UncertDemo\\\\OnePortMeas\\\\Open.s1p', 'name': 'Open'}]"
      ]
     },
     "execution_count": 12,
     "metadata": {},
     "output_type": "execute_result"
    }
   ],
   "source": [
    "vna.get_DUTs()"
   ]
  },
  {
   "cell_type": "code",
   "execution_count": 14,
   "metadata": {
    "collapsed": false
   },
   "outputs": [],
   "source": [
    "p=MUFParameter(r\"C:\\Share\\8510calfiles\\24Cal\\Standards\\Parameters\\AL24I2_Length.parameter\")"
   ]
  },
  {
   "cell_type": "code",
   "execution_count": 16,
   "metadata": {
    "collapsed": false
   },
   "outputs": [
    {
     "data": {
      "text/plain": [
       "['AL24I1_Length.parameter',\n",
       " 'AL24I2_Length.parameter',\n",
       " 'AL24I3_Length.parameter',\n",
       " 'Capacitance.parameter',\n",
       " 'DielLossTan.parameter',\n",
       " 'ICDiameter.parameter',\n",
       " 'MetalCond_0.parameter',\n",
       " 'OCDiameter.parameter',\n",
       " 'Offset_0.parameter',\n",
       " 'Offset_1.parameter',\n",
       " 'PinDepthP1_0.parameter',\n",
       " 'PinDepthP2_0.parameter',\n",
       " 'PinDepthTotal_0.parameter',\n",
       " 'PinDiameterP1_0.parameter',\n",
       " 'PinDiameterP2_0.parameter',\n",
       " 'Port 1 Inductance.parameter',\n",
       " 'Port 1 Resistance.parameter',\n",
       " 'Port 2 Inductance.parameter',\n",
       " 'Port 2 Resistance.parameter',\n",
       " 'Position_0.parameter',\n",
       " 'RelDielConst.parameter',\n",
       " 'Shorts_Length.parameter',\n",
       " 'Thru24_Length.parameter']"
      ]
     },
     "execution_count": 16,
     "metadata": {},
     "output_type": "execute_result"
    }
   ],
   "source": [
    "os.listdir(r'C:\\Share\\8510calfiles\\24Cal\\Standards\\Parameters')"
   ]
  },
  {
   "cell_type": "code",
   "execution_count": 20,
   "metadata": {
    "collapsed": false
   },
   "outputs": [],
   "source": [
    "parameters=[]\n",
    "widths=[]\n",
    "for file_name in os.listdir(r'C:\\Share\\8510calfiles\\24Cal\\Standards\\Parameters'):\n",
    "    model=MUFParameter(os.path.join(r'C:\\Share\\8510calfiles\\24Cal\\Standards\\Parameters',file_name))\n",
    "    parameters.append(model)\n",
    "    widths.append(model.get_distribution_width())"
   ]
  },
  {
   "cell_type": "code",
   "execution_count": 21,
   "metadata": {
    "collapsed": false
   },
   "outputs": [
    {
     "data": {
      "text/plain": [
       "['0.005',\n",
       " '0.005',\n",
       " '0.005',\n",
       " '0',\n",
       " '0',\n",
       " '0.002',\n",
       " '5e6',\n",
       " '0.0025',\n",
       " '0',\n",
       " '0',\n",
       " '0.0065',\n",
       " '0.0065',\n",
       " '.0065',\n",
       " '0.008',\n",
       " '0.008',\n",
       " '0',\n",
       " '0',\n",
       " '0',\n",
       " '0',\n",
       " '1',\n",
       " '0',\n",
       " '0.005',\n",
       " '0.005']"
      ]
     },
     "execution_count": 21,
     "metadata": {},
     "output_type": "execute_result"
    }
   ],
   "source": [
    "widths"
   ]
  },
  {
   "cell_type": "code",
   "execution_count": null,
   "metadata": {
    "collapsed": true
   },
   "outputs": [],
   "source": []
  }
 ],
 "metadata": {
  "kernelspec": {
   "display_name": "Python 2",
   "language": "python",
   "name": "python2"
  },
  "language_info": {
   "codemirror_mode": {
    "name": "ipython",
    "version": 2
   },
   "file_extension": ".py",
   "mimetype": "text/x-python",
   "name": "python",
   "nbconvert_exporter": "python",
   "pygments_lexer": "ipython2",
   "version": "2.7.13"
  }
 },
 "nbformat": 4,
 "nbformat_minor": 2
}
