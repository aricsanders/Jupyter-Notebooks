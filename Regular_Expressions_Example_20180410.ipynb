{
 "cells": [
  {
   "cell_type": "markdown",
   "metadata": {},
   "source": [
    "# Regular Expressions\n",
    "[Regular expressions] [regex] exist in multiple languages, they are the key to parsing text. \n",
    "\n",
    "## Regular Expressions in Python \n",
    "begin by importing the re module\n",
    "```python\n",
    "import re\n",
    "```\n",
    "\n",
    "The simplest regex is one that contains a word or some numbers. The two functions I use all the time are re.search and re.match. \n",
    "for example if I want to test input or have an option that is case insensitive then I use\n",
    "\n",
    "```python \n",
    "if re.search(\"hi\",test_string,re.IGNORECASE):\n",
    "    print(\"The letters hi are present\")\n",
    "```\n",
    "## Regular Expressions I Use all The Time\n",
    "\n",
    "[regex]:https://en.wikipedia.org/wiki/Regular_expression"
   ]
  },
  {
   "cell_type": "code",
   "execution_count": 1,
   "metadata": {
    "collapsed": true
   },
   "outputs": [],
   "source": [
    "import re"
   ]
  },
  {
   "cell_type": "code",
   "execution_count": 2,
   "metadata": {
    "collapsed": false
   },
   "outputs": [
    {
     "name": "stdout",
     "output_type": "stream",
     "text": [
      "the letter a is present\n"
     ]
    }
   ],
   "source": [
    "test_string=\"A long test string for purposes\"\n",
    "\n",
    "# this tests for the letter a in either case someplace in the string\n",
    "if re.search(\"a\",test_string,re.IGNORECASE):\n",
    "    print(\"the letter a is present\")"
   ]
  },
  {
   "cell_type": "code",
   "execution_count": 7,
   "metadata": {
    "collapsed": false
   },
   "outputs": [
    {
     "name": "stdout",
     "output_type": "stream",
     "text": [
      "You are magicYou are magic                                                  You are magic\n",
      "You are magic You are magic                                                 You are magic\n",
      "You are magic  You are magic                                                You are magic\n",
      "You are magic   You are magic                                               You are magic\n",
      "You are magic    You are magic                                              You are magic\n",
      "You are magic     You are magic                                             You are magic\n",
      "You are magic      You are magic                                            You are magic\n",
      "You are magic       You are magic                                           You are magic\n",
      "You are magic        You are magic                                          You are magic\n",
      "You are magic         You are magic                                         You are magic\n",
      "You are magic          You are magic                                        You are magic\n",
      "You are magic           You are magic                                       You are magic\n",
      "You are magic            You are magic                                      You are magic\n",
      "You are magic             You are magic                                     You are magic\n",
      "You are magic              You are magic                                    You are magic\n",
      "You are magic               You are magic                                   You are magic\n",
      "You are magic                You are magic                                  You are magic\n",
      "You are magic                 You are magic                                 You are magic\n",
      "You are magic                  You are magic                                You are magic\n",
      "You are magic                   You are magic                               You are magic\n",
      "You are magic                    You are magic                              You are magic\n",
      "You are magic                     You are magic                             You are magic\n",
      "You are magic                      You are magic                            You are magic\n",
      "You are magic                       You are magic                           You are magic\n",
      "You are magic                        You are magic                          You are magic\n",
      "You are magic                         You are magic                         You are magic\n",
      "You are magic                          You are magic                        You are magic\n",
      "You are magic                           You are magic                       You are magic\n",
      "You are magic                            You are magic                      You are magic\n",
      "You are magic                             You are magic                     You are magic\n",
      "You are magic                              You are magic                    You are magic\n",
      "You are magic                               You are magic                   You are magic\n",
      "You are magic                                You are magic                  You are magic\n",
      "You are magic                                 You are magic                 You are magic\n",
      "You are magic                                  You are magic                You are magic\n",
      "You are magic                                   You are magic               You are magic\n",
      "You are magic                                    You are magic              You are magic\n",
      "You are magic                                     You are magic             You are magic\n",
      "You are magic                                      You are magic            You are magic\n",
      "You are magic                                       You are magic           You are magic\n",
      "You are magic                                        You are magic          You are magic\n",
      "You are magic                                         You are magic         You are magic\n",
      "You are magic                                          You are magic        You are magic\n",
      "You are magic                                           You are magic       You are magic\n",
      "You are magic                                            You are magic      You are magic\n",
      "You are magic                                             You are magic     You are magic\n",
      "You are magic                                              You are magic    You are magic\n",
      "You are magic                                               You are magic   You are magic\n",
      "You are magic                                                You are magic  You are magic\n",
      "You are magic                                                 You are magic You are magic\n"
     ]
    }
   ],
   "source": [
    "# we could have an option string that if the right phase is entered then it responds differently\n",
    "option=\"magic\"\n",
    "if re.match(\"magic\",option):\n",
    "    for i in range(50):\n",
    "        print(\"You are magic\"+\" \"*i+\"You are magic\"+\" \"*(50-i)+\"You are magic\")"
   ]
  },
  {
   "cell_type": "code",
   "execution_count": null,
   "metadata": {
    "collapsed": true
   },
   "outputs": [],
   "source": []
  }
 ],
 "metadata": {
  "kernelspec": {
   "display_name": "Python 2",
   "language": "python",
   "name": "python2"
  },
  "language_info": {
   "codemirror_mode": {
    "name": "ipython",
    "version": 2
   },
   "file_extension": ".py",
   "mimetype": "text/x-python",
   "name": "python",
   "nbconvert_exporter": "python",
   "pygments_lexer": "ipython2",
   "version": "2.7.13"
  }
 },
 "nbformat": 4,
 "nbformat_minor": 2
}
