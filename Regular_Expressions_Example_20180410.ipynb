{
 "cells": [
  {
   "cell_type": "markdown",
   "metadata": {},
   "source": [
    "# Regular Expressions\n",
    "[Regular expressions] [regex] exist in multiple languages, they are the key to parsing text. \n",
    "\n",
    "## Regular Expressions in Python \n",
    "begin by importing the re module\n",
    "```python\n",
    "import re\n",
    "```\n",
    "\n",
    "The simplest regex is one that contains a word or some numbers. The two functions I use all the time are re.search and re.match. \n",
    "for example if I want to test input or have an option that is case insensitive then I use\n",
    "\n",
    "```python \n",
    "if re.search(\"hi\",test_string,re.IGNORECASE):\n",
    "    print(\"The letters hi are present\")\n",
    "```\n",
    "## Regular Expressions I Use all The Time\n",
    "\n",
    "[regex]:https://en.wikipedia.org/wiki/Regular_expression"
   ]
  },
  {
   "cell_type": "code",
   "execution_count": 3,
   "metadata": {
    "collapsed": true
   },
   "outputs": [],
   "source": [
    "import re"
   ]
  },
  {
   "cell_type": "code",
   "execution_count": 2,
   "metadata": {
    "collapsed": false
   },
   "outputs": [
    {
     "name": "stdout",
     "output_type": "stream",
     "text": [
      "the letter a is present\n"
     ]
    }
   ],
   "source": [
    "test_string=\"A long test string for purposes\"\n",
    "\n",
    "# this tests for the letter a in either case someplace in the string\n",
    "if re.search(\"a\",test_string,re.IGNORECASE):\n",
    "    print(\"the letter a is present\")"
   ]
  },
  {
   "cell_type": "code",
   "execution_count": 3,
   "metadata": {
    "collapsed": false
   },
   "outputs": [
    {
     "name": "stdout",
     "output_type": "stream",
     "text": [
      "You are magicYou are magic                                                  You are magic\n",
      "You are magic You are magic                                                 You are magic\n",
      "You are magic  You are magic                                                You are magic\n",
      "You are magic   You are magic                                               You are magic\n",
      "You are magic    You are magic                                              You are magic\n",
      "You are magic     You are magic                                             You are magic\n",
      "You are magic      You are magic                                            You are magic\n",
      "You are magic       You are magic                                           You are magic\n",
      "You are magic        You are magic                                          You are magic\n",
      "You are magic         You are magic                                         You are magic\n",
      "You are magic          You are magic                                        You are magic\n",
      "You are magic           You are magic                                       You are magic\n",
      "You are magic            You are magic                                      You are magic\n",
      "You are magic             You are magic                                     You are magic\n",
      "You are magic              You are magic                                    You are magic\n",
      "You are magic               You are magic                                   You are magic\n",
      "You are magic                You are magic                                  You are magic\n",
      "You are magic                 You are magic                                 You are magic\n",
      "You are magic                  You are magic                                You are magic\n",
      "You are magic                   You are magic                               You are magic\n",
      "You are magic                    You are magic                              You are magic\n",
      "You are magic                     You are magic                             You are magic\n",
      "You are magic                      You are magic                            You are magic\n",
      "You are magic                       You are magic                           You are magic\n",
      "You are magic                        You are magic                          You are magic\n",
      "You are magic                         You are magic                         You are magic\n",
      "You are magic                          You are magic                        You are magic\n",
      "You are magic                           You are magic                       You are magic\n",
      "You are magic                            You are magic                      You are magic\n",
      "You are magic                             You are magic                     You are magic\n",
      "You are magic                              You are magic                    You are magic\n",
      "You are magic                               You are magic                   You are magic\n",
      "You are magic                                You are magic                  You are magic\n",
      "You are magic                                 You are magic                 You are magic\n",
      "You are magic                                  You are magic                You are magic\n",
      "You are magic                                   You are magic               You are magic\n",
      "You are magic                                    You are magic              You are magic\n",
      "You are magic                                     You are magic             You are magic\n",
      "You are magic                                      You are magic            You are magic\n",
      "You are magic                                       You are magic           You are magic\n",
      "You are magic                                        You are magic          You are magic\n",
      "You are magic                                         You are magic         You are magic\n",
      "You are magic                                          You are magic        You are magic\n",
      "You are magic                                           You are magic       You are magic\n",
      "You are magic                                            You are magic      You are magic\n",
      "You are magic                                             You are magic     You are magic\n",
      "You are magic                                              You are magic    You are magic\n",
      "You are magic                                               You are magic   You are magic\n",
      "You are magic                                                You are magic  You are magic\n",
      "You are magic                                                 You are magic You are magic\n"
     ]
    }
   ],
   "source": [
    "# we could have an option string that if the right phase is entered then it responds differently\n",
    "option=\"magic\"\n",
    "if re.match(\"magic\",option):\n",
    "    for i in range(50):\n",
    "        print(\"You are magic\"+\" \"*i+\"You are magic\"+\" \"*(50-i)+\"You are magic\")"
   ]
  },
  {
   "cell_type": "markdown",
   "metadata": {},
   "source": [
    "## Capturing a dictionary "
   ]
  },
  {
   "cell_type": "code",
   "execution_count": 4,
   "metadata": {
    "collapsed": true
   },
   "outputs": [],
   "source": [
    "pattern=\"(?P<number>\\d+)\"\n",
    "match=re.search(pattern,\"12\")\n"
   ]
  },
  {
   "cell_type": "code",
   "execution_count": 6,
   "metadata": {
    "collapsed": false
   },
   "outputs": [
    {
     "data": {
      "text/plain": [
       "{'number': '12'}"
      ]
     },
     "execution_count": 6,
     "metadata": {},
     "output_type": "execute_result"
    }
   ],
   "source": [
    "match.groupdict()"
   ]
  },
  {
   "cell_type": "code",
   "execution_count": 24,
   "metadata": {
    "collapsed": false
   },
   "outputs": [
    {
     "name": "stdout",
     "output_type": "stream",
     "text": [
      "{'template': '-me'}\n"
     ]
    }
   ],
   "source": [
    "test_string=\"help-me\"\n",
    "test_pattern='help(?P<template>[\\w|-]+)'\n",
    "match=re.search(test_pattern,test_string)\n",
    "if match:\n",
    "    print(match.groupdict())\n",
    "else:\n",
    "    print(\"Was not a match\")\n"
   ]
  },
  {
   "cell_type": "markdown",
   "metadata": {
    "collapsed": true
   },
   "source": [
    "### Patterns of importance"
   ]
  },
  {
   "cell_type": "code",
   "execution_count": 1,
   "metadata": {
    "collapsed": true
   },
   "outputs": [],
   "source": [
    "number_match=r'[+-]?(\\d+(\\.\\d*)?|\\.\\d+)([eE][+-]?\\d+)?'"
   ]
  },
  {
   "cell_type": "code",
   "execution_count": 4,
   "metadata": {
    "collapsed": false
   },
   "outputs": [
    {
     "name": "stdout",
     "output_type": "stream",
     "text": [
      "10e5 is matched\n",
      "-1.234 is matched\n",
      "1 is matched\n"
     ]
    }
   ],
   "source": [
    "test_string_1='10e5'\n",
    "test_string_2='-1.234'\n",
    "test_string_3='1'\n",
    "for string in [test_string_1,test_string_2,test_string_3]:\n",
    "    if re.match(number_match,string):\n",
    "        print(\"{0} is matched\".format(string))"
   ]
  },
  {
   "cell_type": "code",
   "execution_count": 31,
   "metadata": {
    "collapsed": false
   },
   "outputs": [],
   "source": [
    "xml_match='(<.*[^(><.*)]+>)'"
   ]
  },
  {
   "cell_type": "code",
   "execution_count": 32,
   "metadata": {
    "collapsed": false
   },
   "outputs": [
    {
     "name": "stdout",
     "output_type": "stream",
     "text": [
      "<First>One</First> matched with group values {}\n",
      "<q>Hope</q> matched with group values {}\n",
      "NoMatch did not match\n"
     ]
    }
   ],
   "source": [
    "for string in [\"<First>One</First>\",\"<q>Hope</q>\",\"NoMatch\"]:\n",
    "    if re.match(xml_match,string,re.IGNORECASE):\n",
    "        match=re.match(xml_match,string)\n",
    "        print(\"{0} matched with group values {1}\".format(string,match.groupdict()))\n",
    "    else:\n",
    "        print(\"{0} did not match\".format(string))"
   ]
  },
  {
   "cell_type": "code",
   "execution_count": null,
   "metadata": {
    "collapsed": true
   },
   "outputs": [],
   "source": []
  }
 ],
 "metadata": {
  "kernelspec": {
   "display_name": "Python 2",
   "language": "python",
   "name": "python2"
  },
  "language_info": {
   "codemirror_mode": {
    "name": "ipython",
    "version": 2
   },
   "file_extension": ".py",
   "mimetype": "text/x-python",
   "name": "python",
   "nbconvert_exporter": "python",
   "pygments_lexer": "ipython2",
   "version": "2.7.13"
  }
 },
 "nbformat": 4,
 "nbformat_minor": 2
}
