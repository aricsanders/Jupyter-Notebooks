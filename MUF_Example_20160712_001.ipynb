{
 "cells": [
  {
   "cell_type": "markdown",
   "metadata": {},
   "source": [
    "# Microwave Uncertainity Framework Example\n",
    "This is meant as a demonstration of a two-port Line - Reflect - Line calibration with uncertainities using the Microwave Uncertainty Framework.\n",
    "\n",
    "## Table of Contents\n",
    "<hr style=\"border-top: 3px double #8c8b8b;\"/>\n",
    "<ol>\n",
    "<li> <h3><a href=\"#getting-started\">What You Need to get Started </a> </h3></li>\n",
    "<li> <h3><a href=\"#install\">Installing and Loading The Uncertainty Framework</a> </h3></li>\n",
    "<li> <h3> <a href=\"#more-information\">More Information</a></h3> </li>\n",
    "\n",
    "</ol>\n",
    "<hr style=\"border-top: 3px double #8c8b8b;\"/>\n"
   ]
  },
  {
   "cell_type": "code",
   "execution_count": null,
   "metadata": {
    "collapsed": true
   },
   "outputs": [],
   "source": []
  }
 ],
 "metadata": {
  "kernelspec": {
   "display_name": "Python 2",
   "language": "python",
   "name": "python2"
  },
  "language_info": {
   "codemirror_mode": {
    "name": "ipython",
    "version": 2
   },
   "file_extension": ".py",
   "mimetype": "text/x-python",
   "name": "python",
   "nbconvert_exporter": "python",
   "pygments_lexer": "ipython2",
   "version": "2.7.13"
  }
 },
 "nbformat": 4,
 "nbformat_minor": 0
}
