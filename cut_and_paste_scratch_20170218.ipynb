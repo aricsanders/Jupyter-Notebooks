{
 "cells": [
  {
   "cell_type": "code",
   "execution_count": null,
   "metadata": {
    "collapsed": true
   },
   "outputs": [],
   "source": [
    "def structure_metadata(header_string,metadata_fact_delimiter=\";\",metadata_key_value_delimiter=\"=\",comment_character=\"#\"):\n",
    "    \"\"\"Strucutre Metadata returns a metadata string and returns a metadata dictionary\"\"\"\n",
    "    string_list=re.split(metadata_fact_delimiter+'|\\n',header_string.replace(comment_character,''))\n",
    "    metadata_dictionary={}\n",
    "    for string in string_list:\n",
    "        pair=string.split(metadata_key_value_delimiter)\n",
    "        #print pair\n",
    "        #print len(pair)\n",
    "        if len(pair)==2:\n",
    "            key=pair[0].rstrip().lstrip().replace(\".\",\"_\")\n",
    "            value=pair[1].rstrip().lstrip()\n",
    "            metadata_dictionary[key]=value\n",
    "    return metadata_dictionary"
   ]
  }
 ],
 "metadata": {
  "kernelspec": {
   "display_name": "Python 2",
   "language": "python",
   "name": "python2"
  },
  "language_info": {
   "codemirror_mode": {
    "name": "ipython",
    "version": 2
   },
   "file_extension": ".py",
   "mimetype": "text/x-python",
   "name": "python",
   "nbconvert_exporter": "python",
   "pygments_lexer": "ipython2",
   "version": "2.7.13"
  }
 },
 "nbformat": 4,
 "nbformat_minor": 2
}
