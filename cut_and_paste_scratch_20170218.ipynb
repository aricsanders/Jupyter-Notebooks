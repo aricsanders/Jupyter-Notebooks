{
 "cells": [
  {
   "cell_type": "code",
   "execution_count": null,
   "metadata": {
    "collapsed": true
   },
   "outputs": [],
   "source": [
    "def structure_metadata(header_string,metadata_fact_delimiter=\";\",metadata_key_value_delimiter=\"=\",comment_character=\"#\"):\n",
    "    \"\"\"Strucutre Metadata returns a metadata string and returns a metadata dictionary\"\"\"\n",
    "    string_list=re.split(metadata_fact_delimiter+'|\\n',header_string.replace(comment_character,''))\n",
    "    metadata_dictionary={}\n",
    "    for string in string_list:\n",
    "        pair=string.split(metadata_key_value_delimiter)\n",
    "        #print pair\n",
    "        #print len(pair)\n",
    "        if len(pair)==2:\n",
    "            key=pair[0].rstrip().lstrip().replace(\".\",\"_\")\n",
    "            value=pair[1].rstrip().lstrip()\n",
    "            metadata_dictionary[key]=value\n",
    "    return metadata_dictionary"
   ]
  },
  {
   "cell_type": "code",
   "execution_count": 1,
   "metadata": {
    "collapsed": false
   },
   "outputs": [
    {
     "name": "stdout",
     "output_type": "stream",
     "text": [
      "Importing Code.Utils.Names\n",
      "Importing Code.DataHandlers.NISTModels\n",
      "The module smithplot was not found,please put it on the python path\n",
      "Importing Code.DataHandlers.GeneralModels\n",
      "Importing Code.DataHandlers.TouchstoneModels\n",
      "The module smithplot was not found,please put it on the python path\n",
      "Importing Code.DataHandlers.XMLModels\n",
      "Importing Code.DataHandlers.RadiCALModels\n",
      "Importing Code.DataHandlers.ZipModels\n",
      "Importing Code.DataHandlers.Translations\n",
      "Importing Code.DataHandlers.StatistiCALModels\n",
      "Importing Code.DataHandlers.MUFModels\n",
      "Importing Code.Analysis.SParameter\n",
      "Importing Code.Analysis.Uncertainty\n",
      "Importing Code.InstrumentControl.Instruments\n",
      "Importing Code.InstrumentControl.Experiments\n"
     ]
    }
   ],
   "source": [
    "from pyMeasure import *\n"
   ]
  },
  {
   "cell_type": "code",
   "execution_count": 2,
   "metadata": {
    "collapsed": true
   },
   "outputs": [],
   "source": [
    "from pyMeasure.Code.DataHandlers.GraphModels import *"
   ]
  },
  {
   "cell_type": "code",
   "execution_count": 3,
   "metadata": {
    "collapsed": true
   },
   "outputs": [],
   "source": [
    "meta=MetadataGraph()\n"
   ]
  },
  {
   "cell_type": "code",
   "execution_count": 5,
   "metadata": {
    "collapsed": true
   },
   "outputs": [],
   "source": [
    "options=meta.options.copy()\n"
   ]
  },
  {
   "cell_type": "code",
   "execution_count": 22,
   "metadata": {
    "collapsed": false
   },
   "outputs": [],
   "source": [
    "meta.set_state('Dictionary',options)"
   ]
  },
  {
   "cell_type": "code",
   "execution_count": 9,
   "metadata": {
    "collapsed": false
   },
   "outputs": [
    {
     "data": {
      "text/plain": [
       "['Dictionary',\n",
       " 'JsonString',\n",
       " 'JsonFile',\n",
       " 'XmlString',\n",
       " 'HtmlMetaString',\n",
       " 'XmlTupleString',\n",
       " 'PickleFile',\n",
       " 'ListList',\n",
       " 'HeaderList',\n",
       " 'DataFrame',\n",
       " 'AsciiDataTable',\n",
       " 'MatFile',\n",
       " 'ExcelFile',\n",
       " 'HdfFile',\n",
       " 'CsvFile',\n",
       " 'HtmlFile',\n",
       " 'HtmlTableString']"
      ]
     },
     "execution_count": 9,
     "metadata": {},
     "output_type": "execute_result"
    }
   ],
   "source": [
    "meta.node_names"
   ]
  },
  {
   "cell_type": "code",
   "execution_count": 23,
   "metadata": {
    "collapsed": false
   },
   "outputs": [
    {
     "name": "stdout",
     "output_type": "stream",
     "text": [
      "['edge_Dictionary_HeaderList_000']\n",
      "moving Dictionary -> HeaderList\n"
     ]
    }
   ],
   "source": [
    "meta.move_to_node('HeaderList')"
   ]
  },
  {
   "cell_type": "code",
   "execution_count": 24,
   "metadata": {
    "collapsed": false
   },
   "outputs": [
    {
     "name": "stdout",
     "output_type": "stream",
     "text": [
      "['graph_name=Metadata Graph', 'edge_1_to_2=<function Dictionary_to_JsonString at 0x000000000ECDA208>', \"node_names=['Dictionary', 'JsonString', 'JsonFile', 'XmlString', 'HtmlMetaString', 'XmlTupleString', 'PickleFile', 'ListList', 'HeaderList', 'DataFrame', 'AsciiDataTable', 'MatFile', 'ExcelFile', 'HdfFile', 'CsvFile', 'HtmlFile', 'HtmlTableString']\", 'current_node=Dictionary', 'state=[1, 0, 0, 0, 0, 0, 0, 0, 0, 0, 0, 0, 0, 0, 0, 0, 0]', 'edge_2_to_1=<function JsonString_to_Dictionary at 0x000000000ECDA278>', \"data={'a': 'First', 'b': 'Second'}\", \"node_descriptions=['Python Dictionary', 'Json string', 'JSON File', 'XML string', 'HTML meta tags', 'Tuple Line', 'Pickled File', 'List of lists', 'Header List', 'Pandas DataFrame', 'AsciiDataTable', 'Matlab', 'excel', 'hdf file', 'CSV File', 'HTML Table File', 'HTML Table String']\"]\n"
     ]
    }
   ],
   "source": [
    "print meta.data"
   ]
  },
  {
   "cell_type": "code",
   "execution_count": 32,
   "metadata": {
    "collapsed": false
   },
   "outputs": [
    {
     "name": "stdout",
     "output_type": "stream",
     "text": [
      "['edge_XmlTupleString_Dictionary_000', 'edge_Dictionary_XmlString_000']\n",
      "moving XmlTupleString -> Dictionary\n",
      "[' graph_name', '\"Metadata Graph\"']\n",
      "['edge_1_to_2', '\"<function Dictionary_to_JsonString at 0x000000000ECDA208>\"']\n",
      "['node_names', '\"[\\'Dictionary\\', \\'JsonString\\', \\'JsonFile\\', \\'XmlString\\', \\'HtmlMetaString\\', \\'XmlTupleString\\', \\'PickleFile\\', \\'ListList\\', \\'HeaderList\\', \\'DataFrame\\', \\'AsciiDataTable\\', \\'MatFile\\', \\'ExcelFile\\', \\'HdfFile\\', \\'CsvFile\\', \\'HtmlFile\\', \\'HtmlTableString\\']\"']\n",
      "['state', '\"[1, 0, 0, 0, 0, 0, 0, 0, 0, 0, 0, 0, 0, 0, 0, 0, 0]\"']\n",
      "['current_node', '\"Dictionary\"']\n",
      "['edge_2_to_1', '\"<function JsonString_to_Dictionary at 0x000000000ECDA278>\"']\n",
      "['data', '\"{\\'a\\': \\'First\\', \\'b\\': \\'Second\\'}\"']\n",
      "['node_descriptions', '\"[\\'Python Dictionary\\', \\'Json string\\', \\'JSON File\\', \\'XML string\\', \\'HTML meta tags\\', \\'Tuple Line\\', \\'Pickled File\\', \\'List of lists\\', \\'Header List\\', \\'Pandas DataFrame\\', \\'AsciiDataTable\\', \\'Matlab\\', \\'excel\\', \\'hdf file\\', \\'CSV File\\', \\'HTML Table File\\', \\'HTML Table String\\']\"']\n",
      "['']\n",
      "moving Dictionary -> XmlString\n"
     ]
    }
   ],
   "source": [
    "meta.move_to_node('XmlString')"
   ]
  },
  {
   "cell_type": "code",
   "execution_count": 33,
   "metadata": {
    "collapsed": false
   },
   "outputs": [
    {
     "name": "stdout",
     "output_type": "stream",
     "text": [
      "<graph_name>Metadata Graph</graph_name>\n",
      "<edge_1_to_2><function Dictionary_to_JsonString at 0x000000000ECDA208></edge_1_to_2>\n",
      "<node_names>['Dictionary', 'JsonString', 'JsonFile', 'XmlString', 'HtmlMetaString', 'XmlTupleString', 'PickleFile', 'ListList', 'HeaderList', 'DataFrame', 'AsciiDataTable', 'MatFile', 'ExcelFile', 'HdfFile', 'CsvFile', 'HtmlFile', 'HtmlTableString']</node_names>\n",
      "<state>[1, 0, 0, 0, 0, 0, 0, 0, 0, 0, 0, 0, 0, 0, 0, 0, 0]</state>\n",
      "<current_node>Dictionary</current_node>\n",
      "<edge_2_to_1><function JsonString_to_Dictionary at 0x000000000ECDA278></edge_2_to_1>\n",
      "<data>{'a': 'First', 'b': 'Second'}</data>\n",
      "<node_descriptions>['Python Dictionary', 'Json string', 'JSON File', 'XML string', 'HTML meta tags', 'Tuple Line', 'Pickled File', 'List of lists', 'Header List', 'Pandas DataFrame', 'AsciiDataTable', 'Matlab', 'excel', 'hdf file', 'CSV File', 'HTML Table File', 'HTML Table String']</node_descriptions>\n",
      "\n"
     ]
    }
   ],
   "source": [
    "print meta.data"
   ]
  },
  {
   "cell_type": "code",
   "execution_count": null,
   "metadata": {
    "collapsed": true
   },
   "outputs": [],
   "source": []
  }
 ],
 "metadata": {
  "kernelspec": {
   "display_name": "Python 2",
   "language": "python",
   "name": "python2"
  },
  "language_info": {
   "codemirror_mode": {
    "name": "ipython",
    "version": 2
   },
   "file_extension": ".py",
   "mimetype": "text/x-python",
   "name": "python",
   "nbconvert_exporter": "python",
   "pygments_lexer": "ipython2",
   "version": "2.7.13"
  }
 },
 "nbformat": 4,
 "nbformat_minor": 2
}
