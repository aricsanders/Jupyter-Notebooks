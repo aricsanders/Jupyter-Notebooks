{
 "cells": [
  {
   "cell_type": "markdown",
   "metadata": {},
   "source": [
    "# Example of data translation using a bijective graph\n",
    "The graph method creates a series of interlocking nodes that have transformations between themselves. There are a few basic rules:\n",
    "1. Any node has an edge into and out of itself\n",
    "2. Any path that results in the same end location creates the same node \n",
    "\n",
    "## This example is one of a rectangular table, a set of column modeled data. \n",
    "### This graph has the folowing nodes, and hence transformations between all of them\n",
    "1. n1, 'Pandas Data Frame', in memory \n",
    "2. n2, 'AsciiDataTable', in memory\n",
    "3. n3, 'HDF File', on disk\n",
    "4. n4, 'XML Data Table',in memory\n",
    "5. n5, 'Excel File', on disk\n",
    "6. n6, 'HTML String',in memory\n",
    "7. n7, 'JSON File', on disk\n",
    "8. n8, 'JSON String',in memory\n",
    "9. n9,'CSV File', on disk\n",
    "10. n10, 'Matlab File', on disk\n",
    "11. n11, 'XML File', on disk\n",
    "12. n12, 'HTML File ', on disk"
   ]
  },
  {
   "cell_type": "markdown",
   "metadata": {},
   "source": [
    "### Naming of translation functions\n",
    "The naming of functions that translate one data format to another should follow these rules\n",
    "1. When a python class is involved the name should be the class name with the same structure\n",
    "2. When an on disk format is chosen it should be all lower case with underscores\n",
    "3. Names should be type_1_to_type_2()\n",
    "4. File names should have a parameter that can be passed\n",
    "\n",
    "Example:\n",
    ">> DataFrame_to_AsciiDataTable\n",
    "\n"
   ]
  },
  {
   "cell_type": "code",
   "execution_count": 1,
   "metadata": {
    "collapsed": false
   },
   "outputs": [
    {
     "name": "stdout",
     "output_type": "stream",
     "text": [
      "Importing Code.Utils.Names\n",
      "Importing Code.DataHandlers.NISTModels\n",
      "Importing Code.DataHandlers.GeneralModels\n",
      "Importing Code.DataHandlers.TouchstoneModels\n",
      "Importing Code.DataHandlers.XMLModels\n",
      "Importing Code.DataHandlers.RadiCALModels\n",
      "Importing Code.DataHandlers.ZipModels\n",
      "Importing Code.DataHandlers.Translations\n",
      "Importing Code.DataHandlers.StatistiCALModels\n",
      "Importing Code.DataHandlers.MUFModels\n",
      "Importing Code.Analysis.SParameter\n",
      "Importing Code.InstrumentControl.Instruments\n",
      "Importing Code.InstrumentControl.Experiments\n"
     ]
    }
   ],
   "source": [
    "from pyMeasure import *\n",
    "import pandas\n",
    "from scipy.io import savemat,loadmat\n",
    "import re\n",
    "import datetime\n",
    "import numpy as np\n",
    "from ipywidgets import *\n",
    "import json\n",
    "import networkx\n",
    "import odo\n",
    "import sqlite3"
   ]
  },
  {
   "cell_type": "code",
   "execution_count": null,
   "metadata": {
    "collapsed": true
   },
   "outputs": [],
   "source": []
  },
  {
   "cell_type": "code",
   "execution_count": 71,
   "metadata": {
    "collapsed": false
   },
   "outputs": [],
   "source": [
    "def remove_circular_paths(path):\n",
    "    \"\"\"Removes pieces of the path that just end on the same node\"\"\"\n",
    "    edge_pattern=re.compile(\"edge_(?P<begin_node>\\w+)_(?P<end_node>\\w+)_(?P<iterator>\\w+)\")\n",
    "    past_locations=[]\n",
    "    \n",
    "    for index,edge in enumerate(path):\n",
    "        match=re.match(edge_pattern,edge)\n",
    "        begin_node=match.groupdict()[\"begin_node\"]\n",
    "        end_node=match.groupdict()[\"end_node\"]\n",
    "        past_locations.append(begin_node)\n",
    "        #print(\"{0} is {1}\".format(\"past_locations\",past_locations))\n",
    "    new_path=[]\n",
    "    node_index=0\n",
    "    between_list=[False for item in past_locations]\n",
    "    while(node_index<len(past_locations)):\n",
    "        node=past_locations[node_index]\n",
    "        old_path=new_path\n",
    "        new_path=[]\n",
    "        \n",
    "        if past_locations.count(node)>1:\n",
    "            #print(\"{0} is {1}\".format(\"node\",node))\n",
    "            #print(\"{0} is {1}\".format(\"past_locations\",past_locations))\n",
    "            equality_list=map(lambda x:x==node,past_locations)\n",
    "            #print(\"{0} is {1}\".format(\"equality_list\",equality_list))\n",
    "            between=False\n",
    "            for index,equality in enumerate(equality_list):\n",
    "                if equality and equality_list[index:].count(True)%2==1:\n",
    "                    between=not between\n",
    "                    between_list[index]=between or between_list[index]\n",
    "                else:\n",
    "                    between_list[index]=between or between_list[index] \n",
    "        #print(\"{0} is {1}\".format(\"between_list\",between_list))\n",
    "        for index,item in enumerate(between_list):\n",
    "            if not item:\n",
    "                new_path.append(path[index])\n",
    "        node_index+=1\n",
    "\n",
    "    if new_path in [[]]:\n",
    "        new_path=path\n",
    "                    \n",
    "    return new_path\n",
    "\n",
    "def edge_1_to_2(in_string):\n",
    "    return in_string.splitlines()\n",
    "    \n",
    "def edge_2_to_1(string_list):\n",
    "    return string_list_collapse(string_list)\n",
    "\n",
    "class Graph():\n",
    "    def __init__(self,**options):\n",
    "        \"\"\"Initializes the graph. The first 2 nodes and two edges forming a bijection between them are required\"\"\"\n",
    "        defaults={\"graph_name\":\"Graph\",\n",
    "                  \"node_names\":['n1','n2'],\n",
    "                  \"node_descriptions\":[\"A plain string\",\n",
    "                                       \"A list of strings with no \\\\n, created with string.splitlines()\"],\n",
    "                  \"current_node\":'n1',\n",
    "                  \"state\":[1,0],\n",
    "                  \"data\":\"This is a test string\\n it has to have multiple lines \\n and many characters 34%6\\n^\",\n",
    "                  \"edge_2_to_1\":edge_2_to_1,\n",
    "                  \"edge_1_to_2\":edge_1_to_2\n",
    "                 }\n",
    "        self.options={}\n",
    "        for key,value in defaults.iteritems():\n",
    "            self.options[key]=value\n",
    "        for key,value in options.iteritems():\n",
    "            self.options[key]=value\n",
    "        self.elements=['graph_name','node_names','node_descriptions','current_node','state','data']\n",
    "        for element in self.elements:\n",
    "            self.__dict__[element]=self.options[element]\n",
    "        self.edges=[]\n",
    "        self.edge_matrices=[]\n",
    "        self.state_matrix=np.matrix(self.state).T\n",
    "        # Add the first 2 edges, required to intialize the graph properly\n",
    "        self.add_edge(self.node_names[0],self.node_names[1],self.options[\"edge_1_to_2\"])\n",
    "        self.add_edge(self.node_names[1],self.node_names[0],self.options[\"edge_2_to_1\"])\n",
    "        self.jumps=[]\n",
    "        self.external_node_names=[]\n",
    "        self.external_node_descriptions=[]\n",
    "\n",
    "    def get_description_dictionary(self):\n",
    "        dictionary={node_name:self.node_descriptions[index] for index,node_name in enumerate(self.node_names)}\n",
    "        return dictionary\n",
    "    \n",
    "    def set_state(self,node_name,node_data):\n",
    "        \"\"\"Sets the graph state to be the state specified by node_name, and node_data\"\"\"\n",
    "        try:\n",
    "            current_node_state_position=self.node_names.index(node_name)\n",
    "            self.current_node=node_name\n",
    "            self.data=node_data\n",
    "            self.state=[0 for i in range(len(self.node_names))]\n",
    "            self.state[current_node_state_position]=1\n",
    "            self.state_matrix=np.matrix(self.state).T\n",
    "        except:\n",
    "            print(\"Could not set the state of graph: {0}\".format(self.graph_name))\n",
    "            raise\n",
    "            \n",
    "    def add_edge(self,begin_node=None,end_node=None,edge_function=None):\n",
    "        \"\"\"Adds an edge mapping one node to another, required input is begin_node (it's name)\n",
    "        end_node, and the edge function\"\"\"\n",
    "        # check to see if edge is defined if it is increment a number\n",
    "        edge_match=re.compile(\"edge_{0}_{1}\".format(begin_node,end_node))\n",
    "        keys=self.__dict__.keys()\n",
    "        #print keys\n",
    "        iterator=0\n",
    "        for key in keys:\n",
    "            if re.match(edge_match,key):\n",
    "                iterator+=1\n",
    "        edge_name=\"edge_{0}_{1}_{2:0>3d}\".format(begin_node,end_node,iterator)\n",
    "        self.__dict__[edge_name]=edge_function\n",
    "        self.edges.append(edge_name)\n",
    "        edge_matrix=np.zeros((len(self.state),len(self.state)))\n",
    "        begin_position=self.node_names.index(begin_node)\n",
    "        end_position=self.node_names.index(end_node)\n",
    "        edge_matrix[end_position][begin_position]=1\n",
    "        edge_matrix=np.matrix(edge_matrix)\n",
    "        self.edge_matrices.append(edge_matrix)\n",
    "        \n",
    "    def add_jump(self,begin_node=None,end_node=None,jump_function=None):\n",
    "        \"\"\"Adds a jump mapping one internal node to an external node, required input is begin_node (it's name)\n",
    "        end_node, and the edge function\"\"\"\n",
    "        # check to see if edge is defined if it is increment a number\n",
    "        jump_match=re.compile(\"jump_{0}_{1}\".format(begin_node,end_node))\n",
    "        keys=self.__dict__.keys()\n",
    "        #print keys\n",
    "        iterator=0\n",
    "        for key in keys:\n",
    "            if re.match(jump_match,key):\n",
    "                iterator+=1\n",
    "        jump_name=\"jump_{0}_{1}_{2:0>3d}\".format(begin_node,end_node,iterator)\n",
    "        self.__dict__[jump_name]=jump_function\n",
    "        self.jumps.append(jump_name)\n",
    "\n",
    "        \n",
    "    def move_to(self,path):\n",
    "        \"\"\"Changes the state of the graph by moving along the path specified\"\"\"\n",
    "        print path\n",
    "        for index,edge in enumerate(path):\n",
    "            #print edge\n",
    "            edge_pattern='edge_(?P<begin_node>\\w+)_(?P<end_node>\\w+)_(?P<iterator>\\w+)'\n",
    "            match=re.match(edge_pattern,edge)\n",
    "            begin_node=match.groupdict()['begin_node']\n",
    "            end_node=match.groupdict()['end_node']\n",
    "            print(\"moving {0} -> {1}\".format(begin_node,end_node))\n",
    "            #print self.data\n",
    "            self.data=self.__dict__[edge](self.data)\n",
    "            #print self.data\n",
    "            self.current_node=match.groupdict()['end_node']\n",
    "            self.state=[0 for i in range(len(self.node_names))]\n",
    "            position=self.node_names.index(self.current_node)\n",
    "            self.state[position]=1\n",
    "            self.state_matrix=np.matrix(self.state).T\n",
    "            #print self.state\n",
    "            #print self.current_node\n",
    "            \n",
    "    def virtual_move_to(self,path):\n",
    "        \"\"\"virtual_move_to simulates moving but does not change the state of the graph\"\"\"\n",
    "        #print path\n",
    "        temp_state=self.state\n",
    "        temp_data=self.data\n",
    "        temp_current_node=self.current_node\n",
    "        temp_node_names=self.node_names\n",
    "        for index,edge in enumerate(path):\n",
    "            #print edge\n",
    "            edge_pattern='edge_(?P<begin_node>\\w+)_(?P<end_node>\\w+)_(?P<iterator>\\w+)'\n",
    "            match=re.match(edge_pattern,edge)\n",
    "            begin_node=match.groupdict()['begin_node']\n",
    "            end_node=match.groupdict()['end_node']\n",
    "            #print(\"moving {0} -> {1}\".format(begin_node,end_node))\n",
    "            #print self.data\n",
    "            temp_data=self.__dict__[edge](temp_data)\n",
    "            #print self.data\n",
    "            temp_current_node=match.groupdict()['end_node']\n",
    "            temp_state=[0 for i in range(len(temp_node_names))]\n",
    "            position=temp_node_names.index(temp_current_node)\n",
    "            temp_state[position]=1\n",
    "            #print temp_state\n",
    "            #print self.state\n",
    "            #print self.current_node  \n",
    "            \n",
    "    def __str__(self):\n",
    "        return str(self.data)\n",
    "    \n",
    "    def add_node(self,node_name,edge_into_node_begin,edge_into_node_function,edge_out_node_end,\n",
    "                 edge_out_node_function):\n",
    "        \"\"\"Adds a node to the graph. Required input is node_name (a string with no spaces), \n",
    "        a reference to an entering node,the function mapping the entering node to the new node, \n",
    "        a reference to an exiting node and the function mapping the\n",
    "        new node to the exiting node.\"\"\"\n",
    "        # first check if node into and out of node is good\n",
    "        self.node_names.append(node_name)\n",
    "        self.state.append(0)\n",
    "        self.state_matrix=np.matrix(self.state).T\n",
    "        for index,matrix in enumerate(self.edge_matrices):\n",
    "            pad_row=np.zeros((1,len(matrix)))\n",
    "            new_matrix=np.concatenate((matrix, pad_row), axis=0)\n",
    "            pad_column=np.zeros((1,len(self.node_names)))\n",
    "            new_matrix=np.concatenate((new_matrix, pad_column.T), axis=1)\n",
    "            #print(\"New matrix is :\\n{0}\".format(new_matrix))\n",
    "            self.edge_matrices[index]=new_matrix\n",
    "        self.add_edge(begin_node=node_name,end_node=edge_out_node_end,edge_function=edge_out_node_function)\n",
    "        self.add_edge(begin_node=edge_into_node_begin,end_node=node_name,edge_function=edge_into_node_function)\n",
    "        \n",
    "    def add_external_node(self,external_node_name,jump_into_node_begin,jump_into_node_function):\n",
    "        \"\"\"Adds an external node to the graph. Required input is node_name (a string with no spaces), \n",
    "        a reference to an entering node,the function mapping the entering node to the new external node\"\"\"\n",
    "        # first check if node into and out of node is good\n",
    "        self.external_node_names.append(external_node_name)\n",
    "        self.add_jump(begin_node=jump_into_node_begin,end_node=external_node_name,jump_function=jump_into_node_function)\n",
    "    \n",
    "    def jump_to_external_node(self,external_node_name):\n",
    "        \"\"\"Returns the result of the jump, the graph is left in the node that is the begining of the jump\"\"\"\n",
    "        end_node=external_node_name\n",
    "        jump_pattern='jump_(?P<begin_node>\\w+)_{0}_(?P<iterator>\\w+)'.format(end_node)\n",
    "        for jump in self.jumps[:]:\n",
    "            jump_match=re.match(jump_pattern,jump,re.IGNORECASE)\n",
    "            if jump_match:\n",
    "                jump_to_use=jump\n",
    "                begin_node=jump_match.groupdict()[\"begin_node\"]\n",
    "                \n",
    "        self.move_to_node(begin_node)\n",
    "        return self.__dict__[jump_to_use](self.data)\n",
    "        \n",
    "\n",
    "    \n",
    "    def path_length(self,path,num_repeats=10):\n",
    "        \"\"\"Determines the length of a given path, currently the metric is based on the time to move to.\"\"\"\n",
    "        begin_time=datetime.datetime.now()\n",
    "        #num_repeats=100\n",
    "        for i in range(num_repeats):\n",
    "            self.virtual_move_to(path)\n",
    "        end_time=datetime.datetime.now()\n",
    "        delta_t=end_time-begin_time\n",
    "        path_length=delta_t.total_seconds()/float(num_repeats)\n",
    "        if path_length ==0.0:\n",
    "            print(\"Warning the path length is less than 1 microsecond,\" \n",
    "                  \"make sure num_repeats is high enough to measure it.\")\n",
    "        return path_length\n",
    "                \n",
    "    def is_path_valid(self,path):\n",
    "        \"\"\"Returns True if the path is valid from the current node position or False otherwise\"\"\"\n",
    "        null_state=[0 for i in range(len(self.node_names))]\n",
    "        null_state_matrix=np.matrix(null_state).T\n",
    "        new_state=np.matrix(self.state).T\n",
    "        for index,edge in enumerate(path):\n",
    "            #print index\n",
    "            #print edge\n",
    "            edge_position=self.edges.index(edge)\n",
    "            move_matrix=self.edge_matrices[edge_position]\n",
    "            #print move_matrix\n",
    "            new_state=move_matrix*new_state\n",
    "            if new_state.any()==null_state_matrix.any():\n",
    "                #print new_state\n",
    "                #print null_state_matrix\n",
    "                return False\n",
    "        return True\n",
    "            \n",
    "            \n",
    "    def get_entering_nodes(self,node): \n",
    "        \"\"\"Returns all nodes that have an edge that enter the specificed node\"\"\"\n",
    "        enter_edge_pattern=re.compile('edge_(?P<begin_node>\\w+)_{0}_(?P<iterator>\\w+)'.format(node))\n",
    "        enter_nodes=[]\n",
    "        for index,edge in enumerate(self.edges):\n",
    "            enter_match=re.match(enter_edge_pattern,edge)\n",
    "            if enter_match:\n",
    "                enter_node=enter_match.groupdict()['begin_node']\n",
    "                enter_nodes.append(enter_node)\n",
    "        return enter_nodes\n",
    "    \n",
    "    def get_entering_edges(self,node): \n",
    "        \"\"\"Returns all edges that enter the specificed node\"\"\"\n",
    "        enter_edge_pattern=re.compile('edge_(?P<begin_node>\\w+)_{0}_(?P<iterator>\\w+)'.format(node))\n",
    "        enter_edges=[]\n",
    "        for index,edge in enumerate(self.edges):\n",
    "            if re.match(enter_edge_pattern,edge):\n",
    "                enter_edges.append(edge)\n",
    "        return enter_edges\n",
    "    \n",
    "    def get_exiting_edges(self,node):\n",
    "        \"\"\"Returns all edges that exit the specificed node\"\"\"\n",
    "        exit_edge_pattern=re.compile('edge_{0}_(?P<end_node>\\w+)_(?P<iterator>\\w+)'.format(node))\n",
    "        exit_edges=[]\n",
    "        for index,edge in enumerate(self.edges):\n",
    "            if re.match(exit_edge_pattern,edge):\n",
    "                exit_edges.append(edge)\n",
    "        return exit_edges \n",
    "    \n",
    "    def get_exiting_nodes(self,node): \n",
    "        \"\"\"Returns all nodes that have an edge leaving the specificed node\"\"\"\n",
    "        exit_edge_pattern=re.compile('edge_{0}_(?P<end_node>\\w+)_(?P<iterator>\\w+)'.format(node))\n",
    "        exit_nodes=[]\n",
    "        for index,edge in enumerate(self.edges):\n",
    "            exit_match=re.match(exit_edge_pattern,edge)\n",
    "            if exit_match:\n",
    "                exit_node=exit_match.groupdict()['end_node']\n",
    "                exit_nodes.append(exit_node)\n",
    "        return exit_nodes\n",
    "    \n",
    "    def get_path(self,first_node,last_node):\n",
    "        \"\"\"Returns the first path found between first node and last node, three step paths are broken\"\"\"\n",
    "        #TODO: Remove Circular Paths\n",
    "        edge_pattern=re.compile('edge_(?P<begin_node>\\w+)_(?P<end_node>\\w+)_(?P<iterator>\\w+)')\n",
    "        exit_paths=self.get_exiting_edges(first_node)\n",
    "        next_nodes=self.get_exiting_nodes(first_node)\n",
    "        #be careful here using the wrong assignment statement breaks this function \n",
    "        possible_paths=[]\n",
    "        for exit_path in exit_paths:\n",
    "            possible_paths.append([exit_path])\n",
    "        #print(\"{0} is {1}\".format('possible_paths',possible_paths))\n",
    "        for i in range(len(self.node_names)):\n",
    "            #print(\"{0} is {1}\".format('i',i))\n",
    "            #print(\"{0} is {1}\".format('possible_paths',possible_paths))\n",
    "            for index,path in enumerate(possible_paths):\n",
    "                #print(\"{0} is {1}\".format('index',index))\n",
    "                last_edge=path[-1]\n",
    "                #print(\"{0} is {1}\".format('last_edge',last_edge))\n",
    "                match=re.match(edge_pattern,last_edge)\n",
    "                begin_node=match.groupdict()['begin_node']\n",
    "                end_node=match.groupdict()['end_node']\n",
    "                #print(\"{0} is {1}\".format('end_node',end_node))\n",
    "                if end_node==last_node:\n",
    "                    #print(\"The path found is {0}\".format(path))\n",
    "                    return remove_circular_paths(path)\n",
    "                next_possible_paths=[]\n",
    "                next_edges=self.get_exiting_edges(end_node)\n",
    "                next_nodes=self.get_exiting_nodes(end_node)\n",
    "                #print(\"{0} is {1}\".format('next_edges',next_edges))\n",
    "                for next_edge_index,next_edge in enumerate(next_edges):\n",
    "                    #print(\"{0} is {1}\".format('next_edge_index',next_edge_index))\n",
    "                    #be careful here using the wrong assignment statement breaks this function \n",
    "                    #next_path=path is a deal breaker!! \n",
    "                    next_path=[]\n",
    "                    for edge in path:\n",
    "                        next_path.append(edge)\n",
    "                    #print(\"{0} is {1}\".format('next_path',next_path))\n",
    "                    #print(\"{0} is {1}\".format('next_edge',next_edge))\n",
    "                    #next_node=next_nodes[index]\n",
    "                    #print next_node\n",
    "                    next_match=re.match(edge_pattern,next_edge)\n",
    "                    next_node=next_match.groupdict()[\"end_node\"]\n",
    "                    begin_node_next_edge=next_match.groupdict()[\"begin_node\"]\n",
    "                    #print(\"{0} is {1}\".format('next_node',next_node))\n",
    "                    #print(\"{0} is {1}\".format('begin_node_next_edge',begin_node_next_edge))\n",
    "                    if next_node==last_node and begin_node_next_edge==end_node:\n",
    "                        next_path.append(next_edge)\n",
    "                        #print(\"The path found is {0}\".format(next_path))\n",
    "                        return remove_circular_paths(next_path)\n",
    "                    elif begin_node_next_edge==end_node:\n",
    "                        next_path.append(next_edge)\n",
    "                        # This keeps it from getting stuck on circular paths\n",
    "                        if next_edge in path:\n",
    "                        #ossible_paths=possible_paths\n",
    "                            #print(\"next_edge was already in path\")\n",
    "                            continue\n",
    "                        next_possible_paths.append(next_path)\n",
    "                        \n",
    "                        #print(\"{0} is {1}\".format('next_possible_paths',next_possible_paths))\n",
    "                    else:\n",
    "                        print(\"Path is not found\")\n",
    "                        pass\n",
    "\n",
    "                    #print(\"{0} is {1}\".format('next_possible_paths',next_possible_paths))\n",
    "                if next_possible_paths:\n",
    "                    possible_paths=next_possible_paths\n",
    "                #print(\"{0} is {1}\".format('possible_paths',possible_paths))\n",
    "    \n",
    "    def move_to_node(self,node):\n",
    "        \"\"\"Moves from current_node to the specified node\"\"\"\n",
    "        path=self.get_path(self.current_node,node)\n",
    "        self.move_to(path)\n",
    "            \n",
    "    def check_closed_path(self):\n",
    "        \"\"\"Checks that data is not changed for the first closed path found. Returns True if data==data after\n",
    "        moving around the closed path, False otherwise. Starting point is current_node \"\"\"\n",
    "        temp_data=self.data\n",
    "        path=self.get_path(self.current_node,self.current_node)\n",
    "        if self.is_path_valid(path):\n",
    "            pass\n",
    "        else:\n",
    "            print(\"Path is not valid, graph definition is broken\")\n",
    "            raise\n",
    "        out=temp_data==self.data\n",
    "        out_list=[self.current_node,path,out]\n",
    "        print(\"The assertion that the data remains unchanged,\\n\" \n",
    "              \"for node {0} following path {1} is {2}\".format(*out_list))\n",
    "        return out \n",
    "    \n",
    "    def is_graph_isomorphic(self):\n",
    "        \"\"\"Returns True if all nodes have closed paths that preserve the data, False otherwise\"\"\"\n",
    "        out=True\n",
    "        for node in self.node_names:\n",
    "            self.move_to_node(node)\n",
    "            if not self.check_closed_path:\n",
    "                out=False\n",
    "        return out\n",
    "    \n",
    "    def show(self,**options):\n",
    "        \"\"\"Shows the graph using matplotlib and networkx\"\"\"\n",
    "        # Should be seperated to allow for fixed presentation?\n",
    "        defaults={\"descriptions\":False,\"edge_descriptions\":False,\"save_plot\":False,\n",
    "                 \"path\":None,\"active_node\":True,\"directory\":None,\"specific_descriptor\":self.graph_name.replace(\" \",\"_\"),\n",
    "                  \"general_descriptor\":\"plot\",\"file_name\":None,\n",
    "                 \"arrows\":True,\"node_size\":1000,\"font_size\":10}\n",
    "        show_options={}\n",
    "        for key,value in defaults.iteritems():\n",
    "            show_options[key]=value\n",
    "        for key,value in options.iteritems():\n",
    "            show_options[key]=value\n",
    "        if show_options[\"directory\"] is None:\n",
    "            show_options[\"directory\"]=os.getcwd() \n",
    "        new_graph=networkx.DiGraph()\n",
    "        edge_pattern=re.compile(\"edge_(?P<begin_node>\\w+)_(?P<end_node>\\w+)_(?P<iterator>\\w+)\")\n",
    "        jump_pattern=re.compile(\"jump_(?P<begin_node>\\w+)_(?P<end_node>\\w+)_(?P<iterator>\\w+)\")\n",
    "        for node in self.node_names:\n",
    "            new_graph.add_node(node)\n",
    "        for node in self.external_node_names:\n",
    "            new_graph.add_node(node)\n",
    "        for edge in self.edges:\n",
    "            match=re.match(edge_pattern,edge)\n",
    "            if match:\n",
    "                begin_node=match.groupdict()[\"begin_node\"]\n",
    "                end_node=match.groupdict()[\"end_node\"]\n",
    "                new_graph.add_edge(begin_node,end_node)\n",
    "                #print(\"Begin Node = {0}, End Node= {1}\".format(begin_node,end_node))\n",
    "        #print(\"{0} is {1}\".format('new_graph.nodes()',new_graph.nodes()))\n",
    "        for jump in self.jumps:\n",
    "            match=re.match(jump_pattern,jump)\n",
    "            if match:\n",
    "                begin_node=match.groupdict()[\"begin_node\"]\n",
    "                end_node=match.groupdict()[\"end_node\"]\n",
    "                new_graph.add_edge(begin_node,end_node)\n",
    "                \n",
    "        if show_options[\"active_node\"]:\n",
    "            node_colors=[]\n",
    "            for node in new_graph.nodes():\n",
    "                if node==self.current_node:\n",
    "                    node_colors.append('b')\n",
    "                else:\n",
    "                    if node in self.node_names:\n",
    "                        node_colors.append('r')\n",
    "                    elif node in self.external_node_names:\n",
    "                        node_colors.append('g')\n",
    "        else:\n",
    "            node_colors=['r' for node in self.node_names]+['g' for node in self.node_names]\n",
    "        #print(\"{0} is {1}\".format('node_colors',node_colors))\n",
    "        if show_options[\"descriptions\"]:\n",
    "            node_labels={node:self.node_descriptions[index] for index, \n",
    "                               node in enumerate(self.node_names)}\n",
    "            if self.external_node_names:\n",
    "                for index,node in enumerate(self.external_node_names):\n",
    "                    node_labels[node]=self.external_node_descriptions[index]\n",
    "            networkx.draw_networkx(new_graph,arrows=show_options[\"arrows\"],\n",
    "                       labels=node_labels,node_color=node_colors,\n",
    "                                   node_size=show_options[\"node_size\"],font_size=show_options[\"font_size\"])\n",
    "            #print(\"{0} is {1}\".format('node_labels',node_labels))\n",
    "        else:\n",
    "            networkx.draw_networkx(new_graph,arrows=show_options[\"arrows\"],node_color=node_colors,\n",
    "                                  node_size=show_options[\"node_size\"],font_size=show_options[\"font_size\"])\n",
    "            \n",
    "        plt.suptitle(self.options[\"graph_name\"])\n",
    "        if show_options[\"file_name\"] is None:\n",
    "            file_name=auto_name(specific_descriptor=show_options[\"specific_descriptor\"],\n",
    "                                general_descriptor=show_options[\"general_descriptor\"],\n",
    "                                directory=show_options[\"directory\"],extension='png',padding=3)\n",
    "        else:\n",
    "            file_name=show_options[\"file_name\"]\n",
    "        if show_options[\"save_plot\"]:\n",
    "            #print file_name\n",
    "            if show_options[\"path\"]:\n",
    "                plt.savefig(show_options[\"path\"])\n",
    "            else:\n",
    "                plt.savefig(os.path.join(show_options[\"directory\"],file_name))\n",
    "        else:\n",
    "            plt.show()\n",
    "            \n"
   ]
  },
  {
   "cell_type": "code",
   "execution_count": 58,
   "metadata": {
    "collapsed": false
   },
   "outputs": [
    {
     "name": "stdout",
     "output_type": "stream",
     "text": [
      "The self.metadata[\"Device_Id\"] variable is 700437\n"
     ]
    }
   ],
   "source": [
    "options={}\n",
    "options[\"data\"]=[[1,2,3],[4,5,6]]\n",
    "options[\"column_names\"]=['a','b','c']\n",
    "table=AsciiDataTable(None,**options)\n",
    "table=OnePortCalrepModel(os.path.join(TESTS_DIRECTORY,'700437.asc'))\n",
    "#table=SNP(os.path.join(TESTS_DIRECTORY,'Solution_0.s4p'))\n",
    "data_frame=AsciiDataTable_to_DataFrame(table)"
   ]
  },
  {
   "cell_type": "code",
   "execution_count": 87,
   "metadata": {
    "collapsed": false
   },
   "outputs": [],
   "source": [
    "graph_options={\"graph_name\":\"Rectangular Graph\",\n",
    "                  \"node_names\":['n1','n2'],\n",
    "                  \"node_descriptions\":[\"Pandas Data Frame\",\"AsciiDataTable\"],\n",
    "                  \"current_node\":'n1',\n",
    "                  \"state\":[1,0],\n",
    "                  \"data\":data_frame,\n",
    "                  \"edge_2_to_1\":AsciiDataTable_to_DataFrame,\n",
    "                  \"edge_1_to_2\":DataFrame_to_AsciiDataTable\n",
    "                 }\n",
    "rect_graph=Graph(**graph_options)"
   ]
  },
  {
   "cell_type": "code",
   "execution_count": 98,
   "metadata": {
    "collapsed": false
   },
   "outputs": [
    {
     "data": {
      "image/png": "[encoded data removed]",
      "text/plain": [
       "<matplotlib.figure.Figure at 0xe268c88>"
      ]
     },
     "metadata": {},
     "output_type": "display_data"
    },
    {
     "name": "stdout",
     "output_type": "stream",
     "text": [
      "[1, 0, 0, 0, 0, 0, 0, 0, 0, 0, 0, 0, 0]\n",
      "['n1', 'n2', 'n3', 'n4', 'n5', 'n6', 'n7', 'n8', 'n9', 'n10', 'n11', 'n12', 'n13']\n",
      "n1\n",
      "['edge_n1_n2_000']\n",
      "moving n1 -> n2\n"
     ]
    },
    {
     "data": {
      "image/png": "[encoded data removed]",
      "text/plain": [
       "<matplotlib.figure.Figure at 0x11b34940>"
      ]
     },
     "metadata": {},
     "output_type": "display_data"
    }
   ],
   "source": [
    "%matplotlib inline\n",
    "rect_graph.show(descriptions=False)\n",
    "print rect_graph.state\n",
    "print rect_graph.node_names\n",
    "print rect_graph.current_node\n",
    "rect_graph.move_to_node(\"n2\")\n",
    "rect_graph.show(font_size=12,node_size=500,arrows=False,save_plot=True)"
   ]
  },
  {
   "cell_type": "code",
   "execution_count": 7,
   "metadata": {
    "collapsed": false
   },
   "outputs": [
    {
     "name": "stdout",
     "output_type": "stream",
     "text": [
      "['edge_n2_n1_000']\n",
      "moving n2 -> n1\n",
      "['edge_n1_n2_000']\n",
      "moving n1 -> n2\n"
     ]
    },
    {
     "data": {
      "text/plain": [
       "True"
      ]
     },
     "execution_count": 7,
     "metadata": {},
     "output_type": "execute_result"
    }
   ],
   "source": [
    "rect_graph.is_graph_isomorphic()"
   ]
  },
  {
   "cell_type": "code",
   "execution_count": 8,
   "metadata": {
    "collapsed": false
   },
   "outputs": [
    {
     "name": "stdout",
     "output_type": "stream",
     "text": [
      "['edge_n2_n1_000', 'edge_n1_n2_000']\n",
      "moving n2 -> n1\n",
      "moving n1 -> n2\n"
     ]
    }
   ],
   "source": [
    "rect_graph.move_to_node(\"n2\")"
   ]
  },
  {
   "cell_type": "code",
   "execution_count": 7,
   "metadata": {
    "collapsed": false
   },
   "outputs": [],
   "source": [
    "#print rect_graph.data"
   ]
  },
  {
   "cell_type": "code",
   "execution_count": 88,
   "metadata": {
    "collapsed": true
   },
   "outputs": [],
   "source": [
    "def DataFrame_to_hdf(pandas_data_frame):\n",
    "    pandas_data_frame.to_hdf(\"Test.hdf\",\"table\")\n",
    "    return \"Test.hdf\"\n",
    "def hdf_to_DataFrame(hdf_file_name):\n",
    "    df=pandas.read_hdf(hdf_file_name,\"table\")\n",
    "    return df\n",
    "def XMLDataTable_to_AsciiDataTable(xml_table):\n",
    "    \n",
    "    table=AsciiDataTable(None,\n",
    "                         column_names=xml_table.attribute_names,\n",
    "                         data=xml_table.data)\n",
    "    return table\n",
    "def AsciiDataTable_to_XMLDataTable_2(data_table):\n",
    "    xml=AsciiDataTable_to_XMLDataTable(data_table)\n",
    "    return xml\n",
    "def DataFrame_to_excel(pandas_data_frame,file_name=\"Test.xlsx\"):\n",
    "    pandas_data_frame.to_excel(file_name,index=False)\n",
    "    return file_name\n",
    "\n",
    "def excel_to_DataFrame(excel_file_name):\n",
    "    df=pandas.read_excel(excel_file_name)\n",
    "    return df\n",
    "def DataFrame_to_HTML_string(pandas_data_frame):\n",
    "    html=pandas_data_frame.to_html(index=False)\n",
    "    return html\n",
    "\n",
    "def HTML_string_to_DataFrame(html_string):\n",
    "    list_df=pandas.read_html(html_string)\n",
    "    return list_df[0]\n",
    "def DataFrame_to_json(pandas_data_frame):\n",
    "    json=pandas_data_frame.to_json(\"test.json\",orient='records')\n",
    "    return \"test.json\"\n",
    "\n",
    "def json_to_DataFrame(json_file_name):\n",
    "    data_frame=pandas.read_json(json_file_name,orient='records')\n",
    "    return data_frame\n",
    "\n",
    "def DataFrame_to_json_string(pandas_data_frame):\n",
    "    json=pandas_data_frame.to_json(orient='records')\n",
    "    return json\n",
    "\n",
    "def json_string_to_DataFrame(json_string):\n",
    "    data_frame=pandas.read_json(json_string,orient='records')\n",
    "    return data_frame\n",
    "\n",
    "def DataFrame_to_csv(pandas_data_frame,file_name=\"test.csv\"):\n",
    "    csv=pandas_data_frame.to_csv(file_name,index=False)\n",
    "    return file_name\n",
    "\n",
    "def csv_to_DataFrame(csv_file_name):\n",
    "    data_frame=pandas.read_csv(csv_file_name)\n",
    "    return data_frame\n",
    "\n",
    "def AsciiDataTable_to_Matlab(ascii_data_table,file_name=\"test.mat\"):\n",
    "    matlab_data_dictionary={\"data\":ascii_data_table.data,\"column_names\":ascii_data_table.column_names}\n",
    "    savemat(file_name,matlab_data_dictionary)\n",
    "    return file_name\n",
    "\n",
    "def Matlab_to_AsciiDataTable(matlab_file_name):\n",
    "    matlab_data_dictionary=loadmat(matlab_file_name)\n",
    "    ascii_data_table=AsciiDataTable(None,\n",
    "                                    column_names=map(lambda x: x.rstrip().lstrip(),\n",
    "                                                     matlab_data_dictionary[\"column_names\"].tolist()),\n",
    "                                     data=matlab_data_dictionary[\"data\"].tolist())\n",
    "    return ascii_data_table\n",
    "\n",
    "def DataTable_to_XML(xml_data_table,file_name=\"test.xml\"):\n",
    "    xml_data_table.save(file_name)\n",
    "    return file_name\n",
    "\n",
    "def XML_to_DataTable(xml_file_name):\n",
    "    xml_data_table=DataTable(xml_file_name)\n",
    "    return xml_data_table\n",
    "\n",
    "def html_string_to_html_file(html_string,file_name=\"test.html\"):\n",
    "    out_file=open(file_name,'w')\n",
    "    out_file.write(html_string)\n",
    "    out_file.close()\n",
    "    return file_name\n",
    "# this is broken, something does not work properly\n",
    "def html_file_to_pandas(html_file_name):\n",
    "    in_file=open(html_file_name,'r')\n",
    "    pandas_data_frame=pandas.read_html(in_file)\n",
    "    return pandas_data_frame\n",
    "\n",
    "def html_file_to_html_string(html_file_name):\n",
    "    in_file=open(html_file_name,'r')\n",
    "    html_string=in_file.read()\n",
    "    return html_string\n",
    "\n",
    "def DataFrame_to_html_file(pandas_data_frame,file_name=\"test.html\"):\n",
    "    out_file=open(file_name,'w')\n",
    "    pandas_data_frame.to_html(out_file,index=False)\n",
    "    return file_name\n",
    "\n",
    "def json_to_DataTable(json_file_name):\n",
    "    data_dictionary_list=json.load(open(json_file_name,'r'))\n",
    "    xml=DataTable(None,data_dictionary={\"data\":data_dictionary_list})\n",
    "    return xml\n",
    "\n",
    "def csv_to_AsciiDataTable(csv_file_name):\n",
    "    options={\"column_names_begin_line\":0,\"column_names_end_line\":1,\n",
    "             \"data_begin_line\":1,\"data_end_line\":-1,\"data_delimiter\":\",\",\"column_names_delimiter\":\",\"}\n",
    "    table=AsciiDataTable(csv_file_name,**options)\n",
    "    return table\n",
    "\n",
    "def DataFrame_to_sqlite(pandas_data_frame,file_name=\"test.db\",table_name=\"data\"):\n",
    "    \"\"\"Transforms a pandas.DataFrame to a table in an sqlite database\"\"\"\n",
    "#     connection=sqlite3.connect(file_name)\n",
    "#     connection.close()\n",
    "    sql_url=\"sqlite:///{0}::{1}\".format(file_name,table_name)\n",
    "    odo.odo(pandas_data_frame,sql_url)\n",
    "    return sql_url\n",
    "\n",
    "def sqlite_to_DataFrame(sqlite_url):\n",
    "    \"\"\"Creates a pandas.DataFrame from a table in an sqlite database (use sqlite:///file_name::table_name)\"\"\"\n",
    "    pandas_data_frame=odo.odo(sqlite_url,pandas.DataFrame)\n",
    "    return pandas_data_frame\n",
    "def identity(parameter):\n",
    "    return parameter"
   ]
  },
  {
   "cell_type": "code",
   "execution_count": 89,
   "metadata": {
    "collapsed": false
   },
   "outputs": [],
   "source": [
    "# need to rename these Model1_to_Model2\n",
    "rect_graph.add_node(\"n3\",\"n1\",DataFrame_to_hdf,\"n1\",hdf_to_DataFrame)\n",
    "rect_graph.node_descriptions.append(\"HDF File\")\n",
    "rect_graph.add_node(\"n4\",\"n2\",AsciiDataTable_to_XMLDataTable_2,\"n2\",XMLDataTable_to_AsciiDataTable)\n",
    "rect_graph.node_descriptions.append(\"XML Data Table\")\n",
    "\n",
    "# Need to add XML File and Html File using save and save_HTML()\n",
    "rect_graph.add_node(\"n5\",\"n1\",DataFrame_to_excel,\"n1\",excel_to_DataFrame)\n",
    "rect_graph.node_descriptions.append(\"Excel File\")\n",
    "rect_graph.add_node(\"n6\",\"n1\",DataFrame_to_HTML_string,\"n1\",HTML_string_to_DataFrame)\n",
    "rect_graph.node_descriptions.append(\"HTML String\")\n",
    "\n",
    "# Note a lot of the pandas reading and writing cause float64 round off errors\n",
    "# applymap(lambda x: np.around(x,10) any all float fields will fix this\n",
    "# also the column names move about in order\n",
    "rect_graph.add_node(\"n7\",\"n1\",DataFrame_to_json,\"n1\",json_to_DataFrame)\n",
    "rect_graph.node_descriptions.append(\"JSON File\")\n",
    "rect_graph.add_node(\"n8\",\"n1\",DataFrame_to_json_string,\"n1\",json_string_to_DataFrame)\n",
    "rect_graph.node_descriptions.append(\"JSON String\")\n",
    "rect_graph.add_node(\"n9\",\"n1\",DataFrame_to_csv,\"n1\",csv_to_DataFrame)\n",
    "rect_graph.node_descriptions.append(\"CSV File\")\n",
    "rect_graph.add_node(\"n10\",\"n2\",AsciiDataTable_to_Matlab,\"n2\",Matlab_to_AsciiDataTable)\n",
    "rect_graph.node_descriptions.append(\"Matlab File\")\n",
    "rect_graph.add_node(\"n11\",\"n4\",DataTable_to_XML,\"n4\",XML_to_DataTable)\n",
    "rect_graph.node_descriptions.append(\"XML File\")\n",
    "rect_graph.add_node(\"n12\",\"n6\",html_string_to_html_file,\"n6\",html_file_to_html_string)\n",
    "rect_graph.node_descriptions.append(\"HTML File\")\n",
    "# rect_graph.add_node(\"n13\",\"n1\",DataFrame_to_sqlite,\"n1\",sqlite_to_DataFrame)\n",
    "# rect_graph.node_descriptions.append(\"sqlite table\")\n",
    "rect_graph.add_node(\"n13\",\"n1\",identity,\"n1\",identity)\n",
    "rect_graph.node_descriptions.append(\"Identity\")\n",
    "rect_graph.add_edge(\"n1\",\"n12\",DataFrame_to_html_file)\n",
    "rect_graph.add_edge(\"n7\",\"n4\",json_to_DataTable)\n",
    "rect_graph.add_edge(\"n9\",\"n2\",csv_to_AsciiDataTable)"
   ]
  },
  {
   "cell_type": "code",
   "execution_count": 90,
   "metadata": {
    "collapsed": false
   },
   "outputs": [],
   "source": [
    "def jump_to_html_string(xml_data_table,style_sheet=os.path.join(TESTS_DIRECTORY,XSLT_REPOSITORY,\"DEFAULT_MEASUREMENT_STYLE.xsl\")):\n",
    "    \"\"\"Creates a html string from an xml data table\"\"\"\n",
    "    return xml_data_table.to_HTML(style_sheet)\n",
    "def jump_to_html_file(xml_data_table,style_sheet=os.path.join(TESTS_DIRECTORY,XSLT_REPOSITORY,\"DEFAULT_MEASUREMENT_STYLE.xsl\"),file_path=None):\n",
    "    \"\"\"creates a html file from an xml data table\"\"\"\n",
    "    xml_data_table.save_HTML(style_sheet,file_path=file_path)\n",
    "    if file_path is None:\n",
    "        file_path=xml_data_table.path.replace('.xml','.html')\n",
    "    return file_path\n",
    "rect_graph.add_external_node(\"ex1\",\"n4\",jump_to_html_string)\n",
    "rect_graph.external_node_descriptions.append(\"html_string\")\n",
    "rect_graph.add_external_node(\"ex2\",\"n4\",jump_to_html_file)\n",
    "rect_graph.external_node_descriptions.append(\"html_file\")\n",
    "rect_graph.add_external_node(\"ex3\",\"n1\",DataFrame_to_sqlite)\n",
    "rect_graph.external_node_descriptions.append(\"Sqlite3\")"
   ]
  },
  {
   "cell_type": "code",
   "execution_count": 33,
   "metadata": {
    "collapsed": true
   },
   "outputs": [],
   "source": [
    "path=rect_graph.get_path(\"n1\",\"n11\")"
   ]
  },
  {
   "cell_type": "code",
   "execution_count": 35,
   "metadata": {
    "collapsed": false
   },
   "outputs": [],
   "source": [
    "new_path=remove_circular_paths(path)"
   ]
  },
  {
   "cell_type": "code",
   "execution_count": 36,
   "metadata": {
    "collapsed": false
   },
   "outputs": [
    {
     "data": {
      "text/plain": [
       "['edge_n1_n13_000', 'edge_n13_n1_000']"
      ]
     },
     "execution_count": 36,
     "metadata": {},
     "output_type": "execute_result"
    }
   ],
   "source": [
    "new_path"
   ]
  },
  {
   "cell_type": "code",
   "execution_count": 50,
   "metadata": {
    "collapsed": false
   },
   "outputs": [
    {
     "name": "stdout",
     "output_type": "stream",
     "text": [
      "['edge_n1_n12_000', 'edge_n12_n6_000', 'edge_n6_n1_000', 'edge_n1_n13_000', 'edge_n13_n1_000', 'edge_n1_n9_000', 'edge_n9_n2_000', 'edge_n2_n4_000', 'edge_n4_n11_000']\n",
      "node is n1\n",
      "past_locations is ['n1', 'n12', 'n6', 'n1', 'n13', 'n1', 'n9', 'n2', 'n4']\n",
      "equality_list is [True, False, False, True, False, True, False, False, False]\n",
      "between_list is [True, True, True, True, True, False, False, False, False]\n",
      "between_list is [True, True, True, True, True, False, False, False, False]\n",
      "between_list is [True, True, True, True, True, False, False, False, False]\n",
      "node is n1\n",
      "past_locations is ['n1', 'n12', 'n6', 'n1', 'n13', 'n1', 'n9', 'n2', 'n4']\n",
      "equality_list is [True, False, False, True, False, True, False, False, False]\n",
      "between_list is [True, True, True, True, True, False, False, False, False]\n",
      "between_list is [True, True, True, True, True, False, False, False, False]\n",
      "node is n1\n",
      "past_locations is ['n1', 'n12', 'n6', 'n1', 'n13', 'n1', 'n9', 'n2', 'n4']\n",
      "equality_list is [True, False, False, True, False, True, False, False, False]\n",
      "between_list is [True, True, True, True, True, False, False, False, False]\n",
      "between_list is [True, True, True, True, True, False, False, False, False]\n",
      "between_list is [True, True, True, True, True, False, False, False, False]\n",
      "between_list is [True, True, True, True, True, False, False, False, False]\n",
      "['edge_n1_n9_000', 'edge_n9_n2_000', 'edge_n2_n4_000', 'edge_n4_n11_000']\n"
     ]
    }
   ],
   "source": [
    "def remove_circular_paths(path):\n",
    "    \"\"\"Removes pieces of the path that just end on the same node\"\"\"\n",
    "    edge_pattern=re.compile(\"edge_(?P<begin_node>\\w+)_(?P<end_node>\\w+)_(?P<iterator>\\w+)\")\n",
    "    past_locations=[]\n",
    "    \n",
    "    for index,edge in enumerate(path):\n",
    "        match=re.match(edge_pattern,edge)\n",
    "        begin_node=match.groupdict()[\"begin_node\"]\n",
    "        end_node=match.groupdict()[\"end_node\"]\n",
    "        past_locations.append(begin_node)\n",
    "        #print(\"{0} is {1}\".format(\"past_locations\",past_locations))\n",
    "    new_path=[]\n",
    "    node_index=0\n",
    "    between_list=[False for item in past_locations]\n",
    "    while(node_index<len(past_locations)):\n",
    "        node=past_locations[node_index]\n",
    "        old_path=new_path\n",
    "        new_path=[]\n",
    "        \n",
    "        if past_locations.count(node)>1:\n",
    "            print(\"{0} is {1}\".format(\"node\",node))\n",
    "            print(\"{0} is {1}\".format(\"past_locations\",past_locations))\n",
    "            equality_list=map(lambda x:x==node,past_locations)\n",
    "            print(\"{0} is {1}\".format(\"equality_list\",equality_list))\n",
    "            between=False\n",
    "            for index,equality in enumerate(equality_list):\n",
    "                if equality and equality_list[index:].count(True)%2==1:\n",
    "                    between=not between\n",
    "                    between_list[index]=between or between_list[index]\n",
    "                else:\n",
    "                    between_list[index]=between or between_list[index] \n",
    "        print(\"{0} is {1}\".format(\"between_list\",between_list))\n",
    "        for index,item in enumerate(between_list):\n",
    "            if not item:\n",
    "                new_path.append(path[index])\n",
    "        node_index+=1\n",
    "\n",
    "    if new_path in [[]]:\n",
    "        new_path=path\n",
    "                    \n",
    "    return new_path\n",
    "print path\n",
    "print remove_circular_paths(path)"
   ]
  },
  {
   "cell_type": "code",
   "execution_count": 49,
   "metadata": {
    "collapsed": false
   },
   "outputs": [
    {
     "data": {
      "text/plain": [
       "1"
      ]
     },
     "execution_count": 49,
     "metadata": {},
     "output_type": "execute_result"
    }
   ],
   "source": [
    "3%2"
   ]
  },
  {
   "cell_type": "code",
   "execution_count": 12,
   "metadata": {
    "collapsed": false
   },
   "outputs": [
    {
     "name": "stdout",
     "output_type": "stream",
     "text": [
      "['edge_n2_n4_000']\n",
      "moving n2 -> n4\n"
     ]
    }
   ],
   "source": [
    "html_file_name=rect_graph.jump_to_external_node(\"ex2\")"
   ]
  },
  {
   "cell_type": "code",
   "execution_count": 13,
   "metadata": {
    "collapsed": false
   },
   "outputs": [
    {
     "data": {
      "text/plain": [
       "['jump_n4_ex1_000', 'jump_n4_ex2_000']"
      ]
     },
     "execution_count": 13,
     "metadata": {},
     "output_type": "execute_result"
    }
   ],
   "source": [
    "rect_graph.jumps"
   ]
  },
  {
   "cell_type": "code",
   "execution_count": 84,
   "metadata": {
    "collapsed": false
   },
   "outputs": [
    {
     "data": {
      "application/javascript": [
       "/* Put everything inside the global mpl namespace */\n",
       "window.mpl = {};\n",
       "\n",
       "mpl.get_websocket_type = function() {\n",
       "    if (typeof(WebSocket) !== 'undefined') {\n",
       "        return WebSocket;\n",
       "    } else if (typeof(MozWebSocket) !== 'undefined') {\n",
       "        return MozWebSocket;\n",
       "    } else {\n",
       "        alert('Your browser does not have WebSocket support.' +\n",
       "              'Please try Chrome, Safari or Firefox ≥ 6. ' +\n",
       "              'Firefox 4 and 5 are also supported but you ' +\n",
       "              'have to enable WebSockets in about:config.');\n",
       "    };\n",
       "}\n",
       "\n",
       "mpl.figure = function(figure_id, websocket, ondownload, parent_element) {\n",
       "    this.id = figure_id;\n",
       "\n",
       "    this.ws = websocket;\n",
       "\n",
       "    this.supports_binary = (this.ws.binaryType != undefined);\n",
       "\n",
       "    if (!this.supports_binary) {\n",
       "        var warnings = document.getElementById(\"mpl-warnings\");\n",
       "        if (warnings) {\n",
       "            warnings.style.display = 'block';\n",
       "            warnings.textContent = (\n",
       "                \"This browser does not support binary websocket messages. \" +\n",
       "                    \"Performance may be slow.\");\n",
       "        }\n",
       "    }\n",
       "\n",
       "    this.imageObj = new Image();\n",
       "\n",
       "    this.context = undefined;\n",
       "    this.message = undefined;\n",
       "    this.canvas = undefined;\n",
       "    this.rubberband_canvas = undefined;\n",
       "    this.rubberband_context = undefined;\n",
       "    this.format_dropdown = undefined;\n",
       "\n",
       "    this.image_mode = 'full';\n",
       "\n",
       "    this.root = $('<div/>');\n",
       "    this._root_extra_style(this.root)\n",
       "    this.root.attr('style', 'display: inline-block');\n",
       "\n",
       "    $(parent_element).append(this.root);\n",
       "\n",
       "    this._init_header(this);\n",
       "    this._init_canvas(this);\n",
       "    this._init_toolbar(this);\n",
       "\n",
       "    var fig = this;\n",
       "\n",
       "    this.waiting = false;\n",
       "\n",
       "    this.ws.onopen =  function () {\n",
       "            fig.send_message(\"supports_binary\", {value: fig.supports_binary});\n",
       "            fig.send_message(\"send_image_mode\", {});\n",
       "            fig.send_message(\"refresh\", {});\n",
       "        }\n",
       "\n",
       "    this.imageObj.onload = function() {\n",
       "            if (fig.image_mode == 'full') {\n",
       "                // Full images could contain transparency (where diff images\n",
       "                // almost always do), so we need to clear the canvas so that\n",
       "                // there is no ghosting.\n",
       "                fig.context.clearRect(0, 0, fig.canvas.width, fig.canvas.height);\n",
       "            }\n",
       "            fig.context.drawImage(fig.imageObj, 0, 0);\n",
       "        };\n",
       "\n",
       "    this.imageObj.onunload = function() {\n",
       "        this.ws.close();\n",
       "    }\n",
       "\n",
       "    this.ws.onmessage = this._make_on_message_function(this);\n",
       "\n",
       "    this.ondownload = ondownload;\n",
       "}\n",
       "\n",
       "mpl.figure.prototype._init_header = function() {\n",
       "    var titlebar = $(\n",
       "        '<div class=\"ui-dialog-titlebar ui-widget-header ui-corner-all ' +\n",
       "        'ui-helper-clearfix\"/>');\n",
       "    var titletext = $(\n",
       "        '<div class=\"ui-dialog-title\" style=\"width: 100%; ' +\n",
       "        'text-align: center; padding: 3px;\"/>');\n",
       "    titlebar.append(titletext)\n",
       "    this.root.append(titlebar);\n",
       "    this.header = titletext[0];\n",
       "}\n",
       "\n",
       "\n",
       "\n",
       "mpl.figure.prototype._canvas_extra_style = function(canvas_div) {\n",
       "\n",
       "}\n",
       "\n",
       "\n",
       "mpl.figure.prototype._root_extra_style = function(canvas_div) {\n",
       "\n",
       "}\n",
       "\n",
       "mpl.figure.prototype._init_canvas = function() {\n",
       "    var fig = this;\n",
       "\n",
       "    var canvas_div = $('<div/>');\n",
       "\n",
       "    canvas_div.attr('style', 'position: relative; clear: both; outline: 0');\n",
       "\n",
       "    function canvas_keyboard_event(event) {\n",
       "        return fig.key_event(event, event['data']);\n",
       "    }\n",
       "\n",
       "    canvas_div.keydown('key_press', canvas_keyboard_event);\n",
       "    canvas_div.keyup('key_release', canvas_keyboard_event);\n",
       "    this.canvas_div = canvas_div\n",
       "    this._canvas_extra_style(canvas_div)\n",
       "    this.root.append(canvas_div);\n",
       "\n",
       "    var canvas = $('<canvas/>');\n",
       "    canvas.addClass('mpl-canvas');\n",
       "    canvas.attr('style', \"left: 0; top: 0; z-index: 0; outline: 0\")\n",
       "\n",
       "    this.canvas = canvas[0];\n",
       "    this.context = canvas[0].getContext(\"2d\");\n",
       "\n",
       "    var rubberband = $('<canvas/>');\n",
       "    rubberband.attr('style', \"position: absolute; left: 0; top: 0; z-index: 1;\")\n",
       "\n",
       "    var pass_mouse_events = true;\n",
       "\n",
       "    canvas_div.resizable({\n",
       "        start: function(event, ui) {\n",
       "            pass_mouse_events = false;\n",
       "        },\n",
       "        resize: function(event, ui) {\n",
       "            fig.request_resize(ui.size.width, ui.size.height);\n",
       "        },\n",
       "        stop: function(event, ui) {\n",
       "            pass_mouse_events = true;\n",
       "            fig.request_resize(ui.size.width, ui.size.height);\n",
       "        },\n",
       "    });\n",
       "\n",
       "    function mouse_event_fn(event) {\n",
       "        if (pass_mouse_events)\n",
       "            return fig.mouse_event(event, event['data']);\n",
       "    }\n",
       "\n",
       "    rubberband.mousedown('button_press', mouse_event_fn);\n",
       "    rubberband.mouseup('button_release', mouse_event_fn);\n",
       "    // Throttle sequential mouse events to 1 every 20ms.\n",
       "    rubberband.mousemove('motion_notify', mouse_event_fn);\n",
       "\n",
       "    rubberband.mouseenter('figure_enter', mouse_event_fn);\n",
       "    rubberband.mouseleave('figure_leave', mouse_event_fn);\n",
       "\n",
       "    canvas_div.on(\"wheel\", function (event) {\n",
       "        event = event.originalEvent;\n",
       "        event['data'] = 'scroll'\n",
       "        if (event.deltaY < 0) {\n",
       "            event.step = 1;\n",
       "        } else {\n",
       "            event.step = -1;\n",
       "        }\n",
       "        mouse_event_fn(event);\n",
       "    });\n",
       "\n",
       "    canvas_div.append(canvas);\n",
       "    canvas_div.append(rubberband);\n",
       "\n",
       "    this.rubberband = rubberband;\n",
       "    this.rubberband_canvas = rubberband[0];\n",
       "    this.rubberband_context = rubberband[0].getContext(\"2d\");\n",
       "    this.rubberband_context.strokeStyle = \"#000000\";\n",
       "\n",
       "    this._resize_canvas = function(width, height) {\n",
       "        // Keep the size of the canvas, canvas container, and rubber band\n",
       "        // canvas in synch.\n",
       "        canvas_div.css('width', width)\n",
       "        canvas_div.css('height', height)\n",
       "\n",
       "        canvas.attr('width', width);\n",
       "        canvas.attr('height', height);\n",
       "\n",
       "        rubberband.attr('width', width);\n",
       "        rubberband.attr('height', height);\n",
       "    }\n",
       "\n",
       "    // Set the figure to an initial 600x600px, this will subsequently be updated\n",
       "    // upon first draw.\n",
       "    this._resize_canvas(600, 600);\n",
       "\n",
       "    // Disable right mouse context menu.\n",
       "    $(this.rubberband_canvas).bind(\"contextmenu\",function(e){\n",
       "        return false;\n",
       "    });\n",
       "\n",
       "    function set_focus () {\n",
       "        canvas.focus();\n",
       "        canvas_div.focus();\n",
       "    }\n",
       "\n",
       "    window.setTimeout(set_focus, 100);\n",
       "}\n",
       "\n",
       "mpl.figure.prototype._init_toolbar = function() {\n",
       "    var fig = this;\n",
       "\n",
       "    var nav_element = $('<div/>')\n",
       "    nav_element.attr('style', 'width: 100%');\n",
       "    this.root.append(nav_element);\n",
       "\n",
       "    // Define a callback function for later on.\n",
       "    function toolbar_event(event) {\n",
       "        return fig.toolbar_button_onclick(event['data']);\n",
       "    }\n",
       "    function toolbar_mouse_event(event) {\n",
       "        return fig.toolbar_button_onmouseover(event['data']);\n",
       "    }\n",
       "\n",
       "    for(var toolbar_ind in mpl.toolbar_items) {\n",
       "        var name = mpl.toolbar_items[toolbar_ind][0];\n",
       "        var tooltip = mpl.toolbar_items[toolbar_ind][1];\n",
       "        var image = mpl.toolbar_items[toolbar_ind][2];\n",
       "        var method_name = mpl.toolbar_items[toolbar_ind][3];\n",
       "\n",
       "        if (!name) {\n",
       "            // put a spacer in here.\n",
       "            continue;\n",
       "        }\n",
       "        var button = $('<button/>');\n",
       "        button.addClass('ui-button ui-widget ui-state-default ui-corner-all ' +\n",
       "                        'ui-button-icon-only');\n",
       "        button.attr('role', 'button');\n",
       "        button.attr('aria-disabled', 'false');\n",
       "        button.click(method_name, toolbar_event);\n",
       "        button.mouseover(tooltip, toolbar_mouse_event);\n",
       "\n",
       "        var icon_img = $('<span/>');\n",
       "        icon_img.addClass('ui-button-icon-primary ui-icon');\n",
       "        icon_img.addClass(image);\n",
       "        icon_img.addClass('ui-corner-all');\n",
       "\n",
       "        var tooltip_span = $('<span/>');\n",
       "        tooltip_span.addClass('ui-button-text');\n",
       "        tooltip_span.html(tooltip);\n",
       "\n",
       "        button.append(icon_img);\n",
       "        button.append(tooltip_span);\n",
       "\n",
       "        nav_element.append(button);\n",
       "    }\n",
       "\n",
       "    var fmt_picker_span = $('<span/>');\n",
       "\n",
       "    var fmt_picker = $('<select/>');\n",
       "    fmt_picker.addClass('mpl-toolbar-option ui-widget ui-widget-content');\n",
       "    fmt_picker_span.append(fmt_picker);\n",
       "    nav_element.append(fmt_picker_span);\n",
       "    this.format_dropdown = fmt_picker[0];\n",
       "\n",
       "    for (var ind in mpl.extensions) {\n",
       "        var fmt = mpl.extensions[ind];\n",
       "        var option = $(\n",
       "            '<option/>', {selected: fmt === mpl.default_extension}).html(fmt);\n",
       "        fmt_picker.append(option)\n",
       "    }\n",
       "\n",
       "    // Add hover states to the ui-buttons\n",
       "    $( \".ui-button\" ).hover(\n",
       "        function() { $(this).addClass(\"ui-state-hover\");},\n",
       "        function() { $(this).removeClass(\"ui-state-hover\");}\n",
       "    );\n",
       "\n",
       "    var status_bar = $('<span class=\"mpl-message\"/>');\n",
       "    nav_element.append(status_bar);\n",
       "    this.message = status_bar[0];\n",
       "}\n",
       "\n",
       "mpl.figure.prototype.request_resize = function(x_pixels, y_pixels) {\n",
       "    // Request matplotlib to resize the figure. Matplotlib will then trigger a resize in the client,\n",
       "    // which will in turn request a refresh of the image.\n",
       "    this.send_message('resize', {'width': x_pixels, 'height': y_pixels});\n",
       "}\n",
       "\n",
       "mpl.figure.prototype.send_message = function(type, properties) {\n",
       "    properties['type'] = type;\n",
       "    properties['figure_id'] = this.id;\n",
       "    this.ws.send(JSON.stringify(properties));\n",
       "}\n",
       "\n",
       "mpl.figure.prototype.send_draw_message = function() {\n",
       "    if (!this.waiting) {\n",
       "        this.waiting = true;\n",
       "        this.ws.send(JSON.stringify({type: \"draw\", figure_id: this.id}));\n",
       "    }\n",
       "}\n",
       "\n",
       "\n",
       "mpl.figure.prototype.handle_save = function(fig, msg) {\n",
       "    var format_dropdown = fig.format_dropdown;\n",
       "    var format = format_dropdown.options[format_dropdown.selectedIndex].value;\n",
       "    fig.ondownload(fig, format);\n",
       "}\n",
       "\n",
       "\n",
       "mpl.figure.prototype.handle_resize = function(fig, msg) {\n",
       "    var size = msg['size'];\n",
       "    if (size[0] != fig.canvas.width || size[1] != fig.canvas.height) {\n",
       "        fig._resize_canvas(size[0], size[1]);\n",
       "        fig.send_message(\"refresh\", {});\n",
       "    };\n",
       "}\n",
       "\n",
       "mpl.figure.prototype.handle_rubberband = function(fig, msg) {\n",
       "    var x0 = msg['x0'];\n",
       "    var y0 = fig.canvas.height - msg['y0'];\n",
       "    var x1 = msg['x1'];\n",
       "    var y1 = fig.canvas.height - msg['y1'];\n",
       "    x0 = Math.floor(x0) + 0.5;\n",
       "    y0 = Math.floor(y0) + 0.5;\n",
       "    x1 = Math.floor(x1) + 0.5;\n",
       "    y1 = Math.floor(y1) + 0.5;\n",
       "    var min_x = Math.min(x0, x1);\n",
       "    var min_y = Math.min(y0, y1);\n",
       "    var width = Math.abs(x1 - x0);\n",
       "    var height = Math.abs(y1 - y0);\n",
       "\n",
       "    fig.rubberband_context.clearRect(\n",
       "        0, 0, fig.canvas.width, fig.canvas.height);\n",
       "\n",
       "    fig.rubberband_context.strokeRect(min_x, min_y, width, height);\n",
       "}\n",
       "\n",
       "mpl.figure.prototype.handle_figure_label = function(fig, msg) {\n",
       "    // Updates the figure title.\n",
       "    fig.header.textContent = msg['label'];\n",
       "}\n",
       "\n",
       "mpl.figure.prototype.handle_cursor = function(fig, msg) {\n",
       "    var cursor = msg['cursor'];\n",
       "    switch(cursor)\n",
       "    {\n",
       "    case 0:\n",
       "        cursor = 'pointer';\n",
       "        break;\n",
       "    case 1:\n",
       "        cursor = 'default';\n",
       "        break;\n",
       "    case 2:\n",
       "        cursor = 'crosshair';\n",
       "        break;\n",
       "    case 3:\n",
       "        cursor = 'move';\n",
       "        break;\n",
       "    }\n",
       "    fig.rubberband_canvas.style.cursor = cursor;\n",
       "}\n",
       "\n",
       "mpl.figure.prototype.handle_message = function(fig, msg) {\n",
       "    fig.message.textContent = msg['message'];\n",
       "}\n",
       "\n",
       "mpl.figure.prototype.handle_draw = function(fig, msg) {\n",
       "    // Request the server to send over a new figure.\n",
       "    fig.send_draw_message();\n",
       "}\n",
       "\n",
       "mpl.figure.prototype.handle_image_mode = function(fig, msg) {\n",
       "    fig.image_mode = msg['mode'];\n",
       "}\n",
       "\n",
       "mpl.figure.prototype.updated_canvas_event = function() {\n",
       "    // Called whenever the canvas gets updated.\n",
       "    this.send_message(\"ack\", {});\n",
       "}\n",
       "\n",
       "// A function to construct a web socket function for onmessage handling.\n",
       "// Called in the figure constructor.\n",
       "mpl.figure.prototype._make_on_message_function = function(fig) {\n",
       "    return function socket_on_message(evt) {\n",
       "        if (evt.data instanceof Blob) {\n",
       "            /* FIXME: We get \"Resource interpreted as Image but\n",
       "             * transferred with MIME type text/plain:\" errors on\n",
       "             * Chrome.  But how to set the MIME type?  It doesn't seem\n",
       "             * to be part of the websocket stream */\n",
       "            evt.data.type = \"image/png\";\n",
       "\n",
       "            /* Free the memory for the previous frames */\n",
       "            if (fig.imageObj.src) {\n",
       "                (window.URL || window.webkitURL).revokeObjectURL(\n",
       "                    fig.imageObj.src);\n",
       "            }\n",
       "\n",
       "            fig.imageObj.src = (window.URL || window.webkitURL).createObjectURL(\n",
       "                evt.data);\n",
       "            fig.updated_canvas_event();\n",
       "            fig.waiting = false;\n",
       "            return;\n",
       "        }\n",
       "        else if (typeof evt.data === 'string' && evt.data.slice(0, 21) == \"data:image/png;base64\") {\n",
       "            fig.imageObj.src = evt.data;\n",
       "            fig.updated_canvas_event();\n",
       "            fig.waiting = false;\n",
       "            return;\n",
       "        }\n",
       "\n",
       "        var msg = JSON.parse(evt.data);\n",
       "        var msg_type = msg['type'];\n",
       "\n",
       "        // Call the  \"handle_{type}\" callback, which takes\n",
       "        // the figure and JSON message as its only arguments.\n",
       "        try {\n",
       "            var callback = fig[\"handle_\" + msg_type];\n",
       "        } catch (e) {\n",
       "            console.log(\"No handler for the '\" + msg_type + \"' message type: \", msg);\n",
       "            return;\n",
       "        }\n",
       "\n",
       "        if (callback) {\n",
       "            try {\n",
       "                // console.log(\"Handling '\" + msg_type + \"' message: \", msg);\n",
       "                callback(fig, msg);\n",
       "            } catch (e) {\n",
       "                console.log(\"Exception inside the 'handler_\" + msg_type + \"' callback:\", e, e.stack, msg);\n",
       "            }\n",
       "        }\n",
       "    };\n",
       "}\n",
       "\n",
       "// from http://stackoverflow.com/questions/1114465/getting-mouse-location-in-canvas\n",
       "mpl.findpos = function(e) {\n",
       "    //this section is from http://www.quirksmode.org/js/events_properties.html\n",
       "    var targ;\n",
       "    if (!e)\n",
       "        e = window.event;\n",
       "    if (e.target)\n",
       "        targ = e.target;\n",
       "    else if (e.srcElement)\n",
       "        targ = e.srcElement;\n",
       "    if (targ.nodeType == 3) // defeat Safari bug\n",
       "        targ = targ.parentNode;\n",
       "\n",
       "    // jQuery normalizes the pageX and pageY\n",
       "    // pageX,Y are the mouse positions relative to the document\n",
       "    // offset() returns the position of the element relative to the document\n",
       "    var x = e.pageX - $(targ).offset().left;\n",
       "    var y = e.pageY - $(targ).offset().top;\n",
       "\n",
       "    return {\"x\": x, \"y\": y};\n",
       "};\n",
       "\n",
       "/*\n",
       " * return a copy of an object with only non-object keys\n",
       " * we need this to avoid circular references\n",
       " * http://stackoverflow.com/a/24161582/3208463\n",
       " */\n",
       "function simpleKeys (original) {\n",
       "  return Object.keys(original).reduce(function (obj, key) {\n",
       "    if (typeof original[key] !== 'object')\n",
       "        obj[key] = original[key]\n",
       "    return obj;\n",
       "  }, {});\n",
       "}\n",
       "\n",
       "mpl.figure.prototype.mouse_event = function(event, name) {\n",
       "    var canvas_pos = mpl.findpos(event)\n",
       "\n",
       "    if (name === 'button_press')\n",
       "    {\n",
       "        this.canvas.focus();\n",
       "        this.canvas_div.focus();\n",
       "    }\n",
       "\n",
       "    var x = canvas_pos.x;\n",
       "    var y = canvas_pos.y;\n",
       "\n",
       "    this.send_message(name, {x: x, y: y, button: event.button,\n",
       "                             step: event.step,\n",
       "                             guiEvent: simpleKeys(event)});\n",
       "\n",
       "    /* This prevents the web browser from automatically changing to\n",
       "     * the text insertion cursor when the button is pressed.  We want\n",
       "     * to control all of the cursor setting manually through the\n",
       "     * 'cursor' event from matplotlib */\n",
       "    event.preventDefault();\n",
       "    return false;\n",
       "}\n",
       "\n",
       "mpl.figure.prototype._key_event_extra = function(event, name) {\n",
       "    // Handle any extra behaviour associated with a key event\n",
       "}\n",
       "\n",
       "mpl.figure.prototype.key_event = function(event, name) {\n",
       "\n",
       "    // Prevent repeat events\n",
       "    if (name == 'key_press')\n",
       "    {\n",
       "        if (event.which === this._key)\n",
       "            return;\n",
       "        else\n",
       "            this._key = event.which;\n",
       "    }\n",
       "    if (name == 'key_release')\n",
       "        this._key = null;\n",
       "\n",
       "    var value = '';\n",
       "    if (event.ctrlKey && event.which != 17)\n",
       "        value += \"ctrl+\";\n",
       "    if (event.altKey && event.which != 18)\n",
       "        value += \"alt+\";\n",
       "    if (event.shiftKey && event.which != 16)\n",
       "        value += \"shift+\";\n",
       "\n",
       "    value += 'k';\n",
       "    value += event.which.toString();\n",
       "\n",
       "    this._key_event_extra(event, name);\n",
       "\n",
       "    this.send_message(name, {key: value,\n",
       "                             guiEvent: simpleKeys(event)});\n",
       "    return false;\n",
       "}\n",
       "\n",
       "mpl.figure.prototype.toolbar_button_onclick = function(name) {\n",
       "    if (name == 'download') {\n",
       "        this.handle_save(this, null);\n",
       "    } else {\n",
       "        this.send_message(\"toolbar_button\", {name: name});\n",
       "    }\n",
       "};\n",
       "\n",
       "mpl.figure.prototype.toolbar_button_onmouseover = function(tooltip) {\n",
       "    this.message.textContent = tooltip;\n",
       "};\n",
       "mpl.toolbar_items = [[\"Home\", \"Reset original view\", \"fa fa-home icon-home\", \"home\"], [\"Back\", \"Back to  previous view\", \"fa fa-arrow-left icon-arrow-left\", \"back\"], [\"Forward\", \"Forward to next view\", \"fa fa-arrow-right icon-arrow-right\", \"forward\"], [\"\", \"\", \"\", \"\"], [\"Pan\", \"Pan axes with left mouse, zoom with right\", \"fa fa-arrows icon-move\", \"pan\"], [\"Zoom\", \"Zoom to rectangle\", \"fa fa-square-o icon-check-empty\", \"zoom\"], [\"\", \"\", \"\", \"\"], [\"Download\", \"Download plot\", \"fa fa-floppy-o icon-save\", \"download\"]];\n",
       "\n",
       "mpl.extensions = [\"eps\", \"jpeg\", \"pdf\", \"png\", \"ps\", \"raw\", \"svg\", \"tif\"];\n",
       "\n",
       "mpl.default_extension = \"png\";var comm_websocket_adapter = function(comm) {\n",
       "    // Create a \"websocket\"-like object which calls the given IPython comm\n",
       "    // object with the appropriate methods. Currently this is a non binary\n",
       "    // socket, so there is still some room for performance tuning.\n",
       "    var ws = {};\n",
       "\n",
       "    ws.close = function() {\n",
       "        comm.close()\n",
       "    };\n",
       "    ws.send = function(m) {\n",
       "        //console.log('sending', m);\n",
       "        comm.send(m);\n",
       "    };\n",
       "    // Register the callback with on_msg.\n",
       "    comm.on_msg(function(msg) {\n",
       "        //console.log('receiving', msg['content']['data'], msg);\n",
       "        // Pass the mpl event to the overriden (by mpl) onmessage function.\n",
       "        ws.onmessage(msg['content']['data'])\n",
       "    });\n",
       "    return ws;\n",
       "}\n",
       "\n",
       "mpl.mpl_figure_comm = function(comm, msg) {\n",
       "    // This is the function which gets called when the mpl process\n",
       "    // starts-up an IPython Comm through the \"matplotlib\" channel.\n",
       "\n",
       "    var id = msg.content.data.id;\n",
       "    // Get hold of the div created by the display call when the Comm\n",
       "    // socket was opened in Python.\n",
       "    var element = $(\"#\" + id);\n",
       "    var ws_proxy = comm_websocket_adapter(comm)\n",
       "\n",
       "    function ondownload(figure, format) {\n",
       "        window.open(figure.imageObj.src);\n",
       "    }\n",
       "\n",
       "    var fig = new mpl.figure(id, ws_proxy,\n",
       "                           ondownload,\n",
       "                           element.get(0));\n",
       "\n",
       "    // Call onopen now - mpl needs it, as it is assuming we've passed it a real\n",
       "    // web socket which is closed, not our websocket->open comm proxy.\n",
       "    ws_proxy.onopen();\n",
       "\n",
       "    fig.parent_element = element.get(0);\n",
       "    fig.cell_info = mpl.find_output_cell(\"<div id='\" + id + \"'></div>\");\n",
       "    if (!fig.cell_info) {\n",
       "        console.error(\"Failed to find cell for figure\", id, fig);\n",
       "        return;\n",
       "    }\n",
       "\n",
       "    var output_index = fig.cell_info[2]\n",
       "    var cell = fig.cell_info[0];\n",
       "\n",
       "};\n",
       "\n",
       "mpl.figure.prototype.handle_close = function(fig, msg) {\n",
       "    fig.root.unbind('remove')\n",
       "\n",
       "    // Update the output cell to use the data from the current canvas.\n",
       "    fig.push_to_output();\n",
       "    var dataURL = fig.canvas.toDataURL();\n",
       "    // Re-enable the keyboard manager in IPython - without this line, in FF,\n",
       "    // the notebook keyboard shortcuts fail.\n",
       "    IPython.keyboard_manager.enable()\n",
       "    $(fig.parent_element).html('<img src=\"' + dataURL + '\">');\n",
       "    fig.close_ws(fig, msg);\n",
       "}\n",
       "\n",
       "mpl.figure.prototype.close_ws = function(fig, msg){\n",
       "    fig.send_message('closing', msg);\n",
       "    // fig.ws.close()\n",
       "}\n",
       "\n",
       "mpl.figure.prototype.push_to_output = function(remove_interactive) {\n",
       "    // Turn the data on the canvas into data in the output cell.\n",
       "    var dataURL = this.canvas.toDataURL();\n",
       "    this.cell_info[1]['text/html'] = '<img src=\"' + dataURL + '\">';\n",
       "}\n",
       "\n",
       "mpl.figure.prototype.updated_canvas_event = function() {\n",
       "    // Tell IPython that the notebook contents must change.\n",
       "    IPython.notebook.set_dirty(true);\n",
       "    this.send_message(\"ack\", {});\n",
       "    var fig = this;\n",
       "    // Wait a second, then push the new image to the DOM so\n",
       "    // that it is saved nicely (might be nice to debounce this).\n",
       "    setTimeout(function () { fig.push_to_output() }, 1000);\n",
       "}\n",
       "\n",
       "mpl.figure.prototype._init_toolbar = function() {\n",
       "    var fig = this;\n",
       "\n",
       "    var nav_element = $('<div/>')\n",
       "    nav_element.attr('style', 'width: 100%');\n",
       "    this.root.append(nav_element);\n",
       "\n",
       "    // Define a callback function for later on.\n",
       "    function toolbar_event(event) {\n",
       "        return fig.toolbar_button_onclick(event['data']);\n",
       "    }\n",
       "    function toolbar_mouse_event(event) {\n",
       "        return fig.toolbar_button_onmouseover(event['data']);\n",
       "    }\n",
       "\n",
       "    for(var toolbar_ind in mpl.toolbar_items){\n",
       "        var name = mpl.toolbar_items[toolbar_ind][0];\n",
       "        var tooltip = mpl.toolbar_items[toolbar_ind][1];\n",
       "        var image = mpl.toolbar_items[toolbar_ind][2];\n",
       "        var method_name = mpl.toolbar_items[toolbar_ind][3];\n",
       "\n",
       "        if (!name) { continue; };\n",
       "\n",
       "        var button = $('<button class=\"btn btn-default\" href=\"#\" title=\"' + name + '\"><i class=\"fa ' + image + ' fa-lg\"></i></button>');\n",
       "        button.click(method_name, toolbar_event);\n",
       "        button.mouseover(tooltip, toolbar_mouse_event);\n",
       "        nav_element.append(button);\n",
       "    }\n",
       "\n",
       "    // Add the status bar.\n",
       "    var status_bar = $('<span class=\"mpl-message\" style=\"text-align:right; float: right;\"/>');\n",
       "    nav_element.append(status_bar);\n",
       "    this.message = status_bar[0];\n",
       "\n",
       "    // Add the close button to the window.\n",
       "    var buttongrp = $('<div class=\"btn-group inline pull-right\"></div>');\n",
       "    var button = $('<button class=\"btn btn-mini btn-primary\" href=\"#\" title=\"Stop Interaction\"><i class=\"fa fa-power-off icon-remove icon-large\"></i></button>');\n",
       "    button.click(function (evt) { fig.handle_close(fig, {}); } );\n",
       "    button.mouseover('Stop Interaction', toolbar_mouse_event);\n",
       "    buttongrp.append(button);\n",
       "    var titlebar = this.root.find($('.ui-dialog-titlebar'));\n",
       "    titlebar.prepend(buttongrp);\n",
       "}\n",
       "\n",
       "mpl.figure.prototype._root_extra_style = function(el){\n",
       "    var fig = this\n",
       "    el.on(\"remove\", function(){\n",
       "\tfig.close_ws(fig, {});\n",
       "    });\n",
       "}\n",
       "\n",
       "mpl.figure.prototype._canvas_extra_style = function(el){\n",
       "    // this is important to make the div 'focusable\n",
       "    el.attr('tabindex', 0)\n",
       "    // reach out to IPython and tell the keyboard manager to turn it's self\n",
       "    // off when our div gets focus\n",
       "\n",
       "    // location in version 3\n",
       "    if (IPython.notebook.keyboard_manager) {\n",
       "        IPython.notebook.keyboard_manager.register_events(el);\n",
       "    }\n",
       "    else {\n",
       "        // location in version 2\n",
       "        IPython.keyboard_manager.register_events(el);\n",
       "    }\n",
       "\n",
       "}\n",
       "\n",
       "mpl.figure.prototype._key_event_extra = function(event, name) {\n",
       "    var manager = IPython.notebook.keyboard_manager;\n",
       "    if (!manager)\n",
       "        manager = IPython.keyboard_manager;\n",
       "\n",
       "    // Check for shift+enter\n",
       "    if (event.shiftKey && event.which == 13) {\n",
       "        this.canvas_div.blur();\n",
       "        event.shiftKey = false;\n",
       "        // Send a \"J\" for go to next cell\n",
       "        event.which = 74;\n",
       "        event.keyCode = 74;\n",
       "        manager.command_mode();\n",
       "        manager.handle_keydown(event);\n",
       "    }\n",
       "}\n",
       "\n",
       "mpl.figure.prototype.handle_save = function(fig, msg) {\n",
       "    fig.ondownload(fig, null);\n",
       "}\n",
       "\n",
       "\n",
       "mpl.find_output_cell = function(html_output) {\n",
       "    // Return the cell and output element which can be found *uniquely* in the notebook.\n",
       "    // Note - this is a bit hacky, but it is done because the \"notebook_saving.Notebook\"\n",
       "    // IPython event is triggered only after the cells have been serialised, which for\n",
       "    // our purposes (turning an active figure into a static one), is too late.\n",
       "    var cells = IPython.notebook.get_cells();\n",
       "    var ncells = cells.length;\n",
       "    for (var i=0; i<ncells; i++) {\n",
       "        var cell = cells[i];\n",
       "        if (cell.cell_type === 'code'){\n",
       "            for (var j=0; j<cell.output_area.outputs.length; j++) {\n",
       "                var data = cell.output_area.outputs[j];\n",
       "                if (data.data) {\n",
       "                    // IPython >= 3 moved mimebundle to data attribute of output\n",
       "                    data = data.data;\n",
       "                }\n",
       "                if (data['text/html'] == html_output) {\n",
       "                    return [cell, data, j];\n",
       "                }\n",
       "            }\n",
       "        }\n",
       "    }\n",
       "}\n",
       "\n",
       "// Register the function which deals with the matplotlib target/channel.\n",
       "// The kernel may be null if the page has been refreshed.\n",
       "if (IPython.notebook.kernel != null) {\n",
       "    IPython.notebook.kernel.comm_manager.register_target('matplotlib', mpl.mpl_figure_comm);\n",
       "}\n"
      ],
      "text/plain": [
       "<IPython.core.display.Javascript object>"
      ]
     },
     "metadata": {},
     "output_type": "display_data"
    },
    {
     "data": {
      "text/html": [
       "<img src=\"data:image/png;base64,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\">"
      ],
      "text/plain": [
       "<IPython.core.display.HTML object>"
      ]
     },
     "metadata": {},
     "output_type": "display_data"
    }
   ],
   "source": [
    "%matplotlib notebook\n",
    "rect_graph.show(descriptions=True,font_size=12,node_size=1200)"
   ]
  },
  {
   "cell_type": "code",
   "execution_count": 86,
   "metadata": {
    "collapsed": true
   },
   "outputs": [],
   "source": [
    "class ColumnModeledGraph(Graph):\n",
    "    \"\"\"Class that transforms column modeled data from one format to another, use set_state to intialize to\n",
    "    your data\"\"\"\n",
    "    def __init__(self,**options):\n",
    "        defaults={\"graph_name\":\"Column Modeled Graph\",\n",
    "                  \"node_names\":['n1','n2'],\n",
    "                  \"node_descriptions\":[\"Pandas Data Frame\",\"AsciiDataTable\"],\n",
    "                  \"current_node\":'n1',\n",
    "                  \"state\":[1,0],\n",
    "                  \"data\":pandas.DataFrame([[1,2,3],[3,4,5]],columns=[\"a\",\"b\",\"c\"]),\n",
    "                  \"edge_2_to_1\":AsciiDataTable_to_DataFrame,\n",
    "                  \"edge_1_to_2\":DataFrame_to_AsciiDataTable}\n",
    "        self.options={}\n",
    "        for key,value in defaults.iteritems():\n",
    "            self.options[key]=value\n",
    "        for key,value in options.iteritems():\n",
    "            self.options[key]=value\n",
    "        Graph.__init__(self,**self.options)\n",
    "        self.add_node(\"n3\",\"n1\",DataFrame_to_hdf,\"n1\",hdf_to_DataFrame)\n",
    "        self.node_descriptions.append(\"HDF File\")\n",
    "        self.add_node(\"n4\",\"n2\",AsciiDataTable_to_XMLDataTable_2,\"n2\",XMLDataTable_to_AsciiDataTable)\n",
    "        self.node_descriptions.append(\"XML Data Table\")\n",
    "        \n",
    "        # Need to add XML File and Html File using save and save_HTML()\n",
    "        self.add_node(\"n5\",\"n1\",DataFrame_to_excel,\"n1\",excel_to_DataFrame)\n",
    "        self.node_descriptions.append(\"Excel File\")\n",
    "        self.add_node(\"n6\",\"n1\",DataFrame_to_HTML_string,\"n1\",HTML_string_to_DataFrame)\n",
    "        self.node_descriptions.append(\"HTML String\")\n",
    "        \n",
    "        # Note a lot of the pandas reading and writing cause float64 round off errors\n",
    "        # applymap(lambda x: np.around(x,10) any all float fields will fix this\n",
    "        # also the column names move about in order\n",
    "        self.add_node(\"n7\",\"n1\",DataFrame_to_json,\"n1\",json_to_DataFrame)\n",
    "        self.node_descriptions.append(\"JSON File\")\n",
    "        self.add_node(\"n8\",\"n1\",DataFrame_to_json_string,\"n1\",json_string_to_DataFrame)\n",
    "        self.node_descriptions.append(\"JSON String\")\n",
    "        self.add_node(\"n9\",\"n1\",DataFrame_to_csv,\"n1\",csv_to_DataFrame)\n",
    "        self.node_descriptions.append(\"CSV File\")\n",
    "        self.add_node(\"n10\",\"n2\",AsciiDataTable_to_Matlab,\"n2\",Matlab_to_AsciiDataTable)\n",
    "        self.node_descriptions.append(\"Matlab File\")\n",
    "        self.add_node(\"n11\",\"n4\",DataTable_to_XML,\"n4\",XML_to_DataTable)\n",
    "        self.node_descriptions.append(\"XML File\")\n",
    "        self.add_node(\"n12\",\"n6\",html_string_to_html_file,\"n6\",html_file_to_html_string)\n",
    "        self.node_descriptions.append(\"HTML File\")\n",
    "        self.add_edge(\"n1\",\"n12\",DataFrame_to_html_file)\n",
    "        self.add_edge(\"n7\",\"n4\",json_to_DataTable)\n",
    "        self.add_edge(\"n9\",\"n2\",csv_to_AsciiDataTable)\n",
    "        \n",
    "    "
   ]
  },
  {
   "cell_type": "code",
   "execution_count": 91,
   "metadata": {
    "collapsed": false
   },
   "outputs": [
    {
     "name": "stdout",
     "output_type": "stream",
     "text": [
      "['edge_n1_n2_000', 'edge_n2_n1_000']\n",
      "moving n1 -> n2\n",
      "moving n2 -> n1\n",
      "['edge_n1_n2_000']\n",
      "moving n1 -> n2\n",
      "['edge_n2_n1_000', 'edge_n1_n3_000']\n",
      "moving n2 -> n1\n",
      "moving n1 -> n3\n",
      "['edge_n3_n1_000', 'edge_n1_n2_000', 'edge_n2_n4_000']\n",
      "moving n3 -> n1\n",
      "moving n1 -> n2\n",
      "moving n2 -> n4\n",
      "['edge_n4_n11_000', 'edge_n11_n4_000']\n",
      "moving n4 -> n11\n",
      "moving n11 -> n4\n",
      "['edge_n4_n11_000', 'edge_n11_n4_000']\n",
      "moving n4 -> n11\n",
      "moving n11 -> n4\n",
      "['edge_n4_n11_000', 'edge_n11_n4_000']\n",
      "moving n4 -> n11\n",
      "moving n11 -> n4\n",
      "['edge_n4_n11_000', 'edge_n11_n4_000']\n",
      "moving n4 -> n11\n",
      "moving n11 -> n4\n",
      "['edge_n4_n11_000', 'edge_n11_n4_000']\n",
      "moving n4 -> n11\n",
      "moving n11 -> n4\n",
      "['edge_n4_n2_000', 'edge_n2_n10_000']\n",
      "moving n4 -> n2\n",
      "moving n2 -> n10\n",
      "['edge_n10_n2_000', 'edge_n2_n4_000', 'edge_n4_n11_000']\n",
      "moving n10 -> n2\n",
      "moving n2 -> n4\n",
      "moving n4 -> n11\n",
      "['edge_n11_n4_000', 'edge_n4_n2_000', 'edge_n2_n1_000', 'edge_n1_n12_000']\n",
      "moving n11 -> n4\n",
      "moving n4 -> n2\n",
      "moving n2 -> n1\n",
      "moving n1 -> n12\n",
      "['edge_n12_n6_000', 'edge_n6_n1_000', 'edge_n1_n13_000']\n",
      "moving n12 -> n6\n",
      "moving n6 -> n1\n",
      "moving n1 -> n13\n"
     ]
    },
    {
     "data": {
      "text/plain": [
       "True"
      ]
     },
     "execution_count": 91,
     "metadata": {},
     "output_type": "execute_result"
    }
   ],
   "source": [
    "rect_graph.is_graph_isomorphic()"
   ]
  },
  {
   "cell_type": "code",
   "execution_count": 127,
   "metadata": {
    "collapsed": false
   },
   "outputs": [],
   "source": [
    "transform=ColumnModeledGraph(data=data_frame)"
   ]
  },
  {
   "cell_type": "code",
   "execution_count": 128,
   "metadata": {
    "collapsed": false
   },
   "outputs": [
    {
     "data": {
      "text/plain": [
       "{'n1': 'Pandas Data Frame',\n",
       " 'n10': 'Matlab File',\n",
       " 'n11': 'XML File',\n",
       " 'n12': 'HTML File',\n",
       " 'n2': 'AsciiDataTable',\n",
       " 'n3': 'HDF File',\n",
       " 'n4': 'XML Data Table',\n",
       " 'n5': 'Excel File',\n",
       " 'n6': 'HTML String',\n",
       " 'n7': 'JSON File',\n",
       " 'n8': 'JSON String',\n",
       " 'n9': 'CSV File'}"
      ]
     },
     "execution_count": 128,
     "metadata": {},
     "output_type": "execute_result"
    }
   ],
   "source": [
    "transform.get_description_dictionary()"
   ]
  },
  {
   "cell_type": "code",
   "execution_count": 51,
   "metadata": {
    "collapsed": false
   },
   "outputs": [],
   "source": [
    "transform.set_state(node_data=\"test.xlsx\",node_name=\"n5\")"
   ]
  },
  {
   "cell_type": "code",
   "execution_count": 122,
   "metadata": {
    "collapsed": false,
    "scrolled": true
   },
   "outputs": [],
   "source": [
    "data=csv_to_AsciiDataTable(transform.data)"
   ]
  },
  {
   "cell_type": "code",
   "execution_count": 129,
   "metadata": {
    "collapsed": false
   },
   "outputs": [
    {
     "data": {
      "image/png": "[encoded data removed]",
      "text/plain": [
       "<matplotlib.figure.Figure at 0x1217c978>"
      ]
     },
     "metadata": {},
     "output_type": "display_data"
    }
   ],
   "source": [
    "transform.show(descriptions=True)"
   ]
  },
  {
   "cell_type": "code",
   "execution_count": 130,
   "metadata": {
    "collapsed": false
   },
   "outputs": [
    {
     "data": {
      "image/png": "[encoded data removed]",
      "text/plain": [
       "<matplotlib.figure.Figure at 0x13ae3630>"
      ]
     },
     "metadata": {},
     "output_type": "display_data"
    }
   ],
   "source": [
    "transform.show(descriptions=False)"
   ]
  },
  {
   "cell_type": "code",
   "execution_count": 15,
   "metadata": {
    "collapsed": false
   },
   "outputs": [
    {
     "name": "stdout",
     "output_type": "stream",
     "text": [
      "['edge_n2_n1_000', 'edge_n1_n3_000']\n",
      "moving n2 -> n1\n",
      "moving n1 -> n3\n"
     ]
    }
   ],
   "source": [
    "rect_graph.move_to_node(\"n3\")"
   ]
  },
  {
   "cell_type": "code",
   "execution_count": 703,
   "metadata": {
    "collapsed": false
   },
   "outputs": [
    {
     "data": {
      "text/plain": [
       "['edge_n6_n12_000', 'edge_n1_n12_000']"
      ]
     },
     "execution_count": 703,
     "metadata": {},
     "output_type": "execute_result"
    }
   ],
   "source": [
    "rect_graph.get_entering_edges(\"n12\")"
   ]
  },
  {
   "cell_type": "code",
   "execution_count": 8,
   "metadata": {
    "collapsed": false
   },
   "outputs": [],
   "source": [
    "path=rect_graph.get_path(\"n11\",\"n12\")"
   ]
  },
  {
   "cell_type": "code",
   "execution_count": 621,
   "metadata": {
    "collapsed": false
   },
   "outputs": [
    {
     "data": {
      "text/plain": [
       "['edge_n1_n2_000',\n",
       " 'edge_n1_n3_000',\n",
       " 'edge_n1_n5_000',\n",
       " 'edge_n1_n6_000',\n",
       " 'edge_n1_n7_000',\n",
       " 'edge_n1_n8_000',\n",
       " 'edge_n1_n9_000',\n",
       " 'edge_n1_n12_000']"
      ]
     },
     "execution_count": 621,
     "metadata": {},
     "output_type": "execute_result"
    }
   ],
   "source": [
    "rect_graph.get_exiting_edges(\"n1\")"
   ]
  },
  {
   "cell_type": "code",
   "execution_count": 705,
   "metadata": {
    "collapsed": false
   },
   "outputs": [
    {
     "name": "stdout",
     "output_type": "stream",
     "text": [
      "next_edge was already in path\n"
     ]
    }
   ],
   "source": [
    "path=rect_graph.get_path(\"n11\",\"n12\")"
   ]
  },
  {
   "cell_type": "code",
   "execution_count": 120,
   "metadata": {
    "collapsed": false
   },
   "outputs": [
    {
     "data": {
      "text/plain": [
       "['edge_n9_n1_000', 'edge_n1_n2_000']"
      ]
     },
     "execution_count": 120,
     "metadata": {},
     "output_type": "execute_result"
    }
   ],
   "source": [
    "rect_graph.get_path(\"n9\",\"n2\")"
   ]
  },
  {
   "cell_type": "code",
   "execution_count": 9,
   "metadata": {
    "collapsed": false
   },
   "outputs": [
    {
     "data": {
      "text/plain": [
       "['edge_n11_n4_000', 'edge_n4_n2_000', 'edge_n2_n1_000', 'edge_n1_n12_000']"
      ]
     },
     "execution_count": 9,
     "metadata": {},
     "output_type": "execute_result"
    }
   ],
   "source": [
    "path"
   ]
  },
  {
   "cell_type": "code",
   "execution_count": 544,
   "metadata": {
    "collapsed": true
   },
   "outputs": [],
   "source": [
    "def remove_circular_paths(path):\n",
    "    \"\"\"Removes pieces of the path that just end on the same node\"\"\"\n",
    "    edge_pattern=re.compile(\"edge_(?P<begin_node>\\w+)_(?P<end_node>\\w+)_(?P<iterator>\\w+)\")\n",
    "    past_locations=[]\n",
    "    \n",
    "    for index,edge in enumerate(path):\n",
    "        match=re.match(edge_pattern,edge)\n",
    "        begin_node=match.groupdict()[\"begin_node\"]\n",
    "        end_node=match.groupdict()[\"end_node\"]\n",
    "        past_locations.append(begin_node)\n",
    "        #print(\"{0} is {1}\".format(\"past_locations\",past_locations))\n",
    "    new_path=[]\n",
    "    node_index=0\n",
    "    between_list=[False for item in past_locations]\n",
    "    while(node_index<len(past_locations)):\n",
    "        node=past_locations[node_index]\n",
    "        old_path=new_path\n",
    "        new_path=[]\n",
    "        \n",
    "        if past_locations.count(node)>1:\n",
    "            equality_list=map(lambda x:x==node,past_locations)\n",
    "            between=False\n",
    "            for index,equality in enumerate(equality_list):\n",
    "                if equality:\n",
    "                    between=not between\n",
    "                    between_list[index]=between or between_list[index]\n",
    "                else:\n",
    "                    between_list[index]=between or between_list[index] \n",
    "        #print(\"{0} is {1}\".format(\"between_list\",between_list))\n",
    "        for index,item in enumerate(between_list):\n",
    "            if not item:\n",
    "                new_path.append(path[index])\n",
    "        node_index+=1\n",
    "\n",
    "    if new_path in [[]]:\n",
    "        new_path=path\n",
    "                    \n",
    "    return new_path"
   ]
  },
  {
   "cell_type": "code",
   "execution_count": 498,
   "metadata": {
    "collapsed": false
   },
   "outputs": [
    {
     "name": "stdout",
     "output_type": "stream",
     "text": [
      "2\n",
      "0\n",
      "[True, True, False, False, False, False]\n",
      "['n4', 'n2', 'n1', 'n5']\n"
     ]
    }
   ],
   "source": [
    "test_nodes=[\"n4\",\"n11\",\"n4\",\"n2\",\"n1\",\"n5\"]\n",
    "print test_nodes.count(\"n4\")\n",
    "print test_nodes.index(\"n4\")\n",
    "#del test_nodes[0:2]\n",
    "truth_list=map(lambda x:x==\"n4\",test_nodes)\n",
    "out_list=[]\n",
    "non_circular=[]\n",
    "between=False\n",
    "for index,truth in enumerate(truth_list):\n",
    "    if truth:\n",
    "        between=not between\n",
    "        out_list.append(between)\n",
    "    else:\n",
    "        out_list.append(between)\n",
    "for index,item in enumerate(out_list):\n",
    "    if not item:\n",
    "        non_circular.append(test_nodes[index])\n",
    "    \n",
    "print out_list\n",
    "print non_circular"
   ]
  },
  {
   "cell_type": "code",
   "execution_count": 545,
   "metadata": {
    "collapsed": false
   },
   "outputs": [
    {
     "name": "stdout",
     "output_type": "stream",
     "text": [
      "between_list is [True, True, False, False, False, False, False]\n",
      "between_list is [True, True, False, False, False, False, False]\n",
      "between_list is [True, True, False, False, False, False, False]\n",
      "between_list is [True, True, False, False, False, False, False]\n",
      "between_list is [True, True, False, False, True, True, False]\n",
      "between_list is [True, True, False, False, True, True, False]\n",
      "between_list is [True, True, False, False, True, True, False]\n",
      "['edge_n4_n2_000', 'edge_n2_n1_000', 'edge_n1_n5_000']\n"
     ]
    }
   ],
   "source": [
    "print remove_circular_paths(['edge_n4_n11_000',\n",
    " 'edge_n11_n4_000',\n",
    " 'edge_n4_n2_000',\n",
    " 'edge_n2_n1_000',\n",
    " 'edge_n1_n5_000','edge_n5_n1_000',\n",
    " 'edge_n1_n5_000'])"
   ]
  },
  {
   "cell_type": "code",
   "execution_count": 258,
   "metadata": {
    "collapsed": false
   },
   "outputs": [
    {
     "name": "stdout",
     "output_type": "stream",
     "text": [
      "['edge_n4_n2_000', 'edge_n2_n1_000', 'edge_n1_n5_000']\n",
      "moving n4 -> n2\n",
      "moving n2 -> n1\n",
      "moving n1 -> n5\n"
     ]
    }
   ],
   "source": [
    "rect_graph.move_to(path)"
   ]
  },
  {
   "cell_type": "code",
   "execution_count": 117,
   "metadata": {
    "collapsed": false
   },
   "outputs": [
    {
     "name": "stdout",
     "output_type": "stream",
     "text": [
      "['edge_n9_n1_000', 'edge_n1_n2_000']\n",
      "moving n9 -> n1\n",
      "moving n1 -> n2\n"
     ]
    }
   ],
   "source": [
    "rect_graph.move_to_node(\"n2\")"
   ]
  },
  {
   "cell_type": "code",
   "execution_count": null,
   "metadata": {
    "collapsed": true
   },
   "outputs": [],
   "source": [
    "xml=AsciiDataTable_to_XMLDataTable(table)"
   ]
  },
  {
   "cell_type": "code",
   "execution_count": null,
   "metadata": {
    "collapsed": false
   },
   "outputs": [],
   "source": [
    "xml.to_tuple_list(xml.get_attribute_names())"
   ]
  },
  {
   "cell_type": "code",
   "execution_count": null,
   "metadata": {
    "collapsed": false
   },
   "outputs": [],
   "source": [
    "xml.to_list(\"a\")"
   ]
  },
  {
   "cell_type": "code",
   "execution_count": null,
   "metadata": {
    "collapsed": false
   },
   "outputs": [],
   "source": [
    "xml.attribute_names"
   ]
  },
  {
   "cell_type": "code",
   "execution_count": null,
   "metadata": {
    "collapsed": false
   },
   "outputs": [],
   "source": [
    "xml.data"
   ]
  },
  {
   "cell_type": "code",
   "execution_count": null,
   "metadata": {
    "collapsed": false
   },
   "outputs": [],
   "source": [
    "rect_graph.state"
   ]
  },
  {
   "cell_type": "code",
   "execution_count": null,
   "metadata": {
    "collapsed": false
   },
   "outputs": [],
   "source": [
    "path=rect_graph.get_path(\"n5\",\"n1\")"
   ]
  },
  {
   "cell_type": "code",
   "execution_count": null,
   "metadata": {
    "collapsed": false
   },
   "outputs": [],
   "source": [
    "rect_graph.path_length(path)"
   ]
  },
  {
   "cell_type": "code",
   "execution_count": null,
   "metadata": {
    "collapsed": false
   },
   "outputs": [],
   "source": [
    "rect_graph.move_to_node(\"n1\")"
   ]
  },
  {
   "cell_type": "code",
   "execution_count": 8,
   "metadata": {
    "collapsed": false
   },
   "outputs": [
    {
     "name": "stdout",
     "output_type": "stream",
     "text": [
      "['edge_n1_n13_000', 'edge_n13_n1_000']\n"
     ]
    }
   ],
   "source": [
    "path=['edge_n1_n12_000', 'edge_n12_n6_000', 'edge_n6_n1_000', 'edge_n1_n13_000', 'edge_n13_n1_000', 'edge_n1_n9_000', 'edge_n9_n2_000', 'edge_n2_n4_000', 'edge_n4_n11_000']\n",
    "print remove_circular_paths(path)"
   ]
  },
  {
   "cell_type": "code",
   "execution_count": 92,
   "metadata": {
    "collapsed": false
   },
   "outputs": [
    {
     "name": "stdout",
     "output_type": "stream",
     "text": [
      "['edge_n13_n1_000']\n",
      "moving n13 -> n1\n",
      "['edge_n1_n2_000', 'edge_n2_n1_000']\n",
      "The length of the path n1-> n1 in s is 0.016\n",
      "['edge_n1_n2_000']\n",
      "The length of the path n1-> n2 in s is 0.0135\n",
      "['edge_n1_n3_000']\n",
      "The length of the path n1-> n3 in s is 0.0087\n",
      "['edge_n1_n2_000', 'edge_n2_n4_000']\n",
      "The length of the path n1-> n4 in s is 0.0758\n",
      "['edge_n1_n5_000']\n",
      "The length of the path n1-> n5 in s is 0.1257\n",
      "['edge_n1_n6_000']\n",
      "The length of the path n1-> n6 in s is 0.1153\n",
      "['edge_n1_n7_000']\n",
      "The length of the path n1-> n7 in s is 0.0052\n",
      "['edge_n1_n8_000']\n",
      "The length of the path n1-> n8 in s is 0.0005\n",
      "['edge_n1_n9_000']\n",
      "The length of the path n1-> n9 in s is 0.0088\n",
      "['edge_n1_n2_000', 'edge_n2_n10_000']\n",
      "The length of the path n1-> n10 in s is 0.0152\n",
      "['edge_n1_n9_000', 'edge_n9_n2_000', 'edge_n2_n4_000', 'edge_n4_n11_000']\n",
      "The length of the path n1-> n11 in s is 0.107\n",
      "['edge_n1_n6_000', 'edge_n6_n12_000']\n",
      "The length of the path n1-> n12 in s is 0.122\n",
      "['edge_n1_n13_000']\n",
      "Warning the path length is less than 1 microsecond,make sure num_repeats is high enough to measure it.\n",
      "The length of the path n1-> n13 in s is 0.0\n"
     ]
    }
   ],
   "source": [
    "rect_graph.move_to_node(\"n1\")\n",
    "for node in rect_graph.node_names:\n",
    "    path=rect_graph.get_path(\"n1\",node)\n",
    "    print(path)\n",
    "    print(\"The length of the path n1-> {0} in s is {1}\".format(node,rect_graph.path_length(path)))"
   ]
  },
  {
   "cell_type": "code",
   "execution_count": 28,
   "metadata": {
    "collapsed": false
   },
   "outputs": [
    {
     "data": {
      "text/plain": [
       "['edge_n1_n13_000', 'edge_n13_n1_000']"
      ]
     },
     "execution_count": 28,
     "metadata": {},
     "output_type": "execute_result"
    }
   ],
   "source": [
    "path=rect_graph.get_path(\"n1\",\"n11\")"
   ]
  },
  {
   "cell_type": "code",
   "execution_count": 12,
   "metadata": {
    "collapsed": false
   },
   "outputs": [
    {
     "name": "stdout",
     "output_type": "stream",
     "text": [
      "['edge_n1_n9_000', 'edge_n9_n2_000', 'edge_n2_n4_000', 'edge_n4_n11_000']\n"
     ]
    }
   ],
   "source": [
    "path=['edge_n1_n12_000', 'edge_n12_n6_000', \n",
    " 'edge_n6_n1_000', 'edge_n1_n9_000', 'edge_n9_n2_000', 'edge_n2_n4_000', 'edge_n4_n11_000']\n",
    "print remove_circular_paths(path)"
   ]
  },
  {
   "cell_type": "code",
   "execution_count": 115,
   "metadata": {
    "collapsed": false
   },
   "outputs": [
    {
     "name": "stdout",
     "output_type": "stream",
     "text": [
      "['edge_n7_n4_000']\n",
      "moving n7 -> n4\n"
     ]
    }
   ],
   "source": [
    "rect_graph.move_to_node(\"n4\")"
   ]
  },
  {
   "cell_type": "code",
   "execution_count": null,
   "metadata": {
    "collapsed": false
   },
   "outputs": [],
   "source": [
    "html=rect_graph.data.to_html(index=False)"
   ]
  },
  {
   "cell_type": "code",
   "execution_count": null,
   "metadata": {
    "collapsed": true
   },
   "outputs": [],
   "source": [
    "df=pandas.read_html(html)"
   ]
  },
  {
   "cell_type": "code",
   "execution_count": null,
   "metadata": {
    "collapsed": false
   },
   "outputs": [],
   "source": [
    "rect_graph.edges"
   ]
  },
  {
   "cell_type": "code",
   "execution_count": null,
   "metadata": {
    "collapsed": false
   },
   "outputs": [],
   "source": [
    "table=OnePortCalrepModel(os.path.join(TESTS_DIRECTORY,'700437.asc'))\n",
    "rect_graph.set_state(\"n2\",table)"
   ]
  },
  {
   "cell_type": "code",
   "execution_count": 113,
   "metadata": {
    "collapsed": false
   },
   "outputs": [
    {
     "name": "stdout",
     "output_type": "stream",
     "text": [
      "['edge_n2_n1_000', 'edge_n1_n7_000']\n",
      "moving n2 -> n1\n",
      "moving n1 -> n7\n"
     ]
    }
   ],
   "source": [
    "rect_graph.move_to_node(\"n7\")"
   ]
  },
  {
   "cell_type": "code",
   "execution_count": null,
   "metadata": {
    "collapsed": false
   },
   "outputs": [],
   "source": [
    "print rect_graph.data"
   ]
  },
  {
   "cell_type": "code",
   "execution_count": null,
   "metadata": {
    "collapsed": true
   },
   "outputs": [],
   "source": [
    "from ipywidgets import *\n"
   ]
  },
  {
   "cell_type": "code",
   "execution_count": 111,
   "metadata": {
    "collapsed": false
   },
   "outputs": [
    {
     "name": "stdout",
     "output_type": "stream",
     "text": [
      "['edge_n4_n11_000', 'edge_n11_n4_000', 'edge_n4_n2_000', 'edge_n2_n1_000', 'edge_n1_n3_000']\n",
      "moving n4 -> n11\n",
      "moving n11 -> n4\n",
      "moving n4 -> n2\n",
      "moving n2 -> n1\n",
      "moving n1 -> n3\n",
      "********************************************************************************\n",
      "HDF File [0, 0, 1, 0, 0, 0, 0, 0, 0, 0, 0, 0]\n",
      "********************************************************************************\n"
     ]
    },
    {
     "data": {
      "image/png": "[encoded data removed]",
      "text/plain": [
       "<matplotlib.figure.Figure at 0x12b20eb8>"
      ]
     },
     "metadata": {},
     "output_type": "display_data"
    }
   ],
   "source": [
    "%matplotlib inline\n",
    "rect_graph.move_to_node(\"n1\")\n",
    "def move_and_show(end_node_number):\n",
    "    node=rect_graph.node_names[end_node_number]\n",
    "    rect_graph.move_to_node(node)\n",
    "    print(\"*\"*80)\n",
    "    print(\"{0}\".format(rect_graph.node_descriptions[end_node_number])+\" {0}\".format(rect_graph.state))\n",
    "    print(\"*\"*80)\n",
    "    rect_graph.show(descriptions=True)\n",
    "    \n",
    "interact(move_and_show,end_node_number=(0,len(rect_graph.node_names)-1,1))"
   ]
  },
  {
   "cell_type": "code",
   "execution_count": 19,
   "metadata": {
    "collapsed": false,
    "scrolled": true
   },
   "outputs": [
    {
     "name": "stdout",
     "output_type": "stream",
     "text": [
      "['edge_n12_n6_000', 'edge_n6_n1_000', 'edge_n1_n9_000', 'edge_n9_n2_000', 'edge_n2_n4_000', 'edge_n4_n11_000']\n",
      "moving n12 -> n6\n",
      "moving n6 -> n1\n",
      "moving n1 -> n9\n",
      "moving n9 -> n2\n",
      "moving n2 -> n4\n",
      "moving n4 -> n11\n",
      "********************************************************************************\n",
      "XML File [0, 0, 0, 0, 0, 0, 0, 0, 0, 0, 1, 0]\n",
      "********************************************************************************\n",
      "test.xml\n"
     ]
    }
   ],
   "source": [
    "def move_and_print(end_node_number):\n",
    "    node=rect_graph.node_names[end_node_number]\n",
    "    rect_graph.move_to_node(node)\n",
    "    print(\"*\"*80)\n",
    "    print(\"{0}\".format(rect_graph.node_descriptions[end_node_number])+\" {0}\".format(rect_graph.state))\n",
    "    print(\"*\"*80)\n",
    "    print rect_graph.data\n",
    "    \n",
    "interact(move_and_print,end_node_number=(0,len(rect_graph.node_names)-1,1))"
   ]
  },
  {
   "cell_type": "code",
   "execution_count": null,
   "metadata": {
    "collapsed": true
   },
   "outputs": [],
   "source": [
    "json=data_frame.to_json(\"test.json\",orient='records')"
   ]
  },
  {
   "cell_type": "code",
   "execution_count": null,
   "metadata": {
    "collapsed": true
   },
   "outputs": [],
   "source": [
    "json_string=data_frame.to_json(orient='records')"
   ]
  },
  {
   "cell_type": "code",
   "execution_count": null,
   "metadata": {
    "collapsed": false
   },
   "outputs": [],
   "source": [
    "new_df=pandas.read_json(json_string,orient='records')"
   ]
  },
  {
   "cell_type": "code",
   "execution_count": null,
   "metadata": {
    "collapsed": false
   },
   "outputs": [],
   "source": [
    "new_df=pandas.read_json(\"test.json\",orient='records')"
   ]
  },
  {
   "cell_type": "code",
   "execution_count": null,
   "metadata": {
    "collapsed": false
   },
   "outputs": [],
   "source": [
    "#str(table.get_data_dictionary_list())\n",
    "json"
   ]
  },
  {
   "cell_type": "code",
   "execution_count": null,
   "metadata": {
    "collapsed": false
   },
   "outputs": [],
   "source": [
    "rect_graph.node_descriptions\n"
   ]
  },
  {
   "cell_type": "code",
   "execution_count": null,
   "metadata": {
    "collapsed": false
   },
   "outputs": [],
   "source": [
    "import json\n",
    "test_list=json.load(open(\"test.json\",'r'))"
   ]
  },
  {
   "cell_type": "code",
   "execution_count": null,
   "metadata": {
    "collapsed": false
   },
   "outputs": [],
   "source": [
    "text_xml=DataTable(None,**{\"data_dictionary\":{\"data\":test_list}})"
   ]
  },
  {
   "cell_type": "code",
   "execution_count": null,
   "metadata": {
    "collapsed": false
   },
   "outputs": [],
   "source": [
    "#print text_xml"
   ]
  },
  {
   "cell_type": "code",
   "execution_count": null,
   "metadata": {
    "collapsed": false
   },
   "outputs": [],
   "source": [
    "rect_graph.edges"
   ]
  },
  {
   "cell_type": "code",
   "execution_count": null,
   "metadata": {
    "collapsed": false
   },
   "outputs": [],
   "source": [
    "rect_graph.move_to_node(\"n7\")"
   ]
  },
  {
   "cell_type": "code",
   "execution_count": null,
   "metadata": {
    "collapsed": false
   },
   "outputs": [],
   "source": [
    "rect_graph.move_to_node(\"n4\")"
   ]
  },
  {
   "cell_type": "code",
   "execution_count": null,
   "metadata": {
    "collapsed": false
   },
   "outputs": [],
   "source": [
    "#print rect_graph.data"
   ]
  },
  {
   "cell_type": "code",
   "execution_count": null,
   "metadata": {
    "collapsed": true
   },
   "outputs": [],
   "source": [
    "from scipy.io import savemat,loadmat"
   ]
  },
  {
   "cell_type": "code",
   "execution_count": null,
   "metadata": {
    "collapsed": false
   },
   "outputs": [],
   "source": [
    "savemat(\"data.mat\",{\"data\":table.data,\"column_names\":table.column_names})"
   ]
  },
  {
   "cell_type": "code",
   "execution_count": null,
   "metadata": {
    "collapsed": false
   },
   "outputs": [],
   "source": [
    "data=loadmat(\"data.mat\")"
   ]
  },
  {
   "cell_type": "code",
   "execution_count": null,
   "metadata": {
    "collapsed": false
   },
   "outputs": [],
   "source": [
    "new_table=AsciiDataTable(None,column_names=map(lambda x: x.rstrip().lstrip(),data[\"column_names\"].tolist()),\n",
    "                         data=data[\"data\"].tolist())"
   ]
  },
  {
   "cell_type": "code",
   "execution_count": null,
   "metadata": {
    "collapsed": false
   },
   "outputs": [],
   "source": [
    "rect_graph.move_to_node(\"n4\")\n",
    "xml=rect_graph.data"
   ]
  },
  {
   "cell_type": "code",
   "execution_count": null,
   "metadata": {
    "collapsed": true
   },
   "outputs": [],
   "source": [
    "import sqlite3\n",
    "import odo"
   ]
  },
  {
   "cell_type": "code",
   "execution_count": null,
   "metadata": {
    "collapsed": false
   },
   "outputs": [],
   "source": [
    "data_frame.dtypes[0]"
   ]
  },
  {
   "cell_type": "code",
   "execution_count": null,
   "metadata": {
    "collapsed": false
   },
   "outputs": [],
   "source": [
    "conn = sqlite3.connect(\"test.db\")\n",
    "conn.execute(\"create table data\")\n",
    "odo.odo(data_frame,'sqlite:///test.db::data')"
   ]
  },
  {
   "cell_type": "code",
   "execution_count": 15,
   "metadata": {
    "collapsed": false
   },
   "outputs": [
    {
     "name": "stdout",
     "output_type": "stream",
     "text": [
      "The self.metadata[\"Device_Id\"] variable is 700437\n"
     ]
    }
   ],
   "source": [
    "one_port=OnePortCalrepModel(os.path.join(TESTS_DIRECTORY,'700437.asc'))"
   ]
  },
  {
   "cell_type": "code",
   "execution_count": null,
   "metadata": {
    "collapsed": false
   },
   "outputs": [],
   "source": [
    "one_port.header"
   ]
  },
  {
   "cell_type": "code",
   "execution_count": null,
   "metadata": {
    "collapsed": false
   },
   "outputs": [],
   "source": [
    "one_port.column_names"
   ]
  },
  {
   "cell_type": "code",
   "execution_count": 18,
   "metadata": {
    "collapsed": false
   },
   "outputs": [
    {
     "data": {
      "text/plain": [
       "{'Analysis_Date': '16-Oct-15', 'Device_Id': '700437'}"
      ]
     },
     "execution_count": 18,
     "metadata": {},
     "output_type": "execute_result"
    }
   ],
   "source": [
    "one_port.metadata"
   ]
  },
  {
   "cell_type": "code",
   "execution_count": 19,
   "metadata": {
    "collapsed": false
   },
   "outputs": [
    {
     "name": "stdout",
     "output_type": "stream",
     "text": [
      "header\n",
      "column_names\n",
      "data\n",
      "footer\n",
      "inline_comments\n",
      "metadata\n"
     ]
    }
   ],
   "source": [
    "for element in one_port.elements:\n",
    "    print element"
   ]
  },
  {
   "cell_type": "code",
   "execution_count": null,
   "metadata": {
    "collapsed": false
   },
   "outputs": [],
   "source": [
    "header_table=pandas.DataFrame(one_port.header,columns=[\"Header_Line_Content\"])\n",
    "data_table=pandas.DataFrame(one_port.data,columns=one_port.column_names)\n",
    "footer_table=pandas.DataFrame(one_port.footer,columns=[\"Footer_Line_Content\"])\n",
    "inline_comments=pandas.DataFrame(one_port.footer,columns=[\"Line\",\"Location\",\"Comment\"])\n",
    "metadata_table=pandas.DataFrame([[key,value] for key,value in one_port.metadata.iteritems() ], \n",
    "                                columns=[\"Property\",\"Value\"])"
   ]
  },
  {
   "cell_type": "code",
   "execution_count": null,
   "metadata": {
    "collapsed": false
   },
   "outputs": [],
   "source": [
    "header_table"
   ]
  },
  {
   "cell_type": "code",
   "execution_count": 129,
   "metadata": {
    "collapsed": false
   },
   "outputs": [],
   "source": [
    "# Move this to a DataTable Graph Example\n",
    "def AsciiDataTable_to_DataFrame_dict(AsciiDataTable):\n",
    "    \"\"\"Converts an AsciiDataTable to a dictionary of pandas.DataFrame s\"\"\"\n",
    "    output_dict={}\n",
    "    for element in AsciiDataTable.elements:\n",
    "        #print(\"{0} is {1}\".format('element',element))\n",
    "        if AsciiDataTable.__dict__[element]:\n",
    "            if re.search('header',element,re.IGNORECASE):\n",
    "                header_table=pandas.DataFrame(AsciiDataTable.header,columns=[\"Header_Line_Content\"])\n",
    "                output_dict[\"Header\"]=header_table\n",
    "            # needs to be before data search    \n",
    "            elif re.search('meta',element,re.IGNORECASE):\n",
    "                #print(\"{0} is {1}\".format('element',element))\n",
    "                metadata_table=pandas.DataFrame([[key,value] for key,value in AsciiDataTable.metadata.iteritems()], \n",
    "                                columns=[\"Property\",\"Value\"])\n",
    "                output_dict[\"Metadata\"]=metadata_table    \n",
    "            elif re.search('data|^meta',element,re.IGNORECASE):\n",
    "                \n",
    "                data_table=pandas.DataFrame(AsciiDataTable.data,columns=AsciiDataTable.column_names)\n",
    "                output_dict[\"Data\"]=data_table\n",
    "                \n",
    "            elif re.search('footer',element,re.IGNORECASE):\n",
    "                footer_table=pandas.DataFrame(AsciiDataTable.footer,columns=[\"Footer_Line_Content\"])\n",
    "                output_dict[\"Footer\"]=footer_table\n",
    "                \n",
    "            elif re.search('comment',element,re.IGNORECASE):\n",
    "                comments=AsciiDataTable.__dict__[element]\n",
    "                inline_comments=pandas.DataFrame(comments,columns=[\"Comment\",\"Line\",\"Location\"])\n",
    "                output_dict[\"Comments\"]=inline_comments\n",
    "    return output_dict\n",
    "\n",
    "def DataFrame_dict_to_AsciiDataTable(DataFrame_dict,**options):\n",
    "    \"\"\"Given a dictionary of pandas DataFrames returns an AsciiDataTable\"\"\"\n",
    "    defaults={\"inline_comment_begin\":\"!\",\"inline_comment_end\":\"\\n\"}\n",
    "    table_options={}\n",
    "    for key,value in defaults.iteritems():\n",
    "        table_options[key]=value\n",
    "    for key,value in options.iteritems():\n",
    "        table_options[key]=value\n",
    "    keys=DataFrame_dict.keys()\n",
    "    for key in keys:\n",
    "        table_key=key\n",
    "        if key in[\"comments\",\"Comments\",\"inline_comments\",\"Inline_Comments\"]:\n",
    "            table_key=\"inline_comments\"\n",
    "        if key in [\"data\",\"Data\"]:\n",
    "            table_options[\"column_names\"]=DataFrame_dict[key].columns.tolist()\n",
    "            \n",
    "        table_options[table_key.lower()]=DataFrame_dict[key].as_matrix().tolist()\n",
    "    new_table=AsciiDataTable(None,**table_options)\n",
    "    return new_table\n",
    "        \n",
    "    "
   ]
  },
  {
   "cell_type": "code",
   "execution_count": 43,
   "metadata": {
    "collapsed": false
   },
   "outputs": [],
   "source": [
    "panda_dict=AsciiDataTable_to_DataFrame_dict(one_port)"
   ]
  },
  {
   "cell_type": "code",
   "execution_count": 44,
   "metadata": {
    "collapsed": false
   },
   "outputs": [
    {
     "data": {
      "text/html": [
       "<div>\n",
       "<table border=\"1\" class=\"dataframe\">\n",
       "  <thead>\n",
       "    <tr style=\"text-align: right;\">\n",
       "      <th></th>\n",
       "      <th>Property</th>\n",
       "      <th>Value</th>\n",
       "    </tr>\n",
       "  </thead>\n",
       "  <tbody>\n",
       "    <tr>\n",
       "      <th>0</th>\n",
       "      <td>Analysis_Date</td>\n",
       "      <td>16-Oct-15</td>\n",
       "    </tr>\n",
       "    <tr>\n",
       "      <th>1</th>\n",
       "      <td>Device_Id</td>\n",
       "      <td>700437</td>\n",
       "    </tr>\n",
       "  </tbody>\n",
       "</table>\n",
       "</div>"
      ],
      "text/plain": [
       "        Property      Value\n",
       "0  Analysis_Date  16-Oct-15\n",
       "1      Device_Id     700437"
      ]
     },
     "execution_count": 44,
     "metadata": {},
     "output_type": "execute_result"
    }
   ],
   "source": [
    "panda_dict[\"Metadata\"]"
   ]
  },
  {
   "cell_type": "code",
   "execution_count": 46,
   "metadata": {
    "collapsed": false
   },
   "outputs": [],
   "source": [
    "#panda_dict[\"Data\"]"
   ]
  },
  {
   "cell_type": "code",
   "execution_count": 107,
   "metadata": {
    "collapsed": true
   },
   "outputs": [],
   "source": [
    "def DataFrame_dict_to_excel(DataFrame_dict,excel_file_name=\"Test.xlsx\"):\n",
    "    \"\"\"Converts a dictionary of pandas DataFrames to a single excel file with sheet names\n",
    "    determined by keys\"\"\"\n",
    "    # sort the keys so that they will display in the same order\n",
    "    writer = pandas.ExcelWriter(excel_file_name)\n",
    "    keys=sorted(DataFrame_dict.keys())\n",
    "    for key in keys:\n",
    "        #print key\n",
    "        DataFrame_dict[key].to_excel(writer,sheet_name=key,index=False)\n",
    "    writer.close()\n",
    "    return excel_file_name\n",
    "\n",
    "def excel_to_DataFrame_dict(excel_file_name):\n",
    "    \"\"\"Reads an excel file into a dictionary of data frames\"\"\"\n",
    "    data_frame_dictionary=pandas.read_excel(excel_file_name,sheetname=None)\n",
    "    return data_frame_dictionary\n",
    "\n",
    "def DataFrame_dict_to_hdf(DataFrame_dict,hdf_file_name=\"Test.hd5\"):\n",
    "    \"\"\"Transforms a dictionary of pandas.DataFrames to a single HD5 file with groups determined by the keys\"\"\"\n",
    "    keys=sorted(DataFrame_dict.keys())\n",
    "    for key in keys:\n",
    "        DataFrame_dict[key].to_hdf(hdf_file_name,key)\n",
    "    return hdf_file_name\n",
    "\n",
    "def hdf_to_DataFrame_dict(hdf_file_name):\n",
    "    \"\"\"Creates a dictionary of pandas.DataFrames given a hd5 file name, does this require the table names?\n",
    "    \"\"\"\n",
    "    hdf=h5py.File(hdf_file_name)\n",
    "    keys=hdf.keys()\n",
    "    pandas_dictionary={key:pandas.read_hdf(hdf_file_name,key) for key in keys}\n",
    "    return pandas_dictionary\n",
    "    "
   ]
  },
  {
   "cell_type": "code",
   "execution_count": null,
   "metadata": {
    "collapsed": false
   },
   "outputs": [],
   "source": [
    "DataFrame_dict_to_excel(panda_dict)"
   ]
  },
  {
   "cell_type": "code",
   "execution_count": null,
   "metadata": {
    "collapsed": true
   },
   "outputs": [],
   "source": [
    "test_dict=pandas.read_excel(\"Test.xlsx\",sheetname=None)"
   ]
  },
  {
   "cell_type": "code",
   "execution_count": null,
   "metadata": {
    "collapsed": false
   },
   "outputs": [],
   "source": [
    "test_dict[\"Header\"]"
   ]
  },
  {
   "cell_type": "code",
   "execution_count": 48,
   "metadata": {
    "collapsed": false
   },
   "outputs": [],
   "source": [
    "raw_table=TwoPortRawModel(os.path.join(TESTS_DIRECTORY,'TestFileTwoPortRaw.txt'))"
   ]
  },
  {
   "cell_type": "code",
   "execution_count": 49,
   "metadata": {
    "collapsed": false
   },
   "outputs": [],
   "source": [
    "test_dict=AsciiDataTable_to_DataFrame_dict(raw_table)"
   ]
  },
  {
   "cell_type": "code",
   "execution_count": 50,
   "metadata": {
    "collapsed": false
   },
   "outputs": [
    {
     "data": {
      "text/plain": [
       "['Header', 'Data', 'Metadata']"
      ]
     },
     "execution_count": 50,
     "metadata": {},
     "output_type": "execute_result"
    }
   ],
   "source": [
    "test_dict.keys()"
   ]
  },
  {
   "cell_type": "code",
   "execution_count": 40,
   "metadata": {
    "collapsed": false
   },
   "outputs": [
    {
     "data": {
      "text/html": [
       "<div>\n",
       "<table border=\"1\" class=\"dataframe\">\n",
       "  <thead>\n",
       "    <tr style=\"text-align: right;\">\n",
       "      <th></th>\n",
       "      <th>Property</th>\n",
       "      <th>Value</th>\n",
       "    </tr>\n",
       "  </thead>\n",
       "  <tbody>\n",
       "    <tr>\n",
       "      <th>0</th>\n",
       "      <td>Connector_Type_Calibration</td>\n",
       "      <td></td>\n",
       "    </tr>\n",
       "    <tr>\n",
       "      <th>1</th>\n",
       "      <td>Number_Connects</td>\n",
       "      <td>3</td>\n",
       "    </tr>\n",
       "    <tr>\n",
       "      <th>2</th>\n",
       "      <td>Connector_Type_Measurement</td>\n",
       "      <td>N</td>\n",
       "    </tr>\n",
       "    <tr>\n",
       "      <th>3</th>\n",
       "      <td>Number_Repeats</td>\n",
       "      <td>1</td>\n",
       "    </tr>\n",
       "    <tr>\n",
       "      <th>4</th>\n",
       "      <td>Operator</td>\n",
       "      <td>BFR</td>\n",
       "    </tr>\n",
       "    <tr>\n",
       "      <th>5</th>\n",
       "      <td>Number_Frequencies</td>\n",
       "      <td>53</td>\n",
       "    </tr>\n",
       "    <tr>\n",
       "      <th>6</th>\n",
       "      <td>Start_Frequency</td>\n",
       "      <td>7</td>\n",
       "    </tr>\n",
       "    <tr>\n",
       "      <th>7</th>\n",
       "      <td>Measurement_Date</td>\n",
       "      <td>9 Sep 2015</td>\n",
       "    </tr>\n",
       "    <tr>\n",
       "      <th>8</th>\n",
       "      <td>Program_Used</td>\n",
       "      <td>MEASLP</td>\n",
       "    </tr>\n",
       "    <tr>\n",
       "      <th>9</th>\n",
       "      <td>Measurement_Type</td>\n",
       "      <td>2-port</td>\n",
       "    </tr>\n",
       "    <tr>\n",
       "      <th>10</th>\n",
       "      <td>System_Id</td>\n",
       "      <td>HP8510</td>\n",
       "    </tr>\n",
       "    <tr>\n",
       "      <th>11</th>\n",
       "      <td>Nbs</td>\n",
       "      <td>4</td>\n",
       "    </tr>\n",
       "    <tr>\n",
       "      <th>12</th>\n",
       "      <td>Device_Id</td>\n",
       "      <td>CTN208</td>\n",
       "    </tr>\n",
       "    <tr>\n",
       "      <th>13</th>\n",
       "      <td>Measurement_Time</td>\n",
       "      <td>10:31:55</td>\n",
       "    </tr>\n",
       "    <tr>\n",
       "      <th>14</th>\n",
       "      <td>Program_Revision</td>\n",
       "      <td>150122</td>\n",
       "    </tr>\n",
       "    <tr>\n",
       "      <th>15</th>\n",
       "      <td>Port_Used</td>\n",
       "      <td>1</td>\n",
       "    </tr>\n",
       "    <tr>\n",
       "      <th>16</th>\n",
       "      <td>Calibration_Date</td>\n",
       "      <td></td>\n",
       "    </tr>\n",
       "    <tr>\n",
       "      <th>17</th>\n",
       "      <td>Device_Description</td>\n",
       "      <td>CHECK STANDARD 20 dB ATTEN</td>\n",
       "    </tr>\n",
       "    <tr>\n",
       "      <th>18</th>\n",
       "      <td>Calibration_Name</td>\n",
       "      <td>c050211.a2</td>\n",
       "    </tr>\n",
       "    <tr>\n",
       "      <th>19</th>\n",
       "      <td>System_Letter</td>\n",
       "      <td>L</td>\n",
       "    </tr>\n",
       "  </tbody>\n",
       "</table>\n",
       "</div>"
      ],
      "text/plain": [
       "                      Property                       Value\n",
       "0   Connector_Type_Calibration                            \n",
       "1              Number_Connects                           3\n",
       "2   Connector_Type_Measurement                           N\n",
       "3               Number_Repeats                           1\n",
       "4                     Operator                         BFR\n",
       "5           Number_Frequencies                          53\n",
       "6              Start_Frequency                           7\n",
       "7             Measurement_Date                  9 Sep 2015\n",
       "8                 Program_Used                      MEASLP\n",
       "9             Measurement_Type                      2-port\n",
       "10                   System_Id                      HP8510\n",
       "11                         Nbs                           4\n",
       "12                   Device_Id                      CTN208\n",
       "13            Measurement_Time                    10:31:55\n",
       "14            Program_Revision                      150122\n",
       "15                   Port_Used                           1\n",
       "16            Calibration_Date                            \n",
       "17          Device_Description  CHECK STANDARD 20 dB ATTEN\n",
       "18            Calibration_Name                  c050211.a2\n",
       "19               System_Letter                           L"
      ]
     },
     "execution_count": 40,
     "metadata": {},
     "output_type": "execute_result"
    }
   ],
   "source": [
    "test_dict[\"Metadata\"]"
   ]
  },
  {
   "cell_type": "code",
   "execution_count": 41,
   "metadata": {
    "collapsed": false
   },
   "outputs": [
    {
     "data": {
      "text/html": [
       "<div>\n",
       "<table border=\"1\" class=\"dataframe\">\n",
       "  <thead>\n",
       "    <tr style=\"text-align: right;\">\n",
       "      <th></th>\n",
       "      <th>Header_Line_Content</th>\n",
       "    </tr>\n",
       "  </thead>\n",
       "  <tbody>\n",
       "    <tr>\n",
       "      <th>0</th>\n",
       "      <td>HP8510</td>\n",
       "    </tr>\n",
       "    <tr>\n",
       "      <th>1</th>\n",
       "      <td>L</td>\n",
       "    </tr>\n",
       "    <tr>\n",
       "      <th>2</th>\n",
       "      <td></td>\n",
       "    </tr>\n",
       "    <tr>\n",
       "      <th>3</th>\n",
       "      <td>N</td>\n",
       "    </tr>\n",
       "    <tr>\n",
       "      <th>4</th>\n",
       "      <td>2-port</td>\n",
       "    </tr>\n",
       "    <tr>\n",
       "      <th>5</th>\n",
       "      <td>9 Sep 2015</td>\n",
       "    </tr>\n",
       "    <tr>\n",
       "      <th>6</th>\n",
       "      <td>10:31:55</td>\n",
       "    </tr>\n",
       "    <tr>\n",
       "      <th>7</th>\n",
       "      <td>MEASLP</td>\n",
       "    </tr>\n",
       "    <tr>\n",
       "      <th>8</th>\n",
       "      <td>150122</td>\n",
       "    </tr>\n",
       "    <tr>\n",
       "      <th>9</th>\n",
       "      <td>BFR</td>\n",
       "    </tr>\n",
       "    <tr>\n",
       "      <th>10</th>\n",
       "      <td>c050211.a2</td>\n",
       "    </tr>\n",
       "    <tr>\n",
       "      <th>11</th>\n",
       "      <td></td>\n",
       "    </tr>\n",
       "    <tr>\n",
       "      <th>12</th>\n",
       "      <td>1</td>\n",
       "    </tr>\n",
       "    <tr>\n",
       "      <th>13</th>\n",
       "      <td>3</td>\n",
       "    </tr>\n",
       "    <tr>\n",
       "      <th>14</th>\n",
       "      <td>1</td>\n",
       "    </tr>\n",
       "    <tr>\n",
       "      <th>15</th>\n",
       "      <td>4</td>\n",
       "    </tr>\n",
       "    <tr>\n",
       "      <th>16</th>\n",
       "      <td>53</td>\n",
       "    </tr>\n",
       "    <tr>\n",
       "      <th>17</th>\n",
       "      <td>7</td>\n",
       "    </tr>\n",
       "    <tr>\n",
       "      <th>18</th>\n",
       "      <td>CHECK STANDARD 20 dB ATTEN                    ...</td>\n",
       "    </tr>\n",
       "    <tr>\n",
       "      <th>19</th>\n",
       "      <td>CTN208</td>\n",
       "    </tr>\n",
       "  </tbody>\n",
       "</table>\n",
       "</div>"
      ],
      "text/plain": [
       "                                  Header_Line_Content\n",
       "0                                        HP8510      \n",
       "1                                                  L \n",
       "2                                                    \n",
       "3                                             N      \n",
       "4                                     2-port         \n",
       "5                                      9 Sep 2015    \n",
       "6                                          10:31:55  \n",
       "7                                          MEASLP    \n",
       "8                                          150122    \n",
       "9                                          BFR       \n",
       "10                                    c050211.a2     \n",
       "11                                                   \n",
       "12                                                  1\n",
       "13                                                  3\n",
       "14                                                  1\n",
       "15                                                  4\n",
       "16                                                 53\n",
       "17                                                  7\n",
       "18  CHECK STANDARD 20 dB ATTEN                    ...\n",
       "19                               CTN208              "
      ]
     },
     "execution_count": 41,
     "metadata": {},
     "output_type": "execute_result"
    }
   ],
   "source": [
    "test_dict[\"Header\"]"
   ]
  },
  {
   "cell_type": "code",
   "execution_count": 53,
   "metadata": {
    "collapsed": true
   },
   "outputs": [],
   "source": [
    "excel=DataFrame_dict_to_excel(test_dict)"
   ]
  },
  {
   "cell_type": "code",
   "execution_count": 56,
   "metadata": {
    "collapsed": false
   },
   "outputs": [],
   "source": [
    "s2p=S2PV1(os.path.join(TESTS_DIRECTORY,'704b.S2P'))"
   ]
  },
  {
   "cell_type": "code",
   "execution_count": 67,
   "metadata": {
    "collapsed": false
   },
   "outputs": [],
   "source": [
    "test_dict=AsciiDataTable_to_DataFrame_dict(s2p)"
   ]
  },
  {
   "cell_type": "code",
   "execution_count": 60,
   "metadata": {
    "collapsed": false
   },
   "outputs": [
    {
     "data": {
      "text/plain": [
       "[['---------------------------------------------------------------------',\n",
       "  0,\n",
       "  0],\n",
       " [' ZVC, 3.52', 1, 0],\n",
       " ['---------------------------------------------------------------------',\n",
       "  2,\n",
       "  0],\n",
       " [' symbol freq-unit parameter-type data-format keyword impedance-ohm', 3, 0],\n",
       " ['---------------------------------------------------------------------',\n",
       "  5,\n",
       "  0],\n",
       " [' freq                dbS11          angS11          dbS21          angS21          dbS12          angS12          dbS22          angS22          ',\n",
       "  6,\n",
       "  0]]"
      ]
     },
     "execution_count": 60,
     "metadata": {},
     "output_type": "execute_result"
    }
   ],
   "source": [
    "s2p.comments"
   ]
  },
  {
   "cell_type": "code",
   "execution_count": 68,
   "metadata": {
    "collapsed": false
   },
   "outputs": [],
   "source": [
    "excel=DataFrame_dict_to_excel(test_dict)"
   ]
  },
  {
   "cell_type": "code",
   "execution_count": 73,
   "metadata": {
    "collapsed": true
   },
   "outputs": [],
   "source": [
    "tet_dict=excel_to_DataFrame_dict(\"test.xlsx\")"
   ]
  },
  {
   "cell_type": "code",
   "execution_count": 79,
   "metadata": {
    "collapsed": false
   },
   "outputs": [
    {
     "data": {
      "text/plain": [
       "['Data', 'Comments']"
      ]
     },
     "execution_count": 79,
     "metadata": {},
     "output_type": "execute_result"
    }
   ],
   "source": [
    "test_dict.keys()"
   ]
  },
  {
   "cell_type": "code",
   "execution_count": 81,
   "metadata": {
    "collapsed": true
   },
   "outputs": [],
   "source": [
    "test_hd5=DataFrame_dict_to_hd5(test_dict)"
   ]
  },
  {
   "cell_type": "code",
   "execution_count": 100,
   "metadata": {
    "collapsed": false
   },
   "outputs": [],
   "source": [
    "import h5py\n",
    "hdf=h5py.File(\"Test.hd5\")\n",
    "keys=hdf.keys()\n",
    "pandas_dictionary={key:pandas.read_hdf(\"Test.hd5\",key) for key in keys}"
   ]
  },
  {
   "cell_type": "code",
   "execution_count": 103,
   "metadata": {
    "collapsed": false
   },
   "outputs": [
    {
     "data": {
      "text/plain": [
       "[u'Comments', u'Data']"
      ]
     },
     "execution_count": 103,
     "metadata": {},
     "output_type": "execute_result"
    }
   ],
   "source": [
    "hdf.keys()"
   ]
  },
  {
   "cell_type": "code",
   "execution_count": 108,
   "metadata": {
    "collapsed": false
   },
   "outputs": [],
   "source": [
    "pandas_dictionary=hdf_to_DataFrame_dict(\"Test.hd5\")"
   ]
  },
  {
   "cell_type": "code",
   "execution_count": 109,
   "metadata": {
    "collapsed": false
   },
   "outputs": [
    {
     "data": {
      "text/plain": [
       "[u'Data', u'Comments']"
      ]
     },
     "execution_count": 109,
     "metadata": {},
     "output_type": "execute_result"
    }
   ],
   "source": [
    "pandas_dictionary.keys()"
   ]
  },
  {
   "cell_type": "code",
   "execution_count": 112,
   "metadata": {
    "collapsed": false
   },
   "outputs": [
    {
     "data": {
      "text/plain": [
       "[['---------------------------------------------------------------------',\n",
       "  0L,\n",
       "  0L],\n",
       " [' ZVC, 3.52', 1L, 0L],\n",
       " ['---------------------------------------------------------------------',\n",
       "  2L,\n",
       "  0L],\n",
       " [' symbol freq-unit parameter-type data-format keyword impedance-ohm',\n",
       "  3L,\n",
       "  0L],\n",
       " ['---------------------------------------------------------------------',\n",
       "  5L,\n",
       "  0L],\n",
       " [' freq                dbS11          angS11          dbS21          angS21          dbS12          angS12          dbS22          angS22          ',\n",
       "  6L,\n",
       "  0L]]"
      ]
     },
     "execution_count": 112,
     "metadata": {},
     "output_type": "execute_result"
    }
   ],
   "source": [
    "pandas_dictionary[\"Comments\"].as_matrix().tolist()"
   ]
  },
  {
   "cell_type": "code",
   "execution_count": 130,
   "metadata": {
    "collapsed": false
   },
   "outputs": [],
   "source": [
    "table=DataFrame_dict_to_AsciiDataTable(pandas_dictionary)"
   ]
  },
  {
   "cell_type": "code",
   "execution_count": 134,
   "metadata": {
    "collapsed": false
   },
   "outputs": [],
   "source": [
    "#print table.get_data_string()"
   ]
  },
  {
   "cell_type": "code",
   "execution_count": 138,
   "metadata": {
    "collapsed": false
   },
   "outputs": [
    {
     "data": {
      "text/plain": [
       "['n1', 'n2', 'n3', 'n4', 'n5', 'n6', 'n7', 'n8', 'n9', 'n10']"
      ]
     },
     "execution_count": 138,
     "metadata": {},
     "output_type": "execute_result"
    }
   ],
   "source": [
    "rect_graph.node_names"
   ]
  },
  {
   "cell_type": "code",
   "execution_count": 139,
   "metadata": {
    "collapsed": true
   },
   "outputs": [],
   "source": [
    "new_graph=networkx.DiGraph()"
   ]
  },
  {
   "cell_type": "code",
   "execution_count": 333,
   "metadata": {
    "collapsed": true
   },
   "outputs": [],
   "source": [
    "for node in rect_graph.node_names:\n",
    "    new_graph.add_node(node)"
   ]
  },
  {
   "cell_type": "code",
   "execution_count": 141,
   "metadata": {
    "collapsed": false
   },
   "outputs": [
    {
     "data": {
      "text/plain": [
       "['edge_n1_n2_000',\n",
       " 'edge_n2_n1_000',\n",
       " 'edge_n3_n1_000',\n",
       " 'edge_n1_n3_000',\n",
       " 'edge_n4_n2_000',\n",
       " 'edge_n2_n4_000',\n",
       " 'edge_n5_n1_000',\n",
       " 'edge_n1_n5_000',\n",
       " 'edge_n6_n1_000',\n",
       " 'edge_n1_n6_000',\n",
       " 'edge_n7_n1_000',\n",
       " 'edge_n1_n7_000',\n",
       " 'edge_n8_n1_000',\n",
       " 'edge_n1_n8_000',\n",
       " 'edge_n9_n1_000',\n",
       " 'edge_n1_n9_000',\n",
       " 'edge_n10_n2_000',\n",
       " 'edge_n2_n10_000',\n",
       " 'edge_n7_n4_000']"
      ]
     },
     "execution_count": 141,
     "metadata": {},
     "output_type": "execute_result"
    }
   ],
   "source": [
    "rect_graph.edges"
   ]
  },
  {
   "cell_type": "code",
   "execution_count": 143,
   "metadata": {
    "collapsed": false
   },
   "outputs": [],
   "source": [
    "edge_pattern=re.compile(\"edge_(?P<begin_node>\\w+)_(?P<end_node>\\w+)_(?P<iterator>\\w+)\")"
   ]
  },
  {
   "cell_type": "code",
   "execution_count": 332,
   "metadata": {
    "collapsed": false
   },
   "outputs": [
    {
     "name": "stdout",
     "output_type": "stream",
     "text": [
      "Begin Node = n1, End Node= n2\n",
      "Begin Node = n2, End Node= n1\n",
      "Begin Node = n3, End Node= n1\n",
      "Begin Node = n1, End Node= n3\n",
      "Begin Node = n4, End Node= n2\n",
      "Begin Node = n2, End Node= n4\n",
      "Begin Node = n5, End Node= n1\n",
      "Begin Node = n1, End Node= n5\n",
      "Begin Node = n6, End Node= n1\n",
      "Begin Node = n1, End Node= n6\n",
      "Begin Node = n7, End Node= n1\n",
      "Begin Node = n1, End Node= n7\n",
      "Begin Node = n8, End Node= n1\n",
      "Begin Node = n1, End Node= n8\n",
      "Begin Node = n9, End Node= n1\n",
      "Begin Node = n1, End Node= n9\n",
      "Begin Node = n10, End Node= n2\n",
      "Begin Node = n2, End Node= n10\n",
      "Begin Node = n11, End Node= n4\n",
      "Begin Node = n4, End Node= n11\n",
      "Begin Node = n7, End Node= n4\n"
     ]
    }
   ],
   "source": [
    "for edge in rect_graph.edges:\n",
    "    match=re.match(edge_pattern,edge)\n",
    "    if match:\n",
    "        begin_node=match.groupdict()[\"begin_node\"]\n",
    "        end_node=match.groupdict()[\"end_node\"]\n",
    "        new_graph.add_edge(begin_node,end_node)\n",
    "        print(\"Begin Node = {0}, End Node= {1}\".format(begin_node,end_node))"
   ]
  },
  {
   "cell_type": "code",
   "execution_count": 150,
   "metadata": {
    "collapsed": true
   },
   "outputs": [],
   "source": [
    "networkx.draw_networkx(new_graph,arrows=True)\n",
    "plt.show()"
   ]
  },
  {
   "cell_type": "code",
   "execution_count": 334,
   "metadata": {
    "collapsed": false
   },
   "outputs": [
    {
     "data": {
      "application/javascript": [
       "/* Put everything inside the global mpl namespace */\n",
       "window.mpl = {};\n",
       "\n",
       "mpl.get_websocket_type = function() {\n",
       "    if (typeof(WebSocket) !== 'undefined') {\n",
       "        return WebSocket;\n",
       "    } else if (typeof(MozWebSocket) !== 'undefined') {\n",
       "        return MozWebSocket;\n",
       "    } else {\n",
       "        alert('Your browser does not have WebSocket support.' +\n",
       "              'Please try Chrome, Safari or Firefox ≥ 6. ' +\n",
       "              'Firefox 4 and 5 are also supported but you ' +\n",
       "              'have to enable WebSockets in about:config.');\n",
       "    };\n",
       "}\n",
       "\n",
       "mpl.figure = function(figure_id, websocket, ondownload, parent_element) {\n",
       "    this.id = figure_id;\n",
       "\n",
       "    this.ws = websocket;\n",
       "\n",
       "    this.supports_binary = (this.ws.binaryType != undefined);\n",
       "\n",
       "    if (!this.supports_binary) {\n",
       "        var warnings = document.getElementById(\"mpl-warnings\");\n",
       "        if (warnings) {\n",
       "            warnings.style.display = 'block';\n",
       "            warnings.textContent = (\n",
       "                \"This browser does not support binary websocket messages. \" +\n",
       "                    \"Performance may be slow.\");\n",
       "        }\n",
       "    }\n",
       "\n",
       "    this.imageObj = new Image();\n",
       "\n",
       "    this.context = undefined;\n",
       "    this.message = undefined;\n",
       "    this.canvas = undefined;\n",
       "    this.rubberband_canvas = undefined;\n",
       "    this.rubberband_context = undefined;\n",
       "    this.format_dropdown = undefined;\n",
       "\n",
       "    this.image_mode = 'full';\n",
       "\n",
       "    this.root = $('<div/>');\n",
       "    this._root_extra_style(this.root)\n",
       "    this.root.attr('style', 'display: inline-block');\n",
       "\n",
       "    $(parent_element).append(this.root);\n",
       "\n",
       "    this._init_header(this);\n",
       "    this._init_canvas(this);\n",
       "    this._init_toolbar(this);\n",
       "\n",
       "    var fig = this;\n",
       "\n",
       "    this.waiting = false;\n",
       "\n",
       "    this.ws.onopen =  function () {\n",
       "            fig.send_message(\"supports_binary\", {value: fig.supports_binary});\n",
       "            fig.send_message(\"send_image_mode\", {});\n",
       "            fig.send_message(\"refresh\", {});\n",
       "        }\n",
       "\n",
       "    this.imageObj.onload = function() {\n",
       "            if (fig.image_mode == 'full') {\n",
       "                // Full images could contain transparency (where diff images\n",
       "                // almost always do), so we need to clear the canvas so that\n",
       "                // there is no ghosting.\n",
       "                fig.context.clearRect(0, 0, fig.canvas.width, fig.canvas.height);\n",
       "            }\n",
       "            fig.context.drawImage(fig.imageObj, 0, 0);\n",
       "        };\n",
       "\n",
       "    this.imageObj.onunload = function() {\n",
       "        this.ws.close();\n",
       "    }\n",
       "\n",
       "    this.ws.onmessage = this._make_on_message_function(this);\n",
       "\n",
       "    this.ondownload = ondownload;\n",
       "}\n",
       "\n",
       "mpl.figure.prototype._init_header = function() {\n",
       "    var titlebar = $(\n",
       "        '<div class=\"ui-dialog-titlebar ui-widget-header ui-corner-all ' +\n",
       "        'ui-helper-clearfix\"/>');\n",
       "    var titletext = $(\n",
       "        '<div class=\"ui-dialog-title\" style=\"width: 100%; ' +\n",
       "        'text-align: center; padding: 3px;\"/>');\n",
       "    titlebar.append(titletext)\n",
       "    this.root.append(titlebar);\n",
       "    this.header = titletext[0];\n",
       "}\n",
       "\n",
       "\n",
       "\n",
       "mpl.figure.prototype._canvas_extra_style = function(canvas_div) {\n",
       "\n",
       "}\n",
       "\n",
       "\n",
       "mpl.figure.prototype._root_extra_style = function(canvas_div) {\n",
       "\n",
       "}\n",
       "\n",
       "mpl.figure.prototype._init_canvas = function() {\n",
       "    var fig = this;\n",
       "\n",
       "    var canvas_div = $('<div/>');\n",
       "\n",
       "    canvas_div.attr('style', 'position: relative; clear: both; outline: 0');\n",
       "\n",
       "    function canvas_keyboard_event(event) {\n",
       "        return fig.key_event(event, event['data']);\n",
       "    }\n",
       "\n",
       "    canvas_div.keydown('key_press', canvas_keyboard_event);\n",
       "    canvas_div.keyup('key_release', canvas_keyboard_event);\n",
       "    this.canvas_div = canvas_div\n",
       "    this._canvas_extra_style(canvas_div)\n",
       "    this.root.append(canvas_div);\n",
       "\n",
       "    var canvas = $('<canvas/>');\n",
       "    canvas.addClass('mpl-canvas');\n",
       "    canvas.attr('style', \"left: 0; top: 0; z-index: 0; outline: 0\")\n",
       "\n",
       "    this.canvas = canvas[0];\n",
       "    this.context = canvas[0].getContext(\"2d\");\n",
       "\n",
       "    var rubberband = $('<canvas/>');\n",
       "    rubberband.attr('style', \"position: absolute; left: 0; top: 0; z-index: 1;\")\n",
       "\n",
       "    var pass_mouse_events = true;\n",
       "\n",
       "    canvas_div.resizable({\n",
       "        start: function(event, ui) {\n",
       "            pass_mouse_events = false;\n",
       "        },\n",
       "        resize: function(event, ui) {\n",
       "            fig.request_resize(ui.size.width, ui.size.height);\n",
       "        },\n",
       "        stop: function(event, ui) {\n",
       "            pass_mouse_events = true;\n",
       "            fig.request_resize(ui.size.width, ui.size.height);\n",
       "        },\n",
       "    });\n",
       "\n",
       "    function mouse_event_fn(event) {\n",
       "        if (pass_mouse_events)\n",
       "            return fig.mouse_event(event, event['data']);\n",
       "    }\n",
       "\n",
       "    rubberband.mousedown('button_press', mouse_event_fn);\n",
       "    rubberband.mouseup('button_release', mouse_event_fn);\n",
       "    // Throttle sequential mouse events to 1 every 20ms.\n",
       "    rubberband.mousemove('motion_notify', mouse_event_fn);\n",
       "\n",
       "    rubberband.mouseenter('figure_enter', mouse_event_fn);\n",
       "    rubberband.mouseleave('figure_leave', mouse_event_fn);\n",
       "\n",
       "    canvas_div.on(\"wheel\", function (event) {\n",
       "        event = event.originalEvent;\n",
       "        event['data'] = 'scroll'\n",
       "        if (event.deltaY < 0) {\n",
       "            event.step = 1;\n",
       "        } else {\n",
       "            event.step = -1;\n",
       "        }\n",
       "        mouse_event_fn(event);\n",
       "    });\n",
       "\n",
       "    canvas_div.append(canvas);\n",
       "    canvas_div.append(rubberband);\n",
       "\n",
       "    this.rubberband = rubberband;\n",
       "    this.rubberband_canvas = rubberband[0];\n",
       "    this.rubberband_context = rubberband[0].getContext(\"2d\");\n",
       "    this.rubberband_context.strokeStyle = \"#000000\";\n",
       "\n",
       "    this._resize_canvas = function(width, height) {\n",
       "        // Keep the size of the canvas, canvas container, and rubber band\n",
       "        // canvas in synch.\n",
       "        canvas_div.css('width', width)\n",
       "        canvas_div.css('height', height)\n",
       "\n",
       "        canvas.attr('width', width);\n",
       "        canvas.attr('height', height);\n",
       "\n",
       "        rubberband.attr('width', width);\n",
       "        rubberband.attr('height', height);\n",
       "    }\n",
       "\n",
       "    // Set the figure to an initial 600x600px, this will subsequently be updated\n",
       "    // upon first draw.\n",
       "    this._resize_canvas(600, 600);\n",
       "\n",
       "    // Disable right mouse context menu.\n",
       "    $(this.rubberband_canvas).bind(\"contextmenu\",function(e){\n",
       "        return false;\n",
       "    });\n",
       "\n",
       "    function set_focus () {\n",
       "        canvas.focus();\n",
       "        canvas_div.focus();\n",
       "    }\n",
       "\n",
       "    window.setTimeout(set_focus, 100);\n",
       "}\n",
       "\n",
       "mpl.figure.prototype._init_toolbar = function() {\n",
       "    var fig = this;\n",
       "\n",
       "    var nav_element = $('<div/>')\n",
       "    nav_element.attr('style', 'width: 100%');\n",
       "    this.root.append(nav_element);\n",
       "\n",
       "    // Define a callback function for later on.\n",
       "    function toolbar_event(event) {\n",
       "        return fig.toolbar_button_onclick(event['data']);\n",
       "    }\n",
       "    function toolbar_mouse_event(event) {\n",
       "        return fig.toolbar_button_onmouseover(event['data']);\n",
       "    }\n",
       "\n",
       "    for(var toolbar_ind in mpl.toolbar_items) {\n",
       "        var name = mpl.toolbar_items[toolbar_ind][0];\n",
       "        var tooltip = mpl.toolbar_items[toolbar_ind][1];\n",
       "        var image = mpl.toolbar_items[toolbar_ind][2];\n",
       "        var method_name = mpl.toolbar_items[toolbar_ind][3];\n",
       "\n",
       "        if (!name) {\n",
       "            // put a spacer in here.\n",
       "            continue;\n",
       "        }\n",
       "        var button = $('<button/>');\n",
       "        button.addClass('ui-button ui-widget ui-state-default ui-corner-all ' +\n",
       "                        'ui-button-icon-only');\n",
       "        button.attr('role', 'button');\n",
       "        button.attr('aria-disabled', 'false');\n",
       "        button.click(method_name, toolbar_event);\n",
       "        button.mouseover(tooltip, toolbar_mouse_event);\n",
       "\n",
       "        var icon_img = $('<span/>');\n",
       "        icon_img.addClass('ui-button-icon-primary ui-icon');\n",
       "        icon_img.addClass(image);\n",
       "        icon_img.addClass('ui-corner-all');\n",
       "\n",
       "        var tooltip_span = $('<span/>');\n",
       "        tooltip_span.addClass('ui-button-text');\n",
       "        tooltip_span.html(tooltip);\n",
       "\n",
       "        button.append(icon_img);\n",
       "        button.append(tooltip_span);\n",
       "\n",
       "        nav_element.append(button);\n",
       "    }\n",
       "\n",
       "    var fmt_picker_span = $('<span/>');\n",
       "\n",
       "    var fmt_picker = $('<select/>');\n",
       "    fmt_picker.addClass('mpl-toolbar-option ui-widget ui-widget-content');\n",
       "    fmt_picker_span.append(fmt_picker);\n",
       "    nav_element.append(fmt_picker_span);\n",
       "    this.format_dropdown = fmt_picker[0];\n",
       "\n",
       "    for (var ind in mpl.extensions) {\n",
       "        var fmt = mpl.extensions[ind];\n",
       "        var option = $(\n",
       "            '<option/>', {selected: fmt === mpl.default_extension}).html(fmt);\n",
       "        fmt_picker.append(option)\n",
       "    }\n",
       "\n",
       "    // Add hover states to the ui-buttons\n",
       "    $( \".ui-button\" ).hover(\n",
       "        function() { $(this).addClass(\"ui-state-hover\");},\n",
       "        function() { $(this).removeClass(\"ui-state-hover\");}\n",
       "    );\n",
       "\n",
       "    var status_bar = $('<span class=\"mpl-message\"/>');\n",
       "    nav_element.append(status_bar);\n",
       "    this.message = status_bar[0];\n",
       "}\n",
       "\n",
       "mpl.figure.prototype.request_resize = function(x_pixels, y_pixels) {\n",
       "    // Request matplotlib to resize the figure. Matplotlib will then trigger a resize in the client,\n",
       "    // which will in turn request a refresh of the image.\n",
       "    this.send_message('resize', {'width': x_pixels, 'height': y_pixels});\n",
       "}\n",
       "\n",
       "mpl.figure.prototype.send_message = function(type, properties) {\n",
       "    properties['type'] = type;\n",
       "    properties['figure_id'] = this.id;\n",
       "    this.ws.send(JSON.stringify(properties));\n",
       "}\n",
       "\n",
       "mpl.figure.prototype.send_draw_message = function() {\n",
       "    if (!this.waiting) {\n",
       "        this.waiting = true;\n",
       "        this.ws.send(JSON.stringify({type: \"draw\", figure_id: this.id}));\n",
       "    }\n",
       "}\n",
       "\n",
       "\n",
       "mpl.figure.prototype.handle_save = function(fig, msg) {\n",
       "    var format_dropdown = fig.format_dropdown;\n",
       "    var format = format_dropdown.options[format_dropdown.selectedIndex].value;\n",
       "    fig.ondownload(fig, format);\n",
       "}\n",
       "\n",
       "\n",
       "mpl.figure.prototype.handle_resize = function(fig, msg) {\n",
       "    var size = msg['size'];\n",
       "    if (size[0] != fig.canvas.width || size[1] != fig.canvas.height) {\n",
       "        fig._resize_canvas(size[0], size[1]);\n",
       "        fig.send_message(\"refresh\", {});\n",
       "    };\n",
       "}\n",
       "\n",
       "mpl.figure.prototype.handle_rubberband = function(fig, msg) {\n",
       "    var x0 = msg['x0'];\n",
       "    var y0 = fig.canvas.height - msg['y0'];\n",
       "    var x1 = msg['x1'];\n",
       "    var y1 = fig.canvas.height - msg['y1'];\n",
       "    x0 = Math.floor(x0) + 0.5;\n",
       "    y0 = Math.floor(y0) + 0.5;\n",
       "    x1 = Math.floor(x1) + 0.5;\n",
       "    y1 = Math.floor(y1) + 0.5;\n",
       "    var min_x = Math.min(x0, x1);\n",
       "    var min_y = Math.min(y0, y1);\n",
       "    var width = Math.abs(x1 - x0);\n",
       "    var height = Math.abs(y1 - y0);\n",
       "\n",
       "    fig.rubberband_context.clearRect(\n",
       "        0, 0, fig.canvas.width, fig.canvas.height);\n",
       "\n",
       "    fig.rubberband_context.strokeRect(min_x, min_y, width, height);\n",
       "}\n",
       "\n",
       "mpl.figure.prototype.handle_figure_label = function(fig, msg) {\n",
       "    // Updates the figure title.\n",
       "    fig.header.textContent = msg['label'];\n",
       "}\n",
       "\n",
       "mpl.figure.prototype.handle_cursor = function(fig, msg) {\n",
       "    var cursor = msg['cursor'];\n",
       "    switch(cursor)\n",
       "    {\n",
       "    case 0:\n",
       "        cursor = 'pointer';\n",
       "        break;\n",
       "    case 1:\n",
       "        cursor = 'default';\n",
       "        break;\n",
       "    case 2:\n",
       "        cursor = 'crosshair';\n",
       "        break;\n",
       "    case 3:\n",
       "        cursor = 'move';\n",
       "        break;\n",
       "    }\n",
       "    fig.rubberband_canvas.style.cursor = cursor;\n",
       "}\n",
       "\n",
       "mpl.figure.prototype.handle_message = function(fig, msg) {\n",
       "    fig.message.textContent = msg['message'];\n",
       "}\n",
       "\n",
       "mpl.figure.prototype.handle_draw = function(fig, msg) {\n",
       "    // Request the server to send over a new figure.\n",
       "    fig.send_draw_message();\n",
       "}\n",
       "\n",
       "mpl.figure.prototype.handle_image_mode = function(fig, msg) {\n",
       "    fig.image_mode = msg['mode'];\n",
       "}\n",
       "\n",
       "mpl.figure.prototype.updated_canvas_event = function() {\n",
       "    // Called whenever the canvas gets updated.\n",
       "    this.send_message(\"ack\", {});\n",
       "}\n",
       "\n",
       "// A function to construct a web socket function for onmessage handling.\n",
       "// Called in the figure constructor.\n",
       "mpl.figure.prototype._make_on_message_function = function(fig) {\n",
       "    return function socket_on_message(evt) {\n",
       "        if (evt.data instanceof Blob) {\n",
       "            /* FIXME: We get \"Resource interpreted as Image but\n",
       "             * transferred with MIME type text/plain:\" errors on\n",
       "             * Chrome.  But how to set the MIME type?  It doesn't seem\n",
       "             * to be part of the websocket stream */\n",
       "            evt.data.type = \"image/png\";\n",
       "\n",
       "            /* Free the memory for the previous frames */\n",
       "            if (fig.imageObj.src) {\n",
       "                (window.URL || window.webkitURL).revokeObjectURL(\n",
       "                    fig.imageObj.src);\n",
       "            }\n",
       "\n",
       "            fig.imageObj.src = (window.URL || window.webkitURL).createObjectURL(\n",
       "                evt.data);\n",
       "            fig.updated_canvas_event();\n",
       "            fig.waiting = false;\n",
       "            return;\n",
       "        }\n",
       "        else if (typeof evt.data === 'string' && evt.data.slice(0, 21) == \"data:image/png;base64\") {\n",
       "            fig.imageObj.src = evt.data;\n",
       "            fig.updated_canvas_event();\n",
       "            fig.waiting = false;\n",
       "            return;\n",
       "        }\n",
       "\n",
       "        var msg = JSON.parse(evt.data);\n",
       "        var msg_type = msg['type'];\n",
       "\n",
       "        // Call the  \"handle_{type}\" callback, which takes\n",
       "        // the figure and JSON message as its only arguments.\n",
       "        try {\n",
       "            var callback = fig[\"handle_\" + msg_type];\n",
       "        } catch (e) {\n",
       "            console.log(\"No handler for the '\" + msg_type + \"' message type: \", msg);\n",
       "            return;\n",
       "        }\n",
       "\n",
       "        if (callback) {\n",
       "            try {\n",
       "                // console.log(\"Handling '\" + msg_type + \"' message: \", msg);\n",
       "                callback(fig, msg);\n",
       "            } catch (e) {\n",
       "                console.log(\"Exception inside the 'handler_\" + msg_type + \"' callback:\", e, e.stack, msg);\n",
       "            }\n",
       "        }\n",
       "    };\n",
       "}\n",
       "\n",
       "// from http://stackoverflow.com/questions/1114465/getting-mouse-location-in-canvas\n",
       "mpl.findpos = function(e) {\n",
       "    //this section is from http://www.quirksmode.org/js/events_properties.html\n",
       "    var targ;\n",
       "    if (!e)\n",
       "        e = window.event;\n",
       "    if (e.target)\n",
       "        targ = e.target;\n",
       "    else if (e.srcElement)\n",
       "        targ = e.srcElement;\n",
       "    if (targ.nodeType == 3) // defeat Safari bug\n",
       "        targ = targ.parentNode;\n",
       "\n",
       "    // jQuery normalizes the pageX and pageY\n",
       "    // pageX,Y are the mouse positions relative to the document\n",
       "    // offset() returns the position of the element relative to the document\n",
       "    var x = e.pageX - $(targ).offset().left;\n",
       "    var y = e.pageY - $(targ).offset().top;\n",
       "\n",
       "    return {\"x\": x, \"y\": y};\n",
       "};\n",
       "\n",
       "/*\n",
       " * return a copy of an object with only non-object keys\n",
       " * we need this to avoid circular references\n",
       " * http://stackoverflow.com/a/24161582/3208463\n",
       " */\n",
       "function simpleKeys (original) {\n",
       "  return Object.keys(original).reduce(function (obj, key) {\n",
       "    if (typeof original[key] !== 'object')\n",
       "        obj[key] = original[key]\n",
       "    return obj;\n",
       "  }, {});\n",
       "}\n",
       "\n",
       "mpl.figure.prototype.mouse_event = function(event, name) {\n",
       "    var canvas_pos = mpl.findpos(event)\n",
       "\n",
       "    if (name === 'button_press')\n",
       "    {\n",
       "        this.canvas.focus();\n",
       "        this.canvas_div.focus();\n",
       "    }\n",
       "\n",
       "    var x = canvas_pos.x;\n",
       "    var y = canvas_pos.y;\n",
       "\n",
       "    this.send_message(name, {x: x, y: y, button: event.button,\n",
       "                             step: event.step,\n",
       "                             guiEvent: simpleKeys(event)});\n",
       "\n",
       "    /* This prevents the web browser from automatically changing to\n",
       "     * the text insertion cursor when the button is pressed.  We want\n",
       "     * to control all of the cursor setting manually through the\n",
       "     * 'cursor' event from matplotlib */\n",
       "    event.preventDefault();\n",
       "    return false;\n",
       "}\n",
       "\n",
       "mpl.figure.prototype._key_event_extra = function(event, name) {\n",
       "    // Handle any extra behaviour associated with a key event\n",
       "}\n",
       "\n",
       "mpl.figure.prototype.key_event = function(event, name) {\n",
       "\n",
       "    // Prevent repeat events\n",
       "    if (name == 'key_press')\n",
       "    {\n",
       "        if (event.which === this._key)\n",
       "            return;\n",
       "        else\n",
       "            this._key = event.which;\n",
       "    }\n",
       "    if (name == 'key_release')\n",
       "        this._key = null;\n",
       "\n",
       "    var value = '';\n",
       "    if (event.ctrlKey && event.which != 17)\n",
       "        value += \"ctrl+\";\n",
       "    if (event.altKey && event.which != 18)\n",
       "        value += \"alt+\";\n",
       "    if (event.shiftKey && event.which != 16)\n",
       "        value += \"shift+\";\n",
       "\n",
       "    value += 'k';\n",
       "    value += event.which.toString();\n",
       "\n",
       "    this._key_event_extra(event, name);\n",
       "\n",
       "    this.send_message(name, {key: value,\n",
       "                             guiEvent: simpleKeys(event)});\n",
       "    return false;\n",
       "}\n",
       "\n",
       "mpl.figure.prototype.toolbar_button_onclick = function(name) {\n",
       "    if (name == 'download') {\n",
       "        this.handle_save(this, null);\n",
       "    } else {\n",
       "        this.send_message(\"toolbar_button\", {name: name});\n",
       "    }\n",
       "};\n",
       "\n",
       "mpl.figure.prototype.toolbar_button_onmouseover = function(tooltip) {\n",
       "    this.message.textContent = tooltip;\n",
       "};\n",
       "mpl.toolbar_items = [[\"Home\", \"Reset original view\", \"fa fa-home icon-home\", \"home\"], [\"Back\", \"Back to  previous view\", \"fa fa-arrow-left icon-arrow-left\", \"back\"], [\"Forward\", \"Forward to next view\", \"fa fa-arrow-right icon-arrow-right\", \"forward\"], [\"\", \"\", \"\", \"\"], [\"Pan\", \"Pan axes with left mouse, zoom with right\", \"fa fa-arrows icon-move\", \"pan\"], [\"Zoom\", \"Zoom to rectangle\", \"fa fa-square-o icon-check-empty\", \"zoom\"], [\"\", \"\", \"\", \"\"], [\"Download\", \"Download plot\", \"fa fa-floppy-o icon-save\", \"download\"]];\n",
       "\n",
       "mpl.extensions = [\"eps\", \"jpeg\", \"pdf\", \"png\", \"ps\", \"raw\", \"svg\", \"tif\"];\n",
       "\n",
       "mpl.default_extension = \"png\";var comm_websocket_adapter = function(comm) {\n",
       "    // Create a \"websocket\"-like object which calls the given IPython comm\n",
       "    // object with the appropriate methods. Currently this is a non binary\n",
       "    // socket, so there is still some room for performance tuning.\n",
       "    var ws = {};\n",
       "\n",
       "    ws.close = function() {\n",
       "        comm.close()\n",
       "    };\n",
       "    ws.send = function(m) {\n",
       "        //console.log('sending', m);\n",
       "        comm.send(m);\n",
       "    };\n",
       "    // Register the callback with on_msg.\n",
       "    comm.on_msg(function(msg) {\n",
       "        //console.log('receiving', msg['content']['data'], msg);\n",
       "        // Pass the mpl event to the overriden (by mpl) onmessage function.\n",
       "        ws.onmessage(msg['content']['data'])\n",
       "    });\n",
       "    return ws;\n",
       "}\n",
       "\n",
       "mpl.mpl_figure_comm = function(comm, msg) {\n",
       "    // This is the function which gets called when the mpl process\n",
       "    // starts-up an IPython Comm through the \"matplotlib\" channel.\n",
       "\n",
       "    var id = msg.content.data.id;\n",
       "    // Get hold of the div created by the display call when the Comm\n",
       "    // socket was opened in Python.\n",
       "    var element = $(\"#\" + id);\n",
       "    var ws_proxy = comm_websocket_adapter(comm)\n",
       "\n",
       "    function ondownload(figure, format) {\n",
       "        window.open(figure.imageObj.src);\n",
       "    }\n",
       "\n",
       "    var fig = new mpl.figure(id, ws_proxy,\n",
       "                           ondownload,\n",
       "                           element.get(0));\n",
       "\n",
       "    // Call onopen now - mpl needs it, as it is assuming we've passed it a real\n",
       "    // web socket which is closed, not our websocket->open comm proxy.\n",
       "    ws_proxy.onopen();\n",
       "\n",
       "    fig.parent_element = element.get(0);\n",
       "    fig.cell_info = mpl.find_output_cell(\"<div id='\" + id + \"'></div>\");\n",
       "    if (!fig.cell_info) {\n",
       "        console.error(\"Failed to find cell for figure\", id, fig);\n",
       "        return;\n",
       "    }\n",
       "\n",
       "    var output_index = fig.cell_info[2]\n",
       "    var cell = fig.cell_info[0];\n",
       "\n",
       "};\n",
       "\n",
       "mpl.figure.prototype.handle_close = function(fig, msg) {\n",
       "    fig.root.unbind('remove')\n",
       "\n",
       "    // Update the output cell to use the data from the current canvas.\n",
       "    fig.push_to_output();\n",
       "    var dataURL = fig.canvas.toDataURL();\n",
       "    // Re-enable the keyboard manager in IPython - without this line, in FF,\n",
       "    // the notebook keyboard shortcuts fail.\n",
       "    IPython.keyboard_manager.enable()\n",
       "    $(fig.parent_element).html('<img src=\"' + dataURL + '\">');\n",
       "    fig.close_ws(fig, msg);\n",
       "}\n",
       "\n",
       "mpl.figure.prototype.close_ws = function(fig, msg){\n",
       "    fig.send_message('closing', msg);\n",
       "    // fig.ws.close()\n",
       "}\n",
       "\n",
       "mpl.figure.prototype.push_to_output = function(remove_interactive) {\n",
       "    // Turn the data on the canvas into data in the output cell.\n",
       "    var dataURL = this.canvas.toDataURL();\n",
       "    this.cell_info[1]['text/html'] = '<img src=\"' + dataURL + '\">';\n",
       "}\n",
       "\n",
       "mpl.figure.prototype.updated_canvas_event = function() {\n",
       "    // Tell IPython that the notebook contents must change.\n",
       "    IPython.notebook.set_dirty(true);\n",
       "    this.send_message(\"ack\", {});\n",
       "    var fig = this;\n",
       "    // Wait a second, then push the new image to the DOM so\n",
       "    // that it is saved nicely (might be nice to debounce this).\n",
       "    setTimeout(function () { fig.push_to_output() }, 1000);\n",
       "}\n",
       "\n",
       "mpl.figure.prototype._init_toolbar = function() {\n",
       "    var fig = this;\n",
       "\n",
       "    var nav_element = $('<div/>')\n",
       "    nav_element.attr('style', 'width: 100%');\n",
       "    this.root.append(nav_element);\n",
       "\n",
       "    // Define a callback function for later on.\n",
       "    function toolbar_event(event) {\n",
       "        return fig.toolbar_button_onclick(event['data']);\n",
       "    }\n",
       "    function toolbar_mouse_event(event) {\n",
       "        return fig.toolbar_button_onmouseover(event['data']);\n",
       "    }\n",
       "\n",
       "    for(var toolbar_ind in mpl.toolbar_items){\n",
       "        var name = mpl.toolbar_items[toolbar_ind][0];\n",
       "        var tooltip = mpl.toolbar_items[toolbar_ind][1];\n",
       "        var image = mpl.toolbar_items[toolbar_ind][2];\n",
       "        var method_name = mpl.toolbar_items[toolbar_ind][3];\n",
       "\n",
       "        if (!name) { continue; };\n",
       "\n",
       "        var button = $('<button class=\"btn btn-default\" href=\"#\" title=\"' + name + '\"><i class=\"fa ' + image + ' fa-lg\"></i></button>');\n",
       "        button.click(method_name, toolbar_event);\n",
       "        button.mouseover(tooltip, toolbar_mouse_event);\n",
       "        nav_element.append(button);\n",
       "    }\n",
       "\n",
       "    // Add the status bar.\n",
       "    var status_bar = $('<span class=\"mpl-message\" style=\"text-align:right; float: right;\"/>');\n",
       "    nav_element.append(status_bar);\n",
       "    this.message = status_bar[0];\n",
       "\n",
       "    // Add the close button to the window.\n",
       "    var buttongrp = $('<div class=\"btn-group inline pull-right\"></div>');\n",
       "    var button = $('<button class=\"btn btn-mini btn-primary\" href=\"#\" title=\"Stop Interaction\"><i class=\"fa fa-power-off icon-remove icon-large\"></i></button>');\n",
       "    button.click(function (evt) { fig.handle_close(fig, {}); } );\n",
       "    button.mouseover('Stop Interaction', toolbar_mouse_event);\n",
       "    buttongrp.append(button);\n",
       "    var titlebar = this.root.find($('.ui-dialog-titlebar'));\n",
       "    titlebar.prepend(buttongrp);\n",
       "}\n",
       "\n",
       "mpl.figure.prototype._root_extra_style = function(el){\n",
       "    var fig = this\n",
       "    el.on(\"remove\", function(){\n",
       "\tfig.close_ws(fig, {});\n",
       "    });\n",
       "}\n",
       "\n",
       "mpl.figure.prototype._canvas_extra_style = function(el){\n",
       "    // this is important to make the div 'focusable\n",
       "    el.attr('tabindex', 0)\n",
       "    // reach out to IPython and tell the keyboard manager to turn it's self\n",
       "    // off when our div gets focus\n",
       "\n",
       "    // location in version 3\n",
       "    if (IPython.notebook.keyboard_manager) {\n",
       "        IPython.notebook.keyboard_manager.register_events(el);\n",
       "    }\n",
       "    else {\n",
       "        // location in version 2\n",
       "        IPython.keyboard_manager.register_events(el);\n",
       "    }\n",
       "\n",
       "}\n",
       "\n",
       "mpl.figure.prototype._key_event_extra = function(event, name) {\n",
       "    var manager = IPython.notebook.keyboard_manager;\n",
       "    if (!manager)\n",
       "        manager = IPython.keyboard_manager;\n",
       "\n",
       "    // Check for shift+enter\n",
       "    if (event.shiftKey && event.which == 13) {\n",
       "        this.canvas_div.blur();\n",
       "        event.shiftKey = false;\n",
       "        // Send a \"J\" for go to next cell\n",
       "        event.which = 74;\n",
       "        event.keyCode = 74;\n",
       "        manager.command_mode();\n",
       "        manager.handle_keydown(event);\n",
       "    }\n",
       "}\n",
       "\n",
       "mpl.figure.prototype.handle_save = function(fig, msg) {\n",
       "    fig.ondownload(fig, null);\n",
       "}\n",
       "\n",
       "\n",
       "mpl.find_output_cell = function(html_output) {\n",
       "    // Return the cell and output element which can be found *uniquely* in the notebook.\n",
       "    // Note - this is a bit hacky, but it is done because the \"notebook_saving.Notebook\"\n",
       "    // IPython event is triggered only after the cells have been serialised, which for\n",
       "    // our purposes (turning an active figure into a static one), is too late.\n",
       "    var cells = IPython.notebook.get_cells();\n",
       "    var ncells = cells.length;\n",
       "    for (var i=0; i<ncells; i++) {\n",
       "        var cell = cells[i];\n",
       "        if (cell.cell_type === 'code'){\n",
       "            for (var j=0; j<cell.output_area.outputs.length; j++) {\n",
       "                var data = cell.output_area.outputs[j];\n",
       "                if (data.data) {\n",
       "                    // IPython >= 3 moved mimebundle to data attribute of output\n",
       "                    data = data.data;\n",
       "                }\n",
       "                if (data['text/html'] == html_output) {\n",
       "                    return [cell, data, j];\n",
       "                }\n",
       "            }\n",
       "        }\n",
       "    }\n",
       "}\n",
       "\n",
       "// Register the function which deals with the matplotlib target/channel.\n",
       "// The kernel may be null if the page has been refreshed.\n",
       "if (IPython.notebook.kernel != null) {\n",
       "    IPython.notebook.kernel.comm_manager.register_target('matplotlib', mpl.mpl_figure_comm);\n",
       "}\n"
      ],
      "text/plain": [
       "<IPython.core.display.Javascript object>"
      ]
     },
     "metadata": {},
     "output_type": "display_data"
    },
    {
     "data": {
      "text/html": [
       "<img src=\"data:image/png;base64,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\">"
      ],
      "text/plain": [
       "<IPython.core.display.HTML object>"
      ]
     },
     "metadata": {},
     "output_type": "display_data"
    }
   ],
   "source": [
    "%matplotlib notebook\n",
    "networkx.draw_networkx(new_graph,arrows=True,\n",
    "                       labels={node:rect_graph.node_descriptions[index] for index, \n",
    "                               node in enumerate(rect_graph.node_names)},node_size=1500,font_size=10)\n"
   ]
  },
  {
   "cell_type": "code",
   "execution_count": 7,
   "metadata": {
    "collapsed": true
   },
   "outputs": [],
   "source": [
    "def html_file_to_pandas(html_file_name):\n",
    "    in_file=open(html_file_name,'r')\n",
    "    pandas_data_frame=pandas.read_html(in_file,header=0)\n",
    "    return pandas_data_frame"
   ]
  },
  {
   "cell_type": "code",
   "execution_count": 33,
   "metadata": {
    "collapsed": false
   },
   "outputs": [],
   "source": [
    "df=pandas.read_csv(\"test.csv\")"
   ]
  },
  {
   "cell_type": "code",
   "execution_count": 26,
   "metadata": {
    "collapsed": false
   },
   "outputs": [
    {
     "data": {
      "text/plain": [
       "Index([u'Frequency', u'argS11', u'magS11', u'uAa', u'uAb', u'uAd', u'uAg',\n",
       "       u'uMa', u'uMb', u'uMd', u'uMg'],\n",
       "      dtype='object')"
      ]
     },
     "execution_count": 26,
     "metadata": {},
     "output_type": "execute_result"
    }
   ],
   "source": [
    "df.columns\n"
   ]
  },
  {
   "cell_type": "code",
   "execution_count": 735,
   "metadata": {
    "collapsed": false
   },
   "outputs": [
    {
     "ename": "AttributeError",
     "evalue": "'list' object has no attribute 'columns'",
     "output_type": "error",
     "traceback": [
      "\u001b[1;31m---------------------------------------------------------------------------\u001b[0m",
      "\u001b[1;31mAttributeError\u001b[0m                            Traceback (most recent call last)",
      "\u001b[1;32m<ipython-input-735-6a4642092433>\u001b[0m in \u001b[0;36m<module>\u001b[1;34m()\u001b[0m\n\u001b[1;32m----> 1\u001b[1;33m \u001b[0mdf\u001b[0m\u001b[1;33m.\u001b[0m\u001b[0mcolumns\u001b[0m\u001b[1;33m\u001b[0m\u001b[0m\n\u001b[0m",
      "\u001b[1;31mAttributeError\u001b[0m: 'list' object has no attribute 'columns'"
     ]
    }
   ],
   "source": [
    "df.columns\n"
   ]
  },
  {
   "cell_type": "code",
   "execution_count": 10,
   "metadata": {
    "collapsed": true
   },
   "outputs": [],
   "source": [
    "import lxml"
   ]
  },
  {
   "cell_type": "code",
   "execution_count": 17,
   "metadata": {
    "collapsed": false
   },
   "outputs": [],
   "source": [
    "import sqlite3\n",
    "connection=sqlite3.connect('test.db')"
   ]
  },
  {
   "cell_type": "code",
   "execution_count": 18,
   "metadata": {
    "collapsed": true
   },
   "outputs": [],
   "source": [
    "cursor=connection.cursor()"
   ]
  },
  {
   "cell_type": "code",
   "execution_count": 21,
   "metadata": {
    "collapsed": false
   },
   "outputs": [],
   "source": [
    "import odo"
   ]
  },
  {
   "cell_type": "code",
   "execution_count": 96,
   "metadata": {
    "collapsed": true
   },
   "outputs": [],
   "source": [
    "def DataFrame_to_sqlite(pandas_data_frame,file_name=\"test.db\",table_name=\"data\"):\n",
    "    \"\"\"Transforms a pandas.DataFrame to a table in an sqlite database\"\"\"\n",
    "    connection=sqlite3.connect(file_name)\n",
    "    sql_url=\"sqlite:///{0}::{1}\".format(file_name,table_name)\n",
    "    odo.odo(pandas_data_frame,sql_url)\n",
    "    return sql_url\n",
    "\n",
    "def sqlite_to_DataFrame(sqlite_url):\n",
    "    \"\"\"Creates a pandas.DataFrame from a table in an sqlite database (use sqlite:///file_name::table_name)\"\"\"\n",
    "    pandas_data_frame=pandas.DataFrame()\n",
    "    odo.odo(sqlite_url,pandas_data_frame)\n",
    "    return pandas_data_frame"
   ]
  },
  {
   "cell_type": "code",
   "execution_count": 34,
   "metadata": {
    "collapsed": false
   },
   "outputs": [
    {
     "data": {
      "text/plain": [
       "Table('data', MetaData(bind=Engine(sqlite:///test.db)), Column('Frequency', FLOAT(), table=<data>, nullable=False), Column('argS11', FLOAT(), table=<data>, nullable=False), Column('magS11', FLOAT(), table=<data>, nullable=False), Column('uAa', FLOAT(), table=<data>, nullable=False), Column('uAb', FLOAT(), table=<data>, nullable=False), Column('uAd', FLOAT(), table=<data>, nullable=False), Column('uAg', FLOAT(), table=<data>, nullable=False), Column('uMa', FLOAT(), table=<data>, nullable=False), Column('uMb', FLOAT(), table=<data>, nullable=False), Column('uMd', FLOAT(), table=<data>, nullable=False), Column('uMg', FLOAT(), table=<data>, nullable=False), schema=None)"
      ]
     },
     "execution_count": 34,
     "metadata": {},
     "output_type": "execute_result"
    }
   ],
   "source": [
    "odo.odo(df,'sqlite:///test.db::data')"
   ]
  },
  {
   "cell_type": "code",
   "execution_count": 29,
   "metadata": {
    "collapsed": false
   },
   "outputs": [],
   "source": [
    "out=cursor.execute(\"SELECT * FROM data\")"
   ]
  },
  {
   "cell_type": "code",
   "execution_count": 35,
   "metadata": {
    "collapsed": false
   },
   "outputs": [],
   "source": [
    "new_data_frame=odo.odo('sqlite:///test.db::data',pandas.DataFrame)"
   ]
  },
  {
   "cell_type": "code",
   "execution_count": 37,
   "metadata": {
    "collapsed": false
   },
   "outputs": [],
   "source": [
    "ascii=DataFrame_to_AsciiDataTable(new_data_frame)"
   ]
  },
  {
   "cell_type": "code",
   "execution_count": 97,
   "metadata": {
    "collapsed": false
   },
   "outputs": [
    {
     "ename": "TypeError",
     "evalue": "target of <class 'pandas.core.frame.DataFrame'> type does not support in-place append",
     "output_type": "error",
     "traceback": [
      "\u001b[1;31m---------------------------------------------------------------------------\u001b[0m",
      "\u001b[1;31mTypeError\u001b[0m                                 Traceback (most recent call last)",
      "\u001b[1;32m<ipython-input-97-32cfab36c2b6>\u001b[0m in \u001b[0;36m<module>\u001b[1;34m()\u001b[0m\n\u001b[1;32m----> 1\u001b[1;33m \u001b[0mdf\u001b[0m\u001b[1;33m=\u001b[0m\u001b[0msqlite_to_DataFrame\u001b[0m\u001b[1;33m(\u001b[0m\u001b[1;34m'sqlite:///test.db::data'\u001b[0m\u001b[1;33m)\u001b[0m\u001b[1;33m\u001b[0m\u001b[0m\n\u001b[0m",
      "\u001b[1;32m<ipython-input-96-9cb3cadddf49>\u001b[0m in \u001b[0;36msqlite_to_DataFrame\u001b[1;34m(sqlite_url)\u001b[0m\n\u001b[0;32m      9\u001b[0m     \u001b[1;34m\"\"\"Creates a pandas.DataFrame from a table in an sqlite database (use sqlite:///file_name::table_name)\"\"\"\u001b[0m\u001b[1;33m\u001b[0m\u001b[0m\n\u001b[0;32m     10\u001b[0m     \u001b[0mpandas_data_frame\u001b[0m\u001b[1;33m=\u001b[0m\u001b[0mpandas\u001b[0m\u001b[1;33m.\u001b[0m\u001b[0mDataFrame\u001b[0m\u001b[1;33m(\u001b[0m\u001b[1;33m)\u001b[0m\u001b[1;33m\u001b[0m\u001b[0m\n\u001b[1;32m---> 11\u001b[1;33m     \u001b[0modo\u001b[0m\u001b[1;33m.\u001b[0m\u001b[0modo\u001b[0m\u001b[1;33m(\u001b[0m\u001b[0msqlite_url\u001b[0m\u001b[1;33m,\u001b[0m\u001b[0mpandas_data_frame\u001b[0m\u001b[1;33m)\u001b[0m\u001b[1;33m\u001b[0m\u001b[0m\n\u001b[0m\u001b[0;32m     12\u001b[0m     \u001b[1;32mreturn\u001b[0m \u001b[0mpandas_data_frame\u001b[0m\u001b[1;33m\u001b[0m\u001b[0m\n",
      "\u001b[1;32mC:\\Anaconda2\\lib\\site-packages\\odo\\odo.pyc\u001b[0m in \u001b[0;36modo\u001b[1;34m(source, target, **kwargs)\u001b[0m\n\u001b[0;32m     89\u001b[0m     \u001b[0modo\u001b[0m\u001b[1;33m.\u001b[0m\u001b[0mappend\u001b[0m\u001b[1;33m.\u001b[0m\u001b[0mappend\u001b[0m      \u001b[1;33m-\u001b[0m \u001b[0mAdd\u001b[0m \u001b[0mthings\u001b[0m \u001b[0monto\u001b[0m \u001b[0mexisting\u001b[0m \u001b[0mthings\u001b[0m\u001b[1;33m\u001b[0m\u001b[0m\n\u001b[0;32m     90\u001b[0m     \"\"\"\n\u001b[1;32m---> 91\u001b[1;33m     \u001b[1;32mreturn\u001b[0m \u001b[0minto\u001b[0m\u001b[1;33m(\u001b[0m\u001b[0mtarget\u001b[0m\u001b[1;33m,\u001b[0m \u001b[0msource\u001b[0m\u001b[1;33m,\u001b[0m \u001b[1;33m**\u001b[0m\u001b[0mkwargs\u001b[0m\u001b[1;33m)\u001b[0m\u001b[1;33m\u001b[0m\u001b[0m\n\u001b[0m",
      "\u001b[1;32mC:\\Anaconda2\\lib\\site-packages\\multipledispatch\\dispatcher.pyc\u001b[0m in \u001b[0;36m__call__\u001b[1;34m(self, *args, **kwargs)\u001b[0m\n\u001b[0;32m    162\u001b[0m             \u001b[0mself\u001b[0m\u001b[1;33m.\u001b[0m\u001b[0m_cache\u001b[0m\u001b[1;33m[\u001b[0m\u001b[0mtypes\u001b[0m\u001b[1;33m]\u001b[0m \u001b[1;33m=\u001b[0m \u001b[0mfunc\u001b[0m\u001b[1;33m\u001b[0m\u001b[0m\n\u001b[0;32m    163\u001b[0m         \u001b[1;32mtry\u001b[0m\u001b[1;33m:\u001b[0m\u001b[1;33m\u001b[0m\u001b[0m\n\u001b[1;32m--> 164\u001b[1;33m             \u001b[1;32mreturn\u001b[0m \u001b[0mfunc\u001b[0m\u001b[1;33m(\u001b[0m\u001b[1;33m*\u001b[0m\u001b[0margs\u001b[0m\u001b[1;33m,\u001b[0m \u001b[1;33m**\u001b[0m\u001b[0mkwargs\u001b[0m\u001b[1;33m)\u001b[0m\u001b[1;33m\u001b[0m\u001b[0m\n\u001b[0m\u001b[0;32m    165\u001b[0m \u001b[1;33m\u001b[0m\u001b[0m\n\u001b[0;32m    166\u001b[0m         \u001b[1;32mexcept\u001b[0m \u001b[0mMDNotImplementedError\u001b[0m\u001b[1;33m:\u001b[0m\u001b[1;33m\u001b[0m\u001b[0m\n",
      "\u001b[1;32mC:\\Anaconda2\\lib\\site-packages\\odo\\into.pyc\u001b[0m in \u001b[0;36mwrapped\u001b[1;34m(*args, **kwargs)\u001b[0m\n\u001b[0;32m     41\u001b[0m             \u001b[1;32mraise\u001b[0m \u001b[0mTypeError\u001b[0m\u001b[1;33m(\u001b[0m\u001b[1;34m'dshape argument is not an instance of DataShape'\u001b[0m\u001b[1;33m)\u001b[0m\u001b[1;33m\u001b[0m\u001b[0m\n\u001b[0;32m     42\u001b[0m         \u001b[0mkwargs\u001b[0m\u001b[1;33m[\u001b[0m\u001b[1;34m'dshape'\u001b[0m\u001b[1;33m]\u001b[0m \u001b[1;33m=\u001b[0m \u001b[0mdshape\u001b[0m\u001b[1;33m\u001b[0m\u001b[0m\n\u001b[1;32m---> 43\u001b[1;33m         \u001b[1;32mreturn\u001b[0m \u001b[0mf\u001b[0m\u001b[1;33m(\u001b[0m\u001b[1;33m*\u001b[0m\u001b[0margs\u001b[0m\u001b[1;33m,\u001b[0m \u001b[1;33m**\u001b[0m\u001b[0mkwargs\u001b[0m\u001b[1;33m)\u001b[0m\u001b[1;33m\u001b[0m\u001b[0m\n\u001b[0m\u001b[0;32m     44\u001b[0m     \u001b[1;32mreturn\u001b[0m \u001b[0mwrapped\u001b[0m\u001b[1;33m\u001b[0m\u001b[0m\n\u001b[0;32m     45\u001b[0m \u001b[1;33m\u001b[0m\u001b[0m\n",
      "\u001b[1;32mC:\\Anaconda2\\lib\\site-packages\\odo\\into.pyc\u001b[0m in \u001b[0;36minto_object\u001b[1;34m(target, source, dshape, **kwargs)\u001b[0m\n\u001b[0;32m    125\u001b[0m         \u001b[0msource\u001b[0m \u001b[1;33m=\u001b[0m \u001b[0mresource\u001b[0m\u001b[1;33m(\u001b[0m\u001b[0msource\u001b[0m\u001b[1;33m,\u001b[0m \u001b[0mdshape\u001b[0m\u001b[1;33m=\u001b[0m\u001b[0mdshape\u001b[0m\u001b[1;33m,\u001b[0m \u001b[1;33m**\u001b[0m\u001b[0mkwargs\u001b[0m\u001b[1;33m)\u001b[0m\u001b[1;33m\u001b[0m\u001b[0m\n\u001b[0;32m    126\u001b[0m     \u001b[1;32mif\u001b[0m \u001b[0mtype\u001b[0m\u001b[1;33m(\u001b[0m\u001b[0mtarget\u001b[0m\u001b[1;33m)\u001b[0m \u001b[1;32min\u001b[0m \u001b[0mnot_appendable_types\u001b[0m\u001b[1;33m:\u001b[0m\u001b[1;33m\u001b[0m\u001b[0m\n\u001b[1;32m--> 127\u001b[1;33m         \u001b[1;32mraise\u001b[0m \u001b[0mTypeError\u001b[0m\u001b[1;33m(\u001b[0m\u001b[1;34m'target of %s type does not support in-place append'\u001b[0m \u001b[1;33m%\u001b[0m \u001b[0mtype\u001b[0m\u001b[1;33m(\u001b[0m\u001b[0mtarget\u001b[0m\u001b[1;33m)\u001b[0m\u001b[1;33m)\u001b[0m\u001b[1;33m\u001b[0m\u001b[0m\n\u001b[0m\u001b[0;32m    128\u001b[0m     \u001b[1;32mwith\u001b[0m \u001b[0mignoring\u001b[0m\u001b[1;33m(\u001b[0m\u001b[0mNotImplementedError\u001b[0m\u001b[1;33m)\u001b[0m\u001b[1;33m:\u001b[0m\u001b[1;33m\u001b[0m\u001b[0m\n\u001b[0;32m    129\u001b[0m         \u001b[1;32mif\u001b[0m \u001b[0mdshape\u001b[0m \u001b[1;32mis\u001b[0m \u001b[0mNone\u001b[0m\u001b[1;33m:\u001b[0m\u001b[1;33m\u001b[0m\u001b[0m\n",
      "\u001b[1;31mTypeError\u001b[0m: target of <class 'pandas.core.frame.DataFrame'> type does not support in-place append"
     ]
    }
   ],
   "source": [
    "df=sqlite_to_DataFrame('sqlite:///test.db::data')"
   ]
  },
  {
   "cell_type": "code",
   "execution_count": 95,
   "metadata": {
    "collapsed": false
   },
   "outputs": [
    {
     "data": {
      "text/plain": [
       "pandas.core.frame.DataFrame"
      ]
     },
     "execution_count": 95,
     "metadata": {},
     "output_type": "execute_result"
    }
   ],
   "source": [
    "df"
   ]
  },
  {
   "cell_type": "code",
   "execution_count": null,
   "metadata": {
    "collapsed": true
   },
   "outputs": [],
   "source": []
  }
 ],
 "metadata": {
  "kernelspec": {
   "display_name": "Python 2",
   "language": "python",
   "name": "python2"
  },
  "language_info": {
   "codemirror_mode": {
    "name": "ipython",
    "version": 2
   },
   "file_extension": ".py",
   "mimetype": "text/x-python",
   "name": "python",
   "nbconvert_exporter": "python",
   "pygments_lexer": "ipython2",
   "version": "2.7.12"
  }
 },
 "nbformat": 4,
 "nbformat_minor": 0
}
