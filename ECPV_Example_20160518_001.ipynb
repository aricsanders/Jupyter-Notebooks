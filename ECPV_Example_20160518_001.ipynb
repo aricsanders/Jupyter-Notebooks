{
 "cells": [
  {
   "cell_type": "markdown",
   "metadata": {},
   "source": [
    "# The ECPV data model\n",
    "+ ECPV stands for Entity-Context-Property-Value\n",
    "+ ECPV is a data model for metadata concerning a set of entities. It is a subset of EAV (Entity-Attribute-Value).\n",
    "+ The ECPV model has similar goals to [RDF] [rdf], but different design and implementation. It is fact based and not assertion based.  \n",
    "\n",
    "## Basic Data Pattern\n",
    "1. A list (or Array) of entities. This list of entities can be comprised of any column-modeled facts, as long as:\n",
    "    a. Each row is distinct. An entity must be unique in the list. \n",
    "    b. There is a way to designate the ECPV file or object itself, i.e there is a place holder or way to describe the file or object containing the descriptions. (self)\n",
    "2. A list or set of contexts such that:\n",
    "    a. Each context has a property ('obligate contexts') that communicates any extra data tables required to describe the context itself. These will be other contexts. \n",
    "    b. The understood or implicit context is the EPCV file or object (self)\n",
    "3. A list of property or attribute names that is:\n",
    "    a. comprised of a list of strings (naming restrictions can be context dependent). Each property name is a single string.  \n",
    "    b. When taken with a context and entity form a unique identifier (independent variable)\n",
    "4. A list of property or attribute values \n",
    "    a. That is associated with one and only one ECP triple (single valued). That is ECP can be thought of a hash table (name) for v.\n",
    "\n",
    "## Closed, Open, Abstract\n",
    "An ECPV model is called __closed__ if all the entities contained in the Entitiy list are availible to the interptreting agent (program). For example, if all the entitites are files located on the computer reading the ECPV and not blocked by permissions.\n",
    "An ECPV model is called __open__ if all the entities are electronic resources, but may or may not be resolvable. Websites or files on other computers\n",
    "An ECPV model is called __abstract__ if the entities do not represent electronic resources  \n",
    "\n",
    "### The E in ECPV\n",
    "1. E is for entity, and it can refer to a table of records or the file that the description is in. \n",
    "2. If E is a table of records then it is assumed to be in the relational database 1st normal form, or simply that each row is composed of a fixed number of columns (no ragged lists) and each row is uniquely identifiable. Different Entity lists or tables can use a context to provide a description.\n",
    "3. If the entity is not implicit ( a list or outside of the file itself) there must be a reserved place for describing the entity that contains the description. (reserved idea of self description)\n",
    "\n",
    "### The C in ECPV\n",
    "1. C is for context. A context is the knowledge system used to describe the entity, it consists of all of the properties used in that specific context and a set of facts about those properties.\n",
    "2. The facts describing a property are stored in obligate contexts. A set of obligate contexts can be thought of as a free form schema for a particular context, effectively defining all facts about the ECP combination. Obligate is a reserved idea. In addition, default is a reserved idea, that is for obligate-contexts that do not have properties defined they are assumed to be default is specified. \n",
    "3. If a context is not specified it is ambigous, but assumed to be first the file that the description occurs in, and second (if needed) the program that uses the file the description is in and third the program that authored the file the description is in.\n",
    "\n",
    "### The P in ECPV\n",
    "1. P is for property. It is a character encoded string representing some aspect to be described. It can be thought of as an attribute name, but can represent relationships. \n",
    " \n",
    "\n",
    "### The V in ECPV\n",
    "1. V is for value. It can be anything that can be represented electronically and should follow the descriptions found in the obligate contexts. \n",
    "2. V is single valued for a particular ECP combination. That is ECP can only return one thing at any given instant in time. \n",
    "\n",
    "\n"
   ]
  },
  {
   "cell_type": "markdown",
   "metadata": {},
   "source": [
    "# Implementation Strategies\n",
    "\n",
    "## RDBMS strategy\n",
    "1. Define an entity table using a number of columns needed to uniquely identify an object. Create an artifical key that will be used internally.\n",
    "2. Create a context (named for the knowledge system or program that uses it) table. This table should have a list of properties (propert name) and any needed fields such as (type,etc),\n",
    "3. Create a description table or tables with a Foriegn Key from both the entity table and context table. Use the context table to type the property=value pairs.\n",
    "\n",
    "## XML Strategy I\n",
    "1. Create an XML file with a root element such as `<Entity_Registry>` and sub elements for each Object or Entity with attributes names \n",
    "```xml\n",
    "<Entity url=\"http://localhost:8888/notebooks/PyCharmProjects/Jupyter-Notebooks/ECPV_Example_20160518_001.ipynb#\" date_added='2016-05-19'/>``` \n",
    ".\n",
    "2. Create a second file that has identical elements as 1. with the Entity elements as complex elements.\n",
    "```xml\n",
    "<Metadata_Registry><Entity url=\"http://localhost:8888/notebooks/PyCharmProjects/Jupyter-Notebooks/ECPV_Example_20160518_001.ipynb#\" date_added='2016-05-19'> <Property_1>Value_1</Proerty_1></Entity></Metadata>```\n",
    "3. Create a XSD or DTD that satisfies the needs of the obligate-contexts\n",
    "\n",
    "## Python"
   ]
  },
  {
   "cell_type": "code",
   "execution_count": 8,
   "metadata": {
    "collapsed": true
   },
   "outputs": [],
   "source": [
    "import re"
   ]
  },
  {
   "cell_type": "code",
   "execution_count": 5,
   "metadata": {
    "collapsed": false
   },
   "outputs": [
    {
     "data": {
      "text/plain": [
       "{'self/self/color': 'Red'}"
      ]
     },
     "execution_count": 5,
     "metadata": {},
     "output_type": "execute_result"
    }
   ],
   "source": [
    "class ContextModel():\n",
    "    \"\"\"Context model for ECPV\"\"\"\n",
    "    def __init__(file_path=None,**options):\n",
    "        \"\"\"Intialize the ContextModel Class, open it if it is a file or create a new one\"\"\"\n",
    "        defaults={\"properties\":[],'obligates':None,'name':None}\n",
    "        self.options={}\n",
    "        for key,value in defaults.iteritems():\n",
    "            self.options[key]=value\n",
    "        for key,value in options.iteritems():\n",
    "            self.options[key]=value\n",
    "        attributes=['properties','obligates','name']\n",
    "        for attribute in attributes:\n",
    "            self.__dict__[attribute]=self.options[attribute]\n",
    "            \n",
    "    def add_obligate(self,obligate_context_name, obligate_context_default=None,obligate_fact_dictionary=None):\n",
    "        \"\"\"Adds an obligate context (Metadata table about the properties)\"\"\"\n",
    "        self.obligates.append(obligate_context_name)\n",
    "        self.obligate_defaults.append(obligate_context_default)\n",
    "        if obligate_fact_dictionary is not None:\n",
    "            self.__dict__[obligate_context_name]=obligate_fact_dictionary\n",
    "                \n",
    "    def add_property(property_name,obligate_values=None):\n",
    "        \"\"\"Adds a property to the context, if obligate values is a list of length equal to self.obligates \n",
    "        it assumes them to be in order. If it is a dictionary, the key should be the obligate context name and \n",
    "        the value should be the value. The new obligate dictionary will be self.obligate_context_name[property_name]\n",
    "        = value. Only adds values where they are defined.  \"\"\"\n",
    "        try:\n",
    "            self.properties.append(property_name)\n",
    "            if obligate_values:\n",
    "                if type(obligate_values) is ListType and len(obligate_values)==len(self.obligates): \n",
    "                    for index,obligate in enumerate(self.obligates[:]):\n",
    "                        self.__dict__[obligate][property_name]=obligate_values[index]\n",
    "                elif type(obligate_values) is DictType:\n",
    "                    for obligate,value in obligate_values.iteritems():\n",
    "                        self.__dict__[obligate][property_name]=value\n",
    "\n",
    "        except:\n",
    "            print(\"Could not add property {0}\".format(property_value))\n",
    "\n",
    "            \n",
    "            \n",
    "            # a python class implementation\n",
    "# simplest form is a list-list-dictionary where for each index in the top most list there is a context that is then\n",
    "# a list of property:value pairs or actually just a dictionary with a string for a key and self/self is understood\n",
    "class ECPV():\n",
    "    \"\"\"Test class for ECPV data model\"\"\"\n",
    "    def __init__(self):\n",
    "        \"\"\"Intializes the ECPV data model\"\"\"\n",
    "        self.entities=['self']\n",
    "        self.contexts=['self']\n",
    "        self.property_names=['color']\n",
    "        key=self.entities[0]+\"/\"+self.contexts[0]+\"/\"+self.property_names[0]\n",
    "        self.descriptions={key:\"Red\"}\n",
    "\n",
    "new=ECPV()\n",
    "new.descriptions\n",
    "        "
   ]
  },
  {
   "cell_type": "code",
   "execution_count": null,
   "metadata": {
    "collapsed": true
   },
   "outputs": [],
   "source": [
    "xml_string=\"<Entity name='self'><Context name='self'><Color>Red</Color></Context><Entity>\""
   ]
  },
  {
   "cell_type": "code",
   "execution_count": 6,
   "metadata": {
    "collapsed": true
   },
   "outputs": [],
   "source": [
    "header=\"\"\"Date of test: 2015 March 11 8.0 - 12.0 GHz\n",
    "Directory:  N:\\artifact\\X1\\x12zhz.137\\Calibrations\\2015 March 11 8.0 - 12.0 GHz\n",
    "File name:  Raw_15Mar11_14.25-3.txt\n",
    "\n",
    "Frequency list (GHz):  8.000\t9.000\t10.000\t11.000\t12.000\n",
    "\n",
    "Customer: Northrup Grumman Space Tech\n",
    "Address:  2477 Manhattan Beach Blvd\n",
    "Redondo Beach, CA 90278\n",
    "\n",
    "DUT:  x12zhz.137\n",
    "Operator: DG\n",
    "Remarks: DUT 811454 Cal #23\n",
    "\n",
    "Amb Std: THTZ.010 on port 1\n",
    "Cryo Std: PS2ZCZ.200 on port 2\n",
    "Chk Std: x12zhz.137 on port 4\n",
    "DUT 2: 811454 on port 6\n",
    "\n",
    "\n",
    "\n",
    "++++++++++++++++++++++++++++++++++++\n",
    "DUT 1: x12zhz.137 on port 4\n",
    "++++++++++++++++++++++++++++++++++++\"\"\"\n"
   ]
  },
  {
   "cell_type": "code",
   "execution_count": 13,
   "metadata": {
    "collapsed": false
   },
   "outputs": [],
   "source": [
    "header_line_list=header.splitlines()\n",
    "header_pattern=re.compile('(?P<header_name>^.*?):(?P<header_value>.*)')\n",
    "header_dictionary={}\n",
    "for i,line in enumerate(header_line_list):\n",
    "    try:\n",
    "        match_list=re.search(header_pattern,line)\n",
    "        if match_list:\n",
    "            key=match_list.group('header_name').replace(' ','_')\n",
    "            key=key.translate(None,'()~!#$%^&*{}[]<>?;')\n",
    "            key=key.strip()\n",
    "            value=match_list.group('header_value')\n",
    "            if re.match('Address',key):\n",
    "                value=value+', '+header_line_list[i+1]\n",
    "            header_dictionary[key]=value\n",
    "    except:\n",
    "        pass"
   ]
  },
  {
   "cell_type": "code",
   "execution_count": 17,
   "metadata": {
    "collapsed": false
   },
   "outputs": [
    {
     "data": {
      "text/plain": [
       "'  2477 Manhattan Beach Blvd, Redondo Beach, CA 90278'"
      ]
     },
     "execution_count": 17,
     "metadata": {},
     "output_type": "execute_result"
    }
   ],
   "source": [
    "header_dictionary[\"Address\"]"
   ]
  },
  {
   "cell_type": "raw",
   "metadata": {},
   "source": [
    "Date of test: 2015 March 11 8.0 - 12.0 GHz\n",
    "Directory:  N:\\artifact\\X1\\x12zhz.137\\Calibrations\\2015 March 11 8.0 - 12.0 GHz\n",
    "File name:  Raw_15Mar11_14.25-3.txt\n",
    "\n",
    "Frequency list (GHz):  8.000\t9.000\t10.000\t11.000\t12.000\n",
    "\n",
    "Customer: Northrup Grumman Space Tech\n",
    "Address:  2477 Manhattan Beach Blvd\n",
    "Redondo Beach, CA 90278\n",
    "\n",
    "DUT:  x12zhz.137\n",
    "Operator: DG\n",
    "Remarks: DUT 811454 Cal #23\n",
    "\n",
    "Amb Std: THTZ.010 on port 1\n",
    "Cryo Std: PS2ZCZ.200 on port 2\n",
    "Chk Std: x12zhz.137 on port 4\n",
    "DUT 2: 811454 on port 6\n",
    "\n",
    "\n",
    "\n",
    "++++++++++++++++++++++++++++++++++++\n",
    "DUT 1: x12zhz.137 on port 4\n",
    "++++++++++++++++++++++++++++++++++++\n",
    "\n",
    "\n",
    "Date of test: 2015 March 11 8.0 - 12.0 GHz\n",
    "Directory:  N:\\artifact\\X1\\x12zhz.137\\Calibrations\\2015 March 11 8.0 - 12.0 GHz\n",
    "File name:  Meas_15Mar11_14.25-3.txt\n",
    "\n",
    "Frequency list (GHz):  8.000\t9.000\t10.000\t11.000\t12.000\n",
    "\n",
    "Customer: Northrup Grumman Space Tech\n",
    "Address:  2477 Manhattan Beach Blvd\n",
    "Redondo Beach, CA 90278\n",
    "\n",
    "DUT:  x12zhz.137\n",
    "Operator: DG\n",
    "Remarks: DUT 811454 Cal #23\n",
    "\n",
    "Amb Std: THTZ.010 on port 1\n",
    "Cryo Std: PS2ZCZ.200 on port 2\n",
    "Chk Std: x12zhz.137 on port 4\n",
    "DUT 2: 811454 on port 6\n",
    "\n",
    "\n",
    "\n",
    "IF Attnuation 6 dB(+3dB)\n",
    "\n",
    "++++++++++++++++++++++++++++++++++++\n",
    "DUT 1: x12zhz.137 on port 4\n",
    "++++++++++++++++++++++++++++++++++++\n",
    "\n",
    "\n",
    "\n",
    "Final calibration file for 811454\n",
    "Date: 2015 March 11 8.0 - 12.0 GHz\n",
    "\n",
    "Company: Northrup Grumman Space Tech\n",
    "Address: 2477 Manhattan Beach Blvd\n",
    "Redondo Beach, CA 90278\n",
    "Operator: DG\n",
    "Remarks: DUT 811454 Cal #23\n",
    "\n",
    "DUT: x12zhz.137  Adaptor: None\n",
    "\n",
    "\n",
    "++++++++++++++++++++++++++For DUT x12zhz.137  ++++++++++++++++++++++++++\n"
   ]
  }
 ],
 "metadata": {
  "kernelspec": {
   "display_name": "Python 2",
   "language": "python",
   "name": "python2"
  },
  "language_info": {
   "codemirror_mode": {
    "name": "ipython",
    "version": 2
   },
   "file_extension": ".py",
   "mimetype": "text/x-python",
   "name": "python",
   "nbconvert_exporter": "python",
   "pygments_lexer": "ipython2",
   "version": "2.7.11"
  }
 },
 "nbformat": 4,
 "nbformat_minor": 0
}
