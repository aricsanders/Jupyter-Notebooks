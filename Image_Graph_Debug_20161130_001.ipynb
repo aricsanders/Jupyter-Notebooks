{
 "cells": [
  {
   "cell_type": "markdown",
   "metadata": {},
   "source": [
    "# Image Bijective Graph\n"
   ]
  },
  {
   "cell_type": "code",
   "execution_count": 1,
   "metadata": {
    "collapsed": false
   },
   "outputs": [
    {
     "name": "stdout",
     "output_type": "stream",
     "text": [
      "Importing Code.Utils.Names\n",
      "Importing Code.DataHandlers.NISTModels\n",
      "Importing Code.DataHandlers.GeneralModels\n",
      "Importing Code.DataHandlers.TouchstoneModels\n",
      "Importing Code.DataHandlers.XMLModels\n",
      "Importing Code.DataHandlers.RadiCALModels\n",
      "Importing Code.DataHandlers.ZipModels\n",
      "Importing Code.DataHandlers.Translations\n",
      "Importing Code.DataHandlers.StatistiCALModels\n",
      "Importing Code.DataHandlers.MUFModels\n",
      "Importing Code.Analysis.SParameter\n",
      "Importing Code.InstrumentControl.Instruments\n",
      "Importing Code.InstrumentControl.Experiments\n"
     ]
    }
   ],
   "source": [
    "from pyMeasure.Code.DataHandlers.GraphModels import *\n",
    "import PIL\n",
    "import os\n",
    "import re\n",
    "import base64\n",
    "from scipy import misc"
   ]
  },
  {
   "cell_type": "code",
   "execution_count": 156,
   "metadata": {
    "collapsed": true
   },
   "outputs": [],
   "source": [
    "def remove_circular_paths(path):\n",
    "    \"\"\"Removes pieces of the path that just end on the same node\"\"\"\n",
    "    edge_pattern=re.compile(\"edge_(?P<begin_node>\\w+)_(?P<end_node>\\w+)_(?P<iterator>\\w+)\")\n",
    "    past_locations=[]\n",
    "    \n",
    "    for index,edge in enumerate(path):\n",
    "        match=re.match(edge_pattern,edge)\n",
    "        begin_node=match.groupdict()[\"begin_node\"]\n",
    "        end_node=match.groupdict()[\"end_node\"]\n",
    "        past_locations.append(begin_node)\n",
    "        #print(\"{0} is {1}\".format(\"past_locations\",past_locations))\n",
    "    new_path=[]\n",
    "    node_index=0\n",
    "    between_list=[False for item in past_locations]\n",
    "    while(node_index<len(past_locations)):\n",
    "        node=past_locations[node_index]\n",
    "        old_path=new_path\n",
    "        new_path=[]\n",
    "        # if you visit a location more than one\n",
    "        number_of_visits=past_locations.count(node)\n",
    "        if number_of_visits>1:\n",
    "            #print(\"{0} is {1}\".format(\"node\",node))\n",
    "            #print(\"{0} is {1}\".format(\"past_locations\",past_locations))\n",
    "            # Now find all the visits to that location\n",
    "            equality_list=map(lambda x:x==node,past_locations)\n",
    "            print(\"{0} is {1}\".format(\"equality_list\",equality_list))\n",
    "            # You are intially not between visits\n",
    "            between=False\n",
    "            \n",
    "            # every time you cross that node you flip between, as long as there are \n",
    "            visit_number=0\n",
    "            for index,equality in enumerate(equality_list):\n",
    "                if equality:\n",
    "                    # add one to the visit number\n",
    "                    visit_number+=1\n",
    "                    # Flip the between truth value if it is the first or last \n",
    "                    # visits only\n",
    "                    if visit_number==1 or visit_number==number_of_visits:\n",
    "                        between=not between\n",
    "                        between_list[index]=between or between_list[index]\n",
    "                    else:\n",
    "                        between_list[index]=between or between_list[index]\n",
    "                        \n",
    "                else:\n",
    "                    between_list[index]=between or between_list[index] \n",
    "        print(\"{0} is {1}\".format(\"between_list\",between_list))\n",
    "        for index,item in enumerate(between_list):\n",
    "            if not item:\n",
    "                new_path.append(path[index])\n",
    "        node_index+=1\n",
    "\n",
    "    if new_path in [[]]:\n",
    "        new_path=path\n",
    "                    \n",
    "    return new_path\n",
    "\n",
    "def edge_1_to_2(in_string):\n",
    "    return in_string.splitlines()\n",
    "    \n",
    "def edge_2_to_1(string_list):\n",
    "    return string_list_collapse(string_list)\n",
    "\n",
    "class Graph():\n",
    "    def __init__(self,**options):\n",
    "        \"\"\"Initializes the graph. The first 2 nodes and two edges forming a bijection between them are required\"\"\"\n",
    "        defaults={\"graph_name\":\"Graph\",\n",
    "                  \"node_names\":['n1','n2'],\n",
    "                  \"node_descriptions\":[\"A plain string\",\n",
    "                                       \"A list of strings with no \\\\n, created with string.splitlines()\"],\n",
    "                  \"current_node\":'n1',\n",
    "                  \"state\":[1,0],\n",
    "                  \"data\":\"This is a test string\\n it has to have multiple lines \\n and many characters 34%6\\n^\",\n",
    "                  \"edge_2_to_1\":edge_2_to_1,\n",
    "                  \"edge_1_to_2\":edge_1_to_2\n",
    "                 }\n",
    "        self.options={}\n",
    "        for key,value in defaults.iteritems():\n",
    "            self.options[key]=value\n",
    "        for key,value in options.iteritems():\n",
    "            self.options[key]=value\n",
    "        self.elements=['graph_name','node_names','node_descriptions','current_node','state','data']\n",
    "        for element in self.elements:\n",
    "            self.__dict__[element]=self.options[element]\n",
    "        self.edges=[]\n",
    "        self.edge_matrices=[]\n",
    "        self.state_matrix=np.matrix(self.state).T\n",
    "        # Add the first 2 edges, required to intialize the graph properly\n",
    "        self.add_edge(self.node_names[0],self.node_names[1],self.options[\"edge_1_to_2\"])\n",
    "        self.add_edge(self.node_names[1],self.node_names[0],self.options[\"edge_2_to_1\"])\n",
    "        self.jumps=[]\n",
    "        self.external_node_names=[]\n",
    "        self.external_node_descriptions=[]\n",
    "\n",
    "    def get_description_dictionary(self):\n",
    "        dictionary={node_name:self.node_descriptions[index] for index,node_name in enumerate(self.node_names)}\n",
    "        return dictionary\n",
    "    \n",
    "    def set_state(self,node_name,node_data):\n",
    "        \"\"\"Sets the graph state to be the state specified by node_name, and node_data\"\"\"\n",
    "        try:\n",
    "            current_node_state_position=self.node_names.index(node_name)\n",
    "            self.current_node=node_name\n",
    "            self.data=node_data\n",
    "            self.state=[0 for i in range(len(self.node_names))]\n",
    "            self.state[current_node_state_position]=1\n",
    "            self.state_matrix=np.matrix(self.state).T\n",
    "        except:\n",
    "            print(\"Could not set the state of graph: {0}\".format(self.graph_name))\n",
    "            raise\n",
    "            \n",
    "    def add_edge(self,begin_node=None,end_node=None,edge_function=None):\n",
    "        \"\"\"Adds an edge mapping one node to another, required input is begin_node (it's name)\n",
    "        end_node, and the edge function\"\"\"\n",
    "        # check to see if edge is defined if it is increment a number\n",
    "        edge_match=re.compile(\"edge_{0}_{1}\".format(begin_node,end_node))\n",
    "        keys=self.__dict__.keys()\n",
    "        #print keys\n",
    "        iterator=0\n",
    "        for key in keys:\n",
    "            if re.match(edge_match,key):\n",
    "                iterator+=1\n",
    "        edge_name=\"edge_{0}_{1}_{2:0>3d}\".format(begin_node,end_node,iterator)\n",
    "        self.__dict__[edge_name]=edge_function\n",
    "        self.edges.append(edge_name)\n",
    "        edge_matrix=np.zeros((len(self.state),len(self.state)))\n",
    "        begin_position=self.node_names.index(begin_node)\n",
    "        end_position=self.node_names.index(end_node)\n",
    "        edge_matrix[end_position][begin_position]=1\n",
    "        edge_matrix=np.matrix(edge_matrix)\n",
    "        self.edge_matrices.append(edge_matrix)\n",
    "        \n",
    "    def add_jump(self,begin_node=None,end_node=None,jump_function=None):\n",
    "        \"\"\"Adds a jump mapping one internal node to an external node, required input is begin_node (it's name)\n",
    "        end_node, and the edge function\"\"\"\n",
    "        # check to see if edge is defined if it is increment a number\n",
    "        jump_match=re.compile(\"jump_{0}_{1}\".format(begin_node,end_node))\n",
    "        keys=self.__dict__.keys()\n",
    "        #print keys\n",
    "        iterator=0\n",
    "        for key in keys:\n",
    "            if re.match(jump_match,key):\n",
    "                iterator+=1\n",
    "        jump_name=\"jump_{0}_{1}_{2:0>3d}\".format(begin_node,end_node,iterator)\n",
    "        self.__dict__[jump_name]=jump_function\n",
    "        self.jumps.append(jump_name)\n",
    "\n",
    "        \n",
    "    def move_to(self,path):\n",
    "        \"\"\"Changes the state of the graph by moving along the path specified\"\"\"\n",
    "        print path\n",
    "        for index,edge in enumerate(path):\n",
    "            #print edge\n",
    "            edge_pattern='edge_(?P<begin_node>\\w+)_(?P<end_node>\\w+)_(?P<iterator>\\w+)'\n",
    "            match=re.match(edge_pattern,edge)\n",
    "            begin_node=match.groupdict()['begin_node']\n",
    "            end_node=match.groupdict()['end_node']\n",
    "            print(\"moving {0} -> {1}\".format(begin_node,end_node))\n",
    "            #print self.data\n",
    "            self.data=self.__dict__[edge](self.data)\n",
    "            #print self.data\n",
    "            self.current_node=match.groupdict()['end_node']\n",
    "            self.state=[0 for i in range(len(self.node_names))]\n",
    "            position=self.node_names.index(self.current_node)\n",
    "            self.state[position]=1\n",
    "            self.state_matrix=np.matrix(self.state).T\n",
    "            #print self.state\n",
    "            #print self.current_node\n",
    "            \n",
    "    def virtual_move_to(self,path):\n",
    "        \"\"\"virtual_move_to simulates moving but does not change the state of the graph\"\"\"\n",
    "        #print path\n",
    "        temp_state=self.state\n",
    "        temp_data=self.data\n",
    "        temp_current_node=self.current_node\n",
    "        temp_node_names=self.node_names\n",
    "        for index,edge in enumerate(path):\n",
    "            #print edge\n",
    "            edge_pattern='edge_(?P<begin_node>\\w+)_(?P<end_node>\\w+)_(?P<iterator>\\w+)'\n",
    "            match=re.match(edge_pattern,edge)\n",
    "            begin_node=match.groupdict()['begin_node']\n",
    "            end_node=match.groupdict()['end_node']\n",
    "            #print(\"moving {0} -> {1}\".format(begin_node,end_node))\n",
    "            #print self.data\n",
    "            temp_data=self.__dict__[edge](temp_data)\n",
    "            #print self.data\n",
    "            temp_current_node=match.groupdict()['end_node']\n",
    "            temp_state=[0 for i in range(len(temp_node_names))]\n",
    "            position=temp_node_names.index(temp_current_node)\n",
    "            temp_state[position]=1\n",
    "            #print temp_state\n",
    "            #print self.state\n",
    "            #print self.current_node  \n",
    "            \n",
    "    def __str__(self):\n",
    "        return str(self.data)\n",
    "    \n",
    "    def add_node(self,node_name,edge_into_node_begin,edge_into_node_function,edge_out_node_end,\n",
    "                 edge_out_node_function):\n",
    "        \"\"\"Adds a node to the graph. Required input is node_name (a string with no spaces), \n",
    "        a reference to an entering node,the function mapping the entering node to the new node, \n",
    "        a reference to an exiting node and the function mapping the\n",
    "        new node to the exiting node.\"\"\"\n",
    "        # first check if node into and out of node is good\n",
    "        self.node_names.append(node_name)\n",
    "        self.state.append(0)\n",
    "        self.state_matrix=np.matrix(self.state).T\n",
    "        for index,matrix in enumerate(self.edge_matrices):\n",
    "            pad_row=np.zeros((1,len(matrix)))\n",
    "            new_matrix=np.concatenate((matrix, pad_row), axis=0)\n",
    "            pad_column=np.zeros((1,len(self.node_names)))\n",
    "            new_matrix=np.concatenate((new_matrix, pad_column.T), axis=1)\n",
    "            #print(\"New matrix is :\\n{0}\".format(new_matrix))\n",
    "            self.edge_matrices[index]=new_matrix\n",
    "        self.add_edge(begin_node=node_name,end_node=edge_out_node_end,edge_function=edge_out_node_function)\n",
    "        self.add_edge(begin_node=edge_into_node_begin,end_node=node_name,edge_function=edge_into_node_function)\n",
    "        \n",
    "    def add_external_node(self,external_node_name,jump_into_node_begin,jump_into_node_function):\n",
    "        \"\"\"Adds an external node to the graph. Required input is node_name (a string with no spaces), \n",
    "        a reference to an entering node,the function mapping the entering node to the new external node\"\"\"\n",
    "        # first check if node into and out of node is good\n",
    "        self.external_node_names.append(external_node_name)\n",
    "        self.add_jump(begin_node=jump_into_node_begin,end_node=external_node_name,jump_function=jump_into_node_function)\n",
    "    \n",
    "    def jump_to_external_node(self,external_node_name):\n",
    "        \"\"\"Returns the result of the jump, the graph is left in the node that is the begining of the jump\"\"\"\n",
    "        end_node=external_node_name\n",
    "        jump_pattern='jump_(?P<begin_node>\\w+)_{0}_(?P<iterator>\\w+)'.format(end_node)\n",
    "        for jump in self.jumps[:]:\n",
    "            jump_match=re.match(jump_pattern,jump,re.IGNORECASE)\n",
    "            if jump_match:\n",
    "                jump_to_use=jump\n",
    "                begin_node=jump_match.groupdict()[\"begin_node\"]\n",
    "                \n",
    "        self.move_to_node(begin_node)\n",
    "        return self.__dict__[jump_to_use](self.data)\n",
    "        \n",
    "\n",
    "    \n",
    "    def path_length(self,path,num_repeats=10):\n",
    "        \"\"\"Determines the length of a given path, currently the metric is based on the time to move to.\"\"\"\n",
    "        begin_time=datetime.datetime.now()\n",
    "        #num_repeats=100\n",
    "        for i in range(num_repeats):\n",
    "            self.virtual_move_to(path)\n",
    "        end_time=datetime.datetime.now()\n",
    "        delta_t=end_time-begin_time\n",
    "        path_length=delta_t.total_seconds()/float(num_repeats)\n",
    "        if path_length ==0.0:\n",
    "            print(\"Warning the path length is less than 1 microsecond,\" \n",
    "                  \"make sure num_repeats is high enough to measure it.\")\n",
    "        return path_length\n",
    "                \n",
    "    def is_path_valid(self,path):\n",
    "        \"\"\"Returns True if the path is valid from the current node position or False otherwise\"\"\"\n",
    "        null_state=[0 for i in range(len(self.node_names))]\n",
    "        null_state_matrix=np.matrix(null_state).T\n",
    "        new_state=np.matrix(self.state).T\n",
    "        for index,edge in enumerate(path):\n",
    "            #print index\n",
    "            #print edge\n",
    "            edge_position=self.edges.index(edge)\n",
    "            move_matrix=self.edge_matrices[edge_position]\n",
    "            #print move_matrix\n",
    "            new_state=move_matrix*new_state\n",
    "            if new_state.any()==null_state_matrix.any():\n",
    "                #print new_state\n",
    "                #print null_state_matrix\n",
    "                return False\n",
    "        return True\n",
    "            \n",
    "            \n",
    "    def get_entering_nodes(self,node): \n",
    "        \"\"\"Returns all nodes that have an edge that enter the specificed node\"\"\"\n",
    "        enter_edge_pattern=re.compile('edge_(?P<begin_node>\\w+)_{0}_(?P<iterator>\\w+)'.format(node))\n",
    "        enter_nodes=[]\n",
    "        for index,edge in enumerate(self.edges):\n",
    "            enter_match=re.match(enter_edge_pattern,edge)\n",
    "            if enter_match:\n",
    "                enter_node=enter_match.groupdict()['begin_node']\n",
    "                enter_nodes.append(enter_node)\n",
    "        return enter_nodes\n",
    "    \n",
    "    def get_entering_edges(self,node): \n",
    "        \"\"\"Returns all edges that enter the specificed node\"\"\"\n",
    "        enter_edge_pattern=re.compile('edge_(?P<begin_node>\\w+)_{0}_(?P<iterator>\\w+)'.format(node))\n",
    "        enter_edges=[]\n",
    "        for index,edge in enumerate(self.edges):\n",
    "            if re.match(enter_edge_pattern,edge):\n",
    "                enter_edges.append(edge)\n",
    "        return enter_edges\n",
    "    \n",
    "    def get_exiting_edges(self,node):\n",
    "        \"\"\"Returns all edges that exit the specificed node\"\"\"\n",
    "        exit_edge_pattern=re.compile('edge_{0}_(?P<end_node>\\w+)_(?P<iterator>\\w+)'.format(node))\n",
    "        exit_edges=[]\n",
    "        for index,edge in enumerate(self.edges):\n",
    "            if re.match(exit_edge_pattern,edge):\n",
    "                exit_edges.append(edge)\n",
    "        return exit_edges \n",
    "    \n",
    "    def get_exiting_nodes(self,node): \n",
    "        \"\"\"Returns all nodes that have an edge leaving the specificed node\"\"\"\n",
    "        exit_edge_pattern=re.compile('edge_{0}_(?P<end_node>\\w+)_(?P<iterator>\\w+)'.format(node))\n",
    "        exit_nodes=[]\n",
    "        for index,edge in enumerate(self.edges):\n",
    "            exit_match=re.match(exit_edge_pattern,edge)\n",
    "            if exit_match:\n",
    "                exit_node=exit_match.groupdict()['end_node']\n",
    "                exit_nodes.append(exit_node)\n",
    "        return exit_nodes\n",
    "    \n",
    "    def get_path(self,first_node,last_node):\n",
    "        \"\"\"Returns the first path found between first node and last node, three step paths are broken\"\"\"\n",
    "        #TODO: Remove Circular Paths\n",
    "        edge_pattern=re.compile('edge_(?P<begin_node>\\w+)_(?P<end_node>\\w+)_(?P<iterator>\\w+)')\n",
    "        exit_paths=self.get_exiting_edges(first_node)\n",
    "        next_nodes=self.get_exiting_nodes(first_node)\n",
    "        #be careful here using the wrong assignment statement breaks this function \n",
    "        possible_paths=[]\n",
    "        for exit_path in exit_paths:\n",
    "            possible_paths.append([exit_path])\n",
    "        #print(\"{0} is {1}\".format('possible_paths',possible_paths))\n",
    "        for i in range(len(self.node_names)**2):\n",
    "            #print(\"{0} is {1}\".format('i',i))\n",
    "            #print(\"{0} is {1}\".format('possible_paths',possible_paths))\n",
    "            for index,path in enumerate(possible_paths):\n",
    "                #print(\"{0} is {1}\".format('index',index))\n",
    "                last_edge=path[-1]\n",
    "                #print(\"{0} is {1}\".format('last_edge',last_edge))\n",
    "                match=re.match(edge_pattern,last_edge)\n",
    "                begin_node=match.groupdict()['begin_node']\n",
    "                end_node=match.groupdict()['end_node']\n",
    "                #print(\"{0} is {1}\".format('end_node',end_node))\n",
    "                if end_node==last_node:\n",
    "                    #print(\"The path found is {0}\".format(path))\n",
    "                    return remove_circular_paths(path)\n",
    "                next_possible_paths=[]\n",
    "                next_edges=self.get_exiting_edges(end_node)\n",
    "                next_nodes=self.get_exiting_nodes(end_node)\n",
    "                #print(\"{0} is {1}\".format('next_edges',next_edges))\n",
    "                for next_edge_index,next_edge in enumerate(next_edges):\n",
    "                    #print(\"{0} is {1}\".format('next_edge_index',next_edge_index))\n",
    "                    #be careful here using the wrong assignment statement breaks this function \n",
    "                    #next_path=path is a deal breaker!! \n",
    "                    next_path=[]\n",
    "                    for edge in path:\n",
    "                        next_path.append(edge)\n",
    "                    #print(\"{0} is {1}\".format('next_path',next_path))\n",
    "                    #print(\"{0} is {1}\".format('next_edge',next_edge))\n",
    "                    #next_node=next_nodes[index]\n",
    "                    #print next_node\n",
    "                    next_match=re.match(edge_pattern,next_edge)\n",
    "                    next_node=next_match.groupdict()[\"end_node\"]\n",
    "                    begin_node_next_edge=next_match.groupdict()[\"begin_node\"]\n",
    "                    #print(\"{0} is {1}\".format('next_node',next_node))\n",
    "                    #print(\"{0} is {1}\".format('begin_node_next_edge',begin_node_next_edge))\n",
    "                    if next_node==last_node and begin_node_next_edge==end_node:\n",
    "                        next_path.append(next_edge)\n",
    "                        print(\"The path found is {0}\".format(next_path))\n",
    "                        return remove_circular_paths(next_path)\n",
    "                    elif begin_node_next_edge==end_node:\n",
    "                        next_path.append(next_edge)\n",
    "                        # This keeps it from getting stuck on circular paths\n",
    "                        if next_edge in path:\n",
    "                        #ossible_paths=possible_paths\n",
    "                            #print(\"next_edge was already in path\")\n",
    "                            continue\n",
    "                        next_possible_paths.append(next_path)\n",
    "                        \n",
    "                        #print(\"{0} is {1}\".format('next_possible_paths',next_possible_paths))\n",
    "                    else:\n",
    "                        print(\"Path is not found\")\n",
    "                        pass\n",
    "\n",
    "                    #print(\"{0} is {1}\".format('next_possible_paths',next_possible_paths))\n",
    "                if next_possible_paths:\n",
    "                    possible_paths=next_possible_paths\n",
    "                #print(\"{0} is {1}\".format('possible_paths',possible_paths))\n",
    "    \n",
    "    def move_to_node(self,node):\n",
    "        \"\"\"Moves from current_node to the specified node\"\"\"\n",
    "        path=self.get_path(self.current_node,node)\n",
    "        self.move_to(path)\n",
    "            \n",
    "    def check_closed_path(self):\n",
    "        \"\"\"Checks that data is not changed for the first closed path found. Returns True if data==data after\n",
    "        moving around the closed path, False otherwise. Starting point is current_node \"\"\"\n",
    "        temp_data=self.data\n",
    "        path=self.get_path(self.current_node,self.current_node)\n",
    "        if self.is_path_valid(path):\n",
    "            pass\n",
    "        else:\n",
    "            print(\"Path is not valid, graph definition is broken\")\n",
    "            raise\n",
    "        out=temp_data==self.data\n",
    "        out_list=[self.current_node,path,out]\n",
    "        print(\"The assertion that the data remains unchanged,\\n\" \n",
    "              \"for node {0} following path {1} is {2}\".format(*out_list))\n",
    "        return out \n",
    "    \n",
    "    def is_graph_isomorphic(self):\n",
    "        \"\"\"Returns True if all nodes have closed paths that preserve the data, False otherwise\"\"\"\n",
    "        out=True\n",
    "        for node in self.node_names:\n",
    "            self.move_to_node(node)\n",
    "            if not self.check_closed_path:\n",
    "                out=False\n",
    "        return out\n",
    "    \n",
    "    def show(self,**options):\n",
    "        \"\"\"Shows the graph using matplotlib and networkx\"\"\"\n",
    "        # Should be seperated to allow for fixed presentation?\n",
    "        defaults={\"descriptions\":False,\"edge_descriptions\":False,\"save_plot\":False,\n",
    "                 \"path\":None,\"active_node\":True,\"directory\":None,\"specific_descriptor\":self.graph_name.replace(\" \",\"_\"),\n",
    "                  \"general_descriptor\":\"plot\",\"file_name\":None,\n",
    "                 \"arrows\":True,\"node_size\":1000,\"font_size\":10}\n",
    "        show_options={}\n",
    "        for key,value in defaults.iteritems():\n",
    "            show_options[key]=value\n",
    "        for key,value in options.iteritems():\n",
    "            show_options[key]=value\n",
    "        if show_options[\"directory\"] is None:\n",
    "            show_options[\"directory\"]=os.getcwd() \n",
    "        new_graph=networkx.DiGraph()\n",
    "        edge_pattern=re.compile(\"edge_(?P<begin_node>\\w+)_(?P<end_node>\\w+)_(?P<iterator>\\w+)\")\n",
    "        jump_pattern=re.compile(\"jump_(?P<begin_node>\\w+)_(?P<end_node>\\w+)_(?P<iterator>\\w+)\")\n",
    "        for node in self.node_names:\n",
    "            new_graph.add_node(node)\n",
    "        for node in self.external_node_names:\n",
    "            new_graph.add_node(node)\n",
    "        for edge in self.edges:\n",
    "            match=re.match(edge_pattern,edge)\n",
    "            if match:\n",
    "                begin_node=match.groupdict()[\"begin_node\"]\n",
    "                end_node=match.groupdict()[\"end_node\"]\n",
    "                new_graph.add_edge(begin_node,end_node)\n",
    "                #print(\"Begin Node = {0}, End Node= {1}\".format(begin_node,end_node))\n",
    "        #print(\"{0} is {1}\".format('new_graph.nodes()',new_graph.nodes()))\n",
    "        for jump in self.jumps:\n",
    "            match=re.match(jump_pattern,jump)\n",
    "            if match:\n",
    "                begin_node=match.groupdict()[\"begin_node\"]\n",
    "                end_node=match.groupdict()[\"end_node\"]\n",
    "                new_graph.add_edge(begin_node,end_node)\n",
    "                \n",
    "        if show_options[\"active_node\"]:\n",
    "            node_colors=[]\n",
    "            for node in new_graph.nodes():\n",
    "                if node==self.current_node:\n",
    "                    node_colors.append('b')\n",
    "                else:\n",
    "                    if node in self.node_names:\n",
    "                        node_colors.append('r')\n",
    "                    elif node in self.external_node_names:\n",
    "                        node_colors.append('g')\n",
    "        else:\n",
    "            node_colors=['r' for node in self.node_names]+['g' for node in self.node_names]\n",
    "        #print(\"{0} is {1}\".format('node_colors',node_colors))\n",
    "        if show_options[\"descriptions\"]:\n",
    "            node_labels={node:self.node_descriptions[index] for index, \n",
    "                               node in enumerate(self.node_names)}\n",
    "            if self.external_node_names:\n",
    "                for index,node in enumerate(self.external_node_names):\n",
    "                    node_labels[node]=self.external_node_descriptions[index]\n",
    "            networkx.draw_networkx(new_graph,arrows=show_options[\"arrows\"],\n",
    "                       labels=node_labels,node_color=node_colors,\n",
    "                                   node_size=show_options[\"node_size\"],font_size=show_options[\"font_size\"])\n",
    "            #print(\"{0} is {1}\".format('node_labels',node_labels))\n",
    "        else:\n",
    "            networkx.draw_networkx(new_graph,arrows=show_options[\"arrows\"],node_color=node_colors,\n",
    "                                  node_size=show_options[\"node_size\"],font_size=show_options[\"font_size\"])\n",
    "            \n",
    "        plt.suptitle(self.options[\"graph_name\"])\n",
    "        if show_options[\"file_name\"] is None:\n",
    "            file_name=auto_name(specific_descriptor=show_options[\"specific_descriptor\"],\n",
    "                                general_descriptor=show_options[\"general_descriptor\"],\n",
    "                                directory=show_options[\"directory\"],extension='png',padding=3)\n",
    "        else:\n",
    "            file_name=show_options[\"file_name\"]\n",
    "        if show_options[\"save_plot\"]:\n",
    "            #print file_name\n",
    "            if show_options[\"path\"]:\n",
    "                plt.savefig(show_options[\"path\"])\n",
    "            else:\n",
    "                plt.savefig(os.path.join(show_options[\"directory\"],file_name))\n",
    "        else:\n",
    "            plt.show()\n",
    "            \n"
   ]
  },
  {
   "cell_type": "code",
   "execution_count": 4,
   "metadata": {
    "collapsed": false
   },
   "outputs": [],
   "source": [
    "im=PIL.Image.open('Rectangular_Graph_plot_20161130_001.png')"
   ]
  },
  {
   "cell_type": "code",
   "execution_count": 157,
   "metadata": {
    "collapsed": true
   },
   "outputs": [],
   "source": [
    "file_name='Rectangular_Graph_plot_20161130_001.png'\n",
    "directory=os.getcwd()\n",
    "def png_to_jpg(png_file_name):\n",
    "    [root_name,extension]=png_file_name.split(\".\")\n",
    "    jpeg_file_name=root_name+\".jpg\"\n",
    "    PIL.Image.open(png_file_name).save(jpeg_file_name)\n",
    "    return jpeg_file_name\n",
    "def file_to_Image(file_path):\n",
    "    new_image=PIL.Image.open(file_path)\n",
    "    if re.search(\".gif\",file_path,re.IGNORECASE):\n",
    "        new_image=new_image.convert(\"RGB\")\n",
    "    return new_image\n",
    "\n",
    "def Image_to_file(pil_image,file_path=None):\n",
    "    if file_path is None:\n",
    "        file_path=pil_image.filename\n",
    "    pil_image.save(file_path)\n",
    "    return file_path\n",
    "\n",
    "def Image_to_file_type(pil_image,file_path=None,extension=\"png\"):\n",
    "    \n",
    "    if file_path is None:\n",
    "        file_path=pil_image.filename\n",
    "    root_name=file_path.split(\".\")[0]\n",
    "    new_file_name=root_name+\".\"+extension.replace(\".\",\"\")\n",
    "    if re.search('jp|bmp',extension,re.IGNORECASE):\n",
    "        pil_image.convert('RGB')\n",
    "    print(\"{0} is {1}\".format(\"pil_image.mode\",pil_image.mode))\n",
    "    pil_image.save(new_file_name)\n",
    "    return new_file_name\n",
    "    \n",
    "def Image_to_thumbnail(pil_image,file_path=\"thumbnail.jpg\"):\n",
    "    size = (64, 64)\n",
    "    temp_image=pil_image.copy()\n",
    "    temp_image.thumbnail(size)\n",
    "    temp_image.save(file_path)\n",
    "    return file_path\n",
    "\n",
    "def png_to_base64(file_name):\n",
    "    in_file=open(file_name, \"rb\")\n",
    "    encoded=base64.b64encode(in_file.read())\n",
    "    return encoded\n",
    "\n",
    "def base64_to_png(base64_encoded_png,file_name=\"test.png\"):\n",
    "    out_file=open(file_name, \"wb\")\n",
    "    decoded=base64.b64decode(base64_encoded_png)\n",
    "    out_file.write(decoded)\n",
    "    out_file.close()\n",
    "    return file_name\n",
    " \n",
    "    \n",
    "def png_to_ndarray(file_name):\n",
    "    nd_array=misc.imread(file_name)\n",
    "    return nd_array\n",
    "\n",
    "def ndarray_to_png(nd_array,file_name=\"test.png\"):\n",
    "    misc.imsave(file_name,nd_array)\n",
    "    return file_name\n",
    "\n",
    "# change this to base64png\n",
    "def base64png_to_embeded_html(base64_encoded_png):\n",
    "    html_string=\"<img src='data:image/png;base64,{0}' />\".format(base64_encoded_png)\n",
    "    return html_string\n",
    "\n",
    "def embeded_html_to_base64png(html_string):\n",
    "    pattern=re.compile(\"<img src='data:image/png;base64,(?P<data>.+)' />\")\n",
    "    match=re.search(pattern,html_string)\n",
    "    if match:\n",
    "        encoded=match.groupdict()[\"data\"]\n",
    "    else:\n",
    "        raise\n",
    "    return encoded\n",
    "\n"
   ]
  },
  {
   "cell_type": "code",
   "execution_count": 4,
   "metadata": {
    "collapsed": false
   },
   "outputs": [
    {
     "data": {
      "text/plain": [
       "['Image']"
      ]
     },
     "execution_count": 4,
     "metadata": {},
     "output_type": "execute_result"
    }
   ],
   "source": [
    "\"Image\".split(\".\")"
   ]
  },
  {
   "cell_type": "code",
   "execution_count": 5,
   "metadata": {
    "collapsed": false
   },
   "outputs": [
    {
     "data": {
      "text/plain": [
       "'C:\\\\Users\\\\sandersa\\\\PyCharm Projects\\\\Jupyter-Notebooks\\\\Rectangular_Graph_plot_20161130_001.jpg'"
      ]
     },
     "execution_count": 5,
     "metadata": {},
     "output_type": "execute_result"
    }
   ],
   "source": [
    "png_to_jpg(os.path.join(directory,file_name))"
   ]
  },
  {
   "cell_type": "code",
   "execution_count": 6,
   "metadata": {
    "collapsed": false
   },
   "outputs": [
    {
     "data": {
      "text/plain": [
       "'Rectangular_Graph_plot_20161130_001.png'"
      ]
     },
     "execution_count": 6,
     "metadata": {},
     "output_type": "execute_result"
    }
   ],
   "source": [
    "im.filename"
   ]
  },
  {
   "cell_type": "code",
   "execution_count": 158,
   "metadata": {
    "collapsed": false
   },
   "outputs": [],
   "source": [
    "graph_options={\"graph_name\":\"Image Graph\",\n",
    "                  \"node_names\":['Image','png'],\n",
    "                  \"node_descriptions\":[\"PIL Image\",\"png\"],\n",
    "                  \"current_node\":'Image',\n",
    "                  \"state\":[1,0],\n",
    "                  \"data\":im,\n",
    "                  \"edge_2_to_1\":file_to_Image,\n",
    "                  \"edge_1_to_2\":lambda x: Image_to_file_type(x,file_path=\"test\",extension=\"png\")\n",
    "                 }\n",
    "image_graph=Graph(**graph_options)"
   ]
  },
  {
   "cell_type": "code",
   "execution_count": 17,
   "metadata": {
    "collapsed": true
   },
   "outputs": [],
   "source": [
    "image_graph.show()"
   ]
  },
  {
   "cell_type": "code",
   "execution_count": 159,
   "metadata": {
    "collapsed": false
   },
   "outputs": [],
   "source": [
    "image_graph.add_node(\"jpg\",\"Image\",lambda x: Image_to_file_type(x,file_path=\"test\",extension=\"jpg\"),\n",
    "                     \"Image\",file_to_Image)\n",
    "image_graph.add_node(\"tiff\",\"Image\",lambda x: Image_to_file_type(x,file_path=\"test\",extension=\"tiff\"),\n",
    "                     \"Image\",file_to_Image)\n",
    "image_graph.add_node(\"gif\",\"Image\",lambda x: Image_to_file_type(x,file_path=\"test\",extension=\"gif\"),\n",
    "                     \"Image\",file_to_Image)\n",
    "image_graph.add_node(\"bmp\",\"Image\",lambda x: Image_to_file_type(x,file_path=\"test\",extension=\"bmp\"),\n",
    "                     \"Image\",file_to_Image)\n",
    "image_graph.add_node(\"base64\",\"png\",png_to_base64,\n",
    "                     \"png\",base64_to_png)\n",
    "image_graph.add_node(\"embededHTML\",\"base64\",base64png_to_embeded_html,\n",
    "                     \"base64\",embeded_html_to_base64png)\n",
    "image_graph.add_node(\"ndarray\",\"png\",png_to_ndarray,\n",
    "                     \"png\",ndarray_to_png)\n",
    "image_graph.add_external_node(\"thumbnail\",\"Image\",Image_to_thumbnail)"
   ]
  },
  {
   "cell_type": "code",
   "execution_count": 91,
   "metadata": {
    "collapsed": false
   },
   "outputs": [],
   "source": [
    "image_graph.show()"
   ]
  },
  {
   "cell_type": "code",
   "execution_count": 11,
   "metadata": {
    "collapsed": false
   },
   "outputs": [
    {
     "name": "stdout",
     "output_type": "stream",
     "text": [
      "['edge_Image_png_000', 'edge_png_Image_000', 'edge_jpg_Image_000', 'edge_Image_jpg_000', 'edge_tiff_Image_000', 'edge_Image_tiff_000', 'edge_gif_Image_000', 'edge_Image_gif_000', 'edge_bmp_Image_000', 'edge_Image_bmp_000', 'edge_base64_png_000', 'edge_png_base64_000', 'edge_embededHTML_base64_000', 'edge_base64_embededHTML_000', 'edge_ndarray_png_000', 'edge_png_ndarray_000']\n"
     ]
    }
   ],
   "source": [
    "print image_graph.edges"
   ]
  },
  {
   "cell_type": "code",
   "execution_count": 160,
   "metadata": {
    "collapsed": false
   },
   "outputs": [
    {
     "name": "stdout",
     "output_type": "stream",
     "text": [
      "The path found is ['edge_Image_bmp_000', 'edge_bmp_Image_000', 'edge_Image_gif_000', 'edge_gif_Image_000', 'edge_Image_tiff_000', 'edge_tiff_Image_000', 'edge_Image_jpg_000', 'edge_jpg_Image_000', 'edge_Image_png_000', 'edge_png_base64_000', 'edge_base64_embededHTML_000']\n",
      "equality_list is [True, False, True, False, True, False, True, False, True, False, False]\n",
      "between_list is [True, True, True, True, True, True, True, True, False, False, False]\n",
      "between_list is [True, True, True, True, True, True, True, True, False, False, False]\n",
      "equality_list is [True, False, True, False, True, False, True, False, True, False, False]\n",
      "between_list is [True, True, True, True, True, True, True, True, False, False, False]\n",
      "between_list is [True, True, True, True, True, True, True, True, False, False, False]\n",
      "equality_list is [True, False, True, False, True, False, True, False, True, False, False]\n",
      "between_list is [True, True, True, True, True, True, True, True, False, False, False]\n",
      "between_list is [True, True, True, True, True, True, True, True, False, False, False]\n",
      "equality_list is [True, False, True, False, True, False, True, False, True, False, False]\n",
      "between_list is [True, True, True, True, True, True, True, True, False, False, False]\n",
      "between_list is [True, True, True, True, True, True, True, True, False, False, False]\n",
      "equality_list is [True, False, True, False, True, False, True, False, True, False, False]\n",
      "between_list is [True, True, True, True, True, True, True, True, False, False, False]\n",
      "between_list is [True, True, True, True, True, True, True, True, False, False, False]\n",
      "between_list is [True, True, True, True, True, True, True, True, False, False, False]\n",
      "['edge_Image_png_000', 'edge_png_base64_000', 'edge_base64_embededHTML_000']\n",
      "moving Image -> png\n",
      "pil_image.mode is RGBA\n",
      "moving png -> base64\n",
      "moving base64 -> embededHTML\n",
      "embededHTML\n"
     ]
    },
    {
     "data": {
      "text/html": [
       "<img src='data:image/png;base64,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' />"
      ],
      "text/plain": [
       "<IPython.core.display.HTML object>"
      ]
     },
     "metadata": {},
     "output_type": "display_data"
    }
   ],
   "source": [
    "from ipywidgets import *\n",
    "from IPython.display import Image,display,HTML\n",
    "def move_and_show(node_name):\n",
    "    image_graph.move_to_node(node_name)\n",
    "    print(\"{0}\".format(node_name))\n",
    "    if node_name is \"Image\":\n",
    "        print(\"PIL Image Class\")\n",
    "    elif node_name in [\"png\",\"jpg\"]:\n",
    "        display(Image(image_graph.data,embed=True))\n",
    "    elif node_name in [\"base64\"]:\n",
    "        display(HTML(\"<img src='data:image/png;base64,{0}' />\".format(image_graph.data)))\n",
    "    elif node_name in [\"embededHTML\"]:\n",
    "        display(HTML(image_graph.data))\n",
    "        #print image_graph.data \n",
    "    elif node_name in [\"ndarray\"]:\n",
    "        plt.imshow(image_graph.data)\n",
    "        plt.show()\n",
    "    else:\n",
    "        display(HTML(\"<img src='{0}' />\".format(image_graph.data)))\n",
    "interact(move_and_show,node_name=image_graph.node_names)"
   ]
  },
  {
   "cell_type": "code",
   "execution_count": 152,
   "metadata": {
    "collapsed": false
   },
   "outputs": [],
   "source": [
    "def remove_circular_paths(path):\n",
    "    \"\"\"Removes pieces of the path that just end on the same node\"\"\"\n",
    "    edge_pattern=re.compile(\"edge_(?P<begin_node>\\w+)_(?P<end_node>\\w+)_(?P<iterator>\\w+)\")\n",
    "    past_locations=[]\n",
    "    \n",
    "    for index,edge in enumerate(path):\n",
    "        match=re.match(edge_pattern,edge)\n",
    "        begin_node=match.groupdict()[\"begin_node\"]\n",
    "        end_node=match.groupdict()[\"end_node\"]\n",
    "        past_locations.append(begin_node)\n",
    "        #print(\"{0} is {1}\".format(\"past_locations\",past_locations))\n",
    "    new_path=[]\n",
    "    node_index=0\n",
    "    between_list=[False for item in past_locations]\n",
    "    while(node_index<len(past_locations)):\n",
    "        node=past_locations[node_index]\n",
    "        old_path=new_path\n",
    "        new_path=[]\n",
    "        # if you visit a location more than one\n",
    "        number_of_visits=past_locations.count(node)\n",
    "        if number_of_visits>1:\n",
    "            #print(\"{0} is {1}\".format(\"node\",node))\n",
    "            #print(\"{0} is {1}\".format(\"past_locations\",past_locations))\n",
    "            # Now find all the visits to that location\n",
    "            equality_list=map(lambda x:x==node,past_locations)\n",
    "            print(\"{0} is {1}\".format(\"equality_list\",equality_list))\n",
    "            # You are intially not between visits\n",
    "            between=False\n",
    "            \n",
    "            # every time you cross that node you flip between, as long as there are \n",
    "            visit_number=0\n",
    "            for index,equality in enumerate(equality_list):\n",
    "                if equality:\n",
    "                    # add one to the visit number\n",
    "                    visit_number+=1\n",
    "                    # Flip the between truth value if it is the first or last \n",
    "                    # visits only\n",
    "                    if visit_number==1 or visit_number==number_of_visits:\n",
    "                        between=not between\n",
    "                        between_list[index]=between or between_list[index]\n",
    "                    else:\n",
    "                        between_list[index]=between or between_list[index]\n",
    "                        \n",
    "                else:\n",
    "                    between_list[index]=between or between_list[index] \n",
    "        print(\"{0} is {1}\".format(\"between_list\",between_list))\n",
    "        for index,item in enumerate(between_list):\n",
    "            if not item:\n",
    "                new_path.append(path[index])\n",
    "        node_index+=1\n",
    "\n",
    "    if new_path in [[]]:\n",
    "        new_path=path\n",
    "                    \n",
    "    return new_path\n"
   ]
  },
  {
   "cell_type": "code",
   "execution_count": 153,
   "metadata": {
    "collapsed": true
   },
   "outputs": [],
   "source": [
    "path1=['edge_Image_bmp_000', 'edge_bmp_Image_000', \n",
    "      'edge_Image_gif_000', 'edge_gif_Image_000', \n",
    "      'edge_Image_tiff_000','edge_tiff_Image_000', \n",
    "      'edge_Image_jpg_000', 'edge_jpg_Image_000', \n",
    "      'edge_Image_png_000', 'edge_png_base64_000', 'edge_base64_embededHTML_000']\n",
    "path2=['edge_Image_bmp_000', 'edge_bmp_Image_000', \n",
    "      'edge_Image_gif_000', 'edge_gif_Image_000', \n",
    "      'edge_Image_tiff_000','edge_tiff_Image_000', \n",
    "      'edge_Image_png_000', 'edge_png_base64_000', 'edge_base64_embededHTML_000']\n",
    "path3=['edge_Image_bmp_000', 'edge_bmp_Image_000', \n",
    "      'edge_Image_gif_000', 'edge_gif_Image_000', \n",
    "      'edge_Image_png_000', 'edge_png_base64_000', 'edge_base64_embededHTML_000']\n",
    "path4=['edge_Image_bmp_000', 'edge_bmp_Image_000', \n",
    "      'edge_Image_png_000', 'edge_png_base64_000', 'edge_base64_embededHTML_000']\n",
    "path5=['edge_Image_png_000','edge_Image_bmp_000', 'edge_bmp_fake_000','edge_fake_fake2_000',\n",
    "      'edge_fake2_Image_000', \n",
    "       'edge_png_base64_000', 'edge_base64_embededHTML_000']\n",
    "path6=['edge_jpg_Image_000', \n",
    "      'edge_Image_bmp_000', 'edge_bmp_Image_000', \n",
    "      'edge_Image_gif_000', 'edge_gif_Image_000', \n",
    "      'edge_Image_tiff_000','edge_tiff_Image_000', \n",
    "      'edge_Image_png_000', 'edge_png_base64_000', 'edge_base64_embededHTML_000']"
   ]
  },
  {
   "cell_type": "code",
   "execution_count": 155,
   "metadata": {
    "collapsed": false
   },
   "outputs": [
    {
     "name": "stdout",
     "output_type": "stream",
     "text": [
      "equality_list is [True, False, True, False, True, False, True, False, True, False, False]\n",
      "between_list is [True, True, True, True, True, True, True, True, False, False, False]\n",
      "between_list is [True, True, True, True, True, True, True, True, False, False, False]\n",
      "equality_list is [True, False, True, False, True, False, True, False, True, False, False]\n",
      "between_list is [True, True, True, True, True, True, True, True, False, False, False]\n",
      "between_list is [True, True, True, True, True, True, True, True, False, False, False]\n",
      "equality_list is [True, False, True, False, True, False, True, False, True, False, False]\n",
      "between_list is [True, True, True, True, True, True, True, True, False, False, False]\n",
      "between_list is [True, True, True, True, True, True, True, True, False, False, False]\n",
      "equality_list is [True, False, True, False, True, False, True, False, True, False, False]\n",
      "between_list is [True, True, True, True, True, True, True, True, False, False, False]\n",
      "between_list is [True, True, True, True, True, True, True, True, False, False, False]\n",
      "equality_list is [True, False, True, False, True, False, True, False, True, False, False]\n",
      "between_list is [True, True, True, True, True, True, True, True, False, False, False]\n",
      "between_list is [True, True, True, True, True, True, True, True, False, False, False]\n",
      "between_list is [True, True, True, True, True, True, True, True, False, False, False]\n",
      "['edge_Image_png_000', 'edge_png_base64_000', 'edge_base64_embededHTML_000']\n"
     ]
    }
   ],
   "source": [
    "print remove_circular_paths(path1)"
   ]
  },
  {
   "cell_type": "code",
   "execution_count": 14,
   "metadata": {
    "collapsed": false
   },
   "outputs": [
    {
     "name": "stdout",
     "output_type": "stream",
     "text": [
      "['edge_Image_png_000', 'edge_png_Image_000']\n",
      "moving Image -> png\n",
      "pil_image.mode is RGBA\n",
      "moving png -> Image\n"
     ]
    },
    {
     "data": {
      "text/plain": [
       "'thumbnail.jpg'"
      ]
     },
     "execution_count": 14,
     "metadata": {},
     "output_type": "execute_result"
    }
   ],
   "source": [
    "image_graph.jump_to_external_node(\"thumbnail\")"
   ]
  },
  {
   "cell_type": "code",
   "execution_count": 15,
   "metadata": {
    "collapsed": true
   },
   "outputs": [],
   "source": [
    "image_graph.show()"
   ]
  },
  {
   "cell_type": "code",
   "execution_count": 16,
   "metadata": {
    "collapsed": true
   },
   "outputs": [],
   "source": [
    "from scipy.io import savemat,loadmat\n",
    "new_figure=loadmat(\"PropagationConstant.fig\")"
   ]
  },
  {
   "cell_type": "code",
   "execution_count": 17,
   "metadata": {
    "collapsed": false
   },
   "outputs": [],
   "source": [
    "def fig_to_matplotlib(filename,fignr=1):\n",
    "    \"Function that uses loadmat to create a matplotlib plot of a matlab fig file\"\n",
    "    from scipy.io import loadmat\n",
    "    from numpy import size\n",
    "    from matplotlib.pyplot import plot,figure,hold,xlabel,ylabel,show,clf,xlim,legend\n",
    "    d = loadmat(filename,squeeze_me=True, struct_as_record=False)\n",
    "    ax1 = d['hgS_070000'].children\n",
    "    if size(ax1) > 1:\n",
    "        legs= ax1[1]\n",
    "        ax1 = ax1[0]\n",
    "    else:\n",
    "        legs=0\n",
    "    figure(fignr)\n",
    "    clf()\n",
    "    hold(True)\n",
    "    counter = 0    \n",
    "    for line in ax1.children:\n",
    "        if line.type == 'graph2d.lineseries':\n",
    "            if hasattr(line.properties,'Marker'):\n",
    "                mark = \"%s\" % line.properties.Marker\n",
    "                mark = mark[0]\n",
    "            else:\n",
    "                mark = '.'\n",
    "            if hasattr(line.properties,'LineStyle'):\n",
    "                linestyle = \"%s\" % line.properties.LineStyle\n",
    "            else:\n",
    "                linestyle = '-'\n",
    "            if hasattr(line.properties,'Color'):\n",
    "                r,g,b =  line.properties.Color\n",
    "            else:\n",
    "                r = 0\n",
    "                g = 0\n",
    "                b = 1\n",
    "            if hasattr(line.properties,'MarkerSize'):\n",
    "                marker_size = line.properties.MarkerSize\n",
    "            else:\n",
    "                marker_size = 1                \n",
    "            x = line.properties.XData\n",
    "            y = line.properties.YData\n",
    "            plot(x,y,marker=mark,linestyle=linestyle,color=(r,g,b),markersize=marker_size)\n",
    "        elif line.type == 'text':\n",
    "            if counter <1:\n",
    "                #print(dir(line.properties))\n",
    "                counter += 1\n",
    "            elif counter < 2:\n",
    "                #print dir(line.properties.String)\n",
    "                xlabel(\"%s\" % line.properties.String,fontsize = 16)\n",
    "                counter += 1 \n",
    "            elif counter < 3:\n",
    "                #print dir(line.properties.String)\n",
    "                ylabel(\"%s\" % line.properties.String,fontsize = 16)\n",
    "                counter += 1 \n",
    "    xlim(ax1.properties.XLim)\n",
    "    if legs:        \n",
    "        leg_entries = tuple(legs.properties.String)\n",
    "        py_locs = ['upper center','lower center','right','left','upper right','upper left','lower right','lower left','best']\n",
    "        MAT_locs=['North','South','East','West','NorthEast', 'NorthWest', 'SouthEast', 'SouthWest','Best']\n",
    "        Mat2py = dict(zip(MAT_locs,py_locs))\n",
    "        location = legs.properties.Location\n",
    "        legend(leg_entries,loc=Mat2py[location])\n",
    "    hold(False)\n",
    "    show()"
   ]
  },
  {
   "cell_type": "code",
   "execution_count": 18,
   "metadata": {
    "collapsed": false,
    "scrolled": true
   },
   "outputs": [],
   "source": [
    "fig_to_matplotlib(\"PropagationConstant.fig\")"
   ]
  },
  {
   "cell_type": "code",
   "execution_count": 19,
   "metadata": {
    "collapsed": false
   },
   "outputs": [],
   "source": [
    "fig_to_matplotlib(\"CharacteristicImpedance.fig\")"
   ]
  },
  {
   "cell_type": "markdown",
   "metadata": {
    "collapsed": true
   },
   "source": [
    "<img src=\"test.png\" />"
   ]
  },
  {
   "cell_type": "code",
   "execution_count": 20,
   "metadata": {
    "collapsed": false
   },
   "outputs": [
    {
     "data": {
      "text/html": [
       "<img src='data:image/png;base64,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' />"
      ],
      "text/plain": [
       "<IPython.core.display.HTML object>"
      ]
     },
     "metadata": {},
     "output_type": "display_data"
    }
   ],
   "source": [
    "import base64\n",
    "in_file=open(\"test.png\", \"rb\")\n",
    "encoded = base64.b64encode(in_file.read())\n",
    "in_file.close()\n",
    "display(HTML(\"<img src='data:image/png;base64,{0}' />\".format(encoded)))"
   ]
  },
  {
   "cell_type": "code",
   "execution_count": 21,
   "metadata": {
    "collapsed": false
   },
   "outputs": [
    {
     "data": {
      "text/plain": [
       "'test.png'"
      ]
     },
     "execution_count": 21,
     "metadata": {},
     "output_type": "execute_result"
    }
   ],
   "source": [
    "base64_to_png(encoded)"
   ]
  },
  {
   "cell_type": "code",
   "execution_count": 22,
   "metadata": {
    "collapsed": true
   },
   "outputs": [],
   "source": [
    "decoded= base64.b64decode(base64.b64encode(open(\"test.png\", \"rb\").read()))"
   ]
  },
  {
   "cell_type": "code",
   "execution_count": 23,
   "metadata": {
    "collapsed": false
   },
   "outputs": [
    {
     "data": {
      "text/plain": [
       "True"
      ]
     },
     "execution_count": 23,
     "metadata": {},
     "output_type": "execute_result"
    }
   ],
   "source": [
    "decoded==open(\"test.png\", \"rb\").read()"
   ]
  },
  {
   "cell_type": "code",
   "execution_count": 24,
   "metadata": {
    "collapsed": true
   },
   "outputs": [],
   "source": [
    "out_file=open(\"test2.png\",\"wb\")"
   ]
  },
  {
   "cell_type": "code",
   "execution_count": 25,
   "metadata": {
    "collapsed": false
   },
   "outputs": [],
   "source": [
    "out_file.write(open(\"test.png\", \"rb\").read())"
   ]
  },
  {
   "cell_type": "code",
   "execution_count": 26,
   "metadata": {
    "collapsed": true
   },
   "outputs": [],
   "source": [
    "out_file.close()"
   ]
  },
  {
   "cell_type": "code",
   "execution_count": 27,
   "metadata": {
    "collapsed": false
   },
   "outputs": [],
   "source": [
    " from scipy import misc"
   ]
  },
  {
   "cell_type": "code",
   "execution_count": 28,
   "metadata": {
    "collapsed": true
   },
   "outputs": [],
   "source": [
    "image_array=misc.imread(\"test.png\")"
   ]
  },
  {
   "cell_type": "code",
   "execution_count": null,
   "metadata": {
    "collapsed": false
   },
   "outputs": [],
   "source": []
  },
  {
   "cell_type": "code",
   "execution_count": 29,
   "metadata": {
    "collapsed": false
   },
   "outputs": [],
   "source": [
    "plt.show()"
   ]
  },
  {
   "cell_type": "code",
   "execution_count": 30,
   "metadata": {
    "collapsed": false
   },
   "outputs": [
    {
     "data": {
      "text/plain": [
       "'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'"
      ]
     },
     "execution_count": 30,
     "metadata": {},
     "output_type": "execute_result"
    }
   ],
   "source": [
    "def embeded_html_to_base64png(html_string):\n",
    "    pattern=re.compile(\"<img src='data:image/png;base64,(?P<data>.+)' />\")\n",
    "    match=re.search(pattern,html_string)\n",
    "    if match:\n",
    "        encoded=match.groupdict()[\"data\"]\n",
    "    else:\n",
    "        raise\n",
    "    return encoded\n",
    "html_string=\"<img src='data:image/png;base64,{0}' />\".format(encoded)\n",
    "embeded_html_to_base64png(html_string)"
   ]
  },
  {
   "cell_type": "code",
   "execution_count": null,
   "metadata": {
    "collapsed": true
   },
   "outputs": [],
   "source": []
  }
 ],
 "metadata": {
  "kernelspec": {
   "display_name": "Python 2",
   "language": "python",
   "name": "python2"
  },
  "language_info": {
   "codemirror_mode": {
    "name": "ipython",
    "version": 2
   },
   "file_extension": ".py",
   "mimetype": "text/x-python",
   "name": "python",
   "nbconvert_exporter": "python",
   "pygments_lexer": "ipython2",
   "version": "2.7.13"
  }
 },
 "nbformat": 4,
 "nbformat_minor": 0
}
