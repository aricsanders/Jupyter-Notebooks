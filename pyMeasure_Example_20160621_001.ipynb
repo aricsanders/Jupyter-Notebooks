{
 "cells": [
  {
   "cell_type": "markdown",
   "metadata": {},
   "source": [
    "# pyMeasure Documentation\n",
    "This notebook is intended to document some of the functionality found in pyMeasure a python package written for measurement tasks including the taking, storing and analyzing of data. This package is intended to be the backend of Calnet a project to calibrate data on a server.\n"
   ]
  },
  {
   "cell_type": "markdown",
   "metadata": {},
   "source": [
    "## The basic structure of pyMeasure\n",
    "1. pyMeasure should be a folder in python27/lib/site-packages or c:\\Anaconda2\\Lib\\Site-packages, or added to sys.path at startup time\n",
    "2. pyMeasure is the top package that contains a subpackage Code which contains subpackages DataHandlers (Models), FrontEnds(views), InstrumentControl, Analysis, Utils. Each of these sub packages (directories) contains several modules and sub directories for test.  "
   ]
  },
  {
   "cell_type": "code",
   "execution_count": 1,
   "metadata": {
    "collapsed": false
   },
   "outputs": [
    {
     "name": "stdout",
     "output_type": "stream",
     "text": [
      "Importing Code.Utils.Names\n",
      "Importing Code.DataHandlers.NISTModels\n",
      "Importing Code.DataHandlers.GeneralModels\n",
      "Importing Code.DataHandlers.TouchstoneModels\n",
      "Importing Code.DataHandlers.XMLModels\n",
      "Importing Code.DataHandlers.RadiCALModels\n",
      "Importing Code.DataHandlers.ZipModels\n",
      "Importing Code.DataHandlers.Translations\n",
      "Importing Code.DataHandlers.StatistiCALModels\n",
      "Importing Code.DataHandlers.MUFModels\n",
      "Importing Code.Analysis.SParameter\n",
      "Importing Code.InstrumentControl.Instruments\n",
      "Importing Code.InstrumentControl.Experiments\n"
     ]
    }
   ],
   "source": [
    "# to import the full package \n",
    "import pyMeasure\n",
    "# to import a sub package\n",
    "from pyMeasure.Code.Utils.Names import *\n"
   ]
  },
  {
   "cell_type": "markdown",
   "metadata": {},
   "source": [
    "## What does pyMeasure do? It can handle common data found in laboratories and provides tools for analyzing and viewing the data along with helpful functions.\n",
    "\n",
    "for example, if you have an S2p file."
   ]
  },
  {
   "cell_type": "code",
   "execution_count": 2,
   "metadata": {
    "collapsed": false
   },
   "outputs": [
    {
     "name": "stdout",
     "output_type": "stream",
     "text": [
      "C:\\Anaconda2\\lib\\site-packages\\pyMeasure\\Code\\DataHandlers\\Tests\\TwoPortTouchstoneTestFile.s2p\n"
     ]
    }
   ],
   "source": [
    "s2p_file_name=os.path.join(pyMeasure.TESTS_DIRECTORY,'TwoPortTouchstoneTestFile.s2p')\n",
    "print s2p_file_name"
   ]
  },
  {
   "cell_type": "markdown",
   "metadata": {},
   "source": [
    "### You can open it, change the units, plot it etc..."
   ]
  },
  {
   "cell_type": "code",
   "execution_count": 3,
   "metadata": {
    "collapsed": true
   },
   "outputs": [],
   "source": [
    "s2p_table=pyMeasure.S2PV1(s2p_file_name)"
   ]
  },
  {
   "cell_type": "code",
   "execution_count": 9,
   "metadata": {
    "collapsed": false
   },
   "outputs": [
    {
     "data": {
      "text/plain": [
       "'RI'"
      ]
     },
     "execution_count": 9,
     "metadata": {},
     "output_type": "execute_result"
    }
   ],
   "source": [
    "# now we can find out what format it is in\n",
    "s2p_table.format"
   ]
  },
  {
   "cell_type": "code",
   "execution_count": 5,
   "metadata": {
    "collapsed": false
   },
   "outputs": [
    {
     "data": {
      "text/plain": [
       "'C:\\\\Anaconda2\\\\lib\\\\site-packages\\\\pyMeasure\\\\Code\\\\DataHandlers\\\\Tests\\\\TwoPortTouchstoneTestFile.s2p'"
      ]
     },
     "execution_count": 5,
     "metadata": {},
     "output_type": "execute_result"
    }
   ],
   "source": [
    "s2p_table.path"
   ]
  },
  {
   "cell_type": "code",
   "execution_count": 6,
   "metadata": {
    "collapsed": false
   },
   "outputs": [
    {
     "data": {
      "text/plain": [
       "' # GHZ    S   RI   R   50.0'"
      ]
     },
     "execution_count": 6,
     "metadata": {},
     "output_type": "execute_result"
    }
   ],
   "source": [
    "s2p_table.option_line"
   ]
  },
  {
   "cell_type": "code",
   "execution_count": 7,
   "metadata": {
    "collapsed": false
   },
   "outputs": [
    {
     "name": "stdout",
     "output_type": "stream",
     "text": [
      " # GHZ    S   RI   R   50.0\n",
      "1\t0.3926\t-0.1211\t-0.0003\t-0.0021\t-0.0003\t-0.0021\t0.3926\t-0.1211!Inline Comment\n",
      "2\t0.3517\t-0.3054\t-0.0096\t-0.0298\t-0.0096\t-0.0298\t0.3517\t-0.3054\n",
      "10\t0.3419\t0.3336\t-0.0134\t0.0379\t-0.0134\t0.0379\t0.3419\t0.3336\n",
      "! Noise parameters\n",
      "1\t2\t-0.1211\t-0.0003\t0.4\n",
      "2\t2.5\t-0.3054\t-0.0096\t0.45\n",
      "3\t3\t-0.6916\t-0.6933\t0.5\n",
      "4\t3.5\t-0.3756\t0.4617\t0.55\n",
      "5\t4\t0.388\t0.6848\t0.6\n",
      "6\t4.5\t0.0343\t0.0383\t0.65\n",
      "7\t5\t0.6916\t0.6933\t0.7\n",
      "8\t5.5\t0.5659\t0.1\t0.75\n",
      "9\t6\t0.4145\t0.0307\t0.8\n",
      "10\t6.5\t0.3336\t0.0134\t0.85\n"
     ]
    }
   ],
   "source": [
    "print s2p_table"
   ]
  },
  {
   "cell_type": "code",
   "execution_count": 10,
   "metadata": {
    "collapsed": true
   },
   "outputs": [],
   "source": [
    "# we can plot the data \n",
    "fig=s2p_table.show()"
   ]
  },
  {
   "cell_type": "code",
   "execution_count": 12,
   "metadata": {
    "collapsed": false
   },
   "outputs": [
    {
     "name": "stdout",
     "output_type": "stream",
     "text": [
      "Help on class S2PV1 in module Code.DataHandlers.TouchstoneModels:\n",
      "\n",
      "class S2PV1(SNPBase)\n",
      " |  A container for s2p version 1 files. Files consist of comments, option line, S parameter data\n",
      " |  and noise parameter data\n",
      " |  \n",
      " |  Methods defined here:\n",
      " |  \n",
      " |  __init__(self, file_path=None, **options)\n",
      " |      Initialization of the s2p class for version 1 files,\n",
      " |      if a file path is specified, it opens and parses the file. If the file path is not\n",
      " |      specified then data can be added through the s2pv1.data. A reference to the version 1 touchstone\n",
      " |      format may be found at\n",
      " |      http://cp.literature.agilent.com/litweb/pdf/genesys200801/sim/linear_sim/sparams/touchstone_file_format.htm\n",
      " |  \n",
      " |  __read_and_fix__(self)\n",
      " |      Reads a s2pv1 file and fixes any problems with delimiters. Since s2p files may use\n",
      " |      any white space or combination of white space as data delimiters it reads the data and creates\n",
      " |      a uniform delimter. This means a file saved with save() will not be the same as the original if the\n",
      " |      whitespace is not uniform. It will also remove blank lines.\n",
      " |  \n",
      " |  add_noiseparameter_row(self, row_data)\n",
      " |      Adds data to the noiseparameter_data attribute, which is a list of noise parameters. The\n",
      " |      data can be a list of 5 real numbers dictionary with appropriate column names,\n",
      " |      note column names are not case sensitive\n",
      " |  \n",
      " |  add_sparameter_complex_row(self, row_data)\n",
      " |      Adds a row to the sparameter_complex attribute. This attribute stores the values of the sparameter table in\n",
      " |      complex form for easy conversion and manipulation. Row_data is assumed to be of the same form that would be\n",
      " |      given to add_sparameter_row\n",
      " |  \n",
      " |  add_sparameter_row(self, row_data)\n",
      " |      Adds data to the sparameter attribute, which is a list of s-parameters. The\n",
      " |      data can be a list of 9 real numbers\n",
      " |       or dictionary with appropriate column names, note column names are not case sensitive\n",
      " |  \n",
      " |  build_string(self, **temp_options)\n",
      " |      Creates the output string\n",
      " |  \n",
      " |  change_data_format(self, new_format=None)\n",
      " |      Changes the data format to new_format. Format must be one of the following: 'DB','MA','RI'\n",
      " |      standing for Decibel-Angle, Magnitude-Angle or Real-Imaginary as per the touchstone specification\n",
      " |      all angles are in degrees.\n",
      " |  \n",
      " |  correct_switch_terms(self, switch_terms=None, switch_terms_format='port')\n",
      " |      Corrects sparameter data for switch terms. Switch terms must be a list with a row of format\n",
      " |      [Frequency,SWF,SWR] where SWF is the complex foward switch term (SWport2),\n",
      " |      SWR is the complex reverse switch term (SWport1)\n",
      " |  \n",
      " |  show(self, type='matplotlib')\n",
      " |      Shows the touchstone file\n",
      " |  \n",
      " |  sparameter_row_to_complex(self, row_data=None, row_index=None)\n",
      " |      Given a row_data string, row_data list, or row_data dictionary it converts the values of the sparameter to\n",
      " |      complex notation (complex types) and returns a single list with 5 elements [Frequency,S11,S21,S12,S22]\n",
      " |  \n",
      " |  ----------------------------------------------------------------------\n",
      " |  Methods inherited from SNPBase:\n",
      " |  \n",
      " |  __getitem__(self, items)\n",
      " |      Controls how the model responds to self[\"Item\"]\n",
      " |  \n",
      " |  __str__(self)\n",
      " |      Controls how the model displays when print and str are called\n",
      " |  \n",
      " |  change_frequency_units(self, new_frequency_units=None)\n",
      " |      Changes the frequency units from the current to new_frequency_units. Frequency units must be one\n",
      " |      an accepted scientific prefix, function is case sensitive (mHz=milli Hertz, MHz=Mega Hertz)\n",
      " |  \n",
      " |  get_column(self, column_name=None, column_index=None)\n",
      " |      Returns a column as a list given a column name or column index\n",
      " |  \n",
      " |  get_data_dictionary_list(self, use_row_formatter_string=True)\n",
      " |      Returns a python list with a row dictionary of form {column_name:data_column} for sparameters only\n",
      " |  \n",
      " |  save(self, file_path=None, **temp_options)\n",
      " |      Saves the snp file to file_path with options, defaults to snp.path\n",
      "\n"
     ]
    }
   ],
   "source": [
    "# python help for the class\n",
    "help(pyMeasure.S2PV1)"
   ]
  },
  {
   "cell_type": "code",
   "execution_count": 14,
   "metadata": {
    "collapsed": false
   },
   "outputs": [
    {
     "data": {
      "text/plain": [
       "<matplotlib.figure.Figure at 0x10ab8e10>"
      ]
     },
     "execution_count": 14,
     "metadata": {},
     "output_type": "execute_result"
    }
   ],
   "source": [
    "s2p_table.show()"
   ]
  },
  {
   "cell_type": "code",
   "execution_count": null,
   "metadata": {
    "collapsed": true
   },
   "outputs": [],
   "source": []
  }
 ],
 "metadata": {
  "kernelspec": {
   "display_name": "Python 2",
   "language": "python",
   "name": "python2"
  },
  "language_info": {
   "codemirror_mode": {
    "name": "ipython",
    "version": 2
   },
   "file_extension": ".py",
   "mimetype": "text/x-python",
   "name": "python",
   "nbconvert_exporter": "python",
   "pygments_lexer": "ipython2",
   "version": "2.7.12"
  }
 },
 "nbformat": 4,
 "nbformat_minor": 0
}
