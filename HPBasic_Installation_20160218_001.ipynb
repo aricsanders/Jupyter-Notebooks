{
 "cells": [
  {
   "cell_type": "markdown",
   "metadata": {},
   "source": [
    "## HP Basic Installation\n",
    "\n",
    "1. Download a copy of the [HP Basic file] [hpbasic]\n",
    "2. Navitigate to Setup.exe and run\n",
    "3. Enter name and org when prompted along with the HP Basic Key : 306331007747\n",
    "4. Click Installed Properly when asked to reinstall."
   ]
  },
  {
   "cell_type": "markdown",
   "metadata": {},
   "source": [
    "## Exporting an HP Basic Program to an ASCII File that is DOS readable\n",
    "1. Click on HP Basic Icon\n",
    "2. Type:\n",
    "    + CONFIGURE SAVE ASCII OFF\n",
    "    + LOAD \"FILE_NAME\"\n",
    "    + SAVE \"NEW_FILE_NAME\" \n",
    "\n"
   ]
  },
  {
   "cell_type": "markdown",
   "metadata": {},
   "source": [
    "## Getting Code Highlighting For Plain Text Version\n",
    "1. Download PrismJS [prism]:http://prismjs.com/\n",
    "    + For some reason download is broken on IE on Win7 for work computers, I used Chrome\n",
    "2. Make a HTML page with a link to the CSS and a script with src=\"prism.js\"\n",
    "3. Wrap your basic code in ```html <pre><code class=\"language-basic\" ><script> ```\n",
    "tags, and you are done!\n",
    "\n"
   ]
  },
  {
   "cell_type": "code",
   "execution_count": null,
   "metadata": {
    "collapsed": true
   },
   "outputs": [],
   "source": []
  }
 ],
 "metadata": {
  "kernelspec": {
   "display_name": "Python 2",
   "language": "python",
   "name": "python2"
  },
  "language_info": {
   "codemirror_mode": {
    "name": "ipython",
    "version": 2
   },
   "file_extension": ".py",
   "mimetype": "text/x-python",
   "name": "python",
   "nbconvert_exporter": "python",
   "pygments_lexer": "ipython2",
   "version": "2.7.13"
  }
 },
 "nbformat": 4,
 "nbformat_minor": 0
}
