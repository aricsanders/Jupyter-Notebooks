{
 "cells": [
  {
   "cell_type": "markdown",
   "metadata": {},
   "source": [
    "# Calibration of a DUT using StatistiCAL in python\n",
    "This notebook is an example of how to calibrate a DUT using the [StatistiCAL] [cal] program using python bindings.\n",
    "\n",
    "## Table of contents\n",
    "<ol>\n",
    "<li> importing the files </li>\n",
    "<li> creating a menu file </li>\n",
    "<li> calling statistical and running the menu files </li>\n",
    "<li> displaying the result </li>\n",
    "\n",
    "[cal]:http://www.nist.gov/ctl/rf-technology/related-software.cfm"
   ]
  },
  {
   "cell_type": "code",
   "execution_count": 7,
   "metadata": {
    "collapsed": false
   },
   "outputs": [],
   "source": [
    "# importing the needed files, these are the files used in the help function of statistiCAL\n",
    "import os\n",
    "\n",
    "# first import the python bindings for statistiCAL\n",
    "from pyMeasure.Code.DataHandlers import StatistiCALModels as SC\n"
   ]
  },
  {
   "cell_type": "code",
   "execution_count": 40,
   "metadata": {
    "collapsed": false
   },
   "outputs": [],
   "source": [
    "# This initializes the wrapper class\n",
    "StatistiCAL=SC.StatistiCALWrapper()"
   ]
  },
  {
   "cell_type": "code",
   "execution_count": 9,
   "metadata": {
    "collapsed": false
   },
   "outputs": [],
   "source": [
    "# Now given a set of files we need to make a menu\n",
    "# The easiest way is to open a menu and edit it\n",
    "TESTS_DIRECTORY=os.path.join(os.getcwd(),r'StatistiCAL_Files\\StatistiCAL_Tests')\n",
    "file_path=os.path.join(TESTS_DIRECTORY,'sample2.txt')\n",
    "template_menu=SC.StatistiCALMenuModel(file_path)\n",
    "# now we change the file paths from relative to the new locations\n",
    "for index,item in enumerate(template_menu.menu_data[:]):\n",
    "    template_menu.menu_data[index]=item.replace(\"\\\\\",TESTS_DIRECTORY+\"\\\\\")\n",
    "# save the new menu\n",
    "new_path=os.path.join(TESTS_DIRECTORY,'fixed_sample.txt')\n",
    "template_menu.save(new_path)\n",
    "    \n",
    "\n"
   ]
  },
  {
   "cell_type": "code",
   "execution_count": 29,
   "metadata": {
    "collapsed": true
   },
   "outputs": [],
   "source": [
    "StatistiCAL.SuppressErrorMessages()\n",
    "StatistiCAL.HideStatistiCAL()\n",
    "StatistiCAL.OutOfFocusWhileCalculating()\n",
    "StatistiCAL.OpenMenu(new_path)"
   ]
  },
  {
   "cell_type": "code",
   "execution_count": 32,
   "metadata": {
    "collapsed": true
   },
   "outputs": [],
   "source": [
    "StatistiCAL.ShowStatistiCAL()"
   ]
  },
  {
   "cell_type": "code",
   "execution_count": 35,
   "metadata": {
    "collapsed": false
   },
   "outputs": [],
   "source": [
    "StatistiCAL.InFocusWhileCalculating()\n",
    "StatistiCAL.ShowStatistiCAL()\n",
    "StatistiCAL.CalibrateData()\n",
    "pyautogui.hotkey('alt', 'y')"
   ]
  },
  {
   "cell_type": "code",
   "execution_count": 14,
   "metadata": {
    "collapsed": false
   },
   "outputs": [],
   "source": [
    "# now we load the file into StatistiCAL\n",
    "StatistiCAL.OpenMenu(new_path)\n",
    "# we hide the application and supress the error messages\n",
    "#StatistiCAL.SuppressErrorMessages()\n",
    "#StatistiCAL.HideStatistiCAL()\n",
    "#we run the calibration\n",
    "StatistiCAL.CalibrateData()\n",
    "\n",
    "#we save the results\n",
    "calibrated_dut_filepath=os.path.join(TESTS_DIRECTORY,'calibrated_dut.s2p')\n",
    "StatistiCAL.SaveDUTSParToFile(calibrated_dut_filepath)"
   ]
  },
  {
   "cell_type": "code",
   "execution_count": 26,
   "metadata": {
    "collapsed": true
   },
   "outputs": [],
   "source": [
    "import pyautogui"
   ]
  },
  {
   "cell_type": "code",
   "execution_count": 27,
   "metadata": {
    "collapsed": true
   },
   "outputs": [],
   "source": [
    "pyautogui.hotkey('alt', 'y')"
   ]
  },
  {
   "cell_type": "code",
   "execution_count": 37,
   "metadata": {
    "collapsed": false
   },
   "outputs": [
    {
     "data": {
      "text/plain": [
       "(1088, 84)"
      ]
     },
     "execution_count": 37,
     "metadata": {},
     "output_type": "execute_result"
    }
   ],
   "source": [
    "pyautogui.position()"
   ]
  },
  {
   "cell_type": "code",
   "execution_count": 39,
   "metadata": {
    "collapsed": true
   },
   "outputs": [],
   "source": [
    "pyautogui.typewrite('Hello world!')    "
   ]
  },
  {
   "cell_type": "code",
   "execution_count": 42,
   "metadata": {
    "collapsed": false,
    "scrolled": false
   },
   "outputs": [
    {
     "data": {
      "text/plain": [
       "['_ApplyTypes_',\n",
       " '_FlagAsMethod',\n",
       " '_LazyAddAttr_',\n",
       " '_NewEnum',\n",
       " '_Release_',\n",
       " '__AttrToID__',\n",
       " '__LazyMap__',\n",
       " '__call__',\n",
       " '__doc__',\n",
       " '__eq__',\n",
       " '__getattr__',\n",
       " '__getitem__',\n",
       " '__init__',\n",
       " '__int__',\n",
       " '__len__',\n",
       " '__module__',\n",
       " '__ne__',\n",
       " '__nonzero__',\n",
       " '__repr__',\n",
       " '__setattr__',\n",
       " '__setitem__',\n",
       " '__str__',\n",
       " '_builtMethods_',\n",
       " '_enum_',\n",
       " '_find_dispatch_type_',\n",
       " '_get_good_object_',\n",
       " '_get_good_single_object_',\n",
       " '_lazydata_',\n",
       " '_make_method_',\n",
       " '_mapCachedItems_',\n",
       " '_oleobj_',\n",
       " '_olerepr_',\n",
       " '_print_details_',\n",
       " '_proc_',\n",
       " '_unicode_to_string_',\n",
       " '_username_',\n",
       " '_wrap_dispatch_']"
      ]
     },
     "execution_count": 42,
     "metadata": {},
     "output_type": "execute_result"
    }
   ],
   "source": [
    "dir(StatistiCAL.application)"
   ]
  },
  {
   "cell_type": "code",
   "execution_count": 43,
   "metadata": {
    "collapsed": false
   },
   "outputs": [
    {
     "data": {
      "text/plain": [
       "'\\n    The dynamic class used as a last resort.\\n    The purpose of this overriding of dynamic.CDispatch is to perpetuate the policy\\n    of using the makepy generated wrapper Python class instead of dynamic.CDispatch\\n    if/when possible.\\n  '"
      ]
     },
     "execution_count": 43,
     "metadata": {},
     "output_type": "execute_result"
    }
   ],
   "source": [
    "StatistiCAL.application.__doc__"
   ]
  },
  {
   "cell_type": "code",
   "execution_count": null,
   "metadata": {
    "collapsed": true
   },
   "outputs": [],
   "source": []
  }
 ],
 "metadata": {
  "kernelspec": {
   "display_name": "Python 2",
   "language": "python",
   "name": "python2"
  },
  "language_info": {
   "codemirror_mode": {
    "name": "ipython",
    "version": 2
   },
   "file_extension": ".py",
   "mimetype": "text/x-python",
   "name": "python",
   "nbconvert_exporter": "python",
   "pygments_lexer": "ipython2",
   "version": "2.7.11"
  }
 },
 "nbformat": 4,
 "nbformat_minor": 0
}
