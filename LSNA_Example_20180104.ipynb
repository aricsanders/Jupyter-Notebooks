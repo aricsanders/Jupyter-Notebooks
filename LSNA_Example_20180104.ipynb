{
 "cells": [
  {
   "cell_type": "markdown",
   "metadata": {},
   "source": [
    "# LSNA Example\n",
    "This notebook is an example of how to preform an LSNA calibration using pyMez and the Microwave uncertainty framework\n",
    "\n",
    "1. Power Calibration. The power calibration requires the measurement of a power meter at different frequencies, its reflection coefficient, and the measurement of the a's and b's for the VNA. In addition, a file with the power meters calibrated response is desired. For this example we will use the ZVA67 as the VNA, the Rhode&Scharz NRP power meter with the NRP-Z57 as the detector.\n",
    "2. Harmonic Phase Reference. The harmonic phase reference calibration requires the measurement of a comb (serial #), its reflection coefficient and its calibration file.\n",
    "3. Linear S-parameter calibration. This requires a calibration using one of the many Sparameter calibration techniques. The linear Sparameter calibration is performed on a set of wnp files that record the receiver values directly.\n",
    "4. DUT measurement. DUT's are measured by setting a signal to the desired configuration and measuring wnp file."
   ]
  },
  {
   "cell_type": "code",
   "execution_count": 2,
   "metadata": {
    "collapsed": false
   },
   "outputs": [
    {
     "name": "stdout",
     "output_type": "stream",
     "text": [
      "Importing pyMez, this should take roughly 30 seconds\n",
      "Importing Code.DataHandlers.GeneralModels\n",
      "It took 3.149 s to import Code.DataHandlers.GeneralModels\n",
      "Importing Code.DataHandlers.HTMLModels\n",
      "It took 0.532 s to import Code.DataHandlers.HTMLModels\n",
      "Importing Code.DataHandlers.NISTModels\n",
      "It took 9.645 s to import Code.DataHandlers.NISTModels\n",
      "Importing Code.DataHandlers.TouchstoneModels\n",
      "It took 0.01 s to import Code.DataHandlers.TouchstoneModels\n",
      "Importing Code.DataHandlers.XMLModels\n",
      "It took 0.33 s to import Code.DataHandlers.XMLModels\n",
      "Importing Code.DataHandlers.ZipModels\n",
      "It took 0.032 s to import Code.DataHandlers.ZipModels\n",
      "Importing Code.InstrumentControl.Experiments\n",
      "It took 1.711 s to import Code.InstrumentControl.Experiments\n",
      "Importing Code.InstrumentControl.Instruments\n",
      "It took 0.029 s to import Code.InstrumentControl.Instruments\n",
      "Importing Code.Utils.Names\n",
      "It took 0.022 s to import Code.Utils.Names\n",
      "It took 15.461 s to import all of the active modules\n"
     ]
    }
   ],
   "source": [
    "# import the pyMez package (renamed 01/01/2018)\n",
    "from pyMez import *"
   ]
  },
  {
   "cell_type": "code",
   "execution_count": 1,
   "metadata": {
    "collapsed": true
   },
   "outputs": [],
   "source": [
    "# This is the configuration setting for the calibration\n",
    "vna_address=\"GPIB::20\"\n",
    "power_meter_address=\"GPIB::14\"\n",
    "vna_frequency_start=200*10**6\n",
    "vna_frequency_stop=50*10**9\n",
    "vna_frequency_number_points=101\n",
    "vna_sweep_type=\"LIN\"\n",
    "vna_IFBW=1000\n",
    "vna_power=-10\n",
    "vna_power_correction=\"OFF\"\n",
    "vna_correction=\"OFF\"\n",
    "power_meter_units=\"W\"\n",
    "power_meter_function=\"POW:AVG\"\n",
    "measurement_delay=2/vna_IFBW\n",
    "port=1\n",
    "data_directory=\"\"\n"
   ]
  },
  {
   "cell_type": "code",
   "execution_count": 3,
   "metadata": {
    "collapsed": false
   },
   "outputs": [],
   "source": [
    "# create the instrument visa classes\n",
    "vna=VNA(vna_address)\n",
    "power_meter=NRPPowerMeter(power_meter_address)"
   ]
  },
  {
   "cell_type": "code",
   "execution_count": 4,
   "metadata": {
    "collapsed": false
   },
   "outputs": [
    {
     "name": "stdout",
     "output_type": "stream",
     "text": [
      "{'SENS:AVER': u'0', 'SENS:BAND': u'10', 'SOUR:POW': u'-3', 'SENS:SWE:TYPE': u'POIN', 'SOUR:POW:CORR:STAT': u'0', 'SOUR:POW:SLOP': u'0', 'SENS:CORR:STAT': u'1'}\n",
      "{'SENS:FUNC': u'\"POW:AVG\"', 'UNIT:POW': u'W'}\n"
     ]
    }
   ],
   "source": [
    "# we can check the states if the instrument sheets are defined and located in pyMez/Instruments\n",
    "print vna.get_state()\n",
    "print power_meter.get_state()\n",
    "# to save these states as an xml we use vna.save_state(path_to_save) and we can load them using vna.load_state"
   ]
  },
  {
   "cell_type": "markdown",
   "metadata": {},
   "source": [
    "## Power Calibration\n",
    "We first measure the gamma of the power meter in S11 of an s2p. Then we set the instrument into a point state and measure both a w1p and a power reading file. This is used in conjunction with a calibration file. "
   ]
  },
  {
   "cell_type": "code",
   "execution_count": 5,
   "metadata": {
    "collapsed": true
   },
   "outputs": [],
   "source": [
    "# now we set up the frequency list for the ZVA and save it.\n",
    "# Options are start, stop, number_points, type, step,etc..\n",
    "# Default is start, stop, number_points\n",
    "vna.set_frequency(start=vna_frequency_start,\n",
    "                  stop=vna_frequency_stop,\n",
    "                  number_points=vna_frequency_number_points,\n",
    "                  type=vna_sweep_type)"
   ]
  },
  {
   "cell_type": "code",
   "execution_count": 8,
   "metadata": {
    "collapsed": true
   },
   "outputs": [],
   "source": [
    "frequency_list=vna.get_frequency_list()"
   ]
  },
  {
   "cell_type": "code",
   "execution_count": 9,
   "metadata": {
    "collapsed": false
   },
   "outputs": [
    {
     "name": "stdout",
     "output_type": "stream",
     "text": [
      "[200000000.0, 698000000.0, 1196000000.0, 1694000000.0, 2192000000.0, 2690000000.0, 3188000000.0, 3686000000.0, 4184000000.0, 4682000000.0, 5180000000.0, 5678000000.0, 6176000000.0, 6674000000.0, 7172000000.0, 7670000000.0, 8168000000.0, 8666000000.0, 9164000000.0, 9662000000.0, 10160000000.0, 10658000000.0, 11156000000.0, 11654000000.0, 12152000000.0, 12650000000.0, 13148000000.0, 13646000000.0, 14144000000.0, 14642000000.0, 15140000000.0, 15638000000.0, 16136000000.0, 16634000000.0, 17132000000.0, 17630000000.0, 18128000000.0, 18626000000.0, 19124000000.0, 19622000000.0, 20120000000.0, 20618000000.0, 21116000000.0, 21614000000.0, 22112000000.0, 22610000000.0, 23108000000.0, 23606000000.0, 24104000000.0, 24602000000.0, 25100000000.0, 25598000000.0, 26096000000.0, 26594000000.0, 27092000000.0, 27590000000.0, 28088000000.0, 28586000000.0, 29084000000.0, 29582000000.0, 30080000000.0, 30578000000.0, 31076000000.0, 31574000000.0, 32072000000.0, 32570000000.0, 33068000000.0, 33566000000.0, 34064000000.0, 34562000000.0, 35060000000.0, 35558000000.0, 36056000000.0, 36554000000.0, 37052000000.0, 37550000000.0, 38048000000.0, 38546000000.0, 39044000000.0, 39542000000.0, 40040000000.0, 40538000000.0, 41036000000.0, 41534000000.0, 42032000000.0, 42530000000.0, 43028000000.0, 43526000000.0, 44024000000.0, 44522000000.0, 45020000000.0, 45518000000.0, 46016000000.0, 46514000000.0, 47012000000.0, 47510000000.0, 48008000000.0, 48506000000.0, 49004000000.0, 49502000000.0, 50000000000.0]\n"
     ]
    }
   ],
   "source": [
    "print frequency_list"
   ]
  },
  {
   "cell_type": "code",
   "execution_count": 10,
   "metadata": {
    "collapsed": true
   },
   "outputs": [],
   "source": [
    "# Now we set the IFBW of the vna\n",
    "vna.set_IFBW(vna_IFBW)"
   ]
  },
  {
   "cell_type": "code",
   "execution_count": 54,
   "metadata": {
    "collapsed": true
   },
   "outputs": [],
   "source": [
    "# now we set the power in dB\n",
    "vna.set_power(vna_power)"
   ]
  },
  {
   "cell_type": "code",
   "execution_count": 11,
   "metadata": {
    "collapsed": false
   },
   "outputs": [
    {
     "data": {
      "text/plain": [
       "(20L, <StatusCode.success: 0>)"
      ]
     },
     "execution_count": 11,
     "metadata": {},
     "output_type": "execute_result"
    }
   ],
   "source": [
    "# we turn off the corrections\n",
    "# todo: add this to class VNA as set_power_correction, set_correction \n",
    "#vna.write(\"SOUR:POW:CORR:STAT {0}\".format(vna_power_correction))\n",
    "vna.write(\"SENS:CORR:STAT {0}\".format(vna_correction))"
   ]
  },
  {
   "cell_type": "markdown",
   "metadata": {},
   "source": [
    "1.85 mm female-female adapter, flat is 1/4\""
   ]
  },
  {
   "cell_type": "code",
   "execution_count": 13,
   "metadata": {
    "collapsed": true
   },
   "outputs": [],
   "source": [
    "# now we measure a s2p with the first port as the reflection coefficient of the power meter\n",
    "vna.initialize()\n",
    "power_meter_gamma=vna.measure_sparameters()"
   ]
  },
  {
   "cell_type": "code",
   "execution_count": 14,
   "metadata": {
    "collapsed": false
   },
   "outputs": [
    {
     "data": {
      "image/png": "[encoded data removed]",
      "text/plain": [
       "<matplotlib.figure.Figure at 0xa24c828>"
      ]
     },
     "metadata": {},
     "output_type": "display_data"
    }
   ],
   "source": [
    "power_meter_gamma.show();"
   ]
  },
  {
   "cell_type": "code",
   "execution_count": 15,
   "metadata": {
    "collapsed": true
   },
   "outputs": [],
   "source": [
    "# now we measure the power meter reading and the w1p of port 1 at the same time\n",
    "# to do this we set one port wave parameters on the vna, intialize the state of the power meter, put the vna in CW mode\n",
    "# sweep through the frequency list and then put it back into the previous state\n",
    "vna.initialize_w1p()"
   ]
  },
  {
   "cell_type": "code",
   "execution_count": 16,
   "metadata": {
    "collapsed": false
   },
   "outputs": [
    {
     "data": {
      "text/plain": [
       "(12L, <StatusCode.success: 0>)"
      ]
     },
     "execution_count": 16,
     "metadata": {},
     "output_type": "execute_result"
    }
   ],
   "source": [
    "# power meter units\n",
    "power_meter.write(\"UNIT:POW {0}\".format(power_meter_units))"
   ]
  },
  {
   "cell_type": "code",
   "execution_count": 17,
   "metadata": {
    "collapsed": false
   },
   "outputs": [
    {
     "data": {
      "text/plain": [
       "(22L, <StatusCode.success: 0>)"
      ]
     },
     "execution_count": 17,
     "metadata": {},
     "output_type": "execute_result"
    }
   ],
   "source": [
    "power_meter.write(\"SENS:FREQ {0}\".format(3*10**9))"
   ]
  },
  {
   "cell_type": "code",
   "execution_count": 18,
   "metadata": {
    "collapsed": false
   },
   "outputs": [
    {
     "data": {
      "text/plain": [
       "(25L, <StatusCode.success: 0>)"
      ]
     },
     "execution_count": 18,
     "metadata": {},
     "output_type": "execute_result"
    }
   ],
   "source": [
    "\n",
    "# select the sweep type \n",
    "vna.write('SWEEP:TYPE POINT')\n",
    "# set the number of points to 1\n",
    "vna.write('SWEEP:POINTS 1')\n",
    "# set the trigger to single\n",
    "vna.write(\"INITiate:CONTinuous OFF\")"
   ]
  },
  {
   "cell_type": "code",
   "execution_count": 19,
   "metadata": {
    "collapsed": false
   },
   "outputs": [],
   "source": [
    "wparameter_data = []\n",
    "power_data=[]\n",
    "total_data=[]\n",
    "for frequency in frequency_list:\n",
    "    # set the frequency\n",
    "    vna.write(\"SOUR1:FREQ{0} {1}\".format(port,frequency))\n",
    "    power_meter.write(\"SENS:FREQ {0}\".format(frequency))\n",
    "    # trigger the vna\n",
    "    vna.write(\"ABORT;INITiate:IMMediate;*wai\")\n",
    "    reading_delay=.2\n",
    "    time.sleep(reading_delay)\n",
    "    power_meter.write(\"INIT\")\n",
    "    time.sleep(reading_delay)\n",
    "    power_meter_reading=float(power_meter.query(\"FETCh?\").replace(\"\\n\", \"\"))\n",
    "    time.sleep(measurement_delay)\n",
    "    # Set the format to ascii and set up sweep definitions\n",
    "    vna.write('FORM:ASC,0')\n",
    "    # First get the A and Blists\n",
    "    vna.write('CALC:PAR:SEL A{0}_D{0}'.format(port))\n",
    "    vna.write('CALC:FORM MLIN')\n",
    "    while vna.is_busy():\n",
    "        time.sleep(.01)\n",
    "    a_string = vna.query('CALC:DATA? SDATA')\n",
    "    vna.write('CALC:PAR:SEL  B{0}_D{0}'.format(port))\n",
    "    vna.write('CALC:FORM MLIN')\n",
    "    while vna.is_busy():\n",
    "        time.sleep(.01)\n",
    "    b_string = vna.query('CALC:DATA? SDATA')\n",
    "    # String Parsing\n",
    "    a_list = a_string.replace(\"\\n\", \"\").split(\",\")\n",
    "    b_list = b_string.replace(\"\\n\", \"\").split(\",\")\n",
    "    # Construct a list of lists that is data in RI format\n",
    "    re_a = a_list[0]\n",
    "    im_a = a_list[1]\n",
    "    re_b = b_list[0]\n",
    "    im_b = b_list[1]\n",
    "    new_row = [frequency / 10. ** 9,\n",
    "               re_a, im_a,\n",
    "               re_b, im_b]\n",
    "    #print(new_row)\n",
    "    new_row = map(lambda x: float(x), new_row)\n",
    "    new_total_row = [frequency / 10. ** 9,power_meter_reading,\n",
    "               re_a, im_a,\n",
    "               re_b, im_b]\n",
    "    new_total_row = map(lambda x: float(x), new_total_row)\n",
    "    new_total_row=new_total_row+[datetime.datetime.utcnow()]\n",
    "    wparameter_data.append(new_row)\n",
    "    power_data.append([frequency / 10. ** 9,\n",
    "               power_meter_reading])\n",
    "    total_data.append(new_total_row)\n",
    "    \n",
    "column_names = [\"Frequency\", \"reA1_D1\", \"imA1_D1\", \"reB1_D1\", \"imB1_D1\"]\n",
    "power_column_names=[\"Frequency\",\"Power\"]\n",
    "total_column_names=[\"Frequency\",\"Power\", \"reA1_D1\", \"imA1_D1\", \"reB1_D1\", \"imB1_D1\",\"Date\"]\n",
    "# add some options here about auto saving\n",
    "# do we want comment options?\n",
    "w1_options = {\"column_names_begin_token\": \"!\", \"data_delimiter\": \"  \", \"column_names\": column_names,\n",
    "                   \"data\": wparameter_data, \"specific_descriptor\": \"Wave_Parameters\",\n",
    "                   \"general_descriptor\": \"One_Port\", \"extension\": \"w1p\"}\n",
    "power_options = {\"column_names_begin_token\": \"!\", \"data_delimiter\": \"  \", \"column_names\": power_column_names,\n",
    "                   \"data\": power_data, \"specific_descriptor\": \"Power\",\n",
    "                   \"general_descriptor\": \"One_Port\", \"extension\": \"txt\"}\n",
    "total_options = { \"column_names\": total_column_names,\n",
    "                   \"data\": total_data, \"specific_descriptor\": \"Power_Cal\",\n",
    "                   \"general_descriptor\": \"One_Port\", \"extension\": \"txt\"}\n",
    "w1p = AsciiDataTable(None, **w1_options)\n",
    "power=AsciiDataTable(None, **power_options) \n",
    "total=AsciiDataTable(None, **total_options) \n",
    "              "
   ]
  },
  {
   "cell_type": "markdown",
   "metadata": {},
   "source": [
    "## Harmonic Phase Reference Measurement\n",
    "To measure the harmonic phase reference we need a gamma and a measurement of the output with the signal source turned off. The measurement of the values is w1p file. This is used in conjunction with a s2p file were the gamma of the HPR is in S11 and a calibration file. "
   ]
  },
  {
   "cell_type": "code",
   "execution_count": null,
   "metadata": {
    "collapsed": true
   },
   "outputs": [],
   "source": [
    "# measure gamma of the HPR\n",
    "vna.set_frequency(start=vna_frequency_start,\n",
    "                  stop=vna_frequency_stop,\n",
    "                  number_points=vna_frequency_number_points,\n",
    "                  type=vna_sweep_type)\n",
    "# Now we set the IFBW of the vna\n",
    "vna.set_IFBW(vna_IFBW)\n",
    "# now we set the power in dB\n",
    "vna.set_power(vna_power)"
   ]
  },
  {
   "cell_type": "code",
   "execution_count": null,
   "metadata": {
    "collapsed": true
   },
   "outputs": [],
   "source": [
    "vna.initialize()\n",
    "hpr_gamma=vna.measure_sparameters()"
   ]
  },
  {
   "cell_type": "code",
   "execution_count": null,
   "metadata": {
    "collapsed": true
   },
   "outputs": [],
   "source": [
    "# Again this is done in point mode\n",
    "# select the sweep type \n",
    "vna.write('SWEEP:TYPE POINT')\n",
    "# set the number of points to 1\n",
    "vna.write('SWEEP:POINTS 1')\n",
    "# set the trigger to single\n",
    "vna.write(\"INITiate:CONTinuous OFF\")"
   ]
  },
  {
   "cell_type": "code",
   "execution_count": null,
   "metadata": {
    "collapsed": true
   },
   "outputs": [],
   "source": [
    "wparameter_data = []\n",
    "for frequency in frequency_list:\n",
    "    # set the frequency\n",
    "    vna.write(\"SOUR1:FREQ{0} {1}\".format(port,frequency))\n",
    "    #make sure the power is off\n",
    "    vna.write('SOUR1:POW{0}:STAT OFF'.format(port)\n",
    "    # trigger the vna\n",
    "    vna.write(\"ABORT;INITiate:IMMediate;*wai\")\n",
    "    time.sleep(measurement_delay)\n",
    "    # Set the format to ascii and set up sweep definitions\n",
    "    vna.write('FORM:ASC,0')\n",
    "    # First get the A and Blists\n",
    "    vna.write('CALC:PAR:SEL A{0}_D{0}'.format(port))\n",
    "    vna.write('CALC:FORM MLIN')\n",
    "    while vna.is_busy():\n",
    "        time.sleep(.01)\n",
    "    a_string = vna.query('CALC:DATA? SDATA')\n",
    "    vna.write('CALC:PAR:SEL  B{0}_D{0}'.format(port))\n",
    "    vna.write('CALC:FORM MLIN')\n",
    "    while vna.is_busy():\n",
    "        time.sleep(.01)\n",
    "    b_string = vna.query('CALC:DATA? SDATA')\n",
    "    # String Parsing\n",
    "    a_list = a_string.replace(\"\\n\", \"\").split(\",\")\n",
    "    b_list = b_string.replace(\"\\n\", \"\").split(\",\")\n",
    "    # Construct a list of lists that is data in RI format\n",
    "    re_a = a_list[0]\n",
    "    im_a = a_list[1]\n",
    "    re_b = b_list[0]\n",
    "    im_b = b_list[1]\n",
    "    new_row = [frequency / 10. ** 9,\n",
    "               re_a, im_a,\n",
    "               re_b, im_b]\n",
    "    #print(new_row)\n",
    "    new_row = map(lambda x: float(x), new_row)\n",
    "    wparameter_data.append(new_row)\n",
    "    \n",
    "column_names = [\"Frequency\", \"reA1_D1\", \"imA1_D1\", \"reB1_D1\", \"imB1_D1\"]\n",
    "# add some options here about auto saving\n",
    "# do we want comment options?\n",
    "w1_options = {\"column_names_begin_token\": \"!\", \"data_delimiter\": \"  \", \"column_names\": column_names,\n",
    "                   \"data\": wparameter_data, \"specific_descriptor\": \"Wave_Parameters\",\n",
    "                   \"general_descriptor\": \"One_Port\", \"extension\": \"w1p\"}\n",
    "\n",
    "hpr_w1p = AsciiDataTable(None, **w1_options)              "
   ]
  },
  {
   "cell_type": "markdown",
   "metadata": {},
   "source": [
    "## Standards Measurement For Sparameter Calibration\n",
    "Now we must measure the standards for the Sparameter calibration. Each standard is attached and then the 2 port wave parameters are measured. "
   ]
  },
  {
   "cell_type": "code",
   "execution_count": null,
   "metadata": {
    "collapsed": true
   },
   "outputs": [],
   "source": [
    "# short measurement\n",
    "# attach the short\n",
    "vna.set_frequency(start=vna_frequency_start,\n",
    "                  stop=vna_frequency_stop,\n",
    "                  number_points=vna_frequency_number_points,\n",
    "                  type=vna_sweep_type)\n",
    "# Now we set the IFBW of the vna\n",
    "vna.set_IFBW(vna_IFBW)\n",
    "# now we set the power in dB\n",
    "vna.set_power(vna_power)\n",
    "vna.initialize_w2p()\n",
    "short_w2p=vna.measure_w2p()\n"
   ]
  },
  {
   "cell_type": "code",
   "execution_count": null,
   "metadata": {
    "collapsed": true
   },
   "outputs": [],
   "source": [
    "# open measurement\n",
    "# attach the open\n",
    "vna.set_frequency(start=vna_frequency_start,\n",
    "                  stop=vna_frequency_stop,\n",
    "                  number_points=vna_frequency_number_points,\n",
    "                  type=vna_sweep_type)\n",
    "# Now we set the IFBW of the vna\n",
    "vna.set_IFBW(vna_IFBW)\n",
    "# now we set the power in dB\n",
    "vna.set_power(vna_power)\n",
    "vna.initialize_w2p()\n",
    "open_w2p=vna.measure_w2p()\n"
   ]
  },
  {
   "cell_type": "code",
   "execution_count": null,
   "metadata": {
    "collapsed": true
   },
   "outputs": [],
   "source": [
    "# load measurement\n",
    "# attach the load\n",
    "vna.set_frequency(start=vna_frequency_start,\n",
    "                  stop=vna_frequency_stop,\n",
    "                  number_points=vna_frequency_number_points,\n",
    "                  type=vna_sweep_type)\n",
    "# Now we set the IFBW of the vna\n",
    "vna.set_IFBW(vna_IFBW)\n",
    "# now we set the power in dB\n",
    "vna.set_power(vna_power)\n",
    "vna.initialize_w2p()\n",
    "load_w2p=vna.measure_w2p()"
   ]
  },
  {
   "cell_type": "code",
   "execution_count": null,
   "metadata": {
    "collapsed": true
   },
   "outputs": [],
   "source": [
    "# Thru measurement\n",
    "# attach the thru\n",
    "vna.set_frequency(start=vna_frequency_start,\n",
    "                  stop=vna_frequency_stop,\n",
    "                  number_points=vna_frequency_number_points,\n",
    "                  type=vna_sweep_type)\n",
    "# Now we set the IFBW of the vna\n",
    "vna.set_IFBW(vna_IFBW)\n",
    "# now we set the power in dB\n",
    "vna.set_power(vna_power)\n",
    "vna.initialize_w2p()\n",
    "thru_w2p=vna.measure_w2p()"
   ]
  },
  {
   "cell_type": "code",
   "execution_count": 20,
   "metadata": {
    "collapsed": false
   },
   "outputs": [
    {
     "data": {
      "text/plain": [
       "{'SENS:FUNC': u'\"POW:AVG\"', 'UNIT:POW': u'W'}"
      ]
     },
     "execution_count": 20,
     "metadata": {},
     "output_type": "execute_result"
    }
   ],
   "source": [
    "power_meter.get_state()"
   ]
  },
  {
   "cell_type": "code",
   "execution_count": 21,
   "metadata": {
    "collapsed": false
   },
   "outputs": [
    {
     "data": {
      "text/plain": [
       "(14L, <StatusCode.success: 0>)"
      ]
     },
     "execution_count": 21,
     "metadata": {},
     "output_type": "execute_result"
    }
   ],
   "source": [
    "power_meter.write(\"UNIT:POW DBM\")"
   ]
  },
  {
   "cell_type": "code",
   "execution_count": 7,
   "metadata": {
    "collapsed": false
   },
   "outputs": [
    {
     "name": "stdout",
     "output_type": "stream",
     "text": [
      "The information sheet was not found defaulting to address\n"
     ]
    }
   ],
   "source": [
    "scope=HighSpeedOscope(\"GPIB0::7\")"
   ]
  },
  {
   "cell_type": "code",
   "execution_count": 10,
   "metadata": {
    "collapsed": false
   },
   "outputs": [
    {
     "ename": "IndexError",
     "evalue": "list index out of range",
     "output_type": "error",
     "traceback": [
      "\u001b[0;31m---------------------------------------------------------------------------\u001b[0m",
      "\u001b[0;31mIndexError\u001b[0m                                Traceback (most recent call last)",
      "\u001b[0;32m<ipython-input-10-2142f14d3124>\u001b[0m in \u001b[0;36m<module>\u001b[0;34m()\u001b[0m\n\u001b[0;32m----> 1\u001b[0;31m \u001b[0mwave\u001b[0m\u001b[1;33m=\u001b[0m\u001b[0mscope\u001b[0m\u001b[1;33m.\u001b[0m\u001b[0mmeasure_waves\u001b[0m\u001b[1;33m(\u001b[0m\u001b[1;33m)\u001b[0m\u001b[1;33m\u001b[0m\u001b[0m\n\u001b[0m",
      "\u001b[0;32mC:\\ProgramData\\Anaconda2\\lib\\site-packages\\pyMez\\Code\\InstrumentControl\\Instruments.pyc\u001b[0m in \u001b[0;36mmeasure_waves\u001b[0;34m(self, **options)\u001b[0m\n\u001b[1;32m   1315\u001b[0m                     \u001b[1;31m#                           ([row_index + frame_index * number_rows], [column_index], [frame_index])))\u001b[0m\u001b[1;33m\u001b[0m\u001b[1;33m\u001b[0m\u001b[0m\n\u001b[1;32m   1316\u001b[0m                     \u001b[0mmeasurement_data\u001b[0m\u001b[1;33m[\u001b[0m\u001b[0mrow_index\u001b[0m \u001b[1;33m+\u001b[0m \u001b[0mframe_index\u001b[0m \u001b[1;33m*\u001b[0m \u001b[0mnumber_rows\u001b[0m\u001b[1;33m]\u001b[0m\u001b[1;33m[\u001b[0m\u001b[0mcolumn_index\u001b[0m\u001b[1;33m]\u001b[0m \u001b[1;33m=\u001b[0m\u001b[0;31m \u001b[0m\u001b[0;31m\\\u001b[0m\u001b[1;33m\u001b[0m\u001b[0m\n\u001b[0;32m-> 1317\u001b[0;31m                     \u001b[0mframes_data\u001b[0m\u001b[1;33m[\u001b[0m\u001b[0mframe_index\u001b[0m\u001b[1;33m]\u001b[0m\u001b[1;33m[\u001b[0m\u001b[0mcolumn_index\u001b[0m\u001b[1;33m]\u001b[0m\u001b[1;33m[\u001b[0m\u001b[0mrow_index\u001b[0m\u001b[1;33m]\u001b[0m\u001b[1;33m\u001b[0m\u001b[0m\n\u001b[0m\u001b[1;32m   1318\u001b[0m         \u001b[1;31m# reset timeout\u001b[0m\u001b[1;33m\u001b[0m\u001b[1;33m\u001b[0m\u001b[0m\n\u001b[1;32m   1319\u001b[0m         \u001b[0mself\u001b[0m\u001b[1;33m.\u001b[0m\u001b[0mresource\u001b[0m\u001b[1;33m.\u001b[0m\u001b[0mtimeout\u001b[0m \u001b[1;33m=\u001b[0m \u001b[0mtimeout\u001b[0m\u001b[1;33m\u001b[0m\u001b[0m\n",
      "\u001b[0;31mIndexError\u001b[0m: list index out of range"
     ]
    }
   ],
   "source": [
    "wave=scope.measure_waves()"
   ]
  },
  {
   "cell_type": "code",
   "execution_count": 9,
   "metadata": {
    "collapsed": true
   },
   "outputs": [],
   "source": [
    "scope.initialize()"
   ]
  },
  {
   "cell_type": "code",
   "execution_count": null,
   "metadata": {
    "collapsed": true
   },
   "outputs": [],
   "source": [
    "wave=scope.measure_waves()"
   ]
  }
 ],
 "metadata": {
  "kernelspec": {
   "display_name": "Python 2",
   "language": "python",
   "name": "python2"
  },
  "language_info": {
   "codemirror_mode": {
    "name": "ipython",
    "version": 2
   },
   "file_extension": ".py",
   "mimetype": "text/x-python",
   "name": "python",
   "nbconvert_exporter": "python",
   "pygments_lexer": "ipython2",
   "version": "2.7.13"
  }
 },
 "nbformat": 4,
 "nbformat_minor": 2
}
