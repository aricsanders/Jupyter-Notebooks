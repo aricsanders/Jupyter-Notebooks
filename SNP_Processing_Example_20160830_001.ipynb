{
 "cells": [
  {
   "cell_type": "markdown",
   "metadata": {},
   "source": [
    "# Example of Parsing SNP touchstone files\n",
    "This is meant to be an example of how to parse a touchstone file with n>2 ports -\n",
    "__It now has been replaced by pyMeasure.Code.DataHandlers.TouchstoneModels.SNP(file_name)__"
   ]
  },
  {
   "cell_type": "code",
   "execution_count": 1,
   "metadata": {
    "collapsed": false
   },
   "outputs": [
    {
     "name": "stdout",
     "output_type": "stream",
     "text": [
      "The number of ports for test1.s1p is 1\n",
      "The number of ports for test2.s2p is 2\n",
      "The number of ports for test3.S3P is 3\n",
      "The number of ports for test4.s4p is 4\n",
      "The number of ports for test5.S5p is 5\n"
     ]
    }
   ],
   "source": [
    "# First we must determine the number of ports, this can be passed or derived from the extension\n",
    "import re\n",
    "EXTENSION_PATTERN=\"s(?P<Number_Ports>\\d+)p\"\n",
    "test_file_names=[\"test1.s1p\",\"test2.s2p\",\"test3.S3P\",\"test4.s4p\",\"test5.S5p\"]\n",
    "for name in test_file_names:\n",
    "    match=re.search(EXTENSION_PATTERN,name.split(\".\")[-1],re.IGNORECASE)\n",
    "    number_ports=match.groupdict()[\"Number_Ports\"]\n",
    "    print(\"The number of ports for {0} is {1}\".format(name,number_ports))\n",
    "def number_ports_from_file_name(file_name):\n",
    "    \"Returns the number of ports as an integer from a file_name.\"\n",
    "    match=re.search(EXTENSION_PATTERN,file_name.split(\".\")[-1],re.IGNORECASE)\n",
    "    number_ports=match.groupdict()[\"Number_Ports\"]\n",
    "    return int(number_ports)"
   ]
  },
  {
   "cell_type": "code",
   "execution_count": 2,
   "metadata": {
    "collapsed": false
   },
   "outputs": [
    {
     "name": "stdout",
     "output_type": "stream",
     "text": [
      "The module smithplot was not found,please put it on the python path\n"
     ]
    },
    {
     "name": "stderr",
     "output_type": "stream",
     "text": [
      "C:\\Anaconda2\\lib\\site-packages\\matplotlib\\__init__.py:1350: UserWarning:  This call to matplotlib.use() has no effect\n",
      "because the backend has already been chosen;\n",
      "matplotlib.use() must be called *before* pylab, matplotlib.pyplot,\n",
      "or matplotlib.backends is imported for the first time.\n",
      "\n",
      "  warnings.warn(_use_error_msg)\n"
     ]
    }
   ],
   "source": [
    "from pyMeasure import *"
   ]
  },
  {
   "cell_type": "code",
   "execution_count": 22,
   "metadata": {
    "collapsed": false
   },
   "outputs": [],
   "source": [
    "def combine_segments(segment_list):\n",
    "    \"\"\"Combines a list of lists that are segments (each segment is list of strings)\n",
    "    and returns a single list of strings, segments are assumed to be the same length\"\"\"\n",
    "    combined_list=[]\n",
    "    for index,row in enumerate(segment_list[0]):\n",
    "        new_row=\"\"\n",
    "        for segment in segment_list:\n",
    "            new_row=new_row+segment[index]\n",
    "        combined_list.append(new_row)\n",
    "    return combined_list\n",
    "\n",
    "def parse_combined_list(sparameter_string_list):\n",
    "    \"\"\"Parses a list of strings, where each element of the list is a string with a single sparameter\n",
    "    Assumes the data delimiter is a single tab, and removes any white space at the begining and end of the string\n",
    "    all values are returned as floats\"\"\"\n",
    "    parsed_data=[]\n",
    "    for row in sparameter_string_list:\n",
    "        new_row=map(lambda x:float(x),re.split(\"[\\s|,]+\",row.rstrip().lstrip().replace(\"\\n\",\"\\t\")))\n",
    "        parsed_data.append(new_row)\n",
    "    return parsed_data"
   ]
  },
  {
   "cell_type": "code",
   "execution_count": 33,
   "metadata": {
    "collapsed": false
   },
   "outputs": [],
   "source": [
    "# next we read the file \n",
    "#file_path=r'C:\\Share\\MUF_TEST_FILES\\MUF 35mm\\Results\\Solutions\\Solution_0.s4p'\n",
    "#file_path=r'C:\\Share\\MUF_TEST_FILES\\MUF 35mm\\Results\\DUTs\\DUT_Support\\DUT_0.s2p'\n",
    "file_path=r'C:\\Anaconda2\\Lib\\site-packages\\pyMeasure\\Code\\DataHandlers\\Tests\\B7_baseline_50ohm_OR2_10n0_4p0_REV2_EVB1_01new.s3p'\n",
    "number_ports=number_ports_from_file_name(file_path)\n",
    "# assign the number of lines per sparameter\n",
    "if number_ports in [1,2]:\n",
    "    number_lines_per_sparameter=1\n",
    "elif number_ports in [3]:\n",
    "    number_lines_per_sparameter=3\n",
    "else:\n",
    "    number_lines_per_sparameter=number_ports**2/4\n",
    "    \n",
    "in_file=open(file_path,'r')\n",
    "lines=[]\n",
    "data_lines=[]\n",
    "option_line=\"\"\n",
    "for line in in_file:\n",
    "    lines.append(line)\n",
    "    #line=line.rstrip().lstrip()\n",
    "    # if the line is just '\\n' ignore it\n",
    "    if line in [\"\",\"\\n\"]:\n",
    "        pass\n",
    "    #if the line is an option line collect it\n",
    "    elif re.search(OPTION_LINE_PATTERN,line,re.IGNORECASE):\n",
    "        option_line=line\n",
    "        continue\n",
    "    elif re.match(COMMENT_PATTERN,line,re.IGNORECASE):\n",
    "        continue\n",
    "    else:\n",
    "        data_lines.append(line)\n",
    "comments=collect_inline_comments(lines,begin_token=\"!\",end_token=\"\\n\")\n",
    "data_lines=strip_inline_comments(data_lines,begin_token=\"!\",end_token=\"\\n\")\n",
    "segments=[data_lines[i::number_lines_per_sparameter] for i in range(number_lines_per_sparameter)]\n",
    "combined_list=combine_segments(segments)\n",
    "data=parse_combined_list(combined_list)"
   ]
  },
  {
   "cell_type": "code",
   "execution_count": 15,
   "metadata": {
    "collapsed": false
   },
   "outputs": [],
   "source": [
    "COMMENT_PATTERN=\"![\\s]*(?P<Comment>.+)\\n\"\n",
    "test_string='! Ports=123'\n",
    "if re.match(COMMENT_PATTERN,test_string):\n",
    "    print(\"True\")"
   ]
  },
  {
   "cell_type": "code",
   "execution_count": 19,
   "metadata": {
    "collapsed": false
   },
   "outputs": [
    {
     "data": {
      "text/plain": [
       "'  10.0000 -0.0895 -0.81 -60.1224 120.03 -62.5912 -55.86\\n'"
      ]
     },
     "execution_count": 19,
     "metadata": {},
     "output_type": "execute_result"
    }
   ],
   "source": [
    "segments[0][0]"
   ]
  },
  {
   "cell_type": "code",
   "execution_count": 34,
   "metadata": {
    "collapsed": false
   },
   "outputs": [
    {
     "name": "stdout",
     "output_type": "stream",
     "text": [
      "[[' Channel 1', 0, 0], [' Ports=123', 1, 0], [' Points=2329', 2, 0], [' Topology=ALL_SE(123)', 3, 0]]\n"
     ]
    }
   ],
   "source": [
    "print comments"
   ]
  },
  {
   "cell_type": "code",
   "execution_count": 42,
   "metadata": {
    "collapsed": false
   },
   "outputs": [],
   "source": [
    "combined=combine_segments(segments)\n",
    "data=parse_combined_list(combined)"
   ]
  },
  {
   "cell_type": "code",
   "execution_count": 28,
   "metadata": {
    "collapsed": false
   },
   "outputs": [
    {
     "data": {
      "text/plain": [
       "[1.0,\n",
       " -0.00222181036562542,\n",
       " -0.00862246938348929,\n",
       " 0.0,\n",
       " 0.0,\n",
       " 0.952784072344549,\n",
       " 0.131160019122158,\n",
       " 0.0,\n",
       " 0.0,\n",
       " 0.0,\n",
       " 0.0,\n",
       " -0.0154649204599162,\n",
       " 0.0114069015580531,\n",
       " 0.0,\n",
       " 0.0,\n",
       " -0.949270726273018,\n",
       " -0.183539049741435,\n",
       " 0.952784072344549,\n",
       " 0.131160019122158,\n",
       " 0.0,\n",
       " 0.0,\n",
       " 0.00445253596800139,\n",
       " 0.0410950645167683,\n",
       " 0.0,\n",
       " 0.0,\n",
       " 0.0,\n",
       " 0.0,\n",
       " 0.169316839115153,\n",
       " 0.896713978299591,\n",
       " 0.0,\n",
       " 0.0,\n",
       " 0.00283792933086696,\n",
       " -0.00150220181779146]"
      ]
     },
     "execution_count": 28,
     "metadata": {},
     "output_type": "execute_result"
    }
   ],
   "source": [
    "data[0]"
   ]
  },
  {
   "cell_type": "code",
   "execution_count": null,
   "metadata": {
    "collapsed": true
   },
   "outputs": [],
   "source": []
  }
 ],
 "metadata": {
  "kernelspec": {
   "display_name": "Python 2",
   "language": "python",
   "name": "python2"
  },
  "language_info": {
   "codemirror_mode": {
    "name": "ipython",
    "version": 2
   },
   "file_extension": ".py",
   "mimetype": "text/x-python",
   "name": "python",
   "nbconvert_exporter": "python",
   "pygments_lexer": "ipython2",
   "version": "2.7.12"
  }
 },
 "nbformat": 4,
 "nbformat_minor": 0
}
