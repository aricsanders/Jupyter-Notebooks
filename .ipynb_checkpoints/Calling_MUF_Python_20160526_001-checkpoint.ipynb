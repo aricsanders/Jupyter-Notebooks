{
 "cells": [
  {
   "cell_type": "markdown",
   "metadata": {},
   "source": [
    "# How to use python to call the .net assemblies for the microwave uncertainty framework\n",
    "Written by AWS 03/2016\n",
    "\n",
    "## This requires python (tested in 2.7) and [pythonnet] [pythonnet].\n",
    "\n",
    "[pythonnet]:https://pypi.python.org/pypi/pythonnet\n"
   ]
  },
  {
   "cell_type": "code",
   "execution_count": 1,
   "metadata": {
    "collapsed": false
   },
   "outputs": [
    {
     "name": "stdout",
     "output_type": "stream",
     "text": [
      "VNAUncertainty\n",
      "Nat. Institute Standards and Technology\n",
      "591600\n",
      "********************************************************************************\n",
      "Measurement\n",
      "Nat. Institute Standards and Technology\n",
      "265548\n"
     ]
    }
   ],
   "source": [
    "# import pythonnet \n",
    "import clr\n",
    "# import sys for path\n",
    "import sys\n",
    "# add the file paths to the .net assemblies (either dll or .exe)\n",
    "sys.path.append(r'C:\\Share\\MUF_TEST_FILES\\UncertaintyCalculator\\VNAUncertainty\\bin\\Debug')\n",
    "# create a reference to them\n",
    "clr.AddReference(\"Measurement\")\n",
    "clr.AddReference(\"VNAUncertainty\")\n",
    "# Now they can be imported as python libraries\n",
    "import Measurement\n",
    "import VNAUncertainty\n",
    "# to use them them just call them as normal classes (they are namespaced)\n",
    "new_VNA=VNAUncertainty.VNAUncertainty()\n",
    "# now all of the public methods are given by dir(new_VNA), but for brevity we only call version and name info\n",
    "print new_VNA.get_Name()\n",
    "print new_VNA.CompanyName\n",
    "print new_VNA.Handle\n",
    "print \"*\"*80\n",
    "# Works for all of the assemblies in the folders added\n",
    "new_measurement=Measurement.Measurement()\n",
    "print new_measurement.get_Name()\n",
    "print new_measurement.CompanyName\n",
    "print new_measurement.Handle\n",
    "new_measurement.Finalize()\n",
    "new_VNA.Finalize()"
   ]
  },
  {
   "cell_type": "code",
   "execution_count": 2,
   "metadata": {
    "collapsed": false
   },
   "outputs": [
    {
     "data": {
      "text/plain": [
       "['FrameworkDriver',\n",
       " 'PostProcessorSupport',\n",
       " 'ToolStripDelegate',\n",
       " '__doc__',\n",
       " '__file__',\n",
       " '__name__']"
      ]
     },
     "execution_count": 2,
     "metadata": {},
     "output_type": "execute_result"
    }
   ],
   "source": [
    "clr.AddReference(\"UncertaintyFrameworkDriver\")\n",
    "import UncertaintyFrameworkDriver\n",
    "dir(UncertaintyFrameworkDriver)"
   ]
  },
  {
   "cell_type": "code",
   "execution_count": 3,
   "metadata": {
    "collapsed": false
   },
   "outputs": [
    {
     "data": {
      "text/plain": [
       "['CalculateCombineResult',\n",
       " 'CalculatePostProcessorResult',\n",
       " 'DriveUncertaintyCalculations',\n",
       " 'Equals',\n",
       " 'Finalize',\n",
       " 'GetHashCode',\n",
       " 'GetType',\n",
       " 'MemberwiseClone',\n",
       " 'Overloads',\n",
       " 'ReferenceEquals',\n",
       " 'SubtractRandom',\n",
       " 'ToString',\n",
       " '__call__',\n",
       " '__class__',\n",
       " '__cmp__',\n",
       " '__delattr__',\n",
       " '__delitem__',\n",
       " '__doc__',\n",
       " '__format__',\n",
       " '__getattribute__',\n",
       " '__getitem__',\n",
       " '__hash__',\n",
       " '__init__',\n",
       " '__iter__',\n",
       " '__module__',\n",
       " '__new__',\n",
       " '__overloads__',\n",
       " '__reduce__',\n",
       " '__reduce_ex__',\n",
       " '__repr__',\n",
       " '__setattr__',\n",
       " '__setitem__',\n",
       " '__sizeof__',\n",
       " '__str__',\n",
       " '__subclasshook__']"
      ]
     },
     "execution_count": 3,
     "metadata": {},
     "output_type": "execute_result"
    }
   ],
   "source": [
    "dir(UncertaintyFrameworkDriver.FrameworkDriver)"
   ]
  },
  {
   "cell_type": "code",
   "execution_count": 4,
   "metadata": {
    "collapsed": false
   },
   "outputs": [
    {
     "data": {
      "text/plain": [
       "['CallSubordinates',\n",
       " 'CascadeSupport',\n",
       " 'ConditionSupport',\n",
       " 'DirectoryTreeView',\n",
       " 'Evaluate',\n",
       " 'FLV_FixedDetailsList',\n",
       " 'FLV_References',\n",
       " 'FLV_VariableDetailsList',\n",
       " 'FLV_VariableDetailsListMeas',\n",
       " 'FLV_VariableDetailsList_Parameter',\n",
       " 'FLV_VariableIconList',\n",
       " 'FileHorizontalListView',\n",
       " 'FileListBox',\n",
       " 'FileListView',\n",
       " 'FileMeasurementSupport',\n",
       " 'InputPlots',\n",
       " 'MakeDelegate',\n",
       " 'MeasurementSupport',\n",
       " 'MechanismListModule',\n",
       " 'MechanismSuppport',\n",
       " 'MenuItemView',\n",
       " 'MenuModule',\n",
       " 'ModelModule',\n",
       " 'ModelSupport',\n",
       " 'PostProcessorModule',\n",
       " 'RandomNumbers',\n",
       " 'RealMatrixContainer',\n",
       " 'SumOfParametersSupport',\n",
       " 'UnPackModule',\n",
       " '__doc__',\n",
       " '__file__',\n",
       " '__name__']"
      ]
     },
     "execution_count": 4,
     "metadata": {},
     "output_type": "execute_result"
    }
   ],
   "source": [
    "clr.AddReference(\"CustomFormControls\")\n",
    "import CustomFormControls\n",
    "dir(CustomFormControls)"
   ]
  },
  {
   "cell_type": "code",
   "execution_count": 5,
   "metadata": {
    "collapsed": false
   },
   "outputs": [
    {
     "data": {
      "text/plain": [
       "['Equals',\n",
       " 'ExternalReadInMechanismsFromXML',\n",
       " 'Finalize',\n",
       " 'GetHashCode',\n",
       " 'GetType',\n",
       " 'MemberwiseClone',\n",
       " 'Overloads',\n",
       " 'ReferenceEquals',\n",
       " 'ToString',\n",
       " '__call__',\n",
       " '__class__',\n",
       " '__cmp__',\n",
       " '__delattr__',\n",
       " '__delitem__',\n",
       " '__doc__',\n",
       " '__format__',\n",
       " '__getattribute__',\n",
       " '__getitem__',\n",
       " '__hash__',\n",
       " '__init__',\n",
       " '__iter__',\n",
       " '__module__',\n",
       " '__new__',\n",
       " '__overloads__',\n",
       " '__reduce__',\n",
       " '__reduce_ex__',\n",
       " '__repr__',\n",
       " '__setattr__',\n",
       " '__setitem__',\n",
       " '__sizeof__',\n",
       " '__str__',\n",
       " '__subclasshook__']"
      ]
     },
     "execution_count": 5,
     "metadata": {},
     "output_type": "execute_result"
    }
   ],
   "source": [
    "dir(CustomFormControls.MechanismListModule)"
   ]
  },
  {
   "cell_type": "code",
   "execution_count": 4,
   "metadata": {
    "collapsed": true
   },
   "outputs": [],
   "source": [
    "new_VNA.Finalize()"
   ]
  },
  {
   "cell_type": "code",
   "execution_count": null,
   "metadata": {
    "collapsed": true
   },
   "outputs": [],
   "source": []
  }
 ],
 "metadata": {
  "kernelspec": {
   "display_name": "Python 2",
   "language": "python",
   "name": "python2"
  },
  "language_info": {
   "codemirror_mode": {
    "name": "ipython",
    "version": 2
   },
   "file_extension": ".py",
   "mimetype": "text/x-python",
   "name": "python",
   "nbconvert_exporter": "python",
   "pygments_lexer": "ipython2",
   "version": "2.7.11"
  }
 },
 "nbformat": 4,
 "nbformat_minor": 0
}
