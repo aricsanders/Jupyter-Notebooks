{
 "cells": [
  {
   "cell_type": "markdown",
   "metadata": {},
   "source": [
    "# LSNA Example\n",
    "This notebook is an example of how to preform an LSNA calibration using pyMez and the Microwave uncertainty framework\n",
    "\n",
    "1. Power Calibration. The power calibration requires the measurement of a power meter at different frequencies, its reflection coefficient, and the measurement of the a's and b's for the VNA. In addition, a file with the power meters calibrated response is desired. For this example we will use the ZVA67 as the VNA, the Rhode&Scharz NRP power meter with the NRP-Z57 as the detector.\n",
    "2. Harmonic Phase Reference. The harmonic phase reference calibration requires the measurement of a comb (serial #), its reflection coefficient and its calibration file.\n",
    "3. Linear S-parameter calibration. This requires a calibration using one of the many Sparameter calibration techniques. The linear Sparameter calibration is performed on a set of wnp files that record the receiver values directly.\n",
    "4. DUT measurement. DUT's are measured by setting a signal to the desired configuration and measuring wnp file."
   ]
  },
  {
   "cell_type": "code",
   "execution_count": null,
   "metadata": {
    "collapsed": false
   },
   "outputs": [],
   "source": [
    "# import the pyMez package (renamed 01/01/2018)\n",
    "from pyMez import *"
   ]
  },
  {
   "cell_type": "code",
   "execution_count": 2,
   "metadata": {
    "collapsed": true
   },
   "outputs": [],
   "source": [
    "# This is the configuration setting for the calibration\n",
    "vna_address=\"GPIB::20\"\n",
    "power_meter_address=\"GPIB::14\"\n",
    "vna_frequency_start=200*10**6\n",
    "vna_frequency_stop=50*10**9\n",
    "vna_frequency_number_points=101\n",
    "vna_sweep_type=\"LIN\"\n",
    "vna_IFBW=1000\n",
    "vna_power=-10\n",
    "vna_power_correction=\"OFF\"\n",
    "vna_correction=\"OFF\"\n",
    "power_meter_units=\"W\"\n",
    "power_meter_function=\"POW:AVG\"\n",
    "measurement_delay=2/vna_IFBW\n",
    "port=1\n",
    "data_directory=\"\"\n"
   ]
  },
  {
   "cell_type": "code",
   "execution_count": 89,
   "metadata": {
    "collapsed": false
   },
   "outputs": [
    {
     "ename": "VisaIOError",
     "evalue": "VI_ERROR_CONN_LOST (-1073807194): The connection for the given session has been lost.",
     "output_type": "error",
     "traceback": [
      "\u001b[0;31m---------------------------------------------------------------------------\u001b[0m",
      "\u001b[0;31mVisaIOError\u001b[0m                               Traceback (most recent call last)",
      "\u001b[0;32m<ipython-input-89-c3812567e35a>\u001b[0m in \u001b[0;36m<module>\u001b[0;34m()\u001b[0m\n\u001b[1;32m      1\u001b[0m \u001b[1;31m# create the instrument visa classes\u001b[0m\u001b[1;33m\u001b[0m\u001b[1;33m\u001b[0m\u001b[0m\n\u001b[0;32m----> 2\u001b[0;31m \u001b[0mvna\u001b[0m\u001b[1;33m=\u001b[0m\u001b[0mVNA\u001b[0m\u001b[1;33m(\u001b[0m\u001b[0mvna_address\u001b[0m\u001b[1;33m)\u001b[0m\u001b[1;33m\u001b[0m\u001b[0m\n\u001b[0m\u001b[1;32m      3\u001b[0m \u001b[0mpower_meter\u001b[0m\u001b[1;33m=\u001b[0m\u001b[0mNRPPowerMeter\u001b[0m\u001b[1;33m(\u001b[0m\u001b[0mpower_meter_address\u001b[0m\u001b[1;33m)\u001b[0m\u001b[1;33m\u001b[0m\u001b[0m\n",
      "\u001b[0;32mC:\\ProgramData\\Anaconda2\\lib\\site-packages\\pyMez\\Code\\InstrumentControl\\Instruments.pyc\u001b[0m in \u001b[0;36m__init__\u001b[0;34m(self, resource_name, **options)\u001b[0m\n\u001b[1;32m    525\u001b[0m         \u001b[1;32mfor\u001b[0m \u001b[0mkey\u001b[0m\u001b[1;33m,\u001b[0m \u001b[0mvalue\u001b[0m \u001b[1;32min\u001b[0m \u001b[0moptions\u001b[0m\u001b[1;33m.\u001b[0m\u001b[0miteritems\u001b[0m\u001b[1;33m(\u001b[0m\u001b[1;33m)\u001b[0m\u001b[1;33m:\u001b[0m\u001b[1;33m\u001b[0m\u001b[0m\n\u001b[1;32m    526\u001b[0m             \u001b[0mself\u001b[0m\u001b[1;33m.\u001b[0m\u001b[0moptions\u001b[0m\u001b[1;33m[\u001b[0m\u001b[0mkey\u001b[0m\u001b[1;33m]\u001b[0m \u001b[1;33m=\u001b[0m \u001b[0mvalue\u001b[0m\u001b[1;33m\u001b[0m\u001b[0m\n\u001b[0;32m--> 527\u001b[0;31m         \u001b[0mVisaInstrument\u001b[0m\u001b[1;33m.\u001b[0m\u001b[0m__init__\u001b[0m\u001b[1;33m(\u001b[0m\u001b[0mself\u001b[0m\u001b[1;33m,\u001b[0m \u001b[0mresource_name\u001b[0m\u001b[1;33m,\u001b[0m \u001b[1;33m**\u001b[0m\u001b[0mself\u001b[0m\u001b[1;33m.\u001b[0m\u001b[0moptions\u001b[0m\u001b[1;33m)\u001b[0m\u001b[1;33m\u001b[0m\u001b[0m\n\u001b[0m\u001b[1;32m    528\u001b[0m         \u001b[0mself\u001b[0m\u001b[1;33m.\u001b[0m\u001b[0mpower\u001b[0m \u001b[1;33m=\u001b[0m \u001b[0mself\u001b[0m\u001b[1;33m.\u001b[0m\u001b[0mget_power\u001b[0m\u001b[1;33m(\u001b[0m\u001b[1;33m)\u001b[0m\u001b[1;33m\u001b[0m\u001b[0m\n\u001b[1;32m    529\u001b[0m         \u001b[0mself\u001b[0m\u001b[1;33m.\u001b[0m\u001b[0mIFBW\u001b[0m \u001b[1;33m=\u001b[0m \u001b[0mself\u001b[0m\u001b[1;33m.\u001b[0m\u001b[0mget_IFBW\u001b[0m\u001b[1;33m(\u001b[0m\u001b[1;33m)\u001b[0m\u001b[1;33m\u001b[0m\u001b[0m\n",
      "\u001b[0;32mC:\\ProgramData\\Anaconda2\\lib\\site-packages\\pyMez\\Code\\InstrumentControl\\Instruments.pyc\u001b[0m in \u001b[0;36m__init__\u001b[0;34m(self, resource_name, **options)\u001b[0m\n\u001b[1;32m    396\u001b[0m         \u001b[0mself\u001b[0m\u001b[1;33m.\u001b[0m\u001b[0mresource_manager\u001b[0m\u001b[1;33m=\u001b[0m\u001b[0mvisa\u001b[0m\u001b[1;33m.\u001b[0m\u001b[0mResourceManager\u001b[0m\u001b[1;33m(\u001b[0m\u001b[1;33m)\u001b[0m\u001b[1;33m\u001b[0m\u001b[0m\n\u001b[1;32m    397\u001b[0m         \u001b[1;31m# Call the visa instrument class-- this gives ask,write,read\u001b[0m\u001b[1;33m\u001b[0m\u001b[1;33m\u001b[0m\u001b[0m\n\u001b[0;32m--> 398\u001b[0;31m         \u001b[0mself\u001b[0m\u001b[1;33m.\u001b[0m\u001b[0mresource\u001b[0m\u001b[1;33m=\u001b[0m\u001b[0mself\u001b[0m\u001b[1;33m.\u001b[0m\u001b[0mresource_manager\u001b[0m\u001b[1;33m.\u001b[0m\u001b[0mopen_resource\u001b[0m\u001b[1;33m(\u001b[0m\u001b[0mself\u001b[0m\u001b[1;33m.\u001b[0m\u001b[0minstrument_address\u001b[0m\u001b[1;33m)\u001b[0m\u001b[1;33m\u001b[0m\u001b[0m\n\u001b[0m\u001b[1;32m    399\u001b[0m         \u001b[0mself\u001b[0m\u001b[1;33m.\u001b[0m\u001b[0mcurrent_state\u001b[0m\u001b[1;33m=\u001b[0m\u001b[0mself\u001b[0m\u001b[1;33m.\u001b[0m\u001b[0mget_state\u001b[0m\u001b[1;33m(\u001b[0m\u001b[1;33m)\u001b[0m\u001b[1;33m\u001b[0m\u001b[0m\n\u001b[1;32m    400\u001b[0m \u001b[1;33m\u001b[0m\u001b[0m\n",
      "\u001b[0;32mC:\\ProgramData\\Anaconda2\\lib\\site-packages\\pyvisa\\highlevel.pyc\u001b[0m in \u001b[0;36mopen_resource\u001b[0;34m(self, resource_name, access_mode, open_timeout, resource_pyclass, **kwargs)\u001b[0m\n\u001b[1;32m   1642\u001b[0m                 \u001b[1;32mraise\u001b[0m \u001b[0mValueError\u001b[0m\u001b[1;33m(\u001b[0m\u001b[1;34m'%r is not a valid attribute for type %s'\u001b[0m \u001b[1;33m%\u001b[0m \u001b[1;33m(\u001b[0m\u001b[0mkey\u001b[0m\u001b[1;33m,\u001b[0m \u001b[0mres\u001b[0m\u001b[1;33m.\u001b[0m\u001b[0m__class__\u001b[0m\u001b[1;33m.\u001b[0m\u001b[0m__name__\u001b[0m\u001b[1;33m)\u001b[0m\u001b[1;33m)\u001b[0m\u001b[1;33m\u001b[0m\u001b[0m\n\u001b[1;32m   1643\u001b[0m \u001b[1;33m\u001b[0m\u001b[0m\n\u001b[0;32m-> 1644\u001b[0;31m         \u001b[0mres\u001b[0m\u001b[1;33m.\u001b[0m\u001b[0mopen\u001b[0m\u001b[1;33m(\u001b[0m\u001b[0maccess_mode\u001b[0m\u001b[1;33m,\u001b[0m \u001b[0mopen_timeout\u001b[0m\u001b[1;33m)\u001b[0m\u001b[1;33m\u001b[0m\u001b[0m\n\u001b[0m\u001b[1;32m   1645\u001b[0m \u001b[1;33m\u001b[0m\u001b[0m\n\u001b[1;32m   1646\u001b[0m         \u001b[1;32mfor\u001b[0m \u001b[0mkey\u001b[0m\u001b[1;33m,\u001b[0m \u001b[0mvalue\u001b[0m \u001b[1;32min\u001b[0m \u001b[0mkwargs\u001b[0m\u001b[1;33m.\u001b[0m\u001b[0mitems\u001b[0m\u001b[1;33m(\u001b[0m\u001b[1;33m)\u001b[0m\u001b[1;33m:\u001b[0m\u001b[1;33m\u001b[0m\u001b[0m\n",
      "\u001b[0;32mC:\\ProgramData\\Anaconda2\\lib\\site-packages\\pyvisa\\resources\\resource.pyc\u001b[0m in \u001b[0;36mopen\u001b[0;34m(self, access_mode, open_timeout)\u001b[0m\n\u001b[1;32m    201\u001b[0m         \u001b[0mlogger\u001b[0m\u001b[1;33m.\u001b[0m\u001b[0mdebug\u001b[0m\u001b[1;33m(\u001b[0m\u001b[1;34m'%s - opening ...'\u001b[0m\u001b[1;33m,\u001b[0m \u001b[0mself\u001b[0m\u001b[1;33m.\u001b[0m\u001b[0m_resource_name\u001b[0m\u001b[1;33m,\u001b[0m \u001b[0mextra\u001b[0m\u001b[1;33m=\u001b[0m\u001b[0mself\u001b[0m\u001b[1;33m.\u001b[0m\u001b[0m_logging_extra\u001b[0m\u001b[1;33m)\u001b[0m\u001b[1;33m\u001b[0m\u001b[0m\n\u001b[1;32m    202\u001b[0m         \u001b[1;32mwith\u001b[0m \u001b[0mself\u001b[0m\u001b[1;33m.\u001b[0m\u001b[0m_resource_manager\u001b[0m\u001b[1;33m.\u001b[0m\u001b[0mignore_warning\u001b[0m\u001b[1;33m(\u001b[0m\u001b[0mconstants\u001b[0m\u001b[1;33m.\u001b[0m\u001b[0mVI_SUCCESS_DEV_NPRESENT\u001b[0m\u001b[1;33m)\u001b[0m\u001b[1;33m:\u001b[0m\u001b[1;33m\u001b[0m\u001b[0m\n\u001b[0;32m--> 203\u001b[0;31m             \u001b[0mself\u001b[0m\u001b[1;33m.\u001b[0m\u001b[0msession\u001b[0m\u001b[1;33m,\u001b[0m \u001b[0mstatus\u001b[0m \u001b[1;33m=\u001b[0m \u001b[0mself\u001b[0m\u001b[1;33m.\u001b[0m\u001b[0m_resource_manager\u001b[0m\u001b[1;33m.\u001b[0m\u001b[0mopen_bare_resource\u001b[0m\u001b[1;33m(\u001b[0m\u001b[0mself\u001b[0m\u001b[1;33m.\u001b[0m\u001b[0m_resource_name\u001b[0m\u001b[1;33m,\u001b[0m \u001b[0maccess_mode\u001b[0m\u001b[1;33m,\u001b[0m \u001b[0mopen_timeout\u001b[0m\u001b[1;33m)\u001b[0m\u001b[1;33m\u001b[0m\u001b[0m\n\u001b[0m\u001b[1;32m    204\u001b[0m \u001b[1;33m\u001b[0m\u001b[0m\n\u001b[1;32m    205\u001b[0m             \u001b[1;32mif\u001b[0m \u001b[0mstatus\u001b[0m \u001b[1;33m==\u001b[0m \u001b[0mconstants\u001b[0m\u001b[1;33m.\u001b[0m\u001b[0mVI_SUCCESS_DEV_NPRESENT\u001b[0m\u001b[1;33m:\u001b[0m\u001b[1;33m\u001b[0m\u001b[0m\n",
      "\u001b[0;32mC:\\ProgramData\\Anaconda2\\lib\\site-packages\\pyvisa\\highlevel.pyc\u001b[0m in \u001b[0;36mopen_bare_resource\u001b[0;34m(self, resource_name, access_mode, open_timeout)\u001b[0m\n\u001b[1;32m   1599\u001b[0m         \u001b[1;33m:\u001b[0m\u001b[1;32mreturn\u001b[0m\u001b[1;33m:\u001b[0m \u001b[0mUnique\u001b[0m \u001b[0mlogical\u001b[0m \u001b[0midentifier\u001b[0m \u001b[0mreference\u001b[0m \u001b[0mto\u001b[0m \u001b[0ma\u001b[0m \u001b[0msession\u001b[0m\u001b[1;33m.\u001b[0m\u001b[1;33m\u001b[0m\u001b[0m\n\u001b[1;32m   1600\u001b[0m         \"\"\"\n\u001b[0;32m-> 1601\u001b[0;31m         \u001b[1;32mreturn\u001b[0m \u001b[0mself\u001b[0m\u001b[1;33m.\u001b[0m\u001b[0mvisalib\u001b[0m\u001b[1;33m.\u001b[0m\u001b[0mopen\u001b[0m\u001b[1;33m(\u001b[0m\u001b[0mself\u001b[0m\u001b[1;33m.\u001b[0m\u001b[0msession\u001b[0m\u001b[1;33m,\u001b[0m \u001b[0mresource_name\u001b[0m\u001b[1;33m,\u001b[0m \u001b[0maccess_mode\u001b[0m\u001b[1;33m,\u001b[0m \u001b[0mopen_timeout\u001b[0m\u001b[1;33m)\u001b[0m\u001b[1;33m\u001b[0m\u001b[0m\n\u001b[0m\u001b[1;32m   1602\u001b[0m \u001b[1;33m\u001b[0m\u001b[0m\n\u001b[1;32m   1603\u001b[0m     def open_resource(self, resource_name,\n",
      "\u001b[0;32mC:\\ProgramData\\Anaconda2\\lib\\site-packages\\pyvisa\\ctwrapper\\functions.pyc\u001b[0m in \u001b[0;36mopen\u001b[0;34m(library, session, resource_name, access_mode, open_timeout)\u001b[0m\n\u001b[1;32m   1209\u001b[0m     \u001b[1;31m# [ViSession, ViRsrc, ViAccessMode, ViUInt32, ViPSession]\u001b[0m\u001b[1;33m\u001b[0m\u001b[1;33m\u001b[0m\u001b[0m\n\u001b[1;32m   1210\u001b[0m     \u001b[1;31m# ViRsrc converts from (str, unicode, bytes) to bytes\u001b[0m\u001b[1;33m\u001b[0m\u001b[1;33m\u001b[0m\u001b[0m\n\u001b[0;32m-> 1211\u001b[0;31m     \u001b[0mret\u001b[0m \u001b[1;33m=\u001b[0m \u001b[0mlibrary\u001b[0m\u001b[1;33m.\u001b[0m\u001b[0mviOpen\u001b[0m\u001b[1;33m(\u001b[0m\u001b[0msession\u001b[0m\u001b[1;33m,\u001b[0m \u001b[0mresource_name\u001b[0m\u001b[1;33m,\u001b[0m \u001b[0maccess_mode\u001b[0m\u001b[1;33m,\u001b[0m \u001b[0mopen_timeout\u001b[0m\u001b[1;33m,\u001b[0m \u001b[0mbyref\u001b[0m\u001b[1;33m(\u001b[0m\u001b[0mout_session\u001b[0m\u001b[1;33m)\u001b[0m\u001b[1;33m)\u001b[0m\u001b[1;33m\u001b[0m\u001b[0m\n\u001b[0m\u001b[1;32m   1212\u001b[0m     \u001b[1;32mreturn\u001b[0m \u001b[0mout_session\u001b[0m\u001b[1;33m.\u001b[0m\u001b[0mvalue\u001b[0m\u001b[1;33m,\u001b[0m \u001b[0mret\u001b[0m\u001b[1;33m\u001b[0m\u001b[0m\n\u001b[1;32m   1213\u001b[0m \u001b[1;33m\u001b[0m\u001b[0m\n",
      "\u001b[0;32mC:\\ProgramData\\Anaconda2\\lib\\site-packages\\pyvisa\\ctwrapper\\highlevel.pyc\u001b[0m in \u001b[0;36m_return_handler\u001b[0;34m(self, ret_value, func, arguments)\u001b[0m\n\u001b[1;32m    186\u001b[0m \u001b[1;33m\u001b[0m\u001b[0m\n\u001b[1;32m    187\u001b[0m         \u001b[1;32mif\u001b[0m \u001b[0mret_value\u001b[0m \u001b[1;33m<\u001b[0m \u001b[1;36m0\u001b[0m\u001b[1;33m:\u001b[0m\u001b[1;33m\u001b[0m\u001b[0m\n\u001b[0;32m--> 188\u001b[0;31m             \u001b[1;32mraise\u001b[0m \u001b[0merrors\u001b[0m\u001b[1;33m.\u001b[0m\u001b[0mVisaIOError\u001b[0m\u001b[1;33m(\u001b[0m\u001b[0mret_value\u001b[0m\u001b[1;33m)\u001b[0m\u001b[1;33m\u001b[0m\u001b[0m\n\u001b[0m\u001b[1;32m    189\u001b[0m \u001b[1;33m\u001b[0m\u001b[0m\n\u001b[1;32m    190\u001b[0m         \u001b[1;32mif\u001b[0m \u001b[0mret_value\u001b[0m \u001b[1;32min\u001b[0m \u001b[0mself\u001b[0m\u001b[1;33m.\u001b[0m\u001b[0missue_warning_on\u001b[0m\u001b[1;33m:\u001b[0m\u001b[1;33m\u001b[0m\u001b[0m\n",
      "\u001b[0;31mVisaIOError\u001b[0m: VI_ERROR_CONN_LOST (-1073807194): The connection for the given session has been lost."
     ]
    }
   ],
   "source": [
    "# create the instrument visa classes\n",
    "vna=VNA(vna_address)\n",
    "power_meter=NRPPowerMeter(power_meter_address)"
   ]
  },
  {
   "cell_type": "code",
   "execution_count": 66,
   "metadata": {
    "collapsed": false
   },
   "outputs": [
    {
     "name": "stdout",
     "output_type": "stream",
     "text": [
      "{'SENS:AVER': u'0', 'SENS:BAND': u'10000', 'SOUR:POW': u'-10', 'SENS:SWE:TYPE': u'LIN', 'SOUR:POW:CORR:STAT': u'0', 'SOUR:POW:SLOP': u'0', 'SENS:CORR:STAT': u'1'}\n",
      "{'SENS:FUNC': u'\"POW:AVG\"', 'UNIT:POW': u'W'}\n"
     ]
    }
   ],
   "source": [
    "# we can check the states if the instrument sheets are defined and located in pyMez/Instruments\n",
    "print vna.get_state()\n",
    "print power_meter.get_state()\n",
    "# to save these states as an xml we use vna.save_state(path_to_save) and we can load them using vna.load_state"
   ]
  },
  {
   "cell_type": "markdown",
   "metadata": {},
   "source": [
    "## Power Calibration\n",
    "We first measure the gamma of the power meter in S11 of an s2p. Then we set the instrument into a point state and measure both a w1p and a power reading file. This is used in conjunction with a calibration file. "
   ]
  },
  {
   "cell_type": "code",
   "execution_count": 69,
   "metadata": {
    "collapsed": true
   },
   "outputs": [],
   "source": [
    "# now we set up the frequency list for the ZVA and save it.\n",
    "# Options are start, stop, number_points, type, step,etc..\n",
    "# Default is start, stop, number_points\n",
    "vna.set_frequency(start=vna_frequency_start,\n",
    "                  stop=vna_frequency_stop,\n",
    "                  number_points=vna_frequency_number_points,\n",
    "                  type=vna_sweep_type)"
   ]
  },
  {
   "cell_type": "code",
   "execution_count": 70,
   "metadata": {
    "collapsed": true
   },
   "outputs": [],
   "source": [
    "frequency_list=vna.get_frequency_list()"
   ]
  },
  {
   "cell_type": "code",
   "execution_count": 65,
   "metadata": {
    "collapsed": false
   },
   "outputs": [
    {
     "name": "stdout",
     "output_type": "stream",
     "text": [
      "[49999999999.0, 49999999999.01, 49999999999.02, 49999999999.03, 49999999999.04, 49999999999.05, 49999999999.06, 49999999999.07, 49999999999.08, 49999999999.09, 49999999999.1, 49999999999.11, 49999999999.12, 49999999999.13, 49999999999.14, 49999999999.15, 49999999999.16, 49999999999.17, 49999999999.18, 49999999999.19, 49999999999.2, 49999999999.21, 49999999999.22, 49999999999.23, 49999999999.24, 49999999999.25, 49999999999.26, 49999999999.27, 49999999999.28, 49999999999.29, 49999999999.3, 49999999999.31, 49999999999.32, 49999999999.33, 49999999999.34, 49999999999.35, 49999999999.36, 49999999999.37, 49999999999.38, 49999999999.39, 49999999999.4, 49999999999.41, 49999999999.42, 49999999999.43, 49999999999.44, 49999999999.45, 49999999999.46, 49999999999.47, 49999999999.48, 49999999999.49, 49999999999.5, 49999999999.51, 49999999999.52, 49999999999.53, 49999999999.54, 49999999999.55, 49999999999.56, 49999999999.57, 49999999999.58, 49999999999.59, 49999999999.6, 49999999999.61, 49999999999.62, 49999999999.63, 49999999999.64, 49999999999.65, 49999999999.66, 49999999999.67, 49999999999.68, 49999999999.69, 49999999999.7, 49999999999.71, 49999999999.72, 49999999999.73, 49999999999.74, 49999999999.75, 49999999999.76, 49999999999.77, 49999999999.78, 49999999999.79, 49999999999.8, 49999999999.81, 49999999999.82, 49999999999.83, 49999999999.84, 49999999999.85, 49999999999.86, 49999999999.87, 49999999999.88, 49999999999.89, 49999999999.9, 49999999999.91, 49999999999.92, 49999999999.93, 49999999999.94, 49999999999.95, 49999999999.96, 49999999999.97, 49999999999.98, 49999999999.99, 50000000000.0]\n"
     ]
    }
   ],
   "source": [
    "print frequency_list"
   ]
  },
  {
   "cell_type": "code",
   "execution_count": 71,
   "metadata": {
    "collapsed": true
   },
   "outputs": [],
   "source": [
    "# Now we set the IFBW of the vna\n",
    "vna.set_IFBW(vna_IFBW)"
   ]
  },
  {
   "cell_type": "code",
   "execution_count": 54,
   "metadata": {
    "collapsed": true
   },
   "outputs": [],
   "source": [
    "# now we set the power in dB\n",
    "vna.set_power(vna_power)"
   ]
  },
  {
   "cell_type": "code",
   "execution_count": 72,
   "metadata": {
    "collapsed": false
   },
   "outputs": [
    {
     "data": {
      "text/plain": [
       "(20L, <StatusCode.success: 0>)"
      ]
     },
     "execution_count": 72,
     "metadata": {},
     "output_type": "execute_result"
    }
   ],
   "source": [
    "# we turn off the corrections\n",
    "# todo: add this to class VNA as set_power_correction, set_correction \n",
    "#vna.write(\"SOUR:POW:CORR:STAT {0}\".format(vna_power_correction))\n",
    "vna.write(\"SENS:CORR:STAT {0}\".format(vna_correction))"
   ]
  },
  {
   "cell_type": "markdown",
   "metadata": {},
   "source": [
    "1.85 mm female-female adapter, flat is 1/4\""
   ]
  },
  {
   "cell_type": "code",
   "execution_count": 73,
   "metadata": {
    "collapsed": true
   },
   "outputs": [],
   "source": [
    "# now we measure a s2p with the first port as the reflection coefficient of the power meter\n",
    "vna.initialize()\n",
    "power_meter_gamma=vna.measure_sparameters()"
   ]
  },
  {
   "cell_type": "code",
   "execution_count": 74,
   "metadata": {
    "collapsed": false
   },
   "outputs": [
    {
     "data": {
      "image/png": "[encoded data removed]",
      "text/plain": [
       "<matplotlib.figure.Figure at 0xd8b9780>"
      ]
     },
     "metadata": {},
     "output_type": "display_data"
    }
   ],
   "source": [
    "power_meter_gamma.show();"
   ]
  },
  {
   "cell_type": "code",
   "execution_count": 75,
   "metadata": {
    "collapsed": true
   },
   "outputs": [],
   "source": [
    "# now we measure the power meter reading and the w1p of port 1 at the same time\n",
    "# to do this we set one port wave parameters on the vna, intialize the state of the power meter, put the vna in CW mode\n",
    "# sweep through the frequency list and then put it back into the previous state\n",
    "vna.initialize_w1p()"
   ]
  },
  {
   "cell_type": "code",
   "execution_count": 59,
   "metadata": {
    "collapsed": false
   },
   "outputs": [
    {
     "data": {
      "text/plain": [
       "(12L, <StatusCode.success: 0>)"
      ]
     },
     "execution_count": 59,
     "metadata": {},
     "output_type": "execute_result"
    }
   ],
   "source": [
    "# power meter units\n",
    "power_meter.write(\"UNIT:POW {0}\".format(power_meter_units))"
   ]
  },
  {
   "cell_type": "code",
   "execution_count": 36,
   "metadata": {
    "collapsed": false
   },
   "outputs": [
    {
     "data": {
      "text/plain": [
       "(22L, <StatusCode.success: 0>)"
      ]
     },
     "execution_count": 36,
     "metadata": {},
     "output_type": "execute_result"
    }
   ],
   "source": [
    "power_meter.write(\"SENS:FREQ {0}\".format(3*10**9))"
   ]
  },
  {
   "cell_type": "code",
   "execution_count": 76,
   "metadata": {
    "collapsed": false
   },
   "outputs": [
    {
     "data": {
      "text/plain": [
       "(25L, <StatusCode.success: 0>)"
      ]
     },
     "execution_count": 76,
     "metadata": {},
     "output_type": "execute_result"
    }
   ],
   "source": [
    "\n",
    "# select the sweep type \n",
    "vna.write('SWEEP:TYPE POINT')\n",
    "# set the number of points to 1\n",
    "vna.write('SWEEP:POINTS 1')\n",
    "# set the trigger to single\n",
    "vna.write(\"INITiate:CONTinuous OFF\")"
   ]
  },
  {
   "cell_type": "code",
   "execution_count": 84,
   "metadata": {
    "collapsed": false
   },
   "outputs": [],
   "source": [
    "wparameter_data = []\n",
    "power_data=[]\n",
    "total_data=[]\n",
    "for frequency in frequency_list:\n",
    "    # set the frequency\n",
    "    vna.write(\"SOUR1:FREQ{0} {1}\".format(port,frequency))\n",
    "    power_meter.write(\"SENS:FREQ {0}\".format(frequency))\n",
    "    # trigger the vna\n",
    "    vna.write(\"ABORT;INITiate:IMMediate;*wai\")\n",
    "    reading_delay=.2\n",
    "    time.sleep(reading_delay)\n",
    "    power_meter.write(\"INIT\")\n",
    "    time.sleep(reading_delay)\n",
    "    power_meter_reading=float(power_meter.query(\"FETCh?\").replace(\"\\n\", \"\"))\n",
    "    time.sleep(measurement_delay)\n",
    "    # Set the format to ascii and set up sweep definitions\n",
    "    vna.write('FORM:ASC,0')\n",
    "    # First get the A and Blists\n",
    "    vna.write('CALC:PAR:SEL A{0}_D{0}'.format(port))\n",
    "    vna.write('CALC:FORM MLIN')\n",
    "    while vna.is_busy():\n",
    "        time.sleep(.01)\n",
    "    a_string = vna.query('CALC:DATA? SDATA')\n",
    "    vna.write('CALC:PAR:SEL  B{0}_D{0}'.format(port))\n",
    "    vna.write('CALC:FORM MLIN')\n",
    "    while vna.is_busy():\n",
    "        time.sleep(.01)\n",
    "    b_string = vna.query('CALC:DATA? SDATA')\n",
    "    # String Parsing\n",
    "    a_list = a_string.replace(\"\\n\", \"\").split(\",\")\n",
    "    b_list = b_string.replace(\"\\n\", \"\").split(\",\")\n",
    "    # Construct a list of lists that is data in RI format\n",
    "    re_a = a_list[0]\n",
    "    im_a = a_list[1]\n",
    "    re_b = b_list[0]\n",
    "    im_b = b_list[1]\n",
    "    new_row = [frequency / 10. ** 9,\n",
    "               re_a, im_a,\n",
    "               re_b, im_b]\n",
    "    #print(new_row)\n",
    "    new_row = map(lambda x: float(x), new_row)\n",
    "    new_total_row = [frequency / 10. ** 9,power_meter_reading,\n",
    "               re_a, im_a,\n",
    "               re_b, im_b]\n",
    "    new_total_row = map(lambda x: float(x), new_total_row)\n",
    "    new_total_row=new_total_row+[datetime.datetime.utcnow()]\n",
    "    wparameter_data.append(new_row)\n",
    "    power_data.append([frequency / 10. ** 9,\n",
    "               power_meter_reading])\n",
    "    total_data.append(new_total_row)\n",
    "    \n",
    "column_names = [\"Frequency\", \"reA1_D1\", \"imA1_D1\", \"reB1_D1\", \"imB1_D1\"]\n",
    "power_column_names=[\"Frequency\",\"Power\"]\n",
    "total_column_names=[\"Frequency\",\"Power\", \"reA1_D1\", \"imA1_D1\", \"reB1_D1\", \"imB1_D1\",\"Date\"]\n",
    "# add some options here about auto saving\n",
    "# do we want comment options?\n",
    "w1_options = {\"column_names_begin_token\": \"!\", \"data_delimiter\": \"  \", \"column_names\": column_names,\n",
    "                   \"data\": wparameter_data, \"specific_descriptor\": \"Wave_Parameters\",\n",
    "                   \"general_descriptor\": \"One_Port\", \"extension\": \"w1p\"}\n",
    "power_options = {\"column_names_begin_token\": \"!\", \"data_delimiter\": \"  \", \"column_names\": power_column_names,\n",
    "                   \"data\": power_data, \"specific_descriptor\": \"Power\",\n",
    "                   \"general_descriptor\": \"One_Port\", \"extension\": \"txt\"}\n",
    "total_options = { \"column_names\": total_column_names,\n",
    "                   \"data\": total_data, \"specific_descriptor\": \"Power_Cal\",\n",
    "                   \"general_descriptor\": \"One_Port\", \"extension\": \"txt\"}\n",
    "w1p = AsciiDataTable(None, **w1_options)\n",
    "power=AsciiDataTable(None, **power_options) \n",
    "total=AsciiDataTable(None, **total_options) \n",
    "              "
   ]
  },
  {
   "cell_type": "markdown",
   "metadata": {},
   "source": [
    "## Harmonic Phase Reference Measurement\n",
    "To measure the harmonic phase reference we need a gamma and a measurement of the output with the signal source turned off. The measurement of the values is w1p file. This is used in conjunction with a s2p file were the gamma of the HPR is in S11 and a calibration file. "
   ]
  },
  {
   "cell_type": "code",
   "execution_count": null,
   "metadata": {
    "collapsed": true
   },
   "outputs": [],
   "source": [
    "# measure gamma of the HPR\n",
    "vna.set_frequency(start=vna_frequency_start,\n",
    "                  stop=vna_frequency_stop,\n",
    "                  number_points=vna_frequency_number_points,\n",
    "                  type=vna_sweep_type)\n",
    "# Now we set the IFBW of the vna\n",
    "vna.set_IFBW(vna_IFBW)\n",
    "# now we set the power in dB\n",
    "vna.set_power(vna_power)"
   ]
  },
  {
   "cell_type": "code",
   "execution_count": null,
   "metadata": {
    "collapsed": true
   },
   "outputs": [],
   "source": [
    "vna.initialize()\n",
    "hpr_gamma=vna.measure_sparameters()"
   ]
  },
  {
   "cell_type": "code",
   "execution_count": null,
   "metadata": {
    "collapsed": true
   },
   "outputs": [],
   "source": [
    "# Again this is done in point mode\n",
    "# select the sweep type \n",
    "vna.write('SWEEP:TYPE POINT')\n",
    "# set the number of points to 1\n",
    "vna.write('SWEEP:POINTS 1')\n",
    "# set the trigger to single\n",
    "vna.write(\"INITiate:CONTinuous OFF\")"
   ]
  },
  {
   "cell_type": "code",
   "execution_count": null,
   "metadata": {
    "collapsed": true
   },
   "outputs": [],
   "source": [
    "wparameter_data = []\n",
    "for frequency in frequency_list:\n",
    "    # set the frequency\n",
    "    vna.write(\"SOUR1:FREQ{0} {1}\".format(port,frequency))\n",
    "    #make sure the power is off\n",
    "    vna.write('SOUR1:POW{0}:STAT OFF'.format(port)\n",
    "    # trigger the vna\n",
    "    vna.write(\"ABORT;INITiate:IMMediate;*wai\")\n",
    "    time.sleep(measurement_delay)\n",
    "    # Set the format to ascii and set up sweep definitions\n",
    "    vna.write('FORM:ASC,0')\n",
    "    # First get the A and Blists\n",
    "    vna.write('CALC:PAR:SEL A{0}_D{0}'.format(port))\n",
    "    vna.write('CALC:FORM MLIN')\n",
    "    while vna.is_busy():\n",
    "        time.sleep(.01)\n",
    "    a_string = vna.query('CALC:DATA? SDATA')\n",
    "    vna.write('CALC:PAR:SEL  B{0}_D{0}'.format(port))\n",
    "    vna.write('CALC:FORM MLIN')\n",
    "    while vna.is_busy():\n",
    "        time.sleep(.01)\n",
    "    b_string = vna.query('CALC:DATA? SDATA')\n",
    "    # String Parsing\n",
    "    a_list = a_string.replace(\"\\n\", \"\").split(\",\")\n",
    "    b_list = b_string.replace(\"\\n\", \"\").split(\",\")\n",
    "    # Construct a list of lists that is data in RI format\n",
    "    re_a = a_list[0]\n",
    "    im_a = a_list[1]\n",
    "    re_b = b_list[0]\n",
    "    im_b = b_list[1]\n",
    "    new_row = [frequency / 10. ** 9,\n",
    "               re_a, im_a,\n",
    "               re_b, im_b]\n",
    "    #print(new_row)\n",
    "    new_row = map(lambda x: float(x), new_row)\n",
    "    wparameter_data.append(new_row)\n",
    "    \n",
    "column_names = [\"Frequency\", \"reA1_D1\", \"imA1_D1\", \"reB1_D1\", \"imB1_D1\"]\n",
    "# add some options here about auto saving\n",
    "# do we want comment options?\n",
    "w1_options = {\"column_names_begin_token\": \"!\", \"data_delimiter\": \"  \", \"column_names\": column_names,\n",
    "                   \"data\": wparameter_data, \"specific_descriptor\": \"Wave_Parameters\",\n",
    "                   \"general_descriptor\": \"One_Port\", \"extension\": \"w1p\"}\n",
    "\n",
    "hpr_w1p = AsciiDataTable(None, **w1_options)              "
   ]
  },
  {
   "cell_type": "markdown",
   "metadata": {},
   "source": [
    "## Standards Measurement For Sparameter Calibration\n",
    "Now we must measure the standards for the Sparameter calibration. Each standard is attached and then the 2 port wave parameters are measured. "
   ]
  },
  {
   "cell_type": "code",
   "execution_count": null,
   "metadata": {
    "collapsed": true
   },
   "outputs": [],
   "source": [
    "# short measurement\n",
    "# attach the short\n",
    "vna.set_frequency(start=vna_frequency_start,\n",
    "                  stop=vna_frequency_stop,\n",
    "                  number_points=vna_frequency_number_points,\n",
    "                  type=vna_sweep_type)\n",
    "# Now we set the IFBW of the vna\n",
    "vna.set_IFBW(vna_IFBW)\n",
    "# now we set the power in dB\n",
    "vna.set_power(vna_power)\n",
    "vna.initialize_w2p()\n",
    "short_w2p=vna.measure_w2p()\n"
   ]
  },
  {
   "cell_type": "code",
   "execution_count": null,
   "metadata": {
    "collapsed": true
   },
   "outputs": [],
   "source": [
    "# open measurement\n",
    "# attach the open\n",
    "vna.set_frequency(start=vna_frequency_start,\n",
    "                  stop=vna_frequency_stop,\n",
    "                  number_points=vna_frequency_number_points,\n",
    "                  type=vna_sweep_type)\n",
    "# Now we set the IFBW of the vna\n",
    "vna.set_IFBW(vna_IFBW)\n",
    "# now we set the power in dB\n",
    "vna.set_power(vna_power)\n",
    "vna.initialize_w2p()\n",
    "open_w2p=vna.measure_w2p()\n"
   ]
  },
  {
   "cell_type": "code",
   "execution_count": null,
   "metadata": {
    "collapsed": true
   },
   "outputs": [],
   "source": [
    "# load measurement\n",
    "# attach the load\n",
    "vna.set_frequency(start=vna_frequency_start,\n",
    "                  stop=vna_frequency_stop,\n",
    "                  number_points=vna_frequency_number_points,\n",
    "                  type=vna_sweep_type)\n",
    "# Now we set the IFBW of the vna\n",
    "vna.set_IFBW(vna_IFBW)\n",
    "# now we set the power in dB\n",
    "vna.set_power(vna_power)\n",
    "vna.initialize_w2p()\n",
    "load_w2p=vna.measure_w2p()"
   ]
  },
  {
   "cell_type": "code",
   "execution_count": null,
   "metadata": {
    "collapsed": true
   },
   "outputs": [],
   "source": [
    "# Thru measurement\n",
    "# attach the thru\n",
    "vna.set_frequency(start=vna_frequency_start,\n",
    "                  stop=vna_frequency_stop,\n",
    "                  number_points=vna_frequency_number_points,\n",
    "                  type=vna_sweep_type)\n",
    "# Now we set the IFBW of the vna\n",
    "vna.set_IFBW(vna_IFBW)\n",
    "# now we set the power in dB\n",
    "vna.set_power(vna_power)\n",
    "vna.initialize_w2p()\n",
    "thru_w2p=vna.measure_w2p()"
   ]
  }
 ],
 "metadata": {
  "kernelspec": {
   "display_name": "Python 2",
   "language": "python",
   "name": "python2"
  },
  "language_info": {
   "codemirror_mode": {
    "name": "ipython",
    "version": 2
   },
   "file_extension": ".py",
   "mimetype": "text/x-python",
   "name": "python",
   "nbconvert_exporter": "python",
   "pygments_lexer": "ipython2",
   "version": "2.7.13"
  }
 },
 "nbformat": 4,
 "nbformat_minor": 2
}
