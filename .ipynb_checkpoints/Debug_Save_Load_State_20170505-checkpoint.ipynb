{
 "cells": [
  {
   "cell_type": "code",
   "execution_count": 1,
   "metadata": {
    "collapsed": false
   },
   "outputs": [
    {
     "name": "stdout",
     "output_type": "stream",
     "text": [
      "Importing pyMeasure, this should take roughly 30 seconds\n",
      "The module smithplot was not found,please put it on the python path\n",
      "The module smithplot was not found,please put it on the python path\n"
     ]
    }
   ],
   "source": [
    "from pyMeasure import *\n"
   ]
  },
  {
   "cell_type": "code",
   "execution_count": 2,
   "metadata": {
    "collapsed": true
   },
   "outputs": [],
   "source": [
    "vna=VNA(\"E8361A\")"
   ]
  },
  {
   "cell_type": "code",
   "execution_count": 3,
   "metadata": {
    "collapsed": false
   },
   "outputs": [
    {
     "data": {
      "text/plain": [
       "{'SENS:AVER': u'0',\n",
       " 'SENS:BAND': u'+3.00000000000E+004',\n",
       " 'SENS:CORR:STAT': u'0',\n",
       " 'SENS:SWE:TYPE': u'LIN',\n",
       " 'SOUR:POW': u'-5.00000000000E+001',\n",
       " 'SOUR:POW:CORR:STAT': u'0',\n",
       " 'SOUR:POW:SLOP': u'+0.00000000000E+000'}"
      ]
     },
     "execution_count": 3,
     "metadata": {},
     "output_type": "execute_result"
    }
   ],
   "source": [
    "vna.get_state()"
   ]
  },
  {
   "cell_type": "code",
   "execution_count": 9,
   "metadata": {
    "collapsed": true
   },
   "outputs": [],
   "source": [
    "vna.set_IFBW(40000)\n",
    "vna.save_state()"
   ]
  },
  {
   "cell_type": "code",
   "execution_count": 10,
   "metadata": {
    "collapsed": false
   },
   "outputs": [
    {
     "data": {
      "text/plain": [
       "{'SENS:AVER': u'0',\n",
       " 'SENS:BAND': u'+4.00000000000E+004',\n",
       " 'SENS:CORR:STAT': u'0',\n",
       " 'SENS:SWE:TYPE': u'LIN',\n",
       " 'SOUR:POW': u'-5.00000000000E+001',\n",
       " 'SOUR:POW:CORR:STAT': u'0',\n",
       " 'SOUR:POW:SLOP': u'+0.00000000000E+000'}"
      ]
     },
     "execution_count": 10,
     "metadata": {},
     "output_type": "execute_result"
    }
   ],
   "source": [
    "vna.get_state()"
   ]
  },
  {
   "cell_type": "code",
   "execution_count": 11,
   "metadata": {
    "collapsed": false
   },
   "outputs": [],
   "source": [
    "vna.load_state(\"E8361A_State_20170505_002.xml\")"
   ]
  },
  {
   "cell_type": "code",
   "execution_count": 12,
   "metadata": {
    "collapsed": false
   },
   "outputs": [
    {
     "data": {
      "text/plain": [
       "{'SENS:AVER': u'0',\n",
       " 'SENS:BAND': u'+3.00000000000E+003',\n",
       " 'SENS:CORR:STAT': u'0',\n",
       " 'SENS:SWE:TYPE': u'LIN',\n",
       " 'SOUR:POW': u'-5.00000000000E+001',\n",
       " 'SOUR:POW:CORR:STAT': u'0',\n",
       " 'SOUR:POW:SLOP': u'+0.00000000000E+000'}"
      ]
     },
     "execution_count": 12,
     "metadata": {},
     "output_type": "execute_result"
    }
   ],
   "source": [
    "vna.get_state()"
   ]
  },
  {
   "cell_type": "code",
   "execution_count": null,
   "metadata": {
    "collapsed": true
   },
   "outputs": [],
   "source": []
  }
 ],
 "metadata": {
  "kernelspec": {
   "display_name": "Python 2",
   "language": "python",
   "name": "python2"
  },
  "language_info": {
   "codemirror_mode": {
    "name": "ipython",
    "version": 2
   },
   "file_extension": ".py",
   "mimetype": "text/x-python",
   "name": "python",
   "nbconvert_exporter": "python",
   "pygments_lexer": "ipython2",
   "version": "2.7.13"
  }
 },
 "nbformat": 4,
 "nbformat_minor": 2
}
