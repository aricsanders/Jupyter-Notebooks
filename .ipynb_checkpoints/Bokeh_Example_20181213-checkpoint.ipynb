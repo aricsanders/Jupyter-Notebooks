{
 "cells": [
  {
   "cell_type": "code",
   "execution_count": 1,
   "metadata": {},
   "outputs": [
    {
     "name": "stdout",
     "output_type": "stream",
     "text": [
      "Importing pyMez...\n",
      "The module smithplot was not found,please put it on the python path\n"
     ]
    }
   ],
   "source": [
    "from pyMez import *"
   ]
  },
  {
   "cell_type": "code",
   "execution_count": 2,
   "metadata": {
    "collapsed": true
   },
   "outputs": [],
   "source": [
    "from bokeh.plotting import figure, output_file, show\n",
    "\n",
    "# prepare some data\n",
    "x = [0.1, 0.5, 1.0, 1.5, 2.0, 2.5, 3.0]\n",
    "y0 = [i**2 for i in x]\n",
    "y1 = [10**i for i in x]\n",
    "y2 = [10**(i**2) for i in x]\n",
    "\n",
    "# output to static HTML file\n",
    "output_file(\"log_lines.html\")\n",
    "\n",
    "# create a new plot\n",
    "p = figure(\n",
    "   tools=\"pan,box_zoom,reset,save\",\n",
    "   y_axis_type=\"log\", y_range=[0.001, 10**11], title=\"log axis example\",\n",
    "   x_axis_label='sections', y_axis_label='particles'\n",
    ")\n",
    "\n",
    "# add some renderers\n",
    "p.line(x, x, legend=\"y=x\")\n",
    "p.circle(x, x, legend=\"y=x\", fill_color=\"white\", size=8)\n",
    "p.line(x, y0, legend=\"y=x^2\", line_width=3)\n",
    "p.line(x, y1, legend=\"y=10^x\", line_color=\"red\")\n",
    "p.circle(x, y1, legend=\"y=10^x\", fill_color=\"red\", line_color=\"red\", size=6)\n",
    "p.line(x, y2, legend=\"y=10^x^2\", line_color=\"orange\", line_dash=\"4 4\")\n",
    "\n",
    "# show the results\n",
    "show(p)"
   ]
  },
  {
   "cell_type": "code",
   "execution_count": 2,
   "metadata": {
    "collapsed": true
   },
   "outputs": [],
   "source": [
    "from bokeh.plotting import figure\n",
    "from bokeh.resources import CDN\n",
    "from bokeh.embed import file_html\n",
    "\n",
    "plot = figure()\n",
    "plot.circle([1,2], [3,4])\n",
    "\n",
    "html = file_html(plot, CDN, \"my plot\")"
   ]
  },
  {
   "cell_type": "code",
   "execution_count": 4,
   "metadata": {},
   "outputs": [
    {
     "name": "stdout",
     "output_type": "stream",
     "text": [
      "file://C:/Users/sandersa/AppData/Local/Temp/1/tmp9lt2ysnf.html\n"
     ]
    }
   ],
   "source": [
    "html_plot=HTMLBase(html_text=html)\n",
    "html_plot.show()"
   ]
  },
  {
   "cell_type": "code",
   "execution_count": 5,
   "metadata": {},
   "outputs": [
    {
     "name": "stderr",
     "output_type": "stream",
     "text": [
      "C:\\Users\\sandersa\\AppData\\Local\\Continuum\\anaconda3\\lib\\site-packages\\odo\\backends\\pandas.py:102: FutureWarning: pandas.tslib is deprecated and will be removed in a future version.\n",
      "You can access NaTType as type(pandas.NaT)\n",
      "  @convert.register((pd.Timestamp, pd.Timedelta), (pd.tslib.NaTType, type(None)))\n"
     ]
    }
   ],
   "source": [
    "from pyMez.Code.Analysis.Reports import *"
   ]
  },
  {
   "cell_type": "code",
   "execution_count": 4,
   "metadata": {},
   "outputs": [
    {
     "data": {
      "text/plain": [
       "{'*': 'asterisk',\n",
       " '+': 'cross',\n",
       " '--': 'dash',\n",
       " '^': 'triangle',\n",
       " 'd': 'diamond',\n",
       " 'd+': 'diamond_cross',\n",
       " 'o': 'circle',\n",
       " 'o+': 'circle_cross',\n",
       " 'ox': 'circle_x',\n",
       " 'sq': 'square',\n",
       " 'sq+': 'square_cross',\n",
       " 'sqx': 'square_x',\n",
       " 'v': 'inverted_triangle',\n",
       " 'x': 'x'}"
      ]
     },
     "execution_count": 4,
     "metadata": {},
     "output_type": "execute_result"
    }
   ],
   "source": [
    "{\"*\":\"asterisk\",\n",
    " \"o\":\"circle\",\n",
    " \"o+\":\"circle_cross\",\n",
    " \"ox\":\"circle_x\",\n",
    " \"+\":\"cross\",\n",
    " \"--\":\"dash\",\n",
    " \"d\":\"diamond\",\n",
    " \"d+\":\"diamond_cross\",\n",
    " \"v\":\"inverted_triangle\",\n",
    " \"sq\":\"square\",\n",
    " \"sq+\":\"square_cross\",\n",
    " \"sqx\":\"square_x\",\n",
    " \"^\":\"triangle\",\n",
    " \"x\":\"x\"}"
   ]
  },
  {
   "cell_type": "code",
   "execution_count": 5,
   "metadata": {
    "collapsed": true
   },
   "outputs": [],
   "source": [
    "style_dictionary={\"*\":\"asterisk\",\n",
    "                 \"o\":\"circle\",\n",
    "                 \"o+\":\"circle_cross\",\n",
    "                 \"ox\":\"circle_x\",\n",
    "                 \"+\":\"cross\",\n",
    "                 \"--\":\"dash\",\n",
    "                 \"d\":\"diamond\",\n",
    "                 \"d+\":\"diamond_cross\",\n",
    "                 \"v\":\"inverted_triangle\",\n",
    "                 \"sq\":\"square\",\n",
    "                 \"sq+\":\"square_cross\",\n",
    "                 \"sqx\":\"square_x\",\n",
    "                 \"^\":\"triangle\",\n",
    "                 \"x\":\"x\",\n",
    "                 \"-\":\"line\"}\n",
    "color_dictionary={\"r\":\"red\",\"b\":\"blue\",\"k\":\"black\",\"w\":\"white\",\"g\":\"green\",\"c\":\"cyan\",\"m\":\"magenta\",\"y\":\"yellow\"}\n"
   ]
  },
  {
   "cell_type": "code",
   "execution_count": 6,
   "metadata": {},
   "outputs": [
    {
     "data": {
      "text/plain": [
       "['x',\n",
       " 'v',\n",
       " 'sqx',\n",
       " 'sq+',\n",
       " 'sq',\n",
       " 'ox',\n",
       " 'o+',\n",
       " 'o',\n",
       " 'd+',\n",
       " 'd',\n",
       " '^',\n",
       " '--',\n",
       " '-',\n",
       " '+',\n",
       " '*']"
      ]
     },
     "execution_count": 6,
     "metadata": {},
     "output_type": "execute_result"
    }
   ],
   "source": [
    "sorted(style_dictionary.keys())[::-1]"
   ]
  },
  {
   "cell_type": "code",
   "execution_count": 15,
   "metadata": {},
   "outputs": [
    {
     "data": {
      "text/plain": [
       "[]"
      ]
     },
     "execution_count": 15,
     "metadata": {},
     "output_type": "execute_result"
    }
   ],
   "source": [
    "styles"
   ]
  },
  {
   "cell_type": "code",
   "execution_count": 16,
   "metadata": {},
   "outputs": [
    {
     "data": {
      "text/plain": [
       "'red'"
      ]
     },
     "execution_count": 16,
     "metadata": {},
     "output_type": "execute_result"
    }
   ],
   "source": [
    "color"
   ]
  },
  {
   "cell_type": "code",
   "execution_count": 17,
   "metadata": {},
   "outputs": [
    {
     "data": {
      "text/plain": [
       "'-x'"
      ]
     },
     "execution_count": 17,
     "metadata": {},
     "output_type": "execute_result"
    }
   ],
   "source": [
    "remaining_code"
   ]
  },
  {
   "cell_type": "code",
   "execution_count": 19,
   "metadata": {},
   "outputs": [
    {
     "data": {
      "text/plain": [
       "'*'"
      ]
     },
     "execution_count": 19,
     "metadata": {},
     "output_type": "execute_result"
    }
   ],
   "source": [
    "style_key"
   ]
  },
  {
   "cell_type": "code",
   "execution_count": 7,
   "metadata": {},
   "outputs": [
    {
     "name": "stdout",
     "output_type": "stream",
     "text": [
      "['dash', 'asterisk', 'square']\n"
     ]
    }
   ],
   "source": [
    "format_code=\"r--sq*\"\n",
    "remaining_code=format_code\n",
    "for color_code in color_dictionary.keys():\n",
    "        if re.match(color_code,remaining_code):\n",
    "            color=color_dictionary[color_code]\n",
    "            remaining_code=remaining_code.replace(color_code,\"\")\n",
    "styles=[]\n",
    "if \"--\" in remaining_code:\n",
    "    style=\"dash\"\n",
    "    styles.append(style)\n",
    "    remaining_code=remaining_code.replace(\"--\",\"\")\n",
    "\n",
    "i=0\n",
    "sorted_style_keys=sorted(style_dictionary.keys())\n",
    "while ((remaining_code!=\"\") or (i<len(style_dictionary.keys())-1)):\n",
    "    style_key=sorted_style_keys[i]\n",
    "    \n",
    "    if re.search(re.escape(style_key),remaining_code):\n",
    "        styles.append(style_dictionary[style_key])\n",
    "        remaining_code=remaining_code.replace(style_key,\"\")\n",
    "    i+=1\n",
    "print(styles)\n",
    "        "
   ]
  },
  {
   "cell_type": "code",
   "execution_count": 2,
   "metadata": {},
   "outputs": [],
   "source": [
    "def parse_format_string(format_string):\n",
    "    \"\"\"Returns a string with color and a list with string styles [color,[style1,style2..]]to be given to bokeh plot\"\"\"\n",
    "    style_dictionary={\"*\":\"asterisk\",\n",
    "                     \"o\":\"circle\",\n",
    "                     \"o+\":\"circle_cross\",\n",
    "                     \"ox\":\"circle_x\",\n",
    "                     \"+\":\"cross\",\n",
    "                     \"--\":\"dash\",\n",
    "                     \"d\":\"diamond\",\n",
    "                     \"d+\":\"diamond_cross\",\n",
    "                     \"v\":\"inverted_triangle\",\n",
    "                     \"sq\":\"square\",\n",
    "                     \"sq+\":\"square_cross\",\n",
    "                     \"sqx\":\"square_x\",\n",
    "                     \"^\":\"triangle\",\n",
    "                     \"x\":\"x\",\n",
    "                     \"-\":\"line\"}\n",
    "    color_dictionary={\"r\":\"red\",\n",
    "                      \"b\":\"blue\",\n",
    "                      \"k\":\"black\",\n",
    "                      \"w\":\"white\",\n",
    "                      \"g\":\"green\",\n",
    "                      \"c\":\"cyan\",\n",
    "                      \"m\":\"magenta\",\n",
    "                      \"y\":\"yellow\"}\n",
    "    remaining_code=format_string\n",
    "    color=\"blue\"\n",
    "    for color_code in color_dictionary.keys():\n",
    "        if re.match(color_code,remaining_code):\n",
    "            color=color_dictionary[color_code]\n",
    "            remaining_code=remaining_code.replace(color_code,\"\")\n",
    "    styles=[]\n",
    "    if \"--\" in remaining_code:\n",
    "        style=\"dash\"\n",
    "        styles.append(style)\n",
    "        remaining_code=remaining_code.replace(\"--\",\"\")\n",
    "\n",
    "    i=0\n",
    "    sorted_style_keys=sorted(style_dictionary.keys())[::-1]\n",
    "    while ((remaining_code!=\"\") or (i<len(style_dictionary.keys())-1)):\n",
    "        style_key=sorted_style_keys[i]\n",
    "\n",
    "        if re.search(re.escape(style_key),remaining_code):\n",
    "            styles.append(style_dictionary[style_key])\n",
    "            remaining_code=remaining_code.replace(style_key,\"\")\n",
    "        i+=1\n",
    "    return [color,styles]"
   ]
  },
  {
   "cell_type": "code",
   "execution_count": 3,
   "metadata": {},
   "outputs": [],
   "source": [
    "from bokeh.plotting import figure\n",
    "from bokeh.embed import components"
   ]
  },
  {
   "cell_type": "code",
   "execution_count": 6,
   "metadata": {},
   "outputs": [],
   "source": [
    "cdn_script_string=\"\"\"<script src=\"https://cdn.pydata.org/bokeh/release/bokeh-0.13.0.min.js\"></script>\"\"\"\n",
    "cdn_css_string=\"\"\"<link href=\"https://cdn.pydata.org/bokeh/release/bokeh-0.13.0.min.css\" rel=\"stylesheet\" type=\"text/css\">\"\"\"\n",
    "style_dictionary={\"*\":\"asterisk\",\n",
    "                 \"o\":\"circle\",\n",
    "                 \"o+\":\"circle_cross\",\n",
    "                 \"ox\":\"circle_x\",\n",
    "                 \"+\":\"cross\",\n",
    "                 \"--\":\"dash\",\n",
    "                 \"d\":\"diamond\",\n",
    "                 \"d+\":\"diamond_cross\",\n",
    "                 \"v\":\"inverted_triangle\",\n",
    "                 \"sq\":\"square\",\n",
    "                 \"sq+\":\"square_cross\",\n",
    "                 \"sqx\":\"square_x\",\n",
    "                 \"^\":\"triangle\",\n",
    "                 \"x\":\"x\",\n",
    "                 \"-\":\"line\"}\n",
    "class BokehReport(HTMLReport):\n",
    "    def __init__(self):\n",
    "        HTMLReport.__init__(self)\n",
    "        self.add_head()\n",
    "        self.add_body()\n",
    "        self.append_to_head(cdn_css_string)\n",
    "        self.append_to_head(cdn_script_string)\n",
    "        self.figures=[]\n",
    "        self.div_elements=[]\n",
    "        self.script_elements=[]\n",
    "\n",
    "    def plot(self,x_data,y_data,format=\"\",**options):\n",
    "        \"\"\"Creates an interactive plot using bokeh and appends to the body\"\"\"\n",
    "        defaults={\"tools\":\"pan,box_zoom,reset,save\",\n",
    "                  \"title\":None,\n",
    "                  \"plot_width\":400, \n",
    "                  \"plot_height\":400,\n",
    "                  \"styles\":[\"line\"],\n",
    "                  \"color\":\"gray\",\n",
    "                  \"figure_index\":False,\n",
    "                  \"glyph_options\":{}}\n",
    "        self.plot_options={}\n",
    "        for key,value in defaults.items():\n",
    "            self.plot_options[key]=value\n",
    "        for key,value in options.items():\n",
    "            self.plot_options[key]=value\n",
    "        figure_option_keys=[\"tools\",\"title\",\"plot_width\",\"plot_height\",\"active_drag\",\"active_inspect\",\n",
    "                           \"active_scroll\",\"active_tap\",\"tooltips\"]\n",
    "        figure_options={}\n",
    "        for key in self.plot_options.keys():\n",
    "            if key in figure_option_keys:\n",
    "                figure_options[key]=self.plot_options[key] \n",
    "                \n",
    "        if self.plot_options[\"figure_index\"] is not False:\n",
    "            plot=self.figures[self.plot_options[\"figure_index\"]]\n",
    "        else:\n",
    "            plot=figure(**figure_options)\n",
    "            self.figures.append(plot)\n",
    "        if format:\n",
    "            [color,styles]=parse_format_string(format)\n",
    "        else:\n",
    "            [color,styles]=[self.plot_options[\"color\"],self.plot_options[\"styles\"]]\n",
    "        for style in styles:\n",
    "            if style in [\"line\"]:\n",
    "                plotter=getattr(plot,style)\n",
    "                plotter(x_data,y_data,line_color=color,**self.plot_options[\"glyph_options\"])\n",
    "            elif style is \"dash\":\n",
    "                plot.line(x_data,y_data,line_dash=\"dashed\")\n",
    "            else:\n",
    "                plotter=getattr(plot,style)\n",
    "                plotter(x_data,y_data,fill_color=color,line_color=color,**self.plot_options[\"glyph_options\"])\n",
    "        \n",
    "        script,div=components(plot)\n",
    "        \n",
    "        if self.plot_options[\"figure_index\"] is not False:\n",
    "            figure_index=self.plot_options[\"figure_index\"]\n",
    "            self.root.head.remove(self.script_elements[figure_index])\n",
    "            self.append_to_head(str(script))\n",
    "            self.script_elements[figure_index]=self.root.head.getchildren()[-1]\n",
    "            new_div_element=lxml.etree.fromstring(str(div))\n",
    "            self.div_elements[figure_index].attrib[\"id\"]=new_div_element.attrib[\"id\"]\n",
    "        else:\n",
    "            self.append_to_head(str(script))\n",
    "            self.append_to_body(str(div))\n",
    "            self.div_elements.append(self.root.body.getchildren()[-1])\n",
    "            self.script_elements.append(self.root.head.getchildren()[-1])"
   ]
  },
  {
   "cell_type": "code",
   "execution_count": 256,
   "metadata": {},
   "outputs": [],
   "source": [
    "report=BokehReport()\n"
   ]
  },
  {
   "cell_type": "code",
   "execution_count": 242,
   "metadata": {},
   "outputs": [],
   "source": [
    "report.plot(np.linspace(-10,10).tolist(),(np.linspace(-10,10)**3).tolist(),\"d+\",glyph_options={\"size\":10,\"fill_alpha\":.2})"
   ]
  },
  {
   "cell_type": "code",
   "execution_count": 243,
   "metadata": {},
   "outputs": [],
   "source": [
    "\n",
    "report.plot(np.linspace(-10,10).tolist(),(np.linspace(-10,10)**2).tolist(),\"b--d+\",figure_index=0)\n",
    "report.plot(np.linspace(-10,10).tolist(),(10*np.linspace(-10,10)**2).tolist(),\"r-x\",figure_index=0)"
   ]
  },
  {
   "cell_type": "code",
   "execution_count": 10,
   "metadata": {},
   "outputs": [
    {
     "ename": "IndexError",
     "evalue": "list index out of range",
     "output_type": "error",
     "traceback": [
      "\u001b[1;31m---------------------------------------------------------------------------\u001b[0m",
      "\u001b[1;31mIndexError\u001b[0m                                Traceback (most recent call last)",
      "\u001b[1;32m<ipython-input-10-40b5a5d1b122>\u001b[0m in \u001b[0;36m<module>\u001b[1;34m()\u001b[0m\n\u001b[1;32m----> 1\u001b[1;33m \u001b[0mreport\u001b[0m\u001b[1;33m.\u001b[0m\u001b[0mplot\u001b[0m\u001b[1;33m(\u001b[0m\u001b[0mnp\u001b[0m\u001b[1;33m.\u001b[0m\u001b[0mlinspace\u001b[0m\u001b[1;33m(\u001b[0m\u001b[1;33m-\u001b[0m\u001b[1;36m10\u001b[0m\u001b[1;33m,\u001b[0m\u001b[1;36m10\u001b[0m\u001b[1;33m)\u001b[0m\u001b[1;33m,\u001b[0m\u001b[1;33m(\u001b[0m\u001b[1;36m10\u001b[0m\u001b[1;33m*\u001b[0m\u001b[0mnp\u001b[0m\u001b[1;33m.\u001b[0m\u001b[0mlinspace\u001b[0m\u001b[1;33m(\u001b[0m\u001b[1;33m-\u001b[0m\u001b[1;36m10\u001b[0m\u001b[1;33m,\u001b[0m\u001b[1;36m10\u001b[0m\u001b[1;33m)\u001b[0m\u001b[1;33m**\u001b[0m\u001b[1;36m3\u001b[0m\u001b[1;33m)\u001b[0m\u001b[1;33m,\u001b[0m\u001b[0mfigure_index\u001b[0m\u001b[1;33m=\u001b[0m\u001b[1;36m2\u001b[0m\u001b[1;33m,\u001b[0m\u001b[0mtitle\u001b[0m\u001b[1;33m=\u001b[0m\u001b[1;34m\"This is a new Plot\"\u001b[0m\u001b[1;33m)\u001b[0m\u001b[1;33m\u001b[0m\u001b[0m\n\u001b[0m",
      "\u001b[1;32m<ipython-input-6-f19764368d73>\u001b[0m in \u001b[0;36mplot\u001b[1;34m(self, x_data, y_data, format, **options)\u001b[0m\n\u001b[0;32m     50\u001b[0m \u001b[1;33m\u001b[0m\u001b[0m\n\u001b[0;32m     51\u001b[0m         \u001b[1;32mif\u001b[0m \u001b[0mself\u001b[0m\u001b[1;33m.\u001b[0m\u001b[0mplot_options\u001b[0m\u001b[1;33m[\u001b[0m\u001b[1;34m\"figure_index\"\u001b[0m\u001b[1;33m]\u001b[0m \u001b[1;32mis\u001b[0m \u001b[1;32mnot\u001b[0m \u001b[1;32mFalse\u001b[0m\u001b[1;33m:\u001b[0m\u001b[1;33m\u001b[0m\u001b[0m\n\u001b[1;32m---> 52\u001b[1;33m             \u001b[0mplot\u001b[0m\u001b[1;33m=\u001b[0m\u001b[0mself\u001b[0m\u001b[1;33m.\u001b[0m\u001b[0mfigures\u001b[0m\u001b[1;33m[\u001b[0m\u001b[0mself\u001b[0m\u001b[1;33m.\u001b[0m\u001b[0mplot_options\u001b[0m\u001b[1;33m[\u001b[0m\u001b[1;34m\"figure_index\"\u001b[0m\u001b[1;33m]\u001b[0m\u001b[1;33m]\u001b[0m\u001b[1;33m\u001b[0m\u001b[0m\n\u001b[0m\u001b[0;32m     53\u001b[0m         \u001b[1;32melse\u001b[0m\u001b[1;33m:\u001b[0m\u001b[1;33m\u001b[0m\u001b[0m\n\u001b[0;32m     54\u001b[0m             \u001b[0mplot\u001b[0m\u001b[1;33m=\u001b[0m\u001b[0mfigure\u001b[0m\u001b[1;33m(\u001b[0m\u001b[1;33m**\u001b[0m\u001b[0mfigure_options\u001b[0m\u001b[1;33m)\u001b[0m\u001b[1;33m\u001b[0m\u001b[0m\n",
      "\u001b[1;31mIndexError\u001b[0m: list index out of range"
     ]
    }
   ],
   "source": [
    "report.plot(np.linspace(-10,10),(10*np.linspace(-10,10)**3),figure_index=2,title=\"This is a new Plot\")"
   ]
  },
  {
   "cell_type": "code",
   "execution_count": 244,
   "metadata": {},
   "outputs": [
    {
     "name": "stdout",
     "output_type": "stream",
     "text": [
      "file://C:/Users/sandersa/AppData/Local/Temp/1/tmphkneva66.html\n"
     ]
    }
   ],
   "source": [
    "report.show()"
   ]
  },
  {
   "cell_type": "code",
   "execution_count": 79,
   "metadata": {},
   "outputs": [
    {
     "name": "stdout",
     "output_type": "stream",
     "text": [
      "Loading pages (1/6)\r\n",
      "[>                                                           ] 0%\r",
      "[======>                                                     ] 10%\r",
      "[===============>                                            ] 25%\r",
      "[====================>                                       ] 34%\r",
      "[========================>                                   ] 41%\r",
      "[===========================>                                ] 45%\r",
      "[=============================>                              ] 49%\r",
      "[============================================================] 100%\r",
      "Counting pages (2/6)                                               \r\n",
      "[============================================================] Object 1 of 1\r",
      "Resolving links (4/6)                                                       \r\n",
      "[============================================================] Object 1 of 1\r",
      "Loading headers and footers (5/6)                                           \r\n",
      "Printing pages (6/6)\r\n",
      "[>                                                           ] Preparing\r",
      "[============================================================] Page 1 of 1\r",
      "Done                                                                      \r\n"
     ]
    },
    {
     "data": {
      "text/plain": [
       "'HTML_Document_20181214_001.pdf'"
      ]
     },
     "execution_count": 79,
     "metadata": {},
     "output_type": "execute_result"
    }
   ],
   "source": [
    "report.to_pdf()"
   ]
  },
  {
   "cell_type": "code",
   "execution_count": 182,
   "metadata": {},
   "outputs": [
    {
     "data": {
      "text/plain": [
       "[<Element script at 0xb7dec28>]"
      ]
     },
     "execution_count": 182,
     "metadata": {},
     "output_type": "execute_result"
    }
   ],
   "source": [
    "report.script_elements"
   ]
  },
  {
   "cell_type": "code",
   "execution_count": 45,
   "metadata": {},
   "outputs": [
    {
     "data": {
      "text/plain": [
       "'0.13.0'"
      ]
     },
     "execution_count": 45,
     "metadata": {},
     "output_type": "execute_result"
    }
   ],
   "source": [
    "import bokeh\n",
    "bokeh.__version__"
   ]
  },
  {
   "cell_type": "code",
   "execution_count": 118,
   "metadata": {},
   "outputs": [
    {
     "data": {
      "text/plain": [
       "2"
      ]
     },
     "execution_count": 118,
     "metadata": {},
     "output_type": "execute_result"
    }
   ],
   "source": [
    "len(report.figures)"
   ]
  },
  {
   "cell_type": "code",
   "execution_count": 126,
   "metadata": {
    "collapsed": true
   },
   "outputs": [],
   "source": [
    "fig=report.figures[0]"
   ]
  },
  {
   "cell_type": "code",
   "execution_count": 134,
   "metadata": {},
   "outputs": [
    {
     "ename": "TypeError",
     "evalue": "'set' object is not subscriptable",
     "output_type": "error",
     "traceback": [
      "\u001b[1;31m---------------------------------------------------------------------------\u001b[0m",
      "\u001b[1;31mTypeError\u001b[0m                                 Traceback (most recent call last)",
      "\u001b[1;32m<ipython-input-134-fd7230f47592>\u001b[0m in \u001b[0;36m<module>\u001b[1;34m()\u001b[0m\n\u001b[1;32m----> 1\u001b[1;33m \u001b[0mfig\u001b[0m\u001b[1;33m.\u001b[0m\u001b[0mproperties\u001b[0m\u001b[1;33m(\u001b[0m\u001b[1;33m)\u001b[0m\u001b[1;33m[\u001b[0m\u001b[1;34m\"hidpi\"\u001b[0m\u001b[1;33m]\u001b[0m\u001b[1;33m\u001b[0m\u001b[0m\n\u001b[0m",
      "\u001b[1;31mTypeError\u001b[0m: 'set' object is not subscriptable"
     ]
    }
   ],
   "source": [
    "fig.properties()"
   ]
  },
  {
   "cell_type": "code",
   "execution_count": 169,
   "metadata": {
    "collapsed": true
   },
   "outputs": [],
   "source": [
    "report.root.head.remove(report.script_elements[0])"
   ]
  },
  {
   "cell_type": "code",
   "execution_count": 170,
   "metadata": {},
   "outputs": [
    {
     "name": "stdout",
     "output_type": "stream",
     "text": [
      "file://C:/Users/sandersa/AppData/Local/Temp/1/tmp9kfq7w08.html\n"
     ]
    }
   ],
   "source": [
    "report.show()"
   ]
  },
  {
   "cell_type": "code",
   "execution_count": 193,
   "metadata": {},
   "outputs": [
    {
     "name": "stdout",
     "output_type": "stream",
     "text": [
      "Help on function make_html_element in module Code.DataHandlers.HTMLModels:\n",
      "\n",
      "make_html_element(tag, text=None, **attribute_dictionary)\n",
      "    Creates an lxml.html.HtmlElement given a tag, text and attribute dictionary\n",
      "    <tag key1=\"value2\" key2=\"value2\">text</tag>\n",
      "\n"
     ]
    }
   ],
   "source": [
    "help(make_html_element)"
   ]
  },
  {
   "cell_type": "code",
   "execution_count": 200,
   "metadata": {
    "collapsed": true
   },
   "outputs": [],
   "source": [
    "test=lxml.etree.fromstring(etree.tostring(report.div_elements[0]))"
   ]
  },
  {
   "cell_type": "code",
   "execution_count": 208,
   "metadata": {},
   "outputs": [
    {
     "data": {
      "text/plain": [
       "'45e38c79-c48d-4faf-9928-b8f9df831f80'"
      ]
     },
     "execution_count": 208,
     "metadata": {},
     "output_type": "execute_result"
    }
   ],
   "source": [
    "test.attrib[\"id\"]"
   ]
  },
  {
   "cell_type": "code",
   "execution_count": 235,
   "metadata": {},
   "outputs": [
    {
     "data": {
      "text/plain": [
       "['__cached_all__overridden_defaults__',\n",
       " '__cached_all__properties__',\n",
       " '__cached_all__properties_with_refs__',\n",
       " '__class__',\n",
       " '__container_props__',\n",
       " '__dataspecs__',\n",
       " '__delattr__',\n",
       " '__dict__',\n",
       " '__dir__',\n",
       " '__doc__',\n",
       " '__eq__',\n",
       " '__format__',\n",
       " '__ge__',\n",
       " '__getattribute__',\n",
       " '__gt__',\n",
       " '__hash__',\n",
       " '__init__',\n",
       " '__init_subclass__',\n",
       " '__le__',\n",
       " '__lt__',\n",
       " '__module__',\n",
       " '__ne__',\n",
       " '__new__',\n",
       " '__overridden_defaults__',\n",
       " '__properties__',\n",
       " '__properties_with_refs__',\n",
       " '__reduce__',\n",
       " '__reduce_ex__',\n",
       " '__repr__',\n",
       " '__setattr__',\n",
       " '__sizeof__',\n",
       " '__str__',\n",
       " '__subclasshook__',\n",
       " '__view_model__',\n",
       " '__weakref__',\n",
       " '_attach_document',\n",
       " '_callbacks',\n",
       " '_clear_extensions',\n",
       " '_clone',\n",
       " '_detach_document',\n",
       " '_document',\n",
       " '_event_callbacks',\n",
       " '_id',\n",
       " '_overridden_defaults',\n",
       " '_property_values',\n",
       " '_repr_html_',\n",
       " '_repr_pretty_',\n",
       " '_to_json_like',\n",
       " '_trigger_event',\n",
       " '_unstable_default_values',\n",
       " '_unstable_themed_values',\n",
       " '_update_event_callbacks',\n",
       " 'apply_theme',\n",
       " 'axis_label',\n",
       " 'axis_label_standoff',\n",
       " 'axis_label_text_align',\n",
       " 'axis_label_text_alpha',\n",
       " 'axis_label_text_baseline',\n",
       " 'axis_label_text_color',\n",
       " 'axis_label_text_font',\n",
       " 'axis_label_text_font_size',\n",
       " 'axis_label_text_font_style',\n",
       " 'axis_label_text_line_height',\n",
       " 'axis_line_alpha',\n",
       " 'axis_line_cap',\n",
       " 'axis_line_color',\n",
       " 'axis_line_dash',\n",
       " 'axis_line_dash_offset',\n",
       " 'axis_line_join',\n",
       " 'axis_line_width',\n",
       " 'bounds',\n",
       " 'dataspecs',\n",
       " 'dataspecs_with_props',\n",
       " 'document',\n",
       " 'equals',\n",
       " 'fixed_location',\n",
       " 'formatter',\n",
       " 'js_event_callbacks',\n",
       " 'js_on_change',\n",
       " 'js_on_event',\n",
       " 'js_property_callbacks',\n",
       " 'layout',\n",
       " 'level',\n",
       " 'lookup',\n",
       " 'major_label_orientation',\n",
       " 'major_label_overrides',\n",
       " 'major_label_standoff',\n",
       " 'major_label_text_align',\n",
       " 'major_label_text_alpha',\n",
       " 'major_label_text_baseline',\n",
       " 'major_label_text_color',\n",
       " 'major_label_text_font',\n",
       " 'major_label_text_font_size',\n",
       " 'major_label_text_font_style',\n",
       " 'major_label_text_line_height',\n",
       " 'major_tick_in',\n",
       " 'major_tick_line_alpha',\n",
       " 'major_tick_line_cap',\n",
       " 'major_tick_line_color',\n",
       " 'major_tick_line_dash',\n",
       " 'major_tick_line_dash_offset',\n",
       " 'major_tick_line_join',\n",
       " 'major_tick_line_width',\n",
       " 'major_tick_out',\n",
       " 'minor_tick_in',\n",
       " 'minor_tick_line_alpha',\n",
       " 'minor_tick_line_cap',\n",
       " 'minor_tick_line_color',\n",
       " 'minor_tick_line_dash',\n",
       " 'minor_tick_line_dash_offset',\n",
       " 'minor_tick_line_join',\n",
       " 'minor_tick_line_width',\n",
       " 'minor_tick_out',\n",
       " 'name',\n",
       " 'on_change',\n",
       " 'on_event',\n",
       " 'plot',\n",
       " 'pprint',\n",
       " 'pretty',\n",
       " 'properties',\n",
       " 'properties_containers',\n",
       " 'properties_with_refs',\n",
       " 'properties_with_values',\n",
       " 'query_properties_with_values',\n",
       " 'ref',\n",
       " 'references',\n",
       " 'remove_on_change',\n",
       " 'select',\n",
       " 'select_one',\n",
       " 'set_from_json',\n",
       " 'set_select',\n",
       " 'subscribed_events',\n",
       " 'tags',\n",
       " 'themed_values',\n",
       " 'ticker',\n",
       " 'to_json',\n",
       " 'to_json_string',\n",
       " 'trigger',\n",
       " 'unapply_theme',\n",
       " 'update',\n",
       " 'update_from_json',\n",
       " 'visible',\n",
       " 'x_range_name',\n",
       " 'y_range_name']"
      ]
     },
     "execution_count": 235,
     "metadata": {},
     "output_type": "execute_result"
    }
   ],
   "source": [
    "dir(report.figures[0].xaxis)"
   ]
  },
  {
   "cell_type": "code",
   "execution_count": 14,
   "metadata": {},
   "outputs": [],
   "source": [
    "from pyMez.Code.Analysis.Fitting import *"
   ]
  },
  {
   "cell_type": "code",
   "execution_count": 18,
   "metadata": {},
   "outputs": [],
   "source": [
    "from sympy import besselj, jn\n",
    "cosh=FunctionalModel(variables=[\"Z\"],parameters=\"A\",equation=\"A*cosh(Z)\")\n",
    "bessel=FunctionalModel(variables=[\"Z\"],parameters=\"A\",equation=\"A*besselj(1,Z)\")"
   ]
  },
  {
   "cell_type": "code",
   "execution_count": 19,
   "metadata": {},
   "outputs": [],
   "source": [
    "bessel.set_parameters({\"A\":1.0})"
   ]
  },
  {
   "cell_type": "code",
   "execution_count": 40,
   "metadata": {},
   "outputs": [],
   "source": [
    "f=np.vectorize(lambda x:sympy.N(sympy.lambdify(\"Z\",bessel.equation.subs({\"A\":1}),modules=[np,{\"besselj\":sympy.besselj}])(x)))"
   ]
  },
  {
   "cell_type": "code",
   "execution_count": 45,
   "metadata": {},
   "outputs": [
    {
     "data": {
      "text/plain": [
       "[<matplotlib.lines.Line2D at 0xfb5a7b8>]"
      ]
     },
     "execution_count": 45,
     "metadata": {},
     "output_type": "execute_result"
    },
    {
     "data": {
      "image/png": "[encoded data removed]",
      "text/plain": [
       "<Figure size 432x288 with 1 Axes>"
      ]
     },
     "metadata": {
      "needs_background": "light"
     },
     "output_type": "display_data"
    }
   ],
   "source": [
    "plt.plot(f(np.linspace(0,100,1000)))"
   ]
  },
  {
   "cell_type": "code",
   "execution_count": 70,
   "metadata": {
    "collapsed": true
   },
   "outputs": [],
   "source": [
    "cosh.set_parameters({\"A\":1})"
   ]
  },
  {
   "cell_type": "code",
   "execution_count": 63,
   "metadata": {},
   "outputs": [
    {
     "name": "stdout",
     "output_type": "stream",
     "text": [
      "arctan(Z)*cosh(Z)\n"
     ]
    }
   ],
   "source": [
    "print(cosh)"
   ]
  },
  {
   "cell_type": "code",
   "execution_count": 80,
   "metadata": {},
   "outputs": [
    {
     "name": "stdout",
     "output_type": "stream",
     "text": [
      "\\cosh{\\left (Z \\right )}\n"
     ]
    }
   ],
   "source": [
    "print(cosh.to_latex())\n"
   ]
  },
  {
   "cell_type": "markdown",
   "metadata": {},
   "source": [
    "$$\\cosh{\\left (Z \\right )}$$"
   ]
  },
  {
   "cell_type": "code",
   "execution_count": 72,
   "metadata": {},
   "outputs": [
    {
     "name": "stdout",
     "output_type": "stream",
     "text": [
      "A*sinh(Z)\n"
     ]
    }
   ],
   "source": [
    "print(cosh.d(\"Z\"))\n",
    "derivative=cosh.d(\"Z\")\n",
    "derivative.set_parameters({\"A\":1})"
   ]
  },
  {
   "cell_type": "code",
   "execution_count": 73,
   "metadata": {},
   "outputs": [
    {
     "name": "stdout",
     "output_type": "stream",
     "text": [
      "file://c:/users/sandersa/appdata/local/temp/1/tmpataxyd.html\n"
     ]
    }
   ],
   "source": [
    "z=np.linspace(.0001,10,100)\n",
    "report.plot(derivative(z),cosh(z),\"r--o\")\n",
    "report.show()"
   ]
  },
  {
   "cell_type": "code",
   "execution_count": 29,
   "metadata": {},
   "outputs": [
    {
     "ename": "NameError",
     "evalue": "name 'x' is not defined",
     "output_type": "error",
     "traceback": [
      "\u001b[0;31m---------------------------------------------------------------------------\u001b[0m",
      "\u001b[0;31mNameError\u001b[0m                                 Traceback (most recent call last)",
      "\u001b[0;32m<ipython-input-29-babd598b0a60>\u001b[0m in \u001b[0;36m<module>\u001b[0;34m()\u001b[0m\n\u001b[0;32m----> 1\u001b[0;31m \u001b[0msympy\u001b[0m\u001b[1;33m.\u001b[0m\u001b[0msympify\u001b[0m\u001b[1;33m(\u001b[0m\u001b[0mbesselj\u001b[0m\u001b[1;33m(\u001b[0m\u001b[1;36m1\u001b[0m\u001b[1;33m,\u001b[0m\u001b[0mx\u001b[0m\u001b[1;33m)\u001b[0m\u001b[1;33m)\u001b[0m\u001b[1;33m\u001b[0m\u001b[0m\n\u001b[0m",
      "\u001b[0;31mNameError\u001b[0m: name 'x' is not defined"
     ]
    }
   ],
   "source": [
    "sympy.sympify(besselj(1,x))"
   ]
  },
  {
   "cell_type": "code",
   "execution_count": 50,
   "metadata": {},
   "outputs": [
    {
     "data": {
      "text/plain": [
       "besselj(1, 0.0001)"
      ]
     },
     "execution_count": 50,
     "metadata": {},
     "output_type": "execute_result"
    }
   ],
   "source": [
    "sympy.besselj(1,z[0])"
   ]
  },
  {
   "cell_type": "code",
   "execution_count": 12,
   "metadata": {},
   "outputs": [
    {
     "data": {
      "text/html": [
       "\n",
       "    <div class=\"bk-root\">\n",
       "        <a href=\"https://bokeh.pydata.org\" target=\"_blank\" class=\"bk-logo bk-logo-small bk-logo-notebook\"></a>\n",
       "        <span id=\"3364ec44-820e-4c56-bebc-cbc08a25886f\">Loading BokehJS ...</span>\n",
       "    </div>"
      ]
     },
     "metadata": {},
     "output_type": "display_data"
    },
    {
     "data": {
      "application/javascript": [
       "\n",
       "(function(root) {\n",
       "  function now() {\n",
       "    return new Date();\n",
       "  }\n",
       "\n",
       "  var force = true;\n",
       "\n",
       "  if (typeof (root._bokeh_onload_callbacks) === \"undefined\" || force === true) {\n",
       "    root._bokeh_onload_callbacks = [];\n",
       "    root._bokeh_is_loading = undefined;\n",
       "  }\n",
       "\n",
       "  var JS_MIME_TYPE = 'application/javascript';\n",
       "  var HTML_MIME_TYPE = 'text/html';\n",
       "  var EXEC_MIME_TYPE = 'application/vnd.bokehjs_exec.v0+json';\n",
       "  var CLASS_NAME = 'output_bokeh rendered_html';\n",
       "\n",
       "  /**\n",
       "   * Render data to the DOM node\n",
       "   */\n",
       "  function render(props, node) {\n",
       "    var script = document.createElement(\"script\");\n",
       "    node.appendChild(script);\n",
       "  }\n",
       "\n",
       "  /**\n",
       "   * Handle when an output is cleared or removed\n",
       "   */\n",
       "  function handleClearOutput(event, handle) {\n",
       "    var cell = handle.cell;\n",
       "\n",
       "    var id = cell.output_area._bokeh_element_id;\n",
       "    var server_id = cell.output_area._bokeh_server_id;\n",
       "    // Clean up Bokeh references\n",
       "    if (id != null && id in Bokeh.index) {\n",
       "      Bokeh.index[id].model.document.clear();\n",
       "      delete Bokeh.index[id];\n",
       "    }\n",
       "\n",
       "    if (server_id !== undefined) {\n",
       "      // Clean up Bokeh references\n",
       "      var cmd = \"from bokeh.io.state import curstate; print(curstate().uuid_to_server['\" + server_id + \"'].get_sessions()[0].document.roots[0]._id)\";\n",
       "      cell.notebook.kernel.execute(cmd, {\n",
       "        iopub: {\n",
       "          output: function(msg) {\n",
       "            var id = msg.content.text.trim();\n",
       "            if (id in Bokeh.index) {\n",
       "              Bokeh.index[id].model.document.clear();\n",
       "              delete Bokeh.index[id];\n",
       "            }\n",
       "          }\n",
       "        }\n",
       "      });\n",
       "      // Destroy server and session\n",
       "      var cmd = \"import bokeh.io.notebook as ion; ion.destroy_server('\" + server_id + \"')\";\n",
       "      cell.notebook.kernel.execute(cmd);\n",
       "    }\n",
       "  }\n",
       "\n",
       "  /**\n",
       "   * Handle when a new output is added\n",
       "   */\n",
       "  function handleAddOutput(event, handle) {\n",
       "    var output_area = handle.output_area;\n",
       "    var output = handle.output;\n",
       "\n",
       "    // limit handleAddOutput to display_data with EXEC_MIME_TYPE content only\n",
       "    if ((output.output_type != \"display_data\") || (!output.data.hasOwnProperty(EXEC_MIME_TYPE))) {\n",
       "      return\n",
       "    }\n",
       "\n",
       "    var toinsert = output_area.element.find(\".\" + CLASS_NAME.split(' ')[0]);\n",
       "\n",
       "    if (output.metadata[EXEC_MIME_TYPE][\"id\"] !== undefined) {\n",
       "      toinsert[toinsert.length - 1].firstChild.textContent = output.data[JS_MIME_TYPE];\n",
       "      // store reference to embed id on output_area\n",
       "      output_area._bokeh_element_id = output.metadata[EXEC_MIME_TYPE][\"id\"];\n",
       "    }\n",
       "    if (output.metadata[EXEC_MIME_TYPE][\"server_id\"] !== undefined) {\n",
       "      var bk_div = document.createElement(\"div\");\n",
       "      bk_div.innerHTML = output.data[HTML_MIME_TYPE];\n",
       "      var script_attrs = bk_div.children[0].attributes;\n",
       "      for (var i = 0; i < script_attrs.length; i++) {\n",
       "        toinsert[toinsert.length - 1].firstChild.setAttribute(script_attrs[i].name, script_attrs[i].value);\n",
       "      }\n",
       "      // store reference to server id on output_area\n",
       "      output_area._bokeh_server_id = output.metadata[EXEC_MIME_TYPE][\"server_id\"];\n",
       "    }\n",
       "  }\n",
       "\n",
       "  function register_renderer(events, OutputArea) {\n",
       "\n",
       "    function append_mime(data, metadata, element) {\n",
       "      // create a DOM node to render to\n",
       "      var toinsert = this.create_output_subarea(\n",
       "        metadata,\n",
       "        CLASS_NAME,\n",
       "        EXEC_MIME_TYPE\n",
       "      );\n",
       "      this.keyboard_manager.register_events(toinsert);\n",
       "      // Render to node\n",
       "      var props = {data: data, metadata: metadata[EXEC_MIME_TYPE]};\n",
       "      render(props, toinsert[toinsert.length - 1]);\n",
       "      element.append(toinsert);\n",
       "      return toinsert\n",
       "    }\n",
       "\n",
       "    /* Handle when an output is cleared or removed */\n",
       "    events.on('clear_output.CodeCell', handleClearOutput);\n",
       "    events.on('delete.Cell', handleClearOutput);\n",
       "\n",
       "    /* Handle when a new output is added */\n",
       "    events.on('output_added.OutputArea', handleAddOutput);\n",
       "\n",
       "    /**\n",
       "     * Register the mime type and append_mime function with output_area\n",
       "     */\n",
       "    OutputArea.prototype.register_mime_type(EXEC_MIME_TYPE, append_mime, {\n",
       "      /* Is output safe? */\n",
       "      safe: true,\n",
       "      /* Index of renderer in `output_area.display_order` */\n",
       "      index: 0\n",
       "    });\n",
       "  }\n",
       "\n",
       "  // register the mime type if in Jupyter Notebook environment and previously unregistered\n",
       "  if (root.Jupyter !== undefined) {\n",
       "    var events = require('base/js/events');\n",
       "    var OutputArea = require('notebook/js/outputarea').OutputArea;\n",
       "\n",
       "    if (OutputArea.prototype.mime_types().indexOf(EXEC_MIME_TYPE) == -1) {\n",
       "      register_renderer(events, OutputArea);\n",
       "    }\n",
       "  }\n",
       "\n",
       "  \n",
       "  if (typeof (root._bokeh_timeout) === \"undefined\" || force === true) {\n",
       "    root._bokeh_timeout = Date.now() + 5000;\n",
       "    root._bokeh_failed_load = false;\n",
       "  }\n",
       "\n",
       "  var NB_LOAD_WARNING = {'data': {'text/html':\n",
       "     \"<div style='background-color: #fdd'>\\n\"+\n",
       "     \"<p>\\n\"+\n",
       "     \"BokehJS does not appear to have successfully loaded. If loading BokehJS from CDN, this \\n\"+\n",
       "     \"may be due to a slow or bad network connection. Possible fixes:\\n\"+\n",
       "     \"</p>\\n\"+\n",
       "     \"<ul>\\n\"+\n",
       "     \"<li>re-rerun `output_notebook()` to attempt to load from CDN again, or</li>\\n\"+\n",
       "     \"<li>use INLINE resources instead, as so:</li>\\n\"+\n",
       "     \"</ul>\\n\"+\n",
       "     \"<code>\\n\"+\n",
       "     \"from bokeh.resources import INLINE\\n\"+\n",
       "     \"output_notebook(resources=INLINE)\\n\"+\n",
       "     \"</code>\\n\"+\n",
       "     \"</div>\"}};\n",
       "\n",
       "  function display_loaded() {\n",
       "    var el = document.getElementById(\"3364ec44-820e-4c56-bebc-cbc08a25886f\");\n",
       "    if (el != null) {\n",
       "      el.textContent = \"BokehJS is loading...\";\n",
       "    }\n",
       "    if (root.Bokeh !== undefined) {\n",
       "      if (el != null) {\n",
       "        el.textContent = \"BokehJS \" + root.Bokeh.version + \" successfully loaded.\";\n",
       "      }\n",
       "    } else if (Date.now() < root._bokeh_timeout) {\n",
       "      setTimeout(display_loaded, 100)\n",
       "    }\n",
       "  }\n",
       "\n",
       "\n",
       "  function run_callbacks() {\n",
       "    try {\n",
       "      root._bokeh_onload_callbacks.forEach(function(callback) { callback() });\n",
       "    }\n",
       "    finally {\n",
       "      delete root._bokeh_onload_callbacks\n",
       "    }\n",
       "    console.info(\"Bokeh: all callbacks have finished\");\n",
       "  }\n",
       "\n",
       "  function load_libs(js_urls, callback) {\n",
       "    root._bokeh_onload_callbacks.push(callback);\n",
       "    if (root._bokeh_is_loading > 0) {\n",
       "      console.log(\"Bokeh: BokehJS is being loaded, scheduling callback at\", now());\n",
       "      return null;\n",
       "    }\n",
       "    if (js_urls == null || js_urls.length === 0) {\n",
       "      run_callbacks();\n",
       "      return null;\n",
       "    }\n",
       "    console.log(\"Bokeh: BokehJS not loaded, scheduling load and callback at\", now());\n",
       "    root._bokeh_is_loading = js_urls.length;\n",
       "    for (var i = 0; i < js_urls.length; i++) {\n",
       "      var url = js_urls[i];\n",
       "      var s = document.createElement('script');\n",
       "      s.src = url;\n",
       "      s.async = false;\n",
       "      s.onreadystatechange = s.onload = function() {\n",
       "        root._bokeh_is_loading--;\n",
       "        if (root._bokeh_is_loading === 0) {\n",
       "          console.log(\"Bokeh: all BokehJS libraries loaded\");\n",
       "          run_callbacks()\n",
       "        }\n",
       "      };\n",
       "      s.onerror = function() {\n",
       "        console.warn(\"failed to load library \" + url);\n",
       "      };\n",
       "      console.log(\"Bokeh: injecting script tag for BokehJS library: \", url);\n",
       "      document.getElementsByTagName(\"head\")[0].appendChild(s);\n",
       "    }\n",
       "  };var element = document.getElementById(\"3364ec44-820e-4c56-bebc-cbc08a25886f\");\n",
       "  if (element == null) {\n",
       "    console.log(\"Bokeh: ERROR: autoload.js configured with elementid '3364ec44-820e-4c56-bebc-cbc08a25886f' but no matching script tag was found. \")\n",
       "    return false;\n",
       "  }\n",
       "\n",
       "  var js_urls = [\"https://cdn.pydata.org/bokeh/release/bokeh-0.13.0.min.js\", \"https://cdn.pydata.org/bokeh/release/bokeh-widgets-0.13.0.min.js\", \"https://cdn.pydata.org/bokeh/release/bokeh-tables-0.13.0.min.js\", \"https://cdn.pydata.org/bokeh/release/bokeh-gl-0.13.0.min.js\"];\n",
       "\n",
       "  var inline_js = [\n",
       "    function(Bokeh) {\n",
       "      Bokeh.set_log_level(\"info\");\n",
       "    },\n",
       "    \n",
       "    function(Bokeh) {\n",
       "      \n",
       "    },\n",
       "    function(Bokeh) {\n",
       "      console.log(\"Bokeh: injecting CSS: https://cdn.pydata.org/bokeh/release/bokeh-0.13.0.min.css\");\n",
       "      Bokeh.embed.inject_css(\"https://cdn.pydata.org/bokeh/release/bokeh-0.13.0.min.css\");\n",
       "      console.log(\"Bokeh: injecting CSS: https://cdn.pydata.org/bokeh/release/bokeh-widgets-0.13.0.min.css\");\n",
       "      Bokeh.embed.inject_css(\"https://cdn.pydata.org/bokeh/release/bokeh-widgets-0.13.0.min.css\");\n",
       "      console.log(\"Bokeh: injecting CSS: https://cdn.pydata.org/bokeh/release/bokeh-tables-0.13.0.min.css\");\n",
       "      Bokeh.embed.inject_css(\"https://cdn.pydata.org/bokeh/release/bokeh-tables-0.13.0.min.css\");\n",
       "    }\n",
       "  ];\n",
       "\n",
       "  function run_inline_js() {\n",
       "    \n",
       "    if ((root.Bokeh !== undefined) || (force === true)) {\n",
       "      for (var i = 0; i < inline_js.length; i++) {\n",
       "        inline_js[i].call(root, root.Bokeh);\n",
       "      }if (force === true) {\n",
       "        display_loaded();\n",
       "      }} else if (Date.now() < root._bokeh_timeout) {\n",
       "      setTimeout(run_inline_js, 100);\n",
       "    } else if (!root._bokeh_failed_load) {\n",
       "      console.log(\"Bokeh: BokehJS failed to load within specified timeout.\");\n",
       "      root._bokeh_failed_load = true;\n",
       "    } else if (force !== true) {\n",
       "      var cell = $(document.getElementById(\"3364ec44-820e-4c56-bebc-cbc08a25886f\")).parents('.cell').data().cell;\n",
       "      cell.output_area.append_execute_result(NB_LOAD_WARNING)\n",
       "    }\n",
       "\n",
       "  }\n",
       "\n",
       "  if (root._bokeh_is_loading === 0) {\n",
       "    console.log(\"Bokeh: BokehJS loaded, going straight to plotting\");\n",
       "    run_inline_js();\n",
       "  } else {\n",
       "    load_libs(js_urls, function() {\n",
       "      console.log(\"Bokeh: BokehJS plotting callback run at\", now());\n",
       "      run_inline_js();\n",
       "    });\n",
       "  }\n",
       "}(window));"
      ],
      "application/vnd.bokehjs_load.v0+json": "\n(function(root) {\n  function now() {\n    return new Date();\n  }\n\n  var force = true;\n\n  if (typeof (root._bokeh_onload_callbacks) === \"undefined\" || force === true) {\n    root._bokeh_onload_callbacks = [];\n    root._bokeh_is_loading = undefined;\n  }\n\n  \n\n  \n  if (typeof (root._bokeh_timeout) === \"undefined\" || force === true) {\n    root._bokeh_timeout = Date.now() + 5000;\n    root._bokeh_failed_load = false;\n  }\n\n  var NB_LOAD_WARNING = {'data': {'text/html':\n     \"<div style='background-color: #fdd'>\\n\"+\n     \"<p>\\n\"+\n     \"BokehJS does not appear to have successfully loaded. If loading BokehJS from CDN, this \\n\"+\n     \"may be due to a slow or bad network connection. Possible fixes:\\n\"+\n     \"</p>\\n\"+\n     \"<ul>\\n\"+\n     \"<li>re-rerun `output_notebook()` to attempt to load from CDN again, or</li>\\n\"+\n     \"<li>use INLINE resources instead, as so:</li>\\n\"+\n     \"</ul>\\n\"+\n     \"<code>\\n\"+\n     \"from bokeh.resources import INLINE\\n\"+\n     \"output_notebook(resources=INLINE)\\n\"+\n     \"</code>\\n\"+\n     \"</div>\"}};\n\n  function display_loaded() {\n    var el = document.getElementById(\"3364ec44-820e-4c56-bebc-cbc08a25886f\");\n    if (el != null) {\n      el.textContent = \"BokehJS is loading...\";\n    }\n    if (root.Bokeh !== undefined) {\n      if (el != null) {\n        el.textContent = \"BokehJS \" + root.Bokeh.version + \" successfully loaded.\";\n      }\n    } else if (Date.now() < root._bokeh_timeout) {\n      setTimeout(display_loaded, 100)\n    }\n  }\n\n\n  function run_callbacks() {\n    try {\n      root._bokeh_onload_callbacks.forEach(function(callback) { callback() });\n    }\n    finally {\n      delete root._bokeh_onload_callbacks\n    }\n    console.info(\"Bokeh: all callbacks have finished\");\n  }\n\n  function load_libs(js_urls, callback) {\n    root._bokeh_onload_callbacks.push(callback);\n    if (root._bokeh_is_loading > 0) {\n      console.log(\"Bokeh: BokehJS is being loaded, scheduling callback at\", now());\n      return null;\n    }\n    if (js_urls == null || js_urls.length === 0) {\n      run_callbacks();\n      return null;\n    }\n    console.log(\"Bokeh: BokehJS not loaded, scheduling load and callback at\", now());\n    root._bokeh_is_loading = js_urls.length;\n    for (var i = 0; i < js_urls.length; i++) {\n      var url = js_urls[i];\n      var s = document.createElement('script');\n      s.src = url;\n      s.async = false;\n      s.onreadystatechange = s.onload = function() {\n        root._bokeh_is_loading--;\n        if (root._bokeh_is_loading === 0) {\n          console.log(\"Bokeh: all BokehJS libraries loaded\");\n          run_callbacks()\n        }\n      };\n      s.onerror = function() {\n        console.warn(\"failed to load library \" + url);\n      };\n      console.log(\"Bokeh: injecting script tag for BokehJS library: \", url);\n      document.getElementsByTagName(\"head\")[0].appendChild(s);\n    }\n  };var element = document.getElementById(\"3364ec44-820e-4c56-bebc-cbc08a25886f\");\n  if (element == null) {\n    console.log(\"Bokeh: ERROR: autoload.js configured with elementid '3364ec44-820e-4c56-bebc-cbc08a25886f' but no matching script tag was found. \")\n    return false;\n  }\n\n  var js_urls = [\"https://cdn.pydata.org/bokeh/release/bokeh-0.13.0.min.js\", \"https://cdn.pydata.org/bokeh/release/bokeh-widgets-0.13.0.min.js\", \"https://cdn.pydata.org/bokeh/release/bokeh-tables-0.13.0.min.js\", \"https://cdn.pydata.org/bokeh/release/bokeh-gl-0.13.0.min.js\"];\n\n  var inline_js = [\n    function(Bokeh) {\n      Bokeh.set_log_level(\"info\");\n    },\n    \n    function(Bokeh) {\n      \n    },\n    function(Bokeh) {\n      console.log(\"Bokeh: injecting CSS: https://cdn.pydata.org/bokeh/release/bokeh-0.13.0.min.css\");\n      Bokeh.embed.inject_css(\"https://cdn.pydata.org/bokeh/release/bokeh-0.13.0.min.css\");\n      console.log(\"Bokeh: injecting CSS: https://cdn.pydata.org/bokeh/release/bokeh-widgets-0.13.0.min.css\");\n      Bokeh.embed.inject_css(\"https://cdn.pydata.org/bokeh/release/bokeh-widgets-0.13.0.min.css\");\n      console.log(\"Bokeh: injecting CSS: https://cdn.pydata.org/bokeh/release/bokeh-tables-0.13.0.min.css\");\n      Bokeh.embed.inject_css(\"https://cdn.pydata.org/bokeh/release/bokeh-tables-0.13.0.min.css\");\n    }\n  ];\n\n  function run_inline_js() {\n    \n    if ((root.Bokeh !== undefined) || (force === true)) {\n      for (var i = 0; i < inline_js.length; i++) {\n        inline_js[i].call(root, root.Bokeh);\n      }if (force === true) {\n        display_loaded();\n      }} else if (Date.now() < root._bokeh_timeout) {\n      setTimeout(run_inline_js, 100);\n    } else if (!root._bokeh_failed_load) {\n      console.log(\"Bokeh: BokehJS failed to load within specified timeout.\");\n      root._bokeh_failed_load = true;\n    } else if (force !== true) {\n      var cell = $(document.getElementById(\"3364ec44-820e-4c56-bebc-cbc08a25886f\")).parents('.cell').data().cell;\n      cell.output_area.append_execute_result(NB_LOAD_WARNING)\n    }\n\n  }\n\n  if (root._bokeh_is_loading === 0) {\n    console.log(\"Bokeh: BokehJS loaded, going straight to plotting\");\n    run_inline_js();\n  } else {\n    load_libs(js_urls, function() {\n      console.log(\"Bokeh: BokehJS plotting callback run at\", now());\n      run_inline_js();\n    });\n  }\n}(window));"
     },
     "metadata": {},
     "output_type": "display_data"
    }
   ],
   "source": [
    "from bokeh.io import output_notebook, show\n",
    "from bokeh.plotting import figure\n",
    "output_notebook()"
   ]
  },
  {
   "cell_type": "code",
   "execution_count": 13,
   "metadata": {},
   "outputs": [
    {
     "data": {
      "text/html": [
       "\n",
       "\n",
       "\n",
       "\n",
       "\n",
       "\n",
       "  <div class=\"bk-root\" id=\"5e43ab50-3d39-47b6-b37d-5173a3c0f45c\"></div>\n"
      ]
     },
     "metadata": {},
     "output_type": "display_data"
    },
    {
     "data": {
      "application/javascript": [
       "(function(root) {\n",
       "  function embed_document(root) {\n",
       "    \n",
       "  var docs_json = {\"68c90b58-cb77-45be-8d94-5cb0f22f70b2\":{\"roots\":{\"references\":[{\"attributes\":{\"dimension\":1,\"plot\":{\"id\":\"8fe52da5-b5c4-49ad-81b2-6842687190dc\",\"subtype\":\"Figure\",\"type\":\"Plot\"},\"ticker\":{\"id\":\"3a7373b6-e7e4-43bf-be9f-cb88083759de\",\"type\":\"BasicTicker\"}},\"id\":\"d5559006-77c1-4a5a-a4d7-a10468ce9943\",\"type\":\"Grid\"},{\"attributes\":{\"source\":{\"id\":\"637f9743-4b7c-41aa-956e-48953c9db92f\",\"type\":\"ColumnDataSource\"}},\"id\":\"7619c732-795f-455a-9af5-1e6b13061599\",\"type\":\"CDSView\"},{\"attributes\":{\"formatter\":{\"id\":\"4dd1b1ea-7f58-4a84-aab3-ac3b40699e2b\",\"type\":\"BasicTickFormatter\"},\"plot\":{\"id\":\"8fe52da5-b5c4-49ad-81b2-6842687190dc\",\"subtype\":\"Figure\",\"type\":\"Plot\"},\"ticker\":{\"id\":\"3a7373b6-e7e4-43bf-be9f-cb88083759de\",\"type\":\"BasicTicker\"}},\"id\":\"1393f757-ec0c-4f1b-ba07-3fb6ab3310f3\",\"type\":\"LinearAxis\"},{\"attributes\":{},\"id\":\"86510f37-70db-4fd8-a074-6ae6d90261d3\",\"type\":\"LinearScale\"},{\"attributes\":{},\"id\":\"b9421c4d-64e4-4a85-8521-49c9d196c31c\",\"type\":\"WheelZoomTool\"},{\"attributes\":{\"formatter\":{\"id\":\"e9370cf7-da63-467b-b8cb-20894af2238a\",\"type\":\"BasicTickFormatter\"},\"plot\":{\"id\":\"8fe52da5-b5c4-49ad-81b2-6842687190dc\",\"subtype\":\"Figure\",\"type\":\"Plot\"},\"ticker\":{\"id\":\"060c35e6-1b89-4d33-a1c2-f68f0c7be5f2\",\"type\":\"BasicTicker\"}},\"id\":\"aabd29f4-7fb5-4456-9e8c-daaf3842162e\",\"type\":\"LinearAxis\"},{\"attributes\":{\"plot\":null,\"text\":\"\"},\"id\":\"7ef0c0f3-4cd9-411b-8960-dc4714106e3c\",\"type\":\"Title\"},{\"attributes\":{},\"id\":\"060c35e6-1b89-4d33-a1c2-f68f0c7be5f2\",\"type\":\"BasicTicker\"},{\"attributes\":{},\"id\":\"e9370cf7-da63-467b-b8cb-20894af2238a\",\"type\":\"BasicTickFormatter\"},{\"attributes\":{},\"id\":\"7d6b4131-9932-4301-989e-89f6d94a8f96\",\"type\":\"PanTool\"},{\"attributes\":{},\"id\":\"17b5d897-d67c-4ffe-a3d5-6f144d0cdbf8\",\"type\":\"LinearScale\"},{\"attributes\":{},\"id\":\"3a7373b6-e7e4-43bf-be9f-cb88083759de\",\"type\":\"BasicTicker\"},{\"attributes\":{},\"id\":\"4dd1b1ea-7f58-4a84-aab3-ac3b40699e2b\",\"type\":\"BasicTickFormatter\"},{\"attributes\":{\"callback\":null},\"id\":\"f1060da6-ed2f-46ba-b03f-1c965aa02f4e\",\"type\":\"DataRange1d\"},{\"attributes\":{\"overlay\":{\"id\":\"8283e5d9-905d-4226-acd4-69a5cae6a5d2\",\"type\":\"BoxAnnotation\"}},\"id\":\"b2a30144-bb01-426a-b2af-50998213eb83\",\"type\":\"BoxZoomTool\"},{\"attributes\":{},\"id\":\"339497f0-a8c1-4e29-8418-98189a52582e\",\"type\":\"UnionRenderers\"},{\"attributes\":{\"callback\":null},\"id\":\"2e969b07-70d8-43a3-a099-d953d092c363\",\"type\":\"DataRange1d\"},{\"attributes\":{},\"id\":\"e201f9a7-e0cb-43d8-8115-f2d0ddea3f89\",\"type\":\"ResetTool\"},{\"attributes\":{},\"id\":\"7cf693ec-5b79-4875-ab11-d49e2cda8bb2\",\"type\":\"HelpTool\"},{\"attributes\":{\"bottom_units\":\"screen\",\"fill_alpha\":{\"value\":0.5},\"fill_color\":{\"value\":\"lightgrey\"},\"left_units\":\"screen\",\"level\":\"overlay\",\"line_alpha\":{\"value\":1.0},\"line_color\":{\"value\":\"black\"},\"line_dash\":[4,4],\"line_width\":{\"value\":2},\"plot\":null,\"render_mode\":\"css\",\"right_units\":\"screen\",\"top_units\":\"screen\"},\"id\":\"8283e5d9-905d-4226-acd4-69a5cae6a5d2\",\"type\":\"BoxAnnotation\"},{\"attributes\":{\"active_drag\":\"auto\",\"active_inspect\":\"auto\",\"active_multi\":null,\"active_scroll\":\"auto\",\"active_tap\":\"auto\",\"tools\":[{\"id\":\"7d6b4131-9932-4301-989e-89f6d94a8f96\",\"type\":\"PanTool\"},{\"id\":\"b9421c4d-64e4-4a85-8521-49c9d196c31c\",\"type\":\"WheelZoomTool\"},{\"id\":\"b2a30144-bb01-426a-b2af-50998213eb83\",\"type\":\"BoxZoomTool\"},{\"id\":\"15185279-84c3-4e3a-b795-027a5f60ee71\",\"type\":\"SaveTool\"},{\"id\":\"e201f9a7-e0cb-43d8-8115-f2d0ddea3f89\",\"type\":\"ResetTool\"},{\"id\":\"7cf693ec-5b79-4875-ab11-d49e2cda8bb2\",\"type\":\"HelpTool\"}]},\"id\":\"f3429057-017f-4b21-b209-2484ad208bf8\",\"type\":\"Toolbar\"},{\"attributes\":{\"below\":[{\"id\":\"aabd29f4-7fb5-4456-9e8c-daaf3842162e\",\"type\":\"LinearAxis\"}],\"left\":[{\"id\":\"1393f757-ec0c-4f1b-ba07-3fb6ab3310f3\",\"type\":\"LinearAxis\"}],\"plot_height\":400,\"plot_width\":400,\"renderers\":[{\"id\":\"aabd29f4-7fb5-4456-9e8c-daaf3842162e\",\"type\":\"LinearAxis\"},{\"id\":\"3a957037-0864-4367-baa3-a07ff78932c4\",\"type\":\"Grid\"},{\"id\":\"1393f757-ec0c-4f1b-ba07-3fb6ab3310f3\",\"type\":\"LinearAxis\"},{\"id\":\"d5559006-77c1-4a5a-a4d7-a10468ce9943\",\"type\":\"Grid\"},{\"id\":\"8283e5d9-905d-4226-acd4-69a5cae6a5d2\",\"type\":\"BoxAnnotation\"},{\"id\":\"8945403a-dc23-42f0-934e-db942dda67b8\",\"type\":\"GlyphRenderer\"}],\"title\":{\"id\":\"7ef0c0f3-4cd9-411b-8960-dc4714106e3c\",\"type\":\"Title\"},\"toolbar\":{\"id\":\"f3429057-017f-4b21-b209-2484ad208bf8\",\"type\":\"Toolbar\"},\"x_range\":{\"id\":\"2e969b07-70d8-43a3-a099-d953d092c363\",\"type\":\"DataRange1d\"},\"x_scale\":{\"id\":\"17b5d897-d67c-4ffe-a3d5-6f144d0cdbf8\",\"type\":\"LinearScale\"},\"y_range\":{\"id\":\"f1060da6-ed2f-46ba-b03f-1c965aa02f4e\",\"type\":\"DataRange1d\"},\"y_scale\":{\"id\":\"86510f37-70db-4fd8-a074-6ae6d90261d3\",\"type\":\"LinearScale\"}},\"id\":\"8fe52da5-b5c4-49ad-81b2-6842687190dc\",\"subtype\":\"Figure\",\"type\":\"Plot\"},{\"attributes\":{},\"id\":\"ec04086f-1f04-448e-a6d3-f8b857048a30\",\"type\":\"Selection\"},{\"attributes\":{\"fill_alpha\":{\"value\":0.5},\"fill_color\":{\"value\":\"orange\"},\"line_color\":{\"value\":\"navy\"},\"size\":{\"units\":\"screen\",\"value\":15},\"x\":{\"field\":\"x\"},\"y\":{\"field\":\"y\"}},\"id\":\"0751957e-ef73-4f61-9be1-05787b23d3ad\",\"type\":\"Circle\"},{\"attributes\":{},\"id\":\"15185279-84c3-4e3a-b795-027a5f60ee71\",\"type\":\"SaveTool\"},{\"attributes\":{\"data_source\":{\"id\":\"637f9743-4b7c-41aa-956e-48953c9db92f\",\"type\":\"ColumnDataSource\"},\"glyph\":{\"id\":\"0751957e-ef73-4f61-9be1-05787b23d3ad\",\"type\":\"Circle\"},\"hover_glyph\":null,\"muted_glyph\":null,\"nonselection_glyph\":{\"id\":\"8af5c23b-e05b-4db9-a0a9-3c6efd5ad3f3\",\"type\":\"Circle\"},\"selection_glyph\":null,\"view\":{\"id\":\"7619c732-795f-455a-9af5-1e6b13061599\",\"type\":\"CDSView\"}},\"id\":\"8945403a-dc23-42f0-934e-db942dda67b8\",\"type\":\"GlyphRenderer\"},{\"attributes\":{\"plot\":{\"id\":\"8fe52da5-b5c4-49ad-81b2-6842687190dc\",\"subtype\":\"Figure\",\"type\":\"Plot\"},\"ticker\":{\"id\":\"060c35e6-1b89-4d33-a1c2-f68f0c7be5f2\",\"type\":\"BasicTicker\"}},\"id\":\"3a957037-0864-4367-baa3-a07ff78932c4\",\"type\":\"Grid\"},{\"attributes\":{\"fill_alpha\":{\"value\":0.1},\"fill_color\":{\"value\":\"#1f77b4\"},\"line_alpha\":{\"value\":0.1},\"line_color\":{\"value\":\"#1f77b4\"},\"size\":{\"units\":\"screen\",\"value\":15},\"x\":{\"field\":\"x\"},\"y\":{\"field\":\"y\"}},\"id\":\"8af5c23b-e05b-4db9-a0a9-3c6efd5ad3f3\",\"type\":\"Circle\"},{\"attributes\":{\"callback\":null,\"data\":{\"x\":[1,2,3,4,5],\"y\":[6,7,2,4,5]},\"selected\":{\"id\":\"ec04086f-1f04-448e-a6d3-f8b857048a30\",\"type\":\"Selection\"},\"selection_policy\":{\"id\":\"339497f0-a8c1-4e29-8418-98189a52582e\",\"type\":\"UnionRenderers\"}},\"id\":\"637f9743-4b7c-41aa-956e-48953c9db92f\",\"type\":\"ColumnDataSource\"}],\"root_ids\":[\"8fe52da5-b5c4-49ad-81b2-6842687190dc\"]},\"title\":\"Bokeh Application\",\"version\":\"0.13.0\"}};\n",
       "  var render_items = [{\"docid\":\"68c90b58-cb77-45be-8d94-5cb0f22f70b2\",\"roots\":{\"8fe52da5-b5c4-49ad-81b2-6842687190dc\":\"5e43ab50-3d39-47b6-b37d-5173a3c0f45c\"}}];\n",
       "  root.Bokeh.embed.embed_items_notebook(docs_json, render_items);\n",
       "\n",
       "  }\n",
       "  if (root.Bokeh !== undefined) {\n",
       "    embed_document(root);\n",
       "  } else {\n",
       "    var attempts = 0;\n",
       "    var timer = setInterval(function(root) {\n",
       "      if (root.Bokeh !== undefined) {\n",
       "        embed_document(root);\n",
       "        clearInterval(timer);\n",
       "      }\n",
       "      attempts++;\n",
       "      if (attempts > 100) {\n",
       "        console.log(\"Bokeh: ERROR: Unable to run BokehJS code because BokehJS library is missing\")\n",
       "        clearInterval(timer);\n",
       "      }\n",
       "    }, 10, root)\n",
       "  }\n",
       "})(window);"
      ],
      "application/vnd.bokehjs_exec.v0+json": ""
     },
     "metadata": {
      "application/vnd.bokehjs_exec.v0+json": {
       "id": "8fe52da5-b5c4-49ad-81b2-6842687190dc"
      }
     },
     "output_type": "display_data"
    }
   ],
   "source": [
    "# create a new plot with default tools, using figure\n",
    "p = figure(plot_width=400, plot_height=400)\n",
    "\n",
    "# add a circle renderer with x and y coordinates, size, color, and alpha\n",
    "p.circle([1, 2, 3, 4, 5], [6, 7, 2, 4, 5], size=15, line_color=\"navy\", fill_color=\"orange\", fill_alpha=0.5)\n",
    "\n",
    "show(p) # show the results"
   ]
  },
  {
   "cell_type": "code",
   "execution_count": 204,
   "metadata": {},
   "outputs": [],
   "source": [
    "LAMBDIFY_MODULES=[\"numpy\",\n",
    "                  {\"besselj\":sympy.besselj,\n",
    "                   \"bessely\":sympy.bessely,\n",
    "                   \"besseli\":sympy.besseli,\n",
    "                   \"besselk\":sympy.besselk,\n",
    "                   \"hankel1\":sympy.hankel1,\n",
    "                   \"hankel2\":sympy.hankel2}]\n",
    "class FunctionalModel(object):\n",
    "    \"\"\"FittingModel is a class that holds a fitting function, it uses sympy to provide\n",
    "     symbolic manipulation of the function and formatted output. If called it acts like a\n",
    "     traditional python function. Initialize the class with parameters, variables and an equation.\n",
    "     Ex. line=FunctionalModel(variables='x', parameters='m b', equation='m*x+b'), to call as a function\n",
    "     the parameters must be set. line(m=2,b=1,x=1)\n",
    "     or\n",
    "     line.set_parameters(m=1,b=2)\n",
    "     line(1)\"\"\"\n",
    "    def __init__(self,**options):\n",
    "        defaults= {\"parameters\":None,\n",
    "                   \"variables\":None,\n",
    "                   \"equation\":None,\n",
    "                   \"parameter_values\":{},\n",
    "                   \"special_function\":False}\n",
    "        self.options={}\n",
    "        for key,value in defaults.items():\n",
    "            self.options[key]=value\n",
    "        for key,value in options.items():\n",
    "            self.options[key]=value\n",
    "        # fix any lists\n",
    "        for item in [\"parameters\",\"variables\"]:\n",
    "            if isinstance(self.options[item], StringType):\n",
    "                self.options[item]=re.split(\"\\s+\",self.options[item])\n",
    "            self.__dict__[item]=self.options[item]\n",
    "            # ------------ This was not needed for multisine fit removed 11/27/2018\n",
    "            # self.__dict__[item+\"_symbols\"]=sympy.symbols(self.options[item])\n",
    "            # this creates the python variables in the global namespace, may back fire with lots of variables\n",
    "            # for index,symbol in enumerate(self.__dict__[item+\"_symbols\"][:]):\n",
    "            #     globals()[item[index]]=symbol\n",
    "            # -----------------\n",
    "            self.options[item]=None\n",
    "        self.special_function=self.options[\"special_function\"]\n",
    "        self.equation=sympy.sympify(self.options[\"equation\"])\n",
    "        special_function_keys=list(LAMBDIFY_MODULES[1].keys())\n",
    "        for key in special_function_keys:\n",
    "            if re.search(key,str(self.options[\"equation\"])):\n",
    "                self.special_function=True\n",
    "        if self.special_function:\n",
    "            self.function=sympy.lambdify(self.parameters+self.variables,self.equation,modules=LAMBDIFY_MODULES)\n",
    "        else:\n",
    "            self.function=sympy.lambdify(self.parameters+self.variables,self.equation,\"numpy\")\n",
    "        self.parameter_values=self.options[\"parameter_values\"]\n",
    "        self.options[\"parameter_values\"]={}\n",
    "\n",
    "    def __call__(self,*args,**keywordargs):\n",
    "        \"\"\"Controls the behavior when called as a function\"\"\"\n",
    "        return self.function(*args,**keywordargs)\n",
    "\n",
    "    def set_parameters(self,parameter_dictionary=None,**parameter_dictionary_keyword):\n",
    "        \"\"\"Sets the parameters to values in dictionary\"\"\"\n",
    "        if parameter_dictionary is None:\n",
    "            try:\n",
    "                parameter_dictionary=parameter_dictionary_keyword\n",
    "            except:\n",
    "                pass\n",
    "        self.parameter_values=parameter_dictionary\n",
    "        if self.special_function:\n",
    "            self.function=np.vectorize(lambda x:sympy.N(sympy.lambdify(self.variables,\n",
    "                                                                       self.equation.subs(self.parameter_values),\n",
    "                                                                       modules=LAMBDIFY_MODULES)(x)))\n",
    "        else:\n",
    "            self.function=sympy.lambdify(self.variables,self.equation.subs(self.parameter_values),modules=LAMBDIFY_MODULES)\n",
    "\n",
    "\n",
    "    def clear_parameters(self):\n",
    "        \"\"\"Clears the parmeters specified by set_parameters\"\"\"\n",
    "        self.function=sympy.lambdify(self.parameters+self.variables,self.equation,modules=LAMBDIFY_MODULES)\n",
    "        self.parameter_values={}\n",
    "\n",
    "    def fit_data(self,x_data,y_data,**options):\n",
    "        \"\"\"Uses the equation to fit the data, after fitting the data sets the parameters.\n",
    "        \"\"\"\n",
    "        defaults= {\"initial_guess\":{parameter:0.0 for parameter in self.parameters},\"fixed_parameters\":None}\n",
    "        self.fit_options={}\n",
    "        for key,value in defaults.items():\n",
    "            self.fit_options[key]=value\n",
    "        for key,value in options.items():\n",
    "            self.fit_options[key]=value\n",
    "\n",
    "        def fit_f(a,x):\n",
    "            self.clear_parameters()\n",
    "            input_list=[]\n",
    "            for parameter in a:\n",
    "                input_list.append(parameter)\n",
    "            if self.special_function:\n",
    "                if isinstance(x,list):\n",
    "                    out=np.array(list(map(lambda y:sympy.N(self.function(*(input_list+[y]))),x)),dtype=np.float64)\n",
    "                    return out\n",
    "                elif isinstance(x,np.ndarray):\n",
    "                    out=np.array(list(map(lambda y:sympy.N(self.function(*(input_list+[y]))),x.tolist())),dtype=np.float64)\n",
    "                    return out\n",
    "                else:\n",
    "                    out=sympy.N(self.function(*input_list))\n",
    "                    return out\n",
    "            else:\n",
    "                input_list.append(x)\n",
    "                return self.function(*input_list)\n",
    "        # this needs to be reflected in fit_parameters\n",
    "        a0=[]\n",
    "        for key in self.parameters[:]:\n",
    "            a0.append(self.fit_options[\"initial_guess\"][key])\n",
    "        a0=np.array(a0)\n",
    "        result=least_squares_fit(fit_f,x_data,y_data,a0)\n",
    "        fit_parameters=result.tolist()\n",
    "        fit_parameter_dictionary={parameter:fit_parameters[index] for index,parameter in enumerate(self.parameters)}\n",
    "        self.set_parameters(fit_parameter_dictionary)\n",
    "\n",
    "    def __div__(self, other):\n",
    "        return self.__truediv__(other)\n",
    "\n",
    "    def __add__(self,other):\n",
    "        \"\"\"Defines addition for the class, if it is another functional model add the models else just change the\n",
    "        equation\"\"\"\n",
    "        if isinstance(other,FunctionalModel):\n",
    "            parameters=list(set(self.parameters+other.parameters))\n",
    "            variables=list(set(self.variables+other.variables))\n",
    "            #print(\"{0} is {1}\".format(\"parameters\",parameters))\n",
    "            #print(\"{0} is {1}\".format(\"variables\",variables))\n",
    "            equation=self.equation+other.equation\n",
    "            #print(\"{0} is {1}\".format(\"equation\",equation))\n",
    "        else:\n",
    "            parameters=self.parameters\n",
    "            variables=self.variables\n",
    "            equation=self.equation+other\n",
    "        new_function=FunctionalModel(parameters=parameters,variables=variables,equation=equation)\n",
    "        return new_function\n",
    "    \n",
    "    def __sub__(self,other):\n",
    "        \"\"\"Defines subtraction for the class\"\"\"\n",
    "        if isinstance(other,FunctionalModel):\n",
    "            parameters=list(set(self.parameters+other.parameters))\n",
    "            variables=list(set(self.variables+other.variables))\n",
    "            #print(\"{0} is {1}\".format(\"parameters\",parameters))\n",
    "            #print(\"{0} is {1}\".format(\"variables\",variables))\n",
    "            equation=self.equation-other.equation\n",
    "            #print(\"{0} is {1}\".format(\"equation\",equation))\n",
    "        else:\n",
    "            parameters=self.parameters\n",
    "            variables=self.variables\n",
    "            equation=self.equation-other\n",
    "        new_function=FunctionalModel(parameters=parameters,variables=variables,equation=equation)\n",
    "        return new_function\n",
    "    \n",
    "    def __mul__(self,other):\n",
    "        \"\"\"Defines multiplication for the class\"\"\"\n",
    "        if isinstance(other,FunctionalModel):\n",
    "            parameters=list(set(self.parameters+other.parameters))\n",
    "            variables=list(set(self.variables+other.variables))\n",
    "            #print(\"{0} is {1}\".format(\"parameters\",parameters))\n",
    "            #print(\"{0} is {1}\".format(\"variables\",variables))\n",
    "            equation=self.equation*other.equation\n",
    "            #print(\"{0} is {1}\".format(\"equation\",equation))\n",
    "        else:\n",
    "            parameters=self.parameters\n",
    "            variables=self.variables\n",
    "            equation=self.equation*other\n",
    "        new_function=FunctionalModel(parameters=parameters,variables=variables,equation=equation)\n",
    "        return new_function\n",
    "\n",
    "    def __pow__(self,other):\n",
    "        \"\"\"Defines power for the class\"\"\"\n",
    "        if isinstance(other,FunctionalModel):\n",
    "            parameters=list(set(self.parameters+other.parameters))\n",
    "            variables=list(set(self.variables+other.variables))\n",
    "            #print(\"{0} is {1}\".format(\"parameters\",parameters))\n",
    "            #print(\"{0} is {1}\".format(\"variables\",variables))\n",
    "            equation=self.equation**other.equation\n",
    "            #print(\"{0} is {1}\".format(\"equation\",equation))\n",
    "        else:\n",
    "            parameters=self.parameters\n",
    "            variables=self.variables\n",
    "            equation=self.equation**other\n",
    "        new_function=FunctionalModel(parameters=parameters,variables=variables,equation=equation)\n",
    "        return new_function\n",
    "\n",
    "    def __truediv__(self,other):\n",
    "        \"\"\"Defines division for the class\"\"\"\n",
    "        if isinstance(other,FunctionalModel):\n",
    "            parameters=list(set(self.parameters+other.parameters))\n",
    "            variables=list(set(self.variables+other.variables))\n",
    "            #print(\"{0} is {1}\".format(\"parameters\",parameters))\n",
    "            #print(\"{0} is {1}\".format(\"variables\",variables))\n",
    "            equation=self.equation/other.equation\n",
    "            #print(\"{0} is {1}\".format(\"equation\",equation))\n",
    "        else:\n",
    "            parameters=self.parameters\n",
    "            variables=self.variables\n",
    "            equation=self.equation/other\n",
    "        new_function=FunctionalModel(parameters=parameters,variables=variables,equation=equation)\n",
    "        return new_function\n",
    "\n",
    "    def __str__(self):\n",
    "        \"\"\"Controls the string behavior of the function\"\"\"\n",
    "        return str(self.equation.subs(self.parameter_values))\n",
    "\n",
    "    def compose(self,other):\n",
    "        \"\"\"Returns self.equation.sub(variable=other)\"\"\"\n",
    "        if len(self.variables)==1:\n",
    "            variables=other.variables\n",
    "            parameters=list(set(self.parameters+other.parameters))\n",
    "            equation=self.equation.subs({self.variables[0]:other})\n",
    "            new_function=FunctionalModel(parameters=parameters,variables=variables,equation=equation)\n",
    "            return new_function\n",
    "        else:\n",
    "            return None\n",
    "\n",
    "    def to_latex(self):\n",
    "        \"\"\"Returns a Latex form of the equation using current parameters\"\"\"\n",
    "        return sympy.latex(self.equation.subs(self.parameter_values))\n",
    "\n",
    "    def plot_fit(self,x_data,y_data,**options):\n",
    "        \"\"\"Fit a data set and show the results\"\"\"\n",
    "        defaults={\"title\":True}\n",
    "        plot_options={}\n",
    "        for key,value in defaults.items():\n",
    "            plot_options[key]=value\n",
    "        for key,value in options.items():\n",
    "            plot_options[key]=value\n",
    "\n",
    "        self.fit_data(x_data,y_data,**plot_options)\n",
    "        figure=plt.figure(\"Fit\")\n",
    "        plt.plot(x_data,y_data,label=\"Raw Data\")\n",
    "        plt.plot(x_data,self.function(x_data),'ro',label=\"Fit\")\n",
    "        plt.legend(loc=0)\n",
    "        if plot_options[\"title\"]:\n",
    "            if plot_options[\"title\"] is True:\n",
    "                plt.title(str(self))\n",
    "            else:\n",
    "                plt.title(plot_options[\"title\"])\n",
    "        plt.show()\n",
    "        return figure\n",
    "\n",
    "    def d(self,respect_to=None,order=1):\n",
    "        \"\"\"Takes the derivative with respect to variable or parameter provided or defaults to first variable\"\"\"\n",
    "        if respect_to is None:\n",
    "            respect_to=self.variables[0]\n",
    "        equation=self.equation.copy()\n",
    "        for i in range(order):\n",
    "            equation=sympy.diff(equation,respect_to)\n",
    "        return FunctionalModel(parameters=self.parameters[:],variables=self.variables[:],equation=str(equation))\n",
    "\n",
    "    def integrate(self,respect_to=None,order=1):\n",
    "        \"\"\"Integrates with respect to variable or parameter provided or defaults to first variable.\n",
    "        Does not add a constant of integration.\"\"\"\n",
    "        if respect_to is None:\n",
    "            respect_to=self.variables_symbols[0]\n",
    "        equation=self.equation.copy()\n",
    "        for i in range(order):\n",
    "            equation=sympy.integrate(equation,respect_to)\n",
    "        return FunctionalModel(parameters=self.parameters[:],variables=self.variables[:],equation=str(equation))\n",
    "    # todo: This feature does not work because of the namspace of the parameters and variables\n",
    "    # I don't know what name sympify uses when it creates the equation\n",
    "    # def series(self,variable_or_parameter,value=0,order=6):\n",
    "    #     \"\"\"Calculates the symbolic series expansion of order around the variable or parameter value\n",
    "    #     of the functional model. Returns a new FunctionalModel\"\"\"\n",
    "    #     equation=sympy.series(self.equation,variable_or_parameter,value,order).removeO()\n",
    "    #     parameters=self.parameters[:]\n",
    "    #     variables=self.variables[:]\n",
    "    #     return FunctionalModel(equation=equation,variables=variables,parameters=parameters)\n",
    "\n",
    "    def limit(self,variable_or_parameter,point):\n",
    "        \"\"\"Finds the symbolic limit of the FunctionalModel for the variable or parameter approaching point\"\"\"\n",
    "        equation=sympy.limit(self.equation,variable_or_parameter,point)\n",
    "        parameters=self.parameters[:]\n",
    "        variables=self.variables[:]\n",
    "        return FunctionalModel(equation=equation,variables=variables,parameters=parameters)\n"
   ]
  },
  {
   "cell_type": "code",
   "execution_count": 72,
   "metadata": {},
   "outputs": [],
   "source": [
    "special_function_keys=list(LAMBDIFY_MODULES[1].keys())"
   ]
  },
  {
   "cell_type": "code",
   "execution_count": 66,
   "metadata": {},
   "outputs": [],
   "source": [
    "for key in special_function_keys:\n",
    "    if re.search(key,\"A*besselj(n,z)\"):\n",
    "        special_function=True"
   ]
  },
  {
   "cell_type": "code",
   "execution_count": 222,
   "metadata": {},
   "outputs": [],
   "source": [
    "bessel=FunctionalModel(parameters=[\"A\",\"n\"],variables=\"z\",equation=\"A*besselj(n,z)\")"
   ]
  },
  {
   "cell_type": "code",
   "execution_count": 114,
   "metadata": {},
   "outputs": [
    {
     "data": {
      "text/plain": [
       "0.880101171489867"
      ]
     },
     "execution_count": 114,
     "metadata": {},
     "output_type": "execute_result"
    }
   ],
   "source": [
    "bessel(2,1,1)"
   ]
  },
  {
   "cell_type": "code",
   "execution_count": 223,
   "metadata": {},
   "outputs": [],
   "source": [
    "bessel.set_parameters({\"n\":1,\"A\":2})"
   ]
  },
  {
   "cell_type": "code",
   "execution_count": 116,
   "metadata": {},
   "outputs": [
    {
     "data": {
      "text/plain": [
       "array([0.880101171489867, 0.662817693167691, -0.663745628059118,\n",
       "       0.0272952564539578, 0.469923693866683, -0.383208923815763,\n",
       "       -0.0879639416858098, 0.398154603159624, -0.245851632540458,\n",
       "       -0.152540481715247, 0.346645365486143, -0.148263818526916,\n",
       "       -0.194381806109065, 0.298976852569299, -0.0697591487837809,\n",
       "       -0.220445472282228, 0.250799041141886, -0.00392639690316690,\n",
       "       -0.233519567927099, 0.201199223067562, 0.0514304096848086,\n",
       "       -0.235214089838924, 0.150600217296297, 0.0969820981629758,\n",
       "       -0.226819588158779, 0.100029046656312, 0.132845607011805,\n",
       "       -0.209611443817063, 0.0507861905605412, 0.159007562406885,\n",
       "       -0.184960156439641, 0.00425973455025116, 0.175531877971165,\n",
       "       -0.154358038791826, -0.0381977896574680, 0.182665891889545,\n",
       "       -0.119404031841467, -0.0753596228327871, 0.180890705281699,\n",
       "       -0.0817655573408604, -0.106193435624015, 0.170936332261295,\n",
       "       -0.0431276649131196, -0.129912756197382, 0.153772267124385,\n",
       "       -0.00513605658415052, -0.146012720771886, 0.130579848867180,\n",
       "       0.0306611822797256, -0.154290704028224], dtype=object)"
      ]
     },
     "execution_count": 116,
     "metadata": {},
     "output_type": "execute_result"
    }
   ],
   "source": [
    "bessel(np.linspace(1,100))"
   ]
  },
  {
   "cell_type": "code",
   "execution_count": 117,
   "metadata": {},
   "outputs": [
    {
     "data": {
      "image/png": "[encoded data removed]",
      "text/plain": [
       "<Figure size 432x288 with 1 Axes>"
      ]
     },
     "metadata": {
      "needs_background": "light"
     },
     "output_type": "display_data"
    }
   ],
   "source": [
    "x_data=np.linspace(.01,20,1000)\n",
    "for n in [1,2,3,4,5,6]:\n",
    "    bessel.set_parameters({\"A\":1,\"n\":n})\n",
    "    plt.plot(x_data,bessel(x_data),label=\"Bessel Order {0}\".format(n))\n",
    "plt.legend()\n",
    "plt.show()\n"
   ]
  },
  {
   "cell_type": "code",
   "execution_count": 253,
   "metadata": {},
   "outputs": [],
   "source": [
    "plot_y=list(map(lambda x:float(x),bessel(x_data).tolist()))"
   ]
  },
  {
   "cell_type": "code",
   "execution_count": 254,
   "metadata": {},
   "outputs": [
    {
     "data": {
      "text/plain": [
       "float"
      ]
     },
     "execution_count": 254,
     "metadata": {},
     "output_type": "execute_result"
    }
   ],
   "source": [
    "type(plot_y[0])"
   ]
  },
  {
   "cell_type": "code",
   "execution_count": null,
   "metadata": {},
   "outputs": [],
   "source": []
  },
  {
   "cell_type": "code",
   "execution_count": 261,
   "metadata": {},
   "outputs": [
    {
     "name": "stdout",
     "output_type": "stream",
     "text": [
      "file://C:/Users/sandersa/AppData/Local/Temp/1/tmpl38lqo6j.html\n"
     ]
    }
   ],
   "source": [
    "x_data=np.linspace(.1,20,100)\n",
    "color_rotation=[\"r\",\"b\",\"g\",\"k\",\"c\"]\n",
    "for n in [1,2,3,4,5,6]:\n",
    "    if n==1:\n",
    "        bessel.set_parameters({\"A\":1,\"n\":n})\n",
    "        plot_x=x_data.tolist()\n",
    "    #plot_y=(x_data**2).tolist()\n",
    "        plot_y=list(map(lambda x:float(x),bessel(x_data).tolist()))\n",
    "        report.plot(plot_x,plot_y,\"m-o\",width=1000,glyph_options={\"legend\":\"Bessel Order {0}\".format(n)})\n",
    "    else:\n",
    "        bessel.set_parameters({\"A\":1,\"n\":n})\n",
    "        plot_x=x_data.tolist()\n",
    "    #plot_y=(x_data**2).tolist()\n",
    "        plot_y=list(map(lambda x:float(x),bessel(x_data).tolist()))\n",
    "        report.plot(plot_x,plot_y,\"{0}-o\".format(color_rotation[n//len(color_rotation)]),\n",
    "                    figure_index=4,\n",
    "                    glyph_options={\"legend\":\"Bessel Order {0}\".format(n)})\n",
    "report.show()"
   ]
  },
  {
   "cell_type": "code",
   "execution_count": 206,
   "metadata": {},
   "outputs": [],
   "source": [
    "bessel2=FunctionalModel(parameters=[\"A\",\"B\"],variables=\"z\",equation=\"A*besselj(1,z)+B*besselj(2,z)\")"
   ]
  },
  {
   "cell_type": "code",
   "execution_count": 181,
   "metadata": {},
   "outputs": [],
   "source": [
    "x_data=np.linspace(.1,20,1000)\n",
    "bessel2.set_parameters({\"A\":.5,\"B\":.75})\n",
    "y_data=np.array((bessel2(x_data)+np.random.normal(loc=0,scale=.1,size=1000)).tolist(),dtype=np.float64)"
   ]
  },
  {
   "cell_type": "code",
   "execution_count": 182,
   "metadata": {},
   "outputs": [
    {
     "data": {
      "image/png": "[encoded data removed]",
      "text/plain": [
       "<Figure size 432x288 with 1 Axes>"
      ]
     },
     "metadata": {
      "needs_background": "light"
     },
     "output_type": "display_data"
    }
   ],
   "source": [
    "\n",
    "bessel2.fit_data(x_data,y_data)\n",
    "plt.plot(x_data,y_data,label=\"Data\")\n",
    "plt.plot(x_data,bessel2(x_data))\n",
    "plt.legend()\n",
    "plt.show()"
   ]
  },
  {
   "cell_type": "code",
   "execution_count": 183,
   "metadata": {},
   "outputs": [
    {
     "data": {
      "text/plain": [
       "{'A': 0.5088945247920891, 'B': 0.7324787239579007}"
      ]
     },
     "execution_count": 183,
     "metadata": {},
     "output_type": "execute_result"
    }
   ],
   "source": [
    "bessel2.parameter_values"
   ]
  },
  {
   "cell_type": "code",
   "execution_count": 131,
   "metadata": {},
   "outputs": [
    {
     "data": {
      "text/plain": [
       "True"
      ]
     },
     "execution_count": 131,
     "metadata": {},
     "output_type": "execute_result"
    }
   ],
   "source": [
    "isinstance(np.array([1,2,3]),(list,np.ndarray))"
   ]
  },
  {
   "cell_type": "code",
   "execution_count": 129,
   "metadata": {},
   "outputs": [
    {
     "data": {
      "text/plain": [
       "numpy.ndarray"
      ]
     },
     "execution_count": 129,
     "metadata": {},
     "output_type": "execute_result"
    }
   ],
   "source": [
    "type(np.array([1,2,3]))"
   ]
  },
  {
   "cell_type": "code",
   "execution_count": 164,
   "metadata": {},
   "outputs": [],
   "source": [
    "def f(a,x):\n",
    "    input_list=[]\n",
    "    for parameter in a:\n",
    "        input_list.append(parameter)\n",
    "    out=np.array(list(map(lambda y:sympy.N(bessel2.function(*(input_list+[y]))),x.tolist())),dtype=np.float64)\n",
    "    return out"
   ]
  },
  {
   "cell_type": "code",
   "execution_count": 166,
   "metadata": {},
   "outputs": [],
   "source": [
    "out=f([.5,.75],x_data)"
   ]
  },
  {
   "cell_type": "code",
   "execution_count": 167,
   "metadata": {},
   "outputs": [
    {
     "data": {
      "text/plain": [
       "dtype('float64')"
      ]
     },
     "execution_count": 167,
     "metadata": {},
     "output_type": "execute_result"
    }
   ],
   "source": [
    "out.dtype"
   ]
  },
  {
   "cell_type": "code",
   "execution_count": 174,
   "metadata": {},
   "outputs": [],
   "source": [
    "res=lambda a,x,y_data:f(a,x)-y_data"
   ]
  },
  {
   "cell_type": "code",
   "execution_count": 175,
   "metadata": {},
   "outputs": [
    {
     "data": {
      "text/plain": [
       "array([0.0585223450894979, 0.00505732205138826, 0.00368294187094409,\n",
       "       0.100703884903331, 0.0443427576908878, 0.138288345635015,\n",
       "       0.00316542953940074, 0.0304181292254596, 0.0519853584118551,\n",
       "       -0.0815718654387876, 0.00329527464353740, 0.00634299735097510,\n",
       "       0.0807737478427655, -0.0848062164878950, 0.0785060922092026,\n",
       "       0.0376277218316685, 0.225701253670335, -0.0327232586093031,\n",
       "       -0.0918947112644683, -0.0300254229789943, -0.00205642260945371,\n",
       "       0.0324620311736073, -0.0390163416914180, 0.00112443995024658,\n",
       "       -0.0733467207544503, 0.0349056472168492, -0.115562800636968,\n",
       "       0.0849826803359180, -0.257826622476929, 0.0239382725135228,\n",
       "       0.0390620848877241, -0.107916198295571, 0.0532495730342999,\n",
       "       0.117752389583518, 0.0984925495151855, -0.0717023634315175,\n",
       "       -0.168412893360278, -0.0679963466944784, -0.0387766117175418,\n",
       "       0.169529581774822, 0.0137817550008968, 0.00544639937034497,\n",
       "       -0.0187233722530873, -0.199483452205225, -0.0163300256023348,\n",
       "       -0.0472556256047600, 0.158049710196368, -0.0943853423376466,\n",
       "       -0.00435561843810472, 0.0838435914285532, 0.0611128353806799,\n",
       "       0.0370151054895503, 0.0833576825273710, -0.149890583930095,\n",
       "       0.130752662241368, -0.00407879495031011, -0.0611049671571722,\n",
       "       0.0827011340626293, -0.143113766613261, -0.00234599245473294,\n",
       "       0.0429029239123305, 0.0777464888909433, -0.0767171413796163,\n",
       "       0.113167185911203, 0.0118694488286037, 0.136952558398278,\n",
       "       0.0650558100993188, 0.0703457455530669, 0.0341491095282391,\n",
       "       0.00203655997417507, 0.0260851461857727, -0.0589053141668773,\n",
       "       0.0194244728144398, -0.247541688979616, 0.0180827884189151,\n",
       "       0.0193585021543209, 0.126926509822080, -0.0378502493631835,\n",
       "       -0.111381443828620, 0.120627532451613, 0.000618472520617863,\n",
       "       0.0193264318053630, -0.144121135373274, -0.0432191652137351,\n",
       "       0.200383504788847, -0.0460958868720638, 0.0707621945684158,\n",
       "       -0.0297346857499069, -0.164749935116421, 0.0551453070020944,\n",
       "       -0.200365720261778, -0.0807534995387273, 0.00599221457946886,\n",
       "       0.00948591165874124, -0.00603398827556978, 0.0471350375245362,\n",
       "       -0.0804863605293620, 0.105032781723019, 0.0272819872090960,\n",
       "       0.188004974114345, -0.116598541989934, 0.00519795435497561,\n",
       "       -0.0824251780138709, 0.0653746993730098, -0.266091974693366,\n",
       "       0.0437958025167450, 0.122247166157214, -0.0824510865626069,\n",
       "       -0.124662892337616, -0.112597981624075, 0.0146304061675611,\n",
       "       -0.0243559134504916, 0.138208617768032, 0.207737072912976,\n",
       "       0.0304355870279274, -0.0317577210898999, 0.0423035155728995,\n",
       "       0.0586163007984969, -0.192019657963787, -0.0502295721126303,\n",
       "       0.0460245077270326, -0.0162913761648803, -0.191867170686725,\n",
       "       0.0243040509771383, 0.0529345080308538, -0.0920368250766757,\n",
       "       0.0197986429070465, -0.237248036418662, -0.0866361322343270,\n",
       "       0.166563001417824, 0.0881611606795701, 0.119682909081861,\n",
       "       -0.135852251812974, 0.0222228570296068, 0.171753908379726,\n",
       "       0.144064272493140, -0.105591551842798, -0.0739805253609374,\n",
       "       -0.0435154209867404, 0.0965164983475743, -0.0312439601706399,\n",
       "       -0.0571726817072227, -0.0666536926456086, 0.109150511641676,\n",
       "       0.0210652097561258, -0.0362860105655718, 0.0369583090666188,\n",
       "       0.0383267438014808, 0.138492654117049, -0.0489828733488364,\n",
       "       -0.152202769773304, -0.217275112219553, -0.173645395892604,\n",
       "       -0.0815423094234328, -0.115698561206872, 0.0719958766022214,\n",
       "       -0.0575292520609233, 0.105304231891444, 0.154693263940163,\n",
       "       -0.0920387820033545, -0.0962393087510188, 0.0988776210285598,\n",
       "       -0.111984752297295, 0.114849326838627, -0.223127901758097,\n",
       "       -0.0729225258918306, -0.0629409854482955, 0.0697853907571856,\n",
       "       -0.00754987275518160, 0.186457424491487, 0.0198071163036005,\n",
       "       -0.00541054279851538, 0.0273096001629497, -0.154653228895774,\n",
       "       0.124353234221871, -0.154879692400287, 0.0579369103459663,\n",
       "       0.157129590978227, 0.00205208157345949, 0.0763141662355168,\n",
       "       -0.0746491417396954, -0.103545282848584, 0.00506668324593273,\n",
       "       0.122926141867568, -0.105358079746685, -0.106882679877960,\n",
       "       -0.0185883539711194, 0.00776320083183912, 0.00930062127125886,\n",
       "       -0.0114277007855180, 0.204036017166849, 0.0670914624441052,\n",
       "       -0.0153175572957041, -0.0741253237039529, -0.0975715145713771,\n",
       "       -0.113094991204843, -0.0612061918454212, 0.0327452420039743,\n",
       "       -0.00328939430695674, -0.0174994425496460, -0.122008711127517,\n",
       "       -0.0391409232054187, -0.0975574111376013, 0.133276188099282,\n",
       "       -0.0311879461622490, 0.123429569748927, 0.0293608600570080,\n",
       "       0.0929713520835735, 0.0856234418113513, -0.0620405719132482,\n",
       "       0.142511743044321, -0.0862588549777792, 0.0219472872170169,\n",
       "       0.0124966998666557, -0.0414118230690402, 0.140184672305916,\n",
       "       -0.173145778577191, 0.0802928955553871, -0.147760909571839,\n",
       "       0.0987857778867722, 0.0381054394395013, -0.0735409410809511,\n",
       "       -0.0222901556755304, 0.0963652875199361, -0.0655664402985706,\n",
       "       0.138683069795256, 0.00266382882542537, 0.000170493236890445,\n",
       "       -0.104920387941781, 0.0904296396069852, -0.0462868518081213,\n",
       "       -0.0236843707374010, -0.0131516288840814, -0.0717441224988266,\n",
       "       0.0902406554561521, -0.0509069894712234, 0.0360628258883825,\n",
       "       -0.178698788876555, -0.0636850738152147, -0.0335585114123503,\n",
       "       0.0419633981571747, -0.131178245961487, 0.0823583838190791,\n",
       "       0.106874563794832, -0.0240857793704282, 0.0934030942542583,\n",
       "       -0.126279468438839, -0.0485389298826510, -0.0752305907701518,\n",
       "       -0.0127161515943196, -0.0706721896203011, -0.0997884732569639,\n",
       "       -0.0304191192369738, 0.0485957601495202, -0.102557399698220,\n",
       "       -0.0447927665131643, -0.0637219764924378, 0.00656154483881927,\n",
       "       -0.0104034965436908, 0.113471816265992, 0.150119170290375,\n",
       "       -0.00520969253989945, 0.0656325482186783, -0.000798333652648198,\n",
       "       0.0262291336754449, 0.191465118570533, -0.111375633412140,\n",
       "       -0.0806633286230871, -0.226258886118140, -0.111169258252946,\n",
       "       0.0255016212316899, 0.00468876442768262, -0.0646647096946192,\n",
       "       -0.0381242613568700, 0.109152979800885, -0.0171788187473728,\n",
       "       -0.116437768459889, 0.0414997838978695, -0.0842497000778819,\n",
       "       -0.0450451701699367, -0.132140258480721, -0.106362311995594,\n",
       "       0.129985837834114, -0.0667329128918390, -0.0158178911928514,\n",
       "       -0.0215736776130420, 0.0481495364231058, 0.111296583506065,\n",
       "       -0.0705264051824690, -0.0200829864788644, -0.0185722373577312,\n",
       "       -0.0283232991860056, -0.144221557395766, 0.162129109150805,\n",
       "       -0.0664137200211392, -0.0915458454217564, -0.113370336911619,\n",
       "       -0.168296843932900, -0.0254873802063212, -0.0326648451926037,\n",
       "       -0.162106112393946, 0.109754509546062, -0.0982044565160855,\n",
       "       0.0734562547527770, -0.236417627440146, -0.150154474423618,\n",
       "       -0.105181618551806, -0.169684064930192, 0.00514658925809031,\n",
       "       0.120776019930787, 0.0305895202182211, 0.00519526793020453,\n",
       "       0.240675331053619, -0.105141503540861, -0.00909004320383178,\n",
       "       -0.0121792486274217, -0.0208104173809109, 0.0332330569956008,\n",
       "       -0.0860305062477184, -0.165227834201584, 0.0680365740902930,\n",
       "       0.0196528531082044, 0.0450394642704431, 0.159096164586815,\n",
       "       -0.0199474512925378, 0.0289697777631430, 0.184109385959695,\n",
       "       -0.0647816301534533, 0.300869314404898, -0.0442379663701307,\n",
       "       -0.000383876505367753, 0.0271804697698017, -0.111275682679290,\n",
       "       -0.0178928180902057, -0.153572743626411, 0.0227136969998475,\n",
       "       0.0615779471819305, -0.0753347564188465, 0.145529684813090,\n",
       "       -0.124778736098712, -0.112188281523574, -0.0983625231127378,\n",
       "       0.131540547608984, 0.0131349184600729, 0.302867239727997,\n",
       "       -0.00101609353085996, 0.0633191748114130, 0.0368247117738401,\n",
       "       0.0196598212563740, 0.0546350277417418, 0.174348308841078,\n",
       "       0.0104485197110656, 0.00632944820506467, -0.00997561905421601,\n",
       "       -0.111402451133623, -0.176835901261655, -0.117530810816796,\n",
       "       0.00397115241034851, -0.160582615718815, -0.0491053085161646,\n",
       "       -0.121131473211455, 0.0389079875533643, -0.0225300981386309,\n",
       "       -0.0247558456998524, 0.112169193980857, -0.0676994974380211,\n",
       "       -0.0772763835383204, -0.103910714801003, -0.0107223124806190,\n",
       "       -0.0126301182578329, 0.0748556191935132, 0.0341755342466717,\n",
       "       0.0948511809140218, -0.0437923563891246, -0.0433212399590556,\n",
       "       -0.0981290207365134, 0.0224921143317405, -0.0225369146021899,\n",
       "       0.0564598646824111, 0.00318403478893814, -0.183418880476770,\n",
       "       -0.0526327689910426, 0.0833649686715406, 0.111235033854782,\n",
       "       -0.0357851766222187, 0.0839056742304337, 0.123140270187850,\n",
       "       -0.109628061934181, 0.106352871687799, -0.0819998038463692,\n",
       "       -0.221682875432431, 0.109153859802182, -0.0248404894192990,\n",
       "       0.107125241578000, -0.113937483421107, 0.0752510515839896,\n",
       "       0.0607605670720270, 0.130367120431734, 0.0454632814725153,\n",
       "       0.0208419279266973, 0.0850956748974167, -0.102764931228782,\n",
       "       -0.111164660671600, -0.170544217574645, -0.0404107792101067,\n",
       "       -0.0724114884417973, -0.0915731594720852, 0.0313178225803954,\n",
       "       0.130515969612806, 0.0990749753014943, -0.100136642668808,\n",
       "       0.122256544253101, 0.139862449632180, 0.134908946734436,\n",
       "       0.0451226052807644, 0.155558493373696, 0.0122284836675572,\n",
       "       -0.104446477235996, 0.244957803792561, -0.121321521134790,\n",
       "       0.0562204075226593, 0.0844910560724613, -0.192109942737426,\n",
       "       0.156567093474588, -0.0941779819053750, 0.0502023110885968,\n",
       "       0.0421247812967254, 0.132008730803309, 0.0851104435002011,\n",
       "       -0.0714139782374271, -0.0125331836669942, 0.0414545187456182,\n",
       "       0.0201143791471907, 0.154893060102005, -0.0187081129054239,\n",
       "       -0.0739627180212644, -0.0580669701584681, -0.0363482227384644,\n",
       "       -0.0193923256909022, 0.138128409238335, -0.00119120984102097,\n",
       "       -0.0100448981727580, -0.0160466067338199, -0.0624505421878842,\n",
       "       0.0484989317835989, 0.105653973608330, 0.210184257033830,\n",
       "       -0.0196751935973264, 0.0232750727600020, -0.0606043295737988,\n",
       "       0.0409812156660570, -0.0958217039929327, -0.00496178809453396,\n",
       "       0.0583460288668276, 0.00352972357950129, 0.0742804495683676,\n",
       "       -0.0453518619809195, 0.00278025415596617, 0.0743612004384439,\n",
       "       0.0908651091394025, -0.0895236954531221, 0.102317520569514,\n",
       "       -0.0966903689605603, 0.0540755686118080, -0.0596909187076027,\n",
       "       -0.0375224790291417, -0.0903176544405253, 0.107235520369145,\n",
       "       -0.139281409035675, -0.0136440775132544, 0.0398846501617459,\n",
       "       0.0862915408245670, -0.0667975271284211, 0.0119523641882057,\n",
       "       0.0153254898337871, -0.0110872711702004, -0.123311213988885,\n",
       "       0.155167859069415, 0.0186130965996480, -0.132210734255612,\n",
       "       0.185589713116996, -0.0958669187508069, -0.0973745291237357,\n",
       "       -0.0124655962644486, 0.0893882937425373, -0.111526402836982,\n",
       "       -0.135218960593614, 0.0439794816215831, 0.186671657894847,\n",
       "       0.0739979420005264, 0.0634542303911395, 0.0646340821130838,\n",
       "       0.0913168661969851, 0.0152895764463810, 0.0659170400446992,\n",
       "       0.0777333125920002, 0.162159899345476, -0.0131566889999201,\n",
       "       -0.0288754804403284, 0.0338776492238884, 0.0918377437577360,\n",
       "       0.0961913345228387, -0.0206206144792229, -0.0531590689009278,\n",
       "       -0.0784064102426320, -0.136545682082982, -0.0569214959004853,\n",
       "       -0.0674144955675836, 0.0219142198093824, 0.0200787371611740,\n",
       "       0.0425534021046925, 0.0243333739053505, 0.0482398491741339,\n",
       "       -0.0728829588107034, 0.105640525472325, 0.0737011637629847,\n",
       "       0.0914729014228970, -0.186469233160801, 0.0219323447951285,\n",
       "       -0.0298367507928909, 0.0674608552378691, 0.153482080634022,\n",
       "       -0.0970640862781391, -0.114961144020919, -0.119234462359953,\n",
       "       0.161578700303373, -0.0781330926507542, -0.0698970084128527,\n",
       "       -0.0882937954443006, -0.0805541309110140, -0.116832873902046,\n",
       "       0.130528295144910, -0.183611370418389, 0.0158845416415255,\n",
       "       0.0469840109322815, 0.102137745038038, 0.0745732235892648,\n",
       "       -0.0935966586109193, 0.00809437962235787, 0.0607801245939883,\n",
       "       -0.0904455036010594, 0.00130257986245141, 0.0206027751125633,\n",
       "       -0.174591631032823, 0.0881195074215912, 0.153232491980556,\n",
       "       -0.111628705982659, -0.196966140133910, 0.117105721431515,\n",
       "       -0.106191356770445, 0.0494882021617402, 0.0883596917079973,\n",
       "       -0.000806069857402114, -0.0707785350971789, -0.0103696853059383,\n",
       "       -0.103394234218344, 0.0712239779060227, -0.117786581717523,\n",
       "       -0.0506669706599672, -0.120454605151323, -0.128187472266431,\n",
       "       -0.0521191326011494, 0.134475480769325, -0.0700104744909938,\n",
       "       -0.00767503392960073, 0.0658687011349577, -0.0288940901111945,\n",
       "       0.0794218639849548, -0.0348524246641972, -0.0480593477036212,\n",
       "       0.164768637035770, -0.00429860517697783, 0.0290342395907472,\n",
       "       0.0400860050849175, 0.139741170068335, -0.0469151056645337,\n",
       "       -0.103568574426992, -0.125370504899584, -0.0944197899865012,\n",
       "       0.0315642047159674, -0.0653869117632546, 0.0294752871762163,\n",
       "       -0.281422398146270, -0.110468357224502, 0.240901636185986,\n",
       "       -0.120465974794367, 0.0520925232997699, -0.0895248793797124,\n",
       "       0.0722611734459334, 0.0946669833855898, -0.00166692979745336,\n",
       "       0.0870817866015257, -0.0338386598623526, 0.0637084570305049,\n",
       "       -0.0298355576388145, -0.0481147012753871, 0.206725470774575,\n",
       "       0.0349805660153317, 0.0932417145107937, 0.00628687967607022,\n",
       "       -0.0694712287559762, 0.0245720965374798, 0.119460877690695,\n",
       "       -0.123170113404460, -0.0220481787206758, -0.0943344596019935,\n",
       "       -0.0712144730559091, 0.00679284312503814, -0.132165779453733,\n",
       "       -0.102948486379236, -0.136188803004868, 0.0806563364793967,\n",
       "       0.0176013861675114, 0.0673257594074078, -0.180329704756357,\n",
       "       -0.230617385278244, -0.0708029232979249, 0.178591235703044,\n",
       "       0.0941623460578175, 0.0998570050714731, 0.0378112087552937,\n",
       "       -0.103121124488039, -0.219829499980940, 0.00114542961065001,\n",
       "       -0.0687242373271086, 0.151100034956814, -0.0757533917876968,\n",
       "       0.0492747247998629, -0.0639618754305892, 0.294812607259791,\n",
       "       -0.0211754626332666, 0.200135546159698, -0.270847941682451,\n",
       "       0.0840107278683337, -0.00425857009665598, 0.0137177203408489,\n",
       "       0.0700787314895615, -0.0426899507306145, -0.196611009541238,\n",
       "       0.102566075399828, 0.190131759550630, 0.158022440825205,\n",
       "       0.0400084577530821, -0.160436615325617, 0.0565785991267967,\n",
       "       -0.0208129714257340, 0.0635664392730336, -0.0179283942039530,\n",
       "       0.137705640197646, 0.0941640593907352, 0.116827931012931,\n",
       "       -0.0927489751229287, 0.137351294015438, -0.0339508085586936,\n",
       "       0.0302375569595119, -0.0854744681670739, 0.181729611145309,\n",
       "       -0.152770497043752, -0.0960440755516104, 0.0407440298675043,\n",
       "       -0.0561428471263399, 0.0495858129228421, -0.0537914529049224,\n",
       "       0.0331328143911855, 0.0854499729689798, -0.157218413494377,\n",
       "       -0.177080726491283, -0.0241278339191611, -0.163061002548956,\n",
       "       -0.231396435231995, 0.203839515936348, -0.0375432341499056,\n",
       "       0.132381159021653, -0.00659186640622808, -0.0369467530355398,\n",
       "       0.0758161758232798, 0.181293088424319, -0.0944088608716284,\n",
       "       0.178971439938301, 0.137540958231964, 0.152015840904106,\n",
       "       -0.0103053672112167, -0.0103384587425293, 0.0101159588067365,\n",
       "       -0.00650920418458178, 0.000913357243672336, 0.0618914824676262,\n",
       "       0.00797250733271240, 0.0631296682828840, -0.00166277156014266,\n",
       "       0.0260886326569247, 0.0847666452546266, -0.0846999829029242,\n",
       "       -0.157761247891832, 0.133837735203912, 0.0213030886143752,\n",
       "       -0.0729561512677370, -0.125251789275012, -0.0635675413525536,\n",
       "       0.124271590433809, 0.0569216899672035, -0.112965734271558,\n",
       "       -0.0488249707792816, -0.00301653794491050, 0.132500621775859,\n",
       "       0.0430422328669136, 0.0622968989803061, -0.0564324284344641,\n",
       "       -0.0824356984812099, 0.0974081473787929, -0.116527748813976,\n",
       "       0.115134529468734, 0.0330744711208558, 0.0980903033280120,\n",
       "       0.0295038712919242, -0.0135447339066312, -0.167262277935375,\n",
       "       0.0114946849123405, -0.251662808935999, 0.0645734032483077,\n",
       "       -0.0549260237353451, 0.168646352853165, -0.123874097853538,\n",
       "       -0.0289665824501287, 0.244454788247617, 0.0355199762869177,\n",
       "       0.000245440039928296, -0.0556744880542792, 0.0223717090524953,\n",
       "       -0.101481001848862, 0.0846832216596077, 0.117322207782107,\n",
       "       -0.0425439940087902, 0.0228557828069377, -0.0114425309376057,\n",
       "       0.0972353612101971, -0.168364796959620, -0.0677608554023736,\n",
       "       0.113047412338601, -0.0324648589237633, 0.0199225291370757,\n",
       "       -0.0790019783929951, -0.00390155382616011, -0.0571544957972653,\n",
       "       -0.0272322650677264, -0.105041937367429, 0.0221262331398342,\n",
       "       -0.147567711366393, -0.0790629856164688, -0.0248079072811970,\n",
       "       0.0583103260899488, -0.0956855529460275, -0.0502045297950831,\n",
       "       -0.0645075345915523, -0.0904217114645267, -0.0228550793931808,\n",
       "       0.0443636637038623, -0.0460089641895600, -0.00335234724338222,\n",
       "       -0.110398358537669, -0.260235848174011, -0.0268176658065498,\n",
       "       0.0911413305116960, -0.00931013992284581, -0.0722046559970759,\n",
       "       -0.0315600919660314, 0.0103285424447574, 0.0857393120000223,\n",
       "       -0.0458203269425658, 0.0616510124995607, -0.0843484943097170,\n",
       "       -0.107488613935362, -0.0868275740734340, 0.0169912339879506,\n",
       "       -0.0205804566041492, -0.0275118272158127, 0.0969322108008656,\n",
       "       0.0120779976839939, 0.225026592641223, -0.0462705471644140,\n",
       "       -0.00329282791357031, -0.147187473474425, -0.247261710895244,\n",
       "       -0.0388879927689132, -0.00177783960615296, -0.174639359279491,\n",
       "       0.0831811174517896, -0.0322358430888571, 0.0352997626363235,\n",
       "       0.102547738357198, 0.103359410337129, -0.0556558666538793,\n",
       "       -0.0230976997361765, 0.0473677346631068, 0.0380252175554948,\n",
       "       0.0397310854198173, 0.00737901717954738, 0.170957068061268,\n",
       "       0.0815156673970459, 0.118382929439388, 0.0197548895268347,\n",
       "       -0.0658838032503549, -0.0967381366317144, -0.0938761207508813,\n",
       "       -0.0520986015572792, 0.0150880093341544, -0.0525721904046712,\n",
       "       0.00811418905745766, -0.124735578712650, -0.0835466906500388,\n",
       "       -0.0406232721229725, 0.000626288153454904, -0.0596888456779067,\n",
       "       -0.125533531007062, -0.0772416036438837, 0.0289218849584930,\n",
       "       -0.106507539711072, -0.00783853842435411, -0.00602276699297473,\n",
       "       -0.0444423045675847, 0.0654130292370821, 0.00195407748602233,\n",
       "       -0.184193380732490, -0.254932923313462, -0.170637093167417,\n",
       "       -0.0664833573894066, 0.111878095961602, 0.0441720766562534,\n",
       "       -0.216833060806597, -0.0349860674642238, -0.0617431537349673,\n",
       "       0.177061459207112, 0.0815508925102018, 0.0342062818509532,\n",
       "       0.0241227823802084, -0.147604086270526, -0.0423163026427698,\n",
       "       0.264741190253793, -0.0699987830026032, 0.0581933618060533,\n",
       "       0.000894769316502286, -0.0675186303218253, -0.131443307999061,\n",
       "       -0.0390652836398395, -0.0100529673239637, 0.0597176125232511,\n",
       "       -0.0493895351165336, 0.0276281489434605, -0.152229811620014,\n",
       "       0.0623994472537420, 0.0725095721239833, 0.0202910574525064,\n",
       "       0.0233600255991974, -0.0663755275875774, -0.0872035413593372,\n",
       "       -0.0846390496846493, -0.0299141627638332, -0.165928863276497,\n",
       "       -0.00149692440532470, -0.0138761754393299, 0.0408463107593374,\n",
       "       0.00285142331209073, 0.0545240933007576, 0.134541655486320,\n",
       "       0.126458077033960, -0.0625706053904193, 0.106621625463552,\n",
       "       -0.198839417825366, -0.0269125544095945, -0.266727379063088,\n",
       "       0.0798391378427193, -0.108930477856805, 0.0264540518660064,\n",
       "       -0.244168396878330, -0.0973764753519462, -0.0555119439329835,\n",
       "       -0.00228354618014720, -0.115255829841548, 0.0407711131178912,\n",
       "       0.0483689963797316, -0.138654730848759, -0.159268831222660,\n",
       "       0.0315803722791240, -0.00912958086965127, -0.00975427508810517,\n",
       "       -0.131773626426412, 0.188446927204269, -0.0536099065354484,\n",
       "       -0.107449907209485, 0.0494501623677767, 0.0401704750388177,\n",
       "       0.0819573686210454, -0.0516185227667469, -0.0282493718431945,\n",
       "       -0.0699801772693447, 0.00938980679788357, -0.143782511785865,\n",
       "       0.00276593342946996, -0.125840875126348, 0.0466561844498079,\n",
       "       0.0193625637479234, 0.0464549510715266, 0.0137451643160503,\n",
       "       0.0133091626451958, 0.0515388253379619, -0.101264304392803,\n",
       "       -0.0678466430751038, -0.0535792249415409, -0.0912911052405360,\n",
       "       -0.0484685319809337, 0.0968357098894785, -0.0613470757737136,\n",
       "       -0.171671954077860, 0.0952833534415031, -0.0906783919315490,\n",
       "       -0.0602116839532716, 0.147685088684589, 0.148006907896245,\n",
       "       0.00166346957862032, -0.0495690042297196, 0.0510640737088711,\n",
       "       -0.0332296679344152, 0.0488366350022160, -0.0120153864632018,\n",
       "       -0.227648718336051, 0.0124146751347786, 0.0184251315730435,\n",
       "       -0.00946743959118268, -0.0794424193987327, 0.0158901155686271,\n",
       "       -0.178808235464544, 0.128900284204331, -0.0942816373164322,\n",
       "       -0.0222981710386961, -0.0123965602192279, 0.0204628381980385,\n",
       "       0.00338482863204365, -0.201286851641814, -0.0240602127817558,\n",
       "       -0.0434781850542168, 0.0708700418341555, -0.0464463400529960,\n",
       "       -0.134558000353841, -0.0850499013393302, 0.0910026379045906,\n",
       "       0.138703987915304, 0.0855674955981129, -0.0325237199106842,\n",
       "       -0.0912430054666066, -0.0408263678590969, 0.0401200718238219,\n",
       "       0.0280558952134377, -0.0174284009192288, 0.132860490254025,\n",
       "       0.101926713047440, -0.00293966608870663, -0.00900931497529717,\n",
       "       -0.0277860239484625, -0.0361933820273926, -0.0617705827849036,\n",
       "       -0.0415707483102133, -0.0354995051342833, -0.0426304566145268,\n",
       "       -0.0177536453788528, 0.00664664182421176, 0.0212527649320912,\n",
       "       -0.0765194410469485, -0.212382297813886, -0.118938604956083,\n",
       "       0.0475729098271354, -0.0476778084550872, -0.0507410593846607,\n",
       "       0.0319764558944319, -0.0214931618706786, 0.193426600112170,\n",
       "       -0.0731242689471736, -0.0387986848976414, -0.126341473580997,\n",
       "       -0.00183257213652169, -0.0950063222488048, -0.114102911595769,\n",
       "       -0.0778803564188300, 0.0171423020551160, -0.0115736447794619,\n",
       "       -0.125650121280702, -0.0722452296983356, 0.0516277799063281,\n",
       "       0.0583785531937578, 0.0560773787993951, -0.0715495866586109,\n",
       "       0.103061763477024, -0.0895077413259722, -0.0742443774947900,\n",
       "       0.00432561915122762, -0.149258443923775, 0.0564581154335197,\n",
       "       0.0647340026553311, -0.157252694103687, -0.112082984904227,\n",
       "       -0.0153623844938901], dtype=object)"
      ]
     },
     "execution_count": 175,
     "metadata": {},
     "output_type": "execute_result"
    }
   ],
   "source": [
    "res([.5,.75],x_data,y_data)"
   ]
  },
  {
   "cell_type": "code",
   "execution_count": 176,
   "metadata": {},
   "outputs": [
    {
     "data": {
      "text/plain": [
       "array([0.247680561481894, 0.304028237829474, 0.308280061149285,\n",
       "       0.214131150712254, 0.273358699816870, 0.182273723131665,\n",
       "       0.320251240166345, 0.295846931670693, 0.277121684769375,\n",
       "       0.413514283129536, 0.331475711211681, 0.331249552069193,\n",
       "       0.259633162617634, 0.428020087882128, 0.267507142788522,\n",
       "       0.311177082587191, 0.125887129521397, 0.387087033859995,\n",
       "       0.449025496208941, 0.389914640029283, 0.364695299397364,\n",
       "       0.332917538660096, 0.407127444026071, 0.369708840972095,\n",
       "       0.446892633481356, 0.341343158174108, 0.494504567720444,\n",
       "       0.296641926177740, 0.642123755421669, 0.363020883694259,\n",
       "       0.350548401827686, 0.500167133771099, 0.341630741070681,\n",
       "       0.279746045259674, 0.301612561050551, 0.474402518229417,\n",
       "       0.573696275088446, 0.475850952916170, 0.449190255551234,\n",
       "       0.243430729048011, 0.401712669163635, 0.412569402193890,\n",
       "       0.439247633723724, 0.622503075294073, 0.441831731995853,\n",
       "       0.475225957746661, 0.272375611690501, 0.527251840327522,\n",
       "       0.439649302071959, 0.353863111407521, 0.378992545080249,\n",
       "       0.405474436743122, 0.361501332220722, 0.597104209419223,\n",
       "       0.318800540594056, 0.455956371027136, 0.515291542582980,\n",
       "       0.373778897967213, 0.601871544596965, 0.463365638796440,\n",
       "       0.420362547217544, 0.387748598467105, 0.544425472411538,\n",
       "       0.356737853253803, 0.460215600961933, 0.337295643575012,\n",
       "       0.411338525722029, 0.408177546944712, 0.446485804704007,\n",
       "       0.480692484358373, 0.458720381010304, 0.545769522488082,\n",
       "       0.469480461504155, 0.738469241902047, 0.474849124582657,\n",
       "       0.475559362416304, 0.369958748978861, 0.536684197394711,\n",
       "       0.612145229608502, 0.382047094301123, 0.503947854336115,\n",
       "       0.487112311403635, 0.652412869520917, 0.553344324455913,\n",
       "       0.311555374514989, 0.559828643267876, 0.444744459275000,\n",
       "       0.546995121994038, 0.683743904594013, 0.465561813713371,\n",
       "       0.722765478693020, 0.604825251948665, 0.519730759178236,\n",
       "       0.517867383252603, 0.534996577923300, 0.483415695568598,\n",
       "       0.612603962261826, 0.428630291695374, 0.507905040171312,\n",
       "       0.348684370119402, 0.654768447978182, 0.534430641702119,\n",
       "       0.623490477279337, 0.477105202486076, 0.809964266206034,\n",
       "       0.501446554821518, 0.424342823736296, 0.630366167752381,\n",
       "       0.673880417037806, 0.663095196991671, 0.537123643444810,\n",
       "       0.577343838790657, 0.415990124181483, 0.347649327426394,\n",
       "       0.526115215888572, 0.589449574692700, 0.516505942269589,\n",
       "       0.501287221810701, 0.752993614376741, 0.612250241419677,\n",
       "       0.517019065167764, 0.580333956501085, 0.756884777041220,\n",
       "       0.541664516265408, 0.513960872838357, 0.659834791762201,\n",
       "       0.548877602823754, 0.806778177057272, 0.656995707876981,\n",
       "       0.404601475164699, 0.483783610229757, 0.453017478609375,\n",
       "       0.709283509431855, 0.551914455981049, 0.403064579438171,\n",
       "       0.431410445136809, 0.681697491521907, 0.650692618206399,\n",
       "       0.620808538648332, 0.481332457969602, 0.609623512834111,\n",
       "       0.636057533924884, 0.646018494812718, 0.470668839731796,\n",
       "       0.559183240620583, 0.616938061964528, 0.544071799281684,\n",
       "       0.543055833020941, 0.443216759995052, 0.630993452553475,\n",
       "       0.734488802560435, 0.799810849469179, 0.756405052580770,\n",
       "       0.664500066331136, 0.698828566631764, 0.511280494868541,\n",
       "       0.640926078054198, 0.478187109768297, 0.428866628918970,\n",
       "       0.675641237707619, 0.679858316784869, 0.484731908385881,\n",
       "       0.695558753439530, 0.468663079406141, 0.806552631240579,\n",
       "       0.656233483241990, 0.646112063526542, 0.513219690876860,\n",
       "       0.590362832477964, 0.396137281297068, 0.562543198711552,\n",
       "       0.587490327125267, 0.554473512225542, 0.736113528502693,\n",
       "       0.456758113908444, 0.735615954249178, 0.522398136048898,\n",
       "       0.422778118164183, 0.577402177634023, 0.502660541212004,\n",
       "       0.653118208200719, 0.681482633435582, 0.572312892658359,\n",
       "       0.453869618363227, 0.681544002869200, 0.682432765750498,\n",
       "       0.593476625480971, 0.566437303966217, 0.564186190962688,\n",
       "       0.584174922831485, 0.367945747025696, 0.504099007916201,\n",
       "       0.585690931257863, 0.643655833839207, 0.666233430310209,\n",
       "       0.680862620556772, 0.628053883116407, 0.533156901503326,\n",
       "       0.568220424091349, 0.581433838084863, 0.684920999026793,\n",
       "       0.601005678925015, 0.658349260677186, 0.426417433500491,\n",
       "       0.589758071996678, 0.433991848119130, 0.526886694954754,\n",
       "       0.462077244175941, 0.468201160472924, 0.614616207347263,\n",
       "       0.408790016683276, 0.636261895828343, 0.526732258933764,\n",
       "       0.534834644767319, 0.587370330028195, 0.404376433127988,\n",
       "       0.716284992586753, 0.461400012720904, 0.687983175029857,\n",
       "       0.439941586520492, 0.499102846160356, 0.609206052210478,\n",
       "       0.556388080377917, 0.436141524111360, 0.596458299128686,\n",
       "       0.390570085012578, 0.524926960837175, 0.525734361838731,\n",
       "       0.629115832246746, 0.432033012572249, 0.566993426899263,\n",
       "       0.542611681728368, 0.530276588263981, 0.587043743802104,\n",
       "       0.423210743887558, 0.562487387085320, 0.473623895862143,\n",
       "       0.686469267781634, 0.569516851553728, 0.537429239825198,\n",
       "       0.459924044426654, 0.631060279354793, 0.415496231642406,\n",
       "       0.388930741084254, 0.517819998569821, 0.398238383175938,\n",
       "       0.615806668464478, 0.535930438760601, 0.560465118079233,\n",
       "       0.495772531656562, 0.551529382913630, 0.578425567819221,\n",
       "       0.506815332061166, 0.425538918271157, 0.574410022768892,\n",
       "       0.514342946374644, 0.530949459732025, 0.458323124162583,\n",
       "       0.472925370827590, 0.346667421289169, 0.307617728314464,\n",
       "       0.460524691074403, 0.387241131529235, 0.451211419593834,\n",
       "       0.421704228417432, 0.253969535883436, 0.554292743949911,\n",
       "       0.521044207732809, 0.664084996295251, 0.546422213231657,\n",
       "       0.407159944742625, 0.425363332406515, 0.492089412123099,\n",
       "       0.462903800173287, 0.312963783434709, 0.436615352838418,\n",
       "       0.533176779404171, 0.372524570604381, 0.495542426684074,\n",
       "       0.453589460390376, 0.537919467901839, 0.509359961380378,\n",
       "       0.270213938542853, 0.464118670632490, 0.410373653077519,\n",
       "       0.413283635885066, 0.340698980985037, 0.274675027322976,\n",
       "       0.453605816271897, 0.400255078229601, 0.395822064726808,\n",
       "       0.402636092669129, 0.515582723997699, 0.206266015041889,\n",
       "       0.431828564689545, 0.453966352797247, 0.472782629492963,\n",
       "       0.524687225394716, 0.378842336294956, 0.382971044609354,\n",
       "       0.509350407665586, 0.234414918790470, 0.439286240655667,\n",
       "       0.264525294288201, 0.571286537660147, 0.481898530085635,\n",
       "       0.433788792697219, 0.495142520158676, 0.317151499978171,\n",
       "       0.198350247316497, 0.285353660862099, 0.307553755350839,\n",
       "       0.0688686560550228, 0.411469770063254, 0.312192099372015,\n",
       "       0.312044799992398, 0.317429365472153, 0.260129385975731,\n",
       "       0.376126739509535, 0.452048351039354, 0.215498918088731,\n",
       "       0.260588505248158, 0.231898850747254, 0.114530397787364,\n",
       "       0.290253752478833, 0.238007954986761, 0.0795316729225581,\n",
       "       0.325078112061402, -0.0439251097600021, 0.297822396760334,\n",
       "       0.250601239411423, 0.219662736635750, 0.354737848217808,\n",
       "       0.257967263467486, 0.390252995028834, 0.210566092488662,\n",
       "       0.168295318707843, 0.301795643644643, 0.0775131756540587,\n",
       "       0.344398129019727, 0.328378973740369, 0.311119489404413,\n",
       "       0.0777778757672118, 0.192740353519712, -0.100439518851719,\n",
       "       0.199992072620285, 0.132201081066958, 0.155236048949294,\n",
       "       0.168937882053686, 0.130496265775525, 0.00731343255900077,\n",
       "       0.167740737465380, 0.168384603007292, 0.181211953061460,\n",
       "       0.279158767312997, 0.341110109712897, 0.278321032451745,\n",
       "       0.153333414207236, 0.314400070065414, 0.199434404331342,\n",
       "       0.267971175259065, 0.104441496531298, 0.162388751107580,\n",
       "       0.161123265430156, 0.0207068013902995, 0.197084088289937,\n",
       "       0.203169800614674, 0.226313399677993, 0.129634917481122,\n",
       "       0.128053506350955, 0.0370796254925422, 0.0742728509342365,\n",
       "       0.0101118389211005, 0.145271715136551, 0.141318851802354,\n",
       "       0.192647009596958, 0.0685485850025508, 0.110102867185684,\n",
       "       0.0276340930130548, 0.0774408887229878, 0.260577939091232,\n",
       "       0.126329340301161, -0.0131272990545362, -0.0444524726048550,\n",
       "       0.0991166302282644, -0.0240211204798823, -0.0666982017854749,\n",
       "       0.162632265854101, -0.0567817054009758, 0.128142964944117,\n",
       "       0.264403268976629, -0.0698507914017989, 0.0607318794283855,\n",
       "       -0.0746396793104064, 0.143023272034747, -0.0495587795725911,\n",
       "       -0.0384553521345254, -0.111442301064632, -0.0299119947125448,\n",
       "       -0.00865710988006113, -0.0762700612828551, 0.108238804523146,\n",
       "       0.113294457017675, 0.169337799020093, 0.0358762058804118,\n",
       "       0.0645570179287292, 0.0804072462086044, -0.0457865279587466,\n",
       "       -0.148278620919976, -0.120122531466407, 0.0758134169233980,\n",
       "       -0.149846010787758, -0.170708535356256, -0.169001837958165,\n",
       "       -0.0824522969562308, -0.196114789839727, -0.0560009994076606,\n",
       "       0.0574683168227101, -0.295130845977596, 0.0679645475832600,\n",
       "       -0.112750175341149, -0.144182295186379, 0.129268740336630,\n",
       "       -0.222546566964298, 0.0250721128539594, -0.122422517717934,\n",
       "       -0.117447085948729, -0.210420713248727, -0.166599503745560,\n",
       "       -0.0131393809721909, -0.0750715177631684, -0.132097428690853,\n",
       "       -0.113782187898570, -0.251572282917402, -0.0809688651808043,\n",
       "       -0.0286981834855003, -0.0475638508671180, -0.0722383428701587,\n",
       "       -0.0921356395598414, -0.252583260225599, -0.116175845064361,\n",
       "       -0.110219511982777, -0.107100144228856, -0.0635633704495866,\n",
       "       -0.177364663371017, -0.237356018936215, -0.344706949526889,\n",
       "       -0.117652319249498, -0.163391420053553, -0.0822847083149979,\n",
       "       -0.186626643515984, -0.0525636575737169, -0.146146896516931,\n",
       "       -0.212161272616852, -0.160034610530901, -0.233457912966642,\n",
       "       -0.116480961516112, -0.167251073043729, -0.241452502892624,\n",
       "       -0.260559237472840, -0.0827554564727430, -0.277163750474114,\n",
       "       -0.0807048512645782, -0.234001550746584, -0.122747457474367,\n",
       "       -0.147409785196451, -0.0970898550035765, -0.297099496713742,\n",
       "       -0.0530201217361228, -0.181075962403650, -0.237004022488126,\n",
       "       -0.285790938735181, -0.135062460824079, -0.216153379304112,\n",
       "       -0.221847843287832, -0.197736607247541, -0.0877942528747183,\n",
       "       -0.368534856131496, -0.234221445305078, -0.0856186686599556,\n",
       "       -0.405619755368816, -0.126343231967766, -0.126995084649079,\n",
       "       -0.214042722067116, -0.318014446521743, -0.119196604137721,\n",
       "       -0.0975798116651043, -0.278832823082198, -0.423558266800199,\n",
       "       -0.312896412420802, -0.304343053732929, -0.307491648635013,\n",
       "       -0.336121466531803, -0.262019403129389, -0.314550189048417,\n",
       "       -0.328247784866958, -0.414533602367010, -0.241054060321031,\n",
       "       -0.227150040368868, -0.291695577910296, -0.351425629480170,\n",
       "       -0.357526640785116, -0.242439491752197, -0.211603134240112,\n",
       "       -0.188035105850475, -0.131552283702387, -0.212809978615729,\n",
       "       -0.203927470621839, -0.294843586128183, -0.294572339193871,\n",
       "       -0.318588004183093, -0.301885670731778, -0.327286467448813,\n",
       "       -0.207634541241785, -0.387605402896880, -0.357089851057728,\n",
       "       -0.376261769632677, -0.0996961272020241, -0.309450450392046,\n",
       "       -0.259010296615424, -0.357612986187570, -0.444915383667302,\n",
       "       -0.195626425855608, -0.178962564370226, -0.175898381253634,\n",
       "       -0.457896571583251, -0.219345653891242, -0.228718417814614,\n",
       "       -0.211434073397307, -0.220261903658640, -0.185047011376725,\n",
       "       -0.433447679664836, -0.120323127111274, -0.320809732873257,\n",
       "       -0.352875445170896, -0.408970941890957, -0.382323674657919,\n",
       "       -0.215046511961462, -0.317605710366606, -0.371135033252882,\n",
       "       -0.220728379485179, -0.313270814354598, -0.333340720151530,\n",
       "       -0.138891367553135, -0.402322888111172, -0.468131570584233,\n",
       "       -0.203941375296864, -0.119250239231849, -0.433943686639719,\n",
       "       -0.211243476079091, -0.367495180190605, -0.406914089889167,\n",
       "       -0.318271022579224, -0.248796526522625, -0.309678622942806,\n",
       "       -0.217102602315577, -0.392144630283097, -0.203533181652399,\n",
       "       -0.271027208132789, -0.201589304461595, -0.194181496216711,\n",
       "       -0.270550237138645, -0.457420610170303, -0.253185790673530,\n",
       "       -0.315747762476258, -0.389493445310718, -0.294908041086787,\n",
       "       -0.403376845851716, -0.289230897580020, -0.276127832353998,\n",
       "       -0.489035221732306, -0.320022962032897, -0.353386399893542,\n",
       "       -0.364444403418424, -0.464081487378282, -0.277382849221814,\n",
       "       -0.220662775932685, -0.198770039766380, -0.229605790390016,\n",
       "       -0.355450706409980, -0.258336442685222, -0.353011473269361,\n",
       "       -0.0419026475539434, -0.212621626731968, -0.563732689344796,\n",
       "       -0.202082332415275, -0.374334324911947, -0.232386714085890,\n",
       "       -0.393818914906080, -0.415847289257617, -0.319112418760837,\n",
       "       -0.407436719553060, -0.286068464192172, -0.383144445465202,\n",
       "       -0.289106036579733, -0.270309309810530, -0.524608781038737,\n",
       "       -0.352300130537549, -0.409974562675344, -0.322410116701076,\n",
       "       -0.246019579704568, -0.339407737882354, -0.433618693752664,\n",
       "       -0.190287301095033, -0.290686341321430, -0.217654757962676,\n",
       "       -0.240007120369442, -0.317224578583658, -0.177453953514405,\n",
       "       -0.205837190340315, -0.171740855928309, -0.387708109755985,\n",
       "       -0.323753501024612, -0.372556539621557, -0.123958162555221,\n",
       "       -0.0727060902515744, -0.231534782360051, -0.479921895588855,\n",
       "       -0.394464787853452, -0.399110161425563, -0.335994118659147,\n",
       "       -0.193970685667189, -0.0761504661967096, -0.295992918001740,\n",
       "       -0.224970251230268, -0.443621114728225, -0.215573984664599,\n",
       "       -0.339388219134236, -0.224917675027580, -0.582438270421038,\n",
       "       -0.265176489435709, -0.485194084244896, -0.0128976017003793,\n",
       "       -0.366423819262680, -0.276802736705547, -0.293408035870008,\n",
       "       -0.348378976218082, -0.234201272043679, -0.0788523697100190,\n",
       "       -0.376582920344782, -0.462683511382224, -0.429090673893090,\n",
       "       -0.309574880733848, -0.107609841731465, -0.323087071059959,\n",
       "       -0.244139633958594, -0.326945435587352, -0.243859390540693,\n",
       "       -0.397884752001513, -0.352717179107521, -0.373737882806505,\n",
       "       -0.162500777295901, -0.390923961055986, -0.217928033600342,\n",
       "       -0.280405982275253, -0.162967096914948, -0.428428022193147,\n",
       "       -0.0921686167666330, -0.147119749411037, -0.282116726949397,\n",
       "       -0.183423036591762, -0.287329352305167, -0.182114366630059,\n",
       "       -0.267185694965282, -0.317634852792445, -0.0730835620263936,\n",
       "       -0.0513236003143447, -0.202364259788413, -0.0615044345850455,\n",
       "       0.00877191637396910, -0.424509017442653, -0.181157314396891,\n",
       "       -0.349098983298119, -0.208129627402701, -0.175764970026515,\n",
       "       -0.286504854568787, -0.389945616772557, -0.112194579254300,\n",
       "       -0.383513023026684, -0.340008085218835, -0.352396083205531,\n",
       "       -0.187975733016872, -0.185831413923593, -0.204162691011894,\n",
       "       -0.185402647927736, -0.190678763562959, -0.249499051876963,\n",
       "       -0.193411023937038, -0.246388092034519, -0.179404695750946,\n",
       "       -0.204954456998748, -0.261420317743746, -0.0897312070682818,\n",
       "       -0.0144373076741879, -0.303793683801850, -0.189006637538850,\n",
       "       -0.0924853856552079, -0.0379183042020845, -0.0973218586111657,\n",
       "       -0.282871228673020, -0.213222680593338, -0.0410279056281648,\n",
       "       -0.102852798495106, -0.146337024445264, -0.279521825075075,\n",
       "       -0.187723109319061, -0.204629665664811, -0.0835446307686439,\n",
       "       -0.0551782410912044, -0.232651741079650, -0.0163384590131938,\n",
       "       -0.245616497975420, -0.161165533718484, -0.223783980575395,\n",
       "       -0.152793871170681, -0.107335484269593, 0.0487977578632147,\n",
       "       -0.127537778645407, 0.138046681390219, -0.175757213351990,\n",
       "       -0.0538203064575491, -0.274950229631631, 0.0200174588629781,\n",
       "       -0.0724382236605053, -0.343403355805232, -0.132008089160988,\n",
       "       -0.0942690717523118, -0.0358808257666413, -0.111455058082700,\n",
       "       0.0148730746097749, -0.168812460060529, -0.198969680291854,\n",
       "       -0.0366188255776720, -0.0995312524719625, -0.0627430818410314,\n",
       "       -0.168928800156151, 0.0991656588023286, 0.00105795504152567,\n",
       "       -0.177252327787537, -0.0292405143204614, -0.0791269926230689,\n",
       "       0.0222996025765922, -0.0502977459406176, 0.00545907105335922,\n",
       "       -0.0219586749486280, 0.0583559026666270, -0.0663071308882274,\n",
       "       0.105891993435286, 0.0398923017883162, -0.0118580765311830,\n",
       "       -0.0924721321266687, 0.0640272145253857, 0.0210487611584442,\n",
       "       0.0378532504948122, 0.0662676395254816, 0.00119976037888991,\n",
       "       -0.0635218755763066, 0.0293460274402362, -0.0108173323098723,\n",
       "       0.0987197326859169, 0.251045887315772, 0.0201137963877524,\n",
       "       -0.0953618665106498, 0.00756999525234790, 0.0729417768987354,\n",
       "       0.0347711694386232, -0.00464700021433262, -0.0775909791906566,\n",
       "       0.0564315942452561, -0.0485808482238701, 0.0998733370882976,\n",
       "       0.125463736294719, 0.107248397150054, 0.00587053152439193,\n",
       "       0.0458782273887524, 0.0552404877760763, -0.0667779537332634,\n",
       "       0.0204963854249069, -0.190037730568245, 0.0836680651120908,\n",
       "       0.0430930032458647, 0.189384132924393, 0.291848507055247,\n",
       "       0.0858584047390568, 0.0511251736549513, 0.226356749516692,\n",
       "       -0.0291007083902698, 0.0886720628337618, 0.0234848895831597,\n",
       "       -0.0414222012189072, -0.0399007044499845, 0.121439857250332,\n",
       "       0.0911989238891456, 0.0230425055483701, 0.0346856556509179,\n",
       "       0.0352718729436118, 0.0699073145313392, -0.0913962379699852,\n",
       "       0.000310623775570965, -0.0343003759797080, 0.0665745667784504,\n",
       "       0.154450643171776, 0.187532682022059, 0.186888535426469,\n",
       "       0.147318892190190, 0.0823300076870190, 0.152177628917801,\n",
       "       0.0936682116486988, 0.228684328845556, 0.189651024921916,\n",
       "       0.148872273680892, 0.109756313239197, 0.172193829832717,\n",
       "       0.240149532217572, 0.193957108567324, 0.0898814637064725,\n",
       "       0.227386926535226, 0.130782013242081, 0.131018236092893,\n",
       "       0.171477531739844, 0.0636495783561911, 0.129123392502072,\n",
       "       0.317273055790484, 0.390002007903287, 0.307682654632799,\n",
       "       0.205492327060074, 0.0290810783434822, 0.0987239649342707,\n",
       "       0.361652499686978, 0.181715302132690, 0.210368452332806,\n",
       "       -0.0265539577375711, 0.0708248227410485, 0.120023531234878,\n",
       "       0.131946886919590, 0.305499245682218, 0.202022462783115,\n",
       "       -0.103238640840714, 0.233282989376385, 0.106857649584852,\n",
       "       0.165908076748863, 0.236058223560165, 0.301704444998034,\n",
       "       0.211032646331828, 0.183711124249156, 0.115615795053640,\n",
       "       0.226382538919730, 0.151008687101787, 0.332494607656331,\n",
       "       0.119477329555090, 0.110963100577294, 0.164761321912510,\n",
       "       0.163255768171796, 0.254538341803925, 0.276896881690250,\n",
       "       0.275846322768271, 0.222618677552640, 0.360113832388887,\n",
       "       0.197145465483302, 0.210971312512175, 0.157678354094480,\n",
       "       0.197085610240952, 0.146808060382910, 0.0681682816590731,\n",
       "       0.0776122201959776, 0.267983754016802, 0.100116781962866,\n",
       "       0.406885408954842, 0.236248373057352, 0.477335189374242,\n",
       "       0.132022750029334, 0.322028452366850, 0.187861942970506,\n",
       "       0.459684271777442, 0.314074017538094, 0.273372869563823,\n",
       "       0.221289501795614, 0.335388393816966, 0.180469570885228,\n",
       "       0.173961254072123, 0.362055930388237, 0.383722300174664,\n",
       "       0.193906625567980, 0.235631307727123, 0.237251873182196,\n",
       "       0.360248181575793, 0.0409856158959681, 0.283981415046403,\n",
       "       0.338741306645526, 0.182742003055135, 0.192903282475665,\n",
       "       0.151978759630591, 0.286397754442333, 0.263852395173312,\n",
       "       0.306387637533070, 0.227802694233746, 0.381740617483545,\n",
       "       0.235938302406679, 0.365271729659754, 0.193481741939676,\n",
       "       0.221462853771602, 0.195038344483591, 0.228396365329467,\n",
       "       0.229460927813555, 0.191840124844649, 0.345232386918338,\n",
       "       0.312384105792468, 0.298666292451542, 0.336907980418472,\n",
       "       0.294595397499609, 0.149781309963567, 0.308434396799098,\n",
       "       0.419209707481485, 0.152684949437751, 0.339057348798717,\n",
       "       0.308981388258676, 0.101455446970183, 0.101484535002105,\n",
       "       0.248158949962277, 0.299702464837839, 0.199360488936977,\n",
       "       0.283925391653506, 0.202110308408759, 0.263193609284779,\n",
       "       0.479038282902688, 0.239166297641385, 0.233327321519880,\n",
       "       0.261371452262001, 0.331478079571888, 0.236257290202170,\n",
       "       0.431047496604747, 0.123410955257035, 0.346644992732056,\n",
       "       0.274693796222067, 0.264804626660883, 0.231937860163623,\n",
       "       0.248988712974050, 0.453613469968243, 0.276320164941843,\n",
       "       0.295651753281678, 0.181197451294711, 0.298388094994356,\n",
       "       0.386354383569301, 0.336681310311091, 0.160444226792833,\n",
       "       0.112538796427277, 0.165451707718503, 0.283299878395029,\n",
       "       0.341756693628690, 0.291058199972715, 0.209810559722241,\n",
       "       0.221554233892173, 0.266698769792411, 0.116050906105944,\n",
       "       0.146606545455431, 0.251075669748539, 0.256728996580362,\n",
       "       0.275070367472646, 0.283023424036613, 0.308127413838456,\n",
       "       0.287435514356930, 0.280853408903410, 0.287454759001218,\n",
       "       0.262029666824176, 0.237062480041149, 0.221870901003785,\n",
       "       0.319039158355842, 0.454279638807390, 0.360195208305966,\n",
       "       0.193024662256079, 0.287598124692592, 0.289965965573978,\n",
       "       0.206534957746961, 0.259273073486870, 0.0436038743371527,\n",
       "       0.309387446730070, 0.274276783456406, 0.361016788592679,\n",
       "       0.235687478798888, 0.328023276559272, 0.346264451623216,\n",
       "       0.309169103568196, 0.213256358214461, 0.241065010010795,\n",
       "       0.354217070401005, 0.299870729955333, 0.175039328282782,\n",
       "       0.167313310490010, 0.168622479920301, 0.295240773137906,\n",
       "       0.119604177863608, 0.311131960195322, 0.294810493305280,\n",
       "       0.215166110929001, 0.367659604681309, 0.160836392642218,\n",
       "       0.151437870758702, 0.372286053392564, 0.325962054249549,\n",
       "       0.228071492842161], dtype=object)"
      ]
     },
     "execution_count": 176,
     "metadata": {},
     "output_type": "execute_result"
    }
   ],
   "source": [
    "y_data"
   ]
  },
  {
   "cell_type": "code",
   "execution_count": 207,
   "metadata": {},
   "outputs": [],
   "source": [
    "sine=FunctionalModel(parameters=[\"A\",\"phi\"],variables=\"z\",equation=\"A*sin(2*pi*z+phi)\")"
   ]
  },
  {
   "cell_type": "code",
   "execution_count": 217,
   "metadata": {},
   "outputs": [],
   "source": [
    "new_function=sine/(bessel2+2)"
   ]
  },
  {
   "cell_type": "code",
   "execution_count": 197,
   "metadata": {},
   "outputs": [
    {
     "data": {
      "text/plain": [
       "sympy.core.add.Add"
      ]
     },
     "execution_count": 197,
     "metadata": {},
     "output_type": "execute_result"
    }
   ],
   "source": [
    "type(bessel2.equation)"
   ]
  },
  {
   "cell_type": "code",
   "execution_count": 198,
   "metadata": {},
   "outputs": [
    {
     "data": {
      "text/plain": [
       "sympy.core.mul.Mul"
      ]
     },
     "execution_count": 198,
     "metadata": {},
     "output_type": "execute_result"
    }
   ],
   "source": [
    "type(sine.equation)"
   ]
  },
  {
   "cell_type": "code",
   "execution_count": 218,
   "metadata": {},
   "outputs": [
    {
     "data": {
      "image/png": "[encoded data removed]",
      "text/plain": [
       "<Figure size 432x288 with 1 Axes>"
      ]
     },
     "metadata": {
      "needs_background": "light"
     },
     "output_type": "display_data"
    }
   ],
   "source": [
    "new_function.set_parameters({\"A\":1,\"B\":1,\"phi\":0})\n",
    "plt.plot(x_data,new_function(x_data))\n",
    "plt.title(r\"${0}$\".format(new_function.to_latex()))\n",
    "plt.show()"
   ]
  },
  {
   "cell_type": "code",
   "execution_count": 220,
   "metadata": {},
   "outputs": [
    {
     "name": "stdout",
     "output_type": "stream",
     "text": [
      "A*(-A*(besselj(0, z)/2 - besselj(2, z)/2) - B*(besselj(1, z)/2 - besselj(3, z)/2))*sin(phi + 2*pi*z)/(A*besselj(1, z) + B*besselj(2, z) + 2)**2 + 2*pi*A*cos(phi + 2*pi*z)/(A*besselj(1, z) + B*besselj(2, z) + 2)\n"
     ]
    }
   ],
   "source": [
    "print(new_function.d(\"z\"))"
   ]
  },
  {
   "cell_type": "code",
   "execution_count": null,
   "metadata": {},
   "outputs": [],
   "source": []
  }
 ],
 "metadata": {
  "kernelspec": {
   "display_name": "Python 3",
   "language": "python",
   "name": "python3"
  },
  "language_info": {
   "codemirror_mode": {
    "name": "ipython",
    "version": 3
   },
   "file_extension": ".py",
   "mimetype": "text/x-python",
   "name": "python",
   "nbconvert_exporter": "python",
   "pygments_lexer": "ipython3",
   "version": "3.7.0"
  }
 },
 "nbformat": 4,
 "nbformat_minor": 2
}
