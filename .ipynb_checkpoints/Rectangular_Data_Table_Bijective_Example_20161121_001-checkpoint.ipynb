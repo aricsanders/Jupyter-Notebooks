{
 "cells": [
  {
   "cell_type": "markdown",
   "metadata": {},
   "source": [
    "# Example of data translation using a bijective graph\n",
    "The graph method creates a series of interlocking nodes that have transformations between themselves. There are a few basic rules:\n",
    "1. Any node has an edge into and out of itself\n",
    "2. Any path that results in the same end location creates the same node \n",
    "\n",
    "## This example is one of a rectangular table, a set of column modeled data. \n",
    "### This graph has the folowing nodes, and hence transformations between all of them\n",
    "1. n1, 'Pandas Data Frame', in memory \n",
    "2. n2, 'AsciiDataTable', in memory\n",
    "3. n3, 'HDF File', on disk\n",
    "4. n4, 'XML Data Table',in memory\n",
    "5. n5, 'Excel File', on disk\n",
    "6. n6, 'HTML String',in memory\n",
    "7. n7, 'JSON File', on disk\n",
    "8. n8, 'JSON String',in memory\n",
    "9. n9,'CSV File', on disk\n",
    "10. n10, 'Matlab File', on disk"
   ]
  },
  {
   "cell_type": "code",
   "execution_count": 136,
   "metadata": {
    "collapsed": false
   },
   "outputs": [],
   "source": [
    "from pyMeasure import *\n",
    "import pandas\n",
    "from scipy.io import savemat,loadmat\n",
    "import re\n",
    "import datetime\n",
    "import numpy as np\n",
    "from ipywidgets import *\n",
    "import json\n",
    "import networkx"
   ]
  },
  {
   "cell_type": "code",
   "execution_count": 211,
   "metadata": {
    "collapsed": true
   },
   "outputs": [],
   "source": [
    "\n",
    "\n",
    "def edge_1_to_2(in_string):\n",
    "    return in_string.splitlines()\n",
    "    \n",
    "def edge_2_to_1(string_list):\n",
    "    return string_list_collapse(string_list)\n",
    "\n",
    "class Graph():\n",
    "    def __init__(self,**options):\n",
    "        \"\"\"Initializes the graph. The first 2 nodes and two edges forming a bijection between them are required\"\"\"\n",
    "        defaults={\"graph_name\":\"Graph\",\n",
    "                  \"node_names\":['n1','n2'],\n",
    "                  \"node_descriptions\":{'n1':\"A plain string\",\n",
    "                                       'n2':\"A list of strings with no \\\\n, created with string.splitlines()\"},\n",
    "                  \"current_node\":'n1',\n",
    "                  \"state\":[1,0],\n",
    "                  \"data\":\"This is a test string\\n it has to have multiple lines \\n and many characters 34%6\\n^\",\n",
    "                  \"edge_2_to_1\":edge_2_to_1,\n",
    "                  \"edge_1_to_2\":edge_1_to_2\n",
    "                 }\n",
    "        self.options={}\n",
    "        for key,value in defaults.iteritems():\n",
    "            self.options[key]=value\n",
    "        for key,value in options.iteritems():\n",
    "            self.options[key]=value\n",
    "        self.elements=['graph_name','node_names','node_descriptions','current_node','state','data']\n",
    "        for element in self.elements:\n",
    "            self.__dict__[element]=self.options[element]\n",
    "        self.edges=[]\n",
    "        self.edge_matrices=[]\n",
    "        self.state_matrix=np.matrix(self.state).T\n",
    "        # Add the first 2 edges, required to intialize the graph properly\n",
    "        self.add_edge(self.node_names[0],self.node_names[1],self.options[\"edge_1_to_2\"])\n",
    "        self.add_edge(self.node_names[1],self.node_names[0],self.options[\"edge_2_to_1\"])\n",
    "        \n",
    "    def set_state(self,node_name,node_data):\n",
    "        \"\"\"Sets the graph state to be the state specified by node_name, and node_data\"\"\"\n",
    "        try:\n",
    "            current_node_state_position=self.node_names.index(node_name)\n",
    "            self.current_node=node_name\n",
    "            self.data=node_data\n",
    "            self.state=[0 for i in range(len(self.node_names))]\n",
    "            self.state[current_node_state_position]=1\n",
    "            self.state_matrix=np.matrix(self.state).T\n",
    "        except:\n",
    "            print(\"Could not set the state of graph: {0}\".format(self.graph_name))\n",
    "            raise\n",
    "            \n",
    "    def add_edge(self,begin_node=None,end_node=None,edge_function=None):\n",
    "        \"\"\"Adds an edge mapping one node to another, required input is begin_node (it's name)\n",
    "        end_node, and the edge function\"\"\"\n",
    "        # check to see if edge is defined if it is increment a number\n",
    "        edge_match=re.compile(\"edge_{0}_{1}\".format(begin_node,end_node))\n",
    "        keys=self.__dict__.keys()\n",
    "        #print keys\n",
    "        iterator=0\n",
    "        for key in keys:\n",
    "            if re.match(edge_match,key):\n",
    "                iterator+=1\n",
    "        edge_name=\"edge_{0}_{1}_{2:0>3d}\".format(begin_node,end_node,iterator)\n",
    "        self.__dict__[edge_name]=edge_function\n",
    "        self.edges.append(edge_name)\n",
    "        edge_matrix=np.zeros((len(self.state),len(self.state)))\n",
    "        begin_position=self.node_names.index(begin_node)\n",
    "        end_position=self.node_names.index(end_node)\n",
    "        edge_matrix[end_position][begin_position]=1\n",
    "        edge_matrix=np.matrix(edge_matrix)\n",
    "        self.edge_matrices.append(edge_matrix)\n",
    "        \n",
    "    def move_to(self,path):\n",
    "        \"\"\"Changes the state of the graph by moving along the path specified\"\"\"\n",
    "        print path\n",
    "        for index,edge in enumerate(path):\n",
    "            #print edge\n",
    "            edge_pattern='edge_(?P<begin_node>\\w+)_(?P<end_node>\\w+)_(?P<iterator>\\w+)'\n",
    "            match=re.match(edge_pattern,edge)\n",
    "            begin_node=match.groupdict()['begin_node']\n",
    "            end_node=match.groupdict()['end_node']\n",
    "            print(\"moving {0} -> {1}\".format(begin_node,end_node))\n",
    "            #print self.data\n",
    "            self.data=self.__dict__[edge](self.data)\n",
    "            #print self.data\n",
    "            self.current_node=match.groupdict()['end_node']\n",
    "            self.state=[0 for i in range(len(self.node_names))]\n",
    "            position=self.node_names.index(self.current_node)\n",
    "            self.state[position]=1\n",
    "            self.state_matrix=np.matrix(self.state).T\n",
    "            #print self.state\n",
    "            #print self.current_node\n",
    "            \n",
    "    def virtual_move_to(self,path):\n",
    "        \"\"\"virtual_move_to simulates moving but does not change the state of the graph\"\"\"\n",
    "        #print path\n",
    "        temp_state=self.state\n",
    "        temp_data=self.data\n",
    "        temp_current_node=self.current_node\n",
    "        temp_node_names=self.node_names\n",
    "        for index,edge in enumerate(path):\n",
    "            #print edge\n",
    "            edge_pattern='edge_(?P<begin_node>\\w+)_(?P<end_node>\\w+)_(?P<iterator>\\w+)'\n",
    "            match=re.match(edge_pattern,edge)\n",
    "            begin_node=match.groupdict()['begin_node']\n",
    "            end_node=match.groupdict()['end_node']\n",
    "            #print(\"moving {0} -> {1}\".format(begin_node,end_node))\n",
    "            #print self.data\n",
    "            temp_data=self.__dict__[edge](temp_data)\n",
    "            #print self.data\n",
    "            temp_current_node=match.groupdict()['end_node']\n",
    "            temp_state=[0 for i in range(len(temp_node_names))]\n",
    "            position=temp_node_names.index(temp_current_node)\n",
    "            temp_state[position]=1\n",
    "            #print temp_state\n",
    "            #print self.state\n",
    "            #print self.current_node  \n",
    "            \n",
    "    def __str__(self):\n",
    "        return str(self.data)\n",
    "    \n",
    "    def add_node(self,node_name,edge_into_node_begin,edge_into_node_function,edge_out_node_end,\n",
    "                 edge_out_node_function):\n",
    "        \"\"\"Adds a node to the graph. Required input is node_name (a string with no spaces), \n",
    "        a reference to an entering node,the function mapping the entering node to the new node, \n",
    "        a reference to an exiting node and the function mapping the\n",
    "        new node to the exiting node.\"\"\"\n",
    "        # first check if node into and out of node is good\n",
    "        self.node_names.append(node_name)\n",
    "        self.state.append(0)\n",
    "        self.state_matrix=np.matrix(self.state).T\n",
    "        for index,matrix in enumerate(self.edge_matrices):\n",
    "            pad_row=np.zeros((1,len(matrix)))\n",
    "            new_matrix=np.concatenate((matrix, pad_row), axis=0)\n",
    "            pad_column=np.zeros((1,len(self.node_names)))\n",
    "            new_matrix=np.concatenate((new_matrix, pad_column.T), axis=1)\n",
    "            #print(\"New matrix is :\\n{0}\".format(new_matrix))\n",
    "            self.edge_matrices[index]=new_matrix\n",
    "        self.add_edge(begin_node=node_name,end_node=edge_out_node_end,edge_function=edge_out_node_function)\n",
    "        self.add_edge(begin_node=edge_into_node_begin,end_node=node_name,edge_function=edge_into_node_function)\n",
    "    \n",
    "    def path_length(self,path,num_repeats=10):\n",
    "        \"\"\"Determines the length of a given path, currently the metric is based on the time to move to.\"\"\"\n",
    "        begin_time=datetime.datetime.now()\n",
    "        #num_repeats=100\n",
    "        for i in range(num_repeats):\n",
    "            self.virtual_move_to(path)\n",
    "        end_time=datetime.datetime.now()\n",
    "        delta_t=end_time-begin_time\n",
    "        path_length=delta_t.total_seconds()/float(num_repeats)\n",
    "        if path_length ==0.0:\n",
    "            print(\"Warning the path length is less than 1 microsecond,\" \n",
    "                  \"make sure num_repeats is high enough to measure it.\")\n",
    "        return path_length\n",
    "                \n",
    "    def is_path_valid(self,path):\n",
    "        \"\"\"Returns True if the path is valid from the current node position or False otherwise\"\"\"\n",
    "        null_state=[0 for i in range(len(self.node_names))]\n",
    "        null_state_matrix=np.matrix(null_state).T\n",
    "        new_state=np.matrix(self.state).T\n",
    "        for index,edge in enumerate(path):\n",
    "            #print index\n",
    "            #print edge\n",
    "            edge_position=self.edges.index(edge)\n",
    "            move_matrix=self.edge_matrices[edge_position]\n",
    "            #print move_matrix\n",
    "            new_state=move_matrix*new_state\n",
    "            if new_state.any()==null_state_matrix.any():\n",
    "                #print new_state\n",
    "                #print null_state_matrix\n",
    "                return False\n",
    "        return True\n",
    "            \n",
    "            \n",
    "    def get_entering_nodes(self,node): \n",
    "        \"\"\"Returns all nodes that have an edge that enter the specificed node\"\"\"\n",
    "        enter_edge_pattern=re.compile('edge_(?P<begin_node>\\w+)_{0}_(?P<iterator>\\w+)'.format(node))\n",
    "        enter_nodes=[]\n",
    "        for index,edge in enumerate(self.edges):\n",
    "            enter_match=re.match(enter_edge_pattern,edge)\n",
    "            if enter_match:\n",
    "                enter_node=enter_match.groupdict()['begin_node']\n",
    "                enter_nodes.append(enter_node)\n",
    "        return enter_nodes\n",
    "    \n",
    "    def get_entering_edges(self,node): \n",
    "        \"\"\"Returns all edges that enter the specificed node\"\"\"\n",
    "        enter_edge_pattern=re.compile('edge_(?P<begin_node>\\w+)_{0}_(?P<iterator>\\w+)'.format(node))\n",
    "        enter_edges=[]\n",
    "        for index,edge in enumerate(self.edges):\n",
    "            if re.match(enter_edge_pattern,edge):\n",
    "                enter_edges.append(edge)\n",
    "        return enter_edges\n",
    "    \n",
    "    def get_exiting_edges(self,node):\n",
    "        \"\"\"Returns all edges that exit the specificed node\"\"\"\n",
    "        exit_edge_pattern=re.compile('edge_{0}_(?P<end_node>\\w+)_(?P<iterator>\\w+)'.format(node))\n",
    "        exit_edges=[]\n",
    "        for index,edge in enumerate(self.edges):\n",
    "            if re.match(exit_edge_pattern,edge):\n",
    "                exit_edges.append(edge)\n",
    "        return exit_edges \n",
    "    \n",
    "    def get_exiting_nodes(self,node): \n",
    "        \"\"\"Returns all nodes that have an edge leaving the specificed node\"\"\"\n",
    "        exit_edge_pattern=re.compile('edge_{0}_(?P<end_node>\\w+)_(?P<iterator>\\w+)'.format(node))\n",
    "        exit_nodes=[]\n",
    "        for index,edge in enumerate(self.edges):\n",
    "            exit_match=re.match(exit_edge_pattern,edge)\n",
    "            if exit_match:\n",
    "                exit_node=exit_match.groupdict()['end_node']\n",
    "                exit_nodes.append(exit_node)\n",
    "        return exit_nodes\n",
    "    \n",
    "    def get_path(self,first_node,last_node):\n",
    "        \"\"\"Returns the first path found between first node and last node\"\"\"\n",
    "        edge_pattern=re.compile('edge_(?P<begin_node>\\w+)_(?P<end_node>\\w+)_(?P<iterator>\\w+)')\n",
    "        exit_paths=self.get_exiting_edges(first_node)\n",
    "        next_nodes=self.get_exiting_nodes(first_node)\n",
    "        #be careful here using the wrong assignment statement breaks this function \n",
    "        possible_paths=[]\n",
    "        for exit_path in exit_paths:\n",
    "            possible_paths.append([exit_path])\n",
    "        #print(\"{0} is {1}\".format('possible_paths',possible_paths))\n",
    "        for i in range(len(self.node_names)):\n",
    "            for index,path in enumerate(possible_paths):\n",
    "                last_edge=path[-1]\n",
    "                match=re.match(edge_pattern,last_edge)\n",
    "                begin_node=match.groupdict()['begin_node']\n",
    "                end_node=match.groupdict()['end_node']\n",
    "                #print next_node\n",
    "                if end_node==last_node:\n",
    "                    #print(\"The path found is {0}\".format(path))\n",
    "                    return path\n",
    "                next_possible_paths=[]\n",
    "                next_edges=self.get_exiting_edges(end_node)\n",
    "                next_nodes=self.get_exiting_nodes(end_node)\n",
    "                #print(\"{0} is {1}\".format('next_edges',next_edges))\n",
    "                for index,next_edge in enumerate(next_edges):\n",
    "                    #be careful here using the wrong assignment statement breaks this function \n",
    "                    #next_path=path is a deal breaker!! \n",
    "                    next_path=[]\n",
    "                    for edge in path:\n",
    "                        next_path.append(edge)\n",
    "                    #print(\"{0} is {1}\".format('next_path',next_path))\n",
    "                    #print(\"{0} is {1}\".format('next_edge',next_edge))\n",
    "                    #next_node=next_nodes[index]\n",
    "                    #print next_node\n",
    "                    next_match=re.match(edge_pattern,next_edge)\n",
    "                    next_node=next_match.groupdict()[\"end_node\"]\n",
    "                    begin_node_next_edge=next_match.groupdict()[\"begin_node\"]\n",
    "                    #print(\"{0} is {1}\".format('next_node',next_node))\n",
    "                    #print(\"{0} is {1}\".format('begin_node_next_edge',begin_node_next_edge))\n",
    "                    \n",
    "                    if next_node==last_node and begin_node_next_edge==end_node:\n",
    "                        next_path.append(next_edge)\n",
    "                        #print(\"The path found is {0}\".format(next_path))\n",
    "                        return next_path\n",
    "                    elif begin_node_next_edge==end_node:\n",
    "                        next_path.append(next_edge)\n",
    "                        next_possible_paths.append(next_path)\n",
    "                        #print(\"{0} is {1}\".format('next_possible_paths',next_possible_paths))\n",
    "                    else:\n",
    "                        self.get_path(next_node,last_node)\n",
    "\n",
    "                    #print(\"{0} is {1}\".format('next_possible_paths',next_possible_paths))\n",
    "                possible_paths=next_possible_paths\n",
    "                #print(\"{0} is {1}\".format('possible_paths',possible_paths))\n",
    "    \n",
    "    def move_to_node(self,node):\n",
    "        \"\"\"Moves from current_node to the specified node\"\"\"\n",
    "        path=self.get_path(self.current_node,node)\n",
    "        self.move_to(path)\n",
    "            \n",
    "    def check_closed_path(self):\n",
    "        \"\"\"Checks that data is not changed for the first closed path found. Returns True if data==data after\n",
    "        moving around the closed path, False otherwise. Starting point is current_node \"\"\"\n",
    "        temp_data=self.data\n",
    "        path=self.get_path(self.current_node,self.current_node)\n",
    "        if self.is_path_valid(path):\n",
    "            pass\n",
    "        else:\n",
    "            print(\"Path is not valid, graph definition is broken\")\n",
    "            raise\n",
    "        out=temp_data==self.data\n",
    "        out_list=[self.current_node,path,out]\n",
    "        print(\"The assertion that the data remains unchanged,\\n\" \n",
    "              \"for node {0} following path {1} is {2}\".format(*out_list))\n",
    "        return out \n",
    "    \n",
    "    def is_graph_isomorphic(self):\n",
    "        \"\"\"Returns True if all nodes have closed paths that preserve the data, False otherwise\"\"\"\n",
    "        out=True\n",
    "        for node in self.node_names:\n",
    "            self.move_to_node(node)\n",
    "            if not self.check_closed_path:\n",
    "                out=False\n",
    "        return out\n",
    "            \n",
    "            \n"
   ]
  },
  {
   "cell_type": "code",
   "execution_count": 212,
   "metadata": {
    "collapsed": false
   },
   "outputs": [
    {
     "name": "stdout",
     "output_type": "stream",
     "text": [
      "The self.metadata[\"Device_Id\"] variable is 700437\n"
     ]
    }
   ],
   "source": [
    "options={}\n",
    "options[\"data\"]=[[1,2,3],[4,5,6]]\n",
    "options[\"column_names\"]=['a','b','c']\n",
    "table=AsciiDataTable(None,**options)\n",
    "table=OnePortCalrepModel(os.path.join(TESTS_DIRECTORY,'700437.asc'))\n",
    "table=SNP(os.path.join(TESTS_DIRECTORY,'Solution_0.s4p'))\n",
    "data_frame=AsciiDataTable_to_DataFrame(table)"
   ]
  },
  {
   "cell_type": "code",
   "execution_count": 213,
   "metadata": {
    "collapsed": true
   },
   "outputs": [],
   "source": [
    "graph_options={\"graph_name\":\"Rectangular Graph\",\n",
    "                  \"node_names\":['n1','n2'],\n",
    "                  \"node_descriptions\":[\"Pandas Data Frame\",\"AsciiDataTable\"],\n",
    "                  \"current_node\":'n1',\n",
    "                  \"state\":[1,0],\n",
    "                  \"data\":data_frame,\n",
    "                  \"edge_2_to_1\":AsciiDataTable_to_DataFrame,\n",
    "                  \"edge_1_to_2\":DataFrame_to_AsciiDataTable\n",
    "                 }\n",
    "rect_graph=Graph(**graph_options)"
   ]
  },
  {
   "cell_type": "code",
   "execution_count": 214,
   "metadata": {
    "collapsed": false
   },
   "outputs": [
    {
     "name": "stdout",
     "output_type": "stream",
     "text": [
      "['edge_n1_n2_000', 'edge_n2_n1_000']\n",
      "moving n1 -> n2\n",
      "moving n2 -> n1\n",
      "['edge_n1_n2_000']\n",
      "moving n1 -> n2\n"
     ]
    },
    {
     "data": {
      "text/plain": [
       "True"
      ]
     },
     "execution_count": 214,
     "metadata": {},
     "output_type": "execute_result"
    }
   ],
   "source": [
    "rect_graph.is_graph_isomorphic()"
   ]
  },
  {
   "cell_type": "code",
   "execution_count": 206,
   "metadata": {
    "collapsed": false
   },
   "outputs": [
    {
     "name": "stdout",
     "output_type": "stream",
     "text": [
      "['edge_n2_n1_000', 'edge_n1_n2_000']\n",
      "moving n2 -> n1\n",
      "moving n1 -> n2\n"
     ]
    }
   ],
   "source": [
    "rect_graph.move_to_node(\"n2\")"
   ]
  },
  {
   "cell_type": "code",
   "execution_count": 7,
   "metadata": {
    "collapsed": false
   },
   "outputs": [],
   "source": [
    "#print rect_graph.data"
   ]
  },
  {
   "cell_type": "code",
   "execution_count": 215,
   "metadata": {
    "collapsed": false
   },
   "outputs": [],
   "source": [
    "# need to rename these Model1_to_Model2\n",
    "def edge_1_to_3(pandas_data_frame):\n",
    "    pandas_data_frame.to_hdf(\"Test.hdf\",\"table\")\n",
    "    return \"Test.hdf\"\n",
    "def edge_3_to_1(hdf_file_name):\n",
    "    df=pandas.read_hdf(hdf_file_name,\"table\")\n",
    "    return df\n",
    "\n",
    "rect_graph.add_node(\"n3\",\"n1\",edge_1_to_3,\"n1\",edge_3_to_1)\n",
    "rect_graph.node_descriptions.append(\"HDF File\")\n",
    "\n",
    "def edge_4_to_2(xml_table):\n",
    "    \n",
    "    table=AsciiDataTable(None,\n",
    "                         column_names=xml_table.attribute_names,\n",
    "                         data=xml_table.data)\n",
    "    return table\n",
    "\n",
    "def edge_2_to_4(data_table):\n",
    "    xml=AsciiDataTable_to_XMLDataTable(data_table)\n",
    "    return xml\n",
    "\n",
    "rect_graph.add_node(\"n4\",\"n2\",edge_2_to_4,\"n2\",edge_4_to_2)\n",
    "rect_graph.node_descriptions.append(\"XML Data Table\")\n",
    "\n",
    "# Need to add XML File and Html File using save and save_HTML()\n",
    "\n",
    "\n",
    "def edge_1_to_5(pandas_data_frame,file_name=\"Test.xlsx\"):\n",
    "    pandas_data_frame.to_excel(file_name,index=False)\n",
    "    return file_name\n",
    "\n",
    "def edge_5_to_1(excel_file_name):\n",
    "    df=pandas.read_excel(excel_file_name)\n",
    "    return df\n",
    "\n",
    "rect_graph.add_node(\"n5\",\"n1\",edge_1_to_5,\"n1\",edge_5_to_1)\n",
    "rect_graph.node_descriptions.append(\"Excel File\")\n",
    "\n",
    "def edge_1_to_6(pandas_data_frame):\n",
    "    html=pandas_data_frame.to_html(index=False)\n",
    "    return html\n",
    "\n",
    "def edge_6_to_1(html_string):\n",
    "    list_df=pandas.read_html(html_string)\n",
    "    return list_df[0]\n",
    "\n",
    "rect_graph.add_node(\"n6\",\"n1\",edge_1_to_6,\"n1\",edge_6_to_1)\n",
    "rect_graph.node_descriptions.append(\"HTML String\")\n",
    "\n",
    "# Note a lot of the pandas reading and writing cause float64 round off errors\n",
    "# applymap(lambda x: np.around(x,10) any all float fields will fix this\n",
    "# also the column names move about in order\n",
    "\n",
    "def edge_1_to_7(pandas_data_frame):\n",
    "    json=pandas_data_frame.to_json(\"test.json\",orient='records')\n",
    "    return \"test.json\"\n",
    "\n",
    "def edge_7_to_1(json_file_name):\n",
    "    data_frame=pandas.read_json(json_file_name,orient='records')\n",
    "    return data_frame\n",
    "\n",
    "rect_graph.add_node(\"n7\",\"n1\",edge_1_to_7,\"n1\",edge_7_to_1)\n",
    "rect_graph.node_descriptions.append(\"JSON File\")\n",
    "\n",
    "def edge_1_to_8(pandas_data_frame):\n",
    "    json=pandas_data_frame.to_json(orient='records')\n",
    "    return json\n",
    "\n",
    "def edge_8_to_1(json_string):\n",
    "    data_frame=pandas.read_json(json_string,orient='records')\n",
    "    return data_frame\n",
    "\n",
    "rect_graph.add_node(\"n8\",\"n1\",edge_1_to_8,\"n1\",edge_8_to_1)\n",
    "rect_graph.node_descriptions.append(\"JSON String\")\n",
    "\n",
    "def edge_1_to_9(pandas_data_frame,file_name=\"test.csv\"):\n",
    "    json=pandas_data_frame.to_csv(file_name,index=False)\n",
    "    return file_name\n",
    "\n",
    "def edge_9_to_1(csv_file_name):\n",
    "    data_frame=pandas.read_csv(csv_file_name)\n",
    "    return data_frame\n",
    "\n",
    "rect_graph.add_node(\"n9\",\"n1\",edge_1_to_9,\"n1\",edge_9_to_1)\n",
    "rect_graph.node_descriptions.append(\"CSV File\")\n",
    "\n",
    "def edge_2_to_10(ascii_data_table,file_name=\"test.mat\"):\n",
    "    matlab_data_dictionary={\"data\":ascii_data_table.data,\"column_names\":ascii_data_table.column_names}\n",
    "    savemat(file_name,matlab_data_dictionary)\n",
    "    return file_name\n",
    "\n",
    "def edge_10_to_2(matlab_file_name):\n",
    "    matlab_data_dictionary=loadmat(matlab_file_name)\n",
    "    ascii_data_table=AsciiDataTable(None,\n",
    "                                    column_names=map(lambda x: x.rstrip().lstrip(),\n",
    "                                                     matlab_data_dictionary[\"column_names\"].tolist()),\n",
    "                                     data=matlab_data_dictionary[\"data\"].tolist())\n",
    "    return ascii_data_table\n",
    "\n",
    "rect_graph.add_node(\"n10\",\"n2\",edge_2_to_10,\"n2\",edge_10_to_2)\n",
    "rect_graph.node_descriptions.append(\"Matlab File\")\n",
    "\n",
    "def edge_4_to_11(xml_data_table,file_name=\"test.xml\"):\n",
    "    xml_data_table.save(file_name)\n",
    "    return file_name\n",
    "\n",
    "def edge_11_to_4(xml_file_name):\n",
    "    xml_data_table=DataTable(xml_file_name)\n",
    "    return xml_data_table\n",
    "\n",
    "rect_graph.add_node(\"n11\",\"n4\",edge_4_to_11,\"n4\",edge_11_to_4)\n",
    "rect_graph.node_descriptions.append(\"XML File\")\n",
    "\n",
    "def edge_7_to_4(json_file_string):\n",
    "    data_dictionary_list=json.load(open(json_file_string,'r'))\n",
    "    xml=DataTable(None,data_dictionary={\"data\":data_dictionary_list})\n",
    "    return xml\n",
    "rect_graph.add_edge(\"n7\",\"n4\",edge_7_to_4)"
   ]
  },
  {
   "cell_type": "code",
   "execution_count": 216,
   "metadata": {
    "collapsed": false
   },
   "outputs": [
    {
     "name": "stdout",
     "output_type": "stream",
     "text": [
      "['edge_n2_n1_000']\n",
      "moving n2 -> n1\n",
      "['edge_n1_n2_000']\n",
      "moving n1 -> n2\n",
      "['edge_n2_n1_000', 'edge_n1_n3_000']\n",
      "moving n2 -> n1\n",
      "moving n1 -> n3\n",
      "['edge_n3_n1_000', 'edge_n1_n2_000', 'edge_n2_n4_000']\n",
      "moving n3 -> n1\n",
      "moving n1 -> n2\n",
      "moving n2 -> n4\n",
      "None\n"
     ]
    },
    {
     "ename": "TypeError",
     "evalue": "'NoneType' object is not iterable",
     "output_type": "error",
     "traceback": [
      "\u001b[1;31m---------------------------------------------------------------------------\u001b[0m",
      "\u001b[1;31mTypeError\u001b[0m                                 Traceback (most recent call last)",
      "\u001b[1;32m<ipython-input-216-f3e41e0a8864>\u001b[0m in \u001b[0;36m<module>\u001b[1;34m()\u001b[0m\n\u001b[1;32m----> 1\u001b[1;33m \u001b[0mrect_graph\u001b[0m\u001b[1;33m.\u001b[0m\u001b[0mis_graph_isomorphic\u001b[0m\u001b[1;33m(\u001b[0m\u001b[1;33m)\u001b[0m\u001b[1;33m\u001b[0m\u001b[0m\n\u001b[0m",
      "\u001b[1;32m<ipython-input-211-4c5e8a80c672>\u001b[0m in \u001b[0;36mis_graph_isomorphic\u001b[1;34m(self)\u001b[0m\n\u001b[0;32m    291\u001b[0m         \u001b[0mout\u001b[0m\u001b[1;33m=\u001b[0m\u001b[0mTrue\u001b[0m\u001b[1;33m\u001b[0m\u001b[0m\n\u001b[0;32m    292\u001b[0m         \u001b[1;32mfor\u001b[0m \u001b[0mnode\u001b[0m \u001b[1;32min\u001b[0m \u001b[0mself\u001b[0m\u001b[1;33m.\u001b[0m\u001b[0mnode_names\u001b[0m\u001b[1;33m:\u001b[0m\u001b[1;33m\u001b[0m\u001b[0m\n\u001b[1;32m--> 293\u001b[1;33m             \u001b[0mself\u001b[0m\u001b[1;33m.\u001b[0m\u001b[0mmove_to_node\u001b[0m\u001b[1;33m(\u001b[0m\u001b[0mnode\u001b[0m\u001b[1;33m)\u001b[0m\u001b[1;33m\u001b[0m\u001b[0m\n\u001b[0m\u001b[0;32m    294\u001b[0m             \u001b[1;32mif\u001b[0m \u001b[1;32mnot\u001b[0m \u001b[0mself\u001b[0m\u001b[1;33m.\u001b[0m\u001b[0mcheck_closed_path\u001b[0m\u001b[1;33m:\u001b[0m\u001b[1;33m\u001b[0m\u001b[0m\n\u001b[0;32m    295\u001b[0m                 \u001b[0mout\u001b[0m\u001b[1;33m=\u001b[0m\u001b[0mFalse\u001b[0m\u001b[1;33m\u001b[0m\u001b[0m\n",
      "\u001b[1;32m<ipython-input-211-4c5e8a80c672>\u001b[0m in \u001b[0;36mmove_to_node\u001b[1;34m(self, node)\u001b[0m\n\u001b[0;32m    269\u001b[0m         \u001b[1;34m\"\"\"Moves from current_node to the specified node\"\"\"\u001b[0m\u001b[1;33m\u001b[0m\u001b[0m\n\u001b[0;32m    270\u001b[0m         \u001b[0mpath\u001b[0m\u001b[1;33m=\u001b[0m\u001b[0mself\u001b[0m\u001b[1;33m.\u001b[0m\u001b[0mget_path\u001b[0m\u001b[1;33m(\u001b[0m\u001b[0mself\u001b[0m\u001b[1;33m.\u001b[0m\u001b[0mcurrent_node\u001b[0m\u001b[1;33m,\u001b[0m\u001b[0mnode\u001b[0m\u001b[1;33m)\u001b[0m\u001b[1;33m\u001b[0m\u001b[0m\n\u001b[1;32m--> 271\u001b[1;33m         \u001b[0mself\u001b[0m\u001b[1;33m.\u001b[0m\u001b[0mmove_to\u001b[0m\u001b[1;33m(\u001b[0m\u001b[0mpath\u001b[0m\u001b[1;33m)\u001b[0m\u001b[1;33m\u001b[0m\u001b[0m\n\u001b[0m\u001b[0;32m    272\u001b[0m \u001b[1;33m\u001b[0m\u001b[0m\n\u001b[0;32m    273\u001b[0m     \u001b[1;32mdef\u001b[0m \u001b[0mcheck_closed_path\u001b[0m\u001b[1;33m(\u001b[0m\u001b[0mself\u001b[0m\u001b[1;33m)\u001b[0m\u001b[1;33m:\u001b[0m\u001b[1;33m\u001b[0m\u001b[0m\n",
      "\u001b[1;32m<ipython-input-211-4c5e8a80c672>\u001b[0m in \u001b[0;36mmove_to\u001b[1;34m(self, path)\u001b[0m\n\u001b[0;32m     72\u001b[0m         \u001b[1;34m\"\"\"Changes the state of the graph by moving along the path specified\"\"\"\u001b[0m\u001b[1;33m\u001b[0m\u001b[0m\n\u001b[0;32m     73\u001b[0m         \u001b[1;32mprint\u001b[0m \u001b[0mpath\u001b[0m\u001b[1;33m\u001b[0m\u001b[0m\n\u001b[1;32m---> 74\u001b[1;33m         \u001b[1;32mfor\u001b[0m \u001b[0mindex\u001b[0m\u001b[1;33m,\u001b[0m\u001b[0medge\u001b[0m \u001b[1;32min\u001b[0m \u001b[0menumerate\u001b[0m\u001b[1;33m(\u001b[0m\u001b[0mpath\u001b[0m\u001b[1;33m)\u001b[0m\u001b[1;33m:\u001b[0m\u001b[1;33m\u001b[0m\u001b[0m\n\u001b[0m\u001b[0;32m     75\u001b[0m             \u001b[1;31m#print edge\u001b[0m\u001b[1;33m\u001b[0m\u001b[1;33m\u001b[0m\u001b[0m\n\u001b[0;32m     76\u001b[0m             \u001b[0medge_pattern\u001b[0m\u001b[1;33m=\u001b[0m\u001b[1;34m'edge_(?P<begin_node>\\w+)_(?P<end_node>\\w+)_(?P<iterator>\\w+)'\u001b[0m\u001b[1;33m\u001b[0m\u001b[0m\n",
      "\u001b[1;31mTypeError\u001b[0m: 'NoneType' object is not iterable"
     ]
    }
   ],
   "source": [
    "rect_graph.is_graph_isomorphic()"
   ]
  },
  {
   "cell_type": "code",
   "execution_count": 70,
   "metadata": {
    "collapsed": false
   },
   "outputs": [],
   "source": [
    "#print rect_graph.data"
   ]
  },
  {
   "cell_type": "code",
   "execution_count": 217,
   "metadata": {
    "collapsed": false
   },
   "outputs": [],
   "source": [
    "path=rect_graph.get_path(\"n4\",\"n5\")"
   ]
  },
  {
   "cell_type": "code",
   "execution_count": 218,
   "metadata": {
    "collapsed": false
   },
   "outputs": [],
   "source": [
    "path"
   ]
  },
  {
   "cell_type": "code",
   "execution_count": 71,
   "metadata": {
    "collapsed": false
   },
   "outputs": [],
   "source": [
    "#rect_graph.move_to(path)"
   ]
  },
  {
   "cell_type": "code",
   "execution_count": 174,
   "metadata": {
    "collapsed": false
   },
   "outputs": [
    {
     "name": "stdout",
     "output_type": "stream",
     "text": [
      "moving n4 -> n11\n"
     ]
    }
   ],
   "source": [
    "rect_graph.move_to_node(\"n11\")"
   ]
  },
  {
   "cell_type": "code",
   "execution_count": null,
   "metadata": {
    "collapsed": true
   },
   "outputs": [],
   "source": [
    "xml=AsciiDataTable_to_XMLDataTable(table)"
   ]
  },
  {
   "cell_type": "code",
   "execution_count": null,
   "metadata": {
    "collapsed": false
   },
   "outputs": [],
   "source": [
    "xml.to_tuple_list(xml.get_attribute_names())"
   ]
  },
  {
   "cell_type": "code",
   "execution_count": null,
   "metadata": {
    "collapsed": false
   },
   "outputs": [],
   "source": [
    "xml.to_list(\"a\")"
   ]
  },
  {
   "cell_type": "code",
   "execution_count": null,
   "metadata": {
    "collapsed": false
   },
   "outputs": [],
   "source": [
    "xml.attribute_names"
   ]
  },
  {
   "cell_type": "code",
   "execution_count": null,
   "metadata": {
    "collapsed": false
   },
   "outputs": [],
   "source": [
    "xml.data"
   ]
  },
  {
   "cell_type": "code",
   "execution_count": null,
   "metadata": {
    "collapsed": false
   },
   "outputs": [],
   "source": [
    "rect_graph.state"
   ]
  },
  {
   "cell_type": "code",
   "execution_count": null,
   "metadata": {
    "collapsed": false
   },
   "outputs": [],
   "source": [
    "path=rect_graph.get_path(\"n5\",\"n1\")"
   ]
  },
  {
   "cell_type": "code",
   "execution_count": null,
   "metadata": {
    "collapsed": false
   },
   "outputs": [],
   "source": [
    "rect_graph.path_length(path)"
   ]
  },
  {
   "cell_type": "code",
   "execution_count": null,
   "metadata": {
    "collapsed": false
   },
   "outputs": [],
   "source": [
    "rect_graph.move_to_node(\"n1\")"
   ]
  },
  {
   "cell_type": "code",
   "execution_count": null,
   "metadata": {
    "collapsed": false
   },
   "outputs": [],
   "source": [
    "rect_graph.move_to_node(\"n1\")\n",
    "for node in rect_graph.node_names:\n",
    "    path=rect_graph.get_path(\"n1\",node)\n",
    "    print(\"The length of the path n1-> {0} in s is {1}\".format(node,rect_graph.path_length(path)))"
   ]
  },
  {
   "cell_type": "code",
   "execution_count": null,
   "metadata": {
    "collapsed": false
   },
   "outputs": [],
   "source": [
    "rect_graph.state"
   ]
  },
  {
   "cell_type": "code",
   "execution_count": null,
   "metadata": {
    "collapsed": false
   },
   "outputs": [],
   "source": [
    "rect_graph.move_to_node(\"n1\")"
   ]
  },
  {
   "cell_type": "code",
   "execution_count": null,
   "metadata": {
    "collapsed": false
   },
   "outputs": [],
   "source": [
    "html=rect_graph.data.to_html(index=False)"
   ]
  },
  {
   "cell_type": "code",
   "execution_count": null,
   "metadata": {
    "collapsed": true
   },
   "outputs": [],
   "source": [
    "df=pandas.read_html(html)"
   ]
  },
  {
   "cell_type": "code",
   "execution_count": null,
   "metadata": {
    "collapsed": false
   },
   "outputs": [],
   "source": [
    "rect_graph.edges"
   ]
  },
  {
   "cell_type": "code",
   "execution_count": null,
   "metadata": {
    "collapsed": false
   },
   "outputs": [],
   "source": [
    "table=OnePortCalrepModel(os.path.join(TESTS_DIRECTORY,'700437.asc'))\n",
    "rect_graph.set_state(\"n2\",table)"
   ]
  },
  {
   "cell_type": "code",
   "execution_count": null,
   "metadata": {
    "collapsed": false
   },
   "outputs": [],
   "source": [
    "rect_graph.move_to_node(\"n1\")"
   ]
  },
  {
   "cell_type": "code",
   "execution_count": null,
   "metadata": {
    "collapsed": false
   },
   "outputs": [],
   "source": [
    "print rect_graph.data"
   ]
  },
  {
   "cell_type": "code",
   "execution_count": null,
   "metadata": {
    "collapsed": true
   },
   "outputs": [],
   "source": [
    "from ipywidgets import *\n"
   ]
  },
  {
   "cell_type": "code",
   "execution_count": 175,
   "metadata": {
    "collapsed": false,
    "scrolled": true
   },
   "outputs": [
    {
     "name": "stdout",
     "output_type": "stream",
     "text": [
      "moving n10 -> n2\n",
      "moving n2 -> n4\n",
      "moving n4 -> n11\n",
      "********************************************************************************\n",
      "XML File [0, 0, 0, 0, 0, 0, 0, 0, 0, 0, 1]\n",
      "********************************************************************************\n",
      "test.xml\n"
     ]
    }
   ],
   "source": [
    "def move_and_print(end_node_number):\n",
    "    node=rect_graph.node_names[end_node_number]\n",
    "    rect_graph.move_to_node(node)\n",
    "    print(\"*\"*80)\n",
    "    print(\"{0}\".format(rect_graph.node_descriptions[end_node_number])+\" {0}\".format(rect_graph.state))\n",
    "    print(\"*\"*80)\n",
    "    print rect_graph.data\n",
    "    \n",
    "interact(move_and_print,end_node_number=(0,len(rect_graph.node_names)-1,1))"
   ]
  },
  {
   "cell_type": "code",
   "execution_count": null,
   "metadata": {
    "collapsed": true
   },
   "outputs": [],
   "source": [
    "json=data_frame.to_json(\"test.json\",orient='records')"
   ]
  },
  {
   "cell_type": "code",
   "execution_count": null,
   "metadata": {
    "collapsed": true
   },
   "outputs": [],
   "source": [
    "json_string=data_frame.to_json(orient='records')"
   ]
  },
  {
   "cell_type": "code",
   "execution_count": null,
   "metadata": {
    "collapsed": false
   },
   "outputs": [],
   "source": [
    "new_df=pandas.read_json(json_string,orient='records')"
   ]
  },
  {
   "cell_type": "code",
   "execution_count": null,
   "metadata": {
    "collapsed": false
   },
   "outputs": [],
   "source": [
    "new_df=pandas.read_json(\"test.json\",orient='records')"
   ]
  },
  {
   "cell_type": "code",
   "execution_count": null,
   "metadata": {
    "collapsed": false
   },
   "outputs": [],
   "source": [
    "#str(table.get_data_dictionary_list())\n",
    "json"
   ]
  },
  {
   "cell_type": "code",
   "execution_count": null,
   "metadata": {
    "collapsed": false
   },
   "outputs": [],
   "source": [
    "rect_graph.node_descriptions\n"
   ]
  },
  {
   "cell_type": "code",
   "execution_count": null,
   "metadata": {
    "collapsed": false
   },
   "outputs": [],
   "source": [
    "import json\n",
    "test_list=json.load(open(\"test.json\",'r'))"
   ]
  },
  {
   "cell_type": "code",
   "execution_count": null,
   "metadata": {
    "collapsed": false
   },
   "outputs": [],
   "source": [
    "text_xml=DataTable(None,**{\"data_dictionary\":{\"data\":test_list}})"
   ]
  },
  {
   "cell_type": "code",
   "execution_count": null,
   "metadata": {
    "collapsed": false
   },
   "outputs": [],
   "source": [
    "#print text_xml"
   ]
  },
  {
   "cell_type": "code",
   "execution_count": null,
   "metadata": {
    "collapsed": false
   },
   "outputs": [],
   "source": [
    "rect_graph.edges"
   ]
  },
  {
   "cell_type": "code",
   "execution_count": null,
   "metadata": {
    "collapsed": false
   },
   "outputs": [],
   "source": [
    "rect_graph.move_to_node(\"n7\")"
   ]
  },
  {
   "cell_type": "code",
   "execution_count": null,
   "metadata": {
    "collapsed": false
   },
   "outputs": [],
   "source": [
    "rect_graph.move_to_node(\"n4\")"
   ]
  },
  {
   "cell_type": "code",
   "execution_count": null,
   "metadata": {
    "collapsed": false
   },
   "outputs": [],
   "source": [
    "#print rect_graph.data"
   ]
  },
  {
   "cell_type": "code",
   "execution_count": null,
   "metadata": {
    "collapsed": true
   },
   "outputs": [],
   "source": [
    "from scipy.io import savemat,loadmat"
   ]
  },
  {
   "cell_type": "code",
   "execution_count": null,
   "metadata": {
    "collapsed": false
   },
   "outputs": [],
   "source": [
    "savemat(\"data.mat\",{\"data\":table.data,\"column_names\":table.column_names})"
   ]
  },
  {
   "cell_type": "code",
   "execution_count": null,
   "metadata": {
    "collapsed": false
   },
   "outputs": [],
   "source": [
    "data=loadmat(\"data.mat\")"
   ]
  },
  {
   "cell_type": "code",
   "execution_count": null,
   "metadata": {
    "collapsed": false
   },
   "outputs": [],
   "source": [
    "new_table=AsciiDataTable(None,column_names=map(lambda x: x.rstrip().lstrip(),data[\"column_names\"].tolist()),\n",
    "                         data=data[\"data\"].tolist())"
   ]
  },
  {
   "cell_type": "code",
   "execution_count": null,
   "metadata": {
    "collapsed": false
   },
   "outputs": [],
   "source": [
    "rect_graph.move_to_node(\"n4\")\n",
    "xml=rect_graph.data"
   ]
  },
  {
   "cell_type": "code",
   "execution_count": null,
   "metadata": {
    "collapsed": true
   },
   "outputs": [],
   "source": [
    "import sqlite3\n",
    "import odo"
   ]
  },
  {
   "cell_type": "code",
   "execution_count": null,
   "metadata": {
    "collapsed": false
   },
   "outputs": [],
   "source": [
    "data_frame.dtypes[0]"
   ]
  },
  {
   "cell_type": "code",
   "execution_count": null,
   "metadata": {
    "collapsed": false
   },
   "outputs": [],
   "source": [
    "conn = sqlite3.connect(\"test.db\")\n",
    "conn.execute(\"create table data\")\n",
    "odo.odo(data_frame,'sqlite:///test.db::data')"
   ]
  },
  {
   "cell_type": "code",
   "execution_count": 15,
   "metadata": {
    "collapsed": false
   },
   "outputs": [
    {
     "name": "stdout",
     "output_type": "stream",
     "text": [
      "The self.metadata[\"Device_Id\"] variable is 700437\n"
     ]
    }
   ],
   "source": [
    "one_port=OnePortCalrepModel(os.path.join(TESTS_DIRECTORY,'700437.asc'))"
   ]
  },
  {
   "cell_type": "code",
   "execution_count": null,
   "metadata": {
    "collapsed": false
   },
   "outputs": [],
   "source": [
    "one_port.header"
   ]
  },
  {
   "cell_type": "code",
   "execution_count": null,
   "metadata": {
    "collapsed": false
   },
   "outputs": [],
   "source": [
    "one_port.column_names"
   ]
  },
  {
   "cell_type": "code",
   "execution_count": 18,
   "metadata": {
    "collapsed": false
   },
   "outputs": [
    {
     "data": {
      "text/plain": [
       "{'Analysis_Date': '16-Oct-15', 'Device_Id': '700437'}"
      ]
     },
     "execution_count": 18,
     "metadata": {},
     "output_type": "execute_result"
    }
   ],
   "source": [
    "one_port.metadata"
   ]
  },
  {
   "cell_type": "code",
   "execution_count": 19,
   "metadata": {
    "collapsed": false
   },
   "outputs": [
    {
     "name": "stdout",
     "output_type": "stream",
     "text": [
      "header\n",
      "column_names\n",
      "data\n",
      "footer\n",
      "inline_comments\n",
      "metadata\n"
     ]
    }
   ],
   "source": [
    "for element in one_port.elements:\n",
    "    print element"
   ]
  },
  {
   "cell_type": "code",
   "execution_count": null,
   "metadata": {
    "collapsed": false
   },
   "outputs": [],
   "source": [
    "header_table=pandas.DataFrame(one_port.header,columns=[\"Header_Line_Content\"])\n",
    "data_table=pandas.DataFrame(one_port.data,columns=one_port.column_names)\n",
    "footer_table=pandas.DataFrame(one_port.footer,columns=[\"Footer_Line_Content\"])\n",
    "inline_comments=pandas.DataFrame(one_port.footer,columns=[\"Line\",\"Location\",\"Comment\"])\n",
    "metadata_table=pandas.DataFrame([[key,value] for key,value in one_port.metadata.iteritems() ], \n",
    "                                columns=[\"Property\",\"Value\"])"
   ]
  },
  {
   "cell_type": "code",
   "execution_count": null,
   "metadata": {
    "collapsed": false
   },
   "outputs": [],
   "source": [
    "header_table"
   ]
  },
  {
   "cell_type": "code",
   "execution_count": 129,
   "metadata": {
    "collapsed": false
   },
   "outputs": [],
   "source": [
    "# Move this to a DataTable Graph Example\n",
    "def AsciiDataTable_to_DataFrame_dict(AsciiDataTable):\n",
    "    \"\"\"Converts an AsciiDataTable to a dictionary of pandas.DataFrame s\"\"\"\n",
    "    output_dict={}\n",
    "    for element in AsciiDataTable.elements:\n",
    "        #print(\"{0} is {1}\".format('element',element))\n",
    "        if AsciiDataTable.__dict__[element]:\n",
    "            if re.search('header',element,re.IGNORECASE):\n",
    "                header_table=pandas.DataFrame(AsciiDataTable.header,columns=[\"Header_Line_Content\"])\n",
    "                output_dict[\"Header\"]=header_table\n",
    "            # needs to be before data search    \n",
    "            elif re.search('meta',element,re.IGNORECASE):\n",
    "                #print(\"{0} is {1}\".format('element',element))\n",
    "                metadata_table=pandas.DataFrame([[key,value] for key,value in AsciiDataTable.metadata.iteritems()], \n",
    "                                columns=[\"Property\",\"Value\"])\n",
    "                output_dict[\"Metadata\"]=metadata_table    \n",
    "            elif re.search('data|^meta',element,re.IGNORECASE):\n",
    "                \n",
    "                data_table=pandas.DataFrame(AsciiDataTable.data,columns=AsciiDataTable.column_names)\n",
    "                output_dict[\"Data\"]=data_table\n",
    "                \n",
    "            elif re.search('footer',element,re.IGNORECASE):\n",
    "                footer_table=pandas.DataFrame(AsciiDataTable.footer,columns=[\"Footer_Line_Content\"])\n",
    "                output_dict[\"Footer\"]=footer_table\n",
    "                \n",
    "            elif re.search('comment',element,re.IGNORECASE):\n",
    "                comments=AsciiDataTable.__dict__[element]\n",
    "                inline_comments=pandas.DataFrame(comments,columns=[\"Comment\",\"Line\",\"Location\"])\n",
    "                output_dict[\"Comments\"]=inline_comments\n",
    "                \n",
    "\n",
    "    return output_dict\n",
    "\n",
    "def DataFrame_dict_to_AsciiDataTable(DataFrame_dict,**options):\n",
    "    \"\"\"Given a dictionary of pandas DataFrames returns an AsciiDataTable\"\"\"\n",
    "    defaults={\"inline_comment_begin\":\"!\",\"inline_comment_end\":\"\\n\"}\n",
    "    table_options={}\n",
    "    for key,value in defaults.iteritems():\n",
    "        table_options[key]=value\n",
    "    for key,value in options.iteritems():\n",
    "        table_options[key]=value\n",
    "    keys=DataFrame_dict.keys()\n",
    "    for key in keys:\n",
    "        table_key=key\n",
    "        if key in[\"comments\",\"Comments\",\"inline_comments\",\"Inline_Comments\"]:\n",
    "            table_key=\"inline_comments\"\n",
    "        if key in [\"data\",\"Data\"]:\n",
    "            table_options[\"column_names\"]=DataFrame_dict[key].columns.tolist()\n",
    "            \n",
    "        table_options[table_key.lower()]=DataFrame_dict[key].as_matrix().tolist()\n",
    "    new_table=AsciiDataTable(None,**table_options)\n",
    "    return new_table\n",
    "        \n",
    "    "
   ]
  },
  {
   "cell_type": "code",
   "execution_count": 43,
   "metadata": {
    "collapsed": false
   },
   "outputs": [],
   "source": [
    "panda_dict=AsciiDataTable_to_DataFrame_dict(one_port)"
   ]
  },
  {
   "cell_type": "code",
   "execution_count": 44,
   "metadata": {
    "collapsed": false
   },
   "outputs": [
    {
     "data": {
      "text/html": [
       "<div>\n",
       "<table border=\"1\" class=\"dataframe\">\n",
       "  <thead>\n",
       "    <tr style=\"text-align: right;\">\n",
       "      <th></th>\n",
       "      <th>Property</th>\n",
       "      <th>Value</th>\n",
       "    </tr>\n",
       "  </thead>\n",
       "  <tbody>\n",
       "    <tr>\n",
       "      <th>0</th>\n",
       "      <td>Analysis_Date</td>\n",
       "      <td>16-Oct-15</td>\n",
       "    </tr>\n",
       "    <tr>\n",
       "      <th>1</th>\n",
       "      <td>Device_Id</td>\n",
       "      <td>700437</td>\n",
       "    </tr>\n",
       "  </tbody>\n",
       "</table>\n",
       "</div>"
      ],
      "text/plain": [
       "        Property      Value\n",
       "0  Analysis_Date  16-Oct-15\n",
       "1      Device_Id     700437"
      ]
     },
     "execution_count": 44,
     "metadata": {},
     "output_type": "execute_result"
    }
   ],
   "source": [
    "panda_dict[\"Metadata\"]"
   ]
  },
  {
   "cell_type": "code",
   "execution_count": 46,
   "metadata": {
    "collapsed": false
   },
   "outputs": [],
   "source": [
    "#panda_dict[\"Data\"]"
   ]
  },
  {
   "cell_type": "code",
   "execution_count": 107,
   "metadata": {
    "collapsed": true
   },
   "outputs": [],
   "source": [
    "def DataFrame_dict_to_excel(DataFrame_dict,excel_file_name=\"Test.xlsx\"):\n",
    "    \"\"\"Converts a dictionary of pandas DataFrames to a single excel file with sheet names\n",
    "    determined by keys\"\"\"\n",
    "    # sort the keys so that they will display in the same order\n",
    "    writer = pandas.ExcelWriter(excel_file_name)\n",
    "    keys=sorted(DataFrame_dict.keys())\n",
    "    for key in keys:\n",
    "        #print key\n",
    "        DataFrame_dict[key].to_excel(writer,sheet_name=key,index=False)\n",
    "    writer.close()\n",
    "    return excel_file_name\n",
    "\n",
    "def excel_to_DataFrame_dict(excel_file_name):\n",
    "    \"\"\"Reads an excel file into a dictionary of data frames\"\"\"\n",
    "    data_frame_dictionary=pandas.read_excel(excel_file_name,sheetname=None)\n",
    "    return data_frame_dictionary\n",
    "def DataFrame_dict_to_hdf(DataFrame_dict,hdf_file_name=\"Test.hd5\"):\n",
    "    \"\"\"Transforms a dictionary of pandas.DataFrames to a single HD5 file with groups determined by the keys\"\"\"\n",
    "    keys=sorted(DataFrame_dict.keys())\n",
    "    for key in keys:\n",
    "        DataFrame_dict[key].to_hdf(hdf_file_name,key)\n",
    "    return hdf_file_name\n",
    "\n",
    "def hdf_to_DataFrame_dict(hdf_file_name):\n",
    "    \"\"\"Creates a dictionary of pandas.DataFrames given a hd5 file name, does this require the table names?\n",
    "    \"\"\"\n",
    "    hdf=h5py.File(hdf_file_name)\n",
    "    keys=hdf.keys()\n",
    "    pandas_dictionary={key:pandas.read_hdf(hdf_file_name,key) for key in keys}\n",
    "    return pandas_dictionary\n",
    "    "
   ]
  },
  {
   "cell_type": "code",
   "execution_count": null,
   "metadata": {
    "collapsed": false
   },
   "outputs": [],
   "source": [
    "DataFrame_dict_to_excel(panda_dict)"
   ]
  },
  {
   "cell_type": "code",
   "execution_count": null,
   "metadata": {
    "collapsed": true
   },
   "outputs": [],
   "source": [
    "test_dict=pandas.read_excel(\"Test.xlsx\",sheetname=None)"
   ]
  },
  {
   "cell_type": "code",
   "execution_count": null,
   "metadata": {
    "collapsed": false
   },
   "outputs": [],
   "source": [
    "test_dict[\"Header\"]"
   ]
  },
  {
   "cell_type": "code",
   "execution_count": 48,
   "metadata": {
    "collapsed": false
   },
   "outputs": [],
   "source": [
    "raw_table=TwoPortRawModel(os.path.join(TESTS_DIRECTORY,'TestFileTwoPortRaw.txt'))"
   ]
  },
  {
   "cell_type": "code",
   "execution_count": 49,
   "metadata": {
    "collapsed": false
   },
   "outputs": [],
   "source": [
    "test_dict=AsciiDataTable_to_DataFrame_dict(raw_table)"
   ]
  },
  {
   "cell_type": "code",
   "execution_count": 50,
   "metadata": {
    "collapsed": false
   },
   "outputs": [
    {
     "data": {
      "text/plain": [
       "['Header', 'Data', 'Metadata']"
      ]
     },
     "execution_count": 50,
     "metadata": {},
     "output_type": "execute_result"
    }
   ],
   "source": [
    "test_dict.keys()"
   ]
  },
  {
   "cell_type": "code",
   "execution_count": 40,
   "metadata": {
    "collapsed": false
   },
   "outputs": [
    {
     "data": {
      "text/html": [
       "<div>\n",
       "<table border=\"1\" class=\"dataframe\">\n",
       "  <thead>\n",
       "    <tr style=\"text-align: right;\">\n",
       "      <th></th>\n",
       "      <th>Property</th>\n",
       "      <th>Value</th>\n",
       "    </tr>\n",
       "  </thead>\n",
       "  <tbody>\n",
       "    <tr>\n",
       "      <th>0</th>\n",
       "      <td>Connector_Type_Calibration</td>\n",
       "      <td></td>\n",
       "    </tr>\n",
       "    <tr>\n",
       "      <th>1</th>\n",
       "      <td>Number_Connects</td>\n",
       "      <td>3</td>\n",
       "    </tr>\n",
       "    <tr>\n",
       "      <th>2</th>\n",
       "      <td>Connector_Type_Measurement</td>\n",
       "      <td>N</td>\n",
       "    </tr>\n",
       "    <tr>\n",
       "      <th>3</th>\n",
       "      <td>Number_Repeats</td>\n",
       "      <td>1</td>\n",
       "    </tr>\n",
       "    <tr>\n",
       "      <th>4</th>\n",
       "      <td>Operator</td>\n",
       "      <td>BFR</td>\n",
       "    </tr>\n",
       "    <tr>\n",
       "      <th>5</th>\n",
       "      <td>Number_Frequencies</td>\n",
       "      <td>53</td>\n",
       "    </tr>\n",
       "    <tr>\n",
       "      <th>6</th>\n",
       "      <td>Start_Frequency</td>\n",
       "      <td>7</td>\n",
       "    </tr>\n",
       "    <tr>\n",
       "      <th>7</th>\n",
       "      <td>Measurement_Date</td>\n",
       "      <td>9 Sep 2015</td>\n",
       "    </tr>\n",
       "    <tr>\n",
       "      <th>8</th>\n",
       "      <td>Program_Used</td>\n",
       "      <td>MEASLP</td>\n",
       "    </tr>\n",
       "    <tr>\n",
       "      <th>9</th>\n",
       "      <td>Measurement_Type</td>\n",
       "      <td>2-port</td>\n",
       "    </tr>\n",
       "    <tr>\n",
       "      <th>10</th>\n",
       "      <td>System_Id</td>\n",
       "      <td>HP8510</td>\n",
       "    </tr>\n",
       "    <tr>\n",
       "      <th>11</th>\n",
       "      <td>Nbs</td>\n",
       "      <td>4</td>\n",
       "    </tr>\n",
       "    <tr>\n",
       "      <th>12</th>\n",
       "      <td>Device_Id</td>\n",
       "      <td>CTN208</td>\n",
       "    </tr>\n",
       "    <tr>\n",
       "      <th>13</th>\n",
       "      <td>Measurement_Time</td>\n",
       "      <td>10:31:55</td>\n",
       "    </tr>\n",
       "    <tr>\n",
       "      <th>14</th>\n",
       "      <td>Program_Revision</td>\n",
       "      <td>150122</td>\n",
       "    </tr>\n",
       "    <tr>\n",
       "      <th>15</th>\n",
       "      <td>Port_Used</td>\n",
       "      <td>1</td>\n",
       "    </tr>\n",
       "    <tr>\n",
       "      <th>16</th>\n",
       "      <td>Calibration_Date</td>\n",
       "      <td></td>\n",
       "    </tr>\n",
       "    <tr>\n",
       "      <th>17</th>\n",
       "      <td>Device_Description</td>\n",
       "      <td>CHECK STANDARD 20 dB ATTEN</td>\n",
       "    </tr>\n",
       "    <tr>\n",
       "      <th>18</th>\n",
       "      <td>Calibration_Name</td>\n",
       "      <td>c050211.a2</td>\n",
       "    </tr>\n",
       "    <tr>\n",
       "      <th>19</th>\n",
       "      <td>System_Letter</td>\n",
       "      <td>L</td>\n",
       "    </tr>\n",
       "  </tbody>\n",
       "</table>\n",
       "</div>"
      ],
      "text/plain": [
       "                      Property                       Value\n",
       "0   Connector_Type_Calibration                            \n",
       "1              Number_Connects                           3\n",
       "2   Connector_Type_Measurement                           N\n",
       "3               Number_Repeats                           1\n",
       "4                     Operator                         BFR\n",
       "5           Number_Frequencies                          53\n",
       "6              Start_Frequency                           7\n",
       "7             Measurement_Date                  9 Sep 2015\n",
       "8                 Program_Used                      MEASLP\n",
       "9             Measurement_Type                      2-port\n",
       "10                   System_Id                      HP8510\n",
       "11                         Nbs                           4\n",
       "12                   Device_Id                      CTN208\n",
       "13            Measurement_Time                    10:31:55\n",
       "14            Program_Revision                      150122\n",
       "15                   Port_Used                           1\n",
       "16            Calibration_Date                            \n",
       "17          Device_Description  CHECK STANDARD 20 dB ATTEN\n",
       "18            Calibration_Name                  c050211.a2\n",
       "19               System_Letter                           L"
      ]
     },
     "execution_count": 40,
     "metadata": {},
     "output_type": "execute_result"
    }
   ],
   "source": [
    "test_dict[\"Metadata\"]"
   ]
  },
  {
   "cell_type": "code",
   "execution_count": 41,
   "metadata": {
    "collapsed": false
   },
   "outputs": [
    {
     "data": {
      "text/html": [
       "<div>\n",
       "<table border=\"1\" class=\"dataframe\">\n",
       "  <thead>\n",
       "    <tr style=\"text-align: right;\">\n",
       "      <th></th>\n",
       "      <th>Header_Line_Content</th>\n",
       "    </tr>\n",
       "  </thead>\n",
       "  <tbody>\n",
       "    <tr>\n",
       "      <th>0</th>\n",
       "      <td>HP8510</td>\n",
       "    </tr>\n",
       "    <tr>\n",
       "      <th>1</th>\n",
       "      <td>L</td>\n",
       "    </tr>\n",
       "    <tr>\n",
       "      <th>2</th>\n",
       "      <td></td>\n",
       "    </tr>\n",
       "    <tr>\n",
       "      <th>3</th>\n",
       "      <td>N</td>\n",
       "    </tr>\n",
       "    <tr>\n",
       "      <th>4</th>\n",
       "      <td>2-port</td>\n",
       "    </tr>\n",
       "    <tr>\n",
       "      <th>5</th>\n",
       "      <td>9 Sep 2015</td>\n",
       "    </tr>\n",
       "    <tr>\n",
       "      <th>6</th>\n",
       "      <td>10:31:55</td>\n",
       "    </tr>\n",
       "    <tr>\n",
       "      <th>7</th>\n",
       "      <td>MEASLP</td>\n",
       "    </tr>\n",
       "    <tr>\n",
       "      <th>8</th>\n",
       "      <td>150122</td>\n",
       "    </tr>\n",
       "    <tr>\n",
       "      <th>9</th>\n",
       "      <td>BFR</td>\n",
       "    </tr>\n",
       "    <tr>\n",
       "      <th>10</th>\n",
       "      <td>c050211.a2</td>\n",
       "    </tr>\n",
       "    <tr>\n",
       "      <th>11</th>\n",
       "      <td></td>\n",
       "    </tr>\n",
       "    <tr>\n",
       "      <th>12</th>\n",
       "      <td>1</td>\n",
       "    </tr>\n",
       "    <tr>\n",
       "      <th>13</th>\n",
       "      <td>3</td>\n",
       "    </tr>\n",
       "    <tr>\n",
       "      <th>14</th>\n",
       "      <td>1</td>\n",
       "    </tr>\n",
       "    <tr>\n",
       "      <th>15</th>\n",
       "      <td>4</td>\n",
       "    </tr>\n",
       "    <tr>\n",
       "      <th>16</th>\n",
       "      <td>53</td>\n",
       "    </tr>\n",
       "    <tr>\n",
       "      <th>17</th>\n",
       "      <td>7</td>\n",
       "    </tr>\n",
       "    <tr>\n",
       "      <th>18</th>\n",
       "      <td>CHECK STANDARD 20 dB ATTEN                    ...</td>\n",
       "    </tr>\n",
       "    <tr>\n",
       "      <th>19</th>\n",
       "      <td>CTN208</td>\n",
       "    </tr>\n",
       "  </tbody>\n",
       "</table>\n",
       "</div>"
      ],
      "text/plain": [
       "                                  Header_Line_Content\n",
       "0                                        HP8510      \n",
       "1                                                  L \n",
       "2                                                    \n",
       "3                                             N      \n",
       "4                                     2-port         \n",
       "5                                      9 Sep 2015    \n",
       "6                                          10:31:55  \n",
       "7                                          MEASLP    \n",
       "8                                          150122    \n",
       "9                                          BFR       \n",
       "10                                    c050211.a2     \n",
       "11                                                   \n",
       "12                                                  1\n",
       "13                                                  3\n",
       "14                                                  1\n",
       "15                                                  4\n",
       "16                                                 53\n",
       "17                                                  7\n",
       "18  CHECK STANDARD 20 dB ATTEN                    ...\n",
       "19                               CTN208              "
      ]
     },
     "execution_count": 41,
     "metadata": {},
     "output_type": "execute_result"
    }
   ],
   "source": [
    "test_dict[\"Header\"]"
   ]
  },
  {
   "cell_type": "code",
   "execution_count": 53,
   "metadata": {
    "collapsed": true
   },
   "outputs": [],
   "source": [
    "excel=DataFrame_dict_to_excel(test_dict)"
   ]
  },
  {
   "cell_type": "code",
   "execution_count": 56,
   "metadata": {
    "collapsed": false
   },
   "outputs": [],
   "source": [
    "s2p=S2PV1(os.path.join(TESTS_DIRECTORY,'704b.S2P'))"
   ]
  },
  {
   "cell_type": "code",
   "execution_count": 67,
   "metadata": {
    "collapsed": false
   },
   "outputs": [],
   "source": [
    "test_dict=AsciiDataTable_to_DataFrame_dict(s2p)"
   ]
  },
  {
   "cell_type": "code",
   "execution_count": 60,
   "metadata": {
    "collapsed": false
   },
   "outputs": [
    {
     "data": {
      "text/plain": [
       "[['---------------------------------------------------------------------',\n",
       "  0,\n",
       "  0],\n",
       " [' ZVC, 3.52', 1, 0],\n",
       " ['---------------------------------------------------------------------',\n",
       "  2,\n",
       "  0],\n",
       " [' symbol freq-unit parameter-type data-format keyword impedance-ohm', 3, 0],\n",
       " ['---------------------------------------------------------------------',\n",
       "  5,\n",
       "  0],\n",
       " [' freq                dbS11          angS11          dbS21          angS21          dbS12          angS12          dbS22          angS22          ',\n",
       "  6,\n",
       "  0]]"
      ]
     },
     "execution_count": 60,
     "metadata": {},
     "output_type": "execute_result"
    }
   ],
   "source": [
    "s2p.comments"
   ]
  },
  {
   "cell_type": "code",
   "execution_count": 68,
   "metadata": {
    "collapsed": false
   },
   "outputs": [],
   "source": [
    "excel=DataFrame_dict_to_excel(test_dict)"
   ]
  },
  {
   "cell_type": "code",
   "execution_count": 73,
   "metadata": {
    "collapsed": true
   },
   "outputs": [],
   "source": [
    "tet_dict=excel_to_DataFrame_dict(\"test.xlsx\")"
   ]
  },
  {
   "cell_type": "code",
   "execution_count": 79,
   "metadata": {
    "collapsed": false
   },
   "outputs": [
    {
     "data": {
      "text/plain": [
       "['Data', 'Comments']"
      ]
     },
     "execution_count": 79,
     "metadata": {},
     "output_type": "execute_result"
    }
   ],
   "source": [
    "test_dict.keys()"
   ]
  },
  {
   "cell_type": "code",
   "execution_count": 81,
   "metadata": {
    "collapsed": true
   },
   "outputs": [],
   "source": [
    "test_hd5=DataFrame_dict_to_hd5(test_dict)"
   ]
  },
  {
   "cell_type": "code",
   "execution_count": 100,
   "metadata": {
    "collapsed": false
   },
   "outputs": [],
   "source": [
    "import h5py\n",
    "hdf=h5py.File(\"Test.hd5\")\n",
    "keys=hdf.keys()\n",
    "pandas_dictionary={key:pandas.read_hdf(\"Test.hd5\",key) for key in keys}"
   ]
  },
  {
   "cell_type": "code",
   "execution_count": 103,
   "metadata": {
    "collapsed": false
   },
   "outputs": [
    {
     "data": {
      "text/plain": [
       "[u'Comments', u'Data']"
      ]
     },
     "execution_count": 103,
     "metadata": {},
     "output_type": "execute_result"
    }
   ],
   "source": [
    "hdf.keys()"
   ]
  },
  {
   "cell_type": "code",
   "execution_count": 108,
   "metadata": {
    "collapsed": false
   },
   "outputs": [],
   "source": [
    "pandas_dictionary=hdf_to_DataFrame_dict(\"Test.hd5\")"
   ]
  },
  {
   "cell_type": "code",
   "execution_count": 109,
   "metadata": {
    "collapsed": false
   },
   "outputs": [
    {
     "data": {
      "text/plain": [
       "[u'Data', u'Comments']"
      ]
     },
     "execution_count": 109,
     "metadata": {},
     "output_type": "execute_result"
    }
   ],
   "source": [
    "pandas_dictionary.keys()"
   ]
  },
  {
   "cell_type": "code",
   "execution_count": 112,
   "metadata": {
    "collapsed": false
   },
   "outputs": [
    {
     "data": {
      "text/plain": [
       "[['---------------------------------------------------------------------',\n",
       "  0L,\n",
       "  0L],\n",
       " [' ZVC, 3.52', 1L, 0L],\n",
       " ['---------------------------------------------------------------------',\n",
       "  2L,\n",
       "  0L],\n",
       " [' symbol freq-unit parameter-type data-format keyword impedance-ohm',\n",
       "  3L,\n",
       "  0L],\n",
       " ['---------------------------------------------------------------------',\n",
       "  5L,\n",
       "  0L],\n",
       " [' freq                dbS11          angS11          dbS21          angS21          dbS12          angS12          dbS22          angS22          ',\n",
       "  6L,\n",
       "  0L]]"
      ]
     },
     "execution_count": 112,
     "metadata": {},
     "output_type": "execute_result"
    }
   ],
   "source": [
    "pandas_dictionary[\"Comments\"].as_matrix().tolist()"
   ]
  },
  {
   "cell_type": "code",
   "execution_count": 130,
   "metadata": {
    "collapsed": false
   },
   "outputs": [],
   "source": [
    "table=DataFrame_dict_to_AsciiDataTable(pandas_dictionary)"
   ]
  },
  {
   "cell_type": "code",
   "execution_count": 134,
   "metadata": {
    "collapsed": false
   },
   "outputs": [],
   "source": [
    "#print table.get_data_string()"
   ]
  },
  {
   "cell_type": "code",
   "execution_count": 138,
   "metadata": {
    "collapsed": false
   },
   "outputs": [
    {
     "data": {
      "text/plain": [
       "['n1', 'n2', 'n3', 'n4', 'n5', 'n6', 'n7', 'n8', 'n9', 'n10']"
      ]
     },
     "execution_count": 138,
     "metadata": {},
     "output_type": "execute_result"
    }
   ],
   "source": [
    "rect_graph.node_names"
   ]
  },
  {
   "cell_type": "code",
   "execution_count": 139,
   "metadata": {
    "collapsed": true
   },
   "outputs": [],
   "source": [
    "new_graph=networkx.DiGraph()"
   ]
  },
  {
   "cell_type": "code",
   "execution_count": 140,
   "metadata": {
    "collapsed": true
   },
   "outputs": [],
   "source": [
    "for node in rect_graph.node_names:\n",
    "    new_graph.add_node(node)"
   ]
  },
  {
   "cell_type": "code",
   "execution_count": 141,
   "metadata": {
    "collapsed": false
   },
   "outputs": [
    {
     "data": {
      "text/plain": [
       "['edge_n1_n2_000',\n",
       " 'edge_n2_n1_000',\n",
       " 'edge_n3_n1_000',\n",
       " 'edge_n1_n3_000',\n",
       " 'edge_n4_n2_000',\n",
       " 'edge_n2_n4_000',\n",
       " 'edge_n5_n1_000',\n",
       " 'edge_n1_n5_000',\n",
       " 'edge_n6_n1_000',\n",
       " 'edge_n1_n6_000',\n",
       " 'edge_n7_n1_000',\n",
       " 'edge_n1_n7_000',\n",
       " 'edge_n8_n1_000',\n",
       " 'edge_n1_n8_000',\n",
       " 'edge_n9_n1_000',\n",
       " 'edge_n1_n9_000',\n",
       " 'edge_n10_n2_000',\n",
       " 'edge_n2_n10_000',\n",
       " 'edge_n7_n4_000']"
      ]
     },
     "execution_count": 141,
     "metadata": {},
     "output_type": "execute_result"
    }
   ],
   "source": [
    "rect_graph.edges"
   ]
  },
  {
   "cell_type": "code",
   "execution_count": 143,
   "metadata": {
    "collapsed": false
   },
   "outputs": [],
   "source": [
    "edge_pattern=re.compile(\"edge_(?P<begin_node>\\w+)_(?P<end_node>\\w+)_(?P<iterator>\\w+)\")"
   ]
  },
  {
   "cell_type": "code",
   "execution_count": 146,
   "metadata": {
    "collapsed": false
   },
   "outputs": [
    {
     "name": "stdout",
     "output_type": "stream",
     "text": [
      "Begin Node = n1, End Node= n2\n",
      "Begin Node = n2, End Node= n1\n",
      "Begin Node = n3, End Node= n1\n",
      "Begin Node = n1, End Node= n3\n",
      "Begin Node = n4, End Node= n2\n",
      "Begin Node = n2, End Node= n4\n",
      "Begin Node = n5, End Node= n1\n",
      "Begin Node = n1, End Node= n5\n",
      "Begin Node = n6, End Node= n1\n",
      "Begin Node = n1, End Node= n6\n",
      "Begin Node = n7, End Node= n1\n",
      "Begin Node = n1, End Node= n7\n",
      "Begin Node = n8, End Node= n1\n",
      "Begin Node = n1, End Node= n8\n",
      "Begin Node = n9, End Node= n1\n",
      "Begin Node = n1, End Node= n9\n",
      "Begin Node = n10, End Node= n2\n",
      "Begin Node = n2, End Node= n10\n",
      "Begin Node = n7, End Node= n4\n"
     ]
    }
   ],
   "source": [
    "for edge in rect_graph.edges:\n",
    "    match=re.match(edge_pattern,edge)\n",
    "    if match:\n",
    "        begin_node=match.groupdict()[\"begin_node\"]\n",
    "        end_node=match.groupdict()[\"end_node\"]\n",
    "        new_graph.add_edge(begin_node,end_node)\n",
    "        print(\"Begin Node = {0}, End Node= {1}\".format(begin_node,end_node))"
   ]
  },
  {
   "cell_type": "code",
   "execution_count": 150,
   "metadata": {
    "collapsed": true
   },
   "outputs": [],
   "source": [
    "networkx.draw_networkx(new_graph,arrows=True)\n",
    "plt.show()"
   ]
  },
  {
   "cell_type": "code",
   "execution_count": 155,
   "metadata": {
    "collapsed": false
   },
   "outputs": [
    {
     "data": {
      "application/javascript": [
       "/* Put everything inside the global mpl namespace */\n",
       "window.mpl = {};\n",
       "\n",
       "mpl.get_websocket_type = function() {\n",
       "    if (typeof(WebSocket) !== 'undefined') {\n",
       "        return WebSocket;\n",
       "    } else if (typeof(MozWebSocket) !== 'undefined') {\n",
       "        return MozWebSocket;\n",
       "    } else {\n",
       "        alert('Your browser does not have WebSocket support.' +\n",
       "              'Please try Chrome, Safari or Firefox ≥ 6. ' +\n",
       "              'Firefox 4 and 5 are also supported but you ' +\n",
       "              'have to enable WebSockets in about:config.');\n",
       "    };\n",
       "}\n",
       "\n",
       "mpl.figure = function(figure_id, websocket, ondownload, parent_element) {\n",
       "    this.id = figure_id;\n",
       "\n",
       "    this.ws = websocket;\n",
       "\n",
       "    this.supports_binary = (this.ws.binaryType != undefined);\n",
       "\n",
       "    if (!this.supports_binary) {\n",
       "        var warnings = document.getElementById(\"mpl-warnings\");\n",
       "        if (warnings) {\n",
       "            warnings.style.display = 'block';\n",
       "            warnings.textContent = (\n",
       "                \"This browser does not support binary websocket messages. \" +\n",
       "                    \"Performance may be slow.\");\n",
       "        }\n",
       "    }\n",
       "\n",
       "    this.imageObj = new Image();\n",
       "\n",
       "    this.context = undefined;\n",
       "    this.message = undefined;\n",
       "    this.canvas = undefined;\n",
       "    this.rubberband_canvas = undefined;\n",
       "    this.rubberband_context = undefined;\n",
       "    this.format_dropdown = undefined;\n",
       "\n",
       "    this.image_mode = 'full';\n",
       "\n",
       "    this.root = $('<div/>');\n",
       "    this._root_extra_style(this.root)\n",
       "    this.root.attr('style', 'display: inline-block');\n",
       "\n",
       "    $(parent_element).append(this.root);\n",
       "\n",
       "    this._init_header(this);\n",
       "    this._init_canvas(this);\n",
       "    this._init_toolbar(this);\n",
       "\n",
       "    var fig = this;\n",
       "\n",
       "    this.waiting = false;\n",
       "\n",
       "    this.ws.onopen =  function () {\n",
       "            fig.send_message(\"supports_binary\", {value: fig.supports_binary});\n",
       "            fig.send_message(\"send_image_mode\", {});\n",
       "            fig.send_message(\"refresh\", {});\n",
       "        }\n",
       "\n",
       "    this.imageObj.onload = function() {\n",
       "            if (fig.image_mode == 'full') {\n",
       "                // Full images could contain transparency (where diff images\n",
       "                // almost always do), so we need to clear the canvas so that\n",
       "                // there is no ghosting.\n",
       "                fig.context.clearRect(0, 0, fig.canvas.width, fig.canvas.height);\n",
       "            }\n",
       "            fig.context.drawImage(fig.imageObj, 0, 0);\n",
       "        };\n",
       "\n",
       "    this.imageObj.onunload = function() {\n",
       "        this.ws.close();\n",
       "    }\n",
       "\n",
       "    this.ws.onmessage = this._make_on_message_function(this);\n",
       "\n",
       "    this.ondownload = ondownload;\n",
       "}\n",
       "\n",
       "mpl.figure.prototype._init_header = function() {\n",
       "    var titlebar = $(\n",
       "        '<div class=\"ui-dialog-titlebar ui-widget-header ui-corner-all ' +\n",
       "        'ui-helper-clearfix\"/>');\n",
       "    var titletext = $(\n",
       "        '<div class=\"ui-dialog-title\" style=\"width: 100%; ' +\n",
       "        'text-align: center; padding: 3px;\"/>');\n",
       "    titlebar.append(titletext)\n",
       "    this.root.append(titlebar);\n",
       "    this.header = titletext[0];\n",
       "}\n",
       "\n",
       "\n",
       "\n",
       "mpl.figure.prototype._canvas_extra_style = function(canvas_div) {\n",
       "\n",
       "}\n",
       "\n",
       "\n",
       "mpl.figure.prototype._root_extra_style = function(canvas_div) {\n",
       "\n",
       "}\n",
       "\n",
       "mpl.figure.prototype._init_canvas = function() {\n",
       "    var fig = this;\n",
       "\n",
       "    var canvas_div = $('<div/>');\n",
       "\n",
       "    canvas_div.attr('style', 'position: relative; clear: both; outline: 0');\n",
       "\n",
       "    function canvas_keyboard_event(event) {\n",
       "        return fig.key_event(event, event['data']);\n",
       "    }\n",
       "\n",
       "    canvas_div.keydown('key_press', canvas_keyboard_event);\n",
       "    canvas_div.keyup('key_release', canvas_keyboard_event);\n",
       "    this.canvas_div = canvas_div\n",
       "    this._canvas_extra_style(canvas_div)\n",
       "    this.root.append(canvas_div);\n",
       "\n",
       "    var canvas = $('<canvas/>');\n",
       "    canvas.addClass('mpl-canvas');\n",
       "    canvas.attr('style', \"left: 0; top: 0; z-index: 0; outline: 0\")\n",
       "\n",
       "    this.canvas = canvas[0];\n",
       "    this.context = canvas[0].getContext(\"2d\");\n",
       "\n",
       "    var rubberband = $('<canvas/>');\n",
       "    rubberband.attr('style', \"position: absolute; left: 0; top: 0; z-index: 1;\")\n",
       "\n",
       "    var pass_mouse_events = true;\n",
       "\n",
       "    canvas_div.resizable({\n",
       "        start: function(event, ui) {\n",
       "            pass_mouse_events = false;\n",
       "        },\n",
       "        resize: function(event, ui) {\n",
       "            fig.request_resize(ui.size.width, ui.size.height);\n",
       "        },\n",
       "        stop: function(event, ui) {\n",
       "            pass_mouse_events = true;\n",
       "            fig.request_resize(ui.size.width, ui.size.height);\n",
       "        },\n",
       "    });\n",
       "\n",
       "    function mouse_event_fn(event) {\n",
       "        if (pass_mouse_events)\n",
       "            return fig.mouse_event(event, event['data']);\n",
       "    }\n",
       "\n",
       "    rubberband.mousedown('button_press', mouse_event_fn);\n",
       "    rubberband.mouseup('button_release', mouse_event_fn);\n",
       "    // Throttle sequential mouse events to 1 every 20ms.\n",
       "    rubberband.mousemove('motion_notify', mouse_event_fn);\n",
       "\n",
       "    rubberband.mouseenter('figure_enter', mouse_event_fn);\n",
       "    rubberband.mouseleave('figure_leave', mouse_event_fn);\n",
       "\n",
       "    canvas_div.on(\"wheel\", function (event) {\n",
       "        event = event.originalEvent;\n",
       "        event['data'] = 'scroll'\n",
       "        if (event.deltaY < 0) {\n",
       "            event.step = 1;\n",
       "        } else {\n",
       "            event.step = -1;\n",
       "        }\n",
       "        mouse_event_fn(event);\n",
       "    });\n",
       "\n",
       "    canvas_div.append(canvas);\n",
       "    canvas_div.append(rubberband);\n",
       "\n",
       "    this.rubberband = rubberband;\n",
       "    this.rubberband_canvas = rubberband[0];\n",
       "    this.rubberband_context = rubberband[0].getContext(\"2d\");\n",
       "    this.rubberband_context.strokeStyle = \"#000000\";\n",
       "\n",
       "    this._resize_canvas = function(width, height) {\n",
       "        // Keep the size of the canvas, canvas container, and rubber band\n",
       "        // canvas in synch.\n",
       "        canvas_div.css('width', width)\n",
       "        canvas_div.css('height', height)\n",
       "\n",
       "        canvas.attr('width', width);\n",
       "        canvas.attr('height', height);\n",
       "\n",
       "        rubberband.attr('width', width);\n",
       "        rubberband.attr('height', height);\n",
       "    }\n",
       "\n",
       "    // Set the figure to an initial 600x600px, this will subsequently be updated\n",
       "    // upon first draw.\n",
       "    this._resize_canvas(600, 600);\n",
       "\n",
       "    // Disable right mouse context menu.\n",
       "    $(this.rubberband_canvas).bind(\"contextmenu\",function(e){\n",
       "        return false;\n",
       "    });\n",
       "\n",
       "    function set_focus () {\n",
       "        canvas.focus();\n",
       "        canvas_div.focus();\n",
       "    }\n",
       "\n",
       "    window.setTimeout(set_focus, 100);\n",
       "}\n",
       "\n",
       "mpl.figure.prototype._init_toolbar = function() {\n",
       "    var fig = this;\n",
       "\n",
       "    var nav_element = $('<div/>')\n",
       "    nav_element.attr('style', 'width: 100%');\n",
       "    this.root.append(nav_element);\n",
       "\n",
       "    // Define a callback function for later on.\n",
       "    function toolbar_event(event) {\n",
       "        return fig.toolbar_button_onclick(event['data']);\n",
       "    }\n",
       "    function toolbar_mouse_event(event) {\n",
       "        return fig.toolbar_button_onmouseover(event['data']);\n",
       "    }\n",
       "\n",
       "    for(var toolbar_ind in mpl.toolbar_items) {\n",
       "        var name = mpl.toolbar_items[toolbar_ind][0];\n",
       "        var tooltip = mpl.toolbar_items[toolbar_ind][1];\n",
       "        var image = mpl.toolbar_items[toolbar_ind][2];\n",
       "        var method_name = mpl.toolbar_items[toolbar_ind][3];\n",
       "\n",
       "        if (!name) {\n",
       "            // put a spacer in here.\n",
       "            continue;\n",
       "        }\n",
       "        var button = $('<button/>');\n",
       "        button.addClass('ui-button ui-widget ui-state-default ui-corner-all ' +\n",
       "                        'ui-button-icon-only');\n",
       "        button.attr('role', 'button');\n",
       "        button.attr('aria-disabled', 'false');\n",
       "        button.click(method_name, toolbar_event);\n",
       "        button.mouseover(tooltip, toolbar_mouse_event);\n",
       "\n",
       "        var icon_img = $('<span/>');\n",
       "        icon_img.addClass('ui-button-icon-primary ui-icon');\n",
       "        icon_img.addClass(image);\n",
       "        icon_img.addClass('ui-corner-all');\n",
       "\n",
       "        var tooltip_span = $('<span/>');\n",
       "        tooltip_span.addClass('ui-button-text');\n",
       "        tooltip_span.html(tooltip);\n",
       "\n",
       "        button.append(icon_img);\n",
       "        button.append(tooltip_span);\n",
       "\n",
       "        nav_element.append(button);\n",
       "    }\n",
       "\n",
       "    var fmt_picker_span = $('<span/>');\n",
       "\n",
       "    var fmt_picker = $('<select/>');\n",
       "    fmt_picker.addClass('mpl-toolbar-option ui-widget ui-widget-content');\n",
       "    fmt_picker_span.append(fmt_picker);\n",
       "    nav_element.append(fmt_picker_span);\n",
       "    this.format_dropdown = fmt_picker[0];\n",
       "\n",
       "    for (var ind in mpl.extensions) {\n",
       "        var fmt = mpl.extensions[ind];\n",
       "        var option = $(\n",
       "            '<option/>', {selected: fmt === mpl.default_extension}).html(fmt);\n",
       "        fmt_picker.append(option)\n",
       "    }\n",
       "\n",
       "    // Add hover states to the ui-buttons\n",
       "    $( \".ui-button\" ).hover(\n",
       "        function() { $(this).addClass(\"ui-state-hover\");},\n",
       "        function() { $(this).removeClass(\"ui-state-hover\");}\n",
       "    );\n",
       "\n",
       "    var status_bar = $('<span class=\"mpl-message\"/>');\n",
       "    nav_element.append(status_bar);\n",
       "    this.message = status_bar[0];\n",
       "}\n",
       "\n",
       "mpl.figure.prototype.request_resize = function(x_pixels, y_pixels) {\n",
       "    // Request matplotlib to resize the figure. Matplotlib will then trigger a resize in the client,\n",
       "    // which will in turn request a refresh of the image.\n",
       "    this.send_message('resize', {'width': x_pixels, 'height': y_pixels});\n",
       "}\n",
       "\n",
       "mpl.figure.prototype.send_message = function(type, properties) {\n",
       "    properties['type'] = type;\n",
       "    properties['figure_id'] = this.id;\n",
       "    this.ws.send(JSON.stringify(properties));\n",
       "}\n",
       "\n",
       "mpl.figure.prototype.send_draw_message = function() {\n",
       "    if (!this.waiting) {\n",
       "        this.waiting = true;\n",
       "        this.ws.send(JSON.stringify({type: \"draw\", figure_id: this.id}));\n",
       "    }\n",
       "}\n",
       "\n",
       "\n",
       "mpl.figure.prototype.handle_save = function(fig, msg) {\n",
       "    var format_dropdown = fig.format_dropdown;\n",
       "    var format = format_dropdown.options[format_dropdown.selectedIndex].value;\n",
       "    fig.ondownload(fig, format);\n",
       "}\n",
       "\n",
       "\n",
       "mpl.figure.prototype.handle_resize = function(fig, msg) {\n",
       "    var size = msg['size'];\n",
       "    if (size[0] != fig.canvas.width || size[1] != fig.canvas.height) {\n",
       "        fig._resize_canvas(size[0], size[1]);\n",
       "        fig.send_message(\"refresh\", {});\n",
       "    };\n",
       "}\n",
       "\n",
       "mpl.figure.prototype.handle_rubberband = function(fig, msg) {\n",
       "    var x0 = msg['x0'];\n",
       "    var y0 = fig.canvas.height - msg['y0'];\n",
       "    var x1 = msg['x1'];\n",
       "    var y1 = fig.canvas.height - msg['y1'];\n",
       "    x0 = Math.floor(x0) + 0.5;\n",
       "    y0 = Math.floor(y0) + 0.5;\n",
       "    x1 = Math.floor(x1) + 0.5;\n",
       "    y1 = Math.floor(y1) + 0.5;\n",
       "    var min_x = Math.min(x0, x1);\n",
       "    var min_y = Math.min(y0, y1);\n",
       "    var width = Math.abs(x1 - x0);\n",
       "    var height = Math.abs(y1 - y0);\n",
       "\n",
       "    fig.rubberband_context.clearRect(\n",
       "        0, 0, fig.canvas.width, fig.canvas.height);\n",
       "\n",
       "    fig.rubberband_context.strokeRect(min_x, min_y, width, height);\n",
       "}\n",
       "\n",
       "mpl.figure.prototype.handle_figure_label = function(fig, msg) {\n",
       "    // Updates the figure title.\n",
       "    fig.header.textContent = msg['label'];\n",
       "}\n",
       "\n",
       "mpl.figure.prototype.handle_cursor = function(fig, msg) {\n",
       "    var cursor = msg['cursor'];\n",
       "    switch(cursor)\n",
       "    {\n",
       "    case 0:\n",
       "        cursor = 'pointer';\n",
       "        break;\n",
       "    case 1:\n",
       "        cursor = 'default';\n",
       "        break;\n",
       "    case 2:\n",
       "        cursor = 'crosshair';\n",
       "        break;\n",
       "    case 3:\n",
       "        cursor = 'move';\n",
       "        break;\n",
       "    }\n",
       "    fig.rubberband_canvas.style.cursor = cursor;\n",
       "}\n",
       "\n",
       "mpl.figure.prototype.handle_message = function(fig, msg) {\n",
       "    fig.message.textContent = msg['message'];\n",
       "}\n",
       "\n",
       "mpl.figure.prototype.handle_draw = function(fig, msg) {\n",
       "    // Request the server to send over a new figure.\n",
       "    fig.send_draw_message();\n",
       "}\n",
       "\n",
       "mpl.figure.prototype.handle_image_mode = function(fig, msg) {\n",
       "    fig.image_mode = msg['mode'];\n",
       "}\n",
       "\n",
       "mpl.figure.prototype.updated_canvas_event = function() {\n",
       "    // Called whenever the canvas gets updated.\n",
       "    this.send_message(\"ack\", {});\n",
       "}\n",
       "\n",
       "// A function to construct a web socket function for onmessage handling.\n",
       "// Called in the figure constructor.\n",
       "mpl.figure.prototype._make_on_message_function = function(fig) {\n",
       "    return function socket_on_message(evt) {\n",
       "        if (evt.data instanceof Blob) {\n",
       "            /* FIXME: We get \"Resource interpreted as Image but\n",
       "             * transferred with MIME type text/plain:\" errors on\n",
       "             * Chrome.  But how to set the MIME type?  It doesn't seem\n",
       "             * to be part of the websocket stream */\n",
       "            evt.data.type = \"image/png\";\n",
       "\n",
       "            /* Free the memory for the previous frames */\n",
       "            if (fig.imageObj.src) {\n",
       "                (window.URL || window.webkitURL).revokeObjectURL(\n",
       "                    fig.imageObj.src);\n",
       "            }\n",
       "\n",
       "            fig.imageObj.src = (window.URL || window.webkitURL).createObjectURL(\n",
       "                evt.data);\n",
       "            fig.updated_canvas_event();\n",
       "            fig.waiting = false;\n",
       "            return;\n",
       "        }\n",
       "        else if (typeof evt.data === 'string' && evt.data.slice(0, 21) == \"data:image/png;base64\") {\n",
       "            fig.imageObj.src = evt.data;\n",
       "            fig.updated_canvas_event();\n",
       "            fig.waiting = false;\n",
       "            return;\n",
       "        }\n",
       "\n",
       "        var msg = JSON.parse(evt.data);\n",
       "        var msg_type = msg['type'];\n",
       "\n",
       "        // Call the  \"handle_{type}\" callback, which takes\n",
       "        // the figure and JSON message as its only arguments.\n",
       "        try {\n",
       "            var callback = fig[\"handle_\" + msg_type];\n",
       "        } catch (e) {\n",
       "            console.log(\"No handler for the '\" + msg_type + \"' message type: \", msg);\n",
       "            return;\n",
       "        }\n",
       "\n",
       "        if (callback) {\n",
       "            try {\n",
       "                // console.log(\"Handling '\" + msg_type + \"' message: \", msg);\n",
       "                callback(fig, msg);\n",
       "            } catch (e) {\n",
       "                console.log(\"Exception inside the 'handler_\" + msg_type + \"' callback:\", e, e.stack, msg);\n",
       "            }\n",
       "        }\n",
       "    };\n",
       "}\n",
       "\n",
       "// from http://stackoverflow.com/questions/1114465/getting-mouse-location-in-canvas\n",
       "mpl.findpos = function(e) {\n",
       "    //this section is from http://www.quirksmode.org/js/events_properties.html\n",
       "    var targ;\n",
       "    if (!e)\n",
       "        e = window.event;\n",
       "    if (e.target)\n",
       "        targ = e.target;\n",
       "    else if (e.srcElement)\n",
       "        targ = e.srcElement;\n",
       "    if (targ.nodeType == 3) // defeat Safari bug\n",
       "        targ = targ.parentNode;\n",
       "\n",
       "    // jQuery normalizes the pageX and pageY\n",
       "    // pageX,Y are the mouse positions relative to the document\n",
       "    // offset() returns the position of the element relative to the document\n",
       "    var x = e.pageX - $(targ).offset().left;\n",
       "    var y = e.pageY - $(targ).offset().top;\n",
       "\n",
       "    return {\"x\": x, \"y\": y};\n",
       "};\n",
       "\n",
       "/*\n",
       " * return a copy of an object with only non-object keys\n",
       " * we need this to avoid circular references\n",
       " * http://stackoverflow.com/a/24161582/3208463\n",
       " */\n",
       "function simpleKeys (original) {\n",
       "  return Object.keys(original).reduce(function (obj, key) {\n",
       "    if (typeof original[key] !== 'object')\n",
       "        obj[key] = original[key]\n",
       "    return obj;\n",
       "  }, {});\n",
       "}\n",
       "\n",
       "mpl.figure.prototype.mouse_event = function(event, name) {\n",
       "    var canvas_pos = mpl.findpos(event)\n",
       "\n",
       "    if (name === 'button_press')\n",
       "    {\n",
       "        this.canvas.focus();\n",
       "        this.canvas_div.focus();\n",
       "    }\n",
       "\n",
       "    var x = canvas_pos.x;\n",
       "    var y = canvas_pos.y;\n",
       "\n",
       "    this.send_message(name, {x: x, y: y, button: event.button,\n",
       "                             step: event.step,\n",
       "                             guiEvent: simpleKeys(event)});\n",
       "\n",
       "    /* This prevents the web browser from automatically changing to\n",
       "     * the text insertion cursor when the button is pressed.  We want\n",
       "     * to control all of the cursor setting manually through the\n",
       "     * 'cursor' event from matplotlib */\n",
       "    event.preventDefault();\n",
       "    return false;\n",
       "}\n",
       "\n",
       "mpl.figure.prototype._key_event_extra = function(event, name) {\n",
       "    // Handle any extra behaviour associated with a key event\n",
       "}\n",
       "\n",
       "mpl.figure.prototype.key_event = function(event, name) {\n",
       "\n",
       "    // Prevent repeat events\n",
       "    if (name == 'key_press')\n",
       "    {\n",
       "        if (event.which === this._key)\n",
       "            return;\n",
       "        else\n",
       "            this._key = event.which;\n",
       "    }\n",
       "    if (name == 'key_release')\n",
       "        this._key = null;\n",
       "\n",
       "    var value = '';\n",
       "    if (event.ctrlKey && event.which != 17)\n",
       "        value += \"ctrl+\";\n",
       "    if (event.altKey && event.which != 18)\n",
       "        value += \"alt+\";\n",
       "    if (event.shiftKey && event.which != 16)\n",
       "        value += \"shift+\";\n",
       "\n",
       "    value += 'k';\n",
       "    value += event.which.toString();\n",
       "\n",
       "    this._key_event_extra(event, name);\n",
       "\n",
       "    this.send_message(name, {key: value,\n",
       "                             guiEvent: simpleKeys(event)});\n",
       "    return false;\n",
       "}\n",
       "\n",
       "mpl.figure.prototype.toolbar_button_onclick = function(name) {\n",
       "    if (name == 'download') {\n",
       "        this.handle_save(this, null);\n",
       "    } else {\n",
       "        this.send_message(\"toolbar_button\", {name: name});\n",
       "    }\n",
       "};\n",
       "\n",
       "mpl.figure.prototype.toolbar_button_onmouseover = function(tooltip) {\n",
       "    this.message.textContent = tooltip;\n",
       "};\n",
       "mpl.toolbar_items = [[\"Home\", \"Reset original view\", \"fa fa-home icon-home\", \"home\"], [\"Back\", \"Back to  previous view\", \"fa fa-arrow-left icon-arrow-left\", \"back\"], [\"Forward\", \"Forward to next view\", \"fa fa-arrow-right icon-arrow-right\", \"forward\"], [\"\", \"\", \"\", \"\"], [\"Pan\", \"Pan axes with left mouse, zoom with right\", \"fa fa-arrows icon-move\", \"pan\"], [\"Zoom\", \"Zoom to rectangle\", \"fa fa-square-o icon-check-empty\", \"zoom\"], [\"\", \"\", \"\", \"\"], [\"Download\", \"Download plot\", \"fa fa-floppy-o icon-save\", \"download\"]];\n",
       "\n",
       "mpl.extensions = [\"eps\", \"jpeg\", \"pdf\", \"png\", \"ps\", \"raw\", \"svg\", \"tif\"];\n",
       "\n",
       "mpl.default_extension = \"png\";var comm_websocket_adapter = function(comm) {\n",
       "    // Create a \"websocket\"-like object which calls the given IPython comm\n",
       "    // object with the appropriate methods. Currently this is a non binary\n",
       "    // socket, so there is still some room for performance tuning.\n",
       "    var ws = {};\n",
       "\n",
       "    ws.close = function() {\n",
       "        comm.close()\n",
       "    };\n",
       "    ws.send = function(m) {\n",
       "        //console.log('sending', m);\n",
       "        comm.send(m);\n",
       "    };\n",
       "    // Register the callback with on_msg.\n",
       "    comm.on_msg(function(msg) {\n",
       "        //console.log('receiving', msg['content']['data'], msg);\n",
       "        // Pass the mpl event to the overriden (by mpl) onmessage function.\n",
       "        ws.onmessage(msg['content']['data'])\n",
       "    });\n",
       "    return ws;\n",
       "}\n",
       "\n",
       "mpl.mpl_figure_comm = function(comm, msg) {\n",
       "    // This is the function which gets called when the mpl process\n",
       "    // starts-up an IPython Comm through the \"matplotlib\" channel.\n",
       "\n",
       "    var id = msg.content.data.id;\n",
       "    // Get hold of the div created by the display call when the Comm\n",
       "    // socket was opened in Python.\n",
       "    var element = $(\"#\" + id);\n",
       "    var ws_proxy = comm_websocket_adapter(comm)\n",
       "\n",
       "    function ondownload(figure, format) {\n",
       "        window.open(figure.imageObj.src);\n",
       "    }\n",
       "\n",
       "    var fig = new mpl.figure(id, ws_proxy,\n",
       "                           ondownload,\n",
       "                           element.get(0));\n",
       "\n",
       "    // Call onopen now - mpl needs it, as it is assuming we've passed it a real\n",
       "    // web socket which is closed, not our websocket->open comm proxy.\n",
       "    ws_proxy.onopen();\n",
       "\n",
       "    fig.parent_element = element.get(0);\n",
       "    fig.cell_info = mpl.find_output_cell(\"<div id='\" + id + \"'></div>\");\n",
       "    if (!fig.cell_info) {\n",
       "        console.error(\"Failed to find cell for figure\", id, fig);\n",
       "        return;\n",
       "    }\n",
       "\n",
       "    var output_index = fig.cell_info[2]\n",
       "    var cell = fig.cell_info[0];\n",
       "\n",
       "};\n",
       "\n",
       "mpl.figure.prototype.handle_close = function(fig, msg) {\n",
       "    fig.root.unbind('remove')\n",
       "\n",
       "    // Update the output cell to use the data from the current canvas.\n",
       "    fig.push_to_output();\n",
       "    var dataURL = fig.canvas.toDataURL();\n",
       "    // Re-enable the keyboard manager in IPython - without this line, in FF,\n",
       "    // the notebook keyboard shortcuts fail.\n",
       "    IPython.keyboard_manager.enable()\n",
       "    $(fig.parent_element).html('<img src=\"' + dataURL + '\">');\n",
       "    fig.close_ws(fig, msg);\n",
       "}\n",
       "\n",
       "mpl.figure.prototype.close_ws = function(fig, msg){\n",
       "    fig.send_message('closing', msg);\n",
       "    // fig.ws.close()\n",
       "}\n",
       "\n",
       "mpl.figure.prototype.push_to_output = function(remove_interactive) {\n",
       "    // Turn the data on the canvas into data in the output cell.\n",
       "    var dataURL = this.canvas.toDataURL();\n",
       "    this.cell_info[1]['text/html'] = '<img src=\"' + dataURL + '\">';\n",
       "}\n",
       "\n",
       "mpl.figure.prototype.updated_canvas_event = function() {\n",
       "    // Tell IPython that the notebook contents must change.\n",
       "    IPython.notebook.set_dirty(true);\n",
       "    this.send_message(\"ack\", {});\n",
       "    var fig = this;\n",
       "    // Wait a second, then push the new image to the DOM so\n",
       "    // that it is saved nicely (might be nice to debounce this).\n",
       "    setTimeout(function () { fig.push_to_output() }, 1000);\n",
       "}\n",
       "\n",
       "mpl.figure.prototype._init_toolbar = function() {\n",
       "    var fig = this;\n",
       "\n",
       "    var nav_element = $('<div/>')\n",
       "    nav_element.attr('style', 'width: 100%');\n",
       "    this.root.append(nav_element);\n",
       "\n",
       "    // Define a callback function for later on.\n",
       "    function toolbar_event(event) {\n",
       "        return fig.toolbar_button_onclick(event['data']);\n",
       "    }\n",
       "    function toolbar_mouse_event(event) {\n",
       "        return fig.toolbar_button_onmouseover(event['data']);\n",
       "    }\n",
       "\n",
       "    for(var toolbar_ind in mpl.toolbar_items){\n",
       "        var name = mpl.toolbar_items[toolbar_ind][0];\n",
       "        var tooltip = mpl.toolbar_items[toolbar_ind][1];\n",
       "        var image = mpl.toolbar_items[toolbar_ind][2];\n",
       "        var method_name = mpl.toolbar_items[toolbar_ind][3];\n",
       "\n",
       "        if (!name) { continue; };\n",
       "\n",
       "        var button = $('<button class=\"btn btn-default\" href=\"#\" title=\"' + name + '\"><i class=\"fa ' + image + ' fa-lg\"></i></button>');\n",
       "        button.click(method_name, toolbar_event);\n",
       "        button.mouseover(tooltip, toolbar_mouse_event);\n",
       "        nav_element.append(button);\n",
       "    }\n",
       "\n",
       "    // Add the status bar.\n",
       "    var status_bar = $('<span class=\"mpl-message\" style=\"text-align:right; float: right;\"/>');\n",
       "    nav_element.append(status_bar);\n",
       "    this.message = status_bar[0];\n",
       "\n",
       "    // Add the close button to the window.\n",
       "    var buttongrp = $('<div class=\"btn-group inline pull-right\"></div>');\n",
       "    var button = $('<button class=\"btn btn-mini btn-primary\" href=\"#\" title=\"Stop Interaction\"><i class=\"fa fa-power-off icon-remove icon-large\"></i></button>');\n",
       "    button.click(function (evt) { fig.handle_close(fig, {}); } );\n",
       "    button.mouseover('Stop Interaction', toolbar_mouse_event);\n",
       "    buttongrp.append(button);\n",
       "    var titlebar = this.root.find($('.ui-dialog-titlebar'));\n",
       "    titlebar.prepend(buttongrp);\n",
       "}\n",
       "\n",
       "mpl.figure.prototype._root_extra_style = function(el){\n",
       "    var fig = this\n",
       "    el.on(\"remove\", function(){\n",
       "\tfig.close_ws(fig, {});\n",
       "    });\n",
       "}\n",
       "\n",
       "mpl.figure.prototype._canvas_extra_style = function(el){\n",
       "    // this is important to make the div 'focusable\n",
       "    el.attr('tabindex', 0)\n",
       "    // reach out to IPython and tell the keyboard manager to turn it's self\n",
       "    // off when our div gets focus\n",
       "\n",
       "    // location in version 3\n",
       "    if (IPython.notebook.keyboard_manager) {\n",
       "        IPython.notebook.keyboard_manager.register_events(el);\n",
       "    }\n",
       "    else {\n",
       "        // location in version 2\n",
       "        IPython.keyboard_manager.register_events(el);\n",
       "    }\n",
       "\n",
       "}\n",
       "\n",
       "mpl.figure.prototype._key_event_extra = function(event, name) {\n",
       "    var manager = IPython.notebook.keyboard_manager;\n",
       "    if (!manager)\n",
       "        manager = IPython.keyboard_manager;\n",
       "\n",
       "    // Check for shift+enter\n",
       "    if (event.shiftKey && event.which == 13) {\n",
       "        this.canvas_div.blur();\n",
       "        event.shiftKey = false;\n",
       "        // Send a \"J\" for go to next cell\n",
       "        event.which = 74;\n",
       "        event.keyCode = 74;\n",
       "        manager.command_mode();\n",
       "        manager.handle_keydown(event);\n",
       "    }\n",
       "}\n",
       "\n",
       "mpl.figure.prototype.handle_save = function(fig, msg) {\n",
       "    fig.ondownload(fig, null);\n",
       "}\n",
       "\n",
       "\n",
       "mpl.find_output_cell = function(html_output) {\n",
       "    // Return the cell and output element which can be found *uniquely* in the notebook.\n",
       "    // Note - this is a bit hacky, but it is done because the \"notebook_saving.Notebook\"\n",
       "    // IPython event is triggered only after the cells have been serialised, which for\n",
       "    // our purposes (turning an active figure into a static one), is too late.\n",
       "    var cells = IPython.notebook.get_cells();\n",
       "    var ncells = cells.length;\n",
       "    for (var i=0; i<ncells; i++) {\n",
       "        var cell = cells[i];\n",
       "        if (cell.cell_type === 'code'){\n",
       "            for (var j=0; j<cell.output_area.outputs.length; j++) {\n",
       "                var data = cell.output_area.outputs[j];\n",
       "                if (data.data) {\n",
       "                    // IPython >= 3 moved mimebundle to data attribute of output\n",
       "                    data = data.data;\n",
       "                }\n",
       "                if (data['text/html'] == html_output) {\n",
       "                    return [cell, data, j];\n",
       "                }\n",
       "            }\n",
       "        }\n",
       "    }\n",
       "}\n",
       "\n",
       "// Register the function which deals with the matplotlib target/channel.\n",
       "// The kernel may be null if the page has been refreshed.\n",
       "if (IPython.notebook.kernel != null) {\n",
       "    IPython.notebook.kernel.comm_manager.register_target('matplotlib', mpl.mpl_figure_comm);\n",
       "}\n"
      ],
      "text/plain": [
       "<IPython.core.display.Javascript object>"
      ]
     },
     "metadata": {},
     "output_type": "display_data"
    },
    {
     "data": {
      "text/html": [
       "<img src=\"data:image/png;base64,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\">"
      ],
      "text/plain": [
       "<IPython.core.display.HTML object>"
      ]
     },
     "metadata": {},
     "output_type": "display_data"
    }
   ],
   "source": [
    "%matplotlib notebook\n",
    "networkx.draw_networkx(new_graph,arrows=True,\n",
    "                       labels={node:rect_graph.node_descriptions[index] for index, \n",
    "                               node in enumerate(rect_graph.node_names)},node_size=1500,font_size=10)\n"
   ]
  },
  {
   "cell_type": "code",
   "execution_count": null,
   "metadata": {
    "collapsed": true
   },
   "outputs": [],
   "source": []
  }
 ],
 "metadata": {
  "kernelspec": {
   "display_name": "Python 2",
   "language": "python",
   "name": "python2"
  },
  "language_info": {
   "codemirror_mode": {
    "name": "ipython",
    "version": 2
   },
   "file_extension": ".py",
   "mimetype": "text/x-python",
   "name": "python",
   "nbconvert_exporter": "python",
   "pygments_lexer": "ipython2",
   "version": "2.7.12"
  }
 },
 "nbformat": 4,
 "nbformat_minor": 0
}
