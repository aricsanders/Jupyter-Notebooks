{
 "cells": [
  {
   "cell_type": "markdown",
   "metadata": {},
   "source": [
    "# Example of data translation using a bijective graph\n",
    "The graph method creates a series of interlocking nodes that have transformations between themselves. There are a few basic rules:\n",
    "1. Any node has an edge into and out of itself\n",
    "2. Any path that results in the same end location creates the same node \n",
    "\n",
    "## This example is one of a rectangular table, a set of column modeled data. \n",
    "### This graph has the folowing nodes, and hence transformations between all of them\n",
    "1. n1, 'Pandas Data Frame', in memory \n",
    "2. n2, 'AsciiDataTable', in memory\n",
    "3. n3, 'HDF File', on disk\n",
    "4. n4, 'XML Data Table',in memory\n",
    "5. n5, 'Excel File', on disk\n",
    "6. n6, 'HTML String',in memory\n",
    "7. n7, 'JSON File', on disk\n",
    "8. n8, 'JSON String',in memory\n",
    "9. n9,'CSV File', on disk\n",
    "10. n10, 'Matlab File', on disk"
   ]
  },
  {
   "cell_type": "code",
   "execution_count": 1,
   "metadata": {
    "collapsed": false
   },
   "outputs": [
    {
     "name": "stdout",
     "output_type": "stream",
     "text": [
      "Importing Code.Utils.Names\n",
      "Importing Code.DataHandlers.NISTModels\n",
      "Importing Code.DataHandlers.GeneralModels\n",
      "Importing Code.DataHandlers.TouchstoneModels\n",
      "Importing Code.DataHandlers.XMLModels\n",
      "Importing Code.DataHandlers.RadiCALModels\n",
      "Importing Code.DataHandlers.ZipModels\n",
      "Importing Code.DataHandlers.Translations\n",
      "Importing Code.DataHandlers.StatistiCALModels\n",
      "Importing Code.DataHandlers.MUFModels\n",
      "Importing Code.Analysis.SParameter\n",
      "Importing Code.InstrumentControl.Instruments\n",
      "Importing Code.InstrumentControl.Experiments\n"
     ]
    }
   ],
   "source": [
    "from pyMeasure import *\n",
    "import pandas\n",
    "from scipy.io import savemat,loadmat\n",
    "import re\n",
    "import datetime\n",
    "import numpy as np\n",
    "from ipywidgets import *\n",
    "import json\n",
    "import networkx"
   ]
  },
  {
   "cell_type": "code",
   "execution_count": 2,
   "metadata": {
    "collapsed": false
   },
   "outputs": [],
   "source": [
    "def remove_circular_paths(path):\n",
    "    \"\"\"Removes pieces of the path that just end on the same node\"\"\"\n",
    "    edge_pattern=re.compile(\"edge_(?P<begin_node>\\w+)_(?P<end_node>\\w+)_(?P<iterator>\\w+)\")\n",
    "    past_locations=[]\n",
    "    \n",
    "    for index,edge in enumerate(path):\n",
    "        match=re.match(edge_pattern,edge)\n",
    "        begin_node=match.groupdict()[\"begin_node\"]\n",
    "        end_node=match.groupdict()[\"end_node\"]\n",
    "        past_locations.append(begin_node)\n",
    "        #print(\"{0} is {1}\".format(\"past_locations\",past_locations))\n",
    "    new_path=[]\n",
    "    node_index=0\n",
    "    between_list=[False for item in past_locations]\n",
    "    while(node_index<len(past_locations)):\n",
    "        node=past_locations[node_index]\n",
    "        old_path=new_path\n",
    "        new_path=[]\n",
    "        \n",
    "        if past_locations.count(node)>1:\n",
    "            equality_list=map(lambda x:x==node,past_locations)\n",
    "            between=False\n",
    "            for index,equality in enumerate(equality_list):\n",
    "                if equality:\n",
    "                    between=not between\n",
    "                    between_list[index]=between or between_list[index]\n",
    "                else:\n",
    "                    between_list[index]=between or between_list[index] \n",
    "        #print(\"{0} is {1}\".format(\"between_list\",between_list))\n",
    "        for index,item in enumerate(between_list):\n",
    "            if not item:\n",
    "                new_path.append(path[index])\n",
    "        node_index+=1\n",
    "\n",
    "    if new_path in [[]]:\n",
    "        new_path=path\n",
    "                    \n",
    "    return new_path\n",
    "\n",
    "def edge_1_to_2(in_string):\n",
    "    return in_string.splitlines()\n",
    "    \n",
    "def edge_2_to_1(string_list):\n",
    "    return string_list_collapse(string_list)\n",
    "\n",
    "class Graph():\n",
    "    def __init__(self,**options):\n",
    "        \"\"\"Initializes the graph. The first 2 nodes and two edges forming a bijection between them are required\"\"\"\n",
    "        defaults={\"graph_name\":\"Graph\",\n",
    "                  \"node_names\":['n1','n2'],\n",
    "                  \"node_descriptions\":{'n1':\"A plain string\",\n",
    "                                       'n2':\"A list of strings with no \\\\n, created with string.splitlines()\"},\n",
    "                  \"current_node\":'n1',\n",
    "                  \"state\":[1,0],\n",
    "                  \"data\":\"This is a test string\\n it has to have multiple lines \\n and many characters 34%6\\n^\",\n",
    "                  \"edge_2_to_1\":edge_2_to_1,\n",
    "                  \"edge_1_to_2\":edge_1_to_2\n",
    "                 }\n",
    "        self.options={}\n",
    "        for key,value in defaults.iteritems():\n",
    "            self.options[key]=value\n",
    "        for key,value in options.iteritems():\n",
    "            self.options[key]=value\n",
    "        self.elements=['graph_name','node_names','node_descriptions','current_node','state','data']\n",
    "        for element in self.elements:\n",
    "            self.__dict__[element]=self.options[element]\n",
    "        self.edges=[]\n",
    "        self.edge_matrices=[]\n",
    "        self.state_matrix=np.matrix(self.state).T\n",
    "        # Add the first 2 edges, required to intialize the graph properly\n",
    "        self.add_edge(self.node_names[0],self.node_names[1],self.options[\"edge_1_to_2\"])\n",
    "        self.add_edge(self.node_names[1],self.node_names[0],self.options[\"edge_2_to_1\"])\n",
    "        \n",
    "    def set_state(self,node_name,node_data):\n",
    "        \"\"\"Sets the graph state to be the state specified by node_name, and node_data\"\"\"\n",
    "        try:\n",
    "            current_node_state_position=self.node_names.index(node_name)\n",
    "            self.current_node=node_name\n",
    "            self.data=node_data\n",
    "            self.state=[0 for i in range(len(self.node_names))]\n",
    "            self.state[current_node_state_position]=1\n",
    "            self.state_matrix=np.matrix(self.state).T\n",
    "        except:\n",
    "            print(\"Could not set the state of graph: {0}\".format(self.graph_name))\n",
    "            raise\n",
    "            \n",
    "    def add_edge(self,begin_node=None,end_node=None,edge_function=None):\n",
    "        \"\"\"Adds an edge mapping one node to another, required input is begin_node (it's name)\n",
    "        end_node, and the edge function\"\"\"\n",
    "        # check to see if edge is defined if it is increment a number\n",
    "        edge_match=re.compile(\"edge_{0}_{1}\".format(begin_node,end_node))\n",
    "        keys=self.__dict__.keys()\n",
    "        #print keys\n",
    "        iterator=0\n",
    "        for key in keys:\n",
    "            if re.match(edge_match,key):\n",
    "                iterator+=1\n",
    "        edge_name=\"edge_{0}_{1}_{2:0>3d}\".format(begin_node,end_node,iterator)\n",
    "        self.__dict__[edge_name]=edge_function\n",
    "        self.edges.append(edge_name)\n",
    "        edge_matrix=np.zeros((len(self.state),len(self.state)))\n",
    "        begin_position=self.node_names.index(begin_node)\n",
    "        end_position=self.node_names.index(end_node)\n",
    "        edge_matrix[end_position][begin_position]=1\n",
    "        edge_matrix=np.matrix(edge_matrix)\n",
    "        self.edge_matrices.append(edge_matrix)\n",
    "        \n",
    "    def move_to(self,path):\n",
    "        \"\"\"Changes the state of the graph by moving along the path specified\"\"\"\n",
    "        print path\n",
    "        for index,edge in enumerate(path):\n",
    "            #print edge\n",
    "            edge_pattern='edge_(?P<begin_node>\\w+)_(?P<end_node>\\w+)_(?P<iterator>\\w+)'\n",
    "            match=re.match(edge_pattern,edge)\n",
    "            begin_node=match.groupdict()['begin_node']\n",
    "            end_node=match.groupdict()['end_node']\n",
    "            print(\"moving {0} -> {1}\".format(begin_node,end_node))\n",
    "            #print self.data\n",
    "            self.data=self.__dict__[edge](self.data)\n",
    "            #print self.data\n",
    "            self.current_node=match.groupdict()['end_node']\n",
    "            self.state=[0 for i in range(len(self.node_names))]\n",
    "            position=self.node_names.index(self.current_node)\n",
    "            self.state[position]=1\n",
    "            self.state_matrix=np.matrix(self.state).T\n",
    "            #print self.state\n",
    "            #print self.current_node\n",
    "            \n",
    "    def virtual_move_to(self,path):\n",
    "        \"\"\"virtual_move_to simulates moving but does not change the state of the graph\"\"\"\n",
    "        #print path\n",
    "        temp_state=self.state\n",
    "        temp_data=self.data\n",
    "        temp_current_node=self.current_node\n",
    "        temp_node_names=self.node_names\n",
    "        for index,edge in enumerate(path):\n",
    "            #print edge\n",
    "            edge_pattern='edge_(?P<begin_node>\\w+)_(?P<end_node>\\w+)_(?P<iterator>\\w+)'\n",
    "            match=re.match(edge_pattern,edge)\n",
    "            begin_node=match.groupdict()['begin_node']\n",
    "            end_node=match.groupdict()['end_node']\n",
    "            #print(\"moving {0} -> {1}\".format(begin_node,end_node))\n",
    "            #print self.data\n",
    "            temp_data=self.__dict__[edge](temp_data)\n",
    "            #print self.data\n",
    "            temp_current_node=match.groupdict()['end_node']\n",
    "            temp_state=[0 for i in range(len(temp_node_names))]\n",
    "            position=temp_node_names.index(temp_current_node)\n",
    "            temp_state[position]=1\n",
    "            #print temp_state\n",
    "            #print self.state\n",
    "            #print self.current_node  \n",
    "            \n",
    "    def __str__(self):\n",
    "        return str(self.data)\n",
    "    \n",
    "    def add_node(self,node_name,edge_into_node_begin,edge_into_node_function,edge_out_node_end,\n",
    "                 edge_out_node_function):\n",
    "        \"\"\"Adds a node to the graph. Required input is node_name (a string with no spaces), \n",
    "        a reference to an entering node,the function mapping the entering node to the new node, \n",
    "        a reference to an exiting node and the function mapping the\n",
    "        new node to the exiting node.\"\"\"\n",
    "        # first check if node into and out of node is good\n",
    "        self.node_names.append(node_name)\n",
    "        self.state.append(0)\n",
    "        self.state_matrix=np.matrix(self.state).T\n",
    "        for index,matrix in enumerate(self.edge_matrices):\n",
    "            pad_row=np.zeros((1,len(matrix)))\n",
    "            new_matrix=np.concatenate((matrix, pad_row), axis=0)\n",
    "            pad_column=np.zeros((1,len(self.node_names)))\n",
    "            new_matrix=np.concatenate((new_matrix, pad_column.T), axis=1)\n",
    "            #print(\"New matrix is :\\n{0}\".format(new_matrix))\n",
    "            self.edge_matrices[index]=new_matrix\n",
    "        self.add_edge(begin_node=node_name,end_node=edge_out_node_end,edge_function=edge_out_node_function)\n",
    "        self.add_edge(begin_node=edge_into_node_begin,end_node=node_name,edge_function=edge_into_node_function)\n",
    "    \n",
    "    def path_length(self,path,num_repeats=10):\n",
    "        \"\"\"Determines the length of a given path, currently the metric is based on the time to move to.\"\"\"\n",
    "        begin_time=datetime.datetime.now()\n",
    "        #num_repeats=100\n",
    "        for i in range(num_repeats):\n",
    "            self.virtual_move_to(path)\n",
    "        end_time=datetime.datetime.now()\n",
    "        delta_t=end_time-begin_time\n",
    "        path_length=delta_t.total_seconds()/float(num_repeats)\n",
    "        if path_length ==0.0:\n",
    "            print(\"Warning the path length is less than 1 microsecond,\" \n",
    "                  \"make sure num_repeats is high enough to measure it.\")\n",
    "        return path_length\n",
    "                \n",
    "    def is_path_valid(self,path):\n",
    "        \"\"\"Returns True if the path is valid from the current node position or False otherwise\"\"\"\n",
    "        null_state=[0 for i in range(len(self.node_names))]\n",
    "        null_state_matrix=np.matrix(null_state).T\n",
    "        new_state=np.matrix(self.state).T\n",
    "        for index,edge in enumerate(path):\n",
    "            #print index\n",
    "            #print edge\n",
    "            edge_position=self.edges.index(edge)\n",
    "            move_matrix=self.edge_matrices[edge_position]\n",
    "            #print move_matrix\n",
    "            new_state=move_matrix*new_state\n",
    "            if new_state.any()==null_state_matrix.any():\n",
    "                #print new_state\n",
    "                #print null_state_matrix\n",
    "                return False\n",
    "        return True\n",
    "            \n",
    "            \n",
    "    def get_entering_nodes(self,node): \n",
    "        \"\"\"Returns all nodes that have an edge that enter the specificed node\"\"\"\n",
    "        enter_edge_pattern=re.compile('edge_(?P<begin_node>\\w+)_{0}_(?P<iterator>\\w+)'.format(node))\n",
    "        enter_nodes=[]\n",
    "        for index,edge in enumerate(self.edges):\n",
    "            enter_match=re.match(enter_edge_pattern,edge)\n",
    "            if enter_match:\n",
    "                enter_node=enter_match.groupdict()['begin_node']\n",
    "                enter_nodes.append(enter_node)\n",
    "        return enter_nodes\n",
    "    \n",
    "    def get_entering_edges(self,node): \n",
    "        \"\"\"Returns all edges that enter the specificed node\"\"\"\n",
    "        enter_edge_pattern=re.compile('edge_(?P<begin_node>\\w+)_{0}_(?P<iterator>\\w+)'.format(node))\n",
    "        enter_edges=[]\n",
    "        for index,edge in enumerate(self.edges):\n",
    "            if re.match(enter_edge_pattern,edge):\n",
    "                enter_edges.append(edge)\n",
    "        return enter_edges\n",
    "    \n",
    "    def get_exiting_edges(self,node):\n",
    "        \"\"\"Returns all edges that exit the specificed node\"\"\"\n",
    "        exit_edge_pattern=re.compile('edge_{0}_(?P<end_node>\\w+)_(?P<iterator>\\w+)'.format(node))\n",
    "        exit_edges=[]\n",
    "        for index,edge in enumerate(self.edges):\n",
    "            if re.match(exit_edge_pattern,edge):\n",
    "                exit_edges.append(edge)\n",
    "        return exit_edges \n",
    "    \n",
    "    def get_exiting_nodes(self,node): \n",
    "        \"\"\"Returns all nodes that have an edge leaving the specificed node\"\"\"\n",
    "        exit_edge_pattern=re.compile('edge_{0}_(?P<end_node>\\w+)_(?P<iterator>\\w+)'.format(node))\n",
    "        exit_nodes=[]\n",
    "        for index,edge in enumerate(self.edges):\n",
    "            exit_match=re.match(exit_edge_pattern,edge)\n",
    "            if exit_match:\n",
    "                exit_node=exit_match.groupdict()['end_node']\n",
    "                exit_nodes.append(exit_node)\n",
    "        return exit_nodes\n",
    "    \n",
    "    def get_path(self,first_node,last_node):\n",
    "        \"\"\"Returns the first path found between first node and last node, three step paths are broken\"\"\"\n",
    "        #TODO: Remove Circular Paths\n",
    "        edge_pattern=re.compile('edge_(?P<begin_node>\\w+)_(?P<end_node>\\w+)_(?P<iterator>\\w+)')\n",
    "        exit_paths=self.get_exiting_edges(first_node)\n",
    "        next_nodes=self.get_exiting_nodes(first_node)\n",
    "        #be careful here using the wrong assignment statement breaks this function \n",
    "        possible_paths=[]\n",
    "        for exit_path in exit_paths:\n",
    "            possible_paths.append([exit_path])\n",
    "        #print(\"{0} is {1}\".format('possible_paths',possible_paths))\n",
    "        for i in range(len(self.node_names)):\n",
    "            #print(\"{0} is {1}\".format('i',i))\n",
    "            #print(\"{0} is {1}\".format('possible_paths',possible_paths))\n",
    "            for index,path in enumerate(possible_paths):\n",
    "                #print(\"{0} is {1}\".format('index',index))\n",
    "                last_edge=path[-1]\n",
    "                #print(\"{0} is {1}\".format('last_edge',last_edge))\n",
    "                match=re.match(edge_pattern,last_edge)\n",
    "                begin_node=match.groupdict()['begin_node']\n",
    "                end_node=match.groupdict()['end_node']\n",
    "                #print(\"{0} is {1}\".format('end_node',end_node))\n",
    "                if end_node==last_node:\n",
    "                    #print(\"The path found is {0}\".format(path))\n",
    "                    return remove_circular_paths(path)\n",
    "                next_possible_paths=[]\n",
    "                next_edges=self.get_exiting_edges(end_node)\n",
    "                next_nodes=self.get_exiting_nodes(end_node)\n",
    "                #print(\"{0} is {1}\".format('next_edges',next_edges))\n",
    "                for next_edge_index,next_edge in enumerate(next_edges):\n",
    "                    #print(\"{0} is {1}\".format('next_edge_index',next_edge_index))\n",
    "                    #be careful here using the wrong assignment statement breaks this function \n",
    "                    #next_path=path is a deal breaker!! \n",
    "                    next_path=[]\n",
    "                    for edge in path:\n",
    "                        next_path.append(edge)\n",
    "                    #print(\"{0} is {1}\".format('next_path',next_path))\n",
    "                    #print(\"{0} is {1}\".format('next_edge',next_edge))\n",
    "                    #next_node=next_nodes[index]\n",
    "                    #print next_node\n",
    "                    next_match=re.match(edge_pattern,next_edge)\n",
    "                    next_node=next_match.groupdict()[\"end_node\"]\n",
    "                    begin_node_next_edge=next_match.groupdict()[\"begin_node\"]\n",
    "                    #print(\"{0} is {1}\".format('next_node',next_node))\n",
    "                    #print(\"{0} is {1}\".format('begin_node_next_edge',begin_node_next_edge))\n",
    "                    if next_node==last_node and begin_node_next_edge==end_node:\n",
    "                        next_path.append(next_edge)\n",
    "                        #print(\"The path found is {0}\".format(next_path))\n",
    "                        return next_path\n",
    "                    elif begin_node_next_edge==end_node:\n",
    "                        next_path.append(next_edge)\n",
    "                        # This keeps it from getting stuck on circular paths\n",
    "                        if next_edge in path:\n",
    "                        #ossible_paths=possible_paths\n",
    "                            print(\"next_edge was already in path\")\n",
    "                            continue\n",
    "                        next_possible_paths.append(next_path)\n",
    "                        \n",
    "                        #print(\"{0} is {1}\".format('next_possible_paths',next_possible_paths))\n",
    "                    else:\n",
    "                        print(\"Path is not found\")\n",
    "                        pass\n",
    "\n",
    "                    #print(\"{0} is {1}\".format('next_possible_paths',next_possible_paths))\n",
    "                if next_possible_paths:\n",
    "                    possible_paths=next_possible_paths\n",
    "                #print(\"{0} is {1}\".format('possible_paths',possible_paths))\n",
    "    \n",
    "    def move_to_node(self,node):\n",
    "        \"\"\"Moves from current_node to the specified node\"\"\"\n",
    "        path=self.get_path(self.current_node,node)\n",
    "        self.move_to(path)\n",
    "            \n",
    "    def check_closed_path(self):\n",
    "        \"\"\"Checks that data is not changed for the first closed path found. Returns True if data==data after\n",
    "        moving around the closed path, False otherwise. Starting point is current_node \"\"\"\n",
    "        temp_data=self.data\n",
    "        path=self.get_path(self.current_node,self.current_node)\n",
    "        if self.is_path_valid(path):\n",
    "            pass\n",
    "        else:\n",
    "            print(\"Path is not valid, graph definition is broken\")\n",
    "            raise\n",
    "        out=temp_data==self.data\n",
    "        out_list=[self.current_node,path,out]\n",
    "        print(\"The assertion that the data remains unchanged,\\n\" \n",
    "              \"for node {0} following path {1} is {2}\".format(*out_list))\n",
    "        return out \n",
    "    \n",
    "    def is_graph_isomorphic(self):\n",
    "        \"\"\"Returns True if all nodes have closed paths that preserve the data, False otherwise\"\"\"\n",
    "        out=True\n",
    "        for node in self.node_names:\n",
    "            self.move_to_node(node)\n",
    "            if not self.check_closed_path:\n",
    "                out=False\n",
    "        return out\n",
    "    \n",
    "    def show(self,**options):\n",
    "        \"\"\"Shows the graph using matplotlib and networkx\"\"\"\n",
    "        # Should be seperated to allow for fixed presentation?\n",
    "        defaults={\"descriptions\":False,\"save_figure\":False,\"path\":None,\"active_node\":True}\n",
    "        show_options={}\n",
    "        for key,value in defaults.iteritems():\n",
    "            show_options[key]=value\n",
    "        for key,value in options.iteritems():\n",
    "            show_options[key]=value\n",
    "        new_graph=networkx.DiGraph()\n",
    "        edge_pattern=re.compile(\"edge_(?P<begin_node>\\w+)_(?P<end_node>\\w+)_(?P<iterator>\\w+)\")\n",
    "        for node in self.node_names:\n",
    "            new_graph.add_node(node)\n",
    "        for edge in self.edges:\n",
    "            match=re.match(edge_pattern,edge)\n",
    "            if match:\n",
    "                begin_node=match.groupdict()[\"begin_node\"]\n",
    "                end_node=match.groupdict()[\"end_node\"]\n",
    "                new_graph.add_edge(begin_node,end_node)\n",
    "                #print(\"Begin Node = {0}, End Node= {1}\".format(begin_node,end_node))\n",
    "        #print(\"{0} is {1}\".format('new_graph.nodes()',new_graph.nodes()))\n",
    "        if show_options[\"active_node\"]:\n",
    "            node_colors=[]\n",
    "            for node in new_graph.nodes():\n",
    "                if node==self.current_node:\n",
    "                    node_colors.append('b')\n",
    "                else:\n",
    "                    node_colors.append('r')\n",
    "        else:\n",
    "            node_colors=['r' for node in self.node_names]\n",
    "        #print(\"{0} is {1}\".format('node_colors',node_colors))\n",
    "        if show_options[\"descriptions\"]:\n",
    "            node_labels={node:rect_graph.node_descriptions[index] for index, \n",
    "                               node in enumerate(self.node_names)}\n",
    "            networkx.draw_networkx(new_graph,arrows=True,\n",
    "                       labels=node_labels,node_color=node_colors,\n",
    "                                   node_size=1500,font_size=10)\n",
    "            #print(\"{0} is {1}\".format('node_labels',node_labels))\n",
    "        else:\n",
    "            networkx.draw_networkx(new_graph,arrows=True,node_color=node_colors)\n",
    "            \n",
    "        plt.suptitle(self.options[\"graph_name\"])\n",
    "        plt.show()\n",
    "            \n"
   ]
  },
  {
   "cell_type": "code",
   "execution_count": 3,
   "metadata": {
    "collapsed": false
   },
   "outputs": [
    {
     "name": "stdout",
     "output_type": "stream",
     "text": [
      "The self.metadata[\"Device_Id\"] variable is 700437\n"
     ]
    }
   ],
   "source": [
    "options={}\n",
    "options[\"data\"]=[[1,2,3],[4,5,6]]\n",
    "options[\"column_names\"]=['a','b','c']\n",
    "table=AsciiDataTable(None,**options)\n",
    "table=OnePortCalrepModel(os.path.join(TESTS_DIRECTORY,'700437.asc'))\n",
    "table=SNP(os.path.join(TESTS_DIRECTORY,'Solution_0.s4p'))\n",
    "data_frame=AsciiDataTable_to_DataFrame(table)"
   ]
  },
  {
   "cell_type": "code",
   "execution_count": 4,
   "metadata": {
    "collapsed": true
   },
   "outputs": [],
   "source": [
    "graph_options={\"graph_name\":\"Rectangular Graph\",\n",
    "                  \"node_names\":['n1','n2'],\n",
    "                  \"node_descriptions\":[\"Pandas Data Frame\",\"AsciiDataTable\"],\n",
    "                  \"current_node\":'n1',\n",
    "                  \"state\":[1,0],\n",
    "                  \"data\":data_frame,\n",
    "                  \"edge_2_to_1\":AsciiDataTable_to_DataFrame,\n",
    "                  \"edge_1_to_2\":DataFrame_to_AsciiDataTable\n",
    "                 }\n",
    "rect_graph=Graph(**graph_options)"
   ]
  },
  {
   "cell_type": "code",
   "execution_count": 715,
   "metadata": {
    "collapsed": false
   },
   "outputs": [
    {
     "data": {
      "image/png": "[encoded data removed]",
      "text/plain": [
       "<matplotlib.figure.Figure at 0x17afb6d8>"
      ]
     },
     "metadata": {},
     "output_type": "display_data"
    },
    {
     "name": "stdout",
     "output_type": "stream",
     "text": [
      "[1, 0]\n",
      "['n1', 'n2']\n",
      "n1\n",
      "['edge_n1_n2_000']\n",
      "moving n1 -> n2\n"
     ]
    },
    {
     "data": {
      "image/png": "[encoded data removed]",
      "text/plain": [
       "<matplotlib.figure.Figure at 0x17afbd68>"
      ]
     },
     "metadata": {},
     "output_type": "display_data"
    }
   ],
   "source": [
    "rect_graph.show(descriptions=False)\n",
    "print rect_graph.state\n",
    "print rect_graph.node_names\n",
    "print rect_graph.current_node\n",
    "rect_graph.move_to_node(\"n2\")\n",
    "rect_graph.show()"
   ]
  },
  {
   "cell_type": "code",
   "execution_count": 716,
   "metadata": {
    "collapsed": false
   },
   "outputs": [
    {
     "name": "stdout",
     "output_type": "stream",
     "text": [
      "['edge_n2_n1_000']\n",
      "moving n2 -> n1\n",
      "['edge_n1_n2_000']\n",
      "moving n1 -> n2\n"
     ]
    },
    {
     "data": {
      "text/plain": [
       "True"
      ]
     },
     "execution_count": 716,
     "metadata": {},
     "output_type": "execute_result"
    }
   ],
   "source": [
    "rect_graph.is_graph_isomorphic()"
   ]
  },
  {
   "cell_type": "code",
   "execution_count": 717,
   "metadata": {
    "collapsed": false
   },
   "outputs": [
    {
     "name": "stdout",
     "output_type": "stream",
     "text": [
      "['edge_n2_n1_000', 'edge_n1_n2_000']\n",
      "moving n2 -> n1\n",
      "moving n1 -> n2\n"
     ]
    }
   ],
   "source": [
    "rect_graph.move_to_node(\"n2\")"
   ]
  },
  {
   "cell_type": "code",
   "execution_count": 7,
   "metadata": {
    "collapsed": false
   },
   "outputs": [],
   "source": [
    "#print rect_graph.data"
   ]
  },
  {
   "cell_type": "code",
   "execution_count": 5,
   "metadata": {
    "collapsed": false
   },
   "outputs": [],
   "source": [
    "# need to rename these Model1_to_Model2\n",
    "def edge_1_to_3(pandas_data_frame):\n",
    "    pandas_data_frame.to_hdf(\"Test.hdf\",\"table\")\n",
    "    return \"Test.hdf\"\n",
    "def edge_3_to_1(hdf_file_name):\n",
    "    df=pandas.read_hdf(hdf_file_name,\"table\")\n",
    "    return df\n",
    "\n",
    "rect_graph.add_node(\"n3\",\"n1\",edge_1_to_3,\"n1\",edge_3_to_1)\n",
    "rect_graph.node_descriptions.append(\"HDF File\")\n",
    "\n",
    "def edge_4_to_2(xml_table):\n",
    "    \n",
    "    table=AsciiDataTable(None,\n",
    "                         column_names=xml_table.attribute_names,\n",
    "                         data=xml_table.data)\n",
    "    return table\n",
    "\n",
    "def edge_2_to_4(data_table):\n",
    "    xml=AsciiDataTable_to_XMLDataTable(data_table)\n",
    "    return xml\n",
    "\n",
    "rect_graph.add_node(\"n4\",\"n2\",edge_2_to_4,\"n2\",edge_4_to_2)\n",
    "rect_graph.node_descriptions.append(\"XML Data Table\")\n",
    "\n",
    "# Need to add XML File and Html File using save and save_HTML()\n",
    "\n",
    "\n",
    "def edge_1_to_5(pandas_data_frame,file_name=\"Test.xlsx\"):\n",
    "    pandas_data_frame.to_excel(file_name,index=False)\n",
    "    return file_name\n",
    "\n",
    "def edge_5_to_1(excel_file_name):\n",
    "    df=pandas.read_excel(excel_file_name)\n",
    "    return df\n",
    "\n",
    "rect_graph.add_node(\"n5\",\"n1\",edge_1_to_5,\"n1\",edge_5_to_1)\n",
    "rect_graph.node_descriptions.append(\"Excel File\")\n",
    "\n",
    "def edge_1_to_6(pandas_data_frame):\n",
    "    html=pandas_data_frame.to_html(index=False)\n",
    "    return html\n",
    "\n",
    "def edge_6_to_1(html_string):\n",
    "    list_df=pandas.read_html(html_string)\n",
    "    return list_df[0]\n",
    "\n",
    "rect_graph.add_node(\"n6\",\"n1\",edge_1_to_6,\"n1\",edge_6_to_1)\n",
    "rect_graph.node_descriptions.append(\"HTML String\")\n",
    "\n",
    "# Note a lot of the pandas reading and writing cause float64 round off errors\n",
    "# applymap(lambda x: np.around(x,10) any all float fields will fix this\n",
    "# also the column names move about in order\n",
    "\n",
    "def edge_1_to_7(pandas_data_frame):\n",
    "    json=pandas_data_frame.to_json(\"test.json\",orient='records')\n",
    "    return \"test.json\"\n",
    "\n",
    "def edge_7_to_1(json_file_name):\n",
    "    data_frame=pandas.read_json(json_file_name,orient='records')\n",
    "    return data_frame\n",
    "\n",
    "rect_graph.add_node(\"n7\",\"n1\",edge_1_to_7,\"n1\",edge_7_to_1)\n",
    "rect_graph.node_descriptions.append(\"JSON File\")\n",
    "\n",
    "def edge_1_to_8(pandas_data_frame):\n",
    "    json=pandas_data_frame.to_json(orient='records')\n",
    "    return json\n",
    "\n",
    "def edge_8_to_1(json_string):\n",
    "    data_frame=pandas.read_json(json_string,orient='records')\n",
    "    return data_frame\n",
    "\n",
    "rect_graph.add_node(\"n8\",\"n1\",edge_1_to_8,\"n1\",edge_8_to_1)\n",
    "rect_graph.node_descriptions.append(\"JSON String\")\n",
    "\n",
    "def edge_1_to_9(pandas_data_frame,file_name=\"test.csv\"):\n",
    "    json=pandas_data_frame.to_csv(file_name,index=False)\n",
    "    return file_name\n",
    "\n",
    "def edge_9_to_1(csv_file_name):\n",
    "    data_frame=pandas.read_csv(csv_file_name)\n",
    "    return data_frame\n",
    "\n",
    "rect_graph.add_node(\"n9\",\"n1\",edge_1_to_9,\"n1\",edge_9_to_1)\n",
    "rect_graph.node_descriptions.append(\"CSV File\")\n",
    "\n",
    "def edge_2_to_10(ascii_data_table,file_name=\"test.mat\"):\n",
    "    matlab_data_dictionary={\"data\":ascii_data_table.data,\"column_names\":ascii_data_table.column_names}\n",
    "    savemat(file_name,matlab_data_dictionary)\n",
    "    return file_name\n",
    "\n",
    "def edge_10_to_2(matlab_file_name):\n",
    "    matlab_data_dictionary=loadmat(matlab_file_name)\n",
    "    ascii_data_table=AsciiDataTable(None,\n",
    "                                    column_names=map(lambda x: x.rstrip().lstrip(),\n",
    "                                                     matlab_data_dictionary[\"column_names\"].tolist()),\n",
    "                                     data=matlab_data_dictionary[\"data\"].tolist())\n",
    "    return ascii_data_table\n",
    "\n",
    "rect_graph.add_node(\"n10\",\"n2\",edge_2_to_10,\"n2\",edge_10_to_2)\n",
    "rect_graph.node_descriptions.append(\"Matlab File\")\n",
    "\n",
    "def edge_4_to_11(xml_data_table,file_name=\"test.xml\"):\n",
    "    xml_data_table.save(file_name)\n",
    "    return file_name\n",
    "\n",
    "def edge_11_to_4(xml_file_name):\n",
    "    xml_data_table=DataTable(xml_file_name)\n",
    "    return xml_data_table\n",
    "\n",
    "rect_graph.add_node(\"n11\",\"n4\",edge_4_to_11,\"n4\",edge_11_to_4)\n",
    "rect_graph.node_descriptions.append(\"XML File\")\n",
    "\n",
    "def html_string_to_html_file(html_string,file_name=\"test.html\"):\n",
    "    out_file=open(file_name,'w')\n",
    "    out_file.write(html_string)\n",
    "    out_file.close()\n",
    "    return file_name\n",
    "\n",
    "def html_file_to_pandas(html_file_name):\n",
    "    in_file=open(html_file_name,'r')\n",
    "    pandas_data_frame=pandas.read_html(in_file)\n",
    "    return pandas_data_frame\n",
    "\n",
    "def html_file_to_html_string(html_file_name):\n",
    "    in_file=open(html_file_name,'r')\n",
    "    html_string=in_file.read()\n",
    "    return html_string\n",
    "\n",
    "rect_graph.add_node(\"n12\",\"n6\",html_string_to_html_file,\"n6\",html_file_to_html_string)\n",
    "rect_graph.node_descriptions.append(\"HTML File\")\n",
    "\n",
    "\n",
    "\n",
    "def DataFrame_to_html_file(pandas_data_frame,file_name=\"test.html\"):\n",
    "    out_file=open(file_name,'w')\n",
    "    pandas_data_frame.to_html(out_file,index=False)\n",
    "    return file_name\n",
    "\n",
    "rect_graph.add_edge(\"n1\",\"n12\",DataFrame_to_html_file)\n",
    "\n",
    "def edge_7_to_4(json_file_string):\n",
    "    data_dictionary_list=json.load(open(json_file_string,'r'))\n",
    "    xml=DataTable(None,data_dictionary={\"data\":data_dictionary_list})\n",
    "    return xml\n",
    "rect_graph.add_edge(\"n7\",\"n4\",edge_7_to_4)"
   ]
  },
  {
   "cell_type": "code",
   "execution_count": 6,
   "metadata": {
    "collapsed": false
   },
   "outputs": [
    {
     "name": "stdout",
     "output_type": "stream",
     "text": [
      "['edge_n1_n2_000', 'edge_n2_n1_000']\n",
      "moving n1 -> n2\n",
      "moving n2 -> n1\n",
      "['edge_n1_n2_000']\n",
      "moving n1 -> n2\n",
      "['edge_n2_n1_000', 'edge_n1_n3_000']\n",
      "moving n2 -> n1\n",
      "moving n1 -> n3\n",
      "['edge_n3_n1_000', 'edge_n1_n2_000', 'edge_n2_n4_000']\n",
      "moving n3 -> n1\n",
      "moving n1 -> n2\n",
      "moving n2 -> n4\n",
      "next_edge was already in path\n",
      "['edge_n4_n11_000', 'edge_n11_n4_000', 'edge_n4_n2_000', 'edge_n2_n1_000', 'edge_n1_n5_000']\n",
      "moving n4 -> n11\n",
      "moving n11 -> n4\n",
      "moving n4 -> n2\n",
      "moving n2 -> n1\n",
      "moving n1 -> n5\n",
      "['edge_n5_n1_000', 'edge_n1_n6_000']\n",
      "moving n5 -> n1\n",
      "moving n1 -> n6\n",
      "['edge_n6_n1_000', 'edge_n1_n7_000']\n",
      "moving n6 -> n1\n",
      "moving n1 -> n7\n",
      "['edge_n7_n1_000', 'edge_n1_n8_000']\n",
      "moving n7 -> n1\n",
      "moving n1 -> n8\n",
      "['edge_n8_n1_000', 'edge_n1_n9_000']\n",
      "moving n8 -> n1\n",
      "moving n1 -> n9\n",
      "['edge_n9_n1_000', 'edge_n1_n2_000', 'edge_n2_n10_000']\n",
      "moving n9 -> n1\n",
      "moving n1 -> n2\n",
      "moving n2 -> n10\n",
      "['edge_n10_n2_000', 'edge_n2_n4_000', 'edge_n4_n11_000']\n",
      "moving n10 -> n2\n",
      "moving n2 -> n4\n",
      "moving n4 -> n11\n",
      "next_edge was already in path\n",
      "['edge_n11_n4_000', 'edge_n4_n2_000', 'edge_n2_n1_000', 'edge_n1_n12_000']\n",
      "moving n11 -> n4\n",
      "moving n4 -> n2\n",
      "moving n2 -> n1\n",
      "moving n1 -> n12\n"
     ]
    },
    {
     "data": {
      "text/plain": [
       "True"
      ]
     },
     "execution_count": 6,
     "metadata": {},
     "output_type": "execute_result"
    }
   ],
   "source": [
    "rect_graph.is_graph_isomorphic()"
   ]
  },
  {
   "cell_type": "code",
   "execution_count": 9,
   "metadata": {
    "collapsed": false
   },
   "outputs": [
    {
     "name": "stdout",
     "output_type": "stream",
     "text": [
      "['edge_n1_n2_000', 'edge_n2_n1_000']\n",
      "moving n1 -> n2\n"
     ]
    },
    {
     "ename": "AttributeError",
     "evalue": "'list' object has no attribute 'columns'",
     "output_type": "error",
     "traceback": [
      "\u001b[1;31m---------------------------------------------------------------------------\u001b[0m",
      "\u001b[1;31mAttributeError\u001b[0m                            Traceback (most recent call last)",
      "\u001b[1;32m<ipython-input-9-564e9c536243>\u001b[0m in \u001b[0;36m<module>\u001b[1;34m()\u001b[0m\n\u001b[1;32m----> 1\u001b[1;33m \u001b[0mrect_graph\u001b[0m\u001b[1;33m.\u001b[0m\u001b[0mmove_to_node\u001b[0m\u001b[1;33m(\u001b[0m\u001b[1;34m\"n1\"\u001b[0m\u001b[1;33m)\u001b[0m\u001b[1;33m\u001b[0m\u001b[0m\n\u001b[0m",
      "\u001b[1;32m<ipython-input-2-b94a24d7fb33>\u001b[0m in \u001b[0;36mmove_to_node\u001b[1;34m(self, node)\u001b[0m\n\u001b[0;32m    319\u001b[0m         \u001b[1;34m\"\"\"Moves from current_node to the specified node\"\"\"\u001b[0m\u001b[1;33m\u001b[0m\u001b[0m\n\u001b[0;32m    320\u001b[0m         \u001b[0mpath\u001b[0m\u001b[1;33m=\u001b[0m\u001b[0mself\u001b[0m\u001b[1;33m.\u001b[0m\u001b[0mget_path\u001b[0m\u001b[1;33m(\u001b[0m\u001b[0mself\u001b[0m\u001b[1;33m.\u001b[0m\u001b[0mcurrent_node\u001b[0m\u001b[1;33m,\u001b[0m\u001b[0mnode\u001b[0m\u001b[1;33m)\u001b[0m\u001b[1;33m\u001b[0m\u001b[0m\n\u001b[1;32m--> 321\u001b[1;33m         \u001b[0mself\u001b[0m\u001b[1;33m.\u001b[0m\u001b[0mmove_to\u001b[0m\u001b[1;33m(\u001b[0m\u001b[0mpath\u001b[0m\u001b[1;33m)\u001b[0m\u001b[1;33m\u001b[0m\u001b[0m\n\u001b[0m\u001b[0;32m    322\u001b[0m \u001b[1;33m\u001b[0m\u001b[0m\n\u001b[0;32m    323\u001b[0m     \u001b[1;32mdef\u001b[0m \u001b[0mcheck_closed_path\u001b[0m\u001b[1;33m(\u001b[0m\u001b[0mself\u001b[0m\u001b[1;33m)\u001b[0m\u001b[1;33m:\u001b[0m\u001b[1;33m\u001b[0m\u001b[0m\n",
      "\u001b[1;32m<ipython-input-2-b94a24d7fb33>\u001b[0m in \u001b[0;36mmove_to\u001b[1;34m(self, path)\u001b[0m\n\u001b[0;32m    117\u001b[0m             \u001b[1;32mprint\u001b[0m\u001b[1;33m(\u001b[0m\u001b[1;34m\"moving {0} -> {1}\"\u001b[0m\u001b[1;33m.\u001b[0m\u001b[0mformat\u001b[0m\u001b[1;33m(\u001b[0m\u001b[0mbegin_node\u001b[0m\u001b[1;33m,\u001b[0m\u001b[0mend_node\u001b[0m\u001b[1;33m)\u001b[0m\u001b[1;33m)\u001b[0m\u001b[1;33m\u001b[0m\u001b[0m\n\u001b[0;32m    118\u001b[0m             \u001b[1;31m#print self.data\u001b[0m\u001b[1;33m\u001b[0m\u001b[1;33m\u001b[0m\u001b[0m\n\u001b[1;32m--> 119\u001b[1;33m             \u001b[0mself\u001b[0m\u001b[1;33m.\u001b[0m\u001b[0mdata\u001b[0m\u001b[1;33m=\u001b[0m\u001b[0mself\u001b[0m\u001b[1;33m.\u001b[0m\u001b[0m__dict__\u001b[0m\u001b[1;33m[\u001b[0m\u001b[0medge\u001b[0m\u001b[1;33m]\u001b[0m\u001b[1;33m(\u001b[0m\u001b[0mself\u001b[0m\u001b[1;33m.\u001b[0m\u001b[0mdata\u001b[0m\u001b[1;33m)\u001b[0m\u001b[1;33m\u001b[0m\u001b[0m\n\u001b[0m\u001b[0;32m    120\u001b[0m             \u001b[1;31m#print self.data\u001b[0m\u001b[1;33m\u001b[0m\u001b[1;33m\u001b[0m\u001b[0m\n\u001b[0;32m    121\u001b[0m             \u001b[0mself\u001b[0m\u001b[1;33m.\u001b[0m\u001b[0mcurrent_node\u001b[0m\u001b[1;33m=\u001b[0m\u001b[0mmatch\u001b[0m\u001b[1;33m.\u001b[0m\u001b[0mgroupdict\u001b[0m\u001b[1;33m(\u001b[0m\u001b[1;33m)\u001b[0m\u001b[1;33m[\u001b[0m\u001b[1;34m'end_node'\u001b[0m\u001b[1;33m]\u001b[0m\u001b[1;33m\u001b[0m\u001b[0m\n",
      "\u001b[1;32mC:\\Anaconda2\\lib\\site-packages\\pyMeasure\\Code\\DataHandlers\\Translations.pyc\u001b[0m in \u001b[0;36mDataFrame_to_AsciiDataTable\u001b[1;34m(pandas_data_frame, **options)\u001b[0m\n\u001b[0;32m    169\u001b[0m         \u001b[0mconversion_options\u001b[0m\u001b[1;33m[\u001b[0m\u001b[0mkey\u001b[0m\u001b[1;33m]\u001b[0m\u001b[1;33m=\u001b[0m\u001b[0mvalue\u001b[0m\u001b[1;33m\u001b[0m\u001b[0m\n\u001b[0;32m    170\u001b[0m \u001b[1;33m\u001b[0m\u001b[0m\n\u001b[1;32m--> 171\u001b[1;33m     \u001b[0mconversion_options\u001b[0m\u001b[1;33m[\u001b[0m\u001b[1;34m\"column_names\"\u001b[0m\u001b[1;33m]\u001b[0m\u001b[1;33m=\u001b[0m\u001b[0mpandas_data_frame\u001b[0m\u001b[1;33m.\u001b[0m\u001b[0mcolumns\u001b[0m\u001b[1;33m.\u001b[0m\u001b[0mtolist\u001b[0m\u001b[1;33m(\u001b[0m\u001b[1;33m)\u001b[0m\u001b[1;33m\u001b[0m\u001b[0m\n\u001b[0m\u001b[0;32m    172\u001b[0m     \u001b[0mconversion_options\u001b[0m\u001b[1;33m[\u001b[0m\u001b[1;34m\"data\"\u001b[0m\u001b[1;33m]\u001b[0m\u001b[1;33m=\u001b[0m\u001b[0mpandas_data_frame\u001b[0m\u001b[1;33m.\u001b[0m\u001b[0mas_matrix\u001b[0m\u001b[1;33m(\u001b[0m\u001b[1;33m)\u001b[0m\u001b[1;33m.\u001b[0m\u001b[0mtolist\u001b[0m\u001b[1;33m(\u001b[0m\u001b[1;33m)\u001b[0m\u001b[1;33m\u001b[0m\u001b[0m\n\u001b[0;32m    173\u001b[0m     \u001b[0mconversion_options\u001b[0m\u001b[1;33m[\u001b[0m\u001b[1;34m\"column_types\"\u001b[0m\u001b[1;33m]\u001b[0m\u001b[1;33m=\u001b[0m\u001b[0mmap\u001b[0m\u001b[1;33m(\u001b[0m\u001b[1;32mlambda\u001b[0m \u001b[0mx\u001b[0m\u001b[1;33m:\u001b[0m\u001b[0mstr\u001b[0m\u001b[1;33m(\u001b[0m\u001b[0mx\u001b[0m\u001b[1;33m)\u001b[0m\u001b[1;33m,\u001b[0m\u001b[0mpandas_data_frame\u001b[0m\u001b[1;33m.\u001b[0m\u001b[0mdtypes\u001b[0m\u001b[1;33m.\u001b[0m\u001b[0mtolist\u001b[0m\u001b[1;33m(\u001b[0m\u001b[1;33m)\u001b[0m\u001b[1;33m)\u001b[0m\u001b[1;33m\u001b[0m\u001b[0m\n",
      "\u001b[1;31mAttributeError\u001b[0m: 'list' object has no attribute 'columns'"
     ]
    }
   ],
   "source": [
    "rect_graph.move_to_node(\"n1\")"
   ]
  },
  {
   "cell_type": "code",
   "execution_count": 703,
   "metadata": {
    "collapsed": false
   },
   "outputs": [
    {
     "data": {
      "text/plain": [
       "['edge_n6_n12_000', 'edge_n1_n12_000']"
      ]
     },
     "execution_count": 703,
     "metadata": {},
     "output_type": "execute_result"
    }
   ],
   "source": [
    "rect_graph.get_entering_edges(\"n12\")"
   ]
  },
  {
   "cell_type": "code",
   "execution_count": 704,
   "metadata": {
    "collapsed": false
   },
   "outputs": [
    {
     "name": "stdout",
     "output_type": "stream",
     "text": [
      "next_edge was already in path\n"
     ]
    }
   ],
   "source": [
    "path=rect_graph.get_path(\"n11\",\"n12\")"
   ]
  },
  {
   "cell_type": "code",
   "execution_count": 621,
   "metadata": {
    "collapsed": false
   },
   "outputs": [
    {
     "data": {
      "text/plain": [
       "['edge_n1_n2_000',\n",
       " 'edge_n1_n3_000',\n",
       " 'edge_n1_n5_000',\n",
       " 'edge_n1_n6_000',\n",
       " 'edge_n1_n7_000',\n",
       " 'edge_n1_n8_000',\n",
       " 'edge_n1_n9_000',\n",
       " 'edge_n1_n12_000']"
      ]
     },
     "execution_count": 621,
     "metadata": {},
     "output_type": "execute_result"
    }
   ],
   "source": [
    "rect_graph.get_exiting_edges(\"n1\")"
   ]
  },
  {
   "cell_type": "code",
   "execution_count": 705,
   "metadata": {
    "collapsed": false
   },
   "outputs": [
    {
     "name": "stdout",
     "output_type": "stream",
     "text": [
      "next_edge was already in path\n"
     ]
    }
   ],
   "source": [
    "path=rect_graph.get_path(\"n11\",\"n12\")"
   ]
  },
  {
   "cell_type": "code",
   "execution_count": 706,
   "metadata": {
    "collapsed": false
   },
   "outputs": [
    {
     "data": {
      "text/plain": [
       "['edge_n11_n4_000', 'edge_n4_n2_000', 'edge_n2_n1_000', 'edge_n1_n12_000']"
      ]
     },
     "execution_count": 706,
     "metadata": {},
     "output_type": "execute_result"
    }
   ],
   "source": [
    "path"
   ]
  },
  {
   "cell_type": "code",
   "execution_count": 544,
   "metadata": {
    "collapsed": true
   },
   "outputs": [],
   "source": [
    "def remove_circular_paths(path):\n",
    "    \"\"\"Removes pieces of the path that just end on the same node\"\"\"\n",
    "    edge_pattern=re.compile(\"edge_(?P<begin_node>\\w+)_(?P<end_node>\\w+)_(?P<iterator>\\w+)\")\n",
    "    past_locations=[]\n",
    "    \n",
    "    for index,edge in enumerate(path):\n",
    "        match=re.match(edge_pattern,edge)\n",
    "        begin_node=match.groupdict()[\"begin_node\"]\n",
    "        end_node=match.groupdict()[\"end_node\"]\n",
    "        past_locations.append(begin_node)\n",
    "        #print(\"{0} is {1}\".format(\"past_locations\",past_locations))\n",
    "    new_path=[]\n",
    "    node_index=0\n",
    "    between_list=[False for item in past_locations]\n",
    "    while(node_index<len(past_locations)):\n",
    "        node=past_locations[node_index]\n",
    "        old_path=new_path\n",
    "        new_path=[]\n",
    "        \n",
    "        if past_locations.count(node)>1:\n",
    "            equality_list=map(lambda x:x==node,past_locations)\n",
    "            between=False\n",
    "            for index,equality in enumerate(equality_list):\n",
    "                if equality:\n",
    "                    between=not between\n",
    "                    between_list[index]=between or between_list[index]\n",
    "                else:\n",
    "                    between_list[index]=between or between_list[index] \n",
    "        #print(\"{0} is {1}\".format(\"between_list\",between_list))\n",
    "        for index,item in enumerate(between_list):\n",
    "            if not item:\n",
    "                new_path.append(path[index])\n",
    "        node_index+=1\n",
    "\n",
    "    if new_path in [[]]:\n",
    "        new_path=path\n",
    "                    \n",
    "    return new_path"
   ]
  },
  {
   "cell_type": "code",
   "execution_count": 498,
   "metadata": {
    "collapsed": false
   },
   "outputs": [
    {
     "name": "stdout",
     "output_type": "stream",
     "text": [
      "2\n",
      "0\n",
      "[True, True, False, False, False, False]\n",
      "['n4', 'n2', 'n1', 'n5']\n"
     ]
    }
   ],
   "source": [
    "test_nodes=[\"n4\",\"n11\",\"n4\",\"n2\",\"n1\",\"n5\"]\n",
    "print test_nodes.count(\"n4\")\n",
    "print test_nodes.index(\"n4\")\n",
    "#del test_nodes[0:2]\n",
    "truth_list=map(lambda x:x==\"n4\",test_nodes)\n",
    "out_list=[]\n",
    "non_circular=[]\n",
    "between=False\n",
    "for index,truth in enumerate(truth_list):\n",
    "    if truth:\n",
    "        between=not between\n",
    "        out_list.append(between)\n",
    "    else:\n",
    "        out_list.append(between)\n",
    "for index,item in enumerate(out_list):\n",
    "    if not item:\n",
    "        non_circular.append(test_nodes[index])\n",
    "    \n",
    "print out_list\n",
    "print non_circular"
   ]
  },
  {
   "cell_type": "code",
   "execution_count": 545,
   "metadata": {
    "collapsed": false
   },
   "outputs": [
    {
     "name": "stdout",
     "output_type": "stream",
     "text": [
      "between_list is [True, True, False, False, False, False, False]\n",
      "between_list is [True, True, False, False, False, False, False]\n",
      "between_list is [True, True, False, False, False, False, False]\n",
      "between_list is [True, True, False, False, False, False, False]\n",
      "between_list is [True, True, False, False, True, True, False]\n",
      "between_list is [True, True, False, False, True, True, False]\n",
      "between_list is [True, True, False, False, True, True, False]\n",
      "['edge_n4_n2_000', 'edge_n2_n1_000', 'edge_n1_n5_000']\n"
     ]
    }
   ],
   "source": [
    "print remove_circular_paths(['edge_n4_n11_000',\n",
    " 'edge_n11_n4_000',\n",
    " 'edge_n4_n2_000',\n",
    " 'edge_n2_n1_000',\n",
    " 'edge_n1_n5_000','edge_n5_n1_000',\n",
    " 'edge_n1_n5_000'])"
   ]
  },
  {
   "cell_type": "code",
   "execution_count": 258,
   "metadata": {
    "collapsed": false
   },
   "outputs": [
    {
     "name": "stdout",
     "output_type": "stream",
     "text": [
      "['edge_n4_n2_000', 'edge_n2_n1_000', 'edge_n1_n5_000']\n",
      "moving n4 -> n2\n",
      "moving n2 -> n1\n",
      "moving n1 -> n5\n"
     ]
    }
   ],
   "source": [
    "rect_graph.move_to(path)"
   ]
  },
  {
   "cell_type": "code",
   "execution_count": 174,
   "metadata": {
    "collapsed": false
   },
   "outputs": [
    {
     "name": "stdout",
     "output_type": "stream",
     "text": [
      "moving n4 -> n11\n"
     ]
    }
   ],
   "source": [
    "rect_graph.move_to_node(\"n11\")"
   ]
  },
  {
   "cell_type": "code",
   "execution_count": null,
   "metadata": {
    "collapsed": true
   },
   "outputs": [],
   "source": [
    "xml=AsciiDataTable_to_XMLDataTable(table)"
   ]
  },
  {
   "cell_type": "code",
   "execution_count": null,
   "metadata": {
    "collapsed": false
   },
   "outputs": [],
   "source": [
    "xml.to_tuple_list(xml.get_attribute_names())"
   ]
  },
  {
   "cell_type": "code",
   "execution_count": null,
   "metadata": {
    "collapsed": false
   },
   "outputs": [],
   "source": [
    "xml.to_list(\"a\")"
   ]
  },
  {
   "cell_type": "code",
   "execution_count": null,
   "metadata": {
    "collapsed": false
   },
   "outputs": [],
   "source": [
    "xml.attribute_names"
   ]
  },
  {
   "cell_type": "code",
   "execution_count": null,
   "metadata": {
    "collapsed": false
   },
   "outputs": [],
   "source": [
    "xml.data"
   ]
  },
  {
   "cell_type": "code",
   "execution_count": null,
   "metadata": {
    "collapsed": false
   },
   "outputs": [],
   "source": [
    "rect_graph.state"
   ]
  },
  {
   "cell_type": "code",
   "execution_count": null,
   "metadata": {
    "collapsed": false
   },
   "outputs": [],
   "source": [
    "path=rect_graph.get_path(\"n5\",\"n1\")"
   ]
  },
  {
   "cell_type": "code",
   "execution_count": null,
   "metadata": {
    "collapsed": false
   },
   "outputs": [],
   "source": [
    "rect_graph.path_length(path)"
   ]
  },
  {
   "cell_type": "code",
   "execution_count": null,
   "metadata": {
    "collapsed": false
   },
   "outputs": [],
   "source": [
    "rect_graph.move_to_node(\"n1\")"
   ]
  },
  {
   "cell_type": "code",
   "execution_count": 729,
   "metadata": {
    "collapsed": false
   },
   "outputs": [
    {
     "name": "stdout",
     "output_type": "stream",
     "text": [
      "['edge_n12_n1_000']\n",
      "moving n12 -> n1\n"
     ]
    },
    {
     "ename": "AttributeError",
     "evalue": "'list' object has no attribute 'columns'",
     "output_type": "error",
     "traceback": [
      "\u001b[1;31m---------------------------------------------------------------------------\u001b[0m",
      "\u001b[1;31mAttributeError\u001b[0m                            Traceback (most recent call last)",
      "\u001b[1;32m<ipython-input-729-db2fbc16e8a6>\u001b[0m in \u001b[0;36m<module>\u001b[1;34m()\u001b[0m\n\u001b[0;32m      2\u001b[0m \u001b[1;32mfor\u001b[0m \u001b[0mnode\u001b[0m \u001b[1;32min\u001b[0m \u001b[0mrect_graph\u001b[0m\u001b[1;33m.\u001b[0m\u001b[0mnode_names\u001b[0m\u001b[1;33m:\u001b[0m\u001b[1;33m\u001b[0m\u001b[0m\n\u001b[0;32m      3\u001b[0m     \u001b[0mpath\u001b[0m\u001b[1;33m=\u001b[0m\u001b[0mrect_graph\u001b[0m\u001b[1;33m.\u001b[0m\u001b[0mget_path\u001b[0m\u001b[1;33m(\u001b[0m\u001b[1;34m\"n1\"\u001b[0m\u001b[1;33m,\u001b[0m\u001b[0mnode\u001b[0m\u001b[1;33m)\u001b[0m\u001b[1;33m\u001b[0m\u001b[0m\n\u001b[1;32m----> 4\u001b[1;33m     \u001b[1;32mprint\u001b[0m\u001b[1;33m(\u001b[0m\u001b[1;34m\"The length of the path n1-> {0} in s is {1}\"\u001b[0m\u001b[1;33m.\u001b[0m\u001b[0mformat\u001b[0m\u001b[1;33m(\u001b[0m\u001b[0mnode\u001b[0m\u001b[1;33m,\u001b[0m\u001b[0mrect_graph\u001b[0m\u001b[1;33m.\u001b[0m\u001b[0mpath_length\u001b[0m\u001b[1;33m(\u001b[0m\u001b[0mpath\u001b[0m\u001b[1;33m)\u001b[0m\u001b[1;33m)\u001b[0m\u001b[1;33m)\u001b[0m\u001b[1;33m\u001b[0m\u001b[0m\n\u001b[0m",
      "\u001b[1;32m<ipython-input-724-b94a24d7fb33>\u001b[0m in \u001b[0;36mpath_length\u001b[1;34m(self, path, num_repeats)\u001b[0m\n\u001b[0;32m    180\u001b[0m         \u001b[1;31m#num_repeats=100\u001b[0m\u001b[1;33m\u001b[0m\u001b[1;33m\u001b[0m\u001b[0m\n\u001b[0;32m    181\u001b[0m         \u001b[1;32mfor\u001b[0m \u001b[0mi\u001b[0m \u001b[1;32min\u001b[0m \u001b[0mrange\u001b[0m\u001b[1;33m(\u001b[0m\u001b[0mnum_repeats\u001b[0m\u001b[1;33m)\u001b[0m\u001b[1;33m:\u001b[0m\u001b[1;33m\u001b[0m\u001b[0m\n\u001b[1;32m--> 182\u001b[1;33m             \u001b[0mself\u001b[0m\u001b[1;33m.\u001b[0m\u001b[0mvirtual_move_to\u001b[0m\u001b[1;33m(\u001b[0m\u001b[0mpath\u001b[0m\u001b[1;33m)\u001b[0m\u001b[1;33m\u001b[0m\u001b[0m\n\u001b[0m\u001b[0;32m    183\u001b[0m         \u001b[0mend_time\u001b[0m\u001b[1;33m=\u001b[0m\u001b[0mdatetime\u001b[0m\u001b[1;33m.\u001b[0m\u001b[0mdatetime\u001b[0m\u001b[1;33m.\u001b[0m\u001b[0mnow\u001b[0m\u001b[1;33m(\u001b[0m\u001b[1;33m)\u001b[0m\u001b[1;33m\u001b[0m\u001b[0m\n\u001b[0;32m    184\u001b[0m         \u001b[0mdelta_t\u001b[0m\u001b[1;33m=\u001b[0m\u001b[0mend_time\u001b[0m\u001b[1;33m-\u001b[0m\u001b[0mbegin_time\u001b[0m\u001b[1;33m\u001b[0m\u001b[0m\n",
      "\u001b[1;32m<ipython-input-724-b94a24d7fb33>\u001b[0m in \u001b[0;36mvirtual_move_to\u001b[1;34m(self, path)\u001b[0m\n\u001b[0;32m    142\u001b[0m             \u001b[1;31m#print(\"moving {0} -> {1}\".format(begin_node,end_node))\u001b[0m\u001b[1;33m\u001b[0m\u001b[1;33m\u001b[0m\u001b[0m\n\u001b[0;32m    143\u001b[0m             \u001b[1;31m#print self.data\u001b[0m\u001b[1;33m\u001b[0m\u001b[1;33m\u001b[0m\u001b[0m\n\u001b[1;32m--> 144\u001b[1;33m             \u001b[0mtemp_data\u001b[0m\u001b[1;33m=\u001b[0m\u001b[0mself\u001b[0m\u001b[1;33m.\u001b[0m\u001b[0m__dict__\u001b[0m\u001b[1;33m[\u001b[0m\u001b[0medge\u001b[0m\u001b[1;33m]\u001b[0m\u001b[1;33m(\u001b[0m\u001b[0mtemp_data\u001b[0m\u001b[1;33m)\u001b[0m\u001b[1;33m\u001b[0m\u001b[0m\n\u001b[0m\u001b[0;32m    145\u001b[0m             \u001b[1;31m#print self.data\u001b[0m\u001b[1;33m\u001b[0m\u001b[1;33m\u001b[0m\u001b[0m\n\u001b[0;32m    146\u001b[0m             \u001b[0mtemp_current_node\u001b[0m\u001b[1;33m=\u001b[0m\u001b[0mmatch\u001b[0m\u001b[1;33m.\u001b[0m\u001b[0mgroupdict\u001b[0m\u001b[1;33m(\u001b[0m\u001b[1;33m)\u001b[0m\u001b[1;33m[\u001b[0m\u001b[1;34m'end_node'\u001b[0m\u001b[1;33m]\u001b[0m\u001b[1;33m\u001b[0m\u001b[0m\n",
      "\u001b[1;32mC:\\Anaconda2\\lib\\site-packages\\pyMeasure\\Code\\DataHandlers\\Translations.pyc\u001b[0m in \u001b[0;36mDataFrame_to_AsciiDataTable\u001b[1;34m(pandas_data_frame, **options)\u001b[0m\n\u001b[0;32m    162\u001b[0m     \u001b[1;34m\"\"\"Converts a pandas.DataFrame to an AsciiDataTable\"\"\"\u001b[0m\u001b[1;33m\u001b[0m\u001b[0m\n\u001b[0;32m    163\u001b[0m     \u001b[1;31m# Set up defaults and pass options\u001b[0m\u001b[1;33m\u001b[0m\u001b[1;33m\u001b[0m\u001b[0m\n\u001b[1;32m--> 164\u001b[1;33m     \u001b[0mdefaults\u001b[0m\u001b[1;33m=\u001b[0m\u001b[1;33m{\u001b[0m\u001b[1;33m}\u001b[0m\u001b[1;33m\u001b[0m\u001b[0m\n\u001b[0m\u001b[0;32m    165\u001b[0m     \u001b[0mconversion_options\u001b[0m\u001b[1;33m=\u001b[0m\u001b[1;33m{\u001b[0m\u001b[1;33m}\u001b[0m\u001b[1;33m\u001b[0m\u001b[0m\n\u001b[0;32m    166\u001b[0m     \u001b[1;32mfor\u001b[0m \u001b[0mkey\u001b[0m\u001b[1;33m,\u001b[0m\u001b[0mvalue\u001b[0m \u001b[1;32min\u001b[0m \u001b[0mdefaults\u001b[0m\u001b[1;33m.\u001b[0m\u001b[0miteritems\u001b[0m\u001b[1;33m(\u001b[0m\u001b[1;33m)\u001b[0m\u001b[1;33m:\u001b[0m\u001b[1;33m\u001b[0m\u001b[0m\n",
      "\u001b[1;31mAttributeError\u001b[0m: 'list' object has no attribute 'columns'"
     ]
    }
   ],
   "source": [
    "rect_graph.move_to_node(\"n1\")\n",
    "for node in rect_graph.node_names:\n",
    "    path=rect_graph.get_path(\"n1\",node)\n",
    "    print(\"The length of the path n1-> {0} in s is {1}\".format(node,rect_graph.path_length(path)))"
   ]
  },
  {
   "cell_type": "code",
   "execution_count": null,
   "metadata": {
    "collapsed": false
   },
   "outputs": [],
   "source": [
    "rect_graph.state"
   ]
  },
  {
   "cell_type": "code",
   "execution_count": null,
   "metadata": {
    "collapsed": false
   },
   "outputs": [],
   "source": [
    "rect_graph.move_to_node(\"n1\")"
   ]
  },
  {
   "cell_type": "code",
   "execution_count": null,
   "metadata": {
    "collapsed": false
   },
   "outputs": [],
   "source": [
    "html=rect_graph.data.to_html(index=False)"
   ]
  },
  {
   "cell_type": "code",
   "execution_count": null,
   "metadata": {
    "collapsed": true
   },
   "outputs": [],
   "source": [
    "df=pandas.read_html(html)"
   ]
  },
  {
   "cell_type": "code",
   "execution_count": null,
   "metadata": {
    "collapsed": false
   },
   "outputs": [],
   "source": [
    "rect_graph.edges"
   ]
  },
  {
   "cell_type": "code",
   "execution_count": null,
   "metadata": {
    "collapsed": false
   },
   "outputs": [],
   "source": [
    "table=OnePortCalrepModel(os.path.join(TESTS_DIRECTORY,'700437.asc'))\n",
    "rect_graph.set_state(\"n2\",table)"
   ]
  },
  {
   "cell_type": "code",
   "execution_count": 329,
   "metadata": {
    "collapsed": false
   },
   "outputs": [
    {
     "name": "stdout",
     "output_type": "stream",
     "text": [
      "['edge_n11_n4_000', 'edge_n4_n2_000', 'edge_n2_n1_000']\n",
      "moving n11 -> n4\n",
      "moving n4 -> n2\n",
      "moving n2 -> n1\n"
     ]
    }
   ],
   "source": [
    "rect_graph.move_to_node(\"n1\")"
   ]
  },
  {
   "cell_type": "code",
   "execution_count": null,
   "metadata": {
    "collapsed": false
   },
   "outputs": [],
   "source": [
    "print rect_graph.data"
   ]
  },
  {
   "cell_type": "code",
   "execution_count": null,
   "metadata": {
    "collapsed": true
   },
   "outputs": [],
   "source": [
    "from ipywidgets import *\n"
   ]
  },
  {
   "cell_type": "code",
   "execution_count": 710,
   "metadata": {
    "collapsed": false
   },
   "outputs": [
    {
     "name": "stdout",
     "output_type": "stream",
     "text": [
      "['edge_n1_n2_000', 'edge_n2_n1_000']\n",
      "moving n1 -> n2\n"
     ]
    },
    {
     "ename": "AttributeError",
     "evalue": "'list' object has no attribute 'columns'",
     "output_type": "error",
     "traceback": [
      "\u001b[1;31m---------------------------------------------------------------------------\u001b[0m",
      "\u001b[1;31mAttributeError\u001b[0m                            Traceback (most recent call last)",
      "\u001b[1;32m<ipython-input-710-6785dc2fd122>\u001b[0m in \u001b[0;36m<module>\u001b[1;34m()\u001b[0m\n\u001b[0;32m      1\u001b[0m \u001b[0mget_ipython\u001b[0m\u001b[1;33m(\u001b[0m\u001b[1;33m)\u001b[0m\u001b[1;33m.\u001b[0m\u001b[0mmagic\u001b[0m\u001b[1;33m(\u001b[0m\u001b[1;34mu'matplotlib inline'\u001b[0m\u001b[1;33m)\u001b[0m\u001b[1;33m\u001b[0m\u001b[0m\n\u001b[1;32m----> 2\u001b[1;33m \u001b[0mrect_graph\u001b[0m\u001b[1;33m.\u001b[0m\u001b[0mmove_to_node\u001b[0m\u001b[1;33m(\u001b[0m\u001b[1;34m\"n1\"\u001b[0m\u001b[1;33m)\u001b[0m\u001b[1;33m\u001b[0m\u001b[0m\n\u001b[0m\u001b[0;32m      3\u001b[0m \u001b[1;32mdef\u001b[0m \u001b[0mmove_and_show\u001b[0m\u001b[1;33m(\u001b[0m\u001b[0mend_node_number\u001b[0m\u001b[1;33m)\u001b[0m\u001b[1;33m:\u001b[0m\u001b[1;33m\u001b[0m\u001b[0m\n\u001b[0;32m      4\u001b[0m     \u001b[0mnode\u001b[0m\u001b[1;33m=\u001b[0m\u001b[0mrect_graph\u001b[0m\u001b[1;33m.\u001b[0m\u001b[0mnode_names\u001b[0m\u001b[1;33m[\u001b[0m\u001b[0mend_node_number\u001b[0m\u001b[1;33m]\u001b[0m\u001b[1;33m\u001b[0m\u001b[0m\n\u001b[0;32m      5\u001b[0m     \u001b[0mrect_graph\u001b[0m\u001b[1;33m.\u001b[0m\u001b[0mmove_to_node\u001b[0m\u001b[1;33m(\u001b[0m\u001b[0mnode\u001b[0m\u001b[1;33m)\u001b[0m\u001b[1;33m\u001b[0m\u001b[0m\n",
      "\u001b[1;32m<ipython-input-700-b94a24d7fb33>\u001b[0m in \u001b[0;36mmove_to_node\u001b[1;34m(self, node)\u001b[0m\n\u001b[0;32m    319\u001b[0m         \u001b[1;34m\"\"\"Moves from current_node to the specified node\"\"\"\u001b[0m\u001b[1;33m\u001b[0m\u001b[0m\n\u001b[0;32m    320\u001b[0m         \u001b[0mpath\u001b[0m\u001b[1;33m=\u001b[0m\u001b[0mself\u001b[0m\u001b[1;33m.\u001b[0m\u001b[0mget_path\u001b[0m\u001b[1;33m(\u001b[0m\u001b[0mself\u001b[0m\u001b[1;33m.\u001b[0m\u001b[0mcurrent_node\u001b[0m\u001b[1;33m,\u001b[0m\u001b[0mnode\u001b[0m\u001b[1;33m)\u001b[0m\u001b[1;33m\u001b[0m\u001b[0m\n\u001b[1;32m--> 321\u001b[1;33m         \u001b[0mself\u001b[0m\u001b[1;33m.\u001b[0m\u001b[0mmove_to\u001b[0m\u001b[1;33m(\u001b[0m\u001b[0mpath\u001b[0m\u001b[1;33m)\u001b[0m\u001b[1;33m\u001b[0m\u001b[0m\n\u001b[0m\u001b[0;32m    322\u001b[0m \u001b[1;33m\u001b[0m\u001b[0m\n\u001b[0;32m    323\u001b[0m     \u001b[1;32mdef\u001b[0m \u001b[0mcheck_closed_path\u001b[0m\u001b[1;33m(\u001b[0m\u001b[0mself\u001b[0m\u001b[1;33m)\u001b[0m\u001b[1;33m:\u001b[0m\u001b[1;33m\u001b[0m\u001b[0m\n",
      "\u001b[1;32m<ipython-input-700-b94a24d7fb33>\u001b[0m in \u001b[0;36mmove_to\u001b[1;34m(self, path)\u001b[0m\n\u001b[0;32m    117\u001b[0m             \u001b[1;32mprint\u001b[0m\u001b[1;33m(\u001b[0m\u001b[1;34m\"moving {0} -> {1}\"\u001b[0m\u001b[1;33m.\u001b[0m\u001b[0mformat\u001b[0m\u001b[1;33m(\u001b[0m\u001b[0mbegin_node\u001b[0m\u001b[1;33m,\u001b[0m\u001b[0mend_node\u001b[0m\u001b[1;33m)\u001b[0m\u001b[1;33m)\u001b[0m\u001b[1;33m\u001b[0m\u001b[0m\n\u001b[0;32m    118\u001b[0m             \u001b[1;31m#print self.data\u001b[0m\u001b[1;33m\u001b[0m\u001b[1;33m\u001b[0m\u001b[0m\n\u001b[1;32m--> 119\u001b[1;33m             \u001b[0mself\u001b[0m\u001b[1;33m.\u001b[0m\u001b[0mdata\u001b[0m\u001b[1;33m=\u001b[0m\u001b[0mself\u001b[0m\u001b[1;33m.\u001b[0m\u001b[0m__dict__\u001b[0m\u001b[1;33m[\u001b[0m\u001b[0medge\u001b[0m\u001b[1;33m]\u001b[0m\u001b[1;33m(\u001b[0m\u001b[0mself\u001b[0m\u001b[1;33m.\u001b[0m\u001b[0mdata\u001b[0m\u001b[1;33m)\u001b[0m\u001b[1;33m\u001b[0m\u001b[0m\n\u001b[0m\u001b[0;32m    120\u001b[0m             \u001b[1;31m#print self.data\u001b[0m\u001b[1;33m\u001b[0m\u001b[1;33m\u001b[0m\u001b[0m\n\u001b[0;32m    121\u001b[0m             \u001b[0mself\u001b[0m\u001b[1;33m.\u001b[0m\u001b[0mcurrent_node\u001b[0m\u001b[1;33m=\u001b[0m\u001b[0mmatch\u001b[0m\u001b[1;33m.\u001b[0m\u001b[0mgroupdict\u001b[0m\u001b[1;33m(\u001b[0m\u001b[1;33m)\u001b[0m\u001b[1;33m[\u001b[0m\u001b[1;34m'end_node'\u001b[0m\u001b[1;33m]\u001b[0m\u001b[1;33m\u001b[0m\u001b[0m\n",
      "\u001b[1;32mC:\\Anaconda2\\lib\\site-packages\\pyMeasure\\Code\\DataHandlers\\Translations.pyc\u001b[0m in \u001b[0;36mDataFrame_to_AsciiDataTable\u001b[1;34m(pandas_data_frame, **options)\u001b[0m\n\u001b[0;32m    162\u001b[0m     \u001b[1;34m\"\"\"Converts a pandas.DataFrame to an AsciiDataTable\"\"\"\u001b[0m\u001b[1;33m\u001b[0m\u001b[0m\n\u001b[0;32m    163\u001b[0m     \u001b[1;31m# Set up defaults and pass options\u001b[0m\u001b[1;33m\u001b[0m\u001b[1;33m\u001b[0m\u001b[0m\n\u001b[1;32m--> 164\u001b[1;33m     \u001b[0mdefaults\u001b[0m\u001b[1;33m=\u001b[0m\u001b[1;33m{\u001b[0m\u001b[1;33m}\u001b[0m\u001b[1;33m\u001b[0m\u001b[0m\n\u001b[0m\u001b[0;32m    165\u001b[0m     \u001b[0mconversion_options\u001b[0m\u001b[1;33m=\u001b[0m\u001b[1;33m{\u001b[0m\u001b[1;33m}\u001b[0m\u001b[1;33m\u001b[0m\u001b[0m\n\u001b[0;32m    166\u001b[0m     \u001b[1;32mfor\u001b[0m \u001b[0mkey\u001b[0m\u001b[1;33m,\u001b[0m\u001b[0mvalue\u001b[0m \u001b[1;32min\u001b[0m \u001b[0mdefaults\u001b[0m\u001b[1;33m.\u001b[0m\u001b[0miteritems\u001b[0m\u001b[1;33m(\u001b[0m\u001b[1;33m)\u001b[0m\u001b[1;33m:\u001b[0m\u001b[1;33m\u001b[0m\u001b[0m\n",
      "\u001b[1;31mAttributeError\u001b[0m: 'list' object has no attribute 'columns'"
     ]
    }
   ],
   "source": [
    "%matplotlib inline\n",
    "rect_graph.move_to_node(\"n1\")\n",
    "def move_and_show(end_node_number):\n",
    "    node=rect_graph.node_names[end_node_number]\n",
    "    rect_graph.move_to_node(node)\n",
    "    print(\"*\"*80)\n",
    "    print(\"{0}\".format(rect_graph.node_descriptions[end_node_number])+\" {0}\".format(rect_graph.state))\n",
    "    print(\"*\"*80)\n",
    "    rect_graph.show(descriptions=True)\n",
    "    \n",
    "interact(move_and_show,end_node_number=(0,len(rect_graph.node_names)-1,1))"
   ]
  },
  {
   "cell_type": "code",
   "execution_count": 734,
   "metadata": {
    "collapsed": false,
    "scrolled": true
   },
   "outputs": [
    {
     "name": "stdout",
     "output_type": "stream",
     "text": [
      "['edge_n1_n2_000', 'edge_n2_n1_000']\n",
      "moving n1 -> n2\n"
     ]
    },
    {
     "ename": "AttributeError",
     "evalue": "'list' object has no attribute 'columns'",
     "output_type": "error",
     "traceback": [
      "\u001b[1;31m---------------------------------------------------------------------------\u001b[0m",
      "\u001b[1;31mAttributeError\u001b[0m                            Traceback (most recent call last)",
      "\u001b[1;32m<ipython-input-734-f950e1a8509c>\u001b[0m in \u001b[0;36mmove_and_print\u001b[1;34m(end_node_number)\u001b[0m\n\u001b[0;32m      1\u001b[0m \u001b[1;32mdef\u001b[0m \u001b[0mmove_and_print\u001b[0m\u001b[1;33m(\u001b[0m\u001b[0mend_node_number\u001b[0m\u001b[1;33m)\u001b[0m\u001b[1;33m:\u001b[0m\u001b[1;33m\u001b[0m\u001b[0m\n\u001b[0;32m      2\u001b[0m     \u001b[0mnode\u001b[0m\u001b[1;33m=\u001b[0m\u001b[0mrect_graph\u001b[0m\u001b[1;33m.\u001b[0m\u001b[0mnode_names\u001b[0m\u001b[1;33m[\u001b[0m\u001b[0mend_node_number\u001b[0m\u001b[1;33m]\u001b[0m\u001b[1;33m\u001b[0m\u001b[0m\n\u001b[1;32m----> 3\u001b[1;33m     \u001b[0mrect_graph\u001b[0m\u001b[1;33m.\u001b[0m\u001b[0mmove_to_node\u001b[0m\u001b[1;33m(\u001b[0m\u001b[0mnode\u001b[0m\u001b[1;33m)\u001b[0m\u001b[1;33m\u001b[0m\u001b[0m\n\u001b[0m\u001b[0;32m      4\u001b[0m     \u001b[1;32mprint\u001b[0m\u001b[1;33m(\u001b[0m\u001b[1;34m\"*\"\u001b[0m\u001b[1;33m*\u001b[0m\u001b[1;36m80\u001b[0m\u001b[1;33m)\u001b[0m\u001b[1;33m\u001b[0m\u001b[0m\n\u001b[0;32m      5\u001b[0m     \u001b[1;32mprint\u001b[0m\u001b[1;33m(\u001b[0m\u001b[1;34m\"{0}\"\u001b[0m\u001b[1;33m.\u001b[0m\u001b[0mformat\u001b[0m\u001b[1;33m(\u001b[0m\u001b[0mrect_graph\u001b[0m\u001b[1;33m.\u001b[0m\u001b[0mnode_descriptions\u001b[0m\u001b[1;33m[\u001b[0m\u001b[0mend_node_number\u001b[0m\u001b[1;33m]\u001b[0m\u001b[1;33m)\u001b[0m\u001b[1;33m+\u001b[0m\u001b[1;34m\" {0}\"\u001b[0m\u001b[1;33m.\u001b[0m\u001b[0mformat\u001b[0m\u001b[1;33m(\u001b[0m\u001b[0mrect_graph\u001b[0m\u001b[1;33m.\u001b[0m\u001b[0mstate\u001b[0m\u001b[1;33m)\u001b[0m\u001b[1;33m)\u001b[0m\u001b[1;33m\u001b[0m\u001b[0m\n",
      "\u001b[1;32m<ipython-input-724-b94a24d7fb33>\u001b[0m in \u001b[0;36mmove_to_node\u001b[1;34m(self, node)\u001b[0m\n\u001b[0;32m    319\u001b[0m         \u001b[1;34m\"\"\"Moves from current_node to the specified node\"\"\"\u001b[0m\u001b[1;33m\u001b[0m\u001b[0m\n\u001b[0;32m    320\u001b[0m         \u001b[0mpath\u001b[0m\u001b[1;33m=\u001b[0m\u001b[0mself\u001b[0m\u001b[1;33m.\u001b[0m\u001b[0mget_path\u001b[0m\u001b[1;33m(\u001b[0m\u001b[0mself\u001b[0m\u001b[1;33m.\u001b[0m\u001b[0mcurrent_node\u001b[0m\u001b[1;33m,\u001b[0m\u001b[0mnode\u001b[0m\u001b[1;33m)\u001b[0m\u001b[1;33m\u001b[0m\u001b[0m\n\u001b[1;32m--> 321\u001b[1;33m         \u001b[0mself\u001b[0m\u001b[1;33m.\u001b[0m\u001b[0mmove_to\u001b[0m\u001b[1;33m(\u001b[0m\u001b[0mpath\u001b[0m\u001b[1;33m)\u001b[0m\u001b[1;33m\u001b[0m\u001b[0m\n\u001b[0m\u001b[0;32m    322\u001b[0m \u001b[1;33m\u001b[0m\u001b[0m\n\u001b[0;32m    323\u001b[0m     \u001b[1;32mdef\u001b[0m \u001b[0mcheck_closed_path\u001b[0m\u001b[1;33m(\u001b[0m\u001b[0mself\u001b[0m\u001b[1;33m)\u001b[0m\u001b[1;33m:\u001b[0m\u001b[1;33m\u001b[0m\u001b[0m\n",
      "\u001b[1;32m<ipython-input-724-b94a24d7fb33>\u001b[0m in \u001b[0;36mmove_to\u001b[1;34m(self, path)\u001b[0m\n\u001b[0;32m    117\u001b[0m             \u001b[1;32mprint\u001b[0m\u001b[1;33m(\u001b[0m\u001b[1;34m\"moving {0} -> {1}\"\u001b[0m\u001b[1;33m.\u001b[0m\u001b[0mformat\u001b[0m\u001b[1;33m(\u001b[0m\u001b[0mbegin_node\u001b[0m\u001b[1;33m,\u001b[0m\u001b[0mend_node\u001b[0m\u001b[1;33m)\u001b[0m\u001b[1;33m)\u001b[0m\u001b[1;33m\u001b[0m\u001b[0m\n\u001b[0;32m    118\u001b[0m             \u001b[1;31m#print self.data\u001b[0m\u001b[1;33m\u001b[0m\u001b[1;33m\u001b[0m\u001b[0m\n\u001b[1;32m--> 119\u001b[1;33m             \u001b[0mself\u001b[0m\u001b[1;33m.\u001b[0m\u001b[0mdata\u001b[0m\u001b[1;33m=\u001b[0m\u001b[0mself\u001b[0m\u001b[1;33m.\u001b[0m\u001b[0m__dict__\u001b[0m\u001b[1;33m[\u001b[0m\u001b[0medge\u001b[0m\u001b[1;33m]\u001b[0m\u001b[1;33m(\u001b[0m\u001b[0mself\u001b[0m\u001b[1;33m.\u001b[0m\u001b[0mdata\u001b[0m\u001b[1;33m)\u001b[0m\u001b[1;33m\u001b[0m\u001b[0m\n\u001b[0m\u001b[0;32m    120\u001b[0m             \u001b[1;31m#print self.data\u001b[0m\u001b[1;33m\u001b[0m\u001b[1;33m\u001b[0m\u001b[0m\n\u001b[0;32m    121\u001b[0m             \u001b[0mself\u001b[0m\u001b[1;33m.\u001b[0m\u001b[0mcurrent_node\u001b[0m\u001b[1;33m=\u001b[0m\u001b[0mmatch\u001b[0m\u001b[1;33m.\u001b[0m\u001b[0mgroupdict\u001b[0m\u001b[1;33m(\u001b[0m\u001b[1;33m)\u001b[0m\u001b[1;33m[\u001b[0m\u001b[1;34m'end_node'\u001b[0m\u001b[1;33m]\u001b[0m\u001b[1;33m\u001b[0m\u001b[0m\n",
      "\u001b[1;32mC:\\Anaconda2\\lib\\site-packages\\pyMeasure\\Code\\DataHandlers\\Translations.pyc\u001b[0m in \u001b[0;36mDataFrame_to_AsciiDataTable\u001b[1;34m(pandas_data_frame, **options)\u001b[0m\n\u001b[0;32m    162\u001b[0m     \u001b[1;34m\"\"\"Converts a pandas.DataFrame to an AsciiDataTable\"\"\"\u001b[0m\u001b[1;33m\u001b[0m\u001b[0m\n\u001b[0;32m    163\u001b[0m     \u001b[1;31m# Set up defaults and pass options\u001b[0m\u001b[1;33m\u001b[0m\u001b[1;33m\u001b[0m\u001b[0m\n\u001b[1;32m--> 164\u001b[1;33m     \u001b[0mdefaults\u001b[0m\u001b[1;33m=\u001b[0m\u001b[1;33m{\u001b[0m\u001b[1;33m}\u001b[0m\u001b[1;33m\u001b[0m\u001b[0m\n\u001b[0m\u001b[0;32m    165\u001b[0m     \u001b[0mconversion_options\u001b[0m\u001b[1;33m=\u001b[0m\u001b[1;33m{\u001b[0m\u001b[1;33m}\u001b[0m\u001b[1;33m\u001b[0m\u001b[0m\n\u001b[0;32m    166\u001b[0m     \u001b[1;32mfor\u001b[0m \u001b[0mkey\u001b[0m\u001b[1;33m,\u001b[0m\u001b[0mvalue\u001b[0m \u001b[1;32min\u001b[0m \u001b[0mdefaults\u001b[0m\u001b[1;33m.\u001b[0m\u001b[0miteritems\u001b[0m\u001b[1;33m(\u001b[0m\u001b[1;33m)\u001b[0m\u001b[1;33m:\u001b[0m\u001b[1;33m\u001b[0m\u001b[0m\n",
      "\u001b[1;31mAttributeError\u001b[0m: 'list' object has no attribute 'columns'"
     ]
    }
   ],
   "source": [
    "def move_and_print(end_node_number):\n",
    "    node=rect_graph.node_names[end_node_number]\n",
    "    rect_graph.move_to_node(node)\n",
    "    print(\"*\"*80)\n",
    "    print(\"{0}\".format(rect_graph.node_descriptions[end_node_number])+\" {0}\".format(rect_graph.state))\n",
    "    print(\"*\"*80)\n",
    "    print rect_graph.data\n",
    "    \n",
    "interact(move_and_print,end_node_number=(0,len(rect_graph.node_names)-1,1))"
   ]
  },
  {
   "cell_type": "code",
   "execution_count": null,
   "metadata": {
    "collapsed": true
   },
   "outputs": [],
   "source": [
    "json=data_frame.to_json(\"test.json\",orient='records')"
   ]
  },
  {
   "cell_type": "code",
   "execution_count": null,
   "metadata": {
    "collapsed": true
   },
   "outputs": [],
   "source": [
    "json_string=data_frame.to_json(orient='records')"
   ]
  },
  {
   "cell_type": "code",
   "execution_count": null,
   "metadata": {
    "collapsed": false
   },
   "outputs": [],
   "source": [
    "new_df=pandas.read_json(json_string,orient='records')"
   ]
  },
  {
   "cell_type": "code",
   "execution_count": null,
   "metadata": {
    "collapsed": false
   },
   "outputs": [],
   "source": [
    "new_df=pandas.read_json(\"test.json\",orient='records')"
   ]
  },
  {
   "cell_type": "code",
   "execution_count": null,
   "metadata": {
    "collapsed": false
   },
   "outputs": [],
   "source": [
    "#str(table.get_data_dictionary_list())\n",
    "json"
   ]
  },
  {
   "cell_type": "code",
   "execution_count": null,
   "metadata": {
    "collapsed": false
   },
   "outputs": [],
   "source": [
    "rect_graph.node_descriptions\n"
   ]
  },
  {
   "cell_type": "code",
   "execution_count": null,
   "metadata": {
    "collapsed": false
   },
   "outputs": [],
   "source": [
    "import json\n",
    "test_list=json.load(open(\"test.json\",'r'))"
   ]
  },
  {
   "cell_type": "code",
   "execution_count": null,
   "metadata": {
    "collapsed": false
   },
   "outputs": [],
   "source": [
    "text_xml=DataTable(None,**{\"data_dictionary\":{\"data\":test_list}})"
   ]
  },
  {
   "cell_type": "code",
   "execution_count": null,
   "metadata": {
    "collapsed": false
   },
   "outputs": [],
   "source": [
    "#print text_xml"
   ]
  },
  {
   "cell_type": "code",
   "execution_count": null,
   "metadata": {
    "collapsed": false
   },
   "outputs": [],
   "source": [
    "rect_graph.edges"
   ]
  },
  {
   "cell_type": "code",
   "execution_count": null,
   "metadata": {
    "collapsed": false
   },
   "outputs": [],
   "source": [
    "rect_graph.move_to_node(\"n7\")"
   ]
  },
  {
   "cell_type": "code",
   "execution_count": null,
   "metadata": {
    "collapsed": false
   },
   "outputs": [],
   "source": [
    "rect_graph.move_to_node(\"n4\")"
   ]
  },
  {
   "cell_type": "code",
   "execution_count": null,
   "metadata": {
    "collapsed": false
   },
   "outputs": [],
   "source": [
    "#print rect_graph.data"
   ]
  },
  {
   "cell_type": "code",
   "execution_count": null,
   "metadata": {
    "collapsed": true
   },
   "outputs": [],
   "source": [
    "from scipy.io import savemat,loadmat"
   ]
  },
  {
   "cell_type": "code",
   "execution_count": null,
   "metadata": {
    "collapsed": false
   },
   "outputs": [],
   "source": [
    "savemat(\"data.mat\",{\"data\":table.data,\"column_names\":table.column_names})"
   ]
  },
  {
   "cell_type": "code",
   "execution_count": null,
   "metadata": {
    "collapsed": false
   },
   "outputs": [],
   "source": [
    "data=loadmat(\"data.mat\")"
   ]
  },
  {
   "cell_type": "code",
   "execution_count": null,
   "metadata": {
    "collapsed": false
   },
   "outputs": [],
   "source": [
    "new_table=AsciiDataTable(None,column_names=map(lambda x: x.rstrip().lstrip(),data[\"column_names\"].tolist()),\n",
    "                         data=data[\"data\"].tolist())"
   ]
  },
  {
   "cell_type": "code",
   "execution_count": null,
   "metadata": {
    "collapsed": false
   },
   "outputs": [],
   "source": [
    "rect_graph.move_to_node(\"n4\")\n",
    "xml=rect_graph.data"
   ]
  },
  {
   "cell_type": "code",
   "execution_count": null,
   "metadata": {
    "collapsed": true
   },
   "outputs": [],
   "source": [
    "import sqlite3\n",
    "import odo"
   ]
  },
  {
   "cell_type": "code",
   "execution_count": null,
   "metadata": {
    "collapsed": false
   },
   "outputs": [],
   "source": [
    "data_frame.dtypes[0]"
   ]
  },
  {
   "cell_type": "code",
   "execution_count": null,
   "metadata": {
    "collapsed": false
   },
   "outputs": [],
   "source": [
    "conn = sqlite3.connect(\"test.db\")\n",
    "conn.execute(\"create table data\")\n",
    "odo.odo(data_frame,'sqlite:///test.db::data')"
   ]
  },
  {
   "cell_type": "code",
   "execution_count": 15,
   "metadata": {
    "collapsed": false
   },
   "outputs": [
    {
     "name": "stdout",
     "output_type": "stream",
     "text": [
      "The self.metadata[\"Device_Id\"] variable is 700437\n"
     ]
    }
   ],
   "source": [
    "one_port=OnePortCalrepModel(os.path.join(TESTS_DIRECTORY,'700437.asc'))"
   ]
  },
  {
   "cell_type": "code",
   "execution_count": null,
   "metadata": {
    "collapsed": false
   },
   "outputs": [],
   "source": [
    "one_port.header"
   ]
  },
  {
   "cell_type": "code",
   "execution_count": null,
   "metadata": {
    "collapsed": false
   },
   "outputs": [],
   "source": [
    "one_port.column_names"
   ]
  },
  {
   "cell_type": "code",
   "execution_count": 18,
   "metadata": {
    "collapsed": false
   },
   "outputs": [
    {
     "data": {
      "text/plain": [
       "{'Analysis_Date': '16-Oct-15', 'Device_Id': '700437'}"
      ]
     },
     "execution_count": 18,
     "metadata": {},
     "output_type": "execute_result"
    }
   ],
   "source": [
    "one_port.metadata"
   ]
  },
  {
   "cell_type": "code",
   "execution_count": 19,
   "metadata": {
    "collapsed": false
   },
   "outputs": [
    {
     "name": "stdout",
     "output_type": "stream",
     "text": [
      "header\n",
      "column_names\n",
      "data\n",
      "footer\n",
      "inline_comments\n",
      "metadata\n"
     ]
    }
   ],
   "source": [
    "for element in one_port.elements:\n",
    "    print element"
   ]
  },
  {
   "cell_type": "code",
   "execution_count": null,
   "metadata": {
    "collapsed": false
   },
   "outputs": [],
   "source": [
    "header_table=pandas.DataFrame(one_port.header,columns=[\"Header_Line_Content\"])\n",
    "data_table=pandas.DataFrame(one_port.data,columns=one_port.column_names)\n",
    "footer_table=pandas.DataFrame(one_port.footer,columns=[\"Footer_Line_Content\"])\n",
    "inline_comments=pandas.DataFrame(one_port.footer,columns=[\"Line\",\"Location\",\"Comment\"])\n",
    "metadata_table=pandas.DataFrame([[key,value] for key,value in one_port.metadata.iteritems() ], \n",
    "                                columns=[\"Property\",\"Value\"])"
   ]
  },
  {
   "cell_type": "code",
   "execution_count": null,
   "metadata": {
    "collapsed": false
   },
   "outputs": [],
   "source": [
    "header_table"
   ]
  },
  {
   "cell_type": "code",
   "execution_count": 129,
   "metadata": {
    "collapsed": false
   },
   "outputs": [],
   "source": [
    "# Move this to a DataTable Graph Example\n",
    "def AsciiDataTable_to_DataFrame_dict(AsciiDataTable):\n",
    "    \"\"\"Converts an AsciiDataTable to a dictionary of pandas.DataFrame s\"\"\"\n",
    "    output_dict={}\n",
    "    for element in AsciiDataTable.elements:\n",
    "        #print(\"{0} is {1}\".format('element',element))\n",
    "        if AsciiDataTable.__dict__[element]:\n",
    "            if re.search('header',element,re.IGNORECASE):\n",
    "                header_table=pandas.DataFrame(AsciiDataTable.header,columns=[\"Header_Line_Content\"])\n",
    "                output_dict[\"Header\"]=header_table\n",
    "            # needs to be before data search    \n",
    "            elif re.search('meta',element,re.IGNORECASE):\n",
    "                #print(\"{0} is {1}\".format('element',element))\n",
    "                metadata_table=pandas.DataFrame([[key,value] for key,value in AsciiDataTable.metadata.iteritems()], \n",
    "                                columns=[\"Property\",\"Value\"])\n",
    "                output_dict[\"Metadata\"]=metadata_table    \n",
    "            elif re.search('data|^meta',element,re.IGNORECASE):\n",
    "                \n",
    "                data_table=pandas.DataFrame(AsciiDataTable.data,columns=AsciiDataTable.column_names)\n",
    "                output_dict[\"Data\"]=data_table\n",
    "                \n",
    "            elif re.search('footer',element,re.IGNORECASE):\n",
    "                footer_table=pandas.DataFrame(AsciiDataTable.footer,columns=[\"Footer_Line_Content\"])\n",
    "                output_dict[\"Footer\"]=footer_table\n",
    "                \n",
    "            elif re.search('comment',element,re.IGNORECASE):\n",
    "                comments=AsciiDataTable.__dict__[element]\n",
    "                inline_comments=pandas.DataFrame(comments,columns=[\"Comment\",\"Line\",\"Location\"])\n",
    "                output_dict[\"Comments\"]=inline_comments\n",
    "                \n",
    "\n",
    "    return output_dict\n",
    "\n",
    "def DataFrame_dict_to_AsciiDataTable(DataFrame_dict,**options):\n",
    "    \"\"\"Given a dictionary of pandas DataFrames returns an AsciiDataTable\"\"\"\n",
    "    defaults={\"inline_comment_begin\":\"!\",\"inline_comment_end\":\"\\n\"}\n",
    "    table_options={}\n",
    "    for key,value in defaults.iteritems():\n",
    "        table_options[key]=value\n",
    "    for key,value in options.iteritems():\n",
    "        table_options[key]=value\n",
    "    keys=DataFrame_dict.keys()\n",
    "    for key in keys:\n",
    "        table_key=key\n",
    "        if key in[\"comments\",\"Comments\",\"inline_comments\",\"Inline_Comments\"]:\n",
    "            table_key=\"inline_comments\"\n",
    "        if key in [\"data\",\"Data\"]:\n",
    "            table_options[\"column_names\"]=DataFrame_dict[key].columns.tolist()\n",
    "            \n",
    "        table_options[table_key.lower()]=DataFrame_dict[key].as_matrix().tolist()\n",
    "    new_table=AsciiDataTable(None,**table_options)\n",
    "    return new_table\n",
    "        \n",
    "    "
   ]
  },
  {
   "cell_type": "code",
   "execution_count": 43,
   "metadata": {
    "collapsed": false
   },
   "outputs": [],
   "source": [
    "panda_dict=AsciiDataTable_to_DataFrame_dict(one_port)"
   ]
  },
  {
   "cell_type": "code",
   "execution_count": 44,
   "metadata": {
    "collapsed": false
   },
   "outputs": [
    {
     "data": {
      "text/html": [
       "<div>\n",
       "<table border=\"1\" class=\"dataframe\">\n",
       "  <thead>\n",
       "    <tr style=\"text-align: right;\">\n",
       "      <th></th>\n",
       "      <th>Property</th>\n",
       "      <th>Value</th>\n",
       "    </tr>\n",
       "  </thead>\n",
       "  <tbody>\n",
       "    <tr>\n",
       "      <th>0</th>\n",
       "      <td>Analysis_Date</td>\n",
       "      <td>16-Oct-15</td>\n",
       "    </tr>\n",
       "    <tr>\n",
       "      <th>1</th>\n",
       "      <td>Device_Id</td>\n",
       "      <td>700437</td>\n",
       "    </tr>\n",
       "  </tbody>\n",
       "</table>\n",
       "</div>"
      ],
      "text/plain": [
       "        Property      Value\n",
       "0  Analysis_Date  16-Oct-15\n",
       "1      Device_Id     700437"
      ]
     },
     "execution_count": 44,
     "metadata": {},
     "output_type": "execute_result"
    }
   ],
   "source": [
    "panda_dict[\"Metadata\"]"
   ]
  },
  {
   "cell_type": "code",
   "execution_count": 46,
   "metadata": {
    "collapsed": false
   },
   "outputs": [],
   "source": [
    "#panda_dict[\"Data\"]"
   ]
  },
  {
   "cell_type": "code",
   "execution_count": 107,
   "metadata": {
    "collapsed": true
   },
   "outputs": [],
   "source": [
    "def DataFrame_dict_to_excel(DataFrame_dict,excel_file_name=\"Test.xlsx\"):\n",
    "    \"\"\"Converts a dictionary of pandas DataFrames to a single excel file with sheet names\n",
    "    determined by keys\"\"\"\n",
    "    # sort the keys so that they will display in the same order\n",
    "    writer = pandas.ExcelWriter(excel_file_name)\n",
    "    keys=sorted(DataFrame_dict.keys())\n",
    "    for key in keys:\n",
    "        #print key\n",
    "        DataFrame_dict[key].to_excel(writer,sheet_name=key,index=False)\n",
    "    writer.close()\n",
    "    return excel_file_name\n",
    "\n",
    "def excel_to_DataFrame_dict(excel_file_name):\n",
    "    \"\"\"Reads an excel file into a dictionary of data frames\"\"\"\n",
    "    data_frame_dictionary=pandas.read_excel(excel_file_name,sheetname=None)\n",
    "    return data_frame_dictionary\n",
    "def DataFrame_dict_to_hdf(DataFrame_dict,hdf_file_name=\"Test.hd5\"):\n",
    "    \"\"\"Transforms a dictionary of pandas.DataFrames to a single HD5 file with groups determined by the keys\"\"\"\n",
    "    keys=sorted(DataFrame_dict.keys())\n",
    "    for key in keys:\n",
    "        DataFrame_dict[key].to_hdf(hdf_file_name,key)\n",
    "    return hdf_file_name\n",
    "\n",
    "def hdf_to_DataFrame_dict(hdf_file_name):\n",
    "    \"\"\"Creates a dictionary of pandas.DataFrames given a hd5 file name, does this require the table names?\n",
    "    \"\"\"\n",
    "    hdf=h5py.File(hdf_file_name)\n",
    "    keys=hdf.keys()\n",
    "    pandas_dictionary={key:pandas.read_hdf(hdf_file_name,key) for key in keys}\n",
    "    return pandas_dictionary\n",
    "    "
   ]
  },
  {
   "cell_type": "code",
   "execution_count": null,
   "metadata": {
    "collapsed": false
   },
   "outputs": [],
   "source": [
    "DataFrame_dict_to_excel(panda_dict)"
   ]
  },
  {
   "cell_type": "code",
   "execution_count": null,
   "metadata": {
    "collapsed": true
   },
   "outputs": [],
   "source": [
    "test_dict=pandas.read_excel(\"Test.xlsx\",sheetname=None)"
   ]
  },
  {
   "cell_type": "code",
   "execution_count": null,
   "metadata": {
    "collapsed": false
   },
   "outputs": [],
   "source": [
    "test_dict[\"Header\"]"
   ]
  },
  {
   "cell_type": "code",
   "execution_count": 48,
   "metadata": {
    "collapsed": false
   },
   "outputs": [],
   "source": [
    "raw_table=TwoPortRawModel(os.path.join(TESTS_DIRECTORY,'TestFileTwoPortRaw.txt'))"
   ]
  },
  {
   "cell_type": "code",
   "execution_count": 49,
   "metadata": {
    "collapsed": false
   },
   "outputs": [],
   "source": [
    "test_dict=AsciiDataTable_to_DataFrame_dict(raw_table)"
   ]
  },
  {
   "cell_type": "code",
   "execution_count": 50,
   "metadata": {
    "collapsed": false
   },
   "outputs": [
    {
     "data": {
      "text/plain": [
       "['Header', 'Data', 'Metadata']"
      ]
     },
     "execution_count": 50,
     "metadata": {},
     "output_type": "execute_result"
    }
   ],
   "source": [
    "test_dict.keys()"
   ]
  },
  {
   "cell_type": "code",
   "execution_count": 40,
   "metadata": {
    "collapsed": false
   },
   "outputs": [
    {
     "data": {
      "text/html": [
       "<div>\n",
       "<table border=\"1\" class=\"dataframe\">\n",
       "  <thead>\n",
       "    <tr style=\"text-align: right;\">\n",
       "      <th></th>\n",
       "      <th>Property</th>\n",
       "      <th>Value</th>\n",
       "    </tr>\n",
       "  </thead>\n",
       "  <tbody>\n",
       "    <tr>\n",
       "      <th>0</th>\n",
       "      <td>Connector_Type_Calibration</td>\n",
       "      <td></td>\n",
       "    </tr>\n",
       "    <tr>\n",
       "      <th>1</th>\n",
       "      <td>Number_Connects</td>\n",
       "      <td>3</td>\n",
       "    </tr>\n",
       "    <tr>\n",
       "      <th>2</th>\n",
       "      <td>Connector_Type_Measurement</td>\n",
       "      <td>N</td>\n",
       "    </tr>\n",
       "    <tr>\n",
       "      <th>3</th>\n",
       "      <td>Number_Repeats</td>\n",
       "      <td>1</td>\n",
       "    </tr>\n",
       "    <tr>\n",
       "      <th>4</th>\n",
       "      <td>Operator</td>\n",
       "      <td>BFR</td>\n",
       "    </tr>\n",
       "    <tr>\n",
       "      <th>5</th>\n",
       "      <td>Number_Frequencies</td>\n",
       "      <td>53</td>\n",
       "    </tr>\n",
       "    <tr>\n",
       "      <th>6</th>\n",
       "      <td>Start_Frequency</td>\n",
       "      <td>7</td>\n",
       "    </tr>\n",
       "    <tr>\n",
       "      <th>7</th>\n",
       "      <td>Measurement_Date</td>\n",
       "      <td>9 Sep 2015</td>\n",
       "    </tr>\n",
       "    <tr>\n",
       "      <th>8</th>\n",
       "      <td>Program_Used</td>\n",
       "      <td>MEASLP</td>\n",
       "    </tr>\n",
       "    <tr>\n",
       "      <th>9</th>\n",
       "      <td>Measurement_Type</td>\n",
       "      <td>2-port</td>\n",
       "    </tr>\n",
       "    <tr>\n",
       "      <th>10</th>\n",
       "      <td>System_Id</td>\n",
       "      <td>HP8510</td>\n",
       "    </tr>\n",
       "    <tr>\n",
       "      <th>11</th>\n",
       "      <td>Nbs</td>\n",
       "      <td>4</td>\n",
       "    </tr>\n",
       "    <tr>\n",
       "      <th>12</th>\n",
       "      <td>Device_Id</td>\n",
       "      <td>CTN208</td>\n",
       "    </tr>\n",
       "    <tr>\n",
       "      <th>13</th>\n",
       "      <td>Measurement_Time</td>\n",
       "      <td>10:31:55</td>\n",
       "    </tr>\n",
       "    <tr>\n",
       "      <th>14</th>\n",
       "      <td>Program_Revision</td>\n",
       "      <td>150122</td>\n",
       "    </tr>\n",
       "    <tr>\n",
       "      <th>15</th>\n",
       "      <td>Port_Used</td>\n",
       "      <td>1</td>\n",
       "    </tr>\n",
       "    <tr>\n",
       "      <th>16</th>\n",
       "      <td>Calibration_Date</td>\n",
       "      <td></td>\n",
       "    </tr>\n",
       "    <tr>\n",
       "      <th>17</th>\n",
       "      <td>Device_Description</td>\n",
       "      <td>CHECK STANDARD 20 dB ATTEN</td>\n",
       "    </tr>\n",
       "    <tr>\n",
       "      <th>18</th>\n",
       "      <td>Calibration_Name</td>\n",
       "      <td>c050211.a2</td>\n",
       "    </tr>\n",
       "    <tr>\n",
       "      <th>19</th>\n",
       "      <td>System_Letter</td>\n",
       "      <td>L</td>\n",
       "    </tr>\n",
       "  </tbody>\n",
       "</table>\n",
       "</div>"
      ],
      "text/plain": [
       "                      Property                       Value\n",
       "0   Connector_Type_Calibration                            \n",
       "1              Number_Connects                           3\n",
       "2   Connector_Type_Measurement                           N\n",
       "3               Number_Repeats                           1\n",
       "4                     Operator                         BFR\n",
       "5           Number_Frequencies                          53\n",
       "6              Start_Frequency                           7\n",
       "7             Measurement_Date                  9 Sep 2015\n",
       "8                 Program_Used                      MEASLP\n",
       "9             Measurement_Type                      2-port\n",
       "10                   System_Id                      HP8510\n",
       "11                         Nbs                           4\n",
       "12                   Device_Id                      CTN208\n",
       "13            Measurement_Time                    10:31:55\n",
       "14            Program_Revision                      150122\n",
       "15                   Port_Used                           1\n",
       "16            Calibration_Date                            \n",
       "17          Device_Description  CHECK STANDARD 20 dB ATTEN\n",
       "18            Calibration_Name                  c050211.a2\n",
       "19               System_Letter                           L"
      ]
     },
     "execution_count": 40,
     "metadata": {},
     "output_type": "execute_result"
    }
   ],
   "source": [
    "test_dict[\"Metadata\"]"
   ]
  },
  {
   "cell_type": "code",
   "execution_count": 41,
   "metadata": {
    "collapsed": false
   },
   "outputs": [
    {
     "data": {
      "text/html": [
       "<div>\n",
       "<table border=\"1\" class=\"dataframe\">\n",
       "  <thead>\n",
       "    <tr style=\"text-align: right;\">\n",
       "      <th></th>\n",
       "      <th>Header_Line_Content</th>\n",
       "    </tr>\n",
       "  </thead>\n",
       "  <tbody>\n",
       "    <tr>\n",
       "      <th>0</th>\n",
       "      <td>HP8510</td>\n",
       "    </tr>\n",
       "    <tr>\n",
       "      <th>1</th>\n",
       "      <td>L</td>\n",
       "    </tr>\n",
       "    <tr>\n",
       "      <th>2</th>\n",
       "      <td></td>\n",
       "    </tr>\n",
       "    <tr>\n",
       "      <th>3</th>\n",
       "      <td>N</td>\n",
       "    </tr>\n",
       "    <tr>\n",
       "      <th>4</th>\n",
       "      <td>2-port</td>\n",
       "    </tr>\n",
       "    <tr>\n",
       "      <th>5</th>\n",
       "      <td>9 Sep 2015</td>\n",
       "    </tr>\n",
       "    <tr>\n",
       "      <th>6</th>\n",
       "      <td>10:31:55</td>\n",
       "    </tr>\n",
       "    <tr>\n",
       "      <th>7</th>\n",
       "      <td>MEASLP</td>\n",
       "    </tr>\n",
       "    <tr>\n",
       "      <th>8</th>\n",
       "      <td>150122</td>\n",
       "    </tr>\n",
       "    <tr>\n",
       "      <th>9</th>\n",
       "      <td>BFR</td>\n",
       "    </tr>\n",
       "    <tr>\n",
       "      <th>10</th>\n",
       "      <td>c050211.a2</td>\n",
       "    </tr>\n",
       "    <tr>\n",
       "      <th>11</th>\n",
       "      <td></td>\n",
       "    </tr>\n",
       "    <tr>\n",
       "      <th>12</th>\n",
       "      <td>1</td>\n",
       "    </tr>\n",
       "    <tr>\n",
       "      <th>13</th>\n",
       "      <td>3</td>\n",
       "    </tr>\n",
       "    <tr>\n",
       "      <th>14</th>\n",
       "      <td>1</td>\n",
       "    </tr>\n",
       "    <tr>\n",
       "      <th>15</th>\n",
       "      <td>4</td>\n",
       "    </tr>\n",
       "    <tr>\n",
       "      <th>16</th>\n",
       "      <td>53</td>\n",
       "    </tr>\n",
       "    <tr>\n",
       "      <th>17</th>\n",
       "      <td>7</td>\n",
       "    </tr>\n",
       "    <tr>\n",
       "      <th>18</th>\n",
       "      <td>CHECK STANDARD 20 dB ATTEN                    ...</td>\n",
       "    </tr>\n",
       "    <tr>\n",
       "      <th>19</th>\n",
       "      <td>CTN208</td>\n",
       "    </tr>\n",
       "  </tbody>\n",
       "</table>\n",
       "</div>"
      ],
      "text/plain": [
       "                                  Header_Line_Content\n",
       "0                                        HP8510      \n",
       "1                                                  L \n",
       "2                                                    \n",
       "3                                             N      \n",
       "4                                     2-port         \n",
       "5                                      9 Sep 2015    \n",
       "6                                          10:31:55  \n",
       "7                                          MEASLP    \n",
       "8                                          150122    \n",
       "9                                          BFR       \n",
       "10                                    c050211.a2     \n",
       "11                                                   \n",
       "12                                                  1\n",
       "13                                                  3\n",
       "14                                                  1\n",
       "15                                                  4\n",
       "16                                                 53\n",
       "17                                                  7\n",
       "18  CHECK STANDARD 20 dB ATTEN                    ...\n",
       "19                               CTN208              "
      ]
     },
     "execution_count": 41,
     "metadata": {},
     "output_type": "execute_result"
    }
   ],
   "source": [
    "test_dict[\"Header\"]"
   ]
  },
  {
   "cell_type": "code",
   "execution_count": 53,
   "metadata": {
    "collapsed": true
   },
   "outputs": [],
   "source": [
    "excel=DataFrame_dict_to_excel(test_dict)"
   ]
  },
  {
   "cell_type": "code",
   "execution_count": 56,
   "metadata": {
    "collapsed": false
   },
   "outputs": [],
   "source": [
    "s2p=S2PV1(os.path.join(TESTS_DIRECTORY,'704b.S2P'))"
   ]
  },
  {
   "cell_type": "code",
   "execution_count": 67,
   "metadata": {
    "collapsed": false
   },
   "outputs": [],
   "source": [
    "test_dict=AsciiDataTable_to_DataFrame_dict(s2p)"
   ]
  },
  {
   "cell_type": "code",
   "execution_count": 60,
   "metadata": {
    "collapsed": false
   },
   "outputs": [
    {
     "data": {
      "text/plain": [
       "[['---------------------------------------------------------------------',\n",
       "  0,\n",
       "  0],\n",
       " [' ZVC, 3.52', 1, 0],\n",
       " ['---------------------------------------------------------------------',\n",
       "  2,\n",
       "  0],\n",
       " [' symbol freq-unit parameter-type data-format keyword impedance-ohm', 3, 0],\n",
       " ['---------------------------------------------------------------------',\n",
       "  5,\n",
       "  0],\n",
       " [' freq                dbS11          angS11          dbS21          angS21          dbS12          angS12          dbS22          angS22          ',\n",
       "  6,\n",
       "  0]]"
      ]
     },
     "execution_count": 60,
     "metadata": {},
     "output_type": "execute_result"
    }
   ],
   "source": [
    "s2p.comments"
   ]
  },
  {
   "cell_type": "code",
   "execution_count": 68,
   "metadata": {
    "collapsed": false
   },
   "outputs": [],
   "source": [
    "excel=DataFrame_dict_to_excel(test_dict)"
   ]
  },
  {
   "cell_type": "code",
   "execution_count": 73,
   "metadata": {
    "collapsed": true
   },
   "outputs": [],
   "source": [
    "tet_dict=excel_to_DataFrame_dict(\"test.xlsx\")"
   ]
  },
  {
   "cell_type": "code",
   "execution_count": 79,
   "metadata": {
    "collapsed": false
   },
   "outputs": [
    {
     "data": {
      "text/plain": [
       "['Data', 'Comments']"
      ]
     },
     "execution_count": 79,
     "metadata": {},
     "output_type": "execute_result"
    }
   ],
   "source": [
    "test_dict.keys()"
   ]
  },
  {
   "cell_type": "code",
   "execution_count": 81,
   "metadata": {
    "collapsed": true
   },
   "outputs": [],
   "source": [
    "test_hd5=DataFrame_dict_to_hd5(test_dict)"
   ]
  },
  {
   "cell_type": "code",
   "execution_count": 100,
   "metadata": {
    "collapsed": false
   },
   "outputs": [],
   "source": [
    "import h5py\n",
    "hdf=h5py.File(\"Test.hd5\")\n",
    "keys=hdf.keys()\n",
    "pandas_dictionary={key:pandas.read_hdf(\"Test.hd5\",key) for key in keys}"
   ]
  },
  {
   "cell_type": "code",
   "execution_count": 103,
   "metadata": {
    "collapsed": false
   },
   "outputs": [
    {
     "data": {
      "text/plain": [
       "[u'Comments', u'Data']"
      ]
     },
     "execution_count": 103,
     "metadata": {},
     "output_type": "execute_result"
    }
   ],
   "source": [
    "hdf.keys()"
   ]
  },
  {
   "cell_type": "code",
   "execution_count": 108,
   "metadata": {
    "collapsed": false
   },
   "outputs": [],
   "source": [
    "pandas_dictionary=hdf_to_DataFrame_dict(\"Test.hd5\")"
   ]
  },
  {
   "cell_type": "code",
   "execution_count": 109,
   "metadata": {
    "collapsed": false
   },
   "outputs": [
    {
     "data": {
      "text/plain": [
       "[u'Data', u'Comments']"
      ]
     },
     "execution_count": 109,
     "metadata": {},
     "output_type": "execute_result"
    }
   ],
   "source": [
    "pandas_dictionary.keys()"
   ]
  },
  {
   "cell_type": "code",
   "execution_count": 112,
   "metadata": {
    "collapsed": false
   },
   "outputs": [
    {
     "data": {
      "text/plain": [
       "[['---------------------------------------------------------------------',\n",
       "  0L,\n",
       "  0L],\n",
       " [' ZVC, 3.52', 1L, 0L],\n",
       " ['---------------------------------------------------------------------',\n",
       "  2L,\n",
       "  0L],\n",
       " [' symbol freq-unit parameter-type data-format keyword impedance-ohm',\n",
       "  3L,\n",
       "  0L],\n",
       " ['---------------------------------------------------------------------',\n",
       "  5L,\n",
       "  0L],\n",
       " [' freq                dbS11          angS11          dbS21          angS21          dbS12          angS12          dbS22          angS22          ',\n",
       "  6L,\n",
       "  0L]]"
      ]
     },
     "execution_count": 112,
     "metadata": {},
     "output_type": "execute_result"
    }
   ],
   "source": [
    "pandas_dictionary[\"Comments\"].as_matrix().tolist()"
   ]
  },
  {
   "cell_type": "code",
   "execution_count": 130,
   "metadata": {
    "collapsed": false
   },
   "outputs": [],
   "source": [
    "table=DataFrame_dict_to_AsciiDataTable(pandas_dictionary)"
   ]
  },
  {
   "cell_type": "code",
   "execution_count": 134,
   "metadata": {
    "collapsed": false
   },
   "outputs": [],
   "source": [
    "#print table.get_data_string()"
   ]
  },
  {
   "cell_type": "code",
   "execution_count": 138,
   "metadata": {
    "collapsed": false
   },
   "outputs": [
    {
     "data": {
      "text/plain": [
       "['n1', 'n2', 'n3', 'n4', 'n5', 'n6', 'n7', 'n8', 'n9', 'n10']"
      ]
     },
     "execution_count": 138,
     "metadata": {},
     "output_type": "execute_result"
    }
   ],
   "source": [
    "rect_graph.node_names"
   ]
  },
  {
   "cell_type": "code",
   "execution_count": 139,
   "metadata": {
    "collapsed": true
   },
   "outputs": [],
   "source": [
    "new_graph=networkx.DiGraph()"
   ]
  },
  {
   "cell_type": "code",
   "execution_count": 333,
   "metadata": {
    "collapsed": true
   },
   "outputs": [],
   "source": [
    "for node in rect_graph.node_names:\n",
    "    new_graph.add_node(node)"
   ]
  },
  {
   "cell_type": "code",
   "execution_count": 141,
   "metadata": {
    "collapsed": false
   },
   "outputs": [
    {
     "data": {
      "text/plain": [
       "['edge_n1_n2_000',\n",
       " 'edge_n2_n1_000',\n",
       " 'edge_n3_n1_000',\n",
       " 'edge_n1_n3_000',\n",
       " 'edge_n4_n2_000',\n",
       " 'edge_n2_n4_000',\n",
       " 'edge_n5_n1_000',\n",
       " 'edge_n1_n5_000',\n",
       " 'edge_n6_n1_000',\n",
       " 'edge_n1_n6_000',\n",
       " 'edge_n7_n1_000',\n",
       " 'edge_n1_n7_000',\n",
       " 'edge_n8_n1_000',\n",
       " 'edge_n1_n8_000',\n",
       " 'edge_n9_n1_000',\n",
       " 'edge_n1_n9_000',\n",
       " 'edge_n10_n2_000',\n",
       " 'edge_n2_n10_000',\n",
       " 'edge_n7_n4_000']"
      ]
     },
     "execution_count": 141,
     "metadata": {},
     "output_type": "execute_result"
    }
   ],
   "source": [
    "rect_graph.edges"
   ]
  },
  {
   "cell_type": "code",
   "execution_count": 143,
   "metadata": {
    "collapsed": false
   },
   "outputs": [],
   "source": [
    "edge_pattern=re.compile(\"edge_(?P<begin_node>\\w+)_(?P<end_node>\\w+)_(?P<iterator>\\w+)\")"
   ]
  },
  {
   "cell_type": "code",
   "execution_count": 332,
   "metadata": {
    "collapsed": false
   },
   "outputs": [
    {
     "name": "stdout",
     "output_type": "stream",
     "text": [
      "Begin Node = n1, End Node= n2\n",
      "Begin Node = n2, End Node= n1\n",
      "Begin Node = n3, End Node= n1\n",
      "Begin Node = n1, End Node= n3\n",
      "Begin Node = n4, End Node= n2\n",
      "Begin Node = n2, End Node= n4\n",
      "Begin Node = n5, End Node= n1\n",
      "Begin Node = n1, End Node= n5\n",
      "Begin Node = n6, End Node= n1\n",
      "Begin Node = n1, End Node= n6\n",
      "Begin Node = n7, End Node= n1\n",
      "Begin Node = n1, End Node= n7\n",
      "Begin Node = n8, End Node= n1\n",
      "Begin Node = n1, End Node= n8\n",
      "Begin Node = n9, End Node= n1\n",
      "Begin Node = n1, End Node= n9\n",
      "Begin Node = n10, End Node= n2\n",
      "Begin Node = n2, End Node= n10\n",
      "Begin Node = n11, End Node= n4\n",
      "Begin Node = n4, End Node= n11\n",
      "Begin Node = n7, End Node= n4\n"
     ]
    }
   ],
   "source": [
    "for edge in rect_graph.edges:\n",
    "    match=re.match(edge_pattern,edge)\n",
    "    if match:\n",
    "        begin_node=match.groupdict()[\"begin_node\"]\n",
    "        end_node=match.groupdict()[\"end_node\"]\n",
    "        new_graph.add_edge(begin_node,end_node)\n",
    "        print(\"Begin Node = {0}, End Node= {1}\".format(begin_node,end_node))"
   ]
  },
  {
   "cell_type": "code",
   "execution_count": 150,
   "metadata": {
    "collapsed": true
   },
   "outputs": [],
   "source": [
    "networkx.draw_networkx(new_graph,arrows=True)\n",
    "plt.show()"
   ]
  },
  {
   "cell_type": "code",
   "execution_count": 334,
   "metadata": {
    "collapsed": false
   },
   "outputs": [
    {
     "data": {
      "application/javascript": [
       "/* Put everything inside the global mpl namespace */\n",
       "window.mpl = {};\n",
       "\n",
       "mpl.get_websocket_type = function() {\n",
       "    if (typeof(WebSocket) !== 'undefined') {\n",
       "        return WebSocket;\n",
       "    } else if (typeof(MozWebSocket) !== 'undefined') {\n",
       "        return MozWebSocket;\n",
       "    } else {\n",
       "        alert('Your browser does not have WebSocket support.' +\n",
       "              'Please try Chrome, Safari or Firefox ≥ 6. ' +\n",
       "              'Firefox 4 and 5 are also supported but you ' +\n",
       "              'have to enable WebSockets in about:config.');\n",
       "    };\n",
       "}\n",
       "\n",
       "mpl.figure = function(figure_id, websocket, ondownload, parent_element) {\n",
       "    this.id = figure_id;\n",
       "\n",
       "    this.ws = websocket;\n",
       "\n",
       "    this.supports_binary = (this.ws.binaryType != undefined);\n",
       "\n",
       "    if (!this.supports_binary) {\n",
       "        var warnings = document.getElementById(\"mpl-warnings\");\n",
       "        if (warnings) {\n",
       "            warnings.style.display = 'block';\n",
       "            warnings.textContent = (\n",
       "                \"This browser does not support binary websocket messages. \" +\n",
       "                    \"Performance may be slow.\");\n",
       "        }\n",
       "    }\n",
       "\n",
       "    this.imageObj = new Image();\n",
       "\n",
       "    this.context = undefined;\n",
       "    this.message = undefined;\n",
       "    this.canvas = undefined;\n",
       "    this.rubberband_canvas = undefined;\n",
       "    this.rubberband_context = undefined;\n",
       "    this.format_dropdown = undefined;\n",
       "\n",
       "    this.image_mode = 'full';\n",
       "\n",
       "    this.root = $('<div/>');\n",
       "    this._root_extra_style(this.root)\n",
       "    this.root.attr('style', 'display: inline-block');\n",
       "\n",
       "    $(parent_element).append(this.root);\n",
       "\n",
       "    this._init_header(this);\n",
       "    this._init_canvas(this);\n",
       "    this._init_toolbar(this);\n",
       "\n",
       "    var fig = this;\n",
       "\n",
       "    this.waiting = false;\n",
       "\n",
       "    this.ws.onopen =  function () {\n",
       "            fig.send_message(\"supports_binary\", {value: fig.supports_binary});\n",
       "            fig.send_message(\"send_image_mode\", {});\n",
       "            fig.send_message(\"refresh\", {});\n",
       "        }\n",
       "\n",
       "    this.imageObj.onload = function() {\n",
       "            if (fig.image_mode == 'full') {\n",
       "                // Full images could contain transparency (where diff images\n",
       "                // almost always do), so we need to clear the canvas so that\n",
       "                // there is no ghosting.\n",
       "                fig.context.clearRect(0, 0, fig.canvas.width, fig.canvas.height);\n",
       "            }\n",
       "            fig.context.drawImage(fig.imageObj, 0, 0);\n",
       "        };\n",
       "\n",
       "    this.imageObj.onunload = function() {\n",
       "        this.ws.close();\n",
       "    }\n",
       "\n",
       "    this.ws.onmessage = this._make_on_message_function(this);\n",
       "\n",
       "    this.ondownload = ondownload;\n",
       "}\n",
       "\n",
       "mpl.figure.prototype._init_header = function() {\n",
       "    var titlebar = $(\n",
       "        '<div class=\"ui-dialog-titlebar ui-widget-header ui-corner-all ' +\n",
       "        'ui-helper-clearfix\"/>');\n",
       "    var titletext = $(\n",
       "        '<div class=\"ui-dialog-title\" style=\"width: 100%; ' +\n",
       "        'text-align: center; padding: 3px;\"/>');\n",
       "    titlebar.append(titletext)\n",
       "    this.root.append(titlebar);\n",
       "    this.header = titletext[0];\n",
       "}\n",
       "\n",
       "\n",
       "\n",
       "mpl.figure.prototype._canvas_extra_style = function(canvas_div) {\n",
       "\n",
       "}\n",
       "\n",
       "\n",
       "mpl.figure.prototype._root_extra_style = function(canvas_div) {\n",
       "\n",
       "}\n",
       "\n",
       "mpl.figure.prototype._init_canvas = function() {\n",
       "    var fig = this;\n",
       "\n",
       "    var canvas_div = $('<div/>');\n",
       "\n",
       "    canvas_div.attr('style', 'position: relative; clear: both; outline: 0');\n",
       "\n",
       "    function canvas_keyboard_event(event) {\n",
       "        return fig.key_event(event, event['data']);\n",
       "    }\n",
       "\n",
       "    canvas_div.keydown('key_press', canvas_keyboard_event);\n",
       "    canvas_div.keyup('key_release', canvas_keyboard_event);\n",
       "    this.canvas_div = canvas_div\n",
       "    this._canvas_extra_style(canvas_div)\n",
       "    this.root.append(canvas_div);\n",
       "\n",
       "    var canvas = $('<canvas/>');\n",
       "    canvas.addClass('mpl-canvas');\n",
       "    canvas.attr('style', \"left: 0; top: 0; z-index: 0; outline: 0\")\n",
       "\n",
       "    this.canvas = canvas[0];\n",
       "    this.context = canvas[0].getContext(\"2d\");\n",
       "\n",
       "    var rubberband = $('<canvas/>');\n",
       "    rubberband.attr('style', \"position: absolute; left: 0; top: 0; z-index: 1;\")\n",
       "\n",
       "    var pass_mouse_events = true;\n",
       "\n",
       "    canvas_div.resizable({\n",
       "        start: function(event, ui) {\n",
       "            pass_mouse_events = false;\n",
       "        },\n",
       "        resize: function(event, ui) {\n",
       "            fig.request_resize(ui.size.width, ui.size.height);\n",
       "        },\n",
       "        stop: function(event, ui) {\n",
       "            pass_mouse_events = true;\n",
       "            fig.request_resize(ui.size.width, ui.size.height);\n",
       "        },\n",
       "    });\n",
       "\n",
       "    function mouse_event_fn(event) {\n",
       "        if (pass_mouse_events)\n",
       "            return fig.mouse_event(event, event['data']);\n",
       "    }\n",
       "\n",
       "    rubberband.mousedown('button_press', mouse_event_fn);\n",
       "    rubberband.mouseup('button_release', mouse_event_fn);\n",
       "    // Throttle sequential mouse events to 1 every 20ms.\n",
       "    rubberband.mousemove('motion_notify', mouse_event_fn);\n",
       "\n",
       "    rubberband.mouseenter('figure_enter', mouse_event_fn);\n",
       "    rubberband.mouseleave('figure_leave', mouse_event_fn);\n",
       "\n",
       "    canvas_div.on(\"wheel\", function (event) {\n",
       "        event = event.originalEvent;\n",
       "        event['data'] = 'scroll'\n",
       "        if (event.deltaY < 0) {\n",
       "            event.step = 1;\n",
       "        } else {\n",
       "            event.step = -1;\n",
       "        }\n",
       "        mouse_event_fn(event);\n",
       "    });\n",
       "\n",
       "    canvas_div.append(canvas);\n",
       "    canvas_div.append(rubberband);\n",
       "\n",
       "    this.rubberband = rubberband;\n",
       "    this.rubberband_canvas = rubberband[0];\n",
       "    this.rubberband_context = rubberband[0].getContext(\"2d\");\n",
       "    this.rubberband_context.strokeStyle = \"#000000\";\n",
       "\n",
       "    this._resize_canvas = function(width, height) {\n",
       "        // Keep the size of the canvas, canvas container, and rubber band\n",
       "        // canvas in synch.\n",
       "        canvas_div.css('width', width)\n",
       "        canvas_div.css('height', height)\n",
       "\n",
       "        canvas.attr('width', width);\n",
       "        canvas.attr('height', height);\n",
       "\n",
       "        rubberband.attr('width', width);\n",
       "        rubberband.attr('height', height);\n",
       "    }\n",
       "\n",
       "    // Set the figure to an initial 600x600px, this will subsequently be updated\n",
       "    // upon first draw.\n",
       "    this._resize_canvas(600, 600);\n",
       "\n",
       "    // Disable right mouse context menu.\n",
       "    $(this.rubberband_canvas).bind(\"contextmenu\",function(e){\n",
       "        return false;\n",
       "    });\n",
       "\n",
       "    function set_focus () {\n",
       "        canvas.focus();\n",
       "        canvas_div.focus();\n",
       "    }\n",
       "\n",
       "    window.setTimeout(set_focus, 100);\n",
       "}\n",
       "\n",
       "mpl.figure.prototype._init_toolbar = function() {\n",
       "    var fig = this;\n",
       "\n",
       "    var nav_element = $('<div/>')\n",
       "    nav_element.attr('style', 'width: 100%');\n",
       "    this.root.append(nav_element);\n",
       "\n",
       "    // Define a callback function for later on.\n",
       "    function toolbar_event(event) {\n",
       "        return fig.toolbar_button_onclick(event['data']);\n",
       "    }\n",
       "    function toolbar_mouse_event(event) {\n",
       "        return fig.toolbar_button_onmouseover(event['data']);\n",
       "    }\n",
       "\n",
       "    for(var toolbar_ind in mpl.toolbar_items) {\n",
       "        var name = mpl.toolbar_items[toolbar_ind][0];\n",
       "        var tooltip = mpl.toolbar_items[toolbar_ind][1];\n",
       "        var image = mpl.toolbar_items[toolbar_ind][2];\n",
       "        var method_name = mpl.toolbar_items[toolbar_ind][3];\n",
       "\n",
       "        if (!name) {\n",
       "            // put a spacer in here.\n",
       "            continue;\n",
       "        }\n",
       "        var button = $('<button/>');\n",
       "        button.addClass('ui-button ui-widget ui-state-default ui-corner-all ' +\n",
       "                        'ui-button-icon-only');\n",
       "        button.attr('role', 'button');\n",
       "        button.attr('aria-disabled', 'false');\n",
       "        button.click(method_name, toolbar_event);\n",
       "        button.mouseover(tooltip, toolbar_mouse_event);\n",
       "\n",
       "        var icon_img = $('<span/>');\n",
       "        icon_img.addClass('ui-button-icon-primary ui-icon');\n",
       "        icon_img.addClass(image);\n",
       "        icon_img.addClass('ui-corner-all');\n",
       "\n",
       "        var tooltip_span = $('<span/>');\n",
       "        tooltip_span.addClass('ui-button-text');\n",
       "        tooltip_span.html(tooltip);\n",
       "\n",
       "        button.append(icon_img);\n",
       "        button.append(tooltip_span);\n",
       "\n",
       "        nav_element.append(button);\n",
       "    }\n",
       "\n",
       "    var fmt_picker_span = $('<span/>');\n",
       "\n",
       "    var fmt_picker = $('<select/>');\n",
       "    fmt_picker.addClass('mpl-toolbar-option ui-widget ui-widget-content');\n",
       "    fmt_picker_span.append(fmt_picker);\n",
       "    nav_element.append(fmt_picker_span);\n",
       "    this.format_dropdown = fmt_picker[0];\n",
       "\n",
       "    for (var ind in mpl.extensions) {\n",
       "        var fmt = mpl.extensions[ind];\n",
       "        var option = $(\n",
       "            '<option/>', {selected: fmt === mpl.default_extension}).html(fmt);\n",
       "        fmt_picker.append(option)\n",
       "    }\n",
       "\n",
       "    // Add hover states to the ui-buttons\n",
       "    $( \".ui-button\" ).hover(\n",
       "        function() { $(this).addClass(\"ui-state-hover\");},\n",
       "        function() { $(this).removeClass(\"ui-state-hover\");}\n",
       "    );\n",
       "\n",
       "    var status_bar = $('<span class=\"mpl-message\"/>');\n",
       "    nav_element.append(status_bar);\n",
       "    this.message = status_bar[0];\n",
       "}\n",
       "\n",
       "mpl.figure.prototype.request_resize = function(x_pixels, y_pixels) {\n",
       "    // Request matplotlib to resize the figure. Matplotlib will then trigger a resize in the client,\n",
       "    // which will in turn request a refresh of the image.\n",
       "    this.send_message('resize', {'width': x_pixels, 'height': y_pixels});\n",
       "}\n",
       "\n",
       "mpl.figure.prototype.send_message = function(type, properties) {\n",
       "    properties['type'] = type;\n",
       "    properties['figure_id'] = this.id;\n",
       "    this.ws.send(JSON.stringify(properties));\n",
       "}\n",
       "\n",
       "mpl.figure.prototype.send_draw_message = function() {\n",
       "    if (!this.waiting) {\n",
       "        this.waiting = true;\n",
       "        this.ws.send(JSON.stringify({type: \"draw\", figure_id: this.id}));\n",
       "    }\n",
       "}\n",
       "\n",
       "\n",
       "mpl.figure.prototype.handle_save = function(fig, msg) {\n",
       "    var format_dropdown = fig.format_dropdown;\n",
       "    var format = format_dropdown.options[format_dropdown.selectedIndex].value;\n",
       "    fig.ondownload(fig, format);\n",
       "}\n",
       "\n",
       "\n",
       "mpl.figure.prototype.handle_resize = function(fig, msg) {\n",
       "    var size = msg['size'];\n",
       "    if (size[0] != fig.canvas.width || size[1] != fig.canvas.height) {\n",
       "        fig._resize_canvas(size[0], size[1]);\n",
       "        fig.send_message(\"refresh\", {});\n",
       "    };\n",
       "}\n",
       "\n",
       "mpl.figure.prototype.handle_rubberband = function(fig, msg) {\n",
       "    var x0 = msg['x0'];\n",
       "    var y0 = fig.canvas.height - msg['y0'];\n",
       "    var x1 = msg['x1'];\n",
       "    var y1 = fig.canvas.height - msg['y1'];\n",
       "    x0 = Math.floor(x0) + 0.5;\n",
       "    y0 = Math.floor(y0) + 0.5;\n",
       "    x1 = Math.floor(x1) + 0.5;\n",
       "    y1 = Math.floor(y1) + 0.5;\n",
       "    var min_x = Math.min(x0, x1);\n",
       "    var min_y = Math.min(y0, y1);\n",
       "    var width = Math.abs(x1 - x0);\n",
       "    var height = Math.abs(y1 - y0);\n",
       "\n",
       "    fig.rubberband_context.clearRect(\n",
       "        0, 0, fig.canvas.width, fig.canvas.height);\n",
       "\n",
       "    fig.rubberband_context.strokeRect(min_x, min_y, width, height);\n",
       "}\n",
       "\n",
       "mpl.figure.prototype.handle_figure_label = function(fig, msg) {\n",
       "    // Updates the figure title.\n",
       "    fig.header.textContent = msg['label'];\n",
       "}\n",
       "\n",
       "mpl.figure.prototype.handle_cursor = function(fig, msg) {\n",
       "    var cursor = msg['cursor'];\n",
       "    switch(cursor)\n",
       "    {\n",
       "    case 0:\n",
       "        cursor = 'pointer';\n",
       "        break;\n",
       "    case 1:\n",
       "        cursor = 'default';\n",
       "        break;\n",
       "    case 2:\n",
       "        cursor = 'crosshair';\n",
       "        break;\n",
       "    case 3:\n",
       "        cursor = 'move';\n",
       "        break;\n",
       "    }\n",
       "    fig.rubberband_canvas.style.cursor = cursor;\n",
       "}\n",
       "\n",
       "mpl.figure.prototype.handle_message = function(fig, msg) {\n",
       "    fig.message.textContent = msg['message'];\n",
       "}\n",
       "\n",
       "mpl.figure.prototype.handle_draw = function(fig, msg) {\n",
       "    // Request the server to send over a new figure.\n",
       "    fig.send_draw_message();\n",
       "}\n",
       "\n",
       "mpl.figure.prototype.handle_image_mode = function(fig, msg) {\n",
       "    fig.image_mode = msg['mode'];\n",
       "}\n",
       "\n",
       "mpl.figure.prototype.updated_canvas_event = function() {\n",
       "    // Called whenever the canvas gets updated.\n",
       "    this.send_message(\"ack\", {});\n",
       "}\n",
       "\n",
       "// A function to construct a web socket function for onmessage handling.\n",
       "// Called in the figure constructor.\n",
       "mpl.figure.prototype._make_on_message_function = function(fig) {\n",
       "    return function socket_on_message(evt) {\n",
       "        if (evt.data instanceof Blob) {\n",
       "            /* FIXME: We get \"Resource interpreted as Image but\n",
       "             * transferred with MIME type text/plain:\" errors on\n",
       "             * Chrome.  But how to set the MIME type?  It doesn't seem\n",
       "             * to be part of the websocket stream */\n",
       "            evt.data.type = \"image/png\";\n",
       "\n",
       "            /* Free the memory for the previous frames */\n",
       "            if (fig.imageObj.src) {\n",
       "                (window.URL || window.webkitURL).revokeObjectURL(\n",
       "                    fig.imageObj.src);\n",
       "            }\n",
       "\n",
       "            fig.imageObj.src = (window.URL || window.webkitURL).createObjectURL(\n",
       "                evt.data);\n",
       "            fig.updated_canvas_event();\n",
       "            fig.waiting = false;\n",
       "            return;\n",
       "        }\n",
       "        else if (typeof evt.data === 'string' && evt.data.slice(0, 21) == \"data:image/png;base64\") {\n",
       "            fig.imageObj.src = evt.data;\n",
       "            fig.updated_canvas_event();\n",
       "            fig.waiting = false;\n",
       "            return;\n",
       "        }\n",
       "\n",
       "        var msg = JSON.parse(evt.data);\n",
       "        var msg_type = msg['type'];\n",
       "\n",
       "        // Call the  \"handle_{type}\" callback, which takes\n",
       "        // the figure and JSON message as its only arguments.\n",
       "        try {\n",
       "            var callback = fig[\"handle_\" + msg_type];\n",
       "        } catch (e) {\n",
       "            console.log(\"No handler for the '\" + msg_type + \"' message type: \", msg);\n",
       "            return;\n",
       "        }\n",
       "\n",
       "        if (callback) {\n",
       "            try {\n",
       "                // console.log(\"Handling '\" + msg_type + \"' message: \", msg);\n",
       "                callback(fig, msg);\n",
       "            } catch (e) {\n",
       "                console.log(\"Exception inside the 'handler_\" + msg_type + \"' callback:\", e, e.stack, msg);\n",
       "            }\n",
       "        }\n",
       "    };\n",
       "}\n",
       "\n",
       "// from http://stackoverflow.com/questions/1114465/getting-mouse-location-in-canvas\n",
       "mpl.findpos = function(e) {\n",
       "    //this section is from http://www.quirksmode.org/js/events_properties.html\n",
       "    var targ;\n",
       "    if (!e)\n",
       "        e = window.event;\n",
       "    if (e.target)\n",
       "        targ = e.target;\n",
       "    else if (e.srcElement)\n",
       "        targ = e.srcElement;\n",
       "    if (targ.nodeType == 3) // defeat Safari bug\n",
       "        targ = targ.parentNode;\n",
       "\n",
       "    // jQuery normalizes the pageX and pageY\n",
       "    // pageX,Y are the mouse positions relative to the document\n",
       "    // offset() returns the position of the element relative to the document\n",
       "    var x = e.pageX - $(targ).offset().left;\n",
       "    var y = e.pageY - $(targ).offset().top;\n",
       "\n",
       "    return {\"x\": x, \"y\": y};\n",
       "};\n",
       "\n",
       "/*\n",
       " * return a copy of an object with only non-object keys\n",
       " * we need this to avoid circular references\n",
       " * http://stackoverflow.com/a/24161582/3208463\n",
       " */\n",
       "function simpleKeys (original) {\n",
       "  return Object.keys(original).reduce(function (obj, key) {\n",
       "    if (typeof original[key] !== 'object')\n",
       "        obj[key] = original[key]\n",
       "    return obj;\n",
       "  }, {});\n",
       "}\n",
       "\n",
       "mpl.figure.prototype.mouse_event = function(event, name) {\n",
       "    var canvas_pos = mpl.findpos(event)\n",
       "\n",
       "    if (name === 'button_press')\n",
       "    {\n",
       "        this.canvas.focus();\n",
       "        this.canvas_div.focus();\n",
       "    }\n",
       "\n",
       "    var x = canvas_pos.x;\n",
       "    var y = canvas_pos.y;\n",
       "\n",
       "    this.send_message(name, {x: x, y: y, button: event.button,\n",
       "                             step: event.step,\n",
       "                             guiEvent: simpleKeys(event)});\n",
       "\n",
       "    /* This prevents the web browser from automatically changing to\n",
       "     * the text insertion cursor when the button is pressed.  We want\n",
       "     * to control all of the cursor setting manually through the\n",
       "     * 'cursor' event from matplotlib */\n",
       "    event.preventDefault();\n",
       "    return false;\n",
       "}\n",
       "\n",
       "mpl.figure.prototype._key_event_extra = function(event, name) {\n",
       "    // Handle any extra behaviour associated with a key event\n",
       "}\n",
       "\n",
       "mpl.figure.prototype.key_event = function(event, name) {\n",
       "\n",
       "    // Prevent repeat events\n",
       "    if (name == 'key_press')\n",
       "    {\n",
       "        if (event.which === this._key)\n",
       "            return;\n",
       "        else\n",
       "            this._key = event.which;\n",
       "    }\n",
       "    if (name == 'key_release')\n",
       "        this._key = null;\n",
       "\n",
       "    var value = '';\n",
       "    if (event.ctrlKey && event.which != 17)\n",
       "        value += \"ctrl+\";\n",
       "    if (event.altKey && event.which != 18)\n",
       "        value += \"alt+\";\n",
       "    if (event.shiftKey && event.which != 16)\n",
       "        value += \"shift+\";\n",
       "\n",
       "    value += 'k';\n",
       "    value += event.which.toString();\n",
       "\n",
       "    this._key_event_extra(event, name);\n",
       "\n",
       "    this.send_message(name, {key: value,\n",
       "                             guiEvent: simpleKeys(event)});\n",
       "    return false;\n",
       "}\n",
       "\n",
       "mpl.figure.prototype.toolbar_button_onclick = function(name) {\n",
       "    if (name == 'download') {\n",
       "        this.handle_save(this, null);\n",
       "    } else {\n",
       "        this.send_message(\"toolbar_button\", {name: name});\n",
       "    }\n",
       "};\n",
       "\n",
       "mpl.figure.prototype.toolbar_button_onmouseover = function(tooltip) {\n",
       "    this.message.textContent = tooltip;\n",
       "};\n",
       "mpl.toolbar_items = [[\"Home\", \"Reset original view\", \"fa fa-home icon-home\", \"home\"], [\"Back\", \"Back to  previous view\", \"fa fa-arrow-left icon-arrow-left\", \"back\"], [\"Forward\", \"Forward to next view\", \"fa fa-arrow-right icon-arrow-right\", \"forward\"], [\"\", \"\", \"\", \"\"], [\"Pan\", \"Pan axes with left mouse, zoom with right\", \"fa fa-arrows icon-move\", \"pan\"], [\"Zoom\", \"Zoom to rectangle\", \"fa fa-square-o icon-check-empty\", \"zoom\"], [\"\", \"\", \"\", \"\"], [\"Download\", \"Download plot\", \"fa fa-floppy-o icon-save\", \"download\"]];\n",
       "\n",
       "mpl.extensions = [\"eps\", \"jpeg\", \"pdf\", \"png\", \"ps\", \"raw\", \"svg\", \"tif\"];\n",
       "\n",
       "mpl.default_extension = \"png\";var comm_websocket_adapter = function(comm) {\n",
       "    // Create a \"websocket\"-like object which calls the given IPython comm\n",
       "    // object with the appropriate methods. Currently this is a non binary\n",
       "    // socket, so there is still some room for performance tuning.\n",
       "    var ws = {};\n",
       "\n",
       "    ws.close = function() {\n",
       "        comm.close()\n",
       "    };\n",
       "    ws.send = function(m) {\n",
       "        //console.log('sending', m);\n",
       "        comm.send(m);\n",
       "    };\n",
       "    // Register the callback with on_msg.\n",
       "    comm.on_msg(function(msg) {\n",
       "        //console.log('receiving', msg['content']['data'], msg);\n",
       "        // Pass the mpl event to the overriden (by mpl) onmessage function.\n",
       "        ws.onmessage(msg['content']['data'])\n",
       "    });\n",
       "    return ws;\n",
       "}\n",
       "\n",
       "mpl.mpl_figure_comm = function(comm, msg) {\n",
       "    // This is the function which gets called when the mpl process\n",
       "    // starts-up an IPython Comm through the \"matplotlib\" channel.\n",
       "\n",
       "    var id = msg.content.data.id;\n",
       "    // Get hold of the div created by the display call when the Comm\n",
       "    // socket was opened in Python.\n",
       "    var element = $(\"#\" + id);\n",
       "    var ws_proxy = comm_websocket_adapter(comm)\n",
       "\n",
       "    function ondownload(figure, format) {\n",
       "        window.open(figure.imageObj.src);\n",
       "    }\n",
       "\n",
       "    var fig = new mpl.figure(id, ws_proxy,\n",
       "                           ondownload,\n",
       "                           element.get(0));\n",
       "\n",
       "    // Call onopen now - mpl needs it, as it is assuming we've passed it a real\n",
       "    // web socket which is closed, not our websocket->open comm proxy.\n",
       "    ws_proxy.onopen();\n",
       "\n",
       "    fig.parent_element = element.get(0);\n",
       "    fig.cell_info = mpl.find_output_cell(\"<div id='\" + id + \"'></div>\");\n",
       "    if (!fig.cell_info) {\n",
       "        console.error(\"Failed to find cell for figure\", id, fig);\n",
       "        return;\n",
       "    }\n",
       "\n",
       "    var output_index = fig.cell_info[2]\n",
       "    var cell = fig.cell_info[0];\n",
       "\n",
       "};\n",
       "\n",
       "mpl.figure.prototype.handle_close = function(fig, msg) {\n",
       "    fig.root.unbind('remove')\n",
       "\n",
       "    // Update the output cell to use the data from the current canvas.\n",
       "    fig.push_to_output();\n",
       "    var dataURL = fig.canvas.toDataURL();\n",
       "    // Re-enable the keyboard manager in IPython - without this line, in FF,\n",
       "    // the notebook keyboard shortcuts fail.\n",
       "    IPython.keyboard_manager.enable()\n",
       "    $(fig.parent_element).html('<img src=\"' + dataURL + '\">');\n",
       "    fig.close_ws(fig, msg);\n",
       "}\n",
       "\n",
       "mpl.figure.prototype.close_ws = function(fig, msg){\n",
       "    fig.send_message('closing', msg);\n",
       "    // fig.ws.close()\n",
       "}\n",
       "\n",
       "mpl.figure.prototype.push_to_output = function(remove_interactive) {\n",
       "    // Turn the data on the canvas into data in the output cell.\n",
       "    var dataURL = this.canvas.toDataURL();\n",
       "    this.cell_info[1]['text/html'] = '<img src=\"' + dataURL + '\">';\n",
       "}\n",
       "\n",
       "mpl.figure.prototype.updated_canvas_event = function() {\n",
       "    // Tell IPython that the notebook contents must change.\n",
       "    IPython.notebook.set_dirty(true);\n",
       "    this.send_message(\"ack\", {});\n",
       "    var fig = this;\n",
       "    // Wait a second, then push the new image to the DOM so\n",
       "    // that it is saved nicely (might be nice to debounce this).\n",
       "    setTimeout(function () { fig.push_to_output() }, 1000);\n",
       "}\n",
       "\n",
       "mpl.figure.prototype._init_toolbar = function() {\n",
       "    var fig = this;\n",
       "\n",
       "    var nav_element = $('<div/>')\n",
       "    nav_element.attr('style', 'width: 100%');\n",
       "    this.root.append(nav_element);\n",
       "\n",
       "    // Define a callback function for later on.\n",
       "    function toolbar_event(event) {\n",
       "        return fig.toolbar_button_onclick(event['data']);\n",
       "    }\n",
       "    function toolbar_mouse_event(event) {\n",
       "        return fig.toolbar_button_onmouseover(event['data']);\n",
       "    }\n",
       "\n",
       "    for(var toolbar_ind in mpl.toolbar_items){\n",
       "        var name = mpl.toolbar_items[toolbar_ind][0];\n",
       "        var tooltip = mpl.toolbar_items[toolbar_ind][1];\n",
       "        var image = mpl.toolbar_items[toolbar_ind][2];\n",
       "        var method_name = mpl.toolbar_items[toolbar_ind][3];\n",
       "\n",
       "        if (!name) { continue; };\n",
       "\n",
       "        var button = $('<button class=\"btn btn-default\" href=\"#\" title=\"' + name + '\"><i class=\"fa ' + image + ' fa-lg\"></i></button>');\n",
       "        button.click(method_name, toolbar_event);\n",
       "        button.mouseover(tooltip, toolbar_mouse_event);\n",
       "        nav_element.append(button);\n",
       "    }\n",
       "\n",
       "    // Add the status bar.\n",
       "    var status_bar = $('<span class=\"mpl-message\" style=\"text-align:right; float: right;\"/>');\n",
       "    nav_element.append(status_bar);\n",
       "    this.message = status_bar[0];\n",
       "\n",
       "    // Add the close button to the window.\n",
       "    var buttongrp = $('<div class=\"btn-group inline pull-right\"></div>');\n",
       "    var button = $('<button class=\"btn btn-mini btn-primary\" href=\"#\" title=\"Stop Interaction\"><i class=\"fa fa-power-off icon-remove icon-large\"></i></button>');\n",
       "    button.click(function (evt) { fig.handle_close(fig, {}); } );\n",
       "    button.mouseover('Stop Interaction', toolbar_mouse_event);\n",
       "    buttongrp.append(button);\n",
       "    var titlebar = this.root.find($('.ui-dialog-titlebar'));\n",
       "    titlebar.prepend(buttongrp);\n",
       "}\n",
       "\n",
       "mpl.figure.prototype._root_extra_style = function(el){\n",
       "    var fig = this\n",
       "    el.on(\"remove\", function(){\n",
       "\tfig.close_ws(fig, {});\n",
       "    });\n",
       "}\n",
       "\n",
       "mpl.figure.prototype._canvas_extra_style = function(el){\n",
       "    // this is important to make the div 'focusable\n",
       "    el.attr('tabindex', 0)\n",
       "    // reach out to IPython and tell the keyboard manager to turn it's self\n",
       "    // off when our div gets focus\n",
       "\n",
       "    // location in version 3\n",
       "    if (IPython.notebook.keyboard_manager) {\n",
       "        IPython.notebook.keyboard_manager.register_events(el);\n",
       "    }\n",
       "    else {\n",
       "        // location in version 2\n",
       "        IPython.keyboard_manager.register_events(el);\n",
       "    }\n",
       "\n",
       "}\n",
       "\n",
       "mpl.figure.prototype._key_event_extra = function(event, name) {\n",
       "    var manager = IPython.notebook.keyboard_manager;\n",
       "    if (!manager)\n",
       "        manager = IPython.keyboard_manager;\n",
       "\n",
       "    // Check for shift+enter\n",
       "    if (event.shiftKey && event.which == 13) {\n",
       "        this.canvas_div.blur();\n",
       "        event.shiftKey = false;\n",
       "        // Send a \"J\" for go to next cell\n",
       "        event.which = 74;\n",
       "        event.keyCode = 74;\n",
       "        manager.command_mode();\n",
       "        manager.handle_keydown(event);\n",
       "    }\n",
       "}\n",
       "\n",
       "mpl.figure.prototype.handle_save = function(fig, msg) {\n",
       "    fig.ondownload(fig, null);\n",
       "}\n",
       "\n",
       "\n",
       "mpl.find_output_cell = function(html_output) {\n",
       "    // Return the cell and output element which can be found *uniquely* in the notebook.\n",
       "    // Note - this is a bit hacky, but it is done because the \"notebook_saving.Notebook\"\n",
       "    // IPython event is triggered only after the cells have been serialised, which for\n",
       "    // our purposes (turning an active figure into a static one), is too late.\n",
       "    var cells = IPython.notebook.get_cells();\n",
       "    var ncells = cells.length;\n",
       "    for (var i=0; i<ncells; i++) {\n",
       "        var cell = cells[i];\n",
       "        if (cell.cell_type === 'code'){\n",
       "            for (var j=0; j<cell.output_area.outputs.length; j++) {\n",
       "                var data = cell.output_area.outputs[j];\n",
       "                if (data.data) {\n",
       "                    // IPython >= 3 moved mimebundle to data attribute of output\n",
       "                    data = data.data;\n",
       "                }\n",
       "                if (data['text/html'] == html_output) {\n",
       "                    return [cell, data, j];\n",
       "                }\n",
       "            }\n",
       "        }\n",
       "    }\n",
       "}\n",
       "\n",
       "// Register the function which deals with the matplotlib target/channel.\n",
       "// The kernel may be null if the page has been refreshed.\n",
       "if (IPython.notebook.kernel != null) {\n",
       "    IPython.notebook.kernel.comm_manager.register_target('matplotlib', mpl.mpl_figure_comm);\n",
       "}\n"
      ],
      "text/plain": [
       "<IPython.core.display.Javascript object>"
      ]
     },
     "metadata": {},
     "output_type": "display_data"
    },
    {
     "data": {
      "text/html": [
       "<img src=\"data:image/png;base64,iVBORw0KGgoAAAANSUhEUgAAAoAAAAHgCAYAAAA10dzkAAAgAElEQVR4nOzdeXgUVd498NOd7vQGYUnYBCSo7CBhgKCyCCLIKIgIKKMJS0IAiTii4OAaEMdlFDcSXgYdxXEJDC7wqoHxRcVlXIiIAeQHwVEQEYRBEhAhkuT8/uhOJluHQCWpXs7nee5D0qlUf/vS6T5dde8tQERERERERERERERERERERERERERERERERERERERERERERERERERERERERERERERERERERERERERERERERERERERERERERERERERERERERERERERERERERERERERERERERERERERERERERERERERERERERERERERERERERERERERERERERERERERERERERERERERERERERERERERERERERERERERERERERERERERERERERERERERERERERERERERERERERERERERERERERERERERERERERILU9QA+BJAPoAiAtZptmwFYDuBbAEd9/z4IILJuSxQRERGR2jQM3hA4BacPgO0BzPP9CwDnAcgB8HhdFigiIiIideNSnD4AVuWPADbXfjkiIiIiUtfONgC+DeBvtV+OiIiIiNS1swmA9wLYB+AcPz+3AGgNIEpNTU1NTU0tqFpreN/HJcSdaQBcCGAPgAuq2aY1AKqpqampqakFZWsNCXmXouYBMANALoC2p9kuCgD37t3L/Px8tQotNTXV9BoCtalv1DfqF/WN+sa8tnfv3pIAGGUoWUhAswJwABgObwB0+76v6rBvBICXAWwF0KIG+44CwPz8fEpls2fPNruEgKW+8U99UzX1i3/qG//UN1XLz89XAAwDkwAUwxv+isp8PQjeI3zHAPT3bTvI97Nf4V0H8Kjv50f97FsBsBp64fFPfeOf+qZq6hf/1Df+qW+qpgAoRikAVmPdunVmlxCw1Df+qW+qpn7xT33jn/qmagqAYpQCoIiISJBRABSjFABFRESCjAKgGKUAKCIiEmQUAMUoBUAREZEgowAoRikAioiIBBkFQDFKAVBERCTIKACKUQqAIiIiQUYBUIxSABQREQkyCoBilAKgiIhIkFEAFKMUAEVERIKMAqAYpQAoIiISZBQAxSgFQBERkSCjAChGKQCKiIgEGQVAMUoBUEREJMgoAIpRCoAiIiJBRgFQjFIAFBERCTIKgGKUAqCIiEiQUQAUoxQARUREgowCoBilACgiIhJkFADFKAVAERGRIKMAKEYpAIqIiAQZBUAxSgFQREQkyCgAilEKgCIiIkFGAVCMUgAUEREJMgqAYpQCoIiISJBRABSjFABFRESCjAKgGKUAKCIiEmQUAMUoBUAREZEgowAoRikAitSjoqIi5ubmMjMzk2lpaZwzZw5vmTWLc+bMYVpaGjMzM5mbm8uioiKzSxWRAKYAKEYpAIrUsby8PC5evJhD4uMZ5XIx0mplH4+Hk+x23myx8HaAN1ssnGS3s4/Hw0irlY1cLg6Jj2d6err+PkWkEgVAMUoBUKSO5OTkcHpSEj0OB/u53VwC8EuABQBZTSsAuAngEoDxbjc9DgdnJCczJyfH7IckIgFCAVCMUgAUqWVHjhxhUkICXTYbk+x2fnGawHe6lg0wyW737i8hgXl5eWY/RBExmQKgGKUAKFKLsrKy2Do6msMdDu4xGPwqtj0AhzkcbBMTw7Vr15r9UEXERAqAYpQCoEgtKCws5MypUxllt/MZgMW1HP5KWjHAZQAb2u1MTUlhYWGh2Q9dREygAChGKQCKGHTy5EmOHTmSXZxO7q6j4Fex7QbY2enkuKuvZkFBgdldICL1TAFQjFIAFDGgsLCQY0eOZC+nk4fqKfyVtEMAezmdHDdqlI4EioQZBUAxSgFQxIDUlBR2MSH8lQ2BXZxOpqakmN0VIlKPFADFKAVAkbOUlZXFKLu93k77Vnc6OMpu18QQkTCiAChGKQCKnIW8vDy2jo7mMyaHv5K2DGCbmBgtESMSJhQAxSgFQJGzkJSQwOEOR53N9j3TVgzvEjHJiYlmd42I1AMFQDFKAdCPnTt38t577uGUhASOHzmSUxISeO8993Dnzp1mlyYmy8nJoctmq/V1/oy2PQBdNpuuGCISBhQAxSgFwDIKCwv5xhtvcNiAAXRERPD6yEimAXwMYBrA6yIj6YiI4LABA/jGG29o5mWYmp6UxCS73fTAV1WbYrdzRnKy2V0kInVMAVCMUgD0ycvL4+UDBrCt08kHAf7k5w32J4APAmzrdHLYwIHquzCTn59Pj8Nh+PJuddWyAXocDj0vRUKcAqAYpQBIb/iL69yZIxwOHq3hG+1RgFc4HIzr3FkD78NIeno6491u04Neda2vy8WMjAyzu0pE6pACYHi4HsCHAPIBFAGwnmb7xgBeBpAH4GcALwJo5GfbsA+AhYWFvHzAAI5wOPibnzfUzwGOAtgSYCOAFwJ8HuBvAEc4HBw2cKBOB4eJIfHxXBIAIa+6lgFwSHy82V0lInVIATA8DIM3BE5BzQLg2wDeAdAEQFMA/wdgtZ9twz4AvvHGG2zrdFZ75C8L4AtA6WK/7wOMArjGdySwrdPJ1atXm/1Q5CzExsZWmjQxePBgrlmzhvfddx/j4uIYFxfHBg0asH379rRaLOwEMBfgpQAjyzwvCPBbgFaAY3zf7wbYuAahLQ9gAsDuvg8YPQBm+n72FcAVp/n9/wV4m+/rLwA2crtZXFxsUq+KSF1TAAwvl+L0AfBcAMUAupe57ULfbW2q2D7sA+CwAQP4IMDBAP8I8AbfUb5zAf5PNW+41wC81ff1ny0WDh840OyHImehugBY1pAhQ7h06VJGWq0s8P2/DwbYF+DjZZ4X9wCMrxAAm9QgAN5cJsAR4C8Av/F9/bzv+ebvdwsrfH8SYKTVyl27dtVnV4pIPVIADC81CYBXA/i1ittPAhhZxe1hHQB37txJR0QEf/K9mTcGuMH3JvoawAiA/67iDTcfYCuAf/d9fwCgIyKCubm5Zj8kOUM1DYCDBw/m7bffzj4eT+nzYDDAdIA9fd8XA+wA8MmzCIDXAHy0itsP+j6MNAbYC+BNvtst8M5M7wvwDoDLy4TEDQCdFguHDx/Onj17snv37ty0aVPpY1m6dCk7duzI3r17c+HChbRYLPXS1yJSexQAw0tNAmACgP1V3H4AwA1V3B7WAfDee+7hdZGRpW/myRXefJsB/EeF234DOALgUIBFZW6/LjKS9957r9kPSc5QbGwsO3fuzF69erFXr16Mi4tjw4YNqwyAEyZM4KQyy78MhncYwBUANwJcB+8R5OVnEQDfBxgNsI/vaOBbZX5Wdn8lzQLwAT/bbID3NHSK7/rAS5cu5RVXXEGS3Lp1K1u1asWDBw+SJNPS0mi1Wuu300XEMAXA8KIjgLVsSkIC08q8md9b4U02FuDfynz/q+/NfijA4xW2vQ9gkq7CEHRiY2O5ZcuWcrf5OwJ4zTXX8GaLpVIAXAlwGsDxANefZQAseX6t9T0P2/iCYHUBcF81AbAJwLlz55L0LlzdoUMHkuTTTz/NpKSk0sf1ww8/KACKBCEFwPBS0zGARSg/BrCn7za/YwBTU1M5e/Zszp49m+vWrTP7eV1vxo8cycdqGACPALwE4NW+o4AV37wfBTh+5EizH5KcoTM5BTzyqqt4e5n/88G+AHgSYDuAnaoIY7vPIACWbZ/BOxbVXwC0wjsUwV8AbA7wllmzSJLbtm1j+/btSSoAigSzdevWlb5Xp6amKgCGASsAB4Dh8AY5t+97i5/t3wSwDkA0gBh4ZwG/4WdbHQGsQQA8AO+szAmoPOBeRwCD25kEQH9HAAnwDYD/9BMAazIL+B3fh4yS79MB/s739esAL6viCGB1ATCmzBHAsgFw69atbN26dekp4AULFigAigQhHQEMD5PgncVb5GslXw8C0BbAMQD9y2zfGMBL8K4DeATA3+H/CRLWAbDsGMAhVQTA9r4AuMB3xKWBrzX0tSvLbKsxgMGpffv2lQLgkCFDqpwFXHEM4JAyAZB+wthueCcTtfW1NvAeSa74O4t8HzJ6wDupZATA7b6f5QPs77u9ZBLI6Y4ANgWYlpZGsnwAJMn/+Z//KZ0Ectddd7FJkyZ13s8iUrsUAMWosA6AZWcBn+kpurLtAMBIzQIOeZmZmeVmAQdy6+3xcMWKFVU+jmPHjpV+/dRTT/HKK6+sry4UkVqiAChGhXUAJP+7DqCRN1utAxgecnNzy60DGKjtJEB7NesApqamMi4ujt26dePw4cP53Xff1W9HiohhCoBiVNgHwJpcCaS6piuBhI+ioiJGuVzcFAAhr7qmK4GIhD4FQDEq7ANgTa4F7K/9BvAKXQs4rOhawCISCBQAxaiwD4AkmZeXx7jOnTnC4ajxkcCjvvAX17lz2PdfOElPT2e82216yKuu9XW7mZGRYXZXiUgdUgAUoxQAffLy8jhs4EC2dTr5Z4vF78SQA/CO+WvrdHLYwIHquzCTn59Pj8PB7AAIelW1jQA9DoeelyIhTgFQjFIALKOwsJCrV6/msAED6IiI4Gh41/d71PfvOJuNjogIDh84kKtXr9Zp3zA1PSmJSWWWgwmkNsVu54zkZLO7SETqmAKgGKUA6Mc///lPAqANoNP373XXXaelXoQ5OTl02WzcEwCBr2zbA9Bls1Va11BEQo8CoBilAOjHjh07Sv64Sttbb71ldlkSIJISEjjM4WBxAAQ/AiwGOMzhYLKuRiMSFhQAxSgFQD+2b99eKQBmZWWZXZYEiLy8PLaJieEzARD+CHAZwDYxMczLyzO7a0SkHigAilEKgH5s27atUgBct26d2WVJAMnKymKU3c7dJoe/3QCj7HY9P6XOFBUVMTc3l5mZmUxLS+OcOXN4y6xZnDNnDtPS0piZmcnc3FwWFRWZXWrYUAAUoxQA/diyZUulAPjOO++YXZYEmNSUFHZxOnnIpPB3EGBnp5Op06aZ3RUSYvLy8rh48WIOiY9nlMvFSKuVfTweTrLbebPFwtsB3myxcJLdzj4eDyOtVjZyuTgkPp7p6el6X6ljCoBilAKgH1999VWlALh+/Xqzy5IAU1hYyHGjRrGXCSHwIMBeTifHjx6tGelSa3Jycjg9KYkeh4P93G4uAfglcNpLIBYA3ARwCcB4t5seh4MzkpM1KamOKACKUQqAfmzatKlSAHzvvffMLksCUEFBAceNGsUuTme9nQ7+znfkb9zVV7OgoMDsLpAQcOTIESYlJNBlszHJbucXBp+j2QCT7Hbv/hISND61likAilEKgH5kZ2dXCoAbNmwwuywJUIWFhUxNSWGU3c5lQJ3NDi6Gd8JHlN3O1GnTdORPakVWVhZbR0dzuMNR68sb7YF3hnqbmBiuXbvW7IcaMhQAxSgFQD8+//zzSgHwo48+MrssCXBr165lm5gYDnc69UYqAa+wsJAzp05llN3OZ+rhg0tDu52pKSn64FILFADFKAVAPz799NNKAfBf//qX2WXVmGbtmScvL4/JiYl02WycYrcbvmxcNrxX+HDZbExOTNSpNKkVJ0+e5NiRI+t16MJuaOhCbVEAFKMUAP3417/+VSkAfvrpp2aXVS3N2gssOTk5nJGcTI/DwXi3mxnwDpKvyWD6LwBmAOzrcrGBw8Gbpk7lli1bzH5IEiIKCws5duRIUyYvHYJ38tK4UaN0JNAABUAxSgHQj48++qhSAPz888/NLqtKmrUX2PLz8/nwww/TDdAOMAJgJ4AJVitTLRbeBjDVF8x7ezy0W61s5HZzSHw8MzIy9Pcptc7s5YsOAezidDI1JcXsrghaCoBilAKgHx988EGlAJidnW12WeVo1l7wWL9+faXn08SJEzl37lzeMmsW586dy7S0NK5YsYK7du1icXGx2SVLiAq0Bcw1nvXsKACKUQqAfrz33nuV3rA3bdpkdlmlNGsvuDz22GOVnk//+c9/zC5LwkxeXh5bR0frEoYhQAFQjFIA9KOqIzZfffWV2WVp1l6QuvHGG8s9l9q2bWt2SRKGkhISONzhqLPXjbN5nRnmcDA5MdHsrgk6CoBilAKgH++8806lAGj2IHzN2gte3bp1K/dcGjVqlNklSZjJycmhy2ar9TMGRtsegC6bTWOPz5ACoBilAOjHunXrKgXAbdu2mVaPZu0Fr19//ZURERHlnkv33nuv2WVJmJmelMQku930wFdVm2K3c0ZystldFFQUAMUoBUA/srKyKgXA7du3m1aPZu0Fr6quKvPaa6+ZXZaEkfz8fHocDsMTxeqqZQP0OBx6LzoDCoBilAKgH2+99ValN+0dO3aYUotm7QW3Z555ptJz6d///rfZZUkYSU9PZ7zbbXrQq671dbmYkZFhdlcFDQVAMUoB0I81a9ZUetPOzc2t9zo0ay/4paamlnseRUVFaZkXqVdD4uO5JABeP6prGQCHxMeb3VVBQwFQjFIA9OONN94IiKM2mrUX/Pr371/ueTRo0CCzS5IwkZeXx3bt2tHtcHCT7294McDLfF9vAGgBeGuFv/OJvttzfN9PBvhUDV4f2gHsDLCXr6X4br8P4Cu+r+cDnF3F734BsJHbrQ9HNaQAKEYpAPrx2muvVQqA3333Xb3WoFl7wa+oqIgNGjQo9zy65ZZbzC5Lwsjf/vY3AuBRgLkAW/r+hksCYEeA5wM85bvtKMALALY9iwAYC3DLabaZ7ycAngQYabVy165dZndZUFAAFKMUAP1YtWpVpQC4Z8+eeq1Bs/aCX25ubqXn0XPPPWd2WRJGMjMz2cxmYyrAS4Byw0k2AIwDOA3gq77blgGcB7D9WQbAnCpuL/v78ysEwMcA9gPYG2BURATT09PN7rKgoAAoRikA+rFy5cpKb9x79+6tt/vXrL3Q8I9//KPS8+jLL780uywJI2lpabzBZmMzgEMr/B1vgPdU7acAf++77WJ4jxTGnmUA7OwLlb0Arj5NAHwF3tPEJUNcBkREsEOHDmZ3WVBQABSjFAD9yMzMrPTGvW/fvnq7f83aCw133XVXueeQzWbjyZMnzS5LwsicOXM4EmAbeI/qHasiABJgd4D/BDiwTJirrVPAZX9/fpkAeB3A83yBMQ5gNMBmzZqZ3WVBQQFQjFIA9OOll16qFAD3799fb/evWXuh4cSJE3z//fcJgGPHjuWkSZPMLknCzLSUFDaE96j9zfjvxIyKAfARgM0APm8wAJ7JKeDxKH9K+jaAt8yaZXaXBQUFQDFKAdCPv//975UC4E8//WR4v7GxsczJyeHWrVt52WWXMS4ujt27d2d8fDy//vprkt6JA67ISHaD93TK+QBvgndwdskL5aW+T8tlbxsH8AU/L8yvwTvGppdvn2VPBT0J8KfTvLBfBe9pobK3adZezbz44ou0WCwsKioyuxQJQ507d2Yf39/scXgneLxTRQA86AuBx/0EwCfrIAC+7Htd+tn3/U0AJ06caHaXBQUFQDFKAdCP5cuXVwqA//nPfwzvt3379szJyWH37t25Zs2a0tt/+OEHHjp0iCT57LPPEr6ARYBFAGcBHFTmBXUwvKdO7qxBANwPMAbg3jK3ba7BizbhHZvjbwkazdqrmUmTJrFx48ZmlyFh6NVXX2WLFi2YaLOV/t1+4PubP1ohAFZsFSeBNIF3ZnAb37+vnuZ3yrYpfgIg4V2Wpie8p4AbAxw+fLjZ3RYUFADFKAVAP5577rlKAfDnn382vN/27dvzq6++YpMmTZidnV3lNp06dWK7yMhyL6C/+V543y8TAP8KsIUv4FUXAL+Cd+mHY1X87H6Akfjv2l05vhfosQCvANgN4L4KIXEwwDnwjhVyWCy8/PLLS2vfv38/hw8fzm7duvGKK67ghAkTuGDBAsP9Fsx69OjB3/3ud2aXIWEqMzOTfTyeGg3rMLv19ni4YsUKs7ssKCgAilEKgH6UHIUr22rj6hclp4AXLVpEj8fDyy+/nHfffTc3b95cuo3dbueoMp/YS9poeJdMKAlha+BdYLVkTI+/AFjsC3RNAY4B+Kgv1JU9Alh24PZ8gK2Bctcdjq0QAK/17TfBZmPjxo352WefkSTHjx/P+fPnkyQPHDjAli1bhn0AbNiwIVN0DWUxSW5uLiOtVhYEQMCrrp0EaNcZhRpTABSjFAD9WLZsWaUAePToUcP7LQmAJHnw4EGuWLGCN910Exs2bMh//OMfJEmbzcYJVbxAVhUAjwI8B+COagJgSdsJ7xpf18B7OuffVYS7kgCYUuF3y24zGOBK39epFgs7dOjAl19+mSTZtGlTfv/996WPd+rUqWEdAE+dOkUAXLVqldmlSJgqKipilMtVeiWQQG0aU3xmFADFKAVAP5YuXVopAP7yyy+G91s2AJb18MMPc/To0STJc1q14uUVXhwLUPkU8Brf10/Be2Rv/GkCYNk2AuAT1QTAiiv1l92m7H3fBvCCCy7gCy+8QLJyAExJSQnrALh+/XoC4LFjx8wuRcLQzz//zCeeeILRTqdWFQgxCoBilAKgHxkZGZUC4K+//mp4vyUB8I033uCpU6dIeo8S3XDDDbzttttIktdeey098I7dI7yXaLoZ/12fq2IIK4B38HV7PwFwH8B/lfn+Z4CdAL7p+74nwA/PMgCmWizs2LFjaQAcP358aeA7cOAAW7VqFdYB8LbbbqPL5TK7DAkzGzdu5JQpU+hyuUpfv7oHQMirrvV1u7Wu6BlQABSjFAD9WLx4caUAWFBQYHi/bdq04c6dO5mYmMhOnTqxZ8+e7N69O5OSkkqPEqWlpfGyiAj2xn+XgZmO8ku+DCkTwgjwRYBWPwFwD7wTOjrBO9GjB8CHy/z8WXivB1p2EkjFAFh2dl/Z+55kt7Nr166lAXDfvn0cNmwYu3XrxmHDhnHMmDF86qmnDPdbsOrfv7+ubCD14vjx43z22WfZu3fvSq9dAGiDdy1As4NeVW0jdGWhM6UAKEYpAPrx1FNPVXoBLTlid7Z+/PFHNmrUiCdOnKh2u2CetXfixAkWFhaSJA8fPswOHTpw48aNhvotmDVv3pzXXnut2WVICNu+fTtvueUWNmrUqMrgV9JsABMC4DWjqqZri585BUAxSgHQjyeeeKLSC6iRhXwff/xxdu7cmc8+++xptw3mWXtbtmxhXFwce/bsya5du4b10T+StFqtXLx4sdllSIgpKCjgypUrOXjw4GpDX0lr0qQJExMT6YqI4J4AeO0o2/YAdNlsVY6NFv8UAMUoBUA/Fi1aVOlFtL5mp2nWXmjYvn07AXDPnj1mlyIh5MUXX2SLFi1qFPz69evH5cuXl45fTkpI4DCHw+/i7vXdigEOcziYnJhocq8GHwVAMUoB0I9HH3203AupxWKp1/vXtYCD30MPPUSbzWZ2GRJiVq9eXW3oc7vdTElJ4Zdfflnpd/Py8tgmJqbc9XfNbMsAtomJqZU1VsONAqAYpQDox8MPP1zuRTUiIqJe7z89PZ3xbrfpL9DVNc3aq96VV17Jc845x+wyJEQUFBTwrrvuYnR0dJXBr2vXrly8ePFpw1RWVhaj7HbuNvn1YzfAKLud69atq6ceDC0KgOFjAYB9AI4B2ACgWzXb9gHwHoCfARwE8BqAc/1sqwDox4MPPljuxTUyMrJe7z8/P58eh0Oz9oJYu3bteNlll5ldhgS5nJwcDh06lBEREbRarRwyZAhnzJhBALTb7ZwwYQI/+OCDMxqKkZqSwi5OZ7mr/dRnOwiws9PJ1GnT6rDnQpsCYHiYC2APgK4AHAAeBPADAHcV21oA/ATgcQA2AB4AKwH8y8++FQD9eOCBB8oFQKfTWe81TE9KYpLdbnrYq6pp1t7pORwO3nPPPWaXIUGoqKiIixYtYps2bQiA0dHRnDdvXukKAj/++CMffPBBHjhw4Kz2X1hYyHGjRrGXCSHwIMBeTifHjx5dumKAnDkFwPDwLYCby3wfAW/Iu7GKbRsDKALQo8xtVwE47mffCoB+3H///eUCoNvtrvcacnJy6LLZNGsvCB0+fJgASq+RLFITu3fv5pgxYxgZGUmLxcI+ffpw/fr1dXJfBQUFHDdqFLs4nfV2Ovg7eI/8jbv66lpZVzWcKQCGvigAxQD6Vbj9nwAe8/M7T/uaC95AuArA36vZvwJgFebPn18uADZo0MCUOjRrLzgtX76cFovF0NJBEj5eeOEFdujQofS1Zvr06Txy5Eid329hYSFTU1IYZbdzme/vu65eN5bBO+Yvddo0HfmrBQqAoa8NvAGwU4XbVwBY5ud3BgHYDuAUgEIAXwBo5mdbBUA/7rvvvnIBMCoqypQ6NGsvOCUmJrJJkyZmlyEB7NChQ5w8eTLdbjcBsEuXLly5cqUptaxdu5ZtYmI43Oms9TMOe3wfGtvExHDt2rWmPL5QpAAY+s70COAFAAoATAdgh/co4AIA3/i+rmr/CoBVuPvuu8sFwMaNG5tWi2btBZ9u3bqxd+/eZpchAejtt99mXFwcLRYLHQ4Hr7/+eu7du9fsspiXl8fkxES6bDZOsdsNT0DLhnessMtmY3Jioj401jIFwPBQ1RjAg6h6DOC1AI5UuK0hvCGybxXbRwFgamoqZ8+ezdmzZ+vN3efOO+8sFwCbNm1qaj2atRdcGjRowBkzZphdhgSI48ePc/bs2WzcuDEBsF27dszIyAjIIQI5OTmckZxMj8PBeLebGQA3Aae9MlEBvIvDZwDs63KxgcPBm6ZO5ZYtW8x+SCFj3bp1pe/VqampCoBhYA6A3fAu/eIC8BCAvah6FvC58E74mApvUHQCSAOQD6BRFdvrCKAff/rTn8oFwGbNmplaj2btBY+CggIC4Ouvv252KWKyzz77jAMGDKDVaqXNZuOIESO4fft2s8uqkfz8fKanp3NIfDwbud2MtFrZ2+PhJLudqRYLbwOYarFwkt3O3h4P7VYrG7ndHBIfz4yMDL2v1DEdAQwf8wHsB/ALyq8D2BbetQH7l9n2cgCfwLsO4GHf9rT7oxoAACAASURBVAP87FcB0I+5c+eWC4AtWrQwuyTTZu3FArxq2DDN2quhdevWEQCPHz9udiliglOnTnHhwoVs2bJl6WvHggULeOrUKbNLO2tFRUXctWsXV6xYwbS0NM6dO5e3zJrFuXPnMi0tjStWrOCuXbt0Wch6pAAoRikA+nH77beXC4CtWrUyuySS9T9rzwnQBvCSSy4J6jew+nTrrbeasmyQmGv79u38/e9/T5vNRqvVyv79+/OTTz4xuywJUQqAYpQCoB+zZ88uFwBbt25tdknl1PWsvYEAHWUePwDOmzfP7IcdFC6++GJ27NjR7DKkHhQVFXHJkiWMjY0l4J0sduutt/LYsWNmlyYhTgFQjFIA9OOWW24pF37atm1rdkmV1OWsvRFDh5Z7/CVNyzicXrNmzTh+/Hizy5A6tG/fPk6YMIFOp5MA2LNnT7755ptmlyVhRAFQjFIA9OPmm28uF3zatWtndkl+1dWsvYoTYQAwJiYmIJasCGRWq5VLliwxuwypA6tWrWLXrl0JeK8ONHnyZB46dMjssiQMKQCKUQqAfsycObNc8DnvvPPMLum0anvW3m+//cb+/ftXCoEDBgzQeEA/tm7dSgDct2+f2aVILTly5AhnzJjBhg0bEgA7dOjA5cuXm12WhDkFQDFKAdCPGTNmlAs9F1xwgdklnZHamrX3/fffMzo6ulIIvOuuu+rpkQSXBx54gHa73ewypBa8++677Nu3Ly0WCyMjI3nNNdfw22+/NbssEZIKgGKcAqAf06ZNKxd4wnlQ/9tvv13leEAtGl7ZiBEjAm7CkNTciRMneOedd5Z+6GnTpg0XLVoUkAs2S3hTABSjFAD9mDp1armw07lzZ7NLMtUdd9xRrj9atGjBDz/80OyyAs65557Lyy+/3Owy5Axt3ryZl112GSMiIhgREcGhQ4dy8+bNZpcl4pcCoBilAOhHUlJSucDTtWtXs0sy1W+//cZLLrmEABgZGcnmzZvrqEgVIiMjmZaWZnYZUgNFRUV87LHH2Lp169IJTnfddRdPnDhhdmkip6UAKEYpAPoxadKkcgGwe/fuZpdkuu+//56PPvood+zYwYiICI4ZM8bskgLKTz/9RADctGmT2aUYVlRUxNzcXGZmZjItLY1z5szhLbNmcc6cOUxLS2NmZiZzc3OD8kPAt99+y2uuuYaRkZG0WCyMj4/n+++/b3ZZImdEAVCMUgD0Y/369UxPTycAzpgxgy+88ILZJQWUpUuXEgCfe+45s0sJGM8++ywtFktQhiLSu67k4sWLOSQ+nlEuFyOtVvbxzSK/2WLh7QBv9s0i7+PxMNJqZSOXi0Pi45menh7wryPLly/nBRdcQABs2LAhb7rpJh45csTsskTOigKgGKUAeBoA+O6775pdRkAquezV7t27zS4lINxwww1s2rSp2WWcsZycHE5PSqLH4WA/t5tLAH5Zw3UkNwFcAjDe7abH4eCM5GTm5OSY/ZBK/fTTT5w0aRLdbjcBsFu3bly1apXZZYkYpgAoRikAngYAfvDBB2aXEZBOnTrFZs2asVWrVkF71Ks2denShX379jW7jBo7cuQIkxIS6LLZmGS384tauJJMku9KMkkJCczLyzPtsb355pvs2bMnAdDpdPIPf/iD1maUkKIAKEYpAJ4GAH788cdmlxGwduzYQavVymuvvdbsUkzn8Xg4c+ZMs8uokaysLLaOjuZwh6NOriU9zOFgm5iYer104LFjx3jrrbeycePGBMD27dtz6dKl+nAiIUkBUIxSAKxGUVERAfCzzz4zu5SAlpGRQQBhPU6yoKCAALhmzRqzS6lWYWEhZ06dyii7nc8ALK7l8FfSigEuA9jQbmdqSgoLCwvr7DF9/PHH7N+/P61WK202G6+88kru2LGjzu5PJBAoAIpRCoDVOHXqFAEwOzvb7FIC3ogRI8J6PGDJYtmBvITIyZMnOXbkSHZxOrm7joJfxbYbYGenk+OuvpoFBQVnXfvhw4fLhciCggLOnz+fzZs3JwC2bNmSDzzwgC5RKGFDAVCMUgCsxokTJwggoAa1B6qS8YDnnHNOWJ5ymzVrFj0ej9ll+FVYWMixI0eyl9PJQ/UU/kraIYC9nE6OGzXqjI4EFhcX89NPP+XEiRPpcDj41ltvcdu2bbziiitos9lotVo5cOBAHaGXsKQAKEYpAFbj2LFjBMBt27aZXUpQ2L59O61WK8eNG2d2KfWuX79+AX21mNSUFHYxIfyVDYFdnE6mpqScttZffvmFy5YtY69evUre4AiALpeLANikSRPedtttPH78eD30nEhgUgAUoxQAq3HkyBEC0HiiM7B48WIC4Isvvmh2KfUqOjqaEyZMMLuMKmVlZTHKbq+3077VnQ6Ostv9TgzZtm0bU1NTGRUVVS74lW3PP/98/XaeSIBSABSjFACrcejQIQLgN998Y3YpQWX48OG02Wzcs2eP2aXUi6KiIlosFv71r381u5RK8vLy2Do6ms+YHP5K2jKAbWJiSpeIOXnyJF955RUOHDjQb+gr2+677z6Te1QkMCgAilEKgNXYt28fAYTtxIazderUKUZHR7N169ZhMR5w8+bNBMD9+/ebXUolSQkJHO5w1Nls3zNtxfAuEXP9mDGcN28emzVrVqPgd8kll/Cll14K6Ek2IvVJAVCMUgCsxp49ewiAe/fuNbuUoFMyHnD8+PFml1LnFixYQLvdbnYZleTk5NBls9X6On9G2x6A9hqEvgYNGnDGjBmahCVSBQVAMUoBsBrffvttwB7ZCQZPP/00AfCll14yu5Q6NXz4cLZt29bsMiqZnpTEJLvd9MBXVbsRoM1P8OvRoweXLFnCo0ePmt2FIgFLAVCMUgCsRm5uLgHw8OHDZpcStC6//HLabLaQPoratm1bXnHFFWaXUU5+fj49Dofhy7vVVcuuEAAjIyN544038uOPP2ZxcbHZ3ScS8BQAxSgFwGps376d6h9jTp06xaZNm7Jt27YhOx7Qbrdz4cKFZpdRTnp6OuPdbtODXnWtG8Do6Gg+8sgjPHjwoNldJhJUFADFKAXAamzdupUAtN6YQdu2baPVag3YZVKM2L9/P4HAWyx8SHw8lwRAyKuuZQAcEh9vdleJBCUFQDFKAbAamzZtIgBDl7ASryeffJIA+Morr5hdSq3661//SqvVela/m5eXx3bt2pW7ksXixYt52WWXkSQ3bNhAi8XCW2+9tdzvTZw4kRaLpTR0Tp48mU899VTpz4uKihjlcnFThcDVDmBngD0BdgB4DcBPahjWVgP8/CxC3pUAewGMA2gBeKHv60EAvwDYyO2u8pTv+vXr2adPnyr7rbqfiYQLBUAxSgGwGhs3biSAkD11Wd+GDh1Ku90eUuMBr7/+ekZHR5/1769bt46dOnXiyZMnmZuby5YtW5aun7hhwwZ27NiR559/fuk1bo8ePcoLLriAbdu29RsAc3NzGWm1sqBCGIsFuKXM968DbAxwYw2C3GSATxo84mcFeLTM9ycBRlqt3LVrV6V+Wb9+Pfv27Vtln1X3M5FwoQAoRikAVuOTTz4hALPLCBkFBQUhNx6wc+fO7Nevn6F9TJ8+nampqbzkkkv4zDPPlN6+YcMGxsXFcdq0aXz11VdJksuWLeO8efPYvn17vwEwMzOTfTyeSgEsFmBOhdvmAbzO9/W7AC8G+DuA3QE+57s9C2BTgG18R/P+BvAAwCEA+/i2nVWDAGgBmF/m+wKAURERPP/889mjRw8mJiaWrvO3fv169uzZkwkJCezWrRv79u3LrVu3lv6sbADMyspi//792adPH1500UX88MMPDf1/iAQDBUAxSgGwGh999JECYC3bunUrrVYrb7jhBrNLqRUej4ezZs0ytI9jx46xWbNmHDp0aLnbN2zYwF69evHTTz/l73//e5LkxRdfzNzcXMbGxvoNgGlpaZxUxfIvsVUEwDfgnYxBgHlA6YLRP8N7ynhfmSOAT1UIb8d9XxcBHAlw5RkGQAL8g83GtLQ0kuS0adO4aNEikt6QZ7FY+NFHH5EkX3nlFXbr1q30ZyUBcNeuXbzkkkv4yy+/kPQe/WzVqhULCwsN/Z+IBDoFQDFKAbAa77//vgJgHVi0aBEBcMWKFWaXYsiJEycIgG+//bah/bz99tts06YN27dvz2PHjpXeXhIASbJ79+785z//yYEDB5JktQFwzpw5vNliqVEAfL1MAPwG4LW+I3pxABsC/KefAPgrwFR4xxNeCLAVwDvPMAAW+Y42Nm/enD169GC7du2YmJhI0hvyOnbsWK6fGjZsyP3795cLgE8//TRbtGjBXr16MS4ujnFxcWzbti2/++47Q/8nIoFOAVCMUgCsxvr16xUA68iQIUNot9u5b98+s0s5a2vWrCFgbJLQ4cOHee655zI7O5s333wzU1JSSn9WNgA+8sgjbNasGZ9//nmS1QfAW2bN4u1VBLDYKgLgPIDX+76+HOATZX72O4Br/ATAB+A9dfyb7/vbAM4+TQC0VgiAywG2BnjTjBkkyccff7z0yjH+AuCBAwfKBcCnnnqKkyZNOuv+FwlWCoBilAJgNbKyshQA60hBQQGbNGnCdu3aBe14wJkzZ7JBgwaG9jFhwgTec889JMnjx4/zggsu4DvvvEOyfAA8ePAgH3nkkdIliWJjY/nVV19x3759HDFiBCdMmMA//elPHDt2LJs1a8aZNQiAqwE2gXdRZsI7nu9139cfAIwoEwBvAXh/md+93XcbAe4H2LYGAbDiEcAnAJ4HcO7cuczPz2dcXFy5AGi1Wvnxxx+T9I5r7N69e+nPSgLgzp072aJFC3799delfbpx40ZD/yciwUABUIxSAKzGm2++qQBYh0rGA954441ml3JW+vbty65du57177/66qu88MILS2f4kuQHH3zA2NhYHj16tDQA/vDDD3z//ff5zDPP8I477uC1117LyMhIOp3OkjeASm1AFQGsPbzLwMTBuwzMaICflfn5//lu7wVwCsD+ZQJgNrynin8H7ySQvQDj4T1dPBxg0lkcATwCsJXFwpiYGA4aNIh//OMfywXAuLg4Tpw4kd27d692Esj//d//8aKLLmJcXBy7du3KiRMnnvX/iUiwUAAUoxQAq7F69WoFwDr22GOPEQBXrlxpdilnrGnTprUymaWoqIh79+7le++9x2XLlvGOO+7gmDFj2KNHD7pcLr8hr7rW+TRhLFBab48n6MeCiphBAVCMUgCsxquvvkqLxWJ2GSFv8ODBQTcesKioiBaLhc8++2yNt//+++/57rvv8q9//Svnzp3La665ht27dz/rkFddiwAqrQMYaO0kQLufdQBFpHoKgGKUAmA1Vq5cqQBYD4JxPGB2djYB8NChQ6fd9uGHH672dG1tNbfbzQsvvJBjxoyhy2ardCWQQGvVXQlERKqnAChGKQD6FBUVMTc3l5mZmUxLS+OcOXN4xRVXEADT0tKYmZnJ3NzcoAkowSYnJ4dWqzVoxm+lpaUxMjLytNv99ttvTEtLq7WQ5/F42LNnT44dO5bz5s3js88+yw0bNnDfvn3lgpSuBSwS2hQAxaiwDoB5eXlcvHgxh8THM8rlYqTVyj4eDyfZ7bzZYuHtAGcCnGS3s4/Hw0irlY1cLg6Jj2d6enrY9ltd+ctf/kIAXLVqldmlnNbll1/Odu3akfQewdyxYwffeustPvHEE0xNTeXw4cN53nnnMSIigjab7YxDXlxcHMeNG8d58+bxb3/7Gz/44AP++OOPNT5alp6ezni32/SQV13r63YzIyOjDv+XREKXAqAYFZYBMCcnh9OTkuhxONjP7eYSgF/i9GOmCgBuArgEYLzbTY/DwRnJyaXrsYlxgwYNYmRkJPfv3292KeUUFBTw//2//8c333yTjz/+OD0eD2NiYti+fXtarVY6HA527dqVo0eP5u23386lS5dy/fr13LNnD7/55ptKIa9Bgwbs1asXx48fzzvvvJPPPfccP/zwQ+7fv79WTonm5+fT43CULvESaG0jQI/DEXavPSK1RQFQjAqrAHjkyBEmJSTQZbMxyW7nFwbfxLIBJtnt3v0lJDAvL8/shxj0CgoK2LhxY7Zv377eT7efPHmS27dv5//+7/9y0aJFvOmmmzhs2DDGxsbSarXS6XSyW7duvOaaa2i1WnnNNdfw3Xff5ffff19trYWFhbz77rv5/PPP86OPPuKBAwfqZdzb9KQkJlVxSbhAaFPsds5ITq7zPhAJVQqAYlTYBMCsrCy2jo7mcIeDe2r5zWwPwGEOB9vExHDt2rVmP9Sgt3nzZlosljq5wsOJEyf49ddfc82aNVy0aBFnzJhRejrXYrHQ6XSye/fuHDNmDOfOnctly5bxvffe4969e0tD3r59+wigdF26QJWTk0OXzVbrz/fa+Htx2Ww6ci5igAKgGBXyAbCwsJAzp05llN3OZ/Dfi93XdisGuAxgQ7udqSkpuhi9QQ899BAB8NVXXz3j3z1x4gS3bdvG1atX87HHHuP06dM5dOhQnnvuubRYLHS5XOzRowevvfZa3nHHHXzmmWf4/vvv84cffqjRUceMjAxardazeVj1LikhgcMcjjp73p/N38kwh4PJvmv+isjZUQAUo0I6AJ48eZJjR45kF6eTu+vpDW43wM5OJ8ddfbWha8QKOWDAAL/jAX/99Vdu3bqVb7zxBh999FFOmzaNl112Gdu2bUuLxVK6JMrYsWP5pz/9ye9s2bMxbtw4NmvWzNA+6kteXh7bxMTwmQAIf/R9SGoTE6PhEiIGKQCKUSEbAAsLCzl25Ej2cjp5qJ7f5A4B7OV0ctyoUToSaMDhw4fZoEEDtmjRgo888ghTUlI4ZMgQtmnThsB/l0SpOFu2NkJedTp27MiLL764zvZf27Kyshhlt9fbh6DqPhxF2e1ct26d2V0iEvQUAMWokA2AqSkp7GJC+CsbArs4nUxNSTG7KwLa8ePHuWXLFr722mt85JFHOHXqVA4ePJitW7cm4F3cGABjY2PLzZY9kyVRapvb7ebs2bNNue+zZfbfw0F4j4ynTptmdleIhAQFwPCxAMA+AMcAbADQ7TTbTwawBcAvAA4AeNLPdiEZAAPtiEe4Twz55ZdfmJOTw1dffZUPP/wwk5OTeemll/Kcc84h8N8lUa677jreddddpbNlS5ZEefDBBwmAq1evNvuh8Pjx4wTAd955x+xSzkhhYSHHjRplyhHxg/AeER8/erSOiIvUEgXA8DAXwB4AXQE4ADwI4AcAbj/b3w7g3wAuAWAF4AIQ52fbkAuAeXl5bB0drTFP9ezYsWP86quvuGrVKj700ENMSkrioEGD2KpVKwJgw4YN+bvf/Y7XX3897777bi5fvpwff/xxjZdE6d+/PyMjI/nTTz/Vw6Px7/XXXycAnjp1ytQ6zkZBQQHHjRpVr2Niv4PGxIrUBQXA8PAtgJvLfB8B4CcAN1axbUN4jxJeWcN9h1wATEpI4HDNeqwTR48e5ebNm/mPf/yDDz74IKdMmcKBAweWhryoqCj27t2bEyZM4D333MMXXniB//rXv/jTTz8ZPl174sQJRkVF8fzzz6+lR3Nmjhw5wi5duvCCCy6gw+HgO++8E5R/N4WFhUxNSWGU3c5lqPtZ8VF2O1OnTdORP5FapgAY+qIAFAPoV+H2fwJ4rIrtrwBQBOA2ALnwnv5dC+DCavYflG9kVdG6Z8YdPXqUX375JVeuXMk///nPnDJlCgcMGMCWLVsSABs1asQ+ffrwD3/4A++9917+/e9/5yeffMKDBw/W+Zi87OxsWiwWJpuwgPCGDRtKXmxLWzBPZli7di3bxMRwuNOpdTFFgpACYOhrA28A7FTh9hUAllWx/Y2+7T8A0BLeU8YPA/gR3qODFYVUANSVD2omPz+fmzZt4ooVK/jAAw9w8uTJ7N+/P1u0aEEAbNy4Mfv27csbbriB9913H1988UV++umnPHTokGkTL0osXLiQALhmzZp6vd8nn3yyUgA8cOBAvdZQ2/Ly8picmEiXzcYpdrvhy8Zl+57nLpuNyYmJIT/sQcRMCoCh70yPAI7ybT+8zG1WAMfhPTpY1f5DIgCWXPvU6OXd6qplo36vfZqXl8cvvviCmZmZXLhwISdNmsRLLrmEzZs3JwA2bdqU8fHxvPHGG5mWlsaXXnqJn332Gf/zn//US31GXHzxxXQ4HPU6HnDy5Mnlwl+rVq3q7b7rWk5ODmckJ9PjcDDe7WYGvNe8rsm1sb8AmAGwG0A7wMQ//IFbtmwx+yGJhDwFwPBQ1RjAg6h6DGDJEcPhFbavNgCmpqZy9uzZnD17dtCe1kpPT2e822160Kuu9XW5mJGRUWuP+ciRI8zOzmZmZibvv/9+Tpw4kRdffDGbNWtGAIyOjma/fv2YkJDA+fPn86WXXuLnn3/Ow4cP11oNZigZD9ihQ4d6u8+4uLhyAfD3v/99vd13fcnPz2d6ejqHxMezkdvNSKuVvT0eTrLbmWqx8DaAqRYLJ9nt7O3x0G6x0A7QXaZfHn30UbMfhkjIWrduXel7dWpqqgJgGJgDYDe8S7+4ADwEYC/8zwJ+Dd6lYprjv7OG9wJoUMW2IXMEcEh8PJcEQMirrmUAHBIff0aP6+eff+bGjRv5yiuvcMGCBUxMTORFF13EmJgYAmBMTAwvuugiJiQkcMGCBXz55Ze5ceNG/vzzz3XU04Fh48aNtFgsTKmHdRYLCgpot9vLBcA777yzzu/XTEVFRdy1axdXrFjBtLQ0zp07l7fMmsW5c+cyLS2NK1as4I4dO0rHhpa0Xr16mV26SFjQEcDwMR/AfnjX9duA/64D2BbeWb/9y2zbAMCzAH4GcAhAFrxLyFQlqANgbGwsc3JymJOTwwirlZ0AdgcYD/DrMsHrTYB9AXYGeD7AmwAeLfPzSwFGV7htHMAX/AS5dr599fK1FN/t9wF8xff1fICzK/zeFwAbud2VxtEdPnyYn3/+OV9++WXOnz+fCQkJ7NevH6OjowmAzZo148UXX8zExETef//9fOWVV5idnR3yIe90FixYQAB888036/R+Nm/eXC7kAODKlSvr9D6DxezZsyv1zfbt280uSyTkKQCKUUEdANu3b8+cnBx27NiRNouldMzSD0DpYrdrAbYBmOP7vgjgLICDygSzwQDPA3hnDQNgLMAtpznaN7+KAHgSoN1i4axZs3jjjTcyPj6eTZs2JQA2b96cl1xyCSdOnMiFCxcyMzOTX3zxBY8cOWJ2Nwe0fv360eFw8NChQ3V2H88//3ylkLNz5846u79gkp2dXalv7r33XrPLEgl5CoBiVNAHwK+++ooej4ddnM4qg9gAgEsr3PabLxS+XyYA/hVgC4D7axgAc6q4fTLAp/wEwMcA9gPoBNikSRPOmTOHK1as4KZNmzRb0oDjx4+zYcOG7NixY53dxx//+MdyAcfj8WhdO5/i4mJ26NChXP+cd955ps8WFwl1CoBiVFAHwJJTwMOHD6cN4OUA7wa4uUzwcgP8qoqwNtoXykoC4Bp4T+GWnM49XQDsDDAO3lPAq08TAF/x7bcY4CS7nWPGjOFVV11ldveFjM8++4wWi4XTp09nQUEB33///Vrd/6WXXlou4Fx88cW1uv9gl5aWVuko4GeffWZ2WSIhTQFQjAqJADhnzhwmA1wB7/i+hgD/cRYB8CjAcwDuqEEArOoU8GQ/AfA6eE8xxwGMgXdMX8+ePc3uvpAyf/58AvAOB7DZai2AFBcXs1GjRuXCzcyZM2tl36Fi586d5frnpptuYm5urtlliYQ0BUAxKiQC4C2zZvH2MkHsYV/AKzkF/D8VgloBKp8CXuP7+imAYwCOP00APJNTwOOB0msT3wbwllmzzO66kPP6668zIiKiNIS0a9euVibJfPfdd5WObi1btqwWKg4td999d+lYyaysLLPLEQl5CoBiVEgEwNGjR3OmL2CdAniDL2gRYBbA1mWOAp4CeDPAgWWC2+AyAbAAYHtfq60A+DLA3gB/hncdtdtvv52bN282u/tCxqlTp9i9e/dKQW306NGGx6K9/vrrlfa7cePGWqo89JxzzjkcNGiQ2WWIhDwFQDEqqANgmzZtuHPnTl544YWMAtgT3mVgkgAeKxPM/tcXwEqWgZmO8ku+DCkTAAnwRYDWagJgez8BcIqfAEiAi331NQHodDo5fvx4fvHFFzx58qTZ3RgSvv76a7rd7kph7YknnjC03/vuu6/c/qxWK3/99ddaqjr0zJ07l3a7nUVFRWaXIhLSFADFqKANgD/++CMbNWrEEydOMDMzk308nmqXZQmU1qlCQLHZbOzZsycnT57Mp59+mh9//DGPHTtmdvcGpeXLl1cKgHa7nZ9//vlpf7eoqIi5ubnMzMxkWloa58yZw1tmzeL5559fbn9dunSph0cSvI4cOUIAXL58udmliIQ0BUAxKigD4OOPP87OnTvz2WefJUnm5uYy0mo97bVLzW4nAUZUCChVNYvFwk6dOnH//v0m93TwqXjNXgCMjY2tcj3FvLw8Ll68mEPi4xnlcjHSamUf36XPbrZYeDvAmQD/AO/R4wiArogIDomPZ3p6etD93dSXDh066IogInVMAVCMCsoAWFFRURGjXC5uCoCQV137AqC9BgEQ8J4mLigoMLtrg84vv/zCrl27VurPMWPGlI4HzMnJ4fSkJHocDvZzu7kE4JfAaT9AFADcBHAJwHi3mx6HgzOSk5mTk2Pyow4sjzzyCK1Wq56/InVIAVCMCokASAbPtYBbNmxYaVmR6lpUVBR79uzJqVOn8tVXX+Xx48fN7uqAt23bNrpcrkp9+dBDDzEpIYEum41Jdju/MPj/mQ0wyW737i8hQQt6+xQUFNBqtfIvf/mL2aWIhCwFQDEqZAJgeno6491u00Neda2v282MjAwWFxfz3//+N1etWsW77rqLI0aMYPPmZ927tgAAIABJREFUzcuFlRkzZnDVqlWcOnUqe/bsyaioqNKfeTwedu7cmTfccAOXL1+uy8VVoarLtzkBXh4ZyT21/P+6B+Awh4NtYmK4du1asx96QIiLi2OHDh3MLkMkZCkAilEhEwDz8/PpcTiYHQBBr6q2EaDH4fDb18XFxdy3bx/ffPNN3n///Vy/fn2lbU6dOsV169Zx1qxZpdcRtlgs3nDjdPK8887jmDFjuHjxYu7du7euuzzgTZw4kYD3tLsL3rUYi+vo/7cY4DKADe12pqakhP2l4p577jkC0IcTkTqiAChGhUwAJMnpSUlMsttND3tVtSl2O2ckJ9f6Yy4qKuInn3zCefPmcdCgQWzevDmtVqs3+NjtbNu2LUeMGMGHHnqIO3bsqPX7D2SHDx9m0wYN2B7g7nr6f94NsLPTyXFXXx3WY+CKiopot9s5d+5cs0sRCUkKgGJUSAXAnJwcumy2Wj/FZ7TtAeiy2ep1ssDWrVu5cOFCDh8+nK1bt6bNZiMARkREsGXLlhw8eDDvueceZmdnh+SabYWFhRw7ciTjIiN5qJ7/vw8B7OV0ctyoUWF9JHDQoEFs3bq12WVILfC3TNKcOXOYlpbGzMxM5ubmhuRrSaBSABSjQioAkmRSQgKHORx1dqrvTFsxvOPDkhMTze4a7t69m0888QSvvvpqtm/fng6Hg4B32Zno6GhedNFFnD17Nt99992gfyFPTUlhF6ez3sNf2RDYxelkakqK2V1hmrfffpsAuGfPHrNLkbNQk2WSbrZYOMluZx+Ph5FWKxu5XFomqZ4oAIpRIRcA8/Ly2CYmpvTau2a3ZQDbxMQE7AzRQ4cO8ZlnnuH111/PTp06lZs926hRI/bq1YvTp0/n6tWreeLECbPLrZGsrCxG2e31dtrXX9sNMMpuD+uJIS6Xi8l1MPRB6o6WSQoOCoBiVMgFQDLwAsC6devM7pIzcuzYMa5YsYKTJ09mjx492LBhw9JQ6PF42K1bNyYmJvLFF18MuOdOXl4eW0dH6wNAgBg5ciSbNm1qdhlSA0eOHNEySUFEAVCMCskASJp/CvAgvJMBUqdNM7srakVBQQHffvttzpw5k3369GGTJk3KzUDu0KEDx44dyyVLlph6BZOkhAQO1xCAgLFx40YC0FGgAJeVlcXW0dEc7nBomaQgoQAoRoVsACwsLOS4UaPYy4QQeBDeSQDjR48O6UkARUVF/Oijjzh37lz279+fzZo1K52BHBkZyXbt2vHKK6/kX/7yF37zzTd1Xo8mAQWmxo0bc8yYMWaXIVUoLCzkzKlTGWW3a5mkIKMAKEaFbAAkvUetxo0axS5OZ72dDv4OWgZk8+bNnD9/PocOHcpzzjmn3AzkVq1acejQoUxLS+PmzZv97qO4uJgbNmw4o9NG4bgMUDCYOHEiPR6P2WVIBSdPnuTYkSPr9fVxt14fa40CoBgV0gGQ9H7CTU1JYZTdzmX18Ak3ym5n6rRp+oRbwTfffMPHHnuMV111Fdu1a8fIyEgCoNVqZbNmzdi/f3/OmTOHH3zwAYuKivjvf/+75MWN559/PsePH88HH3yQ69at408//VRp/yULgRsdt1RXLRvVLwQeyr799lsCqHJxczFHyTJJZpwh0TJJtUMBUIwK+QBYYu3atWwTE8PhTqfGuASI/fv3c+nSpRw3bhw7dOhQOgPZYrHQ7XaXBsCqWuvWrTlq1Cjed999XL16NRcuXBj4lwJ0uZiRkWF2t5uiZcuWvOyyy8wuQ3zMHiOtZZKMUwAUo8ImAJLeGaLJiYl02WycYrcbvmxcNryn9lw2G5MTEzXLrRbk5+fzpZdeYvfu3asNgBWbG97lJ8wOedW1DIBD4uPN7mJT3HrrrYyMjAz69SVDQaCtkqAPzWdHAVCMCqsAWCInJ4czkpPpcTgY73YzA971q2qyztUXvjfyvi4XGzgcvGnqVG7ZssXsh2Sqdu3asXPnzoyLi2O3bt1q5SjXiBEjzigA2n3/hzV542kHsDPAngA7ALwG4Cc1/N3VAD8/yze838F7dLNXr16Mi4vjVVddVQu9HxwOHTpEAHzllVfMLiWsaZmk0KEAKEaFZQAskZ+fz/T0dA6Jj2cjt5uRVit7+1a6T7VYeBvAmwBOstvZ2+Oh3WplI7ebQ+LjmZGREbb9VlFsbGxpCN6zZw8bNWrErVu3GtrngQMHuHbtWv75z3/msGHDSieS+GsRNQjwJS0W4JYy378OsDHAjTX43ckAnzzLN7tBAG0WC3ft2uX3cRcXF7O4uNhQ3wWq8847j7179za7jLCmZZJChwKgGBXWAbCsoqIi7tq1iytWrGBaWhrnzp3LmJgYtmjRgmlpaVyxYgV37doVsm/ORsTGxv7/9u49vqkyzx/4J2nSJC20IAVBWgEZpNyklVIGQaUuFy/cVBwduSg3EQuuILjqiIXxwjozji6Cq+CwOqhUYRR1LFVhGFZHZ0HF8mMdLQzCIoqiUkSE2qaf3x8nDWmapi2n6Umaz/v1el7Q5KT99mlyzuec85zn1JjiJDc3l3/605946NAh5uXlMScnh3379uXcuXP9yzz99NMcPnw4f/nLX7Jfv34cOHAgP/vsM//zBQUF7NGjB3NycnjPPfewW7duPHLkCDdt2sSePXuyXbt2/lvZAcYRvd0AhwDMAngewEVhAmBJ0GN3AvyF7/+bAQ6GccSuL8DVvseLAJ4BMB1gNsA/ADwEMA9gjm/ZuWE2dsMAdne5WFhYWKP/Fi9ezKuvvpqjRo1inz59+MUXX3DBggXMzc1ldnY2L774YpaWlvqXt9lsfOCBBzho0CB269aNGzZs4NKlS5mTk8Nzzz2XW7du9S/7xhtvcOjQoczJyeGgQYO4ZcuWpn8DNNB9991Hu92uqz8tommSWhYFQDFLATCM6mAi4QUGwJ07dzI1NZV79uxheXk5jx8/TtII2KNHj+YLL7xA0giAbdq08d8n9s477+TNN99Mkvzzn//Mvn378ocffiBJTpo0id26dfP/vO+++87//5kzZ3LgwIGclJDAfwX47wEbliONCIAvA+zj+38ZTl0t/h2MU8YHceoI4H8EvK4c4HHf/70ARwN8IUwAbAUwJSWFZ599NqdOncqXXnqJkyZNYlpaGouLi1lSUsJPP/2UJSUlPHz4MI8dO8bnn3+el156qf93ttlsfOyxx0iSmzdvZqtWrfjHP/6RJLlu3Tr/e3bv3r0cPHgwjx07RtK4ErtTp0786aefmvgd0DAnTpygzWbjI488YsnPj3eaJqllUQAUsxQAw+jbty8HDRpkdRlRr2vXrszMzGR2djaHDBnCl156iST5448/Mj8/n/379+d5553HTp068a677iJpBMDLLrvM/z1eeeUVjhgxgiQ5f/58/vrXv/Y/9/bbb/sDYFVVFX/1q18xOzub/fr1848/nGOz8U8AuwP8FcA3UfeUP11DBMCXAgLgHoBXwTiilwWwNcA36giAPwLMhzGe8DyAnQDeFSYAXoqGj2sMbq1bt2aHDh0IGFPjZGVlMScnhwB46aWX8qqrruL48ePpcrk4Z84cDh8+nK1bt/aPOczKymJGRkazTMpdl379+jEzM9Oynx+vNE1Sy6MAKGYpAIbRu3dvDh482Ooyol7gGMBA999/P3/xi1/4jzjNnz+f8+bNI2kEwMC7Q/z5z39mXl6ef7m6AuCaNWs4ZMgQ/9HBZcuWsfs55/B234bkEMA1AMcCvLwRAfBOgNf6/j8c4CMBz50P8JU6AuD9ME4d/+T7ej7AeWEC4DgTAfB0Wrt27SLzRz9NTz75JG02m9Y5zWz58uWaJqmFUQAUsxQAw8jMzOSQIUOsLiPqBY8BrHb77bfz1ltvJWnM+ZeRkdGgAFhUVMR+/frx2LFjrKqq4pQpU/wB8LHHHuO4ceNIkt9//z3PP/989ujRg3NsNu7GqaN+nwBs18AAuAFgW8A/LVAOjCOCBLgVxgUm1QHwVoC/Dnjt7b7HCPBLgBn1BEAzRwBPt7lcLrZq1Ypt27ZlmzZt2LlzZ3br1o09e/bkeeedx4EDB/Kiiy7iqFGjOH78eF5//fWcOXMmb7vtNt5zzz186KGHuGLFCq5Zs4YbNmzgli1buGPHDu7du5dHjhxp1NQuXq+XDoeDd9999+m92eS05OXmapqkFkYBUMxSAAyjZ8+evOiii6wuI+p169YtZAD8v//7P+bm5rJv374cOXIkp02b1qAASJJLlizxXwSyaNEifwA8evQohw8fzszMTF544YW87bbbmJmZyRucTi6FcRo3G8ap2/V1bGi6wbhoJAvGNDDjAP494Pm3fI9nA5wK48KS6gC43fczzodxEcgBgLkwThePBDgtTADMA3hhM4e/9PR0du7cmWlpaWzTpg27dOnCsWPHcsSIEf6LQ/r168cePXqwS5cu7NSpk3/Z5ORkut1uOp1OJiQk0Gazhf1ZNpuNdrudDoeDLpeLSUlJTElJ4RlnnMEzzzyTGRkZ7N69Oz0eD51OJwcPHsy8vDxefvnlnDBhAqdMmcLZs2dzwYIFXLx4MR9++GE++eSTLCwsZFFREd955x3u2rWLBw8e9I8tjUXffPMNv/vuO544caJZLirr2rUrk12uGtMkDQt4Ty8G2N73nj7X937+DxhjWquXt8EY4pDl+1wUhHh/74Oxs5QdsNyTvucuB1ga4mcHtvcBpiYl6UK7BlIAFLMUAMPo0aMHhw0bZnUZUo+1a9cyJznZ8iMYDWkDkpP5xz/+kd999x2/+OIL/vOf/+SuXbv4/vvv8+233+abb77JV199lS+88AKfeeYZPvHEE3zkkUe4dOlS3nvvvVy4cCHnzp3LGTNmcOLEibz66qt5+eWXMy8vj4MHD2ZWVhYzMzPZpUsXdujQgRMnToxIn584cYIHDx7krl27+O6777KoqIiFhYVctWoVH374YS5ZsoQLFy7k7NmzecMNN3DChAm8/PLLeckll7Bnz54EwB49erB79+7MyMhgx44decYZZzAlJYVJSUl0uVx0OBy02+0NCp4JCQl0Op10u91MTk5mamoq09LS2KlTJ3bp0oU9evRg3759OWDAAA4dOpTDhw/n2LFjed1113Hq1KmcO3cu77rrLt5///1ctmwZV69ezfXr13PTpk3ctm0bS0tLefjwYVZUVJjuu5///Oc16ne73Wzbti07derEc845h3369KlR55gxY/iLX/yCU6ZM4axZs3jbbbfxzjvv5JIlS/ib3/yGy5Yt46pVq/jss89y/fr1fP3117l582a+++673LFjB88880w6bLYa0yQNCwqAgTstnwG8AKeObBOgHeD39by398E4kl7fZyDwZwe2kwAT7faw0yTJKQqAYpYCYBjdu3fX7atiQGlpKRPt9gbPA2hVOwnQqQ0cSdLtdnPWrFmNeo3X6+XRo0e5b98+7tixg1u3buUrr7zCZ599lo8//jgfeughLlq0iPPmzePMmTM5ceJEXnnllRw1ahQvvvhi5ubmsn///szMzGS3bt3YuXNndujQgW3btmXr1q3p8XiYmJjoD54IEzoB+I92JiYm0uPxsHXr1mzbti07dOjgP82emZnJ/v37Mzc3lxdffDFHjRrF1NTUer93U7euYULYYtQ+av0JjMnVq0OfDeBREwGwK04Nuwj82ccAzgQ4CMaFVGkOB5977rkIvetaFgVAMUsBMIxzzjmHw4cPt7oMqYfX62WKx9PgO4FY1XSK65TLLruMaWlpVpfRIOXl5Tx8+DBLS0u5bds2btq0ievXr+fTTz/NZcuW8f777+ddd93FuXPncurUqbzuuus4duxYDh8+nEOHDuWAAQNqnGZPSEho9gCYAuOUbPXp2db1BEACTMWpcbHBp4BDTZq+D7VPAX9eTwC8CcZFW9Xfo4fN5p8NQMJTABSzFADD6Nq1K0eOHGl1GdIAGuQeW959910C4K5du6wupdmdffbZzR4Aq69wr27DGhAAUwD/tDE2mDsF3LWOANgBp4Jllu/1/fv3t/pPFBMUAMUsBcAwunTpUmMCXoleMTHNRVKSprkIkJKSwmuuucbqMprdSy+9xD/84Q9cvnw5f/e73/G+++7j3Xffzfnz53P27Nn+o4jjxo3jqFGjeNFFF3HgwIHs168ff/azn7Fz585s164dk5KS6h0fWd2mNDIAfgIwEeAPvq/tiMwp4A4w7uBTvdx8gLcG3DFI6qYAKGYpAIaRkZHBK664wuoypAG2bNnCRJvNf8oq2to2gElOpz5rAX75y1+ydevWVpcR06qqqlheXs6ysjIeOnSIn332GT/++GN++OGH/Nvf/sZNmzYxKSmp3iOAtwU89xnAoUGPNXQMYJtGBsCbAM4AWOn7egbAGTNmWN2tMUEBUMxSAAwjPT2dY8eOtboMCePAgQOcMmUKAdABcFIUhL1QbaKvvuuuu87SO3FEk08++YQAaty7WJpemzZtOMbhqPF+zAsKgB1gTAPTE8Y0MMtQ8046Zo8AdgsIgIE/+weAc2BMo3QewHY2G6dMmWJ1l8UEBUAxSwEwjLPOOovjx4+3ugwJ4YcffmBBQQE9Hk/1SpCAceViNN7s3hlQo8Ph4Jw5c/jVV19Z3Y2W69Chgwb9R1isTZNUWFhodZfFBAVAMUsBMIxOnTrxqquusroMCeD1evnMM8+wc+fONYJfdXPCmGy5rvsAN3er8tUTGACrW6tWrbh48WJ+//33VnerZW655Ra6XK5G3U1EGkfTJLVMCoBilgJgGB07duSECROsLkN8/vu//5s5OTkhg191y8nJYcc2bbgqCjZoBLgSYCuHI2zN7du35759+6zuXkt89dVXBMB169ZZXUqLpWmSWiYFQDFLATCMDh068Nprr7W6jLh38OBBTpgwIWyIOvvss/n888+zqqqKRUVFTHE6uc/iDdo+gClOJzdu3MiXXnrJfweM4HbeeefF9UavS5cuHDRokNVltGiaJqnlUQAUsxQAw2jfvj1/+ctfWl1G3Dt8+HCdd09o1aoVH3jgAf744481XpM/cyZ7ud08bNHG7GuAmW4382+6yV9TRUUFV65cyU6dOtX6PX7+85/H7VHAgoICJiQkNMlt1iQ0TZPU8igAilkKgGGkpaVx8uTJVpcR99asWUO3210jMNlsNk6fPp1ffvllyNdUVlZywpgxzLYgBH4NMNvt5jXjxrGysrJWbcePH+eDDz7IlJQUjhkzhs888wzbtm1Lm83G0aNH88iRI5Hu0qhy/Phx2mw2bfwj6OjRo0x2uaJ6mqRkl0vbokZQABSzFADDOOOMM3jDDTdYXUbc+uCDD9i9e3f/EbKuXbsSAPPy8rhjx456X19eXs4JY8awl9vdbKeDP4Nx5G/C2LEsLy8PW98333zD/fv3kzTGaT344IP0eDxMSEjgjBkz6n19S9K7d2/26dPH6jJatFnTpnGa02l52AvVpjqdvHn6dKu7KKYoAMaPJQAOAjgG4K8A+jTgNa0B7APgBWCvYxkFwDDatm3LqVOnWl1G3Dl8+DDz8vIIGGP73nnnHZLkm2++yQ0bNjRqvFxlZSXzZ85kitPJlYjc1cFVMC74SHE6mX/TTSGP/DVERUUFb7nlFjocDrpcLi5atCgurpB97LHHaLPZePz4catLabFKSkrocTiicpokj8PBkpISq7sopigAxoeFAPYD6A3ABeBBAJ8DSKrndX8AsBEKgKetTZs2mpW+GVVUVHDWrFm02+1MTk7mk08+2WTfe+PGjUxPS+NIt7vJN4D7AY5wuZielsaNGzc2Sb1Hjx7lVVddRZvNxpSUlCbti2hUUVHBhIQEFhQUWF1KizZt0iSOcLmiapqkES4Xp2uoTaMpAMaHvQDmBHydAOArABPDvGYMgP8BcAkUAE9bamoqZ82aZXUZcWHFihVMTk5mQkIC58yZE5GjXmVlZZw+eTI9DgdvdDpNj4faDuPUlcfh4PTJk1lWVtbkNR84cIAXXnghAbBTp058/fXXm/xnRItBgwaxS5cuVpfRopWVlTE9LS2qpklKT0uLyGenpVMAbPlSAFQBGBT0+BsAflfHa9rBOPXbC8DFUAA8bSkpKZw9e7bVZbRoW7duZXp6OgFw+PDh/PbbbyP+M0tKSjj60kvpgHELqhUAPwDqnSi3HMZcZSsADvR42Mrl4uwZM7hz585mqblv374EwMzMTG7fvj3iP7O5rVu3jgB0h5QIi7ZpkoqLi63ukpikANjypcMIgD2DHi8EsLKO17wA4C7f/xUATWjdujXnzp1rdRkt0oEDBzho0CACYI8ePRp0UUdTuuOOO6pXnkyCcaeORLudA5KTeYPTyXybjfMB5ttsvMHp5IDkZDrtdqYmJTEvN5crVqyw5HPz5ptvMiMjgwA4ePDgFjV1jNfrpcvl4pw5c6wupcWLxmmSpHEUAFu+xh4BvA7AdpwKfMNgBMCEMN+f+fn5nDdvHufNm6e9sQCtWrXibbfdZnUZLcqJEyd4/fXX02azsU2bNnz++ectqSM7O9sfAAEwOzubu3fvZmFhIQsKCrhw4ULeOncuFy5cyIKCAhYWFnL37t1RM2Hz008/zTZt2tBms3Hs2LEtZuqYESNGsEOHDlaX0eJF8zRJUrfi4mL/tjo/P18BMA6EGgP4NUKPAfwvGFcKH/a1MhgB8msAk0MsryOAYSQnJ3P+/PlWl9FiLF26lC6Xi06nk3fddZdlV7d+/fXXNcIfAP7bv/2bJbWY4fV6ef/999PtdreYqWO2bt1KACwtLbW6lBYv2qdJkvB0BDA+LIAxpq8PAA+ApQAOIPRVwKkAzgpoE2AcAUz3vTaYAmAYSUlJXLhwodVlxLzXXnuN7du3p81m47hx43js2DFL6yksLKwVADdt2mRpTWZUVFRw9uzZ/qljCgoKYnrqmFatWukOPM0k1qZJklMUAOPHYgBfAvgBNecBzIBxxG9IHa+7GBoDeNo8Hg/vvPNOq8uIWaWlpezXrx8BsF+/flFzVGf69Ok1wp/b7eaJEyesLsu0o0eP8sorr6TNZmNqaipXrVpldUmnZcKECUxJSbG6jLgSa9MkiQKgmKcAGIbH4+Hdd99tdRkx59ixYxw3bhxtNhs7dOgQVVOXVFVV8eyzz64RAEeMGGF1WU0qcOqYs846i0VFRVaX1Ci7du0iAL777rtWlxJXAqdJmhoj0yTFMwVAMUsBMAy3262JaRvB6/XyzjvvpNPppMvl4tKlS60uqZbS0tJap39/85vfWF1WROzYsYN9+vQhYEwd88EHH1hdUoOlpaXxsssus7qMuFRSUsKbp09nssvF3KSkmJgmKR4pAIpZCoBhuFwuLlmyxOoyYkJhYaH/qtTrr78+ak+prlixolYA/PDDD60uK6KKi4v9cy1ecMEF/vsPR7NZs2bR7XZbXUZcO3r0KJcvX8683FymJiXFxDRJ8UQBUMxSAAwjMTGR999/v9VlRLUdO3awR48eBMBBgwbxwIEDVpcU1vjx42uEv7S0tJi+YKIxVq9eHTNTxxw8eJAAuGLFCt5333386aefrC4prnm93piaJikeKACKWQqAYSQmJkblacxo8O2333L48OEEwPT0dG7dutXqkupVUVHB1NTUGgHw2muvtbqsZuX1ennffff5p46ZOXNm1E3HceTIET788MN0Op3+v1OsjWMUiTQFQDFLATAMp9PZYseHnS6v18tbbrmFCQkJTEpK4ooVK6wuqcHee++9Wqd/n3rqKavLskRFRQVvvvlmJiQk0O12c/HixVFzJPTQoUO02+01/k6TJk2yuiyRqKIAKGYpAIbhcDj48MMPW11G1HjyySeZnJxMu93Om2++mRUVFVaX1CgHDhzg0qVLmZCQ4A8YsTAeLpKOHj3K8ePH+6eOiZZAPHLkyBoBMDk5mcePH7e6LJGooQAoZikAhuFwOLhs2TKry7DcO++847//bF5eHg8fPmx1SaetemzZW2+9xS1btlhdTtTYv38/hwwZQgDs3Lmz5adcn3766VpHa9euXWtpTSLRRAFQzFIADCMhISGmTnE2tYMHD3Lw4MEEwO7du3P79u1Wl2TaokWL6HQ6rS4jau3YsYO9e/cmAPbq1Ys7duywpI6jR4/S7XbXCIBjxoyxpBaRaKQAKGYpAIaRkJDAJ554wuoyml15eTmnTJlCu93O1NRUrlmzxuqSmkz//v3Zu3dvq8uIesXFxezcuTMBcMiQIZacKr/mmmtqBECHw8Fvvvmm2esQiUYKgGKWAmAYdrs9Zm+ndbp+85vf0O120+FwcOHChVFzYUBTcblcur9zIzz11FNMTU3138e5OdcVL7/8cq3TwP/5n//J0tJSrl27lgUFBVywYAFvnTuXCxYsYEFBAdeuXcvS0tIW974VCaYAKGYpAIZht9u5evVqq8toFsXFxTzzzDMJgFdccUWLfE9s376dALh3716rS4kpXq+XS5Ys8U8dM2vWrGaZOubkyZM1pu1JAuiy25lotzPHNyHxHJuNtwOc45uQOCc5mYl2O1M9Hubl5nL58uUt8r0sogAoZikAhmGz2fjMM89YXUZE7dmzh1lZWQTAvn378uOPP7a6pIiZMWMGk5OTrS4jZpWXl3PWrFn+qWOWLFkS0SNtJSUl7H3uuXQA7AfwcYAfNvCWZB/4ls9NSmKyy8Wbp09nSUlJxGoVaW4KgGKWAmAYNpuNzz77rNVlRMTx48d51VVX0WazMS0tja+88orVJUVct27dOGTIEKvLiHlHjhzhuHHjaLPZ2KZNmyY/Sn7kyBFOmzSJHoeDNzocfL+ewFdf2w5wmtNJj8PBaZMmsaysrEnrFbGCAqCYpQAYhs1m4wsvvGB1GU3K6/XynnvuodPppMvl4n333Wd1Sc3C6/XSbrfz0UcftbqUFiN46pji4mLT37OoqIid27XjSJeL+00Gv+C2H+AIl4vpaWncuHFjE/SAiHVTQYhRAAAgAElEQVQUAMUsBcAwAHD9+vUNWtbr9Ub94PR169axbdu2tNlsvO6663jixAnLamlu69evp97rkfHBBx+wV69eBMDevXv7p47ZvHkz161b16D7w1ZWVvKWGTOY4nRyFcCqJg5/1a0K4EqArZ1O5s+cycrKykh3j0hEKACKWQqAYQDghg0b6ny+rKyMjz32GPNyc5ni8UTt4PSSkhL27NmTAJiTk8N9+/Y1y8+NJuPGjWP79u2tLqNFKyoqqjF1zLnnnksAzM3NDTvp9smTJ3n16NHs5XZzX4SCX3DbBzDT7eaEsWOj7l7IIg2hAChmKQCGAYCvvfZarcdLSko4a9o0JrtcHJSUFLWD048cOeK/pdZZZ53FzZs3R+TnxIL27dtz3LhxVpcRF1atWkWPx1NrCpfLLruMH330UY1lKysrefXo0cx2u3m4mcJfdTsMMNvt5oQxY3QkUGKOAqCYpQAYBoAat8QKHJw+zemM2sHpXq+Xt956KxMSEujxeOL+dnbVK8qGns4Xc3788Uemp6fXCoAAaLPZOHnyZH722WckyfyZM9nLgvAXGAJ7ud3MnznT2k4TaSQFQDFLATAMAHzzzTdJRu/g9J9++onLli3z36nhqaeeYqtWrWi32zljxgxWVFQ0eb/EmkcffZR2u12TAzeTw4cPc+LEiSEDYHVLTEzkuHHjmOJ0Nttp37raPoApTqcuDJGYogAoZikAhgGAmzZtisrB6VVVVXzttdf8Y/tGjBjBLl26EAAvuugifvXVV83US9FvyJAh7Natm9VlxJ0PP/yQo0aNqjMEugCusjj8VbeVANPT0jRFjMQMBUAxSwEwDADMu+CCqBucXlJSwuHDh9faoJ511lnctm1bM/dS9EtOTuaMGTOsLiNubdq0iQMGDKjxXnUCvCiCO1SnswM2wuXi9MmTre4ukQZRABSzFADrUFlZyUSA/RMTo2Zw+qFDhzhz5kza7fZa4Q8Af/7znzdoyo14snfvXgLg9u3brS4lrnm9Xr7wwgvs3r27PwA29VAKs20/QI/DoTuGSExQABSzFADrcMvMmezmC2NWbIwCB6efOHGCS5cuZevWrUMGPwB0Op2cP38+T548aXXXRZWFCxcyMTHR6jLE56effuJFgwdzUhQEvlBtqtPJm6dPt7qbROqlAChmKQCGUFRUFDWD01slJLBDhw51Bj8AvPLKK1laWmp1t0WlPn36sH///laXIT5Hjx5lsstl+gr6SLXtAJNdLq0TJeopAIpZCoBBysrK2Lldu6ganO6qI/hlZ2eHnWBXSKfTyUWLFlldhvgsX76cuUlJln+uwrWBHg9XrFhhdVeJhKUAKGYpAAaZNmkSR7pcUTU4/UIYY6bgax07duTq1as1eW093n77bQLgwYMHrS5FfPJyc/l4FHyuwrUVAPNyc63uKpGwFADFLAXAACUlJfQ4HFE5ON0JY+60RYsW8dixY1Z3VUyYMmUKU1JSrC6jRTh27BhbtWpl6mrqxx9/nC6Hgx8AfBXgfN/7ex/ABIDZAPsB7AXwJoCfN/Dz8SjArxqw3L0As3ytFcBuvv9nAywNWO59gKlJSf4LqiorK2mz2Xj8+PFav1O450QiSQFQzFIADDBr2jROczotD3yh2mSbjZOuu87qLoopGRkZzMvLs7qMFuGpp57isGHDeMYZZ5x22CktLWWi3V7rlon7ALYN+LrCF9bOBvh9Az4bXQGWNPLzlOcLoaGeOwkw0W7n7t27SRohz2631xkA63pOJJIUAMUsBUAfDU5vWSoqKmiz2fjEE09YXUqLMHjwYG7cuJHjx4/n6tWrSZLvvfceBwwYwOzsbPbr18/f10ePHuWMGTPYt29fZmVlcbrvqtqrr76aZzocJMCnAY6vIwBWt8GA/3Tx7wHmwjhalwvw777Hfw0wEWCm77kSgJt9rz0fYF+AfwjxvYcBfCXosXkBP6O13c5HH32U5KmjfIsWLWJWVhZ79uzJwsLCGs9VB8BPP/2Ul112GXNzc9m/f3+9/yRiFADFLAVAHw1Ob1meffZZAuCJEyesLiXm/e///i8zMjJYVVXFV199lUOGDCFJjhs3zh+ESPrvojF16lTm5+f7H//mm29IkhdffDF72+3+AHhlPQHwXwHm+/7/TcDjf/cFvsAjgDsDvi7DqQmmvwPYBeDBBgTAwJ9xYUICzz33XJKnQt59991HktyzZw/POOMMfv755zUCYEVFBQcMGOA/cnj8+HH26dOHO3bsiPwfSeKOAqCYpQDoo8HpLcull17Kjh07Wl1Gi3D77bfzV7/6FUnjyGqnTp34ySef8NFHH2WfPn3461//mu+8845/+fbt23Pfvn21vs8FF1zA/r738tMNCIC3BgTANwBeDOOIXhZAO4xTtdUBMPAU8B6AVwUs29r3+voC4BqAP/e9ri3A1q1bkzwVAL/88kv/7zJ69GiuXbu2RgDcuXMnk5KSmJ2dzaysLGZlZfGcc87hc889F+G/kMQjBUAxSwGQxuS0LoeDXWEMQs8GOAvgUd+GYUnAxqQXwDt8j/cG+HrQRuQngO0B7gixQeuCU6eqsgHO9D1+L8Dnff9fDONUVKgAGDw4XerWtm1bTpgwweoyYl5FRQU7dOjA9PR0duvWjV27dmWbNm24cOFCkuS+ffv41FNP8aKLLvIf9Wvfvj0/++yzWt9rUG4uBzQiAA4G+ITvM9UK4Ae+x7/3BcDqz2fXoAA4HOAjAV+fHyLsDQt6bC/Adjh1d5JJAD0eD8lTAfCLL77w/y6jR49mYWFhjTGAJSUl7NKlS8T/JiKkAqCYpwBIcvz48bSh5l0/1gP8zPfvBYB/4LoXp043/R7g1UEblnW+DU6oANcVNU9VhWqLwwTA4MHpEtq3335LACwqKrK6lJi3fv16Dh48uMZj//jHP3jmmWfy008/9T9WXFzMAQMGkCSnT5/O/Px8/47K4cOHSYY/AtgmaCdqMU5dBPI9jLkwv/Y9f39QAOwP8L8DXp8D8CXf/7fCuMK4vgC4A2Bn32esCsaOXlJSEslTAfCBBx4gaZwCTktL48GDB2udAs7MzOSaNWv8/bJ7927/qXGRpqQAKGbFfQDcs2cPXS4Xs+oY//cowNF1BLKvYZxe+jbgscthnKqtKwCGulrxRoD/UUcA/B3AQQAHALwMYD+Pp8a4K6lt6dKlTEhIoNfrtbqUmHf55ZeHHHc6YMAAnnfeeezbty+zs7M5cOBAbt26lST5/fffc/r06ezTpw+zs7N50003kQw/BtAB46h4XxhHyWei5jQwv4VxBD3H95kIDIBPATwXpy4CeQtgD9/XUwEOCREA80I8NhfG1DC5ALPt9hoB0G63s6CgwH8RyIsvvljjueqLQPbs2cPRo0ezf//+7NOnD/Py8njo0KHm+FNJnFEAFLPiPgC++OKL7NixI2+oY/qXQzBO9Z4DcArA1QBPBDw/ISC8fe4LhGVhAmAmTs09tqGeAPi8b0NYPaB9DcB0m40FBQVWd1tUGzhwIHv06GF1GRJk7dq1zElODnsEPFragORk7WhJVFMAFLMUAF98kR06dOAcm63OjUEVwPd8Rx5yfOGtwvdckS/QEeADACeG2ah0RehTwDfWEQB/4Que1ZPXngdjnFL1+CsJzePxcM6cOVaXIUHqmgcw2tpJgE4NtZAopwAoZsV9ANyzZw+dTqf/asP6WjmM8UrVF3l4AWbAuEDjXIB/qScANuYU8DVArXsSzwd469y5Vndb1Pr4448JgLt27bK6FAni9XqZ4vH4L+aI1qaLrSQWKACKWXEfAEmyd+/ePAc1T93+CcZFIO8D/GfA4x/BuCIxcM6wRQAHAuxez4alayMD4HMwxv595/u6AsZRQR0BrNvcuXPpdrutLkPqoOmWRJqGAqCYpQBIctGiRexvt7MnjEHovQHeDGOQ+Rsw5gbrBePU70CArwVtMPbCuNLwgXo2LN3qCIBT6wiABPgYjKscs3y15fgGo0to5557LnNycqwuQ+oQExOuJyVpwnWJegqAYpYCIDU4vaXwer1MSEjggw8+aHUpUofqWy5uj4LPUqi2DbrlosQGBUAxSwGQGpzeUhQXFxOAf945iU6zpk3jtDquure6TXU6ebPv3sUi0UwBUMxSAKQGp7cU1157Ldu2bWt1GVKPkpISehwO/103oqXtB+hxOFhSUmJ1F4nUSwFQzFIA9NHg9NjXqVMnjho1yuoypAGmTZrEES6Xf45Lq1sVwBEuF6dPnmx114g0iAKgmKUA6KPB6bHtxIkTBMBnnnnG6lKkAcrKypiellZrmiOr2kqA6Wlpum2bxAwFQDFLAdBHg9Nj26pVq2iz2VheXm51KdJARUVFTHE6uc/iz9Y+gClOJ4uLi63uEpEGUwCMH0sAHARwDMBfAfSpY7n2AJ4GsBfA975/HwSQWMfyCoABNDg9dl1yySXs3Lmz1WVII+XPnMlebjcPW/S5+hpgptvNfN/9ikVihQJgfFgIYD+A3gBcMALd5wCSQizbDcCdvn8B4BwAJQB+X8f3VgAMoMHpsSslJYUTJ060ugxppMrKSk4YM4bZFoTArwFmuVy8Ztw4VlZWWt0VIo2iABgf9gKYE/B1AoCvAExs4Ov/FcCOOp5TAAwybdIkXgRocHoM+fLLLwmAW7dutboUOQ3l5eWcMGYMe7ndzXY6+DMYd+bpeMYZ/PHHH63uApFGUwBs+VIAVAEYFPT4GwB+18Dv8TqAP4T5/gqAAcrKyphkt2twegwpKCigw+GwugwxobKykvkzZzLF6eTKCO6AVfk+U26AToArVqzQtEoSkxQAW750GAGwZ9DjhQBWNuD1i2CMHTyrjucVAENo27YtPYAGp8eIrKws9urVy+oypAls3LiR6WlpHOl2N/lQjP0A/8XppAtgmzZtCOiqcYldCoAtn5kjgPfBGDv4s3q+P/Pz8zlv3jzOmzdPYYPkmWeeSSeMe/dqcHr0c7lcXLBggdVlSBMpKyvj9MmT6XE4ONXpNH1l/nYYF1F5HA5OnzyZq1ev5rFjx3jppZfS4XBw//79Vv/KIg1SXFzs31bn5+crAMaBUGMAv0b4MYArAJQCyKjne+sIYAjt27cnACYC7GVBCPwaYLbbrcHpDfDBBx8QAPfs2WN1KdLESkpKePP06Ux2uZiblMQVAD8A6r1lYzmMu+asADjQ42Erl4uzZ8zgzp07a3z/iooKtmvXjhkZGfR6vRb9liKnR0cA48MCAPtgTP3iAbAUwAGEvgo4AcBzAP4fgDMb8L0VAENo165d9QeLiQB7JCQ06+D0TLebE8aO1Zx2DTBr1iwmJydbXYZE0NGjR7l8+XLm5eYyNSmJiXY7ByQn8wank/k2G+cDzLfZeIPTyQHJyXTa7UxNSmJebi5XrFgRdv22a9cu2u12Xn/99c34G4mYpwAYPxYD+BLAD6g5D2AGjLkBh/i+vgiAF8CPMOYB/N73/Pd1fF8FwBDatm3rD4AAmJud3WyD01OcTubfdJOO/DXQOeecwwsuuMDqMqSZeL1e7t69m4WFhSwoKODChQt569y5XLhwIQsKClhYWMjdu3c36sKORx55hAC4bt26CFYu0rQUAMUsBcAQUlNTawTAe++9N+KD00e4XExPS+PGjRut/vVjhtfrpd1u58MPP2x1KRLjhg0bxsTERH755ZdWlyLSIAqAYpYCYAitW7euEQAXL15MMvKD0zXVS+Ns2LCBev9KUygvL2ebNm14zjnnWF2KSIMoAIpZCoAhJCUl1QiAv/71r2s8H+nB6dIw48ePZ1pamtVlSAvxwQcf0GazcbpuuSgxQAFQzFIADMHtdtcIgA888EDI5SI5OF3q1759e44ePdrqMqQFefDBBwmAr7zyitWliISlAChmKQCGkJiYWCMALl26tN7XRGJwutTt2LFjGrgvETF48GC6XC4ePnzY6lJE6qQAKGYpAIbgcDhqBMCHHnrI6pIkyLJly2iz2TR/mzS5EydOsHXr1szMzLS6FJE6KQCKWQqAIdjt9hoB8Le//a3VJUmQoUOHskuXLlaXIS3U3//+d9psNs6ZM8fqUkRCUgAUsxQAQ0BA+AOgaUaiUKtWrTRYXyLqnnvuIQC++eabVpciUosCoJilABjE6/XWCoCPPPKI1WVJgH379hEAt23bZnUp0sKdf/759Hg8WkdK1FEAFLMUAINUVFTUCoDLli2zuiwJcMcddzAxMdHqMiQOHDt2jElJSTzvvPOsLkWkBgVAMUsBMEh5eXmtALh8+XKry5IAffv21QZZms2WLVsIgHfccYfVpYj4KQCKWQqAQU6cOFErAD7++ONWlyUBnE4n77nnHqvLkDgyf/582mw2vv3221aXIkJSAVDMUwAMcvz48VoB8IknnrC6LPF55513CIAHDhywuhSJM3379mVycjKPHTtmdSkiCoBimgJgkOoJhgPbypUrrS5LfG644Qa2bt3a6jIkDh05coRut5s5OTlWlyKiACimKQAGKSsrqxUAn3rqKavLEp+MjAwOGzbM6jIkThUXFxMACwoKrC5F4pwCoJilABjku+++qxUAV69ebXVZQuMKbZvNpjGZYqnZs2fTZrNpGiKxlAKgmKUAGOSbb76pFQCfeeYZq8uKa16vl59//jmff/55AuDx48etLkniXI8ePZiSksITJ05YXYrEKQVAMUsBMMjXX39dKwCuWbPG6rLi2kcffUQATE5Opsfj4auvvqoQKJb66quv6HK5OHToUKtLkTilAChmKQAGOXToUK0A+Nxzz1ldVlz77W9/W+tv8sknn1hdlsS5DRs2EAAfeughq0uROKQAKGYpAAb54osvaoWNtWvXWl1WXBs5cmSNv0dGRgarqqqsLkuEN954I+12O0tKSqwuReKMAqCYpQAY5PPPP68VAF944QWry4pbJ06coMfjqfH3mDp1qtVliZA0xqd27dqVbdu2ZXl5udXlSBxRABSzFACD7N+/v1YAXLdundVlxa3NmzfX+ns8//zzVpcl4nfw4EE6nU7+y7/8i9WlSBxRABSzFACDfPbZZ7UCx0svvWR1WXHrzjvvrPX3+Oqrr6wuS6SGwsJCAuCyZcusLkXihAKgmKUAGOSf//xnrcCxYcMGq8uKWzk5OTX+Fv3797e6JJGQrr32Wtrtdn788cdWlyJxQAFQzFIADLJ79+5aAfDVV1+1uqy49M0339Bms9X4WyxYsMDqskRC8nq97Ny5M9u3b8+Kigqry5EWTgFQzFIADPLpp5/WCoB//vOfrS4rLr344ou1/hZvvPGG1WWJ1Gnfvn10OBy84oorrC5FWjgFQDFLATDIP/7xj1qho6ioyOqy4tJNN91U4++QmJioCaAl6q1evZoAuGrVKqtLkRZMAVDMUgAMsmvXrloBsLi42Oqy4lK3bt1q/B0uueQSq0sSaZBx48YxISGBe/futboUaaEUAMUsBcAgO3furBUA33rrLavLanG8Xi9LS0u5du1aFhQUcMGCBbx17lwuWLCABQUFfPTRR2v9HZYuXWp12SIN4vV62aFDB3bq1Iler9fqcqQFUgAUsxQAg1Tfdzawbd682eqyWoSysjI+9thjzMvNZYrHw0S7nTnJybzB6eQcm423A5xjs/EGp5P9XS4mAHQCTPL9HbZs2WL1ryDSYKWlpUxISODVV1/d4NfUt2O0du1alpaWKlSKAqCYpgAY5MMPP6wVABU8zCkpKeGsadOY7HJxUFISHwf4IcBygAzTygF+APBxgH0BJrtcvHn6dN12S2LGihUrCIBr1qypc5nG7BjlJCcz0W5nqsfDvNxcLl++XOvvOKUAKGYpAAZ5//33awXArVu3Wl1WTDpy5AinTZpEj8PBaU4n368n8NXXtgOc5nQa32/SJJaVlVn9K4rUa+TIkXQ4HCwtLeX8+fN56NAhkk2zY5SblKQdozilAChmKQAG2bZtW60A+Pbbb1tdVswpKipi53btONLl4n6TwS+47Qc4wuVieloaN27caPWvKhJWRUUFU1JS6HA4CIDDhg3j1IkTtWMkpigAilkKgEHee++9WgHwb3/7m9VlxYzKykreMmMGU5xOrgJY1cThr7pVAVwJsLXTyfyZM1lZWWn1ry4S0po1a+h2u/3rExfASxwO7RiJKQqAYpYCYJC//e1vtQLge++9Z3VZMeHkyZO8evRo9nK7uS9CwS+47QOY6XZzwtixLC8vt7oLRGpZv349AeOCJg+gHSNpEgqAYpYCYJC33367VgDctm2b1WVFvcrKSl49ejSz3W4ebqbwV90OA8x2uzlhzBht8CTqnDx5kud27cpuvh0W7RhJU1AAFLMUAINs3bq1VgB8//33rS4r6uXPnMleFoS/wBDYy+1m/syZVneFiJ9/x8jl0o6RNCkFQDFLATDIli1bagXADz/80OqyolpRURFTnM5mO7oR7qhHitOp8U8SNbRjJJGiAChmKQAG2bx5c60A+NFHH1ldVtQqKytj53btuMri8FfdVgJMT0vTlZBiOe0YSSQpAIpZCoBB3nrrrVoBcOfOnVaXFbWmTZrEkS5XxAa1N7ZVwbgScvrkyVZ3jcQx7RhJpCkAilkKgEGKi4trBcBdu3ZZXVZUKikpoScC01mYbfsBehwOTYwrltGOkUSaAqCYpQAYZOXKlQRAB0C379/Zs2fz008/tbq0qDNr2jROczot37iFalOdTt48fbrVXSRxSDtG0hwUAMUsBUAaV+q9/PLLHDF0KBPtdo4HWADwd75/r3E66UpI4IihQ/nyyy/rijoaK59kl8v0XQwi1bbDuHdwvL+3pflpx0iagwKgmBX3AbCsrIzDhw5lhtvNBwF+VceK8yuADwLMcLs54sIL47rPSHL58uXMTUqyfIMWrg30eLhixQqru0riiHaMpLkoAIpZcR0Ay8rKmJWZyUtdLn7fwBXo9wBHuVzMysyM6wHVebm5fDwKNmjh2gqAebm5VneVxBHtGElzUQAUs+I2AFZWVnL40KG81OXiT41cgf4E8FKXiyMuvDBuTgd36dKFmZmZzM7OZlZWFu02G1+MwMbpaYDj63juRoCdAWYDzPL9S4CvApzv+/9ffc8R4PsAU5OSWFVVZXX3SZzQjpE0FwXA+LEEwEEAxwD8FUCfMMu2AfAcgDIA3wFYAyC1jmXjNgC+/PLLzHC7wx75OwHwGoA9ANoBLgp47nsYp4M3bNhg9a/SLLp27eqfDqe0tJSJdjvLIxQArwwTAP+jntf/NSAYngSYaLdz9+7dFveetARdunThmWeeWWOn7y9/+QttNhvnzZtHr9fLFI+HH4R5bxYHfL0PYJsGfCYauhwBLgbYHjV3kr6EsTN0nW+Z14zQoB2jGKcAGB8WAtgPoDcAF4AHAXwOIKmO5V8H8CaAtgDOAPAWgA11LBu3AXDE0KF8sJ6V6UmAj/pW3IODAiABPmCzceSFF1r9qzSLrl27+q8eXLt2LXOSk0mAnwJMB/iZr09+C/CygD76d4D9APb39eEJ3+NrAA4COADgxQB3mgiAT+PUUcO/BgRAAuzhcrFnz57MycnhoEGDuGXLFms7UmJW165dOXDgQL700kv+xyZNmsTc3FzOmzev3h2jxQBvCwp2bRsYABuyXPXPmFfPMp/6AqB2jGKbAmB82AtgTsDXCQC+AjAxxLJnA6gC0DfgsfN8j6WHWD4uA+Cnn35KV0ICvwI4DOC/ArweYCrAswH+Z4iV5rAQAfAQQFdCAktLS63+lSKua9eu/lPAHTt25Bm+gEyAhQAH+sLXOQC/DQhmgwAe831dBmM+sr8BvBzwn3p/G2CfBgbA6lPA2QDvCfGavwYEwL0A29tsvOuuu0iSe/bsYadOnfjTTz9Z3JsSi7p27crHH3+cV1xxBUljA/yzn/2M9957L+fNm8e1a9eyj8fDob4dmz4AH/C9Fz8C2BFgB9/7874QwW6i73PUH+BonLogbR+MI4ALAJ4HsC/ATY0MgH/FqaER+wAmACwsLCRJbt++nZdccgkHDhzI888/n+vWrbOym6WBFABbvhQY4W1Q0ONvAPhdiOXHAvgxxOMnAYyu4/vHXQBcdM89/EVioj/YtfGtIAnwT76V4z8bEAAJ8BeJiVy0aJHVv1LEBZ4CXrBgAefYbDX64SaALoDvBjx2DcD/CtFnd8A4alh9mirLF+xONiAA1nUEMFQAfBygB2CHDh2YlZXFrKwsZmRkcM+ePRb3psSibt26saSkhH379uWXX37JJ554gnfffTcXL17MefPmsaCggNc7HP4dmxO+9+L/1BHO9gUFwG8C/v/vAG8OWM4W8Fn6uy9I/lBHAKw+BZwNcFqIz8U+gIkACwoKWFZWxuzsbB46dIgk+c033/Dss8/mF198YXFvS30UAFu+dBgBsGfQ44UAVoZYfhKAL0M8fgjA9SEej8sAOHXSJBYEBLvpQSvR9kCtCxyG1REA7wU4LQ5m1w88BXzr3Lm8PaAPKgFeAPAsgC80IAAuBPirOkLe000YAFcAzAR469y5FveetATVn4GHHnqIDz74IAcNGsQ9e/b4A+CCBQs4HeBknBr20A7gkw0MgI8CzIFxhK8HjCETgYEt8K4i2TCOnDfmCGBgAHQBXLhwIYuKipiamuq/uCsrK4tdunTRUIkYoADY8jXLEcD8/HzOmzeP8+bNY3FxsdXv64i7ZvRo/i5MsOsK8A8NDIC/BXjN6NFW/0oRFxgAg48A3g7jSMM/AWbg1NHT6nF+R31flwH0+jZcXQD+n+/xKsA/b9rTTRgA98A4AnjjjTf6f49t27ZZ1YUS46o/A1988QU7duzIYcOGkaQ/AN46dy77wbgivTqsXRXwnl0cJgC+DbA7Th0FfBW1j9gFBsAsgO+YDIC3zp3L119/nUOGDLG4Z6WhiouL/dvq/Px8BcA4EGoM4NeoewygFzXHAPb3PaYxgD7BRwDNBMB4OYJpfFAAAAyTSURBVALYrVu3WmMA/wrwzzCOdlRf3LEOxvin6oHwv4ExFqo/wCEBy73gWy4LYG8YRwXrC4BTGxkACXBkQgLT09OZlZXF3r17c+LEiVZ3pcSowJ2gp59+mn//+99JssYRwO4Af+97730CsHXAe/b3OHVKtjqIVV/d+5rvfev1fXauCApsNoDP+L7+H4Bnou5TwI05AnjkyBGeddZZ3LRpk//3/Oijj1hRUWFJH0vD6QhgfFgAYB+MqV88AJYCOIC6rwJ+DUAxgHYA0mBcBfxyHcvGZQAMHgMYLgCW+0LLRQDvhjFOLXDewHgZAxgo8CrgaG8DkpP9g91FzKgeAxgscAzgGIeDfWHs8FwF4+r06gD4GU6NzQu+CKQC4LUAfwbw5zAucAoMbG1h7CT1h3GK+C91vN8XNzAAVo8BJMkdO3bwkksu8e8kXXbZZSwvL2/m3pXGUgCMH4thjO37ATXnAcyAMTfgkIBl2wB4FsY8gEcA/BF1v0HiMgAGXgWcFyIAdgO4OiAM2oNanu+5QwAT4+Qq4ECRnAewKdtJgE7NAyjNRDtG0pwUAMWsuAyAZMPmAayvxdM8gIHqm/A2WpruBCLNSTtG0pwUAMWsuA2ADbkTSLgWb3cCCaZbXonUpB0jaU4KgGJW3AZAs/cCHhVn9wIOFhM3vU9K0k3vpVlpx0iaiwKgmBW3AZAky8rKmJWZyUtdrgYfCfzeF/6yMjPjtt9IY+WT7HJxexRs0EK1bQCTXa64/htJ89OOkTQXBUAxK64DIGmEwBEXXsgMt5sP2Gz+2y8Ft0MwxvxluN0cceGFcd1n1WZNm8ZpTqflG7RQbarTyZunT7e6iyTOaMdImosCoJgV9wGQNE4Hb9iwgSOGDqUrIYG/SEzkvTAmeb4XxlQvroQEjrzwQm7YsCFuT/sGKykpocfh4P4o2LAFtv0APQ5HyCk7RCJNO0bSHBQAxSwFwCCffvopFy1axGmTJ/Oa0aM5bfJkLlq0KO6memmoaZMmcYTLVeMuBVa2KoAjXC5Oj4PJuSU6acdImoMCoJilACimlJWVMT0tjauiYANHgCsBpqelsayszOqukTimHSOJNAVAMUsBUEwrKipiitPJfRZv5PYBTHE64+J+1hLdtGMkkaYAKGYpAEqTyJ85k73cbh62aAP3NcBMt5v5N91kdVeIkNSOkUSWAqCYpQAoTaKyspITxoxhtgUh8GuA2W43rxk3ThfoSFTRjpFEigKgmKUAKE2mvLycE8aMYS+3u9mOenzm28BNGDtWN7CXqKMdI4kUBUAxSwFQmlRlZSXzZ85kitPJlUDEBsFXwRjXlOJ0Mv+mm7SBk6ilHSOJBAVAMUsBUCJi48aNTE9L40i3u8mnw9gP44rG9LQ0bty40epfVaRe2jGSpqYAKGYpAErElJWVcfrkyfQ4HJzqdJq+O8J2GBPZehwOTp88WVc0SszRjpE0FQVAMUsBUCKupKSEN0+fzmSXi7lJSVwB8AOA5fVs0MoBvg/j5vUDPR62crk4e8YM7ty50+pfSeS0acdImoICoJilACjN5ujRo1y+fDnzcnOZmpTERLudA5KTeYPTyXybjfMB5ttsvMHp5IDkZDrtdqYmJTEvN5crVqzQ+1RaFO0YiRkKgGKWAqBYwuv1cvfu3SwsLGRBQQEXLlzIW+fO5cKFC1lQUMDCwkLu3r2bVVVVVpcqElHaMZLToQAoZikAiohECe0YSUMpAIpZCoAiIiIxRgFQzFIAFBERiTEKgGKWAqCIiEiMUQAUsxQARUREYowCoJilACgiIhJjFADFLAVAERGRGKMAKGYpAIqIiMQYBUAxSwFQREQkxigAilkKgCIiIjFGAVDMUgAUERGJMQqAYpYCoIiISIxRABSzFABFRERijAKgmKUAKCIiEmMUAMUsBUAREZEYowAoZikAioiIxBgFQDFLAVBERCTGKACKWQqAIiIiMUYBUMxSABQREYkxCoBilgKgiIhIjFEAFLMUAEVERGKMAqCYpQAoIiISYxQAxSwFQBERkRijAChmKQCKiIjEGAVAMUsBUEREJMYoAIpZCoAiIiIxRgFQzFIAFBERiTEKgGKWAqCIiEiMUQBs+SYA+AeA4wD+F8CV9Sy/FMBOAEcBHATwPID0MMsrAIqIiMQYBcCWbRCAEwDGA0gAcBWAHwGcH+Y1DwDIBuCA8aZ4DsCOMMsrAIZRXFxsdQlRS31TN/VNaOqXuqlv6qa+CU0BsGVbDeBPQY+9BGBVI75HfwBeAKl1PK8AGMa8efOsLiFqqW/qpr4JTf1SN/VN3dQ3oSkAtmwfAvi3oMfuAvB+I77HHQD2hnleATAMrXjqpr6pm/omNPVL3dQ3dVPfhKYAGJv+C0AVjCNzVSHaX3zL7QEwK+i1NwMobeDPGQ7gGIARYZZJAcADBw7w6NGjakEtPz/f8hqitalv1DfqF/WN+sa6duDAAQXAGJQE4IwwrbVvOTNHAEcDOAJgbD3LdYbxBlJTU1NTU1OLvdYZ0uKsBrA+6LGGjAGcCCP8DW/Az7DBePOkqKmpqampqcVU6wxjOy4tzCAYV/2Og3FV79UwpoMJdxXwHADfARgS8epEREREJCKuhjEP4I8APoYxJUygXQDuDPi6CkA5gO997ZjvXwVCERERERERERGReBHpu4vEkiUwfqdjAP4KoE+YZdvAmFi7DMZp9jWoe37FlqChfdMewNMwphv63vfvgwASI16hdRrzvqnWGsA+GFf/2yNVWBRobN/cCGP98gOAQwAejWBtVmtM3+TAmBHiOwBfw5gT9uwI12eFawH8N4ztS0M+G/G0Hm5M38TjelgaqTnuLhIrFgLYD6A3ABeMD8vnMK7SDuV1AG8CaAvjau23AGyIfJmWaEzfdIMxDKGb7+tzAJQA+H3ky7REY9831f4AYCNadgBsbN/cDuCfAC6A0SceAFmRL9MSjekbG4CvYHyGHACSAbwA4G/NUmnzGgEj6ExFwz4b8bQebkzfxNt6WE5Dc9xdJFbshXHRTLUEGCvdiSGWPRvG+Mq+AY+d53uspRwNDdSYvgnlX9EydhJCOZ2+GQPgfwBcgpYdABvTN61hHAm7vBnqigaN6Zs2MN4n/QIeuwLGWZuW6mLU/9mIt/VwtYb0TSgteT0sp+FDRP7uIrEgBcZKY1DQ428A+F2I5cfCOFIa7CSMORdbksb2TSivwzji1dKcTt+0g3HqtxdOf0UeCxrbN6Ng9MV8GJPbH4JxhPS8CNZoldN53yzzNQ+MQLgOwB8jVWAUaMhnI57Ww4FOd73RUtfDEuS/ED13F4kF6TD6pWfQ44UAVoZYfhKAL0M8fgjA9U1bmuUa2zfBFsEY53RWE9cVDU6nb16AsZMFtOwA2Ni+mehbfiuAjjBOi/47gC9wajL8luJ03jcXwZj5oQJAJYyd9PaRKjAKNOSzEU/r4UCns95oyethCRJNdxeJBToCWDczRwDvgzHO6WcRqCsaNLZvrgOwHadW3MNgrMgTIlSflRrbN2N8y48MeMwO4zTnqEgUaKHG9s3PYEznNQuAE8ZRwCUwduA9kSvTUjoCWLfGBsCWvh6W09QcdxeJFaHG5HyNuscAelFz7En1WMiWOPakMX1TbQWMI8kZEawrGjSmb/4LxhHzw75WBiMIfA1gcmTLtERj+qb6qNjIoOVbYgAEGtc3V8FY3wZqDaO/BkakOus1dAxgPK2HqzUmAMbLelhOg+4ucsoCGGOz+sDYq14K4ADqvmLxNQDFMMZ0pcG4+uzliFdpjcb0TQKMK8P/H4Azm6k+KzWmb1JhnIKpbhNwamPVEo/kNPYz9ScY06F0wKkrYw8AaBXhOq3QmL45G8Z6eQaMz5cbQAGM6UBi/eK7YHYYf/uRMD4bSb6v67q9WTythxvTN/G2HpbTpLuLnLIYxpiSH1BzXq4MGL9n4O/YBsCzMI7iHIExIDulmeq0wmI0rG8ugrFy+hG13yMt1WI0/H0TqCWPAay2GA3vm1YAnoKxg3kYQBGMaVJaqsVoeN8MB/AujL751rf80OYps1ndgFPj170B/78IWg83pm/icT0sIiIiIiIiIiIiIiIiIiIiIiIiIiIiIiIiIiIiIiIiIiIiIiIiIiIiIiIiIiIiIiIiIiIiIiIiIiIiIiIiIiIiIiIiIiIiIiIiIiIiIiIiIiIiIiIiIiIiIiIiIiIiIiIiIiIiIiIiIiIiIiIiIiIiIiIiIiIiIiIiIiIiIiIiIiIiIiIiIiIiIiIiIiIiIiIiIiIiIiIiIiIiIiIiIiIiIiIiIiIiIiIilvv/WvUo5zWXWw8AAAAASUVORK5CYII=\">"
      ],
      "text/plain": [
       "<IPython.core.display.HTML object>"
      ]
     },
     "metadata": {},
     "output_type": "display_data"
    }
   ],
   "source": [
    "%matplotlib notebook\n",
    "networkx.draw_networkx(new_graph,arrows=True,\n",
    "                       labels={node:rect_graph.node_descriptions[index] for index, \n",
    "                               node in enumerate(rect_graph.node_names)},node_size=1500,font_size=10)\n"
   ]
  },
  {
   "cell_type": "code",
   "execution_count": 7,
   "metadata": {
    "collapsed": true
   },
   "outputs": [],
   "source": [
    "def html_file_to_pandas(html_file_name):\n",
    "    in_file=open(html_file_name,'r')\n",
    "    pandas_data_frame=pandas.read_html(in_file,header=0)\n",
    "    return pandas_data_frame"
   ]
  },
  {
   "cell_type": "code",
   "execution_count": 8,
   "metadata": {
    "collapsed": false
   },
   "outputs": [
    {
     "ename": "ImportError",
     "evalue": "lxml not found, please install it",
     "output_type": "error",
     "traceback": [
      "\u001b[1;31m---------------------------------------------------------------------------\u001b[0m",
      "\u001b[1;31mImportError\u001b[0m                               Traceback (most recent call last)",
      "\u001b[1;32m<ipython-input-8-b6bbbf59ee73>\u001b[0m in \u001b[0;36m<module>\u001b[1;34m()\u001b[0m\n\u001b[1;32m----> 1\u001b[1;33m \u001b[0mdf\u001b[0m\u001b[1;33m=\u001b[0m\u001b[0mhtml_file_to_pandas\u001b[0m\u001b[1;33m(\u001b[0m\u001b[1;34m\"test.html\"\u001b[0m\u001b[1;33m)\u001b[0m\u001b[1;33m\u001b[0m\u001b[0m\n\u001b[0m",
      "\u001b[1;32m<ipython-input-7-10f361e0ed49>\u001b[0m in \u001b[0;36mhtml_file_to_pandas\u001b[1;34m(html_file_name)\u001b[0m\n\u001b[0;32m      1\u001b[0m \u001b[1;32mdef\u001b[0m \u001b[0mhtml_file_to_pandas\u001b[0m\u001b[1;33m(\u001b[0m\u001b[0mhtml_file_name\u001b[0m\u001b[1;33m)\u001b[0m\u001b[1;33m:\u001b[0m\u001b[1;33m\u001b[0m\u001b[0m\n\u001b[0;32m      2\u001b[0m     \u001b[0min_file\u001b[0m\u001b[1;33m=\u001b[0m\u001b[0mopen\u001b[0m\u001b[1;33m(\u001b[0m\u001b[0mhtml_file_name\u001b[0m\u001b[1;33m,\u001b[0m\u001b[1;34m'r'\u001b[0m\u001b[1;33m)\u001b[0m\u001b[1;33m\u001b[0m\u001b[0m\n\u001b[1;32m----> 3\u001b[1;33m     \u001b[0mpandas_data_frame\u001b[0m\u001b[1;33m=\u001b[0m\u001b[0mpandas\u001b[0m\u001b[1;33m.\u001b[0m\u001b[0mread_html\u001b[0m\u001b[1;33m(\u001b[0m\u001b[0min_file\u001b[0m\u001b[1;33m,\u001b[0m\u001b[0mheader\u001b[0m\u001b[1;33m=\u001b[0m\u001b[1;36m0\u001b[0m\u001b[1;33m)\u001b[0m\u001b[1;33m\u001b[0m\u001b[0m\n\u001b[0m\u001b[0;32m      4\u001b[0m     \u001b[1;32mreturn\u001b[0m \u001b[0mpandas_data_frame\u001b[0m\u001b[1;33m\u001b[0m\u001b[0m\n",
      "\u001b[1;32mC:\\Anaconda2\\lib\\site-packages\\pandas\\io\\html.pyc\u001b[0m in \u001b[0;36mread_html\u001b[1;34m(io, match, flavor, header, index_col, skiprows, attrs, parse_dates, tupleize_cols, thousands, encoding)\u001b[0m\n\u001b[0;32m    868\u001b[0m     \u001b[0m_validate_header_arg\u001b[0m\u001b[1;33m(\u001b[0m\u001b[0mheader\u001b[0m\u001b[1;33m)\u001b[0m\u001b[1;33m\u001b[0m\u001b[0m\n\u001b[0;32m    869\u001b[0m     return _parse(flavor, io, match, header, index_col, skiprows,\n\u001b[1;32m--> 870\u001b[1;33m                   parse_dates, tupleize_cols, thousands, attrs, encoding)\n\u001b[0m",
      "\u001b[1;32mC:\\Anaconda2\\lib\\site-packages\\pandas\\io\\html.pyc\u001b[0m in \u001b[0;36m_parse\u001b[1;34m(flavor, io, match, header, index_col, skiprows, parse_dates, tupleize_cols, thousands, attrs, encoding)\u001b[0m\n\u001b[0;32m    720\u001b[0m     \u001b[0mretained\u001b[0m \u001b[1;33m=\u001b[0m \u001b[0mNone\u001b[0m\u001b[1;33m\u001b[0m\u001b[0m\n\u001b[0;32m    721\u001b[0m     \u001b[1;32mfor\u001b[0m \u001b[0mflav\u001b[0m \u001b[1;32min\u001b[0m \u001b[0mflavor\u001b[0m\u001b[1;33m:\u001b[0m\u001b[1;33m\u001b[0m\u001b[0m\n\u001b[1;32m--> 722\u001b[1;33m         \u001b[0mparser\u001b[0m \u001b[1;33m=\u001b[0m \u001b[0m_parser_dispatch\u001b[0m\u001b[1;33m(\u001b[0m\u001b[0mflav\u001b[0m\u001b[1;33m)\u001b[0m\u001b[1;33m\u001b[0m\u001b[0m\n\u001b[0m\u001b[0;32m    723\u001b[0m         \u001b[0mp\u001b[0m \u001b[1;33m=\u001b[0m \u001b[0mparser\u001b[0m\u001b[1;33m(\u001b[0m\u001b[0mio\u001b[0m\u001b[1;33m,\u001b[0m \u001b[0mcompiled_match\u001b[0m\u001b[1;33m,\u001b[0m \u001b[0mattrs\u001b[0m\u001b[1;33m,\u001b[0m \u001b[0mencoding\u001b[0m\u001b[1;33m)\u001b[0m\u001b[1;33m\u001b[0m\u001b[0m\n\u001b[0;32m    724\u001b[0m \u001b[1;33m\u001b[0m\u001b[0m\n",
      "\u001b[1;32mC:\\Anaconda2\\lib\\site-packages\\pandas\\io\\html.pyc\u001b[0m in \u001b[0;36m_parser_dispatch\u001b[1;34m(flavor)\u001b[0m\n\u001b[0;32m    679\u001b[0m     \u001b[1;32melse\u001b[0m\u001b[1;33m:\u001b[0m\u001b[1;33m\u001b[0m\u001b[0m\n\u001b[0;32m    680\u001b[0m         \u001b[1;32mif\u001b[0m \u001b[1;32mnot\u001b[0m \u001b[0m_HAS_LXML\u001b[0m\u001b[1;33m:\u001b[0m\u001b[1;33m\u001b[0m\u001b[0m\n\u001b[1;32m--> 681\u001b[1;33m             \u001b[1;32mraise\u001b[0m \u001b[0mImportError\u001b[0m\u001b[1;33m(\u001b[0m\u001b[1;34m\"lxml not found, please install it\"\u001b[0m\u001b[1;33m)\u001b[0m\u001b[1;33m\u001b[0m\u001b[0m\n\u001b[0m\u001b[0;32m    682\u001b[0m     \u001b[1;32mreturn\u001b[0m \u001b[0m_valid_parsers\u001b[0m\u001b[1;33m[\u001b[0m\u001b[0mflavor\u001b[0m\u001b[1;33m]\u001b[0m\u001b[1;33m\u001b[0m\u001b[0m\n\u001b[0;32m    683\u001b[0m \u001b[1;33m\u001b[0m\u001b[0m\n",
      "\u001b[1;31mImportError\u001b[0m: lxml not found, please install it"
     ]
    }
   ],
   "source": [
    "df=html_file_to_pandas(\"test.html\")"
   ]
  },
  {
   "cell_type": "code",
   "execution_count": 9,
   "metadata": {
    "collapsed": false
   },
   "outputs": [
    {
     "ename": "NameError",
     "evalue": "name 'df' is not defined",
     "output_type": "error",
     "traceback": [
      "\u001b[1;31m---------------------------------------------------------------------------\u001b[0m",
      "\u001b[1;31mNameError\u001b[0m                                 Traceback (most recent call last)",
      "\u001b[1;32m<ipython-input-9-6a4642092433>\u001b[0m in \u001b[0;36m<module>\u001b[1;34m()\u001b[0m\n\u001b[1;32m----> 1\u001b[1;33m \u001b[0mdf\u001b[0m\u001b[1;33m.\u001b[0m\u001b[0mcolumns\u001b[0m\u001b[1;33m\u001b[0m\u001b[0m\n\u001b[0m",
      "\u001b[1;31mNameError\u001b[0m: name 'df' is not defined"
     ]
    }
   ],
   "source": [
    "df.columns\n"
   ]
  },
  {
   "cell_type": "code",
   "execution_count": 735,
   "metadata": {
    "collapsed": false
   },
   "outputs": [
    {
     "ename": "AttributeError",
     "evalue": "'list' object has no attribute 'columns'",
     "output_type": "error",
     "traceback": [
      "\u001b[1;31m---------------------------------------------------------------------------\u001b[0m",
      "\u001b[1;31mAttributeError\u001b[0m                            Traceback (most recent call last)",
      "\u001b[1;32m<ipython-input-735-6a4642092433>\u001b[0m in \u001b[0;36m<module>\u001b[1;34m()\u001b[0m\n\u001b[1;32m----> 1\u001b[1;33m \u001b[0mdf\u001b[0m\u001b[1;33m.\u001b[0m\u001b[0mcolumns\u001b[0m\u001b[1;33m\u001b[0m\u001b[0m\n\u001b[0m",
      "\u001b[1;31mAttributeError\u001b[0m: 'list' object has no attribute 'columns'"
     ]
    }
   ],
   "source": [
    "df.columns\n"
   ]
  },
  {
   "cell_type": "code",
   "execution_count": 10,
   "metadata": {
    "collapsed": true
   },
   "outputs": [],
   "source": [
    "import lxml"
   ]
  },
  {
   "cell_type": "code",
   "execution_count": null,
   "metadata": {
    "collapsed": true
   },
   "outputs": [],
   "source": []
  }
 ],
 "metadata": {
  "kernelspec": {
   "display_name": "Python 2",
   "language": "python",
   "name": "python2"
  },
  "language_info": {
   "codemirror_mode": {
    "name": "ipython",
    "version": 2
   },
   "file_extension": ".py",
   "mimetype": "text/x-python",
   "name": "python",
   "nbconvert_exporter": "python",
   "pygments_lexer": "ipython2",
   "version": "2.7.12"
  }
 },
 "nbformat": 4,
 "nbformat_minor": 0
}
