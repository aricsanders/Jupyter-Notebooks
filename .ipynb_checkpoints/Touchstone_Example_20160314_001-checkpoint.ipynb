{
 "cells": [
  {
   "cell_type": "markdown",
   "metadata": {},
   "source": [
    "# Documenting the touchstone format\n",
    "[Touchstone][touchstone] is a series of formats for saving s-parameters and related data for network analyzer measurements. It is an ascii based format that can have several extensions associated with it. For a number of given number of ports it may have the file extension .snp where n is the number of ports. The most common extension is s2p, but other port numbers can exist and .ts can also represent a touchstone file of unknown port number.\n",
    "\n",
    "From the app-note on touchstone:\n",
    ">\"Touchstone files are ASCII text files in which frequency dependent data appears line by line, one line per data point, in increasing order of frequency. Each frequency line consists of a frequency value and one or more pairs of values for the magnitude and phase of each S-parameter at that frequency. Values are separated by one or more spaces, tabs or commands. Comments are preceded by an exclamation mark (!). Comments can appear on separate lines, or after the data on any line or lines. Extra spaces are ignored.\" \n",
    "\n",
    "\n",
    "\n",
    "[touchstone]:http://cp.literature.agilent.com/litweb/pdf/genesys200801/sim/linear_sim/sparams/touchstone_file_format.htm"
   ]
  },
  {
   "cell_type": "markdown",
   "metadata": {},
   "source": [
    "## Extracting a Data Row Using Regular Expressions\n",
    "\n",
    "for a 2 port row we would have something like:"
   ]
  },
  {
   "cell_type": "code",
   "execution_count": 21,
   "metadata": {
    "collapsed": false
   },
   "outputs": [
    {
     "name": "stdout",
     "output_type": "stream",
     "text": [
      "{'argS12': '180.00', 'argS11': '.001', 'magS11': '.1', 'argS22': '.001', 'argS21': '180.00', 'magS12': '.9', 'Frequency': '10.0e10', 'magS21': '.9', 'magS22': '.1'}\n"
     ]
    }
   ],
   "source": [
    "import re\n",
    "test_row_string='10.0e10  .1 .001 .9 180.00 .9 180.00\\t.1 .001\\n'\n",
    "num_match=r'[+-]?(\\d+(\\.\\d*)?|\\.\\d+)([eE][+-]?\\d+)?'\n",
    "names=[\"Frequency\",\"magS11\",\"argS11\",\"magS21\",\"argS21\",\"magS12\",\"argS12\",\"magS22\",\"argS22\"]\n",
    "row_regex=\"\"\n",
    "for index,name in enumerate(names):\n",
    "    if index == len(names)-1:\n",
    "        row_regex=row_regex+'(?P<%s>{0})'%name\n",
    "    else:\n",
    "        row_regex=row_regex+'(?P<%s>{0})[\\s]+'%name\n",
    "row_regex=row_regex.format(num_match)\n",
    "#print row_regex\n",
    "row_match=re.compile(row_regex)\n",
    "match=re.match(row_match,test_row_string)\n",
    "print match.groupdict()"
   ]
  },
  {
   "cell_type": "code",
   "execution_count": 17,
   "metadata": {
    "collapsed": false
   },
   "outputs": [
    {
     "data": {
      "text/plain": [
       "100000000000.0"
      ]
     },
     "execution_count": 17,
     "metadata": {},
     "output_type": "execute_result"
    }
   ],
   "source": [
    "float(match.groupdict()['Frequency'])"
   ]
  },
  {
   "cell_type": "markdown",
   "metadata": {},
   "source": [
    "Now this matches a single row of data in the MA format. A similar formatter string can be used to match the DB and RI types."
   ]
  },
  {
   "cell_type": "markdown",
   "metadata": {},
   "source": [
    "## Extracting a comment using regular expressions"
   ]
  },
  {
   "cell_type": "code",
   "execution_count": 19,
   "metadata": {
    "collapsed": false
   },
   "outputs": [
    {
     "name": "stdout",
     "output_type": "stream",
     "text": [
      "{'Comment': ' This is a comment'}\n",
      "{'Comment': ' This is also a comment'}\n"
     ]
    }
   ],
   "source": [
    "COMMENT_PATTERN=\"!(?P<Comment>.+)\\n\"\n",
    "test_comment=\"! This is a comment\\n\"\n",
    "match=re.search(COMMENT_PATTERN,test_comment)\n",
    "print match.groupdict()\n",
    "test_comment_2=test_row_string+\"! This is also a comment\\n\"\n",
    "match=re.search(COMMENT_PATTERN,test_comment_2)\n",
    "print match.groupdict()"
   ]
  },
  {
   "cell_type": "markdown",
   "metadata": {},
   "source": [
    "## Extracting the option row values using regular expressions"
   ]
  },
  {
   "cell_type": "code",
   "execution_count": 30,
   "metadata": {
    "collapsed": false
   },
   "outputs": [
    {
     "name": "stdout",
     "output_type": "stream",
     "text": [
      "{'Reference_Resistance': '50.0', 'Parameter': 'S', 'Frequency_Units': 'GHZ', 'Format': 'RI'}\n"
     ]
    }
   ],
   "source": [
    "OPTION_LINE_PATTERN=\"\"\"#[\\s]+(?P<Frequency_Units>\\w+)[\\s]+(?P<Parameter>\\w+)[\\s]+(?P<Format>\\w+)[\\s]+R[\\s]+(?P<Reference_Resistance>[+-]?(\\d+(\\.\\d*)?|\\.\\d+)([eE][+-]?\\d+)?)\"\"\"\n",
    "test_option_line=\"# GHZ S RI R 50.0 \"\n",
    "match=re.search(OPTION_LINE_PATTERN,test_option_line)\n",
    "print match.groupdict()"
   ]
  },
  {
   "cell_type": "markdown",
   "metadata": {},
   "source": [
    "## Importing a .s2p file line by line\n"
   ]
  }
 ],
 "metadata": {
  "kernelspec": {
   "display_name": "Python 2",
   "language": "python",
   "name": "python2"
  },
  "language_info": {
   "codemirror_mode": {
    "name": "ipython",
    "version": 2
   },
   "file_extension": ".py",
   "mimetype": "text/x-python",
   "name": "python",
   "nbconvert_exporter": "python",
   "pygments_lexer": "ipython2",
   "version": "2.7.11"
  }
 },
 "nbformat": 4,
 "nbformat_minor": 0
}
