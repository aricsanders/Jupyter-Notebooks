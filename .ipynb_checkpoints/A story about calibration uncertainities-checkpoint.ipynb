{
 "cells": [
  {
   "cell_type": "markdown",
   "metadata": {},
   "source": [
    "# A story about calibration and uncertainity in measurements. \n",
    "This series was inspired by a question that <a href=\"mailto:paul.hale@nist.gov\">Paul Hale</a> asked during interviews for people to work on the <a href=\"http://www.nist.gov/ctl/rf-technology/related-software.cfm\">Microwave Uncertainity Framework</a>. The original question was \n",
    "> You measure the weight of a rock at different times and you find that it is decreasing, how are you sure it is actually decreasing?\n",
    "\n",
    "This is a question that leads one to think about how good your measurements are, or what is the uncertaininty in the measurement is and if the change in mass is actually significant. \n",
    "So I will begin with the story with our experimenter, Homer, and his quest to find out if the mass of the rock is changing. Homer begins the experiment with a scale, and does what we would all do, measures the mass of the rock. The scale returns a measured mass. We call this measured mass M, and each time he makes a measurement we will add a number at the bottom to indicate it is another measurement. So his very first try will be M$_1$, and if he decides to measure it again it will be M$_2$, the third one will be M$_3$ and so on. \n",
    "\n",
    "Homer's first thought is that this is a really easy task: just put the rock on the scale at different times and write down the values. So he starts and the scale reads 102.30 grams, or M$_1$=102.30 grams. He waits a prescribed time, say 1 day and does it again. This time he gets 101.20 grams, or M$_2$=101.20 grams. He does this for a third day and gets M$_3$=101.00 grams. He is estatic and creates a plot in python showing the rocks mass as a function of time. "
   ]
  },
  {
   "cell_type": "code",
   "execution_count": 2,
   "metadata": {
    "collapsed": false
   },
   "outputs": [
    {
     "data": {
      "image/png": "[encoded data removed]",
      "text/plain": [
       "<matplotlib.figure.Figure at 0x49e4910>"
      ]
     },
     "metadata": {},
     "output_type": "display_data"
    }
   ],
   "source": [
    "# Magic to put the plot directly in the worksheet\n",
    "%matplotlib inline \n",
    "import matplotlib.pyplot as plt # standard way to import mathplotlib\n",
    "mass_rock=[102.30,101.20,101.00]#mass of the rock in grams\n",
    "time_of_measurement=[0,1,2] # day of measurement\n",
    "plt.plot(time_of_measurement,mass_rock)\n",
    "plt.show()"
   ]
  },
  {
   "cell_type": "markdown",
   "metadata": {},
   "source": [
    "At this point Homer is ready to fit the mass as a function of day with a best fit line and declare that the mass of the rock is clearly decreasing as function of time. However on day three, or during his third measurement, he notices as he takes the rock of the scale that the scale does not read 0.00 grams, in fact it reads 1.30 grams and the last decimal is flickering a bit from 1.34 to 1.28 grams. Homer reads the instructions for the scale and realizes he has not zeroed it out. Since Homer has spent three days on this experiment, he is very reluctant to press the zero button. Instead, he reasons that he can just right down the value without the rock and subtract it from his original values and he gets to keep the data he has already taken. At this point, Homer becomes a little *uncertain*. What value should he write down to subtract from the originals? Should it be 1.28 grams, 1.30 grams, 1.34 grams, or something in the middle?\n",
    "Homer finally gives up and takes a break. During this break, he goes to the closest coffee shop, *insert clever name here*, and takes a piece of paper and pen and thinks about the problem for a bit. During his pondering, a friend of his Adam, says hi and sits down. Homer explains the task to Adam, and Adam being a buisness analyst, comes up with a solution immediately. He tells Homer to simply write down the number a few times as best he can and take the mean. In addition, Adam says \"make sure you take the standard deviation of the numbers, somebody always asks\". When pressed for why, Adam just says that he always has to have it in his spreadsheets for his bosses and he is not sure why.    "
   ]
  },
  {
   "cell_type": "markdown",
   "metadata": {},
   "source": [
    "_____\n",
    "<p style=\"color:blue\"> *At this point, Homer has inadvertently developed a model for how the experiment works in his mind. Simply put, his model is that when nothing sits on the scale, it should read zero all the time.*</p>\n",
    "____"
   ]
  },
  {
   "cell_type": "markdown",
   "metadata": {},
   "source": [
    "Returning to the rock measurement, Homer decides to take action and write down the readings on the scale 100 times with out anything on it. Having used up M for the original measurements, he decides to call these measurements Z$_1$, Z$_2$, Z$_3$, etc. all the way up to Z$_{100}$, he is quite proud of himself for the choice of the letter Z (for Zero). He writes these into a python list so that he simply take the mean. "
   ]
  },
  {
   "cell_type": "code",
   "execution_count": 28,
   "metadata": {
    "collapsed": false
   },
   "outputs": [
    {
     "name": "stdout",
     "output_type": "stream",
     "text": [
      "The mean is 1.2933\n",
      "The standard deviation is 0.0306285814232\n"
     ]
    }
   ],
   "source": [
    "Z_list=[1.23, 1.3, 1.34, 1.29, 1.22, 1.28, 1.29, 1.26, 1.25, 1.35, 1.31, 1.28, 1.27, 1.28, 1.32, 1.34, 1.29, 1.27,\n",
    "        1.24, 1.27, 1.31, 1.28, 1.31, 1.27, 1.29, 1.32, 1.25, 1.35, 1.28, 1.32, 1.3, 1.26, 1.31, 1.28, 1.3, 1.34, \n",
    "        1.3, 1.3, 1.28, 1.32, 1.33, 1.29, 1.29, 1.32, 1.27, 1.2, 1.29, 1.3, 1.29, 1.26, 1.3, 1.32, 1.28, 1.29, 1.33, \n",
    "        1.26, 1.26, 1.26, 1.31, 1.35, 1.27, 1.28, 1.31, 1.27, 1.3, 1.22, 1.31, 1.3, 1.28, 1.29, 1.28, 1.32, 1.32, 1.32,\n",
    "        1.31, 1.28, 1.25, 1.32, 1.3, 1.3, 1.32, 1.35, 1.36, 1.33, 1.3, 1.34, 1.27, 1.3, 1.3, 1.27, 1.24, 1.31, 1.3, \n",
    "        1.32, 1.31, 1.29, 1.33, 1.27, 1.28, 1.26]\n",
    "import numpy as np #a numerical package to do the \n",
    "Z_array=np.array(Z_list)\n",
    "print 'The mean is %s'%np.mean(Z_array)\n",
    "print 'The standard deviation is %s'%np.std(Z_array)\n"
   ]
  },
  {
   "cell_type": "markdown",
   "metadata": {},
   "source": [
    "___\n",
    "<p style=\"color:blue\"> *Upon close inspection, it is clear that Homer's model for how the experiment works is violated. If you subtract 1.29 from each Z measurement, the answer is not always zero. *</p>\n",
    "___"
   ]
  },
  {
   "cell_type": "markdown",
   "metadata": {},
   "source": [
    "Now Homer wants to subtract this value, 1.29 grams (which he calls Z$_{mean}$, from all of his measurements before reporting them. So his new measurements are \n",
    "[M$_1$-Z$_{mean}$,M$_2$-Z$_{mean}$,M$_3$-Z$_{mean}$]\n",
    "It is finally time to plot and fit the plot, so once again he is ready to conclude that mass is decreasing."
   ]
  },
  {
   "cell_type": "code",
   "execution_count": 31,
   "metadata": {
    "collapsed": false
   },
   "outputs": [
    {
     "data": {
      "image/png": "[encoded data removed]",
      "text/plain": [
       "<matplotlib.figure.Figure at 0x4be5bb0>"
      ]
     },
     "metadata": {},
     "output_type": "display_data"
    }
   ],
   "source": [
    "mass_rock_zero_subtracted=[mass-1.29 for mass in mass_rock]\n",
    "plt.plot(time_of_measurement,mass_rock_zero_subtracted)\n",
    "plt.show()"
   ]
  },
  {
   "cell_type": "markdown",
   "metadata": {},
   "source": [
    "However, Homer begins thinking: \" if taking a few measurements and reporting the mean is better for the zero calculation, then why not for the measurement itself? I can measure the rock repeatedly and report the mean\"\n",
    "\n",
    "So M$_4$ is going to really be a mean of numbers taken on the fourth day really close to each other. This creates a small dilema in Homer's mind about when and what should be subtracted to zero out the scale. Should he subtract his mean zero (Z$_{mean}$) from everything ? Or should he take the rock off the scale, write down the number, put the rock back on the scale, write down that number and subtract the two?\n",
    "Does it matter?\n",
    "\n",
    "Being taxed by the possibilities, Homer returns to the coffee shop to get a latte. He is sure to take his pen and a sheet of paper if anything comes to him. Sitting at his table sipping his latte, he asks himself some questions:\n",
    "Is taking a lot of measurements and averaging them together better than taking one?\n",
    "What if the scale changes with time? Will the zero change with time also? How can I be sure that the scale reads the right mass? If the rock is really getting less massive with time where is it going?\n",
    "\n",
    "\n"
   ]
  },
  {
   "cell_type": "code",
   "execution_count": 24,
   "metadata": {
    "collapsed": false
   },
   "outputs": [
    {
     "name": "stdout",
     "output_type": "stream",
     "text": [
      "[ 1.23  1.3   1.34  1.29  1.22  1.28  1.29  1.26  1.25  1.35  1.31  1.28\n",
      "  1.27  1.28  1.32  1.34  1.29  1.27  1.24  1.27  1.31  1.28  1.31  1.27\n",
      "  1.29  1.32  1.25  1.35  1.28  1.32  1.3   1.26  1.31  1.28  1.3   1.34\n",
      "  1.3   1.3   1.28  1.32  1.33  1.29  1.29  1.32  1.27  1.2   1.29  1.3\n",
      "  1.29  1.26  1.3   1.32  1.28  1.29  1.33  1.26  1.26  1.26  1.31  1.35\n",
      "  1.27  1.28  1.31  1.27  1.3   1.22  1.31  1.3   1.28  1.29  1.28  1.32\n",
      "  1.32  1.32  1.31  1.28  1.25  1.32  1.3   1.3   1.32  1.35  1.36  1.33\n",
      "  1.3   1.34  1.27  1.3   1.3   1.27  1.24  1.31  1.3   1.32  1.31  1.29\n",
      "  1.33  1.27  1.28  1.26]\n",
      "[1.23, 1.3, 1.34, 1.29, 1.22, 1.28, 1.29, 1.26, 1.25, 1.35, 1.31, 1.28, 1.27, 1.28, 1.32, 1.34, 1.29, 1.27, 1.24, 1.27, 1.31, 1.28, 1.31, 1.27, 1.29, 1.32, 1.25, 1.35, 1.28, 1.32, 1.3, 1.26, 1.31, 1.28, 1.3, 1.34, 1.3, 1.3, 1.28, 1.32, 1.33, 1.29, 1.29, 1.32, 1.27, 1.2, 1.29, 1.3, 1.29, 1.26, 1.3, 1.32, 1.28, 1.29, 1.33, 1.26, 1.26, 1.26, 1.31, 1.35, 1.27, 1.28, 1.31, 1.27, 1.3, 1.22, 1.31, 1.3, 1.28, 1.29, 1.28, 1.32, 1.32, 1.32, 1.31, 1.28, 1.25, 1.32, 1.3, 1.3, 1.32, 1.35, 1.36, 1.33, 1.3, 1.34, 1.27, 1.3, 1.3, 1.27, 1.24, 1.31, 1.3, 1.32, 1.31, 1.29, 1.33, 1.27, 1.28, 1.26]\n"
     ]
    }
   ],
   "source": [
    "import random\n",
    "import numpy as np\n",
    "Z_list=np.array([1.30 + random.gauss(0,.03) for i in range(100)])\n",
    "print np.array_str(Z_list, precision=2)\n",
    "print(map(lambda x:float(\"{:.2f}\".format(x)),Z_list))\n"
   ]
  }
 ],
 "metadata": {
  "kernelspec": {
   "display_name": "Python 2",
   "language": "python",
   "name": "python2"
  },
  "language_info": {
   "codemirror_mode": {
    "name": "ipython",
    "version": 2
   },
   "file_extension": ".py",
   "mimetype": "text/x-python",
   "name": "python",
   "nbconvert_exporter": "python",
   "pygments_lexer": "ipython2",
   "version": "2.7.11"
  }
 },
 "nbformat": 4,
 "nbformat_minor": 0
}
