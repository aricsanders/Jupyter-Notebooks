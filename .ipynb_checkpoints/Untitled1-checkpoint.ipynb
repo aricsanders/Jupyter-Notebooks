{
 "cells": [
  {
   "cell_type": "code",
   "execution_count": 2,
   "metadata": {
    "collapsed": true
   },
   "outputs": [],
   "source": [
    "from IPython.display import HTML\n",
    "from IPython.display import display"
   ]
  },
  {
   "cell_type": "code",
   "execution_count": null,
   "metadata": {
    "collapsed": true
   },
   "outputs": [],
   "source": [
    "from pyMeasure.Code.DataHandlers.XMLModels import *\n",
    "xml_sheet=XMLBase()"
   ]
  },
  {
   "cell_type": "code",
   "execution_count": 5,
   "metadata": {
    "collapsed": false
   },
   "outputs": [
    {
     "data": {
      "text/html": [
       "<!DOCTYPE html>\n",
       "<html lang=\"en\">\n",
       "<head>\n",
       "        <title>User test</title>\n",
       "\n",
       "\n",
       "    <!--<meta name=\"viewport\" content=\"width=device-width, initial-scale=1\"/>-->\n",
       "    <!-- It is important to put the bootstrap scripts in the head -->\n",
       "  <link rel=\"stylesheet\" href=\"http://maxcdn.bootstrapcdn.com/bootstrap/3.3.5/css/bootstrap.min.css\"/>\n",
       "  <script src=\"https://ajax.googleapis.com/ajax/libs/jquery/1.11.3/jquery.min.js\"></script>\n",
       "  <script src=\"http://maxcdn.bootstrapcdn.com/bootstrap/3.3.5/js/bootstrap.min.js\"></script>\n",
       "\n",
       "    <!-- stylesheet -->\n",
       "    <link href=\"./literallycanvas-0.4.11/css/literallycanvas.css\" rel=\"stylesheet\">\n",
       "\n",
       "    <!-- dependency: React.js -->\n",
       "    <script src=\"//cdnjs.cloudflare.com/ajax/libs/react/0.13.3/react-with-addons.js\"></script>\n",
       "\n",
       "    <!-- Literally Canvas -->\n",
       "    <script src=\"./literallycanvas-0.4.11/js/literallycanvas.js\"></script>\n",
       "  </head>\n",
       "  <body>\n",
       "  <nav class=\"navbar navbar-inverse\" id=\"navbar\">\n",
       "  <div class=\"container-fluid\">\n",
       "    <div class=\"navbar-header\">\n",
       "      <a class=\"navbar-brand\" href=\"/\"><span class=\"badge\">Calnet</span></a>\n",
       "    </div>\n",
       "    <ul class=\"nav navbar-nav\">\n",
       "        <li><a href=\"/Test_App\">Home</a> </li>\n",
       "          <li><a href=\"/Test_App/Files\">Repository</a> </li>\n",
       "        <li><a href=\"/Test_App/Canvas\">Canvas</a> </li>\n",
       "\n",
       "\n",
       "\n",
       "            </ul>\n",
       "      <ul class=\"nav navbar-nav navbar-right\">\n",
       "      <li><a href=\"/accounts/user_info/\"><span class=\"glyphicon glyphicon-user\"></span> Logged in: Test_Site</a></li>\n",
       "      <li><a href=\"/accounts/logout/\"><span class=\"glyphicon glyphicon-log-out\"></span> Logout</a></li>\n",
       "    </ul>\n",
       "\n",
       "\n",
       "\n",
       "\n",
       "      <form class=\"navbar-form navbar-right\" role=\"search\">\n",
       "    <div class=\"form-group\">\n",
       "    <input type=\"text\" class=\"form-control\" placeholder=\"Search\">\n",
       "    </div>\n",
       "    <button type=\"submit\" class=\"btn btn-default\"><span class=\"glyphicon glyphicon-search\"></span></button>\n",
       "    </form>\n",
       "  </div>\n",
       "</nav>\n",
       "  <div class=\"container-fluid\" id=\"content\">\n",
       "    <!-- where the widget goes. you can do CSS to it. -->\n",
       "    <div class=\"literally\"></div>\n",
       "</div>\n",
       "      <div id=\"footer\">\n",
       "\n",
       "        <hr />\n",
       "\n",
       "    </div>\n",
       "    <script>\n",
       "        var lc = LC.init(\n",
       "            document.getElementsByClassName('literally')[0],\n",
       "            {imageURLPrefix:  \"./literallycanvas-0.4.11/img\"}\n",
       "        );\n",
       "    var newImage = new Image()\n",
       "    newImage.src = './img/SVG.svg';\n",
       "    lc.saveShape(LC.createShape('Image', {x: 10, y: 10, image: newImage}));\n",
       "\n",
       "    </script>\n",
       "\n",
       "  </body>\n",
       "\n",
       "</html>"
      ],
      "text/plain": [
       "<IPython.core.display.HTML object>"
      ]
     },
     "metadata": {},
     "output_type": "display_data"
    }
   ],
   "source": [
    "html_file=r'C:\\Users\\sandersa\\PyCharm Projects\\html-examples\\Literally_Canvas_Example_20160316_002.html'\n",
    "in_file=open(html_file,'r')\n",
    "content=in_file.read()\n",
    "in_file.close\n",
    "h=HTML(content)\n",
    "display(h)"
   ]
  }
 ],
 "metadata": {
  "kernelspec": {
   "display_name": "Python 2",
   "language": "python",
   "name": "python2"
  },
  "language_info": {
   "codemirror_mode": {
    "name": "ipython",
    "version": 2
   },
   "file_extension": ".py",
   "mimetype": "text/x-python",
   "name": "python",
   "nbconvert_exporter": "python",
   "pygments_lexer": "ipython2",
   "version": "2.7.11"
  }
 },
 "nbformat": 4,
 "nbformat_minor": 0
}
