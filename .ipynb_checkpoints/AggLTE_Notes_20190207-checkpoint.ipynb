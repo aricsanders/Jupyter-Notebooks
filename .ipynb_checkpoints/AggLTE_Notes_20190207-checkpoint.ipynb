{
 "cells": [
  {
   "cell_type": "markdown",
   "metadata": {},
   "source": [
    "# Aggregate LTE Notes\n",
    "## Max Lees - agglib\n",
    "\n",
    "### Running the wrapper\n",
    "\n",
    "1. Pull Libraries from Gitlab (tukey)\n",
    "2. No shared location (Each user needs a repo)\n",
    "3. Error no module named postprocessing \n",
    "    + The library has Paul's post processing as a sub folder of auto_postprocess - named something else (postprocessing)\n",
    "    + Also Max's non enode b summary\n",
    "\n",
    "`>>python wrapper.py {single enodeb case} False False`\n",
    "\n",
    "False position 1 = email\n",
    "False position 2 = Paul's Parsing\n",
    "\n",
    "### Running the combine percentile\n",
    "<br/>\n",
    "`>>cd data_analysis`\n",
    "<br/>\n",
    "`>>python combine_percentiles.py {round directory}`\n",
    "\n",
    "### Running the create_frankenstein\n",
    "`>> python create_frankenstein_set.py \"input_folder - bad rounds\" \"output folder -new case\"`\n",
    "<br/>\n",
    "\n",
    "### Setting up an environment\n",
    "`>>conda create --name sanders_agg_lte --file d:Tools\\agg_env.txt`\n",
    "<br/>\n",
    "Once the conda environment is made then go to the anaconda prompt \n",
    "`(base) c:\\`\n",
    "<br/>\n",
    "Activate the conda environment\n",
    "<br/>\n",
    "`(base) c: conda activate sanders_agg_lte`\n",
    "<br/>\n",
    "Then use pip to install the following repos\n",
    "<br/>\n",
    "`>>pip install --user -e c:\\users\\sandersa\\Documents\\repos\\agglib`\n",
    "<br/>\n",
    "`>>pip install --user -e c:\\users\\sandersa\\Documents\\repos\\nasctn_math`\n",
    "\n"
   ]
  },
  {
   "cell_type": "code",
   "execution_count": null,
   "metadata": {
    "collapsed": true
   },
   "outputs": [],
   "source": []
  }
 ],
 "metadata": {
  "kernelspec": {
   "display_name": "Python 2",
   "language": "python",
   "name": "python2"
  },
  "language_info": {
   "codemirror_mode": {
    "name": "ipython",
    "version": 2
   },
   "file_extension": ".py",
   "mimetype": "text/x-python",
   "name": "python",
   "nbconvert_exporter": "python",
   "pygments_lexer": "ipython2",
   "version": "2.7.13"
  }
 },
 "nbformat": 4,
 "nbformat_minor": 2
}
