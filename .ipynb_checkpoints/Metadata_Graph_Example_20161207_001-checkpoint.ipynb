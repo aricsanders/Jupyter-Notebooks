{
 "cells": [
  {
   "cell_type": "markdown",
   "metadata": {},
   "source": [
    "# This is an example of an Metadata graph\n",
    "## We assume all metadata can be mapped to effectively a python dictionary, that is a key:value pair\n",
    "1. Python Dictionary\n",
    "2. Two python lists \n",
    "3. HTML metadata pairs\n",
    "4. json\n",
    "5. xml\n",
    "6. pandas.DataFrame \n",
    "7. A header string \n",
    "8. pickled dictionary\n"
   ]
  },
  {
   "cell_type": "code",
   "execution_count": 1,
   "metadata": {
    "collapsed": false
   },
   "outputs": [
    {
     "name": "stdout",
     "output_type": "stream",
     "text": [
      "Importing Code.Utils.Names\n",
      "Importing Code.DataHandlers.NISTModels\n",
      "Importing Code.DataHandlers.GeneralModels\n",
      "Importing Code.DataHandlers.TouchstoneModels\n",
      "Importing Code.DataHandlers.XMLModels\n",
      "Importing Code.DataHandlers.RadiCALModels\n",
      "Importing Code.DataHandlers.ZipModels\n",
      "Importing Code.DataHandlers.Translations\n",
      "Importing Code.DataHandlers.StatistiCALModels\n",
      "Importing Code.DataHandlers.MUFModels\n",
      "Importing Code.Analysis.SParameter\n",
      "Importing Code.InstrumentControl.Instruments\n",
      "Importing Code.InstrumentControl.Experiments\n"
     ]
    }
   ],
   "source": [
    "from pyMeasure.Code.DataHandlers.GraphModels import Graph\n",
    "from pyMeasure import *\n",
    "import json\n",
    "import re\n",
    "import pickle\n",
    "import pandas\n",
    "from ipywidgets import *\n",
    "from scipy.io import savemat,loadmat\n"
   ]
  },
  {
   "cell_type": "code",
   "execution_count": 2,
   "metadata": {
    "collapsed": true
   },
   "outputs": [],
   "source": [
    "test_dictionary={\"1\":\"one\",\"2\":\"two\"}"
   ]
  },
  {
   "cell_type": "code",
   "execution_count": 123,
   "metadata": {
    "collapsed": true
   },
   "outputs": [],
   "source": [
    "def dict_to_json_string(python_dictionary):\n",
    "    \"\"\"Uses json module to create a json string from a python dictionary\"\"\"\n",
    "    return json.dumps(python_dictionary)\n",
    "\n",
    "def json_string_to_dict(json_string):\n",
    "    \"\"\"Uses json module to return a python dictionary\"\"\"\n",
    "    return json.loads(json_string)\n",
    "\n",
    "def json_string_to_json_file(json_string,file_name=\"test.json\"):\n",
    "    out_file=open(file_name,'w')\n",
    "    out_file.write(json_string)\n",
    "    out_file.close()\n",
    "    return file_name\n",
    "\n",
    "def json_file_to_json_string(json_file_name):\n",
    "    in_file=open(json_file_name,'r')\n",
    "    json_string=in_file.read()\n",
    "    in_file.close()\n",
    "    return json_string\n",
    "\n",
    "def dictionary_to_xml(dictionary=None,char_between='\\n'):\n",
    "    string_output=''\n",
    "    for key,value in dictionary.iteritems():\n",
    "        xml_open=\"<\"+str(key)+\">\"\n",
    "        xml_close=\"</\"+str(key)+\">\"\n",
    "        string_output=string_output+xml_open+str(value)+xml_close+char_between\n",
    "    return string_output\n",
    "\n",
    "def xml_to_dictionary(xml_string):\n",
    "    \"\"\"XML string must be in the format <key>value</key>\\n<key2>.. to work\"\"\"\n",
    "    pattern='<(?P<XML_tag>.+)>(?P<XML_text>.+)</.+>'\n",
    "    lines=xml_string.splitlines()\n",
    "    out_dictionary={}\n",
    "    for line in lines:\n",
    "        match=re.search(pattern,line)\n",
    "        if match:\n",
    "            key=match.groupdict()[\"XML_tag\"].rstrip().lstrip().replace(\"\\'\",\"\")\n",
    "            value=match.groupdict()[\"XML_text\"].rstrip().lstrip().replace(\"\\'\",\"\")\n",
    "            out_dictionary[key]=value\n",
    "    return out_dictionary\n",
    "\n",
    "\n",
    "def dictionary_to_HTML_meta(python_dictionary):\n",
    "    \"\"\"Converts a python dictionary to meta tags for html\"\"\"\n",
    "    out_string=\"\"\n",
    "    for key,value in python_dictionary.iteritems():\n",
    "        out_string=out_string+\"<meta name=\"+'\"{0}\"'.format(key)+\" content=\"+'\"{0}\"'.format(value)+\" />\\n\"\n",
    "    return out_string\n",
    "\n",
    "def HTML_meta_to_dictionary(HTML_meta_tags_string):\n",
    "    \"\"\"Converts a python dictionary to meta tags for html\"\"\"\n",
    "    pattern='<meta name=\"(?P<key>.+)\" content=\"(?P<value>.+)\" />'\n",
    "    lines=HTML_meta_tags_string.splitlines()\n",
    "    out_dictionary={}\n",
    "    for line in lines:\n",
    "        match=re.search(pattern,line)\n",
    "        if match:\n",
    "            key=match.groupdict()[\"key\"]\n",
    "            value=match.groupdict()[\"value\"]\n",
    "            out_dictionary[key]=value\n",
    "    return out_dictionary\n",
    "\n",
    "def dictionary_to_tuple_line(python_dictionary):\n",
    "    \"\"\"transforms a python dictionary into a xml line in the form <Tuple key1=value1 key2=value2..keyN=valueN />\"\"\"\n",
    "    prefix=\"<Tuple \"\n",
    "    postfix=\" />\"\n",
    "    inner=\"\"\n",
    "    for key,value in python_dictionary.iteritems():\n",
    "        inner=inner+'{0}=\"{1}\" ' .format(key,value)\n",
    "        xml_out=prefix+inner+postfix\n",
    "    return xml_out\n",
    "\n",
    "def tuple_line_to_dictionary(tuple_line):\n",
    "    \"\"\"Takes a line in the form of <Tuple key1=value1 key2=Value2 ...KeyN=ValueN /> and returns a dictionary\"\"\"\n",
    "    stripped_string=tuple_line.replace(\"<Tuple\",\"\")\n",
    "    stripped_string=stripped_string.replace(\"/>\",\"\")\n",
    "    pattern=\"(?<=\\\")(?<!,|:)\\s+(?!,+)\"\n",
    "    lines=re.split(pattern,stripped_string)\n",
    "    out_dictionary={}\n",
    "    for line in lines:\n",
    "        split_line=line.split(\"=\")\n",
    "        print split_line\n",
    "        if len(split_line)==2:\n",
    "            key=split_line[0].rstrip().lstrip().replace(\"\\\"\",\"\")\n",
    "            value=split_line[1].rstrip().lstrip().replace(\"\\\"\",\"\")\n",
    "            out_dictionary[key]=value\n",
    "    return out_dictionary\n",
    "\n",
    "def dictionary_to_pickle(python_dictionary,file_name=\"dictionary.pkl\"):\n",
    "    \"\"\"Python Dictionary to pickled file\"\"\"\n",
    "    pickle.dump(python_dictionary,open(file_name,'wb'))\n",
    "    return file_name\n",
    "\n",
    "def pickle_to_python_dictionary(pickle_file_name):\n",
    "    \"\"\"open and read a pickled file with only a single python dictionary in it\"\"\"\n",
    "    dictionary_out=pickle.load(open(pickle_file_name,'rb'))\n",
    "    return dictionary_out\n",
    "\n",
    "def dictionary_to_list_list(python_dictionary):\n",
    "    \"\"\"Returns a list with two lists : [[key_list][item_list]]\"\"\"\n",
    "    key_list=[]\n",
    "    value_list=[]\n",
    "    for key,value in python_dictionary.iteritems():\n",
    "        key_list.append(key)\n",
    "        value_list.append(value)\n",
    "    out_list=[key_list,value_list]\n",
    "    return out_list\n",
    "\n",
    "def list_list_to_dictionary(list_list):\n",
    "    \"\"\"takes a list of [[keys],[items]] and returns a dictionary \"\"\"\n",
    "    keys=list_list[0]\n",
    "    items=list_list[1]\n",
    "    out_dictionary={}\n",
    "    for index,key in enumerate(keys):\n",
    "        out_dictionary[key]=items[index]\n",
    "    return out_dictionary\n",
    "\n",
    "def dictionary_to_DataFrame(python_dictionary):\n",
    "    \"\"\"Takes a python dictionary and maps it to a pandas dataframe\"\"\"\n",
    "    data_frame=pandas.DataFrame([[key,value] for key,value in python_dictionary.iteritems()], \n",
    "                                columns=[\"Property\",\"Value\"])\n",
    "    return data_frame\n",
    "\n",
    "def DataFrame_to_dictionary(pandas_data_frame):\n",
    "    \"\"\"Takes a pandas.DataFrame with column names [\"Property\",\"Value\"] and returns a python dictionary\"\"\"\n",
    "    list_of_lists=pandas_data_frame.as_matrix().tolist()\n",
    "    dictionary={row[0]:row[1] for row in list_of_lists}\n",
    "    return dictionary\n"
   ]
  },
  {
   "cell_type": "code",
   "execution_count": 66,
   "metadata": {
    "collapsed": true
   },
   "outputs": [],
   "source": [
    "def DataFrame_to_hdf(pandas_data_frame):\n",
    "    pandas_data_frame.to_hdf(\"Test.hdf\",\"table\")\n",
    "    return \"Test.hdf\"\n",
    "\n",
    "def hdf_to_DataFrame(hdf_file_name):\n",
    "    df=pandas.read_hdf(hdf_file_name,\"table\")\n",
    "    return df\n",
    "\n",
    "def XMLDataTable_to_AsciiDataTable(xml_table):\n",
    "    \n",
    "    table=AsciiDataTable(None,\n",
    "                         column_names=xml_table.attribute_names,\n",
    "                         data=xml_table.data)\n",
    "    return table\n",
    "\n",
    "def AsciiDataTable_to_XMLDataTable_2(data_table):\n",
    "    xml=AsciiDataTable_to_XMLDataTable(data_table)\n",
    "    return xml\n",
    "\n",
    "def DataFrame_to_excel(pandas_data_frame,file_name=\"Test.xlsx\"):\n",
    "    pandas_data_frame.to_excel(file_name,index=False)\n",
    "    return file_name\n",
    "\n",
    "def excel_to_DataFrame(excel_file_name):\n",
    "    df=pandas.read_excel(excel_file_name)\n",
    "    return df\n",
    "\n",
    "def DataFrame_to_HTML_string(pandas_data_frame):\n",
    "    old_width = pandas.get_option('display.max_colwidth')\n",
    "    pandas.set_option('display.max_colwidth', -1)\n",
    "    html=pandas_data_frame.to_html(index=False,sparsify=True)\n",
    "    pandas.set_option('display.max_colwidth', old_width)\n",
    "    return html\n",
    "\n",
    "def HTML_string_to_DataFrame(html_string):\n",
    "    list_df=pandas.read_html(html_string)\n",
    "    return list_df[0]\n",
    "\n",
    "def DataFrame_to_json(pandas_data_frame):\n",
    "    json=pandas_data_frame.to_json(\"test.json\",orient='records')\n",
    "    return \"test.json\"\n",
    "\n",
    "def json_to_DataFrame(json_file_name):\n",
    "    data_frame=pandas.read_json(json_file_name,orient='records')\n",
    "    return data_frame\n",
    "\n",
    "def DataFrame_to_json_string(pandas_data_frame):\n",
    "    json=pandas_data_frame.to_json(orient='records')\n",
    "    return json\n",
    "\n",
    "def json_string_to_DataFrame(json_string):\n",
    "    data_frame=pandas.read_json(json_string,orient='records')\n",
    "    return data_frame\n",
    "\n",
    "def DataFrame_to_csv(pandas_data_frame,file_name=\"test.csv\"):\n",
    "    csv=pandas_data_frame.to_csv(file_name,index=False)\n",
    "    return file_name\n",
    "\n",
    "def csv_to_DataFrame(csv_file_name):\n",
    "    data_frame=pandas.read_csv(csv_file_name)\n",
    "    return data_frame\n",
    "\n",
    "def AsciiDataTable_to_Matlab_key_val(ascii_data_table,file_name=\"test.mat\"):\n",
    "    matlab_data_dictionary={\"data\":ascii_data_table.data,\"column_names\":ascii_data_table.column_names}\n",
    "    print matlab_data_dictionary\n",
    "    savemat(file_name,matlab_data_dictionary)\n",
    "    return file_name\n",
    "\n",
    "def Matlab_to_AsciiDataTable_key_value(matlab_file_name):\n",
    "    matlab_data_dictionary=loadmat(matlab_file_name)\n",
    "    print matlab_data_dictionary\n",
    "    data=[map(lambda x: x.rstrip().lstrip(),row) for row in matlab_data_dictionary[\"data\"].tolist()]\n",
    "    column_names=map(lambda x: x.rstrip().lstrip(), matlab_data_dictionary[\"column_names\"].tolist())\n",
    "    ascii_data_table=AsciiDataTable(None,column_names=column_names,data=data)\n",
    "    return ascii_data_table\n",
    "\n",
    "def DataTable_to_XML(xml_data_table,file_name=\"test.xml\"):\n",
    "    xml_data_table.save(file_name)\n",
    "    return file_name\n",
    "\n",
    "def XML_to_DataTable(xml_file_name):\n",
    "    xml_data_table=DataTable(xml_file_name)\n",
    "    return xml_data_table\n",
    "\n",
    "def html_string_to_html_file(html_string,file_name=\"test.html\"):\n",
    "    out_file=open(file_name,'w')\n",
    "    out_file.write(html_string)\n",
    "    out_file.close()\n",
    "    return file_name\n",
    "# this is broken, something does not work properly\n",
    "\n",
    "def html_file_to_pandas(html_file_name):\n",
    "#     in_file=open(html_file_name,'r')\n",
    "    pandas_data_frame=pandas.read_html(html_file_name)\n",
    "    return pandas_data_frame[0]\n",
    "\n",
    "def html_file_to_html_string(html_file_name):\n",
    "    in_file=open(html_file_name,'r')\n",
    "    html_string=in_file.read()\n",
    "    return html_string\n",
    "\n",
    "def DataFrame_to_html_file(pandas_data_frame,file_name=\"test.html\"):\n",
    "    out_file=open(file_name,'w')\n",
    "    pandas_data_frame.to_html(out_file,index=False)\n",
    "    return file_name\n",
    "\n",
    "def json_to_DataTable(json_file_name):\n",
    "    data_dictionary_list=json.load(open(json_file_name,'r'))\n",
    "    xml=DataTable(None,data_dictionary={\"data\":data_dictionary_list})\n",
    "    return xml\n",
    "\n",
    "def csv_to_AsciiDataTable(csv_file_name):\n",
    "    options={\"column_names_begin_line\":0,\"column_names_end_line\":1,\n",
    "             \"data_begin_line\":1,\"data_end_line\":-1,\"data_delimiter\":\",\",\"column_names_delimiter\":\",\"}\n",
    "    table=AsciiDataTable(csv_file_name,**options)\n",
    "    return table\n",
    "\n",
    "def DataFrame_to_sqlite(pandas_data_frame,file_name=\"test.db\",table_name=\"data\"):\n",
    "    \"\"\"Transforms a pandas.DataFrame to a table in an sqlite database\"\"\"\n",
    "#     connection=sqlite3.connect(file_name)\n",
    "#     connection.close()\n",
    "    sql_url=\"sqlite:///{0}::{1}\".format(file_name,table_name)\n",
    "    odo.odo(pandas_data_frame,sql_url)\n",
    "    return sql_url\n",
    "\n",
    "def sqlite_to_DataFrame(sqlite_url):\n",
    "    \"\"\"Creates a pandas.DataFrame from a table in an sqlite database (use sqlite:///file_name::table_name)\"\"\"\n",
    "    pandas_data_frame=odo.odo(sqlite_url,pandas.DataFrame)\n",
    "    return pandas_data_frame\n",
    "\n",
    "def identity(parameter):\n",
    "    return parameter"
   ]
  },
  {
   "cell_type": "code",
   "execution_count": 124,
   "metadata": {
    "collapsed": true
   },
   "outputs": [],
   "source": [
    "graph_options={\"graph_name\":\"Metadata Graph\",\n",
    "                  \"node_names\":['dict','json'],\n",
    "                  \"node_descriptions\":[\"Python Dictionary\",\"Json string\"],\n",
    "                  \"current_node\":'dict',\n",
    "                  \"state\":[1,0],\n",
    "                  \"data\":{\"a\":\"First\",\"b\":\"Second\"},\n",
    "                  \"edge_2_to_1\":json_string_to_dict,\n",
    "                  \"edge_1_to_2\":dict_to_json_string\n",
    "                 }\n",
    "metadata_graph=Graph(**graph_options)"
   ]
  },
  {
   "cell_type": "code",
   "execution_count": 125,
   "metadata": {
    "collapsed": true
   },
   "outputs": [],
   "source": [
    "metadata_graph.add_node(\"jsonFile\",\"json\",json_string_to_json_file,\n",
    "                     \"json\",json_file_to_json_string,node_description=\"JSON File\")\n",
    "metadata_graph.add_node(\"xml\",\"dict\",dictionary_to_xml,\n",
    "                     \"dict\",xml_to_dictionary,node_description=\"xml string\")\n",
    "metadata_graph.add_node(\"HTMLMetaTag\",\"dict\",dictionary_to_HTML_meta,\n",
    "                     \"dict\",HTML_meta_to_dictionary,node_description=\"HTML meta tags\")\n",
    "metadata_graph.add_node(\"XMLTupleLine\",\"dict\",dictionary_to_tuple_line,\n",
    "                     \"dict\",tuple_line_to_dictionary,node_description=\"Tuple Line\")\n",
    "metadata_graph.add_node(\"pickle\",\"dict\",dictionary_to_pickle,\n",
    "                     \"dict\",pickle_to_python_dictionary,node_description=\"Pickled File\")\n",
    "metadata_graph.add_node(\"listList\",\"dict\",dictionary_to_list_list,\n",
    "                     \"dict\",list_list_to_dictionary,node_description=\"List of lists\")\n",
    "metadata_graph.add_node(\"DataFrame\",\"dict\",dictionary_to_DataFrame,\n",
    "                     \"dict\",DataFrame_to_dictionary,node_description=\"Pandas DataFrame\")\n",
    "metadata_graph.add_node(\"AsciiDataTable\",\"DataFrame\",DataFrame_to_AsciiDataTable,\n",
    "                     \"DataFrame\",AsciiDataTable_to_DataFrame,node_description=\"AsciiDataTable\")\n",
    "metadata_graph.add_node(\"matlab\",\"AsciiDataTable\",AsciiDataTable_to_Matlab_key_value,\n",
    "                     \"AsciiDataTable\",Matlab_to_AsciiDataTable_key_value,node_description=\"Matlab\")\n",
    "metadata_graph.add_node(\"excel\",\"DataFrame\",DataFrame_to_excel,\n",
    "                     \"DataFrame\",excel_to_DataFrame,node_description=\"excel\")\n",
    "metadata_graph.add_node(\"hdf\",\"DataFrame\",DataFrame_to_hdf,\n",
    "                     \"DataFrame\",hdf_to_DataFrame,node_description=\"hdf file\")\n",
    "metadata_graph.add_node(\"csv\",\"DataFrame\",DataFrame_to_csv,\n",
    "                     \"DataFrame\",csv_to_DataFrame,node_description=\"CSV File\")\n",
    "metadata_graph.add_node(\"htmlFile\",\"DataFrame\",DataFrame_to_html_file,\n",
    "                     \"DataFrame\",html_file_to_pandas,node_description=\"HTML Table File\")\n",
    "metadata_graph.add_node(\"htmlTableString\",\"htmlFile\",html_file_to_html_string,\n",
    "                     \"htmlFile\",html_string_to_html_file,node_description=\"HTML Table String\")\n",
    "\n"
   ]
  },
  {
   "cell_type": "code",
   "execution_count": 128,
   "metadata": {
    "collapsed": false
   },
   "outputs": [
    {
     "data": {
      "text/plain": [
       "<matplotlib.figure.Figure at 0x114f8d68>"
      ]
     },
     "execution_count": 128,
     "metadata": {},
     "output_type": "execute_result"
    }
   ],
   "source": [
    "metadata_graph.show()"
   ]
  },
  {
   "cell_type": "code",
   "execution_count": 130,
   "metadata": {
    "collapsed": false
   },
   "outputs": [
    {
     "data": {
      "text/plain": [
       "['edge_xml_dict_000',\n",
       " 'edge_dict_DataFrame_000',\n",
       " 'edge_DataFrame_htmlFile_000',\n",
       " 'edge_htmlFile_htmlTableString_000']"
      ]
     },
     "execution_count": 130,
     "metadata": {},
     "output_type": "execute_result"
    }
   ],
   "source": [
    "metadata_graph.get_path(\"xml\",\"htmlTableString\")"
   ]
  },
  {
   "cell_type": "code",
   "execution_count": 126,
   "metadata": {
    "collapsed": false
   },
   "outputs": [
    {
     "name": "stdout",
     "output_type": "stream",
     "text": [
      "['edge_AsciiDataTable_DataFrame_000']\n",
      "moving AsciiDataTable -> DataFrame\n",
      "********************************************************************************\n",
      "Pandas DataFrame [0, 0, 0, 0, 0, 0, 0, 0, 1, 0, 0, 0, 0, 0, 0, 0]\n",
      "********************************************************************************\n",
      "  Property   Value\n",
      "0        a   First\n",
      "1        b  Second\n"
     ]
    }
   ],
   "source": [
    "def move_and_print(end_node_number):\n",
    "    node=metadata_graph.node_names[end_node_number]\n",
    "    metadata_graph.move_to_node(node)\n",
    "    print(\"*\"*80)\n",
    "    print(\"{0}\".format(metadata_graph.node_descriptions[end_node_number])+\" {0}\".format(metadata_graph.state))\n",
    "    print(\"*\"*80)\n",
    "    print metadata_graph.data\n",
    "    \n",
    "interact(move_and_print,end_node_number=(0,len(metadata_graph.node_names)-1,1))"
   ]
  },
  {
   "cell_type": "code",
   "execution_count": 140,
   "metadata": {
    "collapsed": false
   },
   "outputs": [
    {
     "name": "stdout",
     "output_type": "stream",
     "text": [
      "['edge_DataFrame_dict_000', 'edge_dict_DataFrame_000']\n",
      "moving DataFrame -> dict\n",
      "moving dict -> DataFrame\n",
      "None\n"
     ]
    }
   ],
   "source": [
    "metadata_graph.move_to_node(\"DataFrame\")\n",
    "df=metadata_graph.data\n",
    "html_file=DataFrame_to_html_file(df)\n",
    "df2=html_file_to_pandas(html_file)\n",
    "print df2[\"Value\"][12]"
   ]
  },
  {
   "cell_type": "code",
   "execution_count": 142,
   "metadata": {
    "collapsed": false
   },
   "outputs": [
    {
     "data": {
      "text/plain": [
       "49"
      ]
     },
     "execution_count": 142,
     "metadata": {},
     "output_type": "execute_result"
    }
   ],
   "source": [
    "len(df2[\"Value\"].tolist()[11])"
   ]
  },
  {
   "cell_type": "code",
   "execution_count": 131,
   "metadata": {
    "collapsed": false
   },
   "outputs": [
    {
     "name": "stdout",
     "output_type": "stream",
     "text": [
      "['edge_listList_dict_000', 'edge_dict_DataFrame_000']\n",
      "moving listList -> dict\n",
      "moving dict -> DataFrame\n",
      "********************************************************************************\n",
      "Pandas DataFrame [0, 0, 0, 0, 0, 0, 0, 0, 1, 0, 0, 0, 0, 0, 0, 0]\n",
      "********************************************************************************\n",
      "                        Property  \\\n",
      "0                inline_comments   \n",
      "1                data_begin_line   \n",
      "2        column_names_begin_line   \n",
      "3              footer_line_types   \n",
      "4             general_descriptor   \n",
      "5            specific_descriptor   \n",
      "6                header_end_line   \n",
      "7          column_names_end_line   \n",
      "8   data_table_element_separator   \n",
      "9             header_begin_token   \n",
      "10                          data   \n",
      "11          inline_comment_begin   \n",
      "12           column_descriptions   \n",
      "13            inline_comment_end   \n",
      "14              data_begin_token   \n",
      "15             header_begin_line   \n",
      "16                 row_end_token   \n",
      "17           block_comment_begin   \n",
      "18                      metadata   \n",
      "19              header_end_token   \n",
      "20                   empty_value   \n",
      "21      column_names_begin_token   \n",
      "22              footer_end_token   \n",
      "23            footer_begin_token   \n",
      "24                  column_names   \n",
      "25              escape_character   \n",
      "26  metadata_key_value_delimiter   \n",
      "27                  column_types   \n",
      "28                 comment_begin   \n",
      "29       treat_header_as_comment   \n",
      "30                  column_units   \n",
      "31        column_names_delimiter   \n",
      "32       treat_footer_as_comment   \n",
      "33                     extension   \n",
      "34                        header   \n",
      "35                        footer   \n",
      "36                 data_end_line   \n",
      "37             block_comment_end   \n",
      "38               footer_end_line   \n",
      "39                data_delimiter   \n",
      "40             footer_begin_line   \n",
      "41                data_end_token   \n",
      "42               row_begin_token   \n",
      "43                     directory   \n",
      "44             header_line_types   \n",
      "45          row_formatter_string   \n",
      "46            metadata_delimiter   \n",
      "\n",
      "                                                Value  \n",
      "0                                                None  \n",
      "1                                                  21  \n",
      "2                                                  20  \n",
      "3                                                None  \n",
      "4                                          Sparameter  \n",
      "5                                        Two_Port_Raw  \n",
      "6                                                  20  \n",
      "7                                                  21  \n",
      "8                                                None  \n",
      "9                                                None  \n",
      "10                                               None  \n",
      "11                                               None  \n",
      "12  {Direction: Direction of connects, may be unus...  \n",
      "13                                               None  \n",
      "14                                               None  \n",
      "15                                                  0  \n",
      "16                                               None  \n",
      "17                                               None  \n",
      "18                                               None  \n",
      "19                                               None  \n",
      "20                                               None  \n",
      "21                                               None  \n",
      "22                                               None  \n",
      "23                                               None  \n",
      "24                                               None  \n",
      "25                                               None  \n",
      "26                                               None  \n",
      "27  [float, int, int, float, float, float, float, ...  \n",
      "28                                                  #  \n",
      "29                                               None  \n",
      "30                                               None  \n",
      "31                                                  ,  \n",
      "32                                               None  \n",
      "33                                                txt  \n",
      "34                                               None  \n",
      "35                                               None  \n",
      "36                                               None  \n",
      "37                                               None  \n",
      "38                                               None  \n",
      "39                                                  ,  \n",
      "40                                               None  \n",
      "41                                               None  \n",
      "42                                               None  \n",
      "43                                               None  \n",
      "44                                               None  \n",
      "45  {0:.5f}{delimiter}{1}{delimiter}{2}{delimiter}...  \n",
      "46                                               None  \n"
     ]
    }
   ],
   "source": [
    "raw=TwoPortRawModel(os.path.join(r\"C:\\Share\\Ck_Std_raw_ascii\",'CTN208.L26_121399'))\n",
    "metadata_graph.set_state(\"dict\",raw.options)\n",
    "interact(move_and_print,end_node_number=(0,len(metadata_graph.node_names)-1,1))"
   ]
  },
  {
   "cell_type": "code",
   "execution_count": 10,
   "metadata": {
    "collapsed": true
   },
   "outputs": [],
   "source": [
    "test_dictionary={\"New\":\"Value\",\"old\":\"value\"}"
   ]
  },
  {
   "cell_type": "code",
   "execution_count": 11,
   "metadata": {
    "collapsed": false
   },
   "outputs": [
    {
     "data": {
      "text/plain": [
       "[['New', 'old'], ['Value', 'value']]"
      ]
     },
     "execution_count": 11,
     "metadata": {},
     "output_type": "execute_result"
    }
   ],
   "source": [
    "dictionary_to_list_list(test_dictionary)"
   ]
  },
  {
   "cell_type": "code",
   "execution_count": 12,
   "metadata": {
    "collapsed": true
   },
   "outputs": [],
   "source": [
    "\n",
    "def dictionary_to_HTML_meta(python_dictionary):\n",
    "    \"\"\"Converts a python dictionary to meta tags for html\"\"\"\n",
    "    out_string=\"\"\n",
    "    for key,value in python_dictionary.iteritems():\n",
    "        out_string=out_string+\"<meta name=\"+'\"{0}\"'.format(key)+\" content=\"+'\"{0}\"'.format(value)+\" />\\n\"\n",
    "    return out_string\n",
    "\n",
    "def HTML_meta_to_dictionary(HTML_meta_tags_string):\n",
    "    \"\"\"Converts a python dictionary to meta tags for html\"\"\"\n",
    "    pattern='<meta name=\"(?P<key>.+)\" content=\"(?P<value>.+)\" />'\n",
    "    lines=HTML_meta_tags_string.splitlines()\n",
    "    out_dictionary={}\n",
    "    for line in lines:\n",
    "        match=re.search(pattern,line)\n",
    "        if match:\n",
    "            key=match.groupdict()[\"key\"]\n",
    "            value=match.groupdict()[\"value\"]\n",
    "            out_dictionary[key]=value\n",
    "    return out_dictionary"
   ]
  },
  {
   "cell_type": "code",
   "execution_count": 13,
   "metadata": {
    "collapsed": false
   },
   "outputs": [
    {
     "name": "stdout",
     "output_type": "stream",
     "text": [
      "<meta name=\"New\" content=\"Value\" />\n",
      "<meta name=\"old\" content=\"value\" />\n",
      "\n"
     ]
    }
   ],
   "source": [
    "html=dictionary_to_HTML_meta(test_dictionary)\n",
    "print html"
   ]
  },
  {
   "cell_type": "code",
   "execution_count": 14,
   "metadata": {
    "collapsed": false
   },
   "outputs": [
    {
     "name": "stdout",
     "output_type": "stream",
     "text": [
      "{'New': 'Value', 'old': 'value'}\n"
     ]
    }
   ],
   "source": [
    "dictionary=HTML_meta_to_dictionary(html)\n",
    "print dictionary"
   ]
  },
  {
   "cell_type": "code",
   "execution_count": 15,
   "metadata": {
    "collapsed": false
   },
   "outputs": [
    {
     "data": {
      "text/plain": [
       "True"
      ]
     },
     "execution_count": 15,
     "metadata": {},
     "output_type": "execute_result"
    }
   ],
   "source": [
    "dictionary==test_dictionary"
   ]
  },
  {
   "cell_type": "code",
   "execution_count": 117,
   "metadata": {
    "collapsed": false
   },
   "outputs": [],
   "source": [
    "def dictionary_to_tuple_line(python_dictionary):\n",
    "    \"\"\"transforms a python dictionary into a xml line in the form <Tuple key1=value1 key2=value2..keyN=valueN />\"\"\"\n",
    "    prefix=\"<Tuple \"\n",
    "    postfix=\" />\"\n",
    "    inner=\"\"\n",
    "    for key,value in python_dictionary.iteritems():\n",
    "        inner=inner+'{0}=\"{1}\" ' .format(key,value)\n",
    "        xml_out=prefix+inner+postfix\n",
    "    return xml_out\n",
    "\n",
    "def tuple_line_to_dictionary(tuple_line):\n",
    "    \"\"\"Takes a line in the form of <Tuple key1=value1 key2=Value2 ...KeyN=ValueN /> and returns a dictionary\"\"\"\n",
    "    stripped_string=tuple_line.replace(\"<Tuple\",\"\")\n",
    "    stripped_string=stripped_string.replace(\"/>\",\"\")\n",
    "    pattern=\"(?<=\\\")(?<!,|:)\\s+(?!,+)\"\n",
    "    lines=re.split(pattern,stripped_string)\n",
    "    out_dictionary={}\n",
    "    for line in lines:\n",
    "        split_line=line.split(\"=\")\n",
    "        print split_line\n",
    "        if len(split_line)==2:\n",
    "            key=split_line[0].rstrip().lstrip().replace(\"\\\"\",\"\")\n",
    "            value=split_line[1].rstrip().lstrip().replace(\"\\\"\",\"\")\n",
    "            out_dictionary[key]=value\n",
    "    return out_dictionary"
   ]
  },
  {
   "cell_type": "code",
   "execution_count": 118,
   "metadata": {
    "collapsed": true
   },
   "outputs": [],
   "source": [
    "test_dictionary={\"column_types\":['float','float','int','string'],\"column_descriptions\":{\"a\":\"Column a\",\n",
    "                                                                                        \"b\":\"Column b\",\n",
    "                                                                                        \"c\":\"Column c\",\n",
    "                                                                                        \"d\":\"Column d\"}}"
   ]
  },
  {
   "cell_type": "code",
   "execution_count": 119,
   "metadata": {
    "collapsed": true
   },
   "outputs": [],
   "source": [
    "tuple_line=dictionary_to_tuple_line(test_dictionary)"
   ]
  },
  {
   "cell_type": "code",
   "execution_count": 120,
   "metadata": {
    "collapsed": false
   },
   "outputs": [
    {
     "name": "stdout",
     "output_type": "stream",
     "text": [
      "<Tuple column_types=\"['float', 'float', 'int', 'string']\" column_descriptions=\"{'a': 'Column a', 'c': 'Column c', 'b': 'Column b', 'd': 'Column d'}\"  />\n"
     ]
    }
   ],
   "source": [
    "print tuple_line"
   ]
  },
  {
   "cell_type": "code",
   "execution_count": 121,
   "metadata": {
    "collapsed": false
   },
   "outputs": [
    {
     "name": "stdout",
     "output_type": "stream",
     "text": [
      "[' column_types', '\"[\\'float\\', \\'float\\', \\'int\\', \\'string\\']\"']\n",
      "['column_descriptions', '\"{\\'a\\': \\'Column a\\', \\'c\\': \\'Column c\\', \\'b\\': \\'Column b\\', \\'d\\': \\'Column d\\'}\"']\n",
      "['']\n"
     ]
    }
   ],
   "source": [
    "dict_2=tuple_line_to_dictionary(tuple_line)"
   ]
  },
  {
   "cell_type": "code",
   "execution_count": 122,
   "metadata": {
    "collapsed": false
   },
   "outputs": [
    {
     "data": {
      "text/plain": [
       "{'column_descriptions': \"{'a': 'Column a', 'c': 'Column c', 'b': 'Column b', 'd': 'Column d'}\",\n",
       " 'column_types': \"['float', 'float', 'int', 'string']\"}"
      ]
     },
     "execution_count": 122,
     "metadata": {},
     "output_type": "execute_result"
    }
   ],
   "source": [
    "dict_2"
   ]
  },
  {
   "cell_type": "code",
   "execution_count": 143,
   "metadata": {
    "collapsed": false
   },
   "outputs": [
    {
     "name": "stdout",
     "output_type": "stream",
     "text": [
      "['edge_dict_DataFrame_000']\n",
      "moving dict -> DataFrame\n",
      "                        Property  \\\n",
      "0                inline_comments   \n",
      "1                data_begin_line   \n",
      "2        column_names_begin_line   \n",
      "3              footer_line_types   \n",
      "4             general_descriptor   \n",
      "5               header_end_token   \n",
      "6                header_end_line   \n",
      "7          column_names_end_line   \n",
      "8   data_table_element_separator   \n",
      "9               escape_character   \n",
      "10                          data   \n",
      "11          inline_comment_begin   \n",
      "12           column_descriptions   \n",
      "13            inline_comment_end   \n",
      "14              data_begin_token   \n",
      "15                   comment_end   \n",
      "16             header_begin_line   \n",
      "17                 row_end_token   \n",
      "18        column_names_end_token   \n",
      "19           block_comment_begin   \n",
      "20            header_begin_token   \n",
      "21                      metadata   \n",
      "22           specific_descriptor   \n",
      "23                   empty_value   \n",
      "24      column_names_begin_token   \n",
      "25              footer_end_token   \n",
      "26            footer_begin_token   \n",
      "27                  column_names   \n",
      "28  metadata_key_value_delimiter   \n",
      "29                  column_types   \n",
      "30                 comment_begin   \n",
      "31       treat_header_as_comment   \n",
      "32                  column_units   \n",
      "33        column_names_delimiter   \n",
      "34       treat_footer_as_comment   \n",
      "35                     extension   \n",
      "36                        header   \n",
      "37                        footer   \n",
      "38                 data_end_line   \n",
      "39             block_comment_end   \n",
      "40               footer_end_line   \n",
      "41                data_delimiter   \n",
      "42             footer_begin_line   \n",
      "43                data_end_token   \n",
      "44               row_begin_token   \n",
      "45                     directory   \n",
      "46             header_line_types   \n",
      "47          row_formatter_string   \n",
      "48            metadata_delimiter   \n",
      "\n",
      "                                                Value  \n",
      "0                                                None  \n",
      "1                                                  21  \n",
      "2                                                  20  \n",
      "3                                                None  \n",
      "4                                          Sparameter  \n",
      "5                                                None  \n",
      "6                                                  20  \n",
      "7                                                  21  \n",
      "8                                                None  \n",
      "9                                                None  \n",
      "10                                               None  \n",
      "11                                               None  \n",
      "12  {u'Direction': u'Direction of connects, may be...  \n",
      "13                                               None  \n",
      "14                                               None  \n",
      "15                                                 \\n  \n",
      "16                                                  0  \n",
      "17                                               None  \n",
      "18                                                 \\n  \n",
      "19                                               None  \n",
      "20                                               None  \n",
      "21                                               None  \n",
      "22                                       Two_Port_Raw  \n",
      "23                                               None  \n",
      "24                                               None  \n",
      "25                                               None  \n",
      "26                                               None  \n",
      "27                                               None  \n",
      "28                                               None  \n",
      "29  [float, int, int, float, float, float, float, ...  \n",
      "30                                                  #  \n",
      "31                                               None  \n",
      "32                                               None  \n",
      "33                                                  ,  \n",
      "34                                               None  \n",
      "35                                                txt  \n",
      "36                                               None  \n",
      "37                                               None  \n",
      "38                                               None  \n",
      "39                                               None  \n",
      "40                                               None  \n",
      "41                                                  ,  \n",
      "42                                               None  \n",
      "43                                               None  \n",
      "44                                               None  \n",
      "45                                               None  \n",
      "46                                               None  \n",
      "47  {0:.5f}{delimiter}{1}{delimiter}{2}{delimiter}...  \n",
      "48                                               None  \n"
     ]
    }
   ],
   "source": [
    "raw=TwoPortRawModel(os.path.join(r\"C:\\Share\\Ck_Std_raw_ascii\",'CTN208.L26_121399'))\n",
    "metadata_graph.set_state(\"dict\",raw.options)\n",
    "metadata_graph.move_to_node(\"DataFrame\")\n",
    "df=metadata_graph.data\n",
    "print df"
   ]
  },
  {
   "cell_type": "code",
   "execution_count": 144,
   "metadata": {
    "collapsed": false
   },
   "outputs": [
    {
     "data": {
      "text/plain": [
       "Property    object\n",
       "Value       object\n",
       "dtype: object"
      ]
     },
     "execution_count": 144,
     "metadata": {},
     "output_type": "execute_result"
    }
   ],
   "source": [
    "df.dtypes"
   ]
  },
  {
   "cell_type": "code",
   "execution_count": 146,
   "metadata": {
    "collapsed": false
   },
   "outputs": [],
   "source": [
    "python_dictionary=raw.options\n",
    "data_list=[[key,value] for key,value in python_dictionary.iteritems()]\n",
    "df3=pandas.DataFrame(data_list,columns=[\"Property\",\"Value\"])"
   ]
  },
  {
   "cell_type": "code",
   "execution_count": 150,
   "metadata": {
    "collapsed": false
   },
   "outputs": [
    {
     "data": {
      "text/plain": [
       "{'Connect': 'Connect number',\n",
       " 'Direction': 'Direction of connects, may be unused',\n",
       " 'Frequency': 'Frequency in GHz',\n",
       " 'argS11': 'Phase in degrees for S11',\n",
       " 'argS21': 'Phase in degrees for S21',\n",
       " 'argS22': 'Phase in degrees for S22',\n",
       " 'magS11': 'Linear magnitude for S11',\n",
       " 'magS21': 'Linear magnitude for S21',\n",
       " 'magS22': 'Linear magnitude for S22'}"
      ]
     },
     "execution_count": 150,
     "metadata": {},
     "output_type": "execute_result"
    }
   ],
   "source": [
    "df3[\"Value\"][12]"
   ]
  },
  {
   "cell_type": "code",
   "execution_count": 152,
   "metadata": {
    "collapsed": false
   },
   "outputs": [
    {
     "data": {
      "text/plain": [
       "{'Connect': 'Connect number',\n",
       " 'Direction': 'Direction of connects, may be unused',\n",
       " 'Frequency': 'Frequency in GHz',\n",
       " 'argS11': 'Phase in degrees for S11',\n",
       " 'argS21': 'Phase in degrees for S21',\n",
       " 'argS22': 'Phase in degrees for S22',\n",
       " 'magS11': 'Linear magnitude for S11',\n",
       " 'magS21': 'Linear magnitude for S21',\n",
       " 'magS22': 'Linear magnitude for S22'}"
      ]
     },
     "execution_count": 152,
     "metadata": {},
     "output_type": "execute_result"
    }
   ],
   "source": [
    "df[\"Value\"][12]"
   ]
  },
  {
   "cell_type": "code",
   "execution_count": 153,
   "metadata": {
    "collapsed": false
   },
   "outputs": [
    {
     "data": {
      "text/plain": [
       "'Test.xlsx'"
      ]
     },
     "execution_count": 153,
     "metadata": {},
     "output_type": "execute_result"
    }
   ],
   "source": [
    "DataFrame_to_excel(df)"
   ]
  },
  {
   "cell_type": "code",
   "execution_count": 154,
   "metadata": {
    "collapsed": true
   },
   "outputs": [],
   "source": [
    "table=DataFrame_to_AsciiDataTable(df)"
   ]
  },
  {
   "cell_type": "code",
   "execution_count": 157,
   "metadata": {
    "collapsed": false
   },
   "outputs": [],
   "source": [
    "csv=DataFrame_to_csv(df)"
   ]
  },
  {
   "cell_type": "code",
   "execution_count": 158,
   "metadata": {
    "collapsed": true
   },
   "outputs": [],
   "source": [
    "df4=csv_to_DataFrame(\"test.csv\")"
   ]
  },
  {
   "cell_type": "code",
   "execution_count": 161,
   "metadata": {
    "collapsed": false
   },
   "outputs": [
    {
     "data": {
      "text/plain": [
       "\"{'Direction': 'Direction of connects, may be unused', 'Frequency': 'Frequency in GHz', 'magS22': 'Linear magnitude for S22', 'Connect': 'Connect number', 'argS11': 'Phase in degrees for S11', 'magS11': 'Linear magnitude for S11', 'argS22': 'Phase in degrees for S22', 'argS21': 'Phase in degrees for S21', 'magS21': 'Linear magnitude for S21'}\""
      ]
     },
     "execution_count": 161,
     "metadata": {},
     "output_type": "execute_result"
    }
   ],
   "source": [
    "df4[\"Value\"][12]"
   ]
  },
  {
   "cell_type": "code",
   "execution_count": 162,
   "metadata": {
    "collapsed": true
   },
   "outputs": [],
   "source": [
    "hdf=DataFrame_to_hdf(df4)"
   ]
  },
  {
   "cell_type": "code",
   "execution_count": 163,
   "metadata": {
    "collapsed": true
   },
   "outputs": [],
   "source": [
    "df5=hdf_to_DataFrame(hdf)"
   ]
  },
  {
   "cell_type": "code",
   "execution_count": 164,
   "metadata": {
    "collapsed": false
   },
   "outputs": [
    {
     "data": {
      "text/plain": [
       "\"{'Direction': 'Direction of connects, may be unused', 'Frequency': 'Frequency in GHz', 'magS22': 'Linear magnitude for S22', 'Connect': 'Connect number', 'argS11': 'Phase in degrees for S11', 'magS11': 'Linear magnitude for S11', 'argS22': 'Phase in degrees for S22', 'argS21': 'Phase in degrees for S21', 'magS21': 'Linear magnitude for S21'}\""
      ]
     },
     "execution_count": 164,
     "metadata": {},
     "output_type": "execute_result"
    }
   ],
   "source": [
    "df4[\"Value\"][12]"
   ]
  },
  {
   "cell_type": "code",
   "execution_count": 184,
   "metadata": {
    "collapsed": true
   },
   "outputs": [],
   "source": [
    "def DataFrame_to_HTML_string(pandas_data_frame):\n",
    "    old_width = pandas.get_option('display.max_colwidth')\n",
    "    pandas.set_option('display.max_colwidth', -1)\n",
    "    html=pandas_data_frame.to_html(index=False,sparsify=True)\n",
    "    pandas.set_option('display.max_colwidth', old_width)\n",
    "    return html"
   ]
  },
  {
   "cell_type": "code",
   "execution_count": 185,
   "metadata": {
    "collapsed": false
   },
   "outputs": [],
   "source": [
    "html=DataFrame_to_HTML_string(df5)"
   ]
  },
  {
   "cell_type": "code",
   "execution_count": 186,
   "metadata": {
    "collapsed": false
   },
   "outputs": [
    {
     "data": {
      "text/plain": [
       "u'<table border=\"1\" class=\"dataframe\">\\n  <thead>\\n    <tr style=\"text-align: right;\">\\n      <th>Property</th>\\n      <th>Value</th>\\n    </tr>\\n  </thead>\\n  <tbody>\\n    <tr>\\n      <td>inline_comments</td>\\n      <td>NaN</td>\\n    </tr>\\n    <tr>\\n      <td>data_begin_line</td>\\n      <td>21</td>\\n    </tr>\\n    <tr>\\n      <td>column_names_begin_line</td>\\n      <td>20</td>\\n    </tr>\\n    <tr>\\n      <td>footer_line_types</td>\\n      <td>NaN</td>\\n    </tr>\\n    <tr>\\n      <td>general_descriptor</td>\\n      <td>Sparameter</td>\\n    </tr>\\n    <tr>\\n      <td>header_end_token</td>\\n      <td>NaN</td>\\n    </tr>\\n    <tr>\\n      <td>header_end_line</td>\\n      <td>20</td>\\n    </tr>\\n    <tr>\\n      <td>column_names_end_line</td>\\n      <td>21</td>\\n    </tr>\\n    <tr>\\n      <td>data_table_element_separator</td>\\n      <td>NaN</td>\\n    </tr>\\n    <tr>\\n      <td>escape_character</td>\\n      <td>NaN</td>\\n    </tr>\\n    <tr>\\n      <td>data</td>\\n      <td>NaN</td>\\n    </tr>\\n    <tr>\\n      <td>inline_comment_begin</td>\\n      <td>NaN</td>\\n    </tr>\\n    <tr>\\n      <td>column_descriptions</td>\\n      <td>{\\'Direction\\': \\'Direction of connects, may be unused\\', \\'Frequency\\': \\'Frequency in GHz\\', \\'magS22\\': \\'Linear magnitude for S22\\', \\'Connect\\': \\'Connect number\\', \\'argS11\\': \\'Phase in degrees for S11\\', \\'magS11\\': \\'Linear magnitude for S11\\', \\'argS22\\': \\'Phase in degrees for S22\\', \\'argS21\\': \\'Phase in degrees for S21\\', \\'magS21\\': \\'Linear magnitude for S21\\'}</td>\\n    </tr>\\n    <tr>\\n      <td>inline_comment_end</td>\\n      <td>NaN</td>\\n    </tr>\\n    <tr>\\n      <td>data_begin_token</td>\\n      <td>NaN</td>\\n    </tr>\\n    <tr>\\n      <td>comment_end</td>\\n      <td>\\\\r\\\\n</td>\\n    </tr>\\n    <tr>\\n      <td>header_begin_line</td>\\n      <td>0</td>\\n    </tr>\\n    <tr>\\n      <td>row_end_token</td>\\n      <td>NaN</td>\\n    </tr>\\n    <tr>\\n      <td>column_names_end_token</td>\\n      <td>\\\\r\\\\n</td>\\n    </tr>\\n    <tr>\\n      <td>block_comment_begin</td>\\n      <td>NaN</td>\\n    </tr>\\n    <tr>\\n      <td>header_begin_token</td>\\n      <td>NaN</td>\\n    </tr>\\n    <tr>\\n      <td>metadata</td>\\n      <td>NaN</td>\\n    </tr>\\n    <tr>\\n      <td>specific_descriptor</td>\\n      <td>Two_Port_Raw</td>\\n    </tr>\\n    <tr>\\n      <td>empty_value</td>\\n      <td>NaN</td>\\n    </tr>\\n    <tr>\\n      <td>column_names_begin_token</td>\\n      <td>NaN</td>\\n    </tr>\\n    <tr>\\n      <td>footer_end_token</td>\\n      <td>NaN</td>\\n    </tr>\\n    <tr>\\n      <td>footer_begin_token</td>\\n      <td>NaN</td>\\n    </tr>\\n    <tr>\\n      <td>column_names</td>\\n      <td>NaN</td>\\n    </tr>\\n    <tr>\\n      <td>metadata_key_value_delimiter</td>\\n      <td>NaN</td>\\n    </tr>\\n    <tr>\\n      <td>column_types</td>\\n      <td>[\\'float\\', \\'int\\', \\'int\\', \\'float\\', \\'float\\', \\'float\\', \\'float\\', \\'float\\', \\'float\\']</td>\\n    </tr>\\n    <tr>\\n      <td>comment_begin</td>\\n      <td>#</td>\\n    </tr>\\n    <tr>\\n      <td>treat_header_as_comment</td>\\n      <td>NaN</td>\\n    </tr>\\n    <tr>\\n      <td>column_units</td>\\n      <td>NaN</td>\\n    </tr>\\n    <tr>\\n      <td>column_names_delimiter</td>\\n      <td>,</td>\\n    </tr>\\n    <tr>\\n      <td>treat_footer_as_comment</td>\\n      <td>NaN</td>\\n    </tr>\\n    <tr>\\n      <td>extension</td>\\n      <td>txt</td>\\n    </tr>\\n    <tr>\\n      <td>header</td>\\n      <td>NaN</td>\\n    </tr>\\n    <tr>\\n      <td>footer</td>\\n      <td>NaN</td>\\n    </tr>\\n    <tr>\\n      <td>data_end_line</td>\\n      <td>NaN</td>\\n    </tr>\\n    <tr>\\n      <td>block_comment_end</td>\\n      <td>NaN</td>\\n    </tr>\\n    <tr>\\n      <td>footer_end_line</td>\\n      <td>NaN</td>\\n    </tr>\\n    <tr>\\n      <td>data_delimiter</td>\\n      <td>,</td>\\n    </tr>\\n    <tr>\\n      <td>footer_begin_line</td>\\n      <td>NaN</td>\\n    </tr>\\n    <tr>\\n      <td>data_end_token</td>\\n      <td>NaN</td>\\n    </tr>\\n    <tr>\\n      <td>row_begin_token</td>\\n      <td>NaN</td>\\n    </tr>\\n    <tr>\\n      <td>directory</td>\\n      <td>NaN</td>\\n    </tr>\\n    <tr>\\n      <td>header_line_types</td>\\n      <td>NaN</td>\\n    </tr>\\n    <tr>\\n      <td>row_formatter_string</td>\\n      <td>{0:.5f}{delimiter}{1}{delimiter}{2}{delimiter}{3:.4f}{delimiter}{4:.2f}{delimiter}{5:.4f}{delimiter}{6:.2f}{delimiter}{7:.4f}{delimiter}{8:.2f}</td>\\n    </tr>\\n    <tr>\\n      <td>metadata_delimiter</td>\\n      <td>NaN</td>\\n    </tr>\\n  </tbody>\\n</table>'"
      ]
     },
     "execution_count": 186,
     "metadata": {},
     "output_type": "execute_result"
    }
   ],
   "source": [
    "html"
   ]
  },
  {
   "cell_type": "code",
   "execution_count": 187,
   "metadata": {
    "collapsed": false
   },
   "outputs": [],
   "source": [
    "df6=HTML_string_to_DataFrame(html)"
   ]
  },
  {
   "cell_type": "code",
   "execution_count": 188,
   "metadata": {
    "collapsed": false
   },
   "outputs": [
    {
     "data": {
      "text/plain": [
       "\"{'Direction': 'Direction of connects, may be unused', 'Frequency': 'Frequency in GHz', 'magS22': 'Linear magnitude for S22', 'Connect': 'Connect number', 'argS11': 'Phase in degrees for S11', 'magS11': 'Linear magnitude for S11', 'argS22': 'Phase in degrees for S22', 'argS21': 'Phase in degrees for S21', 'magS21': 'Linear magnitude for S21'}\""
      ]
     },
     "execution_count": 188,
     "metadata": {},
     "output_type": "execute_result"
    }
   ],
   "source": [
    "df6[\"Value\"][12]"
   ]
  },
  {
   "cell_type": "code",
   "execution_count": 175,
   "metadata": {
    "collapsed": false
   },
   "outputs": [
    {
     "name": "stdout",
     "output_type": "stream",
     "text": [
      "<table border=\"1\" class=\"dataframe\">\n",
      "  <thead>\n",
      "    <tr style=\"text-align: right;\">\n",
      "      <th style=\"min-width: 1000;\">Property</th>\n",
      "      <th style=\"min-width: 1000;\">Value</th>\n",
      "    </tr>\n",
      "  </thead>\n",
      "  <tbody>\n",
      "    <tr>\n",
      "      <td>inline_comments</td>\n",
      "      <td>NaN</td>\n",
      "    </tr>\n",
      "    <tr>\n",
      "      <td>data_begin_line</td>\n",
      "      <td>21</td>\n",
      "    </tr>\n",
      "    <tr>\n",
      "      <td>column_names_begin_line</td>\n",
      "      <td>20</td>\n",
      "    </tr>\n",
      "    <tr>\n",
      "      <td>footer_line_types</td>\n",
      "      <td>NaN</td>\n",
      "    </tr>\n",
      "    <tr>\n",
      "      <td>general_descriptor</td>\n",
      "      <td>Sparameter</td>\n",
      "    </tr>\n",
      "    <tr>\n",
      "      <td>header_end_token</td>\n",
      "      <td>NaN</td>\n",
      "    </tr>\n",
      "    <tr>\n",
      "      <td>header_end_line</td>\n",
      "      <td>20</td>\n",
      "    </tr>\n",
      "    <tr>\n",
      "      <td>column_names_end_line</td>\n",
      "      <td>21</td>\n",
      "    </tr>\n",
      "    <tr>\n",
      "      <td>data_table_element_separator</td>\n",
      "      <td>NaN</td>\n",
      "    </tr>\n",
      "    <tr>\n",
      "      <td>escape_character</td>\n",
      "      <td>NaN</td>\n",
      "    </tr>\n",
      "    <tr>\n",
      "      <td>data</td>\n",
      "      <td>NaN</td>\n",
      "    </tr>\n",
      "    <tr>\n",
      "      <td>inline_comment_begin</td>\n",
      "      <td>NaN</td>\n",
      "    </tr>\n",
      "    <tr>\n",
      "      <td>column_descriptions</td>\n",
      "      <td>{'Direction': 'Direction of connects, may be u...</td>\n",
      "    </tr>\n",
      "    <tr>\n",
      "      <td>inline_comment_end</td>\n",
      "      <td>NaN</td>\n",
      "    </tr>\n",
      "    <tr>\n",
      "      <td>data_begin_token</td>\n",
      "      <td>NaN</td>\n",
      "    </tr>\n",
      "    <tr>\n",
      "      <td>comment_end</td>\n",
      "      <td>\\r\\n</td>\n",
      "    </tr>\n",
      "    <tr>\n",
      "      <td>header_begin_line</td>\n",
      "      <td>0</td>\n",
      "    </tr>\n",
      "    <tr>\n",
      "      <td>row_end_token</td>\n",
      "      <td>NaN</td>\n",
      "    </tr>\n",
      "    <tr>\n",
      "      <td>column_names_end_token</td>\n",
      "      <td>\\r\\n</td>\n",
      "    </tr>\n",
      "    <tr>\n",
      "      <td>block_comment_begin</td>\n",
      "      <td>NaN</td>\n",
      "    </tr>\n",
      "    <tr>\n",
      "      <td>header_begin_token</td>\n",
      "      <td>NaN</td>\n",
      "    </tr>\n",
      "    <tr>\n",
      "      <td>metadata</td>\n",
      "      <td>NaN</td>\n",
      "    </tr>\n",
      "    <tr>\n",
      "      <td>specific_descriptor</td>\n",
      "      <td>Two_Port_Raw</td>\n",
      "    </tr>\n",
      "    <tr>\n",
      "      <td>empty_value</td>\n",
      "      <td>NaN</td>\n",
      "    </tr>\n",
      "    <tr>\n",
      "      <td>column_names_begin_token</td>\n",
      "      <td>NaN</td>\n",
      "    </tr>\n",
      "    <tr>\n",
      "      <td>footer_end_token</td>\n",
      "      <td>NaN</td>\n",
      "    </tr>\n",
      "    <tr>\n",
      "      <td>footer_begin_token</td>\n",
      "      <td>NaN</td>\n",
      "    </tr>\n",
      "    <tr>\n",
      "      <td>column_names</td>\n",
      "      <td>NaN</td>\n",
      "    </tr>\n",
      "    <tr>\n",
      "      <td>metadata_key_value_delimiter</td>\n",
      "      <td>NaN</td>\n",
      "    </tr>\n",
      "    <tr>\n",
      "      <td>column_types</td>\n",
      "      <td>['float', 'int', 'int', 'float', 'float', 'flo...</td>\n",
      "    </tr>\n",
      "    <tr>\n",
      "      <td>comment_begin</td>\n",
      "      <td>#</td>\n",
      "    </tr>\n",
      "    <tr>\n",
      "      <td>treat_header_as_comment</td>\n",
      "      <td>NaN</td>\n",
      "    </tr>\n",
      "    <tr>\n",
      "      <td>column_units</td>\n",
      "      <td>NaN</td>\n",
      "    </tr>\n",
      "    <tr>\n",
      "      <td>column_names_delimiter</td>\n",
      "      <td>,</td>\n",
      "    </tr>\n",
      "    <tr>\n",
      "      <td>treat_footer_as_comment</td>\n",
      "      <td>NaN</td>\n",
      "    </tr>\n",
      "    <tr>\n",
      "      <td>extension</td>\n",
      "      <td>txt</td>\n",
      "    </tr>\n",
      "    <tr>\n",
      "      <td>header</td>\n",
      "      <td>NaN</td>\n",
      "    </tr>\n",
      "    <tr>\n",
      "      <td>footer</td>\n",
      "      <td>NaN</td>\n",
      "    </tr>\n",
      "    <tr>\n",
      "      <td>data_end_line</td>\n",
      "      <td>NaN</td>\n",
      "    </tr>\n",
      "    <tr>\n",
      "      <td>block_comment_end</td>\n",
      "      <td>NaN</td>\n",
      "    </tr>\n",
      "    <tr>\n",
      "      <td>footer_end_line</td>\n",
      "      <td>NaN</td>\n",
      "    </tr>\n",
      "    <tr>\n",
      "      <td>data_delimiter</td>\n",
      "      <td>,</td>\n",
      "    </tr>\n",
      "    <tr>\n",
      "      <td>footer_begin_line</td>\n",
      "      <td>NaN</td>\n",
      "    </tr>\n",
      "    <tr>\n",
      "      <td>data_end_token</td>\n",
      "      <td>NaN</td>\n",
      "    </tr>\n",
      "    <tr>\n",
      "      <td>row_begin_token</td>\n",
      "      <td>NaN</td>\n",
      "    </tr>\n",
      "    <tr>\n",
      "      <td>directory</td>\n",
      "      <td>NaN</td>\n",
      "    </tr>\n",
      "    <tr>\n",
      "      <td>header_line_types</td>\n",
      "      <td>NaN</td>\n",
      "    </tr>\n",
      "    <tr>\n",
      "      <td>row_formatter_string</td>\n",
      "      <td>{0:.5f}{delimiter}{1}{delimiter}{2}{delimiter}...</td>\n",
      "    </tr>\n",
      "    <tr>\n",
      "      <td>metadata_delimiter</td>\n",
      "      <td>NaN</td>\n",
      "    </tr>\n",
      "  </tbody>\n",
      "</table>\n"
     ]
    }
   ],
   "source": [
    "print html"
   ]
  },
  {
   "cell_type": "code",
   "execution_count": null,
   "metadata": {
    "collapsed": true
   },
   "outputs": [],
   "source": []
  }
 ],
 "metadata": {
  "kernelspec": {
   "display_name": "Python 2",
   "language": "python",
   "name": "python2"
  },
  "language_info": {
   "codemirror_mode": {
    "name": "ipython",
    "version": 2
   },
   "file_extension": ".py",
   "mimetype": "text/x-python",
   "name": "python",
   "nbconvert_exporter": "python",
   "pygments_lexer": "ipython2",
   "version": "2.7.12"
  }
 },
 "nbformat": 4,
 "nbformat_minor": 0
}
