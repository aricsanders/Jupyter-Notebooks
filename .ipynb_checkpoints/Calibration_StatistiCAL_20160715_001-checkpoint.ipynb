{
 "cells": [
  {
   "cell_type": "markdown",
   "metadata": {},
   "source": [
    "# Calibration of a DUT using StatistiCAL in python\n",
    "This notebook is an example of how to calibrate a DUT using the [StatistiCAL] [cal] program using python bindings.\n",
    "\n",
    "## Table of contents\n",
    "<ol>\n",
    "<li> importing the files </li>\n",
    "<li> creating a menu file </li>\n",
    "<li> calling statistical and running the menu files </li>\n",
    "<li> displaying the result </li>\n",
    "\n",
    "[cal]:http://www.nist.gov/ctl/rf-technology/related-software.cfm"
   ]
  },
  {
   "cell_type": "code",
   "execution_count": 7,
   "metadata": {
    "collapsed": false
   },
   "outputs": [],
   "source": [
    "# importing the needed files, these are the files used in the help function of statistiCAL\n",
    "import os\n",
    "\n",
    "# first import the python bindings for statistiCAL\n",
    "from pyMeasure.Code.DataHandlers import StatistiCALModels as SC\n"
   ]
  },
  {
   "cell_type": "code",
   "execution_count": 13,
   "metadata": {
    "collapsed": false
   },
   "outputs": [],
   "source": [
    "# This initializes the wrapper class\n",
    "StatistiCAL=SC.StatistiCALWrapper()"
   ]
  },
  {
   "cell_type": "code",
   "execution_count": 9,
   "metadata": {
    "collapsed": false
   },
   "outputs": [],
   "source": [
    "# Now given a set of files we need to make a menu\n",
    "# The easiest way is to open a menu and edit it\n",
    "TESTS_DIRECTORY=os.path.join(os.getcwd(),r'StatistiCAL_Files\\StatistiCAL_Tests')\n",
    "file_path=os.path.join(TESTS_DIRECTORY,'sample2.txt')\n",
    "template_menu=SC.StatistiCALMenuModel(file_path)\n",
    "# now we change the file paths from relative to the new locations\n",
    "for index,item in enumerate(template_menu.menu_data[:]):\n",
    "    template_menu.menu_data[index]=item.replace(\"\\\\\",TESTS_DIRECTORY+\"\\\\\")\n",
    "# save the new menu\n",
    "new_path=os.path.join(TESTS_DIRECTORY,'fixed_sample.txt')\n",
    "template_menu.save(new_path)\n",
    "    \n",
    "\n"
   ]
  },
  {
   "cell_type": "code",
   "execution_count": 12,
   "metadata": {
    "collapsed": true
   },
   "outputs": [],
   "source": [
    "StatistiCAL.ShowStatistiCAL()"
   ]
  },
  {
   "cell_type": "code",
   "execution_count": 14,
   "metadata": {
    "collapsed": false
   },
   "outputs": [],
   "source": [
    "# now we load the file into StatistiCAL\n",
    "StatistiCAL.OpenMenu(new_path)\n",
    "# we hide the application and supress the error messages\n",
    "#StatistiCAL.SuppressErrorMessages()\n",
    "#StatistiCAL.HideStatistiCAL()\n",
    "#we run the calibration\n",
    "StatistiCAL.CalibrateData()\n",
    "\n",
    "#we save the results\n",
    "calibrated_dut_filepath=os.path.join(TESTS_DIRECTORY,'calibrated_dut.s2p')\n",
    "StatistiCAL.SaveDUTSParToFile(calibrated_dut_filepath)"
   ]
  },
  {
   "cell_type": "code",
   "execution_count": null,
   "metadata": {
    "collapsed": false
   },
   "outputs": [],
   "source": [
    "# We populate\n",
    "import os\n",
    "os.getcwd()"
   ]
  },
  {
   "cell_type": "code",
   "execution_count": null,
   "metadata": {
    "collapsed": true
   },
   "outputs": [],
   "source": []
  }
 ],
 "metadata": {
  "kernelspec": {
   "display_name": "Python 2",
   "language": "python",
   "name": "python2"
  },
  "language_info": {
   "codemirror_mode": {
    "name": "ipython",
    "version": 2
   },
   "file_extension": ".py",
   "mimetype": "text/x-python",
   "name": "python",
   "nbconvert_exporter": "python",
   "pygments_lexer": "ipython2",
   "version": "2.7.11"
  }
 },
 "nbformat": 4,
 "nbformat_minor": 0
}
