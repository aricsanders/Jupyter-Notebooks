{
 "cells": [
  {
   "cell_type": "code",
   "execution_count": 7,
   "metadata": {
    "collapsed": false
   },
   "outputs": [
    {
     "name": "stdout",
     "output_type": "stream",
     "text": [
      "Importing Code.Utils.Names\n",
      "Importing Code.DataHandlers.NISTModels\n",
      "Importing Code.DataHandlers.GeneralModels\n",
      "Importing Code.DataHandlers.TouchstoneModels\n",
      "Importing Code.DataHandlers.XMLModels\n",
      "Importing Code.DataHandlers.RadiCALModels\n",
      "Importing Code.DataHandlers.ZipModels\n",
      "Importing Code.DataHandlers.Translations\n",
      "Importing Code.DataHandlers.StatistiCALModels\n",
      "Importing Code.DataHandlers.MUFModels\n",
      "Importing Code.Analysis.SParameter\n",
      "Importing Code.InstrumentControl.Instruments\n",
      "Importing Code.InstrumentControl.Experiments\n"
     ]
    }
   ],
   "source": [
    "from pyMeasure import *\n",
    "import pdfkit"
   ]
  },
  {
   "cell_type": "code",
   "execution_count": 2,
   "metadata": {
    "collapsed": false
   },
   "outputs": [
    {
     "ename": "IOError",
     "evalue": "No wkhtmltopdf executable found: \"\"\nIf this file exists please check that this process can read it. Otherwise please install wkhtmltopdf - https://github.com/JazzCore/python-pdfkit/wiki/Installing-wkhtmltopdf",
     "output_type": "error",
     "traceback": [
      "\u001b[1;31m---------------------------------------------------------------------------\u001b[0m",
      "\u001b[1;31mIOError\u001b[0m                                   Traceback (most recent call last)",
      "\u001b[1;32m<ipython-input-2-40c1fffa2d83>\u001b[0m in \u001b[0;36m<module>\u001b[1;34m()\u001b[0m\n\u001b[1;32m----> 1\u001b[1;33m \u001b[0mpdfkit\u001b[0m\u001b[1;33m.\u001b[0m\u001b[0mfrom_file\u001b[0m\u001b[1;33m(\u001b[0m\u001b[0mos\u001b[0m\u001b[1;33m.\u001b[0m\u001b[0mpath\u001b[0m\u001b[1;33m.\u001b[0m\u001b[0mjoin\u001b[0m\u001b[1;33m(\u001b[0m\u001b[0mTESTS_DIRECTORY\u001b[0m\u001b[1;33m,\u001b[0m\u001b[1;34m\"One_Port_Sparameter_20160307_001.html\"\u001b[0m\u001b[1;33m)\u001b[0m\u001b[1;33m,\u001b[0m\u001b[1;34m\"test.pdf\"\u001b[0m\u001b[1;33m)\u001b[0m\u001b[1;33m\u001b[0m\u001b[0m\n\u001b[0m",
      "\u001b[1;32mC:\\Anaconda2\\lib\\site-packages\\pdfkit\\api.pyc\u001b[0m in \u001b[0;36mfrom_file\u001b[1;34m(input, output_path, options, toc, cover, css, configuration)\u001b[0m\n\u001b[0;32m     42\u001b[0m \u001b[1;33m\u001b[0m\u001b[0m\n\u001b[0;32m     43\u001b[0m     r = PDFKit(input, 'file', options=options, toc=toc, cover=cover, css=css,\n\u001b[1;32m---> 44\u001b[1;33m                configuration=configuration)\n\u001b[0m\u001b[0;32m     45\u001b[0m \u001b[1;33m\u001b[0m\u001b[0m\n\u001b[0;32m     46\u001b[0m     \u001b[1;32mreturn\u001b[0m \u001b[0mr\u001b[0m\u001b[1;33m.\u001b[0m\u001b[0mto_pdf\u001b[0m\u001b[1;33m(\u001b[0m\u001b[0moutput_path\u001b[0m\u001b[1;33m)\u001b[0m\u001b[1;33m\u001b[0m\u001b[0m\n",
      "\u001b[1;32mC:\\Anaconda2\\lib\\site-packages\\pdfkit\\pdfkit.pyc\u001b[0m in \u001b[0;36m__init__\u001b[1;34m(self, url_or_file, type_, options, toc, cover, css, configuration)\u001b[0m\n\u001b[0;32m     36\u001b[0m \u001b[1;33m\u001b[0m\u001b[0m\n\u001b[0;32m     37\u001b[0m         \u001b[0mself\u001b[0m\u001b[1;33m.\u001b[0m\u001b[0msource\u001b[0m \u001b[1;33m=\u001b[0m \u001b[0mSource\u001b[0m\u001b[1;33m(\u001b[0m\u001b[0murl_or_file\u001b[0m\u001b[1;33m,\u001b[0m \u001b[0mtype_\u001b[0m\u001b[1;33m)\u001b[0m\u001b[1;33m\u001b[0m\u001b[0m\n\u001b[1;32m---> 38\u001b[1;33m         self.configuration = (Configuration() if configuration is None\n\u001b[0m\u001b[0;32m     39\u001b[0m                               else configuration)\n\u001b[0;32m     40\u001b[0m         \u001b[0mself\u001b[0m\u001b[1;33m.\u001b[0m\u001b[0mwkhtmltopdf\u001b[0m \u001b[1;33m=\u001b[0m \u001b[0mself\u001b[0m\u001b[1;33m.\u001b[0m\u001b[0mconfiguration\u001b[0m\u001b[1;33m.\u001b[0m\u001b[0mwkhtmltopdf\u001b[0m\u001b[1;33m.\u001b[0m\u001b[0mdecode\u001b[0m\u001b[1;33m(\u001b[0m\u001b[1;34m'utf-8'\u001b[0m\u001b[1;33m)\u001b[0m\u001b[1;33m\u001b[0m\u001b[0m\n",
      "\u001b[1;32mC:\\Anaconda2\\lib\\site-packages\\pdfkit\\configuration.pyc\u001b[0m in \u001b[0;36m__init__\u001b[1;34m(self, wkhtmltopdf, meta_tag_prefix)\u001b[0m\n\u001b[0;32m     25\u001b[0m                           \u001b[1;34m'If this file exists please check that this process can '\u001b[0m\u001b[1;33m\u001b[0m\u001b[0m\n\u001b[0;32m     26\u001b[0m                           \u001b[1;34m'read it. Otherwise please install wkhtmltopdf - '\u001b[0m\u001b[1;33m\u001b[0m\u001b[0m\n\u001b[1;32m---> 27\u001b[1;33m                           'https://github.com/JazzCore/python-pdfkit/wiki/Installing-wkhtmltopdf' % self.wkhtmltopdf)\n\u001b[0m",
      "\u001b[1;31mIOError\u001b[0m: No wkhtmltopdf executable found: \"\"\nIf this file exists please check that this process can read it. Otherwise please install wkhtmltopdf - https://github.com/JazzCore/python-pdfkit/wiki/Installing-wkhtmltopdf"
     ]
    }
   ],
   "source": [
    "pdfkit.from_file(os.path.join(TESTS_DIRECTORY,\"One_Port_Sparameter_20160307_001.html\"),\"test.pdf\")"
   ]
  },
  {
   "cell_type": "code",
   "execution_count": 10,
   "metadata": {
    "collapsed": false
   },
   "outputs": [],
   "source": [
    "import os\n",
    "s2p=SNP(os.path.join(TESTS_DIRECTORY,\"Filter_n7_f0_2_35ghz.s2p\"),extension=\"s2p\",\n",
    "        metadata={\"Connector_Type_Measurement\":\"N\"},column_types=['float' for i in range(9)])"
   ]
  },
  {
   "cell_type": "code",
   "execution_count": 11,
   "metadata": {
    "collapsed": false
   },
   "outputs": [],
   "source": [
    "s2p.change_data_format(\"MA\")\n",
    "s2p.change_frequency_units(\"GHz\")\n",
    "s2p.options[\"column_names\"]=s2p.column_names\n",
    "calrep_file=calrep(s2p)"
   ]
  },
  {
   "cell_type": "code",
   "execution_count": 9,
   "metadata": {
    "collapsed": false
   },
   "outputs": [
    {
     "data": {
      "text/plain": [
       "0"
      ]
     },
     "execution_count": 9,
     "metadata": {},
     "output_type": "execute_result"
    }
   ],
   "source": [
    "s2p.column_names.index(\"Frequency\")"
   ]
  },
  {
   "cell_type": "code",
   "execution_count": 6,
   "metadata": {
    "collapsed": false
   },
   "outputs": [],
   "source": [
    "from pyMeasure.Code.Analysis.SParameter import *"
   ]
  },
  {
   "cell_type": "code",
   "execution_count": 5,
   "metadata": {
    "collapsed": true
   },
   "outputs": [],
   "source": [
    "mean=frequency_model_collapse_multiple_measurements(s2p)"
   ]
  },
  {
   "cell_type": "code",
   "execution_count": 10,
   "metadata": {
    "collapsed": false
   },
   "outputs": [
    {
     "data": {
      "text/plain": [
       "['Frequency',\n",
       " 'magS11',\n",
       " 'argS11',\n",
       " 'magS21',\n",
       " 'argS21',\n",
       " 'magS12',\n",
       " 'argS12',\n",
       " 'magS22',\n",
       " 'argS22']"
      ]
     },
     "execution_count": 10,
     "metadata": {},
     "output_type": "execute_result"
    }
   ],
   "source": [
    "s2p.column_names\n"
   ]
  },
  {
   "cell_type": "code",
   "execution_count": 11,
   "metadata": {
    "collapsed": false
   },
   "outputs": [
    {
     "data": {
      "text/plain": [
       "['data', 'noiseparameter_data', 'comments', 'option_line']"
      ]
     },
     "execution_count": 11,
     "metadata": {},
     "output_type": "execute_result"
    }
   ],
   "source": [
    "s2p.elements\n"
   ]
  },
  {
   "cell_type": "code",
   "execution_count": 6,
   "metadata": {
    "collapsed": false
   },
   "outputs": [
    {
     "name": "stdout",
     "output_type": "stream",
     "text": [
      "[1.0, 0.999831513, 118.32982500000001, 0.00345233876, -151.816779, 0.00345233876, -151.816779, 0.9999637389999999, 117.695965]\n",
      "['1.0', '0.999831513', '118.329825', '0.00345233876', '-151.816779', '0.00345233876', '-151.816779', '0.999963739', '117.695965']\n"
     ]
    }
   ],
   "source": [
    "mean.update_model()\n",
    "print s2p.data[0]\n",
    "print mean.data[0]"
   ]
  },
  {
   "cell_type": "code",
   "execution_count": 7,
   "metadata": {
    "collapsed": false
   },
   "outputs": [
    {
     "name": "stdout",
     "output_type": "stream",
     "text": [
      "inline_comments = None\n",
      "data_begin_line = 1\n",
      "column_names_begin_line = 0\n",
      "columnn_types = ['float', 'float', 'float', 'float', 'float', 'float', 'float', 'float', 'float']\n",
      "footer_line_types = None\n",
      "general_descriptor = Sparameter\n",
      "header_end_token = None\n",
      "header_end_line = None\n",
      "column_names_end_line = 1\n",
      "data_table_element_separator = \n",
      "\n",
      "escape_character = None\n",
      "data = None\n",
      "inline_comment_begin = !\n",
      "column_descriptions = None\n",
      "inline_comment_end = \n",
      "comments = [[' Created Mon Nov 30 18:22:43 2015', 0, 0], [' 2 Port Network Data from SP1.SP block', 2, 0], [' freq  magS11  angS11  magS21  angS21  magS12  angS12  magS22  angS22  ', 3, 0], ['     ', 4, 0]]\n",
      "data_begin_token = None\n",
      "comment_end = None\n",
      "header_begin_line = None\n",
      "row_end_token = None\n",
      "sparameter_complex = []\n",
      "number_ports = None\n",
      "column_names_end_token = None\n",
      "block_comment_begin = None\n",
      "method = mean\n",
      "header_begin_token = None\n",
      "metadata = None\n",
      "specific_descriptor = mean_Multiport\n",
      "option_line_line = 1\n",
      "empty_value = None\n",
      "column_names_begin_token = None\n",
      "noiseparameter_data = []\n",
      "footer_end_token = None\n",
      "footer_begin_token = None\n",
      "sparameter_row_formatter_string = None\n",
      "column_names = None\n",
      "metadata_key_value_delimiter = None\n",
      "column_types = None\n",
      "path = None\n",
      "comment_begin = None\n",
      "treat_header_as_comment = None\n",
      "option_line = # hz S MA R 50\n",
      "column_units = None\n",
      "column_names_delimiter = None\n",
      "treat_footer_as_comment = None\n",
      "extension = s2p\n",
      "header = None\n",
      "footer = None\n",
      "data_end_line = None\n",
      "block_comment_end = None\n",
      "footer_end_line = None\n",
      "data_delimiter = \t\n",
      "footer_begin_line = None\n",
      "data_end_token = None\n",
      "row_begin_token = None\n",
      "directory = None\n",
      "header_line_types = None\n",
      "row_formatter_string = None\n",
      "metadata_delimiter = None\n"
     ]
    }
   ],
   "source": [
    "mean.get_options()"
   ]
  },
  {
   "cell_type": "code",
   "execution_count": 13,
   "metadata": {
    "collapsed": false
   },
   "outputs": [
    {
     "name": "stdout",
     "output_type": "stream",
     "text": [
      "average_columns is ['magS11', 'argS11', 'magS21', 'argS21', 'magS12', 'argS12', 'magS22', 'argS22']\n",
      "Length of x is 11001, Length of y is 11001, Length of error is 11001\n",
      "Length of x is 11001, Length of y is 11001, Length of error is 11001\n",
      "Length of x is 11001, Length of y is 11001, Length of error is 11001\n",
      "Length of x is 11001, Length of y is 11001, Length of error is 11001\n"
     ]
    },
    {
     "data": {
      "text/plain": [
       "<matplotlib.figure.Figure at 0x10c287b8>"
      ]
     },
     "execution_count": 13,
     "metadata": {},
     "output_type": "execute_result"
    }
   ],
   "source": [
    "calrep_file.metadata[\"Device_Id\"]=\" Fake Device\"\n",
    "plot_calrep(calrep_file)"
   ]
  },
  {
   "cell_type": "code",
   "execution_count": 8,
   "metadata": {
    "collapsed": true
   },
   "outputs": [],
   "source": [
    "from win32com import client"
   ]
  },
  {
   "cell_type": "code",
   "execution_count": 5,
   "metadata": {
    "collapsed": false
   },
   "outputs": [],
   "source": [
    "word=client.DispatchEx(\"Word.Application\")"
   ]
  },
  {
   "cell_type": "code",
   "execution_count": 6,
   "metadata": {
    "collapsed": false
   },
   "outputs": [
    {
     "ename": "com_error",
     "evalue": "(-2147023170, 'The remote procedure call failed.', None, None)",
     "output_type": "error",
     "traceback": [
      "\u001b[1;31m---------------------------------------------------------------------------\u001b[0m",
      "\u001b[1;31mcom_error\u001b[0m                                 Traceback (most recent call last)",
      "\u001b[1;32m<ipython-input-6-f7ac52a25cc7>\u001b[0m in \u001b[0;36m<module>\u001b[1;34m()\u001b[0m\n\u001b[1;32m----> 1\u001b[1;33m \u001b[0mdoc\u001b[0m\u001b[1;33m=\u001b[0m\u001b[0mword\u001b[0m\u001b[1;33m.\u001b[0m\u001b[0mDocuments\u001b[0m\u001b[1;33m.\u001b[0m\u001b[0mOpen\u001b[0m\u001b[1;33m(\u001b[0m\u001b[1;34mr\"C:\\Share\\Aric-2016-05-11\\Aric\\Fab Resume Aric Sanders 2016.docx\"\u001b[0m\u001b[1;33m)\u001b[0m\u001b[1;33m\u001b[0m\u001b[0m\n\u001b[0m",
      "\u001b[1;32mC:\\Anaconda2\\lib\\site-packages\\win32com\\client\\dynamic.pyc\u001b[0m in \u001b[0;36mOpen\u001b[1;34m(self, FileName, ConfirmConversions, ReadOnly, AddToRecentFiles, PasswordDocument, PasswordTemplate, Revert, WritePasswordDocument, WritePasswordTemplate, Format, Encoding, Visible, OpenAndRepair, DocumentDirection, NoEncodingDialog, XMLTransform)\u001b[0m\n",
      "\u001b[1;31mcom_error\u001b[0m: (-2147023170, 'The remote procedure call failed.', None, None)"
     ]
    }
   ],
   "source": [
    "doc=word.Documents.Open(r\"C:\\Share\\Aric-2016-05-11\\Aric\\Fab Resume Aric Sanders 2016.docx\")"
   ]
  },
  {
   "cell_type": "code",
   "execution_count": 17,
   "metadata": {
    "collapsed": true
   },
   "outputs": [],
   "source": [
    "doc.SaveAs(\"test.pdf\",FileFormat=17)"
   ]
  },
  {
   "cell_type": "code",
   "execution_count": 18,
   "metadata": {
    "collapsed": true
   },
   "outputs": [],
   "source": [
    "doc.SaveAs(\"test.html\",FileFormat=10)"
   ]
  },
  {
   "cell_type": "code",
   "execution_count": 19,
   "metadata": {
    "collapsed": true
   },
   "outputs": [],
   "source": [
    "doc.SaveAs(\"test2.html\",FileFormat=8)"
   ]
  },
  {
   "cell_type": "code",
   "execution_count": 22,
   "metadata": {
    "collapsed": false
   },
   "outputs": [],
   "source": [
    "doc.SaveAs(\"test.odt\",FileFormat=23)"
   ]
  },
  {
   "cell_type": "code",
   "execution_count": null,
   "metadata": {
    "collapsed": true
   },
   "outputs": [],
   "source": [
    "doc.Close()"
   ]
  },
  {
   "cell_type": "code",
   "execution_count": 9,
   "metadata": {
    "collapsed": true
   },
   "outputs": [],
   "source": [
    "def doc_file_to_pdf_file(doc_file_name,pdf_file_name=\"test.pdf\"):\n",
    "    \"\"\"Converts a microsoft doc or docx file to a pdf using word. \n",
    "    Requires word and win32com to be installed. Returns the new file name\"\"\"\n",
    "    word=client.DispatchEx(\"Word.Application\")\n",
    "    doc=word.Documents.Open(doc_file_name)\n",
    "    doc.SaveAs(pdf_file_name,FileFormat=17)\n",
    "    doc.Close()\n",
    "    word.Quit()\n",
    "    return pdf_file_name\n",
    "\n",
    "def doc_file_to_html_file(doc_file_name,html_file_name=\"test.html\"):\n",
    "    \"\"\"Converts a microsoft doc or docx file to a filtered html file using word. \n",
    "    Requires word and win32com to be installed. Returns the new file name\"\"\"\n",
    "    word=client.DispatchEx(\"Word.Application\")\n",
    "    doc=word.Documents.Open(doc_file_name)\n",
    "    doc.SaveAs(html_file_name,FileFormat=10)\n",
    "    doc.Close()\n",
    "    word.Quit()\n",
    "    return html_file_name\n",
    "\n",
    "def doc_file_to_odt_file(doc_file_name,odt_file_name=\"test.odt\"):\n",
    "    \"\"\"Converts a microsoft doc or docx file to a open document format file using word. \n",
    "    Requires word and win32com to be installed. Returns the new file name\"\"\"\n",
    "    word=client.DispatchEx(\"Word.Application\")\n",
    "    doc=word.Documents.Open(doc_file_name)\n",
    "    doc.SaveAs(odt_file_name,FileFormat=23)\n",
    "    doc.Close()\n",
    "    word.Quit()\n",
    "    return odt_file_name"
   ]
  },
  {
   "cell_type": "code",
   "execution_count": 10,
   "metadata": {
    "collapsed": false
   },
   "outputs": [
    {
     "ename": "com_error",
     "evalue": "(-2147023170, 'The remote procedure call failed.', None, None)",
     "output_type": "error",
     "traceback": [
      "\u001b[1;31m---------------------------------------------------------------------------\u001b[0m",
      "\u001b[1;31mcom_error\u001b[0m                                 Traceback (most recent call last)",
      "\u001b[1;32m<ipython-input-10-c3abf07ff9e9>\u001b[0m in \u001b[0;36m<module>\u001b[1;34m()\u001b[0m\n\u001b[1;32m----> 1\u001b[1;33m \u001b[0mdoc_file_to_pdf_file\u001b[0m\u001b[1;33m(\u001b[0m\u001b[1;34mr\"C:\\Share\\Aric-2016-05-11\\Aric\\Fab Resume Aric Sanders 2016.docx\"\u001b[0m\u001b[1;33m)\u001b[0m\u001b[1;33m\u001b[0m\u001b[0m\n\u001b[0m",
      "\u001b[1;32m<ipython-input-9-2971e47b010d>\u001b[0m in \u001b[0;36mdoc_file_to_pdf_file\u001b[1;34m(doc_file_name, pdf_file_name)\u001b[0m\n\u001b[0;32m      3\u001b[0m     Requires word and win32com to be installed. Returns the new file name\"\"\"\n\u001b[0;32m      4\u001b[0m     \u001b[0mword\u001b[0m\u001b[1;33m=\u001b[0m\u001b[0mclient\u001b[0m\u001b[1;33m.\u001b[0m\u001b[0mDispatchEx\u001b[0m\u001b[1;33m(\u001b[0m\u001b[1;34m\"Word.Application\"\u001b[0m\u001b[1;33m)\u001b[0m\u001b[1;33m\u001b[0m\u001b[0m\n\u001b[1;32m----> 5\u001b[1;33m     \u001b[0mdoc\u001b[0m\u001b[1;33m=\u001b[0m\u001b[0mword\u001b[0m\u001b[1;33m.\u001b[0m\u001b[0mDocuments\u001b[0m\u001b[1;33m.\u001b[0m\u001b[0mOpen\u001b[0m\u001b[1;33m(\u001b[0m\u001b[0mdoc_file_name\u001b[0m\u001b[1;33m)\u001b[0m\u001b[1;33m\u001b[0m\u001b[0m\n\u001b[0m\u001b[0;32m      6\u001b[0m     \u001b[0mdoc\u001b[0m\u001b[1;33m.\u001b[0m\u001b[0mSaveAs\u001b[0m\u001b[1;33m(\u001b[0m\u001b[0mpdf_file_name\u001b[0m\u001b[1;33m,\u001b[0m\u001b[0mFileFormat\u001b[0m\u001b[1;33m=\u001b[0m\u001b[1;36m17\u001b[0m\u001b[1;33m)\u001b[0m\u001b[1;33m\u001b[0m\u001b[0m\n\u001b[0;32m      7\u001b[0m     \u001b[0mdoc\u001b[0m\u001b[1;33m.\u001b[0m\u001b[0mClose\u001b[0m\u001b[1;33m(\u001b[0m\u001b[1;33m)\u001b[0m\u001b[1;33m\u001b[0m\u001b[0m\n",
      "\u001b[1;32mC:\\Anaconda2\\lib\\site-packages\\win32com\\client\\dynamic.pyc\u001b[0m in \u001b[0;36mOpen\u001b[1;34m(self, FileName, ConfirmConversions, ReadOnly, AddToRecentFiles, PasswordDocument, PasswordTemplate, Revert, WritePasswordDocument, WritePasswordTemplate, Format, Encoding, Visible, OpenAndRepair, DocumentDirection, NoEncodingDialog, XMLTransform)\u001b[0m\n",
      "\u001b[1;31mcom_error\u001b[0m: (-2147023170, 'The remote procedure call failed.', None, None)"
     ]
    }
   ],
   "source": [
    "doc_file_to_pdf_file(r\"C:\\Share\\Aric-2016-05-11\\Aric\\Fab Resume Aric Sanders 2016.docx\")"
   ]
  },
  {
   "cell_type": "code",
   "execution_count": null,
   "metadata": {
    "collapsed": true
   },
   "outputs": [],
   "source": [
    "<svg id=\"js-plotly-tester\" xmlns=\"http://www.w3.org/2000/svg\" xmlns:xlink=\"http://www.w3.org/1999/xlink\" style=\"position: absolute; left: -10000px; top: -10000px; width: 9000px; height: 9000px; z-index: 1;\"><path class=\"js-reference-point\" d=\"M0,0H1V1H0Z\" style=\"stroke-width: 0; fill: black;\"></path></svg>"
   ]
  }
 ],
 "metadata": {
  "kernelspec": {
   "display_name": "Python 2",
   "language": "python",
   "name": "python2"
  },
  "language_info": {
   "codemirror_mode": {
    "name": "ipython",
    "version": 2
   },
   "file_extension": ".py",
   "mimetype": "text/x-python",
   "name": "python",
   "nbconvert_exporter": "python",
   "pygments_lexer": "ipython2",
   "version": "2.7.12"
  }
 },
 "nbformat": 4,
 "nbformat_minor": 0
}
