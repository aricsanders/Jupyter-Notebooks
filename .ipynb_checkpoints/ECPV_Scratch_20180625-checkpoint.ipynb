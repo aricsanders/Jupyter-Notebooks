{
 "cells": [
  {
   "cell_type": "markdown",
   "metadata": {},
   "source": [
    "# ECPV Class Description \n",
    "\n",
    "## Required Attributes\n",
    "\n",
    "### The Primary Class is an Encyclopedia, or Collection of Descriptions\n",
    "1. An entity reference. This is isomorphic to a table, is a list of entities. All entities must be unique.\n",
    "2. The Universe, or collection of knowledge systems to be used to create descriptions.\n",
    "3. A set of descriptions that are composed of ECP=V facts. This can be isomorphic to a table or a dictionary.\n",
    "\n",
    "### Must have\n",
    "1. Search by identity, a search that looks at entities and returns all descriptions of entitites that match the search\n",
    "2. Search by description, if a description matches a property=value pattern return all descriptions for which it is true\n",
    "3. The ability to add to entity list\n",
    "4. The ability to add a knowledge system.\n"
   ]
  },
  {
   "cell_type": "code",
   "execution_count": 17,
   "metadata": {
    "collapsed": false
   },
   "outputs": [],
   "source": [
    "from pyMez import *\n",
    "from pyMez.Code.DataHandlers.Translations import *"
   ]
  },
  {
   "cell_type": "code",
   "execution_count": 36,
   "metadata": {
    "collapsed": false
   },
   "outputs": [],
   "source": [
    "class KnowledgeSystem(AsciiDataTable):\n",
    "    \"\"\"A Knowledge System is a collection of properties (context) and a collection of metadata about those properties\n",
    "    (obligate contexts). \"\"\"\n",
    "    def __init__(self,file_path=None,**options):\n",
    "        \"\"\"Intializes a knowledge system\"\"\"\n",
    "        defaults={\"context\":None,\"key_formatter_string\":\"{context}.{obligate}:{property}\"}\n",
    "        self.options={}\n",
    "        for key,value in defaults.iteritems():\n",
    "            self.options[key]=value\n",
    "        for key,value in options.iteritems():\n",
    "            self.options[key]=value\n",
    "        if file_path is None:\n",
    "            self.options[\"column_names\"]=[\"Property\"]\n",
    "            self.options[\"data\"]=[[\"Self\"],[\"Default\"]]\n",
    "            AsciiDataTable.__init__(self,None,**self.options)\n",
    "        else:\n",
    "            AsciiDataTable.__init__(self,file_path,**self.options)\n",
    "        self.context=self.options[\"context\"]\n",
    "        self.obligate_names=self.column_names\n",
    "        self.properties=self[\"Property\"]\n",
    "    #get a row of a knowledge system based on property\n",
    "    def get_property_defintion(self,property_name):\n",
    "        \"\"\"Retrieves a row of the knowledge system based on the property_name\"\"\"\n",
    "        row_index=self[\"Property\"].index(property_name)\n",
    "        return self.get_row(row_index)\n",
    "    \n",
    "    def get_property_dictionary(self,property_name):\n",
    "        \"\"\"Returns a dictionary of the form {obligate_name:obligate_value}\"\"\"\n",
    "        row_index=self[\"Property\"].index(property_name)\n",
    "        property_dictionary={self.column_names[index]:value for index,value in enumerate(self.data[:][row_index])}\n",
    "        return  property_dictionary\n",
    "    \n",
    "    def add_property(self,property_name,**obilgate_values):\n",
    "        \"\"\"Adds a new row to the knowledge system, obilgate values should be in the form of a dictionary, or key\n",
    "        word arguments like obligate=value.\n",
    "        obligate_values={obligate:value}, if an obligate is not specified, the value defaults to the default property\n",
    "        or to None if not specified\"\"\"\n",
    "        if property_name in self[\"Property\"]:\n",
    "            print(\"Property Exists Use edit_entry to modify values\")\n",
    "            return None\n",
    "        defaults={}\n",
    "        obligate_dictionary={}\n",
    "        for key,value in defaults.iteritems():\n",
    "            obligate_dictionary[key]=value\n",
    "        for key,value in obilgate_values.iteritems():\n",
    "            obligate_dictionary[key]=value\n",
    "        new_row=[]\n",
    "        column_names=self.column_names[:]\n",
    "        for column_index,column_name in enumerate(column_names):\n",
    "            if column_name in obligate_dictionary.keys():\n",
    "                new_row.append(obligate_dictionary[column_name])\n",
    "            elif re.match(\"property\",column_name,re.IGNORECASE):\n",
    "                new_row.append(property_name)\n",
    "            else:\n",
    "                if self.data[1][column_index]:\n",
    "                    new_row.append(self.data[1][column_index])\n",
    "                else:\n",
    "                    new_row.append(None)\n",
    "        self.add_row(new_row)\n",
    "        \n",
    "    def edit_entry(self,property_name,obligate_name,new_value):\n",
    "        \"\"\"Edit a value for a specific property and obligate\"\"\"\n",
    "        column_index=self.column_names.index(obligate_name)\n",
    "        row_index=self[\"Property\"].index(property_name)\n",
    "        self.data[row_index][column_index]=new_value\n",
    "        \n",
    "    def get_entry(self,property_name,obligate_name):\n",
    "        \"\"\"returns a value for a specific property and obligate\"\"\"\n",
    "        column_index=self.column_names.index(obligate_name)\n",
    "        row_index=self[\"Property\"].index(property_name)\n",
    "        out=self.data[:][row_index][column_index]\n",
    "        return out\n",
    "        \n",
    "        \n",
    "    def to_row_modelled(self):\n",
    "        \"\"\"Returns a sparse, row modelled version of the knowledge system\"\"\"\n",
    "        out_dictionary={}\n",
    "        for property_name in self[\"Property\"][:]:\n",
    "            for obligate_name in self.column_names[:]:\n",
    "                if obligate_name is not \"Property\":\n",
    "                    key=self.options[\"key_formatter_string\"].format(**{\"context\":self.context,\n",
    "                                                                       \"obligate\":obligate_name,\"property\":property_name})\n",
    "                    # this leaves out Nones\n",
    "                    if self.get_entry(property_name,obligate_name):\n",
    "                        out_dictionary[key]=self.get_entry(property_name,obligate_name)\n",
    "        return out_dictionary\n",
    "    \n",
    "    \n",
    "    def add_obligate(self,obligate_name,**property_value_dictionary):\n",
    "        \"\"\"Adds an obligate-context to the knowledge system. Optional default and self values. Default will be assumed\n",
    "        for all properties without an obligate value defined, self holds a description of the obligate.\n",
    "        care must be taken not to try to assign the value as self but use Self\"\"\"\n",
    "        # adds a column to the table where the first two rows are obligate_self and obligate_default\n",
    "        defaults={\"Self\":None,\"Default\":None}\n",
    "        obligate_dictionary={}\n",
    "        for key,value in defaults.iteritems():\n",
    "            obligate_dictionary[key]=value\n",
    "        for key,value in property_value_dictionary.iteritems():\n",
    "            obligate_dictionary[key]=value\n",
    "        column_data=[]\n",
    "        properties=self.get_column(\"Property\")\n",
    "        for property_name in properties:\n",
    "            if property_name in obligate_dictionary.keys():\n",
    "                column_data.append(obligate_dictionary[property_name])\n",
    "            else:\n",
    "                if obligate_dictionary[\"Default\"]:\n",
    "                    column_data.append(obligate_dictionary[\"Default\"])\n",
    "                else:\n",
    "                    column_data.append(None)\n",
    "                \n",
    "        self.add_column(column_name=obligate_name,column_data=column_data)\n",
    "    \n",
    "class Encyclopedia(object):\n",
    "    \"\"\"An Encyclopedia is a collection of descriptions\"\"\"\n",
    "    def __init__(self,file_path=None,**options):\n",
    "        \"\"\"Initializes an Encyclopedia\"\"\"\n",
    "        defaults={\"key_formatter_string\":None,\n",
    "                  \"key_value__formatter\":None,\n",
    "                  \"key_value_pattern\":None,\n",
    "                  \"entity_table\":None,\n",
    "                  \"entity_attributes\":None,\n",
    "                  \"universe\":None,\n",
    "                  \"context_obligate_delimiter\":\".\",\n",
    "                  \"encyclopedia_begin_token\":\"Begin Encyclopedia\",\n",
    "                  \"encyclopedia_end_token\":\"End Encyclopedia\",\n",
    "                  \"entity_table_primary_key\":\"index\",\n",
    "                  \"entity_table_begin_token\":\"Begin Entity Table\",\n",
    "                  \"entity_table_end_token\":\"End Entity Table\",\n",
    "                  \"universe_begin_token\":\"Begin Universe\",\n",
    "                  \"universe_end_token\":\"End Universe\",\n",
    "                  \"description_begin_token\":\"Begin Descriptions\",\n",
    "                  \"descriptions_end_token\":\"End Descriptions\",\n",
    "                  \"knowledge_system_begin_prefix\":\"Begin Knowledge System\",\n",
    "                  \"knowledge_system_end_prefix\":\"End Knowledge System\"\n",
    "                 }\n",
    "        self.options={}\n",
    "        for key,value in defaults.iteritems():\n",
    "            self.options[key]=value\n",
    "        for key,value in options.iteritems():\n",
    "            self.options[key]=value\n",
    "        if file_path is None:\n",
    "            # Create a new encylcopedia\n",
    "            self.entity=AsciiDataTable(None)\n",
    "            self.universe={}\n",
    "            self.descriptions=AsciiDataTable(None,column_names=[\"Entity\",\"Context\",\"Property\",\"Value\"])\n",
    "            self.contexts=[]\n",
    "        else:pass\n",
    "            # parse an existing data table\n",
    "            # requires options to be set properly\n",
    "            \n",
    "                                             \n",
    "    def set_entity_primary_key(entity_table_column_name):\n",
    "        \"\"\"Sets the column name to use for the entity primary key,\n",
    "        by default the primary key is row number (index)\"\"\"\n",
    "        # The primary key is a column or columns that can be refered to instead of the full row of the entity table\n",
    "        self.entity_primary_key=entity_table_column_name\n",
    "            \n",
    "    def add_description(self,entity,context,property_name,value,obligate=None):\n",
    "        \"\"\"Adds a description to the encyclopedia, the entity, context (or knowledge_system name),property_name,\n",
    "        and value are required. If the context is an obligate-context then add obligate\"\"\"\n",
    "        if obligate is not None:\n",
    "            context=context+self.options[\"context_obligate_deilimiter\"]+obligate\n",
    "        \n",
    "        self.descriptions.add_row(entity,context,property_name,value)\n",
    "\n",
    "    def add_knowledge_system(self,knowledge_system):\n",
    "        \"\"\"Adds a knowledge system to the universe being used for the encyclopedia\"\"\"\n",
    "        self.universe[knowledge_system.context]=knowledge_system\n",
    "        self.contexts=sorted(self.universe.keys()[:])\n",
    "        \n",
    "    def add_entity(self,entity):\n",
    "        \"\"\"Adds an entity to entity_table. The entity is a row in the entity table\"\"\"\n",
    "        self.entity_table.add_row(entity)\n",
    "                                         \n",
    "    def get_entity(self,entity_reference,by=\"row\"):\n",
    "        \"\"\"Gets an entity, it can be by row index (i.e index) or the primary key\"\"\"\n",
    "        if re.search(\"pk|primary|key\",by,re.IGNORECASE) and not re.match(\"index\",self.entity_primary_key):\n",
    "            try:\n",
    "                row_number=self.entity_table[self.entity_primary_key].index(entity)\n",
    "                return self.entity_table.data[:][row_number]\n",
    "            except:\n",
    "                print(\"Could not find {0} in entity table\".format(entity_reference))\n",
    "        else:\n",
    "            return self.entity_table.data[:][entity_reference]\n",
    "                                         \n",
    "    def __str__(self):\n",
    "        \"\"\"Controls the string behavior of the encyclopedia\"\"\"\n",
    "        \n",
    "        out_string=\"\"\n",
    "        if self.entity:\n",
    "            out_string=\"Begin Entity \\n\"+str(self.entity)+\"\\n End Entity\\n\"\n",
    "        if self.contexts:\n",
    "            for key in self.contexts[:]:\n",
    "                out_string=out_string+\"Begin Knowledge System {0} \\n\".format(key)+str(self.universe[key])+\\\n",
    "                \"\\n End Knowledge System {0} \\n\".format(key)\n",
    "        if self.descriptions:\n",
    "            out_string=out_string+\"Begin Descriptions \\n\"+str(self.descriptions)+\"\\n End Descriptions \\n\"\n",
    "        return out_string\n",
    "        \n",
    "    def build_string(self):\n",
    "        \"\"\"Builds the string definition of the encyclopedia\"\"\"\n",
    "        self.length_entity_table=len(str(self.entity_table).splitlines())\n",
    "        self.length_descriptions=len(str(self.descriptions).splitlines())\n",
    "        length_encyclopedia=len(str(self))\n",
    "                                         \n",
    "    def get_descriptions(self,entity):\n",
    "        \"\"\"Returns all descriptions of an entity\"\"\"\n",
    "        results=filter(lambda x: x[0]==entity,self.descriptions.data)\n",
    "        return results\n",
    "                                         \n",
    "    def get_entities(self,context,property_name,value,obligate=None):\n",
    "        \"\"\"Returns a subset of entity table that has context:property=Value\"\"\"\n",
    "        if obligate is not None:\n",
    "            context=context+self.options[\"context_obligate_deilimiter\"]+obligate\n",
    "        results=filter(lambda x: x[1]==context and x[2]==property_name and x[3]==value,self.descriptions.data)\n",
    "        return results\n",
    "    def get_flat_table(self):\n",
    "        \"\"\"Returns a flat table representation of the Encyclopedia\"\"\"\n",
    "        # makes sure the entity is expanded and the context is of the form context.obligate\n",
    "        pass\n",
    "                                         \n",
    "    def get_description_dictionary(self):\n",
    "        \"\"\"Returns a python dictionary of descriptions where the key is determined by key_formatter_string\"\"\"\n",
    "        dictionary_form={}\n",
    "        descriptions_dictionary_list=self.descriptions.get_data_dictionary_list()\n",
    "        for row_index,description in enumerate(self.descriptions[:]):\n",
    "            key=self.options[\"key_formatter_string\"].format(descriptions_dictionary_list[row_index])\n",
    "                                         \n",
    "                                         \n",
    "    \n",
    "    "
   ]
  },
  {
   "cell_type": "code",
   "execution_count": 2,
   "metadata": {
    "collapsed": true
   },
   "outputs": [],
   "source": [
    "ks=KnowledgeSystem(context=\"Vanilla\")"
   ]
  },
  {
   "cell_type": "code",
   "execution_count": 3,
   "metadata": {
    "collapsed": false
   },
   "outputs": [
    {
     "name": "stdout",
     "output_type": "stream",
     "text": [
      "Property\n",
      "Self\n",
      "Default\n"
     ]
    }
   ],
   "source": [
    "print ks"
   ]
  },
  {
   "cell_type": "code",
   "execution_count": 4,
   "metadata": {
    "collapsed": false
   },
   "outputs": [],
   "source": [
    "ks.add_property(\"Measurement_Timestamp\")"
   ]
  },
  {
   "cell_type": "code",
   "execution_count": 5,
   "metadata": {
    "collapsed": false
   },
   "outputs": [],
   "source": [
    "ks.add_obligate(\"Type\",**{\"Self\":\"The datatype of the property\",\"Default\":\"String\"})"
   ]
  },
  {
   "cell_type": "code",
   "execution_count": 6,
   "metadata": {
    "collapsed": true
   },
   "outputs": [],
   "source": [
    "ks.add_property(\"Index\",Type=\"int\")"
   ]
  },
  {
   "cell_type": "code",
   "execution_count": 7,
   "metadata": {
    "collapsed": false
   },
   "outputs": [],
   "source": [
    "ks.add_obligate(\"Unit\",**{\"Self\":\"The Unit of the Property\"})"
   ]
  },
  {
   "cell_type": "code",
   "execution_count": 8,
   "metadata": {
    "collapsed": true
   },
   "outputs": [],
   "source": [
    "ks.add_property(\"DMM_Reading\",Unit=\"Volts\")"
   ]
  },
  {
   "cell_type": "code",
   "execution_count": 9,
   "metadata": {
    "collapsed": false
   },
   "outputs": [
    {
     "data": {
      "text/plain": [
       "['DMM_Reading', 'String', 'Volts']"
      ]
     },
     "execution_count": 9,
     "metadata": {},
     "output_type": "execute_result"
    }
   ],
   "source": [
    "ks.get_property_defintion(\"DMM_Reading\")"
   ]
  },
  {
   "cell_type": "code",
   "execution_count": 10,
   "metadata": {
    "collapsed": false
   },
   "outputs": [
    {
     "data": {
      "text/plain": [
       "{'Property': 'DMM_Reading', 'Type': 'String', 'Unit': 'Volts'}"
      ]
     },
     "execution_count": 10,
     "metadata": {},
     "output_type": "execute_result"
    }
   ],
   "source": [
    "ks.get_property_dictionary(\"DMM_Reading\")"
   ]
  },
  {
   "cell_type": "code",
   "execution_count": 11,
   "metadata": {
    "collapsed": false
   },
   "outputs": [],
   "source": [
    "ks.edit_entry(property_name=\"Measurement_Timestamp\",obligate_name=\"Type\",new_value=\"Datetime\")"
   ]
  },
  {
   "cell_type": "code",
   "execution_count": 12,
   "metadata": {
    "collapsed": false
   },
   "outputs": [
    {
     "name": "stdout",
     "output_type": "stream",
     "text": [
      "Property,Type,Unit\n",
      "Self,The datatype of the property,The Unit of the Property\n",
      "Default,String,None\n",
      "Measurement_Timestamp,Datetime,None\n",
      "Index,int,None\n",
      "DMM_Reading,String,Volts\n"
     ]
    }
   ],
   "source": [
    "print ks"
   ]
  },
  {
   "cell_type": "code",
   "execution_count": 13,
   "metadata": {
    "collapsed": false
   },
   "outputs": [
    {
     "data": {
      "text/plain": [
       "['The Unit of the Property', None, None, None, 'Volts']"
      ]
     },
     "execution_count": 13,
     "metadata": {},
     "output_type": "execute_result"
    }
   ],
   "source": [
    "ks[\"Unit\"]"
   ]
  },
  {
   "cell_type": "code",
   "execution_count": 14,
   "metadata": {
    "collapsed": true
   },
   "outputs": [],
   "source": [
    "ks.add_property(\"Python_Class\",Type=\"String\")"
   ]
  },
  {
   "cell_type": "code",
   "execution_count": 15,
   "metadata": {
    "collapsed": false
   },
   "outputs": [
    {
     "name": "stdout",
     "output_type": "stream",
     "text": [
      "Property,Type,Unit\n",
      "Self,The datatype of the property,The Unit of the Property\n",
      "Default,String,None\n",
      "Measurement_Timestamp,Datetime,None\n",
      "Index,int,None\n",
      "DMM_Reading,String,Volts\n",
      "Python_Class,String,None\n"
     ]
    }
   ],
   "source": [
    "print ks"
   ]
  },
  {
   "cell_type": "code",
   "execution_count": 17,
   "metadata": {
    "collapsed": true
   },
   "outputs": [],
   "source": [
    "xks=AsciiDataTable_to_XmlDataTable(ks)"
   ]
  },
  {
   "cell_type": "code",
   "execution_count": 18,
   "metadata": {
    "collapsed": false
   },
   "outputs": [
    {
     "name": "stdout",
     "output_type": "stream",
     "text": [
      "<?xml version=\"1.0\" ?>\n",
      "<?xml-stylesheet type=\"text/xsl\" href=\"../XSL/ONE_PORT_STYLE.xsl\"?>\n",
      "<Data_Table>\n",
      "\t<Data_Description/>\n",
      "\t<Data>\n",
      "\t\t<Tuple Property=\"Self\" Type=\"The datatype of the property\" Unit=\"The Unit of the Property\"/>\n",
      "\t\t<Tuple Property=\"Default\" Type=\"String\" Unit=\"None\"/>\n",
      "\t\t<Tuple Property=\"Measurement_Timestamp\" Type=\"Datetime\" Unit=\"None\"/>\n",
      "\t\t<Tuple Property=\"Index\" Type=\"int\" Unit=\"None\"/>\n",
      "\t\t<Tuple Property=\"DMM_Reading\" Type=\"String\" Unit=\"Volts\"/>\n",
      "\t\t<Tuple Property=\"Python_Class\" Type=\"String\" Unit=\"None\"/>\n",
      "\t</Data>\n",
      "</Data_Table>\n",
      "\n"
     ]
    }
   ],
   "source": [
    "print xks"
   ]
  },
  {
   "cell_type": "code",
   "execution_count": 19,
   "metadata": {
    "collapsed": false
   },
   "outputs": [
    {
     "data": {
      "text/plain": [
       "['Python_Class', 'String', None]"
      ]
     },
     "execution_count": 19,
     "metadata": {},
     "output_type": "execute_result"
    }
   ],
   "source": [
    "ks.get_property_defintion(\"Python_Class\")"
   ]
  },
  {
   "cell_type": "code",
   "execution_count": 20,
   "metadata": {
    "collapsed": false
   },
   "outputs": [
    {
     "data": {
      "text/plain": [
       "'Vanilla'"
      ]
     },
     "execution_count": 20,
     "metadata": {},
     "output_type": "execute_result"
    }
   ],
   "source": [
    "ks.context\n"
   ]
  },
  {
   "cell_type": "code",
   "execution_count": 19,
   "metadata": {
    "collapsed": false
   },
   "outputs": [],
   "source": [
    "dks=ks.to_row_modelled()"
   ]
  },
  {
   "cell_type": "code",
   "execution_count": 20,
   "metadata": {
    "collapsed": false
   },
   "outputs": [
    {
     "data": {
      "text/plain": [
       "['Vanilla.Type:Default=String',\n",
       " 'Vanilla.Unit:DMM_Reading=Volts',\n",
       " 'Vanilla.Unit:Self=The Unit of the Property',\n",
       " 'Vanilla.Type:Measurement_Timestamp=Datetime',\n",
       " 'Vanilla.Type:Self=The datatype of the property',\n",
       " 'Vanilla.Type:Index=int',\n",
       " 'Vanilla.Type:Python_Class=String',\n",
       " 'Vanilla.Type:DMM_Reading=String']"
      ]
     },
     "execution_count": 20,
     "metadata": {},
     "output_type": "execute_result"
    }
   ],
   "source": [
    "Dictionary_to_HeaderList(dks)"
   ]
  },
  {
   "cell_type": "code",
   "execution_count": 23,
   "metadata": {
    "collapsed": true
   },
   "outputs": [],
   "source": [
    "ks.context=\"MeasLP\""
   ]
  },
  {
   "cell_type": "code",
   "execution_count": 24,
   "metadata": {
    "collapsed": false
   },
   "outputs": [
    {
     "data": {
      "text/plain": [
       "{'MeasLP.Type:DMM_Reading': 'String',\n",
       " 'MeasLP.Type:Default': 'String',\n",
       " 'MeasLP.Type:Index': 'int',\n",
       " 'MeasLP.Type:Measurement_Timestamp': 'Datetime',\n",
       " 'MeasLP.Type:Python_Class': 'String',\n",
       " 'MeasLP.Type:Self': 'The datatype of the property',\n",
       " 'MeasLP.Unit:DMM_Reading': 'Volts',\n",
       " 'MeasLP.Unit:Self': 'The Unit of the Property'}"
      ]
     },
     "execution_count": 24,
     "metadata": {},
     "output_type": "execute_result"
    }
   ],
   "source": [
    "ks.to_row_modelled()"
   ]
  },
  {
   "cell_type": "code",
   "execution_count": 25,
   "metadata": {
    "collapsed": false
   },
   "outputs": [],
   "source": [
    "entity=AsciiDataTable(None,column_names=[\"Name\"],data=[[\"Bob\"],[\"John\"],[\"Jim\"]])"
   ]
  },
  {
   "cell_type": "code",
   "execution_count": 26,
   "metadata": {
    "collapsed": true
   },
   "outputs": [],
   "source": [
    "description=AsciiDataTable(None,column_names=[\"Entity\",\"Context\",\"Property\",\"Value\"])"
   ]
  },
  {
   "cell_type": "code",
   "execution_count": 27,
   "metadata": {
    "collapsed": false
   },
   "outputs": [
    {
     "name": "stdout",
     "output_type": "stream",
     "text": [
      "Name\n",
      "Bob\n",
      "John\n",
      "Jim\n"
     ]
    }
   ],
   "source": [
    "print entity"
   ]
  },
  {
   "cell_type": "code",
   "execution_count": 28,
   "metadata": {
    "collapsed": false
   },
   "outputs": [
    {
     "name": "stdout",
     "output_type": "stream",
     "text": [
      "Entity,Context,Property,Value\n"
     ]
    }
   ],
   "source": [
    "print description\n",
    "import datetime"
   ]
  },
  {
   "cell_type": "code",
   "execution_count": 29,
   "metadata": {
    "collapsed": false
   },
   "outputs": [],
   "source": [
    "description.add_row([entity.get_row(1),ks.context,\"Measurement_Timestamp\",datetime.datetime.utcnow()])"
   ]
  },
  {
   "cell_type": "code",
   "execution_count": 30,
   "metadata": {
    "collapsed": false
   },
   "outputs": [
    {
     "name": "stdout",
     "output_type": "stream",
     "text": [
      "Entity,Context,Property,Value\n",
      "['John'],MeasLP,Measurement_Timestamp,2016-12-24 03:14:39.278000\n"
     ]
    }
   ],
   "source": [
    "print description"
   ]
  },
  {
   "cell_type": "code",
   "execution_count": 31,
   "metadata": {
    "collapsed": true
   },
   "outputs": [],
   "source": [
    "description.options[\"row_begin_token\"]=\"(\"\n",
    "description.options[\"row_end_token\"]=\")\"\n",
    "description.options[\"row_begin_token\"]=\"(\"\n",
    "description.options[\"row_end_token\"]=\")\""
   ]
  },
  {
   "cell_type": "code",
   "execution_count": 32,
   "metadata": {
    "collapsed": false
   },
   "outputs": [
    {
     "name": "stdout",
     "output_type": "stream",
     "text": [
      "Entity,Context,Property,Value\n",
      "(['John'],MeasLP,Measurement_Timestamp,2016-12-24 03:14:39.278000)\n"
     ]
    }
   ],
   "source": [
    "print description"
   ]
  },
  {
   "cell_type": "code",
   "execution_count": 37,
   "metadata": {
    "collapsed": false
   },
   "outputs": [],
   "source": [
    "Test_Encyclopedia=Encyclopedia()"
   ]
  },
  {
   "cell_type": "code",
   "execution_count": 38,
   "metadata": {
    "collapsed": false
   },
   "outputs": [
    {
     "name": "stdout",
     "output_type": "stream",
     "text": [
      "Begin Entity \n",
      "\n",
      " End Entity\n",
      "Begin Descriptions \n",
      "Entity,Context,Property,Value\n",
      " End Descriptions \n",
      "\n"
     ]
    }
   ],
   "source": [
    "print (Test_Encyclopedia)"
   ]
  },
  {
   "cell_type": "code",
   "execution_count": 39,
   "metadata": {
    "collapsed": true
   },
   "outputs": [],
   "source": [
    "Test_Encyclopedia.add_knowledge_system(ks)"
   ]
  },
  {
   "cell_type": "code",
   "execution_count": 40,
   "metadata": {
    "collapsed": false
   },
   "outputs": [
    {
     "name": "stdout",
     "output_type": "stream",
     "text": [
      "Begin Entity \n",
      "\n",
      " End Entity\n",
      "Begin Knowledge System Vanilla \n",
      "Property,Type,Unit\n",
      "Self,The datatype of the property,The Unit of the Property\n",
      "Default,String,None\n",
      "Measurement_Timestamp,Datetime,None\n",
      "Index,int,None\n",
      "DMM_Reading,String,Volts\n",
      "Python_Class,String,None\n",
      " End Knowledge System Vanilla \n",
      "Begin Descriptions \n",
      "Entity,Context,Property,Value\n",
      " End Descriptions \n",
      "\n"
     ]
    }
   ],
   "source": [
    "print (Test_Encyclopedia)"
   ]
  },
  {
   "cell_type": "code",
   "execution_count": null,
   "metadata": {
    "collapsed": true
   },
   "outputs": [],
   "source": []
  }
 ],
 "metadata": {
  "kernelspec": {
   "display_name": "Python 2",
   "language": "python",
   "name": "python2"
  },
  "language_info": {
   "codemirror_mode": {
    "name": "ipython",
    "version": 2
   },
   "file_extension": ".py",
   "mimetype": "text/x-python",
   "name": "python",
   "nbconvert_exporter": "python",
   "pygments_lexer": "ipython2",
   "version": "2.7.13"
  }
 },
 "nbformat": 4,
 "nbformat_minor": 0
}
