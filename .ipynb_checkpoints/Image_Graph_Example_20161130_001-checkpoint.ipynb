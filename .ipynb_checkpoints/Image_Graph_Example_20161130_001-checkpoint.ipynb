{
 "cells": [
  {
   "cell_type": "markdown",
   "metadata": {},
   "source": [
    "# Image Bijective Graph\n"
   ]
  },
  {
   "cell_type": "code",
   "execution_count": 61,
   "metadata": {
    "collapsed": false
   },
   "outputs": [],
   "source": [
    "from pyMeasure.Code.DataHandlers.GraphModels import *\n",
    "import PIL\n",
    "import os\n",
    "import re"
   ]
  },
  {
   "cell_type": "code",
   "execution_count": 70,
   "metadata": {
    "collapsed": false
   },
   "outputs": [],
   "source": [
    "im=PIL.Image.open('Rectangular_Graph_plot_20161130_001.png')"
   ]
  },
  {
   "cell_type": "code",
   "execution_count": 86,
   "metadata": {
    "collapsed": true
   },
   "outputs": [],
   "source": [
    "file_name='Rectangular_Graph_plot_20161130_001.png'\n",
    "directory=os.getcwd()\n",
    "def png_to_jpg(png_file_name):\n",
    "    [root_name,extension]=png_file_name.split(\".\")\n",
    "    jpeg_file_name=root_name+\".jpg\"\n",
    "    PIL.Image.open(png_file_name).save(jpeg_file_name)\n",
    "    return jpeg_file_name\n",
    "def file_to_Image(file_path):\n",
    "    new_image=PIL.Image.open(file_path)\n",
    "    if re.search(\".gif\",file_path,re.IGNORECASE):\n",
    "        new_image=new_image.convert(\"RGB\")\n",
    "    return new_image\n",
    "\n",
    "def Image_to_file(pil_image,file_path=None):\n",
    "    if file_path is None:\n",
    "        file_path=pil_image.filename\n",
    "    pil_image.save(file_path)\n",
    "    return file_path\n",
    "\n",
    "def Image_to_file_type(pil_image,file_path=None,extension=\"png\"):\n",
    "    \n",
    "    if file_path is None:\n",
    "        file_path=pil_image.filename\n",
    "    root_name=file_path.split(\".\")[0]\n",
    "    new_file_name=root_name+\".\"+extension.replace(\".\",\"\")\n",
    "    if re.search('jp|bmp',extension,re.IGNORECASE):\n",
    "        pil_image.convert('RGB')\n",
    "    print(\"{0} is {1}\".format(\"pil_image.mode\",pil_image.mode))\n",
    "    pil_image.save(new_file_name)\n",
    "    return new_file_name\n",
    "    \n",
    "\n",
    "    \n"
   ]
  },
  {
   "cell_type": "code",
   "execution_count": 15,
   "metadata": {
    "collapsed": false
   },
   "outputs": [
    {
     "data": {
      "text/plain": [
       "['Image']"
      ]
     },
     "execution_count": 15,
     "metadata": {},
     "output_type": "execute_result"
    }
   ],
   "source": [
    "\"Image\".split(\".\")"
   ]
  },
  {
   "cell_type": "code",
   "execution_count": 11,
   "metadata": {
    "collapsed": false
   },
   "outputs": [
    {
     "data": {
      "text/plain": [
       "'C:\\\\Users\\\\sandersa\\\\PyCharm Projects\\\\Jupyter-Notebooks\\\\Rectangular_Graph_plot_20161130_001.jpg'"
      ]
     },
     "execution_count": 11,
     "metadata": {},
     "output_type": "execute_result"
    }
   ],
   "source": [
    "png_to_jpg(os.path.join(directory,file_name))"
   ]
  },
  {
   "cell_type": "code",
   "execution_count": 14,
   "metadata": {
    "collapsed": false
   },
   "outputs": [
    {
     "data": {
      "text/plain": [
       "'Rectangular_Graph_plot_20161130_001.png'"
      ]
     },
     "execution_count": 14,
     "metadata": {},
     "output_type": "execute_result"
    }
   ],
   "source": [
    "im.filename"
   ]
  },
  {
   "cell_type": "code",
   "execution_count": 87,
   "metadata": {
    "collapsed": false
   },
   "outputs": [],
   "source": [
    "graph_options={\"graph_name\":\"Image Graph\",\n",
    "                  \"node_names\":['Image','png'],\n",
    "                  \"node_descriptions\":[\"PIL Image\",\"png\"],\n",
    "                  \"current_node\":'Image',\n",
    "                  \"state\":[1,0],\n",
    "                  \"data\":im,\n",
    "                  \"edge_2_to_1\":file_to_Image,\n",
    "                  \"edge_1_to_2\":lambda x: Image_to_file_type(x,file_path=\"test\",extension=\"png\")\n",
    "                 }\n",
    "image_graph=Graph(**graph_options)"
   ]
  },
  {
   "cell_type": "code",
   "execution_count": 23,
   "metadata": {
    "collapsed": true
   },
   "outputs": [],
   "source": [
    "image_graph.show()"
   ]
  },
  {
   "cell_type": "code",
   "execution_count": 88,
   "metadata": {
    "collapsed": true
   },
   "outputs": [],
   "source": [
    "image_graph.add_node(\"jpg\",\"Image\",lambda x: Image_to_file_type(x,file_path=\"test\",extension=\"jpg\"),\n",
    "                     \"Image\",file_to_Image)\n",
    "image_graph.add_node(\"tiff\",\"Image\",lambda x: Image_to_file_type(x,file_path=\"test\",extension=\"tiff\"),\n",
    "                     \"Image\",file_to_Image)\n",
    "image_graph.add_node(\"gif\",\"Image\",lambda x: Image_to_file_type(x,file_path=\"test\",extension=\"gif\"),\n",
    "                     \"Image\",file_to_Image)\n",
    "image_graph.add_node(\"bmp\",\"Image\",lambda x: Image_to_file_type(x,file_path=\"test\",extension=\"bmp\"),\n",
    "                     \"Image\",file_to_Image)"
   ]
  },
  {
   "cell_type": "code",
   "execution_count": 28,
   "metadata": {
    "collapsed": true
   },
   "outputs": [],
   "source": [
    "image_graph.show()"
   ]
  },
  {
   "cell_type": "code",
   "execution_count": 89,
   "metadata": {
    "collapsed": false
   },
   "outputs": [
    {
     "name": "stdout",
     "output_type": "stream",
     "text": [
      "['edge_png_Image_000', 'edge_Image_tif_000']\n",
      "moving png -> Image\n",
      "moving Image -> tif\n",
      "pil_image.mode is RGB\n",
      "tif\n"
     ]
    },
    {
     "data": {
      "text/html": [
       "<img src='test.tiff' />"
      ],
      "text/plain": [
       "<IPython.core.display.HTML object>"
      ]
     },
     "metadata": {},
     "output_type": "display_data"
    }
   ],
   "source": [
    "from ipywidgets import *\n",
    "from IPython.display import Image,display,HTML\n",
    "def move_and_show(node_name):\n",
    "    image_graph.move_to_node(node_name)\n",
    "    print(\"{0}\".format(node_name))\n",
    "    if node_name is \"Image\":\n",
    "        print(\"PIL Image Class\")\n",
    "    elif node_name in [\"png\",\"jpg\"]:\n",
    "        display(Image(image_graph.data,embed=True))\n",
    "    else:\n",
    "        display(HTML(\"<img src='{0}' />\".format(image_graph.data)))\n",
    "interact(move_and_show,node_name=image_graph.node_names)"
   ]
  },
  {
   "cell_type": "code",
   "execution_count": 38,
   "metadata": {
    "collapsed": true
   },
   "outputs": [],
   "source": [
    "im.show()"
   ]
  },
  {
   "cell_type": "code",
   "execution_count": null,
   "metadata": {
    "collapsed": true
   },
   "outputs": [],
   "source": []
  }
 ],
 "metadata": {
  "kernelspec": {
   "display_name": "Python 2",
   "language": "python",
   "name": "python2"
  },
  "language_info": {
   "codemirror_mode": {
    "name": "ipython",
    "version": 2
   },
   "file_extension": ".py",
   "mimetype": "text/x-python",
   "name": "python",
   "nbconvert_exporter": "python",
   "pygments_lexer": "ipython2",
   "version": "2.7.12"
  }
 },
 "nbformat": 4,
 "nbformat_minor": 0
}
