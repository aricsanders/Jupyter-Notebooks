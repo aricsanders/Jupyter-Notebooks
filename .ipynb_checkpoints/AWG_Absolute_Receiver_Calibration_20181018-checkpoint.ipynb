{
 "cells": [
  {
   "cell_type": "markdown",
   "metadata": {},
   "source": [
    "# Absolute Receiver Calibration on an Arbitrary Frequency Grid Using an Arbitrary Waveform Generator\n",
    "\n",
    "## Goal: \n",
    "Calibrate the receiver of a VNA in both amplitude and absolute phase on an arbitrary frequency grid, with special attention to frequency spacings less than 625 KHz (smallest attainable using a frequency comb). \n",
    "\n",
    "## Procedure:\n",
    "Procedure for a single port.\n",
    "$$A1_{Calibrated} = C_{A1}*A1_{raw}$$\n",
    "\n",
    "$$A1_{raw} = |A1_{Reading}|*e^{-i*(\\phi_{reading}-\\phi_{measurement phase reference})}$$\n",
    "\n",
    "### 1. Scattering Parameter Calibration\n",
    "1. Measure S11 of each of the following, short, open and load, on the frequency grid of interest.\n",
    "2. Measure S11 of the oscilloscope and power meter to be used in the calibration\n",
    "3. Calculate the 2-port error adapter for the port,$\\begin{pmatrix} EA_{11} & EA_{12}\\\\ EA_{21} & EA_{22} \\end{pmatrix}$ and correct S11 of the oscilloscope and power meter.$\\Gamma_{scope},\\Gamma_{pm}$\n",
    "\n",
    "### 2. Power Calibration\n",
    "1. Measure the out going wave on port of interest (A1) at the same time as power meter reading for the frequencies of interest.\n",
    "$|C_{A1}| = |{ \\frac{ \\sqrt{Power Meter Reading*50*\\frac{1+\\Gamma_{pm}}{1-\\Gamma_{pm}}}*(1-\\Gamma_{pm}*EA_{22})}{A1_{raw}*EA_{21}}}|$\n",
    "\n",
    "### 3. Phase Calibration\n",
    "1. Establish a phase stable master clock, in this case we use a PSG creating a 10 GHz sine wave\n",
    "2. Use the AWG to create a multisine with components at all frequencies of interest (if this exceeds the sampling rate of the AWG (1/Clock Frequency) then a mixer step is required). Place a marker in the file to trigger the oscilloscope. This signal is now connected to at least one receiver in the VNA as the measurement phase reference. In this particular experiment it was A4, accessible through a back jumper on the PNA-x.\n",
    "3. Use a second channel routed through the port 1 back jumper to create a single sine with the frequency of interest (on of the points on the frequency grid). Measure $A1_{raw}$ , a waveform on the scope (~ 1 period).\n",
    "4. Fit the waveform on the scope to a sine (or cosine) with two free parameters amplitude and phase (frequency should be fixed by the AWG). The resultant complex number is $A_{scope}$\n",
    "\n",
    "Now the calibration phase is:\n",
    "$$ \\angle{C_{A1}} = \\angle{\\frac{A_{scope}*(1-\\Gamma_{scope}EA_{22})}{EA_{21}}}-\\angle{A1_{raw}} $$\n",
    "\n",
    "\n",
    "### Calibration of B receiver\n",
    "1. We may use the knowledge of $C_{A1}$,the error adapter,$\\begin{pmatrix} EA_{11} & EA_{12}\\\\ EA_{21} & EA_{22} \\end{pmatrix}$,\n",
    "the measurement of a known device (Load) \n",
    "for the load:\n",
    "$$C_{B1}=\\frac {C_{A1}*A1_{raw}*EA_{11}}{B1_{raw}}$$\n",
    "\n",
    "for any device with known gamma \n",
    "$$C_{B1}=\\frac{C_{A1}*A1_{raw}}{B1_{raw}}*\\begin{pmatrix} \\frac{EA_{11}-(EA_{11}EA_{22}-EA_{12}EA_{21})\\Gamma_{dut}}{1-EA_{22}\\Gamma_{dut}} \\end{pmatrix}$$"
   ]
  },
  {
   "cell_type": "markdown",
   "metadata": {},
   "source": [
    "# Calibration of Receivers For Different Tone Spacings"
   ]
  },
  {
   "cell_type": "markdown",
   "metadata": {},
   "source": [
    "## Import of Libraries"
   ]
  },
  {
   "cell_type": "code",
   "execution_count": 1,
   "metadata": {
    "collapsed": false
   },
   "outputs": [
    {
     "name": "stdout",
     "output_type": "stream",
     "text": [
      "Importing pyMez, this should take roughly 30 seconds\n",
      "Importing Code.DataHandlers.GeneralModels\n",
      "It took 4.513 s to import Code.DataHandlers.GeneralModels\n",
      "Importing Code.DataHandlers.HTMLModels\n",
      "It took 0.64 s to import Code.DataHandlers.HTMLModels\n",
      "Importing Code.DataHandlers.NISTModels\n",
      "It took 7.916 s to import Code.DataHandlers.NISTModels\n",
      "Importing Code.DataHandlers.TouchstoneModels\n",
      "It took 0.008 s to import Code.DataHandlers.TouchstoneModels\n",
      "Importing Code.DataHandlers.XMLModels\n",
      "It took 0.206 s to import Code.DataHandlers.XMLModels\n",
      "Importing Code.DataHandlers.ZipModels\n",
      "It took 0.018 s to import Code.DataHandlers.ZipModels\n",
      "Importing Code.InstrumentControl.Experiments\n",
      "It took 1.122 s to import Code.InstrumentControl.Experiments\n",
      "Importing Code.InstrumentControl.Instruments\n",
      "It took 0.011 s to import Code.InstrumentControl.Instruments\n",
      "Importing Code.Utils.Names\n",
      "It took 0.009 s to import Code.Utils.Names\n",
      "It took 14.443 s to import all of the active modules\n"
     ]
    }
   ],
   "source": [
    "from pyMez import *\n",
    "from pyMez.Code.Analysis.SParameter import *"
   ]
  },
  {
   "cell_type": "code",
   "execution_count": 2,
   "metadata": {
    "collapsed": false
   },
   "outputs": [],
   "source": [
    "# Here we have averaged the phase sweep for anything that deals with power or scattering parameters\n",
    "top_directory=r\"C:\\Share\\AWG_Phase_Calibration\\Full_Calibration\"\n",
    "data_directory=os.path.join(top_directory,r\"11_Tones_10000KHz_Spacing\")\n",
    "\n",
    "# Measurements with one value per frequency --------------------------------------------------------------\n",
    "# The error adaptor was calulated using the MUF with the simplest possible models\n",
    "error_adapter=SNP(os.path.join(data_directory,\"Solution_0.s2p\"))\n",
    "# The corrected gamma's have a _0 after their name\n",
    "power_meter_gamma=S1PV1(os.path.join(data_directory,\"Power_Meter_Gamma_11_Tones_10000KHz_Spacing_0.s1p\"))\n",
    "scope_gamma=S1PV1(os.path.join(data_directory,\"Scope_Gamma_11_Tones_10000KHz_Spacing_0.s1p\"))\n",
    "\n",
    "# Measurements with 10 values per frequency or one per phase ---------------------------------------------\n",
    "a1_raw_magnitude_name=os.path.join(data_directory,r\"A1_Amplitude_11_Tones_10000KHz_Spacing.txt\")\n",
    "power_meter_summary_name=os.path.join(data_directory,r\"Power_11_Tones_10000000000KHz_Spacing_Summary_20181012_011.txt\")\n",
    "phase_calibration_summary_name=os.path.join(data_directory,r\"Phase_11_Tones_10000000000KHz_Spacing_Summary_20181011_011.txt\")\n",
    "a1_raw_magnitude_schema=read_schema(change_extension(a1_raw_magnitude_name,new_extension=\"schema\"))\n",
    "a1_raw_magnitude=AsciiDataTable(a1_raw_magnitude_name,**a1_raw_magnitude_schema)\n",
    "power_meter_summary_schema=read_schema(change_extension(power_meter_summary_name,new_extension=\"schema\"))\n",
    "power_meter_summary=AsciiDataTable(power_meter_summary_name,**power_meter_summary_schema)\n",
    "phase_calibration_summary_schema=read_schema(change_extension(phase_calibration_summary_name,new_extension=\"schema\"))\n",
    "phase_calibration_summary=AsciiDataTable(phase_calibration_summary_name,**phase_calibration_summary_schema)\n",
    "\n"
   ]
  },
  {
   "cell_type": "markdown",
   "metadata": {},
   "source": [
    "## Power Calibration\n",
    "\n",
    "$|C_{A1}|$\n",
    "$$|C_{A1}| = |{ \\frac{ \\sqrt{Power Meter Reading*50*\\frac{1+\\Gamma_{pm}}{1-\\Gamma_{pm}}}*(1-\\Gamma_{pm}*EA_{22})}{A1_{raw}*EA_{21}}}|$$"
   ]
  },
  {
   "cell_type": "code",
   "execution_count": 15,
   "metadata": {
    "collapsed": false
   },
   "outputs": [],
   "source": [
    "## Average Power Meter Readings\n",
    "power_meter_readings=[]\n",
    "for tone in range(11):\n",
    "    mean_reading=np.mean(np.array(power_meter_summary[\"Power\"][tone*10:(tone+1)*10]))\n",
    "    power_meter_readings.append(mean_reading)"
   ]
  },
  {
   "cell_type": "code",
   "execution_count": 17,
   "metadata": {
    "collapsed": true
   },
   "outputs": [],
   "source": [
    "# Now we calculate |CA1|\n",
    "# Calculate Zpm\n",
    "z_power_meter=[]\n",
    "for row in power_meter_gamma.sparameter_complex[:]:\n",
    "\n",
    "    z=50.*abs((1+row[1])/(1-row[1]))\n",
    "    z_power_meter.append(z)"
   ]
  },
  {
   "cell_type": "code",
   "execution_count": 34,
   "metadata": {
    "collapsed": false
   },
   "outputs": [],
   "source": [
    "c_a1_list=[]\n",
    "for index,row in enumerate(power_meter_gamma.sparameter_complex[:]):\n",
    "    frequency=row[0]\n",
    "    gamma_pm=row[1]\n",
    "    EA22=error_adapter.sparameter_complex[index][4]\n",
    "    EA21=error_adapter.sparameter_complex[index][3]\n",
    "    a1_raw=float(a1_raw_magnitude[\"Amplitude_A1\"][index])\n",
    "    pm_reading=power_meter_readings[index]\n",
    "    z_pm=z_power_meter[index]\n",
    "#     print(\"{0} is {1}\".format(\"z_power_meter[index]\",z_power_meter[index]))\n",
    "#     print(\"{0} is {1}\".format(\"gamma_pm\",gamma_pm))\n",
    "#     print(\"{0} is {1}\".format(\"EA22\",EA22))\n",
    "#     print(\"{0} is {1}\".format(\"EA21\",EA21))\n",
    "#     print(\"{0} is {1}\".format(\"a1_raw\",a1_raw))\n",
    "#     print(\"{0} is {1}\".format(\"power_meter_readings[index]\",power_meter_readings[index]))\n",
    "    c_a1=np.sqrt(pm_reading*z_pm)*abs(1-gamma_pm*EA22)/abs(a1_raw*EA21)\n",
    "    c_a1_list.append(c_a1)"
   ]
  },
  {
   "cell_type": "code",
   "execution_count": 37,
   "metadata": {
    "collapsed": false
   },
   "outputs": [
    {
     "data": {
      "image/png": "[encoded data removed]",
      "text/plain": [
       "<matplotlib.figure.Figure at 0xf77f9b0>"
      ]
     },
     "metadata": {},
     "output_type": "display_data"
    }
   ],
   "source": [
    "plt.plot(c_a1_list,\"bo\")\n",
    "plt.show()"
   ]
  },
  {
   "cell_type": "markdown",
   "metadata": {},
   "source": [
    "## Check of Power Calibration with Scope Values\n",
    "Since we have an effective receiver value from the oscilloscope we can check the power calibration on the receiver by calculating what the scope should receive given $A1_{calibrated}$\n",
    "\n",
    "$$|A_{scope}|=\\frac{|A1_{calibrated} * EA_{21}|}{|1-\\Gamma_{scope}*EA_{22}|}$$"
   ]
  },
  {
   "cell_type": "code",
   "execution_count": 41,
   "metadata": {
    "collapsed": true
   },
   "outputs": [],
   "source": [
    "\n",
    "calculated_scope_amplitudes=[]\n",
    "for index,row in enumerate(scope_gamma.sparameter_complex[:]):\n",
    "    frequency=row[0]\n",
    "    gamma_scope=row[1]\n",
    "    EA22=error_adapter.sparameter_complex[index][4]\n",
    "    EA21=error_adapter.sparameter_complex[index][3]\n",
    "    a1_raw=float(a1_raw_magnitude[\"Amplitude_A1\"][index])\n",
    "    c_a1=c_a1_list[index]\n",
    "#     print(\"{0} is {1}\".format(\"z_power_meter[index]\",z_power_meter[index]))\n",
    "#     print(\"{0} is {1}\".format(\"gamma_pm\",gamma_pm))\n",
    "#     print(\"{0} is {1}\".format(\"EA22\",EA22))\n",
    "#     print(\"{0} is {1}\".format(\"EA21\",EA21))\n",
    "#     print(\"{0} is {1}\".format(\"a1_raw\",a1_raw))\n",
    "#     print(\"{0} is {1}\".format(\"power_meter_readings[index]\",power_meter_readings[index]))\n",
    "    calculated_scope_amplitude=abs(c_a1*a1_raw*EA21)/abs(1-gamma_scope*EA22)\n",
    "    calculated_scope_amplitudes.append(calculated_scope_amplitude)"
   ]
  },
  {
   "cell_type": "code",
   "execution_count": 42,
   "metadata": {
    "collapsed": true
   },
   "outputs": [],
   "source": [
    "# Now we compare with the average of the scope readings\n",
    "scope_amplitudes=[]\n",
    "for tone in range(11):\n",
    "    mean_reading=np.mean(abs(np.array(phase_calibration_summary[\"Scope_Amplitude\"][tone*10:(tone+1)*10])))\n",
    "    scope_amplitudes.append(mean_reading)"
   ]
  },
  {
   "cell_type": "code",
   "execution_count": 43,
   "metadata": {
    "collapsed": false
   },
   "outputs": [
    {
     "data": {
      "image/png": "[encoded data removed]",
      "text/plain": [
       "<matplotlib.figure.Figure at 0x106cef28>"
      ]
     },
     "metadata": {},
     "output_type": "display_data"
    }
   ],
   "source": [
    "plt.plot(scope_gamma[\"Frequency\"],scope_amplitudes,\"r^\",label=\"Scope Measurement Amplitude\")\n",
    "plt.plot(scope_gamma[\"Frequency\"],calculated_scope_amplitudes,\"bs\",label=\"Calculated Amplitude\")\n",
    "plt.legend()\n",
    "plt.show()"
   ]
  },
  {
   "cell_type": "code",
   "execution_count": 46,
   "metadata": {
    "collapsed": false
   },
   "outputs": [
    {
     "data": {
      "image/png": "[encoded data removed]",
      "text/plain": [
       "<matplotlib.figure.Figure at 0x10da6630>"
      ]
     },
     "metadata": {},
     "output_type": "display_data"
    }
   ],
   "source": [
    "plt.plot(scope_gamma[\"Frequency\"],np.array(scope_amplitudes)/np.array(calculated_scope_amplitudes),\"rx\",label=\"Scope Measurement Amplitude\")\n",
    "plt.show()"
   ]
  },
  {
   "cell_type": "code",
   "execution_count": 51,
   "metadata": {
    "collapsed": false
   },
   "outputs": [
    {
     "data": {
      "image/png": "[encoded data removed]",
      "text/plain": [
       "<matplotlib.figure.Figure at 0x10d71470>"
      ]
     },
     "metadata": {},
     "output_type": "display_data"
    }
   ],
   "source": [
    "h_scope=np.array(scope_amplitudes)/np.array(calculated_scope_amplitudes)\n",
    "plt.hist(h_scope)\n",
    "plt.title(\"Mean h:{0:3.3f}, Std h:{1:3.3f}\".format(np.mean(h_scope),np.std(h_scope)))\n",
    "plt.show()\n",
    "# h is supiscously close to root 2"
   ]
  },
  {
   "cell_type": "markdown",
   "metadata": {},
   "source": [
    "# Phase Calibration\n",
    "\n",
    "$$ \\angle{C_{A1}} = \\angle{\\frac{A_{scope measured}*(1-\\Gamma_{scope}EA_{22})}{|A1_{raw}|EA_{21}}}-\\angle{A1_{raw}} $$\n",
    "$$ A_{measured scope}=h*A_{scope}$$"
   ]
  },
  {
   "cell_type": "code",
   "execution_count": 52,
   "metadata": {
    "collapsed": true
   },
   "outputs": [],
   "source": [
    "# Required to unwrap phase and fix 90 degree phase flip from fit \n",
    "def fix_phase(phase_list):\n",
    "    last_phase=phase_list[0]\n",
    "    new_phase_list=[last_phase]\n",
    "    for phase in phase_list[1:]:\n",
    "        phase_offset=phase-last_phase\n",
    "        #print(\"Phase Offset is {0}\".format(phase_offset))\n",
    "        if 90<phase_offset<270:\n",
    "\n",
    "            new_phase=phase-180\n",
    "        elif -90>phase_offset>-270:\n",
    "            new_phase=phase+180\n",
    "        elif -270>phase_offset:\n",
    "            new_phase=phase+360\n",
    "        else:\n",
    "            new_phase=phase\n",
    "        #print(\" New Phase is {0}, Old Phase is {1}\".format(new_phase,phase))\n",
    "        new_phase_list.append(new_phase)\n",
    "        last_phase=new_phase\n",
    "    return new_phase_list"
   ]
  },
  {
   "cell_type": "code",
   "execution_count": 103,
   "metadata": {
    "collapsed": false
   },
   "outputs": [],
   "source": [
    "# Now we find the phases of the scope and correct them for gamma\n",
    "scope_measured_phases=phase_calibration_summary[\"Scope_Phase\"][:]\n",
    "scope_reference_phases=[]\n",
    "c_a1_phases=[]\n",
    "c_awg_phases=[]\n",
    "for tone in range(11):\n",
    "    phase_row=[]\n",
    "    calibration_phase_row=[]\n",
    "    raw_row=[]\n",
    "    awg_phase_row=[]\n",
    "    for index,phase in enumerate(fix_phase(scope_measured_phases[tone*10:(tone+1)*10])):\n",
    "        a_scope_measured=h_scope[index//10]*cmath.rect(abs(float(phase_calibration_summary[\"Scope_Amplitude\"][index])),phase*np.pi/180.)\n",
    "        gamma_scope=scope_gamma.sparameter_complex[index//10][1]\n",
    "        angle_a_raw=float(fix_phase(phase_calibration_summary[\"Vna_Phase\"])[index])\n",
    "        amplitude_a_raw=float(a1_raw_magnitude[\"Amplitude_A1\"][index//10])\n",
    "        EA22=error_adapter.sparameter_complex[index//10][4]\n",
    "        EA21=error_adapter.sparameter_complex[index//10][2]\n",
    "        reference_phase=np.angle(a_scope_measured*(1-gamma_scope*EA22)/(amplitude_a_raw*EA21),deg=True)\n",
    "        phase_row.append(reference_phase)\n",
    "        raw_row.append(angle_a_raw)\n",
    "        a_awg_amplitude=float(phase_calibration_summary[\"AWG_Set_Amplitude\"][index])\n",
    "        a_awg_phase=float(phase_calibration_summary[\"AWG_Set_Phase\"][index])\n",
    "        awg_phase_row.append(a_awg_phase)\n",
    "        #alibration_phase=reference_phase-angle_a_raw\n",
    "        #alibration_phase_row.append(calibration_phase)\n",
    "#         print(\"{0} is {1}\".format(\"phase\",phase))\n",
    "#         print(\"{0} is {1}\".format(\"amplitude_a_raw\",amplitude_a_raw))\n",
    "#         print(\"{0} is {1}\".format(\"reference_phase\",reference_phase))\n",
    "#         print(\"{0} is {1}\".format(\"calibration_phase\",calibration_phase))\n",
    "    \n",
    "    phase_row=np.array(fix_phase(phase_row))\n",
    "    raw_row=np.array(fix_phase(raw_row))\n",
    "    awg_phase_row=np.array(fix_phase(awg_phase_row))\n",
    "    \n",
    "    calibration_phase_row=phase_row-raw_row\n",
    "    awg_calibratiton_phase_row=phase_row-awg_phase_row\n",
    "    scope_reference_phases.append(np.mean(phase_row))\n",
    "    c_a1_phases.append(np.mean(calibration_phase_row))\n",
    "    c_awg_phases.append(np.mean(awg_calibratiton_phase_row))\n",
    "c_a1_phases=fix_phase(c_a1_phases)\n",
    "c_awg_phases=fix_phase(c_awg_phases)"
   ]
  },
  {
   "cell_type": "code",
   "execution_count": 102,
   "metadata": {
    "collapsed": false
   },
   "outputs": [
    {
     "data": {
      "text/plain": [
       "['Tone',\n",
       " 'Frequency',\n",
       " 'AWG_Set_Amplitude',\n",
       " 'AWG_Set_Phase',\n",
       " 'Scope_Amplitude',\n",
       " 'Scope_Phase',\n",
       " 'Vna_Amplitude',\n",
       " 'Vna_Phase',\n",
       " 'Vna_Comb_Referenced_Amplitude',\n",
       " 'Vna_Comb_Referenced_Phase']"
      ]
     },
     "execution_count": 102,
     "metadata": {},
     "output_type": "execute_result"
    }
   ],
   "source": [
    "phase_calibration_summary.column_names"
   ]
  },
  {
   "cell_type": "code",
   "execution_count": 95,
   "metadata": {
    "collapsed": false
   },
   "outputs": [
    {
     "data": {
      "image/png": "[encoded data removed]",
      "text/plain": [
       "<matplotlib.figure.Figure at 0x10d79518>"
      ]
     },
     "metadata": {},
     "output_type": "display_data"
    }
   ],
   "source": [
    "\n",
    "plt.plot(c_a1_phases,\"rs\")\n",
    "#plt.plot(c_a1_phases,\"bo\")\n",
    "plt.show()"
   ]
  },
  {
   "cell_type": "code",
   "execution_count": 107,
   "metadata": {
    "collapsed": false
   },
   "outputs": [
    {
     "data": {
      "image/png": "[encoded data removed]",
      "text/plain": [
       "<matplotlib.figure.Figure at 0x1177b2b0>"
      ]
     },
     "metadata": {},
     "output_type": "display_data"
    }
   ],
   "source": [
    "\n",
    "plt.plot(np.array(c_awg_phases),\"rs\")\n",
    "#plt.plot(c_a1_phases,\"bo\")\n",
    "plt.show()"
   ]
  },
  {
   "cell_type": "code",
   "execution_count": 99,
   "metadata": {
    "collapsed": true
   },
   "outputs": [],
   "source": [
    "# Now we can save the calibration coefficients as a s1p.\n",
    "c_a1_complex=[]\n",
    "for index,phase in enumerate(c_a1_phases[:]):\n",
    "    frequency=float(a1_raw_magnitude[\"Frequency\"][index])\n",
    "    ca1=cmath.rect(c_a1_list[index],phase*np.pi/180.)\n",
    "    c_a1_complex.append([frequency,ca1])\n",
    "    "
   ]
  },
  {
   "cell_type": "code",
   "execution_count": 101,
   "metadata": {
    "collapsed": false
   },
   "outputs": [],
   "source": [
    "correction_coefficent=S1PV1(None,sparameter_complex=c_a1_complex)\n",
    "correction_coefficent.path=os.path.join(data_directory,\"C_A1.s1p\")\n",
    "correction_coefficent.save()"
   ]
  },
  {
   "cell_type": "code",
   "execution_count": 108,
   "metadata": {
    "collapsed": true
   },
   "outputs": [],
   "source": [
    "c_awg_complex=[]\n",
    "for index,phase in enumerate(c_awg_phases[:]):\n",
    "    frequency=float(a1_raw_magnitude[\"Frequency\"][index])\n",
    "    a1_raw=float(a1_raw_magnitude[\"Amplitude_A1\"][index])\n",
    "    mag_cawg=c_a1_list[index]*a1_raw/.5\n",
    "    cawg=cmath.rect(mag_cawg,phase*np.pi/180.)\n",
    "    c_awg_complex.append([frequency,cawg])"
   ]
  },
  {
   "cell_type": "code",
   "execution_count": 109,
   "metadata": {
    "collapsed": true
   },
   "outputs": [],
   "source": [
    "awg_correction_coefficent=S1PV1(None,sparameter_complex=c_awg_complex)\n",
    "awg_correction_coefficent.path=os.path.join(data_directory,\"C_AWG.s1p\")\n",
    "awg_correction_coefficent.save()"
   ]
  },
  {
   "cell_type": "markdown",
   "metadata": {},
   "source": [
    "### Predistortion Constants\n",
    "\n",
    "$$A_{awg}=A_{measured scope}\\frac{(1-\\Gamma_{scope}EA_{22})}{h*C_{awg}EA_{22}}$$\n",
    "$$C_{awg-scope}=\\frac{(1-\\Gamma_{scope}EA_{22})}{h*C_{awg}EA_{22}}$$"
   ]
  },
  {
   "cell_type": "code",
   "execution_count": 115,
   "metadata": {
    "collapsed": false
   },
   "outputs": [],
   "source": [
    "# Now we can calculate C_awg_scope\n",
    "c_awg_scope=[]\n",
    "for tone in range(11):\n",
    "    gamma_scope=scope_gamma.sparameter_complex[tone][1]\n",
    "    EA22=error_adapter.sparameter_complex[tone][4]\n",
    "    EA21=error_adapter.sparameter_complex[tone][3]\n",
    "    h=h_scope[tone]\n",
    "    cawg=c_awg_complex[tone][1]\n",
    "    frequency=scope_gamma[\"Frequency\"][tone]\n",
    "    c=(1-gamma_scope*EA22)/(h*cawg*EA22)\n",
    "    c_awg_scope.append([frequency,c])\n",
    "scope_awg_correction_coefficent=S1PV1(None,sparameter_complex=c_awg_scope)\n",
    "scope_awg_correction_coefficent.path=os.path.join(data_directory,\"C_Awg_Scope.s1p\")\n",
    "scope_awg_correction_coefficent.save()\n",
    "    "
   ]
  },
  {
   "cell_type": "code",
   "execution_count": 116,
   "metadata": {
    "collapsed": false
   },
   "outputs": [
    {
     "data": {
      "image/png": "[encoded data removed]",
      "text/plain": [
       "<matplotlib.figure.Figure at 0x110acef0>"
      ]
     },
     "metadata": {},
     "output_type": "display_data"
    }
   ],
   "source": [
    "scope_awg_correction_coefficent.show();"
   ]
  },
  {
   "cell_type": "code",
   "execution_count": 118,
   "metadata": {
    "collapsed": false
   },
   "outputs": [
    {
     "name": "stdout",
     "output_type": "stream",
     "text": [
      "# GHz S MA R 50\n",
      "9.5e+08  62.56  -36.19\n",
      "9.6e+08  59.22  -3\n",
      "9.7e+08  57.55  29.32\n",
      "9.8e+08  56.13  61.07\n",
      "9.9e+08  54.94  93.94\n",
      "1e+09  55.38  128.3\n",
      "1.01e+09  58.7  162.4\n",
      "1.02e+09  63.83  -164.4\n",
      "1.03e+09  70.72  -131.3\n",
      "1.04e+09  80.01  -97.29\n",
      "1.05e+09  94.48  -61.79\n"
     ]
    }
   ],
   "source": [
    "scope_awg_correction_coefficent.change_data_format(\"MA\")\n",
    "print scope_awg_correction_coefficent"
   ]
  },
  {
   "cell_type": "code",
   "execution_count": null,
   "metadata": {
    "collapsed": true
   },
   "outputs": [],
   "source": []
  }
 ],
 "metadata": {
  "kernelspec": {
   "display_name": "Python 2",
   "language": "python",
   "name": "python2"
  },
  "language_info": {
   "codemirror_mode": {
    "name": "ipython",
    "version": 2
   },
   "file_extension": ".py",
   "mimetype": "text/x-python",
   "name": "python",
   "nbconvert_exporter": "python",
   "pygments_lexer": "ipython2",
   "version": "2.7.13"
  }
 },
 "nbformat": 4,
 "nbformat_minor": 2
}
