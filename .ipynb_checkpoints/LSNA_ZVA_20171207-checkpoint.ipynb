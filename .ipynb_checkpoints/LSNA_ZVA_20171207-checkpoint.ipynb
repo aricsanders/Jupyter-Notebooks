{
 "cells": [
  {
   "cell_type": "markdown",
   "metadata": {},
   "source": [
    "# This Notebook documents steps for LSNA on the ZVA67"
   ]
  },
  {
   "cell_type": "markdown",
   "metadata": {},
   "source": [
    "1. To acquire data that the MUF will use we must be able turn on source port1 measure the   wnp file in the following format \n",
    "` Wave-parameter values. The format for a .wnp file is\n",
    "\n",
    "Freq, Re(A(Meas port 1, Drive port=1)), Im(A(Meas port 1, Drive port=1)), Re(B(Meas port 1, Drive port 1)), Im(B(Meas port 1, Drive port 1)), Re(A(Meas port 2, Drive port=1)),...,\n",
    "\n",
    "Re(A(Meas port 1, Drive port = 2)), Im(A(Meas port 1, Drive port = 2)), Re(B(Meas port 1, Drive port = 2)), ...`\n"
   ]
  },
  {
   "cell_type": "code",
   "execution_count": null,
   "metadata": {
    "collapsed": true
   },
   "outputs": [],
   "source": []
  }
 ],
 "metadata": {
  "kernelspec": {
   "display_name": "Python 2",
   "language": "python",
   "name": "python2"
  },
  "language_info": {
   "codemirror_mode": {
    "name": "ipython",
    "version": 2
   },
   "file_extension": ".py",
   "mimetype": "text/x-python",
   "name": "python",
   "nbconvert_exporter": "python",
   "pygments_lexer": "ipython2",
   "version": "2.7.13"
  }
 },
 "nbformat": 4,
 "nbformat_minor": 2
}
