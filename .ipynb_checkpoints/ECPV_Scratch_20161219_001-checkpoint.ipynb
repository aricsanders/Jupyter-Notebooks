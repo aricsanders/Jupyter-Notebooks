{
 "cells": [
  {
   "cell_type": "markdown",
   "metadata": {},
   "source": [
    "# ECPV Class Description \n",
    "\n",
    "## Required Attributes\n",
    "\n",
    "### The Primary Class is an Encyclopedia, or Collection of Descriptions\n",
    "1. An entity reference. This is isomorphic to a table, is a list of entities. All entities must be unique.\n",
    "2. The Universe, or collection of knowledge systems to be used to create descriptions.\n",
    "3. A set of descriptions that are composed of ECP=V facts. This can be isomorphic to a table or a dictionary.\n",
    "\n",
    "### Must have\n",
    "1. Search by identity, a search that looks at entities and returns all descriptions of entitites that match the search\n",
    "2. Search by description, if a description matches a property=value pattern return all descriptions for which it is true\n",
    "3. The ability to add to entity list\n",
    "4. The ability to add a knowledge system.\n"
   ]
  },
  {
   "cell_type": "code",
   "execution_count": 1,
   "metadata": {
    "collapsed": false
   },
   "outputs": [
    {
     "name": "stdout",
     "output_type": "stream",
     "text": [
      "Importing Code.Utils.Names\n",
      "Importing Code.DataHandlers.NISTModels\n",
      "Importing Code.DataHandlers.GeneralModels\n",
      "Importing Code.DataHandlers.TouchstoneModels\n",
      "Importing Code.DataHandlers.XMLModels\n",
      "Importing Code.DataHandlers.RadiCALModels\n",
      "Importing Code.DataHandlers.ZipModels\n",
      "Importing Code.DataHandlers.Translations\n",
      "Importing Code.DataHandlers.StatistiCALModels\n",
      "Importing Code.DataHandlers.MUFModels\n",
      "Importing Code.Analysis.SParameter\n",
      "Importing Code.InstrumentControl.Instruments\n",
      "Importing Code.InstrumentControl.Experiments\n"
     ]
    }
   ],
   "source": [
    "from pyMeasure import *"
   ]
  },
  {
   "cell_type": "code",
   "execution_count": null,
   "metadata": {
    "collapsed": true
   },
   "outputs": [],
   "source": [
    "class KnowledgeSystem(AsciiDataTable):\n",
    "    \"\"\"A Knowledge System is a collection of properties (context) and a collection of metadata about those properties\n",
    "    (obligate contexts). \"\"\"\n",
    "    def __init__(self,file_path=None,**options):\n",
    "        \"\"\"Intializes a knowledge system\"\"\"\n",
    "        defaults={}\n",
    "        self.options={}\n",
    "        for key,value in defaults.iteritems():\n",
    "            self.options[key]=value\n",
    "        for key,value in options.iteritems():\n",
    "            self.options[key]=value\n",
    "    \n",
    "    #get a row of a knowledge system based on property\n",
    "    def get_property_defintion(self,property_name):\n",
    "        \"\"\"Retrieves a row of the knowledge system based on the property_name\"\"\"\n",
    "        pass\n",
    "    def add_property(self,property_name,**obilgate_values):\n",
    "        \"\"\"Adds a new row to the knowledge system, obilgate values should be in the form of a dictionary, or key\n",
    "        word arguments like obligate=value.\n",
    "        obligate_values={obligate:value}, if an obligate is not specified, the value defaults to the default property\n",
    "        or to None if not specified\"\"\"\n",
    "        pass\n",
    "    def to_row_modelled(self):\n",
    "        \"\"\"Returns a sparse, row modelled version of the knowledge system\"\"\"\n",
    "        pass\n",
    "    def add_obligate(self,obligate_name,obligate_default=None,obligate_self=None):\n",
    "        \"\"\"Adds an obligate-context to the knowledge system. Optional default and self values. Default will be assumed\n",
    "        for all properties without an obligate value defined, self holds a description of the obligate.\"\"\"\n",
    "        # adds a column to the table where the first two rows are obligate_self and obligate_default\n",
    "        pass\n",
    "    \n",
    "class Encyclopedia(object):\n",
    "    \"\"\"An Encyclopedia is a collection of descriptions\"\"\"\n",
    "    def __init__(file_path=None,**options):\n",
    "        \"\"\"Intializes an Encylopedia\"\"\"\n",
    "        defaults={\"key_value__formatter\":None,\n",
    "                  \"key_value_pattern\":None,\n",
    "                  \"entity_table\":None,\n",
    "                  \"universe\":None}\n",
    "        self.options={}\n",
    "        for key,value in defaults.iteritems():\n",
    "            self.options[key]=value\n",
    "        for key,value in options.iteritems():\n",
    "            self.options[key]=value\n",
    "        if file_path is None:\n",
    "            # Create a new encylcopedia\n",
    "            self.entity=AsciiDataTable(None)\n",
    "            self.universe=AsciiDataTable(None)\n",
    "    def add_description(self,entity,context,property_name,value,obligate=None):\n",
    "        \"\"\"Adds a description to the encyclopedia, the entity, context (or knowledge_system name),property_name,\n",
    "        and value are required. If the context is an obligate-context then add obligate\"\"\"\n",
    "        pass\n",
    "    def add_knowledge_system(self,knowledge_system):\n",
    "        \"\"\"Adds a knowledge system to the universe being used for the encyclopedia\"\"\"\n",
    "        pass\n",
    "    def add_entity(self,entity):\n",
    "        \"\"\"Adds an entity to entity_table. The entity is a row in the entity table\"\"\"\n",
    "        pass\n",
    "    def get_entity(self,entity):\n",
    "        \"\"\"Gets an entity\"\"\"\n",
    "        pass\n",
    "    def __str__(self):\n",
    "        pass\n",
    "    def get_descriptions(self,entity):\n",
    "        \"\"\"Returns all descriptions of an entity\"\"\"\n",
    "        pass\n",
    "    def get_entities(self,context,property_name,value,obligate=None):\n",
    "        \"\"\"Returns a subset of entity table that has context:property=Value\"\"\"\n",
    "        pass\n",
    "    \n",
    "    "
   ]
  }
 ],
 "metadata": {
  "kernelspec": {
   "display_name": "Python 2",
   "language": "python",
   "name": "python2"
  },
  "language_info": {
   "codemirror_mode": {
    "name": "ipython",
    "version": 2
   },
   "file_extension": ".py",
   "mimetype": "text/x-python",
   "name": "python",
   "nbconvert_exporter": "python",
   "pygments_lexer": "ipython2",
   "version": "2.7.12"
  }
 },
 "nbformat": 4,
 "nbformat_minor": 0
}
