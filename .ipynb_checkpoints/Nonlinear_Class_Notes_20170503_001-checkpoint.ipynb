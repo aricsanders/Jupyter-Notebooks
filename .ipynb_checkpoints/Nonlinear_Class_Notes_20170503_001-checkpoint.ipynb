{
 "cells": [
  {
   "cell_type": "markdown",
   "metadata": {},
   "source": [
    "# X-Parameter Class Notes \n",
    "\n",
    "## Class Materials \n",
    "1. <a href=\"https://www.safaribooksonline.com/library/view/x-parameters/9781107501522/\"><cite> X-Parameters, by  David Root, Jan Vespect, Jason Horn, and Mihai Marcu</cite></a>"
   ]
  },
  {
   "cell_type": "markdown",
   "metadata": {},
   "source": [
    "__Scattering Parameters__:\n",
    "Assumes that things are linear and time-invariant. This leads to a superposition principal."
   ]
  },
  {
   "cell_type": "markdown",
   "metadata": {},
   "source": []
  },
  {
   "cell_type": "code",
   "execution_count": null,
   "metadata": {
    "collapsed": true
   },
   "outputs": [],
   "source": [
    "def cascade(s1,s2):\n",
    "    \"\"\"Cascade returns the cascaded sparameters of s1 and s2. s1 and s2 should be in complex list form \n",
    "    [[f,S11,S12,S21,S22]...] and the returned sparameters will be in the same format. Assumes that s1,s2 have the \n",
    "    same frequencies. \"\"\"\n",
    "    out_sparameters=[]\n",
    "    for row_index,row in enumerate(s1):\n",
    "        [f1,S1_11,S1_12,S1_21,S1_22]=row\n",
    "        [f2,S2_11,S2_12,S2_21,S2_22]=s2[row_index]\n",
    "        if f1!=f2:\n",
    "            raise TypeError(\"Frequencies do not match! F lists must be the same\")\n",
    "        S11=S1_11+S2_11*(S1_12*S1_21)/(1-S1_22*S2_11)\n",
    "        S12=S1_12*S2_12/(1-S1_22*S2_11)\n",
    "        S21=S1_21*S2_21/(1-S1_22*S2_11)\n",
    "        S22=S2_22+S1_22*(S2_12*S2_21)/(1-S1_22*S2_11)\n",
    "        new_row=[f1,S11,S12,S21,S22]\n",
    "        out_sparameters.append(new_row)\n",
    "    return out_sparameters\n",
    "        "
   ]
  }
 ],
 "metadata": {
  "kernelspec": {
   "display_name": "Python 2",
   "language": "python",
   "name": "python2"
  },
  "language_info": {
   "codemirror_mode": {
    "name": "ipython",
    "version": 2
   },
   "file_extension": ".py",
   "mimetype": "text/x-python",
   "name": "python",
   "nbconvert_exporter": "python",
   "pygments_lexer": "ipython2",
   "version": "2.7.13"
  }
 },
 "nbformat": 4,
 "nbformat_minor": 2
}
