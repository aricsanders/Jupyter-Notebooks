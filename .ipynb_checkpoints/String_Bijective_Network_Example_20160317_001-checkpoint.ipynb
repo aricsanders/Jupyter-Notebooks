{
 "cells": [
  {
   "cell_type": "markdown",
   "metadata": {},
   "source": [
    "# A simple bijective network for data transformation using strings\n",
    "\n",
    "A bijective data tranformation network is a series of nodes that represent different data formats with the same content. Nodes are connected by edges that are functions that are unidirectional mappings from one node to another. A graph is formed by showing that nodes that are transformed through a series of other nodes return to their original state. This requires that \n",
    "1. a node is well defined (has a name)\n",
    "2. a node has an equallity operator n1==n1'\n",
    "3. Has at least 1 edge that enters the node\n",
    "4. Has at least 1 edge that leaves the nod\n",
    "\n",
    "The purpose of this network is to create a way of transforming data from one format to another as efficcently as possible while preserving contnent. As an example we use a series of data types that are strings."
   ]
  },
  {
   "cell_type": "code",
   "execution_count": 8,
   "metadata": {
    "collapsed": false
   },
   "outputs": [
    {
     "name": "stdout",
     "output_type": "stream",
     "text": [
      "The assertion that n1==n1' is True\n",
      "The assertion that n2==n2' is True\n",
      "The assertion that n1==n1'' is True\n"
     ]
    }
   ],
   "source": [
    "# the edge from list of strings to string is defined in General Models\n",
    "from pyMeasure.Code.DataHandlers.GeneralModels import *\n",
    "# node 1\n",
    "node_1=\"This is a test string\\n it has to have multiple lines \\n and many characters 34%6\\n^\"\n",
    "# edge that maps node 1 to 2  \n",
    "node_2=node_1.splitlines()\n",
    "# edge that maps node 2 to 1\n",
    "node_1_prime=string_list_collapse(node_2)\n",
    "# make sure the round trip has not changed anything \n",
    "print(\"The assertion that n1==n1' is {0}\").format(node_1==node_1_prime)\n",
    "# we can add a file that is another node\n",
    "# edge that maps node 1 to node 3\n",
    "node_3=open(\"node_3.txt\",\"w\")\n",
    "node_3.write(node_1)\n",
    "node_3.close()\n",
    "# now we can add an edge that maps node_3 to node_2\n",
    "node_2_prime=[]\n",
    "node_3=open(\"node_3.txt\",\"r\")\n",
    "for line in node_3:\n",
    "    node_2_prime.append(line.replace(\"\\n\",\"\"))\n",
    "node_3.close()\n",
    "print(\"The assertion that n2==n2' is {0}\").format(node_2==node_2_prime)\n",
    "\n",
    "# now we can add a fourth node using the edge that maps node 2 to 4\n",
    "node_4=[line+\"\\n\" for line in node_2]\n",
    "node_4[-1]=node_4[-1].replace(\"\\n\",\"\")\n",
    "node_1_double_prime=string_list_collapse(node_4,string_delimiter=\"\")\n",
    "\n",
    "print(\"The assertion that n1==n1'' is {0}\").format(node_1==node_1_double_prime)"
   ]
  },
  {
   "cell_type": "markdown",
   "metadata": {},
   "source": [
    "## Now we define the graph class"
   ]
  },
  {
   "cell_type": "code",
   "execution_count": 211,
   "metadata": {
    "collapsed": false
   },
   "outputs": [
    {
     "name": "stdout",
     "output_type": "stream",
     "text": [
      "Warning the path length is less than 1 microsecond, make sure num_repeats is high enough to measure it.\n",
      "The path length of the first path length is 0.000900000 and the second path length is 0.000000000\n",
      "['edge_n2_n1_000', 'edge_n1_n2_000']\n",
      "['edge_n1_n2_000', 'edge_n2_n1_000']\n",
      "True\n"
     ]
    }
   ],
   "source": [
    "import re\n",
    "import datetime\n",
    "import numpy as np\n",
    "class Graph():\n",
    "    def __init__(self):\n",
    "        \"\"\"Initializes the graph. The first 2 nodes and two edges forming a bijection between them are required\"\"\"\n",
    "        self.node_names=['n1','n2']\n",
    "        self.current_node='n1'\n",
    "        self.state=[1,0]\n",
    "        self.edges=[]\n",
    "        self.edge_matrices=[]\n",
    "        self.data=\"This is a test string\\n it has to have multiple lines \\n and many characters 34%6\\n^\"\n",
    "        self.state_matrix=np.matrix(self.state).T\n",
    "        \n",
    "    def add_edge(self,begin_node=None,end_node=None,edge_function=None):\n",
    "        \"\"\"Adds an edge mapping one node to another, required input is begin_node (it's name)\n",
    "        end_node, and the edge function\"\"\"\n",
    "        # check to see if edge is defined if it is increment a number\n",
    "        edge_match=re.compile(\"edge_{0}_{1}\".format(begin_node,end_node))\n",
    "        keys=self.__dict__.keys()\n",
    "        #print keys\n",
    "        iterator=0\n",
    "        for key in keys:\n",
    "            if re.match(edge_match,key):\n",
    "                iterator+=1\n",
    "        edge_name=\"edge_{0}_{1}_{2:0>3d}\".format(begin_node,end_node,iterator)\n",
    "        self.__dict__[edge_name]=edge_function\n",
    "        self.edges.append(edge_name)\n",
    "        edge_matrix=np.zeros((len(self.state),len(self.state)))\n",
    "        begin_position=self.node_names.index(begin_node)\n",
    "        end_position=self.node_names.index(end_node)\n",
    "        edge_matrix[end_position][begin_position]=1\n",
    "        edge_matrix=np.matrix(edge_matrix)\n",
    "        self.edge_matrices.append(edge_matrix)\n",
    "        \n",
    "    def move_to(self,path):\n",
    "        \"\"\"Changes the state of the graph by moving along the path specified\"\"\"\n",
    "        #print path\n",
    "        for index,edge in enumerate(path):\n",
    "            #print edge\n",
    "            edge_pattern='edge_(?P<begin_node>\\w+)_(?P<end_node>\\w+)_(?P<iterator>\\w+)'\n",
    "            match=re.match(edge_pattern,edge)\n",
    "            begin_node=match.groupdict()['begin_node']\n",
    "            end_node=match.groupdict()['end_node']\n",
    "            print(\"moving {0} -> {1}\".format(begin_node,end_node))\n",
    "            #print self.data\n",
    "            self.data=self.__dict__[edge](self.data)\n",
    "            #print self.data\n",
    "            self.current_node=match.groupdict()['end_node']\n",
    "            self.state=[0 for i in range(len(self.node_names))]\n",
    "            position=self.node_names.index(self.current_node)\n",
    "            self.state[position]=1\n",
    "            self.state_matrix=np.matrix(self.state).T\n",
    "            #print self.state\n",
    "            #print self.current_node\n",
    "            \n",
    "    def virtual_move_to(self,path):\n",
    "        \"\"\"Virtual move to simulates moving but does not change the state of the graph\"\"\"\n",
    "        #print path\n",
    "        temp_state=self.state\n",
    "        temp_data=self.data\n",
    "        temp_current_node=self.current_node\n",
    "        temp_node_names=self.node_names\n",
    "        for index,edge in enumerate(path):\n",
    "            #print edge\n",
    "            edge_pattern='edge_(?P<begin_node>\\w+)_(?P<end_node>\\w+)_(?P<iterator>\\w+)'\n",
    "            match=re.match(edge_pattern,edge)\n",
    "            begin_node=match.groupdict()['begin_node']\n",
    "            end_node=match.groupdict()['end_node']\n",
    "            #print(\"moving {0} -> {1}\".format(begin_node,end_node))\n",
    "            #print self.data\n",
    "            temp_data=self.__dict__[edge](temp_data)\n",
    "            #print self.data\n",
    "            temp_current_node=match.groupdict()['end_node']\n",
    "            temp_state=[0 for i in range(len(temp_node_names))]\n",
    "            position=temp_node_names.index(temp_current_node)\n",
    "            temp_state[position]=1\n",
    "            #print temp_state\n",
    "            #print self.state\n",
    "            #print self.current_node  \n",
    "            \n",
    "    def __str__(self):\n",
    "        return str(self.data)\n",
    "    \n",
    "    def add_node(self,node_name,edge_into_node_begin,edge_into_node_function,edge_out_node_end,edge_out_node_function):\n",
    "        \"\"\"Adds a node to the graph. Required input is node_name (a string with no spaces), a reference to an entering node,\n",
    "        the function mapping the entering node to the new node, a reference to an exiting node and the function mapping the\n",
    "        new node to the exiting node.\"\"\"\n",
    "        # first check if node into and out of node is good\n",
    "        self.node_names.append(node_name)\n",
    "        self.state.append(0)\n",
    "        self.state_matrix=np.matrix(self.state).T\n",
    "        for index,matrix in enumerate(self.edge_matrices):\n",
    "            pad_row=np.zeros((1,len(matrix)))\n",
    "            new_matrix=np.concatenate((matrix, pad_row), axis=0)\n",
    "            pad_column=np.zeros((1,len(self.node_names)))\n",
    "            new_matrix=np.concatenate((new_matrix, pad_column.T), axis=1)\n",
    "            #print(\"New matrix is :\\n{0}\".format(new_matrix))\n",
    "            self.edge_matrices[index]=new_matrix\n",
    "        self.add_edge(begin_node=node_name,end_node=edge_out_node_end,edge_function=edge_out_node_function)\n",
    "        self.add_edge(begin_node=edge_into_node_begin,end_node=node_name,edge_function=edge_into_node_function)\n",
    "    \n",
    "    def path_length(self,path,num_repeats=10):\n",
    "        \"\"\"Determines the length of a given path, currently the metric is based on the time to move to.\"\"\"\n",
    "        begin_time=datetime.datetime.now()\n",
    "        #num_repeats=100\n",
    "        for i in range(num_repeats):\n",
    "            self.virtual_move_to(path)\n",
    "        end_time=datetime.datetime.now()\n",
    "        delta_t=end_time-begin_time\n",
    "        path_length=delta_t.total_seconds()/float(num_repeats)\n",
    "        if path_length ==0.0:\n",
    "            print(\"Warning the path length is less than 1 microsecond, make sure num_repeats is high enough to measure it.\")\n",
    "        return path_length\n",
    "                \n",
    "    def is_path_valid(self,path):\n",
    "        \"\"\"Returns True if the path is valid from the current node position or False otherwise\"\"\"\n",
    "        null_state=[0 for i in range(len(self.node_names))]\n",
    "        null_state_matrix=np.matrix(null_state).T\n",
    "        new_state=np.matrix(self.state).T\n",
    "        for index,edge in enumerate(path):\n",
    "            #print index\n",
    "            #print edge\n",
    "            edge_position=self.edges.index(edge)\n",
    "            move_matrix=self.edge_matrices[edge_position]\n",
    "            #print move_matrix\n",
    "            new_state=move_matrix*new_state\n",
    "            if new_state.any()==null_state_matrix.any():\n",
    "                #print new_state\n",
    "                #print null_state_matrix\n",
    "                return False\n",
    "        return True\n",
    "            \n",
    "            \n",
    "    def get_entering_nodes(self,node): \n",
    "        \"\"\"Returns all nodes that have an edge that enter the specificed node\"\"\"\n",
    "        enter_edge_pattern=re.compile('edge_(?P<begin_node>\\w+)_{0}_(?P<iterator>\\w+)'.format(node))\n",
    "        enter_nodes=[]\n",
    "        for index,edge in enumerate(self.edges):\n",
    "            enter_match=re.match(enter_edge_pattern,edge)\n",
    "            if enter_match:\n",
    "                enter_node=enter_match.groupdict()['begin_node']\n",
    "                enter_nodes.append(enter_node)\n",
    "        return enter_nodes\n",
    "    \n",
    "    def get_entering_edges(self,node): \n",
    "        \"\"\"Returns all edges that enter the specificed node\"\"\"\n",
    "        enter_edge_pattern=re.compile('edge_(?P<begin_node>\\w+)_{0}_(?P<iterator>\\w+)'.format(node))\n",
    "        enter_edges=[]\n",
    "        for index,edge in enumerate(self.edges):\n",
    "            if re.match(enter_edge_pattern,edge):\n",
    "                enter_edges.append(edge)\n",
    "        return enter_edges\n",
    "    \n",
    "    def get_exiting_edges(self,node):\n",
    "        \"\"\"Returns all edges that exit the specificed node\"\"\"\n",
    "        exit_edge_pattern=re.compile('edge_{0}_(?P<end_node>\\w+)_(?P<iterator>\\w+)'.format(node))\n",
    "        exit_edges=[]\n",
    "        for index,edge in enumerate(self.edges):\n",
    "            if re.match(exit_edge_pattern,edge):\n",
    "                exit_edges.append(edge)\n",
    "        return exit_edges \n",
    "    \n",
    "    def get_exiting_nodes(self,node): \n",
    "        \"\"\"Returns all nodes that have an edge leaving the specificed node\"\"\"\n",
    "        exit_edge_pattern=re.compile('edge_{0}_(?P<end_node>\\w+)_(?P<iterator>\\w+)'.format(node))\n",
    "        exit_nodes=[]\n",
    "        for index,edge in enumerate(self.edges):\n",
    "            exit_match=re.match(exit_edge_pattern,edge)\n",
    "            if exit_match:\n",
    "                exit_node=exit_match.groupdict()['end_node']\n",
    "                exit_nodes.append(exit_node)\n",
    "        return exit_nodes\n",
    "    \n",
    "    def get_path(self,first_node,last_node):\n",
    "        \"\"\"Returns the first path found between first node and last node\"\"\"\n",
    "        edge_pattern=re.compile('edge_(?P<begin_node>\\w+)_(?P<end_node>\\w+)_(?P<iterator>\\w+)')\n",
    "        exit_paths=new_graph.get_exiting_edges(first_node)\n",
    "        next_nodes=new_graph.get_exiting_nodes(first_node)\n",
    "        possible_paths=[]\n",
    "        for exit_path in exit_paths:\n",
    "            possible_paths.append([exit_path])\n",
    "        #print possible_paths\n",
    "        for i in range(len(new_graph.node_names)):\n",
    "            for index,path in enumerate(possible_paths):\n",
    "                last_edge=path[-1]\n",
    "                match=re.match(edge_pattern,last_edge)\n",
    "                end_node=match.groupdict()['end_node']\n",
    "                #print next_node\n",
    "                if end_node==last_node:\n",
    "                    #print(\"The path found is {0}\".format(path))\n",
    "                    return path\n",
    "                next_possible_paths=[]\n",
    "                next_path=path\n",
    "                next_edges=new_graph.get_exiting_edges(end_node)\n",
    "                next_nodes=new_graph.get_exiting_nodes(end_node)\n",
    "                for index,edge in enumerate(next_edges):\n",
    "                    next_node=next_nodes[index]\n",
    "                    #print next_node\n",
    "                    next_path.append(edge)\n",
    "                    #print next_path\n",
    "                    if next_node==last_node:\n",
    "                        #print(\"The path found is {0}\".format(next_path))\n",
    "                        return next_path\n",
    "                    next_possible_paths.append(next_path)\n",
    "                possible_paths=next_possible_paths             \n",
    "\n",
    "        \n",
    "        \n",
    "        \n",
    "def edge_1_to_2(in_string):\n",
    "    return in_string.splitlines()\n",
    "    \n",
    "def edge_2_to_1(string_list):\n",
    "    return string_list_collapse(string_list)\n",
    "\n",
    "def edge_1_to_3(in_string):\n",
    "    node_3=open(\"node_3.txt\",\"w\")\n",
    "    node_3.write(in_string)\n",
    "    node_3.close()\n",
    "    return \"node_3.txt\"\n",
    "    \n",
    "def edge_3_to_2(file_name):\n",
    "    node_2_prime=[]\n",
    "    node_3=open(file_name,\"r\")\n",
    "    for line in node_3:\n",
    "        node_2_prime.append(line.replace(\"\\n\",\"\"))\n",
    "    node_3.close()\n",
    "    return node_2_prime\n",
    "    \n",
    "new_graph=Graph()\n",
    "new_graph.add_edge('n1','n2',edge_1_to_2)\n",
    "new_graph.add_edge('n2','n1',edge_2_to_1)\n",
    "#print new_graph.__dict__\n",
    "#new_graph.move_to(*new_graph.edges)\n",
    "#print new_graph.edge_n1_n2_000(node_1)\n",
    "#print new_graph.__dict__\n",
    "new_graph.add_node('n3','n1',edge_1_to_3,'n2',edge_3_to_2)\n",
    "#print new_graph.data\n",
    "#print new_graph.__dict__['edge_n1_n2_000'](new_graph.data)\n",
    "#print new_graph.edges\n",
    "new_path=['edge_n1_n2_000', 'edge_n2_n1_000', 'edge_n1_n3_000', 'edge_n3_n2_000','edge_n2_n1_000']\n",
    "path_length_1=new_graph.path_length(new_path)\n",
    "new_path=['edge_n1_n2_000']\n",
    "path_length_2=new_graph.path_length(new_path)\n",
    "print(\"The path length of the first path length is {0:.9f} and the second path length is {1:.9f}\".format(path_length_1,path_length_2))\n",
    "#print new_graph.__dict__\n",
    "print new_graph.get_path('n2','n2')\n",
    "path=new_graph.get_path('n1','n1')\n",
    "print path\n",
    "print new_graph.is_path_valid(path)"
   ]
  },
  {
   "cell_type": "code",
   "execution_count": 208,
   "metadata": {
    "collapsed": false
   },
   "outputs": [
    {
     "name": "stdout",
     "output_type": "stream",
     "text": [
      "The path found is ['edge_n3_n2_000']\n",
      "The path found is ['edge_n3_n2_000', 'edge_n2_n1_000', 'edge_n1_n2_000']\n",
      "The path found is ['edge_n3_n2_000', 'edge_n2_n1_000', 'edge_n1_n2_000', 'edge_n1_n3_000', 'edge_n3_n2_000']\n",
      "The path found is ['edge_n3_n2_000', 'edge_n2_n1_000', 'edge_n1_n2_000', 'edge_n1_n3_000', 'edge_n3_n2_000']\n",
      "[['edge_n3_n2_000', 'edge_n2_n1_000', 'edge_n1_n2_000', 'edge_n1_n3_000', 'edge_n3_n2_000', 'edge_n2_n1_000']]\n",
      "[]\n"
     ]
    }
   ],
   "source": [
    "first_node='n3'\n",
    "last_node='n2'\n",
    "edge_pattern=re.compile('edge_(?P<begin_node>\\w+)_(?P<end_node>\\w+)_(?P<iterator>\\w+)')\n",
    "exit_paths=new_graph.get_exiting_edges(first_node)\n",
    "next_nodes=new_graph.get_exiting_nodes(first_node)\n",
    "possible_paths=[]\n",
    "for exit_path in exit_paths:\n",
    "    possible_paths.append([exit_path])\n",
    "#print possible_paths\n",
    "for i in range(len(new_graph.node_names)):\n",
    "    for index,path in enumerate(possible_paths):\n",
    "        last_edge=path[-1]\n",
    "        match=re.match(edge_pattern,last_edge)\n",
    "        end_node=match.groupdict()['end_node']\n",
    "        \n",
    "        #print next_node\n",
    "        if end_node==last_node:\n",
    "            print(\"The path found is {0}\".format(path))\n",
    "        next_possible_paths=[]\n",
    "        next_path=path\n",
    "        next_edges=new_graph.get_exiting_edges(end_node)\n",
    "        next_nodes=new_graph.get_exiting_nodes(end_node)\n",
    "        for index,edge in enumerate(next_edges):\n",
    "            next_node=next_nodes[index]\n",
    "            #print next_node\n",
    "            next_path.append(edge)\n",
    "            #print next_path\n",
    "            if next_node==last_node:\n",
    "                print(\"The path found is {0}\".format(next_path))\n",
    "            next_possible_paths.append(next_path)\n",
    "        possible_paths=next_possible_paths\n",
    "\n",
    "\n",
    "print possible_paths\n",
    "print node_paths"
   ]
  },
  {
   "cell_type": "code",
   "execution_count": 93,
   "metadata": {
    "collapsed": true
   },
   "outputs": [],
   "source": [
    "import numpy as np\n",
    "state=np.matrix([0,1,0,0])"
   ]
  },
  {
   "cell_type": "code",
   "execution_count": 94,
   "metadata": {
    "collapsed": false
   },
   "outputs": [
    {
     "name": "stdout",
     "output_type": "stream",
     "text": [
      "[[ 0.  1.  0.  0.]\n",
      " [ 0.  0.  0.  0.]\n",
      " [ 0.  0.  0.  0.]\n",
      " [ 0.  0.  0.  0.]]\n"
     ]
    }
   ],
   "source": [
    "move_matrix=np.zeros((4,4))\n",
    "move_matrix[0][1]=1\n",
    "move_matrix=np.matrix(move_matrix)\n",
    "print move_matrix"
   ]
  },
  {
   "cell_type": "code",
   "execution_count": 97,
   "metadata": {
    "collapsed": false
   },
   "outputs": [
    {
     "data": {
      "text/plain": [
       "matrix([[ 1.,  0.,  0.,  0.]])"
      ]
     },
     "execution_count": 97,
     "metadata": {},
     "output_type": "execute_result"
    }
   ],
   "source": [
    "(move_matrix*state.T).T"
   ]
  },
  {
   "cell_type": "code",
   "execution_count": 98,
   "metadata": {
    "collapsed": true
   },
   "outputs": [],
   "source": [
    "move_matrix_2=np.zeros((4,4))\n",
    "move_matrix_2[1][0]=1\n",
    "move_matrix_2=np.matrix(move_matrix_2)"
   ]
  },
  {
   "cell_type": "code",
   "execution_count": 99,
   "metadata": {
    "collapsed": false
   },
   "outputs": [
    {
     "data": {
      "text/plain": [
       "matrix([[ 0.,  0.,  0.,  0.],\n",
       "        [ 0.,  1.,  0.,  0.],\n",
       "        [ 0.,  0.,  0.,  0.],\n",
       "        [ 0.,  0.,  0.,  0.]])"
      ]
     },
     "execution_count": 99,
     "metadata": {},
     "output_type": "execute_result"
    }
   ],
   "source": [
    "move_matrix_2*move_matrix"
   ]
  },
  {
   "cell_type": "code",
   "execution_count": 112,
   "metadata": {
    "collapsed": false
   },
   "outputs": [
    {
     "name": "stdout",
     "output_type": "stream",
     "text": [
      "4\n"
     ]
    }
   ],
   "source": [
    "print len(move_matrix)\n",
    "pad=np.zeros((1,len(move_matrix)))"
   ]
  },
  {
   "cell_type": "code",
   "execution_count": 113,
   "metadata": {
    "collapsed": false
   },
   "outputs": [
    {
     "data": {
      "text/plain": [
       "array([[ 0.,  0.,  0.,  0.]])"
      ]
     },
     "execution_count": 113,
     "metadata": {},
     "output_type": "execute_result"
    }
   ],
   "source": [
    "pad"
   ]
  },
  {
   "cell_type": "code",
   "execution_count": 115,
   "metadata": {
    "collapsed": true
   },
   "outputs": [],
   "source": [
    "padded=np.concatenate((move_matrix, pad), axis=0)\n"
   ]
  },
  {
   "cell_type": "code",
   "execution_count": 116,
   "metadata": {
    "collapsed": false
   },
   "outputs": [
    {
     "data": {
      "text/plain": [
       "matrix([[ 0.,  1.,  0.,  0.],\n",
       "        [ 0.,  0.,  0.,  0.],\n",
       "        [ 0.,  0.,  0.,  0.],\n",
       "        [ 0.,  0.,  0.,  0.],\n",
       "        [ 0.,  0.,  0.,  0.]])"
      ]
     },
     "execution_count": 116,
     "metadata": {},
     "output_type": "execute_result"
    }
   ],
   "source": [
    "padded"
   ]
  },
  {
   "cell_type": "code",
   "execution_count": 129,
   "metadata": {
    "collapsed": false
   },
   "outputs": [
    {
     "data": {
      "text/plain": [
       "1"
      ]
     },
     "execution_count": 129,
     "metadata": {},
     "output_type": "execute_result"
    }
   ],
   "source": [
    "test_list=[1,2,2,2,3]\n",
    "test_list.index(2)"
   ]
  },
  {
   "cell_type": "code",
   "execution_count": null,
   "metadata": {
    "collapsed": true
   },
   "outputs": [],
   "source": []
  }
 ],
 "metadata": {
  "kernelspec": {
   "display_name": "Python 2",
   "language": "python",
   "name": "python2"
  },
  "language_info": {
   "codemirror_mode": {
    "name": "ipython",
    "version": 2
   },
   "file_extension": ".py",
   "mimetype": "text/x-python",
   "name": "python",
   "nbconvert_exporter": "python",
   "pygments_lexer": "ipython2",
   "version": "2.7.11"
  }
 },
 "nbformat": 4,
 "nbformat_minor": 0
}
