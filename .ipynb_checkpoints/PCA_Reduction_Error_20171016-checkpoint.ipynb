{
 "cells": [
  {
   "cell_type": "markdown",
   "metadata": {},
   "source": [
    "# Reduction of Uncertainty Mechanisms for Monte Carlo analysis using Principal Component Analysis"
   ]
  },
  {
   "cell_type": "markdown",
   "metadata": {},
   "source": [
    "Given a set of randomly varying data ($y_i = \\hat{\\beta_i}* x_i$) where i is the experiment index, $\\beta$ is one or more parameters, y is the observed quantity, and x is an independent variable with very small or zero error assumed. \n",
    "\n",
    "If we have an initial Monte Carlo analysis with a set of parameters such that\n",
    "$$y_i=\\beta_{1i} * x_i + \\beta_{2i}*x_i$$\n",
    "\n",
    "where the $\\beta$ come from their own distributions, i.e.\n",
    "$$\\begin{cases} \n",
    "\\beta_1 \\in \\eta_1 \\\\\n",
    "\\beta_2 \\in \\eta_2\n",
    "\\end{cases}$$\n",
    "where $\\eta_i$ are random distributions\n",
    "\n",
    "we make N, observations or Monte Carlo trials, s.t. i = 1 to N, \n",
    "we now have the data set \n",
    "$$\\begin{cases} \n",
    "y_1=\\beta_{11} * x_1 + \\beta_{21}*x_1 \\\\\n",
    "...\\\\\n",
    "y_N=\\beta_{1N} * x_N + \\beta_{2N}*x_N\n",
    "\\end{cases}$$\n",
    "can we find $\\tilde{\\beta} \\in \\tilde{\\eta}$ s.t. \n",
    "$y=\\tilde{\\beta}*x$ \n",
    "in other words, given a set of observations or Monte Carlo trials, can we create a reduced set of parameters to approximate this distribution. \n",
    "\n",
    "Where I was inclined to start, <br/>\n",
    "Begin with a simple set of distributions (Gaussian with different $\\sigma$), and a physical model like the impedance of a transmission line. The parameters can be the outer diameter and inner diameter and the length. Then create a distribution of impedances from changing each of these parameters. \n",
    "Next create a second model that is a cascaded set of diameters and lengths ( a lot of little transmission lines hooked together) and show that in certain cases that you get the same results (all the parameters not correlated and their distribution of widths related to the big transmission line)\n",
    "Now take the observations and do a singular value decomposition. This will create 3 matrices, $U \\Sigma V^*$, see for example\n",
    "https://en.wikipedia.org/wiki/Singular-value_decomposition, now are the first few components of the $\\Sigma$ enough to recreate the distribution in both cases (this is PCA)? Do you get a non-physical or physical set of parameters (do they look just like the original parameters?)\n",
    "\n",
    "Things you need to know:\n",
    "Equation for the impedance of an airline \n",
    "$$$$\n",
    "how to do SVD\n",
    "\n",
    "\n",
    "### Some important points\n",
    "1. Each experiment (Monte Carlo Trial) is a column (N)\n",
    "2. Each Frequency is a row \n",
    "3. The diagonal of the $\\Sigma$ matrix will have the mechanisms in order of strength\n",
    "4. We could also fit the uncertainty in frequency \n",
    "5. If we select an error size $\\sigma$ then that tells us the number of mechanisms.\n",
    "\n",
    "We need a set of train data, a set of test data and a metric to tell if a model and a data set correspond. In addition, the model we develop should be used to create data and compared with data from the original model.\n",
    "$$\\begin{bmatrix}\n",
    "    x_{11} & x_{12} & x_{13} & \\dots  & x_{1n} \\\\\n",
    "    x_{21} & x_{22} & x_{23} & \\dots  & x_{2n} \\\\\n",
    "    \\vdots & \\vdots & \\vdots & \\ddots & \\vdots \\\\\n",
    "    x_{d1} & x_{d2} & x_{d3} & \\dots  & x_{dn}\n",
    "\\end{bmatrix}$$\n",
    "\n",
    "\n",
    "\n"
   ]
  },
  {
   "cell_type": "code",
   "execution_count": null,
   "metadata": {
    "collapsed": true
   },
   "outputs": [],
   "source": [
    "# an example\n",
    "# a scale that reads weight = k * distance displaced\n",
    "# here the independant variable is x \n",
    "# we can approximate the scale reading with a single parameter k or a sum of k's\n",
    "import numpy as np\n",
    "#numpy.linalg.svd(matrix or nparray)\n",
    "mean=10\n",
    "std=1\n",
    "n_parameters=1\n",
    "n_experiments=100\n",
    "num_x=100\n",
    "x_list=np.linspace(0,10,100)\n",
    "data=[]\n",
    "for experiment_index in range(n_experiments)\n",
    "k_list=[]\n",
    "for parameter_index in range(n_parameters):\n",
    "    k_list.append(np.random.normal(mean/n_parameters,std/np.sqrt(n_parameters),1))\n",
    "\n",
    "\n",
    "    "
   ]
  }
 ],
 "metadata": {
  "kernelspec": {
   "display_name": "Python 2",
   "language": "python",
   "name": "python2"
  },
  "language_info": {
   "codemirror_mode": {
    "name": "ipython",
    "version": 2
   },
   "file_extension": ".py",
   "mimetype": "text/x-python",
   "name": "python",
   "nbconvert_exporter": "python",
   "pygments_lexer": "ipython2",
   "version": "2.7.13"
  }
 },
 "nbformat": 4,
 "nbformat_minor": 2
}
