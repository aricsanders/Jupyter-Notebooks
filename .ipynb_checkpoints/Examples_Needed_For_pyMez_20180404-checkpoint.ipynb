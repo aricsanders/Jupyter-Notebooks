{
 "cells": [
  {
   "cell_type": "markdown",
   "metadata": {},
   "source": [
    "# Examples that pyMez Needs\n",
    "1. Creating a reference curves from MUF .meas files\n",
    "2. Creating a Zip archive using pyMez\n",
    "3. Adding an example to pyMez\n",
    "4. Using regexes for data manipulation and parsing\n",
    "5. A comprehensive set of Latex expressions for cut and paste\n",
    "6. Creating a checkstandard report\n",
    "7. MUF data type handling- examples for lots of stuff\n",
    "8. Acquiring data from a VNA\n",
    "9. Using the standard error model\n",
    "10. Changing the imported modules for pyMez\n",
    "11. Using the autoname function\n",
    "12. Overall design of pyMez\n",
    "13. How to make a FrontEnd for pyMez\n",
    "14. known Issues for pyMez\n",
    "15. Using GraphModels for data translation\n",
    "16. Using the HTMLReport class\n",
    "17. Acquiring data from a high speed oscilloscope \n",
    "18. LSNA data acquisition \n",
    "19. Solving a network path\n",
    "20. \n",
    "\n"
   ]
  },
  {
   "cell_type": "code",
   "execution_count": null,
   "metadata": {
    "collapsed": true
   },
   "outputs": [],
   "source": []
  }
 ],
 "metadata": {
  "kernelspec": {
   "display_name": "Python 2",
   "language": "python",
   "name": "python2"
  },
  "language_info": {
   "codemirror_mode": {
    "name": "ipython",
    "version": 2
   },
   "file_extension": ".py",
   "mimetype": "text/x-python",
   "name": "python",
   "nbconvert_exporter": "python",
   "pygments_lexer": "ipython2",
   "version": "2.7.13"
  }
 },
 "nbformat": 4,
 "nbformat_minor": 2
}
