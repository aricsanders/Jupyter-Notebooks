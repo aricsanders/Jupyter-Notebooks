{
 "cells": [
  {
   "cell_type": "code",
   "execution_count": 1,
   "metadata": {
    "collapsed": false
   },
   "outputs": [
    {
     "name": "stderr",
     "output_type": "stream",
     "text": [
      "C:\\Anaconda2\\lib\\site-packages\\ipykernel\\__main__.py:3: DeprecationWarning: \n",
      "The module was found, but not in a referenced namespace.\n",
      "Implicit loading is deprecated. Please use clr.AddReference(\"System.Collections\").\n",
      "  app.launch_new_instance()\n"
     ]
    }
   ],
   "source": [
    "import clr\n",
    "from System import String\n",
    "from System.Collections import *"
   ]
  },
  {
   "cell_type": "code",
   "execution_count": 2,
   "metadata": {
    "collapsed": false
   },
   "outputs": [
    {
     "name": "stderr",
     "output_type": "stream",
     "text": [
      "C:\\Anaconda2\\lib\\site-packages\\ipykernel\\__main__.py:3: DeprecationWarning: \n",
      "The module was found, but not in a referenced namespace.\n",
      "Implicit loading is deprecated. Please use clr.AddReference(\"System.Windows\").\n",
      "  app.launch_new_instance()\n"
     ]
    }
   ],
   "source": [
    "import clr\n",
    "clr.AddReference(\"System.Windows.Forms\")\n",
    "from System.Windows.Forms import Form"
   ]
  },
  {
   "cell_type": "code",
   "execution_count": 5,
   "metadata": {
    "collapsed": false
   },
   "outputs": [
    {
     "data": {
      "text/plain": [
       "<dictproxy {'AcceptButton': <property 'AcceptButton'>,\n",
       " 'Activate': <method 'Activate'>,\n",
       " 'ActivateMdiChild': <method 'ActivateMdiChild'>,\n",
       " 'Activated': <event 'Activated'>,\n",
       " 'ActiveForm': <property 'ActiveForm'>,\n",
       " 'ActiveMdiChild': <property 'ActiveMdiChild'>,\n",
       " 'AddOwnedForm': <method 'AddOwnedForm'>,\n",
       " 'AdjustFormScrollbars': <method 'AdjustFormScrollbars'>,\n",
       " 'AllowTransparency': <property 'AllowTransparency'>,\n",
       " 'ApplyAutoScaling': <method 'ApplyAutoScaling'>,\n",
       " 'AutoScale': <property 'AutoScale'>,\n",
       " 'AutoScaleBaseSize': <property 'AutoScaleBaseSize'>,\n",
       " 'AutoScroll': <property 'AutoScroll'>,\n",
       " 'AutoSize': <property 'AutoSize'>,\n",
       " 'AutoSizeChanged': <event 'AutoSizeChanged'>,\n",
       " 'AutoSizeMode': <property 'AutoSizeMode'>,\n",
       " 'AutoValidate': <property 'AutoValidate'>,\n",
       " 'AutoValidateChanged': <event 'AutoValidateChanged'>,\n",
       " 'BackColor': <property 'BackColor'>,\n",
       " 'CancelButton': <property 'CancelButton'>,\n",
       " 'CenterToParent': <method 'CenterToParent'>,\n",
       " 'CenterToScreen': <method 'CenterToScreen'>,\n",
       " 'ClientSize': <property 'ClientSize'>,\n",
       " 'Close': <method 'Close'>,\n",
       " 'Closed': <event 'Closed'>,\n",
       " 'Closing': <event 'Closing'>,\n",
       " 'ControlBox': <property 'ControlBox'>,\n",
       " 'ControlCollection': System.Windows.Forms.ControlCollection,\n",
       " 'CreateControlsInstance': <method 'CreateControlsInstance'>,\n",
       " 'CreateHandle': <method 'CreateHandle'>,\n",
       " 'CreateParams': <property 'CreateParams'>,\n",
       " 'Deactivate': <event 'Deactivate'>,\n",
       " 'DefWndProc': <method 'DefWndProc'>,\n",
       " 'DefaultImeMode': <property 'DefaultImeMode'>,\n",
       " 'DefaultSize': <property 'DefaultSize'>,\n",
       " 'DesktopBounds': <property 'DesktopBounds'>,\n",
       " 'DesktopLocation': <property 'DesktopLocation'>,\n",
       " 'DialogResult': <property 'DialogResult'>,\n",
       " 'Dispose': <method 'Dispose'>,\n",
       " 'FormBorderStyle': <property 'FormBorderStyle'>,\n",
       " 'FormClosed': <event 'FormClosed'>,\n",
       " 'FormClosing': <event 'FormClosing'>,\n",
       " 'GetAutoScaleSize': <method 'GetAutoScaleSize'>,\n",
       " 'GetScaledBounds': <method 'GetScaledBounds'>,\n",
       " 'HelpButton': <property 'HelpButton'>,\n",
       " 'HelpButtonClicked': <event 'HelpButtonClicked'>,\n",
       " 'Icon': <property 'Icon'>,\n",
       " 'InputLanguageChanged': <event 'InputLanguageChanged'>,\n",
       " 'InputLanguageChanging': <event 'InputLanguageChanging'>,\n",
       " 'IsMdiChild': <property 'IsMdiChild'>,\n",
       " 'IsMdiContainer': <property 'IsMdiContainer'>,\n",
       " 'IsRestrictedWindow': <property 'IsRestrictedWindow'>,\n",
       " 'KeyPreview': <property 'KeyPreview'>,\n",
       " 'LayoutMdi': <method 'LayoutMdi'>,\n",
       " 'Load': <event 'Load'>,\n",
       " 'Location': <property 'Location'>,\n",
       " 'MainMenuStrip': <property 'MainMenuStrip'>,\n",
       " 'Margin': <property 'Margin'>,\n",
       " 'MarginChanged': <event 'MarginChanged'>,\n",
       " 'MaximizeBox': <property 'MaximizeBox'>,\n",
       " 'MaximizedBounds': <property 'MaximizedBounds'>,\n",
       " 'MaximizedBoundsChanged': <event 'MaximizedBoundsChanged'>,\n",
       " 'MaximumSize': <property 'MaximumSize'>,\n",
       " 'MaximumSizeChanged': <event 'MaximumSizeChanged'>,\n",
       " 'MdiChildActivate': <event 'MdiChildActivate'>,\n",
       " 'MdiChildren': <property 'MdiChildren'>,\n",
       " 'MdiParent': <property 'MdiParent'>,\n",
       " 'Menu': <property 'Menu'>,\n",
       " 'MenuComplete': <event 'MenuComplete'>,\n",
       " 'MenuStart': <event 'MenuStart'>,\n",
       " 'MergedMenu': <property 'MergedMenu'>,\n",
       " 'MinimizeBox': <property 'MinimizeBox'>,\n",
       " 'MinimumSize': <property 'MinimumSize'>,\n",
       " 'MinimumSizeChanged': <event 'MinimumSizeChanged'>,\n",
       " 'Modal': <property 'Modal'>,\n",
       " 'OnActivated': <method 'OnActivated'>,\n",
       " 'OnBackgroundImageChanged': <method 'OnBackgroundImageChanged'>,\n",
       " 'OnBackgroundImageLayoutChanged': <method 'OnBackgroundImageLayoutChanged'>,\n",
       " 'OnClosed': <method 'OnClosed'>,\n",
       " 'OnClosing': <method 'OnClosing'>,\n",
       " 'OnCreateControl': <method 'OnCreateControl'>,\n",
       " 'OnDeactivate': <method 'OnDeactivate'>,\n",
       " 'OnEnabledChanged': <method 'OnEnabledChanged'>,\n",
       " 'OnEnter': <method 'OnEnter'>,\n",
       " 'OnFontChanged': <method 'OnFontChanged'>,\n",
       " 'OnFormClosed': <method 'OnFormClosed'>,\n",
       " 'OnFormClosing': <method 'OnFormClosing'>,\n",
       " 'OnHandleCreated': <method 'OnHandleCreated'>,\n",
       " 'OnHandleDestroyed': <method 'OnHandleDestroyed'>,\n",
       " 'OnHelpButtonClicked': <method 'OnHelpButtonClicked'>,\n",
       " 'OnInputLanguageChanged': <method 'OnInputLanguageChanged'>,\n",
       " 'OnInputLanguageChanging': <method 'OnInputLanguageChanging'>,\n",
       " 'OnLayout': <method 'OnLayout'>,\n",
       " 'OnLoad': <method 'OnLoad'>,\n",
       " 'OnMaximizedBoundsChanged': <method 'OnMaximizedBoundsChanged'>,\n",
       " 'OnMaximumSizeChanged': <method 'OnMaximumSizeChanged'>,\n",
       " 'OnMdiChildActivate': <method 'OnMdiChildActivate'>,\n",
       " 'OnMenuComplete': <method 'OnMenuComplete'>,\n",
       " 'OnMenuStart': <method 'OnMenuStart'>,\n",
       " 'OnMinimumSizeChanged': <method 'OnMinimumSizeChanged'>,\n",
       " 'OnPaint': <method 'OnPaint'>,\n",
       " 'OnResize': <method 'OnResize'>,\n",
       " 'OnResizeBegin': <method 'OnResizeBegin'>,\n",
       " 'OnResizeEnd': <method 'OnResizeEnd'>,\n",
       " 'OnRightToLeftLayoutChanged': <method 'OnRightToLeftLayoutChanged'>,\n",
       " 'OnShown': <method 'OnShown'>,\n",
       " 'OnStyleChanged': <method 'OnStyleChanged'>,\n",
       " 'OnTextChanged': <method 'OnTextChanged'>,\n",
       " 'OnVisibleChanged': <method 'OnVisibleChanged'>,\n",
       " 'Opacity': <property 'Opacity'>,\n",
       " 'Overloads': System.Windows.Forms.Form(),\n",
       " 'OwnedForms': <property 'OwnedForms'>,\n",
       " 'Owner': <property 'Owner'>,\n",
       " 'ProcessCmdKey': <method 'ProcessCmdKey'>,\n",
       " 'ProcessDialogChar': <method 'ProcessDialogChar'>,\n",
       " 'ProcessDialogKey': <method 'ProcessDialogKey'>,\n",
       " 'ProcessKeyPreview': <method 'ProcessKeyPreview'>,\n",
       " 'ProcessMnemonic': <method 'ProcessMnemonic'>,\n",
       " 'ProcessTabKey': <method 'ProcessTabKey'>,\n",
       " 'RemoveOwnedForm': <method 'RemoveOwnedForm'>,\n",
       " 'ResizeBegin': <event 'ResizeBegin'>,\n",
       " 'ResizeEnd': <event 'ResizeEnd'>,\n",
       " 'RestoreBounds': <property 'RestoreBounds'>,\n",
       " 'RightToLeftLayout': <property 'RightToLeftLayout'>,\n",
       " 'RightToLeftLayoutChanged': <event 'RightToLeftLayoutChanged'>,\n",
       " 'ScaleControl': <method 'ScaleControl'>,\n",
       " 'ScaleCore': <method 'ScaleCore'>,\n",
       " 'Select': <method 'Select'>,\n",
       " 'SetBoundsCore': <method 'SetBoundsCore'>,\n",
       " 'SetClientSizeCore': <method 'SetClientSizeCore'>,\n",
       " 'SetDesktopBounds': <method 'SetDesktopBounds'>,\n",
       " 'SetDesktopLocation': <method 'SetDesktopLocation'>,\n",
       " 'SetVisibleCore': <method 'SetVisibleCore'>,\n",
       " 'Show': <method 'Show'>,\n",
       " 'ShowDialog': <method 'ShowDialog'>,\n",
       " 'ShowIcon': <property 'ShowIcon'>,\n",
       " 'ShowInTaskbar': <property 'ShowInTaskbar'>,\n",
       " 'ShowWithoutActivation': <property 'ShowWithoutActivation'>,\n",
       " 'Shown': <event 'Shown'>,\n",
       " 'Size': <property 'Size'>,\n",
       " 'SizeGripStyle': <property 'SizeGripStyle'>,\n",
       " 'StartPosition': <property 'StartPosition'>,\n",
       " 'TabIndex': <property 'TabIndex'>,\n",
       " 'TabIndexChanged': <event 'TabIndexChanged'>,\n",
       " 'TabStop': <property 'TabStop'>,\n",
       " 'TabStopChanged': <event 'TabStopChanged'>,\n",
       " 'Text': <property 'Text'>,\n",
       " 'ToString': <method 'ToString'>,\n",
       " 'TopLevel': <property 'TopLevel'>,\n",
       " 'TopMost': <property 'TopMost'>,\n",
       " 'TransparencyKey': <property 'TransparencyKey'>,\n",
       " 'UpdateDefaultButton': <method 'UpdateDefaultButton'>,\n",
       " 'ValidateChildren': <method 'ValidateChildren'>,\n",
       " 'WindowState': <property 'WindowState'>,\n",
       " 'WndProc': <method 'WndProc'>,\n",
       " '__call__': <slot wrapper '__call__' of 'Form' objects>,\n",
       " '__cmp__': <slot wrapper '__cmp__' of 'Form' objects>,\n",
       " '__delitem__': <slot wrapper '__delitem__' of 'Form' objects>,\n",
       " '__doc__': 'Void .ctor()',\n",
       " '__getitem__': <slot wrapper '__getitem__' of 'Form' objects>,\n",
       " '__hash__': <slot wrapper '__hash__' of 'Form' objects>,\n",
       " '__init__': <slot wrapper '__init__' of 'Form' objects>,\n",
       " '__iter__': <slot wrapper '__iter__' of 'Form' objects>,\n",
       " '__module__': 'System.Windows.Forms',\n",
       " '__new__': <function __new__>,\n",
       " '__overloads__': System.Windows.Forms.Form(),\n",
       " '__setitem__': <slot wrapper '__setitem__' of 'Form' objects>,\n",
       " '__str__': <slot wrapper '__str__' of 'Form' objects>,\n",
       " 'add_Activated': <method 'add_Activated'>,\n",
       " 'add_AutoSizeChanged': <method 'add_AutoSizeChanged'>,\n",
       " 'add_AutoValidateChanged': <method 'add_AutoValidateChanged'>,\n",
       " 'add_Closed': <method 'add_Closed'>,\n",
       " 'add_Closing': <method 'add_Closing'>,\n",
       " 'add_Deactivate': <method 'add_Deactivate'>,\n",
       " 'add_FormClosed': <method 'add_FormClosed'>,\n",
       " 'add_FormClosing': <method 'add_FormClosing'>,\n",
       " 'add_HelpButtonClicked': <method 'add_HelpButtonClicked'>,\n",
       " 'add_InputLanguageChanged': <method 'add_InputLanguageChanged'>,\n",
       " 'add_InputLanguageChanging': <method 'add_InputLanguageChanging'>,\n",
       " 'add_Load': <method 'add_Load'>,\n",
       " 'add_MarginChanged': <method 'add_MarginChanged'>,\n",
       " 'add_MaximizedBoundsChanged': <method 'add_MaximizedBoundsChanged'>,\n",
       " 'add_MaximumSizeChanged': <method 'add_MaximumSizeChanged'>,\n",
       " 'add_MdiChildActivate': <method 'add_MdiChildActivate'>,\n",
       " 'add_MenuComplete': <method 'add_MenuComplete'>,\n",
       " 'add_MenuStart': <method 'add_MenuStart'>,\n",
       " 'add_MinimumSizeChanged': <method 'add_MinimumSizeChanged'>,\n",
       " 'add_ResizeBegin': <method 'add_ResizeBegin'>,\n",
       " 'add_ResizeEnd': <method 'add_ResizeEnd'>,\n",
       " 'add_RightToLeftLayoutChanged': <method 'add_RightToLeftLayoutChanged'>,\n",
       " 'add_Shown': <method 'add_Shown'>,\n",
       " 'add_TabIndexChanged': <method 'add_TabIndexChanged'>,\n",
       " 'add_TabStopChanged': <method 'add_TabStopChanged'>,\n",
       " 'get_AcceptButton': <method 'get_AcceptButton'>,\n",
       " 'get_ActiveForm': <method 'get_ActiveForm'>,\n",
       " 'get_ActiveMdiChild': <method 'get_ActiveMdiChild'>,\n",
       " 'get_AllowTransparency': <method 'get_AllowTransparency'>,\n",
       " 'get_AutoScale': <method 'get_AutoScale'>,\n",
       " 'get_AutoScaleBaseSize': <method 'get_AutoScaleBaseSize'>,\n",
       " 'get_AutoScroll': <method 'get_AutoScroll'>,\n",
       " 'get_AutoSize': <method 'get_AutoSize'>,\n",
       " 'get_AutoSizeMode': <method 'get_AutoSizeMode'>,\n",
       " 'get_AutoValidate': <method 'get_AutoValidate'>,\n",
       " 'get_BackColor': <method 'get_BackColor'>,\n",
       " 'get_CancelButton': <method 'get_CancelButton'>,\n",
       " 'get_ClientSize': <method 'get_ClientSize'>,\n",
       " 'get_ControlBox': <method 'get_ControlBox'>,\n",
       " 'get_CreateParams': <method 'get_CreateParams'>,\n",
       " 'get_DefaultImeMode': <method 'get_DefaultImeMode'>,\n",
       " 'get_DefaultSize': <method 'get_DefaultSize'>,\n",
       " 'get_DesktopBounds': <method 'get_DesktopBounds'>,\n",
       " 'get_DesktopLocation': <method 'get_DesktopLocation'>,\n",
       " 'get_DialogResult': <method 'get_DialogResult'>,\n",
       " 'get_FormBorderStyle': <method 'get_FormBorderStyle'>,\n",
       " 'get_HelpButton': <method 'get_HelpButton'>,\n",
       " 'get_Icon': <method 'get_Icon'>,\n",
       " 'get_IsMdiChild': <method 'get_IsMdiChild'>,\n",
       " 'get_IsMdiContainer': <method 'get_IsMdiContainer'>,\n",
       " 'get_IsRestrictedWindow': <method 'get_IsRestrictedWindow'>,\n",
       " 'get_KeyPreview': <method 'get_KeyPreview'>,\n",
       " 'get_Location': <method 'get_Location'>,\n",
       " 'get_MainMenuStrip': <method 'get_MainMenuStrip'>,\n",
       " 'get_Margin': <method 'get_Margin'>,\n",
       " 'get_MaximizeBox': <method 'get_MaximizeBox'>,\n",
       " 'get_MaximizedBounds': <method 'get_MaximizedBounds'>,\n",
       " 'get_MaximumSize': <method 'get_MaximumSize'>,\n",
       " 'get_MdiChildren': <method 'get_MdiChildren'>,\n",
       " 'get_MdiParent': <method 'get_MdiParent'>,\n",
       " 'get_Menu': <method 'get_Menu'>,\n",
       " 'get_MergedMenu': <method 'get_MergedMenu'>,\n",
       " 'get_MinimizeBox': <method 'get_MinimizeBox'>,\n",
       " 'get_MinimumSize': <method 'get_MinimumSize'>,\n",
       " 'get_Modal': <method 'get_Modal'>,\n",
       " 'get_Opacity': <method 'get_Opacity'>,\n",
       " 'get_OwnedForms': <method 'get_OwnedForms'>,\n",
       " 'get_Owner': <method 'get_Owner'>,\n",
       " 'get_RestoreBounds': <method 'get_RestoreBounds'>,\n",
       " 'get_RightToLeftLayout': <method 'get_RightToLeftLayout'>,\n",
       " 'get_ShowIcon': <method 'get_ShowIcon'>,\n",
       " 'get_ShowInTaskbar': <method 'get_ShowInTaskbar'>,\n",
       " 'get_ShowWithoutActivation': <method 'get_ShowWithoutActivation'>,\n",
       " 'get_Size': <method 'get_Size'>,\n",
       " 'get_SizeGripStyle': <method 'get_SizeGripStyle'>,\n",
       " 'get_StartPosition': <method 'get_StartPosition'>,\n",
       " 'get_TabIndex': <method 'get_TabIndex'>,\n",
       " 'get_TabStop': <method 'get_TabStop'>,\n",
       " 'get_Text': <method 'get_Text'>,\n",
       " 'get_TopLevel': <method 'get_TopLevel'>,\n",
       " 'get_TopMost': <method 'get_TopMost'>,\n",
       " 'get_TransparencyKey': <method 'get_TransparencyKey'>,\n",
       " 'get_WindowState': <method 'get_WindowState'>,\n",
       " 'remove_Activated': <method 'remove_Activated'>,\n",
       " 'remove_AutoSizeChanged': <method 'remove_AutoSizeChanged'>,\n",
       " 'remove_AutoValidateChanged': <method 'remove_AutoValidateChanged'>,\n",
       " 'remove_Closed': <method 'remove_Closed'>,\n",
       " 'remove_Closing': <method 'remove_Closing'>,\n",
       " 'remove_Deactivate': <method 'remove_Deactivate'>,\n",
       " 'remove_FormClosed': <method 'remove_FormClosed'>,\n",
       " 'remove_FormClosing': <method 'remove_FormClosing'>,\n",
       " 'remove_HelpButtonClicked': <method 'remove_HelpButtonClicked'>,\n",
       " 'remove_InputLanguageChanged': <method 'remove_InputLanguageChanged'>,\n",
       " 'remove_InputLanguageChanging': <method 'remove_InputLanguageChanging'>,\n",
       " 'remove_Load': <method 'remove_Load'>,\n",
       " 'remove_MarginChanged': <method 'remove_MarginChanged'>,\n",
       " 'remove_MaximizedBoundsChanged': <method 'remove_MaximizedBoundsChanged'>,\n",
       " 'remove_MaximumSizeChanged': <method 'remove_MaximumSizeChanged'>,\n",
       " 'remove_MdiChildActivate': <method 'remove_MdiChildActivate'>,\n",
       " 'remove_MenuComplete': <method 'remove_MenuComplete'>,\n",
       " 'remove_MenuStart': <method 'remove_MenuStart'>,\n",
       " 'remove_MinimumSizeChanged': <method 'remove_MinimumSizeChanged'>,\n",
       " 'remove_ResizeBegin': <method 'remove_ResizeBegin'>,\n",
       " 'remove_ResizeEnd': <method 'remove_ResizeEnd'>,\n",
       " 'remove_RightToLeftLayoutChanged': <method 'remove_RightToLeftLayoutChanged'>,\n",
       " 'remove_Shown': <method 'remove_Shown'>,\n",
       " 'remove_TabIndexChanged': <method 'remove_TabIndexChanged'>,\n",
       " 'remove_TabStopChanged': <method 'remove_TabStopChanged'>,\n",
       " 'set_AcceptButton': <method 'set_AcceptButton'>,\n",
       " 'set_AllowTransparency': <method 'set_AllowTransparency'>,\n",
       " 'set_AutoScale': <method 'set_AutoScale'>,\n",
       " 'set_AutoScaleBaseSize': <method 'set_AutoScaleBaseSize'>,\n",
       " 'set_AutoScroll': <method 'set_AutoScroll'>,\n",
       " 'set_AutoSize': <method 'set_AutoSize'>,\n",
       " 'set_AutoSizeMode': <method 'set_AutoSizeMode'>,\n",
       " 'set_AutoValidate': <method 'set_AutoValidate'>,\n",
       " 'set_BackColor': <method 'set_BackColor'>,\n",
       " 'set_CancelButton': <method 'set_CancelButton'>,\n",
       " 'set_ClientSize': <method 'set_ClientSize'>,\n",
       " 'set_ControlBox': <method 'set_ControlBox'>,\n",
       " 'set_DesktopBounds': <method 'set_DesktopBounds'>,\n",
       " 'set_DesktopLocation': <method 'set_DesktopLocation'>,\n",
       " 'set_DialogResult': <method 'set_DialogResult'>,\n",
       " 'set_FormBorderStyle': <method 'set_FormBorderStyle'>,\n",
       " 'set_HelpButton': <method 'set_HelpButton'>,\n",
       " 'set_Icon': <method 'set_Icon'>,\n",
       " 'set_IsMdiContainer': <method 'set_IsMdiContainer'>,\n",
       " 'set_KeyPreview': <method 'set_KeyPreview'>,\n",
       " 'set_Location': <method 'set_Location'>,\n",
       " 'set_MainMenuStrip': <method 'set_MainMenuStrip'>,\n",
       " 'set_Margin': <method 'set_Margin'>,\n",
       " 'set_MaximizeBox': <method 'set_MaximizeBox'>,\n",
       " 'set_MaximizedBounds': <method 'set_MaximizedBounds'>,\n",
       " 'set_MaximumSize': <method 'set_MaximumSize'>,\n",
       " 'set_MdiParent': <method 'set_MdiParent'>,\n",
       " 'set_Menu': <method 'set_Menu'>,\n",
       " 'set_MinimizeBox': <method 'set_MinimizeBox'>,\n",
       " 'set_MinimumSize': <method 'set_MinimumSize'>,\n",
       " 'set_Opacity': <method 'set_Opacity'>,\n",
       " 'set_Owner': <method 'set_Owner'>,\n",
       " 'set_RightToLeftLayout': <method 'set_RightToLeftLayout'>,\n",
       " 'set_ShowIcon': <method 'set_ShowIcon'>,\n",
       " 'set_ShowInTaskbar': <method 'set_ShowInTaskbar'>,\n",
       " 'set_Size': <method 'set_Size'>,\n",
       " 'set_SizeGripStyle': <method 'set_SizeGripStyle'>,\n",
       " 'set_StartPosition': <method 'set_StartPosition'>,\n",
       " 'set_TabIndex': <method 'set_TabIndex'>,\n",
       " 'set_TabStop': <method 'set_TabStop'>,\n",
       " 'set_Text': <method 'set_Text'>,\n",
       " 'set_TopLevel': <method 'set_TopLevel'>,\n",
       " 'set_TopMost': <method 'set_TopMost'>,\n",
       " 'set_TransparencyKey': <method 'set_TransparencyKey'>,\n",
       " 'set_WindowState': <method 'set_WindowState'>}>"
      ]
     },
     "execution_count": 5,
     "metadata": {},
     "output_type": "execute_result"
    }
   ],
   "source": [
    "Form.__dict__"
   ]
  },
  {
   "cell_type": "code",
   "execution_count": 6,
   "metadata": {
    "collapsed": false
   },
   "outputs": [
    {
     "ename": "ImportError",
     "evalue": "No module named NIST.UncertainityFrameWork",
     "output_type": "error",
     "traceback": [
      "\u001b[1;31m---------------------------------------------------------------------------\u001b[0m",
      "\u001b[1;31mImportError\u001b[0m                               Traceback (most recent call last)",
      "\u001b[1;32m<ipython-input-6-d6ec51d8bf26>\u001b[0m in \u001b[0;36m<module>\u001b[1;34m()\u001b[0m\n\u001b[1;32m----> 1\u001b[1;33m \u001b[1;32mimport\u001b[0m \u001b[0mNIST\u001b[0m\u001b[1;33m.\u001b[0m\u001b[0mUncertainityFrameWork\u001b[0m\u001b[1;33m\u001b[0m\u001b[0m\n\u001b[0m",
      "\u001b[1;31mImportError\u001b[0m: No module named NIST.UncertainityFrameWork"
     ]
    }
   ],
   "source": [
    "import NIST.UncertainityFrameWork "
   ]
  },
  {
   "cell_type": "code",
   "execution_count": 7,
   "metadata": {
    "collapsed": true
   },
   "outputs": [],
   "source": [
    "from System import Environment\n",
    "\n",
    "drives = Environment.GetLogicalDrives()"
   ]
  },
  {
   "cell_type": "code",
   "execution_count": 8,
   "metadata": {
    "collapsed": false
   },
   "outputs": [
    {
     "name": "stdout",
     "output_type": "stream",
     "text": [
      "System.String[]\n"
     ]
    }
   ],
   "source": [
    "print drives"
   ]
  },
  {
   "cell_type": "code",
   "execution_count": 9,
   "metadata": {
    "collapsed": false
   },
   "outputs": [
    {
     "name": "stdout",
     "output_type": "stream",
     "text": [
      "System.String GetFolderPath(SpecialFolder)\r\n",
      "System.String GetFolderPath(SpecialFolder, SpecialFolderOption)\n",
      "Help on class Environment in module System:\n",
      "\n",
      "class Environment(Object)\n",
      " |  Method resolution order:\n",
      " |      Environment\n",
      " |      Object\n",
      " |      __builtin__.object\n",
      " |  \n",
      " |  Methods defined here:\n",
      " |  \n",
      " |  __call__(...)\n",
      " |      x.__call__(...) <==> x(...)\n",
      " |  \n",
      " |  __cmp__(...)\n",
      " |      x.__cmp__(y) <==> cmp(x,y)\n",
      " |  \n",
      " |  __delitem__(...)\n",
      " |      x.__delitem__(y) <==> del x[y]\n",
      " |  \n",
      " |  __getitem__(...)\n",
      " |      x.__getitem__(y) <==> x[y]\n",
      " |  \n",
      " |  __hash__(...)\n",
      " |      x.__hash__() <==> hash(x)\n",
      " |  \n",
      " |  __init__(...)\n",
      " |      x.__init__(...) initializes x; see help(type(x)) for signature\n",
      " |  \n",
      " |  __iter__(...)\n",
      " |      x.__iter__() <==> iter(x)\n",
      " |  \n",
      " |  __setitem__(...)\n",
      " |      x.__setitem__(i, y) <==> x[i]=y\n",
      " |  \n",
      " |  __str__(...)\n",
      " |      x.__str__() <==> str(x)\n",
      " |  \n",
      " |  ----------------------------------------------------------------------\n",
      " |  Data descriptors defined here:\n",
      " |  \n",
      " |  CommandLine\n",
      " |  \n",
      " |  CurrentDirectory\n",
      " |  \n",
      " |  CurrentManagedThreadId\n",
      " |  \n",
      " |  Exit\n",
      " |      Void Exit(Int32)\n",
      " |  \n",
      " |  ExitCode\n",
      " |  \n",
      " |  ExpandEnvironmentVariables\n",
      " |      System.String ExpandEnvironmentVariables(System.String)\n",
      " |  \n",
      " |  FailFast\n",
      " |      Void FailFast(System.String)\r\n",
      " |      Void FailFast(System.String, System.Exception)\n",
      " |  \n",
      " |  GetCommandLineArgs\n",
      " |      System.String[] GetCommandLineArgs()\n",
      " |  \n",
      " |  GetEnvironmentVariable\n",
      " |      System.String GetEnvironmentVariable(System.String)\r\n",
      " |      System.String GetEnvironmentVariable(System.String, System.EnvironmentVariableTarget)\n",
      " |  \n",
      " |  GetEnvironmentVariables\n",
      " |      System.Collections.IDictionary GetEnvironmentVariables()\r\n",
      " |      System.Collections.IDictionary GetEnvironmentVariables(System.EnvironmentVariableTarget)\n",
      " |  \n",
      " |  GetFolderPath\n",
      " |      System.String GetFolderPath(SpecialFolder)\r\n",
      " |      System.String GetFolderPath(SpecialFolder, SpecialFolderOption)\n",
      " |  \n",
      " |  GetLogicalDrives\n",
      " |      System.String[] GetLogicalDrives()\n",
      " |  \n",
      " |  HasShutdownStarted\n",
      " |  \n",
      " |  Is64BitOperatingSystem\n",
      " |  \n",
      " |  Is64BitProcess\n",
      " |  \n",
      " |  MachineName\n",
      " |  \n",
      " |  NewLine\n",
      " |  \n",
      " |  OSVersion\n",
      " |  \n",
      " |  ProcessorCount\n",
      " |  \n",
      " |  SetEnvironmentVariable\n",
      " |      Void SetEnvironmentVariable(System.String, System.String)\r\n",
      " |      Void SetEnvironmentVariable(System.String, System.String, System.EnvironmentVariableTarget)\n",
      " |  \n",
      " |  StackTrace\n",
      " |  \n",
      " |  SystemDirectory\n",
      " |  \n",
      " |  SystemPageSize\n",
      " |  \n",
      " |  TickCount\n",
      " |  \n",
      " |  UserDomainName\n",
      " |  \n",
      " |  UserInteractive\n",
      " |  \n",
      " |  UserName\n",
      " |  \n",
      " |  Version\n",
      " |  \n",
      " |  WorkingSet\n",
      " |  \n",
      " |  get_CommandLine\n",
      " |      System.String get_CommandLine()\n",
      " |  \n",
      " |  get_CurrentDirectory\n",
      " |      System.String get_CurrentDirectory()\n",
      " |  \n",
      " |  get_CurrentManagedThreadId\n",
      " |      Int32 get_CurrentManagedThreadId()\n",
      " |  \n",
      " |  get_ExitCode\n",
      " |      Int32 get_ExitCode()\n",
      " |  \n",
      " |  get_HasShutdownStarted\n",
      " |      Boolean get_HasShutdownStarted()\n",
      " |  \n",
      " |  get_Is64BitOperatingSystem\n",
      " |      Boolean get_Is64BitOperatingSystem()\n",
      " |  \n",
      " |  get_Is64BitProcess\n",
      " |      Boolean get_Is64BitProcess()\n",
      " |  \n",
      " |  get_MachineName\n",
      " |      System.String get_MachineName()\n",
      " |  \n",
      " |  get_NewLine\n",
      " |      System.String get_NewLine()\n",
      " |  \n",
      " |  get_OSVersion\n",
      " |      System.OperatingSystem get_OSVersion()\n",
      " |  \n",
      " |  get_ProcessorCount\n",
      " |      Int32 get_ProcessorCount()\n",
      " |  \n",
      " |  get_StackTrace\n",
      " |      System.String get_StackTrace()\n",
      " |  \n",
      " |  get_SystemDirectory\n",
      " |      System.String get_SystemDirectory()\n",
      " |  \n",
      " |  get_SystemPageSize\n",
      " |      Int32 get_SystemPageSize()\n",
      " |  \n",
      " |  get_TickCount\n",
      " |      Int32 get_TickCount()\n",
      " |  \n",
      " |  get_UserDomainName\n",
      " |      System.String get_UserDomainName()\n",
      " |  \n",
      " |  get_UserInteractive\n",
      " |      Boolean get_UserInteractive()\n",
      " |  \n",
      " |  get_UserName\n",
      " |      System.String get_UserName()\n",
      " |  \n",
      " |  get_Version\n",
      " |      System.Version get_Version()\n",
      " |  \n",
      " |  get_WorkingSet\n",
      " |      Int64 get_WorkingSet()\n",
      " |  \n",
      " |  set_CurrentDirectory\n",
      " |      Void set_CurrentDirectory(System.String)\n",
      " |  \n",
      " |  set_ExitCode\n",
      " |      Void set_ExitCode(Int32)\n",
      " |  \n",
      " |  ----------------------------------------------------------------------\n",
      " |  Data and other attributes defined here:\n",
      " |  \n",
      " |  SpecialFolder = <class 'System.SpecialFolder'>\n",
      " |  \n",
      " |  \n",
      " |  SpecialFolderOption = <class 'System.SpecialFolderOption'>\n",
      " |  \n",
      " |  \n",
      " |  __new__ = <built-in method __new__ of CLR Metatype object>\n",
      " |      T.__new__(S, ...) -> a new object with type S, a subtype of T\n",
      " |  \n",
      " |  ----------------------------------------------------------------------\n",
      " |  Data descriptors inherited from Object:\n",
      " |  \n",
      " |  Equals\n",
      " |      Boolean Equals(System.Object)\r\n",
      " |      Boolean Equals(System.Object, System.Object)\n",
      " |  \n",
      " |  Finalize\n",
      " |      Void Finalize()\n",
      " |  \n",
      " |  GetHashCode\n",
      " |      Int32 GetHashCode()\n",
      " |  \n",
      " |  GetType\n",
      " |      System.Type GetType()\n",
      " |  \n",
      " |  MemberwiseClone\n",
      " |      System.Object MemberwiseClone()\n",
      " |  \n",
      " |  Overloads\n",
      " |  \n",
      " |  ReferenceEquals\n",
      " |      Boolean ReferenceEquals(System.Object, System.Object)\n",
      " |  \n",
      " |  ToString\n",
      " |      System.String ToString()\n",
      " |  \n",
      " |  __overloads__\n",
      "\n"
     ]
    }
   ],
   "source": [
    "from System import Environment\n",
    "\n",
    "print Environment.GetFolderPath.__doc__\n",
    "\n",
    "help(Environment)"
   ]
  },
  {
   "cell_type": "code",
   "execution_count": 14,
   "metadata": {
    "collapsed": false
   },
   "outputs": [
    {
     "data": {
      "text/plain": [
       "<System.String[] at 0x40159c8>"
      ]
     },
     "execution_count": 14,
     "metadata": {},
     "output_type": "execute_result"
    }
   ],
   "source": [
    "drives"
   ]
  },
  {
   "cell_type": "code",
   "execution_count": 18,
   "metadata": {
    "collapsed": false
   },
   "outputs": [
    {
     "data": {
      "text/plain": [
       "<System.Reflection.RuntimeAssembly at 0x406a5c8>"
      ]
     },
     "execution_count": 18,
     "metadata": {},
     "output_type": "execute_result"
    }
   ],
   "source": [
    "import sys\n",
    "sys.path.append(r'C:\\Program Files (x86)\\NIST\\Uncertainty Framework')\n",
    "clr.AddReference(\"UserDll\")\n"
   ]
  },
  {
   "cell_type": "code",
   "execution_count": 28,
   "metadata": {
    "collapsed": false
   },
   "outputs": [
    {
     "data": {
      "text/plain": [
       "{'AddReference': <CLRModuleFunction 'AddReference'>,\n",
       " 'FindAssembly': <CLRModuleFunction 'FindAssembly'>,\n",
       " 'ListAssemblies': <CLRModuleFunction 'ListAssemblies'>,\n",
       " 'System': <module 'System'>,\n",
       " '__doc__': None,\n",
       " '__file__': 'C:\\\\python27\\\\lib\\\\site-packages\\\\clr.pyd',\n",
       " '__name__': 'clr',\n",
       " 'getPreload': <CLRModuleFunction 'getPreload'>,\n",
       " 'setPreload': <CLRModuleFunction 'setPreload'>}"
      ]
     },
     "execution_count": 28,
     "metadata": {},
     "output_type": "execute_result"
    }
   ],
   "source": [
    "clr.__dict__"
   ]
  },
  {
   "cell_type": "code",
   "execution_count": 26,
   "metadata": {
    "collapsed": false
   },
   "outputs": [
    {
     "ename": "FileNotFoundException",
     "evalue": "Unable to find assembly 'PNAUtility'.\n   at Python.Runtime.CLRModule.AddReference(String name)",
     "output_type": "error",
     "traceback": [
      "\u001b[1;31m---------------------------------------------------------------------------\u001b[0m",
      "\u001b[1;31mFileNotFoundException\u001b[0m                     Traceback (most recent call last)",
      "\u001b[1;32m<ipython-input-26-f0c55dbd5afe>\u001b[0m in \u001b[0;36m<module>\u001b[1;34m()\u001b[0m\n\u001b[1;32m----> 1\u001b[1;33m \u001b[0mclr\u001b[0m\u001b[1;33m.\u001b[0m\u001b[0mAddReference\u001b[0m\u001b[1;33m(\u001b[0m\u001b[1;34m\"PNAUtility\"\u001b[0m\u001b[1;33m)\u001b[0m\u001b[1;33m\u001b[0m\u001b[0m\n\u001b[0m",
      "\u001b[1;31mFileNotFoundException\u001b[0m: Unable to find assembly 'PNAUtility'.\n   at Python.Runtime.CLRModule.AddReference(String name)"
     ]
    }
   ],
   "source": [
    "clr.AddReference(\"PNAUtility\")"
   ]
  },
  {
   "cell_type": "code",
   "execution_count": 27,
   "metadata": {
    "collapsed": false
   },
   "outputs": [
    {
     "ename": "AttributeError",
     "evalue": "AddReferenceToFile",
     "output_type": "error",
     "traceback": [
      "\u001b[1;31m---------------------------------------------------------------------------\u001b[0m",
      "\u001b[1;31mAttributeError\u001b[0m                            Traceback (most recent call last)",
      "\u001b[1;32m<ipython-input-27-b651a7ff5891>\u001b[0m in \u001b[0;36m<module>\u001b[1;34m()\u001b[0m\n\u001b[0;32m      1\u001b[0m \u001b[1;32mimport\u001b[0m \u001b[0mclr\u001b[0m\u001b[1;33m\u001b[0m\u001b[0m\n\u001b[1;32m----> 2\u001b[1;33m \u001b[0mclr\u001b[0m\u001b[1;33m.\u001b[0m\u001b[0mAddReferenceToFile\u001b[0m\u001b[1;33m(\u001b[0m\u001b[1;34m'PNAUtility.dll'\u001b[0m\u001b[1;33m)\u001b[0m\u001b[1;33m\u001b[0m\u001b[0m\n\u001b[0m\u001b[0;32m      3\u001b[0m \u001b[1;32mimport\u001b[0m \u001b[0mPNAUtility\u001b[0m\u001b[1;33m\u001b[0m\u001b[0m\n\u001b[0;32m      4\u001b[0m \u001b[1;32mfrom\u001b[0m \u001b[0mPNAUtility\u001b[0m \u001b[1;32mimport\u001b[0m \u001b[1;33m*\u001b[0m\u001b[1;33m\u001b[0m\u001b[0m\n",
      "\u001b[1;31mAttributeError\u001b[0m: AddReferenceToFile"
     ]
    }
   ],
   "source": [
    "import clr\n",
    "clr.AddReferenceToFile('PNAUtility.dll')\n",
    "import PNAUtility\n",
    "from PNAUtility import *"
   ]
  },
  {
   "cell_type": "code",
   "execution_count": 3,
   "metadata": {
    "collapsed": false
   },
   "outputs": [],
   "source": [
    "clr.AddReference(\"System.IO\")\n",
    "import System.IO\n"
   ]
  },
  {
   "cell_type": "code",
   "execution_count": 4,
   "metadata": {
    "collapsed": false
   },
   "outputs": [
    {
     "data": {
      "text/plain": [
       "u'C:\\\\Users\\\\sandersa\\\\PyCharm Projects\\\\Jupyter-Notebooks'"
      ]
     },
     "execution_count": 4,
     "metadata": {},
     "output_type": "execute_result"
    }
   ],
   "source": [
    "System.IO.Directory.GetCurrentDirectory()"
   ]
  },
  {
   "cell_type": "code",
   "execution_count": 5,
   "metadata": {
    "collapsed": true
   },
   "outputs": [],
   "source": [
    "System.Console.WriteLine(\"Hello World\")"
   ]
  },
  {
   "cell_type": "code",
   "execution_count": 8,
   "metadata": {
    "collapsed": false
   },
   "outputs": [
    {
     "data": {
      "text/plain": [
       "1"
      ]
     },
     "execution_count": 8,
     "metadata": {},
     "output_type": "execute_result"
    }
   ],
   "source": [
    "System.Windows.Forms.MessageBox.Show(\"Hello, World\")\n"
   ]
  },
  {
   "cell_type": "code",
   "execution_count": 13,
   "metadata": {
    "collapsed": false
   },
   "outputs": [],
   "source": [
    "clr.AddReference(\"System.Windows.Forms\")\n",
    "\n",
    "from System.Windows.Forms import Application, Form\n",
    "\n",
    "class HelloWorldForm(Form):\n",
    "\n",
    "     def __init__(self):\n",
    "         self.Text = 'Hello World'\n",
    "         self.Name = 'Hello World'\n",
    "\n",
    "form = HelloWorldForm()\n",
    "Application.Run(form)"
   ]
  },
  {
   "cell_type": "code",
   "execution_count": 14,
   "metadata": {
    "collapsed": true
   },
   "outputs": [],
   "source": [
    "clr.AddReference(\"System.Windows.Forms\")\n",
    "clr.AddReference(\"System.Drawing\")\n",
    "\n",
    "from System.Windows.Forms import Application, Form\n",
    "from System.Windows.Forms import Button, AnchorStyles\n",
    "from System.Drawing import Size, Point\n",
    "\n",
    "\n",
    "class IForm(Form):\n",
    "\n",
    "    def __init__(self):\n",
    "        self.Text = 'Anchor'        \n",
    "        self.Size = Size(210, 210)\n",
    "              \n",
    "        btn1 = Button()\n",
    "        btn1.Text = \"Button\"\n",
    "        btn1.Parent = self\n",
    "        btn1.Location = Point(30, 30)\n",
    "\n",
    "        btn2 = Button()\n",
    "        btn2.Text = \"Button\"\n",
    "        btn2.Parent = self\n",
    "        btn2.Location = Point(30, 80)\n",
    "        btn2.Anchor = AnchorStyles.Right\n",
    "        \n",
    "        self.CenterToScreen()\n",
    "    \n",
    "\n",
    "Application.Run(IForm())"
   ]
  },
  {
   "cell_type": "code",
   "execution_count": 15,
   "metadata": {
    "collapsed": true
   },
   "outputs": [],
   "source": [
    "clr.AddReference(\"System.Windows.Forms\")\n",
    "clr.AddReference(\"System.Drawing\")\n",
    "\n",
    "\n",
    "from System.Windows.Forms import Application, Form, MainMenu, StatusBar\n",
    "from System.Windows.Forms import Shortcut, MenuItem, TextBox, DockStyle\n",
    "from System.Drawing import Size, Point\n",
    "\n",
    "\n",
    "class IForm(Form):\n",
    "\n",
    "    def __init__(self):\n",
    "\n",
    "        self.Text = 'Editor'\n",
    "        self.Size = Size(210, 180)\n",
    "\n",
    "        mainMenu = MainMenu()\n",
    "        filem = mainMenu.MenuItems.Add('&File')\n",
    "        filem.MenuItems.Add(MenuItem('E&xit',\n",
    "                 self.OnExit, Shortcut.CtrlX))\n",
    "\n",
    "        self.Menu = mainMenu\n",
    "\n",
    "        tb = TextBox()\n",
    "        tb.Parent = self\n",
    "        tb.Dock = DockStyle.Fill\n",
    "        tb.Multiline = True\n",
    "\n",
    "        sb = StatusBar()\n",
    "        sb.Parent = self\n",
    "        sb.Text = 'Ready'\n",
    "\n",
    "        self.CenterToScreen()\n",
    "    \n",
    "\n",
    "    def OnExit(self, sender, event): \n",
    "        self.Close()\n",
    "    \n",
    "\n",
    "Application.Run(IForm())"
   ]
  },
  {
   "cell_type": "code",
   "execution_count": null,
   "metadata": {
    "collapsed": true
   },
   "outputs": [],
   "source": []
  }
 ],
 "metadata": {
  "kernelspec": {
   "display_name": "Python 2",
   "language": "python",
   "name": "python2"
  },
  "language_info": {
   "codemirror_mode": {
    "name": "ipython",
    "version": 2
   },
   "file_extension": ".py",
   "mimetype": "text/x-python",
   "name": "python",
   "nbconvert_exporter": "python",
   "pygments_lexer": "ipython2",
   "version": "2.7.11"
  }
 },
 "nbformat": 4,
 "nbformat_minor": 0
}
