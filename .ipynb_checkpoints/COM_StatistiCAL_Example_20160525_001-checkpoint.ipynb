{
 "cells": [
  {
   "cell_type": "code",
   "execution_count": 36,
   "metadata": {
    "collapsed": false
   },
   "outputs": [],
   "source": [
    "import os \n",
    "os.chdir(r'C:\\Program Files (x86)\\NIST\\StatistiCAL')\n",
    "import win32com.client\n",
    "application=win32com.client.Dispatch('StatistiCAL_Plus.StatistiCAL_Plus_Cnt')"
   ]
  },
  {
   "cell_type": "code",
   "execution_count": 46,
   "metadata": {
    "collapsed": false
   },
   "outputs": [],
   "source": [
    "application.QuitStatistiCAL()"
   ]
  },
  {
   "cell_type": "code",
   "execution_count": 45,
   "metadata": {
    "collapsed": false
   },
   "outputs": [],
   "source": [
    "application.OpenMenu(r'C:\\Program Files (x86)\\NIST\\StatistiCAL\\Sample2.txt')"
   ]
  },
  {
   "cell_type": "code",
   "execution_count": 19,
   "metadata": {
    "collapsed": false,
    "scrolled": true
   },
   "outputs": [
    {
     "data": {
      "text/plain": [
       "{'_builtMethods_': {},\n",
       " '_enum_': None,\n",
       " '_lazydata_': (<PyITypeInfo at 0x0000000003AF5DD0 with obj at 0x0000000000403B58>,\n",
       "  <PyITypeComp at 0x0000000003AF5B90 with obj at 0x0000000000403C38>),\n",
       " '_mapCachedItems_': {},\n",
       " '_oleobj_': <PyIDispatch at 0x0000000003AF5C50 with obj at 0x00000000003C03D8>,\n",
       " '_olerepr_': <win32com.client.build.LazyDispatchItem instance at 0x00000000024F4888>,\n",
       " '_unicode_to_string_': None,\n",
       " '_username_': 'StatistiCAL_Plus.StatistiCAL_Plus_Cnt'}"
      ]
     },
     "execution_count": 19,
     "metadata": {},
     "output_type": "execute_result"
    }
   ],
   "source": [
    "application.__dict__"
   ]
  },
  {
   "cell_type": "code",
   "execution_count": 25,
   "metadata": {
    "collapsed": false
   },
   "outputs": [
    {
     "data": {
      "text/plain": [
       "False"
      ]
     },
     "execution_count": 25,
     "metadata": {},
     "output_type": "execute_result"
    }
   ],
   "source": [
    "application=win32com.client.Dispatch('CalibrateDUT.CalibrateDUT_Control')\n",
    "application.Successful"
   ]
  },
  {
   "cell_type": "code",
   "execution_count": null,
   "metadata": {
    "collapsed": true
   },
   "outputs": [],
   "source": []
  }
 ],
 "metadata": {
  "kernelspec": {
   "display_name": "Python 2",
   "language": "python",
   "name": "python2"
  },
  "language_info": {
   "codemirror_mode": {
    "name": "ipython",
    "version": 2
   },
   "file_extension": ".py",
   "mimetype": "text/x-python",
   "name": "python",
   "nbconvert_exporter": "python",
   "pygments_lexer": "ipython2",
   "version": "2.7.11"
  }
 },
 "nbformat": 4,
 "nbformat_minor": 0
}
