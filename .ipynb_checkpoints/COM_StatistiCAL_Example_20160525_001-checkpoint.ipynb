{
 "cells": [
  {
   "cell_type": "code",
   "execution_count": 6,
   "metadata": {
    "collapsed": false
   },
   "outputs": [],
   "source": [
    "import os \n",
    "os.chdir(r'C:\\Program Files (x86)\\NIST\\StatistiCAL')\n",
    "import win32com.client\n",
    "application=win32com.client.Dispatch('StatistiCAL_Plus.StatistiCAL_Plus_Cnt')"
   ]
  },
  {
   "cell_type": "code",
   "execution_count": 5,
   "metadata": {
    "collapsed": false
   },
   "outputs": [
    {
     "ename": "AttributeError",
     "evalue": "StatistiCAL_Plus.StatistiCAL_Plus_Cnt.QuitStatistiCAL",
     "output_type": "error",
     "traceback": [
      "\u001b[1;31m---------------------------------------------------------------------------\u001b[0m",
      "\u001b[1;31mAttributeError\u001b[0m                            Traceback (most recent call last)",
      "\u001b[1;32m<ipython-input-5-83c16077a576>\u001b[0m in \u001b[0;36m<module>\u001b[1;34m()\u001b[0m\n\u001b[1;32m----> 1\u001b[1;33m \u001b[0mapplication\u001b[0m\u001b[1;33m.\u001b[0m\u001b[0mQuitStatistiCAL\u001b[0m\u001b[1;33m(\u001b[0m\u001b[1;33m)\u001b[0m\u001b[1;33m\u001b[0m\u001b[0m\n\u001b[0m",
      "\u001b[1;32mC:\\python27\\lib\\site-packages\\win32com\\client\\dynamic.pyc\u001b[0m in \u001b[0;36m__getattr__\u001b[1;34m(self, attr)\u001b[0m\n\u001b[0;32m    520\u001b[0m \u001b[1;33m\u001b[0m\u001b[0m\n\u001b[0;32m    521\u001b[0m                 \u001b[1;31m# no where else to look.\u001b[0m\u001b[1;33m\u001b[0m\u001b[1;33m\u001b[0m\u001b[0m\n\u001b[1;32m--> 522\u001b[1;33m                 \u001b[1;32mraise\u001b[0m \u001b[0mAttributeError\u001b[0m\u001b[1;33m(\u001b[0m\u001b[1;34m\"%s.%s\"\u001b[0m \u001b[1;33m%\u001b[0m \u001b[1;33m(\u001b[0m\u001b[0mself\u001b[0m\u001b[1;33m.\u001b[0m\u001b[0m_username_\u001b[0m\u001b[1;33m,\u001b[0m \u001b[0mattr\u001b[0m\u001b[1;33m)\u001b[0m\u001b[1;33m)\u001b[0m\u001b[1;33m\u001b[0m\u001b[0m\n\u001b[0m\u001b[0;32m    523\u001b[0m \u001b[1;33m\u001b[0m\u001b[0m\n\u001b[0;32m    524\u001b[0m         \u001b[1;32mdef\u001b[0m \u001b[0m__setattr__\u001b[0m\u001b[1;33m(\u001b[0m\u001b[0mself\u001b[0m\u001b[1;33m,\u001b[0m \u001b[0mattr\u001b[0m\u001b[1;33m,\u001b[0m \u001b[0mvalue\u001b[0m\u001b[1;33m)\u001b[0m\u001b[1;33m:\u001b[0m\u001b[1;33m\u001b[0m\u001b[0m\n",
      "\u001b[1;31mAttributeError\u001b[0m: StatistiCAL_Plus.StatistiCAL_Plus_Cnt.QuitStatistiCAL"
     ]
    }
   ],
   "source": [
    "application.QuitStatistiCAL()"
   ]
  },
  {
   "cell_type": "code",
   "execution_count": 45,
   "metadata": {
    "collapsed": false
   },
   "outputs": [],
   "source": [
    "application.OpenMenu(r'C:\\Program Files (x86)\\NIST\\StatistiCAL\\Sample2.txt')"
   ]
  },
  {
   "cell_type": "code",
   "execution_count": 19,
   "metadata": {
    "collapsed": false,
    "scrolled": true
   },
   "outputs": [
    {
     "data": {
      "text/plain": [
       "{'_builtMethods_': {},\n",
       " '_enum_': None,\n",
       " '_lazydata_': (<PyITypeInfo at 0x0000000003AF5DD0 with obj at 0x0000000000403B58>,\n",
       "  <PyITypeComp at 0x0000000003AF5B90 with obj at 0x0000000000403C38>),\n",
       " '_mapCachedItems_': {},\n",
       " '_oleobj_': <PyIDispatch at 0x0000000003AF5C50 with obj at 0x00000000003C03D8>,\n",
       " '_olerepr_': <win32com.client.build.LazyDispatchItem instance at 0x00000000024F4888>,\n",
       " '_unicode_to_string_': None,\n",
       " '_username_': 'StatistiCAL_Plus.StatistiCAL_Plus_Cnt'}"
      ]
     },
     "execution_count": 19,
     "metadata": {},
     "output_type": "execute_result"
    }
   ],
   "source": [
    "application.__dict__"
   ]
  },
  {
   "cell_type": "code",
   "execution_count": 25,
   "metadata": {
    "collapsed": false
   },
   "outputs": [
    {
     "data": {
      "text/plain": [
       "False"
      ]
     },
     "execution_count": 25,
     "metadata": {},
     "output_type": "execute_result"
    }
   ],
   "source": [
    "application=win32com.client.Dispatch('CalibrateDUT.CalibrateDUT_Control')\n",
    "application.Successful"
   ]
  },
  {
   "cell_type": "code",
   "execution_count": 8,
   "metadata": {
    "collapsed": false
   },
   "outputs": [
    {
     "data": {
      "text/plain": [
       "<bound method CDispatch.InFocusWhileCalculating of <COMObject StatistiCAL_Plus.StatistiCAL_Plus_Cnt>>"
      ]
     },
     "execution_count": 8,
     "metadata": {},
     "output_type": "execute_result"
    }
   ],
   "source": [
    "application.InFocusWhileCalculating"
   ]
  },
  {
   "cell_type": "code",
   "execution_count": 11,
   "metadata": {
    "collapsed": false
   },
   "outputs": [],
   "source": [
    "class StatistiCALError(Exception):\n",
    "    \"\"\"Error Class for the StatistiCAL Wrapper\"\"\"\n",
    "    pass\n",
    "class StatistiCALWrapper():\n",
    "    \"\"\"The StatistiCALWrapper Class is a python wrapper on a StatistiCAL COM object, it requires the win32com python\n",
    "    package to function. Class Methods and Attributes are documented in programmer's corner in the Statistical \n",
    "    help.\n",
    "    The Following are documented there:\n",
    "    StatistiCAL.NumberOfODRPACKErrors\n",
    "    StatistiCAL.SuppressErrorMessages\n",
    "    StatistiCAL.ShowErrorMessages\n",
    "    StatistiCAL.OpenMenu(ByVal FileName As String)\n",
    "    StatistiCAL.AddToMenu(ByVal FileName As String)\n",
    "    StatistiCAL.ClearStatistiCALMenu\n",
    "    StatistiCAL.CalibrateData\n",
    "    StatistiCAL.ShowStatistiCAL\n",
    "    StatistiCAL.HideStatistiCAL \n",
    "    StatistiCAL.QuitStatistiCAL\n",
    "    StatistiCAL.InFocusWhileCalculating\n",
    "    StatistiCAL.OutOfFocusWhileCalculating\n",
    "    StatistiCAL.SaveStatistiCALReportToFile(ByVal FileName As String)\n",
    "    StatistiCAL.SaveODRPACKReportToFile(ByVal FileName As String)\n",
    "    StatistiCAL.SaveSolutionVectorToFile(ByVal FileName As String)\n",
    "    StatistiCAL.SaveDUTSParToFile(ByVal FileName As String)\n",
    "    StatistiCAL.SaveStandardUncertToFile(ByVal FileName As String)\n",
    "    StatistiCAL.SaveCovarianceMatrixToFile(ByVal FileName As String)\n",
    "    StatistiCAL.SaveVNACalCoefToFile(ByVal FileName As String)\n",
    "    StatistiCAL.SaveCoverageFactorsToFile(ByVal FileName As String) \n",
    "    StatistiCAL.SaveResidualsToFile(ByVal FileName As String)\n",
    "    StatistiCAL.Successful - Always check this after a command to ensure that StatistiCAL was able to complete the command successfully\n",
    "\n",
    "     \"\"\"\n",
    "    def __init__(self):\n",
    "        \"\"\"Intialize the instance of StatistiCAL\"\"\"\n",
    "        # This is different than the name used in the help file, I found it by looking at regedit in windows\n",
    "        try:\n",
    "            self.application=win32com.client.Dispatch('StatistiCAL_Plus.StatistiCAL_Plus_Cnt')\n",
    "            self.Successfull=self.application.Successfull\n",
    "            self.NumberOfODRPACKErrors=self.application.NumberOfODRPACKErrors\n",
    "        except:\n",
    "            raise\n",
    "            raise StatistiCALError('The COM object representing StatistiCAL failed to intialize')\n",
    "    def SuppressErrorMessages(self):\n",
    "        \"\"\"Suppresses the Error Messages Created by Statistical\"\"\"\n",
    "        try: \n",
    "            self.application.SuppressErrorMessages()\n",
    "        except:\n",
    "            raise StatistiCALError('Unable to Suppress Error Meassages')\n",
    "    def ShowErrorMessages(self):\n",
    "        \"\"\"Shows the Error Messages Created by Statistical\"\"\"\n",
    "        try:\n",
    "            self.application.ShowErrorMessages()\n",
    "        except:\n",
    "            raise\n",
    "            \n",
    "    def OpenMenu(self,file_name=None):\n",
    "        \"\"\"Opens the menu specified by file_name in StatistiCAL\"\"\"\n",
    "        try:\n",
    "            if file_name is None:\n",
    "                raise StatistiCALError('Please Specify Menu Name')\n",
    "            else:\n",
    "                self.application.OpenMenu(file_name)\n",
    "        except:\n",
    "            raise\n",
    "            \n",
    "    def AddToMenu(self,file_name=None):\n",
    "        \"\"\"Adds the file specified by file_name to a menu in StatistiCAL\"\"\"\n",
    "        try:\n",
    "            if file_name is None:\n",
    "                raise StatistiCALError('Please Specify Menu Name')\n",
    "            else:\n",
    "                self.application.AddToMenu(file_name)\n",
    "        except:\n",
    "            raise    \n",
    "            \n",
    "    def ClearStatistiCALMenu(self):\n",
    "        \"\"\"Clears the Current StatistiCAL menu\"\"\"\n",
    "        try:\n",
    "            self.application.ClearStatistiCALMenu()\n",
    "        except:\n",
    "            raise\n",
    "    \n",
    "    def CalibrateData(self):\n",
    "        \"\"\"Calibrates the data using the menu data and the standard definitions\"\"\"\n",
    "        try:\n",
    "            self.application.CalibrateData()\n",
    "        except:\n",
    "            raise\n",
    "            \n",
    "    def ShowStatistiCAL(self):\n",
    "        \"\"\"Shows the visual basic 6 GUI of StatistiCAL\"\"\"\n",
    "        try:\n",
    "            self.application.ShowStatistiCAL()\n",
    "        except:\n",
    "            raise\n",
    "            \n",
    "    def HideStatistiCAL(self):\n",
    "        \"\"\"Hides the visual basic 6 GUI of StatistiCAL\"\"\"\n",
    "        try:\n",
    "            self.application.HideStatistiCAL()\n",
    "        except:\n",
    "            raise\n",
    "            \n",
    "    def QuitStatistiCAL(self):\n",
    "        \"\"\"Quits the visual basic 6 GUI of StatistiCAL\"\"\"\n",
    "        try:\n",
    "            self.application.QuitStatistiCAL()\n",
    "            del self\n",
    "        except:\n",
    "            raise\n",
    "    def InFocusWhileCalculating(self):\n",
    "        \"\"\"Keeps the visual basic 6 GUI of StatistiCAL in focus while calculating\"\"\"\n",
    "        try:\n",
    "            self.application.InFocusWhileCalculating()\n",
    "        except:\n",
    "            raise\n",
    "            \n",
    "    def OutOfFocusWhileCalculating(self):\n",
    "        \"\"\"Keeps the visual basic 6 GUI of StatistiCAL out of focus while calculating\"\"\"\n",
    "        try:\n",
    "            self.application.InFocusWhileCalculating()\n",
    "        except:\n",
    "            raise\n",
    "            \n",
    "    def OutOfFocusWhileCalculating(self):\n",
    "        \"\"\"Keeps the visual basic 6 GUI of StatistiCAL out of focus while calculating\"\"\"\n",
    "        try:\n",
    "            self.application.InFocusWhileCalculating()\n",
    "        except:\n",
    "            raise\n",
    "            \n",
    "    def SaveStatistiCALReportToFile(self,file_name=None):\n",
    "        \"\"\"Saves the statistiCAL report to file_name\"\"\"\n",
    "        try:\n",
    "            if file_name is None:\n",
    "                raise StatistiCALError('Please Specify File Name')\n",
    "            else:\n",
    "                self.application.SaveStatistiCALReportToFile(file_name)\n",
    "        except:\n",
    "            raise \n",
    "            \n",
    "    def SaveODRPACKReportToFile(self,file_name=None):\n",
    "        \"\"\"Saves the ODRPACK report to file_name\"\"\"\n",
    "        try:\n",
    "            if file_name is None:\n",
    "                raise StatistiCALError('Please Specify File Name')\n",
    "            else:\n",
    "                self.application.SaveODRPACKReportToFile(file_name)\n",
    "        except:\n",
    "            raise   \n",
    "            \n",
    "    def SaveSolutionVectorToFile(self,file_name=None):\n",
    "        \"\"\"Saves the solution vector to file_name\"\"\"\n",
    "        try:\n",
    "            if file_name is None:\n",
    "                raise StatistiCALError('Please Specify File Name')\n",
    "            else:\n",
    "                self.application.SaveSolutionVectorToFile(file_name)\n",
    "        except:\n",
    "            raise\n",
    "            \n",
    "    def SaveDUTSParToFile(self,file_name=None):\n",
    "        \"\"\"Saves the device under test(s) specified in standards to file_name\"\"\"\n",
    "        try:\n",
    "            if file_name is None:\n",
    "                raise StatistiCALError('Please Specify File Name')\n",
    "            else:\n",
    "                self.application.SaveDUTSParToFile(file_name)\n",
    "        except:\n",
    "            raise\n",
    "            \n",
    "    def SaveStandardUncertToFile(self,file_name=None):\n",
    "        \"\"\"Saves the standard uncertainity to file_name\"\"\"\n",
    "        try:\n",
    "            if file_name is None:\n",
    "                raise StatistiCALError('Please Specify File Name')\n",
    "            else:\n",
    "                self.application.SaveStandardUncertToFile(file_name)\n",
    "        except:\n",
    "            raise\n",
    "            \n",
    "    def SaveCovarianceMatrixToFile(self,file_name=None):\n",
    "        \"\"\"Saves the covariance matrix to file_name\"\"\"\n",
    "        try:\n",
    "            if file_name is None:\n",
    "                raise StatistiCALError('Please Specify File Name')\n",
    "            else:\n",
    "                self.application.SaveCovarianceMatrixToFile(file_name)\n",
    "        except:\n",
    "            raise\n",
    "            \n",
    "    def SaveVNACalCoefToFile(self,file_name=None):\n",
    "        \"\"\"Saves the VNA Calibration Coefficents to file_name\"\"\"\n",
    "        try:\n",
    "            if file_name is None:\n",
    "                raise StatistiCALError('Please Specify Menu Name')\n",
    "            else:\n",
    "                self.application.SaveVNACalCoefToFile(file_name)\n",
    "        except:\n",
    "            raise\n",
    "            \n",
    "    def SaveCoverageFactorsToFile(self,file_name=None):\n",
    "        \"\"\"Saves the coverage factors to file_name\"\"\"\n",
    "        try:\n",
    "            if file_name is None:\n",
    "                raise StatistiCALError('Please Specify Menu Name')\n",
    "            else:\n",
    "                self.application.SaveCoverageFactorsToFile(file_name)\n",
    "        except:\n",
    "            raise\n",
    "            \n",
    "    def SaveResidualsToFile(self,file_name=None):\n",
    "        \"\"\"Saves the residuals to file_name\"\"\"\n",
    "        try:\n",
    "            if file_name is None:\n",
    "                raise StatistiCALError('Please Specify Menu Name')\n",
    "            else:\n",
    "                self.application.SaveResidualsToFile(file_name)\n",
    "        except:\n",
    "            raise\n"
   ]
  },
  {
   "cell_type": "code",
   "execution_count": 13,
   "metadata": {
    "collapsed": false
   },
   "outputs": [
    {
     "ename": "StatistiCALError",
     "evalue": "The COM object representing StatistiCAL failed to intialize",
     "output_type": "error",
     "traceback": [
      "\u001b[1;31m---------------------------------------------------------------------------\u001b[0m",
      "\u001b[1;31mStatistiCALError\u001b[0m                          Traceback (most recent call last)",
      "\u001b[1;32m<ipython-input-13-054a50e31cf0>\u001b[0m in \u001b[0;36m<module>\u001b[1;34m()\u001b[0m\n\u001b[1;32m----> 1\u001b[1;33m \u001b[0mstat\u001b[0m\u001b[1;33m=\u001b[0m\u001b[0mStatistiCALWrapper\u001b[0m\u001b[1;33m(\u001b[0m\u001b[1;33m)\u001b[0m\u001b[1;33m\u001b[0m\u001b[0m\n\u001b[0m",
      "\u001b[1;32m<ipython-input-11-6cb007eaf1ed>\u001b[0m in \u001b[0;36m__init__\u001b[1;34m(self)\u001b[0m\n\u001b[0;32m     39\u001b[0m             \u001b[0mself\u001b[0m\u001b[1;33m.\u001b[0m\u001b[0mNumberOfODRPACKErrors\u001b[0m\u001b[1;33m=\u001b[0m\u001b[0mself\u001b[0m\u001b[1;33m.\u001b[0m\u001b[0mapplication\u001b[0m\u001b[1;33m.\u001b[0m\u001b[0mNumberOfODRPACKErrors\u001b[0m\u001b[1;33m\u001b[0m\u001b[0m\n\u001b[0;32m     40\u001b[0m         \u001b[1;32mexcept\u001b[0m\u001b[1;33m:\u001b[0m\u001b[1;33m\u001b[0m\u001b[0m\n\u001b[1;32m---> 41\u001b[1;33m             \u001b[1;32mraise\u001b[0m \u001b[0mStatistiCALError\u001b[0m\u001b[1;33m(\u001b[0m\u001b[1;34m'The COM object representing StatistiCAL failed to intialize'\u001b[0m\u001b[1;33m)\u001b[0m\u001b[1;33m\u001b[0m\u001b[0m\n\u001b[0m\u001b[0;32m     42\u001b[0m     \u001b[1;32mdef\u001b[0m \u001b[0mSuppressErrorMessages\u001b[0m\u001b[1;33m(\u001b[0m\u001b[0mself\u001b[0m\u001b[1;33m)\u001b[0m\u001b[1;33m:\u001b[0m\u001b[1;33m\u001b[0m\u001b[0m\n\u001b[0;32m     43\u001b[0m         \u001b[1;34m\"\"\"Suppresses the Error Messages Created by Statistical\"\"\"\u001b[0m\u001b[1;33m\u001b[0m\u001b[0m\n",
      "\u001b[1;31mStatistiCALError\u001b[0m: The COM object representing StatistiCAL failed to intialize"
     ]
    }
   ],
   "source": [
    "stat=StatistiCALWrapper()"
   ]
  },
  {
   "cell_type": "code",
   "execution_count": null,
   "metadata": {
    "collapsed": true
   },
   "outputs": [],
   "source": []
  }
 ],
 "metadata": {
  "kernelspec": {
   "display_name": "Python 2",
   "language": "python",
   "name": "python2"
  },
  "language_info": {
   "codemirror_mode": {
    "name": "ipython",
    "version": 2
   },
   "file_extension": ".py",
   "mimetype": "text/x-python",
   "name": "python",
   "nbconvert_exporter": "python",
   "pygments_lexer": "ipython2",
   "version": "2.7.11"
  }
 },
 "nbformat": 4,
 "nbformat_minor": 0
}
