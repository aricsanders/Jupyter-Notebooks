{
 "cells": [
  {
   "cell_type": "code",
   "execution_count": 11,
   "metadata": {
    "collapsed": true
   },
   "outputs": [],
   "source": [
    "import numpy as np"
   ]
  },
  {
   "cell_type": "code",
   "execution_count": 32,
   "metadata": {
    "collapsed": true
   },
   "outputs": [],
   "source": [
    "test_string=\"\"\"It is not uncommon for students to view laboratory instruments as black boxes. \n",
    "Unfortunately, this can often result in poor experimental results and interpretation. \n",
    "To tackle this issue, a laboratory course was designed to enable students not only to critically think about operating principles of the instrument but also to improve interpretation skills.\n",
    "Students were required to build their own visible spectrometer using interlocking building bricks with simple optical elements and a Raspberry Pi computer.\n",
    "Experiments were then conducted to explore the instrumental capabilities while, at the same time, using Python programming to plot data, perform linear least-squares fitting, and calculate errors. \n",
    "Instrument response and spectral measurements were followed by kinetic studies, enabling the students to tackle a “real” problem by extracting rate constants. \n",
    "The main learning outcomes were that the students would gain a better understanding of instrumental components and at the same time learn valuable analytical techniques such as calibration, determination of the limits of linearity, and dynamic range. \n",
    "These outcomes were achieved by applying a problem based learning approa\"\"\"\n"
   ]
  },
  {
   "cell_type": "code",
   "execution_count": 33,
   "metadata": {
    "collapsed": false
   },
   "outputs": [],
   "source": [
    "ord_list=map(lambda x:ord(x),test_string)"
   ]
  },
  {
   "cell_type": "code",
   "execution_count": 34,
   "metadata": {
    "collapsed": false
   },
   "outputs": [
    {
     "name": "stdout",
     "output_type": "stream",
     "text": [
      "1200\n",
      "34.6410161514\n",
      "35.0\n"
     ]
    }
   ],
   "source": [
    "print(len(ord_list))\n",
    "print(np.sqrt(len(ord_list)))\n",
    "print(np.ceil(np.sqrt(len(ord_list))))\n"
   ]
  },
  {
   "cell_type": "code",
   "execution_count": 35,
   "metadata": {
    "collapsed": false
   },
   "outputs": [],
   "source": [
    "char_list=map(lambda x:unichr(x),ord_list)"
   ]
  },
  {
   "cell_type": "code",
   "execution_count": 7,
   "metadata": {
    "collapsed": false
   },
   "outputs": [
    {
     "name": "stdout",
     "output_type": "stream",
     "text": [
      "[u'I', u'f', u' ', u'w', u'e', u' ', u'w', u'a', u'n', u't', u' ', u't', u'o', u' ', u's', u'o', u'r', u't', u' ', u'o', u'r', u' ', u'r', u'e', u'v', u'e', u'r', u's', u'e', u' ', u'a', u' ', u'l', u'i', u's', u't', u',', u' ', u'w', u'e', u' ', u'c', u'a', u'n', u' ', u'e', u'i', u't', u'h', u'e', u'r', u' ', u'c', u'a', u'l', u'l', u' ', u'a', u' ', u'm', u'e', u't', u'h', u'o', u'd', u' ', u'o', u'n', u' ', u't', u'h', u'e', u' ', u'l', u'i', u's', u't', u' ', u't', u'o', u' ', u'm', u'o', u'd', u'i', u'f', u'y', u' ', u'i', u't', u' ', u'i', u'n', u'-', u'p', u'l', u'a', u'c', u'e', u',', u' ', u'\\n', u'o', u'r', u' ', u'u', u's', u'e', u' ', u'a', u' ', u'f', u'u', u'n', u'c', u't', u'i', u'o', u'n', u' ', u't', u'o', u' ', u'r', u'e', u't', u'u', u'r', u'n', u' ', u'a', u' ', u'm', u'o', u'd', u'i', u'f', u'i', u'e', u'd', u' ', u'c', u'o', u'p', u'y', u' ', u'o', u'f', u' ', u't', u'h', u'e', u' ', u'l', u'i', u's', u't', u' ', u'w', u'h', u'i', u'l', u'e', u' ', u'l', u'e', u'a', u'v', u'i', u'n', u'g', u' ', u't', u'h', u'e', u' ', u'o', u'r', u'i', u'g', u'i', u'n', u'a', u'l', u' ', u'l', u'i', u's', u't', u' ', u'u', u'n', u't', u'o', u'u', u'c', u'h', u'e', u'd', u':']\n"
     ]
    }
   ],
   "source": [
    "print(char_list)"
   ]
  },
  {
   "cell_type": "code",
   "execution_count": 36,
   "metadata": {
    "collapsed": true
   },
   "outputs": [],
   "source": [
    "text=\"\"\n",
    "for character in char_list:\n",
    "    text+=character"
   ]
  },
  {
   "cell_type": "code",
   "execution_count": 37,
   "metadata": {
    "collapsed": false
   },
   "outputs": [
    {
     "name": "stdout",
     "output_type": "stream",
     "text": [
      "It is not uncommon for students to view laboratory instruments as black boxes. \n",
      "Unfortunately, this can often result in poor experimental results and interpretation. \n",
      "To tackle this issue, a laboratory course was designed to enable students not only to critically think about operating principles of the instrument but also to improve interpretation skills.\n",
      "Students were required to build their own visible spectrometer using interlocking building bricks with simple optical elements and a Raspberry Pi computer.\n",
      "Experiments were then conducted to explore the instrumental capabilities while, at the same time, using Python programming to plot data, perform linear least-squares fitting, and calculate errors. \n",
      "Instrument response and spectral measurements were followed by kinetic studies, enabling the students to tackle a ârealâ problem by extracting rate constants. \n",
      "The main learning outcomes were that the students would gain a better understanding of instrumental components and at the same time learn valuable analytical techniques such as calibration, determination of the limits of linearity, and dynamic range. \n",
      "These outcomes were achieved by applying a problem based learning approa\n"
     ]
    }
   ],
   "source": [
    "print(text)"
   ]
  },
  {
   "cell_type": "code",
   "execution_count": 39,
   "metadata": {
    "collapsed": false
   },
   "outputs": [],
   "source": [
    "from PIL import Image\n",
    "img = Image.fromarray(ord_array.reshape(60,20), 'L')\n",
    "img.show()"
   ]
  },
  {
   "cell_type": "code",
   "execution_count": 38,
   "metadata": {
    "collapsed": true
   },
   "outputs": [],
   "source": [
    "ord_array=np.array(ord_list, dtype=np.uint8)"
   ]
  },
  {
   "cell_type": "code",
   "execution_count": 22,
   "metadata": {
    "collapsed": false
   },
   "outputs": [
    {
     "data": {
      "text/plain": [
       "array([[ 73, 102,  32, 119, 101,  32, 119,  97, 110, 116],\n",
       "       [ 32, 116, 111,  32, 115, 111, 114, 116,  32, 111],\n",
       "       [114,  32, 114, 101, 118, 101, 114, 115, 101,  32],\n",
       "       [ 97,  32, 108, 105, 115, 116,  44,  32, 119, 101],\n",
       "       [ 32,  99,  97, 110,  32, 101, 105, 116, 104, 101],\n",
       "       [114,  32,  99,  97, 108, 108,  32,  97,  32, 109],\n",
       "       [101, 116, 104, 111, 100,  32, 111, 110,  32, 116],\n",
       "       [104, 101,  32, 108, 105, 115, 116,  32, 116, 111],\n",
       "       [ 32, 109, 111, 100, 105, 102, 121,  32, 105, 116],\n",
       "       [ 32, 105, 110,  45, 112, 108,  97,  99, 101,  44],\n",
       "       [ 32,  10, 111, 114,  32, 117, 115, 101,  32,  97],\n",
       "       [ 32, 102, 117, 110,  99, 116, 105, 111, 110,  32],\n",
       "       [116, 111,  32, 114, 101, 116, 117, 114, 110,  32],\n",
       "       [ 97,  32, 109, 111, 100, 105, 102, 105, 101, 100],\n",
       "       [ 32,  99, 111, 112, 121,  32, 111, 102,  32, 116],\n",
       "       [104, 101,  32, 108, 105, 115, 116,  32, 119, 104],\n",
       "       [105, 108, 101,  32, 108, 101,  97, 118, 105, 110],\n",
       "       [103,  32, 116, 104, 101,  32, 111, 114, 105, 103],\n",
       "       [105, 110,  97, 108,  32, 108, 105, 115, 116,  32],\n",
       "       [117, 110, 116, 111, 117,  99, 104, 101, 100,  58]], dtype=uint8)"
      ]
     },
     "execution_count": 22,
     "metadata": {},
     "output_type": "execute_result"
    }
   ],
   "source": [
    "ord_array.reshape(20,10)"
   ]
  },
  {
   "cell_type": "code",
   "execution_count": 40,
   "metadata": {
    "collapsed": true
   },
   "outputs": [],
   "source": [
    "from pyMez.Code.DataHandlers.Translations import *"
   ]
  },
  {
   "cell_type": "code",
   "execution_count": 41,
   "metadata": {
    "collapsed": true
   },
   "outputs": [],
   "source": [
    "data=PngFile_to_Base64(r\"C:\\Users\\sandersa\\PyCharmProjects\\Jupyter-Notebooks\\OpenCV_Files\\FaceDetect-master\\face_detect_cv3.py\")"
   ]
  },
  {
   "cell_type": "code",
   "execution_count": 42,
   "metadata": {
    "collapsed": false
   },
   "outputs": [
    {
     "data": {
      "text/plain": [
       "920"
      ]
     },
     "execution_count": 42,
     "metadata": {},
     "output_type": "execute_result"
    }
   ],
   "source": [
    "len(data)"
   ]
  },
  {
   "cell_type": "code",
   "execution_count": 44,
   "metadata": {
    "collapsed": false
   },
   "outputs": [],
   "source": [
    "import base64"
   ]
  },
  {
   "cell_type": "code",
   "execution_count": 52,
   "metadata": {
    "collapsed": false
   },
   "outputs": [
    {
     "data": {
      "image/png": "[encoded data removed]",
      "text/plain": [
       "<matplotlib.figure.Figure at 0x10ba7c50>"
      ]
     },
     "metadata": {},
     "output_type": "display_data"
    }
   ],
   "source": [
    "plt.hist(ord_array)\n",
    "plt.show()"
   ]
  },
  {
   "cell_type": "code",
   "execution_count": null,
   "metadata": {
    "collapsed": true
   },
   "outputs": [],
   "source": []
  }
 ],
 "metadata": {
  "kernelspec": {
   "display_name": "Python 2",
   "language": "python",
   "name": "python2"
  },
  "language_info": {
   "codemirror_mode": {
    "name": "ipython",
    "version": 2
   },
   "file_extension": ".py",
   "mimetype": "text/x-python",
   "name": "python",
   "nbconvert_exporter": "python",
   "pygments_lexer": "ipython2",
   "version": "2.7.13"
  }
 },
 "nbformat": 4,
 "nbformat_minor": 2
}
