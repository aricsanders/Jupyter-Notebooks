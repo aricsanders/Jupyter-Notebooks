{
 "cells": [
  {
   "cell_type": "code",
   "execution_count": 1,
   "metadata": {
    "collapsed": false
   },
   "outputs": [],
   "source": [
    "import pyMeasure.Code.DataHandlers.GeneralModels as GeneralModels"
   ]
  },
  {
   "cell_type": "code",
   "execution_count": 2,
   "metadata": {
    "collapsed": false
   },
   "outputs": [
    {
     "ename": "ValueError",
     "evalue": "too many values to unpack",
     "output_type": "error",
     "traceback": [
      "\u001b[1;31m---------------------------------------------------------------------------\u001b[0m",
      "\u001b[1;31mValueError\u001b[0m                                Traceback (most recent call last)",
      "\u001b[1;32m<ipython-input-2-e4234e604516>\u001b[0m in \u001b[0;36m<module>\u001b[1;34m()\u001b[0m\n\u001b[0;32m      1\u001b[0m \u001b[1;31m#Lets make a table and put it into the AsciiDataTable\u001b[0m\u001b[1;33m\u001b[0m\u001b[1;33m\u001b[0m\u001b[0m\n\u001b[1;32m----> 2\u001b[1;33m \u001b[0mnew_table\u001b[0m\u001b[1;33m=\u001b[0m\u001b[0mGeneralModels\u001b[0m\u001b[1;33m.\u001b[0m\u001b[0mAsciiDataTable\u001b[0m\u001b[1;33m(\u001b[0m\u001b[1;33m)\u001b[0m\u001b[1;33m\u001b[0m\u001b[0m\n\u001b[0m",
      "\u001b[1;32mC:\\Anaconda2\\lib\\site-packages\\pyMeasure\\Code\\DataHandlers\\GeneralModels.pyc\u001b[0m in \u001b[0;36m__init__\u001b[1;34m(self, file_path, **options)\u001b[0m\n\u001b[0;32m    469\u001b[0m             [self.options[\"header\"],self.options[\"column_names\"],\n\u001b[0;32m    470\u001b[0m                                 \u001b[0mself\u001b[0m\u001b[1;33m.\u001b[0m\u001b[0moptions\u001b[0m\u001b[1;33m[\u001b[0m\u001b[1;34m\"data\"\u001b[0m\u001b[1;33m]\u001b[0m\u001b[1;33m,\u001b[0m\u001b[0mself\u001b[0m\u001b[1;33m.\u001b[0m\u001b[0moptions\u001b[0m\u001b[1;33m[\u001b[0m\u001b[1;34m\"footer\"\u001b[0m\u001b[1;33m]\u001b[0m\u001b[1;33m,\u001b[0m\u001b[1;33m\u001b[0m\u001b[0m\n\u001b[1;32m--> 471\u001b[1;33m                                 self.options[\"inline_comments\"]]=[None for i in self.elements]\n\u001b[0m\u001b[0;32m    472\u001b[0m \u001b[1;33m\u001b[0m\u001b[0m\n\u001b[0;32m    473\u001b[0m             \u001b[1;31m#if you are validating the model, you have to skip the updating until it hsa been parsed\u001b[0m\u001b[1;33m\u001b[0m\u001b[1;33m\u001b[0m\u001b[0m\n",
      "\u001b[1;31mValueError\u001b[0m: too many values to unpack"
     ]
    }
   ],
   "source": [
    "#Lets make a table and put it into the AsciiDataTable \n",
    "new_table=GeneralModels.AsciiDataTable()"
   ]
  },
  {
   "cell_type": "code",
   "execution_count": 3,
   "metadata": {
    "collapsed": false
   },
   "outputs": [
    {
     "name": "stdout",
     "output_type": "stream",
     "text": [
      "[[0, 1, 2], [3, 4, 5], [6, 7, 8]]\n"
     ]
    }
   ],
   "source": [
    "table_data=[[i+j*3 for i in range(3)]for j in range(3)]\n",
    "print table_data"
   ]
  },
  {
   "cell_type": "code",
   "execution_count": 4,
   "metadata": {
    "collapsed": false
   },
   "outputs": [],
   "source": [
    "#input the data directly\n",
    "new_table.data=table_data"
   ]
  },
  {
   "cell_type": "code",
   "execution_count": 5,
   "metadata": {
    "collapsed": true
   },
   "outputs": [],
   "source": [
    "new_table.column_names=['x1','x2','x3']"
   ]
  },
  {
   "cell_type": "code",
   "execution_count": 6,
   "metadata": {
    "collapsed": false
   },
   "outputs": [
    {
     "name": "stdout",
     "output_type": "stream",
     "text": [
      "x1,x2,x3\n",
      "0,1,2\n",
      "3,4,5\n",
      "6,7,8\n"
     ]
    }
   ],
   "source": [
    "print new_table.build_string()"
   ]
  },
  {
   "cell_type": "code",
   "execution_count": 7,
   "metadata": {
    "collapsed": true
   },
   "outputs": [],
   "source": [
    "new_table.options['column_names_begin_token']='#'"
   ]
  },
  {
   "cell_type": "code",
   "execution_count": 8,
   "metadata": {
    "collapsed": false
   },
   "outputs": [
    {
     "name": "stdout",
     "output_type": "stream",
     "text": [
      "#x1,x2,x3\n",
      "0,1,2\n",
      "3,4,5\n",
      "6,7,8\n"
     ]
    }
   ],
   "source": [
    "print new_table.build_string()"
   ]
  },
  {
   "cell_type": "code",
   "execution_count": 9,
   "metadata": {
    "collapsed": true
   },
   "outputs": [],
   "source": [
    "new_table.options['column_names_begin_token']='['\n",
    "new_table.options['column_names_end_token']=']'"
   ]
  },
  {
   "cell_type": "code",
   "execution_count": 10,
   "metadata": {
    "collapsed": false
   },
   "outputs": [
    {
     "name": "stdout",
     "output_type": "stream",
     "text": [
      "[x1,x2,x3]\n",
      "0,1,2\n",
      "3,4,5\n",
      "6,7,8\n"
     ]
    }
   ],
   "source": [
    "print new_table.build_string()"
   ]
  },
  {
   "cell_type": "code",
   "execution_count": 11,
   "metadata": {
    "collapsed": true
   },
   "outputs": [],
   "source": [
    "new_table.options['data_begin_token']='*'*80+'\\n'\n",
    "new_table.options['data_end_token']=\"\\n\"+'*'*80"
   ]
  },
  {
   "cell_type": "code",
   "execution_count": 12,
   "metadata": {
    "collapsed": false
   },
   "outputs": [
    {
     "name": "stdout",
     "output_type": "stream",
     "text": [
      "[x1,x2,x3]\n",
      "********************************************************************************\n",
      "0,1,2\n",
      "3,4,5\n",
      "6,7,8\n",
      "********************************************************************************\n"
     ]
    }
   ],
   "source": [
    "print new_table.build_string()"
   ]
  },
  {
   "cell_type": "code",
   "execution_count": 13,
   "metadata": {
    "collapsed": true
   },
   "outputs": [],
   "source": [
    "new_table.header=['My First Header Line','My Second Header Line']"
   ]
  },
  {
   "cell_type": "code",
   "execution_count": 14,
   "metadata": {
    "collapsed": false
   },
   "outputs": [
    {
     "name": "stdout",
     "output_type": "stream",
     "text": [
      "My First Header Line\n",
      "My Second Header Line\n",
      "[x1,x2,x3]\n",
      "********************************************************************************\n",
      "0,1,2\n",
      "3,4,5\n",
      "6,7,8\n",
      "********************************************************************************\n"
     ]
    }
   ],
   "source": [
    "print new_table"
   ]
  },
  {
   "cell_type": "code",
   "execution_count": 15,
   "metadata": {
    "collapsed": true
   },
   "outputs": [],
   "source": [
    "new_table.options['comment_begin']='#'\n",
    "new_table.options['comment_end']='\\n'"
   ]
  },
  {
   "cell_type": "code",
   "execution_count": 16,
   "metadata": {
    "collapsed": false
   },
   "outputs": [
    {
     "name": "stdout",
     "output_type": "stream",
     "text": [
      "#My First Header Line\n",
      "#My Second Header Line\n",
      "\n",
      "[x1,x2,x3]\n",
      "********************************************************************************\n",
      "0,1,2\n",
      "3,4,5\n",
      "6,7,8\n",
      "********************************************************************************\n"
     ]
    }
   ],
   "source": [
    "print new_table"
   ]
  },
  {
   "cell_type": "code",
   "execution_count": 17,
   "metadata": {
    "collapsed": false
   },
   "outputs": [
    {
     "name": "stdout",
     "output_type": "stream",
     "text": [
      "inline_comments = None\n",
      "data_begin_line = 4\n",
      "column_names_begin_line = 3\n",
      "footer_line_types = None\n",
      "general_descriptor = Table\n",
      "header_end_token = None\n",
      "header_end_line = 3\n",
      "column_names_end_line = 4\n",
      "data_table_element_separator = \n",
      "\n",
      "escape_character = None\n",
      "data = None\n",
      "inline_comment_begin = None\n",
      "column_descriptions = None\n",
      "inline_comment_end = None\n",
      "data_begin_token = ********************************************************************************\n",
      "\n",
      "comment_end = \n",
      "\n",
      "header_begin_line = 0\n",
      "row_end_token = None\n",
      "column_names_end_token = ]\n",
      "block_comment_begin = None\n",
      "header_begin_token = None\n",
      "metadata = None\n",
      "specific_descriptor = Data\n",
      "empty_value = None\n",
      "column_names_begin_token = [\n",
      "footer_end_token = None\n",
      "footer_begin_token = None\n",
      "column_names = None\n",
      "metadata_key_value_delimiter = None\n",
      "column_types = None\n",
      "comment_begin = #\n",
      "treat_header_as_comment = None\n",
      "column_units = None\n",
      "column_names_delimiter = None\n",
      "treat_footer_as_comment = None\n",
      "extension = txt\n",
      "header = None\n",
      "footer = None\n",
      "data_end_line = None\n",
      "block_comment_end = None\n",
      "footer_end_line = None\n",
      "data_delimiter = None\n",
      "footer_begin_line = None\n",
      "data_end_token = \n",
      "********************************************************************************\n",
      "row_begin_token = None\n",
      "directory = None\n",
      "header_line_types = None\n",
      "row_formatter_string = None\n",
      "metadata_delimiter = None\n"
     ]
    }
   ],
   "source": [
    "new_table.get_options()"
   ]
  },
  {
   "cell_type": "code",
   "execution_count": 18,
   "metadata": {
    "collapsed": false
   },
   "outputs": [
    {
     "data": {
      "text/plain": [
       "'Data_Table_20160312_001.txt'"
      ]
     },
     "execution_count": 18,
     "metadata": {},
     "output_type": "execute_result"
    }
   ],
   "source": [
    "new_table.path"
   ]
  },
  {
   "cell_type": "code",
   "execution_count": 19,
   "metadata": {
    "collapsed": true
   },
   "outputs": [],
   "source": [
    "new_table.options['data_begin_token']=None\n",
    "new_table.options['data_end_token']=None"
   ]
  },
  {
   "cell_type": "code",
   "execution_count": 20,
   "metadata": {
    "collapsed": false
   },
   "outputs": [
    {
     "name": "stdout",
     "output_type": "stream",
     "text": [
      "#My First Header Line\n",
      "#My Second Header Line\n",
      "\n",
      "[x1,x2,x3]\n",
      "0,1,2\n",
      "3,4,5\n",
      "6,7,8\n"
     ]
    }
   ],
   "source": [
    "print new_table"
   ]
  },
  {
   "cell_type": "code",
   "execution_count": 21,
   "metadata": {
    "collapsed": true
   },
   "outputs": [],
   "source": [
    "new_table2=GeneralModels.AsciiDataTable()\n",
    "new_table2.header=new_table.header\n",
    "new_table2.column_names=new_table.column_names\n",
    "new_table2.options=new_table.options"
   ]
  },
  {
   "cell_type": "code",
   "execution_count": 22,
   "metadata": {
    "collapsed": false
   },
   "outputs": [
    {
     "name": "stdout",
     "output_type": "stream",
     "text": [
      "#My First Header Line\n",
      "#My Second Header Line\n",
      "\n",
      "[x1,x2,x3]\n"
     ]
    }
   ],
   "source": [
    "print new_table2"
   ]
  },
  {
   "cell_type": "code",
   "execution_count": 23,
   "metadata": {
    "collapsed": false
   },
   "outputs": [],
   "source": [
    "new_table2.data=[[2*(i+j*3) for i in range(3)]for j in range(3)]"
   ]
  },
  {
   "cell_type": "code",
   "execution_count": 24,
   "metadata": {
    "collapsed": false
   },
   "outputs": [
    {
     "name": "stdout",
     "output_type": "stream",
     "text": [
      "#My First Header Line\n",
      "#My Second Header Line\n",
      "\n",
      "[x1,x2,x3]\n",
      "0,2,4\n",
      "6,8,10\n",
      "12,14,16\n"
     ]
    }
   ],
   "source": [
    "print new_table2"
   ]
  },
  {
   "cell_type": "code",
   "execution_count": 25,
   "metadata": {
    "collapsed": false
   },
   "outputs": [
    {
     "data": {
      "text/plain": [
       "<pyMeasure.Code.DataHandlers.GeneralModels.AsciiDataTable instance at 0x00000000040A0148>"
      ]
     },
     "execution_count": 25,
     "metadata": {},
     "output_type": "execute_result"
    }
   ],
   "source": [
    "new_table+new_table2"
   ]
  },
  {
   "cell_type": "code",
   "execution_count": 26,
   "metadata": {
    "collapsed": false
   },
   "outputs": [
    {
     "name": "stdout",
     "output_type": "stream",
     "text": [
      "#My First Header Line\n",
      "#My Second Header Line\n",
      "\n",
      "[x1,x2,x3]\n",
      "0,1,2\n",
      "3,4,5\n",
      "6,7,8\n",
      "0,2,4\n",
      "6,8,10\n",
      "12,14,16\n",
      "#My First Header Line\n",
      "#My Second Header Line\n",
      "\n",
      "[x1,x2,x3]\n",
      "0,2,4\n",
      "6,8,10\n",
      "12,14,16\n"
     ]
    }
   ],
   "source": [
    "print new_table\n",
    "print new_table2"
   ]
  },
  {
   "cell_type": "code",
   "execution_count": 28,
   "metadata": {
    "collapsed": false
   },
   "outputs": [
    {
     "name": "stdout",
     "output_type": "stream",
     "text": [
      "#My First Header Line\n",
      "#My Second Header Line\n",
      "\n",
      "[x1,x2,x3]\n",
      "0,1,2\n",
      "3,4,5\n",
      "6,7,8\n",
      "0,2,4\n",
      "6,8,10\n",
      "12,14,16\n"
     ]
    }
   ],
   "source": [
    "\n",
    "print new_table"
   ]
  },
  {
   "cell_type": "code",
   "execution_count": 29,
   "metadata": {
    "collapsed": false
   },
   "outputs": [
    {
     "name": "stdout",
     "output_type": "stream",
     "text": [
      "#My First Header Line\n",
      "#My Second Header Line\n",
      "\n",
      "[x1,x2,x3]\n",
      "0,2,4\n",
      "6,8,10\n",
      "12,14,16\n"
     ]
    }
   ],
   "source": [
    "print new_table2.build_string()"
   ]
  },
  {
   "cell_type": "code",
   "execution_count": 30,
   "metadata": {
    "collapsed": false
   },
   "outputs": [
    {
     "data": {
      "text/plain": [
       "6"
      ]
     },
     "execution_count": 30,
     "metadata": {},
     "output_type": "execute_result"
    }
   ],
   "source": [
    "str(new_table2).count(\"\\n\")"
   ]
  },
  {
   "cell_type": "code",
   "execution_count": 31,
   "metadata": {
    "collapsed": true
   },
   "outputs": [],
   "source": [
    "test_string=str(new_table2)"
   ]
  },
  {
   "cell_type": "code",
   "execution_count": 32,
   "metadata": {
    "collapsed": false
   },
   "outputs": [
    {
     "data": {
      "text/plain": [
       "'#My First Header Line\\n#My Second Header Line\\n\\n[x1,x2,x3]\\n0,2,4\\n6,8,10\\n12,14,16'"
      ]
     },
     "execution_count": 32,
     "metadata": {},
     "output_type": "execute_result"
    }
   ],
   "source": [
    "test_string"
   ]
  },
  {
   "cell_type": "code",
   "execution_count": 33,
   "metadata": {
    "collapsed": false
   },
   "outputs": [],
   "source": [
    "test_list=test_string.split('\\n')"
   ]
  },
  {
   "cell_type": "code",
   "execution_count": 34,
   "metadata": {
    "collapsed": false
   },
   "outputs": [
    {
     "data": {
      "text/plain": [
       "['#My First Header Line',\n",
       " '#My Second Header Line',\n",
       " '',\n",
       " '[x1,x2,x3]',\n",
       " '0,2,4',\n",
       " '6,8,10',\n",
       " '12,14,16']"
      ]
     },
     "execution_count": 34,
     "metadata": {},
     "output_type": "execute_result"
    }
   ],
   "source": [
    "test_list"
   ]
  },
  {
   "cell_type": "code",
   "execution_count": 35,
   "metadata": {
    "collapsed": false
   },
   "outputs": [
    {
     "name": "stdout",
     "output_type": "stream",
     "text": [
      "#My First Header Line\n",
      "#My Second Header Line\n",
      "\n",
      "[x1,x2,x3]\n",
      "0,1,2\n",
      "3,4,5\n",
      "6,7,8\n",
      "0,2,4\n",
      "6,8,10\n",
      "12,14,16\n"
     ]
    }
   ],
   "source": [
    "print new_table"
   ]
  },
  {
   "cell_type": "code",
   "execution_count": 37,
   "metadata": {
    "collapsed": false
   },
   "outputs": [
    {
     "name": "stdout",
     "output_type": "stream",
     "text": [
      "#My(*Hello, This  is an inline comment*) First Header Line\n",
      "#My Second Header Line\n",
      "\n",
      "[x1,x2,x3]\n",
      "0,1,2\n",
      "3,4,5\n",
      "6,7,8\n",
      "0,2,4\n",
      "6,8,10\n",
      "12,14,16\n"
     ]
    }
   ],
   "source": [
    "new_table.options['inline_comment_begin']='(*'\n",
    "new_table.options['inline_comment_end']='*)'\n",
    "new_table.inline_comments=[[\"Hello, This  is an inline comment\",0,3]]\n",
    "print new_table"
   ]
  },
  {
   "cell_type": "code",
   "execution_count": 38,
   "metadata": {
    "collapsed": true
   },
   "outputs": [],
   "source": [
    "import random"
   ]
  },
  {
   "cell_type": "code",
   "execution_count": 73,
   "metadata": {
    "collapsed": false
   },
   "outputs": [
    {
     "name": "stdout",
     "output_type": "stream",
     "text": [
      "[7, 4, 2, 1, 6, 1, 0, 4, 4, 6, 3, 3, 5, 6, 2, 1, 8, 5, 7, 1]\n"
     ]
    }
   ],
   "source": [
    "data_delimiters=[\",\",\".\",\":\",\";\",\"-\",\" \",\"\\t\",\"::\",\"~\",\" | \"]\n",
    "begin_end_pairs=[[\"<\",\">\"],[\"(*\",\"*)\"],[\"[\",\"]\"],[\"/*\",\"*/\"],[\"(\",\")\"],[\"<\",\"/>\"],[\"#\",\"\"]]\n",
    "random_int=random.randint(0,len(data_delimiters)-1)\n",
    "random_list=[random.randint(0,len(data_delimiters)-1) for i in range(20)]\n",
    "print random_list"
   ]
  },
  {
   "cell_type": "code",
   "execution_count": 74,
   "metadata": {
    "collapsed": false
   },
   "outputs": [],
   "source": [
    "random_delimiter_list_1=[data_delimiters[random.randint(0,len(data_delimiters)-1)] for i in range(20)]\n",
    "random_delimiter_list_2=[data_delimiters[random.randint(0,len(data_delimiters)-1)] for i in range(20)]\n",
    "random_pairs_1=[begin_end_pairs[random.randint(0,6)] for i in range(20)]\n",
    "random_pairs_2=[begin_end_pairs[random.randint(0,6)] for i in range(20)]"
   ]
  },
  {
   "cell_type": "code",
   "execution_count": 70,
   "metadata": {
    "collapsed": false
   },
   "outputs": [
    {
     "name": "stdout",
     "output_type": "stream",
     "text": [
      "[['<', '>'], ['(*', '*)'], ['[', ']'], ['/*', '*/'], ['(', ')'], ['<', '/>'], ['#', '\\n']]\n"
     ]
    }
   ],
   "source": [
    "print begin_end_pairs\n",
    "new_table.inline_comments=[[\"Hello, This  is an inline comment\",0,-1]]"
   ]
  },
  {
   "cell_type": "code",
   "execution_count": 75,
   "metadata": {
    "collapsed": false
   },
   "outputs": [
    {
     "name": "stdout",
     "output_type": "stream",
     "text": [
      "\n",
      "#My First Header Line(*Hello, This  is an inline comment*)\n",
      "#My Second Header Line\n",
      "\n",
      "<x1 x2 x3>\n",
      "0~1~2\n",
      "3~4~5\n",
      "6~7~8\n",
      "0~2~4\n",
      "6~8~10\n",
      "12~14~16\n",
      "\n",
      "\n",
      "(My First Header Line)(*Hello, This  is an inline comment*)\n",
      "(My Second Header Line)\n",
      "\n",
      "(*x1:x2:x3*)\n",
      "0~1~2\n",
      "3~4~5\n",
      "6~7~8\n",
      "0~2~4\n",
      "6~8~10\n",
      "12~14~16\n",
      "\n",
      "\n",
      "(My First Header Line)(*Hello, This  is an inline comment*)\n",
      "(My Second Header Line)\n",
      "\n",
      "<x1,x2,x3/>\n",
      "0 1 2\n",
      "3 4 5\n",
      "6 7 8\n",
      "0 2 4\n",
      "6 8 10\n",
      "12 14 16\n",
      "\n",
      "\n",
      "(*My First Header Line*)(*Hello, This  is an inline comment*)\n",
      "(*My Second Header Line*)\n",
      "\n",
      "<x1-x2-x3/>\n",
      "0-1-2\n",
      "3-4-5\n",
      "6-7-8\n",
      "0-2-4\n",
      "6-8-10\n",
      "12-14-16\n",
      "\n",
      "\n",
      "<My First Header Line>(*Hello, This  is an inline comment*)\n",
      "<My Second Header Line>\n",
      "\n",
      "<x1 x2 x3>\n",
      "0,1,2\n",
      "3,4,5\n",
      "6,7,8\n",
      "0,2,4\n",
      "6,8,10\n",
      "12,14,16\n",
      "\n",
      "\n",
      "#My First Header Line(*Hello, This  is an inline comment*)\n",
      "#My Second Header Line\n",
      "\n",
      "[x1.x2.x3]\n",
      "0,1,2\n",
      "3,4,5\n",
      "6,7,8\n",
      "0,2,4\n",
      "6,8,10\n",
      "12,14,16\n",
      "\n",
      "\n",
      "(*My First Header Line*)(*Hello, This  is an inline comment*)\n",
      "(*My Second Header Line*)\n",
      "\n",
      "(*x1~x2~x3*)\n",
      "0~1~2\n",
      "3~4~5\n",
      "6~7~8\n",
      "0~2~4\n",
      "6~8~10\n",
      "12~14~16\n",
      "\n",
      "\n",
      "<My First Header Line/>(*Hello, This  is an inline comment*)\n",
      "<My Second Header Line/>\n",
      "\n",
      "<x1\tx2\tx3/>\n",
      "0:1:2\n",
      "3:4:5\n",
      "6:7:8\n",
      "0:2:4\n",
      "6:8:10\n",
      "12:14:16\n",
      "\n",
      "\n",
      "#My First Header Line(*Hello, This  is an inline comment*)\n",
      "#My Second Header Line\n",
      "\n",
      "#x1:x2:x3\n",
      "0.1.2\n",
      "3.4.5\n",
      "6.7.8\n",
      "0.2.4\n",
      "6.8.10\n",
      "12.14.16\n",
      "\n",
      "\n",
      "(*My First Header Line*)(*Hello, This  is an inline comment*)\n",
      "(*My Second Header Line*)\n",
      "\n",
      "(*x1~x2~x3*)\n",
      "0-1-2\n",
      "3-4-5\n",
      "6-7-8\n",
      "0-2-4\n",
      "6-8-10\n",
      "12-14-16\n",
      "\n",
      "\n",
      "<My First Header Line/>(*Hello, This  is an inline comment*)\n",
      "<My Second Header Line/>\n",
      "\n",
      "<x1,x2,x3>\n",
      "0::1::2\n",
      "3::4::5\n",
      "6::7::8\n",
      "0::2::4\n",
      "6::8::10\n",
      "12::14::16\n",
      "\n",
      "\n",
      "(My First Header Line)(*Hello, This  is an inline comment*)\n",
      "(My Second Header Line)\n",
      "\n",
      "<x1 | x2 | x3/>\n",
      "0::1::2\n",
      "3::4::5\n",
      "6::7::8\n",
      "0::2::4\n",
      "6::8::10\n",
      "12::14::16\n",
      "\n",
      "\n",
      "#My First Header Line(*Hello, This  is an inline comment*)\n",
      "#My Second Header Line\n",
      "\n",
      "(*x1,x2,x3*)\n",
      "0 | 1 | 2\n",
      "3 | 4 | 5\n",
      "6 | 7 | 8\n",
      "0 | 2 | 4\n",
      "6 | 8 | 10\n",
      "12 | 14 | 16\n",
      "\n",
      "\n",
      "/*My First Header Line*/(*Hello, This  is an inline comment*)\n",
      "/*My Second Header Line*/\n",
      "\n",
      "[x1,x2,x3]\n",
      "0~1~2\n",
      "3~4~5\n",
      "6~7~8\n",
      "0~2~4\n",
      "6~8~10\n",
      "12~14~16\n",
      "\n",
      "\n",
      "#My First Header Line(*Hello, This  is an inline comment*)\n",
      "#My Second Header Line\n",
      "\n",
      "#x1 | x2 | x3\n",
      "0,1,2\n",
      "3,4,5\n",
      "6,7,8\n",
      "0,2,4\n",
      "6,8,10\n",
      "12,14,16\n",
      "\n",
      "\n",
      "/*My First Header Line*/(*Hello, This  is an inline comment*)\n",
      "/*My Second Header Line*/\n",
      "\n",
      "<x1:x2:x3>\n",
      "0\t1\t2\n",
      "3\t4\t5\n",
      "6\t7\t8\n",
      "0\t2\t4\n",
      "6\t8\t10\n",
      "12\t14\t16\n",
      "\n",
      "\n",
      "/*My First Header Line*/(*Hello, This  is an inline comment*)\n",
      "/*My Second Header Line*/\n",
      "\n",
      "(*x1.x2.x3*)\n",
      "0\t1\t2\n",
      "3\t4\t5\n",
      "6\t7\t8\n",
      "0\t2\t4\n",
      "6\t8\t10\n",
      "12\t14\t16\n",
      "\n",
      "\n",
      "[My First Header Line](*Hello, This  is an inline comment*)\n",
      "[My Second Header Line]\n",
      "\n",
      "[x1:x2:x3]\n",
      "0.1.2\n",
      "3.4.5\n",
      "6.7.8\n",
      "0.2.4\n",
      "6.8.10\n",
      "12.14.16\n",
      "\n",
      "\n",
      "<My First Header Line/>(*Hello, This  is an inline comment*)\n",
      "<My Second Header Line/>\n",
      "\n",
      "<x1 | x2 | x3/>\n",
      "0~1~2\n",
      "3~4~5\n",
      "6~7~8\n",
      "0~2~4\n",
      "6~8~10\n",
      "12~14~16\n",
      "\n",
      "\n",
      "<My First Header Line>(*Hello, This  is an inline comment*)\n",
      "<My Second Header Line>\n",
      "\n",
      "#x1 | x2 | x3\n",
      "0~1~2\n",
      "3~4~5\n",
      "6~7~8\n",
      "0~2~4\n",
      "6~8~10\n",
      "12~14~16\n",
      "\n"
     ]
    }
   ],
   "source": [
    "for index in range(len(random_delimiter_list_1)):\n",
    "    new_table.options[\"data_delimiter\"]=random_delimiter_list_1[index]\n",
    "    new_table.options[\"column_names_delimiter\"]=random_delimiter_list_2[index]\n",
    "    new_table.options[\"comment_begin\"]=random_pairs_1[index][0]\n",
    "    new_table.options[\"comment_end\"]=random_pairs_1[index][1]+\"\\n\"\n",
    "    new_table.options[\"column_names_begin_token\"]=random_pairs_2[index][0]\n",
    "    new_table.options[\"column_names_end_token\"]=random_pairs_2[index][1]    \n",
    "    print \"\\n{0}\\n\".format(new_table)\n"
   ]
  },
  {
   "cell_type": "code",
   "execution_count": null,
   "metadata": {
    "collapsed": true
   },
   "outputs": [],
   "source": []
  }
 ],
 "metadata": {
  "kernelspec": {
   "display_name": "Python 2",
   "language": "python",
   "name": "python2"
  },
  "language_info": {
   "codemirror_mode": {
    "name": "ipython",
    "version": 2
   },
   "file_extension": ".py",
   "mimetype": "text/x-python",
   "name": "python",
   "nbconvert_exporter": "python",
   "pygments_lexer": "ipython2",
   "version": "2.7.12"
  }
 },
 "nbformat": 4,
 "nbformat_minor": 0
}
