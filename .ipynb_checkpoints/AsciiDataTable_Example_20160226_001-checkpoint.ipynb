{
 "cells": [
  {
   "cell_type": "code",
   "execution_count": 4,
   "metadata": {
    "collapsed": false
   },
   "outputs": [],
   "source": [
    "import pyMeasure.Code.DataHandlers.GeneralModels as GeneralModels"
   ]
  },
  {
   "cell_type": "code",
   "execution_count": 5,
   "metadata": {
    "collapsed": true
   },
   "outputs": [],
   "source": [
    "#Lets make a table and put it into the AsciiDataTable \n",
    "new_table=GeneralModels.AsciiDataTable()"
   ]
  },
  {
   "cell_type": "code",
   "execution_count": 6,
   "metadata": {
    "collapsed": false
   },
   "outputs": [
    {
     "name": "stdout",
     "output_type": "stream",
     "text": [
      "[[0, 1, 2], [3, 4, 5], [6, 7, 8]]\n"
     ]
    }
   ],
   "source": [
    "table_data=[[i+j*3 for i in range(3)]for j in range(3)]\n",
    "print table_data"
   ]
  },
  {
   "cell_type": "code",
   "execution_count": 7,
   "metadata": {
    "collapsed": false
   },
   "outputs": [],
   "source": [
    "#input the data directly\n",
    "new_table.data=table_data"
   ]
  },
  {
   "cell_type": "code",
   "execution_count": 8,
   "metadata": {
    "collapsed": true
   },
   "outputs": [],
   "source": [
    "new_table.column_names=['x1','x2','x3']"
   ]
  },
  {
   "cell_type": "code",
   "execution_count": 9,
   "metadata": {
    "collapsed": false
   },
   "outputs": [
    {
     "name": "stdout",
     "output_type": "stream",
     "text": [
      "x1,x2,x3\n",
      "0,1,2\n",
      "3,4,5\n",
      "6,7,8\n",
      "\n",
      "\n"
     ]
    }
   ],
   "source": [
    "print new_table.build_string()"
   ]
  },
  {
   "cell_type": "code",
   "execution_count": 10,
   "metadata": {
    "collapsed": true
   },
   "outputs": [],
   "source": [
    "new_table.options['column_names_begin_token']='#'"
   ]
  },
  {
   "cell_type": "code",
   "execution_count": 11,
   "metadata": {
    "collapsed": false
   },
   "outputs": [
    {
     "name": "stdout",
     "output_type": "stream",
     "text": [
      "#x1,x2,x3\n",
      "0,1,2\n",
      "3,4,5\n",
      "6,7,8\n",
      "\n",
      "\n"
     ]
    }
   ],
   "source": [
    "print new_table.build_string()"
   ]
  },
  {
   "cell_type": "code",
   "execution_count": 12,
   "metadata": {
    "collapsed": true
   },
   "outputs": [],
   "source": [
    "new_table.options['column_names_begin_token']='['\n",
    "new_table.options['column_names_end_token']=']'"
   ]
  },
  {
   "cell_type": "code",
   "execution_count": 13,
   "metadata": {
    "collapsed": false
   },
   "outputs": [
    {
     "name": "stdout",
     "output_type": "stream",
     "text": [
      "[x1,x2,x3]\n",
      "0,1,2\n",
      "3,4,5\n",
      "6,7,8\n",
      "\n",
      "\n"
     ]
    }
   ],
   "source": [
    "print new_table.build_string()"
   ]
  },
  {
   "cell_type": "code",
   "execution_count": 14,
   "metadata": {
    "collapsed": true
   },
   "outputs": [],
   "source": [
    "new_table.options['data_begin_token']='*'*80+'\\n'\n",
    "new_table.options['data_end_token']='*'*80"
   ]
  },
  {
   "cell_type": "code",
   "execution_count": 14,
   "metadata": {
    "collapsed": false
   },
   "outputs": [
    {
     "name": "stdout",
     "output_type": "stream",
     "text": [
      "[x1,x2,x3]\n",
      "********************************************************************************\n",
      "0,1,2\n",
      "3,4,5\n",
      "6,7,8\n",
      "********************************************************************************\n",
      "\n"
     ]
    }
   ],
   "source": [
    "print new_table.build_string()"
   ]
  },
  {
   "cell_type": "code",
   "execution_count": 15,
   "metadata": {
    "collapsed": true
   },
   "outputs": [],
   "source": [
    "new_table.header=['My First Header Line','My Second Header Line']"
   ]
  },
  {
   "cell_type": "code",
   "execution_count": 16,
   "metadata": {
    "collapsed": false
   },
   "outputs": [
    {
     "name": "stdout",
     "output_type": "stream",
     "text": [
      "My First Header LineMy Second Header Line\n",
      "[x1,x2,x3]\n",
      "********************************************************************************\n",
      "0,1,2\n",
      "3,4,5\n",
      "6,7,8\n",
      "********************************************************************************\n",
      "\n"
     ]
    }
   ],
   "source": [
    "print new_table"
   ]
  },
  {
   "cell_type": "code",
   "execution_count": 17,
   "metadata": {
    "collapsed": true
   },
   "outputs": [],
   "source": [
    "new_table.options['comment_begin']='#'\n",
    "new_table.options['comment_end']='\\n'"
   ]
  },
  {
   "cell_type": "code",
   "execution_count": 18,
   "metadata": {
    "collapsed": false
   },
   "outputs": [
    {
     "name": "stdout",
     "output_type": "stream",
     "text": [
      "#My First Header Line\n",
      "#My Second Header Line\n",
      "\n",
      "[x1,x2,x3]\n",
      "********************************************************************************\n",
      "0,1,2\n",
      "3,4,5\n",
      "6,7,8\n",
      "********************************************************************************\n",
      "\n"
     ]
    }
   ],
   "source": [
    "print new_table"
   ]
  },
  {
   "cell_type": "code",
   "execution_count": 19,
   "metadata": {
    "collapsed": false
   },
   "outputs": [
    {
     "name": "stdout",
     "output_type": "stream",
     "text": [
      "data_begin_line = None\n",
      "column_names_begin_line = None\n",
      "header = None\n",
      "general_descriptor = Table\n",
      "header_end_token = None\n",
      "header_end_line = None\n",
      "column_names_end_line = None\n",
      "data_table_element_separator = \n",
      "\n",
      "header_begin_token = None\n",
      "data = None\n",
      "inline_comment_begin = None\n",
      "inline_comment_end = None\n",
      "data_begin_token = ********************************************************************************\n",
      "\n",
      "comment_end = \n",
      "\n",
      "header_begin_line = None\n",
      "column_names_end_token = ]\n",
      "block_comment_begin = None\n",
      "specific_descriptor = Data\n",
      "empty_value = None\n",
      "column_names_begin_token = [\n",
      "footer_end_token = None\n",
      "footer_begin_token = None\n",
      "column_names_delimiter = None\n",
      "escape_character = None\n",
      "column_types = None\n",
      "comment_begin = #\n",
      "treat_header_as_comment = None\n",
      "column_names = None\n",
      "treat_footer_as_comment = None\n",
      "extension = txt\n",
      "footer = None\n",
      "data_end_line = None\n",
      "block_comment_end = None\n",
      "footer_end_line = None\n",
      "data_delimiter = None\n",
      "footer_begin_line = None\n",
      "data_end_token = ********************************************************************************\n",
      "directory = None\n",
      "row_formatter_string = None\n",
      "metadata_delimiter = None\n"
     ]
    }
   ],
   "source": [
    "new_table.get_options()"
   ]
  },
  {
   "cell_type": "code",
   "execution_count": 21,
   "metadata": {
    "collapsed": false
   },
   "outputs": [
    {
     "data": {
      "text/plain": [
       "'Data_Table_20160226_001.txt'"
      ]
     },
     "execution_count": 21,
     "metadata": {},
     "output_type": "execute_result"
    }
   ],
   "source": [
    "new_table.path"
   ]
  },
  {
   "cell_type": "code",
   "execution_count": 22,
   "metadata": {
    "collapsed": true
   },
   "outputs": [],
   "source": [
    "new_table.options['data_begin_token']=None\n",
    "new_table.options['data_end_token']=None"
   ]
  },
  {
   "cell_type": "code",
   "execution_count": 23,
   "metadata": {
    "collapsed": false
   },
   "outputs": [
    {
     "name": "stdout",
     "output_type": "stream",
     "text": [
      "#My First Header Line\n",
      "#My Second Header Line\n",
      "\n",
      "[x1,x2,x3]\n",
      "0,1,2\n",
      "3,4,5\n",
      "6,7,8\n",
      "\n",
      "\n"
     ]
    }
   ],
   "source": [
    "print new_table"
   ]
  },
  {
   "cell_type": "code",
   "execution_count": 24,
   "metadata": {
    "collapsed": true
   },
   "outputs": [],
   "source": [
    "new_table2=GeneralModels.AsciiDataTable()\n",
    "new_table2.header=new_table.header\n",
    "new_table2.column_names=new_table.column_names\n",
    "new_table2.options=new_table.options"
   ]
  },
  {
   "cell_type": "code",
   "execution_count": 25,
   "metadata": {
    "collapsed": false
   },
   "outputs": [
    {
     "name": "stdout",
     "output_type": "stream",
     "text": [
      "#My First Header Line\n",
      "#My Second Header Line\n",
      "\n",
      "[x1,x2,x3]\n",
      "\n"
     ]
    }
   ],
   "source": [
    "print new_table2"
   ]
  },
  {
   "cell_type": "code",
   "execution_count": 27,
   "metadata": {
    "collapsed": false
   },
   "outputs": [],
   "source": [
    "new_table2.data=[[2*(i+j*3) for i in range(3)]for j in range(3)]"
   ]
  },
  {
   "cell_type": "code",
   "execution_count": 28,
   "metadata": {
    "collapsed": false
   },
   "outputs": [
    {
     "name": "stdout",
     "output_type": "stream",
     "text": [
      "#My First Header Line\n",
      "#My Second Header Line\n",
      "\n",
      "[x1,x2,x3]\n",
      "0,2,4\n",
      "6,8,10\n",
      "12,14,16\n",
      "\n",
      "\n"
     ]
    }
   ],
   "source": [
    "print new_table2"
   ]
  },
  {
   "cell_type": "code",
   "execution_count": 29,
   "metadata": {
    "collapsed": true
   },
   "outputs": [],
   "source": [
    "table3=new_table+new_table2"
   ]
  },
  {
   "cell_type": "code",
   "execution_count": 32,
   "metadata": {
    "collapsed": false
   },
   "outputs": [
    {
     "name": "stdout",
     "output_type": "stream",
     "text": [
      "#My First Header Line\n",
      "#My Second Header Line\n",
      "\n",
      "[x1,x2,x3]\n",
      "0,1,2\n",
      "3,4,5\n",
      "6,7,8\n",
      "0,2,4\n",
      "6,8,10\n",
      "12,14,16\n",
      "\n",
      "\n"
     ]
    }
   ],
   "source": [
    "print new_table"
   ]
  },
  {
   "cell_type": "code",
   "execution_count": null,
   "metadata": {
    "collapsed": false
   },
   "outputs": [],
   "source": [
    "sum([new_table,table3])"
   ]
  },
  {
   "cell_type": "code",
   "execution_count": null,
   "metadata": {
    "collapsed": true
   },
   "outputs": [],
   "source": [
    "print new_table"
   ]
  },
  {
   "cell_type": "code",
   "execution_count": null,
   "metadata": {
    "collapsed": true
   },
   "outputs": [],
   "source": []
  }
 ],
 "metadata": {
  "kernelspec": {
   "display_name": "Python 2",
   "language": "python",
   "name": "python2"
  },
  "language_info": {
   "codemirror_mode": {
    "name": "ipython",
    "version": 2
   },
   "file_extension": ".py",
   "mimetype": "text/x-python",
   "name": "python",
   "nbconvert_exporter": "python",
   "pygments_lexer": "ipython2",
   "version": "2.7.11"
  }
 },
 "nbformat": 4,
 "nbformat_minor": 0
}
