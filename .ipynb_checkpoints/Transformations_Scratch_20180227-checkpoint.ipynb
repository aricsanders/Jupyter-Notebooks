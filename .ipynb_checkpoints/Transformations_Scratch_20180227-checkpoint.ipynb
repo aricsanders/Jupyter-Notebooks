{
 "cells": [
  {
   "cell_type": "code",
   "execution_count": 1,
   "metadata": {
    "collapsed": false
   },
   "outputs": [
    {
     "name": "stdout",
     "output_type": "stream",
     "text": [
      "Importing pyMez, this should take roughly 30 seconds\n",
      "Importing Code.DataHandlers.GeneralModels\n",
      "It took 4.479 s to import Code.DataHandlers.GeneralModels\n",
      "Importing Code.DataHandlers.HTMLModels\n",
      "It took 0.879 s to import Code.DataHandlers.HTMLModels\n",
      "Importing Code.DataHandlers.NISTModels\n",
      "It took 12.467 s to import Code.DataHandlers.NISTModels\n",
      "Importing Code.DataHandlers.TouchstoneModels\n",
      "It took 0.012 s to import Code.DataHandlers.TouchstoneModels\n",
      "Importing Code.DataHandlers.XMLModels\n",
      "It took 0.356 s to import Code.DataHandlers.XMLModels\n",
      "Importing Code.DataHandlers.ZipModels\n",
      "It took 0.055 s to import Code.DataHandlers.ZipModels\n",
      "Importing Code.InstrumentControl.Experiments\n",
      "It took 1.928 s to import Code.InstrumentControl.Experiments\n",
      "Importing Code.InstrumentControl.Instruments\n",
      "It took 0.022 s to import Code.InstrumentControl.Instruments\n",
      "Importing Code.Utils.Names\n",
      "It took 0.013 s to import Code.Utils.Names\n",
      "It took 20.211 s to import all of the active modules\n"
     ]
    }
   ],
   "source": [
    "from pyMez import *"
   ]
  },
  {
   "cell_type": "code",
   "execution_count": 2,
   "metadata": {
    "collapsed": true
   },
   "outputs": [],
   "source": [
    "w2p_location=r\"C:\\Share\\WR15_Kits_VDI_20180223\\True_Thru_WR15_Wave_Parameters_20180223_001.w2p\""
   ]
  },
  {
   "cell_type": "code",
   "execution_count": 7,
   "metadata": {
    "collapsed": true
   },
   "outputs": [],
   "source": [
    "schema=read_schema(change_extension(w2p_location,new_extension=\"schema\"))\n",
    "schema[\"column_types\"]=['float' for i in range(17)]\n",
    "w2p=AsciiDataTable(w2p_location,**schema)"
   ]
  },
  {
   "cell_type": "code",
   "execution_count": 10,
   "metadata": {
    "collapsed": false
   },
   "outputs": [
    {
     "data": {
      "text/plain": [
       "['Frequency',\n",
       " 'reA1_D1',\n",
       " 'imA1_D1',\n",
       " 'reB1_D1',\n",
       " 'imB1_D1',\n",
       " 'reA2_D1',\n",
       " 'imA2_D1',\n",
       " 'reB2_D1',\n",
       " 'imB2_D1',\n",
       " 'reA1_D2',\n",
       " 'imA1_D2',\n",
       " 'reB1_D2',\n",
       " 'imB1_D2',\n",
       " 'reA2_D2',\n",
       " 'imA2_D2',\n",
       " 'reB2_D2',\n",
       " 'imB2_D2']"
      ]
     },
     "execution_count": 10,
     "metadata": {},
     "output_type": "execute_result"
    }
   ],
   "source": [
    "w2p.column_names"
   ]
  },
  {
   "cell_type": "code",
   "execution_count": 19,
   "metadata": {
    "collapsed": true
   },
   "outputs": [],
   "source": [
    "def W2p_to_SwitchTerms(w2p):\n",
    "    \"\"\"Creates a s2p with switch terms in port1 (reverse), port2 (foward) format given a w2p of a thru\"\"\"\n",
    "    reA1_D2_index=w2p.column_names.index(\"reA1_D2\")\n",
    "    imA1_D2_index=w2p.column_names.index(\"imA1_D2\")\n",
    "    reB1_D2_index=w2p.column_names.index(\"reB1_D2\")\n",
    "    imB1_D2_index=w2p.column_names.index(\"imB1_D2\")\n",
    "    port_1=[complex(row[reA1_D2_index],row[imA1_D2_index])/complex(row[reB1_D2_index],row[imB1_D2_index]) for row in w2p.data]\n",
    "    reA2_D1_index=w2p.column_names.index(\"reA2_D1\")\n",
    "    imA2_D1_index=w2p.column_names.index(\"imA2_D1\")\n",
    "    reB2_D1_index=w2p.column_names.index(\"reB2_D1\")\n",
    "    imB2_D1_index=w2p.column_names.index(\"imB2_D1\")\n",
    "    port_2=[complex(row[reA2_D1_index],row[imA2_D1_index])/complex(row[reB2_D1_index],row[imB2_D1_index]) for row in w2p.data]\n",
    "    complex_sparameters=[]\n",
    "    for row_index,row in enumerate(w2p.data[:]):\n",
    "        new_row=[row[0],port_1[row_index],port_2[row_index]]+[complex(0,0),complex(0,0)]\n",
    "        complex_sparameters.append(new_row)\n",
    "    s2p_out=S2PV1(None,sparameter_complex=complex_sparameters)\n",
    "    return s2p_out\n"
   ]
  },
  {
   "cell_type": "code",
   "execution_count": null,
   "metadata": {
    "collapsed": true
   },
   "outputs": [],
   "source": [
    "def W2p_to_S2p(w2p):\n",
    "    \"\"\"Creates a s2p with given a w2p assumes data columns are [Frequency,reA1_D1,imA1_D1,reB1_D1,imB1_D1...imB2_D2]\"\"\"\n",
    "    \n",
    "    complex_sparameters=[]\n",
    "    for row_index,row in enumerate(w2p.data[:]):\n",
    "        S11=complex(row[1],row[2])/complex(row[3],row[4])\n",
    "        S21=complex(row[1],row[2])/complex(row[3],row[4])\n",
    "        new_row=[row[0],,]\n",
    "        complex_sparameters.append(new_row)\n",
    "    s2p_out=S2PV1(None,sparameter_complex=complex_sparameters)\n",
    "    return s2p_out"
   ]
  },
  {
   "cell_type": "code",
   "execution_count": 20,
   "metadata": {
    "collapsed": false
   },
   "outputs": [],
   "source": [
    "switch=W2p_to_SwitchTerms(w2p)"
   ]
  },
  {
   "cell_type": "code",
   "execution_count": 21,
   "metadata": {
    "collapsed": false
   },
   "outputs": [
    {
     "data": {
      "image/png": "[encoded data removed]",
      "text/plain": [
       "<matplotlib.figure.Figure at 0xb8600f0>"
      ]
     },
     "metadata": {},
     "output_type": "display_data"
    }
   ],
   "source": [
    "switch.show();"
   ]
  },
  {
   "cell_type": "code",
   "execution_count": 25,
   "metadata": {
    "collapsed": false
   },
   "outputs": [],
   "source": [
    "switch.path=r\"C:\\Share\\WR15_Kits_VDI_20180223\\GTrue_Thru_WR15_Wave_Parameters_20180223_001.s2p\""
   ]
  },
  {
   "cell_type": "code",
   "execution_count": 26,
   "metadata": {
    "collapsed": true
   },
   "outputs": [],
   "source": [
    "switch.save()"
   ]
  },
  {
   "cell_type": "code",
   "execution_count": null,
   "metadata": {
    "collapsed": true
   },
   "outputs": [],
   "source": []
  }
 ],
 "metadata": {
  "kernelspec": {
   "display_name": "Python 2",
   "language": "python",
   "name": "python2"
  },
  "language_info": {
   "codemirror_mode": {
    "name": "ipython",
    "version": 2
   },
   "file_extension": ".py",
   "mimetype": "text/x-python",
   "name": "python",
   "nbconvert_exporter": "python",
   "pygments_lexer": "ipython2",
   "version": "2.7.13"
  }
 },
 "nbformat": 4,
 "nbformat_minor": 2
}
