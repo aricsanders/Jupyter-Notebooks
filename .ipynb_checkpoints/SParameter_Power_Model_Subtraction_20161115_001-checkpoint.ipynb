{
 "cells": [
  {
   "cell_type": "markdown",
   "metadata": {},
   "source": [
    "# Function for subtracting 2 models that have frequency, Sparameter or frequency,power data"
   ]
  },
  {
   "cell_type": "code",
   "execution_count": 2,
   "metadata": {
    "collapsed": false
   },
   "outputs": [],
   "source": [
    "import pandas as pd\n",
    "import numpy as np\n",
    "import os\n",
    "from pyMeasure import *\n",
    "import re\n",
    "from scipy.stats.mstats import gmean"
   ]
  },
  {
   "cell_type": "code",
   "execution_count": 5,
   "metadata": {
    "collapsed": true
   },
   "outputs": [],
   "source": [
    "def frequency_model_collapse_multiple_measurements(model,**options):\n",
    "    \"\"\"Returns a model with a single set of frequencies. Default is to average values together\n",
    "    but geometric mean and median are options. Geometric means of odd number of negative values fails\"\"\"\n",
    "    if type(model) in [pd.DataFrame]:\n",
    "        model=DataFrame_to_AsciiDataTable(model)\n",
    "    defaults={\"method\":\"mean\"}\n",
    "    # load other options from model\n",
    "    for option,value in model.options.iteritems():\n",
    "        if not re.search('begin_line|end_line',option):\n",
    "            defaults[option]=value\n",
    "    defaults[\"header\"]=model.header\n",
    "    defaults[\"column_names\"]=model.column_names\n",
    "    defaults[\"footer\"]=model.footer\n",
    "    defaults[\"metadata\"]=model.metadata\n",
    "\n",
    "    collapse_options={}\n",
    "    for key,value in defaults.iteritems():\n",
    "        collapse_options[key]=value\n",
    "    for key,value in options.iteritems():\n",
    "        collapse_options[key]=value    \n",
    "    unique_frequency_list=list(set(model[\"Frequency\"]))\n",
    "    frequency_selector=model.column_names.index(\"Frequency\")\n",
    "    out_data=[]\n",
    "    for index, frequency in enumerate(unique_frequency_list):\n",
    "        data_row=filter(lambda x: x[frequency_selector]==frequency,model.data)\n",
    "        if re.search('mean|av',collapse_options[\"method\"],re.IGNORECASE):\n",
    "            new_row=np.mean(np.array(data_row),axis=0).tolist()\n",
    "        elif re.search('median',collapse_options[\"method\"],re.IGNORECASE):\n",
    "            new_row=np.median(np.array(data_row),axis=0).tolist()\n",
    "        elif re.search('geometric',collapse_options[\"method\"],re.IGNORECASE):\n",
    "            new_row=gmean(np.array(data_row),axis=0).tolist()\n",
    "        elif re.search('st',collapse_options[\"method\"],re.IGNORECASE):\n",
    "            new_row=np.std(np.array(data_row),axis=0).tolist()\n",
    "        \n",
    "        out_data.append(new_row)\n",
    "\n",
    "    collapse_options[\"data\"]=out_data\n",
    "\n",
    "    if collapse_options[\"specific_descriptor\"]:\n",
    "        collapse_options[\"specific_descriptor\"]=collapse_options[\"method\"]+\"_\"+\\\n",
    "        collapse_options[\"specific_descriptor\"]\n",
    "        \n",
    "    \n",
    "    resulting_model=AsciiDataTable(None,**collapse_options)\n",
    "    return resulting_model\n",
    "    \n",
    "\n",
    "\n",
    "def frequency_model_difference(model_1,model_2,**options):\n",
    "    \"\"\"Takes the difference of two models that both have frequency and a similar set of columns. Returns an object that is \n",
    "    a list of [[frequency,column_1,..column_n],...] where columns are the same in the models. If  a particular subset of \n",
    "    columns is desired use columns=[\"Frequency\",\"magS11] models can be any subclass of AsciiDataTable, SNP, or \n",
    "    pandas.DataFrame, if a column is a non-numeric type it drops it. The frequency list should be unique \n",
    "    (no multiple frequencies) for at least one model\"\"\"\n",
    "    # Set up defaults and pass options\n",
    "    defaults={\"columns\":\"all\",\"interpolate\":False,\"average\":True}\n",
    "    difference_options={}\n",
    "    for key,value in defaults.iteritems():\n",
    "        difference_options[key]=value\n",
    "    for key,value in options.iteritems():\n",
    "        difference_options[key]=value\n",
    "        \n",
    "    # first check type, if it is a panadas data frame a little conversion is needed, else is for all other models\n",
    "    if type(model_1) in [pd.DataFrame]:\n",
    "        model_1=DataFrame_to_AsciiDataTable(model_1)\n",
    "    if type(model_2) in [pd.DataFrame]:\n",
    "        model_2=DataFrame_to_AsciiDataTable(model_2)\n",
    "    # now start with a set of frequencies (unique values from both)\n",
    "    frequency_set_1=set(model_1[\"Frequency\"])\n",
    "    frequency_set_2=set(model_2[\"Frequency\"])\n",
    "    model_2_frequency_selector=model_2.column_names.index('Frequency')\n",
    "    column_names_set_1=set(model_1.column_names)\n",
    "    column_names_set_2=set(model_2.column_names)\n",
    "    \n",
    "    if list(frequency_set_1)!=model_1[\"Frequency\"] and list(frequency_set_2)!=model_2[\"Frequency\"]:\n",
    "        raise TypeException(\"The Frequency List of one of the models must be unique \")\n",
    "    # All points must be in the intersection to be used\n",
    "    frequency_intersection=list(frequency_set_1.intersection(frequency_set_2))\n",
    "    column_names_intersection=list(column_names_set_1.intersection(column_names_set_2))\n",
    "    \n",
    "    difference_data=[]\n",
    "    for row_index,frequency in enumerate(model_1[\"Frequency\"]):\n",
    "        new_row=[]\n",
    "        new_column_names=[]\n",
    "        if frequency in frequency_intersection:\n",
    "            model_2_frequency_row=filter(lambda x: x[model_2_frequency_selector]==frequency,model_2.data)\n",
    "            for column_index,column in model_1.column_names:\n",
    "                if column in column_names_intersection and column not in [\"Frequency\"]:\n",
    "                    model_2_column_selector=model_2.column_names.index(column)\n",
    "                    if re.search('int|float',\n",
    "                                 model_1.column_types[column_index],\n",
    "                                 re.IGNORECASE) and re.search('int|float',\n",
    "                                                              model_2.column_types[model_2_column_selector],\n",
    "                                                              re.IGNORECASE):\n",
    "                        \n",
    "                        new_row.append(model_1.data[row_index]-model_2_frequency_row[model_2_column_selector])\n",
    "                        new_column_names.append(column)\n",
    "                    elif difference_options[\"columns\"] in [\"all\"]:\n",
    "                        new_row.append(model_1.data[row_index])\n",
    "                        new_column_names.append(column)\n",
    "                difference_data.append([frequency]+new_row)\n",
    "    difference_options[\"column_names\"]=new_column_names            \n",
    "    result=AsciiDataTable(None,**difference_options)\n",
    "    return result\n",
    "    \n",
    "    \n",
    "    \n",
    "    "
   ]
  },
  {
   "cell_type": "code",
   "execution_count": 1,
   "metadata": {
    "collapsed": true
   },
   "outputs": [],
   "source": [
    "# examples\n",
    "import pandas as pd\n",
    "import os\n",
    "COMBINED_RESULTS_FILE_DIRECTORY=r\"C:\\Users\\sandersa\\Desktop\\Combined_Results_Files\"\n",
    "ONE_PORT_COMBINED_FILE_NAME='One_Port_Combined_Results_File.csv'\n",
    "\n",
    "model_1=pd.read_csv(os.path.join(COMBINED_RESULTS_FILE_DIRECTORY,ONE_PORT_COMBINED_FILE_NAME))\n"
   ]
  },
  {
   "cell_type": "code",
   "execution_count": 10,
   "metadata": {
    "collapsed": false
   },
   "outputs": [
    {
     "data": {
      "text/plain": [
       "True"
      ]
     },
     "execution_count": 10,
     "metadata": {},
     "output_type": "execute_result"
    }
   ],
   "source": [
    "type(model_1) in [pd.DataFrame]"
   ]
  },
  {
   "cell_type": "code",
   "execution_count": 6,
   "metadata": {
    "collapsed": true
   },
   "outputs": [],
   "source": [
    "from types import *"
   ]
  },
  {
   "cell_type": "code",
   "execution_count": 4,
   "metadata": {
    "collapsed": false
   },
   "outputs": [
    {
     "ename": "TypeError",
     "evalue": "ufunc 'add' did not contain a loop with signature matching types dtype('S4') dtype('S4') dtype('S4')",
     "output_type": "error",
     "traceback": [
      "\u001b[1;31m---------------------------------------------------------------------------\u001b[0m",
      "\u001b[1;31mTypeError\u001b[0m                                 Traceback (most recent call last)",
      "\u001b[1;32m<ipython-input-4-2821c258fbaf>\u001b[0m in \u001b[0;36m<module>\u001b[1;34m()\u001b[0m\n\u001b[1;32m----> 1\u001b[1;33m \u001b[0mnp\u001b[0m\u001b[1;33m.\u001b[0m\u001b[0marray\u001b[0m\u001b[1;33m(\u001b[0m\u001b[1;34m\"c101\"\u001b[0m\u001b[1;33m)\u001b[0m\u001b[1;33m+\u001b[0m\u001b[0mnp\u001b[0m\u001b[1;33m.\u001b[0m\u001b[0marray\u001b[0m\u001b[1;33m(\u001b[0m\u001b[1;34m\"c101\"\u001b[0m\u001b[1;33m)\u001b[0m\u001b[1;33m\u001b[0m\u001b[0m\n\u001b[0m",
      "\u001b[1;31mTypeError\u001b[0m: ufunc 'add' did not contain a loop with signature matching types dtype('S4') dtype('S4') dtype('S4')"
     ]
    }
   ],
   "source": [
    "[np.array(\"c101\"),np.array(\"c101\")]"
   ]
  },
  {
   "cell_type": "code",
   "execution_count": 22,
   "metadata": {
    "collapsed": false
   },
   "outputs": [
    {
     "data": {
      "text/plain": [
       "['object', 'float64', 'int64', 'float64', 'float64']"
      ]
     },
     "execution_count": 22,
     "metadata": {},
     "output_type": "execute_result"
    }
   ],
   "source": [
    "map(lambda x:str(x),model_1.dtypes.tolist())"
   ]
  },
  {
   "cell_type": "code",
   "execution_count": 23,
   "metadata": {
    "collapsed": true
   },
   "outputs": [],
   "source": [
    "def pandas_to_ascii_data_table(pandas_data_frame,**options):\n",
    "    \"\"\"Converts a pandas.DataFrame to an AsciiDataTable\"\"\"\n",
    "    # Set up defaults and pass options\n",
    "    defaults={}\n",
    "    conversion_options={}\n",
    "    for key,value in defaults.iteritems():\n",
    "        conversion_options[key]=value\n",
    "    for key,value in options.iteritems():\n",
    "        conversion_options[key]=value\n",
    "        \n",
    "    conversion_options[\"column_names\"]=pandas_data_frame.columns.tolist()\n",
    "    conversion_options[\"data\"]=pandas_data_frame.as_matrix().tolist()\n",
    "    conversion_options[\"column_types\"]=map(lambda x:str(x),pandas_data_frame.dtypes.tolist())\n",
    "    \n",
    "    new_table=AsciiDataTable(None,conversion_options)\n",
    "    return new_table"
   ]
  },
  {
   "cell_type": "code",
   "execution_count": 27,
   "metadata": {
    "collapsed": true
   },
   "outputs": [],
   "source": [
    "def DataFrame_to_AsciiDataTable(pandas_data_frame,**options):\n",
    "    \"\"\"Converts a pandas.DataFrame to an AsciiDataTable\"\"\"\n",
    "    # Set up defaults and pass options\n",
    "    defaults={}\n",
    "    conversion_options={}\n",
    "    for key,value in defaults.iteritems():\n",
    "        conversion_options[key]=value\n",
    "    for key,value in options.iteritems():\n",
    "        conversion_options[key]=value\n",
    "        \n",
    "    conversion_options[\"column_names\"]=pandas_data_frame.columns.tolist()\n",
    "    conversion_options[\"data\"]=pandas_data_frame.as_matrix().tolist()\n",
    "    conversion_options[\"column_types\"]=map(lambda x:str(x),pandas_data_frame.dtypes.tolist())\n",
    "   \n",
    "    new_table=AsciiDataTable(None,**conversion_options)\n",
    "    return new_table"
   ]
  },
  {
   "cell_type": "code",
   "execution_count": 25,
   "metadata": {
    "collapsed": false
   },
   "outputs": [
    {
     "name": "stdout",
     "output_type": "stream",
     "text": [
      "Importing Code.Utils.Names\n",
      "Importing Code.DataHandlers.NISTModels\n",
      "Importing Code.DataHandlers.GeneralModels\n",
      "Importing Code.DataHandlers.TouchstoneModels\n",
      "Importing Code.DataHandlers.XMLModels\n",
      "Importing Code.DataHandlers.RadiCALModels\n",
      "Importing Code.DataHandlers.ZipModels\n",
      "Importing Code.DataHandlers.Translations\n",
      "Importing Code.DataHandlers.StatistiCALModels\n",
      "Importing Code.DataHandlers.MUFModels\n",
      "Importing Code.Analysis.SParameter\n",
      "Importing Code.InstrumentControl.Instruments\n",
      "Importing Code.InstrumentControl.Experiments\n"
     ]
    }
   ],
   "source": [
    "from pyMeasure import *"
   ]
  },
  {
   "cell_type": "code",
   "execution_count": 28,
   "metadata": {
    "collapsed": false
   },
   "outputs": [],
   "source": [
    "test_model=DataFrame_to_AsciiDataTable(model_1)"
   ]
  },
  {
   "cell_type": "code",
   "execution_count": 31,
   "metadata": {
    "collapsed": false
   },
   "outputs": [
    {
     "data": {
      "text/plain": [
       "True"
      ]
     },
     "execution_count": 31,
     "metadata": {},
     "output_type": "execute_result"
    }
   ],
   "source": [
    "test_model==DataFrame_to_AsciiDataTable(AsciiDataTable_to_DataFrame(test_model))"
   ]
  },
  {
   "cell_type": "code",
   "execution_count": 33,
   "metadata": {
    "collapsed": false
   },
   "outputs": [
    {
     "data": {
      "text/plain": [
       "'Data_Table_20161115_001.txt'"
      ]
     },
     "execution_count": 33,
     "metadata": {},
     "output_type": "execute_result"
    }
   ],
   "source": [
    "test_model.path"
   ]
  },
  {
   "cell_type": "code",
   "execution_count": null,
   "metadata": {
    "collapsed": true
   },
   "outputs": [],
   "source": []
  }
 ],
 "metadata": {
  "kernelspec": {
   "display_name": "Python 2",
   "language": "python",
   "name": "python2"
  },
  "language_info": {
   "codemirror_mode": {
    "name": "ipython",
    "version": 2
   },
   "file_extension": ".py",
   "mimetype": "text/x-python",
   "name": "python",
   "nbconvert_exporter": "python",
   "pygments_lexer": "ipython2",
   "version": "2.7.12"
  }
 },
 "nbformat": 4,
 "nbformat_minor": 1
}
