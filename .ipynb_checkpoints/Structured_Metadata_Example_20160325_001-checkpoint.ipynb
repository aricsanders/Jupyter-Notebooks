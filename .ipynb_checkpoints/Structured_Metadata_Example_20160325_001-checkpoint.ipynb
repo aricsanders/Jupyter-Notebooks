{
 "cells": [
  {
   "cell_type": "markdown",
   "metadata": {},
   "source": [
    "# Structured Metadata Example\n",
    "Written by Aric Sanders 03/2016\n",
    "## The Metadata model\n",
    "1. Entity-Context-Attribute-Value metadata model\n",
    "    + The model describes an entity in a specific context. \n",
    "    + Acccepted metadata models normally have 3 pieces. \n",
    "            + Entity-Attribute-Value\n",
    "            + Subject-Predicate-Object\n",
    "    + These are stored in databases that are called triple stores\n"
   ]
  },
  {
   "cell_type": "code",
   "execution_count": 16,
   "metadata": {
    "collapsed": false
   },
   "outputs": [
    {
     "name": "stdout",
     "output_type": "stream",
     "text": [
      "{'Measurement Conditions': {'Measurement Date': '2016-03-25T06:42:54.343000'}, 'Statistical': {'Measurement Type': 'thru'}}\n",
      "FakeClass\n"
     ]
    }
   ],
   "source": [
    "# python representation\n",
    "# if the metadata is part of an object the entity is implied to be the object\n",
    "import datetime\n",
    "class FakeClass():\n",
    "    \n",
    "    def __init__(self):\n",
    "        now=datetime.datetime.utcnow()\n",
    "        self.metadata={'Measurement Conditions':{'Measurement Date':now.isoformat()},\n",
    "                       'Statistical':{'Measurement Type':'thru'}}\n",
    "        \n",
    "new=FakeClass()\n",
    "print new.metadata\n",
    "print new.__class__.__name__"
   ]
  },
  {
   "cell_type": "code",
   "execution_count": 17,
   "metadata": {
    "collapsed": false
   },
   "outputs": [
    {
     "name": "stdout",
     "output_type": "stream",
     "text": [
      "This refers to Measurement Conditions\n",
      "FakeClass's Measurement Date is 2016-03-25T06:42:54.343000\n",
      "This refers to Statistical\n",
      "FakeClass's Measurement Type is thru\n"
     ]
    }
   ],
   "source": [
    "# english translation\n",
    "for context in new.metadata.keys():\n",
    "    print(\"This refers to {0}\".format(context))\n",
    "    for key,value in new.metadata[context].iteritems():\n",
    "        print(\"{0}'s {1} is {2}\".format(new.__class__.__name__,key,value))"
   ]
  },
  {
   "cell_type": "code",
   "execution_count": 20,
   "metadata": {
    "collapsed": false
   },
   "outputs": [
    {
     "name": "stdout",
     "output_type": "stream",
     "text": [
      "This refers to Description\n",
      "https://en.wikipedia.org/wiki/ISO_8601's Title is ISO 8601 - Wikipedia, the free encyclopedia\n",
      "This refers to Measurement Conditions\n",
      "MyFile.txt's Measurement Date is 2016-03-25T07:03:17.269000\n",
      "This refers to Statistical\n",
      "MyFile.txt's Measurement Type is thru\n"
     ]
    }
   ],
   "source": [
    "# now we can imagine this to be abstracted to a list of enitities instead\n",
    "entity_list=['https://en.wikipedia.org/wiki/ISO_8601','MyFile.txt']\n",
    "now=datetime.datetime.utcnow()\n",
    "# now each element of the list has a description that is vaild in a certain context\n",
    "description=[{'Description':{'Title':\"ISO 8601 - Wikipedia, the free encyclopedia\"}},\n",
    "             {'Measurement Conditions':{'Measurement Date':now.isoformat()},\n",
    "                       'Statistical':{'Measurement Type':'thru'}}]\n",
    "for i,entity in enumerate(entity_list):\n",
    "    for context in description[i].keys():\n",
    "        print(\"This refers to {0}\".format(context))\n",
    "        for key,value in description[i][context].iteritems():\n",
    "            print(\"{0}'s {1} is {2}\".format(entity,key,value))"
   ]
  },
  {
   "cell_type": "code",
   "execution_count": null,
   "metadata": {
    "collapsed": true
   },
   "outputs": [],
   "source": []
  }
 ],
 "metadata": {
  "kernelspec": {
   "display_name": "Python 2",
   "language": "python",
   "name": "python2"
  },
  "language_info": {
   "codemirror_mode": {
    "name": "ipython",
    "version": 2
   },
   "file_extension": ".py",
   "mimetype": "text/x-python",
   "name": "python",
   "nbconvert_exporter": "python",
   "pygments_lexer": "ipython2",
   "version": "2.7.11"
  }
 },
 "nbformat": 4,
 "nbformat_minor": 0
}
