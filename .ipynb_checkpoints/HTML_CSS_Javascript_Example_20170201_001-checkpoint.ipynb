{
 "cells": [
  {
   "cell_type": "markdown",
   "metadata": {},
   "source": [
    "# HTML, CSS, and Javascript Basics\n",
    "This an example showing the basics of using the HTML, CSS, Javascript technology."
   ]
  },
  {
   "cell_type": "markdown",
   "metadata": {},
   "source": [
    "## The basic structure of an HTML page\n",
    "1. The outer element is html\n",
    "2. There is a head and a body\n",
    "\n",
    "```html\n",
    "<html>\n",
    "    <head>\n",
    "    </head>\n",
    "    <body>\n",
    "    </body>\n",
    "</html>\n",
    "```"
   ]
  },
  {
   "cell_type": "markdown",
   "metadata": {},
   "source": [
    "### Everything that sets the page up is in the head. That is the title, any metadata, any format commands and any loading of external scripts.\n",
    "\n",
    "+ For Example if you want to load an external set of format commands in the css syntax \n",
    "\n",
    "```html\n",
    "<head>\n",
    "<link href=\"./css/literallycanvas.css\" rel=\"stylesheet\">\n",
    "</head>\n",
    "```\n",
    "\n",
    "+ We could of used a `<style>` tag and put all of our definitions there to create the same effect. The only difference is the who gets executed last. The precedence is first apply all the styles imported from a file (in the order listed), then apply the styles defined in the head or body in a style tag, and finally any style in a html tag that is an attribute.\n",
    "\n",
    "```html\n",
    "<head>\n",
    "<link href=\"./css/literallycanvas.css\" rel=\"stylesheet\">\n",
    "<style>\n",
    "p {font-weight:bold;}\n",
    "</style>\n",
    "</head>\n",
    "```\n",
    "+ This would apply the style sheet specified by the href attribute, and then make all the `<p></p>` elements bold after applying the style sheet.\n",
    "\n",
    "+ If we wanted a single `<p></p>` tag to not be bolded we can specify that in the style attribute\n",
    "```html\n",
    "<html>\n",
    "<head>\n",
    "<link href=\"./css/literallycanvas.css\" rel=\"stylesheet\">\n",
    "<style>\n",
    "p {font-weight:bold;}\n",
    "</style>\n",
    "</head>\n",
    "<body>\n",
    "<p> A bolded paragraph </p>\n",
    "<p stlye=\"font-weight:normal\"> A normal weight paragraph </p>\n",
    "</body>\n",
    "</html>\n",
    "```"
   ]
  },
  {
   "cell_type": "code",
   "execution_count": null,
   "metadata": {
    "collapsed": true
   },
   "outputs": [],
   "source": []
  }
 ],
 "metadata": {
  "kernelspec": {
   "display_name": "Python 2",
   "language": "python",
   "name": "python2"
  },
  "language_info": {
   "codemirror_mode": {
    "name": "ipython",
    "version": 2
   },
   "file_extension": ".py",
   "mimetype": "text/x-python",
   "name": "python",
   "nbconvert_exporter": "python",
   "pygments_lexer": "ipython2",
   "version": "2.7.13"
  }
 },
 "nbformat": 4,
 "nbformat_minor": 2
}
