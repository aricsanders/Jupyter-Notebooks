{
 "cells": [
  {
   "cell_type": "markdown",
   "metadata": {},
   "source": [
    "# Calibration of a DUT using StatistiCAL in python\n",
    "This notebook is an example of how to calibrate a DUT using the [StatistiCAL] [cal] program using python bindings.\n",
    "\n",
    "## Table of contents\n",
    "<ol>\n",
    "<li> importing the files </li>\n",
    "<li> creating a menu file </li>\n",
    "<li> calling statistical and running the menu files </li>\n",
    "<li> displaying the result </li>\n",
    "\n",
    "[cal]:http://www.nist.gov/ctl/rf-technology/related-software.cfm"
   ]
  },
  {
   "cell_type": "code",
   "execution_count": 1,
   "metadata": {
    "collapsed": false
   },
   "outputs": [
    {
     "name": "stdout",
     "output_type": "stream",
     "text": [
      "Importing Code.Utils.Names\n",
      "Importing Code.DataHandlers.NISTModels\n",
      "Importing Code.DataHandlers.GeneralModels\n",
      "Importing Code.DataHandlers.TouchstoneModels\n",
      "Importing Code.DataHandlers.XMLModels\n",
      "Importing Code.DataHandlers.Translations\n",
      "Importing Code.DataHandlers.StatistiCALModels\n",
      "Importing Code.DataHandlers.MUFModels\n",
      "Importing Code.Analysis.SParameter\n",
      "Importing Code.InstrumentControl.Instruments\n",
      "Importing Code.InstrumentControl.Experiments\n"
     ]
    }
   ],
   "source": [
    "# importing the needed files, these are the files used in the help function of statistiCAL\n",
    "import os\n",
    "\n",
    "# first import the python bindings for statistiCAL\n",
    "# The old way\n",
    "#from pyMeasure.Code.DataHandlers import StatistiCALModels as SC\n",
    "# new way\n",
    "from pyMeasure import *"
   ]
  },
  {
   "cell_type": "code",
   "execution_count": 2,
   "metadata": {
    "collapsed": false
   },
   "outputs": [
    {
     "name": "stdout",
     "output_type": "stream",
     "text": [
      "Help on class StatistiCALWrapper in module pyMeasure.Code.DataHandlers.StatistiCALModels:\n",
      "\n",
      "class StatistiCALWrapper\n",
      " |  The StatistiCALWrapper Class is a python wrapper on a StatistiCAL COM object, it requires the win32com python\n",
      " |  package to function. Class Methods and Attributes are documented in programmer's corner in the Statistical\n",
      " |  help.\n",
      " |  The Following are documented there:\n",
      " |  StatistiCAL.NumberOfODRPACKErrors\n",
      " |  StatistiCAL.SuppressErrorMessages\n",
      " |  StatistiCAL.ShowErrorMessages\n",
      " |  StatistiCAL.OpenMenu(ByVal FileName As String)\n",
      " |  StatistiCAL.AddToMenu(ByVal FileName As String)\n",
      " |  StatistiCAL.ClearStatistiCALMenu\n",
      " |  StatistiCAL.CalibrateData\n",
      " |  StatistiCAL.ShowStatistiCAL\n",
      " |  StatistiCAL.HideStatistiCAL\n",
      " |  StatistiCAL.QuitStatistiCAL\n",
      " |  StatistiCAL.InFocusWhileCalculating\n",
      " |  StatistiCAL.OutOfFocusWhileCalculating\n",
      " |  StatistiCAL.SaveStatistiCALReportToFile(ByVal FileName As String)\n",
      " |  StatistiCAL.SaveODRPACKReportToFile(ByVal FileName As String)\n",
      " |  StatistiCAL.SaveSolutionVectorToFile(ByVal FileName As String)\n",
      " |  StatistiCAL.SaveDUTSParToFile(ByVal FileName As String)\n",
      " |  StatistiCAL.SaveStandardUncertToFile(ByVal FileName As String)\n",
      " |  StatistiCAL.SaveCovarianceMatrixToFile(ByVal FileName As String)\n",
      " |  StatistiCAL.SaveVNACalCoefToFile(ByVal FileName As String)\n",
      " |  StatistiCAL.SaveCoverageFactorsToFile(ByVal FileName As String)\n",
      " |  StatistiCAL.SaveResidualsToFile(ByVal FileName As String)\n",
      " |  StatistiCAL.Successful - Always check this after a command to ensure that StatistiCAL was able to complete the\n",
      " |  command successfully\n",
      " |  \n",
      " |  Methods defined here:\n",
      " |  \n",
      " |  AddToMenu(self, file_name=None)\n",
      " |      Adds the file specified by file_name to a menu in StatistiCAL\n",
      " |  \n",
      " |  CalibrateData(self)\n",
      " |      Calibrates the data using the menu data and the standard definitions\n",
      " |  \n",
      " |  ClearStatistiCALMenu(self)\n",
      " |      Clears the Current StatistiCAL menu\n",
      " |  \n",
      " |  HideStatistiCAL(self)\n",
      " |      Hides the visual basic 6 GUI of StatistiCAL\n",
      " |  \n",
      " |  InFocusWhileCalculating(self)\n",
      " |      Keeps the visual basic 6 GUI of StatistiCAL in focus while calculating\n",
      " |  \n",
      " |  OpenMenu(self, file_name=None)\n",
      " |      Opens the menu specified by file_name in StatistiCAL\n",
      " |  \n",
      " |  OutOfFocusWhileCalculating(self)\n",
      " |      Keeps the visual basic 6 GUI of StatistiCAL out of focus while calculating\n",
      " |  \n",
      " |  QuitStatistiCAL(self)\n",
      " |      Quits the visual basic 6 GUI of StatistiCAL\n",
      " |  \n",
      " |  SaveCovarianceMatrixToFile(self, file_name=None)\n",
      " |      Saves the covariance matrix to file_name\n",
      " |  \n",
      " |  SaveCoverageFactorsToFile(self, file_name=None)\n",
      " |      Saves the coverage factors to file_name\n",
      " |  \n",
      " |  SaveDUTSParToFile(self, file_name=None)\n",
      " |      Saves the device under test(s) specified in standards to file_name\n",
      " |  \n",
      " |  SaveODRPACKReportToFile(self, file_name=None)\n",
      " |      Saves the ODRPACK report to file_name\n",
      " |  \n",
      " |  SaveResidualsToFile(self, file_name=None)\n",
      " |      Saves the residuals to file_name\n",
      " |  \n",
      " |  SaveSolutionVectorToFile(self, file_name=None)\n",
      " |      Saves the solution vector to file_name\n",
      " |  \n",
      " |  SaveStandardUncertToFile(self, file_name=None)\n",
      " |      Saves the standard uncertainity to file_name\n",
      " |  \n",
      " |  SaveStatistiCALReportToFile(self, file_name=None)\n",
      " |      Saves the statistiCAL report to file_name\n",
      " |  \n",
      " |  SaveVNACalCoefToFile(self, file_name=None)\n",
      " |      Saves the VNA Calibration Coefficents to file_name\n",
      " |  \n",
      " |  ShowErrorMessages(self)\n",
      " |      Shows the Error Messages Created by Statistical\n",
      " |  \n",
      " |  ShowStatistiCAL(self)\n",
      " |      Shows the visual basic 6 GUI of StatistiCAL\n",
      " |  \n",
      " |  SuppressErrorMessages(self)\n",
      " |      Suppresses the Error Messages Created by Statistical\n",
      " |  \n",
      " |  __init__(self)\n",
      " |      Intialize the instance of StatistiCAL\n",
      "\n"
     ]
    }
   ],
   "source": [
    "# Just to get an idea of what the wrapper does\n",
    "help(StatistiCALWrapper)"
   ]
  },
  {
   "cell_type": "code",
   "execution_count": 52,
   "metadata": {
    "collapsed": false
   },
   "outputs": [],
   "source": [
    "# This initializes the wrapper class\n",
    "StatistiCAL=StatistiCALWrapper()\n",
    "# This hides the instance\n",
    "StatistiCAL.HideStatistiCAL()"
   ]
  },
  {
   "cell_type": "code",
   "execution_count": 53,
   "metadata": {
    "collapsed": false
   },
   "outputs": [],
   "source": [
    "# Now given a set of files we need to make a menu\n",
    "# The easiest way is to open a menu and edit it\n",
    "TESTS_DIRECTORY=os.path.join(os.getcwd(),r'StatistiCAL_Files\\StatistiCAL_Tests')\n",
    "file_path=os.path.join(TESTS_DIRECTORY,'sample.txt')\n",
    "template_menu=StatistiCALMenuModel(file_path)\n",
    "# now we change the file paths from relative to the new locations\n",
    "for index,item in enumerate(template_menu.menu_data[:]):\n",
    "    template_menu.menu_data[index]=item.replace(\"\\\\\",TESTS_DIRECTORY+\"\\\\\")\n",
    "# save the new menu\n",
    "#template_menu.remove_duts()\n",
    "new_path=os.path.join(TESTS_DIRECTORY,'fixed_sample.txt')\n",
    "template_menu.save(new_path)\n",
    "    \n",
    "\n"
   ]
  },
  {
   "cell_type": "code",
   "execution_count": 50,
   "metadata": {
    "collapsed": false
   },
   "outputs": [],
   "source": [
    "StatistiCAL.QuitStatistiCAL()"
   ]
  },
  {
   "cell_type": "code",
   "execution_count": 54,
   "metadata": {
    "collapsed": false
   },
   "outputs": [],
   "source": [
    "# now we load the file into StatistiCAL\n",
    "StatistiCAL.OpenMenu(new_path)\n",
    "# we hide the application and supress the error messages\n",
    "#StatistiCAL.SuppressErrorMessages()\n",
    "#StatistiCAL.HideStatistiCAL()\n",
    "#we run the calibration\n",
    "StatistiCAL.CalibrateData()\n",
    "\n",
    "#we save the results of the calibration as VNACalcoefficents or the solution vector\n",
    "solution_vector_filepath=os.path.join(TESTS_DIRECTORY,'Solution_Plus.txt')\n",
    "twelve_term_filepath=os.path.join(TESTS_DIRECTORY,'Error.txt')\n",
    "StatistiCAL.SaveSolutionVectorToFile(solution_vector_filepath)\n",
    "StatistiCAL.SaveVNACalCoefToFile(twelve_term_filepath)"
   ]
  },
  {
   "cell_type": "code",
   "execution_count": 56,
   "metadata": {
    "collapsed": false
   },
   "outputs": [
    {
     "ename": "IndexError",
     "evalue": "index 2 is out of bounds for axis 0 with size 2",
     "output_type": "error",
     "traceback": [
      "\u001b[1;31m---------------------------------------------------------------------------\u001b[0m",
      "\u001b[1;31mIndexError\u001b[0m                                Traceback (most recent call last)",
      "\u001b[1;32m<ipython-input-56-712dff8c8112>\u001b[0m in \u001b[0;36m<module>\u001b[1;34m()\u001b[0m\n\u001b[0;32m      2\u001b[0m \u001b[1;31m# so we use the StatistiCALSolutionModel\u001b[0m\u001b[1;33m\u001b[0m\u001b[1;33m\u001b[0m\u001b[0m\n\u001b[0;32m      3\u001b[0m \u001b[1;31m#solution=TwelveTermErrorModel(twelve_term_filepath)\u001b[0m\u001b[1;33m\u001b[0m\u001b[1;33m\u001b[0m\u001b[0m\n\u001b[1;32m----> 4\u001b[1;33m \u001b[0msolution\u001b[0m\u001b[1;33m=\u001b[0m\u001b[0mStatistiCALSolutionModel\u001b[0m\u001b[1;33m(\u001b[0m\u001b[0msolution_vector_filepath\u001b[0m\u001b[1;33m)\u001b[0m\u001b[1;33m\u001b[0m\u001b[0m\n\u001b[0m",
      "\u001b[1;32mC:\\python27\\lib\\site-packages\\pyMeasure\\Code\\DataHandlers\\StatistiCALModels.pyc\u001b[0m in \u001b[0;36m__init__\u001b[1;34m(self, file_path, **options)\u001b[0m\n\u001b[0;32m    869\u001b[0m         \u001b[1;32mif\u001b[0m \u001b[0mfile_path\u001b[0m \u001b[1;32mis\u001b[0m \u001b[1;32mnot\u001b[0m \u001b[0mNone\u001b[0m\u001b[1;33m:\u001b[0m\u001b[1;33m\u001b[0m\u001b[0m\n\u001b[0;32m    870\u001b[0m             \u001b[0mself\u001b[0m\u001b[1;33m.\u001b[0m\u001b[0mpath\u001b[0m\u001b[1;33m=\u001b[0m\u001b[0mfile_path\u001b[0m\u001b[1;33m\u001b[0m\u001b[0m\n\u001b[1;32m--> 871\u001b[1;33m             \u001b[0mself\u001b[0m\u001b[1;33m.\u001b[0m\u001b[0m__read_and_fix__\u001b[0m\u001b[1;33m(\u001b[0m\u001b[1;33m)\u001b[0m\u001b[1;33m\u001b[0m\u001b[0m\n\u001b[0m\u001b[0;32m    872\u001b[0m         \u001b[0mAsciiDataTable\u001b[0m\u001b[1;33m.\u001b[0m\u001b[0m__init__\u001b[0m\u001b[1;33m(\u001b[0m\u001b[0mself\u001b[0m\u001b[1;33m,\u001b[0m\u001b[0mNone\u001b[0m\u001b[1;33m,\u001b[0m\u001b[1;33m**\u001b[0m\u001b[0mself\u001b[0m\u001b[1;33m.\u001b[0m\u001b[0moptions\u001b[0m\u001b[1;33m)\u001b[0m\u001b[1;33m\u001b[0m\u001b[0m\n\u001b[0;32m    873\u001b[0m         \u001b[1;32mif\u001b[0m \u001b[0mfile_path\u001b[0m \u001b[1;32mis\u001b[0m \u001b[1;32mnot\u001b[0m \u001b[0mNone\u001b[0m\u001b[1;33m:\u001b[0m\u001b[1;33m\u001b[0m\u001b[0m\n",
      "\u001b[1;32mC:\\python27\\lib\\site-packages\\pyMeasure\\Code\\DataHandlers\\StatistiCALModels.pyc\u001b[0m in \u001b[0;36m__read_and_fix__\u001b[1;34m(self)\u001b[0m\n\u001b[0;32m    896\u001b[0m                 \u001b[0mself\u001b[0m\u001b[1;33m.\u001b[0m\u001b[0mcomplex_data\u001b[0m\u001b[1;33m.\u001b[0m\u001b[0mappend\u001b[0m\u001b[1;33m(\u001b[0m\u001b[0mfrequency\u001b[0m\u001b[1;33m+\u001b[0m\u001b[0mcomplex_array\u001b[0m\u001b[1;33m.\u001b[0m\u001b[0mtolist\u001b[0m\u001b[1;33m(\u001b[0m\u001b[1;33m)\u001b[0m\u001b[1;33m)\u001b[0m\u001b[1;33m\u001b[0m\u001b[0m\n\u001b[0;32m    897\u001b[0m                 \u001b[1;31m# fill S1 and S2 for later\u001b[0m\u001b[1;33m\u001b[0m\u001b[1;33m\u001b[0m\u001b[0m\n\u001b[1;32m--> 898\u001b[1;33m                 \u001b[1;31m# S1=frequency,S1_11,S1_21,_S1_12,S1_22\u001b[0m\u001b[1;33m\u001b[0m\u001b[1;33m\u001b[0m\u001b[0m\n\u001b[0m\u001b[0;32m    899\u001b[0m                 \u001b[0mS1\u001b[0m\u001b[1;33m=\u001b[0m\u001b[0mfrequency\u001b[0m\u001b[1;33m+\u001b[0m\u001b[1;33m[\u001b[0m\u001b[0mcomplex_array\u001b[0m\u001b[1;33m[\u001b[0m\u001b[1;36m0\u001b[0m\u001b[1;33m]\u001b[0m\u001b[1;33m,\u001b[0m\u001b[0mcomplex_array\u001b[0m\u001b[1;33m[\u001b[0m\u001b[1;36m2\u001b[0m\u001b[1;33m]\u001b[0m\u001b[1;33m,\u001b[0m\u001b[0mcomplex_array\u001b[0m\u001b[1;33m[\u001b[0m\u001b[1;36m2\u001b[0m\u001b[1;33m]\u001b[0m\u001b[1;33m,\u001b[0m\u001b[0mcomplex_array\u001b[0m\u001b[1;33m[\u001b[0m\u001b[1;36m1\u001b[0m\u001b[1;33m]\u001b[0m\u001b[1;33m]\u001b[0m\u001b[1;33m\u001b[0m\u001b[0m\n\u001b[0;32m    900\u001b[0m                 \u001b[0mself\u001b[0m\u001b[1;33m.\u001b[0m\u001b[0mS1\u001b[0m\u001b[1;33m.\u001b[0m\u001b[0mappend\u001b[0m\u001b[1;33m(\u001b[0m\u001b[0mS1\u001b[0m\u001b[1;33m)\u001b[0m\u001b[1;33m\u001b[0m\u001b[0m\n",
      "\u001b[1;31mIndexError\u001b[0m: index 2 is out of bounds for axis 0 with size 2"
     ]
    }
   ],
   "source": [
    "# now open the file using either TwelveTermErrorModel or StatistiCALSolutionModel in this case we saved a solution vector\n",
    "# so we use the StatistiCALSolutionModel\n",
    "#solution=TwelveTermErrorModel(twelve_term_filepath)\n",
    "solution=StatistiCALSolutionModel(solution_vector_filepath)"
   ]
  },
  {
   "cell_type": "code",
   "execution_count": 26,
   "metadata": {
    "collapsed": true
   },
   "outputs": [],
   "source": [
    "StatistiCAL.SaveSolutionVectorToFile(solution_vector_filepath)"
   ]
  },
  {
   "cell_type": "code",
   "execution_count": 31,
   "metadata": {
    "collapsed": true
   },
   "outputs": [],
   "source": [
    "StatistiCAL.ShowStatistiCAL()"
   ]
  },
  {
   "cell_type": "code",
   "execution_count": 57,
   "metadata": {
    "collapsed": true
   },
   "outputs": [],
   "source": [
    "solution=TwelveTermErrorModel(r'C:\\Users\\sandersa\\Desktop\\CalCoefficients.txt')"
   ]
  },
  {
   "cell_type": "code",
   "execution_count": 58,
   "metadata": {
    "collapsed": false
   },
   "outputs": [
    {
     "data": {
      "text/plain": [
       "['__add__',\n",
       " '__doc__',\n",
       " '__eq__',\n",
       " '__getitem__',\n",
       " '__init__',\n",
       " '__module__',\n",
       " '__ne__',\n",
       " '__parse__',\n",
       " '__read_and_fix__',\n",
       " '__str__',\n",
       " 'add_column',\n",
       " 'add_index',\n",
       " 'add_inline_comment',\n",
       " 'add_row',\n",
       " 'build_string',\n",
       " 'change_unit_prefix',\n",
       " 'column_names',\n",
       " 'complex_data',\n",
       " 'data',\n",
       " 'elements',\n",
       " 'find_line',\n",
       " 'footer',\n",
       " 'get_column',\n",
       " 'get_column_names_string',\n",
       " 'get_data_dictionary_list',\n",
       " 'get_data_string',\n",
       " 'get_footer_string',\n",
       " 'get_header_string',\n",
       " 'get_options',\n",
       " 'get_options_by_element',\n",
       " 'get_row',\n",
       " 'header',\n",
       " 'initial_state',\n",
       " 'inline_comments',\n",
       " 'is_valid',\n",
       " 'lines',\n",
       " 'lines_defined',\n",
       " 'metadata',\n",
       " 'move_footer_to_header',\n",
       " 'name',\n",
       " 'options',\n",
       " 'path',\n",
       " 'remove_column',\n",
       " 'remove_row',\n",
       " 'save',\n",
       " 'save_schema',\n",
       " 'string',\n",
       " 'update_column_names',\n",
       " 'update_import_options',\n",
       " 'update_index',\n",
       " 'update_model']"
      ]
     },
     "execution_count": 58,
     "metadata": {},
     "output_type": "execute_result"
    }
   ],
   "source": [
    "dir(solution)"
   ]
  },
  {
   "cell_type": "code",
   "execution_count": null,
   "metadata": {
    "collapsed": true
   },
   "outputs": [],
   "source": []
  }
 ],
 "metadata": {
  "kernelspec": {
   "display_name": "Python 2",
   "language": "python",
   "name": "python2"
  },
  "language_info": {
   "codemirror_mode": {
    "name": "ipython",
    "version": 2
   },
   "file_extension": ".py",
   "mimetype": "text/x-python",
   "name": "python",
   "nbconvert_exporter": "python",
   "pygments_lexer": "ipython2",
   "version": "2.7.11"
  }
 },
 "nbformat": 4,
 "nbformat_minor": 0
}
