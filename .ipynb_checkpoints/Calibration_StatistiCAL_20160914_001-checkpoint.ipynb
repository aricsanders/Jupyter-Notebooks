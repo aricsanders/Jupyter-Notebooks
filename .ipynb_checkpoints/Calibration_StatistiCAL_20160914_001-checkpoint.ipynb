{
 "cells": [
  {
   "cell_type": "markdown",
   "metadata": {},
   "source": [
    "# Calibration of a DUT using StatistiCAL in python\n",
    "This notebook is an example of how to calibrate a DUT using the [StatistiCAL] [cal] program using python bindings.\n",
    "\n",
    "## Table of contents\n",
    "<ol>\n",
    "<li> importing the files </li>\n",
    "<li> creating a menu file </li>\n",
    "<li> calling statistical and running the menu files </li>\n",
    "<li> displaying the result </li>\n",
    "\n",
    "[cal]:http://www.nist.gov/ctl/rf-technology/related-software.cfm"
   ]
  },
  {
   "cell_type": "code",
   "execution_count": 5,
   "metadata": {
    "collapsed": false
   },
   "outputs": [],
   "source": [
    "# importing the needed files, these are the files used in the help function of statistiCAL\n",
    "import os\n",
    "\n",
    "# first import the python bindings for statistiCAL\n",
    "# The old way\n",
    "#from pyMeasure.Code.DataHandlers import StatistiCALModels as SC\n",
    "# new way\n",
    "from pyMeasure import *"
   ]
  },
  {
   "cell_type": "code",
   "execution_count": null,
   "metadata": {
    "collapsed": false
   },
   "outputs": [],
   "source": [
    "# Just to get an idea of what the wrapper does\n",
    "help(StatistiCALWrapper)"
   ]
  },
  {
   "cell_type": "code",
   "execution_count": 6,
   "metadata": {
    "collapsed": false
   },
   "outputs": [],
   "source": [
    "# This initializes the wrapper class\n",
    "StatistiCAL=StatistiCALWrapper()\n",
    "# This hides the instance\n",
    "#StatistiCAL.HideStatistiCAL()"
   ]
  },
  {
   "cell_type": "code",
   "execution_count": 7,
   "metadata": {
    "collapsed": false
   },
   "outputs": [],
   "source": [
    "# Now given a set of files we need to make a menu\n",
    "# The easiest way is to open a menu and edit it\n",
    "TESTS_DIRECTORY=os.path.join(os.getcwd(),r'StatistiCAL_Files\\StatistiCAL_Tests')\n",
    "file_path=os.path.join(TESTS_DIRECTORY,'sample.txt')\n",
    "template_menu=StatistiCALMenuModel(file_path)\n",
    "# now we change the file paths from relative to the new locations\n",
    "for index,item in enumerate(template_menu.menu_data[:]):\n",
    "    template_menu.menu_data[index]=item.replace(\"\\\\\",TESTS_DIRECTORY+\"\\\\\")\n",
    "# save the new menu\n",
    "#template_menu.remove_duts()\n",
    "new_path=os.path.join(TESTS_DIRECTORY,'fixed_sample.txt')\n",
    "template_menu.save(new_path)\n",
    "    \n",
    "\n"
   ]
  },
  {
   "cell_type": "code",
   "execution_count": 4,
   "metadata": {
    "collapsed": false
   },
   "outputs": [],
   "source": [
    "# A check of running help->load sample\n",
    "# For some reason the Solution_Plus.txt file appears to be corrupted when running the examples\n",
    "# It does not output the full correction, the last few values are incomplete\n",
    "test_file_path=r\"C:\\Users\\sandersa\\Desktop\\Solution_Plus.txt\"\n",
    "solution=StatistiCALSolutionModel(test_file_path)\n",
    "# this does not have an error, so in theory we should be able to write it\n",
    "# now try loading the menu manually after rewriting the paths and save data as Solution_Plus_test.txt\n",
    "solution_vector_filepath=os.path.join(TESTS_DIRECTORY,'Solution_Plus_test.txt')\n",
    "solution_manual=StatistiCALSolutionModel(solution_vector_filepath)\n",
    "# This did not error, so it must be the com object being messed up.\n",
    "# it is that the claibratedata method does not work properly\n",
    "# when called \n"
   ]
  },
  {
   "cell_type": "code",
   "execution_count": 36,
   "metadata": {
    "collapsed": false
   },
   "outputs": [],
   "source": [
    "StatistiCAL.QuitStatistiCAL()"
   ]
  },
  {
   "cell_type": "code",
   "execution_count": null,
   "metadata": {
    "collapsed": true
   },
   "outputs": [],
   "source": [
    "dir()"
   ]
  },
  {
   "cell_type": "code",
   "execution_count": 8,
   "metadata": {
    "collapsed": false
   },
   "outputs": [
    {
     "name": "stdout",
     "output_type": "stream",
     "text": [
      "True\n",
      "Success\n",
      "True\n",
      "True\n",
      "True\n"
     ]
    }
   ],
   "source": [
    "import time\n",
    "# now we load the file into StatistiCAL\n",
    "# For some reason the calibratedata method does not work unless you show it.\n",
    "#StatistiCAL.ShowStatistiCAL()\n",
    "StatistiCAL.OpenMenu(new_path)\n",
    "# we hide the application and supress the error messages\n",
    "#StatistiCAL.SuppressErrorMessages()\n",
    "#StatistiCAL.HideStatistiCAL()\n",
    "# wait for 1s\n",
    "print StatistiCAL.application.Successful\n",
    "#time.sleep(1)\n",
    "#we run the calibration\n",
    "StatistiCAL.CalibrateData()\n",
    "#time.sleep(1)\n",
    "if StatistiCAL.application.Successful:\n",
    "    print \"Success\"\n",
    "print StatistiCAL.application.Successful\n",
    "#we save the results of the calibration as VNACalcoefficents or the solution vector\n",
    "solution_vector_filepath=os.path.join(TESTS_DIRECTORY,'Solution_Plus.txt')\n",
    "twelve_term_filepath=os.path.join(TESTS_DIRECTORY,'Error.txt')\n",
    "StatistiCAL.SaveSolutionVectorToFile(solution_vector_filepath)\n",
    "print StatistiCAL.application.Successful\n",
    "StatistiCAL.SaveVNACalCoefToFile(twelve_term_filepath)\n",
    "print StatistiCAL.application.Successful\n",
    "# for some reason this is creating a corrupted solution file. "
   ]
  },
  {
   "cell_type": "code",
   "execution_count": 10,
   "metadata": {
    "collapsed": false
   },
   "outputs": [
    {
     "name": "stdout",
     "output_type": "stream",
     "text": [
      "False\n"
     ]
    }
   ],
   "source": [
    "StatistiCAL.CalibrateData()\n",
    "print StatistiCAL.application.Successful"
   ]
  },
  {
   "cell_type": "code",
   "execution_count": 9,
   "metadata": {
    "collapsed": false
   },
   "outputs": [],
   "source": [
    "# now open the file using either TwelveTermErrorModel or StatistiCALSolutionModel in this case we saved a solution vector\n",
    "# so we use the StatistiCALSolutionModel\n",
    "#solution=TwelveTermErrorModel(twelve_term_filepath)\n",
    "solution=StatistiCALSolutionModel(solution_vector_filepath)"
   ]
  },
  {
   "cell_type": "code",
   "execution_count": null,
   "metadata": {
    "collapsed": true
   },
   "outputs": [],
   "source": [
    "StatistiCAL.SaveSolutionVectorToFile(solution_vector_filepath)"
   ]
  },
  {
   "cell_type": "code",
   "execution_count": null,
   "metadata": {
    "collapsed": true
   },
   "outputs": [],
   "source": [
    "StatistiCAL.ShowStatistiCAL()"
   ]
  },
  {
   "cell_type": "code",
   "execution_count": null,
   "metadata": {
    "collapsed": true
   },
   "outputs": [],
   "source": [
    "solution=TwelveTermErrorModel(r'C:\\Users\\sandersa\\Desktop\\CalCoefficients.txt')"
   ]
  },
  {
   "cell_type": "code",
   "execution_count": null,
   "metadata": {
    "collapsed": false
   },
   "outputs": [],
   "source": [
    "dir(solution)"
   ]
  },
  {
   "cell_type": "code",
   "execution_count": 14,
   "metadata": {
    "collapsed": true
   },
   "outputs": [],
   "source": [
    "SC=StatistiCALWrapper()\n"
   ]
  },
  {
   "cell_type": "code",
   "execution_count": 15,
   "metadata": {
    "collapsed": false
   },
   "outputs": [],
   "source": [
    "SC.ShowStatistiCAL()\n"
   ]
  },
  {
   "cell_type": "code",
   "execution_count": 19,
   "metadata": {
    "collapsed": false
   },
   "outputs": [
    {
     "data": {
      "text/plain": [
       "True"
      ]
     },
     "execution_count": 19,
     "metadata": {},
     "output_type": "execute_result"
    }
   ],
   "source": [
    "SC.application.Successful"
   ]
  },
  {
   "cell_type": "code",
   "execution_count": 24,
   "metadata": {
    "collapsed": false
   },
   "outputs": [
    {
     "name": "stdout",
     "output_type": "stream",
     "text": [
      "True\n"
     ]
    }
   ],
   "source": [
    "SC.CalibrateData()\n",
    "print SC.application.Successful"
   ]
  },
  {
   "cell_type": "code",
   "execution_count": 25,
   "metadata": {
    "collapsed": false
   },
   "outputs": [
    {
     "name": "stdout",
     "output_type": "stream",
     "text": [
      "True\n"
     ]
    }
   ],
   "source": [
    "solution_vector_filepath=os.path.join(TESTS_DIRECTORY,'Solution_Plus.txt')\n",
    "twelve_term_filepath=os.path.join(TESTS_DIRECTORY,'Error.txt')\n",
    "SC.SaveSolutionVectorToFile(solution_vector_filepath)\n",
    "print SC.application.Successful"
   ]
  },
  {
   "cell_type": "code",
   "execution_count": 10,
   "metadata": {
    "collapsed": false
   },
   "outputs": [],
   "source": [
    "solution=StatistiCALSolutionModel(solution_vector_filepath)"
   ]
  },
  {
   "cell_type": "code",
   "execution_count": null,
   "metadata": {
    "collapsed": true
   },
   "outputs": [],
   "source": []
  }
 ],
 "metadata": {
  "kernelspec": {
   "display_name": "Python 2",
   "language": "python",
   "name": "python2"
  },
  "language_info": {
   "codemirror_mode": {
    "name": "ipython",
    "version": 2
   },
   "file_extension": ".py",
   "mimetype": "text/x-python",
   "name": "python",
   "nbconvert_exporter": "python",
   "pygments_lexer": "ipython2",
   "version": "2.7.12"
  }
 },
 "nbformat": 4,
 "nbformat_minor": 0
}
