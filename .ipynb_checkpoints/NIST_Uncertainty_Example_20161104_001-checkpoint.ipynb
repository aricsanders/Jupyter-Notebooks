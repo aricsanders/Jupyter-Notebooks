{
 "cells": [
  {
   "cell_type": "markdown",
   "metadata": {},
   "source": [
    "# NIST Uncertainty Example\n",
    "This notebook is a set of examples for adding SNIST and Type Uncertainties to Files and Plotting them\n",
    "Written by AWS 11/2016\n"
   ]
  },
  {
   "cell_type": "code",
   "execution_count": 2,
   "metadata": {
    "collapsed": false
   },
   "outputs": [
    {
     "name": "stdout",
     "output_type": "stream",
     "text": [
      "Importing Code.Utils.Names\n",
      "Importing Code.DataHandlers.NISTModels\n",
      "Importing Code.DataHandlers.GeneralModels\n",
      "Importing Code.DataHandlers.TouchstoneModels\n",
      "Importing Code.DataHandlers.XMLModels\n",
      "Importing Code.DataHandlers.RadiCALModels\n",
      "Importing Code.DataHandlers.ZipModels\n",
      "Importing Code.DataHandlers.Translations\n",
      "Importing Code.DataHandlers.StatistiCALModels\n",
      "Importing Code.DataHandlers.MUFModels\n",
      "Importing Code.Analysis.SParameter\n",
      "Importing Code.InstrumentControl.Instruments\n",
      "Importing Code.InstrumentControl.Experiments\n"
     ]
    }
   ],
   "source": [
    "# import \n",
    "import re\n",
    "import sys\n",
    "import os\n",
    "from pyMeasure import *\n",
    "from pyMeasure.Code.Analysis.NISTUncertainty import *\n",
    "import numpy as np"
   ]
  },
  {
   "cell_type": "code",
   "execution_count": 5,
   "metadata": {
    "collapsed": false
   },
   "outputs": [],
   "source": [
    "# import a raw data file \n",
    "raw_one_port=OnePortRawModel(os.path.join(TESTS_DIRECTORY,'OnePortRawTestFile.txt'))\n",
    "raw_one_port.show()"
   ]
  },
  {
   "cell_type": "code",
   "execution_count": 7,
   "metadata": {
    "collapsed": false
   },
   "outputs": [
    {
     "data": {
      "text/plain": [
       "{'Calibration_Date': '10 Aug 1998',\n",
       " 'Calibration_Name': 'C980810.a1',\n",
       " 'Connector_Type_Calibration': 'Type N Fem',\n",
       " 'Connector_Type_Measurement': 'Type N',\n",
       " 'Device_Description': 'n ck std open',\n",
       " 'Device_Id': 'CTN112',\n",
       " 'Measurement_Date': '8 Jun 2000',\n",
       " 'Measurement_Time': '16:27:53',\n",
       " 'Measurement_Type': '1-port',\n",
       " 'Nbs': '1',\n",
       " 'Number_Connects': '3',\n",
       " 'Number_Frequencies': '28',\n",
       " 'Number_Repeats': '1',\n",
       " 'Operator': 'afm',\n",
       " 'Port_Used': '1',\n",
       " 'Program_Revision': '960910.143',\n",
       " 'Program_Used': 'MEAS95',\n",
       " 'Start_Frequency': '7',\n",
       " 'System_Id': 'System I',\n",
       " 'System_Letter': 'A'}"
      ]
     },
     "execution_count": 7,
     "metadata": {},
     "output_type": "execute_result"
    }
   ],
   "source": [
    "raw_one_port.metadata"
   ]
  },
  {
   "cell_type": "code",
   "execution_count": 10,
   "metadata": {
    "collapsed": false
   },
   "outputs": [],
   "source": [
    "# now use the S_NIST function to create uncertainties\n",
    "uncertainty_list=[]\n",
    "uncertainty_mag=[]\n",
    "uncertainty_phase=[]\n",
    "for index,frequency in enumerate(raw_one_port.getColumn('Frequency')):\n",
    "    row=raw_one_port.data[index]\n",
    "    type_connector=raw_one_port.metadata[\"Connector_Type_Measurement\"]\n",
    "    arguments={'frequency':frequency,'parameter':'S11','magnitude':row[3],\n",
    "               'wr_connector_type':type_connector}\n",
    "    uncertainty=S_NIST(**arguments)\n",
    "    uncertainty_mag.append(uncertainty[0])\n",
    "    uncertainty_phase.append(uncertainty[1])\n",
    "    uncertainty_list.append(uncertainty)\n"
   ]
  },
  {
   "cell_type": "code",
   "execution_count": 15,
   "metadata": {
    "collapsed": true
   },
   "outputs": [],
   "source": [
    "import matplotlib.pyplot as plt\n",
    "frequency=raw_one_port.getColumn('Frequency')\n",
    "direct_calc=[10.0**(-3.327+.046*f) for f in frequency]\n",
    "plt.plot(frequency,uncertainty_mag)\n",
    "plt.plot(frequency,direct_calc)\n",
    "plt.show()\n"
   ]
  },
  {
   "cell_type": "code",
   "execution_count": 12,
   "metadata": {
    "collapsed": true
   },
   "outputs": [],
   "source": [
    "import matplotlib.pyplot as plt\n",
    "plt.plot(raw_one_port.getColumn('Frequency'),uncertainty_phase)\n",
    "plt.show()"
   ]
  },
  {
   "cell_type": "code",
   "execution_count": null,
   "metadata": {
    "collapsed": false
   },
   "outputs": [],
   "source": [
    "# now use the S_NIST function to create uncertainties\n",
    "b_uncertainty_list=[]\n",
    "b_uncertainty_mag=[]\n",
    "b_uncertainty_phase=[]\n",
    "\n",
    "for index,frequency in enumerate(raw_one_port.getColumn('Frequency')):\n",
    "    row=raw_one_port.data[index]\n",
    "    type_connector=raw_one_port.metadata[\"Connector_Type_Measurement\"]\n",
    "    arguments={'frequency':frequency,'parameter':'S11','magnitude':row[3],\n",
    "               'wr_connector_type':type_connector}\n",
    "    uncertainty=type_b(**arguments)\n",
    "    b_uncertainty_mag.append(uncertainty[0])\n",
    "    b_uncertainty_phase.append(uncertainty[1])\n",
    "    b_uncertainty_list.append(uncertainty)\n",
    "frequency=raw_one_port.getColumn('Frequency')\n",
    "plt.plot(frequency,b_uncertainty_mag)\n",
    "plt.show()"
   ]
  },
  {
   "cell_type": "code",
   "execution_count": 20,
   "metadata": {
    "collapsed": false
   },
   "outputs": [
    {
     "ename": "TypeError",
     "evalue": "object of type 'float' has no len()",
     "output_type": "error",
     "traceback": [
      "\u001b[1;31m---------------------------------------------------------------------------\u001b[0m",
      "\u001b[1;31mTypeError\u001b[0m                                 Traceback (most recent call last)",
      "\u001b[1;32m<ipython-input-20-f045b4e5b3c1>\u001b[0m in \u001b[0;36m<module>\u001b[1;34m()\u001b[0m\n\u001b[1;32m----> 1\u001b[1;33m \u001b[0mlen\u001b[0m\u001b[1;33m(\u001b[0m\u001b[0mfrequency\u001b[0m\u001b[1;33m)\u001b[0m\u001b[1;33m\u001b[0m\u001b[0m\n\u001b[0m",
      "\u001b[1;31mTypeError\u001b[0m: object of type 'float' has no len()"
     ]
    }
   ],
   "source": [
    "len(frequency)"
   ]
  },
  {
   "cell_type": "code",
   "execution_count": null,
   "metadata": {
    "collapsed": true
   },
   "outputs": [],
   "source": [
    "raw_one_port"
   ]
  },
  {
   "cell_type": "code",
   "execution_count": null,
   "metadata": {
    "collapsed": true
   },
   "outputs": [],
   "source": []
  }
 ],
 "metadata": {
  "kernelspec": {
   "display_name": "Python 2",
   "language": "python",
   "name": "python2"
  },
  "language_info": {
   "codemirror_mode": {
    "name": "ipython",
    "version": 2
   },
   "file_extension": ".py",
   "mimetype": "text/x-python",
   "name": "python",
   "nbconvert_exporter": "python",
   "pygments_lexer": "ipython2",
   "version": "2.7.12"
  }
 },
 "nbformat": 4,
 "nbformat_minor": 0
}
