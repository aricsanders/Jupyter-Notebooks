{
 "cells": [
  {
   "cell_type": "markdown",
   "metadata": {},
   "source": [
    "# Import of calrep files\n",
    "Written by Aric Sanders, 02/2016"
   ]
  },
  {
   "cell_type": "code",
   "execution_count": 3,
   "metadata": {
    "collapsed": false
   },
   "outputs": [],
   "source": [
    "# really need to add pyMeasure to site-packages for this to work properly\n",
    "import pyMeasure.Code.DataHandlers.NISTModels as NISTModels\n",
    "import pyMeasure.Code.DataHandlers.XMLModels as XMLModels\n",
    "# then the directory is NISTModels.TEST_DIRECTORY\n",
    "import os\n",
    "\n",
    "# File path for 670JH4\n",
    "file_path=os.path.join(XMLModels.TESTS_DIRECTORY,'CTNP13_sm_112907.txt')\n",
    "# File path for laptop\n",
    "#file_path=r'C:\\Users\\sandersa\\PyCharm Projects\\pyMeasureNew\\pyMeasure\\Code\\DataHandlers\\Tests\\CTNP13_sm_112907.txt'\n",
    "# Todo: make this a relative path\n",
    "in_file=open(file_path,'r')\n",
    "lines=[]\n",
    "for line in in_file:\n",
    "    lines.append(line)"
   ]
  },
  {
   "cell_type": "code",
   "execution_count": 4,
   "metadata": {
    "collapsed": false
   },
   "outputs": [
    {
     "data": {
      "text/plain": [
       "'CALREP OF FILES   CTNP13.M8_112707  CTNP13.M9_112707                  \\n'"
      ]
     },
     "execution_count": 4,
     "metadata": {},
     "output_type": "execute_result"
    }
   ],
   "source": [
    "lines[0]"
   ]
  },
  {
   "cell_type": "code",
   "execution_count": 5,
   "metadata": {
    "collapsed": false
   },
   "outputs": [
    {
     "name": "stdout",
     "output_type": "stream",
     "text": [
      "21\n"
     ]
    }
   ],
   "source": [
    "import re\n",
    "block_end=re.compile('/')\n",
    "for index,line in enumerate(lines):\n",
    "    if re.match(block_end,line):\n",
    "        last_block_comment_line=index\n",
    "print last_block_comment_line"
   ]
  },
  {
   "cell_type": "code",
   "execution_count": 6,
   "metadata": {
    "collapsed": true
   },
   "outputs": [],
   "source": [
    "columns_line=last_block_comment_line+2"
   ]
  },
  {
   "cell_type": "code",
   "execution_count": 7,
   "metadata": {
    "collapsed": false
   },
   "outputs": [
    {
     "data": {
      "text/plain": [
       "'Fghz Eff Cf udc us ua upm uad Uc Gamma Arg Pdut Mgtb Mgsn Mgsc Mgt Agtb Agsn Agsc Agt\\n'"
      ]
     },
     "execution_count": 7,
     "metadata": {},
     "output_type": "execute_result"
    }
   ],
   "source": [
    "lines[columns_line]"
   ]
  },
  {
   "cell_type": "code",
   "execution_count": 8,
   "metadata": {
    "collapsed": false
   },
   "outputs": [
    {
     "data": {
      "text/plain": [
       "'/\\n'"
      ]
     },
     "execution_count": 8,
     "metadata": {},
     "output_type": "execute_result"
    }
   ],
   "source": [
    "lines[last_block_comment_line]"
   ]
  },
  {
   "cell_type": "code",
   "execution_count": 9,
   "metadata": {
    "collapsed": true
   },
   "outputs": [],
   "source": [
    "column_names=lines[columns_line].split(' ')"
   ]
  },
  {
   "cell_type": "code",
   "execution_count": 8,
   "metadata": {
    "collapsed": false
   },
   "outputs": [
    {
     "name": "stdout",
     "output_type": "stream",
     "text": [
      "['Fghz', 'Eff', 'Cf', 'udc', 'us', 'ua', 'upm', 'uad', 'Uc', 'Gamma', 'Arg', 'Pdut', 'Mgtb', 'Mgsn', 'Mgsc', 'Mgt', 'Agtb', 'Agsn', 'Agsc', 'Agt\\n']\n"
     ]
    }
   ],
   "source": [
    "print column_names"
   ]
  },
  {
   "cell_type": "code",
   "execution_count": 10,
   "metadata": {
    "collapsed": false
   },
   "outputs": [
    {
     "data": {
      "text/plain": [
       "['CALREP OF FILES   CTNP13.M8_112707  CTNP13.M9_112707                  \\n',\n",
       " 'SUMMARY FILE c:/hpbasic/customer/N/CTNP13.sm_112907\\n',\n",
       " ' \\n',\n",
       " 'Results for 3 connects, using calibration file C071126.M1\\n',\n",
       " 'Device = CTNP13 w/CN49 kps\\n',\n",
       " 'Device ID = CTNP13\\n',\n",
       " 'Measurements made 27 Nov 2007   14:37:31\\n',\n",
       " 'Connector Type - N  Operator = afm\\n',\n",
       " 'Coupler Used = 23931_P3:  Type N, 0.05-18 GHz, port 3\\n',\n",
       " 'DUT Detector = Thermistor   With 200 Ohms Resistor\\n',\n",
       " 'Monitor Detector = Thermistor   With 200 Ohms Resistor\\n',\n",
       " '/\\n',\n",
       " ' \\n',\n",
       " 'Results for 3 connects, using calibration file C071127.M1\\n',\n",
       " 'Device = CTNP13 w/CN47 Kps\\n',\n",
       " 'Device ID = CTNP13\\n',\n",
       " 'Measurements made 27 Nov 2007   16:11:41\\n',\n",
       " 'Connector Type - N  Operator = afm\\n',\n",
       " 'Coupler Used = 23931_P2:  Type N, 0.05-18 GHz, port 2\\n',\n",
       " 'DUT Detector = Thermistor   With 200 Ohms Resistor\\n',\n",
       " 'Monitor Detector = Thermistor   With 200 Ohms Resistor\\n',\n",
       " '/\\n']"
      ]
     },
     "execution_count": 10,
     "metadata": {},
     "output_type": "execute_result"
    }
   ],
   "source": [
    "lines[0:last_block_comment_line+1]"
   ]
  },
  {
   "cell_type": "code",
   "execution_count": 11,
   "metadata": {
    "collapsed": true
   },
   "outputs": [],
   "source": [
    "def calrep_to_benchmark(file_path):\n",
    "    \"\"\"Creates a benchmark list given a calrep file. Benchmark format for a Data Table \n",
    "    (rectangular table with header) is [[Metadata list of strings],[Column Names],[list of Data Rows]]\"\"\"\n",
    "    in_file=open(file_path,'r')\n",
    "    lines=[]\n",
    "    for line in in_file:\n",
    "        lines.append(line)\n",
    "    block_end=re.compile('/')\n",
    "    for index,line in enumerate(lines):\n",
    "        if re.match(block_end,line):\n",
    "            last_block_comment_line=index \n",
    "    header=lines[0:last_block_comment_line+1]\n",
    "    columns_line=last_block_comment_line+2\n",
    "    column_names=lines[columns_line].split(' ')\n",
    "    data=lines[columns_line+1:-1]\n",
    "    return [header,column_names,data]\n"
   ]
  },
  {
   "cell_type": "code",
   "execution_count": null,
   "metadata": {
    "collapsed": true
   },
   "outputs": [],
   "source": [
    "    \"\"\"\"Converts The Jim Booth Format to list benchmark format for tables, [[Metadata list of strings],[Column Names],[\n",
    "    list of Data Rows]]\"\"\""
   ]
  },
  {
   "cell_type": "code",
   "execution_count": 12,
   "metadata": {
    "collapsed": true
   },
   "outputs": [],
   "source": [
    "out=calrep_to_benchmark(file_path)"
   ]
  },
  {
   "cell_type": "code",
   "execution_count": 13,
   "metadata": {
    "collapsed": false
   },
   "outputs": [
    {
     "name": "stdout",
     "output_type": "stream",
     "text": [
      "The slowest run took 4.17 times longer than the fastest. This could mean that an intermediate result is being cached \n",
      "1000 loops, best of 3: 282 µs per loop\n"
     ]
    }
   ],
   "source": [
    "%timeit calrep_to_benchmark(file_path)"
   ]
  },
  {
   "cell_type": "code",
   "execution_count": 14,
   "metadata": {
    "collapsed": false
   },
   "outputs": [
    {
     "name": "stdout",
     "output_type": "stream",
     "text": [
      "CALREP OF FILES   CTNP13.M8_112707  CTNP13.M9_112707                  \n",
      "\n",
      "SUMMARY FILE c:/hpbasic/customer/N/CTNP13.sm_112907\n",
      "\n",
      " \n",
      "\n",
      "Results for 3 connects, using calibration file C071126.M1\n",
      "\n",
      "Device = CTNP13 w/CN49 kps\n",
      "\n",
      "Device ID = CTNP13\n",
      "\n",
      "Measurements made 27 Nov 2007   14:37:31\n",
      "\n",
      "Connector Type - N  Operator = afm\n",
      "\n",
      "Coupler Used = 23931_P3:  Type N, 0.05-18 GHz, port 3\n",
      "\n",
      "DUT Detector = Thermistor   With 200 Ohms Resistor\n",
      "\n",
      "Monitor Detector = Thermistor   With 200 Ohms Resistor\n",
      "\n",
      "/\n",
      "\n",
      " \n",
      "\n",
      "Results for 3 connects, using calibration file C071127.M1\n",
      "\n",
      "Device = CTNP13 w/CN47 Kps\n",
      "\n",
      "Device ID = CTNP13\n",
      "\n",
      "Measurements made 27 Nov 2007   16:11:41\n",
      "\n",
      "Connector Type - N  Operator = afm\n",
      "\n",
      "Coupler Used = 23931_P2:  Type N, 0.05-18 GHz, port 2\n",
      "\n",
      "DUT Detector = Thermistor   With 200 Ohms Resistor\n",
      "\n",
      "Monitor Detector = Thermistor   With 200 Ohms Resistor\n",
      "\n",
      "/\n",
      "\n"
     ]
    }
   ],
   "source": [
    "for line in out[0]:\n",
    "    print line"
   ]
  },
  {
   "cell_type": "markdown",
   "metadata": {
    "collapsed": true
   },
   "source": [
    "## Now that we have it in Benchmark form we can begin to do other things with it"
   ]
  },
  {
   "cell_type": "code",
   "execution_count": 16,
   "metadata": {
    "collapsed": true
   },
   "outputs": [],
   "source": [
    "def string_list_collapse(list_of_strings):\n",
    "    \"\"\" Makes a list of strings a single string\"\"\"\n",
    "    out_string=''\n",
    "    for item in list_of_strings:\n",
    "        out_string=out_string+item\n",
    "    return out_string"
   ]
  },
  {
   "cell_type": "code",
   "execution_count": 17,
   "metadata": {
    "collapsed": false
   },
   "outputs": [],
   "source": [
    "import numpy as np\n",
    "def calrep_to_numpydata(file_path):\n",
    "    \"\"\"Creates a benchmark list given a calrep file. Benchmark format for a Data Table \n",
    "    (rectangular table with header) is [[Metadata list of strings],[Column Names],[list of Data Rows]]\"\"\"\n",
    "    in_file=open(file_path,'r')\n",
    "    lines=[]\n",
    "    for line in in_file:\n",
    "        lines.append(line)\n",
    "    block_end=re.compile('/')\n",
    "    for index,line in enumerate(lines):\n",
    "        if re.match(block_end,line):\n",
    "            last_block_comment_line=index \n",
    "    header=string_list_collapse(lines[0:last_block_comment_line+1])\n",
    "    columns_line=last_block_comment_line+2\n",
    "    column_names=lines[columns_line].split(' ')\n",
    "    data=np.loadtxt(file_path,skiprows=columns_line+1)\n",
    "    return [header,column_names,data]\n"
   ]
  },
  {
   "cell_type": "code",
   "execution_count": 18,
   "metadata": {
    "collapsed": false
   },
   "outputs": [
    {
     "ename": "NameError",
     "evalue": "global name 'lsit_of_strings' is not defined",
     "output_type": "error",
     "traceback": [
      "\u001b[1;31m---------------------------------------------------------------------------\u001b[0m",
      "\u001b[1;31mNameError\u001b[0m                                 Traceback (most recent call last)",
      "\u001b[1;32m<ipython-input-18-5c63d07be7f3>\u001b[0m in \u001b[0;36m<module>\u001b[1;34m()\u001b[0m\n\u001b[1;32m----> 1\u001b[1;33m \u001b[0mdata\u001b[0m\u001b[1;33m=\u001b[0m\u001b[0mcalrep_to_numpydata\u001b[0m\u001b[1;33m(\u001b[0m\u001b[0mfile_path\u001b[0m\u001b[1;33m)\u001b[0m\u001b[1;33m\u001b[0m\u001b[0m\n\u001b[0m",
      "\u001b[1;32m<ipython-input-17-e705dabe0137>\u001b[0m in \u001b[0;36mcalrep_to_numpydata\u001b[1;34m(file_path)\u001b[0m\n\u001b[0;32m     11\u001b[0m         \u001b[1;32mif\u001b[0m \u001b[0mre\u001b[0m\u001b[1;33m.\u001b[0m\u001b[0mmatch\u001b[0m\u001b[1;33m(\u001b[0m\u001b[0mblock_end\u001b[0m\u001b[1;33m,\u001b[0m\u001b[0mline\u001b[0m\u001b[1;33m)\u001b[0m\u001b[1;33m:\u001b[0m\u001b[1;33m\u001b[0m\u001b[0m\n\u001b[0;32m     12\u001b[0m             \u001b[0mlast_block_comment_line\u001b[0m\u001b[1;33m=\u001b[0m\u001b[0mindex\u001b[0m\u001b[1;33m\u001b[0m\u001b[0m\n\u001b[1;32m---> 13\u001b[1;33m     \u001b[0mheader\u001b[0m\u001b[1;33m=\u001b[0m\u001b[0mstring_list_collapse\u001b[0m\u001b[1;33m(\u001b[0m\u001b[0mlines\u001b[0m\u001b[1;33m[\u001b[0m\u001b[1;36m0\u001b[0m\u001b[1;33m:\u001b[0m\u001b[0mlast_block_comment_line\u001b[0m\u001b[1;33m+\u001b[0m\u001b[1;36m1\u001b[0m\u001b[1;33m]\u001b[0m\u001b[1;33m)\u001b[0m\u001b[1;33m\u001b[0m\u001b[0m\n\u001b[0m\u001b[0;32m     14\u001b[0m     \u001b[0mcolumns_line\u001b[0m\u001b[1;33m=\u001b[0m\u001b[0mlast_block_comment_line\u001b[0m\u001b[1;33m+\u001b[0m\u001b[1;36m2\u001b[0m\u001b[1;33m\u001b[0m\u001b[0m\n\u001b[0;32m     15\u001b[0m     \u001b[0mcolumn_names\u001b[0m\u001b[1;33m=\u001b[0m\u001b[0mlines\u001b[0m\u001b[1;33m[\u001b[0m\u001b[0mcolumns_line\u001b[0m\u001b[1;33m]\u001b[0m\u001b[1;33m.\u001b[0m\u001b[0msplit\u001b[0m\u001b[1;33m(\u001b[0m\u001b[1;34m' '\u001b[0m\u001b[1;33m)\u001b[0m\u001b[1;33m\u001b[0m\u001b[0m\n",
      "\u001b[1;32m<ipython-input-16-8c210453b9e8>\u001b[0m in \u001b[0;36mstring_list_collapse\u001b[1;34m(list_of_strings)\u001b[0m\n\u001b[0;32m      2\u001b[0m     \u001b[1;34m\"\"\" Makes a list of strings a single string\"\"\"\u001b[0m\u001b[1;33m\u001b[0m\u001b[0m\n\u001b[0;32m      3\u001b[0m     \u001b[0mout_string\u001b[0m\u001b[1;33m=\u001b[0m\u001b[1;34m''\u001b[0m\u001b[1;33m\u001b[0m\u001b[0m\n\u001b[1;32m----> 4\u001b[1;33m     \u001b[1;32mfor\u001b[0m \u001b[0mitem\u001b[0m \u001b[1;32min\u001b[0m \u001b[0mlsit_of_strings\u001b[0m\u001b[1;33m:\u001b[0m\u001b[1;33m\u001b[0m\u001b[0m\n\u001b[0m\u001b[0;32m      5\u001b[0m         \u001b[0mout_string\u001b[0m\u001b[1;33m=\u001b[0m\u001b[0mout_string\u001b[0m\u001b[1;33m+\u001b[0m\u001b[0mitem\u001b[0m\u001b[1;33m\u001b[0m\u001b[0m\n\u001b[0;32m      6\u001b[0m     \u001b[1;32mreturn\u001b[0m \u001b[0mout_string\u001b[0m\u001b[1;33m\u001b[0m\u001b[0m\n",
      "\u001b[1;31mNameError\u001b[0m: global name 'lsit_of_strings' is not defined"
     ]
    }
   ],
   "source": [
    "data=calrep_to_numpydata(file_path)"
   ]
  },
  {
   "cell_type": "code",
   "execution_count": null,
   "metadata": {
    "collapsed": true
   },
   "outputs": [],
   "source": [
    "def structure_calrep_metadata(calrep_header_list):\n",
    "    \"\"\" This function is designed to take a list of strings and structure it into a python dictionary. The \n",
    "    input should be soemthing like the header(metadata) element from the benchmark list of a calrep\"\"\"\n",
    "    \n",
    "    pass"
   ]
  }
 ],
 "metadata": {
  "kernelspec": {
   "display_name": "Python 2",
   "language": "python",
   "name": "python2"
  },
  "language_info": {
   "codemirror_mode": {
    "name": "ipython",
    "version": 2
   },
   "file_extension": ".py",
   "mimetype": "text/x-python",
   "name": "python",
   "nbconvert_exporter": "python",
   "pygments_lexer": "ipython2",
   "version": "2.7.11"
  }
 },
 "nbformat": 4,
 "nbformat_minor": 0
}
