{
 "cells": [
  {
   "cell_type": "markdown",
   "metadata": {},
   "source": [
    "# SVG Test\n",
    "Purpose: To test creating a black box diagram using svg in html document"
   ]
  },
  {
   "cell_type": "code",
   "execution_count": 1,
   "metadata": {
    "collapsed": false
   },
   "outputs": [
    {
     "name": "stdout",
     "output_type": "stream",
     "text": [
      "Importing Code.Analysis.Fitting\n",
      "Importing Code.Analysis.Interpolation\n",
      "Importing Code.Analysis.NISTUncertainty\n",
      "Importing Code.Analysis.SParameter\n",
      "The module smithplot was not found,please put it on the python path\n",
      "Importing Code.Analysis.Uncertainty\n",
      "Importing Code.DataHandlers.GeneralModels\n",
      "Importing Code.DataHandlers.GraphModels\n",
      "Importing Code.DataHandlers.HTMLModels\n",
      "Importing Code.DataHandlers.MUFModels\n",
      "Importing Code.DataHandlers.NISTModels\n",
      "Importing Code.DataHandlers.StatistiCALModels\n",
      "Importing Code.DataHandlers.TouchstoneModels\n",
      "The module smithplot was not found,please put it on the python path\n",
      "Importing Code.DataHandlers.Translations\n",
      "Importing Code.DataHandlers.XMLModels\n",
      "Importing Code.DataHandlers.ZipModels\n",
      "Importing Code.InstrumentControl.Experiments\n",
      "Importing Code.InstrumentControl.Instruments\n",
      "Importing Code.Utils.Names\n"
     ]
    }
   ],
   "source": [
    "from pyMeasure import *"
   ]
  },
  {
   "cell_type": "code",
   "execution_count": 123,
   "metadata": {
    "collapsed": true
   },
   "outputs": [],
   "source": [
    "new_html=HTMLBase()"
   ]
  },
  {
   "cell_type": "code",
   "execution_count": 124,
   "metadata": {
    "collapsed": true
   },
   "outputs": [],
   "source": [
    "new_html.add_body()\n",
    "new_html.add_head()"
   ]
  },
  {
   "cell_type": "code",
   "execution_count": 128,
   "metadata": {
    "collapsed": false
   },
   "outputs": [],
   "source": [
    "palette_width=1200\n",
    "palette_height=300\n",
    "title_height=100\n",
    "edge_border=5\n",
    "path_border=100\n",
    "thirds=round(palette_width/3.0)\n",
    "number_inputs=5\n",
    "number_outputs=2\n",
    "input_box_height=(palette_height-(number_inputs+1)*edge_border)/number_inputs\n",
    "ouput_box_height=(palette_height-(number_outputs+1)*edge_border)/number_outputs\n",
    "box_width=thirds-2*edge_border-path_border\n",
    "new_svg=make_html_element(tag=\"svg\",width=\"{0}\".format(palette_width),height=\"{0}\".format(palette_height+title_height),\n",
    "                          **{\"xmlns:xlink\":\"http://www.w3.org/1999/xlink\"})\n",
    "line_template=\"M {4} 0 l 0 {0} M {1} 0 l 0 {0} M {2} 0 l 0 {0} M {3} 0 l 0 {0} M 0 {0} l {3} 0 M 0 0 l {3} 0\"\n",
    "new_line=make_html_element(tag=\"path\",\n",
    "                           **{\"d\":line_template.format(palette_height,\n",
    "                                                       thirds,\n",
    "                                                       2*thirds,\n",
    "                                                       palette_width-border,\n",
    "                                                       border), \n",
    "                              \"stroke\":\"black\", \n",
    "                              \"stroke-width\":\"3\"})\n",
    "new_svg.append(new_line)\n",
    "for i in range(number_inputs):\n",
    "    new_rect=make_html_element(tag=\"rect\",**{\"x\":str(2*edge_border),\n",
    "                               \"y\":str(i*input_box_height+(i+1)*edge_border),\"height\":str(input_box_height),\n",
    "                               \"width\":str(box_width),\n",
    "                               \"stroke\":\"black\",\"id\":\"inputs-{0}\".format(i) ,\n",
    "                              \"stroke-width\":\"1\"})\n",
    "    \n",
    "    new_path=make_html_element(tag=\"path\",\n",
    "                           **{\"d\":\"M {0} {1} L {2} {3}\".format(2*edge_border+box_width,\n",
    "                                                               i*input_box_height+(i+1)*edge_border+input_box_height/2,\n",
    "                                                               path_border+thirds,palette_height/2.0),\n",
    "                              \"stroke\":\"black\", \n",
    "                              \"stroke-width\":\"1\"})\n",
    "    new_svg.append(new_path)\n",
    "    new_svg.append(new_rect)\n",
    "for i in range(number_outputs):\n",
    "    new_rect=make_html_element(tag=\"rect\",**{\"x\":str(path_border+2*thirds),\n",
    "                               \"y\":str(i*ouput_box_height+(i+1)*edge_border),\"height\":str(ouput_box_height),\n",
    "                               \"width\":str(box_width),\n",
    "                               \"stroke\":\"black\",\"id\":\"outputs-{0}\".format(i), \n",
    "                              \"stroke-width\":\"1\"})\n",
    "    \n",
    "    new_path=make_html_element(tag=\"path\",\n",
    "                           **{\"d\":\"M {0} {1} L {2} {3}\".format(2*thirds-path_border,\n",
    "                                                               palette_height/2.0,\n",
    "                                                               path_border+2*thirds,\n",
    "                                                               i*ouput_box_height+(i+1)*edge_border+ouput_box_height/2),\n",
    "                              \"stroke\":\"black\", \n",
    "                              \"stroke-width\":\"1\"})\n",
    "    \n",
    "    new_svg.append(new_path)\n",
    "    new_svg.append(new_rect)    \n",
    "    \n",
    "new_rect=make_html_element(tag=\"rect\",**{\"x\":str(path_border+thirds),\n",
    "                               \"y\":str(edge_border),\"height\":str(palette_height-2*edge_border),\n",
    "                               \"width\":str(thirds-2*path_border),\"id\":\"Action\",\n",
    "                               \"stroke\":\"black\", \n",
    "                              \"stroke-width\":\"1\"})\n",
    "inputs_title=make_html_element(tag=\"text\",text=\"Inputs\",**{\"x\":str(thirds/2),\n",
    "                               \"y\":str(palette_height+title_height/2),\n",
    "                                          \"font-weight\":\"bold\",\n",
    "                                          \"font-size\":\"{0}px\".format(title_height/3),\n",
    "                                           \"text-anchor\":\"middle\",\n",
    "                                           \"alignment-baseline\":\"middle\",\n",
    "                                            \"text-decoration\":\"underline\"})\n",
    "action_title=make_html_element(tag=\"text\",text=\"Action\",**{\"x\":str(3*thirds/2),\n",
    "                               \"y\":str(palette_height+title_height/2),\n",
    "                                          \"font-weight\":\"bold\",\n",
    "                                          \"font-size\":\"{0}px\".format(title_height/3),\n",
    "                                           \"text-anchor\":\"middle\",\n",
    "                                           \"alignment-baseline\":\"middle\",\n",
    "                                            \"text-decoration\":\"underline\"})\n",
    "output_title=make_html_element(tag=\"text\",text=\"Outputs\",**{\"x\":str(5*thirds/2),\n",
    "                               \"y\":str(palette_height+title_height/2),\n",
    "                                          \"font-weight\":\"bold\",\n",
    "                                          \"font-size\":\"{0}px\".format(title_height/3),\n",
    "                                           \"text-anchor\":\"middle\",\n",
    "                                           \"alignment-baseline\":\"middle\",\n",
    "                                            \"text-decoration\":\"underline\"})\n",
    "new_svg.append(inputs_title)\n",
    "new_svg.append(action_title)\n",
    "new_svg.append(output_title)\n",
    "new_svg.append(new_rect)"
   ]
  },
  {
   "cell_type": "code",
   "execution_count": 129,
   "metadata": {
    "collapsed": true
   },
   "outputs": [],
   "source": [
    "new_html.append_to_body({\"tag\":\"br\"})\n",
    "new_html.append_to_body(new_svg)"
   ]
  },
  {
   "cell_type": "code",
   "execution_count": 130,
   "metadata": {
    "collapsed": false
   },
   "outputs": [
    {
     "name": "stdout",
     "output_type": "stream",
     "text": [
      "file://c:/users/sandersa/appdata/local/temp/1/tmpuas2v1.html\n"
     ]
    }
   ],
   "source": [
    "new_html.show()"
   ]
  },
  {
   "cell_type": "code",
   "execution_count": 132,
   "metadata": {
    "collapsed": false
   },
   "outputs": [
    {
     "name": "stdout",
     "output_type": "stream",
     "text": [
      "Help on function make_html_element in module pyMeasure.Code.DataHandlers.HTMLModels:\n",
      "\n",
      "make_html_element(tag, text=None, **attribute_dictionary)\n",
      "    Creates an lxml.html.HtmlElement given a tag, text and attribute dictionary\n",
      "    <tag key1=\"value2\" key2=\"value2\">text</tag>\n",
      "\n"
     ]
    }
   ],
   "source": [
    "help(\"make_html_element)"
   ]
  },
  {
   "cell_type": "code",
   "execution_count": 140,
   "metadata": {
    "collapsed": false
   },
   "outputs": [
    {
     "name": "stdout",
     "output_type": "stream",
     "text": [
      "def make_html_element(tag,text=None,**attribute_dictionary):\n",
      "    \"\"\"Creates an lxml.html.HtmlElement given a tag, text and attribute dictionary\n",
      "     <tag key1=\"value2\" key2=\"value2\">text</tag> \"\"\"\n",
      "    position_arguments=[tag]\n",
      "    if text:\n",
      "        position_arguments.append(text)\n",
      "    new_tag=lxml.html.builder.E(*position_arguments,**attribute_dictionary)\n",
      "    return new_tag\n",
      "\n",
      "ArgSpec(args=['tag', 'text'], varargs=None, keywords='attribute_dictionary', defaults=(None,))\n"
     ]
    },
    {
     "ename": "AttributeError",
     "evalue": "'HtmlElement' object has no attribute 'f_code'",
     "output_type": "error",
     "traceback": [
      "\u001b[0;31m---------------------------------------------------------------------------\u001b[0m",
      "\u001b[0;31mAttributeError\u001b[0m                            Traceback (most recent call last)",
      "\u001b[0;32m<ipython-input-140-435d39a4c7f8>\u001b[0m in \u001b[0;36m<module>\u001b[0;34m()\u001b[0m\n\u001b[1;32m      8\u001b[0m                                            \u001b[1;34m\"text-anchor\"\u001b[0m\u001b[1;33m:\u001b[0m\u001b[1;34m\"middle\"\u001b[0m\u001b[1;33m,\u001b[0m\u001b[1;33m\u001b[0m\u001b[0m\n\u001b[1;32m      9\u001b[0m                                            \u001b[1;34m\"alignment-baseline\"\u001b[0m\u001b[1;33m:\u001b[0m\u001b[1;34m\"middle\"\u001b[0m\u001b[1;33m,\u001b[0m\u001b[1;33m\u001b[0m\u001b[0m\n\u001b[0;32m---> 10\u001b[0;31m                                             \"text-decoration\":\"underline\"}))\n\u001b[0m",
      "\u001b[0;32mC:\\ProgramData\\Anaconda2\\lib\\inspect.py\u001b[0m in \u001b[0;36mgetargvalues\u001b[0;34m(frame)\u001b[0m\n\u001b[1;32m    826\u001b[0m     \u001b[1;34m'varargs'\u001b[0m \u001b[1;32mand\u001b[0m \u001b[1;34m'varkw'\u001b[0m \u001b[0mare\u001b[0m \u001b[0mthe\u001b[0m \u001b[0mnames\u001b[0m \u001b[0mof\u001b[0m \u001b[0mthe\u001b[0m \u001b[1;33m*\u001b[0m \u001b[1;32mand\u001b[0m \u001b[1;33m**\u001b[0m \u001b[0marguments\u001b[0m \u001b[1;32mor\u001b[0m \u001b[0mNone\u001b[0m\u001b[1;33m.\u001b[0m\u001b[1;33m\u001b[0m\u001b[0m\n\u001b[1;32m    827\u001b[0m     'locals' is the locals dictionary of the given frame.\"\"\"\n\u001b[0;32m--> 828\u001b[0;31m     \u001b[0margs\u001b[0m\u001b[1;33m,\u001b[0m \u001b[0mvarargs\u001b[0m\u001b[1;33m,\u001b[0m \u001b[0mvarkw\u001b[0m \u001b[1;33m=\u001b[0m \u001b[0mgetargs\u001b[0m\u001b[1;33m(\u001b[0m\u001b[0mframe\u001b[0m\u001b[1;33m.\u001b[0m\u001b[0mf_code\u001b[0m\u001b[1;33m)\u001b[0m\u001b[1;33m\u001b[0m\u001b[0m\n\u001b[0m\u001b[1;32m    829\u001b[0m     \u001b[1;32mreturn\u001b[0m \u001b[0mArgInfo\u001b[0m\u001b[1;33m(\u001b[0m\u001b[0margs\u001b[0m\u001b[1;33m,\u001b[0m \u001b[0mvarargs\u001b[0m\u001b[1;33m,\u001b[0m \u001b[0mvarkw\u001b[0m\u001b[1;33m,\u001b[0m \u001b[0mframe\u001b[0m\u001b[1;33m.\u001b[0m\u001b[0mf_locals\u001b[0m\u001b[1;33m)\u001b[0m\u001b[1;33m\u001b[0m\u001b[0m\n\u001b[1;32m    830\u001b[0m \u001b[1;33m\u001b[0m\u001b[0m\n",
      "\u001b[0;31mAttributeError\u001b[0m: 'HtmlElement' object has no attribute 'f_code'"
     ]
    }
   ],
   "source": [
    "import inspect\n",
    "print inspect.getsource(make_html_element)\n",
    "print inspect.getargspec(make_html_element)\n"
   ]
  },
  {
   "cell_type": "code",
   "execution_count": 144,
   "metadata": {
    "collapsed": true
   },
   "outputs": [],
   "source": [
    "def svg_example(function):\n",
    "    \"\"\"Timer is meant to be a decorator for a function or method that prints its time\"\"\"\n",
    "\n",
    "    def svg_out(*args,**keywordargs):\n",
    "        number_inputs=len(args)+len(keywordargs)\n",
    "        print(number_inputs)\n",
    "        for arg\n",
    "        result=function(*args,**keywordargs)\n",
    "        if type(result) in [ListType,DictionaryType] and len(result)<5:\n",
    "            number_outputs=len(result)\n",
    "        \n",
    "        print(result)    \n",
    "        action_code=inspect.getsource(function)\n",
    "        print(action_code)\n",
    "        return result\n",
    "\n",
    "    return svg_out\n",
    "@svg_example\n",
    "def make_html_element_decorated(tag,text=None,**attribute_dictionary):\n",
    "    \"\"\"Creates an lxml.html.HtmlElement given a tag, text and attribute dictionary\n",
    "     <tag key1=\"value2\" key2=\"value2\">text</tag> \"\"\"\n",
    "    position_arguments=[tag]\n",
    "    if text:\n",
    "        position_arguments.append(text)\n",
    "    new_tag=lxml.html.builder.E(*position_arguments,**attribute_dictionary)\n",
    "    return new_tag"
   ]
  },
  {
   "cell_type": "code",
   "execution_count": 145,
   "metadata": {
    "collapsed": false
   },
   "outputs": [
    {
     "name": "stdout",
     "output_type": "stream",
     "text": [
      "9\n",
      "<Element text at 0x11bff318>\n",
      "@svg_example\n",
      "def make_html_element_decorated(tag,text=None,**attribute_dictionary):\n",
      "    \"\"\"Creates an lxml.html.HtmlElement given a tag, text and attribute dictionary\n",
      "     <tag key1=\"value2\" key2=\"value2\">text</tag> \"\"\"\n",
      "    position_arguments=[tag]\n",
      "    if text:\n",
      "        position_arguments.append(text)\n",
      "    new_tag=lxml.html.builder.E(*position_arguments,**attribute_dictionary)\n",
      "    return new_tag\n",
      "\n"
     ]
    },
    {
     "data": {
      "text/plain": [
       "<Element text at 0x11bff318>"
      ]
     },
     "execution_count": 145,
     "metadata": {},
     "output_type": "execute_result"
    }
   ],
   "source": [
    "make_html_element_decorated(tag=\"text\",text=\"Outputs\",**{\"x\":str(5*thirds/2),\n",
    "                               \"y\":str(palette_height+title_height/2),\n",
    "                                          \"font-weight\":\"bold\",\n",
    "                                          \"font-size\":\"{0}px\".format(title_height/3),\n",
    "                                           \"text-anchor\":\"middle\",\n",
    "                                           \"alignment-baseline\":\"middle\",\n",
    "                                            \"text-decoration\":\"underline\"})"
   ]
  },
  {
   "cell_type": "code",
   "execution_count": 146,
   "metadata": {
    "collapsed": false
   },
   "outputs": [
    {
     "data": {
      "text/plain": [
       "2"
      ]
     },
     "execution_count": 146,
     "metadata": {},
     "output_type": "execute_result"
    }
   ],
   "source": [
    "len({\"x\":1,\"y\":2})"
   ]
  },
  {
   "cell_type": "code",
   "execution_count": null,
   "metadata": {
    "collapsed": true
   },
   "outputs": [],
   "source": [
    "def create_svg_example(function,arguments=(None,None),output_format_function=None,**options):\n",
    "    \"\"\"Creates a svg example image, linking the real value of the input arguments to the name of the arguments using \n",
    "    data uri's arguments should be in the form arguments=(*args,**keywordargs) where args is a list and keywordargs is a \n",
    "    dictionary\"\"\"\n",
    "    defaults={\"image_width\":1200,\"image_height\":300,\"title_height\":100,\"edge_border\":5,\"path_border\":100,\n",
    "              \"grid_style\":\"stroke:black;stroke-width:5;\",\n",
    "              \"input_box_style\":\"\",\n",
    "              \"input_line_style\":\"\",\n",
    "              \"action_box_style\":\"\",\n",
    "              \"ouput_line_style\":\"\",\n",
    "              \"output_box_style\":\"\",\n",
    "              \"text\"\n",
    "              \n",
    "             }\n",
    "    example_options={}\n",
    "    for key,value in defaults.iteritems():\n",
    "        example_options[key]=value\n",
    "    for key,value in options:\n",
    "        example_options[key]=value\n",
    "    number_inputs=0\n",
    "    if arguments[0] is not None:\n",
    "        number_inputs=len(arguments[0])\n",
    "    if arguments[1] is not None:\n",
    "        number_inputs=number_inputs+len(arguments[1])\n",
    "    output=function(*arguments[0],**arguments[1])\n",
    "    if type(output) in [StringType,DictionaryType] and len(output)<5:\n",
    "        number_outputs=len(output)\n",
    "    else:\n",
    "        number_ouputs=1\n",
    "    action_code=inspect.getsource(function)    \n",
    "    palette_width=example_options[\"image_width\"]\n",
    "    palette_height=example_options[\"image_height\"]\n",
    "    title_height=example_options[\"title_height\"]\n",
    "    edge_border=example_options[\"edge_border\"]\n",
    "    path_border=example_options[\"path_border\"]\n",
    "    thirds=round(palette_width/3.0)\n",
    "    input_box_height=(palette_height-(number_inputs+1)*edge_border)/number_inputs\n",
    "    ouput_box_height=(palette_height-(number_outputs+1)*edge_border)/number_outputs\n",
    "    box_width=thirds-2*edge_border-path_border\n",
    "    new_svg=make_html_element(tag=\"svg\",width=\"{0}\".format(palette_width),height=\"{0}\".format(palette_height+title_height),\n",
    "                              **{\"xmlns:xlink\":\"http://www.w3.org/1999/xlink\"})\n",
    "    line_template=\"M {4} 0 l 0 {0} M {1} 0 l 0 {0} M {2} 0 l 0 {0} M {3} 0 l 0 {0} M 0 {0} l {3} 0 M 0 0 l {3} 0\"\n",
    "    new_line=make_html_element(tag=\"path\",\n",
    "                               **{\"d\":line_template.format(palette_height,\n",
    "                                                           thirds,\n",
    "                                                           2*thirds,\n",
    "                                                           palette_width-border,\n",
    "                                                           border), \n",
    "                                  \"style\":example_options[\"grid_style\"]})\n",
    "    new_svg.append(new_line)\n",
    "    for i in range(number_inputs):\n",
    "        new_rect=make_html_element(tag=\"rect\",**{\"x\":str(2*edge_border),\n",
    "                                   \"y\":str(i*input_box_height+(i+1)*edge_border),\"height\":str(input_box_height),\n",
    "                                   \"width\":str(box_width),\n",
    "                                   \"stroke\":\"black\",\"id\":\"inputs-{0}\".format(i) ,\n",
    "                                  \"stroke-width\":\"1\"})\n",
    "\n",
    "        new_path=make_html_element(tag=\"path\",\n",
    "                               **{\"d\":\"M {0} {1} L {2} {3}\".format(2*edge_border+box_width,\n",
    "                                                                   i*input_box_height+(i+1)*edge_border+input_box_height/2,\n",
    "                                                                   path_border+thirds,palette_height/2.0),\n",
    "                                  \"stroke\":\"black\", \n",
    "                                  \"stroke-width\":\"1\"})\n",
    "        new_svg.append(new_path)\n",
    "        new_svg.append(new_rect)\n",
    "    for i in range(number_outputs):\n",
    "        new_rect=make_html_element(tag=\"rect\",**{\"x\":str(path_border+2*thirds),\n",
    "                                   \"y\":str(i*ouput_box_height+(i+1)*edge_border),\"height\":str(ouput_box_height),\n",
    "                                   \"width\":str(box_width),\n",
    "                                   \"stroke\":\"black\",\"id\":\"outputs-{0}\".format(i), \n",
    "                                  \"stroke-width\":\"1\"})\n",
    "\n",
    "        new_path=make_html_element(tag=\"path\",\n",
    "                               **{\"d\":\"M {0} {1} L {2} {3}\".format(2*thirds-path_border,\n",
    "                                                                   palette_height/2.0,\n",
    "                                                                   path_border+2*thirds,\n",
    "                                                                   i*ouput_box_height+(i+1)*edge_border+ouput_box_height/2),\n",
    "                                  \"stroke\":\"black\", \n",
    "                                  \"stroke-width\":\"1\"})\n",
    "\n",
    "        new_svg.append(new_path)\n",
    "        new_svg.append(new_rect)    \n",
    "\n",
    "    new_rect=make_html_element(tag=\"rect\",**{\"x\":str(path_border+thirds),\n",
    "                                   \"y\":str(edge_border),\"height\":str(palette_height-2*edge_border),\n",
    "                                   \"width\":str(thirds-2*path_border),\"id\":\"Action\",\n",
    "                                   \"stroke\":\"black\", \n",
    "                                  \"stroke-width\":\"1\"})\n",
    "    inputs_title=make_html_element(tag=\"text\",text=\"Inputs\",**{\"x\":str(thirds/2),\n",
    "                                   \"y\":str(palette_height+title_height/2),\n",
    "                                              \"font-weight\":\"bold\",\n",
    "                                              \"font-size\":\"{0}px\".format(title_height/3),\n",
    "                                               \"text-anchor\":\"middle\",\n",
    "                                               \"alignment-baseline\":\"middle\",\n",
    "                                                \"text-decoration\":\"underline\"})\n",
    "    action_title=make_html_element(tag=\"text\",text=\"Action\",**{\"x\":str(3*thirds/2),\n",
    "                                   \"y\":str(palette_height+title_height/2),\n",
    "                                              \"font-weight\":\"bold\",\n",
    "                                              \"font-size\":\"{0}px\".format(title_height/3),\n",
    "                                               \"text-anchor\":\"middle\",\n",
    "                                               \"alignment-baseline\":\"middle\",\n",
    "                                                \"text-decoration\":\"underline\"})\n",
    "    output_title=make_html_element(tag=\"text\",text=\"Outputs\",**{\"x\":str(5*thirds/2),\n",
    "                                   \"y\":str(palette_height+title_height/2),\n",
    "                                              \"font-weight\":\"bold\",\n",
    "                                              \"font-size\":\"{0}px\".format(title_height/3),\n",
    "                                               \"text-anchor\":\"middle\",\n",
    "                                               \"alignment-baseline\":\"middle\",\n",
    "                                                \"text-decoration\":\"underline\"})\n",
    "    new_svg.append(inputs_title)\n",
    "    new_svg.append(action_title)\n",
    "    new_svg.append(output_title)\n",
    "    new_svg.append(new_rect)\n",
    "    "
   ]
  }
 ],
 "metadata": {
  "kernelspec": {
   "display_name": "Python 2",
   "language": "python",
   "name": "python2"
  },
  "language_info": {
   "codemirror_mode": {
    "name": "ipython",
    "version": 2
   },
   "file_extension": ".py",
   "mimetype": "text/x-python",
   "name": "python",
   "nbconvert_exporter": "python",
   "pygments_lexer": "ipython2",
   "version": "2.7.13"
  }
 },
 "nbformat": 4,
 "nbformat_minor": 2
}
