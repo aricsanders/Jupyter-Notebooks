{
 "cells": [
  {
   "cell_type": "markdown",
   "metadata": {},
   "source": [
    "# MUF Models Example"
   ]
  },
  {
   "cell_type": "code",
   "execution_count": 1,
   "metadata": {
    "collapsed": false
   },
   "outputs": [
    {
     "name": "stdout",
     "output_type": "stream",
     "text": [
      "Importing pyMeasure, this should take roughly 30 seconds\n"
     ]
    }
   ],
   "source": [
    "from pyMeasure import *"
   ]
  },
  {
   "cell_type": "code",
   "execution_count": 2,
   "metadata": {
    "collapsed": true
   },
   "outputs": [],
   "source": [
    "from pyMeasure.Code.DataHandlers.MUFModels import * "
   ]
  },
  {
   "cell_type": "code",
   "execution_count": 4,
   "metadata": {
    "collapsed": true
   },
   "outputs": [],
   "source": [
    "# First we import a vnauncert menu\n",
    "vnauncert=MUFVNAUncert(r\"C:\\Share\\MUF_FILES\\SOL_new.vnauncert_archive\")"
   ]
  },
  {
   "cell_type": "code",
   "execution_count": 3,
   "metadata": {
    "collapsed": false
   },
   "outputs": [
    {
     "name": "stdout",
     "output_type": "stream",
     "text": [
      "Parameter value is 49.586\n",
      "Parameter distribution type is Rectangular\n"
     ]
    },
    {
     "ename": "AttributeError",
     "evalue": "'list' object has no attribute 'attrib'",
     "output_type": "error",
     "traceback": [
      "\u001b[0;31m---------------------------------------------------------------------------\u001b[0m",
      "\u001b[0;31mAttributeError\u001b[0m                            Traceback (most recent call last)",
      "\u001b[0;32m<ipython-input-3-1134680eb5ab>\u001b[0m in \u001b[0;36m<module>\u001b[0;34m()\u001b[0m\n\u001b[1;32m      2\u001b[0m \u001b[1;32mprint\u001b[0m\u001b[1;33m(\u001b[0m\u001b[1;34m\"Parameter value is {0}\"\u001b[0m\u001b[1;33m.\u001b[0m\u001b[0mformat\u001b[0m\u001b[1;33m(\u001b[0m\u001b[0mparameter\u001b[0m\u001b[1;33m.\u001b[0m\u001b[0mget_value\u001b[0m\u001b[1;33m(\u001b[0m\u001b[1;33m)\u001b[0m\u001b[1;33m)\u001b[0m\u001b[1;33m)\u001b[0m\u001b[1;33m\u001b[0m\u001b[0m\n\u001b[1;32m      3\u001b[0m \u001b[1;32mprint\u001b[0m\u001b[1;33m(\u001b[0m\u001b[1;34m\"Parameter distribution type is {0}\"\u001b[0m\u001b[1;33m.\u001b[0m\u001b[0mformat\u001b[0m\u001b[1;33m(\u001b[0m\u001b[0mparameter\u001b[0m\u001b[1;33m.\u001b[0m\u001b[0mget_distribution_type\u001b[0m\u001b[1;33m(\u001b[0m\u001b[1;33m)\u001b[0m\u001b[1;33m)\u001b[0m\u001b[1;33m)\u001b[0m\u001b[1;33m\u001b[0m\u001b[0m\n\u001b[0;32m----> 4\u001b[0;31m \u001b[1;32mprint\u001b[0m\u001b[1;33m(\u001b[0m\u001b[1;34m\"Parameter width  is {0}\"\u001b[0m\u001b[1;33m.\u001b[0m\u001b[0mformat\u001b[0m\u001b[1;33m(\u001b[0m\u001b[0mparameter\u001b[0m\u001b[1;33m.\u001b[0m\u001b[0mget_distribution_width\u001b[0m\u001b[1;33m(\u001b[0m\u001b[1;33m)\u001b[0m\u001b[1;33m)\u001b[0m\u001b[1;33m)\u001b[0m\u001b[1;33m\u001b[0m\u001b[0m\n\u001b[0m\u001b[1;32m      5\u001b[0m \u001b[1;32mprint\u001b[0m\u001b[1;33m(\u001b[0m\u001b[1;34m\"Parameter units  are {0}\"\u001b[0m\u001b[1;33m.\u001b[0m\u001b[0mformat\u001b[0m\u001b[1;33m(\u001b[0m\u001b[0mparameter\u001b[0m\u001b[1;33m.\u001b[0m\u001b[0mget_units\u001b[0m\u001b[1;33m(\u001b[0m\u001b[1;33m)\u001b[0m\u001b[1;33m)\u001b[0m\u001b[1;33m)\u001b[0m\u001b[1;33m\u001b[0m\u001b[0m\n",
      "\u001b[0;32mC:\\ProgramData\\Anaconda2\\lib\\site-packages\\pyMeasure\\Code\\DataHandlers\\MUFModels.py\u001b[0m in \u001b[0;36mget_distribution_width\u001b[0;34m(self)\u001b[0m\n\u001b[1;32m     60\u001b[0m         \u001b[1;34m\"\"\"Returns the wdith of the distribution.\"\"\"\u001b[0m\u001b[1;33m\u001b[0m\u001b[0m\n\u001b[1;32m     61\u001b[0m         \u001b[0mdistribution_width\u001b[0m\u001b[1;33m=\u001b[0m\u001b[0mself\u001b[0m\u001b[1;33m.\u001b[0m\u001b[0metree\u001b[0m\u001b[1;33m.\u001b[0m\u001b[0mfindall\u001b[0m\u001b[1;33m(\u001b[0m\u001b[1;34m\".//DistributionLimits\"\u001b[0m\u001b[1;33m)\u001b[0m\u001b[1;33m\u001b[0m\u001b[0m\n\u001b[0;32m---> 62\u001b[0;31m         \u001b[0mtext\u001b[0m\u001b[1;33m=\u001b[0m\u001b[0mdistribution_width\u001b[0m\u001b[1;33m.\u001b[0m\u001b[0mattrib\u001b[0m\u001b[1;33m[\u001b[0m\u001b[1;34m\"ControlText\"\u001b[0m\u001b[1;33m]\u001b[0m\u001b[1;33m\u001b[0m\u001b[0m\n\u001b[0m\u001b[1;32m     63\u001b[0m         \u001b[1;32mreturn\u001b[0m \u001b[0mtext\u001b[0m\u001b[1;33m\u001b[0m\u001b[0m\n\u001b[1;32m     64\u001b[0m \u001b[1;33m\u001b[0m\u001b[0m\n",
      "\u001b[0;31mAttributeError\u001b[0m: 'list' object has no attribute 'attrib'"
     ]
    }
   ],
   "source": [
    "parameter=MUFParameter(r\"C:\\Share\\35CalComp\\Standards\\Parameters\\AL3504_Length.parameter\")\n",
    "print(\"Parameter value is {0}\".format(parameter.get_value()))\n",
    "print(\"Parameter distribution type is {0}\".format(parameter.get_distribution_type()))\n",
    "print(\"Parameter width  is {0}\".format(parameter.get_distribution_width()))\n",
    "print(\"Parameter units  are {0}\".format(parameter.get_units()))"
   ]
  },
  {
   "cell_type": "code",
   "execution_count": 7,
   "metadata": {
    "collapsed": false
   },
   "outputs": [
    {
     "data": {
      "text/plain": [
       "'<MechanismValue ControlText=\"49.586\" ControlType=\"System.Windows.Forms.TextBox\" Enabled=\"True\" FullName=\"Me_GroupBox2_MechanismValue\" Visible=\"True\"/>\\n    '"
      ]
     },
     "execution_count": 7,
     "metadata": {},
     "output_type": "execute_result"
    }
   ],
   "source": [
    "parameter[\".//MechanismValue\"]"
   ]
  },
  {
   "cell_type": "code",
   "execution_count": null,
   "metadata": {
    "collapsed": true
   },
   "outputs": [],
   "source": []
  },
  {
   "cell_type": "code",
   "execution_count": 5,
   "metadata": {
    "collapsed": false
   },
   "outputs": [
    {
     "data": {
      "text/plain": [
       "'C:\\\\Data\\\\UncertDemo\\\\UncertaintyAnalysis_SOL_OnePort'"
      ]
     },
     "execution_count": 5,
     "metadata": {},
     "output_type": "execute_result"
    }
   ],
   "source": [
    "# now we can find the results directory\n",
    "vnauncert.get_results_directory()"
   ]
  },
  {
   "cell_type": "code",
   "execution_count": 6,
   "metadata": {
    "collapsed": true
   },
   "outputs": [],
   "source": [
    "# If we want to change it \n",
    "vnauncert.set_results_directory(\"C:\\\\Share\\\\MUF_FILES\\\\NewArchive2\")"
   ]
  },
  {
   "cell_type": "code",
   "execution_count": 7,
   "metadata": {
    "collapsed": true
   },
   "outputs": [],
   "source": [
    "# Now we can save the archive\n",
    "vnauncert.save(\"C:\\\\Share\\\\test2.vnauncert_archive\")"
   ]
  },
  {
   "cell_type": "code",
   "execution_count": 8,
   "metadata": {
    "collapsed": false
   },
   "outputs": [
    {
     "name": "stdout",
     "output_type": "stream",
     "text": [
      "VNAUncertainty finished running  at 2017-10-02 20:17:09.071000\n",
      "The script took 3 seconds to run\n"
     ]
    }
   ],
   "source": [
    "# we can run the new archive\n",
    "run_muf_script(\"C:\\\\Share\\\\test2.vnauncert_archive\")"
   ]
  },
  {
   "cell_type": "code",
   "execution_count": 8,
   "metadata": {
    "collapsed": false
   },
   "outputs": [],
   "source": [
    "#vnauncert.save(\"C:\\\\Share\\\\test3.vnauncert_archive\")"
   ]
  },
  {
   "cell_type": "code",
   "execution_count": 9,
   "metadata": {
    "collapsed": false
   },
   "outputs": [
    {
     "name": "stdout",
     "output_type": "stream",
     "text": [
      "VNAUncertainty finished running  at 2017-10-02 20:17:14.920000\n",
      "The script took 1 seconds to run\n"
     ]
    }
   ],
   "source": [
    "run_muf_script(\"C:\\\\Share\\\\test3.vnauncert_archive\")"
   ]
  },
  {
   "cell_type": "code",
   "execution_count": 10,
   "metadata": {
    "collapsed": false
   },
   "outputs": [
    {
     "data": {
      "text/plain": [
       "'C:\\\\Share\\\\MUF_FILES\\\\NewArchive2'"
      ]
     },
     "execution_count": 10,
     "metadata": {},
     "output_type": "execute_result"
    }
   ],
   "source": [
    "vnauncert.get_results_directory()"
   ]
  },
  {
   "cell_type": "code",
   "execution_count": 11,
   "metadata": {
    "collapsed": false
   },
   "outputs": [
    {
     "name": "stdout",
     "output_type": "stream",
     "text": [
      "<ResultsDirectory Enabled=\"True\" Text=\"C:\\Share\\MUF_FILES\\NewArchive2\"/>\n",
      "    \n"
     ]
    }
   ],
   "source": [
    "print vnauncert[\".//ResultsDirectory\"]"
   ]
  },
  {
   "cell_type": "code",
   "execution_count": 12,
   "metadata": {
    "collapsed": true
   },
   "outputs": [],
   "source": [
    "vnauncert_2=MUFVNAUncert(\"C:\\\\Share\\\\test3.vnauncert_archive\")"
   ]
  },
  {
   "cell_type": "code",
   "execution_count": 13,
   "metadata": {
    "collapsed": false
   },
   "outputs": [
    {
     "name": "stdout",
     "output_type": "stream",
     "text": [
      "<ResultsDirectory Enabled=\"True\" Text=\"C:\\Share\\MUF_FILES\"/>\n",
      "    \n"
     ]
    }
   ],
   "source": [
    "print vnauncert_2[\".//ResultsDirectory\"]"
   ]
  },
  {
   "cell_type": "code",
   "execution_count": 14,
   "metadata": {
    "collapsed": false
   },
   "outputs": [
    {
     "data": {
      "text/plain": [
       "3"
      ]
     },
     "execution_count": 14,
     "metadata": {},
     "output_type": "execute_result"
    }
   ],
   "source": [
    "vnauncert.get_number_standards()"
   ]
  },
  {
   "cell_type": "code",
   "execution_count": 15,
   "metadata": {
    "collapsed": false
   },
   "outputs": [
    {
     "name": "stdout",
     "output_type": "stream",
     "text": [
      "<Item Count=\"11\" Index=\"2\" Text=\"Short\">\n",
      "        <SubItem Index=\"0\" Text=\"Short\"/>\n",
      "        <SubItem Index=\"1\" Text=\"C:\\Data\\UncertDemo\\Short.model\">\n",
      "          <Model FileName=\"C:\\Data\\UncertDemo\\Short.model\">\n",
      "            <MenuStripItems>\n",
      "              <ShowDragAndDropBrowserWindowToTheRightToolStripMenuItem Checked=\"False\" Enabled=\"True\"/>\n",
      "            </MenuStripItems>\n",
      "            <MenuStripTextBoxes>\n",
      "              <StartFrequency Enabled=\"True\" Text=\"1\"/>\n",
      "              <StopFrequency Enabled=\"True\" Text=\"50\"/>\n",
      "              <StepFrequency Enabled=\"True\" Text=\"1\"/>\n",
      "              <EpsEffR Enabled=\"True\" Text=\"1\"/>\n",
      "              <EpsEffI Enabled=\"True\" Text=\"0\"/>\n",
      "            </MenuStripTextBoxes>\n",
      "            <Controls>\n",
      "              <DifferentialModel Checked=\"False\" ControlText=\"Only include variation of this model from its mean in the analysis.\" ControlType=\"System.Windows.Forms.CheckBox\" Enabled=\"True\" FullName=\"Me_DifferentialModel\" Visible=\"True\"/>\n",
      "              <ModelDescription ControlText=\"Short in a 50 ohm system. Same as load model, but less confusing to have both in the list.  Authored by Dylan Williams.\" ControlType=\"System.Windows.Forms.TextBox\" Enabled=\"True\" FullName=\"Me_TableLayoutPanel1_GroupBox3_ModelDescription\" Visible=\"True\"/>\n",
      "              <ModelOrigin ControlText=\"NIST\" ControlType=\"System.Windows.Forms.ComboBox\" Count=\"1\" Enabled=\"True\" FullName=\"Me_TableLayoutPanel1_GroupBox2_ModelOrigin\" SelectedIndex=\"0\" Visible=\"True\">\n",
      "                <Item Index=\"0\" Text=\"NIST\"/>\n",
      "              </ModelOrigin>\n",
      "              <ModelType ControlText=\"Short\" ControlType=\"System.Windows.Forms.ComboBox\" Count=\"9\" Enabled=\"True\" FullName=\"Me_TableLayoutPanel1_GroupBox2_ModelType\" SelectedIndex=\"0\" Visible=\"True\">\n",
      "                <Item Index=\"0\" Text=\"Short\"/>\n",
      "                <Item Index=\"1\" Text=\"Open\"/>\n",
      "                <Item Index=\"2\" Text=\"Load\"/>\n",
      "                <Item Index=\"3\" Text=\"Thru\"/>\n",
      "                <Item Index=\"4\" Text=\"Identity\"/>\n",
      "                <Item Index=\"5\" Text=\"Lossless TEM airline\"/>\n",
      "                <Item Index=\"6\" Text=\"Shunt capacitance\"/>\n",
      "                <Item Index=\"7\" Text=\"Series resistance and inductance\"/>\n",
      "                <Item Index=\"8\" Text=\"Impedance transformer\"/>\n",
      "              </ModelType>\n",
      "              <ModelName ControlText=\"Short\" ControlType=\"System.Windows.Forms.TextBox\" Enabled=\"True\" FullName=\"Me_TableLayoutPanel1_GroupBox2_ModelName\" Visible=\"True\"/>\n",
      "              <ModelGroup ControlText=\"Generic\" ControlType=\"System.Windows.Forms.ComboBox\" Count=\"11\" Enabled=\"True\" FullName=\"Me_TableLayoutPanel1_GroupBox2_ModelGroup\" SelectedIndex=\"0\" Visible=\"True\">\n",
      "                <Item Index=\"0\" Text=\"Generic\"/>\n",
      "                <Item Index=\"1\" Text=\"Coaxial transmission lines\"/>\n",
      "                <Item Index=\"2\" Text=\"Rectangular waveguide\"/>\n",
      "                <Item Index=\"3\" Text=\"Microstrip\"/>\n",
      "                <Item Index=\"4\" Text=\"Coplanar waveguide\"/>\n",
      "                <Item Index=\"5\" Text=\"Cables\"/>\n",
      "                <Item Index=\"6\" Text=\"Coupling\"/>\n",
      "                <Item Index=\"7\" Text=\"Antennas\"/>\n",
      "                <Item Index=\"8\" Text=\"Noise\"/>\n",
      "                <Item Index=\"9\" Text=\"Operators\"/>\n",
      "                <Item Index=\"10\" Text=\"User model\"/>\n",
      "              </ModelGroup>\n",
      "              <ModelMechanisms ControlText=\"List of the mechanisms used in the model\" ControlType=\"CustomFormControls.FLV_FixedDetailsList\" Count=\"4\" Enabled=\"True\" FullName=\"Me_TableLayoutPanel1_GroupBox1_Panel4_ModelMechanisms\" Visible=\"True\">\n",
      "                <Item Count=\"5\" Index=\"0\" Text=\"Port 1 resistance\">\n",
      "                  <SubItem Index=\"0\" Text=\"Port 1 resistance\"/>\n",
      "                  <SubItem Index=\"1\" Text=\"C:\\Data\\UncertDemo\\small.parameter\">\n",
      "                    <Parameter FileName=\"C:\\Data\\UncertDemo\\small.parameter\">\n",
      "                      <MenuStripItems>\n",
      "                        <OverrideUniqueName Checked=\"False\" Enabled=\"True\"/>\n",
      "                      </MenuStripItems>\n",
      "                      <MenuStripTextBoxes>\n",
      "                        <UpperGaussianLimit Enabled=\"True\" Text=\"Infinite\"/>\n",
      "                        <LowerGaussianLimit Enabled=\"True\" Text=\"Infinity\"/>\n",
      "                        <SensitivityAnalysisScaleFactor Enabled=\"True\" Text=\"1.0\"/>\n",
      "                      </MenuStripTextBoxes>\n",
      "                      <Controls>\n",
      "                        <MakeMeRandom Checked=\"False\" ControlText=\"Random parameter\" ControlType=\"System.Windows.Forms.CheckBox\" Enabled=\"True\" FullName=\"Me_MakeMeRandom\"/>\n",
      "                        <MechanismName ControlText=\"C:\\Data\\UncertDemo\\small.parameter\" ControlType=\"System.Windows.Forms.TextBox\" Enabled=\"True\" FullName=\"Me_MechanismName\"/>\n",
      "                        <AllowCalAlgToVary Checked=\"False\" ControlText=\"Ask calibration algorithm to optimize me\" ControlType=\"System.Windows.Forms.CheckBox\" Enabled=\"True\" FullName=\"Me_AllowCalAlgToVary\"/>\n",
      "                        <StandardUncertainty ControlText=\"Standard Uncertainty: 0.00577350269189626\" ControlType=\"System.Windows.Forms.Label\" Enabled=\"True\" FullName=\"Me_StandardUncertainty\"/>\n",
      "                        <DistributionType ControlText=\"Rectangular\" ControlType=\"System.Windows.Forms.ComboBox\" Count=\"4\" Enabled=\"True\" FullName=\"Me_GroupBox3_DistributionType\" SelectedIndex=\"0\">\n",
      "                          <Item Index=\"0\" Text=\"Rectangular\"/>\n",
      "                          <Item Index=\"1\" Text=\"Arc-sine\"/>\n",
      "                          <Item Index=\"2\" Text=\"Binary\"/>\n",
      "                          <Item Index=\"3\" Text=\"Gaussian\"/>\n",
      "                        </DistributionType>\n",
      "                        <DistributionLimits ControlText=\"0.01\" ControlType=\"System.Windows.Forms.TextBox\" Enabled=\"True\" FullName=\"Me_GroupBox3_DistributionLimits\"/>\n",
      "                        <Units ControlText=\"ohm\" ControlType=\"System.Windows.Forms.ComboBox\" Count=\"12\" Enabled=\"True\" FullName=\"Me_GroupBox2_Units\" SelectedIndex=\"7\">\n",
      "                          <Item Index=\"0\" Text=\"Unitless\"/>\n",
      "                          <Item Index=\"1\" Text=\"cm\"/>\n",
      "                          <Item Index=\"2\" Text=\"mm\"/>\n",
      "                          <Item Index=\"3\" Text=\"um\"/>\n",
      "                          <Item Index=\"4\" Text=\"GHz\"/>\n",
      "                          <Item Index=\"5\" Text=\"pF\"/>\n",
      "                          <Item Index=\"6\" Text=\"nH\"/>\n",
      "                          <Item Index=\"7\" Text=\"ohm\"/>\n",
      "                          <Item Index=\"8\" Text=\"mho\"/>\n",
      "                          <Item Index=\"9\" Text=\"pF/cm\"/>\n",
      "                          <Item Index=\"10\" Text=\"ns\"/>\n",
      "                          <Item Index=\"11\" Text=\"ps\"/>\n",
      "                        </Units>\n",
      "                        <MechanismValue ControlText=\"0\" ControlType=\"System.Windows.Forms.TextBox\" Enabled=\"True\" FullName=\"Me_GroupBox2_MechanismValue\"/>\n",
      "                        <DescriptiveName ControlText=\"Small\" ControlType=\"System.Windows.Forms.TextBox\" Enabled=\"True\" FullName=\"Me_GroupBox1_DescriptiveName\"/>\n",
      "                      </Controls>\n",
      "                    </Parameter>\n",
      "                  </SubItem>\n",
      "                  <SubItem Index=\"2\" Text=\"0  ohms\"/>\n",
      "                  <SubItem Index=\"3\" Text=\"\"/>\n",
      "                  <SubItem Index=\"4\" Text=\"\"/>\n",
      "                </Item>\n",
      "                <Item Count=\"5\" Index=\"1\" Text=\"Port 2 resistance\">\n",
      "                  <SubItem Index=\"0\" Text=\"Port 2 resistance\"/>\n",
      "                  <SubItem Index=\"1\" Text=\"C:\\Data\\UncertDemo\\small.parameter\">\n",
      "                    <Parameter FileName=\"C:\\Data\\UncertDemo\\small.parameter\">\n",
      "                      <MenuStripItems>\n",
      "                        <OverrideUniqueName Checked=\"False\" Enabled=\"True\"/>\n",
      "                      </MenuStripItems>\n",
      "                      <MenuStripTextBoxes>\n",
      "                        <UpperGaussianLimit Enabled=\"True\" Text=\"Infinite\"/>\n",
      "                        <LowerGaussianLimit Enabled=\"True\" Text=\"Infinity\"/>\n",
      "                        <SensitivityAnalysisScaleFactor Enabled=\"True\" Text=\"1.0\"/>\n",
      "                      </MenuStripTextBoxes>\n",
      "                      <Controls>\n",
      "                        <MakeMeRandom Checked=\"False\" ControlText=\"Random parameter\" ControlType=\"System.Windows.Forms.CheckBox\" Enabled=\"True\" FullName=\"Me_MakeMeRandom\"/>\n",
      "                        <MechanismName ControlText=\"C:\\Data\\UncertDemo\\small.parameter\" ControlType=\"System.Windows.Forms.TextBox\" Enabled=\"True\" FullName=\"Me_MechanismName\"/>\n",
      "                        <AllowCalAlgToVary Checked=\"False\" ControlText=\"Ask calibration algorithm to optimize me\" ControlType=\"System.Windows.Forms.CheckBox\" Enabled=\"True\" FullName=\"Me_AllowCalAlgToVary\"/>\n",
      "                        <StandardUncertainty ControlText=\"Standard Uncertainty: 0.00577350269189626\" ControlType=\"System.Windows.Forms.Label\" Enabled=\"True\" FullName=\"Me_StandardUncertainty\"/>\n",
      "                        <DistributionType ControlText=\"Rectangular\" ControlType=\"System.Windows.Forms.ComboBox\" Count=\"4\" Enabled=\"True\" FullName=\"Me_GroupBox3_DistributionType\" SelectedIndex=\"0\">\n",
      "                          <Item Index=\"0\" Text=\"Rectangular\"/>\n",
      "                          <Item Index=\"1\" Text=\"Arc-sine\"/>\n",
      "                          <Item Index=\"2\" Text=\"Binary\"/>\n",
      "                          <Item Index=\"3\" Text=\"Gaussian\"/>\n",
      "                        </DistributionType>\n",
      "                        <DistributionLimits ControlText=\"0.01\" ControlType=\"System.Windows.Forms.TextBox\" Enabled=\"True\" FullName=\"Me_GroupBox3_DistributionLimits\"/>\n",
      "                        <Units ControlText=\"ohm\" ControlType=\"System.Windows.Forms.ComboBox\" Count=\"12\" Enabled=\"True\" FullName=\"Me_GroupBox2_Units\" SelectedIndex=\"7\">\n",
      "                          <Item Index=\"0\" Text=\"Unitless\"/>\n",
      "                          <Item Index=\"1\" Text=\"cm\"/>\n",
      "                          <Item Index=\"2\" Text=\"mm\"/>\n",
      "                          <Item Index=\"3\" Text=\"um\"/>\n",
      "                          <Item Index=\"4\" Text=\"GHz\"/>\n",
      "                          <Item Index=\"5\" Text=\"pF\"/>\n",
      "                          <Item Index=\"6\" Text=\"nH\"/>\n",
      "                          <Item Index=\"7\" Text=\"ohm\"/>\n",
      "                          <Item Index=\"8\" Text=\"mho\"/>\n",
      "                          <Item Index=\"9\" Text=\"pF/cm\"/>\n",
      "                          <Item Index=\"10\" Text=\"ns\"/>\n",
      "                          <Item Index=\"11\" Text=\"ps\"/>\n",
      "                        </Units>\n",
      "                        <MechanismValue ControlText=\"0\" ControlType=\"System.Windows.Forms.TextBox\" Enabled=\"True\" FullName=\"Me_GroupBox2_MechanismValue\"/>\n",
      "                        <DescriptiveName ControlText=\"Small\" ControlType=\"System.Windows.Forms.TextBox\" Enabled=\"True\" FullName=\"Me_GroupBox1_DescriptiveName\"/>\n",
      "                      </Controls>\n",
      "                    </Parameter>\n",
      "                  </SubItem>\n",
      "                  <SubItem Index=\"2\" Text=\"0  ohms\"/>\n",
      "                  <SubItem Index=\"3\" Text=\"\"/>\n",
      "                  <SubItem Index=\"4\" Text=\"\"/>\n",
      "                </Item>\n",
      "                <Item Count=\"5\" Index=\"2\" Text=\"Port 1 inductance\">\n",
      "                  <SubItem Index=\"0\" Text=\"Port 1 inductance\"/>\n",
      "                  <SubItem Index=\"1\" Text=\"C:\\Data\\UncertDemo\\zero.parameter\">\n",
      "                    <Parameter FileName=\"C:\\Data\\UncertDemo\\zero.parameter\">\n",
      "                      <MenuStripItems>\n",
      "                        <OverrideUniqueName Checked=\"False\" Enabled=\"True\"/>\n",
      "                      </MenuStripItems>\n",
      "                      <MenuStripTextBoxes>\n",
      "                        <UpperGaussianLimit Enabled=\"True\" Text=\"Infinite\"/>\n",
      "                        <LowerGaussianLimit Enabled=\"True\" Text=\"Infinity\"/>\n",
      "                        <SensitivityAnalysisScaleFactor Enabled=\"True\" Text=\"1.0\"/>\n",
      "                      </MenuStripTextBoxes>\n",
      "                      <Controls>\n",
      "                        <MakeMeRandom Checked=\"False\" ControlText=\"Random parameter\" ControlType=\"System.Windows.Forms.CheckBox\" Enabled=\"True\" FullName=\"Me_MakeMeRandom\"/>\n",
      "                        <MechanismName ControlText=\"C:\\Data\\UncertDemo\\zero.parameter\" ControlType=\"System.Windows.Forms.TextBox\" Enabled=\"True\" FullName=\"Me_MechanismName\"/>\n",
      "                        <AllowCalAlgToVary Checked=\"False\" ControlText=\"Ask calibration algorithm to optimize me\" ControlType=\"System.Windows.Forms.CheckBox\" Enabled=\"True\" FullName=\"Me_AllowCalAlgToVary\"/>\n",
      "                        <StandardUncertainty ControlText=\"Standard Uncertainty: 0\" ControlType=\"System.Windows.Forms.Label\" Enabled=\"True\" FullName=\"Me_StandardUncertainty\"/>\n",
      "                        <DistributionType ControlText=\"Rectangular\" ControlType=\"System.Windows.Forms.ComboBox\" Count=\"4\" Enabled=\"True\" FullName=\"Me_GroupBox3_DistributionType\" SelectedIndex=\"0\">\n",
      "                          <Item Index=\"0\" Text=\"Rectangular\"/>\n",
      "                          <Item Index=\"1\" Text=\"Arc-sine\"/>\n",
      "                          <Item Index=\"2\" Text=\"Binary\"/>\n",
      "                          <Item Index=\"3\" Text=\"Gaussian\"/>\n",
      "                        </DistributionType>\n",
      "                        <DistributionLimits ControlText=\"0.0\" ControlType=\"System.Windows.Forms.TextBox\" Enabled=\"True\" FullName=\"Me_GroupBox3_DistributionLimits\"/>\n",
      "                        <Units ControlText=\"ohm\" ControlType=\"System.Windows.Forms.ComboBox\" Count=\"12\" Enabled=\"True\" FullName=\"Me_GroupBox2_Units\" SelectedIndex=\"7\">\n",
      "                          <Item Index=\"0\" Text=\"Unitless\"/>\n",
      "                          <Item Index=\"1\" Text=\"cm\"/>\n",
      "                          <Item Index=\"2\" Text=\"mm\"/>\n",
      "                          <Item Index=\"3\" Text=\"um\"/>\n",
      "                          <Item Index=\"4\" Text=\"GHz\"/>\n",
      "                          <Item Index=\"5\" Text=\"pF\"/>\n",
      "                          <Item Index=\"6\" Text=\"nH\"/>\n",
      "                          <Item Index=\"7\" Text=\"ohm\"/>\n",
      "                          <Item Index=\"8\" Text=\"mho\"/>\n",
      "                          <Item Index=\"9\" Text=\"pF/cm\"/>\n",
      "                          <Item Index=\"10\" Text=\"ns\"/>\n",
      "                          <Item Index=\"11\" Text=\"ps\"/>\n",
      "                        </Units>\n",
      "                        <MechanismValue ControlText=\"0\" ControlType=\"System.Windows.Forms.TextBox\" Enabled=\"True\" FullName=\"Me_GroupBox2_MechanismValue\"/>\n",
      "                        <DescriptiveName ControlText=\"\" ControlType=\"System.Windows.Forms.TextBox\" Enabled=\"True\" FullName=\"Me_GroupBox1_DescriptiveName\"/>\n",
      "                      </Controls>\n",
      "                    </Parameter>\n",
      "                  </SubItem>\n",
      "                  <SubItem Index=\"2\" Text=\"0  ohms\"/>\n",
      "                  <SubItem Index=\"3\" Text=\"\"/>\n",
      "                  <SubItem Index=\"4\" Text=\"\"/>\n",
      "                </Item>\n",
      "                <Item Count=\"5\" Index=\"3\" Text=\"Port 2 inductance\">\n",
      "                  <SubItem Index=\"0\" Text=\"Port 2 inductance\"/>\n",
      "                  <SubItem Index=\"1\" Text=\"C:\\Data\\UncertDemo\\zero.parameter\">\n",
      "                    <Parameter FileName=\"C:\\Data\\UncertDemo\\zero.parameter\">\n",
      "                      <MenuStripItems>\n",
      "                        <OverrideUniqueName Checked=\"False\" Enabled=\"True\"/>\n",
      "                      </MenuStripItems>\n",
      "                      <MenuStripTextBoxes>\n",
      "                        <UpperGaussianLimit Enabled=\"True\" Text=\"Infinite\"/>\n",
      "                        <LowerGaussianLimit Enabled=\"True\" Text=\"Infinity\"/>\n",
      "                        <SensitivityAnalysisScaleFactor Enabled=\"True\" Text=\"1.0\"/>\n",
      "                      </MenuStripTextBoxes>\n",
      "                      <Controls>\n",
      "                        <MakeMeRandom Checked=\"False\" ControlText=\"Random parameter\" ControlType=\"System.Windows.Forms.CheckBox\" Enabled=\"True\" FullName=\"Me_MakeMeRandom\"/>\n",
      "                        <MechanismName ControlText=\"C:\\Data\\UncertDemo\\zero.parameter\" ControlType=\"System.Windows.Forms.TextBox\" Enabled=\"True\" FullName=\"Me_MechanismName\"/>\n",
      "                        <AllowCalAlgToVary Checked=\"False\" ControlText=\"Ask calibration algorithm to optimize me\" ControlType=\"System.Windows.Forms.CheckBox\" Enabled=\"True\" FullName=\"Me_AllowCalAlgToVary\"/>\n",
      "                        <StandardUncertainty ControlText=\"Standard Uncertainty: 0\" ControlType=\"System.Windows.Forms.Label\" Enabled=\"True\" FullName=\"Me_StandardUncertainty\"/>\n",
      "                        <DistributionType ControlText=\"Rectangular\" ControlType=\"System.Windows.Forms.ComboBox\" Count=\"4\" Enabled=\"True\" FullName=\"Me_GroupBox3_DistributionType\" SelectedIndex=\"0\">\n",
      "                          <Item Index=\"0\" Text=\"Rectangular\"/>\n",
      "                          <Item Index=\"1\" Text=\"Arc-sine\"/>\n",
      "                          <Item Index=\"2\" Text=\"Binary\"/>\n",
      "                          <Item Index=\"3\" Text=\"Gaussian\"/>\n",
      "                        </DistributionType>\n",
      "                        <DistributionLimits ControlText=\"0.0\" ControlType=\"System.Windows.Forms.TextBox\" Enabled=\"True\" FullName=\"Me_GroupBox3_DistributionLimits\"/>\n",
      "                        <Units ControlText=\"ohm\" ControlType=\"System.Windows.Forms.ComboBox\" Count=\"12\" Enabled=\"True\" FullName=\"Me_GroupBox2_Units\" SelectedIndex=\"7\">\n",
      "                          <Item Index=\"0\" Text=\"Unitless\"/>\n",
      "                          <Item Index=\"1\" Text=\"cm\"/>\n",
      "                          <Item Index=\"2\" Text=\"mm\"/>\n",
      "                          <Item Index=\"3\" Text=\"um\"/>\n",
      "                          <Item Index=\"4\" Text=\"GHz\"/>\n",
      "                          <Item Index=\"5\" Text=\"pF\"/>\n",
      "                          <Item Index=\"6\" Text=\"nH\"/>\n",
      "                          <Item Index=\"7\" Text=\"ohm\"/>\n",
      "                          <Item Index=\"8\" Text=\"mho\"/>\n",
      "                          <Item Index=\"9\" Text=\"pF/cm\"/>\n",
      "                          <Item Index=\"10\" Text=\"ns\"/>\n",
      "                          <Item Index=\"11\" Text=\"ps\"/>\n",
      "                        </Units>\n",
      "                        <MechanismValue ControlText=\"0\" ControlType=\"System.Windows.Forms.TextBox\" Enabled=\"True\" FullName=\"Me_GroupBox2_MechanismValue\"/>\n",
      "                        <DescriptiveName ControlText=\"\" ControlType=\"System.Windows.Forms.TextBox\" Enabled=\"True\" FullName=\"Me_GroupBox1_DescriptiveName\"/>\n",
      "                      </Controls>\n",
      "                    </Parameter>\n",
      "                  </SubItem>\n",
      "                  <SubItem Index=\"2\" Text=\"0  ohms\"/>\n",
      "                  <SubItem Index=\"3\" Text=\"\"/>\n",
      "                  <SubItem Index=\"4\" Text=\"\"/>\n",
      "                </Item>\n",
      "              </ModelMechanisms>\n",
      "            </Controls>\n",
      "          </Model>\n",
      "        </SubItem>\n",
      "        <SubItem Index=\"2\" Text=\"Termination on port 1\"/>\n",
      "        <SubItem Index=\"3\" Text=\"\"/>\n",
      "        <SubItem Index=\"4\" Text=\"\"/>\n",
      "        <SubItem Index=\"5\" Text=\"Short\"/>\n",
      "        <SubItem Index=\"6\" Text=\"C:\\Data\\UncertDemo\\OnePortMeas\\Short.s1p\">\n",
      "          <FileMeasurement Count=\"201\" FileName=\"C:\\Data\\UncertDemo\\OnePortMeas\\Short.s1p\" NCols=\"3\" NPorts=\"1\">\n",
      "            <Item Col0=\"500\" Col1=\"-0.242096692323685\" Col2=\"1.27471590042114\" Row=\"0\"/>\n",
      "            <Item Col0=\"501.25\" Col1=\"0.467496573925018\" Col2=\"-1.222697019577\" Row=\"1\"/>\n",
      "            <Item Col0=\"502.5\" Col1=\"-0.410794764757156\" Col2=\"1.89558672904968\" Row=\"2\"/>\n",
      "            <Item Col0=\"503.75\" Col1=\"1.60903704166412\" Col2=\"-0.8151500225067\" Row=\"3\"/>\n",
      "            <Item Col0=\"505\" Col1=\"-0.862698078155518\" Col2=\"-0.1190621480345\" Row=\"4\"/>\n",
      "            <Item Col0=\"506.25\" Col1=\"0.931221127510071\" Col2=\"0.18229381740093\" Row=\"5\"/>\n",
      "            <Item Col0=\"507.5\" Col1=\"-0.931995987892151\" Col2=\"-0.0995196998119\" Row=\"6\"/>\n",
      "            <Item Col0=\"508.75\" Col1=\"2.30921006202698\" Col2=\"0.1543752849102\" Row=\"7\"/>\n",
      "            <Item Col0=\"510\" Col1=\"-2.636150598526\" Col2=\"-7.9803004264831\" Row=\"8\"/>\n",
      "            <Item Col0=\"511.25\" Col1=\"-2.63012766838074\" Col2=\"-1.5626376867294\" Row=\"9\"/>\n",
      "            <Item Col0=\"512.5\" Col1=\"1.34883165359497\" Col2=\"0.68186944723129\" Row=\"10\"/>\n",
      "            <Item Col0=\"513.75\" Col1=\"-0.820990264415741\" Col2=\"0.64237987995147\" Row=\"11\"/>\n",
      "            <Item Col0=\"515\" Col1=\"0.871365964412689\" Col2=\"-0.4919107258319\" Row=\"12\"/>\n",
      "            <Item Col0=\"516.25\" Col1=\"-0.903114318847656\" Col2=\"1.90460979938507\" Row=\"13\"/>\n",
      "            <Item Col0=\"517.5\" Col1=\"1.5669447183609\" Col2=\"-0.8355976939201\" Row=\"14\"/>\n",
      "            <Item Col0=\"518.75\" Col1=\"-1.07941138744354\" Col2=\"-0.1213934719562\" Row=\"15\"/>\n",
      "            <Item Col0=\"520\" Col1=\"1.05152857303619\" Col2=\"-0.1428913176059\" Row=\"16\"/>\n",
      "            <Item Col0=\"521.25\" Col1=\"-0.919662773609161\" Col2=\"0.4557377398014\" Row=\"17\"/>\n",
      "            <Item Col0=\"522.5\" Col1=\"0.449180155992508\" Col2=\"-0.7140794992446\" Row=\"18\"/>\n",
      "            <Item Col0=\"523.75\" Col1=\"-0.550734579563141\" Col2=\"0.70437949895858\" Row=\"19\"/>\n",
      "            <Item Col0=\"525\" Col1=\"1.20040905475616\" Col2=\"-0.0873137041926\" Row=\"20\"/>\n",
      "            <Item Col0=\"526.25\" Col1=\"-0.96054071187973\" Col2=\"-0.2592110335826\" Row=\"21\"/>\n",
      "            <Item Col0=\"527.5\" Col1=\"0.437865734100342\" Col2=\"1.31364130973816\" Row=\"22\"/>\n",
      "            <Item Col0=\"528.75\" Col1=\"0.0780133828520775\" Col2=\"-1.071699976921\" Row=\"23\"/>\n",
      "            <Item Col0=\"530\" Col1=\"-0.281435012817383\" Col2=\"0.82323688268661\" Row=\"24\"/>\n",
      "            <Item Col0=\"531.25\" Col1=\"0.126473113894463\" Col2=\"-0.8676707148551\" Row=\"25\"/>\n",
      "            <Item Col0=\"532.5\" Col1=\"-0.196059137582779\" Col2=\"0.97479373216629\" Row=\"26\"/>\n",
      "            <Item Col0=\"533.75\" Col1=\"0.204938441514969\" Col2=\"-0.9517512321472\" Row=\"27\"/>\n",
      "            <Item Col0=\"535\" Col1=\"-1.32575607299805\" Col2=\"0.06017998978495\" Row=\"28\"/>\n",
      "            <Item Col0=\"536.25\" Col1=\"0.955871641635895\" Col2=\"-0.4610196650028\" Row=\"29\"/>\n",
      "            <Item Col0=\"537.5\" Col1=\"-0.766341865062714\" Col2=\"-0.0971734449267\" Row=\"30\"/>\n",
      "            <Item Col0=\"538.75\" Col1=\"0.728671610355377\" Col2=\"-0.0877752229571\" Row=\"31\"/>\n",
      "            <Item Col0=\"540\" Col1=\"-0.82047712802887\" Col2=\"-0.4145885407924\" Row=\"32\"/>\n",
      "            <Item Col0=\"541.25\" Col1=\"1.06221449375153\" Col2=\"0.01611871644854\" Row=\"33\"/>\n",
      "            <Item Col0=\"542.5\" Col1=\"-0.551271319389343\" Col2=\"-0.8529456853866\" Row=\"34\"/>\n",
      "            <Item Col0=\"543.75\" Col1=\"0.450794488191605\" Col2=\"0.86362701654434\" Row=\"35\"/>\n",
      "            <Item Col0=\"545\" Col1=\"-0.175170585513115\" Col2=\"-0.9090018272399\" Row=\"36\"/>\n",
      "            <Item Col0=\"546.25\" Col1=\"0.107969149947166\" Col2=\"0.76380670070648\" Row=\"37\"/>\n",
      "            <Item Col0=\"547.5\" Col1=\"0.211857363581657\" Col2=\"-0.9106380939483\" Row=\"38\"/>\n",
      "            <Item Col0=\"548.75\" Col1=\"-0.768429398536682\" Col2=\"0.7736240029335\" Row=\"39\"/>\n",
      "            <Item Col0=\"550\" Col1=\"0.852036535739899\" Col2=\"-0.3825411498546\" Row=\"40\"/>\n",
      "            <Item Col0=\"551.25\" Col1=\"-0.931145310401917\" Col2=\"0.21742875874042\" Row=\"41\"/>\n",
      "            <Item Col0=\"552.5\" Col1=\"0.845565378665924\" Col2=\"0.59009563922882\" Row=\"42\"/>\n",
      "            <Item Col0=\"553.75\" Col1=\"-0.548495233058929\" Col2=\"-0.631001651287\" Row=\"43\"/>\n",
      "            <Item Col0=\"555\" Col1=\"0.0746712014079094\" Col2=\"0.88235455751419\" Row=\"44\"/>\n",
      "            <Item Col0=\"556.25\" Col1=\"0.771005034446716\" Col2=\"-0.5285806059837\" Row=\"45\"/>\n",
      "            <Item Col0=\"557.5\" Col1=\"-0.779283463954926\" Col2=\"-0.1015990674495\" Row=\"46\"/>\n",
      "            <Item Col0=\"558.75\" Col1=\"0.691508114337921\" Col2=\"0.30025485157966\" Row=\"47\"/>\n",
      "            <Item Col0=\"560\" Col1=\"-0.856138110160828\" Col2=\"-0.4474276006221\" Row=\"48\"/>\n",
      "            <Item Col0=\"561.25\" Col1=\"0.566655874252319\" Col2=\"0.76209449768066\" Row=\"49\"/>\n",
      "            <Item Col0=\"562.5\" Col1=\"-0.452502310276031\" Col2=\"-0.8767511248588\" Row=\"50\"/>\n",
      "            <Item Col0=\"563.75\" Col1=\"0.00595109257847071\" Col2=\"1.16050708293915\" Row=\"51\"/>\n",
      "            <Item Col0=\"565\" Col1=\"0.89869236946106\" Col2=\"-0.6333939433097\" Row=\"52\"/>\n",
      "            <Item Col0=\"566.25\" Col1=\"-1.0511326789856\" Col2=\"-0.2523857057094\" Row=\"53\"/>\n",
      "            <Item Col0=\"567.5\" Col1=\"0.30390927195549\" Col2=\"0.95581483840942\" Row=\"54\"/>\n",
      "            <Item Col0=\"568.75\" Col1=\"-0.617334604263306\" Col2=\"-0.9224821925163\" Row=\"55\"/>\n",
      "            <Item Col0=\"570\" Col1=\"0.396743059158325\" Col2=\"1.08420920372009\" Row=\"56\"/>\n",
      "            <Item Col0=\"571.25\" Col1=\"-0.0259659327566624\" Col2=\"-1.1455770730972\" Row=\"57\"/>\n",
      "            <Item Col0=\"572.5\" Col1=\"-0.429559051990509\" Col2=\"1.07574892044067\" Row=\"58\"/>\n",
      "            <Item Col0=\"573.75\" Col1=\"0.360696941614151\" Col2=\"-0.992790877819\" Row=\"59\"/>\n",
      "            <Item Col0=\"575\" Col1=\"0.988838374614716\" Col2=\"-0.2764683961868\" Row=\"60\"/>\n",
      "            <Item Col0=\"576.25\" Col1=\"0.945618510246277\" Col2=\"0.21369522809982\" Row=\"61\"/>\n",
      "            <Item Col0=\"577.5\" Col1=\"-0.900755047798157\" Col2=\"-0.7735203504562\" Row=\"62\"/>\n",
      "            <Item Col0=\"578.75\" Col1=\"0.341451942920685\" Col2=\"1.13978254795074\" Row=\"63\"/>\n",
      "            <Item Col0=\"580\" Col1=\"-0.0639026463031769\" Col2=\"-1.0758292675018\" Row=\"64\"/>\n",
      "            <Item Col0=\"581.25\" Col1=\"-0.722974121570587\" Col2=\"1.01800560951233\" Row=\"65\"/>\n",
      "            <Item Col0=\"582.5\" Col1=\"0.474995970726013\" Col2=\"1.13176548480988\" Row=\"66\"/>\n",
      "            <Item Col0=\"583.75\" Col1=\"-1.05091571807861\" Col2=\"-0.1548024564981\" Row=\"67\"/>\n",
      "            <Item Col0=\"585\" Col1=\"0.856285214424133\" Col2=\"0.8341908454895\" Row=\"68\"/>\n",
      "            <Item Col0=\"586.25\" Col1=\"-0.143782168626785\" Col2=\"-1.3369472026825\" Row=\"69\"/>\n",
      "            <Item Col0=\"587.5\" Col1=\"-1.30990934371948\" Col2=\"-0.2392717450857\" Row=\"70\"/>\n",
      "            <Item Col0=\"588.75\" Col1=\"0.904328405857086\" Col2=\"-0.7939433455467\" Row=\"71\"/>\n",
      "            <Item Col0=\"590\" Col1=\"-1.15091526508331\" Col2=\"-0.6878792643547\" Row=\"72\"/>\n",
      "            <Item Col0=\"591.25\" Col1=\"0.846564531326294\" Col2=\"1.02249467372894\" Row=\"73\"/>\n",
      "            <Item Col0=\"592.5\" Col1=\"-0.137003153562546\" Col2=\"-1.1989625692367\" Row=\"74\"/>\n",
      "            <Item Col0=\"593.75\" Col1=\"-0.15137143433094\" Col2=\"1.25994718074799\" Row=\"75\"/>\n",
      "            <Item Col0=\"595\" Col1=\"0.808819651603699\" Col2=\"-1.0866852998733\" Row=\"76\"/>\n",
      "            <Item Col0=\"596.25\" Col1=\"-1.22011435031891\" Col2=\"0.36776450276374\" Row=\"77\"/>\n",
      "            <Item Col0=\"597.5\" Col1=\"1.08840847015381\" Col2=\"-0.2273658365011\" Row=\"78\"/>\n",
      "            <Item Col0=\"598.75\" Col1=\"-0.439589560031891\" Col2=\"-1.2756363153457\" Row=\"79\"/>\n",
      "            <Item Col0=\"600\" Col1=\"0.870308518409729\" Col2=\"1.00118601322174\" Row=\"80\"/>\n",
      "            <Item Col0=\"601.25\" Col1=\"-0.436624348163605\" Col2=\"-1.1795686483383\" Row=\"81\"/>\n",
      "            <Item Col0=\"602.5\" Col1=\"-0.240705370903015\" Col2=\"1.24603486061096\" Row=\"82\"/>\n",
      "            <Item Col0=\"603.75\" Col1=\"1.41617369651794\" Col2=\"-0.1231169700622\" Row=\"83\"/>\n",
      "            <Item Col0=\"605\" Col1=\"-1.28213000297546\" Col2=\"-0.0992297232151\" Row=\"84\"/>\n",
      "            <Item Col0=\"606.25\" Col1=\"1.01755571365356\" Col2=\"0.42833131551742\" Row=\"85\"/>\n",
      "            <Item Col0=\"607.5\" Col1=\"-1.05270063877106\" Col2=\"-0.7773747444152\" Row=\"86\"/>\n",
      "            <Item Col0=\"608.75\" Col1=\"0.412932425737381\" Col2=\"1.24025321006775\" Row=\"87\"/>\n",
      "            <Item Col0=\"610\" Col1=\"0.137413397431374\" Col2=\"-1.2314540147781\" Row=\"88\"/>\n",
      "            <Item Col0=\"611.25\" Col1=\"-0.475259959697723\" Col2=\"1.1327428817749\" Row=\"89\"/>\n",
      "            <Item Col0=\"612.5\" Col1=\"0.813358724117279\" Col2=\"-1.080249428749\" Row=\"90\"/>\n",
      "            <Item Col0=\"613.75\" Col1=\"-1.16526317596436\" Col2=\"0.24327731132507\" Row=\"91\"/>\n",
      "            <Item Col0=\"615\" Col1=\"1.00649631023407\" Col2=\"0.40360152721405\" Row=\"92\"/>\n",
      "            <Item Col0=\"616.25\" Col1=\"-0.5892214179039\" Col2=\"-1.1052898168563\" Row=\"93\"/>\n",
      "            <Item Col0=\"617.5\" Col1=\"-0.311361461877823\" Col2=\"1.3173656463623\" Row=\"94\"/>\n",
      "            <Item Col0=\"618.75\" Col1=\"0.811566770076752\" Col2=\"-1.0145752429962\" Row=\"95\"/>\n",
      "            <Item Col0=\"620\" Col1=\"-1.09774625301361\" Col2=\"0.53359007835388\" Row=\"96\"/>\n",
      "            <Item Col0=\"621.25\" Col1=\"1.22818732261658\" Col2=\"0.49680677056312\" Row=\"97\"/>\n",
      "            <Item Col0=\"622.5\" Col1=\"-0.0139389960095286\" Col2=\"-1.4407525062561\" Row=\"98\"/>\n",
      "            <Item Col0=\"623.75\" Col1=\"-0.938175320625305\" Col2=\"0.82318365573883\" Row=\"99\"/>\n",
      "            <Item Col0=\"625\" Col1=\"1.27311158180237\" Col2=\"-0.1493917703628\" Row=\"100\"/>\n",
      "            <Item Col0=\"626.25\" Col1=\"-0.816049456596375\" Col2=\"-1.1391489505767\" Row=\"101\"/>\n",
      "            <Item Col0=\"627.5\" Col1=\"-0.358808487653732\" Col2=\"1.49106431007385\" Row=\"102\"/>\n",
      "            <Item Col0=\"628.75\" Col1=\"1.17680370807648\" Col2=\"-0.6213572621345\" Row=\"103\"/>\n",
      "            <Item Col0=\"630\" Col1=\"-1.4460426568985\" Col2=\"-0.2407474070787\" Row=\"104\"/>\n",
      "            <Item Col0=\"631.25\" Col1=\"1.1037563085556\" Col2=\"1.061319231987\" Row=\"105\"/>\n",
      "            <Item Col0=\"632.5\" Col1=\"0.0470598042011261\" Col2=\"-1.4516195058822\" Row=\"106\"/>\n",
      "            <Item Col0=\"633.75\" Col1=\"-1.08117210865021\" Col2=\"0.89741253852844\" Row=\"107\"/>\n",
      "            <Item Col0=\"635\" Col1=\"1.49503767490387\" Col2=\"0.27746254205703\" Row=\"108\"/>\n",
      "            <Item Col0=\"636.25\" Col1=\"-0.756248831748962\" Col2=\"-1.4501118659973\" Row=\"109\"/>\n",
      "            <Item Col0=\"637.5\" Col1=\"0.452286928892136\" Col2=\"1.34022498130798\" Row=\"110\"/>\n",
      "            <Item Col0=\"638.75\" Col1=\"-0.343626797199249\" Col2=\"-1.3738167285919\" Row=\"111\"/>\n",
      "            <Item Col0=\"640\" Col1=\"-0.532144665718079\" Col2=\"1.50893938541412\" Row=\"112\"/>\n",
      "            <Item Col0=\"641.25\" Col1=\"1.30860340595245\" Col2=\"-0.8372600078582\" Row=\"113\"/>\n",
      "            <Item Col0=\"642.5\" Col1=\"-1.41915225982666\" Col2=\"-0.1060794591903\" Row=\"114\"/>\n",
      "            <Item Col0=\"643.75\" Col1=\"1.14704346656799\" Col2=\"1.01461291313171\" Row=\"115\"/>\n",
      "            <Item Col0=\"645\" Col1=\"-0.213906034827232\" Col2=\"-1.5494645833969\" Row=\"116\"/>\n",
      "            <Item Col0=\"646.25\" Col1=\"-1.02157056331635\" Col2=\"0.9886006116867\" Row=\"117\"/>\n",
      "            <Item Col0=\"647.5\" Col1=\"1.42366361618042\" Col2=\"0.36185854673385\" Row=\"118\"/>\n",
      "            <Item Col0=\"648.75\" Col1=\"-1.14359247684479\" Col2=\"-1.1728398799896\" Row=\"119\"/>\n",
      "            <Item Col0=\"650\" Col1=\"0.0671697109937668\" Col2=\"1.66151392459869\" Row=\"120\"/>\n",
      "            <Item Col0=\"651.25\" Col1=\"0.747692346572876\" Col2=\"-1.3254557847976\" Row=\"121\"/>\n",
      "            <Item Col0=\"652.5\" Col1=\"-1.36949050426483\" Col2=\"0.82762748003006\" Row=\"122\"/>\n",
      "            <Item Col0=\"653.75\" Col1=\"1.72847771644592\" Col2=\"0.58938640356063\" Row=\"123\"/>\n",
      "            <Item Col0=\"655\" Col1=\"-0.460298269987106\" Col2=\"-1.6367243528366\" Row=\"124\"/>\n",
      "            <Item Col0=\"656.25\" Col1=\"-0.979909837245941\" Col2=\"1.21266961097717\" Row=\"125\"/>\n",
      "            <Item Col0=\"657.5\" Col1=\"1.26837539672852\" Col2=\"-0.898173213005\" Row=\"126\"/>\n",
      "            <Item Col0=\"658.75\" Col1=\"-1.72669339179993\" Col2=\"0.50559264421463\" Row=\"127\"/>\n",
      "            <Item Col0=\"660\" Col1=\"1.44422209262848\" Col2=\"1.13814151287079\" Row=\"128\"/>\n",
      "            <Item Col0=\"661.25\" Col1=\"-0.2582828104496\" Col2=\"-1.6275429725647\" Row=\"129\"/>\n",
      "            <Item Col0=\"662.5\" Col1=\"-1.12653422355652\" Col2=\"1.42748081684113\" Row=\"130\"/>\n",
      "            <Item Col0=\"663.75\" Col1=\"2.05486106872559\" Col2=\"0.18405658006668\" Row=\"131\"/>\n",
      "            <Item Col0=\"665\" Col1=\"-1.47897517681122\" Col2=\"-1.0901327133178\" Row=\"132\"/>\n",
      "            <Item Col0=\"666.25\" Col1=\"0.722120523452759\" Col2=\"1.46844804286957\" Row=\"133\"/>\n",
      "            <Item Col0=\"667.5\" Col1=\"-0.0302240457385778\" Col2=\"-1.81793820858\" Row=\"134\"/>\n",
      "            <Item Col0=\"668.75\" Col1=\"-0.878428876399994\" Col2=\"1.73050487041473\" Row=\"135\"/>\n",
      "            <Item Col0=\"670\" Col1=\"1.86380243301392\" Col2=\"-0.1527124643325\" Row=\"136\"/>\n",
      "            <Item Col0=\"671.25\" Col1=\"-1.38771879673004\" Col2=\"-0.992180943489\" Row=\"137\"/>\n",
      "            <Item Col0=\"672.5\" Col1=\"0.0909212902188301\" Col2=\"2.13014721870422\" Row=\"138\"/>\n",
      "            <Item Col0=\"673.75\" Col1=\"2.03736734390259\" Col2=\"-0.5732319951057\" Row=\"139\"/>\n",
      "            <Item Col0=\"675\" Col1=\"-0.682684004306793\" Col2=\"-1.7221882343292\" Row=\"140\"/>\n",
      "            <Item Col0=\"676.25\" Col1=\"-0.93515157699585\" Col2=\"1.40024149417877\" Row=\"141\"/>\n",
      "            <Item Col0=\"677.5\" Col1=\"1.55438232421875\" Col2=\"-1.0152436494827\" Row=\"142\"/>\n",
      "            <Item Col0=\"678.75\" Col1=\"-1.76972877979279\" Col2=\"0.96205824613571\" Row=\"143\"/>\n",
      "            <Item Col0=\"680\" Col1=\"1.85648965835571\" Col2=\"-0.5922433137893\" Row=\"144\"/>\n",
      "            <Item Col0=\"681.25\" Col1=\"-1.70537519454956\" Col2=\"-0.9698384404182\" Row=\"145\"/>\n",
      "            <Item Col0=\"682.5\" Col1=\"0.052772730588913\" Col2=\"2.14237451553345\" Row=\"146\"/>\n",
      "            <Item Col0=\"683.75\" Col1=\"1.63782870769501\" Col2=\"-1.2035905122757\" Row=\"147\"/>\n",
      "            <Item Col0=\"685\" Col1=\"-1.89743363857269\" Col2=\"-0.0450458712875\" Row=\"148\"/>\n",
      "            <Item Col0=\"686.25\" Col1=\"1.39048194885254\" Col2=\"1.23817205429077\" Row=\"149\"/>\n",
      "            <Item Col0=\"687.5\" Col1=\"-0.359304308891296\" Col2=\"-1.8163802623748\" Row=\"150\"/>\n",
      "            <Item Col0=\"688.75\" Col1=\"-1.30164587497711\" Col2=\"1.52509653568268\" Row=\"151\"/>\n",
      "            <Item Col0=\"690\" Col1=\"1.85176944732666\" Col2=\"-0.2956473529338\" Row=\"152\"/>\n",
      "            <Item Col0=\"691.25\" Col1=\"-1.92814123630524\" Col2=\"-0.9780150651931\" Row=\"153\"/>\n",
      "            <Item Col0=\"692.5\" Col1=\"0.119775079190731\" Col2=\"2.29038715362549\" Row=\"154\"/>\n",
      "            <Item Col0=\"693.75\" Col1=\"2.08224105834961\" Col2=\"-0.8467665314674\" Row=\"155\"/>\n",
      "            <Item Col0=\"695\" Col1=\"-1.24360752105713\" Col2=\"-1.4278086423873\" Row=\"156\"/>\n",
      "            <Item Col0=\"696.25\" Col1=\"-0.194465935230255\" Col2=\"1.93377077579498\" Row=\"157\"/>\n",
      "            <Item Col0=\"697.5\" Col1=\"1.19933104515076\" Col2=\"-1.5726605653762\" Row=\"158\"/>\n",
      "            <Item Col0=\"698.75\" Col1=\"-1.92087864875793\" Col2=\"1.11145997047424\" Row=\"159\"/>\n",
      "            <Item Col0=\"700\" Col1=\"2.07633304595947\" Col2=\"-0.2441535443067\" Row=\"160\"/>\n",
      "            <Item Col0=\"701.25\" Col1=\"-1.13179326057434\" Col2=\"-2.2164521217346\" Row=\"161\"/>\n",
      "            <Item Col0=\"702.5\" Col1=\"-1.86035084724426\" Col2=\"1.5805276632309\" Row=\"162\"/>\n",
      "            <Item Col0=\"703.75\" Col1=\"1.9119439125061\" Col2=\"1.21839427947998\" Row=\"163\"/>\n",
      "            <Item Col0=\"705\" Col1=\"-0.204116404056549\" Col2=\"-1.9639519453048\" Row=\"164\"/>\n",
      "            <Item Col0=\"706.25\" Col1=\"-1.20811831951141\" Col2=\"1.82902729511261\" Row=\"165\"/>\n",
      "            <Item Col0=\"707.5\" Col1=\"2.24376201629639\" Col2=\"-0.1962609738111\" Row=\"166\"/>\n",
      "            <Item Col0=\"708.75\" Col1=\"-1.26078200340271\" Col2=\"-1.7613583803176\" Row=\"167\"/>\n",
      "            <Item Col0=\"710\" Col1=\"0.219575241208076\" Col2=\"2.16265797615051\" Row=\"168\"/>\n",
      "            <Item Col0=\"711.25\" Col1=\"0.727744460105896\" Col2=\"-2.3153872489929\" Row=\"169\"/>\n",
      "            <Item Col0=\"712.5\" Col1=\"-2.19446563720703\" Col2=\"1.02490341663361\" Row=\"170\"/>\n",
      "            <Item Col0=\"713.75\" Col1=\"1.96650731563568\" Col2=\"0.75951665639877\" Row=\"171\"/>\n",
      "            <Item Col0=\"715\" Col1=\"-1.07968461513519\" Col2=\"-1.6280940771102\" Row=\"172\"/>\n",
      "            <Item Col0=\"716.25\" Col1=\"-0.119233824312687\" Col2=\"2.05927300453186\" Row=\"173\"/>\n",
      "            <Item Col0=\"717.5\" Col1=\"1.7092022895813\" Col2=\"-1.28684592247\" Row=\"174\"/>\n",
      "            <Item Col0=\"718.75\" Col1=\"-2.05540251731873\" Col2=\"-0.318115144968\" Row=\"175\"/>\n",
      "            <Item Col0=\"720\" Col1=\"-0.214276477694511\" Col2=\"2.25156593322754\" Row=\"176\"/>\n",
      "            <Item Col0=\"721.25\" Col1=\"2.37763118743896\" Col2=\"-0.4708039760589\" Row=\"177\"/>\n",
      "            <Item Col0=\"722.5\" Col1=\"-1.6463782787323\" Col2=\"-1.8081315755844\" Row=\"178\"/>\n",
      "            <Item Col0=\"723.75\" Col1=\"0.783514082431793\" Col2=\"1.81451690196991\" Row=\"179\"/>\n",
      "            <Item Col0=\"725\" Col1=\"-0.634055018424988\" Col2=\"-1.7533266544342\" Row=\"180\"/>\n",
      "            <Item Col0=\"726.25\" Col1=\"0.687538146972656\" Col2=\"1.99184930324554\" Row=\"181\"/>\n",
      "            <Item Col0=\"727.5\" Col1=\"-0.68258672952652\" Col2=\"-2.3456366062164\" Row=\"182\"/>\n",
      "            <Item Col0=\"728.75\" Col1=\"-0.0153802074491978\" Col2=\"2.38296175003052\" Row=\"183\"/>\n",
      "            <Item Col0=\"730\" Col1=\"1.84330332279205\" Col2=\"-1.7437679767608\" Row=\"184\"/>\n",
      "            <Item Col0=\"731.25\" Col1=\"-2.518230676651\" Col2=\"-1.5671899318695\" Row=\"185\"/>\n",
      "            <Item Col0=\"732.5\" Col1=\"-0.643175601959229\" Col2=\"2.60956859588623\" Row=\"186\"/>\n",
      "            <Item Col0=\"733.75\" Col1=\"2.16445636749268\" Col2=\"-0.373285472393\" Row=\"187\"/>\n",
      "            <Item Col0=\"735\" Col1=\"-0.944905400276184\" Col2=\"-2.297964811325\" Row=\"188\"/>\n",
      "            <Item Col0=\"736.25\" Col1=\"-0.683428406715393\" Col2=\"3.48248600959778\" Row=\"189\"/>\n",
      "            <Item Col0=\"737.5\" Col1=\"4.05677556991577\" Col2=\"-3.4132618904113\" Row=\"190\"/>\n",
      "            <Item Col0=\"738.75\" Col1=\"-6.11650133132935\" Col2=\"-0.7485302090644\" Row=\"191\"/>\n",
      "            <Item Col0=\"740\" Col1=\"2.33652210235596\" Col2=\"4.1617751121521\" Row=\"192\"/>\n",
      "            <Item Col0=\"741.25\" Col1=\"2.09842371940613\" Col2=\"-3.4485034942627\" Row=\"193\"/>\n",
      "            <Item Col0=\"742.5\" Col1=\"-3.61952066421509\" Col2=\"1.52658784389496\" Row=\"194\"/>\n",
      "            <Item Col0=\"743.75\" Col1=\"4.46112775802612\" Col2=\"2.37797045707703\" Row=\"195\"/>\n",
      "            <Item Col0=\"745\" Col1=\"-1.10788953304291\" Col2=\"-7.8680849075317\" Row=\"196\"/>\n",
      "            <Item Col0=\"746.25\" Col1=\"-15.0419282913208\" Col2=\"0.22935912013053\" Row=\"197\"/>\n",
      "            <Item Col0=\"747.5\" Col1=\"-13.9881525039673\" Col2=\"5.32087755203247\" Row=\"198\"/>\n",
      "            <Item Col0=\"748.75\" Col1=\"3.4178454875946\" Col2=\"5.47466039657593\" Row=\"199\"/>\n",
      "            <Item Col0=\"750\" Col1=\"3.49372267723084\" Col2=\"-2.2937514781951\" Row=\"200\"/>\n",
      "          </FileMeasurement>\n",
      "        </SubItem>\n",
      "        <SubItem Index=\"7\" Text=\"\"/>\n",
      "        <SubItem Index=\"8\" Text=\"\"/>\n",
      "        <SubItem Index=\"9\" Text=\"1\"/>\n",
      "        <SubItem Index=\"10\" Text=\"2\"/>\n",
      "      </Item>\n",
      "    \n"
     ]
    }
   ],
   "source": [
    "print vnauncert.get_standard_definition(3)"
   ]
  },
  {
   "cell_type": "code",
   "execution_count": 16,
   "metadata": {
    "collapsed": false
   },
   "outputs": [],
   "source": [
    "standards=vnauncert.etree.findall(\".//BeforeCalibration/Item/SubItem[@Index='6']\")"
   ]
  },
  {
   "cell_type": "code",
   "execution_count": 17,
   "metadata": {
    "collapsed": false
   },
   "outputs": [
    {
     "name": "stdout",
     "output_type": "stream",
     "text": [
      "C:\\Data\\UncertDemo\\OnePortMeas\\LoadGR3-105.s1p\n",
      "C:\\Data\\UncertDemo\\OnePortMeas\\Open.s1p\n",
      "C:\\Data\\UncertDemo\\OnePortMeas\\Short.s1p\n"
     ]
    }
   ],
   "source": [
    "for standard in standards:\n",
    "    print(standard.attrib[\"Text\"])"
   ]
  },
  {
   "cell_type": "code",
   "execution_count": 18,
   "metadata": {
    "collapsed": false
   },
   "outputs": [
    {
     "data": {
      "text/plain": [
       "['C:\\\\Data\\\\UncertDemo\\\\OnePortMeas\\\\LoadGR3-105.s1p',\n",
       " 'C:\\\\Data\\\\UncertDemo\\\\OnePortMeas\\\\Open.s1p',\n",
       " 'C:\\\\Data\\\\UncertDemo\\\\OnePortMeas\\\\Short.s1p']"
      ]
     },
     "execution_count": 18,
     "metadata": {},
     "output_type": "execute_result"
    }
   ],
   "source": [
    "vnauncert.getStandardMeasurementLocations()"
   ]
  },
  {
   "cell_type": "code",
   "execution_count": 19,
   "metadata": {
    "collapsed": true
   },
   "outputs": [],
   "source": [
    "vnauncert.set_standard_location(standard_location=\"c:\\\\FakeFileForLoad.s1p\",standard_number=1)"
   ]
  },
  {
   "cell_type": "code",
   "execution_count": 20,
   "metadata": {
    "collapsed": false
   },
   "outputs": [
    {
     "data": {
      "text/plain": [
       "['c:\\\\FakeFileForLoad.s1p',\n",
       " 'C:\\\\Data\\\\UncertDemo\\\\OnePortMeas\\\\Open.s1p',\n",
       " 'C:\\\\Data\\\\UncertDemo\\\\OnePortMeas\\\\Short.s1p']"
      ]
     },
     "execution_count": 20,
     "metadata": {},
     "output_type": "execute_result"
    }
   ],
   "source": [
    "vnauncert.getStandardMeasurementLocations()"
   ]
  },
  {
   "cell_type": "code",
   "execution_count": 21,
   "metadata": {
    "collapsed": false
   },
   "outputs": [],
   "source": [
    "before=vnauncert.document.getElementsByTagName(\"BeforeCalibration\")[0]"
   ]
  },
  {
   "cell_type": "code",
   "execution_count": 22,
   "metadata": {
    "collapsed": false
   },
   "outputs": [
    {
     "data": {
      "text/plain": [
       "'10'"
      ]
     },
     "execution_count": 22,
     "metadata": {},
     "output_type": "execute_result"
    }
   ],
   "source": [
    "vnauncert.get_number_montecarlo()"
   ]
  },
  {
   "cell_type": "code",
   "execution_count": 23,
   "metadata": {
    "collapsed": false
   },
   "outputs": [
    {
     "data": {
      "text/plain": [
       "'0'"
      ]
     },
     "execution_count": 23,
     "metadata": {},
     "output_type": "execute_result"
    }
   ],
   "source": [
    "vnauncert.set_number_montecarlo(0)\n",
    "vnauncert.get_number_montecarlo()"
   ]
  },
  {
   "cell_type": "code",
   "execution_count": 24,
   "metadata": {
    "collapsed": false
   },
   "outputs": [
    {
     "name": "stdout",
     "output_type": "stream",
     "text": [
      "[{'name': 'Open', 'location': 'C:\\\\Data\\\\UncertDemo\\\\OnePortMeas\\\\Open.s1p'}, {'name': 'FakeMeasurement', 'location': 'C:\\\\FakeMeasurement.s1p'}]\n"
     ]
    }
   ],
   "source": [
    "vnauncert.add_DUT(\"C:\\\\FakeMeasurement.s1p\")\n",
    "print(vnauncert.get_DUTs())"
   ]
  },
  {
   "cell_type": "code",
   "execution_count": 25,
   "metadata": {
    "collapsed": false
   },
   "outputs": [
    {
     "data": {
      "text/plain": [
       "[{'location': 'C:\\\\Data\\\\UncertDemo\\\\OnePortMeas\\\\Open.s1p', 'name': 'Open'}]"
      ]
     },
     "execution_count": 25,
     "metadata": {},
     "output_type": "execute_result"
    }
   ],
   "source": [
    "vnauncert_2.get_DUTs()"
   ]
  },
  {
   "cell_type": "code",
   "execution_count": 26,
   "metadata": {
    "collapsed": false
   },
   "outputs": [
    {
     "data": {
      "text/plain": [
       "['Open', 'FakeMeasurement']"
      ]
     },
     "execution_count": 26,
     "metadata": {},
     "output_type": "execute_result"
    }
   ],
   "source": [
    "map(lambda x: x.attrib[\"Text\"],vnauncert.etree.findall(\".//DUTMeasurements/Item/SubItem[@Index='0']\"))"
   ]
  },
  {
   "cell_type": "code",
   "execution_count": 27,
   "metadata": {
    "collapsed": false
   },
   "outputs": [
    {
     "data": {
      "text/plain": [
       "[<Element SubItem at 0x1c16bb88>, <Element SubItem at 0x1c16bb08>]"
      ]
     },
     "execution_count": 27,
     "metadata": {},
     "output_type": "execute_result"
    }
   ],
   "source": [
    "vnauncert.etree.findall(\".//DUTMeasurements/Item/SubItem[@Index='0']\")"
   ]
  },
  {
   "cell_type": "code",
   "execution_count": 28,
   "metadata": {
    "collapsed": false
   },
   "outputs": [
    {
     "data": {
      "text/plain": [
       "[]"
      ]
     },
     "execution_count": 28,
     "metadata": {},
     "output_type": "execute_result"
    }
   ],
   "source": [
    "vnauncert.clear_DUTs()\n",
    "vnauncert.get_DUTs()"
   ]
  }
 ],
 "metadata": {
  "kernelspec": {
   "display_name": "Python 2",
   "language": "python",
   "name": "python2"
  },
  "language_info": {
   "codemirror_mode": {
    "name": "ipython",
    "version": 2
   },
   "file_extension": ".py",
   "mimetype": "text/x-python",
   "name": "python",
   "nbconvert_exporter": "python",
   "pygments_lexer": "ipython2",
   "version": "2.7.13"
  }
 },
 "nbformat": 4,
 "nbformat_minor": 2
}
