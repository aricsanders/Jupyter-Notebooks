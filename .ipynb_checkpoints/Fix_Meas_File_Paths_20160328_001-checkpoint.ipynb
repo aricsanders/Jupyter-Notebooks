{
 "cells": [
  {
   "cell_type": "code",
   "execution_count": 9,
   "metadata": {
    "collapsed": false
   },
   "outputs": [
    {
     "name": "stdout",
     "output_type": "stream",
     "text": [
      "['dcal17j_Cs_g10_HF.meas', 'dcal17j_L1_g10_HF.meas', 'dcal17j_L2_g10_HF.meas', 'dcal17j_L3_g10_HF.meas', 'dcal17j_L4_g10_HF.meas', 'dcal17j_L5_g10_HF.meas', 'dcal17j_L6_g10_HF.meas', 'dcal17j_L7_g10_HF.meas', 'dcal17j_Rs_g10_HF.meas', 'dcal17j_S1_g10_HF.meas']\n"
     ]
    }
   ],
   "source": [
    "import os\n",
    "import fnmatch\n",
    "home_directory=r'C:\\share\\Calibrated Meas Files'\n",
    "old_directory='Z:\\\\CTL Projects\\\\S-parameters\\\\MUF Calibration kits\\\\Series resistor cal\\\\CalEng_LS_vnauncert_Results\\\\DUTs'\n",
    "file_names=os.listdir(home_directory)\n",
    "file_names=fnmatch.filter(file_names,'*.meas')\n",
    "print file_names"
   ]
  },
  {
   "cell_type": "code",
   "execution_count": 16,
   "metadata": {
    "collapsed": false
   },
   "outputs": [
    {
     "name": "stdout",
     "output_type": "stream",
     "text": [
      "dcal17j_Cs_g10_HF.meas\n",
      "dcal17j_L1_g10_HF.meas\n",
      "dcal17j_L2_g10_HF.meas\n",
      "dcal17j_L3_g10_HF.meas\n",
      "dcal17j_L4_g10_HF.meas\n",
      "dcal17j_L5_g10_HF.meas\n",
      "dcal17j_L6_g10_HF.meas\n",
      "dcal17j_L7_g10_HF.meas\n",
      "dcal17j_Rs_g10_HF.meas\n",
      "dcal17j_S1_g10_HF.meas\n"
     ]
    }
   ],
   "source": [
    "os.chdir(home_directory)\n",
    "for file in file_names:\n",
    "    in_file=open(file,'r')\n",
    "    lines=[]\n",
    "    for line in in_file:\n",
    "        lines.append(line)\n",
    "    lines=[line.replace(old_directory,home_directory) for line in lines]\n",
    "    #contents=in_file.read()\n",
    "    #print contents\n",
    "    #in_file.close()\n",
    "    #contents.replace(old_directory,home_directory)\n",
    "    #print contents\n",
    "    out_file=open(file,'w')\n",
    "    for line in lines:\n",
    "        out_file.write(line)\n",
    "    out_file.close()\n",
    "    print file"
   ]
  },
  {
   "cell_type": "code",
   "execution_count": null,
   "metadata": {
    "collapsed": true
   },
   "outputs": [],
   "source": []
  }
 ],
 "metadata": {
  "kernelspec": {
   "display_name": "Python 2",
   "language": "python",
   "name": "python2"
  },
  "language_info": {
   "codemirror_mode": {
    "name": "ipython",
    "version": 2
   },
   "file_extension": ".py",
   "mimetype": "text/x-python",
   "name": "python",
   "nbconvert_exporter": "python",
   "pygments_lexer": "ipython2",
   "version": "2.7.11"
  }
 },
 "nbformat": 4,
 "nbformat_minor": 0
}
