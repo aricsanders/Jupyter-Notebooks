{
 "cells": [
  {
   "cell_type": "markdown",
   "metadata": {},
   "source": [
    "<a id=\"top\"></a>\n",
    "# Welcome to the Python using Jupyter Tutorial!\n",
    "(Python Version 2.7, 07/05/2016)<br/>\n",
    "This tutorial is aimed at people who wish to use python with jupyter. If working on a computer that does not have python or jupyter installed, read and start with __What you Need to get Started__ and __Installing and Loading Python__. \n",
    "\n",
    "The best way to use this tutorial is to download the jupyter notebook and enter code and comments as you progress.\n",
    "\n",
    "\n",
    "## Table of Contents\n",
    "<hr style=\"border-top: 3px double #8c8b8b;\"/>\n",
    "<ol>\n",
    "<li> <h3><a href=\"#getting-started\">What You Need to get Started </a> </h3></li>\n",
    "<li> <h3><a href=\"#install\">Installing and Loading Python</a> </h3></li>\n",
    "<li><h3><a href=\"#jupyter-begin\">Beginning a Jupyter Session</a></h3></li>\n",
    "<li><h3> <a href=\"#basic-syntax\">Basic Python Syntax </a> </h3></li>\n",
    "<li><h3> <a href=\"#basic-types\">Basic Python Types </a> </h3></li>\n",
    "<li><h3> <a href=\"#file-io\">Opening and Reading Files </a> </h3></li>\n",
    "<li> <h3><a href=\"#function\">Defining a Function</a></h3> </li>\n",
    "<li><h3> <a href=\"#class\">Creating a Class</a> </h3></li>\n",
    "<li><h3> <a href=\"#plotting-basic\">Basic Plotting</a></h3> </li>\n",
    "<li><h3> <a href=\"#plotting-int\">Intermediate Plotting</a></h3> </li>\n",
    "<!--I think this is the day separation point, but I don't know-->\n",
    "<li><h3> <a href=\"#markdown\">Using Jupyter's Markdown Cells to Document Code</a></h3> </li>\n",
    "<li><h3> <a href=\"#fitting\">Basic Fitting</a></h3> </li>\n",
    "<li><h3> <a href=\"#fit-analysis\">Analysis of a Fit</a></h3> </li>\n",
    "<li> <h3> <a href=\"#basic-instrument\">Basic Instrument Control</a></h3> </li>\n",
    "<li> <h3> <a href=\"#more-information\">More Information</a></h3> </li>\n",
    "\n",
    "</ol>\n",
    "<hr style=\"border-top: 3px double #8c8b8b;\"/>\n"
   ]
  },
  {
   "cell_type": "markdown",
   "metadata": {},
   "source": [
    " <a href=\"#top\"> <em>back to top</em></a>\n",
    " <hr style=\"border-top: 2px double #8c8b8b;\"/>\n",
    " <h3><a id=\"getting-started\">What you Need to get Started </a> </h3>"
   ]
  },
  {
   "cell_type": "markdown",
   "metadata": {},
   "source": [
    "1. A computer running one of the following Operating Systems (OS): Windows 7 or greater, Mac OSX, or a unix flavor from the last 5 years.\n",
    "2. An internet connection.\n",
    "3. Some time and patience. It takes some effort to learn a new language."
   ]
  },
  {
   "cell_type": "code",
   "execution_count": 1,
   "metadata": {
    "collapsed": false
   },
   "outputs": [],
   "source": [
    "# If using jupyter right now, put the cursor inside of this box and press shift-enter to see how it works\n",
    "import matplotlib.pyplot as plt\n",
    "\n",
    "# Make a data set\n",
    "x=[i for i in range(-100,100)]\n",
    "y=[j**2 for j in x]\n",
    "\n",
    "# Basic Plot\n",
    "plt.plot(x,y)\n",
    "plt.show()"
   ]
  },
  {
   "cell_type": "markdown",
   "metadata": {},
   "source": [
    "<a href=\"#top\"> <em>back to top</em></a>\n",
    " <hr style=\"border-top: 2px double #8c8b8b;\"/>\n",
    "<h3><a id=\"install\">Installing and Loading Python</a> </h3>"
   ]
  },
  {
   "cell_type": "markdown",
   "metadata": {},
   "source": [
    "To install python, it can be downloaded from its [website][python].  However, this tutorial will use the distribution package, [Anaconda][anaconda].\n",
    "<br/>\n",
    "\n",
    "<p>Anaconda comes with more tools than this tutorial has time to explore.  A key element of it is that it comes with the package installer __pip__.  In a command line type `pip install django` and django is magically installed for the default version of python. This tutorial uses Python 2 due to it's compatibility with many of the current scientific based software packages.  Python 3 is available, but many scientific packages have yet to upgrade. Once Anaconda is installed, call python from a command prompt by typing python or start a code editing tool (such as Jupyter or [PyCharm][pycharm]).</p>\n",
    "\n",
    "For this tutorial, you will need to download and install [Anaconda][anaconda] for Python 2.7 (64bit version).\n",
    "\n",
    "\n",
    "[python]:https://www.python.org/\n",
    "[anaconda]:https://www.continuum.io/downloads\n",
    "[pycharm]:https://www.jetbrains.com/pycharm/"
   ]
  },
  {
   "cell_type": "markdown",
   "metadata": {},
   "source": [
    "<a href=\"#top\"> <em>back to top</em></a>\n",
    " <hr style=\"border-top: 2px double #8c8b8b;\"/>\n",
    "<h3><a id=\"jupyter-begin\">Beginning a Jupyter Session</a></h3>"
   ]
  },
  {
   "cell_type": "markdown",
   "metadata": {},
   "source": [
    "To begin a jupyter notebook session, open a command prompt or terminal and type `jupyter notebook`. This starts the server and then opens the web address http://localhost:8888/tree in the default web browser. Then click an existing notebook or open a new one. "
   ]
  },
  {
   "cell_type": "markdown",
   "metadata": {},
   "source": [
    "#### Beginning a Jupyter Session in Windows\n",
    "1. To start a command prompt in windows <img src=\"./Python_Introduction_Images/Starting_Command_Prompt.PNG\" /><br/>\n",
    "2. Once in the command prompt type: jupyter notebook\n",
    "<img src=\"./Python_Introduction_Images/Command_Jupyter_Notebook.PNG\" /><br/>\n",
    "3. After entering the command line, the jupyter browser should automatically open the default browser at http://localhost:8888/tree.\n",
    "<img src=\"./Python_Introduction_Images/Jupyter_Notebook_Home.PNG\" /><br/>\n",
    "4. Click on open a new notebook\n",
    "<img src=\"./Python_Introduction_Images/New_Python2_Jupyter.PNG\" /><br/>"
   ]
  },
  {
   "cell_type": "markdown",
   "metadata": {},
   "source": [
    "#### Beginning a Jupyter Session in OSX\n",
    "1. To open a terminal in OSX: <br/>\n",
    "   <br/>\n",
    "   a) Click on the magnifying glass in the screen's top right corner to do a Spotlight Search\n",
    "   <img src=\"./Python_Introduction_Images/spotlight.png\"/><br/>\n",
    "   b) Type terminal in the Spotlight Search \n",
    "    <img src=\"./Python_Introduction_Images/spotlightsearchforterminal.png\"/> <br/>\n",
    "2. Once in the terminal type: jupyter notebook\n",
    "    <img src=\"./jupyternotebookterminalentry.png\"/><br/>\n",
    "3. After entering the command line, the jupyter browser should automatically open the default browser at http://localhost:8889/tree.\n",
    "    <img src=\"./Python_Introduction_Images/jupyterinsafari.png\"/><br/>\n",
    "4. Click on New and then Python 2 to open a new notebook.\n",
    "<img src=\"./Python_Introduction_Images/newnotebookinjupyter.png\"/><br/>"
   ]
  },
  {
   "cell_type": "markdown",
   "metadata": {},
   "source": [
    "<a href=\"#top\"> <em>back to top</em></a>\n",
    " <hr style=\"border-top: 2px double #8c8b8b;\"/>\n",
    "<h3> <a id=\"basic-syntax\">Basic Python Syntax </a> </h3>"
   ]
  },
  {
   "cell_type": "markdown",
   "metadata": {},
   "source": [
    "Here are the basics of python syntax, including a few things to note for people that have used other languages:\n",
    "\n",
    "1. Whitespace is important! Every different level of code block is indented\n",
    "2. Flow commands and definitions of functions and classes have a colon (```:```) at the end\n",
    "3. Reserved parameters are denoted with double underscores before and after ```__``` as in ```__doc__```.\n",
    "4. Comments begin with ```#```\n",
    "5. Everything is zero indexed\n",
    "6. Power is ```**``` not ```^```\n",
    "7. No declaring variable types\n",
    "<br/>\n",
    "<br/>\n",
    "Here are some examples, try them in a code cell: \n",
    "\n",
    "```python\n",
    "# my python code \n",
    "def my_function(variable_one):\n",
    "    \"\"\"This is a proper function definition\"\"\"\n",
    "    print(\"My function has executed and the value of variable_one is {0}\".format(variable_one))\n",
    "```\n",
    "```python\n",
    "# this is an if statement\n",
    "value=True\n",
    "if value:\n",
    "    print(\"True!\")\n",
    "else:\n",
    "    print(\"False!\")\n",
    "```\n",
    "\n",
    "    "
   ]
  },
  {
   "cell_type": "code",
   "execution_count": 2,
   "metadata": {
    "collapsed": false
   },
   "outputs": [
    {
     "ename": "IndentationError",
     "evalue": "expected an indented block (<ipython-input-2-ab64b2a1facd>, line 3)",
     "output_type": "error",
     "traceback": [
      "\u001b[1;36m  File \u001b[1;32m\"<ipython-input-2-ab64b2a1facd>\"\u001b[1;36m, line \u001b[1;32m3\u001b[0m\n\u001b[1;33m    \"\"\"This is an improper function definition\"\"\"\u001b[0m\n\u001b[1;37m                                                ^\u001b[0m\n\u001b[1;31mIndentationError\u001b[0m\u001b[1;31m:\u001b[0m expected an indented block\n"
     ]
    }
   ],
   "source": [
    "# My python code that has an error\n",
    "def my_function(variable_one):\n",
    "\"\"\"This is an improper function definition\"\"\"\n",
    "print(\"My function has executed and the value of variable_one is {0}\".format(variable_one))\n",
    "my_function('Hello There!')"
   ]
  },
  {
   "cell_type": "code",
   "execution_count": 3,
   "metadata": {
    "collapsed": false
   },
   "outputs": [
    {
     "name": "stdout",
     "output_type": "stream",
     "text": [
      "My function has executed and the value of variable_one is Hello There!\n",
      "This is a proper function definition\n"
     ]
    }
   ],
   "source": [
    "# My python code \n",
    "def my_function(variable_one):\n",
    "    \"\"\"This is a proper function definition\"\"\"\n",
    "    print(\"My function has executed and the value of variable_one is {0}\".format(variable_one))\n",
    "my_function('Hello There!')\n",
    "\n",
    "# The documentation string is stored in my_function.__doc__\n",
    "print(my_function.__doc__)"
   ]
  },
  {
   "cell_type": "code",
   "execution_count": 4,
   "metadata": {
    "collapsed": false
   },
   "outputs": [
    {
     "name": "stdout",
     "output_type": "stream",
     "text": [
      "True!\n",
      "Value is 1\n"
     ]
    }
   ],
   "source": [
    "# This is an 'if' statement\n",
    "value=True\n",
    "if value:\n",
    "    print(\"True!\")\n",
    "else:\n",
    "    print(\"False!\")\n",
    "    \n",
    "value=1\n",
    "if value==1:# equality test is == not =!\n",
    "    print(\"Value is 1\")\n",
    "elif value<0:\n",
    "    print(\"Value is negative\")\n"
   ]
  },
  {
   "cell_type": "code",
   "execution_count": 5,
   "metadata": {
    "collapsed": false
   },
   "outputs": [
    {
     "name": "stdout",
     "output_type": "stream",
     "text": [
      "The first element of test_list_1 is a\n",
      "The first element of test_list_2 is 0\n"
     ]
    }
   ],
   "source": [
    "# Lists always start at index = 0\n",
    "test_list_1=['a','b','c']\n",
    "print(\"The first element of test_list_1 is {0}\".format(test_list_1[0]))\n",
    "test_list_2=[i for i in range(100)]\n",
    "print(\"The first element of test_list_2 is {0}\".format(test_list_2[0]))\n",
    "\n"
   ]
  },
  {
   "cell_type": "code",
   "execution_count": 6,
   "metadata": {
    "collapsed": false
   },
   "outputs": [
    {
     "name": "stdout",
     "output_type": "stream",
     "text": [
      "100\n",
      "--------------------------------------------------------------------------------\n",
      "test_list is : [0, 1, 2, 3, 4, 5, 6, 7, 8, 9]\n",
      "--------------------------------------------------------------------------------\n",
      "test_list_squared is : [0, 1, 4, 9, 16, 25, 36, 49, 64, 81]\n",
      "--------------------------------------------------------------------------------\n"
     ]
    },
    {
     "data": {
      "text/plain": [
       "1"
      ]
     },
     "execution_count": 6,
     "metadata": {},
     "output_type": "execute_result"
    }
   ],
   "source": [
    "# This is how to square a number\n",
    "print 10**2\n",
    "# To square every number in a list\n",
    "test_list=[i for i in range(10)]\n",
    "test_list_squared=[x**2 for x in test_list]\n",
    "\n",
    "# Text formatting for the output\n",
    "print(\"-\"*80)\n",
    "print(\"test_list is : {0}\".format(test_list))\n",
    "print(\"-\"*80)\n",
    "print(\"test_list_squared is : {0}\".format(test_list_squared))\n",
    "print(\"-\"*80)\n",
    "\n",
    "# As a side note the ^ operator is bitwise exclusive or for ints only. \n",
    "int_1=1\n",
    "int_2=0\n",
    "int_1^int_2"
   ]
  },
  {
   "cell_type": "markdown",
   "metadata": {},
   "source": [
    "<a href=\"#top\"> <em>back to top</em></a>\n",
    " <hr style=\"border-top: 2px double #8c8b8b;\"/>\n",
    "<h3> <a id=\"#basic-types\">Basic Python Types </a> </h3>"
   ]
  },
  {
   "cell_type": "markdown",
   "metadata": {},
   "source": [
    "### Python has some basic \"types\".  Below are some most commonly used types.\n",
    "1. Integer is denoted by __int__\n",
    "2. String is denoted by __str__\n",
    "3. Floating point number is denoted by __float__\n",
    "4. Complex number is denoted by __complex()__\n",
    "5. List type, a list of objects that can be amended, is denoted by __list__\n",
    "6. Tuple (__tuple__) and set (__set__) are specific or special lists. \n",
    "7. Dictionary, an associative array, or a list with a named index are denoted by __dict__"
   ]
  },
  {
   "cell_type": "code",
   "execution_count": 7,
   "metadata": {
    "collapsed": false
   },
   "outputs": [
    {
     "name": "stdout",
     "output_type": "stream",
     "text": [
      "2\n",
      "<type 'int'>\n",
      "11\n",
      "<type 'str'>\n",
      "2.0\n",
      "<type 'float'>\n",
      "(1+1j)\n",
      "<type 'complex'>\n",
      "[1.0, '1']\n",
      "<type 'list'>\n"
     ]
    }
   ],
   "source": [
    "# Here are some quick examples:\n",
    "# Print the result of adding the numbers below\n",
    "\n",
    "# integers\n",
    "print(1+1)\n",
    "print(type(1+1))\n",
    "\n",
    "# strings\n",
    "print('1'+'1')\n",
    "print(type('1'+'1'))\n",
    "\n",
    "# floats\n",
    "print(1.0+1.0)\n",
    "print(type(1.0+1.0))\n",
    "\n",
    "# complex\n",
    "print(1.0+1.0j)\n",
    "print(type(1.0+1.0j))\n",
    "\n",
    "# list\n",
    "print([1.0]+['1'])\n",
    "print(type([1.0]+['1']))\n"
   ]
  },
  {
   "cell_type": "code",
   "execution_count": 8,
   "metadata": {
    "collapsed": false
   },
   "outputs": [
    {
     "name": "stdout",
     "output_type": "stream",
     "text": [
      "[1, 1, 2, 4, '5', 'space monkey']\n",
      "{'key 1': 1, 'key 2': 2, 'key 3': [1, 1, 2, 4, '5', 'space monkey']}\n"
     ]
    }
   ],
   "source": [
    "# To make lists and dictionaries\n",
    "\n",
    "# Explicitly\n",
    "my_list=[1,1,2,4,'5','space monkey']\n",
    "my_dictionary={'key 1':1,'key 2':2,'key 3':my_list}\n",
    "\n",
    "print(my_list)\n",
    "print(my_dictionary)"
   ]
  },
  {
   "cell_type": "code",
   "execution_count": 9,
   "metadata": {
    "collapsed": false
   },
   "outputs": [
    {
     "name": "stdout",
     "output_type": "stream",
     "text": [
      "[1, 1, 2, 4, '5', 'space monkey', 'New One']\n"
     ]
    }
   ],
   "source": [
    "# Add to the end of a list with append\n",
    "my_list.append('New One')\n",
    "print(my_list)"
   ]
  },
  {
   "cell_type": "code",
   "execution_count": 10,
   "metadata": {
    "collapsed": false
   },
   "outputs": [
    {
     "name": "stdout",
     "output_type": "stream",
     "text": [
      "{'key 1': 1, 'key 2': 2, 'key 3': [1, 1, 2, 4, '5', 'space monkey', 'New One'], 'New Key': 'new value'}\n"
     ]
    }
   ],
   "source": [
    "# Add to a dictionary by assigning the value directly\n",
    "my_dictionary['New Key']='new value'\n",
    "print(my_dictionary)"
   ]
  },
  {
   "cell_type": "code",
   "execution_count": 11,
   "metadata": {
    "collapsed": false
   },
   "outputs": [
    {
     "name": "stdout",
     "output_type": "stream",
     "text": [
      "The first two elements of my_list are [1, 1]\n",
      "The last element of my_list is New One\n"
     ]
    }
   ],
   "source": [
    "# Slicing lists\n",
    "\n",
    "# To get elements 0-2\n",
    "print(\"The first two elements of my_list are \"+str(my_list[0:2]))\n",
    "\n",
    "# or \n",
    "my_list[:2]\n",
    "# Last 2 elements are\n",
    "my_list[-2:]\n",
    "\n",
    "# To get the last element\n",
    "# use -1 for selector\n",
    "print(\"The last element of my_list is \"+str(my_list[-1]))"
   ]
  },
  {
   "cell_type": "markdown",
   "metadata": {},
   "source": [
    "<a href=\"#top\"> <em>back to top</em></a>\n",
    " <hr style=\"border-top: 2px double #8c8b8b;\"/>\n",
    "<h3> <a id=\"file-io\">Opening and Reading Files </a> </h3>"
   ]
  },
  {
   "cell_type": "markdown",
   "metadata": {},
   "source": [
    "One of the most basic operations for a scientist is to read in data from a file and prepare it for analysis. There are many libraries that exist for python which have many of the difficult parts of the code already complete.  In an effort to better understand python, this tutorial will cover the \"manual\" way to read in the data vs using a library. In particular, this will cover some of the functionality in [numpy.loadtxt()][loadtxt] and [panadas.read_csv()][read_csv].  It is important to note that the  libraries of choice would be numpy or pandas.  \n",
    "\n",
    "[loadtxt]:http://docs.scipy.org/doc/numpy/reference/generated/numpy.loadtxt.html\n",
    "[read_csv]:http://pandas.pydata.org/pandas-docs/stable/generated/pandas.read_csv.html"
   ]
  },
  {
   "cell_type": "code",
   "execution_count": null,
   "metadata": {
    "collapsed": false
   },
   "outputs": [],
   "source": [
    "# # THIS IS THE CODE TO WRITE THE EXAMPLE FILE IN CASE IT DOES NOT ALREADY EXIST.\n",
    "# # IT PROBABLY WILL NOT WORK UNLESS PYMEASURE HAS BEEN INSTALLED PROPERLY.\n",
    "# # A detour to write the needed example file: \n",
    "# import os\n",
    "# import scipy\n",
    "# import numpy as np\n",
    "# import random\n",
    "# from pyMeasure import *\n",
    "\n",
    "# start=-10\n",
    "# stop=10\n",
    "# num=1000\n",
    "# xdata=np.linspace(start,stop,num)\n",
    "# ydata_with_noise_2=[.5*scipy.exp(-(x-.1)**2/(2.0*3.0**2))+random.gauss(0,.03) for x in xdata]\n",
    "\n",
    "# # This gives the ability to look for files\n",
    "# #os.listdir(os.getcwd()) #list all the files in the current working directory\n",
    "\n",
    "# # This should be the directory where the example files are located. \n",
    "# file_directory=os.path.join(os.getcwd(),'Python_Introduction_Files') \n",
    "\n",
    "# # If the files are in the right place, open the following: \n",
    "# file_name='Example_File_1.txt'\n",
    "# data=[]\n",
    "# for index,item in enumerate(xdata.tolist()):\n",
    "#     data.append([item,ydata_with_noise_2[index]])\n",
    "# options={\"data\":data,\"column_names\":['Position','Amplitude'],\"column_types\":['float','float']}\n",
    "# table=AsciiDataTable(None,**options)\n",
    "# table.path=os.path.join(file_directory,file_name)\n",
    "# table.save()\n"
   ]
  },
  {
   "cell_type": "code",
   "execution_count": 19,
   "metadata": {
    "collapsed": false
   },
   "outputs": [
    {
     "name": "stdout",
     "output_type": "stream",
     "text": [
      "After reading lines[0] and lines[1] are now ['Position,Amplitude\\n', '-10.0,-0.00931982497851\\n']\n",
      "After splitting lines[0] is now ['-10.0', '-0.00931982497851\\n']\n",
      "After converting lines[0] is now [-10.0, -0.00931982497851]\n"
     ]
    }
   ],
   "source": [
    "# To open a file \n",
    "# First it is useful to ‘import os’, a library that deals with the operating system. \n",
    "import os\n",
    "\n",
    "# This gives the ability to look for files\n",
    "#os.listdir(os.getcwd()) #list all the files in the current working directory\n",
    "\n",
    "# This should be the directory where the example files are located. \n",
    "file_directory=os.path.join(os.getcwd(),'Python_Introduction_Files') \n",
    "\n",
    "# If the files are in the right place, open the following: \n",
    "file_name='Example_File_1.txt'\n",
    "\n",
    "file_path=os.path.join(file_directory,file_name)\n",
    "\n",
    "# To open the file use the built in function open, in the read mode.\n",
    "in_file=open(file_path,'r')\n",
    "\n",
    "# The complete contents of the file can be retrieved by use \n",
    "# of ‘contents=in_file.read()’, however it is preferable for processing \n",
    "# reasons, to use a pattern that reads each line of the file into a \n",
    "# separate element of a list.\n",
    "lines=[]\n",
    "for line in in_file:\n",
    "    lines.append(line)\n",
    "    \n",
    "# The list named lines contains the information in the file. It is a list of strings.\n",
    "print(\"After reading lines[0] and lines[1] are now {0}\".format(lines[0:2]))\n",
    "\n",
    "# It is good practice to close in_file\n",
    "in_file.close()\n",
    "\n",
    "\n",
    "# It is necessary at this point to conver the list of strings to a list of numbers.  \n",
    "# The conversion requires the use of float() and split.\n",
    "# First convert each line into a list instead of a single string. This is accomplished via the split() method.\n",
    "# The first line of the file contains a column heading so the conversion process should begin with the\n",
    "# Second line.\n",
    "lines=[line.split(',') for line in lines[1:]]\n",
    "print(\"After splitting lines[0] is now {0}\".format(lines[0]))\n",
    "# Next convert all values to the type 'float' instead of 'str'\n",
    "lines=[map(lambda x:float(x.rstrip().lstrip()),row) for row in lines]\n",
    "print(\"After converting lines[0] is now {0}\".format(lines[0]))\n"
   ]
  },
  {
   "cell_type": "markdown",
   "metadata": {},
   "source": [
    "<a href=\"#top\"> <em>back to top</em></a>\n",
    " <hr style=\"border-top: 2px double #8c8b8b;\"/>\n",
    "<h3><a id=\"function\">Defining a Function</a></h3> "
   ]
  },
  {
   "cell_type": "markdown",
   "metadata": {},
   "source": [
    "A function can have none, one, or many arguments. A function can also return a value or not. This section will cover how to create a function that does what the code in the previous section did.  \n",
    "First, a few important things to remember about functions:\n",
    "1. Functions start with the keyword `def` \n",
    "2. The name of a function cannot have any spaces.\n",
    "3. The name of a function cannot start with a number.\n",
    "4. Functions end when the indented block ends.\n",
    "\n",
    "Below is a basic example to show how it works:\n",
    "```python\n",
    "def function_one(variable_one,variable_two='default value',*list_arguments,**keyword_arguments):\n",
    "    \"\"\"function_one is an example function that will take a positionial argument, a named argument or the \"packed\" arguments\n",
    "    in list_arguments or keyword arguments, it prints them out but does not return a value\"\"\"\n",
    "    print(\"{0}, is the value of variable_one and {1} is the value of variable_two\".format(variable_one,variable_two))\n",
    "    for index,item in enumerate(list_arguments):\n",
    "        print(\"Item number {0} in list_arguments is {1}\".format(index,item))\n",
    "    for key, value in keyword_arguments:\n",
    "        print(\"keyword_arguments[{0}]={1}\".format(key,value))\n",
    "```\n",
    "    "
   ]
  },
  {
   "cell_type": "code",
   "execution_count": null,
   "metadata": {
    "collapsed": false
   },
   "outputs": [],
   "source": [
    "def function_one(variable_one,variable_two='default value',*list_arguments,**keyword_arguments):\n",
    "    \"\"\"function_one is an example function that will take a positionial argument, a named argument or the \"packed\" arguments\n",
    "    in list_arguments or keyword arguments, it prints them out but does not return a value\"\"\"\n",
    "    \n",
    "    print(\"{0}, is the value of variable_one and {1} is the value of variable_two\".format(variable_one,variable_two))\n",
    "    for index,item in enumerate(list_arguments):\n",
    "        print(\"Item number {0} in list_arguments is {1}\".format(index,item))\n",
    "    for key, value in keyword_arguments.iteritems():\n",
    "        print(\"keyword_arguments[{0}]={1}\".format(key,value))\n",
    "        \n",
    "function_one('Hello',\"hi\",*['a list','of','values','or',123],**{'A Key':'A Value'})\n",
    "\n",
    "function_one('Hello again',*['a list','of','values','or',123],**{'A Key':'A Value'})\n",
    "\n",
    "function_one(*['a list','of','values','or',123],**{'A Key':'A Value'})\n",
    "\n",
    "function_one(**{'A Key':'A Value','variable_one':1})"
   ]
  },
  {
   "cell_type": "code",
   "execution_count": null,
   "metadata": {
    "collapsed": false
   },
   "outputs": [],
   "source": [
    "# The code below uses a function to do the same thing as the code in the 'opening a file section'.\n",
    "# Note: Do not forget the doc strings.\n",
    "def process_data_file(file_path,skiprows=1):\n",
    "    \"\"\"process_data_file is a function that opens a data file and returns a 2-d list\"\"\"\n",
    "    in_file=open(file_path,'r')\n",
    "    x_data=[]\n",
    "    y_data=[]\n",
    "    for index,line in enumerate(in_file):\n",
    "        if index>skiprows-1:\n",
    "            line_list=line.split(',')\n",
    "            line_list=map(lambda x:float(x),line_list)\n",
    "            x_data.append(line_list[0])\n",
    "            y_data.append(line_list[1])\n",
    "        elif index<=skiprows-1:\n",
    "            pass\n",
    "    return [x_data,y_data]\n",
    "\n",
    "# Try the function\n",
    "#process_data_file(os.path.join(file_directory,file_name))"
   ]
  },
  {
   "cell_type": "markdown",
   "metadata": {},
   "source": [
    "<a href=\"#top\"> <em>back to top</em></a>\n",
    " <hr style=\"border-top: 2px double #8c8b8b;\"/>\n",
    "<h3> <a id=\"class\">Creating a Class</a> </h3>"
   ]
  },
  {
   "cell_type": "markdown",
   "metadata": {},
   "source": [
    "A class is a block of code, including variables and functions, that lives on its own. By defining chunks of code with classes it is stating: \"these are important functions and variables when dealing with this problem\". It is impossible to teach in a limited amount of time how functional, procedural, and object oriented programming (OOP) methodologies differ. OOP can be extremely helpful and/or necessary when programming for scientific purposes.  When dealing with the repeated opening and analyzing of the same kind of file, the code and useful functions that do this should live in one or a few classes. Another time when it is helpful to know OOP is when dealing with any Graphical User Interface (GUI). Most GUI toolboxes use classes."
   ]
  },
  {
   "cell_type": "code",
   "execution_count": null,
   "metadata": {
    "collapsed": true
   },
   "outputs": [],
   "source": [
    "class CSVData():\n",
    "    \"\"\"CSVData is a class that holds example data\"\"\"\n",
    "    def __init__(self,file_path=None,**options):\n",
    "        \"\"\"Intializes the CSVData class, requires a file_path\"\"\"\n",
    "        \n",
    "        # This pattern allows for the setting of defaults for a large number of options\n",
    "        # It also provides the ability to potentially add options after the initial class is created\n",
    "        defaults={'directory':None,'file_name':None,'skiprows':1}\n",
    "        self.options={}\n",
    "        for key,value in defaults.iteritems():\n",
    "            self.options[key]=value\n",
    "        for key,value in options.iteritems():\n",
    "            self.options[key]=value\n",
    "        # Using the function from above and some error handling. \n",
    "        # If there is an error in the code inside of the try: block it will be sent to an except block\n",
    "        try:\n",
    "            # First see if the user set file_path or directory and file_name in options\n",
    "            if file_path is None:\n",
    "                file_path=os.path.join(self.options['directory'],self.options[\"file_name\"])\n",
    "            # Then use the function process_data_file to make the x_data and y_data attributes\n",
    "            [self.x_data,self.y_data]=process_data_file(file_path)\n",
    "        except:\n",
    "            print(\"There was an error in opening file {0}\".format(file_path))\n",
    "            raise"
   ]
  },
  {
   "cell_type": "code",
   "execution_count": null,
   "metadata": {
    "collapsed": false
   },
   "outputs": [],
   "source": [
    "# Now use the class on the original file\n",
    "new_data=CSVData(os.path.join(os.getcwd(),'Python_Introduction_Files','Example_File_1.txt'))\n",
    "#print new_data.x_data"
   ]
  },
  {
   "cell_type": "markdown",
   "metadata": {},
   "source": [
    "Those steps might seem pointless, but were preparation for the fact that through functions and variables, those chunks of code can be passed on to make more complicated programs. This is called class inheritance. "
   ]
  },
  {
   "cell_type": "code",
   "execution_count": null,
   "metadata": {
    "collapsed": false
   },
   "outputs": [],
   "source": [
    "# Example of an inherited class\n",
    "class MyData(CSVData):\n",
    "    \"\"\"MyData is a class that opens a standard CSV file and keeps things important to me \"\"\"\n",
    "    def __init__(self,file_name,**options):\n",
    "        defaults={'directory':None,'file_name':None,'skiprows':1}\n",
    "        self.options={}\n",
    "        for key,value in defaults.iteritems():\n",
    "            self.options[key]=value\n",
    "        for key,value in options.iteritems():\n",
    "            self.options[key]=value\n",
    "        CSVData.__init__(self,file_name,**self.options)\n",
    "        self.max=max(self.y_data)\n",
    "        self.min=min(self.y_data)\n",
    "new_data=MyData(os.path.join(os.getcwd(),'Python_Introduction_Files','Example_File_1.txt'))\n",
    "new_data.max"
   ]
  },
  {
   "cell_type": "markdown",
   "metadata": {},
   "source": [
    "Now the class MyData has all of the functions and variables in CSVData in addition to the new ones!!"
   ]
  },
  {
   "cell_type": "markdown",
   "metadata": {},
   "source": [
    "<a href=\"#top\"> <em>back to top</em></a>\n",
    " <hr style=\"border-top: 2px double #8c8b8b;\"/>\n",
    "<h3> <a id=\"plotting-basic\">Basic Plotting</a></h3>"
   ]
  },
  {
   "cell_type": "markdown",
   "metadata": {},
   "source": [
    "Basic plots that emulate early MATLAB plots are easy to make in python using the library matplotlib."
   ]
  },
  {
   "cell_type": "code",
   "execution_count": null,
   "metadata": {
    "collapsed": true
   },
   "outputs": [],
   "source": [
    "# Basic plotting with Matplotlib\n",
    "import matplotlib.pyplot as plt\n",
    "\n",
    "# Make a data set\n",
    "x=[i for i in range(-100,100)]\n",
    "y=[j**2 for j in x]\n",
    "\n",
    "# Basic Plot\n",
    "plt.plot(x,y)\n",
    "plt.show()"
   ]
  },
  {
   "cell_type": "markdown",
   "metadata": {},
   "source": [
    "<a href=\"#top\"> <em>back to top</em></a>\n",
    " <hr style=\"border-top: 2px double #8c8b8b;\"/>\n",
    "<h3> <a id=\"plotting-int\">Intermediate Plotting</a></h3>"
   ]
  },
  {
   "cell_type": "markdown",
   "metadata": {},
   "source": [
    "If making a publication quality plot, many changes to suit the given audience are necessary such as font size, markers, etc. In addition, it would be nice to have the plot inside the notebook for reference; this is achieved with the notebook \"magic\". There are a lot of functionalities hidden in jupyter (and its predecessor ipython) that can be accessed using magics. A magic is started by putting something like `%matplotlib notebook` at the beginning of a cell. In this case it will cause the plot to live in the notebook and be interactive."
   ]
  },
  {
   "cell_type": "markdown",
   "metadata": {},
   "source": [
    "#### Making an Interactive Plot\n",
    "Note: To undo an interactive plot usually requires a kernel restart."
   ]
  },
  {
   "cell_type": "code",
   "execution_count": null,
   "metadata": {
    "collapsed": false
   },
   "outputs": [],
   "source": [
    "%matplotlib notebook\n",
    "x=[i for i in range(-100,100)]\n",
    "y=[j**2 for j in x]\n",
    "plt.plot(x,y)\n",
    "plt.show()"
   ]
  },
  {
   "cell_type": "code",
   "execution_count": null,
   "metadata": {
    "collapsed": false
   },
   "outputs": [],
   "source": [
    "# The magic stays until the kernel is restarted, so now is a good opportunity to add a plot_title\n",
    "plt.title('Parabolic')\n",
    "plt.show()"
   ]
  },
  {
   "cell_type": "code",
   "execution_count": null,
   "metadata": {
    "collapsed": false
   },
   "outputs": [],
   "source": [
    "# This will spruce up the title with a little latex\n",
    "plt.title('Parabolic Curve '+r'$f(x)=x^2$')\n",
    "\n",
    "# Adding x and y labels\n",
    "plt.xlabel('X Value')\n",
    "plt.ylabel('Y Value')\n",
    "\n"
   ]
  },
  {
   "cell_type": "code",
   "execution_count": null,
   "metadata": {
    "collapsed": false
   },
   "outputs": [],
   "source": [
    "# Changing the line width \n",
    "line=plt.plot(x,y)\n",
    "plt.setp(line,color='r', linewidth=2.0)"
   ]
  },
  {
   "cell_type": "code",
   "execution_count": null,
   "metadata": {
    "collapsed": false
   },
   "outputs": [],
   "source": [
    "# Switch from a line to markers\n",
    "plt.plot(x,y,'ro')"
   ]
  },
  {
   "cell_type": "code",
   "execution_count": null,
   "metadata": {
    "collapsed": false
   },
   "outputs": [],
   "source": [
    "# Changing the fontsize\n",
    "plt.xlabel('X Value',fontsize=24)"
   ]
  },
  {
   "cell_type": "code",
   "execution_count": null,
   "metadata": {
    "collapsed": false
   },
   "outputs": [],
   "source": [
    "# Adding annotations in the coordinates system of the plot\n",
    "x,y=-50,7000\n",
    "plt.text(x, y, 'A New text Annotation at({0:3.2f},{1:3.2f})'.format(x,y))"
   ]
  },
  {
   "cell_type": "code",
   "execution_count": null,
   "metadata": {
    "collapsed": true
   },
   "outputs": [],
   "source": [
    "# To kill the current plot\n",
    "plt.close()\n"
   ]
  },
  {
   "cell_type": "markdown",
   "metadata": {},
   "source": [
    "<a href=\"#top\"> <em>back to top</em></a>\n",
    " <hr style=\"border-top: 2px double #8c8b8b;\"/>\n",
    "<h3> <a id=\"markdown\">Using Jupyter's Markdown Cells to Document Code</a></h3>"
   ]
  },
  {
   "cell_type": "markdown",
   "metadata": {},
   "source": [
    "The jupyter environment comes with a handy way of creating notes and documenting code - the markdown cell. A markdown cell handles traditional markdown (a HTML short hand), most html tags, and latex. This allows the user to make their code pretty. \n",
    "\n",
    "In this section the user will learn:\n",
    "1. How to create simple markdown cells with formatted text inside\n",
    "2. How to add html for more complex formatting\n",
    "3. How to highlight code for demonstration, but not execution\n",
    "4. How to output simple formulae using latex (note: sometimes this is broken in Internet Explorer, use another browser such as Chrome)\n"
   ]
  },
  {
   "cell_type": "markdown",
   "metadata": {},
   "source": [
    "#### Creating a Simple Markdown cell with Formatted Text Inside\n",
    "1. Create a new cell, by executing the previous cell or Insert Cell <img src=\"./Python_Introduction_Images/Insert_Cell.PNG\"/><br/>\n",
    "2. Change the type of cell from Code to Markdown by escape+m or by changing the selection in the tool bar <img src=\"./Python_Introduction_Images/Cell_Type.PNG\" /><br/>\n",
    "3. In the new cell enter ```# My Heading```, execute the cell by pressing shift+enter.  This will produce something like:\n",
    "# My Heading\n",
    "<br/>\n",
    "4. The markdown shorthand has the ability to apply a large number of simple styles such as bold, italic, tables, links, and the equivalent of the HTML heading tags. A more complete listing of the possibilities for markdown can be found at :https://daringfireball.net/projects/markdown/syntax a more jupyter focused tutorial can be found [here][jupyter-markdown].\n",
    "\n",
    "Most used shorthand rules:\n",
    "+ Headings start with ```#``` . The level is given by the number of ```#'s``` , like ```## Heading 2```\n",
    "# Heading 1\n",
    "## Heading 2\n",
    "### Heading 3\n",
    "#### Heading 4\n",
    "<br/>\n",
    "+ Number lists are default for things that start with numbers like ```1. Numbered list element 1```\n",
    "    1. Numbered list element 1\n",
    "    2. Numbered list element 2\n",
    "<br/>\n",
    "+ Unordered or bulleted lists start with a symbol, such as ```+```  \n",
    "```+ Bullet 1```\n",
    "    + Bullet 1\n",
    "    + Bullet 2\n",
    "<br/>\n",
    "+ Bold is two underscores before and after the word or phrase, like ```__my bolded text__``` and will be displayed as\n",
    "__my bolded text__\n",
    "<br/>\n",
    "+ Italics is an asterix before and after, like ```*italics is awesome*``` and will be displayed as *italics is awesome*\n",
    "<br/>\n",
    "+ Tables can be made with underscores and pipes such as ```| Tables        | Are           | Cool  |```\n",
    "| Tables        | Are           | Cool  |, I usually use the html version though.\n",
    "<br/>\n",
    "\n",
    "[jupyter-markdown]:http://nbviewer.jupyter.org/github/twistedhardware/mltutorial/blob/master/notebooks/jupyter/2.%20Markdown%20%26%20LaTeX.ipynb"
   ]
  },
  {
   "cell_type": "markdown",
   "metadata": {},
   "source": [
    "#### Adding HTML for more Complex Formatting\n",
    "In addition to handling the markdown shorthand syntax, jupyter's markdown *cells* handle most HTML tags properly. These include the ability to add the style attribute. \n",
    "For example, to change a heading to be red and in a different font type ```<h1 style=\"color:red;font-family:serif\"> My Heading</h1>```, execute the cell and something similar to the heading below should appear. \n",
    "<h1 style=\"color:red;font-family:serif\"> My Heading</h1><br/>\n",
    "or to do a styled table such as: <br/>\n",
    "```<table style=\"color:blue;\"><tr><td style=\"border: 5px solid green;\">Table row 1 column 1 </td><td style=\"border: 5px solid blue;\">Table row 1 column 2 </td></tr></table>```\n",
    "<table style=\"color:blue;\"><tr><td style=\"border: 5px solid green;\">Table row 1 column 1 </td><td style=\"border: 5px solid blue;\">Table row 1 column 2 </td></tr></table>\n",
    "<br/>\n",
    "this works for a range of tags that include :```<h1></h1>...<h6></h6><p></p><table></table><img />```\n",
    "does not work for javascript or svg. To embed them requires the use of the rich output methods in jupyter.\n"
   ]
  },
  {
   "cell_type": "markdown",
   "metadata": {},
   "source": [
    "#### Code Highlighting for Code not Executed\n",
    "Markdown cells have the ability to include a chunk of code in number of languages, provided they are properly identified with highlighting. To do this, start by escaping the test with three \\` (backquote, the character under ~ on most keyboards) followed by a language name. So it looks like \\`\\`\\`python \\`\\`\\`\n",
    "\n",
    "<br/>\n",
    "For example:<br/>\n",
    "\\`\\`\\`python <br/>\n",
    "\\# python comment <br/>\n",
    "\\`\\`\\` <br/>\n",
    "is rendered like\n",
    "```python\n",
    "# python comment\n",
    "```\n",
    "<br/>\n",
    "This works with HTML, javscript, python and a few others by changing the word directly after the three backquotes.<br/>\n",
    "<br/>\n",
    "HTML: <br/>\n",
    "```html\n",
    "<h3 style=\"color:red\"> Table </h3>\n",
    "<table> </table>\n",
    "```\n",
    "\n",
    "Javascript: <br/>\n",
    "```javascript\n",
    "// A javascript comment\n",
    "function myJavascriptFunction(input){\n",
    "var longUnreadableName=null;\n",
    "document.getElementById('fake-id').innerHTML=input;\n",
    "}\n",
    "```\n",
    "<br/>\n",
    "Visual Basic: <br/>\n",
    "```vb\n",
    "dim Variable as integer\n",
    "```\n",
    "\n",
    "            "
   ]
  },
  {
   "cell_type": "markdown",
   "metadata": {},
   "source": [
    "#### Latex for Equations and Type Setting\n",
    "Jupyter markdown cells also understand latex. To do this, wrap expressions with two \\$'s <br/>\n",
    "<br/>i.e.: <br/>\n",
    "```$$your latex here$$``` for equations on their own line <br/>\n",
    "```$your latex here$``` for inline equations <br/>\n",
    "This is sometimes broken in Internet Explorer, but works fine in most other browsers. \n",
    "<br/><br/>For example:<br/>\n",
    "the sum of xi from i=0 to i=100 <br/>\n",
    "`$\\sum\\limits_{i=100}^{0}x_{i}$`\n",
    "<br/>renders as:\n",
    "$\\sum\\limits_{i=100}^{0}x_i$\n",
    "<br/>\n",
    "or a gaussian is `$$f(x)=ae^{-{(x-x_0)}^2\\over{2\\sigma^2}}$$`:\n",
    "$$f(x)=ae^{-{(x-x_0)}^2\\over{2\\sigma^2}}$$"
   ]
  },
  {
   "cell_type": "markdown",
   "metadata": {},
   "source": [
    "<a href=\"#top\"> <em>back to top</em></a>\n",
    "<hr style=\"border-top: 2px double #8c8b8b;\"/>\n",
    "<h3> <a id=\"fitting\">Basic Fitting</a></h3>"
   ]
  },
  {
   "cell_type": "markdown",
   "metadata": {},
   "source": [
    "#### Fitting Using scipy\n",
    "There is more than one way to do a fit in python. This tutorial will use the scipy library and its optimizing package to do a fit. Scipy can be found at https://www.scipy.org/"
   ]
  },
  {
   "cell_type": "code",
   "execution_count": null,
   "metadata": {
    "collapsed": false
   },
   "outputs": [],
   "source": [
    "# Import scipy and some of its important modules\n",
    "import scipy\n",
    "import scipy.optimize\n",
    "import scipy.stats\n",
    "# Import numpy for linspace and random numbers\n",
    "import numpy as np\n",
    "# Import python random numbers\n",
    "import random\n",
    "\n",
    "# Simulate data for fit \n",
    "start=-10\n",
    "stop=10\n",
    "num=1000\n",
    "xdata=np.linspace(start,stop,num)\n",
    "ydata=.5*scipy.exp(-(xdata-.1)**2/(2.0*3.0**2))\n",
    "ydata_with_noise=[.5*scipy.exp(-(x-.1)**2/(2.0*3.0**2))+np.random.random() for x in xdata]\n",
    "ydata_with_noise_2=[.5*scipy.exp(-(x-.1)**2/(2.0*3.0**2))+random.gauss(0,.03) for x in xdata]\n",
    "\n",
    "\n",
    "# Define fitting functions\n",
    "def lorentzian_function(a,x):\n",
    "    \"a[0]=amplitude,a[1]=center,a[2]=FWHM\"\n",
    "    return a[0]*1/(1+(x-a[1])**2/(a[2]**2))\n",
    "\n",
    "def gaussian_function(a,x):\n",
    "    \" a[0]=amplitude, a[1]=center, a[2]=std deviation\"\n",
    "    return a[0]*scipy.exp(-(x-a[1])**2/(2.0*a[2]**2))\n",
    "\n",
    "# Define the fit function that returns least square optimization\n",
    "def fit(function,xdata,ydata,a0):\n",
    "    fit_dictionary={}\n",
    "    error_function=lambda a, xdata, ydata:function(a,xdata)-ydata\n",
    "    a,succes=scipy.optimize.leastsq(error_function, a0,args=(xdata,ydata))\n",
    "    return a\n",
    "\n",
    "# Make a horrible guess\n",
    "a0=[1,1,1]\n",
    "# Call fit function on the data\n",
    "result=fit(gaussian_function,xdata,ydata_with_noise_2,a0)\n",
    "#result=fit(lorentzian_function,xdata,ydata_with_noise_2,a0)\n",
    "\n",
    "# Plot the results \n",
    "\n",
    "# Data plot \n",
    "plt.plot(xdata,ydata_with_noise_2,'bo')\n",
    "# Fit plot\n",
    "plt.plot(xdata,[gaussian_function(result,x) for x in xdata],'r-',linewidth=3)\n",
    "# Some plot type setting\n",
    "plt.title('Fit of data')\n",
    "options={'fontsize':24}\n",
    "# Text showing the numeric values with latex\n",
    "plt.text(-8, .5, r'$%3.2fe^{\\frac{-{(x-%3.2f)}^2}{2*%3.2f^2}}$'%(result[0],result[1],result[2]),**options)\n",
    "plt.show()"
   ]
  },
  {
   "cell_type": "markdown",
   "metadata": {},
   "source": [
    "<a href=\"#top\"> <em>back to top</em></a>\n",
    "<hr style=\"border-top: 2px double #8c8b8b;\"/>\n",
    "<h3> <a id=\"fit-analysis\">Analysis of a Fit</a></h3> "
   ]
  },
  {
   "cell_type": "markdown",
   "metadata": {},
   "source": [
    "##### First Calculate the Residuals\n",
    "Probably the most basic analysis of a fit is that of computing how the fit varies from the data. These data points are typically called residuals. "
   ]
  },
  {
   "cell_type": "code",
   "execution_count": null,
   "metadata": {
    "collapsed": false
   },
   "outputs": [],
   "source": [
    "plt.close()\n",
    "def calculate_residuals(fit_function,a,xdata,ydata):\n",
    "    \"\"\"Given the fit function, a parameter vector, xdata, and ydata returns the residuals as [x,y] pairs\"\"\"\n",
    "    output_x=xdata\n",
    "    output_y=[fit_function(a,x)-ydata[index] for index,x in enumerate(xdata)]\n",
    "    return [output_x,output_y]\n",
    "[x,y]=calculate_residuals(gaussian_function,result,xdata,ydata_with_noise_2)\n",
    "plt.plot(x,y)\n",
    "#calculate_residuals(gaussian_function,result,xdata,ydata_with_noise_2)"
   ]
  },
  {
   "cell_type": "markdown",
   "metadata": {},
   "source": [
    "#### Look at the distribution of residuals. How does the data vary from the model (fit)?"
   ]
  },
  {
   "cell_type": "code",
   "execution_count": null,
   "metadata": {
    "collapsed": false
   },
   "outputs": [],
   "source": [
    "# To do a histogram of the residuals\n",
    "plt.close()\n",
    "plt.hist(y)"
   ]
  },
  {
   "cell_type": "code",
   "execution_count": null,
   "metadata": {
    "collapsed": false
   },
   "outputs": [],
   "source": [
    "# To find the mean of the residuals and the standard deviation\n",
    "import numpy as np\n",
    "mean_y=np.mean(y)\n",
    "std_y=np.std(y)\n",
    "print(\"The residuals mean is {0} \\n The residuals standard deviation is {1}\".format(mean_y,std_y))"
   ]
  },
  {
   "cell_type": "markdown",
   "metadata": {},
   "source": [
    "#### It is Useful to Look at all the Information at the Same Time"
   ]
  },
  {
   "cell_type": "code",
   "execution_count": null,
   "metadata": {
    "collapsed": false
   },
   "outputs": [],
   "source": [
    "plt.close()\n",
    "# It is often helpful to see all of the above together at the same time\n",
    "def fit_and_plot(fit_function,xdata,ydata,a0=[1,1,1]):\n",
    "    \"\"\"fit and plot, fits xdata, ydata  with fit function and returns a plot of the fit overlaid with the data and \n",
    "    a plot of the residuals, including a histogram\"\"\"\n",
    "    fit_results=fit(fit_function,xdata,ydata,a0)\n",
    "    # To do 2 plots in 2 rows with shared axis\n",
    "    fig, (ax0, ax1) = plt.subplots(nrows=2, sharex=True)\n",
    "    ax0.plot(xdata,ydata,'bo',label='data')\n",
    "    ax0.plot(xdata,[fit_function(fit_results,x) for x in xdata],'r-',linewidth=3,label='fit')\n",
    "    ax0.legend(loc='upper right', shadow=True)\n",
    "    ax0.set_title('Fit of data using {0}'.format(fit_function.__name__))\n",
    "    [x,y]=calculate_residuals(fit_function,fit_results,xdata,ydata)\n",
    "    ax1.plot(x,y)\n",
    "    ax1.set_title('Residuals')\n",
    "    plt.show()\n",
    "fit_and_plot(gaussian_function,xdata,ydata_with_noise_2)"
   ]
  },
  {
   "cell_type": "markdown",
   "metadata": {},
   "source": [
    "#### When the data does not Conform to the Model it is Common to see Structured Residuals"
   ]
  },
  {
   "cell_type": "code",
   "execution_count": null,
   "metadata": {
    "collapsed": false
   },
   "outputs": [],
   "source": [
    "plt.close()\n",
    "# Try the same data with a different fit function\n",
    "fit_and_plot(lorentzian_function,xdata,ydata_with_noise_2)\n"
   ]
  },
  {
   "cell_type": "code",
   "execution_count": null,
   "metadata": {
    "collapsed": false
   },
   "outputs": [],
   "source": [
    "plt.close()\n",
    "a0=[1 for i in range(3)]\n",
    "[x,y]=calculate_residuals(lorentzian_function,fit(lorentzian_function,\n",
    "                                                  xdata,ydata_with_noise_2,a0),xdata,ydata_with_noise_2)\n",
    "plt.hist(y)\n",
    "plt.show()\n",
    "mean_y=np.mean(y)\n",
    "std_y=np.std(y)\n",
    "print(\"The residuals mean is {0} \\nThe residuals standard deviation is {1}\".format(mean_y,std_y))"
   ]
  },
  {
   "cell_type": "code",
   "execution_count": null,
   "metadata": {
    "collapsed": false
   },
   "outputs": [],
   "source": [
    "%matplotlib inline\n",
    "\n",
    "from ipywidgets import *\n",
    "import numpy,scipy,random \n",
    "\n",
    "t=numpy.arange(0.0,1.0,0.01)\n",
    "start=-10\n",
    "stop=10\n",
    "num=1000\n",
    "xdata=numpy.linspace(start,stop,num)\n",
    "ydata=.5*scipy.exp(-(xdata-.1)**2/(2.0*3.0**2))\n",
    "ydata_with_noise=[.5*scipy.exp(-(x-.1)**2/(2.0*3.0**2))+numpy.random.random() for x in xdata]\n",
    "ydata_with_noise_2=[.5*scipy.exp(-(x-.1)**2/(2.0*3.0**2))+random.gauss(0,.03) for x in xdata]\n",
    "\n",
    "interact(lambda noise_sigma:fit_and_plot(lorentzian_function,\n",
    "                               xdata,\n",
    "                               [.5*scipy.exp(-(x-.1)**2/(2.0*3.0**2))+random.gauss(0,noise_sigma) for x in xdata]),\n",
    "         noise_sigma=(0,.3,.01))"
   ]
  },
  {
   "cell_type": "code",
   "execution_count": null,
   "metadata": {
    "collapsed": false
   },
   "outputs": [],
   "source": [
    "interact(lambda noise_sigma,noise_mu:fit_and_plot(gaussian_function,\n",
    "                               xdata,\n",
    "                               [.5*scipy.exp(-(x-.1)**2/(2.0*3.0**2))+random.gauss(noise_mu,noise_sigma) for x in xdata]),\n",
    "         noise_sigma=(0,1,.01),noise_mu=(0,1,.01))"
   ]
  },
  {
   "cell_type": "markdown",
   "metadata": {},
   "source": [
    "<a href=\"#top\"> <em>back to top</em></a>\n",
    "<hr style=\"border-top: 2px double #8c8b8b;\"/>\n",
    "<h3> <a id=\"basic-instrument\">Basic Instrument Control</a></h3> "
   ]
  },
  {
   "cell_type": "markdown",
   "metadata": {},
   "source": [
    "### Visa instrument control requires a visa driver for your OS.  The standard one is made by National Instruments, but there are others.\n",
    "1. Install [NIVisa] [visa] or on Mac OS https://pyvisa.readthedocs.io/en/stable/getting_nivisa.html#getting-nivisa\n",
    "    + NIVISA requires registration, but it is free.\n",
    "    + It allows communication through several methods, including [GPIB][gpib].\n",
    "    + This is not a python package, but is needed for pyvisa,\n",
    "    [pyvisa-py][pyvisa-py] looks to be a potential alternative.\n",
    "    <br/>\n",
    "<br/>\n",
    "2. Install [pyvisa][pyvisa] (from the OS command prompt type `pip install pyvisa` or from jupyter try:\n",
    "```python \n",
    "import os\n",
    "os.system('pip install pyvisa')\n",
    "```\n",
    "\n",
    "\n",
    "\n",
    "\n",
    "[visa]:http://www.ni.com/download/ni-visa-15.0.1/5693/en/\n",
    "[pyvisa]:https://pyvisa.readthedocs.org/en/stable/getting.html\n",
    "[wx]:http://wxpython.org/\n",
    "[gpib]:https://en.wikipedia.org/wiki/IEEE-488\n",
    "[pyvisa-py]:http://pyvisa-py.readthedocs.org/en/latest/"
   ]
  },
  {
   "cell_type": "code",
   "execution_count": null,
   "metadata": {
    "collapsed": false
   },
   "outputs": [],
   "source": [
    "# Test the installation\n",
    "import visa\n",
    "rm = visa.ResourceManager()\n",
    "print(rm.list_resources())\n"
   ]
  },
  {
   "cell_type": "code",
   "execution_count": null,
   "metadata": {
    "collapsed": true
   },
   "outputs": [],
   "source": [
    "# To send a gpib command, change the address to the device\n",
    "my_instrument = rm.open_resource('GPIB0::14::INSTR')\n",
    "print(my_instrument.query('*IDN?'))\n",
    "\n"
   ]
  },
  {
   "cell_type": "markdown",
   "metadata": {},
   "source": [
    "<a href=\"#top\"> <em>back to top</em></a>\n",
    "<hr style=\"border-top: 2px double #8c8b8b;\"/>\n",
    "<li> <h3> <a id=\"more-information\">More Information</a></h3> </li>"
   ]
  },
  {
   "cell_type": "markdown",
   "metadata": {},
   "source": [
    "## Other Resources\n",
    "This tutorial only: https://pyvisa.readthedocs.io/en/stable/getting_nivisa.html#getting-nivisa covers a fraction of available resources for python, for more information see the links below.\n",
    "\n",
    "### Python Based Packages Like Anaconda\n",
    "1. Enthought https://www.enthought.com/products/canopy/\n",
    "2. Python(x,y)https://python-xy.github.io/\n",
    "\n",
    "\n",
    "### Jupyter Examples\n",
    "1. http://nbviewer.jupyter.org/github/ipython/ipython/blob/4.0.x/examples/IPython%20Kernel/Index.ipynb\n",
    "\n",
    "### Macine Learning in Python\n",
    "1. http://scikit-learn.org/stable/index.html\n",
    "\n",
    "### Python Web Frameworks\n",
    "1. https://www.djangoproject.com/\n",
    "2. http://flask.pocoo.org/\n",
    "3. http://www.tornadoweb.org/en/stable/\n",
    "\n",
    "### Python Integrated Development Enviornments\n",
    "1. https://pythonhosted.org/spyder/\n",
    "2. https://www.jetbrains.com/pycharm/\n"
   ]
  },
  {
   "cell_type": "code",
   "execution_count": null,
   "metadata": {
    "collapsed": true
   },
   "outputs": [],
   "source": []
  }
 ],
 "metadata": {
  "kernelspec": {
   "display_name": "Python 2",
   "language": "python",
   "name": "python2"
  },
  "language_info": {
   "codemirror_mode": {
    "name": "ipython",
    "version": 2
   },
   "file_extension": ".py",
   "mimetype": "text/x-python",
   "name": "python",
   "nbconvert_exporter": "python",
   "pygments_lexer": "ipython2",
   "version": "2.7.12"
  }
 },
 "nbformat": 4,
 "nbformat_minor": 0
}
