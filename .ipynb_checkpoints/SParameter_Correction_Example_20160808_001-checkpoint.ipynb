{
 "cells": [
  {
   "cell_type": "markdown",
   "metadata": {},
   "source": [
    "# S-parameter Correction and Manipulation\n",
    "Examples of how to apply a 12-term and 8-term correction model to s-parameter data. In addition the transformation between S and T matrices. "
   ]
  },
  {
   "cell_type": "code",
   "execution_count": 6,
   "metadata": {
    "collapsed": false
   },
   "outputs": [],
   "source": [
    "from pyMeasure import *\n",
    "import os\n",
    "import numpy as np"
   ]
  },
  {
   "cell_type": "code",
   "execution_count": 4,
   "metadata": {
    "collapsed": true
   },
   "outputs": [],
   "source": [
    "# import an s-parameter file to play with\n",
    "os.chdir(TESTS_DIRECTORY)\n",
    "two_port=S2PV1(\"20160301_30ft_cable_0.s2p\")\n",
    "two_port.show()"
   ]
  },
  {
   "cell_type": "markdown",
   "metadata": {},
   "source": [
    "From S to T:\n",
    "$\n",
    "T 11   = − det ( S    )    S 21        {\\displaystyle T_{11}={\\frac {-\\det {\\begin{pmatrix}S\\end{pmatrix}}}{S_{21}}}\\,} \\\\ T_{11}={\\frac {-\\det {\\begin{pmatrix}S\\end{pmatrix}}}{S_{21}}}\\,\\\\T 12   = S 11   S 21       \\\\ {\\displaystyle T_{12}={\\frac {S_{11}}{S_{21}}}\\,}  T_{12}={\\frac {S_{11}}{S_{21}}}\\,\\\\T 21   = − S 22    S 21        {\\displaystyle T_{21}={\\frac {-S_{22}}{S_{21}}}\\,} \\\\ T_{21}={\\frac {-S_{22}}{S_{21}}}\\,\\\\T 22   = 1 S 21        {\\displaystyle T_{22}={\\frac {1}{S_{21}}}\\,} \\\\ T_{22}={\\frac {1}{S_{21}}}\\,$"
   ]
  },
  {
   "cell_type": "code",
   "execution_count": 22,
   "metadata": {
    "collapsed": false
   },
   "outputs": [],
   "source": [
    "# Now create a numpy matrix of sparameters to do T-matrix conversion, should be added to S2PV1 model\n",
    "matrix_form=[[row[0],np.matrix(row[1:]).reshape((2,2))] for row in two_port.sparameter_complex]"
   ]
  },
  {
   "cell_type": "code",
   "execution_count": 53,
   "metadata": {
    "collapsed": false
   },
   "outputs": [],
   "source": [
    "# Convert to T_matrix form, also should be added to S2PV1\n",
    "t_matrix=[]\n",
    "for row in matrix_form:\n",
    "    frequency=row[0]\n",
    "    m=row[1]\n",
    "    T11=-np.linalg.det(m)/m[1,0]\n",
    "    T12=m[0,0]/m[1,0]\n",
    "    T21=-m[1,1]/m[1,0]\n",
    "    T22=1/m[1,0]\n",
    "    t_matrix.append([frequency,np.matrix([[T11,T21],[T21,T22]])])"
   ]
  },
  {
   "cell_type": "code",
   "execution_count": 54,
   "metadata": {
    "collapsed": false
   },
   "outputs": [
    {
     "data": {
      "text/plain": [
       "[10.0, matrix([[-0.00165583+0.10131766j, -0.05209200+0.06155311j],\n",
       "         [-0.05209200+0.06155311j, -0.06457989-9.89974361j]])]"
      ]
     },
     "execution_count": 54,
     "metadata": {},
     "output_type": "execute_result"
    }
   ],
   "source": [
    "def S_to_T(S_list):\n",
    "    \"\"\"Converts S-parameters into a T Matrix. Input form should be in frequency, np.matrix([[S11,S12],[S21,S22]])\n",
    "    format. \"\"\"\n",
    "    pass\n"
   ]
  },
  {
   "cell_type": "code",
   "execution_count": 50,
   "metadata": {
    "collapsed": false
   },
   "outputs": [
    {
     "data": {
      "text/plain": [
       "matrix([[ 0.00850644+0.00190443j, -0.00109549+0.10089327j],\n",
       "        [-0.00065892+0.10100842j,  0.00618306+0.00530229j]])"
      ]
     },
     "execution_count": 50,
     "metadata": {},
     "output_type": "execute_result"
    }
   ],
   "source": [
    "m"
   ]
  },
  {
   "cell_type": "code",
   "execution_count": 52,
   "metadata": {
    "collapsed": false
   },
   "outputs": [
    {
     "data": {
      "text/plain": [
       "(0.0061830580648036503+0.0053022888681863401j)"
      ]
     },
     "execution_count": 52,
     "metadata": {},
     "output_type": "execute_result"
    }
   ],
   "source": [
    "m[1,1]"
   ]
  },
  {
   "cell_type": "code",
   "execution_count": null,
   "metadata": {
    "collapsed": true
   },
   "outputs": [],
   "source": []
  }
 ],
 "metadata": {
  "kernelspec": {
   "display_name": "Python 2",
   "language": "python",
   "name": "python2"
  },
  "language_info": {
   "codemirror_mode": {
    "name": "ipython",
    "version": 2
   },
   "file_extension": ".py",
   "mimetype": "text/x-python",
   "name": "python",
   "nbconvert_exporter": "python",
   "pygments_lexer": "ipython2",
   "version": "2.7.11"
  }
 },
 "nbformat": 4,
 "nbformat_minor": 0
}
