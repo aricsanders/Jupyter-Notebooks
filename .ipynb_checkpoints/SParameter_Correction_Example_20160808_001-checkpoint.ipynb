{
 "cells": [
  {
   "cell_type": "markdown",
   "metadata": {},
   "source": [
    "# S-parameter Correction and Manipulation\n",
    "Examples of how to apply a 12-term and 8-term correction model to s-parameter data. In addition the transformation between S and T matrices. "
   ]
  },
  {
   "cell_type": "code",
   "execution_count": 6,
   "metadata": {
    "collapsed": false
   },
   "outputs": [],
   "source": [
    "from pyMeasure import *\n",
    "import os\n",
    "import numpy as np"
   ]
  },
  {
   "cell_type": "code",
   "execution_count": 4,
   "metadata": {
    "collapsed": true
   },
   "outputs": [],
   "source": [
    "# import an s-parameter file to play with\n",
    "os.chdir(TESTS_DIRECTORY)\n",
    "two_port=S2PV1(\"20160301_30ft_cable_0.s2p\")\n",
    "two_port.show()"
   ]
  },
  {
   "cell_type": "code",
   "execution_count": 22,
   "metadata": {
    "collapsed": false
   },
   "outputs": [],
   "source": [
    "# Now create a numpy matrix of sparameters to do T-matrix conversion, should be added to S2PV1 model\n",
    "matrix_form=[[row[0],np.matrix(row[1:]).reshape((2,2))] for row in two_port.sparameter_complex]"
   ]
  },
  {
   "cell_type": "code",
   "execution_count": 53,
   "metadata": {
    "collapsed": false
   },
   "outputs": [],
   "source": [
    "# Convert to T_matrix form, also should be added to S2PV1\n",
    "t_matrix=[]\n",
    "for row in matrix_form:\n",
    "    frequency=row[0]\n",
    "    m=row[1]\n",
    "    T11=-np.linalg.det(m)/m[1,0]\n",
    "    T12=m[0,0]/m[1,0]\n",
    "    T21=-m[1,1]/m[1,0]\n",
    "    T22=1/m[1,0]\n",
    "    t_matrix.append([frequency,np.matrix([[T11,T21],[T21,T22]])])"
   ]
  },
  {
   "cell_type": "code",
   "execution_count": 57,
   "metadata": {
    "collapsed": false
   },
   "outputs": [],
   "source": [
    "def S_to_T(S_list):\n",
    "    \"\"\"Converts S-parameters into a T Matrix. Input form should be in frequency, np.matrix([[S11,S12],[S21,S22]])\n",
    "    format. Returns a list in [frequency, np.matrix] format \"\"\"\n",
    "    t_matrix=[]\n",
    "    for row in S_list:\n",
    "        frequency=row[0]\n",
    "        m=row[1]\n",
    "        T11=-np.linalg.det(m)/m[1,0]\n",
    "        T12=m[0,0]/m[1,0]\n",
    "        T21=-m[1,1]/m[1,0]\n",
    "        T22=1/m[1,0]\n",
    "        t_matrix.append([frequency,np.matrix([[T11,T12],[T21,T22]])])\n",
    "    return t_matrix\n",
    "\n",
    "def T_to_S(T_list):\n",
    "    \"\"\"Converts T Matrix into S parameters. Input form should be in frequency, np.matrix([[T11,T12],[T21,T22]])\n",
    "    format. Returns a list in [frequency, np.matrix] format.\"\"\"\n",
    "    S_list=[]\n",
    "    for row in T_list:\n",
    "        frequency=row[0]\n",
    "        m=row[1]\n",
    "        S11=m[0,1]/m[1,1]\n",
    "        S12=np.linalg.det(m)/m[1,1]\n",
    "        S21=1/m[1,1]\n",
    "        S22=-m[1,0]/m[1,1]\n",
    "        S_list.append([frequency,np.matrix([[S11,S12],[S21,S22]])])\n",
    "    return S_list"
   ]
  },
  {
   "cell_type": "code",
   "execution_count": 62,
   "metadata": {
    "collapsed": false
   },
   "outputs": [
    {
     "name": "stdout",
     "output_type": "stream",
     "text": [
      "Before conversion to T the first row is [10.0, matrix([[ 0.00850644+0.00190443j, -0.00109549+0.10089327j],\n",
      "        [-0.00065892+0.10100842j,  0.00618306+0.00530229j]])]\n",
      "After the conversion to T the first row is [10.0, matrix([[-0.00165583+0.10131766j,  0.01830402-0.08433454j],\n",
      "        [-0.05209200+0.06155311j, -0.06457989-9.89974361j]])]\n",
      "Converting back to S the first row is [10.0, matrix([[ 0.00850644+0.00190443j, -0.00109549+0.10089327j],\n",
      "        [-0.00065892+0.10100842j,  0.00618306+0.00530229j]])]\n",
      "The assertion S before is equal to S after is True \n"
     ]
    }
   ],
   "source": [
    "# now we try it on the matrix form\n",
    "t_matrix=S_to_T(matrix_form)\n",
    "s_again=T_to_S(t_matrix)\n",
    "\n",
    "# lets compare the results\n",
    "print(\"Before conversion to T the first row is {0}\".format(matrix_form[0]))\n",
    "print(\"After the conversion to T the first row is {0}\".format(t_matrix[0]))\n",
    "print(\"Converting back to S the first row is {0}\".format(s_again[0]))\n",
    "print(\"The assertion S before is equal to S after is {0} \".format(matrix_form[0][1].all()==s_again[0][1].all()))"
   ]
  },
  {
   "cell_type": "code",
   "execution_count": 64,
   "metadata": {
    "collapsed": false
   },
   "outputs": [],
   "source": [
    "def correct_sparameters(sparameters_complex,twelve_term_correction):\n",
    "    \"\"\"Applies the twelve term correction to sparamters and returns a new sparameter list.\"\"\"\n",
    "    if len(S_parameters) != len(twelve_term_correction):\n",
    "        raise TypeError(\"s parameter and twelve term correction must be the same length\")\n",
    "    s_parameter_out=[]\n",
    "    for index,row in enumerate(s_parameters):\n",
    "        frequency=row[0]\n",
    "        Sm=np.matrix(row[1:]).reshape((2,2))\n",
    "        [frequency,Edf,Esf,Erf,Exf,Elf,Etf,Edr,Esr,Err,Exr,Elr,Etr]=twelve_term_correction.data[index]\n",
    "        D =(1+(Sm[0,0]-Edf)(Esf/Erf))(1+(Sm[1,1]-Edr)(Esr/Err))-(Sm[0,1]*Sm[1,0]*Elf*Elr)/(Etf*Etr)\n",
    "        S11 =(Sm[0,0]-Edf)/(D*Erf)(1+(Sm[1,1]-Edr)(Esr/Err))-(Sm[0,1]*Sm[1,0]*Elf)/(D*Etf*Etr)\n",
    "        S21 =(Sm[1,0]/(D*Etf))(1+(Sm[1,1]-Edr)(Esr-Elf)/Err)\n",
    "        S12 = (Sm[0,1]/(D*Etr))(1+(Sm[0,0]-Edf)(Esf-Elr)/Erf) \n",
    "        S22 = (Sm[1,1]-Edr)/(D*Err)(1+(Sm[0,0]-Edf)(Esf/Erf))-(Sm[0,1]*Sm[1,0]*Elr)/(D*Etf*Etr)\n",
    "        s_parameter_out.append([frequency,S11,S21,S12,S22])\n",
    "    return s_parameter_out"
   ]
  },
  {
   "cell_type": "code",
   "execution_count": null,
   "metadata": {
    "collapsed": true
   },
   "outputs": [],
   "source": [
    "TWELVE_TERM_ERROR_COLUMN_NAMES=[\"Frequency\",\"reEdf\",\"imEdf\",\"reEsf\",\"imEsf\",\n",
    "                                \"reErf\",\"imErf\",\"reExf\",\"imExf\",\"reElf\",\"imElf\",\"reEtf\",\"imEtf\"\n",
    "                                \"reEdr\",\"imEdr\",\"reEsr\",\"imEsr\",\"reErr\",\"imErr\",\"reExr\",\"imExr\"\n",
    "                                \"reElr\",\"imElr\",\"reEtr\",\"imEtr\"]\n",
    "\n",
    "options={\"row_pattern\":make_row_match_string(TWELVE_TERM_ERROR_COLUMN_NAMES),\n",
    "        \"column_names\":TWELVE_TERM_ERROR_COLUMN_NAMES}\n",
    "\n",
    "cal_coefficeients=parse_lines()"
   ]
  },
  {
   "cell_type": "markdown",
   "metadata": {},
   "source": [
    "<img src=\"./Calibration_Example_Files/Twelve_Term_Correction.png\" />\n",
    "VNA Calibration Coefficients\n",
    "\n",
    "StatistiCAL stores VNA calibration coefficients in the following order:\n",
    "\n",
    "frequency  Edf  Esf  Erf  Exf  Elf  Etf  Edr  Esr  Err  Exr  Elr  Etr.\n",
    "\n",
    "The value of the frequency is in gigahertz. The other values are expressed as real/imaginary pairs.\n",
    "\n",
    "\n"
   ]
  },
  {
   "cell_type": "code",
   "execution_count": null,
   "metadata": {
    "collapsed": true
   },
   "outputs": [],
   "source": [
    "# Now we need to have a model for the error coefficients and a function that applies them to the s-parameters\n",
    "class TwelveTermErrorModel(AsciiDataTable):\n",
    "    \"\"\"TwevleTermErrorModel holds the error coefficients for a twelve term model. The VNA calibration coefficeients \n",
    "    are presumed to be stored in the following order frequency Edf Esf Erf Exf Elf Etf Edr Esr Err Exr Elr Etr, where\n",
    "    all coefficients are in Real-Imaginary format. \"\"\"\n",
    "    pass\n",
    "\n",
    "    "
   ]
  }
 ],
 "metadata": {
  "kernelspec": {
   "display_name": "Python 2",
   "language": "python",
   "name": "python2"
  },
  "language_info": {
   "codemirror_mode": {
    "name": "ipython",
    "version": 2
   },
   "file_extension": ".py",
   "mimetype": "text/x-python",
   "name": "python",
   "nbconvert_exporter": "python",
   "pygments_lexer": "ipython2",
   "version": "2.7.11"
  }
 },
 "nbformat": 4,
 "nbformat_minor": 0
}
