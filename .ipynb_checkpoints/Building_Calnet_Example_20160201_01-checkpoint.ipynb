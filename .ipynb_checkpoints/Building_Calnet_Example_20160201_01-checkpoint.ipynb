{
 "cells": [
  {
   "cell_type": "markdown",
   "metadata": {},
   "source": [
    "<title> Building Calnet Example</title>\n",
    "# How to build Calnet\n",
    "written by Aric Sanders, 02/2016\n",
    "\n",
    "A general description of how to build calnet. "
   ]
  },
  {
   "cell_type": "markdown",
   "metadata": {},
   "source": [
    "## 1. Make the skeleton \n",
    "\n",
    "   1. run \"django-admin startproject MyProject\" from a command prompt\n",
    "   2. move into the directory containing manage.py \n",
    "        + i.e. run \"cd MyProject\"\n",
    "   3. run \"python manage.py startapp AppName\" for each app\n",
    "        + if you have multiple python installs you can replace python with the path to the bin or exe\n",
    "   4. make some standard directories your favorite way\n",
    "        + django name spaces its static directories as AppName/static/AppName/ the same with template directories\n",
    "        \n",
    "<em>Here we use a python script to create the directories we need</em>"
   ]
  },
  {
   "cell_type": "code",
   "execution_count": 11,
   "metadata": {
    "collapsed": false
   },
   "outputs": [],
   "source": [
    "import os\n",
    "try:\n",
    "    # set the top most directory\n",
    "    current_directory=os.getcwd() # Should change this if it needs to be\n",
    "    # name the project\n",
    "    project_name='Calnet'\n",
    "    #name the apps, use a general naming scheme. Here I have used CamelCase and Nouns\n",
    "    app_names=['Help','Repository','Preferences','ProjectTracker','CheckStandard','Uncertainties','Measurement']\n",
    "    # run a system command to create the project\n",
    "    os.system('django-admin startproject %s'%project_name)\n",
    "    # move into the directory with manage.py in it\n",
    "    os.chdir(os.path.join(current_directory,'%s'%project_name))\n",
    "    # keep the current directory\n",
    "    current_directory=os.getcwd()\n",
    "    manage_directory=os.getcwd() # we will want this directory for a lot of things\n",
    "    # loop through the apps creating them \n",
    "    for app in app_names:\n",
    "        os.system('python manage.py startapp %s'%app)\n",
    "    # Once the apps are made, make static and template directories in each app for {{ static files }}\n",
    "    # Note this could be combined with the 'startapp' loop\n",
    "    for app in app_names:\n",
    "        # static directory is redundant for makedirs, but retained for clarity\n",
    "        # These directories are in the location django will look for them\n",
    "        static_directory=os.path.join(current_directory,'%s'%app,'static','%s'%app)\n",
    "        template_directory=os.path.join(current_directory,'%s'%app,'templates','%s'%app)\n",
    "        # This could be a list of exec commands\n",
    "        img_directory=os.path.join(current_directory,'%s'%app,'static','%s'%app,'img')\n",
    "        js_directory=os.path.join(current_directory,'%s'%app,'static','%s'%app,'js')\n",
    "        css_directory=os.path.join(current_directory,'%s'%app,'static','%s'%app,'css')\n",
    "        # directories specific to my way of doing help or documentation\n",
    "        jupyter_directory=os.path.join(current_directory,'%s'%app,'static','%s'%app,'jupyter')\n",
    "        html_directory=os.path.join(current_directory,'%s'%app,'static','%s'%app,'html')\n",
    "        cache=os.path.join(current_directory,'%s'%app,'static','%s'%app,'cache')\n",
    "        # help application\n",
    "        if app in ['Help','help','doc','docs','documentation']:\n",
    "            os.makedirs(static_directory)\n",
    "            os.makedirs(template_directory)\n",
    "            os.makedirs(img_directory)\n",
    "            os.makedirs(js_directory)\n",
    "            os.makedirs(css_directory)\n",
    "            os.makedirs(cache)\n",
    "            os.makedirs(jupyter_directory)\n",
    "            os.makedirs(html_directory)\n",
    "            \n",
    "        else:\n",
    "            os.makedirs(static_directory)\n",
    "            os.makedirs(template_directory)\n",
    "            os.makedirs(img_directory)\n",
    "            os.makedirs(js_directory)\n",
    "            os.makedirs(css_directory)\n",
    "            os.makedirs(cache)\n",
    "except:raise\n",
    "    "
   ]
  },
  {
   "cell_type": "markdown",
   "metadata": {},
   "source": [
    "## 2. Define the models that you will need for each app\n",
    "+ If you don't know yet don't worry\n",
    "    1. In each App directory there is a python module models.py open and edit.\n",
    "        + Every table in the database is a class that has a parent someplace models.Model\n",
    "        + Each table has Fields that are the columns of the data base\n",
    "        + If you want to define a general structure or \"Schema\" then make the model have the inner class Meta with the \n",
    "        attribute abstract=True\n",
    "        ```python \n",
    "        class MyModelSchema(django.db.models.Model):\n",
    "            column_1=models.CharField(\"My Char Type\",max_length=100)\n",
    "            # The Meta class is anything that is not a field, abstract and proxy have special meanings\n",
    "            class Meta:\n",
    "                abstract=True\n",
    "            # How the model acts when str(MyModelSchema) is called    \n",
    "            def __str__(self):\n",
    "                return self.column_1\n",
    "        ```\n",
    "            \n",
    "                "
   ]
  },
  {
   "cell_type": "markdown",
   "metadata": {},
   "source": [
    "## 3. Register each model with App using the admin"
   ]
  },
  {
   "cell_type": "markdown",
   "metadata": {},
   "source": [
    "## 4. Register the Apps with the site using settings.py"
   ]
  },
  {
   "cell_type": "markdown",
   "metadata": {},
   "source": [
    "## 5. Make Migrations"
   ]
  },
  {
   "cell_type": "markdown",
   "metadata": {},
   "source": [
    "## 6. Create a superuser account"
   ]
  },
  {
   "cell_type": "markdown",
   "metadata": {},
   "source": [
    "## 7. Make urls.py in the site directory point to the App urls and admin"
   ]
  },
  {
   "cell_type": "markdown",
   "metadata": {},
   "source": [
    "## 8. Make the App urls point to views"
   ]
  },
  {
   "cell_type": "markdown",
   "metadata": {},
   "source": [
    "## 9. Define the views in App/view.py"
   ]
  },
  {
   "cell_type": "markdown",
   "metadata": {},
   "source": [
    "## 10. Define the templates in App/templates/App"
   ]
  },
  {
   "cell_type": "markdown",
   "metadata": {},
   "source": [
    "## 11. Add all the needed javascript, images and css to App/static/App/"
   ]
  },
  {
   "cell_type": "code",
   "execution_count": null,
   "metadata": {
    "collapsed": true
   },
   "outputs": [],
   "source": []
  }
 ],
 "metadata": {
  "kernelspec": {
   "display_name": "Python 2",
   "language": "python",
   "name": "python2"
  },
  "language_info": {
   "codemirror_mode": {
    "name": "ipython",
    "version": 2
   },
   "file_extension": ".py",
   "mimetype": "text/x-python",
   "name": "python",
   "nbconvert_exporter": "python",
   "pygments_lexer": "ipython2",
   "version": "2.7.6"
  }
 },
 "nbformat": 4,
 "nbformat_minor": 0
}
