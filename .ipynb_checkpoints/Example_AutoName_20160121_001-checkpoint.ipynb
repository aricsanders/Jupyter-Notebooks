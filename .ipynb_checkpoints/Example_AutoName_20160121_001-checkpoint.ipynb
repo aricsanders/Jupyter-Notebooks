{
 "cells": [
  {
   "cell_type": "code",
   "execution_count": 1,
   "metadata": {
    "collapsed": true
   },
   "outputs": [],
   "source": [
    "import datetime"
   ]
  },
  {
   "cell_type": "code",
   "execution_count": 2,
   "metadata": {
    "collapsed": true
   },
   "outputs": [],
   "source": [
    "def get_date():\n",
    "    \"\"\"Returns todays date in 'ddmmyyyy' format\"\"\"\n",
    "    today=datetime.date.today()\n",
    "    return today.strftime('%Y%m%d')"
   ]
  },
  {
   "cell_type": "code",
   "execution_count": 3,
   "metadata": {
    "collapsed": false
   },
   "outputs": [
    {
     "data": {
      "text/plain": [
       "'012016'"
      ]
     },
     "execution_count": 3,
     "metadata": {},
     "output_type": "execute_result"
    }
   ],
   "source": [
    "get_date()"
   ]
  },
  {
   "cell_type": "code",
   "execution_count": 10,
   "metadata": {
    "collapsed": false
   },
   "outputs": [
    {
     "data": {
      "text/plain": [
       "'001'"
      ]
     },
     "execution_count": 10,
     "metadata": {},
     "output_type": "execute_result"
    }
   ],
   "source": [
    "date_code=get_date()\n",
    "test_iterator=1\n",
    "\"{:03d}\".format(test_iterator)"
   ]
  },
  {
   "cell_type": "code",
   "execution_count": 15,
   "metadata": {
    "collapsed": false
   },
   "outputs": [
    {
     "name": "stdout",
     "output_type": "stream",
     "text": [
      "['.git', '.idea', '.ipynb_checkpoints', 'A story about calibration uncertainities.ipynb', 'Basic Random Numbers.ipynb', 'Data Overview.ipynb', 'NoiseCal.ipynb', 'pdoc_Test_20160116.ipynb', 'README.md', 'REGEX.ipynb', 'Single Parameter Calibrations.ipynb', 'Uncertainity_Scratch_20151102_01.ipynb', 'Untitled.ipynb']\n"
     ]
    },
    {
     "data": {
      "text/plain": [
       "['A story about calibration uncertainities.ipynb',\n",
       " 'Basic Random Numbers.ipynb',\n",
       " 'Data Overview.ipynb',\n",
       " 'NoiseCal.ipynb',\n",
       " 'pdoc_Test_20160116.ipynb',\n",
       " 'REGEX.ipynb',\n",
       " 'Single Parameter Calibrations.ipynb',\n",
       " 'Uncertainity_Scratch_20151102_01.ipynb',\n",
       " 'Untitled.ipynb']"
      ]
     },
     "execution_count": 15,
     "metadata": {},
     "output_type": "execute_result"
    }
   ],
   "source": [
    "path=os.getcwd()\n",
    "file_names=os.listdir(path)\n",
    "print file_names\n",
    "import glob\n",
    "extension='.ipynb'\n",
    "glob.glob('*.ipynb')"
   ]
  },
  {
   "cell_type": "code",
   "execution_count": 18,
   "metadata": {
    "collapsed": true
   },
   "outputs": [],
   "source": [
    "import re\n",
    "def get_filename_iterator(base_name=None,directory=None,extension='xml',padding=3):\n",
    "    \"\"\" Returns the number of files in directory with base_name +1, padded by padding\"\"\"\n",
    "    iterator=0\n",
    "    replacement_string=\"{:0\"+str(padding)+\"d}\"\n",
    "    if base_name is None:\n",
    "        return replacement_string.format(1)\n",
    "    elif directory is None:\n",
    "        file_names=glob.glob('*.'+extension)\n",
    "        for name in file_names:\n",
    "            if re.match(base_name,name):\n",
    "                iterator+=1\n",
    "        return replacement_string.format(iterator+1)\n",
    "        \n",
    "    else:\n",
    "        file_names=glob.glob(directory+'/*.'+extension)\n",
    "        for name in file_names:\n",
    "            if re.match(base_name,name):\n",
    "                iterator+=1\n",
    "        return replacement_string.format(iterator+1) "
   ]
  },
  {
   "cell_type": "code",
   "execution_count": 30,
   "metadata": {
    "collapsed": false
   },
   "outputs": [
    {
     "data": {
      "text/plain": [
       "1"
      ]
     },
     "execution_count": 30,
     "metadata": {},
     "output_type": "execute_result"
    }
   ],
   "source": [
    "int(get_filename_iterator('MyFile',None,'ipynb'))"
   ]
  },
  {
   "cell_type": "code",
   "execution_count": 25,
   "metadata": {
    "collapsed": true
   },
   "outputs": [],
   "source": [
    "def auto_name(general_descriptor=None,specific_descriptor=None,directory=None,extension='.xml',padding=3):\n",
    "    \"\"\" Returns an automatically generated name for a file in a directory\"\"\"\n",
    "    if not general_descriptor is None:\n",
    "        name=general_descriptor\n",
    "        if not specific_descriptor is None:\n",
    "            name=name+'_'+specific_descriptor\n",
    "        name=name+'_'+get_date()+'_'\n",
    "        name=name+get_filename_iterator(name,directory,extension,padding)+'.'+extension\n",
    "        return name\n",
    "    else:\n",
    "        return None"
   ]
  },
  {
   "cell_type": "code",
   "execution_count": 29,
   "metadata": {
    "collapsed": false
   },
   "outputs": [
    {
     "data": {
      "text/plain": [
       "'Example_NoiseCalibration_012016_001.txt'"
      ]
     },
     "execution_count": 29,
     "metadata": {},
     "output_type": "execute_result"
    }
   ],
   "source": [
    "auto_name('Example','NoiseCalibration',None,'txt')"
   ]
  },
  {
   "cell_type": "code",
   "execution_count": null,
   "metadata": {
    "collapsed": true
   },
   "outputs": [],
   "source": []
  }
 ],
 "metadata": {
  "kernelspec": {
   "display_name": "Python 2",
   "language": "python",
   "name": "python2"
  },
  "language_info": {
   "codemirror_mode": {
    "name": "ipython",
    "version": 2
   },
   "file_extension": ".py",
   "mimetype": "text/x-python",
   "name": "python",
   "nbconvert_exporter": "python",
   "pygments_lexer": "ipython2",
   "version": "2.7.11"
  }
 },
 "nbformat": 4,
 "nbformat_minor": 0
}
