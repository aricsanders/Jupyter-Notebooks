{
 "cells": [
  {
   "cell_type": "markdown",
   "metadata": {},
   "source": [
    "# Example of data translation using a bijective graph\n",
    "The graph method creates a series of interlocking nodes that have transformations between themselves. There are a few basic rules:\n",
    "1. Any node has an edge into and out of itself\n",
    "2. Any path that results in the same end location creates the same node \n",
    "\n",
    "## This example is one of a rectangular table, a set of column modeled data. \n",
    "### This graph has the folowing nodes, and hence transformations between all of them\n",
    "1. n1, 'Pandas Data Frame', in memory \n",
    "2. n2, 'AsciiDataTable', in memory\n",
    "3. n3, 'HDF File', on disk\n",
    "4. n4, 'XML Data Table',in memory\n",
    "5. n5, 'Excel File', on disk\n",
    "6. n6, 'HTML String',in memory\n",
    "7. n7, 'JSON File', on disk\n",
    "8. n8, 'JSON String',in memory\n",
    "9. n9,'CSV File', on disk\n",
    "10. n10, 'Matlab File', on disk\n",
    "11. n11, 'XML File', on disk\n",
    "12. n12, 'HTML File ', on disk"
   ]
  },
  {
   "cell_type": "markdown",
   "metadata": {},
   "source": [
    "### Naming of translation functions\n",
    "The naming of functions that translate one data format to another should follow these rules\n",
    "1. When a python class is involved the name should be the class name with the same structure\n",
    "2. When an on disk format is chosen it should be all lower case with underscores\n",
    "3. Names should be type_1_to_type_2()\n",
    "4. File names should have a parameter that can be passed\n",
    "\n",
    "Example:\n",
    ">> DataFrame_to_AsciiDataTable\n",
    "\n"
   ]
  },
  {
   "cell_type": "code",
   "execution_count": 1,
   "metadata": {
    "collapsed": false
   },
   "outputs": [
    {
     "name": "stdout",
     "output_type": "stream",
     "text": [
      "Importing Code.Utils.Names\n",
      "Importing Code.DataHandlers.NISTModels\n",
      "Importing Code.DataHandlers.GeneralModels\n",
      "Importing Code.DataHandlers.TouchstoneModels\n",
      "Importing Code.DataHandlers.XMLModels\n",
      "Importing Code.DataHandlers.RadiCALModels\n",
      "Importing Code.DataHandlers.ZipModels\n",
      "Importing Code.DataHandlers.Translations\n",
      "Importing Code.DataHandlers.StatistiCALModels\n",
      "Importing Code.DataHandlers.MUFModels\n",
      "Importing Code.Analysis.SParameter\n",
      "Importing Code.InstrumentControl.Instruments\n",
      "Importing Code.InstrumentControl.Experiments\n"
     ]
    }
   ],
   "source": [
    "from pyMeasure import *\n",
    "import pandas\n",
    "from scipy.io import savemat,loadmat\n",
    "import re\n",
    "import datetime\n",
    "import numpy as np\n",
    "from ipywidgets import *\n",
    "import json\n",
    "import networkx\n",
    "import odo\n",
    "import sqlite3"
   ]
  },
  {
   "cell_type": "code",
   "execution_count": null,
   "metadata": {
    "collapsed": true
   },
   "outputs": [],
   "source": []
  },
  {
   "cell_type": "code",
   "execution_count": 57,
   "metadata": {
    "collapsed": false
   },
   "outputs": [],
   "source": [
    "def remove_circular_paths(path):\n",
    "    \"\"\"Removes pieces of the path that just end on the same node\"\"\"\n",
    "    edge_pattern=re.compile(\"edge_(?P<begin_node>\\w+)_(?P<end_node>\\w+)_(?P<iterator>\\w+)\")\n",
    "    past_locations=[]\n",
    "    \n",
    "    for index,edge in enumerate(path):\n",
    "        match=re.match(edge_pattern,edge)\n",
    "        begin_node=match.groupdict()[\"begin_node\"]\n",
    "        end_node=match.groupdict()[\"end_node\"]\n",
    "        past_locations.append(begin_node)\n",
    "        #print(\"{0} is {1}\".format(\"past_locations\",past_locations))\n",
    "    new_path=[]\n",
    "    node_index=0\n",
    "    between_list=[False for item in past_locations]\n",
    "    while(node_index<len(past_locations)):\n",
    "        node=past_locations[node_index]\n",
    "        old_path=new_path\n",
    "        new_path=[]\n",
    "        \n",
    "        if past_locations.count(node)>1:\n",
    "            print(\"{0} is {1}\".format(\"node\",node))\n",
    "            print(\"{0} is {1}\".format(\"past_locations\",past_locations))\n",
    "            equality_list=map(lambda x:x==node,past_locations)\n",
    "            print(\"{0} is {1}\".format(\"equality_list\",equality_list))\n",
    "            between=False\n",
    "            for index,equality in enumerate(equality_list):\n",
    "                if equality and equality_list[index:].count(True)%2==1:\n",
    "                    between=not between\n",
    "                    between_list[index]=between or between_list[index]\n",
    "                else:\n",
    "                    between_list[index]=between or between_list[index] \n",
    "        print(\"{0} is {1}\".format(\"between_list\",between_list))\n",
    "        for index,item in enumerate(between_list):\n",
    "            if not item:\n",
    "                new_path.append(path[index])\n",
    "        node_index+=1\n",
    "\n",
    "    if new_path in [[]]:\n",
    "        new_path=path\n",
    "                    \n",
    "    return new_path\n",
    "\n",
    "def edge_1_to_2(in_string):\n",
    "    return in_string.splitlines()\n",
    "    \n",
    "def edge_2_to_1(string_list):\n",
    "    return string_list_collapse(string_list)\n",
    "\n",
    "class Graph():\n",
    "    def __init__(self,**options):\n",
    "        \"\"\"Initializes the graph. The first 2 nodes and two edges forming a bijection between them are required\"\"\"\n",
    "        defaults={\"graph_name\":\"Graph\",\n",
    "                  \"node_names\":['n1','n2'],\n",
    "                  \"node_descriptions\":[\"A plain string\",\n",
    "                                       \"A list of strings with no \\\\n, created with string.splitlines()\"],\n",
    "                  \"current_node\":'n1',\n",
    "                  \"state\":[1,0],\n",
    "                  \"data\":\"This is a test string\\n it has to have multiple lines \\n and many characters 34%6\\n^\",\n",
    "                  \"edge_2_to_1\":edge_2_to_1,\n",
    "                  \"edge_1_to_2\":edge_1_to_2\n",
    "                 }\n",
    "        self.options={}\n",
    "        for key,value in defaults.iteritems():\n",
    "            self.options[key]=value\n",
    "        for key,value in options.iteritems():\n",
    "            self.options[key]=value\n",
    "        self.elements=['graph_name','node_names','node_descriptions','current_node','state','data']\n",
    "        for element in self.elements:\n",
    "            self.__dict__[element]=self.options[element]\n",
    "        self.edges=[]\n",
    "        self.edge_matrices=[]\n",
    "        self.state_matrix=np.matrix(self.state).T\n",
    "        # Add the first 2 edges, required to intialize the graph properly\n",
    "        self.add_edge(self.node_names[0],self.node_names[1],self.options[\"edge_1_to_2\"])\n",
    "        self.add_edge(self.node_names[1],self.node_names[0],self.options[\"edge_2_to_1\"])\n",
    "        self.jumps=[]\n",
    "        self.external_node_names=[]\n",
    "        self.external_node_descriptions=[]\n",
    "\n",
    "    def get_description_dictionary(self):\n",
    "        dictionary={node_name:self.node_descriptions[index] for index,node_name in enumerate(self.node_names)}\n",
    "        return dictionary\n",
    "    \n",
    "    def set_state(self,node_name,node_data):\n",
    "        \"\"\"Sets the graph state to be the state specified by node_name, and node_data\"\"\"\n",
    "        try:\n",
    "            current_node_state_position=self.node_names.index(node_name)\n",
    "            self.current_node=node_name\n",
    "            self.data=node_data\n",
    "            self.state=[0 for i in range(len(self.node_names))]\n",
    "            self.state[current_node_state_position]=1\n",
    "            self.state_matrix=np.matrix(self.state).T\n",
    "        except:\n",
    "            print(\"Could not set the state of graph: {0}\".format(self.graph_name))\n",
    "            raise\n",
    "            \n",
    "    def add_edge(self,begin_node=None,end_node=None,edge_function=None):\n",
    "        \"\"\"Adds an edge mapping one node to another, required input is begin_node (it's name)\n",
    "        end_node, and the edge function\"\"\"\n",
    "        # check to see if edge is defined if it is increment a number\n",
    "        edge_match=re.compile(\"edge_{0}_{1}\".format(begin_node,end_node))\n",
    "        keys=self.__dict__.keys()\n",
    "        #print keys\n",
    "        iterator=0\n",
    "        for key in keys:\n",
    "            if re.match(edge_match,key):\n",
    "                iterator+=1\n",
    "        edge_name=\"edge_{0}_{1}_{2:0>3d}\".format(begin_node,end_node,iterator)\n",
    "        self.__dict__[edge_name]=edge_function\n",
    "        self.edges.append(edge_name)\n",
    "        edge_matrix=np.zeros((len(self.state),len(self.state)))\n",
    "        begin_position=self.node_names.index(begin_node)\n",
    "        end_position=self.node_names.index(end_node)\n",
    "        edge_matrix[end_position][begin_position]=1\n",
    "        edge_matrix=np.matrix(edge_matrix)\n",
    "        self.edge_matrices.append(edge_matrix)\n",
    "        \n",
    "    def add_jump(self,begin_node=None,end_node=None,jump_function=None):\n",
    "        \"\"\"Adds a jump mapping one internal node to an external node, required input is begin_node (it's name)\n",
    "        end_node, and the edge function\"\"\"\n",
    "        # check to see if edge is defined if it is increment a number\n",
    "        jump_match=re.compile(\"jump_{0}_{1}\".format(begin_node,end_node))\n",
    "        keys=self.__dict__.keys()\n",
    "        #print keys\n",
    "        iterator=0\n",
    "        for key in keys:\n",
    "            if re.match(jump_match,key):\n",
    "                iterator+=1\n",
    "        jump_name=\"jump_{0}_{1}_{2:0>3d}\".format(begin_node,end_node,iterator)\n",
    "        self.__dict__[jump_name]=jump_function\n",
    "        self.jumps.append(jump_name)\n",
    "\n",
    "        \n",
    "    def move_to(self,path):\n",
    "        \"\"\"Changes the state of the graph by moving along the path specified\"\"\"\n",
    "        print path\n",
    "        for index,edge in enumerate(path):\n",
    "            #print edge\n",
    "            edge_pattern='edge_(?P<begin_node>\\w+)_(?P<end_node>\\w+)_(?P<iterator>\\w+)'\n",
    "            match=re.match(edge_pattern,edge)\n",
    "            begin_node=match.groupdict()['begin_node']\n",
    "            end_node=match.groupdict()['end_node']\n",
    "            print(\"moving {0} -> {1}\".format(begin_node,end_node))\n",
    "            #print self.data\n",
    "            self.data=self.__dict__[edge](self.data)\n",
    "            #print self.data\n",
    "            self.current_node=match.groupdict()['end_node']\n",
    "            self.state=[0 for i in range(len(self.node_names))]\n",
    "            position=self.node_names.index(self.current_node)\n",
    "            self.state[position]=1\n",
    "            self.state_matrix=np.matrix(self.state).T\n",
    "            #print self.state\n",
    "            #print self.current_node\n",
    "            \n",
    "    def virtual_move_to(self,path):\n",
    "        \"\"\"virtual_move_to simulates moving but does not change the state of the graph\"\"\"\n",
    "        #print path\n",
    "        temp_state=self.state\n",
    "        temp_data=self.data\n",
    "        temp_current_node=self.current_node\n",
    "        temp_node_names=self.node_names\n",
    "        for index,edge in enumerate(path):\n",
    "            #print edge\n",
    "            edge_pattern='edge_(?P<begin_node>\\w+)_(?P<end_node>\\w+)_(?P<iterator>\\w+)'\n",
    "            match=re.match(edge_pattern,edge)\n",
    "            begin_node=match.groupdict()['begin_node']\n",
    "            end_node=match.groupdict()['end_node']\n",
    "            #print(\"moving {0} -> {1}\".format(begin_node,end_node))\n",
    "            #print self.data\n",
    "            temp_data=self.__dict__[edge](temp_data)\n",
    "            #print self.data\n",
    "            temp_current_node=match.groupdict()['end_node']\n",
    "            temp_state=[0 for i in range(len(temp_node_names))]\n",
    "            position=temp_node_names.index(temp_current_node)\n",
    "            temp_state[position]=1\n",
    "            #print temp_state\n",
    "            #print self.state\n",
    "            #print self.current_node  \n",
    "            \n",
    "    def __str__(self):\n",
    "        return str(self.data)\n",
    "    \n",
    "    def add_node(self,node_name,edge_into_node_begin,edge_into_node_function,edge_out_node_end,\n",
    "                 edge_out_node_function):\n",
    "        \"\"\"Adds a node to the graph. Required input is node_name (a string with no spaces), \n",
    "        a reference to an entering node,the function mapping the entering node to the new node, \n",
    "        a reference to an exiting node and the function mapping the\n",
    "        new node to the exiting node.\"\"\"\n",
    "        # first check if node into and out of node is good\n",
    "        self.node_names.append(node_name)\n",
    "        self.state.append(0)\n",
    "        self.state_matrix=np.matrix(self.state).T\n",
    "        for index,matrix in enumerate(self.edge_matrices):\n",
    "            pad_row=np.zeros((1,len(matrix)))\n",
    "            new_matrix=np.concatenate((matrix, pad_row), axis=0)\n",
    "            pad_column=np.zeros((1,len(self.node_names)))\n",
    "            new_matrix=np.concatenate((new_matrix, pad_column.T), axis=1)\n",
    "            #print(\"New matrix is :\\n{0}\".format(new_matrix))\n",
    "            self.edge_matrices[index]=new_matrix\n",
    "        self.add_edge(begin_node=node_name,end_node=edge_out_node_end,edge_function=edge_out_node_function)\n",
    "        self.add_edge(begin_node=edge_into_node_begin,end_node=node_name,edge_function=edge_into_node_function)\n",
    "        \n",
    "    def add_external_node(self,external_node_name,jump_into_node_begin,jump_into_node_function):\n",
    "        \"\"\"Adds an external node to the graph. Required input is node_name (a string with no spaces), \n",
    "        a reference to an entering node,the function mapping the entering node to the new external node\"\"\"\n",
    "        # first check if node into and out of node is good\n",
    "        self.external_node_names.append(external_node_name)\n",
    "        self.add_jump(begin_node=jump_into_node_begin,end_node=external_node_name,jump_function=jump_into_node_function)\n",
    "    \n",
    "    def jump_to_external_node(self,external_node_name):\n",
    "        \"\"\"Returns the result of the jump, the graph is left in the node that is the begining of the jump\"\"\"\n",
    "        end_node=external_node_name\n",
    "        jump_pattern='jump_(?P<begin_node>\\w+)_{0}_(?P<iterator>\\w+)'.format(end_node)\n",
    "        for jump in self.jumps[:]:\n",
    "            jump_match=re.match(jump_pattern,jump,re.IGNORECASE)\n",
    "            if jump_match:\n",
    "                jump_to_use=jump\n",
    "                begin_node=jump_match.groupdict()[\"begin_node\"]\n",
    "                \n",
    "        self.move_to_node(begin_node)\n",
    "        return self.__dict__[jump_to_use](self.data)\n",
    "        \n",
    "\n",
    "    \n",
    "    def path_length(self,path,num_repeats=10):\n",
    "        \"\"\"Determines the length of a given path, currently the metric is based on the time to move to.\"\"\"\n",
    "        begin_time=datetime.datetime.now()\n",
    "        #num_repeats=100\n",
    "        for i in range(num_repeats):\n",
    "            self.virtual_move_to(path)\n",
    "        end_time=datetime.datetime.now()\n",
    "        delta_t=end_time-begin_time\n",
    "        path_length=delta_t.total_seconds()/float(num_repeats)\n",
    "        if path_length ==0.0:\n",
    "            print(\"Warning the path length is less than 1 microsecond,\" \n",
    "                  \"make sure num_repeats is high enough to measure it.\")\n",
    "        return path_length\n",
    "                \n",
    "    def is_path_valid(self,path):\n",
    "        \"\"\"Returns True if the path is valid from the current node position or False otherwise\"\"\"\n",
    "        null_state=[0 for i in range(len(self.node_names))]\n",
    "        null_state_matrix=np.matrix(null_state).T\n",
    "        new_state=np.matrix(self.state).T\n",
    "        for index,edge in enumerate(path):\n",
    "            #print index\n",
    "            #print edge\n",
    "            edge_position=self.edges.index(edge)\n",
    "            move_matrix=self.edge_matrices[edge_position]\n",
    "            #print move_matrix\n",
    "            new_state=move_matrix*new_state\n",
    "            if new_state.any()==null_state_matrix.any():\n",
    "                #print new_state\n",
    "                #print null_state_matrix\n",
    "                return False\n",
    "        return True\n",
    "            \n",
    "            \n",
    "    def get_entering_nodes(self,node): \n",
    "        \"\"\"Returns all nodes that have an edge that enter the specificed node\"\"\"\n",
    "        enter_edge_pattern=re.compile('edge_(?P<begin_node>\\w+)_{0}_(?P<iterator>\\w+)'.format(node))\n",
    "        enter_nodes=[]\n",
    "        for index,edge in enumerate(self.edges):\n",
    "            enter_match=re.match(enter_edge_pattern,edge)\n",
    "            if enter_match:\n",
    "                enter_node=enter_match.groupdict()['begin_node']\n",
    "                enter_nodes.append(enter_node)\n",
    "        return enter_nodes\n",
    "    \n",
    "    def get_entering_edges(self,node): \n",
    "        \"\"\"Returns all edges that enter the specificed node\"\"\"\n",
    "        enter_edge_pattern=re.compile('edge_(?P<begin_node>\\w+)_{0}_(?P<iterator>\\w+)'.format(node))\n",
    "        enter_edges=[]\n",
    "        for index,edge in enumerate(self.edges):\n",
    "            if re.match(enter_edge_pattern,edge):\n",
    "                enter_edges.append(edge)\n",
    "        return enter_edges\n",
    "    \n",
    "    def get_exiting_edges(self,node):\n",
    "        \"\"\"Returns all edges that exit the specificed node\"\"\"\n",
    "        exit_edge_pattern=re.compile('edge_{0}_(?P<end_node>\\w+)_(?P<iterator>\\w+)'.format(node))\n",
    "        exit_edges=[]\n",
    "        for index,edge in enumerate(self.edges):\n",
    "            if re.match(exit_edge_pattern,edge):\n",
    "                exit_edges.append(edge)\n",
    "        return exit_edges \n",
    "    \n",
    "    def get_exiting_nodes(self,node): \n",
    "        \"\"\"Returns all nodes that have an edge leaving the specificed node\"\"\"\n",
    "        exit_edge_pattern=re.compile('edge_{0}_(?P<end_node>\\w+)_(?P<iterator>\\w+)'.format(node))\n",
    "        exit_nodes=[]\n",
    "        for index,edge in enumerate(self.edges):\n",
    "            exit_match=re.match(exit_edge_pattern,edge)\n",
    "            if exit_match:\n",
    "                exit_node=exit_match.groupdict()['end_node']\n",
    "                exit_nodes.append(exit_node)\n",
    "        return exit_nodes\n",
    "    \n",
    "    def get_path(self,first_node,last_node):\n",
    "        \"\"\"Returns the first path found between first node and last node, three step paths are broken\"\"\"\n",
    "        #TODO: Remove Circular Paths\n",
    "        edge_pattern=re.compile('edge_(?P<begin_node>\\w+)_(?P<end_node>\\w+)_(?P<iterator>\\w+)')\n",
    "        exit_paths=self.get_exiting_edges(first_node)\n",
    "        next_nodes=self.get_exiting_nodes(first_node)\n",
    "        #be careful here using the wrong assignment statement breaks this function \n",
    "        possible_paths=[]\n",
    "        for exit_path in exit_paths:\n",
    "            possible_paths.append([exit_path])\n",
    "        #print(\"{0} is {1}\".format('possible_paths',possible_paths))\n",
    "        for i in range(len(self.node_names)):\n",
    "            #print(\"{0} is {1}\".format('i',i))\n",
    "            #print(\"{0} is {1}\".format('possible_paths',possible_paths))\n",
    "            for index,path in enumerate(possible_paths):\n",
    "                #print(\"{0} is {1}\".format('index',index))\n",
    "                last_edge=path[-1]\n",
    "                #print(\"{0} is {1}\".format('last_edge',last_edge))\n",
    "                match=re.match(edge_pattern,last_edge)\n",
    "                begin_node=match.groupdict()['begin_node']\n",
    "                end_node=match.groupdict()['end_node']\n",
    "                #print(\"{0} is {1}\".format('end_node',end_node))\n",
    "                if end_node==last_node:\n",
    "                    #print(\"The path found is {0}\".format(path))\n",
    "                    return remove_circular_paths(path)\n",
    "                next_possible_paths=[]\n",
    "                next_edges=self.get_exiting_edges(end_node)\n",
    "                next_nodes=self.get_exiting_nodes(end_node)\n",
    "                #print(\"{0} is {1}\".format('next_edges',next_edges))\n",
    "                for next_edge_index,next_edge in enumerate(next_edges):\n",
    "                    #print(\"{0} is {1}\".format('next_edge_index',next_edge_index))\n",
    "                    #be careful here using the wrong assignment statement breaks this function \n",
    "                    #next_path=path is a deal breaker!! \n",
    "                    next_path=[]\n",
    "                    for edge in path:\n",
    "                        next_path.append(edge)\n",
    "                    #print(\"{0} is {1}\".format('next_path',next_path))\n",
    "                    #print(\"{0} is {1}\".format('next_edge',next_edge))\n",
    "                    #next_node=next_nodes[index]\n",
    "                    #print next_node\n",
    "                    next_match=re.match(edge_pattern,next_edge)\n",
    "                    next_node=next_match.groupdict()[\"end_node\"]\n",
    "                    begin_node_next_edge=next_match.groupdict()[\"begin_node\"]\n",
    "                    #print(\"{0} is {1}\".format('next_node',next_node))\n",
    "                    #print(\"{0} is {1}\".format('begin_node_next_edge',begin_node_next_edge))\n",
    "                    if next_node==last_node and begin_node_next_edge==end_node:\n",
    "                        next_path.append(next_edge)\n",
    "                        #print(\"The path found is {0}\".format(next_path))\n",
    "                        return remove_circular_paths(next_path)\n",
    "                    elif begin_node_next_edge==end_node:\n",
    "                        next_path.append(next_edge)\n",
    "                        # This keeps it from getting stuck on circular paths\n",
    "                        if next_edge in path:\n",
    "                        #ossible_paths=possible_paths\n",
    "                            #print(\"next_edge was already in path\")\n",
    "                            continue\n",
    "                        next_possible_paths.append(next_path)\n",
    "                        \n",
    "                        #print(\"{0} is {1}\".format('next_possible_paths',next_possible_paths))\n",
    "                    else:\n",
    "                        print(\"Path is not found\")\n",
    "                        pass\n",
    "\n",
    "                    #print(\"{0} is {1}\".format('next_possible_paths',next_possible_paths))\n",
    "                if next_possible_paths:\n",
    "                    possible_paths=next_possible_paths\n",
    "                #print(\"{0} is {1}\".format('possible_paths',possible_paths))\n",
    "    \n",
    "    def move_to_node(self,node):\n",
    "        \"\"\"Moves from current_node to the specified node\"\"\"\n",
    "        path=self.get_path(self.current_node,node)\n",
    "        self.move_to(path)\n",
    "            \n",
    "    def check_closed_path(self):\n",
    "        \"\"\"Checks that data is not changed for the first closed path found. Returns True if data==data after\n",
    "        moving around the closed path, False otherwise. Starting point is current_node \"\"\"\n",
    "        temp_data=self.data\n",
    "        path=self.get_path(self.current_node,self.current_node)\n",
    "        if self.is_path_valid(path):\n",
    "            pass\n",
    "        else:\n",
    "            print(\"Path is not valid, graph definition is broken\")\n",
    "            raise\n",
    "        out=temp_data==self.data\n",
    "        out_list=[self.current_node,path,out]\n",
    "        print(\"The assertion that the data remains unchanged,\\n\" \n",
    "              \"for node {0} following path {1} is {2}\".format(*out_list))\n",
    "        return out \n",
    "    \n",
    "    def is_graph_isomorphic(self):\n",
    "        \"\"\"Returns True if all nodes have closed paths that preserve the data, False otherwise\"\"\"\n",
    "        out=True\n",
    "        for node in self.node_names:\n",
    "            self.move_to_node(node)\n",
    "            if not self.check_closed_path:\n",
    "                out=False\n",
    "        return out\n",
    "    \n",
    "    def show(self,**options):\n",
    "        \"\"\"Shows the graph using matplotlib and networkx\"\"\"\n",
    "        # Should be seperated to allow for fixed presentation?\n",
    "        defaults={\"descriptions\":False,\"edge_descriptions\":False,\"save_plot\":False,\n",
    "                 \"path\":None,\"active_node\":True,\"directory\":None,\"specific_descriptor\":self.graph_name.replace(\" \",\"_\"),\n",
    "                  \"general_descriptor\":\"plot\",\"file_name\":None,\n",
    "                 \"arrows\":True,\"node_size\":1000,\"font_size\":10}\n",
    "        show_options={}\n",
    "        for key,value in defaults.iteritems():\n",
    "            show_options[key]=value\n",
    "        for key,value in options.iteritems():\n",
    "            show_options[key]=value\n",
    "        if show_options[\"directory\"] is None:\n",
    "            show_options[\"directory\"]=os.getcwd() \n",
    "        new_graph=networkx.DiGraph()\n",
    "        edge_pattern=re.compile(\"edge_(?P<begin_node>\\w+)_(?P<end_node>\\w+)_(?P<iterator>\\w+)\")\n",
    "        jump_pattern=re.compile(\"jump_(?P<begin_node>\\w+)_(?P<end_node>\\w+)_(?P<iterator>\\w+)\")\n",
    "        for node in self.node_names:\n",
    "            new_graph.add_node(node)\n",
    "        for node in self.external_node_names:\n",
    "            new_graph.add_node(node)\n",
    "        for edge in self.edges:\n",
    "            match=re.match(edge_pattern,edge)\n",
    "            if match:\n",
    "                begin_node=match.groupdict()[\"begin_node\"]\n",
    "                end_node=match.groupdict()[\"end_node\"]\n",
    "                new_graph.add_edge(begin_node,end_node)\n",
    "                #print(\"Begin Node = {0}, End Node= {1}\".format(begin_node,end_node))\n",
    "        #print(\"{0} is {1}\".format('new_graph.nodes()',new_graph.nodes()))\n",
    "        for jump in self.jumps:\n",
    "            match=re.match(jump_pattern,jump)\n",
    "            if match:\n",
    "                begin_node=match.groupdict()[\"begin_node\"]\n",
    "                end_node=match.groupdict()[\"end_node\"]\n",
    "                new_graph.add_edge(begin_node,end_node)\n",
    "                \n",
    "        if show_options[\"active_node\"]:\n",
    "            node_colors=[]\n",
    "            for node in new_graph.nodes():\n",
    "                if node==self.current_node:\n",
    "                    node_colors.append('b')\n",
    "                else:\n",
    "                    if node in self.node_names:\n",
    "                        node_colors.append('r')\n",
    "                    elif node in self.external_node_names:\n",
    "                        node_colors.append('g')\n",
    "        else:\n",
    "            node_colors=['r' for node in self.node_names]+['g' for node in self.node_names]\n",
    "        #print(\"{0} is {1}\".format('node_colors',node_colors))\n",
    "        if show_options[\"descriptions\"]:\n",
    "            node_labels={node:self.node_descriptions[index] for index, \n",
    "                               node in enumerate(self.node_names)}\n",
    "            if self.external_node_names:\n",
    "                for index,node in enumerate(self.external_node_names):\n",
    "                    node_labels[node]=self.external_node_descriptions[index]\n",
    "            networkx.draw_networkx(new_graph,arrows=show_options[\"arrows\"],\n",
    "                       labels=node_labels,node_color=node_colors,\n",
    "                                   node_size=show_options[\"node_size\"],font_size=show_options[\"font_size\"])\n",
    "            #print(\"{0} is {1}\".format('node_labels',node_labels))\n",
    "        else:\n",
    "            networkx.draw_networkx(new_graph,arrows=show_options[\"arrows\"],node_color=node_colors,\n",
    "                                  node_size=show_options[\"node_size\"],font_size=show_options[\"font_size\"])\n",
    "            \n",
    "        plt.suptitle(self.options[\"graph_name\"])\n",
    "        if show_options[\"file_name\"] is None:\n",
    "            file_name=auto_name(specific_descriptor=show_options[\"specific_descriptor\"],\n",
    "                                general_descriptor=show_options[\"general_descriptor\"],\n",
    "                                directory=show_options[\"directory\"],extension='png',padding=3)\n",
    "        else:\n",
    "            file_name=show_options[\"file_name\"]\n",
    "        if show_options[\"save_plot\"]:\n",
    "            #print file_name\n",
    "            if show_options[\"path\"]:\n",
    "                plt.savefig(show_options[\"path\"])\n",
    "            else:\n",
    "                plt.savefig(os.path.join(show_options[\"directory\"],file_name))\n",
    "        else:\n",
    "            plt.show()\n",
    "            \n"
   ]
  },
  {
   "cell_type": "code",
   "execution_count": 52,
   "metadata": {
    "collapsed": false
   },
   "outputs": [
    {
     "name": "stdout",
     "output_type": "stream",
     "text": [
      "The self.metadata[\"Device_Id\"] variable is 700437\n"
     ]
    }
   ],
   "source": [
    "options={}\n",
    "options[\"data\"]=[[1,2,3],[4,5,6]]\n",
    "options[\"column_names\"]=['a','b','c']\n",
    "table=AsciiDataTable(None,**options)\n",
    "table=OnePortCalrepModel(os.path.join(TESTS_DIRECTORY,'700437.asc'))\n",
    "#table=SNP(os.path.join(TESTS_DIRECTORY,'Solution_0.s4p'))\n",
    "data_frame=AsciiDataTable_to_DataFrame(table)"
   ]
  },
  {
   "cell_type": "code",
   "execution_count": 53,
   "metadata": {
    "collapsed": false
   },
   "outputs": [],
   "source": [
    "graph_options={\"graph_name\":\"Rectangular Graph\",\n",
    "                  \"node_names\":['n1','n2'],\n",
    "                  \"node_descriptions\":[\"Pandas Data Frame\",\"AsciiDataTable\"],\n",
    "                  \"current_node\":'n1',\n",
    "                  \"state\":[1,0],\n",
    "                  \"data\":data_frame,\n",
    "                  \"edge_2_to_1\":AsciiDataTable_to_DataFrame,\n",
    "                  \"edge_1_to_2\":DataFrame_to_AsciiDataTable\n",
    "                 }\n",
    "rect_graph=Graph(**graph_options)"
   ]
  },
  {
   "cell_type": "code",
   "execution_count": 6,
   "metadata": {
    "collapsed": false
   },
   "outputs": [
    {
     "data": {
      "image/png": "[encoded data removed]",
      "text/plain": [
       "<matplotlib.figure.Figure at 0xe268b70>"
      ]
     },
     "metadata": {},
     "output_type": "display_data"
    },
    {
     "name": "stdout",
     "output_type": "stream",
     "text": [
      "[1, 0]\n",
      "['n1', 'n2']\n",
      "n1\n",
      "['edge_n1_n2_000']\n",
      "moving n1 -> n2\n"
     ]
    },
    {
     "data": {
      "image/png": "[encoded data removed]",
      "text/plain": [
       "<matplotlib.figure.Figure at 0xe416eb8>"
      ]
     },
     "metadata": {},
     "output_type": "display_data"
    }
   ],
   "source": [
    "%matplotlib inline\n",
    "rect_graph.show(descriptions=False)\n",
    "print rect_graph.state\n",
    "print rect_graph.node_names\n",
    "print rect_graph.current_node\n",
    "rect_graph.move_to_node(\"n2\")\n",
    "rect_graph.show(font_size=12,node_size=500,arrows=False,save_plot=True)"
   ]
  },
  {
   "cell_type": "code",
   "execution_count": 7,
   "metadata": {
    "collapsed": false
   },
   "outputs": [
    {
     "name": "stdout",
     "output_type": "stream",
     "text": [
      "['edge_n2_n1_000']\n",
      "moving n2 -> n1\n",
      "['edge_n1_n2_000']\n",
      "moving n1 -> n2\n"
     ]
    },
    {
     "data": {
      "text/plain": [
       "True"
      ]
     },
     "execution_count": 7,
     "metadata": {},
     "output_type": "execute_result"
    }
   ],
   "source": [
    "rect_graph.is_graph_isomorphic()"
   ]
  },
  {
   "cell_type": "code",
   "execution_count": 8,
   "metadata": {
    "collapsed": false
   },
   "outputs": [
    {
     "name": "stdout",
     "output_type": "stream",
     "text": [
      "['edge_n2_n1_000', 'edge_n1_n2_000']\n",
      "moving n2 -> n1\n",
      "moving n1 -> n2\n"
     ]
    }
   ],
   "source": [
    "rect_graph.move_to_node(\"n2\")"
   ]
  },
  {
   "cell_type": "code",
   "execution_count": 7,
   "metadata": {
    "collapsed": false
   },
   "outputs": [],
   "source": [
    "#print rect_graph.data"
   ]
  },
  {
   "cell_type": "code",
   "execution_count": 54,
   "metadata": {
    "collapsed": true
   },
   "outputs": [],
   "source": [
    "def DataFrame_to_hdf(pandas_data_frame):\n",
    "    pandas_data_frame.to_hdf(\"Test.hdf\",\"table\")\n",
    "    return \"Test.hdf\"\n",
    "def hdf_to_DataFrame(hdf_file_name):\n",
    "    df=pandas.read_hdf(hdf_file_name,\"table\")\n",
    "    return df\n",
    "def XMLDataTable_to_AsciiDataTable(xml_table):\n",
    "    \n",
    "    table=AsciiDataTable(None,\n",
    "                         column_names=xml_table.attribute_names,\n",
    "                         data=xml_table.data)\n",
    "    return table\n",
    "def AsciiDataTable_to_XMLDataTable_2(data_table):\n",
    "    xml=AsciiDataTable_to_XMLDataTable(data_table)\n",
    "    return xml\n",
    "def DataFrame_to_excel(pandas_data_frame,file_name=\"Test.xlsx\"):\n",
    "    pandas_data_frame.to_excel(file_name,index=False)\n",
    "    return file_name\n",
    "\n",
    "def excel_to_DataFrame(excel_file_name):\n",
    "    df=pandas.read_excel(excel_file_name)\n",
    "    return df\n",
    "def DataFrame_to_HTML_string(pandas_data_frame):\n",
    "    html=pandas_data_frame.to_html(index=False)\n",
    "    return html\n",
    "\n",
    "def HTML_string_to_DataFrame(html_string):\n",
    "    list_df=pandas.read_html(html_string)\n",
    "    return list_df[0]\n",
    "def DataFrame_to_json(pandas_data_frame):\n",
    "    json=pandas_data_frame.to_json(\"test.json\",orient='records')\n",
    "    return \"test.json\"\n",
    "\n",
    "def json_to_DataFrame(json_file_name):\n",
    "    data_frame=pandas.read_json(json_file_name,orient='records')\n",
    "    return data_frame\n",
    "\n",
    "def DataFrame_to_json_string(pandas_data_frame):\n",
    "    json=pandas_data_frame.to_json(orient='records')\n",
    "    return json\n",
    "\n",
    "def json_string_to_DataFrame(json_string):\n",
    "    data_frame=pandas.read_json(json_string,orient='records')\n",
    "    return data_frame\n",
    "\n",
    "def DataFrame_to_csv(pandas_data_frame,file_name=\"test.csv\"):\n",
    "    csv=pandas_data_frame.to_csv(file_name,index=False)\n",
    "    return file_name\n",
    "\n",
    "def csv_to_DataFrame(csv_file_name):\n",
    "    data_frame=pandas.read_csv(csv_file_name)\n",
    "    return data_frame\n",
    "\n",
    "def AsciiDataTable_to_Matlab(ascii_data_table,file_name=\"test.mat\"):\n",
    "    matlab_data_dictionary={\"data\":ascii_data_table.data,\"column_names\":ascii_data_table.column_names}\n",
    "    savemat(file_name,matlab_data_dictionary)\n",
    "    return file_name\n",
    "\n",
    "def Matlab_to_AsciiDataTable(matlab_file_name):\n",
    "    matlab_data_dictionary=loadmat(matlab_file_name)\n",
    "    ascii_data_table=AsciiDataTable(None,\n",
    "                                    column_names=map(lambda x: x.rstrip().lstrip(),\n",
    "                                                     matlab_data_dictionary[\"column_names\"].tolist()),\n",
    "                                     data=matlab_data_dictionary[\"data\"].tolist())\n",
    "    return ascii_data_table\n",
    "\n",
    "def DataTable_to_XML(xml_data_table,file_name=\"test.xml\"):\n",
    "    xml_data_table.save(file_name)\n",
    "    return file_name\n",
    "\n",
    "def XML_to_DataTable(xml_file_name):\n",
    "    xml_data_table=DataTable(xml_file_name)\n",
    "    return xml_data_table\n",
    "\n",
    "def html_string_to_html_file(html_string,file_name=\"test.html\"):\n",
    "    out_file=open(file_name,'w')\n",
    "    out_file.write(html_string)\n",
    "    out_file.close()\n",
    "    return file_name\n",
    "# this is broken, something does not work properly\n",
    "def html_file_to_pandas(html_file_name):\n",
    "    in_file=open(html_file_name,'r')\n",
    "    pandas_data_frame=pandas.read_html(in_file)\n",
    "    return pandas_data_frame\n",
    "\n",
    "def html_file_to_html_string(html_file_name):\n",
    "    in_file=open(html_file_name,'r')\n",
    "    html_string=in_file.read()\n",
    "    return html_string\n",
    "\n",
    "def DataFrame_to_html_file(pandas_data_frame,file_name=\"test.html\"):\n",
    "    out_file=open(file_name,'w')\n",
    "    pandas_data_frame.to_html(out_file,index=False)\n",
    "    return file_name\n",
    "\n",
    "def json_to_DataTable(json_file_name):\n",
    "    data_dictionary_list=json.load(open(json_file_name,'r'))\n",
    "    xml=DataTable(None,data_dictionary={\"data\":data_dictionary_list})\n",
    "    return xml\n",
    "\n",
    "def csv_to_AsciiDataTable(csv_file_name):\n",
    "    options={\"column_names_begin_line\":0,\"column_names_end_line\":1,\n",
    "             \"data_begin_line\":1,\"data_end_line\":-1,\"data_delimiter\":\",\",\"column_names_delimiter\":\",\"}\n",
    "    table=AsciiDataTable(csv_file_name,**options)\n",
    "    return table\n",
    "\n",
    "def DataFrame_to_sqlite(pandas_data_frame,file_name=\"test.db\",table_name=\"data\"):\n",
    "    \"\"\"Transforms a pandas.DataFrame to a table in an sqlite database\"\"\"\n",
    "#     connection=sqlite3.connect(file_name)\n",
    "#     connection.close()\n",
    "    sql_url=\"sqlite:///{0}::{1}\".format(file_name,table_name)\n",
    "    odo.odo(pandas_data_frame,sql_url)\n",
    "    return sql_url\n",
    "\n",
    "def sqlite_to_DataFrame(sqlite_url):\n",
    "    \"\"\"Creates a pandas.DataFrame from a table in an sqlite database (use sqlite:///file_name::table_name)\"\"\"\n",
    "    pandas_data_frame=odo.odo(sqlite_url,pandas.DataFrame)\n",
    "    return pandas_data_frame"
   ]
  },
  {
   "cell_type": "code",
   "execution_count": 55,
   "metadata": {
    "collapsed": false
   },
   "outputs": [],
   "source": [
    "# need to rename these Model1_to_Model2\n",
    "rect_graph.add_node(\"n3\",\"n1\",DataFrame_to_hdf,\"n1\",hdf_to_DataFrame)\n",
    "rect_graph.node_descriptions.append(\"HDF File\")\n",
    "rect_graph.add_node(\"n4\",\"n2\",AsciiDataTable_to_XMLDataTable_2,\"n2\",XMLDataTable_to_AsciiDataTable)\n",
    "rect_graph.node_descriptions.append(\"XML Data Table\")\n",
    "\n",
    "# Need to add XML File and Html File using save and save_HTML()\n",
    "rect_graph.add_node(\"n5\",\"n1\",DataFrame_to_excel,\"n1\",excel_to_DataFrame)\n",
    "rect_graph.node_descriptions.append(\"Excel File\")\n",
    "rect_graph.add_node(\"n6\",\"n1\",DataFrame_to_HTML_string,\"n1\",HTML_string_to_DataFrame)\n",
    "rect_graph.node_descriptions.append(\"HTML String\")\n",
    "\n",
    "# Note a lot of the pandas reading and writing cause float64 round off errors\n",
    "# applymap(lambda x: np.around(x,10) any all float fields will fix this\n",
    "# also the column names move about in order\n",
    "rect_graph.add_node(\"n7\",\"n1\",DataFrame_to_json,\"n1\",json_to_DataFrame)\n",
    "rect_graph.node_descriptions.append(\"JSON File\")\n",
    "rect_graph.add_node(\"n8\",\"n1\",DataFrame_to_json_string,\"n1\",json_string_to_DataFrame)\n",
    "rect_graph.node_descriptions.append(\"JSON String\")\n",
    "rect_graph.add_node(\"n9\",\"n1\",DataFrame_to_csv,\"n1\",csv_to_DataFrame)\n",
    "rect_graph.node_descriptions.append(\"CSV File\")\n",
    "rect_graph.add_node(\"n10\",\"n2\",AsciiDataTable_to_Matlab,\"n2\",Matlab_to_AsciiDataTable)\n",
    "rect_graph.node_descriptions.append(\"Matlab File\")\n",
    "rect_graph.add_node(\"n11\",\"n4\",DataTable_to_XML,\"n4\",XML_to_DataTable)\n",
    "rect_graph.node_descriptions.append(\"XML File\")\n",
    "rect_graph.add_node(\"n12\",\"n6\",html_string_to_html_file,\"n6\",html_file_to_html_string)\n",
    "rect_graph.node_descriptions.append(\"HTML File\")\n",
    "rect_graph.add_node(\"n13\",\"n1\",DataFrame_to_sqlite,\"n1\",sqlite_to_DataFrame)\n",
    "rect_graph.node_descriptions.append(\"sqlite table\")\n",
    "rect_graph.add_edge(\"n1\",\"n12\",DataFrame_to_html_file)\n",
    "rect_graph.add_edge(\"n7\",\"n4\",json_to_DataTable)\n",
    "rect_graph.add_edge(\"n9\",\"n2\",csv_to_AsciiDataTable)"
   ]
  },
  {
   "cell_type": "code",
   "execution_count": 7,
   "metadata": {
    "collapsed": false
   },
   "outputs": [],
   "source": [
    "def jump_to_html_string(xml_data_table,style_sheet=os.path.join(TESTS_DIRECTORY,XSLT_REPOSITORY,\"DEFAULT_MEASUREMENT_STYLE.xsl\")):\n",
    "    \"\"\"Creates a html string from an xml data table\"\"\"\n",
    "    return xml_data_table.to_HTML(style_sheet)\n",
    "def jump_to_html_file(xml_data_table,style_sheet=os.path.join(TESTS_DIRECTORY,XSLT_REPOSITORY,\"DEFAULT_MEASUREMENT_STYLE.xsl\"),file_path=None):\n",
    "    \"\"\"creates a html file from an xml data table\"\"\"\n",
    "    xml_data_table.save_HTML(style_sheet,file_path=file_path)\n",
    "    if file_path is None:\n",
    "        file_path=xml_data_table.path.replace('.xml','.html')\n",
    "    return file_path\n",
    "rect_graph.add_external_node(\"ex1\",\"n4\",jump_to_html_string)\n",
    "rect_graph.external_node_descriptions.append(\"html_string\")\n",
    "rect_graph.add_external_node(\"ex2\",\"n4\",jump_to_html_file)\n",
    "rect_graph.external_node_descriptions.append(\"html_file\")\n",
    "rect_graph.add_external_node(\"ex3\",\"n1\",DataFrame_to_sqlite)\n",
    "rect_graph.external_node_descriptions.append(\"Sqlite3\")"
   ]
  },
  {
   "cell_type": "code",
   "execution_count": 33,
   "metadata": {
    "collapsed": true
   },
   "outputs": [],
   "source": [
    "path=rect_graph.get_path(\"n1\",\"n11\")"
   ]
  },
  {
   "cell_type": "code",
   "execution_count": 35,
   "metadata": {
    "collapsed": false
   },
   "outputs": [],
   "source": [
    "new_path=remove_circular_paths(path)"
   ]
  },
  {
   "cell_type": "code",
   "execution_count": 36,
   "metadata": {
    "collapsed": false
   },
   "outputs": [
    {
     "data": {
      "text/plain": [
       "['edge_n1_n13_000', 'edge_n13_n1_000']"
      ]
     },
     "execution_count": 36,
     "metadata": {},
     "output_type": "execute_result"
    }
   ],
   "source": [
    "new_path"
   ]
  },
  {
   "cell_type": "code",
   "execution_count": 50,
   "metadata": {
    "collapsed": false
   },
   "outputs": [
    {
     "name": "stdout",
     "output_type": "stream",
     "text": [
      "['edge_n1_n12_000', 'edge_n12_n6_000', 'edge_n6_n1_000', 'edge_n1_n13_000', 'edge_n13_n1_000', 'edge_n1_n9_000', 'edge_n9_n2_000', 'edge_n2_n4_000', 'edge_n4_n11_000']\n",
      "node is n1\n",
      "past_locations is ['n1', 'n12', 'n6', 'n1', 'n13', 'n1', 'n9', 'n2', 'n4']\n",
      "equality_list is [True, False, False, True, False, True, False, False, False]\n",
      "between_list is [True, True, True, True, True, False, False, False, False]\n",
      "between_list is [True, True, True, True, True, False, False, False, False]\n",
      "between_list is [True, True, True, True, True, False, False, False, False]\n",
      "node is n1\n",
      "past_locations is ['n1', 'n12', 'n6', 'n1', 'n13', 'n1', 'n9', 'n2', 'n4']\n",
      "equality_list is [True, False, False, True, False, True, False, False, False]\n",
      "between_list is [True, True, True, True, True, False, False, False, False]\n",
      "between_list is [True, True, True, True, True, False, False, False, False]\n",
      "node is n1\n",
      "past_locations is ['n1', 'n12', 'n6', 'n1', 'n13', 'n1', 'n9', 'n2', 'n4']\n",
      "equality_list is [True, False, False, True, False, True, False, False, False]\n",
      "between_list is [True, True, True, True, True, False, False, False, False]\n",
      "between_list is [True, True, True, True, True, False, False, False, False]\n",
      "between_list is [True, True, True, True, True, False, False, False, False]\n",
      "between_list is [True, True, True, True, True, False, False, False, False]\n",
      "['edge_n1_n9_000', 'edge_n9_n2_000', 'edge_n2_n4_000', 'edge_n4_n11_000']\n"
     ]
    }
   ],
   "source": [
    "def remove_circular_paths(path):\n",
    "    \"\"\"Removes pieces of the path that just end on the same node\"\"\"\n",
    "    edge_pattern=re.compile(\"edge_(?P<begin_node>\\w+)_(?P<end_node>\\w+)_(?P<iterator>\\w+)\")\n",
    "    past_locations=[]\n",
    "    \n",
    "    for index,edge in enumerate(path):\n",
    "        match=re.match(edge_pattern,edge)\n",
    "        begin_node=match.groupdict()[\"begin_node\"]\n",
    "        end_node=match.groupdict()[\"end_node\"]\n",
    "        past_locations.append(begin_node)\n",
    "        #print(\"{0} is {1}\".format(\"past_locations\",past_locations))\n",
    "    new_path=[]\n",
    "    node_index=0\n",
    "    between_list=[False for item in past_locations]\n",
    "    while(node_index<len(past_locations)):\n",
    "        node=past_locations[node_index]\n",
    "        old_path=new_path\n",
    "        new_path=[]\n",
    "        \n",
    "        if past_locations.count(node)>1:\n",
    "            print(\"{0} is {1}\".format(\"node\",node))\n",
    "            print(\"{0} is {1}\".format(\"past_locations\",past_locations))\n",
    "            equality_list=map(lambda x:x==node,past_locations)\n",
    "            print(\"{0} is {1}\".format(\"equality_list\",equality_list))\n",
    "            between=False\n",
    "            for index,equality in enumerate(equality_list):\n",
    "                if equality and equality_list[index:].count(True)%2==1:\n",
    "                    between=not between\n",
    "                    between_list[index]=between or between_list[index]\n",
    "                else:\n",
    "                    between_list[index]=between or between_list[index] \n",
    "        print(\"{0} is {1}\".format(\"between_list\",between_list))\n",
    "        for index,item in enumerate(between_list):\n",
    "            if not item:\n",
    "                new_path.append(path[index])\n",
    "        node_index+=1\n",
    "\n",
    "    if new_path in [[]]:\n",
    "        new_path=path\n",
    "                    \n",
    "    return new_path\n",
    "print path\n",
    "print remove_circular_paths(path)"
   ]
  },
  {
   "cell_type": "code",
   "execution_count": 49,
   "metadata": {
    "collapsed": false
   },
   "outputs": [
    {
     "data": {
      "text/plain": [
       "1"
      ]
     },
     "execution_count": 49,
     "metadata": {},
     "output_type": "execute_result"
    }
   ],
   "source": [
    "3%2"
   ]
  },
  {
   "cell_type": "code",
   "execution_count": 12,
   "metadata": {
    "collapsed": false
   },
   "outputs": [
    {
     "name": "stdout",
     "output_type": "stream",
     "text": [
      "['edge_n2_n4_000']\n",
      "moving n2 -> n4\n"
     ]
    }
   ],
   "source": [
    "html_file_name=rect_graph.jump_to_external_node(\"ex2\")"
   ]
  },
  {
   "cell_type": "code",
   "execution_count": 13,
   "metadata": {
    "collapsed": false
   },
   "outputs": [
    {
     "data": {
      "text/plain": [
       "['jump_n4_ex1_000', 'jump_n4_ex2_000']"
      ]
     },
     "execution_count": 13,
     "metadata": {},
     "output_type": "execute_result"
    }
   ],
   "source": [
    "rect_graph.jumps"
   ]
  },
  {
   "cell_type": "code",
   "execution_count": 23,
   "metadata": {
    "collapsed": false
   },
   "outputs": [
    {
     "data": {
      "application/javascript": [
       "/* Put everything inside the global mpl namespace */\n",
       "window.mpl = {};\n",
       "\n",
       "mpl.get_websocket_type = function() {\n",
       "    if (typeof(WebSocket) !== 'undefined') {\n",
       "        return WebSocket;\n",
       "    } else if (typeof(MozWebSocket) !== 'undefined') {\n",
       "        return MozWebSocket;\n",
       "    } else {\n",
       "        alert('Your browser does not have WebSocket support.' +\n",
       "              'Please try Chrome, Safari or Firefox ≥ 6. ' +\n",
       "              'Firefox 4 and 5 are also supported but you ' +\n",
       "              'have to enable WebSockets in about:config.');\n",
       "    };\n",
       "}\n",
       "\n",
       "mpl.figure = function(figure_id, websocket, ondownload, parent_element) {\n",
       "    this.id = figure_id;\n",
       "\n",
       "    this.ws = websocket;\n",
       "\n",
       "    this.supports_binary = (this.ws.binaryType != undefined);\n",
       "\n",
       "    if (!this.supports_binary) {\n",
       "        var warnings = document.getElementById(\"mpl-warnings\");\n",
       "        if (warnings) {\n",
       "            warnings.style.display = 'block';\n",
       "            warnings.textContent = (\n",
       "                \"This browser does not support binary websocket messages. \" +\n",
       "                    \"Performance may be slow.\");\n",
       "        }\n",
       "    }\n",
       "\n",
       "    this.imageObj = new Image();\n",
       "\n",
       "    this.context = undefined;\n",
       "    this.message = undefined;\n",
       "    this.canvas = undefined;\n",
       "    this.rubberband_canvas = undefined;\n",
       "    this.rubberband_context = undefined;\n",
       "    this.format_dropdown = undefined;\n",
       "\n",
       "    this.image_mode = 'full';\n",
       "\n",
       "    this.root = $('<div/>');\n",
       "    this._root_extra_style(this.root)\n",
       "    this.root.attr('style', 'display: inline-block');\n",
       "\n",
       "    $(parent_element).append(this.root);\n",
       "\n",
       "    this._init_header(this);\n",
       "    this._init_canvas(this);\n",
       "    this._init_toolbar(this);\n",
       "\n",
       "    var fig = this;\n",
       "\n",
       "    this.waiting = false;\n",
       "\n",
       "    this.ws.onopen =  function () {\n",
       "            fig.send_message(\"supports_binary\", {value: fig.supports_binary});\n",
       "            fig.send_message(\"send_image_mode\", {});\n",
       "            fig.send_message(\"refresh\", {});\n",
       "        }\n",
       "\n",
       "    this.imageObj.onload = function() {\n",
       "            if (fig.image_mode == 'full') {\n",
       "                // Full images could contain transparency (where diff images\n",
       "                // almost always do), so we need to clear the canvas so that\n",
       "                // there is no ghosting.\n",
       "                fig.context.clearRect(0, 0, fig.canvas.width, fig.canvas.height);\n",
       "            }\n",
       "            fig.context.drawImage(fig.imageObj, 0, 0);\n",
       "        };\n",
       "\n",
       "    this.imageObj.onunload = function() {\n",
       "        this.ws.close();\n",
       "    }\n",
       "\n",
       "    this.ws.onmessage = this._make_on_message_function(this);\n",
       "\n",
       "    this.ondownload = ondownload;\n",
       "}\n",
       "\n",
       "mpl.figure.prototype._init_header = function() {\n",
       "    var titlebar = $(\n",
       "        '<div class=\"ui-dialog-titlebar ui-widget-header ui-corner-all ' +\n",
       "        'ui-helper-clearfix\"/>');\n",
       "    var titletext = $(\n",
       "        '<div class=\"ui-dialog-title\" style=\"width: 100%; ' +\n",
       "        'text-align: center; padding: 3px;\"/>');\n",
       "    titlebar.append(titletext)\n",
       "    this.root.append(titlebar);\n",
       "    this.header = titletext[0];\n",
       "}\n",
       "\n",
       "\n",
       "\n",
       "mpl.figure.prototype._canvas_extra_style = function(canvas_div) {\n",
       "\n",
       "}\n",
       "\n",
       "\n",
       "mpl.figure.prototype._root_extra_style = function(canvas_div) {\n",
       "\n",
       "}\n",
       "\n",
       "mpl.figure.prototype._init_canvas = function() {\n",
       "    var fig = this;\n",
       "\n",
       "    var canvas_div = $('<div/>');\n",
       "\n",
       "    canvas_div.attr('style', 'position: relative; clear: both; outline: 0');\n",
       "\n",
       "    function canvas_keyboard_event(event) {\n",
       "        return fig.key_event(event, event['data']);\n",
       "    }\n",
       "\n",
       "    canvas_div.keydown('key_press', canvas_keyboard_event);\n",
       "    canvas_div.keyup('key_release', canvas_keyboard_event);\n",
       "    this.canvas_div = canvas_div\n",
       "    this._canvas_extra_style(canvas_div)\n",
       "    this.root.append(canvas_div);\n",
       "\n",
       "    var canvas = $('<canvas/>');\n",
       "    canvas.addClass('mpl-canvas');\n",
       "    canvas.attr('style', \"left: 0; top: 0; z-index: 0; outline: 0\")\n",
       "\n",
       "    this.canvas = canvas[0];\n",
       "    this.context = canvas[0].getContext(\"2d\");\n",
       "\n",
       "    var rubberband = $('<canvas/>');\n",
       "    rubberband.attr('style', \"position: absolute; left: 0; top: 0; z-index: 1;\")\n",
       "\n",
       "    var pass_mouse_events = true;\n",
       "\n",
       "    canvas_div.resizable({\n",
       "        start: function(event, ui) {\n",
       "            pass_mouse_events = false;\n",
       "        },\n",
       "        resize: function(event, ui) {\n",
       "            fig.request_resize(ui.size.width, ui.size.height);\n",
       "        },\n",
       "        stop: function(event, ui) {\n",
       "            pass_mouse_events = true;\n",
       "            fig.request_resize(ui.size.width, ui.size.height);\n",
       "        },\n",
       "    });\n",
       "\n",
       "    function mouse_event_fn(event) {\n",
       "        if (pass_mouse_events)\n",
       "            return fig.mouse_event(event, event['data']);\n",
       "    }\n",
       "\n",
       "    rubberband.mousedown('button_press', mouse_event_fn);\n",
       "    rubberband.mouseup('button_release', mouse_event_fn);\n",
       "    // Throttle sequential mouse events to 1 every 20ms.\n",
       "    rubberband.mousemove('motion_notify', mouse_event_fn);\n",
       "\n",
       "    rubberband.mouseenter('figure_enter', mouse_event_fn);\n",
       "    rubberband.mouseleave('figure_leave', mouse_event_fn);\n",
       "\n",
       "    canvas_div.on(\"wheel\", function (event) {\n",
       "        event = event.originalEvent;\n",
       "        event['data'] = 'scroll'\n",
       "        if (event.deltaY < 0) {\n",
       "            event.step = 1;\n",
       "        } else {\n",
       "            event.step = -1;\n",
       "        }\n",
       "        mouse_event_fn(event);\n",
       "    });\n",
       "\n",
       "    canvas_div.append(canvas);\n",
       "    canvas_div.append(rubberband);\n",
       "\n",
       "    this.rubberband = rubberband;\n",
       "    this.rubberband_canvas = rubberband[0];\n",
       "    this.rubberband_context = rubberband[0].getContext(\"2d\");\n",
       "    this.rubberband_context.strokeStyle = \"#000000\";\n",
       "\n",
       "    this._resize_canvas = function(width, height) {\n",
       "        // Keep the size of the canvas, canvas container, and rubber band\n",
       "        // canvas in synch.\n",
       "        canvas_div.css('width', width)\n",
       "        canvas_div.css('height', height)\n",
       "\n",
       "        canvas.attr('width', width);\n",
       "        canvas.attr('height', height);\n",
       "\n",
       "        rubberband.attr('width', width);\n",
       "        rubberband.attr('height', height);\n",
       "    }\n",
       "\n",
       "    // Set the figure to an initial 600x600px, this will subsequently be updated\n",
       "    // upon first draw.\n",
       "    this._resize_canvas(600, 600);\n",
       "\n",
       "    // Disable right mouse context menu.\n",
       "    $(this.rubberband_canvas).bind(\"contextmenu\",function(e){\n",
       "        return false;\n",
       "    });\n",
       "\n",
       "    function set_focus () {\n",
       "        canvas.focus();\n",
       "        canvas_div.focus();\n",
       "    }\n",
       "\n",
       "    window.setTimeout(set_focus, 100);\n",
       "}\n",
       "\n",
       "mpl.figure.prototype._init_toolbar = function() {\n",
       "    var fig = this;\n",
       "\n",
       "    var nav_element = $('<div/>')\n",
       "    nav_element.attr('style', 'width: 100%');\n",
       "    this.root.append(nav_element);\n",
       "\n",
       "    // Define a callback function for later on.\n",
       "    function toolbar_event(event) {\n",
       "        return fig.toolbar_button_onclick(event['data']);\n",
       "    }\n",
       "    function toolbar_mouse_event(event) {\n",
       "        return fig.toolbar_button_onmouseover(event['data']);\n",
       "    }\n",
       "\n",
       "    for(var toolbar_ind in mpl.toolbar_items) {\n",
       "        var name = mpl.toolbar_items[toolbar_ind][0];\n",
       "        var tooltip = mpl.toolbar_items[toolbar_ind][1];\n",
       "        var image = mpl.toolbar_items[toolbar_ind][2];\n",
       "        var method_name = mpl.toolbar_items[toolbar_ind][3];\n",
       "\n",
       "        if (!name) {\n",
       "            // put a spacer in here.\n",
       "            continue;\n",
       "        }\n",
       "        var button = $('<button/>');\n",
       "        button.addClass('ui-button ui-widget ui-state-default ui-corner-all ' +\n",
       "                        'ui-button-icon-only');\n",
       "        button.attr('role', 'button');\n",
       "        button.attr('aria-disabled', 'false');\n",
       "        button.click(method_name, toolbar_event);\n",
       "        button.mouseover(tooltip, toolbar_mouse_event);\n",
       "\n",
       "        var icon_img = $('<span/>');\n",
       "        icon_img.addClass('ui-button-icon-primary ui-icon');\n",
       "        icon_img.addClass(image);\n",
       "        icon_img.addClass('ui-corner-all');\n",
       "\n",
       "        var tooltip_span = $('<span/>');\n",
       "        tooltip_span.addClass('ui-button-text');\n",
       "        tooltip_span.html(tooltip);\n",
       "\n",
       "        button.append(icon_img);\n",
       "        button.append(tooltip_span);\n",
       "\n",
       "        nav_element.append(button);\n",
       "    }\n",
       "\n",
       "    var fmt_picker_span = $('<span/>');\n",
       "\n",
       "    var fmt_picker = $('<select/>');\n",
       "    fmt_picker.addClass('mpl-toolbar-option ui-widget ui-widget-content');\n",
       "    fmt_picker_span.append(fmt_picker);\n",
       "    nav_element.append(fmt_picker_span);\n",
       "    this.format_dropdown = fmt_picker[0];\n",
       "\n",
       "    for (var ind in mpl.extensions) {\n",
       "        var fmt = mpl.extensions[ind];\n",
       "        var option = $(\n",
       "            '<option/>', {selected: fmt === mpl.default_extension}).html(fmt);\n",
       "        fmt_picker.append(option)\n",
       "    }\n",
       "\n",
       "    // Add hover states to the ui-buttons\n",
       "    $( \".ui-button\" ).hover(\n",
       "        function() { $(this).addClass(\"ui-state-hover\");},\n",
       "        function() { $(this).removeClass(\"ui-state-hover\");}\n",
       "    );\n",
       "\n",
       "    var status_bar = $('<span class=\"mpl-message\"/>');\n",
       "    nav_element.append(status_bar);\n",
       "    this.message = status_bar[0];\n",
       "}\n",
       "\n",
       "mpl.figure.prototype.request_resize = function(x_pixels, y_pixels) {\n",
       "    // Request matplotlib to resize the figure. Matplotlib will then trigger a resize in the client,\n",
       "    // which will in turn request a refresh of the image.\n",
       "    this.send_message('resize', {'width': x_pixels, 'height': y_pixels});\n",
       "}\n",
       "\n",
       "mpl.figure.prototype.send_message = function(type, properties) {\n",
       "    properties['type'] = type;\n",
       "    properties['figure_id'] = this.id;\n",
       "    this.ws.send(JSON.stringify(properties));\n",
       "}\n",
       "\n",
       "mpl.figure.prototype.send_draw_message = function() {\n",
       "    if (!this.waiting) {\n",
       "        this.waiting = true;\n",
       "        this.ws.send(JSON.stringify({type: \"draw\", figure_id: this.id}));\n",
       "    }\n",
       "}\n",
       "\n",
       "\n",
       "mpl.figure.prototype.handle_save = function(fig, msg) {\n",
       "    var format_dropdown = fig.format_dropdown;\n",
       "    var format = format_dropdown.options[format_dropdown.selectedIndex].value;\n",
       "    fig.ondownload(fig, format);\n",
       "}\n",
       "\n",
       "\n",
       "mpl.figure.prototype.handle_resize = function(fig, msg) {\n",
       "    var size = msg['size'];\n",
       "    if (size[0] != fig.canvas.width || size[1] != fig.canvas.height) {\n",
       "        fig._resize_canvas(size[0], size[1]);\n",
       "        fig.send_message(\"refresh\", {});\n",
       "    };\n",
       "}\n",
       "\n",
       "mpl.figure.prototype.handle_rubberband = function(fig, msg) {\n",
       "    var x0 = msg['x0'];\n",
       "    var y0 = fig.canvas.height - msg['y0'];\n",
       "    var x1 = msg['x1'];\n",
       "    var y1 = fig.canvas.height - msg['y1'];\n",
       "    x0 = Math.floor(x0) + 0.5;\n",
       "    y0 = Math.floor(y0) + 0.5;\n",
       "    x1 = Math.floor(x1) + 0.5;\n",
       "    y1 = Math.floor(y1) + 0.5;\n",
       "    var min_x = Math.min(x0, x1);\n",
       "    var min_y = Math.min(y0, y1);\n",
       "    var width = Math.abs(x1 - x0);\n",
       "    var height = Math.abs(y1 - y0);\n",
       "\n",
       "    fig.rubberband_context.clearRect(\n",
       "        0, 0, fig.canvas.width, fig.canvas.height);\n",
       "\n",
       "    fig.rubberband_context.strokeRect(min_x, min_y, width, height);\n",
       "}\n",
       "\n",
       "mpl.figure.prototype.handle_figure_label = function(fig, msg) {\n",
       "    // Updates the figure title.\n",
       "    fig.header.textContent = msg['label'];\n",
       "}\n",
       "\n",
       "mpl.figure.prototype.handle_cursor = function(fig, msg) {\n",
       "    var cursor = msg['cursor'];\n",
       "    switch(cursor)\n",
       "    {\n",
       "    case 0:\n",
       "        cursor = 'pointer';\n",
       "        break;\n",
       "    case 1:\n",
       "        cursor = 'default';\n",
       "        break;\n",
       "    case 2:\n",
       "        cursor = 'crosshair';\n",
       "        break;\n",
       "    case 3:\n",
       "        cursor = 'move';\n",
       "        break;\n",
       "    }\n",
       "    fig.rubberband_canvas.style.cursor = cursor;\n",
       "}\n",
       "\n",
       "mpl.figure.prototype.handle_message = function(fig, msg) {\n",
       "    fig.message.textContent = msg['message'];\n",
       "}\n",
       "\n",
       "mpl.figure.prototype.handle_draw = function(fig, msg) {\n",
       "    // Request the server to send over a new figure.\n",
       "    fig.send_draw_message();\n",
       "}\n",
       "\n",
       "mpl.figure.prototype.handle_image_mode = function(fig, msg) {\n",
       "    fig.image_mode = msg['mode'];\n",
       "}\n",
       "\n",
       "mpl.figure.prototype.updated_canvas_event = function() {\n",
       "    // Called whenever the canvas gets updated.\n",
       "    this.send_message(\"ack\", {});\n",
       "}\n",
       "\n",
       "// A function to construct a web socket function for onmessage handling.\n",
       "// Called in the figure constructor.\n",
       "mpl.figure.prototype._make_on_message_function = function(fig) {\n",
       "    return function socket_on_message(evt) {\n",
       "        if (evt.data instanceof Blob) {\n",
       "            /* FIXME: We get \"Resource interpreted as Image but\n",
       "             * transferred with MIME type text/plain:\" errors on\n",
       "             * Chrome.  But how to set the MIME type?  It doesn't seem\n",
       "             * to be part of the websocket stream */\n",
       "            evt.data.type = \"image/png\";\n",
       "\n",
       "            /* Free the memory for the previous frames */\n",
       "            if (fig.imageObj.src) {\n",
       "                (window.URL || window.webkitURL).revokeObjectURL(\n",
       "                    fig.imageObj.src);\n",
       "            }\n",
       "\n",
       "            fig.imageObj.src = (window.URL || window.webkitURL).createObjectURL(\n",
       "                evt.data);\n",
       "            fig.updated_canvas_event();\n",
       "            fig.waiting = false;\n",
       "            return;\n",
       "        }\n",
       "        else if (typeof evt.data === 'string' && evt.data.slice(0, 21) == \"data:image/png;base64\") {\n",
       "            fig.imageObj.src = evt.data;\n",
       "            fig.updated_canvas_event();\n",
       "            fig.waiting = false;\n",
       "            return;\n",
       "        }\n",
       "\n",
       "        var msg = JSON.parse(evt.data);\n",
       "        var msg_type = msg['type'];\n",
       "\n",
       "        // Call the  \"handle_{type}\" callback, which takes\n",
       "        // the figure and JSON message as its only arguments.\n",
       "        try {\n",
       "            var callback = fig[\"handle_\" + msg_type];\n",
       "        } catch (e) {\n",
       "            console.log(\"No handler for the '\" + msg_type + \"' message type: \", msg);\n",
       "            return;\n",
       "        }\n",
       "\n",
       "        if (callback) {\n",
       "            try {\n",
       "                // console.log(\"Handling '\" + msg_type + \"' message: \", msg);\n",
       "                callback(fig, msg);\n",
       "            } catch (e) {\n",
       "                console.log(\"Exception inside the 'handler_\" + msg_type + \"' callback:\", e, e.stack, msg);\n",
       "            }\n",
       "        }\n",
       "    };\n",
       "}\n",
       "\n",
       "// from http://stackoverflow.com/questions/1114465/getting-mouse-location-in-canvas\n",
       "mpl.findpos = function(e) {\n",
       "    //this section is from http://www.quirksmode.org/js/events_properties.html\n",
       "    var targ;\n",
       "    if (!e)\n",
       "        e = window.event;\n",
       "    if (e.target)\n",
       "        targ = e.target;\n",
       "    else if (e.srcElement)\n",
       "        targ = e.srcElement;\n",
       "    if (targ.nodeType == 3) // defeat Safari bug\n",
       "        targ = targ.parentNode;\n",
       "\n",
       "    // jQuery normalizes the pageX and pageY\n",
       "    // pageX,Y are the mouse positions relative to the document\n",
       "    // offset() returns the position of the element relative to the document\n",
       "    var x = e.pageX - $(targ).offset().left;\n",
       "    var y = e.pageY - $(targ).offset().top;\n",
       "\n",
       "    return {\"x\": x, \"y\": y};\n",
       "};\n",
       "\n",
       "/*\n",
       " * return a copy of an object with only non-object keys\n",
       " * we need this to avoid circular references\n",
       " * http://stackoverflow.com/a/24161582/3208463\n",
       " */\n",
       "function simpleKeys (original) {\n",
       "  return Object.keys(original).reduce(function (obj, key) {\n",
       "    if (typeof original[key] !== 'object')\n",
       "        obj[key] = original[key]\n",
       "    return obj;\n",
       "  }, {});\n",
       "}\n",
       "\n",
       "mpl.figure.prototype.mouse_event = function(event, name) {\n",
       "    var canvas_pos = mpl.findpos(event)\n",
       "\n",
       "    if (name === 'button_press')\n",
       "    {\n",
       "        this.canvas.focus();\n",
       "        this.canvas_div.focus();\n",
       "    }\n",
       "\n",
       "    var x = canvas_pos.x;\n",
       "    var y = canvas_pos.y;\n",
       "\n",
       "    this.send_message(name, {x: x, y: y, button: event.button,\n",
       "                             step: event.step,\n",
       "                             guiEvent: simpleKeys(event)});\n",
       "\n",
       "    /* This prevents the web browser from automatically changing to\n",
       "     * the text insertion cursor when the button is pressed.  We want\n",
       "     * to control all of the cursor setting manually through the\n",
       "     * 'cursor' event from matplotlib */\n",
       "    event.preventDefault();\n",
       "    return false;\n",
       "}\n",
       "\n",
       "mpl.figure.prototype._key_event_extra = function(event, name) {\n",
       "    // Handle any extra behaviour associated with a key event\n",
       "}\n",
       "\n",
       "mpl.figure.prototype.key_event = function(event, name) {\n",
       "\n",
       "    // Prevent repeat events\n",
       "    if (name == 'key_press')\n",
       "    {\n",
       "        if (event.which === this._key)\n",
       "            return;\n",
       "        else\n",
       "            this._key = event.which;\n",
       "    }\n",
       "    if (name == 'key_release')\n",
       "        this._key = null;\n",
       "\n",
       "    var value = '';\n",
       "    if (event.ctrlKey && event.which != 17)\n",
       "        value += \"ctrl+\";\n",
       "    if (event.altKey && event.which != 18)\n",
       "        value += \"alt+\";\n",
       "    if (event.shiftKey && event.which != 16)\n",
       "        value += \"shift+\";\n",
       "\n",
       "    value += 'k';\n",
       "    value += event.which.toString();\n",
       "\n",
       "    this._key_event_extra(event, name);\n",
       "\n",
       "    this.send_message(name, {key: value,\n",
       "                             guiEvent: simpleKeys(event)});\n",
       "    return false;\n",
       "}\n",
       "\n",
       "mpl.figure.prototype.toolbar_button_onclick = function(name) {\n",
       "    if (name == 'download') {\n",
       "        this.handle_save(this, null);\n",
       "    } else {\n",
       "        this.send_message(\"toolbar_button\", {name: name});\n",
       "    }\n",
       "};\n",
       "\n",
       "mpl.figure.prototype.toolbar_button_onmouseover = function(tooltip) {\n",
       "    this.message.textContent = tooltip;\n",
       "};\n",
       "mpl.toolbar_items = [[\"Home\", \"Reset original view\", \"fa fa-home icon-home\", \"home\"], [\"Back\", \"Back to  previous view\", \"fa fa-arrow-left icon-arrow-left\", \"back\"], [\"Forward\", \"Forward to next view\", \"fa fa-arrow-right icon-arrow-right\", \"forward\"], [\"\", \"\", \"\", \"\"], [\"Pan\", \"Pan axes with left mouse, zoom with right\", \"fa fa-arrows icon-move\", \"pan\"], [\"Zoom\", \"Zoom to rectangle\", \"fa fa-square-o icon-check-empty\", \"zoom\"], [\"\", \"\", \"\", \"\"], [\"Download\", \"Download plot\", \"fa fa-floppy-o icon-save\", \"download\"]];\n",
       "\n",
       "mpl.extensions = [\"eps\", \"jpeg\", \"pdf\", \"png\", \"ps\", \"raw\", \"svg\", \"tif\"];\n",
       "\n",
       "mpl.default_extension = \"png\";var comm_websocket_adapter = function(comm) {\n",
       "    // Create a \"websocket\"-like object which calls the given IPython comm\n",
       "    // object with the appropriate methods. Currently this is a non binary\n",
       "    // socket, so there is still some room for performance tuning.\n",
       "    var ws = {};\n",
       "\n",
       "    ws.close = function() {\n",
       "        comm.close()\n",
       "    };\n",
       "    ws.send = function(m) {\n",
       "        //console.log('sending', m);\n",
       "        comm.send(m);\n",
       "    };\n",
       "    // Register the callback with on_msg.\n",
       "    comm.on_msg(function(msg) {\n",
       "        //console.log('receiving', msg['content']['data'], msg);\n",
       "        // Pass the mpl event to the overriden (by mpl) onmessage function.\n",
       "        ws.onmessage(msg['content']['data'])\n",
       "    });\n",
       "    return ws;\n",
       "}\n",
       "\n",
       "mpl.mpl_figure_comm = function(comm, msg) {\n",
       "    // This is the function which gets called when the mpl process\n",
       "    // starts-up an IPython Comm through the \"matplotlib\" channel.\n",
       "\n",
       "    var id = msg.content.data.id;\n",
       "    // Get hold of the div created by the display call when the Comm\n",
       "    // socket was opened in Python.\n",
       "    var element = $(\"#\" + id);\n",
       "    var ws_proxy = comm_websocket_adapter(comm)\n",
       "\n",
       "    function ondownload(figure, format) {\n",
       "        window.open(figure.imageObj.src);\n",
       "    }\n",
       "\n",
       "    var fig = new mpl.figure(id, ws_proxy,\n",
       "                           ondownload,\n",
       "                           element.get(0));\n",
       "\n",
       "    // Call onopen now - mpl needs it, as it is assuming we've passed it a real\n",
       "    // web socket which is closed, not our websocket->open comm proxy.\n",
       "    ws_proxy.onopen();\n",
       "\n",
       "    fig.parent_element = element.get(0);\n",
       "    fig.cell_info = mpl.find_output_cell(\"<div id='\" + id + \"'></div>\");\n",
       "    if (!fig.cell_info) {\n",
       "        console.error(\"Failed to find cell for figure\", id, fig);\n",
       "        return;\n",
       "    }\n",
       "\n",
       "    var output_index = fig.cell_info[2]\n",
       "    var cell = fig.cell_info[0];\n",
       "\n",
       "};\n",
       "\n",
       "mpl.figure.prototype.handle_close = function(fig, msg) {\n",
       "    fig.root.unbind('remove')\n",
       "\n",
       "    // Update the output cell to use the data from the current canvas.\n",
       "    fig.push_to_output();\n",
       "    var dataURL = fig.canvas.toDataURL();\n",
       "    // Re-enable the keyboard manager in IPython - without this line, in FF,\n",
       "    // the notebook keyboard shortcuts fail.\n",
       "    IPython.keyboard_manager.enable()\n",
       "    $(fig.parent_element).html('<img src=\"' + dataURL + '\">');\n",
       "    fig.close_ws(fig, msg);\n",
       "}\n",
       "\n",
       "mpl.figure.prototype.close_ws = function(fig, msg){\n",
       "    fig.send_message('closing', msg);\n",
       "    // fig.ws.close()\n",
       "}\n",
       "\n",
       "mpl.figure.prototype.push_to_output = function(remove_interactive) {\n",
       "    // Turn the data on the canvas into data in the output cell.\n",
       "    var dataURL = this.canvas.toDataURL();\n",
       "    this.cell_info[1]['text/html'] = '<img src=\"' + dataURL + '\">';\n",
       "}\n",
       "\n",
       "mpl.figure.prototype.updated_canvas_event = function() {\n",
       "    // Tell IPython that the notebook contents must change.\n",
       "    IPython.notebook.set_dirty(true);\n",
       "    this.send_message(\"ack\", {});\n",
       "    var fig = this;\n",
       "    // Wait a second, then push the new image to the DOM so\n",
       "    // that it is saved nicely (might be nice to debounce this).\n",
       "    setTimeout(function () { fig.push_to_output() }, 1000);\n",
       "}\n",
       "\n",
       "mpl.figure.prototype._init_toolbar = function() {\n",
       "    var fig = this;\n",
       "\n",
       "    var nav_element = $('<div/>')\n",
       "    nav_element.attr('style', 'width: 100%');\n",
       "    this.root.append(nav_element);\n",
       "\n",
       "    // Define a callback function for later on.\n",
       "    function toolbar_event(event) {\n",
       "        return fig.toolbar_button_onclick(event['data']);\n",
       "    }\n",
       "    function toolbar_mouse_event(event) {\n",
       "        return fig.toolbar_button_onmouseover(event['data']);\n",
       "    }\n",
       "\n",
       "    for(var toolbar_ind in mpl.toolbar_items){\n",
       "        var name = mpl.toolbar_items[toolbar_ind][0];\n",
       "        var tooltip = mpl.toolbar_items[toolbar_ind][1];\n",
       "        var image = mpl.toolbar_items[toolbar_ind][2];\n",
       "        var method_name = mpl.toolbar_items[toolbar_ind][3];\n",
       "\n",
       "        if (!name) { continue; };\n",
       "\n",
       "        var button = $('<button class=\"btn btn-default\" href=\"#\" title=\"' + name + '\"><i class=\"fa ' + image + ' fa-lg\"></i></button>');\n",
       "        button.click(method_name, toolbar_event);\n",
       "        button.mouseover(tooltip, toolbar_mouse_event);\n",
       "        nav_element.append(button);\n",
       "    }\n",
       "\n",
       "    // Add the status bar.\n",
       "    var status_bar = $('<span class=\"mpl-message\" style=\"text-align:right; float: right;\"/>');\n",
       "    nav_element.append(status_bar);\n",
       "    this.message = status_bar[0];\n",
       "\n",
       "    // Add the close button to the window.\n",
       "    var buttongrp = $('<div class=\"btn-group inline pull-right\"></div>');\n",
       "    var button = $('<button class=\"btn btn-mini btn-primary\" href=\"#\" title=\"Stop Interaction\"><i class=\"fa fa-power-off icon-remove icon-large\"></i></button>');\n",
       "    button.click(function (evt) { fig.handle_close(fig, {}); } );\n",
       "    button.mouseover('Stop Interaction', toolbar_mouse_event);\n",
       "    buttongrp.append(button);\n",
       "    var titlebar = this.root.find($('.ui-dialog-titlebar'));\n",
       "    titlebar.prepend(buttongrp);\n",
       "}\n",
       "\n",
       "mpl.figure.prototype._root_extra_style = function(el){\n",
       "    var fig = this\n",
       "    el.on(\"remove\", function(){\n",
       "\tfig.close_ws(fig, {});\n",
       "    });\n",
       "}\n",
       "\n",
       "mpl.figure.prototype._canvas_extra_style = function(el){\n",
       "    // this is important to make the div 'focusable\n",
       "    el.attr('tabindex', 0)\n",
       "    // reach out to IPython and tell the keyboard manager to turn it's self\n",
       "    // off when our div gets focus\n",
       "\n",
       "    // location in version 3\n",
       "    if (IPython.notebook.keyboard_manager) {\n",
       "        IPython.notebook.keyboard_manager.register_events(el);\n",
       "    }\n",
       "    else {\n",
       "        // location in version 2\n",
       "        IPython.keyboard_manager.register_events(el);\n",
       "    }\n",
       "\n",
       "}\n",
       "\n",
       "mpl.figure.prototype._key_event_extra = function(event, name) {\n",
       "    var manager = IPython.notebook.keyboard_manager;\n",
       "    if (!manager)\n",
       "        manager = IPython.keyboard_manager;\n",
       "\n",
       "    // Check for shift+enter\n",
       "    if (event.shiftKey && event.which == 13) {\n",
       "        this.canvas_div.blur();\n",
       "        event.shiftKey = false;\n",
       "        // Send a \"J\" for go to next cell\n",
       "        event.which = 74;\n",
       "        event.keyCode = 74;\n",
       "        manager.command_mode();\n",
       "        manager.handle_keydown(event);\n",
       "    }\n",
       "}\n",
       "\n",
       "mpl.figure.prototype.handle_save = function(fig, msg) {\n",
       "    fig.ondownload(fig, null);\n",
       "}\n",
       "\n",
       "\n",
       "mpl.find_output_cell = function(html_output) {\n",
       "    // Return the cell and output element which can be found *uniquely* in the notebook.\n",
       "    // Note - this is a bit hacky, but it is done because the \"notebook_saving.Notebook\"\n",
       "    // IPython event is triggered only after the cells have been serialised, which for\n",
       "    // our purposes (turning an active figure into a static one), is too late.\n",
       "    var cells = IPython.notebook.get_cells();\n",
       "    var ncells = cells.length;\n",
       "    for (var i=0; i<ncells; i++) {\n",
       "        var cell = cells[i];\n",
       "        if (cell.cell_type === 'code'){\n",
       "            for (var j=0; j<cell.output_area.outputs.length; j++) {\n",
       "                var data = cell.output_area.outputs[j];\n",
       "                if (data.data) {\n",
       "                    // IPython >= 3 moved mimebundle to data attribute of output\n",
       "                    data = data.data;\n",
       "                }\n",
       "                if (data['text/html'] == html_output) {\n",
       "                    return [cell, data, j];\n",
       "                }\n",
       "            }\n",
       "        }\n",
       "    }\n",
       "}\n",
       "\n",
       "// Register the function which deals with the matplotlib target/channel.\n",
       "// The kernel may be null if the page has been refreshed.\n",
       "if (IPython.notebook.kernel != null) {\n",
       "    IPython.notebook.kernel.comm_manager.register_target('matplotlib', mpl.mpl_figure_comm);\n",
       "}\n"
      ],
      "text/plain": [
       "<IPython.core.display.Javascript object>"
      ]
     },
     "metadata": {},
     "output_type": "display_data"
    },
    {
     "data": {
      "text/html": [
       "<img src=\"data:image/png;base64,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\">"
      ],
      "text/plain": [
       "<IPython.core.display.HTML object>"
      ]
     },
     "metadata": {},
     "output_type": "display_data"
    }
   ],
   "source": [
    "%matplotlib notebook\n",
    "rect_graph.show(descriptions=True,font_size=12,node_size=1200)"
   ]
  },
  {
   "cell_type": "code",
   "execution_count": 86,
   "metadata": {
    "collapsed": true
   },
   "outputs": [],
   "source": [
    "class ColumnModeledGraph(Graph):\n",
    "    \"\"\"Class that transforms column modeled data from one format to another, use set_state to intialize to\n",
    "    your data\"\"\"\n",
    "    def __init__(self,**options):\n",
    "        defaults={\"graph_name\":\"Column Modeled Graph\",\n",
    "                  \"node_names\":['n1','n2'],\n",
    "                  \"node_descriptions\":[\"Pandas Data Frame\",\"AsciiDataTable\"],\n",
    "                  \"current_node\":'n1',\n",
    "                  \"state\":[1,0],\n",
    "                  \"data\":pandas.DataFrame([[1,2,3],[3,4,5]],columns=[\"a\",\"b\",\"c\"]),\n",
    "                  \"edge_2_to_1\":AsciiDataTable_to_DataFrame,\n",
    "                  \"edge_1_to_2\":DataFrame_to_AsciiDataTable}\n",
    "        self.options={}\n",
    "        for key,value in defaults.iteritems():\n",
    "            self.options[key]=value\n",
    "        for key,value in options.iteritems():\n",
    "            self.options[key]=value\n",
    "        Graph.__init__(self,**self.options)\n",
    "        self.add_node(\"n3\",\"n1\",DataFrame_to_hdf,\"n1\",hdf_to_DataFrame)\n",
    "        self.node_descriptions.append(\"HDF File\")\n",
    "        self.add_node(\"n4\",\"n2\",AsciiDataTable_to_XMLDataTable_2,\"n2\",XMLDataTable_to_AsciiDataTable)\n",
    "        self.node_descriptions.append(\"XML Data Table\")\n",
    "        \n",
    "        # Need to add XML File and Html File using save and save_HTML()\n",
    "        self.add_node(\"n5\",\"n1\",DataFrame_to_excel,\"n1\",excel_to_DataFrame)\n",
    "        self.node_descriptions.append(\"Excel File\")\n",
    "        self.add_node(\"n6\",\"n1\",DataFrame_to_HTML_string,\"n1\",HTML_string_to_DataFrame)\n",
    "        self.node_descriptions.append(\"HTML String\")\n",
    "        \n",
    "        # Note a lot of the pandas reading and writing cause float64 round off errors\n",
    "        # applymap(lambda x: np.around(x,10) any all float fields will fix this\n",
    "        # also the column names move about in order\n",
    "        self.add_node(\"n7\",\"n1\",DataFrame_to_json,\"n1\",json_to_DataFrame)\n",
    "        self.node_descriptions.append(\"JSON File\")\n",
    "        self.add_node(\"n8\",\"n1\",DataFrame_to_json_string,\"n1\",json_string_to_DataFrame)\n",
    "        self.node_descriptions.append(\"JSON String\")\n",
    "        self.add_node(\"n9\",\"n1\",DataFrame_to_csv,\"n1\",csv_to_DataFrame)\n",
    "        self.node_descriptions.append(\"CSV File\")\n",
    "        self.add_node(\"n10\",\"n2\",AsciiDataTable_to_Matlab,\"n2\",Matlab_to_AsciiDataTable)\n",
    "        self.node_descriptions.append(\"Matlab File\")\n",
    "        self.add_node(\"n11\",\"n4\",DataTable_to_XML,\"n4\",XML_to_DataTable)\n",
    "        self.node_descriptions.append(\"XML File\")\n",
    "        self.add_node(\"n12\",\"n6\",html_string_to_html_file,\"n6\",html_file_to_html_string)\n",
    "        self.node_descriptions.append(\"HTML File\")\n",
    "        self.add_edge(\"n1\",\"n12\",DataFrame_to_html_file)\n",
    "        self.add_edge(\"n7\",\"n4\",json_to_DataTable)\n",
    "        self.add_edge(\"n9\",\"n2\",csv_to_AsciiDataTable)\n",
    "        \n",
    "    "
   ]
  },
  {
   "cell_type": "code",
   "execution_count": 13,
   "metadata": {
    "collapsed": false
   },
   "outputs": [
    {
     "name": "stdout",
     "output_type": "stream",
     "text": [
      "['edge_n1_n2_000', 'edge_n2_n1_000']\n",
      "moving n1 -> n2\n",
      "moving n2 -> n1\n",
      "['edge_n1_n2_000']\n",
      "moving n1 -> n2\n",
      "['edge_n2_n1_000', 'edge_n1_n3_000']\n",
      "moving n2 -> n1\n",
      "moving n1 -> n3\n",
      "['edge_n3_n1_000', 'edge_n1_n2_000', 'edge_n2_n4_000']\n",
      "moving n3 -> n1\n",
      "moving n1 -> n2\n",
      "moving n2 -> n4\n",
      "['edge_n4_n11_000', 'edge_n11_n4_000', 'edge_n4_n2_000', 'edge_n2_n1_000', 'edge_n1_n5_000']\n",
      "moving n4 -> n11\n",
      "moving n11 -> n4\n",
      "moving n4 -> n2\n",
      "moving n2 -> n1\n",
      "moving n1 -> n5\n",
      "['edge_n5_n1_000', 'edge_n1_n6_000']\n",
      "moving n5 -> n1\n",
      "moving n1 -> n6\n",
      "['edge_n6_n1_000', 'edge_n1_n7_000']\n",
      "moving n6 -> n1\n",
      "moving n1 -> n7\n",
      "['edge_n7_n1_000', 'edge_n1_n8_000']\n",
      "moving n7 -> n1\n",
      "moving n1 -> n8\n",
      "['edge_n8_n1_000', 'edge_n1_n9_000']\n",
      "moving n8 -> n1\n",
      "moving n1 -> n9\n",
      "['edge_n9_n2_000', 'edge_n2_n10_000']\n",
      "moving n9 -> n2\n",
      "moving n2 -> n10\n",
      "['edge_n10_n2_000', 'edge_n2_n4_000', 'edge_n4_n11_000']\n",
      "moving n10 -> n2\n",
      "moving n2 -> n4\n",
      "moving n4 -> n11\n",
      "['edge_n11_n4_000', 'edge_n4_n2_000', 'edge_n2_n1_000', 'edge_n1_n12_000']\n",
      "moving n11 -> n4\n",
      "moving n4 -> n2\n",
      "moving n2 -> n1\n",
      "moving n1 -> n12\n",
      "['edge_n12_n6_000', 'edge_n6_n1_000', 'edge_n1_n13_000']\n",
      "moving n12 -> n6\n",
      "moving n6 -> n1\n",
      "moving n1 -> n13\n"
     ]
    },
    {
     "data": {
      "text/plain": [
       "True"
      ]
     },
     "execution_count": 13,
     "metadata": {},
     "output_type": "execute_result"
    }
   ],
   "source": [
    "rect_graph.is_graph_isomorphic()"
   ]
  },
  {
   "cell_type": "code",
   "execution_count": 127,
   "metadata": {
    "collapsed": false
   },
   "outputs": [],
   "source": [
    "transform=ColumnModeledGraph(data=data_frame)"
   ]
  },
  {
   "cell_type": "code",
   "execution_count": 128,
   "metadata": {
    "collapsed": false
   },
   "outputs": [
    {
     "data": {
      "text/plain": [
       "{'n1': 'Pandas Data Frame',\n",
       " 'n10': 'Matlab File',\n",
       " 'n11': 'XML File',\n",
       " 'n12': 'HTML File',\n",
       " 'n2': 'AsciiDataTable',\n",
       " 'n3': 'HDF File',\n",
       " 'n4': 'XML Data Table',\n",
       " 'n5': 'Excel File',\n",
       " 'n6': 'HTML String',\n",
       " 'n7': 'JSON File',\n",
       " 'n8': 'JSON String',\n",
       " 'n9': 'CSV File'}"
      ]
     },
     "execution_count": 128,
     "metadata": {},
     "output_type": "execute_result"
    }
   ],
   "source": [
    "transform.get_description_dictionary()"
   ]
  },
  {
   "cell_type": "code",
   "execution_count": 51,
   "metadata": {
    "collapsed": false
   },
   "outputs": [],
   "source": [
    "transform.set_state(node_data=\"test.xlsx\",node_name=\"n5\")"
   ]
  },
  {
   "cell_type": "code",
   "execution_count": 122,
   "metadata": {
    "collapsed": false,
    "scrolled": true
   },
   "outputs": [],
   "source": [
    "data=csv_to_AsciiDataTable(transform.data)"
   ]
  },
  {
   "cell_type": "code",
   "execution_count": 129,
   "metadata": {
    "collapsed": false
   },
   "outputs": [
    {
     "data": {
      "image/png": "[encoded data removed]",
      "text/plain": [
       "<matplotlib.figure.Figure at 0x1217c978>"
      ]
     },
     "metadata": {},
     "output_type": "display_data"
    }
   ],
   "source": [
    "transform.show(descriptions=True)"
   ]
  },
  {
   "cell_type": "code",
   "execution_count": 130,
   "metadata": {
    "collapsed": false
   },
   "outputs": [
    {
     "data": {
      "image/png": "[encoded data removed]",
      "text/plain": [
       "<matplotlib.figure.Figure at 0x13ae3630>"
      ]
     },
     "metadata": {},
     "output_type": "display_data"
    }
   ],
   "source": [
    "transform.show(descriptions=False)"
   ]
  },
  {
   "cell_type": "code",
   "execution_count": 15,
   "metadata": {
    "collapsed": false
   },
   "outputs": [
    {
     "name": "stdout",
     "output_type": "stream",
     "text": [
      "['edge_n2_n1_000', 'edge_n1_n3_000']\n",
      "moving n2 -> n1\n",
      "moving n1 -> n3\n"
     ]
    }
   ],
   "source": [
    "rect_graph.move_to_node(\"n3\")"
   ]
  },
  {
   "cell_type": "code",
   "execution_count": 703,
   "metadata": {
    "collapsed": false
   },
   "outputs": [
    {
     "data": {
      "text/plain": [
       "['edge_n6_n12_000', 'edge_n1_n12_000']"
      ]
     },
     "execution_count": 703,
     "metadata": {},
     "output_type": "execute_result"
    }
   ],
   "source": [
    "rect_graph.get_entering_edges(\"n12\")"
   ]
  },
  {
   "cell_type": "code",
   "execution_count": 8,
   "metadata": {
    "collapsed": false
   },
   "outputs": [],
   "source": [
    "path=rect_graph.get_path(\"n11\",\"n12\")"
   ]
  },
  {
   "cell_type": "code",
   "execution_count": 621,
   "metadata": {
    "collapsed": false
   },
   "outputs": [
    {
     "data": {
      "text/plain": [
       "['edge_n1_n2_000',\n",
       " 'edge_n1_n3_000',\n",
       " 'edge_n1_n5_000',\n",
       " 'edge_n1_n6_000',\n",
       " 'edge_n1_n7_000',\n",
       " 'edge_n1_n8_000',\n",
       " 'edge_n1_n9_000',\n",
       " 'edge_n1_n12_000']"
      ]
     },
     "execution_count": 621,
     "metadata": {},
     "output_type": "execute_result"
    }
   ],
   "source": [
    "rect_graph.get_exiting_edges(\"n1\")"
   ]
  },
  {
   "cell_type": "code",
   "execution_count": 705,
   "metadata": {
    "collapsed": false
   },
   "outputs": [
    {
     "name": "stdout",
     "output_type": "stream",
     "text": [
      "next_edge was already in path\n"
     ]
    }
   ],
   "source": [
    "path=rect_graph.get_path(\"n11\",\"n12\")"
   ]
  },
  {
   "cell_type": "code",
   "execution_count": 120,
   "metadata": {
    "collapsed": false
   },
   "outputs": [
    {
     "data": {
      "text/plain": [
       "['edge_n9_n1_000', 'edge_n1_n2_000']"
      ]
     },
     "execution_count": 120,
     "metadata": {},
     "output_type": "execute_result"
    }
   ],
   "source": [
    "rect_graph.get_path(\"n9\",\"n2\")"
   ]
  },
  {
   "cell_type": "code",
   "execution_count": 9,
   "metadata": {
    "collapsed": false
   },
   "outputs": [
    {
     "data": {
      "text/plain": [
       "['edge_n11_n4_000', 'edge_n4_n2_000', 'edge_n2_n1_000', 'edge_n1_n12_000']"
      ]
     },
     "execution_count": 9,
     "metadata": {},
     "output_type": "execute_result"
    }
   ],
   "source": [
    "path"
   ]
  },
  {
   "cell_type": "code",
   "execution_count": 544,
   "metadata": {
    "collapsed": true
   },
   "outputs": [],
   "source": [
    "def remove_circular_paths(path):\n",
    "    \"\"\"Removes pieces of the path that just end on the same node\"\"\"\n",
    "    edge_pattern=re.compile(\"edge_(?P<begin_node>\\w+)_(?P<end_node>\\w+)_(?P<iterator>\\w+)\")\n",
    "    past_locations=[]\n",
    "    \n",
    "    for index,edge in enumerate(path):\n",
    "        match=re.match(edge_pattern,edge)\n",
    "        begin_node=match.groupdict()[\"begin_node\"]\n",
    "        end_node=match.groupdict()[\"end_node\"]\n",
    "        past_locations.append(begin_node)\n",
    "        #print(\"{0} is {1}\".format(\"past_locations\",past_locations))\n",
    "    new_path=[]\n",
    "    node_index=0\n",
    "    between_list=[False for item in past_locations]\n",
    "    while(node_index<len(past_locations)):\n",
    "        node=past_locations[node_index]\n",
    "        old_path=new_path\n",
    "        new_path=[]\n",
    "        \n",
    "        if past_locations.count(node)>1:\n",
    "            equality_list=map(lambda x:x==node,past_locations)\n",
    "            between=False\n",
    "            for index,equality in enumerate(equality_list):\n",
    "                if equality:\n",
    "                    between=not between\n",
    "                    between_list[index]=between or between_list[index]\n",
    "                else:\n",
    "                    between_list[index]=between or between_list[index] \n",
    "        #print(\"{0} is {1}\".format(\"between_list\",between_list))\n",
    "        for index,item in enumerate(between_list):\n",
    "            if not item:\n",
    "                new_path.append(path[index])\n",
    "        node_index+=1\n",
    "\n",
    "    if new_path in [[]]:\n",
    "        new_path=path\n",
    "                    \n",
    "    return new_path"
   ]
  },
  {
   "cell_type": "code",
   "execution_count": 498,
   "metadata": {
    "collapsed": false
   },
   "outputs": [
    {
     "name": "stdout",
     "output_type": "stream",
     "text": [
      "2\n",
      "0\n",
      "[True, True, False, False, False, False]\n",
      "['n4', 'n2', 'n1', 'n5']\n"
     ]
    }
   ],
   "source": [
    "test_nodes=[\"n4\",\"n11\",\"n4\",\"n2\",\"n1\",\"n5\"]\n",
    "print test_nodes.count(\"n4\")\n",
    "print test_nodes.index(\"n4\")\n",
    "#del test_nodes[0:2]\n",
    "truth_list=map(lambda x:x==\"n4\",test_nodes)\n",
    "out_list=[]\n",
    "non_circular=[]\n",
    "between=False\n",
    "for index,truth in enumerate(truth_list):\n",
    "    if truth:\n",
    "        between=not between\n",
    "        out_list.append(between)\n",
    "    else:\n",
    "        out_list.append(between)\n",
    "for index,item in enumerate(out_list):\n",
    "    if not item:\n",
    "        non_circular.append(test_nodes[index])\n",
    "    \n",
    "print out_list\n",
    "print non_circular"
   ]
  },
  {
   "cell_type": "code",
   "execution_count": 545,
   "metadata": {
    "collapsed": false
   },
   "outputs": [
    {
     "name": "stdout",
     "output_type": "stream",
     "text": [
      "between_list is [True, True, False, False, False, False, False]\n",
      "between_list is [True, True, False, False, False, False, False]\n",
      "between_list is [True, True, False, False, False, False, False]\n",
      "between_list is [True, True, False, False, False, False, False]\n",
      "between_list is [True, True, False, False, True, True, False]\n",
      "between_list is [True, True, False, False, True, True, False]\n",
      "between_list is [True, True, False, False, True, True, False]\n",
      "['edge_n4_n2_000', 'edge_n2_n1_000', 'edge_n1_n5_000']\n"
     ]
    }
   ],
   "source": [
    "print remove_circular_paths(['edge_n4_n11_000',\n",
    " 'edge_n11_n4_000',\n",
    " 'edge_n4_n2_000',\n",
    " 'edge_n2_n1_000',\n",
    " 'edge_n1_n5_000','edge_n5_n1_000',\n",
    " 'edge_n1_n5_000'])"
   ]
  },
  {
   "cell_type": "code",
   "execution_count": 258,
   "metadata": {
    "collapsed": false
   },
   "outputs": [
    {
     "name": "stdout",
     "output_type": "stream",
     "text": [
      "['edge_n4_n2_000', 'edge_n2_n1_000', 'edge_n1_n5_000']\n",
      "moving n4 -> n2\n",
      "moving n2 -> n1\n",
      "moving n1 -> n5\n"
     ]
    }
   ],
   "source": [
    "rect_graph.move_to(path)"
   ]
  },
  {
   "cell_type": "code",
   "execution_count": 117,
   "metadata": {
    "collapsed": false
   },
   "outputs": [
    {
     "name": "stdout",
     "output_type": "stream",
     "text": [
      "['edge_n9_n1_000', 'edge_n1_n2_000']\n",
      "moving n9 -> n1\n",
      "moving n1 -> n2\n"
     ]
    }
   ],
   "source": [
    "rect_graph.move_to_node(\"n2\")"
   ]
  },
  {
   "cell_type": "code",
   "execution_count": null,
   "metadata": {
    "collapsed": true
   },
   "outputs": [],
   "source": [
    "xml=AsciiDataTable_to_XMLDataTable(table)"
   ]
  },
  {
   "cell_type": "code",
   "execution_count": null,
   "metadata": {
    "collapsed": false
   },
   "outputs": [],
   "source": [
    "xml.to_tuple_list(xml.get_attribute_names())"
   ]
  },
  {
   "cell_type": "code",
   "execution_count": null,
   "metadata": {
    "collapsed": false
   },
   "outputs": [],
   "source": [
    "xml.to_list(\"a\")"
   ]
  },
  {
   "cell_type": "code",
   "execution_count": null,
   "metadata": {
    "collapsed": false
   },
   "outputs": [],
   "source": [
    "xml.attribute_names"
   ]
  },
  {
   "cell_type": "code",
   "execution_count": null,
   "metadata": {
    "collapsed": false
   },
   "outputs": [],
   "source": [
    "xml.data"
   ]
  },
  {
   "cell_type": "code",
   "execution_count": null,
   "metadata": {
    "collapsed": false
   },
   "outputs": [],
   "source": [
    "rect_graph.state"
   ]
  },
  {
   "cell_type": "code",
   "execution_count": null,
   "metadata": {
    "collapsed": false
   },
   "outputs": [],
   "source": [
    "path=rect_graph.get_path(\"n5\",\"n1\")"
   ]
  },
  {
   "cell_type": "code",
   "execution_count": null,
   "metadata": {
    "collapsed": false
   },
   "outputs": [],
   "source": [
    "rect_graph.path_length(path)"
   ]
  },
  {
   "cell_type": "code",
   "execution_count": null,
   "metadata": {
    "collapsed": false
   },
   "outputs": [],
   "source": [
    "rect_graph.move_to_node(\"n1\")"
   ]
  },
  {
   "cell_type": "code",
   "execution_count": 8,
   "metadata": {
    "collapsed": false
   },
   "outputs": [
    {
     "name": "stdout",
     "output_type": "stream",
     "text": [
      "['edge_n1_n13_000', 'edge_n13_n1_000']\n"
     ]
    }
   ],
   "source": [
    "path=['edge_n1_n12_000', 'edge_n12_n6_000', 'edge_n6_n1_000', 'edge_n1_n13_000', 'edge_n13_n1_000', 'edge_n1_n9_000', 'edge_n9_n2_000', 'edge_n2_n4_000', 'edge_n4_n11_000']\n",
    "print remove_circular_paths(path)"
   ]
  },
  {
   "cell_type": "code",
   "execution_count": 56,
   "metadata": {
    "collapsed": false
   },
   "outputs": [
    {
     "name": "stdout",
     "output_type": "stream",
     "text": [
      "['edge_n1_n2_000', 'edge_n2_n1_000']\n",
      "moving n1 -> n2\n",
      "moving n2 -> n1\n",
      "['edge_n1_n2_000', 'edge_n2_n1_000']\n",
      "The length of the path n1-> n1 in s is 0.0133\n",
      "between_list is [False]\n",
      "['edge_n1_n2_000']\n",
      "The length of the path n1-> n2 in s is 0.0134\n",
      "between_list is [False]\n",
      "['edge_n1_n3_000']\n",
      "The length of the path n1-> n3 in s is 0.009\n",
      "['edge_n1_n2_000', 'edge_n2_n4_000']\n",
      "The length of the path n1-> n4 in s is 0.0709\n",
      "between_list is [False]\n",
      "['edge_n1_n5_000']\n",
      "The length of the path n1-> n5 in s is 0.1275\n",
      "between_list is [False]\n",
      "['edge_n1_n6_000']\n",
      "The length of the path n1-> n6 in s is 0.1115\n",
      "between_list is [False]\n",
      "['edge_n1_n7_000']\n",
      "The length of the path n1-> n7 in s is 0.0055\n",
      "between_list is [False]\n",
      "['edge_n1_n8_000']\n",
      "The length of the path n1-> n8 in s is 0.0006\n",
      "between_list is [False]\n",
      "['edge_n1_n9_000']\n",
      "The length of the path n1-> n9 in s is 0.009\n",
      "['edge_n1_n2_000', 'edge_n2_n10_000']\n",
      "The length of the path n1-> n10 in s is 0.0148\n",
      "['edge_n1_n12_000', 'edge_n12_n6_000', 'edge_n6_n1_000', 'edge_n1_n13_000', 'edge_n13_n1_000', 'edge_n1_n9_000', 'edge_n9_n2_000', 'edge_n2_n4_000', 'edge_n4_n11_000']\n",
      "Could not form a data_dictionary_list, check that row_formatter_string is properly defined\n"
     ]
    },
    {
     "ename": "KeyboardInterrupt",
     "evalue": "",
     "output_type": "error",
     "traceback": [
      "\u001b[1;31m---------------------------------------------------------------------------\u001b[0m",
      "\u001b[1;31mKeyboardInterrupt\u001b[0m                         Traceback (most recent call last)",
      "\u001b[1;32m<ipython-input-56-a9d44c6cf3c1>\u001b[0m in \u001b[0;36m<module>\u001b[1;34m()\u001b[0m\n\u001b[0;32m      3\u001b[0m     \u001b[0mpath\u001b[0m\u001b[1;33m=\u001b[0m\u001b[0mrect_graph\u001b[0m\u001b[1;33m.\u001b[0m\u001b[0mget_path\u001b[0m\u001b[1;33m(\u001b[0m\u001b[1;34m\"n1\"\u001b[0m\u001b[1;33m,\u001b[0m\u001b[0mnode\u001b[0m\u001b[1;33m)\u001b[0m\u001b[1;33m\u001b[0m\u001b[0m\n\u001b[0;32m      4\u001b[0m     \u001b[1;32mprint\u001b[0m\u001b[1;33m(\u001b[0m\u001b[0mpath\u001b[0m\u001b[1;33m)\u001b[0m\u001b[1;33m\u001b[0m\u001b[0m\n\u001b[1;32m----> 5\u001b[1;33m     \u001b[1;32mprint\u001b[0m\u001b[1;33m(\u001b[0m\u001b[1;34m\"The length of the path n1-> {0} in s is {1}\"\u001b[0m\u001b[1;33m.\u001b[0m\u001b[0mformat\u001b[0m\u001b[1;33m(\u001b[0m\u001b[0mnode\u001b[0m\u001b[1;33m,\u001b[0m\u001b[0mrect_graph\u001b[0m\u001b[1;33m.\u001b[0m\u001b[0mpath_length\u001b[0m\u001b[1;33m(\u001b[0m\u001b[0mpath\u001b[0m\u001b[1;33m)\u001b[0m\u001b[1;33m)\u001b[0m\u001b[1;33m)\u001b[0m\u001b[1;33m\u001b[0m\u001b[0m\n\u001b[0m",
      "\u001b[1;32m<ipython-input-51-c14dd3a8f77b>\u001b[0m in \u001b[0;36mpath_length\u001b[1;34m(self, path, num_repeats)\u001b[0m\n\u001b[0;32m    228\u001b[0m         \u001b[1;31m#num_repeats=100\u001b[0m\u001b[1;33m\u001b[0m\u001b[1;33m\u001b[0m\u001b[0m\n\u001b[0;32m    229\u001b[0m         \u001b[1;32mfor\u001b[0m \u001b[0mi\u001b[0m \u001b[1;32min\u001b[0m \u001b[0mrange\u001b[0m\u001b[1;33m(\u001b[0m\u001b[0mnum_repeats\u001b[0m\u001b[1;33m)\u001b[0m\u001b[1;33m:\u001b[0m\u001b[1;33m\u001b[0m\u001b[0m\n\u001b[1;32m--> 230\u001b[1;33m             \u001b[0mself\u001b[0m\u001b[1;33m.\u001b[0m\u001b[0mvirtual_move_to\u001b[0m\u001b[1;33m(\u001b[0m\u001b[0mpath\u001b[0m\u001b[1;33m)\u001b[0m\u001b[1;33m\u001b[0m\u001b[0m\n\u001b[0m\u001b[0;32m    231\u001b[0m         \u001b[0mend_time\u001b[0m\u001b[1;33m=\u001b[0m\u001b[0mdatetime\u001b[0m\u001b[1;33m.\u001b[0m\u001b[0mdatetime\u001b[0m\u001b[1;33m.\u001b[0m\u001b[0mnow\u001b[0m\u001b[1;33m(\u001b[0m\u001b[1;33m)\u001b[0m\u001b[1;33m\u001b[0m\u001b[0m\n\u001b[0;32m    232\u001b[0m         \u001b[0mdelta_t\u001b[0m\u001b[1;33m=\u001b[0m\u001b[0mend_time\u001b[0m\u001b[1;33m-\u001b[0m\u001b[0mbegin_time\u001b[0m\u001b[1;33m\u001b[0m\u001b[0m\n",
      "\u001b[1;32m<ipython-input-51-c14dd3a8f77b>\u001b[0m in \u001b[0;36mvirtual_move_to\u001b[1;34m(self, path)\u001b[0m\n\u001b[0;32m    168\u001b[0m             \u001b[1;31m#print(\"moving {0} -> {1}\".format(begin_node,end_node))\u001b[0m\u001b[1;33m\u001b[0m\u001b[1;33m\u001b[0m\u001b[0m\n\u001b[0;32m    169\u001b[0m             \u001b[1;31m#print self.data\u001b[0m\u001b[1;33m\u001b[0m\u001b[1;33m\u001b[0m\u001b[0m\n\u001b[1;32m--> 170\u001b[1;33m             \u001b[0mtemp_data\u001b[0m\u001b[1;33m=\u001b[0m\u001b[0mself\u001b[0m\u001b[1;33m.\u001b[0m\u001b[0m__dict__\u001b[0m\u001b[1;33m[\u001b[0m\u001b[0medge\u001b[0m\u001b[1;33m]\u001b[0m\u001b[1;33m(\u001b[0m\u001b[0mtemp_data\u001b[0m\u001b[1;33m)\u001b[0m\u001b[1;33m\u001b[0m\u001b[0m\n\u001b[0m\u001b[0;32m    171\u001b[0m             \u001b[1;31m#print self.data\u001b[0m\u001b[1;33m\u001b[0m\u001b[1;33m\u001b[0m\u001b[0m\n\u001b[0;32m    172\u001b[0m             \u001b[0mtemp_current_node\u001b[0m\u001b[1;33m=\u001b[0m\u001b[0mmatch\u001b[0m\u001b[1;33m.\u001b[0m\u001b[0mgroupdict\u001b[0m\u001b[1;33m(\u001b[0m\u001b[1;33m)\u001b[0m\u001b[1;33m[\u001b[0m\u001b[1;34m'end_node'\u001b[0m\u001b[1;33m]\u001b[0m\u001b[1;33m\u001b[0m\u001b[0m\n",
      "\u001b[1;32m<ipython-input-54-a7b12c4ec5c2>\u001b[0m in \u001b[0;36mAsciiDataTable_to_XMLDataTable_2\u001b[1;34m(data_table)\u001b[0m\n\u001b[0;32m     12\u001b[0m     \u001b[1;32mreturn\u001b[0m \u001b[0mtable\u001b[0m\u001b[1;33m\u001b[0m\u001b[0m\n\u001b[0;32m     13\u001b[0m \u001b[1;32mdef\u001b[0m \u001b[0mAsciiDataTable_to_XMLDataTable_2\u001b[0m\u001b[1;33m(\u001b[0m\u001b[0mdata_table\u001b[0m\u001b[1;33m)\u001b[0m\u001b[1;33m:\u001b[0m\u001b[1;33m\u001b[0m\u001b[0m\n\u001b[1;32m---> 14\u001b[1;33m     \u001b[0mxml\u001b[0m\u001b[1;33m=\u001b[0m\u001b[0mAsciiDataTable_to_XMLDataTable\u001b[0m\u001b[1;33m(\u001b[0m\u001b[0mdata_table\u001b[0m\u001b[1;33m)\u001b[0m\u001b[1;33m\u001b[0m\u001b[0m\n\u001b[0m\u001b[0;32m     15\u001b[0m     \u001b[1;32mreturn\u001b[0m \u001b[0mxml\u001b[0m\u001b[1;33m\u001b[0m\u001b[0m\n\u001b[0;32m     16\u001b[0m \u001b[1;32mdef\u001b[0m \u001b[0mDataFrame_to_excel\u001b[0m\u001b[1;33m(\u001b[0m\u001b[0mpandas_data_frame\u001b[0m\u001b[1;33m,\u001b[0m\u001b[0mfile_name\u001b[0m\u001b[1;33m=\u001b[0m\u001b[1;34m\"Test.xlsx\"\u001b[0m\u001b[1;33m)\u001b[0m\u001b[1;33m:\u001b[0m\u001b[1;33m\u001b[0m\u001b[0m\n",
      "\u001b[1;32mC:\\Anaconda2\\lib\\site-packages\\pyMeasure\\Code\\DataHandlers\\Translations.pyc\u001b[0m in \u001b[0;36mAsciiDataTable_to_XMLDataTable\u001b[1;34m(ascii_data_table, **options)\u001b[0m\n\u001b[0;32m    101\u001b[0m                 \u001b[0mkey\u001b[0m\u001b[1;33m=\u001b[0m\u001b[1;34m\"Footer_{0:0>3}\"\u001b[0m\u001b[1;33m.\u001b[0m\u001b[0mformat\u001b[0m\u001b[1;33m(\u001b[0m\u001b[0mindex\u001b[0m\u001b[1;33m)\u001b[0m\u001b[1;33m\u001b[0m\u001b[0m\n\u001b[0;32m    102\u001b[0m                 \u001b[0mdata_description\u001b[0m\u001b[1;33m[\u001b[0m\u001b[0mkey\u001b[0m\u001b[1;33m]\u001b[0m\u001b[1;33m=\u001b[0m\u001b[0mline\u001b[0m\u001b[1;33m\u001b[0m\u001b[0m\n\u001b[1;32m--> 103\u001b[1;33m     \u001b[0mdata_dictionary\u001b[0m\u001b[1;33m=\u001b[0m\u001b[1;33m{\u001b[0m\u001b[1;34m\"Data_Description\"\u001b[0m\u001b[1;33m:\u001b[0m\u001b[0mdata_description\u001b[0m\u001b[1;33m,\u001b[0m\u001b[1;34m\"Data\"\u001b[0m\u001b[1;33m:\u001b[0m\u001b[0mascii_data_table\u001b[0m\u001b[1;33m.\u001b[0m\u001b[0mget_data_dictionary_list\u001b[0m\u001b[1;33m(\u001b[0m\u001b[1;33m)\u001b[0m\u001b[1;33m}\u001b[0m\u001b[1;33m\u001b[0m\u001b[0m\n\u001b[0m\u001b[0;32m    104\u001b[0m     \u001b[0mXML_options\u001b[0m\u001b[1;33m[\u001b[0m\u001b[1;34m\"data_dictionary\"\u001b[0m\u001b[1;33m]\u001b[0m\u001b[1;33m=\u001b[0m\u001b[0mdata_dictionary\u001b[0m\u001b[1;33m\u001b[0m\u001b[0m\n\u001b[0;32m    105\u001b[0m     \u001b[0mnew_xml_data_table\u001b[0m\u001b[1;33m=\u001b[0m\u001b[0mDataTable\u001b[0m\u001b[1;33m(\u001b[0m\u001b[0mNone\u001b[0m\u001b[1;33m,\u001b[0m\u001b[1;33m**\u001b[0m\u001b[0mXML_options\u001b[0m\u001b[1;33m)\u001b[0m\u001b[1;33m\u001b[0m\u001b[0m\n",
      "\u001b[1;32mC:\\Anaconda2\\lib\\site-packages\\pyMeasure\\Code\\DataHandlers\\GeneralModels.pyc\u001b[0m in \u001b[0;36mget_data_dictionary_list\u001b[1;34m(self, use_row_formatter_string)\u001b[0m\n\u001b[0;32m   1624\u001b[0m             \u001b[1;31m#print type(self.data[0])\u001b[0m\u001b[1;33m\u001b[0m\u001b[1;33m\u001b[0m\u001b[0m\n\u001b[0;32m   1625\u001b[0m             out_list=[{self.column_names[i]:list_formatter[i].format(value) for i,value in enumerate(line)}\n\u001b[1;32m-> 1626\u001b[1;33m                       for line in self.data]\n\u001b[0m\u001b[0;32m   1627\u001b[0m             \u001b[1;32mreturn\u001b[0m \u001b[0mout_list\u001b[0m\u001b[1;33m\u001b[0m\u001b[0m\n\u001b[0;32m   1628\u001b[0m         \u001b[1;32mexcept\u001b[0m\u001b[1;33m:\u001b[0m\u001b[1;33m\u001b[0m\u001b[0m\n",
      "\u001b[1;32mC:\\Anaconda2\\lib\\site-packages\\pyMeasure\\Code\\DataHandlers\\GeneralModels.pyc\u001b[0m in \u001b[0;36m<dictcomp>\u001b[1;34m((i, value))\u001b[0m\n\u001b[0;32m   1623\u001b[0m             \u001b[1;31m#print len(list_formatter)==len(self.data[0])\u001b[0m\u001b[1;33m\u001b[0m\u001b[1;33m\u001b[0m\u001b[0m\n\u001b[0;32m   1624\u001b[0m             \u001b[1;31m#print type(self.data[0])\u001b[0m\u001b[1;33m\u001b[0m\u001b[1;33m\u001b[0m\u001b[0m\n\u001b[1;32m-> 1625\u001b[1;33m             out_list=[{self.column_names[i]:list_formatter[i].format(value) for i,value in enumerate(line)}\n\u001b[0m\u001b[0;32m   1626\u001b[0m                       for line in self.data]\n\u001b[0;32m   1627\u001b[0m             \u001b[1;32mreturn\u001b[0m \u001b[0mout_list\u001b[0m\u001b[1;33m\u001b[0m\u001b[0m\n",
      "\u001b[1;31mKeyboardInterrupt\u001b[0m: "
     ]
    }
   ],
   "source": [
    "rect_graph.move_to_node(\"n1\")\n",
    "for node in rect_graph.node_names:\n",
    "    path=rect_graph.get_path(\"n1\",node)\n",
    "    print(path)\n",
    "    print(\"The length of the path n1-> {0} in s is {1}\".format(node,rect_graph.path_length(path)))"
   ]
  },
  {
   "cell_type": "code",
   "execution_count": 28,
   "metadata": {
    "collapsed": false
   },
   "outputs": [
    {
     "data": {
      "text/plain": [
       "['edge_n1_n13_000', 'edge_n13_n1_000']"
      ]
     },
     "execution_count": 28,
     "metadata": {},
     "output_type": "execute_result"
    }
   ],
   "source": [
    "path=rect_graph.get_path(\"n1\",\"n11\")"
   ]
  },
  {
   "cell_type": "code",
   "execution_count": 12,
   "metadata": {
    "collapsed": false
   },
   "outputs": [
    {
     "name": "stdout",
     "output_type": "stream",
     "text": [
      "['edge_n1_n9_000', 'edge_n9_n2_000', 'edge_n2_n4_000', 'edge_n4_n11_000']\n"
     ]
    }
   ],
   "source": [
    "path=['edge_n1_n12_000', 'edge_n12_n6_000', \n",
    " 'edge_n6_n1_000', 'edge_n1_n9_000', 'edge_n9_n2_000', 'edge_n2_n4_000', 'edge_n4_n11_000']\n",
    "print remove_circular_paths(path)"
   ]
  },
  {
   "cell_type": "code",
   "execution_count": 115,
   "metadata": {
    "collapsed": false
   },
   "outputs": [
    {
     "name": "stdout",
     "output_type": "stream",
     "text": [
      "['edge_n7_n4_000']\n",
      "moving n7 -> n4\n"
     ]
    }
   ],
   "source": [
    "rect_graph.move_to_node(\"n4\")"
   ]
  },
  {
   "cell_type": "code",
   "execution_count": null,
   "metadata": {
    "collapsed": false
   },
   "outputs": [],
   "source": [
    "html=rect_graph.data.to_html(index=False)"
   ]
  },
  {
   "cell_type": "code",
   "execution_count": null,
   "metadata": {
    "collapsed": true
   },
   "outputs": [],
   "source": [
    "df=pandas.read_html(html)"
   ]
  },
  {
   "cell_type": "code",
   "execution_count": null,
   "metadata": {
    "collapsed": false
   },
   "outputs": [],
   "source": [
    "rect_graph.edges"
   ]
  },
  {
   "cell_type": "code",
   "execution_count": null,
   "metadata": {
    "collapsed": false
   },
   "outputs": [],
   "source": [
    "table=OnePortCalrepModel(os.path.join(TESTS_DIRECTORY,'700437.asc'))\n",
    "rect_graph.set_state(\"n2\",table)"
   ]
  },
  {
   "cell_type": "code",
   "execution_count": 113,
   "metadata": {
    "collapsed": false
   },
   "outputs": [
    {
     "name": "stdout",
     "output_type": "stream",
     "text": [
      "['edge_n2_n1_000', 'edge_n1_n7_000']\n",
      "moving n2 -> n1\n",
      "moving n1 -> n7\n"
     ]
    }
   ],
   "source": [
    "rect_graph.move_to_node(\"n7\")"
   ]
  },
  {
   "cell_type": "code",
   "execution_count": null,
   "metadata": {
    "collapsed": false
   },
   "outputs": [],
   "source": [
    "print rect_graph.data"
   ]
  },
  {
   "cell_type": "code",
   "execution_count": null,
   "metadata": {
    "collapsed": true
   },
   "outputs": [],
   "source": [
    "from ipywidgets import *\n"
   ]
  },
  {
   "cell_type": "code",
   "execution_count": 111,
   "metadata": {
    "collapsed": false
   },
   "outputs": [
    {
     "name": "stdout",
     "output_type": "stream",
     "text": [
      "['edge_n4_n11_000', 'edge_n11_n4_000', 'edge_n4_n2_000', 'edge_n2_n1_000', 'edge_n1_n3_000']\n",
      "moving n4 -> n11\n",
      "moving n11 -> n4\n",
      "moving n4 -> n2\n",
      "moving n2 -> n1\n",
      "moving n1 -> n3\n",
      "********************************************************************************\n",
      "HDF File [0, 0, 1, 0, 0, 0, 0, 0, 0, 0, 0, 0]\n",
      "********************************************************************************\n"
     ]
    },
    {
     "data": {
      "image/png": "[encoded data removed]",
      "text/plain": [
       "<matplotlib.figure.Figure at 0x12b20eb8>"
      ]
     },
     "metadata": {},
     "output_type": "display_data"
    }
   ],
   "source": [
    "%matplotlib inline\n",
    "rect_graph.move_to_node(\"n1\")\n",
    "def move_and_show(end_node_number):\n",
    "    node=rect_graph.node_names[end_node_number]\n",
    "    rect_graph.move_to_node(node)\n",
    "    print(\"*\"*80)\n",
    "    print(\"{0}\".format(rect_graph.node_descriptions[end_node_number])+\" {0}\".format(rect_graph.state))\n",
    "    print(\"*\"*80)\n",
    "    rect_graph.show(descriptions=True)\n",
    "    \n",
    "interact(move_and_show,end_node_number=(0,len(rect_graph.node_names)-1,1))"
   ]
  },
  {
   "cell_type": "code",
   "execution_count": 19,
   "metadata": {
    "collapsed": false,
    "scrolled": true
   },
   "outputs": [
    {
     "name": "stdout",
     "output_type": "stream",
     "text": [
      "['edge_n12_n6_000', 'edge_n6_n1_000', 'edge_n1_n9_000', 'edge_n9_n2_000', 'edge_n2_n4_000', 'edge_n4_n11_000']\n",
      "moving n12 -> n6\n",
      "moving n6 -> n1\n",
      "moving n1 -> n9\n",
      "moving n9 -> n2\n",
      "moving n2 -> n4\n",
      "moving n4 -> n11\n",
      "********************************************************************************\n",
      "XML File [0, 0, 0, 0, 0, 0, 0, 0, 0, 0, 1, 0]\n",
      "********************************************************************************\n",
      "test.xml\n"
     ]
    }
   ],
   "source": [
    "def move_and_print(end_node_number):\n",
    "    node=rect_graph.node_names[end_node_number]\n",
    "    rect_graph.move_to_node(node)\n",
    "    print(\"*\"*80)\n",
    "    print(\"{0}\".format(rect_graph.node_descriptions[end_node_number])+\" {0}\".format(rect_graph.state))\n",
    "    print(\"*\"*80)\n",
    "    print rect_graph.data\n",
    "    \n",
    "interact(move_and_print,end_node_number=(0,len(rect_graph.node_names)-1,1))"
   ]
  },
  {
   "cell_type": "code",
   "execution_count": null,
   "metadata": {
    "collapsed": true
   },
   "outputs": [],
   "source": [
    "json=data_frame.to_json(\"test.json\",orient='records')"
   ]
  },
  {
   "cell_type": "code",
   "execution_count": null,
   "metadata": {
    "collapsed": true
   },
   "outputs": [],
   "source": [
    "json_string=data_frame.to_json(orient='records')"
   ]
  },
  {
   "cell_type": "code",
   "execution_count": null,
   "metadata": {
    "collapsed": false
   },
   "outputs": [],
   "source": [
    "new_df=pandas.read_json(json_string,orient='records')"
   ]
  },
  {
   "cell_type": "code",
   "execution_count": null,
   "metadata": {
    "collapsed": false
   },
   "outputs": [],
   "source": [
    "new_df=pandas.read_json(\"test.json\",orient='records')"
   ]
  },
  {
   "cell_type": "code",
   "execution_count": null,
   "metadata": {
    "collapsed": false
   },
   "outputs": [],
   "source": [
    "#str(table.get_data_dictionary_list())\n",
    "json"
   ]
  },
  {
   "cell_type": "code",
   "execution_count": null,
   "metadata": {
    "collapsed": false
   },
   "outputs": [],
   "source": [
    "rect_graph.node_descriptions\n"
   ]
  },
  {
   "cell_type": "code",
   "execution_count": null,
   "metadata": {
    "collapsed": false
   },
   "outputs": [],
   "source": [
    "import json\n",
    "test_list=json.load(open(\"test.json\",'r'))"
   ]
  },
  {
   "cell_type": "code",
   "execution_count": null,
   "metadata": {
    "collapsed": false
   },
   "outputs": [],
   "source": [
    "text_xml=DataTable(None,**{\"data_dictionary\":{\"data\":test_list}})"
   ]
  },
  {
   "cell_type": "code",
   "execution_count": null,
   "metadata": {
    "collapsed": false
   },
   "outputs": [],
   "source": [
    "#print text_xml"
   ]
  },
  {
   "cell_type": "code",
   "execution_count": null,
   "metadata": {
    "collapsed": false
   },
   "outputs": [],
   "source": [
    "rect_graph.edges"
   ]
  },
  {
   "cell_type": "code",
   "execution_count": null,
   "metadata": {
    "collapsed": false
   },
   "outputs": [],
   "source": [
    "rect_graph.move_to_node(\"n7\")"
   ]
  },
  {
   "cell_type": "code",
   "execution_count": null,
   "metadata": {
    "collapsed": false
   },
   "outputs": [],
   "source": [
    "rect_graph.move_to_node(\"n4\")"
   ]
  },
  {
   "cell_type": "code",
   "execution_count": null,
   "metadata": {
    "collapsed": false
   },
   "outputs": [],
   "source": [
    "#print rect_graph.data"
   ]
  },
  {
   "cell_type": "code",
   "execution_count": null,
   "metadata": {
    "collapsed": true
   },
   "outputs": [],
   "source": [
    "from scipy.io import savemat,loadmat"
   ]
  },
  {
   "cell_type": "code",
   "execution_count": null,
   "metadata": {
    "collapsed": false
   },
   "outputs": [],
   "source": [
    "savemat(\"data.mat\",{\"data\":table.data,\"column_names\":table.column_names})"
   ]
  },
  {
   "cell_type": "code",
   "execution_count": null,
   "metadata": {
    "collapsed": false
   },
   "outputs": [],
   "source": [
    "data=loadmat(\"data.mat\")"
   ]
  },
  {
   "cell_type": "code",
   "execution_count": null,
   "metadata": {
    "collapsed": false
   },
   "outputs": [],
   "source": [
    "new_table=AsciiDataTable(None,column_names=map(lambda x: x.rstrip().lstrip(),data[\"column_names\"].tolist()),\n",
    "                         data=data[\"data\"].tolist())"
   ]
  },
  {
   "cell_type": "code",
   "execution_count": null,
   "metadata": {
    "collapsed": false
   },
   "outputs": [],
   "source": [
    "rect_graph.move_to_node(\"n4\")\n",
    "xml=rect_graph.data"
   ]
  },
  {
   "cell_type": "code",
   "execution_count": null,
   "metadata": {
    "collapsed": true
   },
   "outputs": [],
   "source": [
    "import sqlite3\n",
    "import odo"
   ]
  },
  {
   "cell_type": "code",
   "execution_count": null,
   "metadata": {
    "collapsed": false
   },
   "outputs": [],
   "source": [
    "data_frame.dtypes[0]"
   ]
  },
  {
   "cell_type": "code",
   "execution_count": null,
   "metadata": {
    "collapsed": false
   },
   "outputs": [],
   "source": [
    "conn = sqlite3.connect(\"test.db\")\n",
    "conn.execute(\"create table data\")\n",
    "odo.odo(data_frame,'sqlite:///test.db::data')"
   ]
  },
  {
   "cell_type": "code",
   "execution_count": 15,
   "metadata": {
    "collapsed": false
   },
   "outputs": [
    {
     "name": "stdout",
     "output_type": "stream",
     "text": [
      "The self.metadata[\"Device_Id\"] variable is 700437\n"
     ]
    }
   ],
   "source": [
    "one_port=OnePortCalrepModel(os.path.join(TESTS_DIRECTORY,'700437.asc'))"
   ]
  },
  {
   "cell_type": "code",
   "execution_count": null,
   "metadata": {
    "collapsed": false
   },
   "outputs": [],
   "source": [
    "one_port.header"
   ]
  },
  {
   "cell_type": "code",
   "execution_count": null,
   "metadata": {
    "collapsed": false
   },
   "outputs": [],
   "source": [
    "one_port.column_names"
   ]
  },
  {
   "cell_type": "code",
   "execution_count": 18,
   "metadata": {
    "collapsed": false
   },
   "outputs": [
    {
     "data": {
      "text/plain": [
       "{'Analysis_Date': '16-Oct-15', 'Device_Id': '700437'}"
      ]
     },
     "execution_count": 18,
     "metadata": {},
     "output_type": "execute_result"
    }
   ],
   "source": [
    "one_port.metadata"
   ]
  },
  {
   "cell_type": "code",
   "execution_count": 19,
   "metadata": {
    "collapsed": false
   },
   "outputs": [
    {
     "name": "stdout",
     "output_type": "stream",
     "text": [
      "header\n",
      "column_names\n",
      "data\n",
      "footer\n",
      "inline_comments\n",
      "metadata\n"
     ]
    }
   ],
   "source": [
    "for element in one_port.elements:\n",
    "    print element"
   ]
  },
  {
   "cell_type": "code",
   "execution_count": null,
   "metadata": {
    "collapsed": false
   },
   "outputs": [],
   "source": [
    "header_table=pandas.DataFrame(one_port.header,columns=[\"Header_Line_Content\"])\n",
    "data_table=pandas.DataFrame(one_port.data,columns=one_port.column_names)\n",
    "footer_table=pandas.DataFrame(one_port.footer,columns=[\"Footer_Line_Content\"])\n",
    "inline_comments=pandas.DataFrame(one_port.footer,columns=[\"Line\",\"Location\",\"Comment\"])\n",
    "metadata_table=pandas.DataFrame([[key,value] for key,value in one_port.metadata.iteritems() ], \n",
    "                                columns=[\"Property\",\"Value\"])"
   ]
  },
  {
   "cell_type": "code",
   "execution_count": null,
   "metadata": {
    "collapsed": false
   },
   "outputs": [],
   "source": [
    "header_table"
   ]
  },
  {
   "cell_type": "code",
   "execution_count": 129,
   "metadata": {
    "collapsed": false
   },
   "outputs": [],
   "source": [
    "# Move this to a DataTable Graph Example\n",
    "def AsciiDataTable_to_DataFrame_dict(AsciiDataTable):\n",
    "    \"\"\"Converts an AsciiDataTable to a dictionary of pandas.DataFrame s\"\"\"\n",
    "    output_dict={}\n",
    "    for element in AsciiDataTable.elements:\n",
    "        #print(\"{0} is {1}\".format('element',element))\n",
    "        if AsciiDataTable.__dict__[element]:\n",
    "            if re.search('header',element,re.IGNORECASE):\n",
    "                header_table=pandas.DataFrame(AsciiDataTable.header,columns=[\"Header_Line_Content\"])\n",
    "                output_dict[\"Header\"]=header_table\n",
    "            # needs to be before data search    \n",
    "            elif re.search('meta',element,re.IGNORECASE):\n",
    "                #print(\"{0} is {1}\".format('element',element))\n",
    "                metadata_table=pandas.DataFrame([[key,value] for key,value in AsciiDataTable.metadata.iteritems()], \n",
    "                                columns=[\"Property\",\"Value\"])\n",
    "                output_dict[\"Metadata\"]=metadata_table    \n",
    "            elif re.search('data|^meta',element,re.IGNORECASE):\n",
    "                \n",
    "                data_table=pandas.DataFrame(AsciiDataTable.data,columns=AsciiDataTable.column_names)\n",
    "                output_dict[\"Data\"]=data_table\n",
    "                \n",
    "            elif re.search('footer',element,re.IGNORECASE):\n",
    "                footer_table=pandas.DataFrame(AsciiDataTable.footer,columns=[\"Footer_Line_Content\"])\n",
    "                output_dict[\"Footer\"]=footer_table\n",
    "                \n",
    "            elif re.search('comment',element,re.IGNORECASE):\n",
    "                comments=AsciiDataTable.__dict__[element]\n",
    "                inline_comments=pandas.DataFrame(comments,columns=[\"Comment\",\"Line\",\"Location\"])\n",
    "                output_dict[\"Comments\"]=inline_comments\n",
    "    return output_dict\n",
    "\n",
    "def DataFrame_dict_to_AsciiDataTable(DataFrame_dict,**options):\n",
    "    \"\"\"Given a dictionary of pandas DataFrames returns an AsciiDataTable\"\"\"\n",
    "    defaults={\"inline_comment_begin\":\"!\",\"inline_comment_end\":\"\\n\"}\n",
    "    table_options={}\n",
    "    for key,value in defaults.iteritems():\n",
    "        table_options[key]=value\n",
    "    for key,value in options.iteritems():\n",
    "        table_options[key]=value\n",
    "    keys=DataFrame_dict.keys()\n",
    "    for key in keys:\n",
    "        table_key=key\n",
    "        if key in[\"comments\",\"Comments\",\"inline_comments\",\"Inline_Comments\"]:\n",
    "            table_key=\"inline_comments\"\n",
    "        if key in [\"data\",\"Data\"]:\n",
    "            table_options[\"column_names\"]=DataFrame_dict[key].columns.tolist()\n",
    "            \n",
    "        table_options[table_key.lower()]=DataFrame_dict[key].as_matrix().tolist()\n",
    "    new_table=AsciiDataTable(None,**table_options)\n",
    "    return new_table\n",
    "        \n",
    "    "
   ]
  },
  {
   "cell_type": "code",
   "execution_count": 43,
   "metadata": {
    "collapsed": false
   },
   "outputs": [],
   "source": [
    "panda_dict=AsciiDataTable_to_DataFrame_dict(one_port)"
   ]
  },
  {
   "cell_type": "code",
   "execution_count": 44,
   "metadata": {
    "collapsed": false
   },
   "outputs": [
    {
     "data": {
      "text/html": [
       "<div>\n",
       "<table border=\"1\" class=\"dataframe\">\n",
       "  <thead>\n",
       "    <tr style=\"text-align: right;\">\n",
       "      <th></th>\n",
       "      <th>Property</th>\n",
       "      <th>Value</th>\n",
       "    </tr>\n",
       "  </thead>\n",
       "  <tbody>\n",
       "    <tr>\n",
       "      <th>0</th>\n",
       "      <td>Analysis_Date</td>\n",
       "      <td>16-Oct-15</td>\n",
       "    </tr>\n",
       "    <tr>\n",
       "      <th>1</th>\n",
       "      <td>Device_Id</td>\n",
       "      <td>700437</td>\n",
       "    </tr>\n",
       "  </tbody>\n",
       "</table>\n",
       "</div>"
      ],
      "text/plain": [
       "        Property      Value\n",
       "0  Analysis_Date  16-Oct-15\n",
       "1      Device_Id     700437"
      ]
     },
     "execution_count": 44,
     "metadata": {},
     "output_type": "execute_result"
    }
   ],
   "source": [
    "panda_dict[\"Metadata\"]"
   ]
  },
  {
   "cell_type": "code",
   "execution_count": 46,
   "metadata": {
    "collapsed": false
   },
   "outputs": [],
   "source": [
    "#panda_dict[\"Data\"]"
   ]
  },
  {
   "cell_type": "code",
   "execution_count": 107,
   "metadata": {
    "collapsed": true
   },
   "outputs": [],
   "source": [
    "def DataFrame_dict_to_excel(DataFrame_dict,excel_file_name=\"Test.xlsx\"):\n",
    "    \"\"\"Converts a dictionary of pandas DataFrames to a single excel file with sheet names\n",
    "    determined by keys\"\"\"\n",
    "    # sort the keys so that they will display in the same order\n",
    "    writer = pandas.ExcelWriter(excel_file_name)\n",
    "    keys=sorted(DataFrame_dict.keys())\n",
    "    for key in keys:\n",
    "        #print key\n",
    "        DataFrame_dict[key].to_excel(writer,sheet_name=key,index=False)\n",
    "    writer.close()\n",
    "    return excel_file_name\n",
    "\n",
    "def excel_to_DataFrame_dict(excel_file_name):\n",
    "    \"\"\"Reads an excel file into a dictionary of data frames\"\"\"\n",
    "    data_frame_dictionary=pandas.read_excel(excel_file_name,sheetname=None)\n",
    "    return data_frame_dictionary\n",
    "\n",
    "def DataFrame_dict_to_hdf(DataFrame_dict,hdf_file_name=\"Test.hd5\"):\n",
    "    \"\"\"Transforms a dictionary of pandas.DataFrames to a single HD5 file with groups determined by the keys\"\"\"\n",
    "    keys=sorted(DataFrame_dict.keys())\n",
    "    for key in keys:\n",
    "        DataFrame_dict[key].to_hdf(hdf_file_name,key)\n",
    "    return hdf_file_name\n",
    "\n",
    "def hdf_to_DataFrame_dict(hdf_file_name):\n",
    "    \"\"\"Creates a dictionary of pandas.DataFrames given a hd5 file name, does this require the table names?\n",
    "    \"\"\"\n",
    "    hdf=h5py.File(hdf_file_name)\n",
    "    keys=hdf.keys()\n",
    "    pandas_dictionary={key:pandas.read_hdf(hdf_file_name,key) for key in keys}\n",
    "    return pandas_dictionary\n",
    "    "
   ]
  },
  {
   "cell_type": "code",
   "execution_count": null,
   "metadata": {
    "collapsed": false
   },
   "outputs": [],
   "source": [
    "DataFrame_dict_to_excel(panda_dict)"
   ]
  },
  {
   "cell_type": "code",
   "execution_count": null,
   "metadata": {
    "collapsed": true
   },
   "outputs": [],
   "source": [
    "test_dict=pandas.read_excel(\"Test.xlsx\",sheetname=None)"
   ]
  },
  {
   "cell_type": "code",
   "execution_count": null,
   "metadata": {
    "collapsed": false
   },
   "outputs": [],
   "source": [
    "test_dict[\"Header\"]"
   ]
  },
  {
   "cell_type": "code",
   "execution_count": 48,
   "metadata": {
    "collapsed": false
   },
   "outputs": [],
   "source": [
    "raw_table=TwoPortRawModel(os.path.join(TESTS_DIRECTORY,'TestFileTwoPortRaw.txt'))"
   ]
  },
  {
   "cell_type": "code",
   "execution_count": 49,
   "metadata": {
    "collapsed": false
   },
   "outputs": [],
   "source": [
    "test_dict=AsciiDataTable_to_DataFrame_dict(raw_table)"
   ]
  },
  {
   "cell_type": "code",
   "execution_count": 50,
   "metadata": {
    "collapsed": false
   },
   "outputs": [
    {
     "data": {
      "text/plain": [
       "['Header', 'Data', 'Metadata']"
      ]
     },
     "execution_count": 50,
     "metadata": {},
     "output_type": "execute_result"
    }
   ],
   "source": [
    "test_dict.keys()"
   ]
  },
  {
   "cell_type": "code",
   "execution_count": 40,
   "metadata": {
    "collapsed": false
   },
   "outputs": [
    {
     "data": {
      "text/html": [
       "<div>\n",
       "<table border=\"1\" class=\"dataframe\">\n",
       "  <thead>\n",
       "    <tr style=\"text-align: right;\">\n",
       "      <th></th>\n",
       "      <th>Property</th>\n",
       "      <th>Value</th>\n",
       "    </tr>\n",
       "  </thead>\n",
       "  <tbody>\n",
       "    <tr>\n",
       "      <th>0</th>\n",
       "      <td>Connector_Type_Calibration</td>\n",
       "      <td></td>\n",
       "    </tr>\n",
       "    <tr>\n",
       "      <th>1</th>\n",
       "      <td>Number_Connects</td>\n",
       "      <td>3</td>\n",
       "    </tr>\n",
       "    <tr>\n",
       "      <th>2</th>\n",
       "      <td>Connector_Type_Measurement</td>\n",
       "      <td>N</td>\n",
       "    </tr>\n",
       "    <tr>\n",
       "      <th>3</th>\n",
       "      <td>Number_Repeats</td>\n",
       "      <td>1</td>\n",
       "    </tr>\n",
       "    <tr>\n",
       "      <th>4</th>\n",
       "      <td>Operator</td>\n",
       "      <td>BFR</td>\n",
       "    </tr>\n",
       "    <tr>\n",
       "      <th>5</th>\n",
       "      <td>Number_Frequencies</td>\n",
       "      <td>53</td>\n",
       "    </tr>\n",
       "    <tr>\n",
       "      <th>6</th>\n",
       "      <td>Start_Frequency</td>\n",
       "      <td>7</td>\n",
       "    </tr>\n",
       "    <tr>\n",
       "      <th>7</th>\n",
       "      <td>Measurement_Date</td>\n",
       "      <td>9 Sep 2015</td>\n",
       "    </tr>\n",
       "    <tr>\n",
       "      <th>8</th>\n",
       "      <td>Program_Used</td>\n",
       "      <td>MEASLP</td>\n",
       "    </tr>\n",
       "    <tr>\n",
       "      <th>9</th>\n",
       "      <td>Measurement_Type</td>\n",
       "      <td>2-port</td>\n",
       "    </tr>\n",
       "    <tr>\n",
       "      <th>10</th>\n",
       "      <td>System_Id</td>\n",
       "      <td>HP8510</td>\n",
       "    </tr>\n",
       "    <tr>\n",
       "      <th>11</th>\n",
       "      <td>Nbs</td>\n",
       "      <td>4</td>\n",
       "    </tr>\n",
       "    <tr>\n",
       "      <th>12</th>\n",
       "      <td>Device_Id</td>\n",
       "      <td>CTN208</td>\n",
       "    </tr>\n",
       "    <tr>\n",
       "      <th>13</th>\n",
       "      <td>Measurement_Time</td>\n",
       "      <td>10:31:55</td>\n",
       "    </tr>\n",
       "    <tr>\n",
       "      <th>14</th>\n",
       "      <td>Program_Revision</td>\n",
       "      <td>150122</td>\n",
       "    </tr>\n",
       "    <tr>\n",
       "      <th>15</th>\n",
       "      <td>Port_Used</td>\n",
       "      <td>1</td>\n",
       "    </tr>\n",
       "    <tr>\n",
       "      <th>16</th>\n",
       "      <td>Calibration_Date</td>\n",
       "      <td></td>\n",
       "    </tr>\n",
       "    <tr>\n",
       "      <th>17</th>\n",
       "      <td>Device_Description</td>\n",
       "      <td>CHECK STANDARD 20 dB ATTEN</td>\n",
       "    </tr>\n",
       "    <tr>\n",
       "      <th>18</th>\n",
       "      <td>Calibration_Name</td>\n",
       "      <td>c050211.a2</td>\n",
       "    </tr>\n",
       "    <tr>\n",
       "      <th>19</th>\n",
       "      <td>System_Letter</td>\n",
       "      <td>L</td>\n",
       "    </tr>\n",
       "  </tbody>\n",
       "</table>\n",
       "</div>"
      ],
      "text/plain": [
       "                      Property                       Value\n",
       "0   Connector_Type_Calibration                            \n",
       "1              Number_Connects                           3\n",
       "2   Connector_Type_Measurement                           N\n",
       "3               Number_Repeats                           1\n",
       "4                     Operator                         BFR\n",
       "5           Number_Frequencies                          53\n",
       "6              Start_Frequency                           7\n",
       "7             Measurement_Date                  9 Sep 2015\n",
       "8                 Program_Used                      MEASLP\n",
       "9             Measurement_Type                      2-port\n",
       "10                   System_Id                      HP8510\n",
       "11                         Nbs                           4\n",
       "12                   Device_Id                      CTN208\n",
       "13            Measurement_Time                    10:31:55\n",
       "14            Program_Revision                      150122\n",
       "15                   Port_Used                           1\n",
       "16            Calibration_Date                            \n",
       "17          Device_Description  CHECK STANDARD 20 dB ATTEN\n",
       "18            Calibration_Name                  c050211.a2\n",
       "19               System_Letter                           L"
      ]
     },
     "execution_count": 40,
     "metadata": {},
     "output_type": "execute_result"
    }
   ],
   "source": [
    "test_dict[\"Metadata\"]"
   ]
  },
  {
   "cell_type": "code",
   "execution_count": 41,
   "metadata": {
    "collapsed": false
   },
   "outputs": [
    {
     "data": {
      "text/html": [
       "<div>\n",
       "<table border=\"1\" class=\"dataframe\">\n",
       "  <thead>\n",
       "    <tr style=\"text-align: right;\">\n",
       "      <th></th>\n",
       "      <th>Header_Line_Content</th>\n",
       "    </tr>\n",
       "  </thead>\n",
       "  <tbody>\n",
       "    <tr>\n",
       "      <th>0</th>\n",
       "      <td>HP8510</td>\n",
       "    </tr>\n",
       "    <tr>\n",
       "      <th>1</th>\n",
       "      <td>L</td>\n",
       "    </tr>\n",
       "    <tr>\n",
       "      <th>2</th>\n",
       "      <td></td>\n",
       "    </tr>\n",
       "    <tr>\n",
       "      <th>3</th>\n",
       "      <td>N</td>\n",
       "    </tr>\n",
       "    <tr>\n",
       "      <th>4</th>\n",
       "      <td>2-port</td>\n",
       "    </tr>\n",
       "    <tr>\n",
       "      <th>5</th>\n",
       "      <td>9 Sep 2015</td>\n",
       "    </tr>\n",
       "    <tr>\n",
       "      <th>6</th>\n",
       "      <td>10:31:55</td>\n",
       "    </tr>\n",
       "    <tr>\n",
       "      <th>7</th>\n",
       "      <td>MEASLP</td>\n",
       "    </tr>\n",
       "    <tr>\n",
       "      <th>8</th>\n",
       "      <td>150122</td>\n",
       "    </tr>\n",
       "    <tr>\n",
       "      <th>9</th>\n",
       "      <td>BFR</td>\n",
       "    </tr>\n",
       "    <tr>\n",
       "      <th>10</th>\n",
       "      <td>c050211.a2</td>\n",
       "    </tr>\n",
       "    <tr>\n",
       "      <th>11</th>\n",
       "      <td></td>\n",
       "    </tr>\n",
       "    <tr>\n",
       "      <th>12</th>\n",
       "      <td>1</td>\n",
       "    </tr>\n",
       "    <tr>\n",
       "      <th>13</th>\n",
       "      <td>3</td>\n",
       "    </tr>\n",
       "    <tr>\n",
       "      <th>14</th>\n",
       "      <td>1</td>\n",
       "    </tr>\n",
       "    <tr>\n",
       "      <th>15</th>\n",
       "      <td>4</td>\n",
       "    </tr>\n",
       "    <tr>\n",
       "      <th>16</th>\n",
       "      <td>53</td>\n",
       "    </tr>\n",
       "    <tr>\n",
       "      <th>17</th>\n",
       "      <td>7</td>\n",
       "    </tr>\n",
       "    <tr>\n",
       "      <th>18</th>\n",
       "      <td>CHECK STANDARD 20 dB ATTEN                    ...</td>\n",
       "    </tr>\n",
       "    <tr>\n",
       "      <th>19</th>\n",
       "      <td>CTN208</td>\n",
       "    </tr>\n",
       "  </tbody>\n",
       "</table>\n",
       "</div>"
      ],
      "text/plain": [
       "                                  Header_Line_Content\n",
       "0                                        HP8510      \n",
       "1                                                  L \n",
       "2                                                    \n",
       "3                                             N      \n",
       "4                                     2-port         \n",
       "5                                      9 Sep 2015    \n",
       "6                                          10:31:55  \n",
       "7                                          MEASLP    \n",
       "8                                          150122    \n",
       "9                                          BFR       \n",
       "10                                    c050211.a2     \n",
       "11                                                   \n",
       "12                                                  1\n",
       "13                                                  3\n",
       "14                                                  1\n",
       "15                                                  4\n",
       "16                                                 53\n",
       "17                                                  7\n",
       "18  CHECK STANDARD 20 dB ATTEN                    ...\n",
       "19                               CTN208              "
      ]
     },
     "execution_count": 41,
     "metadata": {},
     "output_type": "execute_result"
    }
   ],
   "source": [
    "test_dict[\"Header\"]"
   ]
  },
  {
   "cell_type": "code",
   "execution_count": 53,
   "metadata": {
    "collapsed": true
   },
   "outputs": [],
   "source": [
    "excel=DataFrame_dict_to_excel(test_dict)"
   ]
  },
  {
   "cell_type": "code",
   "execution_count": 56,
   "metadata": {
    "collapsed": false
   },
   "outputs": [],
   "source": [
    "s2p=S2PV1(os.path.join(TESTS_DIRECTORY,'704b.S2P'))"
   ]
  },
  {
   "cell_type": "code",
   "execution_count": 67,
   "metadata": {
    "collapsed": false
   },
   "outputs": [],
   "source": [
    "test_dict=AsciiDataTable_to_DataFrame_dict(s2p)"
   ]
  },
  {
   "cell_type": "code",
   "execution_count": 60,
   "metadata": {
    "collapsed": false
   },
   "outputs": [
    {
     "data": {
      "text/plain": [
       "[['---------------------------------------------------------------------',\n",
       "  0,\n",
       "  0],\n",
       " [' ZVC, 3.52', 1, 0],\n",
       " ['---------------------------------------------------------------------',\n",
       "  2,\n",
       "  0],\n",
       " [' symbol freq-unit parameter-type data-format keyword impedance-ohm', 3, 0],\n",
       " ['---------------------------------------------------------------------',\n",
       "  5,\n",
       "  0],\n",
       " [' freq                dbS11          angS11          dbS21          angS21          dbS12          angS12          dbS22          angS22          ',\n",
       "  6,\n",
       "  0]]"
      ]
     },
     "execution_count": 60,
     "metadata": {},
     "output_type": "execute_result"
    }
   ],
   "source": [
    "s2p.comments"
   ]
  },
  {
   "cell_type": "code",
   "execution_count": 68,
   "metadata": {
    "collapsed": false
   },
   "outputs": [],
   "source": [
    "excel=DataFrame_dict_to_excel(test_dict)"
   ]
  },
  {
   "cell_type": "code",
   "execution_count": 73,
   "metadata": {
    "collapsed": true
   },
   "outputs": [],
   "source": [
    "tet_dict=excel_to_DataFrame_dict(\"test.xlsx\")"
   ]
  },
  {
   "cell_type": "code",
   "execution_count": 79,
   "metadata": {
    "collapsed": false
   },
   "outputs": [
    {
     "data": {
      "text/plain": [
       "['Data', 'Comments']"
      ]
     },
     "execution_count": 79,
     "metadata": {},
     "output_type": "execute_result"
    }
   ],
   "source": [
    "test_dict.keys()"
   ]
  },
  {
   "cell_type": "code",
   "execution_count": 81,
   "metadata": {
    "collapsed": true
   },
   "outputs": [],
   "source": [
    "test_hd5=DataFrame_dict_to_hd5(test_dict)"
   ]
  },
  {
   "cell_type": "code",
   "execution_count": 100,
   "metadata": {
    "collapsed": false
   },
   "outputs": [],
   "source": [
    "import h5py\n",
    "hdf=h5py.File(\"Test.hd5\")\n",
    "keys=hdf.keys()\n",
    "pandas_dictionary={key:pandas.read_hdf(\"Test.hd5\",key) for key in keys}"
   ]
  },
  {
   "cell_type": "code",
   "execution_count": 103,
   "metadata": {
    "collapsed": false
   },
   "outputs": [
    {
     "data": {
      "text/plain": [
       "[u'Comments', u'Data']"
      ]
     },
     "execution_count": 103,
     "metadata": {},
     "output_type": "execute_result"
    }
   ],
   "source": [
    "hdf.keys()"
   ]
  },
  {
   "cell_type": "code",
   "execution_count": 108,
   "metadata": {
    "collapsed": false
   },
   "outputs": [],
   "source": [
    "pandas_dictionary=hdf_to_DataFrame_dict(\"Test.hd5\")"
   ]
  },
  {
   "cell_type": "code",
   "execution_count": 109,
   "metadata": {
    "collapsed": false
   },
   "outputs": [
    {
     "data": {
      "text/plain": [
       "[u'Data', u'Comments']"
      ]
     },
     "execution_count": 109,
     "metadata": {},
     "output_type": "execute_result"
    }
   ],
   "source": [
    "pandas_dictionary.keys()"
   ]
  },
  {
   "cell_type": "code",
   "execution_count": 112,
   "metadata": {
    "collapsed": false
   },
   "outputs": [
    {
     "data": {
      "text/plain": [
       "[['---------------------------------------------------------------------',\n",
       "  0L,\n",
       "  0L],\n",
       " [' ZVC, 3.52', 1L, 0L],\n",
       " ['---------------------------------------------------------------------',\n",
       "  2L,\n",
       "  0L],\n",
       " [' symbol freq-unit parameter-type data-format keyword impedance-ohm',\n",
       "  3L,\n",
       "  0L],\n",
       " ['---------------------------------------------------------------------',\n",
       "  5L,\n",
       "  0L],\n",
       " [' freq                dbS11          angS11          dbS21          angS21          dbS12          angS12          dbS22          angS22          ',\n",
       "  6L,\n",
       "  0L]]"
      ]
     },
     "execution_count": 112,
     "metadata": {},
     "output_type": "execute_result"
    }
   ],
   "source": [
    "pandas_dictionary[\"Comments\"].as_matrix().tolist()"
   ]
  },
  {
   "cell_type": "code",
   "execution_count": 130,
   "metadata": {
    "collapsed": false
   },
   "outputs": [],
   "source": [
    "table=DataFrame_dict_to_AsciiDataTable(pandas_dictionary)"
   ]
  },
  {
   "cell_type": "code",
   "execution_count": 134,
   "metadata": {
    "collapsed": false
   },
   "outputs": [],
   "source": [
    "#print table.get_data_string()"
   ]
  },
  {
   "cell_type": "code",
   "execution_count": 138,
   "metadata": {
    "collapsed": false
   },
   "outputs": [
    {
     "data": {
      "text/plain": [
       "['n1', 'n2', 'n3', 'n4', 'n5', 'n6', 'n7', 'n8', 'n9', 'n10']"
      ]
     },
     "execution_count": 138,
     "metadata": {},
     "output_type": "execute_result"
    }
   ],
   "source": [
    "rect_graph.node_names"
   ]
  },
  {
   "cell_type": "code",
   "execution_count": 139,
   "metadata": {
    "collapsed": true
   },
   "outputs": [],
   "source": [
    "new_graph=networkx.DiGraph()"
   ]
  },
  {
   "cell_type": "code",
   "execution_count": 333,
   "metadata": {
    "collapsed": true
   },
   "outputs": [],
   "source": [
    "for node in rect_graph.node_names:\n",
    "    new_graph.add_node(node)"
   ]
  },
  {
   "cell_type": "code",
   "execution_count": 141,
   "metadata": {
    "collapsed": false
   },
   "outputs": [
    {
     "data": {
      "text/plain": [
       "['edge_n1_n2_000',\n",
       " 'edge_n2_n1_000',\n",
       " 'edge_n3_n1_000',\n",
       " 'edge_n1_n3_000',\n",
       " 'edge_n4_n2_000',\n",
       " 'edge_n2_n4_000',\n",
       " 'edge_n5_n1_000',\n",
       " 'edge_n1_n5_000',\n",
       " 'edge_n6_n1_000',\n",
       " 'edge_n1_n6_000',\n",
       " 'edge_n7_n1_000',\n",
       " 'edge_n1_n7_000',\n",
       " 'edge_n8_n1_000',\n",
       " 'edge_n1_n8_000',\n",
       " 'edge_n9_n1_000',\n",
       " 'edge_n1_n9_000',\n",
       " 'edge_n10_n2_000',\n",
       " 'edge_n2_n10_000',\n",
       " 'edge_n7_n4_000']"
      ]
     },
     "execution_count": 141,
     "metadata": {},
     "output_type": "execute_result"
    }
   ],
   "source": [
    "rect_graph.edges"
   ]
  },
  {
   "cell_type": "code",
   "execution_count": 143,
   "metadata": {
    "collapsed": false
   },
   "outputs": [],
   "source": [
    "edge_pattern=re.compile(\"edge_(?P<begin_node>\\w+)_(?P<end_node>\\w+)_(?P<iterator>\\w+)\")"
   ]
  },
  {
   "cell_type": "code",
   "execution_count": 332,
   "metadata": {
    "collapsed": false
   },
   "outputs": [
    {
     "name": "stdout",
     "output_type": "stream",
     "text": [
      "Begin Node = n1, End Node= n2\n",
      "Begin Node = n2, End Node= n1\n",
      "Begin Node = n3, End Node= n1\n",
      "Begin Node = n1, End Node= n3\n",
      "Begin Node = n4, End Node= n2\n",
      "Begin Node = n2, End Node= n4\n",
      "Begin Node = n5, End Node= n1\n",
      "Begin Node = n1, End Node= n5\n",
      "Begin Node = n6, End Node= n1\n",
      "Begin Node = n1, End Node= n6\n",
      "Begin Node = n7, End Node= n1\n",
      "Begin Node = n1, End Node= n7\n",
      "Begin Node = n8, End Node= n1\n",
      "Begin Node = n1, End Node= n8\n",
      "Begin Node = n9, End Node= n1\n",
      "Begin Node = n1, End Node= n9\n",
      "Begin Node = n10, End Node= n2\n",
      "Begin Node = n2, End Node= n10\n",
      "Begin Node = n11, End Node= n4\n",
      "Begin Node = n4, End Node= n11\n",
      "Begin Node = n7, End Node= n4\n"
     ]
    }
   ],
   "source": [
    "for edge in rect_graph.edges:\n",
    "    match=re.match(edge_pattern,edge)\n",
    "    if match:\n",
    "        begin_node=match.groupdict()[\"begin_node\"]\n",
    "        end_node=match.groupdict()[\"end_node\"]\n",
    "        new_graph.add_edge(begin_node,end_node)\n",
    "        print(\"Begin Node = {0}, End Node= {1}\".format(begin_node,end_node))"
   ]
  },
  {
   "cell_type": "code",
   "execution_count": 150,
   "metadata": {
    "collapsed": true
   },
   "outputs": [],
   "source": [
    "networkx.draw_networkx(new_graph,arrows=True)\n",
    "plt.show()"
   ]
  },
  {
   "cell_type": "code",
   "execution_count": 334,
   "metadata": {
    "collapsed": false
   },
   "outputs": [
    {
     "data": {
      "application/javascript": [
       "/* Put everything inside the global mpl namespace */\n",
       "window.mpl = {};\n",
       "\n",
       "mpl.get_websocket_type = function() {\n",
       "    if (typeof(WebSocket) !== 'undefined') {\n",
       "        return WebSocket;\n",
       "    } else if (typeof(MozWebSocket) !== 'undefined') {\n",
       "        return MozWebSocket;\n",
       "    } else {\n",
       "        alert('Your browser does not have WebSocket support.' +\n",
       "              'Please try Chrome, Safari or Firefox ≥ 6. ' +\n",
       "              'Firefox 4 and 5 are also supported but you ' +\n",
       "              'have to enable WebSockets in about:config.');\n",
       "    };\n",
       "}\n",
       "\n",
       "mpl.figure = function(figure_id, websocket, ondownload, parent_element) {\n",
       "    this.id = figure_id;\n",
       "\n",
       "    this.ws = websocket;\n",
       "\n",
       "    this.supports_binary = (this.ws.binaryType != undefined);\n",
       "\n",
       "    if (!this.supports_binary) {\n",
       "        var warnings = document.getElementById(\"mpl-warnings\");\n",
       "        if (warnings) {\n",
       "            warnings.style.display = 'block';\n",
       "            warnings.textContent = (\n",
       "                \"This browser does not support binary websocket messages. \" +\n",
       "                    \"Performance may be slow.\");\n",
       "        }\n",
       "    }\n",
       "\n",
       "    this.imageObj = new Image();\n",
       "\n",
       "    this.context = undefined;\n",
       "    this.message = undefined;\n",
       "    this.canvas = undefined;\n",
       "    this.rubberband_canvas = undefined;\n",
       "    this.rubberband_context = undefined;\n",
       "    this.format_dropdown = undefined;\n",
       "\n",
       "    this.image_mode = 'full';\n",
       "\n",
       "    this.root = $('<div/>');\n",
       "    this._root_extra_style(this.root)\n",
       "    this.root.attr('style', 'display: inline-block');\n",
       "\n",
       "    $(parent_element).append(this.root);\n",
       "\n",
       "    this._init_header(this);\n",
       "    this._init_canvas(this);\n",
       "    this._init_toolbar(this);\n",
       "\n",
       "    var fig = this;\n",
       "\n",
       "    this.waiting = false;\n",
       "\n",
       "    this.ws.onopen =  function () {\n",
       "            fig.send_message(\"supports_binary\", {value: fig.supports_binary});\n",
       "            fig.send_message(\"send_image_mode\", {});\n",
       "            fig.send_message(\"refresh\", {});\n",
       "        }\n",
       "\n",
       "    this.imageObj.onload = function() {\n",
       "            if (fig.image_mode == 'full') {\n",
       "                // Full images could contain transparency (where diff images\n",
       "                // almost always do), so we need to clear the canvas so that\n",
       "                // there is no ghosting.\n",
       "                fig.context.clearRect(0, 0, fig.canvas.width, fig.canvas.height);\n",
       "            }\n",
       "            fig.context.drawImage(fig.imageObj, 0, 0);\n",
       "        };\n",
       "\n",
       "    this.imageObj.onunload = function() {\n",
       "        this.ws.close();\n",
       "    }\n",
       "\n",
       "    this.ws.onmessage = this._make_on_message_function(this);\n",
       "\n",
       "    this.ondownload = ondownload;\n",
       "}\n",
       "\n",
       "mpl.figure.prototype._init_header = function() {\n",
       "    var titlebar = $(\n",
       "        '<div class=\"ui-dialog-titlebar ui-widget-header ui-corner-all ' +\n",
       "        'ui-helper-clearfix\"/>');\n",
       "    var titletext = $(\n",
       "        '<div class=\"ui-dialog-title\" style=\"width: 100%; ' +\n",
       "        'text-align: center; padding: 3px;\"/>');\n",
       "    titlebar.append(titletext)\n",
       "    this.root.append(titlebar);\n",
       "    this.header = titletext[0];\n",
       "}\n",
       "\n",
       "\n",
       "\n",
       "mpl.figure.prototype._canvas_extra_style = function(canvas_div) {\n",
       "\n",
       "}\n",
       "\n",
       "\n",
       "mpl.figure.prototype._root_extra_style = function(canvas_div) {\n",
       "\n",
       "}\n",
       "\n",
       "mpl.figure.prototype._init_canvas = function() {\n",
       "    var fig = this;\n",
       "\n",
       "    var canvas_div = $('<div/>');\n",
       "\n",
       "    canvas_div.attr('style', 'position: relative; clear: both; outline: 0');\n",
       "\n",
       "    function canvas_keyboard_event(event) {\n",
       "        return fig.key_event(event, event['data']);\n",
       "    }\n",
       "\n",
       "    canvas_div.keydown('key_press', canvas_keyboard_event);\n",
       "    canvas_div.keyup('key_release', canvas_keyboard_event);\n",
       "    this.canvas_div = canvas_div\n",
       "    this._canvas_extra_style(canvas_div)\n",
       "    this.root.append(canvas_div);\n",
       "\n",
       "    var canvas = $('<canvas/>');\n",
       "    canvas.addClass('mpl-canvas');\n",
       "    canvas.attr('style', \"left: 0; top: 0; z-index: 0; outline: 0\")\n",
       "\n",
       "    this.canvas = canvas[0];\n",
       "    this.context = canvas[0].getContext(\"2d\");\n",
       "\n",
       "    var rubberband = $('<canvas/>');\n",
       "    rubberband.attr('style', \"position: absolute; left: 0; top: 0; z-index: 1;\")\n",
       "\n",
       "    var pass_mouse_events = true;\n",
       "\n",
       "    canvas_div.resizable({\n",
       "        start: function(event, ui) {\n",
       "            pass_mouse_events = false;\n",
       "        },\n",
       "        resize: function(event, ui) {\n",
       "            fig.request_resize(ui.size.width, ui.size.height);\n",
       "        },\n",
       "        stop: function(event, ui) {\n",
       "            pass_mouse_events = true;\n",
       "            fig.request_resize(ui.size.width, ui.size.height);\n",
       "        },\n",
       "    });\n",
       "\n",
       "    function mouse_event_fn(event) {\n",
       "        if (pass_mouse_events)\n",
       "            return fig.mouse_event(event, event['data']);\n",
       "    }\n",
       "\n",
       "    rubberband.mousedown('button_press', mouse_event_fn);\n",
       "    rubberband.mouseup('button_release', mouse_event_fn);\n",
       "    // Throttle sequential mouse events to 1 every 20ms.\n",
       "    rubberband.mousemove('motion_notify', mouse_event_fn);\n",
       "\n",
       "    rubberband.mouseenter('figure_enter', mouse_event_fn);\n",
       "    rubberband.mouseleave('figure_leave', mouse_event_fn);\n",
       "\n",
       "    canvas_div.on(\"wheel\", function (event) {\n",
       "        event = event.originalEvent;\n",
       "        event['data'] = 'scroll'\n",
       "        if (event.deltaY < 0) {\n",
       "            event.step = 1;\n",
       "        } else {\n",
       "            event.step = -1;\n",
       "        }\n",
       "        mouse_event_fn(event);\n",
       "    });\n",
       "\n",
       "    canvas_div.append(canvas);\n",
       "    canvas_div.append(rubberband);\n",
       "\n",
       "    this.rubberband = rubberband;\n",
       "    this.rubberband_canvas = rubberband[0];\n",
       "    this.rubberband_context = rubberband[0].getContext(\"2d\");\n",
       "    this.rubberband_context.strokeStyle = \"#000000\";\n",
       "\n",
       "    this._resize_canvas = function(width, height) {\n",
       "        // Keep the size of the canvas, canvas container, and rubber band\n",
       "        // canvas in synch.\n",
       "        canvas_div.css('width', width)\n",
       "        canvas_div.css('height', height)\n",
       "\n",
       "        canvas.attr('width', width);\n",
       "        canvas.attr('height', height);\n",
       "\n",
       "        rubberband.attr('width', width);\n",
       "        rubberband.attr('height', height);\n",
       "    }\n",
       "\n",
       "    // Set the figure to an initial 600x600px, this will subsequently be updated\n",
       "    // upon first draw.\n",
       "    this._resize_canvas(600, 600);\n",
       "\n",
       "    // Disable right mouse context menu.\n",
       "    $(this.rubberband_canvas).bind(\"contextmenu\",function(e){\n",
       "        return false;\n",
       "    });\n",
       "\n",
       "    function set_focus () {\n",
       "        canvas.focus();\n",
       "        canvas_div.focus();\n",
       "    }\n",
       "\n",
       "    window.setTimeout(set_focus, 100);\n",
       "}\n",
       "\n",
       "mpl.figure.prototype._init_toolbar = function() {\n",
       "    var fig = this;\n",
       "\n",
       "    var nav_element = $('<div/>')\n",
       "    nav_element.attr('style', 'width: 100%');\n",
       "    this.root.append(nav_element);\n",
       "\n",
       "    // Define a callback function for later on.\n",
       "    function toolbar_event(event) {\n",
       "        return fig.toolbar_button_onclick(event['data']);\n",
       "    }\n",
       "    function toolbar_mouse_event(event) {\n",
       "        return fig.toolbar_button_onmouseover(event['data']);\n",
       "    }\n",
       "\n",
       "    for(var toolbar_ind in mpl.toolbar_items) {\n",
       "        var name = mpl.toolbar_items[toolbar_ind][0];\n",
       "        var tooltip = mpl.toolbar_items[toolbar_ind][1];\n",
       "        var image = mpl.toolbar_items[toolbar_ind][2];\n",
       "        var method_name = mpl.toolbar_items[toolbar_ind][3];\n",
       "\n",
       "        if (!name) {\n",
       "            // put a spacer in here.\n",
       "            continue;\n",
       "        }\n",
       "        var button = $('<button/>');\n",
       "        button.addClass('ui-button ui-widget ui-state-default ui-corner-all ' +\n",
       "                        'ui-button-icon-only');\n",
       "        button.attr('role', 'button');\n",
       "        button.attr('aria-disabled', 'false');\n",
       "        button.click(method_name, toolbar_event);\n",
       "        button.mouseover(tooltip, toolbar_mouse_event);\n",
       "\n",
       "        var icon_img = $('<span/>');\n",
       "        icon_img.addClass('ui-button-icon-primary ui-icon');\n",
       "        icon_img.addClass(image);\n",
       "        icon_img.addClass('ui-corner-all');\n",
       "\n",
       "        var tooltip_span = $('<span/>');\n",
       "        tooltip_span.addClass('ui-button-text');\n",
       "        tooltip_span.html(tooltip);\n",
       "\n",
       "        button.append(icon_img);\n",
       "        button.append(tooltip_span);\n",
       "\n",
       "        nav_element.append(button);\n",
       "    }\n",
       "\n",
       "    var fmt_picker_span = $('<span/>');\n",
       "\n",
       "    var fmt_picker = $('<select/>');\n",
       "    fmt_picker.addClass('mpl-toolbar-option ui-widget ui-widget-content');\n",
       "    fmt_picker_span.append(fmt_picker);\n",
       "    nav_element.append(fmt_picker_span);\n",
       "    this.format_dropdown = fmt_picker[0];\n",
       "\n",
       "    for (var ind in mpl.extensions) {\n",
       "        var fmt = mpl.extensions[ind];\n",
       "        var option = $(\n",
       "            '<option/>', {selected: fmt === mpl.default_extension}).html(fmt);\n",
       "        fmt_picker.append(option)\n",
       "    }\n",
       "\n",
       "    // Add hover states to the ui-buttons\n",
       "    $( \".ui-button\" ).hover(\n",
       "        function() { $(this).addClass(\"ui-state-hover\");},\n",
       "        function() { $(this).removeClass(\"ui-state-hover\");}\n",
       "    );\n",
       "\n",
       "    var status_bar = $('<span class=\"mpl-message\"/>');\n",
       "    nav_element.append(status_bar);\n",
       "    this.message = status_bar[0];\n",
       "}\n",
       "\n",
       "mpl.figure.prototype.request_resize = function(x_pixels, y_pixels) {\n",
       "    // Request matplotlib to resize the figure. Matplotlib will then trigger a resize in the client,\n",
       "    // which will in turn request a refresh of the image.\n",
       "    this.send_message('resize', {'width': x_pixels, 'height': y_pixels});\n",
       "}\n",
       "\n",
       "mpl.figure.prototype.send_message = function(type, properties) {\n",
       "    properties['type'] = type;\n",
       "    properties['figure_id'] = this.id;\n",
       "    this.ws.send(JSON.stringify(properties));\n",
       "}\n",
       "\n",
       "mpl.figure.prototype.send_draw_message = function() {\n",
       "    if (!this.waiting) {\n",
       "        this.waiting = true;\n",
       "        this.ws.send(JSON.stringify({type: \"draw\", figure_id: this.id}));\n",
       "    }\n",
       "}\n",
       "\n",
       "\n",
       "mpl.figure.prototype.handle_save = function(fig, msg) {\n",
       "    var format_dropdown = fig.format_dropdown;\n",
       "    var format = format_dropdown.options[format_dropdown.selectedIndex].value;\n",
       "    fig.ondownload(fig, format);\n",
       "}\n",
       "\n",
       "\n",
       "mpl.figure.prototype.handle_resize = function(fig, msg) {\n",
       "    var size = msg['size'];\n",
       "    if (size[0] != fig.canvas.width || size[1] != fig.canvas.height) {\n",
       "        fig._resize_canvas(size[0], size[1]);\n",
       "        fig.send_message(\"refresh\", {});\n",
       "    };\n",
       "}\n",
       "\n",
       "mpl.figure.prototype.handle_rubberband = function(fig, msg) {\n",
       "    var x0 = msg['x0'];\n",
       "    var y0 = fig.canvas.height - msg['y0'];\n",
       "    var x1 = msg['x1'];\n",
       "    var y1 = fig.canvas.height - msg['y1'];\n",
       "    x0 = Math.floor(x0) + 0.5;\n",
       "    y0 = Math.floor(y0) + 0.5;\n",
       "    x1 = Math.floor(x1) + 0.5;\n",
       "    y1 = Math.floor(y1) + 0.5;\n",
       "    var min_x = Math.min(x0, x1);\n",
       "    var min_y = Math.min(y0, y1);\n",
       "    var width = Math.abs(x1 - x0);\n",
       "    var height = Math.abs(y1 - y0);\n",
       "\n",
       "    fig.rubberband_context.clearRect(\n",
       "        0, 0, fig.canvas.width, fig.canvas.height);\n",
       "\n",
       "    fig.rubberband_context.strokeRect(min_x, min_y, width, height);\n",
       "}\n",
       "\n",
       "mpl.figure.prototype.handle_figure_label = function(fig, msg) {\n",
       "    // Updates the figure title.\n",
       "    fig.header.textContent = msg['label'];\n",
       "}\n",
       "\n",
       "mpl.figure.prototype.handle_cursor = function(fig, msg) {\n",
       "    var cursor = msg['cursor'];\n",
       "    switch(cursor)\n",
       "    {\n",
       "    case 0:\n",
       "        cursor = 'pointer';\n",
       "        break;\n",
       "    case 1:\n",
       "        cursor = 'default';\n",
       "        break;\n",
       "    case 2:\n",
       "        cursor = 'crosshair';\n",
       "        break;\n",
       "    case 3:\n",
       "        cursor = 'move';\n",
       "        break;\n",
       "    }\n",
       "    fig.rubberband_canvas.style.cursor = cursor;\n",
       "}\n",
       "\n",
       "mpl.figure.prototype.handle_message = function(fig, msg) {\n",
       "    fig.message.textContent = msg['message'];\n",
       "}\n",
       "\n",
       "mpl.figure.prototype.handle_draw = function(fig, msg) {\n",
       "    // Request the server to send over a new figure.\n",
       "    fig.send_draw_message();\n",
       "}\n",
       "\n",
       "mpl.figure.prototype.handle_image_mode = function(fig, msg) {\n",
       "    fig.image_mode = msg['mode'];\n",
       "}\n",
       "\n",
       "mpl.figure.prototype.updated_canvas_event = function() {\n",
       "    // Called whenever the canvas gets updated.\n",
       "    this.send_message(\"ack\", {});\n",
       "}\n",
       "\n",
       "// A function to construct a web socket function for onmessage handling.\n",
       "// Called in the figure constructor.\n",
       "mpl.figure.prototype._make_on_message_function = function(fig) {\n",
       "    return function socket_on_message(evt) {\n",
       "        if (evt.data instanceof Blob) {\n",
       "            /* FIXME: We get \"Resource interpreted as Image but\n",
       "             * transferred with MIME type text/plain:\" errors on\n",
       "             * Chrome.  But how to set the MIME type?  It doesn't seem\n",
       "             * to be part of the websocket stream */\n",
       "            evt.data.type = \"image/png\";\n",
       "\n",
       "            /* Free the memory for the previous frames */\n",
       "            if (fig.imageObj.src) {\n",
       "                (window.URL || window.webkitURL).revokeObjectURL(\n",
       "                    fig.imageObj.src);\n",
       "            }\n",
       "\n",
       "            fig.imageObj.src = (window.URL || window.webkitURL).createObjectURL(\n",
       "                evt.data);\n",
       "            fig.updated_canvas_event();\n",
       "            fig.waiting = false;\n",
       "            return;\n",
       "        }\n",
       "        else if (typeof evt.data === 'string' && evt.data.slice(0, 21) == \"data:image/png;base64\") {\n",
       "            fig.imageObj.src = evt.data;\n",
       "            fig.updated_canvas_event();\n",
       "            fig.waiting = false;\n",
       "            return;\n",
       "        }\n",
       "\n",
       "        var msg = JSON.parse(evt.data);\n",
       "        var msg_type = msg['type'];\n",
       "\n",
       "        // Call the  \"handle_{type}\" callback, which takes\n",
       "        // the figure and JSON message as its only arguments.\n",
       "        try {\n",
       "            var callback = fig[\"handle_\" + msg_type];\n",
       "        } catch (e) {\n",
       "            console.log(\"No handler for the '\" + msg_type + \"' message type: \", msg);\n",
       "            return;\n",
       "        }\n",
       "\n",
       "        if (callback) {\n",
       "            try {\n",
       "                // console.log(\"Handling '\" + msg_type + \"' message: \", msg);\n",
       "                callback(fig, msg);\n",
       "            } catch (e) {\n",
       "                console.log(\"Exception inside the 'handler_\" + msg_type + \"' callback:\", e, e.stack, msg);\n",
       "            }\n",
       "        }\n",
       "    };\n",
       "}\n",
       "\n",
       "// from http://stackoverflow.com/questions/1114465/getting-mouse-location-in-canvas\n",
       "mpl.findpos = function(e) {\n",
       "    //this section is from http://www.quirksmode.org/js/events_properties.html\n",
       "    var targ;\n",
       "    if (!e)\n",
       "        e = window.event;\n",
       "    if (e.target)\n",
       "        targ = e.target;\n",
       "    else if (e.srcElement)\n",
       "        targ = e.srcElement;\n",
       "    if (targ.nodeType == 3) // defeat Safari bug\n",
       "        targ = targ.parentNode;\n",
       "\n",
       "    // jQuery normalizes the pageX and pageY\n",
       "    // pageX,Y are the mouse positions relative to the document\n",
       "    // offset() returns the position of the element relative to the document\n",
       "    var x = e.pageX - $(targ).offset().left;\n",
       "    var y = e.pageY - $(targ).offset().top;\n",
       "\n",
       "    return {\"x\": x, \"y\": y};\n",
       "};\n",
       "\n",
       "/*\n",
       " * return a copy of an object with only non-object keys\n",
       " * we need this to avoid circular references\n",
       " * http://stackoverflow.com/a/24161582/3208463\n",
       " */\n",
       "function simpleKeys (original) {\n",
       "  return Object.keys(original).reduce(function (obj, key) {\n",
       "    if (typeof original[key] !== 'object')\n",
       "        obj[key] = original[key]\n",
       "    return obj;\n",
       "  }, {});\n",
       "}\n",
       "\n",
       "mpl.figure.prototype.mouse_event = function(event, name) {\n",
       "    var canvas_pos = mpl.findpos(event)\n",
       "\n",
       "    if (name === 'button_press')\n",
       "    {\n",
       "        this.canvas.focus();\n",
       "        this.canvas_div.focus();\n",
       "    }\n",
       "\n",
       "    var x = canvas_pos.x;\n",
       "    var y = canvas_pos.y;\n",
       "\n",
       "    this.send_message(name, {x: x, y: y, button: event.button,\n",
       "                             step: event.step,\n",
       "                             guiEvent: simpleKeys(event)});\n",
       "\n",
       "    /* This prevents the web browser from automatically changing to\n",
       "     * the text insertion cursor when the button is pressed.  We want\n",
       "     * to control all of the cursor setting manually through the\n",
       "     * 'cursor' event from matplotlib */\n",
       "    event.preventDefault();\n",
       "    return false;\n",
       "}\n",
       "\n",
       "mpl.figure.prototype._key_event_extra = function(event, name) {\n",
       "    // Handle any extra behaviour associated with a key event\n",
       "}\n",
       "\n",
       "mpl.figure.prototype.key_event = function(event, name) {\n",
       "\n",
       "    // Prevent repeat events\n",
       "    if (name == 'key_press')\n",
       "    {\n",
       "        if (event.which === this._key)\n",
       "            return;\n",
       "        else\n",
       "            this._key = event.which;\n",
       "    }\n",
       "    if (name == 'key_release')\n",
       "        this._key = null;\n",
       "\n",
       "    var value = '';\n",
       "    if (event.ctrlKey && event.which != 17)\n",
       "        value += \"ctrl+\";\n",
       "    if (event.altKey && event.which != 18)\n",
       "        value += \"alt+\";\n",
       "    if (event.shiftKey && event.which != 16)\n",
       "        value += \"shift+\";\n",
       "\n",
       "    value += 'k';\n",
       "    value += event.which.toString();\n",
       "\n",
       "    this._key_event_extra(event, name);\n",
       "\n",
       "    this.send_message(name, {key: value,\n",
       "                             guiEvent: simpleKeys(event)});\n",
       "    return false;\n",
       "}\n",
       "\n",
       "mpl.figure.prototype.toolbar_button_onclick = function(name) {\n",
       "    if (name == 'download') {\n",
       "        this.handle_save(this, null);\n",
       "    } else {\n",
       "        this.send_message(\"toolbar_button\", {name: name});\n",
       "    }\n",
       "};\n",
       "\n",
       "mpl.figure.prototype.toolbar_button_onmouseover = function(tooltip) {\n",
       "    this.message.textContent = tooltip;\n",
       "};\n",
       "mpl.toolbar_items = [[\"Home\", \"Reset original view\", \"fa fa-home icon-home\", \"home\"], [\"Back\", \"Back to  previous view\", \"fa fa-arrow-left icon-arrow-left\", \"back\"], [\"Forward\", \"Forward to next view\", \"fa fa-arrow-right icon-arrow-right\", \"forward\"], [\"\", \"\", \"\", \"\"], [\"Pan\", \"Pan axes with left mouse, zoom with right\", \"fa fa-arrows icon-move\", \"pan\"], [\"Zoom\", \"Zoom to rectangle\", \"fa fa-square-o icon-check-empty\", \"zoom\"], [\"\", \"\", \"\", \"\"], [\"Download\", \"Download plot\", \"fa fa-floppy-o icon-save\", \"download\"]];\n",
       "\n",
       "mpl.extensions = [\"eps\", \"jpeg\", \"pdf\", \"png\", \"ps\", \"raw\", \"svg\", \"tif\"];\n",
       "\n",
       "mpl.default_extension = \"png\";var comm_websocket_adapter = function(comm) {\n",
       "    // Create a \"websocket\"-like object which calls the given IPython comm\n",
       "    // object with the appropriate methods. Currently this is a non binary\n",
       "    // socket, so there is still some room for performance tuning.\n",
       "    var ws = {};\n",
       "\n",
       "    ws.close = function() {\n",
       "        comm.close()\n",
       "    };\n",
       "    ws.send = function(m) {\n",
       "        //console.log('sending', m);\n",
       "        comm.send(m);\n",
       "    };\n",
       "    // Register the callback with on_msg.\n",
       "    comm.on_msg(function(msg) {\n",
       "        //console.log('receiving', msg['content']['data'], msg);\n",
       "        // Pass the mpl event to the overriden (by mpl) onmessage function.\n",
       "        ws.onmessage(msg['content']['data'])\n",
       "    });\n",
       "    return ws;\n",
       "}\n",
       "\n",
       "mpl.mpl_figure_comm = function(comm, msg) {\n",
       "    // This is the function which gets called when the mpl process\n",
       "    // starts-up an IPython Comm through the \"matplotlib\" channel.\n",
       "\n",
       "    var id = msg.content.data.id;\n",
       "    // Get hold of the div created by the display call when the Comm\n",
       "    // socket was opened in Python.\n",
       "    var element = $(\"#\" + id);\n",
       "    var ws_proxy = comm_websocket_adapter(comm)\n",
       "\n",
       "    function ondownload(figure, format) {\n",
       "        window.open(figure.imageObj.src);\n",
       "    }\n",
       "\n",
       "    var fig = new mpl.figure(id, ws_proxy,\n",
       "                           ondownload,\n",
       "                           element.get(0));\n",
       "\n",
       "    // Call onopen now - mpl needs it, as it is assuming we've passed it a real\n",
       "    // web socket which is closed, not our websocket->open comm proxy.\n",
       "    ws_proxy.onopen();\n",
       "\n",
       "    fig.parent_element = element.get(0);\n",
       "    fig.cell_info = mpl.find_output_cell(\"<div id='\" + id + \"'></div>\");\n",
       "    if (!fig.cell_info) {\n",
       "        console.error(\"Failed to find cell for figure\", id, fig);\n",
       "        return;\n",
       "    }\n",
       "\n",
       "    var output_index = fig.cell_info[2]\n",
       "    var cell = fig.cell_info[0];\n",
       "\n",
       "};\n",
       "\n",
       "mpl.figure.prototype.handle_close = function(fig, msg) {\n",
       "    fig.root.unbind('remove')\n",
       "\n",
       "    // Update the output cell to use the data from the current canvas.\n",
       "    fig.push_to_output();\n",
       "    var dataURL = fig.canvas.toDataURL();\n",
       "    // Re-enable the keyboard manager in IPython - without this line, in FF,\n",
       "    // the notebook keyboard shortcuts fail.\n",
       "    IPython.keyboard_manager.enable()\n",
       "    $(fig.parent_element).html('<img src=\"' + dataURL + '\">');\n",
       "    fig.close_ws(fig, msg);\n",
       "}\n",
       "\n",
       "mpl.figure.prototype.close_ws = function(fig, msg){\n",
       "    fig.send_message('closing', msg);\n",
       "    // fig.ws.close()\n",
       "}\n",
       "\n",
       "mpl.figure.prototype.push_to_output = function(remove_interactive) {\n",
       "    // Turn the data on the canvas into data in the output cell.\n",
       "    var dataURL = this.canvas.toDataURL();\n",
       "    this.cell_info[1]['text/html'] = '<img src=\"' + dataURL + '\">';\n",
       "}\n",
       "\n",
       "mpl.figure.prototype.updated_canvas_event = function() {\n",
       "    // Tell IPython that the notebook contents must change.\n",
       "    IPython.notebook.set_dirty(true);\n",
       "    this.send_message(\"ack\", {});\n",
       "    var fig = this;\n",
       "    // Wait a second, then push the new image to the DOM so\n",
       "    // that it is saved nicely (might be nice to debounce this).\n",
       "    setTimeout(function () { fig.push_to_output() }, 1000);\n",
       "}\n",
       "\n",
       "mpl.figure.prototype._init_toolbar = function() {\n",
       "    var fig = this;\n",
       "\n",
       "    var nav_element = $('<div/>')\n",
       "    nav_element.attr('style', 'width: 100%');\n",
       "    this.root.append(nav_element);\n",
       "\n",
       "    // Define a callback function for later on.\n",
       "    function toolbar_event(event) {\n",
       "        return fig.toolbar_button_onclick(event['data']);\n",
       "    }\n",
       "    function toolbar_mouse_event(event) {\n",
       "        return fig.toolbar_button_onmouseover(event['data']);\n",
       "    }\n",
       "\n",
       "    for(var toolbar_ind in mpl.toolbar_items){\n",
       "        var name = mpl.toolbar_items[toolbar_ind][0];\n",
       "        var tooltip = mpl.toolbar_items[toolbar_ind][1];\n",
       "        var image = mpl.toolbar_items[toolbar_ind][2];\n",
       "        var method_name = mpl.toolbar_items[toolbar_ind][3];\n",
       "\n",
       "        if (!name) { continue; };\n",
       "\n",
       "        var button = $('<button class=\"btn btn-default\" href=\"#\" title=\"' + name + '\"><i class=\"fa ' + image + ' fa-lg\"></i></button>');\n",
       "        button.click(method_name, toolbar_event);\n",
       "        button.mouseover(tooltip, toolbar_mouse_event);\n",
       "        nav_element.append(button);\n",
       "    }\n",
       "\n",
       "    // Add the status bar.\n",
       "    var status_bar = $('<span class=\"mpl-message\" style=\"text-align:right; float: right;\"/>');\n",
       "    nav_element.append(status_bar);\n",
       "    this.message = status_bar[0];\n",
       "\n",
       "    // Add the close button to the window.\n",
       "    var buttongrp = $('<div class=\"btn-group inline pull-right\"></div>');\n",
       "    var button = $('<button class=\"btn btn-mini btn-primary\" href=\"#\" title=\"Stop Interaction\"><i class=\"fa fa-power-off icon-remove icon-large\"></i></button>');\n",
       "    button.click(function (evt) { fig.handle_close(fig, {}); } );\n",
       "    button.mouseover('Stop Interaction', toolbar_mouse_event);\n",
       "    buttongrp.append(button);\n",
       "    var titlebar = this.root.find($('.ui-dialog-titlebar'));\n",
       "    titlebar.prepend(buttongrp);\n",
       "}\n",
       "\n",
       "mpl.figure.prototype._root_extra_style = function(el){\n",
       "    var fig = this\n",
       "    el.on(\"remove\", function(){\n",
       "\tfig.close_ws(fig, {});\n",
       "    });\n",
       "}\n",
       "\n",
       "mpl.figure.prototype._canvas_extra_style = function(el){\n",
       "    // this is important to make the div 'focusable\n",
       "    el.attr('tabindex', 0)\n",
       "    // reach out to IPython and tell the keyboard manager to turn it's self\n",
       "    // off when our div gets focus\n",
       "\n",
       "    // location in version 3\n",
       "    if (IPython.notebook.keyboard_manager) {\n",
       "        IPython.notebook.keyboard_manager.register_events(el);\n",
       "    }\n",
       "    else {\n",
       "        // location in version 2\n",
       "        IPython.keyboard_manager.register_events(el);\n",
       "    }\n",
       "\n",
       "}\n",
       "\n",
       "mpl.figure.prototype._key_event_extra = function(event, name) {\n",
       "    var manager = IPython.notebook.keyboard_manager;\n",
       "    if (!manager)\n",
       "        manager = IPython.keyboard_manager;\n",
       "\n",
       "    // Check for shift+enter\n",
       "    if (event.shiftKey && event.which == 13) {\n",
       "        this.canvas_div.blur();\n",
       "        event.shiftKey = false;\n",
       "        // Send a \"J\" for go to next cell\n",
       "        event.which = 74;\n",
       "        event.keyCode = 74;\n",
       "        manager.command_mode();\n",
       "        manager.handle_keydown(event);\n",
       "    }\n",
       "}\n",
       "\n",
       "mpl.figure.prototype.handle_save = function(fig, msg) {\n",
       "    fig.ondownload(fig, null);\n",
       "}\n",
       "\n",
       "\n",
       "mpl.find_output_cell = function(html_output) {\n",
       "    // Return the cell and output element which can be found *uniquely* in the notebook.\n",
       "    // Note - this is a bit hacky, but it is done because the \"notebook_saving.Notebook\"\n",
       "    // IPython event is triggered only after the cells have been serialised, which for\n",
       "    // our purposes (turning an active figure into a static one), is too late.\n",
       "    var cells = IPython.notebook.get_cells();\n",
       "    var ncells = cells.length;\n",
       "    for (var i=0; i<ncells; i++) {\n",
       "        var cell = cells[i];\n",
       "        if (cell.cell_type === 'code'){\n",
       "            for (var j=0; j<cell.output_area.outputs.length; j++) {\n",
       "                var data = cell.output_area.outputs[j];\n",
       "                if (data.data) {\n",
       "                    // IPython >= 3 moved mimebundle to data attribute of output\n",
       "                    data = data.data;\n",
       "                }\n",
       "                if (data['text/html'] == html_output) {\n",
       "                    return [cell, data, j];\n",
       "                }\n",
       "            }\n",
       "        }\n",
       "    }\n",
       "}\n",
       "\n",
       "// Register the function which deals with the matplotlib target/channel.\n",
       "// The kernel may be null if the page has been refreshed.\n",
       "if (IPython.notebook.kernel != null) {\n",
       "    IPython.notebook.kernel.comm_manager.register_target('matplotlib', mpl.mpl_figure_comm);\n",
       "}\n"
      ],
      "text/plain": [
       "<IPython.core.display.Javascript object>"
      ]
     },
     "metadata": {},
     "output_type": "display_data"
    },
    {
     "data": {
      "text/html": [
       "<img src=\"data:image/png;base64,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\">"
      ],
      "text/plain": [
       "<IPython.core.display.HTML object>"
      ]
     },
     "metadata": {},
     "output_type": "display_data"
    }
   ],
   "source": [
    "%matplotlib notebook\n",
    "networkx.draw_networkx(new_graph,arrows=True,\n",
    "                       labels={node:rect_graph.node_descriptions[index] for index, \n",
    "                               node in enumerate(rect_graph.node_names)},node_size=1500,font_size=10)\n"
   ]
  },
  {
   "cell_type": "code",
   "execution_count": 7,
   "metadata": {
    "collapsed": true
   },
   "outputs": [],
   "source": [
    "def html_file_to_pandas(html_file_name):\n",
    "    in_file=open(html_file_name,'r')\n",
    "    pandas_data_frame=pandas.read_html(in_file,header=0)\n",
    "    return pandas_data_frame"
   ]
  },
  {
   "cell_type": "code",
   "execution_count": 33,
   "metadata": {
    "collapsed": false
   },
   "outputs": [],
   "source": [
    "df=pandas.read_csv(\"test.csv\")"
   ]
  },
  {
   "cell_type": "code",
   "execution_count": 26,
   "metadata": {
    "collapsed": false
   },
   "outputs": [
    {
     "data": {
      "text/plain": [
       "Index([u'Frequency', u'argS11', u'magS11', u'uAa', u'uAb', u'uAd', u'uAg',\n",
       "       u'uMa', u'uMb', u'uMd', u'uMg'],\n",
       "      dtype='object')"
      ]
     },
     "execution_count": 26,
     "metadata": {},
     "output_type": "execute_result"
    }
   ],
   "source": [
    "df.columns\n"
   ]
  },
  {
   "cell_type": "code",
   "execution_count": 735,
   "metadata": {
    "collapsed": false
   },
   "outputs": [
    {
     "ename": "AttributeError",
     "evalue": "'list' object has no attribute 'columns'",
     "output_type": "error",
     "traceback": [
      "\u001b[1;31m---------------------------------------------------------------------------\u001b[0m",
      "\u001b[1;31mAttributeError\u001b[0m                            Traceback (most recent call last)",
      "\u001b[1;32m<ipython-input-735-6a4642092433>\u001b[0m in \u001b[0;36m<module>\u001b[1;34m()\u001b[0m\n\u001b[1;32m----> 1\u001b[1;33m \u001b[0mdf\u001b[0m\u001b[1;33m.\u001b[0m\u001b[0mcolumns\u001b[0m\u001b[1;33m\u001b[0m\u001b[0m\n\u001b[0m",
      "\u001b[1;31mAttributeError\u001b[0m: 'list' object has no attribute 'columns'"
     ]
    }
   ],
   "source": [
    "df.columns\n"
   ]
  },
  {
   "cell_type": "code",
   "execution_count": 10,
   "metadata": {
    "collapsed": true
   },
   "outputs": [],
   "source": [
    "import lxml"
   ]
  },
  {
   "cell_type": "code",
   "execution_count": 17,
   "metadata": {
    "collapsed": false
   },
   "outputs": [],
   "source": [
    "import sqlite3\n",
    "connection=sqlite3.connect('test.db')"
   ]
  },
  {
   "cell_type": "code",
   "execution_count": 18,
   "metadata": {
    "collapsed": true
   },
   "outputs": [],
   "source": [
    "cursor=connection.cursor()"
   ]
  },
  {
   "cell_type": "code",
   "execution_count": 21,
   "metadata": {
    "collapsed": false
   },
   "outputs": [],
   "source": [
    "import odo"
   ]
  },
  {
   "cell_type": "code",
   "execution_count": null,
   "metadata": {
    "collapsed": true
   },
   "outputs": [],
   "source": [
    "def DataFrame_to_sqlite(pandas_data_frame,file_name=\"test.db\",table_name=\"data\"):\n",
    "    \"\"\"Transforms a pandas.DataFrame to a table in an sqlite database\"\"\"\n",
    "    connection=sqlite3.connect(file_name)\n",
    "    sql_url=\"sqlite:///{0}::{1}\".format(file_name,table_name)\n",
    "    odo.odo(pandas_data_frame,sql_url)\n",
    "    return sql_url\n",
    "\n",
    "def sqlite_to_DataFrame(sqlite_url):\n",
    "    \"\"\"Creates a pandas.DataFrame from a table in an sqlite database (use sqlite:///file_name::table_name)\"\"\"\n",
    "    pandas_data_frame=odo.odo(sqlite_url,pandas.DataFrame)\n",
    "    return pandas_data_frame"
   ]
  },
  {
   "cell_type": "code",
   "execution_count": 34,
   "metadata": {
    "collapsed": false
   },
   "outputs": [
    {
     "data": {
      "text/plain": [
       "Table('data', MetaData(bind=Engine(sqlite:///test.db)), Column('Frequency', FLOAT(), table=<data>, nullable=False), Column('argS11', FLOAT(), table=<data>, nullable=False), Column('magS11', FLOAT(), table=<data>, nullable=False), Column('uAa', FLOAT(), table=<data>, nullable=False), Column('uAb', FLOAT(), table=<data>, nullable=False), Column('uAd', FLOAT(), table=<data>, nullable=False), Column('uAg', FLOAT(), table=<data>, nullable=False), Column('uMa', FLOAT(), table=<data>, nullable=False), Column('uMb', FLOAT(), table=<data>, nullable=False), Column('uMd', FLOAT(), table=<data>, nullable=False), Column('uMg', FLOAT(), table=<data>, nullable=False), schema=None)"
      ]
     },
     "execution_count": 34,
     "metadata": {},
     "output_type": "execute_result"
    }
   ],
   "source": [
    "odo.odo(df,'sqlite:///test.db::data')"
   ]
  },
  {
   "cell_type": "code",
   "execution_count": 29,
   "metadata": {
    "collapsed": false
   },
   "outputs": [],
   "source": [
    "out=cursor.execute(\"SELECT * FROM data\")"
   ]
  },
  {
   "cell_type": "code",
   "execution_count": 35,
   "metadata": {
    "collapsed": false
   },
   "outputs": [],
   "source": [
    "new_data_frame=odo.odo('sqlite:///test.db::data',pandas.DataFrame)"
   ]
  },
  {
   "cell_type": "code",
   "execution_count": 37,
   "metadata": {
    "collapsed": false
   },
   "outputs": [],
   "source": [
    "ascii=DataFrame_to_AsciiDataTable(new_data_frame)"
   ]
  },
  {
   "cell_type": "code",
   "execution_count": null,
   "metadata": {
    "collapsed": false
   },
   "outputs": [],
   "source": []
  },
  {
   "cell_type": "code",
   "execution_count": null,
   "metadata": {
    "collapsed": true
   },
   "outputs": [],
   "source": []
  }
 ],
 "metadata": {
  "kernelspec": {
   "display_name": "Python 2",
   "language": "python",
   "name": "python2"
  },
  "language_info": {
   "codemirror_mode": {
    "name": "ipython",
    "version": 2
   },
   "file_extension": ".py",
   "mimetype": "text/x-python",
   "name": "python",
   "nbconvert_exporter": "python",
   "pygments_lexer": "ipython2",
   "version": "2.7.12"
  }
 },
 "nbformat": 4,
 "nbformat_minor": 0
}
