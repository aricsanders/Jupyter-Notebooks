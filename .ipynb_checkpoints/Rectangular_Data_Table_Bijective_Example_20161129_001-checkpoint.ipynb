{
 "cells": [
  {
   "cell_type": "markdown",
   "metadata": {},
   "source": [
    "# Example of data translation using a bijective graph\n",
    "The graph method creates a series of interlocking nodes that have transformations between themselves. There are a few basic rules:\n",
    "1. Any node has an edge into and out of itself\n",
    "2. Any path that results in the same end location creates the same node \n",
    "\n",
    "## This example is one of a rectangular table, a set of column modeled data. \n",
    "### This graph has the folowing nodes, and hence transformations between all of them\n",
    "1. n1, 'Pandas Data Frame', in memory \n",
    "2. n2, 'AsciiDataTable', in memory\n",
    "3. n3, 'HDF File', on disk\n",
    "4. n4, 'XML Data Table',in memory\n",
    "5. n5, 'Excel File', on disk\n",
    "6. n6, 'HTML String',in memory\n",
    "7. n7, 'JSON File', on disk\n",
    "8. n8, 'JSON String',in memory\n",
    "9. n9,'CSV File', on disk\n",
    "10. n10, 'Matlab File', on disk\n",
    "11. n11, 'XML File', on disk\n",
    "12. n12, 'HTML File ', on disk"
   ]
  },
  {
   "cell_type": "markdown",
   "metadata": {},
   "source": [
    "### Naming of translation functions\n",
    "The naming of functions that translate one data format to another should follow these rules\n",
    "1. When a python class is involved the name should be the class name with the same structure\n",
    "2. When an on disk format is chosen it should be all lower case with underscores\n",
    "3. Names should be type_1_to_type_2()\n",
    "4. File names should have a parameter that can be passed\n",
    "\n",
    "Example:\n",
    ">> DataFrame_to_AsciiDataTable\n",
    "\n"
   ]
  },
  {
   "cell_type": "code",
   "execution_count": 3,
   "metadata": {
    "collapsed": false
   },
   "outputs": [
    {
     "name": "stdout",
     "output_type": "stream",
     "text": [
      "Importing Code.Utils.Names\n",
      "Importing Code.DataHandlers.NISTModels\n",
      "Importing Code.DataHandlers.GeneralModels\n",
      "Importing Code.DataHandlers.TouchstoneModels\n",
      "Importing Code.DataHandlers.XMLModels\n",
      "Importing Code.DataHandlers.RadiCALModels\n",
      "Importing Code.DataHandlers.ZipModels\n",
      "Importing Code.DataHandlers.Translations\n",
      "Importing Code.DataHandlers.StatistiCALModels\n",
      "Importing Code.DataHandlers.MUFModels\n",
      "Importing Code.Analysis.SParameter\n",
      "Importing Code.InstrumentControl.Instruments\n",
      "Importing Code.InstrumentControl.Experiments\n"
     ]
    }
   ],
   "source": [
    "from pyMeasure import *\n",
    "import pandas\n",
    "from scipy.io import savemat,loadmat\n",
    "import re\n",
    "import datetime\n",
    "import numpy as np\n",
    "from ipywidgets import *\n",
    "import json\n",
    "import networkx"
   ]
  },
  {
   "cell_type": "code",
   "execution_count": null,
   "metadata": {
    "collapsed": true
   },
   "outputs": [],
   "source": []
  },
  {
   "cell_type": "code",
   "execution_count": 95,
   "metadata": {
    "collapsed": false
   },
   "outputs": [],
   "source": [
    "def remove_circular_paths(path):\n",
    "    \"\"\"Removes pieces of the path that just end on the same node\"\"\"\n",
    "    edge_pattern=re.compile(\"edge_(?P<begin_node>\\w+)_(?P<end_node>\\w+)_(?P<iterator>\\w+)\")\n",
    "    past_locations=[]\n",
    "    \n",
    "    for index,edge in enumerate(path):\n",
    "        match=re.match(edge_pattern,edge)\n",
    "        begin_node=match.groupdict()[\"begin_node\"]\n",
    "        end_node=match.groupdict()[\"end_node\"]\n",
    "        past_locations.append(begin_node)\n",
    "        #print(\"{0} is {1}\".format(\"past_locations\",past_locations))\n",
    "    new_path=[]\n",
    "    node_index=0\n",
    "    between_list=[False for item in past_locations]\n",
    "    while(node_index<len(past_locations)):\n",
    "        node=past_locations[node_index]\n",
    "        old_path=new_path\n",
    "        new_path=[]\n",
    "        \n",
    "        if past_locations.count(node)>1:\n",
    "            equality_list=map(lambda x:x==node,past_locations)\n",
    "            between=False\n",
    "            for index,equality in enumerate(equality_list):\n",
    "                if equality:\n",
    "                    between=not between\n",
    "                    between_list[index]=between or between_list[index]\n",
    "                else:\n",
    "                    between_list[index]=between or between_list[index] \n",
    "        #print(\"{0} is {1}\".format(\"between_list\",between_list))\n",
    "        for index,item in enumerate(between_list):\n",
    "            if not item:\n",
    "                new_path.append(path[index])\n",
    "        node_index+=1\n",
    "\n",
    "    if new_path in [[]]:\n",
    "        new_path=path\n",
    "                    \n",
    "    return new_path\n",
    "\n",
    "def edge_1_to_2(in_string):\n",
    "    return in_string.splitlines()\n",
    "    \n",
    "def edge_2_to_1(string_list):\n",
    "    return string_list_collapse(string_list)\n",
    "\n",
    "class Graph():\n",
    "    def __init__(self,**options):\n",
    "        \"\"\"Initializes the graph. The first 2 nodes and two edges forming a bijection between them are required\"\"\"\n",
    "        defaults={\"graph_name\":\"Graph\",\n",
    "                  \"node_names\":['n1','n2'],\n",
    "                  \"node_descriptions\":[\"A plain string\",\n",
    "                                       \"A list of strings with no \\\\n, created with string.splitlines()\"],\n",
    "                  \"current_node\":'n1',\n",
    "                  \"state\":[1,0],\n",
    "                  \"data\":\"This is a test string\\n it has to have multiple lines \\n and many characters 34%6\\n^\",\n",
    "                  \"edge_2_to_1\":edge_2_to_1,\n",
    "                  \"edge_1_to_2\":edge_1_to_2\n",
    "                 }\n",
    "        self.options={}\n",
    "        for key,value in defaults.iteritems():\n",
    "            self.options[key]=value\n",
    "        for key,value in options.iteritems():\n",
    "            self.options[key]=value\n",
    "        self.elements=['graph_name','node_names','node_descriptions','current_node','state','data']\n",
    "        for element in self.elements:\n",
    "            self.__dict__[element]=self.options[element]\n",
    "        self.edges=[]\n",
    "        self.edge_matrices=[]\n",
    "        self.state_matrix=np.matrix(self.state).T\n",
    "        # Add the first 2 edges, required to intialize the graph properly\n",
    "        self.add_edge(self.node_names[0],self.node_names[1],self.options[\"edge_1_to_2\"])\n",
    "        self.add_edge(self.node_names[1],self.node_names[0],self.options[\"edge_2_to_1\"])\n",
    "        self.jumps=[]\n",
    "        self.external_node_names=[]\n",
    "        self.external_node_descriptions=[]\n",
    "\n",
    "    def get_description_dictionary(self):\n",
    "        dictionary={node_name:self.node_descriptions[index] for index,node_name in enumerate(self.node_names)}\n",
    "        return dictionary\n",
    "    \n",
    "    def set_state(self,node_name,node_data):\n",
    "        \"\"\"Sets the graph state to be the state specified by node_name, and node_data\"\"\"\n",
    "        try:\n",
    "            current_node_state_position=self.node_names.index(node_name)\n",
    "            self.current_node=node_name\n",
    "            self.data=node_data\n",
    "            self.state=[0 for i in range(len(self.node_names))]\n",
    "            self.state[current_node_state_position]=1\n",
    "            self.state_matrix=np.matrix(self.state).T\n",
    "        except:\n",
    "            print(\"Could not set the state of graph: {0}\".format(self.graph_name))\n",
    "            raise\n",
    "            \n",
    "    def add_edge(self,begin_node=None,end_node=None,edge_function=None):\n",
    "        \"\"\"Adds an edge mapping one node to another, required input is begin_node (it's name)\n",
    "        end_node, and the edge function\"\"\"\n",
    "        # check to see if edge is defined if it is increment a number\n",
    "        edge_match=re.compile(\"edge_{0}_{1}\".format(begin_node,end_node))\n",
    "        keys=self.__dict__.keys()\n",
    "        #print keys\n",
    "        iterator=0\n",
    "        for key in keys:\n",
    "            if re.match(edge_match,key):\n",
    "                iterator+=1\n",
    "        edge_name=\"edge_{0}_{1}_{2:0>3d}\".format(begin_node,end_node,iterator)\n",
    "        self.__dict__[edge_name]=edge_function\n",
    "        self.edges.append(edge_name)\n",
    "        edge_matrix=np.zeros((len(self.state),len(self.state)))\n",
    "        begin_position=self.node_names.index(begin_node)\n",
    "        end_position=self.node_names.index(end_node)\n",
    "        edge_matrix[end_position][begin_position]=1\n",
    "        edge_matrix=np.matrix(edge_matrix)\n",
    "        self.edge_matrices.append(edge_matrix)\n",
    "        \n",
    "    def add_jump(self,begin_node=None,end_node=None,jump_function=None):\n",
    "        \"\"\"Adds a jump mapping one internal node to an external node, required input is begin_node (it's name)\n",
    "        end_node, and the edge function\"\"\"\n",
    "        # check to see if edge is defined if it is increment a number\n",
    "        jump_match=re.compile(\"jump_{0}_{1}\".format(begin_node,end_node))\n",
    "        keys=self.__dict__.keys()\n",
    "        #print keys\n",
    "        iterator=0\n",
    "        for key in keys:\n",
    "            if re.match(jump_match,key):\n",
    "                iterator+=1\n",
    "        jump_name=\"jump_{0}_{1}_{2:0>3d}\".format(begin_node,end_node,iterator)\n",
    "        self.__dict__[jump_name]=jump_function\n",
    "        self.jumps.append(jump_name)\n",
    "\n",
    "        \n",
    "    def move_to(self,path):\n",
    "        \"\"\"Changes the state of the graph by moving along the path specified\"\"\"\n",
    "        print path\n",
    "        for index,edge in enumerate(path):\n",
    "            #print edge\n",
    "            edge_pattern='edge_(?P<begin_node>\\w+)_(?P<end_node>\\w+)_(?P<iterator>\\w+)'\n",
    "            match=re.match(edge_pattern,edge)\n",
    "            begin_node=match.groupdict()['begin_node']\n",
    "            end_node=match.groupdict()['end_node']\n",
    "            print(\"moving {0} -> {1}\".format(begin_node,end_node))\n",
    "            #print self.data\n",
    "            self.data=self.__dict__[edge](self.data)\n",
    "            #print self.data\n",
    "            self.current_node=match.groupdict()['end_node']\n",
    "            self.state=[0 for i in range(len(self.node_names))]\n",
    "            position=self.node_names.index(self.current_node)\n",
    "            self.state[position]=1\n",
    "            self.state_matrix=np.matrix(self.state).T\n",
    "            #print self.state\n",
    "            #print self.current_node\n",
    "            \n",
    "    def virtual_move_to(self,path):\n",
    "        \"\"\"virtual_move_to simulates moving but does not change the state of the graph\"\"\"\n",
    "        #print path\n",
    "        temp_state=self.state\n",
    "        temp_data=self.data\n",
    "        temp_current_node=self.current_node\n",
    "        temp_node_names=self.node_names\n",
    "        for index,edge in enumerate(path):\n",
    "            #print edge\n",
    "            edge_pattern='edge_(?P<begin_node>\\w+)_(?P<end_node>\\w+)_(?P<iterator>\\w+)'\n",
    "            match=re.match(edge_pattern,edge)\n",
    "            begin_node=match.groupdict()['begin_node']\n",
    "            end_node=match.groupdict()['end_node']\n",
    "            #print(\"moving {0} -> {1}\".format(begin_node,end_node))\n",
    "            #print self.data\n",
    "            temp_data=self.__dict__[edge](temp_data)\n",
    "            #print self.data\n",
    "            temp_current_node=match.groupdict()['end_node']\n",
    "            temp_state=[0 for i in range(len(temp_node_names))]\n",
    "            position=temp_node_names.index(temp_current_node)\n",
    "            temp_state[position]=1\n",
    "            #print temp_state\n",
    "            #print self.state\n",
    "            #print self.current_node  \n",
    "            \n",
    "    def __str__(self):\n",
    "        return str(self.data)\n",
    "    \n",
    "    def add_node(self,node_name,edge_into_node_begin,edge_into_node_function,edge_out_node_end,\n",
    "                 edge_out_node_function):\n",
    "        \"\"\"Adds a node to the graph. Required input is node_name (a string with no spaces), \n",
    "        a reference to an entering node,the function mapping the entering node to the new node, \n",
    "        a reference to an exiting node and the function mapping the\n",
    "        new node to the exiting node.\"\"\"\n",
    "        # first check if node into and out of node is good\n",
    "        self.node_names.append(node_name)\n",
    "        self.state.append(0)\n",
    "        self.state_matrix=np.matrix(self.state).T\n",
    "        for index,matrix in enumerate(self.edge_matrices):\n",
    "            pad_row=np.zeros((1,len(matrix)))\n",
    "            new_matrix=np.concatenate((matrix, pad_row), axis=0)\n",
    "            pad_column=np.zeros((1,len(self.node_names)))\n",
    "            new_matrix=np.concatenate((new_matrix, pad_column.T), axis=1)\n",
    "            #print(\"New matrix is :\\n{0}\".format(new_matrix))\n",
    "            self.edge_matrices[index]=new_matrix\n",
    "        self.add_edge(begin_node=node_name,end_node=edge_out_node_end,edge_function=edge_out_node_function)\n",
    "        self.add_edge(begin_node=edge_into_node_begin,end_node=node_name,edge_function=edge_into_node_function)\n",
    "        \n",
    "    def add_external_node(self,external_node_name,jump_into_node_begin,jump_into_node_function):\n",
    "        \"\"\"Adds an external node to the graph. Required input is node_name (a string with no spaces), \n",
    "        a reference to an entering node,the function mapping the entering node to the new external node\"\"\"\n",
    "        # first check if node into and out of node is good\n",
    "        self.external_node_names.append(external_node_name)\n",
    "        self.add_jump(begin_node=jump_into_node_begin,end_node=external_node_name,jump_function=jump_into_node_function)\n",
    "    \n",
    "    def jump_to_external_node(self,external_node_name):\n",
    "        \"\"\"Returns the result of the jump, the graph is left in the node that is the begining of the jump\"\"\"\n",
    "        end_node=external_node_name\n",
    "        jump_pattern='jump_(?P<begin_node>\\w+)_{0}_(?P<iterator>\\w+)'.format(end_node)\n",
    "        for jump in self.jumps[:]:\n",
    "            jump_match=re.match(jump_pattern,jump,re.IGNORECASE)\n",
    "            if jump_match:\n",
    "                jump_to_use=jump\n",
    "                begin_node=jump_match.groupdict()[\"begin_node\"]\n",
    "                \n",
    "        self.move_to_node(begin_node)\n",
    "        return self.__dict__[jump_to_use](self.data)\n",
    "        \n",
    "\n",
    "    \n",
    "    def path_length(self,path,num_repeats=10):\n",
    "        \"\"\"Determines the length of a given path, currently the metric is based on the time to move to.\"\"\"\n",
    "        begin_time=datetime.datetime.now()\n",
    "        #num_repeats=100\n",
    "        for i in range(num_repeats):\n",
    "            self.virtual_move_to(path)\n",
    "        end_time=datetime.datetime.now()\n",
    "        delta_t=end_time-begin_time\n",
    "        path_length=delta_t.total_seconds()/float(num_repeats)\n",
    "        if path_length ==0.0:\n",
    "            print(\"Warning the path length is less than 1 microsecond,\" \n",
    "                  \"make sure num_repeats is high enough to measure it.\")\n",
    "        return path_length\n",
    "                \n",
    "    def is_path_valid(self,path):\n",
    "        \"\"\"Returns True if the path is valid from the current node position or False otherwise\"\"\"\n",
    "        null_state=[0 for i in range(len(self.node_names))]\n",
    "        null_state_matrix=np.matrix(null_state).T\n",
    "        new_state=np.matrix(self.state).T\n",
    "        for index,edge in enumerate(path):\n",
    "            #print index\n",
    "            #print edge\n",
    "            edge_position=self.edges.index(edge)\n",
    "            move_matrix=self.edge_matrices[edge_position]\n",
    "            #print move_matrix\n",
    "            new_state=move_matrix*new_state\n",
    "            if new_state.any()==null_state_matrix.any():\n",
    "                #print new_state\n",
    "                #print null_state_matrix\n",
    "                return False\n",
    "        return True\n",
    "            \n",
    "            \n",
    "    def get_entering_nodes(self,node): \n",
    "        \"\"\"Returns all nodes that have an edge that enter the specificed node\"\"\"\n",
    "        enter_edge_pattern=re.compile('edge_(?P<begin_node>\\w+)_{0}_(?P<iterator>\\w+)'.format(node))\n",
    "        enter_nodes=[]\n",
    "        for index,edge in enumerate(self.edges):\n",
    "            enter_match=re.match(enter_edge_pattern,edge)\n",
    "            if enter_match:\n",
    "                enter_node=enter_match.groupdict()['begin_node']\n",
    "                enter_nodes.append(enter_node)\n",
    "        return enter_nodes\n",
    "    \n",
    "    def get_entering_edges(self,node): \n",
    "        \"\"\"Returns all edges that enter the specificed node\"\"\"\n",
    "        enter_edge_pattern=re.compile('edge_(?P<begin_node>\\w+)_{0}_(?P<iterator>\\w+)'.format(node))\n",
    "        enter_edges=[]\n",
    "        for index,edge in enumerate(self.edges):\n",
    "            if re.match(enter_edge_pattern,edge):\n",
    "                enter_edges.append(edge)\n",
    "        return enter_edges\n",
    "    \n",
    "    def get_exiting_edges(self,node):\n",
    "        \"\"\"Returns all edges that exit the specificed node\"\"\"\n",
    "        exit_edge_pattern=re.compile('edge_{0}_(?P<end_node>\\w+)_(?P<iterator>\\w+)'.format(node))\n",
    "        exit_edges=[]\n",
    "        for index,edge in enumerate(self.edges):\n",
    "            if re.match(exit_edge_pattern,edge):\n",
    "                exit_edges.append(edge)\n",
    "        return exit_edges \n",
    "    \n",
    "    def get_exiting_nodes(self,node): \n",
    "        \"\"\"Returns all nodes that have an edge leaving the specificed node\"\"\"\n",
    "        exit_edge_pattern=re.compile('edge_{0}_(?P<end_node>\\w+)_(?P<iterator>\\w+)'.format(node))\n",
    "        exit_nodes=[]\n",
    "        for index,edge in enumerate(self.edges):\n",
    "            exit_match=re.match(exit_edge_pattern,edge)\n",
    "            if exit_match:\n",
    "                exit_node=exit_match.groupdict()['end_node']\n",
    "                exit_nodes.append(exit_node)\n",
    "        return exit_nodes\n",
    "    \n",
    "    def get_path(self,first_node,last_node):\n",
    "        \"\"\"Returns the first path found between first node and last node, three step paths are broken\"\"\"\n",
    "        #TODO: Remove Circular Paths\n",
    "        edge_pattern=re.compile('edge_(?P<begin_node>\\w+)_(?P<end_node>\\w+)_(?P<iterator>\\w+)')\n",
    "        exit_paths=self.get_exiting_edges(first_node)\n",
    "        next_nodes=self.get_exiting_nodes(first_node)\n",
    "        #be careful here using the wrong assignment statement breaks this function \n",
    "        possible_paths=[]\n",
    "        for exit_path in exit_paths:\n",
    "            possible_paths.append([exit_path])\n",
    "        #print(\"{0} is {1}\".format('possible_paths',possible_paths))\n",
    "        for i in range(len(self.node_names)):\n",
    "            #print(\"{0} is {1}\".format('i',i))\n",
    "            #print(\"{0} is {1}\".format('possible_paths',possible_paths))\n",
    "            for index,path in enumerate(possible_paths):\n",
    "                #print(\"{0} is {1}\".format('index',index))\n",
    "                last_edge=path[-1]\n",
    "                #print(\"{0} is {1}\".format('last_edge',last_edge))\n",
    "                match=re.match(edge_pattern,last_edge)\n",
    "                begin_node=match.groupdict()['begin_node']\n",
    "                end_node=match.groupdict()['end_node']\n",
    "                #print(\"{0} is {1}\".format('end_node',end_node))\n",
    "                if end_node==last_node:\n",
    "                    #print(\"The path found is {0}\".format(path))\n",
    "                    return remove_circular_paths(path)\n",
    "                next_possible_paths=[]\n",
    "                next_edges=self.get_exiting_edges(end_node)\n",
    "                next_nodes=self.get_exiting_nodes(end_node)\n",
    "                #print(\"{0} is {1}\".format('next_edges',next_edges))\n",
    "                for next_edge_index,next_edge in enumerate(next_edges):\n",
    "                    #print(\"{0} is {1}\".format('next_edge_index',next_edge_index))\n",
    "                    #be careful here using the wrong assignment statement breaks this function \n",
    "                    #next_path=path is a deal breaker!! \n",
    "                    next_path=[]\n",
    "                    for edge in path:\n",
    "                        next_path.append(edge)\n",
    "                    #print(\"{0} is {1}\".format('next_path',next_path))\n",
    "                    #print(\"{0} is {1}\".format('next_edge',next_edge))\n",
    "                    #next_node=next_nodes[index]\n",
    "                    #print next_node\n",
    "                    next_match=re.match(edge_pattern,next_edge)\n",
    "                    next_node=next_match.groupdict()[\"end_node\"]\n",
    "                    begin_node_next_edge=next_match.groupdict()[\"begin_node\"]\n",
    "                    #print(\"{0} is {1}\".format('next_node',next_node))\n",
    "                    #print(\"{0} is {1}\".format('begin_node_next_edge',begin_node_next_edge))\n",
    "                    if next_node==last_node and begin_node_next_edge==end_node:\n",
    "                        next_path.append(next_edge)\n",
    "                        #print(\"The path found is {0}\".format(next_path))\n",
    "                        return next_path\n",
    "                    elif begin_node_next_edge==end_node:\n",
    "                        next_path.append(next_edge)\n",
    "                        # This keeps it from getting stuck on circular paths\n",
    "                        if next_edge in path:\n",
    "                        #ossible_paths=possible_paths\n",
    "                            #print(\"next_edge was already in path\")\n",
    "                            continue\n",
    "                        next_possible_paths.append(next_path)\n",
    "                        \n",
    "                        #print(\"{0} is {1}\".format('next_possible_paths',next_possible_paths))\n",
    "                    else:\n",
    "                        print(\"Path is not found\")\n",
    "                        pass\n",
    "\n",
    "                    #print(\"{0} is {1}\".format('next_possible_paths',next_possible_paths))\n",
    "                if next_possible_paths:\n",
    "                    possible_paths=next_possible_paths\n",
    "                #print(\"{0} is {1}\".format('possible_paths',possible_paths))\n",
    "    \n",
    "    def move_to_node(self,node):\n",
    "        \"\"\"Moves from current_node to the specified node\"\"\"\n",
    "        path=self.get_path(self.current_node,node)\n",
    "        self.move_to(path)\n",
    "            \n",
    "    def check_closed_path(self):\n",
    "        \"\"\"Checks that data is not changed for the first closed path found. Returns True if data==data after\n",
    "        moving around the closed path, False otherwise. Starting point is current_node \"\"\"\n",
    "        temp_data=self.data\n",
    "        path=self.get_path(self.current_node,self.current_node)\n",
    "        if self.is_path_valid(path):\n",
    "            pass\n",
    "        else:\n",
    "            print(\"Path is not valid, graph definition is broken\")\n",
    "            raise\n",
    "        out=temp_data==self.data\n",
    "        out_list=[self.current_node,path,out]\n",
    "        print(\"The assertion that the data remains unchanged,\\n\" \n",
    "              \"for node {0} following path {1} is {2}\".format(*out_list))\n",
    "        return out \n",
    "    \n",
    "    def is_graph_isomorphic(self):\n",
    "        \"\"\"Returns True if all nodes have closed paths that preserve the data, False otherwise\"\"\"\n",
    "        out=True\n",
    "        for node in self.node_names:\n",
    "            self.move_to_node(node)\n",
    "            if not self.check_closed_path:\n",
    "                out=False\n",
    "        return out\n",
    "    \n",
    "    def show(self,**options):\n",
    "        \"\"\"Shows the graph using matplotlib and networkx\"\"\"\n",
    "        # Should be seperated to allow for fixed presentation?\n",
    "        defaults={\"descriptions\":False,\"edge_descriptions\":False,\"save_plot\":False,\n",
    "                 \"path\":None,\"active_node\":True,\"directory\":None,\"specific_descriptor\":self.graph_name.replace(\" \",\"_\"),\n",
    "                  \"general_descriptor\":\"plot\",\"file_name\":None,\n",
    "                 \"arrows\":True,\"node_size\":1000,\"font_size\":10}\n",
    "        show_options={}\n",
    "        for key,value in defaults.iteritems():\n",
    "            show_options[key]=value\n",
    "        for key,value in options.iteritems():\n",
    "            show_options[key]=value\n",
    "        new_graph=networkx.DiGraph()\n",
    "        edge_pattern=re.compile(\"edge_(?P<begin_node>\\w+)_(?P<end_node>\\w+)_(?P<iterator>\\w+)\")\n",
    "        jump_pattern=re.compile(\"jump_(?P<begin_node>\\w+)_(?P<end_node>\\w+)_(?P<iterator>\\w+)\")\n",
    "        for node in self.node_names:\n",
    "            new_graph.add_node(node)\n",
    "        for node in self.external_node_names:\n",
    "            new_graph.add_node(node)\n",
    "        for edge in self.edges:\n",
    "            match=re.match(edge_pattern,edge)\n",
    "            if match:\n",
    "                begin_node=match.groupdict()[\"begin_node\"]\n",
    "                end_node=match.groupdict()[\"end_node\"]\n",
    "                new_graph.add_edge(begin_node,end_node)\n",
    "                #print(\"Begin Node = {0}, End Node= {1}\".format(begin_node,end_node))\n",
    "        #print(\"{0} is {1}\".format('new_graph.nodes()',new_graph.nodes()))\n",
    "        for jump in self.jumps:\n",
    "            match=re.match(jump_pattern,jump)\n",
    "            if match:\n",
    "                begin_node=match.groupdict()[\"begin_node\"]\n",
    "                end_node=match.groupdict()[\"end_node\"]\n",
    "                new_graph.add_edge(begin_node,end_node)\n",
    "                \n",
    "        if show_options[\"active_node\"]:\n",
    "            node_colors=[]\n",
    "            for node in new_graph.nodes():\n",
    "                if node==self.current_node:\n",
    "                    node_colors.append('b')\n",
    "                else:\n",
    "                    if node in self.node_names:\n",
    "                        node_colors.append('r')\n",
    "                    elif node in self.external_node_names:\n",
    "                        node_colors.append('g')\n",
    "        else:\n",
    "            node_colors=['r' for node in self.node_names]+['g' for node in self.node_names]\n",
    "        #print(\"{0} is {1}\".format('node_colors',node_colors))\n",
    "        if show_options[\"descriptions\"]:\n",
    "            node_labels={node:self.node_descriptions[index] for index, \n",
    "                               node in enumerate(self.node_names)}\n",
    "            if self.external_node_names:\n",
    "                for index,node in enumerate(self.external_node_names):\n",
    "                    node_labels[node]=self.external_node_descriptions[index]\n",
    "            networkx.draw_networkx(new_graph,arrows=show_options[\"arrows\"],\n",
    "                       labels=node_labels,node_color=node_colors,\n",
    "                                   node_size=show_options[\"node_size\"],font_size=show_options[\"font_size\"])\n",
    "            #print(\"{0} is {1}\".format('node_labels',node_labels))\n",
    "        else:\n",
    "            networkx.draw_networkx(new_graph,arrows=show_options[\"arrows\"],node_color=node_colors,\n",
    "                                  node_size=show_options[\"node_size\"],font_size=show_options[\"font_size\"])\n",
    "            \n",
    "        plt.suptitle(self.options[\"graph_name\"])\n",
    "        if show_options[\"file_name\"] is None:\n",
    "            file_name=auto_name(specific_descriptor=show_options[\"specific_descriptor\"],\n",
    "                                general_descriptor=show_options[\"general_descriptor\"],\n",
    "                                directory=show_options[\"directory\"],extension='png',padding=3)\n",
    "        else:\n",
    "            file_name=show_options[\"file_name\"]\n",
    "        if show_options[\"save_plot\"]:\n",
    "            #print file_name\n",
    "            if show_options[\"path\"]:\n",
    "                plt.savefig(self.options[\"path\"])\n",
    "            else:\n",
    "                plt.savefig(os.path.join(self.options[\"directory\"],file_name))\n",
    "        else:\n",
    "            plt.show()\n",
    "            \n"
   ]
  },
  {
   "cell_type": "code",
   "execution_count": 96,
   "metadata": {
    "collapsed": false
   },
   "outputs": [
    {
     "name": "stdout",
     "output_type": "stream",
     "text": [
      "The self.metadata[\"Device_Id\"] variable is 700437\n"
     ]
    }
   ],
   "source": [
    "options={}\n",
    "options[\"data\"]=[[1,2,3],[4,5,6]]\n",
    "options[\"column_names\"]=['a','b','c']\n",
    "table=AsciiDataTable(None,**options)\n",
    "table=OnePortCalrepModel(os.path.join(TESTS_DIRECTORY,'700437.asc'))\n",
    "#table=SNP(os.path.join(TESTS_DIRECTORY,'Solution_0.s4p'))\n",
    "data_frame=AsciiDataTable_to_DataFrame(table)"
   ]
  },
  {
   "cell_type": "code",
   "execution_count": 97,
   "metadata": {
    "collapsed": false
   },
   "outputs": [],
   "source": [
    "graph_options={\"graph_name\":\"Rectangular Graph\",\n",
    "                  \"node_names\":['n1','n2'],\n",
    "                  \"node_descriptions\":[\"Pandas Data Frame\",\"AsciiDataTable\"],\n",
    "                  \"current_node\":'n1',\n",
    "                  \"state\":[1,0],\n",
    "                  \"data\":data_frame,\n",
    "                  \"edge_2_to_1\":AsciiDataTable_to_DataFrame,\n",
    "                  \"edge_1_to_2\":DataFrame_to_AsciiDataTable\n",
    "                 }\n",
    "rect_graph=Graph(**graph_options)"
   ]
  },
  {
   "cell_type": "code",
   "execution_count": 98,
   "metadata": {
    "collapsed": false
   },
   "outputs": [
    {
     "data": {
      "application/javascript": [
       "/* Put everything inside the global mpl namespace */\n",
       "window.mpl = {};\n",
       "\n",
       "mpl.get_websocket_type = function() {\n",
       "    if (typeof(WebSocket) !== 'undefined') {\n",
       "        return WebSocket;\n",
       "    } else if (typeof(MozWebSocket) !== 'undefined') {\n",
       "        return MozWebSocket;\n",
       "    } else {\n",
       "        alert('Your browser does not have WebSocket support.' +\n",
       "              'Please try Chrome, Safari or Firefox ≥ 6. ' +\n",
       "              'Firefox 4 and 5 are also supported but you ' +\n",
       "              'have to enable WebSockets in about:config.');\n",
       "    };\n",
       "}\n",
       "\n",
       "mpl.figure = function(figure_id, websocket, ondownload, parent_element) {\n",
       "    this.id = figure_id;\n",
       "\n",
       "    this.ws = websocket;\n",
       "\n",
       "    this.supports_binary = (this.ws.binaryType != undefined);\n",
       "\n",
       "    if (!this.supports_binary) {\n",
       "        var warnings = document.getElementById(\"mpl-warnings\");\n",
       "        if (warnings) {\n",
       "            warnings.style.display = 'block';\n",
       "            warnings.textContent = (\n",
       "                \"This browser does not support binary websocket messages. \" +\n",
       "                    \"Performance may be slow.\");\n",
       "        }\n",
       "    }\n",
       "\n",
       "    this.imageObj = new Image();\n",
       "\n",
       "    this.context = undefined;\n",
       "    this.message = undefined;\n",
       "    this.canvas = undefined;\n",
       "    this.rubberband_canvas = undefined;\n",
       "    this.rubberband_context = undefined;\n",
       "    this.format_dropdown = undefined;\n",
       "\n",
       "    this.image_mode = 'full';\n",
       "\n",
       "    this.root = $('<div/>');\n",
       "    this._root_extra_style(this.root)\n",
       "    this.root.attr('style', 'display: inline-block');\n",
       "\n",
       "    $(parent_element).append(this.root);\n",
       "\n",
       "    this._init_header(this);\n",
       "    this._init_canvas(this);\n",
       "    this._init_toolbar(this);\n",
       "\n",
       "    var fig = this;\n",
       "\n",
       "    this.waiting = false;\n",
       "\n",
       "    this.ws.onopen =  function () {\n",
       "            fig.send_message(\"supports_binary\", {value: fig.supports_binary});\n",
       "            fig.send_message(\"send_image_mode\", {});\n",
       "            fig.send_message(\"refresh\", {});\n",
       "        }\n",
       "\n",
       "    this.imageObj.onload = function() {\n",
       "            if (fig.image_mode == 'full') {\n",
       "                // Full images could contain transparency (where diff images\n",
       "                // almost always do), so we need to clear the canvas so that\n",
       "                // there is no ghosting.\n",
       "                fig.context.clearRect(0, 0, fig.canvas.width, fig.canvas.height);\n",
       "            }\n",
       "            fig.context.drawImage(fig.imageObj, 0, 0);\n",
       "        };\n",
       "\n",
       "    this.imageObj.onunload = function() {\n",
       "        this.ws.close();\n",
       "    }\n",
       "\n",
       "    this.ws.onmessage = this._make_on_message_function(this);\n",
       "\n",
       "    this.ondownload = ondownload;\n",
       "}\n",
       "\n",
       "mpl.figure.prototype._init_header = function() {\n",
       "    var titlebar = $(\n",
       "        '<div class=\"ui-dialog-titlebar ui-widget-header ui-corner-all ' +\n",
       "        'ui-helper-clearfix\"/>');\n",
       "    var titletext = $(\n",
       "        '<div class=\"ui-dialog-title\" style=\"width: 100%; ' +\n",
       "        'text-align: center; padding: 3px;\"/>');\n",
       "    titlebar.append(titletext)\n",
       "    this.root.append(titlebar);\n",
       "    this.header = titletext[0];\n",
       "}\n",
       "\n",
       "\n",
       "\n",
       "mpl.figure.prototype._canvas_extra_style = function(canvas_div) {\n",
       "\n",
       "}\n",
       "\n",
       "\n",
       "mpl.figure.prototype._root_extra_style = function(canvas_div) {\n",
       "\n",
       "}\n",
       "\n",
       "mpl.figure.prototype._init_canvas = function() {\n",
       "    var fig = this;\n",
       "\n",
       "    var canvas_div = $('<div/>');\n",
       "\n",
       "    canvas_div.attr('style', 'position: relative; clear: both; outline: 0');\n",
       "\n",
       "    function canvas_keyboard_event(event) {\n",
       "        return fig.key_event(event, event['data']);\n",
       "    }\n",
       "\n",
       "    canvas_div.keydown('key_press', canvas_keyboard_event);\n",
       "    canvas_div.keyup('key_release', canvas_keyboard_event);\n",
       "    this.canvas_div = canvas_div\n",
       "    this._canvas_extra_style(canvas_div)\n",
       "    this.root.append(canvas_div);\n",
       "\n",
       "    var canvas = $('<canvas/>');\n",
       "    canvas.addClass('mpl-canvas');\n",
       "    canvas.attr('style', \"left: 0; top: 0; z-index: 0; outline: 0\")\n",
       "\n",
       "    this.canvas = canvas[0];\n",
       "    this.context = canvas[0].getContext(\"2d\");\n",
       "\n",
       "    var rubberband = $('<canvas/>');\n",
       "    rubberband.attr('style', \"position: absolute; left: 0; top: 0; z-index: 1;\")\n",
       "\n",
       "    var pass_mouse_events = true;\n",
       "\n",
       "    canvas_div.resizable({\n",
       "        start: function(event, ui) {\n",
       "            pass_mouse_events = false;\n",
       "        },\n",
       "        resize: function(event, ui) {\n",
       "            fig.request_resize(ui.size.width, ui.size.height);\n",
       "        },\n",
       "        stop: function(event, ui) {\n",
       "            pass_mouse_events = true;\n",
       "            fig.request_resize(ui.size.width, ui.size.height);\n",
       "        },\n",
       "    });\n",
       "\n",
       "    function mouse_event_fn(event) {\n",
       "        if (pass_mouse_events)\n",
       "            return fig.mouse_event(event, event['data']);\n",
       "    }\n",
       "\n",
       "    rubberband.mousedown('button_press', mouse_event_fn);\n",
       "    rubberband.mouseup('button_release', mouse_event_fn);\n",
       "    // Throttle sequential mouse events to 1 every 20ms.\n",
       "    rubberband.mousemove('motion_notify', mouse_event_fn);\n",
       "\n",
       "    rubberband.mouseenter('figure_enter', mouse_event_fn);\n",
       "    rubberband.mouseleave('figure_leave', mouse_event_fn);\n",
       "\n",
       "    canvas_div.on(\"wheel\", function (event) {\n",
       "        event = event.originalEvent;\n",
       "        event['data'] = 'scroll'\n",
       "        if (event.deltaY < 0) {\n",
       "            event.step = 1;\n",
       "        } else {\n",
       "            event.step = -1;\n",
       "        }\n",
       "        mouse_event_fn(event);\n",
       "    });\n",
       "\n",
       "    canvas_div.append(canvas);\n",
       "    canvas_div.append(rubberband);\n",
       "\n",
       "    this.rubberband = rubberband;\n",
       "    this.rubberband_canvas = rubberband[0];\n",
       "    this.rubberband_context = rubberband[0].getContext(\"2d\");\n",
       "    this.rubberband_context.strokeStyle = \"#000000\";\n",
       "\n",
       "    this._resize_canvas = function(width, height) {\n",
       "        // Keep the size of the canvas, canvas container, and rubber band\n",
       "        // canvas in synch.\n",
       "        canvas_div.css('width', width)\n",
       "        canvas_div.css('height', height)\n",
       "\n",
       "        canvas.attr('width', width);\n",
       "        canvas.attr('height', height);\n",
       "\n",
       "        rubberband.attr('width', width);\n",
       "        rubberband.attr('height', height);\n",
       "    }\n",
       "\n",
       "    // Set the figure to an initial 600x600px, this will subsequently be updated\n",
       "    // upon first draw.\n",
       "    this._resize_canvas(600, 600);\n",
       "\n",
       "    // Disable right mouse context menu.\n",
       "    $(this.rubberband_canvas).bind(\"contextmenu\",function(e){\n",
       "        return false;\n",
       "    });\n",
       "\n",
       "    function set_focus () {\n",
       "        canvas.focus();\n",
       "        canvas_div.focus();\n",
       "    }\n",
       "\n",
       "    window.setTimeout(set_focus, 100);\n",
       "}\n",
       "\n",
       "mpl.figure.prototype._init_toolbar = function() {\n",
       "    var fig = this;\n",
       "\n",
       "    var nav_element = $('<div/>')\n",
       "    nav_element.attr('style', 'width: 100%');\n",
       "    this.root.append(nav_element);\n",
       "\n",
       "    // Define a callback function for later on.\n",
       "    function toolbar_event(event) {\n",
       "        return fig.toolbar_button_onclick(event['data']);\n",
       "    }\n",
       "    function toolbar_mouse_event(event) {\n",
       "        return fig.toolbar_button_onmouseover(event['data']);\n",
       "    }\n",
       "\n",
       "    for(var toolbar_ind in mpl.toolbar_items) {\n",
       "        var name = mpl.toolbar_items[toolbar_ind][0];\n",
       "        var tooltip = mpl.toolbar_items[toolbar_ind][1];\n",
       "        var image = mpl.toolbar_items[toolbar_ind][2];\n",
       "        var method_name = mpl.toolbar_items[toolbar_ind][3];\n",
       "\n",
       "        if (!name) {\n",
       "            // put a spacer in here.\n",
       "            continue;\n",
       "        }\n",
       "        var button = $('<button/>');\n",
       "        button.addClass('ui-button ui-widget ui-state-default ui-corner-all ' +\n",
       "                        'ui-button-icon-only');\n",
       "        button.attr('role', 'button');\n",
       "        button.attr('aria-disabled', 'false');\n",
       "        button.click(method_name, toolbar_event);\n",
       "        button.mouseover(tooltip, toolbar_mouse_event);\n",
       "\n",
       "        var icon_img = $('<span/>');\n",
       "        icon_img.addClass('ui-button-icon-primary ui-icon');\n",
       "        icon_img.addClass(image);\n",
       "        icon_img.addClass('ui-corner-all');\n",
       "\n",
       "        var tooltip_span = $('<span/>');\n",
       "        tooltip_span.addClass('ui-button-text');\n",
       "        tooltip_span.html(tooltip);\n",
       "\n",
       "        button.append(icon_img);\n",
       "        button.append(tooltip_span);\n",
       "\n",
       "        nav_element.append(button);\n",
       "    }\n",
       "\n",
       "    var fmt_picker_span = $('<span/>');\n",
       "\n",
       "    var fmt_picker = $('<select/>');\n",
       "    fmt_picker.addClass('mpl-toolbar-option ui-widget ui-widget-content');\n",
       "    fmt_picker_span.append(fmt_picker);\n",
       "    nav_element.append(fmt_picker_span);\n",
       "    this.format_dropdown = fmt_picker[0];\n",
       "\n",
       "    for (var ind in mpl.extensions) {\n",
       "        var fmt = mpl.extensions[ind];\n",
       "        var option = $(\n",
       "            '<option/>', {selected: fmt === mpl.default_extension}).html(fmt);\n",
       "        fmt_picker.append(option)\n",
       "    }\n",
       "\n",
       "    // Add hover states to the ui-buttons\n",
       "    $( \".ui-button\" ).hover(\n",
       "        function() { $(this).addClass(\"ui-state-hover\");},\n",
       "        function() { $(this).removeClass(\"ui-state-hover\");}\n",
       "    );\n",
       "\n",
       "    var status_bar = $('<span class=\"mpl-message\"/>');\n",
       "    nav_element.append(status_bar);\n",
       "    this.message = status_bar[0];\n",
       "}\n",
       "\n",
       "mpl.figure.prototype.request_resize = function(x_pixels, y_pixels) {\n",
       "    // Request matplotlib to resize the figure. Matplotlib will then trigger a resize in the client,\n",
       "    // which will in turn request a refresh of the image.\n",
       "    this.send_message('resize', {'width': x_pixels, 'height': y_pixels});\n",
       "}\n",
       "\n",
       "mpl.figure.prototype.send_message = function(type, properties) {\n",
       "    properties['type'] = type;\n",
       "    properties['figure_id'] = this.id;\n",
       "    this.ws.send(JSON.stringify(properties));\n",
       "}\n",
       "\n",
       "mpl.figure.prototype.send_draw_message = function() {\n",
       "    if (!this.waiting) {\n",
       "        this.waiting = true;\n",
       "        this.ws.send(JSON.stringify({type: \"draw\", figure_id: this.id}));\n",
       "    }\n",
       "}\n",
       "\n",
       "\n",
       "mpl.figure.prototype.handle_save = function(fig, msg) {\n",
       "    var format_dropdown = fig.format_dropdown;\n",
       "    var format = format_dropdown.options[format_dropdown.selectedIndex].value;\n",
       "    fig.ondownload(fig, format);\n",
       "}\n",
       "\n",
       "\n",
       "mpl.figure.prototype.handle_resize = function(fig, msg) {\n",
       "    var size = msg['size'];\n",
       "    if (size[0] != fig.canvas.width || size[1] != fig.canvas.height) {\n",
       "        fig._resize_canvas(size[0], size[1]);\n",
       "        fig.send_message(\"refresh\", {});\n",
       "    };\n",
       "}\n",
       "\n",
       "mpl.figure.prototype.handle_rubberband = function(fig, msg) {\n",
       "    var x0 = msg['x0'];\n",
       "    var y0 = fig.canvas.height - msg['y0'];\n",
       "    var x1 = msg['x1'];\n",
       "    var y1 = fig.canvas.height - msg['y1'];\n",
       "    x0 = Math.floor(x0) + 0.5;\n",
       "    y0 = Math.floor(y0) + 0.5;\n",
       "    x1 = Math.floor(x1) + 0.5;\n",
       "    y1 = Math.floor(y1) + 0.5;\n",
       "    var min_x = Math.min(x0, x1);\n",
       "    var min_y = Math.min(y0, y1);\n",
       "    var width = Math.abs(x1 - x0);\n",
       "    var height = Math.abs(y1 - y0);\n",
       "\n",
       "    fig.rubberband_context.clearRect(\n",
       "        0, 0, fig.canvas.width, fig.canvas.height);\n",
       "\n",
       "    fig.rubberband_context.strokeRect(min_x, min_y, width, height);\n",
       "}\n",
       "\n",
       "mpl.figure.prototype.handle_figure_label = function(fig, msg) {\n",
       "    // Updates the figure title.\n",
       "    fig.header.textContent = msg['label'];\n",
       "}\n",
       "\n",
       "mpl.figure.prototype.handle_cursor = function(fig, msg) {\n",
       "    var cursor = msg['cursor'];\n",
       "    switch(cursor)\n",
       "    {\n",
       "    case 0:\n",
       "        cursor = 'pointer';\n",
       "        break;\n",
       "    case 1:\n",
       "        cursor = 'default';\n",
       "        break;\n",
       "    case 2:\n",
       "        cursor = 'crosshair';\n",
       "        break;\n",
       "    case 3:\n",
       "        cursor = 'move';\n",
       "        break;\n",
       "    }\n",
       "    fig.rubberband_canvas.style.cursor = cursor;\n",
       "}\n",
       "\n",
       "mpl.figure.prototype.handle_message = function(fig, msg) {\n",
       "    fig.message.textContent = msg['message'];\n",
       "}\n",
       "\n",
       "mpl.figure.prototype.handle_draw = function(fig, msg) {\n",
       "    // Request the server to send over a new figure.\n",
       "    fig.send_draw_message();\n",
       "}\n",
       "\n",
       "mpl.figure.prototype.handle_image_mode = function(fig, msg) {\n",
       "    fig.image_mode = msg['mode'];\n",
       "}\n",
       "\n",
       "mpl.figure.prototype.updated_canvas_event = function() {\n",
       "    // Called whenever the canvas gets updated.\n",
       "    this.send_message(\"ack\", {});\n",
       "}\n",
       "\n",
       "// A function to construct a web socket function for onmessage handling.\n",
       "// Called in the figure constructor.\n",
       "mpl.figure.prototype._make_on_message_function = function(fig) {\n",
       "    return function socket_on_message(evt) {\n",
       "        if (evt.data instanceof Blob) {\n",
       "            /* FIXME: We get \"Resource interpreted as Image but\n",
       "             * transferred with MIME type text/plain:\" errors on\n",
       "             * Chrome.  But how to set the MIME type?  It doesn't seem\n",
       "             * to be part of the websocket stream */\n",
       "            evt.data.type = \"image/png\";\n",
       "\n",
       "            /* Free the memory for the previous frames */\n",
       "            if (fig.imageObj.src) {\n",
       "                (window.URL || window.webkitURL).revokeObjectURL(\n",
       "                    fig.imageObj.src);\n",
       "            }\n",
       "\n",
       "            fig.imageObj.src = (window.URL || window.webkitURL).createObjectURL(\n",
       "                evt.data);\n",
       "            fig.updated_canvas_event();\n",
       "            fig.waiting = false;\n",
       "            return;\n",
       "        }\n",
       "        else if (typeof evt.data === 'string' && evt.data.slice(0, 21) == \"data:image/png;base64\") {\n",
       "            fig.imageObj.src = evt.data;\n",
       "            fig.updated_canvas_event();\n",
       "            fig.waiting = false;\n",
       "            return;\n",
       "        }\n",
       "\n",
       "        var msg = JSON.parse(evt.data);\n",
       "        var msg_type = msg['type'];\n",
       "\n",
       "        // Call the  \"handle_{type}\" callback, which takes\n",
       "        // the figure and JSON message as its only arguments.\n",
       "        try {\n",
       "            var callback = fig[\"handle_\" + msg_type];\n",
       "        } catch (e) {\n",
       "            console.log(\"No handler for the '\" + msg_type + \"' message type: \", msg);\n",
       "            return;\n",
       "        }\n",
       "\n",
       "        if (callback) {\n",
       "            try {\n",
       "                // console.log(\"Handling '\" + msg_type + \"' message: \", msg);\n",
       "                callback(fig, msg);\n",
       "            } catch (e) {\n",
       "                console.log(\"Exception inside the 'handler_\" + msg_type + \"' callback:\", e, e.stack, msg);\n",
       "            }\n",
       "        }\n",
       "    };\n",
       "}\n",
       "\n",
       "// from http://stackoverflow.com/questions/1114465/getting-mouse-location-in-canvas\n",
       "mpl.findpos = function(e) {\n",
       "    //this section is from http://www.quirksmode.org/js/events_properties.html\n",
       "    var targ;\n",
       "    if (!e)\n",
       "        e = window.event;\n",
       "    if (e.target)\n",
       "        targ = e.target;\n",
       "    else if (e.srcElement)\n",
       "        targ = e.srcElement;\n",
       "    if (targ.nodeType == 3) // defeat Safari bug\n",
       "        targ = targ.parentNode;\n",
       "\n",
       "    // jQuery normalizes the pageX and pageY\n",
       "    // pageX,Y are the mouse positions relative to the document\n",
       "    // offset() returns the position of the element relative to the document\n",
       "    var x = e.pageX - $(targ).offset().left;\n",
       "    var y = e.pageY - $(targ).offset().top;\n",
       "\n",
       "    return {\"x\": x, \"y\": y};\n",
       "};\n",
       "\n",
       "/*\n",
       " * return a copy of an object with only non-object keys\n",
       " * we need this to avoid circular references\n",
       " * http://stackoverflow.com/a/24161582/3208463\n",
       " */\n",
       "function simpleKeys (original) {\n",
       "  return Object.keys(original).reduce(function (obj, key) {\n",
       "    if (typeof original[key] !== 'object')\n",
       "        obj[key] = original[key]\n",
       "    return obj;\n",
       "  }, {});\n",
       "}\n",
       "\n",
       "mpl.figure.prototype.mouse_event = function(event, name) {\n",
       "    var canvas_pos = mpl.findpos(event)\n",
       "\n",
       "    if (name === 'button_press')\n",
       "    {\n",
       "        this.canvas.focus();\n",
       "        this.canvas_div.focus();\n",
       "    }\n",
       "\n",
       "    var x = canvas_pos.x;\n",
       "    var y = canvas_pos.y;\n",
       "\n",
       "    this.send_message(name, {x: x, y: y, button: event.button,\n",
       "                             step: event.step,\n",
       "                             guiEvent: simpleKeys(event)});\n",
       "\n",
       "    /* This prevents the web browser from automatically changing to\n",
       "     * the text insertion cursor when the button is pressed.  We want\n",
       "     * to control all of the cursor setting manually through the\n",
       "     * 'cursor' event from matplotlib */\n",
       "    event.preventDefault();\n",
       "    return false;\n",
       "}\n",
       "\n",
       "mpl.figure.prototype._key_event_extra = function(event, name) {\n",
       "    // Handle any extra behaviour associated with a key event\n",
       "}\n",
       "\n",
       "mpl.figure.prototype.key_event = function(event, name) {\n",
       "\n",
       "    // Prevent repeat events\n",
       "    if (name == 'key_press')\n",
       "    {\n",
       "        if (event.which === this._key)\n",
       "            return;\n",
       "        else\n",
       "            this._key = event.which;\n",
       "    }\n",
       "    if (name == 'key_release')\n",
       "        this._key = null;\n",
       "\n",
       "    var value = '';\n",
       "    if (event.ctrlKey && event.which != 17)\n",
       "        value += \"ctrl+\";\n",
       "    if (event.altKey && event.which != 18)\n",
       "        value += \"alt+\";\n",
       "    if (event.shiftKey && event.which != 16)\n",
       "        value += \"shift+\";\n",
       "\n",
       "    value += 'k';\n",
       "    value += event.which.toString();\n",
       "\n",
       "    this._key_event_extra(event, name);\n",
       "\n",
       "    this.send_message(name, {key: value,\n",
       "                             guiEvent: simpleKeys(event)});\n",
       "    return false;\n",
       "}\n",
       "\n",
       "mpl.figure.prototype.toolbar_button_onclick = function(name) {\n",
       "    if (name == 'download') {\n",
       "        this.handle_save(this, null);\n",
       "    } else {\n",
       "        this.send_message(\"toolbar_button\", {name: name});\n",
       "    }\n",
       "};\n",
       "\n",
       "mpl.figure.prototype.toolbar_button_onmouseover = function(tooltip) {\n",
       "    this.message.textContent = tooltip;\n",
       "};\n",
       "mpl.toolbar_items = [[\"Home\", \"Reset original view\", \"fa fa-home icon-home\", \"home\"], [\"Back\", \"Back to  previous view\", \"fa fa-arrow-left icon-arrow-left\", \"back\"], [\"Forward\", \"Forward to next view\", \"fa fa-arrow-right icon-arrow-right\", \"forward\"], [\"\", \"\", \"\", \"\"], [\"Pan\", \"Pan axes with left mouse, zoom with right\", \"fa fa-arrows icon-move\", \"pan\"], [\"Zoom\", \"Zoom to rectangle\", \"fa fa-square-o icon-check-empty\", \"zoom\"], [\"\", \"\", \"\", \"\"], [\"Download\", \"Download plot\", \"fa fa-floppy-o icon-save\", \"download\"]];\n",
       "\n",
       "mpl.extensions = [\"eps\", \"jpeg\", \"pdf\", \"png\", \"ps\", \"raw\", \"svg\", \"tif\"];\n",
       "\n",
       "mpl.default_extension = \"png\";var comm_websocket_adapter = function(comm) {\n",
       "    // Create a \"websocket\"-like object which calls the given IPython comm\n",
       "    // object with the appropriate methods. Currently this is a non binary\n",
       "    // socket, so there is still some room for performance tuning.\n",
       "    var ws = {};\n",
       "\n",
       "    ws.close = function() {\n",
       "        comm.close()\n",
       "    };\n",
       "    ws.send = function(m) {\n",
       "        //console.log('sending', m);\n",
       "        comm.send(m);\n",
       "    };\n",
       "    // Register the callback with on_msg.\n",
       "    comm.on_msg(function(msg) {\n",
       "        //console.log('receiving', msg['content']['data'], msg);\n",
       "        // Pass the mpl event to the overriden (by mpl) onmessage function.\n",
       "        ws.onmessage(msg['content']['data'])\n",
       "    });\n",
       "    return ws;\n",
       "}\n",
       "\n",
       "mpl.mpl_figure_comm = function(comm, msg) {\n",
       "    // This is the function which gets called when the mpl process\n",
       "    // starts-up an IPython Comm through the \"matplotlib\" channel.\n",
       "\n",
       "    var id = msg.content.data.id;\n",
       "    // Get hold of the div created by the display call when the Comm\n",
       "    // socket was opened in Python.\n",
       "    var element = $(\"#\" + id);\n",
       "    var ws_proxy = comm_websocket_adapter(comm)\n",
       "\n",
       "    function ondownload(figure, format) {\n",
       "        window.open(figure.imageObj.src);\n",
       "    }\n",
       "\n",
       "    var fig = new mpl.figure(id, ws_proxy,\n",
       "                           ondownload,\n",
       "                           element.get(0));\n",
       "\n",
       "    // Call onopen now - mpl needs it, as it is assuming we've passed it a real\n",
       "    // web socket which is closed, not our websocket->open comm proxy.\n",
       "    ws_proxy.onopen();\n",
       "\n",
       "    fig.parent_element = element.get(0);\n",
       "    fig.cell_info = mpl.find_output_cell(\"<div id='\" + id + \"'></div>\");\n",
       "    if (!fig.cell_info) {\n",
       "        console.error(\"Failed to find cell for figure\", id, fig);\n",
       "        return;\n",
       "    }\n",
       "\n",
       "    var output_index = fig.cell_info[2]\n",
       "    var cell = fig.cell_info[0];\n",
       "\n",
       "};\n",
       "\n",
       "mpl.figure.prototype.handle_close = function(fig, msg) {\n",
       "    fig.root.unbind('remove')\n",
       "\n",
       "    // Update the output cell to use the data from the current canvas.\n",
       "    fig.push_to_output();\n",
       "    var dataURL = fig.canvas.toDataURL();\n",
       "    // Re-enable the keyboard manager in IPython - without this line, in FF,\n",
       "    // the notebook keyboard shortcuts fail.\n",
       "    IPython.keyboard_manager.enable()\n",
       "    $(fig.parent_element).html('<img src=\"' + dataURL + '\">');\n",
       "    fig.close_ws(fig, msg);\n",
       "}\n",
       "\n",
       "mpl.figure.prototype.close_ws = function(fig, msg){\n",
       "    fig.send_message('closing', msg);\n",
       "    // fig.ws.close()\n",
       "}\n",
       "\n",
       "mpl.figure.prototype.push_to_output = function(remove_interactive) {\n",
       "    // Turn the data on the canvas into data in the output cell.\n",
       "    var dataURL = this.canvas.toDataURL();\n",
       "    this.cell_info[1]['text/html'] = '<img src=\"' + dataURL + '\">';\n",
       "}\n",
       "\n",
       "mpl.figure.prototype.updated_canvas_event = function() {\n",
       "    // Tell IPython that the notebook contents must change.\n",
       "    IPython.notebook.set_dirty(true);\n",
       "    this.send_message(\"ack\", {});\n",
       "    var fig = this;\n",
       "    // Wait a second, then push the new image to the DOM so\n",
       "    // that it is saved nicely (might be nice to debounce this).\n",
       "    setTimeout(function () { fig.push_to_output() }, 1000);\n",
       "}\n",
       "\n",
       "mpl.figure.prototype._init_toolbar = function() {\n",
       "    var fig = this;\n",
       "\n",
       "    var nav_element = $('<div/>')\n",
       "    nav_element.attr('style', 'width: 100%');\n",
       "    this.root.append(nav_element);\n",
       "\n",
       "    // Define a callback function for later on.\n",
       "    function toolbar_event(event) {\n",
       "        return fig.toolbar_button_onclick(event['data']);\n",
       "    }\n",
       "    function toolbar_mouse_event(event) {\n",
       "        return fig.toolbar_button_onmouseover(event['data']);\n",
       "    }\n",
       "\n",
       "    for(var toolbar_ind in mpl.toolbar_items){\n",
       "        var name = mpl.toolbar_items[toolbar_ind][0];\n",
       "        var tooltip = mpl.toolbar_items[toolbar_ind][1];\n",
       "        var image = mpl.toolbar_items[toolbar_ind][2];\n",
       "        var method_name = mpl.toolbar_items[toolbar_ind][3];\n",
       "\n",
       "        if (!name) { continue; };\n",
       "\n",
       "        var button = $('<button class=\"btn btn-default\" href=\"#\" title=\"' + name + '\"><i class=\"fa ' + image + ' fa-lg\"></i></button>');\n",
       "        button.click(method_name, toolbar_event);\n",
       "        button.mouseover(tooltip, toolbar_mouse_event);\n",
       "        nav_element.append(button);\n",
       "    }\n",
       "\n",
       "    // Add the status bar.\n",
       "    var status_bar = $('<span class=\"mpl-message\" style=\"text-align:right; float: right;\"/>');\n",
       "    nav_element.append(status_bar);\n",
       "    this.message = status_bar[0];\n",
       "\n",
       "    // Add the close button to the window.\n",
       "    var buttongrp = $('<div class=\"btn-group inline pull-right\"></div>');\n",
       "    var button = $('<button class=\"btn btn-mini btn-primary\" href=\"#\" title=\"Stop Interaction\"><i class=\"fa fa-power-off icon-remove icon-large\"></i></button>');\n",
       "    button.click(function (evt) { fig.handle_close(fig, {}); } );\n",
       "    button.mouseover('Stop Interaction', toolbar_mouse_event);\n",
       "    buttongrp.append(button);\n",
       "    var titlebar = this.root.find($('.ui-dialog-titlebar'));\n",
       "    titlebar.prepend(buttongrp);\n",
       "}\n",
       "\n",
       "mpl.figure.prototype._root_extra_style = function(el){\n",
       "    var fig = this\n",
       "    el.on(\"remove\", function(){\n",
       "\tfig.close_ws(fig, {});\n",
       "    });\n",
       "}\n",
       "\n",
       "mpl.figure.prototype._canvas_extra_style = function(el){\n",
       "    // this is important to make the div 'focusable\n",
       "    el.attr('tabindex', 0)\n",
       "    // reach out to IPython and tell the keyboard manager to turn it's self\n",
       "    // off when our div gets focus\n",
       "\n",
       "    // location in version 3\n",
       "    if (IPython.notebook.keyboard_manager) {\n",
       "        IPython.notebook.keyboard_manager.register_events(el);\n",
       "    }\n",
       "    else {\n",
       "        // location in version 2\n",
       "        IPython.keyboard_manager.register_events(el);\n",
       "    }\n",
       "\n",
       "}\n",
       "\n",
       "mpl.figure.prototype._key_event_extra = function(event, name) {\n",
       "    var manager = IPython.notebook.keyboard_manager;\n",
       "    if (!manager)\n",
       "        manager = IPython.keyboard_manager;\n",
       "\n",
       "    // Check for shift+enter\n",
       "    if (event.shiftKey && event.which == 13) {\n",
       "        this.canvas_div.blur();\n",
       "        event.shiftKey = false;\n",
       "        // Send a \"J\" for go to next cell\n",
       "        event.which = 74;\n",
       "        event.keyCode = 74;\n",
       "        manager.command_mode();\n",
       "        manager.handle_keydown(event);\n",
       "    }\n",
       "}\n",
       "\n",
       "mpl.figure.prototype.handle_save = function(fig, msg) {\n",
       "    fig.ondownload(fig, null);\n",
       "}\n",
       "\n",
       "\n",
       "mpl.find_output_cell = function(html_output) {\n",
       "    // Return the cell and output element which can be found *uniquely* in the notebook.\n",
       "    // Note - this is a bit hacky, but it is done because the \"notebook_saving.Notebook\"\n",
       "    // IPython event is triggered only after the cells have been serialised, which for\n",
       "    // our purposes (turning an active figure into a static one), is too late.\n",
       "    var cells = IPython.notebook.get_cells();\n",
       "    var ncells = cells.length;\n",
       "    for (var i=0; i<ncells; i++) {\n",
       "        var cell = cells[i];\n",
       "        if (cell.cell_type === 'code'){\n",
       "            for (var j=0; j<cell.output_area.outputs.length; j++) {\n",
       "                var data = cell.output_area.outputs[j];\n",
       "                if (data.data) {\n",
       "                    // IPython >= 3 moved mimebundle to data attribute of output\n",
       "                    data = data.data;\n",
       "                }\n",
       "                if (data['text/html'] == html_output) {\n",
       "                    return [cell, data, j];\n",
       "                }\n",
       "            }\n",
       "        }\n",
       "    }\n",
       "}\n",
       "\n",
       "// Register the function which deals with the matplotlib target/channel.\n",
       "// The kernel may be null if the page has been refreshed.\n",
       "if (IPython.notebook.kernel != null) {\n",
       "    IPython.notebook.kernel.comm_manager.register_target('matplotlib', mpl.mpl_figure_comm);\n",
       "}\n"
      ],
      "text/plain": [
       "<IPython.core.display.Javascript object>"
      ]
     },
     "metadata": {},
     "output_type": "display_data"
    },
    {
     "data": {
      "text/html": [
       "<img src=\"data:image/png;base64,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\">"
      ],
      "text/plain": [
       "<IPython.core.display.HTML object>"
      ]
     },
     "metadata": {},
     "output_type": "display_data"
    },
    {
     "ename": "KeyError",
     "evalue": "'graph_name'",
     "output_type": "error",
     "traceback": [
      "\u001b[0;31m---------------------------------------------------------------------------\u001b[0m",
      "\u001b[0;31mKeyError\u001b[0m                                  Traceback (most recent call last)",
      "\u001b[0;32m<ipython-input-98-f9c05360d55f>\u001b[0m in \u001b[0;36m<module>\u001b[0;34m()\u001b[0m\n\u001b[0;32m----> 1\u001b[0;31m \u001b[0mrect_graph\u001b[0m\u001b[1;33m.\u001b[0m\u001b[0mshow\u001b[0m\u001b[1;33m(\u001b[0m\u001b[0mdescriptions\u001b[0m\u001b[1;33m=\u001b[0m\u001b[0mFalse\u001b[0m\u001b[1;33m)\u001b[0m\u001b[1;33m\u001b[0m\u001b[0m\n\u001b[0m\u001b[1;32m      2\u001b[0m \u001b[1;32mprint\u001b[0m \u001b[0mrect_graph\u001b[0m\u001b[1;33m.\u001b[0m\u001b[0mstate\u001b[0m\u001b[1;33m\u001b[0m\u001b[0m\n\u001b[1;32m      3\u001b[0m \u001b[1;32mprint\u001b[0m \u001b[0mrect_graph\u001b[0m\u001b[1;33m.\u001b[0m\u001b[0mnode_names\u001b[0m\u001b[1;33m\u001b[0m\u001b[0m\n\u001b[1;32m      4\u001b[0m \u001b[1;32mprint\u001b[0m \u001b[0mrect_graph\u001b[0m\u001b[1;33m.\u001b[0m\u001b[0mcurrent_node\u001b[0m\u001b[1;33m\u001b[0m\u001b[0m\n\u001b[1;32m      5\u001b[0m \u001b[0mrect_graph\u001b[0m\u001b[1;33m.\u001b[0m\u001b[0mmove_to_node\u001b[0m\u001b[1;33m(\u001b[0m\u001b[1;34m\"n2\"\u001b[0m\u001b[1;33m)\u001b[0m\u001b[1;33m\u001b[0m\u001b[0m\n",
      "\u001b[0;32m<ipython-input-95-6967ae2802b3>\u001b[0m in \u001b[0;36mshow\u001b[0;34m(self, **options)\u001b[0m\n\u001b[1;32m    452\u001b[0m                                   node_size=show_options[\"node_size\"],font_size=show_options[\"font_size\"])\n\u001b[1;32m    453\u001b[0m \u001b[1;33m\u001b[0m\u001b[0m\n\u001b[0;32m--> 454\u001b[0;31m         \u001b[0mplt\u001b[0m\u001b[1;33m.\u001b[0m\u001b[0msuptitle\u001b[0m\u001b[1;33m(\u001b[0m\u001b[0mshow_options\u001b[0m\u001b[1;33m[\u001b[0m\u001b[1;34m\"graph_name\"\u001b[0m\u001b[1;33m]\u001b[0m\u001b[1;33m)\u001b[0m\u001b[1;33m\u001b[0m\u001b[0m\n\u001b[0m\u001b[1;32m    455\u001b[0m         \u001b[1;32mif\u001b[0m \u001b[0mshow_options\u001b[0m\u001b[1;33m[\u001b[0m\u001b[1;34m\"file_name\"\u001b[0m\u001b[1;33m]\u001b[0m \u001b[1;32mis\u001b[0m \u001b[0mNone\u001b[0m\u001b[1;33m:\u001b[0m\u001b[1;33m\u001b[0m\u001b[0m\n\u001b[1;32m    456\u001b[0m             file_name=auto_name(specific_descriptor=show_options[\"specific_descriptor\"],\n",
      "\u001b[0;31mKeyError\u001b[0m: 'graph_name'"
     ]
    }
   ],
   "source": [
    "rect_graph.show(descriptions=False)\n",
    "print rect_graph.state\n",
    "print rect_graph.node_names\n",
    "print rect_graph.current_node\n",
    "rect_graph.move_to_node(\"n2\")\n",
    "rect_graph.show(font_size=12,node_size=500,arrows=False,save_plot=True)"
   ]
  },
  {
   "cell_type": "code",
   "execution_count": 716,
   "metadata": {
    "collapsed": false
   },
   "outputs": [
    {
     "name": "stdout",
     "output_type": "stream",
     "text": [
      "['edge_n2_n1_000']\n",
      "moving n2 -> n1\n",
      "['edge_n1_n2_000']\n",
      "moving n1 -> n2\n"
     ]
    },
    {
     "data": {
      "text/plain": [
       "True"
      ]
     },
     "execution_count": 716,
     "metadata": {},
     "output_type": "execute_result"
    }
   ],
   "source": [
    "rect_graph.is_graph_isomorphic()"
   ]
  },
  {
   "cell_type": "code",
   "execution_count": 717,
   "metadata": {
    "collapsed": false
   },
   "outputs": [
    {
     "name": "stdout",
     "output_type": "stream",
     "text": [
      "['edge_n2_n1_000', 'edge_n1_n2_000']\n",
      "moving n2 -> n1\n",
      "moving n1 -> n2\n"
     ]
    }
   ],
   "source": [
    "rect_graph.move_to_node(\"n2\")"
   ]
  },
  {
   "cell_type": "code",
   "execution_count": 7,
   "metadata": {
    "collapsed": false
   },
   "outputs": [],
   "source": [
    "#print rect_graph.data"
   ]
  },
  {
   "cell_type": "code",
   "execution_count": 73,
   "metadata": {
    "collapsed": true
   },
   "outputs": [],
   "source": [
    "def DataFrame_to_hdf(pandas_data_frame):\n",
    "    pandas_data_frame.to_hdf(\"Test.hdf\",\"table\")\n",
    "    return \"Test.hdf\"\n",
    "def hdf_to_DataFrame(hdf_file_name):\n",
    "    df=pandas.read_hdf(hdf_file_name,\"table\")\n",
    "    return df\n",
    "def XMLDataTable_to_AsciiDataTable(xml_table):\n",
    "    \n",
    "    table=AsciiDataTable(None,\n",
    "                         column_names=xml_table.attribute_names,\n",
    "                         data=xml_table.data)\n",
    "    return table\n",
    "def AsciiDataTable_to_XMLDataTable_2(data_table):\n",
    "    xml=AsciiDataTable_to_XMLDataTable(data_table)\n",
    "    return xml\n",
    "def DataFrame_to_excel(pandas_data_frame,file_name=\"Test.xlsx\"):\n",
    "    pandas_data_frame.to_excel(file_name,index=False)\n",
    "    return file_name\n",
    "\n",
    "def excel_to_DataFrame(excel_file_name):\n",
    "    df=pandas.read_excel(excel_file_name)\n",
    "    return df\n",
    "def DataFrame_to_HTML_string(pandas_data_frame):\n",
    "    html=pandas_data_frame.to_html(index=False)\n",
    "    return html\n",
    "\n",
    "def HTML_string_to_DataFrame(html_string):\n",
    "    list_df=pandas.read_html(html_string)\n",
    "    return list_df[0]\n",
    "def DataFrame_to_json(pandas_data_frame):\n",
    "    json=pandas_data_frame.to_json(\"test.json\",orient='records')\n",
    "    return \"test.json\"\n",
    "\n",
    "def json_to_DataFrame(json_file_name):\n",
    "    data_frame=pandas.read_json(json_file_name,orient='records')\n",
    "    return data_frame\n",
    "\n",
    "def DataFrame_to_json_string(pandas_data_frame):\n",
    "    json=pandas_data_frame.to_json(orient='records')\n",
    "    return json\n",
    "\n",
    "def json_string_to_DataFrame(json_string):\n",
    "    data_frame=pandas.read_json(json_string,orient='records')\n",
    "    return data_frame\n",
    "\n",
    "def DataFrame_to_csv(pandas_data_frame,file_name=\"test.csv\"):\n",
    "    csv=pandas_data_frame.to_csv(file_name,index=False)\n",
    "    return file_name\n",
    "\n",
    "def csv_to_DataFrame(csv_file_name):\n",
    "    data_frame=pandas.read_csv(csv_file_name)\n",
    "    return data_frame\n",
    "\n",
    "def AsciiDataTable_to_Matlab(ascii_data_table,file_name=\"test.mat\"):\n",
    "    matlab_data_dictionary={\"data\":ascii_data_table.data,\"column_names\":ascii_data_table.column_names}\n",
    "    savemat(file_name,matlab_data_dictionary)\n",
    "    return file_name\n",
    "\n",
    "def Matlab_to_AsciiDataTable(matlab_file_name):\n",
    "    matlab_data_dictionary=loadmat(matlab_file_name)\n",
    "    ascii_data_table=AsciiDataTable(None,\n",
    "                                    column_names=map(lambda x: x.rstrip().lstrip(),\n",
    "                                                     matlab_data_dictionary[\"column_names\"].tolist()),\n",
    "                                     data=matlab_data_dictionary[\"data\"].tolist())\n",
    "    return ascii_data_table\n",
    "\n",
    "def DataTable_to_XML(xml_data_table,file_name=\"test.xml\"):\n",
    "    xml_data_table.save(file_name)\n",
    "    return file_name\n",
    "\n",
    "def XML_to_DataTable(xml_file_name):\n",
    "    xml_data_table=DataTable(xml_file_name)\n",
    "    return xml_data_table\n",
    "\n",
    "def html_string_to_html_file(html_string,file_name=\"test.html\"):\n",
    "    out_file=open(file_name,'w')\n",
    "    out_file.write(html_string)\n",
    "    out_file.close()\n",
    "    return file_name\n",
    "# this is broken, something does not work properly\n",
    "def html_file_to_pandas(html_file_name):\n",
    "    in_file=open(html_file_name,'r')\n",
    "    pandas_data_frame=pandas.read_html(in_file)\n",
    "    return pandas_data_frame\n",
    "\n",
    "def html_file_to_html_string(html_file_name):\n",
    "    in_file=open(html_file_name,'r')\n",
    "    html_string=in_file.read()\n",
    "    return html_string\n",
    "\n",
    "def DataFrame_to_html_file(pandas_data_frame,file_name=\"test.html\"):\n",
    "    out_file=open(file_name,'w')\n",
    "    pandas_data_frame.to_html(out_file,index=False)\n",
    "    return file_name\n",
    "\n",
    "def json_to_DataTable(json_file_name):\n",
    "    data_dictionary_list=json.load(open(json_file_name,'r'))\n",
    "    xml=DataTable(None,data_dictionary={\"data\":data_dictionary_list})\n",
    "    return xml\n",
    "\n",
    "def csv_to_AsciiDataTable(csv_file_name):\n",
    "    options={\"column_names_begin_line\":0,\"column_names_end_line\":1,\n",
    "             \"data_begin_line\":1,\"data_end_line\":-1,\"data_delimiter\":\",\",\"column_names_delimiter\":\",\"}\n",
    "    table=AsciiDataTable(csv_file_name,**options)\n",
    "    return table"
   ]
  },
  {
   "cell_type": "code",
   "execution_count": 74,
   "metadata": {
    "collapsed": false
   },
   "outputs": [],
   "source": [
    "# need to rename these Model1_to_Model2\n",
    "rect_graph.add_node(\"n3\",\"n1\",DataFrame_to_hdf,\"n1\",hdf_to_DataFrame)\n",
    "rect_graph.node_descriptions.append(\"HDF File\")\n",
    "rect_graph.add_node(\"n4\",\"n2\",AsciiDataTable_to_XMLDataTable_2,\"n2\",XMLDataTable_to_AsciiDataTable)\n",
    "rect_graph.node_descriptions.append(\"XML Data Table\")\n",
    "\n",
    "# Need to add XML File and Html File using save and save_HTML()\n",
    "rect_graph.add_node(\"n5\",\"n1\",DataFrame_to_excel,\"n1\",excel_to_DataFrame)\n",
    "rect_graph.node_descriptions.append(\"Excel File\")\n",
    "rect_graph.add_node(\"n6\",\"n1\",DataFrame_to_HTML_string,\"n1\",HTML_string_to_DataFrame)\n",
    "rect_graph.node_descriptions.append(\"HTML String\")\n",
    "\n",
    "# Note a lot of the pandas reading and writing cause float64 round off errors\n",
    "# applymap(lambda x: np.around(x,10) any all float fields will fix this\n",
    "# also the column names move about in order\n",
    "rect_graph.add_node(\"n7\",\"n1\",DataFrame_to_json,\"n1\",json_to_DataFrame)\n",
    "rect_graph.node_descriptions.append(\"JSON File\")\n",
    "rect_graph.add_node(\"n8\",\"n1\",DataFrame_to_json_string,\"n1\",json_string_to_DataFrame)\n",
    "rect_graph.node_descriptions.append(\"JSON String\")\n",
    "rect_graph.add_node(\"n9\",\"n1\",DataFrame_to_csv,\"n1\",csv_to_DataFrame)\n",
    "rect_graph.node_descriptions.append(\"CSV File\")\n",
    "rect_graph.add_node(\"n10\",\"n2\",AsciiDataTable_to_Matlab,\"n2\",Matlab_to_AsciiDataTable)\n",
    "rect_graph.node_descriptions.append(\"Matlab File\")\n",
    "rect_graph.add_node(\"n11\",\"n4\",DataTable_to_XML,\"n4\",XML_to_DataTable)\n",
    "rect_graph.node_descriptions.append(\"XML File\")\n",
    "rect_graph.add_node(\"n12\",\"n6\",html_string_to_html_file,\"n6\",html_file_to_html_string)\n",
    "rect_graph.node_descriptions.append(\"HTML File\")\n",
    "rect_graph.add_edge(\"n1\",\"n12\",DataFrame_to_html_file)\n",
    "rect_graph.add_edge(\"n7\",\"n4\",json_to_DataTable)\n",
    "rect_graph.add_edge(\"n9\",\"n2\",csv_to_AsciiDataTable)"
   ]
  },
  {
   "cell_type": "code",
   "execution_count": 80,
   "metadata": {
    "collapsed": false
   },
   "outputs": [],
   "source": [
    "def jump_to_html_string(xml_data_table,style_sheet=os.path.join(TESTS_DIRECTORY,XSLT_REPOSITORY,\"DEFAULT_MEASUREMENT_STYLE.xsl\")):\n",
    "    \"\"\"Creates a html string from an xml data table\"\"\"\n",
    "    return xml_data_table.to_HTML(style_sheet)\n",
    "def jump_to_html_file(xml_data_table,style_sheet=os.path.join(TESTS_DIRECTORY,XSLT_REPOSITORY,\"DEFAULT_MEASUREMENT_STYLE.xsl\"),file_path=None):\n",
    "    \"\"\"creates a html file from an xml data table\"\"\"\n",
    "    xml_data_table.save_HTML(style_sheet,file_path=file_path)\n",
    "    if file_path is None:\n",
    "        file_path=xml_data_table.path.replace('.xml','.html')\n",
    "    return file_path\n",
    "rect_graph.add_external_node(\"ex1\",\"n4\",jump_to_html_string)\n",
    "rect_graph.external_node_descriptions.append(\"html_string\")\n",
    "rect_graph.add_external_node(\"ex2\",\"n4\",jump_to_html_file)\n",
    "rect_graph.external_node_descriptions.append(\"html_file\")"
   ]
  },
  {
   "cell_type": "code",
   "execution_count": 81,
   "metadata": {
    "collapsed": false
   },
   "outputs": [
    {
     "name": "stdout",
     "output_type": "stream",
     "text": [
      "['edge_n1_n2_000', 'edge_n2_n4_000']\n",
      "moving n1 -> n2\n",
      "moving n2 -> n4\n"
     ]
    }
   ],
   "source": [
    "html_file_name=rect_graph.jump_to_external_node(\"ex2\")"
   ]
  },
  {
   "cell_type": "code",
   "execution_count": 78,
   "metadata": {
    "collapsed": false
   },
   "outputs": [
    {
     "data": {
      "text/plain": [
       "['jump_n4_ex1_000', 'jump_n4_ex2_000']"
      ]
     },
     "execution_count": 78,
     "metadata": {},
     "output_type": "execute_result"
    }
   ],
   "source": [
    "rect_graph.jumps"
   ]
  },
  {
   "cell_type": "code",
   "execution_count": 85,
   "metadata": {
    "collapsed": false
   },
   "outputs": [
    {
     "data": {
      "application/javascript": [
       "/* Put everything inside the global mpl namespace */\n",
       "window.mpl = {};\n",
       "\n",
       "mpl.get_websocket_type = function() {\n",
       "    if (typeof(WebSocket) !== 'undefined') {\n",
       "        return WebSocket;\n",
       "    } else if (typeof(MozWebSocket) !== 'undefined') {\n",
       "        return MozWebSocket;\n",
       "    } else {\n",
       "        alert('Your browser does not have WebSocket support.' +\n",
       "              'Please try Chrome, Safari or Firefox ≥ 6. ' +\n",
       "              'Firefox 4 and 5 are also supported but you ' +\n",
       "              'have to enable WebSockets in about:config.');\n",
       "    };\n",
       "}\n",
       "\n",
       "mpl.figure = function(figure_id, websocket, ondownload, parent_element) {\n",
       "    this.id = figure_id;\n",
       "\n",
       "    this.ws = websocket;\n",
       "\n",
       "    this.supports_binary = (this.ws.binaryType != undefined);\n",
       "\n",
       "    if (!this.supports_binary) {\n",
       "        var warnings = document.getElementById(\"mpl-warnings\");\n",
       "        if (warnings) {\n",
       "            warnings.style.display = 'block';\n",
       "            warnings.textContent = (\n",
       "                \"This browser does not support binary websocket messages. \" +\n",
       "                    \"Performance may be slow.\");\n",
       "        }\n",
       "    }\n",
       "\n",
       "    this.imageObj = new Image();\n",
       "\n",
       "    this.context = undefined;\n",
       "    this.message = undefined;\n",
       "    this.canvas = undefined;\n",
       "    this.rubberband_canvas = undefined;\n",
       "    this.rubberband_context = undefined;\n",
       "    this.format_dropdown = undefined;\n",
       "\n",
       "    this.image_mode = 'full';\n",
       "\n",
       "    this.root = $('<div/>');\n",
       "    this._root_extra_style(this.root)\n",
       "    this.root.attr('style', 'display: inline-block');\n",
       "\n",
       "    $(parent_element).append(this.root);\n",
       "\n",
       "    this._init_header(this);\n",
       "    this._init_canvas(this);\n",
       "    this._init_toolbar(this);\n",
       "\n",
       "    var fig = this;\n",
       "\n",
       "    this.waiting = false;\n",
       "\n",
       "    this.ws.onopen =  function () {\n",
       "            fig.send_message(\"supports_binary\", {value: fig.supports_binary});\n",
       "            fig.send_message(\"send_image_mode\", {});\n",
       "            fig.send_message(\"refresh\", {});\n",
       "        }\n",
       "\n",
       "    this.imageObj.onload = function() {\n",
       "            if (fig.image_mode == 'full') {\n",
       "                // Full images could contain transparency (where diff images\n",
       "                // almost always do), so we need to clear the canvas so that\n",
       "                // there is no ghosting.\n",
       "                fig.context.clearRect(0, 0, fig.canvas.width, fig.canvas.height);\n",
       "            }\n",
       "            fig.context.drawImage(fig.imageObj, 0, 0);\n",
       "        };\n",
       "\n",
       "    this.imageObj.onunload = function() {\n",
       "        this.ws.close();\n",
       "    }\n",
       "\n",
       "    this.ws.onmessage = this._make_on_message_function(this);\n",
       "\n",
       "    this.ondownload = ondownload;\n",
       "}\n",
       "\n",
       "mpl.figure.prototype._init_header = function() {\n",
       "    var titlebar = $(\n",
       "        '<div class=\"ui-dialog-titlebar ui-widget-header ui-corner-all ' +\n",
       "        'ui-helper-clearfix\"/>');\n",
       "    var titletext = $(\n",
       "        '<div class=\"ui-dialog-title\" style=\"width: 100%; ' +\n",
       "        'text-align: center; padding: 3px;\"/>');\n",
       "    titlebar.append(titletext)\n",
       "    this.root.append(titlebar);\n",
       "    this.header = titletext[0];\n",
       "}\n",
       "\n",
       "\n",
       "\n",
       "mpl.figure.prototype._canvas_extra_style = function(canvas_div) {\n",
       "\n",
       "}\n",
       "\n",
       "\n",
       "mpl.figure.prototype._root_extra_style = function(canvas_div) {\n",
       "\n",
       "}\n",
       "\n",
       "mpl.figure.prototype._init_canvas = function() {\n",
       "    var fig = this;\n",
       "\n",
       "    var canvas_div = $('<div/>');\n",
       "\n",
       "    canvas_div.attr('style', 'position: relative; clear: both; outline: 0');\n",
       "\n",
       "    function canvas_keyboard_event(event) {\n",
       "        return fig.key_event(event, event['data']);\n",
       "    }\n",
       "\n",
       "    canvas_div.keydown('key_press', canvas_keyboard_event);\n",
       "    canvas_div.keyup('key_release', canvas_keyboard_event);\n",
       "    this.canvas_div = canvas_div\n",
       "    this._canvas_extra_style(canvas_div)\n",
       "    this.root.append(canvas_div);\n",
       "\n",
       "    var canvas = $('<canvas/>');\n",
       "    canvas.addClass('mpl-canvas');\n",
       "    canvas.attr('style', \"left: 0; top: 0; z-index: 0; outline: 0\")\n",
       "\n",
       "    this.canvas = canvas[0];\n",
       "    this.context = canvas[0].getContext(\"2d\");\n",
       "\n",
       "    var rubberband = $('<canvas/>');\n",
       "    rubberband.attr('style', \"position: absolute; left: 0; top: 0; z-index: 1;\")\n",
       "\n",
       "    var pass_mouse_events = true;\n",
       "\n",
       "    canvas_div.resizable({\n",
       "        start: function(event, ui) {\n",
       "            pass_mouse_events = false;\n",
       "        },\n",
       "        resize: function(event, ui) {\n",
       "            fig.request_resize(ui.size.width, ui.size.height);\n",
       "        },\n",
       "        stop: function(event, ui) {\n",
       "            pass_mouse_events = true;\n",
       "            fig.request_resize(ui.size.width, ui.size.height);\n",
       "        },\n",
       "    });\n",
       "\n",
       "    function mouse_event_fn(event) {\n",
       "        if (pass_mouse_events)\n",
       "            return fig.mouse_event(event, event['data']);\n",
       "    }\n",
       "\n",
       "    rubberband.mousedown('button_press', mouse_event_fn);\n",
       "    rubberband.mouseup('button_release', mouse_event_fn);\n",
       "    // Throttle sequential mouse events to 1 every 20ms.\n",
       "    rubberband.mousemove('motion_notify', mouse_event_fn);\n",
       "\n",
       "    rubberband.mouseenter('figure_enter', mouse_event_fn);\n",
       "    rubberband.mouseleave('figure_leave', mouse_event_fn);\n",
       "\n",
       "    canvas_div.on(\"wheel\", function (event) {\n",
       "        event = event.originalEvent;\n",
       "        event['data'] = 'scroll'\n",
       "        if (event.deltaY < 0) {\n",
       "            event.step = 1;\n",
       "        } else {\n",
       "            event.step = -1;\n",
       "        }\n",
       "        mouse_event_fn(event);\n",
       "    });\n",
       "\n",
       "    canvas_div.append(canvas);\n",
       "    canvas_div.append(rubberband);\n",
       "\n",
       "    this.rubberband = rubberband;\n",
       "    this.rubberband_canvas = rubberband[0];\n",
       "    this.rubberband_context = rubberband[0].getContext(\"2d\");\n",
       "    this.rubberband_context.strokeStyle = \"#000000\";\n",
       "\n",
       "    this._resize_canvas = function(width, height) {\n",
       "        // Keep the size of the canvas, canvas container, and rubber band\n",
       "        // canvas in synch.\n",
       "        canvas_div.css('width', width)\n",
       "        canvas_div.css('height', height)\n",
       "\n",
       "        canvas.attr('width', width);\n",
       "        canvas.attr('height', height);\n",
       "\n",
       "        rubberband.attr('width', width);\n",
       "        rubberband.attr('height', height);\n",
       "    }\n",
       "\n",
       "    // Set the figure to an initial 600x600px, this will subsequently be updated\n",
       "    // upon first draw.\n",
       "    this._resize_canvas(600, 600);\n",
       "\n",
       "    // Disable right mouse context menu.\n",
       "    $(this.rubberband_canvas).bind(\"contextmenu\",function(e){\n",
       "        return false;\n",
       "    });\n",
       "\n",
       "    function set_focus () {\n",
       "        canvas.focus();\n",
       "        canvas_div.focus();\n",
       "    }\n",
       "\n",
       "    window.setTimeout(set_focus, 100);\n",
       "}\n",
       "\n",
       "mpl.figure.prototype._init_toolbar = function() {\n",
       "    var fig = this;\n",
       "\n",
       "    var nav_element = $('<div/>')\n",
       "    nav_element.attr('style', 'width: 100%');\n",
       "    this.root.append(nav_element);\n",
       "\n",
       "    // Define a callback function for later on.\n",
       "    function toolbar_event(event) {\n",
       "        return fig.toolbar_button_onclick(event['data']);\n",
       "    }\n",
       "    function toolbar_mouse_event(event) {\n",
       "        return fig.toolbar_button_onmouseover(event['data']);\n",
       "    }\n",
       "\n",
       "    for(var toolbar_ind in mpl.toolbar_items) {\n",
       "        var name = mpl.toolbar_items[toolbar_ind][0];\n",
       "        var tooltip = mpl.toolbar_items[toolbar_ind][1];\n",
       "        var image = mpl.toolbar_items[toolbar_ind][2];\n",
       "        var method_name = mpl.toolbar_items[toolbar_ind][3];\n",
       "\n",
       "        if (!name) {\n",
       "            // put a spacer in here.\n",
       "            continue;\n",
       "        }\n",
       "        var button = $('<button/>');\n",
       "        button.addClass('ui-button ui-widget ui-state-default ui-corner-all ' +\n",
       "                        'ui-button-icon-only');\n",
       "        button.attr('role', 'button');\n",
       "        button.attr('aria-disabled', 'false');\n",
       "        button.click(method_name, toolbar_event);\n",
       "        button.mouseover(tooltip, toolbar_mouse_event);\n",
       "\n",
       "        var icon_img = $('<span/>');\n",
       "        icon_img.addClass('ui-button-icon-primary ui-icon');\n",
       "        icon_img.addClass(image);\n",
       "        icon_img.addClass('ui-corner-all');\n",
       "\n",
       "        var tooltip_span = $('<span/>');\n",
       "        tooltip_span.addClass('ui-button-text');\n",
       "        tooltip_span.html(tooltip);\n",
       "\n",
       "        button.append(icon_img);\n",
       "        button.append(tooltip_span);\n",
       "\n",
       "        nav_element.append(button);\n",
       "    }\n",
       "\n",
       "    var fmt_picker_span = $('<span/>');\n",
       "\n",
       "    var fmt_picker = $('<select/>');\n",
       "    fmt_picker.addClass('mpl-toolbar-option ui-widget ui-widget-content');\n",
       "    fmt_picker_span.append(fmt_picker);\n",
       "    nav_element.append(fmt_picker_span);\n",
       "    this.format_dropdown = fmt_picker[0];\n",
       "\n",
       "    for (var ind in mpl.extensions) {\n",
       "        var fmt = mpl.extensions[ind];\n",
       "        var option = $(\n",
       "            '<option/>', {selected: fmt === mpl.default_extension}).html(fmt);\n",
       "        fmt_picker.append(option)\n",
       "    }\n",
       "\n",
       "    // Add hover states to the ui-buttons\n",
       "    $( \".ui-button\" ).hover(\n",
       "        function() { $(this).addClass(\"ui-state-hover\");},\n",
       "        function() { $(this).removeClass(\"ui-state-hover\");}\n",
       "    );\n",
       "\n",
       "    var status_bar = $('<span class=\"mpl-message\"/>');\n",
       "    nav_element.append(status_bar);\n",
       "    this.message = status_bar[0];\n",
       "}\n",
       "\n",
       "mpl.figure.prototype.request_resize = function(x_pixels, y_pixels) {\n",
       "    // Request matplotlib to resize the figure. Matplotlib will then trigger a resize in the client,\n",
       "    // which will in turn request a refresh of the image.\n",
       "    this.send_message('resize', {'width': x_pixels, 'height': y_pixels});\n",
       "}\n",
       "\n",
       "mpl.figure.prototype.send_message = function(type, properties) {\n",
       "    properties['type'] = type;\n",
       "    properties['figure_id'] = this.id;\n",
       "    this.ws.send(JSON.stringify(properties));\n",
       "}\n",
       "\n",
       "mpl.figure.prototype.send_draw_message = function() {\n",
       "    if (!this.waiting) {\n",
       "        this.waiting = true;\n",
       "        this.ws.send(JSON.stringify({type: \"draw\", figure_id: this.id}));\n",
       "    }\n",
       "}\n",
       "\n",
       "\n",
       "mpl.figure.prototype.handle_save = function(fig, msg) {\n",
       "    var format_dropdown = fig.format_dropdown;\n",
       "    var format = format_dropdown.options[format_dropdown.selectedIndex].value;\n",
       "    fig.ondownload(fig, format);\n",
       "}\n",
       "\n",
       "\n",
       "mpl.figure.prototype.handle_resize = function(fig, msg) {\n",
       "    var size = msg['size'];\n",
       "    if (size[0] != fig.canvas.width || size[1] != fig.canvas.height) {\n",
       "        fig._resize_canvas(size[0], size[1]);\n",
       "        fig.send_message(\"refresh\", {});\n",
       "    };\n",
       "}\n",
       "\n",
       "mpl.figure.prototype.handle_rubberband = function(fig, msg) {\n",
       "    var x0 = msg['x0'];\n",
       "    var y0 = fig.canvas.height - msg['y0'];\n",
       "    var x1 = msg['x1'];\n",
       "    var y1 = fig.canvas.height - msg['y1'];\n",
       "    x0 = Math.floor(x0) + 0.5;\n",
       "    y0 = Math.floor(y0) + 0.5;\n",
       "    x1 = Math.floor(x1) + 0.5;\n",
       "    y1 = Math.floor(y1) + 0.5;\n",
       "    var min_x = Math.min(x0, x1);\n",
       "    var min_y = Math.min(y0, y1);\n",
       "    var width = Math.abs(x1 - x0);\n",
       "    var height = Math.abs(y1 - y0);\n",
       "\n",
       "    fig.rubberband_context.clearRect(\n",
       "        0, 0, fig.canvas.width, fig.canvas.height);\n",
       "\n",
       "    fig.rubberband_context.strokeRect(min_x, min_y, width, height);\n",
       "}\n",
       "\n",
       "mpl.figure.prototype.handle_figure_label = function(fig, msg) {\n",
       "    // Updates the figure title.\n",
       "    fig.header.textContent = msg['label'];\n",
       "}\n",
       "\n",
       "mpl.figure.prototype.handle_cursor = function(fig, msg) {\n",
       "    var cursor = msg['cursor'];\n",
       "    switch(cursor)\n",
       "    {\n",
       "    case 0:\n",
       "        cursor = 'pointer';\n",
       "        break;\n",
       "    case 1:\n",
       "        cursor = 'default';\n",
       "        break;\n",
       "    case 2:\n",
       "        cursor = 'crosshair';\n",
       "        break;\n",
       "    case 3:\n",
       "        cursor = 'move';\n",
       "        break;\n",
       "    }\n",
       "    fig.rubberband_canvas.style.cursor = cursor;\n",
       "}\n",
       "\n",
       "mpl.figure.prototype.handle_message = function(fig, msg) {\n",
       "    fig.message.textContent = msg['message'];\n",
       "}\n",
       "\n",
       "mpl.figure.prototype.handle_draw = function(fig, msg) {\n",
       "    // Request the server to send over a new figure.\n",
       "    fig.send_draw_message();\n",
       "}\n",
       "\n",
       "mpl.figure.prototype.handle_image_mode = function(fig, msg) {\n",
       "    fig.image_mode = msg['mode'];\n",
       "}\n",
       "\n",
       "mpl.figure.prototype.updated_canvas_event = function() {\n",
       "    // Called whenever the canvas gets updated.\n",
       "    this.send_message(\"ack\", {});\n",
       "}\n",
       "\n",
       "// A function to construct a web socket function for onmessage handling.\n",
       "// Called in the figure constructor.\n",
       "mpl.figure.prototype._make_on_message_function = function(fig) {\n",
       "    return function socket_on_message(evt) {\n",
       "        if (evt.data instanceof Blob) {\n",
       "            /* FIXME: We get \"Resource interpreted as Image but\n",
       "             * transferred with MIME type text/plain:\" errors on\n",
       "             * Chrome.  But how to set the MIME type?  It doesn't seem\n",
       "             * to be part of the websocket stream */\n",
       "            evt.data.type = \"image/png\";\n",
       "\n",
       "            /* Free the memory for the previous frames */\n",
       "            if (fig.imageObj.src) {\n",
       "                (window.URL || window.webkitURL).revokeObjectURL(\n",
       "                    fig.imageObj.src);\n",
       "            }\n",
       "\n",
       "            fig.imageObj.src = (window.URL || window.webkitURL).createObjectURL(\n",
       "                evt.data);\n",
       "            fig.updated_canvas_event();\n",
       "            fig.waiting = false;\n",
       "            return;\n",
       "        }\n",
       "        else if (typeof evt.data === 'string' && evt.data.slice(0, 21) == \"data:image/png;base64\") {\n",
       "            fig.imageObj.src = evt.data;\n",
       "            fig.updated_canvas_event();\n",
       "            fig.waiting = false;\n",
       "            return;\n",
       "        }\n",
       "\n",
       "        var msg = JSON.parse(evt.data);\n",
       "        var msg_type = msg['type'];\n",
       "\n",
       "        // Call the  \"handle_{type}\" callback, which takes\n",
       "        // the figure and JSON message as its only arguments.\n",
       "        try {\n",
       "            var callback = fig[\"handle_\" + msg_type];\n",
       "        } catch (e) {\n",
       "            console.log(\"No handler for the '\" + msg_type + \"' message type: \", msg);\n",
       "            return;\n",
       "        }\n",
       "\n",
       "        if (callback) {\n",
       "            try {\n",
       "                // console.log(\"Handling '\" + msg_type + \"' message: \", msg);\n",
       "                callback(fig, msg);\n",
       "            } catch (e) {\n",
       "                console.log(\"Exception inside the 'handler_\" + msg_type + \"' callback:\", e, e.stack, msg);\n",
       "            }\n",
       "        }\n",
       "    };\n",
       "}\n",
       "\n",
       "// from http://stackoverflow.com/questions/1114465/getting-mouse-location-in-canvas\n",
       "mpl.findpos = function(e) {\n",
       "    //this section is from http://www.quirksmode.org/js/events_properties.html\n",
       "    var targ;\n",
       "    if (!e)\n",
       "        e = window.event;\n",
       "    if (e.target)\n",
       "        targ = e.target;\n",
       "    else if (e.srcElement)\n",
       "        targ = e.srcElement;\n",
       "    if (targ.nodeType == 3) // defeat Safari bug\n",
       "        targ = targ.parentNode;\n",
       "\n",
       "    // jQuery normalizes the pageX and pageY\n",
       "    // pageX,Y are the mouse positions relative to the document\n",
       "    // offset() returns the position of the element relative to the document\n",
       "    var x = e.pageX - $(targ).offset().left;\n",
       "    var y = e.pageY - $(targ).offset().top;\n",
       "\n",
       "    return {\"x\": x, \"y\": y};\n",
       "};\n",
       "\n",
       "/*\n",
       " * return a copy of an object with only non-object keys\n",
       " * we need this to avoid circular references\n",
       " * http://stackoverflow.com/a/24161582/3208463\n",
       " */\n",
       "function simpleKeys (original) {\n",
       "  return Object.keys(original).reduce(function (obj, key) {\n",
       "    if (typeof original[key] !== 'object')\n",
       "        obj[key] = original[key]\n",
       "    return obj;\n",
       "  }, {});\n",
       "}\n",
       "\n",
       "mpl.figure.prototype.mouse_event = function(event, name) {\n",
       "    var canvas_pos = mpl.findpos(event)\n",
       "\n",
       "    if (name === 'button_press')\n",
       "    {\n",
       "        this.canvas.focus();\n",
       "        this.canvas_div.focus();\n",
       "    }\n",
       "\n",
       "    var x = canvas_pos.x;\n",
       "    var y = canvas_pos.y;\n",
       "\n",
       "    this.send_message(name, {x: x, y: y, button: event.button,\n",
       "                             step: event.step,\n",
       "                             guiEvent: simpleKeys(event)});\n",
       "\n",
       "    /* This prevents the web browser from automatically changing to\n",
       "     * the text insertion cursor when the button is pressed.  We want\n",
       "     * to control all of the cursor setting manually through the\n",
       "     * 'cursor' event from matplotlib */\n",
       "    event.preventDefault();\n",
       "    return false;\n",
       "}\n",
       "\n",
       "mpl.figure.prototype._key_event_extra = function(event, name) {\n",
       "    // Handle any extra behaviour associated with a key event\n",
       "}\n",
       "\n",
       "mpl.figure.prototype.key_event = function(event, name) {\n",
       "\n",
       "    // Prevent repeat events\n",
       "    if (name == 'key_press')\n",
       "    {\n",
       "        if (event.which === this._key)\n",
       "            return;\n",
       "        else\n",
       "            this._key = event.which;\n",
       "    }\n",
       "    if (name == 'key_release')\n",
       "        this._key = null;\n",
       "\n",
       "    var value = '';\n",
       "    if (event.ctrlKey && event.which != 17)\n",
       "        value += \"ctrl+\";\n",
       "    if (event.altKey && event.which != 18)\n",
       "        value += \"alt+\";\n",
       "    if (event.shiftKey && event.which != 16)\n",
       "        value += \"shift+\";\n",
       "\n",
       "    value += 'k';\n",
       "    value += event.which.toString();\n",
       "\n",
       "    this._key_event_extra(event, name);\n",
       "\n",
       "    this.send_message(name, {key: value,\n",
       "                             guiEvent: simpleKeys(event)});\n",
       "    return false;\n",
       "}\n",
       "\n",
       "mpl.figure.prototype.toolbar_button_onclick = function(name) {\n",
       "    if (name == 'download') {\n",
       "        this.handle_save(this, null);\n",
       "    } else {\n",
       "        this.send_message(\"toolbar_button\", {name: name});\n",
       "    }\n",
       "};\n",
       "\n",
       "mpl.figure.prototype.toolbar_button_onmouseover = function(tooltip) {\n",
       "    this.message.textContent = tooltip;\n",
       "};\n",
       "mpl.toolbar_items = [[\"Home\", \"Reset original view\", \"fa fa-home icon-home\", \"home\"], [\"Back\", \"Back to  previous view\", \"fa fa-arrow-left icon-arrow-left\", \"back\"], [\"Forward\", \"Forward to next view\", \"fa fa-arrow-right icon-arrow-right\", \"forward\"], [\"\", \"\", \"\", \"\"], [\"Pan\", \"Pan axes with left mouse, zoom with right\", \"fa fa-arrows icon-move\", \"pan\"], [\"Zoom\", \"Zoom to rectangle\", \"fa fa-square-o icon-check-empty\", \"zoom\"], [\"\", \"\", \"\", \"\"], [\"Download\", \"Download plot\", \"fa fa-floppy-o icon-save\", \"download\"]];\n",
       "\n",
       "mpl.extensions = [\"eps\", \"jpeg\", \"pdf\", \"png\", \"ps\", \"raw\", \"svg\", \"tif\"];\n",
       "\n",
       "mpl.default_extension = \"png\";var comm_websocket_adapter = function(comm) {\n",
       "    // Create a \"websocket\"-like object which calls the given IPython comm\n",
       "    // object with the appropriate methods. Currently this is a non binary\n",
       "    // socket, so there is still some room for performance tuning.\n",
       "    var ws = {};\n",
       "\n",
       "    ws.close = function() {\n",
       "        comm.close()\n",
       "    };\n",
       "    ws.send = function(m) {\n",
       "        //console.log('sending', m);\n",
       "        comm.send(m);\n",
       "    };\n",
       "    // Register the callback with on_msg.\n",
       "    comm.on_msg(function(msg) {\n",
       "        //console.log('receiving', msg['content']['data'], msg);\n",
       "        // Pass the mpl event to the overriden (by mpl) onmessage function.\n",
       "        ws.onmessage(msg['content']['data'])\n",
       "    });\n",
       "    return ws;\n",
       "}\n",
       "\n",
       "mpl.mpl_figure_comm = function(comm, msg) {\n",
       "    // This is the function which gets called when the mpl process\n",
       "    // starts-up an IPython Comm through the \"matplotlib\" channel.\n",
       "\n",
       "    var id = msg.content.data.id;\n",
       "    // Get hold of the div created by the display call when the Comm\n",
       "    // socket was opened in Python.\n",
       "    var element = $(\"#\" + id);\n",
       "    var ws_proxy = comm_websocket_adapter(comm)\n",
       "\n",
       "    function ondownload(figure, format) {\n",
       "        window.open(figure.imageObj.src);\n",
       "    }\n",
       "\n",
       "    var fig = new mpl.figure(id, ws_proxy,\n",
       "                           ondownload,\n",
       "                           element.get(0));\n",
       "\n",
       "    // Call onopen now - mpl needs it, as it is assuming we've passed it a real\n",
       "    // web socket which is closed, not our websocket->open comm proxy.\n",
       "    ws_proxy.onopen();\n",
       "\n",
       "    fig.parent_element = element.get(0);\n",
       "    fig.cell_info = mpl.find_output_cell(\"<div id='\" + id + \"'></div>\");\n",
       "    if (!fig.cell_info) {\n",
       "        console.error(\"Failed to find cell for figure\", id, fig);\n",
       "        return;\n",
       "    }\n",
       "\n",
       "    var output_index = fig.cell_info[2]\n",
       "    var cell = fig.cell_info[0];\n",
       "\n",
       "};\n",
       "\n",
       "mpl.figure.prototype.handle_close = function(fig, msg) {\n",
       "    fig.root.unbind('remove')\n",
       "\n",
       "    // Update the output cell to use the data from the current canvas.\n",
       "    fig.push_to_output();\n",
       "    var dataURL = fig.canvas.toDataURL();\n",
       "    // Re-enable the keyboard manager in IPython - without this line, in FF,\n",
       "    // the notebook keyboard shortcuts fail.\n",
       "    IPython.keyboard_manager.enable()\n",
       "    $(fig.parent_element).html('<img src=\"' + dataURL + '\">');\n",
       "    fig.close_ws(fig, msg);\n",
       "}\n",
       "\n",
       "mpl.figure.prototype.close_ws = function(fig, msg){\n",
       "    fig.send_message('closing', msg);\n",
       "    // fig.ws.close()\n",
       "}\n",
       "\n",
       "mpl.figure.prototype.push_to_output = function(remove_interactive) {\n",
       "    // Turn the data on the canvas into data in the output cell.\n",
       "    var dataURL = this.canvas.toDataURL();\n",
       "    this.cell_info[1]['text/html'] = '<img src=\"' + dataURL + '\">';\n",
       "}\n",
       "\n",
       "mpl.figure.prototype.updated_canvas_event = function() {\n",
       "    // Tell IPython that the notebook contents must change.\n",
       "    IPython.notebook.set_dirty(true);\n",
       "    this.send_message(\"ack\", {});\n",
       "    var fig = this;\n",
       "    // Wait a second, then push the new image to the DOM so\n",
       "    // that it is saved nicely (might be nice to debounce this).\n",
       "    setTimeout(function () { fig.push_to_output() }, 1000);\n",
       "}\n",
       "\n",
       "mpl.figure.prototype._init_toolbar = function() {\n",
       "    var fig = this;\n",
       "\n",
       "    var nav_element = $('<div/>')\n",
       "    nav_element.attr('style', 'width: 100%');\n",
       "    this.root.append(nav_element);\n",
       "\n",
       "    // Define a callback function for later on.\n",
       "    function toolbar_event(event) {\n",
       "        return fig.toolbar_button_onclick(event['data']);\n",
       "    }\n",
       "    function toolbar_mouse_event(event) {\n",
       "        return fig.toolbar_button_onmouseover(event['data']);\n",
       "    }\n",
       "\n",
       "    for(var toolbar_ind in mpl.toolbar_items){\n",
       "        var name = mpl.toolbar_items[toolbar_ind][0];\n",
       "        var tooltip = mpl.toolbar_items[toolbar_ind][1];\n",
       "        var image = mpl.toolbar_items[toolbar_ind][2];\n",
       "        var method_name = mpl.toolbar_items[toolbar_ind][3];\n",
       "\n",
       "        if (!name) { continue; };\n",
       "\n",
       "        var button = $('<button class=\"btn btn-default\" href=\"#\" title=\"' + name + '\"><i class=\"fa ' + image + ' fa-lg\"></i></button>');\n",
       "        button.click(method_name, toolbar_event);\n",
       "        button.mouseover(tooltip, toolbar_mouse_event);\n",
       "        nav_element.append(button);\n",
       "    }\n",
       "\n",
       "    // Add the status bar.\n",
       "    var status_bar = $('<span class=\"mpl-message\" style=\"text-align:right; float: right;\"/>');\n",
       "    nav_element.append(status_bar);\n",
       "    this.message = status_bar[0];\n",
       "\n",
       "    // Add the close button to the window.\n",
       "    var buttongrp = $('<div class=\"btn-group inline pull-right\"></div>');\n",
       "    var button = $('<button class=\"btn btn-mini btn-primary\" href=\"#\" title=\"Stop Interaction\"><i class=\"fa fa-power-off icon-remove icon-large\"></i></button>');\n",
       "    button.click(function (evt) { fig.handle_close(fig, {}); } );\n",
       "    button.mouseover('Stop Interaction', toolbar_mouse_event);\n",
       "    buttongrp.append(button);\n",
       "    var titlebar = this.root.find($('.ui-dialog-titlebar'));\n",
       "    titlebar.prepend(buttongrp);\n",
       "}\n",
       "\n",
       "mpl.figure.prototype._root_extra_style = function(el){\n",
       "    var fig = this\n",
       "    el.on(\"remove\", function(){\n",
       "\tfig.close_ws(fig, {});\n",
       "    });\n",
       "}\n",
       "\n",
       "mpl.figure.prototype._canvas_extra_style = function(el){\n",
       "    // this is important to make the div 'focusable\n",
       "    el.attr('tabindex', 0)\n",
       "    // reach out to IPython and tell the keyboard manager to turn it's self\n",
       "    // off when our div gets focus\n",
       "\n",
       "    // location in version 3\n",
       "    if (IPython.notebook.keyboard_manager) {\n",
       "        IPython.notebook.keyboard_manager.register_events(el);\n",
       "    }\n",
       "    else {\n",
       "        // location in version 2\n",
       "        IPython.keyboard_manager.register_events(el);\n",
       "    }\n",
       "\n",
       "}\n",
       "\n",
       "mpl.figure.prototype._key_event_extra = function(event, name) {\n",
       "    var manager = IPython.notebook.keyboard_manager;\n",
       "    if (!manager)\n",
       "        manager = IPython.keyboard_manager;\n",
       "\n",
       "    // Check for shift+enter\n",
       "    if (event.shiftKey && event.which == 13) {\n",
       "        this.canvas_div.blur();\n",
       "        event.shiftKey = false;\n",
       "        // Send a \"J\" for go to next cell\n",
       "        event.which = 74;\n",
       "        event.keyCode = 74;\n",
       "        manager.command_mode();\n",
       "        manager.handle_keydown(event);\n",
       "    }\n",
       "}\n",
       "\n",
       "mpl.figure.prototype.handle_save = function(fig, msg) {\n",
       "    fig.ondownload(fig, null);\n",
       "}\n",
       "\n",
       "\n",
       "mpl.find_output_cell = function(html_output) {\n",
       "    // Return the cell and output element which can be found *uniquely* in the notebook.\n",
       "    // Note - this is a bit hacky, but it is done because the \"notebook_saving.Notebook\"\n",
       "    // IPython event is triggered only after the cells have been serialised, which for\n",
       "    // our purposes (turning an active figure into a static one), is too late.\n",
       "    var cells = IPython.notebook.get_cells();\n",
       "    var ncells = cells.length;\n",
       "    for (var i=0; i<ncells; i++) {\n",
       "        var cell = cells[i];\n",
       "        if (cell.cell_type === 'code'){\n",
       "            for (var j=0; j<cell.output_area.outputs.length; j++) {\n",
       "                var data = cell.output_area.outputs[j];\n",
       "                if (data.data) {\n",
       "                    // IPython >= 3 moved mimebundle to data attribute of output\n",
       "                    data = data.data;\n",
       "                }\n",
       "                if (data['text/html'] == html_output) {\n",
       "                    return [cell, data, j];\n",
       "                }\n",
       "            }\n",
       "        }\n",
       "    }\n",
       "}\n",
       "\n",
       "// Register the function which deals with the matplotlib target/channel.\n",
       "// The kernel may be null if the page has been refreshed.\n",
       "if (IPython.notebook.kernel != null) {\n",
       "    IPython.notebook.kernel.comm_manager.register_target('matplotlib', mpl.mpl_figure_comm);\n",
       "}\n"
      ],
      "text/plain": [
       "<IPython.core.display.Javascript object>"
      ]
     },
     "metadata": {},
     "output_type": "display_data"
    },
    {
     "data": {
      "text/html": [
       "<img src=\"data:image/png;base64,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\">"
      ],
      "text/plain": [
       "<IPython.core.display.HTML object>"
      ]
     },
     "metadata": {},
     "output_type": "display_data"
    }
   ],
   "source": [
    "%matplotlib notebook\n",
    "rect_graph.show(descriptions=True,font_size=12,node_size=1200)"
   ]
  },
  {
   "cell_type": "code",
   "execution_count": 86,
   "metadata": {
    "collapsed": true
   },
   "outputs": [],
   "source": [
    "class ColumnModeledGraph(Graph):\n",
    "    \"\"\"Class that transforms column modeled data from one format to another, use set_state to intialize to\n",
    "    your data\"\"\"\n",
    "    def __init__(self,**options):\n",
    "        defaults={\"graph_name\":\"Column Modeled Graph\",\n",
    "                  \"node_names\":['n1','n2'],\n",
    "                  \"node_descriptions\":[\"Pandas Data Frame\",\"AsciiDataTable\"],\n",
    "                  \"current_node\":'n1',\n",
    "                  \"state\":[1,0],\n",
    "                  \"data\":pandas.DataFrame([[1,2,3],[3,4,5]],columns=[\"a\",\"b\",\"c\"]),\n",
    "                  \"edge_2_to_1\":AsciiDataTable_to_DataFrame,\n",
    "                  \"edge_1_to_2\":DataFrame_to_AsciiDataTable}\n",
    "        self.options={}\n",
    "        for key,value in defaults.iteritems():\n",
    "            self.options[key]=value\n",
    "        for key,value in options.iteritems():\n",
    "            self.options[key]=value\n",
    "        Graph.__init__(self,**self.options)\n",
    "        self.add_node(\"n3\",\"n1\",DataFrame_to_hdf,\"n1\",hdf_to_DataFrame)\n",
    "        self.node_descriptions.append(\"HDF File\")\n",
    "        self.add_node(\"n4\",\"n2\",AsciiDataTable_to_XMLDataTable_2,\"n2\",XMLDataTable_to_AsciiDataTable)\n",
    "        self.node_descriptions.append(\"XML Data Table\")\n",
    "        \n",
    "        # Need to add XML File and Html File using save and save_HTML()\n",
    "        self.add_node(\"n5\",\"n1\",DataFrame_to_excel,\"n1\",excel_to_DataFrame)\n",
    "        self.node_descriptions.append(\"Excel File\")\n",
    "        self.add_node(\"n6\",\"n1\",DataFrame_to_HTML_string,\"n1\",HTML_string_to_DataFrame)\n",
    "        self.node_descriptions.append(\"HTML String\")\n",
    "        \n",
    "        # Note a lot of the pandas reading and writing cause float64 round off errors\n",
    "        # applymap(lambda x: np.around(x,10) any all float fields will fix this\n",
    "        # also the column names move about in order\n",
    "        self.add_node(\"n7\",\"n1\",DataFrame_to_json,\"n1\",json_to_DataFrame)\n",
    "        self.node_descriptions.append(\"JSON File\")\n",
    "        self.add_node(\"n8\",\"n1\",DataFrame_to_json_string,\"n1\",json_string_to_DataFrame)\n",
    "        self.node_descriptions.append(\"JSON String\")\n",
    "        self.add_node(\"n9\",\"n1\",DataFrame_to_csv,\"n1\",csv_to_DataFrame)\n",
    "        self.node_descriptions.append(\"CSV File\")\n",
    "        self.add_node(\"n10\",\"n2\",AsciiDataTable_to_Matlab,\"n2\",Matlab_to_AsciiDataTable)\n",
    "        self.node_descriptions.append(\"Matlab File\")\n",
    "        self.add_node(\"n11\",\"n4\",DataTable_to_XML,\"n4\",XML_to_DataTable)\n",
    "        self.node_descriptions.append(\"XML File\")\n",
    "        self.add_node(\"n12\",\"n6\",html_string_to_html_file,\"n6\",html_file_to_html_string)\n",
    "        self.node_descriptions.append(\"HTML File\")\n",
    "        self.add_edge(\"n1\",\"n12\",DataFrame_to_html_file)\n",
    "        self.add_edge(\"n7\",\"n4\",json_to_DataTable)\n",
    "        self.add_edge(\"n9\",\"n2\",csv_to_AsciiDataTable)\n",
    "        \n",
    "    "
   ]
  },
  {
   "cell_type": "code",
   "execution_count": 109,
   "metadata": {
    "collapsed": false
   },
   "outputs": [
    {
     "name": "stdout",
     "output_type": "stream",
     "text": [
      "['edge_n1_n2_000', 'edge_n2_n1_000']\n",
      "moving n1 -> n2\n",
      "moving n2 -> n1\n",
      "['edge_n1_n2_000']\n",
      "moving n1 -> n2\n",
      "['edge_n2_n1_000', 'edge_n1_n3_000']\n",
      "moving n2 -> n1\n",
      "moving n1 -> n3\n",
      "['edge_n3_n1_000', 'edge_n1_n2_000', 'edge_n2_n4_000']\n",
      "moving n3 -> n1\n",
      "moving n1 -> n2\n",
      "moving n2 -> n4\n",
      "['edge_n4_n11_000', 'edge_n11_n4_000', 'edge_n4_n2_000', 'edge_n2_n1_000', 'edge_n1_n5_000']\n",
      "moving n4 -> n11\n",
      "moving n11 -> n4\n",
      "moving n4 -> n2\n",
      "moving n2 -> n1\n",
      "moving n1 -> n5\n",
      "['edge_n5_n1_000', 'edge_n1_n6_000']\n",
      "moving n5 -> n1\n",
      "moving n1 -> n6\n",
      "['edge_n6_n1_000', 'edge_n1_n7_000']\n",
      "moving n6 -> n1\n",
      "moving n1 -> n7\n",
      "['edge_n7_n1_000', 'edge_n1_n8_000']\n",
      "moving n7 -> n1\n",
      "moving n1 -> n8\n",
      "['edge_n8_n1_000', 'edge_n1_n9_000']\n",
      "moving n8 -> n1\n",
      "moving n1 -> n9\n",
      "['edge_n9_n2_000', 'edge_n2_n10_000']\n",
      "moving n9 -> n2\n",
      "moving n2 -> n10\n",
      "['edge_n10_n2_000', 'edge_n2_n4_000', 'edge_n4_n11_000']\n",
      "moving n10 -> n2\n",
      "moving n2 -> n4\n",
      "moving n4 -> n11\n",
      "['edge_n11_n4_000', 'edge_n4_n2_000', 'edge_n2_n1_000', 'edge_n1_n12_000']\n",
      "moving n11 -> n4\n",
      "moving n4 -> n2\n",
      "moving n2 -> n1\n",
      "moving n1 -> n12\n"
     ]
    },
    {
     "data": {
      "text/plain": [
       "True"
      ]
     },
     "execution_count": 109,
     "metadata": {},
     "output_type": "execute_result"
    }
   ],
   "source": [
    "rect_graph.is_graph_isomorphic()"
   ]
  },
  {
   "cell_type": "code",
   "execution_count": 127,
   "metadata": {
    "collapsed": false
   },
   "outputs": [],
   "source": [
    "transform=ColumnModeledGraph(data=data_frame)"
   ]
  },
  {
   "cell_type": "code",
   "execution_count": 128,
   "metadata": {
    "collapsed": false
   },
   "outputs": [
    {
     "data": {
      "text/plain": [
       "{'n1': 'Pandas Data Frame',\n",
       " 'n10': 'Matlab File',\n",
       " 'n11': 'XML File',\n",
       " 'n12': 'HTML File',\n",
       " 'n2': 'AsciiDataTable',\n",
       " 'n3': 'HDF File',\n",
       " 'n4': 'XML Data Table',\n",
       " 'n5': 'Excel File',\n",
       " 'n6': 'HTML String',\n",
       " 'n7': 'JSON File',\n",
       " 'n8': 'JSON String',\n",
       " 'n9': 'CSV File'}"
      ]
     },
     "execution_count": 128,
     "metadata": {},
     "output_type": "execute_result"
    }
   ],
   "source": [
    "transform.get_description_dictionary()"
   ]
  },
  {
   "cell_type": "code",
   "execution_count": 51,
   "metadata": {
    "collapsed": false
   },
   "outputs": [],
   "source": [
    "transform.set_state(node_data=\"test.xlsx\",node_name=\"n5\")"
   ]
  },
  {
   "cell_type": "code",
   "execution_count": 122,
   "metadata": {
    "collapsed": false,
    "scrolled": true
   },
   "outputs": [],
   "source": [
    "data=csv_to_AsciiDataTable(transform.data)"
   ]
  },
  {
   "cell_type": "code",
   "execution_count": 129,
   "metadata": {
    "collapsed": false
   },
   "outputs": [
    {
     "data": {
      "image/png": "[encoded data removed]",
      "text/plain": [
       "<matplotlib.figure.Figure at 0x1217c978>"
      ]
     },
     "metadata": {},
     "output_type": "display_data"
    }
   ],
   "source": [
    "transform.show(descriptions=True)"
   ]
  },
  {
   "cell_type": "code",
   "execution_count": 130,
   "metadata": {
    "collapsed": false
   },
   "outputs": [
    {
     "data": {
      "image/png": "[encoded data removed]",
      "text/plain": [
       "<matplotlib.figure.Figure at 0x13ae3630>"
      ]
     },
     "metadata": {},
     "output_type": "display_data"
    }
   ],
   "source": [
    "transform.show(descriptions=False)"
   ]
  },
  {
   "cell_type": "code",
   "execution_count": 15,
   "metadata": {
    "collapsed": false
   },
   "outputs": [
    {
     "name": "stdout",
     "output_type": "stream",
     "text": [
      "['edge_n2_n1_000', 'edge_n1_n3_000']\n",
      "moving n2 -> n1\n",
      "moving n1 -> n3\n"
     ]
    }
   ],
   "source": [
    "rect_graph.move_to_node(\"n3\")"
   ]
  },
  {
   "cell_type": "code",
   "execution_count": 703,
   "metadata": {
    "collapsed": false
   },
   "outputs": [
    {
     "data": {
      "text/plain": [
       "['edge_n6_n12_000', 'edge_n1_n12_000']"
      ]
     },
     "execution_count": 703,
     "metadata": {},
     "output_type": "execute_result"
    }
   ],
   "source": [
    "rect_graph.get_entering_edges(\"n12\")"
   ]
  },
  {
   "cell_type": "code",
   "execution_count": 8,
   "metadata": {
    "collapsed": false
   },
   "outputs": [],
   "source": [
    "path=rect_graph.get_path(\"n11\",\"n12\")"
   ]
  },
  {
   "cell_type": "code",
   "execution_count": 621,
   "metadata": {
    "collapsed": false
   },
   "outputs": [
    {
     "data": {
      "text/plain": [
       "['edge_n1_n2_000',\n",
       " 'edge_n1_n3_000',\n",
       " 'edge_n1_n5_000',\n",
       " 'edge_n1_n6_000',\n",
       " 'edge_n1_n7_000',\n",
       " 'edge_n1_n8_000',\n",
       " 'edge_n1_n9_000',\n",
       " 'edge_n1_n12_000']"
      ]
     },
     "execution_count": 621,
     "metadata": {},
     "output_type": "execute_result"
    }
   ],
   "source": [
    "rect_graph.get_exiting_edges(\"n1\")"
   ]
  },
  {
   "cell_type": "code",
   "execution_count": 705,
   "metadata": {
    "collapsed": false
   },
   "outputs": [
    {
     "name": "stdout",
     "output_type": "stream",
     "text": [
      "next_edge was already in path\n"
     ]
    }
   ],
   "source": [
    "path=rect_graph.get_path(\"n11\",\"n12\")"
   ]
  },
  {
   "cell_type": "code",
   "execution_count": 120,
   "metadata": {
    "collapsed": false
   },
   "outputs": [
    {
     "data": {
      "text/plain": [
       "['edge_n9_n1_000', 'edge_n1_n2_000']"
      ]
     },
     "execution_count": 120,
     "metadata": {},
     "output_type": "execute_result"
    }
   ],
   "source": [
    "rect_graph.get_path(\"n9\",\"n2\")"
   ]
  },
  {
   "cell_type": "code",
   "execution_count": 9,
   "metadata": {
    "collapsed": false
   },
   "outputs": [
    {
     "data": {
      "text/plain": [
       "['edge_n11_n4_000', 'edge_n4_n2_000', 'edge_n2_n1_000', 'edge_n1_n12_000']"
      ]
     },
     "execution_count": 9,
     "metadata": {},
     "output_type": "execute_result"
    }
   ],
   "source": [
    "path"
   ]
  },
  {
   "cell_type": "code",
   "execution_count": 544,
   "metadata": {
    "collapsed": true
   },
   "outputs": [],
   "source": [
    "def remove_circular_paths(path):\n",
    "    \"\"\"Removes pieces of the path that just end on the same node\"\"\"\n",
    "    edge_pattern=re.compile(\"edge_(?P<begin_node>\\w+)_(?P<end_node>\\w+)_(?P<iterator>\\w+)\")\n",
    "    past_locations=[]\n",
    "    \n",
    "    for index,edge in enumerate(path):\n",
    "        match=re.match(edge_pattern,edge)\n",
    "        begin_node=match.groupdict()[\"begin_node\"]\n",
    "        end_node=match.groupdict()[\"end_node\"]\n",
    "        past_locations.append(begin_node)\n",
    "        #print(\"{0} is {1}\".format(\"past_locations\",past_locations))\n",
    "    new_path=[]\n",
    "    node_index=0\n",
    "    between_list=[False for item in past_locations]\n",
    "    while(node_index<len(past_locations)):\n",
    "        node=past_locations[node_index]\n",
    "        old_path=new_path\n",
    "        new_path=[]\n",
    "        \n",
    "        if past_locations.count(node)>1:\n",
    "            equality_list=map(lambda x:x==node,past_locations)\n",
    "            between=False\n",
    "            for index,equality in enumerate(equality_list):\n",
    "                if equality:\n",
    "                    between=not between\n",
    "                    between_list[index]=between or between_list[index]\n",
    "                else:\n",
    "                    between_list[index]=between or between_list[index] \n",
    "        #print(\"{0} is {1}\".format(\"between_list\",between_list))\n",
    "        for index,item in enumerate(between_list):\n",
    "            if not item:\n",
    "                new_path.append(path[index])\n",
    "        node_index+=1\n",
    "\n",
    "    if new_path in [[]]:\n",
    "        new_path=path\n",
    "                    \n",
    "    return new_path"
   ]
  },
  {
   "cell_type": "code",
   "execution_count": 498,
   "metadata": {
    "collapsed": false
   },
   "outputs": [
    {
     "name": "stdout",
     "output_type": "stream",
     "text": [
      "2\n",
      "0\n",
      "[True, True, False, False, False, False]\n",
      "['n4', 'n2', 'n1', 'n5']\n"
     ]
    }
   ],
   "source": [
    "test_nodes=[\"n4\",\"n11\",\"n4\",\"n2\",\"n1\",\"n5\"]\n",
    "print test_nodes.count(\"n4\")\n",
    "print test_nodes.index(\"n4\")\n",
    "#del test_nodes[0:2]\n",
    "truth_list=map(lambda x:x==\"n4\",test_nodes)\n",
    "out_list=[]\n",
    "non_circular=[]\n",
    "between=False\n",
    "for index,truth in enumerate(truth_list):\n",
    "    if truth:\n",
    "        between=not between\n",
    "        out_list.append(between)\n",
    "    else:\n",
    "        out_list.append(between)\n",
    "for index,item in enumerate(out_list):\n",
    "    if not item:\n",
    "        non_circular.append(test_nodes[index])\n",
    "    \n",
    "print out_list\n",
    "print non_circular"
   ]
  },
  {
   "cell_type": "code",
   "execution_count": 545,
   "metadata": {
    "collapsed": false
   },
   "outputs": [
    {
     "name": "stdout",
     "output_type": "stream",
     "text": [
      "between_list is [True, True, False, False, False, False, False]\n",
      "between_list is [True, True, False, False, False, False, False]\n",
      "between_list is [True, True, False, False, False, False, False]\n",
      "between_list is [True, True, False, False, False, False, False]\n",
      "between_list is [True, True, False, False, True, True, False]\n",
      "between_list is [True, True, False, False, True, True, False]\n",
      "between_list is [True, True, False, False, True, True, False]\n",
      "['edge_n4_n2_000', 'edge_n2_n1_000', 'edge_n1_n5_000']\n"
     ]
    }
   ],
   "source": [
    "print remove_circular_paths(['edge_n4_n11_000',\n",
    " 'edge_n11_n4_000',\n",
    " 'edge_n4_n2_000',\n",
    " 'edge_n2_n1_000',\n",
    " 'edge_n1_n5_000','edge_n5_n1_000',\n",
    " 'edge_n1_n5_000'])"
   ]
  },
  {
   "cell_type": "code",
   "execution_count": 258,
   "metadata": {
    "collapsed": false
   },
   "outputs": [
    {
     "name": "stdout",
     "output_type": "stream",
     "text": [
      "['edge_n4_n2_000', 'edge_n2_n1_000', 'edge_n1_n5_000']\n",
      "moving n4 -> n2\n",
      "moving n2 -> n1\n",
      "moving n1 -> n5\n"
     ]
    }
   ],
   "source": [
    "rect_graph.move_to(path)"
   ]
  },
  {
   "cell_type": "code",
   "execution_count": 117,
   "metadata": {
    "collapsed": false
   },
   "outputs": [
    {
     "name": "stdout",
     "output_type": "stream",
     "text": [
      "['edge_n9_n1_000', 'edge_n1_n2_000']\n",
      "moving n9 -> n1\n",
      "moving n1 -> n2\n"
     ]
    }
   ],
   "source": [
    "rect_graph.move_to_node(\"n2\")"
   ]
  },
  {
   "cell_type": "code",
   "execution_count": null,
   "metadata": {
    "collapsed": true
   },
   "outputs": [],
   "source": [
    "xml=AsciiDataTable_to_XMLDataTable(table)"
   ]
  },
  {
   "cell_type": "code",
   "execution_count": null,
   "metadata": {
    "collapsed": false
   },
   "outputs": [],
   "source": [
    "xml.to_tuple_list(xml.get_attribute_names())"
   ]
  },
  {
   "cell_type": "code",
   "execution_count": null,
   "metadata": {
    "collapsed": false
   },
   "outputs": [],
   "source": [
    "xml.to_list(\"a\")"
   ]
  },
  {
   "cell_type": "code",
   "execution_count": null,
   "metadata": {
    "collapsed": false
   },
   "outputs": [],
   "source": [
    "xml.attribute_names"
   ]
  },
  {
   "cell_type": "code",
   "execution_count": null,
   "metadata": {
    "collapsed": false
   },
   "outputs": [],
   "source": [
    "xml.data"
   ]
  },
  {
   "cell_type": "code",
   "execution_count": null,
   "metadata": {
    "collapsed": false
   },
   "outputs": [],
   "source": [
    "rect_graph.state"
   ]
  },
  {
   "cell_type": "code",
   "execution_count": null,
   "metadata": {
    "collapsed": false
   },
   "outputs": [],
   "source": [
    "path=rect_graph.get_path(\"n5\",\"n1\")"
   ]
  },
  {
   "cell_type": "code",
   "execution_count": null,
   "metadata": {
    "collapsed": false
   },
   "outputs": [],
   "source": [
    "rect_graph.path_length(path)"
   ]
  },
  {
   "cell_type": "code",
   "execution_count": null,
   "metadata": {
    "collapsed": false
   },
   "outputs": [],
   "source": [
    "rect_graph.move_to_node(\"n1\")"
   ]
  },
  {
   "cell_type": "code",
   "execution_count": 22,
   "metadata": {
    "collapsed": false
   },
   "outputs": [
    {
     "name": "stdout",
     "output_type": "stream",
     "text": [
      "['edge_n2_n1_000']\n",
      "moving n2 -> n1\n",
      "The length of the path n1-> n1 in s is 0.0201\n",
      "The length of the path n1-> n2 in s is 0.0126\n",
      "The length of the path n1-> n3 in s is 0.0097\n",
      "The length of the path n1-> n4 in s is 0.0717\n",
      "The length of the path n1-> n5 in s is 0.1318\n",
      "The length of the path n1-> n6 in s is 0.1193\n",
      "The length of the path n1-> n7 in s is 0.0053\n",
      "The length of the path n1-> n8 in s is 0.0005\n",
      "The length of the path n1-> n9 in s is 0.0091\n",
      "The length of the path n1-> n10 in s is 0.0142\n",
      "The length of the path n1-> n11 in s is 0.4164\n",
      "The length of the path n1-> n12 in s is 0.1273\n"
     ]
    }
   ],
   "source": [
    "rect_graph.move_to_node(\"n1\")\n",
    "for node in rect_graph.node_names:\n",
    "    path=rect_graph.get_path(\"n1\",node)\n",
    "    print(\"The length of the path n1-> {0} in s is {1}\".format(node,rect_graph.path_length(path)))"
   ]
  },
  {
   "cell_type": "code",
   "execution_count": 23,
   "metadata": {
    "collapsed": false
   },
   "outputs": [
    {
     "data": {
      "text/plain": [
       "[1, 0, 0, 0, 0, 0, 0, 0, 0, 0, 0, 0]"
      ]
     },
     "execution_count": 23,
     "metadata": {},
     "output_type": "execute_result"
    }
   ],
   "source": [
    "rect_graph.state"
   ]
  },
  {
   "cell_type": "code",
   "execution_count": 115,
   "metadata": {
    "collapsed": false
   },
   "outputs": [
    {
     "name": "stdout",
     "output_type": "stream",
     "text": [
      "['edge_n7_n4_000']\n",
      "moving n7 -> n4\n"
     ]
    }
   ],
   "source": [
    "rect_graph.move_to_node(\"n4\")"
   ]
  },
  {
   "cell_type": "code",
   "execution_count": null,
   "metadata": {
    "collapsed": false
   },
   "outputs": [],
   "source": [
    "html=rect_graph.data.to_html(index=False)"
   ]
  },
  {
   "cell_type": "code",
   "execution_count": null,
   "metadata": {
    "collapsed": true
   },
   "outputs": [],
   "source": [
    "df=pandas.read_html(html)"
   ]
  },
  {
   "cell_type": "code",
   "execution_count": null,
   "metadata": {
    "collapsed": false
   },
   "outputs": [],
   "source": [
    "rect_graph.edges"
   ]
  },
  {
   "cell_type": "code",
   "execution_count": null,
   "metadata": {
    "collapsed": false
   },
   "outputs": [],
   "source": [
    "table=OnePortCalrepModel(os.path.join(TESTS_DIRECTORY,'700437.asc'))\n",
    "rect_graph.set_state(\"n2\",table)"
   ]
  },
  {
   "cell_type": "code",
   "execution_count": 113,
   "metadata": {
    "collapsed": false
   },
   "outputs": [
    {
     "name": "stdout",
     "output_type": "stream",
     "text": [
      "['edge_n2_n1_000', 'edge_n1_n7_000']\n",
      "moving n2 -> n1\n",
      "moving n1 -> n7\n"
     ]
    }
   ],
   "source": [
    "rect_graph.move_to_node(\"n7\")"
   ]
  },
  {
   "cell_type": "code",
   "execution_count": null,
   "metadata": {
    "collapsed": false
   },
   "outputs": [],
   "source": [
    "print rect_graph.data"
   ]
  },
  {
   "cell_type": "code",
   "execution_count": null,
   "metadata": {
    "collapsed": true
   },
   "outputs": [],
   "source": [
    "from ipywidgets import *\n"
   ]
  },
  {
   "cell_type": "code",
   "execution_count": 111,
   "metadata": {
    "collapsed": false
   },
   "outputs": [
    {
     "name": "stdout",
     "output_type": "stream",
     "text": [
      "['edge_n4_n11_000', 'edge_n11_n4_000', 'edge_n4_n2_000', 'edge_n2_n1_000', 'edge_n1_n3_000']\n",
      "moving n4 -> n11\n",
      "moving n11 -> n4\n",
      "moving n4 -> n2\n",
      "moving n2 -> n1\n",
      "moving n1 -> n3\n",
      "********************************************************************************\n",
      "HDF File [0, 0, 1, 0, 0, 0, 0, 0, 0, 0, 0, 0]\n",
      "********************************************************************************\n"
     ]
    },
    {
     "data": {
      "image/png": "[encoded data removed]",
      "text/plain": [
       "<matplotlib.figure.Figure at 0x12b20eb8>"
      ]
     },
     "metadata": {},
     "output_type": "display_data"
    }
   ],
   "source": [
    "%matplotlib inline\n",
    "rect_graph.move_to_node(\"n1\")\n",
    "def move_and_show(end_node_number):\n",
    "    node=rect_graph.node_names[end_node_number]\n",
    "    rect_graph.move_to_node(node)\n",
    "    print(\"*\"*80)\n",
    "    print(\"{0}\".format(rect_graph.node_descriptions[end_node_number])+\" {0}\".format(rect_graph.state))\n",
    "    print(\"*\"*80)\n",
    "    rect_graph.show(descriptions=True)\n",
    "    \n",
    "interact(move_and_show,end_node_number=(0,len(rect_graph.node_names)-1,1))"
   ]
  },
  {
   "cell_type": "code",
   "execution_count": 12,
   "metadata": {
    "collapsed": false,
    "scrolled": true
   },
   "outputs": [
    {
     "name": "stdout",
     "output_type": "stream",
     "text": [
      "['edge_n10_n2_000', 'edge_n2_n1_000', 'edge_n1_n12_000']\n",
      "moving n10 -> n2\n",
      "moving n2 -> n1\n",
      "moving n1 -> n12\n",
      "********************************************************************************\n",
      "HTML File [0, 0, 0, 0, 0, 0, 0, 0, 0, 0, 0, 1]\n",
      "********************************************************************************\n",
      "test.html\n"
     ]
    }
   ],
   "source": [
    "def move_and_print(end_node_number):\n",
    "    node=rect_graph.node_names[end_node_number]\n",
    "    rect_graph.move_to_node(node)\n",
    "    print(\"*\"*80)\n",
    "    print(\"{0}\".format(rect_graph.node_descriptions[end_node_number])+\" {0}\".format(rect_graph.state))\n",
    "    print(\"*\"*80)\n",
    "    print rect_graph.data\n",
    "    \n",
    "interact(move_and_print,end_node_number=(0,len(rect_graph.node_names)-1,1))"
   ]
  },
  {
   "cell_type": "code",
   "execution_count": null,
   "metadata": {
    "collapsed": true
   },
   "outputs": [],
   "source": [
    "json=data_frame.to_json(\"test.json\",orient='records')"
   ]
  },
  {
   "cell_type": "code",
   "execution_count": null,
   "metadata": {
    "collapsed": true
   },
   "outputs": [],
   "source": [
    "json_string=data_frame.to_json(orient='records')"
   ]
  },
  {
   "cell_type": "code",
   "execution_count": null,
   "metadata": {
    "collapsed": false
   },
   "outputs": [],
   "source": [
    "new_df=pandas.read_json(json_string,orient='records')"
   ]
  },
  {
   "cell_type": "code",
   "execution_count": null,
   "metadata": {
    "collapsed": false
   },
   "outputs": [],
   "source": [
    "new_df=pandas.read_json(\"test.json\",orient='records')"
   ]
  },
  {
   "cell_type": "code",
   "execution_count": null,
   "metadata": {
    "collapsed": false
   },
   "outputs": [],
   "source": [
    "#str(table.get_data_dictionary_list())\n",
    "json"
   ]
  },
  {
   "cell_type": "code",
   "execution_count": null,
   "metadata": {
    "collapsed": false
   },
   "outputs": [],
   "source": [
    "rect_graph.node_descriptions\n"
   ]
  },
  {
   "cell_type": "code",
   "execution_count": null,
   "metadata": {
    "collapsed": false
   },
   "outputs": [],
   "source": [
    "import json\n",
    "test_list=json.load(open(\"test.json\",'r'))"
   ]
  },
  {
   "cell_type": "code",
   "execution_count": null,
   "metadata": {
    "collapsed": false
   },
   "outputs": [],
   "source": [
    "text_xml=DataTable(None,**{\"data_dictionary\":{\"data\":test_list}})"
   ]
  },
  {
   "cell_type": "code",
   "execution_count": null,
   "metadata": {
    "collapsed": false
   },
   "outputs": [],
   "source": [
    "#print text_xml"
   ]
  },
  {
   "cell_type": "code",
   "execution_count": null,
   "metadata": {
    "collapsed": false
   },
   "outputs": [],
   "source": [
    "rect_graph.edges"
   ]
  },
  {
   "cell_type": "code",
   "execution_count": null,
   "metadata": {
    "collapsed": false
   },
   "outputs": [],
   "source": [
    "rect_graph.move_to_node(\"n7\")"
   ]
  },
  {
   "cell_type": "code",
   "execution_count": null,
   "metadata": {
    "collapsed": false
   },
   "outputs": [],
   "source": [
    "rect_graph.move_to_node(\"n4\")"
   ]
  },
  {
   "cell_type": "code",
   "execution_count": null,
   "metadata": {
    "collapsed": false
   },
   "outputs": [],
   "source": [
    "#print rect_graph.data"
   ]
  },
  {
   "cell_type": "code",
   "execution_count": null,
   "metadata": {
    "collapsed": true
   },
   "outputs": [],
   "source": [
    "from scipy.io import savemat,loadmat"
   ]
  },
  {
   "cell_type": "code",
   "execution_count": null,
   "metadata": {
    "collapsed": false
   },
   "outputs": [],
   "source": [
    "savemat(\"data.mat\",{\"data\":table.data,\"column_names\":table.column_names})"
   ]
  },
  {
   "cell_type": "code",
   "execution_count": null,
   "metadata": {
    "collapsed": false
   },
   "outputs": [],
   "source": [
    "data=loadmat(\"data.mat\")"
   ]
  },
  {
   "cell_type": "code",
   "execution_count": null,
   "metadata": {
    "collapsed": false
   },
   "outputs": [],
   "source": [
    "new_table=AsciiDataTable(None,column_names=map(lambda x: x.rstrip().lstrip(),data[\"column_names\"].tolist()),\n",
    "                         data=data[\"data\"].tolist())"
   ]
  },
  {
   "cell_type": "code",
   "execution_count": null,
   "metadata": {
    "collapsed": false
   },
   "outputs": [],
   "source": [
    "rect_graph.move_to_node(\"n4\")\n",
    "xml=rect_graph.data"
   ]
  },
  {
   "cell_type": "code",
   "execution_count": null,
   "metadata": {
    "collapsed": true
   },
   "outputs": [],
   "source": [
    "import sqlite3\n",
    "import odo"
   ]
  },
  {
   "cell_type": "code",
   "execution_count": null,
   "metadata": {
    "collapsed": false
   },
   "outputs": [],
   "source": [
    "data_frame.dtypes[0]"
   ]
  },
  {
   "cell_type": "code",
   "execution_count": null,
   "metadata": {
    "collapsed": false
   },
   "outputs": [],
   "source": [
    "conn = sqlite3.connect(\"test.db\")\n",
    "conn.execute(\"create table data\")\n",
    "odo.odo(data_frame,'sqlite:///test.db::data')"
   ]
  },
  {
   "cell_type": "code",
   "execution_count": 15,
   "metadata": {
    "collapsed": false
   },
   "outputs": [
    {
     "name": "stdout",
     "output_type": "stream",
     "text": [
      "The self.metadata[\"Device_Id\"] variable is 700437\n"
     ]
    }
   ],
   "source": [
    "one_port=OnePortCalrepModel(os.path.join(TESTS_DIRECTORY,'700437.asc'))"
   ]
  },
  {
   "cell_type": "code",
   "execution_count": null,
   "metadata": {
    "collapsed": false
   },
   "outputs": [],
   "source": [
    "one_port.header"
   ]
  },
  {
   "cell_type": "code",
   "execution_count": null,
   "metadata": {
    "collapsed": false
   },
   "outputs": [],
   "source": [
    "one_port.column_names"
   ]
  },
  {
   "cell_type": "code",
   "execution_count": 18,
   "metadata": {
    "collapsed": false
   },
   "outputs": [
    {
     "data": {
      "text/plain": [
       "{'Analysis_Date': '16-Oct-15', 'Device_Id': '700437'}"
      ]
     },
     "execution_count": 18,
     "metadata": {},
     "output_type": "execute_result"
    }
   ],
   "source": [
    "one_port.metadata"
   ]
  },
  {
   "cell_type": "code",
   "execution_count": 19,
   "metadata": {
    "collapsed": false
   },
   "outputs": [
    {
     "name": "stdout",
     "output_type": "stream",
     "text": [
      "header\n",
      "column_names\n",
      "data\n",
      "footer\n",
      "inline_comments\n",
      "metadata\n"
     ]
    }
   ],
   "source": [
    "for element in one_port.elements:\n",
    "    print element"
   ]
  },
  {
   "cell_type": "code",
   "execution_count": null,
   "metadata": {
    "collapsed": false
   },
   "outputs": [],
   "source": [
    "header_table=pandas.DataFrame(one_port.header,columns=[\"Header_Line_Content\"])\n",
    "data_table=pandas.DataFrame(one_port.data,columns=one_port.column_names)\n",
    "footer_table=pandas.DataFrame(one_port.footer,columns=[\"Footer_Line_Content\"])\n",
    "inline_comments=pandas.DataFrame(one_port.footer,columns=[\"Line\",\"Location\",\"Comment\"])\n",
    "metadata_table=pandas.DataFrame([[key,value] for key,value in one_port.metadata.iteritems() ], \n",
    "                                columns=[\"Property\",\"Value\"])"
   ]
  },
  {
   "cell_type": "code",
   "execution_count": null,
   "metadata": {
    "collapsed": false
   },
   "outputs": [],
   "source": [
    "header_table"
   ]
  },
  {
   "cell_type": "code",
   "execution_count": 129,
   "metadata": {
    "collapsed": false
   },
   "outputs": [],
   "source": [
    "# Move this to a DataTable Graph Example\n",
    "def AsciiDataTable_to_DataFrame_dict(AsciiDataTable):\n",
    "    \"\"\"Converts an AsciiDataTable to a dictionary of pandas.DataFrame s\"\"\"\n",
    "    output_dict={}\n",
    "    for element in AsciiDataTable.elements:\n",
    "        #print(\"{0} is {1}\".format('element',element))\n",
    "        if AsciiDataTable.__dict__[element]:\n",
    "            if re.search('header',element,re.IGNORECASE):\n",
    "                header_table=pandas.DataFrame(AsciiDataTable.header,columns=[\"Header_Line_Content\"])\n",
    "                output_dict[\"Header\"]=header_table\n",
    "            # needs to be before data search    \n",
    "            elif re.search('meta',element,re.IGNORECASE):\n",
    "                #print(\"{0} is {1}\".format('element',element))\n",
    "                metadata_table=pandas.DataFrame([[key,value] for key,value in AsciiDataTable.metadata.iteritems()], \n",
    "                                columns=[\"Property\",\"Value\"])\n",
    "                output_dict[\"Metadata\"]=metadata_table    \n",
    "            elif re.search('data|^meta',element,re.IGNORECASE):\n",
    "                \n",
    "                data_table=pandas.DataFrame(AsciiDataTable.data,columns=AsciiDataTable.column_names)\n",
    "                output_dict[\"Data\"]=data_table\n",
    "                \n",
    "            elif re.search('footer',element,re.IGNORECASE):\n",
    "                footer_table=pandas.DataFrame(AsciiDataTable.footer,columns=[\"Footer_Line_Content\"])\n",
    "                output_dict[\"Footer\"]=footer_table\n",
    "                \n",
    "            elif re.search('comment',element,re.IGNORECASE):\n",
    "                comments=AsciiDataTable.__dict__[element]\n",
    "                inline_comments=pandas.DataFrame(comments,columns=[\"Comment\",\"Line\",\"Location\"])\n",
    "                output_dict[\"Comments\"]=inline_comments\n",
    "    return output_dict\n",
    "\n",
    "def DataFrame_dict_to_AsciiDataTable(DataFrame_dict,**options):\n",
    "    \"\"\"Given a dictionary of pandas DataFrames returns an AsciiDataTable\"\"\"\n",
    "    defaults={\"inline_comment_begin\":\"!\",\"inline_comment_end\":\"\\n\"}\n",
    "    table_options={}\n",
    "    for key,value in defaults.iteritems():\n",
    "        table_options[key]=value\n",
    "    for key,value in options.iteritems():\n",
    "        table_options[key]=value\n",
    "    keys=DataFrame_dict.keys()\n",
    "    for key in keys:\n",
    "        table_key=key\n",
    "        if key in[\"comments\",\"Comments\",\"inline_comments\",\"Inline_Comments\"]:\n",
    "            table_key=\"inline_comments\"\n",
    "        if key in [\"data\",\"Data\"]:\n",
    "            table_options[\"column_names\"]=DataFrame_dict[key].columns.tolist()\n",
    "            \n",
    "        table_options[table_key.lower()]=DataFrame_dict[key].as_matrix().tolist()\n",
    "    new_table=AsciiDataTable(None,**table_options)\n",
    "    return new_table\n",
    "        \n",
    "    "
   ]
  },
  {
   "cell_type": "code",
   "execution_count": 43,
   "metadata": {
    "collapsed": false
   },
   "outputs": [],
   "source": [
    "panda_dict=AsciiDataTable_to_DataFrame_dict(one_port)"
   ]
  },
  {
   "cell_type": "code",
   "execution_count": 44,
   "metadata": {
    "collapsed": false
   },
   "outputs": [
    {
     "data": {
      "text/html": [
       "<div>\n",
       "<table border=\"1\" class=\"dataframe\">\n",
       "  <thead>\n",
       "    <tr style=\"text-align: right;\">\n",
       "      <th></th>\n",
       "      <th>Property</th>\n",
       "      <th>Value</th>\n",
       "    </tr>\n",
       "  </thead>\n",
       "  <tbody>\n",
       "    <tr>\n",
       "      <th>0</th>\n",
       "      <td>Analysis_Date</td>\n",
       "      <td>16-Oct-15</td>\n",
       "    </tr>\n",
       "    <tr>\n",
       "      <th>1</th>\n",
       "      <td>Device_Id</td>\n",
       "      <td>700437</td>\n",
       "    </tr>\n",
       "  </tbody>\n",
       "</table>\n",
       "</div>"
      ],
      "text/plain": [
       "        Property      Value\n",
       "0  Analysis_Date  16-Oct-15\n",
       "1      Device_Id     700437"
      ]
     },
     "execution_count": 44,
     "metadata": {},
     "output_type": "execute_result"
    }
   ],
   "source": [
    "panda_dict[\"Metadata\"]"
   ]
  },
  {
   "cell_type": "code",
   "execution_count": 46,
   "metadata": {
    "collapsed": false
   },
   "outputs": [],
   "source": [
    "#panda_dict[\"Data\"]"
   ]
  },
  {
   "cell_type": "code",
   "execution_count": 107,
   "metadata": {
    "collapsed": true
   },
   "outputs": [],
   "source": [
    "def DataFrame_dict_to_excel(DataFrame_dict,excel_file_name=\"Test.xlsx\"):\n",
    "    \"\"\"Converts a dictionary of pandas DataFrames to a single excel file with sheet names\n",
    "    determined by keys\"\"\"\n",
    "    # sort the keys so that they will display in the same order\n",
    "    writer = pandas.ExcelWriter(excel_file_name)\n",
    "    keys=sorted(DataFrame_dict.keys())\n",
    "    for key in keys:\n",
    "        #print key\n",
    "        DataFrame_dict[key].to_excel(writer,sheet_name=key,index=False)\n",
    "    writer.close()\n",
    "    return excel_file_name\n",
    "\n",
    "def excel_to_DataFrame_dict(excel_file_name):\n",
    "    \"\"\"Reads an excel file into a dictionary of data frames\"\"\"\n",
    "    data_frame_dictionary=pandas.read_excel(excel_file_name,sheetname=None)\n",
    "    return data_frame_dictionary\n",
    "\n",
    "def DataFrame_dict_to_hdf(DataFrame_dict,hdf_file_name=\"Test.hd5\"):\n",
    "    \"\"\"Transforms a dictionary of pandas.DataFrames to a single HD5 file with groups determined by the keys\"\"\"\n",
    "    keys=sorted(DataFrame_dict.keys())\n",
    "    for key in keys:\n",
    "        DataFrame_dict[key].to_hdf(hdf_file_name,key)\n",
    "    return hdf_file_name\n",
    "\n",
    "def hdf_to_DataFrame_dict(hdf_file_name):\n",
    "    \"\"\"Creates a dictionary of pandas.DataFrames given a hd5 file name, does this require the table names?\n",
    "    \"\"\"\n",
    "    hdf=h5py.File(hdf_file_name)\n",
    "    keys=hdf.keys()\n",
    "    pandas_dictionary={key:pandas.read_hdf(hdf_file_name,key) for key in keys}\n",
    "    return pandas_dictionary\n",
    "    "
   ]
  },
  {
   "cell_type": "code",
   "execution_count": null,
   "metadata": {
    "collapsed": false
   },
   "outputs": [],
   "source": [
    "DataFrame_dict_to_excel(panda_dict)"
   ]
  },
  {
   "cell_type": "code",
   "execution_count": null,
   "metadata": {
    "collapsed": true
   },
   "outputs": [],
   "source": [
    "test_dict=pandas.read_excel(\"Test.xlsx\",sheetname=None)"
   ]
  },
  {
   "cell_type": "code",
   "execution_count": null,
   "metadata": {
    "collapsed": false
   },
   "outputs": [],
   "source": [
    "test_dict[\"Header\"]"
   ]
  },
  {
   "cell_type": "code",
   "execution_count": 48,
   "metadata": {
    "collapsed": false
   },
   "outputs": [],
   "source": [
    "raw_table=TwoPortRawModel(os.path.join(TESTS_DIRECTORY,'TestFileTwoPortRaw.txt'))"
   ]
  },
  {
   "cell_type": "code",
   "execution_count": 49,
   "metadata": {
    "collapsed": false
   },
   "outputs": [],
   "source": [
    "test_dict=AsciiDataTable_to_DataFrame_dict(raw_table)"
   ]
  },
  {
   "cell_type": "code",
   "execution_count": 50,
   "metadata": {
    "collapsed": false
   },
   "outputs": [
    {
     "data": {
      "text/plain": [
       "['Header', 'Data', 'Metadata']"
      ]
     },
     "execution_count": 50,
     "metadata": {},
     "output_type": "execute_result"
    }
   ],
   "source": [
    "test_dict.keys()"
   ]
  },
  {
   "cell_type": "code",
   "execution_count": 40,
   "metadata": {
    "collapsed": false
   },
   "outputs": [
    {
     "data": {
      "text/html": [
       "<div>\n",
       "<table border=\"1\" class=\"dataframe\">\n",
       "  <thead>\n",
       "    <tr style=\"text-align: right;\">\n",
       "      <th></th>\n",
       "      <th>Property</th>\n",
       "      <th>Value</th>\n",
       "    </tr>\n",
       "  </thead>\n",
       "  <tbody>\n",
       "    <tr>\n",
       "      <th>0</th>\n",
       "      <td>Connector_Type_Calibration</td>\n",
       "      <td></td>\n",
       "    </tr>\n",
       "    <tr>\n",
       "      <th>1</th>\n",
       "      <td>Number_Connects</td>\n",
       "      <td>3</td>\n",
       "    </tr>\n",
       "    <tr>\n",
       "      <th>2</th>\n",
       "      <td>Connector_Type_Measurement</td>\n",
       "      <td>N</td>\n",
       "    </tr>\n",
       "    <tr>\n",
       "      <th>3</th>\n",
       "      <td>Number_Repeats</td>\n",
       "      <td>1</td>\n",
       "    </tr>\n",
       "    <tr>\n",
       "      <th>4</th>\n",
       "      <td>Operator</td>\n",
       "      <td>BFR</td>\n",
       "    </tr>\n",
       "    <tr>\n",
       "      <th>5</th>\n",
       "      <td>Number_Frequencies</td>\n",
       "      <td>53</td>\n",
       "    </tr>\n",
       "    <tr>\n",
       "      <th>6</th>\n",
       "      <td>Start_Frequency</td>\n",
       "      <td>7</td>\n",
       "    </tr>\n",
       "    <tr>\n",
       "      <th>7</th>\n",
       "      <td>Measurement_Date</td>\n",
       "      <td>9 Sep 2015</td>\n",
       "    </tr>\n",
       "    <tr>\n",
       "      <th>8</th>\n",
       "      <td>Program_Used</td>\n",
       "      <td>MEASLP</td>\n",
       "    </tr>\n",
       "    <tr>\n",
       "      <th>9</th>\n",
       "      <td>Measurement_Type</td>\n",
       "      <td>2-port</td>\n",
       "    </tr>\n",
       "    <tr>\n",
       "      <th>10</th>\n",
       "      <td>System_Id</td>\n",
       "      <td>HP8510</td>\n",
       "    </tr>\n",
       "    <tr>\n",
       "      <th>11</th>\n",
       "      <td>Nbs</td>\n",
       "      <td>4</td>\n",
       "    </tr>\n",
       "    <tr>\n",
       "      <th>12</th>\n",
       "      <td>Device_Id</td>\n",
       "      <td>CTN208</td>\n",
       "    </tr>\n",
       "    <tr>\n",
       "      <th>13</th>\n",
       "      <td>Measurement_Time</td>\n",
       "      <td>10:31:55</td>\n",
       "    </tr>\n",
       "    <tr>\n",
       "      <th>14</th>\n",
       "      <td>Program_Revision</td>\n",
       "      <td>150122</td>\n",
       "    </tr>\n",
       "    <tr>\n",
       "      <th>15</th>\n",
       "      <td>Port_Used</td>\n",
       "      <td>1</td>\n",
       "    </tr>\n",
       "    <tr>\n",
       "      <th>16</th>\n",
       "      <td>Calibration_Date</td>\n",
       "      <td></td>\n",
       "    </tr>\n",
       "    <tr>\n",
       "      <th>17</th>\n",
       "      <td>Device_Description</td>\n",
       "      <td>CHECK STANDARD 20 dB ATTEN</td>\n",
       "    </tr>\n",
       "    <tr>\n",
       "      <th>18</th>\n",
       "      <td>Calibration_Name</td>\n",
       "      <td>c050211.a2</td>\n",
       "    </tr>\n",
       "    <tr>\n",
       "      <th>19</th>\n",
       "      <td>System_Letter</td>\n",
       "      <td>L</td>\n",
       "    </tr>\n",
       "  </tbody>\n",
       "</table>\n",
       "</div>"
      ],
      "text/plain": [
       "                      Property                       Value\n",
       "0   Connector_Type_Calibration                            \n",
       "1              Number_Connects                           3\n",
       "2   Connector_Type_Measurement                           N\n",
       "3               Number_Repeats                           1\n",
       "4                     Operator                         BFR\n",
       "5           Number_Frequencies                          53\n",
       "6              Start_Frequency                           7\n",
       "7             Measurement_Date                  9 Sep 2015\n",
       "8                 Program_Used                      MEASLP\n",
       "9             Measurement_Type                      2-port\n",
       "10                   System_Id                      HP8510\n",
       "11                         Nbs                           4\n",
       "12                   Device_Id                      CTN208\n",
       "13            Measurement_Time                    10:31:55\n",
       "14            Program_Revision                      150122\n",
       "15                   Port_Used                           1\n",
       "16            Calibration_Date                            \n",
       "17          Device_Description  CHECK STANDARD 20 dB ATTEN\n",
       "18            Calibration_Name                  c050211.a2\n",
       "19               System_Letter                           L"
      ]
     },
     "execution_count": 40,
     "metadata": {},
     "output_type": "execute_result"
    }
   ],
   "source": [
    "test_dict[\"Metadata\"]"
   ]
  },
  {
   "cell_type": "code",
   "execution_count": 41,
   "metadata": {
    "collapsed": false
   },
   "outputs": [
    {
     "data": {
      "text/html": [
       "<div>\n",
       "<table border=\"1\" class=\"dataframe\">\n",
       "  <thead>\n",
       "    <tr style=\"text-align: right;\">\n",
       "      <th></th>\n",
       "      <th>Header_Line_Content</th>\n",
       "    </tr>\n",
       "  </thead>\n",
       "  <tbody>\n",
       "    <tr>\n",
       "      <th>0</th>\n",
       "      <td>HP8510</td>\n",
       "    </tr>\n",
       "    <tr>\n",
       "      <th>1</th>\n",
       "      <td>L</td>\n",
       "    </tr>\n",
       "    <tr>\n",
       "      <th>2</th>\n",
       "      <td></td>\n",
       "    </tr>\n",
       "    <tr>\n",
       "      <th>3</th>\n",
       "      <td>N</td>\n",
       "    </tr>\n",
       "    <tr>\n",
       "      <th>4</th>\n",
       "      <td>2-port</td>\n",
       "    </tr>\n",
       "    <tr>\n",
       "      <th>5</th>\n",
       "      <td>9 Sep 2015</td>\n",
       "    </tr>\n",
       "    <tr>\n",
       "      <th>6</th>\n",
       "      <td>10:31:55</td>\n",
       "    </tr>\n",
       "    <tr>\n",
       "      <th>7</th>\n",
       "      <td>MEASLP</td>\n",
       "    </tr>\n",
       "    <tr>\n",
       "      <th>8</th>\n",
       "      <td>150122</td>\n",
       "    </tr>\n",
       "    <tr>\n",
       "      <th>9</th>\n",
       "      <td>BFR</td>\n",
       "    </tr>\n",
       "    <tr>\n",
       "      <th>10</th>\n",
       "      <td>c050211.a2</td>\n",
       "    </tr>\n",
       "    <tr>\n",
       "      <th>11</th>\n",
       "      <td></td>\n",
       "    </tr>\n",
       "    <tr>\n",
       "      <th>12</th>\n",
       "      <td>1</td>\n",
       "    </tr>\n",
       "    <tr>\n",
       "      <th>13</th>\n",
       "      <td>3</td>\n",
       "    </tr>\n",
       "    <tr>\n",
       "      <th>14</th>\n",
       "      <td>1</td>\n",
       "    </tr>\n",
       "    <tr>\n",
       "      <th>15</th>\n",
       "      <td>4</td>\n",
       "    </tr>\n",
       "    <tr>\n",
       "      <th>16</th>\n",
       "      <td>53</td>\n",
       "    </tr>\n",
       "    <tr>\n",
       "      <th>17</th>\n",
       "      <td>7</td>\n",
       "    </tr>\n",
       "    <tr>\n",
       "      <th>18</th>\n",
       "      <td>CHECK STANDARD 20 dB ATTEN                    ...</td>\n",
       "    </tr>\n",
       "    <tr>\n",
       "      <th>19</th>\n",
       "      <td>CTN208</td>\n",
       "    </tr>\n",
       "  </tbody>\n",
       "</table>\n",
       "</div>"
      ],
      "text/plain": [
       "                                  Header_Line_Content\n",
       "0                                        HP8510      \n",
       "1                                                  L \n",
       "2                                                    \n",
       "3                                             N      \n",
       "4                                     2-port         \n",
       "5                                      9 Sep 2015    \n",
       "6                                          10:31:55  \n",
       "7                                          MEASLP    \n",
       "8                                          150122    \n",
       "9                                          BFR       \n",
       "10                                    c050211.a2     \n",
       "11                                                   \n",
       "12                                                  1\n",
       "13                                                  3\n",
       "14                                                  1\n",
       "15                                                  4\n",
       "16                                                 53\n",
       "17                                                  7\n",
       "18  CHECK STANDARD 20 dB ATTEN                    ...\n",
       "19                               CTN208              "
      ]
     },
     "execution_count": 41,
     "metadata": {},
     "output_type": "execute_result"
    }
   ],
   "source": [
    "test_dict[\"Header\"]"
   ]
  },
  {
   "cell_type": "code",
   "execution_count": 53,
   "metadata": {
    "collapsed": true
   },
   "outputs": [],
   "source": [
    "excel=DataFrame_dict_to_excel(test_dict)"
   ]
  },
  {
   "cell_type": "code",
   "execution_count": 56,
   "metadata": {
    "collapsed": false
   },
   "outputs": [],
   "source": [
    "s2p=S2PV1(os.path.join(TESTS_DIRECTORY,'704b.S2P'))"
   ]
  },
  {
   "cell_type": "code",
   "execution_count": 67,
   "metadata": {
    "collapsed": false
   },
   "outputs": [],
   "source": [
    "test_dict=AsciiDataTable_to_DataFrame_dict(s2p)"
   ]
  },
  {
   "cell_type": "code",
   "execution_count": 60,
   "metadata": {
    "collapsed": false
   },
   "outputs": [
    {
     "data": {
      "text/plain": [
       "[['---------------------------------------------------------------------',\n",
       "  0,\n",
       "  0],\n",
       " [' ZVC, 3.52', 1, 0],\n",
       " ['---------------------------------------------------------------------',\n",
       "  2,\n",
       "  0],\n",
       " [' symbol freq-unit parameter-type data-format keyword impedance-ohm', 3, 0],\n",
       " ['---------------------------------------------------------------------',\n",
       "  5,\n",
       "  0],\n",
       " [' freq                dbS11          angS11          dbS21          angS21          dbS12          angS12          dbS22          angS22          ',\n",
       "  6,\n",
       "  0]]"
      ]
     },
     "execution_count": 60,
     "metadata": {},
     "output_type": "execute_result"
    }
   ],
   "source": [
    "s2p.comments"
   ]
  },
  {
   "cell_type": "code",
   "execution_count": 68,
   "metadata": {
    "collapsed": false
   },
   "outputs": [],
   "source": [
    "excel=DataFrame_dict_to_excel(test_dict)"
   ]
  },
  {
   "cell_type": "code",
   "execution_count": 73,
   "metadata": {
    "collapsed": true
   },
   "outputs": [],
   "source": [
    "tet_dict=excel_to_DataFrame_dict(\"test.xlsx\")"
   ]
  },
  {
   "cell_type": "code",
   "execution_count": 79,
   "metadata": {
    "collapsed": false
   },
   "outputs": [
    {
     "data": {
      "text/plain": [
       "['Data', 'Comments']"
      ]
     },
     "execution_count": 79,
     "metadata": {},
     "output_type": "execute_result"
    }
   ],
   "source": [
    "test_dict.keys()"
   ]
  },
  {
   "cell_type": "code",
   "execution_count": 81,
   "metadata": {
    "collapsed": true
   },
   "outputs": [],
   "source": [
    "test_hd5=DataFrame_dict_to_hd5(test_dict)"
   ]
  },
  {
   "cell_type": "code",
   "execution_count": 100,
   "metadata": {
    "collapsed": false
   },
   "outputs": [],
   "source": [
    "import h5py\n",
    "hdf=h5py.File(\"Test.hd5\")\n",
    "keys=hdf.keys()\n",
    "pandas_dictionary={key:pandas.read_hdf(\"Test.hd5\",key) for key in keys}"
   ]
  },
  {
   "cell_type": "code",
   "execution_count": 103,
   "metadata": {
    "collapsed": false
   },
   "outputs": [
    {
     "data": {
      "text/plain": [
       "[u'Comments', u'Data']"
      ]
     },
     "execution_count": 103,
     "metadata": {},
     "output_type": "execute_result"
    }
   ],
   "source": [
    "hdf.keys()"
   ]
  },
  {
   "cell_type": "code",
   "execution_count": 108,
   "metadata": {
    "collapsed": false
   },
   "outputs": [],
   "source": [
    "pandas_dictionary=hdf_to_DataFrame_dict(\"Test.hd5\")"
   ]
  },
  {
   "cell_type": "code",
   "execution_count": 109,
   "metadata": {
    "collapsed": false
   },
   "outputs": [
    {
     "data": {
      "text/plain": [
       "[u'Data', u'Comments']"
      ]
     },
     "execution_count": 109,
     "metadata": {},
     "output_type": "execute_result"
    }
   ],
   "source": [
    "pandas_dictionary.keys()"
   ]
  },
  {
   "cell_type": "code",
   "execution_count": 112,
   "metadata": {
    "collapsed": false
   },
   "outputs": [
    {
     "data": {
      "text/plain": [
       "[['---------------------------------------------------------------------',\n",
       "  0L,\n",
       "  0L],\n",
       " [' ZVC, 3.52', 1L, 0L],\n",
       " ['---------------------------------------------------------------------',\n",
       "  2L,\n",
       "  0L],\n",
       " [' symbol freq-unit parameter-type data-format keyword impedance-ohm',\n",
       "  3L,\n",
       "  0L],\n",
       " ['---------------------------------------------------------------------',\n",
       "  5L,\n",
       "  0L],\n",
       " [' freq                dbS11          angS11          dbS21          angS21          dbS12          angS12          dbS22          angS22          ',\n",
       "  6L,\n",
       "  0L]]"
      ]
     },
     "execution_count": 112,
     "metadata": {},
     "output_type": "execute_result"
    }
   ],
   "source": [
    "pandas_dictionary[\"Comments\"].as_matrix().tolist()"
   ]
  },
  {
   "cell_type": "code",
   "execution_count": 130,
   "metadata": {
    "collapsed": false
   },
   "outputs": [],
   "source": [
    "table=DataFrame_dict_to_AsciiDataTable(pandas_dictionary)"
   ]
  },
  {
   "cell_type": "code",
   "execution_count": 134,
   "metadata": {
    "collapsed": false
   },
   "outputs": [],
   "source": [
    "#print table.get_data_string()"
   ]
  },
  {
   "cell_type": "code",
   "execution_count": 138,
   "metadata": {
    "collapsed": false
   },
   "outputs": [
    {
     "data": {
      "text/plain": [
       "['n1', 'n2', 'n3', 'n4', 'n5', 'n6', 'n7', 'n8', 'n9', 'n10']"
      ]
     },
     "execution_count": 138,
     "metadata": {},
     "output_type": "execute_result"
    }
   ],
   "source": [
    "rect_graph.node_names"
   ]
  },
  {
   "cell_type": "code",
   "execution_count": 139,
   "metadata": {
    "collapsed": true
   },
   "outputs": [],
   "source": [
    "new_graph=networkx.DiGraph()"
   ]
  },
  {
   "cell_type": "code",
   "execution_count": 333,
   "metadata": {
    "collapsed": true
   },
   "outputs": [],
   "source": [
    "for node in rect_graph.node_names:\n",
    "    new_graph.add_node(node)"
   ]
  },
  {
   "cell_type": "code",
   "execution_count": 141,
   "metadata": {
    "collapsed": false
   },
   "outputs": [
    {
     "data": {
      "text/plain": [
       "['edge_n1_n2_000',\n",
       " 'edge_n2_n1_000',\n",
       " 'edge_n3_n1_000',\n",
       " 'edge_n1_n3_000',\n",
       " 'edge_n4_n2_000',\n",
       " 'edge_n2_n4_000',\n",
       " 'edge_n5_n1_000',\n",
       " 'edge_n1_n5_000',\n",
       " 'edge_n6_n1_000',\n",
       " 'edge_n1_n6_000',\n",
       " 'edge_n7_n1_000',\n",
       " 'edge_n1_n7_000',\n",
       " 'edge_n8_n1_000',\n",
       " 'edge_n1_n8_000',\n",
       " 'edge_n9_n1_000',\n",
       " 'edge_n1_n9_000',\n",
       " 'edge_n10_n2_000',\n",
       " 'edge_n2_n10_000',\n",
       " 'edge_n7_n4_000']"
      ]
     },
     "execution_count": 141,
     "metadata": {},
     "output_type": "execute_result"
    }
   ],
   "source": [
    "rect_graph.edges"
   ]
  },
  {
   "cell_type": "code",
   "execution_count": 143,
   "metadata": {
    "collapsed": false
   },
   "outputs": [],
   "source": [
    "edge_pattern=re.compile(\"edge_(?P<begin_node>\\w+)_(?P<end_node>\\w+)_(?P<iterator>\\w+)\")"
   ]
  },
  {
   "cell_type": "code",
   "execution_count": 332,
   "metadata": {
    "collapsed": false
   },
   "outputs": [
    {
     "name": "stdout",
     "output_type": "stream",
     "text": [
      "Begin Node = n1, End Node= n2\n",
      "Begin Node = n2, End Node= n1\n",
      "Begin Node = n3, End Node= n1\n",
      "Begin Node = n1, End Node= n3\n",
      "Begin Node = n4, End Node= n2\n",
      "Begin Node = n2, End Node= n4\n",
      "Begin Node = n5, End Node= n1\n",
      "Begin Node = n1, End Node= n5\n",
      "Begin Node = n6, End Node= n1\n",
      "Begin Node = n1, End Node= n6\n",
      "Begin Node = n7, End Node= n1\n",
      "Begin Node = n1, End Node= n7\n",
      "Begin Node = n8, End Node= n1\n",
      "Begin Node = n1, End Node= n8\n",
      "Begin Node = n9, End Node= n1\n",
      "Begin Node = n1, End Node= n9\n",
      "Begin Node = n10, End Node= n2\n",
      "Begin Node = n2, End Node= n10\n",
      "Begin Node = n11, End Node= n4\n",
      "Begin Node = n4, End Node= n11\n",
      "Begin Node = n7, End Node= n4\n"
     ]
    }
   ],
   "source": [
    "for edge in rect_graph.edges:\n",
    "    match=re.match(edge_pattern,edge)\n",
    "    if match:\n",
    "        begin_node=match.groupdict()[\"begin_node\"]\n",
    "        end_node=match.groupdict()[\"end_node\"]\n",
    "        new_graph.add_edge(begin_node,end_node)\n",
    "        print(\"Begin Node = {0}, End Node= {1}\".format(begin_node,end_node))"
   ]
  },
  {
   "cell_type": "code",
   "execution_count": 150,
   "metadata": {
    "collapsed": true
   },
   "outputs": [],
   "source": [
    "networkx.draw_networkx(new_graph,arrows=True)\n",
    "plt.show()"
   ]
  },
  {
   "cell_type": "code",
   "execution_count": 334,
   "metadata": {
    "collapsed": false
   },
   "outputs": [
    {
     "data": {
      "application/javascript": [
       "/* Put everything inside the global mpl namespace */\n",
       "window.mpl = {};\n",
       "\n",
       "mpl.get_websocket_type = function() {\n",
       "    if (typeof(WebSocket) !== 'undefined') {\n",
       "        return WebSocket;\n",
       "    } else if (typeof(MozWebSocket) !== 'undefined') {\n",
       "        return MozWebSocket;\n",
       "    } else {\n",
       "        alert('Your browser does not have WebSocket support.' +\n",
       "              'Please try Chrome, Safari or Firefox ≥ 6. ' +\n",
       "              'Firefox 4 and 5 are also supported but you ' +\n",
       "              'have to enable WebSockets in about:config.');\n",
       "    };\n",
       "}\n",
       "\n",
       "mpl.figure = function(figure_id, websocket, ondownload, parent_element) {\n",
       "    this.id = figure_id;\n",
       "\n",
       "    this.ws = websocket;\n",
       "\n",
       "    this.supports_binary = (this.ws.binaryType != undefined);\n",
       "\n",
       "    if (!this.supports_binary) {\n",
       "        var warnings = document.getElementById(\"mpl-warnings\");\n",
       "        if (warnings) {\n",
       "            warnings.style.display = 'block';\n",
       "            warnings.textContent = (\n",
       "                \"This browser does not support binary websocket messages. \" +\n",
       "                    \"Performance may be slow.\");\n",
       "        }\n",
       "    }\n",
       "\n",
       "    this.imageObj = new Image();\n",
       "\n",
       "    this.context = undefined;\n",
       "    this.message = undefined;\n",
       "    this.canvas = undefined;\n",
       "    this.rubberband_canvas = undefined;\n",
       "    this.rubberband_context = undefined;\n",
       "    this.format_dropdown = undefined;\n",
       "\n",
       "    this.image_mode = 'full';\n",
       "\n",
       "    this.root = $('<div/>');\n",
       "    this._root_extra_style(this.root)\n",
       "    this.root.attr('style', 'display: inline-block');\n",
       "\n",
       "    $(parent_element).append(this.root);\n",
       "\n",
       "    this._init_header(this);\n",
       "    this._init_canvas(this);\n",
       "    this._init_toolbar(this);\n",
       "\n",
       "    var fig = this;\n",
       "\n",
       "    this.waiting = false;\n",
       "\n",
       "    this.ws.onopen =  function () {\n",
       "            fig.send_message(\"supports_binary\", {value: fig.supports_binary});\n",
       "            fig.send_message(\"send_image_mode\", {});\n",
       "            fig.send_message(\"refresh\", {});\n",
       "        }\n",
       "\n",
       "    this.imageObj.onload = function() {\n",
       "            if (fig.image_mode == 'full') {\n",
       "                // Full images could contain transparency (where diff images\n",
       "                // almost always do), so we need to clear the canvas so that\n",
       "                // there is no ghosting.\n",
       "                fig.context.clearRect(0, 0, fig.canvas.width, fig.canvas.height);\n",
       "            }\n",
       "            fig.context.drawImage(fig.imageObj, 0, 0);\n",
       "        };\n",
       "\n",
       "    this.imageObj.onunload = function() {\n",
       "        this.ws.close();\n",
       "    }\n",
       "\n",
       "    this.ws.onmessage = this._make_on_message_function(this);\n",
       "\n",
       "    this.ondownload = ondownload;\n",
       "}\n",
       "\n",
       "mpl.figure.prototype._init_header = function() {\n",
       "    var titlebar = $(\n",
       "        '<div class=\"ui-dialog-titlebar ui-widget-header ui-corner-all ' +\n",
       "        'ui-helper-clearfix\"/>');\n",
       "    var titletext = $(\n",
       "        '<div class=\"ui-dialog-title\" style=\"width: 100%; ' +\n",
       "        'text-align: center; padding: 3px;\"/>');\n",
       "    titlebar.append(titletext)\n",
       "    this.root.append(titlebar);\n",
       "    this.header = titletext[0];\n",
       "}\n",
       "\n",
       "\n",
       "\n",
       "mpl.figure.prototype._canvas_extra_style = function(canvas_div) {\n",
       "\n",
       "}\n",
       "\n",
       "\n",
       "mpl.figure.prototype._root_extra_style = function(canvas_div) {\n",
       "\n",
       "}\n",
       "\n",
       "mpl.figure.prototype._init_canvas = function() {\n",
       "    var fig = this;\n",
       "\n",
       "    var canvas_div = $('<div/>');\n",
       "\n",
       "    canvas_div.attr('style', 'position: relative; clear: both; outline: 0');\n",
       "\n",
       "    function canvas_keyboard_event(event) {\n",
       "        return fig.key_event(event, event['data']);\n",
       "    }\n",
       "\n",
       "    canvas_div.keydown('key_press', canvas_keyboard_event);\n",
       "    canvas_div.keyup('key_release', canvas_keyboard_event);\n",
       "    this.canvas_div = canvas_div\n",
       "    this._canvas_extra_style(canvas_div)\n",
       "    this.root.append(canvas_div);\n",
       "\n",
       "    var canvas = $('<canvas/>');\n",
       "    canvas.addClass('mpl-canvas');\n",
       "    canvas.attr('style', \"left: 0; top: 0; z-index: 0; outline: 0\")\n",
       "\n",
       "    this.canvas = canvas[0];\n",
       "    this.context = canvas[0].getContext(\"2d\");\n",
       "\n",
       "    var rubberband = $('<canvas/>');\n",
       "    rubberband.attr('style', \"position: absolute; left: 0; top: 0; z-index: 1;\")\n",
       "\n",
       "    var pass_mouse_events = true;\n",
       "\n",
       "    canvas_div.resizable({\n",
       "        start: function(event, ui) {\n",
       "            pass_mouse_events = false;\n",
       "        },\n",
       "        resize: function(event, ui) {\n",
       "            fig.request_resize(ui.size.width, ui.size.height);\n",
       "        },\n",
       "        stop: function(event, ui) {\n",
       "            pass_mouse_events = true;\n",
       "            fig.request_resize(ui.size.width, ui.size.height);\n",
       "        },\n",
       "    });\n",
       "\n",
       "    function mouse_event_fn(event) {\n",
       "        if (pass_mouse_events)\n",
       "            return fig.mouse_event(event, event['data']);\n",
       "    }\n",
       "\n",
       "    rubberband.mousedown('button_press', mouse_event_fn);\n",
       "    rubberband.mouseup('button_release', mouse_event_fn);\n",
       "    // Throttle sequential mouse events to 1 every 20ms.\n",
       "    rubberband.mousemove('motion_notify', mouse_event_fn);\n",
       "\n",
       "    rubberband.mouseenter('figure_enter', mouse_event_fn);\n",
       "    rubberband.mouseleave('figure_leave', mouse_event_fn);\n",
       "\n",
       "    canvas_div.on(\"wheel\", function (event) {\n",
       "        event = event.originalEvent;\n",
       "        event['data'] = 'scroll'\n",
       "        if (event.deltaY < 0) {\n",
       "            event.step = 1;\n",
       "        } else {\n",
       "            event.step = -1;\n",
       "        }\n",
       "        mouse_event_fn(event);\n",
       "    });\n",
       "\n",
       "    canvas_div.append(canvas);\n",
       "    canvas_div.append(rubberband);\n",
       "\n",
       "    this.rubberband = rubberband;\n",
       "    this.rubberband_canvas = rubberband[0];\n",
       "    this.rubberband_context = rubberband[0].getContext(\"2d\");\n",
       "    this.rubberband_context.strokeStyle = \"#000000\";\n",
       "\n",
       "    this._resize_canvas = function(width, height) {\n",
       "        // Keep the size of the canvas, canvas container, and rubber band\n",
       "        // canvas in synch.\n",
       "        canvas_div.css('width', width)\n",
       "        canvas_div.css('height', height)\n",
       "\n",
       "        canvas.attr('width', width);\n",
       "        canvas.attr('height', height);\n",
       "\n",
       "        rubberband.attr('width', width);\n",
       "        rubberband.attr('height', height);\n",
       "    }\n",
       "\n",
       "    // Set the figure to an initial 600x600px, this will subsequently be updated\n",
       "    // upon first draw.\n",
       "    this._resize_canvas(600, 600);\n",
       "\n",
       "    // Disable right mouse context menu.\n",
       "    $(this.rubberband_canvas).bind(\"contextmenu\",function(e){\n",
       "        return false;\n",
       "    });\n",
       "\n",
       "    function set_focus () {\n",
       "        canvas.focus();\n",
       "        canvas_div.focus();\n",
       "    }\n",
       "\n",
       "    window.setTimeout(set_focus, 100);\n",
       "}\n",
       "\n",
       "mpl.figure.prototype._init_toolbar = function() {\n",
       "    var fig = this;\n",
       "\n",
       "    var nav_element = $('<div/>')\n",
       "    nav_element.attr('style', 'width: 100%');\n",
       "    this.root.append(nav_element);\n",
       "\n",
       "    // Define a callback function for later on.\n",
       "    function toolbar_event(event) {\n",
       "        return fig.toolbar_button_onclick(event['data']);\n",
       "    }\n",
       "    function toolbar_mouse_event(event) {\n",
       "        return fig.toolbar_button_onmouseover(event['data']);\n",
       "    }\n",
       "\n",
       "    for(var toolbar_ind in mpl.toolbar_items) {\n",
       "        var name = mpl.toolbar_items[toolbar_ind][0];\n",
       "        var tooltip = mpl.toolbar_items[toolbar_ind][1];\n",
       "        var image = mpl.toolbar_items[toolbar_ind][2];\n",
       "        var method_name = mpl.toolbar_items[toolbar_ind][3];\n",
       "\n",
       "        if (!name) {\n",
       "            // put a spacer in here.\n",
       "            continue;\n",
       "        }\n",
       "        var button = $('<button/>');\n",
       "        button.addClass('ui-button ui-widget ui-state-default ui-corner-all ' +\n",
       "                        'ui-button-icon-only');\n",
       "        button.attr('role', 'button');\n",
       "        button.attr('aria-disabled', 'false');\n",
       "        button.click(method_name, toolbar_event);\n",
       "        button.mouseover(tooltip, toolbar_mouse_event);\n",
       "\n",
       "        var icon_img = $('<span/>');\n",
       "        icon_img.addClass('ui-button-icon-primary ui-icon');\n",
       "        icon_img.addClass(image);\n",
       "        icon_img.addClass('ui-corner-all');\n",
       "\n",
       "        var tooltip_span = $('<span/>');\n",
       "        tooltip_span.addClass('ui-button-text');\n",
       "        tooltip_span.html(tooltip);\n",
       "\n",
       "        button.append(icon_img);\n",
       "        button.append(tooltip_span);\n",
       "\n",
       "        nav_element.append(button);\n",
       "    }\n",
       "\n",
       "    var fmt_picker_span = $('<span/>');\n",
       "\n",
       "    var fmt_picker = $('<select/>');\n",
       "    fmt_picker.addClass('mpl-toolbar-option ui-widget ui-widget-content');\n",
       "    fmt_picker_span.append(fmt_picker);\n",
       "    nav_element.append(fmt_picker_span);\n",
       "    this.format_dropdown = fmt_picker[0];\n",
       "\n",
       "    for (var ind in mpl.extensions) {\n",
       "        var fmt = mpl.extensions[ind];\n",
       "        var option = $(\n",
       "            '<option/>', {selected: fmt === mpl.default_extension}).html(fmt);\n",
       "        fmt_picker.append(option)\n",
       "    }\n",
       "\n",
       "    // Add hover states to the ui-buttons\n",
       "    $( \".ui-button\" ).hover(\n",
       "        function() { $(this).addClass(\"ui-state-hover\");},\n",
       "        function() { $(this).removeClass(\"ui-state-hover\");}\n",
       "    );\n",
       "\n",
       "    var status_bar = $('<span class=\"mpl-message\"/>');\n",
       "    nav_element.append(status_bar);\n",
       "    this.message = status_bar[0];\n",
       "}\n",
       "\n",
       "mpl.figure.prototype.request_resize = function(x_pixels, y_pixels) {\n",
       "    // Request matplotlib to resize the figure. Matplotlib will then trigger a resize in the client,\n",
       "    // which will in turn request a refresh of the image.\n",
       "    this.send_message('resize', {'width': x_pixels, 'height': y_pixels});\n",
       "}\n",
       "\n",
       "mpl.figure.prototype.send_message = function(type, properties) {\n",
       "    properties['type'] = type;\n",
       "    properties['figure_id'] = this.id;\n",
       "    this.ws.send(JSON.stringify(properties));\n",
       "}\n",
       "\n",
       "mpl.figure.prototype.send_draw_message = function() {\n",
       "    if (!this.waiting) {\n",
       "        this.waiting = true;\n",
       "        this.ws.send(JSON.stringify({type: \"draw\", figure_id: this.id}));\n",
       "    }\n",
       "}\n",
       "\n",
       "\n",
       "mpl.figure.prototype.handle_save = function(fig, msg) {\n",
       "    var format_dropdown = fig.format_dropdown;\n",
       "    var format = format_dropdown.options[format_dropdown.selectedIndex].value;\n",
       "    fig.ondownload(fig, format);\n",
       "}\n",
       "\n",
       "\n",
       "mpl.figure.prototype.handle_resize = function(fig, msg) {\n",
       "    var size = msg['size'];\n",
       "    if (size[0] != fig.canvas.width || size[1] != fig.canvas.height) {\n",
       "        fig._resize_canvas(size[0], size[1]);\n",
       "        fig.send_message(\"refresh\", {});\n",
       "    };\n",
       "}\n",
       "\n",
       "mpl.figure.prototype.handle_rubberband = function(fig, msg) {\n",
       "    var x0 = msg['x0'];\n",
       "    var y0 = fig.canvas.height - msg['y0'];\n",
       "    var x1 = msg['x1'];\n",
       "    var y1 = fig.canvas.height - msg['y1'];\n",
       "    x0 = Math.floor(x0) + 0.5;\n",
       "    y0 = Math.floor(y0) + 0.5;\n",
       "    x1 = Math.floor(x1) + 0.5;\n",
       "    y1 = Math.floor(y1) + 0.5;\n",
       "    var min_x = Math.min(x0, x1);\n",
       "    var min_y = Math.min(y0, y1);\n",
       "    var width = Math.abs(x1 - x0);\n",
       "    var height = Math.abs(y1 - y0);\n",
       "\n",
       "    fig.rubberband_context.clearRect(\n",
       "        0, 0, fig.canvas.width, fig.canvas.height);\n",
       "\n",
       "    fig.rubberband_context.strokeRect(min_x, min_y, width, height);\n",
       "}\n",
       "\n",
       "mpl.figure.prototype.handle_figure_label = function(fig, msg) {\n",
       "    // Updates the figure title.\n",
       "    fig.header.textContent = msg['label'];\n",
       "}\n",
       "\n",
       "mpl.figure.prototype.handle_cursor = function(fig, msg) {\n",
       "    var cursor = msg['cursor'];\n",
       "    switch(cursor)\n",
       "    {\n",
       "    case 0:\n",
       "        cursor = 'pointer';\n",
       "        break;\n",
       "    case 1:\n",
       "        cursor = 'default';\n",
       "        break;\n",
       "    case 2:\n",
       "        cursor = 'crosshair';\n",
       "        break;\n",
       "    case 3:\n",
       "        cursor = 'move';\n",
       "        break;\n",
       "    }\n",
       "    fig.rubberband_canvas.style.cursor = cursor;\n",
       "}\n",
       "\n",
       "mpl.figure.prototype.handle_message = function(fig, msg) {\n",
       "    fig.message.textContent = msg['message'];\n",
       "}\n",
       "\n",
       "mpl.figure.prototype.handle_draw = function(fig, msg) {\n",
       "    // Request the server to send over a new figure.\n",
       "    fig.send_draw_message();\n",
       "}\n",
       "\n",
       "mpl.figure.prototype.handle_image_mode = function(fig, msg) {\n",
       "    fig.image_mode = msg['mode'];\n",
       "}\n",
       "\n",
       "mpl.figure.prototype.updated_canvas_event = function() {\n",
       "    // Called whenever the canvas gets updated.\n",
       "    this.send_message(\"ack\", {});\n",
       "}\n",
       "\n",
       "// A function to construct a web socket function for onmessage handling.\n",
       "// Called in the figure constructor.\n",
       "mpl.figure.prototype._make_on_message_function = function(fig) {\n",
       "    return function socket_on_message(evt) {\n",
       "        if (evt.data instanceof Blob) {\n",
       "            /* FIXME: We get \"Resource interpreted as Image but\n",
       "             * transferred with MIME type text/plain:\" errors on\n",
       "             * Chrome.  But how to set the MIME type?  It doesn't seem\n",
       "             * to be part of the websocket stream */\n",
       "            evt.data.type = \"image/png\";\n",
       "\n",
       "            /* Free the memory for the previous frames */\n",
       "            if (fig.imageObj.src) {\n",
       "                (window.URL || window.webkitURL).revokeObjectURL(\n",
       "                    fig.imageObj.src);\n",
       "            }\n",
       "\n",
       "            fig.imageObj.src = (window.URL || window.webkitURL).createObjectURL(\n",
       "                evt.data);\n",
       "            fig.updated_canvas_event();\n",
       "            fig.waiting = false;\n",
       "            return;\n",
       "        }\n",
       "        else if (typeof evt.data === 'string' && evt.data.slice(0, 21) == \"data:image/png;base64\") {\n",
       "            fig.imageObj.src = evt.data;\n",
       "            fig.updated_canvas_event();\n",
       "            fig.waiting = false;\n",
       "            return;\n",
       "        }\n",
       "\n",
       "        var msg = JSON.parse(evt.data);\n",
       "        var msg_type = msg['type'];\n",
       "\n",
       "        // Call the  \"handle_{type}\" callback, which takes\n",
       "        // the figure and JSON message as its only arguments.\n",
       "        try {\n",
       "            var callback = fig[\"handle_\" + msg_type];\n",
       "        } catch (e) {\n",
       "            console.log(\"No handler for the '\" + msg_type + \"' message type: \", msg);\n",
       "            return;\n",
       "        }\n",
       "\n",
       "        if (callback) {\n",
       "            try {\n",
       "                // console.log(\"Handling '\" + msg_type + \"' message: \", msg);\n",
       "                callback(fig, msg);\n",
       "            } catch (e) {\n",
       "                console.log(\"Exception inside the 'handler_\" + msg_type + \"' callback:\", e, e.stack, msg);\n",
       "            }\n",
       "        }\n",
       "    };\n",
       "}\n",
       "\n",
       "// from http://stackoverflow.com/questions/1114465/getting-mouse-location-in-canvas\n",
       "mpl.findpos = function(e) {\n",
       "    //this section is from http://www.quirksmode.org/js/events_properties.html\n",
       "    var targ;\n",
       "    if (!e)\n",
       "        e = window.event;\n",
       "    if (e.target)\n",
       "        targ = e.target;\n",
       "    else if (e.srcElement)\n",
       "        targ = e.srcElement;\n",
       "    if (targ.nodeType == 3) // defeat Safari bug\n",
       "        targ = targ.parentNode;\n",
       "\n",
       "    // jQuery normalizes the pageX and pageY\n",
       "    // pageX,Y are the mouse positions relative to the document\n",
       "    // offset() returns the position of the element relative to the document\n",
       "    var x = e.pageX - $(targ).offset().left;\n",
       "    var y = e.pageY - $(targ).offset().top;\n",
       "\n",
       "    return {\"x\": x, \"y\": y};\n",
       "};\n",
       "\n",
       "/*\n",
       " * return a copy of an object with only non-object keys\n",
       " * we need this to avoid circular references\n",
       " * http://stackoverflow.com/a/24161582/3208463\n",
       " */\n",
       "function simpleKeys (original) {\n",
       "  return Object.keys(original).reduce(function (obj, key) {\n",
       "    if (typeof original[key] !== 'object')\n",
       "        obj[key] = original[key]\n",
       "    return obj;\n",
       "  }, {});\n",
       "}\n",
       "\n",
       "mpl.figure.prototype.mouse_event = function(event, name) {\n",
       "    var canvas_pos = mpl.findpos(event)\n",
       "\n",
       "    if (name === 'button_press')\n",
       "    {\n",
       "        this.canvas.focus();\n",
       "        this.canvas_div.focus();\n",
       "    }\n",
       "\n",
       "    var x = canvas_pos.x;\n",
       "    var y = canvas_pos.y;\n",
       "\n",
       "    this.send_message(name, {x: x, y: y, button: event.button,\n",
       "                             step: event.step,\n",
       "                             guiEvent: simpleKeys(event)});\n",
       "\n",
       "    /* This prevents the web browser from automatically changing to\n",
       "     * the text insertion cursor when the button is pressed.  We want\n",
       "     * to control all of the cursor setting manually through the\n",
       "     * 'cursor' event from matplotlib */\n",
       "    event.preventDefault();\n",
       "    return false;\n",
       "}\n",
       "\n",
       "mpl.figure.prototype._key_event_extra = function(event, name) {\n",
       "    // Handle any extra behaviour associated with a key event\n",
       "}\n",
       "\n",
       "mpl.figure.prototype.key_event = function(event, name) {\n",
       "\n",
       "    // Prevent repeat events\n",
       "    if (name == 'key_press')\n",
       "    {\n",
       "        if (event.which === this._key)\n",
       "            return;\n",
       "        else\n",
       "            this._key = event.which;\n",
       "    }\n",
       "    if (name == 'key_release')\n",
       "        this._key = null;\n",
       "\n",
       "    var value = '';\n",
       "    if (event.ctrlKey && event.which != 17)\n",
       "        value += \"ctrl+\";\n",
       "    if (event.altKey && event.which != 18)\n",
       "        value += \"alt+\";\n",
       "    if (event.shiftKey && event.which != 16)\n",
       "        value += \"shift+\";\n",
       "\n",
       "    value += 'k';\n",
       "    value += event.which.toString();\n",
       "\n",
       "    this._key_event_extra(event, name);\n",
       "\n",
       "    this.send_message(name, {key: value,\n",
       "                             guiEvent: simpleKeys(event)});\n",
       "    return false;\n",
       "}\n",
       "\n",
       "mpl.figure.prototype.toolbar_button_onclick = function(name) {\n",
       "    if (name == 'download') {\n",
       "        this.handle_save(this, null);\n",
       "    } else {\n",
       "        this.send_message(\"toolbar_button\", {name: name});\n",
       "    }\n",
       "};\n",
       "\n",
       "mpl.figure.prototype.toolbar_button_onmouseover = function(tooltip) {\n",
       "    this.message.textContent = tooltip;\n",
       "};\n",
       "mpl.toolbar_items = [[\"Home\", \"Reset original view\", \"fa fa-home icon-home\", \"home\"], [\"Back\", \"Back to  previous view\", \"fa fa-arrow-left icon-arrow-left\", \"back\"], [\"Forward\", \"Forward to next view\", \"fa fa-arrow-right icon-arrow-right\", \"forward\"], [\"\", \"\", \"\", \"\"], [\"Pan\", \"Pan axes with left mouse, zoom with right\", \"fa fa-arrows icon-move\", \"pan\"], [\"Zoom\", \"Zoom to rectangle\", \"fa fa-square-o icon-check-empty\", \"zoom\"], [\"\", \"\", \"\", \"\"], [\"Download\", \"Download plot\", \"fa fa-floppy-o icon-save\", \"download\"]];\n",
       "\n",
       "mpl.extensions = [\"eps\", \"jpeg\", \"pdf\", \"png\", \"ps\", \"raw\", \"svg\", \"tif\"];\n",
       "\n",
       "mpl.default_extension = \"png\";var comm_websocket_adapter = function(comm) {\n",
       "    // Create a \"websocket\"-like object which calls the given IPython comm\n",
       "    // object with the appropriate methods. Currently this is a non binary\n",
       "    // socket, so there is still some room for performance tuning.\n",
       "    var ws = {};\n",
       "\n",
       "    ws.close = function() {\n",
       "        comm.close()\n",
       "    };\n",
       "    ws.send = function(m) {\n",
       "        //console.log('sending', m);\n",
       "        comm.send(m);\n",
       "    };\n",
       "    // Register the callback with on_msg.\n",
       "    comm.on_msg(function(msg) {\n",
       "        //console.log('receiving', msg['content']['data'], msg);\n",
       "        // Pass the mpl event to the overriden (by mpl) onmessage function.\n",
       "        ws.onmessage(msg['content']['data'])\n",
       "    });\n",
       "    return ws;\n",
       "}\n",
       "\n",
       "mpl.mpl_figure_comm = function(comm, msg) {\n",
       "    // This is the function which gets called when the mpl process\n",
       "    // starts-up an IPython Comm through the \"matplotlib\" channel.\n",
       "\n",
       "    var id = msg.content.data.id;\n",
       "    // Get hold of the div created by the display call when the Comm\n",
       "    // socket was opened in Python.\n",
       "    var element = $(\"#\" + id);\n",
       "    var ws_proxy = comm_websocket_adapter(comm)\n",
       "\n",
       "    function ondownload(figure, format) {\n",
       "        window.open(figure.imageObj.src);\n",
       "    }\n",
       "\n",
       "    var fig = new mpl.figure(id, ws_proxy,\n",
       "                           ondownload,\n",
       "                           element.get(0));\n",
       "\n",
       "    // Call onopen now - mpl needs it, as it is assuming we've passed it a real\n",
       "    // web socket which is closed, not our websocket->open comm proxy.\n",
       "    ws_proxy.onopen();\n",
       "\n",
       "    fig.parent_element = element.get(0);\n",
       "    fig.cell_info = mpl.find_output_cell(\"<div id='\" + id + \"'></div>\");\n",
       "    if (!fig.cell_info) {\n",
       "        console.error(\"Failed to find cell for figure\", id, fig);\n",
       "        return;\n",
       "    }\n",
       "\n",
       "    var output_index = fig.cell_info[2]\n",
       "    var cell = fig.cell_info[0];\n",
       "\n",
       "};\n",
       "\n",
       "mpl.figure.prototype.handle_close = function(fig, msg) {\n",
       "    fig.root.unbind('remove')\n",
       "\n",
       "    // Update the output cell to use the data from the current canvas.\n",
       "    fig.push_to_output();\n",
       "    var dataURL = fig.canvas.toDataURL();\n",
       "    // Re-enable the keyboard manager in IPython - without this line, in FF,\n",
       "    // the notebook keyboard shortcuts fail.\n",
       "    IPython.keyboard_manager.enable()\n",
       "    $(fig.parent_element).html('<img src=\"' + dataURL + '\">');\n",
       "    fig.close_ws(fig, msg);\n",
       "}\n",
       "\n",
       "mpl.figure.prototype.close_ws = function(fig, msg){\n",
       "    fig.send_message('closing', msg);\n",
       "    // fig.ws.close()\n",
       "}\n",
       "\n",
       "mpl.figure.prototype.push_to_output = function(remove_interactive) {\n",
       "    // Turn the data on the canvas into data in the output cell.\n",
       "    var dataURL = this.canvas.toDataURL();\n",
       "    this.cell_info[1]['text/html'] = '<img src=\"' + dataURL + '\">';\n",
       "}\n",
       "\n",
       "mpl.figure.prototype.updated_canvas_event = function() {\n",
       "    // Tell IPython that the notebook contents must change.\n",
       "    IPython.notebook.set_dirty(true);\n",
       "    this.send_message(\"ack\", {});\n",
       "    var fig = this;\n",
       "    // Wait a second, then push the new image to the DOM so\n",
       "    // that it is saved nicely (might be nice to debounce this).\n",
       "    setTimeout(function () { fig.push_to_output() }, 1000);\n",
       "}\n",
       "\n",
       "mpl.figure.prototype._init_toolbar = function() {\n",
       "    var fig = this;\n",
       "\n",
       "    var nav_element = $('<div/>')\n",
       "    nav_element.attr('style', 'width: 100%');\n",
       "    this.root.append(nav_element);\n",
       "\n",
       "    // Define a callback function for later on.\n",
       "    function toolbar_event(event) {\n",
       "        return fig.toolbar_button_onclick(event['data']);\n",
       "    }\n",
       "    function toolbar_mouse_event(event) {\n",
       "        return fig.toolbar_button_onmouseover(event['data']);\n",
       "    }\n",
       "\n",
       "    for(var toolbar_ind in mpl.toolbar_items){\n",
       "        var name = mpl.toolbar_items[toolbar_ind][0];\n",
       "        var tooltip = mpl.toolbar_items[toolbar_ind][1];\n",
       "        var image = mpl.toolbar_items[toolbar_ind][2];\n",
       "        var method_name = mpl.toolbar_items[toolbar_ind][3];\n",
       "\n",
       "        if (!name) { continue; };\n",
       "\n",
       "        var button = $('<button class=\"btn btn-default\" href=\"#\" title=\"' + name + '\"><i class=\"fa ' + image + ' fa-lg\"></i></button>');\n",
       "        button.click(method_name, toolbar_event);\n",
       "        button.mouseover(tooltip, toolbar_mouse_event);\n",
       "        nav_element.append(button);\n",
       "    }\n",
       "\n",
       "    // Add the status bar.\n",
       "    var status_bar = $('<span class=\"mpl-message\" style=\"text-align:right; float: right;\"/>');\n",
       "    nav_element.append(status_bar);\n",
       "    this.message = status_bar[0];\n",
       "\n",
       "    // Add the close button to the window.\n",
       "    var buttongrp = $('<div class=\"btn-group inline pull-right\"></div>');\n",
       "    var button = $('<button class=\"btn btn-mini btn-primary\" href=\"#\" title=\"Stop Interaction\"><i class=\"fa fa-power-off icon-remove icon-large\"></i></button>');\n",
       "    button.click(function (evt) { fig.handle_close(fig, {}); } );\n",
       "    button.mouseover('Stop Interaction', toolbar_mouse_event);\n",
       "    buttongrp.append(button);\n",
       "    var titlebar = this.root.find($('.ui-dialog-titlebar'));\n",
       "    titlebar.prepend(buttongrp);\n",
       "}\n",
       "\n",
       "mpl.figure.prototype._root_extra_style = function(el){\n",
       "    var fig = this\n",
       "    el.on(\"remove\", function(){\n",
       "\tfig.close_ws(fig, {});\n",
       "    });\n",
       "}\n",
       "\n",
       "mpl.figure.prototype._canvas_extra_style = function(el){\n",
       "    // this is important to make the div 'focusable\n",
       "    el.attr('tabindex', 0)\n",
       "    // reach out to IPython and tell the keyboard manager to turn it's self\n",
       "    // off when our div gets focus\n",
       "\n",
       "    // location in version 3\n",
       "    if (IPython.notebook.keyboard_manager) {\n",
       "        IPython.notebook.keyboard_manager.register_events(el);\n",
       "    }\n",
       "    else {\n",
       "        // location in version 2\n",
       "        IPython.keyboard_manager.register_events(el);\n",
       "    }\n",
       "\n",
       "}\n",
       "\n",
       "mpl.figure.prototype._key_event_extra = function(event, name) {\n",
       "    var manager = IPython.notebook.keyboard_manager;\n",
       "    if (!manager)\n",
       "        manager = IPython.keyboard_manager;\n",
       "\n",
       "    // Check for shift+enter\n",
       "    if (event.shiftKey && event.which == 13) {\n",
       "        this.canvas_div.blur();\n",
       "        event.shiftKey = false;\n",
       "        // Send a \"J\" for go to next cell\n",
       "        event.which = 74;\n",
       "        event.keyCode = 74;\n",
       "        manager.command_mode();\n",
       "        manager.handle_keydown(event);\n",
       "    }\n",
       "}\n",
       "\n",
       "mpl.figure.prototype.handle_save = function(fig, msg) {\n",
       "    fig.ondownload(fig, null);\n",
       "}\n",
       "\n",
       "\n",
       "mpl.find_output_cell = function(html_output) {\n",
       "    // Return the cell and output element which can be found *uniquely* in the notebook.\n",
       "    // Note - this is a bit hacky, but it is done because the \"notebook_saving.Notebook\"\n",
       "    // IPython event is triggered only after the cells have been serialised, which for\n",
       "    // our purposes (turning an active figure into a static one), is too late.\n",
       "    var cells = IPython.notebook.get_cells();\n",
       "    var ncells = cells.length;\n",
       "    for (var i=0; i<ncells; i++) {\n",
       "        var cell = cells[i];\n",
       "        if (cell.cell_type === 'code'){\n",
       "            for (var j=0; j<cell.output_area.outputs.length; j++) {\n",
       "                var data = cell.output_area.outputs[j];\n",
       "                if (data.data) {\n",
       "                    // IPython >= 3 moved mimebundle to data attribute of output\n",
       "                    data = data.data;\n",
       "                }\n",
       "                if (data['text/html'] == html_output) {\n",
       "                    return [cell, data, j];\n",
       "                }\n",
       "            }\n",
       "        }\n",
       "    }\n",
       "}\n",
       "\n",
       "// Register the function which deals with the matplotlib target/channel.\n",
       "// The kernel may be null if the page has been refreshed.\n",
       "if (IPython.notebook.kernel != null) {\n",
       "    IPython.notebook.kernel.comm_manager.register_target('matplotlib', mpl.mpl_figure_comm);\n",
       "}\n"
      ],
      "text/plain": [
       "<IPython.core.display.Javascript object>"
      ]
     },
     "metadata": {},
     "output_type": "display_data"
    },
    {
     "data": {
      "text/html": [
       "<img src=\"data:image/png;base64,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\">"
      ],
      "text/plain": [
       "<IPython.core.display.HTML object>"
      ]
     },
     "metadata": {},
     "output_type": "display_data"
    }
   ],
   "source": [
    "%matplotlib notebook\n",
    "networkx.draw_networkx(new_graph,arrows=True,\n",
    "                       labels={node:rect_graph.node_descriptions[index] for index, \n",
    "                               node in enumerate(rect_graph.node_names)},node_size=1500,font_size=10)\n"
   ]
  },
  {
   "cell_type": "code",
   "execution_count": 7,
   "metadata": {
    "collapsed": true
   },
   "outputs": [],
   "source": [
    "def html_file_to_pandas(html_file_name):\n",
    "    in_file=open(html_file_name,'r')\n",
    "    pandas_data_frame=pandas.read_html(in_file,header=0)\n",
    "    return pandas_data_frame"
   ]
  },
  {
   "cell_type": "code",
   "execution_count": 8,
   "metadata": {
    "collapsed": false
   },
   "outputs": [
    {
     "ename": "ImportError",
     "evalue": "lxml not found, please install it",
     "output_type": "error",
     "traceback": [
      "\u001b[1;31m---------------------------------------------------------------------------\u001b[0m",
      "\u001b[1;31mImportError\u001b[0m                               Traceback (most recent call last)",
      "\u001b[1;32m<ipython-input-8-b6bbbf59ee73>\u001b[0m in \u001b[0;36m<module>\u001b[1;34m()\u001b[0m\n\u001b[1;32m----> 1\u001b[1;33m \u001b[0mdf\u001b[0m\u001b[1;33m=\u001b[0m\u001b[0mhtml_file_to_pandas\u001b[0m\u001b[1;33m(\u001b[0m\u001b[1;34m\"test.html\"\u001b[0m\u001b[1;33m)\u001b[0m\u001b[1;33m\u001b[0m\u001b[0m\n\u001b[0m",
      "\u001b[1;32m<ipython-input-7-10f361e0ed49>\u001b[0m in \u001b[0;36mhtml_file_to_pandas\u001b[1;34m(html_file_name)\u001b[0m\n\u001b[0;32m      1\u001b[0m \u001b[1;32mdef\u001b[0m \u001b[0mhtml_file_to_pandas\u001b[0m\u001b[1;33m(\u001b[0m\u001b[0mhtml_file_name\u001b[0m\u001b[1;33m)\u001b[0m\u001b[1;33m:\u001b[0m\u001b[1;33m\u001b[0m\u001b[0m\n\u001b[0;32m      2\u001b[0m     \u001b[0min_file\u001b[0m\u001b[1;33m=\u001b[0m\u001b[0mopen\u001b[0m\u001b[1;33m(\u001b[0m\u001b[0mhtml_file_name\u001b[0m\u001b[1;33m,\u001b[0m\u001b[1;34m'r'\u001b[0m\u001b[1;33m)\u001b[0m\u001b[1;33m\u001b[0m\u001b[0m\n\u001b[1;32m----> 3\u001b[1;33m     \u001b[0mpandas_data_frame\u001b[0m\u001b[1;33m=\u001b[0m\u001b[0mpandas\u001b[0m\u001b[1;33m.\u001b[0m\u001b[0mread_html\u001b[0m\u001b[1;33m(\u001b[0m\u001b[0min_file\u001b[0m\u001b[1;33m,\u001b[0m\u001b[0mheader\u001b[0m\u001b[1;33m=\u001b[0m\u001b[1;36m0\u001b[0m\u001b[1;33m)\u001b[0m\u001b[1;33m\u001b[0m\u001b[0m\n\u001b[0m\u001b[0;32m      4\u001b[0m     \u001b[1;32mreturn\u001b[0m \u001b[0mpandas_data_frame\u001b[0m\u001b[1;33m\u001b[0m\u001b[0m\n",
      "\u001b[1;32mC:\\Anaconda2\\lib\\site-packages\\pandas\\io\\html.pyc\u001b[0m in \u001b[0;36mread_html\u001b[1;34m(io, match, flavor, header, index_col, skiprows, attrs, parse_dates, tupleize_cols, thousands, encoding)\u001b[0m\n\u001b[0;32m    868\u001b[0m     \u001b[0m_validate_header_arg\u001b[0m\u001b[1;33m(\u001b[0m\u001b[0mheader\u001b[0m\u001b[1;33m)\u001b[0m\u001b[1;33m\u001b[0m\u001b[0m\n\u001b[0;32m    869\u001b[0m     return _parse(flavor, io, match, header, index_col, skiprows,\n\u001b[1;32m--> 870\u001b[1;33m                   parse_dates, tupleize_cols, thousands, attrs, encoding)\n\u001b[0m",
      "\u001b[1;32mC:\\Anaconda2\\lib\\site-packages\\pandas\\io\\html.pyc\u001b[0m in \u001b[0;36m_parse\u001b[1;34m(flavor, io, match, header, index_col, skiprows, parse_dates, tupleize_cols, thousands, attrs, encoding)\u001b[0m\n\u001b[0;32m    720\u001b[0m     \u001b[0mretained\u001b[0m \u001b[1;33m=\u001b[0m \u001b[0mNone\u001b[0m\u001b[1;33m\u001b[0m\u001b[0m\n\u001b[0;32m    721\u001b[0m     \u001b[1;32mfor\u001b[0m \u001b[0mflav\u001b[0m \u001b[1;32min\u001b[0m \u001b[0mflavor\u001b[0m\u001b[1;33m:\u001b[0m\u001b[1;33m\u001b[0m\u001b[0m\n\u001b[1;32m--> 722\u001b[1;33m         \u001b[0mparser\u001b[0m \u001b[1;33m=\u001b[0m \u001b[0m_parser_dispatch\u001b[0m\u001b[1;33m(\u001b[0m\u001b[0mflav\u001b[0m\u001b[1;33m)\u001b[0m\u001b[1;33m\u001b[0m\u001b[0m\n\u001b[0m\u001b[0;32m    723\u001b[0m         \u001b[0mp\u001b[0m \u001b[1;33m=\u001b[0m \u001b[0mparser\u001b[0m\u001b[1;33m(\u001b[0m\u001b[0mio\u001b[0m\u001b[1;33m,\u001b[0m \u001b[0mcompiled_match\u001b[0m\u001b[1;33m,\u001b[0m \u001b[0mattrs\u001b[0m\u001b[1;33m,\u001b[0m \u001b[0mencoding\u001b[0m\u001b[1;33m)\u001b[0m\u001b[1;33m\u001b[0m\u001b[0m\n\u001b[0;32m    724\u001b[0m \u001b[1;33m\u001b[0m\u001b[0m\n",
      "\u001b[1;32mC:\\Anaconda2\\lib\\site-packages\\pandas\\io\\html.pyc\u001b[0m in \u001b[0;36m_parser_dispatch\u001b[1;34m(flavor)\u001b[0m\n\u001b[0;32m    679\u001b[0m     \u001b[1;32melse\u001b[0m\u001b[1;33m:\u001b[0m\u001b[1;33m\u001b[0m\u001b[0m\n\u001b[0;32m    680\u001b[0m         \u001b[1;32mif\u001b[0m \u001b[1;32mnot\u001b[0m \u001b[0m_HAS_LXML\u001b[0m\u001b[1;33m:\u001b[0m\u001b[1;33m\u001b[0m\u001b[0m\n\u001b[1;32m--> 681\u001b[1;33m             \u001b[1;32mraise\u001b[0m \u001b[0mImportError\u001b[0m\u001b[1;33m(\u001b[0m\u001b[1;34m\"lxml not found, please install it\"\u001b[0m\u001b[1;33m)\u001b[0m\u001b[1;33m\u001b[0m\u001b[0m\n\u001b[0m\u001b[0;32m    682\u001b[0m     \u001b[1;32mreturn\u001b[0m \u001b[0m_valid_parsers\u001b[0m\u001b[1;33m[\u001b[0m\u001b[0mflavor\u001b[0m\u001b[1;33m]\u001b[0m\u001b[1;33m\u001b[0m\u001b[0m\n\u001b[0;32m    683\u001b[0m \u001b[1;33m\u001b[0m\u001b[0m\n",
      "\u001b[1;31mImportError\u001b[0m: lxml not found, please install it"
     ]
    }
   ],
   "source": [
    "df=html_file_to_pandas(\"test.html\")"
   ]
  },
  {
   "cell_type": "code",
   "execution_count": 9,
   "metadata": {
    "collapsed": false
   },
   "outputs": [
    {
     "ename": "NameError",
     "evalue": "name 'df' is not defined",
     "output_type": "error",
     "traceback": [
      "\u001b[1;31m---------------------------------------------------------------------------\u001b[0m",
      "\u001b[1;31mNameError\u001b[0m                                 Traceback (most recent call last)",
      "\u001b[1;32m<ipython-input-9-6a4642092433>\u001b[0m in \u001b[0;36m<module>\u001b[1;34m()\u001b[0m\n\u001b[1;32m----> 1\u001b[1;33m \u001b[0mdf\u001b[0m\u001b[1;33m.\u001b[0m\u001b[0mcolumns\u001b[0m\u001b[1;33m\u001b[0m\u001b[0m\n\u001b[0m",
      "\u001b[1;31mNameError\u001b[0m: name 'df' is not defined"
     ]
    }
   ],
   "source": [
    "df.columns\n"
   ]
  },
  {
   "cell_type": "code",
   "execution_count": 735,
   "metadata": {
    "collapsed": false
   },
   "outputs": [
    {
     "ename": "AttributeError",
     "evalue": "'list' object has no attribute 'columns'",
     "output_type": "error",
     "traceback": [
      "\u001b[1;31m---------------------------------------------------------------------------\u001b[0m",
      "\u001b[1;31mAttributeError\u001b[0m                            Traceback (most recent call last)",
      "\u001b[1;32m<ipython-input-735-6a4642092433>\u001b[0m in \u001b[0;36m<module>\u001b[1;34m()\u001b[0m\n\u001b[1;32m----> 1\u001b[1;33m \u001b[0mdf\u001b[0m\u001b[1;33m.\u001b[0m\u001b[0mcolumns\u001b[0m\u001b[1;33m\u001b[0m\u001b[0m\n\u001b[0m",
      "\u001b[1;31mAttributeError\u001b[0m: 'list' object has no attribute 'columns'"
     ]
    }
   ],
   "source": [
    "df.columns\n"
   ]
  },
  {
   "cell_type": "code",
   "execution_count": 10,
   "metadata": {
    "collapsed": true
   },
   "outputs": [],
   "source": [
    "import lxml"
   ]
  },
  {
   "cell_type": "code",
   "execution_count": null,
   "metadata": {
    "collapsed": true
   },
   "outputs": [],
   "source": []
  }
 ],
 "metadata": {
  "kernelspec": {
   "display_name": "Python 2",
   "language": "python",
   "name": "python2"
  },
  "language_info": {
   "codemirror_mode": {
    "name": "ipython",
    "version": 2
   },
   "file_extension": ".py",
   "mimetype": "text/x-python",
   "name": "python",
   "nbconvert_exporter": "python",
   "pygments_lexer": "ipython2",
   "version": "2.7.12"
  }
 },
 "nbformat": 4,
 "nbformat_minor": 0
}
