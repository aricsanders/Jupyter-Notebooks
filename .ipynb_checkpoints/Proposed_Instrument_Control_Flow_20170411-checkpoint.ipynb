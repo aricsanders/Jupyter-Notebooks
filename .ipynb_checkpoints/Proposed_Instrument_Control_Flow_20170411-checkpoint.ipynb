{
 "cells": [
  {
   "cell_type": "markdown",
   "metadata": {
    "slideshow": {
     "slide_type": "slide"
    }
   },
   "source": [
    "# How do we want instrument and experimental control to work?"
   ]
  },
  {
   "cell_type": "markdown",
   "metadata": {
    "slideshow": {
     "slide_type": "slide"
    }
   },
   "source": [
    "My wish list:\n",
    "\n",
    "1. The linking of static metadata to the experiments\n",
    "2. The linking of states that can be recalled and easily set for both instruments and experiments\n",
    "3. A log that tracks service or problems with an instrument\n",
    "4. Easy control of lots of different types / manufacturers \n",
    "5. A scalable system that can be deubgged\n",
    "6. At the end, better GUI's for users who don't use our software stack\n"
   ]
  },
  {
   "cell_type": "markdown",
   "metadata": {},
   "source": [
    "## Requirements\n",
    "Functional Version of pyMeasure\n",
    "Installation of Install [NIVisa] [visa]\n",
    "Installation of USB [GPIB Driver] [gpib-driver]\n",
    "\n",
    "\n",
    "[visa]:http://www.ni.com/download/ni-visa-15.0.1/5693/en/\n",
    "[gpib-driver]:http://search.ni.com/nisearch/app/main/p/ap/tech/lang/en/pg/1/sn/ssnav:drv/fil/phwebntpmdm:120495/"
   ]
  },
  {
   "cell_type": "code",
   "execution_count": 1,
   "metadata": {
    "collapsed": false,
    "slideshow": {
     "slide_type": "skip"
    }
   },
   "outputs": [
    {
     "name": "stdout",
     "output_type": "stream",
     "text": [
      "Importing Code.Analysis.Fitting\n",
      "It took 9.467 s to import Code.Analysis.Fitting\n",
      "Importing Code.Analysis.Interpolation\n",
      "It took 0.229 s to import Code.Analysis.Interpolation\n",
      "Importing Code.Analysis.NISTUncertainty\n",
      "It took 0.009 s to import Code.Analysis.NISTUncertainty\n",
      "Importing Code.Analysis.SParameter\n",
      "The module smithplot was not found,please put it on the python path\n",
      "It took 12.391 s to import Code.Analysis.SParameter\n",
      "Importing Code.Analysis.Uncertainty\n",
      "It took 0.006 s to import Code.Analysis.Uncertainty\n",
      "Importing Code.DataHandlers.GeneralModels\n",
      "It took 0.012 s to import Code.DataHandlers.GeneralModels\n",
      "Importing Code.DataHandlers.GraphModels\n",
      "It took 0.01 s to import Code.DataHandlers.GraphModels\n",
      "Importing Code.DataHandlers.HTMLModels\n",
      "It took 0.004 s to import Code.DataHandlers.HTMLModels\n",
      "Importing Code.DataHandlers.MUFModels\n",
      "It took 0.005 s to import Code.DataHandlers.MUFModels\n",
      "Importing Code.DataHandlers.NISTModels\n",
      "It took 0.005 s to import Code.DataHandlers.NISTModels\n",
      "Importing Code.DataHandlers.StatistiCALModels\n",
      "It took 0.005 s to import Code.DataHandlers.StatistiCALModels\n",
      "Importing Code.DataHandlers.TouchstoneModels\n",
      "The module smithplot was not found,please put it on the python path\n",
      "It took 0.041 s to import Code.DataHandlers.TouchstoneModels\n",
      "Importing Code.DataHandlers.Translations\n",
      "It took 0.014 s to import Code.DataHandlers.Translations\n",
      "Importing Code.DataHandlers.XMLModels\n",
      "It took 0.006 s to import Code.DataHandlers.XMLModels\n",
      "Importing Code.DataHandlers.ZipModels\n",
      "It took 0.007 s to import Code.DataHandlers.ZipModels\n",
      "Importing Code.InstrumentControl.Experiments\n",
      "It took 0.226 s to import Code.InstrumentControl.Experiments\n",
      "Importing Code.InstrumentControl.Instruments\n",
      "It took 0.008 s to import Code.InstrumentControl.Instruments\n",
      "Importing Code.Utils.Names\n",
      "It took 0.007 s to import Code.Utils.Names\n",
      "It took 22.453 s to import all of the active modules\n"
     ]
    }
   ],
   "source": [
    "from pyMeasure import *"
   ]
  },
  {
   "cell_type": "markdown",
   "metadata": {
    "slideshow": {
     "slide_type": "slide"
    }
   },
   "source": [
    "## Tracking of Static Metadata\n",
    "\n",
    "<a href=\"file://C:/ProgramData/Anaconda2/Lib/ite-packages/pyMeasure/Instruments/KEITHLEY6487_NSOM.xml\">Example of a XML sheet</a>"
   ]
  },
  {
   "cell_type": "code",
   "execution_count": 16,
   "metadata": {
    "collapsed": true,
    "slideshow": {
     "slide_type": "slide"
    }
   },
   "outputs": [],
   "source": [
    "# code example for opening an existing sheet\n",
    "instrument_sheet=InstrumentSheet(os.path.join(PYMEASURE_ROOT,\n",
    "                                              \"Instruments/KEITHLEY6487_NSOM.xml\"))"
   ]
  },
  {
   "cell_type": "code",
   "execution_count": 17,
   "metadata": {
    "collapsed": false
   },
   "outputs": [],
   "source": [
    "html_text=instrument_sheet.to_HTML(os.path.join(PYMEASURE_ROOT,\"Instruments/DEFAULT_INSTRUMENT_STYLE.xsl\"))"
   ]
  },
  {
   "cell_type": "code",
   "execution_count": 18,
   "metadata": {
    "collapsed": true
   },
   "outputs": [],
   "source": [
    "html=HTMLBase(html_text=html_text)"
   ]
  },
  {
   "cell_type": "code",
   "execution_count": 19,
   "metadata": {
    "collapsed": false
   },
   "outputs": [
    {
     "name": "stdout",
     "output_type": "stream",
     "text": [
      "file://c:/users/sandersa/appdata/local/temp/1/tmpfcfmyw.html\n"
     ]
    }
   ],
   "source": [
    "html.show()"
   ]
  },
  {
   "cell_type": "code",
   "execution_count": null,
   "metadata": {
    "collapsed": true
   },
   "outputs": [],
   "source": []
  }
 ],
 "metadata": {
  "celltoolbar": "Slideshow",
  "kernelspec": {
   "display_name": "Python 2",
   "language": "python",
   "name": "python2"
  },
  "language_info": {
   "codemirror_mode": {
    "name": "ipython",
    "version": 2
   },
   "file_extension": ".py",
   "mimetype": "text/x-python",
   "name": "python",
   "nbconvert_exporter": "python",
   "pygments_lexer": "ipython2",
   "version": "2.7.13"
  }
 },
 "nbformat": 4,
 "nbformat_minor": 2
}
