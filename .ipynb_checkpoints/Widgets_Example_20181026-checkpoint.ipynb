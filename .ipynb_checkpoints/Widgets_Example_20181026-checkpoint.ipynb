{
 "cells": [
  {
   "cell_type": "code",
   "execution_count": 1,
   "metadata": {},
   "outputs": [],
   "source": [
    "import ipywidgets as widgets\n",
    "from IPython.display import display"
   ]
  },
  {
   "cell_type": "code",
   "execution_count": 2,
   "metadata": {},
   "outputs": [],
   "source": [
    "slider=widgets.IntSlider(\n",
    "    value=7,\n",
    "    min=0,\n",
    "    max=10,\n",
    "    step=1,\n",
    "    description='Test:',\n",
    "    disabled=False,\n",
    "    continuous_update=False,\n",
    "    orientation='horizontal',\n",
    "    readout=True,\n",
    "    readout_format='d'\n",
    ")"
   ]
  },
  {
   "cell_type": "code",
   "execution_count": 3,
   "metadata": {},
   "outputs": [
    {
     "data": {
      "application/vnd.jupyter.widget-view+json": {
       "model_id": "c1a19a22334f4cb784f824aa07ca7440",
       "version_major": 2,
       "version_minor": 0
      },
      "text/plain": [
       "IntSlider(value=7, continuous_update=False, description='Test:', max=10)"
      ]
     },
     "metadata": {},
     "output_type": "display_data"
    }
   ],
   "source": [
    "display(slider)"
   ]
  },
  {
   "cell_type": "code",
   "execution_count": 4,
   "metadata": {},
   "outputs": [
    {
     "data": {
      "text/plain": [
       "7"
      ]
     },
     "execution_count": 4,
     "metadata": {},
     "output_type": "execute_result"
    }
   ],
   "source": [
    "slider.value"
   ]
  },
  {
   "cell_type": "code",
   "execution_count": 5,
   "metadata": {},
   "outputs": [
    {
     "data": {
      "application/vnd.jupyter.widget-view+json": {
       "model_id": "43d5bac0bff74294938daaf41bc33427",
       "version_major": 2,
       "version_minor": 0
      },
      "text/plain": [
       "Textarea(value='Hello World', description='String:', placeholder='Type something')"
      ]
     },
     "metadata": {},
     "output_type": "display_data"
    }
   ],
   "source": [
    "\n",
    "widgets.Textarea(\n",
    "    value='Hello World',\n",
    "    placeholder='Type something',\n",
    "    description='String:',\n",
    "    disabled=False\n",
    ")"
   ]
  },
  {
   "cell_type": "code",
   "execution_count": 6,
   "metadata": {},
   "outputs": [
    {
     "data": {
      "application/vnd.jupyter.widget-view+json": {
       "model_id": "d3871e7d583b4c1ba0b78e266d0ff7b1",
       "version_major": 2,
       "version_minor": 0
      },
      "text/plain": [
       "ToggleButtons(description='Speed:', options=('Slow', 'Regular', 'Fast'), tooltips=('Description of slow', 'Des…"
      ]
     },
     "metadata": {},
     "output_type": "display_data"
    }
   ],
   "source": [
    "\n",
    "widgets.ToggleButtons(\n",
    "    options=['Slow', 'Regular', 'Fast'],\n",
    "    description='Speed:',\n",
    "    disabled=False,\n",
    "    button_style='', # 'success', 'info', 'warning', 'danger' or ''\n",
    "    tooltips=['Description of slow', 'Description of regular', 'Description of fast'],\n",
    "#     icons=['check'] * 3\n",
    ")"
   ]
  },
  {
   "cell_type": "code",
   "execution_count": 7,
   "metadata": {},
   "outputs": [
    {
     "data": {
      "application/vnd.jupyter.widget-view+json": {
       "model_id": "40a863e35c7a4da8ad00e40fb6d38e1a",
       "version_major": 2,
       "version_minor": 0
      },
      "text/plain": [
       "Button(description='Click me', icon='check', style=ButtonStyle(), tooltip='Click me')"
      ]
     },
     "metadata": {},
     "output_type": "display_data"
    }
   ],
   "source": [
    "widgets.Button(\n",
    "    description='Click me',\n",
    "    disabled=False,\n",
    "    button_style='', # 'success', 'info', 'warning', 'danger' or ''\n",
    "    tooltip='Click me',\n",
    "    icon='check'\n",
    ")"
   ]
  },
  {
   "cell_type": "code",
   "execution_count": 8,
   "metadata": {},
   "outputs": [
    {
     "data": {
      "application/vnd.jupyter.widget-view+json": {
       "model_id": "37b3d4879edf4c9f919bfac052fa430f",
       "version_major": 2,
       "version_minor": 0
      },
      "text/plain": [
       "HBox(children=(Play(value=50, description='Press play'), IntSlider(value=0)))"
      ]
     },
     "metadata": {},
     "output_type": "display_data"
    }
   ],
   "source": [
    "\n",
    "play = widgets.Play(\n",
    "#     interval=10,\n",
    "    value=50,\n",
    "    min=0,\n",
    "    max=100,\n",
    "    step=1,\n",
    "    description=\"Press play\",\n",
    "    disabled=False\n",
    ")\n",
    "slider = widgets.IntSlider()\n",
    "widgets.jslink((play, 'value'), (slider, 'value'))\n",
    "widgets.HBox([play, slider])"
   ]
  },
  {
   "cell_type": "code",
   "execution_count": 9,
   "metadata": {},
   "outputs": [
    {
     "data": {
      "application/vnd.jupyter.widget-view+json": {
       "model_id": "5d9f27404e3c4d39aa7dc40c6d72f464",
       "version_major": 2,
       "version_minor": 0
      },
      "text/plain": [
       "Tab(children=(Text(value='', description='P0'), Text(value='', description='P1'), Text(value='', description='…"
      ]
     },
     "metadata": {},
     "output_type": "display_data"
    }
   ],
   "source": [
    "\n",
    "tab_contents = ['P0', 'P1', 'P2', 'P3', 'P4']\n",
    "children = [widgets.Text(description=name) for name in tab_contents]\n",
    "tab = widgets.Tab()\n",
    "tab.children = children\n",
    "for i in range(len(children)):\n",
    "    tab.set_title(i, str(i))\n",
    "tab"
   ]
  },
  {
   "cell_type": "code",
   "execution_count": 10,
   "metadata": {},
   "outputs": [
    {
     "data": {
      "application/vnd.jupyter.widget-view+json": {
       "model_id": "039789c622d64b5ba0c6cba4c09a6d3f",
       "version_major": 2,
       "version_minor": 0
      },
      "text/plain": [
       "Button(description='Click Me! 0', style=ButtonStyle())"
      ]
     },
     "metadata": {},
     "output_type": "display_data"
    },
    {
     "data": {
      "application/vnd.jupyter.widget-view+json": {
       "model_id": "af10cdc791644c3d829b7185a90e7772",
       "version_major": 2,
       "version_minor": 0
      },
      "text/plain": [
       "Button(description='Click Me! 1', style=ButtonStyle())"
      ]
     },
     "metadata": {},
     "output_type": "display_data"
    },
    {
     "data": {
      "application/vnd.jupyter.widget-view+json": {
       "model_id": "36405eeaf1b64057b579234dea4fc0fe",
       "version_major": 2,
       "version_minor": 0
      },
      "text/plain": [
       "Button(description='Click Me! 2', style=ButtonStyle())"
      ]
     },
     "metadata": {},
     "output_type": "display_data"
    },
    {
     "data": {
      "application/vnd.jupyter.widget-view+json": {
       "model_id": "cc69570651094600929274e9b13ba978",
       "version_major": 2,
       "version_minor": 0
      },
      "text/plain": [
       "Button(description='Click Me! 3', style=ButtonStyle())"
      ]
     },
     "metadata": {},
     "output_type": "display_data"
    },
    {
     "data": {
      "application/vnd.jupyter.widget-view+json": {
       "model_id": "a2721c16f6784a888405341ba4b7d945",
       "version_major": 2,
       "version_minor": 0
      },
      "text/plain": [
       "Button(description='Click Me! 4', style=ButtonStyle())"
      ]
     },
     "metadata": {},
     "output_type": "display_data"
    },
    {
     "data": {
      "application/vnd.jupyter.widget-view+json": {
       "model_id": "17639e1e1a17442da2dea35b20e98712",
       "version_major": 2,
       "version_minor": 0
      },
      "text/plain": [
       "Button(description='Click Me! 5', style=ButtonStyle())"
      ]
     },
     "metadata": {},
     "output_type": "display_data"
    },
    {
     "data": {
      "application/vnd.jupyter.widget-view+json": {
       "model_id": "f798851e72874f04a6b4627a8c17dfd6",
       "version_major": 2,
       "version_minor": 0
      },
      "text/plain": [
       "Button(description='Click Me! 6', style=ButtonStyle())"
      ]
     },
     "metadata": {},
     "output_type": "display_data"
    },
    {
     "data": {
      "application/vnd.jupyter.widget-view+json": {
       "model_id": "417d80cc77ca446996c775d03c93014f",
       "version_major": 2,
       "version_minor": 0
      },
      "text/plain": [
       "Button(description='Click Me! 7', style=ButtonStyle())"
      ]
     },
     "metadata": {},
     "output_type": "display_data"
    },
    {
     "data": {
      "application/vnd.jupyter.widget-view+json": {
       "model_id": "c2736bb20e1f40c69a2e4aa731a2da78",
       "version_major": 2,
       "version_minor": 0
      },
      "text/plain": [
       "Button(description='Click Me! 8', style=ButtonStyle())"
      ]
     },
     "metadata": {},
     "output_type": "display_data"
    },
    {
     "data": {
      "application/vnd.jupyter.widget-view+json": {
       "model_id": "6011fbc50e104f67810a893afc054ca5",
       "version_major": 2,
       "version_minor": 0
      },
      "text/plain": [
       "Button(description='Click Me! 9', style=ButtonStyle())"
      ]
     },
     "metadata": {},
     "output_type": "display_data"
    }
   ],
   "source": [
    "import ipywidgets as widgets\n",
    "from IPython.display import display\n",
    "def on_button_clicked(b):\n",
    "    print(b)\n",
    "    print(\"Button clicked. {0}\".format(b.description))\n",
    "\n",
    "button_list=[]\n",
    "for i in range(10):\n",
    "    button = widgets.Button(description=\"Click Me! {0}\".format(i))\n",
    "    button.on_click(on_button_clicked)\n",
    "    button_list.append(button)\n",
    "display(*button_list)\n",
    "\n",
    "\n"
   ]
  },
  {
   "cell_type": "code",
   "execution_count": 11,
   "metadata": {},
   "outputs": [],
   "source": [
    "class Button(widgets.Button):\n",
    "    \"\"\"A modified button class with self.data and self.function attributes\"\"\"\n",
    "    def __init__(self,**options):\n",
    "        defaults={\"description\":\"Button\",\"data\":None,\"function\":lambda x:print(x.data)}\n",
    "        self.options={}\n",
    "        for key,value in defaults.items():\n",
    "            self.options[key]=value\n",
    "        for key,value in options.items():\n",
    "            self.options[key]=value\n",
    "        if self.options[\"data\"]:\n",
    "            self.data=self.options[\"data\"]\n",
    "        else:\n",
    "            self.data=self.options[\"description\"]\n",
    "        button_parent_options={}\n",
    "        button_parent_keys=[\"description\",\"tooltip\",\"icon\",\"disabled\"]\n",
    "        for key in self.options.keys():\n",
    "            if key in button_parent_keys:\n",
    "                button_parent_options[key]=self.options[key]\n",
    "        widgets.Button.__init__(self,**button_parent_options)\n",
    "        if self.options[\"function\"]:\n",
    "            self.function=self.options[\"function\"]\n",
    "            self.on_click(self.function)\n",
    "\n",
    "\n",
    "    def show(self):\n",
    "        display(self)\n",
    "        "
   ]
  },
  {
   "cell_type": "code",
   "execution_count": 12,
   "metadata": {},
   "outputs": [],
   "source": [
    "import matplotlib.pyplot as plt\n",
    "def f(b,**options):\n",
    "    for key,value in options.items():\n",
    "        print(\"{0} : {1}\".format(key,value))\n",
    "\n",
    "def plot_something(b):\n",
    "    plt.plot(*b.data)\n",
    "    plt.show()\n",
    "button=Button(data=[[i for i in range(10)],\"r-o\"],description=r\"Plot Something\",function=plot_something)"
   ]
  },
  {
   "cell_type": "code",
   "execution_count": 13,
   "metadata": {},
   "outputs": [],
   "source": [
    "button.data=[[i**4 for i in range(110)],\"bs\"]"
   ]
  },
  {
   "cell_type": "code",
   "execution_count": 14,
   "metadata": {},
   "outputs": [],
   "source": [
    "import numpy as np"
   ]
  },
  {
   "cell_type": "code",
   "execution_count": 15,
   "metadata": {},
   "outputs": [],
   "source": [
    "button.data=[np.linspace(-10,10),np.linspace(-10,10)**2,\"k^\"]"
   ]
  },
  {
   "cell_type": "code",
   "execution_count": 16,
   "metadata": {},
   "outputs": [
    {
     "data": {
      "application/vnd.jupyter.widget-view+json": {
       "model_id": "6d9ee1d8948845d3bd8e877c36f460d0",
       "version_major": 2,
       "version_minor": 0
      },
      "text/plain": [
       "Button(description='Plot Something', style=ButtonStyle())"
      ]
     },
     "metadata": {},
     "output_type": "display_data"
    }
   ],
   "source": [
    "%matplotlib wx\n",
    "button.show()\n",
    "\n"
   ]
  },
  {
   "cell_type": "code",
   "execution_count": 17,
   "metadata": {},
   "outputs": [],
   "source": [
    "button.on_click(lambda x: print(\"new_function\"))"
   ]
  },
  {
   "cell_type": "code",
   "execution_count": 18,
   "metadata": {},
   "outputs": [
    {
     "data": {
      "application/vnd.jupyter.widget-view+json": {
       "model_id": "6d9ee1d8948845d3bd8e877c36f460d0",
       "version_major": 2,
       "version_minor": 0
      },
      "text/plain": [
       "Button(description='New Description', style=ButtonStyle())"
      ]
     },
     "metadata": {},
     "output_type": "display_data"
    }
   ],
   "source": [
    "button.description=\"New Description\"\n",
    "button.show()"
   ]
  },
  {
   "cell_type": "code",
   "execution_count": 19,
   "metadata": {},
   "outputs": [
    {
     "data": {
      "text/plain": [
       "<bound method Button.on_click of Button(description='New Description', style=ButtonStyle())>"
      ]
     },
     "execution_count": 19,
     "metadata": {},
     "output_type": "execute_result"
    }
   ],
   "source": [
    "button.on_click"
   ]
  },
  {
   "cell_type": "code",
   "execution_count": 20,
   "metadata": {},
   "outputs": [
    {
     "data": {
      "application/vnd.jupyter.widget-view+json": {
       "model_id": "19c66e9e27a045c082351f41329d1035",
       "version_major": 2,
       "version_minor": 0
      },
      "text/plain": [
       "IntSlider(value=0)"
      ]
     },
     "metadata": {},
     "output_type": "display_data"
    }
   ],
   "source": [
    "int_range = widgets.IntSlider()\n",
    "display(int_range)\n",
    "\n",
    "def on_value_change(change):\n",
    "    print(change['new'])\n",
    "\n",
    "int_range.observe(on_value_change, names='value')"
   ]
  },
  {
   "cell_type": "code",
   "execution_count": 21,
   "metadata": {},
   "outputs": [
    {
     "data": {
      "text/plain": [
       "'Click Me! 0'"
      ]
     },
     "execution_count": 21,
     "metadata": {},
     "output_type": "execute_result"
    }
   ],
   "source": [
    "button_list[0].description"
   ]
  },
  {
   "cell_type": "code",
   "execution_count": 22,
   "metadata": {},
   "outputs": [
    {
     "data": {
      "application/vnd.jupyter.widget-view+json": {
       "model_id": "d7e2c84617a14c168fe8569d58fa01f9",
       "version_major": 2,
       "version_minor": 0
      },
      "text/plain": [
       "Label(value='The values of slider1 and slider2 are synchronized')"
      ]
     },
     "metadata": {},
     "output_type": "display_data"
    },
    {
     "data": {
      "application/vnd.jupyter.widget-view+json": {
       "model_id": "38a2a03eefd043abae5f802d2145e073",
       "version_major": 2,
       "version_minor": 0
      },
      "text/plain": [
       "IntSlider(value=0, description='Slider 1')"
      ]
     },
     "metadata": {},
     "output_type": "display_data"
    },
    {
     "data": {
      "application/vnd.jupyter.widget-view+json": {
       "model_id": "15cffcde6ca345abbe3a83a4fc59374d",
       "version_major": 2,
       "version_minor": 0
      },
      "text/plain": [
       "IntSlider(value=0, description='Slider 2')"
      ]
     },
     "metadata": {},
     "output_type": "display_data"
    }
   ],
   "source": [
    "\n",
    "caption = widgets.Label(value='The values of slider1 and slider2 are synchronized')\n",
    "sliders1, slider2 = widgets.IntSlider(description='Slider 1'),\\\n",
    "                    widgets.IntSlider(description='Slider 2')\n",
    "l = widgets.link((sliders1, 'value'), (slider2, 'value'))\n",
    "display(caption, sliders1, slider2)"
   ]
  },
  {
   "cell_type": "code",
   "execution_count": 23,
   "metadata": {},
   "outputs": [
    {
     "name": "stdout",
     "output_type": "stream",
     "text": [
      "Importing pyMez, this should take roughly 30 seconds\n",
      "The module smithplot was not found,please put it on the python path\n"
     ]
    }
   ],
   "source": [
    "from pyMez import *"
   ]
  },
  {
   "cell_type": "code",
   "execution_count": 24,
   "metadata": {},
   "outputs": [],
   "source": [
    "import pyMez.Code.FrontEnds.JupyterWidgets"
   ]
  },
  {
   "cell_type": "code",
   "execution_count": 25,
   "metadata": {},
   "outputs": [],
   "source": [
    "button = pyMez.Code.FrontEnds.JupyterWidgets.PlotButton(data=[[np.linspace(-10,10),\"ko\"],{}])"
   ]
  },
  {
   "cell_type": "code",
   "execution_count": 26,
   "metadata": {},
   "outputs": [
    {
     "data": {
      "application/vnd.jupyter.widget-view+json": {
       "model_id": "ef7a83318e3d481aa51b02580e506b27",
       "version_major": 2,
       "version_minor": 0
      },
      "text/plain": [
       "PlotButton(description='Plot', style=ButtonStyle())"
      ]
     },
     "metadata": {},
     "output_type": "display_data"
    }
   ],
   "source": [
    "%matplotlib wx\n",
    "button.data=[[np.linspace(-10,10)**2,\"b-\"],{}]\n",
    "button.show()"
   ]
  },
  {
   "cell_type": "code",
   "execution_count": 27,
   "metadata": {},
   "outputs": [],
   "source": [
    "import matplotlib.pyplot as plt"
   ]
  },
  {
   "cell_type": "code",
   "execution_count": 28,
   "metadata": {},
   "outputs": [],
   "source": [
    "s2p=S2PV1(r\"./pyMez_Tour_Files/Line_4909_WR15_20180313_001.s2p\")"
   ]
  },
  {
   "cell_type": "code",
   "execution_count": 29,
   "metadata": {},
   "outputs": [
    {
     "data": {
      "application/vnd.jupyter.widget-view+json": {
       "model_id": "a80485e5bdc6405aabd7cc846678ff77",
       "version_major": 2,
       "version_minor": 0
      },
      "text/plain": [
       "ShowButton(description='Show', style=ButtonStyle())"
      ]
     },
     "metadata": {},
     "output_type": "display_data"
    }
   ],
   "source": [
    "show_button=pyMez.Code.FrontEnds.JupyterWidgets.ShowButton(data=s2p)\n",
    "show_button.show()"
   ]
  },
  {
   "cell_type": "code",
   "execution_count": 30,
   "metadata": {},
   "outputs": [],
   "source": [
    "html=HTMLBase(r\"C:\\Users\\sandersa\\PyCharmProjects\\Jupyter-Notebooks\\CheckStandard_Files\\CheckStandard_Report_C07208.html\")"
   ]
  },
  {
   "cell_type": "code",
   "execution_count": 31,
   "metadata": {},
   "outputs": [],
   "source": [
    "show_button.data=html"
   ]
  },
  {
   "cell_type": "code",
   "execution_count": 32,
   "metadata": {},
   "outputs": [
    {
     "data": {
      "application/vnd.jupyter.widget-view+json": {
       "model_id": "4f5d7b047c404e96a987e2561763b6dd",
       "version_major": 2,
       "version_minor": 0
      },
      "text/plain": [
       "ShowButton(description='RS_Match_100015_P1_Keysight_FixedLoad_70020_P2_WR15_20180313_001.s2p', layout=Layout(h…"
      ]
     },
     "metadata": {},
     "output_type": "display_data"
    },
    {
     "data": {
      "application/vnd.jupyter.widget-view+json": {
       "model_id": "1095e82ba0f04685a03e0f182351110e",
       "version_major": 2,
       "version_minor": 0
      },
      "text/plain": [
       "ShowButton(description='RS_Match_100015_P1_Keysight_FixedLoad_70020_P2_WR15_20180313_002.s2p', layout=Layout(h…"
      ]
     },
     "metadata": {},
     "output_type": "display_data"
    },
    {
     "data": {
      "application/vnd.jupyter.widget-view+json": {
       "model_id": "68bc7ad15cb64389ab928790e1fe18bf",
       "version_major": 2,
       "version_minor": 0
      },
      "text/plain": [
       "ShowButton(description='RS_Match_100015_P1_Keysight_FixedLoad_70020_P2_WR15_20180313_003.s2p', layout=Layout(h…"
      ]
     },
     "metadata": {},
     "output_type": "display_data"
    }
   ],
   "source": [
    "%matplotlib wx\n",
    "from ipywidgets import Button, Layout\n",
    "\n",
    "directory=r\"C:\\Share\\WR15_OML_20180309\\Loads\\s2p\"\n",
    "s2p_files=os.listdir(directory)\n",
    "button_list=[]\n",
    "for file_name in s2p_files:\n",
    "    button=pyMez.Code.FrontEnds.JupyterWidgets.ShowButton(data=S2PV1(os.path.join(directory,file_name)),\n",
    "                                                          description=file_name,stlye={'description_width': 'initial'},\n",
    "                                                         layout=Layout(width='80%', height='40px'))\n",
    "    button_list.append(button)\n",
    "display(*button_list)"
   ]
  },
  {
   "cell_type": "code",
   "execution_count": 33,
   "metadata": {},
   "outputs": [
    {
     "name": "stderr",
     "output_type": "stream",
     "text": [
      "C:\\Users\\sandersa\\AppData\\Local\\Continuum\\anaconda3\\lib\\site-packages\\odo\\backends\\pandas.py:102: FutureWarning: pandas.tslib is deprecated and will be removed in a future version.\n",
      "You can access NaTType as type(pandas.NaT)\n",
      "  @convert.register((pd.Timestamp, pd.Timedelta), (pd.tslib.NaTType, type(None)))\n"
     ]
    }
   ],
   "source": [
    "from pyMez.Code.DataHandlers.Translations import *"
   ]
  },
  {
   "cell_type": "code",
   "execution_count": 34,
   "metadata": {},
   "outputs": [],
   "source": [
    "def FileName_to_HtmlBase(file_path,xsl_directory=os.path.join(TESTS_DIRECTORY,\"../XSL\")):\n",
    "    \"\"\"Return an html version of the file for display\"\"\"\n",
    "    file_location=file_path\n",
    "    extension=file_location.split('.')[-1]\n",
    "    if extension in ['s2p',\"S2P\"]:\n",
    "        table=S2PV1(file_location)\n",
    "        table.change_data_format(\"RI\")\n",
    "        xml=S2PV1_to_XmlDataTable(table,format=\"RI\",style_sheet=os.path.join(xsl_directory,\"S2P_RI_STYLE.xsl\"))\n",
    "\n",
    "    elif extension in ['parameter','model','vnauncert','meas']:\n",
    "        xml=XMLBase(file_location,**{\"style_sheet\":os.path.join(xsl_directory,\"MUF_MENU_STYLE.xsl\")})\n",
    "\n",
    "    elif extension in ['conn']:\n",
    "        xml=XMLBase(file_location,**{\"style_sheet\":os.path.join(xsl_directory,\"VNATOOLS_CONNECTOR_STYLE.xsl\")})\n",
    "\n",
    "    elif extension in ['vnadev']:\n",
    "        xml=XMLBase(file_location,**{\"style_sheet\":os.path.join(xsl_directory,\"VNATOOLS_VNA_STYLE.xsl\")})\n",
    "\n",
    "    elif extension in ['cable']:\n",
    "        xml=XMLBase(file_location,**{\"style_sheet\":os.path.join(xsl_directory,\"VNATOOLS_CABLE_STYLE.xsl\")})\n",
    "\n",
    "    elif re.search('xml',extension,re.IGNORECASE):\n",
    "        if re.search(\"Resource_Registry\",file_location,re.IGNORECASE) and not re.search(\"Metadata\",file_location,re.IGNORECASE):\n",
    "            xml=XMLBase(file_location,**{\"style_sheet\":os.path.join(xsl_directory,\"FR_STYLE.xsl\")})\n",
    "        elif re.search(\"Resource_Registry\",file_location,re.IGNORECASE) and re.search(\"Metadata\",file_location,re.IGNORECASE):\n",
    "            xml=XMLBase(file_location,**{\"style_sheet\":os.path.join(xsl_directory,\"METADATA_STYLE.xsl\")})\n",
    "        elif re.search(\"Log\",file_location,re.IGNORECASE):\n",
    "            xml=XMLBase(file_location,**{\"style_sheet\":os.path.join(xsl_directory,\"DEFAULT_LOG_STYLE.xsl\")})\n",
    "        else:\n",
    "            xml=XMLBase(file_location,**{\"style_sheet\":os.path.join(xsl_directory,\"DEFAULT_STYLE.xsl\")})\n",
    "        \n",
    "    elif re.search('htm',extension,re.IGNORECASE):\n",
    "        xml=HTMLEcho(file_location)\n",
    "\n",
    "    elif extension in ['s1p','S1P']:\n",
    "        table=S1PV1(file_location)\n",
    "        xml=S1PV1_to_XmlDataTable(table,**{\"style_sheet\":os.path.join(xsl_directory,\"S1P_STYLE.xsl\")})\n",
    "\n",
    "    elif re.match('s[\\d]+p',extension,re.IGNORECASE):\n",
    "        table=SNP(file_location)\n",
    "        tabke.change_data_format(\"MA\")\n",
    "        xml=SNP_to_XmlDataTable(table,style_sheet=os.path.join(xsl_directory,\"S2P_MA_STYLE.xsl\"),format=\"MA\")\n",
    "\n",
    "    elif re.match('w2p',extension,re.IGNORECASE):\n",
    "        #print(\"Caught File, Being Handled by .txt statement\")\n",
    "        #print(\"{0} is {1}\".format('file_location',file_location))\n",
    "\n",
    "        table=W2P(file_location)\n",
    "            \n",
    "        xml=AsciiDataTable_to_XmlDataTable(table,\n",
    "                                               **{\"style_sheet\":os.path.join(xsl_directory,\"DEFAULT_MEASUREMENT_STYLE.xsl\")})\n",
    "    elif re.match('txt',extension,re.IGNORECASE):\n",
    "        #print(\"Caught File, Being Handled by .txt statement\")\n",
    "        #print(\"{0} is {1}\".format('file_location',file_location))\n",
    "        if re.search(\"CalCoefficients\",file_location,re.IGNORECASE):\n",
    "            print(\"Caught File, Being Handled by CalCoefficients.txt statement\")\n",
    "            table=TwelveTermErrorModel(file_location)\n",
    "            \n",
    "            xml=AsciiDataTable_to_XmlDataTable(table,\n",
    "                                               **{\"style_sheet\":os.path.join(xsl_directory,\"DEFAULT_MEASUREMENT_STYLE.xsl\")})\n",
    "\n",
    "        elif re.search(\"Solution_Plus\",file_location,re.IGNORECASE):\n",
    "            #print(\"Caught File, Being Handled by StatistiCALSolutionModel\")\n",
    "            table=StatistiCALSolutionModel(file_location)\n",
    "            xml=AsciiDataTable_to_XmlDataTable(table,\n",
    "                                               **{\"style_sheet\":os.path.join(xsl_directory,\"DEFAULT_MEASUREMENT_STYLE.xsl\")})\n",
    "\n",
    "    elif file_location.split('.')[-1]==file_location and re.search('_',file_location):\n",
    "        print(\"Caught by JB Handler\")\n",
    "        table=JBSparameter(file_location)\n",
    "        # old_prefix=table.get_frequency_units().replace('Hz','')\n",
    "        # table.change_unit_prefix(column_selector=0,old_prefix=old_prefix,new_prefix='G',unit='Hz')\n",
    "        # table.column_names=S2P_RI_COLUMN_NAMES\n",
    "        # xml=AsciiDataTable_to_XmlDataTable(table,**{\"style_sheet\":\"../XSL/S2P_STYLE_02.xsl\"})\n",
    "        s2p=JBSparameter_to_S2PV1(table)\n",
    "        xml=S2PV1_to_XmlDataTable(s2p,style_sheet=os.path.join(xsl_directory,\"S2P_DB_STYLE.xsl\"))\n",
    "\n",
    "    elif extension in ['asc','ASC','dut','DUT'] and not re.search('raw',file_location,re.IGNORECASE):\n",
    "        file_model=sparameter_power_type(file_location)\n",
    "        #print(\"{0} is {1}\".format('file_model',file_model))\n",
    "        model=globals()[file_model]\n",
    "        calrep_model=model(file_location)\n",
    "        if re.search(\"PowerCalrep\",file_model):\n",
    "            table=calrep_model.joined_table\n",
    "            #print(\"{0} is {1}\".format(\"table.column_names\",table.column_names))\n",
    "            if \"uCe\" in table.column_names:\n",
    "                style_sheet=os.path.join(xsl_directory,\"POWER_3TERM_CALREP_STYLE.xsl\")\n",
    "                #print(\"Power Model is 3TERM\")\n",
    "            else:\n",
    "                style_sheet=os.path.join(xsl_directory,\"POWER_CALREP_STYLE.xsl\")\n",
    "                #print(\"Power Model is 4TERM\")\n",
    "                \n",
    "        elif re.search(\"TwoPortCalrep\",file_model):\n",
    "            table=calrep_model.joined_table\n",
    "            style_sheet=os.path.join(xsl_directory,\"TWO_PORT_CALREP_STYLE.xsl\")\n",
    "            \n",
    "        else:\n",
    "            table=calrep_model\n",
    "            style_sheet=os.path.join(xsl_directory,\"ONE_PORT_CALREP_STYLE_002.xsl\")\n",
    "\n",
    "        xml=AsciiDataTable_to_XmlDataTable(table,**{\"style_sheet\":style_sheet})\n",
    "\n",
    "    elif re.search('(.)+_(.)+',extension) or re.search('raw',file_location,re.IGNORECASE):\n",
    "        #print(\"The file is a raw file\")\n",
    "        file_model=sparameter_power_type(file_location)\n",
    "        model=globals()[file_model]\n",
    "        table=model(file_location)\n",
    "        #print(\"{0} is {1}\".format('file_model',file_model))\n",
    "        if re.search(\"OnePort\",file_model):\n",
    "            style_sheet=os.path.join(xsl_directory,\"ONE_PORT_RAW_STYLE.xsl\")\n",
    "        elif re.search(\"TwoPort\",file_model):\n",
    "            style_sheet=os.path.join(xsl_directory,\"TWO_PORT_RAW_STYLE.xsl\")\n",
    "        elif re.search(\"PowerRaw\",file_model):\n",
    "            print(\"This is a raw Power File\")\n",
    "            style_sheet=os.path.join(xsl_directory,\"POWER_RAW_STYLE_002.xsl\")\n",
    "        xml=AsciiDataTable_to_XmlDataTable(table,**{\"style_sheet\":style_sheet})\n",
    "    else:\n",
    "        raise \n",
    "        #xml=XMLBase(style_sheet=os.path.join(xsl_directory,\"DEFAULT_STYLE.xsl\"))\n",
    "    \n",
    "    html=HTMLBase(html_text=xml.to_HTML())\n",
    "    return html"
   ]
  },
  {
   "cell_type": "code",
   "execution_count": 35,
   "metadata": {},
   "outputs": [],
   "source": [
    "html=FileName_to_HtmlBase(r\"C:\\Share\\20180215_WR15_VDI\\Thru_WR15_Wave_Parameters_20180215_003.w2p\")"
   ]
  },
  {
   "cell_type": "code",
   "execution_count": 37,
   "metadata": {},
   "outputs": [],
   "source": [
    "html.show()"
   ]
  },
  {
   "cell_type": "code",
   "execution_count": 36,
   "metadata": {
    "scrolled": true
   },
   "outputs": [
    {
     "name": "stdout",
     "output_type": "stream",
     "text": [
      "file://C:/Users/sandersa/AppData/Local/Temp/1/tmpm3f70bt2.html\n",
      "ERROR! Session/line number was not unique in database. History logging moved to new session 1227\n"
     ]
    },
    {
     "data": {
      "application/vnd.jupyter.widget-view+json": {
       "model_id": "16ead1c8504243e4adfa1f45492d8a93",
       "version_major": 2,
       "version_minor": 0
      },
      "text/plain": [
       "ShowButton(description='line1Height.parameter', layout=Layout(height='40px', width='80%'), style=ButtonStyle()…"
      ]
     },
     "metadata": {},
     "output_type": "display_data"
    },
    {
     "data": {
      "application/vnd.jupyter.widget-view+json": {
       "model_id": "c3f94542b2964ed9a37d63622cdc3660",
       "version_major": 2,
       "version_minor": 0
      },
      "text/plain": [
       "ShowButton(description='line1Length.parameter', layout=Layout(height='40px', width='80%'), style=ButtonStyle()…"
      ]
     },
     "metadata": {},
     "output_type": "display_data"
    },
    {
     "data": {
      "application/vnd.jupyter.widget-view+json": {
       "model_id": "a99a46f6b907469a88d58519167e3968",
       "version_major": 2,
       "version_minor": 0
      },
      "text/plain": [
       "ShowButton(description='line1Resist.parameter', layout=Layout(height='40px', width='80%'), style=ButtonStyle()…"
      ]
     },
     "metadata": {},
     "output_type": "display_data"
    },
    {
     "data": {
      "application/vnd.jupyter.widget-view+json": {
       "model_id": "d81e69d789b94b1e84beb2c515507a3a",
       "version_major": 2,
       "version_minor": 0
      },
      "text/plain": [
       "ShowButton(description='line1Width.parameter', layout=Layout(height='40px', width='80%'), style=ButtonStyle())"
      ]
     },
     "metadata": {},
     "output_type": "display_data"
    },
    {
     "data": {
      "application/vnd.jupyter.widget-view+json": {
       "model_id": "2f0ef0ea05174602bf831451f7062f28",
       "version_major": 2,
       "version_minor": 0
      },
      "text/plain": [
       "ShowButton(description='wr15line1.model', layout=Layout(height='40px', width='80%'), style=ButtonStyle())"
      ]
     },
     "metadata": {},
     "output_type": "display_data"
    }
   ],
   "source": [
    "%matplotlib wx\n",
    "from ipywidgets import Button, Layout\n",
    "\n",
    "directory=r\"C:\\Share\\WR15CalStdPortImperfect\\WR15Line1\"\n",
    "s2p_files=os.listdir(directory)\n",
    "button_list=[]\n",
    "if button:\n",
    "    del button\n",
    "for file_name in s2p_files:\n",
    "    if os.path.isdir(os.path.join(directory,file_name)):\n",
    "        pass\n",
    "    else:\n",
    "        button=pyMez.Code.FrontEnds.JupyterWidgets.ShowButton(data=FileName_to_HtmlBase(os.path.join(directory,file_name)),\n",
    "                                                          description=file_name,stlye={'description_width': 'initial'},\n",
    "                                                         layout=Layout(width='80%', height='40px'))\n",
    "        button_list.append(button)\n",
    "display(*button_list)"
   ]
  },
  {
   "cell_type": "code",
   "execution_count": 38,
   "metadata": {},
   "outputs": [],
   "source": [
    "xsl_directory=os.path.join(TESTS_DIRECTORY,\"../XSL\")\n",
    "xml=XMLBase(r\"C:\\Share\\WR15_OML_MUF_20180313\\TRL_1\\WR15_Menu_TrueThru_Switch_20180223.vnauncert\",**{\"style_sheet\":os.path.join(xsl_directory,\"MUF_MENU_STYLE.xsl\")})\n",
    "html=HTMLBase(html_text=xml.to_HTML())"
   ]
  },
  {
   "cell_type": "code",
   "execution_count": 41,
   "metadata": {},
   "outputs": [],
   "source": [
    "html.show()"
   ]
  },
  {
   "cell_type": "code",
   "execution_count": 39,
   "metadata": {},
   "outputs": [
    {
     "name": "stdout",
     "output_type": "stream",
     "text": [
      "file://C:/Users/sandersa/AppData/Local/Temp/1/tmpsyqf3bh2.html\n"
     ]
    },
    {
     "data": {
      "text/plain": [
       "[ShowButton(description='line1Height.parameter', layout=Layout(height='40px', width='80%'), style=ButtonStyle()),\n",
       " ShowButton(description='line1Length.parameter', layout=Layout(height='40px', width='80%'), style=ButtonStyle()),\n",
       " ShowButton(description='line1Resist.parameter', layout=Layout(height='40px', width='80%'), style=ButtonStyle()),\n",
       " ShowButton(description='line1Width.parameter', layout=Layout(height='40px', width='80%'), style=ButtonStyle()),\n",
       " ShowButton(description='wr15line1.model', layout=Layout(height='40px', width='80%'), style=ButtonStyle())]"
      ]
     },
     "execution_count": 39,
     "metadata": {},
     "output_type": "execute_result"
    }
   ],
   "source": [
    "button_list"
   ]
  },
  {
   "cell_type": "code",
   "execution_count": 40,
   "metadata": {},
   "outputs": [
    {
     "name": "stdout",
     "output_type": "stream",
     "text": [
      "ERROR! Session/line number was not unique in database. History logging moved to new session 1228\n"
     ]
    }
   ],
   "source": [
    "del button"
   ]
  },
  {
   "cell_type": "code",
   "execution_count": 42,
   "metadata": {},
   "outputs": [],
   "source": [
    "def create_html_button_list(directory):\n",
    "    file_names=os.listdir(directory)\n",
    "    button_list=[]\n",
    "    for file_name in file_names:\n",
    "        try:\n",
    "            if os.path.isdir(os.path.join(directory,file_name)):\n",
    "                pass\n",
    "            else:\n",
    "                button=pyMez.Code.FrontEnds.JupyterWidgets.ShowButton(data=FileName_to_HtmlBase(os.path.join(directory,file_name)),\n",
    "                                                                  description=file_name,stlye={'description_width': 'initial'},\n",
    "                                                                 layout=Layout(width='80%', height='40px'))\n",
    "                button_list.append(button)\n",
    "        except:\n",
    "            pass\n",
    "    display(*button_list)\n",
    "    return button_list\n"
   ]
  },
  {
   "cell_type": "code",
   "execution_count": 43,
   "metadata": {},
   "outputs": [
    {
     "name": "stdout",
     "output_type": "stream",
     "text": [
      "The self.metadata[\"Device_Id\"] variable is 700437\n",
      "Caught File, Being Handled by CalCoefficients.txt statement\n",
      "This is a raw Power File\n",
      "Caught by JB Handler\n",
      "Warning \\n is in the remove tokens\n",
      "Caught by JB Handler\n",
      "Warning \\n is in the remove tokens\n",
      "The data was not fully formed. Please make sure that all rows are the same length.If the file is not properly formed, then run statisticAL again (make sure you ShowStatistiCAL first)\n"
     ]
    },
    {
     "data": {
      "application/vnd.jupyter.widget-view+json": {
       "model_id": "d629e6e2c1744e6391bb046453122792",
       "version_major": 2,
       "version_minor": 0
      },
      "text/plain": [
       "ShowButton(description='20160301_30ft_cable_0.s2p', layout=Layout(height='40px', width='80%'), style=ButtonSty…"
      ]
     },
     "metadata": {},
     "output_type": "display_data"
    },
    {
     "data": {
      "application/vnd.jupyter.widget-view+json": {
       "model_id": "1c65106fe9df459086680a030a4fed37",
       "version_major": 2,
       "version_minor": 0
      },
      "text/plain": [
       "ShowButton(description='700196.asc', layout=Layout(height='40px', width='80%'), style=ButtonStyle())"
      ]
     },
     "metadata": {},
     "output_type": "display_data"
    },
    {
     "data": {
      "application/vnd.jupyter.widget-view+json": {
       "model_id": "3fbfa7716c3640eab1258d92a717d27a",
       "version_major": 2,
       "version_minor": 0
      },
      "text/plain": [
       "ShowButton(description='700437.asc', layout=Layout(height='40px', width='80%'), style=ButtonStyle())"
      ]
     },
     "metadata": {},
     "output_type": "display_data"
    },
    {
     "data": {
      "application/vnd.jupyter.widget-view+json": {
       "model_id": "09a866af0c644fc1871b879fd970664d",
       "version_major": 2,
       "version_minor": 0
      },
      "text/plain": [
       "ShowButton(description='704b.S2P', layout=Layout(height='40px', width='80%'), style=ButtonStyle())"
      ]
     },
     "metadata": {},
     "output_type": "display_data"
    },
    {
     "data": {
      "application/vnd.jupyter.widget-view+json": {
       "model_id": "061f7d422fff44e09292f29a4b9bdbe1",
       "version_major": 2,
       "version_minor": 0
      },
      "text/plain": [
       "ShowButton(description='922729.asc', layout=Layout(height='40px', width='80%'), style=ButtonStyle())"
      ]
     },
     "metadata": {},
     "output_type": "display_data"
    },
    {
     "data": {
      "application/vnd.jupyter.widget-view+json": {
       "model_id": "ac597219cabb403381b918f768d76e16",
       "version_major": 2,
       "version_minor": 0
      },
      "text/plain": [
       "ShowButton(description='952489.asc', layout=Layout(height='40px', width='80%'), style=ButtonStyle())"
      ]
     },
     "metadata": {},
     "output_type": "display_data"
    },
    {
     "data": {
      "application/vnd.jupyter.widget-view+json": {
       "model_id": "e4810829a06745bbb621683b4a47cbfe",
       "version_major": 2,
       "version_minor": 0
      },
      "text/plain": [
       "ShowButton(description='CalCoefficients.txt', layout=Layout(height='40px', width='80%'), style=ButtonStyle())"
      ]
     },
     "metadata": {},
     "output_type": "display_data"
    },
    {
     "data": {
      "application/vnd.jupyter.widget-view+json": {
       "model_id": "275e2c84ac6444b4aee6b9a9f1b86d3a",
       "version_major": 2,
       "version_minor": 0
      },
      "text/plain": [
       "ShowButton(description='Canal_36.S2P', layout=Layout(height='40px', width='80%'), style=ButtonStyle())"
      ]
     },
     "metadata": {},
     "output_type": "display_data"
    },
    {
     "data": {
      "application/vnd.jupyter.widget-view+json": {
       "model_id": "bd9d05916fca46358e9f010182862b65",
       "version_major": 2,
       "version_minor": 0
      },
      "text/plain": [
       "ShowButton(description='CH_6.s2p', layout=Layout(height='40px', width='80%'), style=ButtonStyle())"
      ]
     },
     "metadata": {},
     "output_type": "display_data"
    },
    {
     "data": {
      "application/vnd.jupyter.widget-view+json": {
       "model_id": "07ff930727664a808da3992223e88ca5",
       "version_major": 2,
       "version_minor": 0
      },
      "text/plain": [
       "ShowButton(description='combined_html.html', layout=Layout(height='40px', width='80%'), style=ButtonStyle())"
      ]
     },
     "metadata": {},
     "output_type": "display_data"
    },
    {
     "data": {
      "application/vnd.jupyter.widget-view+json": {
       "model_id": "856fd865746f4acd9146dcdb39dd6292",
       "version_major": 2,
       "version_minor": 0
      },
      "text/plain": [
       "ShowButton(description='CTN106.D4_091799', layout=Layout(height='40px', width='80%'), style=ButtonStyle())"
      ]
     },
     "metadata": {},
     "output_type": "display_data"
    },
    {
     "data": {
      "application/vnd.jupyter.widget-view+json": {
       "model_id": "28352fb7fe7f481e9a9b88489fdb1086",
       "version_major": 2,
       "version_minor": 0
      },
      "text/plain": [
       "ShowButton(description='CTN208.A1_011613', layout=Layout(height='40px', width='80%'), style=ButtonStyle())"
      ]
     },
     "metadata": {},
     "output_type": "display_data"
    },
    {
     "data": {
      "application/vnd.jupyter.widget-view+json": {
       "model_id": "efaead5a471c4df0a245b383808590c1",
       "version_major": 2,
       "version_minor": 0
      },
      "text/plain": [
       "ShowButton(description='CTN208.R1_062614', layout=Layout(height='40px', width='80%'), style=ButtonStyle())"
      ]
     },
     "metadata": {},
     "output_type": "display_data"
    },
    {
     "data": {
      "application/vnd.jupyter.widget-view+json": {
       "model_id": "00fcf0721d534290a08ad99afed27643",
       "version_major": 2,
       "version_minor": 0
      },
      "text/plain": [
       "ShowButton(description='CTNP11.L36_062399', layout=Layout(height='40px', width='80%'), style=ButtonStyle())"
      ]
     },
     "metadata": {},
     "output_type": "display_data"
    },
    {
     "data": {
      "application/vnd.jupyter.widget-view+json": {
       "model_id": "9922691aef1b4cca9b79af61604134c7",
       "version_major": 2,
       "version_minor": 0
      },
      "text/plain": [
       "ShowButton(description='CTNP15.A1_042601', layout=Layout(height='40px', width='80%'), style=ButtonStyle())"
      ]
     },
     "metadata": {},
     "output_type": "display_data"
    },
    {
     "data": {
      "application/vnd.jupyter.widget-view+json": {
       "model_id": "399d052ed0434d9cb22161968e2ae00a",
       "version_major": 2,
       "version_minor": 0
      },
      "text/plain": [
       "ShowButton(description='Data_Table_021311_1.xml', layout=Layout(height='40px', width='80%'), style=ButtonStyle…"
      ]
     },
     "metadata": {},
     "output_type": "display_data"
    },
    {
     "data": {
      "application/vnd.jupyter.widget-view+json": {
       "model_id": "48a42795d9ea48c29deaa47b2b5b900f",
       "version_major": 2,
       "version_minor": 0
      },
      "text/plain": [
       "ShowButton(description='Data_Table_20160223_001.xml', layout=Layout(height='40px', width='80%'), style=ButtonS…"
      ]
     },
     "metadata": {},
     "output_type": "display_data"
    },
    {
     "data": {
      "application/vnd.jupyter.widget-view+json": {
       "model_id": "f8c4506f3e0f44afa66313ac495004b7",
       "version_major": 2,
       "version_minor": 0
      },
      "text/plain": [
       "ShowButton(description='Data_Table_20160224_001.xml', layout=Layout(height='40px', width='80%'), style=ButtonS…"
      ]
     },
     "metadata": {},
     "output_type": "display_data"
    },
    {
     "data": {
      "application/vnd.jupyter.widget-view+json": {
       "model_id": "514aab9e54cc4f16801203064edd673d",
       "version_major": 2,
       "version_minor": 0
      },
      "text/plain": [
       "ShowButton(description='filtern5.s2p', layout=Layout(height='40px', width='80%'), style=ButtonStyle())"
      ]
     },
     "metadata": {},
     "output_type": "display_data"
    },
    {
     "data": {
      "application/vnd.jupyter.widget-view+json": {
       "model_id": "90cdc953cb6547f185a471d7a51b6a46",
       "version_major": 2,
       "version_minor": 0
      },
      "text/plain": [
       "ShowButton(description='filtern5_narrow.s2p', layout=Layout(height='40px', width='80%'), style=ButtonStyle())"
      ]
     },
     "metadata": {},
     "output_type": "display_data"
    },
    {
     "data": {
      "application/vnd.jupyter.widget-view+json": {
       "model_id": "af3dc700f75942108626356aa234183c",
       "version_major": 2,
       "version_minor": 0
      },
      "text/plain": [
       "ShowButton(description='Filter_n7_f0_2_35ghz.s2p', layout=Layout(height='40px', width='80%'), style=ButtonStyl…"
      ]
     },
     "metadata": {},
     "output_type": "display_data"
    },
    {
     "data": {
      "application/vnd.jupyter.widget-view+json": {
       "model_id": "dacdf47339ad43faa72b154ac1498d02",
       "version_major": 2,
       "version_minor": 0
      },
      "text/plain": [
       "ShowButton(description='ftest6_L1_g5_HF_air', layout=Layout(height='40px', width='80%'), style=ButtonStyle())"
      ]
     },
     "metadata": {},
     "output_type": "display_data"
    },
    {
     "data": {
      "application/vnd.jupyter.widget-view+json": {
       "model_id": "46ef10c239704de3a790d4607f9c6202",
       "version_major": 2,
       "version_minor": 0
      },
      "text/plain": [
       "ShowButton(description='Log_XML_20160222_001.xml', layout=Layout(height='40px', width='80%'), style=ButtonStyl…"
      ]
     },
     "metadata": {},
     "output_type": "display_data"
    },
    {
     "data": {
      "application/vnd.jupyter.widget-view+json": {
       "model_id": "e534c40b32eb43dcbbca14f295bd6cd0",
       "version_major": 2,
       "version_minor": 0
      },
      "text/plain": [
       "ShowButton(description='Log_XML_20160222_002.xml', layout=Layout(height='40px', width='80%'), style=ButtonStyl…"
      ]
     },
     "metadata": {},
     "output_type": "display_data"
    },
    {
     "data": {
      "application/vnd.jupyter.widget-view+json": {
       "model_id": "c740aeb228fa407fb93f9284a3be4267",
       "version_major": 2,
       "version_minor": 0
      },
      "text/plain": [
       "ShowButton(description='modified_hilbert_resonator.s2p', layout=Layout(height='40px', width='80%'), style=Butt…"
      ]
     },
     "metadata": {},
     "output_type": "display_data"
    },
    {
     "data": {
      "application/vnd.jupyter.widget-view+json": {
       "model_id": "3cacb1c333ff41f99b362ef1984779ad",
       "version_major": 2,
       "version_minor": 0
      },
      "text/plain": [
       "ShowButton(description='N205RV.asc', layout=Layout(height='40px', width='80%'), style=ButtonStyle())"
      ]
     },
     "metadata": {},
     "output_type": "display_data"
    },
    {
     "data": {
      "application/vnd.jupyter.widget-view+json": {
       "model_id": "8d2d350e3fd84416ada95e4cf89fca3a",
       "version_major": 2,
       "version_minor": 0
      },
      "text/plain": [
       "ShowButton(description='new_s2p.s2p', layout=Layout(height='40px', width='80%'), style=ButtonStyle())"
      ]
     },
     "metadata": {},
     "output_type": "display_data"
    },
    {
     "data": {
      "application/vnd.jupyter.widget-view+json": {
       "model_id": "4479eb71868a409aa9cb8752b18ed6cd",
       "version_major": 2,
       "version_minor": 0
      },
      "text/plain": [
       "ShowButton(description='OnePortTouchstoneTestFile.s1p', layout=Layout(height='40px', width='80%'), style=Butto…"
      ]
     },
     "metadata": {},
     "output_type": "display_data"
    },
    {
     "data": {
      "application/vnd.jupyter.widget-view+json": {
       "model_id": "2ab4831d84604e2ba2a4e6c15f5608c3",
       "version_major": 2,
       "version_minor": 0
      },
      "text/plain": [
       "ShowButton(description='One_Port_Raw_Sparameter_20160307_001.html', layout=Layout(height='40px', width='80%'),…"
      ]
     },
     "metadata": {},
     "output_type": "display_data"
    },
    {
     "data": {
      "application/vnd.jupyter.widget-view+json": {
       "model_id": "37f76140f59f4decb9a33fca2dc39c2f",
       "version_major": 2,
       "version_minor": 0
      },
      "text/plain": [
       "ShowButton(description='One_Port_Raw_Sparameter_20160307_001.xml', layout=Layout(height='40px', width='80%'), …"
      ]
     },
     "metadata": {},
     "output_type": "display_data"
    },
    {
     "data": {
      "application/vnd.jupyter.widget-view+json": {
       "model_id": "6adffeb639b24bb0968ab454bdfe20e6",
       "version_major": 2,
       "version_minor": 0
      },
      "text/plain": [
       "ShowButton(description='One_Port_Sparameter_20160303_001.xml', layout=Layout(height='40px', width='80%'), styl…"
      ]
     },
     "metadata": {},
     "output_type": "display_data"
    },
    {
     "data": {
      "application/vnd.jupyter.widget-view+json": {
       "model_id": "33983ca763f044b7b7574e9899686c43",
       "version_major": 2,
       "version_minor": 0
      },
      "text/plain": [
       "ShowButton(description='One_Port_Sparameter_20160307_001.html', layout=Layout(height='40px', width='80%'), sty…"
      ]
     },
     "metadata": {},
     "output_type": "display_data"
    },
    {
     "data": {
      "application/vnd.jupyter.widget-view+json": {
       "model_id": "c494878a4178442289ffe703a5b2dee7",
       "version_major": 2,
       "version_minor": 0
      },
      "text/plain": [
       "ShowButton(description='One_Port_Sparameter_20160307_001.xml', layout=Layout(height='40px', width='80%'), styl…"
      ]
     },
     "metadata": {},
     "output_type": "display_data"
    },
    {
     "data": {
      "application/vnd.jupyter.widget-view+json": {
       "model_id": "11ac5fdd183f40e1b54076826eead26c",
       "version_major": 2,
       "version_minor": 0
      },
      "text/plain": [
       "ShowButton(description='One_Port_Sparameter_20160308_001.html', layout=Layout(height='40px', width='80%'), sty…"
      ]
     },
     "metadata": {},
     "output_type": "display_data"
    },
    {
     "data": {
      "application/vnd.jupyter.widget-view+json": {
       "model_id": "14bc61ca16b64a68b35f319a0d286287",
       "version_major": 2,
       "version_minor": 0
      },
      "text/plain": [
       "ShowButton(description='One_Port_Sparameter_20160308_001.xml', layout=Layout(height='40px', width='80%'), styl…"
      ]
     },
     "metadata": {},
     "output_type": "display_data"
    },
    {
     "data": {
      "application/vnd.jupyter.widget-view+json": {
       "model_id": "49862ec66fa943fe84dc35daa54bc368",
       "version_major": 2,
       "version_minor": 0
      },
      "text/plain": [
       "ShowButton(description='One_Port_Sparameter_20160309_001.html', layout=Layout(height='40px', width='80%'), sty…"
      ]
     },
     "metadata": {},
     "output_type": "display_data"
    },
    {
     "data": {
      "application/vnd.jupyter.widget-view+json": {
       "model_id": "907470504b2e4bf4aeca54894d6678ab",
       "version_major": 2,
       "version_minor": 0
      },
      "text/plain": [
       "ShowButton(description='One_Port_Sparameter_20160309_001.xml', layout=Layout(height='40px', width='80%'), styl…"
      ]
     },
     "metadata": {},
     "output_type": "display_data"
    },
    {
     "data": {
      "application/vnd.jupyter.widget-view+json": {
       "model_id": "0d9cb6b2411c4d599e78ba2c7336ecea",
       "version_major": 2,
       "version_minor": 0
      },
      "text/plain": [
       "ShowButton(description='One_Port_Sparameter_20160812_001.html', layout=Layout(height='40px', width='80%'), sty…"
      ]
     },
     "metadata": {},
     "output_type": "display_data"
    },
    {
     "data": {
      "application/vnd.jupyter.widget-view+json": {
       "model_id": "86a8eca948324e09a36020e538c7d8c5",
       "version_major": 2,
       "version_minor": 0
      },
      "text/plain": [
       "ShowButton(description='One_Port_Sparameter_20160812_001.xml', layout=Layout(height='40px', width='80%'), styl…"
      ]
     },
     "metadata": {},
     "output_type": "display_data"
    },
    {
     "data": {
      "application/vnd.jupyter.widget-view+json": {
       "model_id": "0616620d0ea544df9fea6f41aa1437e5",
       "version_major": 2,
       "version_minor": 0
      },
      "text/plain": [
       "ShowButton(description='One_Port_Sparameter_20160815_001.html', layout=Layout(height='40px', width='80%'), sty…"
      ]
     },
     "metadata": {},
     "output_type": "display_data"
    },
    {
     "data": {
      "application/vnd.jupyter.widget-view+json": {
       "model_id": "54592b3be93344b199c55e4ab1788487",
       "version_major": 2,
       "version_minor": 0
      },
      "text/plain": [
       "ShowButton(description='One_Port_Sparameter_20160815_001.xml', layout=Layout(height='40px', width='80%'), styl…"
      ]
     },
     "metadata": {},
     "output_type": "display_data"
    },
    {
     "data": {
      "application/vnd.jupyter.widget-view+json": {
       "model_id": "6b3af0d15b304057b3fd5efdf8468b76",
       "version_major": 2,
       "version_minor": 0
      },
      "text/plain": [
       "ShowButton(description='Open.meas', layout=Layout(height='40px', width='80%'), style=ButtonStyle())"
      ]
     },
     "metadata": {},
     "output_type": "display_data"
    },
    {
     "data": {
      "application/vnd.jupyter.widget-view+json": {
       "model_id": "3127dca741b74a64866c9f760af5bd98",
       "version_major": 2,
       "version_minor": 0
      },
      "text/plain": [
       "ShowButton(description='QuartzRefExample_L1_g10_HF', layout=Layout(height='40px', width='80%'), style=ButtonSt…"
      ]
     },
     "metadata": {},
     "output_type": "display_data"
    },
    {
     "data": {
      "application/vnd.jupyter.widget-view+json": {
       "model_id": "ce081198458e45e092f5f74f14bd70d5",
       "version_major": 2,
       "version_minor": 0
      },
      "text/plain": [
       "ShowButton(description='Resource_Registry_20160222_001.xml', layout=Layout(height='40px', width='80%'), style=…"
      ]
     },
     "metadata": {},
     "output_type": "display_data"
    },
    {
     "data": {
      "application/vnd.jupyter.widget-view+json": {
       "model_id": "87c61091dbb148518f3f8861362cadeb",
       "version_major": 2,
       "version_minor": 0
      },
      "text/plain": [
       "ShowButton(description='Resource_Registry_20160222_001_Metadata.xml', layout=Layout(height='40px', width='80%'…"
      ]
     },
     "metadata": {},
     "output_type": "display_data"
    },
    {
     "data": {
      "application/vnd.jupyter.widget-view+json": {
       "model_id": "718fd5de796040ae80459c0431f45380",
       "version_major": 2,
       "version_minor": 0
      },
      "text/plain": [
       "ShowButton(description='Resource_Registry_20160222_002.xml', layout=Layout(height='40px', width='80%'), style=…"
      ]
     },
     "metadata": {},
     "output_type": "display_data"
    },
    {
     "data": {
      "application/vnd.jupyter.widget-view+json": {
       "model_id": "a2877320010845379382e08b7afaa192",
       "version_major": 2,
       "version_minor": 0
      },
      "text/plain": [
       "ShowButton(description='Resource_Registry_20160222_003.xml', layout=Layout(height='40px', width='80%'), style=…"
      ]
     },
     "metadata": {},
     "output_type": "display_data"
    },
    {
     "data": {
      "application/vnd.jupyter.widget-view+json": {
       "model_id": "ae9cf6a35db84adf80edd2355716bf8d",
       "version_major": 2,
       "version_minor": 0
      },
      "text/plain": [
       "ShowButton(description='Resource_Registry_20160518_001.xml', layout=Layout(height='40px', width='80%'), style=…"
      ]
     },
     "metadata": {},
     "output_type": "display_data"
    },
    {
     "data": {
      "application/vnd.jupyter.widget-view+json": {
       "model_id": "f7e2e67ff3524289b46b46d9c5eedc77",
       "version_major": 2,
       "version_minor": 0
      },
      "text/plain": [
       "ShowButton(description='Resource_Registry_20160518_001_Metadata.xml', layout=Layout(height='40px', width='80%'…"
      ]
     },
     "metadata": {},
     "output_type": "display_data"
    },
    {
     "data": {
      "application/vnd.jupyter.widget-view+json": {
       "model_id": "f34d371e48474345b24437e08e41ed7c",
       "version_major": 2,
       "version_minor": 0
      },
      "text/plain": [
       "ShowButton(description='Resource_Registry_20170227_001.xml', layout=Layout(height='40px', width='80%'), style=…"
      ]
     },
     "metadata": {},
     "output_type": "display_data"
    },
    {
     "data": {
      "application/vnd.jupyter.widget-view+json": {
       "model_id": "7f98b1ebfb74471e999d51070ab9e8ab",
       "version_major": 2,
       "version_minor": 0
      },
      "text/plain": [
       "ShowButton(description='SavedTest2PortRaw.html', layout=Layout(height='40px', width='80%'), style=ButtonStyle(…"
      ]
     },
     "metadata": {},
     "output_type": "display_data"
    },
    {
     "data": {
      "application/vnd.jupyter.widget-view+json": {
       "model_id": "1c9960d9f6754bf5bdbc7b1bd83e321f",
       "version_major": 2,
       "version_minor": 0
      },
      "text/plain": [
       "ShowButton(description='SavedTest2PortRaw.s2p', layout=Layout(height='40px', width='80%'), style=ButtonStyle()…"
      ]
     },
     "metadata": {},
     "output_type": "display_data"
    },
    {
     "data": {
      "application/vnd.jupyter.widget-view+json": {
       "model_id": "cd401d3fc6f74707a73506dd8b5e5cb0",
       "version_major": 2,
       "version_minor": 0
      },
      "text/plain": [
       "ShowButton(description='SavedTest2PortRaw.xml', layout=Layout(height='40px', width='80%'), style=ButtonStyle()…"
      ]
     },
     "metadata": {},
     "output_type": "display_data"
    },
    {
     "data": {
      "application/vnd.jupyter.widget-view+json": {
       "model_id": "195f6a9722a04cdf90f20f1b84e1c2f8",
       "version_major": 2,
       "version_minor": 0
      },
      "text/plain": [
       "ShowButton(description='SavedTestPowerPortRaw.html', layout=Layout(height='40px', width='80%'), style=ButtonSt…"
      ]
     },
     "metadata": {},
     "output_type": "display_data"
    },
    {
     "data": {
      "application/vnd.jupyter.widget-view+json": {
       "model_id": "ed36c10f06b74a27a7b132b9c43a6439",
       "version_major": 2,
       "version_minor": 0
      },
      "text/plain": [
       "ShowButton(description='SavedTestPowerRaw.xml', layout=Layout(height='40px', width='80%'), style=ButtonStyle()…"
      ]
     },
     "metadata": {},
     "output_type": "display_data"
    },
    {
     "data": {
      "application/vnd.jupyter.widget-view+json": {
       "model_id": "580abacc6ff144d29b275c27d97f61ff",
       "version_major": 2,
       "version_minor": 0
      },
      "text/plain": [
       "ShowButton(description='sinthesis_1_predistorted_7000.s2p', layout=Layout(height='40px', width='80%'), style=B…"
      ]
     },
     "metadata": {},
     "output_type": "display_data"
    },
    {
     "data": {
      "application/vnd.jupyter.widget-view+json": {
       "model_id": "62151b0064a04a88871d3fc2100e2f05",
       "version_major": 2,
       "version_minor": 0
      },
      "text/plain": [
       "ShowButton(description='Solution_Plus.txt', layout=Layout(height='40px', width='80%'), style=ButtonStyle())"
      ]
     },
     "metadata": {},
     "output_type": "display_data"
    },
    {
     "data": {
      "application/vnd.jupyter.widget-view+json": {
       "model_id": "a060a2cad54543338d7bb9903abe80cb",
       "version_major": 2,
       "version_minor": 0
      },
      "text/plain": [
       "ShowButton(description='test.html', layout=Layout(height='40px', width='80%'), style=ButtonStyle())"
      ]
     },
     "metadata": {},
     "output_type": "display_data"
    },
    {
     "data": {
      "application/vnd.jupyter.widget-view+json": {
       "model_id": "a6621ca40cfa40e6b7718be8214cb9bc",
       "version_major": 2,
       "version_minor": 0
      },
      "text/plain": [
       "ShowButton(description='TGF2018_Noise_parameters_Vds2V_Ids28mA.s2p', layout=Layout(height='40px', width='80%')…"
      ]
     },
     "metadata": {},
     "output_type": "display_data"
    },
    {
     "data": {
      "application/vnd.jupyter.widget-view+json": {
       "model_id": "7bd259f988794a93924d44b13d86caaf",
       "version_major": 2,
       "version_minor": 0
      },
      "text/plain": [
       "ShowButton(description='thru.s2p', layout=Layout(height='40px', width='80%'), style=ButtonStyle())"
      ]
     },
     "metadata": {},
     "output_type": "display_data"
    },
    {
     "data": {
      "application/vnd.jupyter.widget-view+json": {
       "model_id": "9080f43fa63b41328a06f4a2a15bb7e7",
       "version_major": 2,
       "version_minor": 0
      },
      "text/plain": [
       "ShowButton(description='TwoPortTouchstoneTestFile.s2p', layout=Layout(height='40px', width='80%'), style=Butto…"
      ]
     },
     "metadata": {},
     "output_type": "display_data"
    },
    {
     "data": {
      "application/vnd.jupyter.widget-view+json": {
       "model_id": "636a45209e5349a2857e3deb6b63caeb",
       "version_major": 2,
       "version_minor": 0
      },
      "text/plain": [
       "ShowButton(description='Two_Port_Calrep_Sparameter_20160405_001.xml', layout=Layout(height='40px', width='80%'…"
      ]
     },
     "metadata": {},
     "output_type": "display_data"
    },
    {
     "data": {
      "application/vnd.jupyter.widget-view+json": {
       "model_id": "2eebc29c1e314406879192086a9b8339",
       "version_major": 2,
       "version_minor": 0
      },
      "text/plain": [
       "ShowButton(description='Two_Port_Calrep_Sparameter_20160405_002.xml', layout=Layout(height='40px', width='80%'…"
      ]
     },
     "metadata": {},
     "output_type": "display_data"
    },
    {
     "data": {
      "application/vnd.jupyter.widget-view+json": {
       "model_id": "3c3b28d7429f478f841799a67b651d38",
       "version_major": 2,
       "version_minor": 0
      },
      "text/plain": [
       "ShowButton(description='Two_Port_Calrep_Sparameter_20160405_003.xml', layout=Layout(height='40px', width='80%'…"
      ]
     },
     "metadata": {},
     "output_type": "display_data"
    },
    {
     "data": {
      "application/vnd.jupyter.widget-view+json": {
       "model_id": "df392a1bf304465db4199e8fafe4b06c",
       "version_major": 2,
       "version_minor": 0
      },
      "text/plain": [
       "ShowButton(description='Two_Port_Calrep_Sparameter_20160405_004.xml', layout=Layout(height='40px', width='80%'…"
      ]
     },
     "metadata": {},
     "output_type": "display_data"
    },
    {
     "data": {
      "application/vnd.jupyter.widget-view+json": {
       "model_id": "ec5e43be4c654dc2817f7fc375f56ea8",
       "version_major": 2,
       "version_minor": 0
      },
      "text/plain": [
       "ShowButton(description='Two_Port_Calrep_Sparameter_20160405_005.html', layout=Layout(height='40px', width='80%…"
      ]
     },
     "metadata": {},
     "output_type": "display_data"
    },
    {
     "data": {
      "application/vnd.jupyter.widget-view+json": {
       "model_id": "e6c2e8a5df874258aa8ae3faf29d1b96",
       "version_major": 2,
       "version_minor": 0
      },
      "text/plain": [
       "ShowButton(description='Two_Port_Calrep_Sparameter_20160405_005.xml', layout=Layout(height='40px', width='80%'…"
      ]
     },
     "metadata": {},
     "output_type": "display_data"
    },
    {
     "data": {
      "application/vnd.jupyter.widget-view+json": {
       "model_id": "08e0b582d0d5497d872dc20635721944",
       "version_major": 2,
       "version_minor": 0
      },
      "text/plain": [
       "ShowButton(description='Two_Port_Sparameter_20160316_001.xml', layout=Layout(height='40px', width='80%'), styl…"
      ]
     },
     "metadata": {},
     "output_type": "display_data"
    },
    {
     "data": {
      "application/vnd.jupyter.widget-view+json": {
       "model_id": "4a7a54141b6a4d25b2954bdddbd4a515",
       "version_major": 2,
       "version_minor": 0
      },
      "text/plain": [
       "ShowButton(description='Two_Port_Sparameter_20160316_002.xml', layout=Layout(height='40px', width='80%'), styl…"
      ]
     },
     "metadata": {},
     "output_type": "display_data"
    },
    {
     "data": {
      "application/vnd.jupyter.widget-view+json": {
       "model_id": "ddc84598b19440d2b2b7c3ab101cd8df",
       "version_major": 2,
       "version_minor": 0
      },
      "text/plain": [
       "ShowButton(description='Two_Port_Sparameter_20160316_003.xml', layout=Layout(height='40px', width='80%'), styl…"
      ]
     },
     "metadata": {},
     "output_type": "display_data"
    },
    {
     "data": {
      "application/vnd.jupyter.widget-view+json": {
       "model_id": "0645f1439b014486a187a78e45547226",
       "version_major": 2,
       "version_minor": 0
      },
      "text/plain": [
       "ShowButton(description='Two_Port_Sparameter_20160329_001.xml', layout=Layout(height='40px', width='80%'), styl…"
      ]
     },
     "metadata": {},
     "output_type": "display_data"
    },
    {
     "data": {
      "application/vnd.jupyter.widget-view+json": {
       "model_id": "769bda356ad04688af1352a58b4737a2",
       "version_major": 2,
       "version_minor": 0
      },
      "text/plain": [
       "ShowButton(description='Two_Port_Sparameter_20160404_001.xml', layout=Layout(height='40px', width='80%'), styl…"
      ]
     },
     "metadata": {},
     "output_type": "display_data"
    },
    {
     "data": {
      "application/vnd.jupyter.widget-view+json": {
       "model_id": "4a07cfb51c724f2c99763d8495e54142",
       "version_major": 2,
       "version_minor": 0
      },
      "text/plain": [
       "ShowButton(description='Two_Port_Sparameter_20160823_001.xml', layout=Layout(height='40px', width='80%'), styl…"
      ]
     },
     "metadata": {},
     "output_type": "display_data"
    },
    {
     "data": {
      "application/vnd.jupyter.widget-view+json": {
       "model_id": "5b3f5e178e634e6d9e39d952a7b65d3e",
       "version_major": 2,
       "version_minor": 0
      },
      "text/plain": [
       "ShowButton(description='XML_Document_20160222_001.xml', layout=Layout(height='40px', width='80%'), style=Butto…"
      ]
     },
     "metadata": {},
     "output_type": "display_data"
    },
    {
     "data": {
      "application/vnd.jupyter.widget-view+json": {
       "model_id": "6728bbbc6c794405b0602bb5a12890f4",
       "version_major": 2,
       "version_minor": 0
      },
      "text/plain": [
       "ShowButton(description='XML_Document_20160222_002.xml', layout=Layout(height='40px', width='80%'), style=Butto…"
      ]
     },
     "metadata": {},
     "output_type": "display_data"
    },
    {
     "data": {
      "application/vnd.jupyter.widget-view+json": {
       "model_id": "3ebcd36334d8421aafab4972468eeec6",
       "version_major": 2,
       "version_minor": 0
      },
      "text/plain": [
       "ShowButton(description='XML_Document_20160222_003.xml', layout=Layout(height='40px', width='80%'), style=Butto…"
      ]
     },
     "metadata": {},
     "output_type": "display_data"
    },
    {
     "data": {
      "application/vnd.jupyter.widget-view+json": {
       "model_id": "21de1363b53449518ad7d57566a350e5",
       "version_major": 2,
       "version_minor": 0
      },
      "text/plain": [
       "ShowButton(description='XML_Document_20160222_004.xml', layout=Layout(height='40px', width='80%'), style=Butto…"
      ]
     },
     "metadata": {},
     "output_type": "display_data"
    },
    {
     "data": {
      "application/vnd.jupyter.widget-view+json": {
       "model_id": "744ca8efbf494cca83748c25e9191e3c",
       "version_major": 2,
       "version_minor": 0
      },
      "text/plain": [
       "ShowButton(description='XML_Document_20160630_001.xml', layout=Layout(height='40px', width='80%'), style=Butto…"
      ]
     },
     "metadata": {},
     "output_type": "display_data"
    },
    {
     "data": {
      "application/vnd.jupyter.widget-view+json": {
       "model_id": "7f8df3a070ae4f99b5784b267a0a01a6",
       "version_major": 2,
       "version_minor": 0
      },
      "text/plain": [
       "ShowButton(description='XML_Document_20180426_001.xml', layout=Layout(height='40px', width='80%'), style=Butto…"
      ]
     },
     "metadata": {},
     "output_type": "display_data"
    },
    {
     "data": {
      "application/vnd.jupyter.widget-view+json": {
       "model_id": "0f179b2b8d8a48849e861ffddefb4831",
       "version_major": 2,
       "version_minor": 0
      },
      "text/plain": [
       "ShowButton(description='XML_Document_20181030_001.xml', layout=Layout(height='40px', width='80%'), style=Butto…"
      ]
     },
     "metadata": {},
     "output_type": "display_data"
    },
    {
     "data": {
      "application/vnd.jupyter.widget-view+json": {
       "model_id": "513c1c1eca8b48d4a67d2d33cc7021a4",
       "version_major": 2,
       "version_minor": 0
      },
      "text/plain": [
       "ShowButton(description='XML_Document_20181102_001.xml', layout=Layout(height='40px', width='80%'), style=Butto…"
      ]
     },
     "metadata": {},
     "output_type": "display_data"
    },
    {
     "data": {
      "application/vnd.jupyter.widget-view+json": {
       "model_id": "da32cc36880b483e83730dda30e1fe42",
       "version_major": 2,
       "version_minor": 0
      },
      "text/plain": [
       "ShowButton(description='XML_Document_20181102_002.xml', layout=Layout(height='40px', width='80%'), style=Butto…"
      ]
     },
     "metadata": {},
     "output_type": "display_data"
    },
    {
     "data": {
      "application/vnd.jupyter.widget-view+json": {
       "model_id": "e2d7f90e5cec430682a7456844d7e514",
       "version_major": 2,
       "version_minor": 0
      },
      "text/plain": [
       "ShowButton(description='XML_Document_20181102_003.xml', layout=Layout(height='40px', width='80%'), style=Butto…"
      ]
     },
     "metadata": {},
     "output_type": "display_data"
    },
    {
     "data": {
      "application/vnd.jupyter.widget-view+json": {
       "model_id": "c59fbf9117364b17957631b6b6c68a8f",
       "version_major": 2,
       "version_minor": 0
      },
      "text/plain": [
       "ShowButton(description='XML_Log_20160627_001.xml', layout=Layout(height='40px', width='80%'), style=ButtonStyl…"
      ]
     },
     "metadata": {},
     "output_type": "display_data"
    },
    {
     "data": {
      "application/vnd.jupyter.widget-view+json": {
       "model_id": "ac667ee0c170419584683692818560bd",
       "version_major": 2,
       "version_minor": 0
      },
      "text/plain": [
       "ShowButton(description='XML_Log_20170227_001.xml', layout=Layout(height='40px', width='80%'), style=ButtonStyl…"
      ]
     },
     "metadata": {},
     "output_type": "display_data"
    },
    {
     "data": {
      "application/vnd.jupyter.widget-view+json": {
       "model_id": "65d5c4b97c474fd785eb166515a12ca1",
       "version_major": 2,
       "version_minor": 0
      },
      "text/plain": [
       "ShowButton(description='XML_Log_20170908_001.xml', layout=Layout(height='40px', width='80%'), style=ButtonStyl…"
      ]
     },
     "metadata": {},
     "output_type": "display_data"
    },
    {
     "data": {
      "application/vnd.jupyter.widget-view+json": {
       "model_id": "ab1cf5dcbdfa4c9b8cf5d2b3841af83f",
       "version_major": 2,
       "version_minor": 0
      },
      "text/plain": [
       "ShowButton(description='XML_Log_20170908_002.xml', layout=Layout(height='40px', width='80%'), style=ButtonStyl…"
      ]
     },
     "metadata": {},
     "output_type": "display_data"
    },
    {
     "data": {
      "application/vnd.jupyter.widget-view+json": {
       "model_id": "61235d83dcec437a96d3c0fa11d1e065",
       "version_major": 2,
       "version_minor": 0
      },
      "text/plain": [
       "ShowButton(description='XML_Log_20180102_001.xml', layout=Layout(height='40px', width='80%'), style=ButtonStyl…"
      ]
     },
     "metadata": {},
     "output_type": "display_data"
    },
    {
     "data": {
      "application/vnd.jupyter.widget-view+json": {
       "model_id": "cf5f70ae37e542ee94ad0a3d07eeccc2",
       "version_major": 2,
       "version_minor": 0
      },
      "text/plain": [
       "ShowButton(description='XML_Log_20181030_001.xml', layout=Layout(height='40px', width='80%'), style=ButtonStyl…"
      ]
     },
     "metadata": {},
     "output_type": "display_data"
    },
    {
     "data": {
      "application/vnd.jupyter.widget-view+json": {
       "model_id": "8b58cb0b0f2842c2bee60720a70597a1",
       "version_major": 2,
       "version_minor": 0
      },
      "text/plain": [
       "ShowButton(description='XML_Log_20181101_001.xml', layout=Layout(height='40px', width='80%'), style=ButtonStyl…"
      ]
     },
     "metadata": {},
     "output_type": "display_data"
    },
    {
     "data": {
      "application/vnd.jupyter.widget-view+json": {
       "model_id": "7f330c6ad7024e4f934af57aff223a3f",
       "version_major": 2,
       "version_minor": 0
      },
      "text/plain": [
       "ShowButton(description='XML_Log_20181102_001.xml', layout=Layout(height='40px', width='80%'), style=ButtonStyl…"
      ]
     },
     "metadata": {},
     "output_type": "display_data"
    },
    {
     "data": {
      "application/vnd.jupyter.widget-view+json": {
       "model_id": "4015b9a73ad6482f91ae952168141d3e",
       "version_major": 2,
       "version_minor": 0
      },
      "text/plain": [
       "ShowButton(description='XML_Log_20181102_002.xml', layout=Layout(height='40px', width='80%'), style=ButtonStyl…"
      ]
     },
     "metadata": {},
     "output_type": "display_data"
    },
    {
     "data": {
      "application/vnd.jupyter.widget-view+json": {
       "model_id": "f505205d354f45c29184b484240685ca",
       "version_major": 2,
       "version_minor": 0
      },
      "text/plain": [
       "ShowButton(description='XML_Log_20181102_003.xml', layout=Layout(height='40px', width='80%'), style=ButtonStyl…"
      ]
     },
     "metadata": {},
     "output_type": "display_data"
    },
    {
     "data": {
      "application/vnd.jupyter.widget-view+json": {
       "model_id": "df7da1fb037345769c28b2d447068f85",
       "version_major": 2,
       "version_minor": 0
      },
      "text/plain": [
       "ShowButton(description='XML_Log_20181102_004.xml', layout=Layout(height='40px', width='80%'), style=ButtonStyl…"
      ]
     },
     "metadata": {},
     "output_type": "display_data"
    },
    {
     "data": {
      "application/vnd.jupyter.widget-view+json": {
       "model_id": "7b03fd68680840f283ba9cda9c037764",
       "version_major": 2,
       "version_minor": 0
      },
      "text/plain": [
       "ShowButton(description='XML_Log_20181102_005.xml', layout=Layout(height='40px', width='80%'), style=ButtonStyl…"
      ]
     },
     "metadata": {},
     "output_type": "display_data"
    },
    {
     "data": {
      "application/vnd.jupyter.widget-view+json": {
       "model_id": "a20534fb23744e2d9e4d32d7fcc28445",
       "version_major": 2,
       "version_minor": 0
      },
      "text/plain": [
       "ShowButton(description='XML_Log_20181102_006.xml', layout=Layout(height='40px', width='80%'), style=ButtonStyl…"
      ]
     },
     "metadata": {},
     "output_type": "display_data"
    },
    {
     "data": {
      "application/vnd.jupyter.widget-view+json": {
       "model_id": "3d9f3d17269347b08d52dd65b73db3cd",
       "version_major": 2,
       "version_minor": 0
      },
      "text/plain": [
       "ShowButton(description='XML_Log_20181102_007.xml', layout=Layout(height='40px', width='80%'), style=ButtonStyl…"
      ]
     },
     "metadata": {},
     "output_type": "display_data"
    },
    {
     "data": {
      "text/plain": [
       "[ShowButton(description='20160301_30ft_cable_0.s2p', layout=Layout(height='40px', width='80%'), style=ButtonStyle()),\n",
       " ShowButton(description='700196.asc', layout=Layout(height='40px', width='80%'), style=ButtonStyle()),\n",
       " ShowButton(description='700437.asc', layout=Layout(height='40px', width='80%'), style=ButtonStyle()),\n",
       " ShowButton(description='704b.S2P', layout=Layout(height='40px', width='80%'), style=ButtonStyle()),\n",
       " ShowButton(description='922729.asc', layout=Layout(height='40px', width='80%'), style=ButtonStyle()),\n",
       " ShowButton(description='952489.asc', layout=Layout(height='40px', width='80%'), style=ButtonStyle()),\n",
       " ShowButton(description='CalCoefficients.txt', layout=Layout(height='40px', width='80%'), style=ButtonStyle()),\n",
       " ShowButton(description='Canal_36.S2P', layout=Layout(height='40px', width='80%'), style=ButtonStyle()),\n",
       " ShowButton(description='CH_6.s2p', layout=Layout(height='40px', width='80%'), style=ButtonStyle()),\n",
       " ShowButton(description='combined_html.html', layout=Layout(height='40px', width='80%'), style=ButtonStyle()),\n",
       " ShowButton(description='CTN106.D4_091799', layout=Layout(height='40px', width='80%'), style=ButtonStyle()),\n",
       " ShowButton(description='CTN208.A1_011613', layout=Layout(height='40px', width='80%'), style=ButtonStyle()),\n",
       " ShowButton(description='CTN208.R1_062614', layout=Layout(height='40px', width='80%'), style=ButtonStyle()),\n",
       " ShowButton(description='CTNP11.L36_062399', layout=Layout(height='40px', width='80%'), style=ButtonStyle()),\n",
       " ShowButton(description='CTNP15.A1_042601', layout=Layout(height='40px', width='80%'), style=ButtonStyle()),\n",
       " ShowButton(description='Data_Table_021311_1.xml', layout=Layout(height='40px', width='80%'), style=ButtonStyle()),\n",
       " ShowButton(description='Data_Table_20160223_001.xml', layout=Layout(height='40px', width='80%'), style=ButtonStyle()),\n",
       " ShowButton(description='Data_Table_20160224_001.xml', layout=Layout(height='40px', width='80%'), style=ButtonStyle()),\n",
       " ShowButton(description='filtern5.s2p', layout=Layout(height='40px', width='80%'), style=ButtonStyle()),\n",
       " ShowButton(description='filtern5_narrow.s2p', layout=Layout(height='40px', width='80%'), style=ButtonStyle()),\n",
       " ShowButton(description='Filter_n7_f0_2_35ghz.s2p', layout=Layout(height='40px', width='80%'), style=ButtonStyle()),\n",
       " ShowButton(description='ftest6_L1_g5_HF_air', layout=Layout(height='40px', width='80%'), style=ButtonStyle()),\n",
       " ShowButton(description='Log_XML_20160222_001.xml', layout=Layout(height='40px', width='80%'), style=ButtonStyle()),\n",
       " ShowButton(description='Log_XML_20160222_002.xml', layout=Layout(height='40px', width='80%'), style=ButtonStyle()),\n",
       " ShowButton(description='modified_hilbert_resonator.s2p', layout=Layout(height='40px', width='80%'), style=ButtonStyle()),\n",
       " ShowButton(description='N205RV.asc', layout=Layout(height='40px', width='80%'), style=ButtonStyle()),\n",
       " ShowButton(description='new_s2p.s2p', layout=Layout(height='40px', width='80%'), style=ButtonStyle()),\n",
       " ShowButton(description='OnePortTouchstoneTestFile.s1p', layout=Layout(height='40px', width='80%'), style=ButtonStyle()),\n",
       " ShowButton(description='One_Port_Raw_Sparameter_20160307_001.html', layout=Layout(height='40px', width='80%'), style=ButtonStyle()),\n",
       " ShowButton(description='One_Port_Raw_Sparameter_20160307_001.xml', layout=Layout(height='40px', width='80%'), style=ButtonStyle()),\n",
       " ShowButton(description='One_Port_Sparameter_20160303_001.xml', layout=Layout(height='40px', width='80%'), style=ButtonStyle()),\n",
       " ShowButton(description='One_Port_Sparameter_20160307_001.html', layout=Layout(height='40px', width='80%'), style=ButtonStyle()),\n",
       " ShowButton(description='One_Port_Sparameter_20160307_001.xml', layout=Layout(height='40px', width='80%'), style=ButtonStyle()),\n",
       " ShowButton(description='One_Port_Sparameter_20160308_001.html', layout=Layout(height='40px', width='80%'), style=ButtonStyle()),\n",
       " ShowButton(description='One_Port_Sparameter_20160308_001.xml', layout=Layout(height='40px', width='80%'), style=ButtonStyle()),\n",
       " ShowButton(description='One_Port_Sparameter_20160309_001.html', layout=Layout(height='40px', width='80%'), style=ButtonStyle()),\n",
       " ShowButton(description='One_Port_Sparameter_20160309_001.xml', layout=Layout(height='40px', width='80%'), style=ButtonStyle()),\n",
       " ShowButton(description='One_Port_Sparameter_20160812_001.html', layout=Layout(height='40px', width='80%'), style=ButtonStyle()),\n",
       " ShowButton(description='One_Port_Sparameter_20160812_001.xml', layout=Layout(height='40px', width='80%'), style=ButtonStyle()),\n",
       " ShowButton(description='One_Port_Sparameter_20160815_001.html', layout=Layout(height='40px', width='80%'), style=ButtonStyle()),\n",
       " ShowButton(description='One_Port_Sparameter_20160815_001.xml', layout=Layout(height='40px', width='80%'), style=ButtonStyle()),\n",
       " ShowButton(description='Open.meas', layout=Layout(height='40px', width='80%'), style=ButtonStyle()),\n",
       " ShowButton(description='QuartzRefExample_L1_g10_HF', layout=Layout(height='40px', width='80%'), style=ButtonStyle()),\n",
       " ShowButton(description='Resource_Registry_20160222_001.xml', layout=Layout(height='40px', width='80%'), style=ButtonStyle()),\n",
       " ShowButton(description='Resource_Registry_20160222_001_Metadata.xml', layout=Layout(height='40px', width='80%'), style=ButtonStyle()),\n",
       " ShowButton(description='Resource_Registry_20160222_002.xml', layout=Layout(height='40px', width='80%'), style=ButtonStyle()),\n",
       " ShowButton(description='Resource_Registry_20160222_003.xml', layout=Layout(height='40px', width='80%'), style=ButtonStyle()),\n",
       " ShowButton(description='Resource_Registry_20160518_001.xml', layout=Layout(height='40px', width='80%'), style=ButtonStyle()),\n",
       " ShowButton(description='Resource_Registry_20160518_001_Metadata.xml', layout=Layout(height='40px', width='80%'), style=ButtonStyle()),\n",
       " ShowButton(description='Resource_Registry_20170227_001.xml', layout=Layout(height='40px', width='80%'), style=ButtonStyle()),\n",
       " ShowButton(description='SavedTest2PortRaw.html', layout=Layout(height='40px', width='80%'), style=ButtonStyle()),\n",
       " ShowButton(description='SavedTest2PortRaw.s2p', layout=Layout(height='40px', width='80%'), style=ButtonStyle()),\n",
       " ShowButton(description='SavedTest2PortRaw.xml', layout=Layout(height='40px', width='80%'), style=ButtonStyle()),\n",
       " ShowButton(description='SavedTestPowerPortRaw.html', layout=Layout(height='40px', width='80%'), style=ButtonStyle()),\n",
       " ShowButton(description='SavedTestPowerRaw.xml', layout=Layout(height='40px', width='80%'), style=ButtonStyle()),\n",
       " ShowButton(description='sinthesis_1_predistorted_7000.s2p', layout=Layout(height='40px', width='80%'), style=ButtonStyle()),\n",
       " ShowButton(description='Solution_Plus.txt', layout=Layout(height='40px', width='80%'), style=ButtonStyle()),\n",
       " ShowButton(description='test.html', layout=Layout(height='40px', width='80%'), style=ButtonStyle()),\n",
       " ShowButton(description='TGF2018_Noise_parameters_Vds2V_Ids28mA.s2p', layout=Layout(height='40px', width='80%'), style=ButtonStyle()),\n",
       " ShowButton(description='thru.s2p', layout=Layout(height='40px', width='80%'), style=ButtonStyle()),\n",
       " ShowButton(description='TwoPortTouchstoneTestFile.s2p', layout=Layout(height='40px', width='80%'), style=ButtonStyle()),\n",
       " ShowButton(description='Two_Port_Calrep_Sparameter_20160405_001.xml', layout=Layout(height='40px', width='80%'), style=ButtonStyle()),\n",
       " ShowButton(description='Two_Port_Calrep_Sparameter_20160405_002.xml', layout=Layout(height='40px', width='80%'), style=ButtonStyle()),\n",
       " ShowButton(description='Two_Port_Calrep_Sparameter_20160405_003.xml', layout=Layout(height='40px', width='80%'), style=ButtonStyle()),\n",
       " ShowButton(description='Two_Port_Calrep_Sparameter_20160405_004.xml', layout=Layout(height='40px', width='80%'), style=ButtonStyle()),\n",
       " ShowButton(description='Two_Port_Calrep_Sparameter_20160405_005.html', layout=Layout(height='40px', width='80%'), style=ButtonStyle()),\n",
       " ShowButton(description='Two_Port_Calrep_Sparameter_20160405_005.xml', layout=Layout(height='40px', width='80%'), style=ButtonStyle()),\n",
       " ShowButton(description='Two_Port_Sparameter_20160316_001.xml', layout=Layout(height='40px', width='80%'), style=ButtonStyle()),\n",
       " ShowButton(description='Two_Port_Sparameter_20160316_002.xml', layout=Layout(height='40px', width='80%'), style=ButtonStyle()),\n",
       " ShowButton(description='Two_Port_Sparameter_20160316_003.xml', layout=Layout(height='40px', width='80%'), style=ButtonStyle()),\n",
       " ShowButton(description='Two_Port_Sparameter_20160329_001.xml', layout=Layout(height='40px', width='80%'), style=ButtonStyle()),\n",
       " ShowButton(description='Two_Port_Sparameter_20160404_001.xml', layout=Layout(height='40px', width='80%'), style=ButtonStyle()),\n",
       " ShowButton(description='Two_Port_Sparameter_20160823_001.xml', layout=Layout(height='40px', width='80%'), style=ButtonStyle()),\n",
       " ShowButton(description='XML_Document_20160222_001.xml', layout=Layout(height='40px', width='80%'), style=ButtonStyle()),\n",
       " ShowButton(description='XML_Document_20160222_002.xml', layout=Layout(height='40px', width='80%'), style=ButtonStyle()),\n",
       " ShowButton(description='XML_Document_20160222_003.xml', layout=Layout(height='40px', width='80%'), style=ButtonStyle()),\n",
       " ShowButton(description='XML_Document_20160222_004.xml', layout=Layout(height='40px', width='80%'), style=ButtonStyle()),\n",
       " ShowButton(description='XML_Document_20160630_001.xml', layout=Layout(height='40px', width='80%'), style=ButtonStyle()),\n",
       " ShowButton(description='XML_Document_20180426_001.xml', layout=Layout(height='40px', width='80%'), style=ButtonStyle()),\n",
       " ShowButton(description='XML_Document_20181030_001.xml', layout=Layout(height='40px', width='80%'), style=ButtonStyle()),\n",
       " ShowButton(description='XML_Document_20181102_001.xml', layout=Layout(height='40px', width='80%'), style=ButtonStyle()),\n",
       " ShowButton(description='XML_Document_20181102_002.xml', layout=Layout(height='40px', width='80%'), style=ButtonStyle()),\n",
       " ShowButton(description='XML_Document_20181102_003.xml', layout=Layout(height='40px', width='80%'), style=ButtonStyle()),\n",
       " ShowButton(description='XML_Log_20160627_001.xml', layout=Layout(height='40px', width='80%'), style=ButtonStyle()),\n",
       " ShowButton(description='XML_Log_20170227_001.xml', layout=Layout(height='40px', width='80%'), style=ButtonStyle()),\n",
       " ShowButton(description='XML_Log_20170908_001.xml', layout=Layout(height='40px', width='80%'), style=ButtonStyle()),\n",
       " ShowButton(description='XML_Log_20170908_002.xml', layout=Layout(height='40px', width='80%'), style=ButtonStyle()),\n",
       " ShowButton(description='XML_Log_20180102_001.xml', layout=Layout(height='40px', width='80%'), style=ButtonStyle()),\n",
       " ShowButton(description='XML_Log_20181030_001.xml', layout=Layout(height='40px', width='80%'), style=ButtonStyle()),\n",
       " ShowButton(description='XML_Log_20181101_001.xml', layout=Layout(height='40px', width='80%'), style=ButtonStyle()),\n",
       " ShowButton(description='XML_Log_20181102_001.xml', layout=Layout(height='40px', width='80%'), style=ButtonStyle()),\n",
       " ShowButton(description='XML_Log_20181102_002.xml', layout=Layout(height='40px', width='80%'), style=ButtonStyle()),\n",
       " ShowButton(description='XML_Log_20181102_003.xml', layout=Layout(height='40px', width='80%'), style=ButtonStyle()),\n",
       " ShowButton(description='XML_Log_20181102_004.xml', layout=Layout(height='40px', width='80%'), style=ButtonStyle()),\n",
       " ShowButton(description='XML_Log_20181102_005.xml', layout=Layout(height='40px', width='80%'), style=ButtonStyle()),\n",
       " ShowButton(description='XML_Log_20181102_006.xml', layout=Layout(height='40px', width='80%'), style=ButtonStyle()),\n",
       " ShowButton(description='XML_Log_20181102_007.xml', layout=Layout(height='40px', width='80%'), style=ButtonStyle())]"
      ]
     },
     "execution_count": 43,
     "metadata": {},
     "output_type": "execute_result"
    }
   ],
   "source": [
    "create_html_button_list(TESTS_DIRECTORY)"
   ]
  },
  {
   "cell_type": "code",
   "execution_count": 68,
   "metadata": {},
   "outputs": [],
   "source": [
    "def html_convert_fileview(button):\n",
    "    html=FileName_to_HtmlBase(button.data)\n",
    "    html.show()\n",
    "class HtmlFileBrowser(object):\n",
    "    \n",
    "    def __init__(self,directory):\n",
    "        file_names=os.listdir(directory)\n",
    "        self.button_list=[]\n",
    "        for file_name in file_names:\n",
    "            try:\n",
    "                if os.path.isdir(os.path.join(directory,file_name)):\n",
    "                    pass\n",
    "                else:\n",
    "                    button=pyMez.Code.FrontEnds.JupyterWidgets.JupyterButton(data=os.path.join(directory,file_name),\n",
    "                                                                      function=lambda x:html_convert_fileview(x),\n",
    "                                                                      description=file_name,stlye={'description_width': 'initial'},\n",
    "                                                                     layout=Layout(width='80%', height='40px'))\n",
    "                    self.button_list.append(button)\n",
    "            except:\n",
    "                raise\n",
    "    def show(self):\n",
    "        display(*self.button_list)\n"
   ]
  },
  {
   "cell_type": "code",
   "execution_count": 69,
   "metadata": {},
   "outputs": [],
   "source": [
    "browser=HtmlFileBrowser(r\"C:\\Users\\sandersa\\AppData\\Local\\Continuum\\anaconda3\\Lib\\site-packages\\pyMez\\Code\\DataHandlers\\Tests\")"
   ]
  },
  {
   "cell_type": "code",
   "execution_count": 70,
   "metadata": {},
   "outputs": [
    {
     "data": {
      "application/vnd.jupyter.widget-view+json": {
       "model_id": "3dcf75307ddf4db88eeac0e8e5872190",
       "version_major": 2,
       "version_minor": 0
      },
      "text/plain": [
       "JupyterButton(description='000146c.txt', layout=Layout(height='40px', width='80%'), style=ButtonStyle())"
      ]
     },
     "metadata": {},
     "output_type": "display_data"
    },
    {
     "data": {
      "application/vnd.jupyter.widget-view+json": {
       "model_id": "53c769a60fc446d2a36ca3be41935090",
       "version_major": 2,
       "version_minor": 0
      },
      "text/plain": [
       "JupyterButton(description='20160301_30ft_cable_0.s2p', layout=Layout(height='40px', width='80%'), style=Button…"
      ]
     },
     "metadata": {},
     "output_type": "display_data"
    },
    {
     "data": {
      "application/vnd.jupyter.widget-view+json": {
       "model_id": "ab027208250942f5b7e3f00788371e91",
       "version_major": 2,
       "version_minor": 0
      },
      "text/plain": [
       "JupyterButton(description='700083.ASC', layout=Layout(height='40px', width='80%'), style=ButtonStyle())"
      ]
     },
     "metadata": {},
     "output_type": "display_data"
    },
    {
     "data": {
      "application/vnd.jupyter.widget-view+json": {
       "model_id": "462edc4c476d4c9194e1fd81ab94f87b",
       "version_major": 2,
       "version_minor": 0
      },
      "text/plain": [
       "JupyterButton(description='700083a.txt', layout=Layout(height='40px', width='80%'), style=ButtonStyle())"
      ]
     },
     "metadata": {},
     "output_type": "display_data"
    },
    {
     "data": {
      "application/vnd.jupyter.widget-view+json": {
       "model_id": "a51a3e14f2a14826ab99f5359c6bb948",
       "version_major": 2,
       "version_minor": 0
      },
      "text/plain": [
       "JupyterButton(description='700083b.txt', layout=Layout(height='40px', width='80%'), style=ButtonStyle())"
      ]
     },
     "metadata": {},
     "output_type": "display_data"
    },
    {
     "data": {
      "application/vnd.jupyter.widget-view+json": {
       "model_id": "7bc9cb29f1c0424f98cbfb83a9119b63",
       "version_major": 2,
       "version_minor": 0
      },
      "text/plain": [
       "JupyterButton(description='700196.asc', layout=Layout(height='40px', width='80%'), style=ButtonStyle())"
      ]
     },
     "metadata": {},
     "output_type": "display_data"
    },
    {
     "data": {
      "application/vnd.jupyter.widget-view+json": {
       "model_id": "ff806285fac14addb3d8ef0b8d8b3882",
       "version_major": 2,
       "version_minor": 0
      },
      "text/plain": [
       "JupyterButton(description='700196a.txt', layout=Layout(height='40px', width='80%'), style=ButtonStyle())"
      ]
     },
     "metadata": {},
     "output_type": "display_data"
    },
    {
     "data": {
      "application/vnd.jupyter.widget-view+json": {
       "model_id": "e8daf767fdff4ff2866cb0c964a16c91",
       "version_major": 2,
       "version_minor": 0
      },
      "text/plain": [
       "JupyterButton(description='700196b.txt', layout=Layout(height='40px', width='80%'), style=ButtonStyle())"
      ]
     },
     "metadata": {},
     "output_type": "display_data"
    },
    {
     "data": {
      "application/vnd.jupyter.widget-view+json": {
       "model_id": "80384ae7476c4d69ae54da507e9c0318",
       "version_major": 2,
       "version_minor": 0
      },
      "text/plain": [
       "JupyterButton(description='700437.asc', layout=Layout(height='40px', width='80%'), style=ButtonStyle())"
      ]
     },
     "metadata": {},
     "output_type": "display_data"
    },
    {
     "data": {
      "application/vnd.jupyter.widget-view+json": {
       "model_id": "6b749e04f8ca497986e33e5eb075aeec",
       "version_major": 2,
       "version_minor": 0
      },
      "text/plain": [
       "JupyterButton(description='700437.txt', layout=Layout(height='40px', width='80%'), style=ButtonStyle())"
      ]
     },
     "metadata": {},
     "output_type": "display_data"
    },
    {
     "data": {
      "application/vnd.jupyter.widget-view+json": {
       "model_id": "e164512ab0f84288b12f0e639b47857a",
       "version_major": 2,
       "version_minor": 0
      },
      "text/plain": [
       "JupyterButton(description='704b.S2P', layout=Layout(height='40px', width='80%'), style=ButtonStyle())"
      ]
     },
     "metadata": {},
     "output_type": "display_data"
    },
    {
     "data": {
      "application/vnd.jupyter.widget-view+json": {
       "model_id": "cb06997068b94473b9dae491c70752f2",
       "version_major": 2,
       "version_minor": 0
      },
      "text/plain": [
       "JupyterButton(description='813462.ASC', layout=Layout(height='40px', width='80%'), style=ButtonStyle())"
      ]
     },
     "metadata": {},
     "output_type": "display_data"
    },
    {
     "data": {
      "application/vnd.jupyter.widget-view+json": {
       "model_id": "afb9373345ac480489873a57d9473086",
       "version_major": 2,
       "version_minor": 0
      },
      "text/plain": [
       "JupyterButton(description='922729.asc', layout=Layout(height='40px', width='80%'), style=ButtonStyle())"
      ]
     },
     "metadata": {},
     "output_type": "display_data"
    },
    {
     "data": {
      "application/vnd.jupyter.widget-view+json": {
       "model_id": "1a6ffd75990c407eb1e7efe9946ebaa9",
       "version_major": 2,
       "version_minor": 0
      },
      "text/plain": [
       "JupyterButton(description='922729a.txt', layout=Layout(height='40px', width='80%'), style=ButtonStyle())"
      ]
     },
     "metadata": {},
     "output_type": "display_data"
    },
    {
     "data": {
      "application/vnd.jupyter.widget-view+json": {
       "model_id": "ff0673b328654df582d024860de796da",
       "version_major": 2,
       "version_minor": 0
      },
      "text/plain": [
       "JupyterButton(description='922729b.txt', layout=Layout(height='40px', width='80%'), style=ButtonStyle())"
      ]
     },
     "metadata": {},
     "output_type": "display_data"
    },
    {
     "data": {
      "application/vnd.jupyter.widget-view+json": {
       "model_id": "f4afa2e3c6604d4e9e55d195e9074edb",
       "version_major": 2,
       "version_minor": 0
      },
      "text/plain": [
       "JupyterButton(description='922729c.txt', layout=Layout(height='40px', width='80%'), style=ButtonStyle())"
      ]
     },
     "metadata": {},
     "output_type": "display_data"
    },
    {
     "data": {
      "application/vnd.jupyter.widget-view+json": {
       "model_id": "08896925aae547a5950764a15e792d77",
       "version_major": 2,
       "version_minor": 0
      },
      "text/plain": [
       "JupyterButton(description='952489.asc', layout=Layout(height='40px', width='80%'), style=ButtonStyle())"
      ]
     },
     "metadata": {},
     "output_type": "display_data"
    },
    {
     "data": {
      "application/vnd.jupyter.widget-view+json": {
       "model_id": "e1fc87aa233044fa92d19e15d5a3ecdd",
       "version_major": 2,
       "version_minor": 0
      },
      "text/plain": [
       "JupyterButton(description='B7_baseline_50ohm_OR2_10n0_4p0_REV2_EVB1_01new.s3p', layout=Layout(height='40px', w…"
      ]
     },
     "metadata": {},
     "output_type": "display_data"
    },
    {
     "data": {
      "application/vnd.jupyter.widget-view+json": {
       "model_id": "7a80ed59a1ef4d46aafae153dc9de24c",
       "version_major": 2,
       "version_minor": 0
      },
      "text/plain": [
       "JupyterButton(description='CalCoefficients.txt', layout=Layout(height='40px', width='80%'), style=ButtonStyle(…"
      ]
     },
     "metadata": {},
     "output_type": "display_data"
    },
    {
     "data": {
      "application/vnd.jupyter.widget-view+json": {
       "model_id": "6c7e5ebd8cc944289df72a25028d9c9f",
       "version_major": 2,
       "version_minor": 0
      },
      "text/plain": [
       "JupyterButton(description='Canal_36.S2P', layout=Layout(height='40px', width='80%'), style=ButtonStyle())"
      ]
     },
     "metadata": {},
     "output_type": "display_data"
    },
    {
     "data": {
      "application/vnd.jupyter.widget-view+json": {
       "model_id": "c8e9ae45323743638b0e126531134e3b",
       "version_major": 2,
       "version_minor": 0
      },
      "text/plain": [
       "JupyterButton(description='CH_6.s2p', layout=Layout(height='40px', width='80%'), style=ButtonStyle())"
      ]
     },
     "metadata": {},
     "output_type": "display_data"
    },
    {
     "data": {
      "application/vnd.jupyter.widget-view+json": {
       "model_id": "aa042998b77f43f5810bd5c3424ee067",
       "version_major": 2,
       "version_minor": 0
      },
      "text/plain": [
       "JupyterButton(description='combined_html.html', layout=Layout(height='40px', width='80%'), style=ButtonStyle()…"
      ]
     },
     "metadata": {},
     "output_type": "display_data"
    },
    {
     "data": {
      "application/vnd.jupyter.widget-view+json": {
       "model_id": "edf6eeeaea00411fad2d6d9dbec85439",
       "version_major": 2,
       "version_minor": 0
      },
      "text/plain": [
       "JupyterButton(description='CTN106.D4_091799', layout=Layout(height='40px', width='80%'), style=ButtonStyle())"
      ]
     },
     "metadata": {},
     "output_type": "display_data"
    },
    {
     "data": {
      "application/vnd.jupyter.widget-view+json": {
       "model_id": "4a53ea36c1a24b93a1c11c2f69542b00",
       "version_major": 2,
       "version_minor": 0
      },
      "text/plain": [
       "JupyterButton(description='CTN112', layout=Layout(height='40px', width='80%'), style=ButtonStyle())"
      ]
     },
     "metadata": {},
     "output_type": "display_data"
    },
    {
     "data": {
      "application/vnd.jupyter.widget-view+json": {
       "model_id": "0a3a321dffb14c99a2ee8925b5dbbe75",
       "version_major": 2,
       "version_minor": 0
      },
      "text/plain": [
       "JupyterButton(description='CTN208.A1_011613', layout=Layout(height='40px', width='80%'), style=ButtonStyle())"
      ]
     },
     "metadata": {},
     "output_type": "display_data"
    },
    {
     "data": {
      "application/vnd.jupyter.widget-view+json": {
       "model_id": "b343b26833c345d58dbb276a72ff70a5",
       "version_major": 2,
       "version_minor": 0
      },
      "text/plain": [
       "JupyterButton(description='CTN208.R1_062614', layout=Layout(height='40px', width='80%'), style=ButtonStyle())"
      ]
     },
     "metadata": {},
     "output_type": "display_data"
    },
    {
     "data": {
      "application/vnd.jupyter.widget-view+json": {
       "model_id": "10e5dc973ccf462ab2a2efb0fd176367",
       "version_major": 2,
       "version_minor": 0
      },
      "text/plain": [
       "JupyterButton(description='CTNP11.L36_062399', layout=Layout(height='40px', width='80%'), style=ButtonStyle())"
      ]
     },
     "metadata": {},
     "output_type": "display_data"
    },
    {
     "data": {
      "application/vnd.jupyter.widget-view+json": {
       "model_id": "b612696c9a024f2a9db8456723288013",
       "version_major": 2,
       "version_minor": 0
      },
      "text/plain": [
       "JupyterButton(description='CTNP13_sm_112907.txt', layout=Layout(height='40px', width='80%'), style=ButtonStyle…"
      ]
     },
     "metadata": {},
     "output_type": "display_data"
    },
    {
     "data": {
      "application/vnd.jupyter.widget-view+json": {
       "model_id": "b65626a1dd464a30aacf1f880a9f1c13",
       "version_major": 2,
       "version_minor": 0
      },
      "text/plain": [
       "JupyterButton(description='CTNP15.A1_042601', layout=Layout(height='40px', width='80%'), style=ButtonStyle())"
      ]
     },
     "metadata": {},
     "output_type": "display_data"
    },
    {
     "data": {
      "application/vnd.jupyter.widget-view+json": {
       "model_id": "98806e3a47894206a5c951da32ff7216",
       "version_major": 2,
       "version_minor": 0
      },
      "text/plain": [
       "JupyterButton(description='Data_Table_021311_1.xml', layout=Layout(height='40px', width='80%'), style=ButtonSt…"
      ]
     },
     "metadata": {},
     "output_type": "display_data"
    },
    {
     "data": {
      "application/vnd.jupyter.widget-view+json": {
       "model_id": "8fa308d765ba48dface3b1e63fa55483",
       "version_major": 2,
       "version_minor": 0
      },
      "text/plain": [
       "JupyterButton(description='Data_Table_20160223_001.xml', layout=Layout(height='40px', width='80%'), style=Butt…"
      ]
     },
     "metadata": {},
     "output_type": "display_data"
    },
    {
     "data": {
      "application/vnd.jupyter.widget-view+json": {
       "model_id": "af8c533fbee144b985d3e3bd686f2063",
       "version_major": 2,
       "version_minor": 0
      },
      "text/plain": [
       "JupyterButton(description='Data_Table_20160224_001.xml', layout=Layout(height='40px', width='80%'), style=Butt…"
      ]
     },
     "metadata": {},
     "output_type": "display_data"
    },
    {
     "data": {
      "application/vnd.jupyter.widget-view+json": {
       "model_id": "d01a30bc9a2545c29ba7e5dfcb20717f",
       "version_major": 2,
       "version_minor": 0
      },
      "text/plain": [
       "JupyterButton(description='Data_Table_20160225_001.txt', layout=Layout(height='40px', width='80%'), style=Butt…"
      ]
     },
     "metadata": {},
     "output_type": "display_data"
    },
    {
     "data": {
      "application/vnd.jupyter.widget-view+json": {
       "model_id": "30b8fe6328694bbebc0ab36d687b1a95",
       "version_major": 2,
       "version_minor": 0
      },
      "text/plain": [
       "JupyterButton(description='Data_Table_20160301_031.txt', layout=Layout(height='40px', width='80%'), style=Butt…"
      ]
     },
     "metadata": {},
     "output_type": "display_data"
    },
    {
     "data": {
      "application/vnd.jupyter.widget-view+json": {
       "model_id": "789e57bf1270482e971771a1c90c4346",
       "version_major": 2,
       "version_minor": 0
      },
      "text/plain": [
       "JupyterButton(description='Data_Table_20160301_031_Schema_20160301_001.txt', layout=Layout(height='40px', widt…"
      ]
     },
     "metadata": {},
     "output_type": "display_data"
    },
    {
     "data": {
      "application/vnd.jupyter.widget-view+json": {
       "model_id": "bd417040426d4717a019d5b604b59436",
       "version_major": 2,
       "version_minor": 0
      },
      "text/plain": [
       "JupyterButton(description='Data_Table_20160301_033.txt', layout=Layout(height='40px', width='80%'), style=Butt…"
      ]
     },
     "metadata": {},
     "output_type": "display_data"
    },
    {
     "data": {
      "application/vnd.jupyter.widget-view+json": {
       "model_id": "118f7c12e6d947f39cd8d7383c3f7c2b",
       "version_major": 2,
       "version_minor": 0
      },
      "text/plain": [
       "JupyterButton(description='Data_Table_20160301_033_Schema_20160301_001.txt', layout=Layout(height='40px', widt…"
      ]
     },
     "metadata": {},
     "output_type": "display_data"
    },
    {
     "data": {
      "application/vnd.jupyter.widget-view+json": {
       "model_id": "3e912ed06a6b4594b04610d15bcbb45e",
       "version_major": 2,
       "version_minor": 0
      },
      "text/plain": [
       "JupyterButton(description='Data_Table_20170118_001.txt', layout=Layout(height='40px', width='80%'), style=Butt…"
      ]
     },
     "metadata": {},
     "output_type": "display_data"
    },
    {
     "data": {
      "application/vnd.jupyter.widget-view+json": {
       "model_id": "adef977daa884cfca665ee8dc8e9bcd4",
       "version_major": 2,
       "version_minor": 0
      },
      "text/plain": [
       "JupyterButton(description='Data_Table_20170308_001.txt', layout=Layout(height='40px', width='80%'), style=Butt…"
      ]
     },
     "metadata": {},
     "output_type": "display_data"
    },
    {
     "data": {
      "application/vnd.jupyter.widget-view+json": {
       "model_id": "739a0e4fb29e48e5945536ea4fb308bc",
       "version_major": 2,
       "version_minor": 0
      },
      "text/plain": [
       "JupyterButton(description='Data_Table_20170324_001.txt', layout=Layout(height='40px', width='80%'), style=Butt…"
      ]
     },
     "metadata": {},
     "output_type": "display_data"
    },
    {
     "data": {
      "application/vnd.jupyter.widget-view+json": {
       "model_id": "d8dd8f544a3d401697cb1c3319f26cab",
       "version_major": 2,
       "version_minor": 0
      },
      "text/plain": [
       "JupyterButton(description='Data_Table_20170509_001.txt', layout=Layout(height='40px', width='80%'), style=Butt…"
      ]
     },
     "metadata": {},
     "output_type": "display_data"
    },
    {
     "data": {
      "application/vnd.jupyter.widget-view+json": {
       "model_id": "40744c4e85c74e49aff1831880d37f85",
       "version_major": 2,
       "version_minor": 0
      },
      "text/plain": [
       "JupyterButton(description='Data_Table_20170914_001.txt', layout=Layout(height='40px', width='80%'), style=Butt…"
      ]
     },
     "metadata": {},
     "output_type": "display_data"
    },
    {
     "data": {
      "application/vnd.jupyter.widget-view+json": {
       "model_id": "4967b94153144e06a57e4c12904355d6",
       "version_major": 2,
       "version_minor": 0
      },
      "text/plain": [
       "JupyterButton(description='Data_Table_20181026_001.schema', layout=Layout(height='40px', width='80%'), style=B…"
      ]
     },
     "metadata": {},
     "output_type": "display_data"
    },
    {
     "data": {
      "application/vnd.jupyter.widget-view+json": {
       "model_id": "4cf146f561174c9a84341660ce19b7d5",
       "version_major": 2,
       "version_minor": 0
      },
      "text/plain": [
       "JupyterButton(description='Data_Table_20181026_001.txt', layout=Layout(height='40px', width='80%'), style=Butt…"
      ]
     },
     "metadata": {},
     "output_type": "display_data"
    },
    {
     "data": {
      "application/vnd.jupyter.widget-view+json": {
       "model_id": "cfaea57ce5114909a425077e45352016",
       "version_major": 2,
       "version_minor": 0
      },
      "text/plain": [
       "JupyterButton(description='Data_Table_20181030_001.schema', layout=Layout(height='40px', width='80%'), style=B…"
      ]
     },
     "metadata": {},
     "output_type": "display_data"
    },
    {
     "data": {
      "application/vnd.jupyter.widget-view+json": {
       "model_id": "7513382285d94ce69233cd87b40e731c",
       "version_major": 2,
       "version_minor": 0
      },
      "text/plain": [
       "JupyterButton(description='Data_Table_20181030_001.txt', layout=Layout(height='40px', width='80%'), style=Butt…"
      ]
     },
     "metadata": {},
     "output_type": "display_data"
    },
    {
     "data": {
      "application/vnd.jupyter.widget-view+json": {
       "model_id": "f597aa34ed8d4ce981ca0154965d4768",
       "version_major": 2,
       "version_minor": 0
      },
      "text/plain": [
       "JupyterButton(description='Data_Table_20181101_001.schema', layout=Layout(height='40px', width='80%'), style=B…"
      ]
     },
     "metadata": {},
     "output_type": "display_data"
    },
    {
     "data": {
      "application/vnd.jupyter.widget-view+json": {
       "model_id": "8ae99d9e33884f39881f80a248996f95",
       "version_major": 2,
       "version_minor": 0
      },
      "text/plain": [
       "JupyterButton(description='Data_Table_20181101_001.txt', layout=Layout(height='40px', width='80%'), style=Butt…"
      ]
     },
     "metadata": {},
     "output_type": "display_data"
    },
    {
     "data": {
      "application/vnd.jupyter.widget-view+json": {
       "model_id": "2400c6deb7a047b4a26e9a2d55840190",
       "version_major": 2,
       "version_minor": 0
      },
      "text/plain": [
       "JupyterButton(description='Data_Table_20181101_002.schema', layout=Layout(height='40px', width='80%'), style=B…"
      ]
     },
     "metadata": {},
     "output_type": "display_data"
    },
    {
     "data": {
      "application/vnd.jupyter.widget-view+json": {
       "model_id": "e9ee4f4ae1d449c68f1287a7c578ab19",
       "version_major": 2,
       "version_minor": 0
      },
      "text/plain": [
       "JupyterButton(description='Data_Table_20181101_002.txt', layout=Layout(height='40px', width='80%'), style=Butt…"
      ]
     },
     "metadata": {},
     "output_type": "display_data"
    },
    {
     "data": {
      "application/vnd.jupyter.widget-view+json": {
       "model_id": "89e665a327394b16a4740a55bd02c256",
       "version_major": 2,
       "version_minor": 0
      },
      "text/plain": [
       "JupyterButton(description='Data_Table_20181101_003.schema', layout=Layout(height='40px', width='80%'), style=B…"
      ]
     },
     "metadata": {},
     "output_type": "display_data"
    },
    {
     "data": {
      "application/vnd.jupyter.widget-view+json": {
       "model_id": "934988f73618439a8f70db068365beb0",
       "version_major": 2,
       "version_minor": 0
      },
      "text/plain": [
       "JupyterButton(description='Data_Table_20181101_003.txt', layout=Layout(height='40px', width='80%'), style=Butt…"
      ]
     },
     "metadata": {},
     "output_type": "display_data"
    },
    {
     "data": {
      "application/vnd.jupyter.widget-view+json": {
       "model_id": "c7f51c054a174e53b2fb8f1e2dd3dbe4",
       "version_major": 2,
       "version_minor": 0
      },
      "text/plain": [
       "JupyterButton(description='Data_Table_20181101_004.schema', layout=Layout(height='40px', width='80%'), style=B…"
      ]
     },
     "metadata": {},
     "output_type": "display_data"
    },
    {
     "data": {
      "application/vnd.jupyter.widget-view+json": {
       "model_id": "f16e3868eccd443f9b33e9e3946b315a",
       "version_major": 2,
       "version_minor": 0
      },
      "text/plain": [
       "JupyterButton(description='Data_Table_20181101_004.txt', layout=Layout(height='40px', width='80%'), style=Butt…"
      ]
     },
     "metadata": {},
     "output_type": "display_data"
    },
    {
     "data": {
      "application/vnd.jupyter.widget-view+json": {
       "model_id": "05a3556b863142e9bc4f44a7c0678034",
       "version_major": 2,
       "version_minor": 0
      },
      "text/plain": [
       "JupyterButton(description='Data_Table_20181101_005.schema', layout=Layout(height='40px', width='80%'), style=B…"
      ]
     },
     "metadata": {},
     "output_type": "display_data"
    },
    {
     "data": {
      "application/vnd.jupyter.widget-view+json": {
       "model_id": "dfb89503d80448d0b645b2c46afcbcb1",
       "version_major": 2,
       "version_minor": 0
      },
      "text/plain": [
       "JupyterButton(description='Data_Table_20181101_005.txt', layout=Layout(height='40px', width='80%'), style=Butt…"
      ]
     },
     "metadata": {},
     "output_type": "display_data"
    },
    {
     "data": {
      "application/vnd.jupyter.widget-view+json": {
       "model_id": "b94cd4cc919840e783a7bd2d082f3418",
       "version_major": 2,
       "version_minor": 0
      },
      "text/plain": [
       "JupyterButton(description='Data_Table_20181101_006.schema', layout=Layout(height='40px', width='80%'), style=B…"
      ]
     },
     "metadata": {},
     "output_type": "display_data"
    },
    {
     "data": {
      "application/vnd.jupyter.widget-view+json": {
       "model_id": "bd33d6d61cc34c7584cdbd90a4a867b6",
       "version_major": 2,
       "version_minor": 0
      },
      "text/plain": [
       "JupyterButton(description='Data_Table_20181101_006.txt', layout=Layout(height='40px', width='80%'), style=Butt…"
      ]
     },
     "metadata": {},
     "output_type": "display_data"
    },
    {
     "data": {
      "application/vnd.jupyter.widget-view+json": {
       "model_id": "c2df64e04e914d83929a35dcca4e4791",
       "version_major": 2,
       "version_minor": 0
      },
      "text/plain": [
       "JupyterButton(description='Data_Table_20181101_007.schema', layout=Layout(height='40px', width='80%'), style=B…"
      ]
     },
     "metadata": {},
     "output_type": "display_data"
    },
    {
     "data": {
      "application/vnd.jupyter.widget-view+json": {
       "model_id": "b6ea4f3b039249d7a803bf7ffcbd0ed9",
       "version_major": 2,
       "version_minor": 0
      },
      "text/plain": [
       "JupyterButton(description='Data_Table_20181101_007.txt', layout=Layout(height='40px', width='80%'), style=Butt…"
      ]
     },
     "metadata": {},
     "output_type": "display_data"
    },
    {
     "data": {
      "application/vnd.jupyter.widget-view+json": {
       "model_id": "851546250f734cbb848381df9a22b1f5",
       "version_major": 2,
       "version_minor": 0
      },
      "text/plain": [
       "JupyterButton(description='Data_Table_20181102_001.schema', layout=Layout(height='40px', width='80%'), style=B…"
      ]
     },
     "metadata": {},
     "output_type": "display_data"
    },
    {
     "data": {
      "application/vnd.jupyter.widget-view+json": {
       "model_id": "16df5e93992247ecb55bcb60d018a478",
       "version_major": 2,
       "version_minor": 0
      },
      "text/plain": [
       "JupyterButton(description='Data_Table_20181102_001.txt', layout=Layout(height='40px', width='80%'), style=Butt…"
      ]
     },
     "metadata": {},
     "output_type": "display_data"
    },
    {
     "data": {
      "application/vnd.jupyter.widget-view+json": {
       "model_id": "9fadc9e3347c43f58717815fe07d0358",
       "version_major": 2,
       "version_minor": 0
      },
      "text/plain": [
       "JupyterButton(description='Data_Table_20181102_002.schema', layout=Layout(height='40px', width='80%'), style=B…"
      ]
     },
     "metadata": {},
     "output_type": "display_data"
    },
    {
     "data": {
      "application/vnd.jupyter.widget-view+json": {
       "model_id": "3cd461b3d93c4ce8893f79a857ba8a1d",
       "version_major": 2,
       "version_minor": 0
      },
      "text/plain": [
       "JupyterButton(description='Data_Table_20181102_002.txt', layout=Layout(height='40px', width='80%'), style=Butt…"
      ]
     },
     "metadata": {},
     "output_type": "display_data"
    },
    {
     "data": {
      "application/vnd.jupyter.widget-view+json": {
       "model_id": "c279165758b74a3c94ee12b746768399",
       "version_major": 2,
       "version_minor": 0
      },
      "text/plain": [
       "JupyterButton(description='Data_Table_20181102_003.schema', layout=Layout(height='40px', width='80%'), style=B…"
      ]
     },
     "metadata": {},
     "output_type": "display_data"
    },
    {
     "data": {
      "application/vnd.jupyter.widget-view+json": {
       "model_id": "00056570b0694d7989f3926513b6f77f",
       "version_major": 2,
       "version_minor": 0
      },
      "text/plain": [
       "JupyterButton(description='Data_Table_20181102_003.txt', layout=Layout(height='40px', width='80%'), style=Butt…"
      ]
     },
     "metadata": {},
     "output_type": "display_data"
    },
    {
     "data": {
      "application/vnd.jupyter.widget-view+json": {
       "model_id": "49e8832718fa4c89b23af9e2739986ff",
       "version_major": 2,
       "version_minor": 0
      },
      "text/plain": [
       "JupyterButton(description='Data_Table_20181102_004.schema', layout=Layout(height='40px', width='80%'), style=B…"
      ]
     },
     "metadata": {},
     "output_type": "display_data"
    },
    {
     "data": {
      "application/vnd.jupyter.widget-view+json": {
       "model_id": "2542e095aaaa422793da8a1a6fb674f9",
       "version_major": 2,
       "version_minor": 0
      },
      "text/plain": [
       "JupyterButton(description='Data_Table_20181102_004.txt', layout=Layout(height='40px', width='80%'), style=Butt…"
      ]
     },
     "metadata": {},
     "output_type": "display_data"
    },
    {
     "data": {
      "application/vnd.jupyter.widget-view+json": {
       "model_id": "c6d9634b29794e08b9d8344121d04c36",
       "version_major": 2,
       "version_minor": 0
      },
      "text/plain": [
       "JupyterButton(description='Data_Table_20181102_005.txt', layout=Layout(height='40px', width='80%'), style=Butt…"
      ]
     },
     "metadata": {},
     "output_type": "display_data"
    },
    {
     "data": {
      "application/vnd.jupyter.widget-view+json": {
       "model_id": "f7cef0aade724a61ad36a07b899d9049",
       "version_major": 2,
       "version_minor": 0
      },
      "text/plain": [
       "JupyterButton(description='Data_Table_20181102_006.txt', layout=Layout(height='40px', width='80%'), style=Butt…"
      ]
     },
     "metadata": {},
     "output_type": "display_data"
    },
    {
     "data": {
      "application/vnd.jupyter.widget-view+json": {
       "model_id": "7fce4f9db3924dd89b3c74e8e98355d9",
       "version_major": 2,
       "version_minor": 0
      },
      "text/plain": [
       "JupyterButton(description='Data_Table_20181102_007.txt', layout=Layout(height='40px', width='80%'), style=Butt…"
      ]
     },
     "metadata": {},
     "output_type": "display_data"
    },
    {
     "data": {
      "application/vnd.jupyter.widget-view+json": {
       "model_id": "c7f21d2b0b534c07a20d1b64710860ff",
       "version_major": 2,
       "version_minor": 0
      },
      "text/plain": [
       "JupyterButton(description='dictionary.pkl', layout=Layout(height='40px', width='80%'), style=ButtonStyle())"
      ]
     },
     "metadata": {},
     "output_type": "display_data"
    },
    {
     "data": {
      "application/vnd.jupyter.widget-view+json": {
       "model_id": "1290c523e75b411ab224cf1b166c084e",
       "version_major": 2,
       "version_minor": 0
      },
      "text/plain": [
       "JupyterButton(description='Example_HD5.mat', layout=Layout(height='40px', width='80%'), style=ButtonStyle())"
      ]
     },
     "metadata": {},
     "output_type": "display_data"
    },
    {
     "data": {
      "application/vnd.jupyter.widget-view+json": {
       "model_id": "a4f88c164b0a4ce18a6ac977b9a1d4d2",
       "version_major": 2,
       "version_minor": 0
      },
      "text/plain": [
       "JupyterButton(description='ExportedOnePortCalrep.txt', layout=Layout(height='40px', width='80%'), style=Button…"
      ]
     },
     "metadata": {},
     "output_type": "display_data"
    },
    {
     "data": {
      "application/vnd.jupyter.widget-view+json": {
       "model_id": "2d937362cdaa487b9cc1cb6e04a6310a",
       "version_major": 2,
       "version_minor": 0
      },
      "text/plain": [
       "JupyterButton(description='filtern5.s2p', layout=Layout(height='40px', width='80%'), style=ButtonStyle())"
      ]
     },
     "metadata": {},
     "output_type": "display_data"
    },
    {
     "data": {
      "application/vnd.jupyter.widget-view+json": {
       "model_id": "d57dcf4bd67a447b9064514e4ab43f08",
       "version_major": 2,
       "version_minor": 0
      },
      "text/plain": [
       "JupyterButton(description='filtern5_narrow.s2p', layout=Layout(height='40px', width='80%'), style=ButtonStyle(…"
      ]
     },
     "metadata": {},
     "output_type": "display_data"
    },
    {
     "data": {
      "application/vnd.jupyter.widget-view+json": {
       "model_id": "316cf65978a4419fa829f062febea9ab",
       "version_major": 2,
       "version_minor": 0
      },
      "text/plain": [
       "JupyterButton(description='Filter_n7_f0_2_35ghz.s2p', layout=Layout(height='40px', width='80%'), style=ButtonS…"
      ]
     },
     "metadata": {},
     "output_type": "display_data"
    },
    {
     "data": {
      "application/vnd.jupyter.widget-view+json": {
       "model_id": "4b2188189ca8440592997e74b7a8fc13",
       "version_major": 2,
       "version_minor": 0
      },
      "text/plain": [
       "JupyterButton(description='FourPortTest.s4p', layout=Layout(height='40px', width='80%'), style=ButtonStyle())"
      ]
     },
     "metadata": {},
     "output_type": "display_data"
    },
    {
     "data": {
      "application/vnd.jupyter.widget-view+json": {
       "model_id": "2aa32471114043c3a688c49fe90dd138",
       "version_major": 2,
       "version_minor": 0
      },
      "text/plain": [
       "JupyterButton(description='ftest6_L1_g5_HF_air', layout=Layout(height='40px', width='80%'), style=ButtonStyle(…"
      ]
     },
     "metadata": {},
     "output_type": "display_data"
    },
    {
     "data": {
      "application/vnd.jupyter.widget-view+json": {
       "model_id": "3b939c8d154e486f9753cf839ea9863c",
       "version_major": 2,
       "version_minor": 0
      },
      "text/plain": [
       "JupyterButton(description='HTML_Document_20161216_001.pdf', layout=Layout(height='40px', width='80%'), style=B…"
      ]
     },
     "metadata": {},
     "output_type": "display_data"
    },
    {
     "data": {
      "application/vnd.jupyter.widget-view+json": {
       "model_id": "809551db5bbc434ebb3b499222b6c192",
       "version_major": 2,
       "version_minor": 0
      },
      "text/plain": [
       "JupyterButton(description='Log_XML_20160222_001.xml', layout=Layout(height='40px', width='80%'), style=ButtonS…"
      ]
     },
     "metadata": {},
     "output_type": "display_data"
    },
    {
     "data": {
      "application/vnd.jupyter.widget-view+json": {
       "model_id": "7811a3dbd00047ed947303e291c5b204",
       "version_major": 2,
       "version_minor": 0
      },
      "text/plain": [
       "JupyterButton(description='Log_XML_20160222_002.xml', layout=Layout(height='40px', width='80%'), style=ButtonS…"
      ]
     },
     "metadata": {},
     "output_type": "display_data"
    },
    {
     "data": {
      "application/vnd.jupyter.widget-view+json": {
       "model_id": "59c021f278064402809195b1524b49fc",
       "version_major": 2,
       "version_minor": 0
      },
      "text/plain": [
       "JupyterButton(description='modified_hilbert_resonator.s2p', layout=Layout(height='40px', width='80%'), style=B…"
      ]
     },
     "metadata": {},
     "output_type": "display_data"
    },
    {
     "data": {
      "application/vnd.jupyter.widget-view+json": {
       "model_id": "a2d34677a7674cb2a1169cc8830144a6",
       "version_major": 2,
       "version_minor": 0
      },
      "text/plain": [
       "JupyterButton(description='my_new_s3p.s3p', layout=Layout(height='40px', width='80%'), style=ButtonStyle())"
      ]
     },
     "metadata": {},
     "output_type": "display_data"
    },
    {
     "data": {
      "application/vnd.jupyter.widget-view+json": {
       "model_id": "0f147d0fbe534af0a815801af2b0e7bd",
       "version_major": 2,
       "version_minor": 0
      },
      "text/plain": [
       "JupyterButton(description='N205RV.asc', layout=Layout(height='40px', width='80%'), style=ButtonStyle())"
      ]
     },
     "metadata": {},
     "output_type": "display_data"
    },
    {
     "data": {
      "application/vnd.jupyter.widget-view+json": {
       "model_id": "75b20c361b8047789a23f0949b45f68c",
       "version_major": 2,
       "version_minor": 0
      },
      "text/plain": [
       "JupyterButton(description='N205RV.txt', layout=Layout(height='40px', width='80%'), style=ButtonStyle())"
      ]
     },
     "metadata": {},
     "output_type": "display_data"
    },
    {
     "data": {
      "application/vnd.jupyter.widget-view+json": {
       "model_id": "bef3726d01164b88b4d7920e30102767",
       "version_major": 2,
       "version_minor": 0
      },
      "text/plain": [
       "JupyterButton(description='new_s2p.s2p', layout=Layout(height='40px', width='80%'), style=ButtonStyle())"
      ]
     },
     "metadata": {},
     "output_type": "display_data"
    },
    {
     "data": {
      "application/vnd.jupyter.widget-view+json": {
       "model_id": "b0f3499eb77a4e36a66b8edf122486db",
       "version_major": 2,
       "version_minor": 0
      },
      "text/plain": [
       "JupyterButton(description='new_test_table.txt', layout=Layout(height='40px', width='80%'), style=ButtonStyle()…"
      ]
     },
     "metadata": {},
     "output_type": "display_data"
    },
    {
     "data": {
      "application/vnd.jupyter.widget-view+json": {
       "model_id": "01799fa1c3bb44669d3015179e7f4ea1",
       "version_major": 2,
       "version_minor": 0
      },
      "text/plain": [
       "JupyterButton(description='ODBC.accdb', layout=Layout(height='40px', width='80%'), style=ButtonStyle())"
      ]
     },
     "metadata": {},
     "output_type": "display_data"
    },
    {
     "data": {
      "application/vnd.jupyter.widget-view+json": {
       "model_id": "6fefe2b31c6f4bc79fbd2095e895549a",
       "version_major": 2,
       "version_minor": 0
      },
      "text/plain": [
       "JupyterButton(description='ODBC1.accdb', layout=Layout(height='40px', width='80%'), style=ButtonStyle())"
      ]
     },
     "metadata": {},
     "output_type": "display_data"
    },
    {
     "data": {
      "application/vnd.jupyter.widget-view+json": {
       "model_id": "aa5c9f5e6a1246e39a4d42c6561a444b",
       "version_major": 2,
       "version_minor": 0
      },
      "text/plain": [
       "JupyterButton(description='ODBC2.accdb', layout=Layout(height='40px', width='80%'), style=ButtonStyle())"
      ]
     },
     "metadata": {},
     "output_type": "display_data"
    },
    {
     "data": {
      "application/vnd.jupyter.widget-view+json": {
       "model_id": "8685d98dfa2344be976ee8f46e25e6e2",
       "version_major": 2,
       "version_minor": 0
      },
      "text/plain": [
       "JupyterButton(description='ODBC_Backup.accdb', layout=Layout(height='40px', width='80%'), style=ButtonStyle())"
      ]
     },
     "metadata": {},
     "output_type": "display_data"
    },
    {
     "data": {
      "application/vnd.jupyter.widget-view+json": {
       "model_id": "cb75f69d9b4d41ef9a67afa498f28d85",
       "version_major": 2,
       "version_minor": 0
      },
      "text/plain": [
       "JupyterButton(description='onechks.csv', layout=Layout(height='40px', width='80%'), style=ButtonStyle())"
      ]
     },
     "metadata": {},
     "output_type": "display_data"
    },
    {
     "data": {
      "application/vnd.jupyter.widget-view+json": {
       "model_id": "c5e0ec897e60448b81ad6589ac94d321",
       "version_major": 2,
       "version_minor": 0
      },
      "text/plain": [
       "JupyterButton(description='onechks_pandas.csv', layout=Layout(height='40px', width='80%'), style=ButtonStyle()…"
      ]
     },
     "metadata": {},
     "output_type": "display_data"
    },
    {
     "data": {
      "application/vnd.jupyter.widget-view+json": {
       "model_id": "25f3e6d17db34f56ad23237bc9c897dc",
       "version_major": 2,
       "version_minor": 0
      },
      "text/plain": [
       "JupyterButton(description='OnePortRawTestFile.txt', layout=Layout(height='40px', width='80%'), style=ButtonSty…"
      ]
     },
     "metadata": {},
     "output_type": "display_data"
    },
    {
     "data": {
      "application/vnd.jupyter.widget-view+json": {
       "model_id": "f39fd26d40184353b5d06853cf74744a",
       "version_major": 2,
       "version_minor": 0
      },
      "text/plain": [
       "JupyterButton(description='OnePortRawTestFileAsConverted.txt', layout=Layout(height='40px', width='80%'), styl…"
      ]
     },
     "metadata": {},
     "output_type": "display_data"
    },
    {
     "data": {
      "application/vnd.jupyter.widget-view+json": {
       "model_id": "fd1af6b433414285a2bdc2b3c3b54c40",
       "version_major": 2,
       "version_minor": 0
      },
      "text/plain": [
       "JupyterButton(description='OnePortRawTestFile_002.txt', layout=Layout(height='40px', width='80%'), style=Butto…"
      ]
     },
     "metadata": {},
     "output_type": "display_data"
    },
    {
     "data": {
      "application/vnd.jupyter.widget-view+json": {
       "model_id": "2f002454a835433ba0469ca9e29a22f7",
       "version_major": 2,
       "version_minor": 0
      },
      "text/plain": [
       "JupyterButton(description='OnePortTouchstoneTestFile.s1p', layout=Layout(height='40px', width='80%'), style=Bu…"
      ]
     },
     "metadata": {},
     "output_type": "display_data"
    },
    {
     "data": {
      "application/vnd.jupyter.widget-view+json": {
       "model_id": "cb1f013f8c2d4dce954e2cf4416e4b9e",
       "version_major": 2,
       "version_minor": 0
      },
      "text/plain": [
       "JupyterButton(description='one_port.xlsx', layout=Layout(height='40px', width='80%'), style=ButtonStyle())"
      ]
     },
     "metadata": {},
     "output_type": "display_data"
    },
    {
     "data": {
      "application/vnd.jupyter.widget-view+json": {
       "model_id": "b016580910e54f7c8aa9f3124d4ce84f",
       "version_major": 2,
       "version_minor": 0
      },
      "text/plain": [
       "JupyterButton(description='One_Port_Raw_Sparameter_20160307_001.html', layout=Layout(height='40px', width='80%…"
      ]
     },
     "metadata": {},
     "output_type": "display_data"
    },
    {
     "data": {
      "application/vnd.jupyter.widget-view+json": {
       "model_id": "b704ee064f8c4ae5aac0639b9a88b5dc",
       "version_major": 2,
       "version_minor": 0
      },
      "text/plain": [
       "JupyterButton(description='One_Port_Raw_Sparameter_20160307_001.pdf', layout=Layout(height='40px', width='80%'…"
      ]
     },
     "metadata": {},
     "output_type": "display_data"
    },
    {
     "data": {
      "application/vnd.jupyter.widget-view+json": {
       "model_id": "39b0707905824ae98103107cf1f9e3f4",
       "version_major": 2,
       "version_minor": 0
      },
      "text/plain": [
       "JupyterButton(description='One_Port_Raw_Sparameter_20160307_001.xml', layout=Layout(height='40px', width='80%'…"
      ]
     },
     "metadata": {},
     "output_type": "display_data"
    },
    {
     "data": {
      "application/vnd.jupyter.widget-view+json": {
       "model_id": "8626aad6703743bca23d42c1cd062178",
       "version_major": 2,
       "version_minor": 0
      },
      "text/plain": [
       "JupyterButton(description='One_Port_Sparameter_20160303_001.xml', layout=Layout(height='40px', width='80%'), s…"
      ]
     },
     "metadata": {},
     "output_type": "display_data"
    },
    {
     "data": {
      "application/vnd.jupyter.widget-view+json": {
       "model_id": "6796ead7a2fc4caf9f26c9e2722c705f",
       "version_major": 2,
       "version_minor": 0
      },
      "text/plain": [
       "JupyterButton(description='One_Port_Sparameter_20160307_001.html', layout=Layout(height='40px', width='80%'), …"
      ]
     },
     "metadata": {},
     "output_type": "display_data"
    },
    {
     "data": {
      "application/vnd.jupyter.widget-view+json": {
       "model_id": "c10684539c3f48748e1dfcfe933c271d",
       "version_major": 2,
       "version_minor": 0
      },
      "text/plain": [
       "JupyterButton(description='One_Port_Sparameter_20160307_001.xml', layout=Layout(height='40px', width='80%'), s…"
      ]
     },
     "metadata": {},
     "output_type": "display_data"
    },
    {
     "data": {
      "application/vnd.jupyter.widget-view+json": {
       "model_id": "31628a2199884eeabc465ac90489b146",
       "version_major": 2,
       "version_minor": 0
      },
      "text/plain": [
       "JupyterButton(description='One_Port_Sparameter_20160308_001.html', layout=Layout(height='40px', width='80%'), …"
      ]
     },
     "metadata": {},
     "output_type": "display_data"
    },
    {
     "data": {
      "application/vnd.jupyter.widget-view+json": {
       "model_id": "e36c09d183414615abd72025aad38f41",
       "version_major": 2,
       "version_minor": 0
      },
      "text/plain": [
       "JupyterButton(description='One_Port_Sparameter_20160308_001.xml', layout=Layout(height='40px', width='80%'), s…"
      ]
     },
     "metadata": {},
     "output_type": "display_data"
    },
    {
     "data": {
      "application/vnd.jupyter.widget-view+json": {
       "model_id": "e6e5f14b74654eeeadba4bf975a5e33f",
       "version_major": 2,
       "version_minor": 0
      },
      "text/plain": [
       "JupyterButton(description='One_Port_Sparameter_20160309_001.html', layout=Layout(height='40px', width='80%'), …"
      ]
     },
     "metadata": {},
     "output_type": "display_data"
    },
    {
     "data": {
      "application/vnd.jupyter.widget-view+json": {
       "model_id": "43e0663bf9ae45f09ab262b978ad20e2",
       "version_major": 2,
       "version_minor": 0
      },
      "text/plain": [
       "JupyterButton(description='One_Port_Sparameter_20160309_001.xml', layout=Layout(height='40px', width='80%'), s…"
      ]
     },
     "metadata": {},
     "output_type": "display_data"
    },
    {
     "data": {
      "application/vnd.jupyter.widget-view+json": {
       "model_id": "6f75f68c23aa460992d220604883c196",
       "version_major": 2,
       "version_minor": 0
      },
      "text/plain": [
       "JupyterButton(description='One_Port_Sparameter_20160812_001.html', layout=Layout(height='40px', width='80%'), …"
      ]
     },
     "metadata": {},
     "output_type": "display_data"
    },
    {
     "data": {
      "application/vnd.jupyter.widget-view+json": {
       "model_id": "c61c288943f04e3088b208da4a9d52ba",
       "version_major": 2,
       "version_minor": 0
      },
      "text/plain": [
       "JupyterButton(description='One_Port_Sparameter_20160812_001.xml', layout=Layout(height='40px', width='80%'), s…"
      ]
     },
     "metadata": {},
     "output_type": "display_data"
    },
    {
     "data": {
      "application/vnd.jupyter.widget-view+json": {
       "model_id": "b6994b1f973746cda289f72ce7de2ed1",
       "version_major": 2,
       "version_minor": 0
      },
      "text/plain": [
       "JupyterButton(description='One_Port_Sparameter_20160815_001.html', layout=Layout(height='40px', width='80%'), …"
      ]
     },
     "metadata": {},
     "output_type": "display_data"
    },
    {
     "data": {
      "application/vnd.jupyter.widget-view+json": {
       "model_id": "440936762c8c4cb4b5b67b145fb71d63",
       "version_major": 2,
       "version_minor": 0
      },
      "text/plain": [
       "JupyterButton(description='One_Port_Sparameter_20160815_001.xml', layout=Layout(height='40px', width='80%'), s…"
      ]
     },
     "metadata": {},
     "output_type": "display_data"
    },
    {
     "data": {
      "application/vnd.jupyter.widget-view+json": {
       "model_id": "092616d953e345c3bdd06cab7709531e",
       "version_major": 2,
       "version_minor": 0
      },
      "text/plain": [
       "JupyterButton(description='Open.meas', layout=Layout(height='40px', width='80%'), style=ButtonStyle())"
      ]
     },
     "metadata": {},
     "output_type": "display_data"
    },
    {
     "data": {
      "application/vnd.jupyter.widget-view+json": {
       "model_id": "564cac2563e340248577252b59ec2149",
       "version_major": 2,
       "version_minor": 0
      },
      "text/plain": [
       "JupyterButton(description='powchks.csv', layout=Layout(height='40px', width='80%'), style=ButtonStyle())"
      ]
     },
     "metadata": {},
     "output_type": "display_data"
    },
    {
     "data": {
      "application/vnd.jupyter.widget-view+json": {
       "model_id": "ddf7dfe212d04e6c96576e524e8bd36a",
       "version_major": 2,
       "version_minor": 0
      },
      "text/plain": [
       "JupyterButton(description='QuartzRefExample_L1_g10_HF', layout=Layout(height='40px', width='80%'), style=Butto…"
      ]
     },
     "metadata": {},
     "output_type": "display_data"
    },
    {
     "data": {
      "application/vnd.jupyter.widget-view+json": {
       "model_id": "1400230fb8ba4f8096de381bf10fc8a7",
       "version_major": 2,
       "version_minor": 0
      },
      "text/plain": [
       "JupyterButton(description='Raw_15Mar11_11.10-1.txt', layout=Layout(height='40px', width='80%'), style=ButtonSt…"
      ]
     },
     "metadata": {},
     "output_type": "display_data"
    },
    {
     "data": {
      "application/vnd.jupyter.widget-view+json": {
       "model_id": "de217e079f964b2e950b7a55bd730640",
       "version_major": 2,
       "version_minor": 0
      },
      "text/plain": [
       "JupyterButton(description='Resource_Registry_20160222_001.xml', layout=Layout(height='40px', width='80%'), sty…"
      ]
     },
     "metadata": {},
     "output_type": "display_data"
    },
    {
     "data": {
      "application/vnd.jupyter.widget-view+json": {
       "model_id": "2ce6fa12a16f42bf91ca9a588f8ab7f3",
       "version_major": 2,
       "version_minor": 0
      },
      "text/plain": [
       "JupyterButton(description='Resource_Registry_20160222_001_Metadata.xml', layout=Layout(height='40px', width='8…"
      ]
     },
     "metadata": {},
     "output_type": "display_data"
    },
    {
     "data": {
      "application/vnd.jupyter.widget-view+json": {
       "model_id": "abfe427dc5a14b1090af0ff23423a564",
       "version_major": 2,
       "version_minor": 0
      },
      "text/plain": [
       "JupyterButton(description='Resource_Registry_20160222_002.xml', layout=Layout(height='40px', width='80%'), sty…"
      ]
     },
     "metadata": {},
     "output_type": "display_data"
    },
    {
     "data": {
      "application/vnd.jupyter.widget-view+json": {
       "model_id": "2d41c29dca294507bb82b10fb38c7c4f",
       "version_major": 2,
       "version_minor": 0
      },
      "text/plain": [
       "JupyterButton(description='Resource_Registry_20160222_003.xml', layout=Layout(height='40px', width='80%'), sty…"
      ]
     },
     "metadata": {},
     "output_type": "display_data"
    },
    {
     "data": {
      "application/vnd.jupyter.widget-view+json": {
       "model_id": "6c648bb2215848ccafd20b0930066a17",
       "version_major": 2,
       "version_minor": 0
      },
      "text/plain": [
       "JupyterButton(description='Resource_Registry_20160518_001.xml', layout=Layout(height='40px', width='80%'), sty…"
      ]
     },
     "metadata": {},
     "output_type": "display_data"
    },
    {
     "data": {
      "application/vnd.jupyter.widget-view+json": {
       "model_id": "5399f21f21d742219c2afc5a0472b8e5",
       "version_major": 2,
       "version_minor": 0
      },
      "text/plain": [
       "JupyterButton(description='Resource_Registry_20160518_001_Metadata.xml', layout=Layout(height='40px', width='8…"
      ]
     },
     "metadata": {},
     "output_type": "display_data"
    },
    {
     "data": {
      "application/vnd.jupyter.widget-view+json": {
       "model_id": "cc57b4228c9442d28821c8df93ef19e5",
       "version_major": 2,
       "version_minor": 0
      },
      "text/plain": [
       "JupyterButton(description='Resource_Registry_20170227_001.xml', layout=Layout(height='40px', width='80%'), sty…"
      ]
     },
     "metadata": {},
     "output_type": "display_data"
    },
    {
     "data": {
      "application/vnd.jupyter.widget-view+json": {
       "model_id": "3eed9c26763e4614bf1fa2a9a5205c9d",
       "version_major": 2,
       "version_minor": 0
      },
      "text/plain": [
       "JupyterButton(description='SavedTest2PortRaw.html', layout=Layout(height='40px', width='80%'), style=ButtonSty…"
      ]
     },
     "metadata": {},
     "output_type": "display_data"
    },
    {
     "data": {
      "application/vnd.jupyter.widget-view+json": {
       "model_id": "ea10af99cd12420989a9e30cdede9472",
       "version_major": 2,
       "version_minor": 0
      },
      "text/plain": [
       "JupyterButton(description='SavedTest2PortRaw.s2p', layout=Layout(height='40px', width='80%'), style=ButtonStyl…"
      ]
     },
     "metadata": {},
     "output_type": "display_data"
    },
    {
     "data": {
      "application/vnd.jupyter.widget-view+json": {
       "model_id": "3f3e41ee9fab48bc8dc5ba33038080f9",
       "version_major": 2,
       "version_minor": 0
      },
      "text/plain": [
       "JupyterButton(description='SavedTest2PortRaw.txt', layout=Layout(height='40px', width='80%'), style=ButtonStyl…"
      ]
     },
     "metadata": {},
     "output_type": "display_data"
    },
    {
     "data": {
      "application/vnd.jupyter.widget-view+json": {
       "model_id": "afc6f6b24c544b0bb721b80abaed6c73",
       "version_major": 2,
       "version_minor": 0
      },
      "text/plain": [
       "JupyterButton(description='SavedTest2PortRaw.xml', layout=Layout(height='40px', width='80%'), style=ButtonStyl…"
      ]
     },
     "metadata": {},
     "output_type": "display_data"
    },
    {
     "data": {
      "application/vnd.jupyter.widget-view+json": {
       "model_id": "97df8c815efa484198d68db42882fe8c",
       "version_major": 2,
       "version_minor": 0
      },
      "text/plain": [
       "JupyterButton(description='SavedTestPowerPortRaw.html', layout=Layout(height='40px', width='80%'), style=Butto…"
      ]
     },
     "metadata": {},
     "output_type": "display_data"
    },
    {
     "data": {
      "application/vnd.jupyter.widget-view+json": {
       "model_id": "8446b000611b44069d737051f2d9d960",
       "version_major": 2,
       "version_minor": 0
      },
      "text/plain": [
       "JupyterButton(description='SavedTestPowerRaw.xml', layout=Layout(height='40px', width='80%'), style=ButtonStyl…"
      ]
     },
     "metadata": {},
     "output_type": "display_data"
    },
    {
     "data": {
      "application/vnd.jupyter.widget-view+json": {
       "model_id": "3a3eb64aa3264df08c6f7958f9d86615",
       "version_major": 2,
       "version_minor": 0
      },
      "text/plain": [
       "JupyterButton(description='setup20101028.s4p', layout=Layout(height='40px', width='80%'), style=ButtonStyle())"
      ]
     },
     "metadata": {},
     "output_type": "display_data"
    },
    {
     "data": {
      "application/vnd.jupyter.widget-view+json": {
       "model_id": "07d87ab8cc914280ab3d7b6ffa15db71",
       "version_major": 2,
       "version_minor": 0
      },
      "text/plain": [
       "JupyterButton(description='sinthesis_1_predistorted_7000.s2p', layout=Layout(height='40px', width='80%'), styl…"
      ]
     },
     "metadata": {},
     "output_type": "display_data"
    },
    {
     "data": {
      "application/vnd.jupyter.widget-view+json": {
       "model_id": "340c2e67df2f445aa7d4c86a3c34ce3e",
       "version_major": 2,
       "version_minor": 0
      },
      "text/plain": [
       "JupyterButton(description='Solution_0.s4p', layout=Layout(height='40px', width='80%'), style=ButtonStyle())"
      ]
     },
     "metadata": {},
     "output_type": "display_data"
    },
    {
     "data": {
      "application/vnd.jupyter.widget-view+json": {
       "model_id": "6c5a81155f1f4f78bb9c4802b9040568",
       "version_major": 2,
       "version_minor": 0
      },
      "text/plain": [
       "JupyterButton(description='Solution_Plus.txt', layout=Layout(height='40px', width='80%'), style=ButtonStyle())"
      ]
     },
     "metadata": {},
     "output_type": "display_data"
    },
    {
     "data": {
      "application/vnd.jupyter.widget-view+json": {
       "model_id": "3e69949add154807bd578d12b40dde71",
       "version_major": 2,
       "version_minor": 0
      },
      "text/plain": [
       "JupyterButton(description='Solution_Plus_2.txt', layout=Layout(height='40px', width='80%'), style=ButtonStyle(…"
      ]
     },
     "metadata": {},
     "output_type": "display_data"
    },
    {
     "data": {
      "application/vnd.jupyter.widget-view+json": {
       "model_id": "4ed1bcbab6bb43f0b44772c633e32e3f",
       "version_major": 2,
       "version_minor": 0
      },
      "text/plain": [
       "JupyterButton(description='SPHERICAL DATA-118GHz CHI00 PATTERN S21-.csv', layout=Layout(height='40px', width='…"
      ]
     },
     "metadata": {},
     "output_type": "display_data"
    },
    {
     "data": {
      "application/vnd.jupyter.widget-view+json": {
       "model_id": "197207c29bd549648e91cd8ace28d864",
       "version_major": 2,
       "version_minor": 0
      },
      "text/plain": [
       "JupyterButton(description='test.bmp', layout=Layout(height='40px', width='80%'), style=ButtonStyle())"
      ]
     },
     "metadata": {},
     "output_type": "display_data"
    },
    {
     "data": {
      "application/vnd.jupyter.widget-view+json": {
       "model_id": "a08c85f93a044707b7dd18e4174c3802",
       "version_major": 2,
       "version_minor": 0
      },
      "text/plain": [
       "JupyterButton(description='test.csv', layout=Layout(height='40px', width='80%'), style=ButtonStyle())"
      ]
     },
     "metadata": {},
     "output_type": "display_data"
    },
    {
     "data": {
      "application/vnd.jupyter.widget-view+json": {
       "model_id": "f0287a2eb4f64175a12a832476f0f63a",
       "version_major": 2,
       "version_minor": 0
      },
      "text/plain": [
       "JupyterButton(description='test.gif', layout=Layout(height='40px', width='80%'), style=ButtonStyle())"
      ]
     },
     "metadata": {},
     "output_type": "display_data"
    },
    {
     "data": {
      "application/vnd.jupyter.widget-view+json": {
       "model_id": "ed615f0798344d92b15a61ef1f8dce40",
       "version_major": 2,
       "version_minor": 0
      },
      "text/plain": [
       "JupyterButton(description='test.hdf', layout=Layout(height='40px', width='80%'), style=ButtonStyle())"
      ]
     },
     "metadata": {},
     "output_type": "display_data"
    },
    {
     "data": {
      "application/vnd.jupyter.widget-view+json": {
       "model_id": "260bb1e690de4113af1b2b1ef08bb4e6",
       "version_major": 2,
       "version_minor": 0
      },
      "text/plain": [
       "JupyterButton(description='test.html', layout=Layout(height='40px', width='80%'), style=ButtonStyle())"
      ]
     },
     "metadata": {},
     "output_type": "display_data"
    },
    {
     "data": {
      "application/vnd.jupyter.widget-view+json": {
       "model_id": "81362b3ab31c46ddb22fb9e3aea4771c",
       "version_major": 2,
       "version_minor": 0
      },
      "text/plain": [
       "JupyterButton(description='test.jpg', layout=Layout(height='40px', width='80%'), style=ButtonStyle())"
      ]
     },
     "metadata": {},
     "output_type": "display_data"
    },
    {
     "data": {
      "application/vnd.jupyter.widget-view+json": {
       "model_id": "354464cc43d7495887a99920c3f2081a",
       "version_major": 2,
       "version_minor": 0
      },
      "text/plain": [
       "JupyterButton(description='test.json', layout=Layout(height='40px', width='80%'), style=ButtonStyle())"
      ]
     },
     "metadata": {},
     "output_type": "display_data"
    },
    {
     "data": {
      "application/vnd.jupyter.widget-view+json": {
       "model_id": "1e070241ea634682815ea51350fb5158",
       "version_major": 2,
       "version_minor": 0
      },
      "text/plain": [
       "JupyterButton(description='test.mat', layout=Layout(height='40px', width='80%'), style=ButtonStyle())"
      ]
     },
     "metadata": {},
     "output_type": "display_data"
    },
    {
     "data": {
      "application/vnd.jupyter.widget-view+json": {
       "model_id": "1bef2f1b76334864a088adb49647ee62",
       "version_major": 2,
       "version_minor": 0
      },
      "text/plain": [
       "JupyterButton(description='test.png', layout=Layout(height='40px', width='80%'), style=ButtonStyle())"
      ]
     },
     "metadata": {},
     "output_type": "display_data"
    },
    {
     "data": {
      "application/vnd.jupyter.widget-view+json": {
       "model_id": "19de6744d6e5463cb469f1c627aa2950",
       "version_major": 2,
       "version_minor": 0
      },
      "text/plain": [
       "JupyterButton(description='test.tiff', layout=Layout(height='40px', width='80%'), style=ButtonStyle())"
      ]
     },
     "metadata": {},
     "output_type": "display_data"
    },
    {
     "data": {
      "application/vnd.jupyter.widget-view+json": {
       "model_id": "8453cacefdc44af1bbc78440fc91bfb9",
       "version_major": 2,
       "version_minor": 0
      },
      "text/plain": [
       "JupyterButton(description='Test.xlsx', layout=Layout(height='40px', width='80%'), style=ButtonStyle())"
      ]
     },
     "metadata": {},
     "output_type": "display_data"
    },
    {
     "data": {
      "application/vnd.jupyter.widget-view+json": {
       "model_id": "ac4061b8f0c140c997c26f718eb65b97",
       "version_major": 2,
       "version_minor": 0
      },
      "text/plain": [
       "JupyterButton(description='TestFilePowerRaw.txt', layout=Layout(height='40px', width='80%'), style=ButtonStyle…"
      ]
     },
     "metadata": {},
     "output_type": "display_data"
    },
    {
     "data": {
      "application/vnd.jupyter.widget-view+json": {
       "model_id": "5a3493088b5448819391e01ecf683379",
       "version_major": 2,
       "version_minor": 0
      },
      "text/plain": [
       "JupyterButton(description='TestFileTwoPortRaw.txt', layout=Layout(height='40px', width='80%'), style=ButtonSty…"
      ]
     },
     "metadata": {},
     "output_type": "display_data"
    },
    {
     "data": {
      "application/vnd.jupyter.widget-view+json": {
       "model_id": "b0177b8f396a44bda6744f25e3da46a2",
       "version_major": 2,
       "version_minor": 0
      },
      "text/plain": [
       "JupyterButton(description='test_conversion.pdf', layout=Layout(height='40px', width='80%'), style=ButtonStyle(…"
      ]
     },
     "metadata": {},
     "output_type": "display_data"
    },
    {
     "data": {
      "application/vnd.jupyter.widget-view+json": {
       "model_id": "6ff35ed8c176414aa5bb233e0093b886",
       "version_major": 2,
       "version_minor": 0
      },
      "text/plain": [
       "JupyterButton(description='TGF2018_Noise_parameters_Vds2V_Ids28mA.s2p', layout=Layout(height='40px', width='80…"
      ]
     },
     "metadata": {},
     "output_type": "display_data"
    },
    {
     "data": {
      "application/vnd.jupyter.widget-view+json": {
       "model_id": "62c338321be1493bbc1ad3d003789564",
       "version_major": 2,
       "version_minor": 0
      },
      "text/plain": [
       "JupyterButton(description='ThreePortTest.s3p', layout=Layout(height='40px', width='80%'), style=ButtonStyle())"
      ]
     },
     "metadata": {},
     "output_type": "display_data"
    },
    {
     "data": {
      "application/vnd.jupyter.widget-view+json": {
       "model_id": "2a4881e56467485da35fbb6a93d5bf7a",
       "version_major": 2,
       "version_minor": 0
      },
      "text/plain": [
       "JupyterButton(description='thru.s2p', layout=Layout(height='40px', width='80%'), style=ButtonStyle())"
      ]
     },
     "metadata": {},
     "output_type": "display_data"
    },
    {
     "data": {
      "application/vnd.jupyter.widget-view+json": {
       "model_id": "068a929fd9224550bc3dfa30d0566e06",
       "version_major": 2,
       "version_minor": 0
      },
      "text/plain": [
       "JupyterButton(description='twochks.csv', layout=Layout(height='40px', width='80%'), style=ButtonStyle())"
      ]
     },
     "metadata": {},
     "output_type": "display_data"
    },
    {
     "data": {
      "application/vnd.jupyter.widget-view+json": {
       "model_id": "5b3a2b8604d344789e3745aeb3e85f5b",
       "version_major": 2,
       "version_minor": 0
      },
      "text/plain": [
       "JupyterButton(description='TwoPortTouchstoneTestFile.s2p', layout=Layout(height='40px', width='80%'), style=Bu…"
      ]
     },
     "metadata": {},
     "output_type": "display_data"
    },
    {
     "data": {
      "application/vnd.jupyter.widget-view+json": {
       "model_id": "afeb5239c638487294f5e69f47665a07",
       "version_major": 2,
       "version_minor": 0
      },
      "text/plain": [
       "JupyterButton(description='Two_Port_Calrep_Sparameter_20160405_001.txt', layout=Layout(height='40px', width='8…"
      ]
     },
     "metadata": {},
     "output_type": "display_data"
    },
    {
     "data": {
      "application/vnd.jupyter.widget-view+json": {
       "model_id": "8e8dc2b233f64c1095ccdcd9f8e0f6c7",
       "version_major": 2,
       "version_minor": 0
      },
      "text/plain": [
       "JupyterButton(description='Two_Port_Calrep_Sparameter_20160405_001.xml', layout=Layout(height='40px', width='8…"
      ]
     },
     "metadata": {},
     "output_type": "display_data"
    },
    {
     "data": {
      "application/vnd.jupyter.widget-view+json": {
       "model_id": "11b105e7053848c991ade82705e5005f",
       "version_major": 2,
       "version_minor": 0
      },
      "text/plain": [
       "JupyterButton(description='Two_Port_Calrep_Sparameter_20160405_002.xml', layout=Layout(height='40px', width='8…"
      ]
     },
     "metadata": {},
     "output_type": "display_data"
    },
    {
     "data": {
      "application/vnd.jupyter.widget-view+json": {
       "model_id": "0ea033226b5743db82939026be9ae872",
       "version_major": 2,
       "version_minor": 0
      },
      "text/plain": [
       "JupyterButton(description='Two_Port_Calrep_Sparameter_20160405_003.xml', layout=Layout(height='40px', width='8…"
      ]
     },
     "metadata": {},
     "output_type": "display_data"
    },
    {
     "data": {
      "application/vnd.jupyter.widget-view+json": {
       "model_id": "cf787e56891144baabe51fa3de02ce9e",
       "version_major": 2,
       "version_minor": 0
      },
      "text/plain": [
       "JupyterButton(description='Two_Port_Calrep_Sparameter_20160405_004.xml', layout=Layout(height='40px', width='8…"
      ]
     },
     "metadata": {},
     "output_type": "display_data"
    },
    {
     "data": {
      "application/vnd.jupyter.widget-view+json": {
       "model_id": "699e6348acb6496d899e459c08d69296",
       "version_major": 2,
       "version_minor": 0
      },
      "text/plain": [
       "JupyterButton(description='Two_Port_Calrep_Sparameter_20160405_005.html', layout=Layout(height='40px', width='…"
      ]
     },
     "metadata": {},
     "output_type": "display_data"
    },
    {
     "data": {
      "application/vnd.jupyter.widget-view+json": {
       "model_id": "cc8f187e8b8449a0a99c93da210a2c4a",
       "version_major": 2,
       "version_minor": 0
      },
      "text/plain": [
       "JupyterButton(description='Two_Port_Calrep_Sparameter_20160405_005.xml', layout=Layout(height='40px', width='8…"
      ]
     },
     "metadata": {},
     "output_type": "display_data"
    },
    {
     "data": {
      "application/vnd.jupyter.widget-view+json": {
       "model_id": "f6573d62b7f141718dd9b81587fbf2b6",
       "version_major": 2,
       "version_minor": 0
      },
      "text/plain": [
       "JupyterButton(description='Two_Port_Calrep_Sparameter_20160406_001.txt', layout=Layout(height='40px', width='8…"
      ]
     },
     "metadata": {},
     "output_type": "display_data"
    },
    {
     "data": {
      "application/vnd.jupyter.widget-view+json": {
       "model_id": "f4bdac643fe840f69512247d53539d2a",
       "version_major": 2,
       "version_minor": 0
      },
      "text/plain": [
       "JupyterButton(description='Two_Port_Calrep_Sparameter_20160407_001.txt', layout=Layout(height='40px', width='8…"
      ]
     },
     "metadata": {},
     "output_type": "display_data"
    },
    {
     "data": {
      "application/vnd.jupyter.widget-view+json": {
       "model_id": "dd79192cdd57453ea703426517f9b3d7",
       "version_major": 2,
       "version_minor": 0
      },
      "text/plain": [
       "JupyterButton(description='Two_Port_Calrep_Sparameter_20160407_002.txt', layout=Layout(height='40px', width='8…"
      ]
     },
     "metadata": {},
     "output_type": "display_data"
    },
    {
     "data": {
      "application/vnd.jupyter.widget-view+json": {
       "model_id": "5fcac8a32b3949f99eb28c32c82696cb",
       "version_major": 2,
       "version_minor": 0
      },
      "text/plain": [
       "JupyterButton(description='Two_Port_Sparameter_20160316_001.xml', layout=Layout(height='40px', width='80%'), s…"
      ]
     },
     "metadata": {},
     "output_type": "display_data"
    },
    {
     "data": {
      "application/vnd.jupyter.widget-view+json": {
       "model_id": "3ea5f50043774044b4a93e5c27853f1b",
       "version_major": 2,
       "version_minor": 0
      },
      "text/plain": [
       "JupyterButton(description='Two_Port_Sparameter_20160316_002.xml', layout=Layout(height='40px', width='80%'), s…"
      ]
     },
     "metadata": {},
     "output_type": "display_data"
    },
    {
     "data": {
      "application/vnd.jupyter.widget-view+json": {
       "model_id": "04db6db85b664bb892ed01227283ec97",
       "version_major": 2,
       "version_minor": 0
      },
      "text/plain": [
       "JupyterButton(description='Two_Port_Sparameter_20160316_003.xml', layout=Layout(height='40px', width='80%'), s…"
      ]
     },
     "metadata": {},
     "output_type": "display_data"
    },
    {
     "data": {
      "application/vnd.jupyter.widget-view+json": {
       "model_id": "39291554692c46509b4fca02d8782d7d",
       "version_major": 2,
       "version_minor": 0
      },
      "text/plain": [
       "JupyterButton(description='Two_Port_Sparameter_20160329_001.xml', layout=Layout(height='40px', width='80%'), s…"
      ]
     },
     "metadata": {},
     "output_type": "display_data"
    },
    {
     "data": {
      "application/vnd.jupyter.widget-view+json": {
       "model_id": "383442ef9ba248f882f026d24316cb89",
       "version_major": 2,
       "version_minor": 0
      },
      "text/plain": [
       "JupyterButton(description='Two_Port_Sparameter_20160404_001.xml', layout=Layout(height='40px', width='80%'), s…"
      ]
     },
     "metadata": {},
     "output_type": "display_data"
    },
    {
     "data": {
      "application/vnd.jupyter.widget-view+json": {
       "model_id": "ce9ab29b8ffd4222980b1a5e05f5bc36",
       "version_major": 2,
       "version_minor": 0
      },
      "text/plain": [
       "JupyterButton(description='Two_Port_Sparameter_20160823_001.xml', layout=Layout(height='40px', width='80%'), s…"
      ]
     },
     "metadata": {},
     "output_type": "display_data"
    },
    {
     "data": {
      "application/vnd.jupyter.widget-view+json": {
       "model_id": "317ab20354024f069f351ef9bb322b6b",
       "version_major": 2,
       "version_minor": 0
      },
      "text/plain": [
       "JupyterButton(description='XML_Document_20160222_001.xml', layout=Layout(height='40px', width='80%'), style=Bu…"
      ]
     },
     "metadata": {},
     "output_type": "display_data"
    },
    {
     "data": {
      "application/vnd.jupyter.widget-view+json": {
       "model_id": "f92b5d7ade1a45bb9882c2bc1a10686b",
       "version_major": 2,
       "version_minor": 0
      },
      "text/plain": [
       "JupyterButton(description='XML_Document_20160222_002.xml', layout=Layout(height='40px', width='80%'), style=Bu…"
      ]
     },
     "metadata": {},
     "output_type": "display_data"
    },
    {
     "data": {
      "application/vnd.jupyter.widget-view+json": {
       "model_id": "a57057be28c14f20bfe6cc03aae62dfe",
       "version_major": 2,
       "version_minor": 0
      },
      "text/plain": [
       "JupyterButton(description='XML_Document_20160222_003.xml', layout=Layout(height='40px', width='80%'), style=Bu…"
      ]
     },
     "metadata": {},
     "output_type": "display_data"
    },
    {
     "data": {
      "application/vnd.jupyter.widget-view+json": {
       "model_id": "2a89967e293d4f5d9cc09068e117f6d4",
       "version_major": 2,
       "version_minor": 0
      },
      "text/plain": [
       "JupyterButton(description='XML_Document_20160222_004.xml', layout=Layout(height='40px', width='80%'), style=Bu…"
      ]
     },
     "metadata": {},
     "output_type": "display_data"
    },
    {
     "data": {
      "application/vnd.jupyter.widget-view+json": {
       "model_id": "261eecaf801b483ca23c24a2e787d361",
       "version_major": 2,
       "version_minor": 0
      },
      "text/plain": [
       "JupyterButton(description='XML_Document_20160630_001.xml', layout=Layout(height='40px', width='80%'), style=Bu…"
      ]
     },
     "metadata": {},
     "output_type": "display_data"
    },
    {
     "data": {
      "application/vnd.jupyter.widget-view+json": {
       "model_id": "d4471d940f1d49f49b359df9497e203a",
       "version_major": 2,
       "version_minor": 0
      },
      "text/plain": [
       "JupyterButton(description='XML_Document_20180426_001.xml', layout=Layout(height='40px', width='80%'), style=Bu…"
      ]
     },
     "metadata": {},
     "output_type": "display_data"
    },
    {
     "data": {
      "application/vnd.jupyter.widget-view+json": {
       "model_id": "7c39a72206bd4b57aeaddd93c443ad22",
       "version_major": 2,
       "version_minor": 0
      },
      "text/plain": [
       "JupyterButton(description='XML_Document_20181030_001.xml', layout=Layout(height='40px', width='80%'), style=Bu…"
      ]
     },
     "metadata": {},
     "output_type": "display_data"
    },
    {
     "data": {
      "application/vnd.jupyter.widget-view+json": {
       "model_id": "ea4a8d46baef42068d6219e4612a59f4",
       "version_major": 2,
       "version_minor": 0
      },
      "text/plain": [
       "JupyterButton(description='XML_Document_20181102_001.xml', layout=Layout(height='40px', width='80%'), style=Bu…"
      ]
     },
     "metadata": {},
     "output_type": "display_data"
    },
    {
     "data": {
      "application/vnd.jupyter.widget-view+json": {
       "model_id": "f51b7a8d06b341c1b6c8511d0a898ba0",
       "version_major": 2,
       "version_minor": 0
      },
      "text/plain": [
       "JupyterButton(description='XML_Document_20181102_002.xml', layout=Layout(height='40px', width='80%'), style=Bu…"
      ]
     },
     "metadata": {},
     "output_type": "display_data"
    },
    {
     "data": {
      "application/vnd.jupyter.widget-view+json": {
       "model_id": "4ef505f9408043f3b5327381c40860bc",
       "version_major": 2,
       "version_minor": 0
      },
      "text/plain": [
       "JupyterButton(description='XML_Document_20181102_003.xml', layout=Layout(height='40px', width='80%'), style=Bu…"
      ]
     },
     "metadata": {},
     "output_type": "display_data"
    },
    {
     "data": {
      "application/vnd.jupyter.widget-view+json": {
       "model_id": "ee08e78e42f549878c8486376fa762eb",
       "version_major": 2,
       "version_minor": 0
      },
      "text/plain": [
       "JupyterButton(description='XML_Log_20160627_001.xml', layout=Layout(height='40px', width='80%'), style=ButtonS…"
      ]
     },
     "metadata": {},
     "output_type": "display_data"
    },
    {
     "data": {
      "application/vnd.jupyter.widget-view+json": {
       "model_id": "d1c8c07f3596458ca3a7e10169102ba0",
       "version_major": 2,
       "version_minor": 0
      },
      "text/plain": [
       "JupyterButton(description='XML_Log_20170227_001.xml', layout=Layout(height='40px', width='80%'), style=ButtonS…"
      ]
     },
     "metadata": {},
     "output_type": "display_data"
    },
    {
     "data": {
      "application/vnd.jupyter.widget-view+json": {
       "model_id": "2a8d616fc6bf44978bc2e9e02a1c8c9d",
       "version_major": 2,
       "version_minor": 0
      },
      "text/plain": [
       "JupyterButton(description='XML_Log_20170908_001.xml', layout=Layout(height='40px', width='80%'), style=ButtonS…"
      ]
     },
     "metadata": {},
     "output_type": "display_data"
    },
    {
     "data": {
      "application/vnd.jupyter.widget-view+json": {
       "model_id": "8c2f0dacc08d4a069af5a19682d9df46",
       "version_major": 2,
       "version_minor": 0
      },
      "text/plain": [
       "JupyterButton(description='XML_Log_20170908_002.xml', layout=Layout(height='40px', width='80%'), style=ButtonS…"
      ]
     },
     "metadata": {},
     "output_type": "display_data"
    },
    {
     "data": {
      "application/vnd.jupyter.widget-view+json": {
       "model_id": "cbd85cadac09438cb9aa0cdd7d3c76bf",
       "version_major": 2,
       "version_minor": 0
      },
      "text/plain": [
       "JupyterButton(description='XML_Log_20180102_001.xml', layout=Layout(height='40px', width='80%'), style=ButtonS…"
      ]
     },
     "metadata": {},
     "output_type": "display_data"
    },
    {
     "data": {
      "application/vnd.jupyter.widget-view+json": {
       "model_id": "ce1a112a16794be2b166687b8a9f8419",
       "version_major": 2,
       "version_minor": 0
      },
      "text/plain": [
       "JupyterButton(description='XML_Log_20181030_001.xml', layout=Layout(height='40px', width='80%'), style=ButtonS…"
      ]
     },
     "metadata": {},
     "output_type": "display_data"
    },
    {
     "data": {
      "application/vnd.jupyter.widget-view+json": {
       "model_id": "e13124c1673c4fdab807b0275a292960",
       "version_major": 2,
       "version_minor": 0
      },
      "text/plain": [
       "JupyterButton(description='XML_Log_20181101_001.xml', layout=Layout(height='40px', width='80%'), style=ButtonS…"
      ]
     },
     "metadata": {},
     "output_type": "display_data"
    },
    {
     "data": {
      "application/vnd.jupyter.widget-view+json": {
       "model_id": "e83e5e9a1c3f4c7b9b227400df80b27e",
       "version_major": 2,
       "version_minor": 0
      },
      "text/plain": [
       "JupyterButton(description='XML_Log_20181102_001.xml', layout=Layout(height='40px', width='80%'), style=ButtonS…"
      ]
     },
     "metadata": {},
     "output_type": "display_data"
    },
    {
     "data": {
      "application/vnd.jupyter.widget-view+json": {
       "model_id": "ee1797c231044e3085b634cc70381471",
       "version_major": 2,
       "version_minor": 0
      },
      "text/plain": [
       "JupyterButton(description='XML_Log_20181102_002.xml', layout=Layout(height='40px', width='80%'), style=ButtonS…"
      ]
     },
     "metadata": {},
     "output_type": "display_data"
    },
    {
     "data": {
      "application/vnd.jupyter.widget-view+json": {
       "model_id": "984b6f95f03341a08699dc8eac8816b5",
       "version_major": 2,
       "version_minor": 0
      },
      "text/plain": [
       "JupyterButton(description='XML_Log_20181102_003.xml', layout=Layout(height='40px', width='80%'), style=ButtonS…"
      ]
     },
     "metadata": {},
     "output_type": "display_data"
    },
    {
     "data": {
      "application/vnd.jupyter.widget-view+json": {
       "model_id": "7758884474074fa5b15b48a8a9df63f0",
       "version_major": 2,
       "version_minor": 0
      },
      "text/plain": [
       "JupyterButton(description='XML_Log_20181102_004.xml', layout=Layout(height='40px', width='80%'), style=ButtonS…"
      ]
     },
     "metadata": {},
     "output_type": "display_data"
    },
    {
     "data": {
      "application/vnd.jupyter.widget-view+json": {
       "model_id": "32f3c77e353a4d2593666fd12743fab5",
       "version_major": 2,
       "version_minor": 0
      },
      "text/plain": [
       "JupyterButton(description='XML_Log_20181102_005.xml', layout=Layout(height='40px', width='80%'), style=ButtonS…"
      ]
     },
     "metadata": {},
     "output_type": "display_data"
    },
    {
     "data": {
      "application/vnd.jupyter.widget-view+json": {
       "model_id": "4d09c0c0a93b47749a1d32080ee45117",
       "version_major": 2,
       "version_minor": 0
      },
      "text/plain": [
       "JupyterButton(description='XML_Log_20181102_006.xml', layout=Layout(height='40px', width='80%'), style=ButtonS…"
      ]
     },
     "metadata": {},
     "output_type": "display_data"
    },
    {
     "data": {
      "application/vnd.jupyter.widget-view+json": {
       "model_id": "ae488e257717481eb6376f923f8a92ae",
       "version_major": 2,
       "version_minor": 0
      },
      "text/plain": [
       "JupyterButton(description='XML_Log_20181102_007.xml', layout=Layout(height='40px', width='80%'), style=ButtonS…"
      ]
     },
     "metadata": {},
     "output_type": "display_data"
    },
    {
     "data": {
      "application/vnd.jupyter.widget-view+json": {
       "model_id": "2b268ed6b1ff4989b189cbfdaabea802",
       "version_major": 2,
       "version_minor": 0
      },
      "text/plain": [
       "JupyterButton(description='__init__.py', layout=Layout(height='40px', width='80%'), style=ButtonStyle())"
      ]
     },
     "metadata": {},
     "output_type": "display_data"
    },
    {
     "ename": "ValueError",
     "evalue": "Power Table Does Not Conform",
     "output_type": "error",
     "traceback": [
      "\u001b[1;31m---------------------------------------------------------------------------\u001b[0m",
      "\u001b[1;31mValueError\u001b[0m                                Traceback (most recent call last)",
      "\u001b[1;32m<ipython-input-68-3b472e585885>\u001b[0m in \u001b[0;36m<lambda>\u001b[1;34m(x)\u001b[0m\n\u001b[0;32m     13\u001b[0m                 \u001b[1;32melse\u001b[0m\u001b[1;33m:\u001b[0m\u001b[1;33m\u001b[0m\u001b[0m\n\u001b[0;32m     14\u001b[0m                     button=pyMez.Code.FrontEnds.JupyterWidgets.JupyterButton(data=os.path.join(directory,file_name),\n\u001b[1;32m---> 15\u001b[1;33m                                                                       \u001b[0mfunction\u001b[0m\u001b[1;33m=\u001b[0m\u001b[1;32mlambda\u001b[0m \u001b[0mx\u001b[0m\u001b[1;33m:\u001b[0m\u001b[0mhtml_convert_fileview\u001b[0m\u001b[1;33m(\u001b[0m\u001b[0mx\u001b[0m\u001b[1;33m)\u001b[0m\u001b[1;33m,\u001b[0m\u001b[1;33m\u001b[0m\u001b[0m\n\u001b[0m\u001b[0;32m     16\u001b[0m                                                                       \u001b[0mdescription\u001b[0m\u001b[1;33m=\u001b[0m\u001b[0mfile_name\u001b[0m\u001b[1;33m,\u001b[0m\u001b[0mstlye\u001b[0m\u001b[1;33m=\u001b[0m\u001b[1;33m{\u001b[0m\u001b[1;34m'description_width'\u001b[0m\u001b[1;33m:\u001b[0m \u001b[1;34m'initial'\u001b[0m\u001b[1;33m}\u001b[0m\u001b[1;33m,\u001b[0m\u001b[1;33m\u001b[0m\u001b[0m\n\u001b[0;32m     17\u001b[0m                                                                      layout=Layout(width='80%', height='40px'))\n",
      "\u001b[1;32m<ipython-input-68-3b472e585885>\u001b[0m in \u001b[0;36mhtml_convert_fileview\u001b[1;34m(button)\u001b[0m\n\u001b[0;32m      1\u001b[0m \u001b[1;32mdef\u001b[0m \u001b[0mhtml_convert_fileview\u001b[0m\u001b[1;33m(\u001b[0m\u001b[0mbutton\u001b[0m\u001b[1;33m)\u001b[0m\u001b[1;33m:\u001b[0m\u001b[1;33m\u001b[0m\u001b[0m\n\u001b[1;32m----> 2\u001b[1;33m     \u001b[0mhtml\u001b[0m\u001b[1;33m=\u001b[0m\u001b[0mFileName_to_HtmlBase\u001b[0m\u001b[1;33m(\u001b[0m\u001b[0mbutton\u001b[0m\u001b[1;33m.\u001b[0m\u001b[0mdata\u001b[0m\u001b[1;33m)\u001b[0m\u001b[1;33m\u001b[0m\u001b[0m\n\u001b[0m\u001b[0;32m      3\u001b[0m     \u001b[0mhtml\u001b[0m\u001b[1;33m.\u001b[0m\u001b[0mshow\u001b[0m\u001b[1;33m(\u001b[0m\u001b[1;33m)\u001b[0m\u001b[1;33m\u001b[0m\u001b[0m\n\u001b[0;32m      4\u001b[0m \u001b[1;32mclass\u001b[0m \u001b[0mHtmlFileBrowser\u001b[0m\u001b[1;33m(\u001b[0m\u001b[0mobject\u001b[0m\u001b[1;33m)\u001b[0m\u001b[1;33m:\u001b[0m\u001b[1;33m\u001b[0m\u001b[0m\n\u001b[0;32m      5\u001b[0m \u001b[1;33m\u001b[0m\u001b[0m\n",
      "\u001b[1;32m<ipython-input-34-afde38367e71>\u001b[0m in \u001b[0;36mFileName_to_HtmlBase\u001b[1;34m(file_path, xsl_directory)\u001b[0m\n\u001b[0;32m     80\u001b[0m         \u001b[1;31m#print(\"{0} is {1}\".format('file_model',file_model))\u001b[0m\u001b[1;33m\u001b[0m\u001b[1;33m\u001b[0m\u001b[0m\n\u001b[0;32m     81\u001b[0m         \u001b[0mmodel\u001b[0m\u001b[1;33m=\u001b[0m\u001b[0mglobals\u001b[0m\u001b[1;33m(\u001b[0m\u001b[1;33m)\u001b[0m\u001b[1;33m[\u001b[0m\u001b[0mfile_model\u001b[0m\u001b[1;33m]\u001b[0m\u001b[1;33m\u001b[0m\u001b[0m\n\u001b[1;32m---> 82\u001b[1;33m         \u001b[0mcalrep_model\u001b[0m\u001b[1;33m=\u001b[0m\u001b[0mmodel\u001b[0m\u001b[1;33m(\u001b[0m\u001b[0mfile_location\u001b[0m\u001b[1;33m)\u001b[0m\u001b[1;33m\u001b[0m\u001b[0m\n\u001b[0m\u001b[0;32m     83\u001b[0m         \u001b[1;32mif\u001b[0m \u001b[0mre\u001b[0m\u001b[1;33m.\u001b[0m\u001b[0msearch\u001b[0m\u001b[1;33m(\u001b[0m\u001b[1;34m\"PowerCalrep\"\u001b[0m\u001b[1;33m,\u001b[0m\u001b[0mfile_model\u001b[0m\u001b[1;33m)\u001b[0m\u001b[1;33m:\u001b[0m\u001b[1;33m\u001b[0m\u001b[0m\n\u001b[0;32m     84\u001b[0m             \u001b[0mtable\u001b[0m\u001b[1;33m=\u001b[0m\u001b[0mcalrep_model\u001b[0m\u001b[1;33m.\u001b[0m\u001b[0mjoined_table\u001b[0m\u001b[1;33m\u001b[0m\u001b[0m\n",
      "\u001b[1;32m~\\AppData\\Local\\Continuum\\anaconda3\\lib\\site-packages\\pyMez\\Code\\DataHandlers\\NISTModels.py\u001b[0m in \u001b[0;36m__init__\u001b[1;34m(self, file_path, **options)\u001b[0m\n\u001b[0;32m   1214\u001b[0m             \u001b[0mself\u001b[0m\u001b[1;33m.\u001b[0m\u001b[0mpower_3term_row_pattern\u001b[0m\u001b[1;33m=\u001b[0m\u001b[0mmake_row_match_string\u001b[0m\u001b[1;33m(\u001b[0m\u001b[0mPOWER_3TERM_COLUMN_NAMES\u001b[0m\u001b[1;33m)\u001b[0m\u001b[1;33m\u001b[0m\u001b[0m\n\u001b[0;32m   1215\u001b[0m             \u001b[0mself\u001b[0m\u001b[1;33m.\u001b[0m\u001b[0mpath\u001b[0m\u001b[1;33m=\u001b[0m\u001b[0mfile_path\u001b[0m\u001b[1;33m\u001b[0m\u001b[0m\n\u001b[1;32m-> 1216\u001b[1;33m             \u001b[0mself\u001b[0m\u001b[1;33m.\u001b[0m\u001b[0m__read_and_fix__\u001b[0m\u001b[1;33m(\u001b[0m\u001b[1;33m)\u001b[0m\u001b[1;33m\u001b[0m\u001b[0m\n\u001b[0m\u001b[0;32m   1217\u001b[0m             \u001b[0mself\u001b[0m\u001b[1;33m.\u001b[0m\u001b[0mmetadata\u001b[0m\u001b[1;33m[\u001b[0m\u001b[1;34m\"Device_Id\"\u001b[0m\u001b[1;33m]\u001b[0m\u001b[1;33m=\u001b[0m\u001b[0mself\u001b[0m\u001b[1;33m.\u001b[0m\u001b[0mjoined_table\u001b[0m\u001b[1;33m.\u001b[0m\u001b[0mheader\u001b[0m\u001b[1;33m[\u001b[0m\u001b[1;36m0\u001b[0m\u001b[1;33m]\u001b[0m\u001b[1;33m.\u001b[0m\u001b[0mrstrip\u001b[0m\u001b[1;33m(\u001b[0m\u001b[1;33m)\u001b[0m\u001b[1;33m.\u001b[0m\u001b[0mlstrip\u001b[0m\u001b[1;33m(\u001b[0m\u001b[1;33m)\u001b[0m\u001b[1;33m\u001b[0m\u001b[0m\n\u001b[0;32m   1218\u001b[0m             \u001b[1;32mif\u001b[0m \u001b[0mlen\u001b[0m\u001b[1;33m(\u001b[0m\u001b[0mself\u001b[0m\u001b[1;33m.\u001b[0m\u001b[0mjoined_table\u001b[0m\u001b[1;33m.\u001b[0m\u001b[0mheader\u001b[0m\u001b[1;33m)\u001b[0m\u001b[1;33m>\u001b[0m\u001b[1;36m1\u001b[0m\u001b[1;33m:\u001b[0m\u001b[1;33m\u001b[0m\u001b[0m\n",
      "\u001b[1;32m~\\AppData\\Local\\Continuum\\anaconda3\\lib\\site-packages\\pyMez\\Code\\DataHandlers\\NISTModels.py\u001b[0m in \u001b[0;36m__read_and_fix__\u001b[1;34m(self)\u001b[0m\n\u001b[0;32m   1311\u001b[0m                     \u001b[0mself\u001b[0m\u001b[1;33m.\u001b[0m\u001b[0mpower_row_pattern\u001b[0m\u001b[1;33m=\u001b[0m\u001b[0mself\u001b[0m\u001b[1;33m.\u001b[0m\u001b[0mpower_3term_row_pattern\u001b[0m\u001b[1;33m\u001b[0m\u001b[0m\n\u001b[0;32m   1312\u001b[0m                 \u001b[1;32melse\u001b[0m\u001b[1;33m:\u001b[0m\u001b[1;33m\u001b[0m\u001b[0m\n\u001b[1;32m-> 1313\u001b[1;33m                     \u001b[1;32mraise\u001b[0m \u001b[0mValueError\u001b[0m\u001b[1;33m(\u001b[0m\u001b[1;34m\"Power Table Does Not Conform\"\u001b[0m\u001b[1;33m)\u001b[0m\u001b[1;33m\u001b[0m\u001b[0m\n\u001b[0m\u001b[0;32m   1314\u001b[0m                 \u001b[0mcolumn_types\u001b[0m\u001b[1;33m=\u001b[0m\u001b[1;33m[\u001b[0m\u001b[1;34m'float'\u001b[0m \u001b[1;32mfor\u001b[0m \u001b[0mi\u001b[0m \u001b[1;32min\u001b[0m \u001b[0mrange\u001b[0m\u001b[1;33m(\u001b[0m\u001b[0mlen\u001b[0m\u001b[1;33m(\u001b[0m\u001b[0mself\u001b[0m\u001b[1;33m.\u001b[0m\u001b[0moptions\u001b[0m\u001b[1;33m[\u001b[0m\u001b[1;34m\"column_names\"\u001b[0m\u001b[1;33m]\u001b[0m\u001b[1;33m)\u001b[0m\u001b[1;33m)\u001b[0m\u001b[1;33m]\u001b[0m\u001b[1;33m\u001b[0m\u001b[0m\n\u001b[0;32m   1315\u001b[0m                 table_options={\"row_pattern\":self.power_row_pattern,\"column_names\":self.options[\"column_names\"],\n",
      "\u001b[1;31mValueError\u001b[0m: Power Table Does Not Conform"
     ]
    },
    {
     "name": "stdout",
     "output_type": "stream",
     "text": [
      "file://C:/Users/sandersa/AppData/Local/Temp/1/tmpd_bonz72.html\n"
     ]
    }
   ],
   "source": [
    "browser.show()"
   ]
  },
  {
   "cell_type": "code",
   "execution_count": 47,
   "metadata": {},
   "outputs": [
    {
     "data": {
      "text/plain": [
       "[JupyterButton(description='000146c.txt', layout=Layout(height='40px', width='80%'), style=ButtonStyle()),\n",
       " JupyterButton(description='20160301_30ft_cable_0.s2p', layout=Layout(height='40px', width='80%'), style=ButtonStyle()),\n",
       " JupyterButton(description='700083.ASC', layout=Layout(height='40px', width='80%'), style=ButtonStyle()),\n",
       " JupyterButton(description='700083a.txt', layout=Layout(height='40px', width='80%'), style=ButtonStyle()),\n",
       " JupyterButton(description='700083b.txt', layout=Layout(height='40px', width='80%'), style=ButtonStyle()),\n",
       " JupyterButton(description='700196.asc', layout=Layout(height='40px', width='80%'), style=ButtonStyle()),\n",
       " JupyterButton(description='700196a.txt', layout=Layout(height='40px', width='80%'), style=ButtonStyle()),\n",
       " JupyterButton(description='700196b.txt', layout=Layout(height='40px', width='80%'), style=ButtonStyle()),\n",
       " JupyterButton(description='700437.asc', layout=Layout(height='40px', width='80%'), style=ButtonStyle()),\n",
       " JupyterButton(description='700437.txt', layout=Layout(height='40px', width='80%'), style=ButtonStyle()),\n",
       " JupyterButton(description='704b.S2P', layout=Layout(height='40px', width='80%'), style=ButtonStyle()),\n",
       " JupyterButton(description='813462.ASC', layout=Layout(height='40px', width='80%'), style=ButtonStyle()),\n",
       " JupyterButton(description='922729.asc', layout=Layout(height='40px', width='80%'), style=ButtonStyle()),\n",
       " JupyterButton(description='922729a.txt', layout=Layout(height='40px', width='80%'), style=ButtonStyle()),\n",
       " JupyterButton(description='922729b.txt', layout=Layout(height='40px', width='80%'), style=ButtonStyle()),\n",
       " JupyterButton(description='922729c.txt', layout=Layout(height='40px', width='80%'), style=ButtonStyle()),\n",
       " JupyterButton(description='952489.asc', layout=Layout(height='40px', width='80%'), style=ButtonStyle()),\n",
       " JupyterButton(description='B7_baseline_50ohm_OR2_10n0_4p0_REV2_EVB1_01new.s3p', layout=Layout(height='40px', width='80%'), style=ButtonStyle()),\n",
       " JupyterButton(description='CalCoefficients.txt', layout=Layout(height='40px', width='80%'), style=ButtonStyle()),\n",
       " JupyterButton(description='Canal_36.S2P', layout=Layout(height='40px', width='80%'), style=ButtonStyle()),\n",
       " JupyterButton(description='CH_6.s2p', layout=Layout(height='40px', width='80%'), style=ButtonStyle()),\n",
       " JupyterButton(description='combined_html.html', layout=Layout(height='40px', width='80%'), style=ButtonStyle()),\n",
       " JupyterButton(description='CTN106.D4_091799', layout=Layout(height='40px', width='80%'), style=ButtonStyle()),\n",
       " JupyterButton(description='CTN112', layout=Layout(height='40px', width='80%'), style=ButtonStyle()),\n",
       " JupyterButton(description='CTN208.A1_011613', layout=Layout(height='40px', width='80%'), style=ButtonStyle()),\n",
       " JupyterButton(description='CTN208.R1_062614', layout=Layout(height='40px', width='80%'), style=ButtonStyle()),\n",
       " JupyterButton(description='CTNP11.L36_062399', layout=Layout(height='40px', width='80%'), style=ButtonStyle()),\n",
       " JupyterButton(description='CTNP13_sm_112907.txt', layout=Layout(height='40px', width='80%'), style=ButtonStyle()),\n",
       " JupyterButton(description='CTNP15.A1_042601', layout=Layout(height='40px', width='80%'), style=ButtonStyle()),\n",
       " JupyterButton(description='Data_Table_021311_1.xml', layout=Layout(height='40px', width='80%'), style=ButtonStyle()),\n",
       " JupyterButton(description='Data_Table_20160223_001.xml', layout=Layout(height='40px', width='80%'), style=ButtonStyle()),\n",
       " JupyterButton(description='Data_Table_20160224_001.xml', layout=Layout(height='40px', width='80%'), style=ButtonStyle()),\n",
       " JupyterButton(description='Data_Table_20160225_001.txt', layout=Layout(height='40px', width='80%'), style=ButtonStyle()),\n",
       " JupyterButton(description='Data_Table_20160301_031.txt', layout=Layout(height='40px', width='80%'), style=ButtonStyle()),\n",
       " JupyterButton(description='Data_Table_20160301_031_Schema_20160301_001.txt', layout=Layout(height='40px', width='80%'), style=ButtonStyle()),\n",
       " JupyterButton(description='Data_Table_20160301_033.txt', layout=Layout(height='40px', width='80%'), style=ButtonStyle()),\n",
       " JupyterButton(description='Data_Table_20160301_033_Schema_20160301_001.txt', layout=Layout(height='40px', width='80%'), style=ButtonStyle()),\n",
       " JupyterButton(description='Data_Table_20170118_001.txt', layout=Layout(height='40px', width='80%'), style=ButtonStyle()),\n",
       " JupyterButton(description='Data_Table_20170308_001.txt', layout=Layout(height='40px', width='80%'), style=ButtonStyle()),\n",
       " JupyterButton(description='Data_Table_20170324_001.txt', layout=Layout(height='40px', width='80%'), style=ButtonStyle()),\n",
       " JupyterButton(description='Data_Table_20170509_001.txt', layout=Layout(height='40px', width='80%'), style=ButtonStyle()),\n",
       " JupyterButton(description='Data_Table_20170914_001.txt', layout=Layout(height='40px', width='80%'), style=ButtonStyle()),\n",
       " JupyterButton(description='Data_Table_20181026_001.schema', layout=Layout(height='40px', width='80%'), style=ButtonStyle()),\n",
       " JupyterButton(description='Data_Table_20181026_001.txt', layout=Layout(height='40px', width='80%'), style=ButtonStyle()),\n",
       " JupyterButton(description='Data_Table_20181030_001.schema', layout=Layout(height='40px', width='80%'), style=ButtonStyle()),\n",
       " JupyterButton(description='Data_Table_20181030_001.txt', layout=Layout(height='40px', width='80%'), style=ButtonStyle()),\n",
       " JupyterButton(description='Data_Table_20181101_001.schema', layout=Layout(height='40px', width='80%'), style=ButtonStyle()),\n",
       " JupyterButton(description='Data_Table_20181101_001.txt', layout=Layout(height='40px', width='80%'), style=ButtonStyle()),\n",
       " JupyterButton(description='Data_Table_20181101_002.schema', layout=Layout(height='40px', width='80%'), style=ButtonStyle()),\n",
       " JupyterButton(description='Data_Table_20181101_002.txt', layout=Layout(height='40px', width='80%'), style=ButtonStyle()),\n",
       " JupyterButton(description='Data_Table_20181101_003.schema', layout=Layout(height='40px', width='80%'), style=ButtonStyle()),\n",
       " JupyterButton(description='Data_Table_20181101_003.txt', layout=Layout(height='40px', width='80%'), style=ButtonStyle()),\n",
       " JupyterButton(description='Data_Table_20181101_004.schema', layout=Layout(height='40px', width='80%'), style=ButtonStyle()),\n",
       " JupyterButton(description='Data_Table_20181101_004.txt', layout=Layout(height='40px', width='80%'), style=ButtonStyle()),\n",
       " JupyterButton(description='Data_Table_20181101_005.schema', layout=Layout(height='40px', width='80%'), style=ButtonStyle()),\n",
       " JupyterButton(description='Data_Table_20181101_005.txt', layout=Layout(height='40px', width='80%'), style=ButtonStyle()),\n",
       " JupyterButton(description='Data_Table_20181101_006.schema', layout=Layout(height='40px', width='80%'), style=ButtonStyle()),\n",
       " JupyterButton(description='Data_Table_20181101_006.txt', layout=Layout(height='40px', width='80%'), style=ButtonStyle()),\n",
       " JupyterButton(description='Data_Table_20181101_007.schema', layout=Layout(height='40px', width='80%'), style=ButtonStyle()),\n",
       " JupyterButton(description='Data_Table_20181101_007.txt', layout=Layout(height='40px', width='80%'), style=ButtonStyle()),\n",
       " JupyterButton(description='Data_Table_20181102_001.schema', layout=Layout(height='40px', width='80%'), style=ButtonStyle()),\n",
       " JupyterButton(description='Data_Table_20181102_001.txt', layout=Layout(height='40px', width='80%'), style=ButtonStyle()),\n",
       " JupyterButton(description='Data_Table_20181102_002.schema', layout=Layout(height='40px', width='80%'), style=ButtonStyle()),\n",
       " JupyterButton(description='Data_Table_20181102_002.txt', layout=Layout(height='40px', width='80%'), style=ButtonStyle()),\n",
       " JupyterButton(description='Data_Table_20181102_003.schema', layout=Layout(height='40px', width='80%'), style=ButtonStyle()),\n",
       " JupyterButton(description='Data_Table_20181102_003.txt', layout=Layout(height='40px', width='80%'), style=ButtonStyle()),\n",
       " JupyterButton(description='Data_Table_20181102_004.schema', layout=Layout(height='40px', width='80%'), style=ButtonStyle()),\n",
       " JupyterButton(description='Data_Table_20181102_004.txt', layout=Layout(height='40px', width='80%'), style=ButtonStyle()),\n",
       " JupyterButton(description='Data_Table_20181102_005.txt', layout=Layout(height='40px', width='80%'), style=ButtonStyle()),\n",
       " JupyterButton(description='Data_Table_20181102_006.txt', layout=Layout(height='40px', width='80%'), style=ButtonStyle()),\n",
       " JupyterButton(description='Data_Table_20181102_007.txt', layout=Layout(height='40px', width='80%'), style=ButtonStyle()),\n",
       " JupyterButton(description='dictionary.pkl', layout=Layout(height='40px', width='80%'), style=ButtonStyle()),\n",
       " JupyterButton(description='Example_HD5.mat', layout=Layout(height='40px', width='80%'), style=ButtonStyle()),\n",
       " JupyterButton(description='ExportedOnePortCalrep.txt', layout=Layout(height='40px', width='80%'), style=ButtonStyle()),\n",
       " JupyterButton(description='filtern5.s2p', layout=Layout(height='40px', width='80%'), style=ButtonStyle()),\n",
       " JupyterButton(description='filtern5_narrow.s2p', layout=Layout(height='40px', width='80%'), style=ButtonStyle()),\n",
       " JupyterButton(description='Filter_n7_f0_2_35ghz.s2p', layout=Layout(height='40px', width='80%'), style=ButtonStyle()),\n",
       " JupyterButton(description='FourPortTest.s4p', layout=Layout(height='40px', width='80%'), style=ButtonStyle()),\n",
       " JupyterButton(description='ftest6_L1_g5_HF_air', layout=Layout(height='40px', width='80%'), style=ButtonStyle()),\n",
       " JupyterButton(description='HTML_Document_20161216_001.pdf', layout=Layout(height='40px', width='80%'), style=ButtonStyle()),\n",
       " JupyterButton(description='Log_XML_20160222_001.xml', layout=Layout(height='40px', width='80%'), style=ButtonStyle()),\n",
       " JupyterButton(description='Log_XML_20160222_002.xml', layout=Layout(height='40px', width='80%'), style=ButtonStyle()),\n",
       " JupyterButton(description='modified_hilbert_resonator.s2p', layout=Layout(height='40px', width='80%'), style=ButtonStyle()),\n",
       " JupyterButton(description='my_new_s3p.s3p', layout=Layout(height='40px', width='80%'), style=ButtonStyle()),\n",
       " JupyterButton(description='N205RV.asc', layout=Layout(height='40px', width='80%'), style=ButtonStyle()),\n",
       " JupyterButton(description='N205RV.txt', layout=Layout(height='40px', width='80%'), style=ButtonStyle()),\n",
       " JupyterButton(description='new_s2p.s2p', layout=Layout(height='40px', width='80%'), style=ButtonStyle()),\n",
       " JupyterButton(description='new_test_table.txt', layout=Layout(height='40px', width='80%'), style=ButtonStyle()),\n",
       " JupyterButton(description='ODBC.accdb', layout=Layout(height='40px', width='80%'), style=ButtonStyle()),\n",
       " JupyterButton(description='ODBC1.accdb', layout=Layout(height='40px', width='80%'), style=ButtonStyle()),\n",
       " JupyterButton(description='ODBC2.accdb', layout=Layout(height='40px', width='80%'), style=ButtonStyle()),\n",
       " JupyterButton(description='ODBC_Backup.accdb', layout=Layout(height='40px', width='80%'), style=ButtonStyle()),\n",
       " JupyterButton(description='onechks.csv', layout=Layout(height='40px', width='80%'), style=ButtonStyle()),\n",
       " JupyterButton(description='onechks_pandas.csv', layout=Layout(height='40px', width='80%'), style=ButtonStyle()),\n",
       " JupyterButton(description='OnePortRawTestFile.txt', layout=Layout(height='40px', width='80%'), style=ButtonStyle()),\n",
       " JupyterButton(description='OnePortRawTestFileAsConverted.txt', layout=Layout(height='40px', width='80%'), style=ButtonStyle()),\n",
       " JupyterButton(description='OnePortRawTestFile_002.txt', layout=Layout(height='40px', width='80%'), style=ButtonStyle()),\n",
       " JupyterButton(description='OnePortTouchstoneTestFile.s1p', layout=Layout(height='40px', width='80%'), style=ButtonStyle()),\n",
       " JupyterButton(description='one_port.xlsx', layout=Layout(height='40px', width='80%'), style=ButtonStyle()),\n",
       " JupyterButton(description='One_Port_Raw_Sparameter_20160307_001.html', layout=Layout(height='40px', width='80%'), style=ButtonStyle()),\n",
       " JupyterButton(description='One_Port_Raw_Sparameter_20160307_001.pdf', layout=Layout(height='40px', width='80%'), style=ButtonStyle()),\n",
       " JupyterButton(description='One_Port_Raw_Sparameter_20160307_001.xml', layout=Layout(height='40px', width='80%'), style=ButtonStyle()),\n",
       " JupyterButton(description='One_Port_Sparameter_20160303_001.xml', layout=Layout(height='40px', width='80%'), style=ButtonStyle()),\n",
       " JupyterButton(description='One_Port_Sparameter_20160307_001.html', layout=Layout(height='40px', width='80%'), style=ButtonStyle()),\n",
       " JupyterButton(description='One_Port_Sparameter_20160307_001.xml', layout=Layout(height='40px', width='80%'), style=ButtonStyle()),\n",
       " JupyterButton(description='One_Port_Sparameter_20160308_001.html', layout=Layout(height='40px', width='80%'), style=ButtonStyle()),\n",
       " JupyterButton(description='One_Port_Sparameter_20160308_001.xml', layout=Layout(height='40px', width='80%'), style=ButtonStyle()),\n",
       " JupyterButton(description='One_Port_Sparameter_20160309_001.html', layout=Layout(height='40px', width='80%'), style=ButtonStyle()),\n",
       " JupyterButton(description='One_Port_Sparameter_20160309_001.xml', layout=Layout(height='40px', width='80%'), style=ButtonStyle()),\n",
       " JupyterButton(description='One_Port_Sparameter_20160812_001.html', layout=Layout(height='40px', width='80%'), style=ButtonStyle()),\n",
       " JupyterButton(description='One_Port_Sparameter_20160812_001.xml', layout=Layout(height='40px', width='80%'), style=ButtonStyle()),\n",
       " JupyterButton(description='One_Port_Sparameter_20160815_001.html', layout=Layout(height='40px', width='80%'), style=ButtonStyle()),\n",
       " JupyterButton(description='One_Port_Sparameter_20160815_001.xml', layout=Layout(height='40px', width='80%'), style=ButtonStyle()),\n",
       " JupyterButton(description='Open.meas', layout=Layout(height='40px', width='80%'), style=ButtonStyle()),\n",
       " JupyterButton(description='powchks.csv', layout=Layout(height='40px', width='80%'), style=ButtonStyle()),\n",
       " JupyterButton(description='QuartzRefExample_L1_g10_HF', layout=Layout(height='40px', width='80%'), style=ButtonStyle()),\n",
       " JupyterButton(description='Raw_15Mar11_11.10-1.txt', layout=Layout(height='40px', width='80%'), style=ButtonStyle()),\n",
       " JupyterButton(description='Resource_Registry_20160222_001.xml', layout=Layout(height='40px', width='80%'), style=ButtonStyle()),\n",
       " JupyterButton(description='Resource_Registry_20160222_001_Metadata.xml', layout=Layout(height='40px', width='80%'), style=ButtonStyle()),\n",
       " JupyterButton(description='Resource_Registry_20160222_002.xml', layout=Layout(height='40px', width='80%'), style=ButtonStyle()),\n",
       " JupyterButton(description='Resource_Registry_20160222_003.xml', layout=Layout(height='40px', width='80%'), style=ButtonStyle()),\n",
       " JupyterButton(description='Resource_Registry_20160518_001.xml', layout=Layout(height='40px', width='80%'), style=ButtonStyle()),\n",
       " JupyterButton(description='Resource_Registry_20160518_001_Metadata.xml', layout=Layout(height='40px', width='80%'), style=ButtonStyle()),\n",
       " JupyterButton(description='Resource_Registry_20170227_001.xml', layout=Layout(height='40px', width='80%'), style=ButtonStyle()),\n",
       " JupyterButton(description='SavedTest2PortRaw.html', layout=Layout(height='40px', width='80%'), style=ButtonStyle()),\n",
       " JupyterButton(description='SavedTest2PortRaw.s2p', layout=Layout(height='40px', width='80%'), style=ButtonStyle()),\n",
       " JupyterButton(description='SavedTest2PortRaw.txt', layout=Layout(height='40px', width='80%'), style=ButtonStyle()),\n",
       " JupyterButton(description='SavedTest2PortRaw.xml', layout=Layout(height='40px', width='80%'), style=ButtonStyle()),\n",
       " JupyterButton(description='SavedTestPowerPortRaw.html', layout=Layout(height='40px', width='80%'), style=ButtonStyle()),\n",
       " JupyterButton(description='SavedTestPowerRaw.xml', layout=Layout(height='40px', width='80%'), style=ButtonStyle()),\n",
       " JupyterButton(description='setup20101028.s4p', layout=Layout(height='40px', width='80%'), style=ButtonStyle()),\n",
       " JupyterButton(description='sinthesis_1_predistorted_7000.s2p', layout=Layout(height='40px', width='80%'), style=ButtonStyle()),\n",
       " JupyterButton(description='Solution_0.s4p', layout=Layout(height='40px', width='80%'), style=ButtonStyle()),\n",
       " JupyterButton(description='Solution_Plus.txt', layout=Layout(height='40px', width='80%'), style=ButtonStyle()),\n",
       " JupyterButton(description='Solution_Plus_2.txt', layout=Layout(height='40px', width='80%'), style=ButtonStyle()),\n",
       " JupyterButton(description='SPHERICAL DATA-118GHz CHI00 PATTERN S21-.csv', layout=Layout(height='40px', width='80%'), style=ButtonStyle()),\n",
       " JupyterButton(description='test.bmp', layout=Layout(height='40px', width='80%'), style=ButtonStyle()),\n",
       " JupyterButton(description='test.csv', layout=Layout(height='40px', width='80%'), style=ButtonStyle()),\n",
       " JupyterButton(description='test.gif', layout=Layout(height='40px', width='80%'), style=ButtonStyle()),\n",
       " JupyterButton(description='test.hdf', layout=Layout(height='40px', width='80%'), style=ButtonStyle()),\n",
       " JupyterButton(description='test.html', layout=Layout(height='40px', width='80%'), style=ButtonStyle()),\n",
       " JupyterButton(description='test.jpg', layout=Layout(height='40px', width='80%'), style=ButtonStyle()),\n",
       " JupyterButton(description='test.json', layout=Layout(height='40px', width='80%'), style=ButtonStyle()),\n",
       " JupyterButton(description='test.mat', layout=Layout(height='40px', width='80%'), style=ButtonStyle()),\n",
       " JupyterButton(description='test.png', layout=Layout(height='40px', width='80%'), style=ButtonStyle()),\n",
       " JupyterButton(description='test.tiff', layout=Layout(height='40px', width='80%'), style=ButtonStyle()),\n",
       " JupyterButton(description='Test.xlsx', layout=Layout(height='40px', width='80%'), style=ButtonStyle()),\n",
       " JupyterButton(description='TestFilePowerRaw.txt', layout=Layout(height='40px', width='80%'), style=ButtonStyle()),\n",
       " JupyterButton(description='TestFileTwoPortRaw.txt', layout=Layout(height='40px', width='80%'), style=ButtonStyle()),\n",
       " JupyterButton(description='test_conversion.pdf', layout=Layout(height='40px', width='80%'), style=ButtonStyle()),\n",
       " JupyterButton(description='TGF2018_Noise_parameters_Vds2V_Ids28mA.s2p', layout=Layout(height='40px', width='80%'), style=ButtonStyle()),\n",
       " JupyterButton(description='ThreePortTest.s3p', layout=Layout(height='40px', width='80%'), style=ButtonStyle()),\n",
       " JupyterButton(description='thru.s2p', layout=Layout(height='40px', width='80%'), style=ButtonStyle()),\n",
       " JupyterButton(description='twochks.csv', layout=Layout(height='40px', width='80%'), style=ButtonStyle()),\n",
       " JupyterButton(description='TwoPortTouchstoneTestFile.s2p', layout=Layout(height='40px', width='80%'), style=ButtonStyle()),\n",
       " JupyterButton(description='Two_Port_Calrep_Sparameter_20160405_001.txt', layout=Layout(height='40px', width='80%'), style=ButtonStyle()),\n",
       " JupyterButton(description='Two_Port_Calrep_Sparameter_20160405_001.xml', layout=Layout(height='40px', width='80%'), style=ButtonStyle()),\n",
       " JupyterButton(description='Two_Port_Calrep_Sparameter_20160405_002.xml', layout=Layout(height='40px', width='80%'), style=ButtonStyle()),\n",
       " JupyterButton(description='Two_Port_Calrep_Sparameter_20160405_003.xml', layout=Layout(height='40px', width='80%'), style=ButtonStyle()),\n",
       " JupyterButton(description='Two_Port_Calrep_Sparameter_20160405_004.xml', layout=Layout(height='40px', width='80%'), style=ButtonStyle()),\n",
       " JupyterButton(description='Two_Port_Calrep_Sparameter_20160405_005.html', layout=Layout(height='40px', width='80%'), style=ButtonStyle()),\n",
       " JupyterButton(description='Two_Port_Calrep_Sparameter_20160405_005.xml', layout=Layout(height='40px', width='80%'), style=ButtonStyle()),\n",
       " JupyterButton(description='Two_Port_Calrep_Sparameter_20160406_001.txt', layout=Layout(height='40px', width='80%'), style=ButtonStyle()),\n",
       " JupyterButton(description='Two_Port_Calrep_Sparameter_20160407_001.txt', layout=Layout(height='40px', width='80%'), style=ButtonStyle()),\n",
       " JupyterButton(description='Two_Port_Calrep_Sparameter_20160407_002.txt', layout=Layout(height='40px', width='80%'), style=ButtonStyle()),\n",
       " JupyterButton(description='Two_Port_Sparameter_20160316_001.xml', layout=Layout(height='40px', width='80%'), style=ButtonStyle()),\n",
       " JupyterButton(description='Two_Port_Sparameter_20160316_002.xml', layout=Layout(height='40px', width='80%'), style=ButtonStyle()),\n",
       " JupyterButton(description='Two_Port_Sparameter_20160316_003.xml', layout=Layout(height='40px', width='80%'), style=ButtonStyle()),\n",
       " JupyterButton(description='Two_Port_Sparameter_20160329_001.xml', layout=Layout(height='40px', width='80%'), style=ButtonStyle()),\n",
       " JupyterButton(description='Two_Port_Sparameter_20160404_001.xml', layout=Layout(height='40px', width='80%'), style=ButtonStyle()),\n",
       " JupyterButton(description='Two_Port_Sparameter_20160823_001.xml', layout=Layout(height='40px', width='80%'), style=ButtonStyle()),\n",
       " JupyterButton(description='XML_Document_20160222_001.xml', layout=Layout(height='40px', width='80%'), style=ButtonStyle()),\n",
       " JupyterButton(description='XML_Document_20160222_002.xml', layout=Layout(height='40px', width='80%'), style=ButtonStyle()),\n",
       " JupyterButton(description='XML_Document_20160222_003.xml', layout=Layout(height='40px', width='80%'), style=ButtonStyle()),\n",
       " JupyterButton(description='XML_Document_20160222_004.xml', layout=Layout(height='40px', width='80%'), style=ButtonStyle()),\n",
       " JupyterButton(description='XML_Document_20160630_001.xml', layout=Layout(height='40px', width='80%'), style=ButtonStyle()),\n",
       " JupyterButton(description='XML_Document_20180426_001.xml', layout=Layout(height='40px', width='80%'), style=ButtonStyle()),\n",
       " JupyterButton(description='XML_Document_20181030_001.xml', layout=Layout(height='40px', width='80%'), style=ButtonStyle()),\n",
       " JupyterButton(description='XML_Document_20181102_001.xml', layout=Layout(height='40px', width='80%'), style=ButtonStyle()),\n",
       " JupyterButton(description='XML_Document_20181102_002.xml', layout=Layout(height='40px', width='80%'), style=ButtonStyle()),\n",
       " JupyterButton(description='XML_Document_20181102_003.xml', layout=Layout(height='40px', width='80%'), style=ButtonStyle()),\n",
       " JupyterButton(description='XML_Log_20160627_001.xml', layout=Layout(height='40px', width='80%'), style=ButtonStyle()),\n",
       " JupyterButton(description='XML_Log_20170227_001.xml', layout=Layout(height='40px', width='80%'), style=ButtonStyle()),\n",
       " JupyterButton(description='XML_Log_20170908_001.xml', layout=Layout(height='40px', width='80%'), style=ButtonStyle()),\n",
       " JupyterButton(description='XML_Log_20170908_002.xml', layout=Layout(height='40px', width='80%'), style=ButtonStyle()),\n",
       " JupyterButton(description='XML_Log_20180102_001.xml', layout=Layout(height='40px', width='80%'), style=ButtonStyle()),\n",
       " JupyterButton(description='XML_Log_20181030_001.xml', layout=Layout(height='40px', width='80%'), style=ButtonStyle()),\n",
       " JupyterButton(description='XML_Log_20181101_001.xml', layout=Layout(height='40px', width='80%'), style=ButtonStyle()),\n",
       " JupyterButton(description='XML_Log_20181102_001.xml', layout=Layout(height='40px', width='80%'), style=ButtonStyle()),\n",
       " JupyterButton(description='XML_Log_20181102_002.xml', layout=Layout(height='40px', width='80%'), style=ButtonStyle()),\n",
       " JupyterButton(description='XML_Log_20181102_003.xml', layout=Layout(height='40px', width='80%'), style=ButtonStyle()),\n",
       " JupyterButton(description='XML_Log_20181102_004.xml', layout=Layout(height='40px', width='80%'), style=ButtonStyle()),\n",
       " JupyterButton(description='XML_Log_20181102_005.xml', layout=Layout(height='40px', width='80%'), style=ButtonStyle()),\n",
       " JupyterButton(description='XML_Log_20181102_006.xml', layout=Layout(height='40px', width='80%'), style=ButtonStyle()),\n",
       " JupyterButton(description='XML_Log_20181102_007.xml', layout=Layout(height='40px', width='80%'), style=ButtonStyle()),\n",
       " JupyterButton(description='__init__.py', layout=Layout(height='40px', width='80%'), style=ButtonStyle())]"
      ]
     },
     "execution_count": 47,
     "metadata": {},
     "output_type": "execute_result"
    }
   ],
   "source": [
    "browser.button_list"
   ]
  },
  {
   "cell_type": "code",
   "execution_count": 48,
   "metadata": {},
   "outputs": [
    {
     "data": {
      "application/vnd.jupyter.widget-view+json": {
       "model_id": "84f03b1100284987b7e130258fa93ab4",
       "version_major": 2,
       "version_minor": 0
      },
      "text/plain": [
       "Label(value='The values of slider1 and slider2 are synchronized')"
      ]
     },
     "metadata": {},
     "output_type": "display_data"
    },
    {
     "data": {
      "application/vnd.jupyter.widget-view+json": {
       "model_id": "3a7496c45eab4771a9f8a38512ab6fe7",
       "version_major": 2,
       "version_minor": 0
      },
      "text/plain": [
       "IntSlider(value=0, description='Slider 1')"
      ]
     },
     "metadata": {},
     "output_type": "display_data"
    },
    {
     "data": {
      "application/vnd.jupyter.widget-view+json": {
       "model_id": "3de4b371b806482c9a91a49b1191c779",
       "version_major": 2,
       "version_minor": 0
      },
      "text/plain": [
       "IntSlider(value=0, description='Slider 2')"
      ]
     },
     "metadata": {},
     "output_type": "display_data"
    }
   ],
   "source": [
    "caption = widgets.Label(value='The values of slider1 and slider2 are synchronized')\n",
    "sliders1, slider2 = widgets.IntSlider(description='Slider 1'),\\\n",
    "                    widgets.IntSlider(description='Slider 2')\n",
    "l = widgets.link((sliders1, 'value'), (slider2, 'value'))\n",
    "display(caption, sliders1, slider2)"
   ]
  },
  {
   "cell_type": "code",
   "execution_count": 49,
   "metadata": {},
   "outputs": [
    {
     "data": {
      "application/vnd.jupyter.widget-view+json": {
       "model_id": "40a413e243a342a3bbabdc7e5336dc4a",
       "version_major": 2,
       "version_minor": 0
      },
      "text/plain": [
       "VBox(children=(IntSlider(value=0, continuous_update=False, description='Delayed'), IntText(value=0, descriptio…"
      ]
     },
     "metadata": {},
     "output_type": "display_data"
    }
   ],
   "source": [
    "a = widgets.IntSlider(description=\"Delayed\", continuous_update=False)\n",
    "b = widgets.IntText(description=\"Delayed\", continuous_update=False)\n",
    "c = widgets.IntSlider(description=\"Continuous\", continuous_update=True)\n",
    "d = widgets.IntText(description=\"Continuous\", continuous_update=True)\n",
    "\n",
    "widgets.link((a, 'value'), (b, 'value'))\n",
    "widgets.link((a, 'value'), (c, 'value'))\n",
    "widgets.link((a, 'value'), (d, 'value'))\n",
    "widgets.VBox([a,b,c,d])"
   ]
  },
  {
   "cell_type": "code",
   "execution_count": 61,
   "metadata": {},
   "outputs": [
    {
     "name": "stdout",
     "output_type": "stream",
     "text": [
      "Unable to load resource entering fake mode ...\n"
     ]
    }
   ],
   "source": [
    "instrument=VisaInstrument(\"GPIB::16\")"
   ]
  },
  {
   "cell_type": "code",
   "execution_count": null,
   "metadata": {},
   "outputs": [],
   "source": [
    "widgets.IntSlider(\n",
    "    value=7,\n",
    "    min=0,\n",
    "    max=10,\n",
    "    step=1,\n",
    "    description='Test:',\n",
    "    disabled=False,\n",
    "    continuous_update=False,\n",
    "    orientation='horizontal',\n",
    "    readout=True,\n",
    "    readout_format='d'\n",
    ")"
   ]
  },
  {
   "cell_type": "code",
   "execution_count": 56,
   "metadata": {},
   "outputs": [],
   "source": [
    "ifbw_slider=widgets.IntSlider(description=\"IFBW\",min=1,max=1000,step=1)"
   ]
  },
  {
   "cell_type": "code",
   "execution_count": 58,
   "metadata": {},
   "outputs": [
    {
     "data": {
      "application/vnd.jupyter.widget-view+json": {
       "model_id": "517f70562373499aa8422fb79b09c1a6",
       "version_major": 2,
       "version_minor": 0
      },
      "text/plain": [
       "IntSlider(value=1, description='IFBW', max=1000, min=1)"
      ]
     },
     "metadata": {},
     "output_type": "display_data"
    }
   ],
   "source": [
    "display(ifbw_slider)"
   ]
  },
  {
   "cell_type": "code",
   "execution_count": 57,
   "metadata": {},
   "outputs": [
    {
     "name": "stderr",
     "output_type": "stream",
     "text": [
      "C:\\Users\\sandersa\\AppData\\Local\\Continuum\\anaconda3\\lib\\site-packages\\ipykernel_launcher.py:1: DeprecationWarning: on_trait_change is deprecated in traitlets 4.1: use observe instead\n",
      "  \"\"\"Entry point for launching an IPython kernel.\n"
     ]
    }
   ],
   "source": [
    "ifbw_slider.on_trait_change(lambda x:instrument.write(\"IFBW {0}\".format(x)))"
   ]
  },
  {
   "cell_type": "code",
   "execution_count": 60,
   "metadata": {},
   "outputs": [
    {
     "data": {
      "text/plain": [
       "[{'Timestamp': '2018-12-24T15:46:56.876214',\n",
       "  'Action': 'self.write',\n",
       "  'Argument': 'SENS:BAND?',\n",
       "  'Response': None},\n",
       " {'Timestamp': '2018-12-24T15:46:56.876214',\n",
       "  'Action': 'self.read',\n",
       "  'Argument': None,\n",
       "  'Response': 'Buffer Read at 2018-12-24T15:46:56.876214'},\n",
       " {'Timestamp': '2018-12-24T15:46:56.877214',\n",
       "  'Action': 'self.write',\n",
       "  'Argument': 'SENS:AVER?',\n",
       "  'Response': None},\n",
       " {'Timestamp': '2018-12-24T15:46:56.877214',\n",
       "  'Action': 'self.read',\n",
       "  'Argument': None,\n",
       "  'Response': 'Buffer Read at 2018-12-24T15:46:56.877214'},\n",
       " {'Timestamp': '2018-12-24T15:46:56.878214',\n",
       "  'Action': 'self.write',\n",
       "  'Argument': 'SOUR:POW:SLOP?',\n",
       "  'Response': None},\n",
       " {'Timestamp': '2018-12-24T15:46:56.878214',\n",
       "  'Action': 'self.read',\n",
       "  'Argument': None,\n",
       "  'Response': 'Buffer Read at 2018-12-24T15:46:56.878214'},\n",
       " {'Timestamp': '2018-12-24T15:46:56.879214',\n",
       "  'Action': 'self.write',\n",
       "  'Argument': 'SOUR:POW?',\n",
       "  'Response': None},\n",
       " {'Timestamp': '2018-12-24T15:46:56.879214',\n",
       "  'Action': 'self.read',\n",
       "  'Argument': None,\n",
       "  'Response': 'Buffer Read at 2018-12-24T15:46:56.879214'},\n",
       " {'Timestamp': '2018-12-24T15:46:56.880214',\n",
       "  'Action': 'self.write',\n",
       "  'Argument': 'SOUR:POW:CORR:STAT?',\n",
       "  'Response': None},\n",
       " {'Timestamp': '2018-12-24T15:46:56.880214',\n",
       "  'Action': 'self.read',\n",
       "  'Argument': None,\n",
       "  'Response': 'Buffer Read at 2018-12-24T15:46:56.880214'},\n",
       " {'Timestamp': '2018-12-24T15:46:56.881214',\n",
       "  'Action': 'self.write',\n",
       "  'Argument': 'SENS:CORR:STAT?',\n",
       "  'Response': None},\n",
       " {'Timestamp': '2018-12-24T15:46:56.881214',\n",
       "  'Action': 'self.read',\n",
       "  'Argument': None,\n",
       "  'Response': 'Buffer Read at 2018-12-24T15:46:56.881214'},\n",
       " {'Timestamp': '2018-12-24T15:46:56.882214',\n",
       "  'Action': 'self.write',\n",
       "  'Argument': 'SENS:SWE:TYPE?',\n",
       "  'Response': None},\n",
       " {'Timestamp': '2018-12-24T15:46:56.882214',\n",
       "  'Action': 'self.read',\n",
       "  'Argument': None,\n",
       "  'Response': 'Buffer Read at 2018-12-24T15:46:56.882214'},\n",
       " {'Timestamp': '2018-12-24T15:46:56.883215',\n",
       "  'Action': 'self.write',\n",
       "  'Argument': 'SENS:BAND?',\n",
       "  'Response': None},\n",
       " {'Timestamp': '2018-12-24T15:46:56.883215',\n",
       "  'Action': 'self.read',\n",
       "  'Argument': None,\n",
       "  'Response': 'Buffer Read at 2018-12-24T15:46:56.883215'},\n",
       " {'Timestamp': '2018-12-24T15:46:56.884215',\n",
       "  'Action': 'self.write',\n",
       "  'Argument': 'SENS:AVER?',\n",
       "  'Response': None},\n",
       " {'Timestamp': '2018-12-24T15:46:56.884215',\n",
       "  'Action': 'self.read',\n",
       "  'Argument': None,\n",
       "  'Response': 'Buffer Read at 2018-12-24T15:46:56.884215'},\n",
       " {'Timestamp': '2018-12-24T15:46:56.885215',\n",
       "  'Action': 'self.write',\n",
       "  'Argument': 'SOUR:POW:SLOP?',\n",
       "  'Response': None},\n",
       " {'Timestamp': '2018-12-24T15:46:56.885215',\n",
       "  'Action': 'self.read',\n",
       "  'Argument': None,\n",
       "  'Response': 'Buffer Read at 2018-12-24T15:46:56.885215'},\n",
       " {'Timestamp': '2018-12-24T15:46:56.886215',\n",
       "  'Action': 'self.write',\n",
       "  'Argument': 'SOUR:POW?',\n",
       "  'Response': None},\n",
       " {'Timestamp': '2018-12-24T15:46:56.886215',\n",
       "  'Action': 'self.read',\n",
       "  'Argument': None,\n",
       "  'Response': 'Buffer Read at 2018-12-24T15:46:56.886215'},\n",
       " {'Timestamp': '2018-12-24T15:46:56.887215',\n",
       "  'Action': 'self.write',\n",
       "  'Argument': 'SOUR:POW:CORR:STAT?',\n",
       "  'Response': None},\n",
       " {'Timestamp': '2018-12-24T15:46:56.887215',\n",
       "  'Action': 'self.read',\n",
       "  'Argument': None,\n",
       "  'Response': 'Buffer Read at 2018-12-24T15:46:56.887215'},\n",
       " {'Timestamp': '2018-12-24T15:46:56.888215',\n",
       "  'Action': 'self.write',\n",
       "  'Argument': 'SENS:CORR:STAT?',\n",
       "  'Response': None},\n",
       " {'Timestamp': '2018-12-24T15:46:56.888215',\n",
       "  'Action': 'self.read',\n",
       "  'Argument': None,\n",
       "  'Response': 'Buffer Read at 2018-12-24T15:46:56.888215'},\n",
       " {'Timestamp': '2018-12-24T15:46:56.889215',\n",
       "  'Action': 'self.write',\n",
       "  'Argument': 'SENS:SWE:TYPE?',\n",
       "  'Response': None},\n",
       " {'Timestamp': '2018-12-24T15:46:56.889215',\n",
       "  'Action': 'self.read',\n",
       "  'Argument': None,\n",
       "  'Response': 'Buffer Read at 2018-12-24T15:46:56.889215'},\n",
       " {'Timestamp': '2018-12-24T15:55:21.906100',\n",
       "  'Action': 'self.write',\n",
       "  'Argument': 'IFBW _property_lock',\n",
       "  'Response': None},\n",
       " {'Timestamp': '2018-12-24T15:55:21.906100',\n",
       "  'Action': 'self.write',\n",
       "  'Argument': 'IFBW value',\n",
       "  'Response': None},\n",
       " {'Timestamp': '2018-12-24T15:55:21.906100',\n",
       "  'Action': 'self.write',\n",
       "  'Argument': 'IFBW _property_lock',\n",
       "  'Response': None},\n",
       " {'Timestamp': '2018-12-24T15:55:21.967104',\n",
       "  'Action': 'self.write',\n",
       "  'Argument': 'IFBW _property_lock',\n",
       "  'Response': None},\n",
       " {'Timestamp': '2018-12-24T15:55:21.967104',\n",
       "  'Action': 'self.write',\n",
       "  'Argument': 'IFBW value',\n",
       "  'Response': None},\n",
       " {'Timestamp': '2018-12-24T15:55:21.967104',\n",
       "  'Action': 'self.write',\n",
       "  'Argument': 'IFBW _property_lock',\n",
       "  'Response': None},\n",
       " {'Timestamp': '2018-12-24T15:55:22.032107',\n",
       "  'Action': 'self.write',\n",
       "  'Argument': 'IFBW _property_lock',\n",
       "  'Response': None},\n",
       " {'Timestamp': '2018-12-24T15:55:22.032107',\n",
       "  'Action': 'self.write',\n",
       "  'Argument': 'IFBW value',\n",
       "  'Response': None},\n",
       " {'Timestamp': '2018-12-24T15:55:22.032107',\n",
       "  'Action': 'self.write',\n",
       "  'Argument': 'IFBW _property_lock',\n",
       "  'Response': None},\n",
       " {'Timestamp': '2018-12-24T15:55:22.092111',\n",
       "  'Action': 'self.write',\n",
       "  'Argument': 'IFBW _property_lock',\n",
       "  'Response': None},\n",
       " {'Timestamp': '2018-12-24T15:55:22.092111',\n",
       "  'Action': 'self.write',\n",
       "  'Argument': 'IFBW value',\n",
       "  'Response': None},\n",
       " {'Timestamp': '2018-12-24T15:55:22.092111',\n",
       "  'Action': 'self.write',\n",
       "  'Argument': 'IFBW _property_lock',\n",
       "  'Response': None},\n",
       " {'Timestamp': '2018-12-24T15:55:22.154114',\n",
       "  'Action': 'self.write',\n",
       "  'Argument': 'IFBW _property_lock',\n",
       "  'Response': None},\n",
       " {'Timestamp': '2018-12-24T15:55:22.154114',\n",
       "  'Action': 'self.write',\n",
       "  'Argument': 'IFBW value',\n",
       "  'Response': None},\n",
       " {'Timestamp': '2018-12-24T15:55:22.154114',\n",
       "  'Action': 'self.write',\n",
       "  'Argument': 'IFBW _property_lock',\n",
       "  'Response': None},\n",
       " {'Timestamp': '2018-12-24T15:55:22.217118',\n",
       "  'Action': 'self.write',\n",
       "  'Argument': 'IFBW _property_lock',\n",
       "  'Response': None},\n",
       " {'Timestamp': '2018-12-24T15:55:22.217118',\n",
       "  'Action': 'self.write',\n",
       "  'Argument': 'IFBW value',\n",
       "  'Response': None},\n",
       " {'Timestamp': '2018-12-24T15:55:22.217118',\n",
       "  'Action': 'self.write',\n",
       "  'Argument': 'IFBW _property_lock',\n",
       "  'Response': None},\n",
       " {'Timestamp': '2018-12-24T15:55:22.280122',\n",
       "  'Action': 'self.write',\n",
       "  'Argument': 'IFBW _property_lock',\n",
       "  'Response': None},\n",
       " {'Timestamp': '2018-12-24T15:55:22.280122',\n",
       "  'Action': 'self.write',\n",
       "  'Argument': 'IFBW value',\n",
       "  'Response': None},\n",
       " {'Timestamp': '2018-12-24T15:55:22.280122',\n",
       "  'Action': 'self.write',\n",
       "  'Argument': 'IFBW _property_lock',\n",
       "  'Response': None}]"
      ]
     },
     "execution_count": 60,
     "metadata": {},
     "output_type": "execute_result"
    }
   ],
   "source": [
    "instrument.history"
   ]
  },
  {
   "cell_type": "code",
   "execution_count": 67,
   "metadata": {},
   "outputs": [
    {
     "data": {
      "application/vnd.jupyter.widget-view+json": {
       "model_id": "2e771ac6c29b4c598993301a293364c6",
       "version_major": 2,
       "version_minor": 0
      },
      "text/plain": [
       "Label(value='IFBW')"
      ]
     },
     "metadata": {},
     "output_type": "display_data"
    },
    {
     "data": {
      "application/vnd.jupyter.widget-view+json": {
       "model_id": "2d635f6d95af4b42a570e398cb1f5111",
       "version_major": 2,
       "version_minor": 0
      },
      "text/plain": [
       "IntSlider(value=0)"
      ]
     },
     "metadata": {},
     "output_type": "display_data"
    }
   ],
   "source": [
    "caption= widgets.Label(value='IFBW')\n",
    "int_range = widgets.IntSlider()\n",
    "display(caption,int_range)\n",
    "\n",
    "def on_value_change(change):\n",
    "    instrument.write(\"IFBW {0}\".format(change['new']))\n",
    "    caption.value=\"IFBW: {0} Hz\".format(instrument.query(\"IFBW\"))\n",
    "    \n",
    "\n",
    "int_range.observe(on_value_change, names='value')"
   ]
  },
  {
   "cell_type": "code",
   "execution_count": 66,
   "metadata": {},
   "outputs": [
    {
     "data": {
      "application/vnd.jupyter.widget-view+json": {
       "model_id": "bc513df316f0416c949889e33acaf973",
       "version_major": 2,
       "version_minor": 0
      },
      "text/plain": [
       "Label(value='The values of range1 and range2 are synchronized')"
      ]
     },
     "metadata": {},
     "output_type": "display_data"
    },
    {
     "data": {
      "application/vnd.jupyter.widget-view+json": {
       "model_id": "742c45edca7f4235a4bf182a0e2e4af6",
       "version_major": 2,
       "version_minor": 0
      },
      "text/plain": [
       "IntSlider(value=1, description='Slider', max=5, min=-5)"
      ]
     },
     "metadata": {},
     "output_type": "display_data"
    }
   ],
   "source": [
    "caption = widgets.Label(value='The values of range1 and range2 are synchronized')\n",
    "slider = widgets.IntSlider(min=-5, max=5, value=1, description='Slider')\n",
    "\n",
    "def handle_slider_change(change):\n",
    "    caption.value = 'The slider value is ' + (\n",
    "        'negative' if change.new < 0 else 'nonnegative'\n",
    "    )\n",
    "\n",
    "slider.observe(handle_slider_change, names='value')\n",
    "\n",
    "display(caption, slider)"
   ]
  },
  {
   "cell_type": "code",
   "execution_count": null,
   "metadata": {},
   "outputs": [],
   "source": []
  }
 ],
 "metadata": {
  "kernelspec": {
   "display_name": "Python 3",
   "language": "python",
   "name": "python3"
  },
  "language_info": {
   "codemirror_mode": {
    "name": "ipython",
    "version": 3
   },
   "file_extension": ".py",
   "mimetype": "text/x-python",
   "name": "python",
   "nbconvert_exporter": "python",
   "pygments_lexer": "ipython3",
   "version": "3.7.0"
  },
  "widgets": {
   "state": {
    "149b7089e880472aa31be8752ae0e362": {
     "views": [
      {
       "cell_index": 4
      }
     ]
    },
    "366c73b2d64440f6bad25961632d2400": {
     "views": [
      {
       "cell_index": 7
      }
     ]
    },
    "770afb16164441b7906c0cbd30b39b9e": {
     "views": [
      {
       "cell_index": 2
      }
     ]
    },
    "8c060e7345de44a08ec7750d5a769132": {
     "views": [
      {
       "cell_index": 8
      }
     ]
    },
    "ac7f22f7429f432fb8b70e873d90e5f3": {
     "views": [
      {
       "cell_index": 5
      }
     ]
    },
    "e001d6b4b5124060b208ad71e8b1fb0a": {
     "views": [
      {
       "cell_index": 6
      }
     ]
    }
   },
   "version": "1.2.0"
  }
 },
 "nbformat": 4,
 "nbformat_minor": 2
}
