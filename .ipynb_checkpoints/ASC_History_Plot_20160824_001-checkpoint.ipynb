{
 "cells": [
  {
   "cell_type": "markdown",
   "metadata": {},
   "source": [
    "# Plotting an .asc file against its history\n",
    "In order to plot an outputed file against its history, \n",
    "1. We must import the file and determine what model applies to it\n",
    "2. Read in the history file that applies to that model\n",
    "3. Read device_id and select all historical data sets\n",
    "4. Filter by last n measurement dates\n",
    "5. plot all of the above"
   ]
  },
  {
   "cell_type": "code",
   "execution_count": 1,
   "metadata": {
    "collapsed": true
   },
   "outputs": [],
   "source": [
    "# Imports\n",
    "from pyMeasure import *\n",
    "import pandas\n",
    "import os,re\n"
   ]
  },
  {
   "cell_type": "code",
   "execution_count": 2,
   "metadata": {
    "collapsed": true
   },
   "outputs": [],
   "source": [
    "ONE_PORT_CALREP_CSV=r\"E:\\Share\\Converted_DUT\\One_Port_DUT.csv\"\n",
    "TWO_PORT_CALREP_CSV=r\"E:\\Share\\Converted_DUT\\Two_Port_DUT.csv\"\n",
    "POWER_3TERM_CALREP_CSV=r\"E:\\Share\\Converted_DUT\\Power_3Term_DUT.csv\"\n",
    "POWER_4TERM_CALREP_CSV=r\"E:\\Share\\Converted_DUT\\Power_4Term_DUT.csv\""
   ]
  },
  {
   "cell_type": "code",
   "execution_count": 3,
   "metadata": {
    "collapsed": false
   },
   "outputs": [],
   "source": [
    "# define the history dictionary for ASC type Duts\n",
    "history_dict={'1-port calrep':pandas.read_csv(ONE_PORT_CALREP_CSV),\n",
    "         '2-port calrep':pandas.read_csv(TWO_PORT_CALREP_CSV),\n",
    "         'power 3term calrep':pandas.read_csv(POWER_3TERM_CALREP_CSV),\n",
    "         'power 4term calrep':pandas.read_csv(POWER_4TERM_CALREP_CSV)}"
   ]
  },
  {
   "cell_type": "code",
   "execution_count": 42,
   "metadata": {
    "collapsed": false
   },
   "outputs": [
    {
     "name": "stdout",
     "output_type": "stream",
     "text": [
      "['700083.ASC', '700196.asc', '700437.asc', '813462.ASC', '922729.asc', '952489.asc', 'N205RV.asc']\n"
     ]
    }
   ],
   "source": [
    "# now we need to select a few .asc files and test them\n",
    "\n",
    "os.chdir(TESTS_DIRECTORY)\n",
    "file_names=[]\n",
    "for file_name in os.listdir(TESTS_DIRECTORY):\n",
    "    if re.search('\\.asc',file_name,re.IGNORECASE):\n",
    "        file_names.append(file_name)\n",
    "print file_names"
   ]
  },
  {
   "cell_type": "code",
   "execution_count": 30,
   "metadata": {
    "collapsed": false
   },
   "outputs": [
    {
     "name": "stdout",
     "output_type": "stream",
     "text": [
      "PowerCalrepModel\n",
      "PowerCalrepModel\n",
      "OnePortCalrepModel\n",
      "TwoPortCalrepModel\n",
      "TwoPortCalrepModel\n",
      "TwoPortCalrepModel\n"
     ]
    }
   ],
   "source": [
    "# Now we identify all the types\n",
    "for file_name in file_names:\n",
    "    print sparameter_power_type(file_name) #this function is in pyMeasure.Code.DataHandlers.NISTModels"
   ]
  },
  {
   "cell_type": "code",
   "execution_count": 31,
   "metadata": {
    "collapsed": false
   },
   "outputs": [],
   "source": [
    "# Let's pick one and walk it through\n",
    "file_path=file_names[4]\n",
    "model=sparameter_power_type(file_path)\n",
    "calrep_model=globals()[model](file_path)\n"
   ]
  },
  {
   "cell_type": "code",
   "execution_count": 32,
   "metadata": {
    "collapsed": false
   },
   "outputs": [
    {
     "name": "stdout",
     "output_type": "stream",
     "text": [
      " This device's id is 952489 and its anaysis date is 14 Nov 2012\n"
     ]
    }
   ],
   "source": [
    "print(\" This device's id is {0} and its anaysis date is {1}\".format(calrep_model.metadata[\"Device_Id\"],\n",
    "                                                                    calrep_model.metadata[\"Analysis_Date\"]))"
   ]
  },
  {
   "cell_type": "code",
   "execution_count": null,
   "metadata": {
    "collapsed": false
   },
   "outputs": [],
   "source": [
    "print calrep_model.metadata"
   ]
  },
  {
   "cell_type": "code",
   "execution_count": 33,
   "metadata": {
    "collapsed": false
   },
   "outputs": [],
   "source": [
    "# now choose the history file\n",
    "def return_history_key(calrep_model):\n",
    "    \"Returns a key for the history dictionary given a calrep model\"\n",
    "    model=calrep_model.__class__.__name__\n",
    "    #print model\n",
    "    if re.search('Calrep',model):\n",
    "        if re.search('OnePortCalrep',model):\n",
    "            return '1-port calrep'\n",
    "        elif re.search('TwoPortCalrep',model):\n",
    "            return '2-port calrep'\n",
    "        elif re.search('PowerCalrep',model):\n",
    "            if calrep_model.options[\"column_names\"]==POWER_3TERM_COLUMN_NAMES:\n",
    "                return 'power 3term calrep'\n",
    "            elif calrep_model.options[\"column_names\"]==POWER_4TERM_COLUMN_NAMES:\n",
    "                return 'power 3term calrep'\n",
    "    else:\n",
    "        raise TypeError(\"Must be a calrep model, such as OnePortCalrepModel, etc. \")\n",
    "\n",
    "history_frame=history_dict[return_history_key(calrep_model)]\n"
   ]
  },
  {
   "cell_type": "code",
   "execution_count": null,
   "metadata": {
    "collapsed": false
   },
   "outputs": [],
   "source": [
    "# now select only that device\n",
    "device_history=history_frame[history_frame[\"Device_Id\"]==calrep_model.metadata[\"Device_Id\"]]\n",
    "device_history"
   ]
  },
  {
   "cell_type": "code",
   "execution_count": null,
   "metadata": {
    "collapsed": false
   },
   "outputs": [],
   "source": [
    "# now make a list of unique dates\n",
    "unique_analysis_dates=device_history[\"Analysis_Date\"].unique()\n",
    "print unique_analysis_dates"
   ]
  },
  {
   "cell_type": "code",
   "execution_count": null,
   "metadata": {
    "collapsed": false
   },
   "outputs": [],
   "source": [
    "import inspect\n",
    "inspect.getmodule(calrep_model)"
   ]
  },
  {
   "cell_type": "code",
   "execution_count": null,
   "metadata": {
    "collapsed": false
   },
   "outputs": [],
   "source": [
    "dir(calrep_model)"
   ]
  },
  {
   "cell_type": "code",
   "execution_count": null,
   "metadata": {
    "collapsed": false
   },
   "outputs": [],
   "source": [
    "calrep_model.table_names"
   ]
  },
  {
   "cell_type": "code",
   "execution_count": null,
   "metadata": {
    "collapsed": false
   },
   "outputs": [],
   "source": [
    "calrep_model.tables"
   ]
  },
  {
   "cell_type": "code",
   "execution_count": null,
   "metadata": {
    "collapsed": false
   },
   "outputs": [],
   "source": [
    "calrep_model.tables[1].show()"
   ]
  },
  {
   "cell_type": "code",
   "execution_count": 38,
   "metadata": {
    "collapsed": false
   },
   "outputs": [],
   "source": [
    "def calrep_history_plot(calrep_model,history_frame,**options):\n",
    "    \"\"\"Given a calrep_model and a history frame calrep_history_plot plots the file against any other in history \n",
    "    frame  (pandas.DataFrame) with dates\"\"\"\n",
    "    defaults={\"display_legend\":True,\n",
    "              \"save_plot\":False,\n",
    "              \"directory\":None,\n",
    "              \"specific_descriptor\":calrep_model.metadata[\"Device_Id\"]+\"_Device_Measurement\",\n",
    "              \"general_descriptor\":\"Plot\",\n",
    "              \"file_name\":None,\n",
    "              \"min_num\":0,\n",
    "              \"max_num\":None,\n",
    "              \"error_style\":\"area\"}\n",
    "    history_plot_options={}\n",
    "    for key,value in defaults.iteritems():\n",
    "        history_plot_options[key]=value\n",
    "    for key,value in options.iteritems():\n",
    "        history_plot_options[key]=value\n",
    "    # The way we plot depends on the models\n",
    "    model=calrep_model.__class__.__name__\n",
    "    device_history=history_frame[history_frame[\"Device_Id\"]==calrep_model.metadata[\"Device_Id\"]]\n",
    "    unique_analysis_dates=sorted(device_history[\"Analysis_Date\"].unique().tolist())\n",
    "    print(\"{0} are {1}\".format(\"unique_analysis_dates\",unique_analysis_dates))\n",
    "    if re.search('Power',model):\n",
    "        number_rows=2\n",
    "        column_names=['mag','arg','Efficiency','Calibration_Factor']\n",
    "        if calrep_model.options[\"column_names\"]==POWER_3TERM_COLUMN_NAMES:\n",
    "            error_names=['uMg','uAg','uEe','uCe']\n",
    "        elif calrep_model.options[\"column_names\"]==POWER_4TERM_COLUMN_NAMES:\n",
    "            error_names=['uMg','uAg','uEg','uCg']\n",
    "        table=calrep_model.joined_table\n",
    "        \n",
    "    elif re.search('OnePort',model):\n",
    "        number_rows=1\n",
    "        column_names=['mag','arg']\n",
    "        error_names=['uMg','uAg']\n",
    "        table=calrep_model\n",
    "    \n",
    "    elif re.search('TwoPort',model):\n",
    "        number_rows=3\n",
    "        column_names=['magS11','argS11','magS21','argS21','magS22','argS22']\n",
    "        error_names=['uMgS11','uAgS11','uMgS21','uAgS21','uMgS22','uAgS22']\n",
    "        table=calrep_model.joined_table\n",
    "        \n",
    "    fig, compare_axes = plt.subplots(nrows=number_rows, ncols=2, sharex='col',figsize=(8,6),dpi=80)\n",
    "    for index, ax in enumerate(compare_axes.flat):\n",
    "\n",
    "        #ax.xaxis.set_visible(False)\n",
    "        if re.search('arg',column_names[index]):\n",
    "            ax.set_ylabel('Phase(Degrees)',color='green')\n",
    "        elif re.search('mag',column_names[index]):\n",
    "            ax.set_ylabel(r'|${\\Gamma} $|',color='green')\n",
    "        ax.set_title(column_names[index])\n",
    "        # initial plot of \n",
    "        x=table.get_column('Frequency')\n",
    "        y=np.array(table.get_column(column_names[index]))\n",
    "        error=np.array(table.get_column(error_names[index]))\n",
    "        if re.search('bar',history_plot_options[\"error_style\"],re.IGNORECASE):\n",
    "            ax.errorbar(x,y,yerr=error,fmt='k--')\n",
    "            \n",
    "            for date_index,date in enumerate(unique_analysis_dates[history_plot_options[\"min_num\"]:history_plot_options[\"max_num\"]]):\n",
    "                number_lines=len(unique_analysis_dates[history_plot_options[\"min_num\"]:history_plot_options[\"max_num\"]])\n",
    "                date_device_history=device_history[device_history[\"Analysis_Date\"]==date]\n",
    "                if not date_device_history.empty:\n",
    "                    x_date=date_device_history['Frequency']\n",
    "                    y_date=np.array(date_device_history[column_names[index]].tolist())\n",
    "                    error_date=np.array(date_device_history[error_names[index]].tolist())\n",
    "                    #print(\"{0} is {1}\".format(\"date_device_history\",date_device_history))\n",
    "                    #print(\"{0} is {1}\".format(\"y_date\",y_date))\n",
    "                    #print(\"{0} is {1}\".format(\"date\",date))\n",
    "                    date_color=(1-float(date_index+1)/number_lines,0,float(date_index+1)/number_lines,.5)\n",
    "                    ax.errorbar(x_date,y_date,\n",
    "                         yerr=error_date,color=date_color,label=date)\n",
    "        elif re.search('area',history_plot_options[\"error_style\"],re.IGNORECASE):\n",
    "            ax.plot(x,y,'k--')\n",
    "            ax.fill_between(x,y-error,y+error,edgecolor=(0,.0,.0,.25), facecolor=(.25,.25,.25,.1),\n",
    "                            linewidth=1)\n",
    "            for date_index,date in enumerate(unique_analysis_dates[history_plot_options[\"min_num\"]:history_plot_options[\"max_num\"]]):\n",
    "                number_lines=float(len(unique_analysis_dates[history_plot_options[\"min_num\"]:history_plot_options[\"max_num\"]]))\n",
    "                #print(\"{0} is {1}\".format(\"number_lines\",number_lines))\n",
    "                #print(\"{0} is {1}\".format(\"index\",index))\n",
    "                #print(\"{0} is {1}\".format(\"date_index\",date_index))\n",
    "                date_color=(1-float(date_index+1)/number_lines,0,float(date_index+1)/number_lines,.5)\n",
    "                #print(\"{0} is {1}\".format(\"date_color\",date_color))\n",
    "                \n",
    "                date_device_history=device_history[device_history[\"Analysis_Date\"]==date]\n",
    "                x_date=date_device_history['Frequency']\n",
    "                y_date=np.array(date_device_history[column_names[index]].tolist())\n",
    "                error_date=np.array(date_device_history[error_names[index]].tolist())\n",
    "                \n",
    "               \n",
    "                ax.plot(x_date,y_date,\n",
    "                        color=date_color,label=date)            \n",
    "        #ax.sharex(diff_axes[index])\n",
    "        if history_plot_options[\"display_legend\"]:\n",
    "            ax.legend(loc=1,fontsize='8')\n",
    "    compare_axes.flat[-2].set_xlabel('Frequency(GHz)',color='k')\n",
    "    compare_axes.flat[-1].set_xlabel('Frequency(GHz)',color='k')\n",
    "    fig.subplots_adjust(hspace=0)\n",
    "    fig.suptitle(calrep_model.metadata[\"Device_Id\"]+\"\\n\",fontsize=18,fontweight='bold')\n",
    "    plt.tight_layout()\n",
    "       \n",
    "    # Dealing with the save option\n",
    "    if history_plot_options[\"file_name\"] is None:\n",
    "        file_name=auto_name(specific_descriptor=history_plot_options[\"specific_descriptor\"],\n",
    "                            general_descriptor=history_plot_options[\"general_descriptor\"],\n",
    "                            directory=history_plot_options[\"directory\"],extension='png',padding=3)\n",
    "    else:\n",
    "        file_name=history_plot_options[\"file_name\"]\n",
    "    if history_plot_options[\"save_plot\"]:\n",
    "        #print file_name\n",
    "        plt.savefig(os.path.join(history_plot_options[\"directory\"],file_name))\n",
    "    else:\n",
    "        plt.show()\n",
    "    "
   ]
  },
  {
   "cell_type": "code",
   "execution_count": null,
   "metadata": {
    "collapsed": false
   },
   "outputs": [],
   "source": [
    "import matplotlib.pyplot as plt\n",
    "x=calrep_model.joined_table.get_column(\"Frequency\")\n",
    "y=np.array(calrep_model.joined_table.get_column(\"mag\"))\n",
    "error=np.array(calrep_model.joined_table.get_column(\"uMg\"))\n",
    "plt.plot(x,y)\n",
    "plt.fill_between(x,y-error,y+error, edgecolor=(0,.0,.0,.25), facecolor=(.25,.25,.25,.1),\n",
    "    linewidth=1,  antialiased=True)\n",
    "plt.show()"
   ]
  },
  {
   "cell_type": "code",
   "execution_count": null,
   "metadata": {
    "collapsed": false
   },
   "outputs": [],
   "source": [
    "unique_analysis_dates.tolist() and not [\"li\"]\n"
   ]
  },
  {
   "cell_type": "code",
   "execution_count": 47,
   "metadata": {
    "collapsed": false
   },
   "outputs": [
    {
     "name": "stdout",
     "output_type": "stream",
     "text": [
      "unique_analysis_dates are [' 2 Nov 2004', ' 8 Nov 2012', '10 Sep 2010', '18 Aug 2010', '18 Sep 2008', '26 Sep 2000', '30 Nov 2004']\n"
     ]
    }
   ],
   "source": [
    "calrep_history_plot(calrep_model,history_frame,**{\"error_style\":\"bar\"})"
   ]
  },
  {
   "cell_type": "code",
   "execution_count": 44,
   "metadata": {
    "collapsed": false
   },
   "outputs": [
    {
     "name": "stdout",
     "output_type": "stream",
     "text": [
      "['700083.ASC', '700196.asc', '700437.asc', '813462.ASC', '922729.asc', '952489.asc', 'N205RV.asc']\n"
     ]
    }
   ],
   "source": [
    "os.chdir(TESTS_DIRECTORY)\n",
    "file_names=[]\n",
    "for file_name in os.listdir(TESTS_DIRECTORY):\n",
    "    if re.search('\\.asc',file_name,re.IGNORECASE):\n",
    "        file_names.append(file_name)\n",
    "print file_names\n",
    "file_path=file_names[3]\n",
    "model=sparameter_power_type(file_path)\n",
    "calrep_model=globals()[model](file_path)\n",
    "history_frame=history_dict[return_history_key(calrep_model)]"
   ]
  },
  {
   "cell_type": "code",
   "execution_count": 41,
   "metadata": {
    "collapsed": false
   },
   "outputs": [
    {
     "name": "stdout",
     "output_type": "stream",
     "text": [
      "The device 700035 has 2 unique analysis dates.\n",
      "The device 700083 has 1 unique analysis dates.\n",
      "The device 700084 has 1 unique analysis dates.\n",
      "The device 700621 has 2 unique analysis dates.\n",
      "The device 811687 has 1 unique analysis dates.\n",
      "The device 811825 has 1 unique analysis dates.\n",
      "The device 007079 has 1 unique analysis dates.\n",
      "The device 700017 has 1 unique analysis dates.\n",
      "The device 700174 has 1 unique analysis dates.\n",
      "The device 70017414 Aug 2012 has 1 unique analysis dates.\n",
      "The device 700389 has 7 unique analysis dates.\n",
      "The device 700390 has 6 unique analysis dates.\n",
      "The device 700393 has 1 unique analysis dates.\n",
      "The device 700573 has 4 unique analysis dates.\n",
      "The device 700603 has 2 unique analysis dates.\n",
      "The device 700606 has 2 unique analysis dates.\n",
      "The device 700607 has 2 unique analysis dates.\n",
      "The device 700620 has 1 unique analysis dates.\n",
      "The device 810591 has 1 unique analysis dates.\n",
      "The device 810836 has 1 unique analysis dates.\n",
      "The device 811612 has 1 unique analysis dates.\n",
      "The device 812386 has 4 unique analysis dates.\n",
      "The device 813462 has 7 unique analysis dates.\n",
      "The device 915457 has 1 unique analysis dates.\n",
      "The device 2902 has 1 unique analysis dates.\n",
      "The device 2903 has 1 unique analysis dates.\n",
      "The device 700181 has 1 unique analysis dates.\n",
      "The device 700525 has 3 unique analysis dates.\n",
      "The device 700532 has 3 unique analysis dates.\n",
      "The device 700545 has 3 unique analysis dates.\n",
      "The device 700559 has 1 unique analysis dates.\n",
      "The device 700560 has 2 unique analysis dates.\n",
      "The device 700561 has 1 unique analysis dates.\n",
      "The device 700576 has 4 unique analysis dates.\n",
      "The device 700581 has 3 unique analysis dates.\n",
      "The device 700622 has 1 unique analysis dates.\n",
      "The device 700623 has 1 unique analysis dates.\n",
      "The device 700630 has 1 unique analysis dates.\n",
      "The device 700631 has 1 unique analysis dates.\n",
      "The device 810561 has 1 unique analysis dates.\n",
      "The device 810643 has 1 unique analysis dates.\n",
      "The device 811102 has 1 unique analysis dates.\n",
      "The device 811971 has 6 unique analysis dates.\n",
      "The device 811973 has 1 unique analysis dates.\n",
      "The device 812761 has 2 unique analysis dates.\n",
      "The device 812973 has 3 unique analysis dates.\n",
      "The device 813501 has 4 unique analysis dates.\n",
      "The device 813505 has 4 unique analysis dates.\n",
      "The device 814115 has 3 unique analysis dates.\n",
      "The device 814116 has 3 unique analysis dates.\n",
      "The device 915449 has 3 unique analysis dates.\n",
      "The device 915458 has 1 unique analysis dates.\n",
      "The device 923043 has 2 unique analysis dates.\n",
      "The device C24N112 has 1 unique analysis dates.\n",
      "The device C24N113 has 1 unique analysis dates.\n",
      "The device C35P15 has 1 unique analysis dates.\n",
      "The device C35P20 has 1 unique analysis dates.\n",
      "The device CTNP11 has 4 unique analysis dates.\n",
      "The device CTNP13 has 4 unique analysis dates.\n",
      "The device 700039 has 1 unique analysis dates.\n",
      "The device 700099 has 1 unique analysis dates.\n",
      "The device 700154 has 4 unique analysis dates.\n",
      "The device 700420 has 2 unique analysis dates.\n",
      "The device 700432 has 4 unique analysis dates.\n",
      "The device 700499 has 1 unique analysis dates.\n",
      "The device 700564 has 1 unique analysis dates.\n",
      "The device 700579 has 4 unique analysis dates.\n",
      "The device 700637 has 3 unique analysis dates.\n",
      "The device 700638 has 1 unique analysis dates.\n",
      "The device 813496 has 5 unique analysis dates.\n",
      "The device 814043 has 4 unique analysis dates.\n",
      "The device 922661 has 2 unique analysis dates.\n",
      "The device 1869 has 1 unique analysis dates.\n",
      "The device 672006 has 1 unique analysis dates.\n",
      "The device 700098 has 2 unique analysis dates.\n",
      "The device 700562 has 3 unique analysis dates.\n",
      "The device 700580 has 2 unique analysis dates.\n",
      "The device 811565 has 2 unique analysis dates.\n",
      "The device 813316 has 2 unique analysis dates.\n",
      "The device 814205 has 1 unique analysis dates.\n",
      "The device 83646 has 2 unique analysis dates.\n",
      "The device 923070 has 2 unique analysis dates.\n",
      "The device 952502 has 8 unique analysis dates.\n",
      "The device 700470 has 2 unique analysis dates.\n",
      "The device 70047019 Sep 2006 has 1 unique analysis dates.\n",
      "The device 70047015 Sep 2006 has 1 unique analysis dates.\n",
      "The device 814098 has 4 unique analysis dates.\n",
      "The device 92306016 Aug 2004 has 1 unique analysis dates.\n",
      "The device 700433 has 3 unique analysis dates.\n",
      "The device 700533 has 3 unique analysis dates.\n",
      "The device 813497 has 4 unique analysis dates.\n",
      "The device 813503 has 5 unique analysis dates.\n",
      "The device 000003 7 Dec 2000 has 1 unique analysis dates.\n",
      "The device 000006 7 Dec 2000 has 1 unique analysis dates.\n",
      "The device 060432 has 1 unique analysis dates.\n",
      "The device 06048610 Aug 2001 has 1 unique analysis dates.\n",
      "The device 700023 2 Feb 2001 has 1 unique analysis dates.\n",
      "The device 70002621 Dec 2000 has 1 unique analysis dates.\n",
      "The device 700026 has 1 unique analysis dates.\n",
      "The device 808512 has 1 unique analysis dates.\n",
      "The device 81013824 May 2001 has 1 unique analysis dates.\n",
      "The device 810378 has 1 unique analysis dates.\n",
      "The device 810640 has 1 unique analysis dates.\n",
      "The device 811671 has 1 unique analysis dates.\n",
      "The device 812157 has 3 unique analysis dates.\n",
      "The device 812320 has 2 unique analysis dates.\n",
      "The device 81278026 Nov 2001 has 1 unique analysis dates.\n",
      "The device 813264 has 1 unique analysis dates.\n",
      "The device 814058 9 Feb 2001 has 1 unique analysis dates.\n",
      "The device 81409914 Nov 2000 has 1 unique analysis dates.\n",
      "The device 81416111 Jun 2000 has 1 unique analysis dates.\n",
      "The device 81420611 Jun 2000 has 1 unique analysis dates.\n",
      "The device 81420811 Jun 2000 has 1 unique analysis dates.\n",
      "The device 915439 has 2 unique analysis dates.\n",
      "The device 922607 has 1 unique analysis dates.\n",
      "The device 95300316 Feb 2001 has 1 unique analysis dates.\n",
      "The device c22p01 7 Dec 2000 has 1 unique analysis dates.\n",
      "The device c22p12 7 Dec 2000 has 1 unique analysis dates.\n",
      "The device C24N113 7 Dec 2000 has 1 unique analysis dates.\n",
      "The device C24N11722 Aug 2001 has 1 unique analysis dates.\n",
      "The device C24N118 7 Dec 2000 has 1 unique analysis dates.\n",
      "The device 0044222 Aug 2001 has 1 unique analysis dates.\n",
      "The device C28P01 7 Dec 2000 has 1 unique analysis dates.\n",
      "The device c28p03 7 Dec 2000 has 1 unique analysis dates.\n",
      "The device c35p07 4 May 2001 has 1 unique analysis dates.\n",
      "The device C35P15 4 May 2001 has 1 unique analysis dates.\n",
      "The device C35P16 7 Dec 2000 has 1 unique analysis dates.\n",
      "The device C42P01 7 Dec 2000 has 1 unique analysis dates.\n",
      "The device C42P03 7 Dec 2000 has 1 unique analysis dates.\n",
      "The device CTNP12 has 1 unique analysis dates.\n",
      "The device CTNP1630 Mar 2001 has 1 unique analysis dates.\n",
      "The device 0362829 Mar 2002 has 1 unique analysis dates.\n",
      "The device 1093425 Apr 2002 has 1 unique analysis dates.\n",
      "The device 2304925 Apr 2002 has 1 unique analysis dates.\n",
      "The device 2307510 Jun 2002 has 1 unique analysis dates.\n",
      "The device 70000220 Dec 2002 has 1 unique analysis dates.\n",
      "The device 700047 has 1 unique analysis dates.\n",
      "The device 700093 has 1 unique analysis dates.\n",
      "The device 70009515 Feb 2002 has 1 unique analysis dates.\n",
      "The device 700117 has 2 unique analysis dates.\n",
      "The device 700127 9 May 2002 has 1 unique analysis dates.\n",
      "The device 700128 has 2 unique analysis dates.\n",
      "The device 700129 8 May 2002 has 1 unique analysis dates.\n",
      "The device 70013019 Apr 2002 has 1 unique analysis dates.\n",
      "The device 70013119 Apr 2002 has 1 unique analysis dates.\n",
      "The device 70013219 Apr 2002 has 1 unique analysis dates.\n",
      "The device 70013319 Apr 2002 has 1 unique analysis dates.\n",
      "The device 700134 7 Jun 2002 has 1 unique analysis dates.\n",
      "The device 700139 has 2 unique analysis dates.\n",
      "The device 700140 has 3 unique analysis dates.\n",
      "The device 700146 has 2 unique analysis dates.\n",
      "The device 700147 has 2 unique analysis dates.\n",
      "The device 700156 3 Sep 2002 has 1 unique analysis dates.\n",
      "The device 70015727 Aug 2002 has 1 unique analysis dates.\n",
      "The device 700169 has 4 unique analysis dates.\n",
      "The device 700170 has 4 unique analysis dates.\n",
      "The device 70017420 Dec 2002 has 1 unique analysis dates.\n",
      "The device 70017621 Nov 2002 has 1 unique analysis dates.\n",
      "The device 70017711 Dec 2002 has 1 unique analysis dates.\n",
      "The device 81016613 Aug 2002 has 1 unique analysis dates.\n",
      "The device 810324 5 Sep 2002 has 1 unique analysis dates.\n",
      "The device 81118313 Feb 2002 has 1 unique analysis dates.\n",
      "The device 811803 has 2 unique analysis dates.\n",
      "The device 81182529 Apr 2002 has 1 unique analysis dates.\n",
      "The device 811880 has 1 unique analysis dates.\n",
      "The device 812089 has 5 unique analysis dates.\n",
      "The device 812154 6 Nov 2002 has 1 unique analysis dates.\n",
      "The device 81256417 May 2002 has 1 unique analysis dates.\n",
      "The device 81298511 Sep 2002 has 1 unique analysis dates.\n",
      "The device 81304829 Apr 2002 has 1 unique analysis dates.\n",
      "The device 813190 has 2 unique analysis dates.\n",
      "The device 813297 has 2 unique analysis dates.\n",
      "The device 813371 5 Sep 2002 has 1 unique analysis dates.\n",
      "The device 813499 has 2 unique analysis dates.\n",
      "The device 81350513 Aug 2002 has 1 unique analysis dates.\n",
      "The device 81405217 Jul 2002 has 1 unique analysis dates.\n",
      "The device 814063 has 2 unique analysis dates.\n",
      "The device 81409930 Aug 2002 has 1 unique analysis dates.\n",
      "The device 814231 5 Dec 2002 has 1 unique analysis dates.\n",
      "The device CN-43 6 May 2002 has 1 unique analysis dates.\n",
      "The device CN-45 6 May 2002 has 1 unique analysis dates.\n",
      "The device CN-46 6 May 2002 has 1 unique analysis dates.\n",
      "The device CN-47 6 May 2002 has 1 unique analysis dates.\n",
      "The device CN43 2 Aug 2002 has 1 unique analysis dates.\n",
      "The device CN46 2 Aug 2002 has 1 unique analysis dates.\n",
      "The device CN47 2 Aug 2002 has 1 unique analysis dates.\n",
      "The device CN48 2 Aug 2002 has 1 unique analysis dates.\n",
      "The device 03629 7 Oct 2003 has 1 unique analysis dates.\n",
      "The device 03629 9 Oct 2003 has 1 unique analysis dates.\n",
      "The device 03629 4 Nov 2003 measured with Internat. meter and cable has 1 unique analysis dates.\n",
      "The device 03815 7 Oct 2003 has 1 unique analysis dates.\n",
      "The device 03815 9 Oct 2003 has 1 unique analysis dates.\n",
      "The device 03815 4 Nov 2003 measured with Interna. meter and cable has 1 unique analysis dates.\n",
      "The device 24610 has 2 unique analysis dates.\n",
      "The device 60502 has 2 unique analysis dates.\n",
      "The device 70002710 Feb 2003 has 1 unique analysis dates.\n",
      "The device 70004717 Nov 2003 has 1 unique analysis dates.\n",
      "The device 700120 has 3 unique analysis dates.\n",
      "The device 700126 has 2 unique analysis dates.\n",
      "The device 700168 has 2 unique analysis dates.\n",
      "The device 700182 3 Apr 2003 has 1 unique analysis dates.\n",
      "The device 70018224 Apr 2003 has 1 unique analysis dates.\n",
      "The device 70018430 Apr 2003 has 1 unique analysis dates.\n",
      "The device 700195 has 2 unique analysis dates.\n",
      "The device 700197 has 2 unique analysis dates.\n",
      "The device 700198 has 2 unique analysis dates.\n",
      "The device 700199 has 2 unique analysis dates.\n",
      "The device 700227 9 Dec 2003 has 1 unique analysis dates.\n",
      "The device 70022829 Oct 2003 has 1 unique analysis dates.\n",
      "The device 700230 has 1 unique analysis dates.\n",
      "The device 70023016 Dec 2003 has 1 unique analysis dates.\n",
      "The device 808946 has 3 unique analysis dates.\n",
      "The device 81064017 Jun 2003 has 1 unique analysis dates.\n",
      "The device 81185717 Jun 2003 has 1 unique analysis dates.\n",
      "The device 811862 has 4 unique analysis dates.\n",
      "The device 813031 has 2 unique analysis dates.\n",
      "The device 81305530 Apr 2003 has 1 unique analysis dates.\n",
      "The device 81312826 Jun 2003 has 1 unique analysis dates.\n",
      "The device 813479 has 2 unique analysis dates.\n",
      "The device 813500 has 3 unique analysis dates.\n",
      "The device 813504 has 2 unique analysis dates.\n",
      "The device 813506 has 3 unique analysis dates.\n",
      "The device 814041 has 3 unique analysis dates.\n",
      "The device 814112 has 4 unique analysis dates.\n",
      "The device 814114 has 2 unique analysis dates.\n",
      "The device 81422018 Jul 2003 has 1 unique analysis dates.\n",
      "The device 83087 has 1 unique analysis dates.\n",
      "The device 952060 has 2 unique analysis dates.\n",
      "The device 952360 has 2 unique analysis dates.\n",
      "The device 95300718 Jul 2003 has 1 unique analysis dates.\n",
      "The device CN4925 Feb 2003 has 1 unique analysis dates.\n",
      "The device CN5118 Aug 2003 has 1 unique analysis dates.\n",
      "The device 700158 9 Dec 2003 has 1 unique analysis dates.\n",
      "The device 95300714 Jul 2003 has 1 unique analysis dates.\n",
      "The device 0362923 Nov 2004 has 1 unique analysis dates.\n",
      "The device 0381523 Nov 2004 has 1 unique analysis dates.\n",
      "The device 60354 has 2 unique analysis dates.\n",
      "The device 6043211 Aug 2004 has 1 unique analysis dates.\n",
      "The device 60432 has 1 unique analysis dates.\n",
      "The device 60603 has 2 unique analysis dates.\n",
      "The device 70006926 May 2004 has 1 unique analysis dates.\n",
      "The device 700069 has 1 unique analysis dates.\n",
      "The device 70015829 Oct 2004 has 1 unique analysis dates.\n",
      "The device 700161 has 6 unique analysis dates.\n",
      "The device 700172 has 5 unique analysis dates.\n",
      "The device 70023512 Feb 2004 has 1 unique analysis dates.\n",
      "The device 70023610 Feb 2004 has 1 unique analysis dates.\n",
      "The device 70035714 Jul 2004 has 1 unique analysis dates.\n",
      "The device 70035814 Jul 2004 has 1 unique analysis dates.\n",
      "The device 70037314 Sep 2004 has 1 unique analysis dates.\n",
      "The device 700373 8 Sep 2004 has 1 unique analysis dates.\n",
      "The device 70038213 Sep 2004 has 1 unique analysis dates.\n",
      "The device 70038315 Sep 2004 has 1 unique analysis dates.\n",
      "The device 700384 8 Sep 2004 has 1 unique analysis dates.\n",
      "The device 70038629 Oct 2004 has 1 unique analysis dates.\n",
      "The device 81021311 Aug 2004 has 1 unique analysis dates.\n",
      "The device 810213 has 1 unique analysis dates.\n",
      "The device 81059114 Oct 2004 has 1 unique analysis dates.\n",
      "The device 81130614 Oct 2004 has 1 unique analysis dates.\n",
      "The device 811687 5 Aug 2004 has 1 unique analysis dates.\n",
      "The device 81214214 Dec 2004 has 1 unique analysis dates.\n",
      "The device 812142 has 1 unique analysis dates.\n",
      "The device 81285024 May 2004 has 1 unique analysis dates.\n",
      "The device 812850 has 1 unique analysis dates.\n",
      "The device 813240 3 May 2004 has 1 unique analysis dates.\n",
      "The device 81326416 Aug 2004 has 1 unique analysis dates.\n",
      "The device 813298 has 2 unique analysis dates.\n",
      "The device 81331610 May 2004 has 1 unique analysis dates.\n",
      "The device 813443 has 2 unique analysis dates.\n",
      "The device 81347011 Aug 2004 has 1 unique analysis dates.\n",
      "The device 813470 has 1 unique analysis dates.\n",
      "The device 81406114 Dec 2004 has 1 unique analysis dates.\n",
      "The device 81406214 Dec 2004 has 1 unique analysis dates.\n",
      "The device 915355 has 4 unique analysis dates.\n",
      "The device 922606 3 May 2004 has 1 unique analysis dates.\n",
      "The device 923059 3 May 2004 has 1 unique analysis dates.\n",
      "The device 923060 has 1 unique analysis dates.\n",
      "The device C07P0410 Feb 2004 has 1 unique analysis dates.\n",
      "The device C35P01 3 May 2004 has 1 unique analysis dates.\n",
      "The device c35p0829 Oct 2004 has 1 unique analysis dates.\n",
      "The device c35p0929 Oct 2004 has 1 unique analysis dates.\n",
      "The device 70007923 Feb 2005 has 1 unique analysis dates.\n",
      "The device 700090 1 Apr 2005 has 1 unique analysis dates.\n",
      "The device 700090 has 2 unique analysis dates.\n",
      "The device 700095 has 3 unique analysis dates.\n",
      "The device 700098 3 Aug 2005 has 1 unique analysis dates.\n",
      "The device 70012028 Jul 2005 has 1 unique analysis dates.\n",
      "The device 700154 5 Jan 2005 has 1 unique analysis dates.\n",
      "The device 700155 5 Jan 2005 has 1 unique analysis dates.\n",
      "The device 700155 has 1 unique analysis dates.\n",
      "The device 700165 7 Apr 2005 has 1 unique analysis dates.\n",
      "The device 700167 has 2 unique analysis dates.\n",
      "The device 700179 5 Jan 2005 has 1 unique analysis dates.\n",
      "The device 700179 has 1 unique analysis dates.\n",
      "The device 70020816 May 2005 has 1 unique analysis dates.\n",
      "The device 70039318 Jan 2005 has 1 unique analysis dates.\n",
      "The device 700421 has 1 unique analysis dates.\n",
      "The device 700425 has 2 unique analysis dates.\n",
      "The device 809835 has 5 unique analysis dates.\n",
      "The device 81238631 Jan 2005 has 1 unique analysis dates.\n",
      "The device 81260331 Jan 2005 has 1 unique analysis dates.\n",
      "The device 81296811 Feb 2005 has 1 unique analysis dates.\n",
      "The device 814042 has 1 unique analysis dates.\n",
      "The device c:\\hpbasic\\customer\\WR15\\81416017 May 2005 has 1 unique analysis dates.\n",
      "The device 814249 1 Apr 2005 has 1 unique analysis dates.\n",
      "The device 814249 has 6 unique analysis dates.\n",
      "The device 915437 has 1 unique analysis dates.\n",
      "The device 953017 1 Aug 2005 has 1 unique analysis dates.\n",
      "The device C07P06 7 Apr 2005 has 1 unique analysis dates.\n",
      "The device cn24 5 Jan 2005 has 1 unique analysis dates.\n",
      "The device ctnp1123 Nov 2005 has 1 unique analysis dates.\n",
      "The device ctnp12 5 Jan 2005 has 1 unique analysis dates.\n",
      "The device 001870 has 1 unique analysis dates.\n",
      "The device 086214 has 1 unique analysis dates.\n",
      "The device 1869 9 May 2006 has 1 unique analysis dates.\n",
      "The device 186923 May 2006 has 1 unique analysis dates.\n",
      "The device 1870 8 May 2006 has 1 unique analysis dates.\n",
      "The device 700091 has 2 unique analysis dates.\n",
      "The device 700091 3 May 2006 has 1 unique analysis dates.\n",
      "The device 700235 has 1 unique analysis dates.\n",
      "The device 700236 has 1 unique analysis dates.\n",
      "The device 700237 has 1 unique analysis dates.\n",
      "The device 70045020 Mar 2006 has 1 unique analysis dates.\n",
      "The device 700467 has 2 unique analysis dates.\n",
      "The device 700478 has 1 unique analysis dates.\n",
      "The device 7325228 Jun 2006 has 1 unique analysis dates.\n",
      "The device 811862 2 Jun 2006 has 1 unique analysis dates.\n",
      "The device 811862 5 May 2006 has 1 unique analysis dates.\n",
      "The device 81208919 Dec 2006 has 1 unique analysis dates.\n",
      "The device 81312821 Jul 2006 has 1 unique analysis dates.\n",
      "The device 81319027 Jan 2006 has 1 unique analysis dates.\n",
      "The device 81350526 Jan 2006 has 1 unique analysis dates.\n",
      "The device 814059 has 1 unique analysis dates.\n",
      "The device 814120 has 2 unique analysis dates.\n",
      "The device 8230628 Jun 2006 has 1 unique analysis dates.\n",
      "The device 8308728 Jun 2006 has 1 unique analysis dates.\n",
      "The device 83646 4 May 2006 has 1 unique analysis dates.\n",
      "The device 8364623 May 2006 has 1 unique analysis dates.\n",
      "The device 83646 1 Jun 2006 has 1 unique analysis dates.\n",
      "The device 86214 1 Jun 2006 has 1 unique analysis dates.\n",
      "The device 91543731 Jan 2006 has 1 unique analysis dates.\n",
      "The device 923046 has 1 unique analysis dates.\n",
      "The device 95302210 May 2006 has 1 unique analysis dates.\n",
      "The device 95302328 Jun 2006 has 1 unique analysis dates.\n",
      "The device 953023 3 May 2006 has 1 unique analysis dates.\n",
      "The device 953023 has 1 unique analysis dates.\n",
      "The device ctnp1218 Dec 2006 has 1 unique analysis dates.\n",
      "The device ctnp1428 Jun 2006 has 1 unique analysis dates.\n",
      "The device 1870 has 1 unique analysis dates.\n",
      "The device 65525 has 1 unique analysis dates.\n",
      "The device 69329 has 1 unique analysis dates.\n",
      "The device 700158 9 Apr 2007 has 1 unique analysis dates.\n",
      "The device 70016119 Apr 2007 has 1 unique analysis dates.\n",
      "The device 700185 has 1 unique analysis dates.\n",
      "The device 700235\\ has 1 unique analysis dates.\n",
      "The device 70039313 Apr 2007 has 1 unique analysis dates.\n",
      "The device 700438 9 Apr 2007 has 1 unique analysis dates.\n",
      "The device 700484 has 2 unique analysis dates.\n",
      "The device 70048820 Apr 2007 has 1 unique analysis dates.\n",
      "The device 700492 has 2 unique analysis dates.\n",
      "The device 70049218 Apr 2007 has 1 unique analysis dates.\n",
      "The device 70049716 Apr 2007 has 1 unique analysis dates.\n",
      "The device 700500 has 1 unique analysis dates.\n",
      "The device 700507 has 1 unique analysis dates.\n",
      "The device 70050720 Apr 2007 has 1 unique analysis dates.\n",
      "The device 700508 has 1 unique analysis dates.\n",
      "The device 70050820 Apr 2007 has 1 unique analysis dates.\n",
      "The device 700526 has 2 unique analysis dates.\n",
      "The device 700527 has 1 unique analysis dates.\n",
      "The device 700528 has 3 unique analysis dates.\n",
      "The device 700529 has 2 unique analysis dates.\n",
      "The device 75143 has 1 unique analysis dates.\n",
      "The device 81197120 Apr 2007 has 1 unique analysis dates.\n",
      "The device 81208925 Apr 2007 has 1 unique analysis dates.\n",
      "The device 81215728 Aug 2007 has 1 unique analysis dates.\n",
      "The device 83655 has 1 unique analysis dates.\n",
      "The device 915416 has 1 unique analysis dates.\n",
      "The device 915417 has 1 unique analysis dates.\n",
      "The device 915418 has 1 unique analysis dates.\n",
      "The device 91543919 Apr 2007 has 1 unique analysis dates.\n",
      "The device 92261310 Apr 2007 has 1 unique analysis dates.\n",
      "The device 922662 has 1 unique analysis dates.\n",
      "The device 923051 has 2 unique analysis dates.\n",
      "The device 700534 has 1 unique analysis dates.\n",
      "The device 700535 has 1 unique analysis dates.\n",
      "The device 70015831 Jan 2008 has 1 unique analysis dates.\n",
      "The device 81220619 Aug 2008 has 1 unique analysis dates.\n",
      "The device 813471 has 1 unique analysis dates.\n",
      "The device 813551 has 1 unique analysis dates.\n",
      "The device 952466 has 1 unique analysis dates.\n",
      "The device 420350 2 Feb 2009 has 1 unique analysis dates.\n",
      "The device 70003528 Aug 2009 has 1 unique analysis dates.\n",
      "The device 70039318 Jun 2009 has 1 unique analysis dates.\n",
      "The device 700525 4 Jun 2009 has 1 unique analysis dates.\n",
      "The device 70054515 Jun 2009 has 1 unique analysis dates.\n",
      "The device 700563 has 2 unique analysis dates.\n",
      "The device 70056914 Jul 2009 has 1 unique analysis dates.\n",
      "The device 700569 has 1 unique analysis dates.\n",
      "The device 700570 has 1 unique analysis dates.\n",
      "The device 700575 has 1 unique analysis dates.\n",
      "The device 81212723 Jun 2009 has 1 unique analysis dates.\n",
      "The device 812154 has 1 unique analysis dates.\n",
      "The device 813035 has 1 unique analysis dates.\n",
      "The device 813055 has 1 unique analysis dates.\n",
      "The device 813445 has 1 unique analysis dates.\n",
      "The device 81350514 Jul 2009 has 1 unique analysis dates.\n",
      "The device 813551 2 Feb 2009 has 1 unique analysis dates.\n",
      "The device 81404314 Jul 2009 has 1 unique analysis dates.\n",
      "The device 81406228 Aug 2009 has 1 unique analysis dates.\n",
      "The device 81411614 Jul 2009 has 1 unique analysis dates.\n",
      "The device 814154 4 Jun 2009 has 1 unique analysis dates.\n",
      "The device 915438 has 2 unique analysis dates.\n",
      "The device 953033 has 1 unique analysis dates.\n",
      "The device 953043 has 2 unique analysis dates.\n",
      "The device CTNP14 has 1 unique analysis dates.\n",
      "The device CTNP15 has 1 unique analysis dates.\n",
      "The device 67634 has 1 unique analysis dates.\n",
      "The device 70009804 May 2010 has 1 unique analysis dates.\n",
      "The device 700156 has 1 unique analysis dates.\n",
      "The device 700438 has 2 unique analysis dates.\n",
      "The device 70045003 Sep 2010 has 1 unique analysis dates.\n",
      "The device 700450 has 1 unique analysis dates.\n",
      "The device 700463 has 1 unique analysis dates.\n",
      "The device 700521 has 1 unique analysis dates.\n",
      "The device 700523 has 1 unique analysis dates.\n",
      "The device 700524 has 1 unique analysis dates.\n",
      "The device 700530 has 1 unique analysis dates.\n",
      "The device 814053 has 1 unique analysis dates.\n",
      "The device 87400 has 1 unique analysis dates.\n",
      "The device 923044 has 1 unique analysis dates.\n",
      "The device 700171 has 1 unique analysis dates.\n",
      "The device 70037324 Aug 2011 has 1 unique analysis dates.\n",
      "The device 70051522 Aug 2011 has 1 unique analysis dates.\n",
      "The device 700601 has 1 unique analysis dates.\n",
      "The device 915466 has 1 unique analysis dates.\n",
      "The device 700604 has 1 unique analysis dates.\n",
      "The device 700608 has 1 unique analysis dates.\n",
      "The device 700612 has 1 unique analysis dates.\n",
      "The device 700613 has 1 unique analysis dates.\n",
      "The device 700614 has 1 unique analysis dates.\n",
      "The device 700615 has 1 unique analysis dates.\n",
      "The device 810128 has 1 unique analysis dates.\n",
      "The device 811580 has 1 unique analysis dates.\n",
      "The device 915450 has 1 unique analysis dates.\n",
      "The device 915451 has 1 unique analysis dates.\n",
      "The device CN13 has 1 unique analysis dates.\n",
      "The device ILC001 has 1 unique analysis dates.\n",
      "The device C07P04 has 1 unique analysis dates.\n",
      "The device prot21 has 1 unique analysis dates.\n"
     ]
    }
   ],
   "source": [
    "for device in history_frame[\"Device_Id\"].unique().tolist():\n",
    "    device_history=history_frame[history_frame[\"Device_Id\"]==device]\n",
    "    unique_analysis_dates=device_history[\"Analysis_Date\"].unique()\n",
    "    print(\"The device {0} has {1} unique analysis dates.\".format(device,len(unique_analysis_dates)))"
   ]
  },
  {
   "cell_type": "code",
   "execution_count": null,
   "metadata": {
    "collapsed": false
   },
   "outputs": [],
   "source": [
    "print device_history"
   ]
  },
  {
   "cell_type": "code",
   "execution_count": 51,
   "metadata": {
    "collapsed": false
   },
   "outputs": [
    {
     "name": "stdout",
     "output_type": "stream",
     "text": [
      "A1_011613\n",
      "<_sre.SRE_Match object at 0x0000000023225828>\n"
     ]
    }
   ],
   "source": [
    "file_location='CTN208.A1_011613'\n",
    "print file_location.split('.')[-1]\n",
    "print re.search('(.)+_(.)+',file_location.split('.')[-1]) or re.search('raw',file_location,re.IGNORECASE)"
   ]
  },
  {
   "cell_type": "code",
   "execution_count": null,
   "metadata": {
    "collapsed": true
   },
   "outputs": [],
   "source": []
  }
 ],
 "metadata": {
  "kernelspec": {
   "display_name": "Python 2",
   "language": "python",
   "name": "python2"
  },
  "language_info": {
   "codemirror_mode": {
    "name": "ipython",
    "version": 2
   },
   "file_extension": ".py",
   "mimetype": "text/x-python",
   "name": "python",
   "nbconvert_exporter": "python",
   "pygments_lexer": "ipython2",
   "version": "2.7.11"
  }
 },
 "nbformat": 4,
 "nbformat_minor": 0
}
