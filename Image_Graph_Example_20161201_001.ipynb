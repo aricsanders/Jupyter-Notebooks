{
 "cells": [
  {
   "cell_type": "markdown",
   "metadata": {},
   "source": [
    "# Image Bijective Graph\n",
    "This is a graph that connects different images types "
   ]
  },
  {
   "cell_type": "code",
   "execution_count": 1,
   "metadata": {
    "collapsed": false
   },
   "outputs": [
    {
     "name": "stdout",
     "output_type": "stream",
     "text": [
      "Importing Code.Utils.Names\n",
      "Importing Code.DataHandlers.NISTModels\n",
      "Importing Code.DataHandlers.GeneralModels\n",
      "Importing Code.DataHandlers.TouchstoneModels\n",
      "Importing Code.DataHandlers.XMLModels\n",
      "Importing Code.DataHandlers.RadiCALModels\n",
      "Importing Code.DataHandlers.ZipModels\n",
      "Importing Code.DataHandlers.Translations\n",
      "Importing Code.DataHandlers.StatistiCALModels\n",
      "Importing Code.DataHandlers.MUFModels\n",
      "Importing Code.Analysis.SParameter\n",
      "Importing Code.InstrumentControl.Instruments\n",
      "Importing Code.InstrumentControl.Experiments\n"
     ]
    }
   ],
   "source": [
    "from pyMeasure.Code.DataHandlers.GraphModels import *\n",
    "import PIL\n",
    "import os\n",
    "import re\n",
    "import base64\n",
    "from scipy import misc"
   ]
  },
  {
   "cell_type": "code",
   "execution_count": 3,
   "metadata": {
    "collapsed": false
   },
   "outputs": [],
   "source": [
    "im=PIL.Image.open('Rectangular_Graph_plot_20161130_001.png')"
   ]
  },
  {
   "cell_type": "code",
   "execution_count": 9,
   "metadata": {
    "collapsed": true
   },
   "outputs": [],
   "source": [
    "file_name='Rectangular_Graph_plot_20161130_001.png'\n",
    "directory=os.getcwd()\n",
    "def png_to_jpg(png_file_name):\n",
    "    [root_name,extension]=png_file_name.split(\".\")\n",
    "    jpeg_file_name=root_name+\".jpg\"\n",
    "    PIL.Image.open(png_file_name).save(jpeg_file_name)\n",
    "    return jpeg_file_name\n",
    "def file_to_Image(file_path):\n",
    "    new_image=PIL.Image.open(file_path)\n",
    "    if re.search(\".gif\",file_path,re.IGNORECASE):\n",
    "        new_image=new_image.convert(\"RGB\")\n",
    "    return new_image\n",
    "\n",
    "def Image_to_file(pil_image,file_path=None):\n",
    "    if file_path is None:\n",
    "        file_path=pil_image.filename\n",
    "    pil_image.save(file_path)\n",
    "    return file_path\n",
    "\n",
    "def Image_to_file_type(pil_image,file_path=None,extension=\"png\"):\n",
    "    \n",
    "    if file_path is None:\n",
    "        file_path=pil_image.filename\n",
    "    root_name=file_path.split(\".\")[0]\n",
    "    new_file_name=root_name+\".\"+extension.replace(\".\",\"\")\n",
    "    if re.search('jp|bmp',extension,re.IGNORECASE):\n",
    "        pil_image.convert('RGB')\n",
    "    print(\"{0} is {1}\".format(\"pil_image.mode\",pil_image.mode))\n",
    "    pil_image.save(new_file_name)\n",
    "    return new_file_name\n",
    "    \n",
    "def Image_to_thumbnail(pil_image,file_path=\"thumbnail.jpg\"):\n",
    "    size = (64, 64)\n",
    "    temp_image=pil_image.copy()\n",
    "    temp_image.thumbnail(size)\n",
    "    temp_image.save(file_path)\n",
    "    return file_path\n",
    "\n",
    "def png_to_base64(file_name):\n",
    "    in_file=open(file_name, \"rb\")\n",
    "    encoded=base64.b64encode(in_file.read())\n",
    "    return encoded\n",
    "\n",
    "def base64_to_png(base64_encoded_png,file_name=\"test.png\"):\n",
    "    out_file=open(file_name, \"wb\")\n",
    "    decoded=base64.b64decode(base64_encoded_png)\n",
    "    out_file.write(decoded)\n",
    "    out_file.close()\n",
    "    return file_name\n",
    " \n",
    "    \n",
    "def png_to_ndarray(file_name):\n",
    "    nd_array=misc.imread(file_name)\n",
    "    return nd_array\n",
    "\n",
    "def ndarray_to_png(nd_array,file_name=\"test.png\"):\n",
    "    misc.imsave(file_name,nd_array)\n",
    "    return file_name\n",
    "\n",
    "# change this to base64png\n",
    "def base64png_to_embeded_html(base64_encoded_png):\n",
    "    html_string=\"<img src='data:image/png;base64,{0}' />\".format(base64_encoded_png)\n",
    "    return html_string\n",
    "\n",
    "def embeded_html_to_base64png(html_string):\n",
    "    pattern=re.compile(\"<img src='data:image/png;base64,(?P<data>.+)' />\")\n",
    "    match=re.search(pattern,html_string)\n",
    "    if match:\n",
    "        encoded=match.groupdict()[\"data\"]\n",
    "    else:\n",
    "        raise\n",
    "    return encoded\n",
    "\n",
    "def ndarray_to_matplotlib(nd_array):\n",
    "    figure=plt.imshow(nd_array)\n",
    "    figure.axes.get_xaxis().set_visible(False)\n",
    "    figure.axes.get_yaxis().set_visible(False)\n",
    "    plt.show()\n"
   ]
  },
  {
   "cell_type": "code",
   "execution_count": 10,
   "metadata": {
    "collapsed": false
   },
   "outputs": [],
   "source": [
    "graph_options={\"graph_name\":\"Image Graph\",\n",
    "                  \"node_names\":['Image','png'],\n",
    "                  \"node_descriptions\":[\"PIL Image\",\"png\"],\n",
    "                  \"current_node\":'Image',\n",
    "                  \"state\":[1,0],\n",
    "                  \"data\":im,\n",
    "                  \"edge_2_to_1\":file_to_Image,\n",
    "                  \"edge_1_to_2\":lambda x: Image_to_file_type(x,file_path=\"test\",extension=\"png\")\n",
    "                 }\n",
    "image_graph=Graph(**graph_options)"
   ]
  },
  {
   "cell_type": "code",
   "execution_count": 17,
   "metadata": {
    "collapsed": true
   },
   "outputs": [],
   "source": [
    "image_graph.show()"
   ]
  },
  {
   "cell_type": "code",
   "execution_count": 11,
   "metadata": {
    "collapsed": false
   },
   "outputs": [],
   "source": [
    "image_graph.add_node(\"jpg\",\"Image\",lambda x: Image_to_file_type(x,file_path=\"test\",extension=\"jpg\"),\n",
    "                     \"Image\",file_to_Image,node_description=\"Jpg File\")\n",
    "image_graph.add_node(\"tiff\",\"Image\",lambda x: Image_to_file_type(x,file_path=\"test\",extension=\"tiff\"),\n",
    "                     \"Image\",file_to_Image,node_description=\"Tif File\")\n",
    "image_graph.add_node(\"gif\",\"Image\",lambda x: Image_to_file_type(x,file_path=\"test\",extension=\"gif\"),\n",
    "                     \"Image\",file_to_Image,node_description=\"Gif File\")\n",
    "image_graph.add_node(\"bmp\",\"Image\",lambda x: Image_to_file_type(x,file_path=\"test\",extension=\"bmp\"),\n",
    "                     \"Image\",file_to_Image,node_description=\"BMP File\")\n",
    "image_graph.add_node(\"base64\",\"png\",png_to_base64,\n",
    "                     \"png\",base64_to_png,node_description=\"Base 64 PNG\")\n",
    "image_graph.add_node(\"embededHTML\",\"base64\",base64png_to_embeded_html,\n",
    "                     \"base64\",embeded_html_to_base64png,node_description=\"Embeded HTML of PNG\")\n",
    "image_graph.add_node(\"ndarray\",\"png\",png_to_ndarray,\n",
    "                     \"png\",ndarray_to_png,node_description=\"Numpy Array\")\n",
    "image_graph.add_external_node(\"thumbnail\",\"Image\",Image_to_thumbnail,external_node_description=\"JPEG Thumbnail\")\n",
    "image_graph.add_external_node(\"matplotlib\",\"ndarray\",ndarray_to_matplotlib,\n",
    "                              external_node_description=\"Matplotlib Plot\")"
   ]
  },
  {
   "cell_type": "code",
   "execution_count": 13,
   "metadata": {
    "collapsed": false
   },
   "outputs": [],
   "source": [
    "image_graph.show(descriptions=True)"
   ]
  },
  {
   "cell_type": "code",
   "execution_count": 19,
   "metadata": {
    "collapsed": false
   },
   "outputs": [
    {
     "name": "stdout",
     "output_type": "stream",
     "text": [
      "between_list is [False]\n",
      "['edge_Image_png_000']\n",
      "moving Image -> png\n",
      "pil_image.mode is RGBA\n",
      "png\n"
     ]
    },
    {
     "data": {
      "image/png": "[encoded data removed]",
      "text/plain": [
       "<IPython.core.display.Image object>"
      ]
     },
     "metadata": {},
     "output_type": "display_data"
    }
   ],
   "source": [
    "from ipywidgets import *\n",
    "from IPython.display import Image,display,HTML\n",
    "image_graph.set_state(\"Image\",im)\n",
    "def move_and_show(node_name):\n",
    "    image_graph.move_to_node(node_name)\n",
    "    print(\"{0}\".format(node_name))\n",
    "    if node_name is \"Image\":\n",
    "        print(\"PIL Image Class\")\n",
    "    elif node_name in [\"png\",\"jpg\"]:\n",
    "        display(Image(image_graph.data,embed=True))\n",
    "    elif node_name in [\"base64\"]:\n",
    "        display(HTML(\"<img src='data:image/png;base64,{0}' />\".format(image_graph.data)))\n",
    "    elif node_name in [\"embededHTML\"]:\n",
    "        display(HTML(image_graph.data))\n",
    "        #print image_graph.data \n",
    "    elif node_name in [\"ndarray\"]:\n",
    "        plt.imshow(image_graph.data)\n",
    "        plt.show()\n",
    "    else:\n",
    "        display(HTML(\"<img src='{0}' />\".format(image_graph.data)))\n",
    "interact(move_and_show,node_name=image_graph.node_names)"
   ]
  },
  {
   "cell_type": "code",
   "execution_count": 18,
   "metadata": {
    "collapsed": false
   },
   "outputs": [
    {
     "name": "stdout",
     "output_type": "stream",
     "text": [
      "between_list is [False, False, False]\n",
      "between_list is [False, False, False]\n",
      "between_list is [False, False, False]\n",
      "['edge_embededHTML_base64_000', 'edge_base64_png_000', 'edge_png_Image_000']\n",
      "moving embededHTML -> base64\n",
      "moving base64 -> png\n",
      "moving png -> Image\n"
     ]
    },
    {
     "data": {
      "text/plain": [
       "'thumbnail.jpg'"
      ]
     },
     "execution_count": 18,
     "metadata": {},
     "output_type": "execute_result"
    }
   ],
   "source": [
    "image_graph.jump_to_external_node(\"thumbnail\")"
   ]
  },
  {
   "cell_type": "code",
   "execution_count": 15,
   "metadata": {
    "collapsed": true
   },
   "outputs": [],
   "source": [
    "image_graph.show()"
   ]
  },
  {
   "cell_type": "code",
   "execution_count": 16,
   "metadata": {
    "collapsed": true
   },
   "outputs": [],
   "source": [
    "from scipy.io import savemat,loadmat\n",
    "new_figure=loadmat(\"PropagationConstant.fig\")"
   ]
  },
  {
   "cell_type": "code",
   "execution_count": 17,
   "metadata": {
    "collapsed": false
   },
   "outputs": [],
   "source": [
    "def fig_to_matplotlib(filename,fignr=1):\n",
    "    \"Function that uses loadmat to create a matplotlib plot of a matlab fig file\"\n",
    "    from scipy.io import loadmat\n",
    "    from numpy import size\n",
    "    from matplotlib.pyplot import plot,figure,hold,xlabel,ylabel,show,clf,xlim,legend\n",
    "    d = loadmat(filename,squeeze_me=True, struct_as_record=False)\n",
    "    ax1 = d['hgS_070000'].children\n",
    "    if size(ax1) > 1:\n",
    "        legs= ax1[1]\n",
    "        ax1 = ax1[0]\n",
    "    else:\n",
    "        legs=0\n",
    "    figure(fignr)\n",
    "    clf()\n",
    "    hold(True)\n",
    "    counter = 0    \n",
    "    for line in ax1.children:\n",
    "        if line.type == 'graph2d.lineseries':\n",
    "            if hasattr(line.properties,'Marker'):\n",
    "                mark = \"%s\" % line.properties.Marker\n",
    "                mark = mark[0]\n",
    "            else:\n",
    "                mark = '.'\n",
    "            if hasattr(line.properties,'LineStyle'):\n",
    "                linestyle = \"%s\" % line.properties.LineStyle\n",
    "            else:\n",
    "                linestyle = '-'\n",
    "            if hasattr(line.properties,'Color'):\n",
    "                r,g,b =  line.properties.Color\n",
    "            else:\n",
    "                r = 0\n",
    "                g = 0\n",
    "                b = 1\n",
    "            if hasattr(line.properties,'MarkerSize'):\n",
    "                marker_size = line.properties.MarkerSize\n",
    "            else:\n",
    "                marker_size = 1                \n",
    "            x = line.properties.XData\n",
    "            y = line.properties.YData\n",
    "            plot(x,y,marker=mark,linestyle=linestyle,color=(r,g,b),markersize=marker_size)\n",
    "        elif line.type == 'text':\n",
    "            if counter <1:\n",
    "                #print(dir(line.properties))\n",
    "                counter += 1\n",
    "            elif counter < 2:\n",
    "                #print dir(line.properties.String)\n",
    "                xlabel(\"%s\" % line.properties.String,fontsize = 16)\n",
    "                counter += 1 \n",
    "            elif counter < 3:\n",
    "                #print dir(line.properties.String)\n",
    "                ylabel(\"%s\" % line.properties.String,fontsize = 16)\n",
    "                counter += 1 \n",
    "    xlim(ax1.properties.XLim)\n",
    "    if legs:        \n",
    "        leg_entries = tuple(legs.properties.String)\n",
    "        py_locs = ['upper center','lower center','right','left','upper right','upper left','lower right','lower left','best']\n",
    "        MAT_locs=['North','South','East','West','NorthEast', 'NorthWest', 'SouthEast', 'SouthWest','Best']\n",
    "        Mat2py = dict(zip(MAT_locs,py_locs))\n",
    "        location = legs.properties.Location\n",
    "        legend(leg_entries,loc=Mat2py[location])\n",
    "    hold(False)\n",
    "    show()"
   ]
  },
  {
   "cell_type": "code",
   "execution_count": 18,
   "metadata": {
    "collapsed": false,
    "scrolled": true
   },
   "outputs": [],
   "source": [
    "fig_to_matplotlib(\"PropagationConstant.fig\")"
   ]
  },
  {
   "cell_type": "code",
   "execution_count": 19,
   "metadata": {
    "collapsed": false
   },
   "outputs": [],
   "source": [
    "fig_to_matplotlib(\"CharacteristicImpedance.fig\")"
   ]
  },
  {
   "cell_type": "markdown",
   "metadata": {
    "collapsed": true
   },
   "source": [
    "<img src=\"test.png\" />"
   ]
  }
 ],
 "metadata": {
  "kernelspec": {
   "display_name": "Python 2",
   "language": "python",
   "name": "python2"
  },
  "language_info": {
   "codemirror_mode": {
    "name": "ipython",
    "version": 2
   },
   "file_extension": ".py",
   "mimetype": "text/x-python",
   "name": "python",
   "nbconvert_exporter": "python",
   "pygments_lexer": "ipython2",
   "version": "2.7.12"
  },
  "widgets": {
   "state": {
    "55b2d05228d64d22b818ac2af7bd6c30": {
     "views": [
      {
       "cell_index": 11
      }
     ]
    }
   },
   "version": "1.2.0"
  }
 },
 "nbformat": 4,
 "nbformat_minor": 0
}
