{
 "cells": [
  {
   "cell_type": "code",
   "execution_count": 1,
   "metadata": {
    "collapsed": false
   },
   "outputs": [
    {
     "name": "stdout",
     "output_type": "stream",
     "text": [
      "Importing pyMez, this should take roughly 30 seconds\n",
      "Importing Code.DataHandlers.GeneralModels\n",
      "It took 1.425 s to import Code.DataHandlers.GeneralModels\n",
      "Importing Code.DataHandlers.HTMLModels\n",
      "It took 0.221 s to import Code.DataHandlers.HTMLModels\n",
      "Importing Code.DataHandlers.NISTModels\n",
      "It took 3.332 s to import Code.DataHandlers.NISTModels\n",
      "Importing Code.DataHandlers.TouchstoneModels\n",
      "It took 0.005 s to import Code.DataHandlers.TouchstoneModels\n",
      "Importing Code.DataHandlers.XMLModels\n",
      "It took 0.127 s to import Code.DataHandlers.XMLModels\n",
      "Importing Code.DataHandlers.ZipModels\n",
      "It took 0.011 s to import Code.DataHandlers.ZipModels\n",
      "Importing Code.InstrumentControl.Experiments\n",
      "It took 0.645 s to import Code.InstrumentControl.Experiments\n",
      "Importing Code.InstrumentControl.Instruments\n",
      "It took 0.008 s to import Code.InstrumentControl.Instruments\n",
      "Importing Code.Utils.Names\n",
      "It took 0.005 s to import Code.Utils.Names\n",
      "It took 5.779 s to import all of the active modules\n"
     ]
    }
   ],
   "source": [
    "from pyMez import *"
   ]
  },
  {
   "cell_type": "code",
   "execution_count": 2,
   "metadata": {
    "collapsed": false
   },
   "outputs": [
    {
     "name": "stdout",
     "output_type": "stream",
     "text": [
      "Agilent Technologies,86100C,MY47440684,A.08.00\n",
      " is at address GPIB0::7::INSTR\n",
      "Rohde&Schwarz,ZVA67-4Port,1312700403101122,3.90\n",
      " is at address GPIB0::20::INSTR\n",
      "Rohde&Schwarz,NRP,102508,06.01\n",
      " is at address GPIB0::14::INSTR\n"
     ]
    }
   ],
   "source": [
    "whos_there()"
   ]
  },
  {
   "cell_type": "code",
   "execution_count": 3,
   "metadata": {
    "collapsed": true
   },
   "outputs": [],
   "source": [
    "zva=VNA(\"GPIB::20\")"
   ]
  },
  {
   "cell_type": "code",
   "execution_count": 8,
   "metadata": {
    "collapsed": true
   },
   "outputs": [],
   "source": [
    "zva.add_all_traces()"
   ]
  },
  {
   "cell_type": "code",
   "execution_count": 9,
   "metadata": {
    "collapsed": true
   },
   "outputs": [],
   "source": [
    "zva.clear_window()"
   ]
  },
  {
   "cell_type": "code",
   "execution_count": 10,
   "metadata": {
    "collapsed": true
   },
   "outputs": [],
   "source": [
    "zva.initialize_w2p()"
   ]
  },
  {
   "cell_type": "code",
   "execution_count": 25,
   "metadata": {
    "collapsed": false
   },
   "outputs": [
    {
     "data": {
      "text/plain": [
       "(69L, <StatusCode.success: 0>)"
      ]
     },
     "execution_count": 25,
     "metadata": {},
     "output_type": "execute_result"
    }
   ],
   "source": [
    "zva.write(\"\"\"SOURce:FREQuency{port}:CONVersion:ARBitrary:IFRequency {numerator},\n",
    "{denominator}, {offset}, SWE\"\"\".format(**{\"channel\":1,\n",
    "                                         \"port\":1,\n",
    "                                         \"numerator\":512,\n",
    "                                         \"denominator\":512,\"offset\":0.*1.024/8192.*10**9}).replace(\"\\n\",\"\"))"
   ]
  },
  {
   "cell_type": "code",
   "execution_count": 3,
   "metadata": {
    "collapsed": true
   },
   "outputs": [],
   "source": [
    "import os\n",
    "import re\n"
   ]
  },
  {
   "cell_type": "code",
   "execution_count": 2,
   "metadata": {
    "collapsed": false
   },
   "outputs": [
    {
     "data": {
      "text/plain": [
       "'C:\\\\Users\\\\sandersa\\\\PyCharmProjects\\\\Jupyter-Notebooks'"
      ]
     },
     "execution_count": 2,
     "metadata": {},
     "output_type": "execute_result"
    }
   ],
   "source": [
    "os.getcwd()"
   ]
  },
  {
   "cell_type": "code",
   "execution_count": 18,
   "metadata": {
    "collapsed": true
   },
   "outputs": [],
   "source": [
    "notebooks=[]\n",
    "for file_name in os.listdir(os.getcwd()):\n",
    "    if re.search(\".ipynb(\\s)*(?!.)\",file_name,re.IGNORECASE):\n",
    "        notebooks.append(file_name)"
   ]
  },
  {
   "cell_type": "code",
   "execution_count": 19,
   "metadata": {
    "collapsed": false
   },
   "outputs": [
    {
     "data": {
      "text/plain": [
       "['.~table_graph_to_links_scratch_20170413.ipynb',\n",
       " '292_Comparison_MUF_Calrep_MeasLp_20170508_001.ipynb',\n",
       " '35_Comparison_MUF_Calrep_MeasLp_20170509_001.ipynb',\n",
       " '35_Comparison_MUF_Calrep_MeasLp_20170824_001.ipynb',\n",
       " 'A story about calibration uncertainities.ipynb',\n",
       " 'Activities_Scratch_20170228_001.ipynb',\n",
       " 'AsciiDataTable_Example_20160226_001.ipynb',\n",
       " 'AsciiDataTable_to_NumpyArray_Test_20180625.ipynb',\n",
       " 'Ascii_String_to_Image_development_20180729.ipynb',\n",
       " 'ASC_History_Plot_20160811_001.ipynb',\n",
       " 'ASC_History_Plot_20160824_001.ipynb',\n",
       " 'Automating_MUF_Example_20171003.ipynb',\n",
       " 'Basic Random Numbers.ipynb',\n",
       " 'Binary_Encoding_Example_20180622.ipynb',\n",
       " 'Building_Calnet_Example_20160201_01.ipynb',\n",
       " 'Building_CheckStandard_Example_20161109_001.ipynb',\n",
       " 'Building_Training_Set_20180717.ipynb',\n",
       " 'Building_Training_Set_20180717_002.ipynb',\n",
       " 'Building_Training_Set__By_Device_Type_20180720.ipynb',\n",
       " 'Button_Links_test_20180709.ipynb',\n",
       " 'Calibration_StatistiCAL_20160715_001.ipynb',\n",
       " 'Calibration_StatistiCAL_20160914_001.ipynb',\n",
       " 'Calling_MUF_Python_20160330_001.ipynb',\n",
       " 'Calling_MUF_Python_20160526_001.ipynb',\n",
       " 'Calrep_Comparision_20161212_001.ipynb',\n",
       " 'Calrep_Comparision_20161212_002.ipynb',\n",
       " 'Calrep_MUF_Comparison_20160906_001.ipynb',\n",
       " 'calrep_subtraction_scratch_20160114_001.ipynb',\n",
       " 'Calrep_Two_Port_Example_20161204_001.ipynb',\n",
       " 'CCG_Talk_Scratch_20170825.ipynb',\n",
       " 'CheckStandard_History_Comparision__Plot_20160509_001.ipynb',\n",
       " 'Check_Standard_20160420_001.ipynb',\n",
       " 'Check_Standard_Selection_Example.ipynb',\n",
       " 'Code_Hidding_Button_Example.ipynb',\n",
       " 'Collection_Of_Development_20180728.ipynb',\n",
       " 'Compare_MUF_Uncertainy_Types_Example_20170204.ipynb',\n",
       " 'COM_StatistiCAL_Example_20160525_001.ipynb',\n",
       " 'Convert_All_ASC_files_20160425_001.ipynb',\n",
       " 'Convert_All_Raw_SParameter_Power_20160427_001.ipynb',\n",
       " 'Creating_Checkstandard_Report_Example.ipynb',\n",
       " 'Creating_Comparing_Reference_Curves_MUFModels.ipynb',\n",
       " 'Cube_Locator_20180218.ipynb',\n",
       " 'Current_Acquistion_Analysis_Routine_20160113_001.ipynb',\n",
       " 'cut_and_paste_scratch_20170218.ipynb',\n",
       " 'Data Overview.ipynb',\n",
       " 'DataHandlers_Format_Handling.ipynb',\n",
       " 'DataHandlers_Interactive_Example.ipynb',\n",
       " 'DataTable_Graph_Example_20161130_001.ipynb',\n",
       " 'DataTable_Graph_Example_20161201_001.ipynb',\n",
       " 'DataTable_Graph_Example_20180622.ipynb',\n",
       " 'Data_Guidance_Group_01.ipynb',\n",
       " 'Debug_AsciiDataTable_Save_Schema_001.ipynb',\n",
       " 'Debug_Save_Load_State_20170505.ipynb',\n",
       " 'Development_Stack_Installation_Example_20160130_01.ipynb',\n",
       " 'Development_Stack_Installation_Jennifer_20160412.ipynb',\n",
       " 'DjangoUtils_RegisterModels_Example_20160205_01.ipynb',\n",
       " 'Django_Frontends_thoughts_20180731.ipynb',\n",
       " 'Django_Notes_20160326_001.ipynb',\n",
       " 'Django_Scratch_20170313_001.ipynb',\n",
       " 'ECPV_Datamodel_20160520_001.ipynb',\n",
       " 'ECPV_Example_20160518_001.ipynb',\n",
       " 'ECPV_Scratch_20161219_001.ipynb',\n",
       " 'ECPV_Scratch_20180625.ipynb',\n",
       " 'Error_Correction_Comparison_pyMeasure_StatistiCAL_20160831_001.ipynb',\n",
       " 'Error_Correction_Comparison_Reciprocal_Non.ipynb',\n",
       " 'Error_Plots_20161013.ipynb',\n",
       " 'Examples_Needed_For_pyMez_20180404.ipynb',\n",
       " 'Example_AutoName_20160121_001.ipynb',\n",
       " 'Example_JBConversion_20160121_01.ipynb',\n",
       " 'Example_Plots.ipynb',\n",
       " 'Example_Plots_spectral_entropy.ipynb',\n",
       " 'Fabrication_Model_Development_20180122.ipynb',\n",
       " 'FileRegister_Development_20180901.ipynb',\n",
       " 'Fix_Meas_File_Paths_20160328_001.ipynb',\n",
       " 'Functional_Model_Example_20160223_001.ipynb',\n",
       " 'Functional_Model_Example_20161231_001.ipynb',\n",
       " 'General_Analysis_Development_20180726.ipynb',\n",
       " 'Git_Example_20160218_001.ipynb',\n",
       " 'GraphModels_Example_20180514.ipynb',\n",
       " 'GraphModel_Development_20180620.ipynb',\n",
       " 'Graph_Model_Transformation_Table_Example.ipynb',\n",
       " 'Graph_Transformations_Scratch_20170228_001.ipynb',\n",
       " 'Harmonic_Phase_Stability_20180420.ipynb',\n",
       " 'Harmonic_Phase_Stability_Data_Analysis_20180423.ipynb',\n",
       " 'Help_Example_20160818_001.ipynb',\n",
       " 'help_scratch_20160113_001.ipynb',\n",
       " 'HPBasic_Installation_20160218_001.ipynb',\n",
       " 'HTML_Add_links_scratch_20180628.ipynb',\n",
       " 'HTML_ASCII_Conversion_20160218_001.ipynb',\n",
       " 'HTML_CSS_Javascript_Example_20170201_001.ipynb',\n",
       " 'HTML_Scratch_20161216_001.ipynb',\n",
       " 'Image_Graph_Debug_20161130_001.ipynb',\n",
       " 'Image_Graph_Example_20161130_001.ipynb',\n",
       " 'Image_Graph_Example_20161201_001.ipynb',\n",
       " 'Import_Calrep_20160223_001.ipynb',\n",
       " 'Import_JBSparameter_Format_Example_201603232016.ipynb',\n",
       " 'Instrument_Control_Outline_20170417_001.ipynb',\n",
       " 'Instrument_Control_Outline_20170425_001.ipynb',\n",
       " 'Join_XML_Example_20160816_001.ipynb',\n",
       " 'Jupyter_Autolaunch_Scratch_20180124.ipynb',\n",
       " 'Jupyter_Rich_Display_Scratch_20161201_001.ipynb',\n",
       " 'jupyter_scratch_20170202_001.ipynb',\n",
       " 'Linear_Simulation_Fit.ipynb',\n",
       " 'Long_Duration_LSNA_Data_Analysis_2018029.ipynb',\n",
       " 'LSNA_Example_20180104.ipynb',\n",
       " 'LSNA_MUF_Example_20180108.ipynb',\n",
       " 'LSNA_ZVA_20171207.ipynb',\n",
       " 'Markdown_Example_20160129_01.ipynb',\n",
       " 'Markdown_Example_20160619_001.ipynb',\n",
       " 'Metadata_Graph_Example_20161207_001.ipynb',\n",
       " 'Metadata_Scratch_20160601_001.ipynb',\n",
       " 'Midyear_20170407.ipynb',\n",
       " 'Model_Conversion_For_MUF_20170914.ipynb',\n",
       " 'Montecarlo_20160408_001.ipynb',\n",
       " 'Montecarlo_Analysis_20180805.ipynb',\n",
       " 'Moving_Notes_20170321.ipynb',\n",
       " 'MUFModels_Development_20170908.ipynb',\n",
       " 'MUF_Example_20160712_001.ipynb',\n",
       " 'MUF_XML_Example_20180131.ipynb',\n",
       " 'Multidimensional_Calibration_Comparisions_20170127.ipynb',\n",
       " 'Multidimensional_Calibration_Comparison_20170918.ipynb',\n",
       " 'Multidimensional_Calibration_Comparison_20171115.ipynb',\n",
       " 'Multidimensional_Calibration_Comparison_20180717_001.ipynb',\n",
       " 'Multidimensional_Calibration_Comparison_3GHz_20171012.ipynb',\n",
       " 'Multiline_Scratch_20170821.ipynb',\n",
       " 'NIST_Uncertainty_Example_20161104_001.ipynb',\n",
       " 'NoiseCal.ipynb',\n",
       " 'Nonlinear_Class_Notes_20170503_001.ipynb',\n",
       " 'Opencv_example_20180727.ipynb',\n",
       " 'Pandas_Transformation_Scractch_20161117_001.ipynb',\n",
       " 'Parameter_Transform_Scratch_20180404.ipynb',\n",
       " 'PCA_Reduction_Error_20171016.ipynb',\n",
       " 'pdoc_Test_20160116.ipynb',\n",
       " 'plotly_example_20160316_001.ipynb',\n",
       " 'PNAGrabber_MUF_Example.ipynb',\n",
       " 'Power_Check_Standard_Report.ipynb',\n",
       " 'Producing_Standard_Reference_Curve_20170214.ipynb',\n",
       " 'Proposed_Instrument_Control_Flow_20170411.ipynb',\n",
       " 'pyMeasure_Documentation_20170216_001.ipynb',\n",
       " 'pyMeasure_Example_20160621_001.ipynb',\n",
       " 'pyMeasure_Module_Specification.ipynb',\n",
       " 'pyMeasure_Old_Data_Scratch_20160111_001.ipynb',\n",
       " 'Pythonnet_CLR_Example_20160328_001.ipynb',\n",
       " 'Python_Introduction_20160627.ipynb',\n",
       " 'Python_Introduction_20160701.ipynb',\n",
       " 'Radical_Correction_Comparision_20160906_001.ipynb',\n",
       " 'Radical_javascript_Scratch_20161001_001.ipynb',\n",
       " 'Rectangular_Data_Table_Bijective_Example_20160328_001.ipynb',\n",
       " 'Rectangular_Data_Table_Bijective_Example_20161121_001.ipynb',\n",
       " 'Rectangular_Data_Table_Bijective_Example_20161129_001.ipynb',\n",
       " 'Rectangular_Data_Table_Bijective_Example_20161201_001.ipynb',\n",
       " 'Refactoring_VNAFreqV8_Example.ipynb',\n",
       " 'Regular_Expressions_Example_20180410.ipynb',\n",
       " 'Results_Files_Combining_20161114_001.ipynb',\n",
       " 'Role_Django_pyMeasure_20170321_001.ipynb',\n",
       " 'Round_Robin_Example_20160507_001.ipynb',\n",
       " 'Scopes_Service_Scratch_20180111.ipynb',\n",
       " 'Scope_Trial_20180111.ipynb',\n",
       " 'Scratch_04282017_001.ipynb',\n",
       " 'scratch_20160818.ipynb',\n",
       " 'Series_Resistor_Calibration_Implementation_20170324_001.ipynb',\n",
       " 'Set_XML_Scratch_20160901_001.ipynb',\n",
       " 'Single Parameter Calibrations.ipynb',\n",
       " 'SNP_Plot_scratch_20180628.ipynb',\n",
       " 'SNP_Processing_Example_20160830_001.ipynb',\n",
       " 'SParameter_Correction_Example_20160808_001.ipynb',\n",
       " 'SParameter_Correction_Example_20160818_001.ipynb',\n",
       " 'Sparameter_Power_Data_Transformation_20160223_001.ipynb',\n",
       " 'Sparameter_Power_Data_Transformation_20160502_001.ipynb',\n",
       " 'Sparameter_Power_FileFormats_20160412_001.ipynb',\n",
       " 'SParameter_Power_Model_Subtraction_20161115_001.ipynb',\n",
       " 'Spectral_Entropy_Scratch_20180804.ipynb',\n",
       " 'String_Bijective_Network_Example_20160317_001.ipynb',\n",
       " 'Structured_Metadata_Example_20160325_001.ipynb',\n",
       " 'SVG_scratch_20170328_001.ipynb',\n",
       " 'Sympy_Example_20160909_001.ipynb',\n",
       " 'table_graph_to_links_scratch_20170413.ipynb',\n",
       " 'Touchstone_Example_20160314_001.ipynb',\n",
       " 'Transformations_Scratch_20180227.ipynb',\n",
       " 'Translations_Scratch_20161213_001.ipynb',\n",
       " 'Trigger_Reproduce_Trial_20180202_001.ipynb',\n",
       " 'Trigger_Reproduce_Trial_20180416_001.ipynb',\n",
       " 'TRL_MonteCarlo_Instability_20171107.ipynb',\n",
       " 'TwoPort_Calrep_201604012016_001.ipynb',\n",
       " 'Two_Port_Calrep_DUT_Converter_20160424_001.ipynb',\n",
       " 'Two_Port_Correct_Uncorrect_Example_001.ipynb',\n",
       " 'Two_Port_Graph_20161215_001.ipynb',\n",
       " 'Two_Port_Matrix_Parameters_20170105_001.ipynb',\n",
       " 'Two_Port_Matrix_Parameters_Debug_20170105_001.ipynb',\n",
       " 'Uncertainity_Scratch_20151102_01.ipynb',\n",
       " 'Universal_Data_Translator_20170220.ipynb',\n",
       " 'Universal_Data_Translator_Scratch_20160110_001.ipynb',\n",
       " 'Untitled.ipynb',\n",
       " 'VNA_Control_Scratch_20170821.ipynb',\n",
       " 'VNA_Data_Acquistion_Example.ipynb',\n",
       " 'VNA_Tools_Training_20161018_001.ipynb',\n",
       " 'W2p_Class_Development_20180715.ipynb',\n",
       " 'WR15_Calibration_Analysis.ipynb',\n",
       " 'WR15_Calibration_Kit_Transfer_20180213.ipynb',\n",
       " 'WR15_Calibration_Kit_Transfer_20180223.ipynb',\n",
       " 'WR15_Data_Analysis_20180417_001.ipynb',\n",
       " 'WR15_OML_Heads_20180309.ipynb',\n",
       " 'WR15_OML_Heads_20180313.ipynb',\n",
       " 'WR15_OML_Heads_20180313_002.ipynb',\n",
       " 'Wx_Webview_Example_20170109_001.ipynb',\n",
       " 'XML_Log_Example.ipynb',\n",
       " 'ZIP_Example_20160915_001.ipynb']"
      ]
     },
     "execution_count": 19,
     "metadata": {},
     "output_type": "execute_result"
    }
   ],
   "source": [
    "notebooks"
   ]
  },
  {
   "cell_type": "code",
   "execution_count": 21,
   "metadata": {
    "collapsed": true
   },
   "outputs": [],
   "source": [
    "out_file=open(\"NotebookIndex.txt\",'w')\n",
    "for notebook in notebooks:\n",
    "    out_file.write(notebook+\"\\n\")\n",
    "out_file.close()"
   ]
  },
  {
   "cell_type": "code",
   "execution_count": null,
   "metadata": {
    "collapsed": true
   },
   "outputs": [],
   "source": []
  }
 ],
 "metadata": {
  "kernelspec": {
   "display_name": "Python 2",
   "language": "python",
   "name": "python2"
  },
  "language_info": {
   "codemirror_mode": {
    "name": "ipython",
    "version": 2
   },
   "file_extension": ".py",
   "mimetype": "text/x-python",
   "name": "python",
   "nbconvert_exporter": "python",
   "pygments_lexer": "ipython2",
   "version": "2.7.13"
  }
 },
 "nbformat": 4,
 "nbformat_minor": 2
}
