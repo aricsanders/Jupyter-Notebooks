{
 "cells": [
  {
   "cell_type": "code",
   "execution_count": 1,
   "metadata": {
    "collapsed": true
   },
   "outputs": [],
   "source": [
    "import pandas\n"
   ]
  },
  {
   "cell_type": "code",
   "execution_count": 1,
   "metadata": {
    "collapsed": false
   },
   "outputs": [
    {
     "name": "stdout",
     "output_type": "stream",
     "text": [
      "from django.conf.urls import url \n",
      "from . import views\n",
      "\n"
     ]
    }
   ],
   "source": [
    "urls_template_string=\"from django.conf.urls import url \\nfrom . import views\\n\"\n",
    "print urls_template_string"
   ]
  },
  {
   "cell_type": "code",
   "execution_count": 7,
   "metadata": {
    "collapsed": false
   },
   "outputs": [],
   "source": [
    "urls_imports=['from django.conf.urls import url\\n',\n",
    "             'from . import views\\n']\n",
    "app_name_line=\"app_name= '%s'\\n\"%'App1'\n",
    "url_pattern_lines=['urlpatterns= [\\n',\n",
    "                   \"  url(r'^$',views.index,name='index'),\\n\",\n",
    "                  '  ]\\n']\n",
    "\n",
    "test_file=open('urls.py','w')\n",
    "for line in urls_imports:\n",
    "    test_file.write(line)\n",
    "test_file.write(app_name_line)\n",
    "for line in url_pattern_lines:\n",
    "    test_file.write(line)\n",
    "test_file.close()"
   ]
  },
  {
   "cell_type": "code",
   "execution_count": 4,
   "metadata": {
    "collapsed": false
   },
   "outputs": [
    {
     "data": {
      "text/plain": [
       "'C:\\\\Users\\\\arics\\\\Jupyter-Notebooks'"
      ]
     },
     "execution_count": 4,
     "metadata": {},
     "output_type": "execute_result"
    }
   ],
   "source": [
    "import os\n",
    "os.getcwd()"
   ]
  },
  {
   "cell_type": "code",
   "execution_count": 13,
   "metadata": {
    "collapsed": false
   },
   "outputs": [],
   "source": [
    "def write_app_urls(app_name):\n",
    "    \"\"\"Writes a basic urls.py for a django-app\"\"\"\n",
    "    # Write the import string\n",
    "    urls_imports=['from django.conf.urls import url\\n',\n",
    "                 'from . import views\\n']\n",
    "    # write the app_name = line\n",
    "    app_name_line=\"app_name= '%s'\\n\"%app_name\n",
    "    # write the url patterns\n",
    "    url_pattern_lines=['urlpatterns= [\\n',\n",
    "                       \"  url(r'^$',views.index,name='index'),\\n\",\n",
    "                      '  ]\\n']\n",
    "    # open the file and do the work\n",
    "    out_file=open('urls.py','w')\n",
    "    for line in urls_imports:\n",
    "        out_file.write(line)\n",
    "    out_file.write(app_name_line)\n",
    "    for line in url_pattern_lines:\n",
    "        out_file.write(line)\n",
    "    out_file.close()"
   ]
  },
  {
   "cell_type": "code",
   "execution_count": 9,
   "metadata": {
    "collapsed": true
   },
   "outputs": [],
   "source": [
    "def write_project_urls(app_names):\n",
    "    \"\"\"Writes a basic urls.py for a django-project \n",
    "    given the app names\"\"\"\n",
    "    urls_imports=['from django.conf.urls import include, url\\n',\n",
    "                 'from django.contrib import admin\\n']\n",
    "    \n",
    "    url_pattern_lines=['urlpatterns= [\\n',\n",
    "                       \"  url(r'^admin/', admin.site.urls),\\n\"\n",
    "                      ]\n",
    "    for app_name in app_names:\n",
    "        url_pattern=\"  url(r'^%s/',include('%s.urls')),\\n\"%(app_name,app_name)\n",
    "        url_pattern_lines.append(url_pattern)\n",
    "    url_pattern_lines.append('  ]')\n",
    "\n",
    "    out_file=open('urls.py','w')\n",
    "    for line in urls_imports:\n",
    "        out_file.write(line)\n",
    "    for line in url_pattern_lines:\n",
    "        out_file.write(line)\n",
    "    out_file.close()"
   ]
  },
  {
   "cell_type": "code",
   "execution_count": 15,
   "metadata": {
    "collapsed": true
   },
   "outputs": [],
   "source": [
    "app_names=['Files','Help']\n",
    "write_project_urls(app_names)"
   ]
  },
  {
   "cell_type": "code",
   "execution_count": 16,
   "metadata": {
    "collapsed": false
   },
   "outputs": [],
   "source": [
    "write_app_urls('Files')"
   ]
  },
  {
   "cell_type": "code",
   "execution_count": 1,
   "metadata": {
    "collapsed": true
   },
   "outputs": [],
   "source": [
    "import registration"
   ]
  },
  {
   "cell_type": "code",
   "execution_count": 3,
   "metadata": {
    "collapsed": false
   },
   "outputs": [
    {
     "ename": "ImportError",
     "evalue": "No module named simple.hmacs.urls",
     "output_type": "error",
     "traceback": [
      "\u001b[1;31m---------------------------------------------------------------------------\u001b[0m",
      "\u001b[1;31mImportError\u001b[0m                               Traceback (most recent call last)",
      "\u001b[1;32m<ipython-input-3-1102e529e34a>\u001b[0m in \u001b[0;36m<module>\u001b[1;34m()\u001b[0m\n\u001b[1;32m----> 1\u001b[1;33m \u001b[1;32mimport\u001b[0m \u001b[0mregistration\u001b[0m\u001b[1;33m.\u001b[0m\u001b[0msimple\u001b[0m\u001b[1;33m.\u001b[0m\u001b[0mhmacs\u001b[0m\u001b[1;33m.\u001b[0m\u001b[0murls\u001b[0m\u001b[1;33m\u001b[0m\u001b[0m\n\u001b[0m",
      "\u001b[1;31mImportError\u001b[0m: No module named simple.hmacs.urls"
     ]
    }
   ],
   "source": [
    "import registration.simple.hmacs.urls\n"
   ]
  },
  {
   "cell_type": "code",
   "execution_count": 2,
   "metadata": {
    "collapsed": false
   },
   "outputs": [],
   "source": [
    "import Boa"
   ]
  },
  {
   "cell_type": "code",
   "execution_count": 1,
   "metadata": {
    "collapsed": false
   },
   "outputs": [
    {
     "name": "stdout",
     "output_type": "stream",
     "text": [
      "['A', 'Mock', 'File', 'Name', 'That', 'is', 'Mixed', 'with', 'multiple', 'characters', 'txt']\n",
      "['A', 'Mock', 'File', 'Name', 'That', 'is', 'Mixed', 'with', 'multiple', 'characters', 'txt']\n"
     ]
    }
   ],
   "source": [
    "import re\n",
    "test_string=\"A_Mock_FileName_That is Mixed.with multiple characters.txt\"\n",
    "test_string=re.sub(\"([\\a-z])([\\A-Z|\\d])\",r'\\1 \\2',test_string)\n",
    "test_list_1=re.split(\"[\\W|\\.|_]+\",test_string)\n",
    "test_list_2=re.split(\"[\\W|\\.|_]+\",test_string)\n",
    "print test_list_1\n",
    "print test_list_2"
   ]
  },
  {
   "cell_type": "code",
   "execution_count": 2,
   "metadata": {
    "collapsed": true
   },
   "outputs": [],
   "source": [
    "for item in test_list_2:\n",
    "    if item is None:\n",
    "        test_list_2.remove(item)"
   ]
  },
  {
   "cell_type": "code",
   "execution_count": 3,
   "metadata": {
    "collapsed": false
   },
   "outputs": [
    {
     "data": {
      "text/plain": [
       "['A',\n",
       " 'Mock',\n",
       " 'File',\n",
       " 'Name',\n",
       " 'That',\n",
       " 'is',\n",
       " 'Mixed',\n",
       " 'with',\n",
       " 'multiple',\n",
       " 'characters',\n",
       " 'txt']"
      ]
     },
     "execution_count": 3,
     "metadata": {},
     "output_type": "execute_result"
    }
   ],
   "source": [
    "test_list_2"
   ]
  },
  {
   "cell_type": "code",
   "execution_count": 42,
   "metadata": {
    "collapsed": false
   },
   "outputs": [
    {
     "data": {
      "text/plain": [
       "'gile Name 1'"
      ]
     },
     "execution_count": 42,
     "metadata": {},
     "output_type": "execute_result"
    }
   ],
   "source": [
    "test_string_2=\"gileName1\"\n",
    "re.sub(\"([\\a-z])([\\A-Z|\\d])\",r'\\1 \\2',test_string_2)"
   ]
  },
  {
   "cell_type": "code",
   "execution_count": 67,
   "metadata": {
    "collapsed": true
   },
   "outputs": [],
   "source": [
    "def split_file_name(filename):\n",
    "    \"\"\"Returns a list of file name pieces. The list will contain any CamelCase, snake_case or\n",
    "    common delimiter seperated words (last element is nominally the file extension\"\"\"\n",
    "    out_string=re.sub(\"([\\a-z])([\\A-Z])\",r'\\1 \\2',filename)\n",
    "    print out_string\n",
    "    out_list=re.split(\"[\\W|\\.|_]+\",out_string)\n",
    "    return out_list\n",
    "    "
   ]
  },
  {
   "cell_type": "code",
   "execution_count": 68,
   "metadata": {
    "collapsed": false
   },
   "outputs": [
    {
     "name": "stdout",
     "output_type": "stream",
     "text": [
      "X:\\ Calnet  Test  Files\\ Data  For  Playing\\20150930_ Q26 Ra_g5_ Song4_water\n"
     ]
    },
    {
     "data": {
      "text/plain": [
       "['X',\n",
       " 'Calnet',\n",
       " 'Test',\n",
       " 'Files',\n",
       " 'Data',\n",
       " 'For',\n",
       " 'Playing',\n",
       " '20150930',\n",
       " 'Q26',\n",
       " 'Ra',\n",
       " 'g5',\n",
       " 'Song4',\n",
       " 'water']"
      ]
     },
     "execution_count": 68,
     "metadata": {},
     "output_type": "execute_result"
    }
   ],
   "source": [
    "split_file_name(r\"X:\\Calnet Test Files\\Data For Playing\\20150930_Q26Ra_g5_Song4_water\")"
   ]
  },
  {
   "cell_type": "code",
   "execution_count": 64,
   "metadata": {
    "collapsed": false
   },
   "outputs": [
    {
     "data": {
      "text/plain": [
       "'\\x14'"
      ]
     },
     "execution_count": 64,
     "metadata": {},
     "output_type": "execute_result"
    }
   ],
   "source": [
    "chr(20)"
   ]
  },
  {
   "cell_type": "code",
   "execution_count": 66,
   "metadata": {
    "collapsed": false
   },
   "outputs": [
    {
     "data": {
      "text/plain": [
       "92"
      ]
     },
     "execution_count": 66,
     "metadata": {},
     "output_type": "execute_result"
    }
   ],
   "source": [
    "ord('\\\\')"
   ]
  },
  {
   "cell_type": "code",
   "execution_count": 15,
   "metadata": {
    "collapsed": false
   },
   "outputs": [
    {
     "name": "stdout",
     "output_type": "stream",
     "text": [
      "{'second': '2.000', 'first': '20.3'}\n"
     ]
    }
   ],
   "source": [
    "test_string='20.3\\t2.000'\n",
    "num_match=r'[+-]?(\\d+(\\.\\d*)?|\\.\\d+)([eE][+-]?\\d+)?'\n",
    "test_match='(?P<first>{0})[\\s]+(?P<second>{0})'.format(num_match)\n",
    "match=re.match(test_match,test_string)\n",
    "print match.groupdict()"
   ]
  },
  {
   "cell_type": "code",
   "execution_count": 24,
   "metadata": {
    "collapsed": false
   },
   "outputs": [
    {
     "name": "stdout",
     "output_type": "stream",
     "text": [
      "20.3\t.000\n"
     ]
    }
   ],
   "source": [
    "test_string='20.3\\t.000'\n",
    "num_match=r'[+-]?(\\d+(\\.\\d*)?|\\.\\d+)([eE][+-]?\\d+)?'\n",
    "test_match='{0}[\\s]+{0}'.format(num_match)\n",
    "match=re.match(test_match,test_string)\n",
    "print match.group(0)"
   ]
  },
  {
   "cell_type": "code",
   "execution_count": 14,
   "metadata": {
    "collapsed": false
   },
   "outputs": [
    {
     "name": "stdout",
     "output_type": "stream",
     "text": [
      "3.33e-2\n"
     ]
    }
   ],
   "source": [
    "num_match=r'[+-]?(\\d+(\\.\\d*)?|\\.\\d+)([eE][+-]?\\d+)?'\n",
    "test_num='3.33e-2'\n",
    "print re.match(num_match,test_num).group(0)"
   ]
  },
  {
   "cell_type": "code",
   "execution_count": 29,
   "metadata": {
    "collapsed": false
   },
   "outputs": [
    {
     "name": "stdout",
     "output_type": "stream",
     "text": [
      "{'value_8': '.001', 'value_5': '.9', 'value_4': '180.00', 'value_7': '.1', 'value_6': '180.00', 'value_1': '.1', 'value_0': '10.0', 'value_3': '.9', 'value_2': '.001'}\n"
     ]
    }
   ],
   "source": [
    "test_row_string='10.0  .1 .001 .9 180.00 .9 180.00\\t.1 .001'\n",
    "num_match=r'[+-]?(\\d+(\\.\\d*)?|\\.\\d+)([eE][+-]?\\d+)?'\n",
    "test_match=\"\"\n",
    "for i in range(9):\n",
    "    if i == 8:\n",
    "        test_match=test_match+\"(?P<value_%s>{0})\"%str(i)\n",
    "    else:\n",
    "        test_match=test_match+\"(?P<value_%s>{0})[\\s]+\"%str(i)\n",
    "\n",
    "test_match=test_match.format(num_match)\n",
    "match=re.match(test_match,test_row_string)\n",
    "print match.groupdict()"
   ]
  },
  {
   "cell_type": "code",
   "execution_count": null,
   "metadata": {
    "collapsed": true
   },
   "outputs": [],
   "source": []
  }
 ],
 "metadata": {
  "kernelspec": {
   "display_name": "Python 2",
   "language": "python",
   "name": "python2"
  },
  "language_info": {
   "codemirror_mode": {
    "name": "ipython",
    "version": 2
   },
   "file_extension": ".py",
   "mimetype": "text/x-python",
   "name": "python",
   "nbconvert_exporter": "python",
   "pygments_lexer": "ipython2",
   "version": "2.7.11"
  }
 },
 "nbformat": 4,
 "nbformat_minor": 0
}
