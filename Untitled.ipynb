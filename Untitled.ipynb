{
 "cells": [
  {
   "cell_type": "code",
   "execution_count": 1,
   "metadata": {
    "collapsed": true
   },
   "outputs": [],
   "source": [
    "import clr\n",
    "import sys\n",
    "import os"
   ]
  },
  {
   "cell_type": "code",
   "execution_count": 2,
   "metadata": {
    "collapsed": true
   },
   "outputs": [],
   "source": [
    "sys.path.append(r'C:\\Program Files (x86)\\NIST\\Uncertainty Framework')"
   ]
  },
  {
   "cell_type": "code",
   "execution_count": 19,
   "metadata": {
    "collapsed": false
   },
   "outputs": [
    {
     "ename": "FileNotFoundException",
     "evalue": "Unable to find assembly 'PNAGrabber'.\n   at Python.Runtime.CLRModule.AddReference(String name)",
     "output_type": "error",
     "traceback": [
      "\u001b[0;31m---------------------------------------------------------------------------\u001b[0m",
      "\u001b[0;31mFileNotFoundException\u001b[0m                     Traceback (most recent call last)",
      "\u001b[0;32m<ipython-input-19-7e20e321a5f3>\u001b[0m in \u001b[0;36m<module>\u001b[0;34m()\u001b[0m\n\u001b[1;32m      6\u001b[0m \u001b[1;31m# can't find these\u001b[0m\u001b[1;33m\u001b[0m\u001b[1;33m\u001b[0m\u001b[0m\n\u001b[1;32m      7\u001b[0m \u001b[1;31m#clr.AddReference(\"PNAUtility.dll\")\u001b[0m\u001b[1;33m\u001b[0m\u001b[1;33m\u001b[0m\u001b[0m\n\u001b[0;32m----> 8\u001b[0;31m \u001b[0mclr\u001b[0m\u001b[1;33m.\u001b[0m\u001b[0mAddReference\u001b[0m\u001b[1;33m(\u001b[0m\u001b[1;34m\"PNAGrabber\"\u001b[0m\u001b[1;33m)\u001b[0m\u001b[1;33m\u001b[0m\u001b[0m\n\u001b[0m",
      "\u001b[0;31mFileNotFoundException\u001b[0m: Unable to find assembly 'PNAGrabber'.\n   at Python.Runtime.CLRModule.AddReference(String name)"
     ]
    }
   ],
   "source": [
    "#clr.FindAssembly(r\"C:\\Share\\Archive MUF 1_04_0018\\UncertaintyCalculator\\PNAGrabber\\bin\\Debug\\PNAGrabber.exe\")\n",
    "clr.AddReference(\"WinCalIntoNIST\")\n",
    "clr.AddReference(\"Measurement\")\n",
    "clr.AddReference(\"VNAUncertainty\")\n",
    "\n",
    "# can't find these\n",
    "#clr.AddReference(\"PNAUtility.dll\")\n",
    "#clr.AddReference(\"PNAGrabber\")\n",
    "clr.AddReference(\"PNAUtility.dll\")"
   ]
  },
  {
   "cell_type": "code",
   "execution_count": 13,
   "metadata": {
    "collapsed": false
   },
   "outputs": [],
   "source": [
    "import Measurement"
   ]
  },
  {
   "cell_type": "code",
   "execution_count": 15,
   "metadata": {
    "collapsed": false
   },
   "outputs": [
    {
     "ename": "ImportError",
     "evalue": "No module named ConvertData",
     "output_type": "error",
     "traceback": [
      "\u001b[0;31m---------------------------------------------------------------------------\u001b[0m",
      "\u001b[0;31mImportError\u001b[0m                               Traceback (most recent call last)",
      "\u001b[0;32m<ipython-input-15-373e973f71b1>\u001b[0m in \u001b[0;36m<module>\u001b[0;34m()\u001b[0m\n\u001b[0;32m----> 1\u001b[0;31m \u001b[1;32mimport\u001b[0m \u001b[0mConvertData\u001b[0m\u001b[1;33m\u001b[0m\u001b[0m\n\u001b[0m",
      "\u001b[0;31mImportError\u001b[0m: No module named ConvertData"
     ]
    }
   ],
   "source": [
    "# cant import these\n",
    "#import ConvertData"
   ]
  },
  {
   "cell_type": "code",
   "execution_count": null,
   "metadata": {
    "collapsed": true
   },
   "outputs": [],
   "source": []
  }
 ],
 "metadata": {
  "kernelspec": {
   "display_name": "Python 2",
   "language": "python",
   "name": "python2"
  },
  "language_info": {
   "codemirror_mode": {
    "name": "ipython",
    "version": 2
   },
   "file_extension": ".py",
   "mimetype": "text/x-python",
   "name": "python",
   "nbconvert_exporter": "python",
   "pygments_lexer": "ipython2",
   "version": "2.7.13"
  }
 },
 "nbformat": 4,
 "nbformat_minor": 2
}
