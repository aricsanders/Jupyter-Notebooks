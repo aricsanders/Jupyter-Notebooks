{
 "cells": [
  {
   "cell_type": "code",
   "execution_count": 1,
   "metadata": {
    "collapsed": true
   },
   "outputs": [],
   "source": [
    "import pandas\n"
   ]
  },
  {
   "cell_type": "code",
   "execution_count": 1,
   "metadata": {
    "collapsed": false
   },
   "outputs": [
    {
     "name": "stdout",
     "output_type": "stream",
     "text": [
      "from django.conf.urls import url \n",
      "from . import views\n",
      "\n"
     ]
    }
   ],
   "source": [
    "urls_template_string=\"from django.conf.urls import url \\nfrom . import views\\n\"\n",
    "print urls_template_string"
   ]
  },
  {
   "cell_type": "code",
   "execution_count": 7,
   "metadata": {
    "collapsed": false
   },
   "outputs": [],
   "source": [
    "urls_imports=['from django.conf.urls import url\\n',\n",
    "             'from . import views\\n']\n",
    "app_name_line=\"app_name= '%s'\\n\"%'App1'\n",
    "url_pattern_lines=['urlpatterns= [\\n',\n",
    "                   \"  url(r'^$',views.index,name='index'),\\n\",\n",
    "                  '  ]\\n']\n",
    "\n",
    "test_file=open('urls.py','w')\n",
    "for line in urls_imports:\n",
    "    test_file.write(line)\n",
    "test_file.write(app_name_line)\n",
    "for line in url_pattern_lines:\n",
    "    test_file.write(line)\n",
    "test_file.close()"
   ]
  },
  {
   "cell_type": "code",
   "execution_count": 4,
   "metadata": {
    "collapsed": false
   },
   "outputs": [
    {
     "data": {
      "text/plain": [
       "'C:\\\\Users\\\\arics\\\\Jupyter-Notebooks'"
      ]
     },
     "execution_count": 4,
     "metadata": {},
     "output_type": "execute_result"
    }
   ],
   "source": [
    "import os\n",
    "os.getcwd()"
   ]
  },
  {
   "cell_type": "code",
   "execution_count": 13,
   "metadata": {
    "collapsed": false
   },
   "outputs": [],
   "source": [
    "def write_app_urls(app_name):\n",
    "    \"\"\"Writes a basic urls.py for a django-app\"\"\"\n",
    "    # Write the import string\n",
    "    urls_imports=['from django.conf.urls import url\\n',\n",
    "                 'from . import views\\n']\n",
    "    # write the app_name = line\n",
    "    app_name_line=\"app_name= '%s'\\n\"%app_name\n",
    "    # write the url patterns\n",
    "    url_pattern_lines=['urlpatterns= [\\n',\n",
    "                       \"  url(r'^$',views.index,name='index'),\\n\",\n",
    "                      '  ]\\n']\n",
    "    # open the file and do the work\n",
    "    out_file=open('urls.py','w')\n",
    "    for line in urls_imports:\n",
    "        out_file.write(line)\n",
    "    out_file.write(app_name_line)\n",
    "    for line in url_pattern_lines:\n",
    "        out_file.write(line)\n",
    "    out_file.close()"
   ]
  },
  {
   "cell_type": "code",
   "execution_count": 9,
   "metadata": {
    "collapsed": true
   },
   "outputs": [],
   "source": [
    "def write_project_urls(app_names):\n",
    "    \"\"\"Writes a basic urls.py for a django-project \n",
    "    given the app names\"\"\"\n",
    "    urls_imports=['from django.conf.urls import include, url\\n',\n",
    "                 'from django.contrib import admin\\n']\n",
    "    \n",
    "    url_pattern_lines=['urlpatterns= [\\n',\n",
    "                       \"  url(r'^admin/', admin.site.urls),\\n\"\n",
    "                      ]\n",
    "    for app_name in app_names:\n",
    "        url_pattern=\"  url(r'^%s/',include('%s.urls')),\\n\"%(app_name,app_name)\n",
    "        url_pattern_lines.append(url_pattern)\n",
    "    url_pattern_lines.append('  ]')\n",
    "\n",
    "    out_file=open('urls.py','w')\n",
    "    for line in urls_imports:\n",
    "        out_file.write(line)\n",
    "    for line in url_pattern_lines:\n",
    "        out_file.write(line)\n",
    "    out_file.close()"
   ]
  },
  {
   "cell_type": "code",
   "execution_count": 15,
   "metadata": {
    "collapsed": true
   },
   "outputs": [],
   "source": [
    "app_names=['Files','Help']\n",
    "write_project_urls(app_names)"
   ]
  },
  {
   "cell_type": "code",
   "execution_count": 16,
   "metadata": {
    "collapsed": false
   },
   "outputs": [],
   "source": [
    "write_app_urls('Files')"
   ]
  },
  {
   "cell_type": "code",
   "execution_count": 1,
   "metadata": {
    "collapsed": true
   },
   "outputs": [],
   "source": [
    "import registration"
   ]
  },
  {
   "cell_type": "code",
   "execution_count": 3,
   "metadata": {
    "collapsed": false
   },
   "outputs": [
    {
     "ename": "ImportError",
     "evalue": "No module named simple.hmacs.urls",
     "output_type": "error",
     "traceback": [
      "\u001b[1;31m---------------------------------------------------------------------------\u001b[0m",
      "\u001b[1;31mImportError\u001b[0m                               Traceback (most recent call last)",
      "\u001b[1;32m<ipython-input-3-1102e529e34a>\u001b[0m in \u001b[0;36m<module>\u001b[1;34m()\u001b[0m\n\u001b[1;32m----> 1\u001b[1;33m \u001b[1;32mimport\u001b[0m \u001b[0mregistration\u001b[0m\u001b[1;33m.\u001b[0m\u001b[0msimple\u001b[0m\u001b[1;33m.\u001b[0m\u001b[0mhmacs\u001b[0m\u001b[1;33m.\u001b[0m\u001b[0murls\u001b[0m\u001b[1;33m\u001b[0m\u001b[0m\n\u001b[0m",
      "\u001b[1;31mImportError\u001b[0m: No module named simple.hmacs.urls"
     ]
    }
   ],
   "source": [
    "import registration.simple.hmacs.urls\n"
   ]
  },
  {
   "cell_type": "code",
   "execution_count": null,
   "metadata": {
    "collapsed": true
   },
   "outputs": [],
   "source": []
  }
 ],
 "metadata": {
  "kernelspec": {
   "display_name": "Python 2",
   "language": "python",
   "name": "python2"
  },
  "language_info": {
   "codemirror_mode": {
    "name": "ipython",
    "version": 2
   },
   "file_extension": ".py",
   "mimetype": "text/x-python",
   "name": "python",
   "nbconvert_exporter": "python",
   "pygments_lexer": "ipython2",
   "version": "2.7.11"
  }
 },
 "nbformat": 4,
 "nbformat_minor": 0
}
