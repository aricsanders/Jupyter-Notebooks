{
 "cells": [
  {
   "cell_type": "code",
   "execution_count": 1,
   "metadata": {
    "collapsed": false
   },
   "outputs": [
    {
     "data": {
      "text/plain": [
       "[1, 2, 3, 4]"
      ]
     },
     "execution_count": 1,
     "metadata": {},
     "output_type": "execute_result"
    }
   ],
   "source": [
    "[i for i in range(1,5)]"
   ]
  },
  {
   "cell_type": "code",
   "execution_count": 2,
   "metadata": {
    "collapsed": false
   },
   "outputs": [
    {
     "name": "stdout",
     "output_type": "stream",
     "text": [
      "[ 0  4  8 12 16 20 24 28 32 36]\n",
      "1140\n",
      "[0, 1, 2, 0, 1, 2]\n"
     ]
    }
   ],
   "source": [
    "import numpy as np\n",
    "array_1=np.array([i for i in range(10)])\n",
    "array_2=np.array([3*i for i in range(10)])\n",
    "print array_1+array_2\n",
    "print sum(abs(array_1-array_2)**2)\n",
    "print [i for i in range(3)]+[i for i in range(3)]"
   ]
  },
  {
   "cell_type": "code",
   "execution_count": 3,
   "metadata": {
    "collapsed": false
   },
   "outputs": [
    {
     "data": {
      "text/plain": [
       "'C:\\\\Users\\\\sandersa\\\\PyCharmProjects\\\\Jupyter-Notebooks\\\\A story about calibration uncertainities.html'"
      ]
     },
     "execution_count": 3,
     "metadata": {},
     "output_type": "execute_result"
    }
   ],
   "source": [
    "import os\n",
    "os.path.realpath(os.listdir(os.getcwd())[3])"
   ]
  },
  {
   "cell_type": "code",
   "execution_count": 15,
   "metadata": {
    "collapsed": false
   },
   "outputs": [
    {
     "name": "stdout",
     "output_type": "stream",
     "text": [
      "100 loops, best of 3: 2.81 ms per loop\n"
     ]
    }
   ],
   "source": [
    "%timeit data=np.loadtxt(r'C:\\share\\MUF\\35CComp\\3515.s2p')"
   ]
  },
  {
   "cell_type": "code",
   "execution_count": 12,
   "metadata": {
    "collapsed": false
   },
   "outputs": [
    {
     "name": "stdout",
     "output_type": "stream",
     "text": [
      "The slowest run took 5.97 times longer than the fastest. This could mean that an intermediate result is being cached \n",
      "100000 loops, best of 3: 9.48 µs per loop\n",
      "[[ 0.1937449   0.04700749 -0.3024631  ..., -0.7644029  -0.2170664\n",
      "   0.04330716]\n",
      " [ 0.2383459   0.06160712 -0.910386   ...,  0.9191043   0.00454361\n",
      "  -0.230445  ]\n",
      " [ 0.1693912   0.1001579  -0.7476174  ..., -0.7909532   0.1717675\n",
      "  -0.02820829]\n",
      " ..., \n",
      " [-0.06823287 -0.03147007 -0.233246   ..., -0.4776907  -0.03635305\n",
      "  -0.0578806 ]\n",
      " [-0.01060572  0.1140367   0.3517015  ...,  0.611374   -0.07258397\n",
      "   0.02811428]\n",
      " [ 0.03356405 -0.05878522  0.6783983  ..., -0.6188313  -0.02464865\n",
      "   0.06552996]]\n"
     ]
    }
   ],
   "source": [
    "%timeit new_data=np.delete(data,0,1)\n",
    "print new_data\n",
    "from pyMeasure.Code.DataHandlers.GeneralModels import *\n",
    "from pyMeasure.Code.DataHandlers.TouchstoneModels import *"
   ]
  },
  {
   "cell_type": "code",
   "execution_count": 13,
   "metadata": {
    "collapsed": false
   },
   "outputs": [
    {
     "name": "stdout",
     "output_type": "stream",
     "text": [
      "100 loops, best of 3: 9.86 ms per loop\n"
     ]
    }
   ],
   "source": [
    "%timeit table=S2PV1(r'C:\\share\\MUF\\35CComp\\3515.s2p')"
   ]
  },
  {
   "cell_type": "code",
   "execution_count": 21,
   "metadata": {
    "collapsed": false
   },
   "outputs": [
    {
     "name": "stdout",
     "output_type": "stream",
     "text": [
      "1000 loops, best of 3: 1.31 ms per loop\n"
     ]
    }
   ],
   "source": [
    "#row_pattern=make_row_match_string()\n",
    "def read_lines(file_path):\n",
    "    out_lines=[]\n",
    "    in_file=open(file_path)\n",
    "    for line in in_file:\n",
    "        out_lines.append(map(lambda x:float(x),line.split(' ')))\n",
    "    return np.array(out_lines)\n",
    "%timeit data=read_lines(r'C:\\share\\MUF\\35CComp\\3515.s2p')"
   ]
  },
  {
   "cell_type": "code",
   "execution_count": 47,
   "metadata": {
    "collapsed": false
   },
   "outputs": [],
   "source": [
    "def read_lines(file_path):\n",
    "    out_lines=[]\n",
    "    in_file=open(file_path)\n",
    "    for line in in_file:\n",
    "        if line[0]=='#':\n",
    "            pass\n",
    "        else:\n",
    "            line=line.split(' ')\n",
    "            for item in line:\n",
    "                item=float(item)\n",
    "            out_lines.append(line)\n",
    "    return np.array(out_lines)\n"
   ]
  },
  {
   "cell_type": "code",
   "execution_count": 32,
   "metadata": {
    "collapsed": false
   },
   "outputs": [
    {
     "name": "stdout",
     "output_type": "stream",
     "text": [
      "1000 loops, best of 3: 1.09 ms per loop\n"
     ]
    }
   ],
   "source": [
    "def read_lines(file_path):\n",
    "    in_file=open(file_path)\n",
    "    in_file.readline()\n",
    "    out_lines=[[float(item) for item in (line.split(\" \"))] for line in in_file]\n",
    "    out_lines=np.array(out_lines)\n",
    "    out_lines=np.delete(out_lines,0,1)\n",
    "    in_file.close()\n",
    "    return out_lines\n",
    "%timeit data=read_lines(r'C:\\share\\MUF\\35CComp\\3515.s2p')"
   ]
  },
  {
   "cell_type": "code",
   "execution_count": 53,
   "metadata": {
    "collapsed": false
   },
   "outputs": [
    {
     "name": "stdout",
     "output_type": "stream",
     "text": [
      "10 loops, best of 3: 97.4 ms per loop\n"
     ]
    }
   ],
   "source": [
    "#data=read_lines(r'C:\\share\\MUF\\35CComp\\3515.s2p')\n",
    "#print data\n",
    "file_names=os.listdir(r'C:\\share\\MUF\\MUF Test\\MUF Test_vnauncert_Results\\DUTs\\DUT_Support\\MonteCarlo')\n",
    "file_names=[os.path.join(r'C:\\share\\MUF\\MUF Test\\MUF Test_vnauncert_Results\\DUTs\\DUT_Support\\MonteCarlo',file_name) for file_name in file_names]\n",
    "%timeit data=[np.delete(np.loadtxt(file_name,skiprows=1),0,1) for file_name in file_names]"
   ]
  },
  {
   "cell_type": "code",
   "execution_count": 51,
   "metadata": {
    "collapsed": false
   },
   "outputs": [
    {
     "data": {
      "text/plain": [
       "array([[  1.00000000e+00,  -9.44659263e-04,   6.71576053e-03,\n",
       "          7.83202699e-02,  -5.99305584e-02,   7.82231053e-02,\n",
       "         -5.99544704e-02,  -6.12573601e-03,   2.17378401e-03],\n",
       "       [  1.10000000e+00,  -4.70566497e-05,   6.59586688e-03,\n",
       "          7.42401243e-02,  -6.48993761e-02,   7.41496949e-02,\n",
       "         -6.49188380e-02,  -5.95052856e-03,   2.15138770e-03],\n",
       "       [  1.20000000e+00,   7.95878292e-04,   6.45293469e-03,\n",
       "          6.98463000e-02,  -6.95847020e-02,   6.97705256e-02,\n",
       "         -6.95931025e-02,  -5.78327618e-03,   2.10539719e-03],\n",
       "       [  1.30000000e+00,   1.71606726e-03,   6.18580693e-03,\n",
       "          6.51631182e-02,  -7.39670779e-02,   6.50807041e-02,\n",
       "         -7.39728264e-02,  -5.71858257e-03,   1.99175570e-03],\n",
       "       [  1.40000000e+00,   2.53334771e-03,   5.86669289e-03,\n",
       "          6.01961838e-02,  -7.80486241e-02,   6.01060737e-02,\n",
       "         -7.80384618e-02,  -5.67627794e-03,   2.02919654e-03],\n",
       "       [  1.50000000e+00,   3.36521125e-03,   5.45625931e-03,\n",
       "          5.49736498e-02,  -8.17874251e-02,   5.48874786e-02,\n",
       "         -8.17770876e-02,  -5.53477428e-03,   2.08628398e-03],\n",
       "       [  1.60000000e+00,   4.15936509e-03,   4.99127577e-03,\n",
       "          4.95279959e-02,  -8.51746617e-02,   4.94560083e-02,\n",
       "         -8.51601357e-02,  -5.39356558e-03,   1.95395730e-03],\n",
       "       [  1.70000000e+00,   4.89924555e-03,   4.44919321e-03,\n",
       "          4.38750368e-02,  -8.82022955e-02,   4.37854478e-02,\n",
       "         -8.81845080e-02,  -5.40714474e-03,   1.86930702e-03],\n",
       "       [  1.80000000e+00,   5.57721783e-03,   3.85927357e-03,\n",
       "          3.80243125e-02,  -9.08497535e-02,   3.79346490e-02,\n",
       "         -9.08314564e-02,  -5.42304832e-03,   1.82018223e-03],\n",
       "       [  1.90000000e+00,   6.21367310e-03,   3.18732104e-03,\n",
       "          3.20311903e-02,  -9.31155728e-02,   3.19355945e-02,\n",
       "         -9.30874621e-02,  -5.30267444e-03,   1.86108215e-03],\n",
       "       [  2.00000000e+00,   6.76587415e-03,   2.47483594e-03,\n",
       "          2.58904308e-02,  -9.49967634e-02,   2.58078984e-02,\n",
       "         -9.49523849e-02,  -5.24647223e-03,   1.73005174e-03],\n",
       "       [  2.10000000e+00,   7.24786153e-03,   1.72199510e-03,\n",
       "          1.96472946e-02,  -9.64662875e-02,   1.95873183e-02,\n",
       "         -9.64091453e-02,  -5.28703448e-03,   1.59077507e-03],\n",
       "       [  2.20000000e+00,   7.62930950e-03,   9.31139273e-04,\n",
       "          1.33272178e-02,  -9.75098983e-02,   1.32608544e-02,\n",
       "         -9.74682629e-02,  -5.33152510e-03,   1.54021182e-03],\n",
       "       [  2.30000000e+00,   7.95237728e-03,   8.09512622e-05,\n",
       "          6.94657151e-03,  -9.81584915e-02,   6.89199567e-03,\n",
       "         -9.81070802e-02,  -5.29589121e-03,   1.45693457e-03],\n",
       "       [  2.40000000e+00,   8.16314727e-03,  -7.46175531e-04,\n",
       "          5.23654226e-04,  -9.83867776e-02,   5.05082368e-04,\n",
       "         -9.83307616e-02,  -5.24776857e-03,   1.32451466e-03],\n",
       "       [  2.50000000e+00,   8.31281948e-03,  -1.61271547e-03,\n",
       "         -5.88589302e-03,  -9.81869644e-02,  -5.88559953e-03,\n",
       "         -9.81361179e-02,  -5.34001983e-03,   1.09066531e-03],\n",
       "       [  2.60000000e+00,   8.36010846e-03,  -2.49899663e-03,\n",
       "         -1.22472720e-02,  -9.75771895e-02,  -1.22637514e-02,\n",
       "         -9.75300438e-02,  -5.40773750e-03,   9.45695647e-04],\n",
       "       [  2.70000000e+00,   8.32368858e-03,  -3.37269515e-03,\n",
       "         -1.85723150e-02,  -9.65607653e-02,  -1.85794861e-02,\n",
       "         -9.65127761e-02,  -5.40092080e-03,   7.64671050e-04],\n",
       "       [  2.80000000e+00,   8.18807395e-03,  -4.22760953e-03,\n",
       "         -2.48108573e-02,  -9.51316648e-02,  -2.48029987e-02,\n",
       "         -9.50840028e-02,  -5.43583465e-03,   5.79919250e-04],\n",
       "       [  2.90000000e+00,   8.00749021e-03,  -5.04607812e-03,\n",
       "         -3.09374332e-02,  -9.33007563e-02,  -3.09350451e-02,\n",
       "         -9.32589722e-02,  -5.45895901e-03,   3.13242545e-04],\n",
       "       [  3.00000000e+00,   7.70446011e-03,  -5.85529007e-03,\n",
       "         -3.69348504e-02,  -9.10845014e-02,  -3.69300028e-02,\n",
       "         -9.10342819e-02,  -5.50422060e-03,   7.36687577e-05],\n",
       "       [  3.10000000e+00,   7.33009417e-03,  -6.59514413e-03,\n",
       "         -4.27863999e-02,  -8.84793648e-02,  -4.27718006e-02,\n",
       "         -8.84278462e-02,  -5.55038846e-03,  -1.39667445e-04],\n",
       "       [  3.20000000e+00,   6.85463383e-03,  -7.31919276e-03,\n",
       "         -4.84370853e-02,  -8.55012019e-02,  -4.84244185e-02,\n",
       "         -8.54586228e-02,  -5.57537098e-03,  -3.85212504e-04],\n",
       "       [  3.30000000e+00,   6.34193753e-03,  -7.92689405e-03,\n",
       "         -5.38759204e-02,  -8.21604284e-02,  -5.38746489e-02,\n",
       "         -8.21123098e-02,  -5.56688313e-03,  -6.61366204e-04],\n",
       "       [  3.40000000e+00,   5.72091510e-03,  -8.50950776e-03,\n",
       "         -5.91021247e-02,  -7.84767217e-02,  -5.90996230e-02,\n",
       "         -7.84168850e-02,  -5.57472208e-03,  -9.88978129e-04],\n",
       "       [  3.50000000e+00,   5.07708219e-03,  -8.99852584e-03,\n",
       "         -6.40808231e-02,  -7.44706349e-02,  -6.40641058e-02,\n",
       "         -7.44114820e-02,  -5.62167733e-03,  -1.27414982e-03],\n",
       "       [  3.60000000e+00,   4.31137829e-03,  -9.46285157e-03,\n",
       "         -6.87570302e-02,  -7.01518823e-02,  -6.87522950e-02,\n",
       "         -7.00881031e-02,  -5.62339052e-03,  -1.50043021e-03],\n",
       "       [  3.70000000e+00,   3.53030345e-03,  -9.80316641e-03,\n",
       "         -7.31553188e-02,  -6.55311235e-02,  -7.31592030e-02,\n",
       "         -6.54482239e-02,  -5.55561411e-03,  -1.76521028e-03],\n",
       "       [  3.80000000e+00,   2.71058240e-03,  -1.00937991e-02,\n",
       "         -7.72630124e-02,  -6.06242943e-02,  -7.72594809e-02,\n",
       "         -6.05396021e-02,  -5.48396923e-03,  -2.07301252e-03],\n",
       "       [  3.90000000e+00,   1.83716959e-03,  -1.02768148e-02,\n",
       "         -8.10327910e-02,  -5.54689648e-02,  -8.10217879e-02,\n",
       "         -5.53868781e-02,  -5.55625802e-03,  -2.36761976e-03],\n",
       "       [  4.00000000e+00,   9.34254515e-04,  -1.03983811e-02,\n",
       "         -8.44464207e-02,  -5.00950854e-02,  -8.44383797e-02,\n",
       "         -4.99943144e-02,  -5.53271227e-03,  -2.54184810e-03],\n",
       "       [  4.10000000e+00,   1.51905368e-05,  -1.04535198e-02,\n",
       "         -8.75036686e-02,  -4.44902800e-02,  -8.74916398e-02,\n",
       "         -4.43901996e-02,  -5.43798668e-03,  -2.73507434e-03],\n",
       "       [  4.20000000e+00,  -8.91568422e-04,  -1.04271618e-02,\n",
       "         -9.02091228e-02,  -3.86980936e-02,  -9.01919277e-02,\n",
       "         -3.86047905e-02,  -5.23591521e-03,  -3.08006350e-03],\n",
       "       [  4.30000000e+00,  -1.82639191e-03,  -1.02939231e-02,\n",
       "         -9.25307161e-02,  -3.27348292e-02,  -9.24951840e-02,\n",
       "         -3.26830018e-02,  -5.27913953e-03,  -3.33729355e-03],\n",
       "       [  4.40000000e+00,  -2.69901846e-03,  -1.01016817e-02,\n",
       "         -9.44377516e-02,  -2.66755033e-02,  -9.44119233e-02,\n",
       "         -2.65720292e-02,  -5.23997164e-03,  -3.42307936e-03],\n",
       "       [  4.50000000e+00,  -3.58561379e-03,  -9.81153222e-03,\n",
       "         -9.59629884e-02,  -2.04634986e-02,  -9.59196663e-02,\n",
       "         -2.03761621e-02,  -5.06792224e-03,  -3.52722079e-03],\n",
       "       [  4.60000000e+00,  -4.41707003e-03,  -9.46338182e-03,\n",
       "         -9.70771757e-02,  -1.41571467e-02,  -9.70227143e-02,\n",
       "         -1.40985605e-02,  -4.89661540e-03,  -3.72288601e-03],\n",
       "       [  4.70000000e+00,  -5.24351324e-03,  -9.00733663e-03,\n",
       "         -9.77694614e-02,  -7.83306908e-03,  -9.77259877e-02,\n",
       "         -7.76218665e-03,  -4.92580222e-03,  -4.00277075e-03],\n",
       "       [  4.80000000e+00,  -6.00819960e-03,  -8.47804949e-03,\n",
       "         -9.80632561e-02,  -1.46547905e-03,  -9.80154846e-02,\n",
       "         -1.38164513e-03,  -4.92532851e-03,  -4.00944524e-03],\n",
       "       [  4.90000000e+00,  -6.72211610e-03,  -7.88811551e-03,\n",
       "         -9.79359367e-02,   4.92588579e-03,  -9.78869308e-02,\n",
       "          4.97045223e-03,  -4.72703236e-03,  -3.98649969e-03],\n",
       "       [  5.00000000e+00,  -7.38986694e-03,  -7.23241276e-03,\n",
       "         -9.73933843e-02,   1.12776282e-02,  -9.73362345e-02,\n",
       "          1.13224143e-02,  -4.55365035e-03,  -4.15854827e-03],\n",
       "       [  5.10000000e+00,  -8.03003068e-03,  -6.52567536e-03,\n",
       "         -9.64393326e-02,   1.75865388e-02,  -9.63836650e-02,\n",
       "          1.76373768e-02,  -4.50498010e-03,  -4.37044707e-03],\n",
       "       [  5.20000000e+00,  -8.55611196e-03,  -5.73616325e-03,\n",
       "         -9.50826504e-02,   2.37935345e-02,  -9.50166506e-02,\n",
       "          2.38543107e-02,  -4.58360246e-03,  -4.27321926e-03],\n",
       "       [  5.30000000e+00,  -9.05162020e-03,  -4.91180665e-03,\n",
       "         -9.33229826e-02,   2.99497194e-02,  -9.32536707e-02,\n",
       "          2.99784253e-02,  -4.36946891e-03,  -4.21432725e-03],\n",
       "       [  5.40000000e+00,  -9.44764402e-03,  -4.05892024e-03,\n",
       "         -9.11664314e-02,   3.59365739e-02,  -9.11008602e-02,\n",
       "          3.59704854e-02,  -4.14572426e-03,  -4.26700972e-03],\n",
       "       [  5.50000000e+00,  -9.77768420e-03,  -3.23451969e-03,\n",
       "         -8.86473789e-02,   4.17584015e-02,  -8.85560299e-02,\n",
       "          4.18186315e-02,  -4.25851435e-03,  -4.46655878e-03],\n",
       "       [  5.60000000e+00,  -1.00171324e-02,  -2.30999435e-03,\n",
       "         -8.57392485e-02,   4.74222085e-02,  -8.56457108e-02,\n",
       "          4.74749233e-02,  -4.33863082e-03,  -4.47210368e-03],\n",
       "       [  5.70000000e+00,  -1.01960260e-02,  -1.38150946e-03,\n",
       "         -8.24661304e-02,   5.28969360e-02,  -8.23853566e-02,\n",
       "          5.29281549e-02,  -4.12971852e-03,  -4.31096234e-03],\n",
       "       [  5.80000000e+00,  -1.02524001e-02,  -4.64241409e-04,\n",
       "         -7.88462073e-02,   5.81250377e-02,  -7.87573663e-02,\n",
       "          5.81662607e-02,  -4.01642942e-03,  -4.46357086e-03],\n",
       "       [  5.90000000e+00,  -1.02096415e-02,   4.49427916e-04,\n",
       "         -7.49054222e-02,   6.31065410e-02,  -7.48141507e-02,\n",
       "          6.31536463e-02,  -4.08389099e-03,  -4.70678615e-03],\n",
       "       [  6.00000000e+00,  -1.00611611e-02,   1.37530616e-03,\n",
       "         -7.06374810e-02,   6.78519966e-02,  -7.05655830e-02,\n",
       "          6.78625622e-02,  -4.21228525e-03,  -4.65427633e-03],\n",
       "       [  6.10000000e+00,  -9.80583310e-03,   2.29528290e-03,\n",
       "         -6.60599298e-02,   7.22939299e-02,  -6.59988521e-02,\n",
       "          7.22936443e-02,  -4.13058969e-03,  -4.67316020e-03],\n",
       "       [  6.20000000e+00,  -9.45817075e-03,   3.20612105e-03,\n",
       "         -6.12142479e-02,   7.64262318e-02,  -6.11469870e-02,\n",
       "          7.64287277e-02,  -4.11879039e-03,  -5.01254083e-03],\n",
       "       [  6.30000000e+00,  -9.02293387e-03,   4.06389368e-03,\n",
       "         -5.61192864e-02,   8.02273805e-02,  -5.60351009e-02,\n",
       "          8.02346446e-02,  -4.20258651e-03,  -5.26181552e-03],\n",
       "       [  6.40000000e+00,  -8.49807854e-03,   4.88035254e-03,\n",
       "         -5.07626490e-02,   8.37091301e-02,  -5.06972267e-02,\n",
       "          8.36955851e-02,  -4.31443673e-03,  -5.40503494e-03],\n",
       "       [  6.50000000e+00,  -7.88631237e-03,   5.68608227e-03,\n",
       "         -4.52159443e-02,   8.68134219e-02,  -4.51580876e-02,\n",
       "          8.67998858e-02,  -4.31992108e-03,  -5.61919248e-03],\n",
       "       [  6.60000000e+00,  -7.18283344e-03,   6.41996565e-03,\n",
       "         -3.94914755e-02,   8.95430293e-02,  -3.94063395e-02,\n",
       "          8.95303767e-02,  -4.38611900e-03,  -6.07154548e-03],\n",
       "       [  6.70000000e+00,  -6.44873350e-03,   7.09808983e-03,\n",
       "         -3.35767629e-02,   9.19139716e-02,  -3.34899390e-02,\n",
       "          9.18989580e-02,  -4.56784147e-03,  -6.36216171e-03],\n",
       "       [  6.80000000e+00,  -5.63566326e-03,   7.70820782e-03,\n",
       "         -2.75072373e-02,   9.39049103e-02,  -2.74730296e-02,\n",
       "          9.38698106e-02,  -4.64963223e-03,  -6.69049815e-03],\n",
       "       [  6.90000000e+00,  -4.79573134e-03,   8.21198398e-03,\n",
       "         -2.13618313e-02,   9.54715199e-02,  -2.12814449e-02,\n",
       "          9.54416635e-02,  -4.76142052e-03,  -7.16028332e-03],\n",
       "       [  7.00000000e+00,  -3.92910326e-03,   8.63297715e-03,\n",
       "         -1.51214252e-02,   9.66397003e-02,  -1.50505785e-02,\n",
       "          9.66066338e-02,  -5.00990977e-03,  -7.61866981e-03],\n",
       "       [  7.10000000e+00,  -3.00355908e-03,   8.92555305e-03,\n",
       "         -8.79226236e-03,   9.74028585e-02,  -8.74446253e-03,\n",
       "          9.73648095e-02,  -5.16635776e-03,  -7.88015868e-03],\n",
       "       [  7.20000000e+00,  -2.08811449e-03,   9.13250977e-03,\n",
       "         -2.43716281e-03,   9.77481618e-02,  -2.38743728e-03,\n",
       "          9.77096429e-02,  -5.18808818e-03,  -8.34736382e-03],\n",
       "       [  7.30000000e+00,  -1.16845027e-03,   9.22887163e-03,\n",
       "          3.90261717e-03,   9.76913217e-02,   3.98278047e-03,\n",
       "          9.76340540e-02,  -5.38885069e-03,  -9.06309165e-03],\n",
       "       [  7.40000000e+00,  -2.20460807e-04,   9.18981654e-03,\n",
       "          1.02380936e-02,   9.72173165e-02,   1.03330283e-02,\n",
       "          9.71494889e-02,  -5.80818938e-03,  -9.49040503e-03],\n",
       "       [  7.50000000e+00,   6.44309265e-04,   9.04246049e-03,\n",
       "          1.65626062e-02,   9.63221972e-02,   1.66063650e-02,\n",
       "          9.62713723e-02,  -5.85815051e-03,  -9.67422106e-03],\n",
       "       [  7.60000000e+00,   1.58199059e-03,   8.81704056e-03,\n",
       "          2.27790279e-02,   9.50353055e-02,   2.28213435e-02,\n",
       "          9.49686825e-02,  -5.71681883e-03,  -1.02784119e-02],\n",
       "       [  7.70000000e+00,   2.41711318e-03,   8.44482446e-03,\n",
       "          2.88644094e-02,   9.33537846e-02,   2.89448301e-02,\n",
       "          9.32629900e-02,  -6.00360609e-03,  -1.09560021e-02],\n",
       "       [  7.80000000e+00,   3.24842130e-03,   8.04547905e-03,\n",
       "          3.48804997e-02,   9.12608977e-02,   3.49348828e-02,\n",
       "          9.11706797e-02,  -6.34099256e-03,  -1.12584329e-02],\n",
       "       [  7.90000000e+00,   3.97622433e-03,   7.44828890e-03,\n",
       "          4.07536160e-02,   8.87727002e-02,   4.07792344e-02,\n",
       "          8.87090857e-02,  -6.25831288e-03,  -1.12479472e-02],\n",
       "       [  8.00000000e+00,   4.57659633e-03,   6.84427681e-03,\n",
       "          4.64248327e-02,   8.59407981e-02,   4.64665473e-02,\n",
       "          8.58645320e-02,  -5.88542981e-03,  -1.18697977e-02],\n",
       "       [  8.10000000e+00,   1.56849402e-02,   1.89962299e-02,\n",
       "          5.18712534e-02,   8.26324115e-02,   5.19202041e-02,\n",
       "          8.25297515e-02,  -3.02199170e-02,  -2.29938286e-02],\n",
       "       [  8.20000000e+00,  -1.28185991e-01,  -1.87613227e-01,\n",
       "          5.65496402e-02,   8.05039172e-02,   5.66155494e-02,\n",
       "          8.04102456e-02,  -6.51555460e-02,  -4.02652244e-02],\n",
       "       [  8.30000000e+00,   1.66590063e-01,  -1.17429435e-02,\n",
       "          6.06270368e-02,   7.44174082e-02,   6.05185961e-02,\n",
       "          7.43181460e-02,  -1.18588617e-01,   2.69979747e-02],\n",
       "       [  8.40000000e+00,   1.68848022e-01,  -2.22752301e-01,\n",
       "          6.52087381e-02,   7.34719341e-02,   6.52213437e-02,\n",
       "          7.33150727e-02,   7.41722803e-02,   1.51222028e-01],\n",
       "       [  8.50000000e+00,  -6.42096462e-02,   1.86784233e-01,\n",
       "          7.24428132e-02,   5.97731772e-02,   7.27157073e-02,\n",
       "          5.99304301e-02,  -1.57111641e-01,   4.88361987e-01],\n",
       "       [  8.60000000e+00,   3.05188775e-01,  -1.02532946e-01,\n",
       "          8.08010896e-02,   5.63183015e-02,   8.00940013e-02,\n",
       "          5.63791684e-02,   3.17326339e-01,  -4.08028043e-01],\n",
       "       [  8.70000000e+00,   3.27981998e-01,   3.96462898e-02,\n",
       "          8.18041707e-02,   6.86466689e-02,   8.19201453e-02,\n",
       "          7.31694398e-02,   1.61698690e-01,   1.46436411e-01],\n",
       "       [  8.80000000e+00,   3.68984294e-02,   4.92746959e-01,\n",
       "          6.75618452e-02,   6.44091944e-02,   6.40820789e-02,\n",
       "          6.61640899e-02,   1.83324336e-01,   1.04515735e-02],\n",
       "       [  8.90000000e+00,  -2.96942192e-01,   1.89634183e-02,\n",
       "          7.47746508e-02,   4.53035107e-02,   7.46806450e-02,\n",
       "          3.84278531e-02,   2.96877996e-01,  -5.33711055e-03],\n",
       "       [  9.00000000e+00,  -2.18818148e-01,   4.84477232e-01,\n",
       "          5.87219341e-02,   3.43608442e-02,   1.03437373e-01,\n",
       "         -1.73402997e-02,  -3.92805313e-01,   4.87515147e-01],\n",
       "       [  9.10000000e+00,   2.72190834e-01,   8.88668713e-02,\n",
       "          7.08688835e-02,   3.14192268e-02,   1.02440277e-01,\n",
       "          1.99070496e-02,   2.05729470e-01,   2.91674626e-01],\n",
       "       [  9.20000000e+00,  -3.11393669e-01,   3.02694821e-01,\n",
       "          7.43967625e-02,   1.98297646e-02,   7.33271246e-02,\n",
       "          3.37089721e-02,   1.85322432e-01,   2.35653948e-01],\n",
       "       [  9.30000000e+00,  -4.96168064e-01,  -1.88641097e-01,\n",
       "          8.59595147e-02,  -1.27709417e-02,   7.00206436e-02,\n",
       "         -1.07737952e-02,   3.06724033e-01,   2.95330744e-01],\n",
       "       [  9.40000000e+00,  -6.57213854e-01,   7.31226607e-02,\n",
       "          4.74705378e-02,   5.61694251e-02,  -5.90047923e-01,\n",
       "         -3.93901203e-01,   5.14716382e-02,   2.04261372e+00],\n",
       "       [  9.50000000e+00,  -1.30843652e-02,   1.87058790e-01,\n",
       "          5.69376739e-02,   5.29440950e-02,   5.57144397e-02,\n",
       "          5.09632776e-02,  -5.33531959e-01,   7.39392100e-01],\n",
       "       [  9.60000000e+00,   1.85692524e-01,   6.30045322e-01,\n",
       "         -7.62448720e-02,   3.09636469e-02,   5.84257739e-02,\n",
       "          7.76684386e-02,  -1.12181515e+00,   4.85954662e-01],\n",
       "       [  9.70000000e+00,  -1.19755134e-01,   1.87906120e-01,\n",
       "          4.52252072e-02,   5.31271790e-02,  -3.43896213e-02,\n",
       "          7.33190988e-02,  -6.62498954e-01,  -3.94988554e-01],\n",
       "       [  9.80000000e+00,  -3.13607589e-01,   1.77346701e-01,\n",
       "          1.82055732e-01,   7.14822867e-02,  -1.88458496e-01,\n",
       "          3.21318842e-02,   7.72382379e-01,   2.85686174e+00],\n",
       "       [  9.90000000e+00,  -5.32917278e-02,  -3.94641004e-01,\n",
       "          1.31025506e-01,  -3.69496694e-02,   1.47147919e-01,\n",
       "         -9.69649341e-02,  -6.24066131e-01,   2.71232102e+00],\n",
       "       [  1.00000000e+01,  -5.27285499e-04,  -1.00386378e-02,\n",
       "          9.49661251e-02,  -2.17609218e-02,   9.49092927e-02,\n",
       "         -2.17868991e-02,  -4.63248511e-03,  -1.60703913e-02]])"
      ]
     },
     "execution_count": 51,
     "metadata": {},
     "output_type": "execute_result"
    }
   ],
   "source": [
    "data[1]"
   ]
  },
  {
   "cell_type": "code",
   "execution_count": 1,
   "metadata": {
    "collapsed": false
   },
   "outputs": [
    {
     "name": "stdout",
     "output_type": "stream",
     "text": [
      "G\n"
     ]
    }
   ],
   "source": [
    "import re\n",
    "old_prefix=re.sub('Hz','','GHZ',flags=re.IGNORECASE)\n",
    "print old_prefix"
   ]
  },
  {
   "cell_type": "code",
   "execution_count": 1,
   "metadata": {
    "collapsed": true
   },
   "outputs": [],
   "source": [
    "import pandas\n"
   ]
  },
  {
   "cell_type": "code",
   "execution_count": 1,
   "metadata": {
    "collapsed": false
   },
   "outputs": [
    {
     "name": "stdout",
     "output_type": "stream",
     "text": [
      "from django.conf.urls import url \n",
      "from . import views\n",
      "\n"
     ]
    }
   ],
   "source": [
    "\n",
    "urls_template_string=\"from django.conf.urls import url \\nfrom . import views\\n\"\n",
    "print urls_template_string"
   ]
  },
  {
   "cell_type": "code",
   "execution_count": 2,
   "metadata": {
    "collapsed": false
   },
   "outputs": [
    {
     "name": "stdout",
     "output_type": "stream",
     "text": [
      "True\n"
     ]
    }
   ],
   "source": [
    "test_string='QuartzRefExample_L1_g10_HF_Zlmr205'\n",
    "end=test_string.split('.')[-1]\n",
    "print end==test_string\n"
   ]
  },
  {
   "cell_type": "code",
   "execution_count": 7,
   "metadata": {
    "collapsed": false
   },
   "outputs": [],
   "source": [
    "urls_imports=['from django.conf.urls import url\\n',\n",
    "             'from . import views\\n']\n",
    "app_name_line=\"app_name= '%s'\\n\"%'App1'\n",
    "url_pattern_lines=['urlpatterns= [\\n',\n",
    "                   \"  url(r'^$',views.index,name='index'),\\n\",\n",
    "                  '  ]\\n']\n",
    "\n",
    "test_file=open('urls.py','w')\n",
    "for line in urls_imports:\n",
    "    test_file.write(line)\n",
    "test_file.write(app_name_line)\n",
    "for line in url_pattern_lines:\n",
    "    test_file.write(line)\n",
    "test_file.close()"
   ]
  },
  {
   "cell_type": "code",
   "execution_count": 4,
   "metadata": {
    "collapsed": false
   },
   "outputs": [
    {
     "data": {
      "text/plain": [
       "'C:\\\\Users\\\\arics\\\\Jupyter-Notebooks'"
      ]
     },
     "execution_count": 4,
     "metadata": {},
     "output_type": "execute_result"
    }
   ],
   "source": [
    "import os\n",
    "os.getcwd()"
   ]
  },
  {
   "cell_type": "code",
   "execution_count": 13,
   "metadata": {
    "collapsed": false
   },
   "outputs": [],
   "source": [
    "def write_app_urls(app_name):\n",
    "    \"\"\"Writes a basic urls.py for a django-app\"\"\"\n",
    "    # Write the import string\n",
    "    urls_imports=['from django.conf.urls import url\\n',\n",
    "                 'from . import views\\n']\n",
    "    # write the app_name = line\n",
    "    app_name_line=\"app_name= '%s'\\n\"%app_name\n",
    "    # write the url patterns\n",
    "    url_pattern_lines=['urlpatterns= [\\n',\n",
    "                       \"  url(r'^$',views.index,name='index'),\\n\",\n",
    "                      '  ]\\n']\n",
    "    # open the file and do the work\n",
    "    out_file=open('urls.py','w')\n",
    "    for line in urls_imports:\n",
    "        out_file.write(line)\n",
    "    out_file.write(app_name_line)\n",
    "    for line in url_pattern_lines:\n",
    "        out_file.write(line)\n",
    "    out_file.close()"
   ]
  },
  {
   "cell_type": "code",
   "execution_count": 9,
   "metadata": {
    "collapsed": true
   },
   "outputs": [],
   "source": [
    "def write_project_urls(app_names):\n",
    "    \"\"\"Writes a basic urls.py for a django-project \n",
    "    given the app names\"\"\"\n",
    "    urls_imports=['from django.conf.urls import include, url\\n',\n",
    "                 'from django.contrib import admin\\n']\n",
    "    \n",
    "    url_pattern_lines=['urlpatterns= [\\n',\n",
    "                       \"  url(r'^admin/', admin.site.urls),\\n\"\n",
    "                      ]\n",
    "    for app_name in app_names:\n",
    "        url_pattern=\"  url(r'^%s/',include('%s.urls')),\\n\"%(app_name,app_name)\n",
    "        url_pattern_lines.append(url_pattern)\n",
    "    url_pattern_lines.append('  ]')\n",
    "\n",
    "    out_file=open('urls.py','w')\n",
    "    for line in urls_imports:\n",
    "        out_file.write(line)\n",
    "    for line in url_pattern_lines:\n",
    "        out_file.write(line)\n",
    "    out_file.close()"
   ]
  },
  {
   "cell_type": "code",
   "execution_count": 15,
   "metadata": {
    "collapsed": true
   },
   "outputs": [],
   "source": [
    "app_names=['Files','Help']\n",
    "write_project_urls(app_names)"
   ]
  },
  {
   "cell_type": "code",
   "execution_count": 16,
   "metadata": {
    "collapsed": false
   },
   "outputs": [],
   "source": [
    "write_app_urls('Files')"
   ]
  },
  {
   "cell_type": "code",
   "execution_count": 1,
   "metadata": {
    "collapsed": true
   },
   "outputs": [],
   "source": [
    "import registration"
   ]
  },
  {
   "cell_type": "code",
   "execution_count": 3,
   "metadata": {
    "collapsed": false
   },
   "outputs": [
    {
     "ename": "ImportError",
     "evalue": "No module named simple.hmacs.urls",
     "output_type": "error",
     "traceback": [
      "\u001b[1;31m---------------------------------------------------------------------------\u001b[0m",
      "\u001b[1;31mImportError\u001b[0m                               Traceback (most recent call last)",
      "\u001b[1;32m<ipython-input-3-1102e529e34a>\u001b[0m in \u001b[0;36m<module>\u001b[1;34m()\u001b[0m\n\u001b[1;32m----> 1\u001b[1;33m \u001b[1;32mimport\u001b[0m \u001b[0mregistration\u001b[0m\u001b[1;33m.\u001b[0m\u001b[0msimple\u001b[0m\u001b[1;33m.\u001b[0m\u001b[0mhmacs\u001b[0m\u001b[1;33m.\u001b[0m\u001b[0murls\u001b[0m\u001b[1;33m\u001b[0m\u001b[0m\n\u001b[0m",
      "\u001b[1;31mImportError\u001b[0m: No module named simple.hmacs.urls"
     ]
    }
   ],
   "source": [
    "import registration.simple.hmacs.urls\n"
   ]
  },
  {
   "cell_type": "code",
   "execution_count": 2,
   "metadata": {
    "collapsed": false
   },
   "outputs": [],
   "source": [
    "import Boa"
   ]
  },
  {
   "cell_type": "code",
   "execution_count": 1,
   "metadata": {
    "collapsed": false
   },
   "outputs": [
    {
     "name": "stdout",
     "output_type": "stream",
     "text": [
      "['A', 'Mock', 'File', 'Name', 'That', 'is', 'Mixed', 'with', 'multiple', 'characters', 'txt']\n",
      "['A', 'Mock', 'File', 'Name', 'That', 'is', 'Mixed', 'with', 'multiple', 'characters', 'txt']\n"
     ]
    }
   ],
   "source": [
    "import re\n",
    "test_string=\"A_Mock_FileName_That is Mixed.with multiple characters.txt\"\n",
    "test_string=re.sub(\"([\\a-z])([\\A-Z|\\d])\",r'\\1 \\2',test_string)\n",
    "test_list_1=re.split(\"[\\W|\\.|_]+\",test_string)\n",
    "test_list_2=re.split(\"[\\W|\\.|_]+\",test_string)\n",
    "print test_list_1\n",
    "print test_list_2"
   ]
  },
  {
   "cell_type": "code",
   "execution_count": 2,
   "metadata": {
    "collapsed": true
   },
   "outputs": [],
   "source": [
    "for item in test_list_2:\n",
    "    if item is None:\n",
    "        test_list_2.remove(item)"
   ]
  },
  {
   "cell_type": "code",
   "execution_count": 3,
   "metadata": {
    "collapsed": false
   },
   "outputs": [
    {
     "data": {
      "text/plain": [
       "['A',\n",
       " 'Mock',\n",
       " 'File',\n",
       " 'Name',\n",
       " 'That',\n",
       " 'is',\n",
       " 'Mixed',\n",
       " 'with',\n",
       " 'multiple',\n",
       " 'characters',\n",
       " 'txt']"
      ]
     },
     "execution_count": 3,
     "metadata": {},
     "output_type": "execute_result"
    }
   ],
   "source": [
    "test_list_2"
   ]
  },
  {
   "cell_type": "code",
   "execution_count": 42,
   "metadata": {
    "collapsed": false
   },
   "outputs": [
    {
     "data": {
      "text/plain": [
       "'gile Name 1'"
      ]
     },
     "execution_count": 42,
     "metadata": {},
     "output_type": "execute_result"
    }
   ],
   "source": [
    "test_string_2=\"gileName1\"\n",
    "re.sub(\"([\\a-z])([\\A-Z|\\d])\",r'\\1 \\2',test_string_2)"
   ]
  },
  {
   "cell_type": "code",
   "execution_count": 67,
   "metadata": {
    "collapsed": true
   },
   "outputs": [],
   "source": [
    "def split_file_name(filename):\n",
    "    \"\"\"Returns a list of file name pieces. The list will contain any CamelCase, snake_case or\n",
    "    common delimiter seperated words (last element is nominally the file extension\"\"\"\n",
    "    out_string=re.sub(\"([\\a-z])([\\A-Z])\",r'\\1 \\2',filename)\n",
    "    print out_string\n",
    "    out_list=re.split(\"[\\W|\\.|_]+\",out_string)\n",
    "    return out_list\n",
    "    "
   ]
  },
  {
   "cell_type": "code",
   "execution_count": 68,
   "metadata": {
    "collapsed": false
   },
   "outputs": [
    {
     "name": "stdout",
     "output_type": "stream",
     "text": [
      "X:\\ Calnet  Test  Files\\ Data  For  Playing\\20150930_ Q26 Ra_g5_ Song4_water\n"
     ]
    },
    {
     "data": {
      "text/plain": [
       "['X',\n",
       " 'Calnet',\n",
       " 'Test',\n",
       " 'Files',\n",
       " 'Data',\n",
       " 'For',\n",
       " 'Playing',\n",
       " '20150930',\n",
       " 'Q26',\n",
       " 'Ra',\n",
       " 'g5',\n",
       " 'Song4',\n",
       " 'water']"
      ]
     },
     "execution_count": 68,
     "metadata": {},
     "output_type": "execute_result"
    }
   ],
   "source": [
    "split_file_name(r\"X:\\Calnet Test Files\\Data For Playing\\20150930_Q26Ra_g5_Song4_water\")"
   ]
  },
  {
   "cell_type": "code",
   "execution_count": 64,
   "metadata": {
    "collapsed": false
   },
   "outputs": [
    {
     "data": {
      "text/plain": [
       "'\\x14'"
      ]
     },
     "execution_count": 64,
     "metadata": {},
     "output_type": "execute_result"
    }
   ],
   "source": [
    "chr(20)"
   ]
  },
  {
   "cell_type": "code",
   "execution_count": 66,
   "metadata": {
    "collapsed": false
   },
   "outputs": [
    {
     "data": {
      "text/plain": [
       "92"
      ]
     },
     "execution_count": 66,
     "metadata": {},
     "output_type": "execute_result"
    }
   ],
   "source": [
    "ord('\\\\')"
   ]
  },
  {
   "cell_type": "code",
   "execution_count": 15,
   "metadata": {
    "collapsed": false
   },
   "outputs": [
    {
     "name": "stdout",
     "output_type": "stream",
     "text": [
      "{'second': '2.000', 'first': '20.3'}\n"
     ]
    }
   ],
   "source": [
    "test_string='20.3\\t2.000'\n",
    "num_match=r'[+-]?(\\d+(\\.\\d*)?|\\.\\d+)([eE][+-]?\\d+)?'\n",
    "test_match='(?P<first>{0})[\\s]+(?P<second>{0})'.format(num_match)\n",
    "match=re.match(test_match,test_string)\n",
    "print match.groupdict()"
   ]
  },
  {
   "cell_type": "code",
   "execution_count": 24,
   "metadata": {
    "collapsed": false
   },
   "outputs": [
    {
     "name": "stdout",
     "output_type": "stream",
     "text": [
      "20.3\t.000\n"
     ]
    }
   ],
   "source": [
    "test_string='20.3\\t.000'\n",
    "num_match=r'[+-]?(\\d+(\\.\\d*)?|\\.\\d+)([eE][+-]?\\d+)?'\n",
    "test_match='{0}[\\s]+{0}'.format(num_match)\n",
    "match=re.match(test_match,test_string)\n",
    "print match.group(0)"
   ]
  },
  {
   "cell_type": "code",
   "execution_count": 14,
   "metadata": {
    "collapsed": false
   },
   "outputs": [
    {
     "name": "stdout",
     "output_type": "stream",
     "text": [
      "3.33e-2\n"
     ]
    }
   ],
   "source": [
    "num_match=r'[+-]?(\\d+(\\.\\d*)?|\\.\\d+)([eE][+-]?\\d+)?'\n",
    "test_num='3.33e-2'\n",
    "print re.match(num_match,test_num).group(0)"
   ]
  },
  {
   "cell_type": "code",
   "execution_count": 29,
   "metadata": {
    "collapsed": false
   },
   "outputs": [
    {
     "name": "stdout",
     "output_type": "stream",
     "text": [
      "{'value_8': '.001', 'value_5': '.9', 'value_4': '180.00', 'value_7': '.1', 'value_6': '180.00', 'value_1': '.1', 'value_0': '10.0', 'value_3': '.9', 'value_2': '.001'}\n"
     ]
    }
   ],
   "source": [
    "test_row_string='10.0  .1 .001 .9 180.00 .9 180.00\\t.1 .001'\n",
    "num_match=r'[+-]?(\\d+(\\.\\d*)?|\\.\\d+)([eE][+-]?\\d+)?'\n",
    "test_match=\"\"\n",
    "for i in range(9):\n",
    "    if i == 8:\n",
    "        test_match=test_match+\"(?P<value_%s>{0})\"%str(i)\n",
    "    else:\n",
    "        test_match=test_match+\"(?P<value_%s>{0})[\\s]+\"%str(i)\n",
    "\n",
    "test_match=test_match.format(num_match)\n",
    "match=re.match(test_match,test_row_string)\n",
    "print match.groupdict()"
   ]
  },
  {
   "cell_type": "code",
   "execution_count": 4,
   "metadata": {
    "collapsed": true
   },
   "outputs": [],
   "source": [
    "df=pandas.read_csv(r'C:\\Users\\sandersa\\PyCharm Projects\\pyMeasureNew\\pyMeasure\\Code\\DataHandlers\\Tests\\onechks.csv')"
   ]
  },
  {
   "cell_type": "code",
   "execution_count": 5,
   "metadata": {
    "collapsed": false
   },
   "outputs": [
    {
     "data": {
      "text/html": [
       "<div>\n",
       "<table border=\"1\" class=\"dataframe\">\n",
       "  <thead>\n",
       "    <tr style=\"text-align: right;\">\n",
       "      <th></th>\n",
       "      <th>ctype</th>\n",
       "      <th>spid</th>\n",
       "      <th>checkid</th>\n",
       "      <th>CALDATE</th>\n",
       "      <th>MEASDATE</th>\n",
       "      <th>FREQ</th>\n",
       "      <th>CON</th>\n",
       "      <th>SP</th>\n",
       "      <th>MGAMA</th>\n",
       "      <th>PGAMA</th>\n",
       "      <th>CAL</th>\n",
       "    </tr>\n",
       "  </thead>\n",
       "  <tbody>\n",
       "    <tr>\n",
       "      <th>0</th>\n",
       "      <td>7 mm</td>\n",
       "      <td>System 2,6</td>\n",
       "      <td>C07101</td>\n",
       "      <td>02AUG93:15:00:40</td>\n",
       "      <td>10AUG93:08:31:01</td>\n",
       "      <td>2.00</td>\n",
       "      <td>1</td>\n",
       "      <td>1</td>\n",
       "      <td>0.19937</td>\n",
       "      <td>35.400</td>\n",
       "      <td>1</td>\n",
       "    </tr>\n",
       "    <tr>\n",
       "      <th>1</th>\n",
       "      <td>7 mm</td>\n",
       "      <td>System 2,6</td>\n",
       "      <td>C07101</td>\n",
       "      <td>02AUG93:15:00:40</td>\n",
       "      <td>10AUG93:08:31:01</td>\n",
       "      <td>2.00</td>\n",
       "      <td>2</td>\n",
       "      <td>1</td>\n",
       "      <td>0.19932</td>\n",
       "      <td>35.401</td>\n",
       "      <td>1</td>\n",
       "    </tr>\n",
       "    <tr>\n",
       "      <th>2</th>\n",
       "      <td>7 mm</td>\n",
       "      <td>System 2,6</td>\n",
       "      <td>C07101</td>\n",
       "      <td>02AUG93:15:00:40</td>\n",
       "      <td>10AUG93:08:31:01</td>\n",
       "      <td>2.00</td>\n",
       "      <td>3</td>\n",
       "      <td>1</td>\n",
       "      <td>0.19934</td>\n",
       "      <td>35.397</td>\n",
       "      <td>1</td>\n",
       "    </tr>\n",
       "    <tr>\n",
       "      <th>3</th>\n",
       "      <td>7 mm</td>\n",
       "      <td>System 2,6</td>\n",
       "      <td>C07101</td>\n",
       "      <td>02AUG93:15:00:40</td>\n",
       "      <td>10AUG93:08:31:01</td>\n",
       "      <td>3.00</td>\n",
       "      <td>1</td>\n",
       "      <td>1</td>\n",
       "      <td>0.20243</td>\n",
       "      <td>-37.995</td>\n",
       "      <td>1</td>\n",
       "    </tr>\n",
       "    <tr>\n",
       "      <th>4</th>\n",
       "      <td>7 mm</td>\n",
       "      <td>System 2,6</td>\n",
       "      <td>C07101</td>\n",
       "      <td>02AUG93:15:00:40</td>\n",
       "      <td>10AUG93:08:31:01</td>\n",
       "      <td>3.00</td>\n",
       "      <td>2</td>\n",
       "      <td>1</td>\n",
       "      <td>0.20252</td>\n",
       "      <td>-37.986</td>\n",
       "      <td>1</td>\n",
       "    </tr>\n",
       "    <tr>\n",
       "      <th>5</th>\n",
       "      <td>7 mm</td>\n",
       "      <td>System 2,6</td>\n",
       "      <td>C07101</td>\n",
       "      <td>02AUG93:15:00:40</td>\n",
       "      <td>10AUG93:08:31:01</td>\n",
       "      <td>3.00</td>\n",
       "      <td>3</td>\n",
       "      <td>1</td>\n",
       "      <td>0.20245</td>\n",
       "      <td>-38.014</td>\n",
       "      <td>1</td>\n",
       "    </tr>\n",
       "    <tr>\n",
       "      <th>6</th>\n",
       "      <td>7 mm</td>\n",
       "      <td>System 2,6</td>\n",
       "      <td>C07101</td>\n",
       "      <td>02AUG93:15:00:40</td>\n",
       "      <td>10AUG93:08:31:01</td>\n",
       "      <td>4.00</td>\n",
       "      <td>1</td>\n",
       "      <td>1</td>\n",
       "      <td>0.20361</td>\n",
       "      <td>-110.024</td>\n",
       "      <td>1</td>\n",
       "    </tr>\n",
       "    <tr>\n",
       "      <th>7</th>\n",
       "      <td>7 mm</td>\n",
       "      <td>System 2,6</td>\n",
       "      <td>C07101</td>\n",
       "      <td>02AUG93:15:00:40</td>\n",
       "      <td>10AUG93:08:31:01</td>\n",
       "      <td>4.00</td>\n",
       "      <td>2</td>\n",
       "      <td>1</td>\n",
       "      <td>0.20348</td>\n",
       "      <td>-110.032</td>\n",
       "      <td>1</td>\n",
       "    </tr>\n",
       "    <tr>\n",
       "      <th>8</th>\n",
       "      <td>7 mm</td>\n",
       "      <td>System 2,6</td>\n",
       "      <td>C07101</td>\n",
       "      <td>02AUG93:15:00:40</td>\n",
       "      <td>10AUG93:08:31:01</td>\n",
       "      <td>4.00</td>\n",
       "      <td>3</td>\n",
       "      <td>1</td>\n",
       "      <td>0.20368</td>\n",
       "      <td>-110.029</td>\n",
       "      <td>1</td>\n",
       "    </tr>\n",
       "    <tr>\n",
       "      <th>9</th>\n",
       "      <td>7 mm</td>\n",
       "      <td>System 2,6</td>\n",
       "      <td>C07101</td>\n",
       "      <td>02AUG93:15:00:40</td>\n",
       "      <td>10AUG93:08:31:01</td>\n",
       "      <td>5.00</td>\n",
       "      <td>1</td>\n",
       "      <td>1</td>\n",
       "      <td>0.20369</td>\n",
       "      <td>178.440</td>\n",
       "      <td>1</td>\n",
       "    </tr>\n",
       "    <tr>\n",
       "      <th>10</th>\n",
       "      <td>7 mm</td>\n",
       "      <td>System 2,6</td>\n",
       "      <td>C07101</td>\n",
       "      <td>02AUG93:15:00:40</td>\n",
       "      <td>10AUG93:08:31:01</td>\n",
       "      <td>5.00</td>\n",
       "      <td>2</td>\n",
       "      <td>1</td>\n",
       "      <td>0.20369</td>\n",
       "      <td>178.407</td>\n",
       "      <td>1</td>\n",
       "    </tr>\n",
       "    <tr>\n",
       "      <th>11</th>\n",
       "      <td>7 mm</td>\n",
       "      <td>System 2,6</td>\n",
       "      <td>C07101</td>\n",
       "      <td>02AUG93:15:00:40</td>\n",
       "      <td>10AUG93:08:31:01</td>\n",
       "      <td>5.00</td>\n",
       "      <td>3</td>\n",
       "      <td>1</td>\n",
       "      <td>0.20369</td>\n",
       "      <td>178.434</td>\n",
       "      <td>1</td>\n",
       "    </tr>\n",
       "    <tr>\n",
       "      <th>12</th>\n",
       "      <td>7 mm</td>\n",
       "      <td>System 2,6</td>\n",
       "      <td>C07101</td>\n",
       "      <td>02AUG93:15:00:40</td>\n",
       "      <td>10AUG93:08:31:01</td>\n",
       "      <td>6.00</td>\n",
       "      <td>1</td>\n",
       "      <td>1</td>\n",
       "      <td>0.20373</td>\n",
       "      <td>107.016</td>\n",
       "      <td>1</td>\n",
       "    </tr>\n",
       "    <tr>\n",
       "      <th>13</th>\n",
       "      <td>7 mm</td>\n",
       "      <td>System 2,6</td>\n",
       "      <td>C07101</td>\n",
       "      <td>02AUG93:15:00:40</td>\n",
       "      <td>10AUG93:08:31:01</td>\n",
       "      <td>6.00</td>\n",
       "      <td>2</td>\n",
       "      <td>1</td>\n",
       "      <td>0.20370</td>\n",
       "      <td>107.013</td>\n",
       "      <td>1</td>\n",
       "    </tr>\n",
       "    <tr>\n",
       "      <th>14</th>\n",
       "      <td>7 mm</td>\n",
       "      <td>System 2,6</td>\n",
       "      <td>C07101</td>\n",
       "      <td>02AUG93:15:00:40</td>\n",
       "      <td>10AUG93:08:31:01</td>\n",
       "      <td>6.00</td>\n",
       "      <td>3</td>\n",
       "      <td>1</td>\n",
       "      <td>0.20372</td>\n",
       "      <td>107.000</td>\n",
       "      <td>1</td>\n",
       "    </tr>\n",
       "    <tr>\n",
       "      <th>15</th>\n",
       "      <td>7 mm</td>\n",
       "      <td>System 2,6</td>\n",
       "      <td>C07101</td>\n",
       "      <td>NaN</td>\n",
       "      <td>10AUG93:08:31:01</td>\n",
       "      <td>7.00</td>\n",
       "      <td>1</td>\n",
       "      <td>1</td>\n",
       "      <td>0.19963</td>\n",
       "      <td>34.812</td>\n",
       "      <td>1</td>\n",
       "    </tr>\n",
       "    <tr>\n",
       "      <th>16</th>\n",
       "      <td>7 mm</td>\n",
       "      <td>System 2,6</td>\n",
       "      <td>C07101</td>\n",
       "      <td>02AUG93:15:00:40</td>\n",
       "      <td>10AUG93:08:31:01</td>\n",
       "      <td>7.00</td>\n",
       "      <td>2</td>\n",
       "      <td>1</td>\n",
       "      <td>0.19970</td>\n",
       "      <td>34.762</td>\n",
       "      <td>2</td>\n",
       "    </tr>\n",
       "    <tr>\n",
       "      <th>17</th>\n",
       "      <td>7 mm</td>\n",
       "      <td>System 2,6</td>\n",
       "      <td>C07101</td>\n",
       "      <td>02AUG93:15:00:40</td>\n",
       "      <td>10AUG93:08:31:01</td>\n",
       "      <td>7.00</td>\n",
       "      <td>3</td>\n",
       "      <td>1</td>\n",
       "      <td>0.19962</td>\n",
       "      <td>34.784</td>\n",
       "      <td>2</td>\n",
       "    </tr>\n",
       "    <tr>\n",
       "      <th>18</th>\n",
       "      <td>7 mm</td>\n",
       "      <td>System 2,6</td>\n",
       "      <td>C07101</td>\n",
       "      <td>11JUN93:08:38:29</td>\n",
       "      <td>25JUN93:08:24:02</td>\n",
       "      <td>8.00</td>\n",
       "      <td>1</td>\n",
       "      <td>1</td>\n",
       "      <td>0.19123</td>\n",
       "      <td>-39.730</td>\n",
       "      <td>1</td>\n",
       "    </tr>\n",
       "    <tr>\n",
       "      <th>19</th>\n",
       "      <td>7 mm</td>\n",
       "      <td>System 2,6</td>\n",
       "      <td>C07101</td>\n",
       "      <td>11JUN93:08:38:29</td>\n",
       "      <td>25JUN93:08:24:02</td>\n",
       "      <td>8.00</td>\n",
       "      <td>2</td>\n",
       "      <td>1</td>\n",
       "      <td>0.19115</td>\n",
       "      <td>-39.765</td>\n",
       "      <td>1</td>\n",
       "    </tr>\n",
       "    <tr>\n",
       "      <th>20</th>\n",
       "      <td>7 mm</td>\n",
       "      <td>System 2,6</td>\n",
       "      <td>C07101</td>\n",
       "      <td>11JUN93:08:38:29</td>\n",
       "      <td>25JUN93:08:24:02</td>\n",
       "      <td>8.00</td>\n",
       "      <td>3</td>\n",
       "      <td>1</td>\n",
       "      <td>0.19116</td>\n",
       "      <td>-39.750</td>\n",
       "      <td>1</td>\n",
       "    </tr>\n",
       "    <tr>\n",
       "      <th>21</th>\n",
       "      <td>7 mm</td>\n",
       "      <td>System 2,6</td>\n",
       "      <td>C07101</td>\n",
       "      <td>02AUG93:15:00:40</td>\n",
       "      <td>10AUG93:08:31:01</td>\n",
       "      <td>8.00</td>\n",
       "      <td>1</td>\n",
       "      <td>1</td>\n",
       "      <td>0.19228</td>\n",
       "      <td>-39.865</td>\n",
       "      <td>2</td>\n",
       "    </tr>\n",
       "    <tr>\n",
       "      <th>22</th>\n",
       "      <td>7 mm</td>\n",
       "      <td>System 2,6</td>\n",
       "      <td>C07101</td>\n",
       "      <td>02AUG93:15:00:40</td>\n",
       "      <td>10AUG93:08:31:01</td>\n",
       "      <td>8.00</td>\n",
       "      <td>2</td>\n",
       "      <td>1</td>\n",
       "      <td>0.19221</td>\n",
       "      <td>-39.803</td>\n",
       "      <td>2</td>\n",
       "    </tr>\n",
       "    <tr>\n",
       "      <th>23</th>\n",
       "      <td>7 mm</td>\n",
       "      <td>System 2,6</td>\n",
       "      <td>C07101</td>\n",
       "      <td>02AUG93:15:00:40</td>\n",
       "      <td>10AUG93:08:31:01</td>\n",
       "      <td>8.00</td>\n",
       "      <td>3</td>\n",
       "      <td>1</td>\n",
       "      <td>0.19227</td>\n",
       "      <td>-39.853</td>\n",
       "      <td>2</td>\n",
       "    </tr>\n",
       "    <tr>\n",
       "      <th>24</th>\n",
       "      <td>7 mm</td>\n",
       "      <td>System 2,6</td>\n",
       "      <td>C07101</td>\n",
       "      <td>11JUN93:08:38:29</td>\n",
       "      <td>25JUN93:08:24:02</td>\n",
       "      <td>8.20</td>\n",
       "      <td>1</td>\n",
       "      <td>1</td>\n",
       "      <td>0.19037</td>\n",
       "      <td>-55.060</td>\n",
       "      <td>1</td>\n",
       "    </tr>\n",
       "    <tr>\n",
       "      <th>25</th>\n",
       "      <td>7 mm</td>\n",
       "      <td>System 2,6</td>\n",
       "      <td>C07101</td>\n",
       "      <td>11JUN93:08:38:29</td>\n",
       "      <td>25JUN93:08:24:02</td>\n",
       "      <td>8.20</td>\n",
       "      <td>2</td>\n",
       "      <td>1</td>\n",
       "      <td>0.19017</td>\n",
       "      <td>-55.057</td>\n",
       "      <td>1</td>\n",
       "    </tr>\n",
       "    <tr>\n",
       "      <th>26</th>\n",
       "      <td>7 mm</td>\n",
       "      <td>System 2,6</td>\n",
       "      <td>C07101</td>\n",
       "      <td>11JUN93:08:38:29</td>\n",
       "      <td>25JUN93:08:24:02</td>\n",
       "      <td>8.20</td>\n",
       "      <td>3</td>\n",
       "      <td>1</td>\n",
       "      <td>0.19016</td>\n",
       "      <td>-55.124</td>\n",
       "      <td>1</td>\n",
       "    </tr>\n",
       "    <tr>\n",
       "      <th>27</th>\n",
       "      <td>7 mm</td>\n",
       "      <td>System 2,6</td>\n",
       "      <td>C07101</td>\n",
       "      <td>11JUN93:08:38:29</td>\n",
       "      <td>25JUN93:08:24:02</td>\n",
       "      <td>8.40</td>\n",
       "      <td>1</td>\n",
       "      <td>1</td>\n",
       "      <td>0.18944</td>\n",
       "      <td>-70.174</td>\n",
       "      <td>1</td>\n",
       "    </tr>\n",
       "    <tr>\n",
       "      <th>28</th>\n",
       "      <td>7 mm</td>\n",
       "      <td>System 2,6</td>\n",
       "      <td>C07101</td>\n",
       "      <td>11JUN93:08:38:29</td>\n",
       "      <td>25JUN93:08:24:02</td>\n",
       "      <td>8.40</td>\n",
       "      <td>2</td>\n",
       "      <td>1</td>\n",
       "      <td>0.18936</td>\n",
       "      <td>-70.194</td>\n",
       "      <td>1</td>\n",
       "    </tr>\n",
       "    <tr>\n",
       "      <th>29</th>\n",
       "      <td>7 mm</td>\n",
       "      <td>System 2,6</td>\n",
       "      <td>C07101</td>\n",
       "      <td>11JUN93:08:38:29</td>\n",
       "      <td>25JUN93:08:24:02</td>\n",
       "      <td>8.40</td>\n",
       "      <td>3</td>\n",
       "      <td>1</td>\n",
       "      <td>0.18912</td>\n",
       "      <td>-70.222</td>\n",
       "      <td>1</td>\n",
       "    </tr>\n",
       "    <tr>\n",
       "      <th>...</th>\n",
       "      <td>...</td>\n",
       "      <td>...</td>\n",
       "      <td>...</td>\n",
       "      <td>...</td>\n",
       "      <td>...</td>\n",
       "      <td>...</td>\n",
       "      <td>...</td>\n",
       "      <td>...</td>\n",
       "      <td>...</td>\n",
       "      <td>...</td>\n",
       "      <td>...</td>\n",
       "    </tr>\n",
       "    <tr>\n",
       "      <th>212516</th>\n",
       "      <td>Type N + Adapter on port 2</td>\n",
       "      <td>System I</td>\n",
       "      <td>CTN115</td>\n",
       "      <td>16JUL96:10:04:08</td>\n",
       "      <td>01AUG96:10:36:03</td>\n",
       "      <td>0.95</td>\n",
       "      <td>1</td>\n",
       "      <td>2</td>\n",
       "      <td>0.00404</td>\n",
       "      <td>72.663</td>\n",
       "      <td>1</td>\n",
       "    </tr>\n",
       "    <tr>\n",
       "      <th>212517</th>\n",
       "      <td>Type N + Adapter on port 2</td>\n",
       "      <td>System I</td>\n",
       "      <td>CTN115</td>\n",
       "      <td>16JUL96:10:04:08</td>\n",
       "      <td>01AUG96:10:36:03</td>\n",
       "      <td>0.95</td>\n",
       "      <td>2</td>\n",
       "      <td>2</td>\n",
       "      <td>0.00396</td>\n",
       "      <td>71.228</td>\n",
       "      <td>1</td>\n",
       "    </tr>\n",
       "    <tr>\n",
       "      <th>212518</th>\n",
       "      <td>Type N + Adapter on port 2</td>\n",
       "      <td>System I</td>\n",
       "      <td>CTN115</td>\n",
       "      <td>16JUL96:10:04:08</td>\n",
       "      <td>01AUG96:10:36:03</td>\n",
       "      <td>0.95</td>\n",
       "      <td>3</td>\n",
       "      <td>2</td>\n",
       "      <td>0.00382</td>\n",
       "      <td>71.534</td>\n",
       "      <td>1</td>\n",
       "    </tr>\n",
       "    <tr>\n",
       "      <th>212519</th>\n",
       "      <td>Type N + Adapter on port 2</td>\n",
       "      <td>System I</td>\n",
       "      <td>CTN115</td>\n",
       "      <td>14AUG96:10:08:24</td>\n",
       "      <td>15AUG96:10:54:42</td>\n",
       "      <td>0.95</td>\n",
       "      <td>1</td>\n",
       "      <td>2</td>\n",
       "      <td>0.00321</td>\n",
       "      <td>78.495</td>\n",
       "      <td>2</td>\n",
       "    </tr>\n",
       "    <tr>\n",
       "      <th>212520</th>\n",
       "      <td>Type N + Adapter on port 2</td>\n",
       "      <td>System I</td>\n",
       "      <td>CTN115</td>\n",
       "      <td>14AUG96:10:08:24</td>\n",
       "      <td>15AUG96:10:54:42</td>\n",
       "      <td>0.95</td>\n",
       "      <td>2</td>\n",
       "      <td>2</td>\n",
       "      <td>0.00309</td>\n",
       "      <td>80.732</td>\n",
       "      <td>2</td>\n",
       "    </tr>\n",
       "    <tr>\n",
       "      <th>212521</th>\n",
       "      <td>Type N + Adapter on port 2</td>\n",
       "      <td>System I</td>\n",
       "      <td>CTN115</td>\n",
       "      <td>14AUG96:10:08:24</td>\n",
       "      <td>15AUG96:10:54:42</td>\n",
       "      <td>0.95</td>\n",
       "      <td>3</td>\n",
       "      <td>2</td>\n",
       "      <td>0.00304</td>\n",
       "      <td>81.854</td>\n",
       "      <td>2</td>\n",
       "    </tr>\n",
       "    <tr>\n",
       "      <th>212522</th>\n",
       "      <td>Type N + Adapter on port 2</td>\n",
       "      <td>System I</td>\n",
       "      <td>CTN115</td>\n",
       "      <td>16NOV99:15:07:04</td>\n",
       "      <td>10JAN00:11:01:37</td>\n",
       "      <td>0.95</td>\n",
       "      <td>1</td>\n",
       "      <td>2</td>\n",
       "      <td>0.00116</td>\n",
       "      <td>66.598</td>\n",
       "      <td>3</td>\n",
       "    </tr>\n",
       "    <tr>\n",
       "      <th>212523</th>\n",
       "      <td>Type N + Adapter on port 2</td>\n",
       "      <td>System I</td>\n",
       "      <td>CTN115</td>\n",
       "      <td>16NOV99:15:07:04</td>\n",
       "      <td>10JAN00:11:01:37</td>\n",
       "      <td>0.95</td>\n",
       "      <td>2</td>\n",
       "      <td>2</td>\n",
       "      <td>0.00100</td>\n",
       "      <td>73.264</td>\n",
       "      <td>3</td>\n",
       "    </tr>\n",
       "    <tr>\n",
       "      <th>212524</th>\n",
       "      <td>Type N + Adapter on port 2</td>\n",
       "      <td>System I</td>\n",
       "      <td>CTN115</td>\n",
       "      <td>16NOV99:15:07:04</td>\n",
       "      <td>10JAN00:11:01:37</td>\n",
       "      <td>0.95</td>\n",
       "      <td>3</td>\n",
       "      <td>2</td>\n",
       "      <td>0.00102</td>\n",
       "      <td>74.398</td>\n",
       "      <td>3</td>\n",
       "    </tr>\n",
       "    <tr>\n",
       "      <th>212525</th>\n",
       "      <td>Type N + Adapter on port 2</td>\n",
       "      <td>System I</td>\n",
       "      <td>CTN115</td>\n",
       "      <td>20JUL01:12:13:22</td>\n",
       "      <td>23JUL01:14:19:01</td>\n",
       "      <td>0.95</td>\n",
       "      <td>1</td>\n",
       "      <td>2</td>\n",
       "      <td>0.00125</td>\n",
       "      <td>74.221</td>\n",
       "      <td>4</td>\n",
       "    </tr>\n",
       "    <tr>\n",
       "      <th>212526</th>\n",
       "      <td>Type N + Adapter on port 2</td>\n",
       "      <td>System I</td>\n",
       "      <td>CTN115</td>\n",
       "      <td>20JUL01:12:13:22</td>\n",
       "      <td>23JUL01:14:19:01</td>\n",
       "      <td>0.95</td>\n",
       "      <td>2</td>\n",
       "      <td>2</td>\n",
       "      <td>0.00127</td>\n",
       "      <td>72.868</td>\n",
       "      <td>4</td>\n",
       "    </tr>\n",
       "    <tr>\n",
       "      <th>212527</th>\n",
       "      <td>Type N + Adapter on port 2</td>\n",
       "      <td>System I</td>\n",
       "      <td>CTN115</td>\n",
       "      <td>20JUL01:12:13:22</td>\n",
       "      <td>23JUL01:14:19:01</td>\n",
       "      <td>0.95</td>\n",
       "      <td>3</td>\n",
       "      <td>2</td>\n",
       "      <td>0.00122</td>\n",
       "      <td>72.741</td>\n",
       "      <td>4</td>\n",
       "    </tr>\n",
       "    <tr>\n",
       "      <th>212528</th>\n",
       "      <td>Type N + Adapter on port 2</td>\n",
       "      <td>System I</td>\n",
       "      <td>CTN115</td>\n",
       "      <td>11DEC01:15:24:30</td>\n",
       "      <td>18DEC01:17:08:38</td>\n",
       "      <td>0.95</td>\n",
       "      <td>1</td>\n",
       "      <td>2</td>\n",
       "      <td>0.00086</td>\n",
       "      <td>68.745</td>\n",
       "      <td>5</td>\n",
       "    </tr>\n",
       "    <tr>\n",
       "      <th>212529</th>\n",
       "      <td>Type N + Adapter on port 2</td>\n",
       "      <td>System I</td>\n",
       "      <td>CTN115</td>\n",
       "      <td>11DEC01:15:24:30</td>\n",
       "      <td>18DEC01:17:08:38</td>\n",
       "      <td>0.95</td>\n",
       "      <td>2</td>\n",
       "      <td>2</td>\n",
       "      <td>0.00087</td>\n",
       "      <td>70.501</td>\n",
       "      <td>5</td>\n",
       "    </tr>\n",
       "    <tr>\n",
       "      <th>212530</th>\n",
       "      <td>Type N + Adapter on port 2</td>\n",
       "      <td>System I</td>\n",
       "      <td>CTN115</td>\n",
       "      <td>11DEC01:15:24:30</td>\n",
       "      <td>18DEC01:17:08:38</td>\n",
       "      <td>0.95</td>\n",
       "      <td>3</td>\n",
       "      <td>2</td>\n",
       "      <td>0.00090</td>\n",
       "      <td>68.807</td>\n",
       "      <td>5</td>\n",
       "    </tr>\n",
       "    <tr>\n",
       "      <th>212531</th>\n",
       "      <td>Type N + Adapter on port 2</td>\n",
       "      <td>System I</td>\n",
       "      <td>CTN115</td>\n",
       "      <td>16JUL96:10:04:08</td>\n",
       "      <td>01AUG96:10:36:03</td>\n",
       "      <td>1.00</td>\n",
       "      <td>1</td>\n",
       "      <td>2</td>\n",
       "      <td>0.00456</td>\n",
       "      <td>74.796</td>\n",
       "      <td>1</td>\n",
       "    </tr>\n",
       "    <tr>\n",
       "      <th>212532</th>\n",
       "      <td>Type N + Adapter on port 2</td>\n",
       "      <td>System I</td>\n",
       "      <td>CTN115</td>\n",
       "      <td>16JUL96:10:04:08</td>\n",
       "      <td>01AUG96:10:36:03</td>\n",
       "      <td>1.00</td>\n",
       "      <td>2</td>\n",
       "      <td>2</td>\n",
       "      <td>0.00453</td>\n",
       "      <td>71.735</td>\n",
       "      <td>1</td>\n",
       "    </tr>\n",
       "    <tr>\n",
       "      <th>212533</th>\n",
       "      <td>Type N + Adapter on port 2</td>\n",
       "      <td>System I</td>\n",
       "      <td>CTN115</td>\n",
       "      <td>16JUL96:10:04:08</td>\n",
       "      <td>01AUG96:10:36:03</td>\n",
       "      <td>1.00</td>\n",
       "      <td>3</td>\n",
       "      <td>2</td>\n",
       "      <td>0.00461</td>\n",
       "      <td>76.099</td>\n",
       "      <td>1</td>\n",
       "    </tr>\n",
       "    <tr>\n",
       "      <th>212534</th>\n",
       "      <td>Type N + Adapter on port 2</td>\n",
       "      <td>System I</td>\n",
       "      <td>CTN115</td>\n",
       "      <td>14AUG96:10:08:24</td>\n",
       "      <td>15AUG96:10:54:42</td>\n",
       "      <td>1.00</td>\n",
       "      <td>1</td>\n",
       "      <td>2</td>\n",
       "      <td>0.00223</td>\n",
       "      <td>63.301</td>\n",
       "      <td>2</td>\n",
       "    </tr>\n",
       "    <tr>\n",
       "      <th>212535</th>\n",
       "      <td>Type N + Adapter on port 2</td>\n",
       "      <td>System I</td>\n",
       "      <td>CTN115</td>\n",
       "      <td>14AUG96:10:08:24</td>\n",
       "      <td>15AUG96:10:54:42</td>\n",
       "      <td>1.00</td>\n",
       "      <td>2</td>\n",
       "      <td>2</td>\n",
       "      <td>0.00207</td>\n",
       "      <td>64.229</td>\n",
       "      <td>2</td>\n",
       "    </tr>\n",
       "    <tr>\n",
       "      <th>212536</th>\n",
       "      <td>Type N + Adapter on port 2</td>\n",
       "      <td>System I</td>\n",
       "      <td>CTN115</td>\n",
       "      <td>14AUG96:10:08:24</td>\n",
       "      <td>15AUG96:10:54:42</td>\n",
       "      <td>1.00</td>\n",
       "      <td>3</td>\n",
       "      <td>2</td>\n",
       "      <td>0.00204</td>\n",
       "      <td>63.765</td>\n",
       "      <td>2</td>\n",
       "    </tr>\n",
       "    <tr>\n",
       "      <th>212537</th>\n",
       "      <td>Type N + Adapter on port 2</td>\n",
       "      <td>System I</td>\n",
       "      <td>CTN115</td>\n",
       "      <td>16NOV99:15:07:04</td>\n",
       "      <td>10JAN00:11:01:37</td>\n",
       "      <td>1.00</td>\n",
       "      <td>1</td>\n",
       "      <td>2</td>\n",
       "      <td>0.00106</td>\n",
       "      <td>32.350</td>\n",
       "      <td>3</td>\n",
       "    </tr>\n",
       "    <tr>\n",
       "      <th>212538</th>\n",
       "      <td>Type N + Adapter on port 2</td>\n",
       "      <td>System I</td>\n",
       "      <td>CTN115</td>\n",
       "      <td>16NOV99:15:07:04</td>\n",
       "      <td>10JAN00:11:01:37</td>\n",
       "      <td>1.00</td>\n",
       "      <td>2</td>\n",
       "      <td>2</td>\n",
       "      <td>0.00080</td>\n",
       "      <td>30.094</td>\n",
       "      <td>3</td>\n",
       "    </tr>\n",
       "    <tr>\n",
       "      <th>212539</th>\n",
       "      <td>Type N + Adapter on port 2</td>\n",
       "      <td>System I</td>\n",
       "      <td>CTN115</td>\n",
       "      <td>16NOV99:15:07:04</td>\n",
       "      <td>10JAN00:11:01:37</td>\n",
       "      <td>1.00</td>\n",
       "      <td>3</td>\n",
       "      <td>2</td>\n",
       "      <td>0.00079</td>\n",
       "      <td>29.943</td>\n",
       "      <td>3</td>\n",
       "    </tr>\n",
       "    <tr>\n",
       "      <th>212540</th>\n",
       "      <td>Type N + Adapter on port 2</td>\n",
       "      <td>System I</td>\n",
       "      <td>CTN115</td>\n",
       "      <td>20JUL01:12:13:22</td>\n",
       "      <td>23JUL01:14:19:01</td>\n",
       "      <td>1.00</td>\n",
       "      <td>1</td>\n",
       "      <td>2</td>\n",
       "      <td>0.00099</td>\n",
       "      <td>41.521</td>\n",
       "      <td>4</td>\n",
       "    </tr>\n",
       "    <tr>\n",
       "      <th>212541</th>\n",
       "      <td>Type N + Adapter on port 2</td>\n",
       "      <td>System I</td>\n",
       "      <td>CTN115</td>\n",
       "      <td>20JUL01:12:13:22</td>\n",
       "      <td>23JUL01:14:19:01</td>\n",
       "      <td>1.00</td>\n",
       "      <td>2</td>\n",
       "      <td>2</td>\n",
       "      <td>0.00099</td>\n",
       "      <td>39.387</td>\n",
       "      <td>4</td>\n",
       "    </tr>\n",
       "    <tr>\n",
       "      <th>212542</th>\n",
       "      <td>Type N + Adapter on port 2</td>\n",
       "      <td>System I</td>\n",
       "      <td>CTN115</td>\n",
       "      <td>20JUL01:12:13:22</td>\n",
       "      <td>23JUL01:14:19:01</td>\n",
       "      <td>1.00</td>\n",
       "      <td>3</td>\n",
       "      <td>2</td>\n",
       "      <td>0.00102</td>\n",
       "      <td>40.162</td>\n",
       "      <td>4</td>\n",
       "    </tr>\n",
       "    <tr>\n",
       "      <th>212543</th>\n",
       "      <td>Type N + Adapter on port 2</td>\n",
       "      <td>System I</td>\n",
       "      <td>CTN115</td>\n",
       "      <td>11DEC01:15:24:30</td>\n",
       "      <td>18DEC01:17:08:38</td>\n",
       "      <td>1.00</td>\n",
       "      <td>1</td>\n",
       "      <td>2</td>\n",
       "      <td>0.00088</td>\n",
       "      <td>56.739</td>\n",
       "      <td>5</td>\n",
       "    </tr>\n",
       "    <tr>\n",
       "      <th>212544</th>\n",
       "      <td>Type N + Adapter on port 2</td>\n",
       "      <td>System I</td>\n",
       "      <td>CTN115</td>\n",
       "      <td>11DEC01:15:24:30</td>\n",
       "      <td>18DEC01:17:08:38</td>\n",
       "      <td>1.00</td>\n",
       "      <td>2</td>\n",
       "      <td>2</td>\n",
       "      <td>0.00087</td>\n",
       "      <td>53.625</td>\n",
       "      <td>5</td>\n",
       "    </tr>\n",
       "    <tr>\n",
       "      <th>212545</th>\n",
       "      <td>Type N + Adapter on port 2</td>\n",
       "      <td>System I</td>\n",
       "      <td>CTN115</td>\n",
       "      <td>11DEC01:15:24:30</td>\n",
       "      <td>18DEC01:17:08:38</td>\n",
       "      <td>1.00</td>\n",
       "      <td>3</td>\n",
       "      <td>2</td>\n",
       "      <td>0.00089</td>\n",
       "      <td>55.686</td>\n",
       "      <td>5</td>\n",
       "    </tr>\n",
       "  </tbody>\n",
       "</table>\n",
       "<p>212546 rows × 11 columns</p>\n",
       "</div>"
      ],
      "text/plain": [
       "                             ctype        spid checkid           CALDATE  \\\n",
       "0                             7 mm  System 2,6  C07101  02AUG93:15:00:40   \n",
       "1                             7 mm  System 2,6  C07101  02AUG93:15:00:40   \n",
       "2                             7 mm  System 2,6  C07101  02AUG93:15:00:40   \n",
       "3                             7 mm  System 2,6  C07101  02AUG93:15:00:40   \n",
       "4                             7 mm  System 2,6  C07101  02AUG93:15:00:40   \n",
       "5                             7 mm  System 2,6  C07101  02AUG93:15:00:40   \n",
       "6                             7 mm  System 2,6  C07101  02AUG93:15:00:40   \n",
       "7                             7 mm  System 2,6  C07101  02AUG93:15:00:40   \n",
       "8                             7 mm  System 2,6  C07101  02AUG93:15:00:40   \n",
       "9                             7 mm  System 2,6  C07101  02AUG93:15:00:40   \n",
       "10                            7 mm  System 2,6  C07101  02AUG93:15:00:40   \n",
       "11                            7 mm  System 2,6  C07101  02AUG93:15:00:40   \n",
       "12                            7 mm  System 2,6  C07101  02AUG93:15:00:40   \n",
       "13                            7 mm  System 2,6  C07101  02AUG93:15:00:40   \n",
       "14                            7 mm  System 2,6  C07101  02AUG93:15:00:40   \n",
       "15                            7 mm  System 2,6  C07101               NaN   \n",
       "16                            7 mm  System 2,6  C07101  02AUG93:15:00:40   \n",
       "17                            7 mm  System 2,6  C07101  02AUG93:15:00:40   \n",
       "18                            7 mm  System 2,6  C07101  11JUN93:08:38:29   \n",
       "19                            7 mm  System 2,6  C07101  11JUN93:08:38:29   \n",
       "20                            7 mm  System 2,6  C07101  11JUN93:08:38:29   \n",
       "21                            7 mm  System 2,6  C07101  02AUG93:15:00:40   \n",
       "22                            7 mm  System 2,6  C07101  02AUG93:15:00:40   \n",
       "23                            7 mm  System 2,6  C07101  02AUG93:15:00:40   \n",
       "24                            7 mm  System 2,6  C07101  11JUN93:08:38:29   \n",
       "25                            7 mm  System 2,6  C07101  11JUN93:08:38:29   \n",
       "26                            7 mm  System 2,6  C07101  11JUN93:08:38:29   \n",
       "27                            7 mm  System 2,6  C07101  11JUN93:08:38:29   \n",
       "28                            7 mm  System 2,6  C07101  11JUN93:08:38:29   \n",
       "29                            7 mm  System 2,6  C07101  11JUN93:08:38:29   \n",
       "...                            ...         ...     ...               ...   \n",
       "212516  Type N + Adapter on port 2    System I  CTN115  16JUL96:10:04:08   \n",
       "212517  Type N + Adapter on port 2    System I  CTN115  16JUL96:10:04:08   \n",
       "212518  Type N + Adapter on port 2    System I  CTN115  16JUL96:10:04:08   \n",
       "212519  Type N + Adapter on port 2    System I  CTN115  14AUG96:10:08:24   \n",
       "212520  Type N + Adapter on port 2    System I  CTN115  14AUG96:10:08:24   \n",
       "212521  Type N + Adapter on port 2    System I  CTN115  14AUG96:10:08:24   \n",
       "212522  Type N + Adapter on port 2    System I  CTN115  16NOV99:15:07:04   \n",
       "212523  Type N + Adapter on port 2    System I  CTN115  16NOV99:15:07:04   \n",
       "212524  Type N + Adapter on port 2    System I  CTN115  16NOV99:15:07:04   \n",
       "212525  Type N + Adapter on port 2    System I  CTN115  20JUL01:12:13:22   \n",
       "212526  Type N + Adapter on port 2    System I  CTN115  20JUL01:12:13:22   \n",
       "212527  Type N + Adapter on port 2    System I  CTN115  20JUL01:12:13:22   \n",
       "212528  Type N + Adapter on port 2    System I  CTN115  11DEC01:15:24:30   \n",
       "212529  Type N + Adapter on port 2    System I  CTN115  11DEC01:15:24:30   \n",
       "212530  Type N + Adapter on port 2    System I  CTN115  11DEC01:15:24:30   \n",
       "212531  Type N + Adapter on port 2    System I  CTN115  16JUL96:10:04:08   \n",
       "212532  Type N + Adapter on port 2    System I  CTN115  16JUL96:10:04:08   \n",
       "212533  Type N + Adapter on port 2    System I  CTN115  16JUL96:10:04:08   \n",
       "212534  Type N + Adapter on port 2    System I  CTN115  14AUG96:10:08:24   \n",
       "212535  Type N + Adapter on port 2    System I  CTN115  14AUG96:10:08:24   \n",
       "212536  Type N + Adapter on port 2    System I  CTN115  14AUG96:10:08:24   \n",
       "212537  Type N + Adapter on port 2    System I  CTN115  16NOV99:15:07:04   \n",
       "212538  Type N + Adapter on port 2    System I  CTN115  16NOV99:15:07:04   \n",
       "212539  Type N + Adapter on port 2    System I  CTN115  16NOV99:15:07:04   \n",
       "212540  Type N + Adapter on port 2    System I  CTN115  20JUL01:12:13:22   \n",
       "212541  Type N + Adapter on port 2    System I  CTN115  20JUL01:12:13:22   \n",
       "212542  Type N + Adapter on port 2    System I  CTN115  20JUL01:12:13:22   \n",
       "212543  Type N + Adapter on port 2    System I  CTN115  11DEC01:15:24:30   \n",
       "212544  Type N + Adapter on port 2    System I  CTN115  11DEC01:15:24:30   \n",
       "212545  Type N + Adapter on port 2    System I  CTN115  11DEC01:15:24:30   \n",
       "\n",
       "                MEASDATE  FREQ  CON  SP    MGAMA    PGAMA  CAL  \n",
       "0       10AUG93:08:31:01  2.00    1   1  0.19937   35.400    1  \n",
       "1       10AUG93:08:31:01  2.00    2   1  0.19932   35.401    1  \n",
       "2       10AUG93:08:31:01  2.00    3   1  0.19934   35.397    1  \n",
       "3       10AUG93:08:31:01  3.00    1   1  0.20243  -37.995    1  \n",
       "4       10AUG93:08:31:01  3.00    2   1  0.20252  -37.986    1  \n",
       "5       10AUG93:08:31:01  3.00    3   1  0.20245  -38.014    1  \n",
       "6       10AUG93:08:31:01  4.00    1   1  0.20361 -110.024    1  \n",
       "7       10AUG93:08:31:01  4.00    2   1  0.20348 -110.032    1  \n",
       "8       10AUG93:08:31:01  4.00    3   1  0.20368 -110.029    1  \n",
       "9       10AUG93:08:31:01  5.00    1   1  0.20369  178.440    1  \n",
       "10      10AUG93:08:31:01  5.00    2   1  0.20369  178.407    1  \n",
       "11      10AUG93:08:31:01  5.00    3   1  0.20369  178.434    1  \n",
       "12      10AUG93:08:31:01  6.00    1   1  0.20373  107.016    1  \n",
       "13      10AUG93:08:31:01  6.00    2   1  0.20370  107.013    1  \n",
       "14      10AUG93:08:31:01  6.00    3   1  0.20372  107.000    1  \n",
       "15      10AUG93:08:31:01  7.00    1   1  0.19963   34.812    1  \n",
       "16      10AUG93:08:31:01  7.00    2   1  0.19970   34.762    2  \n",
       "17      10AUG93:08:31:01  7.00    3   1  0.19962   34.784    2  \n",
       "18      25JUN93:08:24:02  8.00    1   1  0.19123  -39.730    1  \n",
       "19      25JUN93:08:24:02  8.00    2   1  0.19115  -39.765    1  \n",
       "20      25JUN93:08:24:02  8.00    3   1  0.19116  -39.750    1  \n",
       "21      10AUG93:08:31:01  8.00    1   1  0.19228  -39.865    2  \n",
       "22      10AUG93:08:31:01  8.00    2   1  0.19221  -39.803    2  \n",
       "23      10AUG93:08:31:01  8.00    3   1  0.19227  -39.853    2  \n",
       "24      25JUN93:08:24:02  8.20    1   1  0.19037  -55.060    1  \n",
       "25      25JUN93:08:24:02  8.20    2   1  0.19017  -55.057    1  \n",
       "26      25JUN93:08:24:02  8.20    3   1  0.19016  -55.124    1  \n",
       "27      25JUN93:08:24:02  8.40    1   1  0.18944  -70.174    1  \n",
       "28      25JUN93:08:24:02  8.40    2   1  0.18936  -70.194    1  \n",
       "29      25JUN93:08:24:02  8.40    3   1  0.18912  -70.222    1  \n",
       "...                  ...   ...  ...  ..      ...      ...  ...  \n",
       "212516  01AUG96:10:36:03  0.95    1   2  0.00404   72.663    1  \n",
       "212517  01AUG96:10:36:03  0.95    2   2  0.00396   71.228    1  \n",
       "212518  01AUG96:10:36:03  0.95    3   2  0.00382   71.534    1  \n",
       "212519  15AUG96:10:54:42  0.95    1   2  0.00321   78.495    2  \n",
       "212520  15AUG96:10:54:42  0.95    2   2  0.00309   80.732    2  \n",
       "212521  15AUG96:10:54:42  0.95    3   2  0.00304   81.854    2  \n",
       "212522  10JAN00:11:01:37  0.95    1   2  0.00116   66.598    3  \n",
       "212523  10JAN00:11:01:37  0.95    2   2  0.00100   73.264    3  \n",
       "212524  10JAN00:11:01:37  0.95    3   2  0.00102   74.398    3  \n",
       "212525  23JUL01:14:19:01  0.95    1   2  0.00125   74.221    4  \n",
       "212526  23JUL01:14:19:01  0.95    2   2  0.00127   72.868    4  \n",
       "212527  23JUL01:14:19:01  0.95    3   2  0.00122   72.741    4  \n",
       "212528  18DEC01:17:08:38  0.95    1   2  0.00086   68.745    5  \n",
       "212529  18DEC01:17:08:38  0.95    2   2  0.00087   70.501    5  \n",
       "212530  18DEC01:17:08:38  0.95    3   2  0.00090   68.807    5  \n",
       "212531  01AUG96:10:36:03  1.00    1   2  0.00456   74.796    1  \n",
       "212532  01AUG96:10:36:03  1.00    2   2  0.00453   71.735    1  \n",
       "212533  01AUG96:10:36:03  1.00    3   2  0.00461   76.099    1  \n",
       "212534  15AUG96:10:54:42  1.00    1   2  0.00223   63.301    2  \n",
       "212535  15AUG96:10:54:42  1.00    2   2  0.00207   64.229    2  \n",
       "212536  15AUG96:10:54:42  1.00    3   2  0.00204   63.765    2  \n",
       "212537  10JAN00:11:01:37  1.00    1   2  0.00106   32.350    3  \n",
       "212538  10JAN00:11:01:37  1.00    2   2  0.00080   30.094    3  \n",
       "212539  10JAN00:11:01:37  1.00    3   2  0.00079   29.943    3  \n",
       "212540  23JUL01:14:19:01  1.00    1   2  0.00099   41.521    4  \n",
       "212541  23JUL01:14:19:01  1.00    2   2  0.00099   39.387    4  \n",
       "212542  23JUL01:14:19:01  1.00    3   2  0.00102   40.162    4  \n",
       "212543  18DEC01:17:08:38  1.00    1   2  0.00088   56.739    5  \n",
       "212544  18DEC01:17:08:38  1.00    2   2  0.00087   53.625    5  \n",
       "212545  18DEC01:17:08:38  1.00    3   2  0.00089   55.686    5  \n",
       "\n",
       "[212546 rows x 11 columns]"
      ]
     },
     "execution_count": 5,
     "metadata": {},
     "output_type": "execute_result"
    }
   ],
   "source": [
    "df"
   ]
  },
  {
   "cell_type": "code",
   "execution_count": 8,
   "metadata": {
    "collapsed": false
   },
   "outputs": [
    {
     "data": {
      "text/plain": [
       "'10AUG93:08:31:01'"
      ]
     },
     "execution_count": 8,
     "metadata": {},
     "output_type": "execute_result"
    }
   ],
   "source": [
    "df['MEASDATE'][0]"
   ]
  },
  {
   "cell_type": "code",
   "execution_count": 10,
   "metadata": {
    "collapsed": false
   },
   "outputs": [],
   "source": [
    "import datetime\n",
    "dt=datetime.datetime.strptime(df['MEASDATE'][0],'%d%b%y:%H:%M:%S')"
   ]
  },
  {
   "cell_type": "code",
   "execution_count": 28,
   "metadata": {
    "collapsed": false
   },
   "outputs": [
    {
     "name": "stdout",
     "output_type": "stream",
     "text": [
      "1993-08-10T08:31:01\n"
     ]
    }
   ],
   "source": [
    "print dt.isoformat()"
   ]
  },
  {
   "cell_type": "code",
   "execution_count": 21,
   "metadata": {
    "collapsed": false
   },
   "outputs": [],
   "source": [
    "df.to_csv(r'C:\\Users\\sandersa\\PyCharm Projects\\pyMeasureNew\\pyMeasure\\Code\\DataHandlers\\Tests\\onechks_pandas.csv',index=False)"
   ]
  },
  {
   "cell_type": "code",
   "execution_count": 22,
   "metadata": {
    "collapsed": true
   },
   "outputs": [],
   "source": [
    "df2=pandas.read_csv(r'C:\\Users\\sandersa\\PyCharm Projects\\pyMeasureNew\\pyMeasure\\Code\\DataHandlers\\Tests\\onechks_pandas.csv')"
   ]
  },
  {
   "cell_type": "code",
   "execution_count": 25,
   "metadata": {
    "collapsed": false
   },
   "outputs": [
    {
     "name": "stdout",
     "output_type": "stream",
     "text": [
      "       ctype  spid checkid CALDATE MEASDATE  FREQ   CON    SP MGAMA PGAMA  \\\n",
      "0       True  True    True    True     True  True  True  True  True  True   \n",
      "1       True  True    True    True     True  True  True  True  True  True   \n",
      "2       True  True    True    True     True  True  True  True  True  True   \n",
      "3       True  True    True    True     True  True  True  True  True  True   \n",
      "4       True  True    True    True     True  True  True  True  True  True   \n",
      "5       True  True    True    True     True  True  True  True  True  True   \n",
      "6       True  True    True    True     True  True  True  True  True  True   \n",
      "7       True  True    True    True     True  True  True  True  True  True   \n",
      "8       True  True    True    True     True  True  True  True  True  True   \n",
      "9       True  True    True    True     True  True  True  True  True  True   \n",
      "10      True  True    True    True     True  True  True  True  True  True   \n",
      "11      True  True    True    True     True  True  True  True  True  True   \n",
      "12      True  True    True    True     True  True  True  True  True  True   \n",
      "13      True  True    True    True     True  True  True  True  True  True   \n",
      "14      True  True    True    True     True  True  True  True  True  True   \n",
      "15      True  True    True   False     True  True  True  True  True  True   \n",
      "16      True  True    True    True     True  True  True  True  True  True   \n",
      "17      True  True    True    True     True  True  True  True  True  True   \n",
      "18      True  True    True    True     True  True  True  True  True  True   \n",
      "19      True  True    True    True     True  True  True  True  True  True   \n",
      "20      True  True    True    True     True  True  True  True  True  True   \n",
      "21      True  True    True    True     True  True  True  True  True  True   \n",
      "22      True  True    True    True     True  True  True  True  True  True   \n",
      "23      True  True    True    True     True  True  True  True  True  True   \n",
      "24      True  True    True    True     True  True  True  True  True  True   \n",
      "25      True  True    True    True     True  True  True  True  True  True   \n",
      "26      True  True    True    True     True  True  True  True  True  True   \n",
      "27      True  True    True    True     True  True  True  True  True  True   \n",
      "28      True  True    True    True     True  True  True  True  True  True   \n",
      "29      True  True    True    True     True  True  True  True  True  True   \n",
      "...      ...   ...     ...     ...      ...   ...   ...   ...   ...   ...   \n",
      "212516  True  True    True    True     True  True  True  True  True  True   \n",
      "212517  True  True    True    True     True  True  True  True  True  True   \n",
      "212518  True  True    True    True     True  True  True  True  True  True   \n",
      "212519  True  True    True    True     True  True  True  True  True  True   \n",
      "212520  True  True    True    True     True  True  True  True  True  True   \n",
      "212521  True  True    True    True     True  True  True  True  True  True   \n",
      "212522  True  True    True    True     True  True  True  True  True  True   \n",
      "212523  True  True    True    True     True  True  True  True  True  True   \n",
      "212524  True  True    True    True     True  True  True  True  True  True   \n",
      "212525  True  True    True    True     True  True  True  True  True  True   \n",
      "212526  True  True    True    True     True  True  True  True  True  True   \n",
      "212527  True  True    True    True     True  True  True  True  True  True   \n",
      "212528  True  True    True    True     True  True  True  True  True  True   \n",
      "212529  True  True    True    True     True  True  True  True  True  True   \n",
      "212530  True  True    True    True     True  True  True  True  True  True   \n",
      "212531  True  True    True    True     True  True  True  True  True  True   \n",
      "212532  True  True    True    True     True  True  True  True  True  True   \n",
      "212533  True  True    True    True     True  True  True  True  True  True   \n",
      "212534  True  True    True    True     True  True  True  True  True  True   \n",
      "212535  True  True    True    True     True  True  True  True  True  True   \n",
      "212536  True  True    True    True     True  True  True  True  True  True   \n",
      "212537  True  True    True    True     True  True  True  True  True  True   \n",
      "212538  True  True    True    True     True  True  True  True  True  True   \n",
      "212539  True  True    True    True     True  True  True  True  True  True   \n",
      "212540  True  True    True    True     True  True  True  True  True  True   \n",
      "212541  True  True    True    True     True  True  True  True  True  True   \n",
      "212542  True  True    True    True     True  True  True  True  True  True   \n",
      "212543  True  True    True    True     True  True  True  True  True  True   \n",
      "212544  True  True    True    True     True  True  True  True  True  True   \n",
      "212545  True  True    True    True     True  True  True  True  True  True   \n",
      "\n",
      "         CAL  \n",
      "0       True  \n",
      "1       True  \n",
      "2       True  \n",
      "3       True  \n",
      "4       True  \n",
      "5       True  \n",
      "6       True  \n",
      "7       True  \n",
      "8       True  \n",
      "9       True  \n",
      "10      True  \n",
      "11      True  \n",
      "12      True  \n",
      "13      True  \n",
      "14      True  \n",
      "15      True  \n",
      "16      True  \n",
      "17      True  \n",
      "18      True  \n",
      "19      True  \n",
      "20      True  \n",
      "21      True  \n",
      "22      True  \n",
      "23      True  \n",
      "24      True  \n",
      "25      True  \n",
      "26      True  \n",
      "27      True  \n",
      "28      True  \n",
      "29      True  \n",
      "...      ...  \n",
      "212516  True  \n",
      "212517  True  \n",
      "212518  True  \n",
      "212519  True  \n",
      "212520  True  \n",
      "212521  True  \n",
      "212522  True  \n",
      "212523  True  \n",
      "212524  True  \n",
      "212525  True  \n",
      "212526  True  \n",
      "212527  True  \n",
      "212528  True  \n",
      "212529  True  \n",
      "212530  True  \n",
      "212531  True  \n",
      "212532  True  \n",
      "212533  True  \n",
      "212534  True  \n",
      "212535  True  \n",
      "212536  True  \n",
      "212537  True  \n",
      "212538  True  \n",
      "212539  True  \n",
      "212540  True  \n",
      "212541  True  \n",
      "212542  True  \n",
      "212543  True  \n",
      "212544  True  \n",
      "212545  True  \n",
      "\n",
      "[212546 rows x 11 columns]\n"
     ]
    }
   ],
   "source": []
  },
  {
   "cell_type": "code",
   "execution_count": 34,
   "metadata": {
    "collapsed": false
   },
   "outputs": [],
   "source": [
    "now=datetime.datetime.utcnow()"
   ]
  },
  {
   "cell_type": "code",
   "execution_count": 35,
   "metadata": {
    "collapsed": false
   },
   "outputs": [
    {
     "data": {
      "text/plain": [
       "'2016-03-24T23:37:17.128000'"
      ]
     },
     "execution_count": 35,
     "metadata": {},
     "output_type": "execute_result"
    }
   ],
   "source": [
    "now.isoformat()"
   ]
  },
  {
   "cell_type": "code",
   "execution_count": 39,
   "metadata": {
    "collapsed": false
   },
   "outputs": [],
   "source": [
    "df2.to_json()"
   ]
  },
  {
   "cell_type": "code",
   "execution_count": 8,
   "metadata": {
    "collapsed": true
   },
   "outputs": [],
   "source": [
    "NUMBER_MATCH_STRING=r'[+-]?(\\d+(\\.\\d*)?|\\.\\d+)([eE][+-]?\\d+)?'\n",
    "def make_row_match_string(column_names,delimiter_pattern='[\\s,-]+'):\n",
    "    \"\"\"Returns a regex string for matching a row given a set of column names assuming the row delimiter\n",
    "    is a set of white spaces (default) or a specified delimiter pattern.\n",
    "    Designed to create a regex for the input of numbers\"\"\"\n",
    "    row_regex_string=\"(?:^|[\\s]+)\"\n",
    "    for index,name in enumerate(column_names):\n",
    "        if index == len(column_names)-1:\n",
    "            row_regex_string=row_regex_string+'(?P<%s>{0})'%name\n",
    "        else:\n",
    "            row_regex_string=row_regex_string+'(?P<%s>{0})'%name+delimiter_pattern\n",
    "    row_regex_string=row_regex_string.format(NUMBER_MATCH_STRING)\n",
    "    return row_regex_string"
   ]
  },
  {
   "cell_type": "code",
   "execution_count": 9,
   "metadata": {
    "collapsed": true
   },
   "outputs": [],
   "source": [
    "regex=make_row_match_string(['freq','reS11','imS11'])"
   ]
  },
  {
   "cell_type": "code",
   "execution_count": 16,
   "metadata": {
    "collapsed": false
   },
   "outputs": [
    {
     "name": "stdout",
     "output_type": "stream",
     "text": [
      "{'reS11': '1.5e+05', 'freq': '123', 'imS11': '.13'}\n"
     ]
    }
   ],
   "source": [
    "match=re.match(regex,'   123, 1.5e+05,  .13')\n",
    "print match.groupdict()"
   ]
  },
  {
   "cell_type": "code",
   "execution_count": null,
   "metadata": {
    "collapsed": true
   },
   "outputs": [],
   "source": []
  }
 ],
 "metadata": {
  "kernelspec": {
   "display_name": "Python 2",
   "language": "python",
   "name": "python2"
  },
  "language_info": {
   "codemirror_mode": {
    "name": "ipython",
    "version": 2
   },
   "file_extension": ".py",
   "mimetype": "text/x-python",
   "name": "python",
   "nbconvert_exporter": "python",
   "pygments_lexer": "ipython2",
   "version": "2.7.11"
  }
 },
 "nbformat": 4,
 "nbformat_minor": 0
}
