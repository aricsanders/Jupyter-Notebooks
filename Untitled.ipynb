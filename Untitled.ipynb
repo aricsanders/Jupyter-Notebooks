{
 "cells": [
  {
   "cell_type": "code",
   "execution_count": 1,
   "metadata": {
    "collapsed": true
   },
   "outputs": [],
   "source": [
    "import pandas\n"
   ]
  },
  {
   "cell_type": "code",
   "execution_count": 1,
   "metadata": {
    "collapsed": false
   },
   "outputs": [
    {
     "name": "stdout",
     "output_type": "stream",
     "text": [
      "from django.conf.urls import url \n",
      "from . import views\n",
      "\n"
     ]
    }
   ],
   "source": [
    "\n",
    "urls_template_string=\"from django.conf.urls import url \\nfrom . import views\\n\"\n",
    "print urls_template_string"
   ]
  },
  {
   "cell_type": "code",
   "execution_count": 2,
   "metadata": {
    "collapsed": false
   },
   "outputs": [
    {
     "name": "stdout",
     "output_type": "stream",
     "text": [
      "True\n"
     ]
    }
   ],
   "source": [
    "test_string='QuartzRefExample_L1_g10_HF_Zlmr205'\n",
    "end=test_string.split('.')[-1]\n",
    "print end==test_string\n"
   ]
  },
  {
   "cell_type": "code",
   "execution_count": 7,
   "metadata": {
    "collapsed": false
   },
   "outputs": [],
   "source": [
    "urls_imports=['from django.conf.urls import url\\n',\n",
    "             'from . import views\\n']\n",
    "app_name_line=\"app_name= '%s'\\n\"%'App1'\n",
    "url_pattern_lines=['urlpatterns= [\\n',\n",
    "                   \"  url(r'^$',views.index,name='index'),\\n\",\n",
    "                  '  ]\\n']\n",
    "\n",
    "test_file=open('urls.py','w')\n",
    "for line in urls_imports:\n",
    "    test_file.write(line)\n",
    "test_file.write(app_name_line)\n",
    "for line in url_pattern_lines:\n",
    "    test_file.write(line)\n",
    "test_file.close()"
   ]
  },
  {
   "cell_type": "code",
   "execution_count": 4,
   "metadata": {
    "collapsed": false
   },
   "outputs": [
    {
     "data": {
      "text/plain": [
       "'C:\\\\Users\\\\arics\\\\Jupyter-Notebooks'"
      ]
     },
     "execution_count": 4,
     "metadata": {},
     "output_type": "execute_result"
    }
   ],
   "source": [
    "import os\n",
    "os.getcwd()"
   ]
  },
  {
   "cell_type": "code",
   "execution_count": 13,
   "metadata": {
    "collapsed": false
   },
   "outputs": [],
   "source": [
    "def write_app_urls(app_name):\n",
    "    \"\"\"Writes a basic urls.py for a django-app\"\"\"\n",
    "    # Write the import string\n",
    "    urls_imports=['from django.conf.urls import url\\n',\n",
    "                 'from . import views\\n']\n",
    "    # write the app_name = line\n",
    "    app_name_line=\"app_name= '%s'\\n\"%app_name\n",
    "    # write the url patterns\n",
    "    url_pattern_lines=['urlpatterns= [\\n',\n",
    "                       \"  url(r'^$',views.index,name='index'),\\n\",\n",
    "                      '  ]\\n']\n",
    "    # open the file and do the work\n",
    "    out_file=open('urls.py','w')\n",
    "    for line in urls_imports:\n",
    "        out_file.write(line)\n",
    "    out_file.write(app_name_line)\n",
    "    for line in url_pattern_lines:\n",
    "        out_file.write(line)\n",
    "    out_file.close()"
   ]
  },
  {
   "cell_type": "code",
   "execution_count": 9,
   "metadata": {
    "collapsed": true
   },
   "outputs": [],
   "source": [
    "def write_project_urls(app_names):\n",
    "    \"\"\"Writes a basic urls.py for a django-project \n",
    "    given the app names\"\"\"\n",
    "    urls_imports=['from django.conf.urls import include, url\\n',\n",
    "                 'from django.contrib import admin\\n']\n",
    "    \n",
    "    url_pattern_lines=['urlpatterns= [\\n',\n",
    "                       \"  url(r'^admin/', admin.site.urls),\\n\"\n",
    "                      ]\n",
    "    for app_name in app_names:\n",
    "        url_pattern=\"  url(r'^%s/',include('%s.urls')),\\n\"%(app_name,app_name)\n",
    "        url_pattern_lines.append(url_pattern)\n",
    "    url_pattern_lines.append('  ]')\n",
    "\n",
    "    out_file=open('urls.py','w')\n",
    "    for line in urls_imports:\n",
    "        out_file.write(line)\n",
    "    for line in url_pattern_lines:\n",
    "        out_file.write(line)\n",
    "    out_file.close()"
   ]
  },
  {
   "cell_type": "code",
   "execution_count": 15,
   "metadata": {
    "collapsed": true
   },
   "outputs": [],
   "source": [
    "app_names=['Files','Help']\n",
    "write_project_urls(app_names)"
   ]
  },
  {
   "cell_type": "code",
   "execution_count": 16,
   "metadata": {
    "collapsed": false
   },
   "outputs": [],
   "source": [
    "write_app_urls('Files')"
   ]
  },
  {
   "cell_type": "code",
   "execution_count": 1,
   "metadata": {
    "collapsed": true
   },
   "outputs": [],
   "source": [
    "import registration"
   ]
  },
  {
   "cell_type": "code",
   "execution_count": 3,
   "metadata": {
    "collapsed": false
   },
   "outputs": [
    {
     "ename": "ImportError",
     "evalue": "No module named simple.hmacs.urls",
     "output_type": "error",
     "traceback": [
      "\u001b[1;31m---------------------------------------------------------------------------\u001b[0m",
      "\u001b[1;31mImportError\u001b[0m                               Traceback (most recent call last)",
      "\u001b[1;32m<ipython-input-3-1102e529e34a>\u001b[0m in \u001b[0;36m<module>\u001b[1;34m()\u001b[0m\n\u001b[1;32m----> 1\u001b[1;33m \u001b[1;32mimport\u001b[0m \u001b[0mregistration\u001b[0m\u001b[1;33m.\u001b[0m\u001b[0msimple\u001b[0m\u001b[1;33m.\u001b[0m\u001b[0mhmacs\u001b[0m\u001b[1;33m.\u001b[0m\u001b[0murls\u001b[0m\u001b[1;33m\u001b[0m\u001b[0m\n\u001b[0m",
      "\u001b[1;31mImportError\u001b[0m: No module named simple.hmacs.urls"
     ]
    }
   ],
   "source": [
    "import registration.simple.hmacs.urls\n"
   ]
  },
  {
   "cell_type": "code",
   "execution_count": 2,
   "metadata": {
    "collapsed": false
   },
   "outputs": [],
   "source": [
    "import Boa"
   ]
  },
  {
   "cell_type": "code",
   "execution_count": 1,
   "metadata": {
    "collapsed": false
   },
   "outputs": [
    {
     "name": "stdout",
     "output_type": "stream",
     "text": [
      "['A', 'Mock', 'File', 'Name', 'That', 'is', 'Mixed', 'with', 'multiple', 'characters', 'txt']\n",
      "['A', 'Mock', 'File', 'Name', 'That', 'is', 'Mixed', 'with', 'multiple', 'characters', 'txt']\n"
     ]
    }
   ],
   "source": [
    "import re\n",
    "test_string=\"A_Mock_FileName_That is Mixed.with multiple characters.txt\"\n",
    "test_string=re.sub(\"([\\a-z])([\\A-Z|\\d])\",r'\\1 \\2',test_string)\n",
    "test_list_1=re.split(\"[\\W|\\.|_]+\",test_string)\n",
    "test_list_2=re.split(\"[\\W|\\.|_]+\",test_string)\n",
    "print test_list_1\n",
    "print test_list_2"
   ]
  },
  {
   "cell_type": "code",
   "execution_count": 2,
   "metadata": {
    "collapsed": true
   },
   "outputs": [],
   "source": [
    "for item in test_list_2:\n",
    "    if item is None:\n",
    "        test_list_2.remove(item)"
   ]
  },
  {
   "cell_type": "code",
   "execution_count": 3,
   "metadata": {
    "collapsed": false
   },
   "outputs": [
    {
     "data": {
      "text/plain": [
       "['A',\n",
       " 'Mock',\n",
       " 'File',\n",
       " 'Name',\n",
       " 'That',\n",
       " 'is',\n",
       " 'Mixed',\n",
       " 'with',\n",
       " 'multiple',\n",
       " 'characters',\n",
       " 'txt']"
      ]
     },
     "execution_count": 3,
     "metadata": {},
     "output_type": "execute_result"
    }
   ],
   "source": [
    "test_list_2"
   ]
  },
  {
   "cell_type": "code",
   "execution_count": 42,
   "metadata": {
    "collapsed": false
   },
   "outputs": [
    {
     "data": {
      "text/plain": [
       "'gile Name 1'"
      ]
     },
     "execution_count": 42,
     "metadata": {},
     "output_type": "execute_result"
    }
   ],
   "source": [
    "test_string_2=\"gileName1\"\n",
    "re.sub(\"([\\a-z])([\\A-Z|\\d])\",r'\\1 \\2',test_string_2)"
   ]
  },
  {
   "cell_type": "code",
   "execution_count": 67,
   "metadata": {
    "collapsed": true
   },
   "outputs": [],
   "source": [
    "def split_file_name(filename):\n",
    "    \"\"\"Returns a list of file name pieces. The list will contain any CamelCase, snake_case or\n",
    "    common delimiter seperated words (last element is nominally the file extension\"\"\"\n",
    "    out_string=re.sub(\"([\\a-z])([\\A-Z])\",r'\\1 \\2',filename)\n",
    "    print out_string\n",
    "    out_list=re.split(\"[\\W|\\.|_]+\",out_string)\n",
    "    return out_list\n",
    "    "
   ]
  },
  {
   "cell_type": "code",
   "execution_count": 68,
   "metadata": {
    "collapsed": false
   },
   "outputs": [
    {
     "name": "stdout",
     "output_type": "stream",
     "text": [
      "X:\\ Calnet  Test  Files\\ Data  For  Playing\\20150930_ Q26 Ra_g5_ Song4_water\n"
     ]
    },
    {
     "data": {
      "text/plain": [
       "['X',\n",
       " 'Calnet',\n",
       " 'Test',\n",
       " 'Files',\n",
       " 'Data',\n",
       " 'For',\n",
       " 'Playing',\n",
       " '20150930',\n",
       " 'Q26',\n",
       " 'Ra',\n",
       " 'g5',\n",
       " 'Song4',\n",
       " 'water']"
      ]
     },
     "execution_count": 68,
     "metadata": {},
     "output_type": "execute_result"
    }
   ],
   "source": [
    "split_file_name(r\"X:\\Calnet Test Files\\Data For Playing\\20150930_Q26Ra_g5_Song4_water\")"
   ]
  },
  {
   "cell_type": "code",
   "execution_count": 64,
   "metadata": {
    "collapsed": false
   },
   "outputs": [
    {
     "data": {
      "text/plain": [
       "'\\x14'"
      ]
     },
     "execution_count": 64,
     "metadata": {},
     "output_type": "execute_result"
    }
   ],
   "source": [
    "chr(20)"
   ]
  },
  {
   "cell_type": "code",
   "execution_count": 66,
   "metadata": {
    "collapsed": false
   },
   "outputs": [
    {
     "data": {
      "text/plain": [
       "92"
      ]
     },
     "execution_count": 66,
     "metadata": {},
     "output_type": "execute_result"
    }
   ],
   "source": [
    "ord('\\\\')"
   ]
  },
  {
   "cell_type": "code",
   "execution_count": 15,
   "metadata": {
    "collapsed": false
   },
   "outputs": [
    {
     "name": "stdout",
     "output_type": "stream",
     "text": [
      "{'second': '2.000', 'first': '20.3'}\n"
     ]
    }
   ],
   "source": [
    "test_string='20.3\\t2.000'\n",
    "num_match=r'[+-]?(\\d+(\\.\\d*)?|\\.\\d+)([eE][+-]?\\d+)?'\n",
    "test_match='(?P<first>{0})[\\s]+(?P<second>{0})'.format(num_match)\n",
    "match=re.match(test_match,test_string)\n",
    "print match.groupdict()"
   ]
  },
  {
   "cell_type": "code",
   "execution_count": 24,
   "metadata": {
    "collapsed": false
   },
   "outputs": [
    {
     "name": "stdout",
     "output_type": "stream",
     "text": [
      "20.3\t.000\n"
     ]
    }
   ],
   "source": [
    "test_string='20.3\\t.000'\n",
    "num_match=r'[+-]?(\\d+(\\.\\d*)?|\\.\\d+)([eE][+-]?\\d+)?'\n",
    "test_match='{0}[\\s]+{0}'.format(num_match)\n",
    "match=re.match(test_match,test_string)\n",
    "print match.group(0)"
   ]
  },
  {
   "cell_type": "code",
   "execution_count": 14,
   "metadata": {
    "collapsed": false
   },
   "outputs": [
    {
     "name": "stdout",
     "output_type": "stream",
     "text": [
      "3.33e-2\n"
     ]
    }
   ],
   "source": [
    "num_match=r'[+-]?(\\d+(\\.\\d*)?|\\.\\d+)([eE][+-]?\\d+)?'\n",
    "test_num='3.33e-2'\n",
    "print re.match(num_match,test_num).group(0)"
   ]
  },
  {
   "cell_type": "code",
   "execution_count": 29,
   "metadata": {
    "collapsed": false
   },
   "outputs": [
    {
     "name": "stdout",
     "output_type": "stream",
     "text": [
      "{'value_8': '.001', 'value_5': '.9', 'value_4': '180.00', 'value_7': '.1', 'value_6': '180.00', 'value_1': '.1', 'value_0': '10.0', 'value_3': '.9', 'value_2': '.001'}\n"
     ]
    }
   ],
   "source": [
    "test_row_string='10.0  .1 .001 .9 180.00 .9 180.00\\t.1 .001'\n",
    "num_match=r'[+-]?(\\d+(\\.\\d*)?|\\.\\d+)([eE][+-]?\\d+)?'\n",
    "test_match=\"\"\n",
    "for i in range(9):\n",
    "    if i == 8:\n",
    "        test_match=test_match+\"(?P<value_%s>{0})\"%str(i)\n",
    "    else:\n",
    "        test_match=test_match+\"(?P<value_%s>{0})[\\s]+\"%str(i)\n",
    "\n",
    "test_match=test_match.format(num_match)\n",
    "match=re.match(test_match,test_row_string)\n",
    "print match.groupdict()"
   ]
  },
  {
   "cell_type": "code",
   "execution_count": 4,
   "metadata": {
    "collapsed": true
   },
   "outputs": [],
   "source": [
    "df=pandas.read_csv(r'C:\\Users\\sandersa\\PyCharm Projects\\pyMeasureNew\\pyMeasure\\Code\\DataHandlers\\Tests\\onechks.csv')"
   ]
  },
  {
   "cell_type": "code",
   "execution_count": 5,
   "metadata": {
    "collapsed": false
   },
   "outputs": [
    {
     "data": {
      "text/html": [
       "<div>\n",
       "<table border=\"1\" class=\"dataframe\">\n",
       "  <thead>\n",
       "    <tr style=\"text-align: right;\">\n",
       "      <th></th>\n",
       "      <th>ctype</th>\n",
       "      <th>spid</th>\n",
       "      <th>checkid</th>\n",
       "      <th>CALDATE</th>\n",
       "      <th>MEASDATE</th>\n",
       "      <th>FREQ</th>\n",
       "      <th>CON</th>\n",
       "      <th>SP</th>\n",
       "      <th>MGAMA</th>\n",
       "      <th>PGAMA</th>\n",
       "      <th>CAL</th>\n",
       "    </tr>\n",
       "  </thead>\n",
       "  <tbody>\n",
       "    <tr>\n",
       "      <th>0</th>\n",
       "      <td>7 mm</td>\n",
       "      <td>System 2,6</td>\n",
       "      <td>C07101</td>\n",
       "      <td>02AUG93:15:00:40</td>\n",
       "      <td>10AUG93:08:31:01</td>\n",
       "      <td>2.00</td>\n",
       "      <td>1</td>\n",
       "      <td>1</td>\n",
       "      <td>0.19937</td>\n",
       "      <td>35.400</td>\n",
       "      <td>1</td>\n",
       "    </tr>\n",
       "    <tr>\n",
       "      <th>1</th>\n",
       "      <td>7 mm</td>\n",
       "      <td>System 2,6</td>\n",
       "      <td>C07101</td>\n",
       "      <td>02AUG93:15:00:40</td>\n",
       "      <td>10AUG93:08:31:01</td>\n",
       "      <td>2.00</td>\n",
       "      <td>2</td>\n",
       "      <td>1</td>\n",
       "      <td>0.19932</td>\n",
       "      <td>35.401</td>\n",
       "      <td>1</td>\n",
       "    </tr>\n",
       "    <tr>\n",
       "      <th>2</th>\n",
       "      <td>7 mm</td>\n",
       "      <td>System 2,6</td>\n",
       "      <td>C07101</td>\n",
       "      <td>02AUG93:15:00:40</td>\n",
       "      <td>10AUG93:08:31:01</td>\n",
       "      <td>2.00</td>\n",
       "      <td>3</td>\n",
       "      <td>1</td>\n",
       "      <td>0.19934</td>\n",
       "      <td>35.397</td>\n",
       "      <td>1</td>\n",
       "    </tr>\n",
       "    <tr>\n",
       "      <th>3</th>\n",
       "      <td>7 mm</td>\n",
       "      <td>System 2,6</td>\n",
       "      <td>C07101</td>\n",
       "      <td>02AUG93:15:00:40</td>\n",
       "      <td>10AUG93:08:31:01</td>\n",
       "      <td>3.00</td>\n",
       "      <td>1</td>\n",
       "      <td>1</td>\n",
       "      <td>0.20243</td>\n",
       "      <td>-37.995</td>\n",
       "      <td>1</td>\n",
       "    </tr>\n",
       "    <tr>\n",
       "      <th>4</th>\n",
       "      <td>7 mm</td>\n",
       "      <td>System 2,6</td>\n",
       "      <td>C07101</td>\n",
       "      <td>02AUG93:15:00:40</td>\n",
       "      <td>10AUG93:08:31:01</td>\n",
       "      <td>3.00</td>\n",
       "      <td>2</td>\n",
       "      <td>1</td>\n",
       "      <td>0.20252</td>\n",
       "      <td>-37.986</td>\n",
       "      <td>1</td>\n",
       "    </tr>\n",
       "    <tr>\n",
       "      <th>5</th>\n",
       "      <td>7 mm</td>\n",
       "      <td>System 2,6</td>\n",
       "      <td>C07101</td>\n",
       "      <td>02AUG93:15:00:40</td>\n",
       "      <td>10AUG93:08:31:01</td>\n",
       "      <td>3.00</td>\n",
       "      <td>3</td>\n",
       "      <td>1</td>\n",
       "      <td>0.20245</td>\n",
       "      <td>-38.014</td>\n",
       "      <td>1</td>\n",
       "    </tr>\n",
       "    <tr>\n",
       "      <th>6</th>\n",
       "      <td>7 mm</td>\n",
       "      <td>System 2,6</td>\n",
       "      <td>C07101</td>\n",
       "      <td>02AUG93:15:00:40</td>\n",
       "      <td>10AUG93:08:31:01</td>\n",
       "      <td>4.00</td>\n",
       "      <td>1</td>\n",
       "      <td>1</td>\n",
       "      <td>0.20361</td>\n",
       "      <td>-110.024</td>\n",
       "      <td>1</td>\n",
       "    </tr>\n",
       "    <tr>\n",
       "      <th>7</th>\n",
       "      <td>7 mm</td>\n",
       "      <td>System 2,6</td>\n",
       "      <td>C07101</td>\n",
       "      <td>02AUG93:15:00:40</td>\n",
       "      <td>10AUG93:08:31:01</td>\n",
       "      <td>4.00</td>\n",
       "      <td>2</td>\n",
       "      <td>1</td>\n",
       "      <td>0.20348</td>\n",
       "      <td>-110.032</td>\n",
       "      <td>1</td>\n",
       "    </tr>\n",
       "    <tr>\n",
       "      <th>8</th>\n",
       "      <td>7 mm</td>\n",
       "      <td>System 2,6</td>\n",
       "      <td>C07101</td>\n",
       "      <td>02AUG93:15:00:40</td>\n",
       "      <td>10AUG93:08:31:01</td>\n",
       "      <td>4.00</td>\n",
       "      <td>3</td>\n",
       "      <td>1</td>\n",
       "      <td>0.20368</td>\n",
       "      <td>-110.029</td>\n",
       "      <td>1</td>\n",
       "    </tr>\n",
       "    <tr>\n",
       "      <th>9</th>\n",
       "      <td>7 mm</td>\n",
       "      <td>System 2,6</td>\n",
       "      <td>C07101</td>\n",
       "      <td>02AUG93:15:00:40</td>\n",
       "      <td>10AUG93:08:31:01</td>\n",
       "      <td>5.00</td>\n",
       "      <td>1</td>\n",
       "      <td>1</td>\n",
       "      <td>0.20369</td>\n",
       "      <td>178.440</td>\n",
       "      <td>1</td>\n",
       "    </tr>\n",
       "    <tr>\n",
       "      <th>10</th>\n",
       "      <td>7 mm</td>\n",
       "      <td>System 2,6</td>\n",
       "      <td>C07101</td>\n",
       "      <td>02AUG93:15:00:40</td>\n",
       "      <td>10AUG93:08:31:01</td>\n",
       "      <td>5.00</td>\n",
       "      <td>2</td>\n",
       "      <td>1</td>\n",
       "      <td>0.20369</td>\n",
       "      <td>178.407</td>\n",
       "      <td>1</td>\n",
       "    </tr>\n",
       "    <tr>\n",
       "      <th>11</th>\n",
       "      <td>7 mm</td>\n",
       "      <td>System 2,6</td>\n",
       "      <td>C07101</td>\n",
       "      <td>02AUG93:15:00:40</td>\n",
       "      <td>10AUG93:08:31:01</td>\n",
       "      <td>5.00</td>\n",
       "      <td>3</td>\n",
       "      <td>1</td>\n",
       "      <td>0.20369</td>\n",
       "      <td>178.434</td>\n",
       "      <td>1</td>\n",
       "    </tr>\n",
       "    <tr>\n",
       "      <th>12</th>\n",
       "      <td>7 mm</td>\n",
       "      <td>System 2,6</td>\n",
       "      <td>C07101</td>\n",
       "      <td>02AUG93:15:00:40</td>\n",
       "      <td>10AUG93:08:31:01</td>\n",
       "      <td>6.00</td>\n",
       "      <td>1</td>\n",
       "      <td>1</td>\n",
       "      <td>0.20373</td>\n",
       "      <td>107.016</td>\n",
       "      <td>1</td>\n",
       "    </tr>\n",
       "    <tr>\n",
       "      <th>13</th>\n",
       "      <td>7 mm</td>\n",
       "      <td>System 2,6</td>\n",
       "      <td>C07101</td>\n",
       "      <td>02AUG93:15:00:40</td>\n",
       "      <td>10AUG93:08:31:01</td>\n",
       "      <td>6.00</td>\n",
       "      <td>2</td>\n",
       "      <td>1</td>\n",
       "      <td>0.20370</td>\n",
       "      <td>107.013</td>\n",
       "      <td>1</td>\n",
       "    </tr>\n",
       "    <tr>\n",
       "      <th>14</th>\n",
       "      <td>7 mm</td>\n",
       "      <td>System 2,6</td>\n",
       "      <td>C07101</td>\n",
       "      <td>02AUG93:15:00:40</td>\n",
       "      <td>10AUG93:08:31:01</td>\n",
       "      <td>6.00</td>\n",
       "      <td>3</td>\n",
       "      <td>1</td>\n",
       "      <td>0.20372</td>\n",
       "      <td>107.000</td>\n",
       "      <td>1</td>\n",
       "    </tr>\n",
       "    <tr>\n",
       "      <th>15</th>\n",
       "      <td>7 mm</td>\n",
       "      <td>System 2,6</td>\n",
       "      <td>C07101</td>\n",
       "      <td>NaN</td>\n",
       "      <td>10AUG93:08:31:01</td>\n",
       "      <td>7.00</td>\n",
       "      <td>1</td>\n",
       "      <td>1</td>\n",
       "      <td>0.19963</td>\n",
       "      <td>34.812</td>\n",
       "      <td>1</td>\n",
       "    </tr>\n",
       "    <tr>\n",
       "      <th>16</th>\n",
       "      <td>7 mm</td>\n",
       "      <td>System 2,6</td>\n",
       "      <td>C07101</td>\n",
       "      <td>02AUG93:15:00:40</td>\n",
       "      <td>10AUG93:08:31:01</td>\n",
       "      <td>7.00</td>\n",
       "      <td>2</td>\n",
       "      <td>1</td>\n",
       "      <td>0.19970</td>\n",
       "      <td>34.762</td>\n",
       "      <td>2</td>\n",
       "    </tr>\n",
       "    <tr>\n",
       "      <th>17</th>\n",
       "      <td>7 mm</td>\n",
       "      <td>System 2,6</td>\n",
       "      <td>C07101</td>\n",
       "      <td>02AUG93:15:00:40</td>\n",
       "      <td>10AUG93:08:31:01</td>\n",
       "      <td>7.00</td>\n",
       "      <td>3</td>\n",
       "      <td>1</td>\n",
       "      <td>0.19962</td>\n",
       "      <td>34.784</td>\n",
       "      <td>2</td>\n",
       "    </tr>\n",
       "    <tr>\n",
       "      <th>18</th>\n",
       "      <td>7 mm</td>\n",
       "      <td>System 2,6</td>\n",
       "      <td>C07101</td>\n",
       "      <td>11JUN93:08:38:29</td>\n",
       "      <td>25JUN93:08:24:02</td>\n",
       "      <td>8.00</td>\n",
       "      <td>1</td>\n",
       "      <td>1</td>\n",
       "      <td>0.19123</td>\n",
       "      <td>-39.730</td>\n",
       "      <td>1</td>\n",
       "    </tr>\n",
       "    <tr>\n",
       "      <th>19</th>\n",
       "      <td>7 mm</td>\n",
       "      <td>System 2,6</td>\n",
       "      <td>C07101</td>\n",
       "      <td>11JUN93:08:38:29</td>\n",
       "      <td>25JUN93:08:24:02</td>\n",
       "      <td>8.00</td>\n",
       "      <td>2</td>\n",
       "      <td>1</td>\n",
       "      <td>0.19115</td>\n",
       "      <td>-39.765</td>\n",
       "      <td>1</td>\n",
       "    </tr>\n",
       "    <tr>\n",
       "      <th>20</th>\n",
       "      <td>7 mm</td>\n",
       "      <td>System 2,6</td>\n",
       "      <td>C07101</td>\n",
       "      <td>11JUN93:08:38:29</td>\n",
       "      <td>25JUN93:08:24:02</td>\n",
       "      <td>8.00</td>\n",
       "      <td>3</td>\n",
       "      <td>1</td>\n",
       "      <td>0.19116</td>\n",
       "      <td>-39.750</td>\n",
       "      <td>1</td>\n",
       "    </tr>\n",
       "    <tr>\n",
       "      <th>21</th>\n",
       "      <td>7 mm</td>\n",
       "      <td>System 2,6</td>\n",
       "      <td>C07101</td>\n",
       "      <td>02AUG93:15:00:40</td>\n",
       "      <td>10AUG93:08:31:01</td>\n",
       "      <td>8.00</td>\n",
       "      <td>1</td>\n",
       "      <td>1</td>\n",
       "      <td>0.19228</td>\n",
       "      <td>-39.865</td>\n",
       "      <td>2</td>\n",
       "    </tr>\n",
       "    <tr>\n",
       "      <th>22</th>\n",
       "      <td>7 mm</td>\n",
       "      <td>System 2,6</td>\n",
       "      <td>C07101</td>\n",
       "      <td>02AUG93:15:00:40</td>\n",
       "      <td>10AUG93:08:31:01</td>\n",
       "      <td>8.00</td>\n",
       "      <td>2</td>\n",
       "      <td>1</td>\n",
       "      <td>0.19221</td>\n",
       "      <td>-39.803</td>\n",
       "      <td>2</td>\n",
       "    </tr>\n",
       "    <tr>\n",
       "      <th>23</th>\n",
       "      <td>7 mm</td>\n",
       "      <td>System 2,6</td>\n",
       "      <td>C07101</td>\n",
       "      <td>02AUG93:15:00:40</td>\n",
       "      <td>10AUG93:08:31:01</td>\n",
       "      <td>8.00</td>\n",
       "      <td>3</td>\n",
       "      <td>1</td>\n",
       "      <td>0.19227</td>\n",
       "      <td>-39.853</td>\n",
       "      <td>2</td>\n",
       "    </tr>\n",
       "    <tr>\n",
       "      <th>24</th>\n",
       "      <td>7 mm</td>\n",
       "      <td>System 2,6</td>\n",
       "      <td>C07101</td>\n",
       "      <td>11JUN93:08:38:29</td>\n",
       "      <td>25JUN93:08:24:02</td>\n",
       "      <td>8.20</td>\n",
       "      <td>1</td>\n",
       "      <td>1</td>\n",
       "      <td>0.19037</td>\n",
       "      <td>-55.060</td>\n",
       "      <td>1</td>\n",
       "    </tr>\n",
       "    <tr>\n",
       "      <th>25</th>\n",
       "      <td>7 mm</td>\n",
       "      <td>System 2,6</td>\n",
       "      <td>C07101</td>\n",
       "      <td>11JUN93:08:38:29</td>\n",
       "      <td>25JUN93:08:24:02</td>\n",
       "      <td>8.20</td>\n",
       "      <td>2</td>\n",
       "      <td>1</td>\n",
       "      <td>0.19017</td>\n",
       "      <td>-55.057</td>\n",
       "      <td>1</td>\n",
       "    </tr>\n",
       "    <tr>\n",
       "      <th>26</th>\n",
       "      <td>7 mm</td>\n",
       "      <td>System 2,6</td>\n",
       "      <td>C07101</td>\n",
       "      <td>11JUN93:08:38:29</td>\n",
       "      <td>25JUN93:08:24:02</td>\n",
       "      <td>8.20</td>\n",
       "      <td>3</td>\n",
       "      <td>1</td>\n",
       "      <td>0.19016</td>\n",
       "      <td>-55.124</td>\n",
       "      <td>1</td>\n",
       "    </tr>\n",
       "    <tr>\n",
       "      <th>27</th>\n",
       "      <td>7 mm</td>\n",
       "      <td>System 2,6</td>\n",
       "      <td>C07101</td>\n",
       "      <td>11JUN93:08:38:29</td>\n",
       "      <td>25JUN93:08:24:02</td>\n",
       "      <td>8.40</td>\n",
       "      <td>1</td>\n",
       "      <td>1</td>\n",
       "      <td>0.18944</td>\n",
       "      <td>-70.174</td>\n",
       "      <td>1</td>\n",
       "    </tr>\n",
       "    <tr>\n",
       "      <th>28</th>\n",
       "      <td>7 mm</td>\n",
       "      <td>System 2,6</td>\n",
       "      <td>C07101</td>\n",
       "      <td>11JUN93:08:38:29</td>\n",
       "      <td>25JUN93:08:24:02</td>\n",
       "      <td>8.40</td>\n",
       "      <td>2</td>\n",
       "      <td>1</td>\n",
       "      <td>0.18936</td>\n",
       "      <td>-70.194</td>\n",
       "      <td>1</td>\n",
       "    </tr>\n",
       "    <tr>\n",
       "      <th>29</th>\n",
       "      <td>7 mm</td>\n",
       "      <td>System 2,6</td>\n",
       "      <td>C07101</td>\n",
       "      <td>11JUN93:08:38:29</td>\n",
       "      <td>25JUN93:08:24:02</td>\n",
       "      <td>8.40</td>\n",
       "      <td>3</td>\n",
       "      <td>1</td>\n",
       "      <td>0.18912</td>\n",
       "      <td>-70.222</td>\n",
       "      <td>1</td>\n",
       "    </tr>\n",
       "    <tr>\n",
       "      <th>...</th>\n",
       "      <td>...</td>\n",
       "      <td>...</td>\n",
       "      <td>...</td>\n",
       "      <td>...</td>\n",
       "      <td>...</td>\n",
       "      <td>...</td>\n",
       "      <td>...</td>\n",
       "      <td>...</td>\n",
       "      <td>...</td>\n",
       "      <td>...</td>\n",
       "      <td>...</td>\n",
       "    </tr>\n",
       "    <tr>\n",
       "      <th>212516</th>\n",
       "      <td>Type N + Adapter on port 2</td>\n",
       "      <td>System I</td>\n",
       "      <td>CTN115</td>\n",
       "      <td>16JUL96:10:04:08</td>\n",
       "      <td>01AUG96:10:36:03</td>\n",
       "      <td>0.95</td>\n",
       "      <td>1</td>\n",
       "      <td>2</td>\n",
       "      <td>0.00404</td>\n",
       "      <td>72.663</td>\n",
       "      <td>1</td>\n",
       "    </tr>\n",
       "    <tr>\n",
       "      <th>212517</th>\n",
       "      <td>Type N + Adapter on port 2</td>\n",
       "      <td>System I</td>\n",
       "      <td>CTN115</td>\n",
       "      <td>16JUL96:10:04:08</td>\n",
       "      <td>01AUG96:10:36:03</td>\n",
       "      <td>0.95</td>\n",
       "      <td>2</td>\n",
       "      <td>2</td>\n",
       "      <td>0.00396</td>\n",
       "      <td>71.228</td>\n",
       "      <td>1</td>\n",
       "    </tr>\n",
       "    <tr>\n",
       "      <th>212518</th>\n",
       "      <td>Type N + Adapter on port 2</td>\n",
       "      <td>System I</td>\n",
       "      <td>CTN115</td>\n",
       "      <td>16JUL96:10:04:08</td>\n",
       "      <td>01AUG96:10:36:03</td>\n",
       "      <td>0.95</td>\n",
       "      <td>3</td>\n",
       "      <td>2</td>\n",
       "      <td>0.00382</td>\n",
       "      <td>71.534</td>\n",
       "      <td>1</td>\n",
       "    </tr>\n",
       "    <tr>\n",
       "      <th>212519</th>\n",
       "      <td>Type N + Adapter on port 2</td>\n",
       "      <td>System I</td>\n",
       "      <td>CTN115</td>\n",
       "      <td>14AUG96:10:08:24</td>\n",
       "      <td>15AUG96:10:54:42</td>\n",
       "      <td>0.95</td>\n",
       "      <td>1</td>\n",
       "      <td>2</td>\n",
       "      <td>0.00321</td>\n",
       "      <td>78.495</td>\n",
       "      <td>2</td>\n",
       "    </tr>\n",
       "    <tr>\n",
       "      <th>212520</th>\n",
       "      <td>Type N + Adapter on port 2</td>\n",
       "      <td>System I</td>\n",
       "      <td>CTN115</td>\n",
       "      <td>14AUG96:10:08:24</td>\n",
       "      <td>15AUG96:10:54:42</td>\n",
       "      <td>0.95</td>\n",
       "      <td>2</td>\n",
       "      <td>2</td>\n",
       "      <td>0.00309</td>\n",
       "      <td>80.732</td>\n",
       "      <td>2</td>\n",
       "    </tr>\n",
       "    <tr>\n",
       "      <th>212521</th>\n",
       "      <td>Type N + Adapter on port 2</td>\n",
       "      <td>System I</td>\n",
       "      <td>CTN115</td>\n",
       "      <td>14AUG96:10:08:24</td>\n",
       "      <td>15AUG96:10:54:42</td>\n",
       "      <td>0.95</td>\n",
       "      <td>3</td>\n",
       "      <td>2</td>\n",
       "      <td>0.00304</td>\n",
       "      <td>81.854</td>\n",
       "      <td>2</td>\n",
       "    </tr>\n",
       "    <tr>\n",
       "      <th>212522</th>\n",
       "      <td>Type N + Adapter on port 2</td>\n",
       "      <td>System I</td>\n",
       "      <td>CTN115</td>\n",
       "      <td>16NOV99:15:07:04</td>\n",
       "      <td>10JAN00:11:01:37</td>\n",
       "      <td>0.95</td>\n",
       "      <td>1</td>\n",
       "      <td>2</td>\n",
       "      <td>0.00116</td>\n",
       "      <td>66.598</td>\n",
       "      <td>3</td>\n",
       "    </tr>\n",
       "    <tr>\n",
       "      <th>212523</th>\n",
       "      <td>Type N + Adapter on port 2</td>\n",
       "      <td>System I</td>\n",
       "      <td>CTN115</td>\n",
       "      <td>16NOV99:15:07:04</td>\n",
       "      <td>10JAN00:11:01:37</td>\n",
       "      <td>0.95</td>\n",
       "      <td>2</td>\n",
       "      <td>2</td>\n",
       "      <td>0.00100</td>\n",
       "      <td>73.264</td>\n",
       "      <td>3</td>\n",
       "    </tr>\n",
       "    <tr>\n",
       "      <th>212524</th>\n",
       "      <td>Type N + Adapter on port 2</td>\n",
       "      <td>System I</td>\n",
       "      <td>CTN115</td>\n",
       "      <td>16NOV99:15:07:04</td>\n",
       "      <td>10JAN00:11:01:37</td>\n",
       "      <td>0.95</td>\n",
       "      <td>3</td>\n",
       "      <td>2</td>\n",
       "      <td>0.00102</td>\n",
       "      <td>74.398</td>\n",
       "      <td>3</td>\n",
       "    </tr>\n",
       "    <tr>\n",
       "      <th>212525</th>\n",
       "      <td>Type N + Adapter on port 2</td>\n",
       "      <td>System I</td>\n",
       "      <td>CTN115</td>\n",
       "      <td>20JUL01:12:13:22</td>\n",
       "      <td>23JUL01:14:19:01</td>\n",
       "      <td>0.95</td>\n",
       "      <td>1</td>\n",
       "      <td>2</td>\n",
       "      <td>0.00125</td>\n",
       "      <td>74.221</td>\n",
       "      <td>4</td>\n",
       "    </tr>\n",
       "    <tr>\n",
       "      <th>212526</th>\n",
       "      <td>Type N + Adapter on port 2</td>\n",
       "      <td>System I</td>\n",
       "      <td>CTN115</td>\n",
       "      <td>20JUL01:12:13:22</td>\n",
       "      <td>23JUL01:14:19:01</td>\n",
       "      <td>0.95</td>\n",
       "      <td>2</td>\n",
       "      <td>2</td>\n",
       "      <td>0.00127</td>\n",
       "      <td>72.868</td>\n",
       "      <td>4</td>\n",
       "    </tr>\n",
       "    <tr>\n",
       "      <th>212527</th>\n",
       "      <td>Type N + Adapter on port 2</td>\n",
       "      <td>System I</td>\n",
       "      <td>CTN115</td>\n",
       "      <td>20JUL01:12:13:22</td>\n",
       "      <td>23JUL01:14:19:01</td>\n",
       "      <td>0.95</td>\n",
       "      <td>3</td>\n",
       "      <td>2</td>\n",
       "      <td>0.00122</td>\n",
       "      <td>72.741</td>\n",
       "      <td>4</td>\n",
       "    </tr>\n",
       "    <tr>\n",
       "      <th>212528</th>\n",
       "      <td>Type N + Adapter on port 2</td>\n",
       "      <td>System I</td>\n",
       "      <td>CTN115</td>\n",
       "      <td>11DEC01:15:24:30</td>\n",
       "      <td>18DEC01:17:08:38</td>\n",
       "      <td>0.95</td>\n",
       "      <td>1</td>\n",
       "      <td>2</td>\n",
       "      <td>0.00086</td>\n",
       "      <td>68.745</td>\n",
       "      <td>5</td>\n",
       "    </tr>\n",
       "    <tr>\n",
       "      <th>212529</th>\n",
       "      <td>Type N + Adapter on port 2</td>\n",
       "      <td>System I</td>\n",
       "      <td>CTN115</td>\n",
       "      <td>11DEC01:15:24:30</td>\n",
       "      <td>18DEC01:17:08:38</td>\n",
       "      <td>0.95</td>\n",
       "      <td>2</td>\n",
       "      <td>2</td>\n",
       "      <td>0.00087</td>\n",
       "      <td>70.501</td>\n",
       "      <td>5</td>\n",
       "    </tr>\n",
       "    <tr>\n",
       "      <th>212530</th>\n",
       "      <td>Type N + Adapter on port 2</td>\n",
       "      <td>System I</td>\n",
       "      <td>CTN115</td>\n",
       "      <td>11DEC01:15:24:30</td>\n",
       "      <td>18DEC01:17:08:38</td>\n",
       "      <td>0.95</td>\n",
       "      <td>3</td>\n",
       "      <td>2</td>\n",
       "      <td>0.00090</td>\n",
       "      <td>68.807</td>\n",
       "      <td>5</td>\n",
       "    </tr>\n",
       "    <tr>\n",
       "      <th>212531</th>\n",
       "      <td>Type N + Adapter on port 2</td>\n",
       "      <td>System I</td>\n",
       "      <td>CTN115</td>\n",
       "      <td>16JUL96:10:04:08</td>\n",
       "      <td>01AUG96:10:36:03</td>\n",
       "      <td>1.00</td>\n",
       "      <td>1</td>\n",
       "      <td>2</td>\n",
       "      <td>0.00456</td>\n",
       "      <td>74.796</td>\n",
       "      <td>1</td>\n",
       "    </tr>\n",
       "    <tr>\n",
       "      <th>212532</th>\n",
       "      <td>Type N + Adapter on port 2</td>\n",
       "      <td>System I</td>\n",
       "      <td>CTN115</td>\n",
       "      <td>16JUL96:10:04:08</td>\n",
       "      <td>01AUG96:10:36:03</td>\n",
       "      <td>1.00</td>\n",
       "      <td>2</td>\n",
       "      <td>2</td>\n",
       "      <td>0.00453</td>\n",
       "      <td>71.735</td>\n",
       "      <td>1</td>\n",
       "    </tr>\n",
       "    <tr>\n",
       "      <th>212533</th>\n",
       "      <td>Type N + Adapter on port 2</td>\n",
       "      <td>System I</td>\n",
       "      <td>CTN115</td>\n",
       "      <td>16JUL96:10:04:08</td>\n",
       "      <td>01AUG96:10:36:03</td>\n",
       "      <td>1.00</td>\n",
       "      <td>3</td>\n",
       "      <td>2</td>\n",
       "      <td>0.00461</td>\n",
       "      <td>76.099</td>\n",
       "      <td>1</td>\n",
       "    </tr>\n",
       "    <tr>\n",
       "      <th>212534</th>\n",
       "      <td>Type N + Adapter on port 2</td>\n",
       "      <td>System I</td>\n",
       "      <td>CTN115</td>\n",
       "      <td>14AUG96:10:08:24</td>\n",
       "      <td>15AUG96:10:54:42</td>\n",
       "      <td>1.00</td>\n",
       "      <td>1</td>\n",
       "      <td>2</td>\n",
       "      <td>0.00223</td>\n",
       "      <td>63.301</td>\n",
       "      <td>2</td>\n",
       "    </tr>\n",
       "    <tr>\n",
       "      <th>212535</th>\n",
       "      <td>Type N + Adapter on port 2</td>\n",
       "      <td>System I</td>\n",
       "      <td>CTN115</td>\n",
       "      <td>14AUG96:10:08:24</td>\n",
       "      <td>15AUG96:10:54:42</td>\n",
       "      <td>1.00</td>\n",
       "      <td>2</td>\n",
       "      <td>2</td>\n",
       "      <td>0.00207</td>\n",
       "      <td>64.229</td>\n",
       "      <td>2</td>\n",
       "    </tr>\n",
       "    <tr>\n",
       "      <th>212536</th>\n",
       "      <td>Type N + Adapter on port 2</td>\n",
       "      <td>System I</td>\n",
       "      <td>CTN115</td>\n",
       "      <td>14AUG96:10:08:24</td>\n",
       "      <td>15AUG96:10:54:42</td>\n",
       "      <td>1.00</td>\n",
       "      <td>3</td>\n",
       "      <td>2</td>\n",
       "      <td>0.00204</td>\n",
       "      <td>63.765</td>\n",
       "      <td>2</td>\n",
       "    </tr>\n",
       "    <tr>\n",
       "      <th>212537</th>\n",
       "      <td>Type N + Adapter on port 2</td>\n",
       "      <td>System I</td>\n",
       "      <td>CTN115</td>\n",
       "      <td>16NOV99:15:07:04</td>\n",
       "      <td>10JAN00:11:01:37</td>\n",
       "      <td>1.00</td>\n",
       "      <td>1</td>\n",
       "      <td>2</td>\n",
       "      <td>0.00106</td>\n",
       "      <td>32.350</td>\n",
       "      <td>3</td>\n",
       "    </tr>\n",
       "    <tr>\n",
       "      <th>212538</th>\n",
       "      <td>Type N + Adapter on port 2</td>\n",
       "      <td>System I</td>\n",
       "      <td>CTN115</td>\n",
       "      <td>16NOV99:15:07:04</td>\n",
       "      <td>10JAN00:11:01:37</td>\n",
       "      <td>1.00</td>\n",
       "      <td>2</td>\n",
       "      <td>2</td>\n",
       "      <td>0.00080</td>\n",
       "      <td>30.094</td>\n",
       "      <td>3</td>\n",
       "    </tr>\n",
       "    <tr>\n",
       "      <th>212539</th>\n",
       "      <td>Type N + Adapter on port 2</td>\n",
       "      <td>System I</td>\n",
       "      <td>CTN115</td>\n",
       "      <td>16NOV99:15:07:04</td>\n",
       "      <td>10JAN00:11:01:37</td>\n",
       "      <td>1.00</td>\n",
       "      <td>3</td>\n",
       "      <td>2</td>\n",
       "      <td>0.00079</td>\n",
       "      <td>29.943</td>\n",
       "      <td>3</td>\n",
       "    </tr>\n",
       "    <tr>\n",
       "      <th>212540</th>\n",
       "      <td>Type N + Adapter on port 2</td>\n",
       "      <td>System I</td>\n",
       "      <td>CTN115</td>\n",
       "      <td>20JUL01:12:13:22</td>\n",
       "      <td>23JUL01:14:19:01</td>\n",
       "      <td>1.00</td>\n",
       "      <td>1</td>\n",
       "      <td>2</td>\n",
       "      <td>0.00099</td>\n",
       "      <td>41.521</td>\n",
       "      <td>4</td>\n",
       "    </tr>\n",
       "    <tr>\n",
       "      <th>212541</th>\n",
       "      <td>Type N + Adapter on port 2</td>\n",
       "      <td>System I</td>\n",
       "      <td>CTN115</td>\n",
       "      <td>20JUL01:12:13:22</td>\n",
       "      <td>23JUL01:14:19:01</td>\n",
       "      <td>1.00</td>\n",
       "      <td>2</td>\n",
       "      <td>2</td>\n",
       "      <td>0.00099</td>\n",
       "      <td>39.387</td>\n",
       "      <td>4</td>\n",
       "    </tr>\n",
       "    <tr>\n",
       "      <th>212542</th>\n",
       "      <td>Type N + Adapter on port 2</td>\n",
       "      <td>System I</td>\n",
       "      <td>CTN115</td>\n",
       "      <td>20JUL01:12:13:22</td>\n",
       "      <td>23JUL01:14:19:01</td>\n",
       "      <td>1.00</td>\n",
       "      <td>3</td>\n",
       "      <td>2</td>\n",
       "      <td>0.00102</td>\n",
       "      <td>40.162</td>\n",
       "      <td>4</td>\n",
       "    </tr>\n",
       "    <tr>\n",
       "      <th>212543</th>\n",
       "      <td>Type N + Adapter on port 2</td>\n",
       "      <td>System I</td>\n",
       "      <td>CTN115</td>\n",
       "      <td>11DEC01:15:24:30</td>\n",
       "      <td>18DEC01:17:08:38</td>\n",
       "      <td>1.00</td>\n",
       "      <td>1</td>\n",
       "      <td>2</td>\n",
       "      <td>0.00088</td>\n",
       "      <td>56.739</td>\n",
       "      <td>5</td>\n",
       "    </tr>\n",
       "    <tr>\n",
       "      <th>212544</th>\n",
       "      <td>Type N + Adapter on port 2</td>\n",
       "      <td>System I</td>\n",
       "      <td>CTN115</td>\n",
       "      <td>11DEC01:15:24:30</td>\n",
       "      <td>18DEC01:17:08:38</td>\n",
       "      <td>1.00</td>\n",
       "      <td>2</td>\n",
       "      <td>2</td>\n",
       "      <td>0.00087</td>\n",
       "      <td>53.625</td>\n",
       "      <td>5</td>\n",
       "    </tr>\n",
       "    <tr>\n",
       "      <th>212545</th>\n",
       "      <td>Type N + Adapter on port 2</td>\n",
       "      <td>System I</td>\n",
       "      <td>CTN115</td>\n",
       "      <td>11DEC01:15:24:30</td>\n",
       "      <td>18DEC01:17:08:38</td>\n",
       "      <td>1.00</td>\n",
       "      <td>3</td>\n",
       "      <td>2</td>\n",
       "      <td>0.00089</td>\n",
       "      <td>55.686</td>\n",
       "      <td>5</td>\n",
       "    </tr>\n",
       "  </tbody>\n",
       "</table>\n",
       "<p>212546 rows × 11 columns</p>\n",
       "</div>"
      ],
      "text/plain": [
       "                             ctype        spid checkid           CALDATE  \\\n",
       "0                             7 mm  System 2,6  C07101  02AUG93:15:00:40   \n",
       "1                             7 mm  System 2,6  C07101  02AUG93:15:00:40   \n",
       "2                             7 mm  System 2,6  C07101  02AUG93:15:00:40   \n",
       "3                             7 mm  System 2,6  C07101  02AUG93:15:00:40   \n",
       "4                             7 mm  System 2,6  C07101  02AUG93:15:00:40   \n",
       "5                             7 mm  System 2,6  C07101  02AUG93:15:00:40   \n",
       "6                             7 mm  System 2,6  C07101  02AUG93:15:00:40   \n",
       "7                             7 mm  System 2,6  C07101  02AUG93:15:00:40   \n",
       "8                             7 mm  System 2,6  C07101  02AUG93:15:00:40   \n",
       "9                             7 mm  System 2,6  C07101  02AUG93:15:00:40   \n",
       "10                            7 mm  System 2,6  C07101  02AUG93:15:00:40   \n",
       "11                            7 mm  System 2,6  C07101  02AUG93:15:00:40   \n",
       "12                            7 mm  System 2,6  C07101  02AUG93:15:00:40   \n",
       "13                            7 mm  System 2,6  C07101  02AUG93:15:00:40   \n",
       "14                            7 mm  System 2,6  C07101  02AUG93:15:00:40   \n",
       "15                            7 mm  System 2,6  C07101               NaN   \n",
       "16                            7 mm  System 2,6  C07101  02AUG93:15:00:40   \n",
       "17                            7 mm  System 2,6  C07101  02AUG93:15:00:40   \n",
       "18                            7 mm  System 2,6  C07101  11JUN93:08:38:29   \n",
       "19                            7 mm  System 2,6  C07101  11JUN93:08:38:29   \n",
       "20                            7 mm  System 2,6  C07101  11JUN93:08:38:29   \n",
       "21                            7 mm  System 2,6  C07101  02AUG93:15:00:40   \n",
       "22                            7 mm  System 2,6  C07101  02AUG93:15:00:40   \n",
       "23                            7 mm  System 2,6  C07101  02AUG93:15:00:40   \n",
       "24                            7 mm  System 2,6  C07101  11JUN93:08:38:29   \n",
       "25                            7 mm  System 2,6  C07101  11JUN93:08:38:29   \n",
       "26                            7 mm  System 2,6  C07101  11JUN93:08:38:29   \n",
       "27                            7 mm  System 2,6  C07101  11JUN93:08:38:29   \n",
       "28                            7 mm  System 2,6  C07101  11JUN93:08:38:29   \n",
       "29                            7 mm  System 2,6  C07101  11JUN93:08:38:29   \n",
       "...                            ...         ...     ...               ...   \n",
       "212516  Type N + Adapter on port 2    System I  CTN115  16JUL96:10:04:08   \n",
       "212517  Type N + Adapter on port 2    System I  CTN115  16JUL96:10:04:08   \n",
       "212518  Type N + Adapter on port 2    System I  CTN115  16JUL96:10:04:08   \n",
       "212519  Type N + Adapter on port 2    System I  CTN115  14AUG96:10:08:24   \n",
       "212520  Type N + Adapter on port 2    System I  CTN115  14AUG96:10:08:24   \n",
       "212521  Type N + Adapter on port 2    System I  CTN115  14AUG96:10:08:24   \n",
       "212522  Type N + Adapter on port 2    System I  CTN115  16NOV99:15:07:04   \n",
       "212523  Type N + Adapter on port 2    System I  CTN115  16NOV99:15:07:04   \n",
       "212524  Type N + Adapter on port 2    System I  CTN115  16NOV99:15:07:04   \n",
       "212525  Type N + Adapter on port 2    System I  CTN115  20JUL01:12:13:22   \n",
       "212526  Type N + Adapter on port 2    System I  CTN115  20JUL01:12:13:22   \n",
       "212527  Type N + Adapter on port 2    System I  CTN115  20JUL01:12:13:22   \n",
       "212528  Type N + Adapter on port 2    System I  CTN115  11DEC01:15:24:30   \n",
       "212529  Type N + Adapter on port 2    System I  CTN115  11DEC01:15:24:30   \n",
       "212530  Type N + Adapter on port 2    System I  CTN115  11DEC01:15:24:30   \n",
       "212531  Type N + Adapter on port 2    System I  CTN115  16JUL96:10:04:08   \n",
       "212532  Type N + Adapter on port 2    System I  CTN115  16JUL96:10:04:08   \n",
       "212533  Type N + Adapter on port 2    System I  CTN115  16JUL96:10:04:08   \n",
       "212534  Type N + Adapter on port 2    System I  CTN115  14AUG96:10:08:24   \n",
       "212535  Type N + Adapter on port 2    System I  CTN115  14AUG96:10:08:24   \n",
       "212536  Type N + Adapter on port 2    System I  CTN115  14AUG96:10:08:24   \n",
       "212537  Type N + Adapter on port 2    System I  CTN115  16NOV99:15:07:04   \n",
       "212538  Type N + Adapter on port 2    System I  CTN115  16NOV99:15:07:04   \n",
       "212539  Type N + Adapter on port 2    System I  CTN115  16NOV99:15:07:04   \n",
       "212540  Type N + Adapter on port 2    System I  CTN115  20JUL01:12:13:22   \n",
       "212541  Type N + Adapter on port 2    System I  CTN115  20JUL01:12:13:22   \n",
       "212542  Type N + Adapter on port 2    System I  CTN115  20JUL01:12:13:22   \n",
       "212543  Type N + Adapter on port 2    System I  CTN115  11DEC01:15:24:30   \n",
       "212544  Type N + Adapter on port 2    System I  CTN115  11DEC01:15:24:30   \n",
       "212545  Type N + Adapter on port 2    System I  CTN115  11DEC01:15:24:30   \n",
       "\n",
       "                MEASDATE  FREQ  CON  SP    MGAMA    PGAMA  CAL  \n",
       "0       10AUG93:08:31:01  2.00    1   1  0.19937   35.400    1  \n",
       "1       10AUG93:08:31:01  2.00    2   1  0.19932   35.401    1  \n",
       "2       10AUG93:08:31:01  2.00    3   1  0.19934   35.397    1  \n",
       "3       10AUG93:08:31:01  3.00    1   1  0.20243  -37.995    1  \n",
       "4       10AUG93:08:31:01  3.00    2   1  0.20252  -37.986    1  \n",
       "5       10AUG93:08:31:01  3.00    3   1  0.20245  -38.014    1  \n",
       "6       10AUG93:08:31:01  4.00    1   1  0.20361 -110.024    1  \n",
       "7       10AUG93:08:31:01  4.00    2   1  0.20348 -110.032    1  \n",
       "8       10AUG93:08:31:01  4.00    3   1  0.20368 -110.029    1  \n",
       "9       10AUG93:08:31:01  5.00    1   1  0.20369  178.440    1  \n",
       "10      10AUG93:08:31:01  5.00    2   1  0.20369  178.407    1  \n",
       "11      10AUG93:08:31:01  5.00    3   1  0.20369  178.434    1  \n",
       "12      10AUG93:08:31:01  6.00    1   1  0.20373  107.016    1  \n",
       "13      10AUG93:08:31:01  6.00    2   1  0.20370  107.013    1  \n",
       "14      10AUG93:08:31:01  6.00    3   1  0.20372  107.000    1  \n",
       "15      10AUG93:08:31:01  7.00    1   1  0.19963   34.812    1  \n",
       "16      10AUG93:08:31:01  7.00    2   1  0.19970   34.762    2  \n",
       "17      10AUG93:08:31:01  7.00    3   1  0.19962   34.784    2  \n",
       "18      25JUN93:08:24:02  8.00    1   1  0.19123  -39.730    1  \n",
       "19      25JUN93:08:24:02  8.00    2   1  0.19115  -39.765    1  \n",
       "20      25JUN93:08:24:02  8.00    3   1  0.19116  -39.750    1  \n",
       "21      10AUG93:08:31:01  8.00    1   1  0.19228  -39.865    2  \n",
       "22      10AUG93:08:31:01  8.00    2   1  0.19221  -39.803    2  \n",
       "23      10AUG93:08:31:01  8.00    3   1  0.19227  -39.853    2  \n",
       "24      25JUN93:08:24:02  8.20    1   1  0.19037  -55.060    1  \n",
       "25      25JUN93:08:24:02  8.20    2   1  0.19017  -55.057    1  \n",
       "26      25JUN93:08:24:02  8.20    3   1  0.19016  -55.124    1  \n",
       "27      25JUN93:08:24:02  8.40    1   1  0.18944  -70.174    1  \n",
       "28      25JUN93:08:24:02  8.40    2   1  0.18936  -70.194    1  \n",
       "29      25JUN93:08:24:02  8.40    3   1  0.18912  -70.222    1  \n",
       "...                  ...   ...  ...  ..      ...      ...  ...  \n",
       "212516  01AUG96:10:36:03  0.95    1   2  0.00404   72.663    1  \n",
       "212517  01AUG96:10:36:03  0.95    2   2  0.00396   71.228    1  \n",
       "212518  01AUG96:10:36:03  0.95    3   2  0.00382   71.534    1  \n",
       "212519  15AUG96:10:54:42  0.95    1   2  0.00321   78.495    2  \n",
       "212520  15AUG96:10:54:42  0.95    2   2  0.00309   80.732    2  \n",
       "212521  15AUG96:10:54:42  0.95    3   2  0.00304   81.854    2  \n",
       "212522  10JAN00:11:01:37  0.95    1   2  0.00116   66.598    3  \n",
       "212523  10JAN00:11:01:37  0.95    2   2  0.00100   73.264    3  \n",
       "212524  10JAN00:11:01:37  0.95    3   2  0.00102   74.398    3  \n",
       "212525  23JUL01:14:19:01  0.95    1   2  0.00125   74.221    4  \n",
       "212526  23JUL01:14:19:01  0.95    2   2  0.00127   72.868    4  \n",
       "212527  23JUL01:14:19:01  0.95    3   2  0.00122   72.741    4  \n",
       "212528  18DEC01:17:08:38  0.95    1   2  0.00086   68.745    5  \n",
       "212529  18DEC01:17:08:38  0.95    2   2  0.00087   70.501    5  \n",
       "212530  18DEC01:17:08:38  0.95    3   2  0.00090   68.807    5  \n",
       "212531  01AUG96:10:36:03  1.00    1   2  0.00456   74.796    1  \n",
       "212532  01AUG96:10:36:03  1.00    2   2  0.00453   71.735    1  \n",
       "212533  01AUG96:10:36:03  1.00    3   2  0.00461   76.099    1  \n",
       "212534  15AUG96:10:54:42  1.00    1   2  0.00223   63.301    2  \n",
       "212535  15AUG96:10:54:42  1.00    2   2  0.00207   64.229    2  \n",
       "212536  15AUG96:10:54:42  1.00    3   2  0.00204   63.765    2  \n",
       "212537  10JAN00:11:01:37  1.00    1   2  0.00106   32.350    3  \n",
       "212538  10JAN00:11:01:37  1.00    2   2  0.00080   30.094    3  \n",
       "212539  10JAN00:11:01:37  1.00    3   2  0.00079   29.943    3  \n",
       "212540  23JUL01:14:19:01  1.00    1   2  0.00099   41.521    4  \n",
       "212541  23JUL01:14:19:01  1.00    2   2  0.00099   39.387    4  \n",
       "212542  23JUL01:14:19:01  1.00    3   2  0.00102   40.162    4  \n",
       "212543  18DEC01:17:08:38  1.00    1   2  0.00088   56.739    5  \n",
       "212544  18DEC01:17:08:38  1.00    2   2  0.00087   53.625    5  \n",
       "212545  18DEC01:17:08:38  1.00    3   2  0.00089   55.686    5  \n",
       "\n",
       "[212546 rows x 11 columns]"
      ]
     },
     "execution_count": 5,
     "metadata": {},
     "output_type": "execute_result"
    }
   ],
   "source": [
    "df"
   ]
  },
  {
   "cell_type": "code",
   "execution_count": 8,
   "metadata": {
    "collapsed": false
   },
   "outputs": [
    {
     "data": {
      "text/plain": [
       "'10AUG93:08:31:01'"
      ]
     },
     "execution_count": 8,
     "metadata": {},
     "output_type": "execute_result"
    }
   ],
   "source": [
    "df['MEASDATE'][0]"
   ]
  },
  {
   "cell_type": "code",
   "execution_count": 10,
   "metadata": {
    "collapsed": false
   },
   "outputs": [],
   "source": [
    "import datetime\n",
    "dt=datetime.datetime.strptime(df['MEASDATE'][0],'%d%b%y:%H:%M:%S')"
   ]
  },
  {
   "cell_type": "code",
   "execution_count": 28,
   "metadata": {
    "collapsed": false
   },
   "outputs": [
    {
     "name": "stdout",
     "output_type": "stream",
     "text": [
      "1993-08-10T08:31:01\n"
     ]
    }
   ],
   "source": [
    "print dt.isoformat()"
   ]
  },
  {
   "cell_type": "code",
   "execution_count": 21,
   "metadata": {
    "collapsed": false
   },
   "outputs": [],
   "source": [
    "df.to_csv(r'C:\\Users\\sandersa\\PyCharm Projects\\pyMeasureNew\\pyMeasure\\Code\\DataHandlers\\Tests\\onechks_pandas.csv',index=False)"
   ]
  },
  {
   "cell_type": "code",
   "execution_count": 22,
   "metadata": {
    "collapsed": true
   },
   "outputs": [],
   "source": [
    "df2=pandas.read_csv(r'C:\\Users\\sandersa\\PyCharm Projects\\pyMeasureNew\\pyMeasure\\Code\\DataHandlers\\Tests\\onechks_pandas.csv')"
   ]
  },
  {
   "cell_type": "code",
   "execution_count": 25,
   "metadata": {
    "collapsed": false
   },
   "outputs": [
    {
     "name": "stdout",
     "output_type": "stream",
     "text": [
      "       ctype  spid checkid CALDATE MEASDATE  FREQ   CON    SP MGAMA PGAMA  \\\n",
      "0       True  True    True    True     True  True  True  True  True  True   \n",
      "1       True  True    True    True     True  True  True  True  True  True   \n",
      "2       True  True    True    True     True  True  True  True  True  True   \n",
      "3       True  True    True    True     True  True  True  True  True  True   \n",
      "4       True  True    True    True     True  True  True  True  True  True   \n",
      "5       True  True    True    True     True  True  True  True  True  True   \n",
      "6       True  True    True    True     True  True  True  True  True  True   \n",
      "7       True  True    True    True     True  True  True  True  True  True   \n",
      "8       True  True    True    True     True  True  True  True  True  True   \n",
      "9       True  True    True    True     True  True  True  True  True  True   \n",
      "10      True  True    True    True     True  True  True  True  True  True   \n",
      "11      True  True    True    True     True  True  True  True  True  True   \n",
      "12      True  True    True    True     True  True  True  True  True  True   \n",
      "13      True  True    True    True     True  True  True  True  True  True   \n",
      "14      True  True    True    True     True  True  True  True  True  True   \n",
      "15      True  True    True   False     True  True  True  True  True  True   \n",
      "16      True  True    True    True     True  True  True  True  True  True   \n",
      "17      True  True    True    True     True  True  True  True  True  True   \n",
      "18      True  True    True    True     True  True  True  True  True  True   \n",
      "19      True  True    True    True     True  True  True  True  True  True   \n",
      "20      True  True    True    True     True  True  True  True  True  True   \n",
      "21      True  True    True    True     True  True  True  True  True  True   \n",
      "22      True  True    True    True     True  True  True  True  True  True   \n",
      "23      True  True    True    True     True  True  True  True  True  True   \n",
      "24      True  True    True    True     True  True  True  True  True  True   \n",
      "25      True  True    True    True     True  True  True  True  True  True   \n",
      "26      True  True    True    True     True  True  True  True  True  True   \n",
      "27      True  True    True    True     True  True  True  True  True  True   \n",
      "28      True  True    True    True     True  True  True  True  True  True   \n",
      "29      True  True    True    True     True  True  True  True  True  True   \n",
      "...      ...   ...     ...     ...      ...   ...   ...   ...   ...   ...   \n",
      "212516  True  True    True    True     True  True  True  True  True  True   \n",
      "212517  True  True    True    True     True  True  True  True  True  True   \n",
      "212518  True  True    True    True     True  True  True  True  True  True   \n",
      "212519  True  True    True    True     True  True  True  True  True  True   \n",
      "212520  True  True    True    True     True  True  True  True  True  True   \n",
      "212521  True  True    True    True     True  True  True  True  True  True   \n",
      "212522  True  True    True    True     True  True  True  True  True  True   \n",
      "212523  True  True    True    True     True  True  True  True  True  True   \n",
      "212524  True  True    True    True     True  True  True  True  True  True   \n",
      "212525  True  True    True    True     True  True  True  True  True  True   \n",
      "212526  True  True    True    True     True  True  True  True  True  True   \n",
      "212527  True  True    True    True     True  True  True  True  True  True   \n",
      "212528  True  True    True    True     True  True  True  True  True  True   \n",
      "212529  True  True    True    True     True  True  True  True  True  True   \n",
      "212530  True  True    True    True     True  True  True  True  True  True   \n",
      "212531  True  True    True    True     True  True  True  True  True  True   \n",
      "212532  True  True    True    True     True  True  True  True  True  True   \n",
      "212533  True  True    True    True     True  True  True  True  True  True   \n",
      "212534  True  True    True    True     True  True  True  True  True  True   \n",
      "212535  True  True    True    True     True  True  True  True  True  True   \n",
      "212536  True  True    True    True     True  True  True  True  True  True   \n",
      "212537  True  True    True    True     True  True  True  True  True  True   \n",
      "212538  True  True    True    True     True  True  True  True  True  True   \n",
      "212539  True  True    True    True     True  True  True  True  True  True   \n",
      "212540  True  True    True    True     True  True  True  True  True  True   \n",
      "212541  True  True    True    True     True  True  True  True  True  True   \n",
      "212542  True  True    True    True     True  True  True  True  True  True   \n",
      "212543  True  True    True    True     True  True  True  True  True  True   \n",
      "212544  True  True    True    True     True  True  True  True  True  True   \n",
      "212545  True  True    True    True     True  True  True  True  True  True   \n",
      "\n",
      "         CAL  \n",
      "0       True  \n",
      "1       True  \n",
      "2       True  \n",
      "3       True  \n",
      "4       True  \n",
      "5       True  \n",
      "6       True  \n",
      "7       True  \n",
      "8       True  \n",
      "9       True  \n",
      "10      True  \n",
      "11      True  \n",
      "12      True  \n",
      "13      True  \n",
      "14      True  \n",
      "15      True  \n",
      "16      True  \n",
      "17      True  \n",
      "18      True  \n",
      "19      True  \n",
      "20      True  \n",
      "21      True  \n",
      "22      True  \n",
      "23      True  \n",
      "24      True  \n",
      "25      True  \n",
      "26      True  \n",
      "27      True  \n",
      "28      True  \n",
      "29      True  \n",
      "...      ...  \n",
      "212516  True  \n",
      "212517  True  \n",
      "212518  True  \n",
      "212519  True  \n",
      "212520  True  \n",
      "212521  True  \n",
      "212522  True  \n",
      "212523  True  \n",
      "212524  True  \n",
      "212525  True  \n",
      "212526  True  \n",
      "212527  True  \n",
      "212528  True  \n",
      "212529  True  \n",
      "212530  True  \n",
      "212531  True  \n",
      "212532  True  \n",
      "212533  True  \n",
      "212534  True  \n",
      "212535  True  \n",
      "212536  True  \n",
      "212537  True  \n",
      "212538  True  \n",
      "212539  True  \n",
      "212540  True  \n",
      "212541  True  \n",
      "212542  True  \n",
      "212543  True  \n",
      "212544  True  \n",
      "212545  True  \n",
      "\n",
      "[212546 rows x 11 columns]\n"
     ]
    }
   ],
   "source": []
  },
  {
   "cell_type": "code",
   "execution_count": 34,
   "metadata": {
    "collapsed": false
   },
   "outputs": [],
   "source": [
    "now=datetime.datetime.utcnow()"
   ]
  },
  {
   "cell_type": "code",
   "execution_count": 35,
   "metadata": {
    "collapsed": false
   },
   "outputs": [
    {
     "data": {
      "text/plain": [
       "'2016-03-24T23:37:17.128000'"
      ]
     },
     "execution_count": 35,
     "metadata": {},
     "output_type": "execute_result"
    }
   ],
   "source": [
    "now.isoformat()"
   ]
  },
  {
   "cell_type": "code",
   "execution_count": 39,
   "metadata": {
    "collapsed": false
   },
   "outputs": [],
   "source": [
    "df2.to_json()"
   ]
  },
  {
   "cell_type": "code",
   "execution_count": 8,
   "metadata": {
    "collapsed": true
   },
   "outputs": [],
   "source": [
    "NUMBER_MATCH_STRING=r'[+-]?(\\d+(\\.\\d*)?|\\.\\d+)([eE][+-]?\\d+)?'\n",
    "def make_row_match_string(column_names,delimiter_pattern='[\\s,-]+'):\n",
    "    \"\"\"Returns a regex string for matching a row given a set of column names assuming the row delimiter\n",
    "    is a set of white spaces (default) or a specified delimiter pattern.\n",
    "    Designed to create a regex for the input of numbers\"\"\"\n",
    "    row_regex_string=\"(?:^|[\\s]+)\"\n",
    "    for index,name in enumerate(column_names):\n",
    "        if index == len(column_names)-1:\n",
    "            row_regex_string=row_regex_string+'(?P<%s>{0})'%name\n",
    "        else:\n",
    "            row_regex_string=row_regex_string+'(?P<%s>{0})'%name+delimiter_pattern\n",
    "    row_regex_string=row_regex_string.format(NUMBER_MATCH_STRING)\n",
    "    return row_regex_string"
   ]
  },
  {
   "cell_type": "code",
   "execution_count": 9,
   "metadata": {
    "collapsed": true
   },
   "outputs": [],
   "source": [
    "regex=make_row_match_string(['freq','reS11','imS11'])"
   ]
  },
  {
   "cell_type": "code",
   "execution_count": 16,
   "metadata": {
    "collapsed": false
   },
   "outputs": [
    {
     "name": "stdout",
     "output_type": "stream",
     "text": [
      "{'reS11': '1.5e+05', 'freq': '123', 'imS11': '.13'}\n"
     ]
    }
   ],
   "source": [
    "match=re.match(regex,'   123, 1.5e+05,  .13')\n",
    "print match.groupdict()"
   ]
  },
  {
   "cell_type": "code",
   "execution_count": null,
   "metadata": {
    "collapsed": true
   },
   "outputs": [],
   "source": []
  }
 ],
 "metadata": {
  "kernelspec": {
   "display_name": "Python 2",
   "language": "python",
   "name": "python2"
  },
  "language_info": {
   "codemirror_mode": {
    "name": "ipython",
    "version": 2
   },
   "file_extension": ".py",
   "mimetype": "text/x-python",
   "name": "python",
   "nbconvert_exporter": "python",
   "pygments_lexer": "ipython2",
   "version": "2.7.11"
  }
 },
 "nbformat": 4,
 "nbformat_minor": 0
}
