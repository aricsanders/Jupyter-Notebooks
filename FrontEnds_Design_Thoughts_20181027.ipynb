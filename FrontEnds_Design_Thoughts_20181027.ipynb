{
 "cells": [
  {
   "cell_type": "markdown",
   "metadata": {},
   "source": [
    "# Thoughts about design of FrontEnds"
   ]
  },
  {
   "cell_type": "markdown",
   "metadata": {},
   "source": [
    "### Three targeted front ends\n",
    "\n",
    "1. __Jupyter or other scripting FrontEnd:__ \n",
    "The Jupyter or other scripting FrontEnd is based on using pyMez as a Library. The user creates a new script that takes advantage of the functions in pyMez and has complete flexibility and control. The downside is that the person has to be fluent in python. To make this as complete as possible pyMez should be upgraded to python3.\n",
    "Easy to modify, Most flexible \n",
    "\n",
    "2. __Wx or other destop GUI:__\n",
    "A functional GUI for a set task. This is where I spent my development time earlier on. I thought that it would consist of a constant interface frame that had different panels that you could \"plugin\". Currently this is plagued by the version of WX is was written in (2.something). It needs to be updated to wx 4 (phoenix) to be long term deployable. I have also had little luck in making stand alone GUI (.exe). This needs a way to install the windows widgets and links to running the windows.  \n",
    "Hard to modify, easier for people who have little experience to use, local to a single computer\n",
    "\n",
    "3. __Django or other web framework:__\n",
    "A webserver that has data management and other functionality. This has a lot of potential but it is more complicated for others to modify. \n",
    "Hard to modify, needs a browser and computer setup, could be network deployable."
   ]
  },
  {
   "cell_type": "markdown",
   "metadata": {},
   "source": [
    "## Python3 Migration\n",
    "1. Find all occurances of %s and change to .format syntax (~100) in mainly older modules\n",
    "2. print x becomes print(x) same with exec x\n",
    "3. run python2to3 script on all modules\n",
    "4. Test all modules\n"
   ]
  }
 ],
 "metadata": {
  "kernelspec": {
   "display_name": "Python 2",
   "language": "python",
   "name": "python2"
  },
  "language_info": {
   "codemirror_mode": {
    "name": "ipython",
    "version": 2
   },
   "file_extension": ".py",
   "mimetype": "text/x-python",
   "name": "python",
   "nbconvert_exporter": "python",
   "pygments_lexer": "ipython2",
   "version": "2.7.13"
  }
 },
 "nbformat": 4,
 "nbformat_minor": 2
}
